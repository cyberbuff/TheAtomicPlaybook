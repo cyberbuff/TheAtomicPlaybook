{
 "cells": [
  {
   "cell_type": "markdown",
   "id": "e628ecd4",
   "metadata": {},
   "source": "# T1021.006 - Windows Remote Management\nAdversaries may use [Valid Accounts](https://attack.mitre.org/techniques/T1078) to interact with remote systems using Windows Remote Management (WinRM). The adversary may then perform actions as the logged-on user.\n\nWinRM is the name of both a Windows service and a protocol that allows a user to interact with a remote system (e.g., run an executable, modify the Registry, modify services).(Citation: Microsoft WinRM) It may be called with the `winrm` command or by any number of programs such as PowerShell.(Citation: Jacobsen 2014) WinRM  can be used as a method of remotely interacting with [Windows Management Instrumentation](https://attack.mitre.org/techniques/T1047).(Citation: MSDN WMI)"
  },
  {
   "cell_type": "markdown",
   "id": "8ad435b9",
   "metadata": {},
   "source": "## Atomic Tests"
  },
  {
   "cell_type": "markdown",
   "id": "7889af78",
   "metadata": {},
   "source": [
    "### Atomic Test #1 - Enable Windows Remote Management",
    "Powershell Enable WinRM\n\nUpon successful execution, powershell will \"Enable-PSRemoting\" allowing for remote PS access.\n",
    "**Supported Platforms:** windows",
    "\nElevation Required (e.g. root or admin)",
    "#### Attack Commands: Run with `powershell`\n",
    "```powershell\nEnable-PSRemoting -Force\n```"
   ]
  },
  {
   "cell_type": "code",
   "execution_count": null,
   "id": "445ab6d5",
   "metadata": {},
   "outputs": [],
   "source": "Invoke-AtomicTest T1021.006 -TestNumbers 1"
  },
  {
   "cell_type": "markdown",
   "id": "5442389e",
   "metadata": {},
   "source": [
    "### Atomic Test #2 - Remote Code Execution with PS Credentials Using Invoke-Command",
    "Simulate lateral movement with PowerShell Remoting on the local host. \nUpon successful execution, PowerShell will execute `whoami` using `Invoke-Command`, targeting the \nlocal machine as remote target.\n",
    "**Supported Platforms:** windows",
    "#### Attack Commands: Run with `powershell`\n",
    "```powershell\nEnable-PSRemoting -Force\nInvoke-Command -ComputerName $env:COMPUTERNAME -ScriptBlock {whoami}```"
   ]
  },
  {
   "cell_type": "code",
   "execution_count": null,
   "id": "7b390e02",
   "metadata": {},
   "outputs": [],
   "source": "Invoke-AtomicTest T1021.006 -TestNumbers 2"
  },
  {
   "cell_type": "markdown",
   "id": "69fa8bce",
   "metadata": {},
   "source": "#### Cleanup: \n```powershell\nDisable-PSRemoting -Force```"
  },
  {
   "cell_type": "code",
   "execution_count": null,
   "id": "3a4285f3",
   "metadata": {},
   "outputs": [],
   "source": "Invoke-AtomicTest T1021.006 -TestNumbers 2 -Cleanup"
  },
  {
   "cell_type": "markdown",
   "id": "5f699319",
   "metadata": {},
   "source": "### Atomic Test #3 - WinRM Access with Evil-WinRM\nAn adversary may attempt to use Evil-WinRM with a valid account to interact with remote systems that have WinRM enabled\n**Supported Platforms:** windows\n\nElevation Required (e.g. root or admin)\n#### Dependencies:  Run with `powershell`!\n##### Description: Computer must have Ruby Installed\n##### Check Prereq Commands:\n```powershell\ntry {if (ruby -v) {exit 0} else {exit 1}} catch {exit 1}\n```\n##### Get Prereq Commands:\n```powershell\nNew-Item -Type Directory \"PathToAtomicsFolder\\..\\ExternalPayloads\\\" -ErrorAction Ignore -Force | Out-Null\nInvoke-WebRequest  -OutFile \"PathToAtomicsFolder\\..\\ExternalPayloads\\rubyinstaller-2.7.1-1-x64.exe\" https://github.com/oneclick/rubyinstaller2/releases/download/RubyInstaller-2.7.1-1/rubyinstaller-2.7.1-1-x64.exe\n$file1= \"PathToAtomicsFolder\\..\\ExternalPayloads\\rubyinstaller-2.7.1-1-x64.exe\"\nStart-Process $file1 /S;\n```\n##### Description: Computer must have Evil-WinRM installed\n##### Check Prereq Commands:\n```powershell\ntry {if (evil-winrm -h) {exit 0} else {exit 1}} catch {exit 1}\n```\n##### Get Prereq Commands:\n```powershell\ngem install evil-winrm\n```"
  },
  {
   "cell_type": "code",
   "execution_count": null,
   "id": "903039a6",
   "metadata": {},
   "outputs": [],
   "source": "Invoke-AtomicTest T1021.006 -TestNumbers 3 -GetPreReqs"
  },
  {
   "cell_type": "markdown",
   "id": "90cb5acd",
   "metadata": {},
   "source": [
    "#### Attack Commands: Run with `powershell`\n",
    "```powershell\nevil-winrm -i Target -u Domain\\Administrator -p P@ssw0rd1```"
   ]
  },
  {
   "cell_type": "code",
   "execution_count": null,
   "id": "6cc9f2e4",
   "metadata": {},
   "outputs": [],
   "source": "Invoke-AtomicTest T1021.006 -TestNumbers 3"
  },
  {
   "cell_type": "markdown",
   "id": "9fec8b84",
   "metadata": {},
   "source": "## Detection\nMonitor use of WinRM within an environment by tracking service execution. If it is not normally used or is disabled, then this may be an indicator of suspicious behavior.  Monitor processes created and actions taken by the WinRM process or a WinRM invoked script to correlate it with other related events.(Citation: Medium Detecting Lateral Movement) Also monitor for remote WMI connection attempts (typically over port 5985 when using HTTP and 5986 for HTTPS)."
  }
 ],
 "metadata": {
  "kernelspec": {
   "display_name": ".NET (PowerShell)",
   "language": "pwsh",
   "name": ".net-powershell"
  },
  "language_info": {
   "file_extension": ".ps1",
   "mimetype": "text/x-powershell",
   "name": "pwsh",
   "pygments_lexer": "powershell",
   "version": "7.0"
  }
 },
 "nbformat": 4,
 "nbformat_minor": 5
}