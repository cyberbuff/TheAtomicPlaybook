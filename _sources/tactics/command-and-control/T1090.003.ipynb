{
 "cells": [
  {
   "cell_type": "markdown",
   "id": "b30efba0",
   "metadata": {},
   "source": "# T1090.003 - Multi-hop Proxy\nTo disguise the source of malicious traffic, adversaries may chain together multiple proxies. Typically, a defender will be able to identify the last proxy traffic traversed before it enters their network; the defender may or may not be able to identify any previous proxies before the last-hop proxy. This technique makes identifying the original source of the malicious traffic even more difficult by requiring the defender to trace malicious traffic through several proxies to identify its source. A particular variant of this behavior is to use onion routing networks, such as the publicly available TOR network. (Citation: Onion Routing)\n\nIn the case of network infrastructure, particularly routers, it is possible for an adversary to leverage multiple compromised devices to create a multi-hop proxy chain within the Wide-Area Network (WAN) of the enterprise.  By leveraging [Patch System Image](https://attack.mitre.org/techniques/T1601/001), adversaries can add custom code to the affected network devices that will implement onion routing between those nodes.  This custom onion routing network will transport the encrypted C2 traffic through the compromised population, allowing adversaries to communicate with any device within the onion routing network.  This method is dependent upon the [Network Boundary Bridging](https://attack.mitre.org/techniques/T1599) method in order to allow the adversaries to cross the protected network boundary of the Internet perimeter and into the organization\u2019s WAN. Protocols such as ICMP may be used as a transport."
  },
  {
   "cell_type": "markdown",
   "id": "dc93954a",
   "metadata": {},
   "source": "## Atomic Tests"
  },
  {
   "cell_type": "markdown",
   "id": "f7550fd4",
   "metadata": {},
   "source": "### Atomic Test #1 - Psiphon\nPsiphon 3 is a circumvention tool from Psiphon Inc. that utilizes VPN, SSH and HTTP Proxy technology to provide you\nwith uncensored access to Internet.\nThis process will launch Psiphon 3 and establish a connection. Shortly after it will be shut down via process kill commands.\nMore information can be found about Psiphon using the following urls\nhttp://s3.amazonaws.com/0ubz-2q11-gi9y/en.html\nhttps://psiphon.ca/faq.html\n\n**Supported Platforms:** windows\n#### Dependencies:  Run with `powershell`!\n##### Description: The proxy settings backup file must exist on disk at $env:Temp\\proxy-backup.txt\n\n##### Check Prereq Commands:\n```powershell\nif (Test-Path $env:Temp\\proxy-backup.txt) {exit 0} else {exit 1}\n\n```\n##### Get Prereq Commands:\n```powershell\nif(-not (test-path $env:Temp\\proxy-backup.txt)){\n$Proxy = (Get-ItemProperty -Path 'HKCU:\\Software\\Microsoft\\Windows\\CurrentVersion\\Internet Settings' -Name \"ProxyServer\" -ErrorAction Ignore).ProxyServer\nSet-Content $env:Temp\\proxy-backup.txt $Proxy}\n\n```\n##### Description: The Psiphon executable must exist in the Downloads folder\n\n##### Check Prereq Commands:\n```powershell\nif (Test-Path \"PathToAtomicsFolder\\..\\ExternalPayloads\\psiphon3.exe\") {exit 0} else {exit 1}\n\n```\n##### Get Prereq Commands:\n```powershell\nNew-Item -Type Directory \"PathToAtomicsFolder\\..\\ExternalPayloads\\\" -ErrorAction ignore -Force | Out-Null\nInvoke-WebRequest \"https://s3.amazonaws.com/0ubz-2q11-gi9y/psiphon3.exe\" -OutFile \"PathToAtomicsFolder\\..\\ExternalPayloads\\psiphon3.exe\" \n\n```\n##### Description: Batch file containing commands to run must be in src directory \n\n##### Check Prereq Commands:\n```powershell\nif (Test-Path \"PathToAtomicsFolder\\T1090.003\\src\\Psiphon.bat\") {exit 0} else {exit 1}\n\n```\n##### Get Prereq Commands:\n```powershell\nNew-Item -Type Directory \"PathToAtomicsFolder\\T1090.003\\src\\\" -ErrorAction ignore -Force | Out-Null\nInvoke-WebRequest \"https://github.com/redcanaryco/atomic-red-team/raw/master/atomics/T1090.003/src/Psiphon.bat\" -OutFile \"PathToAtomicsFolder\\T1090.003\\src\\Psiphon.bat\"\n\n```"
  },
  {
   "cell_type": "code",
   "execution_count": null,
   "id": "78895260",
   "metadata": {},
   "outputs": [],
   "source": "Invoke-AtomicTest T1090.003 -TestNumbers 1 -GetPreReqs"
  },
  {
   "cell_type": "markdown",
   "id": "6ed6251d",
   "metadata": {},
   "source": [
    "#### Attack Commands: Run with `powershell`\n",
    "```powershell\n& \"PathToAtomicsFolder\\T1090.003\\src\\Psiphon.bat\"\n```"
   ]
  },
  {
   "cell_type": "code",
   "execution_count": null,
   "id": "33998491",
   "metadata": {},
   "outputs": [],
   "source": "Invoke-AtomicTest T1090.003 -TestNumbers 1"
  },
  {
   "cell_type": "markdown",
   "id": "1a4d6efb",
   "metadata": {},
   "source": "#### Cleanup: \n```powershell\n$Proxy = Get-Content $env:Temp\\proxy-backup.txt -ErrorAction Ignore\nif($null -ne $Proxy) \n{Set-ItemProperty -Path 'HKCU:\\Software\\Microsoft\\Windows\\CurrentVersion\\Internet Settings' -Name \"ProxyServer\" -Value $Proxy}\n```"
  },
  {
   "cell_type": "code",
   "execution_count": null,
   "id": "353f7802",
   "metadata": {},
   "outputs": [],
   "source": "Invoke-AtomicTest T1090.003 -TestNumbers 1 -Cleanup"
  },
  {
   "cell_type": "markdown",
   "id": "d6cbd958",
   "metadata": {},
   "source": "### Atomic Test #2 - Tor Proxy Usage - Windows\nThis test is designed to launch the tor proxy service, which is what is utilized in the background by the Tor Browser and other applications with add-ons in order to provide onion routing functionality.\nUpon successful execution, the tor proxy will be launched, run for 60 seconds, and then exit. \n\n**Supported Platforms:** windows\n\nElevation Required (e.g. root or admin)\n#### Dependencies:  Run with `powershell`!\n##### Description: tor.exe must be installed on the machine \n\n##### Check Prereq Commands:\n```powershell\nif (Test-Path \"PathToAtomicsFolder\\..\\ExternalPayloads\\tor\\Tor\\tor.exe\") {exit 0} else {exit 1}\n\n```\n##### Get Prereq Commands:\n```powershell\nNew-Item -Type Directory \"PathToAtomicsFolder\\..\\ExternalPayloads\\\" -ErrorAction Ignore -Force | Out-Null\nInvoke-WebRequest \"https://archive.torproject.org/tor-package-archive/torbrowser/11.0.6/tor-win32-0.4.6.9.zip\" -OutFile \"PathToAtomicsFolder\\..\\ExternalPayloads\\tor.zip\"\nexpand-archive -LiteralPath \"PathToAtomicsFolder\\..\\ExternalPayloads\\tor.zip\" -DestinationPath \"PathToAtomicsFolder\\..\\ExternalPayloads\\tor\"\n\n```"
  },
  {
   "cell_type": "code",
   "execution_count": null,
   "id": "44785a60",
   "metadata": {},
   "outputs": [],
   "source": "Invoke-AtomicTest T1090.003 -TestNumbers 2 -GetPreReqs"
  },
  {
   "cell_type": "markdown",
   "id": "025d7309",
   "metadata": {},
   "source": [
    "#### Attack Commands: Run with `powershell`\n",
    "```powershell\ninvoke-expression 'cmd /c start powershell -Command {cmd /c \"PathToAtomicsFolder\\..\\ExternalPayloads\\tor\\Tor\\tor.exe\"}'\nsleep -s 60\nstop-process -name \"tor\" | out-null\n```"
   ]
  },
  {
   "cell_type": "code",
   "execution_count": null,
   "id": "c8a9f47d",
   "metadata": {},
   "outputs": [],
   "source": "Invoke-AtomicTest T1090.003 -TestNumbers 2"
  },
  {
   "cell_type": "markdown",
   "id": "ce816307",
   "metadata": {},
   "source": "### Atomic Test #3 - Tor Proxy Usage - Debian/Ubuntu/FreeBSD\nThis test is designed to launch the tor proxy service, which is what is utilized in the background by the Tor Browser and other applications with add-ons in order to provide onion routing functionality.\nUpon successful execution, the tor proxy service will be launched. \n\n**Supported Platforms:** linux\n\nElevation Required (e.g. root or admin)\n#### Dependencies:  Run with `sh`!\n##### Description: Tor must be installed on the machine \n\n##### Check Prereq Commands:\n```sh\nif [ -x \"$(command -v tor --version)\" ]; then exit 0; else exit 1; fi\n\n```\n##### Get Prereq Commands:\n```sh\n(which apt && sudo apt-get -y install tor) || (which pkg && pkg install -y tor)\n\n```"
  },
  {
   "cell_type": "code",
   "execution_count": null,
   "id": "5cc7f099",
   "metadata": {},
   "outputs": [],
   "source": "Invoke-AtomicTest T1090.003 -TestNumbers 3 -GetPreReqs"
  },
  {
   "cell_type": "markdown",
   "id": "7d8cd066",
   "metadata": {},
   "source": [
    "#### Attack Commands: Run with `sh`\n",
    "```sh\n[ \"$(uname)\" = 'FreeBSD' ] && sysrc tor_enable=\"YES\" && service tor start || sudo systemctl start tor\n```"
   ]
  },
  {
   "cell_type": "code",
   "execution_count": null,
   "id": "33cdfe88",
   "metadata": {},
   "outputs": [],
   "source": "Invoke-AtomicTest T1090.003 -TestNumbers 3"
  },
  {
   "cell_type": "markdown",
   "id": "43f10be0",
   "metadata": {},
   "source": "#### Cleanup: \n```sh\n[ \"$(uname)\" = 'FreeBSD' ] && service tor stop && sysrc -x tor_enable || sudo systemctl stop tor\n```"
  },
  {
   "cell_type": "code",
   "execution_count": null,
   "id": "0feea11d",
   "metadata": {},
   "outputs": [],
   "source": "Invoke-AtomicTest T1090.003 -TestNumbers 3 -Cleanup"
  },
  {
   "cell_type": "markdown",
   "id": "27209391",
   "metadata": {},
   "source": "### Atomic Test #4 - Tor Proxy Usage - MacOS\nThis test is designed to launch the tor proxy service, which is what is utilized in the background by the Tor Browser and other applications with add-ons in order to provide onion routing functionality.\nUpon successful execution, the tor proxy service will be launched. \n\n**Supported Platforms:** macos\n#### Dependencies:  Run with `sh`!\n##### Description: Tor must be installed on the machine \n\n##### Check Prereq Commands:\n```sh\nif [ -x \"$(command -v tor --version)\" ]; then exit 0; else exit 1; fi\n\n```\n##### Get Prereq Commands:\n```sh\nif [ ! -x \"$(command -v brew --version)\" ]; then /bin/bash -c \"$(curl -fsSL https://raw.githubusercontent.com/Homebrew/install/HEAD/install.sh keystroke return)\"; fi\nbrew install tor\n\n```"
  },
  {
   "cell_type": "code",
   "execution_count": null,
   "id": "36981947",
   "metadata": {},
   "outputs": [],
   "source": "Invoke-AtomicTest T1090.003 -TestNumbers 4 -GetPreReqs"
  },
  {
   "cell_type": "markdown",
   "id": "e2ef91ac",
   "metadata": {},
   "source": [
    "#### Attack Commands: Run with `sh`\n",
    "```sh\nosascript -e 'tell application \"Terminal\" to do script \"tor\"'\n```"
   ]
  },
  {
   "cell_type": "code",
   "execution_count": null,
   "id": "cd19a149",
   "metadata": {},
   "outputs": [],
   "source": "Invoke-AtomicTest T1090.003 -TestNumbers 4"
  },
  {
   "cell_type": "markdown",
   "id": "a7c0186f",
   "metadata": {},
   "source": "#### Cleanup: \n```sh\nkillall tor > /dev/null 2>&1\n```"
  },
  {
   "cell_type": "code",
   "execution_count": null,
   "id": "ead0783c",
   "metadata": {},
   "outputs": [],
   "source": "Invoke-AtomicTest T1090.003 -TestNumbers 4 -Cleanup"
  },
  {
   "cell_type": "markdown",
   "id": "c5fe1c29",
   "metadata": {},
   "source": "## Detection\nWhen observing use of Multi-hop proxies, network data from the actual command and control servers could allow correlating incoming and outgoing flows to trace malicious traffic back to its source. Multi-hop proxies can also be detected by alerting on traffic to known anonymity networks (such as [Tor](https://attack.mitre.org/software/S0183)) or known adversary infrastructure that uses this technique.\n\nIn context of network devices, monitor traffic for encrypted communications from the Internet that is addressed to border routers.  Compare this traffic with the configuration to determine whether it matches with any configured site-to-site Virtual Private Network (VPN) connections the device was intended to have. Monitor traffic for encrypted communications originating from potentially breached routers that is addressed to other routers within the organization.  Compare the source and destination with the configuration of the device to determine if these channels are an authorized Virtual Private Network (VPN) connections or other encrypted modes of communication. Monitor ICMP traffic from the Internet that is addressed to border routers and is encrypted.  Few if any legitimate use cases exist for sending encrypted data to a network device via ICMP."
  }
 ],
 "metadata": {
  "kernelspec": {
   "display_name": ".NET (PowerShell)",
   "language": "pwsh",
   "name": ".net-powershell"
  },
  "language_info": {
   "file_extension": ".ps1",
   "mimetype": "text/x-powershell",
   "name": "pwsh",
   "pygments_lexer": "powershell",
   "version": "7.0"
  }
 },
 "nbformat": 4,
 "nbformat_minor": 5
}