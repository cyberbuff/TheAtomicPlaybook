{
 "cells": [
  {
   "cell_type": "markdown",
   "id": "d6775033",
   "metadata": {},
   "source": "# T1571 - Non-Standard Port\nAdversaries may communicate using a protocol and port pairing that are typically not associated. For example, HTTPS over port 8088(Citation: Symantec Elfin Mar 2019) or port 587(Citation: Fortinet Agent Tesla April 2018) as opposed to the traditional port 443. Adversaries may make changes to the standard port used by a protocol to bypass filtering or muddle analysis/parsing of network data.\n\nAdversaries may also make changes to victim systems to abuse non-standard ports. For example, Registry keys and other configuration settings can be used to modify protocol and port pairings.(Citation: change_rdp_port_conti)"
  },
  {
   "cell_type": "markdown",
   "id": "aac307f6",
   "metadata": {},
   "source": "## Atomic Tests"
  },
  {
   "cell_type": "markdown",
   "id": "4ae4f36d",
   "metadata": {},
   "source": [
    "### Atomic Test #1 - Testing usage of uncommonly used port with PowerShell",
    "Testing uncommonly used port utilizing PowerShell. APT33 has been known to attempt telnet over port 8081. Upon execution, details about the successful\nport check will be displayed.\n",
    "**Supported Platforms:** windows",
    "#### Attack Commands: Run with `powershell`\n",
    "```powershell\nTest-NetConnection -ComputerName google.com -port 8081\n```"
   ]
  },
  {
   "cell_type": "code",
   "execution_count": null,
   "id": "b8ed64af",
   "metadata": {},
   "outputs": [],
   "source": "Invoke-AtomicTest T1571 -TestNumbers 1"
  },
  {
   "cell_type": "markdown",
   "id": "f84ae366",
   "metadata": {},
   "source": "### Atomic Test #2 - Testing usage of uncommonly used port\nTesting uncommonly used port utilizing telnet.\n\n**Supported Platforms:** linux, macos\n#### Dependencies:  Run with `sh`!\n##### Description: Requires telnet\n\n##### Check Prereq Commands:\n```sh\nwhich telnet\n\n```\n##### Get Prereq Commands:\n```sh\necho \"please install telnet to run this test\"; exit 1\n\n```"
  },
  {
   "cell_type": "code",
   "execution_count": null,
   "id": "651a0584",
   "metadata": {},
   "outputs": [],
   "source": "Invoke-AtomicTest T1571 -TestNumbers 2 -GetPreReqs"
  },
  {
   "cell_type": "markdown",
   "id": "290ebf1f",
   "metadata": {},
   "source": [
    "#### Attack Commands: Run with `sh`\n",
    "```sh\necho quit | telnet google.com 8081\nexit 0\n```"
   ]
  },
  {
   "cell_type": "code",
   "execution_count": null,
   "id": "11c8c42b",
   "metadata": {},
   "outputs": [],
   "source": "Invoke-AtomicTest T1571 -TestNumbers 2"
  },
  {
   "cell_type": "markdown",
   "id": "908e3d75",
   "metadata": {},
   "source": "## Detection\nAnalyze packet contents to detect communications that do not follow the expected protocol behavior for the port that is being used. Analyze network data for uncommon data flows (e.g., a client sending significantly more data than it receives from a server). Processes utilizing the network that do not normally have network communication or have never been seen before are suspicious.(Citation: University of Birmingham C2)"
  },
  {
   "cell_type": "markdown",
   "id": "86a6d214",
   "metadata": {},
   "source": "\n## Shield Active Defense\n### Network Monitoring \n Monitor network traffic in order to detect adversary activity. \n\n Network monitoring involves capturing network activity data, including capturing of server, firewall, and other relevant logs. A defender can then review them or send them to a centralized collection location for further analysis.\n#### Opportunity\nThere is an opportunity to monitor network traffic for different protocols, anomalous traffic patterns, transfer of data, etc. to determine the presence of an adversary.\n#### Use Case\nThe defender can implement network monitoring for and alert on  anomalous traffic patterns, large  or unexpected data transfers, and other activity that may reveal the presence of an adversary.\n#### Procedures\nCapture network logs for internet-facing devices and send those logs to a central collection location.\nCapture all network  device (router, switches, proxy, etc.) logs on a decoy network and send those logs to a central collection location.\n"
  }
 ],
 "metadata": {
  "kernelspec": {
   "display_name": ".NET (PowerShell)",
   "language": "pwsh",
   "name": ".net-powershell"
  },
  "language_info": {
   "file_extension": ".ps1",
   "mimetype": "text/x-powershell",
   "name": "pwsh",
   "pygments_lexer": "powershell",
   "version": "7.0"
  }
 },
 "nbformat": 4,
 "nbformat_minor": 5
}