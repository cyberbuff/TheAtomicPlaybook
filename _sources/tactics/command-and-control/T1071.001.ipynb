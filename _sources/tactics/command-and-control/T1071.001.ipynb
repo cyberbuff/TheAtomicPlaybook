{
 "cells": [
  {
   "cell_type": "markdown",
   "id": "b641b2cf",
   "metadata": {},
   "source": "# T1071.001 - Web Protocols\nAdversaries may communicate using application layer protocols associated with web traffic to avoid detection/network filtering by blending in with existing traffic. Commands to the remote system, and often the results of those commands, will be embedded within the protocol traffic between the client and server. \n\nProtocols such as HTTP and HTTPS that carry web traffic may be very common in environments. HTTP/S packets have many fields and headers in which data can be concealed. An adversary may abuse these protocols to communicate with systems under their control within a victim network while also mimicking normal, expected traffic. "
  },
  {
   "cell_type": "markdown",
   "id": "156cb042",
   "metadata": {},
   "source": "## Atomic Tests"
  },
  {
   "cell_type": "markdown",
   "id": "f38aaff2",
   "metadata": {},
   "source": [
    "### Atomic Test #1 - Malicious User Agents - Powershell",
    "This test simulates an infected host beaconing to command and control. Upon execution, no output will be displayed. \nUse an application such as Wireshark to record the session and observe user agent strings and responses.\n\nInspired by APTSimulator - https://github.com/NextronSystems/APTSimulator/blob/master/test-sets/command-and-control/malicious-user-agents.bat\n",
    "**Supported Platforms:** windows",
    "#### Attack Commands: Run with `powershell`\n",
    "```powershell\nInvoke-WebRequest www.google.com -UserAgent \"HttpBrowser/1.0\" | out-null\nInvoke-WebRequest www.google.com -UserAgent \"Wget/1.9+cvs-stable (Red Hat modified)\" | out-null\nInvoke-WebRequest www.google.com -UserAgent \"Opera/8.81 (Windows NT 6.0; U; en)\" | out-null\nInvoke-WebRequest www.google.com -UserAgent \"*<|>*\" | out-null\n```"
   ]
  },
  {
   "cell_type": "code",
   "execution_count": null,
   "id": "43bae265",
   "metadata": {},
   "outputs": [],
   "source": "Invoke-AtomicTest T1071.001 -TestNumbers 1"
  },
  {
   "cell_type": "markdown",
   "id": "dd357fcb",
   "metadata": {},
   "source": "### Atomic Test #2 - Malicious User Agents - CMD\nThis test simulates an infected host beaconing to command and control. Upon execution, no out put will be displayed. \nUse an application such as Wireshark to record the session and observe user agent strings and responses.\n\nInspired by APTSimulator - https://github.com/NextronSystems/APTSimulator/blob/master/test-sets/command-and-control/malicious-user-agents.bat\n\n**Supported Platforms:** windows\n#### Dependencies:  Run with `powershell`!\n##### Description: Curl must be installed on system \n\n##### Check Prereq Commands:\n```cmd\nif (Test-Path C:\\Windows\\System32\\Curl.exe) {exit 0} else {exit 1}\n\n```\n##### Get Prereq Commands:\n```cmd\nInvoke-WebRequest \"https://curl.haxx.se/windows/dl-7.71.1/curl-7.71.1-win32-mingw.zip\" -Outfile $env:temp\\curl.zip\nExpand-Archive -Path $env:temp\\curl.zip -DestinationPath $env:temp\\curl\nCopy-Item $env:temp\\curl\\curl-7.71.1-win32-mingw\\bin\\curl.exe C:\\Windows\\System32\\Curl.exe\nRemove-Item $env:temp\\curl\nRemove-Item $env:temp\\curl.zip\n\n```"
  },
  {
   "cell_type": "code",
   "execution_count": null,
   "id": "e1b4aa4e",
   "metadata": {},
   "outputs": [],
   "source": "Invoke-AtomicTest T1071.001 -TestNumbers 2 -GetPreReqs"
  },
  {
   "cell_type": "markdown",
   "id": "d65f7358",
   "metadata": {},
   "source": [
    "#### Attack Commands: Run with `command_prompt`\n",
    "```command_prompt\nC:\\Windows\\System32\\Curl.exe -s -A \"HttpBrowser/1.0\" -m3 www.google.com >nul 2>&1\nC:\\Windows\\System32\\Curl.exe -s -A \"Wget/1.9+cvs-stable (Red Hat modified)\" -m3 www.google.com >nul 2>&1\nC:\\Windows\\System32\\Curl.exe -s -A \"Opera/8.81 (Windows NT 6.0; U; en)\" -m3 www.google.com >nul 2>&1\nC:\\Windows\\System32\\Curl.exe -s -A \"*<|>*\" -m3 www.google.com >nul 2>&1\n```"
   ]
  },
  {
   "cell_type": "code",
   "execution_count": null,
   "id": "433a46d8",
   "metadata": {},
   "outputs": [],
   "source": "Invoke-AtomicTest T1071.001 -TestNumbers 2"
  },
  {
   "cell_type": "markdown",
   "id": "d2aa2dbb",
   "metadata": {},
   "source": [
    "### Atomic Test #3 - Malicious User Agents - Nix",
    "This test simulates an infected host beaconing to command and control.\nInspired by APTSimulator - https://github.com/NextronSystems/APTSimulator/blob/master/test-sets/command-and-control/malicious-user-agents.bat\n",
    "**Supported Platforms:** linux, macos",
    "#### Attack Commands: Run with `sh`\n",
    "```sh\ncurl -s -A \"HttpBrowser/1.0\" -m3 www.google.com\ncurl -s -A \"Wget/1.9+cvs-stable (Red Hat modified)\" -m3 www.google.com\ncurl -s -A \"Opera/8.81 (Windows NT 6.0; U; en)\" -m3 www.google.com\ncurl -s -A \"*<|>*\" -m3 www.google.com\n```"
   ]
  },
  {
   "cell_type": "code",
   "execution_count": null,
   "id": "2f9f9157",
   "metadata": {},
   "outputs": [],
   "source": "Invoke-AtomicTest T1071.001 -TestNumbers 3"
  },
  {
   "cell_type": "markdown",
   "id": "3b23d446",
   "metadata": {},
   "source": "## Detection\nAnalyze network data for uncommon data flows (e.g., a client sending significantly more data than it receives from a server). Processes utilizing the network that do not normally have network communication or have never been seen before are suspicious. Analyze packet contents to detect application layer protocols that do not follow the expected protocol standards regarding syntax, structure, or any other variable adversaries could leverage to conceal data.(Citation: University of Birmingham C2)\n\nMonitor for web traffic to/from known-bad or suspicious domains. "
  }
 ],
 "metadata": {
  "kernelspec": {
   "display_name": ".NET (PowerShell)",
   "language": "PowerShell",
   "name": ".net-powershell"
  },
  "language_info": {
   "file_extension": ".ps1",
   "mimetype": "text/x-powershell",
   "name": "PowerShell",
   "pygments_lexer": "powershell",
   "version": "7.0"
  }
 },
 "nbformat": 4,
 "nbformat_minor": 5
}