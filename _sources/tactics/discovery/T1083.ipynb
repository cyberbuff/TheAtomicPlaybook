{
 "cells": [
  {
   "cell_type": "markdown",
   "id": "7221b8e2",
   "metadata": {},
   "source": "# T1083 - File and Directory Discovery\nAdversaries may enumerate files and directories or may search in specific locations of a host or network share for certain information within a file system. Adversaries may use the information from [File and Directory Discovery](https://attack.mitre.org/techniques/T1083) during automated discovery to shape follow-on behaviors, including whether or not the adversary fully infects the target and/or attempts specific actions.\n\nMany command shell utilities can be used to obtain this information. Examples include <code>dir</code>, <code>tree</code>, <code>ls</code>, <code>find</code>, and <code>locate</code>.(Citation: Windows Commands JPCERT) Custom tools may also be used to gather file and directory information and interact with the [Native API](https://attack.mitre.org/techniques/T1106). Adversaries may also leverage a [Network Device CLI](https://attack.mitre.org/techniques/T1059/008) on network devices to gather file and directory information (e.g. <code>dir</code>, <code>show flash</code>, and/or <code>nvram</code>).(Citation: US-CERT-TA18-106A)"
  },
  {
   "cell_type": "markdown",
   "id": "7c6d423c",
   "metadata": {},
   "source": "## Atomic Tests"
  },
  {
   "cell_type": "markdown",
   "id": "1047bf73",
   "metadata": {},
   "source": [
    "### Atomic Test #1 - File and Directory Discovery (cmd.exe)",
    "Find or discover files on the file system.  Upon successful execution, this test will output the results of all the data discovery commands to a specified file.\n",
    "**Supported Platforms:** windows",
    "#### Attack Commands: Run with `command_prompt`\n",
    "```command_prompt\ndir /s c:\\ >> %temp%\\T1083Test1.txt\ndir /s \"c:\\Documents and Settings\" >> %temp%\\T1083Test1.txt\ndir /s \"c:\\Program Files\\\" >> %temp%\\T1083Test1.txt\ndir \"%systemdrive%\\Users\\*.*\" >> %temp%\\T1083Test1.txt\ndir \"%userprofile%\\AppData\\Roaming\\Microsoft\\Windows\\Recent\\*.*\" >> %temp%\\T1083Test1.txt\ndir \"%userprofile%\\Desktop\\*.*\" >> %temp%\\T1083Test1.txt\ntree /F >> %temp%\\T1083Test1.txt\n```"
   ]
  },
  {
   "cell_type": "code",
   "execution_count": null,
   "id": "6e628200",
   "metadata": {},
   "outputs": [],
   "source": "Invoke-AtomicTest T1083 -TestNumbers 1"
  },
  {
   "cell_type": "markdown",
   "id": "3221e5ee",
   "metadata": {},
   "source": "#### Cleanup: \n```cmd\ndel %temp%\\T1083Test1.txt\n```"
  },
  {
   "cell_type": "code",
   "execution_count": null,
   "id": "11376a80",
   "metadata": {},
   "outputs": [],
   "source": "Invoke-AtomicTest T1083 -TestNumbers 1 -Cleanup"
  },
  {
   "cell_type": "markdown",
   "id": "e5390214",
   "metadata": {},
   "source": [
    "### Atomic Test #2 - File and Directory Discovery (PowerShell)",
    "Find or discover files on the file system. Upon execution, file and folder information will be displayed.\n",
    "**Supported Platforms:** windows",
    "#### Attack Commands: Run with `powershell`\n",
    "```powershell\nls -recurse\nget-childitem -recurse\ngci -recurse\n```"
   ]
  },
  {
   "cell_type": "code",
   "execution_count": null,
   "id": "501f3bca",
   "metadata": {},
   "outputs": [],
   "source": "Invoke-AtomicTest T1083 -TestNumbers 2"
  },
  {
   "cell_type": "markdown",
   "id": "eb35714e",
   "metadata": {},
   "source": [
    "### Atomic Test #3 - Nix File and Directory Discovery",
    "Find or discover files on the file system\n\nReferences:\n\nhttp://osxdaily.com/2013/01/29/list-all-files-subdirectory-contents-recursively/\n\nhttps://perishablepress.com/list-files-folders-recursively-terminal/\n",
    "**Supported Platforms:** linux, macos",
    "#### Attack Commands: Run with `sh`\n",
    "```sh\nls -a >> /tmp/T1083.txt\nif [ -d /Library/Preferences/ ]; then ls -la /Library/Preferences/ > /tmp/T1083.txt; fi;\nfile */* *>> /tmp/T1083.txt\ncat /tmp/T1083.txt 2>/dev/null\nfind . -type f\nls -R | grep \":$\" | sed -e 's/:$//' -e 's/[^-][^\\/]*\\//--/g' -e 's/^/ /' -e 's/-/|/'\nlocate *\nwhich sh\n```"
   ]
  },
  {
   "cell_type": "code",
   "execution_count": null,
   "id": "92c7f9fa",
   "metadata": {},
   "outputs": [],
   "source": "Invoke-AtomicTest T1083 -TestNumbers 3"
  },
  {
   "cell_type": "markdown",
   "id": "d95c4c85",
   "metadata": {},
   "source": "#### Cleanup: \n```sh\nrm /tmp/T1083.txt\n```"
  },
  {
   "cell_type": "code",
   "execution_count": null,
   "id": "e295c29f",
   "metadata": {},
   "outputs": [],
   "source": "Invoke-AtomicTest T1083 -TestNumbers 3 -Cleanup"
  },
  {
   "cell_type": "markdown",
   "id": "8c3df43d",
   "metadata": {},
   "source": [
    "### Atomic Test #4 - Nix File and Directory Discovery 2",
    "Find or discover files on the file system\n",
    "**Supported Platforms:** linux, macos",
    "#### Attack Commands: Run with `sh`\n",
    "```sh\ncd $HOME && find . -print | sed -e 's;[^/]*/;|__;g;s;__|; |;g' > /tmp/T1083.txt\nif [ -f /etc/mtab ]; then cat /etc/mtab >> /tmp/T1083.txt; fi;\nfind . -type f -iname *.pdf >> /tmp/T1083.txt\ncat /tmp/T1083.txt\nfind . -type f -name \".*\"\n```"
   ]
  },
  {
   "cell_type": "code",
   "execution_count": null,
   "id": "aa5921bf",
   "metadata": {},
   "outputs": [],
   "source": "Invoke-AtomicTest T1083 -TestNumbers 4"
  },
  {
   "cell_type": "markdown",
   "id": "1f41e5b1",
   "metadata": {},
   "source": "#### Cleanup: \n```sh\nrm /tmp/T1083.txt```"
  },
  {
   "cell_type": "code",
   "execution_count": null,
   "id": "fe309f5d",
   "metadata": {},
   "outputs": [],
   "source": "Invoke-AtomicTest T1083 -TestNumbers 4 -Cleanup"
  },
  {
   "cell_type": "markdown",
   "id": "10137c32",
   "metadata": {},
   "source": [
    "### Atomic Test #5 - Simulating MAZE Directory Enumeration",
    "This test emulates MAZE ransomware's ability to enumerate directories using Powershell. \nUpon successful execution, this test will output the directory enumeration results to a specified file, as well as display them in the active window. \nSee https://www.mandiant.com/resources/tactics-techniques-procedures-associated-with-maze-ransomware-incidents\n",
    "**Supported Platforms:** windows",
    "#### Attack Commands: Run with `powershell`\n",
    "```powershell\n$folderarray = @(\"Desktop\", \"Downloads\", \"Documents\", \"AppData/Local\", \"AppData/Roaming\")\nGet-ChildItem -Path $env:homedrive -ErrorAction SilentlyContinue | Out-File -append $env:temp\\T1083Test5.txt\nGet-ChildItem -Path $env:programfiles -erroraction silentlycontinue | Out-File -append $env:temp\\T1083Test5.txt\nGet-ChildItem -Path \"${env:ProgramFiles(x86)}\" -erroraction silentlycontinue | Out-File -append $env:temp\\T1083Test5.txt\n$UsersFolder = \"$env:homedrive\\Users\\\"\nforeach ($directory in Get-ChildItem -Path $UsersFolder -ErrorAction SilentlyContinue) \n{\nforeach ($secondarydirectory in $folderarray)\n {Get-ChildItem -Path \"$UsersFolder/$directory/$secondarydirectory\" -ErrorAction SilentlyContinue | Out-File -append $env:temp\\T1083Test5.txt}\n}\ncat $env:temp\\T1083Test5.txt\n```"
   ]
  },
  {
   "cell_type": "code",
   "execution_count": null,
   "id": "0ccf9326",
   "metadata": {},
   "outputs": [],
   "source": "Invoke-AtomicTest T1083 -TestNumbers 5"
  },
  {
   "cell_type": "markdown",
   "id": "d01b24eb",
   "metadata": {},
   "source": "#### Cleanup: \n```powershell\nremove-item $env:temp\\T1083Test5.txt -ErrorAction SilentlyContinue\n```"
  },
  {
   "cell_type": "code",
   "execution_count": null,
   "id": "9b6ca0b8",
   "metadata": {},
   "outputs": [],
   "source": "Invoke-AtomicTest T1083 -TestNumbers 5 -Cleanup"
  },
  {
   "cell_type": "markdown",
   "id": "7b638150",
   "metadata": {},
   "source": "### Atomic Test #6 - Launch DirLister Executable\nLaunches the DirLister executable for a short period of time and then exits.\n\nRecently seen used by [BlackCat ransomware](https://news.sophos.com/en-us/2022/07/14/blackcat-ransomware-attacks-not-merely-a-byproduct-of-bad-luck/) to create a list of accessible directories and files.\n**Supported Platforms:** windows\n#### Dependencies:  Run with `powershell`!\n##### Description: DirLister.exe must exist in the specified path #{dirlister_path}\n\n##### Check Prereq Commands:\n```powershell\nif (Test-Path \"PathToAtomicsFolder\\..\\ExternalPayloads\\DirLister.exe\") {exit 0} else {exit 1}\n\n```\n##### Get Prereq Commands:\n```powershell\n$parentpath = Split-Path \"PathToAtomicsFolder\\..\\ExternalPayloads\\DirLister.exe\"\nNew-Item -ItemType Directory -Force -Path $parentpath | Out-Null\nInvoke-WebRequest https://github.com/SanderSade/DirLister/releases/download/v2.beta4/DirLister.v2.beta4.zip -OutFile \"PathToAtomicsFolder\\..\\ExternalPayloads\\TDirLister.v2.beta4.zip\"\nExpand-Archive -Path \"PathToAtomicsFolder\\..\\ExternalPayloads\\TDirLister.v2.beta4.zip\" -DestinationPath \"PathToAtomicsFolder\\..\\ExternalPayloads\\TDirLister.v2.beta4\" -Force\nCopy-Item \"PathToAtomicsFolder\\..\\ExternalPayloads\\TDirLister.v2.beta4\\*\" \"$parentpath\" -Recurse\nRemove-Item \"PathToAtomicsFolder\\..\\ExternalPayloads\\TDirLister.v2.beta4.zip\",\"PathToAtomicsFolder\\..\\ExternalPayloads\\TDirLister.v2.beta4\" -Recurse -ErrorAction Ignore\n\n```"
  },
  {
   "cell_type": "code",
   "execution_count": null,
   "id": "a0f7b0d8",
   "metadata": {},
   "outputs": [],
   "source": "Invoke-AtomicTest T1083 -TestNumbers 6 -GetPreReqs"
  },
  {
   "cell_type": "markdown",
   "id": "5bf6edee",
   "metadata": {},
   "source": [
    "#### Attack Commands: Run with `powershell`\n",
    "```powershell\nStart-Process \"PathToAtomicsFolder\\..\\ExternalPayloads\\DirLister.exe\"\nStart-Sleep -Second 4\nStop-Process -Name \"DirLister\"\n```"
   ]
  },
  {
   "cell_type": "code",
   "execution_count": null,
   "id": "7c74d362",
   "metadata": {},
   "outputs": [],
   "source": "Invoke-AtomicTest T1083 -TestNumbers 6"
  },
  {
   "cell_type": "markdown",
   "id": "d6e79be6",
   "metadata": {},
   "source": "## Detection\nSystem and network discovery techniques normally occur throughout an operation as an adversary learns the environment. Data and events should not be viewed in isolation, but as part of a chain of behavior that could lead to other activities, such as Collection and Exfiltration, based on the information obtained.\n\nMonitor processes and command-line arguments for actions that could be taken to gather system and network information. Remote access tools with built-in features may interact directly with the Windows API to gather information. Information may also be acquired through Windows system management tools such as [Windows Management Instrumentation](https://attack.mitre.org/techniques/T1047) and [PowerShell](https://attack.mitre.org/techniques/T1059/001). Further, [Network Device CLI](https://attack.mitre.org/techniques/T1059/008) commands may also be used to gather file and directory information with built-in features native to the network device platform.  Monitor CLI activity for unexpected or unauthorized use of commands being run by non-standard users from non-standard locations.  "
  },
  {
   "cell_type": "markdown",
   "id": "aacd8311",
   "metadata": {},
   "source": "\n## Shield Active Defense\n### Decoy Content  \n Seed content that can be used to lead an adversary in a specific direction, entice a behavior, etc. \n\n Decoy Content is the data used to tell a story to an adversary. This content can be legitimate or synthetic data which is used to reinforce or validate your defensive strategy. Examples of decoy content are files on a storage object, entries in the system registry, system shortcuts, etc.\n#### Opportunity\nThere is an opportunity to feed content to an adversary to influence their behaviors, test their interest in specific topics, or add legitimacy to a system or environment.\n#### Use Case\nA defender can utilize decoy files and directories to provide content that could be used by the adversary.\n#### Procedures\nCreate directories and files with names and contents using key words that may be relevant to an adversary to see if they examine or exfiltrate the data.\nSeed a file system with content that is of no value to the company but reinforces the legitimacy of the system if viewed by an adversary.\n"
  }
 ],
 "metadata": {
  "kernelspec": {
   "display_name": ".NET (PowerShell)",
   "language": "pwsh",
   "name": ".net-powershell"
  },
  "language_info": {
   "file_extension": ".ps1",
   "mimetype": "text/x-powershell",
   "name": "pwsh",
   "pygments_lexer": "powershell",
   "version": "7.0"
  }
 },
 "nbformat": 4,
 "nbformat_minor": 5
}