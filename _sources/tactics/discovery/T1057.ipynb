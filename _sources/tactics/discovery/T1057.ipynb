{
 "cells": [
  {
   "cell_type": "markdown",
   "id": "ce26f341",
   "metadata": {},
   "source": "# T1057 - Process Discovery\nAdversaries may attempt to get information about running processes on a system. Information obtained could be used to gain an understanding of common software/applications running on systems within the network. Adversaries may use the information from [Process Discovery](https://attack.mitre.org/techniques/T1057) during automated discovery to shape follow-on behaviors, including whether or not the adversary fully infects the target and/or attempts specific actions.\n\nIn Windows environments, adversaries could obtain details on running processes using the [Tasklist](https://attack.mitre.org/software/S0057) utility via [cmd](https://attack.mitre.org/software/S0106) or <code>Get-Process</code> via [PowerShell](https://attack.mitre.org/techniques/T1059/001). Information about processes can also be extracted from the output of [Native API](https://attack.mitre.org/techniques/T1106) calls such as <code>CreateToolhelp32Snapshot</code>. In Mac and Linux, this is accomplished with the <code>ps</code> command. Adversaries may also opt to enumerate processes via /proc."
  },
  {
   "cell_type": "markdown",
   "id": "e351ce98",
   "metadata": {},
   "source": "## Atomic Tests"
  },
  {
   "cell_type": "markdown",
   "id": "db8b78de",
   "metadata": {},
   "source": [
    "### Atomic Test #1 - Process Discovery - ps",
    "Utilize ps to identify processes.\n\nUpon successful execution, sh will execute ps and output to /tmp/loot.txt.\n",
    "**Supported Platforms:** macos, linux",
    "#### Attack Commands: Run with `sh`\n",
    "```sh\nps >> /tmp/loot.txt\nps aux >> /tmp/loot.txt\n```"
   ]
  },
  {
   "cell_type": "code",
   "execution_count": null,
   "id": "e3099252",
   "metadata": {},
   "outputs": [],
   "source": "Invoke-AtomicTest T1057 -TestNumbers 1"
  },
  {
   "cell_type": "markdown",
   "id": "2db8fbf4",
   "metadata": {},
   "source": "#### Cleanup: \n```sh\nrm /tmp/loot.txt\n```"
  },
  {
   "cell_type": "code",
   "execution_count": null,
   "id": "249a1a0d",
   "metadata": {},
   "outputs": [],
   "source": "Invoke-AtomicTest T1057 -TestNumbers 1 -Cleanup"
  },
  {
   "cell_type": "markdown",
   "id": "3475287b",
   "metadata": {},
   "source": [
    "### Atomic Test #2 - Process Discovery - tasklist",
    "Utilize tasklist to identify processes.\n\nUpon successful execution, cmd.exe will execute tasklist.exe to list processes. Output will be via stdout. \n",
    "**Supported Platforms:** windows",
    "#### Attack Commands: Run with `command_prompt`\n",
    "```command_prompt\ntasklist\n```"
   ]
  },
  {
   "cell_type": "code",
   "execution_count": null,
   "id": "135435e2",
   "metadata": {},
   "outputs": [],
   "source": "Invoke-AtomicTest T1057 -TestNumbers 2"
  },
  {
   "cell_type": "markdown",
   "id": "2f55fbe7",
   "metadata": {},
   "source": [
    "### Atomic Test #3 - Process Discovery - Get-Process",
    "Utilize Get-Process PowerShell cmdlet to identify processes.\n\nUpon successful execution, powershell.exe will execute Get-Process to list processes. Output will be via stdout. \n",
    "**Supported Platforms:** windows",
    "#### Attack Commands: Run with `powershell`\n",
    "```powershell\nGet-Process\n```"
   ]
  },
  {
   "cell_type": "code",
   "execution_count": null,
   "id": "7cc3c3fa",
   "metadata": {},
   "outputs": [],
   "source": "Invoke-AtomicTest T1057 -TestNumbers 3"
  },
  {
   "cell_type": "markdown",
   "id": "9cd41d73",
   "metadata": {},
   "source": [
    "### Atomic Test #4 - Process Discovery - get-wmiObject",
    "Utilize get-wmiObject PowerShell cmdlet to identify processes.\n\nUpon successful execution, powershell.exe will execute get-wmiObject to list processes. Output will be via stdout. \n",
    "**Supported Platforms:** windows",
    "#### Attack Commands: Run with `powershell`\n",
    "```powershell\nget-wmiObject -class Win32_Process\n```"
   ]
  },
  {
   "cell_type": "code",
   "execution_count": null,
   "id": "d4bb8352",
   "metadata": {},
   "outputs": [],
   "source": "Invoke-AtomicTest T1057 -TestNumbers 4"
  },
  {
   "cell_type": "markdown",
   "id": "2d836828",
   "metadata": {},
   "source": [
    "### Atomic Test #5 - Process Discovery - wmic process",
    "Utilize windows management instrumentation to identify processes.\n\nUpon successful execution, WMIC will execute process to list processes. Output will be via stdout. \n",
    "**Supported Platforms:** windows",
    "#### Attack Commands: Run with `command_prompt`\n",
    "```command_prompt\nwmic process get /format:list\n```"
   ]
  },
  {
   "cell_type": "code",
   "execution_count": null,
   "id": "0c053b80",
   "metadata": {},
   "outputs": [],
   "source": "Invoke-AtomicTest T1057 -TestNumbers 5"
  },
  {
   "cell_type": "markdown",
   "id": "2c37068e",
   "metadata": {},
   "source": "## Detection\nSystem and network discovery techniques normally occur throughout an operation as an adversary learns the environment. Data and events should not be viewed in isolation, but as part of a chain of behavior that could lead to other activities, such as Lateral Movement, based on the information obtained.\n\nNormal, benign system and network events that look like process discovery may be uncommon, depending on the environment and how they are used. Monitor processes and command-line arguments for actions that could be taken to gather system and network information. Remote access tools with built-in features may interact directly with the Windows API to gather information. Information may also be acquired through Windows system management tools such as [Windows Management Instrumentation](https://attack.mitre.org/techniques/T1047) and [PowerShell](https://attack.mitre.org/techniques/T1059/001)."
  },
  {
   "cell_type": "markdown",
   "id": "3c38ad8c",
   "metadata": {},
   "source": "\n## Shield Active Defense\n### Software Manipulation \n Make changes to a system's software properties and functions to achieve a desired effect. \n\n Software Manipulation allows a defender to alter or replace elements of the operating system, file system, or any other software installed and executed on a system.\n#### Opportunity\nThere is an opportunity for the defender to observe the adversary and control what they can see, what effects they can have, and/or what data they can access.\n#### Use Case\nA defender can modify commands such that the true list of running processes is not revealed, hiding necessary active defense processes from the adversary.\n#### Procedures\nHook the Win32 Sleep() function so that it always performs a Sleep(1) instead of the intended duration. This can increase the speed at which dynamic analysis can be performed when a normal malicious file sleeps for long periods before attempting additional capabilities.\nHook the Win32 NetUserChangePassword() and modify it such that the new password is different from the one provided. The data passed into the function is encrypted along with the modified new password, then logged so a defender can get alerted about the change as well as decrypt the new password for use.\nAlter the output of an adversary's profiling commands to make newly-built systems look like the operating system was installed months earlier.\nAlter the output of adversary recon commands to not show important assets, such as a file server containing sensitive data.\n"
  }
 ],
 "metadata": {
  "kernelspec": {
   "display_name": ".NET (PowerShell)",
   "language": "PowerShell",
   "name": ".net-powershell"
  },
  "language_info": {
   "file_extension": ".ps1",
   "mimetype": "text/x-powershell",
   "name": "PowerShell",
   "pygments_lexer": "powershell",
   "version": "7.0"
  }
 },
 "nbformat": 4,
 "nbformat_minor": 5
}