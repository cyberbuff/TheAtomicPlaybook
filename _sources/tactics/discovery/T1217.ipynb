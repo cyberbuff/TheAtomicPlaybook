{
 "cells": [
  {
   "cell_type": "markdown",
   "id": "954ade28",
   "metadata": {},
   "source": "# T1217 - Browser Bookmark Discovery\nAdversaries may enumerate browser bookmarks to learn more about compromised hosts. Browser bookmarks may reveal personal information about users (ex: banking sites, interests, social media, etc.) as well as details about internal network resources such as servers, tools/dashboards, or other related infrastructure.\n\nBrowser bookmarks may also highlight additional targets after an adversary has access to valid credentials, especially [Credentials In Files](https://attack.mitre.org/techniques/T1552/001) associated with logins cached by a browser.\n\nSpecific storage locations vary based on platform and/or application, but browser bookmarks are typically stored in local files/databases."
  },
  {
   "cell_type": "markdown",
   "id": "eb43448c",
   "metadata": {},
   "source": "## Atomic Tests"
  },
  {
   "cell_type": "markdown",
   "id": "2e444c61",
   "metadata": {},
   "source": [
    "### Atomic Test #1 - List Mozilla Firefox Bookmark Database Files on Linux",
    "Searches for Mozilla Firefox's places.sqlite file (on Linux distributions) that contains bookmarks and lists any found instances to a text file.\n",
    "**Supported Platforms:** linux",
    "#### Attack Commands: Run with `sh`\n",
    "```sh\nfind / -path \"*.mozilla/firefox/*/places.sqlite\" 2>/dev/null -exec echo {} >> /tmp/T1217-Firefox.txt \\;\ncat /tmp/T1217-Firefox.txt 2>/dev/null\n```"
   ]
  },
  {
   "cell_type": "code",
   "execution_count": null,
   "id": "f575c9c4",
   "metadata": {},
   "outputs": [],
   "source": "Invoke-AtomicTest T1217 -TestNumbers 1"
  },
  {
   "cell_type": "markdown",
   "id": "d38f12a2",
   "metadata": {},
   "source": "#### Cleanup: \n```sh\nrm -f /tmp/T1217-Firefox.txt 2>/dev/null\n```"
  },
  {
   "cell_type": "code",
   "execution_count": null,
   "id": "09fe6e5e",
   "metadata": {},
   "outputs": [],
   "source": "Invoke-AtomicTest T1217 -TestNumbers 1 -Cleanup"
  },
  {
   "cell_type": "markdown",
   "id": "bdc9294b",
   "metadata": {},
   "source": [
    "### Atomic Test #2 - List Mozilla Firefox Bookmark Database Files on macOS",
    "Searches for Mozilla Firefox's places.sqlite file (on macOS) that contains bookmarks and lists any found instances to a text file.\n",
    "**Supported Platforms:** macos",
    "#### Attack Commands: Run with `sh`\n",
    "```sh\nfind / -path \"*/Firefox/Profiles/*/places.sqlite\" -exec echo {} >> /tmp/T1217_Firefox.txt \\;\ncat /tmp/T1217_Firefox.txt 2>/dev/null\n```"
   ]
  },
  {
   "cell_type": "code",
   "execution_count": null,
   "id": "f5c47ec0",
   "metadata": {},
   "outputs": [],
   "source": "Invoke-AtomicTest T1217 -TestNumbers 2"
  },
  {
   "cell_type": "markdown",
   "id": "75d78864",
   "metadata": {},
   "source": "#### Cleanup: \n```sh\nrm -f /tmp/T1217_Firefox.txt 2>/dev/null\n```"
  },
  {
   "cell_type": "code",
   "execution_count": null,
   "id": "a9f1f944",
   "metadata": {},
   "outputs": [],
   "source": "Invoke-AtomicTest T1217 -TestNumbers 2 -Cleanup"
  },
  {
   "cell_type": "markdown",
   "id": "b197ea07",
   "metadata": {},
   "source": [
    "### Atomic Test #3 - List Google Chrome Bookmark JSON Files on macOS",
    "Searches for Google Chrome's Bookmark file (on macOS) that contains bookmarks in JSON format and lists any found instances to a text file.\n",
    "**Supported Platforms:** macos",
    "#### Attack Commands: Run with `sh`\n",
    "```sh\nfind / -path \"*/Google/Chrome/*/Bookmarks\" -exec echo {} >> /tmp/T1217-Chrome.txt \\;\ncat /tmp/T1217-Chrome.txt 2>/dev/null\n```"
   ]
  },
  {
   "cell_type": "code",
   "execution_count": null,
   "id": "046668e9",
   "metadata": {},
   "outputs": [],
   "source": "Invoke-AtomicTest T1217 -TestNumbers 3"
  },
  {
   "cell_type": "markdown",
   "id": "7f0f8ca5",
   "metadata": {},
   "source": "#### Cleanup: \n```sh\nrm -f /tmp/T1217-Chrome.txt 2>/dev/null\n```"
  },
  {
   "cell_type": "code",
   "execution_count": null,
   "id": "6dc31572",
   "metadata": {},
   "outputs": [],
   "source": "Invoke-AtomicTest T1217 -TestNumbers 3 -Cleanup"
  },
  {
   "cell_type": "markdown",
   "id": "2b964a9c",
   "metadata": {},
   "source": [
    "### Atomic Test #4 - List Google Chrome / Opera Bookmarks on Windows with powershell",
    "Searches for Google Chrome's and Opera's Bookmarks file (on Windows distributions) that contains bookmarks.\nUpon execution, paths that contain bookmark files will be displayed.\n",
    "**Supported Platforms:** windows",
    "#### Attack Commands: Run with `powershell`\n",
    "```powershell\nGet-ChildItem -Path C:\\Users\\ -Filter Bookmarks -Recurse -ErrorAction SilentlyContinue -Force\n```"
   ]
  },
  {
   "cell_type": "code",
   "execution_count": null,
   "id": "f0000c6e",
   "metadata": {},
   "outputs": [],
   "source": "Invoke-AtomicTest T1217 -TestNumbers 4"
  },
  {
   "cell_type": "markdown",
   "id": "0d929858",
   "metadata": {},
   "source": [
    "### Atomic Test #5 - List Google Chrome / Edge Chromium Bookmarks on Windows with command prompt",
    "Searches for Google Chromes's and Edge Chromium's Bookmarks file (on Windows distributions) that contains bookmarks.\nUpon execution, paths that contain bookmark files will be displayed.\n",
    "**Supported Platforms:** windows",
    "#### Attack Commands: Run with `command_prompt`\n",
    "```command_prompt\nwhere /R C:\\Users\\ Bookmarks\n```"
   ]
  },
  {
   "cell_type": "code",
   "execution_count": null,
   "id": "affa4aa0",
   "metadata": {},
   "outputs": [],
   "source": "Invoke-AtomicTest T1217 -TestNumbers 5"
  },
  {
   "cell_type": "markdown",
   "id": "b870a9f2",
   "metadata": {},
   "source": [
    "### Atomic Test #6 - List Mozilla Firefox bookmarks on Windows with command prompt",
    "Searches for Mozilla Firefox bookmarks file (on Windows distributions) that contains bookmarks in a SQLITE database.\nUpon execution, paths that contain bookmark files will be displayed.\n",
    "**Supported Platforms:** windows",
    "#### Attack Commands: Run with `command_prompt`\n",
    "```command_prompt\nwhere /R C:\\Users\\ places.sqlite\n```"
   ]
  },
  {
   "cell_type": "code",
   "execution_count": null,
   "id": "320cbeb3",
   "metadata": {},
   "outputs": [],
   "source": "Invoke-AtomicTest T1217 -TestNumbers 6"
  },
  {
   "cell_type": "markdown",
   "id": "53dc8d16",
   "metadata": {},
   "source": [
    "### Atomic Test #7 - List Internet Explorer Bookmarks using the command prompt",
    "This test will list the bookmarks for Internet Explorer that are found in the Favorites folder",
    "**Supported Platforms:** windows",
    "#### Attack Commands: Run with `command_prompt`\n",
    "```command_prompt\ndir /s /b %USERPROFILE%\\Favorites\n```"
   ]
  },
  {
   "cell_type": "code",
   "execution_count": null,
   "id": "021dd374",
   "metadata": {},
   "outputs": [],
   "source": "Invoke-AtomicTest T1217 -TestNumbers 7"
  },
  {
   "cell_type": "markdown",
   "id": "532ffd31",
   "metadata": {},
   "source": [
    "### Atomic Test #8 - List Safari Bookmarks on MacOS",
    "This test searches for Safari's Bookmarks file (on macOS) and lists any found instances to a text file.\n",
    "**Supported Platforms:** macos",
    "#### Attack Commands: Run with `sh`\n",
    "```sh\nfind / -path \"*/Safari/Bookmarks.plist\" 2>/dev/null >> /tmp/T1217-Safari.txt \ncat /tmp/T1217-Safari.txt \n```"
   ]
  },
  {
   "cell_type": "code",
   "execution_count": null,
   "id": "bda15bf4",
   "metadata": {},
   "outputs": [],
   "source": "Invoke-AtomicTest T1217 -TestNumbers 8"
  },
  {
   "cell_type": "markdown",
   "id": "4add7984",
   "metadata": {},
   "source": "#### Cleanup: \n```sh\nrm -f /tmp/T1217-Safari.txt 2>/dev/null\n```"
  },
  {
   "cell_type": "code",
   "execution_count": null,
   "id": "91a4b293",
   "metadata": {},
   "outputs": [],
   "source": "Invoke-AtomicTest T1217 -TestNumbers 8 -Cleanup"
  },
  {
   "cell_type": "markdown",
   "id": "c75a75e7",
   "metadata": {},
   "source": "## Detection\nMonitor processes and command-line arguments for actions that could be taken to gather browser bookmark information. Remote access tools with built-in features may interact directly using APIs to gather information. Information may also be acquired through system management tools such as [Windows Management Instrumentation](https://attack.mitre.org/techniques/T1047) and [PowerShell](https://attack.mitre.org/techniques/T1059/001).\n\nSystem and network discovery techniques normally occur throughout an operation as an adversary learns the environment. Data and events should not be viewed in isolation, but as part of a chain of behavior that could lead to other activities, such as Collection and Exfiltration, based on the information obtained."
  },
  {
   "cell_type": "markdown",
   "id": "7e72adf1",
   "metadata": {},
   "source": "\n## Shield Active Defense\n### Decoy Content  \n Seed content that can be used to lead an adversary in a specific direction, entice a behavior, etc. \n\n Decoy Content is the data used to tell a story to an adversary. This content can be legitimate or synthetic data which is used to reinforce or validate your defensive strategy. Examples of decoy content are files on a storage object, entries in the system registry, system shortcuts, etc.\n#### Opportunity\nThere is an opportunity to feed content to an adversary to influence their behaviors, test their interest in specific topics, or add legitimacy to a system or environment.\n#### Use Case\nA defender can use decoy content to give the false impression about the nature of the system in order to entice an adversary to continue engagement.\n#### Procedures\nCreate directories and files with names and contents using key words that may be relevant to an adversary to see if they examine or exfiltrate the data.\nSeed a file system with content that is of no value to the company but reinforces the legitimacy of the system if viewed by an adversary.\n"
  }
 ],
 "metadata": {
  "kernelspec": {
   "display_name": ".NET (PowerShell)",
   "language": "PowerShell",
   "name": ".net-powershell"
  },
  "language_info": {
   "file_extension": ".ps1",
   "mimetype": "text/x-powershell",
   "name": "PowerShell",
   "pygments_lexer": "powershell",
   "version": "7.0"
  }
 },
 "nbformat": 4,
 "nbformat_minor": 5
}