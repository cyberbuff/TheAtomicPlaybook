{
 "cells": [
  {
   "cell_type": "markdown",
   "id": "c11e0b4e",
   "metadata": {},
   "source": "# T1087.001 - Local Account\nAdversaries may attempt to get a listing of local system accounts. This information can help adversaries determine which local accounts exist on a system to aid in follow-on behavior.\n\nCommands such as <code>net user</code> and <code>net localgroup</code> of the [Net](https://attack.mitre.org/software/S0039) utility and <code>id</code> and <code>groups</code>on macOS and Linux can list local users and groups. On Linux, local users can also be enumerated through the use of the <code>/etc/passwd</code> file. On macOS the <code>dscl . list /Users</code> command can be used to enumerate local accounts."
  },
  {
   "cell_type": "markdown",
   "id": "c6cbca14",
   "metadata": {},
   "source": "## Atomic Tests"
  },
  {
   "cell_type": "markdown",
   "id": "c53f196f",
   "metadata": {},
   "source": [
    "### Atomic Test #1 - Enumerate all accounts (Local)",
    "Enumerate all accounts by copying /etc/passwd to another file\n",
    "**Supported Platforms:** linux",
    "#### Attack Commands: Run with `sh`\n",
    "```sh\ncat /etc/passwd > /tmp/T1087.001.txt\ncat /tmp/T1087.001.txt\n```"
   ]
  },
  {
   "cell_type": "code",
   "execution_count": null,
   "id": "b40f45f9",
   "metadata": {},
   "outputs": [],
   "source": "Invoke-AtomicTest T1087.001 -TestNumbers 1"
  },
  {
   "cell_type": "markdown",
   "id": "a26a07fe",
   "metadata": {},
   "source": "#### Cleanup: \n```sh\nrm -f /tmp/T1087.001.txt\n```"
  },
  {
   "cell_type": "code",
   "execution_count": null,
   "id": "7487c82f",
   "metadata": {},
   "outputs": [],
   "source": "Invoke-AtomicTest T1087.001 -TestNumbers 1 -Cleanup"
  },
  {
   "cell_type": "markdown",
   "id": "ab0e872c",
   "metadata": {},
   "source": [
    "### Atomic Test #2 - View sudoers access",
    "(requires root)\n",
    "**Supported Platforms:** linux, macos",
    "\nElevation Required (e.g. root or admin)",
    "#### Attack Commands: Run with `sh`\n",
    "```sh\nsudo cat /etc/sudoers > /tmp/T1087.001.txt\ncat /tmp/T1087.001.txt\n```"
   ]
  },
  {
   "cell_type": "code",
   "execution_count": null,
   "id": "f0a0231e",
   "metadata": {},
   "outputs": [],
   "source": "Invoke-AtomicTest T1087.001 -TestNumbers 2"
  },
  {
   "cell_type": "markdown",
   "id": "b9d50a0f",
   "metadata": {},
   "source": "#### Cleanup: \n```sh\nrm -f /tmp/T1087.001.txt\n```"
  },
  {
   "cell_type": "code",
   "execution_count": null,
   "id": "05d5fbb3",
   "metadata": {},
   "outputs": [],
   "source": "Invoke-AtomicTest T1087.001 -TestNumbers 2 -Cleanup"
  },
  {
   "cell_type": "markdown",
   "id": "56768e71",
   "metadata": {},
   "source": [
    "### Atomic Test #3 - View accounts with UID 0",
    "View accounts with UID 0\n",
    "**Supported Platforms:** linux, macos",
    "#### Attack Commands: Run with `sh`\n",
    "```sh\ngrep 'x:0:' /etc/passwd > /tmp/T1087.001.txt\ncat /tmp/T1087.001.txt 2>/dev/null\n```"
   ]
  },
  {
   "cell_type": "code",
   "execution_count": null,
   "id": "94b48eb2",
   "metadata": {},
   "outputs": [],
   "source": "Invoke-AtomicTest T1087.001 -TestNumbers 3"
  },
  {
   "cell_type": "markdown",
   "id": "2c6cf815",
   "metadata": {},
   "source": "#### Cleanup: \n```sh\nrm -f /tmp/T1087.001.txt 2>/dev/null\n```"
  },
  {
   "cell_type": "code",
   "execution_count": null,
   "id": "553aa0da",
   "metadata": {},
   "outputs": [],
   "source": "Invoke-AtomicTest T1087.001 -TestNumbers 3 -Cleanup"
  },
  {
   "cell_type": "markdown",
   "id": "ef840683",
   "metadata": {},
   "source": "### Atomic Test #4 - List opened files by user\nList opened files by user\n\n**Supported Platforms:** linux, macos\n#### Dependencies:  Run with `sh`!\n##### Description: check if lsof exists\n\n##### Check Prereq Commands:\n```sh\nwhich lsof\n\n```\n##### Get Prereq Commands:\n```sh\n(which yum && yum -y install lsof)||(which apt-get && DEBIAN_FRONTEND=noninteractive apt-get install -y lsof)\n\n```"
  },
  {
   "cell_type": "code",
   "execution_count": null,
   "id": "eb90b685",
   "metadata": {},
   "outputs": [],
   "source": "Invoke-AtomicTest T1087.001 -TestNumbers 4 -GetPreReqs"
  },
  {
   "cell_type": "markdown",
   "id": "d5d2fc7e",
   "metadata": {},
   "source": [
    "#### Attack Commands: Run with `sh`\n",
    "```sh\nusername=$(id -u -n) && lsof -u $username\n```"
   ]
  },
  {
   "cell_type": "code",
   "execution_count": null,
   "id": "4d512ccf",
   "metadata": {},
   "outputs": [],
   "source": "Invoke-AtomicTest T1087.001 -TestNumbers 4"
  },
  {
   "cell_type": "markdown",
   "id": "4d2dc319",
   "metadata": {},
   "source": "### Atomic Test #5 - Show if a user account has ever logged in remotely\nShow if a user account has ever logged in remotely\n\n**Supported Platforms:** linux\n#### Dependencies:  Run with `sh`!\n##### Description: Check if lastlog command exists on the machine\n\n##### Check Prereq Commands:\n```sh\nif [ -x \"$(command -v lastlog)\" ]; then exit 0; else exit 1; fi\n\n```\n##### Get Prereq Commands:\n```sh\nsudo apt-get install login; exit 1;\n\n```"
  },
  {
   "cell_type": "code",
   "execution_count": null,
   "id": "71e99dfc",
   "metadata": {},
   "outputs": [],
   "source": "Invoke-AtomicTest T1087.001 -TestNumbers 5 -GetPreReqs"
  },
  {
   "cell_type": "markdown",
   "id": "95d05191",
   "metadata": {},
   "source": [
    "#### Attack Commands: Run with `sh`\n",
    "```sh\nlastlog > /tmp/T1087.001.txt\ncat /tmp/T1087.001.txt\n```"
   ]
  },
  {
   "cell_type": "code",
   "execution_count": null,
   "id": "5a22c9ef",
   "metadata": {},
   "outputs": [],
   "source": "Invoke-AtomicTest T1087.001 -TestNumbers 5"
  },
  {
   "cell_type": "markdown",
   "id": "424256a8",
   "metadata": {},
   "source": "#### Cleanup: \n```sh\nrm -f /tmp/T1087.001.txt\n```"
  },
  {
   "cell_type": "code",
   "execution_count": null,
   "id": "5acb9333",
   "metadata": {},
   "outputs": [],
   "source": "Invoke-AtomicTest T1087.001 -TestNumbers 5 -Cleanup"
  },
  {
   "cell_type": "markdown",
   "id": "a6826d11",
   "metadata": {},
   "source": [
    "### Atomic Test #6 - Enumerate users and groups",
    "Utilize groups and id to enumerate users and groups\n",
    "**Supported Platforms:** linux, macos",
    "#### Attack Commands: Run with `sh`\n",
    "```sh\ngroups\nid\n```"
   ]
  },
  {
   "cell_type": "code",
   "execution_count": null,
   "id": "3baa06e5",
   "metadata": {},
   "outputs": [],
   "source": "Invoke-AtomicTest T1087.001 -TestNumbers 6"
  },
  {
   "cell_type": "markdown",
   "id": "3eb1e1b0",
   "metadata": {},
   "source": [
    "### Atomic Test #7 - Enumerate users and groups",
    "Utilize local utilities to enumerate users and groups\n",
    "**Supported Platforms:** macos",
    "#### Attack Commands: Run with `sh`\n",
    "```sh\ndscl . list /Groups\ndscl . list /Users\ndscl . list /Users | grep -v '_'\ndscacheutil -q group\ndscacheutil -q user\n```"
   ]
  },
  {
   "cell_type": "code",
   "execution_count": null,
   "id": "dcf811d1",
   "metadata": {},
   "outputs": [],
   "source": "Invoke-AtomicTest T1087.001 -TestNumbers 7"
  },
  {
   "cell_type": "markdown",
   "id": "6cb4a765",
   "metadata": {},
   "source": [
    "### Atomic Test #8 - Enumerate all accounts on Windows (Local)",
    "Enumerate all accounts\nUpon execution, multiple enumeration commands will be run and their output displayed in the PowerShell session\n",
    "**Supported Platforms:** windows",
    "#### Attack Commands: Run with `command_prompt`\n",
    "```command_prompt\nnet user\ndir c:\\Users\\\ncmdkey.exe /list\nnet localgroup \"Users\"\nnet localgroup\n```"
   ]
  },
  {
   "cell_type": "code",
   "execution_count": null,
   "id": "7ed9b23d",
   "metadata": {},
   "outputs": [],
   "source": "Invoke-AtomicTest T1087.001 -TestNumbers 8"
  },
  {
   "cell_type": "markdown",
   "id": "a2232de8",
   "metadata": {},
   "source": [
    "### Atomic Test #9 - Enumerate all accounts via PowerShell (Local)",
    "Enumerate all accounts via PowerShell. Upon execution, lots of user account and group information will be displayed.\n",
    "**Supported Platforms:** windows",
    "#### Attack Commands: Run with `powershell`\n",
    "```powershell\nnet user\nget-localuser\nget-localgroupmember -group Users\ncmdkey.exe /list\nls C:/Users\nget-childitem C:\\Users\\\ndir C:\\Users\\\nget-localgroup\nnet localgroup\n```"
   ]
  },
  {
   "cell_type": "code",
   "execution_count": null,
   "id": "722b7590",
   "metadata": {},
   "outputs": [],
   "source": "Invoke-AtomicTest T1087.001 -TestNumbers 9"
  },
  {
   "cell_type": "markdown",
   "id": "b7f9c89f",
   "metadata": {},
   "source": [
    "### Atomic Test #10 - Enumerate logged on users via CMD (Local)",
    "Enumerate logged on users. Upon execution, logged on users will be displayed.\n",
    "**Supported Platforms:** windows",
    "#### Attack Commands: Run with `command_prompt`\n",
    "```command_prompt\nquery user\n```"
   ]
  },
  {
   "cell_type": "code",
   "execution_count": null,
   "id": "6aa6996b",
   "metadata": {},
   "outputs": [],
   "source": "Invoke-AtomicTest T1087.001 -TestNumbers 10"
  },
  {
   "cell_type": "markdown",
   "id": "86c718cf",
   "metadata": {},
   "source": "## Detection\nSystem and network discovery techniques normally occur throughout an operation as an adversary learns the environment. Data and events should not be viewed in isolation, but as part of a chain of behavior that could lead to other activities, such as Lateral Movement, based on the information obtained.\n\nMonitor processes and command-line arguments for actions that could be taken to gather system and network information. Remote access tools with built-in features may interact directly with the Windows API to gather information. Information may also be acquired through Windows system management tools such as [Windows Management Instrumentation](https://attack.mitre.org/techniques/T1047) and [PowerShell](https://attack.mitre.org/techniques/T1059/001).\n\nMonitor for processes that can be used to enumerate user accounts, such as <code>net.exe</code> and <code>net1.exe</code>, especially when executed in quick succession.(Citation: Elastic - Koadiac Detection with EQL)"
  }
 ],
 "metadata": {
  "kernelspec": {
   "display_name": ".NET (PowerShell)",
   "language": "PowerShell",
   "name": ".net-powershell"
  },
  "language_info": {
   "file_extension": ".ps1",
   "mimetype": "text/x-powershell",
   "name": "PowerShell",
   "pygments_lexer": "powershell",
   "version": "7.0"
  }
 },
 "nbformat": 4,
 "nbformat_minor": 5
}