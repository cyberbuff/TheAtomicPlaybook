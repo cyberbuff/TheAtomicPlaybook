{
 "cells": [
  {
   "cell_type": "markdown",
   "id": "97b9dccc",
   "metadata": {},
   "source": "# T1087.001 - Local Account\nAdversaries may attempt to get a listing of local system accounts. This information can help adversaries determine which local accounts exist on a system to aid in follow-on behavior.\n\nCommands such as <code>net user</code> and <code>net localgroup</code> of the [Net](https://attack.mitre.org/software/S0039) utility and <code>id</code> and <code>groups</code>on macOS and Linux can list local users and groups. On Linux, local users can also be enumerated through the use of the <code>/etc/passwd</code> file. On macOS the <code>dscl . list /Users</code> command can be used to enumerate local accounts."
  },
  {
   "cell_type": "markdown",
   "id": "37ee2d54",
   "metadata": {},
   "source": "## Atomic Tests"
  },
  {
   "cell_type": "markdown",
   "id": "f4305b56",
   "metadata": {},
   "source": [
    "### Atomic Test #1 - Enumerate all accounts (Local)",
    "Enumerate all accounts by copying /etc/passwd to another file\n",
    "**Supported Platforms:** linux",
    "#### Attack Commands: Run with `sh`\n",
    "```sh\ncat /etc/passwd > /tmp/T1087.001.txt\ncat /tmp/T1087.001.txt\n```"
   ]
  },
  {
   "cell_type": "code",
   "execution_count": null,
   "id": "a7aadd89",
   "metadata": {},
   "outputs": [],
   "source": "Invoke-AtomicTest T1087.001 -TestNumbers 1"
  },
  {
   "cell_type": "markdown",
   "id": "5fc134a2",
   "metadata": {},
   "source": "#### Cleanup: \n```sh\nrm -f /tmp/T1087.001.txt\n```"
  },
  {
   "cell_type": "code",
   "execution_count": null,
   "id": "434ebe1c",
   "metadata": {},
   "outputs": [],
   "source": "Invoke-AtomicTest T1087.001 -TestNumbers 1 -Cleanup"
  },
  {
   "cell_type": "markdown",
   "id": "8be1609f",
   "metadata": {},
   "source": [
    "### Atomic Test #2 - View sudoers access",
    "(requires root)\n",
    "**Supported Platforms:** linux, macos",
    "\nElevation Required (e.g. root or admin)",
    "#### Attack Commands: Run with `sh`\n",
    "```sh\nif [ -f /etc/sudoers ]; then sudo cat /etc/sudoers > /tmp/T1087.001.txt; fi;\nif [ -f /usr/local/etc/sudoers ]; then sudo cat /usr/local/etc/sudoers > /tmp/T1087.001.txt; fi;\ncat /tmp/T1087.001.txt\n```"
   ]
  },
  {
   "cell_type": "code",
   "execution_count": null,
   "id": "f5c22807",
   "metadata": {},
   "outputs": [],
   "source": "Invoke-AtomicTest T1087.001 -TestNumbers 2"
  },
  {
   "cell_type": "markdown",
   "id": "72e141c9",
   "metadata": {},
   "source": "#### Cleanup: \n```sh\nrm -f /tmp/T1087.001.txt\n```"
  },
  {
   "cell_type": "code",
   "execution_count": null,
   "id": "5559bc3c",
   "metadata": {},
   "outputs": [],
   "source": "Invoke-AtomicTest T1087.001 -TestNumbers 2 -Cleanup"
  },
  {
   "cell_type": "markdown",
   "id": "95f26cf0",
   "metadata": {},
   "source": [
    "### Atomic Test #3 - View accounts with UID 0",
    "View accounts with UID 0\n",
    "**Supported Platforms:** linux, macos",
    "#### Attack Commands: Run with `sh`\n",
    "```sh\ngrep 'x:0:' /etc/passwd > /tmp/T1087.001.txt\ngrep '*:0:' /etc/passwd >> /tmp/T1087.001.txt\ncat /tmp/T1087.001.txt 2>/dev/null\n```"
   ]
  },
  {
   "cell_type": "code",
   "execution_count": null,
   "id": "2cf728d0",
   "metadata": {},
   "outputs": [],
   "source": "Invoke-AtomicTest T1087.001 -TestNumbers 3"
  },
  {
   "cell_type": "markdown",
   "id": "130e3ba7",
   "metadata": {},
   "source": "#### Cleanup: \n```sh\nrm -f /tmp/T1087.001.txt 2>/dev/null\n```"
  },
  {
   "cell_type": "code",
   "execution_count": null,
   "id": "a72f03cd",
   "metadata": {},
   "outputs": [],
   "source": "Invoke-AtomicTest T1087.001 -TestNumbers 3 -Cleanup"
  },
  {
   "cell_type": "markdown",
   "id": "bc890e57",
   "metadata": {},
   "source": "### Atomic Test #4 - List opened files by user\nList opened files by user\n\n**Supported Platforms:** linux, macos\n#### Dependencies:  Run with `sh`!\n##### Description: check if lsof exists\n\n##### Check Prereq Commands:\n```sh\nwhich lsof\n\n```\n##### Get Prereq Commands:\n```sh\n(which pkg && pkg install -y lsof)||(which yum && yum -y install lsof)||(which apt-get && DEBIAN_FRONTEND=noninteractive apt-get install -y lsof)\n\n```"
  },
  {
   "cell_type": "code",
   "execution_count": null,
   "id": "3d57bb1b",
   "metadata": {},
   "outputs": [],
   "source": "Invoke-AtomicTest T1087.001 -TestNumbers 4 -GetPreReqs"
  },
  {
   "cell_type": "markdown",
   "id": "0b89f28d",
   "metadata": {},
   "source": [
    "#### Attack Commands: Run with `sh`\n",
    "```sh\nusername=$(id -u -n) && lsof -u $username\n```"
   ]
  },
  {
   "cell_type": "code",
   "execution_count": null,
   "id": "e24c4e72",
   "metadata": {},
   "outputs": [],
   "source": "Invoke-AtomicTest T1087.001 -TestNumbers 4"
  },
  {
   "cell_type": "markdown",
   "id": "dcb9ad25",
   "metadata": {},
   "source": "### Atomic Test #5 - Show if a user account has ever logged in remotely\nShow if a user account has ever logged in remotely\n\n**Supported Platforms:** linux\n#### Dependencies:  Run with `sh`!\n##### Description: Check if lastlog command exists on the machine\n\n##### Check Prereq Commands:\n```sh\nif [ -x \"$(command -v lastlog)\" ]; then exit 0; else exit 1; fi\n\n```\n##### Get Prereq Commands:\n```sh\nsudo apt-get install login; exit 1;\n\n```"
  },
  {
   "cell_type": "code",
   "execution_count": null,
   "id": "2a5e5801",
   "metadata": {},
   "outputs": [],
   "source": "Invoke-AtomicTest T1087.001 -TestNumbers 5 -GetPreReqs"
  },
  {
   "cell_type": "markdown",
   "id": "94606beb",
   "metadata": {},
   "source": [
    "#### Attack Commands: Run with `sh`\n",
    "```sh\n[ \"$(uname)\" = 'FreeBSD' ] && cmd=\"lastlogin\" || cmd=\"lastlog\" \n$cmd > /tmp/T1087.001.txt\ncat /tmp/T1087.001.txt\n```"
   ]
  },
  {
   "cell_type": "code",
   "execution_count": null,
   "id": "ad1e4b10",
   "metadata": {},
   "outputs": [],
   "source": "Invoke-AtomicTest T1087.001 -TestNumbers 5"
  },
  {
   "cell_type": "markdown",
   "id": "3e6ec8bf",
   "metadata": {},
   "source": "#### Cleanup: \n```sh\nrm -f /tmp/T1087.001.txt\n```"
  },
  {
   "cell_type": "code",
   "execution_count": null,
   "id": "fc44df67",
   "metadata": {},
   "outputs": [],
   "source": "Invoke-AtomicTest T1087.001 -TestNumbers 5 -Cleanup"
  },
  {
   "cell_type": "markdown",
   "id": "7e5f185a",
   "metadata": {},
   "source": [
    "### Atomic Test #6 - Enumerate users and groups",
    "Utilize groups and id to enumerate users and groups\n",
    "**Supported Platforms:** linux, macos",
    "#### Attack Commands: Run with `sh`\n",
    "```sh\ngroups\nid\n```"
   ]
  },
  {
   "cell_type": "code",
   "execution_count": null,
   "id": "1d444f47",
   "metadata": {},
   "outputs": [],
   "source": "Invoke-AtomicTest T1087.001 -TestNumbers 6"
  },
  {
   "cell_type": "markdown",
   "id": "85022b6a",
   "metadata": {},
   "source": [
    "### Atomic Test #7 - Enumerate users and groups",
    "Utilize local utilities to enumerate users and groups\n",
    "**Supported Platforms:** macos",
    "#### Attack Commands: Run with `sh`\n",
    "```sh\ndscl . list /Groups\ndscl . list /Users\ndscl . list /Users | grep -v '_'\ndscacheutil -q group\ndscacheutil -q user\n```"
   ]
  },
  {
   "cell_type": "code",
   "execution_count": null,
   "id": "7068442d",
   "metadata": {},
   "outputs": [],
   "source": "Invoke-AtomicTest T1087.001 -TestNumbers 7"
  },
  {
   "cell_type": "markdown",
   "id": "96815f55",
   "metadata": {},
   "source": [
    "### Atomic Test #8 - Enumerate all accounts on Windows (Local)",
    "Enumerate all accounts\nUpon execution, multiple enumeration commands will be run and their output displayed in the PowerShell session\n",
    "**Supported Platforms:** windows",
    "#### Attack Commands: Run with `command_prompt`\n",
    "```command_prompt\nnet user\ndir c:\\Users\\\ncmdkey.exe /list\nnet localgroup \"Users\"\nnet localgroup\n```"
   ]
  },
  {
   "cell_type": "code",
   "execution_count": null,
   "id": "b4167f4d",
   "metadata": {},
   "outputs": [],
   "source": "Invoke-AtomicTest T1087.001 -TestNumbers 8"
  },
  {
   "cell_type": "markdown",
   "id": "e6b71f10",
   "metadata": {},
   "source": [
    "### Atomic Test #9 - Enumerate all accounts via PowerShell (Local)",
    "Enumerate all accounts via PowerShell. Upon execution, lots of user account and group information will be displayed.\n",
    "**Supported Platforms:** windows",
    "#### Attack Commands: Run with `powershell`\n",
    "```powershell\nnet user\nget-localuser\nget-localgroupmember -group Users\ncmdkey.exe /list\nls C:/Users\nget-childitem C:\\Users\\\ndir C:\\Users\\\nget-localgroup\nnet localgroup\n```"
   ]
  },
  {
   "cell_type": "code",
   "execution_count": null,
   "id": "52be421c",
   "metadata": {},
   "outputs": [],
   "source": "Invoke-AtomicTest T1087.001 -TestNumbers 9"
  },
  {
   "cell_type": "markdown",
   "id": "fcf20721",
   "metadata": {},
   "source": [
    "### Atomic Test #10 - Enumerate logged on users via CMD (Local)",
    "Enumerate logged on users. Upon execution, logged on users will be displayed.\n",
    "**Supported Platforms:** windows",
    "#### Attack Commands: Run with `command_prompt`\n",
    "```command_prompt\nquery user\n```"
   ]
  },
  {
   "cell_type": "code",
   "execution_count": null,
   "id": "a72cf5c8",
   "metadata": {},
   "outputs": [],
   "source": "Invoke-AtomicTest T1087.001 -TestNumbers 10"
  },
  {
   "cell_type": "markdown",
   "id": "50b5e6ed",
   "metadata": {},
   "source": "## Detection\nSystem and network discovery techniques normally occur throughout an operation as an adversary learns the environment. Data and events should not be viewed in isolation, but as part of a chain of behavior that could lead to other activities, such as Lateral Movement, based on the information obtained.\n\nMonitor processes and command-line arguments for actions that could be taken to gather system and network information. Remote access tools with built-in features may interact directly with the Windows API to gather information. Information may also be acquired through Windows system management tools such as [Windows Management Instrumentation](https://attack.mitre.org/techniques/T1047) and [PowerShell](https://attack.mitre.org/techniques/T1059/001).\n\nMonitor for processes that can be used to enumerate user accounts, such as <code>net.exe</code> and <code>net1.exe</code>, especially when executed in quick succession.(Citation: Elastic - Koadiac Detection with EQL)"
  }
 ],
 "metadata": {
  "kernelspec": {
   "display_name": ".NET (PowerShell)",
   "language": "pwsh",
   "name": ".net-powershell"
  },
  "language_info": {
   "file_extension": ".ps1",
   "mimetype": "text/x-powershell",
   "name": "pwsh",
   "pygments_lexer": "powershell",
   "version": "7.0"
  }
 },
 "nbformat": 4,
 "nbformat_minor": 5
}