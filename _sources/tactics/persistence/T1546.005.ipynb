{
 "cells": [
  {
   "cell_type": "markdown",
   "id": "e23f5354",
   "metadata": {},
   "source": "# T1546.005 - Trap\nAdversaries may establish persistence by executing malicious content triggered by an interrupt signal. The <code>trap</code> command allows programs and shells to specify commands that will be executed upon receiving interrupt signals. A common situation is a script allowing for graceful termination and handling of common keyboard interrupts like <code>ctrl+c</code> and <code>ctrl+d</code>.\n\nAdversaries can use this to register code to be executed when the shell encounters specific interrupts as a persistence mechanism. Trap commands are of the following format <code>trap 'command list' signals</code> where \"command list\" will be executed when \"signals\" are received.(Citation: Trap Manual)(Citation: Cyberciti Trap Statements)"
  },
  {
   "cell_type": "markdown",
   "id": "f5250b29",
   "metadata": {},
   "source": "## Atomic Tests"
  },
  {
   "cell_type": "markdown",
   "id": "98f5c7ee",
   "metadata": {},
   "source": [
    "### Atomic Test #1 - Trap EXIT",
    "Launch bash shell with command arg to create TRAP on EXIT.\nThe trap executes script that writes to /tmp/art-fish.txt\n",
    "**Supported Platforms:** macos, linux",
    "#### Attack Commands: Run with `sh`\n",
    "```sh\nbash -c 'trap \"nohup sh $PathToAtomicsFolder/T1546.005/src/echo-art-fish.sh\" EXIT'\n```"
   ]
  },
  {
   "cell_type": "code",
   "execution_count": null,
   "id": "76befb81",
   "metadata": {},
   "outputs": [],
   "source": "Invoke-AtomicTest T1546.005 -TestNumbers 1"
  },
  {
   "cell_type": "markdown",
   "id": "2c5ec577",
   "metadata": {},
   "source": "#### Cleanup: \n```sh\nrm -f /tmp/art-fish.txt\n```"
  },
  {
   "cell_type": "code",
   "execution_count": null,
   "id": "2ccdb5fa",
   "metadata": {},
   "outputs": [],
   "source": "Invoke-AtomicTest T1546.005 -TestNumbers 1 -Cleanup"
  },
  {
   "cell_type": "markdown",
   "id": "c77c6363",
   "metadata": {},
   "source": [
    "### Atomic Test #2 - Trap SIGINT",
    "Launch bash shell with command arg to create TRAP on SIGINT (CTRL+C), then send SIGINT signal.\nThe trap executes script that writes to /tmp/art-fish.txt\n",
    "**Supported Platforms:** macos, linux",
    "#### Attack Commands: Run with `sh`\n",
    "```sh\nbash -c 'trap \"nohup sh $PathToAtomicsFolder/T1546.005/src/echo-art-fish.sh\" SIGINT && kill -SIGINT $$'\n```"
   ]
  },
  {
   "cell_type": "code",
   "execution_count": null,
   "id": "cd8c8289",
   "metadata": {},
   "outputs": [],
   "source": "Invoke-AtomicTest T1546.005 -TestNumbers 2"
  },
  {
   "cell_type": "markdown",
   "id": "ce37ff5a",
   "metadata": {},
   "source": "#### Cleanup: \n```sh\nrm -f /tmp/art-fish.txt\n```"
  },
  {
   "cell_type": "code",
   "execution_count": null,
   "id": "878bacdf",
   "metadata": {},
   "outputs": [],
   "source": "Invoke-AtomicTest T1546.005 -TestNumbers 2 -Cleanup"
  },
  {
   "cell_type": "markdown",
   "id": "23d60df3",
   "metadata": {},
   "source": "## Detection\nTrap commands must be registered for the shell or programs, so they appear in files. Monitoring files for suspicious or overly broad trap commands can narrow down suspicious behavior during an investigation. Monitor for suspicious processes executed through trap interrupts."
  }
 ],
 "metadata": {
  "kernelspec": {
   "display_name": ".NET (PowerShell)",
   "language": "PowerShell",
   "name": ".net-powershell"
  },
  "language_info": {
   "file_extension": ".ps1",
   "mimetype": "text/x-powershell",
   "name": "PowerShell",
   "pygments_lexer": "powershell",
   "version": "7.0"
  }
 },
 "nbformat": 4,
 "nbformat_minor": 5
}