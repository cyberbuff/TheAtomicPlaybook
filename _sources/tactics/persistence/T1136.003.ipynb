{
 "cells": [
  {
   "cell_type": "markdown",
   "id": "3cdb9516",
   "metadata": {},
   "source": "# T1136.003 - Cloud Account\nAdversaries may create a cloud account to maintain access to victim systems. With a sufficient level of access, such accounts may be used to establish secondary credentialed access that does not require persistent remote access tools to be deployed on the system.(Citation: Microsoft O365 Admin Roles)(Citation: Microsoft Support O365 Add Another Admin, October 2019)(Citation: AWS Create IAM User)(Citation: GCP Create Cloud Identity Users)(Citation: Microsoft Azure AD Users)\n\nAdversaries may create accounts that only have access to specific cloud services, which can reduce the chance of detection.\n\nOnce an adversary has created a cloud account, they can then manipulate that account to ensure persistence and allow access to additional resources - for example, by adding [Additional Cloud Credentials](https://attack.mitre.org/techniques/T1098/001) or assigning [Additional Cloud Roles](https://attack.mitre.org/techniques/T1098/003)."
  },
  {
   "cell_type": "markdown",
   "id": "10e8fc3e",
   "metadata": {},
   "source": "## Atomic Tests"
  },
  {
   "cell_type": "markdown",
   "id": "461ba1f3",
   "metadata": {},
   "source": "### Atomic Test #1 - AWS - Create a new IAM user\nCreates a new IAM user in AWS. Upon successful creation, a new user will be created. Adversaries create new IAM users so that their malicious activity do not interupt the normal functions of the compromised users and can remain undetected for a long time\n\n**Supported Platforms:** iaas:aws\n\nElevation Required (e.g. root or admin)\n#### Dependencies:  Run with `sh`!\n##### Description: Check if ~/.aws/credentials file has a default stanza is configured\n\n##### Check Prereq Commands:\n```sh\ncat ~/.aws/credentials | grep \"default\"\n\n```\n##### Get Prereq Commands:\n```sh\necho Please install the aws-cli and configure your AWS defult profile using: aws configure\n\n```"
  },
  {
   "cell_type": "code",
   "execution_count": null,
   "id": "507eb898",
   "metadata": {},
   "outputs": [],
   "source": "Invoke-AtomicTest T1136.003 -TestNumbers 1 -GetPreReqs"
  },
  {
   "cell_type": "markdown",
   "id": "fb338ffe",
   "metadata": {},
   "source": [
    "#### Attack Commands: Run with `sh`\n",
    "```sh\naws iam create-user --user-name atomicredteam\n```"
   ]
  },
  {
   "cell_type": "code",
   "execution_count": null,
   "id": "af4711a1",
   "metadata": {},
   "outputs": [],
   "source": "Invoke-AtomicTest T1136.003 -TestNumbers 1"
  },
  {
   "cell_type": "markdown",
   "id": "70a7abdf",
   "metadata": {},
   "source": "#### Cleanup: \n```sh\naws iam delete-user --user-name atomicredteam\n```"
  },
  {
   "cell_type": "code",
   "execution_count": null,
   "id": "bfe44f94",
   "metadata": {},
   "outputs": [],
   "source": "Invoke-AtomicTest T1136.003 -TestNumbers 1 -Cleanup"
  },
  {
   "cell_type": "markdown",
   "id": "b8fb963e",
   "metadata": {},
   "source": "### Atomic Test #2 - Azure AD - Create a new user\nCreates a new user in Azure AD. Upon successful creation, a new user will be created. Adversaries create new users so that their malicious activity does not interrupt the normal functions of the compromised users and can remain undetected for a long time.\n**Supported Platforms:** azure-ad\n#### Dependencies:  Run with `powershell`!\n##### Description: Check if AzureAD PowerShell module is installed\n##### Check Prereq Commands:\n```powershell\nGet-InstalledModule -Name AzureAD\n```\n##### Get Prereq Commands:\n```powershell\necho \"use the following to install AzureAD PowerShell module - Install-Module -Name AzureAD -Scope CurrentUser -Repository PSGallery -Force\"\n```\n##### Description: Check if AzureAD PowerShell module is installed\n##### Check Prereq Commands:\n```powershell\nUpdate the input arguments so the userprincipalname value is accurate for your environment\n```\n##### Get Prereq Commands:\n```powershell\necho \"Update the input arguments in the .yaml file so that the userprincipalname value is accurate for your environment\"\n```"
  },
  {
   "cell_type": "code",
   "execution_count": null,
   "id": "a59f2cc9",
   "metadata": {},
   "outputs": [],
   "source": "Invoke-AtomicTest T1136.003 -TestNumbers 2 -GetPreReqs"
  },
  {
   "cell_type": "markdown",
   "id": "e1db5792",
   "metadata": {},
   "source": [
    "#### Attack Commands: Run with `powershell`\n",
    "```powershell\nConnect-AzureAD\n$userprincipalname = \"atomicredteam@yourdomain.com\"\n$username = \"atomicredteam\"      \n$password = \"reallylongcredential12345ART-ydsfghsdgfhsdgfhgsdhfg\"\n$PasswordProfile = New-Object -TypeName Microsoft.Open.AzureAD.Model.PasswordProfile\n$PasswordProfile.Password = $password\nNew-AzureADUser -DisplayName $username -PasswordProfile $PasswordProfile -UserPrincipalName $userprincipalname -AccountEnabled $true -MailNickName $username      ```"
   ]
  },
  {
   "cell_type": "code",
   "execution_count": null,
   "id": "32ec92ed",
   "metadata": {},
   "outputs": [],
   "source": "Invoke-AtomicTest T1136.003 -TestNumbers 2"
  },
  {
   "cell_type": "markdown",
   "id": "f3bd31c2",
   "metadata": {},
   "source": "#### Cleanup: \n```powershell\nRemove-AzureADUser -ObjectId \"atomicredteam@yourdomain.com\"```"
  },
  {
   "cell_type": "code",
   "execution_count": null,
   "id": "18d81ba8",
   "metadata": {},
   "outputs": [],
   "source": "Invoke-AtomicTest T1136.003 -TestNumbers 2 -Cleanup"
  },
  {
   "cell_type": "markdown",
   "id": "797bc1cc",
   "metadata": {},
   "source": "### Atomic Test #3 - Azure AD - Create a new user via Azure CLI\nCreates a new user in Azure AD via the Azure CLI. Upon successful creation, a new user will be created. Adversaries create new users so that their malicious activity does not interrupt the normal functions of the compromised users and can remain undetected for a long time.\n**Supported Platforms:** azure-ad\n#### Dependencies:  Run with `powershell`!\n##### Description: Check if Azure CLI is installed and install manually\n##### Check Prereq Commands:\n```powershell\naz account list\n```\n##### Get Prereq Commands:\n```powershell\necho \"use the following to install the Azure CLI manually https://aka.ms/installazurecliwindows\"\n```\n##### Description: Check if Azure CLI is installed and install via PowerShell\n##### Check Prereq Commands:\n```powershell\naz account list\n```\n##### Get Prereq Commands:\n```powershell\necho \"use the following to install the Azure CLI $ProgressPreference = 'SilentlyContinue'; Invoke-WebRequest -Uri https://aka.ms/installazurecliwindows -OutFile .\\AzureCLI.msi; Start-Process msiexec.exe -Wait -ArgumentList '/I AzureCLI.msi /quiet'; Remove-Item .\\AzureCLI.msi\"\n```\n##### Description: Update the userprincipalname to meet your requirements\n##### Check Prereq Commands:\n```powershell\nUpdate the input arguments so the userprincipalname value is accurate for your environment\n```\n##### Get Prereq Commands:\n```powershell\necho \"Update the input arguments in the .yaml file so that the userprincipalname value is accurate for your environment\"\n```"
  },
  {
   "cell_type": "code",
   "execution_count": null,
   "id": "77639fe1",
   "metadata": {},
   "outputs": [],
   "source": "Invoke-AtomicTest T1136.003 -TestNumbers 3 -GetPreReqs"
  },
  {
   "cell_type": "markdown",
   "id": "180914b8",
   "metadata": {},
   "source": [
    "#### Attack Commands: Run with `powershell`\n",
    "```powershell\naz login\n$userprincipalname = \"atomicredteam@yourdomain.com\"\n$username = \"atomicredteam\"      \n$password = \"reallylongcredential12345ART-ydsfghsdgfhsdgfhgsdhfg\"\naz ad user create --display-name $username --password $password --user-principal-name $userprincipalname\naz ad user list --filter \"displayname eq 'atomicredteam'\"     ```"
   ]
  },
  {
   "cell_type": "code",
   "execution_count": null,
   "id": "31b7e141",
   "metadata": {},
   "outputs": [],
   "source": "Invoke-AtomicTest T1136.003 -TestNumbers 3"
  },
  {
   "cell_type": "markdown",
   "id": "5120d7c7",
   "metadata": {},
   "source": "#### Cleanup: \n```powershell\naz ad user delete --id```"
  },
  {
   "cell_type": "code",
   "execution_count": null,
   "id": "8c00bd3c",
   "metadata": {},
   "outputs": [],
   "source": "Invoke-AtomicTest T1136.003 -TestNumbers 3 -Cleanup"
  },
  {
   "cell_type": "markdown",
   "id": "60187b38",
   "metadata": {},
   "source": "## Detection\nCollect usage logs from cloud user and administrator accounts to identify unusual activity in the creation of new accounts and assignment of roles to those accounts. Monitor for accounts assigned to admin roles that go over a certain threshold of known admins."
  }
 ],
 "metadata": {
  "kernelspec": {
   "display_name": ".NET (PowerShell)",
   "language": "pwsh",
   "name": ".net-powershell"
  },
  "language_info": {
   "file_extension": ".ps1",
   "mimetype": "text/x-powershell",
   "name": "pwsh",
   "pygments_lexer": "powershell",
   "version": "7.0"
  }
 },
 "nbformat": 4,
 "nbformat_minor": 5
}