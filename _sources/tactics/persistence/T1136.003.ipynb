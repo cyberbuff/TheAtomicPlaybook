{
 "cells": [
  {
   "cell_type": "markdown",
   "id": "80bee5d7",
   "metadata": {},
   "source": "# T1136.003 - Cloud Account\nAdversaries may create a cloud account to maintain access to victim systems. With a sufficient level of access, such accounts may be used to establish secondary credentialed access that does not require persistent remote access tools to be deployed on the system.(Citation: Microsoft O365 Admin Roles)(Citation: Microsoft Support O365 Add Another Admin, October 2019)(Citation: AWS Create IAM User)(Citation: GCP Create Cloud Identity Users)(Citation: Microsoft Azure AD Users)\n\nAdversaries may create accounts that only have access to specific cloud services, which can reduce the chance of detection."
  },
  {
   "cell_type": "markdown",
   "id": "d908ae51",
   "metadata": {},
   "source": "## Atomic Tests"
  },
  {
   "cell_type": "markdown",
   "id": "cc4606a5",
   "metadata": {},
   "source": "### Atomic Test #1 - AWS - Create a new IAM user\nCreates a new IAM user in AWS. Upon successful creation, a new user will be created. Adversaries create new IAM users so that their malicious activity do not interupt the normal functions of the compromised users and can remain undetected for a long time\n\n**Supported Platforms:** iaas:aws\n\nElevation Required (e.g. root or admin)\n#### Dependencies:  Run with `sh`!\n##### Description: Check if ~/.aws/credentials file has a default stanza is configured\n\n##### Check Prereq Commands:\n```sh\ncat ~/.aws/credentials | grep \"default\"\n\n```\n##### Get Prereq Commands:\n```sh\necho Please install the aws-cli and configure your AWS defult profile using: aws configure\n\n```"
  },
  {
   "cell_type": "code",
   "execution_count": null,
   "id": "11ca61a5",
   "metadata": {},
   "outputs": [],
   "source": "Invoke-AtomicTest T1136.003 -TestNumbers 1 -GetPreReqs"
  },
  {
   "cell_type": "markdown",
   "id": "c39b1fa7",
   "metadata": {},
   "source": [
    "#### Attack Commands: Run with `sh`\n",
    "```sh\naws iam create-user --user-name atomicredteam\n```"
   ]
  },
  {
   "cell_type": "code",
   "execution_count": null,
   "id": "264f26e1",
   "metadata": {},
   "outputs": [],
   "source": "Invoke-AtomicTest T1136.003 -TestNumbers 1"
  },
  {
   "cell_type": "markdown",
   "id": "7c0205cd",
   "metadata": {},
   "source": "#### Cleanup: \n```sh\naws iam delete-user --user-name atomicredteam\n```"
  },
  {
   "cell_type": "code",
   "execution_count": null,
   "id": "50322eaf",
   "metadata": {},
   "outputs": [],
   "source": "Invoke-AtomicTest T1136.003 -TestNumbers 1 -Cleanup"
  },
  {
   "cell_type": "markdown",
   "id": "dd1f73af",
   "metadata": {},
   "source": "## Detection\nCollect usage logs from cloud user and administrator accounts to identify unusual activity in the creation of new accounts and assignment of roles to those accounts. Monitor for accounts assigned to admin roles that go over a certain threshold of known admins."
  }
 ],
 "metadata": {
  "kernelspec": {
   "display_name": ".NET (PowerShell)",
   "language": "PowerShell",
   "name": ".net-powershell"
  },
  "language_info": {
   "file_extension": ".ps1",
   "mimetype": "text/x-powershell",
   "name": "PowerShell",
   "pygments_lexer": "powershell",
   "version": "7.0"
  }
 },
 "nbformat": 4,
 "nbformat_minor": 5
}