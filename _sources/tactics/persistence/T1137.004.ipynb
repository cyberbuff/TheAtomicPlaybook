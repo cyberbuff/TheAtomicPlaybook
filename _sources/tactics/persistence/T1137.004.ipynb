{
 "cells": [
  {
   "cell_type": "markdown",
   "id": "b7b72238",
   "metadata": {},
   "source": "# T1137.004 - Outlook Home Page\nAdversaries may abuse Microsoft Outlook's Home Page feature to obtain persistence on a compromised system. Outlook Home Page is a legacy feature used to customize the presentation of Outlook folders. This feature allows for an internal or external URL to be loaded and presented whenever a folder is opened. A malicious HTML page can be crafted that will execute code when loaded by Outlook Home Page.(Citation: SensePost Outlook Home Page)\n\nOnce malicious home pages have been added to the user\u2019s mailbox, they will be loaded when Outlook is started. Malicious Home Pages will execute when the right Outlook folder is loaded/reloaded.(Citation: SensePost Outlook Home Page)\n"
  },
  {
   "cell_type": "markdown",
   "id": "a9b8315c",
   "metadata": {},
   "source": "## Atomic Tests"
  },
  {
   "cell_type": "markdown",
   "id": "92493474",
   "metadata": {},
   "source": [
    "### Atomic Test #1 - Install Outlook Home Page Persistence",
    "This test simulates persistence being added to a host via the Outlook Home Page functionality. This causes Outlook to retrieve URL containing a malicious payload every time the targeted folder is viewed.\n\nTriggering the payload requires manually opening Outlook and viewing the targetted folder (e.g. Inbox).\n",
    "**Supported Platforms:** windows",
    "\nElevation Required (e.g. root or admin)",
    "#### Attack Commands: Run with `command_prompt`\n",
    "```command_prompt\nreg.exe add HKCU\\Software\\Microsoft\\Office\\16.0\\Outlook\\WebView\\Inbox /v URL /t REG_SZ /d file://PathToAtomicsFolder\\T1137.004\\src\\T1137.004.html /f\n```"
   ]
  },
  {
   "cell_type": "code",
   "execution_count": null,
   "id": "cc934445",
   "metadata": {},
   "outputs": [],
   "source": "Invoke-AtomicTest T1137.004 -TestNumbers 1"
  },
  {
   "cell_type": "markdown",
   "id": "24ee3993",
   "metadata": {},
   "source": "#### Cleanup: \n```cmd\nreg.exe delete HKCU\\Software\\Microsoft\\Office\\16.0\\Outlook\\WebView\\Inbox /v URL /f >nul 2>&1\n```"
  },
  {
   "cell_type": "code",
   "execution_count": null,
   "id": "feac0cf3",
   "metadata": {},
   "outputs": [],
   "source": "Invoke-AtomicTest T1137.004 -TestNumbers 1 -Cleanup"
  },
  {
   "cell_type": "markdown",
   "id": "58f7e794",
   "metadata": {},
   "source": "## Detection\nMicrosoft has released a PowerShell script to safely gather mail forwarding rules and custom forms in your mail environment as well as steps to interpret the output.(Citation: Microsoft Detect Outlook Forms) SensePost, whose tool [Ruler](https://attack.mitre.org/software/S0358) can be used to carry out malicious rules, forms, and Home Page attacks, has released a tool to detect Ruler usage.(Citation: SensePost NotRuler)\n\nCollect process execution information including process IDs (PID) and parent process IDs (PPID) and look for abnormal chains of activity resulting from Office processes. Non-standard process execution trees may also indicate suspicious or malicious behavior."
  }
 ],
 "metadata": {
  "kernelspec": {
   "display_name": ".NET (PowerShell)",
   "language": "PowerShell",
   "name": ".net-powershell"
  },
  "language_info": {
   "file_extension": ".ps1",
   "mimetype": "text/x-powershell",
   "name": "PowerShell",
   "pygments_lexer": "powershell",
   "version": "7.0"
  }
 },
 "nbformat": 4,
 "nbformat_minor": 5
}