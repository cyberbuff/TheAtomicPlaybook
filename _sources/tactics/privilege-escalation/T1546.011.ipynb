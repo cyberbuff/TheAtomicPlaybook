{
 "cells": [
  {
   "cell_type": "markdown",
   "id": "332db6fb",
   "metadata": {},
   "source": "# T1546.011 - Application Shimming\nAdversaries may establish persistence and/or elevate privileges by executing malicious content triggered by application shims. The Microsoft Windows Application Compatibility Infrastructure/Framework (Application Shim) was created to allow for backward compatibility of software as the operating system codebase changes over time. For example, the application shimming feature allows developers to apply fixes to applications (without rewriting code) that were created for Windows XP so that it will work with Windows 10. (Citation: Elastic Process Injection July 2017)\n\nWithin the framework, shims are created to act as a buffer between the program (or more specifically, the Import Address Table) and the Windows OS. When a program is executed, the shim cache is referenced to determine if the program requires the use of the shim database (.sdb). If so, the shim database uses hooking to redirect the code as necessary in order to communicate with the OS. \n\nA list of all shims currently installed by the default Windows installer (sdbinst.exe) is kept in:\n\n* <code>%WINDIR%\\AppPatch\\sysmain.sdb</code> and\n* <code>hklm\\software\\microsoft\\windows nt\\currentversion\\appcompatflags\\installedsdb</code>\n\nCustom databases are stored in:\n\n* <code>%WINDIR%\\AppPatch\\custom & %WINDIR%\\AppPatch\\AppPatch64\\Custom</code> and\n* <code>hklm\\software\\microsoft\\windows nt\\currentversion\\appcompatflags\\custom</code>\n\nTo keep shims secure, Windows designed them to run in user mode so they cannot modify the kernel and you must have administrator privileges to install a shim. However, certain shims can be used to [Bypass User Account Control](https://attack.mitre.org/techniques/T1548/002) (UAC and RedirectEXE), inject DLLs into processes (InjectDLL), disable Data Execution Prevention (DisableNX) and Structure Exception Handling (DisableSEH), and intercept memory addresses (GetProcAddress).\n\nUtilizing these shims may allow an adversary to perform several malicious acts such as elevate privileges, install backdoors, disable defenses like Windows Defender, etc. (Citation: FireEye Application Shimming) Shims can also be abused to establish persistence by continuously being invoked by affected programs."
  },
  {
   "cell_type": "markdown",
   "id": "fabd1214",
   "metadata": {},
   "source": "## Atomic Tests"
  },
  {
   "cell_type": "markdown",
   "id": "e8f85f90",
   "metadata": {},
   "source": "### Atomic Test #1 - Application Shim Installation\nInstall a shim database. This technique is used for privilege escalation and bypassing user access control.\nUpon execution, \"Installation of AtomicShim complete.\" will be displayed. To verify the shim behavior, run \nthe AtomicTest.exe from the <PathToAtomicsFolder>\\\\T1546.011\\\\bin directory. You should see a message box appear\nwith \"Atomic Shim DLL Test!\" as defined in the AtomicTest.dll. To better understand what is happening, review\nthe source code files is the <PathToAtomicsFolder>\\\\T1546.011\\\\src directory.\n\n**Supported Platforms:** windows\n\nElevation Required (e.g. root or admin)\n#### Dependencies:  Run with `powershell`!\n##### Description: Shim database file must exist on disk at specified location (#{file_path})\n\n##### Check Prereq Commands:\n```cmd\nif (Test-Path \"PathToAtomicsFolder\\T1546.011\\bin\\AtomicShimx86.sdb\") {exit 0} else {exit 1}\n\n```\n##### Get Prereq Commands:\n```cmd\n[Net.ServicePointManager]::SecurityProtocol = [Net.SecurityProtocolType]::Tls12\nNew-Item -Type Directory (split-path \"PathToAtomicsFolder\\T1546.011\\bin\\AtomicShimx86.sdb\") -ErrorAction ignore | Out-Null\nInvoke-WebRequest \"https://github.com/redcanaryco/atomic-red-team/raw/master/atomics/T1546.011/bin/AtomicShimx86.sdb\" -OutFile \"PathToAtomicsFolder\\T1546.011\\bin\\AtomicShimx86.sdb\"\n\n```\n##### Description: AtomicTest.dll must exist at c:\\Tools\\AtomicTest.dll\n\n##### Check Prereq Commands:\n```cmd\nif (Test-Path c:\\Tools\\AtomicTest.dll) {exit 0} else {exit 1}\n\n```\n##### Get Prereq Commands:\n```cmd\nNew-Item -Type Directory (split-path c:\\Tools\\AtomicTest.dll) -ErrorAction ignore | Out-Null\nInvoke-WebRequest \"https://github.com/redcanaryco/atomic-red-team/raw/master/atomics/T1546.011/bin/AtomicTest.dll\" -OutFile c:\\Tools\\AtomicTest.dll\n\n```"
  },
  {
   "cell_type": "code",
   "execution_count": null,
   "id": "6a81bb36",
   "metadata": {},
   "outputs": [],
   "source": "Invoke-AtomicTest T1546.011 -TestNumbers 1 -GetPreReqs"
  },
  {
   "cell_type": "markdown",
   "id": "c579a93b",
   "metadata": {},
   "source": [
    "#### Attack Commands: Run with `command_prompt`\n",
    "```command_prompt\nsdbinst.exe \"PathToAtomicsFolder\\T1546.011\\bin\\AtomicShimx86.sdb\"\n```"
   ]
  },
  {
   "cell_type": "code",
   "execution_count": null,
   "id": "32fc83c6",
   "metadata": {},
   "outputs": [],
   "source": "Invoke-AtomicTest T1546.011 -TestNumbers 1"
  },
  {
   "cell_type": "markdown",
   "id": "b081a77e",
   "metadata": {},
   "source": "#### Cleanup: \n```cmd\nsdbinst.exe -u \"PathToAtomicsFolder\\T1546.011\\bin\\AtomicShimx86.sdb\" >nul 2>&1\n```"
  },
  {
   "cell_type": "code",
   "execution_count": null,
   "id": "64773355",
   "metadata": {},
   "outputs": [],
   "source": "Invoke-AtomicTest T1546.011 -TestNumbers 1 -Cleanup"
  },
  {
   "cell_type": "markdown",
   "id": "39b1fd92",
   "metadata": {},
   "source": [
    "### Atomic Test #2 - New shim database files created in the default shim database directory",
    "Upon execution, check the \"C:\\Windows\\apppatch\\Custom\\\" folder for the new shim database\n\nhttps://www.fireeye.com/blog/threat-research/2017/05/fin7-shim-databases-persistence.html\n",
    "**Supported Platforms:** windows",
    "\nElevation Required (e.g. root or admin)",
    "#### Attack Commands: Run with `powershell`\n",
    "```powershell\nCopy-Item \"$PathToAtomicsFolder\\T1546.011\\bin\\T1546.011CompatDatabase.sdb\" C:\\Windows\\apppatch\\Custom\\T1546.011CompatDatabase.sdb\nCopy-Item \"$PathToAtomicsFolder\\T1546.011\\bin\\T1546.011CompatDatabase.sdb\" C:\\Windows\\apppatch\\Custom\\Custom64\\T1546.011CompatDatabase.sdb\n```"
   ]
  },
  {
   "cell_type": "code",
   "execution_count": null,
   "id": "5e4bdb76",
   "metadata": {},
   "outputs": [],
   "source": "Invoke-AtomicTest T1546.011 -TestNumbers 2"
  },
  {
   "cell_type": "markdown",
   "id": "deaae831",
   "metadata": {},
   "source": "#### Cleanup: \n```powershell\nRemove-Item C:\\Windows\\apppatch\\Custom\\T1546.011CompatDatabase.sdb -ErrorAction Ignore\nRemove-Item C:\\Windows\\apppatch\\Custom\\Custom64\\T1546.011CompatDatabase.sdb -ErrorAction Ignore\n```"
  },
  {
   "cell_type": "code",
   "execution_count": null,
   "id": "d47172d8",
   "metadata": {},
   "outputs": [],
   "source": "Invoke-AtomicTest T1546.011 -TestNumbers 2 -Cleanup"
  },
  {
   "cell_type": "markdown",
   "id": "94a06bcb",
   "metadata": {},
   "source": [
    "### Atomic Test #3 - Registry key creation and/or modification events for SDB",
    "Create registry keys in locations where fin7 typically places SDB patches. Upon execution, output will be displayed describing\nthe registry keys that were created. These keys can also be viewed using the Registry Editor.\n\nhttps://www.fireeye.com/blog/threat-research/2017/05/fin7-shim-databases-persistence.html\n",
    "**Supported Platforms:** windows",
    "\nElevation Required (e.g. root or admin)",
    "#### Attack Commands: Run with `powershell`\n",
    "```powershell\nNew-ItemProperty -Path HKLM:\"\\SOFTWARE\\Microsoft\\Windows NT\\CurrentVersion\\AppCompatFlags\\Custom\" -Name \"AtomicRedTeamT1546.011\" -Value \"AtomicRedTeamT1546.011\"\nNew-ItemProperty -Path HKLM:\"\\SOFTWARE\\Microsoft\\Windows NT\\CurrentVersion\\AppCompatFlags\\InstalledSDB\" -Name \"AtomicRedTeamT1546.011\" -Value \"AtomicRedTeamT1546.011\"\n```"
   ]
  },
  {
   "cell_type": "code",
   "execution_count": null,
   "id": "4768804c",
   "metadata": {},
   "outputs": [],
   "source": "Invoke-AtomicTest T1546.011 -TestNumbers 3"
  },
  {
   "cell_type": "markdown",
   "id": "e92b8c8b",
   "metadata": {},
   "source": "#### Cleanup: \n```powershell\nRemove-ItemProperty -Path HKLM:\"\\SOFTWARE\\Microsoft\\Windows NT\\CurrentVersion\\AppCompatFlags\\Custom\" -Name \"AtomicRedTeamT1546.011\" -ErrorAction Ignore\nRemove-ItemProperty -Path HKLM:\"\\SOFTWARE\\Microsoft\\Windows NT\\CurrentVersion\\AppCompatFlags\\InstalledSDB\" -Name \"AtomicRedTeamT1546.011\" -ErrorAction Ignore\n```"
  },
  {
   "cell_type": "code",
   "execution_count": null,
   "id": "7bd5176c",
   "metadata": {},
   "outputs": [],
   "source": "Invoke-AtomicTest T1546.011 -TestNumbers 3 -Cleanup"
  },
  {
   "cell_type": "markdown",
   "id": "fba738ee",
   "metadata": {},
   "source": "## Detection\nThere are several public tools available that will detect shims that are currently available (Citation: Black Hat 2015 App Shim):\n\n* Shim-Process-Scanner - checks memory of every running process for any shim flags\n* Shim-Detector-Lite - detects installation of custom shim databases\n* Shim-Guard - monitors registry for any shim installations\n* ShimScanner - forensic tool to find active shims in memory\n* ShimCacheMem - Volatility plug-in that pulls shim cache from memory (note: shims are only cached after reboot)\n\nMonitor process execution for sdbinst.exe and command-line arguments for potential indications of application shim abuse."
  }
 ],
 "metadata": {
  "kernelspec": {
   "display_name": ".NET (PowerShell)",
   "language": "pwsh",
   "name": ".net-powershell"
  },
  "language_info": {
   "file_extension": ".ps1",
   "mimetype": "text/x-powershell",
   "name": "pwsh",
   "pygments_lexer": "powershell",
   "version": "7.0"
  }
 },
 "nbformat": 4,
 "nbformat_minor": 5
}