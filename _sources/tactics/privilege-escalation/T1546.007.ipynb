{
 "cells": [
  {
   "cell_type": "markdown",
   "id": "b04a183b",
   "metadata": {},
   "source": "# T1546.007 - Netsh Helper DLL\nAdversaries may establish persistence by executing malicious content triggered by Netsh Helper DLLs. Netsh.exe (also referred to as Netshell) is a command-line scripting utility used to interact with the network configuration of a system. It contains functionality to add helper DLLs for extending functionality of the utility.(Citation: TechNet Netsh) The paths to registered netsh.exe helper DLLs are entered into the Windows Registry at <code>HKLM\\SOFTWARE\\Microsoft\\Netsh</code>.\n\nAdversaries can use netsh.exe helper DLLs to trigger execution of arbitrary code in a persistent manner. This execution would take place anytime netsh.exe is executed, which could happen automatically, with another persistence technique, or if other software (ex: VPN) is present on the system that executes netsh.exe as part of its normal functionality.(Citation: Github Netsh Helper CS Beacon)(Citation: Demaske Netsh Persistence)"
  },
  {
   "cell_type": "markdown",
   "id": "8c78dd54",
   "metadata": {},
   "source": "## Atomic Tests"
  },
  {
   "cell_type": "markdown",
   "id": "2180d15d",
   "metadata": {},
   "source": "### Atomic Test #1 - Netsh Helper DLL Registration\nYou can register a \"helper dll\" with Netsh as a persistance mechanism. The code in the dll is executed every time netsh.exe is called.\nThe NetshHelper.dll provided with the atomic will simply launch notepad when netsh.exe is run.\n\n[Blog](https://htmlpreview.github.io/?https://github.com/MatthewDemaske/blogbackup/blob/master/netshell.html)\n[Sample DLL code](https://github.com/outflanknl/NetshHelperBeacon)\n\n**Supported Platforms:** windows\n\nElevation Required (e.g. root or admin)\n#### Dependencies:  Run with `powershell`!\n##### Description: Helper DLL must exist on disk at specified location (#{helper_file})\n\n##### Check Prereq Commands:\n```cmd\nif (Test-Path \"PathToAtomicsFolder\\T1546.007\\bin\\NetshHelper.dll\") { exit 0} else { exit 1}\n\n```\n##### Get Prereq Commands:\n```cmd\nNew-Item -Type Directory (split-path PathToAtomicsFolder\\T1546.007\\bin\\NetshHelper.dll) -ErrorAction ignore | Out-Null\nInvoke-WebRequest \"https://github.com/redcanaryco/atomic-red-team/raw/master/atomics/T1546.007/bin/NetshHelper.dll\" -OutFile \"PathToAtomicsFolder\\T1546.007\\bin\\NetshHelper.dll\"\n\n```"
  },
  {
   "cell_type": "code",
   "execution_count": null,
   "id": "c04d8dfc",
   "metadata": {},
   "outputs": [],
   "source": "Invoke-AtomicTest T1546.007 -TestNumbers 1 -GetPreReqs"
  },
  {
   "cell_type": "markdown",
   "id": "10b59354",
   "metadata": {},
   "source": [
    "#### Attack Commands: Run with `command_prompt`\n",
    "```command_prompt\nnetsh.exe add helper PathToAtomicsFolder\\T1546.007\\bin\\NetshHelper.dll\ntaskkill /im notepad.exe /t /f > NUL 2>&1\n```"
   ]
  },
  {
   "cell_type": "code",
   "execution_count": null,
   "id": "bce1fc33",
   "metadata": {},
   "outputs": [],
   "source": "Invoke-AtomicTest T1546.007 -TestNumbers 1"
  },
  {
   "cell_type": "markdown",
   "id": "01b2bfc6",
   "metadata": {},
   "source": "#### Cleanup: \n```cmd\nnetsh.exe delete helper PathToAtomicsFolder\\T1546.007\\bin\\NetshHelper.dll\n```"
  },
  {
   "cell_type": "code",
   "execution_count": null,
   "id": "a1f3a51e",
   "metadata": {},
   "outputs": [],
   "source": "Invoke-AtomicTest T1546.007 -TestNumbers 1 -Cleanup"
  },
  {
   "cell_type": "markdown",
   "id": "d4b0ca69",
   "metadata": {},
   "source": "## Detection\nIt is likely unusual for netsh.exe to have any child processes in most environments. Monitor process executions and investigate any child processes spawned by netsh.exe for malicious behavior. Monitor the <code>HKLM\\SOFTWARE\\Microsoft\\Netsh</code> registry key for any new or suspicious entries that do not correlate with known system files or benign software.(Citation: Demaske Netsh Persistence)"
  }
 ],
 "metadata": {
  "kernelspec": {
   "display_name": ".NET (PowerShell)",
   "language": "PowerShell",
   "name": ".net-powershell"
  },
  "language_info": {
   "file_extension": ".ps1",
   "mimetype": "text/x-powershell",
   "name": "PowerShell",
   "pygments_lexer": "powershell",
   "version": "7.0"
  }
 },
 "nbformat": 4,
 "nbformat_minor": 5
}