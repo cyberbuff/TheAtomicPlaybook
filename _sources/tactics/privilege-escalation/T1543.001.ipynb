{
 "cells": [
  {
   "cell_type": "markdown",
   "id": "fdc86404",
   "metadata": {},
   "source": "# T1543.001 - Launch Agent\nAdversaries may create or modify launch agents to repeatedly execute malicious payloads as part of persistence. When a user logs in, a per-user launchd process is started which loads the parameters for each launch-on-demand user agent from the property list (.plist) file found in <code>/System/Library/LaunchAgents</code>, <code>/Library/LaunchAgents</code>, and <code>~/Library/LaunchAgents</code>.(Citation: AppleDocs Launch Agent Daemons)(Citation: OSX Keydnap malware) (Citation: Antiquated Mac Malware) Property list files use the <code>Label</code>, <code>ProgramArguments </code>, and <code>RunAtLoad</code> keys to identify the Launch Agent's name, executable location, and execution time.(Citation: OSX.Dok Malware) Launch Agents are often installed to perform updates to programs, launch user specified programs at login, or to conduct other developer tasks.\n\n Launch Agents can also be executed using the [Launchctl](https://attack.mitre.org/techniques/T1569/001) command.\n \nAdversaries may install a new Launch Agent that executes at login by placing a .plist file into the appropriate folders with the <code>RunAtLoad</code> or <code>KeepAlive</code> keys set to <code>true</code>.(Citation: Sofacy Komplex Trojan)(Citation: Methods of Mac Malware Persistence) The Launch Agent name may be disguised by using a name from the related operating system or benign software. Launch Agents are created with user level privileges and execute with user level permissions.(Citation: OSX Malware Detection)(Citation: OceanLotus for OS X) "
  },
  {
   "cell_type": "markdown",
   "id": "df0ee1c3",
   "metadata": {},
   "source": "## Atomic Tests"
  },
  {
   "cell_type": "markdown",
   "id": "68b94f85",
   "metadata": {},
   "source": "### Atomic Test #1 - Launch Agent\nCreate a plist and execute it\n\n**Supported Platforms:** macos\n\nElevation Required (e.g. root or admin)\n#### Dependencies:  Run with `bash`!\n##### Description: The shared library must exist on disk at specified location (#{path_malicious_plist})\n\n##### Check Prereq Commands:\n```bash\nif [ -f $PathToAtomicsFolder/T1543.001/src/atomicredteam_T1543_001.plist ]; then exit 0; else exit 1; fi;\n\n```\n##### Get Prereq Commands:\n```bash\necho \"The shared library doesn't exist. Check the path\"; exit 1;\n\n```"
  },
  {
   "cell_type": "code",
   "execution_count": null,
   "id": "2a5f39ac",
   "metadata": {},
   "outputs": [],
   "source": "Invoke-AtomicTest T1543.001 -TestNumbers 1 -GetPreReqs"
  },
  {
   "cell_type": "markdown",
   "id": "639bed47",
   "metadata": {},
   "source": [
    "#### Attack Commands: Run with `bash`\n",
    "```bash\nif [ ! -d ~/Library/LaunchAgents ]; then mkdir ~/Library/LaunchAgents; fi;\nsudo cp $PathToAtomicsFolder/T1543.001/src/atomicredteam_T1543_001.plist ~/Library/LaunchAgents/com.atomicredteam.plist\nsudo launchctl load -w ~/Library/LaunchAgents/com.atomicredteam.plist\n```"
   ]
  },
  {
   "cell_type": "code",
   "execution_count": null,
   "id": "aca9adad",
   "metadata": {},
   "outputs": [],
   "source": "Invoke-AtomicTest T1543.001 -TestNumbers 1"
  },
  {
   "cell_type": "markdown",
   "id": "b0585402",
   "metadata": {},
   "source": "#### Cleanup: \n```bash\nsudo launchctl unload ~/Library/LaunchAgents/com.atomicredteam.plist\nsudo rm ~/Library/LaunchAgents/com.atomicredteam.plist\n```"
  },
  {
   "cell_type": "code",
   "execution_count": null,
   "id": "59d7cf81",
   "metadata": {},
   "outputs": [],
   "source": "Invoke-AtomicTest T1543.001 -TestNumbers 1 -Cleanup"
  },
  {
   "cell_type": "markdown",
   "id": "7a730d4c",
   "metadata": {},
   "source": [
    "### Atomic Test #2 - Event Monitor Daemon Persistence",
    "This test adds persistence via a plist to execute via the macOS Event Monitor Daemon. \n",
    "**Supported Platforms:** macos",
    "\nElevation Required (e.g. root or admin)",
    "#### Attack Commands: Run with `bash`\n",
    "```bash\nsudo cp $PathToAtomicsFolder/T1543.001/src/atomicredteam_T1543_001.plist /etc/emond.d/rules/atomicredteam_T1543_001.plist\nsudo touch /private/var/db/emondClients/randomflag\n```"
   ]
  },
  {
   "cell_type": "code",
   "execution_count": null,
   "id": "8b0cd841",
   "metadata": {},
   "outputs": [],
   "source": "Invoke-AtomicTest T1543.001 -TestNumbers 2"
  },
  {
   "cell_type": "markdown",
   "id": "ef542a94",
   "metadata": {},
   "source": "#### Cleanup: \n```bash\nsudo rm /etc/emond.d/rules/atomicredteam_T1543_001.plist\nsudo rm /private/var/db/emondClients/randomflag```"
  },
  {
   "cell_type": "code",
   "execution_count": null,
   "id": "dc925003",
   "metadata": {},
   "outputs": [],
   "source": "Invoke-AtomicTest T1543.001 -TestNumbers 2 -Cleanup"
  },
  {
   "cell_type": "markdown",
   "id": "d5b90fd1",
   "metadata": {},
   "source": "## Detection\nMonitor Launch Agent creation through additional plist files and utilities such as Objective-See\u2019s  KnockKnock application. Launch Agents also require files on disk for persistence which can also be monitored via other file monitoring applications.\n\nEnsure Launch Agent's <code> ProgramArguments </code> key pointing to executables located in the <code>/tmp</code> or <code>/shared</code> folders are in alignment with enterprise policy. Ensure all Launch Agents with the <code>RunAtLoad</code> key set to <code>true</code> are in alignment with policy. "
  }
 ],
 "metadata": {
  "kernelspec": {
   "display_name": ".NET (PowerShell)",
   "language": "pwsh",
   "name": ".net-powershell"
  },
  "language_info": {
   "file_extension": ".ps1",
   "mimetype": "text/x-powershell",
   "name": "pwsh",
   "pygments_lexer": "powershell",
   "version": "7.0"
  }
 },
 "nbformat": 4,
 "nbformat_minor": 5
}