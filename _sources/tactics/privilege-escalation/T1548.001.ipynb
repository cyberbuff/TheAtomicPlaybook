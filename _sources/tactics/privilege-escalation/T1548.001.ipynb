{
 "cells": [
  {
   "cell_type": "markdown",
   "id": "a1792839",
   "metadata": {},
   "source": "# T1548.001 - Setuid and Setgid\nAn adversary may abuse configurations where an application has the setuid or setgid bits set in order to get code running in a different (and possibly more privileged) user\u2019s context. On Linux or macOS, when the setuid or setgid bits are set for an application binary, the application will run with the privileges of the owning user or group respectively.(Citation: setuid man page) Normally an application is run in the current user\u2019s context, regardless of which user or group owns the application. However, there are instances where programs need to be executed in an elevated context to function properly, but the user running them may not have the specific required privileges.\n\nInstead of creating an entry in the sudoers file, which must be done by root, any user can specify the setuid or setgid flag to be set for their own applications (i.e. [Linux and Mac File and Directory Permissions Modification](https://attack.mitre.org/techniques/T1222/002)). The <code>chmod</code> command can set these bits with bitmasking, <code>chmod 4777 [file]</code> or via shorthand naming, <code>chmod u+s [file]</code>. This will enable the setuid bit. To enable the setgid bit, <code>chmod 2775</code> and <code>chmod g+s</code> can be used.\n\nAdversaries can use this mechanism on their own malware to make sure they're able to execute in elevated contexts in the future.(Citation: OSX Keydnap malware) This abuse is often part of a \"shell escape\" or other actions to bypass an execution environment with restricted permissions.\n\nAlternatively, adversaries may choose to find and target vulnerable binaries with the setuid or setgid bits already enabled (i.e. [File and Directory Discovery](https://attack.mitre.org/techniques/T1083)). The setuid and setguid bits are indicated with an \"s\" instead of an \"x\" when viewing a file's attributes via <code>ls -l</code>. The <code>find</code> command can also be used to search for such files. For example, <code>find / -perm +4000 2>/dev/null</code> can be used to find files with setuid set and <code>find / -perm +2000 2>/dev/null</code> may be used for setgid. Binaries that have these bits set may then be abused by adversaries.(Citation: GTFOBins Suid)"
  },
  {
   "cell_type": "markdown",
   "id": "5725ea85",
   "metadata": {},
   "source": "## Atomic Tests"
  },
  {
   "cell_type": "markdown",
   "id": "76285cf3",
   "metadata": {},
   "source": [
    "### Atomic Test #1 - Make and modify binary from C source",
    "Make, change owner, and change file attributes on a C source code file\n",
    "**Supported Platforms:** macos, linux",
    "\nElevation Required (e.g. root or admin)",
    "#### Attack Commands: Run with `sh`\n",
    "```sh\ncp PathToAtomicsFolder/T1548.001/src/hello.c /tmp/hello.c\nsudo chown root /tmp/hello.c\nsudo make /tmp/hello\nsudo chown root /tmp/hello\nsudo chmod u+s /tmp/hello\n/tmp/hello\n```"
   ]
  },
  {
   "cell_type": "code",
   "execution_count": null,
   "id": "e863cd01",
   "metadata": {},
   "outputs": [],
   "source": "Invoke-AtomicTest T1548.001 -TestNumbers 1"
  },
  {
   "cell_type": "markdown",
   "id": "d3c34625",
   "metadata": {},
   "source": "#### Cleanup: \n```sh\nsudo rm /tmp/hello\nsudo rm /tmp/hello.c\n```"
  },
  {
   "cell_type": "code",
   "execution_count": null,
   "id": "527b0f00",
   "metadata": {},
   "outputs": [],
   "source": "Invoke-AtomicTest T1548.001 -TestNumbers 1 -Cleanup"
  },
  {
   "cell_type": "markdown",
   "id": "de1d0328",
   "metadata": {},
   "source": [
    "### Atomic Test #2 - Make and modify binary from C source (freebsd)",
    "Make, change owner, and change file attributes on a C source code file\n",
    "**Supported Platforms:** linux",
    "\nElevation Required (e.g. root or admin)",
    "#### Attack Commands: Run with `sh`\n",
    "```sh\ncp PathToAtomicsFolder/T1548.001/src/hello.c /tmp/hello.c\nchown root /tmp/hello.c\nmake /tmp/hello\nchown root /tmp/hello\nchmod u+s /tmp/hello\n/tmp/hello\n```"
   ]
  },
  {
   "cell_type": "code",
   "execution_count": null,
   "id": "aaa07290",
   "metadata": {},
   "outputs": [],
   "source": "Invoke-AtomicTest T1548.001 -TestNumbers 2"
  },
  {
   "cell_type": "markdown",
   "id": "bc9fb4ff",
   "metadata": {},
   "source": "#### Cleanup: \n```sh\nrm /tmp/hello\nrm /tmp/hello.c\n```"
  },
  {
   "cell_type": "code",
   "execution_count": null,
   "id": "f30d803a",
   "metadata": {},
   "outputs": [],
   "source": "Invoke-AtomicTest T1548.001 -TestNumbers 2 -Cleanup"
  },
  {
   "cell_type": "markdown",
   "id": "1f511404",
   "metadata": {},
   "source": [
    "### Atomic Test #3 - Set a SetUID flag on file",
    "This test sets the SetUID flag on a file in FreeBSD.\n",
    "**Supported Platforms:** macos, linux",
    "\nElevation Required (e.g. root or admin)",
    "#### Attack Commands: Run with `sh`\n",
    "```sh\nsudo touch /tmp/evilBinary\nsudo chown root /tmp/evilBinary\nsudo chmod u+xs /tmp/evilBinary\n```"
   ]
  },
  {
   "cell_type": "code",
   "execution_count": null,
   "id": "c1f552a8",
   "metadata": {},
   "outputs": [],
   "source": "Invoke-AtomicTest T1548.001 -TestNumbers 3"
  },
  {
   "cell_type": "markdown",
   "id": "913b6ad2",
   "metadata": {},
   "source": "#### Cleanup: \n```sh\nsudo rm /tmp/evilBinary\n```"
  },
  {
   "cell_type": "code",
   "execution_count": null,
   "id": "e3bbce7b",
   "metadata": {},
   "outputs": [],
   "source": "Invoke-AtomicTest T1548.001 -TestNumbers 3 -Cleanup"
  },
  {
   "cell_type": "markdown",
   "id": "bd2051c4",
   "metadata": {},
   "source": [
    "### Atomic Test #4 - Set a SetUID flag on file (freebsd)",
    "This test sets the SetUID flag on a file in FreeBSD.\n",
    "**Supported Platforms:** linux",
    "\nElevation Required (e.g. root or admin)",
    "#### Attack Commands: Run with `sh`\n",
    "```sh\ntouch /tmp/evilBinary\nchown root /tmp/evilBinary\nchmod u+xs /tmp/evilBinary\n```"
   ]
  },
  {
   "cell_type": "code",
   "execution_count": null,
   "id": "d46d6eb9",
   "metadata": {},
   "outputs": [],
   "source": "Invoke-AtomicTest T1548.001 -TestNumbers 4"
  },
  {
   "cell_type": "markdown",
   "id": "0d713091",
   "metadata": {},
   "source": "#### Cleanup: \n```sh\nrm /tmp/evilBinary\n```"
  },
  {
   "cell_type": "code",
   "execution_count": null,
   "id": "7090dd9d",
   "metadata": {},
   "outputs": [],
   "source": "Invoke-AtomicTest T1548.001 -TestNumbers 4 -Cleanup"
  },
  {
   "cell_type": "markdown",
   "id": "2a2b7bc8",
   "metadata": {},
   "source": [
    "### Atomic Test #5 - Set a SetGID flag on file",
    "This test sets the SetGID flag on a file in Linux and macOS.\n",
    "**Supported Platforms:** macos, linux",
    "\nElevation Required (e.g. root or admin)",
    "#### Attack Commands: Run with `sh`\n",
    "```sh\nsudo touch /tmp/evilBinary\nsudo chown root /tmp/evilBinary\nsudo chmod g+xs /tmp/evilBinary\n```"
   ]
  },
  {
   "cell_type": "code",
   "execution_count": null,
   "id": "32d1b998",
   "metadata": {},
   "outputs": [],
   "source": "Invoke-AtomicTest T1548.001 -TestNumbers 5"
  },
  {
   "cell_type": "markdown",
   "id": "c3abf862",
   "metadata": {},
   "source": "#### Cleanup: \n```sh\nsudo rm /tmp/evilBinary\n```"
  },
  {
   "cell_type": "code",
   "execution_count": null,
   "id": "b0cd0c84",
   "metadata": {},
   "outputs": [],
   "source": "Invoke-AtomicTest T1548.001 -TestNumbers 5 -Cleanup"
  },
  {
   "cell_type": "markdown",
   "id": "d0477b76",
   "metadata": {},
   "source": [
    "### Atomic Test #6 - Set a SetGID flag on file (freebsd)",
    "This test sets the SetGID flag on a file in FreeBSD.\n",
    "**Supported Platforms:** linux",
    "\nElevation Required (e.g. root or admin)",
    "#### Attack Commands: Run with `sh`\n",
    "```sh\ntouch /tmp/evilBinary\nchown root /tmp/evilBinary\nchmod g+xs /tmp/evilBinary\n```"
   ]
  },
  {
   "cell_type": "code",
   "execution_count": null,
   "id": "652099fd",
   "metadata": {},
   "outputs": [],
   "source": "Invoke-AtomicTest T1548.001 -TestNumbers 6"
  },
  {
   "cell_type": "markdown",
   "id": "51a5ae05",
   "metadata": {},
   "source": "#### Cleanup: \n```sh\nrm /tmp/evilBinary\n```"
  },
  {
   "cell_type": "code",
   "execution_count": null,
   "id": "8294bb06",
   "metadata": {},
   "outputs": [],
   "source": "Invoke-AtomicTest T1548.001 -TestNumbers 6 -Cleanup"
  },
  {
   "cell_type": "markdown",
   "id": "9c92a3ed",
   "metadata": {},
   "source": [
    "### Atomic Test #7 - Make and modify capabilities of a binary",
    "Make and modify [capabilities](https://man7.org/linux/man-pages/man7/capabilities.7.html) of a C source code file.\nThe binary doesn't have to modify the UID, but the binary is given the capability to arbitrarily modify it at any time with `setuid(0)`.\nWithout being owned by root, the binary can set the UID to 0.\n",
    "**Supported Platforms:** linux",
    "\nElevation Required (e.g. root or admin)",
    "#### Attack Commands: Run with `sh`\n",
    "```sh\ncp PathToAtomicsFolder/T1548.001/src/cap.c /tmp/cap.c\nmake /tmp/cap\nsudo setcap cap_setuid=ep /tmp/cap\n/tmp/cap\n```"
   ]
  },
  {
   "cell_type": "code",
   "execution_count": null,
   "id": "020d8ce8",
   "metadata": {},
   "outputs": [],
   "source": "Invoke-AtomicTest T1548.001 -TestNumbers 7"
  },
  {
   "cell_type": "markdown",
   "id": "6f2db089",
   "metadata": {},
   "source": "#### Cleanup: \n```sh\nrm /tmp/cap\nrm /tmp/cap.c\n```"
  },
  {
   "cell_type": "code",
   "execution_count": null,
   "id": "d94ee582",
   "metadata": {},
   "outputs": [],
   "source": "Invoke-AtomicTest T1548.001 -TestNumbers 7 -Cleanup"
  },
  {
   "cell_type": "markdown",
   "id": "a2dee160",
   "metadata": {},
   "source": [
    "### Atomic Test #8 - Provide the SetUID capability to a file",
    "This test gives a file the capability to set UID without using flags.\n",
    "**Supported Platforms:** linux",
    "\nElevation Required (e.g. root or admin)",
    "#### Attack Commands: Run with `sh`\n",
    "```sh\ntouch /tmp/evilBinary\nsudo setcap cap_setuid=ep /tmp/evilBinary\n```"
   ]
  },
  {
   "cell_type": "code",
   "execution_count": null,
   "id": "ec8abcee",
   "metadata": {},
   "outputs": [],
   "source": "Invoke-AtomicTest T1548.001 -TestNumbers 8"
  },
  {
   "cell_type": "markdown",
   "id": "6c389a1c",
   "metadata": {},
   "source": "#### Cleanup: \n```sh\nrm /tmp/evilBinary\n```"
  },
  {
   "cell_type": "code",
   "execution_count": null,
   "id": "d07382f7",
   "metadata": {},
   "outputs": [],
   "source": "Invoke-AtomicTest T1548.001 -TestNumbers 8 -Cleanup"
  },
  {
   "cell_type": "markdown",
   "id": "a5dc001c",
   "metadata": {},
   "source": [
    "### Atomic Test #9 - Do reconnaissance for files that have the setuid bit set",
    "This test simulates a command that can be run to enumerate files that have the setuid bit set\n",
    "**Supported Platforms:** linux",
    "#### Attack Commands: Run with `sh`\n",
    "```sh\nfind /usr/bin -perm -4000\n```"
   ]
  },
  {
   "cell_type": "code",
   "execution_count": null,
   "id": "06a81767",
   "metadata": {},
   "outputs": [],
   "source": "Invoke-AtomicTest T1548.001 -TestNumbers 9"
  },
  {
   "cell_type": "markdown",
   "id": "4dc7bf0e",
   "metadata": {},
   "source": [
    "### Atomic Test #10 - Do reconnaissance for files that have the setgid bit set",
    "This test simulates a command that can be run to enumerate files that have the setgid bit set\n",
    "**Supported Platforms:** linux",
    "#### Attack Commands: Run with `sh`\n",
    "```sh\nfind /usr/bin -perm -2000\n```"
   ]
  },
  {
   "cell_type": "code",
   "execution_count": null,
   "id": "f5bf40c3",
   "metadata": {},
   "outputs": [],
   "source": "Invoke-AtomicTest T1548.001 -TestNumbers 10"
  },
  {
   "cell_type": "markdown",
   "id": "1bd5676d",
   "metadata": {},
   "source": "## Detection\nMonitor the file system for files that have the setuid or setgid bits set. Monitor for execution of utilities, like chmod, and their command-line arguments to look for setuid or setguid bits being set."
  }
 ],
 "metadata": {
  "kernelspec": {
   "display_name": ".NET (PowerShell)",
   "language": "pwsh",
   "name": ".net-powershell"
  },
  "language_info": {
   "file_extension": ".ps1",
   "mimetype": "text/x-powershell",
   "name": "pwsh",
   "pygments_lexer": "powershell",
   "version": "7.0"
  }
 },
 "nbformat": 4,
 "nbformat_minor": 5
}