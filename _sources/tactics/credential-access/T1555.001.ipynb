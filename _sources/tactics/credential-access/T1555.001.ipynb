{
 "cells": [
  {
   "cell_type": "markdown",
   "id": "16d857db",
   "metadata": {},
   "source": "# T1555.001 - Keychain\nAdversaries may acquire credentials from Keychain. Keychain (or Keychain Services) is the macOS credential management system that stores account names, passwords, private keys, certificates, sensitive application data, payment data, and secure notes. There are three types of Keychains: Login Keychain, System Keychain, and Local Items (iCloud) Keychain. The default Keychain is the Login Keychain, which stores user passwords and information. The System Keychain stores items accessed by the operating system, such as items shared among users on a host. The Local Items (iCloud) Keychain is used for items synced with Apple\u2019s iCloud service. \n\nKeychains can be viewed and edited through the Keychain Access application or using the command-line utility <code>security</code>. Keychain files are located in <code>~/Library/Keychains/</code>, <code>/Library/Keychains/</code>, and <code>/Network/Library/Keychains/</code>.(Citation: Keychain Services Apple)(Citation: Keychain Decryption Passware)(Citation: OSX Keychain Schaumann)\n\nAdversaries may gather user credentials from Keychain storage/memory. For example, the command <code>security dump-keychain \u2013d</code> will dump all Login Keychain credentials from <code>~/Library/Keychains/login.keychain-db</code>. Adversaries may also directly read Login Keychain credentials from the <code>~/Library/Keychains/login.keychain</code> file. Both methods require a password, where the default password for the Login Keychain is the current user\u2019s password to login to the macOS host.(Citation: External to DA, the OS X Way)(Citation: Empire Keychain Decrypt)  "
  },
  {
   "cell_type": "markdown",
   "id": "b74b549f",
   "metadata": {},
   "source": "## Atomic Tests"
  },
  {
   "cell_type": "markdown",
   "id": "c70fabe5",
   "metadata": {},
   "source": [
    "### Atomic Test #1 - Keychain",
    "### Keychain Files\n\n  ~/Library/Keychains/\n\n  /Library/Keychains/\n\n  /Network/Library/Keychains/\n\n  [Security Reference](https://developer.apple.com/legacy/library/documentation/Darwin/Reference/ManPages/man1/security.1.html)\n\n  [Keychain dumper](https://github.com/juuso/keychaindump)\n",
    "**Supported Platforms:** macos",
    "#### Attack Commands: Run with `sh`\n",
    "```sh\nsecurity -h\nsecurity find-certificate -a -p > /tmp/certs.pem\nsecurity import /tmp/certs.pem -k\n```"
   ]
  },
  {
   "cell_type": "code",
   "execution_count": null,
   "id": "a256611e",
   "metadata": {},
   "outputs": [],
   "source": "Invoke-AtomicTest T1555.001 -TestNumbers 1"
  },
  {
   "cell_type": "markdown",
   "id": "158506e1",
   "metadata": {},
   "source": "## Detection\nUnlocking the keychain and using passwords from it is a very common process, so there is likely to be a lot of noise in any detection technique. Monitoring of system calls to the keychain can help determine if there is a suspicious process trying to access it."
  }
 ],
 "metadata": {
  "kernelspec": {
   "display_name": ".NET (PowerShell)",
   "language": "PowerShell",
   "name": ".net-powershell"
  },
  "language_info": {
   "file_extension": ".ps1",
   "mimetype": "text/x-powershell",
   "name": "PowerShell",
   "pygments_lexer": "powershell",
   "version": "7.0"
  }
 },
 "nbformat": 4,
 "nbformat_minor": 5
}