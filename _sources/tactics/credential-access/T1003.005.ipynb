{
 "cells": [
  {
   "cell_type": "markdown",
   "id": "fa785ba7",
   "metadata": {},
   "source": "# T1003.005 - Cached Domain Credentials\nAdversaries may attempt to access cached domain credentials used to allow authentication to occur in the event a domain controller is unavailable.(Citation: Microsoft - Cached Creds)\n\nOn Windows Vista and newer, the hash format is DCC2 (Domain Cached Credentials version 2) hash, also known as MS-Cache v2 hash.(Citation: PassLib mscache) The number of default cached credentials varies and can be altered per system. This hash does not allow pass-the-hash style attacks, and instead requires [Password Cracking](https://attack.mitre.org/techniques/T1110/002) to recover the plaintext password.(Citation: ired mscache)\n\nWith SYSTEM access, the tools/utilities such as [Mimikatz](https://attack.mitre.org/software/S0002), [Reg](https://attack.mitre.org/software/S0075), and secretsdump.py can be used to extract the cached credentials.\n\nNote: Cached credentials for Windows Vista are derived using PBKDF2.(Citation: PassLib mscache)"
  },
  {
   "cell_type": "markdown",
   "id": "70a78bfd",
   "metadata": {},
   "source": "## Atomic Tests"
  },
  {
   "cell_type": "markdown",
   "id": "1637dcc5",
   "metadata": {},
   "source": [
    "### Atomic Test #1 - Cached Credential Dump via Cmdkey",
    "List credentials currently stored on the host via the built-in Windows utility cmdkey.exe\nCredentials listed with Cmdkey only pertain to the current user\nPasswords will not be displayed once they are stored\nhttps://docs.microsoft.com/en-us/windows-server/administration/windows-commands/cmdkey\nhttps://www.peew.pw/blog/2017/11/26/exploring-cmdkey-an-edge-case-for-privilege-escalation\n",
    "**Supported Platforms:** windows",
    "\nElevation Required (e.g. root or admin)",
    "#### Attack Commands: Run with `command_prompt`\n",
    "```command_prompt\ncmdkey /list\n```"
   ]
  },
  {
   "cell_type": "code",
   "execution_count": null,
   "id": "be073053",
   "metadata": {},
   "outputs": [],
   "source": "Invoke-AtomicTest T1003.005 -TestNumbers 1"
  },
  {
   "cell_type": "markdown",
   "id": "3a1316f7",
   "metadata": {},
   "source": "## Detection\nMonitor processes and command-line arguments for program execution that may be indicative of credential dumping. Remote access tools may contain built-in features or incorporate existing tools like Mimikatz. PowerShell scripts also exist that contain credential dumping functionality, such as PowerSploit's Invoke-Mimikatz module,(Citation: Powersploit) which may require additional logging features to be configured in the operating system to collect necessary information for analysis.\n\nDetection of compromised [Valid Accounts](https://attack.mitre.org/techniques/T1078) in-use by adversaries may help as well."
  }
 ],
 "metadata": {
  "kernelspec": {
   "display_name": ".NET (PowerShell)",
   "language": "pwsh",
   "name": ".net-powershell"
  },
  "language_info": {
   "file_extension": ".ps1",
   "mimetype": "text/x-powershell",
   "name": "pwsh",
   "pygments_lexer": "powershell",
   "version": "7.0"
  }
 },
 "nbformat": 4,
 "nbformat_minor": 5
}