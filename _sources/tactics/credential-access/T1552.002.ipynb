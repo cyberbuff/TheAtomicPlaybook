{
 "cells": [
  {
   "cell_type": "markdown",
   "id": "6ae9e778",
   "metadata": {},
   "source": "# T1552.002 - Credentials in Registry\nAdversaries may search the Registry on compromised systems for insecurely stored credentials. The Windows Registry stores configuration information that can be used by the system or other programs. Adversaries may query the Registry looking for credentials and passwords that have been stored for use by other programs or services. Sometimes these credentials are used for automatic logons.\n\nExample commands to find Registry keys related to password information: (Citation: Pentestlab Stored Credentials)\n\n* Local Machine Hive: <code>reg query HKLM /f password /t REG_SZ /s</code>\n* Current User Hive: <code>reg query HKCU /f password /t REG_SZ /s</code>"
  },
  {
   "cell_type": "markdown",
   "id": "a74c1517",
   "metadata": {},
   "source": "## Atomic Tests"
  },
  {
   "cell_type": "markdown",
   "id": "1e40335c",
   "metadata": {},
   "source": [
    "### Atomic Test #1 - Enumeration for Credentials in Registry",
    "Queries to enumerate for credentials in the Registry. Upon execution, any registry key containing the word \"password\" will be displayed.\n",
    "**Supported Platforms:** windows",
    "#### Attack Commands: Run with `command_prompt`\n",
    "```command_prompt\nreg query HKLM /f password /t REG_SZ /s\nreg query HKCU /f password /t REG_SZ /s\n```"
   ]
  },
  {
   "cell_type": "code",
   "execution_count": null,
   "id": "d7dd5942",
   "metadata": {},
   "outputs": [],
   "source": "Invoke-AtomicTest T1552.002 -TestNumbers 1"
  },
  {
   "cell_type": "markdown",
   "id": "ebffa873",
   "metadata": {},
   "source": [
    "### Atomic Test #2 - Enumeration for PuTTY Credentials in Registry",
    "Queries to enumerate for PuTTY credentials in the Registry. PuTTY must be installed for this test to work. If any registry\nentries are found, they will be displayed.\n",
    "**Supported Platforms:** windows",
    "#### Attack Commands: Run with `command_prompt`\n",
    "```command_prompt\nreg query HKCU\\Software\\SimonTatham\\PuTTY\\Sessions /t REG_SZ /s\n```"
   ]
  },
  {
   "cell_type": "code",
   "execution_count": null,
   "id": "e1cbe6a8",
   "metadata": {},
   "outputs": [],
   "source": "Invoke-AtomicTest T1552.002 -TestNumbers 2"
  },
  {
   "cell_type": "markdown",
   "id": "3128286a",
   "metadata": {},
   "source": "## Detection\nMonitor processes for applications that can be used to query the Registry, such as [Reg](https://attack.mitre.org/software/S0075), and collect command parameters that may indicate credentials are being searched. Correlate activity with related suspicious behavior that may indicate an active intrusion to reduce false positives."
  }
 ],
 "metadata": {
  "kernelspec": {
   "display_name": ".NET (PowerShell)",
   "language": "pwsh",
   "name": ".net-powershell"
  },
  "language_info": {
   "file_extension": ".ps1",
   "mimetype": "text/x-powershell",
   "name": "pwsh",
   "pygments_lexer": "powershell",
   "version": "7.0"
  }
 },
 "nbformat": 4,
 "nbformat_minor": 5
}