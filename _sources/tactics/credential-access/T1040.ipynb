{
 "cells": [
  {
   "cell_type": "markdown",
   "id": "c889722f",
   "metadata": {},
   "source": "# T1040 - Network Sniffing\nAdversaries may sniff network traffic to capture information about an environment, including authentication material passed over the network. Network sniffing refers to using the network interface on a system to monitor or capture information sent over a wired or wireless connection. An adversary may place a network interface into promiscuous mode to passively access data in transit over the network, or use span ports to capture a larger amount of data.\n\nData captured via this technique may include user credentials, especially those sent over an insecure, unencrypted protocol. Techniques for name service resolution poisoning, such as [LLMNR/NBT-NS Poisoning and SMB Relay](https://attack.mitre.org/techniques/T1557/001), can also be used to capture credentials to websites, proxies, and internal systems by redirecting traffic to an adversary.\n\nNetwork sniffing may also reveal configuration details, such as running services, version numbers, and other network characteristics (e.g. IP addresses, hostnames, VLAN IDs) necessary for subsequent Lateral Movement and/or Defense Evasion activities.\n\nIn cloud-based environments, adversaries may still be able to use traffic mirroring services to sniff network traffic from virtual machines. For example, AWS Traffic Mirroring, GCP Packet Mirroring, and Azure vTap allow users to define specified instances to collect traffic from and specified targets to send collected traffic to.(Citation: AWS Traffic Mirroring) (Citation: GCP Packet Mirroring) (Citation: Azure Virtual Network TAP) Often, much of this traffic will be in cleartext due to the use of TLS termination at the load balancer level to reduce the strain of encrypting and decrypting traffic.(Citation: Rhino Security Labs AWS VPC Traffic Mirroring) (Citation: SpecterOps AWS Traffic Mirroring) The adversary can then use exfiltration techniques such as Transfer Data to Cloud Account in order to access the sniffed traffic. (Citation: Rhino Security Labs AWS VPC Traffic Mirroring)"
  },
  {
   "cell_type": "markdown",
   "id": "36931f7d",
   "metadata": {},
   "source": "## Atomic Tests"
  },
  {
   "cell_type": "markdown",
   "id": "26a562d5",
   "metadata": {},
   "source": "### Atomic Test #1 - Packet Capture Linux using tshark or tcpdump\nPerform a PCAP. Wireshark will be required for tshark. TCPdump may already be installed.\n\nUpon successful execution, tshark or tcpdump will execute and capture 5 packets on interface ens33.\n\n**Supported Platforms:** linux\n\nElevation Required (e.g. root or admin)\n#### Dependencies:  Run with `bash`!\n##### Description: Check if at least one of tcpdump or tshark is installed.\n\n##### Check Prereq Commands:\n```bash\nif [ ! -x \"$(command -v tcpdump)\" ] && [ ! -x \"$(command -v tshark)\" ]; then exit 1; else exit 0; fi;\n\n```\n##### Get Prereq Commands:\n```bash\n(which yum && yum -y install epel-release tcpdump tshark)||(which apt-get && DEBIAN_FRONTEND=noninteractive apt-get install -y tcpdump tshark)\n\n```"
  },
  {
   "cell_type": "code",
   "execution_count": null,
   "id": "a0fccbeb",
   "metadata": {},
   "outputs": [],
   "source": "Invoke-AtomicTest T1040 -TestNumbers 1 -GetPreReqs"
  },
  {
   "cell_type": "markdown",
   "id": "4d7eeabb",
   "metadata": {},
   "source": [
    "#### Attack Commands: Run with `bash`\n",
    "```bash\ntcpdump -c 5 -nnni ens33\ntshark -c 5 -i ens33\n```"
   ]
  },
  {
   "cell_type": "code",
   "execution_count": null,
   "id": "83a672e6",
   "metadata": {},
   "outputs": [],
   "source": "Invoke-AtomicTest T1040 -TestNumbers 1"
  },
  {
   "cell_type": "markdown",
   "id": "bfb75de9",
   "metadata": {},
   "source": "### Atomic Test #2 - Packet Capture macOS using tcpdump or tshark\nPerform a PCAP on macOS. This will require Wireshark/tshark to be installed. TCPdump may already be installed.\n\nUpon successful execution, tshark or tcpdump will execute and capture 5 packets on interface en0A.\n\n**Supported Platforms:** macos\n\nElevation Required (e.g. root or admin)\n#### Dependencies:  Run with `bash`!\n##### Description: Check if at least one of tcpdump or tshark is installed.\n\n##### Check Prereq Commands:\n```bash\nif [ ! -x \"$(command -v tcpdump)\" ] && [ ! -x \"$(command -v tshark)\" ]; then exit 1; else exit 0; fi;\n\n```\n##### Get Prereq Commands:\n```bash\n(which yum && yum -y install epel-release tcpdump tshark)||(which apt-get && DEBIAN_FRONTEND=noninteractive apt-get install -y tcpdump tshark)\n\n```"
  },
  {
   "cell_type": "code",
   "execution_count": null,
   "id": "ccfcf7c7",
   "metadata": {},
   "outputs": [],
   "source": "Invoke-AtomicTest T1040 -TestNumbers 2 -GetPreReqs"
  },
  {
   "cell_type": "markdown",
   "id": "231f5b3d",
   "metadata": {},
   "source": [
    "#### Attack Commands: Run with `bash`\n",
    "```bash\nsudo tcpdump -c 5 -nnni en0A    \nif [ -x \"$(command -v tshark)\" ]; then sudo tshark -c 5 -i en0A; fi;\n```"
   ]
  },
  {
   "cell_type": "code",
   "execution_count": null,
   "id": "a21a8455",
   "metadata": {},
   "outputs": [],
   "source": "Invoke-AtomicTest T1040 -TestNumbers 2"
  },
  {
   "cell_type": "markdown",
   "id": "03e0bfbf",
   "metadata": {},
   "source": "### Atomic Test #3 - Packet Capture Windows Command Prompt\nPerform a packet capture using the windows command prompt. This will require a host that has Wireshark/Tshark\ninstalled.\n\nUpon successful execution, tshark will execute and capture 5 packets on interface \"Ethernet\".\n\n**Supported Platforms:** windows\n\nElevation Required (e.g. root or admin)\n#### Dependencies:  Run with `powershell`!\n##### Description: tshark must be installed and in the default path of \"c:\\Program Files\\Wireshark\\Tshark.exe\".\n\n##### Check Prereq Commands:\n```cmd\nif (test-path \"c:\\program files\\wireshark\\tshark.exe\") {exit 0} else {exit 1}\n```\n##### Get Prereq Commands:\n```cmd\nInvoke-WebRequest -OutFile $env:temp\\wireshark_installer.exe https://1.eu.dl.wireshark.org/win64/Wireshark-win64-latest.exe\nStart-Process $env:temp\\wireshark_installer.exe /S\n\n```\n##### Description: npcap must be installed.\n\n##### Check Prereq Commands:\n```cmd\nif (test-path \"C:\\Program Files\\Npcap\\npcap.sys\") {exit 0} else {exit 1}\n```\n##### Get Prereq Commands:\n```cmd\nInvoke-WebRequest -OutFile $env:temp\\npcap_installer.exe https://nmap.org/npcap/dist/npcap-1.31.exe\nStart-Process $env:temp\\npcap_installer.exe\n\n```"
  },
  {
   "cell_type": "code",
   "execution_count": null,
   "id": "c936e3d0",
   "metadata": {},
   "outputs": [],
   "source": "Invoke-AtomicTest T1040 -TestNumbers 3 -GetPreReqs"
  },
  {
   "cell_type": "markdown",
   "id": "098aad9e",
   "metadata": {},
   "source": [
    "#### Attack Commands: Run with `command_prompt`\n",
    "```command_prompt\n\"c:\\Program Files\\Wireshark\\tshark.exe\" -i Ethernet -c 5\n```"
   ]
  },
  {
   "cell_type": "code",
   "execution_count": null,
   "id": "81bf8d26",
   "metadata": {},
   "outputs": [],
   "source": "Invoke-AtomicTest T1040 -TestNumbers 3"
  },
  {
   "cell_type": "markdown",
   "id": "3714e0f1",
   "metadata": {},
   "source": [
    "### Atomic Test #4 - Windows Internal Packet Capture",
    "Uses the built-in Windows packet capture\nAfter execution you should find a file named trace.etl and trace.cab in the temp directory",
    "**Supported Platforms:** windows",
    "\nElevation Required (e.g. root or admin)",
    "#### Attack Commands: Run with `command_prompt`\n",
    "```command_prompt\nnetsh trace start capture=yes tracefile=%temp%\\trace.etl maxsize=10```"
   ]
  },
  {
   "cell_type": "code",
   "execution_count": null,
   "id": "dadd5695",
   "metadata": {},
   "outputs": [],
   "source": "Invoke-AtomicTest T1040 -TestNumbers 4"
  },
  {
   "cell_type": "markdown",
   "id": "bd640ff0",
   "metadata": {},
   "source": "#### Cleanup: \n```cmd\nnetsh trace stop >nul 2>&1\nTIMEOUT /T 5 >nul 2>&1\ndel %temp%\\trace.etl >nul 2>&1\ndel %temp%\\trace.cab >nul 2>&1```"
  },
  {
   "cell_type": "code",
   "execution_count": null,
   "id": "2e519649",
   "metadata": {},
   "outputs": [],
   "source": "Invoke-AtomicTest T1040 -TestNumbers 4 -Cleanup"
  },
  {
   "cell_type": "markdown",
   "id": "831d6ccd",
   "metadata": {},
   "source": [
    "### Atomic Test #5 - Windows Internal pktmon capture",
    "Will start a packet capture and store log file as t1040.etl.\nhttps://lolbas-project.github.io/lolbas/Binaries/Pktmon/",
    "**Supported Platforms:** windows",
    "\nElevation Required (e.g. root or admin)",
    "#### Attack Commands: Run with `command_prompt`\n",
    "```command_prompt\npktmon.exe start --etw  -f %TEMP%\\t1040.etl\nTIMEOUT /T 5 >nul 2>&1\npktmon.exe stop\n```"
   ]
  },
  {
   "cell_type": "code",
   "execution_count": null,
   "id": "9a687d4e",
   "metadata": {},
   "outputs": [],
   "source": "Invoke-AtomicTest T1040 -TestNumbers 5"
  },
  {
   "cell_type": "markdown",
   "id": "65a637d9",
   "metadata": {},
   "source": "#### Cleanup: \n```cmd\ndel %TEMP%\\t1040.etl```"
  },
  {
   "cell_type": "code",
   "execution_count": null,
   "id": "64b61123",
   "metadata": {},
   "outputs": [],
   "source": "Invoke-AtomicTest T1040 -TestNumbers 5 -Cleanup"
  },
  {
   "cell_type": "markdown",
   "id": "817cb801",
   "metadata": {},
   "source": [
    "### Atomic Test #6 - Windows Internal pktmon set filter",
    "Select Desired ports for packet capture \nhttps://lolbas-project.github.io/lolbas/Binaries/Pktmon/",
    "**Supported Platforms:** windows",
    "\nElevation Required (e.g. root or admin)",
    "#### Attack Commands: Run with `command_prompt`\n",
    "```command_prompt\npktmon.exe filter add -p 445\n```"
   ]
  },
  {
   "cell_type": "code",
   "execution_count": null,
   "id": "90ec4447",
   "metadata": {},
   "outputs": [],
   "source": "Invoke-AtomicTest T1040 -TestNumbers 6"
  },
  {
   "cell_type": "markdown",
   "id": "f8f1f59e",
   "metadata": {},
   "source": "#### Cleanup: \n```cmd\npktmon filter remove```"
  },
  {
   "cell_type": "code",
   "execution_count": null,
   "id": "12fcf156",
   "metadata": {},
   "outputs": [],
   "source": "Invoke-AtomicTest T1040 -TestNumbers 6 -Cleanup"
  },
  {
   "cell_type": "markdown",
   "id": "2e8adfcc",
   "metadata": {},
   "source": "### Atomic Test #7 - Packet Capture macOS using /dev/bpfN with sudo\nOpens a /dev/bpf file (O_RDONLY) and captures packets for a few seconds.\n\n**Supported Platforms:** macos\n\nElevation Required (e.g. root or admin)\n#### Dependencies:  Run with `bash`!\n##### Description: compile C program\n\n##### Check Prereq Commands:\n```bash\nexit 1\n\n```\n##### Get Prereq Commands:\n```bash\ncc PathToAtomicsFolder/T1040/src/macos_pcapdemo.c -o /tmp/t1040_macos_pcapdemo\n\n```"
  },
  {
   "cell_type": "code",
   "execution_count": null,
   "id": "b3b0c4af",
   "metadata": {},
   "outputs": [],
   "source": "Invoke-AtomicTest T1040 -TestNumbers 7 -GetPreReqs"
  },
  {
   "cell_type": "markdown",
   "id": "ffbe1236",
   "metadata": {},
   "source": [
    "#### Attack Commands: Run with `bash`\n",
    "```bash\nsudo /tmp/t1040_macos_pcapdemo -i en0 -t 3\n```"
   ]
  },
  {
   "cell_type": "code",
   "execution_count": null,
   "id": "dfe25b45",
   "metadata": {},
   "outputs": [],
   "source": "Invoke-AtomicTest T1040 -TestNumbers 7"
  },
  {
   "cell_type": "markdown",
   "id": "5c977f86",
   "metadata": {},
   "source": "#### Cleanup: \n```bash\nrm -f /tmp/t1040_macos_pcapdemo\n```"
  },
  {
   "cell_type": "code",
   "execution_count": null,
   "id": "3b8090ba",
   "metadata": {},
   "outputs": [],
   "source": "Invoke-AtomicTest T1040 -TestNumbers 7 -Cleanup"
  },
  {
   "cell_type": "markdown",
   "id": "6c0a7ea5",
   "metadata": {},
   "source": "### Atomic Test #8 - Filtered Packet Capture macOS using /dev/bpfN with sudo\nOpens a /dev/bpf file (O_RDONLY), sets BPF filter for 'udp' and captures packets for a few seconds.\n\n**Supported Platforms:** macos\n\nElevation Required (e.g. root or admin)\n#### Dependencies:  Run with `bash`!\n##### Description: compile C program\n\n##### Check Prereq Commands:\n```bash\nexit 1\n\n```\n##### Get Prereq Commands:\n```bash\ncc PathToAtomicsFolder/T1040/src/macos_pcapdemo.c -o /tmp/t1040_macos_pcapdemo\n\n```"
  },
  {
   "cell_type": "code",
   "execution_count": null,
   "id": "ebd27b97",
   "metadata": {},
   "outputs": [],
   "source": "Invoke-AtomicTest T1040 -TestNumbers 8 -GetPreReqs"
  },
  {
   "cell_type": "markdown",
   "id": "4b3b2127",
   "metadata": {},
   "source": [
    "#### Attack Commands: Run with `bash`\n",
    "```bash\nsudo /tmp/t1040_macos_pcapdemo -f -i en0 -t 3\n```"
   ]
  },
  {
   "cell_type": "code",
   "execution_count": null,
   "id": "294ed392",
   "metadata": {},
   "outputs": [],
   "source": "Invoke-AtomicTest T1040 -TestNumbers 8"
  },
  {
   "cell_type": "markdown",
   "id": "a96ce48e",
   "metadata": {},
   "source": "#### Cleanup: \n```bash\nrm -f /tmp/t1040_macos_pcapdemo\n```"
  },
  {
   "cell_type": "code",
   "execution_count": null,
   "id": "a1d5a478",
   "metadata": {},
   "outputs": [],
   "source": "Invoke-AtomicTest T1040 -TestNumbers 8 -Cleanup"
  },
  {
   "cell_type": "markdown",
   "id": "56913ee2",
   "metadata": {},
   "source": "### Atomic Test #9 - Packet Capture Linux socket AF_PACKET,SOCK_RAW with sudo\nCaptures packets with domain=AF_PACKET, type=SOCK_RAW for a few seconds.\n\n**Supported Platforms:** linux\n\nElevation Required (e.g. root or admin)\n#### Dependencies:  Run with `bash`!\n##### Description: compile C program\n\n##### Check Prereq Commands:\n```bash\nif [ -f \"/tmp/t1040_linux_pcapdemo\" ]; then exit 0; else exit 1; fi\n\n```\n##### Get Prereq Commands:\n```bash\ncc PathToAtomicsFolder/T1040/src/linux_pcapdemo.c -o /tmp/t1040_linux_pcapdemo\n\n```"
  },
  {
   "cell_type": "code",
   "execution_count": null,
   "id": "adb3889d",
   "metadata": {},
   "outputs": [],
   "source": "Invoke-AtomicTest T1040 -TestNumbers 9 -GetPreReqs"
  },
  {
   "cell_type": "markdown",
   "id": "0bad469c",
   "metadata": {},
   "source": [
    "#### Attack Commands: Run with `bash`\n",
    "```bash\nsudo /tmp/t1040_linux_pcapdemo -a -t 3\n```"
   ]
  },
  {
   "cell_type": "code",
   "execution_count": null,
   "id": "cb276ac0",
   "metadata": {},
   "outputs": [],
   "source": "Invoke-AtomicTest T1040 -TestNumbers 9"
  },
  {
   "cell_type": "markdown",
   "id": "b9820150",
   "metadata": {},
   "source": "#### Cleanup: \n```bash\nrm -f /tmp/t1040_linux_pcapdemo\n```"
  },
  {
   "cell_type": "code",
   "execution_count": null,
   "id": "52f28fd2",
   "metadata": {},
   "outputs": [],
   "source": "Invoke-AtomicTest T1040 -TestNumbers 9 -Cleanup"
  },
  {
   "cell_type": "markdown",
   "id": "5d1e6424",
   "metadata": {},
   "source": "### Atomic Test #10 - Packet Capture Linux socket AF_INET,SOCK_RAW,TCP with sudo\nCaptures packets with domain=AF_INET,type=SOCK_RAW,protocol=TCP for a few seconds.\n\n**Supported Platforms:** linux\n\nElevation Required (e.g. root or admin)\n#### Dependencies:  Run with `bash`!\n##### Description: compile C program\n\n##### Check Prereq Commands:\n```bash\nif [ -f \"/tmp/t1040_linux_pcapdemo\" ]; then exit 0; else exit 1; fi\n\n```\n##### Get Prereq Commands:\n```bash\ncc PathToAtomicsFolder/T1040/src/linux_pcapdemo.c -o /tmp/t1040_linux_pcapdemo\n\n```"
  },
  {
   "cell_type": "code",
   "execution_count": null,
   "id": "6095517e",
   "metadata": {},
   "outputs": [],
   "source": "Invoke-AtomicTest T1040 -TestNumbers 10 -GetPreReqs"
  },
  {
   "cell_type": "markdown",
   "id": "6f121d6a",
   "metadata": {},
   "source": [
    "#### Attack Commands: Run with `bash`\n",
    "```bash\nsudo /tmp/t1040_linux_pcapdemo -4 -p 6 -t 3\n```"
   ]
  },
  {
   "cell_type": "code",
   "execution_count": null,
   "id": "7bf58e1d",
   "metadata": {},
   "outputs": [],
   "source": "Invoke-AtomicTest T1040 -TestNumbers 10"
  },
  {
   "cell_type": "markdown",
   "id": "42ee4d9d",
   "metadata": {},
   "source": "#### Cleanup: \n```bash\nrm -f /tmp/t1040_linux_pcapdemo\n```"
  },
  {
   "cell_type": "code",
   "execution_count": null,
   "id": "8f357cb8",
   "metadata": {},
   "outputs": [],
   "source": "Invoke-AtomicTest T1040 -TestNumbers 10 -Cleanup"
  },
  {
   "cell_type": "markdown",
   "id": "360d646d",
   "metadata": {},
   "source": "### Atomic Test #11 - Packet Capture Linux socket AF_INET,SOCK_PACKET,UDP with sudo\nCaptures packets with domain=AF_INET,type=SOCK_PACKET,protocol=UDP for a few seconds.\nSOCK_PACKET is \"obsolete\" according to the man page, but still works on Ubuntu 20.04\n\n**Supported Platforms:** linux\n\nElevation Required (e.g. root or admin)\n#### Dependencies:  Run with `bash`!\n##### Description: compile C program\n\n##### Check Prereq Commands:\n```bash\nif [ -f \"/tmp/t1040_linux_pcapdemo\" ]; then exit 0; else exit 1; fi\n\n```\n##### Get Prereq Commands:\n```bash\ncc PathToAtomicsFolder/T1040/src/linux_pcapdemo.c -o /tmp/t1040_linux_pcapdemo\n\n```"
  },
  {
   "cell_type": "code",
   "execution_count": null,
   "id": "f0286601",
   "metadata": {},
   "outputs": [],
   "source": "Invoke-AtomicTest T1040 -TestNumbers 11 -GetPreReqs"
  },
  {
   "cell_type": "markdown",
   "id": "ad03fe0a",
   "metadata": {},
   "source": [
    "#### Attack Commands: Run with `bash`\n",
    "```bash\nsudo /tmp/t1040_linux_pcapdemo -4 -P -p 17 -t 3\n```"
   ]
  },
  {
   "cell_type": "code",
   "execution_count": null,
   "id": "6fc82760",
   "metadata": {},
   "outputs": [],
   "source": "Invoke-AtomicTest T1040 -TestNumbers 11"
  },
  {
   "cell_type": "markdown",
   "id": "e34a75cf",
   "metadata": {},
   "source": "#### Cleanup: \n```bash\nrm -f /tmp/t1040_linux_pcapdemo\n```"
  },
  {
   "cell_type": "code",
   "execution_count": null,
   "id": "4789078b",
   "metadata": {},
   "outputs": [],
   "source": "Invoke-AtomicTest T1040 -TestNumbers 11 -Cleanup"
  },
  {
   "cell_type": "markdown",
   "id": "3d5be67d",
   "metadata": {},
   "source": "### Atomic Test #12 - Packet Capture Linux socket AF_PACKET,SOCK_RAW with BPF filter for UDP with sudo\nCaptures packets with domain=AF_PACKET,type=SOCK_RAW for a few seconds.\nSets a BPF filter on the socket to filter for UDP traffic.\n\n**Supported Platforms:** linux\n\nElevation Required (e.g. root or admin)\n#### Dependencies:  Run with `bash`!\n##### Description: compile C program\n\n##### Check Prereq Commands:\n```bash\nif [ -f \"/tmp/t1040_linux_pcapdemo\" ]; then exit 0; else exit 1; fi\n\n```\n##### Get Prereq Commands:\n```bash\ncc PathToAtomicsFolder/T1040/src/linux_pcapdemo.c -o /tmp/t1040_linux_pcapdemo\n\n```"
  },
  {
   "cell_type": "code",
   "execution_count": null,
   "id": "535dc03f",
   "metadata": {},
   "outputs": [],
   "source": "Invoke-AtomicTest T1040 -TestNumbers 12 -GetPreReqs"
  },
  {
   "cell_type": "markdown",
   "id": "071dd26c",
   "metadata": {},
   "source": [
    "#### Attack Commands: Run with `bash`\n",
    "```bash\nsudo /tmp/t1040_linux_pcapdemo -a -f -t 3\n```"
   ]
  },
  {
   "cell_type": "code",
   "execution_count": null,
   "id": "43a0b268",
   "metadata": {},
   "outputs": [],
   "source": "Invoke-AtomicTest T1040 -TestNumbers 12"
  },
  {
   "cell_type": "markdown",
   "id": "de3c4de9",
   "metadata": {},
   "source": "#### Cleanup: \n```bash\nrm -f /tmp/t1040_linux_pcapdemo\n```"
  },
  {
   "cell_type": "code",
   "execution_count": null,
   "id": "42c4e307",
   "metadata": {},
   "outputs": [],
   "source": "Invoke-AtomicTest T1040 -TestNumbers 12 -Cleanup"
  },
  {
   "cell_type": "markdown",
   "id": "aeadd38f",
   "metadata": {},
   "source": "## Detection\nDetecting the events leading up to sniffing network traffic may be the best method of detection. From the host level, an adversary would likely need to perform a [Adversary-in-the-Middle](https://attack.mitre.org/techniques/T1557) attack against other devices on a wired network in order to capture traffic that was not to or from the current compromised system. This change in the flow of information is detectable at the enclave network level. Monitor for ARP spoofing and gratuitous ARP broadcasts. Detecting compromised network devices is a bit more challenging. Auditing administrator logins, configuration changes, and device images is required to detect malicious changes.\n\nIn cloud-based environments, monitor for the creation of new traffic mirrors or modification of existing traffic mirrors."
  },
  {
   "cell_type": "markdown",
   "id": "04f52469",
   "metadata": {},
   "source": "\n## Shield Active Defense\n### Software Manipulation \n Make changes to a system's software properties and functions to achieve a desired effect. \n\n Software Manipulation allows a defender to alter or replace elements of the operating system, file system, or any other software installed and executed on a system.\n#### Opportunity\nThere is an opportunity for the defender to observe the adversary and control what they can see, what effects they can have, and/or what data they can access.\n#### Use Case\nBy changing the output of network sniffing utilities normally found on a system, you can prevent adversaries from seeing particular content or making use of the results at all.\n#### Procedures\nHook the Win32 Sleep() function so that it always performs a Sleep(1) instead of the intended duration. This can increase the speed at which dynamic analysis can be performed when a normal malicious file sleeps for long periods before attempting additional capabilities.\nHook the Win32 NetUserChangePassword() and modify it such that the new password is different from the one provided. The data passed into the function is encrypted along with the modified new password, then logged so a defender can get alerted about the change as well as decrypt the new password for use.\nAlter the output of an adversary's profiling commands to make newly-built systems look like the operating system was installed months earlier.\nAlter the output of adversary recon commands to not show important assets, such as a file server containing sensitive data.\n"
  }
 ],
 "metadata": {
  "kernelspec": {
   "display_name": ".NET (PowerShell)",
   "language": "PowerShell",
   "name": ".net-powershell"
  },
  "language_info": {
   "file_extension": ".ps1",
   "mimetype": "text/x-powershell",
   "name": "PowerShell",
   "pygments_lexer": "powershell",
   "version": "7.0"
  }
 },
 "nbformat": 4,
 "nbformat_minor": 5
}