{
 "cells": [
  {
   "cell_type": "markdown",
   "id": "8c5f0846",
   "metadata": {},
   "source": "# T1039 - Data from Network Shared Drive\nAdversaries may search network shares on computers they have compromised to find files of interest. Sensitive data can be collected from remote systems via shared network drives (host shared directory, network file server, etc.) that are accessible from the current system prior to Exfiltration. Interactive command shells may be in use, and common functionality within [cmd](https://attack.mitre.org/software/S0106) may be used to gather information."
  },
  {
   "cell_type": "markdown",
   "id": "11b7a901",
   "metadata": {},
   "source": "## Atomic Tests"
  },
  {
   "cell_type": "markdown",
   "id": "7f5e90b5",
   "metadata": {},
   "source": "### Atomic Test #1 - Copy a sensitive File over Administive share with copy\nCopy from sensitive File from the c$ of another LAN computer with copy cmd\nhttps://twitter.com/SBousseaden/status/1211636381086339073\n**Supported Platforms:** windows\n\nElevation Required (e.g. root or admin)\n#### Dependencies:  Run with `powershell`!\n##### Description: Administrative share must exist on #{remote}\n\n##### Check Prereq Commands:\n```cmd\nif (Test-Path \"\\\\127.0.0.1\\C$\") {exit 0} else {exit 1}\n\n```\n##### Get Prereq Commands:\n```cmd\nWrite-Host 'Please Enable \"C$\" share on 127.0.0.1'\n\n```\n##### Description: \"\\\\#{remote}\\C$\\#{share_file}\" must exist on #{remote}\n\n##### Check Prereq Commands:\n```cmd\nif (Test-Path \"\\\\127.0.0.1\\C$\\Windows\\temp\\Easter_Bunny.password\") {exit 0} else {exit 1}\n\n```\n##### Get Prereq Commands:\n```cmd\nOut-File -FilePath \"\\\\127.0.0.1\\C$\\Windows\\temp\\Easter_Bunny.password\"\n\n```"
  },
  {
   "cell_type": "code",
   "execution_count": null,
   "id": "68a702bc",
   "metadata": {},
   "outputs": [],
   "source": "Invoke-AtomicTest T1039 -TestNumbers 1 -GetPreReqs"
  },
  {
   "cell_type": "markdown",
   "id": "dde24aff",
   "metadata": {},
   "source": [
    "#### Attack Commands: Run with `command_prompt`\n",
    "```command_prompt\ncopy \\\\127.0.0.1\\C$\\Windows\\temp\\Easter_Bunny.password %TEMP%\\Easter_egg.password```"
   ]
  },
  {
   "cell_type": "code",
   "execution_count": null,
   "id": "9d21c1f8",
   "metadata": {},
   "outputs": [],
   "source": "Invoke-AtomicTest T1039 -TestNumbers 1"
  },
  {
   "cell_type": "markdown",
   "id": "03e76205",
   "metadata": {},
   "source": "#### Cleanup: \n```cmd\ndel \\\\127.0.0.1\\C$\\Windows\\temp\\Easter_Bunny.password\ndel %TEMP%\\Easter_egg.password```"
  },
  {
   "cell_type": "code",
   "execution_count": null,
   "id": "f840a19d",
   "metadata": {},
   "outputs": [],
   "source": "Invoke-AtomicTest T1039 -TestNumbers 1 -Cleanup"
  },
  {
   "cell_type": "markdown",
   "id": "34558712",
   "metadata": {},
   "source": "### Atomic Test #2 - Copy a sensitive File over Administive share with Powershell\nCopy from sensitive File from the c$ of another LAN computer with powershell\nhttps://twitter.com/SBousseaden/status/1211636381086339073\n**Supported Platforms:** windows\n\nElevation Required (e.g. root or admin)\n#### Dependencies:  Run with `powershell`!\n##### Description: Administrative share must exist on #{remote}\n\n##### Check Prereq Commands:\n```powershell\nif (Test-Path \"\\\\127.0.0.1\\C$\") {exit 0} else {exit 1}\n\n```\n##### Get Prereq Commands:\n```powershell\nWrite-Host 'Please Enable \"C$\" share on 127.0.0.1'\n\n```\n##### Description: \"\\\\#{remote}\\C$\\#{share_file}\" must exist on #{remote}\n\n##### Check Prereq Commands:\n```powershell\nif (Test-Path \"\\\\127.0.0.1\\C$\\Windows\\temp\\Easter_Bunny.password\") {exit 0} else {exit 1}\n\n```\n##### Get Prereq Commands:\n```powershell\nOut-File -FilePath \"\\\\127.0.0.1\\C$\\Windows\\temp\\Easter_Bunny.password\"\n\n```"
  },
  {
   "cell_type": "code",
   "execution_count": null,
   "id": "5216dadd",
   "metadata": {},
   "outputs": [],
   "source": "Invoke-AtomicTest T1039 -TestNumbers 2 -GetPreReqs"
  },
  {
   "cell_type": "markdown",
   "id": "cc86201c",
   "metadata": {},
   "source": [
    "#### Attack Commands: Run with `powershell`\n",
    "```powershell\ncopy-item -Path \"\\\\127.0.0.1\\C$\\Windows\\temp\\Easter_Bunny.password\" -Destination \"$Env:TEMP\\Easter_egg.password\"```"
   ]
  },
  {
   "cell_type": "code",
   "execution_count": null,
   "id": "db8a458a",
   "metadata": {},
   "outputs": [],
   "source": "Invoke-AtomicTest T1039 -TestNumbers 2"
  },
  {
   "cell_type": "markdown",
   "id": "027f8f86",
   "metadata": {},
   "source": "#### Cleanup: \n```powershell\nRemove-Item -Path \"\\\\127.0.0.1\\C$\\Windows\\temp\\Easter_Bunny.password\"\nRemove-Item -Path \"$Env:TEMP\\Easter_egg.password\"```"
  },
  {
   "cell_type": "code",
   "execution_count": null,
   "id": "d63f04fb",
   "metadata": {},
   "outputs": [],
   "source": "Invoke-AtomicTest T1039 -TestNumbers 2 -Cleanup"
  },
  {
   "cell_type": "markdown",
   "id": "ffd3b835",
   "metadata": {},
   "source": "## Detection\nMonitor processes and command-line arguments for actions that could be taken to collect files from a network share. Remote access tools with built-in features may interact directly with the Windows API to gather data. Data may also be acquired through Windows system management tools such as [Windows Management Instrumentation](https://attack.mitre.org/techniques/T1047) and [PowerShell](https://attack.mitre.org/techniques/T1059/001)."
  },
  {
   "cell_type": "markdown",
   "id": "08979692",
   "metadata": {},
   "source": "\n## Shield Active Defense\n### Pocket Litter \n Place data on a system to reinforce the legitimacy of the system or user. \n\n Pocket Litter is data placed on a system to convince an adversary that the system and users are real.  Pocket litter includes documents, registry entries, log history, browsing history, connection history, and other user data that one would expect to exist on a user's computer.  This content may overlap with Decoy Content, however Pocket Litter covers aspects beyond just content (e.g.: Installed Applications, source code, clutter on a system, etc.).\n#### Opportunity\nIn an adversary engagement scenario, there is an opportunity to seed content to influence an adversary's behaviors, test their interest in specific topics, or add legitimacy to a system or environment.\n#### Use Case\nA defender can stage a variety of pocket litter files on an attached storage space. This data may include topics that align to a persona, topics an adversary is interested in, etc.\n#### Procedures\nWhen staging a decoy system and user account, populate a user's folders and web history to make it look realistic to an adversary.\nStage a USB device with documents on a specific topic in order to see if they are exfiltrated by an adversary.\n"
  }
 ],
 "metadata": {
  "kernelspec": {
   "display_name": ".NET (PowerShell)",
   "language": "PowerShell",
   "name": ".net-powershell"
  },
  "language_info": {
   "file_extension": ".ps1",
   "mimetype": "text/x-powershell",
   "name": "PowerShell",
   "pygments_lexer": "powershell",
   "version": "7.0"
  }
 },
 "nbformat": 4,
 "nbformat_minor": 5
}