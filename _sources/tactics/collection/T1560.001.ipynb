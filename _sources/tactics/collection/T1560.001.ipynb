{
 "cells": [
  {
   "cell_type": "markdown",
   "id": "44895a06",
   "metadata": {},
   "source": "# T1560.001 - Archive via Utility\nAdversaries may use utilities to compress and/or encrypt collected data prior to exfiltration. Many utilities include functionalities to compress, encrypt, or otherwise package data into a format that is easier/more secure to transport.\n\nAdversaries may abuse various utilities to compress or encrypt data before exfiltration. Some third party utilities may be preinstalled, such as <code>tar</code> on Linux and macOS or <code>zip</code> on Windows systems. On Windows, <code>diantz</code> or <code> makecab</code> may be used to package collected files into a cabinet (.cab) file. <code>diantz</code> may also be used to download and compress files from remote locations (i.e. [Remote Data Staging](https://attack.mitre.org/techniques/T1074/002)).(Citation: diantz.exe_lolbas) Additionally, <code>xcopy</code> on Windows can copy files and directories with a variety of options.\n\nAdversaries may use also third party utilities, such as 7-Zip, WinRAR, and WinZip, to perform similar activities.(Citation: 7zip Homepage)(Citation: WinRAR Homepage)(Citation: WinZip Homepage)"
  },
  {
   "cell_type": "markdown",
   "id": "c88b55f8",
   "metadata": {},
   "source": "## Atomic Tests"
  },
  {
   "cell_type": "markdown",
   "id": "9a28b38b",
   "metadata": {},
   "source": "### Atomic Test #1 - Compress Data for Exfiltration With Rar\nAn adversary may compress data (e.g., sensitive documents) that is collected prior to exfiltration.\nWhen the test completes you should find the txt files from the %USERPROFILE% directory compressed in a file called T1560.001-data.rar in the %USERPROFILE% directory \n\n**Supported Platforms:** windows\n\nElevation Required (e.g. root or admin)\n#### Dependencies:  Run with `command_prompt`!\n##### Description: Rar tool must be installed at specified location (#{rar_exe})\n\n##### Check Prereq Commands:\n```cmd\nif not exist \"%programfiles%/WinRAR/Rar.exe\" (exit /b 1)\n\n```\n##### Get Prereq Commands:\n```cmd\necho Downloading Winrar installer\nbitsadmin /transfer myDownloadJob /download /priority normal \"https://www.win-rar.com/fileadmin/winrar-versions/winrar/th/winrar-x64-580.exe\" %TEMP%\\winrar.exe\n%TEMP%\\winrar.exe /S\n\n```"
  },
  {
   "cell_type": "code",
   "execution_count": null,
   "id": "0f7eb499",
   "metadata": {},
   "outputs": [],
   "source": "Invoke-AtomicTest T1560.001 -TestNumbers 1 -GetPreReqs"
  },
  {
   "cell_type": "markdown",
   "id": "8e9634c3",
   "metadata": {},
   "source": [
    "#### Attack Commands: Run with `command_prompt`\n",
    "```command_prompt\n\"%programfiles%/WinRAR/Rar.exe\" a -r %USERPROFILE%\\T1560.001-data.rar %USERPROFILE%\\*.txt\n```"
   ]
  },
  {
   "cell_type": "code",
   "execution_count": null,
   "id": "5f5a76a4",
   "metadata": {},
   "outputs": [],
   "source": "Invoke-AtomicTest T1560.001 -TestNumbers 1"
  },
  {
   "cell_type": "markdown",
   "id": "a52b852c",
   "metadata": {},
   "source": "#### Cleanup: \n```cmd\ndel /f /q /s %USERPROFILE%\\T1560.001-data.rar >nul 2>&1\n```"
  },
  {
   "cell_type": "code",
   "execution_count": null,
   "id": "a844beaf",
   "metadata": {},
   "outputs": [],
   "source": "Invoke-AtomicTest T1560.001 -TestNumbers 1 -Cleanup"
  },
  {
   "cell_type": "markdown",
   "id": "13bbf8e2",
   "metadata": {},
   "source": "### Atomic Test #2 - Compress Data and lock with password for Exfiltration with winrar\nNote: Requires winrar installation\nrar a -p\"blue\" hello.rar (VARIANT)\n\n**Supported Platforms:** windows\n\nElevation Required (e.g. root or admin)\n#### Dependencies:  Run with `command_prompt`!\n##### Description: Rar tool must be installed at specified location (#{rar_exe})\n\n##### Check Prereq Commands:\n```cmd\nif not exist \"%programfiles%/WinRAR/Rar.exe\" (exit /b 1)\n\n```\n##### Get Prereq Commands:\n```cmd\necho Downloading Winrar installer\nbitsadmin /transfer myDownloadJob /download /priority normal \"https://www.win-rar.com/fileadmin/winrar-versions/winrar/th/winrar-x64-580.exe\" %TEMP%\\winrar.exe\n%TEMP%\\winrar.exe /S\n\n```"
  },
  {
   "cell_type": "code",
   "execution_count": null,
   "id": "b4f1c2c6",
   "metadata": {},
   "outputs": [],
   "source": "Invoke-AtomicTest T1560.001 -TestNumbers 2 -GetPreReqs"
  },
  {
   "cell_type": "markdown",
   "id": "1e2f8a3f",
   "metadata": {},
   "source": [
    "#### Attack Commands: Run with `command_prompt`\n",
    "```command_prompt\nmkdir .\\tmp\\victim-files\ncd .\\tmp\\victim-files\necho \"This file will be encrypted\" > .\\encrypted_file.txt\n\"%programfiles%/WinRAR/Rar.exe\" a -hp\"blue\" hello.rar\ndir\n```"
   ]
  },
  {
   "cell_type": "code",
   "execution_count": null,
   "id": "1baba31b",
   "metadata": {},
   "outputs": [],
   "source": "Invoke-AtomicTest T1560.001 -TestNumbers 2"
  },
  {
   "cell_type": "markdown",
   "id": "d49bd912",
   "metadata": {},
   "source": "### Atomic Test #3 - Compress Data and lock with password for Exfiltration with winzip\nNote: Requires winzip installation\nwzzip sample.zip -s\"blueblue\" *.txt (VARIANT)\n\n**Supported Platforms:** windows\n\nElevation Required (e.g. root or admin)\n#### Dependencies:  Run with `powershell`!\n##### Description: Winzip must be installed\n\n##### Check Prereq Commands:\n```cmd\ncmd /c 'if not exist \"%ProgramFiles%\\WinZip\\winzip64.exe\" (echo 1) else (echo 0)'\n\n```\n##### Get Prereq Commands:\n```cmd\nIEX(IWR \"https://raw.githubusercontent.com/redcanaryco/invoke-atomicredteam/master/Public/Invoke-WebRequestVerifyHash.ps1\" -UseBasicParsing)\nif(Invoke-WebRequestVerifyHash \"https://download.winzip.com/gl/nkln/winzip24-home.exe\" \"$env:Temp\\winzip.exe\" B59DB592B924E963C21DA8709417AC0504F6158CFCB12FE5536F4A0E0D57D7FB){\n  Write-Host Follow the installation prompts to continue\n  cmd /c \"$env:Temp\\winzip.exe\"\n}\n\n```"
  },
  {
   "cell_type": "code",
   "execution_count": null,
   "id": "1a0f36a3",
   "metadata": {},
   "outputs": [],
   "source": "Invoke-AtomicTest T1560.001 -TestNumbers 3 -GetPreReqs"
  },
  {
   "cell_type": "markdown",
   "id": "9088e78d",
   "metadata": {},
   "source": [
    "#### Attack Commands: Run with `command_prompt`\n",
    "```command_prompt\npath=%path%;\"C:\\Program Files (x86)\\winzip\"\nmkdir .\\tmp\\victim-files\ncd .\\tmp\\victim-files\necho \"This file will be encrypted\" > .\\encrypted_file.txt\n\"%ProgramFiles%\\WinZip\\winzip64.exe\" -min -a -s\"hello\" archive.zip *\ndir\n```"
   ]
  },
  {
   "cell_type": "code",
   "execution_count": null,
   "id": "0ce1a3ab",
   "metadata": {},
   "outputs": [],
   "source": "Invoke-AtomicTest T1560.001 -TestNumbers 3"
  },
  {
   "cell_type": "markdown",
   "id": "06231466",
   "metadata": {},
   "source": "### Atomic Test #4 - Compress Data and lock with password for Exfiltration with 7zip\nNote: Requires 7zip installation\n\n**Supported Platforms:** windows\n\nElevation Required (e.g. root or admin)\n#### Dependencies:  Run with `command_prompt`!\n##### Description: 7zip tool must be installed at specified location (#{7zip_exe})\n\n##### Check Prereq Commands:\n```cmd\nif not exist \"%ProgramFiles%\\7-zip\\7z.exe\" (exit /b 1)\n\n```\n##### Get Prereq Commands:\n```cmd\necho Downloading 7-zip installer\nbitsadmin /transfer myDownloadJob /download /priority normal \"https://www.7-zip.org/a/7z2002-x64.exe\" %TEMP%\\7zip.exe\n%TEMP%\\7zip.exe /S\n\n```"
  },
  {
   "cell_type": "code",
   "execution_count": null,
   "id": "289ffaaa",
   "metadata": {},
   "outputs": [],
   "source": "Invoke-AtomicTest T1560.001 -TestNumbers 4 -GetPreReqs"
  },
  {
   "cell_type": "markdown",
   "id": "afc01266",
   "metadata": {},
   "source": [
    "#### Attack Commands: Run with `command_prompt`\n",
    "```command_prompt\nmkdir $PathToAtomicsFolder\\T1560.001\\victim-files\ncd $PathToAtomicsFolder\\T1560.001\\victim-files\necho \"This file will be encrypted\" > .\\encrypted_file.txt\n\"%ProgramFiles%\\7-zip\\7z.exe\" u archive.7z *txt -pblue\ndir\n```"
   ]
  },
  {
   "cell_type": "code",
   "execution_count": null,
   "id": "2e9ae53c",
   "metadata": {},
   "outputs": [],
   "source": "Invoke-AtomicTest T1560.001 -TestNumbers 4"
  },
  {
   "cell_type": "markdown",
   "id": "e6a7368b",
   "metadata": {},
   "source": "### Atomic Test #5 - Data Compressed - nix - zip\nAn adversary may compress data (e.g., sensitive documents) that is collected prior to exfiltration. This test uses standard zip compression.\n\n**Supported Platforms:** linux, macos\n\nElevation Required (e.g. root or admin)\n#### Dependencies:  Run with `sh`!\n##### Description: Files to zip must exist (#{input_files})\n\n##### Check Prereq Commands:\n```sh\nif [ $(ls /var/log/{w,b}tmp | wc -l) > 0 ] && [ -x $(which zip) ] ; then exit 0; else exit 1; fi;\n\n```\n##### Get Prereq Commands:\n```sh\n(which yum && yum -y install epel-release zip)||(which apt-get && apt-get install -y zip)\necho Please set input_files argument to include files that exist\n\n```"
  },
  {
   "cell_type": "code",
   "execution_count": null,
   "id": "7b521ed1",
   "metadata": {},
   "outputs": [],
   "source": "Invoke-AtomicTest T1560.001 -TestNumbers 5 -GetPreReqs"
  },
  {
   "cell_type": "markdown",
   "id": "202c24bd",
   "metadata": {},
   "source": [
    "#### Attack Commands: Run with `sh`\n",
    "```sh\nzip $HOME/data.zip /var/log/{w,b}tmp\n```"
   ]
  },
  {
   "cell_type": "code",
   "execution_count": null,
   "id": "1c42d481",
   "metadata": {},
   "outputs": [],
   "source": "Invoke-AtomicTest T1560.001 -TestNumbers 5"
  },
  {
   "cell_type": "markdown",
   "id": "0d2da2b0",
   "metadata": {},
   "source": "#### Cleanup: \n```sh\nrm -f $HOME/data.zip\n```"
  },
  {
   "cell_type": "code",
   "execution_count": null,
   "id": "740dc713",
   "metadata": {},
   "outputs": [],
   "source": "Invoke-AtomicTest T1560.001 -TestNumbers 5 -Cleanup"
  },
  {
   "cell_type": "markdown",
   "id": "d6ccb59c",
   "metadata": {},
   "source": [
    "### Atomic Test #6 - Data Compressed - nix - gzip Single File",
    "An adversary may compress data (e.g., sensitive documents) that is collected prior to exfiltration. This test uses standard gzip compression.\n",
    "**Supported Platforms:** linux, macos",
    "\nElevation Required (e.g. root or admin)",
    "#### Attack Commands: Run with `sh`\n",
    "```sh\ntest -e $HOME/victim-gzip.txt && gzip -k $HOME/victim-gzip.txt || (echo 'confidential! SSN: 078-05-1120 - CCN: 4000 1234 5678 9101' >> $HOME/victim-gzip.txt; gzip -k $HOME/victim-gzip.txt)\n```"
   ]
  },
  {
   "cell_type": "code",
   "execution_count": null,
   "id": "853218c6",
   "metadata": {},
   "outputs": [],
   "source": "Invoke-AtomicTest T1560.001 -TestNumbers 6"
  },
  {
   "cell_type": "markdown",
   "id": "bac63f08",
   "metadata": {},
   "source": "#### Cleanup: \n```sh\nrm -f $HOME/victim-gzip.txt.gz\n```"
  },
  {
   "cell_type": "code",
   "execution_count": null,
   "id": "27af2307",
   "metadata": {},
   "outputs": [],
   "source": "Invoke-AtomicTest T1560.001 -TestNumbers 6 -Cleanup"
  },
  {
   "cell_type": "markdown",
   "id": "9e60478d",
   "metadata": {},
   "source": "### Atomic Test #7 - Data Compressed - nix - tar Folder or File\nAn adversary may compress data (e.g., sensitive documents) that is collected prior to exfiltration. This test uses standard gzip compression.\n\n**Supported Platforms:** linux, macos\n\nElevation Required (e.g. root or admin)\n#### Dependencies:  Run with `sh`!\n##### Description: Folder to zip must exist (#{input_file_folder})\n\n##### Check Prereq Commands:\n```sh\ntest -e $HOME/$USERNAME\n\n```\n##### Get Prereq Commands:\n```sh\necho Please set input_file_folder argument to a folder that exists\n\n```"
  },
  {
   "cell_type": "code",
   "execution_count": null,
   "id": "dae7bc23",
   "metadata": {},
   "outputs": [],
   "source": "Invoke-AtomicTest T1560.001 -TestNumbers 7 -GetPreReqs"
  },
  {
   "cell_type": "markdown",
   "id": "2ccbcb8c",
   "metadata": {},
   "source": [
    "#### Attack Commands: Run with `sh`\n",
    "```sh\ntar -cvzf $HOME/data.tar.gz $HOME/$USERNAME\n```"
   ]
  },
  {
   "cell_type": "code",
   "execution_count": null,
   "id": "6031b555",
   "metadata": {},
   "outputs": [],
   "source": "Invoke-AtomicTest T1560.001 -TestNumbers 7"
  },
  {
   "cell_type": "markdown",
   "id": "3ae99a77",
   "metadata": {},
   "source": "#### Cleanup: \n```sh\nrm -f $HOME/data.tar.gz\n```"
  },
  {
   "cell_type": "code",
   "execution_count": null,
   "id": "8b47907d",
   "metadata": {},
   "outputs": [],
   "source": "Invoke-AtomicTest T1560.001 -TestNumbers 7 -Cleanup"
  },
  {
   "cell_type": "markdown",
   "id": "9821e6d1",
   "metadata": {},
   "source": "### Atomic Test #8 - Data Encrypted with zip and gpg symmetric\nEncrypt data for exiltration\n\n**Supported Platforms:** macos, linux\n\nElevation Required (e.g. root or admin)\n#### Dependencies:  Run with `sh`!\n##### Description: gpg and zip are required to run the test.\n##### Check Prereq Commands:\n```sh\nif [ ! -x \"$(command -v gpg)\" ] || [ ! -x \"$(command -v zip)\" ]; then exit 1; fi;\n\n```\n##### Get Prereq Commands:\n```sh\n(which yum && yum -y install epel-release zip gpg)||(which apt-get && apt-get install -y zip gpg)\n\n```"
  },
  {
   "cell_type": "code",
   "execution_count": null,
   "id": "9fcc481f",
   "metadata": {},
   "outputs": [],
   "source": "Invoke-AtomicTest T1560.001 -TestNumbers 8 -GetPreReqs"
  },
  {
   "cell_type": "markdown",
   "id": "f92f2da7",
   "metadata": {},
   "source": [
    "#### Attack Commands: Run with `sh`\n",
    "```sh\nmkdir -p /tmp/T1560\ncd /tmp/T1560; touch a b c d e f g\nzip --password \"InsertPasswordHere\" /tmp/T1560/T1560 ./*\necho \"InsertPasswordHere\" | gpg --batch --yes --passphrase-fd 0 --output /tmp/T1560/T1560.zip.gpg -c /tmp/T1560/T1560.zip\nls -l /tmp/T1560\n```"
   ]
  },
  {
   "cell_type": "code",
   "execution_count": null,
   "id": "e5889ccb",
   "metadata": {},
   "outputs": [],
   "source": "Invoke-AtomicTest T1560.001 -TestNumbers 8"
  },
  {
   "cell_type": "markdown",
   "id": "40b10edc",
   "metadata": {},
   "source": "#### Cleanup: \n```sh\nrm -Rf /tmp/T1560\n```"
  },
  {
   "cell_type": "code",
   "execution_count": null,
   "id": "9d22d9e0",
   "metadata": {},
   "outputs": [],
   "source": "Invoke-AtomicTest T1560.001 -TestNumbers 8 -Cleanup"
  },
  {
   "cell_type": "markdown",
   "id": "98a379fe",
   "metadata": {},
   "source": "## Detection\nCommon utilities that may be present on the system or brought in by an adversary may be detectable through process monitoring and monitoring for command-line arguments for known archival utilities. This may yield a significant number of benign events, depending on how systems in the environment are typically used.\n\nConsider detecting writing of files with extensions and/or headers associated with compressed or encrypted file types. Detection efforts may focus on follow-on exfiltration activity, where compressed or encrypted files can be detected in transit with a network intrusion detection or data loss prevention system analyzing file headers.(Citation: Wikipedia File Header Signatures)"
  }
 ],
 "metadata": {
  "kernelspec": {
   "display_name": ".NET (PowerShell)",
   "language": "PowerShell",
   "name": ".net-powershell"
  },
  "language_info": {
   "file_extension": ".ps1",
   "mimetype": "text/x-powershell",
   "name": "PowerShell",
   "pygments_lexer": "powershell",
   "version": "7.0"
  }
 },
 "nbformat": 4,
 "nbformat_minor": 5
}