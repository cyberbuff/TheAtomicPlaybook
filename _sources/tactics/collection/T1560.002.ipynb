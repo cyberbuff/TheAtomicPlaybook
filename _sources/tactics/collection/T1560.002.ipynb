{
 "cells": [
  {
   "cell_type": "markdown",
   "id": "78da05dc",
   "metadata": {},
   "source": "# T1560.002 - Archive via Library\nAn adversary may compress or encrypt data that is collected prior to exfiltration using 3rd party libraries. Many libraries exist that can archive data, including [Python](https://attack.mitre.org/techniques/T1059/006) rarfile (Citation: PyPI RAR), libzip (Citation: libzip), and zlib (Citation: Zlib Github). Most libraries include functionality to encrypt and/or compress data.\n\nSome archival libraries are preinstalled on systems, such as bzip2 on macOS and Linux, and zip on Windows. Note that the libraries are different from the utilities. The libraries can be linked against when compiling, while the utilities require spawning a subshell, or a similar execution mechanism."
  },
  {
   "cell_type": "markdown",
   "id": "03d46fcd",
   "metadata": {},
   "source": "## Atomic Tests"
  },
  {
   "cell_type": "markdown",
   "id": "014654ac",
   "metadata": {},
   "source": "### Atomic Test #1 - Compressing data using GZip in Python (Linux)\nUses GZip from Python to compress files\n\n**Supported Platforms:** linux\n\nElevation Required (e.g. root or admin)\n#### Dependencies:  Run with `bash`!\n##### Description: Requires Python\n\n##### Check Prereq Commands:\n```bash\nwhich_python=`which python`; $which_python -V\n\n```\n##### Get Prereq Commands:\n```bash\nNone\n```"
  },
  {
   "cell_type": "code",
   "execution_count": null,
   "id": "82574214",
   "metadata": {},
   "outputs": [],
   "source": "Invoke-AtomicTest T1560.002 -TestNumbers 1 -GetPreReqs"
  },
  {
   "cell_type": "markdown",
   "id": "835c4099",
   "metadata": {},
   "source": [
    "#### Attack Commands: Run with `bash`\n",
    "```bash\n$which_python -c \"import gzip;input_file=open('/etc/passwd', 'rb');content=input_file.read();input_file.close();output_file=gzip.GzipFile('/tmp/passwd.gz','wb',compresslevel=6);output_file.write(content);output_file.close();\"\n```"
   ]
  },
  {
   "cell_type": "code",
   "execution_count": null,
   "id": "3128aa1f",
   "metadata": {},
   "outputs": [],
   "source": "Invoke-AtomicTest T1560.002 -TestNumbers 1"
  },
  {
   "cell_type": "markdown",
   "id": "71a07f36",
   "metadata": {},
   "source": "#### Cleanup: \n```bash\nrm /tmp/passwd.gz\n```"
  },
  {
   "cell_type": "code",
   "execution_count": null,
   "id": "e6471efa",
   "metadata": {},
   "outputs": [],
   "source": "Invoke-AtomicTest T1560.002 -TestNumbers 1 -Cleanup"
  },
  {
   "cell_type": "markdown",
   "id": "c3fc1c93",
   "metadata": {},
   "source": "### Atomic Test #2 - Compressing data using bz2 in Python (Linux)\nUses bz2 from Python to compress files\n\n**Supported Platforms:** linux\n\nElevation Required (e.g. root or admin)\n#### Dependencies:  Run with `bash`!\n##### Description: Requires Python\n\n##### Check Prereq Commands:\n```bash\nwhich_python=`which python`; $which_python -V\n\n```\n##### Get Prereq Commands:\n```bash\nNone\n```"
  },
  {
   "cell_type": "code",
   "execution_count": null,
   "id": "4b2ecb73",
   "metadata": {},
   "outputs": [],
   "source": "Invoke-AtomicTest T1560.002 -TestNumbers 2 -GetPreReqs"
  },
  {
   "cell_type": "markdown",
   "id": "141d23cc",
   "metadata": {},
   "source": [
    "#### Attack Commands: Run with `bash`\n",
    "```bash\n$which_python -c \"import bz2;input_file=open('/etc/passwd','rb');content=input_file.read();input_file.close();bz2content=bz2.compress(content,compresslevel=9);output_file=open('/tmp/passwd.bz2','w+');output_file.write(str(bz2content));output_file.close();\"\n```"
   ]
  },
  {
   "cell_type": "code",
   "execution_count": null,
   "id": "c537830d",
   "metadata": {},
   "outputs": [],
   "source": "Invoke-AtomicTest T1560.002 -TestNumbers 2"
  },
  {
   "cell_type": "markdown",
   "id": "bf0d2ca0",
   "metadata": {},
   "source": "#### Cleanup: \n```bash\nrm /tmp/passwd.bz2\n```"
  },
  {
   "cell_type": "code",
   "execution_count": null,
   "id": "948d28e2",
   "metadata": {},
   "outputs": [],
   "source": "Invoke-AtomicTest T1560.002 -TestNumbers 2 -Cleanup"
  },
  {
   "cell_type": "markdown",
   "id": "7cfaa5fe",
   "metadata": {},
   "source": "### Atomic Test #3 - Compressing data using zipfile in Python (Linux)\nUses zipfile from Python to compress files\n\n**Supported Platforms:** linux\n\nElevation Required (e.g. root or admin)\n#### Dependencies:  Run with `bash`!\n##### Description: Requires Python\n\n##### Check Prereq Commands:\n```bash\nwhich_python=`which python`; $which_python -V\n\n```\n##### Get Prereq Commands:\n```bash\nNone\n```"
  },
  {
   "cell_type": "code",
   "execution_count": null,
   "id": "3765c68d",
   "metadata": {},
   "outputs": [],
   "source": "Invoke-AtomicTest T1560.002 -TestNumbers 3 -GetPreReqs"
  },
  {
   "cell_type": "markdown",
   "id": "a9f2bd1d",
   "metadata": {},
   "source": [
    "#### Attack Commands: Run with `bash`\n",
    "```bash\n$which_python -c \"from zipfile import ZipFile; ZipFile('/tmp/passwd.zip', mode='w').write('/etc/passwd')\"\n```"
   ]
  },
  {
   "cell_type": "code",
   "execution_count": null,
   "id": "b22cb4b3",
   "metadata": {},
   "outputs": [],
   "source": "Invoke-AtomicTest T1560.002 -TestNumbers 3"
  },
  {
   "cell_type": "markdown",
   "id": "9bd5bd14",
   "metadata": {},
   "source": "#### Cleanup: \n```bash\nrm /tmp/passwd.zip\n```"
  },
  {
   "cell_type": "code",
   "execution_count": null,
   "id": "e887ac79",
   "metadata": {},
   "outputs": [],
   "source": "Invoke-AtomicTest T1560.002 -TestNumbers 3 -Cleanup"
  },
  {
   "cell_type": "markdown",
   "id": "d1590bed",
   "metadata": {},
   "source": "### Atomic Test #4 - Compressing data using tarfile in Python (Linux)\nUses tarfile from Python to compress files\n\n**Supported Platforms:** linux\n\nElevation Required (e.g. root or admin)\n#### Dependencies:  Run with `bash`!\n##### Description: Requires Python\n\n##### Check Prereq Commands:\n```bash\nwhich_python=`which python`; $which_python -V\n\n```\n##### Get Prereq Commands:\n```bash\nNone\n```"
  },
  {
   "cell_type": "code",
   "execution_count": null,
   "id": "e25fef34",
   "metadata": {},
   "outputs": [],
   "source": "Invoke-AtomicTest T1560.002 -TestNumbers 4 -GetPreReqs"
  },
  {
   "cell_type": "markdown",
   "id": "1cf92c07",
   "metadata": {},
   "source": [
    "#### Attack Commands: Run with `bash`\n",
    "```bash\n$which_python -c \"from zipfile import ZipFile; ZipFile('/tmp/passwd.tar.gz', mode='w').write('/etc/passwd')\" \n```"
   ]
  },
  {
   "cell_type": "code",
   "execution_count": null,
   "id": "7497bd8d",
   "metadata": {},
   "outputs": [],
   "source": "Invoke-AtomicTest T1560.002 -TestNumbers 4"
  },
  {
   "cell_type": "markdown",
   "id": "46b5ad9c",
   "metadata": {},
   "source": "#### Cleanup: \n```bash\nrm /tmp/passwd.tar.gz\n```"
  },
  {
   "cell_type": "code",
   "execution_count": null,
   "id": "70978e5a",
   "metadata": {},
   "outputs": [],
   "source": "Invoke-AtomicTest T1560.002 -TestNumbers 4 -Cleanup"
  },
  {
   "cell_type": "markdown",
   "id": "cb89c369",
   "metadata": {},
   "source": "## Detection\nMonitor processes for accesses to known archival libraries. This may yield a significant number of benign events, depending on how systems in the environment are typically used.\n\nConsider detecting writing of files with extensions and/or headers associated with compressed or encrypted file types. Detection efforts may focus on follow-on exfiltration activity, where compressed or encrypted files can be detected in transit with a network intrusion detection or data loss prevention system analyzing file headers.(Citation: Wikipedia File Header Signatures)"
  }
 ],
 "metadata": {
  "kernelspec": {
   "display_name": ".NET (PowerShell)",
   "language": "PowerShell",
   "name": ".net-powershell"
  },
  "language_info": {
   "file_extension": ".ps1",
   "mimetype": "text/x-powershell",
   "name": "PowerShell",
   "pygments_lexer": "powershell",
   "version": "7.0"
  }
 },
 "nbformat": 4,
 "nbformat_minor": 5
}