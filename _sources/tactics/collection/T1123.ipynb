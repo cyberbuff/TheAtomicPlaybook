{
 "cells": [
  {
   "cell_type": "markdown",
   "id": "c6d4a3ee",
   "metadata": {},
   "source": "# T1123 - Audio Capture\nAn adversary can leverage a computer's peripheral devices (e.g., microphones and webcams) or applications (e.g., voice and video call services) to capture audio recordings for the purpose of listening into sensitive conversations to gather information.\n\nMalware or scripts may be used to interact with the devices through an available API provided by the operating system or an application to capture audio. Audio files may be written to disk and exfiltrated later."
  },
  {
   "cell_type": "markdown",
   "id": "63a2fe45",
   "metadata": {},
   "source": "## Atomic Tests"
  },
  {
   "cell_type": "markdown",
   "id": "00693da3",
   "metadata": {},
   "source": [
    "### Atomic Test #1 - using device audio capture commandlet",
    "[AudioDeviceCmdlets](https://github.com/cdhunt/WindowsAudioDevice-Powershell-Cmdlet)\n",
    "**Supported Platforms:** windows",
    "#### Attack Commands: Run with `powershell`\n",
    "```powershell\npowershell.exe -Command WindowsAudioDevice-Powershell-Cmdlet\n```"
   ]
  },
  {
   "cell_type": "code",
   "execution_count": null,
   "id": "f9aa3b86",
   "metadata": {},
   "outputs": [],
   "source": "Invoke-AtomicTest T1123 -TestNumbers 1"
  },
  {
   "cell_type": "markdown",
   "id": "2933523f",
   "metadata": {},
   "source": [
    "### Atomic Test #2 - Registry artefact when application use microphone",
    "[can-you-track-processes-accessing-the-camera-and-microphone](https://svch0st.medium.com/can-you-track-processes-accessing-the-camera-and-microphone-7e6885b37072)\n",
    "**Supported Platforms:** windows",
    "#### Attack Commands: Run with `command_prompt`\n",
    "```command_prompt\nreg add HKLM\\SOFTWARE\\Microsoft\\Windows\\CurrentVersion\\CapabilityAccessManager\\ConsentStore\\microphone\\NonPackaged\\C:#Windows#Temp#atomic.exe /v LastUsedTimeStart /t REG_BINARY /d a273b6f07104d601 /f\nreg add HKLM\\SOFTWARE\\Microsoft\\Windows\\CurrentVersion\\CapabilityAccessManager\\ConsentStore\\microphone\\NonPackaged\\C:#Windows#Temp#atomic.exe /v LastUsedTimeStop /t REG_BINARY /d 96ef514b7204d601 /f\n```"
   ]
  },
  {
   "cell_type": "code",
   "execution_count": null,
   "id": "c469663e",
   "metadata": {},
   "outputs": [],
   "source": "Invoke-AtomicTest T1123 -TestNumbers 2"
  },
  {
   "cell_type": "markdown",
   "id": "ed23e2e7",
   "metadata": {},
   "source": "#### Cleanup: \n```cmd\nreg DELETE HKLM\\SOFTWARE\\Microsoft\\Windows\\CurrentVersion\\CapabilityAccessManager\\ConsentStore\\microphone\\NonPackaged\\C:#Windows#Temp#atomic.exe /f\n```"
  },
  {
   "cell_type": "code",
   "execution_count": null,
   "id": "b3c7a7db",
   "metadata": {},
   "outputs": [],
   "source": "Invoke-AtomicTest T1123 -TestNumbers 2 -Cleanup"
  },
  {
   "cell_type": "markdown",
   "id": "29301cf9",
   "metadata": {},
   "source": [
    "### Atomic Test #3 - using Quicktime Player",
    "Use AppleScript to get Quicktime Player to record an audio file from the default microphone.\n\nShould create a non-empty m4a file with sound from the microphone.\n\n- requires Automation permissions but no additional microphone permissions\n- saves file in /tmp by default. Other locations likely to require more permissions.\n",
    "**Supported Platforms:** macos",
    "#### Attack Commands: Run with `sh`\n",
    "```sh\nsh PathToAtomicsFolder/T1123/src/T1123.sh /tmp/T1123.m4a 5\n```"
   ]
  },
  {
   "cell_type": "code",
   "execution_count": null,
   "id": "4cb70f42",
   "metadata": {},
   "outputs": [],
   "source": "Invoke-AtomicTest T1123 -TestNumbers 3"
  },
  {
   "cell_type": "markdown",
   "id": "a82f59ca",
   "metadata": {},
   "source": "#### Cleanup: \n```sh\nif test -w /tmp/T1123.m4a; then\n  rm /tmp/T1123.m4a\nfi\n```"
  },
  {
   "cell_type": "code",
   "execution_count": null,
   "id": "e1110e25",
   "metadata": {},
   "outputs": [],
   "source": "Invoke-AtomicTest T1123 -TestNumbers 3 -Cleanup"
  },
  {
   "cell_type": "markdown",
   "id": "6f769375",
   "metadata": {},
   "source": "## Detection\nDetection of this technique may be difficult due to the various APIs that may be used. Telemetry data regarding API use may not be useful depending on how a system is normally used, but may provide context to other potentially malicious activity occurring on a system.\n\nBehavior that could indicate technique use include an unknown or unusual process accessing APIs associated with devices or software that interact with the microphone, recording devices, or recording software, and a process periodically writing files to disk that contain audio data."
  },
  {
   "cell_type": "markdown",
   "id": "39cf62c2",
   "metadata": {},
   "source": "\n## Shield Active Defense\n### Decoy Content  \n Seed content that can be used to lead an adversary in a specific direction, entice a behavior, etc. \n\n Decoy Content is the data used to tell a story to an adversary. This content can be legitimate or synthetic data which is used to reinforce or validate your defensive strategy. Examples of decoy content are files on a storage object, entries in the system registry, system shortcuts, etc.\n#### Opportunity\nThere is an opportunity to feed content to an adversary to influence their behaviors, test their interest in specific topics, or add legitimacy to a system or environment.\n#### Use Case\nA defender can introduce decoy audio content designed to make the adversary believe that their audio capture efforts are working.\n#### Procedures\nCreate directories and files with names and contents using key words that may be relevant to an adversary to see if they examine or exfiltrate the data.\nSeed a file system with content that is of no value to the company but reinforces the legitimacy of the system if viewed by an adversary.\n"
  }
 ],
 "metadata": {
  "kernelspec": {
   "display_name": ".NET (PowerShell)",
   "language": "pwsh",
   "name": ".net-powershell"
  },
  "language_info": {
   "file_extension": ".ps1",
   "mimetype": "text/x-powershell",
   "name": "pwsh",
   "pygments_lexer": "powershell",
   "version": "7.0"
  }
 },
 "nbformat": 4,
 "nbformat_minor": 5
}