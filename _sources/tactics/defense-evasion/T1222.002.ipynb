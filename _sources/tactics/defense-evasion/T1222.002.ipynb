{
 "cells": [
  {
   "cell_type": "markdown",
   "metadata": {},
   "source": [
    "# T1222.002 - File and Directory Permissions Modification: Linux and Mac File and Directory Permissions Modification",
    "\n",
    "Adversaries may modify file or directory permissions/attributes to evade access control lists (ACLs) and access protected files.(Citation: Hybrid Analysis Icacls1 June 2018)(Citation: Hybrid Analysis Icacls2 May 2018) File and directory permissions are commonly managed by ACLs configured by the file or directory owner, or users with the appropriate permissions. File and directory ACL implementations vary by platform, but generally explicitly designate which users or groups can perform which actions (read, write, execute, etc.).\n\nMost Linux and Linux-based platforms provide a standard set of permission groups (user, group, and other) and a standard set of permissions (read, write, and execute) that are applied to each group. While nuances of each platform\u2019s permissions implementation may vary, most of the platforms provide two primary commands used to manipulate file and directory ACLs: <code>chown</code> (short for change owner), and <code>chmod</code> (short for change mode).\n\nAdversarial may use these commands to make themselves the owner of files and directories or change the mode if current permissions allow it. They could subsequently lock others out of the file. Specific file and directory modifications may be a required step for many techniques, such as establishing Persistence via [Unix Shell Configuration Modification](https://attack.mitre.org/techniques/T1546/004) or tainting/hijacking other instrumental binary/configuration files via [Hijack Execution Flow](https://attack.mitre.org/techniques/T1574).(Citation: 20 macOS Common Tools and Techniques) "
   ]
  },
  {
   "cell_type": "markdown",
   "metadata": {},
   "source": [
    "## Atomic Tests"
   ]
  },
  {
   "cell_type": "markdown",
   "metadata": {},
   "source": [
    "### Atomic Test #1 - chmod - Change file or folder mode (numeric mode)\nChanges a file or folder's permissions using chmod and a specified numeric mode.\n\n**Supported Platforms:** macos, linux\n#### Attack Commands: Run with `bash`\n```bash\nchmod 755 /tmp/AtomicRedTeam/atomics/T1222.002\n```"
   ]
  },
  {
   "cell_type": "code",
   "execution_count": null,
   "metadata": {},
   "outputs": [],
   "source": [
    "Invoke-AtomicTest T1222.002 -TestNumbers 1"
   ]
  },
  {
   "cell_type": "markdown",
   "metadata": {},
   "source": [
    "### Atomic Test #2 - chmod - Change file or folder mode (symbolic mode)\nChanges a file or folder's permissions using chmod and a specified symbolic mode.\n\n**Supported Platforms:** macos, linux\n#### Attack Commands: Run with `bash`\n```bash\nchmod a+w /tmp/AtomicRedTeam/atomics/T1222.002\n```"
   ]
  },
  {
   "cell_type": "code",
   "execution_count": null,
   "metadata": {},
   "outputs": [],
   "source": [
    "Invoke-AtomicTest T1222.002 -TestNumbers 2"
   ]
  },
  {
   "cell_type": "markdown",
   "metadata": {},
   "source": [
    "### Atomic Test #3 - chmod - Change file or folder mode (numeric mode) recursively\nChanges a file or folder's permissions recursively using chmod and a specified numeric mode.\n\n**Supported Platforms:** macos, linux\n#### Attack Commands: Run with `bash`\n```bash\nchmod -R 755 /tmp/AtomicRedTeam/atomics/T1222.002\n```"
   ]
  },
  {
   "cell_type": "code",
   "execution_count": null,
   "metadata": {},
   "outputs": [],
   "source": [
    "Invoke-AtomicTest T1222.002 -TestNumbers 3"
   ]
  },
  {
   "cell_type": "markdown",
   "metadata": {},
   "source": [
    "### Atomic Test #4 - chmod - Change file or folder mode (symbolic mode) recursively\nChanges a file or folder's permissions recursively using chmod and a specified symbolic mode.\n\n**Supported Platforms:** macos, linux\n#### Attack Commands: Run with `bash`\n```bash\nchmod -R a+w /tmp/AtomicRedTeam/atomics/T1222.002\n```"
   ]
  },
  {
   "cell_type": "code",
   "execution_count": null,
   "metadata": {},
   "outputs": [],
   "source": [
    "Invoke-AtomicTest T1222.002 -TestNumbers 4"
   ]
  },
  {
   "cell_type": "markdown",
   "metadata": {},
   "source": [
    "### Atomic Test #5 - chown - Change file or folder ownership and group\nChanges a file or folder's ownership and group information using chown.\n\n**Supported Platforms:** macos, linux\n#### Attack Commands: Run with `bash`\n```bash\nchown root:root /tmp/AtomicRedTeam/atomics/T1222.002/T1222.002.yaml\n```"
   ]
  },
  {
   "cell_type": "code",
   "execution_count": null,
   "metadata": {},
   "outputs": [],
   "source": [
    "Invoke-AtomicTest T1222.002 -TestNumbers 5"
   ]
  },
  {
   "cell_type": "markdown",
   "metadata": {},
   "source": [
    "### Atomic Test #6 - chown - Change file or folder ownership and group recursively\nChanges a file or folder's ownership and group information recursively using chown.\n\n**Supported Platforms:** macos, linux\n#### Attack Commands: Run with `bash`\n```bash\nchown -R root:root /tmp/AtomicRedTeam/atomics/T1222.002\n```"
   ]
  },
  {
   "cell_type": "code",
   "execution_count": null,
   "metadata": {},
   "outputs": [],
   "source": [
    "Invoke-AtomicTest T1222.002 -TestNumbers 6"
   ]
  },
  {
   "cell_type": "markdown",
   "metadata": {},
   "source": [
    "### Atomic Test #7 - chown - Change file or folder mode ownership only\nChanges a file or folder's ownership only using chown.\n\n**Supported Platforms:** macos, linux\n#### Attack Commands: Run with `bash`\n```bash\nchown root /tmp/AtomicRedTeam/atomics/T1222.002/T1222.002.yaml\n```"
   ]
  },
  {
   "cell_type": "code",
   "execution_count": null,
   "metadata": {},
   "outputs": [],
   "source": [
    "Invoke-AtomicTest T1222.002 -TestNumbers 7"
   ]
  },
  {
   "cell_type": "markdown",
   "metadata": {},
   "source": [
    "### Atomic Test #8 - chown - Change file or folder ownership recursively\nChanges a file or folder's ownership only recursively using chown.\n\n**Supported Platforms:** macos, linux\n#### Attack Commands: Run with `bash`\n```bash\nchown -R root /tmp/AtomicRedTeam/atomics/T1222.002\n```"
   ]
  },
  {
   "cell_type": "code",
   "execution_count": null,
   "metadata": {},
   "outputs": [],
   "source": [
    "Invoke-AtomicTest T1222.002 -TestNumbers 8"
   ]
  },
  {
   "cell_type": "markdown",
   "metadata": {},
   "source": [
    "### Atomic Test #9 - chattr - Remove immutable file attribute\nRemove's a file's `immutable` attribute using `chattr`.\nThis technique was used by the threat actor Rocke during the compromise of Linux web servers.\n\n**Supported Platforms:** macos, linux\n#### Attack Commands: Run with `sh`\n```sh\nchattr -i /var/spool/cron/root\n```"
   ]
  },
  {
   "cell_type": "code",
   "execution_count": null,
   "metadata": {},
   "outputs": [],
   "source": [
    "Invoke-AtomicTest T1222.002 -TestNumbers 9"
   ]
  },
  {
   "cell_type": "markdown",
   "metadata": {},
   "source": [
    "### Atomic Test #10 - Chmod through c script\nchmods a file using a c script\n\n**Supported Platforms:** macos, linux\n#### Dependencies:  Run with `sh`!\n##### Description: Compile the script from (#{source_file}). Destination is #{compiled_file}\n\n##### Check Prereq Commands:\n```sh\ngcc PathToAtomicsFolder/T1222.002/src/T1222.002.c -o /tmp/T1222002\n\n```\n##### Get Prereq Commands:\n```sh\ngcc PathToAtomicsFolder/T1222.002/src/T1222.002.c -o /tmp/T1222002\n\n```"
   ]
  },
  {
   "cell_type": "code",
   "execution_count": null,
   "metadata": {},
   "outputs": [],
   "source": [
    "Invoke-AtomicTest T1222.002 -TestNumbers 10 -GetPreReqs"
   ]
  },
  {
   "cell_type": "markdown",
   "metadata": {},
   "source": [
    "#### Attack Commands: Run with `sh`\n```sh\n/tmp/T1222002 /tmp/ T1222002\n```"
   ]
  },
  {
   "cell_type": "code",
   "execution_count": null,
   "metadata": {},
   "outputs": [],
   "source": [
    "Invoke-AtomicTest T1222.002 -TestNumbers 10"
   ]
  },
  {
   "cell_type": "markdown",
   "metadata": {},
   "source": [
    "### Atomic Test #11 - Chown through c script\nchowns a file to root using a c script\n\n**Supported Platforms:** macos, linux\nElevation Required (e.g. root or admin)\n#### Dependencies:  Run with `sh`!\n##### Description: Compile the script from (#{source_file}). Destination is #{compiled_file}\n\n##### Check Prereq Commands:\n```sh\ngcc PathToAtomicsFolder/T1222.002/src/chown.c -o /tmp/T1222002own\n\n```\n##### Get Prereq Commands:\n```sh\ngcc PathToAtomicsFolder/T1222.002/src/chown.c -o /tmp/T1222002own\n\n```"
   ]
  },
  {
   "cell_type": "code",
   "execution_count": null,
   "metadata": {},
   "outputs": [],
   "source": [
    "Invoke-AtomicTest T1222.002 -TestNumbers 11 -GetPreReqs"
   ]
  },
  {
   "cell_type": "markdown",
   "metadata": {},
   "source": [
    "#### Attack Commands: Run with `sh`\n```sh\nsudo /tmp/T1222002own PathToAtomicsFolder/T1222.002/src/chown.c\n```"
   ]
  },
  {
   "cell_type": "code",
   "execution_count": null,
   "metadata": {},
   "outputs": [],
   "source": [
    "Invoke-AtomicTest T1222.002 -TestNumbers 11"
   ]
  },
  {
   "cell_type": "markdown",
   "metadata": {},
   "source": [
    "## Detection",
    "\n",
    "Monitor and investigate attempts to modify ACLs and file/directory ownership. Many of the commands used to modify ACLs and file/directory ownership are built-in system utilities and may generate a high false positive alert rate, so compare against baseline knowledge for how systems are typically used and correlate modification events with other indications of malicious activity where possible. Commonly abused command arguments include <code>chmod +x</code>, <code>chmod -R 755</code>, and <code>chmod 777</code>.(Citation: 20 macOS Common Tools and Techniques) \n\nConsider enabling file/directory permission change auditing on folders containing key binary/configuration files."
   ]
  }
 ],
 "metadata": {
  "kernelspec": {
   "display_name": ".NET (PowerShell)",
   "language": "PowerShell",
   "name": ".net-powershell"
  },
  "language_info": {
   "file_extension": ".ps1",
   "mimetype": "text/x-powershell",
   "name": "PowerShell",
   "pygments_lexer": "powershell",
   "version": "7.0"
  }
 },
 "nbformat": 4,
 "nbformat_minor": 4
}