{
 "cells": [
  {
   "cell_type": "markdown",
   "id": "b61bd8ab",
   "metadata": {},
   "source": "# T1222.002 - Linux and Mac File and Directory Permissions Modification\nAdversaries may modify file or directory permissions/attributes to evade access control lists (ACLs) and access protected files.(Citation: Hybrid Analysis Icacls1 June 2018)(Citation: Hybrid Analysis Icacls2 May 2018) File and directory permissions are commonly managed by ACLs configured by the file or directory owner, or users with the appropriate permissions. File and directory ACL implementations vary by platform, but generally explicitly designate which users or groups can perform which actions (read, write, execute, etc.).\n\nMost Linux and Linux-based platforms provide a standard set of permission groups (user, group, and other) and a standard set of permissions (read, write, and execute) that are applied to each group. While nuances of each platform\u2019s permissions implementation may vary, most of the platforms provide two primary commands used to manipulate file and directory ACLs: <code>chown</code> (short for change owner), and <code>chmod</code> (short for change mode).\n\nAdversarial may use these commands to make themselves the owner of files and directories or change the mode if current permissions allow it. They could subsequently lock others out of the file. Specific file and directory modifications may be a required step for many techniques, such as establishing Persistence via [Unix Shell Configuration Modification](https://attack.mitre.org/techniques/T1546/004) or tainting/hijacking other instrumental binary/configuration files via [Hijack Execution Flow](https://attack.mitre.org/techniques/T1574).(Citation: 20 macOS Common Tools and Techniques) "
  },
  {
   "cell_type": "markdown",
   "id": "a67419d0",
   "metadata": {},
   "source": "## Atomic Tests"
  },
  {
   "cell_type": "markdown",
   "id": "a899268c",
   "metadata": {},
   "source": [
    "### Atomic Test #1 - chmod - Change file or folder mode (numeric mode)",
    "Changes a file or folder's permissions using chmod and a specified numeric mode.\n",
    "**Supported Platforms:** macos, linux",
    "#### Attack Commands: Run with `bash`\n",
    "```bash\nchmod 755 /tmp/AtomicRedTeam/atomics/T1222.002\n```"
   ]
  },
  {
   "cell_type": "code",
   "execution_count": null,
   "id": "d26af666",
   "metadata": {},
   "outputs": [],
   "source": "Invoke-AtomicTest T1222.002 -TestNumbers 1"
  },
  {
   "cell_type": "markdown",
   "id": "c8a4f66a",
   "metadata": {},
   "source": [
    "### Atomic Test #2 - chmod - Change file or folder mode (symbolic mode)",
    "Changes a file or folder's permissions using chmod and a specified symbolic mode.\n",
    "**Supported Platforms:** macos, linux",
    "#### Attack Commands: Run with `bash`\n",
    "```bash\nchmod a+w /tmp/AtomicRedTeam/atomics/T1222.002\n```"
   ]
  },
  {
   "cell_type": "code",
   "execution_count": null,
   "id": "47a6cbaa",
   "metadata": {},
   "outputs": [],
   "source": "Invoke-AtomicTest T1222.002 -TestNumbers 2"
  },
  {
   "cell_type": "markdown",
   "id": "6a231bf0",
   "metadata": {},
   "source": [
    "### Atomic Test #3 - chmod - Change file or folder mode (numeric mode) recursively",
    "Changes a file or folder's permissions recursively using chmod and a specified numeric mode.\n",
    "**Supported Platforms:** macos, linux",
    "#### Attack Commands: Run with `bash`\n",
    "```bash\nchmod -R 755 /tmp/AtomicRedTeam/atomics/T1222.002\n```"
   ]
  },
  {
   "cell_type": "code",
   "execution_count": null,
   "id": "cea1b208",
   "metadata": {},
   "outputs": [],
   "source": "Invoke-AtomicTest T1222.002 -TestNumbers 3"
  },
  {
   "cell_type": "markdown",
   "id": "82e63ea7",
   "metadata": {},
   "source": [
    "### Atomic Test #4 - chmod - Change file or folder mode (symbolic mode) recursively",
    "Changes a file or folder's permissions recursively using chmod and a specified symbolic mode.\n",
    "**Supported Platforms:** macos, linux",
    "#### Attack Commands: Run with `bash`\n",
    "```bash\nchmod -R a+w /tmp/AtomicRedTeam/atomics/T1222.002\n```"
   ]
  },
  {
   "cell_type": "code",
   "execution_count": null,
   "id": "6dd633d7",
   "metadata": {},
   "outputs": [],
   "source": "Invoke-AtomicTest T1222.002 -TestNumbers 4"
  },
  {
   "cell_type": "markdown",
   "id": "b75c8dee",
   "metadata": {},
   "source": [
    "### Atomic Test #5 - chown - Change file or folder ownership and group",
    "Changes a file or folder's ownership and group information using chown.\n",
    "**Supported Platforms:** macos, linux",
    "#### Attack Commands: Run with `bash`\n",
    "```bash\nchown root:root /tmp/AtomicRedTeam/atomics/T1222.002/T1222.002.yaml\n```"
   ]
  },
  {
   "cell_type": "code",
   "execution_count": null,
   "id": "3b13520b",
   "metadata": {},
   "outputs": [],
   "source": "Invoke-AtomicTest T1222.002 -TestNumbers 5"
  },
  {
   "cell_type": "markdown",
   "id": "d4902fa2",
   "metadata": {},
   "source": [
    "### Atomic Test #6 - chown - Change file or folder ownership and group recursively",
    "Changes a file or folder's ownership and group information recursively using chown.\n",
    "**Supported Platforms:** macos, linux",
    "#### Attack Commands: Run with `bash`\n",
    "```bash\nchown -R root:root /tmp/AtomicRedTeam/atomics/T1222.002\n```"
   ]
  },
  {
   "cell_type": "code",
   "execution_count": null,
   "id": "9aa94700",
   "metadata": {},
   "outputs": [],
   "source": "Invoke-AtomicTest T1222.002 -TestNumbers 6"
  },
  {
   "cell_type": "markdown",
   "id": "3b0956e3",
   "metadata": {},
   "source": [
    "### Atomic Test #7 - chown - Change file or folder mode ownership only",
    "Changes a file or folder's ownership only using chown.\n",
    "**Supported Platforms:** macos, linux",
    "#### Attack Commands: Run with `bash`\n",
    "```bash\nchown root /tmp/AtomicRedTeam/atomics/T1222.002/T1222.002.yaml\n```"
   ]
  },
  {
   "cell_type": "code",
   "execution_count": null,
   "id": "35a3e269",
   "metadata": {},
   "outputs": [],
   "source": "Invoke-AtomicTest T1222.002 -TestNumbers 7"
  },
  {
   "cell_type": "markdown",
   "id": "660a19cf",
   "metadata": {},
   "source": [
    "### Atomic Test #8 - chown - Change file or folder ownership recursively",
    "Changes a file or folder's ownership only recursively using chown.\n",
    "**Supported Platforms:** macos, linux",
    "#### Attack Commands: Run with `bash`\n",
    "```bash\nchown -R root /tmp/AtomicRedTeam/atomics/T1222.002\n```"
   ]
  },
  {
   "cell_type": "code",
   "execution_count": null,
   "id": "2e4472bb",
   "metadata": {},
   "outputs": [],
   "source": "Invoke-AtomicTest T1222.002 -TestNumbers 8"
  },
  {
   "cell_type": "markdown",
   "id": "bc8b5ab8",
   "metadata": {},
   "source": [
    "### Atomic Test #9 - chattr - Remove immutable file attribute",
    "Remove's a file's `immutable` attribute using `chattr`.\nThis technique was used by the threat actor Rocke during the compromise of Linux web servers.\n",
    "**Supported Platforms:** macos, linux",
    "#### Attack Commands: Run with `sh`\n",
    "```sh\nchattr -i /var/spool/cron/root\n```"
   ]
  },
  {
   "cell_type": "code",
   "execution_count": null,
   "id": "3d719f1b",
   "metadata": {},
   "outputs": [],
   "source": "Invoke-AtomicTest T1222.002 -TestNumbers 9"
  },
  {
   "cell_type": "markdown",
   "id": "22892130",
   "metadata": {},
   "source": "### Atomic Test #10 - Chmod through c script\nchmods a file using a c script\n\n**Supported Platforms:** macos, linux\n#### Dependencies:  Run with `sh`!\n##### Description: Compile the script from (#{source_file}). Destination is #{compiled_file}\n\n##### Check Prereq Commands:\n```sh\ngcc PathToAtomicsFolder/T1222.002/src/T1222.002.c -o /tmp/T1222002\n\n```\n##### Get Prereq Commands:\n```sh\ngcc PathToAtomicsFolder/T1222.002/src/T1222.002.c -o /tmp/T1222002\n\n```"
  },
  {
   "cell_type": "code",
   "execution_count": null,
   "id": "6c167e37",
   "metadata": {},
   "outputs": [],
   "source": "Invoke-AtomicTest T1222.002 -TestNumbers 10 -GetPreReqs"
  },
  {
   "cell_type": "markdown",
   "id": "4e1a3c80",
   "metadata": {},
   "source": [
    "#### Attack Commands: Run with `sh`\n",
    "```sh\n/tmp/T1222002 /tmp/ T1222002\n```"
   ]
  },
  {
   "cell_type": "code",
   "execution_count": null,
   "id": "f4c2280d",
   "metadata": {},
   "outputs": [],
   "source": "Invoke-AtomicTest T1222.002 -TestNumbers 10"
  },
  {
   "cell_type": "markdown",
   "id": "c61ef661",
   "metadata": {},
   "source": "### Atomic Test #11 - Chown through c script\nchowns a file to root using a c script\n\n**Supported Platforms:** macos, linux\n\nElevation Required (e.g. root or admin)\n#### Dependencies:  Run with `sh`!\n##### Description: Compile the script from (#{source_file}). Destination is #{compiled_file}\n\n##### Check Prereq Commands:\n```sh\ngcc PathToAtomicsFolder/T1222.002/src/chown.c -o /tmp/T1222002own\n\n```\n##### Get Prereq Commands:\n```sh\ngcc PathToAtomicsFolder/T1222.002/src/chown.c -o /tmp/T1222002own\n\n```"
  },
  {
   "cell_type": "code",
   "execution_count": null,
   "id": "6ff9ba89",
   "metadata": {},
   "outputs": [],
   "source": "Invoke-AtomicTest T1222.002 -TestNumbers 11 -GetPreReqs"
  },
  {
   "cell_type": "markdown",
   "id": "e781ad9a",
   "metadata": {},
   "source": [
    "#### Attack Commands: Run with `sh`\n",
    "```sh\nsudo /tmp/T1222002own PathToAtomicsFolder/T1222.002/src/chown.c\n```"
   ]
  },
  {
   "cell_type": "code",
   "execution_count": null,
   "id": "80ad1ded",
   "metadata": {},
   "outputs": [],
   "source": "Invoke-AtomicTest T1222.002 -TestNumbers 11"
  },
  {
   "cell_type": "markdown",
   "id": "b71a444c",
   "metadata": {},
   "source": "## Detection\nMonitor and investigate attempts to modify ACLs and file/directory ownership. Many of the commands used to modify ACLs and file/directory ownership are built-in system utilities and may generate a high false positive alert rate, so compare against baseline knowledge for how systems are typically used and correlate modification events with other indications of malicious activity where possible. Commonly abused command arguments include <code>chmod +x</code>, <code>chmod -R 755</code>, and <code>chmod 777</code>.(Citation: 20 macOS Common Tools and Techniques) \n\nConsider enabling file/directory permission change auditing on folders containing key binary/configuration files."
  }
 ],
 "metadata": {
  "kernelspec": {
   "display_name": ".NET (PowerShell)",
   "language": "PowerShell",
   "name": ".net-powershell"
  },
  "language_info": {
   "file_extension": ".ps1",
   "mimetype": "text/x-powershell",
   "name": "PowerShell",
   "pygments_lexer": "powershell",
   "version": "7.0"
  }
 },
 "nbformat": 4,
 "nbformat_minor": 5
}