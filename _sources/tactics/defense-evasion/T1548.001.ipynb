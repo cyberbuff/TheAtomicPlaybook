{
 "cells": [
  {
   "cell_type": "markdown",
   "id": "4977ce4d",
   "metadata": {},
   "source": "# T1548.001 - Setuid and Setgid\nAn adversary may abuse configurations where an application has the setuid or setgid bits set in order to get code running in a different (and possibly more privileged) user\u2019s context. On Linux or macOS, when the setuid or setgid bits are set for an application binary, the application will run with the privileges of the owning user or group respectively.(Citation: setuid man page) Normally an application is run in the current user\u2019s context, regardless of which user or group owns the application. However, there are instances where programs need to be executed in an elevated context to function properly, but the user running them may not have the specific required privileges.\n\nInstead of creating an entry in the sudoers file, which must be done by root, any user can specify the setuid or setgid flag to be set for their own applications (i.e. [Linux and Mac File and Directory Permissions Modification](https://attack.mitre.org/techniques/T1222/002)). The <code>chmod</code> command can set these bits with bitmasking, <code>chmod 4777 [file]</code> or via shorthand naming, <code>chmod u+s [file]</code>. This will enable the setuid bit. To enable the setgit bit, <code>chmod 2775</code> and <code>chmod g+s</code> can be used.\n\nAdversaries can use this mechanism on their own malware to make sure they're able to execute in elevated contexts in the future.(Citation: OSX Keydnap malware) This abuse is often part of a \"shell escape\" or other actions to bypass an execution environment with restricted permissions.\n\nAlternatively, adversaries may choose to find and target vulnerable binaries with the setuid or setgid bits already enabled (i.e. [File and Directory Discovery](https://attack.mitre.org/techniques/T1083)). The setuid and setguid bits are indicated with an \"s\" instead of an \"x\" when viewing a file's attributes via <code>ls -l</code>. The <code>find</code> command can also be used to search for such files. For example, <code>find / -perm +4000 2>/dev/null</code> can be used to find files with setuid set and <code>find / -perm +2000 2>/dev/null</code> may be used for setgid. Binaries that have these bits set may then be abused by adversaries.(Citation: GTFOBins Suid)"
  },
  {
   "cell_type": "markdown",
   "id": "94d79201",
   "metadata": {},
   "source": "## Atomic Tests"
  },
  {
   "cell_type": "markdown",
   "id": "fa804487",
   "metadata": {},
   "source": [
    "### Atomic Test #1 - Make and modify binary from C source",
    "Make, change owner, and change file attributes on a C source code file\n",
    "**Supported Platforms:** macos, linux",
    "\nElevation Required (e.g. root or admin)",
    "#### Attack Commands: Run with `sh`\n",
    "```sh\ncp PathToAtomicsFolder/T1548.001/src/hello.c /tmp/hello.c\nsudo chown root /tmp/hello.c\nsudo make /tmp/hello\nsudo chown root /tmp/hello\nsudo chmod u+s /tmp/hello\n/tmp/hello\n```"
   ]
  },
  {
   "cell_type": "code",
   "execution_count": null,
   "id": "44facb44",
   "metadata": {},
   "outputs": [],
   "source": "Invoke-AtomicTest T1548.001 -TestNumbers 1"
  },
  {
   "cell_type": "markdown",
   "id": "f298135f",
   "metadata": {},
   "source": "#### Cleanup: \n```sh\nsudo rm /tmp/hello\nsudo rm /tmp/hello.c\n```"
  },
  {
   "cell_type": "code",
   "execution_count": null,
   "id": "3b94179d",
   "metadata": {},
   "outputs": [],
   "source": "Invoke-AtomicTest T1548.001 -TestNumbers 1 -Cleanup"
  },
  {
   "cell_type": "markdown",
   "id": "49bb0192",
   "metadata": {},
   "source": [
    "### Atomic Test #2 - Set a SetUID flag on file",
    "This test sets the SetUID flag on a file in Linux and macOS.\n",
    "**Supported Platforms:** macos, linux",
    "\nElevation Required (e.g. root or admin)",
    "#### Attack Commands: Run with `sh`\n",
    "```sh\nsudo touch /tmp/evilBinary\nsudo chown root /tmp/evilBinary\nsudo chmod u+xs /tmp/evilBinary\n```"
   ]
  },
  {
   "cell_type": "code",
   "execution_count": null,
   "id": "166f1176",
   "metadata": {},
   "outputs": [],
   "source": "Invoke-AtomicTest T1548.001 -TestNumbers 2"
  },
  {
   "cell_type": "markdown",
   "id": "aa9af923",
   "metadata": {},
   "source": "#### Cleanup: \n```sh\nsudo rm /tmp/evilBinary\n```"
  },
  {
   "cell_type": "code",
   "execution_count": null,
   "id": "c437370b",
   "metadata": {},
   "outputs": [],
   "source": "Invoke-AtomicTest T1548.001 -TestNumbers 2 -Cleanup"
  },
  {
   "cell_type": "markdown",
   "id": "2c5696f8",
   "metadata": {},
   "source": [
    "### Atomic Test #3 - Set a SetGID flag on file",
    "This test sets the SetGID flag on a file in Linux and macOS.\n",
    "**Supported Platforms:** macos, linux",
    "\nElevation Required (e.g. root or admin)",
    "#### Attack Commands: Run with `sh`\n",
    "```sh\nsudo touch /tmp/evilBinary\nsudo chown root /tmp/evilBinary\nsudo chmod g+xs /tmp/evilBinary\n```"
   ]
  },
  {
   "cell_type": "code",
   "execution_count": null,
   "id": "0b7180bb",
   "metadata": {},
   "outputs": [],
   "source": "Invoke-AtomicTest T1548.001 -TestNumbers 3"
  },
  {
   "cell_type": "markdown",
   "id": "4460613e",
   "metadata": {},
   "source": "#### Cleanup: \n```sh\nsudo rm /tmp/evilBinary\n```"
  },
  {
   "cell_type": "code",
   "execution_count": null,
   "id": "9d0ace5b",
   "metadata": {},
   "outputs": [],
   "source": "Invoke-AtomicTest T1548.001 -TestNumbers 3 -Cleanup"
  },
  {
   "cell_type": "markdown",
   "id": "ff9bc58b",
   "metadata": {},
   "source": [
    "### Atomic Test #4 - Make and modify capabilities of a binary",
    "Make and modify [capabilities](https://man7.org/linux/man-pages/man7/capabilities.7.html) of a C source code file.\nThe binary doesn't have to modify the UID, but the binary is given the capability to arbitrarily modify it at any time with `setuid(0)`.\nWithout being owned by root, the binary can set the UID to 0.\n",
    "**Supported Platforms:** linux",
    "\nElevation Required (e.g. root or admin)",
    "#### Attack Commands: Run with `sh`\n",
    "```sh\ncp PathToAtomicsFolder/T1548.001/src/cap.c /tmp/cap.c\nmake /tmp/cap\nsudo setcap cap_setuid=ep /tmp/cap\n/tmp/cap\n```"
   ]
  },
  {
   "cell_type": "code",
   "execution_count": null,
   "id": "6318997d",
   "metadata": {},
   "outputs": [],
   "source": "Invoke-AtomicTest T1548.001 -TestNumbers 4"
  },
  {
   "cell_type": "markdown",
   "id": "1186f281",
   "metadata": {},
   "source": "#### Cleanup: \n```sh\nrm /tmp/cap\nrm /tmp/cap.c\n```"
  },
  {
   "cell_type": "code",
   "execution_count": null,
   "id": "31cf2834",
   "metadata": {},
   "outputs": [],
   "source": "Invoke-AtomicTest T1548.001 -TestNumbers 4 -Cleanup"
  },
  {
   "cell_type": "markdown",
   "id": "139d77e4",
   "metadata": {},
   "source": [
    "### Atomic Test #5 - Provide the SetUID capability to a file",
    "This test gives a file the capability to set UID without using flags.\n",
    "**Supported Platforms:** linux",
    "\nElevation Required (e.g. root or admin)",
    "#### Attack Commands: Run with `sh`\n",
    "```sh\ntouch /tmp/evilBinary\nsudo setcap cap_setuid=ep /tmp/evilBinary\n```"
   ]
  },
  {
   "cell_type": "code",
   "execution_count": null,
   "id": "8d7c30bd",
   "metadata": {},
   "outputs": [],
   "source": "Invoke-AtomicTest T1548.001 -TestNumbers 5"
  },
  {
   "cell_type": "markdown",
   "id": "d6815731",
   "metadata": {},
   "source": "#### Cleanup: \n```sh\nrm /tmp/evilBinary\n```"
  },
  {
   "cell_type": "code",
   "execution_count": null,
   "id": "49adabee",
   "metadata": {},
   "outputs": [],
   "source": "Invoke-AtomicTest T1548.001 -TestNumbers 5 -Cleanup"
  },
  {
   "cell_type": "markdown",
   "id": "28e507a8",
   "metadata": {},
   "source": [
    "### Atomic Test #6 - Do reconnaissance for files that have the setuid bit set",
    "This test simulates a command that can be run to enumerate files that have the setuid bit set\n",
    "**Supported Platforms:** linux",
    "#### Attack Commands: Run with `sh`\n",
    "```sh\nfind /usr/bin -perm -4000\n```"
   ]
  },
  {
   "cell_type": "code",
   "execution_count": null,
   "id": "5c4849f2",
   "metadata": {},
   "outputs": [],
   "source": "Invoke-AtomicTest T1548.001 -TestNumbers 6"
  },
  {
   "cell_type": "markdown",
   "id": "c5b7eb1c",
   "metadata": {},
   "source": [
    "### Atomic Test #7 - Do reconnaissance for files that have the setgid bit set",
    "This test simulates a command that can be run to enumerate files that have the setgid bit set\n",
    "**Supported Platforms:** linux",
    "#### Attack Commands: Run with `sh`\n",
    "```sh\nfind /usr/bin -perm -2000\n```"
   ]
  },
  {
   "cell_type": "code",
   "execution_count": null,
   "id": "7d8109f5",
   "metadata": {},
   "outputs": [],
   "source": "Invoke-AtomicTest T1548.001 -TestNumbers 7"
  },
  {
   "cell_type": "markdown",
   "id": "128dbc3e",
   "metadata": {},
   "source": "## Detection\nMonitor the file system for files that have the setuid or setgid bits set. Monitor for execution of utilities, like chmod, and their command-line arguments to look for setuid or setguid bits being set."
  }
 ],
 "metadata": {
  "kernelspec": {
   "display_name": ".NET (PowerShell)",
   "language": "PowerShell",
   "name": ".net-powershell"
  },
  "language_info": {
   "file_extension": ".ps1",
   "mimetype": "text/x-powershell",
   "name": "PowerShell",
   "pygments_lexer": "powershell",
   "version": "7.0"
  }
 },
 "nbformat": 4,
 "nbformat_minor": 5
}