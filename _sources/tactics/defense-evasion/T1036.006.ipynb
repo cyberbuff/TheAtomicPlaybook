{
 "cells": [
  {
   "cell_type": "markdown",
   "id": "0365c23b",
   "metadata": {},
   "source": "# T1036.006 - Space after Filename\nAdversaries can hide a program's true filetype by changing the extension of a file. With certain file types (specifically this does not work with .app extensions), appending a space to the end of a filename will change how the file is processed by the operating system.\n\nFor example, if there is a Mach-O executable file called <code>evil.bin</code>, when it is double clicked by a user, it will launch Terminal.app and execute. If this file is renamed to <code>evil.txt</code>, then when double clicked by a user, it will launch with the default text editing application (not executing the binary). However, if the file is renamed to <code>evil.txt </code> (note the space at the end), then when double clicked by a user, the true file type is determined by the OS and handled appropriately and the binary will be executed (Citation: Mac Backdoors are back).\n\nAdversaries can use this feature to trick users into double clicking benign-looking files of any format and ultimately executing something malicious."
  },
  {
   "cell_type": "markdown",
   "id": "4ff60cb9",
   "metadata": {},
   "source": "## Atomic Tests"
  },
  {
   "cell_type": "markdown",
   "id": "2df3cb1a",
   "metadata": {},
   "source": [
    "### Atomic Test #1 - Space After Filename (Manual)",
    "Space After Filename\n",
    "**Supported Platforms:** macos",
    "Run it with these steps!",
    "1. echo '#!/bin/bash\\necho \"print \\\"hello, world!\\\"\" | /usr/bin/python\\nexit' > execute.txt && chmod +x execute.txt\n\n2. mv execute.txt \"execute.txt \"\n\n3. ./execute.txt\\ \n"
   ]
  },
  {
   "cell_type": "markdown",
   "id": "0d7d009e",
   "metadata": {},
   "source": [
    "### Atomic Test #2 - Space After Filename",
    "Space after filename.\n",
    "**Supported Platforms:** macos, linux",
    "#### Attack Commands: Run with `bash`\n",
    "```bash\nmkdir -p /tmp/atomic-test-T1036.006\ncd /tmp/atomic-test-T1036.006\nmkdir -p 'testdirwithspaceend '\n/usr/bin/echo -e \"%d\\na\\n#!/usr/bin/perl\\nprint \\\"running T1035.006 with space after filename to masquerade init\\\\n\\\";\\nqx/cp \\/usr\\/bin\\/perl 'init  '/;\\nqx/'.\\/init  ' -e 'sleep 5'/;\\n.\\nwq\\n\" | ed 'testdirwithspaceend /init ' >/dev/null\nchmod +x 'testdirwithspaceend /init '\n'./testdirwithspaceend /init '\n```"
   ]
  },
  {
   "cell_type": "code",
   "execution_count": null,
   "id": "4e2d5239",
   "metadata": {},
   "outputs": [],
   "source": "Invoke-AtomicTest T1036.006 -TestNumbers 2"
  },
  {
   "cell_type": "markdown",
   "id": "e6b1d974",
   "metadata": {},
   "source": "#### Cleanup: \n```bash\nrm -rf /tmp/atomic-test-T1036.006```"
  },
  {
   "cell_type": "code",
   "execution_count": null,
   "id": "733062dd",
   "metadata": {},
   "outputs": [],
   "source": "Invoke-AtomicTest T1036.006 -TestNumbers 2 -Cleanup"
  },
  {
   "cell_type": "markdown",
   "id": "5ebd16a6",
   "metadata": {},
   "source": "## Detection\nIt's not common for spaces to be at the end of filenames, so this is something that can easily be checked with file monitoring. From the user's perspective though, this is very hard to notice from within the Finder.app or on the command-line in Terminal.app. Processes executed from binaries containing non-standard extensions in the filename are suspicious."
  }
 ],
 "metadata": {
  "kernelspec": {
   "display_name": ".NET (PowerShell)",
   "language": "PowerShell",
   "name": ".net-powershell"
  },
  "language_info": {
   "file_extension": ".ps1",
   "mimetype": "text/x-powershell",
   "name": "PowerShell",
   "pygments_lexer": "powershell",
   "version": "7.0"
  }
 },
 "nbformat": 4,
 "nbformat_minor": 5
}