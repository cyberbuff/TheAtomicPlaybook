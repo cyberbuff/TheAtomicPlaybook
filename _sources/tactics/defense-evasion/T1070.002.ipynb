{
 "cells": [
  {
   "cell_type": "markdown",
   "id": "8645198b",
   "metadata": {},
   "source": "# T1070.002 - Clear Linux or Mac System Logs\nAdversaries may clear system logs to hide evidence of an intrusion. macOS and Linux both keep track of system or user-initiated actions via system logs. The majority of native system logging is stored under the <code>/var/log/</code> directory. Subfolders in this directory categorize logs by their related functions, such as:(Citation: Linux Logs)\n\n* <code>/var/log/messages:</code>: General and system-related messages\n* <code>/var/log/secure</code> or <code>/var/log/auth.log</code>: Authentication logs\n* <code>/var/log/utmp</code> or <code>/var/log/wtmp</code>: Login records\n* <code>/var/log/kern.log</code>: Kernel logs\n* <code>/var/log/cron.log</code>: Crond logs\n* <code>/var/log/maillog</code>: Mail server logs\n* <code>/var/log/httpd/</code>: Web server access and error logs\n"
  },
  {
   "cell_type": "markdown",
   "id": "126ce53f",
   "metadata": {},
   "source": "## Atomic Tests"
  },
  {
   "cell_type": "markdown",
   "id": "f0252b45",
   "metadata": {},
   "source": "### Atomic Test #1 - rm -rf\nDelete system and audit logs\n\n**Supported Platforms:** macos, linux\n\nElevation Required (e.g. root or admin)\n#### Dependencies:  Run with `sh`!\n##### Description: target files must exist\n\n##### Check Prereq Commands:\n```sh\nif [ -d /var/audit ] ; then stat /var/audit/20220725213300.202208110700021 ; fi && stat /var/log/system.log\n\n```\n##### Get Prereq Commands:\n```sh\ntouch /var/log/system.log\nif [ -d /var/audit ] ; then touch /var/audit/20220725213300.202208110700021 ; fi\n\n```"
  },
  {
   "cell_type": "code",
   "execution_count": null,
   "id": "1da101e5",
   "metadata": {},
   "outputs": [],
   "source": "Invoke-AtomicTest T1070.002 -TestNumbers 1 -GetPreReqs"
  },
  {
   "cell_type": "markdown",
   "id": "3f5c43f3",
   "metadata": {},
   "source": [
    "#### Attack Commands: Run with `sh`\n",
    "```sh\nsudo rm -rf /var/log/system.log\nif [ -d /var/audit ] ; then sudo rm -rf /var/audit/20220725213300.202208110700021 ; fi\n```"
   ]
  },
  {
   "cell_type": "code",
   "execution_count": null,
   "id": "b8303a82",
   "metadata": {},
   "outputs": [],
   "source": "Invoke-AtomicTest T1070.002 -TestNumbers 1"
  },
  {
   "cell_type": "markdown",
   "id": "19f9e83a",
   "metadata": {},
   "source": [
    "### Atomic Test #2 - rm -rf",
    "Delete messages and security logs\n",
    "**Supported Platforms:** linux",
    "\nElevation Required (e.g. root or admin)",
    "#### Attack Commands: Run with `sh`\n",
    "```sh\nrm -rf /var/log/messages\nrm -rf /var/log/security\n```"
   ]
  },
  {
   "cell_type": "code",
   "execution_count": null,
   "id": "147b1898",
   "metadata": {},
   "outputs": [],
   "source": "Invoke-AtomicTest T1070.002 -TestNumbers 2"
  },
  {
   "cell_type": "markdown",
   "id": "76d15f32",
   "metadata": {},
   "source": [
    "### Atomic Test #3 - Delete log files using built-in log utility",
    "This test deletes main log datastore, inflight log data, time-to-live data(TTL), fault and error content\n",
    "**Supported Platforms:** macos",
    "\nElevation Required (e.g. root or admin)",
    "#### Attack Commands: Run with `sh`\n",
    "```sh\nsudo log erase --all\nsudo log erase --ttl #Deletes only time-to-live log content\n```"
   ]
  },
  {
   "cell_type": "code",
   "execution_count": null,
   "id": "faa15009",
   "metadata": {},
   "outputs": [],
   "source": "Invoke-AtomicTest T1070.002 -TestNumbers 3"
  },
  {
   "cell_type": "markdown",
   "id": "3abeb706",
   "metadata": {},
   "source": "### Atomic Test #4 - Truncate system log files via truncate utility\nThis test truncates the system log files using the truncate utility with (-s 0 or --size=0) parameter which sets file size to zero, thus emptying the file content\n\n**Supported Platforms:** macos\n\nElevation Required (e.g. root or admin)\n#### Dependencies:  Run with `sh`!\n##### Description: target files must exist\n\n##### Check Prereq Commands:\n```sh\nstat /var/log/system.log\n\n```\n##### Get Prereq Commands:\n```sh\ntouch /var/log/system.log\n\n```"
  },
  {
   "cell_type": "code",
   "execution_count": null,
   "id": "16524dd6",
   "metadata": {},
   "outputs": [],
   "source": "Invoke-AtomicTest T1070.002 -TestNumbers 4 -GetPreReqs"
  },
  {
   "cell_type": "markdown",
   "id": "e0015265",
   "metadata": {},
   "source": [
    "#### Attack Commands: Run with `sh`\n",
    "```sh\nsudo truncate -s 0 /var/log/system.log #size parameter shorthand\nsudo truncate --size=0 /var/log/system.log #size parameter \n```"
   ]
  },
  {
   "cell_type": "code",
   "execution_count": null,
   "id": "4eeb56d3",
   "metadata": {},
   "outputs": [],
   "source": "Invoke-AtomicTest T1070.002 -TestNumbers 4"
  },
  {
   "cell_type": "markdown",
   "id": "3e256c15",
   "metadata": {},
   "source": [
    "### Atomic Test #5 - Truncate system log files via truncate utility (freebsd)",
    "This test truncates the system log files using the truncate utility with (-s 0 or --size=0) parameter which sets file size to zero, thus emptying the file content\n",
    "**Supported Platforms:** linux",
    "\nElevation Required (e.g. root or admin)",
    "#### Attack Commands: Run with `sh`\n",
    "```sh\ntruncate -s 0 /var/log/messages #size parameter shorthand\ntruncate --size=0 /var/log/security #size parameter \n```"
   ]
  },
  {
   "cell_type": "code",
   "execution_count": null,
   "id": "6e4b5f45",
   "metadata": {},
   "outputs": [],
   "source": "Invoke-AtomicTest T1070.002 -TestNumbers 5"
  },
  {
   "cell_type": "markdown",
   "id": "4402bff2",
   "metadata": {},
   "source": "### Atomic Test #6 - Delete log files via cat utility by appending /dev/null or /dev/zero\nThe first sub-test truncates the log file to zero bytes via /dev/null and the second sub-test fills the log file with null bytes(zeroes) via /dev/zero, using cat utility\n\n**Supported Platforms:** macos\n\nElevation Required (e.g. root or admin)\n#### Dependencies:  Run with `sh`!\n##### Description: target files must exist\n\n##### Check Prereq Commands:\n```sh\nstat /var/log/system.log\n\n```\n##### Get Prereq Commands:\n```sh\ntouch /var/log/system.log\n\n```"
  },
  {
   "cell_type": "code",
   "execution_count": null,
   "id": "d34b98ea",
   "metadata": {},
   "outputs": [],
   "source": "Invoke-AtomicTest T1070.002 -TestNumbers 6 -GetPreReqs"
  },
  {
   "cell_type": "markdown",
   "id": "b02fd4dd",
   "metadata": {},
   "source": [
    "#### Attack Commands: Run with `sh`\n",
    "```sh\nsudo cat /dev/null > /var/log/system.log #truncating the file to zero bytes\nsudo dd if=/dev/zero bs=1000 count=5 of=/var/log/system.log #log file filled with null bytes(zeros)\n```"
   ]
  },
  {
   "cell_type": "code",
   "execution_count": null,
   "id": "a0551a9e",
   "metadata": {},
   "outputs": [],
   "source": "Invoke-AtomicTest T1070.002 -TestNumbers 6"
  },
  {
   "cell_type": "markdown",
   "id": "80ed26c3",
   "metadata": {},
   "source": [
    "### Atomic Test #7 - Delete log files via cat utility by appending /dev/null or /dev/zero (freebsd)",
    "The first sub-test truncates the log file to zero bytes via /dev/null and the second sub-test fills the log file with null bytes(zeroes) via /dev/zero, using cat utility\n",
    "**Supported Platforms:** linux",
    "\nElevation Required (e.g. root or admin)",
    "#### Attack Commands: Run with `sh`\n",
    "```sh\ncat /dev/null > /var/log/messages #truncating the file to zero bytes\ncat /dev/zero > /var/lol/messages #log file filled with null bytes(zeros)\n```"
   ]
  },
  {
   "cell_type": "code",
   "execution_count": null,
   "id": "cc0fa6bf",
   "metadata": {},
   "outputs": [],
   "source": "Invoke-AtomicTest T1070.002 -TestNumbers 7"
  },
  {
   "cell_type": "markdown",
   "id": "9eab2339",
   "metadata": {},
   "source": "### Atomic Test #8 - System log file deletion via find utility\nThis test finds and deletes the system log files within /var/log/ directory using various executions(rm, shred, unlink)\n\n**Supported Platforms:** macos\n\nElevation Required (e.g. root or admin)\n#### Dependencies:  Run with `sh`!\n##### Description: target files must exist\n\n##### Check Prereq Commands:\n```sh\nstat /var/log/system.log /var/log/system.log.97.gz /var/log/system.log.98.gz\n\n```\n##### Get Prereq Commands:\n```sh\ntouch /var/log/system.log /var/log/system.log.97.gz /var/log/system.log.98.gz\n\n```"
  },
  {
   "cell_type": "code",
   "execution_count": null,
   "id": "0b7e5d42",
   "metadata": {},
   "outputs": [],
   "source": "Invoke-AtomicTest T1070.002 -TestNumbers 8 -GetPreReqs"
  },
  {
   "cell_type": "markdown",
   "id": "97814bf3",
   "metadata": {},
   "source": [
    "#### Attack Commands: Run with `sh`\n",
    "```sh\nsudo find /var/log -name 'system.log.*' -exec rm {} \\; #using \"rm\" execution\nsudo find /var/log/ -name \"system.log.97.gz.*\" -exec shred -u -z -n 3 {} \\; #using \"shred\" execution\nsudo find /var/log/ -name \"system.log.98.gz.*\" -exec unlink {} \\; #using \"unlink\" execution\n```"
   ]
  },
  {
   "cell_type": "code",
   "execution_count": null,
   "id": "c0be1dc8",
   "metadata": {},
   "outputs": [],
   "source": "Invoke-AtomicTest T1070.002 -TestNumbers 8"
  },
  {
   "cell_type": "markdown",
   "id": "a61058e8",
   "metadata": {},
   "source": [
    "### Atomic Test #9 - Overwrite macOS system log via echo utility",
    "This test overwrites the contents of system log file with an empty string using echo utility\n",
    "**Supported Platforms:** macos",
    "\nElevation Required (e.g. root or admin)",
    "#### Attack Commands: Run with `sh`\n",
    "```sh\nsudo echo '' > /var/log/system.log\n```"
   ]
  },
  {
   "cell_type": "code",
   "execution_count": null,
   "id": "d5147d2f",
   "metadata": {},
   "outputs": [],
   "source": "Invoke-AtomicTest T1070.002 -TestNumbers 9"
  },
  {
   "cell_type": "markdown",
   "id": "5b5a1e7a",
   "metadata": {},
   "source": [
    "### Atomic Test #10 - Overwrite FreeBSD system log via echo utility",
    "This test overwrites the contents of system log file with an empty string using echo utility\n",
    "**Supported Platforms:** linux",
    "\nElevation Required (e.g. root or admin)",
    "#### Attack Commands: Run with `sh`\n",
    "```sh\necho '' > /var/log/messages\n```"
   ]
  },
  {
   "cell_type": "code",
   "execution_count": null,
   "id": "86128f8c",
   "metadata": {},
   "outputs": [],
   "source": "Invoke-AtomicTest T1070.002 -TestNumbers 10"
  },
  {
   "cell_type": "markdown",
   "id": "47dd2883",
   "metadata": {},
   "source": [
    "### Atomic Test #11 - Real-time system log clearance/deletion",
    "This test reads real-time system log file and writes empty string to it, thus clearing the log file without tampering with the logging process\n",
    "**Supported Platforms:** macos",
    "\nElevation Required (e.g. root or admin)",
    "#### Attack Commands: Run with `sh`\n",
    "```sh\nsudo log -f /var/log/system.log | : > /var/log/system.log\n```"
   ]
  },
  {
   "cell_type": "code",
   "execution_count": null,
   "id": "9cf3066b",
   "metadata": {},
   "outputs": [],
   "source": "Invoke-AtomicTest T1070.002 -TestNumbers 11"
  },
  {
   "cell_type": "markdown",
   "id": "c6505937",
   "metadata": {},
   "source": "### Atomic Test #12 - Delete system log files via unlink utility\nThis test deletes the system log file using unlink utility\n\n**Supported Platforms:** macos\n\nElevation Required (e.g. root or admin)\n#### Dependencies:  Run with `sh`!\n##### Description: target files must exist\n\n##### Check Prereq Commands:\n```sh\nstat /var/log/system.log\n\n```\n##### Get Prereq Commands:\n```sh\ntouch /var/log/system.log\n\n```"
  },
  {
   "cell_type": "code",
   "execution_count": null,
   "id": "89ad3f0b",
   "metadata": {},
   "outputs": [],
   "source": "Invoke-AtomicTest T1070.002 -TestNumbers 12 -GetPreReqs"
  },
  {
   "cell_type": "markdown",
   "id": "75fb476b",
   "metadata": {},
   "source": [
    "#### Attack Commands: Run with `sh`\n",
    "```sh\nsudo unlink /var/log/system.log\n```"
   ]
  },
  {
   "cell_type": "code",
   "execution_count": null,
   "id": "d6c1fd28",
   "metadata": {},
   "outputs": [],
   "source": "Invoke-AtomicTest T1070.002 -TestNumbers 12"
  },
  {
   "cell_type": "markdown",
   "id": "ab565ee5",
   "metadata": {},
   "source": [
    "### Atomic Test #13 - Delete system log files via unlink utility (freebsd)",
    "This test deletes the messages log file using unlink utility\n",
    "**Supported Platforms:** linux",
    "\nElevation Required (e.g. root or admin)",
    "#### Attack Commands: Run with `sh`\n",
    "```sh\nunlink /var/log/messages\n```"
   ]
  },
  {
   "cell_type": "code",
   "execution_count": null,
   "id": "21a8e987",
   "metadata": {},
   "outputs": [],
   "source": "Invoke-AtomicTest T1070.002 -TestNumbers 13"
  },
  {
   "cell_type": "markdown",
   "id": "a30a90b2",
   "metadata": {},
   "source": "### Atomic Test #14 - Delete system log files using shred utility\nThis test overwrites the contents of the log file with zero bytes(-z) using three passes(-n 3) of data, and then delete the file(-u) securely\n\n**Supported Platforms:** macos\n\nElevation Required (e.g. root or admin)\n#### Dependencies:  Run with `sh`!\n##### Description: target files must exist\n\n##### Check Prereq Commands:\n```sh\nstat /var/log/system.log\n\n```\n##### Get Prereq Commands:\n```sh\ntouch /var/log/system.log\n\n```"
  },
  {
   "cell_type": "code",
   "execution_count": null,
   "id": "f92d2681",
   "metadata": {},
   "outputs": [],
   "source": "Invoke-AtomicTest T1070.002 -TestNumbers 14 -GetPreReqs"
  },
  {
   "cell_type": "markdown",
   "id": "7c513660",
   "metadata": {},
   "source": [
    "#### Attack Commands: Run with `sh`\n",
    "```sh\nsudo shred -u -z -n 3 /var/log/system.log\n```"
   ]
  },
  {
   "cell_type": "code",
   "execution_count": null,
   "id": "0d6c40d0",
   "metadata": {},
   "outputs": [],
   "source": "Invoke-AtomicTest T1070.002 -TestNumbers 14"
  },
  {
   "cell_type": "markdown",
   "id": "f0690d00",
   "metadata": {},
   "source": "### Atomic Test #15 - Delete system log files using srm utility\nThis test securely deletes the system log files individually and recursively using the srm utility.\nInstall srm using Homebrew with the command: brew install khell/homebrew-srm/srm\nRefer: https://github.com/khell/homebrew-srm/issues/1 for installation\n\n**Supported Platforms:** macos\n\nElevation Required (e.g. root or admin)\n#### Dependencies:  Run with `sh`!\n##### Description: target files must exist\n\n##### Check Prereq Commands:\n```sh\nstat /var/log/system.log /var/log/\n\n```\n##### Get Prereq Commands:\n```sh\nmkdir -p /var/log/ && touch /var/log/system.log /var/log//system.log\n\n```"
  },
  {
   "cell_type": "code",
   "execution_count": null,
   "id": "a3b4e800",
   "metadata": {},
   "outputs": [],
   "source": "Invoke-AtomicTest T1070.002 -TestNumbers 15 -GetPreReqs"
  },
  {
   "cell_type": "markdown",
   "id": "893f0c13",
   "metadata": {},
   "source": [
    "#### Attack Commands: Run with `sh`\n",
    "```sh\nsudo srm /var/log/system.log #system log file deletion\nsudo srm -r /var/log/ #recursive deletion of log files\n```"
   ]
  },
  {
   "cell_type": "code",
   "execution_count": null,
   "id": "9657a424",
   "metadata": {},
   "outputs": [],
   "source": "Invoke-AtomicTest T1070.002 -TestNumbers 15"
  },
  {
   "cell_type": "markdown",
   "id": "f98d2d6b",
   "metadata": {},
   "source": "### Atomic Test #16 - Delete system log files using OSAScript\nThis test deletes the system log file using osascript via \"do shell script\"(sh/bash by default) which in-turn spawns rm utility, requires admin privileges\n\n**Supported Platforms:** macos\n\nElevation Required (e.g. root or admin)\n#### Dependencies:  Run with `sh`!\n##### Description: target files must exist\n\n##### Check Prereq Commands:\n```sh\nstat /var/log/system.log\n\n```\n##### Get Prereq Commands:\n```sh\ntouch /var/log/system.log\n\n```"
  },
  {
   "cell_type": "code",
   "execution_count": null,
   "id": "f64d9645",
   "metadata": {},
   "outputs": [],
   "source": "Invoke-AtomicTest T1070.002 -TestNumbers 16 -GetPreReqs"
  },
  {
   "cell_type": "markdown",
   "id": "9c5c049d",
   "metadata": {},
   "source": [
    "#### Attack Commands: Run with `sh`\n",
    "```sh\nosascript -e 'do shell script \"rm /var/log/system.log\" with administrator privileges'\n```"
   ]
  },
  {
   "cell_type": "code",
   "execution_count": null,
   "id": "1eda04e9",
   "metadata": {},
   "outputs": [],
   "source": "Invoke-AtomicTest T1070.002 -TestNumbers 16"
  },
  {
   "cell_type": "markdown",
   "id": "fd3dac4f",
   "metadata": {},
   "source": "### Atomic Test #17 - Delete system log files using Applescript\nThis test deletes the system log file using applescript using osascript via Finder application\nNote: The user may be prompted to grant access to the Finder application before the command can be executed successfully as part of TCC(Transparency, Consent, and Control) Framework.\nRefer: https://www.rainforestqa.com/blog/macos-tcc-db-deep-dive\n\n**Supported Platforms:** macos\n\nElevation Required (e.g. root or admin)\n#### Dependencies:  Run with `sh`!\n##### Description: target files must exist\n\n##### Check Prereq Commands:\n```sh\nstat /var/log/system.log\n\n```\n##### Get Prereq Commands:\n```sh\ntouch /var/log/system.log\n\n```"
  },
  {
   "cell_type": "code",
   "execution_count": null,
   "id": "a241faff",
   "metadata": {},
   "outputs": [],
   "source": "Invoke-AtomicTest T1070.002 -TestNumbers 17 -GetPreReqs"
  },
  {
   "cell_type": "markdown",
   "id": "3d8db327",
   "metadata": {},
   "source": [
    "#### Attack Commands: Run with `sh`\n",
    "```sh\nosascript -e 'tell application \"Finder\" to delete POSIX file \"/var/log/system.log\"'\n```"
   ]
  },
  {
   "cell_type": "code",
   "execution_count": null,
   "id": "c4fdf052",
   "metadata": {},
   "outputs": [],
   "source": "Invoke-AtomicTest T1070.002 -TestNumbers 17"
  },
  {
   "cell_type": "markdown",
   "id": "601c89c1",
   "metadata": {},
   "source": "### Atomic Test #18 - Delete system journal logs via rm and journalctl utilities\nThe first sub-test deletes the journal files using rm utility in the \"/var/log/journal/\" directory and the second sub-test clears the journal by modifiying time period of logs that should be retained to zero.\n\n**Supported Platforms:** linux\n\nElevation Required (e.g. root or admin)\n#### Dependencies:  Run with `sh`!\n##### Description: target files must exist\n\n##### Check Prereq Commands:\n```sh\nstat /var/log/journal\n\n```\n##### Get Prereq Commands:\n```sh\nmkdir -p /var/log/journal && touch /var/log/journal/T1070_002.journal\n\n```"
  },
  {
   "cell_type": "code",
   "execution_count": null,
   "id": "5cfbfc3a",
   "metadata": {},
   "outputs": [],
   "source": "Invoke-AtomicTest T1070.002 -TestNumbers 18 -GetPreReqs"
  },
  {
   "cell_type": "markdown",
   "id": "a50722ce",
   "metadata": {},
   "source": [
    "#### Attack Commands: Run with `sh`\n",
    "```sh\nsudo rm /var/log/journal/* #physically deletes the journal files, and not just their content\nsudo journalctl --vacuum-time=0 #clears the journal while still keeping the journal files in place\n```"
   ]
  },
  {
   "cell_type": "code",
   "execution_count": null,
   "id": "2b027d25",
   "metadata": {},
   "outputs": [],
   "source": "Invoke-AtomicTest T1070.002 -TestNumbers 18"
  },
  {
   "cell_type": "markdown",
   "id": "d5da10e2",
   "metadata": {},
   "source": "### Atomic Test #19 - Overwrite Linux Mail Spool\nThis test overwrites the Linux mail spool of a specified user. This technique was used by threat actor Rocke during the exploitation of Linux web servers.\n\n**Supported Platforms:** linux\n\nElevation Required (e.g. root or admin)\n#### Dependencies:  Run with `sh`!\n##### Description: target files must exist\n\n##### Check Prereq Commands:\n```bash\nstat /var/spool/mail/root\n\n```\n##### Get Prereq Commands:\n```bash\ntouch /var/spool/mail/root\n\n```"
  },
  {
   "cell_type": "code",
   "execution_count": null,
   "id": "877c23b3",
   "metadata": {},
   "outputs": [],
   "source": "Invoke-AtomicTest T1070.002 -TestNumbers 19 -GetPreReqs"
  },
  {
   "cell_type": "markdown",
   "id": "14081f9f",
   "metadata": {},
   "source": [
    "#### Attack Commands: Run with `bash`\n",
    "```bash\necho 0> /var/spool/mail/root\n```"
   ]
  },
  {
   "cell_type": "code",
   "execution_count": null,
   "id": "1b3d1e29",
   "metadata": {},
   "outputs": [],
   "source": "Invoke-AtomicTest T1070.002 -TestNumbers 19"
  },
  {
   "cell_type": "markdown",
   "id": "08ffa092",
   "metadata": {},
   "source": [
    "### Atomic Test #20 - Overwrite Linux Log",
    "This test overwrites the specified log. This technique was used by threat actor Rocke during the exploitation of Linux web servers.\n",
    "**Supported Platforms:** linux",
    "\nElevation Required (e.g. root or admin)",
    "#### Attack Commands: Run with `bash`\n",
    "```bash\necho 0> /var/log/secure\n```"
   ]
  },
  {
   "cell_type": "code",
   "execution_count": null,
   "id": "803336d1",
   "metadata": {},
   "outputs": [],
   "source": "Invoke-AtomicTest T1070.002 -TestNumbers 20"
  },
  {
   "cell_type": "markdown",
   "id": "234583d9",
   "metadata": {},
   "source": "#### Cleanup: \n```bash\nif [ \"/var/log/secure\" != \"/var/log/secure\" ] ; then rm -f /var/log/secure ; fi\n```"
  },
  {
   "cell_type": "code",
   "execution_count": null,
   "id": "89d76cf6",
   "metadata": {},
   "outputs": [],
   "source": "Invoke-AtomicTest T1070.002 -TestNumbers 20 -Cleanup"
  },
  {
   "cell_type": "markdown",
   "id": "7c8e9b54",
   "metadata": {},
   "source": "## Detection\nFile system monitoring may be used to detect improper deletion or modification of indicator files. Also monitor for suspicious processes interacting with log files."
  }
 ],
 "metadata": {
  "kernelspec": {
   "display_name": ".NET (PowerShell)",
   "language": "pwsh",
   "name": ".net-powershell"
  },
  "language_info": {
   "file_extension": ".ps1",
   "mimetype": "text/x-powershell",
   "name": "pwsh",
   "pygments_lexer": "powershell",
   "version": "7.0"
  }
 },
 "nbformat": 4,
 "nbformat_minor": 5
}