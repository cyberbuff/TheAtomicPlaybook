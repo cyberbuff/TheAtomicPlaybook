{
 "cells": [
  {
   "cell_type": "markdown",
   "id": "dcb7c830",
   "metadata": {},
   "source": "# T1562.004 - Disable or Modify System Firewall\nAdversaries may disable or modify system firewalls in order to bypass controls limiting network usage. Changes could be disabling the entire mechanism as well as adding, deleting, or modifying particular rules. This can be done numerous ways depending on the operating system, including via command-line, editing Windows Registry keys, and Windows Control Panel.\n\nModifying or disabling a system firewall may enable adversary C2 communications, lateral movement, and/or data exfiltration that would otherwise not be allowed. For example, adversaries may add a new firewall rule for a well-known protocol (such as RDP) using a non-traditional and potentially less securitized port (i.e. [Non-Standard Port](https://attack.mitre.org/techniques/T1571)).(Citation: change_rdp_port_conti)"
  },
  {
   "cell_type": "markdown",
   "id": "365c6137",
   "metadata": {},
   "source": "## Atomic Tests"
  },
  {
   "cell_type": "markdown",
   "id": "0959d354",
   "metadata": {},
   "source": [
    "### Atomic Test #1 - Disable Microsoft Defender Firewall",
    "Disables the Microsoft Defender Firewall for the current profile.\nCaution if you access remotely the host where the test runs! Especially with the cleanup command which will re-enable firewall for the current profile...\n",
    "**Supported Platforms:** windows",
    "#### Attack Commands: Run with `command_prompt`\n",
    "```command_prompt\nnetsh advfirewall set currentprofile state off\n```"
   ]
  },
  {
   "cell_type": "code",
   "execution_count": null,
   "id": "8108657c",
   "metadata": {},
   "outputs": [],
   "source": "Invoke-AtomicTest T1562.004 -TestNumbers 1"
  },
  {
   "cell_type": "markdown",
   "id": "ef29c82f",
   "metadata": {},
   "source": "#### Cleanup: \n```cmd\nnetsh advfirewall set currentprofile state on >nul 2>&1\n```"
  },
  {
   "cell_type": "code",
   "execution_count": null,
   "id": "b2c6d8ed",
   "metadata": {},
   "outputs": [],
   "source": "Invoke-AtomicTest T1562.004 -TestNumbers 1 -Cleanup"
  },
  {
   "cell_type": "markdown",
   "id": "e5166ffc",
   "metadata": {},
   "source": [
    "### Atomic Test #2 - Disable Microsoft Defender Firewall via Registry",
    "Disables the Microsoft Defender Firewall for the public profile via registry\nCaution if you access remotely the host where the test runs! Especially with the cleanup command which will re-enable firewall for the current profile...\n",
    "**Supported Platforms:** windows",
    "#### Attack Commands: Run with `command_prompt`\n",
    "```command_prompt\nreg add \"HKEY_LOCAL_MACHINE\\SYSTEM\\CurrentControlSet\\Services\\SharedAccess\\Parameters\\FirewallPolicy\\PublicProfile\" /v \"EnableFirewall\" /t REG_DWORD /d 0 /f\n```"
   ]
  },
  {
   "cell_type": "code",
   "execution_count": null,
   "id": "a01e8076",
   "metadata": {},
   "outputs": [],
   "source": "Invoke-AtomicTest T1562.004 -TestNumbers 2"
  },
  {
   "cell_type": "markdown",
   "id": "1bdfc7bb",
   "metadata": {},
   "source": "#### Cleanup: \n```cmd\nreg add \"HKEY_LOCAL_MACHINE\\SYSTEM\\CurrentControlSet\\Services\\SharedAccess\\Parameters\\FirewallPolicy\\PublicProfile\" /v \"EnableFirewall\" /t REG_DWORD /d 1 /f\n```"
  },
  {
   "cell_type": "code",
   "execution_count": null,
   "id": "f5a9a6c8",
   "metadata": {},
   "outputs": [],
   "source": "Invoke-AtomicTest T1562.004 -TestNumbers 2 -Cleanup"
  },
  {
   "cell_type": "markdown",
   "id": "24c22505",
   "metadata": {},
   "source": [
    "### Atomic Test #3 - Allow SMB and RDP on Microsoft Defender Firewall",
    "Allow all SMB and RDP rules on the Microsoft Defender Firewall for all profiles.\nCaution if you access remotely the host where the test runs! Especially with the cleanup command which will reset the firewall and risk disabling those services...\n",
    "**Supported Platforms:** windows",
    "#### Attack Commands: Run with `command_prompt`\n",
    "```command_prompt\nnetsh advfirewall firewall set rule group=\"remote desktop\" new enable=Yes\nnetsh advfirewall firewall set rule group=\"file and printer sharing\" new enable=Yes\n```"
   ]
  },
  {
   "cell_type": "code",
   "execution_count": null,
   "id": "4700798e",
   "metadata": {},
   "outputs": [],
   "source": "Invoke-AtomicTest T1562.004 -TestNumbers 3"
  },
  {
   "cell_type": "markdown",
   "id": "0839387e",
   "metadata": {},
   "source": "#### Cleanup: \n```cmd\nnetsh advfirewall reset >nul 2>&1\n```"
  },
  {
   "cell_type": "code",
   "execution_count": null,
   "id": "8e320474",
   "metadata": {},
   "outputs": [],
   "source": "Invoke-AtomicTest T1562.004 -TestNumbers 3 -Cleanup"
  },
  {
   "cell_type": "markdown",
   "id": "bfdbb4c8",
   "metadata": {},
   "source": [
    "### Atomic Test #4 - Opening ports for proxy - HARDRAIN",
    "This test creates a listening interface on a victim device. This tactic was used by HARDRAIN for proxying.\n\nreference: https://www.us-cert.gov/sites/default/files/publications/MAR-10135536-F.pdf\n",
    "**Supported Platforms:** windows",
    "\nElevation Required (e.g. root or admin)",
    "#### Attack Commands: Run with `command_prompt`\n",
    "```command_prompt\nnetsh advfirewall firewall add rule name=\"atomic testing\" action=allow dir=in protocol=TCP localport=450 \n```"
   ]
  },
  {
   "cell_type": "code",
   "execution_count": null,
   "id": "593b597e",
   "metadata": {},
   "outputs": [],
   "source": "Invoke-AtomicTest T1562.004 -TestNumbers 4"
  },
  {
   "cell_type": "markdown",
   "id": "a5e54363",
   "metadata": {},
   "source": "#### Cleanup: \n```cmd\nnetsh advfirewall firewall delete rule name=\"atomic testing\" protocol=TCP localport=450 >nul 2>&1```"
  },
  {
   "cell_type": "code",
   "execution_count": null,
   "id": "9eee81e3",
   "metadata": {},
   "outputs": [],
   "source": "Invoke-AtomicTest T1562.004 -TestNumbers 4 -Cleanup"
  },
  {
   "cell_type": "markdown",
   "id": "01a78280",
   "metadata": {},
   "source": [
    "### Atomic Test #5 - Open a local port through Windows Firewall to any profile",
    "This test will attempt to open a local port defined by input arguments to any profile",
    "**Supported Platforms:** windows",
    "\nElevation Required (e.g. root or admin)",
    "#### Attack Commands: Run with `powershell`\n",
    "```powershell\nnetsh advfirewall firewall add rule name=\"Open Port to Any\" dir=in protocol=tcp localport=3389 action=allow profile=any```"
   ]
  },
  {
   "cell_type": "code",
   "execution_count": null,
   "id": "0d7fa3a2",
   "metadata": {},
   "outputs": [],
   "source": "Invoke-AtomicTest T1562.004 -TestNumbers 5"
  },
  {
   "cell_type": "markdown",
   "id": "662c7ff2",
   "metadata": {},
   "source": "#### Cleanup: \n```powershell\nnetsh advfirewall firewall delete rule name=\"Open Port to Any\" | Out-Null```"
  },
  {
   "cell_type": "code",
   "execution_count": null,
   "id": "30b67fb6",
   "metadata": {},
   "outputs": [],
   "source": "Invoke-AtomicTest T1562.004 -TestNumbers 5 -Cleanup"
  },
  {
   "cell_type": "markdown",
   "id": "48573fa2",
   "metadata": {},
   "source": [
    "### Atomic Test #6 - Allow Executable Through Firewall Located in Non-Standard Location",
    "This test will attempt to allow an executable through the system firewall located in the Users directory",
    "**Supported Platforms:** windows",
    "\nElevation Required (e.g. root or admin)",
    "#### Attack Commands: Run with `powershell`\n",
    "```powershell\nCopy-Item \"PathToAtomicsFolder\\T1562.004\\bin\\AtomicTest.exe\" -Destination \"C:\\Users\\$env:UserName\" -Force\nnetsh advfirewall firewall add rule name=\"Atomic Test\" dir=in action=allow program=\"C:\\Users\\$env:UserName\\AtomicTest.exe\" enable=yes\n```"
   ]
  },
  {
   "cell_type": "code",
   "execution_count": null,
   "id": "da49bfed",
   "metadata": {},
   "outputs": [],
   "source": "Invoke-AtomicTest T1562.004 -TestNumbers 6"
  },
  {
   "cell_type": "markdown",
   "id": "7c83055f",
   "metadata": {},
   "source": "#### Cleanup: \n```powershell\nnetsh advfirewall firewall delete rule name=\"Atomic Test\" | Out-Null\nRemove-Item C:\\Users\\$env:UserName\\AtomicTest.exe -ErrorAction Ignore\n```"
  },
  {
   "cell_type": "code",
   "execution_count": null,
   "id": "3b486d98",
   "metadata": {},
   "outputs": [],
   "source": "Invoke-AtomicTest T1562.004 -TestNumbers 6 -Cleanup"
  },
  {
   "cell_type": "markdown",
   "id": "d6b02204",
   "metadata": {},
   "source": "### Atomic Test #7 - Stop/Start UFW firewall\nStop the Uncomplicated Firewall (UFW) if installed.\n\n**Supported Platforms:** linux\n\nElevation Required (e.g. root or admin)\n#### Dependencies:  Run with `sh`!\n##### Description: Check if ufw is installed on the machine.\n\n##### Check Prereq Commands:\n```sh\nif [ ! -x \"$(command -v ufw)\" ]; then echo -e \"\\n***** ufw NOT installed *****\\n\"; exit 1; fi\nif echo \"$(ufw status)\" |grep -q \"inactive\"; then echo -e \"\\n***** ufw inactive *****\\n\"; exit 1; fi \n\n```\n##### Get Prereq Commands:\n```sh\necho \"\"\n\n```"
  },
  {
   "cell_type": "code",
   "execution_count": null,
   "id": "35fd08d4",
   "metadata": {},
   "outputs": [],
   "source": "Invoke-AtomicTest T1562.004 -TestNumbers 7 -GetPreReqs"
  },
  {
   "cell_type": "markdown",
   "id": "49d6b25b",
   "metadata": {},
   "source": [
    "#### Attack Commands: Run with `sh`\n",
    "```sh\nufw disable\n```"
   ]
  },
  {
   "cell_type": "code",
   "execution_count": null,
   "id": "6fa6ada4",
   "metadata": {},
   "outputs": [],
   "source": "Invoke-AtomicTest T1562.004 -TestNumbers 7"
  },
  {
   "cell_type": "markdown",
   "id": "0a649770",
   "metadata": {},
   "source": "#### Cleanup: \n```sh\nufw enable\nufw status verbose\n```"
  },
  {
   "cell_type": "code",
   "execution_count": null,
   "id": "d88f94e9",
   "metadata": {},
   "outputs": [],
   "source": "Invoke-AtomicTest T1562.004 -TestNumbers 7 -Cleanup"
  },
  {
   "cell_type": "markdown",
   "id": "815a56b7",
   "metadata": {},
   "source": "### Atomic Test #8 - Stop/Start Packet Filter\nStop the Packet Filter if installed.\n\n**Supported Platforms:** linux\n\nElevation Required (e.g. root or admin)\n#### Dependencies:  Run with `sh`!\n##### Description: Check if pfctl is installed on the machine.\n\n##### Check Prereq Commands:\n```sh\nif [ ! -x \"$(command -v pfctl)\" ]; then echo -e \"\\n***** PF NOT installed *****\\n\"; exit 1; fi\nif [ \"$(kldstat -n pf)\" = \"\" ]; then echo -e \"\\n***** PF inactive *****\\n\"; exit 1; fi \n\n```\n##### Get Prereq Commands:\n```sh\necho \"\"\n\n```"
  },
  {
   "cell_type": "code",
   "execution_count": null,
   "id": "5d24ba8b",
   "metadata": {},
   "outputs": [],
   "source": "Invoke-AtomicTest T1562.004 -TestNumbers 8 -GetPreReqs"
  },
  {
   "cell_type": "markdown",
   "id": "d6d34612",
   "metadata": {},
   "source": [
    "#### Attack Commands: Run with `sh`\n",
    "```sh\nservice pf stop\nservice pf disable\n```"
   ]
  },
  {
   "cell_type": "code",
   "execution_count": null,
   "id": "58459e75",
   "metadata": {},
   "outputs": [],
   "source": "Invoke-AtomicTest T1562.004 -TestNumbers 8"
  },
  {
   "cell_type": "markdown",
   "id": "6da65724",
   "metadata": {},
   "source": "#### Cleanup: \n```sh\nservice pf enable\nservice pf start\nservice pf status\n```"
  },
  {
   "cell_type": "code",
   "execution_count": null,
   "id": "b72b11a6",
   "metadata": {},
   "outputs": [],
   "source": "Invoke-AtomicTest T1562.004 -TestNumbers 8 -Cleanup"
  },
  {
   "cell_type": "markdown",
   "id": "3a32d81a",
   "metadata": {},
   "source": "### Atomic Test #9 - Stop/Start UFW firewall systemctl\nStop the Uncomplicated Firewall (UFW) if installed, using systemctl. \n\n**Supported Platforms:** linux\n\nElevation Required (e.g. root or admin)\n#### Dependencies:  Run with `sh`!\n##### Description: Check if systemctl and ufw is installed on the machine.\n\n##### Check Prereq Commands:\n```sh\nif [ ! -x \"$(command -v systemctl)\" ]; then echo -e \"\\n***** systemctl NOT installed *****\\n\"; exit 1; fi\nif [ ! -x \"$(command -v ufw)\" ]; then echo -e \"\\n***** ufw NOT installed *****\\n\"; exit 1; fi\nif echo \"$(ufw status)\" |grep -q \"inactive\"; then echo -e \"\\n***** ufw inactive *****\\n\"; exit 1; fi \n\n```\n##### Get Prereq Commands:\n```sh\necho \"\"\n\n```"
  },
  {
   "cell_type": "code",
   "execution_count": null,
   "id": "0b5581da",
   "metadata": {},
   "outputs": [],
   "source": "Invoke-AtomicTest T1562.004 -TestNumbers 9 -GetPreReqs"
  },
  {
   "cell_type": "markdown",
   "id": "73eab3e7",
   "metadata": {},
   "source": [
    "#### Attack Commands: Run with `sh`\n",
    "```sh\nsystemctl stop ufw\n```"
   ]
  },
  {
   "cell_type": "code",
   "execution_count": null,
   "id": "6126702d",
   "metadata": {},
   "outputs": [],
   "source": "Invoke-AtomicTest T1562.004 -TestNumbers 9"
  },
  {
   "cell_type": "markdown",
   "id": "c5e794b8",
   "metadata": {},
   "source": "#### Cleanup: \n```sh\nsystemctl start ufw\nsystemctl status ufw\n```"
  },
  {
   "cell_type": "code",
   "execution_count": null,
   "id": "f1e08b45",
   "metadata": {},
   "outputs": [],
   "source": "Invoke-AtomicTest T1562.004 -TestNumbers 9 -Cleanup"
  },
  {
   "cell_type": "markdown",
   "id": "9dd611ce",
   "metadata": {},
   "source": "### Atomic Test #10 - Turn off UFW logging\nTurn off the Uncomplicated Firewall (UFW) logging. \n\n**Supported Platforms:** linux\n\nElevation Required (e.g. root or admin)\n#### Dependencies:  Run with `sh`!\n##### Description: Check if ufw is installed on the machine and enabled.\n\n##### Check Prereq Commands:\n```sh\nif [ ! -x \"$(command -v ufw)\" ]; then echo -e \"\\n***** ufw NOT installed *****\\n\"; exit 1; fi\nif echo \"$(ufw status)\" |grep -q \"inactive\"; then echo -e \"\\n***** ufw inactive *****\\n\"; exit 1; fi \n\n```\n##### Get Prereq Commands:\n```sh\necho \"\"\n\n```"
  },
  {
   "cell_type": "code",
   "execution_count": null,
   "id": "a4e5b3da",
   "metadata": {},
   "outputs": [],
   "source": "Invoke-AtomicTest T1562.004 -TestNumbers 10 -GetPreReqs"
  },
  {
   "cell_type": "markdown",
   "id": "93dc8177",
   "metadata": {},
   "source": [
    "#### Attack Commands: Run with `sh`\n",
    "```sh\nufw logging off\n```"
   ]
  },
  {
   "cell_type": "code",
   "execution_count": null,
   "id": "4c6d61bb",
   "metadata": {},
   "outputs": [],
   "source": "Invoke-AtomicTest T1562.004 -TestNumbers 10"
  },
  {
   "cell_type": "markdown",
   "id": "333c7925",
   "metadata": {},
   "source": "#### Cleanup: \n```sh\nufw logging low\nufw status verbose\n```"
  },
  {
   "cell_type": "code",
   "execution_count": null,
   "id": "380de4b5",
   "metadata": {},
   "outputs": [],
   "source": "Invoke-AtomicTest T1562.004 -TestNumbers 10 -Cleanup"
  },
  {
   "cell_type": "markdown",
   "id": "2fa6167f",
   "metadata": {},
   "source": "### Atomic Test #11 - Add and delete UFW firewall rules\nAdd and delete a rule on the Uncomplicated Firewall (UFW) if installed and enabled. \n\n**Supported Platforms:** linux\n\nElevation Required (e.g. root or admin)\n#### Dependencies:  Run with `sh`!\n##### Description: Check if ufw is installed on the machine and enabled.\n\n##### Check Prereq Commands:\n```sh\nif [ ! -x \"$(command -v ufw)\" ]; then echo -e \"\\n***** ufw NOT installed *****\\n\"; exit 1; fi\nif echo \"$(ufw status)\" |grep -q \"inactive\"; then echo -e \"\\n***** ufw inactive *****\\n\"; exit 1; fi \n\n```\n##### Get Prereq Commands:\n```sh\necho \"\"\n\n```"
  },
  {
   "cell_type": "code",
   "execution_count": null,
   "id": "a07db42e",
   "metadata": {},
   "outputs": [],
   "source": "Invoke-AtomicTest T1562.004 -TestNumbers 11 -GetPreReqs"
  },
  {
   "cell_type": "markdown",
   "id": "b15e3167",
   "metadata": {},
   "source": [
    "#### Attack Commands: Run with `sh`\n",
    "```sh\nufw prepend deny from 1.2.3.4\nufw status numbered\n```"
   ]
  },
  {
   "cell_type": "code",
   "execution_count": null,
   "id": "3799e907",
   "metadata": {},
   "outputs": [],
   "source": "Invoke-AtomicTest T1562.004 -TestNumbers 11"
  },
  {
   "cell_type": "markdown",
   "id": "43d9064a",
   "metadata": {},
   "source": "#### Cleanup: \n```sh\n{ echo y; echo response; } | ufw delete 1\nufw status numbered\n```"
  },
  {
   "cell_type": "code",
   "execution_count": null,
   "id": "76b51e6d",
   "metadata": {},
   "outputs": [],
   "source": "Invoke-AtomicTest T1562.004 -TestNumbers 11 -Cleanup"
  },
  {
   "cell_type": "markdown",
   "id": "0e8df594",
   "metadata": {},
   "source": "### Atomic Test #12 - Add and delete Packet Filter rules\nAdd and delete a rule on the Packet Filter (PF) if installed and enabled. \n\n**Supported Platforms:** linux\n\nElevation Required (e.g. root or admin)\n#### Dependencies:  Run with `sh`!\n##### Description: Check if pf is installed on the machine and enabled.\n\n##### Check Prereq Commands:\n```sh\nif [ ! -x \"$(command -v pfctl)\" ]; then echo -e \"\\n***** PF NOT installed *****\\n\"; exit 1; fi\nif [ \"$(kldstat -n pf)\" = \"\" ]; then echo -e \"\\n***** PF inactive *****\\n\"; exit 1; fi \n\n```\n##### Get Prereq Commands:\n```sh\necho \"anchor pf-rules >> /etc/pf.conf\"\npfctl -f /etc/pf.conf\n\n```"
  },
  {
   "cell_type": "code",
   "execution_count": null,
   "id": "5d176f4d",
   "metadata": {},
   "outputs": [],
   "source": "Invoke-AtomicTest T1562.004 -TestNumbers 12 -GetPreReqs"
  },
  {
   "cell_type": "markdown",
   "id": "09eaf406",
   "metadata": {},
   "source": [
    "#### Attack Commands: Run with `sh`\n",
    "```sh\necho \"block in proto tcp from 1.2.3.4 to any\" | pfctl -a pf-rules -f -\npfctl -a pf-rules -s rules\n```"
   ]
  },
  {
   "cell_type": "code",
   "execution_count": null,
   "id": "210db7b5",
   "metadata": {},
   "outputs": [],
   "source": "Invoke-AtomicTest T1562.004 -TestNumbers 12"
  },
  {
   "cell_type": "markdown",
   "id": "fd202977",
   "metadata": {},
   "source": "#### Cleanup: \n```sh\npfctl -a pf-rules -F rules\nsed -i \"\" '/anchor pf-rules/d'\npfctl -f /etc/pf.conf\n```"
  },
  {
   "cell_type": "code",
   "execution_count": null,
   "id": "c133fea7",
   "metadata": {},
   "outputs": [],
   "source": "Invoke-AtomicTest T1562.004 -TestNumbers 12 -Cleanup"
  },
  {
   "cell_type": "markdown",
   "id": "7187390a",
   "metadata": {},
   "source": "### Atomic Test #13 - Edit UFW firewall user.rules file\nEdit the Uncomplicated Firewall (UFW) rules file /etc/ufw/user.rules.\n\n**Supported Platforms:** linux\n\nElevation Required (e.g. root or admin)\n#### Dependencies:  Run with `sh`!\n##### Description: Check if /etc/ufw/user.rules exists.\n\n##### Check Prereq Commands:\n```sh\nif [ ! -f \"/etc/ufw/user.rules\" ]; then echo -e \"\\n***** ufw NOT installed *****\\n\"; exit 1; fi\n\n```\n##### Get Prereq Commands:\n```sh\necho \"\"\n\n```"
  },
  {
   "cell_type": "code",
   "execution_count": null,
   "id": "8eb3d292",
   "metadata": {},
   "outputs": [],
   "source": "Invoke-AtomicTest T1562.004 -TestNumbers 13 -GetPreReqs"
  },
  {
   "cell_type": "markdown",
   "id": "2d7587a0",
   "metadata": {},
   "source": [
    "#### Attack Commands: Run with `sh`\n",
    "```sh\necho \"# THIS IS A COMMENT\" >> /etc/ufw/user.rules\ngrep \"# THIS IS A COMMENT\" /etc/ufw/user.rules\n```"
   ]
  },
  {
   "cell_type": "code",
   "execution_count": null,
   "id": "a45532e1",
   "metadata": {},
   "outputs": [],
   "source": "Invoke-AtomicTest T1562.004 -TestNumbers 13"
  },
  {
   "cell_type": "markdown",
   "id": "a6f057e3",
   "metadata": {},
   "source": "#### Cleanup: \n```sh\nsed -i 's/# THIS IS A COMMENT//g' /etc/ufw/user.rules\n```"
  },
  {
   "cell_type": "code",
   "execution_count": null,
   "id": "31d14696",
   "metadata": {},
   "outputs": [],
   "source": "Invoke-AtomicTest T1562.004 -TestNumbers 13 -Cleanup"
  },
  {
   "cell_type": "markdown",
   "id": "06a7012e",
   "metadata": {},
   "source": "### Atomic Test #14 - Edit UFW firewall ufw.conf file\nEdit the Uncomplicated Firewall (UFW) configuration file /etc/ufw/ufw.conf \nwhich controls if the firewall starts on boot and its logging level.\n\n**Supported Platforms:** linux\n\nElevation Required (e.g. root or admin)\n#### Dependencies:  Run with `sh`!\n##### Description: Check if /etc/ufw/ufw.conf exists.\n\n##### Check Prereq Commands:\n```sh\nif [ ! -f \"/etc/ufw/ufw.conf\" ]; then echo -e \"\\n***** ufw NOT installed *****\\n\"; exit 1; fi\n\n```\n##### Get Prereq Commands:\n```sh\necho \"\"\n\n```"
  },
  {
   "cell_type": "code",
   "execution_count": null,
   "id": "6cb59067",
   "metadata": {},
   "outputs": [],
   "source": "Invoke-AtomicTest T1562.004 -TestNumbers 14 -GetPreReqs"
  },
  {
   "cell_type": "markdown",
   "id": "d9aa8a06",
   "metadata": {},
   "source": [
    "#### Attack Commands: Run with `sh`\n",
    "```sh\necho \"# THIS IS A COMMENT\" >> /etc/ufw/ufw.conf\ngrep \"# THIS IS A COMMENT\" /etc/ufw/ufw.conf\n```"
   ]
  },
  {
   "cell_type": "code",
   "execution_count": null,
   "id": "441535fe",
   "metadata": {},
   "outputs": [],
   "source": "Invoke-AtomicTest T1562.004 -TestNumbers 14"
  },
  {
   "cell_type": "markdown",
   "id": "43d9df8b",
   "metadata": {},
   "source": "#### Cleanup: \n```sh\nsed -i 's/# THIS IS A COMMENT//g' /etc/ufw/ufw.conf\ncat /etc/ufw/ufw.conf\n```"
  },
  {
   "cell_type": "code",
   "execution_count": null,
   "id": "a9a79ede",
   "metadata": {},
   "outputs": [],
   "source": "Invoke-AtomicTest T1562.004 -TestNumbers 14 -Cleanup"
  },
  {
   "cell_type": "markdown",
   "id": "5be6545a",
   "metadata": {},
   "source": "### Atomic Test #15 - Edit UFW firewall sysctl.conf file\nEdit the Uncomplicated Firewall (UFW) configuration file for setting network \nvariables /etc/ufw/sysctl.conf.\n\n**Supported Platforms:** linux\n\nElevation Required (e.g. root or admin)\n#### Dependencies:  Run with `sh`!\n##### Description: Check if /etc/ufw/sysctl.conf exists.\n\n##### Check Prereq Commands:\n```sh\nif [ ! -f \"/etc/ufw/sysctl.conf\" ]; then echo -e \"\\n***** ufw NOT installed *****\\n\"; exit 1; fi\n\n```\n##### Get Prereq Commands:\n```sh\necho \"\"\n\n```"
  },
  {
   "cell_type": "code",
   "execution_count": null,
   "id": "9bf7226c",
   "metadata": {},
   "outputs": [],
   "source": "Invoke-AtomicTest T1562.004 -TestNumbers 15 -GetPreReqs"
  },
  {
   "cell_type": "markdown",
   "id": "d4fddefb",
   "metadata": {},
   "source": [
    "#### Attack Commands: Run with `sh`\n",
    "```sh\necho \"# THIS IS A COMMENT\" >> /etc/ufw/sysctl.conf\ngrep \"# THIS IS A COMMENT\" /etc/ufw/sysctl.conf\n```"
   ]
  },
  {
   "cell_type": "code",
   "execution_count": null,
   "id": "03967bdd",
   "metadata": {},
   "outputs": [],
   "source": "Invoke-AtomicTest T1562.004 -TestNumbers 15"
  },
  {
   "cell_type": "markdown",
   "id": "1d3a6331",
   "metadata": {},
   "source": "#### Cleanup: \n```sh\nsed -i 's/# THIS IS A COMMENT//g' /etc/ufw/sysctl.conf\ncat /etc/ufw/sysctl.conf\n```"
  },
  {
   "cell_type": "code",
   "execution_count": null,
   "id": "3ac6f4e8",
   "metadata": {},
   "outputs": [],
   "source": "Invoke-AtomicTest T1562.004 -TestNumbers 15 -Cleanup"
  },
  {
   "cell_type": "markdown",
   "id": "a3165adf",
   "metadata": {},
   "source": "### Atomic Test #16 - Edit UFW firewall main configuration file\nEdit the Uncomplicated Firewall (UFW) main configuration file for setting \ndefault policies /etc/default/ufw.\n\n**Supported Platforms:** linux\n\nElevation Required (e.g. root or admin)\n#### Dependencies:  Run with `sh`!\n##### Description: Check if /etc/default/ufw exists.\n\n##### Check Prereq Commands:\n```sh\nif [ ! -f \"/etc/default/ufw\" ]; then echo -e \"\\n***** ufw NOT installed *****\\n\"; exit 1; fi\n\n```\n##### Get Prereq Commands:\n```sh\necho \"\"\n\n```"
  },
  {
   "cell_type": "code",
   "execution_count": null,
   "id": "1e035641",
   "metadata": {},
   "outputs": [],
   "source": "Invoke-AtomicTest T1562.004 -TestNumbers 16 -GetPreReqs"
  },
  {
   "cell_type": "markdown",
   "id": "4196f20c",
   "metadata": {},
   "source": [
    "#### Attack Commands: Run with `sh`\n",
    "```sh\necho \"# THIS IS A COMMENT\" >> /etc/default/ufw\ngrep \"# THIS IS A COMMENT\" /etc/default/ufw\n```"
   ]
  },
  {
   "cell_type": "code",
   "execution_count": null,
   "id": "7e7b5d69",
   "metadata": {},
   "outputs": [],
   "source": "Invoke-AtomicTest T1562.004 -TestNumbers 16"
  },
  {
   "cell_type": "markdown",
   "id": "e084b383",
   "metadata": {},
   "source": "#### Cleanup: \n```sh\nsed -i 's/# THIS IS A COMMENT//g' /etc/default/ufw\n```"
  },
  {
   "cell_type": "code",
   "execution_count": null,
   "id": "a8f00857",
   "metadata": {},
   "outputs": [],
   "source": "Invoke-AtomicTest T1562.004 -TestNumbers 16 -Cleanup"
  },
  {
   "cell_type": "markdown",
   "id": "0fa55e45",
   "metadata": {},
   "source": "### Atomic Test #17 - Tail the UFW firewall log file\nPrint  the last 10 lines of the Uncomplicated Firewall (UFW) log file \n/var/log/ufw.log.\n\n**Supported Platforms:** linux\n\nElevation Required (e.g. root or admin)\n#### Dependencies:  Run with `sh`!\n##### Description: Check if /var/log/ufw.log exists.\n\n##### Check Prereq Commands:\n```sh\nif [ ! -f \"/var/log/ufw.log\" ]; then echo -e \"\\n***** ufw NOT logging *****\\n\"; exit 1; fi\n\n```\n##### Get Prereq Commands:\n```sh\necho \"\"\n\n```"
  },
  {
   "cell_type": "code",
   "execution_count": null,
   "id": "1ce747af",
   "metadata": {},
   "outputs": [],
   "source": "Invoke-AtomicTest T1562.004 -TestNumbers 17 -GetPreReqs"
  },
  {
   "cell_type": "markdown",
   "id": "956aa032",
   "metadata": {},
   "source": [
    "#### Attack Commands: Run with `sh`\n",
    "```sh\ntail /var/log/ufw.log\n```"
   ]
  },
  {
   "cell_type": "code",
   "execution_count": null,
   "id": "f832eb1e",
   "metadata": {},
   "outputs": [],
   "source": "Invoke-AtomicTest T1562.004 -TestNumbers 17"
  },
  {
   "cell_type": "markdown",
   "id": "0a966f29",
   "metadata": {},
   "source": "### Atomic Test #18 - Disable iptables\nSome Linux systems may not activate ufw, but use iptables for firewall rules instead. (ufw works on top of iptables.) \nAttackers cannot directly disable iptables, as it is not implemented as a service like ufw. But they can flush all iptables \nrules, which in fact \"disable\" iptables. \n\n**Supported Platforms:** linux\n\nElevation Required (e.g. root or admin)\n#### Dependencies:  Run with `sh`!\n##### Description: Check if iptables is installed on the machine.\n\n##### Check Prereq Commands:\n```sh\nif [ ! -x \"$(command -v iptables)\" ]; then echo -e \"\\n***** iptables NOT installed *****\\n\"; exit 1; fi\n\n```\n##### Get Prereq Commands:\n```sh\necho \"\"\n\n```"
  },
  {
   "cell_type": "code",
   "execution_count": null,
   "id": "85b94c8d",
   "metadata": {},
   "outputs": [],
   "source": "Invoke-AtomicTest T1562.004 -TestNumbers 18 -GetPreReqs"
  },
  {
   "cell_type": "markdown",
   "id": "619c8c51",
   "metadata": {},
   "source": [
    "#### Attack Commands: Run with `sh`\n",
    "```sh\niptables-save > /tmp/iptables.rules\niptables -F\n```"
   ]
  },
  {
   "cell_type": "code",
   "execution_count": null,
   "id": "1952be08",
   "metadata": {},
   "outputs": [],
   "source": "Invoke-AtomicTest T1562.004 -TestNumbers 18"
  },
  {
   "cell_type": "markdown",
   "id": "be51c01a",
   "metadata": {},
   "source": "#### Cleanup: \n```sh\niptables-restore < /tmp/iptables.rules\n```"
  },
  {
   "cell_type": "code",
   "execution_count": null,
   "id": "c2826ce1",
   "metadata": {},
   "outputs": [],
   "source": "Invoke-AtomicTest T1562.004 -TestNumbers 18 -Cleanup"
  },
  {
   "cell_type": "markdown",
   "id": "b5e082ac",
   "metadata": {},
   "source": "### Atomic Test #19 - Modify/delete iptables firewall rules\nInstead of completely \"disabling\" iptables, adversaries may choose to delete a certain rule, which, for example, blocks data exfiltration via ftp.\nBy doing so, they may cause less noise to avoid detection. \n\n**Supported Platforms:** linux\n\nElevation Required (e.g. root or admin)\n#### Dependencies:  Run with `sh`!\n##### Description: Check if iptables is installed on the machine.\n\n##### Check Prereq Commands:\n```sh\nif [ ! -x \"$(command -v iptables)\" ]; then echo -e \"\\n***** iptables NOT installed *****\\n\"; exit 1; fi\nif ! echo \"$(iptables -L)\" | grep -q \"DROP .*dpt:ftp\"; then echo -e \"\\n***** this firewall rule is NOT activated *****\\n***** activate it by executing \\\"iptables -A OUTPUT -p tcp --dport 21 -j DROP\\\" *****\\n\"; exit 1; fi\n\n```\n##### Get Prereq Commands:\n```sh\necho \"\"\n\n```"
  },
  {
   "cell_type": "code",
   "execution_count": null,
   "id": "9e8f0ad8",
   "metadata": {},
   "outputs": [],
   "source": "Invoke-AtomicTest T1562.004 -TestNumbers 19 -GetPreReqs"
  },
  {
   "cell_type": "markdown",
   "id": "d1652d4f",
   "metadata": {},
   "source": [
    "#### Attack Commands: Run with `sh`\n",
    "```sh\niptables-save > /tmp/iptables.rules\niptables -D OUTPUT -p tcp --dport 21 -j DROP\n```"
   ]
  },
  {
   "cell_type": "code",
   "execution_count": null,
   "id": "ab542136",
   "metadata": {},
   "outputs": [],
   "source": "Invoke-AtomicTest T1562.004 -TestNumbers 19"
  },
  {
   "cell_type": "markdown",
   "id": "b6c1678a",
   "metadata": {},
   "source": "#### Cleanup: \n```sh\niptables-restore < /tmp/iptables.rules\n```"
  },
  {
   "cell_type": "code",
   "execution_count": null,
   "id": "ef4e19c6",
   "metadata": {},
   "outputs": [],
   "source": "Invoke-AtomicTest T1562.004 -TestNumbers 19 -Cleanup"
  },
  {
   "cell_type": "markdown",
   "id": "e7adc066",
   "metadata": {},
   "source": [
    "### Atomic Test #20 - LockBit Black - Unusual Windows firewall registry modification -cmd",
    "An adversary tries to modify the windows firewall registry\n",
    "**Supported Platforms:** windows",
    "\nElevation Required (e.g. root or admin)",
    "#### Attack Commands: Run with `command_prompt`\n",
    "```command_prompt\nreg add \"HKLM\\SOFTWARE\\Policies\\Microsoft\\WindowsFirewall\\DomainProfile\" /v EnableFirewall /t REG_DWORD /d 0 /f\nreg add \"HKLM\\SOFTWARE\\Policies\\Microsoft\\WindowsFirewall\\StandardProfile\" /v EnableFirewall /t REG_DWORD /d 0 /f\n```"
   ]
  },
  {
   "cell_type": "code",
   "execution_count": null,
   "id": "5c0c29de",
   "metadata": {},
   "outputs": [],
   "source": "Invoke-AtomicTest T1562.004 -TestNumbers 20"
  },
  {
   "cell_type": "markdown",
   "id": "130ff41a",
   "metadata": {},
   "source": "#### Cleanup: \n```cmd\nreg delete \"HKLM\\SOFTWARE\\Policies\\Microsoft\\WindowsFirewall\\DomainProfile\" /v EnableFirewall /f >nul 2>&1\nreg delete \"HKLM\\SOFTWARE\\Policies\\Microsoft\\WindowsFirewall\\StandardProfile\" /v EnableFirewall /f >nul 2>&1\n```"
  },
  {
   "cell_type": "code",
   "execution_count": null,
   "id": "552054ee",
   "metadata": {},
   "outputs": [],
   "source": "Invoke-AtomicTest T1562.004 -TestNumbers 20 -Cleanup"
  },
  {
   "cell_type": "markdown",
   "id": "8f04d8ba",
   "metadata": {},
   "source": [
    "### Atomic Test #21 - LockBit Black - Unusual Windows firewall registry modification -Powershell",
    "An adversary tries to modify the windows firewall registry.\n",
    "**Supported Platforms:** windows",
    "\nElevation Required (e.g. root or admin)",
    "#### Attack Commands: Run with `powershell`\n",
    "```powershell\nNew-ItemProperty \"HKLM:\\SOFTWARE\\Policies\\Microsoft\\WindowsFirewall\\DomainProfile\" -Name EnableFirewall -PropertyType DWORD -Value 0 -Force\nNew-ItemProperty \"HKLM:\\SOFTWARE\\Policies\\Microsoft\\WindowsFirewall\\StandardProfile\" -Name EnableFirewall -PropertyType DWORD -Value 0 -Force\n```"
   ]
  },
  {
   "cell_type": "code",
   "execution_count": null,
   "id": "8d9a88ea",
   "metadata": {},
   "outputs": [],
   "source": "Invoke-AtomicTest T1562.004 -TestNumbers 21"
  },
  {
   "cell_type": "markdown",
   "id": "ec1a5519",
   "metadata": {},
   "source": "#### Cleanup: \n```powershell\nRemove-ItemProperty \"HKLM:\\SOFTWARE\\Policies\\Microsoft\\WindowsFirewall\\DomainProfile\"  -Name EnableFirewall -Force -ErrorAction Ignore\nRemove-ItemProperty \"HKLM:\\SOFTWARE\\Policies\\Microsoft\\WindowsFirewall\\StandardProfile\" -Name EnableFirewall -Force -ErrorAction Ignore\n```"
  },
  {
   "cell_type": "code",
   "execution_count": null,
   "id": "15029f69",
   "metadata": {},
   "outputs": [],
   "source": "Invoke-AtomicTest T1562.004 -TestNumbers 21 -Cleanup"
  },
  {
   "cell_type": "markdown",
   "id": "3f5c7026",
   "metadata": {},
   "source": [
    "### Atomic Test #22 - Blackbit - Disable Windows Firewall using netsh firewall",
    "An adversary tries to modify the windows firewall configuration using the deprecated netsh firewall command (command still works).     \n",
    "**Supported Platforms:** windows",
    "\nElevation Required (e.g. root or admin)",
    "#### Attack Commands: Run with `command_prompt`\n",
    "```command_prompt\nnetsh firewall set opmode mode=disable\n```"
   ]
  },
  {
   "cell_type": "code",
   "execution_count": null,
   "id": "3812c6cf",
   "metadata": {},
   "outputs": [],
   "source": "Invoke-AtomicTest T1562.004 -TestNumbers 22"
  },
  {
   "cell_type": "markdown",
   "id": "42228cc1",
   "metadata": {},
   "source": "#### Cleanup: \n```cmd\nnetsh firewall set opmode mode=enable >nul 2>&1\n```"
  },
  {
   "cell_type": "code",
   "execution_count": null,
   "id": "55a69cae",
   "metadata": {},
   "outputs": [],
   "source": "Invoke-AtomicTest T1562.004 -TestNumbers 22 -Cleanup"
  },
  {
   "cell_type": "markdown",
   "id": "ad967c06",
   "metadata": {},
   "source": "## Detection\nMonitor processes and command-line arguments to see if firewalls are disabled or modified. Monitor Registry edits to keys that manage firewalls."
  }
 ],
 "metadata": {
  "kernelspec": {
   "display_name": ".NET (PowerShell)",
   "language": "pwsh",
   "name": ".net-powershell"
  },
  "language_info": {
   "file_extension": ".ps1",
   "mimetype": "text/x-powershell",
   "name": "pwsh",
   "pygments_lexer": "powershell",
   "version": "7.0"
  }
 },
 "nbformat": 4,
 "nbformat_minor": 5
}