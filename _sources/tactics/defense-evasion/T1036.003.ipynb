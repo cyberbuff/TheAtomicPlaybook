{
 "cells": [
  {
   "cell_type": "markdown",
   "id": "ef41d086",
   "metadata": {},
   "source": "# T1036.003 - Rename System Utilities\nAdversaries may rename legitimate system utilities to try to evade security mechanisms concerning the usage of those utilities. Security monitoring and control mechanisms may be in place for system utilities adversaries are capable of abusing. (Citation: LOLBAS Main Site) It may be possible to bypass those security mechanisms by renaming the utility prior to utilization (ex: rename <code>rundll32.exe</code>). (Citation: Elastic Masquerade Ball) An alternative case occurs when a legitimate utility is copied or moved to a different directory and renamed to avoid detections based on system utilities executing from non-standard paths. (Citation: F-Secure CozyDuke)"
  },
  {
   "cell_type": "markdown",
   "id": "a80c3bb4",
   "metadata": {},
   "source": "## Atomic Tests"
  },
  {
   "cell_type": "markdown",
   "id": "4cf0bd17",
   "metadata": {},
   "source": [
    "### Atomic Test #1 - Masquerading as Windows LSASS process",
    "Copies cmd.exe, renames it, and launches it to masquerade as an instance of lsass.exe.\n\nUpon execution, cmd will be launched by powershell. If using Invoke-AtomicTest, The test will hang until the 120 second timeout cancels the session\n",
    "**Supported Platforms:** windows",
    "#### Attack Commands: Run with `command_prompt`\n",
    "```command_prompt\ncopy %SystemRoot%\\System32\\cmd.exe %SystemRoot%\\Temp\\lsass.exe\n%SystemRoot%\\Temp\\lsass.exe /B\n```"
   ]
  },
  {
   "cell_type": "code",
   "execution_count": null,
   "id": "4d1f9be3",
   "metadata": {},
   "outputs": [],
   "source": "Invoke-AtomicTest T1036.003 -TestNumbers 1"
  },
  {
   "cell_type": "markdown",
   "id": "a59b0993",
   "metadata": {},
   "source": "#### Cleanup: \n```cmd\ndel /Q /F %SystemRoot%\\Temp\\lsass.exe >nul 2>&1\n```"
  },
  {
   "cell_type": "code",
   "execution_count": null,
   "id": "5d578106",
   "metadata": {},
   "outputs": [],
   "source": "Invoke-AtomicTest T1036.003 -TestNumbers 1 -Cleanup"
  },
  {
   "cell_type": "markdown",
   "id": "cfccb35c",
   "metadata": {},
   "source": [
    "### Atomic Test #2 - Masquerading as FreeBSD or Linux crond process.",
    "Copies sh process, renames it as crond, and executes it to masquerade as the cron daemon.\n\nUpon successful execution, sh is renamed to `crond` and executed.\n",
    "**Supported Platforms:** linux",
    "#### Attack Commands: Run with `sh`\n",
    "```sh\ncp /bin/sh /tmp/crond;\necho 'sleep 5' | /tmp/crond\n```"
   ]
  },
  {
   "cell_type": "code",
   "execution_count": null,
   "id": "64a4984d",
   "metadata": {},
   "outputs": [],
   "source": "Invoke-AtomicTest T1036.003 -TestNumbers 2"
  },
  {
   "cell_type": "markdown",
   "id": "8c37f17e",
   "metadata": {},
   "source": "#### Cleanup: \n```sh\nrm /tmp/crond\n```"
  },
  {
   "cell_type": "code",
   "execution_count": null,
   "id": "a3968580",
   "metadata": {},
   "outputs": [],
   "source": "Invoke-AtomicTest T1036.003 -TestNumbers 2 -Cleanup"
  },
  {
   "cell_type": "markdown",
   "id": "01959c16",
   "metadata": {},
   "source": [
    "### Atomic Test #3 - Masquerading - cscript.exe running as notepad.exe",
    "Copies cscript.exe, renames it, and launches it to masquerade as an instance of notepad.exe.\n\nUpon successful execution, cscript.exe is renamed as notepad.exe and executed from non-standard path.\n",
    "**Supported Platforms:** windows",
    "#### Attack Commands: Run with `command_prompt`\n",
    "```command_prompt\ncopy %SystemRoot%\\System32\\cscript.exe %APPDATA%\\notepad.exe /Y\ncmd.exe /c %APPDATA%\\notepad.exe /B\n```"
   ]
  },
  {
   "cell_type": "code",
   "execution_count": null,
   "id": "7af23489",
   "metadata": {},
   "outputs": [],
   "source": "Invoke-AtomicTest T1036.003 -TestNumbers 3"
  },
  {
   "cell_type": "markdown",
   "id": "7efb81db",
   "metadata": {},
   "source": "#### Cleanup: \n```cmd\ndel /Q /F %APPDATA%\\notepad.exe >nul 2>&1\n```"
  },
  {
   "cell_type": "code",
   "execution_count": null,
   "id": "fa218624",
   "metadata": {},
   "outputs": [],
   "source": "Invoke-AtomicTest T1036.003 -TestNumbers 3 -Cleanup"
  },
  {
   "cell_type": "markdown",
   "id": "b67dc53f",
   "metadata": {},
   "source": "### Atomic Test #4 - Masquerading - wscript.exe running as svchost.exe\nCopies wscript.exe, renames it, and launches it to masquerade as an instance of svchost.exe.\n\nUpon execution, no windows will remain open but wscript will have been renamed to svchost and ran out of the temp folder\n\n**Supported Platforms:** windows\n#### Dependencies:  Run with `powershell`!\n##### Description: Wscript file to execute must exist on disk\n\n##### Check Prereq Commands:\n```cmd\nif (Test-Path \"PathToAtomicsFolder\\..\\ExternalPayloads\\T1036.003\\src\\T1036.003_masquerading.vbs\") {exit 0} else {exit 1}\n\n```\n##### Get Prereq Commands:\n```cmd\nNew-Item -Type Directory (split-path \"PathToAtomicsFolder\\..\\ExternalPayloads\\T1036.003\\src\\T1036.003_masquerading.vbs\") -ErrorAction ignore | Out-Null\nInvoke-WebRequest \"https://github.com/redcanaryco/atomic-red-team/raw/master/atomics/T1036.003/src/T1036.003_masquerading.vbs\" -OutFile \"PathToAtomicsFolder\\..\\ExternalPayloads\\T1036.003\\src\\T1036.003_masquerading.vbs\"\n\n```"
  },
  {
   "cell_type": "code",
   "execution_count": null,
   "id": "a680da3b",
   "metadata": {},
   "outputs": [],
   "source": "Invoke-AtomicTest T1036.003 -TestNumbers 4 -GetPreReqs"
  },
  {
   "cell_type": "markdown",
   "id": "e42f5252",
   "metadata": {},
   "source": [
    "#### Attack Commands: Run with `command_prompt`\n",
    "```command_prompt\ncopy %SystemRoot%\\System32\\wscript.exe %APPDATA%\\svchost.exe /Y\ncmd.exe /c %APPDATA%\\svchost.exe \"PathToAtomicsFolder\\..\\ExternalPayloads\\T1036.003\\src\\T1036.003_masquerading.vbs\"\n```"
   ]
  },
  {
   "cell_type": "code",
   "execution_count": null,
   "id": "bb26716c",
   "metadata": {},
   "outputs": [],
   "source": "Invoke-AtomicTest T1036.003 -TestNumbers 4"
  },
  {
   "cell_type": "markdown",
   "id": "2cd97606",
   "metadata": {},
   "source": "#### Cleanup: \n```cmd\ndel /Q /F %APPDATA%\\svchost.exe >nul 2>&1\n```"
  },
  {
   "cell_type": "code",
   "execution_count": null,
   "id": "054ac545",
   "metadata": {},
   "outputs": [],
   "source": "Invoke-AtomicTest T1036.003 -TestNumbers 4 -Cleanup"
  },
  {
   "cell_type": "markdown",
   "id": "e05195f4",
   "metadata": {},
   "source": [
    "### Atomic Test #5 - Masquerading - powershell.exe running as taskhostw.exe",
    "Copies powershell.exe, renames it, and launches it to masquerade as an instance of taskhostw.exe.\n\nUpon successful execution, powershell.exe is renamed as taskhostw.exe and executed from non-standard path.\n",
    "**Supported Platforms:** windows",
    "#### Attack Commands: Run with `command_prompt`\n",
    "```command_prompt\ncopy %windir%\\System32\\windowspowershell\\v1.0\\powershell.exe %APPDATA%\\taskhostw.exe /Y\ncmd.exe /K %APPDATA%\\taskhostw.exe\n```"
   ]
  },
  {
   "cell_type": "code",
   "execution_count": null,
   "id": "aba719cc",
   "metadata": {},
   "outputs": [],
   "source": "Invoke-AtomicTest T1036.003 -TestNumbers 5"
  },
  {
   "cell_type": "markdown",
   "id": "c0e484eb",
   "metadata": {},
   "source": "#### Cleanup: \n```cmd\ndel /Q /F %APPDATA%\\taskhostw.exe >nul 2>&1\n```"
  },
  {
   "cell_type": "code",
   "execution_count": null,
   "id": "fb133a34",
   "metadata": {},
   "outputs": [],
   "source": "Invoke-AtomicTest T1036.003 -TestNumbers 5 -Cleanup"
  },
  {
   "cell_type": "markdown",
   "id": "3d2ff592",
   "metadata": {},
   "source": "### Atomic Test #6 - Masquerading - non-windows exe running as windows exe\nCopies an exe, renames it as a windows exe, and launches it to masquerade as a real windows exe\n\nUpon successful execution, powershell will execute T1036.003.exe as svchost.exe from on a non-standard path.\n\n**Supported Platforms:** windows\n#### Dependencies:  Run with `powershell`!\n##### Description: Exe file to copy must exist on disk at specified location (#{inputfile})\n\n##### Check Prereq Commands:\n```powershell\nif (Test-Path \"PathToAtomicsFolder\\T1036.003\\bin\\T1036.003.exe\") {exit 0} else {exit 1}\n\n```\n##### Get Prereq Commands:\n```powershell\nNew-Item -Type Directory (split-path \"PathToAtomicsFolder\\T1036.003\\bin\\T1036.003.exe\") -ErrorAction ignore | Out-Null\nInvoke-WebRequest \"https://github.com/redcanaryco/atomic-red-team/raw/master/atomics/T1036.003/bin/T1036.003.exe\" -OutFile \"PathToAtomicsFolder\\T1036.003\\bin\\T1036.003.exe\"\n\n```"
  },
  {
   "cell_type": "code",
   "execution_count": null,
   "id": "7e7f43ab",
   "metadata": {},
   "outputs": [],
   "source": "Invoke-AtomicTest T1036.003 -TestNumbers 6 -GetPreReqs"
  },
  {
   "cell_type": "markdown",
   "id": "5d9e7840",
   "metadata": {},
   "source": [
    "#### Attack Commands: Run with `powershell`\n",
    "```powershell\ncopy \"PathToAtomicsFolder\\T1036.003\\bin\\T1036.003.exe\" ($env:TEMP + \"\\svchost.exe\")\ntry { $myT1036_003 = (Start-Process -PassThru -FilePath ($env:TEMP + \"\\svchost.exe\")).Id }\ncatch { $_; exit $_.Exception.HResult}\nStop-Process -ID $myT1036_003\n```"
   ]
  },
  {
   "cell_type": "code",
   "execution_count": null,
   "id": "148ce688",
   "metadata": {},
   "outputs": [],
   "source": "Invoke-AtomicTest T1036.003 -TestNumbers 6"
  },
  {
   "cell_type": "markdown",
   "id": "71d3ea57",
   "metadata": {},
   "source": "#### Cleanup: \n```powershell\nRemove-Item ($env:TEMP + \"\\svchost.exe\") -Force -ErrorAction Ignore\n```"
  },
  {
   "cell_type": "code",
   "execution_count": null,
   "id": "a4cce70f",
   "metadata": {},
   "outputs": [],
   "source": "Invoke-AtomicTest T1036.003 -TestNumbers 6 -Cleanup"
  },
  {
   "cell_type": "markdown",
   "id": "8a4d332c",
   "metadata": {},
   "source": [
    "### Atomic Test #7 - Masquerading - windows exe running as different windows exe",
    "Copies a windows exe, renames it as another windows exe, and launches it to masquerade as second windows exe\n",
    "**Supported Platforms:** windows",
    "#### Attack Commands: Run with `powershell`\n",
    "```powershell\ncopy \"$env:ComSpec\" ($env:TEMP + \"\\svchost.exe\")\n$myT1036_003 = (Start-Process -PassThru -FilePath ($env:TEMP + \"\\svchost.exe\")).Id\nStop-Process -ID $myT1036_003\n```"
   ]
  },
  {
   "cell_type": "code",
   "execution_count": null,
   "id": "d6e1e233",
   "metadata": {},
   "outputs": [],
   "source": "Invoke-AtomicTest T1036.003 -TestNumbers 7"
  },
  {
   "cell_type": "markdown",
   "id": "3d663493",
   "metadata": {},
   "source": "#### Cleanup: \n```powershell\nRemove-Item ($env:TEMP + \"\\svchost.exe\") -Force -ErrorAction Ignore\n```"
  },
  {
   "cell_type": "code",
   "execution_count": null,
   "id": "95c5a767",
   "metadata": {},
   "outputs": [],
   "source": "Invoke-AtomicTest T1036.003 -TestNumbers 7 -Cleanup"
  },
  {
   "cell_type": "markdown",
   "id": "d47616b4",
   "metadata": {},
   "source": [
    "### Atomic Test #8 - Malicious process Masquerading as LSM.exe",
    "Detect LSM running from an incorrect directory and an incorrect service account\nThis works by copying cmd.exe to a file, naming it lsm.exe, then copying a file to the C:\\ folder.\n\nUpon successful execution, cmd.exe will be renamed as lsm.exe and executed from non-standard path.\n",
    "**Supported Platforms:** windows",
    "\nElevation Required (e.g. root or admin)",
    "#### Attack Commands: Run with `command_prompt`\n",
    "```command_prompt\ncopy C:\\Windows\\System32\\cmd.exe C:\\lsm.exe\nC:\\lsm.exe /c echo T1036.003 > C:\\T1036.003.txt\n```"
   ]
  },
  {
   "cell_type": "code",
   "execution_count": null,
   "id": "7fec0ef4",
   "metadata": {},
   "outputs": [],
   "source": "Invoke-AtomicTest T1036.003 -TestNumbers 8"
  },
  {
   "cell_type": "markdown",
   "id": "39fc00ba",
   "metadata": {},
   "source": "#### Cleanup: \n```cmd\ndel C:\\T1036.003.txt >nul 2>&1\ndel C:\\lsm.exe >nul 2>&1\n```"
  },
  {
   "cell_type": "code",
   "execution_count": null,
   "id": "a6bcd8cd",
   "metadata": {},
   "outputs": [],
   "source": "Invoke-AtomicTest T1036.003 -TestNumbers 8 -Cleanup"
  },
  {
   "cell_type": "markdown",
   "id": "ec2064bf",
   "metadata": {},
   "source": "### Atomic Test #9 - File Extension Masquerading\ndownload and execute a file masquerading as images or Office files. Upon execution 3 calc instances and 3 vbs windows will be launched.\n\ne.g SOME_LEGIT_NAME.[doc,docx,xls,xlsx,pdf,rtf,png,jpg,etc.].[exe,vbs,js,ps1,etc] (Quartelyreport.docx.exe)\n\n**Supported Platforms:** windows\n#### Dependencies:  Run with `powershell`!\n##### Description: File to copy must exist on disk at specified location (#{vbs_path})\n\n##### Check Prereq Commands:\n```cmd\nif (Test-Path \"PathToAtomicsFolder\\T1036.003\\src\\T1036.003_masquerading.vbs\") {exit 0} else {exit 1}\n\n```\n##### Get Prereq Commands:\n```cmd\nNew-Item -Type Directory (split-path \"PathToAtomicsFolder\\T1036.003\\src\\T1036.003_masquerading.vbs\") -ErrorAction ignore | Out-Null\nInvoke-WebRequest \"https://github.com/redcanaryco/atomic-red-team/raw/master/atomics/T1036.003/src/T1036.003_masquerading.vbs\" -OutFile \"PathToAtomicsFolder\\T1036.003\\src\\T1036.003_masquerading.vbs\"\n\n```\n##### Description: File to copy must exist on disk at specified location (#{ps1_path})\n\n##### Check Prereq Commands:\n```cmd\nif (Test-Path \"PathToAtomicsFolder\\T1036.003\\src\\T1036.003_masquerading.ps1\") {exit 0} else {exit 1}\n\n```\n##### Get Prereq Commands:\n```cmd\nNew-Item -Type Directory (split-path \"PathToAtomicsFolder\\T1036.003\\src\\T1036.003_masquerading.ps1\") -ErrorAction ignore | Out-Null\nInvoke-WebRequest \"https://github.com/redcanaryco/atomic-red-team/raw/master/atomics/T1036.003/src/T1036.003_masquerading.ps1\" -OutFile \"PathToAtomicsFolder\\T1036.003\\src\\T1036.003_masquerading.ps1\"\n\n```"
  },
  {
   "cell_type": "code",
   "execution_count": null,
   "id": "4de6dd02",
   "metadata": {},
   "outputs": [],
   "source": "Invoke-AtomicTest T1036.003 -TestNumbers 9 -GetPreReqs"
  },
  {
   "cell_type": "markdown",
   "id": "aeb1616b",
   "metadata": {},
   "source": [
    "#### Attack Commands: Run with `command_prompt`\n",
    "```command_prompt\ncopy \"C:\\Windows\\System32\\calc.exe\" %temp%\\T1036.003_masquerading.docx.exe /Y\ncopy \"C:\\Windows\\System32\\calc.exe\" %temp%\\T1036.003_masquerading.pdf.exe /Y\ncopy \"C:\\Windows\\System32\\calc.exe\" %temp%\\T1036.003_masquerading.ps1.exe /Y\ncopy \"PathToAtomicsFolder\\T1036.003\\src\\T1036.003_masquerading.vbs\" %temp%\\T1036.003_masquerading.xls.vbs /Y\ncopy \"PathToAtomicsFolder\\T1036.003\\src\\T1036.003_masquerading.vbs\" %temp%\\T1036.003_masquerading.xlsx.vbs /Y\ncopy \"PathToAtomicsFolder\\T1036.003\\src\\T1036.003_masquerading.vbs\" %temp%\\T1036.003_masquerading.png.vbs /Y\ncopy \"PathToAtomicsFolder\\T1036.003\\src\\T1036.003_masquerading.ps1\" %temp%\\T1036.003_masquerading.doc.ps1 /Y\ncopy \"PathToAtomicsFolder\\T1036.003\\src\\T1036.003_masquerading.ps1\" %temp%\\T1036.003_masquerading.pdf.ps1 /Y\ncopy \"PathToAtomicsFolder\\T1036.003\\src\\T1036.003_masquerading.ps1\" %temp%\\T1036.003_masquerading.rtf.ps1 /Y\n%temp%\\T1036.003_masquerading.docx.exe\n%temp%\\T1036.003_masquerading.pdf.exe\n%temp%\\T1036.003_masquerading.ps1.exe\n%temp%\\T1036.003_masquerading.xls.vbs\n%temp%\\T1036.003_masquerading.xlsx.vbs\n%temp%\\T1036.003_masquerading.png.vbs\nC:\\Windows\\System32\\WindowsPowerShell\\v1.0\\powershell.exe -File %temp%\\T1036.003_masquerading.doc.ps1\nC:\\Windows\\System32\\WindowsPowerShell\\v1.0\\powershell.exe -File %temp%\\T1036.003_masquerading.pdf.ps1\nC:\\Windows\\System32\\WindowsPowerShell\\v1.0\\powershell.exe -File %temp%\\T1036.003_masquerading.rtf.ps1\n```"
   ]
  },
  {
   "cell_type": "code",
   "execution_count": null,
   "id": "557974bc",
   "metadata": {},
   "outputs": [],
   "source": "Invoke-AtomicTest T1036.003 -TestNumbers 9"
  },
  {
   "cell_type": "markdown",
   "id": "21504721",
   "metadata": {},
   "source": "#### Cleanup: \n```cmd\ndel /f %temp%\\T1036.003_masquerading.docx.exe > nul 2>&1\ndel /f %temp%\\T1036.003_masquerading.pdf.exe > nul 2>&1\ndel /f %temp%\\T1036.003_masquerading.ps1.exe > nul 2>&1\ndel /f %temp%\\T1036.003_masquerading.xls.vbs > nul 2>&1\ndel /f %temp%\\T1036.003_masquerading.xlsx.vbs > nul 2>&1\ndel /f %temp%\\T1036.003_masquerading.png.vbs > nul 2>&1\ndel /f %temp%\\T1036.003_masquerading.doc.ps1 > nul 2>&1\ndel /f %temp%\\T1036.003_masquerading.pdf.ps1 > nul 2>&1\ndel /f %temp%\\T1036.003_masquerading.rtf.ps1 > nul 2>&1\n```"
  },
  {
   "cell_type": "code",
   "execution_count": null,
   "id": "51707751",
   "metadata": {},
   "outputs": [],
   "source": "Invoke-AtomicTest T1036.003 -TestNumbers 9 -Cleanup"
  },
  {
   "cell_type": "markdown",
   "id": "eecad9ee",
   "metadata": {},
   "source": "## Detection\nIf file names are mismatched between the file name on disk and that of the binary's PE metadata, this is a likely indicator that a binary was renamed after it was compiled. Collecting and comparing disk and resource filenames for binaries by looking to see if the InternalName, OriginalFilename, and/or ProductName match what is expected could provide useful leads, but may not always be indicative of malicious activity. (Citation: Elastic Masquerade Ball) Do not focus on the possible names a file could have, but instead on the command-line arguments that are known to be used and are distinct because it will have a better rate of detection.(Citation: Twitter ItsReallyNick Masquerading Update)"
  }
 ],
 "metadata": {
  "kernelspec": {
   "display_name": ".NET (PowerShell)",
   "language": "pwsh",
   "name": ".net-powershell"
  },
  "language_info": {
   "file_extension": ".ps1",
   "mimetype": "text/x-powershell",
   "name": "pwsh",
   "pygments_lexer": "powershell",
   "version": "7.0"
  }
 },
 "nbformat": 4,
 "nbformat_minor": 5
}