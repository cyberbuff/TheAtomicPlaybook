{
 "cells": [
  {
   "cell_type": "markdown",
   "id": "60dc9090",
   "metadata": {},
   "source": "# T1090.001 - Internal Proxy\nAdversaries may use an internal proxy to direct command and control traffic between two or more systems in a compromised environment. Many tools exist that enable traffic redirection through proxies or port redirection, including [HTRAN](https://attack.mitre.org/software/S0040), ZXProxy, and ZXPortMap. (Citation: Trend Micro APT Attack Tools) Adversaries use internal proxies to manage command and control communications inside a compromised environment, to reduce the number of simultaneous outbound network connections, to provide resiliency in the face of connection loss, or to ride over existing trusted communications paths between infected systems to avoid suspicion. Internal proxy connections may use common peer-to-peer (p2p) networking protocols, such as SMB, to better blend in with the environment.\n\nBy using a compromised internal system as a proxy, adversaries may conceal the true destination of C2 traffic while reducing the need for numerous connections to external systems."
  },
  {
   "cell_type": "markdown",
   "id": "9a44000b",
   "metadata": {},
   "source": "## Atomic Tests"
  },
  {
   "cell_type": "markdown",
   "id": "1620c5a9",
   "metadata": {},
   "source": [
    "### Atomic Test #1 - Connection Proxy",
    "Enable traffic redirection.\n\nNote that this test may conflict with pre-existing system configuration.\n",
    "**Supported Platforms:** macos, linux",
    "#### Attack Commands: Run with `sh`\n",
    "```sh\nexport http_proxy=127.0.0.1:8080\n```"
   ]
  },
  {
   "cell_type": "code",
   "execution_count": null,
   "id": "a56d3a74",
   "metadata": {},
   "outputs": [],
   "source": "Invoke-AtomicTest T1090.001 -TestNumbers 1"
  },
  {
   "cell_type": "markdown",
   "id": "03588df5",
   "metadata": {},
   "source": "#### Cleanup: \n```sh\nunset http_proxy\nunset https_proxy\n```"
  },
  {
   "cell_type": "code",
   "execution_count": null,
   "id": "d498e3de",
   "metadata": {},
   "outputs": [],
   "source": "Invoke-AtomicTest T1090.001 -TestNumbers 1 -Cleanup"
  },
  {
   "cell_type": "markdown",
   "id": "8b60cad0",
   "metadata": {},
   "source": [
    "### Atomic Test #2 - Connection Proxy for macOS UI",
    "Enable traffic redirection on macOS UI (not terminal).\nThe test will modify and enable the \"Web Proxy\" and \"Secure Web Proxy\" settings  in System Preferences => Network => Advanced => Proxies for the specified network interface.\n\nNote that this test may conflict with pre-existing system configuration.\n",
    "**Supported Platforms:** macos",
    "#### Attack Commands: Run with `sh`\n",
    "```sh\nnetworksetup -setwebproxy Wi-Fi 127.0.0.1 8080\nnetworksetup -setsecurewebproxy Wi-Fi 127.0.0.1 8080\n```"
   ]
  },
  {
   "cell_type": "code",
   "execution_count": null,
   "id": "6ff64103",
   "metadata": {},
   "outputs": [],
   "source": "Invoke-AtomicTest T1090.001 -TestNumbers 2"
  },
  {
   "cell_type": "markdown",
   "id": "aa0982aa",
   "metadata": {},
   "source": "#### Cleanup: \n```sh\nnetworksetup -setwebproxystate Wi-Fi off\nnetworksetup -setsecurewebproxystate Wi-Fi off  \n```"
  },
  {
   "cell_type": "code",
   "execution_count": null,
   "id": "16d78b96",
   "metadata": {},
   "outputs": [],
   "source": "Invoke-AtomicTest T1090.001 -TestNumbers 2 -Cleanup"
  },
  {
   "cell_type": "markdown",
   "id": "5b6beaa1",
   "metadata": {},
   "source": [
    "### Atomic Test #3 - portproxy reg key",
    "Adds a registry key to set up a proxy on the endpoint at HKEY_LOCAL_MACHINE\\SYSTEM\\CurrentControlSet\\Services\\PortProxy\\v4tov4\nUpon execution there will be a new proxy entry in netsh\nnetsh interface portproxy show all\n",
    "**Supported Platforms:** windows",
    "\nElevation Required (e.g. root or admin)",
    "#### Attack Commands: Run with `powershell`\n",
    "```powershell\nnetsh interface portproxy add v4tov4 listenport=1337 connectport=1337 connectaddress=127.0.0.1```"
   ]
  },
  {
   "cell_type": "code",
   "execution_count": null,
   "id": "2081e51e",
   "metadata": {},
   "outputs": [],
   "source": "Invoke-AtomicTest T1090.001 -TestNumbers 3"
  },
  {
   "cell_type": "markdown",
   "id": "21a70a8d",
   "metadata": {},
   "source": "#### Cleanup: \n```powershell\nnetsh interface portproxy delete v4tov4 listenport=1337 -ErrorAction Ignore | Out-Null```"
  },
  {
   "cell_type": "code",
   "execution_count": null,
   "id": "7c221129",
   "metadata": {},
   "outputs": [],
   "source": "Invoke-AtomicTest T1090.001 -TestNumbers 3 -Cleanup"
  },
  {
   "cell_type": "markdown",
   "id": "38131c47",
   "metadata": {},
   "source": "## Detection\nAnalyze network data for uncommon data flows between clients that should not or often do not communicate with one another. Processes utilizing the network that do not normally have network communication or have never been seen before are suspicious. Analyze packet contents to detect communications that do not follow the expected protocol behavior for the port that is being used.(Citation: University of Birmingham C2)"
  }
 ],
 "metadata": {
  "kernelspec": {
   "display_name": ".NET (PowerShell)",
   "language": "PowerShell",
   "name": ".net-powershell"
  },
  "language_info": {
   "file_extension": ".ps1",
   "mimetype": "text/x-powershell",
   "name": "PowerShell",
   "pygments_lexer": "powershell",
   "version": "7.0"
  }
 },
 "nbformat": 4,
 "nbformat_minor": 5
}