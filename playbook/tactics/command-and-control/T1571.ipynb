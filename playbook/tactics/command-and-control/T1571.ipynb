{
 "cells": [
  {
   "cell_type": "markdown",
   "id": "80a98552",
   "metadata": {},
   "source": "# T1571 - Non-Standard Port\nAdversaries may communicate using a protocol and port paring that are typically not associated. For example, HTTPS over port 8088(Citation: Symantec Elfin Mar 2019) or port 587(Citation: Fortinet Agent Tesla April 2018) as opposed to the traditional port 443. Adversaries may make changes to the standard port used by a protocol to bypass filtering or muddle analysis/parsing of network data."
  },
  {
   "cell_type": "markdown",
   "id": "d70fd180",
   "metadata": {},
   "source": "## Atomic Tests"
  },
  {
   "cell_type": "markdown",
   "id": "3f7e743a",
   "metadata": {},
   "source": [
    "### Atomic Test #1 - Testing usage of uncommonly used port with PowerShell",
    "Testing uncommonly used port utilizing PowerShell. APT33 has been known to attempt telnet over port 8081. Upon execution, details about the successful\nport check will be displayed.\n",
    "**Supported Platforms:** windows",
    "#### Attack Commands: Run with `powershell`\n",
    "```powershell\nTest-NetConnection -ComputerName google.com -port 8081\n```"
   ]
  },
  {
   "cell_type": "code",
   "execution_count": null,
   "id": "fc12a676",
   "metadata": {},
   "outputs": [],
   "source": "Invoke-AtomicTest T1571 -TestNumbers 1"
  },
  {
   "cell_type": "markdown",
   "id": "0a3a22ca",
   "metadata": {},
   "source": [
    "### Atomic Test #2 - Testing usage of uncommonly used port",
    "Testing uncommonly used port utilizing telnet.\n",
    "**Supported Platforms:** linux, macos",
    "#### Attack Commands: Run with `sh`\n",
    "```sh\ntelnet google.com 8081\n```"
   ]
  },
  {
   "cell_type": "code",
   "execution_count": null,
   "id": "03c08858",
   "metadata": {},
   "outputs": [],
   "source": "Invoke-AtomicTest T1571 -TestNumbers 2"
  },
  {
   "cell_type": "markdown",
   "id": "51c0f76e",
   "metadata": {},
   "source": "## Detection\nAnalyze packet contents to detect communications that do not follow the expected protocol behavior for the port that is being used. Analyze network data for uncommon data flows (e.g., a client sending significantly more data than it receives from a server). Processes utilizing the network that do not normally have network communication or have never been seen before are suspicious.(Citation: University of Birmingham C2)"
  },
  {
   "cell_type": "markdown",
   "id": "c3482bf9",
   "metadata": {},
   "source": "\n## Shield Active Defense\n### Network Monitoring \n Monitor network traffic in order to detect adversary activity. \n\n Network monitoring involves capturing network activity data, including capturing of server, firewall, and other relevant logs. A defender can then review them or send them to a centralized collection location for further analysis.\n#### Opportunity\nThere is an opportunity to monitor network traffic for different protocols, anomalous traffic patterns, transfer of data, etc. to determine the presence of an adversary.\n#### Use Case\nThe defender can implement network monitoring for and alert on  anomalous traffic patterns, large  or unexpected data transfers, and other activity that may reveal the presence of an adversary.\n#### Procedures\nCapture network logs for internet-facing devices and send those logs to a central collection location.\nCapture all network  device (router, switches, proxy, etc.) logs on a decoy network and send those logs to a central collection location.\n"
  }
 ],
 "metadata": {
  "kernelspec": {
   "display_name": ".NET (PowerShell)",
   "language": "PowerShell",
   "name": ".net-powershell"
  },
  "language_info": {
   "file_extension": ".ps1",
   "mimetype": "text/x-powershell",
   "name": "PowerShell",
   "pygments_lexer": "powershell",
   "version": "7.0"
  }
 },
 "nbformat": 4,
 "nbformat_minor": 5
}