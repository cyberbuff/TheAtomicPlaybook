{
 "cells": [
  {
   "cell_type": "markdown",
   "id": "3b5d71ff",
   "metadata": {},
   "source": "# T1092 - Communication Through Removable Media\nAdversaries can perform command and control between compromised hosts on potentially disconnected networks using removable media to transfer commands from system to system. Both systems would need to be compromised, with the likelihood that an Internet-connected system was compromised first and the second through lateral movement by [Replication Through Removable Media](https://attack.mitre.org/techniques/T1091). Commands and files would be relayed from the disconnected system to the Internet-connected system to which the adversary has direct access."
  },
  {
   "cell_type": "markdown",
   "id": "24f7dcbc",
   "metadata": {},
   "source": "## Atomic Tests:\nCurrently, no tests are available for this technique."
  },
  {
   "cell_type": "markdown",
   "id": "c0dc7fc7",
   "metadata": {},
   "source": "## Detection\nMonitor file access on removable media. Detect processes that execute when removable media is mounted."
  },
  {
   "cell_type": "markdown",
   "id": "a6b983ab",
   "metadata": {},
   "source": "\n## Shield Active Defense\n### Peripheral Management \n Manage peripheral devices used on systems within the network for active defense purposes. \n\n\n \n\n Peripheral Management is the administration of peripheral devices used on systems within the network for defensive or deceptive purposes. A defender can choose to allow or deny certain types of peripherals from being used on systems. Defenders can also introduce certain peripherals to an adversary-controlled system to see how the adversary reacts.\n#### Opportunity\nThere is an opportunity to determine adversary capabilities or preferences by controlling aspects of the engagement environment.\n#### Use Case\nA defender who intercepts removable media being used by an adversary for relaying commands can plug the removal media into a decoy system or network to watch what commands are being relayed and what the adversary continues to do.\n#### Procedures\nIntroduce external devices (e.g. a USB drive) to a machine in an adversary engagement scenario to see how quickly an adversary gains awareness to its presence and if they attempt to leverage the device.\nConfigure controls (such as AutoRun) which would require an adversary to take additional steps when leveraging a peripheral device to execute their tools.\n"
  }
 ],
 "metadata": {
  "kernelspec": {
   "display_name": ".NET (PowerShell)",
   "language": "PowerShell",
   "name": ".net-powershell"
  },
  "language_info": {
   "file_extension": ".ps1",
   "mimetype": "text/x-powershell",
   "name": "PowerShell",
   "pygments_lexer": "powershell",
   "version": "7.0"
  }
 },
 "nbformat": 4,
 "nbformat_minor": 5
}