{
 "cells": [
  {
   "cell_type": "markdown",
   "id": "ecca6da5",
   "metadata": {},
   "source": "# T1104 - Multi-Stage Channels\nAdversaries may create multiple stages for command and control that are employed under different conditions or for certain functions. Use of multiple stages may obfuscate the command and control channel to make detection more difficult.\n\nRemote access tools will call back to the first-stage command and control server for instructions. The first stage may have automated capabilities to collect basic host information, update tools, and upload additional files. A second remote access tool (RAT) could be uploaded at that point to redirect the host to the second-stage command and control server. The second stage will likely be more fully featured and allow the adversary to interact with the system through a reverse shell and additional RAT features.\n\nThe different stages will likely be hosted separately with no overlapping infrastructure. The loader may also have backup first-stage callbacks or [Fallback Channels](https://attack.mitre.org/techniques/T1008) in case the original first-stage communication path is discovered and blocked."
  },
  {
   "cell_type": "markdown",
   "id": "105dbe61",
   "metadata": {},
   "source": "## Atomic Tests:\nCurrently, no tests are available for this technique."
  },
  {
   "cell_type": "markdown",
   "id": "1518b95b",
   "metadata": {},
   "source": "## Detection\nHost data that can relate unknown or suspicious process activity using a network connection is important to supplement any existing indicators of compromise based on malware command and control signatures and infrastructure. Relating subsequent actions that may result from Discovery of the system and network information or Lateral Movement to the originating process may also yield useful data."
  },
  {
   "cell_type": "markdown",
   "id": "691c5a83",
   "metadata": {},
   "source": "\n## Shield Active Defense\n### Isolation \n Configure devices, systems, networks, etc. to contain activity and data in order to promote inspection or prevent expanding an engagement beyond desired limits. \n\n Using isolation, a defender can prevent potentially malicious activity before it starts or limit its effectiveness and scope. A defender can observe behaviors of adversaries or their tools without exposing them to unintended targets.\n#### Opportunity\nThere is an opportunity to detect an unknown process that is being used for command and control and disrupt it.\n#### Use Case\nA defender can isolate unknown processes that are being used for command and control and prevent them from being able to access the internet.\n#### Procedures\nUnplug an infected system from the network and disable any other means of communication.\nRun all user applications in isolated containers to prevent a compromise from expanding beyond the container's boundaries.\n"
  }
 ],
 "metadata": {
  "kernelspec": {
   "display_name": ".NET (PowerShell)",
   "language": "pwsh",
   "name": ".net-powershell"
  },
  "language_info": {
   "file_extension": ".ps1",
   "mimetype": "text/x-powershell",
   "name": "pwsh",
   "pygments_lexer": "powershell",
   "version": "7.0"
  }
 },
 "nbformat": 4,
 "nbformat_minor": 5
}