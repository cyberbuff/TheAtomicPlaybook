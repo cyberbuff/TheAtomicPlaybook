{
 "cells": [
  {
   "cell_type": "markdown",
   "metadata": {},
   "source": [
    "# T1552.007 - Kubernetes List Secrets",
    "\n",
    "Adversaries may gather credentials via APIs within a containers environment. APIs in these environments, such as the Docker API and Kubernetes APIs, allow a user to remotely manage their container resources and cluster components.(Citation: Docker API)(Citation: Kubernetes API)\n\nAn adversary may access the Docker API to collect logs that contain credentials to cloud, container, and various other resources in the environment.(Citation: Unit 42 Unsecured Docker Daemons) An adversary with sufficient permissions, such as via a pod's service account, may also use the Kubernetes API to retrieve credentials from the Kubernetes API server. These credentials may include those needed for Docker API authentication or secrets from Kubernetes cluster components. "
   ]
  },
  {
   "cell_type": "markdown",
   "metadata": {},
   "source": [
    "## Atomic Tests"
   ]
  },
  {
   "cell_type": "markdown",
   "metadata": {},
   "source": [
    "### Atomic Test #1 - List All Secrets\nA Kubernetes secret is an object that lets users store and manage sensitive information, such as passwords and connection strings in the cluster. Secrets can be consumed by reference in the pod configuration. Attackers who have permissions to retrieve the secrets from the API server (by using the pod service account, for example) can access sensitive information that might include credentials to various services or provide further access to the cluster.\n[More information about secrets](https://kubernetes.io/docs/concepts/configuration/secret/).\n\nThis test will make a request to the Kubernetes api at the `/api/v1/secrets` endpoint requesting every secret stored within the cluster.\n\n**Supported Platforms:** containers\n#### Dependencies:  Run with `None`!\n##### Description: kubectl must be installed\n\n##### Check Prereq Commands:\n```None\nwhich kubectl\n\n```\n##### Get Prereq Commands:\n```None\necho \"kubectl not installed, please install kubectl (https://kubernetes.io/docs/tasks/tools/)\"\n\n```"
   ]
  },
  {
   "cell_type": "code",
   "execution_count": null,
   "metadata": {},
   "outputs": [],
   "source": [
    "Invoke-AtomicTest T1552.007 -TestNumbers 1 -GetPreReqs"
   ]
  },
  {
   "cell_type": "markdown",
   "metadata": {},
   "source": [
    "#### Attack Commands: Run with `bash`\n```bash\nkubectl get secrets --all-namespaces\n```"
   ]
  },
  {
   "cell_type": "code",
   "execution_count": null,
   "metadata": {},
   "outputs": [],
   "source": [
    "Invoke-AtomicTest T1552.007 -TestNumbers 1"
   ]
  },
  {
   "cell_type": "markdown",
   "metadata": {},
   "source": [
    "### Atomic Test #2 - ListSecrets\nA Kubernetes secret is an object that lets users store and manage sensitive information, such as passwords and connection strings in the cluster. Secrets can be consumed by reference in the pod configuration. Attackers who have permissions to retrieve the secrets from the API server (by using the pod service account, for example) can access sensitive information that might include credentials to various services.\n\n**Supported Platforms:** containers\n#### Dependencies:  Run with `None`!\n##### Description: kubectl must be installed\n\n##### Check Prereq Commands:\n```None\nwhich kubectl\n\n```\n##### Get Prereq Commands:\n```None\necho \"kubectl must be installed manually\"\n\n```"
   ]
  },
  {
   "cell_type": "code",
   "execution_count": null,
   "metadata": {},
   "outputs": [],
   "source": [
    "Invoke-AtomicTest T1552.007 -TestNumbers 2 -GetPreReqs"
   ]
  },
  {
   "cell_type": "markdown",
   "metadata": {},
   "source": [
    "#### Attack Commands: Run with `bash`\n```bash\nkubectl get secrets -n default\n```"
   ]
  },
  {
   "cell_type": "code",
   "execution_count": null,
   "metadata": {},
   "outputs": [],
   "source": [
    "Invoke-AtomicTest T1552.007 -TestNumbers 2"
   ]
  },
  {
   "cell_type": "markdown",
   "metadata": {},
   "source": [
    "### Atomic Test #3 - Cat the contents of a Kubernetes service account token file\nAccess the Kubernetes service account access token stored within a container in a cluster.\n\n**Supported Platforms:** linux\n#### Dependencies:  Run with `sh`!\n##### Description: Verify docker is installed.\n##### Check Prereq Commands:\n```sh\nwhich docker\n\n```\n##### Get Prereq Commands:\n```sh\nif [ \"\" == \"`which docker`\" ]; then echo \"Docker Not Found\"; if [ -n \"`which apt-get`\" ]; then sudo apt-get -y install docker ; elif [ -n \"`which yum`\" ]; then sudo yum -y install docker ; fi ; else echo \"Docker installed\"; fi\n\n```\n##### Description: Verify docker service is running.\n##### Check Prereq Commands:\n```sh\nsudo systemctl status docker\n\n```\n##### Get Prereq Commands:\n```sh\nsudo systemctl start docker\n\n```\n##### Description: Verify kind is in the path.\n##### Check Prereq Commands:\n```sh\nwhich kind\n\n```\n##### Get Prereq Commands:\n```sh\ncurl -Lo ./kind https://kind.sigs.k8s.io/dl/v0.10.0/kind-linux-amd64\nchmod +x ./kind\nmv kind /usr/bin/kind\n\n```\n##### Description: Verify kind-atomic-cluster is created\n##### Check Prereq Commands:\n```sh\nsudo kind get clusters\n\n```\n##### Get Prereq Commands:\n```sh\nsudo kind create cluster --name atomic-cluster\n\n```\n##### Description: Verify kubectl is in path\n##### Check Prereq Commands:\n```sh\nwhich kubectl\n\n```\n##### Get Prereq Commands:\n```sh\ncurl -LO \"https://dl.k8s.io/release/$(curl -L -s https://dl.k8s.io/release/stable.txt)/bin/linux/amd64/kubectl\"\nchmod +x ./kubectl\nmv kubectl /usr/bin/kubectl\n\n```\n##### Description: Verify atomic-pod is running.\n##### Check Prereq Commands:\n```sh\nkubectl --context kind-atomic-cluster get pods |grep atomic-pod\n\n```\n##### Get Prereq Commands:\n```sh\nkubectl --context kind-atomic-cluster run atomic-pod --image=alpine --command -- sleep infinity\n\n```"
   ]
  },
  {
   "cell_type": "code",
   "execution_count": null,
   "metadata": {},
   "outputs": [],
   "source": [
    "Invoke-AtomicTest T1552.007 -TestNumbers 3 -GetPreReqs"
   ]
  },
  {
   "cell_type": "markdown",
   "metadata": {},
   "source": [
    "#### Attack Commands: Run with `sh`\n```sh\nkubectl --context kind-atomic-cluster exec atomic-pod -- cat /run/secrets/kubernetes.io/serviceaccount/token\n```"
   ]
  },
  {
   "cell_type": "code",
   "execution_count": null,
   "metadata": {},
   "outputs": [],
   "source": [
    "Invoke-AtomicTest T1552.007 -TestNumbers 3"
   ]
  },
  {
   "cell_type": "markdown",
   "metadata": {},
   "source": [
    "## Detection",
    "\n",
    "Establish centralized logging for the activity of container and Kubernetes cluster components. Monitor logs for actions that could be taken to gather credentials to container and cloud infrastructure, including the use of discovery API calls by new or unexpected users and APIs that access Docker logs.\n\nIt may be possible to detect adversary use of credentials they have obtained such as in [Valid Accounts](https://attack.mitre.org/techniques/T1078)."
   ]
  }
 ],
 "metadata": {
  "kernelspec": {
   "display_name": ".NET (PowerShell)",
   "language": "PowerShell",
   "name": ".net-powershell"
  },
  "language_info": {
   "file_extension": ".ps1",
   "mimetype": "text/x-powershell",
   "name": "PowerShell",
   "pygments_lexer": "powershell",
   "version": "7.0"
  }
 },
 "nbformat": 4,
 "nbformat_minor": 4
}