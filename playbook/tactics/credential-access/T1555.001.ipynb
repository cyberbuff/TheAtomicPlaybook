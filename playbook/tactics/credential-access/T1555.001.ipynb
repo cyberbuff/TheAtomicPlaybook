{
 "cells": [
  {
   "cell_type": "markdown",
   "id": "9fba85cb",
   "metadata": {},
   "source": "# T1555.001 - Keychain\nAdversaries may acquire credentials from Keychain. Keychain (or Keychain Services) is the macOS credential management system that stores account names, passwords, private keys, certificates, sensitive application data, payment data, and secure notes. There are three types of Keychains: Login Keychain, System Keychain, and Local Items (iCloud) Keychain. The default Keychain is the Login Keychain, which stores user passwords and information. The System Keychain stores items accessed by the operating system, such as items shared among users on a host. The Local Items (iCloud) Keychain is used for items synced with Apple\u2019s iCloud service. \n\nKeychains can be viewed and edited through the Keychain Access application or using the command-line utility <code>security</code>. Keychain files are located in <code>~/Library/Keychains/</code>, <code>/Library/Keychains/</code>, and <code>/Network/Library/Keychains/</code>.(Citation: Keychain Services Apple)(Citation: Keychain Decryption Passware)(Citation: OSX Keychain Schaumann)\n\nAdversaries may gather user credentials from Keychain storage/memory. For example, the command <code>security dump-keychain \u2013d</code> will dump all Login Keychain credentials from <code>~/Library/Keychains/login.keychain-db</code>. Adversaries may also directly read Login Keychain credentials from the <code>~/Library/Keychains/login.keychain</code> file. Both methods require a password, where the default password for the Login Keychain is the current user\u2019s password to login to the macOS host.(Citation: External to DA, the OS X Way)(Citation: Empire Keychain Decrypt)  "
  },
  {
   "cell_type": "markdown",
   "id": "ad897c88",
   "metadata": {},
   "source": "## Atomic Tests"
  },
  {
   "cell_type": "markdown",
   "id": "3fa5d8c1",
   "metadata": {},
   "source": [
    "### Atomic Test #1 - Keychain Dump",
    "This command will dump keychain credential information from login.keychain. \nSource: https://www.loobins.io/binaries/security/\n\n### Keychain File path\n  ~/Library/Keychains/\n  /Library/Keychains/\n  /Network/Library/Keychains/\n  [Security Reference](https://developer.apple.com/legacy/library/documentation/Darwin/Reference/ManPages/man1/security.1.html)\n  ",
    "**Supported Platforms:** macos",
    "\nElevation Required (e.g. root or admin)",
    "#### Attack Commands: Run with `sh`\n",
    "```sh\nsudo security dump-keychain -d login.keychain```"
   ]
  },
  {
   "cell_type": "code",
   "execution_count": null,
   "id": "82ff057d",
   "metadata": {},
   "outputs": [],
   "source": "Invoke-AtomicTest T1555.001 -TestNumbers 1"
  },
  {
   "cell_type": "markdown",
   "id": "df456811",
   "metadata": {},
   "source": [
    "### Atomic Test #2 - Export Certificate Item(s)",
    "This command finds all certificate items and sends the output to local file in pem format.\n",
    "**Supported Platforms:** macos",
    "\nElevation Required (e.g. root or admin)",
    "#### Attack Commands: Run with `sh`\n",
    "```sh\nsecurity find-certificate -a -p > /tmp/certs.pem\n```"
   ]
  },
  {
   "cell_type": "code",
   "execution_count": null,
   "id": "9e1a41a1",
   "metadata": {},
   "outputs": [],
   "source": "Invoke-AtomicTest T1555.001 -TestNumbers 2"
  },
  {
   "cell_type": "markdown",
   "id": "d4b9e373",
   "metadata": {},
   "source": "#### Cleanup: \n```sh\nrm /tmp/certs.pem```"
  },
  {
   "cell_type": "code",
   "execution_count": null,
   "id": "48a3cc9f",
   "metadata": {},
   "outputs": [],
   "source": "Invoke-AtomicTest T1555.001 -TestNumbers 2 -Cleanup"
  },
  {
   "cell_type": "markdown",
   "id": "fc3d7f25",
   "metadata": {},
   "source": [
    "### Atomic Test #3 - Import Certificate Item(s) into Keychain",
    "This command will import a certificate pem file into a keychain.\n",
    "**Supported Platforms:** macos",
    "\nElevation Required (e.g. root or admin)",
    "#### Attack Commands: Run with `sh`\n",
    "```sh\nsecurity import /tmp/certs.pem -k\n```"
   ]
  },
  {
   "cell_type": "code",
   "execution_count": null,
   "id": "695facd6",
   "metadata": {},
   "outputs": [],
   "source": "Invoke-AtomicTest T1555.001 -TestNumbers 3"
  },
  {
   "cell_type": "markdown",
   "id": "2a3e8ad6",
   "metadata": {},
   "source": "## Detection\nUnlocking the keychain and using passwords from it is a very common process, so there is likely to be a lot of noise in any detection technique. Monitoring of system calls to the keychain can help determine if there is a suspicious process trying to access it."
  }
 ],
 "metadata": {
  "kernelspec": {
   "display_name": ".NET (PowerShell)",
   "language": "pwsh",
   "name": ".net-powershell"
  },
  "language_info": {
   "file_extension": ".ps1",
   "mimetype": "text/x-powershell",
   "name": "pwsh",
   "pygments_lexer": "powershell",
   "version": "7.0"
  }
 },
 "nbformat": 4,
 "nbformat_minor": 5
}