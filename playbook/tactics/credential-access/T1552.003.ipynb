{
 "cells": [
  {
   "cell_type": "markdown",
   "id": "f0f8124e",
   "metadata": {},
   "source": "# T1552.003 - Bash History\nAdversaries may search the bash command history on compromised systems for insecurely stored credentials. Bash keeps track of the commands users type on the command-line with the \"history\" utility. Once a user logs out, the history is flushed to the user\u2019s <code>.bash_history</code> file. For each user, this file resides at the same location: <code>~/.bash_history</code>. Typically, this file keeps track of the user\u2019s last 500 commands. Users often type usernames and passwords on the command-line as parameters to programs, which then get saved to this file when they log out. Adversaries can abuse this by looking through the file for potential credentials. (Citation: External to DA, the OS X Way)"
  },
  {
   "cell_type": "markdown",
   "id": "7133d3a9",
   "metadata": {},
   "source": "## Atomic Tests"
  },
  {
   "cell_type": "markdown",
   "id": "08f5010f",
   "metadata": {},
   "source": [
    "### Atomic Test #1 - Search Through Bash History",
    "Search through bash history for specifice commands we want to capture\n",
    "**Supported Platforms:** linux, macos",
    "#### Attack Commands: Run with `sh`\n",
    "```sh\ncat ~/.bash_history | grep -e '-p ' -e 'pass' -e 'ssh' > ~/loot.txt\n```"
   ]
  },
  {
   "cell_type": "code",
   "execution_count": null,
   "id": "ce08fe08",
   "metadata": {},
   "outputs": [],
   "source": "Invoke-AtomicTest T1552.003 -TestNumbers 1"
  },
  {
   "cell_type": "markdown",
   "id": "3d334004",
   "metadata": {},
   "source": "## Detection\nMonitoring when the user's <code>.bash_history</code> is read can help alert to suspicious activity. While users do typically rely on their history of commands, they often access this history through other utilities like \"history\" instead of commands like <code>cat ~/.bash_history</code>."
  }
 ],
 "metadata": {
  "kernelspec": {
   "display_name": ".NET (PowerShell)",
   "language": "PowerShell",
   "name": ".net-powershell"
  },
  "language_info": {
   "file_extension": ".ps1",
   "mimetype": "text/x-powershell",
   "name": "PowerShell",
   "pygments_lexer": "powershell",
   "version": "7.0"
  }
 },
 "nbformat": 4,
 "nbformat_minor": 5
}