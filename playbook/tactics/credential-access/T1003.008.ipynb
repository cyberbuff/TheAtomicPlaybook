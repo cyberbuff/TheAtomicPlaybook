{
 "cells": [
  {
   "cell_type": "markdown",
   "id": "f4033883",
   "metadata": {},
   "source": "# T1003.008 - /etc/passwd and /etc/shadow\nAdversaries may attempt to dump the contents of <code>/etc/passwd</code> and <code>/etc/shadow</code> to enable offline password cracking. Most modern Linux operating systems use a combination of <code>/etc/passwd</code> and <code>/etc/shadow</code> to store user account information including password hashes in <code>/etc/shadow</code>. By default, <code>/etc/shadow</code> is only readable by the root user.(Citation: Linux Password and Shadow File Formats)\n\nThe Linux utility, unshadow, can be used to combine the two files in a format suited for password cracking utilities such as John the Ripper:(Citation: nixCraft - John the Ripper) <code># /usr/bin/unshadow /etc/passwd /etc/shadow > /tmp/crack.password.db</code>\n"
  },
  {
   "cell_type": "markdown",
   "id": "3d470efd",
   "metadata": {},
   "source": "## Atomic Tests"
  },
  {
   "cell_type": "markdown",
   "id": "90e348db",
   "metadata": {},
   "source": [
    "### Atomic Test #1 - Access /etc/shadow (Local)",
    "/etc/shadow file is accessed in Linux environments\n",
    "**Supported Platforms:** linux",
    "\nElevation Required (e.g. root or admin)",
    "#### Attack Commands: Run with `bash`\n",
    "```bash\nsudo cat /etc/shadow > /tmp/T1003.008.txt\ncat /tmp/T1003.008.txt\n```"
   ]
  },
  {
   "cell_type": "code",
   "execution_count": null,
   "id": "a15783e2",
   "metadata": {},
   "outputs": [],
   "source": "Invoke-AtomicTest T1003.008 -TestNumbers 1"
  },
  {
   "cell_type": "markdown",
   "id": "2fe18a64",
   "metadata": {},
   "source": "#### Cleanup: \n```bash\nrm -f /tmp/T1003.008.txt\n```"
  },
  {
   "cell_type": "code",
   "execution_count": null,
   "id": "075a83d0",
   "metadata": {},
   "outputs": [],
   "source": "Invoke-AtomicTest T1003.008 -TestNumbers 1 -Cleanup"
  },
  {
   "cell_type": "markdown",
   "id": "ae073ca4",
   "metadata": {},
   "source": [
    "### Atomic Test #2 - Access /etc/master.passwd (Local)",
    "/etc/master.passwd file is accessed in FreeBSD environments\n",
    "**Supported Platforms:** linux",
    "\nElevation Required (e.g. root or admin)",
    "#### Attack Commands: Run with `sh`\n",
    "```sh\nsudo cat /etc/master.passwd > /tmp/T1003.008.txt\ncat /tmp/T1003.008.txt\n```"
   ]
  },
  {
   "cell_type": "code",
   "execution_count": null,
   "id": "f07f06cd",
   "metadata": {},
   "outputs": [],
   "source": "Invoke-AtomicTest T1003.008 -TestNumbers 2"
  },
  {
   "cell_type": "markdown",
   "id": "0345d193",
   "metadata": {},
   "source": "#### Cleanup: \n```sh\nrm -f /tmp/T1003.008.txt\n```"
  },
  {
   "cell_type": "code",
   "execution_count": null,
   "id": "27ad5eec",
   "metadata": {},
   "outputs": [],
   "source": "Invoke-AtomicTest T1003.008 -TestNumbers 2 -Cleanup"
  },
  {
   "cell_type": "markdown",
   "id": "fd1294c3",
   "metadata": {},
   "source": [
    "### Atomic Test #3 - Access /etc/passwd (Local)",
    "/etc/passwd file is accessed in FreeBSD and Linux environments\n",
    "**Supported Platforms:** linux",
    "#### Attack Commands: Run with `sh`\n",
    "```sh\ncat /etc/passwd > /tmp/T1003.008.txt\ncat /tmp/T1003.008.txt\n```"
   ]
  },
  {
   "cell_type": "code",
   "execution_count": null,
   "id": "4b7b0eb4",
   "metadata": {},
   "outputs": [],
   "source": "Invoke-AtomicTest T1003.008 -TestNumbers 3"
  },
  {
   "cell_type": "markdown",
   "id": "2f1c2172",
   "metadata": {},
   "source": "#### Cleanup: \n```sh\nrm -f /tmp/T1003.008.txt\n```"
  },
  {
   "cell_type": "code",
   "execution_count": null,
   "id": "916a2e36",
   "metadata": {},
   "outputs": [],
   "source": "Invoke-AtomicTest T1003.008 -TestNumbers 3 -Cleanup"
  },
  {
   "cell_type": "markdown",
   "id": "6636c45e",
   "metadata": {},
   "source": [
    "### Atomic Test #4 - Access /etc/{shadow,passwd,master.passwd} with a standard bin that's not cat",
    "Dump /etc/passwd, /etc/master.passwd and /etc/shadow using ed\n",
    "**Supported Platforms:** linux",
    "\nElevation Required (e.g. root or admin)",
    "#### Attack Commands: Run with `sh`\n",
    "```sh\nunamestr=$(uname)\nif [ \"$unamestr\" = 'Linux' ]; then echo -e \"e /etc/passwd\\n,p\\ne /etc/shadow\\n,p\\n\" | ed > ${output_file}; elif [ \"$unamestr\" = 'FreeBSD' ]; then echo -e \"e /etc/passwd\\n,p\\ne /etc/master.passwd\\n,p\\ne /etc/shadow\\n,p\\n\" | ed > ${output_file}; fi\n```"
   ]
  },
  {
   "cell_type": "code",
   "execution_count": null,
   "id": "a6a4854c",
   "metadata": {},
   "outputs": [],
   "source": "Invoke-AtomicTest T1003.008 -TestNumbers 4"
  },
  {
   "cell_type": "markdown",
   "id": "8e8dc9c7",
   "metadata": {},
   "source": "#### Cleanup: \n```sh\nrm -f /tmp/T1003.008.txt\n```"
  },
  {
   "cell_type": "code",
   "execution_count": null,
   "id": "e05b0fea",
   "metadata": {},
   "outputs": [],
   "source": "Invoke-AtomicTest T1003.008 -TestNumbers 4 -Cleanup"
  },
  {
   "cell_type": "markdown",
   "id": "fe75ca12",
   "metadata": {},
   "source": [
    "### Atomic Test #5 - Access /etc/{shadow,passwd,master.passwd} with shell builtins",
    "Dump /etc/passwd, /etc/master.passwd and /etc/shadow using sh builtins\n",
    "**Supported Platforms:** linux",
    "\nElevation Required (e.g. root or admin)",
    "#### Attack Commands: Run with `sh`\n",
    "```sh\ntestcat(){ (while read line; do echo $line >> /tmp/T1003.008.txt; done < $1) }\n[ \"$(uname)\" = 'FreeBSD' ] && testcat /etc/master.passwd\ntestcat /etc/passwd\ntestcat /etc/shadow\n```"
   ]
  },
  {
   "cell_type": "code",
   "execution_count": null,
   "id": "b6aa14c7",
   "metadata": {},
   "outputs": [],
   "source": "Invoke-AtomicTest T1003.008 -TestNumbers 5"
  },
  {
   "cell_type": "markdown",
   "id": "b55c5e60",
   "metadata": {},
   "source": "#### Cleanup: \n```sh\nrm -f /tmp/T1003.008.txt\n```"
  },
  {
   "cell_type": "code",
   "execution_count": null,
   "id": "7936269a",
   "metadata": {},
   "outputs": [],
   "source": "Invoke-AtomicTest T1003.008 -TestNumbers 5 -Cleanup"
  },
  {
   "cell_type": "markdown",
   "id": "70fbdeac",
   "metadata": {},
   "source": "## Detection\nThe AuditD monitoring tool, which ships stock in many Linux distributions, can be used to watch for hostile processes attempting to access <code>/etc/passwd</code> and <code>/etc/shadow</code>, alerting on the pid, process name, and arguments of such programs."
  }
 ],
 "metadata": {
  "kernelspec": {
   "display_name": ".NET (PowerShell)",
   "language": "pwsh",
   "name": ".net-powershell"
  },
  "language_info": {
   "file_extension": ".ps1",
   "mimetype": "text/x-powershell",
   "name": "pwsh",
   "pygments_lexer": "powershell",
   "version": "7.0"
  }
 },
 "nbformat": 4,
 "nbformat_minor": 5
}