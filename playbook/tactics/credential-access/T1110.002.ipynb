{
 "cells": [
  {
   "cell_type": "markdown",
   "id": "695d303c",
   "metadata": {},
   "source": "# T1110.002 - Password Cracking\nAdversaries may use password cracking to attempt to recover usable credentials, such as plaintext passwords, when credential material such as password hashes are obtained. [OS Credential Dumping](https://attack.mitre.org/techniques/T1003) can be used to obtain password hashes, this may only get an adversary so far when [Pass the Hash](https://attack.mitre.org/techniques/T1550/002) is not an option. Further,  adversaries may leverage [Data from Configuration Repository](https://attack.mitre.org/techniques/T1602) in order to obtain hashed credentials for network devices.(Citation: US-CERT-TA18-106A) \n\nTechniques to systematically guess the passwords used to compute hashes are available, or the adversary may use a pre-computed rainbow table to crack hashes. Cracking hashes is usually done on adversary-controlled systems outside of the target network.(Citation: Wikipedia Password cracking) The resulting plaintext password resulting from a successfully cracked hash may be used to log into systems, resources, and services in which the account has access."
  },
  {
   "cell_type": "markdown",
   "id": "03b2a118",
   "metadata": {},
   "source": "## Atomic Tests"
  },
  {
   "cell_type": "markdown",
   "id": "c99f5d13",
   "metadata": {},
   "source": "### Atomic Test #1 - Password Cracking with Hashcat\nExecute Hashcat.exe with provided SAM file from registry of Windows and Password list to crack against\n**Supported Platforms:** windows\n\nElevation Required (e.g. root or admin)\n#### Dependencies:  Run with `powershell`!\n##### Description: Hashcat must exist on disk at specified location (#{hashcat_exe})\n##### Check Prereq Commands:\n```cmd\nif (Test-Path  $(cmd /c echo \"PathToAtomicsFolder\\..\\ExternalPayloads\\hashcat6\\hashcat-6.1.1\\hashcat.exe\")) {exit 0} else {exit 1}\n\n```\n##### Get Prereq Commands:\n```cmd\nNew-Item -Type Directory \"PathToAtomicsFolder\\..\\ExternalPayloads\\\" -ErrorAction Ignore -Force | Out-Null\nInvoke-WebRequest \"https://www.7-zip.org/a/7z1900.exe\" -OutFile \"PathToAtomicsFolder\\..\\ExternalPayloads\\7z1900.exe\"\nStart-Process -FilePath \"PathToAtomicsFolder\\..\\ExternalPayloads\\7z1900.exe\" -ArgumentList \"/S /D=PathToAtomicsFolder\\..\\ExternalPayloads\\7zi\" -NoNewWindow\nInvoke-WebRequest \"https://hashcat.net/files/hashcat-6.1.1.7z\" -OutFile \"PathToAtomicsFolder\\..\\ExternalPayloads\\hashcat6.7z\"\nStart-Process cmd.exe -Args  \"/c %temp%\\7z\\7z.exe x %temp%\\hashcat6.7z -aoa -o%temp%\\hashcat-unzip\" -Wait\nNew-Item -ItemType Directory (Split-Path $(cmd /c echo PathToAtomicsFolder\\..\\ExternalPayloads\\hashcat6\\hashcat-6.1.1\\hashcat.exe)) -Force | Out-Null\nMove-Item \"PathToAtomicsFolder\\..\\ExternalPayloads\\hashcat-unzip\\hashcat-6.1.1\\*\" $(cmd /c echo PathToAtomicsFolder\\..\\ExternalPayloads\\hashcat6\\hashcat-6.1.1\\hashcat.exe\\..) -Force -ErrorAction Ignore\n```"
  },
  {
   "cell_type": "code",
   "execution_count": null,
   "id": "cd56dd97",
   "metadata": {},
   "outputs": [],
   "source": "Invoke-AtomicTest T1110.002 -TestNumbers 1 -GetPreReqs"
  },
  {
   "cell_type": "markdown",
   "id": "9f2e4b60",
   "metadata": {},
   "source": [
    "#### Attack Commands: Run with `command_prompt`\n",
    "```command_prompt\ncd PathToAtomicsFolder\\..\\ExternalPayloads\\hashcat6\\hashcat-6.1.1\\hashcat.exe\\..\nPathToAtomicsFolder\\..\\ExternalPayloads\\hashcat6\\hashcat-6.1.1\\hashcat.exe -a 0 -m 1000 -r .\\rules\\Incisive-leetspeak.rule PathToAtomicsFolder\\T1110.002\\src\\sam.txt PathToAtomicsFolder\\T1110.002\\src\\password.lst```"
   ]
  },
  {
   "cell_type": "code",
   "execution_count": null,
   "id": "0afc2aff",
   "metadata": {},
   "outputs": [],
   "source": "Invoke-AtomicTest T1110.002 -TestNumbers 1"
  },
  {
   "cell_type": "markdown",
   "id": "73517475",
   "metadata": {},
   "source": "#### Cleanup: \n```cmd\ndel \"PathToAtomicsFolder\\..\\ExternalPayloads\\hashcat6.7z\" >nul 2>&1\ndel \"PathToAtomicsFolder\\..\\ExternalPayloads\\7z1900.exe\" >nul 2>&1\ndel \"PathToAtomicsFolder\\..\\ExternalPayloads\\7z\" /Q /S >nul 2>&1\ndel \"PathToAtomicsFolder\\..\\ExternalPayloads\\hashcat-unzip\" /Q /S >nul 2>&1```"
  },
  {
   "cell_type": "code",
   "execution_count": null,
   "id": "64ea15b1",
   "metadata": {},
   "outputs": [],
   "source": "Invoke-AtomicTest T1110.002 -TestNumbers 1 -Cleanup"
  },
  {
   "cell_type": "markdown",
   "id": "02c60a0c",
   "metadata": {},
   "source": "## Detection\nIt is difficult to detect when hashes are cracked, since this is generally done outside the scope of the target network. Consider focusing efforts on detecting other adversary behavior used to acquire credential materials, such as [OS Credential Dumping](https://attack.mitre.org/techniques/T1003) or [Kerberoasting](https://attack.mitre.org/techniques/T1558/003)."
  }
 ],
 "metadata": {
  "kernelspec": {
   "display_name": ".NET (PowerShell)",
   "language": "pwsh",
   "name": ".net-powershell"
  },
  "language_info": {
   "file_extension": ".ps1",
   "mimetype": "text/x-powershell",
   "name": "pwsh",
   "pygments_lexer": "powershell",
   "version": "7.0"
  }
 },
 "nbformat": 4,
 "nbformat_minor": 5
}