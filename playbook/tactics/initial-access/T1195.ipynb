{
 "cells": [
  {
   "cell_type": "markdown",
   "id": "88c21818",
   "metadata": {},
   "source": "# T1195 - Supply Chain Compromise\nAdversaries may manipulate products or product delivery mechanisms prior to receipt by a final consumer for the purpose of data or system compromise.\n\nSupply chain compromise can take place at any stage of the supply chain including:\n\n* Manipulation of development tools\n* Manipulation of a development environment\n* Manipulation of source code repositories (public or private)\n* Manipulation of source code in open-source dependencies\n* Manipulation of software update/distribution mechanisms\n* Compromised/infected system images (multiple cases of removable media infected at the factory)(Citation: IBM Storwize)(Citation: Schneider Electric USB Malware) \n* Replacement of legitimate software with modified versions\n* Sales of modified/counterfeit products to legitimate distributors\n* Shipment interdiction\n\nWhile supply chain compromise can impact any component of hardware or software, adversaries looking to gain execution have often focused on malicious additions to legitimate software in software distribution or update channels.(Citation: Avast CCleaner3 2018)(Citation: Microsoft Dofoil 2018)(Citation: Command Five SK 2011) Targeting may be specific to a desired victim set or malicious software may be distributed to a broad set of consumers but only move on to additional tactics on specific victims.(Citation: Symantec Elderwood Sept 2012)(Citation: Avast CCleaner3 2018)(Citation: Command Five SK 2011) Popular open source projects that are used as dependencies in many applications may also be targeted as a means to add malicious code to users of the dependency.(Citation: Trendmicro NPM Compromise)"
  },
  {
   "cell_type": "markdown",
   "id": "731eaf99",
   "metadata": {},
   "source": "## Atomic Tests"
  },
  {
   "cell_type": "markdown",
   "id": "c3e7de68",
   "metadata": {},
   "source": "### Atomic Test #1 - Octopus Scanner Malware Open Source Supply Chain\nThis test simulates an adversary Octopus drop the RAT dropper ExplorerSync.db\n[octopus-scanner-malware-open-source-supply-chain](https://securitylab.github.com/research/octopus-scanner-malware-open-source-supply-chain/)\n[the-supreme-backdoor-factory](https://www.dfir.it/blog/2019/02/26/the-supreme-backdoor-factory/)\n\n**Supported Platforms:** windows\n#### Dependencies:  Run with `powershell`!\n##### Description: ExplorerSync.db must exist on disk at specified location (#{rat_payload})\n\n##### Check Prereq Commands:\n```cmd\nif (Test-Path $env:TEMP\\ExplorerSync.db) {exit 0} else {exit 1}\n\n```\n##### Get Prereq Commands:\n```cmd\nOut-File -FilePath \"$env:TEMP\\ExplorerSync.db\"\n\n```"
  },
  {
   "cell_type": "code",
   "execution_count": null,
   "id": "416db9a0",
   "metadata": {},
   "outputs": [],
   "source": "Invoke-AtomicTest T1195 -TestNumbers 1 -GetPreReqs"
  },
  {
   "cell_type": "markdown",
   "id": "f7af550f",
   "metadata": {},
   "source": [
    "#### Attack Commands: Run with `command_prompt`\n",
    "```command_prompt\ncopy %temp%\\ExplorerSync.db %temp%\\..\\Microsoft\\ExplorerSync.db\nschtasks /create /tn ExplorerSync /tr \"javaw -jar %temp%\\..\\Microsoft\\ExplorerSync.db\" /sc MINUTE /f\n```"
   ]
  },
  {
   "cell_type": "code",
   "execution_count": null,
   "id": "7d5f2e72",
   "metadata": {},
   "outputs": [],
   "source": "Invoke-AtomicTest T1195 -TestNumbers 1"
  },
  {
   "cell_type": "markdown",
   "id": "665ab033",
   "metadata": {},
   "source": "#### Cleanup: \n```cmd\nschtasks /delete /tn ExplorerSync /F 2>null\ndel %temp%\\..\\Microsoft\\ExplorerSync.db 2>null\ndel %temp%\\ExplorerSync.db 2>null\n```"
  },
  {
   "cell_type": "code",
   "execution_count": null,
   "id": "e655a9b4",
   "metadata": {},
   "outputs": [],
   "source": "Invoke-AtomicTest T1195 -TestNumbers 1 -Cleanup"
  },
  {
   "cell_type": "markdown",
   "id": "4f1e043d",
   "metadata": {},
   "source": "## Detection\nUse verification of distributed binaries through hash checking or other integrity checking mechanisms. Scan downloads for malicious signatures and attempt to test software and updates prior to deployment while taking note of potential suspicious activity. Perform physical inspection of hardware to look for potential tampering."
  },
  {
   "cell_type": "markdown",
   "id": "7b0602d8",
   "metadata": {},
   "source": "\n## Shield Active Defense\n### Decoy Network \n Create a target network with a set of target systems, for the purpose of active defense.\n \n\n Decoy networks are comprised of multiple computing resources that can be used for defensive or deceptive purposes.  A decoy network can be used to safely perform dynamic analysis of suspected malicious code. A defender can also use a specially crafted decoy network to perform adversary engagement. \n#### Opportunity\nHardware and/or software additions can be tested and verified in controlled environments prior to deployment.\n#### Use Case\nA defender can install any suspect hardware or software on an isolated system or network and monitor for non-standard behaviors.\n#### Procedures\nCreate an isolated network populated with decoy systems that can be used to study an adversary's tactics, techniques, and procedures (TTPs).\nUse a segregated network to visit a compromised site.  If the machine becomes infected, allow the machine to remain on with internet access to see if an adversary engages and takes action on the system.\n"
  }
 ],
 "metadata": {
  "kernelspec": {
   "display_name": ".NET (PowerShell)",
   "language": "pwsh",
   "name": ".net-powershell"
  },
  "language_info": {
   "file_extension": ".ps1",
   "mimetype": "text/x-powershell",
   "name": "pwsh",
   "pygments_lexer": "powershell",
   "version": "7.0"
  }
 },
 "nbformat": 4,
 "nbformat_minor": 5
}