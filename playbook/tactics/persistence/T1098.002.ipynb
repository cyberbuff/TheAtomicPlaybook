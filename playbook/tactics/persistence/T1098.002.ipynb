{
 "cells": [
  {
   "cell_type": "markdown",
   "id": "bd49f2e5",
   "metadata": {},
   "source": "# T1098.002 - Additional Email Delegate Permissions\nAdversaries may grant additional permission levels to maintain persistent access to an adversary-controlled email account. \n\nFor example, the <code>Add-MailboxPermission</code> [PowerShell](https://attack.mitre.org/techniques/T1059/001) cmdlet, available in on-premises Exchange and in the cloud-based service Office 365, adds permissions to a mailbox.(Citation: Microsoft - Add-MailboxPermission)(Citation: FireEye APT35 2018)(Citation: Crowdstrike Hiding in Plain Sight 2018) In Google Workspace, delegation can be enabled via the Google Admin console and users can delegate accounts via their Gmail settings.(Citation: Gmail Delegation)(Citation: Google Ensuring Your Information is Safe) \n\nAdversaries may also assign mailbox folder permissions through individual folder permissions or roles. In Office 365 environments, adversaries may assign the Default or Anonymous user permissions or roles to the Top of Information Store (root), Inbox, or other mailbox folders. By assigning one or both user permissions to a folder, the adversary can utilize any other account in the tenant to maintain persistence to the target user\u2019s mail folders.(Citation: Remediation and Hardening Strategies for Microsoft 365 to Defend Against UNC2452)\n\nThis may be used in persistent threat incidents as well as BEC (Business Email Compromise) incidents where an adversary can add [Additional Cloud Roles](https://attack.mitre.org/techniques/T1098/003) to the accounts they wish to compromise. This may further enable use of additional techniques for gaining access to systems. For example, compromised business accounts are often used to send messages to other accounts in the network of the target business while creating inbox rules (ex: [Internal Spearphishing](https://attack.mitre.org/techniques/T1534)), so the messages evade spam/phishing detection mechanisms.(Citation: Bienstock, D. - Defending O365 - 2019)"
  },
  {
   "cell_type": "markdown",
   "id": "1b137437",
   "metadata": {},
   "source": "## Atomic Tests"
  },
  {
   "cell_type": "markdown",
   "id": "4facd00f",
   "metadata": {},
   "source": "### Atomic Test #1 - EXO - Full access mailbox permission granted to a user\nGive a nominated user, full mailbox delegation access of another user.\nThis can be used by an adversary to maintain persistent access to a target's mailbox in M365.\n\n**Supported Platforms:** office-365\n\nElevation Required (e.g. root or admin)\n#### Dependencies:  Run with `powershell`!\n##### Description: ExchangeOnlineManagement PowerShell module must be installed\n\n##### Check Prereq Commands:\n```powershell\n$RequiredModule = Get-Module -Name ExchangeOnlineManagement -ListAvailable\nif (-not $RequiredModule) {exit 1}\nif (-not $RequiredModule.ExportedCommands['Connect-ExchangeOnline']) {exit 1} else {exit 0}\n\n```\n##### Get Prereq Commands:\n```powershell\nInstall-Module -Name ExchangeOnlineManagement         \n\n```"
  },
  {
   "cell_type": "code",
   "execution_count": null,
   "id": "fb719287",
   "metadata": {},
   "outputs": [],
   "source": "Invoke-AtomicTest T1098.002 -TestNumbers 1 -GetPreReqs"
  },
  {
   "cell_type": "markdown",
   "id": "130f9b8d",
   "metadata": {},
   "source": [
    "#### Attack Commands: Run with `powershell`\n",
    "```powershell\nImport-Module ExchangeOnlineManagement\n$secure_pwd = \"o365_password_test\" | ConvertTo-SecureString -AsPlainText -Force\n$creds = New-Object System.Management.Automation.PSCredential -ArgumentList \"o365_user_test@contoso.com\", $secure_pwd\nConnect-ExchangeOnline -Credential $creds\nAdd-MailboxPermission -Identity \"delegate@contoso.com\" -User \"operator@contoso.com\" -AccessRights FullAccess -InheritanceType All\nDisconnect-ExchangeOnline -Confirm:$false\n```"
   ]
  },
  {
   "cell_type": "code",
   "execution_count": null,
   "id": "f9357b17",
   "metadata": {},
   "outputs": [],
   "source": "Invoke-AtomicTest T1098.002 -TestNumbers 1"
  },
  {
   "cell_type": "markdown",
   "id": "697ba3b6",
   "metadata": {},
   "source": "#### Cleanup: \n```powershell\nImport-Module ExchangeOnlineManagement\n$secure_pwd = \"o365_password_test\" | ConvertTo-SecureString -AsPlainText -Force\n$creds = New-Object System.Management.Automation.PSCredential -ArgumentList \"o365_user_test@contoso.com\", $secure_pwd\nConnect-ExchangeOnline -Credential $creds\nRemove-MailboxPermission -Identity \"delegate@contoso.com\" -User \"operator@contoso.com\" -AccessRights FullAccess -InheritanceType All -Confirm:$false\nDisconnect-ExchangeOnline -Confirm:$false\n```"
  },
  {
   "cell_type": "code",
   "execution_count": null,
   "id": "f57923aa",
   "metadata": {},
   "outputs": [],
   "source": "Invoke-AtomicTest T1098.002 -TestNumbers 1 -Cleanup"
  },
  {
   "cell_type": "markdown",
   "id": "5b167a34",
   "metadata": {},
   "source": "## Detection\nMonitor for unusual Exchange and Office 365 email account permissions changes that may indicate excessively broad permissions being granted to compromised accounts.\n\nEnable the UpdateFolderPermissions action for all logon types. The mailbox audit log will forward folder permission modification events to the Unified Audit Log. Create rules to alert on ModifyFolderPermissions operations where the Anonymous or Default user is assigned permissions other than None. \n\nA larger than normal volume of emails sent from an account and similar phishing emails sent from \u202freal accounts within a network may be a sign that an account was compromised and attempts to leverage access with modified email permissions is occurring."
  }
 ],
 "metadata": {
  "kernelspec": {
   "display_name": ".NET (PowerShell)",
   "language": "pwsh",
   "name": ".net-powershell"
  },
  "language_info": {
   "file_extension": ".ps1",
   "mimetype": "text/x-powershell",
   "name": "pwsh",
   "pygments_lexer": "powershell",
   "version": "7.0"
  }
 },
 "nbformat": 4,
 "nbformat_minor": 5
}