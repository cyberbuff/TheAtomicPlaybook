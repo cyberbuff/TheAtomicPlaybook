{
 "cells": [
  {
   "cell_type": "markdown",
   "id": "53140979",
   "metadata": {},
   "source": "# T1154 - Trap\nThe <code>trap</code> command allows programs and shells to specify commands that will be executed upon receiving interrupt signals. A common situation is a script allowing for graceful termination and handling of common  keyboard interrupts like <code>ctrl+c</code> and <code>ctrl+d</code>. Adversaries can use this to register code to be executed when the shell encounters specific interrupts either to gain execution or as a persistence mechanism. Trap commands are of the following format <code>trap 'command list' signals</code> where \"command list\" will be executed when \"signals\" are received.(Citation: Trap Manual)(Citation: Cyberciti Trap Statements)"
  },
  {
   "cell_type": "markdown",
   "id": "3ae60824",
   "metadata": {},
   "source": "## Atomic Tests:\nCurrently, no tests are available for this technique."
  },
  {
   "cell_type": "markdown",
   "id": "c05c4b83",
   "metadata": {},
   "source": "## Detection\nTrap commands must be registered for the shell or programs, so they appear in files. Monitoring files for suspicious or overly broad trap commands can narrow down suspicious behavior during an investigation. Monitor for suspicious processes executed through trap interrupts."
  }
 ],
 "metadata": {
  "kernelspec": {
   "display_name": ".NET (PowerShell)",
   "language": "PowerShell",
   "name": ".net-powershell"
  },
  "language_info": {
   "file_extension": ".ps1",
   "mimetype": "text/x-powershell",
   "name": "PowerShell",
   "pygments_lexer": "powershell",
   "version": "7.0"
  }
 },
 "nbformat": 4,
 "nbformat_minor": 5
}