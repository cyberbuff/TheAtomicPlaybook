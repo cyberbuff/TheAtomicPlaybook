{
 "cells": [
  {
   "cell_type": "markdown",
   "id": "89102fcc",
   "metadata": {},
   "source": "# T1543.002 - Systemd Service\nAdversaries may create or modify systemd services to repeatedly execute malicious payloads as part of persistence. Systemd is a system and service manager commonly used for managing background daemon processes (also known as services) and other system resources.(Citation: Linux man-pages: systemd January 2014) Systemd is the default initialization (init) system on many Linux distributions replacing legacy init systems, including SysVinit and Upstart, while remaining backwards compatible.  \n\nSystemd utilizes unit configuration files with the `.service` file extension to encode information about a service's process. By default, system level unit files are stored in the `/systemd/system` directory of the root owned directories (`/`). User level unit files are stored in the `/systemd/user` directories of the user owned directories (`$HOME`).(Citation: lambert systemd 2022) \n\nInside the `.service` unit files, the following directives are used to execute commands:(Citation: freedesktop systemd.service)  \n\n* `ExecStart`, `ExecStartPre`, and `ExecStartPost` directives execute when a service is started manually by `systemctl` or on system start if the service is set to automatically start.\n* `ExecReload` directive executes when a service restarts. \n* `ExecStop`, `ExecStopPre`, and `ExecStopPost` directives execute when a service is stopped.  \n\nAdversaries have created new service files, altered the commands a `.service` file\u2019s directive executes, and modified the user directive a `.service` file executes as, which could result in privilege escalation. Adversaries may also place symbolic links in these directories, enabling systemd to find these payloads regardless of where they reside on the filesystem.(Citation: Anomali Rocke March 2019)(Citation: airwalk backdoor unix systems)(Citation: Rapid7 Service Persistence 22JUNE2016) "
  },
  {
   "cell_type": "markdown",
   "id": "ca1742eb",
   "metadata": {},
   "source": "## Atomic Tests"
  },
  {
   "cell_type": "markdown",
   "id": "db37e105",
   "metadata": {},
   "source": [
    "### Atomic Test #1 - Create Systemd Service",
    "This test creates a Systemd service unit file and enables it as a service.\n",
    "**Supported Platforms:** linux",
    "#### Attack Commands: Run with `bash`\n",
    "```bash\necho \"[Unit]\" > /etc/systemd/system/art-systemd-service.service\necho \"Description=Atomic Red Team Systemd Service\" >> /etc/systemd/system/art-systemd-service.service\necho \"\" >> /etc/systemd/system/art-systemd-service.service\necho \"[Service]\" >> /etc/systemd/system/art-systemd-service.service\necho \"Type=simple\"\necho \"ExecStart=/bin/touch /tmp/art-systemd-execstart-marker\" >> /etc/systemd/system/art-systemd-service.service\necho \"ExecStartPre=/bin/touch /tmp/art-systemd-execstartpre-marker\" >> /etc/systemd/system/art-systemd-service.service\necho \"ExecStartPost=/bin/touch /tmp/art-systemd-execstartpost-marker\" >> /etc/systemd/system/art-systemd-service.service\necho \"ExecReload=/bin/touch /tmp/art-systemd-execreload-marker\" >> /etc/systemd/system/art-systemd-service.service\necho \"ExecStop=/bin/touch /tmp/art-systemd-execstop-marker\" >> /etc/systemd/system/art-systemd-service.service\necho \"ExecStopPost=/bin/touch /tmp/art-systemd-execstoppost-marker\" >> /etc/systemd/system/art-systemd-service.service\necho \"\" >> /etc/systemd/system/art-systemd-service.service\necho \"[Install]\" >> /etc/systemd/system/art-systemd-service.service\necho \"WantedBy=default.target\" >> /etc/systemd/system/art-systemd-service.service\nsystemctl daemon-reload\nsystemctl enable art-systemd-service.service\nsystemctl start art-systemd-service.service\n```"
   ]
  },
  {
   "cell_type": "code",
   "execution_count": null,
   "id": "271a6b0f",
   "metadata": {},
   "outputs": [],
   "source": "Invoke-AtomicTest T1543.002 -TestNumbers 1"
  },
  {
   "cell_type": "markdown",
   "id": "2af8b851",
   "metadata": {},
   "source": "#### Cleanup: \n```bash\nsystemctl stop art-systemd-service.service\nsystemctl disable art-systemd-service.service\nrm -rf /etc/systemd/system/art-systemd-service.service\nsystemctl daemon-reload\n```"
  },
  {
   "cell_type": "code",
   "execution_count": null,
   "id": "a7bd4fbd",
   "metadata": {},
   "outputs": [],
   "source": "Invoke-AtomicTest T1543.002 -TestNumbers 1 -Cleanup"
  },
  {
   "cell_type": "markdown",
   "id": "53b89e18",
   "metadata": {},
   "source": [
    "### Atomic Test #2 - Create SysV Service",
    "This test creates a SysV service unit file and enables it as a service.\n",
    "**Supported Platforms:** linux",
    "#### Attack Commands: Run with `sh`\n",
    "```sh\necho '#\\!/bin/sh' > /usr/local/etc/rc.d/art-test\necho ' ' >> /usr/local/etc/rc.d/art-test\necho '#' >> /usr/local/etc/rc.d/art-test\necho '# PROVIDE: art-test' >> /usr/local/etc/rc.d/art-test\necho '# REQUIRE: LOGIN' >> /usr/local/etc/rc.d/art-test\necho '# KEYWORD: shutdown' >> /usr/local/etc/rc.d/art-test\necho ' ' >> /usr/local/etc/rc.d/art-test\necho '. /etc/rc.subr' >> /usr/local/etc/rc.d/art-test\necho ' ' >> /usr/local/etc/rc.d/art-test\necho 'name=\"art_test\"' >> /usr/local/etc/rc.d/art-test\necho 'rcvar=art_test_enable' >> /usr/local/etc/rc.d/art-test\necho 'load_rc_config ${name}' >> /usr/local/etc/rc.d/art-test\necho 'command=\"/usr/bin/touch\"' >> /usr/local/etc/rc.d/art-test\necho 'start_cmd=\"art_test_start\"' >> /usr/local/etc/rc.d/art-test\necho '' >> /usr/local/etc/rc.d/art-test\necho 'art_test_start()' >> /usr/local/etc/rc.d/art-test     \necho '{' >> /usr/local/etc/rc.d/art-test\necho '  ${command} /tmp/art-test.marker' >> /usr/local/etc/rc.d/art-test\necho '}' >> /usr/local/etc/rc.d/art-test\necho ' ' >> /usr/local/etc/rc.d/art-test     \necho 'run_rc_command \"$1\"' >> /usr/local/etc/rc.d/art-test\nchmod +x /usr/local/etc/rc.d/art-test\nservice art-test enable\nservice art-test start\n```"
   ]
  },
  {
   "cell_type": "code",
   "execution_count": null,
   "id": "2b27be3a",
   "metadata": {},
   "outputs": [],
   "source": "Invoke-AtomicTest T1543.002 -TestNumbers 2"
  },
  {
   "cell_type": "markdown",
   "id": "bc204f28",
   "metadata": {},
   "source": "#### Cleanup: \n```sh\nsysrc -x art_test_enable\nrm -f /usr/local/etc/rc.d/art-test\n```"
  },
  {
   "cell_type": "code",
   "execution_count": null,
   "id": "7f08346b",
   "metadata": {},
   "outputs": [],
   "source": "Invoke-AtomicTest T1543.002 -TestNumbers 2 -Cleanup"
  },
  {
   "cell_type": "markdown",
   "id": "7a993564",
   "metadata": {},
   "source": "### Atomic Test #3 - Create Systemd Service file,  Enable the service , Modify and Reload the service.\nThis test creates a systemd service unit file and enables it to autostart on boot. Once service is created and enabled, it also modifies this same service file showcasing both Creation and Modification of system process. \n\n**Supported Platforms:** linux\n\nElevation Required (e.g. root or admin)\n#### Dependencies:  Run with `bash`!\n##### Description: System must be Ubuntu ,Kali OR CentOS.\n\n##### Check Prereq Commands:\n```bash\nif [ $(cat /etc/os-release | grep -i ID=ubuntu) ] || [ $(cat /etc/os-release | grep -i ID=kali) ] || [ $(cat /etc/os-release | grep -i 'ID=\"centos\"') ]; then exit /b 0; else exit /b 1; fi;\n\n```\n##### Get Prereq Commands:\n```bash\necho Please run from Ubuntu ,Kali OR CentOS.\n\n```"
  },
  {
   "cell_type": "code",
   "execution_count": null,
   "id": "c8ee26cd",
   "metadata": {},
   "outputs": [],
   "source": "Invoke-AtomicTest T1543.002 -TestNumbers 3 -GetPreReqs"
  },
  {
   "cell_type": "markdown",
   "id": "6bb3c7bd",
   "metadata": {},
   "source": [
    "#### Attack Commands: Run with `bash`\n",
    "```bash\ncat > /etc/init.d/T1543.002 << EOF\n#!/bin/bash\n### BEGIN INIT INFO\n# Provides : Atomic Test T1543.002\n# Required-Start: $all\n# Required-Stop : \n# Default-Start: 2 3 4 5\n# Default-Stop: \n# Short Description: Atomic Test for Systemd Service Creation\n### END INIT INFO\npython3 -c \"import os, base64;exec(base64.b64decode('aW1wb3J0IG9zCm9zLnBvcGVuKCdlY2hvIGF0b21pYyB0ZXN0IGZvciBDcmVhdGluZyBTeXN0ZW1kIFNlcnZpY2UgVDE1NDMuMDAyID4gL3RtcC9UMTU0My4wMDIuc3lzdGVtZC5zZXJ2aWNlLmNyZWF0aW9uJykK'))\"\nEOF\n\nchmod +x /etc/init.d/T1543.002\nif [ $(cat /etc/os-release | grep -i ID=ubuntu) ] || [ $(cat /etc/os-release | grep -i ID=kali) ]; then update-rc.d T1543.002 defaults; elif [ $(cat /etc/os-release | grep -i 'ID=\"centos\"') ]; then chkconfig T1543.002 on ; else echo \"Please run this test on Ubnutu , kali OR centos\" ; fi ;\nsystemctl enable T1543.002\nsystemctl start T1543.002\n\necho \"python3 -c \\\"import os, base64;exec(base64.b64decode('aW1wb3J0IG9zCm9zLnBvcGVuKCdlY2hvIGF0b21pYyB0ZXN0IGZvciBtb2RpZnlpbmcgYSBTeXN0ZW1kIFNlcnZpY2UgVDE1NDMuMDAyID4gL3RtcC9UMTU0My4wMDIuc3lzdGVtZC5zZXJ2aWNlLm1vZGlmaWNhdGlvbicpCg=='))\\\"\" | sudo tee -a /etc/init.d/T1543.002\nsystemctl daemon-reload\nsystemctl restart T1543.002\n```"
   ]
  },
  {
   "cell_type": "code",
   "execution_count": null,
   "id": "c945b5c1",
   "metadata": {},
   "outputs": [],
   "source": "Invoke-AtomicTest T1543.002 -TestNumbers 3"
  },
  {
   "cell_type": "markdown",
   "id": "2ad7186b",
   "metadata": {},
   "source": "#### Cleanup: \n```bash\nsystemctl stop T1543.002\nsystemctl disable T1543.002\nrm -rf /etc/init.d/T1543.002\nsystemctl daemon-reload\n```"
  },
  {
   "cell_type": "code",
   "execution_count": null,
   "id": "c2a7e95c",
   "metadata": {},
   "outputs": [],
   "source": "Invoke-AtomicTest T1543.002 -TestNumbers 3 -Cleanup"
  },
  {
   "cell_type": "markdown",
   "id": "b2fdd8c7",
   "metadata": {},
   "source": "## Detection\nMonitor file creation and modification events of Systemd service unit configuration files in the default directory locations for `root` & `user` level permissions. Suspicious processes or scripts spawned in this manner will have a parent process of \u2018systemd\u2019, a parent process ID of 1, and will usually execute as the `root` user.(Citation: lambert systemd 2022) \n\nSuspicious systemd services can also be identified by comparing results against a trusted system baseline. Malicious systemd services may be detected by using the systemctl utility to examine system wide services: `systemctl list-units -\u2013type=service \u2013all`. Analyze the contents of `.service` files present on the file system and ensure that they refer to legitimate, expected executables, and symbolic links.(Citation: Berba hunting linux systemd)\n\nAuditing the execution and command-line arguments of the `systemctl` utility, as well related utilities such as `/usr/sbin/service` may reveal malicious systemd service execution."
  }
 ],
 "metadata": {
  "kernelspec": {
   "display_name": ".NET (PowerShell)",
   "language": "pwsh",
   "name": ".net-powershell"
  },
  "language_info": {
   "file_extension": ".ps1",
   "mimetype": "text/x-powershell",
   "name": "pwsh",
   "pygments_lexer": "powershell",
   "version": "7.0"
  }
 },
 "nbformat": 4,
 "nbformat_minor": 5
}