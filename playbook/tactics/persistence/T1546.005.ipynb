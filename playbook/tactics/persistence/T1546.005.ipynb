{
 "cells": [
  {
   "cell_type": "markdown",
   "id": "f8505406",
   "metadata": {},
   "source": "# T1546.005 - Trap\nAdversaries may establish persistence by executing malicious content triggered by an interrupt signal. The <code>trap</code> command allows programs and shells to specify commands that will be executed upon receiving interrupt signals. A common situation is a script allowing for graceful termination and handling of common keyboard interrupts like <code>ctrl+c</code> and <code>ctrl+d</code>.\n\nAdversaries can use this to register code to be executed when the shell encounters specific interrupts as a persistence mechanism. Trap commands are of the following format <code>trap 'command list' signals</code> where \"command list\" will be executed when \"signals\" are received.(Citation: Trap Manual)(Citation: Cyberciti Trap Statements)"
  },
  {
   "cell_type": "markdown",
   "id": "114a3194",
   "metadata": {},
   "source": "## Atomic Tests"
  },
  {
   "cell_type": "markdown",
   "id": "b56dbc16",
   "metadata": {},
   "source": [
    "### Atomic Test #1 - Trap EXIT",
    "Launch bash shell with command arg to create TRAP on EXIT.\nThe trap executes script that writes to /tmp/art-fish.txt\n",
    "**Supported Platforms:** macos, linux",
    "#### Attack Commands: Run with `sh`\n",
    "```sh\nbash -c 'trap \"nohup sh $PathToAtomicsFolder/T1546.005/src/echo-art-fish.sh\" EXIT'\n```"
   ]
  },
  {
   "cell_type": "code",
   "execution_count": null,
   "id": "47700813",
   "metadata": {},
   "outputs": [],
   "source": "Invoke-AtomicTest T1546.005 -TestNumbers 1"
  },
  {
   "cell_type": "markdown",
   "id": "c999bed6",
   "metadata": {},
   "source": "#### Cleanup: \n```sh\nrm -f /tmp/art-fish.txt\n```"
  },
  {
   "cell_type": "code",
   "execution_count": null,
   "id": "a453d248",
   "metadata": {},
   "outputs": [],
   "source": "Invoke-AtomicTest T1546.005 -TestNumbers 1 -Cleanup"
  },
  {
   "cell_type": "markdown",
   "id": "22c6f70a",
   "metadata": {},
   "source": "### Atomic Test #2 - Trap EXIT (freebsd)\nLaunch bash shell with command arg to create TRAP on EXIT.\nThe trap executes script that writes to /tmp/art-fish.txt\n\n**Supported Platforms:** linux\n#### Dependencies:  Run with `sh`!\n##### Description: Check if bash is installed.\n\n##### Check Prereq Commands:\n```sh\nif [ ! -x \"$(command -v bash)\" ]; then exit 1; else exit 0; fi;\n\n```\n##### Get Prereq Commands:\n```sh\n(which pkg && pkg install -y bash)\n\n```"
  },
  {
   "cell_type": "code",
   "execution_count": null,
   "id": "d8cb1d0c",
   "metadata": {},
   "outputs": [],
   "source": "Invoke-AtomicTest T1546.005 -TestNumbers 2 -GetPreReqs"
  },
  {
   "cell_type": "markdown",
   "id": "a2855969",
   "metadata": {},
   "source": [
    "#### Attack Commands: Run with `sh`\n",
    "```sh\nbash -c 'trap \"nohup sh $PathToAtomicsFolder/T1546.005/src/echo-art-fish.sh\" EXIT'\n```"
   ]
  },
  {
   "cell_type": "code",
   "execution_count": null,
   "id": "e8f194bb",
   "metadata": {},
   "outputs": [],
   "source": "Invoke-AtomicTest T1546.005 -TestNumbers 2"
  },
  {
   "cell_type": "markdown",
   "id": "e6de7896",
   "metadata": {},
   "source": "#### Cleanup: \n```sh\nrm -f /tmp/art-fish.txt\n```"
  },
  {
   "cell_type": "code",
   "execution_count": null,
   "id": "672f00cf",
   "metadata": {},
   "outputs": [],
   "source": "Invoke-AtomicTest T1546.005 -TestNumbers 2 -Cleanup"
  },
  {
   "cell_type": "markdown",
   "id": "a77af59b",
   "metadata": {},
   "source": [
    "### Atomic Test #3 - Trap SIGINT",
    "Launch bash shell with command arg to create TRAP on SIGINT (CTRL+C), then send SIGINT signal.\nThe trap executes script that writes to /tmp/art-fish.txt\n",
    "**Supported Platforms:** macos, linux",
    "#### Attack Commands: Run with `sh`\n",
    "```sh\nbash -c 'trap \"nohup sh $PathToAtomicsFolder/T1546.005/src/echo-art-fish.sh\" SIGINT && kill -SIGINT $$'\n```"
   ]
  },
  {
   "cell_type": "code",
   "execution_count": null,
   "id": "644ed066",
   "metadata": {},
   "outputs": [],
   "source": "Invoke-AtomicTest T1546.005 -TestNumbers 3"
  },
  {
   "cell_type": "markdown",
   "id": "7f2a7713",
   "metadata": {},
   "source": "#### Cleanup: \n```sh\nrm -f /tmp/art-fish.txt\n```"
  },
  {
   "cell_type": "code",
   "execution_count": null,
   "id": "287985a1",
   "metadata": {},
   "outputs": [],
   "source": "Invoke-AtomicTest T1546.005 -TestNumbers 3 -Cleanup"
  },
  {
   "cell_type": "markdown",
   "id": "0fce5109",
   "metadata": {},
   "source": "### Atomic Test #4 - Trap SIGINT (freebsd)\nLaunch bash shell with command arg to create TRAP on SIGINT (CTRL+C), then send SIGINT signal.\nThe trap executes script that writes to /tmp/art-fish.txt\n\n**Supported Platforms:** linux\n#### Dependencies:  Run with `sh`!\n##### Description: Check if bash is installed.\n\n##### Check Prereq Commands:\n```sh\nif [ ! -x \"$(command -v bash)\" ]; then exit 1; else exit 0; fi;\n\n```\n##### Get Prereq Commands:\n```sh\n(which pkg && pkg install -y bash)\n\n```"
  },
  {
   "cell_type": "code",
   "execution_count": null,
   "id": "5644400c",
   "metadata": {},
   "outputs": [],
   "source": "Invoke-AtomicTest T1546.005 -TestNumbers 4 -GetPreReqs"
  },
  {
   "cell_type": "markdown",
   "id": "90f9e866",
   "metadata": {},
   "source": [
    "#### Attack Commands: Run with `sh`\n",
    "```sh\nbash -c 'trap \"nohup sh $PathToAtomicsFolder/T1546.005/src/echo-art-fish.sh\" SIGINT && kill -SIGINT $$'\n```"
   ]
  },
  {
   "cell_type": "code",
   "execution_count": null,
   "id": "03d8b15c",
   "metadata": {},
   "outputs": [],
   "source": "Invoke-AtomicTest T1546.005 -TestNumbers 4"
  },
  {
   "cell_type": "markdown",
   "id": "1c43476d",
   "metadata": {},
   "source": "#### Cleanup: \n```sh\nrm -f /tmp/art-fish.txt\n```"
  },
  {
   "cell_type": "code",
   "execution_count": null,
   "id": "b19669bc",
   "metadata": {},
   "outputs": [],
   "source": "Invoke-AtomicTest T1546.005 -TestNumbers 4 -Cleanup"
  },
  {
   "cell_type": "markdown",
   "id": "40fa5f5a",
   "metadata": {},
   "source": "## Detection\nTrap commands must be registered for the shell or programs, so they appear in files. Monitoring files for suspicious or overly broad trap commands can narrow down suspicious behavior during an investigation. Monitor for suspicious processes executed through trap interrupts."
  }
 ],
 "metadata": {
  "kernelspec": {
   "display_name": ".NET (PowerShell)",
   "language": "pwsh",
   "name": ".net-powershell"
  },
  "language_info": {
   "file_extension": ".ps1",
   "mimetype": "text/x-powershell",
   "name": "pwsh",
   "pygments_lexer": "powershell",
   "version": "7.0"
  }
 },
 "nbformat": 4,
 "nbformat_minor": 5
}