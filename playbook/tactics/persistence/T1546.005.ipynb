{
 "cells": [
  {
   "cell_type": "markdown",
   "id": "8b68bbd9",
   "metadata": {},
   "source": "# T1546.005 - Trap\nAdversaries may establish persistence by executing malicious content triggered by an interrupt signal. The <code>trap</code> command allows programs and shells to specify commands that will be executed upon receiving interrupt signals. A common situation is a script allowing for graceful termination and handling of common keyboard interrupts like <code>ctrl+c</code> and <code>ctrl+d</code>.\n\nAdversaries can use this to register code to be executed when the shell encounters specific interrupts as a persistence mechanism. Trap commands are of the following format <code>trap 'command list' signals</code> where \"command list\" will be executed when \"signals\" are received.(Citation: Trap Manual)(Citation: Cyberciti Trap Statements)"
  },
  {
   "cell_type": "markdown",
   "id": "9c39dbdd",
   "metadata": {},
   "source": "## Atomic Tests"
  },
  {
   "cell_type": "markdown",
   "id": "bcc1490c",
   "metadata": {},
   "source": [
    "### Atomic Test #1 - Trap EXIT",
    "Launch bash shell with command arg to create TRAP on EXIT.\nThe trap executes script that writes to /tmp/art-fish.txt\n",
    "**Supported Platforms:** macos, linux",
    "#### Attack Commands: Run with `sh`\n",
    "```sh\nbash -c 'trap \"nohup sh $PathToAtomicsFolder/T1546.005/src/echo-art-fish.sh\" EXIT'\n```"
   ]
  },
  {
   "cell_type": "code",
   "execution_count": null,
   "id": "9a831d87",
   "metadata": {},
   "outputs": [],
   "source": "Invoke-AtomicTest T1546.005 -TestNumbers 1"
  },
  {
   "cell_type": "markdown",
   "id": "94c5ebf6",
   "metadata": {},
   "source": "#### Cleanup: \n```sh\nrm -f /tmp/art-fish.txt\n```"
  },
  {
   "cell_type": "code",
   "execution_count": null,
   "id": "06841384",
   "metadata": {},
   "outputs": [],
   "source": "Invoke-AtomicTest T1546.005 -TestNumbers 1 -Cleanup"
  },
  {
   "cell_type": "markdown",
   "id": "c69eae66",
   "metadata": {},
   "source": "### Atomic Test #2 - Trap EXIT (freebsd)\nLaunch bash shell with command arg to create TRAP on EXIT.\nThe trap executes script that writes to /tmp/art-fish.txt\n\n**Supported Platforms:** linux\n#### Dependencies:  Run with `sh`!\n##### Description: Check if bash is installed.\n\n##### Check Prereq Commands:\n```sh\nif [ ! -x \"$(command -v bash)\" ]; then exit 1; else exit 0; fi;\n\n```\n##### Get Prereq Commands:\n```sh\n(which pkg && pkg install -y bash)\n\n```"
  },
  {
   "cell_type": "code",
   "execution_count": null,
   "id": "9f8eee3c",
   "metadata": {},
   "outputs": [],
   "source": "Invoke-AtomicTest T1546.005 -TestNumbers 2 -GetPreReqs"
  },
  {
   "cell_type": "markdown",
   "id": "2504a528",
   "metadata": {},
   "source": [
    "#### Attack Commands: Run with `sh`\n",
    "```sh\nbash -c 'trap \"nohup sh $PathToAtomicsFolder/T1546.005/src/echo-art-fish.sh\" EXIT'\n```"
   ]
  },
  {
   "cell_type": "code",
   "execution_count": null,
   "id": "e72d9304",
   "metadata": {},
   "outputs": [],
   "source": "Invoke-AtomicTest T1546.005 -TestNumbers 2"
  },
  {
   "cell_type": "markdown",
   "id": "865ad2f4",
   "metadata": {},
   "source": "#### Cleanup: \n```sh\nrm -f /tmp/art-fish.txt\n```"
  },
  {
   "cell_type": "code",
   "execution_count": null,
   "id": "d18ac33b",
   "metadata": {},
   "outputs": [],
   "source": "Invoke-AtomicTest T1546.005 -TestNumbers 2 -Cleanup"
  },
  {
   "cell_type": "markdown",
   "id": "06d79d9b",
   "metadata": {},
   "source": [
    "### Atomic Test #3 - Trap SIGINT",
    "Launch bash shell with command arg to create TRAP on SIGINT (CTRL+C), then send SIGINT signal.\nThe trap executes script that writes to /tmp/art-fish.txt\n",
    "**Supported Platforms:** macos, linux",
    "#### Attack Commands: Run with `sh`\n",
    "```sh\nbash -c 'trap \"nohup sh $PathToAtomicsFolder/T1546.005/src/echo-art-fish.sh\" SIGINT && kill -SIGINT $$'\n```"
   ]
  },
  {
   "cell_type": "code",
   "execution_count": null,
   "id": "40549b36",
   "metadata": {},
   "outputs": [],
   "source": "Invoke-AtomicTest T1546.005 -TestNumbers 3"
  },
  {
   "cell_type": "markdown",
   "id": "6c745be8",
   "metadata": {},
   "source": "#### Cleanup: \n```sh\nrm -f /tmp/art-fish.txt\n```"
  },
  {
   "cell_type": "code",
   "execution_count": null,
   "id": "619961e9",
   "metadata": {},
   "outputs": [],
   "source": "Invoke-AtomicTest T1546.005 -TestNumbers 3 -Cleanup"
  },
  {
   "cell_type": "markdown",
   "id": "513dd7be",
   "metadata": {},
   "source": "### Atomic Test #4 - Trap SIGINT (freebsd)\nLaunch bash shell with command arg to create TRAP on SIGINT (CTRL+C), then send SIGINT signal.\nThe trap executes script that writes to /tmp/art-fish.txt\n\n**Supported Platforms:** linux\n#### Dependencies:  Run with `sh`!\n##### Description: Check if bash is installed.\n\n##### Check Prereq Commands:\n```sh\nif [ ! -x \"$(command -v bash)\" ]; then exit 1; else exit 0; fi;\n\n```\n##### Get Prereq Commands:\n```sh\n(which pkg && pkg install -y bash)\n\n```"
  },
  {
   "cell_type": "code",
   "execution_count": null,
   "id": "b22b2b27",
   "metadata": {},
   "outputs": [],
   "source": "Invoke-AtomicTest T1546.005 -TestNumbers 4 -GetPreReqs"
  },
  {
   "cell_type": "markdown",
   "id": "402638a0",
   "metadata": {},
   "source": [
    "#### Attack Commands: Run with `sh`\n",
    "```sh\nbash -c 'trap \"nohup sh $PathToAtomicsFolder/T1546.005/src/echo-art-fish.sh\" SIGINT && kill -SIGINT $$'\n```"
   ]
  },
  {
   "cell_type": "code",
   "execution_count": null,
   "id": "debb56e6",
   "metadata": {},
   "outputs": [],
   "source": "Invoke-AtomicTest T1546.005 -TestNumbers 4"
  },
  {
   "cell_type": "markdown",
   "id": "a0785080",
   "metadata": {},
   "source": "#### Cleanup: \n```sh\nrm -f /tmp/art-fish.txt\n```"
  },
  {
   "cell_type": "code",
   "execution_count": null,
   "id": "ba0a4748",
   "metadata": {},
   "outputs": [],
   "source": "Invoke-AtomicTest T1546.005 -TestNumbers 4 -Cleanup"
  },
  {
   "cell_type": "markdown",
   "id": "6a209068",
   "metadata": {},
   "source": "## Detection\nTrap commands must be registered for the shell or programs, so they appear in files. Monitoring files for suspicious or overly broad trap commands can narrow down suspicious behavior during an investigation. Monitor for suspicious processes executed through trap interrupts."
  }
 ],
 "metadata": {
  "kernelspec": {
   "display_name": ".NET (PowerShell)",
   "language": "pwsh",
   "name": ".net-powershell"
  },
  "language_info": {
   "file_extension": ".ps1",
   "mimetype": "text/x-powershell",
   "name": "pwsh",
   "pygments_lexer": "powershell",
   "version": "7.0"
  }
 },
 "nbformat": 4,
 "nbformat_minor": 5
}