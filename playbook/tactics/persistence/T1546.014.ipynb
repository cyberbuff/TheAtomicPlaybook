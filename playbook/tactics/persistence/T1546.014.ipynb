{
 "cells": [
  {
   "cell_type": "markdown",
   "id": "f0c4cf7c",
   "metadata": {},
   "source": "# T1546.014 - Emond\nAdversaries may gain persistence and elevate privileges by executing malicious content triggered by the Event Monitor Daemon (emond). Emond is a [Launch Daemon](https://attack.mitre.org/techniques/T1543/004) that accepts events from various services, runs them through a simple rules engine, and takes action. The emond binary at <code>/sbin/emond</code> will load any rules from the <code>/etc/emond.d/rules/</code> directory and take action once an explicitly defined event takes place.\n\nThe rule files are in the plist format and define the name, event type, and action to take. Some examples of event types include system startup and user authentication. Examples of actions are to run a system command or send an email. The emond service will not launch if there is no file present in the QueueDirectories path <code>/private/var/db/emondClients</code>, specified in the [Launch Daemon](https://attack.mitre.org/techniques/T1543/004) configuration file at<code>/System/Library/LaunchDaemons/com.apple.emond.plist</code>.(Citation: xorrior emond Jan 2018)(Citation: magnusviri emond Apr 2016)(Citation: sentinelone macos persist Jun 2019)\n\nAdversaries may abuse this service by writing a rule to execute commands when a defined event occurs, such as system start up or user authentication.(Citation: xorrior emond Jan 2018)(Citation: magnusviri emond Apr 2016)(Citation: sentinelone macos persist Jun 2019) Adversaries may also be able to escalate privileges from administrator to root as the emond service is executed with root privileges by the [Launch Daemon](https://attack.mitre.org/techniques/T1543/004) service."
  },
  {
   "cell_type": "markdown",
   "id": "57d2b649",
   "metadata": {},
   "source": "## Atomic Tests"
  },
  {
   "cell_type": "markdown",
   "id": "33e2b8ca",
   "metadata": {},
   "source": [
    "### Atomic Test #1 - Persistance with Event Monitor - emond",
    "Establish persistence via a rule run by OSX's emond (Event Monitor) daemon at startup, based on https://posts.specterops.io/leveraging-emond-on-macos-for-persistence-a040a2785124\n",
    "**Supported Platforms:** macos",
    "\nElevation Required (e.g. root or admin)",
    "#### Attack Commands: Run with `sh`\n",
    "```sh\nsudo cp \"PathToAtomicsFolder/T1546.014/src/T1546.014_emond.plist\" /etc/emond.d/rules/T1546.014_emond.plist\nsudo touch /private/var/db/emondClients/T1546.014\n```"
   ]
  },
  {
   "cell_type": "code",
   "execution_count": null,
   "id": "0a4ad8ab",
   "metadata": {},
   "outputs": [],
   "source": "Invoke-AtomicTest T1546.014 -TestNumbers 1"
  },
  {
   "cell_type": "markdown",
   "id": "484db963",
   "metadata": {},
   "source": "#### Cleanup: \n```sh\nsudo rm /etc/emond.d/rules/T1546.014_emond.plist\nsudo rm /private/var/db/emondClients/T1546.014\n```"
  },
  {
   "cell_type": "code",
   "execution_count": null,
   "id": "2c1f7feb",
   "metadata": {},
   "outputs": [],
   "source": "Invoke-AtomicTest T1546.014 -TestNumbers 1 -Cleanup"
  },
  {
   "cell_type": "markdown",
   "id": "041d9204",
   "metadata": {},
   "source": "## Detection\nMonitor emond rules creation by checking for files created or modified in <code>/etc/emond.d/rules/</code> and <code>/private/var/db/emondClients</code>."
  }
 ],
 "metadata": {
  "kernelspec": {
   "display_name": ".NET (PowerShell)",
   "language": "pwsh",
   "name": ".net-powershell"
  },
  "language_info": {
   "file_extension": ".ps1",
   "mimetype": "text/x-powershell",
   "name": "pwsh",
   "pygments_lexer": "powershell",
   "version": "7.0"
  }
 },
 "nbformat": 4,
 "nbformat_minor": 5
}