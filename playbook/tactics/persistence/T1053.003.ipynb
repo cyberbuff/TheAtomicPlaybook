{
 "cells": [
  {
   "cell_type": "markdown",
   "id": "8e21dfcf",
   "metadata": {},
   "source": "# T1053.003 - Cron\nAdversaries may abuse the <code>cron</code> utility to perform task scheduling for initial or recurring execution of malicious code.(Citation: 20 macOS Common Tools and Techniques) The <code>cron</code> utility is a time-based job scheduler for Unix-like operating systems.  The <code> crontab</code> file contains the schedule of cron entries to be run and the specified times for execution. Any <code>crontab</code> files are stored in operating system-specific file paths.\n\nAn adversary may use <code>cron</code> in Linux or Unix environments to execute programs at system startup or on a scheduled basis for [Persistence](https://attack.mitre.org/tactics/TA0003). "
  },
  {
   "cell_type": "markdown",
   "id": "a2662ab9",
   "metadata": {},
   "source": "## Atomic Tests"
  },
  {
   "cell_type": "markdown",
   "id": "62e03fed",
   "metadata": {},
   "source": [
    "### Atomic Test #1 - Cron - Replace crontab with referenced file",
    "This test replaces the current user's crontab file with the contents of the referenced file. This technique was used by numerous IoT automated exploitation attacks.\n",
    "**Supported Platforms:** linux, macos",
    "#### Attack Commands: Run with `sh`\n",
    "```sh\ncrontab -l > /tmp/notevil\necho \"* * * * * /tmp/evil.sh\" > /tmp/persistevil && crontab /tmp/persistevil\n```"
   ]
  },
  {
   "cell_type": "code",
   "execution_count": null,
   "id": "3e3ccfe7",
   "metadata": {},
   "outputs": [],
   "source": "Invoke-AtomicTest T1053.003 -TestNumbers 1"
  },
  {
   "cell_type": "markdown",
   "id": "4649af1c",
   "metadata": {},
   "source": "#### Cleanup: \n```sh\ncrontab /tmp/notevil\n```"
  },
  {
   "cell_type": "code",
   "execution_count": null,
   "id": "6bf73885",
   "metadata": {},
   "outputs": [],
   "source": "Invoke-AtomicTest T1053.003 -TestNumbers 1 -Cleanup"
  },
  {
   "cell_type": "markdown",
   "id": "b0bc5c5c",
   "metadata": {},
   "source": [
    "### Atomic Test #2 - Cron - Add script to all cron subfolders",
    "This test adds a script to /etc/cron.hourly, /etc/cron.daily, /etc/cron.monthly and /etc/cron.weekly folders configured to execute on a schedule. This technique was used by the threat actor Rocke during the exploitation of Linux web servers.\n",
    "**Supported Platforms:** macos, linux",
    "\nElevation Required (e.g. root or admin)",
    "#### Attack Commands: Run with `bash`\n",
    "```bash\necho \"echo 'Hello from Atomic Red Team' > /tmp/atomic.log\" > /etc/cron.daily/persistevil\necho \"echo 'Hello from Atomic Red Team' > /tmp/atomic.log\" > /etc/cron.hourly/persistevil\necho \"echo 'Hello from Atomic Red Team' > /tmp/atomic.log\" > /etc/cron.monthly/persistevil\necho \"echo 'Hello from Atomic Red Team' > /tmp/atomic.log\" > /etc/cron.weekly/persistevil\n```"
   ]
  },
  {
   "cell_type": "code",
   "execution_count": null,
   "id": "89b6f799",
   "metadata": {},
   "outputs": [],
   "source": "Invoke-AtomicTest T1053.003 -TestNumbers 2"
  },
  {
   "cell_type": "markdown",
   "id": "4578009a",
   "metadata": {},
   "source": "#### Cleanup: \n```bash\nrm /etc/cron.daily/persistevil\nrm /etc/cron.hourly/persistevil\nrm /etc/cron.monthly/persistevil\nrm /etc/cron.weekly/persistevil\n```"
  },
  {
   "cell_type": "code",
   "execution_count": null,
   "id": "eb4c7f40",
   "metadata": {},
   "outputs": [],
   "source": "Invoke-AtomicTest T1053.003 -TestNumbers 2 -Cleanup"
  },
  {
   "cell_type": "markdown",
   "id": "17e418d5",
   "metadata": {},
   "source": [
    "### Atomic Test #3 - Cron - Add script to /etc/cron.d folder",
    "This test adds a script to /etc/cron.d folder configured to execute on a schedule.\n",
    "**Supported Platforms:** linux",
    "\nElevation Required (e.g. root or admin)",
    "#### Attack Commands: Run with `sh`\n",
    "```sh\necho \"echo '*/5     *       *       *       *       root    echo \"Hello from Atomic Red Team\"' > /tmp/atomic.log\" > /etc/cron.d/persistevil\n```"
   ]
  },
  {
   "cell_type": "code",
   "execution_count": null,
   "id": "6e777107",
   "metadata": {},
   "outputs": [],
   "source": "Invoke-AtomicTest T1053.003 -TestNumbers 3"
  },
  {
   "cell_type": "markdown",
   "id": "296373bf",
   "metadata": {},
   "source": "#### Cleanup: \n```sh\nrm /etc/cron.d/persistevil\n```"
  },
  {
   "cell_type": "code",
   "execution_count": null,
   "id": "05594366",
   "metadata": {},
   "outputs": [],
   "source": "Invoke-AtomicTest T1053.003 -TestNumbers 3 -Cleanup"
  },
  {
   "cell_type": "markdown",
   "id": "c382f601",
   "metadata": {},
   "source": [
    "### Atomic Test #4 - Cron - Add script to /var/spool/cron/crontabs/ folder",
    "This test adds a script to a /var/spool/cron/crontabs folder configured to execute on a schedule. This technique was used by the threat actor Rocke during the exploitation of Linux web servers.\n",
    "**Supported Platforms:** linux",
    "\nElevation Required (e.g. root or admin)",
    "#### Attack Commands: Run with `bash`\n",
    "```bash\necho \"echo 'Hello from Atomic Red Team' > /tmp/atomic.log\" >> /var/spool/cron/crontabs/persistevil\n```"
   ]
  },
  {
   "cell_type": "code",
   "execution_count": null,
   "id": "ff0437dd",
   "metadata": {},
   "outputs": [],
   "source": "Invoke-AtomicTest T1053.003 -TestNumbers 4"
  },
  {
   "cell_type": "markdown",
   "id": "5c6defb3",
   "metadata": {},
   "source": "#### Cleanup: \n```bash\nrm /var/spool/cron/crontabs/persistevil\n```"
  },
  {
   "cell_type": "code",
   "execution_count": null,
   "id": "3d1a4bf7",
   "metadata": {},
   "outputs": [],
   "source": "Invoke-AtomicTest T1053.003 -TestNumbers 4 -Cleanup"
  },
  {
   "cell_type": "markdown",
   "id": "c4721d55",
   "metadata": {},
   "source": "## Detection\nMonitor scheduled task creation from common utilities using command-line invocation. Legitimate scheduled tasks may be created during installation of new software or through system administration functions. Look for changes to tasks that do not correlate with known software, patch cycles, etc.  \n\nSuspicious program execution through scheduled tasks may show up as outlier processes that have not been seen before when compared against historical data. Data and events should not be viewed in isolation, but as part of a chain of behavior that could lead to other activities, such as network connections made for Command and Control, learning details about the environment through Discovery, and Lateral Movement. "
  }
 ],
 "metadata": {
  "kernelspec": {
   "display_name": ".NET (PowerShell)",
   "language": "pwsh",
   "name": ".net-powershell"
  },
  "language_info": {
   "file_extension": ".ps1",
   "mimetype": "text/x-powershell",
   "name": "pwsh",
   "pygments_lexer": "powershell",
   "version": "7.0"
  }
 },
 "nbformat": 4,
 "nbformat_minor": 5
}