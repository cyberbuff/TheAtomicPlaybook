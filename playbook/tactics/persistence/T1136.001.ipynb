{
 "cells": [
  {
   "cell_type": "markdown",
   "id": "d4f43aa3",
   "metadata": {},
   "source": "# T1136.001 - Local Account\nAdversaries may create a local account to maintain access to victim systems. Local accounts are those configured by an organization for use by users, remote support, services, or for administration on a single system or service. With a sufficient level of access, the <code>net user /add</code> command can be used to create a local account. On macOS systems the <code>dscl -create</code> command can be used to create a local account.\n\nSuch accounts may be used to establish secondary credentialed access that do not require persistent remote access tools to be deployed on the system."
  },
  {
   "cell_type": "markdown",
   "id": "5889e958",
   "metadata": {},
   "source": "## Atomic Tests"
  },
  {
   "cell_type": "markdown",
   "id": "68291038",
   "metadata": {},
   "source": [
    "### Atomic Test #1 - Create a user account on a Linux system",
    "Create a user via useradd\n",
    "**Supported Platforms:** linux",
    "\nElevation Required (e.g. root or admin)",
    "#### Attack Commands: Run with `bash`\n",
    "```bash\nuseradd -M -N -r -s /bin/bash -c evil_account evil_user\n```"
   ]
  },
  {
   "cell_type": "code",
   "execution_count": null,
   "id": "cebd28bc",
   "metadata": {},
   "outputs": [],
   "source": "Invoke-AtomicTest T1136.001 -TestNumbers 1"
  },
  {
   "cell_type": "markdown",
   "id": "1de474fb",
   "metadata": {},
   "source": "#### Cleanup: \n```bash\nuserdel evil_user\n```"
  },
  {
   "cell_type": "code",
   "execution_count": null,
   "id": "0535d7db",
   "metadata": {},
   "outputs": [],
   "source": "Invoke-AtomicTest T1136.001 -TestNumbers 1 -Cleanup"
  },
  {
   "cell_type": "markdown",
   "id": "7b2c5352",
   "metadata": {},
   "source": [
    "### Atomic Test #2 - Create a user account on a MacOS system",
    "Creates a user on a MacOS system with dscl\n",
    "**Supported Platforms:** macos",
    "\nElevation Required (e.g. root or admin)",
    "#### Attack Commands: Run with `bash`\n",
    "```bash\ndscl . -create /Users/evil_user\ndscl . -create /Users/evil_user UserShell /bin/zsh\ndscl . -create /Users/evil_user RealName \"Evil Account\"\ndscl . -create /Users/evil_user UniqueID \"1010\"\ndscl . -create /Users/evil_user PrimaryGroupID 80\ndscl . -create /Users/evil_user NFSHomeDirectory /Users/evil_user\n```"
   ]
  },
  {
   "cell_type": "code",
   "execution_count": null,
   "id": "9e007794",
   "metadata": {},
   "outputs": [],
   "source": "Invoke-AtomicTest T1136.001 -TestNumbers 2"
  },
  {
   "cell_type": "markdown",
   "id": "b03bb949",
   "metadata": {},
   "source": "#### Cleanup: \n```bash\ndscl . -delete /Users/evil_user\n```"
  },
  {
   "cell_type": "code",
   "execution_count": null,
   "id": "e77bcbc5",
   "metadata": {},
   "outputs": [],
   "source": "Invoke-AtomicTest T1136.001 -TestNumbers 2 -Cleanup"
  },
  {
   "cell_type": "markdown",
   "id": "54b870ef",
   "metadata": {},
   "source": [
    "### Atomic Test #3 - Create a new user in a command prompt",
    "Creates a new user in a command prompt. Upon execution, \"The command completed successfully.\" will be displayed. To verify the\nnew account, run \"net user\" in powershell or CMD and observe that there is a new user named \"T1136.001_CMD\"\n",
    "**Supported Platforms:** windows",
    "\nElevation Required (e.g. root or admin)",
    "#### Attack Commands: Run with `command_prompt`\n",
    "```command_prompt\nnet user /add \"T1136.001_CMD\" \"T1136.001_CMD!\"\n```"
   ]
  },
  {
   "cell_type": "code",
   "execution_count": null,
   "id": "bb83d31c",
   "metadata": {},
   "outputs": [],
   "source": "Invoke-AtomicTest T1136.001 -TestNumbers 3"
  },
  {
   "cell_type": "markdown",
   "id": "6f6b1af3",
   "metadata": {},
   "source": "#### Cleanup: \n```cmd\nnet user /del \"T1136.001_CMD\" >nul 2>&1\n```"
  },
  {
   "cell_type": "code",
   "execution_count": null,
   "id": "c47995e9",
   "metadata": {},
   "outputs": [],
   "source": "Invoke-AtomicTest T1136.001 -TestNumbers 3 -Cleanup"
  },
  {
   "cell_type": "markdown",
   "id": "416cb9c8",
   "metadata": {},
   "source": [
    "### Atomic Test #4 - Create a new user in PowerShell",
    "Creates a new user in PowerShell. Upon execution, details about the new account will be displayed in the powershell session. To verify the\nnew account, run \"net user\" in powershell or CMD and observe that there is a new user named \"T1136.001_PowerShell\"\n",
    "**Supported Platforms:** windows",
    "\nElevation Required (e.g. root or admin)",
    "#### Attack Commands: Run with `powershell`\n",
    "```powershell\nNew-LocalUser -Name \"T1136.001_PowerShell\" -NoPassword\n```"
   ]
  },
  {
   "cell_type": "code",
   "execution_count": null,
   "id": "d5b83840",
   "metadata": {},
   "outputs": [],
   "source": "Invoke-AtomicTest T1136.001 -TestNumbers 4"
  },
  {
   "cell_type": "markdown",
   "id": "8a717608",
   "metadata": {},
   "source": "#### Cleanup: \n```powershell\nRemove-LocalUser -Name \"T1136.001_PowerShell\" -ErrorAction Ignore\n```"
  },
  {
   "cell_type": "code",
   "execution_count": null,
   "id": "e449028f",
   "metadata": {},
   "outputs": [],
   "source": "Invoke-AtomicTest T1136.001 -TestNumbers 4 -Cleanup"
  },
  {
   "cell_type": "markdown",
   "id": "00610b96",
   "metadata": {},
   "source": [
    "### Atomic Test #5 - Create a new user in Linux with `root` UID and GID.",
    "Creates a new user in Linux and adds the user to the `root` group. This technique was used by adversaries during the Butter attack campaign.\n",
    "**Supported Platforms:** linux",
    "\nElevation Required (e.g. root or admin)",
    "#### Attack Commands: Run with `bash`\n",
    "```bash\nuseradd -g 0 -M -d /root -s /bin/bash butter\nif [ $(cat /etc/os-release | grep -i 'Name=\"ubuntu\"') ]; then echo \"butter:BetterWithButter\" | sudo chpasswd; else echo \"BetterWithButter\" | passwd --stdin butter; fi;\n```"
   ]
  },
  {
   "cell_type": "code",
   "execution_count": null,
   "id": "4fc2c491",
   "metadata": {},
   "outputs": [],
   "source": "Invoke-AtomicTest T1136.001 -TestNumbers 5"
  },
  {
   "cell_type": "markdown",
   "id": "e6d23c28",
   "metadata": {},
   "source": "#### Cleanup: \n```bash\nuserdel butter\n```"
  },
  {
   "cell_type": "code",
   "execution_count": null,
   "id": "8178dde8",
   "metadata": {},
   "outputs": [],
   "source": "Invoke-AtomicTest T1136.001 -TestNumbers 5 -Cleanup"
  },
  {
   "cell_type": "markdown",
   "id": "7113e9f7",
   "metadata": {},
   "source": [
    "### Atomic Test #6 - Create a new Windows admin user",
    "Creates a new admin user in a command prompt.\n",
    "**Supported Platforms:** windows",
    "\nElevation Required (e.g. root or admin)",
    "#### Attack Commands: Run with `command_prompt`\n",
    "```command_prompt\nnet user /add \"T1136.001_Admin\" \"T1136_pass\"\nnet localgroup administrators \"T1136.001_Admin\" /add\n```"
   ]
  },
  {
   "cell_type": "code",
   "execution_count": null,
   "id": "aa468410",
   "metadata": {},
   "outputs": [],
   "source": "Invoke-AtomicTest T1136.001 -TestNumbers 6"
  },
  {
   "cell_type": "markdown",
   "id": "fa3717cf",
   "metadata": {},
   "source": "#### Cleanup: \n```cmd\nnet user /del \"T1136.001_Admin\" >nul 2>&1\n```"
  },
  {
   "cell_type": "code",
   "execution_count": null,
   "id": "366b1876",
   "metadata": {},
   "outputs": [],
   "source": "Invoke-AtomicTest T1136.001 -TestNumbers 6 -Cleanup"
  },
  {
   "cell_type": "markdown",
   "id": "e18ac0bb",
   "metadata": {},
   "source": "## Detection\nMonitor for processes and command-line parameters associated with local account creation, such as <code>net user /add</code> , <code>useradd</code> , and <code>dscl -create</code> . Collect data on account creation within a network. Event ID 4720 is generated when a user account is created on a Windows system. (Citation: Microsoft User Creation Event) Perform regular audits of local system accounts to detect suspicious accounts that may have been created by an adversary."
  }
 ],
 "metadata": {
  "kernelspec": {
   "display_name": ".NET (PowerShell)",
   "language": "PowerShell",
   "name": ".net-powershell"
  },
  "language_info": {
   "file_extension": ".ps1",
   "mimetype": "text/x-powershell",
   "name": "PowerShell",
   "pygments_lexer": "powershell",
   "version": "7.0"
  }
 },
 "nbformat": 4,
 "nbformat_minor": 5
}