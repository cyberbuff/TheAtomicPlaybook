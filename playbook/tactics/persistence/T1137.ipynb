{
 "cells": [
  {
   "cell_type": "markdown",
   "id": "f5015888",
   "metadata": {},
   "source": "# T1137 - Office Application Startup\nAdversaries may leverage Microsoft Office-based applications for persistence between startups. Microsoft Office is a fairly common application suite on Windows-based operating systems within an enterprise network. There are multiple mechanisms that can be used with Office for persistence when an Office-based application is started; this can include the use of Office Template Macros and add-ins.\n\nA variety of features have been discovered in Outlook that can be abused to obtain persistence, such as Outlook rules, forms, and Home Page.(Citation: SensePost Ruler GitHub) These persistence mechanisms can work within Outlook or be used through Office 365.(Citation: TechNet O365 Outlook Rules)"
  },
  {
   "cell_type": "markdown",
   "id": "f38371f9",
   "metadata": {},
   "source": "## Atomic Tests"
  },
  {
   "cell_type": "markdown",
   "id": "613ac5fb",
   "metadata": {},
   "source": [
    "### Atomic Test #1 - Office Application Startup - Outlook as a C2",
    "As outlined in MDSEC's Blog post https://www.mdsec.co.uk/2020/11/a-fresh-outlook-on-mail-based-persistence/ \nit is possible to use Outlook Macro as a way to achieve persistance and execute arbitrary commands. This transform Outlook into a C2.\nToo achieve this two things must happened on the syste\n- The macro security registry value must be set to '4'\n- A file called VbaProject.OTM must be created in the Outlook Folder.\n",
    "**Supported Platforms:** windows",
    "#### Attack Commands: Run with `command_prompt`\n",
    "```command_prompt\nreg add \"HKEY_CURRENT_USER\\Software\\Microsoft\\Office\\16.0\\Outlook\\Security\\Level\" /t REG_DWORD /d 1 /f\nmkdir  %APPDATA%\\Microsoft\\Outlook\\ >nul 2>&1\necho \"Atomic Red Team TEST\" > %APPDATA%\\Microsoft\\Outlook\\VbaProject.OTM\n```"
   ]
  },
  {
   "cell_type": "code",
   "execution_count": null,
   "id": "9e64f31f",
   "metadata": {},
   "outputs": [],
   "source": "Invoke-AtomicTest T1137 -TestNumbers 1"
  },
  {
   "cell_type": "markdown",
   "id": "71238dc6",
   "metadata": {},
   "source": "#### Cleanup: \n```cmd\nreg delete \"HKEY_CURRENT_USER\\Software\\Microsoft\\Office\\16.0\\Outlook\\Security\\Level\" /f >nul 2>&1\ndel %APPDATA%\\Microsoft\\Outlook\\VbaProject.OTM >nul 2>&1\n```"
  },
  {
   "cell_type": "code",
   "execution_count": null,
   "id": "5c9de900",
   "metadata": {},
   "outputs": [],
   "source": "Invoke-AtomicTest T1137 -TestNumbers 1 -Cleanup"
  },
  {
   "cell_type": "markdown",
   "id": "a3152817",
   "metadata": {},
   "source": "## Detection\nCollect process execution information including process IDs (PID) and parent process IDs (PPID) and look for abnormal chains of activity resulting from Office processes. Non-standard process execution trees may also indicate suspicious or malicious behavior. If winword.exe is the parent process for suspicious processes and activity relating to other adversarial techniques, then it could indicate that the application was used maliciously.\n\nMany Office-related persistence mechanisms require changes to the Registry and for binaries, files, or scripts to be written to disk or existing files modified to include malicious scripts. Collect events related to Registry key creation and modification for keys that could be used for Office-based persistence.(Citation: CrowdStrike Outlook Forms)(Citation: Outlook Today Home Page)\n\nMicrosoft has released a PowerShell script to safely gather mail forwarding rules and custom forms in your mail environment as well as steps to interpret the output.(Citation: Microsoft Detect Outlook Forms) SensePost, whose tool [Ruler](https://attack.mitre.org/software/S0358) can be used to carry out malicious rules, forms, and Home Page attacks, has released a tool to detect Ruler usage.(Citation: SensePost NotRuler)"
  },
  {
   "cell_type": "markdown",
   "id": "152a67dd",
   "metadata": {},
   "source": "\n## Shield Active Defense\n### System Activity Monitoring \n Collect system activity logs which can reveal adversary activity. \n\n Capturing system logs can show logins, user and system events, etc.  Collecting this data and potentially sending it to a centralized location can help reveal the presence of an adversary and the actions they perform on a compromised system.\n#### Opportunity\nThere is an opportunity to create a detection with a moderately high probability of success.\n#### Use Case\nA defender can collect system process information and look for abnormal activity tied to Office processes.\n#### Procedures\nEnsure that systems capture and retain common system level activity artifacts that might be produced.\nMonitor Windows systems for event codes that reflect an adversary changing passwords, adding accounts to groups, etc.\n"
  }
 ],
 "metadata": {
  "kernelspec": {
   "display_name": ".NET (PowerShell)",
   "language": "pwsh",
   "name": ".net-powershell"
  },
  "language_info": {
   "file_extension": ".ps1",
   "mimetype": "text/x-powershell",
   "name": "pwsh",
   "pygments_lexer": "powershell",
   "version": "7.0"
  }
 },
 "nbformat": 4,
 "nbformat_minor": 5
}