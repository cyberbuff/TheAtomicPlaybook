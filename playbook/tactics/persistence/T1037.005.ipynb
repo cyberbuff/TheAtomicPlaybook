{
 "cells": [
  {
   "cell_type": "markdown",
   "id": "3bee5133",
   "metadata": {},
   "source": "# T1037.005 - Startup Items\nAdversaries may use startup items automatically executed at boot initialization to establish persistence. Startup items execute during the final phase of the boot process and contain shell scripts or other executable files along with configuration information used by the system to determine the execution order for all startup items.(Citation: Startup Items)\n\nThis is technically a deprecated technology (superseded by [Launch Daemon](https://attack.mitre.org/techniques/T1543/004)), and thus the appropriate folder, <code>/Library/StartupItems</code> isn\u2019t guaranteed to exist on the system by default, but does appear to exist by default on macOS Sierra. A startup item is a directory whose executable and configuration property list (plist), <code>StartupParameters.plist</code>, reside in the top-level directory. \n\nAn adversary can create the appropriate folders/files in the StartupItems directory to register their own persistence mechanism.(Citation: Methods of Mac Malware Persistence) Additionally, since StartupItems run during the bootup phase of macOS, they will run as the elevated root user."
  },
  {
   "cell_type": "markdown",
   "id": "b7edc9fe",
   "metadata": {},
   "source": "## Atomic Tests"
  },
  {
   "cell_type": "markdown",
   "id": "622ab0ef",
   "metadata": {},
   "source": [
    "### Atomic Test #1 - Add file to Local Library StartupItems",
    "Modify or create an file in /Library/StartupItems\n\n[Reference](https://www.alienvault.com/blogs/labs-research/diversity-in-recent-mac-malware)\n",
    "**Supported Platforms:** macos",
    "\nElevation Required (e.g. root or admin)",
    "#### Attack Commands: Run with `sh`\n",
    "```sh\nsudo touch /Library/StartupItems/EvilStartup.plist\n```"
   ]
  },
  {
   "cell_type": "code",
   "execution_count": null,
   "id": "e9b5c43e",
   "metadata": {},
   "outputs": [],
   "source": "Invoke-AtomicTest T1037.005 -TestNumbers 1"
  },
  {
   "cell_type": "markdown",
   "id": "8f8ad8bd",
   "metadata": {},
   "source": "#### Cleanup: \n```sh\nsudo rm /Library/StartupItems/EvilStartup.plist\n```"
  },
  {
   "cell_type": "code",
   "execution_count": null,
   "id": "fcbf0a87",
   "metadata": {},
   "outputs": [],
   "source": "Invoke-AtomicTest T1037.005 -TestNumbers 1 -Cleanup"
  },
  {
   "cell_type": "markdown",
   "id": "50000c1b",
   "metadata": {},
   "source": "## Detection\nThe <code>/Library/StartupItems</code> folder can be monitored for changes. Similarly, the programs that are actually executed from this mechanism should be checked against a whitelist.\n\nMonitor processes that are executed during the bootup process to check for unusual or unknown applications and behavior."
  }
 ],
 "metadata": {
  "kernelspec": {
   "display_name": ".NET (PowerShell)",
   "language": "pwsh",
   "name": ".net-powershell"
  },
  "language_info": {
   "file_extension": ".ps1",
   "mimetype": "text/x-powershell",
   "name": "pwsh",
   "pygments_lexer": "powershell",
   "version": "7.0"
  }
 },
 "nbformat": 4,
 "nbformat_minor": 5
}