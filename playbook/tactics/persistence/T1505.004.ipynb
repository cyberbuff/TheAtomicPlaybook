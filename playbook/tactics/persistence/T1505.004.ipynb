{
 "cells": [
  {
   "cell_type": "markdown",
   "id": "1477bdad",
   "metadata": {},
   "source": "# T1505.004 - IIS Components\nAdversaries may install malicious components that run on Internet Information Services (IIS) web servers to establish persistence. IIS provides several mechanisms to extend the functionality of the web servers. For example, Internet Server Application Programming Interface (ISAPI) extensions and filters can be installed to examine and/or modify incoming and outgoing IIS web requests. Extensions and filters are deployed as DLL files that export three functions: <code>Get{Extension/Filter}Version</code>, <code>Http{Extension/Filter}Proc</code>, and (optionally) <code>Terminate{Extension/Filter}</code>. IIS modules may also be installed to extend IIS web servers.(Citation: Microsoft ISAPI Extension Overview 2017)(Citation: Microsoft ISAPI Filter Overview 2017)(Citation: IIS Backdoor 2011)(Citation: Trustwave IIS Module 2013)\n\nAdversaries may install malicious ISAPI extensions and filters to observe and/or modify traffic, execute commands on compromised machines, or proxy command and control traffic. ISAPI extensions and filters may have access to all IIS web requests and responses. For example, an adversary may abuse these mechanisms to modify HTTP responses in order to distribute malicious commands/content to previously comprised hosts.(Citation: Microsoft ISAPI Filter Overview 2017)(Citation: Microsoft ISAPI Extension Overview 2017)(Citation: Microsoft ISAPI Extension All Incoming 2017)(Citation: Dell TG-3390)(Citation: Trustwave IIS Module 2013)(Citation: MMPC ISAPI Filter 2012)\n\nAdversaries may also install malicious IIS modules to observe and/or modify traffic. IIS 7.0 introduced modules that provide the same unrestricted access to HTTP requests and responses as ISAPI extensions and filters. IIS modules can be written as a DLL that exports <code>RegisterModule</code>, or as a .NET application that interfaces with ASP.NET APIs to access IIS HTTP requests.(Citation: Microsoft IIS Modules Overview 2007)(Citation: Trustwave IIS Module 2013)(Citation: ESET IIS Malware 2021)"
  },
  {
   "cell_type": "markdown",
   "id": "de7bc7d6",
   "metadata": {},
   "source": "## Atomic Tests"
  },
  {
   "cell_type": "markdown",
   "id": "80b1167c",
   "metadata": {},
   "source": "### Atomic Test #1 - Install IIS Module using AppCmd.exe\nThe following Atomic will utilize AppCmd.exe to install a new IIS Module. IIS must be installed.\nThis atomic utilizes a DLL on disk, but to test further suspiciousness, compile and load [IIS-Raid](https://www.mdsec.co.uk/2020/02/iis-raid-backdooring-iis-using-native-modules/).\nA successful execution will install a module into IIS using AppCmd.exe.\n[Managing and installing Modules Reference](https://learn.microsoft.com/en-us/iis/get-started/introduction-to-iis/iis-modules-overview#to-install-a-module-using-appcmdexe)\n[IIS Modules](https://www.microsoft.com/en-us/security/blog/2022/12/12/iis-modules-the-evolution-of-web-shells-and-how-to-detect-them/)\n\n**Supported Platforms:** windows\n#### Dependencies:  Run with `powershell`!\n##### Description: IIS must be installed in order to add a module to IIS.\n\n##### Check Prereq Commands:\n```cmd\n$service = get-service w3svc -ErrorAction SilentlyContinue\nif($service){ Write-Host \"IIS installed on $env:computername\" } else { Write-Host \"IIS is not installed on $env:computername\" } \n\n```\n##### Get Prereq Commands:\n```cmd\nInstall IIS to continue.\n\n```"
  },
  {
   "cell_type": "code",
   "execution_count": null,
   "id": "2e427ba7",
   "metadata": {},
   "outputs": [],
   "source": "Invoke-AtomicTest T1505.004 -TestNumbers 1 -GetPreReqs"
  },
  {
   "cell_type": "markdown",
   "id": "44ba1a2a",
   "metadata": {},
   "source": [
    "#### Attack Commands: Run with `command_prompt`\n",
    "```command_prompt\n%windir%\\system32\\inetsrv\\appcmd.exe install module /name:DefaultDocumentModule_Atomic /image:%windir%\\system32\\inetsrv\\defdoc.dll\n```"
   ]
  },
  {
   "cell_type": "code",
   "execution_count": null,
   "id": "f85371ed",
   "metadata": {},
   "outputs": [],
   "source": "Invoke-AtomicTest T1505.004 -TestNumbers 1"
  },
  {
   "cell_type": "markdown",
   "id": "251619d5",
   "metadata": {},
   "source": "#### Cleanup: \n```cmd\n%windir%\\system32\\inetsrv\\appcmd.exe uninstall module DefaultDocumentModule_Atomic\n```"
  },
  {
   "cell_type": "code",
   "execution_count": null,
   "id": "d5be0324",
   "metadata": {},
   "outputs": [],
   "source": "Invoke-AtomicTest T1505.004 -TestNumbers 1 -Cleanup"
  },
  {
   "cell_type": "markdown",
   "id": "caeac5b3",
   "metadata": {},
   "source": "### Atomic Test #2 - Install IIS Module using PowerShell Cmdlet New-WebGlobalModule\nThe following Atomic will utilize PowerShell Cmdlet New-WebGlobalModule to install a new IIS Module. IIS must be installed.\nThis atomic utilizes a DLL on disk, but to test further suspiciousness, compile and load [IIS-Raid](https://www.mdsec.co.uk/2020/02/iis-raid-backdooring-iis-using-native-modules/).\nA successful execution will install a module into IIS using New-WebGlobalModule.\n[Managing IIS Modules with PowerShell](https://learn.microsoft.com/en-us/powershell/module/webadministration/set-webglobalmodule?view=windowsserver2022-ps)\n[IIS Modules](https://www.microsoft.com/en-us/security/blog/2022/12/12/iis-modules-the-evolution-of-web-shells-and-how-to-detect-them/)\n\n**Supported Platforms:** windows\n#### Dependencies:  Run with `powershell`!\n##### Description: IIS must be installed in order to add a module to IIS.\n\n##### Check Prereq Commands:\n```powershell\n$service = get-service w3svc -ErrorAction SilentlyContinue\nif($service){ Write-Host \"IIS installed on $env:computername\" } else { Write-Host \"IIS is not installed on $env:computername\" } \n\n```\n##### Get Prereq Commands:\n```powershell\nInstall IIS to continue.\n\n```"
  },
  {
   "cell_type": "code",
   "execution_count": null,
   "id": "fcefc7c1",
   "metadata": {},
   "outputs": [],
   "source": "Invoke-AtomicTest T1505.004 -TestNumbers 2 -GetPreReqs"
  },
  {
   "cell_type": "markdown",
   "id": "bda71e03",
   "metadata": {},
   "source": [
    "#### Attack Commands: Run with `powershell`\n",
    "```powershell\nNew-WebGlobalModule -Name DefaultDocumentModule_Atomic -Image %windir%\\system32\\inetsrv\\defdoc.dll\n```"
   ]
  },
  {
   "cell_type": "code",
   "execution_count": null,
   "id": "f9ce5bc1",
   "metadata": {},
   "outputs": [],
   "source": "Invoke-AtomicTest T1505.004 -TestNumbers 2"
  },
  {
   "cell_type": "markdown",
   "id": "2826fae7",
   "metadata": {},
   "source": "#### Cleanup: \n```powershell\nRemove-WebGlobalModule -Name DefaultDocumentModule_Atomic\n```"
  },
  {
   "cell_type": "code",
   "execution_count": null,
   "id": "2f446e8a",
   "metadata": {},
   "outputs": [],
   "source": "Invoke-AtomicTest T1505.004 -TestNumbers 2 -Cleanup"
  },
  {
   "cell_type": "markdown",
   "id": "ada6fe05",
   "metadata": {},
   "source": "## Detection\nMonitor for creation and/or modification of files (especially DLLs on webservers) that could be abused as malicious ISAPI extensions/filters or IIS modules. Changes to <code>%windir%\\system32\\inetsrv\\config\\applicationhost.config</code> could indicate an IIS module installation.(Citation: Microsoft IIS Modules Overview 2007)(Citation: ESET IIS Malware 2021)\n\nMonitor execution and command-line arguments of <code>AppCmd.exe</code>, which may be abused to install malicious IIS modules.(Citation: Microsoft IIS Modules Overview 2007)(Citation: Unit 42 RGDoor Jan 2018)(Citation: ESET IIS Malware 2021)"
  }
 ],
 "metadata": {
  "kernelspec": {
   "display_name": ".NET (PowerShell)",
   "language": "pwsh",
   "name": ".net-powershell"
  },
  "language_info": {
   "file_extension": ".ps1",
   "mimetype": "text/x-powershell",
   "name": "pwsh",
   "pygments_lexer": "powershell",
   "version": "7.0"
  }
 },
 "nbformat": 4,
 "nbformat_minor": 5
}