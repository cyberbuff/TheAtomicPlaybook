{
 "cells": [
  {
   "cell_type": "markdown",
   "id": "5a963814",
   "metadata": {},
   "source": "# T1176 - Browser Extensions\nAdversaries may abuse Internet browser extensions to establish persistent access to victim systems. Browser extensions or plugins are small programs that can add functionality and customize aspects of Internet browsers. They can be installed directly or through a browser's app store and generally have access and permissions to everything that the browser can access.(Citation: Wikipedia Browser Extension)(Citation: Chrome Extensions Definition)\n\nMalicious extensions can be installed into a browser through malicious app store downloads masquerading as legitimate extensions, through social engineering, or by an adversary that has already compromised a system. Security can be limited on browser app stores so it may not be difficult for malicious extensions to defeat automated scanners.(Citation: Malicious Chrome Extension Numbers) Depending on the browser, adversaries may also manipulate an extension's update url to install updates from an adversary controlled server or manipulate the mobile configuration file to silently install additional extensions.\n\nPrevious to macOS 11, adversaries could silently install browser extensions via the command line using the <code>profiles</code> tool to install malicious <code>.mobileconfig</code> files. In macOS 11+, the use of the <code>profiles</code> tool can no longer install configuration profiles, however <code>.mobileconfig</code> files can be planted and installed with user interaction.(Citation: xorrior chrome extensions macOS)\n\nOnce the extension is installed, it can browse to websites in the background, steal all information that a user enters into a browser (including credentials), and be used as an installer for a RAT for persistence.(Citation: Chrome Extension Crypto Miner)(Citation: ICEBRG Chrome Extensions)(Citation: Banker Google Chrome Extension Steals Creds)(Citation: Catch All Chrome Extension)\n\nThere have also been instances of botnets using a persistent backdoor through malicious Chrome extensions.(Citation: Stantinko Botnet) There have also been similar examples of extensions being used for command & control.(Citation: Chrome Extension C2 Malware)"
  },
  {
   "cell_type": "markdown",
   "id": "5c6dd3b0",
   "metadata": {},
   "source": "## Atomic Tests"
  },
  {
   "cell_type": "markdown",
   "id": "23b57fdb",
   "metadata": {},
   "source": [
    "### Atomic Test #1 - Chrome (Developer Mode)",
    "Turn on Chrome developer mode and Load Extension found in the src directory",
    "**Supported Platforms:** linux, windows, macos",
    "Run it with these steps!",
    "1. Navigate to [chrome://extensions](chrome://extensions) and\ntick 'Developer Mode'.\n\n2. Click 'Load unpacked extension...' and navigate to\n[Browser_Extension](../t1176/src/)\n\n3. Click 'Select'\n"
   ]
  },
  {
   "cell_type": "markdown",
   "id": "8ea65ea6",
   "metadata": {},
   "source": [
    "### Atomic Test #2 - Chrome (Chrome Web Store)",
    "Install the \"Minimum Viable Malicious Extension\" Chrome extension",
    "**Supported Platforms:** linux, windows, macos",
    "Run it with these steps!",
    "1. Navigate to https://chrome.google.com/webstore/detail/minimum-viable-malicious/odlpfdolehmhciiebahbpnaopneicend\nin Chrome\n\n2. Click 'Add to Chrome'\n"
   ]
  },
  {
   "cell_type": "markdown",
   "id": "906196e8",
   "metadata": {},
   "source": [
    "### Atomic Test #3 - Firefox",
    "Create a file called test.wma, with the duration of 30 seconds\n",
    "**Supported Platforms:** linux, windows, macos",
    "Run it with these steps!",
    "1. Navigate to [about:debugging](about:debugging) and\nclick \"Load Temporary Add-on\"\n\n2. Navigate to [manifest.json](./src/manifest.json)\n\n3. Then click 'Open'\n"
   ]
  },
  {
   "cell_type": "markdown",
   "id": "a3188bb6",
   "metadata": {},
   "source": [
    "### Atomic Test #4 - Edge Chromium Addon - VPN",
    "Adversaries may use VPN extensions in an attempt to hide traffic sent from a compromised host. This will install one (of many) available VPNS in the Edge add-on store.\n",
    "**Supported Platforms:** windows, macos",
    "Run it with these steps!",
    "1. Navigate to https://microsoftedge.microsoft.com/addons/detail/fjnehcbecaggobjholekjijaaekbnlgj\nin Edge Chromium\n\n2. Click 'Get'\n"
   ]
  },
  {
   "cell_type": "markdown",
   "id": "155e307d",
   "metadata": {},
   "source": "## Detection\nInventory and monitor browser extension installations that deviate from normal, expected, and benign extensions. Process and network monitoring can be used to detect browsers communicating with a C2 server. However, this may prove to be a difficult way of initially detecting a malicious extension depending on the nature and volume of the traffic it generates.\n\nMonitor for any new items written to the Registry or PE files written to disk. That may correlate with browser extension installation.\n\nOn macOS, monitor the command line for usage of the profiles tool, such as <code>profiles install -type=configuration</code>. Additionally, all installed extensions maintain a <code>plist</code> file in the <code>/Library/Managed Preferences/username/</code> directory. Ensure all listed files are in alignment with approved extensions.(Citation: xorrior chrome extensions macOS)"
  },
  {
   "cell_type": "markdown",
   "id": "fd54d40c",
   "metadata": {},
   "source": "\n## Shield Active Defense\n### Baseline \n Identify key system elements to establish a baseline and be prepared to reset a system to that baseline when necessary. \n\n Identify elements of software and configuration critical to a set of objectives, define their proper values, and be prepared to reset a running system to its intended state.  \n#### Opportunity\nThere is an opportunity to use tools and controls to stop an adversary's activity.\n#### Use Case\nA defender can force the removal of browser extensions that are not allowed by a corporate policy.\n#### Procedures\nMaintain a verified baseline firewall configuration and use that copy as a fallback if an adversary alters that information.\nMaintain a verified list of group policies enforced on a system and use that copy if an adversary attempts to deviate from the baseline.\n"
  }
 ],
 "metadata": {
  "kernelspec": {
   "display_name": ".NET (PowerShell)",
   "language": "PowerShell",
   "name": ".net-powershell"
  },
  "language_info": {
   "file_extension": ".ps1",
   "mimetype": "text/x-powershell",
   "name": "PowerShell",
   "pygments_lexer": "powershell",
   "version": "7.0"
  }
 },
 "nbformat": 4,
 "nbformat_minor": 5
}