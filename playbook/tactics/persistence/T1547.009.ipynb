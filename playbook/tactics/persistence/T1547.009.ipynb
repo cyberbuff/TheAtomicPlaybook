{
 "cells": [
  {
   "cell_type": "markdown",
   "id": "74c9d644",
   "metadata": {},
   "source": "# T1547.009 - Shortcut Modification\nAdversaries may create or modify shortcuts that can execute a program during system boot or user login. Shortcuts or symbolic links are used to reference other files or programs that will be opened or executed when the shortcut is clicked or executed by a system startup process.\n\nAdversaries may abuse shortcuts in the startup folder to execute their tools and achieve persistence.(Citation: Shortcut for Persistence ) Although often used as payloads in an infection chain (e.g. [Spearphishing Attachment](https://attack.mitre.org/techniques/T1566/001)), adversaries may also create a new shortcut as a means of indirection, while also abusing [Masquerading](https://attack.mitre.org/techniques/T1036) to make the malicious shortcut appear as a legitimate program. Adversaries can also edit the target path or entirely replace an existing shortcut so their malware will be executed instead of the intended legitimate program.\n\nShortcuts can also be abused to establish persistence by implementing other methods. For example, LNK browser extensions may be modified (e.g. [Browser Extensions](https://attack.mitre.org/techniques/T1176)) to persistently launch malware."
  },
  {
   "cell_type": "markdown",
   "id": "178d60cb",
   "metadata": {},
   "source": "## Atomic Tests"
  },
  {
   "cell_type": "markdown",
   "id": "6761c1e0",
   "metadata": {},
   "source": [
    "### Atomic Test #1 - Shortcut Modification",
    "This test to simulate shortcut modification and then execute. example shortcut (*.lnk , .url) strings check with powershell;\ngci -path \"C:\\Users\" -recurse -include *.url -ea SilentlyContinue | Select-String -Pattern \"exe\" | FL.\nUpon execution, calc.exe will be launched.\n",
    "**Supported Platforms:** windows",
    "#### Attack Commands: Run with `command_prompt`\n",
    "```command_prompt\necho [InternetShortcut] > %temp%\\T1547.009_modified_shortcut.url\necho URL=C:\\windows\\system32\\calc.exe >> %temp%\\T1547.009_modified_shortcut.url\n%temp%\\T1547.009_modified_shortcut.url\n```"
   ]
  },
  {
   "cell_type": "code",
   "execution_count": null,
   "id": "bd73831b",
   "metadata": {},
   "outputs": [],
   "source": "Invoke-AtomicTest T1547.009 -TestNumbers 1"
  },
  {
   "cell_type": "markdown",
   "id": "b690fbbd",
   "metadata": {},
   "source": "#### Cleanup: \n```cmd\ndel -f %temp%\\T1547.009_modified_shortcut.url >nul 2>&1\n```"
  },
  {
   "cell_type": "code",
   "execution_count": null,
   "id": "a8233a83",
   "metadata": {},
   "outputs": [],
   "source": "Invoke-AtomicTest T1547.009 -TestNumbers 1 -Cleanup"
  },
  {
   "cell_type": "markdown",
   "id": "02298ae0",
   "metadata": {},
   "source": [
    "### Atomic Test #2 - Create shortcut to cmd in startup folders",
    "LNK file to launch CMD placed in startup folder. Upon execution, open File Explorer and browse to \"%APPDATA%\\Microsoft\\Windows\\Start Menu\\Programs\\Startup\\\"\nto view the new shortcut.\n",
    "**Supported Platforms:** windows",
    "\nElevation Required (e.g. root or admin)",
    "#### Attack Commands: Run with `powershell`\n",
    "```powershell\n$Shell = New-Object -ComObject (\"WScript.Shell\")\n$ShortCut = $Shell.CreateShortcut(\"$env:APPDATA\\Microsoft\\Windows\\Start Menu\\Programs\\Startup\\T1547.009.lnk\")\n$ShortCut.TargetPath=\"cmd.exe\"\n$ShortCut.WorkingDirectory = \"C:\\Windows\\System32\";\n$ShortCut.WindowStyle = 1;\n$ShortCut.Description = \"T1547.009.\";\n$ShortCut.Save()\n\n$Shell = New-Object -ComObject (\"WScript.Shell\")\n$ShortCut = $Shell.CreateShortcut(\"$env:ProgramData\\Microsoft\\Windows\\Start Menu\\Programs\\Startup\\T1547.009.lnk\")\n$ShortCut.TargetPath=\"cmd.exe\"\n$ShortCut.WorkingDirectory = \"C:\\Windows\\System32\";\n$ShortCut.WindowStyle = 1;\n$ShortCut.Description = \"T1547.009.\";\n$ShortCut.Save()\n```"
   ]
  },
  {
   "cell_type": "code",
   "execution_count": null,
   "id": "d9a5eb52",
   "metadata": {},
   "outputs": [],
   "source": "Invoke-AtomicTest T1547.009 -TestNumbers 2"
  },
  {
   "cell_type": "markdown",
   "id": "cd566b18",
   "metadata": {},
   "source": "#### Cleanup: \n```powershell\nRemove-Item \"$env:APPDATA\\Microsoft\\Windows\\Start Menu\\Programs\\Startup\\T1547.009.lnk\" -ErrorAction Ignore\nRemove-Item \"$env:ProgramData\\Microsoft\\Windows\\Start Menu\\Programs\\Startup\\T1547.009.lnk\" -ErrorAction Ignore\n```"
  },
  {
   "cell_type": "code",
   "execution_count": null,
   "id": "56b675ce",
   "metadata": {},
   "outputs": [],
   "source": "Invoke-AtomicTest T1547.009 -TestNumbers 2 -Cleanup"
  },
  {
   "cell_type": "markdown",
   "id": "6a62b7a2",
   "metadata": {},
   "source": "## Detection\nSince a shortcut's target path likely will not change, modifications to shortcut files that do not correlate with known software changes, patches, removal, etc., may be suspicious. Analysis should attempt to relate shortcut file change or creation events to other potentially suspicious events based on known adversary behavior such as process launches of unknown executables that make network connections.\n\nMonitor for LNK files created with a Zone Identifier value greater than 1, which may indicate that the LNK file originated from outside of the network.(Citation: BSidesSLC 2020 - LNK Elastic)"
  }
 ],
 "metadata": {
  "kernelspec": {
   "display_name": ".NET (PowerShell)",
   "language": "PowerShell",
   "name": ".net-powershell"
  },
  "language_info": {
   "file_extension": ".ps1",
   "mimetype": "text/x-powershell",
   "name": "PowerShell",
   "pygments_lexer": "powershell",
   "version": "7.0"
  }
 },
 "nbformat": 4,
 "nbformat_minor": 5
}