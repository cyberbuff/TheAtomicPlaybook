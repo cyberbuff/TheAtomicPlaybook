{
 "cells": [
  {
   "cell_type": "markdown",
   "id": "66735b6d",
   "metadata": {},
   "source": "# T1136.002 - Domain Account\nAdversaries may create a domain account to maintain access to victim systems. Domain accounts are those managed by Active Directory Domain Services where access and permissions are configured across systems and services that are part of that domain. Domain accounts can cover user, administrator, and service accounts. With a sufficient level of access, the <code>net user /add /domain</code> command can be used to create a domain account.\n\nSuch accounts may be used to establish secondary credentialed access that do not require persistent remote access tools to be deployed on the system."
  },
  {
   "cell_type": "markdown",
   "id": "e2311559",
   "metadata": {},
   "source": "## Atomic Tests"
  },
  {
   "cell_type": "markdown",
   "id": "0be21954",
   "metadata": {},
   "source": [
    "### Atomic Test #1 - Create a new Windows domain admin user",
    "Creates a new domain admin user in a command prompt.\n",
    "**Supported Platforms:** windows",
    "\nElevation Required (e.g. root or admin)",
    "#### Attack Commands: Run with `command_prompt`\n",
    "```command_prompt\nnet user \"T1136.002_Admin\" \"T1136_pass123!\" /add /domain\nnet group \"Domain Admins\" \"T1136.002_Admin\" /add /domain\n```"
   ]
  },
  {
   "cell_type": "code",
   "execution_count": null,
   "id": "8a98dfe3",
   "metadata": {},
   "outputs": [],
   "source": "Invoke-AtomicTest T1136.002 -TestNumbers 1"
  },
  {
   "cell_type": "markdown",
   "id": "6aaad894",
   "metadata": {},
   "source": "#### Cleanup: \n```cmd\nnet user \"T1136.002_Admin\" >nul 2>&1 /del /domain\n```"
  },
  {
   "cell_type": "code",
   "execution_count": null,
   "id": "e925a25e",
   "metadata": {},
   "outputs": [],
   "source": "Invoke-AtomicTest T1136.002 -TestNumbers 1 -Cleanup"
  },
  {
   "cell_type": "markdown",
   "id": "eca993bb",
   "metadata": {},
   "source": [
    "### Atomic Test #2 - Create a new account similar to ANONYMOUS LOGON",
    "Create a new account similar to ANONYMOUS LOGON in a command prompt.\n",
    "**Supported Platforms:** windows",
    "\nElevation Required (e.g. root or admin)",
    "#### Attack Commands: Run with `command_prompt`\n",
    "```command_prompt\nnet user \"ANONYMOUS  LOGON\" \"T1136_pass123!\" /add /domain\n```"
   ]
  },
  {
   "cell_type": "code",
   "execution_count": null,
   "id": "fc99f68a",
   "metadata": {},
   "outputs": [],
   "source": "Invoke-AtomicTest T1136.002 -TestNumbers 2"
  },
  {
   "cell_type": "markdown",
   "id": "f0926d94",
   "metadata": {},
   "source": "#### Cleanup: \n```cmd\nnet user \"ANONYMOUS  LOGON\" >nul 2>&1 /del /domain\n```"
  },
  {
   "cell_type": "code",
   "execution_count": null,
   "id": "a581c9b3",
   "metadata": {},
   "outputs": [],
   "source": "Invoke-AtomicTest T1136.002 -TestNumbers 2 -Cleanup"
  },
  {
   "cell_type": "markdown",
   "id": "4b95af1a",
   "metadata": {},
   "source": [
    "### Atomic Test #3 - Create a new Domain Account using PowerShell",
    "Creates a new Domain User using the credentials of the Current User\n",
    "**Supported Platforms:** windows",
    "\nElevation Required (e.g. root or admin)",
    "#### Attack Commands: Run with `powershell`\n",
    "```powershell\n$SamAccountName = 'T1136.002_Admin'\n$AccountPassword = ConvertTo-SecureString 'T1136_pass123!' -AsPlainText -Force\nAdd-Type -AssemblyName System.DirectoryServices.AccountManagement\n$Context = New-Object -TypeName System.DirectoryServices.AccountManagement.PrincipalContext -ArgumentList ([System.DirectoryServices.AccountManagement.ContextType]::Domain)\n$User = New-Object -TypeName System.DirectoryServices.AccountManagement.UserPrincipal -ArgumentList ($Context)\n$User.SamAccountName = $SamAccountName\n$TempCred = New-Object System.Management.Automation.PSCredential('a', $AccountPassword)\n$User.SetPassword($TempCred.GetNetworkCredential().Password)\n$User.Enabled = $True\n$User.PasswordNotRequired = $False\n$User.DisplayName = $SamAccountName\n$User.Save()\n$User\n```"
   ]
  },
  {
   "cell_type": "code",
   "execution_count": null,
   "id": "312a0455",
   "metadata": {},
   "outputs": [],
   "source": "Invoke-AtomicTest T1136.002 -TestNumbers 3"
  },
  {
   "cell_type": "markdown",
   "id": "bceeaafe",
   "metadata": {},
   "source": "#### Cleanup: \n```powershell\ncmd /c \"net user T1136.002_Admin /del >nul 2>&1\"\n```"
  },
  {
   "cell_type": "code",
   "execution_count": null,
   "id": "943fea39",
   "metadata": {},
   "outputs": [],
   "source": "Invoke-AtomicTest T1136.002 -TestNumbers 3 -Cleanup"
  },
  {
   "cell_type": "markdown",
   "id": "af2741a1",
   "metadata": {},
   "source": "### Atomic Test #4 - Active Directory Create Admin Account\nUse Admin Credentials to Create A Domain Admin Account\n\n**Supported Platforms:** linux\n\nElevation Required (e.g. root or admin)\n#### Dependencies:  Run with `sh`!\n##### Description: Packages sssd-ad sssd-tools realmd adcli installed and realm available\n\n##### Check Prereq Commands:\n```sh\nwhich ldapadd && which ldapmodify\n\n```\n##### Get Prereq Commands:\n```sh\necho ldapadd or ldapmodify not found; exit 1\n\n```"
  },
  {
   "cell_type": "code",
   "execution_count": null,
   "id": "cf319c47",
   "metadata": {},
   "outputs": [],
   "source": "Invoke-AtomicTest T1136.002 -TestNumbers 4 -GetPreReqs"
  },
  {
   "cell_type": "markdown",
   "id": "02af68a1",
   "metadata": {},
   "source": [
    "#### Attack Commands: Run with `sh`\n",
    "```sh\necho \"dn: CN=Admin User,CN=Users,DC=example,DC=test\\nchangetype: add\\nobjectClass: top\\nobjectClass: person\\nobjectClass: organizationalPerson\\nobjectClass: user\\ncn: Admin User\\nsn: User\\ngivenName: Atomic User\\nuserPrincipalName: adminuser@example.test\\nsAMAccountName: adminuser\\nuserAccountControl: 512\\nuserPassword: {CLEARTEXT}s3CureP4ssword123!\\nmemberOf: CN=Domain Admins,CN=Users,DC=example,DC=test\" > tempadmin.ldif\necho ldapadd -H ldap://example.test:389 -x -D admin@example.test -w s3CurePssw0rD! -f tempadmin.ldif\nldapadd -H ldap://example.test:389 -x -D admin@example.test -w s3CurePssw0rD! -f tempadmin.ldif\n```"
   ]
  },
  {
   "cell_type": "code",
   "execution_count": null,
   "id": "f6619875",
   "metadata": {},
   "outputs": [],
   "source": "Invoke-AtomicTest T1136.002 -TestNumbers 4"
  },
  {
   "cell_type": "markdown",
   "id": "16675f98",
   "metadata": {},
   "source": "#### Cleanup: \n```sh\necho removing Atomic User (temporary user)\necho \"dn: cn=Atomic User,cn=Users,dc=scwxscratch,dc=dev\\nchangetype: delete\" > deleteuser.ldif\nldapmodify -H ldap://adVM:389 -x -D admin@example.test -w s3CurePssw0rD! -f deleteuser.ldif\nrm deleteuser.ldif\nrm tempadmin.ldif\n```"
  },
  {
   "cell_type": "code",
   "execution_count": null,
   "id": "07d380af",
   "metadata": {},
   "outputs": [],
   "source": "Invoke-AtomicTest T1136.002 -TestNumbers 4 -Cleanup"
  },
  {
   "cell_type": "markdown",
   "id": "b6a484a0",
   "metadata": {},
   "source": "### Atomic Test #5 - Active Directory Create User Account (Non-elevated)\nUse Admin Credentials to Create A Normal Account (as means of entry)\n\n**Supported Platforms:** linux\n\nElevation Required (e.g. root or admin)\n#### Dependencies:  Run with `sh`!\n##### Description: Packages sssd-ad sssd-tools realmd adcli installed and realm available, ldapadd, ldapmodify\n\n##### Check Prereq Commands:\n```sh\nwhich ldapadd\nwhich ldapmodify\n\n```\n##### Get Prereq Commands:\n```sh\necho ldapadd or ldapmodify not found; exit 1\n\n```"
  },
  {
   "cell_type": "code",
   "execution_count": null,
   "id": "2481e484",
   "metadata": {},
   "outputs": [],
   "source": "Invoke-AtomicTest T1136.002 -TestNumbers 5 -GetPreReqs"
  },
  {
   "cell_type": "markdown",
   "id": "904cff5b",
   "metadata": {},
   "source": [
    "#### Attack Commands: Run with `sh`\n",
    "```sh\necho \"dn: cn=Atomic User, cn=Users,dc=example,dc=test\\nobjectClass: person\\ncn: Atomic User\\nsn: User\" > tempadmin.ldif\necho ldapadd -H ldap://example.test:389 -x -D user@example.test -w s3CurePssw0rD! -f tempadmin.ldif\nldapadd -H ldap://example.test:389 -x -D user@example.test -w s3CurePssw0rD! -f tempadmin.ldif\n```"
   ]
  },
  {
   "cell_type": "code",
   "execution_count": null,
   "id": "5ed873bc",
   "metadata": {},
   "outputs": [],
   "source": "Invoke-AtomicTest T1136.002 -TestNumbers 5"
  },
  {
   "cell_type": "markdown",
   "id": "c10f8d09",
   "metadata": {},
   "source": "#### Cleanup: \n```sh\necho removing Atomic User (temporary user)\necho \"dn: cn=Atomic User,cn=Users,dc=scwxscratch,dc=dev\\nchangetype: delete\" > deleteuser.ldif\nldapmodify -H ldap://adVM:389 -x -D user@example.test -w s3CurePssw0rD! -f deleteuser.ldif\nrm deleteuser.ldif\nrm tempadmin.ldif\n```"
  },
  {
   "cell_type": "code",
   "execution_count": null,
   "id": "a429a4bf",
   "metadata": {},
   "outputs": [],
   "source": "Invoke-AtomicTest T1136.002 -TestNumbers 5 -Cleanup"
  },
  {
   "cell_type": "markdown",
   "id": "aa131ce8",
   "metadata": {},
   "source": "## Detection\nMonitor for processes and command-line parameters associated with domain account creation, such as <code>net user /add /domain</code>. Collect data on account creation within a network. Event ID 4720 is generated when a user account is created on a Windows domain controller. (Citation: Microsoft User Creation Event) Perform regular audits of domain accounts to detect suspicious accounts that may have been created by an adversary."
  }
 ],
 "metadata": {
  "kernelspec": {
   "display_name": ".NET (PowerShell)",
   "language": "pwsh",
   "name": ".net-powershell"
  },
  "language_info": {
   "file_extension": ".ps1",
   "mimetype": "text/x-powershell",
   "name": "pwsh",
   "pygments_lexer": "powershell",
   "version": "7.0"
  }
 },
 "nbformat": 4,
 "nbformat_minor": 5
}