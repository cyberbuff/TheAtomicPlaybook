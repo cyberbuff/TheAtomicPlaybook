{
 "cells": [
  {
   "cell_type": "markdown",
   "id": "c4eb0268",
   "metadata": {},
   "source": "# T1136.002 - Domain Account\nAdversaries may create a domain account to maintain access to victim systems. Domain accounts are those managed by Active Directory Domain Services where access and permissions are configured across systems and services that are part of that domain. Domain accounts can cover user, administrator, and service accounts. With a sufficient level of access, the <code>net user /add /domain</code> command can be used to create a domain account.\n\nSuch accounts may be used to establish secondary credentialed access that do not require persistent remote access tools to be deployed on the system."
  },
  {
   "cell_type": "markdown",
   "id": "a002a94f",
   "metadata": {},
   "source": "## Atomic Tests"
  },
  {
   "cell_type": "markdown",
   "id": "9d144b81",
   "metadata": {},
   "source": [
    "### Atomic Test #1 - Create a new Windows domain admin user",
    "Creates a new domain admin user in a command prompt.\n",
    "**Supported Platforms:** windows",
    "\nElevation Required (e.g. root or admin)",
    "#### Attack Commands: Run with `command_prompt`\n",
    "```command_prompt\nnet user \"T1136.002_Admin\" \"T1136_pass123!\" /add /domain\nnet group \"Domain Admins\" \"T1136.002_Admin\" /add /domain\n```"
   ]
  },
  {
   "cell_type": "code",
   "execution_count": null,
   "id": "95abe145",
   "metadata": {},
   "outputs": [],
   "source": "Invoke-AtomicTest T1136.002 -TestNumbers 1"
  },
  {
   "cell_type": "markdown",
   "id": "093d99fb",
   "metadata": {},
   "source": "#### Cleanup: \n```cmd\nnet user \"T1136.002_Admin\" >nul 2>&1 /del /domain\n```"
  },
  {
   "cell_type": "code",
   "execution_count": null,
   "id": "4f5ac03b",
   "metadata": {},
   "outputs": [],
   "source": "Invoke-AtomicTest T1136.002 -TestNumbers 1 -Cleanup"
  },
  {
   "cell_type": "markdown",
   "id": "6ff49374",
   "metadata": {},
   "source": [
    "### Atomic Test #2 - Create a new account similar to ANONYMOUS LOGON",
    "Create a new account similar to ANONYMOUS LOGON in a command prompt.\n",
    "**Supported Platforms:** windows",
    "\nElevation Required (e.g. root or admin)",
    "#### Attack Commands: Run with `command_prompt`\n",
    "```command_prompt\nnet user \"ANONYMOUS  LOGON\" \"T1136_pass123!\" /add /domain\n```"
   ]
  },
  {
   "cell_type": "code",
   "execution_count": null,
   "id": "1446939d",
   "metadata": {},
   "outputs": [],
   "source": "Invoke-AtomicTest T1136.002 -TestNumbers 2"
  },
  {
   "cell_type": "markdown",
   "id": "682197fc",
   "metadata": {},
   "source": "#### Cleanup: \n```cmd\nnet user \"ANONYMOUS  LOGON\" >nul 2>&1 /del /domain\n```"
  },
  {
   "cell_type": "code",
   "execution_count": null,
   "id": "26d9517a",
   "metadata": {},
   "outputs": [],
   "source": "Invoke-AtomicTest T1136.002 -TestNumbers 2 -Cleanup"
  },
  {
   "cell_type": "markdown",
   "id": "7e350c17",
   "metadata": {},
   "source": [
    "### Atomic Test #3 - Create a new Domain Account using PowerShell",
    "Creates a new Domain User using the credentials of the Current User\n",
    "**Supported Platforms:** windows",
    "\nElevation Required (e.g. root or admin)",
    "#### Attack Commands: Run with `powershell`\n",
    "```powershell\n$SamAccountName = 'T1136.002_Admin'\n$AccountPassword = ConvertTo-SecureString 'T1136_pass123!' -AsPlainText -Force\nAdd-Type -AssemblyName System.DirectoryServices.AccountManagement\n$Context = New-Object -TypeName System.DirectoryServices.AccountManagement.PrincipalContext -ArgumentList ([System.DirectoryServices.AccountManagement.ContextType]::Domain)\n$User = New-Object -TypeName System.DirectoryServices.AccountManagement.UserPrincipal -ArgumentList ($Context)\n$User.SamAccountName = $SamAccountName\n$TempCred = New-Object System.Management.Automation.PSCredential('a', $AccountPassword)\n$User.SetPassword($TempCred.GetNetworkCredential().Password)\n$User.Enabled = $True\n$User.PasswordNotRequired = $False\n$User.DisplayName = $SamAccountName\n$User.Save()\n$User\n```"
   ]
  },
  {
   "cell_type": "code",
   "execution_count": null,
   "id": "5353858d",
   "metadata": {},
   "outputs": [],
   "source": "Invoke-AtomicTest T1136.002 -TestNumbers 3"
  },
  {
   "cell_type": "markdown",
   "id": "abc6d46c",
   "metadata": {},
   "source": "#### Cleanup: \n```powershell\ncmd /c \"net user T1136.002_Admin /del >nul 2>&1\"\n```"
  },
  {
   "cell_type": "code",
   "execution_count": null,
   "id": "6c07c08b",
   "metadata": {},
   "outputs": [],
   "source": "Invoke-AtomicTest T1136.002 -TestNumbers 3 -Cleanup"
  },
  {
   "cell_type": "markdown",
   "id": "3f504dc0",
   "metadata": {},
   "source": "## Detection\nMonitor for processes and command-line parameters associated with domain account creation, such as <code>net user /add /domain</code>. Collect data on account creation within a network. Event ID 4720 is generated when a user account is created on a Windows domain controller. (Citation: Microsoft User Creation Event) Perform regular audits of domain accounts to detect suspicious accounts that may have been created by an adversary."
  }
 ],
 "metadata": {
  "kernelspec": {
   "display_name": ".NET (PowerShell)",
   "language": "PowerShell",
   "name": ".net-powershell"
  },
  "language_info": {
   "file_extension": ".ps1",
   "mimetype": "text/x-powershell",
   "name": "PowerShell",
   "pygments_lexer": "powershell",
   "version": "7.0"
  }
 },
 "nbformat": 4,
 "nbformat_minor": 5
}