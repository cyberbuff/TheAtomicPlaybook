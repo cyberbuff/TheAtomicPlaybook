{
 "cells": [
  {
   "cell_type": "markdown",
   "id": "5e66fdc0",
   "metadata": {},
   "source": "# T1547.010 - Port Monitors\nAdversaries may use port monitors to run an adversary supplied DLL during system boot for persistence or privilege escalation. A port monitor can be set through the <code>AddMonitor</code> API call to set a DLL to be loaded at startup.(Citation: AddMonitor) This DLL can be located in <code>C:\\Windows\\System32</code> and will be loaded by the print spooler service, spoolsv.exe, on boot. The spoolsv.exe process also runs under SYSTEM level permissions.(Citation: Bloxham) Alternatively, an arbitrary DLL can be loaded if permissions allow writing a fully-qualified pathname for that DLL to <code>HKLM\\SYSTEM\\CurrentControlSet\\Control\\Print\\Monitors</code>. \n\nThe Registry key contains entries for the following:\n\n* Local Port\n* Standard TCP/IP Port\n* USB Monitor\n* WSD Port\n\nAdversaries can use this technique to load malicious code at startup that will persist on system reboot and execute as SYSTEM."
  },
  {
   "cell_type": "markdown",
   "id": "e47c4fe3",
   "metadata": {},
   "source": "## Atomic Tests"
  },
  {
   "cell_type": "markdown",
   "id": "52557e6d",
   "metadata": {},
   "source": [
    "### Atomic Test #1 - Add Port Monitor persistence in Registry",
    "Add key-value pair to a Windows Port Monitor registry. On the subsequent reboot dll will be execute under spoolsv with NT AUTHORITY/SYSTEM privilege.",
    "**Supported Platforms:** windows",
    "\nElevation Required (e.g. root or admin)",
    "#### Attack Commands: Run with `command_prompt`\n",
    "```command_prompt\nreg add \"hklm\\system\\currentcontrolset\\control\\print\\monitors\\ART\" /v \"Atomic Red Team\" /d \"C:\\Path\\AtomicRedTeam.dll\" /t REG_SZ\n```"
   ]
  },
  {
   "cell_type": "code",
   "execution_count": null,
   "id": "d934dde6",
   "metadata": {},
   "outputs": [],
   "source": "Invoke-AtomicTest T1547.010 -TestNumbers 1"
  },
  {
   "cell_type": "markdown",
   "id": "5af02b2a",
   "metadata": {},
   "source": "#### Cleanup: \n```cmd\nreg delete \"hklm\\system\\currentcontrolset\\control\\print\\monitors\\ART\" /f >nul 2>&1\n```"
  },
  {
   "cell_type": "code",
   "execution_count": null,
   "id": "a143270a",
   "metadata": {},
   "outputs": [],
   "source": "Invoke-AtomicTest T1547.010 -TestNumbers 1 -Cleanup"
  },
  {
   "cell_type": "markdown",
   "id": "d7c8f740",
   "metadata": {},
   "source": "## Detection\nMonitor process API calls to <code>AddMonitor</code>.(Citation: AddMonitor) Monitor DLLs that are loaded by spoolsv.exe for DLLs that are abnormal. New DLLs written to the System32 directory that do not correlate with known good software or patching may be suspicious. \n\nMonitor Registry writes to <code>HKLM\\SYSTEM\\CurrentControlSet\\Control\\Print\\Monitors</code>. Run the Autoruns utility, which checks for this Registry key as a persistence mechanism.(Citation: TechNet Autoruns)"
  }
 ],
 "metadata": {
  "kernelspec": {
   "display_name": ".NET (PowerShell)",
   "language": "PowerShell",
   "name": ".net-powershell"
  },
  "language_info": {
   "file_extension": ".ps1",
   "mimetype": "text/x-powershell",
   "name": "PowerShell",
   "pygments_lexer": "powershell",
   "version": "7.0"
  }
 },
 "nbformat": 4,
 "nbformat_minor": 5
}