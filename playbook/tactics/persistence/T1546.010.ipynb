{
 "cells": [
  {
   "cell_type": "markdown",
   "id": "0ed7fee0",
   "metadata": {},
   "source": "# T1546.010 - AppInit DLLs\nAdversaries may establish persistence and/or elevate privileges by executing malicious content triggered by AppInit DLLs loaded into processes. Dynamic-link libraries (DLLs) that are specified in the <code>AppInit_DLLs</code> value in the Registry keys <code>HKEY_LOCAL_MACHINE\\Software\\Microsoft\\Windows NT\\CurrentVersion\\Windows</code> or <code>HKEY_LOCAL_MACHINE\\Software\\Wow6432Node\\Microsoft\\Windows NT\\CurrentVersion\\Windows</code> are loaded by user32.dll into every process that loads user32.dll. In practice this is nearly every program, since user32.dll is a very common library. (Citation: Elastic Process Injection July 2017)\n\nSimilar to Process Injection, these values can be abused to obtain elevated privileges by causing a malicious DLL to be loaded and run in the context of separate processes on the computer. (Citation: AppInit Registry) Malicious AppInit DLLs may also provide persistence by continuously being triggered by API activity. \n\nThe AppInit DLL functionality is disabled in Windows 8 and later versions when secure boot is enabled. (Citation: AppInit Secure Boot)"
  },
  {
   "cell_type": "markdown",
   "id": "cc93db0e",
   "metadata": {},
   "source": "## Atomic Tests"
  },
  {
   "cell_type": "markdown",
   "id": "371f21e2",
   "metadata": {},
   "source": "### Atomic Test #1 - Install AppInit Shim\nAppInit_DLLs is a mechanism that allows an arbitrary list of DLLs to be loaded into each user mode process on the system. Upon succesfully execution, \nyou will see the message \"The operation completed successfully.\" Each time the DLL is loaded, you will see a message box with a message of \"Install AppInit Shim DLL was called!\" appear.\nThis will happen regularly as your computer starts up various applications and may in fact drive you crazy. A reliable way to make the message box appear and verify the \nAppInit Dlls are loading is to start the notepad application. Be sure to run the cleanup commands afterwards so you don't keep getting message boxes showing up.\n\nNote: If secure boot is enabled, this technique will not work. https://docs.microsoft.com/en-us/windows/win32/dlls/secure-boot-and-appinit-dlls\n\n**Supported Platforms:** windows\n\nElevation Required (e.g. root or admin)\n#### Dependencies:  Run with `powershell`!\n##### Description: Reg files must exist on disk at specified locations (#{registry_file} and #{registry_cleanup_file})\n\n##### Check Prereq Commands:\n```cmd\nif ((Test-Path \"PathToAtomicsFolder\\T1546.010\\src\\T1546.010.reg\") -and (Test-Path \"PathToAtomicsFolder\\T1546.010\\src\\T1546.010-cleanup.reg\")) {exit 0} else {exit 1}\n\n```\n##### Get Prereq Commands:\n```cmd\n[Net.ServicePointManager]::SecurityProtocol = [Net.SecurityProtocolType]::Tls12\nNew-Item -Type Directory (split-path \"PathToAtomicsFolder\\T1546.010\\src\\T1546.010.reg\") -ErrorAction ignore | Out-Null\nInvoke-WebRequest \"https://github.com/redcanaryco/atomic-red-team/raw/master/atomics/T1546.010/src/T1546.010.reg\" -OutFile \"PathToAtomicsFolder\\T1546.010\\src\\T1546.010.reg\"\nInvoke-WebRequest \"https://github.com/redcanaryco/atomic-red-team/raw/master/atomics/T1546.010/src/T1546.010-cleanup.reg\" -OutFile \"PathToAtomicsFolder\\T1546.010\\src\\T1546.010-cleanup.reg\"\n\n```\n##### Description: DLL's must exist in the C:\\Tools directory (T1546.010.dll and T1546.010x86.dll)\n\n##### Check Prereq Commands:\n```cmd\nif ((Test-Path c:\\Tools\\T1546.010.dll) -and (Test-Path c:\\Tools\\T1546.010x86.dll)) {exit 0} else {exit 1}\n\n```\n##### Get Prereq Commands:\n```cmd\nNew-Item -Type Directory C:\\Tools -ErrorAction ignore | Out-Null\nInvoke-WebRequest \"https://github.com/redcanaryco/atomic-red-team/raw/master/atomics/T1546.010/bin/T1546.010.dll\" -OutFile C:\\Tools\\T1546.010.dll\nInvoke-WebRequest \"https://github.com/redcanaryco/atomic-red-team/raw/master/atomics/T1546.010/bin/T1546.010x86.dll\" -OutFile C:\\Tools\\T1546.010x86.dll\n\n```"
  },
  {
   "cell_type": "code",
   "execution_count": null,
   "id": "e077f744",
   "metadata": {},
   "outputs": [],
   "source": "Invoke-AtomicTest T1546.010 -TestNumbers 1 -GetPreReqs"
  },
  {
   "cell_type": "markdown",
   "id": "3c56f061",
   "metadata": {},
   "source": [
    "#### Attack Commands: Run with `command_prompt`\n",
    "```command_prompt\nreg.exe import \"PathToAtomicsFolder\\T1546.010\\src\\T1546.010.reg\"\n```"
   ]
  },
  {
   "cell_type": "code",
   "execution_count": null,
   "id": "3bb932ce",
   "metadata": {},
   "outputs": [],
   "source": "Invoke-AtomicTest T1546.010 -TestNumbers 1"
  },
  {
   "cell_type": "markdown",
   "id": "72900382",
   "metadata": {},
   "source": "#### Cleanup: \n```cmd\nreg.exe import \"PathToAtomicsFolder\\T1546.010\\src\\T1546.010-cleanup.reg\" >nul 2>&1\n```"
  },
  {
   "cell_type": "code",
   "execution_count": null,
   "id": "9cb5a39d",
   "metadata": {},
   "outputs": [],
   "source": "Invoke-AtomicTest T1546.010 -TestNumbers 1 -Cleanup"
  },
  {
   "cell_type": "markdown",
   "id": "0f83833b",
   "metadata": {},
   "source": "## Detection\nMonitor DLL loads by processes that load user32.dll and look for DLLs that are not recognized or not normally loaded into a process. Monitor the AppInit_DLLs Registry values for modifications that do not correlate with known software, patch cycles, etc. Monitor and analyze application programming interface (API) calls that are indicative of Registry edits such as <code>RegCreateKeyEx</code> and <code>RegSetValueEx</code>. (Citation: Elastic Process Injection July 2017)\n\nTools such as Sysinternals Autoruns may also be used to detect system changes that could be attempts at persistence, including listing current AppInit DLLs. (Citation: TechNet Autoruns) \n\nLook for abnormal process behavior that may be due to a process loading a malicious DLL. Data and events should not be viewed in isolation, but as part of a chain of behavior that could lead to other activities, such as making network connections for Command and Control, learning details about the environment through Discovery, and conducting Lateral Movement."
  }
 ],
 "metadata": {
  "kernelspec": {
   "display_name": ".NET (PowerShell)",
   "language": "pwsh",
   "name": ".net-powershell"
  },
  "language_info": {
   "file_extension": ".ps1",
   "mimetype": "text/x-powershell",
   "name": "pwsh",
   "pygments_lexer": "powershell",
   "version": "7.0"
  }
 },
 "nbformat": 4,
 "nbformat_minor": 5
}