{
 "cells": [
  {
   "cell_type": "markdown",
   "id": "68385ba3",
   "metadata": {},
   "source": "# T1078.004 - Cloud Accounts\nAdversaries may obtain and abuse credentials of a cloud account as a means of gaining Initial Access, Persistence, Privilege Escalation, or Defense Evasion. Cloud accounts are those created and configured by an organization for use by users, remote support, services, or for administration of resources within a cloud service provider or SaaS application. In some cases, cloud accounts may be federated with traditional identity management system, such as Window Active Directory.(Citation: AWS Identity Federation)(Citation: Google Federating GC)(Citation: Microsoft Deploying AD Federation)\n\nCompromised credentials for cloud accounts can be used to harvest sensitive data from online storage accounts and databases. Access to cloud accounts can also be abused to gain Initial Access to a network by abusing a [Trusted Relationship](https://attack.mitre.org/techniques/T1199). Similar to [Domain Accounts](https://attack.mitre.org/techniques/T1078/002), compromise of federated cloud accounts may allow adversaries to more easily move laterally within an environment.\n\nOnce a cloud account is compromised, an adversary may perform [Account Manipulation](https://attack.mitre.org/techniques/T1098) - for example, by adding [Additional Cloud Roles](https://attack.mitre.org/techniques/T1098/003) - to maintain persistence and potentially escalate their privileges."
  },
  {
   "cell_type": "markdown",
   "id": "e2625916",
   "metadata": {},
   "source": "## Atomic Tests"
  },
  {
   "cell_type": "markdown",
   "id": "5f06dcef",
   "metadata": {},
   "source": "### Atomic Test #1 - Creating GCP Service Account and Service Account Key\nGCP Service Accounts can be used to gain intial access as well as maintain persistence inside Google Cloud.\n\n**Supported Platforms:** google-workspace, iaas:gcp\n\nElevation Required (e.g. root or admin)\n#### Dependencies:  Run with `sh`!\n##### Description: Requires gcloud\n\n##### Check Prereq Commands:\n```sh\nif [ -x \"$(command -v gcloud)\" ]; then exit 0; else exit 1; fi;\n\n```\n##### Get Prereq Commands:\n```sh\necho \"Please Install Google Cloud SDK before running this atomic test : https://cloud.google.com/sdk/docs/install\"\n\n```"
  },
  {
   "cell_type": "code",
   "execution_count": null,
   "id": "03b0a9d1",
   "metadata": {},
   "outputs": [],
   "source": "Invoke-AtomicTest T1078.004 -TestNumbers 1 -GetPreReqs"
  },
  {
   "cell_type": "markdown",
   "id": "beccb65d",
   "metadata": {},
   "source": [
    "#### Attack Commands: Run with `sh`\n",
    "```sh\ngcloud auth login --no-launch-browser\ngcloud config set project art-project-1\ngcloud iam service-accounts create gcp-art-service-account-1\ngcloud iam service-accounts keys create gcp-art-service-account-1.json --iam-account=gcp-art-service-account-1@art-project-1.iam.gserviceaccount.com\n```"
   ]
  },
  {
   "cell_type": "code",
   "execution_count": null,
   "id": "d07c1e4e",
   "metadata": {},
   "outputs": [],
   "source": "Invoke-AtomicTest T1078.004 -TestNumbers 1"
  },
  {
   "cell_type": "markdown",
   "id": "f936f00f",
   "metadata": {},
   "source": "#### Cleanup: \n```sh\ngcloud iam service-accounts delete gcp-art-service-account-1@art-project-1.iam.gserviceaccount.com --quiet\n```"
  },
  {
   "cell_type": "code",
   "execution_count": null,
   "id": "9d002899",
   "metadata": {},
   "outputs": [],
   "source": "Invoke-AtomicTest T1078.004 -TestNumbers 1 -Cleanup"
  },
  {
   "cell_type": "markdown",
   "id": "bb13c238",
   "metadata": {},
   "source": "## Detection\nMonitor the activity of cloud accounts to detect abnormal or malicious behavior, such as accessing information outside of the normal function of the account or account usage at atypical hours."
  }
 ],
 "metadata": {
  "kernelspec": {
   "display_name": ".NET (PowerShell)",
   "language": "PowerShell",
   "name": ".net-powershell"
  },
  "language_info": {
   "file_extension": ".ps1",
   "mimetype": "text/x-powershell",
   "name": "PowerShell",
   "pygments_lexer": "powershell",
   "version": "7.0"
  }
 },
 "nbformat": 4,
 "nbformat_minor": 5
}