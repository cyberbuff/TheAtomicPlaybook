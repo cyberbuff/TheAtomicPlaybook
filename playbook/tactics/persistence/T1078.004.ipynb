{
 "cells": [
  {
   "cell_type": "markdown",
   "id": "ca640f0d",
   "metadata": {},
   "source": "# T1078.004 - Cloud Accounts\nValid accounts in cloud environments may allow adversaries to perform actions to achieve Initial Access, Persistence, Privilege Escalation, or Defense Evasion. Cloud accounts are those created and configured by an organization for use by users, remote support, services, or for administration of resources within a cloud service provider or SaaS application. Cloud Accounts can exist solely in the cloud or be hybrid joined between on-premises systems and the cloud through federation with other identity sources such as Windows Active Directory. (Citation: AWS Identity Federation)(Citation: Google Federating GC)(Citation: Microsoft Deploying AD Federation)\n\nService or user accounts may be targeted by adversaries through [Brute Force](https://attack.mitre.org/techniques/T1110), [Phishing](https://attack.mitre.org/techniques/T1566), or various other means to gain access to the environment. Federated accounts may be a pathway for the adversary to affect both on-premises systems and cloud environments.\n\nAn adversary may create long lasting [Additional Cloud Credentials](https://attack.mitre.org/techniques/T1098/001) on a compromised cloud account to maintain persistence in the environment. Such credentials may also be used to bypass security controls such as multi-factor authentication. \n\nCloud accounts may also be able to assume [Temporary Elevated Cloud Access](https://attack.mitre.org/techniques/T1548/005) or other privileges through various means within the environment. Misconfigurations in role assignments or role assumption policies may allow an adversary to use these mechanisms to leverage permissions outside the intended scope of the account. Such over privileged accounts may be used to harvest sensitive data from online storage accounts and databases through [Cloud API](https://attack.mitre.org/techniques/T1059/009) or other methods. \n"
  },
  {
   "cell_type": "markdown",
   "id": "a7fb4063",
   "metadata": {},
   "source": "## Atomic Tests"
  },
  {
   "cell_type": "markdown",
   "id": "1af70fb5",
   "metadata": {},
   "source": "### Atomic Test #1 - Creating GCP Service Account and Service Account Key\nGCP Service Accounts can be used to gain intial access as well as maintain persistence inside Google Cloud.\n\n**Supported Platforms:** google-workspace, iaas:gcp\n\nElevation Required (e.g. root or admin)\n#### Dependencies:  Run with `sh`!\n##### Description: Requires gcloud\n\n##### Check Prereq Commands:\n```sh\nif [ -x \"$(command -v gcloud)\" ]; then exit 0; else exit 1; fi;\n\n```\n##### Get Prereq Commands:\n```sh\necho \"Please Install Google Cloud SDK before running this atomic test : https://cloud.google.com/sdk/docs/install\"\n\n```\n##### Description: Check if user is logged in \n\n##### Check Prereq Commands:\n```sh\ngcloud config get-value account\n\n```\n##### Get Prereq Commands:\n```sh\ngcloud auth login --no-launch-browser\n\n```"
  },
  {
   "cell_type": "code",
   "execution_count": null,
   "id": "48fae965",
   "metadata": {},
   "outputs": [],
   "source": "Invoke-AtomicTest T1078.004 -TestNumbers 1 -GetPreReqs"
  },
  {
   "cell_type": "markdown",
   "id": "fdce91c2",
   "metadata": {},
   "source": [
    "#### Attack Commands: Run with `sh`\n",
    "```sh\ngcloud config set project art-project-1\ngcloud iam service-accounts create gcp-art-service-account-1\ngcloud iam service-accounts keys create gcp-art-service-account-1.json --iam-account=gcp-art-service-account-1@art-project-1.iam.gserviceaccount.com\n```"
   ]
  },
  {
   "cell_type": "code",
   "execution_count": null,
   "id": "3ac126b8",
   "metadata": {},
   "outputs": [],
   "source": "Invoke-AtomicTest T1078.004 -TestNumbers 1"
  },
  {
   "cell_type": "markdown",
   "id": "287bc584",
   "metadata": {},
   "source": "#### Cleanup: \n```sh\ngcloud iam service-accounts delete gcp-art-service-account-1@art-project-1.iam.gserviceaccount.com --quiet\n```"
  },
  {
   "cell_type": "code",
   "execution_count": null,
   "id": "b3373d20",
   "metadata": {},
   "outputs": [],
   "source": "Invoke-AtomicTest T1078.004 -TestNumbers 1 -Cleanup"
  },
  {
   "cell_type": "markdown",
   "id": "09f373c2",
   "metadata": {},
   "source": "### Atomic Test #2 - Azure Persistence Automation Runbook Created or Modified\nIdentifies when an Azure Automation runbook is created or modified. An adversary may create or modify an Azure\nAutomation runbook to execute malicious code and maintain persistence in their target's environment.\n\n**Supported Platforms:** iaas:azure\n\nElevation Required (e.g. root or admin)\n#### Dependencies:  Run with `powershell`!\n##### Description: Check if terraform is installed.\n\n##### Check Prereq Commands:\n```powershell\nterraform version\n\n```\n##### Get Prereq Commands:\n```powershell\necho Please install terraform.\n\n```\n##### Description: Install-Module -Name Az\n\n##### Check Prereq Commands:\n```powershell\ntry {if (Get-InstalledModule -Name Az -ErrorAction SilentlyContinue) {exit 0} else {exit 1}} catch {exit 1}\n\n```\n##### Get Prereq Commands:\n```powershell\nInstall-Module -Name Az -Scope CurrentUser -Force\n\n```\n##### Description: Check if the user is logged into Azure.\n\n##### Check Prereq Commands:\n```powershell\naz account show\n\n```\n##### Get Prereq Commands:\n```powershell\necho Configure your Azure account using: az login. \n\n```\n##### Description: Create dependency resources using terraform\n\n##### Check Prereq Commands:\n```powershell\ntry {if (Test-Path \"$PathToAtomicsFolder/T1078.004/src/T1078.004-2/terraform.tfstate\" ){ exit 0 } else {exit 1}} catch {exit 1}\n\n```\n##### Get Prereq Commands:\n```powershell\ncd \"$PathToAtomicsFolder/T1078.004/src/T1078.004-2/\"\nterraform init\nterraform apply -auto-approve\n\n```"
  },
  {
   "cell_type": "code",
   "execution_count": null,
   "id": "e7e165c0",
   "metadata": {},
   "outputs": [],
   "source": "Invoke-AtomicTest T1078.004 -TestNumbers 2 -GetPreReqs"
  },
  {
   "cell_type": "markdown",
   "id": "9a86b457",
   "metadata": {},
   "source": [
    "#### Attack Commands: Run with `powershell`\n",
    "```powershell\n$secure_pwd = \"None\" | ConvertTo-SecureString -AsPlainText -Force\n$creds = New-Object System.Management.Automation.PSCredential -ArgumentList \"None\", $secure_pwd\nConnect-AzAccount -Credential $creds\nNew-AzAutomationRunbook -Name None -Type PowerShell -ResourceGroupName None -Description 'my-test-runbook' -AutomationAccountName None\n```"
   ]
  },
  {
   "cell_type": "code",
   "execution_count": null,
   "id": "7093362f",
   "metadata": {},
   "outputs": [],
   "source": "Invoke-AtomicTest T1078.004 -TestNumbers 2"
  },
  {
   "cell_type": "markdown",
   "id": "863ffd8b",
   "metadata": {},
   "source": "#### Cleanup: \n```powershell\nRemove-AzAutomationRunbook -AutomationAccountName None -Name None -ResourceGroupName None -Force\ncd \"$PathToAtomicsFolder/T1078.004/src/T1078.004-2/\"\nterraform destroy -auto-approve\n```"
  },
  {
   "cell_type": "code",
   "execution_count": null,
   "id": "03c1ce21",
   "metadata": {},
   "outputs": [],
   "source": "Invoke-AtomicTest T1078.004 -TestNumbers 2 -Cleanup"
  },
  {
   "cell_type": "markdown",
   "id": "d26caa81",
   "metadata": {},
   "source": "### Atomic Test #3 - GCP - Create Custom IAM Role\nThis atomic will create a new IAM role. The default role permissions are: *IAM Service Account Get*. The idea for this Atomic came from a Rule published by the Elastic team.\n\nIdentifies an Identity and Access Management (IAM) custom role creation in Google Cloud Platform (GCP). \nCustom roles are user-defined, and allow for the bundling of one or more supported permissions to meet specific needs. \nCustom roles will not be updated automatically and could lead to privilege creep if not carefully scrutinized.\n\nThis atomic will create a new IAM role. The default role permissions are: *IAM Service Account Get*\n\nReference: https://github.com/elastic/detection-rules/blob/main/rules/integrations/gcp/initial_access_gcp_iam_custom_role_creation.toml\n\n**Supported Platforms:** iaas:gcp\n\nElevation Required (e.g. root or admin)\n#### Dependencies:  Run with `sh`!\n##### Description: Requires gcloud\n\n##### Check Prereq Commands:\n```sh\nif [ -x \"$(command -v gcloud)\" ]; then exit 0; else exit 1; fi;\n\n```\n##### Get Prereq Commands:\n```sh\necho \"Please Install Google Cloud SDK before running this atomic test : https://cloud.google.com/sdk/docs/install\"\n\n```\n##### Description: Check if user is logged in \n\n##### Check Prereq Commands:\n```sh\ngcloud config get-value account\n\n```\n##### Get Prereq Commands:\n```sh\ngcloud auth login --no-launch-browser\n\n```"
  },
  {
   "cell_type": "code",
   "execution_count": null,
   "id": "656efe54",
   "metadata": {},
   "outputs": [],
   "source": "Invoke-AtomicTest T1078.004 -TestNumbers 3 -GetPreReqs"
  },
  {
   "cell_type": "markdown",
   "id": "e6238654",
   "metadata": {},
   "source": [
    "#### Attack Commands: Run with `sh`\n",
    "```sh\ngcloud config set project atomic-test-1\ngcloud iam roles create AtomicRedTeamRole --description=\"Atomic Red Team Custom IAM Role\" --permissions=iam.serviceAccounts.get --project=atomic-test-1\n```"
   ]
  },
  {
   "cell_type": "code",
   "execution_count": null,
   "id": "82819b33",
   "metadata": {},
   "outputs": [],
   "source": "Invoke-AtomicTest T1078.004 -TestNumbers 3"
  },
  {
   "cell_type": "markdown",
   "id": "7b68e72e",
   "metadata": {},
   "source": "#### Cleanup: \n```sh\ngcloud iam roles delete AtomicRedTeamRole --project=atomic-test-1\n```"
  },
  {
   "cell_type": "code",
   "execution_count": null,
   "id": "3482e0ee",
   "metadata": {},
   "outputs": [],
   "source": "Invoke-AtomicTest T1078.004 -TestNumbers 3 -Cleanup"
  },
  {
   "cell_type": "markdown",
   "id": "e9598298",
   "metadata": {},
   "source": "## Detection\nMonitor the activity of cloud accounts to detect abnormal or malicious behavior, such as accessing information outside of the normal function of the account or account usage at atypical hours."
  }
 ],
 "metadata": {
  "kernelspec": {
   "display_name": ".NET (PowerShell)",
   "language": "pwsh",
   "name": ".net-powershell"
  },
  "language_info": {
   "file_extension": ".ps1",
   "mimetype": "text/x-powershell",
   "name": "pwsh",
   "pygments_lexer": "powershell",
   "version": "7.0"
  }
 },
 "nbformat": 4,
 "nbformat_minor": 5
}