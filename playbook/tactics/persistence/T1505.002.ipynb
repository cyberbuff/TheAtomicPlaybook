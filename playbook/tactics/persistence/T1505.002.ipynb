{
 "cells": [
  {
   "cell_type": "markdown",
   "id": "0120fae2",
   "metadata": {},
   "source": "# T1505.002 - Transport Agent\nAdversaries may abuse Microsoft transport agents to establish persistent access to systems. Microsoft Exchange transport agents can operate on email messages passing through the transport pipeline to perform various tasks such as filtering spam, filtering malicious attachments, journaling, or adding a corporate signature to the end of all outgoing emails.(Citation: Microsoft TransportAgent Jun 2016)(Citation: ESET LightNeuron May 2019) Transport agents can be written by application developers and then compiled to .NET assemblies that are subsequently registered with the Exchange server. Transport agents will be invoked during a specified stage of email processing and carry out developer defined tasks. \n\nAdversaries may register a malicious transport agent to provide a persistence mechanism in Exchange Server that can be triggered by adversary-specified email events.(Citation: ESET LightNeuron May 2019) Though a malicious transport agent may be invoked for all emails passing through the Exchange transport pipeline, the agent can be configured to only carry out specific tasks in response to adversary defined criteria. For example, the transport agent may only carry out an action like copying in-transit attachments and saving them for later exfiltration if the recipient email address matches an entry on a list provided by the adversary. "
  },
  {
   "cell_type": "markdown",
   "id": "fad54d65",
   "metadata": {},
   "source": "## Atomic Tests"
  },
  {
   "cell_type": "markdown",
   "id": "b0c50f78",
   "metadata": {},
   "source": "### Atomic Test #1 - Install MS Exchange Transport Agent Persistence\nInstall a Microsoft Exchange Transport Agent for persistence. This requires execution from an Exchange Client Access Server and the creation of a DLL with specific exports. Seen in use by Turla.\nMore details- https://docs.microsoft.com/en-us/exchange/transport-agents-exchange-2013-help\n\n**Supported Platforms:** windows\n\nElevation Required (e.g. root or admin)\n#### Dependencies:  Run with `powershell`!\n##### Description: Microsoft Exchange SnapIn must be installed\n\n##### Check Prereq Commands:\n```powershell\nGet-TransportAgent -TransportService FrontEnd\n\n```\n##### Get Prereq Commands:\n```powershell\nAdd-PSSnapin Microsoft.Exchange.Management.PowerShell.SnapIn\n\n```"
  },
  {
   "cell_type": "code",
   "execution_count": null,
   "id": "b3160805",
   "metadata": {},
   "outputs": [],
   "source": "Invoke-AtomicTest T1505.002 -TestNumbers 1 -GetPreReqs"
  },
  {
   "cell_type": "markdown",
   "id": "f2308f97",
   "metadata": {},
   "source": [
    "#### Attack Commands: Run with `powershell`\n",
    "```powershell\nInstall-TransportAgent -Name Security Interop Agent -TransportAgentFactory Microsoft.Exchange.Security.Interop.SecurityInteropAgentFactory -AssemblyPath c:\\program files\\microsoft\\Exchange Server\\v15\\bin\\Microsoft.Exchange.Security.Interop.dll\nEnable-TransportAgent Security Interop Agent\nGet-TransportAgent | Format-List Name,Enabled\n```"
   ]
  },
  {
   "cell_type": "code",
   "execution_count": null,
   "id": "c3ea94c2",
   "metadata": {},
   "outputs": [],
   "source": "Invoke-AtomicTest T1505.002 -TestNumbers 1"
  },
  {
   "cell_type": "markdown",
   "id": "679ff1d0",
   "metadata": {},
   "source": "#### Cleanup: \n```powershell\nif(Get-Command \"Get-TransportAgent\" -ErrorAction Ignore){\n  Disable-TransportAgent Security Interop Agent\n  Uninstall-TransportAgent Security Interop Agent\n  Get-TransportAgent\n}\n```"
  },
  {
   "cell_type": "code",
   "execution_count": null,
   "id": "84e55914",
   "metadata": {},
   "outputs": [],
   "source": "Invoke-AtomicTest T1505.002 -TestNumbers 1 -Cleanup"
  },
  {
   "cell_type": "markdown",
   "id": "621863fd",
   "metadata": {},
   "source": "## Detection\nConsider monitoring application logs for abnormal behavior that may indicate suspicious installation of application software components. Consider monitoring file locations associated with the installation of new application software components such as paths from which applications typically load such extensible components."
  }
 ],
 "metadata": {
  "kernelspec": {
   "display_name": ".NET (PowerShell)",
   "language": "pwsh",
   "name": ".net-powershell"
  },
  "language_info": {
   "file_extension": ".ps1",
   "mimetype": "text/x-powershell",
   "name": "pwsh",
   "pygments_lexer": "powershell",
   "version": "7.0"
  }
 },
 "nbformat": 4,
 "nbformat_minor": 5
}