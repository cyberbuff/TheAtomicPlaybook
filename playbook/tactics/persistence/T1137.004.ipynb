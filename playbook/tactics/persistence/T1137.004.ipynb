{
 "cells": [
  {
   "cell_type": "markdown",
   "id": "8ba5a9fd",
   "metadata": {},
   "source": "# T1137.004 - Outlook Home Page\nAdversaries may abuse Microsoft Outlook's Home Page feature to obtain persistence on a compromised system. Outlook Home Page is a legacy feature used to customize the presentation of Outlook folders. This feature allows for an internal or external URL to be loaded and presented whenever a folder is opened. A malicious HTML page can be crafted that will execute code when loaded by Outlook Home Page.(Citation: SensePost Outlook Home Page)\n\nOnce malicious home pages have been added to the user\u2019s mailbox, they will be loaded when Outlook is started. Malicious Home Pages will execute when the right Outlook folder is loaded/reloaded.(Citation: SensePost Outlook Home Page)\n"
  },
  {
   "cell_type": "markdown",
   "id": "51e0840f",
   "metadata": {},
   "source": "## Atomic Tests"
  },
  {
   "cell_type": "markdown",
   "id": "d1d0f413",
   "metadata": {},
   "source": [
    "### Atomic Test #1 - Install Outlook Home Page Persistence",
    "This test simulates persistence being added to a host via the Outlook Home Page functionality. This causes Outlook to retrieve URL containing a malicious payload every time the targeted folder is viewed.\n\nTriggering the payload requires manually opening Outlook and viewing the targetted folder (e.g. Inbox).\n",
    "**Supported Platforms:** windows",
    "\nElevation Required (e.g. root or admin)",
    "#### Attack Commands: Run with `command_prompt`\n",
    "```command_prompt\nreg.exe add HKCU\\Software\\Microsoft\\Office\\16.0\\Outlook\\WebView\\Inbox /v URL /t REG_SZ /d file://PathToAtomicsFolder\\T1137.004\\src\\T1137.004.html /f\n```"
   ]
  },
  {
   "cell_type": "code",
   "execution_count": null,
   "id": "5f752395",
   "metadata": {},
   "outputs": [],
   "source": "Invoke-AtomicTest T1137.004 -TestNumbers 1"
  },
  {
   "cell_type": "markdown",
   "id": "486b917f",
   "metadata": {},
   "source": "#### Cleanup: \n```cmd\nreg.exe delete HKCU\\Software\\Microsoft\\Office\\16.0\\Outlook\\WebView\\Inbox /v URL /f >nul 2>&1\n```"
  },
  {
   "cell_type": "code",
   "execution_count": null,
   "id": "4a3ce2be",
   "metadata": {},
   "outputs": [],
   "source": "Invoke-AtomicTest T1137.004 -TestNumbers 1 -Cleanup"
  },
  {
   "cell_type": "markdown",
   "id": "cedd0e81",
   "metadata": {},
   "source": "## Detection\nMicrosoft has released a PowerShell script to safely gather mail forwarding rules and custom forms in your mail environment as well as steps to interpret the output.(Citation: Microsoft Detect Outlook Forms) SensePost, whose tool [Ruler](https://attack.mitre.org/software/S0358) can be used to carry out malicious rules, forms, and Home Page attacks, has released a tool to detect Ruler usage.(Citation: SensePost NotRuler)\n\nCollect process execution information including process IDs (PID) and parent process IDs (PPID) and look for abnormal chains of activity resulting from Office processes. Non-standard process execution trees may also indicate suspicious or malicious behavior."
  }
 ],
 "metadata": {
  "kernelspec": {
   "display_name": ".NET (PowerShell)",
   "language": "pwsh",
   "name": ".net-powershell"
  },
  "language_info": {
   "file_extension": ".ps1",
   "mimetype": "text/x-powershell",
   "name": "pwsh",
   "pygments_lexer": "powershell",
   "version": "7.0"
  }
 },
 "nbformat": 4,
 "nbformat_minor": 5
}