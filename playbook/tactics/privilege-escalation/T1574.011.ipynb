{
 "cells": [
  {
   "cell_type": "markdown",
   "id": "e0dd4155",
   "metadata": {},
   "source": "# T1574.011 - Services Registry Permissions Weakness\nAdversaries may execute their own malicious payloads by hijacking the Registry entries used by services. Adversaries may use flaws in the permissions for Registry keys related to services to redirect from the originally specified executable to one that they control, in order to launch their own code when a service starts. Windows stores local service configuration information in the Registry under <code>HKLM\\SYSTEM\\CurrentControlSet\\Services</code>. The information stored under a service's Registry keys can be manipulated to modify a service's execution parameters through tools such as the service controller, sc.exe,  [PowerShell](https://attack.mitre.org/techniques/T1059/001), or [Reg](https://attack.mitre.org/software/S0075). Access to Registry keys is controlled through access control lists and user permissions. (Citation: Registry Key Security)(Citation: malware_hides_service)\n\nIf the permissions for users and groups are not properly set and allow access to the Registry keys for a service, adversaries may change the service's binPath/ImagePath to point to a different executable under their control. When the service starts or is restarted, then the adversary-controlled program will execute, allowing the adversary to establish persistence and/or privilege escalation to the account context the service is set to execute under (local/domain account, SYSTEM, LocalService, or NetworkService).\n\nAdversaries may also alter other Registry keys in the service\u2019s Registry tree. For example, the <code>FailureCommand</code> key may be changed so that the service is executed in an elevated context anytime the service fails or is intentionally corrupted.(Citation: Kansa Service related collectors)(Citation: Tweet Registry Perms Weakness)\n\nThe <code>Performance</code> key contains the name of a driver service's performance DLL and the names of several exported functions in the DLL.(Citation: microsoft_services_registry_tree) If the <code>Performance</code> key is not already present and if an adversary-controlled user has the <code>Create Subkey</code> permission, adversaries may create the <code>Performance</code> key in the service\u2019s Registry tree to point to a malicious DLL.(Citation: insecure_reg_perms)\n\nAdversaries may also add the <code>Parameters</code> key, which stores driver-specific data, or other custom subkeys for their malicious services to establish persistence or enable other malicious activities.(Citation: microsoft_services_registry_tree)(Citation: troj_zegost) Additionally, If adversaries launch their malicious services using svchost.exe, the service\u2019s file may be identified using <code>HKEY_LOCAL_MACHINE\\SYSTEM\\CurrentControlSet\\Services\\servicename\\Parameters\\ServiceDll</code>.(Citation: malware_hides_service)"
  },
  {
   "cell_type": "markdown",
   "id": "b454b566",
   "metadata": {},
   "source": "## Atomic Tests"
  },
  {
   "cell_type": "markdown",
   "id": "6b90b71f",
   "metadata": {},
   "source": [
    "### Atomic Test #1 - Service Registry Permissions Weakness",
    "Service registry permissions weakness check and then which can lead to privilege escalation with ImagePath. eg.\nreg add \"HKLM\\SYSTEM\\CurrentControlSet\\Services\\#{weak_service_name}\" /v ImagePath /d \"C:\\temp\\AtomicRedteam.exe\"\n",
    "**Supported Platforms:** windows",
    "#### Attack Commands: Run with `powershell`\n",
    "```powershell\nget-acl REGISTRY::HKLM\\SYSTEM\\CurrentControlSet\\Services\\* |FL\nget-acl REGISTRY::HKLM\\SYSTEM\\CurrentControlSet\\Services\\weakservicename |FL\n```"
   ]
  },
  {
   "cell_type": "code",
   "execution_count": null,
   "id": "801d6059",
   "metadata": {},
   "outputs": [],
   "source": "Invoke-AtomicTest T1574.011 -TestNumbers 1"
  },
  {
   "cell_type": "markdown",
   "id": "f2f1cc11",
   "metadata": {},
   "source": "### Atomic Test #2 - Service ImagePath Change with reg.exe\nChange Service registry ImagePath of a bengin service to a malicious file\n\n**Supported Platforms:** windows\n#### Dependencies:  Run with `powershell`!\n##### Description: The service must exist (#{weak_service_name})\n\n##### Check Prereq Commands:\n```cmd\nif (Get-Service calcservice) {exit 0} else {exit 1}\n\n```\n##### Get Prereq Commands:\n```cmd\nsc.exe create calcservice binpath= \"%windir%\\system32\\win32calc.exe\"\n\n```"
  },
  {
   "cell_type": "code",
   "execution_count": null,
   "id": "75440dd9",
   "metadata": {},
   "outputs": [],
   "source": "Invoke-AtomicTest T1574.011 -TestNumbers 2 -GetPreReqs"
  },
  {
   "cell_type": "markdown",
   "id": "12f15964",
   "metadata": {},
   "source": [
    "#### Attack Commands: Run with `command_prompt`\n",
    "```command_prompt\nreg.exe add \"HKLM\\SYSTEM\\CurrentControlSet\\Services\\calcservice\" /f /v ImagePath /d \"%windir%\\system32\\cmd.exe\"\n```"
   ]
  },
  {
   "cell_type": "code",
   "execution_count": null,
   "id": "4ba2993c",
   "metadata": {},
   "outputs": [],
   "source": "Invoke-AtomicTest T1574.011 -TestNumbers 2"
  },
  {
   "cell_type": "markdown",
   "id": "b3cf029f",
   "metadata": {},
   "source": "#### Cleanup: \n```cmd\nsc.exe delete calcservice\n```"
  },
  {
   "cell_type": "code",
   "execution_count": null,
   "id": "61148110",
   "metadata": {},
   "outputs": [],
   "source": "Invoke-AtomicTest T1574.011 -TestNumbers 2 -Cleanup"
  },
  {
   "cell_type": "markdown",
   "id": "998e42d2",
   "metadata": {},
   "source": "## Detection\nService changes are reflected in the Registry. Modification to existing services should not occur frequently. If a service binary path or failure parameters are changed to values that are not typical for that service and does not correlate with software updates, then it may be due to malicious activity. Data and events should not be viewed in isolation, but as part of a chain of behavior that could lead to other activities, such as network connections made for Command and Control, learning details about the environment through Discovery, and Lateral Movement.\n\nTools such as Sysinternals Autoruns may also be used to detect system changes that could be attempts at persistence, including listing current service information. (Citation: Autoruns for Windows) Look for changes to services that do not correlate with known software, patch cycles, etc. Suspicious program execution through services may show up as outlier processes that have not been seen before when compared against historical data.\n\nMonitor processes and command-line arguments for actions that could be done to modify services. Remote access tools with built-in features may interact directly with the Windows API to perform these functions outside of typical system utilities. Services may also be changed through Windows system management tools such as [Windows Management Instrumentation](https://attack.mitre.org/techniques/T1047) and [PowerShell](https://attack.mitre.org/techniques/T1059/001), so additional logging may need to be configured to gather the appropriate data."
  }
 ],
 "metadata": {
  "kernelspec": {
   "display_name": ".NET (PowerShell)",
   "language": "PowerShell",
   "name": ".net-powershell"
  },
  "language_info": {
   "file_extension": ".ps1",
   "mimetype": "text/x-powershell",
   "name": "PowerShell",
   "pygments_lexer": "powershell",
   "version": "7.0"
  }
 },
 "nbformat": 4,
 "nbformat_minor": 5
}