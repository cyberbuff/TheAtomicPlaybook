{
 "cells": [
  {
   "cell_type": "markdown",
   "id": "9c811117",
   "metadata": {},
   "source": "# T1543.002 - Systemd Service\nAdversaries may create or modify systemd services to repeatedly execute malicious payloads as part of persistence. The systemd service manager is commonly used for managing background daemon processes (also known as services) and other system resources.(Citation: Linux man-pages: systemd January 2014)(Citation: Freedesktop.org Linux systemd 29SEP2018) Systemd is the default initialization (init) system on many Linux distributions starting with Debian 8, Ubuntu 15.04, CentOS 7, RHEL 7, Fedora 15, and replaces legacy init systems including SysVinit and Upstart while remaining backwards compatible with the aforementioned init systems.\n\nSystemd utilizes configuration files known as service units to control how services boot and under what conditions. By default, these unit files are stored in the <code>/etc/systemd/system</code> and <code>/usr/lib/systemd/system</code> directories and have the file extension <code>.service</code>. Each service unit file may contain numerous directives that can execute system commands:\n\n* ExecStart, ExecStartPre, and ExecStartPost directives cover execution of commands when a services is started manually by 'systemctl' or on system start if the service is set to automatically start. \n* ExecReload directive covers when a service restarts. \n* ExecStop and ExecStopPost directives cover when a service is stopped or manually by 'systemctl'.\n\nAdversaries have used systemd functionality to establish persistent access to victim systems by creating and/or modifying service unit files that cause systemd to execute malicious commands at system boot.(Citation: Anomali Rocke March 2019)\n\nWhile adversaries typically require root privileges to create/modify service unit files in the <code>/etc/systemd/system</code> and <code>/usr/lib/systemd/system</code> directories, low privilege users can create/modify service unit files in directories such as <code>~/.config/systemd/user/</code> to achieve user-level persistence.(Citation: Rapid7 Service Persistence 22JUNE2016)"
  },
  {
   "cell_type": "markdown",
   "id": "6d008810",
   "metadata": {},
   "source": "## Atomic Tests"
  },
  {
   "cell_type": "markdown",
   "id": "59a90129",
   "metadata": {},
   "source": [
    "### Atomic Test #1 - Create Systemd Service",
    "This test creates a Systemd service unit file and enables it as a service.\n",
    "**Supported Platforms:** linux",
    "#### Attack Commands: Run with `bash`\n",
    "```bash\necho \"[Unit]\" > /etc/systemd/system/art-systemd-service.service\necho \"Description=Atomic Red Team Systemd Service\" >> /etc/systemd/system/art-systemd-service.service\necho \"\" >> /etc/systemd/system/art-systemd-service.service\necho \"[Service]\" >> /etc/systemd/system/art-systemd-service.service\necho \"Type=simple\"\necho \"ExecStart=/bin/touch /tmp/art-systemd-execstart-marker\" >> /etc/systemd/system/art-systemd-service.service\necho \"ExecStartPre=/bin/touch /tmp/art-systemd-execstartpre-marker\" >> /etc/systemd/system/art-systemd-service.service\necho \"ExecStartPost=/bin/touch /tmp/art-systemd-execstartpost-marker\" >> /etc/systemd/system/art-systemd-service.service\necho \"ExecReload=/bin/touch /tmp/art-systemd-execreload-marker\" >> /etc/systemd/system/art-systemd-service.service\necho \"ExecStop=/bin/touch /tmp/art-systemd-execstop-marker\" >> /etc/systemd/system/art-systemd-service.service\necho \"ExecStopPost=/bin/touch /tmp/art-systemd-execstoppost-marker\" >> /etc/systemd/system/art-systemd-service.service\necho \"\" >> /etc/systemd/system/art-systemd-service.service\necho \"[Install]\" >> /etc/systemd/system/art-systemd-service.service\necho \"WantedBy=default.target\" >> /etc/systemd/system/art-systemd-service.service\nsystemctl daemon-reload\nsystemctl enable art-systemd-service.service\nsystemctl start art-systemd-service.service\n```"
   ]
  },
  {
   "cell_type": "code",
   "execution_count": null,
   "id": "13b7af83",
   "metadata": {},
   "outputs": [],
   "source": "Invoke-AtomicTest T1543.002 -TestNumbers 1"
  },
  {
   "cell_type": "markdown",
   "id": "131f07e3",
   "metadata": {},
   "source": "#### Cleanup: \n```bash\nsystemctl stop art-systemd-service.service\nsystemctl disable art-systemd-service.service\nrm -rf /etc/systemd/system/art-systemd-service.service\nsystemctl daemon-reload\n```"
  },
  {
   "cell_type": "code",
   "execution_count": null,
   "id": "5669178d",
   "metadata": {},
   "outputs": [],
   "source": "Invoke-AtomicTest T1543.002 -TestNumbers 1 -Cleanup"
  },
  {
   "cell_type": "markdown",
   "id": "eaa87549",
   "metadata": {},
   "source": "### Atomic Test #2 - Create Systemd Service file,  Enable the service , Modify and Reload the service.\nThis test creates a systemd service unit file and enables it to autostart on boot. Once service is created and enabled, it also modifies this same service file showcasing both Creation and Modification of system process. \n\n**Supported Platforms:** linux\n\nElevation Required (e.g. root or admin)\n#### Dependencies:  Run with `bash`!\n##### Description: System must be Ubuntu ,Kali OR CentOS.\n\n##### Check Prereq Commands:\n```bash\nif [ $(cat /etc/os-release | grep -i ID=ubuntu) ] || [ $(cat /etc/os-release | grep -i ID=kali) ] || [ $(cat /etc/os-release | grep -i 'ID=\"centos\"') ]; then exit /b 0; else exit /b 1; fi;\n\n```\n##### Get Prereq Commands:\n```bash\necho Please run from Ubuntu ,Kali OR CentOS.\n\n```"
  },
  {
   "cell_type": "code",
   "execution_count": null,
   "id": "95923206",
   "metadata": {},
   "outputs": [],
   "source": "Invoke-AtomicTest T1543.002 -TestNumbers 2 -GetPreReqs"
  },
  {
   "cell_type": "markdown",
   "id": "8e833096",
   "metadata": {},
   "source": [
    "#### Attack Commands: Run with `bash`\n",
    "```bash\ncat > /etc/init.d/T1543.002 << EOF\n#!/bin/bash\n### BEGIN INIT INFO\n# Provides : Atomic Test T1543.002\n# Required-Start: $all\n# Required-Stop : \n# Default-Start: 2 3 4 5\n# Default-Stop: \n# Short Description: Atomic Test for Systemd Service Creation\n### END INIT INFO\npython3 -c \"import os, base64;exec(base64.b64decode('aW1wb3J0IG9zCm9zLnBvcGVuKCdlY2hvIGF0b21pYyB0ZXN0IGZvciBDcmVhdGluZyBTeXN0ZW1kIFNlcnZpY2UgVDE1NDMuMDAyID4gL3RtcC9UMTU0My4wMDIuc3lzdGVtZC5zZXJ2aWNlLmNyZWF0aW9uJykK'))\"\nEOF\n\nchmod +x /etc/init.d/T1543.002\nif [ $(cat /etc/os-release | grep -i ID=ubuntu) ] || [ $(cat /etc/os-release | grep -i ID=kali) ]; then update-rc.d T1543.002 defaults; elif [ $(cat /etc/os-release | grep -i 'ID=\"centos\"') ]; then chkconfig T1543.002 on ; else echo \"Please run this test on Ubnutu , kali OR centos\" ; fi ;\nsystemctl enable T1543.002\nsystemctl start T1543.002\n\necho \"python3 -c \\\"import os, base64;exec(base64.b64decode('aW1wb3J0IG9zCm9zLnBvcGVuKCdlY2hvIGF0b21pYyB0ZXN0IGZvciBtb2RpZnlpbmcgYSBTeXN0ZW1kIFNlcnZpY2UgVDE1NDMuMDAyID4gL3RtcC9UMTU0My4wMDIuc3lzdGVtZC5zZXJ2aWNlLm1vZGlmaWNhdGlvbicpCg=='))\\\"\" | sudo tee -a /etc/init.d/T1543.002\nsystemctl daemon-reload\nsystemctl restart T1543.002\n```"
   ]
  },
  {
   "cell_type": "code",
   "execution_count": null,
   "id": "0add39b9",
   "metadata": {},
   "outputs": [],
   "source": "Invoke-AtomicTest T1543.002 -TestNumbers 2"
  },
  {
   "cell_type": "markdown",
   "id": "bbfa3585",
   "metadata": {},
   "source": "#### Cleanup: \n```bash\nsystemctl stop T1543.002\nsystemctl disable T1543.002\nrm -rf /etc/init.d/T1543.002\nsystemctl daemon-reload\n```"
  },
  {
   "cell_type": "code",
   "execution_count": null,
   "id": "a5e272d0",
   "metadata": {},
   "outputs": [],
   "source": "Invoke-AtomicTest T1543.002 -TestNumbers 2 -Cleanup"
  },
  {
   "cell_type": "markdown",
   "id": "a0752124",
   "metadata": {},
   "source": "## Detection\nSystemd service unit files may be detected by auditing file creation and modification events within the <code>/etc/systemd/system</code>, <code>/usr/lib/systemd/system/</code>, and <code>/home/<username>/.config/systemd/user/</code> directories, as well as associated symbolic links. Suspicious processes or scripts spawned in this manner will have a parent process of \u2018systemd\u2019, a parent process ID of 1, and will usually execute as the \u2018root\u2019 user.\n\nSuspicious systemd services can also be identified by comparing results against a trusted system baseline. Malicious systemd services may be detected by using the systemctl utility to examine system wide services: <code>systemctl list-units -\u2013type=service \u2013all</code>. Analyze the contents of <code>.service</code> files present on the file system and ensure that they refer to legitimate, expected executables.\n\nAuditing the execution and command-line arguments of the 'systemctl' utility, as well related utilities such as <code>/usr/sbin/service</code> may reveal malicious systemd service execution."
  }
 ],
 "metadata": {
  "kernelspec": {
   "display_name": ".NET (PowerShell)",
   "language": "PowerShell",
   "name": ".net-powershell"
  },
  "language_info": {
   "file_extension": ".ps1",
   "mimetype": "text/x-powershell",
   "name": "PowerShell",
   "pygments_lexer": "powershell",
   "version": "7.0"
  }
 },
 "nbformat": 4,
 "nbformat_minor": 5
}