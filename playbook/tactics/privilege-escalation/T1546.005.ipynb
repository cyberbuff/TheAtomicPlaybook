{
 "cells": [
  {
   "cell_type": "markdown",
   "id": "8ee948ec",
   "metadata": {},
   "source": "# T1546.005 - Trap\nAdversaries may establish persistence by executing malicious content triggered by an interrupt signal. The <code>trap</code> command allows programs and shells to specify commands that will be executed upon receiving interrupt signals. A common situation is a script allowing for graceful termination and handling of common keyboard interrupts like <code>ctrl+c</code> and <code>ctrl+d</code>.\n\nAdversaries can use this to register code to be executed when the shell encounters specific interrupts as a persistence mechanism. Trap commands are of the following format <code>trap 'command list' signals</code> where \"command list\" will be executed when \"signals\" are received.(Citation: Trap Manual)(Citation: Cyberciti Trap Statements)"
  },
  {
   "cell_type": "markdown",
   "id": "83857517",
   "metadata": {},
   "source": "## Atomic Tests"
  },
  {
   "cell_type": "markdown",
   "id": "3534b96f",
   "metadata": {},
   "source": [
    "### Atomic Test #1 - Trap EXIT",
    "Launch bash shell with command arg to create TRAP on EXIT.\nThe trap executes script that writes to /tmp/art-fish.txt\n",
    "**Supported Platforms:** macos, linux",
    "#### Attack Commands: Run with `sh`\n",
    "```sh\nbash -c 'trap \"nohup sh $PathToAtomicsFolder/T1546.005/src/echo-art-fish.sh\" EXIT'\n```"
   ]
  },
  {
   "cell_type": "code",
   "execution_count": null,
   "id": "e2715faf",
   "metadata": {},
   "outputs": [],
   "source": "Invoke-AtomicTest T1546.005 -TestNumbers 1"
  },
  {
   "cell_type": "markdown",
   "id": "88013f62",
   "metadata": {},
   "source": "#### Cleanup: \n```sh\nrm -f /tmp/art-fish.txt\n```"
  },
  {
   "cell_type": "code",
   "execution_count": null,
   "id": "79d38aec",
   "metadata": {},
   "outputs": [],
   "source": "Invoke-AtomicTest T1546.005 -TestNumbers 1 -Cleanup"
  },
  {
   "cell_type": "markdown",
   "id": "ee28ab84",
   "metadata": {},
   "source": "### Atomic Test #2 - Trap EXIT (freebsd)\nLaunch bash shell with command arg to create TRAP on EXIT.\nThe trap executes script that writes to /tmp/art-fish.txt\n\n**Supported Platforms:** linux\n#### Dependencies:  Run with `sh`!\n##### Description: Check if bash is installed.\n\n##### Check Prereq Commands:\n```sh\nif [ ! -x \"$(command -v bash)\" ]; then exit 1; else exit 0; fi;\n\n```\n##### Get Prereq Commands:\n```sh\n(which pkg && pkg install -y bash)\n\n```"
  },
  {
   "cell_type": "code",
   "execution_count": null,
   "id": "7cd214c3",
   "metadata": {},
   "outputs": [],
   "source": "Invoke-AtomicTest T1546.005 -TestNumbers 2 -GetPreReqs"
  },
  {
   "cell_type": "markdown",
   "id": "b56b57c6",
   "metadata": {},
   "source": [
    "#### Attack Commands: Run with `sh`\n",
    "```sh\nbash -c 'trap \"nohup sh $PathToAtomicsFolder/T1546.005/src/echo-art-fish.sh\" EXIT'\n```"
   ]
  },
  {
   "cell_type": "code",
   "execution_count": null,
   "id": "28cc437c",
   "metadata": {},
   "outputs": [],
   "source": "Invoke-AtomicTest T1546.005 -TestNumbers 2"
  },
  {
   "cell_type": "markdown",
   "id": "5c4e5eb7",
   "metadata": {},
   "source": "#### Cleanup: \n```sh\nrm -f /tmp/art-fish.txt\n```"
  },
  {
   "cell_type": "code",
   "execution_count": null,
   "id": "93acfdd8",
   "metadata": {},
   "outputs": [],
   "source": "Invoke-AtomicTest T1546.005 -TestNumbers 2 -Cleanup"
  },
  {
   "cell_type": "markdown",
   "id": "9930c5ab",
   "metadata": {},
   "source": [
    "### Atomic Test #3 - Trap SIGINT",
    "Launch bash shell with command arg to create TRAP on SIGINT (CTRL+C), then send SIGINT signal.\nThe trap executes script that writes to /tmp/art-fish.txt\n",
    "**Supported Platforms:** macos, linux",
    "#### Attack Commands: Run with `sh`\n",
    "```sh\nbash -c 'trap \"nohup sh $PathToAtomicsFolder/T1546.005/src/echo-art-fish.sh\" SIGINT && kill -SIGINT $$'\n```"
   ]
  },
  {
   "cell_type": "code",
   "execution_count": null,
   "id": "cb21c766",
   "metadata": {},
   "outputs": [],
   "source": "Invoke-AtomicTest T1546.005 -TestNumbers 3"
  },
  {
   "cell_type": "markdown",
   "id": "788fc94e",
   "metadata": {},
   "source": "#### Cleanup: \n```sh\nrm -f /tmp/art-fish.txt\n```"
  },
  {
   "cell_type": "code",
   "execution_count": null,
   "id": "74805c7f",
   "metadata": {},
   "outputs": [],
   "source": "Invoke-AtomicTest T1546.005 -TestNumbers 3 -Cleanup"
  },
  {
   "cell_type": "markdown",
   "id": "5699f569",
   "metadata": {},
   "source": "### Atomic Test #4 - Trap SIGINT (freebsd)\nLaunch bash shell with command arg to create TRAP on SIGINT (CTRL+C), then send SIGINT signal.\nThe trap executes script that writes to /tmp/art-fish.txt\n\n**Supported Platforms:** linux\n#### Dependencies:  Run with `sh`!\n##### Description: Check if bash is installed.\n\n##### Check Prereq Commands:\n```sh\nif [ ! -x \"$(command -v bash)\" ]; then exit 1; else exit 0; fi;\n\n```\n##### Get Prereq Commands:\n```sh\n(which pkg && pkg install -y bash)\n\n```"
  },
  {
   "cell_type": "code",
   "execution_count": null,
   "id": "5d1f2e38",
   "metadata": {},
   "outputs": [],
   "source": "Invoke-AtomicTest T1546.005 -TestNumbers 4 -GetPreReqs"
  },
  {
   "cell_type": "markdown",
   "id": "65126870",
   "metadata": {},
   "source": [
    "#### Attack Commands: Run with `sh`\n",
    "```sh\nbash -c 'trap \"nohup sh $PathToAtomicsFolder/T1546.005/src/echo-art-fish.sh\" SIGINT && kill -SIGINT $$'\n```"
   ]
  },
  {
   "cell_type": "code",
   "execution_count": null,
   "id": "7368ea36",
   "metadata": {},
   "outputs": [],
   "source": "Invoke-AtomicTest T1546.005 -TestNumbers 4"
  },
  {
   "cell_type": "markdown",
   "id": "24230d39",
   "metadata": {},
   "source": "#### Cleanup: \n```sh\nrm -f /tmp/art-fish.txt\n```"
  },
  {
   "cell_type": "code",
   "execution_count": null,
   "id": "3e7b0e44",
   "metadata": {},
   "outputs": [],
   "source": "Invoke-AtomicTest T1546.005 -TestNumbers 4 -Cleanup"
  },
  {
   "cell_type": "markdown",
   "id": "d03d735e",
   "metadata": {},
   "source": "## Detection\nTrap commands must be registered for the shell or programs, so they appear in files. Monitoring files for suspicious or overly broad trap commands can narrow down suspicious behavior during an investigation. Monitor for suspicious processes executed through trap interrupts."
  }
 ],
 "metadata": {
  "kernelspec": {
   "display_name": ".NET (PowerShell)",
   "language": "pwsh",
   "name": ".net-powershell"
  },
  "language_info": {
   "file_extension": ".ps1",
   "mimetype": "text/x-powershell",
   "name": "pwsh",
   "pygments_lexer": "powershell",
   "version": "7.0"
  }
 },
 "nbformat": 4,
 "nbformat_minor": 5
}