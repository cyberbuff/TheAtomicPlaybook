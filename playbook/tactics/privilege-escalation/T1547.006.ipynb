{
 "cells": [
  {
   "cell_type": "markdown",
   "id": "faa98479",
   "metadata": {},
   "source": "# T1547.006 - Kernel Modules and Extensions\nAdversaries may modify the kernel to automatically execute programs on system boot. Loadable Kernel Modules (LKMs) are pieces of code that can be loaded and unloaded into the kernel upon demand. They extend the functionality of the kernel without the need to reboot the system. For example, one type of module is the device driver, which allows the kernel to access hardware connected to the system.(Citation: Linux Kernel Programming)\u00a0\n\nWhen used maliciously, LKMs can be a type of kernel-mode [Rootkit](https://attack.mitre.org/techniques/T1014) that run with the highest operating system privilege (Ring 0).(Citation: Linux Kernel Module Programming Guide)\u00a0Common features of LKM based rootkits include: hiding itself, selective hiding of files, processes and network activity, as well as log tampering, providing authenticated backdoors, and enabling root access to non-privileged users.(Citation: iDefense Rootkit Overview)\n\nKernel extensions, also called kext, are used in macOS to load functionality onto a system similar to LKMs for Linux. Since the kernel is responsible for enforcing security and the kernel extensions run as apart of the kernel, kexts are not governed by macOS security policies. Kexts are loaded and unloaded through <code>kextload</code> and <code>kextunload</code> commands. Kexts need to be signed with a developer ID that is granted privileges by Apple allowing it to sign Kernel extensions. Developers without these privileges may still sign kexts but they will not load unless SIP is disabled. If SIP is enabled, the kext signature is verified before being added to the AuxKC.(Citation: System and kernel extensions in macOS)\n\nSince macOS Catalina 10.15, kernel extensions have been deprecated in favor of System Extensions. However, kexts are still allowed as \"Legacy System Extensions\" since there is no System Extension for Kernel Programming Interfaces.(Citation: Apple Kernel Extension Deprecation)\n\nAdversaries can use LKMs and kexts to conduct [Persistence](https://attack.mitre.org/tactics/TA0003) and/or [Privilege Escalation](https://attack.mitre.org/tactics/TA0004) on a system. Examples have been found in the wild, and there are some relevant open source projects as well.(Citation: Volatility Phalanx2)(Citation: CrowdStrike Linux Rootkit)(Citation: GitHub Reptile)(Citation: GitHub Diamorphine)(Citation: RSAC 2015 San Francisco Patrick Wardle)(Citation: Synack Secure Kernel Extension Broken)(Citation: Securelist Ventir)(Citation: Trend Micro Skidmap)"
  },
  {
   "cell_type": "markdown",
   "id": "dec7bfec",
   "metadata": {},
   "source": "## Atomic Tests"
  },
  {
   "cell_type": "markdown",
   "id": "b3060ba3",
   "metadata": {},
   "source": "### Atomic Test #1 - Linux - Load Kernel Module via insmod\nThis test uses the insmod command to load a kernel module for Linux.\n\n**Supported Platforms:** linux\n\nElevation Required (e.g. root or admin)\n#### Dependencies:  Run with `bash`!\n##### Description: The kernel module must exist on disk at specified location\n\n##### Check Prereq Commands:\n```bash\nif [ -f /tmp/T1547.006/T1547006.ko ]; then exit 0; else exit 1; fi;\n\n```\n##### Get Prereq Commands:\n```bash\nif [ ! -d /tmp/T1547.006 ]; then mkdir /tmp/T1547.006; touch /tmp/T1547.006/safe_to_delete; fi;\ncp PathToAtomicsFolder/T1547.006/src/* /tmp/T1547.006/\ncd /tmp/T1547.006; make\nif [ ! -f /tmp/T1547.006/T1547006.ko ]; then mv /tmp/T1547.006/T1547006.ko /tmp/T1547.006/T1547006.ko; fi;\n\n```"
  },
  {
   "cell_type": "code",
   "execution_count": null,
   "id": "fd859b13",
   "metadata": {},
   "outputs": [],
   "source": "Invoke-AtomicTest T1547.006 -TestNumbers 1 -GetPreReqs"
  },
  {
   "cell_type": "markdown",
   "id": "e975a570",
   "metadata": {},
   "source": [
    "#### Attack Commands: Run with `bash`\n",
    "```bash\nsudo insmod /tmp/T1547.006/T1547006.ko\n```"
   ]
  },
  {
   "cell_type": "code",
   "execution_count": null,
   "id": "de24bc55",
   "metadata": {},
   "outputs": [],
   "source": "Invoke-AtomicTest T1547.006 -TestNumbers 1"
  },
  {
   "cell_type": "markdown",
   "id": "f9477f7a",
   "metadata": {},
   "source": "#### Cleanup: \n```bash\nsudo rmmod T1547006\n[ -f /tmp/T1547.006/safe_to_delete ] && rm -rf /tmp/T1547.006\n```"
  },
  {
   "cell_type": "code",
   "execution_count": null,
   "id": "bfdef0ae",
   "metadata": {},
   "outputs": [],
   "source": "Invoke-AtomicTest T1547.006 -TestNumbers 1 -Cleanup"
  },
  {
   "cell_type": "markdown",
   "id": "79ab8997",
   "metadata": {},
   "source": "### Atomic Test #2 - MacOS - Load Kernel Module via kextload and kmutil\nThis test uses the kextload and kmutil commands to load and unload a MacOS kernel module.\n\n**Supported Platforms:** macos\n\nElevation Required (e.g. root or admin)\n#### Dependencies:  Run with `bash`!\n##### Description: The kernel module must exist on disk at specified location\n\n##### Check Prereq Commands:\n```bash\nif [ -d /Library/Extensions/SoftRAID.kext ] ; then exit 0; else exit 1 ; fi\n\n```\n##### Get Prereq Commands:\n```bash\nexit 1\n\n```"
  },
  {
   "cell_type": "code",
   "execution_count": null,
   "id": "4ee4b544",
   "metadata": {},
   "outputs": [],
   "source": "Invoke-AtomicTest T1547.006 -TestNumbers 2 -GetPreReqs"
  },
  {
   "cell_type": "markdown",
   "id": "2937204b",
   "metadata": {},
   "source": [
    "#### Attack Commands: Run with `bash`\n",
    "```bash\nset -x\nsudo kextload /Library/Extensions/SoftRAID.kext\nkextstat 2>/dev/null | grep SoftRAID\nsudo kextunload /Library/Extensions/SoftRAID.kext\nsudo kmutil load -p /Library/Extensions/SoftRAID.kext\nkextstat 2>/dev/null | grep SoftRAID\nsudo kmutil unload -p /Library/Extensions/SoftRAID.kext\n```"
   ]
  },
  {
   "cell_type": "code",
   "execution_count": null,
   "id": "60dcc91e",
   "metadata": {},
   "outputs": [],
   "source": "Invoke-AtomicTest T1547.006 -TestNumbers 2"
  },
  {
   "cell_type": "markdown",
   "id": "604d055e",
   "metadata": {},
   "source": "### Atomic Test #3 - MacOS - Load Kernel Module via KextManagerLoadKextWithURL()\nThis test uses the IOKit API to load a kernel module for macOS.\nHarcoded to use SoftRAID kext\n\n**Supported Platforms:** macos\n\nElevation Required (e.g. root or admin)\n#### Dependencies:  Run with `bash`!\n##### Description: The kernel module must exist on disk at specified location\n\n##### Check Prereq Commands:\n```bash\nif [ -f \"/tmp/T1547006_iokit_loader\" ]; then exit 0 ; else exit 1; fi\n\n```\n##### Get Prereq Commands:\n```bash\ncc -o /tmp/T1547006_iokit_loader PathToAtomicsFolder/T1547.006/src/macos_kextload.c -framework IOKit -framework Foundation\n\n```"
  },
  {
   "cell_type": "code",
   "execution_count": null,
   "id": "a3b18c12",
   "metadata": {},
   "outputs": [],
   "source": "Invoke-AtomicTest T1547.006 -TestNumbers 3 -GetPreReqs"
  },
  {
   "cell_type": "markdown",
   "id": "911497f5",
   "metadata": {},
   "source": [
    "#### Attack Commands: Run with `bash`\n",
    "```bash\nsudo /tmp/T1547006_iokit_loader\nkextstat 2>/dev/null | grep SoftRAID\nsudo kextunload /Library/Extensions/SoftRAID.kext\n```"
   ]
  },
  {
   "cell_type": "code",
   "execution_count": null,
   "id": "811658a7",
   "metadata": {},
   "outputs": [],
   "source": "Invoke-AtomicTest T1547.006 -TestNumbers 3"
  },
  {
   "cell_type": "markdown",
   "id": "22304b20",
   "metadata": {},
   "source": "#### Cleanup: \n```bash\nrm -f /tmp/T1547006_iokit_loader\n```"
  },
  {
   "cell_type": "code",
   "execution_count": null,
   "id": "b4fc066d",
   "metadata": {},
   "outputs": [],
   "source": "Invoke-AtomicTest T1547.006 -TestNumbers 3 -Cleanup"
  },
  {
   "cell_type": "markdown",
   "id": "a0e3012f",
   "metadata": {},
   "source": [
    "### Atomic Test #4 - Snake Malware Kernel Driver Comadmin",
    "The following Atomic Test will write an file, comadmin.dat, to disk. From the report, Snake's installer drops the kernel driver and a custom DLL which is used to load the driver into a\nsingle AES encrypted file on disk. Typically, this file is named \u201ccomadmin.dat\u201d and is stored in the %windows%\\system32\\Com directory. \nThis Atomic Test will write a hardcoded named file to disk in the com directory named comadmin.dat.\n[Snake Malware - CISA](https://media.defense.gov/2023/May/09/2003218554/-1/-1/0/JOINT_CSA_HUNTING_RU_INTEL_SNAKE_MALWARE_20230509.PDF)  \n",
    "**Supported Platforms:** windows",
    "\nElevation Required (e.g. root or admin)",
    "#### Attack Commands: Run with `powershell`\n",
    "```powershell\n$examplePath = Join-Path $env:windir \"system32\\Com\"; if (-not (Test-Path $examplePath)) { New-Item -ItemType Directory -Path $examplePath | Out-Null }; $exampleName = \"comadmin.dat\"; $exampleFullPath = Join-Path $examplePath $exampleName; $randomBytes = New-Object Byte[] 0x1000; (New-Object Random).NextBytes($randomBytes); [System.IO.File]::WriteAllBytes($exampleFullPath, $randomBytes)\n```"
   ]
  },
  {
   "cell_type": "code",
   "execution_count": null,
   "id": "7d497b82",
   "metadata": {},
   "outputs": [],
   "source": "Invoke-AtomicTest T1547.006 -TestNumbers 4"
  },
  {
   "cell_type": "markdown",
   "id": "84ec024d",
   "metadata": {},
   "source": "#### Cleanup: \n```powershell\n$examplePath = Join-Path $env:windir \"system32\\Com\"; $exampleName = \"comadmin.dat\"; $exampleFullPath = Join-Path $examplePath $exampleName; if (Test-Path $exampleFullPath) { Remove-Item $exampleFullPath -Force }\n```"
  },
  {
   "cell_type": "code",
   "execution_count": null,
   "id": "5d9b220f",
   "metadata": {},
   "outputs": [],
   "source": "Invoke-AtomicTest T1547.006 -TestNumbers 4 -Cleanup"
  },
  {
   "cell_type": "markdown",
   "id": "e70e6882",
   "metadata": {},
   "source": "## Detection\nLoading, unloading, and manipulating modules on Linux systems can be detected by monitoring for the following commands: <code>modprobe</code>, <code>insmod</code>, <code>lsmod</code>, <code>rmmod</code>, or <code>modinfo</code> (Citation: Linux Loadable Kernel Module Insert and Remove LKMs) LKMs are typically loaded into <code>/lib/modules</code> and have had the extension .ko (\"kernel object\") since version 2.6 of the Linux kernel. (Citation: Wikipedia Loadable Kernel Module)\n\nAdversaries may run commands on the target system before loading a malicious module in order to ensure that it is properly compiled. (Citation: iDefense Rootkit Overview) Adversaries may also execute commands to identify the exact version of the running Linux kernel and/or download multiple versions of the same .ko (kernel object) files to use the one appropriate for the running system.(Citation: Trend Micro Skidmap) Many LKMs require Linux headers (specific to the target kernel) in order to compile properly.\u00a0These are typically obtained through the operating systems package manager and installed like a normal package. On Ubuntu and Debian based systems this can be accomplished by running: <code>apt-get install linux-headers-$(uname -r)</code> On RHEL and CentOS based systems this can be accomplished by running: <code>yum install kernel-devel-$(uname -r)</code>\n\nOn macOS, monitor for execution of <code>kextload</code> commands and user installed kernel extensions performing abnormal and/or potentially malicious activity (such as creating network connections). Monitor for new rows added in the <code>kext_policy</code> table. KextPolicy stores a list of user approved (non Apple) kernel extensions and a partial history of loaded kernel modules in a SQLite database, <code>/var/db/SystemPolicyConfiguration/KextPolicy</code>.(Citation: User Approved Kernel Extension Pike\u2019s)(Citation: Purves Kextpocalypse 2)(Citation: Apple Developer Configuration Profile)\n"
  }
 ],
 "metadata": {
  "kernelspec": {
   "display_name": ".NET (PowerShell)",
   "language": "pwsh",
   "name": ".net-powershell"
  },
  "language_info": {
   "file_extension": ".ps1",
   "mimetype": "text/x-powershell",
   "name": "pwsh",
   "pygments_lexer": "powershell",
   "version": "7.0"
  }
 },
 "nbformat": 4,
 "nbformat_minor": 5
}