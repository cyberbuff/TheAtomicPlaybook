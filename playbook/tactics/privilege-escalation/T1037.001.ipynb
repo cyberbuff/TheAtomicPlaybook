{
 "cells": [
  {
   "cell_type": "markdown",
   "id": "7bdead7e",
   "metadata": {},
   "source": "# T1037.001 - Logon Script (Windows)\nAdversaries may use Windows logon scripts automatically executed at logon initialization to establish persistence. Windows allows logon scripts to be run whenever a specific user or group of users log into a system.(Citation: TechNet Logon Scripts) This is done via adding a path to a script to the <code>HKCU\\Environment\\UserInitMprLogonScript</code> Registry key.(Citation: Hexacorn Logon Scripts)\n\nAdversaries may use these scripts to maintain persistence on a single system. Depending on the access configuration of the logon scripts, either local credentials or an administrator account may be necessary. "
  },
  {
   "cell_type": "markdown",
   "id": "5375d62b",
   "metadata": {},
   "source": "## Atomic Tests"
  },
  {
   "cell_type": "markdown",
   "id": "f403461f",
   "metadata": {},
   "source": [
    "### Atomic Test #1 - Logon Scripts",
    "Adds a registry value to run batch script created in the %temp% directory. Upon execution, there will be a new environment variable in the HKCU\\Environment key\nthat can be viewed in the Registry Editor.\n",
    "**Supported Platforms:** windows",
    "#### Attack Commands: Run with `command_prompt`\n",
    "```command_prompt\necho \"echo Art \"Logon Script\" atomic test was successful. >> %USERPROFILE%\\desktop\\T1037.001-log.txt\" > %temp%\\art.bat\nREG.exe ADD HKCU\\Environment /v UserInitMprLogonScript /t REG_SZ /d \"%temp%\\art.bat\" /f\n```"
   ]
  },
  {
   "cell_type": "code",
   "execution_count": null,
   "id": "fb778723",
   "metadata": {},
   "outputs": [],
   "source": "Invoke-AtomicTest T1037.001 -TestNumbers 1"
  },
  {
   "cell_type": "markdown",
   "id": "bebd6baa",
   "metadata": {},
   "source": "#### Cleanup: \n```cmd\nREG.exe DELETE HKCU\\Environment /v UserInitMprLogonScript /f >nul 2>&1\ndel %temp%\\art.bat >nul 2>&1\ndel \"%USERPROFILE%\\desktop\\T1037.001-log.txt\" >nul 2>&1\n```"
  },
  {
   "cell_type": "code",
   "execution_count": null,
   "id": "e12f21d9",
   "metadata": {},
   "outputs": [],
   "source": "Invoke-AtomicTest T1037.001 -TestNumbers 1 -Cleanup"
  },
  {
   "cell_type": "markdown",
   "id": "5f767712",
   "metadata": {},
   "source": "## Detection\nMonitor for changes to Registry values associated with Windows logon scrips, nameley <code>HKCU\\Environment\\UserInitMprLogonScript</code>.\n\nMonitor running process for actions that could be indicative of abnormal programs or executables running upon logon."
  }
 ],
 "metadata": {
  "kernelspec": {
   "display_name": ".NET (PowerShell)",
   "language": "pwsh",
   "name": ".net-powershell"
  },
  "language_info": {
   "file_extension": ".ps1",
   "mimetype": "text/x-powershell",
   "name": "pwsh",
   "pygments_lexer": "powershell",
   "version": "7.0"
  }
 },
 "nbformat": 4,
 "nbformat_minor": 5
}