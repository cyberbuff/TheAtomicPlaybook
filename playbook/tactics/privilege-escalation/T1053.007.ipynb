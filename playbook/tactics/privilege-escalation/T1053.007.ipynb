{
 "cells": [
  {
   "cell_type": "markdown",
   "id": "b8031ff2",
   "metadata": {},
   "source": "# T1053.007 - Container Orchestration Job\nAdversaries may abuse task scheduling functionality provided by container orchestration tools such as Kubernetes to schedule deployment of containers configured to execute malicious code. Container orchestration jobs run these automated tasks at a specific date and time, similar to cron jobs on a Linux system. Deployments of this type can also be configured to maintain a quantity of containers over time, automating the process of maintaining persistence within a cluster.\n\nIn Kubernetes, a CronJob may be used to schedule a Job that runs one or more containers to perform specific tasks.(Citation: Kubernetes Jobs)(Citation: Kubernetes CronJob) An adversary therefore may utilize a CronJob to schedule deployment of a Job that executes malicious code in various nodes within a cluster.(Citation: Threat Matrix for Kubernetes)"
  },
  {
   "cell_type": "markdown",
   "id": "1826dcdd",
   "metadata": {},
   "source": "## Atomic Tests"
  },
  {
   "cell_type": "markdown",
   "id": "e65f9a63",
   "metadata": {},
   "source": "### Atomic Test #1 - ListCronjobs\nKubernetes Job is a controller that creates one or more pods and ensures that a specified number of them successfully terminate. Kubernetes Job can be used to run containers that perform finite tasks for batch jobs. Kubernetes CronJob is used to schedule Jobs. Attackers may use Kubernetes CronJob for scheduling execution of malicious code that would run as a container in the cluster.\n\n**Supported Platforms:** containers\n\nElevation Required (e.g. root or admin)\n#### Dependencies:  Run with `bash`!\n##### Description: kubectl must be installed\n\n##### Check Prereq Commands:\n```bash\nwhich kubectl\n\n```\n##### Get Prereq Commands:\n```bash\necho \"kubectl must be installed manually\"\n\n```"
  },
  {
   "cell_type": "code",
   "execution_count": null,
   "id": "e0088172",
   "metadata": {},
   "outputs": [],
   "source": "Invoke-AtomicTest T1053.007 -TestNumbers 1 -GetPreReqs"
  },
  {
   "cell_type": "markdown",
   "id": "4a25f8ec",
   "metadata": {},
   "source": [
    "#### Attack Commands: Run with `bash`\n",
    "```bash\nkubectl get cronjobs -n default\n```"
   ]
  },
  {
   "cell_type": "code",
   "execution_count": null,
   "id": "167edd14",
   "metadata": {},
   "outputs": [],
   "source": "Invoke-AtomicTest T1053.007 -TestNumbers 1"
  },
  {
   "cell_type": "markdown",
   "id": "19347128",
   "metadata": {},
   "source": "### Atomic Test #2 - CreateCronjob\nKubernetes Job is a controller that creates one or more pods and ensures that a specified number of them successfully terminate. Kubernetes Job can be used to run containers that perform finite tasks for batch jobs. Kubernetes CronJob is used to schedule Jobs. Attackers may use Kubernetes CronJob for scheduling execution of malicious code that would run as a container in the cluster.\n\n**Supported Platforms:** containers\n\nElevation Required (e.g. root or admin)\n#### Dependencies:  Run with `bash`!\n##### Description: kubectl must be installed\n\n##### Check Prereq Commands:\n```bash\nwhich kubectl\n\n```\n##### Get Prereq Commands:\n```bash\necho \"kubectl must be installed manually\"\n\n```"
  },
  {
   "cell_type": "code",
   "execution_count": null,
   "id": "749777c5",
   "metadata": {},
   "outputs": [],
   "source": "Invoke-AtomicTest T1053.007 -TestNumbers 2 -GetPreReqs"
  },
  {
   "cell_type": "markdown",
   "id": "e8517029",
   "metadata": {},
   "source": [
    "#### Attack Commands: Run with `bash`\n",
    "```bash\nkubectl create -f src/cronjob.yaml -n default\n```"
   ]
  },
  {
   "cell_type": "code",
   "execution_count": null,
   "id": "fd07436a",
   "metadata": {},
   "outputs": [],
   "source": "Invoke-AtomicTest T1053.007 -TestNumbers 2"
  },
  {
   "cell_type": "markdown",
   "id": "f4c901bc",
   "metadata": {},
   "source": "#### Cleanup: \n```bash\nkubectl delete cronjob art -n default\n```"
  },
  {
   "cell_type": "code",
   "execution_count": null,
   "id": "ce330b48",
   "metadata": {},
   "outputs": [],
   "source": "Invoke-AtomicTest T1053.007 -TestNumbers 2 -Cleanup"
  },
  {
   "cell_type": "markdown",
   "id": "60adafd0",
   "metadata": {},
   "source": "## Detection\nMonitor for the anomalous creation of scheduled jobs in container orchestration environments. Use logging agents on Kubernetes nodes and retrieve logs from sidecar proxies for application and resource pods to monitor malicious container orchestration job deployments. "
  }
 ],
 "metadata": {
  "kernelspec": {
   "display_name": ".NET (PowerShell)",
   "language": "pwsh",
   "name": ".net-powershell"
  },
  "language_info": {
   "file_extension": ".ps1",
   "mimetype": "text/x-powershell",
   "name": "pwsh",
   "pygments_lexer": "powershell",
   "version": "7.0"
  }
 },
 "nbformat": 4,
 "nbformat_minor": 5
}