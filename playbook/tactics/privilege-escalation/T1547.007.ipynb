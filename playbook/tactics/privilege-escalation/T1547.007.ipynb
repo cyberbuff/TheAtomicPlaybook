{
 "cells": [
  {
   "cell_type": "markdown",
   "id": "b47cd0a5",
   "metadata": {},
   "source": "# T1547.007 - Re-opened Applications\nAdversaries may modify plist files to automatically run an application when a user logs in. When a user logs out or restarts via the macOS Graphical User Interface (GUI), a prompt is provided to the user with a checkbox to \"Reopen windows when logging back in\".(Citation: Re-Open windows on Mac) When selected, all applications currently open are added to a property list file named <code>com.apple.loginwindow.[UUID].plist</code> within the <code>~/Library/Preferences/ByHost</code> directory.(Citation: Methods of Mac Malware Persistence)(Citation: Wardle Persistence Chapter) Applications listed in this file are automatically reopened upon the user\u2019s next logon.\n\nAdversaries can establish [Persistence](https://attack.mitre.org/tactics/TA0003) by adding a malicious application path to the <code>com.apple.loginwindow.[UUID].plist</code> file to execute payloads when a user logs in."
  },
  {
   "cell_type": "markdown",
   "id": "d6e234b8",
   "metadata": {},
   "source": "## Atomic Tests"
  },
  {
   "cell_type": "markdown",
   "id": "c6e1416a",
   "metadata": {},
   "source": [
    "### Atomic Test #1 - Copy in loginwindow.plist for Re-Opened Applications",
    "Copy in new loginwindow.plist to launch Calculator.\n",
    "**Supported Platforms:** macos",
    "#### Attack Commands: Run with `sh`\n",
    "```sh\ncp PathToAtomicsFolder/T1547.007/src/reopen_loginwindow_calc.plist ~/Library/Preferences/ByHost/com.apple.loginwindow.plist\n```"
   ]
  },
  {
   "cell_type": "code",
   "execution_count": null,
   "id": "6a0cf4c8",
   "metadata": {},
   "outputs": [],
   "source": "Invoke-AtomicTest T1547.007 -TestNumbers 1"
  },
  {
   "cell_type": "markdown",
   "id": "ccbcd781",
   "metadata": {},
   "source": "#### Cleanup: \n```sh\nrm -f ~/Library/Preferences/ByHost/com.apple.loginwindow.plist\n```"
  },
  {
   "cell_type": "code",
   "execution_count": null,
   "id": "c0a2a78f",
   "metadata": {},
   "outputs": [],
   "source": "Invoke-AtomicTest T1547.007 -TestNumbers 1 -Cleanup"
  },
  {
   "cell_type": "markdown",
   "id": "6652994c",
   "metadata": {},
   "source": [
    "### Atomic Test #2 - Re-Opened Applications using LoginHook",
    "Mac Defaults\n\n[Reference](https://developer.apple.com/library/content/documentation/MacOSX/Conceptual/BPSystemStartup/Chapters/CustomLogin.html)\n",
    "**Supported Platforms:** macos",
    "\nElevation Required (e.g. root or admin)",
    "#### Attack Commands: Run with `sh`\n",
    "```sh\nsudo defaults write com.apple.loginwindow LoginHook /path/to/script\n```"
   ]
  },
  {
   "cell_type": "code",
   "execution_count": null,
   "id": "5e0fbfc2",
   "metadata": {},
   "outputs": [],
   "source": "Invoke-AtomicTest T1547.007 -TestNumbers 2"
  },
  {
   "cell_type": "markdown",
   "id": "09141168",
   "metadata": {},
   "source": "#### Cleanup: \n```sh\nsudo defaults delete com.apple.loginwindow LoginHook\n```"
  },
  {
   "cell_type": "code",
   "execution_count": null,
   "id": "e087ebd0",
   "metadata": {},
   "outputs": [],
   "source": "Invoke-AtomicTest T1547.007 -TestNumbers 2 -Cleanup"
  },
  {
   "cell_type": "markdown",
   "id": "b322d8a8",
   "metadata": {},
   "source": "### Atomic Test #3 - Append to existing loginwindow for Re-Opened Applications\nAppends an entry to launch Calculator hidden loginwindow.*.plist for next login.\nNote that the change may not result in the added Calculator program launching on next user login.\nIt may depend on which version of macOS you are running on.\n\n**Supported Platforms:** macos\n#### Dependencies:  Run with `bash`!\n##### Description: compile C program\n\n##### Check Prereq Commands:\n```sh\nif [ -f \"/tmp/t1547007_append_exe\" ]; then exit 0 ; else exit 1; fi\n\n```\n##### Get Prereq Commands:\n```sh\ncc PathToAtomicsFolder/T1547.007/src/append_reopen_loginwindow.m -o /tmp/t1547007_append_exe -framework Cocoa\n\n```"
  },
  {
   "cell_type": "code",
   "execution_count": null,
   "id": "cbbd6ca4",
   "metadata": {},
   "outputs": [],
   "source": "Invoke-AtomicTest T1547.007 -TestNumbers 3 -GetPreReqs"
  },
  {
   "cell_type": "markdown",
   "id": "b95e3a01",
   "metadata": {},
   "source": [
    "#### Attack Commands: Run with `sh`\n",
    "```sh\nFILE=`find ~/Library/Preferences/ByHost/com.apple.loginwindow.*.plist -type f | head -1`\nif [ -z \"${FILE}\" ] ; then echo \"No loginwindow plist file found\" && exit 1 ; fi\necho save backup copy to /tmp/\ncp ${FILE} /tmp/t1547007_loginwindow-backup.plist\necho before\nplutil -p ${FILE}\necho overwriting...\n/tmp/t1547007_append_exe ${FILE} && echo after && plutil -p ${FILE}\n```"
   ]
  },
  {
   "cell_type": "code",
   "execution_count": null,
   "id": "cf103db7",
   "metadata": {},
   "outputs": [],
   "source": "Invoke-AtomicTest T1547.007 -TestNumbers 3"
  },
  {
   "cell_type": "markdown",
   "id": "c9b172de",
   "metadata": {},
   "source": "#### Cleanup: \n```sh\nrm -f /tmp/t1547007_append_exe\n# revert to backup copy\nFILE=`find ~/Library/Preferences/ByHost/com.apple.loginwindow.*.plist -type f | head -1`\nif [ -z \"${FILE}\" ] ; then\n   exit 0\nfi\nmv /tmp/t1547007_loginwindow-backup.plist ${FILE}\n```"
  },
  {
   "cell_type": "code",
   "execution_count": null,
   "id": "009f255d",
   "metadata": {},
   "outputs": [],
   "source": "Invoke-AtomicTest T1547.007 -TestNumbers 3 -Cleanup"
  },
  {
   "cell_type": "markdown",
   "id": "5d3f6cb6",
   "metadata": {},
   "source": "## Detection\nMonitoring the specific plist files associated with reopening applications can indicate when an application has registered itself to be reopened."
  }
 ],
 "metadata": {
  "kernelspec": {
   "display_name": ".NET (PowerShell)",
   "language": "pwsh",
   "name": ".net-powershell"
  },
  "language_info": {
   "file_extension": ".ps1",
   "mimetype": "text/x-powershell",
   "name": "pwsh",
   "pygments_lexer": "powershell",
   "version": "7.0"
  }
 },
 "nbformat": 4,
 "nbformat_minor": 5
}