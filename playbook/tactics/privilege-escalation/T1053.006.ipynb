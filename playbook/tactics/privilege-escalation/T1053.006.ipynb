{
 "cells": [
  {
   "cell_type": "markdown",
   "id": "32c7dd9b",
   "metadata": {},
   "source": "# T1053.006 - Systemd Timers\nAdversaries may abuse systemd timers to perform task scheduling for initial or recurring execution of malicious code. Systemd timers are unit files with file extension <code>.timer</code> that control services. Timers can be set to run on a calendar event or after a time span relative to a starting point. They can be used as an alternative to [Cron](https://attack.mitre.org/techniques/T1053/003) in Linux environments.(Citation: archlinux Systemd Timers Aug 2020) Systemd timers may be activated remotely via the <code>systemctl</code> command line utility, which operates over [SSH](https://attack.mitre.org/techniques/T1021/004).(Citation: Systemd Remote Control)\n\nEach <code>.timer</code> file must have a corresponding <code>.service</code> file with the same name, e.g., <code>example.timer</code> and <code>example.service</code>. <code>.service</code> files are [Systemd Service](https://attack.mitre.org/techniques/T1543/002) unit files that are managed by the systemd system and service manager.(Citation: Linux man-pages: systemd January 2014) Privileged timers are written to <code>/etc/systemd/system/</code> and <code>/usr/lib/systemd/system</code> while user level are written to <code>~/.config/systemd/user/</code>.\n\nAn adversary may use systemd timers to execute malicious code at system startup or on a scheduled basis for persistence.(Citation: Arch Linux Package Systemd Compromise BleepingComputer 10JUL2018)(Citation: gist Arch package compromise 10JUL2018)(Citation: acroread package compromised Arch Linux Mail 8JUL2018) Timers installed using privileged paths may be used to maintain root level persistence. Adversaries may also install user level timers to achieve user level persistence.(Citation: Falcon Sandbox smp: 28553b3a9d)"
  },
  {
   "cell_type": "markdown",
   "id": "f3773131",
   "metadata": {},
   "source": "## Atomic Tests"
  },
  {
   "cell_type": "markdown",
   "id": "dcc500f3",
   "metadata": {},
   "source": [
    "### Atomic Test #1 - Create Systemd Service and Timer",
    "This test creates Systemd service and timer then starts and enables the Systemd timer \n",
    "**Supported Platforms:** linux",
    "#### Attack Commands: Run with `bash`\n",
    "```bash\necho \"[Unit]\" > /etc/systemd/system/art-timer.service\necho \"Description=Atomic Red Team Systemd Timer Service\" >> /etc/systemd/system/art-timer.service\necho \"[Service]\" >> /etc/systemd/system/art-timer.service\necho \"Type=simple\" >> /etc/systemd/system/art-timer.service\necho \"ExecStart=/bin/touch /tmp/art-systemd-timer-marker\" >> /etc/systemd/system/art-timer.service\necho \"[Install]\" >> /etc/systemd/system/art-timer.service\necho \"WantedBy=multi-user.target\" >> /etc/systemd/system/art-timer.service\necho \"[Unit]\" > /etc/systemd/system/art-timer.timer\necho \"Description=Executes Atomic Red Team Systemd Timer Service\" >> /etc/systemd/system/art-timer.timer\necho \"Requires=art-timer.service\" >> /etc/systemd/system/art-timer.timer\necho \"[Timer]\" >> /etc/systemd/system/art-timer.timer\necho \"Unit=art-timer.service\" >> /etc/systemd/system/art-timer.timer\necho \"OnCalendar=*-*-* *:*:00\" >> /etc/systemd/system/art-timer.timer\necho \"[Install]\" >> /etc/systemd/system/art-timer.timer\necho \"WantedBy=timers.target\" >> /etc/systemd/system/art-timer.timer\nsystemctl start art-timer.timer\nsystemctl enable art-timer.timer\nsystemctl daemon-reload\n```"
   ]
  },
  {
   "cell_type": "code",
   "execution_count": null,
   "id": "a94101b6",
   "metadata": {},
   "outputs": [],
   "source": "Invoke-AtomicTest T1053.006 -TestNumbers 1"
  },
  {
   "cell_type": "markdown",
   "id": "7ed8566d",
   "metadata": {},
   "source": "#### Cleanup: \n```bash\nsystemctl stop art-timer.timer\nsystemctl disable art-timer.timer\nrm /etc/systemd/system/art-timer.service\nrm /etc/systemd/system/art-timer.timer\nsystemctl daemon-reload\n```"
  },
  {
   "cell_type": "code",
   "execution_count": null,
   "id": "111ef549",
   "metadata": {},
   "outputs": [],
   "source": "Invoke-AtomicTest T1053.006 -TestNumbers 1 -Cleanup"
  },
  {
   "cell_type": "markdown",
   "id": "05670ddc",
   "metadata": {},
   "source": "### Atomic Test #2 - Create a user level transient systemd service and timer\nSchedule a user level transient task (will not survive a reboot) without having to create the .timer or .service files by using the systemd-run command. \n\n**Supported Platforms:** linux\n\nElevation Required (e.g. root or admin)\n#### Dependencies:  Run with `sh`!\n##### Description: Check if systemd-run exists on the machine\n\n##### Check Prereq Commands:\n```sh\nif [ -x \"$(command -v systemd-run)\" ]; then exit 0; else exit 1; fi;\n\n```\n##### Get Prereq Commands:\n```sh\necho \"Install systemd on the machine.\"; exit 1;\n\n```"
  },
  {
   "cell_type": "code",
   "execution_count": null,
   "id": "3a10f49d",
   "metadata": {},
   "outputs": [],
   "source": "Invoke-AtomicTest T1053.006 -TestNumbers 2 -GetPreReqs"
  },
  {
   "cell_type": "markdown",
   "id": "a2ab8c4d",
   "metadata": {},
   "source": [
    "#### Attack Commands: Run with `sh`\n",
    "```sh\nsystemd-run --user --unit=Atomic-Red-Team --on-calendar '*:0/1' /bin/sh -c 'echo \"$(date) $(whoami)\" >>/tmp/log'\n```"
   ]
  },
  {
   "cell_type": "code",
   "execution_count": null,
   "id": "f96a8963",
   "metadata": {},
   "outputs": [],
   "source": "Invoke-AtomicTest T1053.006 -TestNumbers 2"
  },
  {
   "cell_type": "markdown",
   "id": "ba266cce",
   "metadata": {},
   "source": "#### Cleanup: \n```sh\nsystemctl --user stop Atomic-Red-Team.service\nsystemctl --user stop Atomic-Red-Team.timer\nrm /tmp/log\n```"
  },
  {
   "cell_type": "code",
   "execution_count": null,
   "id": "13b52970",
   "metadata": {},
   "outputs": [],
   "source": "Invoke-AtomicTest T1053.006 -TestNumbers 2 -Cleanup"
  },
  {
   "cell_type": "markdown",
   "id": "328889a4",
   "metadata": {},
   "source": "### Atomic Test #3 - Create a system level transient systemd service and timer\nSchedule a system level transient task (will not survive a reboot) without having to create the .timer or .service files by using the systemd-run command. \n\n**Supported Platforms:** linux\n\nElevation Required (e.g. root or admin)\n#### Dependencies:  Run with `sh`!\n##### Description: Check if systemd-run exists on the machine\n\n##### Check Prereq Commands:\n```sh\nif [ -x \"$(command -v systemd-run)\" ]; then exit 0; else exit 1; fi;\n\n```\n##### Get Prereq Commands:\n```sh\necho \"Install systemd on the machine.\"; exit 1;\n\n```"
  },
  {
   "cell_type": "code",
   "execution_count": null,
   "id": "cf3e15ff",
   "metadata": {},
   "outputs": [],
   "source": "Invoke-AtomicTest T1053.006 -TestNumbers 3 -GetPreReqs"
  },
  {
   "cell_type": "markdown",
   "id": "d89cb484",
   "metadata": {},
   "source": [
    "#### Attack Commands: Run with `sh`\n",
    "```sh\nsystemd-run --unit=Atomic-Red-Team --on-calendar '*:0/1' /bin/sh -c 'echo \"$(date) $(whoami)\" >>/tmp/log'\n```"
   ]
  },
  {
   "cell_type": "code",
   "execution_count": null,
   "id": "122378a0",
   "metadata": {},
   "outputs": [],
   "source": "Invoke-AtomicTest T1053.006 -TestNumbers 3"
  },
  {
   "cell_type": "markdown",
   "id": "1380606d",
   "metadata": {},
   "source": "#### Cleanup: \n```sh\nsystemctl stop Atomic-Red-Team.service\nsystemctl stop Atomic-Red-Team.timer\nrm /tmp/log\n```"
  },
  {
   "cell_type": "code",
   "execution_count": null,
   "id": "d1ea3541",
   "metadata": {},
   "outputs": [],
   "source": "Invoke-AtomicTest T1053.006 -TestNumbers 3 -Cleanup"
  },
  {
   "cell_type": "markdown",
   "id": "6593ec29",
   "metadata": {},
   "source": "## Detection\nSystemd timer unit files may be detected by auditing file creation and modification events within the <code>/etc/systemd/system</code>, <code>/usr/lib/systemd/system/</code>, and <code>~/.config/systemd/user/</code> directories, as well as associated symbolic links. Suspicious processes or scripts spawned in this manner will have a parent process of \u2018systemd\u2019, a parent process ID of 1, and will usually execute as the \u2018root\u2019 user.\n\nSuspicious systemd timers can also be identified by comparing results against a trusted system baseline. Malicious systemd timers may be detected by using the systemctl utility to examine system wide timers: <code>systemctl list-timers \u2013all</code>. Analyze the contents of corresponding <code>.service</code> files present on the file system and ensure that they refer to legitimate, expected executables.\n\nAudit the execution and command-line arguments of the 'systemd-run' utility as it may be used to create timers.(Citation: archlinux Systemd Timers Aug 2020)"
  }
 ],
 "metadata": {
  "kernelspec": {
   "display_name": ".NET (PowerShell)",
   "language": "pwsh",
   "name": ".net-powershell"
  },
  "language_info": {
   "file_extension": ".ps1",
   "mimetype": "text/x-powershell",
   "name": "pwsh",
   "pygments_lexer": "powershell",
   "version": "7.0"
  }
 },
 "nbformat": 4,
 "nbformat_minor": 5
}