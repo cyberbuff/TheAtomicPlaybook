{
 "cells": [
  {
   "cell_type": "markdown",
   "id": "07a06ebc",
   "metadata": {},
   "source": "# T1546.004 - Unix Shell Configuration Modification\nAdversaries may establish persistence through executing malicious commands triggered by a user\u2019s shell. User [Unix Shell](https://attack.mitre.org/techniques/T1059/004)s execute several configuration scripts at different points throughout the session based on events. For example, when a user opens a command-line interface or remotely logs in (such as via SSH) a login shell is initiated. The login shell executes scripts from the system (<code>/etc</code>) and the user\u2019s home directory (<code>~/</code>) to configure the environment. All login shells on a system use /etc/profile when initiated. These configuration scripts run at the permission level of their directory and are often used to set environment variables, create aliases, and customize the user\u2019s environment. When the shell exits or terminates, additional shell scripts are executed to ensure the shell exits appropriately. \n\nAdversaries may attempt to establish persistence by inserting commands into scripts automatically executed by shells. Using bash as an example, the default shell for most GNU/Linux systems, adversaries may add commands that launch malicious binaries into the <code>/etc/profile</code> and <code>/etc/profile.d</code> files.(Citation: intezer-kaiji-malware)(Citation: bencane blog bashrc) These files typically require root permissions to modify and are executed each time any shell on a system launches. For user level permissions, adversaries can insert malicious commands into <code>~/.bash_profile</code>, <code>~/.bash_login</code>, or <code>~/.profile</code> which are sourced when a user opens a command-line interface or connects remotely.(Citation: anomali-rocke-tactics)(Citation: Linux manual bash invocation) Since the system only executes the first existing file in the listed order, adversaries have used <code>~/.bash_profile</code> to ensure execution. Adversaries have also leveraged the <code>~/.bashrc</code> file which is additionally executed if the connection is established remotely or an additional interactive shell is opened, such as a new tab in the command-line interface.(Citation: Tsunami)(Citation: anomali-rocke-tactics)(Citation: anomali-linux-rabbit)(Citation: Magento) Some malware targets the termination of a program to trigger execution, adversaries can use the <code>~/.bash_logout</code> file to execute malicious commands at the end of a session. \n\nFor macOS, the functionality of this technique is similar but may leverage zsh, the default shell for macOS 10.15+. When the Terminal.app is opened, the application launches a zsh login shell and a zsh interactive shell. The login shell configures the system environment using <code>/etc/profile</code>, <code>/etc/zshenv</code>, <code>/etc/zprofile</code>, and <code>/etc/zlogin</code>.(Citation: ScriptingOSX zsh)(Citation: PersistentJXA_leopitt)(Citation: code_persistence_zsh)(Citation: macOS MS office sandbox escape) The login shell then configures the user environment with <code>~/.zprofile</code> and <code>~/.zlogin</code>. The interactive shell uses the <code>~/.zshrc</code> to configure the user environment. Upon exiting, <code>/etc/zlogout</code> and <code>~/.zlogout</code> are executed. For legacy programs, macOS executes <code>/etc/bashrc</code> on startup."
  },
  {
   "cell_type": "markdown",
   "id": "ed932809",
   "metadata": {},
   "source": "## Atomic Tests"
  },
  {
   "cell_type": "markdown",
   "id": "7e99bd93",
   "metadata": {},
   "source": [
    "### Atomic Test #1 - Add command to .bash_profile",
    "Adds a command to the .bash_profile file of the current user\n",
    "**Supported Platforms:** macos, linux",
    "#### Attack Commands: Run with `sh`\n",
    "```sh\necho 'echo \"Hello from Atomic Red Team T1546.004\" > /tmp/T1546.004' >> ~/.bash_profile\n```"
   ]
  },
  {
   "cell_type": "code",
   "execution_count": null,
   "id": "34f3e2d8",
   "metadata": {},
   "outputs": [],
   "source": "Invoke-AtomicTest T1546.004 -TestNumbers 1"
  },
  {
   "cell_type": "markdown",
   "id": "d6b83893",
   "metadata": {},
   "source": "#### Cleanup: \n```sh\nhead -n '-2' ~/.bash_profile > /tmp/T1546.004\nmv /tmp/T1546.004 ~/.bash_profile\n```"
  },
  {
   "cell_type": "code",
   "execution_count": null,
   "id": "a809a081",
   "metadata": {},
   "outputs": [],
   "source": "Invoke-AtomicTest T1546.004 -TestNumbers 1 -Cleanup"
  },
  {
   "cell_type": "markdown",
   "id": "01b0a5eb",
   "metadata": {},
   "source": [
    "### Atomic Test #2 - Add command to .bashrc",
    "Adds a command to the .bashrc file of the current user\n",
    "**Supported Platforms:** macos, linux",
    "#### Attack Commands: Run with `sh`\n",
    "```sh\necho 'echo \"Hello from Atomic Red Team T1546.004\" > /tmp/T1546.004' >> ~/.bashrc\n```"
   ]
  },
  {
   "cell_type": "code",
   "execution_count": null,
   "id": "c5210daf",
   "metadata": {},
   "outputs": [],
   "source": "Invoke-AtomicTest T1546.004 -TestNumbers 2"
  },
  {
   "cell_type": "markdown",
   "id": "ce513a55",
   "metadata": {},
   "source": "#### Cleanup: \n```sh\nhead -n '-2' ~/.bashrc > /tmp/T1546.004\nmv /tmp/T1546.004 ~/.bashrc\n```"
  },
  {
   "cell_type": "code",
   "execution_count": null,
   "id": "88ca209d",
   "metadata": {},
   "outputs": [],
   "source": "Invoke-AtomicTest T1546.004 -TestNumbers 2 -Cleanup"
  },
  {
   "cell_type": "markdown",
   "id": "36c45cc5",
   "metadata": {},
   "source": [
    "### Atomic Test #3 - Add command to .shrc",
    "Adds a command to the .shrc file of the current user\n",
    "**Supported Platforms:** linux",
    "#### Attack Commands: Run with `sh`\n",
    "```sh\necho 'echo \"Hello from Atomic Red Team T1546.004\" > /tmp/T1546.004' >> ~/.shrc\n```"
   ]
  },
  {
   "cell_type": "code",
   "execution_count": null,
   "id": "fc72d2f6",
   "metadata": {},
   "outputs": [],
   "source": "Invoke-AtomicTest T1546.004 -TestNumbers 3"
  },
  {
   "cell_type": "markdown",
   "id": "7414cd74",
   "metadata": {},
   "source": "#### Cleanup: \n```sh\nhead -n '-2' ~/.shrc > /tmp/T1546.004\nmv /tmp/T1546.004 ~/.shrc\n```"
  },
  {
   "cell_type": "code",
   "execution_count": null,
   "id": "1b4149ed",
   "metadata": {},
   "outputs": [],
   "source": "Invoke-AtomicTest T1546.004 -TestNumbers 3 -Cleanup"
  },
  {
   "cell_type": "markdown",
   "id": "c241a20c",
   "metadata": {},
   "source": [
    "### Atomic Test #4 - Append to the system shell profile",
    "An adversary may wish to establish persistence by executing malicious commands from the systems /etc/profile every time \"any\" user logs in.\n",
    "**Supported Platforms:** linux",
    "\nElevation Required (e.g. root or admin)",
    "#### Attack Commands: Run with `sh`\n",
    "```sh\necho '# Hello from Atomic Red Team T1546.004' >> /etc/profile\n```"
   ]
  },
  {
   "cell_type": "code",
   "execution_count": null,
   "id": "ee4741a8",
   "metadata": {},
   "outputs": [],
   "source": "Invoke-AtomicTest T1546.004 -TestNumbers 4"
  },
  {
   "cell_type": "markdown",
   "id": "0334260c",
   "metadata": {},
   "source": "#### Cleanup: \n```sh\nsed -i \"s/# Atomic Red Team was here! T1546.004//\" /etc/profile\n```"
  },
  {
   "cell_type": "code",
   "execution_count": null,
   "id": "717aa3eb",
   "metadata": {},
   "outputs": [],
   "source": "Invoke-AtomicTest T1546.004 -TestNumbers 4 -Cleanup"
  },
  {
   "cell_type": "markdown",
   "id": "a0b6a45a",
   "metadata": {},
   "source": [
    "### Atomic Test #5 - Append commands user shell profile",
    "An adversary may wish to establish persistence by executing malicious commands from the users ~/.profile every time the \"user\" logs in.\n",
    "**Supported Platforms:** linux",
    "\nElevation Required (e.g. root or admin)",
    "#### Attack Commands: Run with `sh`\n",
    "```sh\necho '# Atomic Red Team was here... T1546.004' >> ~/.profile\n```"
   ]
  },
  {
   "cell_type": "code",
   "execution_count": null,
   "id": "6859f543",
   "metadata": {},
   "outputs": [],
   "source": "Invoke-AtomicTest T1546.004 -TestNumbers 5"
  },
  {
   "cell_type": "markdown",
   "id": "eb1974e1",
   "metadata": {},
   "source": "#### Cleanup: \n```sh\nsed -i \"s/# Atomic Red Team was here... T1546.004//\" ~/.profile\n```"
  },
  {
   "cell_type": "code",
   "execution_count": null,
   "id": "edafcba0",
   "metadata": {},
   "outputs": [],
   "source": "Invoke-AtomicTest T1546.004 -TestNumbers 5 -Cleanup"
  },
  {
   "cell_type": "markdown",
   "id": "fe383f05",
   "metadata": {},
   "source": [
    "### Atomic Test #6 - System shell profile scripts",
    "An adversary may wish to establish persistence by adding commands into any of the script files in the /etc/profile.d/ directory, which are executed every time \"any\" user logs in.\n",
    "**Supported Platforms:** linux",
    "\nElevation Required (e.g. root or admin)",
    "#### Attack Commands: Run with `sh`\n",
    "```sh\necho '# Atomic Red Team was here... T1546.004' >> /etc/profile.d/bash_completion.sh\n```"
   ]
  },
  {
   "cell_type": "code",
   "execution_count": null,
   "id": "eac71808",
   "metadata": {},
   "outputs": [],
   "source": "Invoke-AtomicTest T1546.004 -TestNumbers 6"
  },
  {
   "cell_type": "markdown",
   "id": "e99e9fab",
   "metadata": {},
   "source": "#### Cleanup: \n```sh\nsed -i \"s/# Atomic Red Team was here... T1546.004//\" /etc/profile.d/bash_completion.sh\n```"
  },
  {
   "cell_type": "code",
   "execution_count": null,
   "id": "e60353ba",
   "metadata": {},
   "outputs": [],
   "source": "Invoke-AtomicTest T1546.004 -TestNumbers 6 -Cleanup"
  },
  {
   "cell_type": "markdown",
   "id": "4c7c4184",
   "metadata": {},
   "source": [
    "### Atomic Test #7 - Create/Append to .bash_logout",
    "The Bash shell runs ~/.bash_logout \"if it exists\" to run commands on user logout. An adversary may create or append to a .bash_logout to clear history, start processes etc. Note the ~/.bash_logout is only run if you explicitly exit or log out of an \"interactive login shell session\" i.e. via the console, SSH, /bin/bash -l or su -l <username>. \n\nThis test creates the art user, logs in, creates a .bash_logout which will echo some text into the art.txt file on logout and logs out and the /home/art/art.txt is created.\n",
    "**Supported Platforms:** linux",
    "\nElevation Required (e.g. root or admin)",
    "#### Attack Commands: Run with `bash`\n",
    "```bash\nuseradd --create-home --shell /bin/bash art\nsu --login art\necho 'echo \"Atomic Red Team was here... T1546.004\" >> $HOME/art.txt' >> $HOME/.bash_logout\n```"
   ]
  },
  {
   "cell_type": "code",
   "execution_count": null,
   "id": "70768c26",
   "metadata": {},
   "outputs": [],
   "source": "Invoke-AtomicTest T1546.004 -TestNumbers 7"
  },
  {
   "cell_type": "markdown",
   "id": "53603a05",
   "metadata": {},
   "source": "#### Cleanup: \n```bash\nuserdel -fr art\n```"
  },
  {
   "cell_type": "code",
   "execution_count": null,
   "id": "6e6a5f36",
   "metadata": {},
   "outputs": [],
   "source": "Invoke-AtomicTest T1546.004 -TestNumbers 7 -Cleanup"
  },
  {
   "cell_type": "markdown",
   "id": "a63c8610",
   "metadata": {},
   "source": "## Detection\nWhile users may customize their shell profile files, there are only certain types of commands that typically appear in these files. Monitor for abnormal commands such as execution of unknown programs, opening network sockets, or reaching out across the network when user profiles are loaded during the login process.\n\nMonitor for changes to <code>/etc/profile</code> and <code>/etc/profile.d</code>, these files should only be modified by system administrators. MacOS users can leverage Endpoint Security Framework file events monitoring these specific files.(Citation: ESF_filemonitor) \n\nFor most Linux and macOS systems, a list of file paths for valid shell options available on a system are located in the <code>/etc/shells</code> file.\n"
  }
 ],
 "metadata": {
  "kernelspec": {
   "display_name": ".NET (PowerShell)",
   "language": "pwsh",
   "name": ".net-powershell"
  },
  "language_info": {
   "file_extension": ".ps1",
   "mimetype": "text/x-powershell",
   "name": "pwsh",
   "pygments_lexer": "powershell",
   "version": "7.0"
  }
 },
 "nbformat": 4,
 "nbformat_minor": 5
}