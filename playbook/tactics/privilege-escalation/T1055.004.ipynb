{
 "cells": [
  {
   "cell_type": "markdown",
   "id": "44a412ab",
   "metadata": {},
   "source": "# T1055.004 - Asynchronous Procedure Call\nAdversaries may inject malicious code into processes via the asynchronous procedure call (APC) queue in order to evade process-based defenses as well as possibly elevate privileges. APC injection is a method of executing arbitrary code in the address space of a separate live process. \n\nAPC injection is commonly performed by attaching malicious code to the APC Queue (Citation: Microsoft APC) of a process's thread. Queued APC functions are executed when the thread enters an alterable state.(Citation: Microsoft APC) A handle to an existing victim process is first created with native Windows API calls such as <code>OpenThread</code>. At this point <code>QueueUserAPC</code> can be used to invoke a function (such as <code>LoadLibrayA</code> pointing to a malicious DLL). \n\nA variation of APC injection, dubbed \"Early Bird injection\", involves creating a suspended process in which malicious code can be written and executed before the process' entry point (and potentially subsequent anti-malware hooks) via an APC. (Citation: CyberBit Early Bird Apr 2018) AtomBombing (Citation: ENSIL AtomBombing Oct 2016) is another variation that utilizes APCs to invoke malicious code previously written to the global atom table.(Citation: Microsoft Atom Table)\n\nRunning code in the context of another process may allow access to the process's memory, system/network resources, and possibly elevated privileges. Execution via APC injection may also evade detection from security products since the execution is masked under a legitimate process. "
  },
  {
   "cell_type": "markdown",
   "id": "e1369c08",
   "metadata": {},
   "source": "## Atomic Tests"
  },
  {
   "cell_type": "markdown",
   "id": "6923f060",
   "metadata": {},
   "source": "### Atomic Test #1 - Process Injection via C#\nProcess Injection using C#\nreference: https://github.com/pwndizzle/c-sharp-memory-injection\nExcercises Five Techniques\n1. Process injection\n2. ApcInjectionAnyProcess\n3. ApcInjectionNewProcess\n4. IatInjection\n5. ThreadHijack\nUpon successful execution, cmd.exe will execute T1055.exe, which exercises 5 techniques. Output will be via stdout.\n\n**Supported Platforms:** windows\n#### Dependencies:  Run with `powershell`!\n##### Description: #{exe_binary} must be exist on system.\n\n##### Check Prereq Commands:\n```cmd\nif (Test-Path \"PathToAtomicsFolder\\T1055.004\\bin\\T1055.exe\") {exit 0} else {exit 1}\n\n```\n##### Get Prereq Commands:\n```cmd\nNew-Item -Type Directory (split-path \"PathToAtomicsFolder\\T1055.004\\bin\\T1055.exe\") -ErrorAction ignore | Out-Null\nInvoke-WebRequest \"https://github.com/redcanaryco/atomic-red-team/raw/master/atomics/T1055.004/bin/T1055.exe\" -OutFile \"PathToAtomicsFolder\\T1055.004\\bin\\T1055.exe\"\n\n```"
  },
  {
   "cell_type": "code",
   "execution_count": null,
   "id": "007a8a5a",
   "metadata": {},
   "outputs": [],
   "source": "Invoke-AtomicTest T1055.004 -TestNumbers 1 -GetPreReqs"
  },
  {
   "cell_type": "markdown",
   "id": "0038edd9",
   "metadata": {},
   "source": [
    "#### Attack Commands: Run with `command_prompt`\n",
    "```command_prompt\n\"PathToAtomicsFolder\\T1055.004\\bin\\T1055.exe\"\n```"
   ]
  },
  {
   "cell_type": "code",
   "execution_count": null,
   "id": "b0c1400b",
   "metadata": {},
   "outputs": [],
   "source": "Invoke-AtomicTest T1055.004 -TestNumbers 1"
  },
  {
   "cell_type": "markdown",
   "id": "0a029239",
   "metadata": {},
   "source": [
    "### Atomic Test #2 - EarlyBird APC Queue Injection in Go",
    "Creates a process in a suspended state and calls QueueUserAPC WinAPI to add a UserAPC to the child process that points to allocated shellcode. \nResumeThread is called which then calls NtTestAlert to execute the created UserAPC which then executes the shellcode.\nThis technique allows for the early execution of shellcode and potentially before AV/EDR can hook functions to support detection.\n- PoC Credit: (https://github.com/Ne0nd0g/go-shellcode#createprocesswithpipe)\n- References: \n  - https://www.bleepingcomputer.com/news/security/early-bird-code-injection-technique-helps-malware-stay-undetected/\n  - https://www.ired.team/offensive-security/code-injection-process-injection/early-bird-apc-queue-code-injection\n",
    "**Supported Platforms:** windows",
    "\nElevation Required (e.g. root or admin)",
    "#### Attack Commands: Run with `powershell`\n",
    "```powershell\n$PathToAtomicsFolder\\T1055.004\\bin\\x64\\EarlyBird.exe -program \"C:\\Windows\\System32\\werfault.exe\" -debug\n```"
   ]
  },
  {
   "cell_type": "code",
   "execution_count": null,
   "id": "727364c6",
   "metadata": {},
   "outputs": [],
   "source": "Invoke-AtomicTest T1055.004 -TestNumbers 2"
  },
  {
   "cell_type": "markdown",
   "id": "342eb7ef",
   "metadata": {},
   "source": "#### Cleanup: \n```powershell\nStop-Process -Name CalculatorApp -ErrorAction SilentlyContinue\nStop-Process -Name \"werfault\" -ErrorAction SilentlyContinue\n```"
  },
  {
   "cell_type": "code",
   "execution_count": null,
   "id": "dd29a001",
   "metadata": {},
   "outputs": [],
   "source": "Invoke-AtomicTest T1055.004 -TestNumbers 2 -Cleanup"
  },
  {
   "cell_type": "markdown",
   "id": "72dd9f01",
   "metadata": {},
   "source": [
    "### Atomic Test #3 - Remote Process Injection with Go using NtQueueApcThreadEx WinAPI",
    "Uses the undocumented NtQueueAPCThreadEx WinAPI to create a \"Special User APC\" in the current thread of the current process to execute shellcode. \nSince the shellcode is loaded and executed in the current process it is considered local shellcode execution.\n\nSteps taken with this technique\n1. Allocate memory for the shellcode with VirtualAlloc setting the page permissions to Read/Write\n2. Use the RtlCopyMemory macro to copy the shellcode to the allocated memory space\n3. Change the memory page permissions to Execute/Read with VirtualProtect\n4. Get a handle to the current thread\n5. Execute the shellcode in the current thread by creating a Special User APC through the NtQueueApcThreadEx function\n\n- PoC Credit: (https://github.com/Ne0nd0g/go-shellcode/tree/master#rtlcreateuserthread)\n- References:\n  - https://repnz.github.io/posts/apc/user-apc/\n  - https://docs.rs/ntapi/0.3.1/ntapi/ntpsapi/fn.NtQueueApcThreadEx.html\n  - https://0x00sec.org/t/process-injection-apc-injection/24608\n  - https://twitter.com/aionescu/status/992264290924032005\n  - http://www.opening-windows.com/techart_windows_vista_apc_internals2.htm#_Toc229652505\n",
    "**Supported Platforms:** windows",
    "\nElevation Required (e.g. root or admin)",
    "#### Attack Commands: Run with `powershell`\n",
    "```powershell\n$PathToAtomicsFolder\\T1055.004\\bin\\x64\\NtQueueApcThreadEx.exe -debug\n```"
   ]
  },
  {
   "cell_type": "code",
   "execution_count": null,
   "id": "0ebe6006",
   "metadata": {},
   "outputs": [],
   "source": "Invoke-AtomicTest T1055.004 -TestNumbers 3"
  },
  {
   "cell_type": "markdown",
   "id": "97388662",
   "metadata": {},
   "source": "#### Cleanup: \n```powershell\nStop-Process -Name CalculatorApp -ErrorAction SilentlyContinue```"
  },
  {
   "cell_type": "code",
   "execution_count": null,
   "id": "a3fb7931",
   "metadata": {},
   "outputs": [],
   "source": "Invoke-AtomicTest T1055.004 -TestNumbers 3 -Cleanup"
  },
  {
   "cell_type": "markdown",
   "id": "264e94f4",
   "metadata": {},
   "source": "## Detection\nMonitoring Windows API calls indicative of the various types of code injection may generate a significant amount of data and may not be directly useful for defense unless collected under specific circumstances for known bad sequences of calls, since benign use of API functions may be common and difficult to distinguish from malicious behavior. Windows API calls such as <code>SuspendThread</code>/<code>SetThreadContext</code>/<code>ResumeThread</code>, <code>QueueUserAPC</code>/<code>NtQueueApcThread</code>, and those that can be used to modify memory within another process, such as <code>VirtualAllocEx</code>/<code>WriteProcessMemory</code>, may be used for this technique.(Citation: Elastic Process Injection July 2017)\n\nAnalyze process behavior to determine if a process is performing actions it usually does not, such as opening network connections, reading files, or other suspicious actions that could relate to post-compromise behavior. "
  }
 ],
 "metadata": {
  "kernelspec": {
   "display_name": ".NET (PowerShell)",
   "language": "pwsh",
   "name": ".net-powershell"
  },
  "language_info": {
   "file_extension": ".ps1",
   "mimetype": "text/x-powershell",
   "name": "pwsh",
   "pygments_lexer": "powershell",
   "version": "7.0"
  }
 },
 "nbformat": 4,
 "nbformat_minor": 5
}