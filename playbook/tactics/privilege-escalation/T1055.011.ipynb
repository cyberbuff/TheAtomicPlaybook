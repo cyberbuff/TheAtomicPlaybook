{
 "cells": [
  {
   "cell_type": "markdown",
   "id": "5118189f",
   "metadata": {},
   "source": "# T1055.011 - Extra Window Memory Injection\nAdversaries may inject malicious code into process via Extra Window Memory (EWM) in order to evade process-based defenses as well as possibly elevate privileges. EWM injection is a method of executing arbitrary code in the address space of a separate live process. \n\nBefore creating a window, graphical Windows-based processes must prescribe to or register a windows class, which stipulate appearance and behavior (via windows procedures, which are functions that handle input/output of data).(Citation: Microsoft Window Classes) Registration of new windows classes can include a request for up to 40 bytes of EWM to be appended to the allocated memory of each instance of that class. This EWM is intended to store data specific to that window and has specific application programming interface (API) functions to set and get its value. (Citation: Microsoft GetWindowLong function) (Citation: Microsoft SetWindowLong function)\n\nAlthough small, the EWM is large enough to store a 32-bit pointer and is often used to point to a windows procedure. Malware may possibly utilize this memory location in part of an attack chain that includes writing code to shared sections of the process\u2019s memory, placing a pointer to the code in EWM, then invoking execution by returning execution control to the address in the process\u2019s EWM.\n\nExecution granted through EWM injection may allow access to both the target process's memory and possibly elevated privileges. Writing payloads to shared sections also avoids the use of highly monitored API calls such as <code>WriteProcessMemory</code> and <code>CreateRemoteThread</code>.(Citation: Elastic Process Injection July 2017) More sophisticated malware samples may also potentially bypass protection mechanisms such as data execution prevention (DEP) by triggering a combination of windows procedures and other system functions that will rewrite the malicious payload inside an executable portion of the target process.  (Citation: MalwareTech Power Loader Aug 2013) (Citation: WeLiveSecurity Gapz and Redyms Mar 2013)\n\nRunning code in the context of another process may allow access to the process's memory, system/network resources, and possibly elevated privileges. Execution via EWM injection may also evade detection from security products since the execution is masked under a legitimate process. "
  },
  {
   "cell_type": "markdown",
   "id": "e3381308",
   "metadata": {},
   "source": "## Atomic Tests"
  },
  {
   "cell_type": "markdown",
   "id": "79018e64",
   "metadata": {},
   "source": "### Atomic Test #1 - Process Injection via Extra Window Memory (EWM) x64 executable\nHooks functions of main process to inject a payload via Extra Window Memory (EWM) injection technique\n**Supported Platforms:** windows\n\nElevation Required (e.g. root or admin)\n#### Dependencies:  Run with `powershell`!\n##### Description: T1055.011x64.exe and payload must exist on disk at specified location (#{exe_binary} and #{payload_file})\n##### Check Prereq Commands:\n```powershell\nif (Test-Path PathToAtomicsFolder\\T1055.011\\bin\\T1055.011_#{arch}.exe) {exit 0} else {exit 1}\n```\n##### Get Prereq Commands:\n```powershell\nNew-Item -Type Directory (split-path PathToAtomicsFolder\\T1055.011\\bin\\T1055.011_#{arch}.exe) -ErrorAction ignore | Out-Null\nInvoke-WebRequest \"https://github.com/redcanaryco/atomic-red-team/raw/master/atomics/T1055.011/bin/T1055.011_x64.exe\" -OutFile \"PathToAtomicsFolder\\T1055.011\\bin\\T1055.011_#{arch}.exe\" -UseBasicParsing\nInvoke-WebRequest \"https://github.com/redcanaryco/atomic-red-team/raw/master/atomics/T1055.011/bin/payload.exe_x64.bin\" -OutFile \"PathToAtomicsFolder\\T1055.011\\bin\\payload.exe_#{arch}.bin\" -UseBasicParsing\n```"
  },
  {
   "cell_type": "code",
   "execution_count": null,
   "id": "d2487593",
   "metadata": {},
   "outputs": [],
   "source": "Invoke-AtomicTest T1055.011 -TestNumbers 1 -GetPreReqs"
  },
  {
   "cell_type": "markdown",
   "id": "44f20d76",
   "metadata": {},
   "source": [
    "#### Attack Commands: Run with `powershell`\n",
    "```powershell\nPathToAtomicsFolder\\T1055.011\\bin\\T1055.011_#{arch}.exe```"
   ]
  },
  {
   "cell_type": "code",
   "execution_count": null,
   "id": "3ce196a1",
   "metadata": {},
   "outputs": [],
   "source": "Invoke-AtomicTest T1055.011 -TestNumbers 1"
  },
  {
   "cell_type": "markdown",
   "id": "36f44bd6",
   "metadata": {},
   "source": "#### Cleanup: \n```powershell\nGet-Process -Name Notepad -ErrorAction SilentlyContinue | Stop-Process -Force```"
  },
  {
   "cell_type": "code",
   "execution_count": null,
   "id": "0c1243ed",
   "metadata": {},
   "outputs": [],
   "source": "Invoke-AtomicTest T1055.011 -TestNumbers 1 -Cleanup"
  },
  {
   "cell_type": "markdown",
   "id": "15a08888",
   "metadata": {},
   "source": "## Detection\nMonitor for API calls related to enumerating and manipulating EWM such as GetWindowLong (Citation: Microsoft GetWindowLong function) and SetWindowLong (Citation: Microsoft SetWindowLong function). Malware associated with this technique have also used SendNotifyMessage (Citation: Microsoft SendNotifyMessage function) to trigger the associated window procedure and eventual malicious injection. (Citation: Elastic Process Injection July 2017)"
  }
 ],
 "metadata": {
  "kernelspec": {
   "display_name": ".NET (PowerShell)",
   "language": "pwsh",
   "name": ".net-powershell"
  },
  "language_info": {
   "file_extension": ".ps1",
   "mimetype": "text/x-powershell",
   "name": "pwsh",
   "pygments_lexer": "powershell",
   "version": "7.0"
  }
 },
 "nbformat": 4,
 "nbformat_minor": 5
}