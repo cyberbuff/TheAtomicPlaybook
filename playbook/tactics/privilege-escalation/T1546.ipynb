{
 "cells": [
  {
   "cell_type": "markdown",
   "id": "5e16daca",
   "metadata": {},
   "source": "# T1546 - Event Triggered Execution\nAdversaries may establish persistence and/or elevate privileges using system mechanisms that trigger execution based on specific events. Various operating systems have means to monitor and subscribe to events such as logons or other user activity such as running specific applications/binaries. Cloud environments may also support various functions and services that monitor and can be invoked in response to specific cloud events.(Citation: Backdooring an AWS account)(Citation: Varonis Power Automate Data Exfiltration)(Citation: Microsoft DART Case Report 001)\n\nAdversaries may abuse these mechanisms as a means of maintaining persistent access to a victim via repeatedly executing malicious code. After gaining access to a victim system, adversaries may create/modify event triggers to point to malicious content that will be executed whenever the event trigger is invoked.(Citation: FireEye WMI 2015)(Citation: Malware Persistence on OS X)(Citation: amnesia malware)\n\nSince the execution can be proxied by an account with higher permissions, such as SYSTEM or service accounts, an adversary may be able to abuse these triggered execution mechanisms to escalate their privileges. "
  },
  {
   "cell_type": "markdown",
   "id": "846031f0",
   "metadata": {},
   "source": "## Atomic Tests"
  },
  {
   "cell_type": "markdown",
   "id": "4e96d12a",
   "metadata": {},
   "source": "### Atomic Test #1 - Persistence with Custom AutodialDLL\nThe DLL pointed to by the AutodialDLL registry key is loaded every time a process connects to the internet. Attackers can gain persistent code execution by setting this key to a DLL of their choice. \n\nThe sample dll provided, AltWinSock2DLL, will launch the notepad process. Starting and stopping a web browser such as MS Edge or Chrome should result in the dll executing.\n[Blog](https://www.mdsec.co.uk/2022/10/autodialdlling-your-way/)\n\n**Supported Platforms:** windows\n\nElevation Required (e.g. root or admin)\n#### Dependencies:  Run with `powershell`!\n##### Description: AltWinSock2DLL DLL must exist on disk at specified at PathToAtomicsFolder\\T1546\\bin\\AltWinSock2DLL.dll\n\n##### Check Prereq Commands:\n```powershell\nif (Test-Path PathToAtomicsFolder\\T1546\\bin\\AltWinSock2DLL.dll) { exit 0} else { exit 1}\n\n```\n##### Get Prereq Commands:\n```powershell\nNew-Item -Type Directory \"PathToAtomicsFolder\\T1546\\bin\\\" -ErrorAction ignore | Out-Null\nInvoke-WebRequest \"https://github.com/redcanaryco/atomic-red-team/raw/master/atomics/T1546/bin/AltWinSock2DLL.dll\" -OutFile \"PathToAtomicsFolder\\T1546\\bin\\AltWinSock2DLL.dll\"\n\n```"
  },
  {
   "cell_type": "code",
   "execution_count": null,
   "id": "96075dc8",
   "metadata": {},
   "outputs": [],
   "source": "Invoke-AtomicTest T1546 -TestNumbers 1 -GetPreReqs"
  },
  {
   "cell_type": "markdown",
   "id": "f317df78",
   "metadata": {},
   "source": [
    "#### Attack Commands: Run with `powershell`\n",
    "```powershell\nSet-ItemProperty HKLM:\\SYSTEM\\CurrentControlSet\\Services\\WinSock2\\Parameters -Name AutodialDLL -Value PathToAtomicsFolder\\T1546\\bin\\AltWinSock2DLL.dll\n```"
   ]
  },
  {
   "cell_type": "code",
   "execution_count": null,
   "id": "227ca8e2",
   "metadata": {},
   "outputs": [],
   "source": "Invoke-AtomicTest T1546 -TestNumbers 1"
  },
  {
   "cell_type": "markdown",
   "id": "5b2be72d",
   "metadata": {},
   "source": "#### Cleanup: \n```powershell\nSet-ItemProperty HKLM:\\SYSTEM\\CurrentControlSet\\Services\\WinSock2\\Parameters -Name AutodialDLL -Value  $env:windir\\system32\\rasadhlp.dll```"
  },
  {
   "cell_type": "code",
   "execution_count": null,
   "id": "1b386752",
   "metadata": {},
   "outputs": [],
   "source": "Invoke-AtomicTest T1546 -TestNumbers 1 -Cleanup"
  },
  {
   "cell_type": "markdown",
   "id": "2bfabb99",
   "metadata": {},
   "source": [
    "### Atomic Test #2 - HKLM - Persistence using CommandProcessor AutoRun key (With Elevation)",
    "An adversary may abuse the CommandProcessor AutoRun registry key to persist. Every time cmd.exe is executed, the command defined in the AutoRun key also gets executed.\n[reference](https://devblogs.microsoft.com/oldnewthing/20071121-00/?p=24433)",
    "**Supported Platforms:** windows",
    "\nElevation Required (e.g. root or admin)",
    "#### Attack Commands: Run with `powershell`\n",
    "```powershell\nNew-ItemProperty -Path \"HKLM:\\Software\\Microsoft\\Command Processor\" -Name \"AutoRun\" -Value \"notepad.exe\" -PropertyType \"String\"```"
   ]
  },
  {
   "cell_type": "code",
   "execution_count": null,
   "id": "6df5f393",
   "metadata": {},
   "outputs": [],
   "source": "Invoke-AtomicTest T1546 -TestNumbers 2"
  },
  {
   "cell_type": "markdown",
   "id": "c25ad822",
   "metadata": {},
   "source": "#### Cleanup: \n```powershell\nRemove-ItemProperty -Path \"HKLM:\\Software\\Microsoft\\Command Processor\" -Name \"AutoRun\" -ErrorAction Ignore```"
  },
  {
   "cell_type": "code",
   "execution_count": null,
   "id": "85a2cce6",
   "metadata": {},
   "outputs": [],
   "source": "Invoke-AtomicTest T1546 -TestNumbers 2 -Cleanup"
  },
  {
   "cell_type": "markdown",
   "id": "ec057bde",
   "metadata": {},
   "source": [
    "### Atomic Test #3 - HKCU - Persistence using CommandProcessor AutoRun key (Without Elevation)",
    "An adversary may abuse the CommandProcessor AutoRun registry key to persist. Every time cmd.exe is executed, the command defined in the AutoRun key also gets executed.\n[reference](https://devblogs.microsoft.com/oldnewthing/20071121-00/?p=24433)",
    "**Supported Platforms:** windows",
    "#### Attack Commands: Run with `powershell`\n",
    "```powershell\n$path = \"HKCU:\\Software\\Microsoft\\Command Processor\"\nif (!(Test-Path -path $path)){\n  New-Item -ItemType Key -Path $path\n}\nNew-ItemProperty -Path $path -Name \"AutoRun\" -Value \"notepad.exe\" -PropertyType \"String\"```"
   ]
  },
  {
   "cell_type": "code",
   "execution_count": null,
   "id": "2843dd0f",
   "metadata": {},
   "outputs": [],
   "source": "Invoke-AtomicTest T1546 -TestNumbers 3"
  },
  {
   "cell_type": "markdown",
   "id": "917dcf6b",
   "metadata": {},
   "source": "#### Cleanup: \n```powershell\nRemove-ItemProperty -Path \"HKCU:\\Software\\Microsoft\\Command Processor\" -Name \"AutoRun\" -ErrorAction Ignore```"
  },
  {
   "cell_type": "code",
   "execution_count": null,
   "id": "32227d6e",
   "metadata": {},
   "outputs": [],
   "source": "Invoke-AtomicTest T1546 -TestNumbers 3 -Cleanup"
  },
  {
   "cell_type": "markdown",
   "id": "9a0c7a1a",
   "metadata": {},
   "source": "## Detection\nMonitoring for additions or modifications of mechanisms that could be used to trigger event-based execution, especially the addition of abnormal commands such as execution of unknown programs, opening network sockets, or reaching out across the network. Also look for changes that do not line up with updates, patches, or other planned administrative activity. \n\nThese mechanisms may vary by OS, but are typically stored in central repositories that store configuration information such as the Windows Registry, Common Information Model (CIM), and/or specific named files, the last of which can be hashed and compared to known good values. \n\nMonitor for processes, API/System calls, and other common ways of manipulating these event repositories. \n\nTools such as Sysinternals Autoruns can be used to detect changes to execution triggers that could be attempts at persistence. Also look for abnormal process call trees for execution of other commands that could relate to Discovery actions or other techniques.  \n\nMonitor DLL loads by processes, specifically looking for DLLs that are not recognized or not normally loaded into a process. Look for abnormal process behavior that may be due to a process loading a malicious DLL. Data and events should not be viewed in isolation, but as part of a chain of behavior that could lead to other activities, such as making network connections for Command and Control, learning details about the environment through Discovery, and conducting Lateral Movement. "
  },
  {
   "cell_type": "markdown",
   "id": "ec737cf1",
   "metadata": {},
   "source": "\n## Shield Active Defense\n### Baseline \n Identify key system elements to establish a baseline and be prepared to reset a system to that baseline when necessary. \n\n Identify elements of software and configuration critical to a set of objectives, define their proper values, and be prepared to reset a running system to its intended state.  \n#### Opportunity\nThere is an opportunity to use tools and controls to stop an adversary's activity.\n#### Use Case\nA defender can revert a system to a verified baseline a frequent, recurring basis in order to remove adversary persistence mechanisms.\n#### Procedures\nMaintain a verified baseline firewall configuration and use that copy as a fallback if an adversary alters that information.\nMaintain a verified list of group policies enforced on a system and use that copy if an adversary attempts to deviate from the baseline.\n"
  }
 ],
 "metadata": {
  "kernelspec": {
   "display_name": ".NET (PowerShell)",
   "language": "PowerShell",
   "name": ".net-powershell"
  },
  "language_info": {
   "file_extension": ".ps1",
   "mimetype": "text/x-powershell",
   "name": "PowerShell",
   "pygments_lexer": "powershell",
   "version": "7.0"
  }
 },
 "nbformat": 4,
 "nbformat_minor": 5
}