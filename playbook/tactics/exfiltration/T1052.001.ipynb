{
 "cells": [
  {
   "cell_type": "markdown",
   "id": "66c317f3",
   "metadata": {},
   "source": "# T1052.001 - Exfiltration over USB\nAdversaries may attempt to exfiltrate data over a USB connected physical device. In certain circumstances, such as an air-gapped network compromise, exfiltration could occur via a USB device introduced by a user. The USB device could be used as the final exfiltration point or to hop between otherwise disconnected systems."
  },
  {
   "cell_type": "markdown",
   "id": "90dc540d",
   "metadata": {},
   "source": "## Atomic Tests:\nCurrently, no tests are available for this technique."
  },
  {
   "cell_type": "markdown",
   "id": "0d9a3f40",
   "metadata": {},
   "source": "## Detection\nMonitor file access on removable media. Detect processes that execute when removable media are mounted."
  }
 ],
 "metadata": {
  "kernelspec": {
   "display_name": ".NET (PowerShell)",
   "language": "pwsh",
   "name": ".net-powershell"
  },
  "language_info": {
   "file_extension": ".ps1",
   "mimetype": "text/x-powershell",
   "name": "pwsh",
   "pygments_lexer": "powershell",
   "version": "7.0"
  }
 },
 "nbformat": 4,
 "nbformat_minor": 5
}