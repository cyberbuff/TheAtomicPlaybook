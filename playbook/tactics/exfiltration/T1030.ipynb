{
 "cells": [
  {
   "cell_type": "markdown",
   "id": "0c57c31f",
   "metadata": {},
   "source": "# T1030 - Data Transfer Size Limits\nAn adversary may exfiltrate data in fixed size chunks instead of whole files or limit packet sizes below certain thresholds. This approach may be used to avoid triggering network data transfer threshold alerts."
  },
  {
   "cell_type": "markdown",
   "id": "5c743b81",
   "metadata": {},
   "source": "## Atomic Tests"
  },
  {
   "cell_type": "markdown",
   "id": "d807ea18",
   "metadata": {},
   "source": "### Atomic Test #1 - Data Transfer Size Limits\nTake a file/directory, split it into 5Mb chunks\n\n**Supported Platforms:** macos, linux\n#### Dependencies:  Run with `sh`!\n##### Description: The file must exist for the test to run.\n##### Check Prereq Commands:\n```sh\nif [ ! -f /tmp/T1030/T1030_urandom ]; then exit 1; else exit 0; fi;\n\n```\n##### Get Prereq Commands:\n```sh\nif [ ! -d /tmp/T1030 ]; then mkdir -p /tmp/T1030; touch /tmp/T1030/safe_to_delete; fi; dd if=/dev/urandom of=/tmp/T1030/T1030_urandom bs=25000000 count=1\n\n```"
  },
  {
   "cell_type": "code",
   "execution_count": null,
   "id": "0d1a5fb9",
   "metadata": {},
   "outputs": [],
   "source": "Invoke-AtomicTest T1030 -TestNumbers 1 -GetPreReqs"
  },
  {
   "cell_type": "markdown",
   "id": "7060c045",
   "metadata": {},
   "source": [
    "#### Attack Commands: Run with `sh`\n",
    "```sh\ncd /tmp/T1030; split -b 5000000 T1030_urandom\nls -l /tmp/T1030\n```"
   ]
  },
  {
   "cell_type": "code",
   "execution_count": null,
   "id": "8cd9903f",
   "metadata": {},
   "outputs": [],
   "source": "Invoke-AtomicTest T1030 -TestNumbers 1"
  },
  {
   "cell_type": "markdown",
   "id": "4b509dcc",
   "metadata": {},
   "source": "#### Cleanup: \n```sh\nif [ -f /tmp/T1030/safe_to_delete ]; then rm -rf /tmp/T1030; fi;\n```"
  },
  {
   "cell_type": "code",
   "execution_count": null,
   "id": "9c90093f",
   "metadata": {},
   "outputs": [],
   "source": "Invoke-AtomicTest T1030 -TestNumbers 1 -Cleanup"
  },
  {
   "cell_type": "markdown",
   "id": "26f1f238",
   "metadata": {},
   "source": "## Detection\nAnalyze network data for uncommon data flows (e.g., a client sending significantly more data than it receives from a server). If a process maintains a long connection during which it consistently sends fixed size data packets or a process opens connections and sends fixed sized data packets at regular intervals, it may be performing an aggregate data transfer. Processes utilizing the network that do not normally have network communication or have never been seen before are suspicious. Analyze packet contents to detect communications that do not follow the expected protocol behavior for the port that is being used. (Citation: University of Birmingham C2)"
  },
  {
   "cell_type": "markdown",
   "id": "de221532",
   "metadata": {},
   "source": "\n## Shield Active Defense\n### PCAP Collection \n Collect full network traffic for future research and analysis. \n\n PCAP Collection allows a defenders to use the data to examine an adversary\u2019s network traffic more closely, including studying if it is encoded and/or encrypted. PCAP can be run through tools to replay the traffic to get a real-time view of what happened over the wire. These tools can also parse the traffic and send results to a SIEM for monitoring and alerting.\n#### Opportunity\nThere is an opportunity to collect network data and analyze the adversary activity it contains.\n#### Use Case\nCollecting full packet capture of all network traffic allows you to review what happened over the connection and identify command and control traffic and/or exfiltration activity.\n#### Procedures\nCollect PCAP on a decoy network to improve visibility into an adversary's network activity.\n"
  }
 ],
 "metadata": {
  "kernelspec": {
   "display_name": ".NET (PowerShell)",
   "language": "pwsh",
   "name": ".net-powershell"
  },
  "language_info": {
   "file_extension": ".ps1",
   "mimetype": "text/x-powershell",
   "name": "pwsh",
   "pygments_lexer": "powershell",
   "version": "7.0"
  }
 },
 "nbformat": 4,
 "nbformat_minor": 5
}