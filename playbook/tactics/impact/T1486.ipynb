{
 "cells": [
  {
   "cell_type": "markdown",
   "id": "e8dceb2c",
   "metadata": {},
   "source": "# T1486 - Data Encrypted for Impact\nAdversaries may encrypt data on target systems or on large numbers of systems in a network to interrupt availability to system and network resources. They can attempt to render stored data inaccessible by encrypting files or data on local and remote drives and withholding access to a decryption key. This may be done in order to extract monetary compensation from a victim in exchange for decryption or a decryption key (ransomware) or to render data permanently inaccessible in cases where the key is not saved or transmitted.(Citation: US-CERT Ransomware 2016)(Citation: FireEye WannaCry 2017)(Citation: US-CERT NotPetya 2017)(Citation: US-CERT SamSam 2018)\n\nIn the case of ransomware, it is typical that common user files like Office documents, PDFs, images, videos, audio, text, and source code files will be encrypted (and often renamed and/or tagged with specific file markers). Adversaries may need to first employ other behaviors, such as [File and Directory Permissions Modification](https://attack.mitre.org/techniques/T1222) or [System Shutdown/Reboot](https://attack.mitre.org/techniques/T1529), in order to unlock and/or gain access to manipulate these files.(Citation: CarbonBlack Conti July 2020) In some cases, adversaries may encrypt critical system files, disk partitions, and the MBR.(Citation: US-CERT NotPetya 2017) \n\nTo maximize impact on the target organization, malware designed for encrypting data may have worm-like features to propagate across a network by leveraging other attack techniques like [Valid Accounts](https://attack.mitre.org/techniques/T1078), [OS Credential Dumping](https://attack.mitre.org/techniques/T1003), and [SMB/Windows Admin Shares](https://attack.mitre.org/techniques/T1021/002).(Citation: FireEye WannaCry 2017)(Citation: US-CERT NotPetya 2017) Encryption malware may also leverage [Internal Defacement](https://attack.mitre.org/techniques/T1491/001), such as changing victim wallpapers, or otherwise intimidate victims by sending ransom notes or other messages to connected printers (known as \"print bombing\").(Citation: NHS Digital Egregor Nov 2020)\n\nIn cloud environments, storage objects within compromised accounts may also be encrypted.(Citation: Rhino S3 Ransomware Part 1)"
  },
  {
   "cell_type": "markdown",
   "id": "73e976d5",
   "metadata": {},
   "source": "## Atomic Tests"
  },
  {
   "cell_type": "markdown",
   "id": "dae8d52d",
   "metadata": {},
   "source": "### Atomic Test #1 - Encrypt files using gpg (Linux)\nUses gpg to encrypt a file\n\n**Supported Platforms:** linux\n\nElevation Required (e.g. root or admin)\n#### Dependencies:  Run with `bash`!\n##### Description: Finds where gpg is located\n\n##### Check Prereq Commands:\n```bash\nwhich_gpg=`which gpg`\n\n```\n##### Get Prereq Commands:\n```bash\n(which yum && yum -y install epel-release gpg)||(which apt-get && DEBIAN_FRONTEND=noninteractive apt-get install -y gpg)\n\n```"
  },
  {
   "cell_type": "code",
   "execution_count": null,
   "id": "529f4abf",
   "metadata": {},
   "outputs": [],
   "source": "Invoke-AtomicTest T1486 -TestNumbers 1 -GetPreReqs"
  },
  {
   "cell_type": "markdown",
   "id": "44246b6e",
   "metadata": {},
   "source": [
    "#### Attack Commands: Run with `bash`\n",
    "```bash\necho \"passwd\" | $which_gpg --batch --yes --passphrase-fd 0 --cipher-algo AES-256 -o /tmp/passwd.gpg -c /etc/passwd\n```"
   ]
  },
  {
   "cell_type": "code",
   "execution_count": null,
   "id": "59a5149c",
   "metadata": {},
   "outputs": [],
   "source": "Invoke-AtomicTest T1486 -TestNumbers 1"
  },
  {
   "cell_type": "markdown",
   "id": "9e0be650",
   "metadata": {},
   "source": "#### Cleanup: \n```bash\nrm /tmp/passwd.gpg\n```"
  },
  {
   "cell_type": "code",
   "execution_count": null,
   "id": "9aecf401",
   "metadata": {},
   "outputs": [],
   "source": "Invoke-AtomicTest T1486 -TestNumbers 1 -Cleanup"
  },
  {
   "cell_type": "markdown",
   "id": "e95e2325",
   "metadata": {},
   "source": "### Atomic Test #2 - Encrypt files using 7z (Linux)\nUses 7z to encrypt a file\n\n**Supported Platforms:** linux\n\nElevation Required (e.g. root or admin)\n#### Dependencies:  Run with `bash`!\n##### Description: Finds where 7z is located\n\n##### Check Prereq Commands:\n```bash\nwhich_7z=`which 7z`\n\n```\n##### Get Prereq Commands:\n```bash\nNone\n```"
  },
  {
   "cell_type": "code",
   "execution_count": null,
   "id": "c0b5e81a",
   "metadata": {},
   "outputs": [],
   "source": "Invoke-AtomicTest T1486 -TestNumbers 2 -GetPreReqs"
  },
  {
   "cell_type": "markdown",
   "id": "26d20629",
   "metadata": {},
   "source": [
    "#### Attack Commands: Run with `bash`\n",
    "```bash\n$which_7z a -ppasswd /tmp/passwd.zip /etc/passwd\n```"
   ]
  },
  {
   "cell_type": "code",
   "execution_count": null,
   "id": "ffdf3ffa",
   "metadata": {},
   "outputs": [],
   "source": "Invoke-AtomicTest T1486 -TestNumbers 2"
  },
  {
   "cell_type": "markdown",
   "id": "d25c9cfb",
   "metadata": {},
   "source": "#### Cleanup: \n```bash\n$which_7z e /tmp/passwd.zip\nrm /tmp/passwd.zip\n```"
  },
  {
   "cell_type": "code",
   "execution_count": null,
   "id": "79ed53b5",
   "metadata": {},
   "outputs": [],
   "source": "Invoke-AtomicTest T1486 -TestNumbers 2 -Cleanup"
  },
  {
   "cell_type": "markdown",
   "id": "df2ef8d1",
   "metadata": {},
   "source": "### Atomic Test #3 - Encrypt files using ccrypt (Linux)\nAttempts to encrypt data on target systems as root to simulate an inturruption authentication to target system. If root permissions are not available then attempts to encrypt data within user's home directory.\n\n**Supported Platforms:** linux\n\nElevation Required (e.g. root or admin)\n#### Dependencies:  Run with `bash`!\n##### Description: Finds where ccencrypt and ccdecrypt is located and copies input file\n\n##### Check Prereq Commands:\n```bash\nwhich_ccencrypt=`which ccencrypt`\nwhich_ccdecrypt=`which ccdecrypt`\nif [[ $USER == \"root\" ]]; then cp /etc/passwd /tmp/passwd; else cp ~/.bash_history /tmp/passwd; fi\n\n```\n##### Get Prereq Commands:\n```bash\n(which yum && yum -y install epel-release ccrypt)||(which apt-get && DEBIAN_FRONTEND=noninteractive apt-get install -y ccrypt)\n\n```"
  },
  {
   "cell_type": "code",
   "execution_count": null,
   "id": "c293822e",
   "metadata": {},
   "outputs": [],
   "source": "Invoke-AtomicTest T1486 -TestNumbers 3 -GetPreReqs"
  },
  {
   "cell_type": "markdown",
   "id": "9d3b18c2",
   "metadata": {},
   "source": [
    "#### Attack Commands: Run with `bash`\n",
    "```bash\nif [[ $USER == \"root\" ]]; then $which_ccencrypt /etc/passwd; file /etc/passwd.cpt; sudo su; else $which_ccencrypt ~/.bash_history; file ~/.bash_history.cpt; sudo su; fi\n```"
   ]
  },
  {
   "cell_type": "code",
   "execution_count": null,
   "id": "652a7434",
   "metadata": {},
   "outputs": [],
   "source": "Invoke-AtomicTest T1486 -TestNumbers 3"
  },
  {
   "cell_type": "markdown",
   "id": "d0e1d892",
   "metadata": {},
   "source": "#### Cleanup: \n```bash\nif [[ $USER == \"root\" ]]; then mv /tmp/passwd /etc/passwd; else cp /tmp/passwd ~/.bash_history; fi \n```"
  },
  {
   "cell_type": "code",
   "execution_count": null,
   "id": "19471532",
   "metadata": {},
   "outputs": [],
   "source": "Invoke-AtomicTest T1486 -TestNumbers 3 -Cleanup"
  },
  {
   "cell_type": "markdown",
   "id": "5104e947",
   "metadata": {},
   "source": "### Atomic Test #4 - Encrypt files using openssl (Linux)\nUses openssl to encrypt a file\n\n**Supported Platforms:** linux\n\nElevation Required (e.g. root or admin)\n#### Dependencies:  Run with `bash`!\n##### Description: Finds where openssl is located\n\n##### Check Prereq Commands:\n```bash\nwhich_openssl=`which openssl`\n\n```\n##### Get Prereq Commands:\n```bash\nNone\n```"
  },
  {
   "cell_type": "code",
   "execution_count": null,
   "id": "2e08c4aa",
   "metadata": {},
   "outputs": [],
   "source": "Invoke-AtomicTest T1486 -TestNumbers 4 -GetPreReqs"
  },
  {
   "cell_type": "markdown",
   "id": "4672a396",
   "metadata": {},
   "source": [
    "#### Attack Commands: Run with `bash`\n",
    "```bash\n$which_openssl genrsa -out /tmp/key.pem 2048\n$which_openssl rsa -in /tmp/key.pem -pubout -out /tmp/pub.pem\n$which_openssl rsautl -encrypt -inkey /tmp/pub.pem -pubin -in /etc/passwd -out /tmp/passwd.zip\n```"
   ]
  },
  {
   "cell_type": "code",
   "execution_count": null,
   "id": "96e6bfd3",
   "metadata": {},
   "outputs": [],
   "source": "Invoke-AtomicTest T1486 -TestNumbers 4"
  },
  {
   "cell_type": "markdown",
   "id": "399d8651",
   "metadata": {},
   "source": "#### Cleanup: \n```bash\n$which_openssl rsautl -decrypt -inkey /tmp/key.pem -in /tmp/passwd.zip\nrm /tmp/passwd.zip\n```"
  },
  {
   "cell_type": "code",
   "execution_count": null,
   "id": "fd02d51e",
   "metadata": {},
   "outputs": [],
   "source": "Invoke-AtomicTest T1486 -TestNumbers 4 -Cleanup"
  },
  {
   "cell_type": "markdown",
   "id": "8b462bc9",
   "metadata": {},
   "source": [
    "### Atomic Test #5 - PureLocker Ransom Note",
    "building the IOC (YOUR_FILES.txt) for the PureLocker ransomware \nhttps://www.bleepingcomputer.com/news/security/purelocker-ransomware-can-lock-files-on-windows-linux-and-macos/\n",
    "**Supported Platforms:** windows",
    "\nElevation Required (e.g. root or admin)",
    "#### Attack Commands: Run with `command_prompt`\n",
    "```command_prompt\necho T1486 - Purelocker Ransom Note > %USERPROFILE%\\Desktop\\YOUR_FILES.txt\n```"
   ]
  },
  {
   "cell_type": "code",
   "execution_count": null,
   "id": "6faa582b",
   "metadata": {},
   "outputs": [],
   "source": "Invoke-AtomicTest T1486 -TestNumbers 5"
  },
  {
   "cell_type": "markdown",
   "id": "95c65e33",
   "metadata": {},
   "source": "#### Cleanup: \n```cmd\ndel %USERPROFILE%\\Desktop\\YOUR_FILES.txt >nul 2>&1\n```"
  },
  {
   "cell_type": "code",
   "execution_count": null,
   "id": "0cecd592",
   "metadata": {},
   "outputs": [],
   "source": "Invoke-AtomicTest T1486 -TestNumbers 5 -Cleanup"
  },
  {
   "cell_type": "markdown",
   "id": "57dd9fc5",
   "metadata": {},
   "source": "## Detection\nUse process monitoring to monitor the execution and command line parameters of binaries involved in data destruction activity, such as vssadmin, wbadmin, and bcdedit. Monitor for the creation of suspicious files as well as unusual file modification activity. In particular, look for large quantities of file modifications in user directories.\n\nIn some cases, monitoring for unusual kernel driver installation activity can aid in detection.\n\nIn cloud environments, monitor for events that indicate storage objects have been anomalously replaced by copies."
  },
  {
   "cell_type": "markdown",
   "id": "4a7b0359",
   "metadata": {},
   "source": "\n## Shield Active Defense\n### System Activity Monitoring \n Collect system activity logs which can reveal adversary activity. \n\n Capturing system logs can show logins, user and system events, etc.  Collecting this data and potentially sending it to a centralized location can help reveal the presence of an adversary and the actions they perform on a compromised system.\n#### Opportunity\nThere is an opportunity to create a detection with a moderately high probability of success.\n#### Use Case\nA defender can use process monitoring to look for the execution of utilities commonly used for ransomware and other data encryption.\n#### Procedures\nEnsure that systems capture and retain common system level activity artifacts that might be produced.\nMonitor Windows systems for event codes that reflect an adversary changing passwords, adding accounts to groups, etc.\n"
  }
 ],
 "metadata": {
  "kernelspec": {
   "display_name": ".NET (PowerShell)",
   "language": "PowerShell",
   "name": ".net-powershell"
  },
  "language_info": {
   "file_extension": ".ps1",
   "mimetype": "text/x-powershell",
   "name": "PowerShell",
   "pygments_lexer": "powershell",
   "version": "7.0"
  }
 },
 "nbformat": 4,
 "nbformat_minor": 5
}