{
 "cells": [
  {
   "cell_type": "markdown",
   "id": "7519205f",
   "metadata": {},
   "source": "# T1529 - System Shutdown/Reboot\nAdversaries may shutdown/reboot systems to interrupt access to, or aid in the destruction of, those systems. Operating systems may contain commands to initiate a shutdown/reboot of a machine or network device. In some cases, these commands may also be used to initiate a shutdown/reboot of a remote computer or network device via [Network Device CLI](https://attack.mitre.org/techniques/T1059/008) (e.g. <code>reload</code>).(Citation: Microsoft Shutdown Oct 2017)(Citation: alert_TA18_106A) Shutting down or rebooting systems may disrupt access to computer resources for legitimate users.\n\nAdversaries may attempt to shutdown/reboot a system after impacting it in other ways, such as [Disk Structure Wipe](https://attack.mitre.org/techniques/T1561/002) or [Inhibit System Recovery](https://attack.mitre.org/techniques/T1490), to hasten the intended effects on system availability.(Citation: Talos Nyetya June 2017)(Citation: Talos Olympic Destroyer 2018)"
  },
  {
   "cell_type": "markdown",
   "id": "5437d600",
   "metadata": {},
   "source": "## Atomic Tests"
  },
  {
   "cell_type": "markdown",
   "id": "25f4c888",
   "metadata": {},
   "source": [
    "### Atomic Test #1 - Shutdown System - Windows",
    "This test shuts down a Windows system.\n",
    "**Supported Platforms:** windows",
    "\nElevation Required (e.g. root or admin)",
    "#### Attack Commands: Run with `command_prompt`\n",
    "```command_prompt\nshutdown /s /t 1\n```"
   ]
  },
  {
   "cell_type": "code",
   "execution_count": null,
   "id": "c247adc1",
   "metadata": {},
   "outputs": [],
   "source": "Invoke-AtomicTest T1529 -TestNumbers 1"
  },
  {
   "cell_type": "markdown",
   "id": "b1dadd88",
   "metadata": {},
   "source": [
    "### Atomic Test #2 - Restart System - Windows",
    "This test restarts a Windows system.\n",
    "**Supported Platforms:** windows",
    "\nElevation Required (e.g. root or admin)",
    "#### Attack Commands: Run with `command_prompt`\n",
    "```command_prompt\nshutdown /r /t 1\n```"
   ]
  },
  {
   "cell_type": "code",
   "execution_count": null,
   "id": "783efb54",
   "metadata": {},
   "outputs": [],
   "source": "Invoke-AtomicTest T1529 -TestNumbers 2"
  },
  {
   "cell_type": "markdown",
   "id": "8c4315ec",
   "metadata": {},
   "source": [
    "### Atomic Test #3 - Restart System via `shutdown` - macOS/Linux",
    "This test restarts a macOS/Linux system.\n",
    "**Supported Platforms:** macos, linux",
    "\nElevation Required (e.g. root or admin)",
    "#### Attack Commands: Run with `bash`\n",
    "```bash\nshutdown -r now\n```"
   ]
  },
  {
   "cell_type": "code",
   "execution_count": null,
   "id": "08712185",
   "metadata": {},
   "outputs": [],
   "source": "Invoke-AtomicTest T1529 -TestNumbers 3"
  },
  {
   "cell_type": "markdown",
   "id": "cd1871e6",
   "metadata": {},
   "source": [
    "### Atomic Test #4 - Shutdown System via `shutdown` - macOS/Linux",
    "This test shuts down a macOS/Linux system using a halt.\n",
    "**Supported Platforms:** macos, linux",
    "\nElevation Required (e.g. root or admin)",
    "#### Attack Commands: Run with `bash`\n",
    "```bash\nshutdown -h now\n```"
   ]
  },
  {
   "cell_type": "code",
   "execution_count": null,
   "id": "a6865a6b",
   "metadata": {},
   "outputs": [],
   "source": "Invoke-AtomicTest T1529 -TestNumbers 4"
  },
  {
   "cell_type": "markdown",
   "id": "94a96f13",
   "metadata": {},
   "source": [
    "### Atomic Test #5 - Restart System via `reboot` - macOS/Linux",
    "This test restarts a macOS/Linux system via `reboot`.\n",
    "**Supported Platforms:** macos, linux",
    "\nElevation Required (e.g. root or admin)",
    "#### Attack Commands: Run with `bash`\n",
    "```bash\nreboot\n```"
   ]
  },
  {
   "cell_type": "code",
   "execution_count": null,
   "id": "8adbbe0f",
   "metadata": {},
   "outputs": [],
   "source": "Invoke-AtomicTest T1529 -TestNumbers 5"
  },
  {
   "cell_type": "markdown",
   "id": "95054c84",
   "metadata": {},
   "source": [
    "### Atomic Test #6 - Shutdown System via `halt` - Linux",
    "This test shuts down a Linux system using `halt`.\n",
    "**Supported Platforms:** linux",
    "\nElevation Required (e.g. root or admin)",
    "#### Attack Commands: Run with `bash`\n",
    "```bash\nhalt -p\n```"
   ]
  },
  {
   "cell_type": "code",
   "execution_count": null,
   "id": "9d1acfc2",
   "metadata": {},
   "outputs": [],
   "source": "Invoke-AtomicTest T1529 -TestNumbers 6"
  },
  {
   "cell_type": "markdown",
   "id": "bd793576",
   "metadata": {},
   "source": [
    "### Atomic Test #7 - Reboot System via `halt` - Linux",
    "This test restarts a Linux system using `halt`.\n",
    "**Supported Platforms:** linux",
    "\nElevation Required (e.g. root or admin)",
    "#### Attack Commands: Run with `bash`\n",
    "```bash\nhalt --reboot\n```"
   ]
  },
  {
   "cell_type": "code",
   "execution_count": null,
   "id": "c41830a1",
   "metadata": {},
   "outputs": [],
   "source": "Invoke-AtomicTest T1529 -TestNumbers 7"
  },
  {
   "cell_type": "markdown",
   "id": "c75a0146",
   "metadata": {},
   "source": [
    "### Atomic Test #8 - Shutdown System via `poweroff` - Linux",
    "This test shuts down a Linux system using `poweroff`.\n",
    "**Supported Platforms:** linux",
    "\nElevation Required (e.g. root or admin)",
    "#### Attack Commands: Run with `bash`\n",
    "```bash\npoweroff\n```"
   ]
  },
  {
   "cell_type": "code",
   "execution_count": null,
   "id": "f37cbc72",
   "metadata": {},
   "outputs": [],
   "source": "Invoke-AtomicTest T1529 -TestNumbers 8"
  },
  {
   "cell_type": "markdown",
   "id": "6f0cb988",
   "metadata": {},
   "source": [
    "### Atomic Test #9 - Reboot System via `poweroff` - Linux",
    "This test restarts a Linux system using `poweroff`.\n",
    "**Supported Platforms:** linux",
    "\nElevation Required (e.g. root or admin)",
    "#### Attack Commands: Run with `bash`\n",
    "```bash\npoweroff --reboot\n```"
   ]
  },
  {
   "cell_type": "code",
   "execution_count": null,
   "id": "d6c21635",
   "metadata": {},
   "outputs": [],
   "source": "Invoke-AtomicTest T1529 -TestNumbers 9"
  },
  {
   "cell_type": "markdown",
   "id": "17ed37a6",
   "metadata": {},
   "source": [
    "### Atomic Test #10 - Logoff System - Windows",
    "This test performs a Windows system logoff as seen in [dcrat backdoor capabilities](https://www.mandiant.com/resources/analyzing-dark-crystal-rat-backdoor)\n",
    "**Supported Platforms:** windows",
    "\nElevation Required (e.g. root or admin)",
    "#### Attack Commands: Run with `command_prompt`\n",
    "```command_prompt\nshutdown /l \n```"
   ]
  },
  {
   "cell_type": "code",
   "execution_count": null,
   "id": "061380eb",
   "metadata": {},
   "outputs": [],
   "source": "Invoke-AtomicTest T1529 -TestNumbers 10"
  },
  {
   "cell_type": "markdown",
   "id": "65f795ab",
   "metadata": {},
   "source": "## Detection\nUse process monitoring to monitor the execution and command line parameters of binaries involved in shutting down or rebooting systems. Windows event logs may also designate activity associated with a shutdown/reboot, ex. Event ID 1074 and 6006. Unexpected or unauthorized commands from network cli on network devices may also be associated with shutdown/reboot, e.g. the <code>reload</code> command."
  },
  {
   "cell_type": "markdown",
   "id": "44a4cd09",
   "metadata": {},
   "source": "\n## Shield Active Defense\n### Decoy System \n Configure a computing system to serve as an attack target or experimental environment.   \n\n A decoy system is a computing resource presented to the adversary in support of active defense.  The underlying system can be real, virtual, or simulated, and can be presented as one of a variety of IT devices including user workstations, servers, networking systems, IOT (embedded devices), mobile systems like phones, etc.\n#### Opportunity\nThere is an opportunity to study the adversary and collect first-hand observations about them and their tools.\n#### Use Case\nA defender can deploy a decoy system to see if an adversary attempts to shutdown or reboot the device.\n#### Procedures\nUse an isolated system to visit a suspected compromised website.  Collect any associated scripting code or files dropped onto the system.\nSetup a server which appears to be something that is commonly expected within a network, such as web server.\n"
  }
 ],
 "metadata": {
  "kernelspec": {
   "display_name": ".NET (PowerShell)",
   "language": "PowerShell",
   "name": ".net-powershell"
  },
  "language_info": {
   "file_extension": ".ps1",
   "mimetype": "text/x-powershell",
   "name": "PowerShell",
   "pygments_lexer": "powershell",
   "version": "7.0"
  }
 },
 "nbformat": 4,
 "nbformat_minor": 5
}