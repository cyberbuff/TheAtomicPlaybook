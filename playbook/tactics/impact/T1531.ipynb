{
 "cells": [
  {
   "cell_type": "markdown",
   "id": "5ecfd113",
   "metadata": {},
   "source": "# T1531 - Account Access Removal\nAdversaries may interrupt availability of system and network resources by inhibiting access to accounts utilized by legitimate users. Accounts may be deleted, locked, or manipulated (ex: changed credentials) to remove access to accounts. Adversaries may also subsequently log off and/or perform a [System Shutdown/Reboot](https://attack.mitre.org/techniques/T1529) to set malicious changes into place.(Citation: CarbonBlack LockerGoga 2019)(Citation: Unit42 LockerGoga 2019)\n\nIn Windows, [Net](https://attack.mitre.org/software/S0039) utility, <code>Set-LocalUser</code> and <code>Set-ADAccountPassword</code> [PowerShell](https://attack.mitre.org/techniques/T1059/001) cmdlets may be used by adversaries to modify user accounts. In Linux, the <code>passwd</code> utility may be used to change passwords. Accounts could also be disabled by Group Policy. \n\nAdversaries who use ransomware or similar attacks may first perform this and other Impact behaviors, such as [Data Destruction](https://attack.mitre.org/techniques/T1485) and [Defacement](https://attack.mitre.org/techniques/T1491), in order to impede incident response/recovery before completing the [Data Encrypted for Impact](https://attack.mitre.org/techniques/T1486) objective. "
  },
  {
   "cell_type": "markdown",
   "id": "370456b4",
   "metadata": {},
   "source": "## Atomic Tests"
  },
  {
   "cell_type": "markdown",
   "id": "e585dfdc",
   "metadata": {},
   "source": [
    "### Atomic Test #1 - Change User Password - Windows",
    "Changes the user password to hinder access attempts. Seen in use by LockerGoga. Upon execution, log into the user account \"AtomicAdministrator\" with\nthe password \"HuHuHUHoHo283283\".\n",
    "**Supported Platforms:** windows",
    "\nElevation Required (e.g. root or admin)",
    "#### Attack Commands: Run with `command_prompt`\n",
    "```command_prompt\nnet user AtomicAdministrator User2ChangePW! /add\nnet.exe user AtomicAdministrator HuHuHUHoHo283283@dJD\n```"
   ]
  },
  {
   "cell_type": "code",
   "execution_count": null,
   "id": "3f00f13d",
   "metadata": {},
   "outputs": [],
   "source": "Invoke-AtomicTest T1531 -TestNumbers 1"
  },
  {
   "cell_type": "markdown",
   "id": "a09b8f9c",
   "metadata": {},
   "source": "#### Cleanup: \n```cmd\nnet.exe user AtomicAdministrator /delete >nul 2>&1\n```"
  },
  {
   "cell_type": "code",
   "execution_count": null,
   "id": "4efe66e3",
   "metadata": {},
   "outputs": [],
   "source": "Invoke-AtomicTest T1531 -TestNumbers 1 -Cleanup"
  },
  {
   "cell_type": "markdown",
   "id": "53d84e4a",
   "metadata": {},
   "source": [
    "### Atomic Test #2 - Delete User - Windows",
    "Deletes a user account to prevent access. Upon execution, run the command \"net user\" to verify that the new \"AtomicUser\" account was deleted.\n",
    "**Supported Platforms:** windows",
    "\nElevation Required (e.g. root or admin)",
    "#### Attack Commands: Run with `command_prompt`\n",
    "```command_prompt\nnet user AtomicUser User2DeletePW! /add\nnet.exe user AtomicUser /delete\n```"
   ]
  },
  {
   "cell_type": "code",
   "execution_count": null,
   "id": "1011f67c",
   "metadata": {},
   "outputs": [],
   "source": "Invoke-AtomicTest T1531 -TestNumbers 2"
  },
  {
   "cell_type": "markdown",
   "id": "c66e73d0",
   "metadata": {},
   "source": "### Atomic Test #3 - Remove Account From Domain Admin Group\nThis test will remove an account from the domain admins group\n\n**Supported Platforms:** windows\n\nElevation Required (e.g. root or admin)\n#### Dependencies:  Run with `powershell`!\n##### Description: Requires the Active Directory module for powershell to be installed.\n\n##### Check Prereq Commands:\n```powershell\nif(Get-Module -ListAvailable -Name ActiveDirectory) {exit 0} else {exit 1}\n\n```\n##### Get Prereq Commands:\n```powershell\nAdd-WindowsCapability -Online -Name \"Rsat.ActiveDirectory.DS-LDS.Tools~~~~0.0.1.0\"\n\n```"
  },
  {
   "cell_type": "code",
   "execution_count": null,
   "id": "cfd77c87",
   "metadata": {},
   "outputs": [],
   "source": "Invoke-AtomicTest T1531 -TestNumbers 3 -GetPreReqs"
  },
  {
   "cell_type": "markdown",
   "id": "621a030a",
   "metadata": {},
   "source": [
    "#### Attack Commands: Run with `powershell`\n",
    "```powershell\n$PWord = ConvertTo-SecureString -String password -AsPlainText -Force\n$Credential = New-Object -TypeName System.Management.Automation.PSCredential -ArgumentList domain\\super_user, $PWord\nif((Get-ADUser remove_user -Properties memberof).memberof -like \"CN=Domain Admins*\"){\n  Remove-ADGroupMember -Identity \"Domain Admins\" -Members remove_user -Credential $Credential -Confirm:$False\n} else{\n    write-host \"Error - Make sure remove_user is in the domain admins group\" -foregroundcolor Red\n}\n```"
   ]
  },
  {
   "cell_type": "code",
   "execution_count": null,
   "id": "a9c9de2d",
   "metadata": {},
   "outputs": [],
   "source": "Invoke-AtomicTest T1531 -TestNumbers 3"
  },
  {
   "cell_type": "markdown",
   "id": "434633d0",
   "metadata": {},
   "source": [
    "### Atomic Test #4 - Change User Password via passwd",
    "This test changes the user password to hinder access to the account using passwd utility.\n",
    "**Supported Platforms:** macos, linux",
    "\nElevation Required (e.g. root or admin)",
    "#### Attack Commands: Run with `sh`\n",
    "```sh\npasswd ARTUser #enter admin password > enter new password > confirm new password\n```"
   ]
  },
  {
   "cell_type": "code",
   "execution_count": null,
   "id": "50ade845",
   "metadata": {},
   "outputs": [],
   "source": "Invoke-AtomicTest T1531 -TestNumbers 4"
  },
  {
   "cell_type": "markdown",
   "id": "582a9ed5",
   "metadata": {},
   "source": [
    "### Atomic Test #5 - Delete User via dscl utility",
    "This test deletes the user account using the dscl utility.\n",
    "**Supported Platforms:** macos",
    "\nElevation Required (e.g. root or admin)",
    "#### Attack Commands: Run with `sh`\n",
    "```sh\ndscl . -delete /Users/ARTUser #enter admin password\n```"
   ]
  },
  {
   "cell_type": "code",
   "execution_count": null,
   "id": "af6d8b32",
   "metadata": {},
   "outputs": [],
   "source": "Invoke-AtomicTest T1531 -TestNumbers 5"
  },
  {
   "cell_type": "markdown",
   "id": "1d9b4c8a",
   "metadata": {},
   "source": "#### Cleanup: \n```sh\ndscl . -create /Users/ARTUser #enter admin password\ndscl . -create /Users/ARTUser UserShell /bin/bash\ndscl . -create /Users/ARTUser UniqueID 503\ndscl . -create /Users/ARTUser NFSHomeDirectory /Users/ARTUser\ndscl . -passwd /Users/ARTUser ARTPassword #enter password for new user\n```"
  },
  {
   "cell_type": "code",
   "execution_count": null,
   "id": "cb9f8c7f",
   "metadata": {},
   "outputs": [],
   "source": "Invoke-AtomicTest T1531 -TestNumbers 5 -Cleanup"
  },
  {
   "cell_type": "markdown",
   "id": "d67bc7be",
   "metadata": {},
   "source": [
    "### Atomic Test #6 - Delete User via sysadminctl utility",
    "This test deletes the user account using the sysadminctl utility.\n",
    "**Supported Platforms:** macos",
    "\nElevation Required (e.g. root or admin)",
    "#### Attack Commands: Run with `sh`\n",
    "```sh\nsysadminctl -deleteUser ARTUserAccount #enter admin password\n```"
   ]
  },
  {
   "cell_type": "code",
   "execution_count": null,
   "id": "ccec015f",
   "metadata": {},
   "outputs": [],
   "source": "Invoke-AtomicTest T1531 -TestNumbers 6"
  },
  {
   "cell_type": "markdown",
   "id": "1cbc064c",
   "metadata": {},
   "source": "#### Cleanup: \n```sh\nsysadminctl -addUser ARTUserAccount -fullName \"ARTUser\" -password ARTPassword\n```"
  },
  {
   "cell_type": "code",
   "execution_count": null,
   "id": "a517a7cf",
   "metadata": {},
   "outputs": [],
   "source": "Invoke-AtomicTest T1531 -TestNumbers 6 -Cleanup"
  },
  {
   "cell_type": "markdown",
   "id": "1675a753",
   "metadata": {},
   "source": "### Atomic Test #7 - Azure AD - Delete user via Azure AD PowerShell\nDeletes a user in Azure AD. Adversaries may interrupt availability of system and network resources by inhibiting access to accounts utilized by legitimate users. Accounts may be deleted, locked, or manipulated (excluding changed credentials) to remove access to accounts.\n**Supported Platforms:** azure-ad\n#### Dependencies:  Run with `powershell`!\n##### Description: Check if AzureAD PowerShell module is installed\n##### Check Prereq Commands:\n```powershell\nGet-InstalledModule -Name AzureAD\n```\n##### Get Prereq Commands:\n```powershell\necho \"use the following to install AzureAD PowerShell module - Install-Module -Name AzureAD -Scope CurrentUser -Repository PSGallery -Force\"\n```\n##### Description: Check if AzureAD PowerShell module is installed\n##### Check Prereq Commands:\n```powershell\nUpdate the input arguments so the userprincipalname value is accurate for your environment\n```\n##### Get Prereq Commands:\n```powershell\necho \"Update the input arguments in the .yaml file so that the userprincipalname value is accurate for your environment\"\n```"
  },
  {
   "cell_type": "code",
   "execution_count": null,
   "id": "12efe97c",
   "metadata": {},
   "outputs": [],
   "source": "Invoke-AtomicTest T1531 -TestNumbers 7 -GetPreReqs"
  },
  {
   "cell_type": "markdown",
   "id": "9bb38858",
   "metadata": {},
   "source": [
    "#### Attack Commands: Run with `powershell`\n",
    "```powershell\nConnect-AzureAD\n$userprincipalname = \"atomicredteam@yourdomain.com\"\nRemove-AzureADUser -ObjectId $userprincipalname```"
   ]
  },
  {
   "cell_type": "code",
   "execution_count": null,
   "id": "f8158b27",
   "metadata": {},
   "outputs": [],
   "source": "Invoke-AtomicTest T1531 -TestNumbers 7"
  },
  {
   "cell_type": "markdown",
   "id": "fffe37a3",
   "metadata": {},
   "source": "#### Cleanup: \n```powershell\nN/A```"
  },
  {
   "cell_type": "code",
   "execution_count": null,
   "id": "44176463",
   "metadata": {},
   "outputs": [],
   "source": "Invoke-AtomicTest T1531 -TestNumbers 7 -Cleanup"
  },
  {
   "cell_type": "markdown",
   "id": "9cec1b65",
   "metadata": {},
   "source": "### Atomic Test #8 - Azure AD - Delete user via Azure CLI\nDeletes a user in Azure AD. Adversaries may interrupt availability of system and network resources by inhibiting access to accounts utilized by legitimate users. Accounts may be deleted, locked, or manipulated (excluding changed credentials) to remove access to accounts.\n**Supported Platforms:** azure-ad\n#### Dependencies:  Run with `powershell`!\n##### Description: Check if Azure CLI is installed and install manually\n##### Check Prereq Commands:\n```powershell\naz account list\n```\n##### Get Prereq Commands:\n```powershell\necho \"use the following to install the Azure CLI manually https://aka.ms/installazurecliwindows\"\n```\n##### Description: Check if Azure CLI is installed and install via PowerShell\n##### Check Prereq Commands:\n```powershell\naz account list\n```\n##### Get Prereq Commands:\n```powershell\necho \"use the following to install the Azure CLI $ProgressPreference = 'SilentlyContinue'; Invoke-WebRequest -Uri https://aka.ms/installazurecliwindows -OutFile .\\AzureCLI.msi; Start-Process msiexec.exe -Wait -ArgumentList '/I AzureCLI.msi /quiet'; Remove-Item .\\AzureCLI.msi\"\n```\n##### Description: Update the userprincipalname to meet your requirements\n##### Check Prereq Commands:\n```powershell\nUpdate the input arguments so the userprincipalname value is accurate for your environment\n```\n##### Get Prereq Commands:\n```powershell\necho \"Update the input arguments in the .yaml file so that the userprincipalname value is accurate for your environment\"\n```"
  },
  {
   "cell_type": "code",
   "execution_count": null,
   "id": "72573060",
   "metadata": {},
   "outputs": [],
   "source": "Invoke-AtomicTest T1531 -TestNumbers 8 -GetPreReqs"
  },
  {
   "cell_type": "markdown",
   "id": "032e0357",
   "metadata": {},
   "source": [
    "#### Attack Commands: Run with `powershell`\n",
    "```powershell\naz login\n$userprincipalname = \"atomicredteam@yourdomain.com\"\naz ad user delete --id $userprincipalname```"
   ]
  },
  {
   "cell_type": "code",
   "execution_count": null,
   "id": "60ce6f4a",
   "metadata": {},
   "outputs": [],
   "source": "Invoke-AtomicTest T1531 -TestNumbers 8"
  },
  {
   "cell_type": "markdown",
   "id": "48136ed9",
   "metadata": {},
   "source": "#### Cleanup: \n```powershell\nN/A```"
  },
  {
   "cell_type": "code",
   "execution_count": null,
   "id": "42c39554",
   "metadata": {},
   "outputs": [],
   "source": "Invoke-AtomicTest T1531 -TestNumbers 8 -Cleanup"
  },
  {
   "cell_type": "markdown",
   "id": "130bb80b",
   "metadata": {},
   "source": "## Detection\nUse process monitoring to monitor the execution and command line parameters of binaries involved in deleting accounts or changing passwords, such as use of [Net](https://attack.mitre.org/software/S0039). Windows event logs may also designate activity associated with an adversary's attempt to remove access to an account:\n\n* Event ID 4723 - An attempt was made to change an account's password\n* Event ID 4724 - An attempt was made to reset an account's password\n* Event ID 4726 - A user account was deleted\n* Event ID 4740 - A user account was locked out\n\nAlerting on [Net](https://attack.mitre.org/software/S0039) and these Event IDs may generate a high degree of false positives, so compare against baseline knowledge for how systems are typically used and correlate modification events with other indications of malicious activity where possible."
  },
  {
   "cell_type": "markdown",
   "id": "2de309fd",
   "metadata": {},
   "source": "\n## Shield Active Defense\n### System Activity Monitoring \n Collect system activity logs which can reveal adversary activity. \n\n Capturing system logs can show logins, user and system events, etc.  Collecting this data and potentially sending it to a centralized location can help reveal the presence of an adversary and the actions they perform on a compromised system.\n#### Opportunity\nThere is an opportunity to create a detection with a moderately high probability of success.\n#### Use Case\nA defender can implement monitoring to alert if a user account is altered outside normal business hours, from remote locations, etc.\n#### Procedures\nEnsure that systems capture and retain common system level activity artifacts that might be produced.\nMonitor Windows systems for event codes that reflect an adversary changing passwords, adding accounts to groups, etc.\n"
  }
 ],
 "metadata": {
  "kernelspec": {
   "display_name": ".NET (PowerShell)",
   "language": "pwsh",
   "name": ".net-powershell"
  },
  "language_info": {
   "file_extension": ".ps1",
   "mimetype": "text/x-powershell",
   "name": "pwsh",
   "pygments_lexer": "powershell",
   "version": "7.0"
  }
 },
 "nbformat": 4,
 "nbformat_minor": 5
}