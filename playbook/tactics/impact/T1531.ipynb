{
 "cells": [
  {
   "cell_type": "markdown",
   "id": "3e80ea5d",
   "metadata": {},
   "source": "# T1531 - Account Access Removal\nAdversaries may interrupt availability of system and network resources by inhibiting access to accounts utilized by legitimate users. Accounts may be deleted, locked, or manipulated (ex: changed credentials) to remove access to accounts. Adversaries may also subsequently log off and/or perform a [System Shutdown/Reboot](https://attack.mitre.org/techniques/T1529) to set malicious changes into place.(Citation: CarbonBlack LockerGoga 2019)(Citation: Unit42 LockerGoga 2019)\n\nIn Windows, [Net](https://attack.mitre.org/software/S0039) utility, <code>Set-LocalUser</code> and <code>Set-ADAccountPassword</code> [PowerShell](https://attack.mitre.org/techniques/T1059/001) cmdlets may be used by adversaries to modify user accounts. In Linux, the <code>passwd</code> utility may be used to change passwords. Accounts could also be disabled by Group Policy. \n\nAdversaries who use ransomware may first perform this and other Impact behaviors, such as [Data Destruction](https://attack.mitre.org/techniques/T1485) and [Defacement](https://attack.mitre.org/techniques/T1491), before completing the [Data Encrypted for Impact](https://attack.mitre.org/techniques/T1486) objective. "
  },
  {
   "cell_type": "markdown",
   "id": "0b1fbe4a",
   "metadata": {},
   "source": "## Atomic Tests"
  },
  {
   "cell_type": "markdown",
   "id": "6bbaa5bd",
   "metadata": {},
   "source": [
    "### Atomic Test #1 - Change User Password - Windows",
    "Changes the user password to hinder access attempts. Seen in use by LockerGoga. Upon execution, log into the user account \"AtomicAdministrator\" with\nthe password \"HuHuHUHoHo283283\".\n",
    "**Supported Platforms:** windows",
    "\nElevation Required (e.g. root or admin)",
    "#### Attack Commands: Run with `command_prompt`\n",
    "```command_prompt\nnet user AtomicAdministrator User2ChangePW! /add\nnet.exe user AtomicAdministrator HuHuHUHoHo283283@dJD\n```"
   ]
  },
  {
   "cell_type": "code",
   "execution_count": null,
   "id": "ba8ffb0b",
   "metadata": {},
   "outputs": [],
   "source": "Invoke-AtomicTest T1531 -TestNumbers 1"
  },
  {
   "cell_type": "markdown",
   "id": "1869666a",
   "metadata": {},
   "source": "#### Cleanup: \n```cmd\nnet.exe user AtomicAdministrator /delete >nul 2>&1\n```"
  },
  {
   "cell_type": "code",
   "execution_count": null,
   "id": "9b64cce9",
   "metadata": {},
   "outputs": [],
   "source": "Invoke-AtomicTest T1531 -TestNumbers 1 -Cleanup"
  },
  {
   "cell_type": "markdown",
   "id": "af7cab73",
   "metadata": {},
   "source": [
    "### Atomic Test #2 - Delete User - Windows",
    "Deletes a user account to prevent access. Upon execution, run the command \"net user\" to verify that the new \"AtomicUser\" account was deleted.\n",
    "**Supported Platforms:** windows",
    "\nElevation Required (e.g. root or admin)",
    "#### Attack Commands: Run with `command_prompt`\n",
    "```command_prompt\nnet user AtomicUser User2DeletePW! /add\nnet.exe user AtomicUser /delete\n```"
   ]
  },
  {
   "cell_type": "code",
   "execution_count": null,
   "id": "05cabdcc",
   "metadata": {},
   "outputs": [],
   "source": "Invoke-AtomicTest T1531 -TestNumbers 2"
  },
  {
   "cell_type": "markdown",
   "id": "d16307e0",
   "metadata": {},
   "source": "### Atomic Test #3 - Remove Account From Domain Admin Group\nThis test will remove an account from the domain admins group\n\n**Supported Platforms:** windows\n\nElevation Required (e.g. root or admin)\n#### Dependencies:  Run with `powershell`!\n##### Description: Requires the Active Directory module for powershell to be installed.\n\n##### Check Prereq Commands:\n```powershell\nif(Get-Module -ListAvailable -Name ActiveDirectory) {exit 0} else {exit 1}\n\n```\n##### Get Prereq Commands:\n```powershell\nAdd-WindowsCapability -Online -Name \"Rsat.ActiveDirectory.DS-LDS.Tools~~~~0.0.1.0\"\n\n```"
  },
  {
   "cell_type": "code",
   "execution_count": null,
   "id": "bec2ea9c",
   "metadata": {},
   "outputs": [],
   "source": "Invoke-AtomicTest T1531 -TestNumbers 3 -GetPreReqs"
  },
  {
   "cell_type": "markdown",
   "id": "64a1f260",
   "metadata": {},
   "source": [
    "#### Attack Commands: Run with `powershell`\n",
    "```powershell\n$PWord = ConvertTo-SecureString -String password -AsPlainText -Force\n$Credential = New-Object -TypeName System.Management.Automation.PSCredential -ArgumentList domain\\super_user, $PWord\nif((Get-ADUser remove_user -Properties memberof).memberof -like \"CN=Domain Admins*\"){\n  Remove-ADGroupMember -Identity \"Domain Admins\" -Members remove_user -Credential $Credential -Confirm:$False\n} else{\n    write-host \"Error - Make sure remove_user is in the domain admins group\" -foregroundcolor Red\n}\n```"
   ]
  },
  {
   "cell_type": "code",
   "execution_count": null,
   "id": "70677a27",
   "metadata": {},
   "outputs": [],
   "source": "Invoke-AtomicTest T1531 -TestNumbers 3"
  },
  {
   "cell_type": "markdown",
   "id": "3ed2d1a3",
   "metadata": {},
   "source": "## Detection\nUse process monitoring to monitor the execution and command line parameters of binaries involved in deleting accounts or changing passwords, such as use of [Net](https://attack.mitre.org/software/S0039). Windows event logs may also designate activity associated with an adversary's attempt to remove access to an account:\n\n* Event ID 4723 - An attempt was made to change an account's password\n* Event ID 4724 - An attempt was made to reset an account's password\n* Event ID 4726 - A user account was deleted\n* Event ID 4740 - A user account was locked out\n\nAlerting on [Net](https://attack.mitre.org/software/S0039) and these Event IDs may generate a high degree of false positives, so compare against baseline knowledge for how systems are typically used and correlate modification events with other indications of malicious activity where possible."
  },
  {
   "cell_type": "markdown",
   "id": "9a013a4c",
   "metadata": {},
   "source": "\n## Shield Active Defense\n### System Activity Monitoring \n Collect system activity logs which can reveal adversary activity. \n\n Capturing system logs can show logins, user and system events, etc.  Collecting this data and potentially sending it to a centralized location can help reveal the presence of an adversary and the actions they perform on a compromised system.\n#### Opportunity\nThere is an opportunity to create a detection with a moderately high probability of success.\n#### Use Case\nA defender can implement monitoring to alert if a user account is altered outside normal business hours, from remote locations, etc.\n#### Procedures\nEnsure that systems capture and retain common system level activity artifacts that might be produced.\nMonitor Windows systems for event codes that reflect an adversary changing passwords, adding accounts to groups, etc.\n"
  }
 ],
 "metadata": {
  "kernelspec": {
   "display_name": ".NET (PowerShell)",
   "language": "PowerShell",
   "name": ".net-powershell"
  },
  "language_info": {
   "file_extension": ".ps1",
   "mimetype": "text/x-powershell",
   "name": "PowerShell",
   "pygments_lexer": "powershell",
   "version": "7.0"
  }
 },
 "nbformat": 4,
 "nbformat_minor": 5
}