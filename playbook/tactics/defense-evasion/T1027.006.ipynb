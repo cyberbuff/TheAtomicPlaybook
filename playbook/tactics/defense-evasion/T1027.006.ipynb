{
 "cells": [
  {
   "cell_type": "markdown",
   "id": "691de044",
   "metadata": {},
   "source": "# T1027.006 - HTML Smuggling\nAdversaries may smuggle data and files past content filters by hiding malicious payloads inside of seemingly benign HTML files. HTML documents can store large binary objects known as JavaScript Blobs (immutable data that represents raw bytes) that can later be constructed into file-like objects. Data may also be stored in Data URLs, which enable embedding media type or MIME files inline of HTML documents. HTML5 also introduced a download attribute that may be used to initiate file downloads.(Citation: HTML Smuggling Menlo Security 2020)(Citation: Outlflank HTML Smuggling 2018)\n\nAdversaries may deliver payloads to victims that bypass security controls through HTML Smuggling by abusing JavaScript Blobs and/or HTML5 download attributes. Security controls such as web content filters may not identify smuggled malicious files inside of HTML/JS files, as the content may be based on typically benign MIME types such as <code>text/plain</code> and/or <code>text/html</code>. Malicious files or data can be obfuscated and hidden inside of HTML files through Data URLs and/or JavaScript Blobs and can be deobfuscated when they reach the victim (i.e. [Deobfuscate/Decode Files or Information](https://attack.mitre.org/techniques/T1140)), potentially bypassing content filters.\n\nFor example, JavaScript Blobs can be abused to dynamically generate malicious files in the victim machine and may be dropped to disk by abusing JavaScript functions such as <code>msSaveBlob</code>.(Citation: HTML Smuggling Menlo Security 2020)(Citation: MSTIC NOBELIUM May 2021)(Citation: Outlflank HTML Smuggling 2018)(Citation: nccgroup Smuggling HTA 2017)"
  },
  {
   "cell_type": "markdown",
   "id": "1f4ceb9a",
   "metadata": {},
   "source": "## Atomic Tests"
  },
  {
   "cell_type": "markdown",
   "id": "194a9671",
   "metadata": {},
   "source": "### Atomic Test #1 - HTML Smuggling Remote Payload\nThe HTML file will download an ISO file from [T1553.005](https://github.com/redcanaryco/atomic-red-team/blob/d0dad62dbcae9c60c519368e82c196a3db577055/atomics/T1553.005/bin/FeelTheBurn.iso) without userinteraction. \nThe HTML file is based off of the work from [Stan Hegt](https://outflank.nl/blog/2018/08/14/html-smuggling-explained/)\n\n**Supported Platforms:** windows\n\nElevation Required (e.g. root or admin)\n#### Dependencies:  Run with `powershell`!\n##### Description: T1027_006_remote.html must exist on disk at specified at PathToAtomicsFolder\\T1027.006\\bin\\T1027_006_Remote.html\n\n##### Check Prereq Commands:\n```powershell\nif (Test-Path PathToAtomicsFolder\\T1027.006\\bin\\T1027_006_Remote.html) { exit 0} else { exit 1}\n\n```\n##### Get Prereq Commands:\n```powershell\nNew-Item -Type Directory \"PathToAtomicsFolder\\T1027.006\\bin\\\" -ErrorAction ignore | Out-Null\nInvoke-WebRequest \"https://github.com/redcanaryco/atomic-red-team/raw/master/atomics/T1027.006/bin/T1027_006_Remote.html\" -OutFile \"PathToAtomicsFolder\\T1027.006\\bin\\T1027_006_Remote.html\"\n\n```"
  },
  {
   "cell_type": "code",
   "execution_count": null,
   "id": "5bbf970f",
   "metadata": {},
   "outputs": [],
   "source": "Invoke-AtomicTest T1027.006 -TestNumbers 1 -GetPreReqs"
  },
  {
   "cell_type": "markdown",
   "id": "2f70f022",
   "metadata": {},
   "source": [
    "#### Attack Commands: Run with `powershell`\n",
    "```powershell\nPathToAtomicsFolder\\T1027.006\\bin\\T1027_006_remote.html\n```"
   ]
  },
  {
   "cell_type": "code",
   "execution_count": null,
   "id": "50cb85ce",
   "metadata": {},
   "outputs": [],
   "source": "Invoke-AtomicTest T1027.006 -TestNumbers 1"
  },
  {
   "cell_type": "markdown",
   "id": "6e757e83",
   "metadata": {},
   "source": "#### Cleanup: \n```powershell\n$user = [System.Environment]::UserName; Remove-Item -Path C:\\Users\\$user\\Downloads\\FeelTheBurn.iso```"
  },
  {
   "cell_type": "code",
   "execution_count": null,
   "id": "60b1a46f",
   "metadata": {},
   "outputs": [],
   "source": "Invoke-AtomicTest T1027.006 -TestNumbers 1 -Cleanup"
  },
  {
   "cell_type": "markdown",
   "id": "d72c5dc6",
   "metadata": {},
   "source": "## Detection\nDetection of HTML Smuggling is difficult as HTML5 and JavaScript attributes are used by legitimate services and applications. HTML Smuggling can be performed in many ways via JavaScript, developing rules for the different variants, with a combination of different encoding and/or encryption schemes, may be very challenging.(Citation: Outlflank HTML Smuggling 2018) Detecting specific JavaScript and/or HTML5 attribute strings such as <code>Blob</code>, <code>msSaveOrOpenBlob</code>, and/or <code>download</code> may be a good indicator of HTML Smuggling. These strings may also be used by legitimate services therefore it is possible to raise false positives.\n\nConsider monitoring files downloaded from the Internet, possibly by HTML Smuggling, for suspicious activities. Data and events should not be viewed in isolation, but as part of a chain of behavior that could lead to other activities."
  }
 ],
 "metadata": {
  "kernelspec": {
   "display_name": ".NET (PowerShell)",
   "language": "PowerShell",
   "name": ".net-powershell"
  },
  "language_info": {
   "file_extension": ".ps1",
   "mimetype": "text/x-powershell",
   "name": "PowerShell",
   "pygments_lexer": "powershell",
   "version": "7.0"
  }
 },
 "nbformat": 4,
 "nbformat_minor": 5
}