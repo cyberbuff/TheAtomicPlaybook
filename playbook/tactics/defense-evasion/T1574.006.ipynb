{
 "cells": [
  {
   "cell_type": "markdown",
   "id": "c58185db",
   "metadata": {},
   "source": "# T1574.006 - Dynamic Linker Hijacking\nAdversaries may execute their own malicious payloads by hijacking environment variables the dynamic linker uses to load shared libraries. During the execution preparation phase of a program, the dynamic linker loads specified absolute paths of shared libraries from environment variables and files, such as <code>LD_PRELOAD</code> on Linux or <code>DYLD_INSERT_LIBRARIES</code> on macOS. Libraries specified in environment variables are loaded first, taking precedence over system libraries with the same function name.(Citation: Man LD.SO)(Citation: TLDP Shared Libraries)(Citation: Apple Doco Archive Dynamic Libraries) These variables are often used by developers to debug binaries without needing to recompile, deconflict mapped symbols, and implement custom functions without changing the original library.(Citation: Baeldung LD_PRELOAD)\n\nOn Linux and macOS, hijacking dynamic linker variables may grant access to the victim process's memory, system/network resources, and possibly elevated privileges. This method may also evade detection from security products since the execution is masked under a legitimate process. Adversaries can set environment variables via the command line using the <code>export</code> command, <code>setenv</code> function, or <code>putenv</code> function. Adversaries can also leverage [Dynamic Linker Hijacking](https://attack.mitre.org/techniques/T1574/006) to export variables in a shell or set variables programmatically using higher level syntax such Python\u2019s <code>os.environ</code>.\n\nOn Linux, adversaries may set <code>LD_PRELOAD</code> to point to malicious libraries that match the name of legitimate libraries which are requested by a victim program, causing the operating system to load the adversary's malicious code upon execution of the victim program. <code>LD_PRELOAD</code> can be set via the environment variable or <code>/etc/ld.so.preload</code> file.(Citation: Man LD.SO)(Citation: TLDP Shared Libraries) Libraries specified by <code>LD_PRELOAD</code> are loaded and mapped into memory by <code>dlopen()</code> and <code>mmap()</code> respectively.(Citation: Code Injection on Linux and macOS)(Citation: Uninformed Needle) (Citation: Phrack halfdead 1997)(Citation: Brown Exploiting Linkers) \n\nOn macOS this behavior is conceptually the same as on Linux, differing only in how the macOS dynamic libraries (dyld) is implemented at a lower level. Adversaries can set the <code>DYLD_INSERT_LIBRARIES</code> environment variable to point to malicious libraries containing names of legitimate libraries or functions requested by a victim program.(Citation: TheEvilBit DYLD_INSERT_LIBRARIES)(Citation: Timac DYLD_INSERT_LIBRARIES)(Citation: Gabilondo DYLD_INSERT_LIBRARIES Catalina Bypass) "
  },
  {
   "cell_type": "markdown",
   "id": "e75698d0",
   "metadata": {},
   "source": "## Atomic Tests"
  },
  {
   "cell_type": "markdown",
   "id": "a66f83a4",
   "metadata": {},
   "source": "### Atomic Test #1 - Shared Library Injection via /etc/ld.so.preload\nThis test adds a shared library to the `ld.so.preload` list to execute and intercept API calls. This technique was used by threat actor Rocke during the exploitation of Linux web servers. This requires the `glibc` package.\n\nUpon successful execution, bash will echo `../bin/T1574.006.so` to /etc/ld.so.preload. \n\n**Supported Platforms:** linux\n\nElevation Required (e.g. root or admin)\n#### Dependencies:  Run with `bash`!\n##### Description: The shared library must exist on disk at specified location (#{path_to_shared_library})\n\n##### Check Prereq Commands:\n```bash\nif [ -f /tmp/T1574006.so ]; then exit 0; else exit 1; fi;\n\n```\n##### Get Prereq Commands:\n```bash\ngcc -shared -fPIC -o /tmp/T1574006.so PathToAtomicsFolder/T1574.006/src/Linux/T1574.006.c\n\n```"
  },
  {
   "cell_type": "code",
   "execution_count": null,
   "id": "5aee276f",
   "metadata": {},
   "outputs": [],
   "source": "Invoke-AtomicTest T1574.006 -TestNumbers 1 -GetPreReqs"
  },
  {
   "cell_type": "markdown",
   "id": "0bdca6d2",
   "metadata": {},
   "source": [
    "#### Attack Commands: Run with `bash`\n",
    "```bash\nsudo sh -c 'echo /tmp/T1574006.so > /etc/ld.so.preload'\n```"
   ]
  },
  {
   "cell_type": "code",
   "execution_count": null,
   "id": "d824ee0e",
   "metadata": {},
   "outputs": [],
   "source": "Invoke-AtomicTest T1574.006 -TestNumbers 1"
  },
  {
   "cell_type": "markdown",
   "id": "2cb64f51",
   "metadata": {},
   "source": "#### Cleanup: \n```bash\nsudo sed -i 's#/tmp/T1574006.so##' /etc/ld.so.preload\n```"
  },
  {
   "cell_type": "code",
   "execution_count": null,
   "id": "89bbf471",
   "metadata": {},
   "outputs": [],
   "source": "Invoke-AtomicTest T1574.006 -TestNumbers 1 -Cleanup"
  },
  {
   "cell_type": "markdown",
   "id": "7a1bdd7f",
   "metadata": {},
   "source": "### Atomic Test #2 - Shared Library Injection via LD_PRELOAD\nThis test injects a shared object library via the LD_PRELOAD environment variable to execute. This technique was used by threat actor Rocke during the exploitation of Linux web servers. This requires the `glibc` package.\n\nUpon successful execution, bash will utilize LD_PRELOAD to load the shared object library `/etc/ld.so.preload`. Output will be via stdout.\n\n**Supported Platforms:** linux\n#### Dependencies:  Run with `bash`!\n##### Description: The shared library must exist on disk at specified location (#{path_to_shared_library})\n\n##### Check Prereq Commands:\n```bash\nif [ -f /tmp/T1574006.so ]; then exit 0; else exit 1; fi;\n\n```\n##### Get Prereq Commands:\n```bash\ngcc -shared -fPIC -o /tmp/T1574006.so PathToAtomicsFolder/T1574.006/src/Linux/T1574.006.c\n\n```"
  },
  {
   "cell_type": "code",
   "execution_count": null,
   "id": "69fd112d",
   "metadata": {},
   "outputs": [],
   "source": "Invoke-AtomicTest T1574.006 -TestNumbers 2 -GetPreReqs"
  },
  {
   "cell_type": "markdown",
   "id": "ee264e79",
   "metadata": {},
   "source": [
    "#### Attack Commands: Run with `bash`\n",
    "```bash\nLD_PRELOAD=/tmp/T1574006.so ls\n```"
   ]
  },
  {
   "cell_type": "code",
   "execution_count": null,
   "id": "78bba7ac",
   "metadata": {},
   "outputs": [],
   "source": "Invoke-AtomicTest T1574.006 -TestNumbers 2"
  },
  {
   "cell_type": "markdown",
   "id": "dd2f22e1",
   "metadata": {},
   "source": "### Atomic Test #3 - Dylib Injection via DYLD_INSERT_LIBRARIES\ninjects a dylib that opens calculator via env variable\n\n**Supported Platforms:** macos\n\nElevation Required (e.g. root or admin)\n#### Dependencies:  Run with `bash`!\n##### Description: Compile the dylib from (#{source_file}). Destination is #{dylib_file}\n\n##### Check Prereq Commands:\n```bash\ngcc -dynamiclib PathToAtomicsFolder/T1574.006/src/MacOS/T1574.006.c -o /tmp/T1574006MOS.dylib\n\n```\n##### Get Prereq Commands:\n```bash\ngcc -dynamiclib PathToAtomicsFolder/T1574.006/src/MacOS/T1574.006.c -o /tmp/T1574006MOS.dylib\n\n```"
  },
  {
   "cell_type": "code",
   "execution_count": null,
   "id": "ea16d194",
   "metadata": {},
   "outputs": [],
   "source": "Invoke-AtomicTest T1574.006 -TestNumbers 3 -GetPreReqs"
  },
  {
   "cell_type": "markdown",
   "id": "425e787e",
   "metadata": {},
   "source": [
    "#### Attack Commands: Run with `bash`\n",
    "```bash\nDYLD_INSERT_LIBRARIES=/tmp/T1574006MOS.dylib /Applications/Firefox.app/Contents/MacOS/firefox\n```"
   ]
  },
  {
   "cell_type": "code",
   "execution_count": null,
   "id": "0fe0bf71",
   "metadata": {},
   "outputs": [],
   "source": "Invoke-AtomicTest T1574.006 -TestNumbers 3"
  },
  {
   "cell_type": "markdown",
   "id": "9a8e720d",
   "metadata": {},
   "source": "#### Cleanup: \n```bash\nkill `pgrep Calculator`\nkill `pgrep firefox`\n```"
  },
  {
   "cell_type": "code",
   "execution_count": null,
   "id": "ba38b203",
   "metadata": {},
   "outputs": [],
   "source": "Invoke-AtomicTest T1574.006 -TestNumbers 3 -Cleanup"
  },
  {
   "cell_type": "markdown",
   "id": "66823f8b",
   "metadata": {},
   "source": "## Detection\nMonitor for changes to environment variables and files associated with loading shared libraries such as <code>LD_PRELOAD</code> and <code>DYLD_INSERT_LIBRARIES</code>, as well as the commands to implement these changes.\n\nMonitor processes for unusual activity (e.g., a process that does not use the network begins to do so). Track library metadata, such as a hash, and compare libraries that are loaded at process execution time against previous executions to detect differences that do not correlate with patching or updates."
  }
 ],
 "metadata": {
  "kernelspec": {
   "display_name": ".NET (PowerShell)",
   "language": "pwsh",
   "name": ".net-powershell"
  },
  "language_info": {
   "file_extension": ".ps1",
   "mimetype": "text/x-powershell",
   "name": "pwsh",
   "pygments_lexer": "powershell",
   "version": "7.0"
  }
 },
 "nbformat": 4,
 "nbformat_minor": 5
}