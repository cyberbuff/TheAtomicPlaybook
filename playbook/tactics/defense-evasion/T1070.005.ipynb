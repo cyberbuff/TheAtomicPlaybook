{
 "cells": [
  {
   "cell_type": "markdown",
   "id": "af0841eb",
   "metadata": {},
   "source": "# T1070.005 - Network Share Connection Removal\nAdversaries may remove share connections that are no longer useful in order to clean up traces of their operation. Windows shared drive and [SMB/Windows Admin Shares](https://attack.mitre.org/techniques/T1021/002) connections can be removed when no longer needed. [Net](https://attack.mitre.org/software/S0039) is an example utility that can be used to remove network share connections with the <code>net use \\\\system\\share /delete</code> command. (Citation: Technet Net Use)"
  },
  {
   "cell_type": "markdown",
   "id": "8af33822",
   "metadata": {},
   "source": "## Atomic Tests"
  },
  {
   "cell_type": "markdown",
   "id": "32eb69f6",
   "metadata": {},
   "source": [
    "### Atomic Test #1 - Add Network Share",
    "Add a Network Share utilizing the command_prompt\n",
    "**Supported Platforms:** windows",
    "#### Attack Commands: Run with `command_prompt`\n",
    "```command_prompt\nnet use c: \\\\test\\share\nnet share test=\\\\test\\share /REMARK:\"test share\" /CACHE:No\n```"
   ]
  },
  {
   "cell_type": "code",
   "execution_count": null,
   "id": "e1891d1c",
   "metadata": {},
   "outputs": [],
   "source": "Invoke-AtomicTest T1070.005 -TestNumbers 1"
  },
  {
   "cell_type": "markdown",
   "id": "abe9987f",
   "metadata": {},
   "source": [
    "### Atomic Test #2 - Remove Network Share",
    "Removes a Network Share utilizing the command_prompt\n",
    "**Supported Platforms:** windows",
    "#### Attack Commands: Run with `command_prompt`\n",
    "```command_prompt\nnet share \\\\test\\share /delete\n```"
   ]
  },
  {
   "cell_type": "code",
   "execution_count": null,
   "id": "da7a8cb9",
   "metadata": {},
   "outputs": [],
   "source": "Invoke-AtomicTest T1070.005 -TestNumbers 2"
  },
  {
   "cell_type": "markdown",
   "id": "7ee64229",
   "metadata": {},
   "source": [
    "### Atomic Test #3 - Remove Network Share PowerShell",
    "Removes a Network Share utilizing PowerShell\n",
    "**Supported Platforms:** windows",
    "#### Attack Commands: Run with `powershell`\n",
    "```powershell\nRemove-SmbShare -Name \\\\test\\share\nRemove-FileShare -Name \\\\test\\share\n```"
   ]
  },
  {
   "cell_type": "code",
   "execution_count": null,
   "id": "ebaf8ef0",
   "metadata": {},
   "outputs": [],
   "source": "Invoke-AtomicTest T1070.005 -TestNumbers 3"
  },
  {
   "cell_type": "markdown",
   "id": "9381fcda",
   "metadata": {},
   "source": [
    "### Atomic Test #4 - Disable Administrative Share Creation at Startup",
    "Administrative shares are hidden network shares created by Microsoft\u2019s Windows NT operating systems that grant system administrators \nremote access to every disk volume on a network-connected system. These shares are automatically created at started unless they have been\npurposefully disabled as is done in this Atomic test. As Microsoft puts it, \"Missing administrative shares typically \nindicate that the computer in question has been compromised by malicious software.\"\nhttps://threatpost.com/conti-ransomware-gang-has-full-log4shell-attack-chain/177173/\n",
    "**Supported Platforms:** windows",
    "\nElevation Required (e.g. root or admin)",
    "#### Attack Commands: Run with `command_prompt`\n",
    "```command_prompt\nreg add \"HKEY_LOCAL_MACHINE\\SYSTEM\\CurrentControlSet\\Services\\LanmanServer\\Parameters\" /v AutoShareServer /t REG_DWORD /d 0 /f\nreg add \"HKEY_LOCAL_MACHINE\\SYSTEM\\CurrentControlSet\\Services\\LanmanServer\\Parameters\" /v AutoShareWks /t REG_DWORD /d 0 /f\n```"
   ]
  },
  {
   "cell_type": "code",
   "execution_count": null,
   "id": "ae0c74de",
   "metadata": {},
   "outputs": [],
   "source": "Invoke-AtomicTest T1070.005 -TestNumbers 4"
  },
  {
   "cell_type": "markdown",
   "id": "6b713105",
   "metadata": {},
   "source": "#### Cleanup: \n```cmd\nreg delete \"HKEY_LOCAL_MACHINE\\SYSTEM\\CurrentControlSet\\Services\\LanmanServer\\Parameters\" /v AutoShareServer /f\nreg delete \"HKEY_LOCAL_MACHINE\\SYSTEM\\CurrentControlSet\\Services\\LanmanServer\\Parameters\" /v AutoShareWks /f\n```"
  },
  {
   "cell_type": "code",
   "execution_count": null,
   "id": "c597d7ff",
   "metadata": {},
   "outputs": [],
   "source": "Invoke-AtomicTest T1070.005 -TestNumbers 4 -Cleanup"
  },
  {
   "cell_type": "markdown",
   "id": "1631bd01",
   "metadata": {},
   "source": [
    "### Atomic Test #5 - Remove Administrative Shares",
    "Administrative shares are hidden network shares created by Microsoft\u2019s Windows NT operating systems that grant system administrators \nremote access to every disk volume on a network-connected system. As Microsoft puts it, \u201cMissing administrative shares typically \nindicate that the computer in question has been compromised by malicious software.\nhttps://threatpost.com/conti-ransomware-gang-has-full-log4shell-attack-chain/177173/\n",
    "**Supported Platforms:** windows",
    "\nElevation Required (e.g. root or admin)",
    "#### Attack Commands: Run with `command_prompt`\n",
    "```command_prompt\nfor %i in (C$ IPC$ ADMIN$) do net share %i /delete```"
   ]
  },
  {
   "cell_type": "code",
   "execution_count": null,
   "id": "22dbef02",
   "metadata": {},
   "outputs": [],
   "source": "Invoke-AtomicTest T1070.005 -TestNumbers 5"
  },
  {
   "cell_type": "markdown",
   "id": "eeb78fb5",
   "metadata": {},
   "source": "#### Cleanup: \n```cmd\nnet share ADMIN$ /UNLIMITED >nul 2>&1\nnet share C$=C:\\ >nul 2>&1\nnet share IPC$ >nul 2>&1\n```"
  },
  {
   "cell_type": "code",
   "execution_count": null,
   "id": "23414c18",
   "metadata": {},
   "outputs": [],
   "source": "Invoke-AtomicTest T1070.005 -TestNumbers 5 -Cleanup"
  },
  {
   "cell_type": "markdown",
   "id": "e82357b6",
   "metadata": {},
   "source": "## Detection\nNetwork share connections may be common depending on how an network environment is used. Monitor command-line invocation of <code>net use</code> commands associated with establishing and removing remote shares over SMB, including following best practices for detection of [Windows Admin Shares](https://attack.mitre.org/techniques/T1077). SMB traffic between systems may also be captured and decoded to look for related network share session and file transfer activity. Windows authentication logs are also useful in determining when authenticated network shares are established and by which account, and can be used to correlate network share activity to other events to investigate potentially malicious activity."
  }
 ],
 "metadata": {
  "kernelspec": {
   "display_name": ".NET (PowerShell)",
   "language": "PowerShell",
   "name": ".net-powershell"
  },
  "language_info": {
   "file_extension": ".ps1",
   "mimetype": "text/x-powershell",
   "name": "PowerShell",
   "pygments_lexer": "powershell",
   "version": "7.0"
  }
 },
 "nbformat": 4,
 "nbformat_minor": 5
}