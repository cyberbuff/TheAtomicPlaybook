{
 "cells": [
  {
   "cell_type": "markdown",
   "id": "d23c7ec3",
   "metadata": {},
   "source": "# T1564.003 - Hidden Window\nAdversaries may use hidden windows to conceal malicious activity from the plain sight of users. In some cases, windows that would typically be displayed when an application carries out an operation can be hidden. This may be utilized by system administrators to avoid disrupting user work environments when carrying out administrative tasks. \n\nOn Windows, there are a variety of features in scripting languages in Windows, such as [PowerShell](https://attack.mitre.org/techniques/T1059/001), Jscript, and [Visual Basic](https://attack.mitre.org/techniques/T1059/005) to make windows hidden. One example of this is <code>powershell.exe -WindowStyle Hidden</code>. (Citation: PowerShell About 2019)\n\nSimilarly, on macOS the configurations for how applications run are listed in property list (plist) files. One of the tags in these files can be <code>apple.awt.UIElement</code>, which allows for Java applications to prevent the application's icon from appearing in the Dock. A common use for this is when applications run in the system tray, but don't also want to show up in the Dock.\n\nAdversaries may abuse these functionalities to hide otherwise visible windows from users so as not to alert the user to adversary activity on the system.(Citation: Antiquated Mac Malware)"
  },
  {
   "cell_type": "markdown",
   "id": "2882c59c",
   "metadata": {},
   "source": "## Atomic Tests"
  },
  {
   "cell_type": "markdown",
   "id": "8289bbba",
   "metadata": {},
   "source": [
    "### Atomic Test #1 - Hidden Window",
    "Launch PowerShell with the \"-WindowStyle Hidden\" argument to conceal PowerShell windows by setting the WindowStyle parameter to hidden.\nUpon execution a hidden PowerShell window will launch calc.exe\n",
    "**Supported Platforms:** windows",
    "#### Attack Commands: Run with `powershell`\n",
    "```powershell\nStart-Process powershell.exe -WindowStyle hidden calc.exe\n```"
   ]
  },
  {
   "cell_type": "code",
   "execution_count": null,
   "id": "17309420",
   "metadata": {},
   "outputs": [],
   "source": "Invoke-AtomicTest T1564.003 -TestNumbers 1"
  },
  {
   "cell_type": "markdown",
   "id": "a5b3f7c2",
   "metadata": {},
   "source": [
    "### Atomic Test #2 - Headless Browser Accessing Mockbin",
    "The following Atomic Red Team test leverages the Chrome headless browser to access a mockbin site. Create your own Mockbin.org site and replace the BIN in the inputs.\nThe default Mockbin ID forwards to google.com and you may view the details here https://mockbin.org/bin/f6b9a876-a826-4ac0-83b8-639d6ad516ec/view.\nReference: https://cert.gov.ua/article/5702579\n",
    "**Supported Platforms:** windows",
    "#### Attack Commands: Run with `command_prompt`\n",
    "```command_prompt\nstart \"\" chrome --headless --disable-gpu https://mockbin.org/bin/f6b9a876-a826-4ac0-83b8-639d6ad516ec\n```"
   ]
  },
  {
   "cell_type": "code",
   "execution_count": null,
   "id": "43677adf",
   "metadata": {},
   "outputs": [],
   "source": "Invoke-AtomicTest T1564.003 -TestNumbers 2"
  },
  {
   "cell_type": "markdown",
   "id": "a2fd2c7f",
   "metadata": {},
   "source": "#### Cleanup: \n```cmd\ntaskkill /im chrome /f\n```"
  },
  {
   "cell_type": "code",
   "execution_count": null,
   "id": "88daddf5",
   "metadata": {},
   "outputs": [],
   "source": "Invoke-AtomicTest T1564.003 -TestNumbers 2 -Cleanup"
  },
  {
   "cell_type": "markdown",
   "id": "9c422e5b",
   "metadata": {},
   "source": "## Detection\nMonitor processes and command-line arguments for actions indicative of hidden windows. In Windows, enable and configure event logging and PowerShell logging to check for the hidden window style. In MacOS, plist files are ASCII text files with a specific format, so they're relatively easy to parse. File monitoring can check for the <code>apple.awt.UIElement</code> or any other suspicious plist tag in plist files and flag them."
  }
 ],
 "metadata": {
  "kernelspec": {
   "display_name": ".NET (PowerShell)",
   "language": "pwsh",
   "name": ".net-powershell"
  },
  "language_info": {
   "file_extension": ".ps1",
   "mimetype": "text/x-powershell",
   "name": "pwsh",
   "pygments_lexer": "powershell",
   "version": "7.0"
  }
 },
 "nbformat": 4,
 "nbformat_minor": 5
}