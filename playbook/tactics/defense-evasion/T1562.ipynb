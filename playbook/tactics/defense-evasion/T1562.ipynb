{
 "cells": [
  {
   "cell_type": "markdown",
   "id": "d00e7c73",
   "metadata": {},
   "source": "# T1562 - Impair Defenses\nAdversaries may maliciously modify components of a victim environment in order to hinder or disable defensive mechanisms. This not only involves impairing preventative defenses, such as firewalls and anti-virus, but also detection capabilities that defenders can use to audit activity and identify malicious behavior. This may also span both native defenses as well as supplemental capabilities installed by users and administrators.\n\nAdversaries may also impair routine operations that contribute to defensive hygiene, such as blocking users from logging out of a computer or stopping it from being shut down. These restrictions can further enable malicious operations as well as the continued propagation of incidents.(Citation: Emotet shutdown)\n\nAdversaries could also target event aggregation and analysis mechanisms, or otherwise disrupt these procedures by altering other system components."
  },
  {
   "cell_type": "markdown",
   "id": "27519ea3",
   "metadata": {},
   "source": "## Atomic Tests"
  },
  {
   "cell_type": "markdown",
   "id": "6f336541",
   "metadata": {},
   "source": [
    "### Atomic Test #1 - Windows Disable LSA Protection",
    "The following Atomic adds a registry entry to disable LSA Protection.\n\nThe LSA controls and manages user rights information, password hashes and other important bits of information in memory. Attacker tools, such as mimikatz, rely on accessing this content to scrape password hashes or clear-text passwords. Enabling LSA Protection configures Windows to control the information stored in memory in a more secure fashion - specifically, to prevent non-protected processes from accessing that data.\nUpon successful execution, the registry will be modified and RunAsPPL will be set to 0, disabling Lsass protection.\nhttps://learn.microsoft.com/en-us/windows-server/security/credentials-protection-and-management/configuring-additional-lsa-protection#how-to-disable-lsa-protection\nhttps://blog.netwrix.com/2022/01/11/understanding-lsa-protection/\nhttps://thedfirreport.com/2022/03/21/phosphorus-automates-initial-access-using-proxyshell/  \n",
    "**Supported Platforms:** windows",
    "\nElevation Required (e.g. root or admin)",
    "#### Attack Commands: Run with `command_prompt`\n",
    "```command_prompt\nreg add HKLM\\SYSTEM\\CurrentControlSet\\Control\\LSA /v RunAsPPL /t REG_DWORD /d 0 /f\n```"
   ]
  },
  {
   "cell_type": "code",
   "execution_count": null,
   "id": "ed5d1175",
   "metadata": {},
   "outputs": [],
   "source": "Invoke-AtomicTest T1562 -TestNumbers 1"
  },
  {
   "cell_type": "markdown",
   "id": "92069c67",
   "metadata": {},
   "source": "#### Cleanup: \n```cmd\nreg delete HKLM\\SYSTEM\\CurrentControlSet\\Control\\LSA /v RunAsPPL /f >nul 2>&1\n```"
  },
  {
   "cell_type": "code",
   "execution_count": null,
   "id": "c7ddd05a",
   "metadata": {},
   "outputs": [],
   "source": "Invoke-AtomicTest T1562 -TestNumbers 1 -Cleanup"
  },
  {
   "cell_type": "markdown",
   "id": "d80cf4e8",
   "metadata": {},
   "source": [
    "### Atomic Test #2 - Disable journal logging via systemctl utility",
    "The atomic test disables the journal logging using built-in systemctl utility\n",
    "**Supported Platforms:** linux",
    "\nElevation Required (e.g. root or admin)",
    "#### Attack Commands: Run with `sh`\n",
    "```sh\nsudo systemctl stop systemd-journald #disables journal logging\n```"
   ]
  },
  {
   "cell_type": "code",
   "execution_count": null,
   "id": "93eca7c5",
   "metadata": {},
   "outputs": [],
   "source": "Invoke-AtomicTest T1562 -TestNumbers 2"
  },
  {
   "cell_type": "markdown",
   "id": "32da9ff6",
   "metadata": {},
   "source": "#### Cleanup: \n```sh\nsudo systemctl start systemd-journald #starts journal service\nsudo systemctl enable systemd-journald #starts journal service automatically at boot time\n```"
  },
  {
   "cell_type": "code",
   "execution_count": null,
   "id": "1eaa4a43",
   "metadata": {},
   "outputs": [],
   "source": "Invoke-AtomicTest T1562 -TestNumbers 2 -Cleanup"
  },
  {
   "cell_type": "markdown",
   "id": "ce353cb6",
   "metadata": {},
   "source": [
    "### Atomic Test #3 - Disable journal logging via sed utility",
    "The atomic test disables the journal logging by searching and replacing the \"Storage\" parameter to \"none\" within the journald.conf file, thus any new journal entries will only be temporarily available in memory and not written to disk\n",
    "**Supported Platforms:** linux",
    "\nElevation Required (e.g. root or admin)",
    "#### Attack Commands: Run with `sh`\n",
    "```sh\nsudo sed -i 's/Storage=auto/Storage=none/' /etc/systemd/journald.conf\n```"
   ]
  },
  {
   "cell_type": "code",
   "execution_count": null,
   "id": "fab71385",
   "metadata": {},
   "outputs": [],
   "source": "Invoke-AtomicTest T1562 -TestNumbers 3"
  },
  {
   "cell_type": "markdown",
   "id": "9f66fadf",
   "metadata": {},
   "source": "#### Cleanup: \n```sh\nsudo sed -i 's/Storage=none/Storage=auto/' /etc/systemd/journald.conf #re-enables storage of journal data\nsudo systemctl restart systemd-journald #restart the journal service\n```"
  },
  {
   "cell_type": "code",
   "execution_count": null,
   "id": "c301aecd",
   "metadata": {},
   "outputs": [],
   "source": "Invoke-AtomicTest T1562 -TestNumbers 3 -Cleanup"
  },
  {
   "cell_type": "markdown",
   "id": "eb53fdcb",
   "metadata": {},
   "source": "## Detection\nMonitor processes and command-line arguments to see if security tools or logging services are killed or stop running. Monitor Registry edits for modifications to services and startup programs that correspond to security tools.  Lack of log events may be suspicious.\n\nMonitor environment variables and APIs that can be leveraged to disable security measures."
  },
  {
   "cell_type": "markdown",
   "id": "0f431bd3",
   "metadata": {},
   "source": "\n## Shield Active Defense\n### Application Diversity \n Present the adversary with a variety of installed applications and services. \n\n Application diversity is presenting multiple software targets to the adversary. On a single target system, defenders can configure multiple different services or user software applications.  On a target network, defenders can present systems with a variety of operating systems, operating system versions, applications, and services.\n#### Opportunity\nThere is an opportunity to study the adversary and collect first-hand observations about them and their tools.\n#### Use Case\nA defender can plant AV or monitoring tools which are easy for an adversary to remove. If an adversary removes these, they may be enticed to act more openly believing they have removed monitoring from the system.\n#### Procedures\nUse a mix of vulnerable and nonvulnerable software on a system to allow you to see what exploits the adversary leverages in their attacks.\nInstall Anti-virus or other end-point detection tools on systems to see if an adversary takes note of them and if so, how they react.\n"
  }
 ],
 "metadata": {
  "kernelspec": {
   "display_name": ".NET (PowerShell)",
   "language": "pwsh",
   "name": ".net-powershell"
  },
  "language_info": {
   "file_extension": ".ps1",
   "mimetype": "text/x-powershell",
   "name": "pwsh",
   "pygments_lexer": "powershell",
   "version": "7.0"
  }
 },
 "nbformat": 4,
 "nbformat_minor": 5
}