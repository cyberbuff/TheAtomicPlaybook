{
 "cells": [
  {
   "cell_type": "markdown",
   "id": "c74c8cb5",
   "metadata": {},
   "source": "# T1140 - Deobfuscate/Decode Files or Information\nAdversaries may use [Obfuscated Files or Information](https://attack.mitre.org/techniques/T1027) to hide artifacts of an intrusion from analysis. They may require separate mechanisms to decode or deobfuscate that information depending on how they intend to use it. Methods for doing that include built-in functionality of malware or by using utilities present on the system.\n\nOne such example is the use of [certutil](https://attack.mitre.org/software/S0160) to decode a remote access tool portable executable file that has been hidden inside a certificate file.(Citation: Malwarebytes Targeted Attack against Saudi Arabia) Another example is using the Windows <code>copy /b</code> command to reassemble binary fragments into a malicious payload.(Citation: Carbon Black Obfuscation Sept 2016)\n\nSometimes a user's action may be required to open it for deobfuscation or decryption as part of [User Execution](https://attack.mitre.org/techniques/T1204). The user may also be required to input a password to open a password protected compressed/encrypted file that was provided by the adversary. (Citation: Volexity PowerDuke November 2016)"
  },
  {
   "cell_type": "markdown",
   "id": "5a7cc18e",
   "metadata": {},
   "source": "## Atomic Tests"
  },
  {
   "cell_type": "markdown",
   "id": "2f578e92",
   "metadata": {},
   "source": [
    "### Atomic Test #1 - Deobfuscate/Decode Files Or Information",
    "Encode/Decode executable\nUpon execution a file named T1140_calc_decoded.exe will be placed in the temp folder\n",
    "**Supported Platforms:** windows",
    "#### Attack Commands: Run with `command_prompt`\n",
    "```command_prompt\ncertutil -encode C:\\Windows\\System32\\calc.exe %temp%\\T1140_calc.txt\ncertutil -decode %temp%\\T1140_calc.txt %temp%\\T1140_calc_decoded.exe\n```"
   ]
  },
  {
   "cell_type": "code",
   "execution_count": null,
   "id": "96b6085a",
   "metadata": {},
   "outputs": [],
   "source": "Invoke-AtomicTest T1140 -TestNumbers 1"
  },
  {
   "cell_type": "markdown",
   "id": "a65c9e01",
   "metadata": {},
   "source": "#### Cleanup: \n```cmd\ndel %temp%\\T1140_calc.txt >nul 2>&1\ndel %temp%\\T1140_calc_decoded.exe >nul 2>&1\n```"
  },
  {
   "cell_type": "code",
   "execution_count": null,
   "id": "838b7c04",
   "metadata": {},
   "outputs": [],
   "source": "Invoke-AtomicTest T1140 -TestNumbers 1 -Cleanup"
  },
  {
   "cell_type": "markdown",
   "id": "0819ab74",
   "metadata": {},
   "source": [
    "### Atomic Test #2 - Certutil Rename and Decode",
    "Rename certutil and decode a file. This is in reference to latest research by FireEye [here](https://www.fireeye.com/blog/threat-research/2018/09/apt10-targeting-japanese-corporations-using-updated-ttps.html)\n",
    "**Supported Platforms:** windows",
    "#### Attack Commands: Run with `command_prompt`\n",
    "```command_prompt\ncopy %windir%\\system32\\certutil.exe %temp%\\tcm.tmp\n%temp%\\tcm.tmp -encode C:\\Windows\\System32\\calc.exe %temp%\\T1140_calc2.txt\n%temp%\\tcm.tmp -decode %temp%\\T1140_calc2.txt %temp%\\T1140_calc2_decoded.exe\n```"
   ]
  },
  {
   "cell_type": "code",
   "execution_count": null,
   "id": "e692f67d",
   "metadata": {},
   "outputs": [],
   "source": "Invoke-AtomicTest T1140 -TestNumbers 2"
  },
  {
   "cell_type": "markdown",
   "id": "f5671296",
   "metadata": {},
   "source": "#### Cleanup: \n```cmd\ndel %temp%\\tcm.tmp >nul 2>&1\ndel %temp%\\T1140_calc2.txt >nul 2>&1\ndel %temp%\\T1140_calc2_decoded.exe >nul 2>&1\n```"
  },
  {
   "cell_type": "code",
   "execution_count": null,
   "id": "9e1090d4",
   "metadata": {},
   "outputs": [],
   "source": "Invoke-AtomicTest T1140 -TestNumbers 2 -Cleanup"
  },
  {
   "cell_type": "markdown",
   "id": "87df9113",
   "metadata": {},
   "source": "### Atomic Test #3 - Base64 decoding with Python\nUse Python to decode a base64-encoded text string and echo it to the console\n\n**Supported Platforms:** linux, macos\n\nElevation Required (e.g. root or admin)\n#### Dependencies:  Run with `sh`!\n##### Description: Python must be present\n\n##### Check Prereq Commands:\n```sh\nwhich python3\n\n```\n##### Get Prereq Commands:\n```sh\necho \"Please install Python 3\"\n\n```"
  },
  {
   "cell_type": "code",
   "execution_count": null,
   "id": "1b99472f",
   "metadata": {},
   "outputs": [],
   "source": "Invoke-AtomicTest T1140 -TestNumbers 3 -GetPreReqs"
  },
  {
   "cell_type": "markdown",
   "id": "4e95348e",
   "metadata": {},
   "source": [
    "#### Attack Commands: Run with `sh`\n",
    "```sh\nENCODED=$(python3 -c 'import base64;enc=base64.b64encode(\"Hello from Atomic Red Team test T1140!\".encode());print(enc.decode())')\npython3 -c \"import base64;dec=base64.b64decode(\\\"$ENCODED\\\");print(dec.decode())\"\npython3 -c \"import base64 as d;dec=d.b64decode(\\\"$ENCODED\\\");print(dec.decode())\"\npython3 -c \"from base64 import b64decode;dec=b64decode(\\\"$ENCODED\\\");print(dec.decode())\"\npython3 -c \"from base64 import b64decode as d;dec=d(\\\"$ENCODED\\\");print(dec.decode())\"\necho $ENCODED | python3 -c \"import base64,sys;dec=base64.b64decode(sys.stdin.read());print(dec.decode())\"\necho $ENCODED > /tmp/T1140.encoded && python3 -c \"import base64;dec=base64.b64decode(open('/tmp/T1140.encoded').read());print(dec.decode())\"\n```"
   ]
  },
  {
   "cell_type": "code",
   "execution_count": null,
   "id": "feaea57c",
   "metadata": {},
   "outputs": [],
   "source": "Invoke-AtomicTest T1140 -TestNumbers 3"
  },
  {
   "cell_type": "markdown",
   "id": "637e2153",
   "metadata": {},
   "source": "### Atomic Test #4 - Base64 decoding with Perl\nUse Perl to decode a base64-encoded text string and echo it to the console    \n\n**Supported Platforms:** linux, macos\n\nElevation Required (e.g. root or admin)\n#### Dependencies:  Run with `sh`!\n##### Description: Perl must be present\n\n##### Check Prereq Commands:\n```sh\nwhich perl\n\n```\n##### Get Prereq Commands:\n```sh\necho \"Please install Perl\"\n\n```"
  },
  {
   "cell_type": "code",
   "execution_count": null,
   "id": "bce1f0d7",
   "metadata": {},
   "outputs": [],
   "source": "Invoke-AtomicTest T1140 -TestNumbers 4 -GetPreReqs"
  },
  {
   "cell_type": "markdown",
   "id": "aa1cb1fd",
   "metadata": {},
   "source": [
    "#### Attack Commands: Run with `sh`\n",
    "```sh\nENCODED=$(perl -e \"use MIME::Base64;print(encode_base64('Hello from Atomic Red Team test T1140!'));\")\nperl -le \"use MIME::Base64;print(decode_base64('$ENCODED'));\"\necho $ENCODED | perl -le 'use MIME::Base64;print(decode_base64(<STDIN>));'\necho $ENCODED > /tmp/T1140.encoded && perl -le 'use MIME::Base64;open($f,\"<\",\"/tmp/T1140.encoded\");print(decode_base64(<$f>));'\n```"
   ]
  },
  {
   "cell_type": "code",
   "execution_count": null,
   "id": "3341a8c7",
   "metadata": {},
   "outputs": [],
   "source": "Invoke-AtomicTest T1140 -TestNumbers 4"
  },
  {
   "cell_type": "markdown",
   "id": "66bac0e9",
   "metadata": {},
   "source": [
    "### Atomic Test #5 - Base64 decoding with shell utilities",
    "Use common shell utilities to decode a base64-encoded text string and echo it to the console\n",
    "**Supported Platforms:** linux, macos",
    "\nElevation Required (e.g. root or admin)",
    "#### Attack Commands: Run with `sh`\n",
    "```sh\nENCODED=$(echo 'Hello from Atomic Red Team test T1140!' | base64)\nprintf $ENCODED | base64 -d\necho $ENCODED | base64 -d\necho $(echo $ENCODED) | base64 -d\necho $ENCODED > /tmp/T1140.encoded && base64 -d /tmp/T1140.encoded\necho $ENCODED > /tmp/T1140.encoded && base64 -d < /tmp/T1140.encoded\necho $ENCODED > /tmp/T1140.encoded && cat /tmp/T1140.encoded | base64 -d\necho $ENCODED > /tmp/T1140.encoded && cat < /tmp/T1140.encoded | base64 -d\nbash -c \"{echo,\\\"$(echo $ENCODED)\\\"}|{base64,-d}\"\n```"
   ]
  },
  {
   "cell_type": "code",
   "execution_count": null,
   "id": "c2bf7ba2",
   "metadata": {},
   "outputs": [],
   "source": "Invoke-AtomicTest T1140 -TestNumbers 5"
  },
  {
   "cell_type": "markdown",
   "id": "ea3b836a",
   "metadata": {},
   "source": [
    "### Atomic Test #6 - Base64 decoding with shell utilities (freebsd)",
    "Use common shell utilities to decode a base64-encoded text string and echo it to the console\n",
    "**Supported Platforms:** linux",
    "\nElevation Required (e.g. root or admin)",
    "#### Attack Commands: Run with `sh`\n",
    "```sh\nENCODED=$(echo 'Hello from Atomic Red Team test T1140!' | b64encode -r -)\nprintf $ENCODED | b64decode -r\necho $ENCODED | b64decode -r\necho $(echo $ENCODED) | b64decode -r\necho $ENCODED > /tmp/T1140.encoded && b64encode -r /tmp/T1140.encoded\necho $ENCODED > /tmp/T1140.encoded && b64decode -r < /tmp/T1140.encoded\necho $ENCODED > /tmp/T1140.encoded && cat /tmp/T1140.encoded | b64decode -r\necho $ENCODED > /tmp/T1140.encoded && cat < /tmp/T1140.encoded | b64decode -r\n```"
   ]
  },
  {
   "cell_type": "code",
   "execution_count": null,
   "id": "9ca80b00",
   "metadata": {},
   "outputs": [],
   "source": "Invoke-AtomicTest T1140 -TestNumbers 6"
  },
  {
   "cell_type": "markdown",
   "id": "e393bb58",
   "metadata": {},
   "source": "### Atomic Test #7 - FreeBSD b64encode Shebang in CLI\nUsing b64decode shell scripts that have Shebang in them. This is commonly how attackers obfuscate passing and executing a shell script. Seen [here](https://www.trendmicro.com/pl_pl/research/20/i/the-evolution-of-malicious-shell-scripts.html) by TrendMicro, as well as [LinPEAS](https://github.com/carlospolop/PEASS-ng/tree/master/linPEAS). Also a there is a great Sigma rule [here](https://github.com/SigmaHQ/sigma/blob/master/rules/linux/process_creation/proc_creation_lnx_base64_shebang_cli.yml) for it. \n\n**Supported Platforms:** linux\n\nElevation Required (e.g. root or admin)\n#### Dependencies:  Run with `sh`!\n##### Description: b64decode must be present\n\n##### Check Prereq Commands:\n```sh\nwhich b64decode\n\n```\n##### Get Prereq Commands:\n```sh\necho \"please install b64decode\"\n\n```"
  },
  {
   "cell_type": "code",
   "execution_count": null,
   "id": "4a190d5f",
   "metadata": {},
   "outputs": [],
   "source": "Invoke-AtomicTest T1140 -TestNumbers 7 -GetPreReqs"
  },
  {
   "cell_type": "markdown",
   "id": "1a084c83",
   "metadata": {},
   "source": [
    "#### Attack Commands: Run with `sh`\n",
    "```sh\necho IyEvYmluL2Jhc2gKZWNobyAiaHR0cHM6Ly93d3cueW91dHViZS5jb20vQGF0b21pY3NvbmFmcmlkYXkgRlRXIgo= | b64decode -r | sh\necho IyEvYmluL2Rhc2gKZWNobyAiaHR0cHM6Ly93d3cueW91dHViZS5jb20vQGF0b21pY3NvbmFmcmlkYXkgRlRXIgo= | b64decode -r | sh\necho IyEvYmluL2Rhc2gKZWNobyAiaHR0cHM6Ly93d3cueW91dHViZS5jb20vQGF0b21pY3NvbmFmcmlkYXkgRlRXIgo= | b64decode -r | sh\necho IyEvYmluL3NoCmVjaG8gImh0dHBzOi8vd3d3LnlvdXR1YmUuY29tL0BhdG9taWNzb25hZnJpZGF5IEZUVyIK | b64decode -r | sh\n```"
   ]
  },
  {
   "cell_type": "code",
   "execution_count": null,
   "id": "38a9c789",
   "metadata": {},
   "outputs": [],
   "source": "Invoke-AtomicTest T1140 -TestNumbers 7"
  },
  {
   "cell_type": "markdown",
   "id": "c7a33356",
   "metadata": {},
   "source": "### Atomic Test #8 - Hex decoding with shell utilities\nUse common shell utilities to decode a hex-encoded text string and echo it to the console\n\n**Supported Platforms:** linux, macos\n\nElevation Required (e.g. root or admin)\n#### Dependencies:  Run with `sh`!\n##### Description: xxd must be present\n\n##### Check Prereq Commands:\n```sh\nwhich xxd\n\n```\n##### Get Prereq Commands:\n```sh\necho \"Please install xxd\"\n\n```"
  },
  {
   "cell_type": "code",
   "execution_count": null,
   "id": "6cbd84e7",
   "metadata": {},
   "outputs": [],
   "source": "Invoke-AtomicTest T1140 -TestNumbers 8 -GetPreReqs"
  },
  {
   "cell_type": "markdown",
   "id": "08745e54",
   "metadata": {},
   "source": [
    "#### Attack Commands: Run with `sh`\n",
    "```sh\nENCODED=$(echo 'Hello from Atomic Red Team test T1140!' | xxd -ps -c 256)\nprintf $ENCODED | xxd -r -p\necho $ENCODED | xxd -r -p\necho $(echo $ENCODED) | xxd -r -p\necho $ENCODED > /tmp/T1140.encoded && xxd -r -p /tmp/T1140.encoded\necho $ENCODED > /tmp/T1140.encoded && xxd -r -p < /tmp/T1140.encoded\necho $ENCODED > /tmp/T1140.encoded && cat /tmp/T1140.encoded | xxd -r -p\necho $ENCODED > /tmp/T1140.encoded && cat < /tmp/T1140.encoded | xxd -r -p\n```"
   ]
  },
  {
   "cell_type": "code",
   "execution_count": null,
   "id": "7e32a3af",
   "metadata": {},
   "outputs": [],
   "source": "Invoke-AtomicTest T1140 -TestNumbers 8"
  },
  {
   "cell_type": "markdown",
   "id": "ec18e23c",
   "metadata": {},
   "source": "### Atomic Test #9 - Linux Base64 Encoded Shebang in CLI\nUsing Linux Base64 Encoded shell scripts that have Shebang in them. This is commonly how attackers obfuscate passing and executing a shell script. Seen [here](https://www.trendmicro.com/pl_pl/research/20/i/the-evolution-of-malicious-shell-scripts.html) by TrendMicro, as well as [LinPEAS](https://github.com/carlospolop/PEASS-ng/tree/master/linPEAS). Also a there is a great Sigma rule [here](https://github.com/SigmaHQ/sigma/blob/master/rules/linux/process_creation/proc_creation_lnx_base64_shebang_cli.yml) for it. \n\n**Supported Platforms:** linux, macos\n\nElevation Required (e.g. root or admin)\n#### Dependencies:  Run with `sh`!\n##### Description: base64 must be present\n\n##### Check Prereq Commands:\n```sh\nwhich base64\n\n```\n##### Get Prereq Commands:\n```sh\necho \"please install base64\"\n\n```"
  },
  {
   "cell_type": "code",
   "execution_count": null,
   "id": "afcf5d94",
   "metadata": {},
   "outputs": [],
   "source": "Invoke-AtomicTest T1140 -TestNumbers 9 -GetPreReqs"
  },
  {
   "cell_type": "markdown",
   "id": "a6874a4c",
   "metadata": {},
   "source": [
    "#### Attack Commands: Run with `sh`\n",
    "```sh\necho IyEvYmluL2Jhc2gKZWNobyAiaHR0cHM6Ly93d3cueW91dHViZS5jb20vQGF0b21pY3NvbmFmcmlkYXkgRlRXIgo= | base64 -d | bash\necho IyEvYmluL2Rhc2gKZWNobyAiaHR0cHM6Ly93d3cueW91dHViZS5jb20vQGF0b21pY3NvbmFmcmlkYXkgRlRXIgo= | base64 -d | bash\necho IyEvYmluL2Rhc2gKZWNobyAiaHR0cHM6Ly93d3cueW91dHViZS5jb20vQGF0b21pY3NvbmFmcmlkYXkgRlRXIgo= | base64 -d | bash\necho IyEvYmluL3NoCmVjaG8gImh0dHBzOi8vd3d3LnlvdXR1YmUuY29tL0BhdG9taWNzb25hZnJpZGF5IEZUVyIK | base64 -d | bash\n```"
   ]
  },
  {
   "cell_type": "code",
   "execution_count": null,
   "id": "d417443d",
   "metadata": {},
   "outputs": [],
   "source": "Invoke-AtomicTest T1140 -TestNumbers 9"
  },
  {
   "cell_type": "markdown",
   "id": "b77c852c",
   "metadata": {},
   "source": "### Atomic Test #10 - XOR decoding and command execution using Python\nAn adversary can obfuscate malicious commands or payloads using XOR and execute them on the victim's machine. This test uses Python to decode and execute commands on the machine.\n**Supported Platforms:** linux, macos\n\nElevation Required (e.g. root or admin)\n#### Dependencies:  Run with `bash`!\n##### Description: Python3 must be installed\n##### Check Prereq Commands:\n```bash\nwhich python3\n```\n##### Get Prereq Commands:\n```bash\necho \"Install Python3\"\n```"
  },
  {
   "cell_type": "code",
   "execution_count": null,
   "id": "18620e1e",
   "metadata": {},
   "outputs": [],
   "source": "Invoke-AtomicTest T1140 -TestNumbers 10 -GetPreReqs"
  },
  {
   "cell_type": "markdown",
   "id": "caab9387",
   "metadata": {},
   "source": [
    "#### Attack Commands: Run with `bash`\n",
    "```bash\npython3 -c 'import base64; import subprocess; xor_decrypt = lambda text, key: \"\".join([chr(c ^ ord(k)) for c, k in zip(base64.b64decode(text.encode()), key)]); command = \"AAkqKQEM\"; key = \"waEHleblxiQjoxFJQaIMLdHKz\"; exec = xor_decrypt(command, key); subprocess.call(exec, shell=True)'```"
   ]
  },
  {
   "cell_type": "code",
   "execution_count": null,
   "id": "dc9f5aef",
   "metadata": {},
   "outputs": [],
   "source": "Invoke-AtomicTest T1140 -TestNumbers 10"
  },
  {
   "cell_type": "markdown",
   "id": "6ddabcee",
   "metadata": {},
   "source": "## Detection\nDetecting the action of deobfuscating or decoding files or information may be difficult depending on the implementation. If the functionality is contained within malware and uses the Windows API, then attempting to detect malicious behavior before or after the action may yield better results than attempting to perform analysis on loaded libraries or API calls. If scripts are used, then collecting the scripts for analysis may be necessary. Perform process and command-line monitoring to detect potentially malicious behavior related to scripts and system utilities such as [certutil](https://attack.mitre.org/software/S0160).\n\nMonitor the execution file paths and command-line arguments for common archive file applications and extensions, such as those for Zip and RAR archive tools, and correlate with other suspicious behavior to reduce false positives from normal user and administrator behavior."
  },
  {
   "cell_type": "markdown",
   "id": "b51f761e",
   "metadata": {},
   "source": "\n## Shield Active Defense\n### API Monitoring \n Monitor local APIs that might be used by adversary tools and activity. \n\n API Monitoring involves capturing an internal Operating System (OS) function for its usage, accompanying arguments, and result. When a defender captures this information, the intelligence gathered can be analyzed to gain insight into the activity of an adversary at a level deeper than normal system activity monitoring.\n#### Opportunity\nThere is an opportunity for the defender to observe the adversary and control what they can see, what effects they can have, and/or what data they can access.\n#### Use Case\nA defender can monitor and analyze operating system functions calls for detection and alerting.\n#### Procedures\nTrace activity through WinSock TCP API functions to view potentially  malicious network events. Log it such that it can be pushed to a centralized location and analyzed further.\nHook the Win32 DeleteFile() function to log all attempts at deleting a given file. This information can be used to trigger restoration attempts on critical data, reducing potential disruption if those files are unavailable for prolonged periods of time.\n"
  }
 ],
 "metadata": {
  "kernelspec": {
   "display_name": ".NET (PowerShell)",
   "language": "pwsh",
   "name": ".net-powershell"
  },
  "language_info": {
   "file_extension": ".ps1",
   "mimetype": "text/x-powershell",
   "name": "pwsh",
   "pygments_lexer": "powershell",
   "version": "7.0"
  }
 },
 "nbformat": 4,
 "nbformat_minor": 5
}