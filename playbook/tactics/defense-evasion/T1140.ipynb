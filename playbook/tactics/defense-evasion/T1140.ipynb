{
 "cells": [
  {
   "cell_type": "markdown",
   "id": "57d8d50b",
   "metadata": {},
   "source": "# T1140 - Deobfuscate/Decode Files or Information\nAdversaries may use [Obfuscated Files or Information](https://attack.mitre.org/techniques/T1027) to hide artifacts of an intrusion from analysis. They may require separate mechanisms to decode or deobfuscate that information depending on how they intend to use it. Methods for doing that include built-in functionality of malware or by using utilities present on the system.\n\nOne such example is use of [certutil](https://attack.mitre.org/software/S0160) to decode a remote access tool portable executable file that has been hidden inside a certificate file. (Citation: Malwarebytes Targeted Attack against Saudi Arabia) Another example is using the Windows <code>copy /b</code> command to reassemble binary fragments into a malicious payload. (Citation: Carbon Black Obfuscation Sept 2016)\n\nSometimes a user's action may be required to open it for deobfuscation or decryption as part of [User Execution](https://attack.mitre.org/techniques/T1204). The user may also be required to input a password to open a password protected compressed/encrypted file that was provided by the adversary. (Citation: Volexity PowerDuke November 2016)"
  },
  {
   "cell_type": "markdown",
   "id": "bd2a3b0d",
   "metadata": {},
   "source": "## Atomic Tests"
  },
  {
   "cell_type": "markdown",
   "id": "7f46d39c",
   "metadata": {},
   "source": [
    "### Atomic Test #1 - Deobfuscate/Decode Files Or Information",
    "Encode/Decode executable\nUpon execution a file named T1140_calc_decoded.exe will be placed in the temp folder\n",
    "**Supported Platforms:** windows",
    "#### Attack Commands: Run with `command_prompt`\n",
    "```command_prompt\ncertutil -encode C:\\Windows\\System32\\calc.exe %temp%\\T1140_calc.txt\ncertutil -decode %temp%\\T1140_calc.txt %temp%\\T1140_calc_decoded.exe\n```"
   ]
  },
  {
   "cell_type": "code",
   "execution_count": null,
   "id": "5702d3bf",
   "metadata": {},
   "outputs": [],
   "source": "Invoke-AtomicTest T1140 -TestNumbers 1"
  },
  {
   "cell_type": "markdown",
   "id": "bed477b8",
   "metadata": {},
   "source": "#### Cleanup: \n```cmd\ndel %temp%\\T1140_calc.txt >nul 2>&1\ndel %temp%\\T1140_calc_decoded.exe >nul 2>&1\n```"
  },
  {
   "cell_type": "code",
   "execution_count": null,
   "id": "e1852c8e",
   "metadata": {},
   "outputs": [],
   "source": "Invoke-AtomicTest T1140 -TestNumbers 1 -Cleanup"
  },
  {
   "cell_type": "markdown",
   "id": "0e22b507",
   "metadata": {},
   "source": [
    "### Atomic Test #2 - Certutil Rename and Decode",
    "Rename certutil and decode a file. This is in reference to latest research by FireEye [here](https://www.fireeye.com/blog/threat-research/2018/09/apt10-targeting-japanese-corporations-using-updated-ttps.html)\n",
    "**Supported Platforms:** windows",
    "#### Attack Commands: Run with `command_prompt`\n",
    "```command_prompt\ncopy %windir%\\system32\\certutil.exe %temp%\\tcm.tmp\n%temp%\\tcm.tmp -encode C:\\Windows\\System32\\calc.exe %temp%\\T1140_calc2.txt\n%temp%\\tcm.tmp -decode %temp%\\T1140_calc2.txt %temp%\\T1140_calc2_decoded.exe\n```"
   ]
  },
  {
   "cell_type": "code",
   "execution_count": null,
   "id": "6a43ca59",
   "metadata": {},
   "outputs": [],
   "source": "Invoke-AtomicTest T1140 -TestNumbers 2"
  },
  {
   "cell_type": "markdown",
   "id": "4d27b30d",
   "metadata": {},
   "source": "#### Cleanup: \n```cmd\ndel %temp%\\tcm.tmp >nul 2>&1\ndel %temp%\\T1140_calc2.txt >nul 2>&1\ndel %temp%\\T1140_calc2_decoded.exe >nul 2>&1\n```"
  },
  {
   "cell_type": "code",
   "execution_count": null,
   "id": "b991a69a",
   "metadata": {},
   "outputs": [],
   "source": "Invoke-AtomicTest T1140 -TestNumbers 2 -Cleanup"
  },
  {
   "cell_type": "markdown",
   "id": "bca90bb2",
   "metadata": {},
   "source": "### Atomic Test #3 - Base64 decoding with Python\nUse Python to decode a base64-encoded text string and echo it to the console\n\n**Supported Platforms:** linux, macos\n\nElevation Required (e.g. root or admin)\n#### Dependencies:  Run with `sh`!\n##### Description: Python must be present\n\n##### Check Prereq Commands:\n```sh\nwhich python3\n\n```\n##### Get Prereq Commands:\n```sh\necho \"Please install Python 3\"\n\n```"
  },
  {
   "cell_type": "code",
   "execution_count": null,
   "id": "b07219bf",
   "metadata": {},
   "outputs": [],
   "source": "Invoke-AtomicTest T1140 -TestNumbers 3 -GetPreReqs"
  },
  {
   "cell_type": "markdown",
   "id": "df5bd2b0",
   "metadata": {},
   "source": [
    "#### Attack Commands: Run with `sh`\n",
    "```sh\nENCODED=$(python3 -c 'import base64;enc=base64.b64encode(\"Hello from Atomic Red Team test T1140!\".encode());print(enc.decode())')\npython3 -c \"import base64;dec=base64.b64decode(\\\"$ENCODED\\\");print(dec.decode())\"\npython3 -c \"import base64 as d;dec=d.b64decode(\\\"$ENCODED\\\");print(dec.decode())\"\npython3 -c \"from base64 import b64decode;dec=b64decode(\\\"$ENCODED\\\");print(dec.decode())\"\npython3 -c \"from base64 import b64decode as d;dec=d(\\\"$ENCODED\\\");print(dec.decode())\"\necho $ENCODED | python3 -c \"import base64,sys;dec=base64.b64decode(sys.stdin.read());print(dec.decode())\"\necho $ENCODED > /tmp/T1140.encoded && python3 -c \"import base64;dec=base64.b64decode(open('/tmp/T1140.encoded').read());print(dec.decode())\"\n```"
   ]
  },
  {
   "cell_type": "code",
   "execution_count": null,
   "id": "61709e3c",
   "metadata": {},
   "outputs": [],
   "source": "Invoke-AtomicTest T1140 -TestNumbers 3"
  },
  {
   "cell_type": "markdown",
   "id": "30c64b8a",
   "metadata": {},
   "source": "### Atomic Test #4 - Base64 decoding with Perl\nUse Perl to decode a base64-encoded text string and echo it to the console\n\n**Supported Platforms:** linux, macos\n\nElevation Required (e.g. root or admin)\n#### Dependencies:  Run with `sh`!\n##### Description: Perl must be present\n\n##### Check Prereq Commands:\n```sh\nwhich perl\n\n```\n##### Get Prereq Commands:\n```sh\necho \"Please install Perl\"\n\n```"
  },
  {
   "cell_type": "code",
   "execution_count": null,
   "id": "a6e5e37b",
   "metadata": {},
   "outputs": [],
   "source": "Invoke-AtomicTest T1140 -TestNumbers 4 -GetPreReqs"
  },
  {
   "cell_type": "markdown",
   "id": "1f9b2e41",
   "metadata": {},
   "source": [
    "#### Attack Commands: Run with `sh`\n",
    "```sh\nENCODED=$(perl -e \"use MIME::Base64;print(encode_base64('Hello from Atomic Red Team test T1140!'));\")\nperl -le \"use MIME::Base64;print(decode_base64('$ENCODED'));\"\necho $ENCODED | perl -le 'use MIME::Base64;print(decode_base64(<STDIN>));'\necho $ENCODED > /tmp/T1140.encoded && perl -le 'use MIME::Base64;open($f,\"<\",\"/tmp/T1140.encoded\");print(decode_base64(<$f>));'\n```"
   ]
  },
  {
   "cell_type": "code",
   "execution_count": null,
   "id": "75a2e4c6",
   "metadata": {},
   "outputs": [],
   "source": "Invoke-AtomicTest T1140 -TestNumbers 4"
  },
  {
   "cell_type": "markdown",
   "id": "e69cb21c",
   "metadata": {},
   "source": [
    "### Atomic Test #5 - Base64 decoding with shell utilities",
    "Use common shell utilities to decode a base64-encoded text string and echo it to the console\n",
    "**Supported Platforms:** linux, macos",
    "\nElevation Required (e.g. root or admin)",
    "#### Attack Commands: Run with `sh`\n",
    "```sh\nENCODED=$(echo 'Hello from Atomic Red Team test T1140!' | base64)\nprintf $ENCODED | base64 -d\necho $ENCODED | base64 -d\necho $(echo $ENCODED) | base64 -d\necho $ENCODED > /tmp/T1140.encoded && base64 -d /tmp/T1140.encoded\necho $ENCODED > /tmp/T1140.encoded && base64 -d < /tmp/T1140.encoded\necho $ENCODED > /tmp/T1140.encoded && cat /tmp/T1140.encoded | base64 -d\necho $ENCODED > /tmp/T1140.encoded && cat < /tmp/T1140.encoded | base64 -d\nbash -c \"{echo,\\\"$(echo $ENCODED)\\\"}|{base64,-d}\"\n```"
   ]
  },
  {
   "cell_type": "code",
   "execution_count": null,
   "id": "abfc246e",
   "metadata": {},
   "outputs": [],
   "source": "Invoke-AtomicTest T1140 -TestNumbers 5"
  },
  {
   "cell_type": "markdown",
   "id": "0e7c5808",
   "metadata": {},
   "source": "### Atomic Test #6 - Hex decoding with shell utilities\nUse common shell utilities to decode a hex-encoded text string and echo it to the console\n\n**Supported Platforms:** linux, macos\n\nElevation Required (e.g. root or admin)\n#### Dependencies:  Run with `sh`!\n##### Description: xxd must be present\n\n##### Check Prereq Commands:\n```sh\nwhich xxd\n\n```\n##### Get Prereq Commands:\n```sh\necho \"Please install xxd\"\n\n```"
  },
  {
   "cell_type": "code",
   "execution_count": null,
   "id": "9900c252",
   "metadata": {},
   "outputs": [],
   "source": "Invoke-AtomicTest T1140 -TestNumbers 6 -GetPreReqs"
  },
  {
   "cell_type": "markdown",
   "id": "27d4f01f",
   "metadata": {},
   "source": [
    "#### Attack Commands: Run with `sh`\n",
    "```sh\nENCODED=$(echo 'Hello from Atomic Red Team test T1140!' | xxd -ps -c 256)\nprintf $ENCODED | xxd -r -p\necho $ENCODED | xxd -r -p\necho $(echo $ENCODED) | xxd -r -p\necho $ENCODED > /tmp/T1140.encoded && xxd -r -p /tmp/T1140.encoded\necho $ENCODED > /tmp/T1140.encoded && xxd -r -p < /tmp/T1140.encoded\necho $ENCODED > /tmp/T1140.encoded && cat /tmp/T1140.encoded | xxd -r -p\necho $ENCODED > /tmp/T1140.encoded && cat < /tmp/T1140.encoded | xxd -r -p\n```"
   ]
  },
  {
   "cell_type": "code",
   "execution_count": null,
   "id": "58a6da47",
   "metadata": {},
   "outputs": [],
   "source": "Invoke-AtomicTest T1140 -TestNumbers 6"
  },
  {
   "cell_type": "markdown",
   "id": "836b5864",
   "metadata": {},
   "source": "## Detection\nDetecting the action of deobfuscating or decoding files or information may be difficult depending on the implementation. If the functionality is contained within malware and uses the Windows API, then attempting to detect malicious behavior before or after the action may yield better results than attempting to perform analysis on loaded libraries or API calls. If scripts are used, then collecting the scripts for analysis may be necessary. Perform process and command-line monitoring to detect potentially malicious behavior related to scripts and system utilities such as [certutil](https://attack.mitre.org/software/S0160).\n\nMonitor the execution file paths and command-line arguments for common archive file applications and extensions, such as those for Zip and RAR archive tools, and correlate with other suspicious behavior to reduce false positives from normal user and administrator behavior."
  },
  {
   "cell_type": "markdown",
   "id": "f0584e5f",
   "metadata": {},
   "source": "\n## Shield Active Defense\n### API Monitoring \n Monitor local APIs that might be used by adversary tools and activity. \n\n API Monitoring involves capturing an internal Operating System (OS) function for its usage, accompanying arguments, and result. When a defender captures this information, the intelligence gathered can be analyzed to gain insight into the activity of an adversary at a level deeper than normal system activity monitoring.\n#### Opportunity\nThere is an opportunity for the defender to observe the adversary and control what they can see, what effects they can have, and/or what data they can access.\n#### Use Case\nA defender can monitor and analyze operating system functions calls for detection and alerting.\n#### Procedures\nTrace activity through WinSock TCP API functions to view potentially  malicious network events. Log it such that it can be pushed to a centralized location and analyzed further.\nHook the Win32 DeleteFile() function to log all attempts at deleting a given file. This information can be used to trigger restoration attempts on critical data, reducing potential disruption if those files are unavailable for prolonged periods of time.\n"
  }
 ],
 "metadata": {
  "kernelspec": {
   "display_name": ".NET (PowerShell)",
   "language": "PowerShell",
   "name": ".net-powershell"
  },
  "language_info": {
   "file_extension": ".ps1",
   "mimetype": "text/x-powershell",
   "name": "PowerShell",
   "pygments_lexer": "powershell",
   "version": "7.0"
  }
 },
 "nbformat": 4,
 "nbformat_minor": 5
}