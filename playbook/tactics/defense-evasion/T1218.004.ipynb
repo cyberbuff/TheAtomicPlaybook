{
 "cells": [
  {
   "cell_type": "markdown",
   "id": "6ae758e0",
   "metadata": {},
   "source": "# T1218.004 - InstallUtil\nAdversaries may use InstallUtil to proxy execution of code through a trusted Windows utility. InstallUtil is a command-line utility that allows for installation and uninstallation of resources by executing specific installer components specified in .NET binaries. (Citation: MSDN InstallUtil) The InstallUtil binary may also be digitally signed by Microsoft and located in the .NET directories on a Windows system: <code>C:\\Windows\\Microsoft.NET\\Framework\\v<version>\\InstallUtil.exe</code> and <code>C:\\Windows\\Microsoft.NET\\Framework64\\v<version>\\InstallUtil.exe</code>.\n\nInstallUtil may also be used to bypass application control through use of attributes within the binary that execute the class decorated with the attribute <code>[System.ComponentModel.RunInstaller(true)]</code>. (Citation: LOLBAS Installutil)"
  },
  {
   "cell_type": "markdown",
   "id": "2ddaf8fa",
   "metadata": {},
   "source": "## Atomic Tests"
  },
  {
   "cell_type": "markdown",
   "id": "04161097",
   "metadata": {},
   "source": "### Atomic Test #1 - CheckIfInstallable method call\nExecutes the CheckIfInstallable class constructor runner instead of executing InstallUtil. Upon execution, the InstallUtil test harness will be executed.\nIf no output is displayed the test executed successfuly.\n\n**Supported Platforms:** windows\n#### Dependencies:  Run with `powershell`!\n##### Description: InstallUtil test harness script must be installed at specified location (#{test_harness})\n\n##### Check Prereq Commands:\n```powershell\nif (Test-Path \"PathToAtomicsFolder\\T1218.004\\src\\InstallUtilTestHarness.ps1\") {exit 0} else {exit 1}\n\n```\n##### Get Prereq Commands:\n```powershell\nNew-Item -Type Directory (split-path \"PathToAtomicsFolder\\T1218.004\\src\\InstallUtilTestHarness.ps1\") -ErrorAction ignore | Out-Null\nInvoke-WebRequest 'https://github.com/redcanaryco/atomic-red-team/raw/master/atomics/T1218.004/src/InstallUtilTestHarness.ps1' -OutFile \"PathToAtomicsFolder\\T1218.004\\src\\InstallUtilTestHarness.ps1\"\n\n```"
  },
  {
   "cell_type": "code",
   "execution_count": null,
   "id": "d18f4645",
   "metadata": {},
   "outputs": [],
   "source": "Invoke-AtomicTest T1218.004 -TestNumbers 1 -GetPreReqs"
  },
  {
   "cell_type": "markdown",
   "id": "427078da",
   "metadata": {},
   "source": [
    "#### Attack Commands: Run with `powershell`\n",
    "```powershell\n# Import the required test harness function, Invoke-BuildAndInvokeInstallUtilAssembly\n. \"PathToAtomicsFolder\\T1218.004\\src\\InstallUtilTestHarness.ps1\"\n\n$InstallerAssemblyDir = \"$Env:TEMP\\\"\n$InstallerAssemblyFileName = \"T1218.004.dll\"\n$InstallerAssemblyFullPath = Join-Path -Path $InstallerAssemblyDir -ChildPath $InstallerAssemblyFileName\n\n$ExpectedOutput = 'Constructor_'\n\n$TestArgs = @{\n    OutputAssemblyDirectory = $InstallerAssemblyDir\n    OutputAssemblyFileName = $InstallerAssemblyFileName\n    InvocationMethod = 'CheckIfInstallable'\n}\n\n$ActualOutput = Invoke-BuildAndInvokeInstallUtilAssembly @TestArgs -MinimumViableAssembly\n\nif ($ActualOutput -ne $ExpectedOutput) {\n    throw @\"\nCheckIfInstallable method execution test failure. Installer assembly execution output did not match the expected output.\nExpected: $ExpectedOutput\nActual: $ActualOutput\n\"@\n}\n```"
   ]
  },
  {
   "cell_type": "code",
   "execution_count": null,
   "id": "ecae4bd5",
   "metadata": {},
   "outputs": [],
   "source": "Invoke-AtomicTest T1218.004 -TestNumbers 1"
  },
  {
   "cell_type": "markdown",
   "id": "4d1ee27a",
   "metadata": {},
   "source": "#### Cleanup: \n```powershell\n$InstallerAssemblyDir = \"$Env:TEMP\\\"\n$InstallerAssemblyFileName = \"T1218.004.dll\"\n$InstallerAssemblyFullPath = Join-Path -Path $InstallerAssemblyDir -ChildPath $InstallerAssemblyFileName\nRemove-Item -Path $InstallerAssemblyFullPath -ErrorAction Ignore\n```"
  },
  {
   "cell_type": "code",
   "execution_count": null,
   "id": "120454ed",
   "metadata": {},
   "outputs": [],
   "source": "Invoke-AtomicTest T1218.004 -TestNumbers 1 -Cleanup"
  },
  {
   "cell_type": "markdown",
   "id": "31cd005e",
   "metadata": {},
   "source": "### Atomic Test #2 - InstallHelper method call\nExecutes the InstallHelper class constructor runner instead of executing InstallUtil. Upon execution, no output will be displayed if the test\nexecuted successfuly.\n\n**Supported Platforms:** windows\n#### Dependencies:  Run with `powershell`!\n##### Description: InstallUtil test harness script must be installed at specified location (#{test_harness})\n\n##### Check Prereq Commands:\n```powershell\nif (Test-Path \"PathToAtomicsFolder\\T1218.004\\src\\InstallUtilTestHarness.ps1\") {exit 0} else {exit 1}\n\n```\n##### Get Prereq Commands:\n```powershell\nNew-Item -Type Directory (split-path \"PathToAtomicsFolder\\T1218.004\\src\\InstallUtilTestHarness.ps1\") -ErrorAction ignore | Out-Null\nInvoke-WebRequest 'https://github.com/redcanaryco/atomic-red-team/raw/master/atomics/T1218.004/src/InstallUtilTestHarness.ps1' -OutFile \"PathToAtomicsFolder\\T1218.004\\src\\InstallUtilTestHarness.ps1\"\n\n```"
  },
  {
   "cell_type": "code",
   "execution_count": null,
   "id": "f4b4bbbb",
   "metadata": {},
   "outputs": [],
   "source": "Invoke-AtomicTest T1218.004 -TestNumbers 2 -GetPreReqs"
  },
  {
   "cell_type": "markdown",
   "id": "34819a2c",
   "metadata": {},
   "source": [
    "#### Attack Commands: Run with `powershell`\n",
    "```powershell\n# Import the required test harness function, Invoke-BuildAndInvokeInstallUtilAssembly\n. \"PathToAtomicsFolder\\T1218.004\\src\\InstallUtilTestHarness.ps1\"\n\n$InstallerAssemblyDir = \"$Env:TEMP\\\"\n$InstallerAssemblyFileName = \"T1218.004.dll\"\n$InstallerAssemblyFullPath = Join-Path -Path $InstallerAssemblyDir -ChildPath $InstallerAssemblyFileName\n\n$CommandLine = \"/logfile= /logtoconsole=false `\"$InstallerAssemblyFullPath`\"\"\n$ExpectedOutput = 'Constructor_'\n\n$TestArgs = @{\n    OutputAssemblyDirectory = $InstallerAssemblyDir\n    OutputAssemblyFileName = $InstallerAssemblyFileName\n    InvocationMethod = 'InstallHelper'\n    CommandLine = $CommandLine\n}\n\n$ActualOutput = Invoke-BuildAndInvokeInstallUtilAssembly @TestArgs -MinimumViableAssembly\n\nif ($ActualOutput -ne $ExpectedOutput) {\n    throw @\"\nInstallHelper method execution test failure. Installer assembly execution output did not match the expected output.\nExpected: $ExpectedOutput\nActual: $ActualOutput\n\"@\n}\n```"
   ]
  },
  {
   "cell_type": "code",
   "execution_count": null,
   "id": "bc592029",
   "metadata": {},
   "outputs": [],
   "source": "Invoke-AtomicTest T1218.004 -TestNumbers 2"
  },
  {
   "cell_type": "markdown",
   "id": "893bfc2d",
   "metadata": {},
   "source": "#### Cleanup: \n```powershell\n$InstallerAssemblyDir = \"$Env:TEMP\\\"\n$InstallerAssemblyFileName = \"T1218.004.dll\"\n$InstallerAssemblyFullPath = Join-Path -Path $InstallerAssemblyDir -ChildPath $InstallerAssemblyFileName\nRemove-Item -Path $InstallerAssemblyFullPath -ErrorAction Ignore\n```"
  },
  {
   "cell_type": "code",
   "execution_count": null,
   "id": "609db4e5",
   "metadata": {},
   "outputs": [],
   "source": "Invoke-AtomicTest T1218.004 -TestNumbers 2 -Cleanup"
  },
  {
   "cell_type": "markdown",
   "id": "80c1f41f",
   "metadata": {},
   "source": "### Atomic Test #3 - InstallUtil class constructor method call\nExecutes the installer assembly class constructor. Upon execution, version information will be displayed the .NET framework install utility.\n\n**Supported Platforms:** windows\n#### Dependencies:  Run with `powershell`!\n##### Description: InstallUtil test harness script must be installed at specified location (#{test_harness})\n\n##### Check Prereq Commands:\n```powershell\nif (Test-Path \"PathToAtomicsFolder\\T1218.004\\src\\InstallUtilTestHarness.ps1\") {exit 0} else {exit 1}\n\n```\n##### Get Prereq Commands:\n```powershell\nNew-Item -Type Directory (split-path \"PathToAtomicsFolder\\T1218.004\\src\\InstallUtilTestHarness.ps1\") -ErrorAction ignore | Out-Null\nInvoke-WebRequest 'https://github.com/redcanaryco/atomic-red-team/raw/master/atomics/T1218.004/src/InstallUtilTestHarness.ps1' -OutFile \"PathToAtomicsFolder\\T1218.004\\src\\InstallUtilTestHarness.ps1\"\n\n```"
  },
  {
   "cell_type": "code",
   "execution_count": null,
   "id": "2916b23c",
   "metadata": {},
   "outputs": [],
   "source": "Invoke-AtomicTest T1218.004 -TestNumbers 3 -GetPreReqs"
  },
  {
   "cell_type": "markdown",
   "id": "4ade413f",
   "metadata": {},
   "source": [
    "#### Attack Commands: Run with `powershell`\n",
    "```powershell\n# Import the required test harness function, Invoke-BuildAndInvokeInstallUtilAssembly\n. \"PathToAtomicsFolder\\T1218.004\\src\\InstallUtilTestHarness.ps1\"\n\n$InstallerAssemblyDir = \"$Env:TEMP\\\"\n$InstallerAssemblyFileName = \"T1218.004.dll\"\n$InstallerAssemblyFullPath = Join-Path -Path $InstallerAssemblyDir -ChildPath $InstallerAssemblyFileName\n\n$CommandLine = \"/logfile= /logtoconsole=false `\"$InstallerAssemblyFullPath`\"\"\n$ExpectedOutput = 'Constructor_'\n\n$TestArgs = @{\n    OutputAssemblyDirectory = $InstallerAssemblyDir\n    OutputAssemblyFileName = $InstallerAssemblyFileName\n    InvocationMethod = 'Executable'\n    CommandLine = $CommandLine\n}\n\n$ActualOutput = Invoke-BuildAndInvokeInstallUtilAssembly @TestArgs -MinimumViableAssembly\n\nif ($ActualOutput -ne $ExpectedOutput) {\n    throw @\"\nInstallUtil class constructor execution test failure. Installer assembly execution output did not match the expected output.\nExpected: $ExpectedOutput\nActual: $ActualOutput\n\"@\n}\n```"
   ]
  },
  {
   "cell_type": "code",
   "execution_count": null,
   "id": "76bbd6b8",
   "metadata": {},
   "outputs": [],
   "source": "Invoke-AtomicTest T1218.004 -TestNumbers 3"
  },
  {
   "cell_type": "markdown",
   "id": "cedc9cb2",
   "metadata": {},
   "source": "#### Cleanup: \n```powershell\n$InstallerAssemblyDir = \"$Env:TEMP\\\"\n$InstallerAssemblyFileName = \"T1218.004.dll\"\n$InstallerAssemblyFullPath = Join-Path -Path $InstallerAssemblyDir -ChildPath $InstallerAssemblyFileName\nRemove-Item -Path $InstallerAssemblyFullPath -ErrorAction Ignore\n```"
  },
  {
   "cell_type": "code",
   "execution_count": null,
   "id": "2c552d7d",
   "metadata": {},
   "outputs": [],
   "source": "Invoke-AtomicTest T1218.004 -TestNumbers 3 -Cleanup"
  },
  {
   "cell_type": "markdown",
   "id": "3517531d",
   "metadata": {},
   "source": "### Atomic Test #4 - InstallUtil Install method call\nExecutes the Install Method. Upon execution, version information will be displayed the .NET framework install utility.\n\n**Supported Platforms:** windows\n#### Dependencies:  Run with `powershell`!\n##### Description: InstallUtil test harness script must be installed at specified location (#{test_harness})\n\n##### Check Prereq Commands:\n```powershell\nif (Test-Path \"PathToAtomicsFolder\\T1218.004\\src\\InstallUtilTestHarness.ps1\") {exit 0} else {exit 1}\n\n```\n##### Get Prereq Commands:\n```powershell\nNew-Item -Type Directory (split-path \"PathToAtomicsFolder\\T1218.004\\src\\InstallUtilTestHarness.ps1\") -ErrorAction ignore | Out-Null\nInvoke-WebRequest 'https://github.com/redcanaryco/atomic-red-team/raw/master/atomics/T1218.004/src/InstallUtilTestHarness.ps1' -OutFile \"PathToAtomicsFolder\\T1218.004\\src\\InstallUtilTestHarness.ps1\"\n\n```"
  },
  {
   "cell_type": "code",
   "execution_count": null,
   "id": "cef746b5",
   "metadata": {},
   "outputs": [],
   "source": "Invoke-AtomicTest T1218.004 -TestNumbers 4 -GetPreReqs"
  },
  {
   "cell_type": "markdown",
   "id": "053f5215",
   "metadata": {},
   "source": [
    "#### Attack Commands: Run with `powershell`\n",
    "```powershell\n# Import the required test harness function, Invoke-BuildAndInvokeInstallUtilAssembly\n. \"PathToAtomicsFolder\\T1218.004\\src\\InstallUtilTestHarness.ps1\"\n\n$InstallerAssemblyDir = \"$Env:TEMP\\\"\n$InstallerAssemblyFileName = \"T1218.004.dll\"\n$InstallerAssemblyFullPath = Join-Path -Path $InstallerAssemblyDir -ChildPath $InstallerAssemblyFileName\n\n$CommandLine = \"/logfile= /logtoconsole=false /installtype=notransaction /action=install `\"$InstallerAssemblyFullPath`\"\"\n$ExpectedOutput = 'Constructor_Install_'\n\n$TestArgs = @{\n    OutputAssemblyDirectory = $InstallerAssemblyDir\n    OutputAssemblyFileName = $InstallerAssemblyFileName\n    InvocationMethod = 'Executable'\n    CommandLine = $CommandLine\n}\n\n$ActualOutput = Invoke-BuildAndInvokeInstallUtilAssembly @TestArgs\n\nif ($ActualOutput -ne $ExpectedOutput) {\n    throw @\"\nInstallUtil Install method execution test failure. Installer assembly execution output did not match the expected output.\nExpected: $ExpectedOutput\nActual: $ActualOutput\n\"@\n}\n```"
   ]
  },
  {
   "cell_type": "code",
   "execution_count": null,
   "id": "c01031c6",
   "metadata": {},
   "outputs": [],
   "source": "Invoke-AtomicTest T1218.004 -TestNumbers 4"
  },
  {
   "cell_type": "markdown",
   "id": "e60e1460",
   "metadata": {},
   "source": "#### Cleanup: \n```powershell\n$InstallerAssemblyDir = \"$Env:TEMP\\\"\n$InstallerAssemblyFileName = \"T1218.004.dll\"\n$InstallerAssemblyFullPath = Join-Path -Path $InstallerAssemblyDir -ChildPath $InstallerAssemblyFileName\nRemove-Item -Path $InstallerAssemblyFullPath -ErrorAction Ignore\n```"
  },
  {
   "cell_type": "code",
   "execution_count": null,
   "id": "1a143746",
   "metadata": {},
   "outputs": [],
   "source": "Invoke-AtomicTest T1218.004 -TestNumbers 4 -Cleanup"
  },
  {
   "cell_type": "markdown",
   "id": "3428623a",
   "metadata": {},
   "source": "### Atomic Test #5 - InstallUtil Uninstall method call - /U variant\nExecutes the Uninstall Method. Upon execution, version information will be displayed the .NET framework install utility.\n\n**Supported Platforms:** windows\n#### Dependencies:  Run with `powershell`!\n##### Description: InstallUtil test harness script must be installed at specified location (#{test_harness})\n\n##### Check Prereq Commands:\n```powershell\nif (Test-Path \"PathToAtomicsFolder\\T1218.004\\src\\InstallUtilTestHarness.ps1\") {exit 0} else {exit 1}\n\n```\n##### Get Prereq Commands:\n```powershell\nNew-Item -Type Directory (split-path \"PathToAtomicsFolder\\T1218.004\\src\\InstallUtilTestHarness.ps1\") -ErrorAction ignore | Out-Null\nInvoke-WebRequest 'https://github.com/redcanaryco/atomic-red-team/raw/master/atomics/T1218.004/src/InstallUtilTestHarness.ps1' -OutFile \"PathToAtomicsFolder\\T1218.004\\src\\InstallUtilTestHarness.ps1\"\n\n```"
  },
  {
   "cell_type": "code",
   "execution_count": null,
   "id": "e11dd850",
   "metadata": {},
   "outputs": [],
   "source": "Invoke-AtomicTest T1218.004 -TestNumbers 5 -GetPreReqs"
  },
  {
   "cell_type": "markdown",
   "id": "0beb3b6b",
   "metadata": {},
   "source": [
    "#### Attack Commands: Run with `powershell`\n",
    "```powershell\n# Import the required test harness function, Invoke-BuildAndInvokeInstallUtilAssembly\n. \"PathToAtomicsFolder\\T1218.004\\src\\InstallUtilTestHarness.ps1\"\n\n$InstallerAssemblyDir = \"$Env:TEMP\\\"\n$InstallerAssemblyFileName = \"T1218.004.dll\"\n$InstallerAssemblyFullPath = Join-Path -Path $InstallerAssemblyDir -ChildPath $InstallerAssemblyFileName\n\n$CommandLine = \"/logfile= /logtoconsole=false /U `\"$InstallerAssemblyFullPath`\"\"\n$ExpectedOutput = 'Constructor_Uninstall_'\n\n$TestArgs = @{\n    OutputAssemblyDirectory = $InstallerAssemblyDir\n    OutputAssemblyFileName = $InstallerAssemblyFileName\n    InvocationMethod = 'Executable'\n    CommandLine = $CommandLine\n}\n\n$ActualOutput = Invoke-BuildAndInvokeInstallUtilAssembly @TestArgs\n\nif ($ActualOutput -ne $ExpectedOutput) {\n    throw @\"\nInstallUtil Uninstall method execution test failure. Installer assembly execution output did not match the expected output.\nExpected: $ExpectedOutput\nActual: $ActualOutput\n\"@\n}\n```"
   ]
  },
  {
   "cell_type": "code",
   "execution_count": null,
   "id": "79af6bed",
   "metadata": {},
   "outputs": [],
   "source": "Invoke-AtomicTest T1218.004 -TestNumbers 5"
  },
  {
   "cell_type": "markdown",
   "id": "8660deff",
   "metadata": {},
   "source": "#### Cleanup: \n```powershell\n$InstallerAssemblyDir = \"$Env:TEMP\\\"\n$InstallerAssemblyFileName = \"T1218.004.dll\"\n$InstallerAssemblyFullPath = Join-Path -Path $InstallerAssemblyDir -ChildPath $InstallerAssemblyFileName\nRemove-Item -Path $InstallerAssemblyFullPath -ErrorAction Ignore\n```"
  },
  {
   "cell_type": "code",
   "execution_count": null,
   "id": "319da2ba",
   "metadata": {},
   "outputs": [],
   "source": "Invoke-AtomicTest T1218.004 -TestNumbers 5 -Cleanup"
  },
  {
   "cell_type": "markdown",
   "id": "25fe161b",
   "metadata": {},
   "source": "### Atomic Test #6 - InstallUtil Uninstall method call - '/installtype=notransaction /action=uninstall' variant\nExecutes the Uninstall Method. Upon execution, version information will be displayed the .NET framework install utility.\n\n**Supported Platforms:** windows\n#### Dependencies:  Run with `powershell`!\n##### Description: InstallUtil test harness script must be installed at specified location (#{test_harness})\n\n##### Check Prereq Commands:\n```powershell\nif (Test-Path \"PathToAtomicsFolder\\T1218.004\\src\\InstallUtilTestHarness.ps1\") {exit 0} else {exit 1}\n\n```\n##### Get Prereq Commands:\n```powershell\nNew-Item -Type Directory (split-path \"PathToAtomicsFolder\\T1218.004\\src\\InstallUtilTestHarness.ps1\") -ErrorAction ignore | Out-Null\nInvoke-WebRequest 'https://github.com/redcanaryco/atomic-red-team/raw/master/atomics/T1218.004/src/InstallUtilTestHarness.ps1' -OutFile \"PathToAtomicsFolder\\T1218.004\\src\\InstallUtilTestHarness.ps1\"\n\n```"
  },
  {
   "cell_type": "code",
   "execution_count": null,
   "id": "efc50d4b",
   "metadata": {},
   "outputs": [],
   "source": "Invoke-AtomicTest T1218.004 -TestNumbers 6 -GetPreReqs"
  },
  {
   "cell_type": "markdown",
   "id": "ec1a9730",
   "metadata": {},
   "source": [
    "#### Attack Commands: Run with `powershell`\n",
    "```powershell\n# Import the required test harness function, Invoke-BuildAndInvokeInstallUtilAssembly\n. \"PathToAtomicsFolder\\T1218.004\\src\\InstallUtilTestHarness.ps1\"\n\n$InstallerAssemblyDir = \"$Env:TEMP\\\"\n$InstallerAssemblyFileName = \"T1218.004.dll\"\n$InstallerAssemblyFullPath = Join-Path -Path $InstallerAssemblyDir -ChildPath $InstallerAssemblyFileName\n\n$CommandLine = \"/logfile= /logtoconsole=false /installtype=notransaction /action=uninstall `\"$InstallerAssemblyFullPath`\"\"\n$ExpectedOutput = 'Constructor_Uninstall_'\n\n$TestArgs = @{\n    OutputAssemblyDirectory = $InstallerAssemblyDir\n    OutputAssemblyFileName = $InstallerAssemblyFileName\n    InvocationMethod = 'Executable'\n    CommandLine = $CommandLine\n}\n\n$ActualOutput = Invoke-BuildAndInvokeInstallUtilAssembly @TestArgs\n\nif ($ActualOutput -ne $ExpectedOutput) {\n    throw @\"\nInstallUtil Uninstall method execution test failure. Installer assembly execution output did not match the expected output.\nExpected: $ExpectedOutput\nActual: $ActualOutput\n\"@\n}\n```"
   ]
  },
  {
   "cell_type": "code",
   "execution_count": null,
   "id": "87bae16f",
   "metadata": {},
   "outputs": [],
   "source": "Invoke-AtomicTest T1218.004 -TestNumbers 6"
  },
  {
   "cell_type": "markdown",
   "id": "32941e77",
   "metadata": {},
   "source": "#### Cleanup: \n```powershell\n$InstallerAssemblyDir = \"$Env:TEMP\\\"\n$InstallerAssemblyFileName = \"T1218.004.dll\"\n$InstallerAssemblyFullPath = Join-Path -Path $InstallerAssemblyDir -ChildPath $InstallerAssemblyFileName\nRemove-Item -Path $InstallerAssemblyFullPath -ErrorAction Ignore\n```"
  },
  {
   "cell_type": "code",
   "execution_count": null,
   "id": "aa8f7ea1",
   "metadata": {},
   "outputs": [],
   "source": "Invoke-AtomicTest T1218.004 -TestNumbers 6 -Cleanup"
  },
  {
   "cell_type": "markdown",
   "id": "8f7669d9",
   "metadata": {},
   "source": "### Atomic Test #7 - InstallUtil HelpText method call\nExecutes the Uninstall Method. Upon execution, help information will be displayed for InstallUtil.\n\n**Supported Platforms:** windows\n#### Dependencies:  Run with `powershell`!\n##### Description: InstallUtil test harness script must be installed at specified location (#{test_harness})\n\n##### Check Prereq Commands:\n```powershell\nif (Test-Path \"PathToAtomicsFolder\\T1218.004\\src\\InstallUtilTestHarness.ps1\") {exit 0} else {exit 1}\n\n```\n##### Get Prereq Commands:\n```powershell\nNew-Item -Type Directory (split-path \"PathToAtomicsFolder\\T1218.004\\src\\InstallUtilTestHarness.ps1\") -ErrorAction ignore | Out-Null\nInvoke-WebRequest 'https://github.com/redcanaryco/atomic-red-team/raw/master/atomics/T1218.004/src/InstallUtilTestHarness.ps1' -OutFile \"PathToAtomicsFolder\\T1218.004\\src\\InstallUtilTestHarness.ps1\"\n\n```"
  },
  {
   "cell_type": "code",
   "execution_count": null,
   "id": "f06980b4",
   "metadata": {},
   "outputs": [],
   "source": "Invoke-AtomicTest T1218.004 -TestNumbers 7 -GetPreReqs"
  },
  {
   "cell_type": "markdown",
   "id": "4c2f7af2",
   "metadata": {},
   "source": [
    "#### Attack Commands: Run with `powershell`\n",
    "```powershell\n# Import the required test harness function, Invoke-BuildAndInvokeInstallUtilAssembly\n. \"PathToAtomicsFolder\\T1218.004\\src\\InstallUtilTestHarness.ps1\"\n\n$InstallerAssemblyDir = \"$Env:TEMP\\\"\n$InstallerAssemblyFileName = \"T1218.004.dll\"\n$InstallerAssemblyFullPath = Join-Path -Path $InstallerAssemblyDir -ChildPath $InstallerAssemblyFileName\n\n$CommandLine = \"/? `\"$InstallerAssemblyFullPath`\"\"\n$ExpectedOutput = 'Constructor_HelpText_'\n\n$TestArgs = @{\n    OutputAssemblyDirectory = $InstallerAssemblyDir\n    OutputAssemblyFileName = $InstallerAssemblyFileName\n    InvocationMethod = 'Executable'\n    CommandLine = $CommandLine\n}\n\n$ActualOutput = Invoke-BuildAndInvokeInstallUtilAssembly @TestArgs\n\nif ($ActualOutput -ne $ExpectedOutput) {\n    throw @\"\nInstallUtil HelpText property execution test failure. Installer assembly execution output did not match the expected output.\nExpected: $ExpectedOutput\nActual: $ActualOutput\n\"@\n}\n```"
   ]
  },
  {
   "cell_type": "code",
   "execution_count": null,
   "id": "9b1237e4",
   "metadata": {},
   "outputs": [],
   "source": "Invoke-AtomicTest T1218.004 -TestNumbers 7"
  },
  {
   "cell_type": "markdown",
   "id": "05553af7",
   "metadata": {},
   "source": "#### Cleanup: \n```powershell\n$InstallerAssemblyDir = \"$Env:TEMP\\\"\n$InstallerAssemblyFileName = \"T1218.004.dll\"\n$InstallerAssemblyFullPath = Join-Path -Path $InstallerAssemblyDir -ChildPath $InstallerAssemblyFileName\nRemove-Item -Path $InstallerAssemblyFullPath -ErrorAction Ignore\n```"
  },
  {
   "cell_type": "code",
   "execution_count": null,
   "id": "397b8a9b",
   "metadata": {},
   "outputs": [],
   "source": "Invoke-AtomicTest T1218.004 -TestNumbers 7 -Cleanup"
  },
  {
   "cell_type": "markdown",
   "id": "49c3810a",
   "metadata": {},
   "source": "### Atomic Test #8 - InstallUtil evasive invocation\nExecutes an InstallUtil assembly by renaming InstallUtil.exe and using a nonstandard extension for the assembly. Upon execution, \"Running a transacted installation.\"\nwill be displayed, along with other information about the opperation. \"The transacted install has completed.\" will be displayed upon completion.\n\n**Supported Platforms:** windows\n#### Dependencies:  Run with `powershell`!\n##### Description: InstallUtil test harness script must be installed at specified location (#{test_harness})\n\n##### Check Prereq Commands:\n```powershell\nif (Test-Path \"PathToAtomicsFolder\\T1218.004\\src\\InstallUtilTestHarness.ps1\") {exit 0} else {exit 1}\n\n```\n##### Get Prereq Commands:\n```powershell\nNew-Item -Type Directory (split-path \"PathToAtomicsFolder\\T1218.004\\src\\InstallUtilTestHarness.ps1\") -ErrorAction ignore | Out-Null\nInvoke-WebRequest 'https://github.com/redcanaryco/atomic-red-team/raw/master/atomics/T1218.004/src/InstallUtilTestHarness.ps1' -OutFile \"PathToAtomicsFolder\\T1218.004\\src\\InstallUtilTestHarness.ps1\"\n\n```"
  },
  {
   "cell_type": "code",
   "execution_count": null,
   "id": "7b94de58",
   "metadata": {},
   "outputs": [],
   "source": "Invoke-AtomicTest T1218.004 -TestNumbers 8 -GetPreReqs"
  },
  {
   "cell_type": "markdown",
   "id": "6d26fc10",
   "metadata": {},
   "source": [
    "#### Attack Commands: Run with `powershell`\n",
    "```powershell\n# Import the required test harness function, Invoke-BuildAndInvokeInstallUtilAssembly\n. \"PathToAtomicsFolder\\T1218.004\\src\\InstallUtilTestHarness.ps1\"\n\n$InstallerAssemblyDir = \"$Env:windir\\System32\\Tasks\"\n$InstallerAssemblyFileName = 'readme.txt'\n$InstallerAssemblyFullPath = Join-Path -Path $InstallerAssemblyDir -ChildPath $InstallerAssemblyFileName\n\n$CommandLine = \"readme.txt\"\n$ExpectedOutput = 'Constructor_'\n\n# Explicitly set the directory so that a relative path to readme.txt can be supplied.\nSet-Location \"$Env:windir\\System32\\Tasks\"\n\nCopy-Item -Path \"$([System.Runtime.InteropServices.RuntimeEnvironment]::GetRuntimeDirectory())InstallUtil.exe\" -Destination \"$Env:windir\\System32\\Tasks\\notepad.exe\"\n\n$TestArgs = @{\n    OutputAssemblyDirectory = $InstallerAssemblyDir\n    OutputAssemblyFileName = $InstallerAssemblyFileName\n    InvocationMethod = 'Executable'\n    CommandLine = $CommandLine\n    InstallUtilPath = \"$Env:windir\\System32\\Tasks\\notepad.exe\"\n}\n\n$ActualOutput = Invoke-BuildAndInvokeInstallUtilAssembly @TestArgs -MinimumViableAssembly\n\nif ($ActualOutput -ne $ExpectedOutput) {\n    throw @\"\nEvasive Installutil invocation test failure. Installer assembly execution output did not match the expected output.\nExpected: $ExpectedOutput\nActual: $ActualOutput\n\"@\n}\n```"
   ]
  },
  {
   "cell_type": "code",
   "execution_count": null,
   "id": "f1c1149c",
   "metadata": {},
   "outputs": [],
   "source": "Invoke-AtomicTest T1218.004 -TestNumbers 8"
  },
  {
   "cell_type": "markdown",
   "id": "17b4eb17",
   "metadata": {},
   "source": "#### Cleanup: \n```powershell\nRemove-Item -Path \"$Env:windir\\System32\\Tasks\\readme.txt\" -ErrorAction Ignore\nRemove-Item -Path \"$Env:windir\\System32\\Tasks\\readme.InstallLog\" -ErrorAction Ignore\nRemove-Item -Path \"$Env:windir\\System32\\Tasks\\readme.InstallState\" -ErrorAction Ignore\nRemove-Item -Path \"$Env:windir\\System32\\Tasks\\notepad.exe\" -ErrorAction Ignore\n```"
  },
  {
   "cell_type": "code",
   "execution_count": null,
   "id": "92480785",
   "metadata": {},
   "outputs": [],
   "source": "Invoke-AtomicTest T1218.004 -TestNumbers 8 -Cleanup"
  },
  {
   "cell_type": "markdown",
   "id": "b1578e39",
   "metadata": {},
   "source": "## Detection\nUse process monitoring to monitor the execution and arguments of InstallUtil.exe. Compare recent invocations of InstallUtil.exe with prior history of known good arguments and executed binaries to determine anomalous and potentially adversarial activity. Command arguments used before and after the InstallUtil.exe invocation may also be useful in determining the origin and purpose of the binary being executed."
  }
 ],
 "metadata": {
  "kernelspec": {
   "display_name": ".NET (PowerShell)",
   "language": "pwsh",
   "name": ".net-powershell"
  },
  "language_info": {
   "file_extension": ".ps1",
   "mimetype": "text/x-powershell",
   "name": "pwsh",
   "pygments_lexer": "powershell",
   "version": "7.0"
  }
 },
 "nbformat": 4,
 "nbformat_minor": 5
}