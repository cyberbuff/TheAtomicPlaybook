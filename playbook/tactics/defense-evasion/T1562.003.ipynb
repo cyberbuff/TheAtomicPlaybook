{
 "cells": [
  {
   "cell_type": "markdown",
   "id": "30089ebf",
   "metadata": {},
   "source": "# T1562.003 - Impair Command History Logging\nAdversaries may impair command history logging to hide commands they run on a compromised system. Various command interpreters keep track of the commands users type in their terminal so that users can retrace what they've done. \n\nOn Linux and macOS, command history is tracked in a file pointed to by the environment variable <code>HISTFILE</code>. When a user logs off a system, this information is flushed to a file in the user's home directory called <code>~/.bash_history</code>. The <code>HISTCONTROL</code> environment variable keeps track of what should be saved by the <code>history</code> command and eventually into the <code>~/.bash_history</code> file when a user logs out. <code>HISTCONTROL</code> does not exist by default on macOS, but can be set by the user and will be respected.\n\nAdversaries may clear the history environment variable (<code>unset HISTFILE</code>) or set the command history size to zero (<code>export HISTFILESIZE=0</code>) to prevent logging of commands. Additionally, <code>HISTCONTROL</code> can be configured to ignore commands that start with a space by simply setting it to \"ignorespace\". <code>HISTCONTROL</code> can also be set to ignore duplicate commands by setting it to \"ignoredups\". In some Linux systems, this is set by default to \"ignoreboth\" which covers both of the previous examples. This means that \u201c ls\u201d will not be saved, but \u201cls\u201d would be saved by history. Adversaries can abuse this to operate without leaving traces by simply prepending a space to all of their terminal commands. \n\nOn Windows systems, the <code>PSReadLine</code> module tracks commands used in all PowerShell sessions and writes them to a file (<code>$env:APPDATA\\Microsoft\\Windows\\PowerShell\\PSReadLine\\ConsoleHost_history.txt</code> by default). Adversaries may change where these logs are saved using <code>Set-PSReadLineOption -HistorySavePath {File Path}</code>. This will cause <code>ConsoleHost_history.txt</code> to stop receiving logs. Additionally, it is possible to turn off logging to this file using the PowerShell command <code>Set-PSReadlineOption -HistorySaveStyle SaveNothing</code>.(Citation: Microsoft PowerShell Command History)(Citation: Sophos PowerShell command audit)(Citation: Sophos PowerShell Command History Forensics)\n\nAdversaries may also leverage a [Network Device CLI](https://attack.mitre.org/techniques/T1059/008) on network devices to disable historical command logging (e.g. <code>no logging</code>)."
  },
  {
   "cell_type": "markdown",
   "id": "17a0c62f",
   "metadata": {},
   "source": "## Atomic Tests"
  },
  {
   "cell_type": "markdown",
   "id": "75130487",
   "metadata": {},
   "source": [
    "### Atomic Test #1 - Disable history collection",
    "Disables history collection in shells\n",
    "**Supported Platforms:** linux, macos",
    "#### Attack Commands: Run with `sh`\n",
    "```sh\nexport HISTCONTROL=ignoreboth\nwhoami\n```"
   ]
  },
  {
   "cell_type": "code",
   "execution_count": null,
   "id": "d4adeeff",
   "metadata": {},
   "outputs": [],
   "source": "Invoke-AtomicTest T1562.003 -TestNumbers 1"
  },
  {
   "cell_type": "markdown",
   "id": "bc2f671d",
   "metadata": {},
   "source": [
    "### Atomic Test #2 - Disable history collection (freebsd)",
    "Disables history collection in shells\n",
    "**Supported Platforms:** linux",
    "#### Attack Commands: Run with `sh`\n",
    "```sh\nexport HISTSIZE=0\nwhoami\n```"
   ]
  },
  {
   "cell_type": "code",
   "execution_count": null,
   "id": "6d31c0c4",
   "metadata": {},
   "outputs": [],
   "source": "Invoke-AtomicTest T1562.003 -TestNumbers 2"
  },
  {
   "cell_type": "markdown",
   "id": "49c41d96",
   "metadata": {},
   "source": [
    "### Atomic Test #3 - Mac HISTCONTROL",
    "The HISTCONTROL variable is set to ignore (not write to the history file) command that are a duplicate of something already in the history \nand commands that start with a space. This atomic sets this variable in the current session and also writes it to the current user's ~/.bash_profile \nso that it will apply to all future settings as well.\nhttps://www.linuxjournal.com/content/using-bash-history-more-efficiently-histcontrol\n",
    "**Supported Platforms:** macos, linux",
    "Run it with these steps!",
    "1. export HISTCONTROL=ignoreboth\n2. echo export \"HISTCONTROL=ignoreboth\" >> ~/.bash_profile\n3. ls\n4. whoami > recon.txt\n"
   ]
  },
  {
   "cell_type": "markdown",
   "id": "895ef3d3",
   "metadata": {},
   "source": [
    "### Atomic Test #4 - Clear bash history",
    "An attacker may clear the bash history cache and the history file as their last act before logging off to remove the record of their command line activities. \n\nIn this test we use the $HISTFILE variable throughout to 1. confirms the $HISTFILE variable is set 2. echo \"\" into it 3..5 confirm the file is empty 6 clear the history cache 7. confirm the history cache is empty. This is when the attacker would logoff.\n",
    "**Supported Platforms:** linux",
    "\nElevation Required (e.g. root or admin)",
    "#### Attack Commands: Run with `bash`\n",
    "```bash\ncp $HISTFILE $HISTFILE.OLD\nif ((${#HISTFILE[@]})); then echo $HISTFILE; fi\necho \"\" > $HISTFILE\nif [ $(wc -c <$HISTFILE) -gt 1 ]; then echo \"$HISTFILE is larger than 1k\"; fi\nls -la $HISTFILE \ncat $HISTFILE\nhistory -c \nif [ $(history |wc -l) -eq 1 ]; then echo \"History cache cleared\"; fi\n```"
   ]
  },
  {
   "cell_type": "code",
   "execution_count": null,
   "id": "09e77e4f",
   "metadata": {},
   "outputs": [],
   "source": "Invoke-AtomicTest T1562.003 -TestNumbers 4"
  },
  {
   "cell_type": "markdown",
   "id": "bfeaa4e0",
   "metadata": {},
   "source": "#### Cleanup: \n```bash\nmv -f $HISTFILE.OLD $HISTFILE \n```"
  },
  {
   "cell_type": "code",
   "execution_count": null,
   "id": "e2e0e17d",
   "metadata": {},
   "outputs": [],
   "source": "Invoke-AtomicTest T1562.003 -TestNumbers 4 -Cleanup"
  },
  {
   "cell_type": "markdown",
   "id": "00b73509",
   "metadata": {},
   "source": [
    "### Atomic Test #5 - Setting the HISTCONTROL environment variable",
    "An attacker may exploit the space before a command (e.g. \" ls\") or the duplicate command suppression feature in Bash history to prevent their commands from being recorded in the history file or to obscure the order of commands used. \n\nIn this test we 1. sets $HISTCONTROL to ignoreboth 2. clears the history cache 3. executes ls -la with a space in-front of it 4. confirms that ls -la is not in the history cache 5. sets $HISTCONTROL to erasedups 6. clears the history cache 7..9 executes ls -la $HISTFILE 3 times 10. confirms that their is only one command in history\n",
    "**Supported Platforms:** linux",
    "\nElevation Required (e.g. root or admin)",
    "#### Attack Commands: Run with `bash`\n",
    "```bash\nTEST=$(echo $HISTCONTROL)\nif [ \"$HISTCONTROL\" != \"ignoreboth\" ]; then export HISTCONTROL=\"ignoreboth\"; fi\nhistory -c \nls -la $HISTFILE # \" ls -la $HISTFILE\"\nif [ $(history |wc -l) -eq 1 ]; then echo \"ls -la is not in history cache\"; fi\n# -> ls -la is not in history cache\nif [ \"$HISTCONTROL\" != \"erasedups\" ]; then export HISTCONTROL=\"erasedups\"; fi\nhistory -c \nls -la $HISTFILE\nls -la $HISTFILE\nls -la $HISTFILE\nif [ $(history |wc -l) -eq 2 ]; then echo \"Their is only one entry for ls -la $HISTFILE\"; fi\n```"
   ]
  },
  {
   "cell_type": "code",
   "execution_count": null,
   "id": "32cee489",
   "metadata": {},
   "outputs": [],
   "source": "Invoke-AtomicTest T1562.003 -TestNumbers 5"
  },
  {
   "cell_type": "markdown",
   "id": "085be150",
   "metadata": {},
   "source": "#### Cleanup: \n```bash\nexport HISTCONTROL=$(echo $TEST)\n```"
  },
  {
   "cell_type": "code",
   "execution_count": null,
   "id": "0f1da393",
   "metadata": {},
   "outputs": [],
   "source": "Invoke-AtomicTest T1562.003 -TestNumbers 5 -Cleanup"
  },
  {
   "cell_type": "markdown",
   "id": "83923f13",
   "metadata": {},
   "source": [
    "### Atomic Test #6 - Setting the HISTFILESIZE environment variable",
    "An Adversary may set the bash history files size environment variable (HISTFILESIZE) to zero to prevent the logging of commands to the history file after they log out of the system.\n\nNote: we don't wish to log out, so we are just confirming the value of HISTFILESIZE. In this test we 1. echo HISTFILESIZE 2. set it to zero 3. confirm that HISTFILESIZE is set to zero.\n",
    "**Supported Platforms:** linux",
    "\nElevation Required (e.g. root or admin)",
    "#### Attack Commands: Run with `bash`\n",
    "```bash\nTEST=$(echo $HISTFILESIZE)\necho $HISTFILESIZE\nexport HISTFILESIZE=0\nif [ $(echo $HISTFILESIZE) -eq 0 ]; then echo \"\\$HISTFILESIZE is zero\"; fi\n# -> $HISTFILESIZE is zero\n```"
   ]
  },
  {
   "cell_type": "code",
   "execution_count": null,
   "id": "127f8705",
   "metadata": {},
   "outputs": [],
   "source": "Invoke-AtomicTest T1562.003 -TestNumbers 6"
  },
  {
   "cell_type": "markdown",
   "id": "993a621b",
   "metadata": {},
   "source": "#### Cleanup: \n```bash\nexport HISTCONTROL=$(echo $TEST)\n```"
  },
  {
   "cell_type": "code",
   "execution_count": null,
   "id": "7dd2e64e",
   "metadata": {},
   "outputs": [],
   "source": "Invoke-AtomicTest T1562.003 -TestNumbers 6 -Cleanup"
  },
  {
   "cell_type": "markdown",
   "id": "0d5ba057",
   "metadata": {},
   "source": [
    "### Atomic Test #7 - Setting the HISTSIZE environment variable",
    "An Adversary may set the sh history files size environment variable (HISTSIZE) to zero to prevent the logging of commands to the history file after they log out of the system.\n\nNote: we don't wish to log out, so we are just confirming the value of HISTSIZE. In this test we 1. echo HISTSIZE 2. set it to zero 3. confirm that HISTSIZE is set to zero.\n",
    "**Supported Platforms:** linux",
    "\nElevation Required (e.g. root or admin)",
    "#### Attack Commands: Run with `sh`\n",
    "```sh\necho $HISTSIZE\nexport HISTSIZE=0\nif [ $(echo $HISTSIZE) -eq 0 ]; then echo \"\\$HISTSIZE is zero\"; fi\n# -> $HISTSIZE is zero\n```"
   ]
  },
  {
   "cell_type": "code",
   "execution_count": null,
   "id": "b3f8734f",
   "metadata": {},
   "outputs": [],
   "source": "Invoke-AtomicTest T1562.003 -TestNumbers 7"
  },
  {
   "cell_type": "markdown",
   "id": "e19d5a66",
   "metadata": {},
   "source": "#### Cleanup: \n```sh\nexport HISTSIZE=100\n```"
  },
  {
   "cell_type": "code",
   "execution_count": null,
   "id": "8dc0956e",
   "metadata": {},
   "outputs": [],
   "source": "Invoke-AtomicTest T1562.003 -TestNumbers 7 -Cleanup"
  },
  {
   "cell_type": "markdown",
   "id": "236be016",
   "metadata": {},
   "source": [
    "### Atomic Test #8 - Setting the HISTFILE environment variable",
    "An Adversary may clear, unset or redirect the history environment variable HISTFILE to prevent logging of commands to the history file after they log out of the system.\n\nNote: we don't wish to log out, so we are just confirming the value of HISTFILE. In this test we 1. echo HISTFILE 2. set it to /dev/null 3. confirm that HISTFILE is set to /dev/null.\n",
    "**Supported Platforms:** linux",
    "\nElevation Required (e.g. root or admin)",
    "#### Attack Commands: Run with `bash`\n",
    "```bash\nTEST=$(echo $HISTFILE)\necho $HISTFILE\nexport HISTFILE=\"/dev/null\"\nif [ $(echo $HISTFILE) == \"/dev/null\" ]; then echo \"\\$HISTFILE is /dev/null\"; fi\n# -> $HISTFILE is /dev/null\n```"
   ]
  },
  {
   "cell_type": "code",
   "execution_count": null,
   "id": "b7e6c371",
   "metadata": {},
   "outputs": [],
   "source": "Invoke-AtomicTest T1562.003 -TestNumbers 8"
  },
  {
   "cell_type": "markdown",
   "id": "83e779b4",
   "metadata": {},
   "source": "#### Cleanup: \n```bash\nexport HISTFILE=$(echo $TEST)\n```"
  },
  {
   "cell_type": "code",
   "execution_count": null,
   "id": "96ae0f77",
   "metadata": {},
   "outputs": [],
   "source": "Invoke-AtomicTest T1562.003 -TestNumbers 8 -Cleanup"
  },
  {
   "cell_type": "markdown",
   "id": "f9092a78",
   "metadata": {},
   "source": [
    "### Atomic Test #9 - Setting the HISTFILE environment variable (freebsd)",
    "An Adversary may clear, unset or redirect the history environment variable HISTFILE to prevent logging of commands to the history file after they log out of the system.\n\nNote: we don't wish to log out, so we are just confirming the value of HISTFILE. In this test we 1. echo HISTFILE 2. set it to /dev/null 3. confirm that HISTFILE is set to /dev/null.\n",
    "**Supported Platforms:** linux",
    "\nElevation Required (e.g. root or admin)",
    "#### Attack Commands: Run with `sh`\n",
    "```sh\necho $HISTFILE\nexport HISTFILE=\"/dev/null\"\nif [ $(echo $HISTFILE) == \"/dev/null\" ]; then echo \"\\$HISTFILE is /dev/null\"; fi\n# -> $HISTFILE is /dev/null\n```"
   ]
  },
  {
   "cell_type": "code",
   "execution_count": null,
   "id": "62f6a3bf",
   "metadata": {},
   "outputs": [],
   "source": "Invoke-AtomicTest T1562.003 -TestNumbers 9"
  },
  {
   "cell_type": "markdown",
   "id": "840bae1a",
   "metadata": {},
   "source": "#### Cleanup: \n```sh\nexport HISTFILE=~/.sh_history\n```"
  },
  {
   "cell_type": "code",
   "execution_count": null,
   "id": "1523ec80",
   "metadata": {},
   "outputs": [],
   "source": "Invoke-AtomicTest T1562.003 -TestNumbers 9 -Cleanup"
  },
  {
   "cell_type": "markdown",
   "id": "4e19fe3f",
   "metadata": {},
   "source": [
    "### Atomic Test #10 - Setting the HISTIGNORE environment variable",
    "An Adversary may take advantage of the HISTIGNORE environment variable either to ignore particular commands or all commands. \n\nIn this test we 1. set HISTIGNORE to ignore ls, rm and ssh commands 2. clear this history cache 3..4 execute ls commands 5. confirm that the ls commands are not in the history cache 6. unset HISTIGNORE variable 7.. same again, but ignoring ALL commands.\n",
    "**Supported Platforms:** linux",
    "\nElevation Required (e.g. root or admin)",
    "#### Attack Commands: Run with `bash`\n",
    "```bash\nif ((${#HISTIGNORE[@]})); then echo \"\\$HISTIGNORE = $HISTIGNORE\"; else export HISTIGNORE='ls*:rm*:ssh*'; echo \"\\$HISTIGNORE = $HISTIGNORE\"; fi\n# -> $HISTIGNORE = ls*:rm*:ssh*\nhistory -c \nls -la $HISTFILE\nls -la ~/.bash_logout\nif [ $(history |wc -l) -eq 1 ]; then echo \"ls commands are not in history\"; fi\n# -> ls commands are not in history\nunset HISTIGNORE\n\nif ((${#HISTIGNORE[@]})); then echo \"\\$HISTIGNORE = $HISTIGNORE\"; else export HISTIGNORE='*'; echo \"\\$HISTIGNORE = $HISTIGNORE\"; fi\n# -> $HISTIGNORE = *\nhistory -c \nwhoami\ngroups\nif [ $(history |wc -l) -eq 0 ]; then echo \"History cache is empty\"; fi\n# -> History cache is empty\n```"
   ]
  },
  {
   "cell_type": "code",
   "execution_count": null,
   "id": "bd028a72",
   "metadata": {},
   "outputs": [],
   "source": "Invoke-AtomicTest T1562.003 -TestNumbers 10"
  },
  {
   "cell_type": "markdown",
   "id": "e4b5c064",
   "metadata": {},
   "source": "#### Cleanup: \n```bash\nunset HISTIGNORE\n```"
  },
  {
   "cell_type": "code",
   "execution_count": null,
   "id": "66eace95",
   "metadata": {},
   "outputs": [],
   "source": "Invoke-AtomicTest T1562.003 -TestNumbers 10 -Cleanup"
  },
  {
   "cell_type": "markdown",
   "id": "3a2dca00",
   "metadata": {},
   "source": "## Detection\nCorrelating a user session with a distinct lack of new commands in their <code>.bash_history</code> can be a clue to suspicious behavior. Additionally, users checking or changing their <code>HISTCONTROL</code>, <code>HISTFILE</code>, or <code>HISTFILESIZE</code> environment variables may be suspicious.\n\nMonitor for modification of PowerShell command history settings through processes being created with <code>-HistorySaveStyle SaveNothing</code> command-line arguments and use of the PowerShell commands <code>Set-PSReadlineOption -HistorySaveStyle SaveNothing</code> and <code>Set-PSReadLineOption -HistorySavePath {File Path}</code>. Further, [Network Device CLI](https://attack.mitre.org/techniques/T1059/008) commands may also be used to clear or disable historical log data with built-in features native to the network device platform.  Monitor such command activity for unexpected or unauthorized use of commands being run by non-standard users from non-standard locations."
  }
 ],
 "metadata": {
  "kernelspec": {
   "display_name": ".NET (PowerShell)",
   "language": "pwsh",
   "name": ".net-powershell"
  },
  "language_info": {
   "file_extension": ".ps1",
   "mimetype": "text/x-powershell",
   "name": "pwsh",
   "pygments_lexer": "powershell",
   "version": "7.0"
  }
 },
 "nbformat": 4,
 "nbformat_minor": 5
}