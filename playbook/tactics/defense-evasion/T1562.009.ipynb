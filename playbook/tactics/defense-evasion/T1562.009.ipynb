{
 "cells": [
  {
   "cell_type": "markdown",
   "id": "e3f857ad",
   "metadata": {},
   "source": "# T1562.009 - Safe Mode Boot\nAdversaries may abuse Windows safe mode to disable endpoint defenses. Safe mode starts up the Windows operating system with a limited set of drivers and services. Third-party security software such as endpoint detection and response (EDR) tools may not start after booting Windows in safe mode. There are two versions of safe mode: Safe Mode and Safe Mode with Networking. It is possible to start additional services after a safe mode boot.(Citation: Microsoft Safe Mode)(Citation: Sophos Snatch Ransomware 2019)\n\nAdversaries may abuse safe mode to disable endpoint defenses that may not start with a limited boot. Hosts can be forced into safe mode after the next reboot via modifications to Boot Configuration Data (BCD) stores, which are files that manage boot application settings.(Citation: Microsoft bcdedit 2021)\n\nAdversaries may also add their malicious applications to the list of minimal services that start in safe mode by modifying relevant Registry values (i.e. [Modify Registry](https://attack.mitre.org/techniques/T1112)). Malicious [Component Object Model](https://attack.mitre.org/techniques/T1559/001) (COM) objects may also be registered and loaded in safe mode.(Citation: Sophos Snatch Ransomware 2019)(Citation: CyberArk Labs Safe Mode 2016)(Citation: Cybereason Nocturnus MedusaLocker 2020)(Citation: BleepingComputer REvil 2021)"
  },
  {
   "cell_type": "markdown",
   "id": "61991e20",
   "metadata": {},
   "source": "## Atomic Tests"
  },
  {
   "cell_type": "markdown",
   "id": "a34adeed",
   "metadata": {},
   "source": [
    "### Atomic Test #1 - Safe Mode Boot",
    "Allows adversaries to abuse safe mode to disable endpoint defenses that may not start with limited boot",
    "**Supported Platforms:** windows",
    "\nElevation Required (e.g. root or admin)",
    "#### Attack Commands: Run with `command_prompt`\n",
    "```command_prompt\nbcdedit /set safeboot network```"
   ]
  },
  {
   "cell_type": "code",
   "execution_count": null,
   "id": "924d7fdc",
   "metadata": {},
   "outputs": [],
   "source": "Invoke-AtomicTest T1562.009 -TestNumbers 1"
  },
  {
   "cell_type": "markdown",
   "id": "e08a226a",
   "metadata": {},
   "source": "#### Cleanup: \n```cmd\nbcdedit /deletevalue {current} safeboot```"
  },
  {
   "cell_type": "code",
   "execution_count": null,
   "id": "5203c7bc",
   "metadata": {},
   "outputs": [],
   "source": "Invoke-AtomicTest T1562.009 -TestNumbers 1 -Cleanup"
  },
  {
   "cell_type": "markdown",
   "id": "ca56ae7d",
   "metadata": {},
   "source": "## Detection\nMonitor Registry modification and additions for services that may start on safe mode. For example, a program can be forced to start on safe mode boot by adding a <code>\\*</code> in front of the \"Startup\" value name: <code>HKLM\\Software\\Microsoft\\Windows\\CurrentVersion\\Run\\[\"\\*Startup\"=\"{Path}\"]</code> or by adding a key to <code>HKLM\\SYSTEM\\CurrentControlSet\\Control\\SafeBoot\\Minimal</code>.(Citation: BleepingComputer REvil 2021)(Citation: Sophos Snatch Ransomware 2019)\n\nMonitor execution of processes and commands associated with making configuration changes to boot settings, such as <code>bcdedit.exe</code> and <code>bootcfg.exe</code>.(Citation: Microsoft bcdedit 2021)(Citation: Microsoft Bootcfg)(Citation: Sophos Snatch Ransomware 2019)"
  }
 ],
 "metadata": {
  "kernelspec": {
   "display_name": ".NET (PowerShell)",
   "language": "pwsh",
   "name": ".net-powershell"
  },
  "language_info": {
   "file_extension": ".ps1",
   "mimetype": "text/x-powershell",
   "name": "pwsh",
   "pygments_lexer": "powershell",
   "version": "7.0"
  }
 },
 "nbformat": 4,
 "nbformat_minor": 5
}