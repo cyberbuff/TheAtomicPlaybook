{
 "cells": [
  {
   "cell_type": "markdown",
   "id": "1db75b71",
   "metadata": {},
   "source": "# T1222.002 - Linux and Mac File and Directory Permissions Modification\nAdversaries may modify file or directory permissions/attributes to evade access control lists (ACLs) and access protected files.(Citation: Hybrid Analysis Icacls1 June 2018)(Citation: Hybrid Analysis Icacls2 May 2018) File and directory permissions are commonly managed by ACLs configured by the file or directory owner, or users with the appropriate permissions. File and directory ACL implementations vary by platform, but generally explicitly designate which users or groups can perform which actions (read, write, execute, etc.).\n\nMost Linux and Linux-based platforms provide a standard set of permission groups (user, group, and other) and a standard set of permissions (read, write, and execute) that are applied to each group. While nuances of each platform\u2019s permissions implementation may vary, most of the platforms provide two primary commands used to manipulate file and directory ACLs: <code>chown</code> (short for change owner), and <code>chmod</code> (short for change mode).\n\nAdversarial may use these commands to make themselves the owner of files and directories or change the mode if current permissions allow it. They could subsequently lock others out of the file. Specific file and directory modifications may be a required step for many techniques, such as establishing Persistence via [Unix Shell Configuration Modification](https://attack.mitre.org/techniques/T1546/004) or tainting/hijacking other instrumental binary/configuration files via [Hijack Execution Flow](https://attack.mitre.org/techniques/T1574).(Citation: 20 macOS Common Tools and Techniques) "
  },
  {
   "cell_type": "markdown",
   "id": "ff092cd5",
   "metadata": {},
   "source": "## Atomic Tests"
  },
  {
   "cell_type": "markdown",
   "id": "fd417b37",
   "metadata": {},
   "source": [
    "### Atomic Test #1 - chmod - Change file or folder mode (numeric mode)",
    "Changes a file or folder's permissions using chmod and a specified numeric mode.\n",
    "**Supported Platforms:** linux, macos",
    "#### Attack Commands: Run with `sh`\n",
    "```sh\nchmod 755 /tmp/AtomicRedTeam/atomics/T1222.002\n```"
   ]
  },
  {
   "cell_type": "code",
   "execution_count": null,
   "id": "5dc63b53",
   "metadata": {},
   "outputs": [],
   "source": "Invoke-AtomicTest T1222.002 -TestNumbers 1"
  },
  {
   "cell_type": "markdown",
   "id": "8f3af718",
   "metadata": {},
   "source": [
    "### Atomic Test #2 - chmod - Change file or folder mode (symbolic mode)",
    "Changes a file or folder's permissions using chmod and a specified symbolic mode.\n",
    "**Supported Platforms:** linux, macos",
    "#### Attack Commands: Run with `sh`\n",
    "```sh\nchmod a+w /tmp/AtomicRedTeam/atomics/T1222.002\n```"
   ]
  },
  {
   "cell_type": "code",
   "execution_count": null,
   "id": "8aea534b",
   "metadata": {},
   "outputs": [],
   "source": "Invoke-AtomicTest T1222.002 -TestNumbers 2"
  },
  {
   "cell_type": "markdown",
   "id": "48fa42da",
   "metadata": {},
   "source": [
    "### Atomic Test #3 - chmod - Change file or folder mode (numeric mode) recursively",
    "Changes a file or folder's permissions recursively using chmod and a specified numeric mode.\n",
    "**Supported Platforms:** linux, macos",
    "#### Attack Commands: Run with `sh`\n",
    "```sh\nchmod -R 755 /tmp/AtomicRedTeam/atomics/T1222.002\n```"
   ]
  },
  {
   "cell_type": "code",
   "execution_count": null,
   "id": "b88466d5",
   "metadata": {},
   "outputs": [],
   "source": "Invoke-AtomicTest T1222.002 -TestNumbers 3"
  },
  {
   "cell_type": "markdown",
   "id": "d7680f13",
   "metadata": {},
   "source": [
    "### Atomic Test #4 - chmod - Change file or folder mode (symbolic mode) recursively",
    "Changes a file or folder's permissions recursively using chmod and a specified symbolic mode.\n",
    "**Supported Platforms:** linux, macos",
    "#### Attack Commands: Run with `bash`\n",
    "```bash\nchmod -R a+w /tmp/AtomicRedTeam/atomics/T1222.002\n```"
   ]
  },
  {
   "cell_type": "code",
   "execution_count": null,
   "id": "4c1cc80f",
   "metadata": {},
   "outputs": [],
   "source": "Invoke-AtomicTest T1222.002 -TestNumbers 4"
  },
  {
   "cell_type": "markdown",
   "id": "46d03a17",
   "metadata": {},
   "source": [
    "### Atomic Test #5 - chown - Change file or folder ownership and group",
    "Changes a file or folder's ownership and group information using chown.\n",
    "**Supported Platforms:** macos, linux",
    "#### Attack Commands: Run with `bash`\n",
    "```bash\nchown root:root /tmp/AtomicRedTeam/atomics/T1222.002/T1222.002.yaml\n```"
   ]
  },
  {
   "cell_type": "code",
   "execution_count": null,
   "id": "2d0ca31d",
   "metadata": {},
   "outputs": [],
   "source": "Invoke-AtomicTest T1222.002 -TestNumbers 5"
  },
  {
   "cell_type": "markdown",
   "id": "c8fe22bb",
   "metadata": {},
   "source": [
    "### Atomic Test #6 - chown - Change file or folder ownership and group recursively",
    "Changes a file or folder's ownership and group information recursively using chown.\n",
    "**Supported Platforms:** macos, linux",
    "#### Attack Commands: Run with `bash`\n",
    "```bash\nchown -R root:root /tmp/AtomicRedTeam/atomics/T1222.002\n```"
   ]
  },
  {
   "cell_type": "code",
   "execution_count": null,
   "id": "3815bd89",
   "metadata": {},
   "outputs": [],
   "source": "Invoke-AtomicTest T1222.002 -TestNumbers 6"
  },
  {
   "cell_type": "markdown",
   "id": "33b6c460",
   "metadata": {},
   "source": [
    "### Atomic Test #7 - chown - Change file or folder mode ownership only",
    "Changes a file or folder's ownership only using chown.\n",
    "**Supported Platforms:** linux, macos",
    "#### Attack Commands: Run with `sh`\n",
    "```sh\nchown root /tmp/AtomicRedTeam/atomics/T1222.002/T1222.002.yaml\n```"
   ]
  },
  {
   "cell_type": "code",
   "execution_count": null,
   "id": "c105146e",
   "metadata": {},
   "outputs": [],
   "source": "Invoke-AtomicTest T1222.002 -TestNumbers 7"
  },
  {
   "cell_type": "markdown",
   "id": "8ab54ff8",
   "metadata": {},
   "source": [
    "### Atomic Test #8 - chown - Change file or folder ownership recursively",
    "Changes a file or folder's ownership only recursively using chown.\n",
    "**Supported Platforms:** macos, linux",
    "#### Attack Commands: Run with `bash`\n",
    "```bash\nchown -R root /tmp/AtomicRedTeam/atomics/T1222.002\n```"
   ]
  },
  {
   "cell_type": "code",
   "execution_count": null,
   "id": "269560c0",
   "metadata": {},
   "outputs": [],
   "source": "Invoke-AtomicTest T1222.002 -TestNumbers 8"
  },
  {
   "cell_type": "markdown",
   "id": "7c8e80ac",
   "metadata": {},
   "source": [
    "### Atomic Test #9 - chattr - Remove immutable file attribute",
    "Remove's a file's `immutable` attribute using `chattr`.\nThis technique was used by the threat actor Rocke during the compromise of Linux web servers.\n",
    "**Supported Platforms:** macos, linux",
    "#### Attack Commands: Run with `sh`\n",
    "```sh\nchattr -i /var/spool/cron/root\n```"
   ]
  },
  {
   "cell_type": "code",
   "execution_count": null,
   "id": "ad88695e",
   "metadata": {},
   "outputs": [],
   "source": "Invoke-AtomicTest T1222.002 -TestNumbers 9"
  },
  {
   "cell_type": "markdown",
   "id": "41992185",
   "metadata": {},
   "source": [
    "### Atomic Test #10 - chflags - Remove immutable file attribute",
    "Remove's a file's `immutable` attribute using `chflags`.\nThis technique was used by the threat actor Rocke during the compromise of Linux web servers.\n",
    "**Supported Platforms:** linux",
    "#### Attack Commands: Run with `sh`\n",
    "```sh\ntouch /tmp/T1222.002.txt\nchflags simmutable /tmp/T1222.002.txt\nchflags nosimmutable /tmp/T1222.002.txt\n```"
   ]
  },
  {
   "cell_type": "code",
   "execution_count": null,
   "id": "e0dec963",
   "metadata": {},
   "outputs": [],
   "source": "Invoke-AtomicTest T1222.002 -TestNumbers 10"
  },
  {
   "cell_type": "markdown",
   "id": "e11c243d",
   "metadata": {},
   "source": "### Atomic Test #11 - Chmod through c script\nchmods a file using a c script\n\n**Supported Platforms:** macos, linux\n#### Dependencies:  Run with `sh`!\n##### Description: Compile the script from (#{source_file}). Destination is #{compiled_file}\n\n##### Check Prereq Commands:\n```sh\ngcc PathToAtomicsFolder/T1222.002/src/T1222.002.c -o /tmp/T1222002\n\n```\n##### Get Prereq Commands:\n```sh\ngcc PathToAtomicsFolder/T1222.002/src/T1222.002.c -o /tmp/T1222002\n\n```"
  },
  {
   "cell_type": "code",
   "execution_count": null,
   "id": "11c333ba",
   "metadata": {},
   "outputs": [],
   "source": "Invoke-AtomicTest T1222.002 -TestNumbers 11 -GetPreReqs"
  },
  {
   "cell_type": "markdown",
   "id": "1a09cfb0",
   "metadata": {},
   "source": [
    "#### Attack Commands: Run with `sh`\n",
    "```sh\n/tmp/T1222002 /tmp/ T1222002\n```"
   ]
  },
  {
   "cell_type": "code",
   "execution_count": null,
   "id": "27b1e189",
   "metadata": {},
   "outputs": [],
   "source": "Invoke-AtomicTest T1222.002 -TestNumbers 11"
  },
  {
   "cell_type": "markdown",
   "id": "bc913b71",
   "metadata": {},
   "source": "### Atomic Test #12 - Chmod through c script (freebsd)\nchmods a file using a c script\n\n**Supported Platforms:** linux\n#### Dependencies:  Run with `sh`!\n##### Description: Compile the script from (#{source_file}). Destination is #{compiled_file}\n\n##### Check Prereq Commands:\n```sh\ncc PathToAtomicsFolder/T1222.002/src/T1222.002.c -o /tmp/T1222002\n\n```\n##### Get Prereq Commands:\n```sh\ncc PathToAtomicsFolder/T1222.002/src/T1222.002.c -o /tmp/T1222002\n\n```"
  },
  {
   "cell_type": "code",
   "execution_count": null,
   "id": "893fbeda",
   "metadata": {},
   "outputs": [],
   "source": "Invoke-AtomicTest T1222.002 -TestNumbers 12 -GetPreReqs"
  },
  {
   "cell_type": "markdown",
   "id": "7d2b8ad3",
   "metadata": {},
   "source": [
    "#### Attack Commands: Run with `sh`\n",
    "```sh\n/tmp/T1222002 /tmp/ T1222002\n```"
   ]
  },
  {
   "cell_type": "code",
   "execution_count": null,
   "id": "1b6648a9",
   "metadata": {},
   "outputs": [],
   "source": "Invoke-AtomicTest T1222.002 -TestNumbers 12"
  },
  {
   "cell_type": "markdown",
   "id": "1cccdeaa",
   "metadata": {},
   "source": "### Atomic Test #13 - Chown through c script\nchowns a file to root using a c script\n\n**Supported Platforms:** macos, linux\n\nElevation Required (e.g. root or admin)\n#### Dependencies:  Run with `sh`!\n##### Description: Compile the script from (#{source_file}). Destination is #{compiled_file}\n\n##### Check Prereq Commands:\n```sh\ngcc PathToAtomicsFolder/T1222.002/src/chown.c -o /tmp/T1222002own\n\n```\n##### Get Prereq Commands:\n```sh\ngcc PathToAtomicsFolder/T1222.002/src/chown.c -o /tmp/T1222002own\n\n```"
  },
  {
   "cell_type": "code",
   "execution_count": null,
   "id": "52e89135",
   "metadata": {},
   "outputs": [],
   "source": "Invoke-AtomicTest T1222.002 -TestNumbers 13 -GetPreReqs"
  },
  {
   "cell_type": "markdown",
   "id": "1286e4bb",
   "metadata": {},
   "source": [
    "#### Attack Commands: Run with `sh`\n",
    "```sh\nsudo /tmp/T1222002own PathToAtomicsFolder/T1222.002/src/chown.c\n```"
   ]
  },
  {
   "cell_type": "code",
   "execution_count": null,
   "id": "f789efe1",
   "metadata": {},
   "outputs": [],
   "source": "Invoke-AtomicTest T1222.002 -TestNumbers 13"
  },
  {
   "cell_type": "markdown",
   "id": "ed66f5eb",
   "metadata": {},
   "source": "### Atomic Test #14 - Chown through c script (freebsd)\nchowns a file to root using a c script\n\n**Supported Platforms:** linux\n\nElevation Required (e.g. root or admin)\n#### Dependencies:  Run with `sh`!\n##### Description: Compile the script from (#{source_file}). Destination is #{compiled_file}\n\n##### Check Prereq Commands:\n```sh\ncc PathToAtomicsFolder/T1222.002/src/chown.c -o /tmp/T1222002own\n\n```\n##### Get Prereq Commands:\n```sh\ncc PathToAtomicsFolder/T1222.002/src/chown.c -o /tmp/T1222002own\n\n```"
  },
  {
   "cell_type": "code",
   "execution_count": null,
   "id": "e8ae849f",
   "metadata": {},
   "outputs": [],
   "source": "Invoke-AtomicTest T1222.002 -TestNumbers 14 -GetPreReqs"
  },
  {
   "cell_type": "markdown",
   "id": "ab58d4ec",
   "metadata": {},
   "source": [
    "#### Attack Commands: Run with `sh`\n",
    "```sh\n/tmp/T1222002own PathToAtomicsFolder/T1222.002/src/chown.c\n```"
   ]
  },
  {
   "cell_type": "code",
   "execution_count": null,
   "id": "dea7123e",
   "metadata": {},
   "outputs": [],
   "source": "Invoke-AtomicTest T1222.002 -TestNumbers 14"
  },
  {
   "cell_type": "markdown",
   "id": "7aabbe11",
   "metadata": {},
   "source": "## Detection\nMonitor and investigate attempts to modify ACLs and file/directory ownership. Many of the commands used to modify ACLs and file/directory ownership are built-in system utilities and may generate a high false positive alert rate, so compare against baseline knowledge for how systems are typically used and correlate modification events with other indications of malicious activity where possible. Commonly abused command arguments include <code>chmod +x</code>, <code>chmod -R 755</code>, and <code>chmod 777</code>.(Citation: 20 macOS Common Tools and Techniques) \n\nConsider enabling file/directory permission change auditing on folders containing key binary/configuration files."
  }
 ],
 "metadata": {
  "kernelspec": {
   "display_name": ".NET (PowerShell)",
   "language": "pwsh",
   "name": ".net-powershell"
  },
  "language_info": {
   "file_extension": ".ps1",
   "mimetype": "text/x-powershell",
   "name": "pwsh",
   "pygments_lexer": "powershell",
   "version": "7.0"
  }
 },
 "nbformat": 4,
 "nbformat_minor": 5
}