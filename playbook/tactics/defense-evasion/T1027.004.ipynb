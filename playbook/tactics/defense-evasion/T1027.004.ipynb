{
 "cells": [
  {
   "cell_type": "markdown",
   "id": "a7081051",
   "metadata": {},
   "source": "# T1027.004 - Compile After Delivery\nAdversaries may attempt to make payloads difficult to discover and analyze by delivering files to victims as uncompiled code. Text-based source code files may subvert analysis and scrutiny from protections targeting executables/binaries. These payloads will need to be compiled before execution; typically via native utilities such as csc.exe or GCC/MinGW.(Citation: ClearSky MuddyWater Nov 2018)\n\nSource code payloads may also be encrypted, encoded, and/or embedded within other files, such as those delivered as a [Phishing](https://attack.mitre.org/techniques/T1566). Payloads may also be delivered in formats unrecognizable and inherently benign to the native OS (ex: EXEs on macOS/Linux) before later being (re)compiled into a proper executable binary with a bundled compiler and execution framework.(Citation: TrendMicro WindowsAppMac)"
  },
  {
   "cell_type": "markdown",
   "id": "5d0d408e",
   "metadata": {},
   "source": "## Atomic Tests"
  },
  {
   "cell_type": "markdown",
   "id": "2eb0ec6e",
   "metadata": {},
   "source": "### Atomic Test #1 - Compile After Delivery using csc.exe\nCompile C# code using csc.exe binary used by .NET\nUpon execution an exe named T1027.004.exe will be placed in the temp folder\n\n**Supported Platforms:** windows\n#### Dependencies:  Run with `powershell`!\n##### Description: C# file must exist on disk at specified location (#{input_file})\n\n##### Check Prereq Commands:\n```cmd\nif (Test-Path PathToAtomicsFolder\\T1027.004\\src\\calc.cs) {exit 0} else {exit 1}\n\n```\n##### Get Prereq Commands:\n```cmd\nNew-Item -Type Directory (split-path PathToAtomicsFolder\\T1027.004\\src\\calc.cs) -ErrorAction ignore | Out-Null\nInvoke-WebRequest \"https://github.com/redcanaryco/atomic-red-team/raw/master/atomics/T1027.004/src/calc.cs\" -OutFile \"PathToAtomicsFolder\\T1027.004\\src\\calc.cs\"\n\n```"
  },
  {
   "cell_type": "code",
   "execution_count": null,
   "id": "cbe46e0f",
   "metadata": {},
   "outputs": [],
   "source": "Invoke-AtomicTest T1027.004 -TestNumbers 1 -GetPreReqs"
  },
  {
   "cell_type": "markdown",
   "id": "776cc441",
   "metadata": {},
   "source": [
    "#### Attack Commands: Run with `command_prompt`\n",
    "```command_prompt\nC:\\Windows\\Microsoft.NET\\Framework64\\v4.0.30319\\csc.exe /out:C:\\Windows\\Temp\\T1027.004.exe PathToAtomicsFolder\\T1027.004\\src\\calc.cs\n```"
   ]
  },
  {
   "cell_type": "code",
   "execution_count": null,
   "id": "27532a37",
   "metadata": {},
   "outputs": [],
   "source": "Invoke-AtomicTest T1027.004 -TestNumbers 1"
  },
  {
   "cell_type": "markdown",
   "id": "a3d79ebd",
   "metadata": {},
   "source": "#### Cleanup: \n```cmd\ndel C:\\Windows\\Temp\\T1027.004.exe >nul 2>&1\n```"
  },
  {
   "cell_type": "code",
   "execution_count": null,
   "id": "16637752",
   "metadata": {},
   "outputs": [],
   "source": "Invoke-AtomicTest T1027.004 -TestNumbers 1 -Cleanup"
  },
  {
   "cell_type": "markdown",
   "id": "c904875e",
   "metadata": {},
   "source": "### Atomic Test #2 - Dynamic C# Compile\nWhen C# is compiled dynamically, a .cmdline file will be created as a part of the process. \nCertain processes are not typically observed compiling C# code, but can do so without touching disk. This can be used to unpack a payload for execution.\nThe exe file that will be executed is named as T1027.004_DynamicCompile.exe is containted in the 'bin' folder of this atomic, and the source code to the file is in the 'src' folder.\nUpon execution, the exe will print 'T1027.004 Dynamic Compile'.\n\n**Supported Platforms:** windows\n#### Dependencies:  Run with `powershell`!\n##### Description: exe file must exist on disk at specified location (#{input_file})\n\n##### Check Prereq Commands:\n```powershell\nif (Test-Path PathToAtomicsFolder\\T1027.004\\bin\\T1027.004_DynamicCompile.exe) {exit 0} else {exit 1}\n\n```\n##### Get Prereq Commands:\n```powershell\nInvoke-WebRequest https://github.com/redcanaryco/atomic-red-team/raw/master/atomics/T1027.004/bin/T1027.004_DynamicCompile.exe -OutFile PathToAtomicsFolder\\T1027.004\\bin\\T1027.004_DynamicCompile.exe\n\n```"
  },
  {
   "cell_type": "code",
   "execution_count": null,
   "id": "1eee3c7f",
   "metadata": {},
   "outputs": [],
   "source": "Invoke-AtomicTest T1027.004 -TestNumbers 2 -GetPreReqs"
  },
  {
   "cell_type": "markdown",
   "id": "bd524ebb",
   "metadata": {},
   "source": [
    "#### Attack Commands: Run with `powershell`\n",
    "```powershell\nInvoke-Expression PathToAtomicsFolder\\T1027.004\\bin\\T1027.004_DynamicCompile.exe\n```"
   ]
  },
  {
   "cell_type": "code",
   "execution_count": null,
   "id": "dc87c0c2",
   "metadata": {},
   "outputs": [],
   "source": "Invoke-AtomicTest T1027.004 -TestNumbers 2"
  },
  {
   "cell_type": "markdown",
   "id": "1c3fc5e5",
   "metadata": {},
   "source": "### Atomic Test #3 - C compile\nCompile a c file with either gcc or clang on Linux or Macos.\n\n**Supported Platforms:** linux, macos\n#### Dependencies:  Run with `sh`!\n##### Description: the source file must exist on disk at specified location (#{input_file})\n\n##### Check Prereq Commands:\n```bash\nif [ -e  PathToAtomicsFolder/T1027.004/src/T1027-004-test.c ]; then exit 0; else exit 1; fi\n\n```\n##### Get Prereq Commands:\n```bash\nwget https://github.com/redcanaryco/atomic-red-team/raw/master/atomics/T1027.004/src/T1027-004-test.c -O PathToAtomicsFolder/T1027.004/src/T1027-004-test.c\n\n```"
  },
  {
   "cell_type": "code",
   "execution_count": null,
   "id": "428f69d6",
   "metadata": {},
   "outputs": [],
   "source": "Invoke-AtomicTest T1027.004 -TestNumbers 3 -GetPreReqs"
  },
  {
   "cell_type": "markdown",
   "id": "ea2bdaf6",
   "metadata": {},
   "source": [
    "#### Attack Commands: Run with `bash`\n",
    "```bash\ngcc PathToAtomicsFolder/T1027.004/src/T1027-004-test.c && ./a.out\nclang PathToAtomicsFolder/T1027.004/src/T1027-004-test.c && ./a.out\n```"
   ]
  },
  {
   "cell_type": "code",
   "execution_count": null,
   "id": "1f50c49b",
   "metadata": {},
   "outputs": [],
   "source": "Invoke-AtomicTest T1027.004 -TestNumbers 3"
  },
  {
   "cell_type": "markdown",
   "id": "3a4b354e",
   "metadata": {},
   "source": "### Atomic Test #4 - CC compile\nCompile a c file with either gcc or clang on Linux or Macos.\n\n**Supported Platforms:** linux, macos\n#### Dependencies:  Run with `sh`!\n##### Description: the source file must exist on disk at specified location (#{input_file})\n\n##### Check Prereq Commands:\n```bash\nif [ -e  PathToAtomicsFolder/T1027.004/src/T1027-004-test.cc ]; then exit 0; else exit 1; fi\n\n```\n##### Get Prereq Commands:\n```bash\nwget https://github.com/redcanaryco/atomic-red-team/raw/master/atomics/T1027.004/src/T1027-004-test.cc -O PathToAtomicsFolder/T1027.004/src/T1027-004-test.cc\n\n```"
  },
  {
   "cell_type": "code",
   "execution_count": null,
   "id": "3757c5c7",
   "metadata": {},
   "outputs": [],
   "source": "Invoke-AtomicTest T1027.004 -TestNumbers 4 -GetPreReqs"
  },
  {
   "cell_type": "markdown",
   "id": "76768a24",
   "metadata": {},
   "source": [
    "#### Attack Commands: Run with `bash`\n",
    "```bash\ng++ PathToAtomicsFolder/T1027.004/src/T1027-004-test.cc && ./a.out\nclang++ PathToAtomicsFolder/T1027.004/src/T1027-004-test.cc && ./a.out\n```"
   ]
  },
  {
   "cell_type": "code",
   "execution_count": null,
   "id": "75828c0d",
   "metadata": {},
   "outputs": [],
   "source": "Invoke-AtomicTest T1027.004 -TestNumbers 4"
  },
  {
   "cell_type": "markdown",
   "id": "9d91eaa0",
   "metadata": {},
   "source": "### Atomic Test #5 - Go compile\nCompile a c file with either gcc or clang on Linux or Macos.\n\n**Supported Platforms:** linux, macos\n#### Dependencies:  Run with `sh`!\n##### Description: the source file must exist on disk at specified location (#{input_file})\n\n##### Check Prereq Commands:\n```bash\nif [ -e  PathToAtomicsFolder/T1027.004/src/T1027-004-test.go ]; then exit 0; else exit 1; fi\n\n```\n##### Get Prereq Commands:\n```bash\nwget https://github.com/redcanaryco/atomic-red-team/raw/master/atomics/T1027.004/src/T1027-004-test.go -O PathToAtomicsFolder/T1027.004/src/T1027-004-test.go\n\n```"
  },
  {
   "cell_type": "code",
   "execution_count": null,
   "id": "18909a4b",
   "metadata": {},
   "outputs": [],
   "source": "Invoke-AtomicTest T1027.004 -TestNumbers 5 -GetPreReqs"
  },
  {
   "cell_type": "markdown",
   "id": "e9fe4a74",
   "metadata": {},
   "source": [
    "#### Attack Commands: Run with `bash`\n",
    "```bash\ngo run PathToAtomicsFolder/T1027.004/src/T1027-004-test.go\n```"
   ]
  },
  {
   "cell_type": "code",
   "execution_count": null,
   "id": "e75b463d",
   "metadata": {},
   "outputs": [],
   "source": "Invoke-AtomicTest T1027.004 -TestNumbers 5"
  },
  {
   "cell_type": "markdown",
   "id": "0667349d",
   "metadata": {},
   "source": "## Detection\nMonitor the execution file paths and command-line arguments for common compilers, such as csc.exe and GCC/MinGW, and correlate with other suspicious behavior to reduce false positives from normal user and administrator behavior. The compilation of payloads may also generate file creation and/or file write events. Look for non-native binary formats and cross-platform compiler and execution frameworks like Mono and determine if they have a legitimate purpose on the system.(Citation: TrendMicro WindowsAppMac) Typically these should only be used in specific and limited cases, like for software development."
  }
 ],
 "metadata": {
  "kernelspec": {
   "display_name": ".NET (PowerShell)",
   "language": "PowerShell",
   "name": ".net-powershell"
  },
  "language_info": {
   "file_extension": ".ps1",
   "mimetype": "text/x-powershell",
   "name": "PowerShell",
   "pygments_lexer": "powershell",
   "version": "7.0"
  }
 },
 "nbformat": 4,
 "nbformat_minor": 5
}