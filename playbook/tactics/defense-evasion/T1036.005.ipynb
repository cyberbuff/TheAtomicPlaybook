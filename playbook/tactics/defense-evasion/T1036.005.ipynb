{
 "cells": [
  {
   "cell_type": "markdown",
   "id": "4b1a3cc5",
   "metadata": {},
   "source": "# T1036.005 - Match Legitimate Name or Location\nAdversaries may match or approximate the name or location of legitimate files or resources when naming/placing them. This is done for the sake of evading defenses and observation. This may be done by placing an executable in a commonly trusted directory (ex: under System32) or giving it the name of a legitimate, trusted program (ex: svchost.exe). In containerized environments, this may also be done by creating a resource in a namespace that matches the naming convention of a container pod or cluster. Alternatively, a file or container image name given may be a close approximation to legitimate programs/images or something innocuous.\n\nAdversaries may also use the same icon of the file they are trying to mimic."
  },
  {
   "cell_type": "markdown",
   "id": "de1b5d2c",
   "metadata": {},
   "source": "## Atomic Tests"
  },
  {
   "cell_type": "markdown",
   "id": "32f10cbf",
   "metadata": {},
   "source": [
    "### Atomic Test #1 - Execute a process from a directory masquerading as the current parent directory.",
    "Create and execute a process from a directory masquerading as the current parent directory (`...` instead of normal `..`)\n",
    "**Supported Platforms:** macos, linux",
    "\nElevation Required (e.g. root or admin)",
    "#### Attack Commands: Run with `sh`\n",
    "```sh\nmkdir $HOME/...\ncp $(which sh) $HOME/...\n$HOME/.../sh -c \"echo Hello from the Atomic Red Team test T1036.005#1\"\n```"
   ]
  },
  {
   "cell_type": "code",
   "execution_count": null,
   "id": "1ce2fa80",
   "metadata": {},
   "outputs": [],
   "source": "Invoke-AtomicTest T1036.005 -TestNumbers 1"
  },
  {
   "cell_type": "markdown",
   "id": "4bf40b32",
   "metadata": {},
   "source": "#### Cleanup: \n```sh\nrm -f $HOME/.../sh\nrmdir $HOME/.../\n```"
  },
  {
   "cell_type": "code",
   "execution_count": null,
   "id": "f757f6c7",
   "metadata": {},
   "outputs": [],
   "source": "Invoke-AtomicTest T1036.005 -TestNumbers 1 -Cleanup"
  },
  {
   "cell_type": "markdown",
   "id": "e6e842ba",
   "metadata": {},
   "source": [
    "### Atomic Test #2 - Masquerade as a built-in system executable",
    "Launch an executable that attempts to masquerade as a legitimate executable.\n",
    "**Supported Platforms:** windows",
    "#### Attack Commands: Run with `powershell`\n",
    "```powershell\nAdd-Type -TypeDefinition @'\npublic class Test {\n    public static void Main(string[] args) {\n        System.Console.WriteLine(\"tweet, tweet\");\n    }\n}\n'@ -OutputAssembly \"$Env:windir\\Temp\\svchost.exe\"\n\nStart-Process -FilePath \"$Env:windir\\Temp\\svchost.exe\"\n```"
   ]
  },
  {
   "cell_type": "code",
   "execution_count": null,
   "id": "6c7b985b",
   "metadata": {},
   "outputs": [],
   "source": "Invoke-AtomicTest T1036.005 -TestNumbers 2"
  },
  {
   "cell_type": "markdown",
   "id": "5e1bc536",
   "metadata": {},
   "source": "#### Cleanup: \n```powershell\nRemove-Item -Path \"$Env:windir\\Temp\\svchost.exe\" -ErrorAction Ignore\n```"
  },
  {
   "cell_type": "code",
   "execution_count": null,
   "id": "5d3bb711",
   "metadata": {},
   "outputs": [],
   "source": "Invoke-AtomicTest T1036.005 -TestNumbers 2 -Cleanup"
  },
  {
   "cell_type": "markdown",
   "id": "ec86afe0",
   "metadata": {},
   "source": "## Detection\nCollect file hashes; file names that do not match their expected hash are suspect. Perform file monitoring; files with known names but in unusual locations are suspect. Likewise, files that are modified outside of an update or patch are suspect.\n\nIf file names are mismatched between the file name on disk and that of the binary's PE metadata, this is a likely indicator that a binary was renamed after it was compiled. Collecting and comparing disk and resource filenames for binaries by looking to see if the InternalName, OriginalFilename, and/or ProductName match what is expected could provide useful leads, but may not always be indicative of malicious activity. (Citation: Elastic Masquerade Ball) Do not focus on the possible names a file could have, but instead on the command-line arguments that are known to be used and are distinct because it will have a better rate of detection.(Citation: Twitter ItsReallyNick Masquerading Update)\n\nIn containerized environments, use image IDs and layer hashes to compare images instead of relying only on their names.(Citation: Docker Images) Monitor for the unexpected creation of new resources within your cluster in Kubernetes, especially those created by atypical users."
  }
 ],
 "metadata": {
  "kernelspec": {
   "display_name": ".NET (PowerShell)",
   "language": "pwsh",
   "name": ".net-powershell"
  },
  "language_info": {
   "file_extension": ".ps1",
   "mimetype": "text/x-powershell",
   "name": "pwsh",
   "pygments_lexer": "powershell",
   "version": "7.0"
  }
 },
 "nbformat": 4,
 "nbformat_minor": 5
}