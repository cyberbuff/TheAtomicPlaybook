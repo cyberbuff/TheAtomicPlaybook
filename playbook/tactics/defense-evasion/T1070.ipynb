{
 "cells": [
  {
   "cell_type": "markdown",
   "id": "727479d4",
   "metadata": {},
   "source": "# T1070 - Indicator Removal\nAdversaries may delete or modify artifacts generated within systems to remove evidence of their presence or hinder defenses. Various artifacts may be created by an adversary or something that can be attributed to an adversary\u2019s actions. Typically these artifacts are used as defensive indicators related to monitored events, such as strings from downloaded files, logs that are generated from user actions, and other data analyzed by defenders. Location, format, and type of artifact (such as command or login history) are often specific to each platform.\n\nRemoval of these indicators may interfere with event collection, reporting, or other processes used to detect intrusion activity. This may compromise the integrity of security solutions by causing notable events to go unreported. This activity may also impede forensic analysis and incident response, due to lack of sufficient data to determine what occurred."
  },
  {
   "cell_type": "markdown",
   "id": "03ef5b96",
   "metadata": {},
   "source": "## Atomic Tests"
  },
  {
   "cell_type": "markdown",
   "id": "bf373724",
   "metadata": {},
   "source": [
    "### Atomic Test #1 - Indicator Removal using FSUtil",
    "Manages the update sequence number (USN) change journal, which provides a persistent log of all changes made to files on the volume. Upon execution, no output\nwill be displayed. More information about fsutil can be found at https://docs.microsoft.com/en-us/windows-server/administration/windows-commands/fsutil-usn\n",
    "**Supported Platforms:** windows",
    "\nElevation Required (e.g. root or admin)",
    "#### Attack Commands: Run with `command_prompt`\n",
    "```command_prompt\nfsutil usn deletejournal /D C:\n```"
   ]
  },
  {
   "cell_type": "code",
   "execution_count": null,
   "id": "90594715",
   "metadata": {},
   "outputs": [],
   "source": "Invoke-AtomicTest T1070 -TestNumbers 1"
  },
  {
   "cell_type": "markdown",
   "id": "0d38a271",
   "metadata": {},
   "source": "#### Cleanup: \n```cmd\nfsutil usn createjournal m=1000 a=100 c:\n```"
  },
  {
   "cell_type": "code",
   "execution_count": null,
   "id": "147a6ab9",
   "metadata": {},
   "outputs": [],
   "source": "Invoke-AtomicTest T1070 -TestNumbers 1 -Cleanup"
  },
  {
   "cell_type": "markdown",
   "id": "e900cf20",
   "metadata": {},
   "source": [
    "### Atomic Test #2 - Indicator Manipulation using FSUtil",
    "Finds a file by user name (if Disk Quotas are enabled), queries allocated ranges for a file, sets a file's short name, sets a file's valid data length, sets zero data for a file, or creates a new file. Upon execution, no output\nwill be displayed. More information about fsutil can be found at https://learn.microsoft.com/en-us/windows-server/administration/windows-commands/fsutil-file\n- https://tria.ge/230601-x8x6bsgb24/behavioral2\n",
    "**Supported Platforms:** windows",
    "\nElevation Required (e.g. root or admin)",
    "#### Attack Commands: Run with `powershell`\n",
    "```powershell\nif (-not (Test-Path \"PathToAtomicsFolder\\..\\ExternalPayloads\\T1070-2.txt\")) { New-Item \"PathToAtomicsFolder\\..\\ExternalPayloads\\T1070-2.txt\" -Force } \necho \"1234567890\" > \"PathToAtomicsFolder\\..\\ExternalPayloads\\T1070-2.txt\"\nfsutil  file setZeroData offset=0 length=10 \"PathToAtomicsFolder\\..\\ExternalPayloads\\T1070-2.txt\"\n```"
   ]
  },
  {
   "cell_type": "code",
   "execution_count": null,
   "id": "68d2309c",
   "metadata": {},
   "outputs": [],
   "source": "Invoke-AtomicTest T1070 -TestNumbers 2"
  },
  {
   "cell_type": "markdown",
   "id": "b97e3b5b",
   "metadata": {},
   "source": "#### Cleanup: \n```powershell\nrm \"PathToAtomicsFolder\\..\\ExternalPayloads\\T1070-2.txt\"\n```"
  },
  {
   "cell_type": "code",
   "execution_count": null,
   "id": "dbc0a5be",
   "metadata": {},
   "outputs": [],
   "source": "Invoke-AtomicTest T1070 -TestNumbers 2 -Cleanup"
  },
  {
   "cell_type": "markdown",
   "id": "6044fd09",
   "metadata": {},
   "source": "## Detection\nFile system monitoring may be used to detect improper deletion or modification of indicator files.  Events not stored on the file system may require different detection mechanisms."
  },
  {
   "cell_type": "markdown",
   "id": "deb7a081",
   "metadata": {},
   "source": "\n## Shield Active Defense\n### Admin Access \n Modify a user's administrative privileges.\n \n\n Changing the target system to allow or disallow users to perform tasks requiring administrator level permissions gives the defender leverage in inhibiting or facilitating attacks.  The procedures for changing these permissions vary across different operating and software systems.\n#### Opportunity\nIn an adversary engagement scenario, there is an opportunity to allow or restrict admin access to support your defensive objectives.\n#### Use Case\nA defender can restrict admin access to force an adversary to escalate privileges in order to delete logs and captured artifacts from a system.\n#### Procedures\nRemove an account's administrative access from a system or service to require an adversary to reveal techniques for elevating privileges in order to accomplish certain tasks.\nGrant an account administrative access to a system or service to enable an adversary to take advantage of those privileges if they compromise the system or service.\n"
  }
 ],
 "metadata": {
  "kernelspec": {
   "display_name": ".NET (PowerShell)",
   "language": "pwsh",
   "name": ".net-powershell"
  },
  "language_info": {
   "file_extension": ".ps1",
   "mimetype": "text/x-powershell",
   "name": "pwsh",
   "pygments_lexer": "powershell",
   "version": "7.0"
  }
 },
 "nbformat": 4,
 "nbformat_minor": 5
}