{
 "cells": [
  {
   "cell_type": "markdown",
   "id": "f08eb8ce",
   "metadata": {},
   "source": "# T1222.001 - Windows File and Directory Permissions Modification\nAdversaries may modify file or directory permissions/attributes to evade access control lists (ACLs) and access protected files.(Citation: Hybrid Analysis Icacls1 June 2018)(Citation: Hybrid Analysis Icacls2 May 2018) File and directory permissions are commonly managed by ACLs configured by the file or directory owner, or users with the appropriate permissions. File and directory ACL implementations vary by platform, but generally explicitly designate which users or groups can perform which actions (read, write, execute, etc.).\n\nWindows implements file and directory ACLs as Discretionary Access Control Lists (DACLs).(Citation: Microsoft DACL May 2018) Similar to a standard ACL, DACLs identifies the accounts that are allowed or denied access to a securable object. When an attempt is made to access a securable object, the system checks the access control entries in the DACL in order. If a matching entry is found, access to the object is granted. Otherwise, access is denied.(Citation: Microsoft Access Control Lists May 2018)\n\nAdversaries can interact with the DACLs using built-in Windows commands, such as `icacls`, `cacls`, `takeown`, and `attrib`, which can grant adversaries higher permissions on specific files and folders. Further, [PowerShell](https://attack.mitre.org/techniques/T1059/001) provides cmdlets that can be used to retrieve or modify file and directory DACLs. Specific file and directory modifications may be a required step for many techniques, such as establishing Persistence via [Accessibility Features](https://attack.mitre.org/techniques/T1546/008), [Boot or Logon Initialization Scripts](https://attack.mitre.org/techniques/T1037), or tainting/hijacking other instrumental binary/configuration files via [Hijack Execution Flow](https://attack.mitre.org/techniques/T1574)."
  },
  {
   "cell_type": "markdown",
   "id": "b17fb0dd",
   "metadata": {},
   "source": "## Atomic Tests"
  },
  {
   "cell_type": "markdown",
   "id": "4e39b8ae",
   "metadata": {},
   "source": "### Atomic Test #1 - Take ownership using takeown utility\nModifies the filesystem permissions of the specified file or folder to take ownership of the object. Upon execution, \"SUCCESS\" will\nbe displayed for the folder and each file inside of it.\n\n**Supported Platforms:** windows\n#### Dependencies:  Run with `command_prompt`!\n##### Description: Test requrires a file to take ownership of to be located at (#{file_folder_to_own})\n\n##### Check Prereq Commands:\n```cmd\nIF EXIST %temp%\\T1222.001_takeown_folder ( EXIT 0 ) ELSE ( EXIT 1 )\n\n```\n##### Get Prereq Commands:\n```cmd\nmkdir %temp%\\T1222.001_takeown_folder\necho T1222.001_takeown1 >> %temp%\\T1222.001_takeown_folder\\T1222.001_takeown1.txt\necho T1222.001_takeown2 >> %temp%\\T1222.001_takeown_folder\\T1222.001_takeown2.txt\n\n```"
  },
  {
   "cell_type": "code",
   "execution_count": null,
   "id": "e7a583a5",
   "metadata": {},
   "outputs": [],
   "source": "Invoke-AtomicTest T1222.001 -TestNumbers 1 -GetPreReqs"
  },
  {
   "cell_type": "markdown",
   "id": "266b0546",
   "metadata": {},
   "source": [
    "#### Attack Commands: Run with `command_prompt`\n",
    "```command_prompt\ntakeown.exe /f %temp%\\T1222.001_takeown_folder /r\n```"
   ]
  },
  {
   "cell_type": "code",
   "execution_count": null,
   "id": "a29546e3",
   "metadata": {},
   "outputs": [],
   "source": "Invoke-AtomicTest T1222.001 -TestNumbers 1"
  },
  {
   "cell_type": "markdown",
   "id": "36099709",
   "metadata": {},
   "source": "### Atomic Test #2 - cacls - Grant permission to specified user or group recursively\nModifies the filesystem permissions of the specified folder and contents to allow the specified user or group Full Control. If \"Access is denied\"\nis displayed it may be because the file or folder doesn't exit. Run the prereq command to create it. Upon successfull execution, \"Successfully processed 3 files\"\nwill be displayed.\n\n**Supported Platforms:** windows\n#### Dependencies:  Run with `command_prompt`!\n##### Description: Test requrires a file to modify to be located at (#{file_or_folder})\n\n##### Check Prereq Commands:\n```cmd\nIF EXIST %temp%\\T1222.001_cacls ( EXIT 0 ) ELSE ( EXIT 1 )\n\n```\n##### Get Prereq Commands:\n```cmd\nmkdir %temp%\\T1222.001_cacls\necho T1222.001_cacls1 >> %temp%\\T1222.001_cacls\\T1222.001_cacls1.txt\necho T1222.001_cacls2 >> %temp%\\T1222.001_cacls\\T1222.001_cacls2.txt\n\n```"
  },
  {
   "cell_type": "code",
   "execution_count": null,
   "id": "0061b7d7",
   "metadata": {},
   "outputs": [],
   "source": "Invoke-AtomicTest T1222.001 -TestNumbers 2 -GetPreReqs"
  },
  {
   "cell_type": "markdown",
   "id": "d21546f5",
   "metadata": {},
   "source": [
    "#### Attack Commands: Run with `command_prompt`\n",
    "```command_prompt\nicacls.exe %temp%\\T1222.001_cacls /grant Everyone:F\n```"
   ]
  },
  {
   "cell_type": "code",
   "execution_count": null,
   "id": "777febf6",
   "metadata": {},
   "outputs": [],
   "source": "Invoke-AtomicTest T1222.001 -TestNumbers 2"
  },
  {
   "cell_type": "markdown",
   "id": "8a65dc8f",
   "metadata": {},
   "source": "### Atomic Test #3 - attrib - Remove read-only attribute\nRemoves the read-only attribute from a file or folder using the attrib.exe command. Upon execution, no output will be displayed.\nOpen the file in File Explorer > Right Click - Prperties and observe that the Read Only checkbox is empty.\n\n**Supported Platforms:** windows\n#### Dependencies:  Run with `command_prompt`!\n##### Description: Test requrires a file to modify to be located at (#{file_or_folder})\n\n##### Check Prereq Commands:\n```cmd\nIF EXIST %temp%\\T1222.001_attrib ( EXIT 0 ) ELSE ( EXIT 1 )\n\n```\n##### Get Prereq Commands:\n```cmd\nmkdir %temp%\\T1222.001_attrib\necho T1222.001_attrib1 >> %temp%\\T1222.001_attrib\\T1222.001_attrib1.txt\necho T1222.001_attrib2 >> %temp%\\T1222.001_attrib\\T1222.001_attrib2.txt\nattrib.exe +r %temp%\\T1222.001_attrib\\T1222.001_attrib1.txt\nattrib.exe +r %temp%\\T1222.001_attrib\\T1222.001_attrib2.txt\n\n```"
  },
  {
   "cell_type": "code",
   "execution_count": null,
   "id": "bddb3146",
   "metadata": {},
   "outputs": [],
   "source": "Invoke-AtomicTest T1222.001 -TestNumbers 3 -GetPreReqs"
  },
  {
   "cell_type": "markdown",
   "id": "d9b87406",
   "metadata": {},
   "source": [
    "#### Attack Commands: Run with `command_prompt`\n",
    "```command_prompt\nattrib.exe -r %temp%\\T1222.001_attrib\\*.* /s\n```"
   ]
  },
  {
   "cell_type": "code",
   "execution_count": null,
   "id": "d4747897",
   "metadata": {},
   "outputs": [],
   "source": "Invoke-AtomicTest T1222.001 -TestNumbers 3"
  },
  {
   "cell_type": "markdown",
   "id": "9120ea27",
   "metadata": {},
   "source": [
    "### Atomic Test #4 - attrib - hide file",
    "Attackers leverage an existing Windows binary, attrib.exe, to mark specific files or folder as hidden by using specific flags so that\nthe victim does not see the file.\n",
    "**Supported Platforms:** windows",
    "#### Attack Commands: Run with `command_prompt`\n",
    "```command_prompt\nmkdir %temp%\\T1222.001_attrib_2 >nul 2>&1\necho T1222.001_attrib1 >> %temp%\\T1222.001_attrib_2\\T1222.001_attrib1.txt\necho T1222.001_attrib2 >> %temp%\\T1222.001_attrib_2\\T1222.001_attrib2.txt\nattrib.exe +h %temp%\\T1222.001_attrib_2\\T1222.001_attrib1.txt\nattrib.exe +h %temp%\\T1222.001_attrib_2\\T1222.001_attrib2.txt\n```"
   ]
  },
  {
   "cell_type": "code",
   "execution_count": null,
   "id": "03005d08",
   "metadata": {},
   "outputs": [],
   "source": "Invoke-AtomicTest T1222.001 -TestNumbers 4"
  },
  {
   "cell_type": "markdown",
   "id": "f5cf0673",
   "metadata": {},
   "source": "#### Cleanup: \n```cmd\ndel /A:H %temp%\\T1222.001_attrib_2\\T1222.001_attrib*.txt >nul 2>&1\n```"
  },
  {
   "cell_type": "code",
   "execution_count": null,
   "id": "9d198815",
   "metadata": {},
   "outputs": [],
   "source": "Invoke-AtomicTest T1222.001 -TestNumbers 4 -Cleanup"
  },
  {
   "cell_type": "markdown",
   "id": "c87b0254",
   "metadata": {},
   "source": "### Atomic Test #5 - Grant Full Access to folder for Everyone - Ryuk Ransomware Style\nInvokes the command line similar to that used by Ryuk Ransomware to grant full access to the entire C:\\ drive for Everyone.\n**icacls \"C:\\*\" /grant Everyone:F /T /C /Q**\nHowever, for this atomic we set the permission on C:\\Users\\Public so it completes faster and doesn't irreversibly affect the host.\nYou can set your own path variable to \"C:\\*\" if you prefer.\n\n**Supported Platforms:** windows\n\nElevation Required (e.g. root or admin)\n#### Dependencies:  Run with `command_prompt`!\n##### Description: Backup of original folder permissions should exist (for use in cleanup commands)\n\n##### Check Prereq Commands:\n```cmd\nIF EXIST %temp%\\T1222.001-folder-perms-backup.txt ( EXIT 0 ) ELSE ( EXIT 1 )\n\n```\n##### Get Prereq Commands:\n```cmd\nicacls C:\\Users\\Public\\* /save %temp%\\T1222.001-folder-perms-backup.txt /t /q >nul 2>&1\n\n```"
  },
  {
   "cell_type": "code",
   "execution_count": null,
   "id": "ca6bbe0a",
   "metadata": {},
   "outputs": [],
   "source": "Invoke-AtomicTest T1222.001 -TestNumbers 5 -GetPreReqs"
  },
  {
   "cell_type": "markdown",
   "id": "9246f730",
   "metadata": {},
   "source": [
    "#### Attack Commands: Run with `command_prompt`\n",
    "```command_prompt\nicacls \"C:\\Users\\Public\\*\" /grant Everyone:F /T /C /Q```"
   ]
  },
  {
   "cell_type": "code",
   "execution_count": null,
   "id": "51432773",
   "metadata": {},
   "outputs": [],
   "source": "Invoke-AtomicTest T1222.001 -TestNumbers 5"
  },
  {
   "cell_type": "markdown",
   "id": "e78b3617",
   "metadata": {},
   "source": "#### Cleanup: \n```cmd\nicacls 'C:\\Users\\Public\\*' /restore %temp%\\T1222.001-folder-perms-backup.txt /q >nul 2>&1\n```"
  },
  {
   "cell_type": "code",
   "execution_count": null,
   "id": "794df695",
   "metadata": {},
   "outputs": [],
   "source": "Invoke-AtomicTest T1222.001 -TestNumbers 5 -Cleanup"
  },
  {
   "cell_type": "markdown",
   "id": "4284aff8",
   "metadata": {},
   "source": "## Detection\nMonitor and investigate attempts to modify DACLs and file/directory ownership. Many of the commands used to modify DACLs and file/directory ownership are built-in system utilities and may generate a high false positive alert rate, so compare against baseline knowledge for how systems are typically used and correlate modification events with other indications of malicious activity where possible.\n\nConsider enabling file/directory permission change auditing on folders containing key binary/configuration files. For example, Windows Security Log events (Event ID 4670) are created when DACLs are modified.(Citation: EventTracker File Permissions Feb 2014)"
  }
 ],
 "metadata": {
  "kernelspec": {
   "display_name": ".NET (PowerShell)",
   "language": "pwsh",
   "name": ".net-powershell"
  },
  "language_info": {
   "file_extension": ".ps1",
   "mimetype": "text/x-powershell",
   "name": "pwsh",
   "pygments_lexer": "powershell",
   "version": "7.0"
  }
 },
 "nbformat": 4,
 "nbformat_minor": 5
}