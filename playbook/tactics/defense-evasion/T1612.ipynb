{
 "cells": [
  {
   "cell_type": "markdown",
   "id": "0430bfd4",
   "metadata": {},
   "source": "# T1612 - Build Image on Host\nAdversaries may build a container image directly on a host to bypass defenses that monitor for the retrieval of malicious images from a public registry. A remote <code>build</code> request may be sent to the Docker API that includes a Dockerfile that pulls a vanilla base image, such as alpine, from a public or local registry and then builds a custom image upon it.(Citation: Docker Build Image)\n\nAn adversary may take advantage of that <code>build</code> API to build a custom image on the host that includes malware downloaded from their C2 server, and then they may utilize [Deploy Container](https://attack.mitre.org/techniques/T1610) using that custom image.(Citation: Aqua Build Images on Hosts)(Citation: Aqua Security Cloud Native Threat Report June 2021) If the base image is pulled from a public registry, defenses will likely not detect the image as malicious since it\u2019s a vanilla image. If the base image already resides in a local registry, the pull may be considered even less suspicious since the image is already in the environment. "
  },
  {
   "cell_type": "markdown",
   "id": "fe64a4b5",
   "metadata": {},
   "source": "## Atomic Tests"
  },
  {
   "cell_type": "markdown",
   "id": "ae7931c4",
   "metadata": {},
   "source": "### Atomic Test #1 - Build Image On Host\nAdversaries may build a container image directly on a host to bypass defenses that monitor for the retrieval of malicious images from a public registry. An adversary may take advantage of that build API to build a custom image on the host that includes malware downloaded from their C2 server, and then they then may utilize Deploy Container using that custom image.\n**Supported Platforms:** containers\n#### Dependencies:  Run with `sh`!\n##### Description: Verify docker is installed.\n##### Check Prereq Commands:\n```sh\nwhich docker\n\n```\n##### Get Prereq Commands:\n```sh\nif [ \"\" == \"`which docker`\" ]; then echo \"Docker Not Found\"; if [ -n \"`which apt-get`\" ]; then sudo apt-get -y install docker ; elif [ -n \"`which yum`\" ]; then sudo yum -y install docker ; fi ; else echo \"Docker installed\"; fi\n\n```\n##### Description: Verify docker service is running.\n##### Check Prereq Commands:\n```sh\nsudo systemctl status docker  --no-pager\n\n```\n##### Get Prereq Commands:\n```sh\nsudo systemctl start docker\n\n```"
  },
  {
   "cell_type": "code",
   "execution_count": null,
   "id": "e4dbd2d2",
   "metadata": {},
   "outputs": [],
   "source": "Invoke-AtomicTest T1612 -TestNumbers 1 -GetPreReqs"
  },
  {
   "cell_type": "markdown",
   "id": "20a5280a",
   "metadata": {},
   "source": [
    "#### Attack Commands: Run with `sh`\n",
    "```sh\ndocker build -t t1612  $PathtoAtomicsFolder/T1612/src/\ndocker run --name t1612_container  -d -t t1612\ndocker exec t1612_container ./test.sh```"
   ]
  },
  {
   "cell_type": "code",
   "execution_count": null,
   "id": "0b3a3278",
   "metadata": {},
   "outputs": [],
   "source": "Invoke-AtomicTest T1612 -TestNumbers 1"
  },
  {
   "cell_type": "markdown",
   "id": "39831f66",
   "metadata": {},
   "source": "#### Cleanup: \n```sh\ndocker stop t1612_container\ndocker rmi -f t1612```"
  },
  {
   "cell_type": "code",
   "execution_count": null,
   "id": "fa5d847c",
   "metadata": {},
   "outputs": [],
   "source": "Invoke-AtomicTest T1612 -TestNumbers 1 -Cleanup"
  },
  {
   "cell_type": "markdown",
   "id": "44aac078",
   "metadata": {},
   "source": "## Detection\nMonitor for unexpected Docker image build requests to the Docker daemon on hosts in the environment. Additionally monitor for subsequent network communication with anomalous IPs that have never been seen before in the environment that indicate the download of malicious code."
  }
 ],
 "metadata": {
  "kernelspec": {
   "display_name": ".NET (PowerShell)",
   "language": "pwsh",
   "name": ".net-powershell"
  },
  "language_info": {
   "file_extension": ".ps1",
   "mimetype": "text/x-powershell",
   "name": "pwsh",
   "pygments_lexer": "powershell",
   "version": "7.0"
  }
 },
 "nbformat": 4,
 "nbformat_minor": 5
}