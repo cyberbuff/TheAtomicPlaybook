{
 "cells": [
  {
   "cell_type": "markdown",
   "id": "7b42f647",
   "metadata": {},
   "source": "# T1202 - Indirect Command Execution\nAdversaries may abuse utilities that allow for command execution to bypass security restrictions that limit the use of command-line interpreters. Various Windows utilities may be used to execute commands, possibly without invoking [cmd](https://attack.mitre.org/software/S0106). For example, [Forfiles](https://attack.mitre.org/software/S0193), the Program Compatibility Assistant (pcalua.exe), components of the Windows Subsystem for Linux (WSL), as well as other utilities may invoke the execution of programs and commands from a [Command and Scripting Interpreter](https://attack.mitre.org/techniques/T1059), Run window, or via scripts. (Citation: VectorSec ForFiles Aug 2017) (Citation: Evi1cg Forfiles Nov 2017)\n\nAdversaries may abuse these features for [Defense Evasion](https://attack.mitre.org/tactics/TA0005), specifically to perform arbitrary execution while subverting detections and/or mitigation controls (such as Group Policy) that limit/prevent the usage of [cmd](https://attack.mitre.org/software/S0106) or file extensions more commonly associated with malicious payloads."
  },
  {
   "cell_type": "markdown",
   "id": "5330f8e6",
   "metadata": {},
   "source": "## Atomic Tests"
  },
  {
   "cell_type": "markdown",
   "id": "6e58d812",
   "metadata": {},
   "source": [
    "### Atomic Test #1 - Indirect Command Execution - pcalua.exe",
    "The Program Compatibility Assistant (pcalua.exe) may invoke the execution of programs and commands from a Command-Line Interface.\n[Reference](https://twitter.com/KyleHanslovan/status/912659279806640128)\nUpon execution, calc.exe should open\n",
    "**Supported Platforms:** windows",
    "#### Attack Commands: Run with `command_prompt`\n",
    "```command_prompt\npcalua.exe -a calc.exe\npcalua.exe -a C:\\Windows\\System32\\calc.exe\n```"
   ]
  },
  {
   "cell_type": "code",
   "execution_count": null,
   "id": "1b079858",
   "metadata": {},
   "outputs": [],
   "source": "Invoke-AtomicTest T1202 -TestNumbers 1"
  },
  {
   "cell_type": "markdown",
   "id": "213dbffe",
   "metadata": {},
   "source": [
    "### Atomic Test #2 - Indirect Command Execution - forfiles.exe",
    "forfiles.exe may invoke the execution of programs and commands from a Command-Line Interface.\n[Reference](https://github.com/LOLBAS-Project/LOLBAS/blob/master/yml/OSBinaries/Forfiles.yml)\n\"This is basically saying for each occurrence of notepad.exe in c:\\windows\\system32 run calc.exe\"\nUpon execution calc.exe will be opened.\n",
    "**Supported Platforms:** windows",
    "#### Attack Commands: Run with `command_prompt`\n",
    "```command_prompt\nforfiles /p c:\\windows\\system32 /m notepad.exe /c calc.exe\n```"
   ]
  },
  {
   "cell_type": "code",
   "execution_count": null,
   "id": "61b983cd",
   "metadata": {},
   "outputs": [],
   "source": "Invoke-AtomicTest T1202 -TestNumbers 2"
  },
  {
   "cell_type": "markdown",
   "id": "77f2a2b0",
   "metadata": {},
   "source": [
    "### Atomic Test #3 - Indirect Command Execution - conhost.exe",
    "conhost.exe refers to a host process for the console window. It provide an interface between command prompt and Windows explorer.\nExecuting it through command line can create process ancestry anomalies\n[Reference] (http://www.hexacorn.com/blog/2020/05/25/how-to-con-your-host/)\n",
    "**Supported Platforms:** windows",
    "#### Attack Commands: Run with `command_prompt`\n",
    "```command_prompt\nconhost.exe \"notepad.exe\"\n```"
   ]
  },
  {
   "cell_type": "code",
   "execution_count": null,
   "id": "7617f394",
   "metadata": {},
   "outputs": [],
   "source": "Invoke-AtomicTest T1202 -TestNumbers 3"
  },
  {
   "cell_type": "markdown",
   "id": "2ebd5f58",
   "metadata": {},
   "source": "## Detection\nMonitor and analyze logs from host-based detection mechanisms, such as Sysmon, for events such as process creations that include or are resulting from parameters associated with invoking programs/commands/files and/or spawning child processes/network connections. (Citation: RSA Forfiles Aug 2017)"
  },
  {
   "cell_type": "markdown",
   "id": "3836ad85",
   "metadata": {},
   "source": "\n## Shield Active Defense\n### Behavioral Analytics \n Deploy tools that detect unusual system or user behavior.\n \n\n Instrument a system to collect detailed information about process execution and user activity, develop a sense of normal or expected behaviors, and alert on abnormal or unexpected activity.  This can be accomplished either onboard the target system or by shipping data to a centralized analysis and alerting system.\n#### Opportunity\nThere is an opportunity to detect the presence of an adversary by identifying and alerting on anomalous behaviors.\n#### Use Case\nA defender can implement behavior analytics which would indicate activity on a system executing commands in non-standard ways. This could indicate malicious activity.\n#### Procedures\nUse behavioral analytics to detect Living Off The Land Binaries (LOLBins) being used to download and execute a file.\nUse behavioral analytics to identify a system running development tools, but is not used by someone who does development.\nUse behavioral analytics to identify abnormal system processes being used to launch a different process.\n"
  }
 ],
 "metadata": {
  "kernelspec": {
   "display_name": ".NET (PowerShell)",
   "language": "pwsh",
   "name": ".net-powershell"
  },
  "language_info": {
   "file_extension": ".ps1",
   "mimetype": "text/x-powershell",
   "name": "pwsh",
   "pygments_lexer": "powershell",
   "version": "7.0"
  }
 },
 "nbformat": 4,
 "nbformat_minor": 5
}