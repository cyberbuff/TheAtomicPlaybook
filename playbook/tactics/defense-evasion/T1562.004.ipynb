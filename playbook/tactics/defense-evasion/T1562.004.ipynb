{
 "cells": [
  {
   "cell_type": "markdown",
   "id": "13a870d5",
   "metadata": {},
   "source": "# T1562.004 - Disable or Modify System Firewall\nAdversaries may disable or modify system firewalls in order to bypass controls limiting network usage. Changes could be disabling the entire mechanism as well as adding, deleting, or modifying particular rules. This can be done numerous ways depending on the operating system, including via command-line, editing Windows Registry keys, and Windows Control Panel.\n\nModifying or disabling a system firewall may enable adversary C2 communications, lateral movement, and/or data exfiltration that would otherwise not be allowed. "
  },
  {
   "cell_type": "markdown",
   "id": "68db3084",
   "metadata": {},
   "source": "## Atomic Tests"
  },
  {
   "cell_type": "markdown",
   "id": "0d99ec44",
   "metadata": {},
   "source": [
    "### Atomic Test #1 - Disable Microsoft Defender Firewall",
    "Disables the Microsoft Defender Firewall for the current profile.\nCaution if you access remotely the host where the test runs! Especially with the cleanup command which will re-enable firewall for the current profile...\n",
    "**Supported Platforms:** windows",
    "#### Attack Commands: Run with `command_prompt`\n",
    "```command_prompt\nnetsh advfirewall set currentprofile state off\n```"
   ]
  },
  {
   "cell_type": "code",
   "execution_count": null,
   "id": "18d4498a",
   "metadata": {},
   "outputs": [],
   "source": "Invoke-AtomicTest T1562.004 -TestNumbers 1"
  },
  {
   "cell_type": "markdown",
   "id": "7d21eab4",
   "metadata": {},
   "source": "#### Cleanup: \n```cmd\nnetsh advfirewall set currentprofile state on >nul 2>&1\n```"
  },
  {
   "cell_type": "code",
   "execution_count": null,
   "id": "f69fc1f3",
   "metadata": {},
   "outputs": [],
   "source": "Invoke-AtomicTest T1562.004 -TestNumbers 1 -Cleanup"
  },
  {
   "cell_type": "markdown",
   "id": "cf2437c7",
   "metadata": {},
   "source": [
    "### Atomic Test #2 - Disable Microsoft Defender Firewall via Registry",
    "Disables the Microsoft Defender Firewall for the public profile via registry\nCaution if you access remotely the host where the test runs! Especially with the cleanup command which will re-enable firewall for the current profile...\n",
    "**Supported Platforms:** windows",
    "#### Attack Commands: Run with `command_prompt`\n",
    "```command_prompt\nreg add \"HKEY_LOCAL_MACHINE\\SYSTEM\\CurrentControlSet\\Services\\SharedAccess\\Parameters\\FirewallPolicy\\PublicProfile\" /v \"EnableFirewall\" /t REG_DWORD /d 0 /f\n```"
   ]
  },
  {
   "cell_type": "code",
   "execution_count": null,
   "id": "cf687300",
   "metadata": {},
   "outputs": [],
   "source": "Invoke-AtomicTest T1562.004 -TestNumbers 2"
  },
  {
   "cell_type": "markdown",
   "id": "206c1f12",
   "metadata": {},
   "source": "#### Cleanup: \n```cmd\nreg add \"HKEY_LOCAL_MACHINE\\SYSTEM\\CurrentControlSet\\Services\\SharedAccess\\Parameters\\FirewallPolicy\\PublicProfile\" /v \"EnableFirewall\" /t REG_DWORD /d 1 /f\n```"
  },
  {
   "cell_type": "code",
   "execution_count": null,
   "id": "54197fb1",
   "metadata": {},
   "outputs": [],
   "source": "Invoke-AtomicTest T1562.004 -TestNumbers 2 -Cleanup"
  },
  {
   "cell_type": "markdown",
   "id": "0c515fcf",
   "metadata": {},
   "source": [
    "### Atomic Test #3 - Allow SMB and RDP on Microsoft Defender Firewall",
    "Allow all SMB and RDP rules on the Microsoft Defender Firewall for all profiles.\nCaution if you access remotely the host where the test runs! Especially with the cleanup command which will reset the firewall and risk disabling those services...\n",
    "**Supported Platforms:** windows",
    "#### Attack Commands: Run with `command_prompt`\n",
    "```command_prompt\nnetsh advfirewall firewall set rule group=\"remote desktop\" new enable=Yes\nnetsh advfirewall firewall set rule group=\"file and printer sharing\" new enable=Yes\n```"
   ]
  },
  {
   "cell_type": "code",
   "execution_count": null,
   "id": "5f7a8301",
   "metadata": {},
   "outputs": [],
   "source": "Invoke-AtomicTest T1562.004 -TestNumbers 3"
  },
  {
   "cell_type": "markdown",
   "id": "183fd447",
   "metadata": {},
   "source": "#### Cleanup: \n```cmd\nnetsh advfirewall reset >nul 2>&1\n```"
  },
  {
   "cell_type": "code",
   "execution_count": null,
   "id": "d94c957c",
   "metadata": {},
   "outputs": [],
   "source": "Invoke-AtomicTest T1562.004 -TestNumbers 3 -Cleanup"
  },
  {
   "cell_type": "markdown",
   "id": "f57d2481",
   "metadata": {},
   "source": [
    "### Atomic Test #4 - Opening ports for proxy - HARDRAIN",
    "This test creates a listening interface on a victim device. This tactic was used by HARDRAIN for proxying.\n\nreference: https://www.us-cert.gov/sites/default/files/publications/MAR-10135536-F.pdf\n",
    "**Supported Platforms:** windows",
    "\nElevation Required (e.g. root or admin)",
    "#### Attack Commands: Run with `command_prompt`\n",
    "```command_prompt\nnetsh advfirewall firewall add rule name=\"atomic testing\" action=allow dir=in protocol=TCP localport=450 \n```"
   ]
  },
  {
   "cell_type": "code",
   "execution_count": null,
   "id": "c80cd658",
   "metadata": {},
   "outputs": [],
   "source": "Invoke-AtomicTest T1562.004 -TestNumbers 4"
  },
  {
   "cell_type": "markdown",
   "id": "1147309d",
   "metadata": {},
   "source": "#### Cleanup: \n```cmd\nnetsh advfirewall firewall delete rule name=\"atomic testing\" protocol=TCP localport=450 >nul 2>&1```"
  },
  {
   "cell_type": "code",
   "execution_count": null,
   "id": "6dcabdc1",
   "metadata": {},
   "outputs": [],
   "source": "Invoke-AtomicTest T1562.004 -TestNumbers 4 -Cleanup"
  },
  {
   "cell_type": "markdown",
   "id": "0b38fdfc",
   "metadata": {},
   "source": [
    "### Atomic Test #5 - Open a local port through Windows Firewall to any profile",
    "This test will attempt to open a local port defined by input arguments to any profile",
    "**Supported Platforms:** windows",
    "\nElevation Required (e.g. root or admin)",
    "#### Attack Commands: Run with `powershell`\n",
    "```powershell\nnetsh advfirewall firewall add rule name=\"Open Port to Any\" dir=in protocol=tcp localport=3389 action=allow profile=any```"
   ]
  },
  {
   "cell_type": "code",
   "execution_count": null,
   "id": "a5bf559e",
   "metadata": {},
   "outputs": [],
   "source": "Invoke-AtomicTest T1562.004 -TestNumbers 5"
  },
  {
   "cell_type": "markdown",
   "id": "cd817e24",
   "metadata": {},
   "source": "#### Cleanup: \n```powershell\nnetsh advfirewall firewall delete rule name=\"Open Port to Any\" | Out-Null```"
  },
  {
   "cell_type": "code",
   "execution_count": null,
   "id": "cbc22f1f",
   "metadata": {},
   "outputs": [],
   "source": "Invoke-AtomicTest T1562.004 -TestNumbers 5 -Cleanup"
  },
  {
   "cell_type": "markdown",
   "id": "2f67118c",
   "metadata": {},
   "source": [
    "### Atomic Test #6 - Allow Executable Through Firewall Located in Non-Standard Location",
    "This test will attempt to allow an executable through the system firewall located in the Users directory",
    "**Supported Platforms:** windows",
    "\nElevation Required (e.g. root or admin)",
    "#### Attack Commands: Run with `powershell`\n",
    "```powershell\nCopy-Item PathToAtomicsFolder\\T1562.004\\bin\\AtomicTest.exe -Destination \"C:\\Users\\$env:UserName\" -Force\nnetsh advfirewall firewall add rule name=\"Atomic Test\" dir=in action=allow program=\"C:\\Users\\$env:UserName\\AtomicTest.exe\" enable=yes\n```"
   ]
  },
  {
   "cell_type": "code",
   "execution_count": null,
   "id": "06ccaac7",
   "metadata": {},
   "outputs": [],
   "source": "Invoke-AtomicTest T1562.004 -TestNumbers 6"
  },
  {
   "cell_type": "markdown",
   "id": "eaf79304",
   "metadata": {},
   "source": "#### Cleanup: \n```powershell\nnetsh advfirewall firewall delete rule name=\"Atomic Test\" | Out-Null\nRemove-Item C:\\Users\\$env:UserName\\AtomicTest.exe -ErrorAction Ignore\n```"
  },
  {
   "cell_type": "code",
   "execution_count": null,
   "id": "c790e3c7",
   "metadata": {},
   "outputs": [],
   "source": "Invoke-AtomicTest T1562.004 -TestNumbers 6 -Cleanup"
  },
  {
   "cell_type": "markdown",
   "id": "646d279f",
   "metadata": {},
   "source": "### Atomic Test #7 - Stop/Start UFW firewall\nStop the Uncomplicated Firewall (UFW) if installed.\n\n**Supported Platforms:** linux\n\nElevation Required (e.g. root or admin)\n#### Dependencies:  Run with `sh`!\n##### Description: Check if ufw is installed on the machine.\n\n##### Check Prereq Commands:\n```sh\nif [ ! -x \"$(command -v ufw)\" ]; then echo -e \"\\n***** ufw NOT installed *****\\n\"; exit 1; fi\nif echo \"$(ufw status)\" |grep -q \"inactive\"; then echo -e \"\\n***** ufw inactive *****\\n\"; exit 1; fi \n\n```\n##### Get Prereq Commands:\n```sh\necho \"\"\n\n```"
  },
  {
   "cell_type": "code",
   "execution_count": null,
   "id": "68f4d43e",
   "metadata": {},
   "outputs": [],
   "source": "Invoke-AtomicTest T1562.004 -TestNumbers 7 -GetPreReqs"
  },
  {
   "cell_type": "markdown",
   "id": "5c2419f1",
   "metadata": {},
   "source": [
    "#### Attack Commands: Run with `sh`\n",
    "```sh\nufw disable\n```"
   ]
  },
  {
   "cell_type": "code",
   "execution_count": null,
   "id": "199fc947",
   "metadata": {},
   "outputs": [],
   "source": "Invoke-AtomicTest T1562.004 -TestNumbers 7"
  },
  {
   "cell_type": "markdown",
   "id": "a1ac56f2",
   "metadata": {},
   "source": "#### Cleanup: \n```sh\nufw enable\nufw status verbose\n```"
  },
  {
   "cell_type": "code",
   "execution_count": null,
   "id": "fc4a3a37",
   "metadata": {},
   "outputs": [],
   "source": "Invoke-AtomicTest T1562.004 -TestNumbers 7 -Cleanup"
  },
  {
   "cell_type": "markdown",
   "id": "c3a83d13",
   "metadata": {},
   "source": "### Atomic Test #8 - Stop/Start UFW firewall systemctl\nStop the Uncomplicated Firewall (UFW) if installed, using systemctl. \n\n**Supported Platforms:** linux\n\nElevation Required (e.g. root or admin)\n#### Dependencies:  Run with `sh`!\n##### Description: Check if systemctl and ufw is installed on the machine.\n\n##### Check Prereq Commands:\n```sh\nif [ ! -x \"$(command -v systemctl)\" ]; then echo -e \"\\n***** systemctl NOT installed *****\\n\"; exit 1; fi\nif [ ! -x \"$(command -v ufw)\" ]; then echo -e \"\\n***** ufw NOT installed *****\\n\"; exit 1; fi\nif echo \"$(ufw status)\" |grep -q \"inactive\"; then echo -e \"\\n***** ufw inactive *****\\n\"; exit 1; fi \n\n```\n##### Get Prereq Commands:\n```sh\necho \"\"\n\n```"
  },
  {
   "cell_type": "code",
   "execution_count": null,
   "id": "83056f6d",
   "metadata": {},
   "outputs": [],
   "source": "Invoke-AtomicTest T1562.004 -TestNumbers 8 -GetPreReqs"
  },
  {
   "cell_type": "markdown",
   "id": "5aa10b0e",
   "metadata": {},
   "source": [
    "#### Attack Commands: Run with `sh`\n",
    "```sh\nsystemctl stop ufw\n```"
   ]
  },
  {
   "cell_type": "code",
   "execution_count": null,
   "id": "1566954c",
   "metadata": {},
   "outputs": [],
   "source": "Invoke-AtomicTest T1562.004 -TestNumbers 8"
  },
  {
   "cell_type": "markdown",
   "id": "079fcd1c",
   "metadata": {},
   "source": "#### Cleanup: \n```sh\nsystemctl start ufw\nsystemctl status ufw\n```"
  },
  {
   "cell_type": "code",
   "execution_count": null,
   "id": "99e0bbff",
   "metadata": {},
   "outputs": [],
   "source": "Invoke-AtomicTest T1562.004 -TestNumbers 8 -Cleanup"
  },
  {
   "cell_type": "markdown",
   "id": "e04e8830",
   "metadata": {},
   "source": "### Atomic Test #9 - Turn off UFW logging\nTurn off the Uncomplicated Firewall (UFW) logging. \n\n**Supported Platforms:** linux\n\nElevation Required (e.g. root or admin)\n#### Dependencies:  Run with `sh`!\n##### Description: Check if ufw is installed on the machine and enabled.\n\n##### Check Prereq Commands:\n```sh\nif [ ! -x \"$(command -v ufw)\" ]; then echo -e \"\\n***** ufw NOT installed *****\\n\"; exit 1; fi\nif echo \"$(ufw status)\" |grep -q \"inactive\"; then echo -e \"\\n***** ufw inactive *****\\n\"; exit 1; fi \n\n```\n##### Get Prereq Commands:\n```sh\necho \"\"\n\n```"
  },
  {
   "cell_type": "code",
   "execution_count": null,
   "id": "06fdb72e",
   "metadata": {},
   "outputs": [],
   "source": "Invoke-AtomicTest T1562.004 -TestNumbers 9 -GetPreReqs"
  },
  {
   "cell_type": "markdown",
   "id": "42fb7000",
   "metadata": {},
   "source": [
    "#### Attack Commands: Run with `sh`\n",
    "```sh\nufw logging off\n```"
   ]
  },
  {
   "cell_type": "code",
   "execution_count": null,
   "id": "edc0f017",
   "metadata": {},
   "outputs": [],
   "source": "Invoke-AtomicTest T1562.004 -TestNumbers 9"
  },
  {
   "cell_type": "markdown",
   "id": "4ad727c6",
   "metadata": {},
   "source": "#### Cleanup: \n```sh\nufw logging low\nufw status verbose\n```"
  },
  {
   "cell_type": "code",
   "execution_count": null,
   "id": "6942f150",
   "metadata": {},
   "outputs": [],
   "source": "Invoke-AtomicTest T1562.004 -TestNumbers 9 -Cleanup"
  },
  {
   "cell_type": "markdown",
   "id": "0be0c824",
   "metadata": {},
   "source": "### Atomic Test #10 - Add and delete UFW firewall rules\nAdd and delete a rule on the Uncomplicated Firewall (UFW) if installed and enabled. \n\n**Supported Platforms:** linux\n\nElevation Required (e.g. root or admin)\n#### Dependencies:  Run with `sh`!\n##### Description: Check if ufw is installed on the machine and enabled.\n\n##### Check Prereq Commands:\n```sh\nif [ ! -x \"$(command -v ufw)\" ]; then echo -e \"\\n***** ufw NOT installed *****\\n\"; exit 1; fi\nif echo \"$(ufw status)\" |grep -q \"inactive\"; then echo -e \"\\n***** ufw inactive *****\\n\"; exit 1; fi \n\n```\n##### Get Prereq Commands:\n```sh\necho \"\"\n\n```"
  },
  {
   "cell_type": "code",
   "execution_count": null,
   "id": "db6f63b5",
   "metadata": {},
   "outputs": [],
   "source": "Invoke-AtomicTest T1562.004 -TestNumbers 10 -GetPreReqs"
  },
  {
   "cell_type": "markdown",
   "id": "9248207b",
   "metadata": {},
   "source": [
    "#### Attack Commands: Run with `sh`\n",
    "```sh\nufw prepend deny from 1.2.3.4\nufw status numbered\n```"
   ]
  },
  {
   "cell_type": "code",
   "execution_count": null,
   "id": "08280414",
   "metadata": {},
   "outputs": [],
   "source": "Invoke-AtomicTest T1562.004 -TestNumbers 10"
  },
  {
   "cell_type": "markdown",
   "id": "08b3c4f7",
   "metadata": {},
   "source": "#### Cleanup: \n```sh\n{ echo y; echo response; } | ufw delete 1\nufw status numbered\n```"
  },
  {
   "cell_type": "code",
   "execution_count": null,
   "id": "84285dcc",
   "metadata": {},
   "outputs": [],
   "source": "Invoke-AtomicTest T1562.004 -TestNumbers 10 -Cleanup"
  },
  {
   "cell_type": "markdown",
   "id": "165af4a7",
   "metadata": {},
   "source": "### Atomic Test #11 - Edit UFW firewall user.rules file\nEdit the Uncomplicated Firewall (UFW) rules file /etc/ufw/user.rules.\n\n**Supported Platforms:** linux\n\nElevation Required (e.g. root or admin)\n#### Dependencies:  Run with `sh`!\n##### Description: Check if /etc/ufw/user.rules exists.\n\n##### Check Prereq Commands:\n```sh\nif [ ! -f \"/etc/ufw/user.rules\" ]; then echo -e \"\\n***** ufw NOT installed *****\\n\"; exit 1; fi\n\n```\n##### Get Prereq Commands:\n```sh\necho \"\"\n\n```"
  },
  {
   "cell_type": "code",
   "execution_count": null,
   "id": "eefdf8ee",
   "metadata": {},
   "outputs": [],
   "source": "Invoke-AtomicTest T1562.004 -TestNumbers 11 -GetPreReqs"
  },
  {
   "cell_type": "markdown",
   "id": "4ecb3c08",
   "metadata": {},
   "source": [
    "#### Attack Commands: Run with `sh`\n",
    "```sh\necho \"# THIS IS A COMMENT\" >> /etc/ufw/user.rules\ngrep \"# THIS IS A COMMENT\" /etc/ufw/user.rules\n```"
   ]
  },
  {
   "cell_type": "code",
   "execution_count": null,
   "id": "18e8d63d",
   "metadata": {},
   "outputs": [],
   "source": "Invoke-AtomicTest T1562.004 -TestNumbers 11"
  },
  {
   "cell_type": "markdown",
   "id": "e961b777",
   "metadata": {},
   "source": "#### Cleanup: \n```sh\nsed -i 's/# THIS IS A COMMENT//g' /etc/ufw/user.rules\n```"
  },
  {
   "cell_type": "code",
   "execution_count": null,
   "id": "83a8ab0f",
   "metadata": {},
   "outputs": [],
   "source": "Invoke-AtomicTest T1562.004 -TestNumbers 11 -Cleanup"
  },
  {
   "cell_type": "markdown",
   "id": "d2948fef",
   "metadata": {},
   "source": "### Atomic Test #12 - Edit UFW firewall ufw.conf file\nEdit the Uncomplicated Firewall (UFW) configuration file /etc/ufw/ufw.conf \nwhich controls if the firewall starts on boot and its logging level.\n\n**Supported Platforms:** linux\n\nElevation Required (e.g. root or admin)\n#### Dependencies:  Run with `sh`!\n##### Description: Check if /etc/ufw/ufw.conf exists.\n\n##### Check Prereq Commands:\n```sh\nif [ ! -f \"/etc/ufw/ufw.conf\" ]; then echo -e \"\\n***** ufw NOT installed *****\\n\"; exit 1; fi\n\n```\n##### Get Prereq Commands:\n```sh\necho \"\"\n\n```"
  },
  {
   "cell_type": "code",
   "execution_count": null,
   "id": "2026ba93",
   "metadata": {},
   "outputs": [],
   "source": "Invoke-AtomicTest T1562.004 -TestNumbers 12 -GetPreReqs"
  },
  {
   "cell_type": "markdown",
   "id": "8464435b",
   "metadata": {},
   "source": [
    "#### Attack Commands: Run with `sh`\n",
    "```sh\necho \"# THIS IS A COMMENT\" >> /etc/ufw/ufw.conf\ngrep \"# THIS IS A COMMENT\" /etc/ufw/ufw.conf\n```"
   ]
  },
  {
   "cell_type": "code",
   "execution_count": null,
   "id": "41b58bbf",
   "metadata": {},
   "outputs": [],
   "source": "Invoke-AtomicTest T1562.004 -TestNumbers 12"
  },
  {
   "cell_type": "markdown",
   "id": "f1129d54",
   "metadata": {},
   "source": "#### Cleanup: \n```sh\nsed -i 's/# THIS IS A COMMENT//g' /etc/ufw/ufw.conf\ncat /etc/ufw/ufw.conf\n```"
  },
  {
   "cell_type": "code",
   "execution_count": null,
   "id": "2dc14d9f",
   "metadata": {},
   "outputs": [],
   "source": "Invoke-AtomicTest T1562.004 -TestNumbers 12 -Cleanup"
  },
  {
   "cell_type": "markdown",
   "id": "260dbf26",
   "metadata": {},
   "source": "### Atomic Test #13 - Edit UFW firewall sysctl.conf file\nEdit the Uncomplicated Firewall (UFW) configuration file for setting network \nvariables /etc/ufw/sysctl.conf.\n\n**Supported Platforms:** linux\n\nElevation Required (e.g. root or admin)\n#### Dependencies:  Run with `sh`!\n##### Description: Check if /etc/ufw/sysctl.conf exists.\n\n##### Check Prereq Commands:\n```sh\nif [ ! -f \"/etc/ufw/sysctl.conf\" ]; then echo -e \"\\n***** ufw NOT installed *****\\n\"; exit 1; fi\n\n```\n##### Get Prereq Commands:\n```sh\necho \"\"\n\n```"
  },
  {
   "cell_type": "code",
   "execution_count": null,
   "id": "8602464c",
   "metadata": {},
   "outputs": [],
   "source": "Invoke-AtomicTest T1562.004 -TestNumbers 13 -GetPreReqs"
  },
  {
   "cell_type": "markdown",
   "id": "e374627a",
   "metadata": {},
   "source": [
    "#### Attack Commands: Run with `sh`\n",
    "```sh\necho \"# THIS IS A COMMENT\" >> /etc/ufw/sysctl.conf\ngrep \"# THIS IS A COMMENT\" /etc/ufw/sysctl.conf\n```"
   ]
  },
  {
   "cell_type": "code",
   "execution_count": null,
   "id": "aa65ce04",
   "metadata": {},
   "outputs": [],
   "source": "Invoke-AtomicTest T1562.004 -TestNumbers 13"
  },
  {
   "cell_type": "markdown",
   "id": "63bb5ec9",
   "metadata": {},
   "source": "#### Cleanup: \n```sh\nsed -i 's/# THIS IS A COMMENT//g' /etc/ufw/sysctl.conf\ncat /etc/ufw/sysctl.conf\n```"
  },
  {
   "cell_type": "code",
   "execution_count": null,
   "id": "75946a57",
   "metadata": {},
   "outputs": [],
   "source": "Invoke-AtomicTest T1562.004 -TestNumbers 13 -Cleanup"
  },
  {
   "cell_type": "markdown",
   "id": "6e4ff05b",
   "metadata": {},
   "source": "### Atomic Test #14 - Edit UFW firewall main configuration file\nEdit the Uncomplicated Firewall (UFW) main configuration file for setting \ndefault policies /etc/default/ufw.\n\n**Supported Platforms:** linux\n\nElevation Required (e.g. root or admin)\n#### Dependencies:  Run with `sh`!\n##### Description: Check if /etc/default/ufw exists.\n\n##### Check Prereq Commands:\n```sh\nif [ ! -f \"/etc/default/ufw\" ]; then echo -e \"\\n***** ufw NOT installed *****\\n\"; exit 1; fi\n\n```\n##### Get Prereq Commands:\n```sh\necho \"\"\n\n```"
  },
  {
   "cell_type": "code",
   "execution_count": null,
   "id": "f1bef8b3",
   "metadata": {},
   "outputs": [],
   "source": "Invoke-AtomicTest T1562.004 -TestNumbers 14 -GetPreReqs"
  },
  {
   "cell_type": "markdown",
   "id": "5b49ddbc",
   "metadata": {},
   "source": [
    "#### Attack Commands: Run with `sh`\n",
    "```sh\necho \"# THIS IS A COMMENT\" >> /etc/default/ufw\ngrep \"# THIS IS A COMMENT\" /etc/default/ufw\n```"
   ]
  },
  {
   "cell_type": "code",
   "execution_count": null,
   "id": "1c28cd65",
   "metadata": {},
   "outputs": [],
   "source": "Invoke-AtomicTest T1562.004 -TestNumbers 14"
  },
  {
   "cell_type": "markdown",
   "id": "55ead41b",
   "metadata": {},
   "source": "#### Cleanup: \n```sh\nsed -i 's/# THIS IS A COMMENT//g' /etc/default/ufw\n```"
  },
  {
   "cell_type": "code",
   "execution_count": null,
   "id": "1917d628",
   "metadata": {},
   "outputs": [],
   "source": "Invoke-AtomicTest T1562.004 -TestNumbers 14 -Cleanup"
  },
  {
   "cell_type": "markdown",
   "id": "bb95eeed",
   "metadata": {},
   "source": "### Atomic Test #15 - Tail the UFW firewall log file\nPrint  the last 10 lines of the Uncomplicated Firewall (UFW) log file \n/var/log/ufw.log.\n\n**Supported Platforms:** linux\n\nElevation Required (e.g. root or admin)\n#### Dependencies:  Run with `sh`!\n##### Description: Check if /var/log/ufw.log exists.\n\n##### Check Prereq Commands:\n```sh\nif [ ! -f \"/var/log/ufw.log\" ]; then echo -e \"\\n***** ufw NOT logging *****\\n\"; exit 1; fi\n\n```\n##### Get Prereq Commands:\n```sh\necho \"\"\n\n```"
  },
  {
   "cell_type": "code",
   "execution_count": null,
   "id": "516e8f78",
   "metadata": {},
   "outputs": [],
   "source": "Invoke-AtomicTest T1562.004 -TestNumbers 15 -GetPreReqs"
  },
  {
   "cell_type": "markdown",
   "id": "bd886bc3",
   "metadata": {},
   "source": [
    "#### Attack Commands: Run with `sh`\n",
    "```sh\ntail /var/log/ufw.log\n```"
   ]
  },
  {
   "cell_type": "code",
   "execution_count": null,
   "id": "c289e375",
   "metadata": {},
   "outputs": [],
   "source": "Invoke-AtomicTest T1562.004 -TestNumbers 15"
  },
  {
   "cell_type": "markdown",
   "id": "f5dd912c",
   "metadata": {},
   "source": [
    "### Atomic Test #16 - LockBit Black - Unusual Windows firewall registry modification -cmd",
    "An adversary tries to modify the windows firewall registry\n",
    "**Supported Platforms:** windows",
    "\nElevation Required (e.g. root or admin)",
    "#### Attack Commands: Run with `command_prompt`\n",
    "```command_prompt\nreg add \"HKLM\\SOFTWARE\\Policies\\Microsoft\\WindowsFirewall\\DomainProfile\" /v EnableFirewall /t REG_DWORD /d 0 /f\nreg add \"HKLM\\SOFTWARE\\Policies\\Microsoft\\WindowsFirewall\\StandardProfile\" /v EnableFirewall /t REG_DWORD /d 0 /f\n```"
   ]
  },
  {
   "cell_type": "code",
   "execution_count": null,
   "id": "84b7a68d",
   "metadata": {},
   "outputs": [],
   "source": "Invoke-AtomicTest T1562.004 -TestNumbers 16"
  },
  {
   "cell_type": "markdown",
   "id": "f8824378",
   "metadata": {},
   "source": "#### Cleanup: \n```cmd\nreg delete \"HKLM\\SOFTWARE\\Policies\\Microsoft\\WindowsFirewall\\DomainProfile\" /v EnableFirewall /f >nul 2>&1\nreg delete \"HKLM\\SOFTWARE\\Policies\\Microsoft\\WindowsFirewall\\StandardProfile\" /v EnableFirewall /f >nul 2>&1\n```"
  },
  {
   "cell_type": "code",
   "execution_count": null,
   "id": "fe8de49f",
   "metadata": {},
   "outputs": [],
   "source": "Invoke-AtomicTest T1562.004 -TestNumbers 16 -Cleanup"
  },
  {
   "cell_type": "markdown",
   "id": "e71512e4",
   "metadata": {},
   "source": [
    "### Atomic Test #17 - LockBit Black - Unusual Windows firewall registry modification -Powershell",
    "An adversary tries to modify the windows firewall registry.\n",
    "**Supported Platforms:** windows",
    "\nElevation Required (e.g. root or admin)",
    "#### Attack Commands: Run with `powershell`\n",
    "```powershell\nNew-ItemProperty \"HKLM:\\SOFTWARE\\Policies\\Microsoft\\WindowsFirewall\\DomainProfile\" -Name EnableFirewall -PropertyType DWORD -Value 0 -Force\nNew-ItemProperty \"HKLM:\\SOFTWARE\\Policies\\Microsoft\\WindowsFirewall\\StandardProfile\" -Name EnableFirewall -PropertyType DWORD -Value 0 -Force\n```"
   ]
  },
  {
   "cell_type": "code",
   "execution_count": null,
   "id": "842e756c",
   "metadata": {},
   "outputs": [],
   "source": "Invoke-AtomicTest T1562.004 -TestNumbers 17"
  },
  {
   "cell_type": "markdown",
   "id": "2a1feb55",
   "metadata": {},
   "source": "#### Cleanup: \n```powershell\nRemove-ItemProperty \"HKLM:\\SOFTWARE\\Policies\\Microsoft\\WindowsFirewall\\DomainProfile\"  -Name EnableFirewall -Force -ErrorAction Ignore\nRemove-ItemProperty \"HKLM:\\SOFTWARE\\Policies\\Microsoft\\WindowsFirewall\\StandardProfile\" -Name EnableFirewall -Force -ErrorAction Ignore\n```"
  },
  {
   "cell_type": "code",
   "execution_count": null,
   "id": "3d523e68",
   "metadata": {},
   "outputs": [],
   "source": "Invoke-AtomicTest T1562.004 -TestNumbers 17 -Cleanup"
  },
  {
   "cell_type": "markdown",
   "id": "69c78104",
   "metadata": {},
   "source": [
    "### Atomic Test #18 - Blackbit - Disable Windows Firewall using netsh firewall",
    "An adversary tries to modify the windows firewall configuration using the deprecated netsh firewall command (command still works).     \n",
    "**Supported Platforms:** windows",
    "\nElevation Required (e.g. root or admin)",
    "#### Attack Commands: Run with `command_prompt`\n",
    "```command_prompt\nnetsh firewall set opmode mode=disable\n```"
   ]
  },
  {
   "cell_type": "code",
   "execution_count": null,
   "id": "08afd293",
   "metadata": {},
   "outputs": [],
   "source": "Invoke-AtomicTest T1562.004 -TestNumbers 18"
  },
  {
   "cell_type": "markdown",
   "id": "450fdbaa",
   "metadata": {},
   "source": "#### Cleanup: \n```cmd\nnetsh firewall set opmode mode=enable >nul 2>&1\n```"
  },
  {
   "cell_type": "code",
   "execution_count": null,
   "id": "aa2975bb",
   "metadata": {},
   "outputs": [],
   "source": "Invoke-AtomicTest T1562.004 -TestNumbers 18 -Cleanup"
  },
  {
   "cell_type": "markdown",
   "id": "4a8d80d4",
   "metadata": {},
   "source": "## Detection\nMonitor processes and command-line arguments to see if firewalls are disabled or modified. Monitor Registry edits to keys that manage firewalls."
  }
 ],
 "metadata": {
  "kernelspec": {
   "display_name": ".NET (PowerShell)",
   "language": "PowerShell",
   "name": ".net-powershell"
  },
  "language_info": {
   "file_extension": ".ps1",
   "mimetype": "text/x-powershell",
   "name": "PowerShell",
   "pygments_lexer": "powershell",
   "version": "7.0"
  }
 },
 "nbformat": 4,
 "nbformat_minor": 5
}