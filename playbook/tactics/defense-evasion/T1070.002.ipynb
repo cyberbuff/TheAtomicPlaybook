{
 "cells": [
  {
   "cell_type": "markdown",
   "id": "eab1f73e",
   "metadata": {},
   "source": "# T1070.002 - Clear Linux or Mac System Logs\nAdversaries may clear system logs to hide evidence of an intrusion. macOS and Linux both keep track of system or user-initiated actions via system logs. The majority of native system logging is stored under the <code>/var/log/</code> directory. Subfolders in this directory categorize logs by their related functions, such as:(Citation: Linux Logs)\n\n* <code>/var/log/messages:</code>: General and system-related messages\n* <code>/var/log/secure</code> or <code>/var/log/auth.log</code>: Authentication logs\n* <code>/var/log/utmp</code> or <code>/var/log/wtmp</code>: Login records\n* <code>/var/log/kern.log</code>: Kernel logs\n* <code>/var/log/cron.log</code>: Crond logs\n* <code>/var/log/maillog</code>: Mail server logs\n* <code>/var/log/httpd/</code>: Web server access and error logs\n"
  },
  {
   "cell_type": "markdown",
   "id": "52783032",
   "metadata": {},
   "source": "## Atomic Tests"
  },
  {
   "cell_type": "markdown",
   "id": "991ea96e",
   "metadata": {},
   "source": [
    "### Atomic Test #1 - rm -rf",
    "Delete system and audit logs\n",
    "**Supported Platforms:** macos, linux",
    "\nElevation Required (e.g. root or admin)",
    "#### Attack Commands: Run with `sh`\n",
    "```sh\nsudo rm -rf /private/var/log/system.log*\nsudo rm -rf /private/var/audit/*\n```"
   ]
  },
  {
   "cell_type": "code",
   "execution_count": null,
   "id": "a89af9f2",
   "metadata": {},
   "outputs": [],
   "source": "Invoke-AtomicTest T1070.002 -TestNumbers 1"
  },
  {
   "cell_type": "markdown",
   "id": "a0b74660",
   "metadata": {},
   "source": [
    "### Atomic Test #2 - Overwrite Linux Mail Spool",
    "This test overwrites the Linux mail spool of a specified user. This technique was used by threat actor Rocke during the exploitation of Linux web servers.\n",
    "**Supported Platforms:** linux",
    "#### Attack Commands: Run with `bash`\n",
    "```bash\necho 0> /var/spool/mail/root\n```"
   ]
  },
  {
   "cell_type": "code",
   "execution_count": null,
   "id": "7286b2cf",
   "metadata": {},
   "outputs": [],
   "source": "Invoke-AtomicTest T1070.002 -TestNumbers 2"
  },
  {
   "cell_type": "markdown",
   "id": "957c1a73",
   "metadata": {},
   "source": [
    "### Atomic Test #3 - Overwrite Linux Log",
    "This test overwrites the specified log. This technique was used by threat actor Rocke during the exploitation of Linux web servers.\n",
    "**Supported Platforms:** linux",
    "#### Attack Commands: Run with `bash`\n",
    "```bash\necho 0> /var/log/secure\n```"
   ]
  },
  {
   "cell_type": "code",
   "execution_count": null,
   "id": "d01bfb05",
   "metadata": {},
   "outputs": [],
   "source": "Invoke-AtomicTest T1070.002 -TestNumbers 3"
  },
  {
   "cell_type": "markdown",
   "id": "1b36bc0e",
   "metadata": {},
   "source": "## Detection\nFile system monitoring may be used to detect improper deletion or modification of indicator files. Also monitor for suspicious processes interacting with log files."
  }
 ],
 "metadata": {
  "kernelspec": {
   "display_name": ".NET (PowerShell)",
   "language": "PowerShell",
   "name": ".net-powershell"
  },
  "language_info": {
   "file_extension": ".ps1",
   "mimetype": "text/x-powershell",
   "name": "PowerShell",
   "pygments_lexer": "powershell",
   "version": "7.0"
  }
 },
 "nbformat": 4,
 "nbformat_minor": 5
}