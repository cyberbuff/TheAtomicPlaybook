{
 "cells": [
  {
   "cell_type": "markdown",
   "id": "f0c24bfd",
   "metadata": {},
   "source": "# T1127.001 - MSBuild\nAdversaries may use MSBuild to proxy execution of code through a trusted Windows utility. MSBuild.exe (Microsoft Build Engine) is a software build platform used by Visual Studio. It handles XML formatted project files that define requirements for loading and building various platforms and configurations.(Citation: MSDN MSBuild)\n\nAdversaries can abuse MSBuild to proxy execution of malicious code. The inline task capability of MSBuild that was introduced in .NET version 4 allows for C# or Visual Basic code to be inserted into an XML project file.(Citation: MSDN MSBuild)(Citation: Microsoft MSBuild Inline Tasks 2017) MSBuild will compile and execute the inline task. MSBuild.exe is a signed Microsoft binary, so when it is used this way it can execute arbitrary code and bypass application control defenses that are configured to allow MSBuild.exe execution.(Citation: LOLBAS Msbuild)"
  },
  {
   "cell_type": "markdown",
   "id": "330fc954",
   "metadata": {},
   "source": "## Atomic Tests"
  },
  {
   "cell_type": "markdown",
   "id": "39500253",
   "metadata": {},
   "source": "### Atomic Test #1 - MSBuild Bypass Using Inline Tasks (C#)\nExecutes the code in a project file using msbuild.exe. The default C# project example file (T1127.001.csproj) will simply print \"Hello From a Code Fragment\" and \"Hello From a Class.\" to the screen.\n\n**Supported Platforms:** windows\n#### Dependencies:  Run with `powershell`!\n##### Description: Project file must exist on disk at specified location (#{filename})\n\n##### Check Prereq Commands:\n```cmd\nif (Test-Path \"PathToAtomicsFolder\\T1127.001\\src\\T1127.001.csproj\") {exit 0} else {exit 1}\n\n```\n##### Get Prereq Commands:\n```cmd\nNew-Item -Type Directory (split-path \"PathToAtomicsFolder\\T1127.001\\src\\T1127.001.csproj\") -ErrorAction ignore | Out-Null\nInvoke-WebRequest \"https://github.com/redcanaryco/atomic-red-team/raw/master/atomics/T1127.001/src/T1127.001.csproj\" -OutFile \"PathToAtomicsFolder\\T1127.001\\src\\T1127.001.csproj\"\n\n```"
  },
  {
   "cell_type": "code",
   "execution_count": null,
   "id": "1e2ac336",
   "metadata": {},
   "outputs": [],
   "source": "Invoke-AtomicTest T1127.001 -TestNumbers 1 -GetPreReqs"
  },
  {
   "cell_type": "markdown",
   "id": "67b4a365",
   "metadata": {},
   "source": [
    "#### Attack Commands: Run with `command_prompt`\n",
    "```command_prompt\nC:\\Windows\\Microsoft.NET\\Framework\\v4.0.30319\\msbuild.exe \"PathToAtomicsFolder\\T1127.001\\src\\T1127.001.csproj\"\n```"
   ]
  },
  {
   "cell_type": "code",
   "execution_count": null,
   "id": "3d9115f6",
   "metadata": {},
   "outputs": [],
   "source": "Invoke-AtomicTest T1127.001 -TestNumbers 1"
  },
  {
   "cell_type": "markdown",
   "id": "0196ed23",
   "metadata": {},
   "source": "### Atomic Test #2 - MSBuild Bypass Using Inline Tasks (VB)\nExecutes the code in a project file using msbuild.exe. The default Visual Basic example file (vb.xml) will simply print \"Hello from a Visual Basic inline task!\" to the screen.\n\n**Supported Platforms:** windows\n#### Dependencies:  Run with `powershell`!\n##### Description: Project file must exist on disk at specified location (#{filename})\n\n##### Check Prereq Commands:\n```cmd\nif (Test-Path \"PathToAtomicsFolder\\T1127.001\\src\\vb.xml\") {exit 0} else {exit 1}\n\n```\n##### Get Prereq Commands:\n```cmd\nNew-Item -Type Directory (split-path \"PathToAtomicsFolder\\T1127.001\\src\\vb.xml\") -ErrorAction ignore | Out-Null\nInvoke-WebRequest \"https://github.com/redcanaryco/atomic-red-team/raw/master/atomics/T1127.001/src/vb.xml\" -OutFile \"PathToAtomicsFolder\\T1127.001\\src\\vb.xml\"\n\n```"
  },
  {
   "cell_type": "code",
   "execution_count": null,
   "id": "a85eb957",
   "metadata": {},
   "outputs": [],
   "source": "Invoke-AtomicTest T1127.001 -TestNumbers 2 -GetPreReqs"
  },
  {
   "cell_type": "markdown",
   "id": "01bfe4d5",
   "metadata": {},
   "source": [
    "#### Attack Commands: Run with `command_prompt`\n",
    "```command_prompt\nC:\\Windows\\Microsoft.NET\\Framework\\v4.0.30319\\msbuild.exe \"PathToAtomicsFolder\\T1127.001\\src\\vb.xml\"\n```"
   ]
  },
  {
   "cell_type": "code",
   "execution_count": null,
   "id": "8ee01339",
   "metadata": {},
   "outputs": [],
   "source": "Invoke-AtomicTest T1127.001 -TestNumbers 2"
  },
  {
   "cell_type": "markdown",
   "id": "86f08a12",
   "metadata": {},
   "source": "## Detection\nUse process monitoring to monitor the execution and arguments of MSBuild.exe. Compare recent invocations of those binaries with prior history of known good arguments and executed binaries to determine anomalous and potentially adversarial activity. Command arguments used before and after invocation of the utilities may also be useful in determining the origin and purpose of the binary being executed."
  }
 ],
 "metadata": {
  "kernelspec": {
   "display_name": ".NET (PowerShell)",
   "language": "pwsh",
   "name": ".net-powershell"
  },
  "language_info": {
   "file_extension": ".ps1",
   "mimetype": "text/x-powershell",
   "name": "pwsh",
   "pygments_lexer": "powershell",
   "version": "7.0"
  }
 },
 "nbformat": 4,
 "nbformat_minor": 5
}