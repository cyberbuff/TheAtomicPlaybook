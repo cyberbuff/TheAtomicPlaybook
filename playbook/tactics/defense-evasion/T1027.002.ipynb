{
 "cells": [
  {
   "cell_type": "markdown",
   "id": "2c77f1c9",
   "metadata": {},
   "source": "# T1027.002 - Software Packing\nAdversaries may perform software packing or virtual machine software protection to conceal their code. Software packing is a method of compressing or encrypting an executable. Packing an executable changes the file signature in an attempt to avoid signature-based detection. Most decompression techniques decompress the executable code in memory. Virtual machine software protection translates an executable's original code into a special format that only a special virtual machine can run. A virtual machine is then called to run this code.(Citation: ESET FinFisher Jan 2018) \n\nUtilities used to perform software packing are called packers. Example packers are MPRESS and UPX. A more comprehensive list of known packers is available, but adversaries may create their own packing techniques that do not leave the same artifacts as well-known packers to evade defenses.(Citation: Awesome Executable Packing)  "
  },
  {
   "cell_type": "markdown",
   "id": "bbb3d508",
   "metadata": {},
   "source": "## Atomic Tests"
  },
  {
   "cell_type": "markdown",
   "id": "2ea4a103",
   "metadata": {},
   "source": [
    "### Atomic Test #1 - Binary simply packed by UPX (linux)",
    "Copies and then runs a simple binary (just outputting \"the cake is a lie\"), that was packed by UPX.\nNo other protection/compression were applied.\n",
    "**Supported Platforms:** linux",
    "#### Attack Commands: Run with `sh`\n",
    "```sh\ncp PathToAtomicsFolder/T1027.002/bin/linux/test_upx /tmp/packed_bin && /tmp/packed_bin\n```"
   ]
  },
  {
   "cell_type": "code",
   "execution_count": null,
   "id": "99c75889",
   "metadata": {},
   "outputs": [],
   "source": "Invoke-AtomicTest T1027.002 -TestNumbers 1"
  },
  {
   "cell_type": "markdown",
   "id": "74cc32b3",
   "metadata": {},
   "source": "#### Cleanup: \n```sh\nrm /tmp/packed_bin\n```"
  },
  {
   "cell_type": "code",
   "execution_count": null,
   "id": "3548041c",
   "metadata": {},
   "outputs": [],
   "source": "Invoke-AtomicTest T1027.002 -TestNumbers 1 -Cleanup"
  },
  {
   "cell_type": "markdown",
   "id": "a2dbaa8b",
   "metadata": {},
   "source": [
    "### Atomic Test #2 - Binary packed by UPX, with modified headers (linux)",
    "Copies and then runs a simple binary (just outputting \"the cake is a lie\"), that was packed by UPX.\n\nThe UPX magic number (`0x55505821`, \"`UPX!`\") was changed to (`0x4c4f5452`, \"`LOTR`\"). This prevents the binary from being detected\nby some methods, and especially UPX is not able to uncompress it any more.\n",
    "**Supported Platforms:** linux",
    "#### Attack Commands: Run with `sh`\n",
    "```sh\ncp PathToAtomicsFolder/T1027.002/bin/linux/test_upx_header_changed /tmp/packed_bin && /tmp/packed_bin\n```"
   ]
  },
  {
   "cell_type": "code",
   "execution_count": null,
   "id": "682b4fad",
   "metadata": {},
   "outputs": [],
   "source": "Invoke-AtomicTest T1027.002 -TestNumbers 2"
  },
  {
   "cell_type": "markdown",
   "id": "f1b44e37",
   "metadata": {},
   "source": "#### Cleanup: \n```sh\nrm /tmp/packed_bin\n```"
  },
  {
   "cell_type": "code",
   "execution_count": null,
   "id": "586531be",
   "metadata": {},
   "outputs": [],
   "source": "Invoke-AtomicTest T1027.002 -TestNumbers 2 -Cleanup"
  },
  {
   "cell_type": "markdown",
   "id": "18fbc379",
   "metadata": {},
   "source": [
    "### Atomic Test #3 - Binary simply packed by UPX",
    "Copies and then runs a simple binary (just outputting \"the cake is a lie\"), that was packed by UPX.\nNo other protection/compression were applied.\n",
    "**Supported Platforms:** macos",
    "#### Attack Commands: Run with `sh`\n",
    "```sh\ncp PathToAtomicsFolder/T1027.002/bin/darwin/test_upx /tmp/packed_bin && /tmp/packed_bin\n```"
   ]
  },
  {
   "cell_type": "code",
   "execution_count": null,
   "id": "94478734",
   "metadata": {},
   "outputs": [],
   "source": "Invoke-AtomicTest T1027.002 -TestNumbers 3"
  },
  {
   "cell_type": "markdown",
   "id": "8f6bd71d",
   "metadata": {},
   "source": "#### Cleanup: \n```sh\nrm /tmp/packed_bin\n```"
  },
  {
   "cell_type": "code",
   "execution_count": null,
   "id": "600fedff",
   "metadata": {},
   "outputs": [],
   "source": "Invoke-AtomicTest T1027.002 -TestNumbers 3 -Cleanup"
  },
  {
   "cell_type": "markdown",
   "id": "14bc3d1d",
   "metadata": {},
   "source": [
    "### Atomic Test #4 - Binary packed by UPX, with modified headers",
    "Copies and then runs a simple binary (just outputting \"the cake is a lie\"), that was packed by UPX.\n\nThe UPX magic number (`0x55505821`, \"`UPX!`\") was changed to (`0x4c4f5452`, \"`LOTR`\"). This prevents the binary from being detected\nby some methods, and especially UPX is not able to uncompress it any more.\n",
    "**Supported Platforms:** macos",
    "#### Attack Commands: Run with `sh`\n",
    "```sh\ncp PathToAtomicsFolder/T1027.002/bin/darwin/test_upx_header_changed /tmp/packed_bin && /tmp/packed_bin\n```"
   ]
  },
  {
   "cell_type": "code",
   "execution_count": null,
   "id": "c109832b",
   "metadata": {},
   "outputs": [],
   "source": "Invoke-AtomicTest T1027.002 -TestNumbers 4"
  },
  {
   "cell_type": "markdown",
   "id": "26422b02",
   "metadata": {},
   "source": "#### Cleanup: \n```sh\nrm /tmp/packed_bin\n```"
  },
  {
   "cell_type": "code",
   "execution_count": null,
   "id": "c1a6286b",
   "metadata": {},
   "outputs": [],
   "source": "Invoke-AtomicTest T1027.002 -TestNumbers 4 -Cleanup"
  },
  {
   "cell_type": "markdown",
   "id": "0ed8267a",
   "metadata": {},
   "source": "## Detection\nUse file scanning to look for known software packers or artifacts of packing techniques. Packing is not a definitive indicator of malicious activity, because legitimate software may use packing techniques to reduce binary size or to protect proprietary code."
  }
 ],
 "metadata": {
  "kernelspec": {
   "display_name": ".NET (PowerShell)",
   "language": "pwsh",
   "name": ".net-powershell"
  },
  "language_info": {
   "file_extension": ".ps1",
   "mimetype": "text/x-powershell",
   "name": "pwsh",
   "pygments_lexer": "powershell",
   "version": "7.0"
  }
 },
 "nbformat": 4,
 "nbformat_minor": 5
}