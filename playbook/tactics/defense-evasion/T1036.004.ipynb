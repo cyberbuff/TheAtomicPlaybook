{
 "cells": [
  {
   "cell_type": "markdown",
   "id": "2e4ff027",
   "metadata": {},
   "source": "# T1036.004 - Masquerade Task or Service\nAdversaries may attempt to manipulate the name of a task or service to make it appear legitimate or benign. Tasks/services executed by the Task Scheduler or systemd will typically be given a name and/or description.(Citation: TechNet Schtasks)(Citation: Systemd Service Units) Windows services will have a service name as well as a display name. Many benign tasks and services exist that have commonly associated names. Adversaries may give tasks or services names that are similar or identical to those of legitimate ones.\n\nTasks or services contain other fields, such as a description, that adversaries may attempt to make appear legitimate.(Citation: Palo Alto Shamoon Nov 2016)(Citation: Fysbis Dr Web Analysis)"
  },
  {
   "cell_type": "markdown",
   "id": "1e2bc5f9",
   "metadata": {},
   "source": "## Atomic Tests"
  },
  {
   "cell_type": "markdown",
   "id": "188e55ce",
   "metadata": {},
   "source": [
    "### Atomic Test #1 - Creating W32Time similar named service using schtasks",
    "Creating W32Time similar named service (win32times) using schtasks just like threat actor dubbed \"Operation Wocao\"",
    "**Supported Platforms:** windows",
    "\nElevation Required (e.g. root or admin)",
    "#### Attack Commands: Run with `command_prompt`\n",
    "```command_prompt\nschtasks /create /ru system /sc daily /tr \"cmd /c powershell.exe -ep bypass -file c:\\T1036.004_NonExistingScript.ps1\" /tn win32times /f\nschtasks /query /tn win32times\n```"
   ]
  },
  {
   "cell_type": "code",
   "execution_count": null,
   "id": "199c5891",
   "metadata": {},
   "outputs": [],
   "source": "Invoke-AtomicTest T1036.004 -TestNumbers 1"
  },
  {
   "cell_type": "markdown",
   "id": "ad08ac97",
   "metadata": {},
   "source": "#### Cleanup: \n```cmd\nschtasks /tn win32times /delete /f\n```"
  },
  {
   "cell_type": "code",
   "execution_count": null,
   "id": "06a79b91",
   "metadata": {},
   "outputs": [],
   "source": "Invoke-AtomicTest T1036.004 -TestNumbers 1 -Cleanup"
  },
  {
   "cell_type": "markdown",
   "id": "11ba93e1",
   "metadata": {},
   "source": [
    "### Atomic Test #2 - Creating W32Time similar named service using sc",
    "Creating W32Time similar named service (win32times) using sc just like threat actor dubbed \"Operation Wocao\"",
    "**Supported Platforms:** windows",
    "\nElevation Required (e.g. root or admin)",
    "#### Attack Commands: Run with `command_prompt`\n",
    "```command_prompt\nsc create win32times binPath= \"cmd /c start c:\\T1036.004_NonExistingScript.ps1\"\nsc qc win32times\n```"
   ]
  },
  {
   "cell_type": "code",
   "execution_count": null,
   "id": "a45c3c9f",
   "metadata": {},
   "outputs": [],
   "source": "Invoke-AtomicTest T1036.004 -TestNumbers 2"
  },
  {
   "cell_type": "markdown",
   "id": "0ad441dd",
   "metadata": {},
   "source": "#### Cleanup: \n```cmd\nsc delete win32times\n```"
  },
  {
   "cell_type": "code",
   "execution_count": null,
   "id": "18298875",
   "metadata": {},
   "outputs": [],
   "source": "Invoke-AtomicTest T1036.004 -TestNumbers 2 -Cleanup"
  },
  {
   "cell_type": "markdown",
   "id": "a4dc1014",
   "metadata": {},
   "source": "### Atomic Test #3 - linux rename /proc/pid/comm using prctl\nRuns a C program that calls prctl(PR_SET_NAME) to modify /proc/pid/comm value to \"totally_legit\".  This will show up as process name in simple 'ps' listings.\n\n**Supported Platforms:** linux\n#### Dependencies:  Run with `sh`!\n##### Description: #{exe_path} must be exist on system.\n\n##### Check Prereq Commands:\n```sh\nstat /tmp/T1036_004_prctl_rename\n\n```\n##### Get Prereq Commands:\n```sh\ncc -o /tmp/T1036_004_prctl_rename PathToAtomicsFolder/T1036.004/src/prctl_rename.c\n\n```"
  },
  {
   "cell_type": "code",
   "execution_count": null,
   "id": "3ea64189",
   "metadata": {},
   "outputs": [],
   "source": "Invoke-AtomicTest T1036.004 -TestNumbers 3 -GetPreReqs"
  },
  {
   "cell_type": "markdown",
   "id": "eda3a8f6",
   "metadata": {},
   "source": [
    "#### Attack Commands: Run with `sh`\n",
    "```sh\n/tmp/T1036_004_prctl_rename & ps\nTMP=`ps | grep totally_legit`\nif [ -z \"${TMP}\" ] ; then echo \"renamed process NOT FOUND in process list\" && exit 1; fi\nexit 0\n```"
   ]
  },
  {
   "cell_type": "code",
   "execution_count": null,
   "id": "8dec31df",
   "metadata": {},
   "outputs": [],
   "source": "Invoke-AtomicTest T1036.004 -TestNumbers 3"
  },
  {
   "cell_type": "markdown",
   "id": "f2b7eb64",
   "metadata": {},
   "source": "#### Cleanup: \n```sh\nrm -f /tmp/T1036_004_prctl_rename\n```"
  },
  {
   "cell_type": "code",
   "execution_count": null,
   "id": "6f145adc",
   "metadata": {},
   "outputs": [],
   "source": "Invoke-AtomicTest T1036.004 -TestNumbers 3 -Cleanup"
  },
  {
   "cell_type": "markdown",
   "id": "3fc78ab7",
   "metadata": {},
   "source": "## Detection\nLook for changes to tasks and services that do not correlate with known software, patch cycles, etc. Suspicious program execution through scheduled tasks or services may show up as outlier processes that have not been seen before when compared against historical data. Monitor processes and command-line arguments for actions that could be taken to create tasks or services. Data and events should not be viewed in isolation, but as part of a chain of behavior that could lead to other activities, such as network connections made for Command and Control, learning details about the environment through Discovery, and Lateral Movement."
  }
 ],
 "metadata": {
  "kernelspec": {
   "display_name": ".NET (PowerShell)",
   "language": "pwsh",
   "name": ".net-powershell"
  },
  "language_info": {
   "file_extension": ".ps1",
   "mimetype": "text/x-powershell",
   "name": "pwsh",
   "pygments_lexer": "powershell",
   "version": "7.0"
  }
 },
 "nbformat": 4,
 "nbformat_minor": 5
}