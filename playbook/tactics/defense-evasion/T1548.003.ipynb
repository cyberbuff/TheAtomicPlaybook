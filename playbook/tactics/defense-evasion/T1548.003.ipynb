{
 "cells": [
  {
   "cell_type": "markdown",
   "id": "d76ceac7",
   "metadata": {},
   "source": "# T1548.003 - Sudo and Sudo Caching\nAdversaries may perform sudo caching and/or use the sudoers file to elevate privileges. Adversaries may do this to execute commands as other users or spawn processes with higher privileges.\n\nWithin Linux and MacOS systems, sudo (sometimes referred to as \"superuser do\") allows users to perform commands from terminals with elevated privileges and to control who can perform these commands on the system. The <code>sudo</code> command \"allows a system administrator to delegate authority to give certain users (or groups of users) the ability to run some (or all) commands as root or another user while providing an audit trail of the commands and their arguments.\"(Citation: sudo man page 2018) Since sudo was made for the system administrator, it has some useful configuration features such as a <code>timestamp_timeout</code>, which is the amount of time in minutes between instances of <code>sudo</code> before it will re-prompt for a password. This is because <code>sudo</code> has the ability to cache credentials for a period of time. Sudo creates (or touches) a file at <code>/var/db/sudo</code> with a timestamp of when sudo was last run to determine this timeout. Additionally, there is a <code>tty_tickets</code> variable that treats each new tty (terminal session) in isolation. This means that, for example, the sudo timeout of one tty will not affect another tty (you will have to type the password again).\n\nThe sudoers file, <code>/etc/sudoers</code>, describes which users can run which commands and from which terminals. This also describes which commands users can run as other users or groups. This provides the principle of least privilege such that users are running in their lowest possible permissions for most of the time and only elevate to other users or permissions as needed, typically by prompting for a password. However, the sudoers file can also specify when to not prompt users for passwords with a line like <code>user1 ALL=(ALL) NOPASSWD: ALL</code>.(Citation: OSX.Dok Malware) Elevated privileges are required to edit this file though.\n\nAdversaries can also abuse poor configurations of these mechanisms to escalate privileges without needing the user's password. For example, <code>/var/db/sudo</code>'s timestamp can be monitored to see if it falls within the <code>timestamp_timeout</code> range. If it does, then malware can execute sudo commands without needing to supply the user's password. Additional, if <code>tty_tickets</code> is disabled, adversaries can do this from any tty for that user.\n\nIn the wild, malware has disabled <code>tty_tickets</code> to potentially make scripting easier by issuing <code>echo \\'Defaults !tty_tickets\\' >> /etc/sudoers</code>.(Citation: cybereason osx proton) In order for this change to be reflected, the malware also issued <code>killall Terminal</code>. As of macOS Sierra, the sudoers file has <code>tty_tickets</code> enabled by default."
  },
  {
   "cell_type": "markdown",
   "id": "468c64f3",
   "metadata": {},
   "source": "## Atomic Tests"
  },
  {
   "cell_type": "markdown",
   "id": "c8c9e1aa",
   "metadata": {},
   "source": [
    "### Atomic Test #1 - Sudo usage",
    "Common Sudo enumeration methods.\n",
    "**Supported Platforms:** macos, linux",
    "\nElevation Required (e.g. root or admin)",
    "#### Attack Commands: Run with `sh`\n",
    "```sh\nsudo -l      \nsudo cat /etc/sudoers\nsudo vim /etc/sudoers\n```"
   ]
  },
  {
   "cell_type": "code",
   "execution_count": null,
   "id": "062caa17",
   "metadata": {},
   "outputs": [],
   "source": "Invoke-AtomicTest T1548.003 -TestNumbers 1"
  },
  {
   "cell_type": "markdown",
   "id": "6bb61d89",
   "metadata": {},
   "source": "### Atomic Test #2 - Sudo usage (freebsd)\nCommon Sudo enumeration methods.\n\n**Supported Platforms:** linux\n\nElevation Required (e.g. root or admin)\n#### Dependencies:  Run with `sh`!\n##### Description: Check if sudo is installed.\n\n##### Check Prereq Commands:\n```sh\nif [ ! -x \"$(command -v sudo)\" ]; then exit 1; else exit 0; fi;\n\n```\n##### Get Prereq Commands:\n```sh\n(which pkg && pkg install -y sudo)\n\n```"
  },
  {
   "cell_type": "code",
   "execution_count": null,
   "id": "9cfd2b4b",
   "metadata": {},
   "outputs": [],
   "source": "Invoke-AtomicTest T1548.003 -TestNumbers 2 -GetPreReqs"
  },
  {
   "cell_type": "markdown",
   "id": "69cb9757",
   "metadata": {},
   "source": [
    "#### Attack Commands: Run with `sh`\n",
    "```sh\nsudo -l      \nsudo cat /usr/local/etc/sudoers\nsudo ee /usr/local/etc/sudoers\n```"
   ]
  },
  {
   "cell_type": "code",
   "execution_count": null,
   "id": "e64ff65d",
   "metadata": {},
   "outputs": [],
   "source": "Invoke-AtomicTest T1548.003 -TestNumbers 2"
  },
  {
   "cell_type": "markdown",
   "id": "f9a62f00",
   "metadata": {},
   "source": [
    "### Atomic Test #3 - Unlimited sudo cache timeout",
    "Sets sudo caching timestamp_timeout to a value for unlimited. This is dangerous to modify without using 'visudo', do not do this on a production system.\n",
    "**Supported Platforms:** macos, linux",
    "\nElevation Required (e.g. root or admin)",
    "#### Attack Commands: Run with `sh`\n",
    "```sh\nsudo sed -i 's/env_reset.*$/env_reset,timestamp_timeout=-1/' /etc/sudoers\nsudo visudo -c -f /etc/sudoers\n```"
   ]
  },
  {
   "cell_type": "code",
   "execution_count": null,
   "id": "ce91ef31",
   "metadata": {},
   "outputs": [],
   "source": "Invoke-AtomicTest T1548.003 -TestNumbers 3"
  },
  {
   "cell_type": "markdown",
   "id": "095297fd",
   "metadata": {},
   "source": "### Atomic Test #4 - Unlimited sudo cache timeout (freebsd)\nSets sudo caching timestamp_timeout to a value for unlimited. This is dangerous to modify without using 'visudo', do not do this on a production system.\n\n**Supported Platforms:** linux\n\nElevation Required (e.g. root or admin)\n#### Dependencies:  Run with `sh`!\n##### Description: Check if sudo is installed.\n\n##### Check Prereq Commands:\n```sh\nif [ ! -x \"$(command -v sudo)\" ]; then exit 1; else exit 0; fi;\n\n```\n##### Get Prereq Commands:\n```sh\n(which pkg && pkg install -y sudo)\n\n```"
  },
  {
   "cell_type": "code",
   "execution_count": null,
   "id": "cba3b57a",
   "metadata": {},
   "outputs": [],
   "source": "Invoke-AtomicTest T1548.003 -TestNumbers 4 -GetPreReqs"
  },
  {
   "cell_type": "markdown",
   "id": "c1f4ed3d",
   "metadata": {},
   "source": [
    "#### Attack Commands: Run with `sh`\n",
    "```sh\nsudo sed -i 's/env_reset.*$/env_reset,timestamp_timeout=-1/' /usr/local/etc/sudoers\nsudo visudo -c -f /usr/local/etc/sudoers\n```"
   ]
  },
  {
   "cell_type": "code",
   "execution_count": null,
   "id": "62fbcf54",
   "metadata": {},
   "outputs": [],
   "source": "Invoke-AtomicTest T1548.003 -TestNumbers 4"
  },
  {
   "cell_type": "markdown",
   "id": "03ffe656",
   "metadata": {},
   "source": [
    "### Atomic Test #5 - Disable tty_tickets for sudo caching",
    "Sets sudo caching tty_tickets value to disabled. This is dangerous to modify without using 'visudo', do not do this on a production system.\n",
    "**Supported Platforms:** macos, linux",
    "\nElevation Required (e.g. root or admin)",
    "#### Attack Commands: Run with `sh`\n",
    "```sh\nsudo sh -c \"echo Defaults \"'!'\"tty_tickets >> /etc/sudoers\"\nsudo visudo -c -f /etc/sudoers\n```"
   ]
  },
  {
   "cell_type": "code",
   "execution_count": null,
   "id": "6ddc7340",
   "metadata": {},
   "outputs": [],
   "source": "Invoke-AtomicTest T1548.003 -TestNumbers 5"
  },
  {
   "cell_type": "markdown",
   "id": "5062807a",
   "metadata": {},
   "source": "### Atomic Test #6 - Disable tty_tickets for sudo caching (freebsd)\nSets sudo caching tty_tickets value to disabled. This is dangerous to modify without using 'visudo', do not do this on a production system.\n\n**Supported Platforms:** linux\n\nElevation Required (e.g. root or admin)\n#### Dependencies:  Run with `sh`!\n##### Description: Check if sudo is installed.\n\n##### Check Prereq Commands:\n```sh\nif [ ! -x \"$(command -v sudo)\" ]; then exit 1; else exit 0; fi;\n\n```\n##### Get Prereq Commands:\n```sh\n(which pkg && pkg install -y sudo)\n\n```"
  },
  {
   "cell_type": "code",
   "execution_count": null,
   "id": "17462eb2",
   "metadata": {},
   "outputs": [],
   "source": "Invoke-AtomicTest T1548.003 -TestNumbers 6 -GetPreReqs"
  },
  {
   "cell_type": "markdown",
   "id": "b414204d",
   "metadata": {},
   "source": [
    "#### Attack Commands: Run with `sh`\n",
    "```sh\nsudo sh -c \"echo Defaults \"'!'\"tty_tickets >> /usr/local/etc/sudoers\"\nsudo visudo -c -f /usr/local/etc/sudoers\n```"
   ]
  },
  {
   "cell_type": "code",
   "execution_count": null,
   "id": "0b315840",
   "metadata": {},
   "outputs": [],
   "source": "Invoke-AtomicTest T1548.003 -TestNumbers 6"
  },
  {
   "cell_type": "markdown",
   "id": "06c6e6db",
   "metadata": {},
   "source": "## Detection\nOn Linux, auditd can alert every time a user's actual ID and effective ID are different (this is what happens when you sudo). This technique is abusing normal functionality in macOS and Linux systems, but sudo has the ability to log all input and output based on the <code>LOG_INPUT</code> and <code>LOG_OUTPUT</code> directives in the <code>/etc/sudoers</code> file."
  }
 ],
 "metadata": {
  "kernelspec": {
   "display_name": ".NET (PowerShell)",
   "language": "pwsh",
   "name": ".net-powershell"
  },
  "language_info": {
   "file_extension": ".ps1",
   "mimetype": "text/x-powershell",
   "name": "pwsh",
   "pygments_lexer": "powershell",
   "version": "7.0"
  }
 },
 "nbformat": 4,
 "nbformat_minor": 5
}