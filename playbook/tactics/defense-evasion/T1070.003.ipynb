{
 "cells": [
  {
   "cell_type": "markdown",
   "id": "b8a63365",
   "metadata": {},
   "source": "# T1070.003 - Clear Command History\nIn addition to clearing system logs, an adversary may clear the command history of a compromised account to conceal the actions undertaken during an intrusion. Various command interpreters keep track of the commands users type in their terminal so that users can retrace what they've done.\n\nOn Linux and macOS, these command histories can be accessed in a few different ways. While logged in, this command history is tracked in a file pointed to by the environment variable <code>HISTFILE</code>. When a user logs off a system, this information is flushed to a file in the user's home directory called <code>~/.bash_history</code>. The benefit of this is that it allows users to go back to commands they've used before in different sessions.\n\nAdversaries may delete their commands from these logs by manually clearing the history (<code>history -c</code>) or deleting the bash history file <code>rm ~/.bash_history</code>.  \n\nAdversaries may also leverage a [Network Device CLI](https://attack.mitre.org/techniques/T1059/008) on network devices to clear command history data (<code>clear logging</code> and/or <code>clear history</code>).(Citation: US-CERT-TA18-106A)\n\nOn Windows hosts, PowerShell has two different command history providers: the built-in history and the command history managed by the <code>PSReadLine</code> module. The built-in history only tracks the commands used in the current session. This command history is not available to other sessions and is deleted when the session ends.\n\nThe <code>PSReadLine</code> command history tracks the commands used in all PowerShell sessions and writes them to a file (<code>$env:APPDATA\\Microsoft\\Windows\\PowerShell\\PSReadLine\\ConsoleHost_history.txt</code> by default). This history file is available to all sessions and contains all past history since the file is not deleted when the session ends.(Citation: Microsoft PowerShell Command History)\n\nAdversaries may run the PowerShell command <code>Clear-History</code> to flush the entire command history from a current PowerShell session. This, however, will not delete/flush the <code>ConsoleHost_history.txt</code> file. Adversaries may also delete the <code>ConsoleHost_history.txt</code> file or edit its contents to hide PowerShell commands they have run.(Citation: Sophos PowerShell command audit)(Citation: Sophos PowerShell Command History Forensics)"
  },
  {
   "cell_type": "markdown",
   "id": "2c1d12ee",
   "metadata": {},
   "source": "## Atomic Tests"
  },
  {
   "cell_type": "markdown",
   "id": "4d152b76",
   "metadata": {},
   "source": [
    "### Atomic Test #1 - Clear Bash history (rm)",
    "Clears bash history via rm\n",
    "**Supported Platforms:** linux, macos",
    "#### Attack Commands: Run with `sh`\n",
    "```sh\nrm ~/.bash_history\n```"
   ]
  },
  {
   "cell_type": "code",
   "execution_count": null,
   "id": "4e7561b1",
   "metadata": {},
   "outputs": [],
   "source": "Invoke-AtomicTest T1070.003 -TestNumbers 1"
  },
  {
   "cell_type": "markdown",
   "id": "eaa57edd",
   "metadata": {},
   "source": [
    "### Atomic Test #2 - Clear Bash history (echo)",
    "Clears bash history via echo\n",
    "**Supported Platforms:** linux",
    "#### Attack Commands: Run with `sh`\n",
    "```sh\necho \"\" > ~/.bash_history\n```"
   ]
  },
  {
   "cell_type": "code",
   "execution_count": null,
   "id": "b2f2ee3f",
   "metadata": {},
   "outputs": [],
   "source": "Invoke-AtomicTest T1070.003 -TestNumbers 2"
  },
  {
   "cell_type": "markdown",
   "id": "7e2d76c6",
   "metadata": {},
   "source": [
    "### Atomic Test #3 - Clear Bash history (cat dev/null)",
    "Clears bash history via cat /dev/null\n",
    "**Supported Platforms:** linux, macos",
    "#### Attack Commands: Run with `sh`\n",
    "```sh\ncat /dev/null > ~/.bash_history\n```"
   ]
  },
  {
   "cell_type": "code",
   "execution_count": null,
   "id": "6155b6d9",
   "metadata": {},
   "outputs": [],
   "source": "Invoke-AtomicTest T1070.003 -TestNumbers 3"
  },
  {
   "cell_type": "markdown",
   "id": "83702d78",
   "metadata": {},
   "source": [
    "### Atomic Test #4 - Clear Bash history (ln dev/null)",
    "Clears bash history via a symlink to /dev/null\n",
    "**Supported Platforms:** linux, macos",
    "#### Attack Commands: Run with `sh`\n",
    "```sh\nln -sf /dev/null ~/.bash_history\n```"
   ]
  },
  {
   "cell_type": "code",
   "execution_count": null,
   "id": "b4956e4d",
   "metadata": {},
   "outputs": [],
   "source": "Invoke-AtomicTest T1070.003 -TestNumbers 4"
  },
  {
   "cell_type": "markdown",
   "id": "e45ad1ca",
   "metadata": {},
   "source": [
    "### Atomic Test #5 - Clear Bash history (truncate)",
    "Clears bash history via truncate\n",
    "**Supported Platforms:** linux",
    "#### Attack Commands: Run with `sh`\n",
    "```sh\ntruncate -s0 ~/.bash_history\n```"
   ]
  },
  {
   "cell_type": "code",
   "execution_count": null,
   "id": "0d45651f",
   "metadata": {},
   "outputs": [],
   "source": "Invoke-AtomicTest T1070.003 -TestNumbers 5"
  },
  {
   "cell_type": "markdown",
   "id": "a2db8559",
   "metadata": {},
   "source": [
    "### Atomic Test #6 - Clear history of a bunch of shells",
    "Clears the history of a bunch of different shell types by setting the history size to zero\n",
    "**Supported Platforms:** linux, macos",
    "#### Attack Commands: Run with `sh`\n",
    "```sh\nunset HISTFILE\nexport HISTFILESIZE=0\nhistory -c\n```"
   ]
  },
  {
   "cell_type": "code",
   "execution_count": null,
   "id": "57c19527",
   "metadata": {},
   "outputs": [],
   "source": "Invoke-AtomicTest T1070.003 -TestNumbers 6"
  },
  {
   "cell_type": "markdown",
   "id": "5431c36d",
   "metadata": {},
   "source": [
    "### Atomic Test #7 - Clear and Disable Bash History Logging",
    "Clears the history and disable bash history logging of the current shell and future shell sessions\n",
    "**Supported Platforms:** linux, macos",
    "#### Attack Commands: Run with `sh`\n",
    "```sh\nset +o history\necho 'set +o history' >> ~/.bashrc\n. ~/.bashrc\nhistory -c\n```"
   ]
  },
  {
   "cell_type": "code",
   "execution_count": null,
   "id": "6aa5b499",
   "metadata": {},
   "outputs": [],
   "source": "Invoke-AtomicTest T1070.003 -TestNumbers 7"
  },
  {
   "cell_type": "markdown",
   "id": "4ffd3dd0",
   "metadata": {},
   "source": "#### Cleanup: \n```sh\nsed -i 's/set +o history//g' ~/.bashrc\n. ~/.bashrc\nset -o history\n```"
  },
  {
   "cell_type": "code",
   "execution_count": null,
   "id": "0e2e944c",
   "metadata": {},
   "outputs": [],
   "source": "Invoke-AtomicTest T1070.003 -TestNumbers 7 -Cleanup"
  },
  {
   "cell_type": "markdown",
   "id": "3f781ee0",
   "metadata": {},
   "source": [
    "### Atomic Test #8 - Use Space Before Command to Avoid Logging to History",
    "Using a space before a command causes the command to not be logged in the Bash History file\n",
    "**Supported Platforms:** linux, macos",
    "#### Attack Commands: Run with `sh`\n",
    "```sh\nhostname\nwhoami\n```"
   ]
  },
  {
   "cell_type": "code",
   "execution_count": null,
   "id": "ad3cd567",
   "metadata": {},
   "outputs": [],
   "source": "Invoke-AtomicTest T1070.003 -TestNumbers 8"
  },
  {
   "cell_type": "markdown",
   "id": "7949ba56",
   "metadata": {},
   "source": "### Atomic Test #9 - Disable Bash History Logging with SSH -T\nKeeps history clear and stays out of lastlog,wtmp,btmp ssh -T keeps the ssh client from catching a proper TTY, which is what usually gets logged on lastlog\n\n**Supported Platforms:** linux\n#### Dependencies:  Run with `sh`!\n##### Description: Install sshpass and create user account used for excuting\n\n##### Check Prereq Commands:\n```sh\n$(getent passwd testuser1 >/dev/null) && $(which sshpass >/dev/null)\n\n```\n##### Get Prereq Commands:\n```sh\n[ \"$(uname)\" = 'FreeBSD' ] && pw useradd testuser1 -g wheel -s /bin/sh || /usr/sbin/useradd testuser1\n[ \"$(uname)\" = 'FreeBSD' ] && echo 'pwd101!' | pw mod user testuser1 -h 0 || echo -e 'pwd101!\\npwd101!' | passwd testuser1\n(which yum && yum -y install epel-release sshpass)||(which apt-get && DEBIAN_FRONTEND=noninteractive apt-get install -y sshpass)||(which pkg && pkg install -y sshpass)\n\n```"
  },
  {
   "cell_type": "code",
   "execution_count": null,
   "id": "73584268",
   "metadata": {},
   "outputs": [],
   "source": "Invoke-AtomicTest T1070.003 -TestNumbers 9 -GetPreReqs"
  },
  {
   "cell_type": "markdown",
   "id": "173de478",
   "metadata": {},
   "source": [
    "#### Attack Commands: Run with `sh`\n",
    "```sh\nsshpass -p 'pwd101!' ssh testuser1@localhost -T hostname\n```"
   ]
  },
  {
   "cell_type": "code",
   "execution_count": null,
   "id": "e6e3f3b2",
   "metadata": {},
   "outputs": [],
   "source": "Invoke-AtomicTest T1070.003 -TestNumbers 9"
  },
  {
   "cell_type": "markdown",
   "id": "08b399b6",
   "metadata": {},
   "source": "#### Cleanup: \n```sh\n[ \"$(uname)\" = 'FreeBSD' ] && rmuser -y testuser1 || userdel -f testuser1\n```"
  },
  {
   "cell_type": "code",
   "execution_count": null,
   "id": "57b39529",
   "metadata": {},
   "outputs": [],
   "source": "Invoke-AtomicTest T1070.003 -TestNumbers 9 -Cleanup"
  },
  {
   "cell_type": "markdown",
   "id": "5cae259a",
   "metadata": {},
   "source": [
    "### Atomic Test #10 - Prevent Powershell History Logging",
    "Prevents Powershell history\n",
    "**Supported Platforms:** windows",
    "#### Attack Commands: Run with `powershell`\n",
    "```powershell\nSet-PSReadlineOption -HistorySaveStyle SaveNothing\n```"
   ]
  },
  {
   "cell_type": "code",
   "execution_count": null,
   "id": "cfd24c4a",
   "metadata": {},
   "outputs": [],
   "source": "Invoke-AtomicTest T1070.003 -TestNumbers 10"
  },
  {
   "cell_type": "markdown",
   "id": "bcc29998",
   "metadata": {},
   "source": "#### Cleanup: \n```powershell\nSet-PSReadLineOption -HistorySaveStyle SaveIncrementally```"
  },
  {
   "cell_type": "code",
   "execution_count": null,
   "id": "01fa9cd4",
   "metadata": {},
   "outputs": [],
   "source": "Invoke-AtomicTest T1070.003 -TestNumbers 10 -Cleanup"
  },
  {
   "cell_type": "markdown",
   "id": "574e0579",
   "metadata": {},
   "source": [
    "### Atomic Test #11 - Clear Powershell History by Deleting History File",
    "Clears Powershell history\n",
    "**Supported Platforms:** windows",
    "#### Attack Commands: Run with `powershell`\n",
    "```powershell\nRemove-Item (Get-PSReadlineOption).HistorySavePath\n```"
   ]
  },
  {
   "cell_type": "code",
   "execution_count": null,
   "id": "7ddfbc61",
   "metadata": {},
   "outputs": [],
   "source": "Invoke-AtomicTest T1070.003 -TestNumbers 11"
  },
  {
   "cell_type": "markdown",
   "id": "cc4d6f54",
   "metadata": {},
   "source": [
    "### Atomic Test #12 - Set Custom AddToHistoryHandler to Avoid History File Logging",
    "The \"AddToHistoryHandler\" receives the current command as the $line variable and then returns $true if \nthe line should be written to the history file. Here we simply return $false so nothing gets added to \nthe history file for the current session. \n",
    "**Supported Platforms:** windows",
    "#### Attack Commands: Run with `powershell`\n",
    "```powershell\nSet-PSReadLineOption -AddToHistoryHandler { return $false }\n```"
   ]
  },
  {
   "cell_type": "code",
   "execution_count": null,
   "id": "530a368b",
   "metadata": {},
   "outputs": [],
   "source": "Invoke-AtomicTest T1070.003 -TestNumbers 12"
  },
  {
   "cell_type": "markdown",
   "id": "bf4f8666",
   "metadata": {},
   "source": "#### Cleanup: \n```powershell\nSet-PSReadLineOption -AddToHistoryHandler $null\n```"
  },
  {
   "cell_type": "code",
   "execution_count": null,
   "id": "a64946c0",
   "metadata": {},
   "outputs": [],
   "source": "Invoke-AtomicTest T1070.003 -TestNumbers 12 -Cleanup"
  },
  {
   "cell_type": "markdown",
   "id": "f061a07b",
   "metadata": {},
   "source": "## Detection\nUser authentication, especially via remote terminal services like SSH, without new entries in that user's <code>~/.bash_history</code> is suspicious. Additionally, the removal/clearing of the <code>~/.bash_history</code> file can be an indicator of suspicious activity.\n\nMonitor for suspicious modifications or deletion of <code>ConsoleHost_history.txt</code> and use of the <code>Clear-History</code> command."
  }
 ],
 "metadata": {
  "kernelspec": {
   "display_name": ".NET (PowerShell)",
   "language": "pwsh",
   "name": ".net-powershell"
  },
  "language_info": {
   "file_extension": ".ps1",
   "mimetype": "text/x-powershell",
   "name": "pwsh",
   "pygments_lexer": "powershell",
   "version": "7.0"
  }
 },
 "nbformat": 4,
 "nbformat_minor": 5
}