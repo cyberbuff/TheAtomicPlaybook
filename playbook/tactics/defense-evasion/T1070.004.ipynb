{
 "cells": [
  {
   "cell_type": "markdown",
   "id": "b497b07a",
   "metadata": {},
   "source": "# T1070.004 - File Deletion\nAdversaries may delete files left behind by the actions of their intrusion activity. Malware, tools, or other non-native files dropped or created on a system by an adversary (ex: [Ingress Tool Transfer](https://attack.mitre.org/techniques/T1105)) may leave traces to indicate to what was done within a network and how. Removal of these files can occur during an intrusion, or as part of a post-intrusion process to minimize the adversary's footprint.\n\nThere are tools available from the host operating system to perform cleanup, but adversaries may use other tools as well.(Citation: Microsoft SDelete July 2016) Examples of built-in [Command and Scripting Interpreter](https://attack.mitre.org/techniques/T1059) functions include <code>del</code> on Windows and <code>rm</code> or <code>unlink</code> on Linux and macOS."
  },
  {
   "cell_type": "markdown",
   "id": "7d2c7e63",
   "metadata": {},
   "source": "## Atomic Tests"
  },
  {
   "cell_type": "markdown",
   "id": "6a1ece5c",
   "metadata": {},
   "source": "### Atomic Test #1 - Delete a single file - FreeBSD/Linux/macOS\nDelete a single file from the temporary directory\n\n**Supported Platforms:** linux, macos\n#### Dependencies:  Run with `sh`!\n##### Description: The file must exist in order to be deleted\n\n##### Check Prereq Commands:\n```sh\ntest -e /tmp/victim-files/T1070.004-test.txt && exit 0 || exit 1\n\n```\n##### Get Prereq Commands:\n```sh\nmkdir -p /tmp/victim-files/ && touch /tmp/victim-files/T1070.004-test.txt\n\n```"
  },
  {
   "cell_type": "code",
   "execution_count": null,
   "id": "2e198fd5",
   "metadata": {},
   "outputs": [],
   "source": "Invoke-AtomicTest T1070.004 -TestNumbers 1 -GetPreReqs"
  },
  {
   "cell_type": "markdown",
   "id": "d8b793a2",
   "metadata": {},
   "source": [
    "#### Attack Commands: Run with `sh`\n",
    "```sh\nrm -f /tmp/victim-files/T1070.004-test.txt\n```"
   ]
  },
  {
   "cell_type": "code",
   "execution_count": null,
   "id": "d02d108a",
   "metadata": {},
   "outputs": [],
   "source": "Invoke-AtomicTest T1070.004 -TestNumbers 1"
  },
  {
   "cell_type": "markdown",
   "id": "83ce760f",
   "metadata": {},
   "source": "#### Cleanup: \n```sh\nrm -rf /tmp/victim-files/\n```"
  },
  {
   "cell_type": "code",
   "execution_count": null,
   "id": "9b0e73b8",
   "metadata": {},
   "outputs": [],
   "source": "Invoke-AtomicTest T1070.004 -TestNumbers 1 -Cleanup"
  },
  {
   "cell_type": "markdown",
   "id": "e1baf3eb",
   "metadata": {},
   "source": "### Atomic Test #2 - Delete an entire folder - FreeBSD/Linux/macOS\nRecursively delete the temporary directory and all files contained within it\n\n**Supported Platforms:** linux, macos\n#### Dependencies:  Run with `sh`!\n##### Description: The folder must exist in order to be deleted\n\n##### Check Prereq Commands:\n```sh\ntest -e /tmp/victim-folder && exit 0 || exit 1\n\n```\n##### Get Prereq Commands:\n```sh\nmkdir -p /tmp/victim-folder\n\n```"
  },
  {
   "cell_type": "code",
   "execution_count": null,
   "id": "b8a9ecdf",
   "metadata": {},
   "outputs": [],
   "source": "Invoke-AtomicTest T1070.004 -TestNumbers 2 -GetPreReqs"
  },
  {
   "cell_type": "markdown",
   "id": "a4b8947f",
   "metadata": {},
   "source": [
    "#### Attack Commands: Run with `sh`\n",
    "```sh\nrm -rf /tmp/victim-folder\n```"
   ]
  },
  {
   "cell_type": "code",
   "execution_count": null,
   "id": "5baf3e96",
   "metadata": {},
   "outputs": [],
   "source": "Invoke-AtomicTest T1070.004 -TestNumbers 2"
  },
  {
   "cell_type": "markdown",
   "id": "e5bf8a90",
   "metadata": {},
   "source": [
    "### Atomic Test #3 - Overwrite and delete a file with shred",
    "Use the `shred` command to overwrite the temporary file and then delete it\n",
    "**Supported Platforms:** linux",
    "#### Attack Commands: Run with `sh`\n",
    "```sh\nshred -u /tmp/victim-shred.txt\n```"
   ]
  },
  {
   "cell_type": "code",
   "execution_count": null,
   "id": "cbbf81ff",
   "metadata": {},
   "outputs": [],
   "source": "Invoke-AtomicTest T1070.004 -TestNumbers 3"
  },
  {
   "cell_type": "markdown",
   "id": "6677447b",
   "metadata": {},
   "source": "### Atomic Test #4 - Delete a single file - Windows cmd\nDelete a single file from the temporary directory using cmd.exe.\nUpon execution, no output will be displayed. Use File Explorer to verify the file was deleted.\n\n**Supported Platforms:** windows\n#### Dependencies:  Run with `command_prompt`!\n##### Description: The file to delete must exist on disk at specified location (#{file_to_delete})\n\n##### Check Prereq Commands:\n```cmd\nIF EXIST \"%temp%\\deleteme_T1551.004\" ( EXIT 0 ) ELSE ( EXIT 1 )\n\n```\n##### Get Prereq Commands:\n```cmd\necho deleteme_T1551.004 >> %temp%\\deleteme_T1551.004\n\n```"
  },
  {
   "cell_type": "code",
   "execution_count": null,
   "id": "19624736",
   "metadata": {},
   "outputs": [],
   "source": "Invoke-AtomicTest T1070.004 -TestNumbers 4 -GetPreReqs"
  },
  {
   "cell_type": "markdown",
   "id": "6e69fd51",
   "metadata": {},
   "source": [
    "#### Attack Commands: Run with `command_prompt`\n",
    "```command_prompt\ndel /f %temp%\\deleteme_T1551.004\n```"
   ]
  },
  {
   "cell_type": "code",
   "execution_count": null,
   "id": "325cefde",
   "metadata": {},
   "outputs": [],
   "source": "Invoke-AtomicTest T1070.004 -TestNumbers 4"
  },
  {
   "cell_type": "markdown",
   "id": "1aa0da2e",
   "metadata": {},
   "source": "### Atomic Test #5 - Delete an entire folder - Windows cmd\nRecursively delete a folder in the temporary directory using cmd.exe.\nUpon execution, no output will be displayed. Use File Explorer to verify the folder was deleted.\n\n**Supported Platforms:** windows\n#### Dependencies:  Run with `command_prompt`!\n##### Description: The file to delete must exist on disk at specified location (#{folder_to_delete})\n\n##### Check Prereq Commands:\n```cmd\nIF EXIST \"%temp%\\deleteme_T1551.004\" ( EXIT 0 ) ELSE ( EXIT 1 )\n\n```\n##### Get Prereq Commands:\n```cmd\nmkdir %temp%\\deleteme_T1551.004\n\n```"
  },
  {
   "cell_type": "code",
   "execution_count": null,
   "id": "8d3e860b",
   "metadata": {},
   "outputs": [],
   "source": "Invoke-AtomicTest T1070.004 -TestNumbers 5 -GetPreReqs"
  },
  {
   "cell_type": "markdown",
   "id": "cad734e1",
   "metadata": {},
   "source": [
    "#### Attack Commands: Run with `command_prompt`\n",
    "```command_prompt\nrmdir /s /q %temp%\\deleteme_T1551.004\n```"
   ]
  },
  {
   "cell_type": "code",
   "execution_count": null,
   "id": "191905ef",
   "metadata": {},
   "outputs": [],
   "source": "Invoke-AtomicTest T1070.004 -TestNumbers 5"
  },
  {
   "cell_type": "markdown",
   "id": "26f28703",
   "metadata": {},
   "source": "### Atomic Test #6 - Delete a single file - Windows PowerShell\nDelete a single file from the temporary directory using Powershell. Upon execution, no output will be displayed. Use File Explorer to verify the file was deleted.\n\n**Supported Platforms:** windows\n#### Dependencies:  Run with `powershell`!\n##### Description: The file to delete must exist on disk at specified location (#{file_to_delete})\n\n##### Check Prereq Commands:\n```powershell\nif (Test-Path $env:TEMP\\deleteme_T1551.004) {exit 0} else {exit 1}\n\n```\n##### Get Prereq Commands:\n```powershell\nNew-Item -Path $env:TEMP\\deleteme_T1551.004 | Out-Null\n\n```"
  },
  {
   "cell_type": "code",
   "execution_count": null,
   "id": "e294131d",
   "metadata": {},
   "outputs": [],
   "source": "Invoke-AtomicTest T1070.004 -TestNumbers 6 -GetPreReqs"
  },
  {
   "cell_type": "markdown",
   "id": "02f19aa7",
   "metadata": {},
   "source": [
    "#### Attack Commands: Run with `powershell`\n",
    "```powershell\nRemove-Item -path $env:TEMP\\deleteme_T1551.004\n```"
   ]
  },
  {
   "cell_type": "code",
   "execution_count": null,
   "id": "352b620d",
   "metadata": {},
   "outputs": [],
   "source": "Invoke-AtomicTest T1070.004 -TestNumbers 6"
  },
  {
   "cell_type": "markdown",
   "id": "efe1cbdf",
   "metadata": {},
   "source": "### Atomic Test #7 - Delete an entire folder - Windows PowerShell\nRecursively delete a folder in the temporary directory using Powershell. Upon execution, no output will be displayed. Use File Explorer to verify the folder was deleted.\n\n**Supported Platforms:** windows\n#### Dependencies:  Run with `powershell`!\n##### Description: The folder to delete must exist on disk at specified location (#{folder_to_delete})\n\n##### Check Prereq Commands:\n```powershell\nif (Test-Path $env:TEMP\\deleteme_folder_T1551.004) {exit 0} else {exit 1}\n\n```\n##### Get Prereq Commands:\n```powershell\nNew-Item -Path $env:TEMP\\deleteme_folder_T1551.004 -Type Directory | Out-Null\n\n```"
  },
  {
   "cell_type": "code",
   "execution_count": null,
   "id": "a21e732d",
   "metadata": {},
   "outputs": [],
   "source": "Invoke-AtomicTest T1070.004 -TestNumbers 7 -GetPreReqs"
  },
  {
   "cell_type": "markdown",
   "id": "319af535",
   "metadata": {},
   "source": [
    "#### Attack Commands: Run with `powershell`\n",
    "```powershell\nRemove-Item -Path $env:TEMP\\deleteme_folder_T1551.004 -Recurse\n```"
   ]
  },
  {
   "cell_type": "code",
   "execution_count": null,
   "id": "1082ea7f",
   "metadata": {},
   "outputs": [],
   "source": "Invoke-AtomicTest T1070.004 -TestNumbers 7"
  },
  {
   "cell_type": "markdown",
   "id": "f3383032",
   "metadata": {},
   "source": [
    "### Atomic Test #8 - Delete Filesystem - Linux",
    "This test deletes the entire root filesystem of a Linux system. This technique was used by Amnesia IoT malware to avoid analysis. This test is dangerous and destructive, do NOT use on production equipment.\n",
    "**Supported Platforms:** linux",
    "#### Attack Commands: Run with `sh`\n",
    "```sh\n[ \"$(uname)\" = 'Linux' ] && rm -rf / --no-preserve-root > /dev/null 2> /dev/null || chflags -R 0 / && rm -rf / > /dev/null 2> /dev/null\n```"
   ]
  },
  {
   "cell_type": "code",
   "execution_count": null,
   "id": "363b8271",
   "metadata": {},
   "outputs": [],
   "source": "Invoke-AtomicTest T1070.004 -TestNumbers 8"
  },
  {
   "cell_type": "markdown",
   "id": "4aed8251",
   "metadata": {},
   "source": [
    "### Atomic Test #9 - Delete Prefetch File",
    "Delete a single prefetch file.  Deletion of prefetch files is a known anti-forensic technique. To verify execution, Run \"(Get-ChildItem -Path \"$Env:SystemRoot\\prefetch\\*.pf\" | Measure-Object).Count\"\nbefore and after the test to verify that the number of prefetch files decreases by 1.\n",
    "**Supported Platforms:** windows",
    "\nElevation Required (e.g. root or admin)",
    "#### Attack Commands: Run with `powershell`\n",
    "```powershell\nRemove-Item -Path (Join-Path \"$Env:SystemRoot\\prefetch\\\" (Get-ChildItem -Path \"$Env:SystemRoot\\prefetch\\*.pf\" -Name)[0])\n```"
   ]
  },
  {
   "cell_type": "code",
   "execution_count": null,
   "id": "cf2bafc9",
   "metadata": {},
   "outputs": [],
   "source": "Invoke-AtomicTest T1070.004 -TestNumbers 9"
  },
  {
   "cell_type": "markdown",
   "id": "2c646dcf",
   "metadata": {},
   "source": [
    "### Atomic Test #10 - Delete TeamViewer Log Files",
    "Adversaries may delete TeamViewer log files to hide activity. This should provide a high true-positive alert ration.\nThis test just places the files in a non-TeamViewer folder, a detection would just check for a deletion event matching the TeamViewer\nlog file format of TeamViewer_##.log. Upon execution, no output will be displayed. Use File Explorer to verify the folder was deleted.\n\nhttps://twitter.com/SBousseaden/status/1197524463304290305?s=20\n",
    "**Supported Platforms:** windows",
    "#### Attack Commands: Run with `powershell`\n",
    "```powershell\nNew-Item -Path $env:TEMP\\TeamViewer_54.log -Force | Out-Null\nRemove-Item $env:TEMP\\TeamViewer_54.log -Force -ErrorAction Ignore\n```"
   ]
  },
  {
   "cell_type": "code",
   "execution_count": null,
   "id": "ef676016",
   "metadata": {},
   "outputs": [],
   "source": "Invoke-AtomicTest T1070.004 -TestNumbers 10"
  },
  {
   "cell_type": "markdown",
   "id": "14308ee7",
   "metadata": {},
   "source": "## Detection\nIt may be uncommon for events related to benign command-line functions such as DEL or third-party utilities or tools to be found in an environment, depending on the user base and how systems are typically used. Monitoring for command-line deletion functions to correlate with binaries or other files that an adversary may drop and remove may lead to detection of malicious activity. Another good practice is monitoring for known deletion and secure deletion tools that are not already on systems within an enterprise network that an adversary could introduce. Some monitoring tools may collect command-line arguments, but may not capture DEL commands since DEL is a native function within cmd.exe."
  }
 ],
 "metadata": {
  "kernelspec": {
   "display_name": ".NET (PowerShell)",
   "language": "pwsh",
   "name": ".net-powershell"
  },
  "language_info": {
   "file_extension": ".ps1",
   "mimetype": "text/x-powershell",
   "name": "pwsh",
   "pygments_lexer": "powershell",
   "version": "7.0"
  }
 },
 "nbformat": 4,
 "nbformat_minor": 5
}