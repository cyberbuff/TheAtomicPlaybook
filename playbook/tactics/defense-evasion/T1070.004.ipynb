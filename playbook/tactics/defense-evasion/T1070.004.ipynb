{
 "cells": [
  {
   "cell_type": "markdown",
   "id": "7f1ea555",
   "metadata": {},
   "source": "# T1070.004 - File Deletion\nAdversaries may delete files left behind by the actions of their intrusion activity. Malware, tools, or other non-native files dropped or created on a system by an adversary (ex: [Ingress Tool Transfer](https://attack.mitre.org/techniques/T1105)) may leave traces to indicate to what was done within a network and how. Removal of these files can occur during an intrusion, or as part of a post-intrusion process to minimize the adversary's footprint.\n\nThere are tools available from the host operating system to perform cleanup, but adversaries may use other tools as well.(Citation: Microsoft SDelete July 2016) Examples of built-in [Command and Scripting Interpreter](https://attack.mitre.org/techniques/T1059) functions include <code>del</code> on Windows and <code>rm</code> or <code>unlink</code> on Linux and macOS."
  },
  {
   "cell_type": "markdown",
   "id": "7de0e7a2",
   "metadata": {},
   "source": "## Atomic Tests"
  },
  {
   "cell_type": "markdown",
   "id": "077eec7e",
   "metadata": {},
   "source": "### Atomic Test #1 - Delete a single file - FreeBSD/Linux/macOS\nDelete a single file from the temporary directory\n\n**Supported Platforms:** linux, macos\n#### Dependencies:  Run with `sh`!\n##### Description: The file must exist in order to be deleted\n\n##### Check Prereq Commands:\n```sh\ntest -e /tmp/victim-files/T1070.004-test.txt && exit 0 || exit 1\n\n```\n##### Get Prereq Commands:\n```sh\nmkdir -p /tmp/victim-files/ && touch /tmp/victim-files/T1070.004-test.txt\n\n```"
  },
  {
   "cell_type": "code",
   "execution_count": null,
   "id": "19ac849b",
   "metadata": {},
   "outputs": [],
   "source": "Invoke-AtomicTest T1070.004 -TestNumbers 1 -GetPreReqs"
  },
  {
   "cell_type": "markdown",
   "id": "f880f7ca",
   "metadata": {},
   "source": [
    "#### Attack Commands: Run with `sh`\n",
    "```sh\nrm -f /tmp/victim-files/T1070.004-test.txt\n```"
   ]
  },
  {
   "cell_type": "code",
   "execution_count": null,
   "id": "b72fe2e6",
   "metadata": {},
   "outputs": [],
   "source": "Invoke-AtomicTest T1070.004 -TestNumbers 1"
  },
  {
   "cell_type": "markdown",
   "id": "0e723d46",
   "metadata": {},
   "source": "#### Cleanup: \n```sh\nrm -rf /tmp/victim-files/\n```"
  },
  {
   "cell_type": "code",
   "execution_count": null,
   "id": "adf9ea24",
   "metadata": {},
   "outputs": [],
   "source": "Invoke-AtomicTest T1070.004 -TestNumbers 1 -Cleanup"
  },
  {
   "cell_type": "markdown",
   "id": "f4adfdae",
   "metadata": {},
   "source": "### Atomic Test #2 - Delete an entire folder - FreeBSD/Linux/macOS\nRecursively delete the temporary directory and all files contained within it\n\n**Supported Platforms:** linux, macos\n#### Dependencies:  Run with `sh`!\n##### Description: The folder must exist in order to be deleted\n\n##### Check Prereq Commands:\n```sh\ntest -e /tmp/victim-folder && exit 0 || exit 1\n\n```\n##### Get Prereq Commands:\n```sh\nmkdir -p /tmp/victim-folder\n\n```"
  },
  {
   "cell_type": "code",
   "execution_count": null,
   "id": "cdfe3c4d",
   "metadata": {},
   "outputs": [],
   "source": "Invoke-AtomicTest T1070.004 -TestNumbers 2 -GetPreReqs"
  },
  {
   "cell_type": "markdown",
   "id": "3f3665be",
   "metadata": {},
   "source": [
    "#### Attack Commands: Run with `sh`\n",
    "```sh\nrm -rf /tmp/victim-folder\n```"
   ]
  },
  {
   "cell_type": "code",
   "execution_count": null,
   "id": "0ce3011b",
   "metadata": {},
   "outputs": [],
   "source": "Invoke-AtomicTest T1070.004 -TestNumbers 2"
  },
  {
   "cell_type": "markdown",
   "id": "267bbbfb",
   "metadata": {},
   "source": [
    "### Atomic Test #3 - Overwrite and delete a file with shred",
    "Use the `shred` command to overwrite the temporary file and then delete it\n",
    "**Supported Platforms:** linux",
    "#### Attack Commands: Run with `sh`\n",
    "```sh\nshred -u /tmp/victim-shred.txt\n```"
   ]
  },
  {
   "cell_type": "code",
   "execution_count": null,
   "id": "14cac059",
   "metadata": {},
   "outputs": [],
   "source": "Invoke-AtomicTest T1070.004 -TestNumbers 3"
  },
  {
   "cell_type": "markdown",
   "id": "efbc8567",
   "metadata": {},
   "source": "### Atomic Test #4 - Delete a single file - Windows cmd\nDelete a single file from the temporary directory using cmd.exe.\nUpon execution, no output will be displayed. Use File Explorer to verify the file was deleted.\n\n**Supported Platforms:** windows\n#### Dependencies:  Run with `command_prompt`!\n##### Description: The file to delete must exist on disk at specified location (#{file_to_delete})\n\n##### Check Prereq Commands:\n```cmd\nIF EXIST \"%temp%\\deleteme_T1551.004\" ( EXIT 0 ) ELSE ( EXIT 1 )\n\n```\n##### Get Prereq Commands:\n```cmd\necho deleteme_T1551.004 >> %temp%\\deleteme_T1551.004\n\n```"
  },
  {
   "cell_type": "code",
   "execution_count": null,
   "id": "8a4efbc0",
   "metadata": {},
   "outputs": [],
   "source": "Invoke-AtomicTest T1070.004 -TestNumbers 4 -GetPreReqs"
  },
  {
   "cell_type": "markdown",
   "id": "cdc2b31e",
   "metadata": {},
   "source": [
    "#### Attack Commands: Run with `command_prompt`\n",
    "```command_prompt\ndel /f %temp%\\deleteme_T1551.004\n```"
   ]
  },
  {
   "cell_type": "code",
   "execution_count": null,
   "id": "acca39ee",
   "metadata": {},
   "outputs": [],
   "source": "Invoke-AtomicTest T1070.004 -TestNumbers 4"
  },
  {
   "cell_type": "markdown",
   "id": "cc7ccc8e",
   "metadata": {},
   "source": "### Atomic Test #5 - Delete an entire folder - Windows cmd\nRecursively delete a folder in the temporary directory using cmd.exe.\nUpon execution, no output will be displayed. Use File Explorer to verify the folder was deleted.\n\n**Supported Platforms:** windows\n#### Dependencies:  Run with `command_prompt`!\n##### Description: The file to delete must exist on disk at specified location (#{folder_to_delete})\n\n##### Check Prereq Commands:\n```cmd\nIF EXIST \"%temp%\\deleteme_T1551.004\" ( EXIT 0 ) ELSE ( EXIT 1 )\n\n```\n##### Get Prereq Commands:\n```cmd\nmkdir %temp%\\deleteme_T1551.004\n\n```"
  },
  {
   "cell_type": "code",
   "execution_count": null,
   "id": "4c4e45ac",
   "metadata": {},
   "outputs": [],
   "source": "Invoke-AtomicTest T1070.004 -TestNumbers 5 -GetPreReqs"
  },
  {
   "cell_type": "markdown",
   "id": "61a279cd",
   "metadata": {},
   "source": [
    "#### Attack Commands: Run with `command_prompt`\n",
    "```command_prompt\nrmdir /s /q %temp%\\deleteme_T1551.004\n```"
   ]
  },
  {
   "cell_type": "code",
   "execution_count": null,
   "id": "08bcc0bd",
   "metadata": {},
   "outputs": [],
   "source": "Invoke-AtomicTest T1070.004 -TestNumbers 5"
  },
  {
   "cell_type": "markdown",
   "id": "8a0b61c3",
   "metadata": {},
   "source": "### Atomic Test #6 - Delete a single file - Windows PowerShell\nDelete a single file from the temporary directory using Powershell. Upon execution, no output will be displayed. Use File Explorer to verify the file was deleted.\n\n**Supported Platforms:** windows\n#### Dependencies:  Run with `powershell`!\n##### Description: The file to delete must exist on disk at specified location (#{file_to_delete})\n\n##### Check Prereq Commands:\n```powershell\nif (Test-Path $env:TEMP\\deleteme_T1551.004) {exit 0} else {exit 1}\n\n```\n##### Get Prereq Commands:\n```powershell\nNew-Item -Path $env:TEMP\\deleteme_T1551.004 | Out-Null\n\n```"
  },
  {
   "cell_type": "code",
   "execution_count": null,
   "id": "f25827b7",
   "metadata": {},
   "outputs": [],
   "source": "Invoke-AtomicTest T1070.004 -TestNumbers 6 -GetPreReqs"
  },
  {
   "cell_type": "markdown",
   "id": "b7b8f382",
   "metadata": {},
   "source": [
    "#### Attack Commands: Run with `powershell`\n",
    "```powershell\nRemove-Item -path $env:TEMP\\deleteme_T1551.004\n```"
   ]
  },
  {
   "cell_type": "code",
   "execution_count": null,
   "id": "56c894d1",
   "metadata": {},
   "outputs": [],
   "source": "Invoke-AtomicTest T1070.004 -TestNumbers 6"
  },
  {
   "cell_type": "markdown",
   "id": "ca6c6b23",
   "metadata": {},
   "source": "### Atomic Test #7 - Delete an entire folder - Windows PowerShell\nRecursively delete a folder in the temporary directory using Powershell. Upon execution, no output will be displayed. Use File Explorer to verify the folder was deleted.\n\n**Supported Platforms:** windows\n#### Dependencies:  Run with `powershell`!\n##### Description: The folder to delete must exist on disk at specified location (#{folder_to_delete})\n\n##### Check Prereq Commands:\n```powershell\nif (Test-Path $env:TEMP\\deleteme_folder_T1551.004) {exit 0} else {exit 1}\n\n```\n##### Get Prereq Commands:\n```powershell\nNew-Item -Path $env:TEMP\\deleteme_folder_T1551.004 -Type Directory | Out-Null\n\n```"
  },
  {
   "cell_type": "code",
   "execution_count": null,
   "id": "e5ee89ad",
   "metadata": {},
   "outputs": [],
   "source": "Invoke-AtomicTest T1070.004 -TestNumbers 7 -GetPreReqs"
  },
  {
   "cell_type": "markdown",
   "id": "c3e1bd59",
   "metadata": {},
   "source": [
    "#### Attack Commands: Run with `powershell`\n",
    "```powershell\nRemove-Item -Path $env:TEMP\\deleteme_folder_T1551.004 -Recurse\n```"
   ]
  },
  {
   "cell_type": "code",
   "execution_count": null,
   "id": "87704f0e",
   "metadata": {},
   "outputs": [],
   "source": "Invoke-AtomicTest T1070.004 -TestNumbers 7"
  },
  {
   "cell_type": "markdown",
   "id": "05fde8d8",
   "metadata": {},
   "source": [
    "### Atomic Test #8 - Delete Filesystem - Linux",
    "This test deletes the entire root filesystem of a Linux system. This technique was used by Amnesia IoT malware to avoid analysis. This test is dangerous and destructive, do NOT use on production equipment.\n",
    "**Supported Platforms:** linux",
    "#### Attack Commands: Run with `sh`\n",
    "```sh\n[ \"$(uname)\" = 'Linux' ] && rm -rf / --no-preserve-root > /dev/null 2> /dev/null || chflags -R 0 / && rm -rf / > /dev/null 2> /dev/null\n```"
   ]
  },
  {
   "cell_type": "code",
   "execution_count": null,
   "id": "9b519df9",
   "metadata": {},
   "outputs": [],
   "source": "Invoke-AtomicTest T1070.004 -TestNumbers 8"
  },
  {
   "cell_type": "markdown",
   "id": "5589cd61",
   "metadata": {},
   "source": [
    "### Atomic Test #9 - Delete Prefetch File",
    "Delete a single prefetch file.  Deletion of prefetch files is a known anti-forensic technique. To verify execution, Run \"(Get-ChildItem -Path \"$Env:SystemRoot\\prefetch\\*.pf\" | Measure-Object).Count\"\nbefore and after the test to verify that the number of prefetch files decreases by 1.\n",
    "**Supported Platforms:** windows",
    "\nElevation Required (e.g. root or admin)",
    "#### Attack Commands: Run with `powershell`\n",
    "```powershell\nRemove-Item -Path (Join-Path \"$Env:SystemRoot\\prefetch\\\" (Get-ChildItem -Path \"$Env:SystemRoot\\prefetch\\*.pf\" -Name)[0])\n```"
   ]
  },
  {
   "cell_type": "code",
   "execution_count": null,
   "id": "3b2c8e18",
   "metadata": {},
   "outputs": [],
   "source": "Invoke-AtomicTest T1070.004 -TestNumbers 9"
  },
  {
   "cell_type": "markdown",
   "id": "a0ae3712",
   "metadata": {},
   "source": [
    "### Atomic Test #10 - Delete TeamViewer Log Files",
    "Adversaries may delete TeamViewer log files to hide activity. This should provide a high true-positive alert ration.\nThis test just places the files in a non-TeamViewer folder, a detection would just check for a deletion event matching the TeamViewer\nlog file format of TeamViewer_##.log. Upon execution, no output will be displayed. Use File Explorer to verify the folder was deleted.\n\nhttps://twitter.com/SBousseaden/status/1197524463304290305?s=20\n",
    "**Supported Platforms:** windows",
    "#### Attack Commands: Run with `powershell`\n",
    "```powershell\nNew-Item -Path $env:TEMP\\TeamViewer_54.log -Force | Out-Null\nRemove-Item $env:TEMP\\TeamViewer_54.log -Force -ErrorAction Ignore\n```"
   ]
  },
  {
   "cell_type": "code",
   "execution_count": null,
   "id": "f723c65e",
   "metadata": {},
   "outputs": [],
   "source": "Invoke-AtomicTest T1070.004 -TestNumbers 10"
  },
  {
   "cell_type": "markdown",
   "id": "478c2536",
   "metadata": {},
   "source": "## Detection\nIt may be uncommon for events related to benign command-line functions such as DEL or third-party utilities or tools to be found in an environment, depending on the user base and how systems are typically used. Monitoring for command-line deletion functions to correlate with binaries or other files that an adversary may drop and remove may lead to detection of malicious activity. Another good practice is monitoring for known deletion and secure deletion tools that are not already on systems within an enterprise network that an adversary could introduce. Some monitoring tools may collect command-line arguments, but may not capture DEL commands since DEL is a native function within cmd.exe."
  }
 ],
 "metadata": {
  "kernelspec": {
   "display_name": ".NET (PowerShell)",
   "language": "pwsh",
   "name": ".net-powershell"
  },
  "language_info": {
   "file_extension": ".ps1",
   "mimetype": "text/x-powershell",
   "name": "pwsh",
   "pygments_lexer": "powershell",
   "version": "7.0"
  }
 },
 "nbformat": 4,
 "nbformat_minor": 5
}