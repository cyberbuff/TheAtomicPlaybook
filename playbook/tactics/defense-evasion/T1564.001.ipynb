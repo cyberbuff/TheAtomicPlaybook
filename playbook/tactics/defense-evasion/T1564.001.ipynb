{
 "cells": [
  {
   "cell_type": "markdown",
   "id": "bfb44ffc",
   "metadata": {},
   "source": "# T1564.001 - Hidden Files and Directories\nAdversaries may set files and directories to be hidden to evade detection mechanisms. To prevent normal users from accidentally changing special files on a system, most operating systems have the concept of a \u2018hidden\u2019 file. These files don\u2019t show up when a user browses the file system with a GUI or when using normal commands on the command line. Users must explicitly ask to show the hidden files either via a series of Graphical User Interface (GUI) prompts or with command line switches (<code>dir /a</code> for Windows and <code>ls \u2013a</code> for Linux and macOS).\n\nOn Linux and Mac, users can mark specific files as hidden simply by putting a \u201c.\u201d as the first character in the file or folder name  (Citation: Sofacy Komplex Trojan) (Citation: Antiquated Mac Malware). Files and folders that start with a period, \u2018.\u2019, are by default hidden from being viewed in the Finder application and standard command-line utilities like \u201cls\u201d. Users must specifically change settings to have these files viewable.\n\nFiles on macOS can also be marked with the UF_HIDDEN flag which prevents them from being seen in Finder.app, but still allows them to be seen in Terminal.app (Citation: WireLurker). On Windows, users can mark specific files as hidden by using the attrib.exe binary. Many applications create these hidden files and folders to store information so that it doesn\u2019t clutter up the user\u2019s workspace. For example, SSH utilities create a .ssh folder that\u2019s hidden and contains the user\u2019s known hosts and keys.\n\nAdversaries can use this to their advantage to hide files and folders anywhere on the system and evading a typical user or system analysis that does not incorporate investigation of hidden files."
  },
  {
   "cell_type": "markdown",
   "id": "5aaf6588",
   "metadata": {},
   "source": "## Atomic Tests"
  },
  {
   "cell_type": "markdown",
   "id": "c7d9bf2d",
   "metadata": {},
   "source": [
    "### Atomic Test #1 - Create a hidden file in a hidden directory",
    "Creates a hidden file inside a hidden directory\n",
    "**Supported Platforms:** linux, macos",
    "#### Attack Commands: Run with `sh`\n",
    "```sh\nmkdir /var/tmp/.hidden-directory\necho \"T1564.001\" > /var/tmp/.hidden-directory/.hidden-file\n```"
   ]
  },
  {
   "cell_type": "code",
   "execution_count": null,
   "id": "d60a1391",
   "metadata": {},
   "outputs": [],
   "source": "Invoke-AtomicTest T1564.001 -TestNumbers 1"
  },
  {
   "cell_type": "markdown",
   "id": "beffffe9",
   "metadata": {},
   "source": "#### Cleanup: \n```sh\nrm -rf /var/tmp/.hidden-directory/\n```"
  },
  {
   "cell_type": "code",
   "execution_count": null,
   "id": "4ed8be07",
   "metadata": {},
   "outputs": [],
   "source": "Invoke-AtomicTest T1564.001 -TestNumbers 1 -Cleanup"
  },
  {
   "cell_type": "markdown",
   "id": "11e7d70e",
   "metadata": {},
   "source": [
    "### Atomic Test #2 - Mac Hidden file",
    "Hide a file on MacOS\n",
    "**Supported Platforms:** macos",
    "#### Attack Commands: Run with `sh`\n",
    "```sh\nxattr -lr * / 2>&1 /dev/null | grep -C 2 \"00 00 00 00 00 00 00 00 40 00 FF FF FF FF 00 00\"\n```"
   ]
  },
  {
   "cell_type": "code",
   "execution_count": null,
   "id": "bdcc7989",
   "metadata": {},
   "outputs": [],
   "source": "Invoke-AtomicTest T1564.001 -TestNumbers 2"
  },
  {
   "cell_type": "markdown",
   "id": "9d303891",
   "metadata": {},
   "source": "### Atomic Test #3 - Create Windows System File with Attrib\nCreates a file and marks it as a system file using the attrib.exe utility. Upon execution, open the file in file explorer then open Properties > Details\nand observe that the Attributes are \"SA\" for System and Archive.\n\n**Supported Platforms:** windows\n\nElevation Required (e.g. root or admin)\n#### Dependencies:  Run with `command_prompt`!\n##### Description: The file must exist on disk at specified location (#{file_to_modify})\n\n##### Check Prereq Commands:\n```cmd\nIF EXIST %temp%\\T1564.001.txt ( EXIT 0 ) ELSE ( EXIT 1 )\n\n```\n##### Get Prereq Commands:\n```cmd\necho system_Attrib_T1564.001 >> %temp%\\T1564.001.txt\n\n```"
  },
  {
   "cell_type": "code",
   "execution_count": null,
   "id": "aaef5543",
   "metadata": {},
   "outputs": [],
   "source": "Invoke-AtomicTest T1564.001 -TestNumbers 3 -GetPreReqs"
  },
  {
   "cell_type": "markdown",
   "id": "c3c96e3b",
   "metadata": {},
   "source": [
    "#### Attack Commands: Run with `command_prompt`\n",
    "```command_prompt\nattrib.exe +s %temp%\\T1564.001.txt\n```"
   ]
  },
  {
   "cell_type": "code",
   "execution_count": null,
   "id": "ccde8e56",
   "metadata": {},
   "outputs": [],
   "source": "Invoke-AtomicTest T1564.001 -TestNumbers 3"
  },
  {
   "cell_type": "markdown",
   "id": "af78b36c",
   "metadata": {},
   "source": "#### Cleanup: \n```cmd\ndel /A:S %temp%\\T1564.001.txt >nul 2>&1\n```"
  },
  {
   "cell_type": "code",
   "execution_count": null,
   "id": "ca279f91",
   "metadata": {},
   "outputs": [],
   "source": "Invoke-AtomicTest T1564.001 -TestNumbers 3 -Cleanup"
  },
  {
   "cell_type": "markdown",
   "id": "5ce21702",
   "metadata": {},
   "source": "### Atomic Test #4 - Create Windows Hidden File with Attrib\nCreates a file and marks it as hidden using the attrib.exe utility.Upon execution, open File Epxplorer and enable View > Hidden Items. Then, open Properties > Details on the file\nand observe that the Attributes are \"SH\" for System and Hidden.\n\n**Supported Platforms:** windows\n\nElevation Required (e.g. root or admin)\n#### Dependencies:  Run with `command_prompt`!\n##### Description: The file must exist on disk at specified location (#{file_to_modify})\n\n##### Check Prereq Commands:\n```cmd\nIF EXIST %temp%\\T1564.001.txt ( EXIT 0 ) ELSE ( EXIT 1 )\n\n```\n##### Get Prereq Commands:\n```cmd\necho system_Attrib_T1564.001 >> %temp%\\T1564.001.txt\n\n```"
  },
  {
   "cell_type": "code",
   "execution_count": null,
   "id": "76acf788",
   "metadata": {},
   "outputs": [],
   "source": "Invoke-AtomicTest T1564.001 -TestNumbers 4 -GetPreReqs"
  },
  {
   "cell_type": "markdown",
   "id": "734f67e1",
   "metadata": {},
   "source": [
    "#### Attack Commands: Run with `command_prompt`\n",
    "```command_prompt\nattrib.exe +h %temp%\\T1564.001.txt\n```"
   ]
  },
  {
   "cell_type": "code",
   "execution_count": null,
   "id": "29710d47",
   "metadata": {},
   "outputs": [],
   "source": "Invoke-AtomicTest T1564.001 -TestNumbers 4"
  },
  {
   "cell_type": "markdown",
   "id": "159be418",
   "metadata": {},
   "source": "#### Cleanup: \n```cmd\ndel /A:H %temp%\\T1564.001.txt >nul 2>&1\n```"
  },
  {
   "cell_type": "code",
   "execution_count": null,
   "id": "ac3dc11d",
   "metadata": {},
   "outputs": [],
   "source": "Invoke-AtomicTest T1564.001 -TestNumbers 4 -Cleanup"
  },
  {
   "cell_type": "markdown",
   "id": "fe1fb90a",
   "metadata": {},
   "source": [
    "### Atomic Test #5 - Hidden files",
    "Requires Apple Dev Tools\n",
    "**Supported Platforms:** macos",
    "#### Attack Commands: Run with `sh`\n",
    "```sh\nsetfile -a V /tmp/evil\n```"
   ]
  },
  {
   "cell_type": "code",
   "execution_count": null,
   "id": "c7d6d962",
   "metadata": {},
   "outputs": [],
   "source": "Invoke-AtomicTest T1564.001 -TestNumbers 5"
  },
  {
   "cell_type": "markdown",
   "id": "862185b1",
   "metadata": {},
   "source": [
    "### Atomic Test #6 - Hide a Directory",
    "Hide a directory on MacOS\n",
    "**Supported Platforms:** macos",
    "#### Attack Commands: Run with `sh`\n",
    "```sh\ntouch /var/tmp/T1564.001_mac.txt\nchflags hidden /var/tmp/T1564.001_mac.txt\n```"
   ]
  },
  {
   "cell_type": "code",
   "execution_count": null,
   "id": "5d8a49cf",
   "metadata": {},
   "outputs": [],
   "source": "Invoke-AtomicTest T1564.001 -TestNumbers 6"
  },
  {
   "cell_type": "markdown",
   "id": "765ff0fa",
   "metadata": {},
   "source": "#### Cleanup: \n```sh\nrm /var/tmp/T1564.001_mac.txt\n```"
  },
  {
   "cell_type": "code",
   "execution_count": null,
   "id": "226f05de",
   "metadata": {},
   "outputs": [],
   "source": "Invoke-AtomicTest T1564.001 -TestNumbers 6 -Cleanup"
  },
  {
   "cell_type": "markdown",
   "id": "8b9ceb73",
   "metadata": {},
   "source": [
    "### Atomic Test #7 - Show all hidden files",
    "Show all hidden files on MacOS\n",
    "**Supported Platforms:** macos",
    "#### Attack Commands: Run with `sh`\n",
    "```sh\ndefaults write com.apple.finder AppleShowAllFiles YES\n```"
   ]
  },
  {
   "cell_type": "code",
   "execution_count": null,
   "id": "453a1d41",
   "metadata": {},
   "outputs": [],
   "source": "Invoke-AtomicTest T1564.001 -TestNumbers 7"
  },
  {
   "cell_type": "markdown",
   "id": "e04b4973",
   "metadata": {},
   "source": "#### Cleanup: \n```sh\ndefaults write com.apple.finder AppleShowAllFiles NO\n```"
  },
  {
   "cell_type": "code",
   "execution_count": null,
   "id": "f6db8919",
   "metadata": {},
   "outputs": [],
   "source": "Invoke-AtomicTest T1564.001 -TestNumbers 7 -Cleanup"
  },
  {
   "cell_type": "markdown",
   "id": "cb4db83d",
   "metadata": {},
   "source": [
    "### Atomic Test #8 - Hide Files Through Registry",
    "Disable Show Hidden files switch in registry. This technique was abused by several malware to hide their files from normal user.\nSee how this trojan abuses this technique - https://www.sophos.com/en-us/threat-center/threat-analyses/viruses-and-spyware/W32~Tiotua-P/detailed-analysis.aspx \n",
    "**Supported Platforms:** windows",
    "\nElevation Required (e.g. root or admin)",
    "#### Attack Commands: Run with `command_prompt`\n",
    "```command_prompt\nreg add HKLM\\SOFTWARE\\Microsoft\\Windows\\CurrentVersion\\Explorer\\Advanced /v ShowSuperHidden /t REG_DWORD /d 0 /f\nreg add HKLM\\SOFTWARE\\Microsoft\\Windows\\CurrentVersion\\Explorer\\Advanced /v Hidden /t REG_DWORD /d 0 /f\n```"
   ]
  },
  {
   "cell_type": "code",
   "execution_count": null,
   "id": "cf1ca04e",
   "metadata": {},
   "outputs": [],
   "source": "Invoke-AtomicTest T1564.001 -TestNumbers 8"
  },
  {
   "cell_type": "markdown",
   "id": "0655e9f7",
   "metadata": {},
   "source": "#### Cleanup: \n```cmd\nreg delete \"HKLM\\SOFTWARE\\Microsoft\\Windows\\CurrentVersion\\Explorer\\Advanced\" /v ShowSuperHidden /f >nul 2>&1\nreg delete \"HKLM\\SOFTWARE\\Microsoft\\Windows\\CurrentVersion\\Explorer\\Advanced\" /v Hidden /f >nul 2>&1\n```"
  },
  {
   "cell_type": "code",
   "execution_count": null,
   "id": "3510c6b7",
   "metadata": {},
   "outputs": [],
   "source": "Invoke-AtomicTest T1564.001 -TestNumbers 8 -Cleanup"
  },
  {
   "cell_type": "markdown",
   "id": "67943a81",
   "metadata": {},
   "source": "### Atomic Test #9 - Create Windows Hidden File with powershell\nCreates a file and marks it as hidden through powershell. Upon execution, open File Epxplorer and enable View > Hidden Items. Then, open Properties > Details on the file\nand observe that the Attributes is \"H\" Hidden.\n\n**Supported Platforms:** windows\n\nElevation Required (e.g. root or admin)\n#### Dependencies:  Run with `command_prompt`!\n##### Description: The file must exist on disk at specified location (#{file_to_modify})\n\n##### Check Prereq Commands:\n```powershell\nIF EXIST %temp%\\T1564.001-9.txt ( EXIT 0 ) ELSE ( EXIT 1 )\n\n```\n##### Get Prereq Commands:\n```powershell\necho system_Attrib_T1564.001-9 >> %temp%\\T1564.001-9.txt\n\n```"
  },
  {
   "cell_type": "code",
   "execution_count": null,
   "id": "9e917ce5",
   "metadata": {},
   "outputs": [],
   "source": "Invoke-AtomicTest T1564.001 -TestNumbers 9 -GetPreReqs"
  },
  {
   "cell_type": "markdown",
   "id": "5e2b6c59",
   "metadata": {},
   "source": [
    "#### Attack Commands: Run with `powershell`\n",
    "```powershell\n$file = Get-Item $env:temp\\T1564.001-9.txt -Force\n$file.attributes='Hidden'\n```"
   ]
  },
  {
   "cell_type": "code",
   "execution_count": null,
   "id": "12e4bd13",
   "metadata": {},
   "outputs": [],
   "source": "Invoke-AtomicTest T1564.001 -TestNumbers 9"
  },
  {
   "cell_type": "markdown",
   "id": "ec138a66",
   "metadata": {},
   "source": "#### Cleanup: \n```powershell\ncmd /c 'del /A:H %temp%\\T1564.001-9.txt >nul 2>&1'\n```"
  },
  {
   "cell_type": "code",
   "execution_count": null,
   "id": "6fa9e286",
   "metadata": {},
   "outputs": [],
   "source": "Invoke-AtomicTest T1564.001 -TestNumbers 9 -Cleanup"
  },
  {
   "cell_type": "markdown",
   "id": "93244e7d",
   "metadata": {},
   "source": "### Atomic Test #10 - Create Windows System File with powershell\nCreates a file and marks it as System through powershell. Upon execution, open File Epxplorer and enable View > Hidden Items. Then, open Properties > Details on the file\nand observe that the Attributes is \"S\" System.\n\n**Supported Platforms:** windows\n\nElevation Required (e.g. root or admin)\n#### Dependencies:  Run with `command_prompt`!\n##### Description: The file must exist on disk at specified location (#{file_to_modify})\n\n##### Check Prereq Commands:\n```powershell\nIF EXIST %temp%\\T1564.001-10.txt ( EXIT 0 ) ELSE ( EXIT 1 )\n\n```\n##### Get Prereq Commands:\n```powershell\necho system_Attrib_T1564.001-10 >> %temp%\\T1564.001-10.txt\n\n```"
  },
  {
   "cell_type": "code",
   "execution_count": null,
   "id": "40a9079d",
   "metadata": {},
   "outputs": [],
   "source": "Invoke-AtomicTest T1564.001 -TestNumbers 10 -GetPreReqs"
  },
  {
   "cell_type": "markdown",
   "id": "ef9bf637",
   "metadata": {},
   "source": [
    "#### Attack Commands: Run with `powershell`\n",
    "```powershell\n$file = Get-Item $env:temp\\T1564.001-10.txt -Force\n$file.attributes='System'\n```"
   ]
  },
  {
   "cell_type": "code",
   "execution_count": null,
   "id": "ced0a2eb",
   "metadata": {},
   "outputs": [],
   "source": "Invoke-AtomicTest T1564.001 -TestNumbers 10"
  },
  {
   "cell_type": "markdown",
   "id": "b8396af9",
   "metadata": {},
   "source": "#### Cleanup: \n```powershell\ncmd /c 'del /A:H %temp%\\T1564.001-10.txt >nul 2>&1'\n```"
  },
  {
   "cell_type": "code",
   "execution_count": null,
   "id": "d889ab04",
   "metadata": {},
   "outputs": [],
   "source": "Invoke-AtomicTest T1564.001 -TestNumbers 10 -Cleanup"
  },
  {
   "cell_type": "markdown",
   "id": "976582be",
   "metadata": {},
   "source": "## Detection\nMonitor the file system and shell commands for files being created with a leading \".\" and the Windows command-line use of attrib.exe to add the hidden attribute."
  }
 ],
 "metadata": {
  "kernelspec": {
   "display_name": ".NET (PowerShell)",
   "language": "pwsh",
   "name": ".net-powershell"
  },
  "language_info": {
   "file_extension": ".ps1",
   "mimetype": "text/x-powershell",
   "name": "pwsh",
   "pygments_lexer": "powershell",
   "version": "7.0"
  }
 },
 "nbformat": 4,
 "nbformat_minor": 5
}