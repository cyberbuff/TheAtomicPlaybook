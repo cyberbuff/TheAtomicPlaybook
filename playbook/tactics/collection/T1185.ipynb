{
 "cells": [
  {
   "cell_type": "markdown",
   "id": "ab2e1393",
   "metadata": {},
   "source": "# T1185 - Browser Session Hijacking\nAdversaries may take advantage of security vulnerabilities and inherent functionality in browser software to change content, modify user-behaviors, and intercept information as part of various browser session hijacking techniques.(Citation: Wikipedia Man in the Browser)\n\nA specific example is when an adversary injects software into a browser that allows them to inherit cookies, HTTP sessions, and SSL client certificates of a user then use the browser as a way to pivot into an authenticated intranet.(Citation: Cobalt Strike Browser Pivot)(Citation: ICEBRG Chrome Extensions) Executing browser-based behaviors such as pivoting may require specific process permissions, such as <code>SeDebugPrivilege</code> and/or high-integrity/administrator rights.\n\nAnother example involves pivoting browser traffic from the adversary's browser through the user's browser by setting up a proxy which will redirect web traffic. This does not alter the user's traffic in any way, and the proxy connection can be severed as soon as the browser is closed. The adversary assumes the security context of whichever browser process the proxy is injected into. Browsers typically create a new process for each tab that is opened and permissions and certificates are separated accordingly. With these permissions, an adversary could potentially browse to any resource on an intranet, such as [Sharepoint](https://attack.mitre.org/techniques/T1213/002) or webmail, that is accessible through the browser and which the browser has sufficient permissions. Browser pivoting may also bypass security provided by 2-factor authentication.(Citation: cobaltstrike manual)"
  },
  {
   "cell_type": "markdown",
   "id": "01e0ca0b",
   "metadata": {},
   "source": "## Atomic Tests:\nCurrently, no tests are available for this technique."
  },
  {
   "cell_type": "markdown",
   "id": "8a0c5d17",
   "metadata": {},
   "source": "## Detection\nThis may be a difficult technique to detect because adversary traffic may be masked by normal user traffic. New processes may not be created and no additional software dropped to disk. Authentication logs can be used to audit logins to specific web applications, but determining malicious logins versus benign logins may be difficult if activity matches typical user behavior. Monitor for [Process Injection](https://attack.mitre.org/techniques/T1055) against browser applications."
  },
  {
   "cell_type": "markdown",
   "id": "78aaa02a",
   "metadata": {},
   "source": "\n## Shield Active Defense\n### Burn-In \n Exercise a target system in a manner where it will generate desirable system artifacts.\n \n\n Exercising the system to create desirable system artifacts including web browsing, filesystem usage, running user applications like office suites, etc.  The burn-in process can be specific to a user or system, depending on your needs.\n#### Opportunity\nIn an adversary engagement scenario, there is an opportunity to prepare a user's browser data (sessions, cookies, etc.) so it looks authentic and fully populated.\n#### Use Case\nA defender can perform web browsing tasks on a decoy system over time to give the adversary a robust set of browser data that looks realistic and could potentially be used during adversary engagement.\n#### Procedures\nConfigure a decoy system and allow it to be used in an manner such that it collects activity logs and appears to be to be a legitimate system.\nConfigure a system to generate internet browser traffic for a decoy user profile, creating artifacts such as cookies, history, temp files, etc.\n"
  }
 ],
 "metadata": {
  "kernelspec": {
   "display_name": ".NET (PowerShell)",
   "language": "pwsh",
   "name": ".net-powershell"
  },
  "language_info": {
   "file_extension": ".ps1",
   "mimetype": "text/x-powershell",
   "name": "pwsh",
   "pygments_lexer": "powershell",
   "version": "7.0"
  }
 },
 "nbformat": 4,
 "nbformat_minor": 5
}