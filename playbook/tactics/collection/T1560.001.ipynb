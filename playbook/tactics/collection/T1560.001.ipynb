{
 "cells": [
  {
   "cell_type": "markdown",
   "id": "dd7ea78e",
   "metadata": {},
   "source": "# T1560.001 - Archive via Utility\nAdversaries may use utilities to compress and/or encrypt collected data prior to exfiltration. Many utilities include functionalities to compress, encrypt, or otherwise package data into a format that is easier/more secure to transport.\n\nAdversaries may abuse various utilities to compress or encrypt data before exfiltration. Some third party utilities may be preinstalled, such as <code>tar</code> on Linux and macOS or <code>zip</code> on Windows systems. \n\nOn Windows, <code>diantz</code> or <code> makecab</code> may be used to package collected files into a cabinet (.cab) file. <code>diantz</code> may also be used to download and compress files from remote locations (i.e. [Remote Data Staging](https://attack.mitre.org/techniques/T1074/002)).(Citation: diantz.exe_lolbas) <code>xcopy</code> on Windows can copy files and directories with a variety of options. Additionally, adversaries may use [certutil](https://attack.mitre.org/software/S0160) to Base64 encode collected data before exfiltration. \n\nAdversaries may use also third party utilities, such as 7-Zip, WinRAR, and WinZip, to perform similar activities.(Citation: 7zip Homepage)(Citation: WinRAR Homepage)(Citation: WinZip Homepage)"
  },
  {
   "cell_type": "markdown",
   "id": "631484ab",
   "metadata": {},
   "source": "## Atomic Tests"
  },
  {
   "cell_type": "markdown",
   "id": "af95a69a",
   "metadata": {},
   "source": "### Atomic Test #1 - Compress Data for Exfiltration With Rar\nAn adversary may compress data (e.g., sensitive documents) that is collected prior to exfiltration.\nWhen the test completes you should find the txt files from the %USERPROFILE% directory compressed in a file called T1560.001-data.rar in the %USERPROFILE% directory \n\n**Supported Platforms:** windows\n\nElevation Required (e.g. root or admin)\n#### Dependencies:  Run with `command_prompt`!\n##### Description: Rar tool must be installed at specified location (#{rar_exe})\n\n##### Check Prereq Commands:\n```cmd\nif not exist \"%programfiles%/WinRAR/Rar.exe\" (exit /b 1)\n\n```\n##### Get Prereq Commands:\n```cmd\necho Downloading Winrar installer\nbitsadmin /transfer myDownloadJob /download /priority normal \"https://www.win-rar.com/fileadmin/winrar-versions/winrar/th/winrar-x64-580.exe\" %TEMP%\\winrar.exe\n%TEMP%\\winrar.exe /S\n\n```"
  },
  {
   "cell_type": "code",
   "execution_count": null,
   "id": "c44173a1",
   "metadata": {},
   "outputs": [],
   "source": "Invoke-AtomicTest T1560.001 -TestNumbers 1 -GetPreReqs"
  },
  {
   "cell_type": "markdown",
   "id": "e8491bdf",
   "metadata": {},
   "source": [
    "#### Attack Commands: Run with `command_prompt`\n",
    "```command_prompt\n\"%programfiles%/WinRAR/Rar.exe\" a -r %USERPROFILE%\\T1560.001-data.rar %USERPROFILE%\\*.txt\n```"
   ]
  },
  {
   "cell_type": "code",
   "execution_count": null,
   "id": "53fe013c",
   "metadata": {},
   "outputs": [],
   "source": "Invoke-AtomicTest T1560.001 -TestNumbers 1"
  },
  {
   "cell_type": "markdown",
   "id": "a4dedb9d",
   "metadata": {},
   "source": "#### Cleanup: \n```cmd\ndel /f /q /s %USERPROFILE%\\T1560.001-data.rar >nul 2>&1\n```"
  },
  {
   "cell_type": "code",
   "execution_count": null,
   "id": "f251aa73",
   "metadata": {},
   "outputs": [],
   "source": "Invoke-AtomicTest T1560.001 -TestNumbers 1 -Cleanup"
  },
  {
   "cell_type": "markdown",
   "id": "7698717f",
   "metadata": {},
   "source": "### Atomic Test #2 - Compress Data and lock with password for Exfiltration with winrar\nNote: Requires winrar installation\nrar a -p\"blue\" hello.rar (VARIANT)\n\n**Supported Platforms:** windows\n\nElevation Required (e.g. root or admin)\n#### Dependencies:  Run with `command_prompt`!\n##### Description: Rar tool must be installed at specified location (#{rar_exe})\n\n##### Check Prereq Commands:\n```cmd\nif not exist \"%programfiles%/WinRAR/Rar.exe\" (exit /b 1)\n\n```\n##### Get Prereq Commands:\n```cmd\necho Downloading Winrar installer\nbitsadmin /transfer myDownloadJob /download /priority normal \"https://www.win-rar.com/fileadmin/winrar-versions/winrar/th/winrar-x64-580.exe\" %TEMP%\\winrar.exe\n%TEMP%\\winrar.exe /S\n\n```"
  },
  {
   "cell_type": "code",
   "execution_count": null,
   "id": "0f4fbaea",
   "metadata": {},
   "outputs": [],
   "source": "Invoke-AtomicTest T1560.001 -TestNumbers 2 -GetPreReqs"
  },
  {
   "cell_type": "markdown",
   "id": "4c921634",
   "metadata": {},
   "source": [
    "#### Attack Commands: Run with `command_prompt`\n",
    "```command_prompt\nmkdir .\\tmp\\victim-files\ncd .\\tmp\\victim-files\necho \"This file will be encrypted\" > .\\encrypted_file.txt\n\"%programfiles%/WinRAR/Rar.exe\" a -hp\"blue\" hello.rar\ndir\n```"
   ]
  },
  {
   "cell_type": "code",
   "execution_count": null,
   "id": "98039b0a",
   "metadata": {},
   "outputs": [],
   "source": "Invoke-AtomicTest T1560.001 -TestNumbers 2"
  },
  {
   "cell_type": "markdown",
   "id": "23beb053",
   "metadata": {},
   "source": "### Atomic Test #3 - Compress Data and lock with password for Exfiltration with winzip\nNote: Requires winzip installation\nwzzip sample.zip -s\"blueblue\" *.txt (VARIANT)\n\n**Supported Platforms:** windows\n\nElevation Required (e.g. root or admin)\n#### Dependencies:  Run with `powershell`!\n##### Description: Winzip must be installed\n\n##### Check Prereq Commands:\n```cmd\ncmd /c 'if not exist \"%ProgramFiles%\\WinZip\\winzip64.exe\" (echo 1) else (echo 0)'\n\n```\n##### Get Prereq Commands:\n```cmd\nIEX(IWR \"https://raw.githubusercontent.com/redcanaryco/invoke-atomicredteam/master/Public/Invoke-WebRequestVerifyHash.ps1\" -UseBasicParsing)\nNew-Item -Type Directory \"PathToAtomicsFolder\\..\\ExternalPayloads\\\" -ErrorAction Ignore -Force | Out-Null\nif(Invoke-WebRequestVerifyHash \"https://download.winzip.com/gl/nkln/winzip24-home.exe\" \"PathToAtomicsFolder\\..\\ExternalPayloads\\winzip.exe\" B59DB592B924E963C21DA8709417AC0504F6158CFCB12FE5536F4A0E0D57D7FB){\n  Write-Host Follow the installation prompts to continue\n  cmd /c \"PathToAtomicsFolder\\..\\ExternalPayloads\\winzip.exe\"\n}\n\n```"
  },
  {
   "cell_type": "code",
   "execution_count": null,
   "id": "cdb8af4e",
   "metadata": {},
   "outputs": [],
   "source": "Invoke-AtomicTest T1560.001 -TestNumbers 3 -GetPreReqs"
  },
  {
   "cell_type": "markdown",
   "id": "80d5cf67",
   "metadata": {},
   "source": [
    "#### Attack Commands: Run with `command_prompt`\n",
    "```command_prompt\npath=%path%;\"C:\\Program Files (x86)\\winzip\"\nmkdir .\\tmp\\victim-files\ncd .\\tmp\\victim-files\necho \"This file will be encrypted\" > .\\encrypted_file.txt\n\"%ProgramFiles%\\WinZip\\winzip64.exe\" -min -a -s\"hello\" archive.zip *\ndir\n```"
   ]
  },
  {
   "cell_type": "code",
   "execution_count": null,
   "id": "250fc140",
   "metadata": {},
   "outputs": [],
   "source": "Invoke-AtomicTest T1560.001 -TestNumbers 3"
  },
  {
   "cell_type": "markdown",
   "id": "d836c319",
   "metadata": {},
   "source": "### Atomic Test #4 - Compress Data and lock with password for Exfiltration with 7zip\nNote: This test requires 7zip installation\n\n**Supported Platforms:** windows\n\nElevation Required (e.g. root or admin)\n#### Dependencies:  Run with `command_prompt`!\n##### Description: 7zip tool must be installed at specified location (#{7zip_exe})\n\n##### Check Prereq Commands:\n```cmd\nif not exist \"%ProgramFiles%\\7-zip\\7z.exe\" (exit /b 1)\n\n```\n##### Get Prereq Commands:\n```cmd\necho Downloading 7-zip installer\nbitsadmin /transfer myDownloadJob /download /priority normal \"https://www.7-zip.org/a/7z2301-x64.exe\" %TEMP%\\7zip.exe\n%TEMP%\\7zip.exe /S\n\n```"
  },
  {
   "cell_type": "code",
   "execution_count": null,
   "id": "30aa573c",
   "metadata": {},
   "outputs": [],
   "source": "Invoke-AtomicTest T1560.001 -TestNumbers 4 -GetPreReqs"
  },
  {
   "cell_type": "markdown",
   "id": "4941fe76",
   "metadata": {},
   "source": [
    "#### Attack Commands: Run with `command_prompt`\n",
    "```command_prompt\nmkdir $PathToAtomicsFolder\\T1560.001\\victim-files\ncd $PathToAtomicsFolder\\T1560.001\\victim-files\necho \"This file will be encrypted\" > .\\encrypted_file.txt\n\"%ProgramFiles%\\7-zip\\7z.exe\" u archive.7z *txt -pblue\ndir\n```"
   ]
  },
  {
   "cell_type": "code",
   "execution_count": null,
   "id": "e6539674",
   "metadata": {},
   "outputs": [],
   "source": "Invoke-AtomicTest T1560.001 -TestNumbers 4"
  },
  {
   "cell_type": "markdown",
   "id": "f27fb548",
   "metadata": {},
   "source": "#### Cleanup: \n```cmd\nrmdir /s /Q $PathToAtomicsFolder\\T1560.001\\victim-files >nul 2>&1\n```"
  },
  {
   "cell_type": "code",
   "execution_count": null,
   "id": "78a77839",
   "metadata": {},
   "outputs": [],
   "source": "Invoke-AtomicTest T1560.001 -TestNumbers 4 -Cleanup"
  },
  {
   "cell_type": "markdown",
   "id": "1930fbe0",
   "metadata": {},
   "source": "### Atomic Test #5 - Data Compressed - nix - zip\nAn adversary may compress data (e.g., sensitive documents) that is collected prior to exfiltration. This test uses standard zip compression.\n\n**Supported Platforms:** linux, macos\n\nElevation Required (e.g. root or admin)\n#### Dependencies:  Run with `sh`!\n##### Description: Files to zip must exist (#{input_files})\n\n##### Check Prereq Commands:\n```sh\nif [ $(ls /var/log/{w,b}tmp | wc -l) > 0 ] && [ -x $(which zip) ] ; then exit 0; else exit 1; fi;\n\n```\n##### Get Prereq Commands:\n```sh\n(which yum && yum -y install epel-release zip)||(which apt-get && apt-get install -y zip)\necho Please set input_files argument to include files that exist\n\n```"
  },
  {
   "cell_type": "code",
   "execution_count": null,
   "id": "bbe46133",
   "metadata": {},
   "outputs": [],
   "source": "Invoke-AtomicTest T1560.001 -TestNumbers 5 -GetPreReqs"
  },
  {
   "cell_type": "markdown",
   "id": "b165c7b6",
   "metadata": {},
   "source": [
    "#### Attack Commands: Run with `sh`\n",
    "```sh\nzip $HOME/data.zip /var/log/{w,b}tmp\n```"
   ]
  },
  {
   "cell_type": "code",
   "execution_count": null,
   "id": "ceb24db3",
   "metadata": {},
   "outputs": [],
   "source": "Invoke-AtomicTest T1560.001 -TestNumbers 5"
  },
  {
   "cell_type": "markdown",
   "id": "76738102",
   "metadata": {},
   "source": "#### Cleanup: \n```sh\nrm -f $HOME/data.zip\n```"
  },
  {
   "cell_type": "code",
   "execution_count": null,
   "id": "7beac31b",
   "metadata": {},
   "outputs": [],
   "source": "Invoke-AtomicTest T1560.001 -TestNumbers 5 -Cleanup"
  },
  {
   "cell_type": "markdown",
   "id": "6ef2a395",
   "metadata": {},
   "source": [
    "### Atomic Test #6 - Data Compressed - nix - gzip Single File",
    "An adversary may compress data (e.g., sensitive documents) that is collected prior to exfiltration. This test uses standard gzip compression.\n",
    "**Supported Platforms:** linux, macos",
    "\nElevation Required (e.g. root or admin)",
    "#### Attack Commands: Run with `sh`\n",
    "```sh\ntest -e $HOME/victim-gzip.txt && gzip -k $HOME/victim-gzip.txt || (echo 'confidential! SSN: 078-05-1120 - CCN: 4000 1234 5678 9101' >> $HOME/victim-gzip.txt; gzip -k $HOME/victim-gzip.txt)\n```"
   ]
  },
  {
   "cell_type": "code",
   "execution_count": null,
   "id": "dc7ecfbe",
   "metadata": {},
   "outputs": [],
   "source": "Invoke-AtomicTest T1560.001 -TestNumbers 6"
  },
  {
   "cell_type": "markdown",
   "id": "fe5b4537",
   "metadata": {},
   "source": "#### Cleanup: \n```sh\nrm -f $HOME/victim-gzip.txt.gz\n```"
  },
  {
   "cell_type": "code",
   "execution_count": null,
   "id": "bc317c2c",
   "metadata": {},
   "outputs": [],
   "source": "Invoke-AtomicTest T1560.001 -TestNumbers 6 -Cleanup"
  },
  {
   "cell_type": "markdown",
   "id": "c31afd05",
   "metadata": {},
   "source": "### Atomic Test #7 - Data Compressed - nix - tar Folder or File\nAn adversary may compress data (e.g., sensitive documents) that is collected prior to exfiltration. This test uses standard gzip compression.\n\n**Supported Platforms:** linux, macos\n\nElevation Required (e.g. root or admin)\n#### Dependencies:  Run with `sh`!\n##### Description: Folder to zip must exist (#{input_file_folder})\n\n##### Check Prereq Commands:\n```sh\ntest -e $HOME/$USERNAME\n\n```\n##### Get Prereq Commands:\n```sh\nmkdir -p $HOME/$USERNAME && touch $HOME/$USERNAME/file1\n\n```"
  },
  {
   "cell_type": "code",
   "execution_count": null,
   "id": "90fcfcb0",
   "metadata": {},
   "outputs": [],
   "source": "Invoke-AtomicTest T1560.001 -TestNumbers 7 -GetPreReqs"
  },
  {
   "cell_type": "markdown",
   "id": "d40df8cd",
   "metadata": {},
   "source": [
    "#### Attack Commands: Run with `sh`\n",
    "```sh\ntar -cvzf $HOME/data.tar.gz $HOME/$USERNAME\n```"
   ]
  },
  {
   "cell_type": "code",
   "execution_count": null,
   "id": "b3ca82fd",
   "metadata": {},
   "outputs": [],
   "source": "Invoke-AtomicTest T1560.001 -TestNumbers 7"
  },
  {
   "cell_type": "markdown",
   "id": "b75acc3e",
   "metadata": {},
   "source": "#### Cleanup: \n```sh\nrm -f $HOME/data.tar.gz\n```"
  },
  {
   "cell_type": "code",
   "execution_count": null,
   "id": "946f8f66",
   "metadata": {},
   "outputs": [],
   "source": "Invoke-AtomicTest T1560.001 -TestNumbers 7 -Cleanup"
  },
  {
   "cell_type": "markdown",
   "id": "f6d06d45",
   "metadata": {},
   "source": "### Atomic Test #8 - Data Encrypted with zip and gpg symmetric\nEncrypt data for exiltration\n\n**Supported Platforms:** linux, macos\n\nElevation Required (e.g. root or admin)\n#### Dependencies:  Run with `sh`!\n##### Description: gpg and zip are required to run the test.\n##### Check Prereq Commands:\n```sh\nif [ ! -x \"$(command -v gpg)\" ] || [ ! -x \"$(command -v zip)\" ]; then exit 1; fi;\n\n```\n##### Get Prereq Commands:\n```sh\n(which pkg && pkg install -y gnupg zip)||(which yum && yum -y install epel-release zip gpg)||(which apt-get && apt-get install -y zip gpg)\n\n```"
  },
  {
   "cell_type": "code",
   "execution_count": null,
   "id": "0703d570",
   "metadata": {},
   "outputs": [],
   "source": "Invoke-AtomicTest T1560.001 -TestNumbers 8 -GetPreReqs"
  },
  {
   "cell_type": "markdown",
   "id": "e246059b",
   "metadata": {},
   "source": [
    "#### Attack Commands: Run with `sh`\n",
    "```sh\nmkdir -p /tmp/T1560\ncd /tmp/T1560; touch a b c d e f g\nzip --password \"InsertPasswordHere\" /tmp/T1560/T1560 ./*\necho \"InsertPasswordHere\" | gpg --batch --yes --passphrase-fd 0 --output /tmp/T1560/T1560.zip.gpg -c /tmp/T1560/T1560.zip\nls -l /tmp/T1560\n```"
   ]
  },
  {
   "cell_type": "code",
   "execution_count": null,
   "id": "ba1fee10",
   "metadata": {},
   "outputs": [],
   "source": "Invoke-AtomicTest T1560.001 -TestNumbers 8"
  },
  {
   "cell_type": "markdown",
   "id": "64dc42cc",
   "metadata": {},
   "source": "#### Cleanup: \n```sh\nrm -Rf /tmp/T1560\n```"
  },
  {
   "cell_type": "code",
   "execution_count": null,
   "id": "83a63564",
   "metadata": {},
   "outputs": [],
   "source": "Invoke-AtomicTest T1560.001 -TestNumbers 8 -Cleanup"
  },
  {
   "cell_type": "markdown",
   "id": "4908aa11",
   "metadata": {},
   "source": "### Atomic Test #9 - Encrypts collected data with AES-256 and Base64\nAn adversary may compress all the collected data, encrypt and send them to a C2 server using base64 encoding. \nThis atomic test tries to emulate the behaviour of the FLEXIROOT backdoor to archive the collected data. FLEXIROOT typically utilizes AES encryption and base64 encoding to transfer the encrypted data to the C2 server. \nIn this test, standard zip compression and the OpenSSL library are used to encrypt the compressed data.\nhttps://attack.mitre.org/versions/v7/software/S0267/\n**Supported Platforms:** linux, macos\n\nElevation Required (e.g. root or admin)\n#### Dependencies:  Run with `bash`!\n##### Description: The folder and test files must exist\n##### Check Prereq Commands:\n```bash\nif [ ! -d /tmp/t1560 ]; then exit 1; else exit 0; fi;\n```\n##### Get Prereq Commands:\n```bash\nif [ ! -d /tmp/t1560 ]; then mkdir -p /tmp/t1560; cd /tmp/t1560; touch {a..z}.data; fi;\n```"
  },
  {
   "cell_type": "code",
   "execution_count": null,
   "id": "25641693",
   "metadata": {},
   "outputs": [],
   "source": "Invoke-AtomicTest T1560.001 -TestNumbers 9 -GetPreReqs"
  },
  {
   "cell_type": "markdown",
   "id": "ed21ed8d",
   "metadata": {},
   "source": [
    "#### Attack Commands: Run with `bash`\n",
    "```bash\nzip -r  /tmp/t1560/t1560_data.zip /tmp/t1560\nopenssl enc -aes-256-cbc -pass pass:atomic_enc_pass -p -in /tmp/t1560/t1560_data.zip -out /tmp/t1560/t1560_data.enc \ncat /tmp/t1560/t1560_data.enc | base64```"
   ]
  },
  {
   "cell_type": "code",
   "execution_count": null,
   "id": "49020720",
   "metadata": {},
   "outputs": [],
   "source": "Invoke-AtomicTest T1560.001 -TestNumbers 9"
  },
  {
   "cell_type": "markdown",
   "id": "3bc349ab",
   "metadata": {},
   "source": "#### Cleanup: \n```bash\nrm -rf /tmp/t1560```"
  },
  {
   "cell_type": "code",
   "execution_count": null,
   "id": "460e9df6",
   "metadata": {},
   "outputs": [],
   "source": "Invoke-AtomicTest T1560.001 -TestNumbers 9 -Cleanup"
  },
  {
   "cell_type": "markdown",
   "id": "bbb92f87",
   "metadata": {},
   "source": "## Detection\nCommon utilities that may be present on the system or brought in by an adversary may be detectable through process monitoring and monitoring for command-line arguments for known archival utilities. This may yield a significant number of benign events, depending on how systems in the environment are typically used.\n\nConsider detecting writing of files with extensions and/or headers associated with compressed or encrypted file types. Detection efforts may focus on follow-on exfiltration activity, where compressed or encrypted files can be detected in transit with a network intrusion detection or data loss prevention system analyzing file headers.(Citation: Wikipedia File Header Signatures)"
  }
 ],
 "metadata": {
  "kernelspec": {
   "display_name": ".NET (PowerShell)",
   "language": "pwsh",
   "name": ".net-powershell"
  },
  "language_info": {
   "file_extension": ".ps1",
   "mimetype": "text/x-powershell",
   "name": "pwsh",
   "pygments_lexer": "powershell",
   "version": "7.0"
  }
 },
 "nbformat": 4,
 "nbformat_minor": 5
}