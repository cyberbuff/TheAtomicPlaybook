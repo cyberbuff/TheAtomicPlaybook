{
 "cells": [
  {
   "cell_type": "markdown",
   "id": "ec46e4a4",
   "metadata": {},
   "source": "# T1113 - Screen Capture\nAdversaries may attempt to take screen captures of the desktop to gather information over the course of an operation. Screen capturing functionality may be included as a feature of a remote access tool used in post-compromise operations. Taking a screenshot is also typically possible through native utilities or API calls, such as <code>CopyFromScreen</code>, <code>xwd</code>, or <code>screencapture</code>.(Citation: CopyFromScreen .NET)(Citation: Antiquated Mac Malware)\n"
  },
  {
   "cell_type": "markdown",
   "id": "1e391e9e",
   "metadata": {},
   "source": "## Atomic Tests"
  },
  {
   "cell_type": "markdown",
   "id": "251759ec",
   "metadata": {},
   "source": [
    "### Atomic Test #1 - Screencapture",
    "Use screencapture command to collect a full desktop screenshot\n",
    "**Supported Platforms:** macos",
    "#### Attack Commands: Run with `bash`\n",
    "```bash\nscreencapture /tmp/T1113_desktop.png\n```"
   ]
  },
  {
   "cell_type": "code",
   "execution_count": null,
   "id": "261ac1f1",
   "metadata": {},
   "outputs": [],
   "source": "Invoke-AtomicTest T1113 -TestNumbers 1"
  },
  {
   "cell_type": "markdown",
   "id": "dab82448",
   "metadata": {},
   "source": "#### Cleanup: \n```bash\nrm /tmp/T1113_desktop.png\n```"
  },
  {
   "cell_type": "code",
   "execution_count": null,
   "id": "897ef50a",
   "metadata": {},
   "outputs": [],
   "source": "Invoke-AtomicTest T1113 -TestNumbers 1 -Cleanup"
  },
  {
   "cell_type": "markdown",
   "id": "dcffedb9",
   "metadata": {},
   "source": [
    "### Atomic Test #2 - Screencapture (silent)",
    "Use screencapture command to collect a full desktop screenshot\n",
    "**Supported Platforms:** macos",
    "#### Attack Commands: Run with `bash`\n",
    "```bash\nscreencapture -x /tmp/T1113_desktop.png\n```"
   ]
  },
  {
   "cell_type": "code",
   "execution_count": null,
   "id": "4e9e01ae",
   "metadata": {},
   "outputs": [],
   "source": "Invoke-AtomicTest T1113 -TestNumbers 2"
  },
  {
   "cell_type": "markdown",
   "id": "4426f2a3",
   "metadata": {},
   "source": "#### Cleanup: \n```bash\nrm /tmp/T1113_desktop.png\n```"
  },
  {
   "cell_type": "code",
   "execution_count": null,
   "id": "563a897e",
   "metadata": {},
   "outputs": [],
   "source": "Invoke-AtomicTest T1113 -TestNumbers 2 -Cleanup"
  },
  {
   "cell_type": "markdown",
   "id": "9d117346",
   "metadata": {},
   "source": "### Atomic Test #3 - X Windows Capture\nUse xwd command to collect a full desktop screenshot and review file with xwud\n\n**Supported Platforms:** linux\n#### Dependencies:  Run with `bash`!\n##### Description: Package with XWD and XWUD must exist on device\n\n##### Check Prereq Commands:\n```bash\nif rpm -q xorg-x11-apps > /dev/null; then exit 0; else exit 1; fi\n\n```\n##### Get Prereq Commands:\n```bash\nsudo yum install -y xorg-x11-apps \n\n```"
  },
  {
   "cell_type": "code",
   "execution_count": null,
   "id": "7bc297ab",
   "metadata": {},
   "outputs": [],
   "source": "Invoke-AtomicTest T1113 -TestNumbers 3 -GetPreReqs"
  },
  {
   "cell_type": "markdown",
   "id": "932c96c4",
   "metadata": {},
   "source": [
    "#### Attack Commands: Run with `bash`\n",
    "```bash\nxwd -root -out /tmp/T1113_desktop.xwd\nxwud -in /tmp/T1113_desktop.xwd\n```"
   ]
  },
  {
   "cell_type": "code",
   "execution_count": null,
   "id": "042cf717",
   "metadata": {},
   "outputs": [],
   "source": "Invoke-AtomicTest T1113 -TestNumbers 3"
  },
  {
   "cell_type": "markdown",
   "id": "2183e4f7",
   "metadata": {},
   "source": "#### Cleanup: \n```bash\nrm /tmp/T1113_desktop.xwd\n```"
  },
  {
   "cell_type": "code",
   "execution_count": null,
   "id": "53ee53cc",
   "metadata": {},
   "outputs": [],
   "source": "Invoke-AtomicTest T1113 -TestNumbers 3 -Cleanup"
  },
  {
   "cell_type": "markdown",
   "id": "bf570a7b",
   "metadata": {},
   "source": "### Atomic Test #4 - X Windows Capture (freebsd)\nUse xwd command to collect a full desktop screenshot and review file with xwud\n\n**Supported Platforms:** linux\n#### Dependencies:  Run with `sh`!\n##### Description: Package with XWD and XWUD must exist on device\n\n##### Check Prereq Commands:\n```sh\nif [ -x \"$(command -v xwd)\" ]; then exit 0; else exit 1; fi\nif [ -x \"$(command -v xwud)\" ]; then exit 0; else exit 1; fi\n\n```\n##### Get Prereq Commands:\n```sh\npkg install -y xwd xwud \n\n```"
  },
  {
   "cell_type": "code",
   "execution_count": null,
   "id": "07a20810",
   "metadata": {},
   "outputs": [],
   "source": "Invoke-AtomicTest T1113 -TestNumbers 4 -GetPreReqs"
  },
  {
   "cell_type": "markdown",
   "id": "d0569319",
   "metadata": {},
   "source": [
    "#### Attack Commands: Run with `sh`\n",
    "```sh\nxwd -root -out /tmp/T1113_desktop.xwd\nxwud -in /tmp/T1113_desktop.xwd\n```"
   ]
  },
  {
   "cell_type": "code",
   "execution_count": null,
   "id": "4c9ac600",
   "metadata": {},
   "outputs": [],
   "source": "Invoke-AtomicTest T1113 -TestNumbers 4"
  },
  {
   "cell_type": "markdown",
   "id": "f1419f2d",
   "metadata": {},
   "source": "#### Cleanup: \n```sh\nrm /tmp/T1113_desktop.xwd\n```"
  },
  {
   "cell_type": "code",
   "execution_count": null,
   "id": "ecc852b3",
   "metadata": {},
   "outputs": [],
   "source": "Invoke-AtomicTest T1113 -TestNumbers 4 -Cleanup"
  },
  {
   "cell_type": "markdown",
   "id": "aba21330",
   "metadata": {},
   "source": "### Atomic Test #5 - Capture Linux Desktop using Import Tool\nUse import command from ImageMagick to collect a full desktop screenshot\n\n**Supported Platforms:** linux\n#### Dependencies:  Run with `bash`!\n##### Description: ImageMagick must be installed\n\n##### Check Prereq Commands:\n```bash\nif import -help > /dev/null 2>&1; then exit 0; else exit 1; fi\n\n```\n##### Get Prereq Commands:\n```bash\nsudo apt install graphicsmagick-imagemagick-compat\n\n```"
  },
  {
   "cell_type": "code",
   "execution_count": null,
   "id": "9931c68c",
   "metadata": {},
   "outputs": [],
   "source": "Invoke-AtomicTest T1113 -TestNumbers 5 -GetPreReqs"
  },
  {
   "cell_type": "markdown",
   "id": "a53dc5a8",
   "metadata": {},
   "source": [
    "#### Attack Commands: Run with `bash`\n",
    "```bash\nimport -window root /tmp/T1113_desktop.png\n```"
   ]
  },
  {
   "cell_type": "code",
   "execution_count": null,
   "id": "3c2bee72",
   "metadata": {},
   "outputs": [],
   "source": "Invoke-AtomicTest T1113 -TestNumbers 5"
  },
  {
   "cell_type": "markdown",
   "id": "915387f7",
   "metadata": {},
   "source": "#### Cleanup: \n```bash\nrm /tmp/T1113_desktop.png\n```"
  },
  {
   "cell_type": "code",
   "execution_count": null,
   "id": "cee472da",
   "metadata": {},
   "outputs": [],
   "source": "Invoke-AtomicTest T1113 -TestNumbers 5 -Cleanup"
  },
  {
   "cell_type": "markdown",
   "id": "f7c5478c",
   "metadata": {},
   "source": "### Atomic Test #6 - Capture Linux Desktop using Import Tool (freebsd)\nUse import command from ImageMagick to collect a full desktop screenshot\n\n**Supported Platforms:** linux\n#### Dependencies:  Run with `sh`!\n##### Description: ImageMagick must be installed\n\n##### Check Prereq Commands:\n```sh\nif import -help > /dev/null 2>&1; then exit 0; else exit 1; fi\n\n```\n##### Get Prereq Commands:\n```sh\npkg install -y ImageMagick7\n\n```"
  },
  {
   "cell_type": "code",
   "execution_count": null,
   "id": "32f23668",
   "metadata": {},
   "outputs": [],
   "source": "Invoke-AtomicTest T1113 -TestNumbers 6 -GetPreReqs"
  },
  {
   "cell_type": "markdown",
   "id": "17e4c9b1",
   "metadata": {},
   "source": [
    "#### Attack Commands: Run with `sh`\n",
    "```sh\nimport -window root /tmp/T1113_desktop.png\n```"
   ]
  },
  {
   "cell_type": "code",
   "execution_count": null,
   "id": "d95de5a8",
   "metadata": {},
   "outputs": [],
   "source": "Invoke-AtomicTest T1113 -TestNumbers 6"
  },
  {
   "cell_type": "markdown",
   "id": "5d327718",
   "metadata": {},
   "source": "#### Cleanup: \n```sh\nrm /tmp/T1113_desktop.png\n```"
  },
  {
   "cell_type": "code",
   "execution_count": null,
   "id": "2053cd31",
   "metadata": {},
   "outputs": [],
   "source": "Invoke-AtomicTest T1113 -TestNumbers 6 -Cleanup"
  },
  {
   "cell_type": "markdown",
   "id": "b6e16349",
   "metadata": {},
   "source": [
    "### Atomic Test #7 - Windows Screencapture",
    "Use Psr.exe binary to collect screenshots of user display. Test will do left mouse click to simulate user behaviour\n",
    "**Supported Platforms:** windows",
    "\nElevation Required (e.g. root or admin)",
    "#### Attack Commands: Run with `powershell`\n",
    "```powershell\ncmd /c start /b psr.exe /start /output c:\\temp\\T1113_desktop.zip /sc 1 /gui 0 /stopevent 12\nAdd-Type -MemberDefinition '[DllImport(\"user32.dll\")] public static extern void mouse_event(int flags, int dx, int dy, int cButtons, int info);' -Name U32 -Namespace W;\n[W.U32]::mouse_event(0x02 -bor 0x04 -bor 0x01, 0, 0, 0, 0);\ncmd /c \"timeout 5 > NULL && psr.exe /stop\"\n```"
   ]
  },
  {
   "cell_type": "code",
   "execution_count": null,
   "id": "9865845a",
   "metadata": {},
   "outputs": [],
   "source": "Invoke-AtomicTest T1113 -TestNumbers 7"
  },
  {
   "cell_type": "markdown",
   "id": "17f1f5c1",
   "metadata": {},
   "source": "#### Cleanup: \n```powershell\nrm c:\\temp\\T1113_desktop.zip -ErrorAction Ignore\n```"
  },
  {
   "cell_type": "code",
   "execution_count": null,
   "id": "67021589",
   "metadata": {},
   "outputs": [],
   "source": "Invoke-AtomicTest T1113 -TestNumbers 7 -Cleanup"
  },
  {
   "cell_type": "markdown",
   "id": "38bfced0",
   "metadata": {},
   "source": [
    "### Atomic Test #8 - Windows Screen Capture (CopyFromScreen)",
    "Take a screen capture of the desktop through a call to the [Graphics.CopyFromScreen] .NET API.\n\n[Graphics.CopyFromScreen]: https://docs.microsoft.com/en-us/dotnet/api/system.drawing.graphics.copyfromscreen\n",
    "**Supported Platforms:** windows",
    "#### Attack Commands: Run with `powershell`\n",
    "```powershell\nAdd-Type -AssemblyName System.Windows.Forms\n$screen = [Windows.Forms.SystemInformation]::VirtualScreen\n$bitmap = New-Object Drawing.Bitmap $screen.Width, $screen.Height\n$graphic = [Drawing.Graphics]::FromImage($bitmap)\n$graphic.CopyFromScreen($screen.Left, $screen.Top, 0, 0, $bitmap.Size)\n$bitmap.Save(\"$env:TEMP\\T1113.png\")\n```"
   ]
  },
  {
   "cell_type": "code",
   "execution_count": null,
   "id": "7a058191",
   "metadata": {},
   "outputs": [],
   "source": "Invoke-AtomicTest T1113 -TestNumbers 8"
  },
  {
   "cell_type": "markdown",
   "id": "54720c82",
   "metadata": {},
   "source": "#### Cleanup: \n```powershell\nRemove-Item $env:TEMP\\T1113.png -ErrorAction Ignore\n```"
  },
  {
   "cell_type": "code",
   "execution_count": null,
   "id": "2853be07",
   "metadata": {},
   "outputs": [],
   "source": "Invoke-AtomicTest T1113 -TestNumbers 8 -Cleanup"
  },
  {
   "cell_type": "markdown",
   "id": "34f15465",
   "metadata": {},
   "source": "## Detection\nMonitoring for screen capture behavior will depend on the method used to obtain data from the operating system and write output files. Detection methods could include collecting information from unusual processes using API calls used to obtain image data, and monitoring for image files written to disk. The sensor data may need to be correlated with other events to identify malicious activity, depending on the legitimacy of this behavior within a given network environment."
  },
  {
   "cell_type": "markdown",
   "id": "9c998994",
   "metadata": {},
   "source": "\n## Shield Active Defense\n### Decoy Content  \n Seed content that can be used to lead an adversary in a specific direction, entice a behavior, etc. \n\n Decoy Content is the data used to tell a story to an adversary. This content can be legitimate or synthetic data which is used to reinforce or validate your defensive strategy. Examples of decoy content are files on a storage object, entries in the system registry, system shortcuts, etc.\n#### Opportunity\nThere is an opportunity to feed content to an adversary to influence their behaviors, test their interest in specific topics, or add legitimacy to a system or environment.\n#### Use Case\nA defender can display decoy content on the screen which may be of interest to an adversary in an attempt to elicit further engagement.\n#### Procedures\nCreate directories and files with names and contents using key words that may be relevant to an adversary to see if they examine or exfiltrate the data.\nSeed a file system with content that is of no value to the company but reinforces the legitimacy of the system if viewed by an adversary.\n"
  }
 ],
 "metadata": {
  "kernelspec": {
   "display_name": ".NET (PowerShell)",
   "language": "pwsh",
   "name": ".net-powershell"
  },
  "language_info": {
   "file_extension": ".ps1",
   "mimetype": "text/x-powershell",
   "name": "pwsh",
   "pygments_lexer": "powershell",
   "version": "7.0"
  }
 },
 "nbformat": 4,
 "nbformat_minor": 5
}