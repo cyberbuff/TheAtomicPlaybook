{
 "cells": [
  {
   "cell_type": "markdown",
   "id": "ee81a47f",
   "metadata": {},
   "source": "# T1560.002 - Archive via Library\nAn adversary may compress or encrypt data that is collected prior to exfiltration using 3rd party libraries. Many libraries exist that can archive data, including [Python](https://attack.mitre.org/techniques/T1059/006) rarfile (Citation: PyPI RAR), libzip (Citation: libzip), and zlib (Citation: Zlib Github). Most libraries include functionality to encrypt and/or compress data.\n\nSome archival libraries are preinstalled on systems, such as bzip2 on macOS and Linux, and zip on Windows. Note that the libraries are different from the utilities. The libraries can be linked against when compiling, while the utilities require spawning a subshell, or a similar execution mechanism."
  },
  {
   "cell_type": "markdown",
   "id": "f287cd9e",
   "metadata": {},
   "source": "## Atomic Tests"
  },
  {
   "cell_type": "markdown",
   "id": "721ad8e1",
   "metadata": {},
   "source": "### Atomic Test #1 - Compressing data using GZip in Python (FreeBSD/Linux)\nUses GZip from Python to compress files\n\n**Supported Platforms:** linux\n\nElevation Required (e.g. root or admin)\n#### Dependencies:  Run with `sh`!\n##### Description: Requires Python\n\n##### Check Prereq Commands:\n```sh\nwhich python || which python3\n\n```\n##### Get Prereq Commands:\n```sh\necho \"please install python to run this test\"; exit 1\n\n```"
  },
  {
   "cell_type": "code",
   "execution_count": null,
   "id": "6ecc4b90",
   "metadata": {},
   "outputs": [],
   "source": "Invoke-AtomicTest T1560.002 -TestNumbers 1 -GetPreReqs"
  },
  {
   "cell_type": "markdown",
   "id": "42bd200f",
   "metadata": {},
   "source": [
    "#### Attack Commands: Run with `sh`\n",
    "```sh\nwhich_python=`which python || which python3`\n$which_python -c \"import gzip;input_file=open('/etc/passwd', 'rb');content=input_file.read();input_file.close();output_file=gzip.GzipFile('/tmp/passwd.gz','wb',compresslevel=6);output_file.write(content);output_file.close();\"\n```"
   ]
  },
  {
   "cell_type": "code",
   "execution_count": null,
   "id": "32e43645",
   "metadata": {},
   "outputs": [],
   "source": "Invoke-AtomicTest T1560.002 -TestNumbers 1"
  },
  {
   "cell_type": "markdown",
   "id": "b5d489e2",
   "metadata": {},
   "source": "#### Cleanup: \n```sh\nrm /tmp/passwd.gz\n```"
  },
  {
   "cell_type": "code",
   "execution_count": null,
   "id": "b17bbc19",
   "metadata": {},
   "outputs": [],
   "source": "Invoke-AtomicTest T1560.002 -TestNumbers 1 -Cleanup"
  },
  {
   "cell_type": "markdown",
   "id": "0455271e",
   "metadata": {},
   "source": "### Atomic Test #2 - Compressing data using bz2 in Python (FreeBSD/Linux)\nUses bz2 from Python to compress files\n\n**Supported Platforms:** linux\n\nElevation Required (e.g. root or admin)\n#### Dependencies:  Run with `sh`!\n##### Description: Requires Python\n\n##### Check Prereq Commands:\n```sh\nwhich python || which python3\n\n```\n##### Get Prereq Commands:\n```sh\necho \"please install python to run this test\"; exit 1\n\n```"
  },
  {
   "cell_type": "code",
   "execution_count": null,
   "id": "5ee80e45",
   "metadata": {},
   "outputs": [],
   "source": "Invoke-AtomicTest T1560.002 -TestNumbers 2 -GetPreReqs"
  },
  {
   "cell_type": "markdown",
   "id": "8fb85fff",
   "metadata": {},
   "source": [
    "#### Attack Commands: Run with `sh`\n",
    "```sh\nwhich_python=`which python || which python3`\n$which_python -c \"import bz2;input_file=open('/etc/passwd','rb');content=input_file.read();input_file.close();bz2content=bz2.compress(content,compresslevel=9);output_file=open('/tmp/passwd.bz2','w+');output_file.write(str(bz2content));output_file.close();\"\n```"
   ]
  },
  {
   "cell_type": "code",
   "execution_count": null,
   "id": "8e625811",
   "metadata": {},
   "outputs": [],
   "source": "Invoke-AtomicTest T1560.002 -TestNumbers 2"
  },
  {
   "cell_type": "markdown",
   "id": "62dec2af",
   "metadata": {},
   "source": "#### Cleanup: \n```sh\nrm /tmp/passwd.bz2\n```"
  },
  {
   "cell_type": "code",
   "execution_count": null,
   "id": "da2cd21c",
   "metadata": {},
   "outputs": [],
   "source": "Invoke-AtomicTest T1560.002 -TestNumbers 2 -Cleanup"
  },
  {
   "cell_type": "markdown",
   "id": "14c3390c",
   "metadata": {},
   "source": "### Atomic Test #3 - Compressing data using zipfile in Python (FreeBSD/Linux)\nUses zipfile from Python to compress files\n\n**Supported Platforms:** linux\n\nElevation Required (e.g. root or admin)\n#### Dependencies:  Run with `sh`!\n##### Description: Requires Python\n\n##### Check Prereq Commands:\n```sh\nwhich python || which python3\n\n```\n##### Get Prereq Commands:\n```sh\necho \"please install python to run this test\"; exit 1\n\n```"
  },
  {
   "cell_type": "code",
   "execution_count": null,
   "id": "18b1667d",
   "metadata": {},
   "outputs": [],
   "source": "Invoke-AtomicTest T1560.002 -TestNumbers 3 -GetPreReqs"
  },
  {
   "cell_type": "markdown",
   "id": "7b46205a",
   "metadata": {},
   "source": [
    "#### Attack Commands: Run with `sh`\n",
    "```sh\nwhich_python=`which python || which python3`\n$which_python -c \"from zipfile import ZipFile; ZipFile('/tmp/passwd.zip', mode='w').write('/etc/passwd')\"\n```"
   ]
  },
  {
   "cell_type": "code",
   "execution_count": null,
   "id": "b876140a",
   "metadata": {},
   "outputs": [],
   "source": "Invoke-AtomicTest T1560.002 -TestNumbers 3"
  },
  {
   "cell_type": "markdown",
   "id": "b96ab02f",
   "metadata": {},
   "source": "#### Cleanup: \n```sh\nrm /tmp/passwd.zip\n```"
  },
  {
   "cell_type": "code",
   "execution_count": null,
   "id": "87a718c3",
   "metadata": {},
   "outputs": [],
   "source": "Invoke-AtomicTest T1560.002 -TestNumbers 3 -Cleanup"
  },
  {
   "cell_type": "markdown",
   "id": "ad7199e7",
   "metadata": {},
   "source": "### Atomic Test #4 - Compressing data using tarfile in Python (FreeBSD/Linux)\nUses tarfile from Python to compress files\n\n**Supported Platforms:** linux\n\nElevation Required (e.g. root or admin)\n#### Dependencies:  Run with `sh`!\n##### Description: Requires Python\n\n##### Check Prereq Commands:\n```sh\nwhich python || which python3\n\n```\n##### Get Prereq Commands:\n```sh\necho \"please install python to run this test\"; exit 1\n\n```"
  },
  {
   "cell_type": "code",
   "execution_count": null,
   "id": "d361022a",
   "metadata": {},
   "outputs": [],
   "source": "Invoke-AtomicTest T1560.002 -TestNumbers 4 -GetPreReqs"
  },
  {
   "cell_type": "markdown",
   "id": "afb79a12",
   "metadata": {},
   "source": [
    "#### Attack Commands: Run with `sh`\n",
    "```sh\nwhich_python=`which python || which python3`\n$which_python -c \"from zipfile import ZipFile; ZipFile('/tmp/passwd.tar.gz', mode='w').write('/etc/passwd')\" \n```"
   ]
  },
  {
   "cell_type": "code",
   "execution_count": null,
   "id": "be40abca",
   "metadata": {},
   "outputs": [],
   "source": "Invoke-AtomicTest T1560.002 -TestNumbers 4"
  },
  {
   "cell_type": "markdown",
   "id": "377e7ad9",
   "metadata": {},
   "source": "#### Cleanup: \n```sh\nrm /tmp/passwd.tar.gz\n```"
  },
  {
   "cell_type": "code",
   "execution_count": null,
   "id": "7c168049",
   "metadata": {},
   "outputs": [],
   "source": "Invoke-AtomicTest T1560.002 -TestNumbers 4 -Cleanup"
  },
  {
   "cell_type": "markdown",
   "id": "281b7688",
   "metadata": {},
   "source": "## Detection\nMonitor processes for accesses to known archival libraries. This may yield a significant number of benign events, depending on how systems in the environment are typically used.\n\nConsider detecting writing of files with extensions and/or headers associated with compressed or encrypted file types. Detection efforts may focus on follow-on exfiltration activity, where compressed or encrypted files can be detected in transit with a network intrusion detection or data loss prevention system analyzing file headers.(Citation: Wikipedia File Header Signatures)"
  }
 ],
 "metadata": {
  "kernelspec": {
   "display_name": ".NET (PowerShell)",
   "language": "pwsh",
   "name": ".net-powershell"
  },
  "language_info": {
   "file_extension": ".ps1",
   "mimetype": "text/x-powershell",
   "name": "pwsh",
   "pygments_lexer": "powershell",
   "version": "7.0"
  }
 },
 "nbformat": 4,
 "nbformat_minor": 5
}