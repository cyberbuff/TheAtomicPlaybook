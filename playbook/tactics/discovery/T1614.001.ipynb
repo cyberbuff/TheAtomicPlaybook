{
 "cells": [
  {
   "cell_type": "markdown",
   "id": "4892ff39",
   "metadata": {},
   "source": "# T1614.001 - System Language Discovery\nAdversaries may attempt to gather information about the system language of a victim in order to infer the geographical location of that host. This information may be used to shape follow-on behaviors, including whether the adversary infects the target and/or attempts specific actions. This decision may be employed by malware developers and operators to reduce their risk of attracting the attention of specific law enforcement agencies or prosecution/scrutiny from other entities.(Citation: Malware System Language Check)\n\nThere are various sources of data an adversary could use to infer system language, such as system defaults and keyboard layouts. Specific checks will vary based on the target and/or adversary, but may involve behaviors such as [Query Registry](https://attack.mitre.org/techniques/T1012) and calls to [Native API](https://attack.mitre.org/techniques/T1106) functions.(Citation: CrowdStrike Ryuk January 2019) \n\nFor example, on a Windows system adversaries may attempt to infer the language of a system by querying the registry key <code>HKEY_LOCAL_MACHINE\\SYSTEM\\CurrentControlSet\\Control\\Nls\\Language</code> or parsing the outputs of Windows API functions <code>GetUserDefaultUILanguage</code>, <code>GetSystemDefaultUILanguage</code>, <code>GetKeyboardLayoutList</code> and <code>GetUserDefaultLangID</code>.(Citation: Darkside Ransomware Cybereason)(Citation: Securelist JSWorm)(Citation: SecureList SynAck Doppelg\u00e4nging May 2018)\n\nOn a macOS or Linux system, adversaries may query <code>locale</code> to retrieve the value of the <code>$LANG</code> environment variable."
  },
  {
   "cell_type": "markdown",
   "id": "d5730e5f",
   "metadata": {},
   "source": "## Atomic Tests"
  },
  {
   "cell_type": "markdown",
   "id": "3a9e9249",
   "metadata": {},
   "source": [
    "### Atomic Test #1 - Discover System Language by Registry Query",
    "Identify System language by querying the registry on an endpoint. \n\nUpon successful execution, result in number format can be looked up to correlate the language.\n",
    "**Supported Platforms:** windows",
    "#### Attack Commands: Run with `command_prompt`\n",
    "```command_prompt\nreg query HKEY_LOCAL_MACHINE\\SYSTEM\\CurrentControlSet\\Control\\Nls\\Language\n```"
   ]
  },
  {
   "cell_type": "code",
   "execution_count": null,
   "id": "7b88c09d",
   "metadata": {},
   "outputs": [],
   "source": "Invoke-AtomicTest T1614.001 -TestNumbers 1"
  },
  {
   "cell_type": "markdown",
   "id": "a14c7ff4",
   "metadata": {},
   "source": [
    "### Atomic Test #2 - Discover System Language with chcp",
    "Identify System language with the chcp command.\n\nUpon successful execution, result in number format can be looked up to correlate the language.\n",
    "**Supported Platforms:** windows",
    "#### Attack Commands: Run with `command_prompt`\n",
    "```command_prompt\nchcp\n```"
   ]
  },
  {
   "cell_type": "code",
   "execution_count": null,
   "id": "7564ed60",
   "metadata": {},
   "outputs": [],
   "source": "Invoke-AtomicTest T1614.001 -TestNumbers 2"
  },
  {
   "cell_type": "markdown",
   "id": "bd8f462e",
   "metadata": {},
   "source": [
    "### Atomic Test #3 - Discover System Language with locale",
    "Identify System language with the `locale` command.\n\nUpon successful execution, the output will contain the environment variables that indicate\nthe 5 character locale that can be looked up to correlate the language and territory.\n",
    "**Supported Platforms:** linux",
    "#### Attack Commands: Run with `sh`\n",
    "```sh\nlocale\n```"
   ]
  },
  {
   "cell_type": "code",
   "execution_count": null,
   "id": "64eb092a",
   "metadata": {},
   "outputs": [],
   "source": "Invoke-AtomicTest T1614.001 -TestNumbers 3"
  },
  {
   "cell_type": "markdown",
   "id": "1aed661f",
   "metadata": {},
   "source": [
    "### Atomic Test #4 - Discover System Language with localectl",
    "Identify System language with the `localectl` command.\n\nUpon successful execution, the key `System Locale` from the output will contain the\n`LANG` environment variable that has the 5 character locale result that can be looked\nup to correlate the language and territory.\n",
    "**Supported Platforms:** linux",
    "#### Attack Commands: Run with `sh`\n",
    "```sh\nlocalectl status\n```"
   ]
  },
  {
   "cell_type": "code",
   "execution_count": null,
   "id": "3fd1c9f9",
   "metadata": {},
   "outputs": [],
   "source": "Invoke-AtomicTest T1614.001 -TestNumbers 4"
  },
  {
   "cell_type": "markdown",
   "id": "44850ed6",
   "metadata": {},
   "source": "### Atomic Test #5 - Discover System Language by locale file\nIdentify System language with the by reading the locale configuration file.\n\nThe locale configuration file contains the `LANG` environment variable which\nwill contain the 5 character locale that can be looked up to correlate the\nlanguage and territory.\n\n**Supported Platforms:** linux\n#### Dependencies:  Run with `sh`!\n##### Description: Check the location of the locale configuration file.\n\n##### Check Prereq Commands:\n```sh\n[ -f /etc/locale.conf ] || [ -f /etc/default/locale ] && exit 0 || exit 1\n\n```\n##### Get Prereq Commands:\n```sh\necho \"Test only valid for systems that have locale file\"\n\n```"
  },
  {
   "cell_type": "code",
   "execution_count": null,
   "id": "36162000",
   "metadata": {},
   "outputs": [],
   "source": "Invoke-AtomicTest T1614.001 -TestNumbers 5 -GetPreReqs"
  },
  {
   "cell_type": "markdown",
   "id": "3763a35c",
   "metadata": {},
   "source": [
    "#### Attack Commands: Run with `sh`\n",
    "```sh\n[ -f /etc/locale.conf ] && cat /etc/locale.conf || cat /etc/default/locale\n```"
   ]
  },
  {
   "cell_type": "code",
   "execution_count": null,
   "id": "1e5db1c5",
   "metadata": {},
   "outputs": [],
   "source": "Invoke-AtomicTest T1614.001 -TestNumbers 5"
  },
  {
   "cell_type": "markdown",
   "id": "4afa0b73",
   "metadata": {},
   "source": "### Atomic Test #6 - Discover System Language by Environment Variable Query\nIdentify System language by checking the environment variables\n\nUpon successful execution, the 5 character locale result can be looked up to\ncorrelate the language and territory. Environment query commands are likely\nto run with a pattern match command e.g. `env | grep LANG`\n\nNote: `env` and `printenv` will usually provide the same results. `set` is\nalso used as a builtin command that does not generate syscall telemetry but\ndoes provide a list of the environment variables.\n\n**Supported Platforms:** linux\n#### Dependencies:  Run with `sh`!\n##### Description: Check if printenv command exists on the machine\n\n##### Check Prereq Commands:\n```sh\n[ -x \"$(command -v printenv)\" ] && exit 0 || exit 1\n\n```\n##### Get Prereq Commands:\n```sh\necho \"printenv command does not exist\"\nexit 1\n\n```"
  },
  {
   "cell_type": "code",
   "execution_count": null,
   "id": "6a521c87",
   "metadata": {},
   "outputs": [],
   "source": "Invoke-AtomicTest T1614.001 -TestNumbers 6 -GetPreReqs"
  },
  {
   "cell_type": "markdown",
   "id": "aba9de11",
   "metadata": {},
   "source": [
    "#### Attack Commands: Run with `sh`\n",
    "```sh\nenv | grep LANG\nprintenv LANG\nset | grep LANG\n```"
   ]
  },
  {
   "cell_type": "code",
   "execution_count": null,
   "id": "731db058",
   "metadata": {},
   "outputs": [],
   "source": "Invoke-AtomicTest T1614.001 -TestNumbers 6"
  },
  {
   "cell_type": "markdown",
   "id": "86f257fa",
   "metadata": {},
   "source": "## Detection\nSystem and network discovery techniques normally occur throughout an operation as an adversary learns the environment. Data and events should not be viewed in isolation, but as part of a chain of behavior that could lead to other activities based on the information obtained.\n\nMonitor processes and command-line arguments for actions that could be taken to gather system language information. This may include calls to various API functions and interaction with system configuration settings such as the Windows Registry."
  }
 ],
 "metadata": {
  "kernelspec": {
   "display_name": ".NET (PowerShell)",
   "language": "pwsh",
   "name": ".net-powershell"
  },
  "language_info": {
   "file_extension": ".ps1",
   "mimetype": "text/x-powershell",
   "name": "pwsh",
   "pygments_lexer": "powershell",
   "version": "7.0"
  }
 },
 "nbformat": 4,
 "nbformat_minor": 5
}