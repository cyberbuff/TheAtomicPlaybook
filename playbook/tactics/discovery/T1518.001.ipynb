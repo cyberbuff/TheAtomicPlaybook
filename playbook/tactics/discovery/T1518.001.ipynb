{
 "cells": [
  {
   "cell_type": "markdown",
   "id": "ea2effaf",
   "metadata": {},
   "source": "# T1518.001 - Security Software Discovery\nAdversaries may attempt to get a listing of security software, configurations, defensive tools, and sensors that are installed on a system or in a cloud environment. This may include things such as firewall rules and anti-virus. Adversaries may use the information from [Security Software Discovery](https://attack.mitre.org/techniques/T1518/001) during automated discovery to shape follow-on behaviors, including whether or not the adversary fully infects the target and/or attempts specific actions.\n\nExample commands that can be used to obtain security software information are [netsh](https://attack.mitre.org/software/S0108), <code>reg query</code> with [Reg](https://attack.mitre.org/software/S0075), <code>dir</code> with [cmd](https://attack.mitre.org/software/S0106), and [Tasklist](https://attack.mitre.org/software/S0057), but other indicators of discovery behavior may be more specific to the type of software or security system the adversary is looking for. It is becoming more common to see macOS malware perform checks for LittleSnitch and KnockKnock software.\n\nAdversaries may also utilize cloud APIs to discover the configurations of firewall rules within an environment.(Citation: Expel IO Evil in AWS) For example, the permitted IP ranges, ports or user accounts for the inbound/outbound rules of security groups, virtual firewalls established within AWS for EC2 and/or VPC instances, can be revealed by the <code>DescribeSecurityGroups</code> action with various request parameters. (Citation: DescribeSecurityGroups - Amazon Elastic Compute Cloud)"
  },
  {
   "cell_type": "markdown",
   "id": "2f101f14",
   "metadata": {},
   "source": "## Atomic Tests"
  },
  {
   "cell_type": "markdown",
   "id": "5f9c1361",
   "metadata": {},
   "source": [
    "### Atomic Test #1 - Security Software Discovery",
    "Methods to identify Security Software on an endpoint\n\nwhen sucessfully executed, the test is going to display running processes, firewall configuration on network profiles\nand specific security software.\n",
    "**Supported Platforms:** windows",
    "#### Attack Commands: Run with `command_prompt`\n",
    "```command_prompt\nnetsh.exe advfirewall  show allprofiles \nnetsh.exe advfirewall firewall dump\nnetsh.exe advfirewall show currentprofile\nnetsh.exe advfirewall firewall show rule name=all\nnetsh.exe firewall show state\nnetsh.exe firewall show config\nsc query windefend\npowershell.exe /c \"Get-Process | Where-Object { $_.ProcessName -eq 'Sysmon' }\"\npowershell.exe /c \"Get-Service | where-object {$_.DisplayName -like '*sysm*'}\"\npowershell.exe /c \"Get-CimInstance Win32_Service -Filter 'Description = ''System Monitor service'''\"\ntasklist.exe\ntasklist.exe | findstr /i virus\ntasklist.exe | findstr /i cb\ntasklist.exe | findstr /i defender\ntasklist.exe | findstr /i cylance\ntasklist.exe | findstr /i mc\ntasklist.exe | findstr /i \"virus cb defender cylance mc\"\n```"
   ]
  },
  {
   "cell_type": "code",
   "execution_count": null,
   "id": "959d6b46",
   "metadata": {},
   "outputs": [],
   "source": "Invoke-AtomicTest T1518.001 -TestNumbers 1"
  },
  {
   "cell_type": "markdown",
   "id": "ccf85dea",
   "metadata": {},
   "source": [
    "### Atomic Test #2 - Security Software Discovery - powershell",
    "Methods to identify Security Software on an endpoint\n\nwhen sucessfully executed, powershell is going to processes related AV products if they are running.\nNote that, depending on the privilege of current user, get-process | ?{$_.Description -like \"*\"} may not return the processes related to AV products of the check.\nFor instance, only with Administrator right, you can see the process description of McAffee processes. Hence, it is better to use get-process | ?{$_.ProcessName -like \"*\"},\nif you know the name of those processes.\n",
    "**Supported Platforms:** windows",
    "#### Attack Commands: Run with `powershell`\n",
    "```powershell\nget-process | ?{$_.Description -like \"*virus*\"}\nget-process | ?{$_.Description -like \"*carbonblack*\"}\nget-process | ?{$_.Description -like \"*defender*\"}\nget-process | ?{$_.Description -like \"*cylance*\"}\nget-process | ?{$_.Description -like \"*mc*\"}\nget-process | ?{$_.ProcessName -like \"*mc*\"}\nget-process | Where-Object { $_.ProcessName -eq \"Sysmon\" }\n```"
   ]
  },
  {
   "cell_type": "code",
   "execution_count": null,
   "id": "3b37bc16",
   "metadata": {},
   "outputs": [],
   "source": "Invoke-AtomicTest T1518.001 -TestNumbers 2"
  },
  {
   "cell_type": "markdown",
   "id": "af2feb76",
   "metadata": {},
   "source": [
    "### Atomic Test #3 - Security Software Discovery - ps (macOS)",
    "Methods to identify Security Software on an endpoint\nwhen sucessfully executed, command shell  is going to display AV/Security software it is running.\n",
    "**Supported Platforms:** macos",
    "#### Attack Commands: Run with `sh`\n",
    "```sh\nps aux | egrep 'Little\\ Snitch|CbOsxSensorService|falcond|nessusd|santad|CbDefense|td-agent|packetbeat|filebeat|auditbeat|osqueryd|BlockBlock|LuLu'\n```"
   ]
  },
  {
   "cell_type": "code",
   "execution_count": null,
   "id": "de4a09a7",
   "metadata": {},
   "outputs": [],
   "source": "Invoke-AtomicTest T1518.001 -TestNumbers 3"
  },
  {
   "cell_type": "markdown",
   "id": "53fb32da",
   "metadata": {},
   "source": [
    "### Atomic Test #4 - Security Software Discovery - ps (Linux)",
    "Methods to identify Security Software on an endpoint\nwhen sucessfully executed, command shell  is going to display AV/Security software it is running.\n",
    "**Supported Platforms:** linux",
    "#### Attack Commands: Run with `sh`\n",
    "```sh\nps aux | egrep 'falcond|nessusd|cbagentd|td-agent|packetbeat|filebeat|auditbeat|osqueryd'\n```"
   ]
  },
  {
   "cell_type": "code",
   "execution_count": null,
   "id": "e7d2209f",
   "metadata": {},
   "outputs": [],
   "source": "Invoke-AtomicTest T1518.001 -TestNumbers 4"
  },
  {
   "cell_type": "markdown",
   "id": "b625a769",
   "metadata": {},
   "source": [
    "### Atomic Test #5 - Security Software Discovery - pgrep (FreeBSD)",
    "Methods to identify Security Software on an endpoint\nwhen sucessfully executed, command shell is going to display AV/Security software it is running.\n",
    "**Supported Platforms:** linux",
    "#### Attack Commands: Run with `sh`\n",
    "```sh\npgrep -l 'bareos-fd|icinga2|cbagentd|wazuh-agent|packetbeat|filebeat|osqueryd'\n```"
   ]
  },
  {
   "cell_type": "code",
   "execution_count": null,
   "id": "92cbfd21",
   "metadata": {},
   "outputs": [],
   "source": "Invoke-AtomicTest T1518.001 -TestNumbers 5"
  },
  {
   "cell_type": "markdown",
   "id": "a36e54f3",
   "metadata": {},
   "source": [
    "### Atomic Test #6 - Security Software Discovery - Sysmon Service",
    "Discovery of an installed Sysinternals Sysmon service using driver altitude (even if the name is changed).\n\nwhen sucessfully executed, the test is going to display sysmon driver instance if it is installed.\n",
    "**Supported Platforms:** windows",
    "\nElevation Required (e.g. root or admin)",
    "#### Attack Commands: Run with `command_prompt`\n",
    "```command_prompt\nfltmc.exe | findstr.exe 385201\n```"
   ]
  },
  {
   "cell_type": "code",
   "execution_count": null,
   "id": "6850711e",
   "metadata": {},
   "outputs": [],
   "source": "Invoke-AtomicTest T1518.001 -TestNumbers 6"
  },
  {
   "cell_type": "markdown",
   "id": "107346ca",
   "metadata": {},
   "source": [
    "### Atomic Test #7 - Security Software Discovery - AV Discovery via WMI",
    "Discovery of installed antivirus products via a WMI query.\n\nwhen sucessfully executed, the test is going to display installed AV software.\n",
    "**Supported Platforms:** windows",
    "\nElevation Required (e.g. root or admin)",
    "#### Attack Commands: Run with `command_prompt`\n",
    "```command_prompt\nwmic.exe /Namespace:\\\\root\\SecurityCenter2 Path AntiVirusProduct Get displayName /Format:List```"
   ]
  },
  {
   "cell_type": "code",
   "execution_count": null,
   "id": "5bcf1ed5",
   "metadata": {},
   "outputs": [],
   "source": "Invoke-AtomicTest T1518.001 -TestNumbers 7"
  },
  {
   "cell_type": "markdown",
   "id": "93baa7ba",
   "metadata": {},
   "source": [
    "### Atomic Test #8 - Security Software Discovery - AV Discovery via Get-CimInstance and Get-WmiObject cmdlets",
    "Discovery of installed antivirus products via Get-CimInstance and Get-WmiObject cmdlets of powershell.\n\nwhen sucessfully executed, information about installed AV software is displayed..\n",
    "**Supported Platforms:** windows",
    "\nElevation Required (e.g. root or admin)",
    "#### Attack Commands: Run with `command_prompt`\n",
    "```command_prompt\npowershell Get-CimInstance -Namespace root/securityCenter2 -classname antivirusproduct\npowershell Get-WmiObject -Namespace root\\securitycenter2 -Class antivirusproduct\n```"
   ]
  },
  {
   "cell_type": "code",
   "execution_count": null,
   "id": "e2abcd11",
   "metadata": {},
   "outputs": [],
   "source": "Invoke-AtomicTest T1518.001 -TestNumbers 8"
  },
  {
   "cell_type": "markdown",
   "id": "337e5512",
   "metadata": {},
   "source": [
    "### Atomic Test #9 - Security Software Discovery - Windows Defender Enumeration",
    "Windows Defender Enumeration via different built-in windows native tools.\nwhen sucessfully executed, information about windows defender is displayed.\n",
    "**Supported Platforms:** windows",
    "\nElevation Required (e.g. root or admin)",
    "#### Attack Commands: Run with `powershell`\n",
    "```powershell\nGet-Service WinDefend #check the service state of Windows Defender\nGet-MpComputerStatus #provides the current status of security solution elements, including Anti-Spyware, Antivirus, LoavProtection, Real-time protection, etc\nGet-MpThreat #threats details that have been detected using MS Defender\n```"
   ]
  },
  {
   "cell_type": "code",
   "execution_count": null,
   "id": "94425ec4",
   "metadata": {},
   "outputs": [],
   "source": "Invoke-AtomicTest T1518.001 -TestNumbers 9"
  },
  {
   "cell_type": "markdown",
   "id": "004b58ca",
   "metadata": {},
   "source": [
    "### Atomic Test #10 - Security Software Discovery - Windows Firewall Enumeration",
    "Enumerates windows firewall to retrieves firewall rules from the target computer.\n\nwhen sucessfully executed, details of windows firewall is displayed.\n",
    "**Supported Platforms:** windows",
    "\nElevation Required (e.g. root or admin)",
    "#### Attack Commands: Run with `powershell`\n",
    "```powershell\nGet-NetFirewallProfile | Format-Table Name, Enabled\nGet-NetFirewallSetting\nGet-NetFirewallRule | select DisplayName, Enabled, Description\n```"
   ]
  },
  {
   "cell_type": "code",
   "execution_count": null,
   "id": "4ced4025",
   "metadata": {},
   "outputs": [],
   "source": "Invoke-AtomicTest T1518.001 -TestNumbers 10"
  },
  {
   "cell_type": "markdown",
   "id": "73165e87",
   "metadata": {},
   "source": "## Detection\nSystem and network discovery techniques normally occur throughout an operation as an adversary learns the environment. Data and events should not be viewed in isolation, but as part of a chain of behavior that could lead to other activities, such as lateral movement, based on the information obtained.\n\nMonitor processes and command-line arguments for actions that could be taken to gather system and network information. Remote access tools with built-in features may interact directly with the Windows API to gather information. Information may also be acquired through Windows system management tools such as [Windows Management Instrumentation](https://attack.mitre.org/techniques/T1047) and [PowerShell](https://attack.mitre.org/techniques/T1059/001).\n\nIn cloud environments, additionally monitor logs for the usage of APIs that may be used to gather information about security software configurations within the environment."
  }
 ],
 "metadata": {
  "kernelspec": {
   "display_name": ".NET (PowerShell)",
   "language": "pwsh",
   "name": ".net-powershell"
  },
  "language_info": {
   "file_extension": ".ps1",
   "mimetype": "text/x-powershell",
   "name": "pwsh",
   "pygments_lexer": "powershell",
   "version": "7.0"
  }
 },
 "nbformat": 4,
 "nbformat_minor": 5
}