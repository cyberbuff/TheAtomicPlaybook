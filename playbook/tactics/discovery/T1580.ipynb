{
 "cells": [
  {
   "cell_type": "markdown",
   "id": "3a11d452",
   "metadata": {},
   "source": "# T1580 - Cloud Infrastructure Discovery\nAn adversary may attempt to discover infrastructure and resources that are available within an infrastructure-as-a-service (IaaS) environment. This includes compute service resources such as instances, virtual machines, and snapshots as well as resources of other services including the storage and database services.\n\nCloud providers offer methods such as APIs and commands issued through CLIs to serve information about infrastructure. For example, AWS provides a <code>DescribeInstances</code> API within the Amazon EC2 API that can return information about one or more instances within an account, the <code>ListBuckets</code> API that returns a list of all buckets owned by the authenticated sender of the request, the <code>HeadBucket</code> API to determine a bucket\u2019s existence along with access permissions of the request sender, or the <code>GetPublicAccessBlock</code> API to retrieve access block configuration for a bucket.(Citation: Amazon Describe Instance)(Citation: Amazon Describe Instances API)(Citation: AWS Get Public Access Block)(Citation: AWS Head Bucket) Similarly, GCP's Cloud SDK CLI provides the <code>gcloud compute instances list</code> command to list all Google Compute Engine instances in a project (Citation: Google Compute Instances), and Azure's CLI command <code>az vm list</code> lists details of virtual machines.(Citation: Microsoft AZ CLI) In addition to API commands, adversaries can utilize open source tools to discover cloud storage infrastructure through [Wordlist Scanning](https://attack.mitre.org/techniques/T1595/003).(Citation: Malwarebytes OSINT Leaky Buckets - Hioureas)\n\nAn adversary may enumerate resources using a compromised user's access keys to determine which are available to that user.(Citation: Expel IO Evil in AWS) The discovery of these available resources may help adversaries determine their next steps in the Cloud environment, such as establishing Persistence.(Citation: Mandiant M-Trends 2020)An adversary may also use this information to change the configuration to make the bucket publicly accessible, allowing data to be accessed without authentication. Adversaries have also may use infrastructure discovery APIs such as <code>DescribeDBInstances</code> to determine size, owner, permissions, and network ACLs of database resources. (Citation: AWS Describe DB Instances) Adversaries can use this information to determine the potential value of databases and discover the requirements to access them. Unlike in [Cloud Service Discovery](https://attack.mitre.org/techniques/T1526), this technique focuses on the discovery of components of the provided services rather than the services themselves."
  },
  {
   "cell_type": "markdown",
   "id": "d890a89e",
   "metadata": {},
   "source": "## Atomic Tests"
  },
  {
   "cell_type": "markdown",
   "id": "4576b542",
   "metadata": {},
   "source": "### Atomic Test #1 - AWS - EC2 Enumeration from Cloud Instance\nThis atomic runs several API calls (sts:GetCallerIdentity, s3:ListBuckets, iam:GetAccountSummary, iam:ListRoles, iam:ListUsers, iam:GetAccountAuthorizationDetails, ec2:DescribeSnapshots, cloudtrail:DescribeTrails, guardduty:ListDetectors) from the context of an EC2 instance role. This simulates an attacker compromising an EC2 instance and running initial discovery commands on it. This atomic test leverages a tool called stratus-red-team built by DataDog (https://github.com/DataDog/stratus-red-team). Stratus Red Team is a self-contained binary. You can use it to easily detonate offensive attack techniques against a live cloud environment. Ref: https://stratus-red-team.cloud/attack-techniques/AWS/aws.discovery.ec2-enumerate-from-instance/\n\n**Supported Platforms:** linux, macos, iaas:aws\n\nElevation Required (e.g. root or admin)\n#### Dependencies:  Run with `sh`!\n##### Description: Stratus binary must be present at the (#{stratus_path}/stratus)\n\n##### Check Prereq Commands:\n```sh\nif test -f \"$PathToAtomicsFolder/T1580/src/stratus\"; then exit 0; else exit 1; fi\n\n```\n##### Get Prereq Commands:\n```sh\nif [ \"$(uname)\" = \"Darwin\" ]\nthen DOWNLOAD_URL=$(curl -s https://api.github.com/repos/DataDog/stratus-red-team/releases/latest | grep browser_download_url | grep -i Darwin_x86_64 | cut -d '\"' -f 4); wget -q -O $PathToAtomicsFolder/T1580/src/stratus-red-team-latest.tar.gz $DOWNLOAD_URL\n  tar -xzvf $PathToAtomicsFolder/T1580/src/stratus-red-team-latest.tar.gz --directory $PathToAtomicsFolder/T1580/src/\nelif [ \"$(expr substr $(uname) 1 5)\" = \"Linux\" ]\nthen DOWNLOAD_URL=$(curl -s https://api.github.com/repos/DataDog/stratus-red-team/releases/latest | grep browser_download_url | grep -i linux_x86_64 | cut -d '\"' -f 4); wget -q -O $PathToAtomicsFolder/T1580/src/stratus-red-team-latest.tar.gz $DOWNLOAD_URL\n  tar -xzvf $PathToAtomicsFolder/T1580/src/stratus-red-team-latest.tar.gz --directory $PathToAtomicsFolder/T1580/src/\nfi \n\n```\n##### Description: Check if ~/.aws/credentials file has a default stanza is configured\n\n##### Check Prereq Commands:\n```sh\ncat ~/.aws/credentials | grep \"default\"\n\n```\n##### Get Prereq Commands:\n```sh\necho \"Please install the aws-cli and configure your AWS default profile using: aws configure\"\n\n```"
  },
  {
   "cell_type": "code",
   "execution_count": null,
   "id": "f172c53c",
   "metadata": {},
   "outputs": [],
   "source": "Invoke-AtomicTest T1580 -TestNumbers 1 -GetPreReqs"
  },
  {
   "cell_type": "markdown",
   "id": "f196e6e7",
   "metadata": {},
   "source": [
    "#### Attack Commands: Run with `sh`\n",
    "```sh\nexport AWS_REGION=us-west-2\ncd $PathToAtomicsFolder/T1580/src\necho \"Stratus: Start Warmup.\"\n./stratus warmup aws.discovery.ec2-enumerate-from-instance\necho \"Stratus: Start Detonate.\"\n./stratus detonate aws.discovery.ec2-enumerate-from-instance\n```"
   ]
  },
  {
   "cell_type": "code",
   "execution_count": null,
   "id": "c55d00ce",
   "metadata": {},
   "outputs": [],
   "source": "Invoke-AtomicTest T1580 -TestNumbers 1"
  },
  {
   "cell_type": "markdown",
   "id": "171a6bdd",
   "metadata": {},
   "source": "#### Cleanup: \n```sh\ncd $PathToAtomicsFolder/T1580/src\necho \"Stratus: Start Cleanup.\"\n./stratus cleanup aws.discovery.ec2-enumerate-from-instance\necho \"Removing Stratus artifacts from local machine.\"\nrm -rf stratus*\n```"
  },
  {
   "cell_type": "code",
   "execution_count": null,
   "id": "3e276653",
   "metadata": {},
   "outputs": [],
   "source": "Invoke-AtomicTest T1580 -TestNumbers 1 -Cleanup"
  },
  {
   "cell_type": "markdown",
   "id": "833ec917",
   "metadata": {},
   "source": "## Detection\nEstablish centralized logging for the activity of cloud infrastructure components. Monitor logs for actions that could be taken to gather information about cloud infrastructure, including the use of discovery API calls by new or unexpected users and enumerations from unknown or malicious IP addresses. To reduce false positives, valid change management procedures could introduce a known identifier that is logged with the change (e.g., tag or header) if supported by the cloud provider, to help distinguish valid, expected actions from malicious ones."
  },
  {
   "cell_type": "markdown",
   "id": "3d6a76fb",
   "metadata": {},
   "source": "\n## Shield Active Defense\n### Decoy System \n Configure a computing system to serve as an attack target or experimental environment.   \n\n A decoy system is a computing resource presented to the adversary in support of active defense.  The underlying system can be real, virtual, or simulated, and can be presented as one of a variety of IT devices including user workstations, servers, networking systems, IOT (embedded devices), mobile systems like phones, etc.\n#### Opportunity\nThere is an opportunity to introduce decoy information, users, systems, etc. to influence an adversary's future actions.\n#### Use Case\nA defender can deploy a diverse set of decoy systems to impact an adversary's level of effort during recon activity.\n#### Procedures\nUse an isolated system to visit a suspected compromised website.  Collect any associated scripting code or files dropped onto the system.\nSetup a server which appears to be something that is commonly expected within a network, such as web server.\n"
  }
 ],
 "metadata": {
  "kernelspec": {
   "display_name": ".NET (PowerShell)",
   "language": "pwsh",
   "name": ".net-powershell"
  },
  "language_info": {
   "file_extension": ".ps1",
   "mimetype": "text/x-powershell",
   "name": "pwsh",
   "pygments_lexer": "powershell",
   "version": "7.0"
  }
 },
 "nbformat": 4,
 "nbformat_minor": 5
}