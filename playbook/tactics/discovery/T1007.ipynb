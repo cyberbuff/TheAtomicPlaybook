{
 "cells": [
  {
   "cell_type": "markdown",
   "id": "35ac6f89",
   "metadata": {},
   "source": "# T1007 - System Service Discovery\nAdversaries may try to gather information about registered local system services. Adversaries may obtain information about services using tools as well as OS utility commands such as <code>sc query</code>, <code>tasklist /svc</code>, <code>systemctl --type=service</code>, and <code>net start</code>.\n\nAdversaries may use the information from [System Service Discovery](https://attack.mitre.org/techniques/T1007) during automated discovery to shape follow-on behaviors, including whether or not the adversary fully infects the target and/or attempts specific actions."
  },
  {
   "cell_type": "markdown",
   "id": "702fdc48",
   "metadata": {},
   "source": "## Atomic Tests"
  },
  {
   "cell_type": "markdown",
   "id": "b10186fe",
   "metadata": {},
   "source": [
    "### Atomic Test #1 - System Service Discovery",
    "Identify system services.\n\nUpon successful execution, cmd.exe will execute service commands with expected result to stdout.\n",
    "**Supported Platforms:** windows",
    "\nElevation Required (e.g. root or admin)",
    "#### Attack Commands: Run with `command_prompt`\n",
    "```command_prompt\ntasklist.exe\nsc query\nsc query state= all\n```"
   ]
  },
  {
   "cell_type": "code",
   "execution_count": null,
   "id": "d485a80a",
   "metadata": {},
   "outputs": [],
   "source": "Invoke-AtomicTest T1007 -TestNumbers 1"
  },
  {
   "cell_type": "markdown",
   "id": "055251a7",
   "metadata": {},
   "source": [
    "### Atomic Test #2 - System Service Discovery - net.exe",
    "Enumerates started system services using net.exe and writes them to a file. This technique has been used by multiple threat actors.\n\nUpon successful execution, net.exe will run from cmd.exe that queries services. Expected output is to a txt file in in the temp directory called service-list.txt.\n",
    "**Supported Platforms:** windows",
    "#### Attack Commands: Run with `command_prompt`\n",
    "```command_prompt\nnet.exe start >> %temp%\\service-list.txt\n```"
   ]
  },
  {
   "cell_type": "code",
   "execution_count": null,
   "id": "ff79d80e",
   "metadata": {},
   "outputs": [],
   "source": "Invoke-AtomicTest T1007 -TestNumbers 2"
  },
  {
   "cell_type": "markdown",
   "id": "13367286",
   "metadata": {},
   "source": "#### Cleanup: \n```cmd\ndel /f /q /s %temp%\\service-list.txt >nul 2>&1\n```"
  },
  {
   "cell_type": "code",
   "execution_count": null,
   "id": "8f1c03c3",
   "metadata": {},
   "outputs": [],
   "source": "Invoke-AtomicTest T1007 -TestNumbers 2 -Cleanup"
  },
  {
   "cell_type": "markdown",
   "id": "7b403b8b",
   "metadata": {},
   "source": [
    "### Atomic Test #3 - System Service Discovery - systemctl/service",
    "Enumerates system service using systemctl/service\n",
    "**Supported Platforms:** linux",
    "#### Attack Commands: Run with `bash`\n",
    "```bash\nif [ \"$(uname)\" = 'FreeBSD' ]; then service -e; else systemctl --type=service; fi;\n```"
   ]
  },
  {
   "cell_type": "code",
   "execution_count": null,
   "id": "5755ece5",
   "metadata": {},
   "outputs": [],
   "source": "Invoke-AtomicTest T1007 -TestNumbers 3"
  },
  {
   "cell_type": "markdown",
   "id": "2e69b9d4",
   "metadata": {},
   "source": "## Detection\nSystem and network discovery techniques normally occur throughout an operation as an adversary learns the environment. Data and events should not be viewed in isolation, but as part of a chain of behavior that could lead to other activities, such as Lateral Movement, based on the information obtained.\n\nMonitor processes and command-line arguments for actions that could be taken to gather system information related to services. Remote access tools with built-in features may interact directly with the Windows API to gather information. Information may also be acquired through Windows system management tools such as [Windows Management Instrumentation](https://attack.mitre.org/techniques/T1047) and [PowerShell](https://attack.mitre.org/techniques/T1059/001)."
  },
  {
   "cell_type": "markdown",
   "id": "e1050c31",
   "metadata": {},
   "source": "\n## Shield Active Defense\n### API Monitoring \n Monitor local APIs that might be used by adversary tools and activity. \n\n API Monitoring involves capturing an internal Operating System (OS) function for its usage, accompanying arguments, and result. When a defender captures this information, the intelligence gathered can be analyzed to gain insight into the activity of an adversary at a level deeper than normal system activity monitoring.\n#### Opportunity\nThere is an opportunity for the defender to observe the adversary and control what they can see, what effects they can have, and/or what data they can access.\n#### Use Case\nA defender can monitor and analyze operating system functions calls for detection and alerting.\n#### Procedures\nTrace activity through WinSock TCP API functions to view potentially  malicious network events. Log it such that it can be pushed to a centralized location and analyzed further.\nHook the Win32 DeleteFile() function to log all attempts at deleting a given file. This information can be used to trigger restoration attempts on critical data, reducing potential disruption if those files are unavailable for prolonged periods of time.\n"
  }
 ],
 "metadata": {
  "kernelspec": {
   "display_name": ".NET (PowerShell)",
   "language": "pwsh",
   "name": ".net-powershell"
  },
  "language_info": {
   "file_extension": ".ps1",
   "mimetype": "text/x-powershell",
   "name": "pwsh",
   "pygments_lexer": "powershell",
   "version": "7.0"
  }
 },
 "nbformat": 4,
 "nbformat_minor": 5
}