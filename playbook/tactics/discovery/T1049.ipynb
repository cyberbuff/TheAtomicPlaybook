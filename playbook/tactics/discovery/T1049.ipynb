{
 "cells": [
  {
   "cell_type": "markdown",
   "id": "c360bfc1",
   "metadata": {},
   "source": "# T1049 - System Network Connections Discovery\nAdversaries may attempt to get a listing of network connections to or from the compromised system they are currently accessing or from remote systems by querying for information over the network. \n\nAn adversary who gains access to a system that is part of a cloud-based environment may map out Virtual Private Clouds or Virtual Networks in order to determine what systems and services are connected. The actions performed are likely the same types of discovery techniques depending on the operating system, but the resulting information may include details about the networked cloud environment relevant to the adversary's goals. Cloud providers may have different ways in which their virtual networks operate.(Citation: Amazon AWS VPC Guide)(Citation: Microsoft Azure Virtual Network Overview)(Citation: Google VPC Overview) Similarly, adversaries who gain access to network devices may also perform similar discovery activities to gather information about connected systems and services.\n\nUtilities and commands that acquire this information include [netstat](https://attack.mitre.org/software/S0104), \"net use,\" and \"net session\" with [Net](https://attack.mitre.org/software/S0039). In Mac and Linux, [netstat](https://attack.mitre.org/software/S0104) and <code>lsof</code> can be used to list current connections. <code>who -a</code> and <code>w</code> can be used to show which users are currently logged in, similar to \"net session\". Additionally, built-in features native to network devices and [Network Device CLI](https://attack.mitre.org/techniques/T1059/008) may be used (e.g. <code>show ip sockets</code>, <code>show tcp brief</code>).(Citation: US-CERT-TA18-106A)"
  },
  {
   "cell_type": "markdown",
   "id": "e21f738d",
   "metadata": {},
   "source": "## Atomic Tests"
  },
  {
   "cell_type": "markdown",
   "id": "874fd83f",
   "metadata": {},
   "source": [
    "### Atomic Test #1 - System Network Connections Discovery",
    "Get a listing of network connections.\n\nUpon successful execution, cmd.exe will execute `netstat`, `net use` and `net sessions`. Results will output via stdout.\n",
    "**Supported Platforms:** windows",
    "#### Attack Commands: Run with `command_prompt`\n",
    "```command_prompt\nnetstat\nnet use\nnet sessions\n```"
   ]
  },
  {
   "cell_type": "code",
   "execution_count": null,
   "id": "33184804",
   "metadata": {},
   "outputs": [],
   "source": "Invoke-AtomicTest T1049 -TestNumbers 1"
  },
  {
   "cell_type": "markdown",
   "id": "ed2f9a3e",
   "metadata": {},
   "source": [
    "### Atomic Test #2 - System Network Connections Discovery with PowerShell",
    "Get a listing of network connections.\n\nUpon successful execution, powershell.exe will execute `get-NetTCPConnection`. Results will output via stdout.\n",
    "**Supported Platforms:** windows",
    "#### Attack Commands: Run with `powershell`\n",
    "```powershell\nGet-NetTCPConnection\n```"
   ]
  },
  {
   "cell_type": "code",
   "execution_count": null,
   "id": "5dcf018c",
   "metadata": {},
   "outputs": [],
   "source": "Invoke-AtomicTest T1049 -TestNumbers 2"
  },
  {
   "cell_type": "markdown",
   "id": "ba39f60b",
   "metadata": {},
   "source": "### Atomic Test #3 - System Network Connections Discovery FreeBSD, Linux & MacOS\nGet a listing of network connections.\n\nUpon successful execution, sh will execute `netstat` and `who -a`. Results will output via stdout.\n\n**Supported Platforms:** linux, macos\n#### Dependencies:  Run with `sh`!\n##### Description: Check if netstat command exists on the machine\n\n##### Check Prereq Commands:\n```sh\nif [ -x \"$(command -v netstat)\" ]; then exit 0; else exit 1; fi;\n\n```\n##### Get Prereq Commands:\n```sh\necho \"Install netstat on the machine.\"; exit 1;\n\n```"
  },
  {
   "cell_type": "code",
   "execution_count": null,
   "id": "e18de9d3",
   "metadata": {},
   "outputs": [],
   "source": "Invoke-AtomicTest T1049 -TestNumbers 3 -GetPreReqs"
  },
  {
   "cell_type": "markdown",
   "id": "ee3993d9",
   "metadata": {},
   "source": [
    "#### Attack Commands: Run with `sh`\n",
    "```sh\nnetstat\nwho -a\n```"
   ]
  },
  {
   "cell_type": "code",
   "execution_count": null,
   "id": "c4068e85",
   "metadata": {},
   "outputs": [],
   "source": "Invoke-AtomicTest T1049 -TestNumbers 3"
  },
  {
   "cell_type": "markdown",
   "id": "7962b850",
   "metadata": {},
   "source": "### Atomic Test #4 - System Discovery using SharpView\nGet a listing of network connections, domains, domain users, and etc.  \nsharpview.exe located in the bin folder, an opensource red-team tool.\nUpon successful execution, cmd.exe will execute sharpview.exe <method>. Results will output via stdout.\n\n**Supported Platforms:** windows\n\nElevation Required (e.g. root or admin)\n#### Dependencies:  Run with `powershell`!\n##### Description: Sharpview.exe must exist on disk at specified location (#{SharpView})\n\n##### Check Prereq Commands:\n```powershell\nif (Test-Path \"PathToAtomicsFolder\\..\\ExternalPayloads\\SharpView.exe\") {exit 0} else {exit 1}\n\n```\n##### Get Prereq Commands:\n```powershell\nNew-Item -Type Directory (split-path \"PathToAtomicsFolder\\..\\ExternalPayloads\\SharpView.exe\") -ErrorAction ignore | Out-Null\nInvoke-WebRequest https://github.com/tevora-threat/SharpView/blob/b60456286b41bb055ee7bc2a14d645410cca9b74/Compiled/SharpView.exe?raw=true -OutFile \"PathToAtomicsFolder\\..\\ExternalPayloads\\SharpView.exe\"\n\n```"
  },
  {
   "cell_type": "code",
   "execution_count": null,
   "id": "615e1561",
   "metadata": {},
   "outputs": [],
   "source": "Invoke-AtomicTest T1049 -TestNumbers 4 -GetPreReqs"
  },
  {
   "cell_type": "markdown",
   "id": "15948d15",
   "metadata": {},
   "source": [
    "#### Attack Commands: Run with `powershell`\n",
    "```powershell\n$syntaxList = \"Invoke-ACLScanner\", \"Invoke-Kerberoast\", \"Find-DomainShare\" \n\nforeach ($syntax in $syntaxList) {\nPathToAtomicsFolder\\..\\ExternalPayloads\\SharpView.exe $syntax -}\n```"
   ]
  },
  {
   "cell_type": "code",
   "execution_count": null,
   "id": "f7f22100",
   "metadata": {},
   "outputs": [],
   "source": "Invoke-AtomicTest T1049 -TestNumbers 4"
  },
  {
   "cell_type": "markdown",
   "id": "9cc6e26e",
   "metadata": {},
   "source": "## Detection\nSystem and network discovery techniques normally occur throughout an operation as an adversary learns the environment. Data and events should not be viewed in isolation, but as part of a chain of behavior that could lead to other activities, such as Lateral Movement, based on the information obtained.\n\nMonitor processes and command-line arguments for actions that could be taken to gather system and network information. Remote access tools with built-in features may interact directly with the Windows API to gather information. Further, [Network Device CLI](https://attack.mitre.org/techniques/T1059/008) commands may also be used to gather system and network information with built-in features native to the network device platform.  Monitor CLI activity for unexpected or unauthorized use commands being run by non-standard users from non-standard locations. Information may also be acquired through Windows system management tools such as [Windows Management Instrumentation](https://attack.mitre.org/techniques/T1047) and [PowerShell](https://attack.mitre.org/techniques/T1059/001)."
  },
  {
   "cell_type": "markdown",
   "id": "54c041fd",
   "metadata": {},
   "source": "\n## Shield Active Defense\n### Software Manipulation \n Make changes to a system's software properties and functions to achieve a desired effect. \n\n Software Manipulation allows a defender to alter or replace elements of the operating system, file system, or any other software installed and executed on a system.\n#### Opportunity\nThere is an opportunity for the defender to observe the adversary and control what they can see, what effects they can have, and/or what data they can access.\n#### Use Case\nA defender can manipulate the output of commands commonly used to enumerate a system's network connections. They could seed this output with decoy systems and/or networks or remove legitimate systems from the output in order to direct an adversary away from legitimate systems.\n#### Procedures\nHook the Win32 Sleep() function so that it always performs a Sleep(1) instead of the intended duration. This can increase the speed at which dynamic analysis can be performed when a normal malicious file sleeps for long periods before attempting additional capabilities.\nHook the Win32 NetUserChangePassword() and modify it such that the new password is different from the one provided. The data passed into the function is encrypted along with the modified new password, then logged so a defender can get alerted about the change as well as decrypt the new password for use.\nAlter the output of an adversary's profiling commands to make newly-built systems look like the operating system was installed months earlier.\nAlter the output of adversary recon commands to not show important assets, such as a file server containing sensitive data.\n"
  }
 ],
 "metadata": {
  "kernelspec": {
   "display_name": ".NET (PowerShell)",
   "language": "pwsh",
   "name": ".net-powershell"
  },
  "language_info": {
   "file_extension": ".ps1",
   "mimetype": "text/x-powershell",
   "name": "pwsh",
   "pygments_lexer": "powershell",
   "version": "7.0"
  }
 },
 "nbformat": 4,
 "nbformat_minor": 5
}