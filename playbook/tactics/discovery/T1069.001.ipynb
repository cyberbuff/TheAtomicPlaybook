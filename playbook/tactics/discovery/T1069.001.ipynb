{
 "cells": [
  {
   "cell_type": "markdown",
   "id": "c43d481d",
   "metadata": {},
   "source": "# T1069.001 - Local Groups\nAdversaries may attempt to find local system groups and permission settings. The knowledge of local system permission groups can help adversaries determine which groups exist and which users belong to a particular group. Adversaries may use this information to determine which users have elevated permissions, such as the users found within the local administrators group.\n\nCommands such as <code>net localgroup</code> of the [Net](https://attack.mitre.org/software/S0039) utility, <code>dscl . -list /Groups</code> on macOS, and <code>groups</code> on Linux can list local groups."
  },
  {
   "cell_type": "markdown",
   "id": "93c034ec",
   "metadata": {},
   "source": "## Atomic Tests"
  },
  {
   "cell_type": "markdown",
   "id": "c77afd5a",
   "metadata": {},
   "source": [
    "### Atomic Test #1 - Permission Groups Discovery (Local)",
    "Permission Groups Discovery\n",
    "**Supported Platforms:** linux, macos",
    "#### Attack Commands: Run with `sh`\n",
    "```sh\nif [ -x \"$(command -v dscacheutil)\" ]; then dscacheutil -q group; else echo \"dscacheutil is missing from the machine. skipping...\"; fi;\nif [ -x \"$(command -v dscl)\" ]; then dscl . -list /Groups; else echo \"dscl is missing from the machine. skipping...\"; fi;\nif [ -x \"$(command -v groups)\" ]; then groups; else echo \"groups is missing from the machine. skipping...\"; fi;\nif [ -x \"$(command -v id)\" ]; then id; else echo \"id is missing from the machine. skipping...\"; fi;\nif [ -x \"$(command -v getent)\" ]; then getent group; else echo \"getent is missing from the machine. skipping...\"; fi;\ncat /etc/group\n```"
   ]
  },
  {
   "cell_type": "code",
   "execution_count": null,
   "id": "f0da3177",
   "metadata": {},
   "outputs": [],
   "source": "Invoke-AtomicTest T1069.001 -TestNumbers 1"
  },
  {
   "cell_type": "markdown",
   "id": "a080a0c5",
   "metadata": {},
   "source": [
    "### Atomic Test #2 - Basic Permission Groups Discovery Windows (Local)",
    "Basic Permission Groups Discovery for Windows. This test will display some errors if run on a computer not connected to a domain. Upon execution, domain\ninformation will be displayed.\n",
    "**Supported Platforms:** windows",
    "#### Attack Commands: Run with `command_prompt`\n",
    "```command_prompt\nnet localgroup\nnet localgroup \"Administrators\"\n```"
   ]
  },
  {
   "cell_type": "code",
   "execution_count": null,
   "id": "aa5dffae",
   "metadata": {},
   "outputs": [],
   "source": "Invoke-AtomicTest T1069.001 -TestNumbers 2"
  },
  {
   "cell_type": "markdown",
   "id": "f551abe9",
   "metadata": {},
   "source": [
    "### Atomic Test #3 - Permission Groups Discovery PowerShell (Local)",
    "Permission Groups Discovery utilizing PowerShell. This test will display some errors if run on a computer not connected to a domain. Upon execution, domain\ninformation will be displayed.\n",
    "**Supported Platforms:** windows",
    "#### Attack Commands: Run with `powershell`\n",
    "```powershell\nget-localgroup\nGet-LocalGroupMember -Name \"Administrators\"\n```"
   ]
  },
  {
   "cell_type": "code",
   "execution_count": null,
   "id": "dfdd5cc8",
   "metadata": {},
   "outputs": [],
   "source": "Invoke-AtomicTest T1069.001 -TestNumbers 3"
  },
  {
   "cell_type": "markdown",
   "id": "d53f59e7",
   "metadata": {},
   "source": "### Atomic Test #4 - SharpHound3 - LocalAdmin\nThis module runs the Windows executable of SharpHound in order to remotely list members of the local Administrators group (SAMR)\n\n**Supported Platforms:** windows\n\nElevation Required (e.g. root or admin)\n#### Dependencies:  Run with `powershell`!\n##### Description: SharpHound binary must exist on disk and at specified location (#{sharphound_path}).\nAnd the computer must be domain joined (implicit authentication).\n\n##### Check Prereq Commands:\n```powershell\nif (Test-Path \"PathToAtomicsFolder\\..\\ExternalPayloads\\SharpHound.exe\") { exit 0 } else { exit 1 }\n\n```\n##### Get Prereq Commands:\n```powershell\nNew-Item -Type Directory \"PathToAtomicsFolder\\..\\ExternalPayloads\\\" -ErrorAction Ignore -Force | Out-Null\nInvoke-WebRequest \"https://github.com/BloodHoundAD/BloodHound/blob/e062fe73d73c015dccb37fae5089342d009b84b8/Collectors/SharpHound.exe?raw=true\" -OutFile \"PathToAtomicsFolder\\..\\ExternalPayloads\\SharpHound.exe\"\n\n```"
  },
  {
   "cell_type": "code",
   "execution_count": null,
   "id": "8a7654b5",
   "metadata": {},
   "outputs": [],
   "source": "Invoke-AtomicTest T1069.001 -TestNumbers 4 -GetPreReqs"
  },
  {
   "cell_type": "markdown",
   "id": "e4e82eb5",
   "metadata": {},
   "source": [
    "#### Attack Commands: Run with `powershell`\n",
    "```powershell\nNew-Item -Path \"$env:TEMP\\SharpHound\\\" -ItemType Directory > $null\n& \"PathToAtomicsFolder\\..\\ExternalPayloads\\SharpHound.exe\" -d \"$env:UserDnsDomain\" --CollectionMethod LocalAdmin --NoSaveCache --OutputDirectory \"$env:TEMP\\SharpHound\\\"\n```"
   ]
  },
  {
   "cell_type": "code",
   "execution_count": null,
   "id": "a87b3dd9",
   "metadata": {},
   "outputs": [],
   "source": "Invoke-AtomicTest T1069.001 -TestNumbers 4"
  },
  {
   "cell_type": "markdown",
   "id": "437c6be7",
   "metadata": {},
   "source": "#### Cleanup: \n```powershell\nRemove-Item -Recurse $env:TEMP\\SharpHound\\ -ErrorAction Ignore\n```"
  },
  {
   "cell_type": "code",
   "execution_count": null,
   "id": "f8964f20",
   "metadata": {},
   "outputs": [],
   "source": "Invoke-AtomicTest T1069.001 -TestNumbers 4 -Cleanup"
  },
  {
   "cell_type": "markdown",
   "id": "82f60b25",
   "metadata": {},
   "source": [
    "### Atomic Test #5 - Wmic Group Discovery",
    "Utilizing wmic.exe to enumerate groups on the local system. Upon execution, information will be displayed of local groups on system.\n",
    "**Supported Platforms:** windows",
    "#### Attack Commands: Run with `command_prompt`\n",
    "```command_prompt\nwmic group get name\n```"
   ]
  },
  {
   "cell_type": "code",
   "execution_count": null,
   "id": "d3a1f42a",
   "metadata": {},
   "outputs": [],
   "source": "Invoke-AtomicTest T1069.001 -TestNumbers 5"
  },
  {
   "cell_type": "markdown",
   "id": "e4f9303f",
   "metadata": {},
   "source": [
    "### Atomic Test #6 - WMIObject Group Discovery",
    "Utilizing PowerShell cmdlet - get-wmiobject, to enumerate local groups on the endpoint. Upon execution, Upon execution, information will be displayed of local groups on system.\n",
    "**Supported Platforms:** windows",
    "#### Attack Commands: Run with `powershell`\n",
    "```powershell\nGet-WMIObject Win32_Group\n```"
   ]
  },
  {
   "cell_type": "code",
   "execution_count": null,
   "id": "ba236d8e",
   "metadata": {},
   "outputs": [],
   "source": "Invoke-AtomicTest T1069.001 -TestNumbers 6"
  },
  {
   "cell_type": "markdown",
   "id": "7ac07a30",
   "metadata": {},
   "source": "### Atomic Test #7 - Permission Groups Discovery for Containers- Local Groups\nAttackers may try to obtain a list of services that are operating on remote hosts and local network infrastructure devices, in order to identify potential vulnerabilities that can be exploited through remote software attacks. They typically use tools to conduct port and vulnerability scans in order to obtain this information.\n**Supported Platforms:** containers\n#### Dependencies:  Run with `sh`!\n##### Description: Verify docker is installed.\n##### Check Prereq Commands:\n```sh\nwhich docker\n\n```\n##### Get Prereq Commands:\n```sh\nif [ \"\" == \"`which docker`\" ]; then echo \"Docker Not Found\"; if [ -n \"`which apt-get`\" ]; then sudo apt-get -y install docker ; elif [ -n \"`which yum`\" ]; then sudo yum -y install docker ; fi ; else echo \"Docker installed\"; fi\n\n```\n##### Description: Verify docker service is running.\n##### Check Prereq Commands:\n```sh\nsudo systemctl status docker  --no-pager\n\n```\n##### Get Prereq Commands:\n```sh\nsudo systemctl start docker\n\n```"
  },
  {
   "cell_type": "code",
   "execution_count": null,
   "id": "04059564",
   "metadata": {},
   "outputs": [],
   "source": "Invoke-AtomicTest T1069.001 -TestNumbers 7 -GetPreReqs"
  },
  {
   "cell_type": "markdown",
   "id": "24401419",
   "metadata": {},
   "source": [
    "#### Attack Commands: Run with `sh`\n",
    "```sh\ndocker build -t t1069 $PathtoAtomicsFolder/T1069.001/src/\ndocker run --name t1069_container  -d -t t1069\ndocker exec t1069_container ./test.sh```"
   ]
  },
  {
   "cell_type": "code",
   "execution_count": null,
   "id": "015fb7b9",
   "metadata": {},
   "outputs": [],
   "source": "Invoke-AtomicTest T1069.001 -TestNumbers 7"
  },
  {
   "cell_type": "markdown",
   "id": "0e28c54b",
   "metadata": {},
   "source": "#### Cleanup: \n```sh\ndocker stop t1069_container\ndocker rmi -f t1069```"
  },
  {
   "cell_type": "code",
   "execution_count": null,
   "id": "21f0caa0",
   "metadata": {},
   "outputs": [],
   "source": "Invoke-AtomicTest T1069.001 -TestNumbers 7 -Cleanup"
  },
  {
   "cell_type": "markdown",
   "id": "a967314a",
   "metadata": {},
   "source": "## Detection\nSystem and network discovery techniques normally occur throughout an operation as an adversary learns the environment. Data and events should not be viewed in isolation, but as part of a chain of behavior that could lead to other activities, such as Lateral Movement, based on the information obtained.\n\nMonitor processes and command-line arguments for actions that could be taken to gather system and network information. Remote access tools with built-in features may interact directly with the Windows API to gather information. Information may also be acquired through Windows system management tools such as [Windows Management Instrumentation](https://attack.mitre.org/techniques/T1047) and [PowerShell](https://attack.mitre.org/techniques/T1059/001)."
  }
 ],
 "metadata": {
  "kernelspec": {
   "display_name": ".NET (PowerShell)",
   "language": "pwsh",
   "name": ".net-powershell"
  },
  "language_info": {
   "file_extension": ".ps1",
   "mimetype": "text/x-powershell",
   "name": "pwsh",
   "pygments_lexer": "powershell",
   "version": "7.0"
  }
 },
 "nbformat": 4,
 "nbformat_minor": 5
}