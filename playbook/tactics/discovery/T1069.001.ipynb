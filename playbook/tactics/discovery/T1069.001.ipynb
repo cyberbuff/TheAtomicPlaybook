{
 "cells": [
  {
   "cell_type": "markdown",
   "id": "c8fba9c0",
   "metadata": {},
   "source": "# T1069.001 - Local Groups\nAdversaries may attempt to find local system groups and permission settings. The knowledge of local system permission groups can help adversaries determine which groups exist and which users belong to a particular group. Adversaries may use this information to determine which users have elevated permissions, such as the users found within the local administrators group.\n\nCommands such as <code>net localgroup</code> of the [Net](https://attack.mitre.org/software/S0039) utility, <code>dscl . -list /Groups</code> on macOS, and <code>groups</code> on Linux can list local groups."
  },
  {
   "cell_type": "markdown",
   "id": "81575fde",
   "metadata": {},
   "source": "## Atomic Tests"
  },
  {
   "cell_type": "markdown",
   "id": "c9d43206",
   "metadata": {},
   "source": [
    "### Atomic Test #1 - Permission Groups Discovery (Local)",
    "Permission Groups Discovery\n",
    "**Supported Platforms:** macos, linux",
    "#### Attack Commands: Run with `sh`\n",
    "```sh\nif [ -x \"$(command -v dscacheutil)\" ]; then dscacheutil -q group; else echo \"dscacheutil is missing from the machine. skipping...\"; fi;\nif [ -x \"$(command -v dscl)\" ]; then dscl . -list /Groups; else echo \"dscl is missing from the machine. skipping...\"; fi;\nif [ -x \"$(command -v groups)\" ]; then groups; else echo \"groups is missing from the machine. skipping...\"; fi;\nif [ -x \"$(command -v id)\" ]; then id; else echo \"id is missing from the machine. skipping...\"; fi;\nif [ -x \"$(command -v getent)\" ]; then getent group; else echo \"getent is missing from the machine. skipping...\"; fi;\ncat /etc/group\n```"
   ]
  },
  {
   "cell_type": "code",
   "execution_count": null,
   "id": "da2b829a",
   "metadata": {},
   "outputs": [],
   "source": "Invoke-AtomicTest T1069.001 -TestNumbers 1"
  },
  {
   "cell_type": "markdown",
   "id": "b6c2c670",
   "metadata": {},
   "source": [
    "### Atomic Test #2 - Basic Permission Groups Discovery Windows (Local)",
    "Basic Permission Groups Discovery for Windows. This test will display some errors if run on a computer not connected to a domain. Upon execution, domain\ninformation will be displayed.\n",
    "**Supported Platforms:** windows",
    "#### Attack Commands: Run with `command_prompt`\n",
    "```command_prompt\nnet localgroup\nnet localgroup \"Administrators\"\n```"
   ]
  },
  {
   "cell_type": "code",
   "execution_count": null,
   "id": "0e406734",
   "metadata": {},
   "outputs": [],
   "source": "Invoke-AtomicTest T1069.001 -TestNumbers 2"
  },
  {
   "cell_type": "markdown",
   "id": "ac5a7aab",
   "metadata": {},
   "source": [
    "### Atomic Test #3 - Permission Groups Discovery PowerShell (Local)",
    "Permission Groups Discovery utilizing PowerShell. This test will display some errors if run on a computer not connected to a domain. Upon execution, domain\ninformation will be displayed.\n",
    "**Supported Platforms:** windows",
    "#### Attack Commands: Run with `powershell`\n",
    "```powershell\nget-localgroup\nGet-LocalGroupMember -Name \"Administrators\"\n```"
   ]
  },
  {
   "cell_type": "code",
   "execution_count": null,
   "id": "a817ee47",
   "metadata": {},
   "outputs": [],
   "source": "Invoke-AtomicTest T1069.001 -TestNumbers 3"
  },
  {
   "cell_type": "markdown",
   "id": "74a99cd1",
   "metadata": {},
   "source": "### Atomic Test #4 - SharpHound3 - LocalAdmin\nThis module runs the Windows executable of SharpHound in order to remotely list members of the local Administrators group (SAMR)\n\n**Supported Platforms:** windows\n\nElevation Required (e.g. root or admin)\n#### Dependencies:  Run with `powershell`!\n##### Description: SharpHound binary must exist on disk and at specified location (#{sharphound_path}).\nAnd the computer must be domain joined (implicit authentication).\n\n##### Check Prereq Commands:\n```powershell\nif (Test-Path \"$env:TEMP\\SharpHound.exe\") { exit 0 } else { exit 1 }\n\n```\n##### Get Prereq Commands:\n```powershell\nInvoke-WebRequest \"https://github.com/BloodHoundAD/BloodHound/blob/e062fe73d73c015dccb37fae5089342d009b84b8/Collectors/SharpHound.exe?raw=true\" -OutFile \"$env:TEMP\\SharpHound.exe\"\n\n```"
  },
  {
   "cell_type": "code",
   "execution_count": null,
   "id": "911c99f6",
   "metadata": {},
   "outputs": [],
   "source": "Invoke-AtomicTest T1069.001 -TestNumbers 4 -GetPreReqs"
  },
  {
   "cell_type": "markdown",
   "id": "a1415d70",
   "metadata": {},
   "source": [
    "#### Attack Commands: Run with `powershell`\n",
    "```powershell\nNew-Item -Path \"$env:TEMP\\SharpHound\\\" -ItemType Directory > $null\n& \"$env:TEMP\\SharpHound.exe\" -d \"$env:UserDnsDomain\" --CollectionMethod LocalAdmin --NoSaveCache --OutputDirectory \"$env:TEMP\\SharpHound\\\"\n```"
   ]
  },
  {
   "cell_type": "code",
   "execution_count": null,
   "id": "7e5d054e",
   "metadata": {},
   "outputs": [],
   "source": "Invoke-AtomicTest T1069.001 -TestNumbers 4"
  },
  {
   "cell_type": "markdown",
   "id": "21347b10",
   "metadata": {},
   "source": "#### Cleanup: \n```powershell\nRemove-Item -Recurse $env:TEMP\\SharpHound\\ -ErrorAction Ignore\n```"
  },
  {
   "cell_type": "code",
   "execution_count": null,
   "id": "0f2a07bc",
   "metadata": {},
   "outputs": [],
   "source": "Invoke-AtomicTest T1069.001 -TestNumbers 4 -Cleanup"
  },
  {
   "cell_type": "markdown",
   "id": "515e01f6",
   "metadata": {},
   "source": [
    "### Atomic Test #5 - Wmic Group Discovery",
    "Utilizing wmic.exe to enumerate groups on the local system. Upon execution, information will be displayed of local groups on system.\n",
    "**Supported Platforms:** windows",
    "#### Attack Commands: Run with `powershell`\n",
    "```powershell\nwmic.exe group get name\n```"
   ]
  },
  {
   "cell_type": "code",
   "execution_count": null,
   "id": "715fc6d9",
   "metadata": {},
   "outputs": [],
   "source": "Invoke-AtomicTest T1069.001 -TestNumbers 5"
  },
  {
   "cell_type": "markdown",
   "id": "3f2bf942",
   "metadata": {},
   "source": [
    "### Atomic Test #6 - WMIObject Group Discovery",
    "Utilizing PowerShell cmdlet - get-wmiobject, to enumerate local groups on the endpoint. Upon execution, Upon execution, information will be displayed of local groups on system.\n",
    "**Supported Platforms:** windows",
    "#### Attack Commands: Run with `powershell`\n",
    "```powershell\nGet-WMIObject Win32_Group\n```"
   ]
  },
  {
   "cell_type": "code",
   "execution_count": null,
   "id": "0f794e3e",
   "metadata": {},
   "outputs": [],
   "source": "Invoke-AtomicTest T1069.001 -TestNumbers 6"
  },
  {
   "cell_type": "markdown",
   "id": "273cc21f",
   "metadata": {},
   "source": "## Detection\nSystem and network discovery techniques normally occur throughout an operation as an adversary learns the environment. Data and events should not be viewed in isolation, but as part of a chain of behavior that could lead to other activities, such as Lateral Movement, based on the information obtained.\n\nMonitor processes and command-line arguments for actions that could be taken to gather system and network information. Remote access tools with built-in features may interact directly with the Windows API to gather information. Information may also be acquired through Windows system management tools such as [Windows Management Instrumentation](https://attack.mitre.org/techniques/T1047) and [PowerShell](https://attack.mitre.org/techniques/T1059/001)."
  }
 ],
 "metadata": {
  "kernelspec": {
   "display_name": ".NET (PowerShell)",
   "language": "PowerShell",
   "name": ".net-powershell"
  },
  "language_info": {
   "file_extension": ".ps1",
   "mimetype": "text/x-powershell",
   "name": "PowerShell",
   "pygments_lexer": "powershell",
   "version": "7.0"
  }
 },
 "nbformat": 4,
 "nbformat_minor": 5
}