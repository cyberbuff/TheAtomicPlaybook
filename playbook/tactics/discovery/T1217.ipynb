{
 "cells": [
  {
   "cell_type": "markdown",
   "id": "b96d65d7",
   "metadata": {},
   "source": "# T1217 - Browser Information Discovery\nAdversaries may enumerate information about browsers to learn more about compromised environments. Data saved by browsers (such as bookmarks, accounts, and browsing history) may reveal a variety of personal information about users (e.g., banking sites, relationships/interests, social media, etc.) as well as details about internal network resources such as servers, tools/dashboards, or other related infrastructure.(Citation: Kaspersky Autofill)\n\nBrowser information may also highlight additional targets after an adversary has access to valid credentials, especially [Credentials In Files](https://attack.mitre.org/techniques/T1552/001) associated with logins cached by a browser.\n\nSpecific storage locations vary based on platform and/or application, but browser information is typically stored in local files and databases (e.g., `%APPDATA%/Google/Chrome`).(Citation: Chrome Roaming Profiles)"
  },
  {
   "cell_type": "markdown",
   "id": "98ee1aee",
   "metadata": {},
   "source": "## Atomic Tests"
  },
  {
   "cell_type": "markdown",
   "id": "2284d03b",
   "metadata": {},
   "source": [
    "### Atomic Test #1 - List Mozilla Firefox Bookmark Database Files on FreeBSD/Linux",
    "Searches for Mozilla Firefox's places.sqlite file (on FreeBSD or Linux distributions) that contains bookmarks and lists any found instances to a text file.\n",
    "**Supported Platforms:** linux",
    "#### Attack Commands: Run with `sh`\n",
    "```sh\nfind / -path \"*.mozilla/firefox/*/places.sqlite\" 2>/dev/null -exec echo {} >> /tmp/T1217-Firefox.txt \\;\ncat /tmp/T1217-Firefox.txt 2>/dev/null\n```"
   ]
  },
  {
   "cell_type": "code",
   "execution_count": null,
   "id": "43838194",
   "metadata": {},
   "outputs": [],
   "source": "Invoke-AtomicTest T1217 -TestNumbers 1"
  },
  {
   "cell_type": "markdown",
   "id": "493f8062",
   "metadata": {},
   "source": "#### Cleanup: \n```sh\nrm -f /tmp/T1217-Firefox.txt 2>/dev/null\n```"
  },
  {
   "cell_type": "code",
   "execution_count": null,
   "id": "42a3c979",
   "metadata": {},
   "outputs": [],
   "source": "Invoke-AtomicTest T1217 -TestNumbers 1 -Cleanup"
  },
  {
   "cell_type": "markdown",
   "id": "5b9de62d",
   "metadata": {},
   "source": [
    "### Atomic Test #2 - List Mozilla Firefox Bookmark Database Files on macOS",
    "Searches for Mozilla Firefox's places.sqlite file (on macOS) that contains bookmarks and lists any found instances to a text file.\n",
    "**Supported Platforms:** macos",
    "#### Attack Commands: Run with `sh`\n",
    "```sh\nfind / -path \"*/Firefox/Profiles/*/places.sqlite\" -exec echo {} >> /tmp/T1217_Firefox.txt \\;\ncat /tmp/T1217_Firefox.txt 2>/dev/null\n```"
   ]
  },
  {
   "cell_type": "code",
   "execution_count": null,
   "id": "cb9a9632",
   "metadata": {},
   "outputs": [],
   "source": "Invoke-AtomicTest T1217 -TestNumbers 2"
  },
  {
   "cell_type": "markdown",
   "id": "7f145e76",
   "metadata": {},
   "source": "#### Cleanup: \n```sh\nrm -f /tmp/T1217_Firefox.txt 2>/dev/null\n```"
  },
  {
   "cell_type": "code",
   "execution_count": null,
   "id": "1774c86c",
   "metadata": {},
   "outputs": [],
   "source": "Invoke-AtomicTest T1217 -TestNumbers 2 -Cleanup"
  },
  {
   "cell_type": "markdown",
   "id": "50fdfde7",
   "metadata": {},
   "source": [
    "### Atomic Test #3 - List Google Chrome Bookmark JSON Files on macOS",
    "Searches for Google Chrome's Bookmark file (on macOS) that contains bookmarks in JSON format and lists any found instances to a text file.\n",
    "**Supported Platforms:** macos",
    "#### Attack Commands: Run with `sh`\n",
    "```sh\nfind / -path \"*/Google/Chrome/*/Bookmarks\" -exec echo {} >> /tmp/T1217-Chrome.txt \\;\ncat /tmp/T1217-Chrome.txt 2>/dev/null\n```"
   ]
  },
  {
   "cell_type": "code",
   "execution_count": null,
   "id": "e2afb2f8",
   "metadata": {},
   "outputs": [],
   "source": "Invoke-AtomicTest T1217 -TestNumbers 3"
  },
  {
   "cell_type": "markdown",
   "id": "e021eb42",
   "metadata": {},
   "source": "#### Cleanup: \n```sh\nrm -f /tmp/T1217-Chrome.txt 2>/dev/null\n```"
  },
  {
   "cell_type": "code",
   "execution_count": null,
   "id": "65028eb5",
   "metadata": {},
   "outputs": [],
   "source": "Invoke-AtomicTest T1217 -TestNumbers 3 -Cleanup"
  },
  {
   "cell_type": "markdown",
   "id": "288727c0",
   "metadata": {},
   "source": [
    "### Atomic Test #4 - List Google Chromium Bookmark JSON Files on FreeBSD",
    "Searches for Google Chromium's Bookmark file (on FreeBSD) that contains bookmarks in JSON format and lists any found instances to a text file.\n",
    "**Supported Platforms:** linux",
    "#### Attack Commands: Run with `sh`\n",
    "```sh\nfind / -path \"*/.config/chromium/*/Bookmarks\" -exec echo {} >> /tmp/T1217-Chrome.txt \\;\ncat /tmp/T1217-Chrome.txt 2>/dev/null\n```"
   ]
  },
  {
   "cell_type": "code",
   "execution_count": null,
   "id": "1e09a1be",
   "metadata": {},
   "outputs": [],
   "source": "Invoke-AtomicTest T1217 -TestNumbers 4"
  },
  {
   "cell_type": "markdown",
   "id": "5c504969",
   "metadata": {},
   "source": "#### Cleanup: \n```sh\nrm -f /tmp/T1217-Chrome.txt 2>/dev/null\n```"
  },
  {
   "cell_type": "code",
   "execution_count": null,
   "id": "fa19cecf",
   "metadata": {},
   "outputs": [],
   "source": "Invoke-AtomicTest T1217 -TestNumbers 4 -Cleanup"
  },
  {
   "cell_type": "markdown",
   "id": "9761bcb6",
   "metadata": {},
   "source": [
    "### Atomic Test #5 - List Google Chrome / Opera Bookmarks on Windows with powershell",
    "Searches for Google Chrome's and Opera's Bookmarks file (on Windows distributions) that contains bookmarks.\nUpon execution, paths that contain bookmark files will be displayed.\n",
    "**Supported Platforms:** windows",
    "#### Attack Commands: Run with `powershell`\n",
    "```powershell\nGet-ChildItem -Path C:\\Users\\ -Filter Bookmarks -Recurse -ErrorAction SilentlyContinue -Force\n```"
   ]
  },
  {
   "cell_type": "code",
   "execution_count": null,
   "id": "583dfbb2",
   "metadata": {},
   "outputs": [],
   "source": "Invoke-AtomicTest T1217 -TestNumbers 5"
  },
  {
   "cell_type": "markdown",
   "id": "07ba67a5",
   "metadata": {},
   "source": [
    "### Atomic Test #6 - List Google Chrome / Edge Chromium Bookmarks on Windows with command prompt",
    "Searches for Google Chromes's and Edge Chromium's Bookmarks file (on Windows distributions) that contains bookmarks.\nUpon execution, paths that contain bookmark files will be displayed.\n",
    "**Supported Platforms:** windows",
    "#### Attack Commands: Run with `command_prompt`\n",
    "```command_prompt\nwhere /R C:\\Users\\ Bookmarks\n```"
   ]
  },
  {
   "cell_type": "code",
   "execution_count": null,
   "id": "e107165c",
   "metadata": {},
   "outputs": [],
   "source": "Invoke-AtomicTest T1217 -TestNumbers 6"
  },
  {
   "cell_type": "markdown",
   "id": "734f20ca",
   "metadata": {},
   "source": [
    "### Atomic Test #7 - List Mozilla Firefox bookmarks on Windows with command prompt",
    "Searches for Mozilla Firefox bookmarks file (on Windows distributions) that contains bookmarks in a SQLITE database.\nUpon execution, paths that contain bookmark files will be displayed.\n",
    "**Supported Platforms:** windows",
    "#### Attack Commands: Run with `command_prompt`\n",
    "```command_prompt\nwhere /R C:\\Users\\ places.sqlite\n```"
   ]
  },
  {
   "cell_type": "code",
   "execution_count": null,
   "id": "f5f31296",
   "metadata": {},
   "outputs": [],
   "source": "Invoke-AtomicTest T1217 -TestNumbers 7"
  },
  {
   "cell_type": "markdown",
   "id": "dc5d4426",
   "metadata": {},
   "source": [
    "### Atomic Test #8 - List Internet Explorer Bookmarks using the command prompt",
    "This test will list the bookmarks for Internet Explorer that are found in the Favorites folder",
    "**Supported Platforms:** windows",
    "#### Attack Commands: Run with `command_prompt`\n",
    "```command_prompt\ndir /s /b %USERPROFILE%\\Favorites\n```"
   ]
  },
  {
   "cell_type": "code",
   "execution_count": null,
   "id": "bc0bfe86",
   "metadata": {},
   "outputs": [],
   "source": "Invoke-AtomicTest T1217 -TestNumbers 8"
  },
  {
   "cell_type": "markdown",
   "id": "29dddcbd",
   "metadata": {},
   "source": [
    "### Atomic Test #9 - List Safari Bookmarks on MacOS",
    "This test searches for Safari's Bookmarks file (on macOS) and lists any found instances to a text file.\n",
    "**Supported Platforms:** macos",
    "#### Attack Commands: Run with `sh`\n",
    "```sh\nfind / -path \"*/Safari/Bookmarks.plist\" 2>/dev/null >> /tmp/T1217-Safari.txt \ncat /tmp/T1217-Safari.txt \n```"
   ]
  },
  {
   "cell_type": "code",
   "execution_count": null,
   "id": "c70cd954",
   "metadata": {},
   "outputs": [],
   "source": "Invoke-AtomicTest T1217 -TestNumbers 9"
  },
  {
   "cell_type": "markdown",
   "id": "40e76e53",
   "metadata": {},
   "source": "#### Cleanup: \n```sh\nrm -f /tmp/T1217-Safari.txt 2>/dev/null\n```"
  },
  {
   "cell_type": "code",
   "execution_count": null,
   "id": "c6f6adf2",
   "metadata": {},
   "outputs": [],
   "source": "Invoke-AtomicTest T1217 -TestNumbers 9 -Cleanup"
  },
  {
   "cell_type": "markdown",
   "id": "0c80cd3d",
   "metadata": {},
   "source": "## Detection\nMonitor processes and command-line arguments for actions that could be taken to gather browser bookmark information. Remote access tools with built-in features may interact directly using APIs to gather information. Information may also be acquired through system management tools such as [Windows Management Instrumentation](https://attack.mitre.org/techniques/T1047) and [PowerShell](https://attack.mitre.org/techniques/T1059/001).\n\nSystem and network discovery techniques normally occur throughout an operation as an adversary learns the environment. Data and events should not be viewed in isolation, but as part of a chain of behavior that could lead to other activities, such as Collection and Exfiltration, based on the information obtained."
  },
  {
   "cell_type": "markdown",
   "id": "d6377e6f",
   "metadata": {},
   "source": "\n## Shield Active Defense\n### Decoy Content  \n Seed content that can be used to lead an adversary in a specific direction, entice a behavior, etc. \n\n Decoy Content is the data used to tell a story to an adversary. This content can be legitimate or synthetic data which is used to reinforce or validate your defensive strategy. Examples of decoy content are files on a storage object, entries in the system registry, system shortcuts, etc.\n#### Opportunity\nThere is an opportunity to feed content to an adversary to influence their behaviors, test their interest in specific topics, or add legitimacy to a system or environment.\n#### Use Case\nA defender can use decoy content to give the false impression about the nature of the system in order to entice an adversary to continue engagement.\n#### Procedures\nCreate directories and files with names and contents using key words that may be relevant to an adversary to see if they examine or exfiltrate the data.\nSeed a file system with content that is of no value to the company but reinforces the legitimacy of the system if viewed by an adversary.\n"
  }
 ],
 "metadata": {
  "kernelspec": {
   "display_name": ".NET (PowerShell)",
   "language": "pwsh",
   "name": ".net-powershell"
  },
  "language_info": {
   "file_extension": ".ps1",
   "mimetype": "text/x-powershell",
   "name": "pwsh",
   "pygments_lexer": "powershell",
   "version": "7.0"
  }
 },
 "nbformat": 4,
 "nbformat_minor": 5
}