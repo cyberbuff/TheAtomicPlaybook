{
 "cells": [
  {
   "cell_type": "markdown",
   "id": "41e86328",
   "metadata": {},
   "source": "# T1526 - Cloud Service Discovery\nAn adversary may attempt to enumerate the cloud services running on a system after gaining access. These methods can differ from platform-as-a-service (PaaS), to infrastructure-as-a-service (IaaS), or software-as-a-service (SaaS). Many services exist throughout the various cloud providers and can include Continuous Integration and Continuous Delivery (CI/CD), Lambda Functions, Azure AD, etc. They may also include security services, such as AWS GuardDuty and Microsoft Defender for Cloud, and logging services, such as AWS CloudTrail and Google Cloud Audit Logs.\n\nAdversaries may attempt to discover information about the services enabled throughout the environment. Azure tools and APIs, such as the Azure AD Graph API and Azure Resource Manager API, can enumerate resources and services, including applications, management groups, resources and policy definitions, and their relationships that are accessible by an identity.(Citation: Azure - Resource Manager API)(Citation: Azure AD Graph API)\n\nFor example, Stormspotter is an open source tool for enumerating and constructing a graph for Azure resources and services, and Pacu is an open source AWS exploitation framework that supports several methods for discovering cloud services.(Citation: Azure - Stormspotter)(Citation: GitHub Pacu)\n\nAdversaries may use the information gained to shape follow-on behaviors, such as targeting data or credentials from enumerated services or evading identified defenses through [Disable or Modify Tools](https://attack.mitre.org/techniques/T1562/001) or [Disable or Modify Cloud Logs](https://attack.mitre.org/techniques/T1562/008)."
  },
  {
   "cell_type": "markdown",
   "id": "b380da79",
   "metadata": {},
   "source": "## Atomic Tests"
  },
  {
   "cell_type": "markdown",
   "id": "8edf9586",
   "metadata": {},
   "source": "### Atomic Test #1 - Azure - Dump Subscription Data with MicroBurst\nUpon successful execution, this test will enumerate all resources that are contained within a valid Azure subscription. \nThe resources enumerated will display on screen, as well as several csv files and folders will be output to a specified directory, listing what resources were discovered by the script. \nSee https://dev.to/cheahengsoon/enumerating-subscription-information-with-microburst-35a1\n\n**Supported Platforms:** iaas:azure\n#### Dependencies:  Run with `powershell`!\n##### Description: The Get-AzDomainInfo script must exist in PathToAtomicsFolder\\..\\ExternalPayloads.\n\n##### Check Prereq Commands:\n```powershell\nif (test-path \"PathToAtomicsFolder\\..\\ExternalPayloads\\Get-AzDomainInfo.ps1\"){exit 0} else {exit 1}\n\n```\n##### Get Prereq Commands:\n```powershell\nNew-Item -Type Directory \"PathToAtomicsFolder\\..\\ExternalPayloads\\\" -ErrorAction Ignore -Force | Out-Null\ninvoke-webrequest \"https://raw.githubusercontent.com/NetSPI/MicroBurst/c771c665a2c71f9c5ba474869cd1c211ebee68fd/Az/Get-AzDomainInfo.ps1\" -outfile \"PathToAtomicsFolder\\..\\ExternalPayloads\\Get-AzDomainInfo.ps1\"\n\n```\n##### Description: The Az module must be installed.\n\n##### Check Prereq Commands:\n```powershell\ntry {if (Get-InstalledModule -Name Az -ErrorAction SilentlyContinue) {exit 0} else {exit 1}} catch {exit 1}\n\n```\n##### Get Prereq Commands:\n```powershell\nInstall-Module -Name Az -Force\n\n```"
  },
  {
   "cell_type": "code",
   "execution_count": null,
   "id": "dcc3dea2",
   "metadata": {},
   "outputs": [],
   "source": "Invoke-AtomicTest T1526 -TestNumbers 1 -GetPreReqs"
  },
  {
   "cell_type": "markdown",
   "id": "db5e5c65",
   "metadata": {},
   "source": [
    "#### Attack Commands: Run with `powershell`\n",
    "```powershell\nimport-module \"PathToAtomicsFolder\\..\\ExternalPayloads\\Get-AzDomainInfo.ps1\"\n$Password = ConvertTo-SecureString -String \"T1082Az\" -AsPlainText -Force\n$Credential = New-Object -TypeName System.Management.Automation.PSCredential -ArgumentList \"None\", $Password\nConnect-AzAccount -Credential $Credential | out-null\nGet-AzDomainInfo -folder $env:temp\\T1526Test1 -subscription \"None\" -verbose\n```"
   ]
  },
  {
   "cell_type": "code",
   "execution_count": null,
   "id": "a13b9409",
   "metadata": {},
   "outputs": [],
   "source": "Invoke-AtomicTest T1526 -TestNumbers 1"
  },
  {
   "cell_type": "markdown",
   "id": "7d1d77f0",
   "metadata": {},
   "source": "#### Cleanup: \n```powershell\nremove-item $env:temp\\T1526Test1 -recurse -force -erroraction silentlycontinue\n```"
  },
  {
   "cell_type": "code",
   "execution_count": null,
   "id": "503bb5ab",
   "metadata": {},
   "outputs": [],
   "source": "Invoke-AtomicTest T1526 -TestNumbers 1 -Cleanup"
  },
  {
   "cell_type": "markdown",
   "id": "6567b6ca",
   "metadata": {},
   "source": "## Detection\nCloud service discovery techniques will likely occur throughout an operation where an adversary is targeting cloud-based systems and services. Data and events should not be viewed in isolation, but as part of a chain of behavior that could lead to other activities based on the information obtained.\n\nNormal, benign system and network events that look like cloud service discovery may be uncommon, depending on the environment and how they are used. Monitor cloud service usage for anomalous behavior that may indicate adversarial presence within the environment."
  },
  {
   "cell_type": "markdown",
   "id": "b980ea03",
   "metadata": {},
   "source": "\n## Shield Active Defense\n### Decoy Network \n Create a target network with a set of target systems, for the purpose of active defense.\n \n\n Decoy networks are comprised of multiple computing resources that can be used for defensive or deceptive purposes.  A decoy network can be used to safely perform dynamic analysis of suspected malicious code. A defender can also use a specially crafted decoy network to perform adversary engagement. \n#### Opportunity\nThere is an opportunity to introduce services in a decoy network to determine if an adversary notices and tries to learn more about them.\n#### Use Case\nA defender can use a decoy network and seed it with cloud services to see how an adversary might exploit those resources.\n#### Procedures\nCreate an isolated network populated with decoy systems that can be used to study an adversary's tactics, techniques, and procedures (TTPs).\nUse a segregated network to visit a compromised site.  If the machine becomes infected, allow the machine to remain on with internet access to see if an adversary engages and takes action on the system.\n"
  }
 ],
 "metadata": {
  "kernelspec": {
   "display_name": ".NET (PowerShell)",
   "language": "pwsh",
   "name": ".net-powershell"
  },
  "language_info": {
   "file_extension": ".ps1",
   "mimetype": "text/x-powershell",
   "name": "pwsh",
   "pygments_lexer": "powershell",
   "version": "7.0"
  }
 },
 "nbformat": 4,
 "nbformat_minor": 5
}