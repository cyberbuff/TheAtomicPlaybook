{
 "cells": [
  {
   "cell_type": "markdown",
   "id": "02ede189",
   "metadata": {},
   "source": "# T1654 - Log Enumeration\nAdversaries may enumerate system and service logs to find useful data. These logs may highlight various types of valuable insights for an adversary, such as user authentication records ([Account Discovery](https://attack.mitre.org/techniques/T1087)), security or vulnerable software ([Software Discovery](https://attack.mitre.org/techniques/T1518)), or hosts within a compromised network ([Remote System Discovery](https://attack.mitre.org/techniques/T1018)).\n\nHost binaries may be leveraged to collect system logs. Examples include using `wevtutil.exe` or [PowerShell](https://attack.mitre.org/techniques/T1059/001) on Windows to access and/or export security event information.(Citation: WithSecure Lazarus-NoPineapple Threat Intel Report 2023)(Citation: Cadet Blizzard emerges as novel threat actor) In cloud environments, adversaries may leverage utilities such as the Azure VM Agent\u2019s `CollectGuestLogs.exe` to collect security logs from cloud hosted infrastructure.(Citation: SIM Swapping and Abuse of the Microsoft Azure Serial Console)\n\nAdversaries may also target centralized logging infrastructure such as SIEMs. Logs may also be bulk exported and sent to adversary-controlled infrastructure for offline analysis."
  },
  {
   "cell_type": "markdown",
   "id": "b360f50d",
   "metadata": {},
   "source": "## Atomic Tests"
  },
  {
   "cell_type": "markdown",
   "id": "2de9e413",
   "metadata": {},
   "source": [
    "### Atomic Test #1 - Get-EventLog To Enumerate Windows Security Log",
    "Uses the built-in PowerShell commandlet Get-EventLog to search for 'SYSTEM' keyword and saves results to a text file.\n\nThis technique was observed in a [TheDFIRReport case](https://thedfirreport.com/2023/04/03/malicious-iso-file-leads-to-domain-wide-ransomware/) \nwhere the threat actor enumerated the Windows Security audit log to determine user accounts and associated IPv4 addresses.\n\nSuccessful execution will save matching log events to the users temp folder.",
    "**Supported Platforms:** windows",
    "\nElevation Required (e.g. root or admin)",
    "#### Attack Commands: Run with `powershell`\n",
    "```powershell\npowershell -c \"get-eventlog 'Security' | where {$_.Message -like '*SYSTEM*'} | export-csv $env:temp\\T1654_events.txt\"```"
   ]
  },
  {
   "cell_type": "code",
   "execution_count": null,
   "id": "88840cf5",
   "metadata": {},
   "outputs": [],
   "source": "Invoke-AtomicTest T1654 -TestNumbers 1"
  },
  {
   "cell_type": "markdown",
   "id": "0bfd084d",
   "metadata": {},
   "source": "#### Cleanup: \n```powershell\npowershell -c \"remove-item $env:temp\\T1654_events.txt -ErrorAction Ignore\"```"
  },
  {
   "cell_type": "code",
   "execution_count": null,
   "id": "c54e30fc",
   "metadata": {},
   "outputs": [],
   "source": "Invoke-AtomicTest T1654 -TestNumbers 1 -Cleanup"
  }
 ],
 "metadata": {
  "kernelspec": {
   "display_name": ".NET (PowerShell)",
   "language": "pwsh",
   "name": ".net-powershell"
  },
  "language_info": {
   "file_extension": ".ps1",
   "mimetype": "text/x-powershell",
   "name": "pwsh",
   "pygments_lexer": "powershell",
   "version": "7.0"
  }
 },
 "nbformat": 4,
 "nbformat_minor": 5
}