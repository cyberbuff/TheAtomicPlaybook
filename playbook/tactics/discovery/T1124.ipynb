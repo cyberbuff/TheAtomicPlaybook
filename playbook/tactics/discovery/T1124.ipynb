{
 "cells": [
  {
   "cell_type": "markdown",
   "id": "bc334a9c",
   "metadata": {},
   "source": "# T1124 - System Time Discovery\nAn adversary may gather the system time and/or time zone from a local or remote system. The system time is set and stored by the Windows Time Service within a domain to maintain time synchronization between systems and services in an enterprise network. (Citation: MSDN System Time)(Citation: Technet Windows Time Service)\n\nSystem time information may be gathered in a number of ways, such as with [Net](https://attack.mitre.org/software/S0039) on Windows by performing <code>net time \\\\hostname</code> to gather the system time on a remote system. The victim's time zone may also be inferred from the current system time or gathered by using <code>w32tm /tz</code>.(Citation: Technet Windows Time Service)\n\nOn network devices, [Network Device CLI](https://attack.mitre.org/techniques/T1059/008) commands such as `show clock detail` can be used to see the current time configuration.(Citation: show_clock_detail_cisco_cmd)\n\nThis information could be useful for performing other techniques, such as executing a file with a [Scheduled Task/Job](https://attack.mitre.org/techniques/T1053)(Citation: RSA EU12 They're Inside), or to discover locality information based on time zone to assist in victim targeting (i.e. [System Location Discovery](https://attack.mitre.org/techniques/T1614)). Adversaries may also use knowledge of system time as part of a time bomb, or delaying execution until a specified date/time.(Citation: AnyRun TimeBomb)"
  },
  {
   "cell_type": "markdown",
   "id": "bfd1787c",
   "metadata": {},
   "source": "## Atomic Tests"
  },
  {
   "cell_type": "markdown",
   "id": "e75171a5",
   "metadata": {},
   "source": [
    "### Atomic Test #1 - System Time Discovery",
    "Identify the system time. Upon execution, the local computer system time and timezone will be displayed.\n",
    "**Supported Platforms:** windows",
    "#### Attack Commands: Run with `command_prompt`\n",
    "```command_prompt\nnet time \\\\localhost\nw32tm /tz\n```"
   ]
  },
  {
   "cell_type": "code",
   "execution_count": null,
   "id": "f778b263",
   "metadata": {},
   "outputs": [],
   "source": "Invoke-AtomicTest T1124 -TestNumbers 1"
  },
  {
   "cell_type": "markdown",
   "id": "4d754769",
   "metadata": {},
   "source": [
    "### Atomic Test #2 - System Time Discovery - PowerShell",
    "Identify the system time via PowerShell. Upon execution, the system time will be displayed.\n",
    "**Supported Platforms:** windows",
    "#### Attack Commands: Run with `powershell`\n",
    "```powershell\nGet-Date\n```"
   ]
  },
  {
   "cell_type": "code",
   "execution_count": null,
   "id": "3e39d4c4",
   "metadata": {},
   "outputs": [],
   "source": "Invoke-AtomicTest T1124 -TestNumbers 2"
  },
  {
   "cell_type": "markdown",
   "id": "796e63e5",
   "metadata": {},
   "source": [
    "### Atomic Test #3 - System Time Discovery in FreeBSD/macOS",
    "Identify system time. Upon execution, the local computer system time and timezone will be displayed. \n",
    "**Supported Platforms:** linux, macos",
    "#### Attack Commands: Run with `sh`\n",
    "```sh\ndate\n```"
   ]
  },
  {
   "cell_type": "code",
   "execution_count": null,
   "id": "911075bb",
   "metadata": {},
   "outputs": [],
   "source": "Invoke-AtomicTest T1124 -TestNumbers 3"
  },
  {
   "cell_type": "markdown",
   "id": "a68b8825",
   "metadata": {},
   "source": [
    "### Atomic Test #4 - System Time Discovery W32tm as a Delay",
    "identifies DCRat delay time tactics using w32tm.\nhttps://research.splunk.com/endpoint/b2cc69e7-11ba-42dc-a269-59c069a48870/\nhttps://blogs.blackberry.com/en/2022/05/dirty-deeds-done-dirt-cheap-russian-rat-offers-backdoor-bargains\n",
    "**Supported Platforms:** windows",
    "#### Attack Commands: Run with `command_prompt`\n",
    "```command_prompt\nW32tm /stripchart /computer:localhost /period:5 /dataonly /samples:2\n```"
   ]
  },
  {
   "cell_type": "code",
   "execution_count": null,
   "id": "3a36cd4c",
   "metadata": {},
   "outputs": [],
   "source": "Invoke-AtomicTest T1124 -TestNumbers 4"
  },
  {
   "cell_type": "markdown",
   "id": "ca355cde",
   "metadata": {},
   "source": [
    "### Atomic Test #5 - System Time with Windows time Command",
    "Displays the current system time via the Windows builtin time command: https://learn.microsoft.com/en-us/windows-server/administration/windows-commands/time\nRecently observed in use in the wild during an incident involving Ursnif malware:\nhttps://github.com/The-DFIR-Report/Sigma-Rules/blob/dc72f0b557fc63347379be0a33439788256761c8/rules/windows/process_creation/proc_creation_win_system_time_lookup.yml\nhttps://thedfirreport.com/2023/01/09/unwrapping-ursnifs-gifts/\n",
    "**Supported Platforms:** windows",
    "#### Attack Commands: Run with `command_prompt`\n",
    "```command_prompt\ntime\n```"
   ]
  },
  {
   "cell_type": "code",
   "execution_count": null,
   "id": "a980e082",
   "metadata": {},
   "outputs": [],
   "source": "Invoke-AtomicTest T1124 -TestNumbers 5"
  },
  {
   "cell_type": "markdown",
   "id": "fe1d0625",
   "metadata": {},
   "source": "## Detection\nCommand-line interface monitoring may be useful to detect instances of net.exe or other command-line utilities being used to gather system time or time zone. Methods of detecting API use for gathering this information are likely less useful due to how often they may be used by legitimate software.\n\nFor network infrastructure devices, collect AAA logging to monitor `show` commands being run by non-standard users from non-standard locations."
  },
  {
   "cell_type": "markdown",
   "id": "983cd99f",
   "metadata": {},
   "source": "\n## Shield Active Defense\n### Software Manipulation \n Make changes to a system's software properties and functions to achieve a desired effect. \n\n Software Manipulation allows a defender to alter or replace elements of the operating system, file system, or any other software installed and executed on a system.\n#### Opportunity\nThere is an opportunity for the defender to observe the adversary and control what they can see, what effects they can have, and/or what data they can access.\n#### Use Case\nIf the defender knows the specific regions an adversary is targeting, they can alter the output of commands which return systems times to return data consistent with what an adversary would want to see.\n#### Procedures\nHook the Win32 Sleep() function so that it always performs a Sleep(1) instead of the intended duration. This can increase the speed at which dynamic analysis can be performed when a normal malicious file sleeps for long periods before attempting additional capabilities.\nHook the Win32 NetUserChangePassword() and modify it such that the new password is different from the one provided. The data passed into the function is encrypted along with the modified new password, then logged so a defender can get alerted about the change as well as decrypt the new password for use.\nAlter the output of an adversary's profiling commands to make newly-built systems look like the operating system was installed months earlier.\nAlter the output of adversary recon commands to not show important assets, such as a file server containing sensitive data.\n"
  }
 ],
 "metadata": {
  "kernelspec": {
   "display_name": ".NET (PowerShell)",
   "language": "pwsh",
   "name": ".net-powershell"
  },
  "language_info": {
   "file_extension": ".ps1",
   "mimetype": "text/x-powershell",
   "name": "pwsh",
   "pygments_lexer": "powershell",
   "version": "7.0"
  }
 },
 "nbformat": 4,
 "nbformat_minor": 5
}