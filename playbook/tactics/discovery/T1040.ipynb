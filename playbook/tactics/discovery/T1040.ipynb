{
 "cells": [
  {
   "cell_type": "markdown",
   "id": "7a2c79cc",
   "metadata": {},
   "source": "# T1040 - Network Sniffing\nAdversaries may sniff network traffic to capture information about an environment, including authentication material passed over the network. Network sniffing refers to using the network interface on a system to monitor or capture information sent over a wired or wireless connection. An adversary may place a network interface into promiscuous mode to passively access data in transit over the network, or use span ports to capture a larger amount of data.\n\nData captured via this technique may include user credentials, especially those sent over an insecure, unencrypted protocol. Techniques for name service resolution poisoning, such as [LLMNR/NBT-NS Poisoning and SMB Relay](https://attack.mitre.org/techniques/T1557/001), can also be used to capture credentials to websites, proxies, and internal systems by redirecting traffic to an adversary.\n\nNetwork sniffing may also reveal configuration details, such as running services, version numbers, and other network characteristics (e.g. IP addresses, hostnames, VLAN IDs) necessary for subsequent Lateral Movement and/or Defense Evasion activities.\n\nIn cloud-based environments, adversaries may still be able to use traffic mirroring services to sniff network traffic from virtual machines. For example, AWS Traffic Mirroring, GCP Packet Mirroring, and Azure vTap allow users to define specified instances to collect traffic from and specified targets to send collected traffic to.(Citation: AWS Traffic Mirroring)(Citation: GCP Packet Mirroring)(Citation: Azure Virtual Network TAP) Often, much of this traffic will be in cleartext due to the use of TLS termination at the load balancer level to reduce the strain of encrypting and decrypting traffic.(Citation: Rhino Security Labs AWS VPC Traffic Mirroring)(Citation: SpecterOps AWS Traffic Mirroring) The adversary can then use exfiltration techniques such as Transfer Data to Cloud Account in order to access the sniffed traffic.(Citation: Rhino Security Labs AWS VPC Traffic Mirroring)\n\nOn network devices, adversaries may perform network captures using [Network Device CLI](https://attack.mitre.org/techniques/T1059/008) commands such as `monitor capture`.(Citation: US-CERT-TA18-106A)(Citation: capture_embedded_packet_on_software)"
  },
  {
   "cell_type": "markdown",
   "id": "f1179db1",
   "metadata": {},
   "source": "## Atomic Tests"
  },
  {
   "cell_type": "markdown",
   "id": "ab3cafed",
   "metadata": {},
   "source": "### Atomic Test #1 - Packet Capture Linux using tshark or tcpdump\nPerform a PCAP. Wireshark will be required for tshark. TCPdump may already be installed.\n\nUpon successful execution, tshark or tcpdump will execute and capture 5 packets on interface ens33.\n\n**Supported Platforms:** linux\n\nElevation Required (e.g. root or admin)\n#### Dependencies:  Run with `bash`!\n##### Description: Check if at least one of tcpdump or tshark is installed.\n\n##### Check Prereq Commands:\n```bash\nif [ ! -x \"$(command -v tcpdump)\" ] && [ ! -x \"$(command -v tshark)\" ]; then exit 1; else exit 0; fi;\n\n```\n##### Get Prereq Commands:\n```bash\n(which yum && yum -y install epel-release tcpdump tshark)||(which apt-get && DEBIAN_FRONTEND=noninteractive apt-get install -y tcpdump tshark)\n\n```"
  },
  {
   "cell_type": "code",
   "execution_count": null,
   "id": "e64d97ad",
   "metadata": {},
   "outputs": [],
   "source": "Invoke-AtomicTest T1040 -TestNumbers 1 -GetPreReqs"
  },
  {
   "cell_type": "markdown",
   "id": "64000a10",
   "metadata": {},
   "source": [
    "#### Attack Commands: Run with `bash`\n",
    "```bash\ntcpdump -c 5 -nnni ens33\ntshark -c 5 -i ens33\n```"
   ]
  },
  {
   "cell_type": "code",
   "execution_count": null,
   "id": "14b60eea",
   "metadata": {},
   "outputs": [],
   "source": "Invoke-AtomicTest T1040 -TestNumbers 1"
  },
  {
   "cell_type": "markdown",
   "id": "37aa9755",
   "metadata": {},
   "source": "### Atomic Test #2 - Packet Capture FreeBSD using tshark or tcpdump\nPerform a PCAP. Wireshark will be required for tshark. TCPdump may already be installed.\n\nUpon successful execution, tshark or tcpdump will execute and capture 5 packets on interface ens33.\n\n**Supported Platforms:** linux\n\nElevation Required (e.g. root or admin)\n#### Dependencies:  Run with `sh`!\n##### Description: Check if at least one of tcpdump or tshark is installed.\n\n##### Check Prereq Commands:\n```sh\nif [ ! -x \"$(command -v tcpdump)\" ] && [ ! -x \"$(command -v tshark)\" ]; then exit 1; else exit 0; fi;\n\n```\n##### Get Prereq Commands:\n```sh\n(which pkg && pkg install -y wireshark-nox11)\n\n```"
  },
  {
   "cell_type": "code",
   "execution_count": null,
   "id": "10dd51a6",
   "metadata": {},
   "outputs": [],
   "source": "Invoke-AtomicTest T1040 -TestNumbers 2 -GetPreReqs"
  },
  {
   "cell_type": "markdown",
   "id": "b268bd51",
   "metadata": {},
   "source": [
    "#### Attack Commands: Run with `sh`\n",
    "```sh\ntcpdump -c 5 -nnni em0\ntshark -c 5 -i em0\n```"
   ]
  },
  {
   "cell_type": "code",
   "execution_count": null,
   "id": "46cbc0c0",
   "metadata": {},
   "outputs": [],
   "source": "Invoke-AtomicTest T1040 -TestNumbers 2"
  },
  {
   "cell_type": "markdown",
   "id": "066317e2",
   "metadata": {},
   "source": "### Atomic Test #3 - Packet Capture macOS using tcpdump or tshark\nPerform a PCAP on macOS. This will require Wireshark/tshark to be installed. TCPdump may already be installed.\n\nUpon successful execution, tshark or tcpdump will execute and capture 5 packets on interface en0A.\n\n**Supported Platforms:** macos\n\nElevation Required (e.g. root or admin)\n#### Dependencies:  Run with `bash`!\n##### Description: Check if at least one of tcpdump or tshark is installed.\n\n##### Check Prereq Commands:\n```bash\nif [ ! -x \"$(command -v tcpdump)\" ] && [ ! -x \"$(command -v tshark)\" ]; then exit 1; else exit 0; fi;\n\n```\n##### Get Prereq Commands:\n```bash\n(which yum && yum -y install epel-release tcpdump tshark)||(which apt-get && DEBIAN_FRONTEND=noninteractive apt-get install -y tcpdump tshark)\n\n```"
  },
  {
   "cell_type": "code",
   "execution_count": null,
   "id": "d52b96a9",
   "metadata": {},
   "outputs": [],
   "source": "Invoke-AtomicTest T1040 -TestNumbers 3 -GetPreReqs"
  },
  {
   "cell_type": "markdown",
   "id": "e0863606",
   "metadata": {},
   "source": [
    "#### Attack Commands: Run with `bash`\n",
    "```bash\nsudo tcpdump -c 5 -nnni en0A    \nif [ -x \"$(command -v tshark)\" ]; then sudo tshark -c 5 -i en0A; fi;\n```"
   ]
  },
  {
   "cell_type": "code",
   "execution_count": null,
   "id": "53ef7b32",
   "metadata": {},
   "outputs": [],
   "source": "Invoke-AtomicTest T1040 -TestNumbers 3"
  },
  {
   "cell_type": "markdown",
   "id": "11e2b52b",
   "metadata": {},
   "source": "### Atomic Test #4 - Packet Capture Windows Command Prompt\nPerform a packet capture using the windows command prompt. This will require a host that has Wireshark/Tshark\ninstalled.\n\nUpon successful execution, tshark will execute and capture 5 packets on interface \"Ethernet\".\n\n**Supported Platforms:** windows\n\nElevation Required (e.g. root or admin)\n#### Dependencies:  Run with `powershell`!\n##### Description: tshark must be installed and in the default path of \"c:\\Program Files\\Wireshark\\Tshark.exe\".\n\n##### Check Prereq Commands:\n```cmd\nif (test-path \"c:\\program files\\wireshark\\tshark.exe\") {exit 0} else {exit 1}\n```\n##### Get Prereq Commands:\n```cmd\nNew-Item -Type Directory \"PathToAtomicsFolder\\..\\ExternalPayloads\\\" -ErrorAction Ignore -Force | Out-Null\nInvoke-WebRequest -OutFile \"PathToAtomicsFolder\\..\\ExternalPayloads\\wireshark_installer.exe\" https://1.eu.dl.wireshark.org/win64/Wireshark-win64-latest.exe\nStart-Process \"PathToAtomicsFolder\\..\\ExternalPayloads\\wireshark_installer.exe\" /S\n\n```\n##### Description: npcap must be installed.\n\n##### Check Prereq Commands:\n```cmd\nif (test-path \"C:\\Program Files\\Npcap\\npcap.sys\") {exit 0} else {exit 1}\n```\n##### Get Prereq Commands:\n```cmd\nNew-Item -Type Directory \"PathToAtomicsFolder\\..\\ExternalPayloads\\\" -ErrorAction Ignore -Force | Out-Null\nInvoke-WebRequest -OutFile \"PathToAtomicsFolder\\..\\ExternalPayloads\\npcap_installer.exe\" https://nmap.org/npcap/dist/npcap-1.31.exe\nStart-Process \"PathToAtomicsFolder\\..\\ExternalPayloads\\npcap_installer.exe\"\n\n```"
  },
  {
   "cell_type": "code",
   "execution_count": null,
   "id": "6fc7c558",
   "metadata": {},
   "outputs": [],
   "source": "Invoke-AtomicTest T1040 -TestNumbers 4 -GetPreReqs"
  },
  {
   "cell_type": "markdown",
   "id": "59a4fcd0",
   "metadata": {},
   "source": [
    "#### Attack Commands: Run with `command_prompt`\n",
    "```command_prompt\n\"c:\\Program Files\\Wireshark\\tshark.exe\" -i Ethernet -c 5\n```"
   ]
  },
  {
   "cell_type": "code",
   "execution_count": null,
   "id": "d1ce5b90",
   "metadata": {},
   "outputs": [],
   "source": "Invoke-AtomicTest T1040 -TestNumbers 4"
  },
  {
   "cell_type": "markdown",
   "id": "d4523cd5",
   "metadata": {},
   "source": [
    "### Atomic Test #5 - Windows Internal Packet Capture",
    "Uses the built-in Windows packet capture\nAfter execution you should find a file named trace.etl and trace.cab in the temp directory",
    "**Supported Platforms:** windows",
    "\nElevation Required (e.g. root or admin)",
    "#### Attack Commands: Run with `command_prompt`\n",
    "```command_prompt\nnetsh trace start capture=yes tracefile=%temp%\\trace.etl maxsize=10```"
   ]
  },
  {
   "cell_type": "code",
   "execution_count": null,
   "id": "acc11db8",
   "metadata": {},
   "outputs": [],
   "source": "Invoke-AtomicTest T1040 -TestNumbers 5"
  },
  {
   "cell_type": "markdown",
   "id": "f6f8bc60",
   "metadata": {},
   "source": "#### Cleanup: \n```cmd\nnetsh trace stop >nul 2>&1\nTIMEOUT /T 5 >nul 2>&1\ndel %temp%\\trace.etl >nul 2>&1\ndel %temp%\\trace.cab >nul 2>&1```"
  },
  {
   "cell_type": "code",
   "execution_count": null,
   "id": "5d74f859",
   "metadata": {},
   "outputs": [],
   "source": "Invoke-AtomicTest T1040 -TestNumbers 5 -Cleanup"
  },
  {
   "cell_type": "markdown",
   "id": "f2232c97",
   "metadata": {},
   "source": [
    "### Atomic Test #6 - Windows Internal pktmon capture",
    "Will start a packet capture and store log file as t1040.etl.\nhttps://lolbas-project.github.io/lolbas/Binaries/Pktmon/",
    "**Supported Platforms:** windows",
    "\nElevation Required (e.g. root or admin)",
    "#### Attack Commands: Run with `command_prompt`\n",
    "```command_prompt\npktmon.exe start --etw  -f %TEMP%\\t1040.etl\nTIMEOUT /T 5 >nul 2>&1\npktmon.exe stop\n```"
   ]
  },
  {
   "cell_type": "code",
   "execution_count": null,
   "id": "58c94bfa",
   "metadata": {},
   "outputs": [],
   "source": "Invoke-AtomicTest T1040 -TestNumbers 6"
  },
  {
   "cell_type": "markdown",
   "id": "db8615fc",
   "metadata": {},
   "source": "#### Cleanup: \n```cmd\ndel %TEMP%\\t1040.etl```"
  },
  {
   "cell_type": "code",
   "execution_count": null,
   "id": "9e9a8d29",
   "metadata": {},
   "outputs": [],
   "source": "Invoke-AtomicTest T1040 -TestNumbers 6 -Cleanup"
  },
  {
   "cell_type": "markdown",
   "id": "5082ccf1",
   "metadata": {},
   "source": [
    "### Atomic Test #7 - Windows Internal pktmon set filter",
    "Select Desired ports for packet capture \nhttps://lolbas-project.github.io/lolbas/Binaries/Pktmon/",
    "**Supported Platforms:** windows",
    "\nElevation Required (e.g. root or admin)",
    "#### Attack Commands: Run with `command_prompt`\n",
    "```command_prompt\npktmon.exe filter add -p 445\n```"
   ]
  },
  {
   "cell_type": "code",
   "execution_count": null,
   "id": "eb7d4456",
   "metadata": {},
   "outputs": [],
   "source": "Invoke-AtomicTest T1040 -TestNumbers 7"
  },
  {
   "cell_type": "markdown",
   "id": "45928057",
   "metadata": {},
   "source": "#### Cleanup: \n```cmd\npktmon filter remove```"
  },
  {
   "cell_type": "code",
   "execution_count": null,
   "id": "e96512e0",
   "metadata": {},
   "outputs": [],
   "source": "Invoke-AtomicTest T1040 -TestNumbers 7 -Cleanup"
  },
  {
   "cell_type": "markdown",
   "id": "bc61d64b",
   "metadata": {},
   "source": "### Atomic Test #8 - Packet Capture macOS using /dev/bpfN with sudo\nOpens a /dev/bpf file (O_RDONLY) and captures packets for a few seconds.\n\n**Supported Platforms:** macos\n\nElevation Required (e.g. root or admin)\n#### Dependencies:  Run with `bash`!\n##### Description: compile C program\n\n##### Check Prereq Commands:\n```bash\nexit 1\n\n```\n##### Get Prereq Commands:\n```bash\ncc PathToAtomicsFolder/T1040/src/macos_pcapdemo.c -o /tmp/t1040_macos_pcapdemo\n\n```"
  },
  {
   "cell_type": "code",
   "execution_count": null,
   "id": "365a6213",
   "metadata": {},
   "outputs": [],
   "source": "Invoke-AtomicTest T1040 -TestNumbers 8 -GetPreReqs"
  },
  {
   "cell_type": "markdown",
   "id": "c5064357",
   "metadata": {},
   "source": [
    "#### Attack Commands: Run with `bash`\n",
    "```bash\nsudo /tmp/t1040_macos_pcapdemo -i en0 -t 3\n```"
   ]
  },
  {
   "cell_type": "code",
   "execution_count": null,
   "id": "67a896d0",
   "metadata": {},
   "outputs": [],
   "source": "Invoke-AtomicTest T1040 -TestNumbers 8"
  },
  {
   "cell_type": "markdown",
   "id": "fee2a722",
   "metadata": {},
   "source": "#### Cleanup: \n```bash\nrm -f /tmp/t1040_macos_pcapdemo\n```"
  },
  {
   "cell_type": "code",
   "execution_count": null,
   "id": "99ebca12",
   "metadata": {},
   "outputs": [],
   "source": "Invoke-AtomicTest T1040 -TestNumbers 8 -Cleanup"
  },
  {
   "cell_type": "markdown",
   "id": "b030e9c3",
   "metadata": {},
   "source": "### Atomic Test #9 - Filtered Packet Capture macOS using /dev/bpfN with sudo\nOpens a /dev/bpf file (O_RDONLY), sets BPF filter for 'udp' and captures packets for a few seconds.\n\n**Supported Platforms:** macos\n\nElevation Required (e.g. root or admin)\n#### Dependencies:  Run with `bash`!\n##### Description: compile C program\n\n##### Check Prereq Commands:\n```bash\nexit 1\n\n```\n##### Get Prereq Commands:\n```bash\ncc PathToAtomicsFolder/T1040/src/macos_pcapdemo.c -o /tmp/t1040_macos_pcapdemo\n\n```"
  },
  {
   "cell_type": "code",
   "execution_count": null,
   "id": "d250a25c",
   "metadata": {},
   "outputs": [],
   "source": "Invoke-AtomicTest T1040 -TestNumbers 9 -GetPreReqs"
  },
  {
   "cell_type": "markdown",
   "id": "d5344c91",
   "metadata": {},
   "source": [
    "#### Attack Commands: Run with `bash`\n",
    "```bash\nsudo /tmp/t1040_macos_pcapdemo -f -i en0 -t 3\n```"
   ]
  },
  {
   "cell_type": "code",
   "execution_count": null,
   "id": "a03a1297",
   "metadata": {},
   "outputs": [],
   "source": "Invoke-AtomicTest T1040 -TestNumbers 9"
  },
  {
   "cell_type": "markdown",
   "id": "bffad9bb",
   "metadata": {},
   "source": "#### Cleanup: \n```bash\nrm -f /tmp/t1040_macos_pcapdemo\n```"
  },
  {
   "cell_type": "code",
   "execution_count": null,
   "id": "2c85387b",
   "metadata": {},
   "outputs": [],
   "source": "Invoke-AtomicTest T1040 -TestNumbers 9 -Cleanup"
  },
  {
   "cell_type": "markdown",
   "id": "9a7ea4ea",
   "metadata": {},
   "source": "### Atomic Test #10 - Packet Capture FreeBSD using /dev/bpfN with sudo\nOpens a /dev/bpf file (O_RDONLY) and captures packets for a few seconds.\n\n**Supported Platforms:** linux\n\nElevation Required (e.g. root or admin)\n#### Dependencies:  Run with `sh`!\n##### Description: compile C program\n\n##### Check Prereq Commands:\n```sh\nexit 1\n\n```\n##### Get Prereq Commands:\n```sh\ncc PathToAtomicsFolder/T1040/src/freebsd_pcapdemo.c -o /tmp/t1040_freebsd_pcapdemo\n\n```"
  },
  {
   "cell_type": "code",
   "execution_count": null,
   "id": "1a448cca",
   "metadata": {},
   "outputs": [],
   "source": "Invoke-AtomicTest T1040 -TestNumbers 10 -GetPreReqs"
  },
  {
   "cell_type": "markdown",
   "id": "99bf3058",
   "metadata": {},
   "source": [
    "#### Attack Commands: Run with `sh`\n",
    "```sh\nsudo /tmp/t1040_freebsd_pcapdemo -i em0 -t 3\n```"
   ]
  },
  {
   "cell_type": "code",
   "execution_count": null,
   "id": "14244821",
   "metadata": {},
   "outputs": [],
   "source": "Invoke-AtomicTest T1040 -TestNumbers 10"
  },
  {
   "cell_type": "markdown",
   "id": "af0fd55e",
   "metadata": {},
   "source": "#### Cleanup: \n```sh\nrm -f /tmp/t1040_freebsd_pcapdemo\n```"
  },
  {
   "cell_type": "code",
   "execution_count": null,
   "id": "cf17b4ce",
   "metadata": {},
   "outputs": [],
   "source": "Invoke-AtomicTest T1040 -TestNumbers 10 -Cleanup"
  },
  {
   "cell_type": "markdown",
   "id": "494dfa03",
   "metadata": {},
   "source": "### Atomic Test #11 - Filtered Packet Capture FreeBSD using /dev/bpfN with sudo\nOpens a /dev/bpf file (O_RDONLY), sets BPF filter for 'udp' and captures packets for a few seconds.\n\n**Supported Platforms:** linux\n\nElevation Required (e.g. root or admin)\n#### Dependencies:  Run with `sh`!\n##### Description: compile C program\n\n##### Check Prereq Commands:\n```sh\nexit 1\n\n```\n##### Get Prereq Commands:\n```sh\ncc PathToAtomicsFolder/T1040/src/freebsd_pcapdemo.c -o /tmp/t1040_freebsd_pcapdemo\n\n```"
  },
  {
   "cell_type": "code",
   "execution_count": null,
   "id": "9b9683b6",
   "metadata": {},
   "outputs": [],
   "source": "Invoke-AtomicTest T1040 -TestNumbers 11 -GetPreReqs"
  },
  {
   "cell_type": "markdown",
   "id": "521f949a",
   "metadata": {},
   "source": [
    "#### Attack Commands: Run with `sh`\n",
    "```sh\nsudo /tmp/t1040_freebsd_pcapdemo -f -i em0 -t 3\n```"
   ]
  },
  {
   "cell_type": "code",
   "execution_count": null,
   "id": "6be1a8c2",
   "metadata": {},
   "outputs": [],
   "source": "Invoke-AtomicTest T1040 -TestNumbers 11"
  },
  {
   "cell_type": "markdown",
   "id": "c028e540",
   "metadata": {},
   "source": "#### Cleanup: \n```sh\nrm -f /tmp/t1040_freebsd_pcapdemo\n```"
  },
  {
   "cell_type": "code",
   "execution_count": null,
   "id": "3b76d3f6",
   "metadata": {},
   "outputs": [],
   "source": "Invoke-AtomicTest T1040 -TestNumbers 11 -Cleanup"
  },
  {
   "cell_type": "markdown",
   "id": "f603c5b7",
   "metadata": {},
   "source": "### Atomic Test #12 - Packet Capture Linux socket AF_PACKET,SOCK_RAW with sudo\nCaptures packets with domain=AF_PACKET, type=SOCK_RAW for a few seconds.\n\n**Supported Platforms:** linux\n\nElevation Required (e.g. root or admin)\n#### Dependencies:  Run with `bash`!\n##### Description: compile C program\n\n##### Check Prereq Commands:\n```bash\nif [ -f \"/tmp/t1040_linux_pcapdemo\" ]; then exit 0; else exit 1; fi\n\n```\n##### Get Prereq Commands:\n```bash\ncc PathToAtomicsFolder/T1040/src/linux_pcapdemo.c -o /tmp/t1040_linux_pcapdemo\n\n```"
  },
  {
   "cell_type": "code",
   "execution_count": null,
   "id": "473c354a",
   "metadata": {},
   "outputs": [],
   "source": "Invoke-AtomicTest T1040 -TestNumbers 12 -GetPreReqs"
  },
  {
   "cell_type": "markdown",
   "id": "7500265d",
   "metadata": {},
   "source": [
    "#### Attack Commands: Run with `bash`\n",
    "```bash\nsudo /tmp/t1040_linux_pcapdemo -a -t 3\n```"
   ]
  },
  {
   "cell_type": "code",
   "execution_count": null,
   "id": "a675d193",
   "metadata": {},
   "outputs": [],
   "source": "Invoke-AtomicTest T1040 -TestNumbers 12"
  },
  {
   "cell_type": "markdown",
   "id": "6a17c9ce",
   "metadata": {},
   "source": "#### Cleanup: \n```bash\nrm -f /tmp/t1040_linux_pcapdemo\n```"
  },
  {
   "cell_type": "code",
   "execution_count": null,
   "id": "4e42a95c",
   "metadata": {},
   "outputs": [],
   "source": "Invoke-AtomicTest T1040 -TestNumbers 12 -Cleanup"
  },
  {
   "cell_type": "markdown",
   "id": "ce1008f7",
   "metadata": {},
   "source": "### Atomic Test #13 - Packet Capture Linux socket AF_INET,SOCK_RAW,TCP with sudo\nCaptures packets with domain=AF_INET,type=SOCK_RAW,protocol=TCP for a few seconds.\n\n**Supported Platforms:** linux\n\nElevation Required (e.g. root or admin)\n#### Dependencies:  Run with `bash`!\n##### Description: compile C program\n\n##### Check Prereq Commands:\n```bash\nif [ -f \"/tmp/t1040_linux_pcapdemo\" ]; then exit 0; else exit 1; fi\n\n```\n##### Get Prereq Commands:\n```bash\ncc PathToAtomicsFolder/T1040/src/linux_pcapdemo.c -o /tmp/t1040_linux_pcapdemo\n\n```"
  },
  {
   "cell_type": "code",
   "execution_count": null,
   "id": "3da27d90",
   "metadata": {},
   "outputs": [],
   "source": "Invoke-AtomicTest T1040 -TestNumbers 13 -GetPreReqs"
  },
  {
   "cell_type": "markdown",
   "id": "1f2dd2c0",
   "metadata": {},
   "source": [
    "#### Attack Commands: Run with `bash`\n",
    "```bash\nsudo /tmp/t1040_linux_pcapdemo -4 -p 6 -t 3\n```"
   ]
  },
  {
   "cell_type": "code",
   "execution_count": null,
   "id": "be133782",
   "metadata": {},
   "outputs": [],
   "source": "Invoke-AtomicTest T1040 -TestNumbers 13"
  },
  {
   "cell_type": "markdown",
   "id": "0fe9c9cf",
   "metadata": {},
   "source": "#### Cleanup: \n```bash\nrm -f /tmp/t1040_linux_pcapdemo\n```"
  },
  {
   "cell_type": "code",
   "execution_count": null,
   "id": "9595e6ae",
   "metadata": {},
   "outputs": [],
   "source": "Invoke-AtomicTest T1040 -TestNumbers 13 -Cleanup"
  },
  {
   "cell_type": "markdown",
   "id": "c889d592",
   "metadata": {},
   "source": "### Atomic Test #14 - Packet Capture Linux socket AF_INET,SOCK_PACKET,UDP with sudo\nCaptures packets with domain=AF_INET,type=SOCK_PACKET,protocol=UDP for a few seconds.\nSOCK_PACKET is \"obsolete\" according to the man page, but still works on Ubuntu 20.04\n\n**Supported Platforms:** linux\n\nElevation Required (e.g. root or admin)\n#### Dependencies:  Run with `bash`!\n##### Description: compile C program\n\n##### Check Prereq Commands:\n```bash\nif [ -f \"/tmp/t1040_linux_pcapdemo\" ]; then exit 0; else exit 1; fi\n\n```\n##### Get Prereq Commands:\n```bash\ncc PathToAtomicsFolder/T1040/src/linux_pcapdemo.c -o /tmp/t1040_linux_pcapdemo\n\n```"
  },
  {
   "cell_type": "code",
   "execution_count": null,
   "id": "71fa0982",
   "metadata": {},
   "outputs": [],
   "source": "Invoke-AtomicTest T1040 -TestNumbers 14 -GetPreReqs"
  },
  {
   "cell_type": "markdown",
   "id": "9169f234",
   "metadata": {},
   "source": [
    "#### Attack Commands: Run with `bash`\n",
    "```bash\nsudo /tmp/t1040_linux_pcapdemo -4 -P -p 17 -t 3\n```"
   ]
  },
  {
   "cell_type": "code",
   "execution_count": null,
   "id": "0163adb0",
   "metadata": {},
   "outputs": [],
   "source": "Invoke-AtomicTest T1040 -TestNumbers 14"
  },
  {
   "cell_type": "markdown",
   "id": "3e354e63",
   "metadata": {},
   "source": "#### Cleanup: \n```bash\nrm -f /tmp/t1040_linux_pcapdemo\n```"
  },
  {
   "cell_type": "code",
   "execution_count": null,
   "id": "13760729",
   "metadata": {},
   "outputs": [],
   "source": "Invoke-AtomicTest T1040 -TestNumbers 14 -Cleanup"
  },
  {
   "cell_type": "markdown",
   "id": "ad9ed4ae",
   "metadata": {},
   "source": "### Atomic Test #15 - Packet Capture Linux socket AF_PACKET,SOCK_RAW with BPF filter for UDP with sudo\nCaptures packets with domain=AF_PACKET,type=SOCK_RAW for a few seconds.\nSets a BPF filter on the socket to filter for UDP traffic.\n\n**Supported Platforms:** linux\n\nElevation Required (e.g. root or admin)\n#### Dependencies:  Run with `bash`!\n##### Description: compile C program\n\n##### Check Prereq Commands:\n```bash\nif [ -f \"/tmp/t1040_linux_pcapdemo\" ]; then exit 0; else exit 1; fi\n\n```\n##### Get Prereq Commands:\n```bash\ncc PathToAtomicsFolder/T1040/src/linux_pcapdemo.c -o /tmp/t1040_linux_pcapdemo\n\n```"
  },
  {
   "cell_type": "code",
   "execution_count": null,
   "id": "fd83c1a2",
   "metadata": {},
   "outputs": [],
   "source": "Invoke-AtomicTest T1040 -TestNumbers 15 -GetPreReqs"
  },
  {
   "cell_type": "markdown",
   "id": "aaa8d461",
   "metadata": {},
   "source": [
    "#### Attack Commands: Run with `bash`\n",
    "```bash\nsudo /tmp/t1040_linux_pcapdemo -a -f -t 3\n```"
   ]
  },
  {
   "cell_type": "code",
   "execution_count": null,
   "id": "e8fb2ae3",
   "metadata": {},
   "outputs": [],
   "source": "Invoke-AtomicTest T1040 -TestNumbers 15"
  },
  {
   "cell_type": "markdown",
   "id": "d773aac4",
   "metadata": {},
   "source": "#### Cleanup: \n```bash\nrm -f /tmp/t1040_linux_pcapdemo\n```"
  },
  {
   "cell_type": "code",
   "execution_count": null,
   "id": "b4fd3623",
   "metadata": {},
   "outputs": [],
   "source": "Invoke-AtomicTest T1040 -TestNumbers 15 -Cleanup"
  },
  {
   "cell_type": "markdown",
   "id": "dc577da1",
   "metadata": {},
   "source": "## Detection\nDetecting the events leading up to sniffing network traffic may be the best method of detection. From the host level, an adversary would likely need to perform a [Adversary-in-the-Middle](https://attack.mitre.org/techniques/T1557) attack against other devices on a wired network in order to capture traffic that was not to or from the current compromised system. This change in the flow of information is detectable at the enclave network level. Monitor for ARP spoofing and gratuitous ARP broadcasts. Detecting compromised network devices is a bit more challenging. Auditing administrator logins, configuration changes, and device images is required to detect malicious changes.\n\nIn cloud-based environments, monitor for the creation of new traffic mirrors or modification of existing traffic mirrors. For network infrastructure devices, collect AAA logging to monitor for the capture of network traffic."
  },
  {
   "cell_type": "markdown",
   "id": "a983287c",
   "metadata": {},
   "source": "\n## Shield Active Defense\n### Software Manipulation \n Make changes to a system's software properties and functions to achieve a desired effect. \n\n Software Manipulation allows a defender to alter or replace elements of the operating system, file system, or any other software installed and executed on a system.\n#### Opportunity\nThere is an opportunity for the defender to observe the adversary and control what they can see, what effects they can have, and/or what data they can access.\n#### Use Case\nBy changing the output of network sniffing utilities normally found on a system, you can prevent adversaries from seeing particular content or making use of the results at all.\n#### Procedures\nHook the Win32 Sleep() function so that it always performs a Sleep(1) instead of the intended duration. This can increase the speed at which dynamic analysis can be performed when a normal malicious file sleeps for long periods before attempting additional capabilities.\nHook the Win32 NetUserChangePassword() and modify it such that the new password is different from the one provided. The data passed into the function is encrypted along with the modified new password, then logged so a defender can get alerted about the change as well as decrypt the new password for use.\nAlter the output of an adversary's profiling commands to make newly-built systems look like the operating system was installed months earlier.\nAlter the output of adversary recon commands to not show important assets, such as a file server containing sensitive data.\n"
  }
 ],
 "metadata": {
  "kernelspec": {
   "display_name": ".NET (PowerShell)",
   "language": "pwsh",
   "name": ".net-powershell"
  },
  "language_info": {
   "file_extension": ".ps1",
   "mimetype": "text/x-powershell",
   "name": "pwsh",
   "pygments_lexer": "powershell",
   "version": "7.0"
  }
 },
 "nbformat": 4,
 "nbformat_minor": 5
}