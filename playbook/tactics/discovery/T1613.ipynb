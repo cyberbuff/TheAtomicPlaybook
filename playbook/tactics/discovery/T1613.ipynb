{
 "cells": [
  {
   "cell_type": "markdown",
   "id": "d88a4f43",
   "metadata": {},
   "source": "# T1613 - Container and Resource Discovery\nAdversaries may attempt to discover containers and other resources that are available within a containers environment. Other resources may include images, deployments, pods, nodes, and other information such as the status of a cluster.\n\nThese resources can be viewed within web applications such as the Kubernetes dashboard or can be queried via the Docker and Kubernetes APIs.(Citation: Docker API)(Citation: Kubernetes API) In Docker, logs may leak information about the environment, such as the environment\u2019s configuration, which services are available, and what cloud provider the victim may be utilizing. The discovery of these resources may inform an adversary\u2019s next steps in the environment, such as how to perform lateral movement and which methods to utilize for execution. "
  },
  {
   "cell_type": "markdown",
   "id": "9c8f4e6d",
   "metadata": {},
   "source": "## Atomic Tests"
  },
  {
   "cell_type": "markdown",
   "id": "c9500856",
   "metadata": {},
   "source": "### Atomic Test #1 - Container and ResourceDiscovery\nAdversaries may attempt to discover containers and other resources that are available within a containers environment.\n**Supported Platforms:** containers\n#### Dependencies:  Run with `sh`!\n##### Description: Verify docker is installed.\n##### Check Prereq Commands:\n```sh\nwhich docker\n\n```\n##### Get Prereq Commands:\n```sh\nif [ \"\" == \"`which docker`\" ]; then echo \"Docker Not Found\"; if [ -n \"`which apt-get`\" ]; then sudo apt-get -y install docker ; elif [ -n \"`which yum`\" ]; then sudo yum -y install docker ; fi ; else echo \"Docker installed\"; fi\n\n```\n##### Description: Verify docker service is running.\n##### Check Prereq Commands:\n```sh\nsudo systemctl status docker  --no-pager\n\n```\n##### Get Prereq Commands:\n```sh\nsudo systemctl start docker\n\n```"
  },
  {
   "cell_type": "code",
   "execution_count": null,
   "id": "8e95c199",
   "metadata": {},
   "outputs": [],
   "source": "Invoke-AtomicTest T1613 -TestNumbers 1 -GetPreReqs"
  },
  {
   "cell_type": "markdown",
   "id": "4c9899b0",
   "metadata": {},
   "source": [
    "#### Attack Commands: Run with `sh`\n",
    "```sh\ndocker build -t t1613  $PathtoAtomicsFolder/T1613/src/\ndocker run --name t1613_container  -d -t t1613\ndocker ps\ndocker stats --no-stream\ndocker inspect $(docker ps -l -q --filter ancestor=t1613)```"
   ]
  },
  {
   "cell_type": "code",
   "execution_count": null,
   "id": "399cee5c",
   "metadata": {},
   "outputs": [],
   "source": "Invoke-AtomicTest T1613 -TestNumbers 1"
  },
  {
   "cell_type": "markdown",
   "id": "57910d0e",
   "metadata": {},
   "source": "#### Cleanup: \n```sh\ndocker stop t1613_container\ndocker rmi -f t1613_container```"
  },
  {
   "cell_type": "code",
   "execution_count": null,
   "id": "7ddf41b0",
   "metadata": {},
   "outputs": [],
   "source": "Invoke-AtomicTest T1613 -TestNumbers 1 -Cleanup"
  },
  {
   "cell_type": "markdown",
   "id": "5b3610fb",
   "metadata": {},
   "source": "## Detection\nEstablish centralized logging for the activity of container and Kubernetes cluster components. This can be done by deploying logging agents on Kubernetes nodes and retrieving logs from sidecar proxies for application pods to detect malicious activity at the cluster level.\n\nMonitor logs for actions that could be taken to gather information about container infrastructure, including the use of discovery API calls by new or unexpected users. Monitor account activity logs to see actions performed and activity associated with the Kubernetes dashboard and other web applications. "
  }
 ],
 "metadata": {
  "kernelspec": {
   "display_name": ".NET (PowerShell)",
   "language": "pwsh",
   "name": ".net-powershell"
  },
  "language_info": {
   "file_extension": ".ps1",
   "mimetype": "text/x-powershell",
   "name": "pwsh",
   "pygments_lexer": "powershell",
   "version": "7.0"
  }
 },
 "nbformat": 4,
 "nbformat_minor": 5
}