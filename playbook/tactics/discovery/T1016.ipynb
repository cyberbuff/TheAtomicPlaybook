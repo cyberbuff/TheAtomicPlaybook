{
 "cells": [
  {
   "cell_type": "markdown",
   "id": "c2d4f054",
   "metadata": {},
   "source": "# T1016 - System Network Configuration Discovery\nAdversaries may look for details about the network configuration and settings, such as IP and/or MAC addresses, of systems they access or through information discovery of remote systems. Several operating system administration utilities exist that can be used to gather this information. Examples include [Arp](https://attack.mitre.org/software/S0099), [ipconfig](https://attack.mitre.org/software/S0100)/[ifconfig](https://attack.mitre.org/software/S0101), [nbtstat](https://attack.mitre.org/software/S0102), and [route](https://attack.mitre.org/software/S0103).\n\nAdversaries may also leverage a [Network Device CLI](https://attack.mitre.org/techniques/T1059/008) on network devices to gather information about configurations and settings, such as IP addresses of configured interfaces and static/dynamic routes (e.g. <code>show ip route</code>, <code>show ip interface</code>).(Citation: US-CERT-TA18-106A)(Citation: Mandiant APT41 Global Intrusion )\n\nAdversaries may use the information from [System Network Configuration Discovery](https://attack.mitre.org/techniques/T1016) during automated discovery to shape follow-on behaviors, including determining certain access within the target network and what actions to do next. "
  },
  {
   "cell_type": "markdown",
   "id": "807388bf",
   "metadata": {},
   "source": "## Atomic Tests"
  },
  {
   "cell_type": "markdown",
   "id": "f7b6fdca",
   "metadata": {},
   "source": [
    "### Atomic Test #1 - System Network Configuration Discovery on Windows",
    "Identify network configuration information\n\nUpon successful execution, cmd.exe will spawn multiple commands to list network configuration settings. Output will be via stdout.\n",
    "**Supported Platforms:** windows",
    "#### Attack Commands: Run with `command_prompt`\n",
    "```command_prompt\nipconfig /all\nnetsh interface show interface\narp -a\nnbtstat -n\nnet config\n```"
   ]
  },
  {
   "cell_type": "code",
   "execution_count": null,
   "id": "ffe88107",
   "metadata": {},
   "outputs": [],
   "source": "Invoke-AtomicTest T1016 -TestNumbers 1"
  },
  {
   "cell_type": "markdown",
   "id": "0cc4c090",
   "metadata": {},
   "source": [
    "### Atomic Test #2 - List Windows Firewall Rules",
    "Enumerates Windows Firewall Rules using netsh.\n\nUpon successful execution, cmd.exe will spawn netsh.exe to list firewall rules. Output will be via stdout.\n",
    "**Supported Platforms:** windows",
    "#### Attack Commands: Run with `command_prompt`\n",
    "```command_prompt\nnetsh advfirewall firewall show rule name=all\n```"
   ]
  },
  {
   "cell_type": "code",
   "execution_count": null,
   "id": "e6ff0070",
   "metadata": {},
   "outputs": [],
   "source": "Invoke-AtomicTest T1016 -TestNumbers 2"
  },
  {
   "cell_type": "markdown",
   "id": "0eddf942",
   "metadata": {},
   "source": "### Atomic Test #3 - System Network Configuration Discovery\nIdentify network configuration information.\n\nUpon successful execution, sh will spawn multiple commands and output will be via stdout.\n\n**Supported Platforms:** macos, linux\n#### Dependencies:  Run with `sh`!\n##### Description: Check if arp command exists on the machine\n\n##### Check Prereq Commands:\n```sh\nif [ -x \"$(command -v arp)\" ]; then exit 0; else exit 1; fi;\n\n```\n##### Get Prereq Commands:\n```sh\n(which yum && yum -y install net-tools)||(which apt-get && DEBIAN_FRONTEND=noninteractive apt-get install -y net-tools)\n\n```"
  },
  {
   "cell_type": "code",
   "execution_count": null,
   "id": "428908b7",
   "metadata": {},
   "outputs": [],
   "source": "Invoke-AtomicTest T1016 -TestNumbers 3 -GetPreReqs"
  },
  {
   "cell_type": "markdown",
   "id": "fd850fdb",
   "metadata": {},
   "source": [
    "#### Attack Commands: Run with `sh`\n",
    "```sh\nif [ -x \"$(command -v arp)\" ]; then arp -a; else echo \"arp is missing from the machine. skipping...\"; fi;\nif [ -x \"$(command -v ifconfig)\" ]; then ifconfig; else echo \"ifconfig is missing from the machine. skipping...\"; fi;\nif [ -x \"$(command -v ip)\" ]; then ip addr; else echo \"ip is missing from the machine. skipping...\"; fi;\nif [ -x \"$(command -v netstat)\" ]; then netstat -ant | awk '{print $NF}' | grep -v '[a-z]' | sort | uniq -c; else echo \"netstat is missing from the machine. skipping...\"; fi;\n```"
   ]
  },
  {
   "cell_type": "code",
   "execution_count": null,
   "id": "735da70b",
   "metadata": {},
   "outputs": [],
   "source": "Invoke-AtomicTest T1016 -TestNumbers 3"
  },
  {
   "cell_type": "markdown",
   "id": "626fcb04",
   "metadata": {},
   "source": [
    "### Atomic Test #4 - System Network Configuration Discovery (TrickBot Style)",
    "Identify network configuration information as seen by Trickbot and described here https://www.sneakymonkey.net/2019/10/29/trickbot-analysis-part-ii/\n\nUpon successful execution, cmd.exe will spawn `ipconfig /all`, `net config workstation`, `net view /all /domain`, `nltest /domain_trusts`. Output will be via stdout.\n",
    "**Supported Platforms:** windows",
    "#### Attack Commands: Run with `command_prompt`\n",
    "```command_prompt\nipconfig /all\nnet config workstation\nnet view /all /domain\nnltest /domain_trusts\n```"
   ]
  },
  {
   "cell_type": "code",
   "execution_count": null,
   "id": "0fe950b0",
   "metadata": {},
   "outputs": [],
   "source": "Invoke-AtomicTest T1016 -TestNumbers 4"
  },
  {
   "cell_type": "markdown",
   "id": "4f886e2b",
   "metadata": {},
   "source": "### Atomic Test #5 - List Open Egress Ports\nThis is to test for what ports are open outbound.  The technique used was taken from the following blog:\nhttps://www.blackhillsinfosec.com/poking-holes-in-the-firewall-egress-testing-with-allports-exposed/\n\nUpon successful execution, powershell will read top-128.txt (ports) and contact each port to confirm if open or not. Output will be to Desktop\\open-ports.txt.\n\n**Supported Platforms:** windows\n#### Dependencies:  Run with `powershell`!\n##### Description: Test requires #{port_file} to exist\n\n##### Check Prereq Commands:\n```powershell\nif (Test-Path \"PathToAtomicsFolder\\T1016\\src\\top-128.txt\") {exit 0} else {exit 1}\n\n```\n##### Get Prereq Commands:\n```powershell\nNew-Item -Type Directory (split-path PathToAtomicsFolder\\T1016\\src\\top-128.txt) -ErrorAction ignore | Out-Null\nInvoke-WebRequest \"https://github.com/redcanaryco/atomic-red-team/raw/master/atomics/T1016/src/top-128.txt\" -OutFile \"PathToAtomicsFolder\\T1016\\src\\top-128.txt\"\n\n```"
  },
  {
   "cell_type": "code",
   "execution_count": null,
   "id": "35f1f231",
   "metadata": {},
   "outputs": [],
   "source": "Invoke-AtomicTest T1016 -TestNumbers 5 -GetPreReqs"
  },
  {
   "cell_type": "markdown",
   "id": "fdca5b93",
   "metadata": {},
   "source": [
    "#### Attack Commands: Run with `powershell`\n",
    "```powershell\n$ports = Get-content PathToAtomicsFolder\\T1016\\src\\top-128.txt\n$file = \"$env:USERPROFILE\\Desktop\\open-ports.txt\"\n$totalopen = 0\n$totalports = 0\nNew-Item $file -Force\nforeach ($port in $ports) {\n    $test = new-object system.Net.Sockets.TcpClient\n    $wait = $test.beginConnect(\"allports.exposed\", $port, $null, $null)\n    $wait.asyncwaithandle.waitone(250, $false) | Out-Null\n    $totalports++ | Out-Null\n    if ($test.Connected) {\n        $result = \"$port open\" \n        Write-Host -ForegroundColor Green $result\n        $result | Out-File -Encoding ASCII -append $file\n        $totalopen++ | Out-Null\n    }\n    else {\n        $result = \"$port closed\" \n        Write-Host -ForegroundColor Red $result\n        $totalclosed++ | Out-Null\n        $result | Out-File -Encoding ASCII -append $file\n    }\n}\n$results = \"There were a total of $totalopen open ports out of $totalports ports tested.\"\n$results | Out-File -Encoding ASCII -append $file\nWrite-Host $results\n```"
   ]
  },
  {
   "cell_type": "code",
   "execution_count": null,
   "id": "b8425584",
   "metadata": {},
   "outputs": [],
   "source": "Invoke-AtomicTest T1016 -TestNumbers 5"
  },
  {
   "cell_type": "markdown",
   "id": "9c916021",
   "metadata": {},
   "source": "#### Cleanup: \n```powershell\nRemove-Item -ErrorAction ignore \"$env:USERPROFILE\\Desktop\\open-ports.txt\"\n```"
  },
  {
   "cell_type": "code",
   "execution_count": null,
   "id": "92c00bfb",
   "metadata": {},
   "outputs": [],
   "source": "Invoke-AtomicTest T1016 -TestNumbers 5 -Cleanup"
  },
  {
   "cell_type": "markdown",
   "id": "2bada745",
   "metadata": {},
   "source": "### Atomic Test #6 - Adfind - Enumerate Active Directory Subnet Objects\nAdfind tool can be used for reconnaissance in an Active directory environment. This example has been documented by ransomware actors enumerating Active Directory Subnet Objects\nreference- http://www.joeware.net/freetools/tools/adfind/, https://www.fireeye.com/blog/threat-research/2019/04/pick-six-intercepting-a-fin6-intrusion.html\n\n**Supported Platforms:** windows\n#### Dependencies:  Run with `powershell`!\n##### Description: AdFind.exe must exist on disk at specified location (#{adfind_path})\n\n##### Check Prereq Commands:\n```cmd\nif (Test-Path PathToAtomicsFolder\\T1087.002\\src\\AdFind.exe) {exit 0} else {exit 1}\n\n```\n##### Get Prereq Commands:\n```cmd\nInvoke-WebRequest -Uri \"https://github.com/redcanaryco/atomic-red-team/raw/master/atomics/T1087.002/src/AdFind.exe\" -OutFile PathToAtomicsFolder\\T1087.002\\src\\AdFind.exe\n\n```"
  },
  {
   "cell_type": "code",
   "execution_count": null,
   "id": "68a58f75",
   "metadata": {},
   "outputs": [],
   "source": "Invoke-AtomicTest T1016 -TestNumbers 6 -GetPreReqs"
  },
  {
   "cell_type": "markdown",
   "id": "8ea4735a",
   "metadata": {},
   "source": [
    "#### Attack Commands: Run with `command_prompt`\n",
    "```command_prompt\nPathToAtomicsFolder\\T1087.002\\src\\AdFind.exe -f (objectcategory=subnet)\n```"
   ]
  },
  {
   "cell_type": "code",
   "execution_count": null,
   "id": "e3bcaa3b",
   "metadata": {},
   "outputs": [],
   "source": "Invoke-AtomicTest T1016 -TestNumbers 6"
  },
  {
   "cell_type": "markdown",
   "id": "dffba12e",
   "metadata": {},
   "source": "### Atomic Test #7 - Qakbot Recon\nA list of commands known to be performed by Qakbot for recon purposes\n**Supported Platforms:** windows\n#### Dependencies:  Run with `powershell`!\n##### Description: File to copy must exist on disk at specified location (#{recon_commands})\n\n##### Check Prereq Commands:\n```cmd\nif (Test-Path PathToAtomicsFolder\\T1016\\src\\qakbot.bat) {exit 0} else {exit 1}\n\n```\n##### Get Prereq Commands:\n```cmd\nNew-Item -Type Directory (split-path PathToAtomicsFolder\\T1016\\src\\qakbot.bat) -ErrorAction ignore | Out-Null\nInvoke-WebRequest \"https://github.com/redcanaryco/atomic-red-team/raw/master/atomics/T1016/src/qakbot.bat\" -OutFile \"PathToAtomicsFolder\\T1016\\src\\qakbot.bat\"\n\n```"
  },
  {
   "cell_type": "code",
   "execution_count": null,
   "id": "6969a973",
   "metadata": {},
   "outputs": [],
   "source": "Invoke-AtomicTest T1016 -TestNumbers 7 -GetPreReqs"
  },
  {
   "cell_type": "markdown",
   "id": "197326a5",
   "metadata": {},
   "source": [
    "#### Attack Commands: Run with `command_prompt`\n",
    "```command_prompt\nPathToAtomicsFolder\\T1016\\src\\qakbot.bat\n```"
   ]
  },
  {
   "cell_type": "code",
   "execution_count": null,
   "id": "3de7feb6",
   "metadata": {},
   "outputs": [],
   "source": "Invoke-AtomicTest T1016 -TestNumbers 7"
  },
  {
   "cell_type": "markdown",
   "id": "6f57227e",
   "metadata": {},
   "source": [
    "### Atomic Test #8 - List macOS Firewall Rules",
    "\"This will test if the macOS firewall is enabled and/or show what rules are configured. Must be run with elevated privileges. Upon successful execution, these commands will output various information about the firewall configuration, including status and specific port/protocol blocks or allows. \n\nUsing `defaults`, additional arguments can be added to see filtered details, such as `globalstate` for global configuration (\\\"Is it on or off?\\\"), `firewall` for common application allow rules, and `explicitauths` for specific rules configured by the user. \n\nUsing `socketfilterfw`, flags such as --getglobalstate or --listapps can be used for similar filtering. At least one flag is required to send parseable output to standard out. \n",
    "**Supported Platforms:** macos",
    "\nElevation Required (e.g. root or admin)",
    "#### Attack Commands: Run with `bash`\n",
    "```bash\nsudo defaults read /Library/Preferences/com.apple.alf\nsudo /usr/libexec/ApplicationFirewall/socketfilterfw --getglobalstate\n```"
   ]
  },
  {
   "cell_type": "code",
   "execution_count": null,
   "id": "db1fd084",
   "metadata": {},
   "outputs": [],
   "source": "Invoke-AtomicTest T1016 -TestNumbers 8"
  },
  {
   "cell_type": "markdown",
   "id": "0966b735",
   "metadata": {},
   "source": [
    "### Atomic Test #9 - DNS Server Discovery Using nslookup",
    "Identify System domain dns controller on an endpoint using nslookup ldap query. This tool is being abused by qakbot malware to gather information on the domain\ncontroller of the targeted or compromised host. reference https://securelist.com/qakbot-technical-analysis/103931/\n",
    "**Supported Platforms:** windows",
    "#### Attack Commands: Run with `command_prompt`\n",
    "```command_prompt\nnslookup -querytype=ALL -timeout=12 _ldap._tcp.dc._msdcs.$env:USERDNSDOMAIN\n```"
   ]
  },
  {
   "cell_type": "code",
   "execution_count": null,
   "id": "27d3a4c6",
   "metadata": {},
   "outputs": [],
   "source": "Invoke-AtomicTest T1016 -TestNumbers 9"
  },
  {
   "cell_type": "markdown",
   "id": "ebbc4749",
   "metadata": {},
   "source": "## Detection\nSystem and network discovery techniques normally occur throughout an operation as an adversary learns the environment. Data and events should not be viewed in isolation, but as part of a chain of behavior that could lead to other activities, such as Lateral Movement, based on the information obtained.\n\nMonitor processes and command-line arguments for actions that could be taken to gather system and network information. Remote access tools with built-in features may interact directly with the Windows API to gather information. Further, {{LinkById|T1059.008} commands may also be used to gather system and network information with built-in features native to the network device platform.  Monitor CLI activity for unexpected or unauthorized use  commands being run by non-standard users from non-standard locations.  Information may also be acquired through Windows system management tools such as [Windows Management Instrumentation](https://attack.mitre.org/techniques/T1047) and [PowerShell](https://attack.mitre.org/techniques/T1059/001)."
  },
  {
   "cell_type": "markdown",
   "id": "2b5ae653",
   "metadata": {},
   "source": "\n## Shield Active Defense\n### Decoy Content  \n Seed content that can be used to lead an adversary in a specific direction, entice a behavior, etc. \n\n Decoy Content is the data used to tell a story to an adversary. This content can be legitimate or synthetic data which is used to reinforce or validate your defensive strategy. Examples of decoy content are files on a storage object, entries in the system registry, system shortcuts, etc.\n#### Opportunity\nThere is an opportunity to influence an adversary to move toward systems you want them to engage with.\n#### Use Case\nA defender can create breadcrumbs or honeytokens to lure the attackers toward the decoy systems or network services.\n#### Procedures\nCreate directories and files with names and contents using key words that may be relevant to an adversary to see if they examine or exfiltrate the data.\nSeed a file system with content that is of no value to the company but reinforces the legitimacy of the system if viewed by an adversary.\n"
  }
 ],
 "metadata": {
  "kernelspec": {
   "display_name": ".NET (PowerShell)",
   "language": "PowerShell",
   "name": ".net-powershell"
  },
  "language_info": {
   "file_extension": ".ps1",
   "mimetype": "text/x-powershell",
   "name": "PowerShell",
   "pygments_lexer": "powershell",
   "version": "7.0"
  }
 },
 "nbformat": 4,
 "nbformat_minor": 5
}