{
 "cells": [
  {
   "cell_type": "markdown",
   "id": "b55aa9ac",
   "metadata": {},
   "source": "# T1021.002 - SMB/Windows Admin Shares\nAdversaries may use [Valid Accounts](https://attack.mitre.org/techniques/T1078) to interact with a remote network share using Server Message Block (SMB). The adversary may then perform actions as the logged-on user.\n\nSMB is a file, printer, and serial port sharing protocol for Windows machines on the same network or domain. Adversaries may use SMB to interact with file shares, allowing them to move laterally throughout a network. Linux and macOS implementations of SMB typically use Samba.\n\nWindows systems have hidden network shares that are accessible only to administrators and provide the ability for remote file copy and other administrative functions. Example network shares include `C$`, `ADMIN$`, and `IPC$`. Adversaries may use this technique in conjunction with administrator-level [Valid Accounts](https://attack.mitre.org/techniques/T1078) to remotely access a networked system over SMB,(Citation: Wikipedia Server Message Block) to interact with systems using remote procedure calls (RPCs),(Citation: TechNet RPC) transfer files, and run transferred binaries through remote Execution. Example execution techniques that rely on authenticated sessions over SMB/RPC are [Scheduled Task/Job](https://attack.mitre.org/techniques/T1053), [Service Execution](https://attack.mitre.org/techniques/T1569/002), and [Windows Management Instrumentation](https://attack.mitre.org/techniques/T1047). Adversaries can also use NTLM hashes to access administrator shares on systems with [Pass the Hash](https://attack.mitre.org/techniques/T1550/002) and certain configuration and patch levels.(Citation: Microsoft Admin Shares)"
  },
  {
   "cell_type": "markdown",
   "id": "f6e29db7",
   "metadata": {},
   "source": "## Atomic Tests"
  },
  {
   "cell_type": "markdown",
   "id": "f3644d8b",
   "metadata": {},
   "source": [
    "### Atomic Test #1 - Map admin share",
    "Connecting To Remote Shares\n",
    "**Supported Platforms:** windows",
    "#### Attack Commands: Run with `command_prompt`\n",
    "```command_prompt\ncmd.exe /c \"net use \\\\Target\\C$ P@ssw0rd1 /u:DOMAIN\\Administrator\"\n```"
   ]
  },
  {
   "cell_type": "code",
   "execution_count": null,
   "id": "b1282181",
   "metadata": {},
   "outputs": [],
   "source": "Invoke-AtomicTest T1021.002 -TestNumbers 1"
  },
  {
   "cell_type": "markdown",
   "id": "cc058ca7",
   "metadata": {},
   "source": [
    "### Atomic Test #2 - Map Admin Share PowerShell",
    "Map Admin share utilizing PowerShell\n",
    "**Supported Platforms:** windows",
    "#### Attack Commands: Run with `powershell`\n",
    "```powershell\nNew-PSDrive -name g -psprovider filesystem -root \\\\Target\\C$\n```"
   ]
  },
  {
   "cell_type": "code",
   "execution_count": null,
   "id": "cfc391bb",
   "metadata": {},
   "outputs": [],
   "source": "Invoke-AtomicTest T1021.002 -TestNumbers 2"
  },
  {
   "cell_type": "markdown",
   "id": "d54c365e",
   "metadata": {},
   "source": "### Atomic Test #3 - Copy and Execute File with PsExec\nCopies a file to a remote host and executes it using PsExec. Requires the download of PsExec from [https://docs.microsoft.com/en-us/sysinternals/downloads/psexec](https://docs.microsoft.com/en-us/sysinternals/downloads/psexec).\n\n**Supported Platforms:** windows\n\nElevation Required (e.g. root or admin)\n#### Dependencies:  Run with `powershell`!\n##### Description: PsExec tool from Sysinternals must exist on disk at specified location (#{psexec_exe})\n\n##### Check Prereq Commands:\n```cmd\nif (Test-Path \"PathToAtomicsFolder\\..\\ExternalPayloads\\PsExec.exe\") { exit 0} else { exit 1}\n\n```\n##### Get Prereq Commands:\n```cmd\nNew-Item -Type Directory \"PathToAtomicsFolder\\..\\ExternalPayloads\\\" -ErrorAction Ignore -Force | Out-Null\nInvoke-WebRequest \"https://download.sysinternals.com/files/PSTools.zip\" -OutFile \"PathToAtomicsFolder\\..\\ExternalPayloads\\PsTools.zip\"\nExpand-Archive \"PathToAtomicsFolder\\..\\ExternalPayloads\\PsTools.zip\" \"PathToAtomicsFolder\\..\\ExternalPayloads\\PsTools\" -Force\nNew-Item -ItemType Directory (Split-Path \"PathToAtomicsFolder\\..\\ExternalPayloads\\PsExec.exe\") -Force | Out-Null\nCopy-Item \"PathToAtomicsFolder\\..\\ExternalPayloads\\PsTools\\PsExec.exe\" \"PathToAtomicsFolder\\..\\ExternalPayloads\\PsExec.exe\" -Force\n\n```"
  },
  {
   "cell_type": "code",
   "execution_count": null,
   "id": "eddaad7f",
   "metadata": {},
   "outputs": [],
   "source": "Invoke-AtomicTest T1021.002 -TestNumbers 3 -GetPreReqs"
  },
  {
   "cell_type": "markdown",
   "id": "ecd0a891",
   "metadata": {},
   "source": [
    "#### Attack Commands: Run with `command_prompt`\n",
    "```command_prompt\n\"PathToAtomicsFolder\\..\\ExternalPayloads\\PsExec.exe\" \\\\localhost -accepteula -c C:\\Windows\\System32\\cmd.exe\n```"
   ]
  },
  {
   "cell_type": "code",
   "execution_count": null,
   "id": "7de7faeb",
   "metadata": {},
   "outputs": [],
   "source": "Invoke-AtomicTest T1021.002 -TestNumbers 3"
  },
  {
   "cell_type": "markdown",
   "id": "d7431a2e",
   "metadata": {},
   "source": [
    "### Atomic Test #4 - Execute command writing output to local Admin Share",
    "Executes a command, writing the output to a local Admin Share.\nThis technique is used by post-exploitation frameworks.\n",
    "**Supported Platforms:** windows",
    "\nElevation Required (e.g. root or admin)",
    "#### Attack Commands: Run with `command_prompt`\n",
    "```command_prompt\ncmd.exe /Q /c hostname 1> \\\\127.0.0.1\\ADMIN$\\output.txt 2>&1\n```"
   ]
  },
  {
   "cell_type": "code",
   "execution_count": null,
   "id": "f63adc5c",
   "metadata": {},
   "outputs": [],
   "source": "Invoke-AtomicTest T1021.002 -TestNumbers 4"
  },
  {
   "cell_type": "markdown",
   "id": "e290f652",
   "metadata": {},
   "source": "## Detection\nEnsure that proper logging of accounts used to log into systems is turned on and centrally collected. Windows logging is able to collect success/failure for accounts that may be used to move laterally and can be collected using tools such as Windows Event Forwarding. (Citation: Lateral Movement Payne)(Citation: Windows Event Forwarding Payne) Monitor remote login events and associated SMB activity for file transfers and remote process execution. Monitor the actions of remote users who connect to administrative shares. Monitor for use of tools and commands to connect to remote shares, such as [Net](https://attack.mitre.org/software/S0039), on the command-line interface and Discovery techniques that could be used to find remotely accessible systems.(Citation: Medium Detecting WMI Persistence)"
  }
 ],
 "metadata": {
  "kernelspec": {
   "display_name": ".NET (PowerShell)",
   "language": "pwsh",
   "name": ".net-powershell"
  },
  "language_info": {
   "file_extension": ".ps1",
   "mimetype": "text/x-powershell",
   "name": "pwsh",
   "pygments_lexer": "powershell",
   "version": "7.0"
  }
 },
 "nbformat": 4,
 "nbformat_minor": 5
}