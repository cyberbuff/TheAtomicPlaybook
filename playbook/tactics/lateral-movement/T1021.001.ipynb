{
 "cells": [
  {
   "cell_type": "markdown",
   "id": "c44ef6de",
   "metadata": {},
   "source": "# T1021.001 - Remote Desktop Protocol\nAdversaries may use [Valid Accounts](https://attack.mitre.org/techniques/T1078) to log into a computer using the Remote Desktop Protocol (RDP). The adversary may then perform actions as the logged-on user.\n\nRemote desktop is a common feature in operating systems. It allows a user to log into an interactive session with a system desktop graphical user interface on a remote system. Microsoft refers to its implementation of the Remote Desktop Protocol (RDP) as Remote Desktop Services (RDS).(Citation: TechNet Remote Desktop Services) \n\nAdversaries may connect to a remote system over RDP/RDS to expand access if the service is enabled and allows access to accounts with known credentials. Adversaries will likely use Credential Access techniques to acquire credentials to use with RDP. Adversaries may also use RDP in conjunction with the [Accessibility Features](https://attack.mitre.org/techniques/T1546/008) or [Terminal Services DLL](https://attack.mitre.org/techniques/T1505/005) for Persistence.(Citation: Alperovitch Malware)"
  },
  {
   "cell_type": "markdown",
   "id": "b112a6be",
   "metadata": {},
   "source": "## Atomic Tests"
  },
  {
   "cell_type": "markdown",
   "id": "26bc6f3e",
   "metadata": {},
   "source": "### Atomic Test #1 - RDP to DomainController\nAttempt an RDP session via Remote Desktop Application to a DomainController.\n\n**Supported Platforms:** windows\n#### Dependencies:  Run with `powershell`!\n##### Description: Computer must be domain joined\n\n##### Check Prereq Commands:\n```powershell\nif((Get-CIMInstance -Class Win32_ComputerSystem).PartOfDomain) { exit 0} else { exit 1}\n\n```\n##### Get Prereq Commands:\n```powershell\nWrite-Host Joining this computer to a domain must be done manually\n\n```"
  },
  {
   "cell_type": "code",
   "execution_count": null,
   "id": "ebb9ebc8",
   "metadata": {},
   "outputs": [],
   "source": "Invoke-AtomicTest T1021.001 -TestNumbers 1 -GetPreReqs"
  },
  {
   "cell_type": "markdown",
   "id": "bd5ab45b",
   "metadata": {},
   "source": [
    "#### Attack Commands: Run with `powershell`\n",
    "```powershell\n$Server=$ENV:logonserver.TrimStart(\"\\\")\n$User = Join-Path $Env:USERDOMAIN $ENV:USERNAME\n$Password=\"1password2!\"\ncmdkey /generic:TERMSRV/$Server /user:$User /pass:$Password\nmstsc /v:$Server\necho \"RDP connection established\"\n```"
   ]
  },
  {
   "cell_type": "code",
   "execution_count": null,
   "id": "3120f1a2",
   "metadata": {},
   "outputs": [],
   "source": "Invoke-AtomicTest T1021.001 -TestNumbers 1"
  },
  {
   "cell_type": "markdown",
   "id": "cc43d73f",
   "metadata": {},
   "source": "#### Cleanup: \n```powershell\n$p=Tasklist /svc /fi \"IMAGENAME eq mstsc.exe\" /fo csv | convertfrom-csv\nif(-not ([string]::IsNullOrEmpty($p.PID))) { Stop-Process -Id $p.PID }\n```"
  },
  {
   "cell_type": "code",
   "execution_count": null,
   "id": "8ab9a8e5",
   "metadata": {},
   "outputs": [],
   "source": "Invoke-AtomicTest T1021.001 -TestNumbers 1 -Cleanup"
  },
  {
   "cell_type": "markdown",
   "id": "fea14c76",
   "metadata": {},
   "source": [
    "### Atomic Test #2 - Changing RDP Port to Non Standard Port via Powershell",
    "Changing RDP Port to Non Standard Port via Powershell\n",
    "**Supported Platforms:** windows",
    "\nElevation Required (e.g. root or admin)",
    "#### Attack Commands: Run with `powershell`\n",
    "```powershell\nSet-ItemProperty -Path 'HKLM:\\SYSTEM\\CurrentControlSet\\Control\\Terminal Server\\WinStations\\RDP-Tcp' -name \"PortNumber\" -Value 4489\nNew-NetFirewallRule -DisplayName 'RDPPORTLatest-TCP-In' -Profile 'Public' -Direction Inbound -Action Allow -Protocol TCP -LocalPort 4489\n```"
   ]
  },
  {
   "cell_type": "code",
   "execution_count": null,
   "id": "708e08af",
   "metadata": {},
   "outputs": [],
   "source": "Invoke-AtomicTest T1021.001 -TestNumbers 2"
  },
  {
   "cell_type": "markdown",
   "id": "2893e222",
   "metadata": {},
   "source": "#### Cleanup: \n```powershell\nSet-ItemProperty -Path 'HKLM:\\SYSTEM\\CurrentControlSet\\Control\\Terminal Server\\WinStations\\RDP-Tcp' -name \"PortNumber\" -Value 3389\nRemove-NetFirewallRule -DisplayName \"RDPPORTLatest-TCP-In\" -ErrorAction ignore \n```"
  },
  {
   "cell_type": "code",
   "execution_count": null,
   "id": "8cafedb8",
   "metadata": {},
   "outputs": [],
   "source": "Invoke-AtomicTest T1021.001 -TestNumbers 2 -Cleanup"
  },
  {
   "cell_type": "markdown",
   "id": "8e2309cc",
   "metadata": {},
   "source": [
    "### Atomic Test #3 - Changing RDP Port to Non Standard Port via Command_Prompt",
    "Changing RDP Port to Non Standard Port via Command_Prompt\n",
    "**Supported Platforms:** windows",
    "\nElevation Required (e.g. root or admin)",
    "#### Attack Commands: Run with `command_prompt`\n",
    "```command_prompt\nreg add \"HKLM\\System\\CurrentControlSet\\Control\\Terminal Server\\WinStations\\RDP-Tcp\" /v PortNumber /t REG_DWORD /d 4489 -f\nnetsh advfirewall firewall add rule name=\"RDPPORTLatest-TCP-In\" dir=in action=allow protocol=TCP localport=4489\n```"
   ]
  },
  {
   "cell_type": "code",
   "execution_count": null,
   "id": "d2af617e",
   "metadata": {},
   "outputs": [],
   "source": "Invoke-AtomicTest T1021.001 -TestNumbers 3"
  },
  {
   "cell_type": "markdown",
   "id": "a302a55b",
   "metadata": {},
   "source": "#### Cleanup: \n```cmd\nreg add \"HKLM\\System\\CurrentControlSet\\Control\\Terminal Server\\WinStations\\RDP-Tcp\" /v PortNumber /t REG_DWORD /d 3389 -f >nul 2>&1\nnetsh advfirewall firewall delete rule name=\"RDPPORTLatest-TCP-In\" >nul 2>&1\n```"
  },
  {
   "cell_type": "code",
   "execution_count": null,
   "id": "e53d0241",
   "metadata": {},
   "outputs": [],
   "source": "Invoke-AtomicTest T1021.001 -TestNumbers 3 -Cleanup"
  },
  {
   "cell_type": "markdown",
   "id": "33fba58b",
   "metadata": {},
   "source": "## Detection\nUse of RDP may be legitimate, depending on the network environment and how it is used. Other factors, such as access patterns and activity that occurs after a remote login, may indicate suspicious or malicious behavior with RDP. Monitor for user accounts logged into systems they would not normally access or access patterns to multiple systems over a relatively short period of time."
  }
 ],
 "metadata": {
  "kernelspec": {
   "display_name": ".NET (PowerShell)",
   "language": "PowerShell",
   "name": ".net-powershell"
  },
  "language_info": {
   "file_extension": ".ps1",
   "mimetype": "text/x-powershell",
   "name": "PowerShell",
   "pygments_lexer": "powershell",
   "version": "7.0"
  }
 },
 "nbformat": 4,
 "nbformat_minor": 5
}