{
 "cells": [
  {
   "cell_type": "markdown",
   "id": "dc9d240b",
   "metadata": {},
   "source": "# T1021.006 - Windows Remote Management\nAdversaries may use [Valid Accounts](https://attack.mitre.org/techniques/T1078) to interact with remote systems using Windows Remote Management (WinRM). The adversary may then perform actions as the logged-on user.\n\nWinRM is the name of both a Windows service and a protocol that allows a user to interact with a remote system (e.g., run an executable, modify the Registry, modify services).(Citation: Microsoft WinRM) It may be called with the `winrm` command or by any number of programs such as PowerShell.(Citation: Jacobsen 2014) WinRM  can be used as a method of remotely interacting with [Windows Management Instrumentation](https://attack.mitre.org/techniques/T1047).(Citation: MSDN WMI)"
  },
  {
   "cell_type": "markdown",
   "id": "05ac33bc",
   "metadata": {},
   "source": "## Atomic Tests"
  },
  {
   "cell_type": "markdown",
   "id": "145ea2d3",
   "metadata": {},
   "source": [
    "### Atomic Test #1 - Enable Windows Remote Management",
    "Powershell Enable WinRM\n\nUpon successful execution, powershell will \"Enable-PSRemoting\" allowing for remote PS access.\n",
    "**Supported Platforms:** windows",
    "\nElevation Required (e.g. root or admin)",
    "#### Attack Commands: Run with `powershell`\n",
    "```powershell\nEnable-PSRemoting -Force\n```"
   ]
  },
  {
   "cell_type": "code",
   "execution_count": null,
   "id": "cc3e2f5d",
   "metadata": {},
   "outputs": [],
   "source": "Invoke-AtomicTest T1021.006 -TestNumbers 1"
  },
  {
   "cell_type": "markdown",
   "id": "52fa34e8",
   "metadata": {},
   "source": [
    "### Atomic Test #2 - Remote Code Execution with PS Credentials Using Invoke-Command",
    "Simulate lateral movement with PowerShell Remoting on the local host. \nUpon successful execution, PowerShell will execute `whoami` using `Invoke-Command`, targeting the \nlocal machine as remote target.\n",
    "**Supported Platforms:** windows",
    "#### Attack Commands: Run with `powershell`\n",
    "```powershell\nEnable-PSRemoting -Force\nInvoke-Command -ComputerName $env:COMPUTERNAME -ScriptBlock {whoami}```"
   ]
  },
  {
   "cell_type": "code",
   "execution_count": null,
   "id": "3cfbce60",
   "metadata": {},
   "outputs": [],
   "source": "Invoke-AtomicTest T1021.006 -TestNumbers 2"
  },
  {
   "cell_type": "markdown",
   "id": "97a10b0c",
   "metadata": {},
   "source": "#### Cleanup: \n```powershell\nDisable-PSRemoting -Force```"
  },
  {
   "cell_type": "code",
   "execution_count": null,
   "id": "7fed62b5",
   "metadata": {},
   "outputs": [],
   "source": "Invoke-AtomicTest T1021.006 -TestNumbers 2 -Cleanup"
  },
  {
   "cell_type": "markdown",
   "id": "1dec4eb5",
   "metadata": {},
   "source": "### Atomic Test #3 - WinRM Access with Evil-WinRM\nAn adversary may attempt to use Evil-WinRM with a valid account to interact with remote systems that have WinRM enabled\n**Supported Platforms:** windows\n\nElevation Required (e.g. root or admin)\n#### Dependencies:  Run with `powershell`!\n##### Description: Computer must have Ruby Installed\n##### Check Prereq Commands:\n```powershell\ntry {if (ruby -v) {exit 0} else {exit 1}} catch {exit 1}\n```\n##### Get Prereq Commands:\n```powershell\nNew-Item -Type Directory \"PathToAtomicsFolder\\..\\ExternalPayloads\\\" -ErrorAction Ignore -Force | Out-Null\nInvoke-WebRequest  -OutFile \"PathToAtomicsFolder\\..\\ExternalPayloads\\rubyinstaller-2.7.1-1-x64.exe\" https://github.com/oneclick/rubyinstaller2/releases/download/RubyInstaller-2.7.1-1/rubyinstaller-2.7.1-1-x64.exe\n$file1= \"PathToAtomicsFolder\\..\\ExternalPayloads\\rubyinstaller-2.7.1-1-x64.exe\"\nStart-Process $file1 /S;\n```\n##### Description: Computer must have Evil-WinRM installed\n##### Check Prereq Commands:\n```powershell\ntry {if (evil-winrm -h) {exit 0} else {exit 1}} catch {exit 1}\n```\n##### Get Prereq Commands:\n```powershell\ngem install evil-winrm\n```"
  },
  {
   "cell_type": "code",
   "execution_count": null,
   "id": "bf0b980a",
   "metadata": {},
   "outputs": [],
   "source": "Invoke-AtomicTest T1021.006 -TestNumbers 3 -GetPreReqs"
  },
  {
   "cell_type": "markdown",
   "id": "f6772658",
   "metadata": {},
   "source": [
    "#### Attack Commands: Run with `powershell`\n",
    "```powershell\nevil-winrm -i Target -u Domain\\Administrator -p P@ssw0rd1```"
   ]
  },
  {
   "cell_type": "code",
   "execution_count": null,
   "id": "f283bfd2",
   "metadata": {},
   "outputs": [],
   "source": "Invoke-AtomicTest T1021.006 -TestNumbers 3"
  },
  {
   "cell_type": "markdown",
   "id": "19645f43",
   "metadata": {},
   "source": "## Detection\nMonitor use of WinRM within an environment by tracking service execution. If it is not normally used or is disabled, then this may be an indicator of suspicious behavior.  Monitor processes created and actions taken by the WinRM process or a WinRM invoked script to correlate it with other related events.(Citation: Medium Detecting Lateral Movement) Also monitor for remote WMI connection attempts (typically over port 5985 when using HTTP and 5986 for HTTPS)."
  }
 ],
 "metadata": {
  "kernelspec": {
   "display_name": ".NET (PowerShell)",
   "language": "pwsh",
   "name": ".net-powershell"
  },
  "language_info": {
   "file_extension": ".ps1",
   "mimetype": "text/x-powershell",
   "name": "pwsh",
   "pygments_lexer": "powershell",
   "version": "7.0"
  }
 },
 "nbformat": 4,
 "nbformat_minor": 5
}