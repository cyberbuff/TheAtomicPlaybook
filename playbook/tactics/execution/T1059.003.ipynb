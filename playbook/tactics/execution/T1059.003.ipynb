{
 "cells": [
  {
   "cell_type": "markdown",
   "id": "2c22b448",
   "metadata": {},
   "source": "# T1059.003 - Windows Command Shell\nAdversaries may abuse the Windows command shell for execution. The Windows command shell ([cmd](https://attack.mitre.org/software/S0106)) is the primary command prompt on Windows systems. The Windows command prompt can be used to control almost any aspect of a system, with various permission levels required for different subsets of commands. The command prompt can be invoked remotely via [Remote Services](https://attack.mitre.org/techniques/T1021) such as [SSH](https://attack.mitre.org/techniques/T1021/004).(Citation: SSH in Windows)\n\nBatch files (ex: .bat or .cmd) also provide the shell with a list of sequential commands to run, as well as normal scripting operations such as conditionals and loops. Common uses of batch files include long or repetitive tasks, or the need to run the same set of commands on multiple systems.\n\nAdversaries may leverage [cmd](https://attack.mitre.org/software/S0106) to execute various commands and payloads. Common uses include [cmd](https://attack.mitre.org/software/S0106) to execute a single command, or abusing [cmd](https://attack.mitre.org/software/S0106) interactively with input and output forwarded over a command and control channel."
  },
  {
   "cell_type": "markdown",
   "id": "52e44940",
   "metadata": {},
   "source": "## Atomic Tests"
  },
  {
   "cell_type": "markdown",
   "id": "c78383c7",
   "metadata": {},
   "source": "### Atomic Test #1 - Create and Execute Batch Script\nCreates and executes a simple batch script. Upon execution, CMD will briefly launch to run the batch script then close again.\n\n**Supported Platforms:** windows\n#### Dependencies:  Run with `powershell`!\n##### Description: Batch file must exist on disk at specified location (#{script_path})\n\n##### Check Prereq Commands:\n```powershell\nif (Test-Path \"PathToAtomicsFolder\\..\\ExternalPayloads\\T1059.003_script.bat\") {exit 0} else {exit 1}\n\n```\n##### Get Prereq Commands:\n```powershell\nNew-Item \"PathToAtomicsFolder\\..\\ExternalPayloads\\T1059.003_script.bat\" -Force | Out-Null\nSet-Content -Path \"PathToAtomicsFolder\\..\\ExternalPayloads\\T1059.003_script.bat\" -Value \"dir\"\n\n```"
  },
  {
   "cell_type": "code",
   "execution_count": null,
   "id": "f14d7db3",
   "metadata": {},
   "outputs": [],
   "source": "Invoke-AtomicTest T1059.003 -TestNumbers 1 -GetPreReqs"
  },
  {
   "cell_type": "markdown",
   "id": "e4c5b1ca",
   "metadata": {},
   "source": [
    "#### Attack Commands: Run with `powershell`\n",
    "```powershell\nStart-Process \"PathToAtomicsFolder\\..\\ExternalPayloads\\T1059.003_script.bat\"\n```"
   ]
  },
  {
   "cell_type": "code",
   "execution_count": null,
   "id": "6bea28a0",
   "metadata": {},
   "outputs": [],
   "source": "Invoke-AtomicTest T1059.003 -TestNumbers 1"
  },
  {
   "cell_type": "markdown",
   "id": "26cf4a34",
   "metadata": {},
   "source": "#### Cleanup: \n```powershell\nRemove-Item \"PathToAtomicsFolder\\..\\ExternalPayloads\\T1059.003_script.bat\" -Force -ErrorAction Ignore\n```"
  },
  {
   "cell_type": "code",
   "execution_count": null,
   "id": "4e63b0bf",
   "metadata": {},
   "outputs": [],
   "source": "Invoke-AtomicTest T1059.003 -TestNumbers 1 -Cleanup"
  },
  {
   "cell_type": "markdown",
   "id": "5bd15d06",
   "metadata": {},
   "source": [
    "### Atomic Test #2 - Writes text to a file and displays it.",
    "Writes text to a file and display the results. This test is intended to emulate the dropping of a malicious file to disk.\n",
    "**Supported Platforms:** windows",
    "#### Attack Commands: Run with `command_prompt`\n",
    "```command_prompt\necho \"Hello from the Windows Command Prompt!\" > \"%TEMP%\\test.bin\" & type \"%TEMP%\\test.bin\"\n```"
   ]
  },
  {
   "cell_type": "code",
   "execution_count": null,
   "id": "ea5da261",
   "metadata": {},
   "outputs": [],
   "source": "Invoke-AtomicTest T1059.003 -TestNumbers 2"
  },
  {
   "cell_type": "markdown",
   "id": "4c9cf772",
   "metadata": {},
   "source": "#### Cleanup: \n```cmd\ndel \"%TEMP%\\test.bin\" >nul 2>&1\n```"
  },
  {
   "cell_type": "code",
   "execution_count": null,
   "id": "4bcc3a0a",
   "metadata": {},
   "outputs": [],
   "source": "Invoke-AtomicTest T1059.003 -TestNumbers 2 -Cleanup"
  },
  {
   "cell_type": "markdown",
   "id": "9874f413",
   "metadata": {},
   "source": [
    "### Atomic Test #3 - Suspicious Execution via Windows Command Shell",
    "Command line executed via suspicious invocation. Example is from the 2021 Threat Detection Report by Red Canary.\n",
    "**Supported Platforms:** windows",
    "#### Attack Commands: Run with `command_prompt`\n",
    "```command_prompt\n%LOCALAPPDATA:~-3,1%md /c echo Hello, from CMD! > hello.txt & type hello.txt\n```"
   ]
  },
  {
   "cell_type": "code",
   "execution_count": null,
   "id": "f9127530",
   "metadata": {},
   "outputs": [],
   "source": "Invoke-AtomicTest T1059.003 -TestNumbers 3"
  },
  {
   "cell_type": "markdown",
   "id": "ed02d358",
   "metadata": {},
   "source": "### Atomic Test #4 - Simulate BlackByte Ransomware Print Bombing\nThis test attempts to open a file a specified number of times in Wordpad, then prints the contents. \nIt is designed to mimic BlackByte ransomware's print bombing technique, where tree.dll, which contains the ransom note, is opened in Wordpad 75 times and then printed. \nSee https://redcanary.com/blog/blackbyte-ransomware/. \n\n**Supported Platforms:** windows\n#### Dependencies:  Run with `powershell`!\n##### Description: File to print must exist on disk at specified location (#{file_to_print})\n\n##### Check Prereq Commands:\n```powershell\nif (test-path \"PathToAtomicsFolder\\..\\ExternalPayloads\\T1059_003note.txt\"){exit 0} else {exit 1}\n\n```\n##### Get Prereq Commands:\n```powershell\nnew-item \"PathToAtomicsFolder\\..\\ExternalPayloads\\T1059_003note.txt\" -value \"This file has been created by T1059.003 Test 4\" -Force | Out-Null\n\n```"
  },
  {
   "cell_type": "code",
   "execution_count": null,
   "id": "e9183f12",
   "metadata": {},
   "outputs": [],
   "source": "Invoke-AtomicTest T1059.003 -TestNumbers 4 -GetPreReqs"
  },
  {
   "cell_type": "markdown",
   "id": "474107db",
   "metadata": {},
   "source": [
    "#### Attack Commands: Run with `powershell`\n",
    "```powershell\ncmd /c \"for /l %x in (1,1,75) do start wordpad.exe /p PathToAtomicsFolder\\..\\ExternalPayloads\\T1059_003note.txt\" | out-null\n```"
   ]
  },
  {
   "cell_type": "code",
   "execution_count": null,
   "id": "ad5cb0a5",
   "metadata": {},
   "outputs": [],
   "source": "Invoke-AtomicTest T1059.003 -TestNumbers 4"
  },
  {
   "cell_type": "markdown",
   "id": "1b30fee0",
   "metadata": {},
   "source": "#### Cleanup: \n```powershell\nstop-process -name wordpad -force -erroraction silentlycontinue\n```"
  },
  {
   "cell_type": "code",
   "execution_count": null,
   "id": "e171964c",
   "metadata": {},
   "outputs": [],
   "source": "Invoke-AtomicTest T1059.003 -TestNumbers 4 -Cleanup"
  },
  {
   "cell_type": "markdown",
   "id": "0f3ad4e7",
   "metadata": {},
   "source": "### Atomic Test #5 - Command Prompt read contents from CMD file and execute\nSimulate Raspberry Robin using the \"standard-in\" command prompt feature cmd `/R <` to read and execute a file via cmd.exe\nSee https://redcanary.com/blog/raspberry-robin/. \n\n**Supported Platforms:** windows\n\nElevation Required (e.g. root or admin)\n#### Dependencies:  Run with `powershell`!\n##### Description: CMD file must exist on disk at specified location (#{input_file})\n\n##### Check Prereq Commands:\n```cmd\nif (Test-Path \"PathToAtomicsFolder\\T1059.003\\src\\t1059.003_cmd.cmd\") {exit 0} else {exit 1}\n\n```\n##### Get Prereq Commands:\n```cmd\nNew-Item -Type Directory (split-path \"PathToAtomicsFolder\\T1059.003\\src\\t1059.003_cmd.cmd\") -ErrorAction ignore | Out-Null\nInvoke-WebRequest \"https://github.com/redcanaryco/atomic-red-team/raw/master/atomics/T1059.003/src/t1059.003_cmd.cmd\" -OutFile \"PathToAtomicsFolder\\T1059.003\\src\\t1059.003_cmd.cmd\"\n\n```"
  },
  {
   "cell_type": "code",
   "execution_count": null,
   "id": "d8c0898f",
   "metadata": {},
   "outputs": [],
   "source": "Invoke-AtomicTest T1059.003 -TestNumbers 5 -GetPreReqs"
  },
  {
   "cell_type": "markdown",
   "id": "2ec98dc3",
   "metadata": {},
   "source": [
    "#### Attack Commands: Run with `command_prompt`\n",
    "```command_prompt\ncmd /r cmd<\"PathToAtomicsFolder\\T1059.003\\src\\t1059.003_cmd.cmd\"\n```"
   ]
  },
  {
   "cell_type": "code",
   "execution_count": null,
   "id": "4c7bc2df",
   "metadata": {},
   "outputs": [],
   "source": "Invoke-AtomicTest T1059.003 -TestNumbers 5"
  },
  {
   "cell_type": "markdown",
   "id": "53bc5a2f",
   "metadata": {},
   "source": [
    "### Atomic Test #6 - Command prompt writing script to file then executes it",
    "    Simulate DarkGate malware's second stage by writing a VBscript to disk directly from the command prompt then executing it.\n    The script will execute 'whoami' then exit.",
    "**Supported Platforms:** windows",
    "\nElevation Required (e.g. root or admin)",
    "#### Attack Commands: Run with `command_prompt`\n",
    "```command_prompt\n c:\\windows\\system32\\cmd.exe /c cd /d %TEMP%\\ & echo Set objShell = CreateObject(\"WScript.Shell\"):Set objExec = objShell.Exec(\"whoami\"):Set objExec = Nothing:Set objShell = Nothing > AtomicTest.vbs & AtomicTest.vbs```"
   ]
  },
  {
   "cell_type": "code",
   "execution_count": null,
   "id": "24baf5af",
   "metadata": {},
   "outputs": [],
   "source": "Invoke-AtomicTest T1059.003 -TestNumbers 6"
  },
  {
   "cell_type": "markdown",
   "id": "b5a30a2a",
   "metadata": {},
   "source": "#### Cleanup: \n```cmd\ndel \"AtomicTest.vbs\" >nul 2>&1```"
  },
  {
   "cell_type": "code",
   "execution_count": null,
   "id": "1149e5f6",
   "metadata": {},
   "outputs": [],
   "source": "Invoke-AtomicTest T1059.003 -TestNumbers 6 -Cleanup"
  },
  {
   "cell_type": "markdown",
   "id": "dc8bf393",
   "metadata": {},
   "source": "## Detection\nUsage of the Windows command shell may be common on administrator, developer, or power user systems depending on job function. If scripting is restricted for normal users, then any attempt to enable scripts running on a system would be considered suspicious. If scripts are not commonly used on a system, but enabled, scripts running out of cycle from patching or other administrator functions are suspicious. Scripts should be captured from the file system when possible to determine their actions and intent.\n\nScripts are likely to perform actions with various effects on a system that may generate events, depending on the types of monitoring used. Monitor processes and command-line arguments for script execution and subsequent behavior. Actions may be related to network and system information Discovery, Collection, or other scriptable post-compromise behaviors and could be used as indicators of detection leading back to the source script."
  }
 ],
 "metadata": {
  "kernelspec": {
   "display_name": ".NET (PowerShell)",
   "language": "pwsh",
   "name": ".net-powershell"
  },
  "language_info": {
   "file_extension": ".ps1",
   "mimetype": "text/x-powershell",
   "name": "pwsh",
   "pygments_lexer": "powershell",
   "version": "7.0"
  }
 },
 "nbformat": 4,
 "nbformat_minor": 5
}