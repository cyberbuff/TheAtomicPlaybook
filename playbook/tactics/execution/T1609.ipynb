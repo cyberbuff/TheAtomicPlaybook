{
 "cells": [
  {
   "cell_type": "markdown",
   "id": "ef341b57",
   "metadata": {},
   "source": "# T1609 - Container Administration Command\nAdversaries may abuse a container administration service to execute commands within a container. A container administration service such as the Docker daemon, the Kubernetes API server, or the kubelet may allow remote management of containers within an environment.(Citation: Docker Daemon CLI)(Citation: Kubernetes API)(Citation: Kubernetes Kubelet)\n\nIn Docker, adversaries may specify an entrypoint during container deployment that executes a script or command, or they may use a command such as <code>docker exec</code> to execute a command within a running container.(Citation: Docker Entrypoint)(Citation: Docker Exec) In Kubernetes, if an adversary has sufficient permissions, they may gain remote execution in a container in the cluster via interaction with the Kubernetes API server, the kubelet, or by running a command such as <code>kubectl exec</code>.(Citation: Kubectl Exec Get Shell)"
  },
  {
   "cell_type": "markdown",
   "id": "6723d1b2",
   "metadata": {},
   "source": "## Atomic Tests"
  },
  {
   "cell_type": "markdown",
   "id": "94b150ae",
   "metadata": {},
   "source": "### Atomic Test #1 - ExecIntoContainer\nAttackers who have permissions, can run malicious commands in containers in the cluster using exec command (\u201ckubectl exec\u201d). In this method, attackers can use legitimate images, such as an OS image (e.g., Ubuntu) as a backdoor container, and run their malicious code remotely by using \u201ckubectl exec\u201d.\n\n**Supported Platforms:** containers\n\nElevation Required (e.g. root or admin)\n#### Dependencies:  Run with `bash`!\n##### Description: kubectl must be installed\n\n##### Check Prereq Commands:\n```bash\nwhich kubectl\n\n```\n##### Get Prereq Commands:\n```bash\necho \"kubectl must be installed manually\"\n\n```"
  },
  {
   "cell_type": "code",
   "execution_count": null,
   "id": "89418218",
   "metadata": {},
   "outputs": [],
   "source": "Invoke-AtomicTest T1609 -TestNumbers 1 -GetPreReqs"
  },
  {
   "cell_type": "markdown",
   "id": "b1688d28",
   "metadata": {},
   "source": [
    "#### Attack Commands: Run with `bash`\n",
    "```bash\nkubectl create -f $PathtoAtomicsFolder/T1609/src/busybox.yaml -n default\n# wait 3 seconds for the instance to come up\nsleep 3\nkubectl exec -n default busybox -- uname\n```"
   ]
  },
  {
   "cell_type": "code",
   "execution_count": null,
   "id": "376a228a",
   "metadata": {},
   "outputs": [],
   "source": "Invoke-AtomicTest T1609 -TestNumbers 1"
  },
  {
   "cell_type": "markdown",
   "id": "8d9360dd",
   "metadata": {},
   "source": "#### Cleanup: \n```bash\nkubectl delete pod busybox -n default\n```"
  },
  {
   "cell_type": "code",
   "execution_count": null,
   "id": "fcd29a33",
   "metadata": {},
   "outputs": [],
   "source": "Invoke-AtomicTest T1609 -TestNumbers 1 -Cleanup"
  },
  {
   "cell_type": "markdown",
   "id": "bac79c49",
   "metadata": {},
   "source": "### Atomic Test #2 - Docker Exec Into Container\nAttackers who have permissions, can run malicious commands in containers in the cluster using exec command (\u201cdocker exec\u201d). In this method, attackers can use legitimate images, such as an OS image (e.g., Ubuntu) as a backdoor container, and run their malicious code remotely by using \u201cdocker exec\u201d. Kinsing (Golang-based malware) was executed with an Ubuntu container entry point that runs shell scripts.\n\n**Supported Platforms:** containers\n\nElevation Required (e.g. root or admin)\n#### Dependencies:  Run with `bash`!\n##### Description: docker must be installed\n\n##### Check Prereq Commands:\n```bash\nwhich docker\n\n```\n##### Get Prereq Commands:\n```bash\nif [ \"\" == \"`which docker`\" ]; then echo \"Docker Not Found\"; if [ -n \"`which apt-get`\" ]; then sudo apt-get -y install docker ; elif [ -n \"`which yum`\" ]; then sudo yum -y install docker ; fi ; else echo \"Docker installed\"; fi\n\n```"
  },
  {
   "cell_type": "code",
   "execution_count": null,
   "id": "6e730783",
   "metadata": {},
   "outputs": [],
   "source": "Invoke-AtomicTest T1609 -TestNumbers 2 -GetPreReqs"
  },
  {
   "cell_type": "markdown",
   "id": "ebc18148",
   "metadata": {},
   "source": [
    "#### Attack Commands: Run with `bash`\n",
    "```bash\ndocker build -t t1609  $PathtoAtomicsFolder/T1609/src/ \ndocker run --name t1609_container --rm -itd t1609 bash /tmp/script.sh\ndocker exec -i t1609_container bash -c \"cat /tmp/output.txt\"\n```"
   ]
  },
  {
   "cell_type": "code",
   "execution_count": null,
   "id": "2c0d497f",
   "metadata": {},
   "outputs": [],
   "source": "Invoke-AtomicTest T1609 -TestNumbers 2"
  },
  {
   "cell_type": "markdown",
   "id": "54ac4401",
   "metadata": {},
   "source": "#### Cleanup: \n```bash\ndocker stop t1609_container\ndocker rmi -f t1609:latest \n```"
  },
  {
   "cell_type": "code",
   "execution_count": null,
   "id": "e7311c16",
   "metadata": {},
   "outputs": [],
   "source": "Invoke-AtomicTest T1609 -TestNumbers 2 -Cleanup"
  },
  {
   "cell_type": "markdown",
   "id": "395ef2fc",
   "metadata": {},
   "source": "## Detection\nContainer administration service activities and executed commands can be captured through logging of process execution with command-line arguments on the container and the underlying host. In Docker, the daemon log provides insight into events at the daemon and container service level. Kubernetes system component logs may also detect activities running in and out of containers in the cluster. "
  }
 ],
 "metadata": {
  "kernelspec": {
   "display_name": ".NET (PowerShell)",
   "language": "pwsh",
   "name": ".net-powershell"
  },
  "language_info": {
   "file_extension": ".ps1",
   "mimetype": "text/x-powershell",
   "name": "pwsh",
   "pygments_lexer": "powershell",
   "version": "7.0"
  }
 },
 "nbformat": 4,
 "nbformat_minor": 5
}