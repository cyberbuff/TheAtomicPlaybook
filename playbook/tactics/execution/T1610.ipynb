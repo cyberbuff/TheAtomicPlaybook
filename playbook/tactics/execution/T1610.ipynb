{
 "cells": [
  {
   "cell_type": "markdown",
   "id": "a26b8355",
   "metadata": {},
   "source": "# T1610 - Deploy Container\nAdversaries may deploy a container into an environment to facilitate execution or evade defenses. In some cases, adversaries may deploy a new container to execute processes associated with a particular image or deployment, such as processes that execute or download malware. In others, an adversary may deploy a new container configured without network rules, user limitations, etc. to bypass existing defenses within the environment.\n\nContainers can be deployed by various means, such as via Docker's <code>create</code> and <code>start</code> APIs or via a web application such as the Kubernetes dashboard or Kubeflow.(Citation: Docker Containers API)(Citation: Kubernetes Dashboard)(Citation: Kubeflow Pipelines) Adversaries may deploy containers based on retrieved or built malicious images or from benign images that download and execute malicious payloads at runtime.(Citation: Aqua Build Images on Hosts)"
  },
  {
   "cell_type": "markdown",
   "id": "41fbb02b",
   "metadata": {},
   "source": "## Atomic Tests"
  },
  {
   "cell_type": "markdown",
   "id": "fdb9db34",
   "metadata": {},
   "source": "### Atomic Test #1 - Deploy Docker container\nAdversaries may deploy containers based on retrieved or built malicious images or from benign images that download and execute malicious payloads at runtime. They can do this using docker create and docker start commands. Kinsing & Doki was exploited using this technique. \n\n**Supported Platforms:** containers\n#### Dependencies:  Run with `sh`!\n##### Description: Verify docker is installed.\n##### Check Prereq Commands:\n```bash\nwhich docker\n\n```\n##### Get Prereq Commands:\n```bash\nif [ \"\" == \"`which docker`\" ]; then echo \"Docker Not Found\"; if [ -n \"`which apt-get`\" ]; then sudo apt-get -y install docker ; elif [ -n \"`which yum`\" ]; then sudo yum -y install docker ; fi ; else echo \"Docker installed\"; fi\n\n```\n##### Description: Verify docker service is running.\n##### Check Prereq Commands:\n```bash\nsudo systemctl status docker  --no-pager\n\n```\n##### Get Prereq Commands:\n```bash\nsudo systemctl start docker\n\n```"
  },
  {
   "cell_type": "code",
   "execution_count": null,
   "id": "97170b87",
   "metadata": {},
   "outputs": [],
   "source": "Invoke-AtomicTest T1610 -TestNumbers 1 -GetPreReqs"
  },
  {
   "cell_type": "markdown",
   "id": "77b2459b",
   "metadata": {},
   "source": [
    "#### Attack Commands: Run with `bash`\n",
    "```bash\ndocker build -t t1610 $PathtoAtomicsFolder/T1610/src/\ndocker run --name t1610_container --rm -itd t1610 bash /tmp/script.sh\n```"
   ]
  },
  {
   "cell_type": "code",
   "execution_count": null,
   "id": "ac3fa52f",
   "metadata": {},
   "outputs": [],
   "source": "Invoke-AtomicTest T1610 -TestNumbers 1"
  },
  {
   "cell_type": "markdown",
   "id": "ca22b3cb",
   "metadata": {},
   "source": "#### Cleanup: \n```bash\ndocker stop t1610_container\ndocker rmi -f t1610:latest \n```"
  },
  {
   "cell_type": "code",
   "execution_count": null,
   "id": "f01aaf95",
   "metadata": {},
   "outputs": [],
   "source": "Invoke-AtomicTest T1610 -TestNumbers 1 -Cleanup"
  },
  {
   "cell_type": "markdown",
   "id": "6c30b4e0",
   "metadata": {},
   "source": "## Detection\nMonitor for suspicious or unknown container images and pods in your environment. Deploy logging agents on Kubernetes nodes and retrieve logs from sidecar proxies for application pods to detect malicious activity at the cluster level. In Docker, the daemon log provides insight into remote API calls, including those that deploy containers. Logs for management services or applications used to deploy containers other than the native technologies themselves should also be monitored."
  }
 ],
 "metadata": {
  "kernelspec": {
   "display_name": ".NET (PowerShell)",
   "language": "PowerShell",
   "name": ".net-powershell"
  },
  "language_info": {
   "file_extension": ".ps1",
   "mimetype": "text/x-powershell",
   "name": "PowerShell",
   "pygments_lexer": "powershell",
   "version": "7.0"
  }
 },
 "nbformat": 4,
 "nbformat_minor": 5
}