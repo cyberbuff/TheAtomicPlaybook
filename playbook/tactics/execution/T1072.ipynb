{
 "cells": [
  {
   "cell_type": "markdown",
   "id": "7bb100cc",
   "metadata": {},
   "source": "# T1072 - Software Deployment Tools\nAdversaries may gain access to and use third-party software suites installed within an enterprise network, such as administration, monitoring, and deployment systems, to move laterally through the network. Third-party applications and software deployment systems may be in use in the network environment for administration purposes (e.g., SCCM, HBSS, Altiris, etc.).  \n\nAccess to a third-party network-wide or enterprise-wide software system may enable an adversary to have remote code execution on all systems that are connected to such a system. The access may be used to laterally move to other systems, gather information, or cause a specific effect, such as wiping the hard drives on all endpoints. Network infrastructure may also have administration tools that can be similarly abused by adversaries. (Citation: Fortinet Zero-Day and Custom Malware Used by Suspected Chinese Actor in Espionage Operation)\n\nThe permissions required for this action vary by system configuration; local credentials may be sufficient with direct access to the third-party system, or specific domain credentials may be required. However, the system may require an administrative account to log in or to perform it's intended purpose."
  },
  {
   "cell_type": "markdown",
   "id": "f3d47d39",
   "metadata": {},
   "source": "## Atomic Tests"
  },
  {
   "cell_type": "markdown",
   "id": "2a2fc38b",
   "metadata": {},
   "source": "### Atomic Test #1 - Radmin Viewer Utility\nAn adversary may use Radmin Viewer Utility to remotely control Windows device, this will start the radmin console.\n\n**Supported Platforms:** windows\n\nElevation Required (e.g. root or admin)\n#### Dependencies:  Run with `powershell`!\n##### Description: Radmin Viewer Utility must be installed at specified location (#{radmin_exe})\n\n##### Check Prereq Commands:\n```cmd\nif (Test-Path \"${env:ProgramFiles(x86)}/Radmin Viewer 3/Radmin.exe\") {exit 0} else {exit 1}\n\n```\n##### Get Prereq Commands:\n```cmd\nWrite-Host Downloading radmin installer\nNew-Item -Type Directory \"PathToAtomicsFolder\\..\\ExternalPayloads\\\" -ErrorAction Ignore -Force | Out-Null\nInvoke-WebRequest \"https://www.radmin.com/download/Radmin_Viewer_3.5.2.1_EN.msi\" -OutFile \"PathToAtomicsFolder\\..\\ExternalPayloads\\RadminViewer.msi\"\nWrite-Host Install Radmin\nStart-Process msiexec  -Wait -ArgumentList /i , \"PathToAtomicsFolder\\..\\ExternalPayloads\\RadminViewer.msi\", /qn\n\n```"
  },
  {
   "cell_type": "code",
   "execution_count": null,
   "id": "8c6d5e6e",
   "metadata": {},
   "outputs": [],
   "source": "Invoke-AtomicTest T1072 -TestNumbers 1 -GetPreReqs"
  },
  {
   "cell_type": "markdown",
   "id": "4ca66c05",
   "metadata": {},
   "source": [
    "#### Attack Commands: Run with `command_prompt`\n",
    "```command_prompt\n\"%PROGRAMFILES(x86)%/Radmin Viewer 3/Radmin.exe\"\n```"
   ]
  },
  {
   "cell_type": "code",
   "execution_count": null,
   "id": "f2b69855",
   "metadata": {},
   "outputs": [],
   "source": "Invoke-AtomicTest T1072 -TestNumbers 1"
  },
  {
   "cell_type": "markdown",
   "id": "4c59a85e",
   "metadata": {},
   "source": "### Atomic Test #2 - PDQ Deploy RAT\nAn adversary may use PDQ Deploy Software to deploy the Remote Adminstartion Tool, this will start the PDQ console.\n\n**Supported Platforms:** windows\n\nElevation Required (e.g. root or admin)\n#### Dependencies:  Run with `powershell`!\n##### Description: PDQ Deploy will be installed at specified location (#{PDQ_Deploy_exe})\n\n##### Check Prereq Commands:\n```cmd\nif (Test-Path \"${env:ProgramFiles(x86)}/Admin Arsenal/PDQ Deploy/PDQDeployConsole.exe\") {exit 0} else {exit 1}\n\n```\n##### Get Prereq Commands:\n```cmd\nWrite-Host Downloading PDQ Deploy installer\nNew-Item -Type Directory \"PathToAtomicsFolder\\..\\ExternalPayloads\\\" -ErrorAction Ignore -Force | Out-Null\nInvoke-WebRequest \"https://download.pdq.com/release/19/Deploy_19.3.350.0.exe\" -OutFile \"PathToAtomicsFolder\\..\\ExternalPayloads\\PDQDeploysetup.exe\"\nWrite-Host Install PDQ Deploy\nStart-Process \"PathToAtomicsFolder\\..\\ExternalPayloads\\PDQDeploysetup.exe\" -Wait -ArgumentList \"/s\"\n\n```"
  },
  {
   "cell_type": "code",
   "execution_count": null,
   "id": "1e72f3b2",
   "metadata": {},
   "outputs": [],
   "source": "Invoke-AtomicTest T1072 -TestNumbers 2 -GetPreReqs"
  },
  {
   "cell_type": "markdown",
   "id": "b5544098",
   "metadata": {},
   "source": [
    "#### Attack Commands: Run with `command_prompt`\n",
    "```command_prompt\n\"%PROGRAMFILES(x86)%/Admin Arsenal/PDQ Deploy/PDQDeployConsole.exe\"\n```"
   ]
  },
  {
   "cell_type": "code",
   "execution_count": null,
   "id": "797d2ccb",
   "metadata": {},
   "outputs": [],
   "source": "Invoke-AtomicTest T1072 -TestNumbers 2"
  },
  {
   "cell_type": "markdown",
   "id": "aa50c5f5",
   "metadata": {},
   "source": "## Detection\nDetection methods will vary depending on the type of third-party software or system and how it is typically used. \n\nThe same investigation process can be applied here as with other potentially malicious activities where the distribution vector is initially unknown but the resulting activity follows a discernible pattern. Analyze the process execution trees, historical activities from the third-party application (such as what types of files are usually pushed), and the resulting activities or events from the file/binary/script pushed to systems. \n\nOften these third-party applications will have logs of their own that can be collected and correlated with other data from the environment. Ensure that third-party application logs are on-boarded to the enterprise logging system and the logs are regularly reviewed. Audit software deployment logs and look for suspicious or unauthorized activity. A system not typically used to push software to clients that suddenly is used for such a task outside of a known admin function may be suspicious. Monitor account login activity on these applications to detect suspicious/abnormal usage.\n\nPerform application deployment at regular times so that irregular deployment activity stands out. Monitor process activity that does not correlate to known good software. Monitor account login activity on the deployment system."
  },
  {
   "cell_type": "markdown",
   "id": "0e774ead",
   "metadata": {},
   "source": "\n## Shield Active Defense\n### Decoy System \n Configure a computing system to serve as an attack target or experimental environment.   \n\n A decoy system is a computing resource presented to the adversary in support of active defense.  The underlying system can be real, virtual, or simulated, and can be presented as one of a variety of IT devices including user workstations, servers, networking systems, IOT (embedded devices), mobile systems like phones, etc.\n#### Opportunity\nThere is an opportunity to study the adversary and collect first-hand observations about them and their tools.\n#### Use Case\nA defender can deploy a decoy software deployment tool within an adversary engagement environment to see how the adversary attempts to use the device during their activity.\n#### Procedures\nUse an isolated system to visit a suspected compromised website.  Collect any associated scripting code or files dropped onto the system.\nSetup a server which appears to be something that is commonly expected within a network, such as web server.\n"
  }
 ],
 "metadata": {
  "kernelspec": {
   "display_name": ".NET (PowerShell)",
   "language": "pwsh",
   "name": ".net-powershell"
  },
  "language_info": {
   "file_extension": ".ps1",
   "mimetype": "text/x-powershell",
   "name": "pwsh",
   "pygments_lexer": "powershell",
   "version": "7.0"
  }
 },
 "nbformat": 4,
 "nbformat_minor": 5
}