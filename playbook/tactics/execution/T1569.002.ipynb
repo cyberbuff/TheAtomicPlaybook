{
 "cells": [
  {
   "cell_type": "markdown",
   "id": "86dc2e32",
   "metadata": {},
   "source": "# T1569.002 - Service Execution\nAdversaries may abuse the Windows service control manager to execute malicious commands or payloads. The Windows service control manager (<code>services.exe</code>) is an interface to manage and manipulate services.(Citation: Microsoft Service Control Manager) The service control manager is accessible to users via GUI components as well as system utilities such as <code>sc.exe</code> and [Net](https://attack.mitre.org/software/S0039).\n\n[PsExec](https://attack.mitre.org/software/S0029) can also be used to execute commands or payloads via a temporary Windows service created through the service control manager API.(Citation: Russinovich Sysinternals) Tools such as [PsExec](https://attack.mitre.org/software/S0029) and <code>sc.exe</code> can accept remote servers as arguments and may be used to conduct remote execution.\n\nAdversaries may leverage these mechanisms to execute malicious content. This can be done by either executing a new or modified service. This technique is the execution used in conjunction with [Windows Service](https://attack.mitre.org/techniques/T1543/003) during service persistence or privilege escalation."
  },
  {
   "cell_type": "markdown",
   "id": "deec0173",
   "metadata": {},
   "source": "## Atomic Tests"
  },
  {
   "cell_type": "markdown",
   "id": "186111af",
   "metadata": {},
   "source": [
    "### Atomic Test #1 - Execute a Command as a Service",
    "Creates a service specifying an arbitrary command and executes it. When executing commands such as PowerShell, the service will report that it did not start correctly even when code executes properly.\n\nUpon successful execution, cmd.exe creates a new service using sc.exe that will start powershell.exe to create a new file `art-marker.txt`\n\n[BlackCat Ransomware (ALPHV)](https://www.varonis.com/blog/blackcat-ransomware)  \n[Cybereason vs. BlackCat Ransomware](https://www.cybereason.com/blog/cybereason-vs.-blackcat-ransomware)\n",
    "**Supported Platforms:** windows",
    "\nElevation Required (e.g. root or admin)",
    "#### Attack Commands: Run with `command_prompt`\n",
    "```command_prompt\nsc.exe create ARTService binPath= \"%COMSPEC% /c powershell.exe -nop -w hidden -command New-Item -ItemType File C:\\art-marker.txt\"\nsc.exe start ARTService\nsc.exe delete ARTService\n```"
   ]
  },
  {
   "cell_type": "code",
   "execution_count": null,
   "id": "5b10c978",
   "metadata": {},
   "outputs": [],
   "source": "Invoke-AtomicTest T1569.002 -TestNumbers 1"
  },
  {
   "cell_type": "markdown",
   "id": "940b4650",
   "metadata": {},
   "source": "#### Cleanup: \n```cmd\ndel C:\\art-marker.txt >nul 2>&1\n```"
  },
  {
   "cell_type": "code",
   "execution_count": null,
   "id": "a62b00de",
   "metadata": {},
   "outputs": [],
   "source": "Invoke-AtomicTest T1569.002 -TestNumbers 1 -Cleanup"
  },
  {
   "cell_type": "markdown",
   "id": "af6141fa",
   "metadata": {},
   "source": "### Atomic Test #2 - Use PsExec to execute a command on a remote host\nRequires having Sysinternals installed, path to sysinternals is one of the input input_arguments\nWill start a process on a remote host.\n\nUpon successful execution, cmd will utilize psexec.exe to spawn calc.exe on a remote endpoint (default:localhost).\n\n**Supported Platforms:** windows\n#### Dependencies:  Run with `powershell`!\n##### Description: PsExec tool from Sysinternals must exist in the ExternalPayloads directory\n\n##### Check Prereq Commands:\n```cmd\nif (Test-Path \"PathToAtomicsFolder\\..\\ExternalPayloads\\PsExec.exe\") { exit 0} else { exit 1}\n\n```\n##### Get Prereq Commands:\n```cmd\nNew-Item -Type Directory \"PathToAtomicsFolder\\..\\ExternalPayloads\\\" -ErrorAction Ignore -Force | Out-Null\nInvoke-WebRequest \"https://download.sysinternals.com/files/PSTools.zip\" -OutFile \"PathToAtomicsFolder\\..\\ExternalPayloads\\PsTools.zip\"\nExpand-Archive \"PathToAtomicsFolder\\..\\ExternalPayloads\\PsTools.zip\" \"PathToAtomicsFolder\\..\\ExternalPayloads\\PsTools\" -Force\nCopy-Item \"PathToAtomicsFolder\\..\\ExternalPayloads\\PsTools\\PsExec.exe\" \"PathToAtomicsFolder\\..\\ExternalPayloads\\PsExec.exe\" -Force\n\n```"
  },
  {
   "cell_type": "code",
   "execution_count": null,
   "id": "5dbc0332",
   "metadata": {},
   "outputs": [],
   "source": "Invoke-AtomicTest T1569.002 -TestNumbers 2 -GetPreReqs"
  },
  {
   "cell_type": "markdown",
   "id": "99dde5b4",
   "metadata": {},
   "source": [
    "#### Attack Commands: Run with `command_prompt`\n",
    "```command_prompt\n\"PathToAtomicsFolder\\..\\ExternalPayloads\\PsExec.exe\" \\\\localhost -u DOMAIN\\Administrator -p P@ssw0rd1 -accepteula \"C:\\Windows\\System32\\calc.exe\"\n```"
   ]
  },
  {
   "cell_type": "code",
   "execution_count": null,
   "id": "f257a8e5",
   "metadata": {},
   "outputs": [],
   "source": "Invoke-AtomicTest T1569.002 -TestNumbers 2"
  },
  {
   "cell_type": "markdown",
   "id": "1f44624a",
   "metadata": {},
   "source": "### Atomic Test #3 - psexec.py (Impacket)\nWill execute a command on the remote host with Impacket psexec.py script.\n\n**Supported Platforms:** linux\n#### Dependencies:  Run with `bash`!\n##### Description: psexec.py (Impacket)\n\n##### Check Prereq Commands:\n```bash\nif [ -x \"$(command -v psexec.py)\" ]; then exit 0; else exit 1; fi;\n\n```\n##### Get Prereq Commands:\n```bash\nsudo pip3 install impacket\n\n```"
  },
  {
   "cell_type": "code",
   "execution_count": null,
   "id": "463a4a3d",
   "metadata": {},
   "outputs": [],
   "source": "Invoke-AtomicTest T1569.002 -TestNumbers 3 -GetPreReqs"
  },
  {
   "cell_type": "markdown",
   "id": "f8f72aad",
   "metadata": {},
   "source": [
    "#### Attack Commands: Run with `bash`\n",
    "```bash\npsexec.py '/Administrator:P@ssw0rd1@127.0.0.1' 'whoami'\n```"
   ]
  },
  {
   "cell_type": "code",
   "execution_count": null,
   "id": "20e59f6e",
   "metadata": {},
   "outputs": [],
   "source": "Invoke-AtomicTest T1569.002 -TestNumbers 3"
  },
  {
   "cell_type": "markdown",
   "id": "039bd336",
   "metadata": {},
   "source": "### Atomic Test #4 - BlackCat pre-encryption cmds with Lateral Movement\nThis atomic attempts to emulate the unique behavior of BlackCat ransomware prior to encryption and during Lateral Movement attempts via PsExec on Windows. Uses bundled PsExec like BlackCat\n**Supported Platforms:** windows\n\nElevation Required (e.g. root or admin)\n#### Dependencies:  Run with `powershell`!\n##### Description: PsExec must exist on disk at \"PathToAtomicsFolder\\..\\ExternalPayloads\\PsExec.exe\"\n\n##### Check Prereq Commands:\n```powershell\nif (Test-Path \"PathToAtomicsFolder\\..\\ExternalPayloads\\PsExec.exe\") {exit 0} else {exit 1}\n\n```\n##### Get Prereq Commands:\n```powershell\nInvoke-WebRequest \"https://download.sysinternals.com/files/PSTools.zip\" -OutFile \"PathToAtomicsFolder\\..\\ExternalPayloads\\PsTools.zip\"\nExpand-Archive \"PathToAtomicsFolder\\..\\ExternalPayloads\\PsTools.zip\" \"PathToAtomicsFolder\\..\\ExternalPayloads\\PsTools\" -Force\nNew-Item -ItemType Directory (Split-Path \"PathToAtomicsFolder\\..\\ExternalPayloads\\PsExec.exe\") -Force | Out-Null\nCopy-Item \"PathToAtomicsFolder\\..\\ExternalPayloads\\PsTools\\PsExec.exe\" \"PathToAtomicsFolder\\..\\ExternalPayloads\\PsExec.exe\" -Force\n\n```"
  },
  {
   "cell_type": "code",
   "execution_count": null,
   "id": "1ea3b09b",
   "metadata": {},
   "outputs": [],
   "source": "Invoke-AtomicTest T1569.002 -TestNumbers 4 -GetPreReqs"
  },
  {
   "cell_type": "markdown",
   "id": "38e896a0",
   "metadata": {},
   "source": [
    "#### Attack Commands: Run with `powershell`\n",
    "```powershell\ncmd.exe /c \"wmic \tcsproduct \tget UUID\" \ncmd.exe /c \"fsutil behavior \tset SymlinkEvaluation R2L:1\" \ncmd.exe /c \"fsutil behavior set \tSymlinkEvaluation R2R:1\"\nreg    add    HKEY_LOCAL_MACHINE\\SYSTEM\\CurrentControlSet\\Services\\LanmanServer\\Parameters    /v MaxMpxCt /d 65535 /t REG_DWORD /f      \ncopy \"PathToAtomicsFolder\\..\\ExternalPayloads\\PsExec.exe\" $env:temp\ncmd.exe /c \"$env:temp\\psexec.exe  -accepteula  \\\\$ENV:COMPUTERNAME cmd.exe  /c echo \"--access-token\"\"\n```"
   ]
  },
  {
   "cell_type": "code",
   "execution_count": null,
   "id": "f234a777",
   "metadata": {},
   "outputs": [],
   "source": "Invoke-AtomicTest T1569.002 -TestNumbers 4"
  },
  {
   "cell_type": "markdown",
   "id": "2c651e08",
   "metadata": {},
   "source": "#### Cleanup: \n```powershell\nreg delete HKEY_LOCAL_MACHINE\\SYSTEM\\CurrentControlSet\\Services\\LanmanServer\\Parameters /v MaxMpxCt /f\ncmd.exe /c \"fsutil behavior set SymlinkEvaluation R2L:0\" \ncmd.exe /c \"fsutil behavior set SymlinkEvaluation R2R:0\"\nrm $env:temp\\psexec.exe\n```"
  },
  {
   "cell_type": "code",
   "execution_count": null,
   "id": "c6d79c60",
   "metadata": {},
   "outputs": [],
   "source": "Invoke-AtomicTest T1569.002 -TestNumbers 4 -Cleanup"
  },
  {
   "cell_type": "markdown",
   "id": "6a5c7afe",
   "metadata": {},
   "source": "### Atomic Test #5 - Use RemCom to execute a command on a remote host\nRequires having RemCom installed, path to RemCom is one of the input input_arguments\nWill start a process on a remote host.\nUpon successful execution, cmd will utilize RemCom.exe to spawn calc.exe on a remote endpoint (default:localhost).\n\n**Supported Platforms:** windows\n#### Dependencies:  Run with `powershell`!\n##### Description: RemCom tool must exist on disk in the ExternalPayloads folder\n\n##### Check Prereq Commands:\n```cmd\nif (Test-Path \"PathToAtomicsFolder\\..\\ExternalPayloads\\remcom.exe\") { exit 0} else { exit 1}\n\n```\n##### Get Prereq Commands:\n```cmd\nNew-Item -Type Directory \"PathToAtomicsFolder\\..\\ExternalPayloads\\\" -ErrorAction Ignore -Force | Out-Null\nInvoke-WebRequest \"https://github.com/kavika13/RemCom/raw/master/bin/Release/RemCom.exe\" -OutFile \"PathToAtomicsFolder\\..\\ExternalPayloads\\remcom.exe\"\n\n```"
  },
  {
   "cell_type": "code",
   "execution_count": null,
   "id": "3e88432e",
   "metadata": {},
   "outputs": [],
   "source": "Invoke-AtomicTest T1569.002 -TestNumbers 5 -GetPreReqs"
  },
  {
   "cell_type": "markdown",
   "id": "635bb908",
   "metadata": {},
   "source": [
    "#### Attack Commands: Run with `command_prompt`\n",
    "```command_prompt\n\"PathToAtomicsFolder\\..\\ExternalPayloads\\remcom.exe\" \\\\localhost /user:Administrator /pwd:P@ssw0rd1 cmd.exe\n```"
   ]
  },
  {
   "cell_type": "code",
   "execution_count": null,
   "id": "8f96ee88",
   "metadata": {},
   "outputs": [],
   "source": "Invoke-AtomicTest T1569.002 -TestNumbers 5"
  },
  {
   "cell_type": "markdown",
   "id": "4ce52ae2",
   "metadata": {},
   "source": [
    "### Atomic Test #6 - Snake Malware Service Create",
    "The following Atomic Test will create a new service named WerFaultSvc with a binary path of WinSxS\\x86_microsoft-windows-errorreportingfaults_31bf3856ad364e35_4.0.9600.16384_none_a13f7e283339a050\\WerFault.exe.\nThis was recently seen in the Snake Malware report. \nUpon execution, sc.exe will create a new service named WerFaultSvc with a bin path \\WinSxS\\x86_microsoft-windows-errorreportingfaults_31bf3856ad364e35_4.0.9600.16384_none_a13f7e283339a050\\WerFault.exe and a display name of WerFault Service.\n[Snake Malware - CISA](https://media.defense.gov/2023/May/09/2003218554/-1/-1/0/JOINT_CSA_HUNTING_RU_INTEL_SNAKE_MALWARE_20230509.PDF)  \n",
    "**Supported Platforms:** windows",
    "\nElevation Required (e.g. root or admin)",
    "#### Attack Commands: Run with `command_prompt`\n",
    "```command_prompt\nsc.exe create \"WerFaultSvc\" binPath= \"$env:windir\\WinSxS\\x86_microsoft-windows-errorreportingfaults_31bf3856ad364e35_4.0.9600.16384_none_a13f7e283339a050\\WerFault.exe\" DisplayName= \"WerFault Service\" start= auto\n```"
   ]
  },
  {
   "cell_type": "code",
   "execution_count": null,
   "id": "f0226970",
   "metadata": {},
   "outputs": [],
   "source": "Invoke-AtomicTest T1569.002 -TestNumbers 6"
  },
  {
   "cell_type": "markdown",
   "id": "1f68e490",
   "metadata": {},
   "source": "#### Cleanup: \n```cmd\nsc.exe delete \"WerFaultSvc\"\n```"
  },
  {
   "cell_type": "code",
   "execution_count": null,
   "id": "3904e7fc",
   "metadata": {},
   "outputs": [],
   "source": "Invoke-AtomicTest T1569.002 -TestNumbers 6 -Cleanup"
  },
  {
   "cell_type": "markdown",
   "id": "f7d9cf54",
   "metadata": {},
   "source": "## Detection\nChanges to service Registry entries and command line invocation of tools capable of modifying services that do not correlate with known software, patch cycles, etc., may be suspicious. If a service is used only to execute a binary or script and not to persist, then it will likely be changed back to its original form shortly after the service is restarted so the service is not left broken, as is the case with the common administrator tool [PsExec](https://attack.mitre.org/software/S0029)."
  }
 ],
 "metadata": {
  "kernelspec": {
   "display_name": ".NET (PowerShell)",
   "language": "pwsh",
   "name": ".net-powershell"
  },
  "language_info": {
   "file_extension": ".ps1",
   "mimetype": "text/x-powershell",
   "name": "pwsh",
   "pygments_lexer": "powershell",
   "version": "7.0"
  }
 },
 "nbformat": 4,
 "nbformat_minor": 5
}