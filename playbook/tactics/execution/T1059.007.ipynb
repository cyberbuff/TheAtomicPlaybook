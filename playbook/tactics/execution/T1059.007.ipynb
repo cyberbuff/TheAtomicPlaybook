{
 "cells": [
  {
   "cell_type": "markdown",
   "id": "5a3c9222",
   "metadata": {},
   "source": "# T1059.007 - JavaScript\nAdversaries may abuse various implementations of JavaScript for execution. JavaScript (JS) is a platform-independent scripting language (compiled just-in-time at runtime) commonly associated with scripts in webpages, though JS can be executed in runtime environments outside the browser.(Citation: NodeJS)\n\nJScript is the Microsoft implementation of the same scripting standard. JScript is interpreted via the Windows Script engine and thus integrated with many components of Windows such as the [Component Object Model](https://attack.mitre.org/techniques/T1559/001) and Internet Explorer HTML Application (HTA) pages.(Citation: JScrip May 2018)(Citation: Microsoft JScript 2007)(Citation: Microsoft Windows Scripts)\n\nJavaScript for Automation (JXA) is a macOS scripting language based on JavaScript, included as part of Apple\u2019s Open Scripting Architecture (OSA), that was introduced in OSX 10.10. Apple\u2019s OSA provides scripting capabilities to control applications, interface with the operating system, and bridge access into the rest of Apple\u2019s internal APIs. As of OSX 10.10, OSA only supports two languages, JXA and [AppleScript](https://attack.mitre.org/techniques/T1059/002). Scripts can be executed via the command line utility <code>osascript</code>, they can be compiled into applications or script files via <code>osacompile</code>, and they can be compiled and executed in memory of other programs by leveraging the OSAKit Framework.(Citation: Apple About Mac Scripting 2016)(Citation: SpecterOps JXA 2020)(Citation: SentinelOne macOS Red Team)(Citation: Red Canary Silver Sparrow Feb2021)(Citation: MDSec macOS JXA and VSCode)\n\nAdversaries may abuse various implementations of JavaScript to execute various behaviors. Common uses include hosting malicious scripts on websites as part of a [Drive-by Compromise](https://attack.mitre.org/techniques/T1189) or downloading and executing these script files as secondary payloads. Since these payloads are text-based, it is also very common for adversaries to obfuscate their content as part of [Obfuscated Files or Information](https://attack.mitre.org/techniques/T1027)."
  },
  {
   "cell_type": "markdown",
   "id": "b3f3a41c",
   "metadata": {},
   "source": "## Atomic Tests"
  },
  {
   "cell_type": "markdown",
   "id": "28a41083",
   "metadata": {},
   "source": "### Atomic Test #1 - JScript execution to gather local computer information via cscript\nJScript execution test, execute JScript via cscript command. When successful, system information will be written to $env:TEMP\\T1059.007.out.txt\n**Supported Platforms:** windows\n#### Dependencies:  Run with `powershell`!\n##### Description: Sample script must exist on disk at specified location (#{jscript})\n##### Check Prereq Commands:\n```cmd\nif (Test-Path \"PathToAtomicsFolder\\T1059.007\\src\\sys_info.js\") {exit 0} else {exit 1}\n\n```\n##### Get Prereq Commands:\n```cmd\nNew-Item -ItemType Directory (Split-Path \"PathToAtomicsFolder\\T1059.007\\src\\sys_info.js\") -Force | Out-Null\nInvoke-WebRequest \"https://raw.githubusercontent.com/redcanaryco/atomic-red-team/master/atomics/T1059.007/src/sys_info.js\" -OutFile \"PathToAtomicsFolder\\T1059.007\\src\\sys_info.js\"\n```"
  },
  {
   "cell_type": "code",
   "execution_count": null,
   "id": "00d986a5",
   "metadata": {},
   "outputs": [],
   "source": "Invoke-AtomicTest T1059.007 -TestNumbers 1 -GetPreReqs"
  },
  {
   "cell_type": "markdown",
   "id": "f3b9fda8",
   "metadata": {},
   "source": [
    "#### Attack Commands: Run with `command_prompt`\n",
    "```command_prompt\ncscript \"PathToAtomicsFolder\\T1059.007\\src\\sys_info.js\" > %tmp%\\T1059.007.out.txt\n```"
   ]
  },
  {
   "cell_type": "code",
   "execution_count": null,
   "id": "aa6bf48b",
   "metadata": {},
   "outputs": [],
   "source": "Invoke-AtomicTest T1059.007 -TestNumbers 1"
  },
  {
   "cell_type": "markdown",
   "id": "e82b0516",
   "metadata": {},
   "source": "#### Cleanup: \n```cmd\ndel %tmp%\\T1059.007.out.txt >nul 2>&1```"
  },
  {
   "cell_type": "code",
   "execution_count": null,
   "id": "bb8ba316",
   "metadata": {},
   "outputs": [],
   "source": "Invoke-AtomicTest T1059.007 -TestNumbers 1 -Cleanup"
  },
  {
   "cell_type": "markdown",
   "id": "9834b4ec",
   "metadata": {},
   "source": "### Atomic Test #2 - JScript execution to gather local computer information via wscript\nJScript execution test, execute JScript via wscript command. When successful, system information will be shown with four message boxes.\n**Supported Platforms:** windows\n#### Dependencies:  Run with `powershell`!\n##### Description: Sample script must exist on disk at specified location (#{jscript})\n##### Check Prereq Commands:\n```cmd\nif (Test-Path \"PathToAtomicsFolder\\T1059.007\\src\\sys_info.js\") {exit 0} else {exit 1}\n\n```\n##### Get Prereq Commands:\n```cmd\nNew-Item -ItemType Directory (Split-Path \"PathToAtomicsFolder\\T1059.007\\src\\sys_info.js\") -Force | Out-Null\nInvoke-WebRequest \"https://raw.githubusercontent.com/redcanaryco/atomic-red-team/master/atomics/T1059.007/src/sys_info.js\" -OutFile \"PathToAtomicsFolder\\T1059.007\\src\\sys_info.js\"\n```"
  },
  {
   "cell_type": "code",
   "execution_count": null,
   "id": "45aef618",
   "metadata": {},
   "outputs": [],
   "source": "Invoke-AtomicTest T1059.007 -TestNumbers 2 -GetPreReqs"
  },
  {
   "cell_type": "markdown",
   "id": "cd13a65f",
   "metadata": {},
   "source": [
    "#### Attack Commands: Run with `command_prompt`\n",
    "```command_prompt\nwscript \"PathToAtomicsFolder\\T1059.007\\src\\sys_info.js\"\n```"
   ]
  },
  {
   "cell_type": "code",
   "execution_count": null,
   "id": "4fd173ec",
   "metadata": {},
   "outputs": [],
   "source": "Invoke-AtomicTest T1059.007 -TestNumbers 2"
  },
  {
   "cell_type": "markdown",
   "id": "e24d8353",
   "metadata": {},
   "source": "## Detection\nMonitor for events associated with scripting execution, such as process activity, usage of the Windows Script Host (typically cscript.exe or wscript.exe), file activity involving scripts, or loading of modules associated with scripting languages (ex: JScript.dll). Scripting execution is likely to perform actions with various effects on a system that may generate events, depending on the types of monitoring used. Monitor processes and command-line arguments for execution and subsequent behavior. Actions may be related to network and system information [Discovery](https://attack.mitre.org/tactics/TA0007), [Collection](https://attack.mitre.org/tactics/TA0009), or other programmable post-compromise behaviors and could be used as indicators of detection leading back to the source.\n\nMonitor for execution of JXA through <code>osascript</code> and usage of <code>OSAScript</code> API that may be related to other suspicious behavior occurring on the system.\n\nUnderstanding standard usage patterns is important to avoid a high number of false positives. If scripting is restricted for normal users, then any attempts to enable related components running on a system would be considered suspicious. If scripting is not commonly used on a system, but enabled, execution running out of cycle from patching or other administrator functions is suspicious. Scripts should be captured from the file system when possible to determine their actions and intent."
  }
 ],
 "metadata": {
  "kernelspec": {
   "display_name": ".NET (PowerShell)",
   "language": "pwsh",
   "name": ".net-powershell"
  },
  "language_info": {
   "file_extension": ".ps1",
   "mimetype": "text/x-powershell",
   "name": "pwsh",
   "pygments_lexer": "powershell",
   "version": "7.0"
  }
 },
 "nbformat": 4,
 "nbformat_minor": 5
}