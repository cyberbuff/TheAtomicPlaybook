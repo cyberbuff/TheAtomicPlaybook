{
 "cells": [
  {
   "cell_type": "markdown",
   "id": "9a4053c6",
   "metadata": {},
   "source": "# T1559 - Inter-Process Communication\nAdversaries may abuse inter-process communication (IPC) mechanisms for local code or command execution. IPC is typically used by processes to share data, communicate with each other, or synchronize execution. IPC is also commonly used to avoid situations such as deadlocks, which occurs when processes are stuck in a cyclic waiting pattern. \n\nAdversaries may abuse IPC to execute arbitrary code or commands. IPC mechanisms may differ depending on OS, but typically exists in a form accessible through programming languages/libraries or native interfaces such as Windows [Dynamic Data Exchange](https://attack.mitre.org/techniques/T1559/002) or [Component Object Model](https://attack.mitre.org/techniques/T1559/001). Linux environments support several different IPC mechanisms, two of which being sockets and pipes.(Citation: Linux IPC) Higher level execution mediums, such as those of [Command and Scripting Interpreter](https://attack.mitre.org/techniques/T1059)s, may also leverage underlying IPC mechanisms. Adversaries may also use [Remote Services](https://attack.mitre.org/techniques/T1021) such as [Distributed Component Object Model](https://attack.mitre.org/techniques/T1021/003) to facilitate remote IPC execution.(Citation: Fireeye Hunting COM June 2019)"
  },
  {
   "cell_type": "markdown",
   "id": "2ab86767",
   "metadata": {},
   "source": "## Atomic Tests"
  },
  {
   "cell_type": "markdown",
   "id": "155258d1",
   "metadata": {},
   "source": "### Atomic Test #1 - Cobalt Strike Artifact Kit pipe\nUses the [Named Pipes Micro Emulation](https://github.com/center-for-threat-informed-defense/adversary_emulation_library/tree/master/micro_emulation_plans/src/named_pipes) executable from the Center for Threat Informed Defense to create a named pipe for inter-process communication.\n\nThe named pipe executable will pause for 30 seconds to allow the client and server to exchange a message through the pipe.\n\n**Supported Platforms:** windows\n#### Dependencies:  Run with `powershell`!\n##### Description: Named pipe executors must exist on disk\n\n##### Check Prereq Commands:\n```cmd\nif ((Test-Path \"PathToAtomicsFolder\\..\\ExternalPayloads\\build\\namedpipes_executor.exe\") -and (Test-Path \"PathToAtomicsFolder\\..\\ExternalPayloads\\build\\namedpipes_client.exe\") -and (Test-Path \"PathToAtomicsFolder\\..\\ExternalPayloads\\build\\namedpipes_server.exe\")) {exit 0} else {exit 1}\n\n```\n##### Get Prereq Commands:\n```cmd\nNew-Item -Type Directory \"PathToAtomicsFolder\\..\\ExternalPayloads\\\" -ErrorAction ignore -Force | Out-Null\n[Net.ServicePointManager]::SecurityProtocol = [Net.SecurityProtocolType]::Tls12\nIEX (iwr \"https://raw.githubusercontent.com/redcanaryco/invoke-atomicredteam/master/Public/Invoke-FetchFromZip.ps1\" -UseBasicParsing)\n$zipUrl  = \"https://github.com/center-for-threat-informed-defense/adversary_emulation_library/raw/master/micro_emulation_plans/src/named_pipes/named_pipes.zip\"\nInvoke-FetchFromZip $zipUrl \"*.exe\" \"PathToAtomicsFolder\\..\\ExternalPayloads\"\n\n```"
  },
  {
   "cell_type": "code",
   "execution_count": null,
   "id": "f1b1fb87",
   "metadata": {},
   "outputs": [],
   "source": "Invoke-AtomicTest T1559 -TestNumbers 1 -GetPreReqs"
  },
  {
   "cell_type": "markdown",
   "id": "2a083c82",
   "metadata": {},
   "source": [
    "#### Attack Commands: Run with `command_prompt`\n",
    "```command_prompt\n\"PathToAtomicsFolder\\..\\ExternalPayloads\\build\\namedpipes_executor.exe\" --pipe 1\n```"
   ]
  },
  {
   "cell_type": "code",
   "execution_count": null,
   "id": "a9b0de47",
   "metadata": {},
   "outputs": [],
   "source": "Invoke-AtomicTest T1559 -TestNumbers 1"
  },
  {
   "cell_type": "markdown",
   "id": "9677c46e",
   "metadata": {},
   "source": "### Atomic Test #2 - Cobalt Strike Lateral Movement (psexec_psh) pipe\nUses the [Named Pipes Micro Emulation](https://github.com/center-for-threat-informed-defense/adversary_emulation_library/tree/master/micro_emulation_plans/src/named_pipes) executable from the Center for Threat Informed Defense to create a named pipe for inter-process communication.\n\nThe named pipe executable will pause for 30 seconds to allow the client and server to exchange a message through the pipe.\n\n**Supported Platforms:** windows\n#### Dependencies:  Run with `powershell`!\n##### Description: Named pipe executors must exist on disk\n\n##### Check Prereq Commands:\n```cmd\nif ((Test-Path \"PathToAtomicsFolder\\..\\ExternalPayloads\\build\\namedpipes_executor.exe\") -and (Test-Path \"PathToAtomicsFolder\\..\\ExternalPayloads\\build\\namedpipes_client.exe\") -and (Test-Path \"PathToAtomicsFolder\\..\\ExternalPayloads\\build\\namedpipes_server.exe\")) {exit 0} else {exit 1}\n\n```\n##### Get Prereq Commands:\n```cmd\nNew-Item -Type Directory \"PathToAtomicsFolder\\..\\ExternalPayloads\\\" -ErrorAction ignore -Force | Out-Null\n[Net.ServicePointManager]::SecurityProtocol = [Net.SecurityProtocolType]::Tls12\nIEX (iwr \"https://raw.githubusercontent.com/redcanaryco/invoke-atomicredteam/master/Public/Invoke-FetchFromZip.ps1\" -UseBasicParsing)\n$zipUrl  = \"https://github.com/center-for-threat-informed-defense/adversary_emulation_library/raw/master/micro_emulation_plans/src/named_pipes/named_pipes.zip\"\nInvoke-FetchFromZip $zipUrl \"*.exe\" \"PathToAtomicsFolder\\..\\ExternalPayloads\"\n\n```"
  },
  {
   "cell_type": "code",
   "execution_count": null,
   "id": "f0756c1f",
   "metadata": {},
   "outputs": [],
   "source": "Invoke-AtomicTest T1559 -TestNumbers 2 -GetPreReqs"
  },
  {
   "cell_type": "markdown",
   "id": "8ab7234f",
   "metadata": {},
   "source": [
    "#### Attack Commands: Run with `command_prompt`\n",
    "```command_prompt\n\"PathToAtomicsFolder\\..\\ExternalPayloads\\build\\namedpipes_executor.exe\" --pipe 2\n```"
   ]
  },
  {
   "cell_type": "code",
   "execution_count": null,
   "id": "383855b9",
   "metadata": {},
   "outputs": [],
   "source": "Invoke-AtomicTest T1559 -TestNumbers 2"
  },
  {
   "cell_type": "markdown",
   "id": "12528cd6",
   "metadata": {},
   "source": "### Atomic Test #3 - Cobalt Strike SSH (postex_ssh) pipe\nUses the [Named Pipes Micro Emulation](https://github.com/center-for-threat-informed-defense/adversary_emulation_library/tree/master/micro_emulation_plans/src/named_pipes) executable from the Center for Threat Informed Defense to create a named pipe for inter-process communication.\n\nThe named pipe executable will pause for 30 seconds to allow the client and server to exchange a message through the pipe.\n\n**Supported Platforms:** windows\n#### Dependencies:  Run with `powershell`!\n##### Description: Named pipe executors must exist on disk\n\n##### Check Prereq Commands:\n```cmd\nif ((Test-Path \"PathToAtomicsFolder\\..\\ExternalPayloads\\build\\namedpipes_executor.exe\") -and (Test-Path \"PathToAtomicsFolder\\..\\ExternalPayloads\\build\\namedpipes_client.exe\") -and (Test-Path \"PathToAtomicsFolder\\..\\ExternalPayloads\\build\\namedpipes_server.exe\")) {exit 0} else {exit 1}\n\n```\n##### Get Prereq Commands:\n```cmd\nNew-Item -Type Directory \"PathToAtomicsFolder\\..\\ExternalPayloads\\\" -ErrorAction ignore -Force | Out-Null\n[Net.ServicePointManager]::SecurityProtocol = [Net.SecurityProtocolType]::Tls12\nIEX (iwr \"https://raw.githubusercontent.com/redcanaryco/invoke-atomicredteam/master/Public/Invoke-FetchFromZip.ps1\" -UseBasicParsing)\n$zipUrl  = \"https://github.com/center-for-threat-informed-defense/adversary_emulation_library/raw/master/micro_emulation_plans/src/named_pipes/named_pipes.zip\"\nInvoke-FetchFromZip $zipUrl \"*.exe\" \"PathToAtomicsFolder\\..\\ExternalPayloads\"\n\n```"
  },
  {
   "cell_type": "code",
   "execution_count": null,
   "id": "080dd68a",
   "metadata": {},
   "outputs": [],
   "source": "Invoke-AtomicTest T1559 -TestNumbers 3 -GetPreReqs"
  },
  {
   "cell_type": "markdown",
   "id": "32a324d9",
   "metadata": {},
   "source": [
    "#### Attack Commands: Run with `command_prompt`\n",
    "```command_prompt\n\"PathToAtomicsFolder\\..\\ExternalPayloads\\build\\namedpipes_executor.exe\" --pipe 3\n```"
   ]
  },
  {
   "cell_type": "code",
   "execution_count": null,
   "id": "d38f6c34",
   "metadata": {},
   "outputs": [],
   "source": "Invoke-AtomicTest T1559 -TestNumbers 3"
  },
  {
   "cell_type": "markdown",
   "id": "68664408",
   "metadata": {},
   "source": "### Atomic Test #4 - Cobalt Strike post-exploitation pipe (4.2 and later)\nUses the [Named Pipes Micro Emulation](https://github.com/center-for-threat-informed-defense/adversary_emulation_library/tree/master/micro_emulation_plans/src/named_pipes) executable from the Center for Threat Informed Defense to create a named pipe for inter-process communication.\n\nThe named pipe executable will pause for 30 seconds to allow the client and server to exchange a message through the pipe.\n\n**Supported Platforms:** windows\n#### Dependencies:  Run with `powershell`!\n##### Description: Named pipe executors must exist on disk\n\n##### Check Prereq Commands:\n```cmd\nif ((Test-Path \"PathToAtomicsFolder\\..\\ExternalPayloads\\build\\namedpipes_executor.exe\") -and (Test-Path \"PathToAtomicsFolder\\..\\ExternalPayloads\\build\\namedpipes_client.exe\") -and (Test-Path \"PathToAtomicsFolder\\..\\ExternalPayloads\\build\\namedpipes_server.exe\")) {exit 0} else {exit 1}\n\n```\n##### Get Prereq Commands:\n```cmd\nNew-Item -Type Directory \"PathToAtomicsFolder\\..\\ExternalPayloads\\\" -ErrorAction ignore -Force | Out-Null\n[Net.ServicePointManager]::SecurityProtocol = [Net.SecurityProtocolType]::Tls12\nIEX (iwr \"https://raw.githubusercontent.com/redcanaryco/invoke-atomicredteam/master/Public/Invoke-FetchFromZip.ps1\" -UseBasicParsing)\n$zipUrl  = \"https://github.com/center-for-threat-informed-defense/adversary_emulation_library/raw/master/micro_emulation_plans/src/named_pipes/named_pipes.zip\"\nInvoke-FetchFromZip $zipUrl \"*.exe\" \"PathToAtomicsFolder\\..\\ExternalPayloads\"\n\n```"
  },
  {
   "cell_type": "code",
   "execution_count": null,
   "id": "fee2f7bc",
   "metadata": {},
   "outputs": [],
   "source": "Invoke-AtomicTest T1559 -TestNumbers 4 -GetPreReqs"
  },
  {
   "cell_type": "markdown",
   "id": "b762f90f",
   "metadata": {},
   "source": [
    "#### Attack Commands: Run with `command_prompt`\n",
    "```command_prompt\n\"PathToAtomicsFolder\\..\\ExternalPayloads\\build\\namedpipes_executor.exe\" --pipe 4\n```"
   ]
  },
  {
   "cell_type": "code",
   "execution_count": null,
   "id": "26a65e83",
   "metadata": {},
   "outputs": [],
   "source": "Invoke-AtomicTest T1559 -TestNumbers 4"
  },
  {
   "cell_type": "markdown",
   "id": "dd99f9b5",
   "metadata": {},
   "source": "### Atomic Test #5 - Cobalt Strike post-exploitation pipe (before 4.2)\nUses the [Named Pipes Micro Emulation](https://github.com/center-for-threat-informed-defense/adversary_emulation_library/tree/master/micro_emulation_plans/src/named_pipes) executable from the Center for Threat Informed Defense to create a named pipe for inter-process communication.\n\nThe named pipe executable will pause for 30 seconds to allow the client and server to exchange a message through the pipe.\n\n**Supported Platforms:** windows\n#### Dependencies:  Run with `powershell`!\n##### Description: Named pipe executors must exist on disk\n\n##### Check Prereq Commands:\n```cmd\nif ((Test-Path \"PathToAtomicsFolder\\..\\ExternalPayloads\\build\\namedpipes_executor.exe\") -and (Test-Path \"PathToAtomicsFolder\\..\\ExternalPayloads\\build\\namedpipes_client.exe\") -and (\"Test-Path PathToAtomicsFolder\\..\\ExternalPayloads\\build\\namedpipes_server.exe\")) {exit 0} else {exit 1}\n\n```\n##### Get Prereq Commands:\n```cmd\nNew-Item -Type Directory \"PathToAtomicsFolder\\..\\ExternalPayloads\\\" -ErrorAction ignore -Force | Out-Null\n[Net.ServicePointManager]::SecurityProtocol = [Net.SecurityProtocolType]::Tls12\nIEX (iwr \"https://raw.githubusercontent.com/redcanaryco/invoke-atomicredteam/master/Public/Invoke-FetchFromZip.ps1\" -UseBasicParsing)\n$zipUrl  = \"https://github.com/center-for-threat-informed-defense/adversary_emulation_library/raw/master/micro_emulation_plans/src/named_pipes/named_pipes.zip\"\nInvoke-FetchFromZip $zipUrl \"*.exe\" \"PathToAtomicsFolder\\..\\ExternalPayloads\"\n\n```"
  },
  {
   "cell_type": "code",
   "execution_count": null,
   "id": "571e6077",
   "metadata": {},
   "outputs": [],
   "source": "Invoke-AtomicTest T1559 -TestNumbers 5 -GetPreReqs"
  },
  {
   "cell_type": "markdown",
   "id": "32249b94",
   "metadata": {},
   "source": [
    "#### Attack Commands: Run with `command_prompt`\n",
    "```command_prompt\n\"PathToAtomicsFolder\\..\\ExternalPayloads\\build\\namedpipes_executor.exe\" --pipe 5\n```"
   ]
  },
  {
   "cell_type": "code",
   "execution_count": null,
   "id": "57589075",
   "metadata": {},
   "outputs": [],
   "source": "Invoke-AtomicTest T1559 -TestNumbers 5"
  },
  {
   "cell_type": "markdown",
   "id": "a821b2a6",
   "metadata": {},
   "source": "## Detection\nMonitor for strings in files/commands, loaded DLLs/libraries, or spawned processes that are associated with abuse of IPC mechanisms."
  },
  {
   "cell_type": "markdown",
   "id": "bb99ffbd",
   "metadata": {},
   "source": "\n## Shield Active Defense\n### Software Manipulation \n Make changes to a system's software properties and functions to achieve a desired effect. \n\n Software Manipulation allows a defender to alter or replace elements of the operating system, file system, or any other software installed and executed on a system.\n#### Opportunity\nThere is an opportunity for the defender to observe the adversary and control what they can see, what effects they can have, and/or what data they can access.\n#### Use Case\nA defender can modify system calls to break communications, route things to decoy systems, prevent full execution, etc.\n#### Procedures\nHook the Win32 Sleep() function so that it always performs a Sleep(1) instead of the intended duration. This can increase the speed at which dynamic analysis can be performed when a normal malicious file sleeps for long periods before attempting additional capabilities.\nHook the Win32 NetUserChangePassword() and modify it such that the new password is different from the one provided. The data passed into the function is encrypted along with the modified new password, then logged so a defender can get alerted about the change as well as decrypt the new password for use.\nAlter the output of an adversary's profiling commands to make newly-built systems look like the operating system was installed months earlier.\nAlter the output of adversary recon commands to not show important assets, such as a file server containing sensitive data.\n"
  }
 ],
 "metadata": {
  "kernelspec": {
   "display_name": ".NET (PowerShell)",
   "language": "pwsh",
   "name": ".net-powershell"
  },
  "language_info": {
   "file_extension": ".ps1",
   "mimetype": "text/x-powershell",
   "name": "pwsh",
   "pygments_lexer": "powershell",
   "version": "7.0"
  }
 },
 "nbformat": 4,
 "nbformat_minor": 5
}